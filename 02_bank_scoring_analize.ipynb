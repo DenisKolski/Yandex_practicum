{
 "cells": [
  {
   "cell_type": "markdown",
   "metadata": {},
   "source": [
    "# Исследование надёжности заёмщиков\n",
    "\n",
    "Заказчик — кредитный отдел банка. Нужно разобраться, влияет ли семейное положение и количество детей клиента на факт погашения кредита в срок. Входные данные от банка — статистика о платёжеспособности клиентов.\n",
    "\n",
    "Результаты исследования будут учтены при построении модели **кредитного скоринга** — специальной системы, которая оценивает способность потенциального заёмщика вернуть кредит банку."
   ]
  },
  {
   "cell_type": "markdown",
   "metadata": {},
   "source": [
    "## Шаг 1. Откройте файл с данными и изучите общую информацию"
   ]
  },
  {
   "cell_type": "code",
   "execution_count": 2,
   "metadata": {},
   "outputs": [
    {
     "name": "stdout",
     "output_type": "stream",
     "text": [
      "<class 'pandas.core.frame.DataFrame'>\n",
      "RangeIndex: 21525 entries, 0 to 21524\n",
      "Data columns (total 12 columns):\n",
      "children            21525 non-null int64\n",
      "days_employed       19351 non-null float64\n",
      "dob_years           21525 non-null int64\n",
      "education           21525 non-null object\n",
      "education_id        21525 non-null int64\n",
      "family_status       21525 non-null object\n",
      "family_status_id    21525 non-null int64\n",
      "gender              21525 non-null object\n",
      "income_type         21525 non-null object\n",
      "debt                21525 non-null int64\n",
      "total_income        19351 non-null float64\n",
      "purpose             21525 non-null object\n",
      "dtypes: float64(2), int64(5), object(5)\n",
      "memory usage: 2.0+ MB\n"
     ]
    }
   ],
   "source": [
    "import pandas as pd\n",
    "df = pd.read_csv('/datasets/data.csv')\n",
    "df.info()\n"
   ]
  },
  {
   "cell_type": "markdown",
   "metadata": {},
   "source": [
    "**Прошу прощения за опечатки. Что-то не могу настроить проверку правописания здесь, хотя на других страницах проверяет. ***"
   ]
  },
  {
   "cell_type": "code",
   "execution_count": 3,
   "metadata": {},
   "outputs": [
    {
     "data": {
      "text/plain": [
       "children               0\n",
       "days_employed       2174\n",
       "dob_years              0\n",
       "education              0\n",
       "education_id           0\n",
       "family_status          0\n",
       "family_status_id       0\n",
       "gender                 0\n",
       "income_type            0\n",
       "debt                   0\n",
       "total_income        2174\n",
       "purpose                0\n",
       "dtype: int64"
      ]
     },
     "execution_count": 3,
     "metadata": {},
     "output_type": "execute_result"
    }
   ],
   "source": [
    "df.isna().sum()"
   ]
  },
  {
   "cell_type": "markdown",
   "metadata": {},
   "source": [
    "Проблема: \n",
    "пропущены значения в двух столбцах: days_employed общий трудовой стаж и total_income ежемесячный доход. \n",
    "\n",
    "Причины:  \n",
    "по обоим параметрам, скорее всего не предоставлены справки о доходах с места работы, доход не подтвержден. А параметр income_type, тип занятости, записан со слов клиентов без подтверждения, поэтому в нем пропуском нет.\n",
    "\n",
    "Подход к решению проблемы: \n",
    "1) Общий трудовой стаж у нас не фигурирует в качестве переменной в перечне вопросов от которой зависит успешность погашения кредита.\n",
    "2) Доход является важнейшей частью кредитного скоринга. Можно записать нулевой доход, но это неправильно, так как люди на что-то живут и какой-то доход есть, но они, наверное, его не могут подтвердить. Записать средний тоже неправильно, так как какие на это есть основания? Если это теневая занятость, то она характеризуется более нестабильным доходом. С другой стороны банк работает с клиентами без подтверждения дохода, очевидно, такие клиенты являются более рискованными. Но банк, желая расширить количество потенциальных клиентов, вынужден работать и с такими клиента, увеличивая свои риски за счет возможного повышения доходности. \n",
    "\n",
    "Предлагаемое решение: \n",
    "1. Для общего трудового стажа пропуски заменим на 0. Так как в колонке со стажем данные некорректы. \n",
    "2. Для ежемесячного дохода заменин пропуски на нули, имея в виду, что наши статистические характеристики будут смещены из-за нулевых доходов. Поэтому с нулевыми доходами надо работать отдельно, понимая что это особая категория, потенциально более рискованных клиентов.   \n"
   ]
  },
  {
   "cell_type": "code",
   "execution_count": 4,
   "metadata": {},
   "outputs": [
    {
     "data": {
      "text/plain": [
       "children            2174\n",
       "days_employed          0\n",
       "dob_years           2174\n",
       "education           2174\n",
       "education_id        2174\n",
       "family_status       2174\n",
       "family_status_id    2174\n",
       "gender              2174\n",
       "income_type         2174\n",
       "debt                2174\n",
       "total_income           0\n",
       "purpose             2174\n",
       "dtype: int64"
      ]
     },
     "execution_count": 4,
     "metadata": {},
     "output_type": "execute_result"
    }
   ],
   "source": [
    "df_nan = df[df['days_employed'].isna()]\n",
    "df_nan = df[df['total_income'].isna()]\n",
    "df_nan.count()"
   ]
  },
  {
   "cell_type": "markdown",
   "metadata": {},
   "source": [
    "Там где пропущен days_employed также пропущен и total_income ежемесячный доход и наоборот. Предположение о причинах пропусков в виде не предоставления документов с места работы становиться в этом случае еще более вероятным.\n"
   ]
  },
  {
   "cell_type": "markdown",
   "metadata": {},
   "source": [
    "Из-за наличия NaN, пропущенных значений столбцы days_employed и total_income имеют тип float64. Если для последнего это вполне может быть, то для первого это некорректно. \n"
   ]
  },
  {
   "cell_type": "code",
   "execution_count": 5,
   "metadata": {},
   "outputs": [
    {
     "data": {
      "text/plain": [
       " 0     14149\n",
       " 1      4818\n",
       " 2      2055\n",
       " 3       330\n",
       " 20       76\n",
       "-1        47\n",
       " 4        41\n",
       " 5         9\n",
       "Name: children, dtype: int64"
      ]
     },
     "execution_count": 5,
     "metadata": {},
     "output_type": "execute_result"
    }
   ],
   "source": [
    "df['children'].value_counts()"
   ]
  },
  {
   "cell_type": "markdown",
   "metadata": {},
   "source": [
    "В столбце children выявлены отрицательные значения и крайне маловероятное количество детей 20 при отсутствии строк c количеством детей в диапазоне от 6 до 19. Поэтому наиболее вероятно, что -1 это 1, а 20 это 2. "
   ]
  },
  {
   "cell_type": "code",
   "execution_count": 6,
   "metadata": {},
   "outputs": [
    {
     "data": {
      "text/plain": [
       "count     19351.000000\n",
       "mean      66914.728907\n",
       "std      139030.880527\n",
       "min          24.141633\n",
       "25%         927.009265\n",
       "50%        2194.220567\n",
       "75%        5537.882441\n",
       "max      401755.400475\n",
       "Name: days_employed, dtype: float64"
      ]
     },
     "execution_count": 6,
     "metadata": {},
     "output_type": "execute_result"
    }
   ],
   "source": [
    "df['days_employed'] = df['days_employed'].apply(abs) #уберем отрицательные значения\n",
    "df['days_employed'].describe()"
   ]
  },
  {
   "cell_type": "code",
   "execution_count": 7,
   "metadata": {},
   "outputs": [
    {
     "data": {
      "text/plain": [
       "0          8437.673028\n",
       "1          4024.803754\n",
       "2          5623.422610\n",
       "3          4124.747207\n",
       "4        340266.072047\n",
       "             ...      \n",
       "21520      4529.316663\n",
       "21521    343937.404131\n",
       "21522      2113.346888\n",
       "21523      3112.481705\n",
       "21524      1984.507589\n",
       "Name: days_employed, Length: 21525, dtype: float64"
      ]
     },
     "execution_count": 7,
     "metadata": {},
     "output_type": "execute_result"
    }
   ],
   "source": [
    "df['days_employed'].abs()"
   ]
  },
  {
   "cell_type": "markdown",
   "metadata": {},
   "source": [
    "Медианный трудовой стаж составляет 183 года. Должно быть у нас клиенты эльфу и для них более высокий срок выхода на пенсию))\n",
    "Столбец с трудовым стражем заполнен некорректо, видимо, какая-то техническая ошибка. "
   ]
  },
  {
   "cell_type": "code",
   "execution_count": 8,
   "metadata": {},
   "outputs": [
    {
     "data": {
      "text/plain": [
       "35    617\n",
       "40    609\n",
       "41    607\n",
       "34    603\n",
       "38    598\n",
       "42    597\n",
       "33    581\n",
       "39    573\n",
       "31    560\n",
       "36    555\n",
       "44    547\n",
       "29    545\n",
       "30    540\n",
       "48    538\n",
       "37    537\n",
       "50    514\n",
       "43    513\n",
       "32    510\n",
       "49    508\n",
       "28    503\n",
       "45    497\n",
       "27    493\n",
       "56    487\n",
       "52    484\n",
       "47    480\n",
       "54    479\n",
       "46    475\n",
       "58    461\n",
       "57    460\n",
       "53    459\n",
       "51    448\n",
       "59    444\n",
       "55    443\n",
       "26    408\n",
       "60    377\n",
       "25    357\n",
       "61    355\n",
       "62    352\n",
       "63    269\n",
       "64    265\n",
       "24    264\n",
       "23    254\n",
       "65    194\n",
       "66    183\n",
       "22    183\n",
       "67    167\n",
       "21    111\n",
       "0     101\n",
       "68     99\n",
       "69     85\n",
       "70     65\n",
       "71     58\n",
       "20     51\n",
       "72     33\n",
       "19     14\n",
       "73      8\n",
       "74      6\n",
       "75      1\n",
       "Name: dob_years, dtype: int64"
      ]
     },
     "execution_count": 8,
     "metadata": {},
     "output_type": "execute_result"
    }
   ],
   "source": [
    "df['dob_years'].value_counts()\n"
   ]
  },
  {
   "cell_type": "markdown",
   "metadata": {},
   "source": [
    "Нулевой возраст некорректен"
   ]
  },
  {
   "cell_type": "markdown",
   "metadata": {},
   "source": [
    "**Вывод**"
   ]
  },
  {
   "cell_type": "markdown",
   "metadata": {},
   "source": [
    "Выявили пропущенные значения в данных, определили некорректно заполненные столбцы, выявили неправильные типы данных для некоторых столбцов. "
   ]
  },
  {
   "cell_type": "markdown",
   "metadata": {},
   "source": [
    "## Шаг 2. Предобработка данных"
   ]
  },
  {
   "cell_type": "markdown",
   "metadata": {},
   "source": [
    "### Обработка пропусков"
   ]
  },
  {
   "cell_type": "code",
   "execution_count": 9,
   "metadata": {},
   "outputs": [
    {
     "data": {
      "text/plain": [
       " 0     14149\n",
       " 1      4818\n",
       " 2      2055\n",
       " 3       330\n",
       " 20       76\n",
       "-1        47\n",
       " 4        41\n",
       " 5         9\n",
       "Name: children, dtype: int64"
      ]
     },
     "execution_count": 9,
     "metadata": {},
     "output_type": "execute_result"
    }
   ],
   "source": [
    "df.children.value_counts()"
   ]
  },
  {
   "cell_type": "code",
   "execution_count": 10,
   "metadata": {},
   "outputs": [],
   "source": [
    "df['children'] = df['children'].replace([-1,20], [1, 2])"
   ]
  },
  {
   "cell_type": "code",
   "execution_count": 11,
   "metadata": {},
   "outputs": [],
   "source": [
    "df['total_income'] = df['total_income'].fillna(0)"
   ]
  },
  {
   "cell_type": "code",
   "execution_count": 12,
   "metadata": {},
   "outputs": [],
   "source": [
    "df['days_employed'] = df['days_employed'].fillna(0)"
   ]
  },
  {
   "cell_type": "code",
   "execution_count": 13,
   "metadata": {},
   "outputs": [
    {
     "name": "stdout",
     "output_type": "stream",
     "text": [
      "<class 'pandas.core.frame.DataFrame'>\n",
      "RangeIndex: 21525 entries, 0 to 21524\n",
      "Data columns (total 12 columns):\n",
      "children            21525 non-null int64\n",
      "days_employed       21525 non-null float64\n",
      "dob_years           21525 non-null int64\n",
      "education           21525 non-null object\n",
      "education_id        21525 non-null int64\n",
      "family_status       21525 non-null object\n",
      "family_status_id    21525 non-null int64\n",
      "gender              21525 non-null object\n",
      "income_type         21525 non-null object\n",
      "debt                21525 non-null int64\n",
      "total_income        21525 non-null float64\n",
      "purpose             21525 non-null object\n",
      "dtypes: float64(2), int64(5), object(5)\n",
      "memory usage: 2.0+ MB\n"
     ]
    }
   ],
   "source": [
    "df.info()"
   ]
  },
  {
   "cell_type": "code",
   "execution_count": 14,
   "metadata": {},
   "outputs": [
    {
     "data": {
      "text/plain": [
       "children            0\n",
       "days_employed       0\n",
       "dob_years           0\n",
       "education           0\n",
       "education_id        0\n",
       "family_status       0\n",
       "family_status_id    0\n",
       "gender              0\n",
       "income_type         0\n",
       "debt                0\n",
       "total_income        0\n",
       "purpose             0\n",
       "dtype: int64"
      ]
     },
     "execution_count": 14,
     "metadata": {},
     "output_type": "execute_result"
    }
   ],
   "source": [
    "df.isna().sum()"
   ]
  },
  {
   "cell_type": "markdown",
   "metadata": {},
   "source": [
    "**Вывод**"
   ]
  },
  {
   "cell_type": "markdown",
   "metadata": {},
   "source": [
    "Пропуски заменили на 0 (описано выше), количество детей привели в соответствии со здравым смыслом. Что делать с days_employed без пояснений со стороны дата инженера или разработчика непонятно, так как там явные ошибки."
   ]
  },
  {
   "cell_type": "markdown",
   "metadata": {},
   "source": [
    "### Замена типа данных"
   ]
  },
  {
   "cell_type": "code",
   "execution_count": 15,
   "metadata": {},
   "outputs": [],
   "source": [
    "dob_years_mean = df['dob_years'].mean()\n",
    "df['dob_years']= df['dob_years'].replace(0, dob_years_mean)\n",
    "df['dob_years']= df['dob_years'].astype('int')\n",
    "df['education'] = df['education'].str.lower()\n",
    "df['total_income'] =  df['total_income'].astype('int')\n",
    "df['days_employed'] =  df['days_employed'].astype('int')"
   ]
  },
  {
   "cell_type": "markdown",
   "metadata": {},
   "source": [
    "**Вывод**"
   ]
  },
  {
   "cell_type": "markdown",
   "metadata": {},
   "source": [
    "Образование в исходном файле было написано разным образом: использовались строчные и заглавные буквы. Перевели все к строчным.\n",
    "Нулевой возраст заменили на средний, так как новорожденные не могут брать кредит. \n",
    "Возраст в данном случае целочисленный, нет дробных значений.\n",
    "Зарплаты имеют также целочисленные значения, но они не были распознаны правильно из-за пропуска и Pandas определил по умолчанию поставил тип float64.\n",
    "Общий трудовой стаж в днях также целочисленный тип.\n",
    "Изменение типов данных применялось ко всему столбцу, поэтому применяли astype()"
   ]
  },
  {
   "cell_type": "markdown",
   "metadata": {},
   "source": [
    "### Обработка дубликатов"
   ]
  },
  {
   "cell_type": "code",
   "execution_count": 16,
   "metadata": {},
   "outputs": [
    {
     "name": "stdout",
     "output_type": "stream",
     "text": [
      "<class 'pandas.core.frame.DataFrame'>\n",
      "RangeIndex: 21525 entries, 0 to 21524\n",
      "Data columns (total 12 columns):\n",
      "children            21525 non-null int64\n",
      "days_employed       21525 non-null int64\n",
      "dob_years           21525 non-null int64\n",
      "education           21525 non-null object\n",
      "education_id        21525 non-null int64\n",
      "family_status       21525 non-null object\n",
      "family_status_id    21525 non-null int64\n",
      "gender              21525 non-null object\n",
      "income_type         21525 non-null object\n",
      "debt                21525 non-null int64\n",
      "total_income        21525 non-null int64\n",
      "purpose             21525 non-null object\n",
      "dtypes: int64(7), object(5)\n",
      "memory usage: 2.0+ MB\n"
     ]
    }
   ],
   "source": [
    "df.info()"
   ]
  },
  {
   "cell_type": "code",
   "execution_count": 17,
   "metadata": {},
   "outputs": [
    {
     "data": {
      "text/plain": [
       "71"
      ]
     },
     "execution_count": 17,
     "metadata": {},
     "output_type": "execute_result"
    }
   ],
   "source": [
    "df.duplicated().sum()"
   ]
  },
  {
   "cell_type": "code",
   "execution_count": 18,
   "metadata": {},
   "outputs": [],
   "source": [
    "df = df.drop_duplicates()"
   ]
  },
  {
   "cell_type": "code",
   "execution_count": 19,
   "metadata": {},
   "outputs": [
    {
     "name": "stdout",
     "output_type": "stream",
     "text": [
      "<class 'pandas.core.frame.DataFrame'>\n",
      "Int64Index: 21454 entries, 0 to 21524\n",
      "Data columns (total 12 columns):\n",
      "children            21454 non-null int64\n",
      "days_employed       21454 non-null int64\n",
      "dob_years           21454 non-null int64\n",
      "education           21454 non-null object\n",
      "education_id        21454 non-null int64\n",
      "family_status       21454 non-null object\n",
      "family_status_id    21454 non-null int64\n",
      "gender              21454 non-null object\n",
      "income_type         21454 non-null object\n",
      "debt                21454 non-null int64\n",
      "total_income        21454 non-null int64\n",
      "purpose             21454 non-null object\n",
      "dtypes: int64(7), object(5)\n",
      "memory usage: 2.1+ MB\n"
     ]
    }
   ],
   "source": [
    "df.info()"
   ]
  },
  {
   "cell_type": "markdown",
   "metadata": {},
   "source": [
    "**Вывод**"
   ]
  },
  {
   "cell_type": "markdown",
   "metadata": {},
   "source": [
    "Дубликаты удалили с помощью удаления целых строк drop_duplicates(). Может дубликатов больше, но нет уникальных идентификаторов в таблице. \n",
    "Дубликатов не много и скорее всего их появление связано с человеческим фактором или какой-то технической ошибкой. \n",
    "У меня почему-то в этом месте регулярно выкидывало ошибку. Помогало только Kernel\\Restart and Run all"
   ]
  },
  {
   "cell_type": "markdown",
   "metadata": {},
   "source": [
    "### Лемматизация"
   ]
  },
  {
   "cell_type": "code",
   "execution_count": 20,
   "metadata": {},
   "outputs": [],
   "source": [
    "from pymystem3 import Mystem\n",
    "m = Mystem()\n",
    "def lemm(text):\n",
    "    lemmas = m.lemmatize(text)\n",
    "    return lemmas \n",
    "df['purpose_lem'] = df['purpose'].apply(lemm)\n"
   ]
  },
  {
   "cell_type": "code",
   "execution_count": 21,
   "metadata": {},
   "outputs": [
    {
     "data": {
      "text/plain": [
       "['покупка',\n",
       " ' ',\n",
       " 'жилье',\n",
       " '\\n',\n",
       " 'приобретение',\n",
       " 'автомобиль',\n",
       " 'дополнительный',\n",
       " 'образование',\n",
       " 'сыграть',\n",
       " 'свадьба',\n",
       " 'операция',\n",
       " 'с',\n",
       " 'на',\n",
       " 'проведение',\n",
       " 'для',\n",
       " 'семья',\n",
       " 'недвижимость',\n",
       " 'коммерческий',\n",
       " 'жилой',\n",
       " 'строительство',\n",
       " 'собственный',\n",
       " 'подержать',\n",
       " 'свой',\n",
       " 'со',\n",
       " 'заниматься',\n",
       " 'сделка',\n",
       " 'подержанный',\n",
       " 'получение',\n",
       " 'высокий',\n",
       " 'профильный',\n",
       " 'сдача',\n",
       " 'ремонт']"
      ]
     },
     "execution_count": 21,
     "metadata": {},
     "output_type": "execute_result"
    }
   ],
   "source": [
    "uniq_lem = []\n",
    "list_lem = list(df['purpose_lem'])\n",
    "for row in list_lem:\n",
    "    for i in row:\n",
    "        if i not in uniq_lem:\n",
    "            uniq_lem.append(i)\n",
    "uniq_lem\n"
   ]
  },
  {
   "cell_type": "markdown",
   "metadata": {},
   "source": [
    "**Вывод**"
   ]
  },
  {
   "cell_type": "markdown",
   "metadata": {},
   "source": [
    "Произвели поиск основных ключевых слов с помощью леммитизации. Для этого добавили новый столбец с основами слов. После чего выявили уникальные леммы. Их оказалось не так много,  что позволило определить основные цели для кредитов.  "
   ]
  },
  {
   "cell_type": "markdown",
   "metadata": {},
   "source": [
    "### Категоризация данных"
   ]
  },
  {
   "cell_type": "code",
   "execution_count": 22,
   "metadata": {},
   "outputs": [],
   "source": [
    "def categorization(data):\n",
    "    if 'сдача' in data:\n",
    "        return 'Недвижеммость для сдачи'\n",
    "    elif 'автомобиль' in data:\n",
    "        return 'Покупка автомобиля'\n",
    "    elif 'свадьба' in data:\n",
    "        return 'Свадьба'\n",
    "    elif 'образование' in data:\n",
    "        return 'Образование'\n",
    "    elif 'коммерческий' in data:\n",
    "        if 'недвижимость' in data:\n",
    "             return 'Операции с комерческой недвижемостью'\n",
    "        elif 'операция' in data:\n",
    "             return 'Операции с комерческой недвижемостью'\n",
    "        elif 'ремонт' in data:\n",
    "             return 'Ремонт комерческой недвижемости'\n",
    "        else:\n",
    "            return 'Прочая коммерческая деятельность'\n",
    "    elif ('жилье' in data) or ('жилой' in data):\n",
    "        if 'ремонт' in data:\n",
    "            return 'Ремонт в квартитере'\n",
    "        elif 'строительство' in data:\n",
    "            return 'Строительство дома'\n",
    "        elif 'покупка' in data:\n",
    "            return 'Покупка жилья'\n",
    "        else:\n",
    "            return 'Прочие операции с жилой недвижимостью'\n",
    "    elif 'недвижимость' in data:\n",
    "        return 'Приобретение недвижимости'\n",
    "    else:\n",
    "        return -1\n",
    "    "
   ]
  },
  {
   "cell_type": "code",
   "execution_count": 23,
   "metadata": {},
   "outputs": [],
   "source": [
    "df['categorization'] = df['purpose_lem'].apply(categorization)"
   ]
  },
  {
   "cell_type": "code",
   "execution_count": 24,
   "metadata": {},
   "outputs": [
    {
     "data": {
      "text/plain": [
       "Покупка автомобиля                       4306\n",
       "Образование                              4013\n",
       "Приобретение недвижимости                3810\n",
       "Покупка жилья                            2510\n",
       "Свадьба                                  2324\n",
       "Операции с комерческой недвижемостью     1311\n",
       "Прочие операции с жилой недвижимостью    1298\n",
       "Недвижеммость для сдачи                   651\n",
       "Строительство дома                        624\n",
       "Ремонт в квартитере                       607\n",
       "Name: categorization, dtype: int64"
      ]
     },
     "execution_count": 24,
     "metadata": {},
     "output_type": "execute_result"
    }
   ],
   "source": [
    "df.categorization.value_counts()"
   ]
  },
  {
   "cell_type": "code",
   "execution_count": 25,
   "metadata": {},
   "outputs": [],
   "source": [
    "def zp(data):\n",
    "    if data == 0:\n",
    "        return \"Без подтвержденного дохода\"\n",
    "    elif data < 100000:\n",
    "        return \"Нижний сегмент доходов\"\n",
    "    elif 100000<= data < 135000:\n",
    "        return \"Средний сегмент доходов\"\n",
    "    elif 135000<= data < 170000:\n",
    "        return \"Высокий сегмент доходов\"\n",
    "    elif 170000<= data < 220000:\n",
    "        return \"Очень высокий сегмент доходов\"\n",
    "    elif data >= 220000:\n",
    "        return \"Премиум\"\n",
    "    else:\n",
    "        return -1"
   ]
  },
  {
   "cell_type": "code",
   "execution_count": 26,
   "metadata": {},
   "outputs": [
    {
     "data": {
      "text/plain": [
       "Нижний сегмент доходов           4463\n",
       "Средний сегмент доходов          4075\n",
       "Премиум                          4007\n",
       "Высокий сегмент доходов          3597\n",
       "Очень высокий сегмент доходов    3209\n",
       "Без подтвержденного дохода       2103\n",
       "Name: total_income_categor, dtype: int64"
      ]
     },
     "execution_count": 26,
     "metadata": {},
     "output_type": "execute_result"
    }
   ],
   "source": [
    "df['total_income_categor'] = df['total_income'].apply(zp)\n",
    "df['total_income_categor'].value_counts()"
   ]
  },
  {
   "cell_type": "markdown",
   "metadata": {},
   "source": [
    "**Вывод**"
   ]
  },
  {
   "cell_type": "markdown",
   "metadata": {},
   "source": [
    "Произвели категоризацию данных по цели кредита. В первоначальной таблице цели кредитов были написаны в свободной форме, для их корректного сравнения произвели категоризацию с помощью введения дополнительного столбца. Все возможные варианты описания кредитов свели к нескольким группам. Все строки категоризированы. \n",
    "\n",
    "Произвели категоризацию данных по доходам. Для корректного сравнения клиентов по доходам сократили все множество доходов до нескольких групп с целью удобства работы. Все строки категоризированы\n",
    "\n",
    "Категоризацию производили таким образом, чтобы в каждой группе было по крайней мере несколько сотен объектов, чтобы можно было делать какие-то статистические выводы.\n"
   ]
  },
  {
   "cell_type": "markdown",
   "metadata": {},
   "source": [
    "## Шаг 3. Ответьте на вопросы"
   ]
  },
  {
   "cell_type": "markdown",
   "metadata": {},
   "source": [
    "- Есть ли зависимость между наличием детей и возвратом кредита в срок?"
   ]
  },
  {
   "cell_type": "code",
   "execution_count": 27,
   "metadata": {},
   "outputs": [
    {
     "data": {
      "text/plain": [
       "children\n",
       "0    0.075438\n",
       "1    0.091658\n",
       "2    0.094925\n",
       "3    0.081818\n",
       "4    0.097561\n",
       "5    0.000000\n",
       "Name: debt, dtype: float64"
      ]
     },
     "execution_count": 27,
     "metadata": {},
     "output_type": "execute_result"
    }
   ],
   "source": [
    "df.groupby('children')['debt'].sum()/df.groupby('children')['debt'].count()"
   ]
  },
  {
   "cell_type": "code",
   "execution_count": 28,
   "metadata": {},
   "outputs": [
    {
     "data": {
      "text/plain": [
       "children\n",
       "0    14091\n",
       "1     4855\n",
       "2     2128\n",
       "3      330\n",
       "4       41\n",
       "5        9\n",
       "Name: debt, dtype: int64"
      ]
     },
     "execution_count": 28,
     "metadata": {},
     "output_type": "execute_result"
    }
   ],
   "source": [
    "df.groupby('children')['debt'].count()\n"
   ]
  },
  {
   "cell_type": "markdown",
   "metadata": {},
   "source": [
    "**Вывод**"
   ]
  },
  {
   "cell_type": "markdown",
   "metadata": {},
   "source": [
    "Достаточно обосновано выводы можно сделать для 0-3 детей. Для 4-5 мало данных. С увеличение количества детей частота невозврата кредита в срок растет и достигает максимума при двух детях, но потом убывает при 3-х детях. Для трех детей выборка существенно меньше, этим может быть вызвано уменьшения частоты невозврата либо же это может быть связано с дополнительной социальной поддержкой многодетных семей. "
   ]
  },
  {
   "cell_type": "markdown",
   "metadata": {},
   "source": [
    "- Есть ли зависимость между семейным положением и возвратом кредита в срок?"
   ]
  },
  {
   "cell_type": "code",
   "execution_count": 29,
   "metadata": {},
   "outputs": [
    {
     "data": {
      "text/html": [
       "<div>\n",
       "<style scoped>\n",
       "    .dataframe tbody tr th:only-of-type {\n",
       "        vertical-align: middle;\n",
       "    }\n",
       "\n",
       "    .dataframe tbody tr th {\n",
       "        vertical-align: top;\n",
       "    }\n",
       "\n",
       "    .dataframe thead th {\n",
       "        text-align: right;\n",
       "    }\n",
       "</style>\n",
       "<table border=\"1\" class=\"dataframe\">\n",
       "  <thead>\n",
       "    <tr style=\"text-align: right;\">\n",
       "      <th></th>\n",
       "      <th>debt</th>\n",
       "    </tr>\n",
       "    <tr>\n",
       "      <th>family_status</th>\n",
       "      <th></th>\n",
       "    </tr>\n",
       "  </thead>\n",
       "  <tbody>\n",
       "    <tr>\n",
       "      <td>вдовец / вдова</td>\n",
       "      <td>0.065693</td>\n",
       "    </tr>\n",
       "    <tr>\n",
       "      <td>в разводе</td>\n",
       "      <td>0.071130</td>\n",
       "    </tr>\n",
       "    <tr>\n",
       "      <td>женат / замужем</td>\n",
       "      <td>0.075452</td>\n",
       "    </tr>\n",
       "    <tr>\n",
       "      <td>гражданский брак</td>\n",
       "      <td>0.093471</td>\n",
       "    </tr>\n",
       "    <tr>\n",
       "      <td>Не женат / не замужем</td>\n",
       "      <td>0.097509</td>\n",
       "    </tr>\n",
       "  </tbody>\n",
       "</table>\n",
       "</div>"
      ],
      "text/plain": [
       "                           debt\n",
       "family_status                  \n",
       "вдовец / вдова         0.065693\n",
       "в разводе              0.071130\n",
       "женат / замужем        0.075452\n",
       "гражданский брак       0.093471\n",
       "Не женат / не замужем  0.097509"
      ]
     },
     "execution_count": 29,
     "metadata": {},
     "output_type": "execute_result"
    }
   ],
   "source": [
    "(df.groupby('family_status')['debt'].sum()/df.groupby('family_status')['debt'].count()).sort_values().to_frame()"
   ]
  },
  {
   "cell_type": "markdown",
   "metadata": {},
   "source": [
    "**Вывод**"
   ]
  },
  {
   "cell_type": "markdown",
   "metadata": {},
   "source": [
    "Лучше всего платят \"вдовец / вдова\", что скорее всего связано с тем, что медианный возраст этой категории 58 лет и скорее всего в этом возрасте люди принимают меньше импульсивных решений. Неожиданно разведённые вышли на второе место. Среднее положение занимают люди в браке. Значительный рост невозврата в срок для гражданских браков. И наиболее рискованные клиенты \"не женаты и не замужем\"."
   ]
  },
  {
   "cell_type": "markdown",
   "metadata": {},
   "source": [
    "- Есть ли зависимость между уровнем дохода и возвратом кредита в срок?"
   ]
  },
  {
   "cell_type": "code",
   "execution_count": 30,
   "metadata": {},
   "outputs": [
    {
     "data": {
      "text/html": [
       "<div>\n",
       "<style scoped>\n",
       "    .dataframe tbody tr th:only-of-type {\n",
       "        vertical-align: middle;\n",
       "    }\n",
       "\n",
       "    .dataframe tbody tr th {\n",
       "        vertical-align: top;\n",
       "    }\n",
       "\n",
       "    .dataframe thead th {\n",
       "        text-align: right;\n",
       "    }\n",
       "</style>\n",
       "<table border=\"1\" class=\"dataframe\">\n",
       "  <thead>\n",
       "    <tr style=\"text-align: right;\">\n",
       "      <th></th>\n",
       "      <th>debt</th>\n",
       "    </tr>\n",
       "    <tr>\n",
       "      <th>total_income_categor</th>\n",
       "      <th></th>\n",
       "    </tr>\n",
       "  </thead>\n",
       "  <tbody>\n",
       "    <tr>\n",
       "      <td>Премиум</td>\n",
       "      <td>0.070876</td>\n",
       "    </tr>\n",
       "    <tr>\n",
       "      <td>Нижний сегмент доходов</td>\n",
       "      <td>0.079319</td>\n",
       "    </tr>\n",
       "    <tr>\n",
       "      <td>Без подтвержденного дохода</td>\n",
       "      <td>0.080837</td>\n",
       "    </tr>\n",
       "    <tr>\n",
       "      <td>Очень высокий сегмент доходов</td>\n",
       "      <td>0.081957</td>\n",
       "    </tr>\n",
       "    <tr>\n",
       "      <td>Средний сегмент доходов</td>\n",
       "      <td>0.083681</td>\n",
       "    </tr>\n",
       "    <tr>\n",
       "      <td>Высокий сегмент доходов</td>\n",
       "      <td>0.091465</td>\n",
       "    </tr>\n",
       "  </tbody>\n",
       "</table>\n",
       "</div>"
      ],
      "text/plain": [
       "                                   debt\n",
       "total_income_categor                   \n",
       "Премиум                        0.070876\n",
       "Нижний сегмент доходов         0.079319\n",
       "Без подтвержденного дохода     0.080837\n",
       "Очень высокий сегмент доходов  0.081957\n",
       "Средний сегмент доходов        0.083681\n",
       "Высокий сегмент доходов        0.091465"
      ]
     },
     "execution_count": 30,
     "metadata": {},
     "output_type": "execute_result"
    }
   ],
   "source": [
    "(df.groupby('total_income_categor')['debt'].sum()/df.groupby('total_income_categor')['debt'].count()).sort_values().to_frame()"
   ]
  },
  {
   "cell_type": "markdown",
   "metadata": {},
   "source": [
    "**Вывод**"
   ]
  },
  {
   "cell_type": "markdown",
   "metadata": {},
   "source": [
    "Ожидаемо на первом месте клиенты с максимальным доходом. Неожиданно \"Высокий сегмент доходов\" стал наиболее ненадежным. Таким образом связь между доходом и надежностью весьма неоднозначная. Клиенты без подтвержденного дохода оказались достаточно надежными."
   ]
  },
  {
   "cell_type": "markdown",
   "metadata": {},
   "source": [
    "- Как разные цели кредита влияют на его возврат в срок?"
   ]
  },
  {
   "cell_type": "code",
   "execution_count": 31,
   "metadata": {},
   "outputs": [
    {
     "data": {
      "text/html": [
       "<div>\n",
       "<style scoped>\n",
       "    .dataframe tbody tr th:only-of-type {\n",
       "        vertical-align: middle;\n",
       "    }\n",
       "\n",
       "    .dataframe tbody tr th {\n",
       "        vertical-align: top;\n",
       "    }\n",
       "\n",
       "    .dataframe thead th {\n",
       "        text-align: right;\n",
       "    }\n",
       "</style>\n",
       "<table border=\"1\" class=\"dataframe\">\n",
       "  <thead>\n",
       "    <tr style=\"text-align: right;\">\n",
       "      <th></th>\n",
       "      <th>debt</th>\n",
       "    </tr>\n",
       "    <tr>\n",
       "      <th>categorization</th>\n",
       "      <th></th>\n",
       "    </tr>\n",
       "  </thead>\n",
       "  <tbody>\n",
       "    <tr>\n",
       "      <td>Ремонт в квартитере</td>\n",
       "      <td>0.057661</td>\n",
       "    </tr>\n",
       "    <tr>\n",
       "      <td>Покупка жилья</td>\n",
       "      <td>0.066932</td>\n",
       "    </tr>\n",
       "    <tr>\n",
       "      <td>Прочие операции с жилой недвижимостью</td>\n",
       "      <td>0.072419</td>\n",
       "    </tr>\n",
       "    <tr>\n",
       "      <td>Приобретение недвижимости</td>\n",
       "      <td>0.075066</td>\n",
       "    </tr>\n",
       "    <tr>\n",
       "      <td>Операции с комерческой недвижемостью</td>\n",
       "      <td>0.075515</td>\n",
       "    </tr>\n",
       "    <tr>\n",
       "      <td>Строительство дома</td>\n",
       "      <td>0.076923</td>\n",
       "    </tr>\n",
       "    <tr>\n",
       "      <td>Недвижеммость для сдачи</td>\n",
       "      <td>0.079877</td>\n",
       "    </tr>\n",
       "    <tr>\n",
       "      <td>Свадьба</td>\n",
       "      <td>0.080034</td>\n",
       "    </tr>\n",
       "    <tr>\n",
       "      <td>Образование</td>\n",
       "      <td>0.092200</td>\n",
       "    </tr>\n",
       "    <tr>\n",
       "      <td>Покупка автомобиля</td>\n",
       "      <td>0.093590</td>\n",
       "    </tr>\n",
       "  </tbody>\n",
       "</table>\n",
       "</div>"
      ],
      "text/plain": [
       "                                           debt\n",
       "categorization                                 \n",
       "Ремонт в квартитере                    0.057661\n",
       "Покупка жилья                          0.066932\n",
       "Прочие операции с жилой недвижимостью  0.072419\n",
       "Приобретение недвижимости              0.075066\n",
       "Операции с комерческой недвижемостью   0.075515\n",
       "Строительство дома                     0.076923\n",
       "Недвижеммость для сдачи                0.079877\n",
       "Свадьба                                0.080034\n",
       "Образование                            0.092200\n",
       "Покупка автомобиля                     0.093590"
      ]
     },
     "execution_count": 31,
     "metadata": {},
     "output_type": "execute_result"
    }
   ],
   "source": [
    "(df.groupby('categorization')['debt'].sum()/df.groupby('categorization')['debt'].count()).sort_values().to_frame()"
   ]
  },
  {
   "cell_type": "markdown",
   "metadata": {},
   "source": [
    "**Вывод**"
   ]
  },
  {
   "cell_type": "markdown",
   "metadata": {},
   "source": [
    "Наиболее надежный кредит для ремонта. Достаточно надежны все операция с недвижемостью: покупка жилья, приобретение недвижимости...\n",
    "Наиболее рискованные это образование и покупка автомобиля. "
   ]
  },
  {
   "cell_type": "markdown",
   "metadata": {},
   "source": [
    "## Шаг 4. Общий вывод"
   ]
  },
  {
   "cell_type": "markdown",
   "metadata": {},
   "source": [
    "Наиболее ярко возврат кредита в срок зависит от цели кредита, семейного положения. Сложным образом зависит от дохода. Наименее рискованные клиенты без детей. "
   ]
  }
 ],
 "metadata": {
  "ExecuteTimeLog": [
   {
    "duration": 894,
    "start_time": "2021-10-14T13:44:13.139Z"
   },
   {
    "duration": 84,
    "start_time": "2021-10-14T13:44:31.860Z"
   },
   {
    "duration": 461,
    "start_time": "2021-10-14T13:44:56.792Z"
   },
   {
    "duration": 65,
    "start_time": "2021-10-14T13:44:59.981Z"
   },
   {
    "duration": 8,
    "start_time": "2021-10-14T13:47:24.099Z"
   },
   {
    "duration": 8,
    "start_time": "2021-10-14T13:47:33.657Z"
   },
   {
    "duration": 35,
    "start_time": "2021-10-14T13:48:44.778Z"
   },
   {
    "duration": 34,
    "start_time": "2021-10-14T13:49:08.418Z"
   },
   {
    "duration": 38,
    "start_time": "2021-10-14T13:49:39.338Z"
   },
   {
    "duration": 33,
    "start_time": "2021-10-14T14:01:13.619Z"
   },
   {
    "duration": 12,
    "start_time": "2021-10-14T14:05:35.221Z"
   },
   {
    "duration": 10,
    "start_time": "2021-10-14T14:05:48.539Z"
   },
   {
    "duration": 10,
    "start_time": "2021-10-14T14:06:07.184Z"
   },
   {
    "duration": 10,
    "start_time": "2021-10-14T14:06:33.789Z"
   },
   {
    "duration": 11,
    "start_time": "2021-10-14T14:06:46.620Z"
   },
   {
    "duration": 8,
    "start_time": "2021-10-14T14:07:13.627Z"
   },
   {
    "duration": 10,
    "start_time": "2021-10-14T14:07:52.036Z"
   },
   {
    "duration": 9,
    "start_time": "2021-10-14T14:08:13.824Z"
   },
   {
    "duration": 11,
    "start_time": "2021-10-14T14:08:32.415Z"
   },
   {
    "duration": 11,
    "start_time": "2021-10-14T14:09:12.585Z"
   },
   {
    "duration": 596,
    "start_time": "2021-10-16T06:55:28.593Z"
   },
   {
    "duration": 48,
    "start_time": "2021-10-16T06:55:31.398Z"
   },
   {
    "duration": 26,
    "start_time": "2021-10-16T06:55:35.546Z"
   },
   {
    "duration": 18,
    "start_time": "2021-10-16T06:57:23.516Z"
   },
   {
    "duration": 9,
    "start_time": "2021-10-16T06:57:34.628Z"
   },
   {
    "duration": 64,
    "start_time": "2021-10-16T07:16:04.372Z"
   },
   {
    "duration": 233,
    "start_time": "2021-10-16T07:28:42.131Z"
   },
   {
    "duration": 19,
    "start_time": "2021-10-16T07:28:45.909Z"
   },
   {
    "duration": 182,
    "start_time": "2021-10-16T07:30:27.254Z"
   },
   {
    "duration": 8,
    "start_time": "2021-10-16T07:30:39.499Z"
   },
   {
    "duration": 8,
    "start_time": "2021-10-16T07:30:56.879Z"
   },
   {
    "duration": 4,
    "start_time": "2021-10-16T07:31:38.470Z"
   },
   {
    "duration": 56,
    "start_time": "2021-10-16T07:32:07.292Z"
   },
   {
    "duration": 61,
    "start_time": "2021-10-16T07:32:17.580Z"
   },
   {
    "duration": 4,
    "start_time": "2021-10-16T07:32:23.250Z"
   },
   {
    "duration": 6,
    "start_time": "2021-10-16T07:32:43.690Z"
   },
   {
    "duration": 7,
    "start_time": "2021-10-16T07:32:50.580Z"
   },
   {
    "duration": 172,
    "start_time": "2021-10-16T07:33:06.203Z"
   },
   {
    "duration": 9,
    "start_time": "2021-10-16T07:33:18.070Z"
   },
   {
    "duration": 5,
    "start_time": "2021-10-16T07:38:46.732Z"
   },
   {
    "duration": 6,
    "start_time": "2021-10-16T07:39:21.113Z"
   },
   {
    "duration": 6,
    "start_time": "2021-10-16T07:39:23.093Z"
   },
   {
    "duration": 212,
    "start_time": "2021-10-16T07:39:25.743Z"
   },
   {
    "duration": 23,
    "start_time": "2021-10-16T07:39:29.482Z"
   },
   {
    "duration": 16,
    "start_time": "2021-10-16T07:40:01.255Z"
   },
   {
    "duration": 17,
    "start_time": "2021-10-16T07:40:47.846Z"
   },
   {
    "duration": 20,
    "start_time": "2021-10-16T07:40:59.425Z"
   },
   {
    "duration": 18,
    "start_time": "2021-10-16T07:41:05.224Z"
   },
   {
    "duration": 19,
    "start_time": "2021-10-16T07:41:28.905Z"
   },
   {
    "duration": 9,
    "start_time": "2021-10-16T07:42:04.680Z"
   },
   {
    "duration": 58,
    "start_time": "2021-10-16T07:42:44.725Z"
   },
   {
    "duration": 4457,
    "start_time": "2021-10-16T07:48:03.629Z"
   },
   {
    "duration": 292,
    "start_time": "2021-10-16T07:48:13.688Z"
   },
   {
    "duration": 6,
    "start_time": "2021-10-16T07:48:25.396Z"
   },
   {
    "duration": 8,
    "start_time": "2021-10-16T07:51:03.526Z"
   },
   {
    "duration": 9,
    "start_time": "2021-10-16T07:51:30.117Z"
   },
   {
    "duration": 182,
    "start_time": "2021-10-16T07:53:50.949Z"
   },
   {
    "duration": 14,
    "start_time": "2021-10-16T07:55:06.140Z"
   },
   {
    "duration": 23,
    "start_time": "2021-10-16T07:56:46.860Z"
   },
   {
    "duration": 15822,
    "start_time": "2021-10-16T08:01:19.492Z"
   },
   {
    "duration": 4644,
    "start_time": "2021-10-16T08:01:41.696Z"
   },
   {
    "duration": 6,
    "start_time": "2021-10-16T08:01:53.772Z"
   },
   {
    "duration": 242,
    "start_time": "2021-10-16T08:02:33.612Z"
   },
   {
    "duration": 7,
    "start_time": "2021-10-16T08:02:50.602Z"
   },
   {
    "duration": 10,
    "start_time": "2021-10-16T08:03:14.951Z"
   },
   {
    "duration": 178,
    "start_time": "2021-10-16T08:03:32.372Z"
   },
   {
    "duration": 183,
    "start_time": "2021-10-16T08:03:38.771Z"
   },
   {
    "duration": 9,
    "start_time": "2021-10-16T08:03:45.822Z"
   },
   {
    "duration": 11,
    "start_time": "2021-10-16T08:03:53.672Z"
   },
   {
    "duration": 7,
    "start_time": "2021-10-16T08:05:12.172Z"
   },
   {
    "duration": 169,
    "start_time": "2021-10-16T08:05:27.872Z"
   },
   {
    "duration": 212,
    "start_time": "2021-10-16T08:05:42.052Z"
   },
   {
    "duration": 6,
    "start_time": "2021-10-16T08:06:06.303Z"
   },
   {
    "duration": 4,
    "start_time": "2021-10-16T08:06:34.747Z"
   },
   {
    "duration": 6,
    "start_time": "2021-10-16T08:06:38.513Z"
   },
   {
    "duration": 5,
    "start_time": "2021-10-16T08:06:45.721Z"
   },
   {
    "duration": 4,
    "start_time": "2021-10-16T08:06:57.493Z"
   },
   {
    "duration": 4,
    "start_time": "2021-10-16T08:06:59.120Z"
   },
   {
    "duration": 5,
    "start_time": "2021-10-16T08:11:03.857Z"
   },
   {
    "duration": 5,
    "start_time": "2021-10-16T08:11:15.714Z"
   },
   {
    "duration": 5,
    "start_time": "2021-10-16T08:11:27.265Z"
   },
   {
    "duration": 55,
    "start_time": "2021-10-16T08:11:33.638Z"
   },
   {
    "duration": 8,
    "start_time": "2021-10-16T08:11:33.695Z"
   },
   {
    "duration": 8,
    "start_time": "2021-10-16T08:11:33.705Z"
   },
   {
    "duration": 6,
    "start_time": "2021-10-16T08:11:33.738Z"
   },
   {
    "duration": 12,
    "start_time": "2021-10-16T08:11:33.768Z"
   },
   {
    "duration": 5,
    "start_time": "2021-10-16T08:11:33.799Z"
   },
   {
    "duration": 21,
    "start_time": "2021-10-16T08:11:33.807Z"
   },
   {
    "duration": 8,
    "start_time": "2021-10-16T08:11:33.829Z"
   },
   {
    "duration": 7,
    "start_time": "2021-10-16T08:11:46.355Z"
   },
   {
    "duration": 15843,
    "start_time": "2021-10-16T08:13:02.688Z"
   },
   {
    "duration": 7,
    "start_time": "2021-10-16T08:13:25.525Z"
   },
   {
    "duration": 234,
    "start_time": "2021-10-16T08:14:00.827Z"
   },
   {
    "duration": 14,
    "start_time": "2021-10-16T08:14:06.377Z"
   },
   {
    "duration": 4,
    "start_time": "2021-10-16T08:14:17.756Z"
   },
   {
    "duration": 7,
    "start_time": "2021-10-16T08:14:24.458Z"
   },
   {
    "duration": 16,
    "start_time": "2021-10-16T08:14:56.477Z"
   },
   {
    "duration": 7,
    "start_time": "2021-10-16T08:15:28.147Z"
   },
   {
    "duration": 6,
    "start_time": "2021-10-16T08:15:55.208Z"
   },
   {
    "duration": 7,
    "start_time": "2021-10-16T08:16:30.727Z"
   },
   {
    "duration": 7,
    "start_time": "2021-10-16T08:16:51.277Z"
   },
   {
    "duration": 7,
    "start_time": "2021-10-16T08:17:06.827Z"
   },
   {
    "duration": 8,
    "start_time": "2021-10-16T08:17:16.237Z"
   },
   {
    "duration": 53,
    "start_time": "2021-10-16T08:17:30.798Z"
   },
   {
    "duration": 177,
    "start_time": "2021-10-16T08:17:33.477Z"
   },
   {
    "duration": 10,
    "start_time": "2021-10-16T08:17:38.495Z"
   },
   {
    "duration": 9,
    "start_time": "2021-10-16T08:18:01.898Z"
   },
   {
    "duration": 8,
    "start_time": "2021-10-16T08:18:26.307Z"
   },
   {
    "duration": 5,
    "start_time": "2021-10-16T08:21:27.347Z"
   },
   {
    "duration": 169,
    "start_time": "2021-10-16T08:21:54.179Z"
   },
   {
    "duration": 8,
    "start_time": "2021-10-16T08:22:02.919Z"
   },
   {
    "duration": 174,
    "start_time": "2021-10-16T08:23:04.090Z"
   },
   {
    "duration": 226,
    "start_time": "2021-10-16T08:23:49.250Z"
   },
   {
    "duration": 18,
    "start_time": "2021-10-16T08:24:17.710Z"
   },
   {
    "duration": 17,
    "start_time": "2021-10-16T08:24:29.460Z"
   },
   {
    "duration": 17,
    "start_time": "2021-10-16T08:24:51.950Z"
   },
   {
    "duration": 18,
    "start_time": "2021-10-16T08:25:10.069Z"
   },
   {
    "duration": 19,
    "start_time": "2021-10-16T08:25:13.905Z"
   },
   {
    "duration": 6,
    "start_time": "2021-10-16T08:25:28.821Z"
   },
   {
    "duration": 54,
    "start_time": "2021-10-16T08:26:19.577Z"
   },
   {
    "duration": 9,
    "start_time": "2021-10-16T08:26:19.633Z"
   },
   {
    "duration": 9,
    "start_time": "2021-10-16T08:26:19.643Z"
   },
   {
    "duration": 5,
    "start_time": "2021-10-16T08:26:19.654Z"
   },
   {
    "duration": 36,
    "start_time": "2021-10-16T08:26:19.660Z"
   },
   {
    "duration": 5,
    "start_time": "2021-10-16T08:26:19.697Z"
   },
   {
    "duration": 14,
    "start_time": "2021-10-16T08:26:19.704Z"
   },
   {
    "duration": 5,
    "start_time": "2021-10-16T08:26:19.719Z"
   },
   {
    "duration": 14,
    "start_time": "2021-10-16T08:27:13.402Z"
   },
   {
    "duration": 6,
    "start_time": "2021-10-16T08:27:16.228Z"
   },
   {
    "duration": 6,
    "start_time": "2021-10-16T08:27:27.099Z"
   },
   {
    "duration": 56,
    "start_time": "2021-10-16T08:28:40.727Z"
   },
   {
    "duration": 9,
    "start_time": "2021-10-16T08:28:40.785Z"
   },
   {
    "duration": 8,
    "start_time": "2021-10-16T08:28:40.796Z"
   },
   {
    "duration": 5,
    "start_time": "2021-10-16T08:28:40.806Z"
   },
   {
    "duration": 11,
    "start_time": "2021-10-16T08:28:40.812Z"
   },
   {
    "duration": 5,
    "start_time": "2021-10-16T08:28:40.825Z"
   },
   {
    "duration": 6,
    "start_time": "2021-10-16T08:28:40.831Z"
   },
   {
    "duration": 10,
    "start_time": "2021-10-16T08:28:40.839Z"
   },
   {
    "duration": 42,
    "start_time": "2021-10-16T08:28:40.851Z"
   },
   {
    "duration": 6,
    "start_time": "2021-10-16T08:28:40.894Z"
   },
   {
    "duration": 4,
    "start_time": "2021-10-16T08:29:17.423Z"
   },
   {
    "duration": 4,
    "start_time": "2021-10-16T08:29:19.533Z"
   },
   {
    "duration": 4,
    "start_time": "2021-10-16T08:29:22.278Z"
   },
   {
    "duration": 57,
    "start_time": "2021-10-16T08:29:32.446Z"
   },
   {
    "duration": 8,
    "start_time": "2021-10-16T08:29:32.505Z"
   },
   {
    "duration": 9,
    "start_time": "2021-10-16T08:29:32.515Z"
   },
   {
    "duration": 5,
    "start_time": "2021-10-16T08:29:32.525Z"
   },
   {
    "duration": 12,
    "start_time": "2021-10-16T08:29:32.531Z"
   },
   {
    "duration": 6,
    "start_time": "2021-10-16T08:29:32.545Z"
   },
   {
    "duration": 4,
    "start_time": "2021-10-16T08:29:32.553Z"
   },
   {
    "duration": 40,
    "start_time": "2021-10-16T08:29:32.559Z"
   },
   {
    "duration": 5,
    "start_time": "2021-10-16T08:29:32.601Z"
   },
   {
    "duration": 6,
    "start_time": "2021-10-16T08:29:32.607Z"
   },
   {
    "duration": 8,
    "start_time": "2021-10-16T08:30:07.432Z"
   },
   {
    "duration": 4,
    "start_time": "2021-10-16T08:30:17.539Z"
   },
   {
    "duration": 6,
    "start_time": "2021-10-16T08:30:52.562Z"
   },
   {
    "duration": 4,
    "start_time": "2021-10-16T08:31:02.772Z"
   },
   {
    "duration": 5,
    "start_time": "2021-10-16T08:31:18.463Z"
   },
   {
    "duration": 9,
    "start_time": "2021-10-16T08:31:36.813Z"
   },
   {
    "duration": 175,
    "start_time": "2021-10-16T08:32:31.003Z"
   },
   {
    "duration": 176,
    "start_time": "2021-10-16T08:32:34.278Z"
   },
   {
    "duration": 4,
    "start_time": "2021-10-16T08:32:44.843Z"
   },
   {
    "duration": 10,
    "start_time": "2021-10-16T08:39:03.956Z"
   },
   {
    "duration": 11,
    "start_time": "2021-10-16T08:40:00.016Z"
   },
   {
    "duration": 10,
    "start_time": "2021-10-16T08:41:25.198Z"
   },
   {
    "duration": 33,
    "start_time": "2021-10-16T08:41:42.208Z"
   },
   {
    "duration": 55,
    "start_time": "2021-10-16T08:42:05.263Z"
   },
   {
    "duration": 9,
    "start_time": "2021-10-16T08:42:05.320Z"
   },
   {
    "duration": 10,
    "start_time": "2021-10-16T08:42:05.332Z"
   },
   {
    "duration": 6,
    "start_time": "2021-10-16T08:42:05.344Z"
   },
   {
    "duration": 42,
    "start_time": "2021-10-16T08:42:05.352Z"
   },
   {
    "duration": 5,
    "start_time": "2021-10-16T08:42:05.395Z"
   },
   {
    "duration": 7,
    "start_time": "2021-10-16T08:42:05.401Z"
   },
   {
    "duration": 11,
    "start_time": "2021-10-16T08:42:05.410Z"
   },
   {
    "duration": 9,
    "start_time": "2021-10-16T08:42:05.423Z"
   },
   {
    "duration": 11,
    "start_time": "2021-10-16T08:42:05.434Z"
   },
   {
    "duration": 10,
    "start_time": "2021-10-16T08:42:05.447Z"
   },
   {
    "duration": 19,
    "start_time": "2021-10-16T08:42:05.458Z"
   },
   {
    "duration": 31,
    "start_time": "2021-10-16T08:42:05.478Z"
   },
   {
    "duration": 9,
    "start_time": "2021-10-16T08:42:05.511Z"
   },
   {
    "duration": 10,
    "start_time": "2021-10-16T08:42:05.521Z"
   },
   {
    "duration": 12,
    "start_time": "2021-10-16T09:41:38.460Z"
   },
   {
    "duration": 220,
    "start_time": "2021-10-16T11:04:20.900Z"
   },
   {
    "duration": 174,
    "start_time": "2021-10-16T11:04:31.150Z"
   },
   {
    "duration": 176,
    "start_time": "2021-10-16T11:04:38.637Z"
   },
   {
    "duration": 285,
    "start_time": "2021-10-16T11:05:07.933Z"
   },
   {
    "duration": 766,
    "start_time": "2021-10-16T12:46:18.996Z"
   },
   {
    "duration": 55,
    "start_time": "2021-10-16T12:47:05.099Z"
   },
   {
    "duration": 8,
    "start_time": "2021-10-16T12:47:05.156Z"
   },
   {
    "duration": 8,
    "start_time": "2021-10-16T12:47:05.166Z"
   },
   {
    "duration": 17,
    "start_time": "2021-10-16T12:47:05.175Z"
   },
   {
    "duration": 10,
    "start_time": "2021-10-16T12:47:05.194Z"
   },
   {
    "duration": 7,
    "start_time": "2021-10-16T12:47:05.206Z"
   },
   {
    "duration": 15,
    "start_time": "2021-10-16T12:47:05.215Z"
   },
   {
    "duration": 15,
    "start_time": "2021-10-16T12:47:05.232Z"
   },
   {
    "duration": 20,
    "start_time": "2021-10-16T12:47:05.249Z"
   },
   {
    "duration": 20,
    "start_time": "2021-10-16T12:47:05.270Z"
   },
   {
    "duration": 9,
    "start_time": "2021-10-16T12:47:05.292Z"
   },
   {
    "duration": 17,
    "start_time": "2021-10-16T12:47:05.302Z"
   },
   {
    "duration": 14,
    "start_time": "2021-10-16T12:47:05.320Z"
   },
   {
    "duration": 9,
    "start_time": "2021-10-16T12:47:05.335Z"
   },
   {
    "duration": 54,
    "start_time": "2021-10-16T12:47:05.346Z"
   },
   {
    "duration": 16543,
    "start_time": "2021-10-16T12:46:48.858Z"
   },
   {
    "duration": 16542,
    "start_time": "2021-10-16T12:46:48.861Z"
   },
   {
    "duration": 10,
    "start_time": "2021-10-16T12:47:17.153Z"
   },
   {
    "duration": 774,
    "start_time": "2021-10-16T12:47:20.402Z"
   },
   {
    "duration": 932,
    "start_time": "2021-10-16T13:04:31.694Z"
   },
   {
    "duration": 69,
    "start_time": "2021-10-16T13:04:32.628Z"
   },
   {
    "duration": 8,
    "start_time": "2021-10-16T13:04:32.699Z"
   },
   {
    "duration": 5,
    "start_time": "2021-10-16T13:04:32.708Z"
   },
   {
    "duration": 13,
    "start_time": "2021-10-16T13:04:32.714Z"
   },
   {
    "duration": 67,
    "start_time": "2021-10-16T13:04:32.728Z"
   },
   {
    "duration": 4,
    "start_time": "2021-10-16T13:04:32.796Z"
   },
   {
    "duration": 5,
    "start_time": "2021-10-16T13:04:32.802Z"
   },
   {
    "duration": 9,
    "start_time": "2021-10-16T13:04:32.808Z"
   },
   {
    "duration": 11,
    "start_time": "2021-10-16T13:04:32.818Z"
   },
   {
    "duration": 69,
    "start_time": "2021-10-16T13:04:32.830Z"
   },
   {
    "duration": 9,
    "start_time": "2021-10-16T13:04:32.900Z"
   },
   {
    "duration": 13,
    "start_time": "2021-10-16T13:04:32.910Z"
   },
   {
    "duration": 68,
    "start_time": "2021-10-16T13:04:32.924Z"
   },
   {
    "duration": 65,
    "start_time": "2021-10-16T13:04:32.994Z"
   },
   {
    "duration": 16654,
    "start_time": "2021-10-16T13:04:16.407Z"
   },
   {
    "duration": 16647,
    "start_time": "2021-10-16T13:04:16.415Z"
   },
   {
    "duration": 22,
    "start_time": "2021-10-16T13:04:51.272Z"
   },
   {
    "duration": 16713,
    "start_time": "2021-10-16T13:39:05.977Z"
   },
   {
    "duration": 202,
    "start_time": "2021-10-16T13:40:02.107Z"
   },
   {
    "duration": 173,
    "start_time": "2021-10-17T05:51:07.980Z"
   },
   {
    "duration": 649,
    "start_time": "2021-10-17T05:51:17.127Z"
   },
   {
    "duration": 648,
    "start_time": "2021-10-17T05:51:38.757Z"
   },
   {
    "duration": 648,
    "start_time": "2021-10-17T05:51:43.347Z"
   },
   {
    "duration": 647,
    "start_time": "2021-10-17T05:51:59.349Z"
   },
   {
    "duration": 35154,
    "start_time": "2021-10-17T05:52:16.668Z"
   },
   {
    "duration": 646,
    "start_time": "2021-10-17T05:57:07.288Z"
   },
   {
    "duration": 640,
    "start_time": "2021-10-17T05:57:07.295Z"
   },
   {
    "duration": 633,
    "start_time": "2021-10-17T05:57:07.302Z"
   },
   {
    "duration": 629,
    "start_time": "2021-10-17T05:57:07.307Z"
   },
   {
    "duration": 624,
    "start_time": "2021-10-17T05:57:07.313Z"
   },
   {
    "duration": 620,
    "start_time": "2021-10-17T05:57:07.318Z"
   },
   {
    "duration": 616,
    "start_time": "2021-10-17T05:57:07.322Z"
   },
   {
    "duration": 611,
    "start_time": "2021-10-17T05:57:07.328Z"
   },
   {
    "duration": 606,
    "start_time": "2021-10-17T05:57:07.334Z"
   },
   {
    "duration": 602,
    "start_time": "2021-10-17T05:57:07.339Z"
   },
   {
    "duration": 597,
    "start_time": "2021-10-17T05:57:07.344Z"
   },
   {
    "duration": 594,
    "start_time": "2021-10-17T05:57:07.348Z"
   },
   {
    "duration": 590,
    "start_time": "2021-10-17T05:57:07.353Z"
   },
   {
    "duration": 576,
    "start_time": "2021-10-17T05:57:07.368Z"
   },
   {
    "duration": 569,
    "start_time": "2021-10-17T05:57:07.375Z"
   },
   {
    "duration": 564,
    "start_time": "2021-10-17T05:57:07.381Z"
   },
   {
    "duration": 560,
    "start_time": "2021-10-17T05:57:07.386Z"
   },
   {
    "duration": 55,
    "start_time": "2021-10-17T05:57:12.481Z"
   },
   {
    "duration": 8,
    "start_time": "2021-10-17T05:57:12.538Z"
   },
   {
    "duration": 9,
    "start_time": "2021-10-17T05:57:12.547Z"
   },
   {
    "duration": 5,
    "start_time": "2021-10-17T05:57:12.557Z"
   },
   {
    "duration": 34,
    "start_time": "2021-10-17T05:57:12.563Z"
   },
   {
    "duration": 6,
    "start_time": "2021-10-17T05:57:12.598Z"
   },
   {
    "duration": 7,
    "start_time": "2021-10-17T05:57:12.605Z"
   },
   {
    "duration": 5,
    "start_time": "2021-10-17T05:57:12.614Z"
   },
   {
    "duration": 5,
    "start_time": "2021-10-17T05:57:12.621Z"
   },
   {
    "duration": 11,
    "start_time": "2021-10-17T05:57:12.627Z"
   },
   {
    "duration": 9,
    "start_time": "2021-10-17T05:57:12.639Z"
   },
   {
    "duration": 9,
    "start_time": "2021-10-17T05:57:12.649Z"
   },
   {
    "duration": 43,
    "start_time": "2021-10-17T05:57:12.659Z"
   },
   {
    "duration": 10,
    "start_time": "2021-10-17T05:57:12.703Z"
   },
   {
    "duration": 57,
    "start_time": "2021-10-17T05:57:12.714Z"
   },
   {
    "duration": 645,
    "start_time": "2021-10-17T05:57:12.128Z"
   },
   {
    "duration": 641,
    "start_time": "2021-10-17T05:57:12.133Z"
   },
   {
    "duration": 53,
    "start_time": "2021-10-17T05:57:37.053Z"
   },
   {
    "duration": 54,
    "start_time": "2021-10-17T05:57:43.838Z"
   },
   {
    "duration": 9,
    "start_time": "2021-10-17T05:57:43.894Z"
   },
   {
    "duration": 8,
    "start_time": "2021-10-17T05:57:43.905Z"
   },
   {
    "duration": 5,
    "start_time": "2021-10-17T05:57:43.914Z"
   },
   {
    "duration": 11,
    "start_time": "2021-10-17T05:57:43.921Z"
   },
   {
    "duration": 5,
    "start_time": "2021-10-17T05:57:43.934Z"
   },
   {
    "duration": 3,
    "start_time": "2021-10-17T05:57:43.941Z"
   },
   {
    "duration": 3,
    "start_time": "2021-10-17T05:57:43.946Z"
   },
   {
    "duration": 40,
    "start_time": "2021-10-17T05:57:43.951Z"
   },
   {
    "duration": 11,
    "start_time": "2021-10-17T05:57:43.993Z"
   },
   {
    "duration": 10,
    "start_time": "2021-10-17T05:57:44.005Z"
   },
   {
    "duration": 9,
    "start_time": "2021-10-17T05:57:44.016Z"
   },
   {
    "duration": 13,
    "start_time": "2021-10-17T05:57:44.027Z"
   },
   {
    "duration": 9,
    "start_time": "2021-10-17T05:57:44.042Z"
   },
   {
    "duration": 71,
    "start_time": "2021-10-17T05:57:44.053Z"
   },
   {
    "duration": 658,
    "start_time": "2021-10-17T05:57:43.467Z"
   },
   {
    "duration": 652,
    "start_time": "2021-10-17T05:57:43.474Z"
   },
   {
    "duration": 55,
    "start_time": "2021-10-17T05:57:54.316Z"
   },
   {
    "duration": 9,
    "start_time": "2021-10-17T05:57:54.372Z"
   },
   {
    "duration": 9,
    "start_time": "2021-10-17T05:57:54.382Z"
   },
   {
    "duration": 4,
    "start_time": "2021-10-17T05:57:54.392Z"
   },
   {
    "duration": 11,
    "start_time": "2021-10-17T05:57:54.398Z"
   },
   {
    "duration": 5,
    "start_time": "2021-10-17T05:57:54.411Z"
   },
   {
    "duration": 6,
    "start_time": "2021-10-17T05:57:54.417Z"
   },
   {
    "duration": 5,
    "start_time": "2021-10-17T05:57:54.425Z"
   },
   {
    "duration": 5,
    "start_time": "2021-10-17T05:57:54.431Z"
   },
   {
    "duration": 13,
    "start_time": "2021-10-17T05:57:54.437Z"
   },
   {
    "duration": 9,
    "start_time": "2021-10-17T05:57:54.452Z"
   },
   {
    "duration": 32,
    "start_time": "2021-10-17T05:57:54.463Z"
   },
   {
    "duration": 12,
    "start_time": "2021-10-17T05:57:54.496Z"
   },
   {
    "duration": 9,
    "start_time": "2021-10-17T05:57:54.509Z"
   },
   {
    "duration": 60,
    "start_time": "2021-10-17T05:57:54.519Z"
   },
   {
    "duration": 648,
    "start_time": "2021-10-17T05:57:53.932Z"
   },
   {
    "duration": 643,
    "start_time": "2021-10-17T05:57:53.938Z"
   },
   {
    "duration": 33,
    "start_time": "2021-10-17T05:58:20.859Z"
   },
   {
    "duration": 10,
    "start_time": "2021-10-17T05:58:27.804Z"
   },
   {
    "duration": 729,
    "start_time": "2021-10-17T06:26:28.881Z"
   },
   {
    "duration": 685,
    "start_time": "2021-10-17T06:26:31.142Z"
   },
   {
    "duration": 860,
    "start_time": "2021-10-17T06:26:41.401Z"
   },
   {
    "duration": 3146,
    "start_time": "2021-10-17T06:28:37.635Z"
   },
   {
    "duration": 24,
    "start_time": "2021-10-17T06:28:59.342Z"
   },
   {
    "duration": 5,
    "start_time": "2021-10-17T06:35:48.135Z"
   },
   {
    "duration": 24,
    "start_time": "2021-10-17T06:37:11.995Z"
   },
   {
    "duration": 23,
    "start_time": "2021-10-17T06:41:54.451Z"
   },
   {
    "duration": 57,
    "start_time": "2021-10-17T06:43:49.730Z"
   },
   {
    "duration": 20,
    "start_time": "2021-10-17T06:46:03.398Z"
   },
   {
    "duration": 35,
    "start_time": "2021-10-17T06:46:58.870Z"
   },
   {
    "duration": 24,
    "start_time": "2021-10-17T06:47:45.512Z"
   },
   {
    "duration": 24,
    "start_time": "2021-10-17T06:51:28.295Z"
   },
   {
    "duration": 15,
    "start_time": "2021-10-17T06:54:38.274Z"
   },
   {
    "duration": 3222,
    "start_time": "2021-10-17T06:55:01.872Z"
   },
   {
    "duration": 59,
    "start_time": "2021-10-17T06:55:22.054Z"
   },
   {
    "duration": 212,
    "start_time": "2021-10-17T06:55:49.142Z"
   },
   {
    "duration": 208,
    "start_time": "2021-10-17T07:05:01.136Z"
   },
   {
    "duration": 219,
    "start_time": "2021-10-17T07:05:13.817Z"
   },
   {
    "duration": 177,
    "start_time": "2021-10-17T07:05:32.376Z"
   },
   {
    "duration": 23,
    "start_time": "2021-10-17T07:05:56.155Z"
   },
   {
    "duration": 2,
    "start_time": "2021-10-17T07:06:04.004Z"
   },
   {
    "duration": 37,
    "start_time": "2021-10-17T07:06:13.771Z"
   },
   {
    "duration": 69,
    "start_time": "2021-10-17T07:13:49.890Z"
   },
   {
    "duration": 24,
    "start_time": "2021-10-17T07:13:55.541Z"
   },
   {
    "duration": 24,
    "start_time": "2021-10-17T07:16:12.209Z"
   },
   {
    "duration": 107,
    "start_time": "2021-10-17T07:16:24.751Z"
   },
   {
    "duration": 54,
    "start_time": "2021-10-17T07:36:29.659Z"
   },
   {
    "duration": 8,
    "start_time": "2021-10-17T07:36:29.715Z"
   },
   {
    "duration": 13,
    "start_time": "2021-10-17T07:36:29.725Z"
   },
   {
    "duration": 5,
    "start_time": "2021-10-17T07:36:29.739Z"
   },
   {
    "duration": 12,
    "start_time": "2021-10-17T07:36:29.745Z"
   },
   {
    "duration": 33,
    "start_time": "2021-10-17T07:36:29.759Z"
   },
   {
    "duration": 4,
    "start_time": "2021-10-17T07:36:29.794Z"
   },
   {
    "duration": 5,
    "start_time": "2021-10-17T07:36:29.800Z"
   },
   {
    "duration": 4,
    "start_time": "2021-10-17T07:36:29.807Z"
   },
   {
    "duration": 11,
    "start_time": "2021-10-17T07:36:29.813Z"
   },
   {
    "duration": 12,
    "start_time": "2021-10-17T07:36:29.826Z"
   },
   {
    "duration": 10,
    "start_time": "2021-10-17T07:36:29.840Z"
   },
   {
    "duration": 49,
    "start_time": "2021-10-17T07:36:29.852Z"
   },
   {
    "duration": 10,
    "start_time": "2021-10-17T07:36:29.903Z"
   },
   {
    "duration": 31,
    "start_time": "2021-10-17T07:36:29.914Z"
   },
   {
    "duration": 9,
    "start_time": "2021-10-17T07:36:29.947Z"
   },
   {
    "duration": 3392,
    "start_time": "2021-10-17T07:36:29.958Z"
   },
   {
    "duration": 23,
    "start_time": "2021-10-17T07:36:33.352Z"
   },
   {
    "duration": 16,
    "start_time": "2021-10-17T07:36:33.376Z"
   },
   {
    "duration": 1177,
    "start_time": "2021-10-17T07:37:17.669Z"
   },
   {
    "duration": 168,
    "start_time": "2021-10-17T07:37:51.138Z"
   },
   {
    "duration": 1204,
    "start_time": "2021-10-17T07:37:56.938Z"
   },
   {
    "duration": 53,
    "start_time": "2021-10-17T07:38:11.730Z"
   },
   {
    "duration": 57,
    "start_time": "2021-10-17T07:38:15.873Z"
   },
   {
    "duration": 10,
    "start_time": "2021-10-17T07:38:15.932Z"
   },
   {
    "duration": 29,
    "start_time": "2021-10-17T07:38:15.944Z"
   },
   {
    "duration": 18,
    "start_time": "2021-10-17T07:38:15.975Z"
   },
   {
    "duration": 38,
    "start_time": "2021-10-17T07:38:15.995Z"
   },
   {
    "duration": 8,
    "start_time": "2021-10-17T07:38:16.034Z"
   },
   {
    "duration": 21,
    "start_time": "2021-10-17T07:38:16.043Z"
   },
   {
    "duration": 30,
    "start_time": "2021-10-17T07:38:16.066Z"
   },
   {
    "duration": 11,
    "start_time": "2021-10-17T07:38:16.098Z"
   },
   {
    "duration": 35,
    "start_time": "2021-10-17T07:38:16.110Z"
   },
   {
    "duration": 16,
    "start_time": "2021-10-17T07:38:16.147Z"
   },
   {
    "duration": 29,
    "start_time": "2021-10-17T07:38:16.165Z"
   },
   {
    "duration": 23,
    "start_time": "2021-10-17T07:38:16.195Z"
   },
   {
    "duration": 25,
    "start_time": "2021-10-17T07:38:16.220Z"
   },
   {
    "duration": 19,
    "start_time": "2021-10-17T07:38:16.247Z"
   },
   {
    "duration": 9,
    "start_time": "2021-10-17T07:38:16.267Z"
   },
   {
    "duration": 3377,
    "start_time": "2021-10-17T07:38:16.278Z"
   },
   {
    "duration": 36,
    "start_time": "2021-10-17T07:38:19.657Z"
   },
   {
    "duration": 11,
    "start_time": "2021-10-17T07:38:19.695Z"
   },
   {
    "duration": 1154,
    "start_time": "2021-10-17T07:38:43.348Z"
   },
   {
    "duration": 16,
    "start_time": "2021-10-17T07:38:56.016Z"
   },
   {
    "duration": 1154,
    "start_time": "2021-10-17T07:38:58.075Z"
   },
   {
    "duration": 57,
    "start_time": "2021-10-17T07:57:05.517Z"
   },
   {
    "duration": 54,
    "start_time": "2021-10-17T07:57:09.945Z"
   },
   {
    "duration": 53,
    "start_time": "2021-10-17T07:57:21.564Z"
   },
   {
    "duration": 55,
    "start_time": "2021-10-17T07:57:25.427Z"
   },
   {
    "duration": 8,
    "start_time": "2021-10-17T07:57:25.483Z"
   },
   {
    "duration": 9,
    "start_time": "2021-10-17T07:57:25.493Z"
   },
   {
    "duration": 5,
    "start_time": "2021-10-17T07:57:25.504Z"
   },
   {
    "duration": 15,
    "start_time": "2021-10-17T07:57:25.510Z"
   },
   {
    "duration": 5,
    "start_time": "2021-10-17T07:57:25.527Z"
   },
   {
    "duration": 7,
    "start_time": "2021-10-17T07:57:25.533Z"
   },
   {
    "duration": 4,
    "start_time": "2021-10-17T07:57:25.542Z"
   },
   {
    "duration": 5,
    "start_time": "2021-10-17T07:57:25.548Z"
   },
   {
    "duration": 41,
    "start_time": "2021-10-17T07:57:25.554Z"
   },
   {
    "duration": 9,
    "start_time": "2021-10-17T07:57:25.596Z"
   },
   {
    "duration": 14,
    "start_time": "2021-10-17T07:57:25.606Z"
   },
   {
    "duration": 10,
    "start_time": "2021-10-17T07:57:25.621Z"
   },
   {
    "duration": 16,
    "start_time": "2021-10-17T07:57:25.632Z"
   },
   {
    "duration": 10,
    "start_time": "2021-10-17T07:57:25.649Z"
   },
   {
    "duration": 3541,
    "start_time": "2021-10-17T07:57:25.661Z"
   },
   {
    "duration": 26,
    "start_time": "2021-10-17T07:57:29.203Z"
   },
   {
    "duration": 4,
    "start_time": "2021-10-17T07:57:29.230Z"
   },
   {
    "duration": 1972,
    "start_time": "2021-10-17T07:57:52.845Z"
   },
   {
    "duration": 16,
    "start_time": "2021-10-17T07:58:02.328Z"
   },
   {
    "duration": 53,
    "start_time": "2021-10-17T07:58:11.363Z"
   },
   {
    "duration": 8,
    "start_time": "2021-10-17T07:58:11.418Z"
   },
   {
    "duration": 8,
    "start_time": "2021-10-17T07:58:11.428Z"
   },
   {
    "duration": 5,
    "start_time": "2021-10-17T07:58:11.437Z"
   },
   {
    "duration": 12,
    "start_time": "2021-10-17T07:58:11.443Z"
   },
   {
    "duration": 35,
    "start_time": "2021-10-17T07:58:11.457Z"
   },
   {
    "duration": 4,
    "start_time": "2021-10-17T07:58:11.493Z"
   },
   {
    "duration": 3,
    "start_time": "2021-10-17T07:58:11.499Z"
   },
   {
    "duration": 4,
    "start_time": "2021-10-17T07:58:11.504Z"
   },
   {
    "duration": 10,
    "start_time": "2021-10-17T07:58:11.510Z"
   },
   {
    "duration": 8,
    "start_time": "2021-10-17T07:58:11.521Z"
   },
   {
    "duration": 19,
    "start_time": "2021-10-17T07:58:11.530Z"
   },
   {
    "duration": 14,
    "start_time": "2021-10-17T07:58:11.550Z"
   },
   {
    "duration": 39,
    "start_time": "2021-10-17T07:58:11.566Z"
   },
   {
    "duration": 9,
    "start_time": "2021-10-17T07:58:11.607Z"
   },
   {
    "duration": 3180,
    "start_time": "2021-10-17T07:58:11.617Z"
   },
   {
    "duration": 26,
    "start_time": "2021-10-17T07:58:14.799Z"
   },
   {
    "duration": 4,
    "start_time": "2021-10-17T07:58:14.826Z"
   },
   {
    "duration": 22,
    "start_time": "2021-10-17T07:58:43.196Z"
   },
   {
    "duration": 55,
    "start_time": "2021-10-17T08:02:15.982Z"
   },
   {
    "duration": 8,
    "start_time": "2021-10-17T08:02:16.039Z"
   },
   {
    "duration": 10,
    "start_time": "2021-10-17T08:02:16.049Z"
   },
   {
    "duration": 5,
    "start_time": "2021-10-17T08:02:16.060Z"
   },
   {
    "duration": 31,
    "start_time": "2021-10-17T08:02:16.066Z"
   },
   {
    "duration": 6,
    "start_time": "2021-10-17T08:02:16.098Z"
   },
   {
    "duration": 6,
    "start_time": "2021-10-17T08:02:16.106Z"
   },
   {
    "duration": 8,
    "start_time": "2021-10-17T08:02:16.113Z"
   },
   {
    "duration": 12,
    "start_time": "2021-10-17T08:02:16.124Z"
   },
   {
    "duration": 15,
    "start_time": "2021-10-17T08:02:16.137Z"
   },
   {
    "duration": 11,
    "start_time": "2021-10-17T08:02:16.154Z"
   },
   {
    "duration": 14,
    "start_time": "2021-10-17T08:02:16.167Z"
   },
   {
    "duration": 10,
    "start_time": "2021-10-17T08:02:16.191Z"
   },
   {
    "duration": 17,
    "start_time": "2021-10-17T08:02:16.203Z"
   },
   {
    "duration": 19,
    "start_time": "2021-10-17T08:02:16.221Z"
   },
   {
    "duration": 9,
    "start_time": "2021-10-17T08:02:16.242Z"
   },
   {
    "duration": 3304,
    "start_time": "2021-10-17T08:02:16.253Z"
   },
   {
    "duration": 35,
    "start_time": "2021-10-17T08:02:19.559Z"
   },
   {
    "duration": 7,
    "start_time": "2021-10-17T08:02:19.595Z"
   },
   {
    "duration": 14,
    "start_time": "2021-10-17T08:05:10.873Z"
   },
   {
    "duration": 1195,
    "start_time": "2021-10-17T08:05:20.903Z"
   },
   {
    "duration": 15,
    "start_time": "2021-10-17T08:05:44.129Z"
   },
   {
    "duration": 1305,
    "start_time": "2021-10-17T08:05:46.831Z"
   },
   {
    "duration": 56,
    "start_time": "2021-10-17T08:06:12.622Z"
   },
   {
    "duration": 9,
    "start_time": "2021-10-17T08:06:12.680Z"
   },
   {
    "duration": 8,
    "start_time": "2021-10-17T08:06:12.691Z"
   },
   {
    "duration": 5,
    "start_time": "2021-10-17T08:06:12.701Z"
   },
   {
    "duration": 14,
    "start_time": "2021-10-17T08:06:12.707Z"
   },
   {
    "duration": 5,
    "start_time": "2021-10-17T08:06:12.723Z"
   },
   {
    "duration": 5,
    "start_time": "2021-10-17T08:06:12.730Z"
   },
   {
    "duration": 4,
    "start_time": "2021-10-17T08:06:12.738Z"
   },
   {
    "duration": 4,
    "start_time": "2021-10-17T08:06:12.744Z"
   },
   {
    "duration": 45,
    "start_time": "2021-10-17T08:06:12.749Z"
   },
   {
    "duration": 9,
    "start_time": "2021-10-17T08:06:12.795Z"
   },
   {
    "duration": 14,
    "start_time": "2021-10-17T08:06:12.806Z"
   },
   {
    "duration": 9,
    "start_time": "2021-10-17T08:06:12.822Z"
   },
   {
    "duration": 34,
    "start_time": "2021-10-17T08:06:12.833Z"
   },
   {
    "duration": 9,
    "start_time": "2021-10-17T08:06:12.891Z"
   },
   {
    "duration": 3248,
    "start_time": "2021-10-17T08:06:12.902Z"
   },
   {
    "duration": 23,
    "start_time": "2021-10-17T08:06:16.152Z"
   },
   {
    "duration": 3,
    "start_time": "2021-10-17T08:06:16.191Z"
   },
   {
    "duration": 67,
    "start_time": "2021-10-17T08:26:33.143Z"
   },
   {
    "duration": 56,
    "start_time": "2021-10-17T08:26:38.330Z"
   },
   {
    "duration": 4,
    "start_time": "2021-10-17T08:27:28.068Z"
   },
   {
    "duration": 17,
    "start_time": "2021-10-17T08:28:24.841Z"
   },
   {
    "duration": 6,
    "start_time": "2021-10-17T08:28:52.241Z"
   },
   {
    "duration": 4,
    "start_time": "2021-10-17T08:30:59.759Z"
   },
   {
    "duration": 5,
    "start_time": "2021-10-17T08:31:01.870Z"
   },
   {
    "duration": 20,
    "start_time": "2021-10-17T08:31:04.277Z"
   },
   {
    "duration": 6,
    "start_time": "2021-10-17T08:31:06.080Z"
   },
   {
    "duration": 57,
    "start_time": "2021-10-17T08:52:19.208Z"
   },
   {
    "duration": 5,
    "start_time": "2021-10-17T08:54:07.734Z"
   },
   {
    "duration": 14,
    "start_time": "2021-10-17T08:54:10.792Z"
   },
   {
    "duration": 7,
    "start_time": "2021-10-17T08:54:12.200Z"
   },
   {
    "duration": 33,
    "start_time": "2021-10-17T08:55:05.093Z"
   },
   {
    "duration": 4,
    "start_time": "2021-10-17T08:57:05.608Z"
   },
   {
    "duration": 4,
    "start_time": "2021-10-17T08:57:07.665Z"
   },
   {
    "duration": 16,
    "start_time": "2021-10-17T08:57:15.743Z"
   },
   {
    "duration": 8,
    "start_time": "2021-10-17T08:57:17.794Z"
   },
   {
    "duration": 5,
    "start_time": "2021-10-17T08:57:50.446Z"
   },
   {
    "duration": 14,
    "start_time": "2021-10-17T08:57:52.584Z"
   },
   {
    "duration": 8,
    "start_time": "2021-10-17T08:57:54.233Z"
   },
   {
    "duration": 14,
    "start_time": "2021-10-17T08:58:29.791Z"
   },
   {
    "duration": 11,
    "start_time": "2021-10-17T09:01:11.161Z"
   },
   {
    "duration": 8,
    "start_time": "2021-10-17T09:01:20.654Z"
   },
   {
    "duration": 9,
    "start_time": "2021-10-17T09:03:58.865Z"
   },
   {
    "duration": 8,
    "start_time": "2021-10-17T09:04:01.277Z"
   },
   {
    "duration": 14,
    "start_time": "2021-10-17T09:04:08.412Z"
   },
   {
    "duration": 6,
    "start_time": "2021-10-17T09:04:37.978Z"
   },
   {
    "duration": 8,
    "start_time": "2021-10-17T09:04:44.527Z"
   },
   {
    "duration": 7,
    "start_time": "2021-10-17T09:04:58.365Z"
   },
   {
    "duration": 7,
    "start_time": "2021-10-17T09:11:32.442Z"
   },
   {
    "duration": 6,
    "start_time": "2021-10-17T09:11:34.421Z"
   },
   {
    "duration": 242,
    "start_time": "2021-10-17T09:11:37.381Z"
   },
   {
    "duration": 11,
    "start_time": "2021-10-17T09:11:46.574Z"
   },
   {
    "duration": 12,
    "start_time": "2021-10-17T09:12:34.177Z"
   },
   {
    "duration": 7,
    "start_time": "2021-10-17T09:13:11.860Z"
   },
   {
    "duration": 25,
    "start_time": "2021-10-17T09:16:11.061Z"
   },
   {
    "duration": 8,
    "start_time": "2021-10-17T09:16:43.876Z"
   },
   {
    "duration": 239,
    "start_time": "2021-10-17T09:24:05.706Z"
   },
   {
    "duration": 166,
    "start_time": "2021-10-17T09:24:55.905Z"
   },
   {
    "duration": 178,
    "start_time": "2021-10-17T09:25:03.544Z"
   },
   {
    "duration": 286,
    "start_time": "2021-10-17T09:25:08.185Z"
   },
   {
    "duration": 164,
    "start_time": "2021-10-17T09:25:26.977Z"
   },
   {
    "duration": 158,
    "start_time": "2021-10-17T09:25:31.905Z"
   },
   {
    "duration": 164,
    "start_time": "2021-10-17T09:25:36.436Z"
   },
   {
    "duration": 181,
    "start_time": "2021-10-17T09:26:11.065Z"
   },
   {
    "duration": 161,
    "start_time": "2021-10-17T09:26:34.775Z"
   },
   {
    "duration": 8,
    "start_time": "2021-10-17T09:27:11.887Z"
   },
   {
    "duration": 1231,
    "start_time": "2021-10-17T09:27:27.626Z"
   },
   {
    "duration": 10,
    "start_time": "2021-10-17T09:27:45.917Z"
   },
   {
    "duration": 13,
    "start_time": "2021-10-17T09:29:23.816Z"
   },
   {
    "duration": 15,
    "start_time": "2021-10-17T09:30:50.704Z"
   },
   {
    "duration": 13,
    "start_time": "2021-10-17T09:31:01.520Z"
   },
   {
    "duration": 12,
    "start_time": "2021-10-17T09:33:38.068Z"
   },
   {
    "duration": 172,
    "start_time": "2021-10-17T09:36:34.750Z"
   },
   {
    "duration": 800,
    "start_time": "2021-10-17T09:37:06.550Z"
   },
   {
    "duration": 892,
    "start_time": "2021-10-17T09:37:37.252Z"
   },
   {
    "duration": 189,
    "start_time": "2021-10-17T09:38:01.510Z"
   },
   {
    "duration": 172,
    "start_time": "2021-10-17T09:38:11.400Z"
   },
   {
    "duration": 166,
    "start_time": "2021-10-17T09:46:27.995Z"
   },
   {
    "duration": 3,
    "start_time": "2021-10-17T09:46:38.673Z"
   },
   {
    "duration": 4,
    "start_time": "2021-10-17T09:46:40.552Z"
   },
   {
    "duration": 4,
    "start_time": "2021-10-17T09:46:46.034Z"
   },
   {
    "duration": 4,
    "start_time": "2021-10-17T09:46:52.313Z"
   },
   {
    "duration": 5,
    "start_time": "2021-10-17T09:47:10.063Z"
   },
   {
    "duration": 4,
    "start_time": "2021-10-17T09:47:17.403Z"
   },
   {
    "duration": 4,
    "start_time": "2021-10-17T09:47:28.048Z"
   },
   {
    "duration": 3,
    "start_time": "2021-10-17T09:47:36.543Z"
   },
   {
    "duration": 3,
    "start_time": "2021-10-17T09:47:38.955Z"
   },
   {
    "duration": 4,
    "start_time": "2021-10-17T09:47:41.242Z"
   },
   {
    "duration": 3,
    "start_time": "2021-10-17T09:47:43.040Z"
   },
   {
    "duration": 53,
    "start_time": "2021-10-17T09:47:49.571Z"
   },
   {
    "duration": 8,
    "start_time": "2021-10-17T09:47:49.626Z"
   },
   {
    "duration": 13,
    "start_time": "2021-10-17T09:47:49.636Z"
   },
   {
    "duration": 5,
    "start_time": "2021-10-17T09:47:49.651Z"
   },
   {
    "duration": 12,
    "start_time": "2021-10-17T09:47:49.658Z"
   },
   {
    "duration": 5,
    "start_time": "2021-10-17T09:47:49.692Z"
   },
   {
    "duration": 5,
    "start_time": "2021-10-17T09:47:49.699Z"
   },
   {
    "duration": 8,
    "start_time": "2021-10-17T09:47:49.706Z"
   },
   {
    "duration": 4,
    "start_time": "2021-10-17T09:47:49.716Z"
   },
   {
    "duration": 11,
    "start_time": "2021-10-17T09:47:49.722Z"
   },
   {
    "duration": 8,
    "start_time": "2021-10-17T09:47:49.735Z"
   },
   {
    "duration": 51,
    "start_time": "2021-10-17T09:47:49.744Z"
   },
   {
    "duration": 12,
    "start_time": "2021-10-17T09:47:49.797Z"
   },
   {
    "duration": 33,
    "start_time": "2021-10-17T09:47:49.811Z"
   },
   {
    "duration": 12,
    "start_time": "2021-10-17T09:47:49.845Z"
   },
   {
    "duration": 3523,
    "start_time": "2021-10-17T09:47:49.858Z"
   },
   {
    "duration": 29,
    "start_time": "2021-10-17T09:47:53.383Z"
   },
   {
    "duration": 5,
    "start_time": "2021-10-17T09:47:53.414Z"
   },
   {
    "duration": 5,
    "start_time": "2021-10-17T09:47:53.421Z"
   },
   {
    "duration": 6,
    "start_time": "2021-10-17T09:47:53.427Z"
   },
   {
    "duration": 18,
    "start_time": "2021-10-17T09:47:53.436Z"
   },
   {
    "duration": 36,
    "start_time": "2021-10-17T09:47:53.456Z"
   },
   {
    "duration": 186,
    "start_time": "2021-10-17T09:47:53.494Z"
   },
   {
    "duration": 20,
    "start_time": "2021-10-17T09:47:53.682Z"
   },
   {
    "duration": 187,
    "start_time": "2021-10-17T09:47:53.704Z"
   },
   {
    "duration": 3,
    "start_time": "2021-10-17T09:47:53.893Z"
   },
   {
    "duration": 8,
    "start_time": "2021-10-17T09:47:53.897Z"
   },
   {
    "duration": 11,
    "start_time": "2021-10-17T09:47:53.907Z"
   },
   {
    "duration": 5,
    "start_time": "2021-10-17T09:47:53.919Z"
   },
   {
    "duration": 10,
    "start_time": "2021-10-17T09:47:53.925Z"
   },
   {
    "duration": 5,
    "start_time": "2021-10-17T09:48:01.065Z"
   },
   {
    "duration": 4,
    "start_time": "2021-10-17T09:48:11.053Z"
   },
   {
    "duration": 3,
    "start_time": "2021-10-17T09:48:26.094Z"
   },
   {
    "duration": 4,
    "start_time": "2021-10-17T09:48:29.676Z"
   },
   {
    "duration": 3,
    "start_time": "2021-10-17T09:48:36.239Z"
   },
   {
    "duration": 162,
    "start_time": "2021-10-17T09:49:02.718Z"
   },
   {
    "duration": 180,
    "start_time": "2021-10-17T09:50:48.725Z"
   },
   {
    "duration": 11,
    "start_time": "2021-10-17T09:51:02.435Z"
   },
   {
    "duration": 15,
    "start_time": "2021-10-17T09:51:27.296Z"
   },
   {
    "duration": 3,
    "start_time": "2021-10-17T09:51:50.750Z"
   },
   {
    "duration": 14,
    "start_time": "2021-10-17T09:51:52.784Z"
   },
   {
    "duration": 4,
    "start_time": "2021-10-17T09:52:18.421Z"
   },
   {
    "duration": 13,
    "start_time": "2021-10-17T09:52:19.993Z"
   },
   {
    "duration": 4,
    "start_time": "2021-10-17T09:52:56.126Z"
   },
   {
    "duration": 14,
    "start_time": "2021-10-17T09:52:57.872Z"
   },
   {
    "duration": 4,
    "start_time": "2021-10-17T09:53:26.826Z"
   },
   {
    "duration": 13,
    "start_time": "2021-10-17T09:53:29.771Z"
   },
   {
    "duration": 4,
    "start_time": "2021-10-17T09:53:55.267Z"
   },
   {
    "duration": 15,
    "start_time": "2021-10-17T09:53:57.381Z"
   },
   {
    "duration": 4,
    "start_time": "2021-10-17T09:55:04.379Z"
   },
   {
    "duration": 15,
    "start_time": "2021-10-17T09:55:06.141Z"
   },
   {
    "duration": 18,
    "start_time": "2021-10-17T09:55:55.430Z"
   },
   {
    "duration": 3139,
    "start_time": "2021-10-17T10:00:34.170Z"
   },
   {
    "duration": 13,
    "start_time": "2021-10-17T10:01:08.790Z"
   },
   {
    "duration": 8,
    "start_time": "2021-10-17T10:03:08.880Z"
   },
   {
    "duration": 25,
    "start_time": "2021-10-17T10:03:51.381Z"
   },
   {
    "duration": 5,
    "start_time": "2021-10-17T10:05:13.703Z"
   },
   {
    "duration": 5,
    "start_time": "2021-10-17T10:05:33.660Z"
   },
   {
    "duration": 16,
    "start_time": "2021-10-17T10:05:36.659Z"
   },
   {
    "duration": 8,
    "start_time": "2021-10-17T10:05:38.871Z"
   },
   {
    "duration": 54,
    "start_time": "2021-10-17T10:05:52.460Z"
   },
   {
    "duration": 9,
    "start_time": "2021-10-17T10:05:52.516Z"
   },
   {
    "duration": 10,
    "start_time": "2021-10-17T10:05:52.526Z"
   },
   {
    "duration": 5,
    "start_time": "2021-10-17T10:05:52.538Z"
   },
   {
    "duration": 17,
    "start_time": "2021-10-17T10:05:52.544Z"
   },
   {
    "duration": 33,
    "start_time": "2021-10-17T10:05:52.562Z"
   },
   {
    "duration": 3,
    "start_time": "2021-10-17T10:05:52.597Z"
   },
   {
    "duration": 6,
    "start_time": "2021-10-17T10:05:52.603Z"
   },
   {
    "duration": 4,
    "start_time": "2021-10-17T10:05:52.610Z"
   },
   {
    "duration": 11,
    "start_time": "2021-10-17T10:05:52.616Z"
   },
   {
    "duration": 9,
    "start_time": "2021-10-17T10:05:52.628Z"
   },
   {
    "duration": 13,
    "start_time": "2021-10-17T10:05:52.638Z"
   },
   {
    "duration": 41,
    "start_time": "2021-10-17T10:05:52.653Z"
   },
   {
    "duration": 30,
    "start_time": "2021-10-17T10:05:52.696Z"
   },
   {
    "duration": 9,
    "start_time": "2021-10-17T10:05:52.727Z"
   },
   {
    "duration": 3566,
    "start_time": "2021-10-17T10:05:52.738Z"
   },
   {
    "duration": 26,
    "start_time": "2021-10-17T10:05:56.306Z"
   },
   {
    "duration": 5,
    "start_time": "2021-10-17T10:05:56.334Z"
   },
   {
    "duration": 20,
    "start_time": "2021-10-17T10:05:56.341Z"
   },
   {
    "duration": 9,
    "start_time": "2021-10-17T10:05:56.363Z"
   },
   {
    "duration": 21,
    "start_time": "2021-10-17T10:05:56.373Z"
   },
   {
    "duration": 18,
    "start_time": "2021-10-17T10:05:56.396Z"
   },
   {
    "duration": 15,
    "start_time": "2021-10-17T10:05:56.417Z"
   },
   {
    "duration": 6,
    "start_time": "2021-10-17T10:05:56.434Z"
   },
   {
    "duration": 10,
    "start_time": "2021-10-17T10:05:56.442Z"
   },
   {
    "duration": 46,
    "start_time": "2021-10-17T10:05:56.454Z"
   },
   {
    "duration": 12,
    "start_time": "2021-10-17T10:05:56.502Z"
   },
   {
    "duration": 27,
    "start_time": "2021-10-17T10:05:56.515Z"
   },
   {
    "duration": 34,
    "start_time": "2021-10-17T10:13:18.644Z"
   },
   {
    "duration": 16,
    "start_time": "2021-10-17T10:13:33.345Z"
   },
   {
    "duration": 53,
    "start_time": "2021-10-17T10:17:57.605Z"
   },
   {
    "duration": 8,
    "start_time": "2021-10-17T10:17:57.660Z"
   },
   {
    "duration": 9,
    "start_time": "2021-10-17T10:17:57.671Z"
   },
   {
    "duration": 10,
    "start_time": "2021-10-17T10:17:57.682Z"
   },
   {
    "duration": 16,
    "start_time": "2021-10-17T10:17:57.694Z"
   },
   {
    "duration": 7,
    "start_time": "2021-10-17T10:17:57.711Z"
   },
   {
    "duration": 5,
    "start_time": "2021-10-17T10:17:57.720Z"
   },
   {
    "duration": 4,
    "start_time": "2021-10-17T10:17:57.728Z"
   },
   {
    "duration": 4,
    "start_time": "2021-10-17T10:17:57.734Z"
   },
   {
    "duration": 60,
    "start_time": "2021-10-17T10:17:57.740Z"
   },
   {
    "duration": 9,
    "start_time": "2021-10-17T10:17:57.801Z"
   },
   {
    "duration": 15,
    "start_time": "2021-10-17T10:17:57.811Z"
   },
   {
    "duration": 11,
    "start_time": "2021-10-17T10:17:57.827Z"
   },
   {
    "duration": 52,
    "start_time": "2021-10-17T10:17:57.840Z"
   },
   {
    "duration": 10,
    "start_time": "2021-10-17T10:17:57.894Z"
   },
   {
    "duration": 3454,
    "start_time": "2021-10-17T10:17:57.905Z"
   },
   {
    "duration": 38,
    "start_time": "2021-10-17T10:18:01.361Z"
   },
   {
    "duration": 5,
    "start_time": "2021-10-17T10:18:01.401Z"
   },
   {
    "duration": 23,
    "start_time": "2021-10-17T10:18:01.408Z"
   },
   {
    "duration": 9,
    "start_time": "2021-10-17T10:18:01.433Z"
   },
   {
    "duration": 6,
    "start_time": "2021-10-17T10:18:01.444Z"
   },
   {
    "duration": 22,
    "start_time": "2021-10-17T10:18:01.452Z"
   },
   {
    "duration": 17,
    "start_time": "2021-10-17T10:18:01.494Z"
   },
   {
    "duration": 7,
    "start_time": "2021-10-17T10:18:01.519Z"
   },
   {
    "duration": 12,
    "start_time": "2021-10-17T10:18:01.527Z"
   },
   {
    "duration": 17,
    "start_time": "2021-10-17T10:18:01.541Z"
   },
   {
    "duration": 38,
    "start_time": "2021-10-17T10:18:01.559Z"
   },
   {
    "duration": 15,
    "start_time": "2021-10-17T10:20:35.197Z"
   },
   {
    "duration": 1196,
    "start_time": "2021-10-17T10:20:37.444Z"
   },
   {
    "duration": 1337,
    "start_time": "2021-10-17T10:20:40.928Z"
   },
   {
    "duration": 57,
    "start_time": "2021-10-17T10:21:14.980Z"
   },
   {
    "duration": 9,
    "start_time": "2021-10-17T10:21:15.039Z"
   },
   {
    "duration": 9,
    "start_time": "2021-10-17T10:21:15.050Z"
   },
   {
    "duration": 31,
    "start_time": "2021-10-17T10:21:15.061Z"
   },
   {
    "duration": 13,
    "start_time": "2021-10-17T10:21:15.094Z"
   },
   {
    "duration": 5,
    "start_time": "2021-10-17T10:21:15.108Z"
   },
   {
    "duration": 3,
    "start_time": "2021-10-17T10:21:15.114Z"
   },
   {
    "duration": 5,
    "start_time": "2021-10-17T10:21:15.119Z"
   },
   {
    "duration": 6,
    "start_time": "2021-10-17T10:21:15.125Z"
   },
   {
    "duration": 11,
    "start_time": "2021-10-17T10:21:15.132Z"
   },
   {
    "duration": 8,
    "start_time": "2021-10-17T10:21:15.145Z"
   },
   {
    "duration": 50,
    "start_time": "2021-10-17T10:21:15.154Z"
   },
   {
    "duration": 12,
    "start_time": "2021-10-17T10:21:15.205Z"
   },
   {
    "duration": 31,
    "start_time": "2021-10-17T10:21:15.218Z"
   },
   {
    "duration": 10,
    "start_time": "2021-10-17T10:21:15.250Z"
   },
   {
    "duration": 3286,
    "start_time": "2021-10-17T10:21:15.261Z"
   },
   {
    "duration": 26,
    "start_time": "2021-10-17T10:21:18.548Z"
   },
   {
    "duration": 18,
    "start_time": "2021-10-17T10:21:18.575Z"
   },
   {
    "duration": 24,
    "start_time": "2021-10-17T10:21:18.594Z"
   },
   {
    "duration": 7,
    "start_time": "2021-10-17T10:21:18.620Z"
   },
   {
    "duration": 5,
    "start_time": "2021-10-17T10:21:18.629Z"
   },
   {
    "duration": 16,
    "start_time": "2021-10-17T10:21:18.636Z"
   },
   {
    "duration": 15,
    "start_time": "2021-10-17T10:21:18.655Z"
   },
   {
    "duration": 23,
    "start_time": "2021-10-17T10:21:18.671Z"
   },
   {
    "duration": 11,
    "start_time": "2021-10-17T10:21:18.696Z"
   },
   {
    "duration": 10,
    "start_time": "2021-10-17T10:21:18.709Z"
   },
   {
    "duration": 10,
    "start_time": "2021-10-17T10:21:18.721Z"
   },
   {
    "duration": 63,
    "start_time": "2021-10-17T10:22:26.368Z"
   },
   {
    "duration": 1202,
    "start_time": "2021-10-17T10:22:29.328Z"
   },
   {
    "duration": 599,
    "start_time": "2021-10-17T10:23:07.628Z"
   },
   {
    "duration": 14,
    "start_time": "2021-10-17T10:23:08.229Z"
   },
   {
    "duration": 8,
    "start_time": "2021-10-17T10:23:08.245Z"
   },
   {
    "duration": 5,
    "start_time": "2021-10-17T10:23:08.255Z"
   },
   {
    "duration": 39,
    "start_time": "2021-10-17T10:23:08.261Z"
   },
   {
    "duration": 5,
    "start_time": "2021-10-17T10:23:08.302Z"
   },
   {
    "duration": 6,
    "start_time": "2021-10-17T10:23:08.309Z"
   },
   {
    "duration": 5,
    "start_time": "2021-10-17T10:23:08.317Z"
   },
   {
    "duration": 5,
    "start_time": "2021-10-17T10:23:08.324Z"
   },
   {
    "duration": 12,
    "start_time": "2021-10-17T10:23:08.330Z"
   },
   {
    "duration": 9,
    "start_time": "2021-10-17T10:23:08.344Z"
   },
   {
    "duration": 41,
    "start_time": "2021-10-17T10:23:08.355Z"
   },
   {
    "duration": 11,
    "start_time": "2021-10-17T10:23:08.397Z"
   },
   {
    "duration": 16,
    "start_time": "2021-10-17T10:23:08.409Z"
   },
   {
    "duration": 29,
    "start_time": "2021-10-17T10:23:08.427Z"
   },
   {
    "duration": 34,
    "start_time": "2021-10-17T10:23:08.457Z"
   },
   {
    "duration": 3511,
    "start_time": "2021-10-17T10:23:08.493Z"
   },
   {
    "duration": 25,
    "start_time": "2021-10-17T10:23:12.006Z"
   },
   {
    "duration": 7,
    "start_time": "2021-10-17T10:23:12.032Z"
   },
   {
    "duration": 35,
    "start_time": "2021-10-17T10:23:12.040Z"
   },
   {
    "duration": 20,
    "start_time": "2021-10-17T10:23:12.077Z"
   },
   {
    "duration": 5,
    "start_time": "2021-10-17T10:23:12.098Z"
   },
   {
    "duration": 15,
    "start_time": "2021-10-17T10:23:12.107Z"
   },
   {
    "duration": 18,
    "start_time": "2021-10-17T10:23:12.124Z"
   },
   {
    "duration": 6,
    "start_time": "2021-10-17T10:23:12.143Z"
   },
   {
    "duration": 41,
    "start_time": "2021-10-17T10:23:12.151Z"
   },
   {
    "duration": 10,
    "start_time": "2021-10-17T10:23:12.194Z"
   },
   {
    "duration": 10,
    "start_time": "2021-10-17T10:23:12.206Z"
   },
   {
    "duration": 15,
    "start_time": "2021-10-17T10:26:26.485Z"
   },
   {
    "duration": 1298,
    "start_time": "2021-10-17T10:27:16.308Z"
   },
   {
    "duration": 594,
    "start_time": "2021-10-17T10:27:32.727Z"
   },
   {
    "duration": 14,
    "start_time": "2021-10-17T10:27:33.322Z"
   },
   {
    "duration": 8,
    "start_time": "2021-10-17T10:27:33.337Z"
   },
   {
    "duration": 5,
    "start_time": "2021-10-17T10:27:33.347Z"
   },
   {
    "duration": 12,
    "start_time": "2021-10-17T10:27:33.353Z"
   },
   {
    "duration": 7,
    "start_time": "2021-10-17T10:27:33.392Z"
   },
   {
    "duration": 6,
    "start_time": "2021-10-17T10:27:33.401Z"
   },
   {
    "duration": 3,
    "start_time": "2021-10-17T10:27:33.409Z"
   },
   {
    "duration": 5,
    "start_time": "2021-10-17T10:27:33.414Z"
   },
   {
    "duration": 13,
    "start_time": "2021-10-17T10:27:33.421Z"
   },
   {
    "duration": 8,
    "start_time": "2021-10-17T10:27:33.435Z"
   },
   {
    "duration": 15,
    "start_time": "2021-10-17T10:27:33.444Z"
   },
   {
    "duration": 47,
    "start_time": "2021-10-17T10:27:33.460Z"
   },
   {
    "duration": 15,
    "start_time": "2021-10-17T10:27:33.508Z"
   },
   {
    "duration": 27,
    "start_time": "2021-10-17T10:27:33.525Z"
   },
   {
    "duration": 9,
    "start_time": "2021-10-17T10:27:33.553Z"
   },
   {
    "duration": 3482,
    "start_time": "2021-10-17T10:27:33.564Z"
   },
   {
    "duration": 23,
    "start_time": "2021-10-17T10:27:37.047Z"
   },
   {
    "duration": 19,
    "start_time": "2021-10-17T10:27:37.071Z"
   },
   {
    "duration": 17,
    "start_time": "2021-10-17T10:27:37.096Z"
   },
   {
    "duration": 7,
    "start_time": "2021-10-17T10:27:37.115Z"
   },
   {
    "duration": 8,
    "start_time": "2021-10-17T10:27:37.124Z"
   },
   {
    "duration": 15,
    "start_time": "2021-10-17T10:27:37.135Z"
   },
   {
    "duration": 15,
    "start_time": "2021-10-17T10:27:37.152Z"
   },
   {
    "duration": 32,
    "start_time": "2021-10-17T10:27:37.169Z"
   },
   {
    "duration": 11,
    "start_time": "2021-10-17T10:27:37.202Z"
   },
   {
    "duration": 10,
    "start_time": "2021-10-17T10:27:37.215Z"
   },
   {
    "duration": 10,
    "start_time": "2021-10-17T10:27:37.227Z"
   },
   {
    "duration": 1376,
    "start_time": "2021-10-17T10:28:05.350Z"
   },
   {
    "duration": 611,
    "start_time": "2021-10-17T10:28:17.874Z"
   },
   {
    "duration": 13,
    "start_time": "2021-10-17T10:28:18.486Z"
   },
   {
    "duration": 10,
    "start_time": "2021-10-17T10:28:18.501Z"
   },
   {
    "duration": 7,
    "start_time": "2021-10-17T10:28:18.513Z"
   },
   {
    "duration": 20,
    "start_time": "2021-10-17T10:28:18.521Z"
   },
   {
    "duration": 5,
    "start_time": "2021-10-17T10:28:18.542Z"
   },
   {
    "duration": 10,
    "start_time": "2021-10-17T10:28:18.548Z"
   },
   {
    "duration": 7,
    "start_time": "2021-10-17T10:28:18.561Z"
   },
   {
    "duration": 22,
    "start_time": "2021-10-17T10:28:18.571Z"
   },
   {
    "duration": 22,
    "start_time": "2021-10-17T10:28:18.594Z"
   },
   {
    "duration": 14,
    "start_time": "2021-10-17T10:28:18.617Z"
   },
   {
    "duration": 20,
    "start_time": "2021-10-17T10:28:18.633Z"
   },
   {
    "duration": 12,
    "start_time": "2021-10-17T10:28:18.655Z"
   },
   {
    "duration": 23,
    "start_time": "2021-10-17T10:28:18.669Z"
   },
   {
    "duration": 15,
    "start_time": "2021-10-17T10:28:18.694Z"
   },
   {
    "duration": 11,
    "start_time": "2021-10-17T10:28:18.710Z"
   },
   {
    "duration": 3111,
    "start_time": "2021-10-17T10:28:18.722Z"
   },
   {
    "duration": 22,
    "start_time": "2021-10-17T10:28:21.834Z"
   },
   {
    "duration": 5,
    "start_time": "2021-10-17T10:28:21.858Z"
   },
   {
    "duration": 31,
    "start_time": "2021-10-17T10:28:21.864Z"
   },
   {
    "duration": 7,
    "start_time": "2021-10-17T10:28:21.897Z"
   },
   {
    "duration": 4,
    "start_time": "2021-10-17T10:28:21.905Z"
   },
   {
    "duration": 16,
    "start_time": "2021-10-17T10:28:21.912Z"
   },
   {
    "duration": 16,
    "start_time": "2021-10-17T10:28:21.929Z"
   },
   {
    "duration": 5,
    "start_time": "2021-10-17T10:28:21.946Z"
   },
   {
    "duration": 40,
    "start_time": "2021-10-17T10:28:21.952Z"
   },
   {
    "duration": 9,
    "start_time": "2021-10-17T10:28:21.994Z"
   },
   {
    "duration": 9,
    "start_time": "2021-10-17T10:28:22.005Z"
   },
   {
    "duration": 4,
    "start_time": "2021-10-17T10:43:46.026Z"
   },
   {
    "duration": 22,
    "start_time": "2021-10-17T10:43:49.121Z"
   },
   {
    "duration": 4,
    "start_time": "2021-10-17T10:44:18.566Z"
   },
   {
    "duration": 14,
    "start_time": "2021-10-17T10:44:21.158Z"
   },
   {
    "duration": 67,
    "start_time": "2021-10-17T10:44:32.550Z"
   },
   {
    "duration": 54,
    "start_time": "2021-10-17T10:44:35.576Z"
   },
   {
    "duration": 9,
    "start_time": "2021-10-17T10:44:35.632Z"
   },
   {
    "duration": 10,
    "start_time": "2021-10-17T10:44:35.643Z"
   },
   {
    "duration": 36,
    "start_time": "2021-10-17T10:44:35.655Z"
   },
   {
    "duration": 14,
    "start_time": "2021-10-17T10:44:35.693Z"
   },
   {
    "duration": 6,
    "start_time": "2021-10-17T10:44:35.709Z"
   },
   {
    "duration": 4,
    "start_time": "2021-10-17T10:44:35.717Z"
   },
   {
    "duration": 4,
    "start_time": "2021-10-17T10:44:35.723Z"
   },
   {
    "duration": 5,
    "start_time": "2021-10-17T10:44:35.729Z"
   },
   {
    "duration": 14,
    "start_time": "2021-10-17T10:44:35.735Z"
   },
   {
    "duration": 10,
    "start_time": "2021-10-17T10:44:35.791Z"
   },
   {
    "duration": 15,
    "start_time": "2021-10-17T10:44:35.803Z"
   },
   {
    "duration": 11,
    "start_time": "2021-10-17T10:44:35.819Z"
   },
   {
    "duration": 16,
    "start_time": "2021-10-17T10:44:35.832Z"
   },
   {
    "duration": 48,
    "start_time": "2021-10-17T10:44:35.850Z"
   },
   {
    "duration": 11,
    "start_time": "2021-10-17T10:44:35.900Z"
   },
   {
    "duration": 3452,
    "start_time": "2021-10-17T10:44:35.913Z"
   },
   {
    "duration": 43,
    "start_time": "2021-10-17T10:44:39.367Z"
   },
   {
    "duration": 9,
    "start_time": "2021-10-17T10:44:39.412Z"
   },
   {
    "duration": 18,
    "start_time": "2021-10-17T10:44:39.422Z"
   },
   {
    "duration": 10,
    "start_time": "2021-10-17T10:44:39.441Z"
   },
   {
    "duration": 5,
    "start_time": "2021-10-17T10:44:39.452Z"
   },
   {
    "duration": 31,
    "start_time": "2021-10-17T10:44:39.460Z"
   },
   {
    "duration": 14,
    "start_time": "2021-10-17T10:44:39.493Z"
   },
   {
    "duration": 5,
    "start_time": "2021-10-17T10:44:39.509Z"
   },
   {
    "duration": 13,
    "start_time": "2021-10-17T10:44:39.515Z"
   },
   {
    "duration": 10,
    "start_time": "2021-10-17T10:44:39.530Z"
   },
   {
    "duration": 11,
    "start_time": "2021-10-17T10:44:39.542Z"
   },
   {
    "duration": 24,
    "start_time": "2021-10-17T10:50:47.669Z"
   },
   {
    "duration": 56,
    "start_time": "2021-10-17T10:50:58.912Z"
   },
   {
    "duration": 9,
    "start_time": "2021-10-17T10:50:58.970Z"
   },
   {
    "duration": 20,
    "start_time": "2021-10-17T10:50:58.981Z"
   },
   {
    "duration": 15,
    "start_time": "2021-10-17T10:50:59.003Z"
   },
   {
    "duration": 6,
    "start_time": "2021-10-17T10:50:59.019Z"
   },
   {
    "duration": 13,
    "start_time": "2021-10-17T10:50:59.026Z"
   },
   {
    "duration": 5,
    "start_time": "2021-10-17T10:50:59.040Z"
   },
   {
    "duration": 3,
    "start_time": "2021-10-17T10:50:59.048Z"
   },
   {
    "duration": 4,
    "start_time": "2021-10-17T10:50:59.091Z"
   },
   {
    "duration": 6,
    "start_time": "2021-10-17T10:50:59.096Z"
   },
   {
    "duration": 11,
    "start_time": "2021-10-17T10:50:59.104Z"
   },
   {
    "duration": 9,
    "start_time": "2021-10-17T10:50:59.117Z"
   },
   {
    "duration": 16,
    "start_time": "2021-10-17T10:50:59.128Z"
   },
   {
    "duration": 11,
    "start_time": "2021-10-17T10:50:59.146Z"
   },
   {
    "duration": 47,
    "start_time": "2021-10-17T10:50:59.158Z"
   },
   {
    "duration": 13,
    "start_time": "2021-10-17T10:50:59.207Z"
   },
   {
    "duration": 9,
    "start_time": "2021-10-17T10:50:59.222Z"
   },
   {
    "duration": 3576,
    "start_time": "2021-10-17T10:50:59.232Z"
   },
   {
    "duration": 23,
    "start_time": "2021-10-17T10:51:02.810Z"
   },
   {
    "duration": 7,
    "start_time": "2021-10-17T10:51:02.835Z"
   },
   {
    "duration": 21,
    "start_time": "2021-10-17T10:51:02.844Z"
   },
   {
    "duration": 24,
    "start_time": "2021-10-17T10:51:02.867Z"
   },
   {
    "duration": 4,
    "start_time": "2021-10-17T10:51:02.894Z"
   },
   {
    "duration": 21,
    "start_time": "2021-10-17T10:51:02.899Z"
   },
   {
    "duration": 16,
    "start_time": "2021-10-17T10:51:02.923Z"
   },
   {
    "duration": 6,
    "start_time": "2021-10-17T10:51:02.941Z"
   },
   {
    "duration": 43,
    "start_time": "2021-10-17T10:51:02.949Z"
   },
   {
    "duration": 12,
    "start_time": "2021-10-17T10:51:02.994Z"
   },
   {
    "duration": 11,
    "start_time": "2021-10-17T10:51:03.008Z"
   },
   {
    "duration": 597,
    "start_time": "2021-10-17T10:51:18.056Z"
   },
   {
    "duration": 16,
    "start_time": "2021-10-17T10:51:18.656Z"
   },
   {
    "duration": 31,
    "start_time": "2021-10-17T10:51:18.678Z"
   },
   {
    "duration": 11,
    "start_time": "2021-10-17T10:51:18.712Z"
   },
   {
    "duration": 7,
    "start_time": "2021-10-17T10:51:18.725Z"
   },
   {
    "duration": 14,
    "start_time": "2021-10-17T10:51:18.734Z"
   },
   {
    "duration": 43,
    "start_time": "2021-10-17T10:51:18.752Z"
   },
   {
    "duration": 4,
    "start_time": "2021-10-17T10:51:18.798Z"
   },
   {
    "duration": 8,
    "start_time": "2021-10-17T10:51:18.803Z"
   },
   {
    "duration": 18,
    "start_time": "2021-10-17T10:51:18.813Z"
   },
   {
    "duration": 12,
    "start_time": "2021-10-17T10:51:18.832Z"
   },
   {
    "duration": 8,
    "start_time": "2021-10-17T10:51:18.846Z"
   },
   {
    "duration": 40,
    "start_time": "2021-10-17T10:51:18.856Z"
   },
   {
    "duration": 12,
    "start_time": "2021-10-17T10:51:18.897Z"
   },
   {
    "duration": 15,
    "start_time": "2021-10-17T10:51:18.911Z"
   },
   {
    "duration": 15,
    "start_time": "2021-10-17T10:51:18.928Z"
   },
   {
    "duration": 10,
    "start_time": "2021-10-17T10:51:18.945Z"
   },
   {
    "duration": 3596,
    "start_time": "2021-10-17T10:51:18.957Z"
   },
   {
    "duration": 40,
    "start_time": "2021-10-17T10:51:22.555Z"
   },
   {
    "duration": 6,
    "start_time": "2021-10-17T10:51:22.597Z"
   },
   {
    "duration": 19,
    "start_time": "2021-10-17T10:51:22.605Z"
   },
   {
    "duration": 13,
    "start_time": "2021-10-17T10:51:22.627Z"
   },
   {
    "duration": 4,
    "start_time": "2021-10-17T10:51:22.642Z"
   },
   {
    "duration": 47,
    "start_time": "2021-10-17T10:51:22.647Z"
   },
   {
    "duration": 16,
    "start_time": "2021-10-17T10:51:22.696Z"
   },
   {
    "duration": 5,
    "start_time": "2021-10-17T10:51:22.714Z"
   },
   {
    "duration": 17,
    "start_time": "2021-10-17T10:51:22.720Z"
   },
   {
    "duration": 10,
    "start_time": "2021-10-17T10:51:22.739Z"
   },
   {
    "duration": 49,
    "start_time": "2021-10-17T10:51:22.751Z"
   },
   {
    "duration": 57,
    "start_time": "2021-10-17T10:51:42.182Z"
   },
   {
    "duration": 9,
    "start_time": "2021-10-17T10:51:42.241Z"
   },
   {
    "duration": 48,
    "start_time": "2021-10-17T10:51:42.252Z"
   },
   {
    "duration": 10,
    "start_time": "2021-10-17T10:51:42.302Z"
   },
   {
    "duration": 6,
    "start_time": "2021-10-17T10:51:42.314Z"
   },
   {
    "duration": 15,
    "start_time": "2021-10-17T10:51:42.321Z"
   },
   {
    "duration": 8,
    "start_time": "2021-10-17T10:51:42.338Z"
   },
   {
    "duration": 42,
    "start_time": "2021-10-17T10:51:42.349Z"
   },
   {
    "duration": 5,
    "start_time": "2021-10-17T10:51:42.394Z"
   },
   {
    "duration": 24,
    "start_time": "2021-10-17T10:51:42.400Z"
   },
   {
    "duration": 18,
    "start_time": "2021-10-17T10:51:42.426Z"
   },
   {
    "duration": 17,
    "start_time": "2021-10-17T10:51:42.446Z"
   },
   {
    "duration": 18,
    "start_time": "2021-10-17T10:51:42.465Z"
   },
   {
    "duration": 19,
    "start_time": "2021-10-17T10:51:42.484Z"
   },
   {
    "duration": 26,
    "start_time": "2021-10-17T10:51:42.505Z"
   },
   {
    "duration": 22,
    "start_time": "2021-10-17T10:51:42.533Z"
   },
   {
    "duration": 11,
    "start_time": "2021-10-17T10:51:42.556Z"
   },
   {
    "duration": 3480,
    "start_time": "2021-10-17T10:51:42.569Z"
   },
   {
    "duration": 43,
    "start_time": "2021-10-17T10:51:46.050Z"
   },
   {
    "duration": 5,
    "start_time": "2021-10-17T10:51:46.095Z"
   },
   {
    "duration": 21,
    "start_time": "2021-10-17T10:51:46.101Z"
   },
   {
    "duration": 7,
    "start_time": "2021-10-17T10:51:46.124Z"
   },
   {
    "duration": 6,
    "start_time": "2021-10-17T10:51:46.134Z"
   },
   {
    "duration": 20,
    "start_time": "2021-10-17T10:51:46.142Z"
   },
   {
    "duration": 40,
    "start_time": "2021-10-17T10:51:46.164Z"
   },
   {
    "duration": 5,
    "start_time": "2021-10-17T10:51:46.206Z"
   },
   {
    "duration": 11,
    "start_time": "2021-10-17T10:51:46.213Z"
   },
   {
    "duration": 10,
    "start_time": "2021-10-17T10:51:46.225Z"
   },
   {
    "duration": 10,
    "start_time": "2021-10-17T10:51:46.236Z"
   },
   {
    "duration": 3625,
    "start_time": "2021-10-17T10:56:05.601Z"
   },
   {
    "duration": 62,
    "start_time": "2021-10-17T10:56:29.992Z"
   },
   {
    "duration": 9,
    "start_time": "2021-10-17T10:56:30.056Z"
   },
   {
    "duration": 9,
    "start_time": "2021-10-17T10:56:30.067Z"
   },
   {
    "duration": 5,
    "start_time": "2021-10-17T10:56:30.092Z"
   },
   {
    "duration": 14,
    "start_time": "2021-10-17T10:56:30.099Z"
   },
   {
    "duration": 6,
    "start_time": "2021-10-17T10:56:30.115Z"
   },
   {
    "duration": 8,
    "start_time": "2021-10-17T10:56:30.123Z"
   },
   {
    "duration": 7,
    "start_time": "2021-10-17T10:56:30.134Z"
   },
   {
    "duration": 7,
    "start_time": "2021-10-17T10:56:30.143Z"
   },
   {
    "duration": 41,
    "start_time": "2021-10-17T10:56:30.151Z"
   },
   {
    "duration": 10,
    "start_time": "2021-10-17T10:56:30.193Z"
   },
   {
    "duration": 15,
    "start_time": "2021-10-17T10:56:30.204Z"
   },
   {
    "duration": 11,
    "start_time": "2021-10-17T10:56:30.220Z"
   },
   {
    "duration": 14,
    "start_time": "2021-10-17T10:56:30.233Z"
   },
   {
    "duration": 46,
    "start_time": "2021-10-17T10:56:30.249Z"
   },
   {
    "duration": 11,
    "start_time": "2021-10-17T10:56:30.297Z"
   },
   {
    "duration": 3527,
    "start_time": "2021-10-17T10:56:30.310Z"
   },
   {
    "duration": 28,
    "start_time": "2021-10-17T10:56:33.840Z"
   },
   {
    "duration": 6,
    "start_time": "2021-10-17T10:56:33.870Z"
   },
   {
    "duration": 32,
    "start_time": "2021-10-17T10:56:33.878Z"
   },
   {
    "duration": 7,
    "start_time": "2021-10-17T10:56:33.912Z"
   },
   {
    "duration": 4,
    "start_time": "2021-10-17T10:56:33.921Z"
   },
   {
    "duration": 15,
    "start_time": "2021-10-17T10:56:33.928Z"
   },
   {
    "duration": 13,
    "start_time": "2021-10-17T10:56:33.945Z"
   },
   {
    "duration": 5,
    "start_time": "2021-10-17T10:56:33.960Z"
   },
   {
    "duration": 11,
    "start_time": "2021-10-17T10:56:33.991Z"
   },
   {
    "duration": 10,
    "start_time": "2021-10-17T10:56:34.004Z"
   },
   {
    "duration": 10,
    "start_time": "2021-10-17T10:56:34.015Z"
   },
   {
    "duration": 13,
    "start_time": "2021-10-17T11:00:53.759Z"
   },
   {
    "duration": 13,
    "start_time": "2021-10-17T11:01:10.199Z"
   },
   {
    "duration": 55,
    "start_time": "2021-10-17T11:01:38.508Z"
   },
   {
    "duration": 9,
    "start_time": "2021-10-17T11:01:38.565Z"
   },
   {
    "duration": 8,
    "start_time": "2021-10-17T11:01:38.576Z"
   },
   {
    "duration": 6,
    "start_time": "2021-10-17T11:01:38.610Z"
   },
   {
    "duration": 12,
    "start_time": "2021-10-17T11:01:38.645Z"
   },
   {
    "duration": 5,
    "start_time": "2021-10-17T11:01:38.659Z"
   },
   {
    "duration": 6,
    "start_time": "2021-10-17T11:01:38.666Z"
   },
   {
    "duration": 4,
    "start_time": "2021-10-17T11:01:38.674Z"
   },
   {
    "duration": 5,
    "start_time": "2021-10-17T11:01:38.680Z"
   },
   {
    "duration": 20,
    "start_time": "2021-10-17T11:01:38.687Z"
   },
   {
    "duration": 15,
    "start_time": "2021-10-17T11:01:38.709Z"
   },
   {
    "duration": 21,
    "start_time": "2021-10-17T11:01:38.727Z"
   },
   {
    "duration": 43,
    "start_time": "2021-10-17T11:01:38.750Z"
   },
   {
    "duration": 15,
    "start_time": "2021-10-17T11:01:38.794Z"
   },
   {
    "duration": 14,
    "start_time": "2021-10-17T11:01:38.811Z"
   },
   {
    "duration": 10,
    "start_time": "2021-10-17T11:01:38.826Z"
   },
   {
    "duration": 3468,
    "start_time": "2021-10-17T11:01:38.838Z"
   },
   {
    "duration": 31,
    "start_time": "2021-10-17T11:01:42.308Z"
   },
   {
    "duration": 6,
    "start_time": "2021-10-17T11:01:42.341Z"
   },
   {
    "duration": 20,
    "start_time": "2021-10-17T11:01:42.348Z"
   },
   {
    "duration": 25,
    "start_time": "2021-10-17T11:01:42.370Z"
   },
   {
    "duration": 4,
    "start_time": "2021-10-17T11:01:42.396Z"
   },
   {
    "duration": 17,
    "start_time": "2021-10-17T11:01:42.402Z"
   },
   {
    "duration": 12,
    "start_time": "2021-10-17T11:01:42.421Z"
   },
   {
    "duration": 4,
    "start_time": "2021-10-17T11:01:42.435Z"
   },
   {
    "duration": 54,
    "start_time": "2021-10-17T11:01:42.441Z"
   },
   {
    "duration": 13,
    "start_time": "2021-10-17T11:01:42.497Z"
   },
   {
    "duration": 13,
    "start_time": "2021-10-17T11:01:42.512Z"
   },
   {
    "duration": 621,
    "start_time": "2021-10-17T11:02:03.496Z"
   },
   {
    "duration": 13,
    "start_time": "2021-10-17T11:02:04.119Z"
   },
   {
    "duration": 8,
    "start_time": "2021-10-17T11:02:04.134Z"
   },
   {
    "duration": 5,
    "start_time": "2021-10-17T11:02:04.144Z"
   },
   {
    "duration": 42,
    "start_time": "2021-10-17T11:02:04.150Z"
   },
   {
    "duration": 5,
    "start_time": "2021-10-17T11:02:04.194Z"
   },
   {
    "duration": 5,
    "start_time": "2021-10-17T11:02:04.201Z"
   },
   {
    "duration": 4,
    "start_time": "2021-10-17T11:02:04.208Z"
   },
   {
    "duration": 5,
    "start_time": "2021-10-17T11:02:04.214Z"
   },
   {
    "duration": 13,
    "start_time": "2021-10-17T11:02:04.220Z"
   },
   {
    "duration": 9,
    "start_time": "2021-10-17T11:02:04.235Z"
   },
   {
    "duration": 56,
    "start_time": "2021-10-17T11:02:04.245Z"
   },
   {
    "duration": 11,
    "start_time": "2021-10-17T11:02:04.303Z"
   },
   {
    "duration": 17,
    "start_time": "2021-10-17T11:02:04.315Z"
   },
   {
    "duration": 15,
    "start_time": "2021-10-17T11:02:04.333Z"
   },
   {
    "duration": 10,
    "start_time": "2021-10-17T11:02:04.350Z"
   },
   {
    "duration": 3671,
    "start_time": "2021-10-17T11:02:04.362Z"
   },
   {
    "duration": 24,
    "start_time": "2021-10-17T11:02:08.035Z"
   },
   {
    "duration": 18,
    "start_time": "2021-10-17T11:02:08.060Z"
   },
   {
    "duration": 39,
    "start_time": "2021-10-17T11:02:08.080Z"
   },
   {
    "duration": 18,
    "start_time": "2021-10-17T11:02:08.121Z"
   },
   {
    "duration": 17,
    "start_time": "2021-10-17T11:02:08.141Z"
   },
   {
    "duration": 37,
    "start_time": "2021-10-17T11:02:08.161Z"
   },
   {
    "duration": 36,
    "start_time": "2021-10-17T11:02:08.200Z"
   },
   {
    "duration": 21,
    "start_time": "2021-10-17T11:02:08.238Z"
   },
   {
    "duration": 16,
    "start_time": "2021-10-17T11:02:08.260Z"
   },
   {
    "duration": 21,
    "start_time": "2021-10-17T11:02:08.278Z"
   },
   {
    "duration": 16,
    "start_time": "2021-10-17T11:02:08.301Z"
   },
   {
    "duration": 56,
    "start_time": "2021-10-17T11:14:16.431Z"
   },
   {
    "duration": 9,
    "start_time": "2021-10-17T11:14:16.488Z"
   },
   {
    "duration": 8,
    "start_time": "2021-10-17T11:14:16.509Z"
   },
   {
    "duration": 5,
    "start_time": "2021-10-17T11:14:16.576Z"
   },
   {
    "duration": 12,
    "start_time": "2021-10-17T11:14:16.611Z"
   },
   {
    "duration": 5,
    "start_time": "2021-10-17T11:14:16.652Z"
   },
   {
    "duration": 4,
    "start_time": "2021-10-17T11:14:16.756Z"
   },
   {
    "duration": 6,
    "start_time": "2021-10-17T11:14:16.761Z"
   },
   {
    "duration": 4,
    "start_time": "2021-10-17T11:14:16.769Z"
   },
   {
    "duration": 10,
    "start_time": "2021-10-17T11:14:16.775Z"
   },
   {
    "duration": 8,
    "start_time": "2021-10-17T11:14:16.787Z"
   },
   {
    "duration": 13,
    "start_time": "2021-10-17T11:14:16.804Z"
   },
   {
    "duration": 12,
    "start_time": "2021-10-17T11:14:16.863Z"
   },
   {
    "duration": 16,
    "start_time": "2021-10-17T11:14:16.877Z"
   },
   {
    "duration": 15,
    "start_time": "2021-10-17T11:14:16.896Z"
   },
   {
    "duration": 11,
    "start_time": "2021-10-17T11:14:16.913Z"
   },
   {
    "duration": 3328,
    "start_time": "2021-10-17T11:14:16.925Z"
   },
   {
    "duration": 40,
    "start_time": "2021-10-17T11:14:20.256Z"
   },
   {
    "duration": 7,
    "start_time": "2021-10-17T11:14:20.299Z"
   },
   {
    "duration": 20,
    "start_time": "2021-10-17T11:14:20.308Z"
   },
   {
    "duration": 7,
    "start_time": "2021-10-17T11:14:20.330Z"
   },
   {
    "duration": 12,
    "start_time": "2021-10-17T11:14:20.339Z"
   },
   {
    "duration": 31,
    "start_time": "2021-10-17T11:14:20.352Z"
   },
   {
    "duration": 12,
    "start_time": "2021-10-17T11:14:20.391Z"
   },
   {
    "duration": 7,
    "start_time": "2021-10-17T11:14:20.405Z"
   },
   {
    "duration": 11,
    "start_time": "2021-10-17T11:14:20.415Z"
   },
   {
    "duration": 11,
    "start_time": "2021-10-17T11:14:20.428Z"
   },
   {
    "duration": 11,
    "start_time": "2021-10-17T11:14:20.441Z"
   },
   {
    "duration": 660,
    "start_time": "2021-10-18T10:41:04.153Z"
   },
   {
    "duration": 13,
    "start_time": "2021-10-18T10:41:04.814Z"
   },
   {
    "duration": 8,
    "start_time": "2021-10-18T10:41:04.829Z"
   },
   {
    "duration": 4,
    "start_time": "2021-10-18T10:41:04.839Z"
   },
   {
    "duration": 32,
    "start_time": "2021-10-18T10:41:04.845Z"
   },
   {
    "duration": 5,
    "start_time": "2021-10-18T10:41:04.879Z"
   },
   {
    "duration": 4,
    "start_time": "2021-10-18T10:41:04.886Z"
   },
   {
    "duration": 3,
    "start_time": "2021-10-18T10:41:04.892Z"
   },
   {
    "duration": 5,
    "start_time": "2021-10-18T10:41:04.897Z"
   },
   {
    "duration": 11,
    "start_time": "2021-10-18T10:41:04.903Z"
   },
   {
    "duration": 9,
    "start_time": "2021-10-18T10:41:04.915Z"
   },
   {
    "duration": 14,
    "start_time": "2021-10-18T10:41:04.925Z"
   },
   {
    "duration": 44,
    "start_time": "2021-10-18T10:41:04.941Z"
   },
   {
    "duration": 14,
    "start_time": "2021-10-18T10:41:04.987Z"
   },
   {
    "duration": 13,
    "start_time": "2021-10-18T10:41:05.003Z"
   },
   {
    "duration": 9,
    "start_time": "2021-10-18T10:41:05.018Z"
   },
   {
    "duration": 3431,
    "start_time": "2021-10-18T10:41:05.028Z"
   },
   {
    "duration": 34,
    "start_time": "2021-10-18T10:41:08.461Z"
   },
   {
    "duration": 8,
    "start_time": "2021-10-18T10:41:08.496Z"
   },
   {
    "duration": 17,
    "start_time": "2021-10-18T10:41:08.505Z"
   },
   {
    "duration": 8,
    "start_time": "2021-10-18T10:41:08.524Z"
   },
   {
    "duration": 4,
    "start_time": "2021-10-18T10:41:08.534Z"
   },
   {
    "duration": 16,
    "start_time": "2021-10-18T10:41:08.540Z"
   },
   {
    "duration": 35,
    "start_time": "2021-10-18T10:41:08.557Z"
   },
   {
    "duration": 4,
    "start_time": "2021-10-18T10:41:08.594Z"
   },
   {
    "duration": 16,
    "start_time": "2021-10-18T10:41:08.600Z"
   },
   {
    "duration": 11,
    "start_time": "2021-10-18T10:41:08.617Z"
   },
   {
    "duration": 13,
    "start_time": "2021-10-18T10:41:08.629Z"
   },
   {
    "duration": 5,
    "start_time": "2021-10-18T10:42:24.444Z"
   },
   {
    "duration": 402,
    "start_time": "2021-10-18T15:21:08.921Z"
   },
   {
    "duration": 1068,
    "start_time": "2021-10-18T15:21:26.771Z"
   },
   {
    "duration": 23,
    "start_time": "2021-10-18T15:21:27.843Z"
   },
   {
    "duration": 13,
    "start_time": "2021-10-18T15:21:27.870Z"
   },
   {
    "duration": 9,
    "start_time": "2021-10-18T15:21:27.886Z"
   },
   {
    "duration": 19,
    "start_time": "2021-10-18T15:21:27.897Z"
   },
   {
    "duration": 44,
    "start_time": "2021-10-18T15:21:27.918Z"
   },
   {
    "duration": 10,
    "start_time": "2021-10-18T15:21:27.965Z"
   },
   {
    "duration": 7,
    "start_time": "2021-10-18T15:21:27.979Z"
   },
   {
    "duration": 6,
    "start_time": "2021-10-18T15:21:27.989Z"
   },
   {
    "duration": 12,
    "start_time": "2021-10-18T15:21:27.997Z"
   },
   {
    "duration": 9,
    "start_time": "2021-10-18T15:21:28.011Z"
   },
   {
    "duration": 15,
    "start_time": "2021-10-18T15:21:28.058Z"
   },
   {
    "duration": 14,
    "start_time": "2021-10-18T15:21:28.076Z"
   },
   {
    "duration": 23,
    "start_time": "2021-10-18T15:21:28.092Z"
   },
   {
    "duration": 48,
    "start_time": "2021-10-18T15:21:28.117Z"
   },
   {
    "duration": 22,
    "start_time": "2021-10-18T15:21:28.167Z"
   },
   {
    "duration": 22,
    "start_time": "2021-10-18T15:21:28.191Z"
   },
   {
    "duration": 48,
    "start_time": "2021-10-18T15:21:28.215Z"
   },
   {
    "duration": 4536,
    "start_time": "2021-10-18T15:21:28.265Z"
   },
   {
    "duration": 55,
    "start_time": "2021-10-18T15:21:32.803Z"
   },
   {
    "duration": 7,
    "start_time": "2021-10-18T15:21:32.860Z"
   },
   {
    "duration": 35,
    "start_time": "2021-10-18T15:21:32.869Z"
   },
   {
    "duration": 10,
    "start_time": "2021-10-18T15:21:32.909Z"
   },
   {
    "duration": 10,
    "start_time": "2021-10-18T15:21:32.921Z"
   },
   {
    "duration": 40,
    "start_time": "2021-10-18T15:21:32.933Z"
   },
   {
    "duration": 26,
    "start_time": "2021-10-18T15:21:32.976Z"
   },
   {
    "duration": 8,
    "start_time": "2021-10-18T15:21:33.005Z"
   },
   {
    "duration": 45,
    "start_time": "2021-10-18T15:21:33.015Z"
   },
   {
    "duration": 19,
    "start_time": "2021-10-18T15:21:33.063Z"
   },
   {
    "duration": 17,
    "start_time": "2021-10-18T15:21:33.084Z"
   }
  ],
  "kernelspec": {
   "display_name": "Python 3",
   "language": "python",
   "name": "python3"
  },
  "language_info": {
   "codemirror_mode": {
    "name": "ipython",
    "version": 3
   },
   "file_extension": ".py",
   "mimetype": "text/x-python",
   "name": "python",
   "nbconvert_exporter": "python",
   "pygments_lexer": "ipython3",
   "version": "3.8.8"
  },
  "toc": {
   "base_numbering": 1,
   "nav_menu": {},
   "number_sections": true,
   "sideBar": true,
   "skip_h1_title": true,
   "title_cell": "Table of Contents",
   "title_sidebar": "Contents",
   "toc_cell": false,
   "toc_position": {},
   "toc_section_display": true,
   "toc_window_display": true
  }
 },
 "nbformat": 4,
 "nbformat_minor": 4
}
