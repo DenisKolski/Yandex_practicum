{
 "cells": [
  {
   "cell_type": "markdown",
   "metadata": {
    "toc": true
   },
   "source": [
    "<h1>Содержание<span class=\"tocSkip\"></span></h1>\n",
    "<div class=\"toc\"><ul class=\"toc-item\"><li><span><a href=\"#Изучение-данных-из-файла\" data-toc-modified-id=\"Изучение-данных-из-файла-1\"><span class=\"toc-item-num\">1&nbsp;&nbsp;</span>Изучение данных из файла</a></span><ul class=\"toc-item\"><li><span><a href=\"#Выводы\" data-toc-modified-id=\"Выводы-1.1\"><span class=\"toc-item-num\">1.1&nbsp;&nbsp;</span>Выводы</a></span></li></ul></li><li><span><a href=\"#Предобработка-данных\" data-toc-modified-id=\"Предобработка-данных-2\"><span class=\"toc-item-num\">2&nbsp;&nbsp;</span>Предобработка данных</a></span><ul class=\"toc-item\"><li><span><a href=\"#Выводы\" data-toc-modified-id=\"Выводы-2.1\"><span class=\"toc-item-num\">2.1&nbsp;&nbsp;</span>Выводы</a></span></li></ul></li><li><span><a href=\"#Расчёты-и-добавление-результатов-в-таблицу\" data-toc-modified-id=\"Расчёты-и-добавление-результатов-в-таблицу-3\"><span class=\"toc-item-num\">3&nbsp;&nbsp;</span>Расчёты и добавление результатов в таблицу</a></span><ul class=\"toc-item\"><li><span><a href=\"#Выводы\" data-toc-modified-id=\"Выводы-3.1\"><span class=\"toc-item-num\">3.1&nbsp;&nbsp;</span>Выводы</a></span></li></ul></li><li><span><a href=\"#Исследовательский-анализ-данных\" data-toc-modified-id=\"Исследовательский-анализ-данных-4\"><span class=\"toc-item-num\">4&nbsp;&nbsp;</span>Исследовательский анализ данных</a></span><ul class=\"toc-item\"><li><span><a href=\"#Анализ-факторов,-оказывающих-наибольшее-влияние-на-стоимость-квартиры\" data-toc-modified-id=\"Анализ-факторов,-оказывающих-наибольшее-влияние-на-стоимость-квартиры-4.1\"><span class=\"toc-item-num\">4.1&nbsp;&nbsp;</span>Анализ факторов, оказывающих наибольшее влияние на стоимость квартиры</a></span><ul class=\"toc-item\"><li><span><a href=\"#Выводы\" data-toc-modified-id=\"Выводы-4.1.1\"><span class=\"toc-item-num\">4.1.1&nbsp;&nbsp;</span>Выводы</a></span></li></ul></li><li><span><a href=\"#Анализ-зависимости-стоимости-жилья-от-удаленности-от-центра\" data-toc-modified-id=\"Анализ-зависимости-стоимости-жилья-от-удаленности-от-центра-4.2\"><span class=\"toc-item-num\">4.2&nbsp;&nbsp;</span>Анализ зависимости стоимости жилья от удаленности от центра</a></span></li></ul></li><li><span><a href=\"#Общий-вывод\" data-toc-modified-id=\"Общий-вывод-5\"><span class=\"toc-item-num\">5&nbsp;&nbsp;</span>Общий вывод</a></span></li><li><span><a href=\"#Чек-лист-готовности-проекта\" data-toc-modified-id=\"Чек-лист-готовности-проекта-6\"><span class=\"toc-item-num\">6&nbsp;&nbsp;</span>Чек-лист готовности проекта</a></span></li></ul></div>"
   ]
  },
  {
   "cell_type": "markdown",
   "metadata": {},
   "source": [
    "# Исследование объявлений о продаже квартир\n",
    "\n",
    "В вашем распоряжении данные сервиса Яндекс.Недвижимость — архив объявлений о продаже квартир в Санкт-Петербурге и соседних населённых пунктах за несколько лет. Нужно научиться определять рыночную стоимость объектов недвижимости. Ваша задача — установить параметры. Это позволит построить автоматизированную систему: она отследит аномалии и мошенническую деятельность. \n",
    "\n",
    "По каждой квартире на продажу доступны два вида данных. Первые вписаны пользователем, вторые получены автоматически на основе картографических данных. Например, расстояние до центра, аэропорта, ближайшего парка и водоёма. "
   ]
  },
  {
   "cell_type": "markdown",
   "metadata": {},
   "source": [
    "## Изучение данных из файла"
   ]
  },
  {
   "cell_type": "code",
   "execution_count": 1,
   "metadata": {},
   "outputs": [],
   "source": [
    "import pandas as pd\n",
    "\n"
   ]
  },
  {
   "cell_type": "code",
   "execution_count": 2,
   "metadata": {},
   "outputs": [],
   "source": [
    "df = pd.read_csv('/datasets/real_estate_data.csv', sep ='\\t')"
   ]
  },
  {
   "cell_type": "code",
   "execution_count": 3,
   "metadata": {},
   "outputs": [
    {
     "data": {
      "text/html": [
       "<div>\n",
       "<style scoped>\n",
       "    .dataframe tbody tr th:only-of-type {\n",
       "        vertical-align: middle;\n",
       "    }\n",
       "\n",
       "    .dataframe tbody tr th {\n",
       "        vertical-align: top;\n",
       "    }\n",
       "\n",
       "    .dataframe thead th {\n",
       "        text-align: right;\n",
       "    }\n",
       "</style>\n",
       "<table border=\"1\" class=\"dataframe\">\n",
       "  <thead>\n",
       "    <tr style=\"text-align: right;\">\n",
       "      <th></th>\n",
       "      <th>total_images</th>\n",
       "      <th>last_price</th>\n",
       "      <th>total_area</th>\n",
       "      <th>first_day_exposition</th>\n",
       "      <th>rooms</th>\n",
       "      <th>ceiling_height</th>\n",
       "      <th>floors_total</th>\n",
       "      <th>living_area</th>\n",
       "      <th>floor</th>\n",
       "      <th>is_apartment</th>\n",
       "      <th>...</th>\n",
       "      <th>kitchen_area</th>\n",
       "      <th>balcony</th>\n",
       "      <th>locality_name</th>\n",
       "      <th>airports_nearest</th>\n",
       "      <th>cityCenters_nearest</th>\n",
       "      <th>parks_around3000</th>\n",
       "      <th>parks_nearest</th>\n",
       "      <th>ponds_around3000</th>\n",
       "      <th>ponds_nearest</th>\n",
       "      <th>days_exposition</th>\n",
       "    </tr>\n",
       "  </thead>\n",
       "  <tbody>\n",
       "    <tr>\n",
       "      <td>13548</td>\n",
       "      <td>6</td>\n",
       "      <td>1500000.0</td>\n",
       "      <td>37.5</td>\n",
       "      <td>2018-02-08T00:00:00</td>\n",
       "      <td>1</td>\n",
       "      <td>2.60</td>\n",
       "      <td>5.0</td>\n",
       "      <td>17.1</td>\n",
       "      <td>1</td>\n",
       "      <td>NaN</td>\n",
       "      <td>...</td>\n",
       "      <td>8.30</td>\n",
       "      <td>1.0</td>\n",
       "      <td>Волосово</td>\n",
       "      <td>NaN</td>\n",
       "      <td>NaN</td>\n",
       "      <td>NaN</td>\n",
       "      <td>NaN</td>\n",
       "      <td>NaN</td>\n",
       "      <td>NaN</td>\n",
       "      <td>315.0</td>\n",
       "    </tr>\n",
       "    <tr>\n",
       "      <td>33</td>\n",
       "      <td>8</td>\n",
       "      <td>4800000.0</td>\n",
       "      <td>73.0</td>\n",
       "      <td>2018-10-15T00:00:00</td>\n",
       "      <td>4</td>\n",
       "      <td>NaN</td>\n",
       "      <td>9.0</td>\n",
       "      <td>51.6</td>\n",
       "      <td>5</td>\n",
       "      <td>NaN</td>\n",
       "      <td>...</td>\n",
       "      <td>6.50</td>\n",
       "      <td>NaN</td>\n",
       "      <td>Колпино</td>\n",
       "      <td>26535.0</td>\n",
       "      <td>32321.0</td>\n",
       "      <td>0.0</td>\n",
       "      <td>NaN</td>\n",
       "      <td>0.0</td>\n",
       "      <td>NaN</td>\n",
       "      <td>92.0</td>\n",
       "    </tr>\n",
       "    <tr>\n",
       "      <td>18643</td>\n",
       "      <td>16</td>\n",
       "      <td>2720000.0</td>\n",
       "      <td>31.0</td>\n",
       "      <td>2019-02-28T00:00:00</td>\n",
       "      <td>1</td>\n",
       "      <td>NaN</td>\n",
       "      <td>3.0</td>\n",
       "      <td>17.2</td>\n",
       "      <td>2</td>\n",
       "      <td>NaN</td>\n",
       "      <td>...</td>\n",
       "      <td>5.60</td>\n",
       "      <td>1.0</td>\n",
       "      <td>посёлок Стрельна</td>\n",
       "      <td>27736.0</td>\n",
       "      <td>22624.0</td>\n",
       "      <td>2.0</td>\n",
       "      <td>213.0</td>\n",
       "      <td>3.0</td>\n",
       "      <td>59.0</td>\n",
       "      <td>62.0</td>\n",
       "    </tr>\n",
       "    <tr>\n",
       "      <td>23383</td>\n",
       "      <td>1</td>\n",
       "      <td>4950000.0</td>\n",
       "      <td>72.0</td>\n",
       "      <td>2016-07-02T00:00:00</td>\n",
       "      <td>3</td>\n",
       "      <td>NaN</td>\n",
       "      <td>12.0</td>\n",
       "      <td>48.0</td>\n",
       "      <td>1</td>\n",
       "      <td>False</td>\n",
       "      <td>...</td>\n",
       "      <td>7.00</td>\n",
       "      <td>0.0</td>\n",
       "      <td>Санкт-Петербург</td>\n",
       "      <td>33183.0</td>\n",
       "      <td>12258.0</td>\n",
       "      <td>1.0</td>\n",
       "      <td>684.0</td>\n",
       "      <td>0.0</td>\n",
       "      <td>NaN</td>\n",
       "      <td>156.0</td>\n",
       "    </tr>\n",
       "    <tr>\n",
       "      <td>19763</td>\n",
       "      <td>20</td>\n",
       "      <td>15000000.0</td>\n",
       "      <td>89.7</td>\n",
       "      <td>2018-09-28T00:00:00</td>\n",
       "      <td>3</td>\n",
       "      <td>2.80</td>\n",
       "      <td>20.0</td>\n",
       "      <td>55.0</td>\n",
       "      <td>4</td>\n",
       "      <td>NaN</td>\n",
       "      <td>...</td>\n",
       "      <td>14.20</td>\n",
       "      <td>NaN</td>\n",
       "      <td>Санкт-Петербург</td>\n",
       "      <td>17950.0</td>\n",
       "      <td>16952.0</td>\n",
       "      <td>1.0</td>\n",
       "      <td>679.0</td>\n",
       "      <td>3.0</td>\n",
       "      <td>361.0</td>\n",
       "      <td>15.0</td>\n",
       "    </tr>\n",
       "    <tr>\n",
       "      <td>6797</td>\n",
       "      <td>7</td>\n",
       "      <td>5150000.0</td>\n",
       "      <td>80.0</td>\n",
       "      <td>2017-09-22T00:00:00</td>\n",
       "      <td>3</td>\n",
       "      <td>NaN</td>\n",
       "      <td>9.0</td>\n",
       "      <td>49.0</td>\n",
       "      <td>6</td>\n",
       "      <td>NaN</td>\n",
       "      <td>...</td>\n",
       "      <td>11.50</td>\n",
       "      <td>NaN</td>\n",
       "      <td>посёлок Шушары</td>\n",
       "      <td>23662.0</td>\n",
       "      <td>29448.0</td>\n",
       "      <td>0.0</td>\n",
       "      <td>NaN</td>\n",
       "      <td>0.0</td>\n",
       "      <td>NaN</td>\n",
       "      <td>112.0</td>\n",
       "    </tr>\n",
       "    <tr>\n",
       "      <td>6178</td>\n",
       "      <td>7</td>\n",
       "      <td>6100000.0</td>\n",
       "      <td>55.8</td>\n",
       "      <td>2019-04-01T00:00:00</td>\n",
       "      <td>3</td>\n",
       "      <td>2.45</td>\n",
       "      <td>5.0</td>\n",
       "      <td>40.7</td>\n",
       "      <td>2</td>\n",
       "      <td>NaN</td>\n",
       "      <td>...</td>\n",
       "      <td>5.20</td>\n",
       "      <td>NaN</td>\n",
       "      <td>Санкт-Петербург</td>\n",
       "      <td>39823.0</td>\n",
       "      <td>9082.0</td>\n",
       "      <td>2.0</td>\n",
       "      <td>430.0</td>\n",
       "      <td>0.0</td>\n",
       "      <td>NaN</td>\n",
       "      <td>8.0</td>\n",
       "    </tr>\n",
       "    <tr>\n",
       "      <td>9397</td>\n",
       "      <td>10</td>\n",
       "      <td>16073000.0</td>\n",
       "      <td>263.8</td>\n",
       "      <td>2019-01-30T00:00:00</td>\n",
       "      <td>3</td>\n",
       "      <td>NaN</td>\n",
       "      <td>19.0</td>\n",
       "      <td>NaN</td>\n",
       "      <td>4</td>\n",
       "      <td>NaN</td>\n",
       "      <td>...</td>\n",
       "      <td>23.42</td>\n",
       "      <td>NaN</td>\n",
       "      <td>Санкт-Петербург</td>\n",
       "      <td>18805.0</td>\n",
       "      <td>4400.0</td>\n",
       "      <td>0.0</td>\n",
       "      <td>NaN</td>\n",
       "      <td>0.0</td>\n",
       "      <td>NaN</td>\n",
       "      <td>35.0</td>\n",
       "    </tr>\n",
       "    <tr>\n",
       "      <td>6119</td>\n",
       "      <td>9</td>\n",
       "      <td>3300000.0</td>\n",
       "      <td>32.0</td>\n",
       "      <td>2019-02-07T00:00:00</td>\n",
       "      <td>1</td>\n",
       "      <td>2.50</td>\n",
       "      <td>5.0</td>\n",
       "      <td>18.0</td>\n",
       "      <td>3</td>\n",
       "      <td>NaN</td>\n",
       "      <td>...</td>\n",
       "      <td>6.00</td>\n",
       "      <td>1.0</td>\n",
       "      <td>Санкт-Петербург</td>\n",
       "      <td>42149.0</td>\n",
       "      <td>10972.0</td>\n",
       "      <td>2.0</td>\n",
       "      <td>287.0</td>\n",
       "      <td>0.0</td>\n",
       "      <td>NaN</td>\n",
       "      <td>56.0</td>\n",
       "    </tr>\n",
       "    <tr>\n",
       "      <td>5896</td>\n",
       "      <td>1</td>\n",
       "      <td>5694000.0</td>\n",
       "      <td>94.8</td>\n",
       "      <td>2018-10-29T00:00:00</td>\n",
       "      <td>3</td>\n",
       "      <td>2.80</td>\n",
       "      <td>9.0</td>\n",
       "      <td>53.4</td>\n",
       "      <td>1</td>\n",
       "      <td>False</td>\n",
       "      <td>...</td>\n",
       "      <td>16.30</td>\n",
       "      <td>NaN</td>\n",
       "      <td>Всеволожск</td>\n",
       "      <td>NaN</td>\n",
       "      <td>NaN</td>\n",
       "      <td>NaN</td>\n",
       "      <td>NaN</td>\n",
       "      <td>NaN</td>\n",
       "      <td>NaN</td>\n",
       "      <td>NaN</td>\n",
       "    </tr>\n",
       "  </tbody>\n",
       "</table>\n",
       "<p>10 rows × 22 columns</p>\n",
       "</div>"
      ],
      "text/plain": [
       "       total_images  last_price  total_area first_day_exposition  rooms  \\\n",
       "13548             6   1500000.0        37.5  2018-02-08T00:00:00      1   \n",
       "33                8   4800000.0        73.0  2018-10-15T00:00:00      4   \n",
       "18643            16   2720000.0        31.0  2019-02-28T00:00:00      1   \n",
       "23383             1   4950000.0        72.0  2016-07-02T00:00:00      3   \n",
       "19763            20  15000000.0        89.7  2018-09-28T00:00:00      3   \n",
       "6797              7   5150000.0        80.0  2017-09-22T00:00:00      3   \n",
       "6178              7   6100000.0        55.8  2019-04-01T00:00:00      3   \n",
       "9397             10  16073000.0       263.8  2019-01-30T00:00:00      3   \n",
       "6119              9   3300000.0        32.0  2019-02-07T00:00:00      1   \n",
       "5896              1   5694000.0        94.8  2018-10-29T00:00:00      3   \n",
       "\n",
       "       ceiling_height  floors_total  living_area  floor is_apartment  ...  \\\n",
       "13548            2.60           5.0         17.1      1          NaN  ...   \n",
       "33                NaN           9.0         51.6      5          NaN  ...   \n",
       "18643             NaN           3.0         17.2      2          NaN  ...   \n",
       "23383             NaN          12.0         48.0      1        False  ...   \n",
       "19763            2.80          20.0         55.0      4          NaN  ...   \n",
       "6797              NaN           9.0         49.0      6          NaN  ...   \n",
       "6178             2.45           5.0         40.7      2          NaN  ...   \n",
       "9397              NaN          19.0          NaN      4          NaN  ...   \n",
       "6119             2.50           5.0         18.0      3          NaN  ...   \n",
       "5896             2.80           9.0         53.4      1        False  ...   \n",
       "\n",
       "       kitchen_area  balcony     locality_name  airports_nearest  \\\n",
       "13548          8.30      1.0          Волосово               NaN   \n",
       "33             6.50      NaN           Колпино           26535.0   \n",
       "18643          5.60      1.0  посёлок Стрельна           27736.0   \n",
       "23383          7.00      0.0   Санкт-Петербург           33183.0   \n",
       "19763         14.20      NaN   Санкт-Петербург           17950.0   \n",
       "6797          11.50      NaN    посёлок Шушары           23662.0   \n",
       "6178           5.20      NaN   Санкт-Петербург           39823.0   \n",
       "9397          23.42      NaN   Санкт-Петербург           18805.0   \n",
       "6119           6.00      1.0   Санкт-Петербург           42149.0   \n",
       "5896          16.30      NaN        Всеволожск               NaN   \n",
       "\n",
       "      cityCenters_nearest  parks_around3000  parks_nearest  ponds_around3000  \\\n",
       "13548                 NaN               NaN            NaN               NaN   \n",
       "33                32321.0               0.0            NaN               0.0   \n",
       "18643             22624.0               2.0          213.0               3.0   \n",
       "23383             12258.0               1.0          684.0               0.0   \n",
       "19763             16952.0               1.0          679.0               3.0   \n",
       "6797              29448.0               0.0            NaN               0.0   \n",
       "6178               9082.0               2.0          430.0               0.0   \n",
       "9397               4400.0               0.0            NaN               0.0   \n",
       "6119              10972.0               2.0          287.0               0.0   \n",
       "5896                  NaN               NaN            NaN               NaN   \n",
       "\n",
       "       ponds_nearest  days_exposition  \n",
       "13548            NaN            315.0  \n",
       "33               NaN             92.0  \n",
       "18643           59.0             62.0  \n",
       "23383            NaN            156.0  \n",
       "19763          361.0             15.0  \n",
       "6797             NaN            112.0  \n",
       "6178             NaN              8.0  \n",
       "9397             NaN             35.0  \n",
       "6119             NaN             56.0  \n",
       "5896             NaN              NaN  \n",
       "\n",
       "[10 rows x 22 columns]"
      ]
     },
     "execution_count": 3,
     "metadata": {},
     "output_type": "execute_result"
    }
   ],
   "source": [
    "df.sample(n=10)"
   ]
  },
  {
   "cell_type": "code",
   "execution_count": 4,
   "metadata": {},
   "outputs": [
    {
     "name": "stdout",
     "output_type": "stream",
     "text": [
      "<class 'pandas.core.frame.DataFrame'>\n",
      "RangeIndex: 23699 entries, 0 to 23698\n",
      "Data columns (total 22 columns):\n",
      "total_images            23699 non-null int64\n",
      "last_price              23699 non-null float64\n",
      "total_area              23699 non-null float64\n",
      "first_day_exposition    23699 non-null object\n",
      "rooms                   23699 non-null int64\n",
      "ceiling_height          14504 non-null float64\n",
      "floors_total            23613 non-null float64\n",
      "living_area             21796 non-null float64\n",
      "floor                   23699 non-null int64\n",
      "is_apartment            2775 non-null object\n",
      "studio                  23699 non-null bool\n",
      "open_plan               23699 non-null bool\n",
      "kitchen_area            21421 non-null float64\n",
      "balcony                 12180 non-null float64\n",
      "locality_name           23650 non-null object\n",
      "airports_nearest        18157 non-null float64\n",
      "cityCenters_nearest     18180 non-null float64\n",
      "parks_around3000        18181 non-null float64\n",
      "parks_nearest           8079 non-null float64\n",
      "ponds_around3000        18181 non-null float64\n",
      "ponds_nearest           9110 non-null float64\n",
      "days_exposition         20518 non-null float64\n",
      "dtypes: bool(2), float64(14), int64(3), object(3)\n",
      "memory usage: 3.7+ MB\n"
     ]
    }
   ],
   "source": [
    "df.info()"
   ]
  },
  {
   "cell_type": "code",
   "execution_count": 5,
   "metadata": {},
   "outputs": [
    {
     "data": {
      "text/plain": [
       "0"
      ]
     },
     "execution_count": 5,
     "metadata": {},
     "output_type": "execute_result"
    }
   ],
   "source": [
    "df.duplicated().sum()"
   ]
  },
  {
   "cell_type": "code",
   "execution_count": 6,
   "metadata": {},
   "outputs": [
    {
     "data": {
      "text/plain": [
       "total_images                0\n",
       "last_price                  0\n",
       "total_area                  0\n",
       "first_day_exposition        0\n",
       "rooms                       0\n",
       "ceiling_height           9195\n",
       "floors_total               86\n",
       "living_area              1903\n",
       "floor                       0\n",
       "is_apartment            20924\n",
       "studio                      0\n",
       "open_plan                   0\n",
       "kitchen_area             2278\n",
       "balcony                 11519\n",
       "locality_name              49\n",
       "airports_nearest         5542\n",
       "cityCenters_nearest      5519\n",
       "parks_around3000         5518\n",
       "parks_nearest           15620\n",
       "ponds_around3000         5518\n",
       "ponds_nearest           14589\n",
       "days_exposition          3181\n",
       "dtype: int64"
      ]
     },
     "execution_count": 6,
     "metadata": {},
     "output_type": "execute_result"
    }
   ],
   "source": [
    "df.isna().sum()"
   ]
  },
  {
   "cell_type": "code",
   "execution_count": 7,
   "metadata": {},
   "outputs": [
    {
     "data": {
      "text/plain": [
       "count    14504.000000\n",
       "mean         2.771499\n",
       "std          1.261056\n",
       "min          1.000000\n",
       "25%          2.520000\n",
       "50%          2.650000\n",
       "75%          2.800000\n",
       "max        100.000000\n",
       "Name: ceiling_height, dtype: float64"
      ]
     },
     "execution_count": 7,
     "metadata": {},
     "output_type": "execute_result"
    }
   ],
   "source": [
    "df.ceiling_height.describe()      "
   ]
  },
  {
   "cell_type": "code",
   "execution_count": 8,
   "metadata": {},
   "outputs": [
    {
     "data": {
      "text/plain": [
       "count    14453.000000\n",
       "mean         2.725833\n",
       "std          0.270519\n",
       "min          2.200000\n",
       "25%          2.520000\n",
       "50%          2.650000\n",
       "75%          2.800000\n",
       "max          4.900000\n",
       "Name: ceiling_height, dtype: float64"
      ]
     },
     "execution_count": 8,
     "metadata": {},
     "output_type": "execute_result"
    }
   ],
   "source": [
    "df.query('ceiling_height>2 and ceiling_height<5').ceiling_height.describe()      "
   ]
  },
  {
   "cell_type": "code",
   "execution_count": 9,
   "metadata": {},
   "outputs": [
    {
     "data": {
      "text/html": [
       "<div>\n",
       "<style scoped>\n",
       "    .dataframe tbody tr th:only-of-type {\n",
       "        vertical-align: middle;\n",
       "    }\n",
       "\n",
       "    .dataframe tbody tr th {\n",
       "        vertical-align: top;\n",
       "    }\n",
       "\n",
       "    .dataframe thead th {\n",
       "        text-align: right;\n",
       "    }\n",
       "</style>\n",
       "<table border=\"1\" class=\"dataframe\">\n",
       "  <thead>\n",
       "    <tr style=\"text-align: right;\">\n",
       "      <th></th>\n",
       "      <th>total_images</th>\n",
       "      <th>last_price</th>\n",
       "      <th>total_area</th>\n",
       "      <th>first_day_exposition</th>\n",
       "      <th>rooms</th>\n",
       "      <th>ceiling_height</th>\n",
       "      <th>floors_total</th>\n",
       "      <th>living_area</th>\n",
       "      <th>floor</th>\n",
       "      <th>is_apartment</th>\n",
       "      <th>...</th>\n",
       "      <th>kitchen_area</th>\n",
       "      <th>balcony</th>\n",
       "      <th>locality_name</th>\n",
       "      <th>airports_nearest</th>\n",
       "      <th>cityCenters_nearest</th>\n",
       "      <th>parks_around3000</th>\n",
       "      <th>parks_nearest</th>\n",
       "      <th>ponds_around3000</th>\n",
       "      <th>ponds_nearest</th>\n",
       "      <th>days_exposition</th>\n",
       "    </tr>\n",
       "  </thead>\n",
       "  <tbody>\n",
       "    <tr>\n",
       "      <td>184</td>\n",
       "      <td>7</td>\n",
       "      <td>2600000.0</td>\n",
       "      <td>30.20</td>\n",
       "      <td>2018-02-14T00:00:00</td>\n",
       "      <td>1</td>\n",
       "      <td>2.65</td>\n",
       "      <td>9.0</td>\n",
       "      <td>26.10</td>\n",
       "      <td>5</td>\n",
       "      <td>NaN</td>\n",
       "      <td>...</td>\n",
       "      <td>6.20</td>\n",
       "      <td>NaN</td>\n",
       "      <td>Санкт-Петербург</td>\n",
       "      <td>13952.0</td>\n",
       "      <td>15031.0</td>\n",
       "      <td>0.0</td>\n",
       "      <td>NaN</td>\n",
       "      <td>1.0</td>\n",
       "      <td>824.0</td>\n",
       "      <td>12.0</td>\n",
       "    </tr>\n",
       "    <tr>\n",
       "      <td>440</td>\n",
       "      <td>8</td>\n",
       "      <td>2480000.0</td>\n",
       "      <td>27.11</td>\n",
       "      <td>2018-03-12T00:00:00</td>\n",
       "      <td>0</td>\n",
       "      <td>NaN</td>\n",
       "      <td>17.0</td>\n",
       "      <td>24.75</td>\n",
       "      <td>4</td>\n",
       "      <td>NaN</td>\n",
       "      <td>...</td>\n",
       "      <td>NaN</td>\n",
       "      <td>2.0</td>\n",
       "      <td>Санкт-Петербург</td>\n",
       "      <td>38171.0</td>\n",
       "      <td>15015.0</td>\n",
       "      <td>0.0</td>\n",
       "      <td>NaN</td>\n",
       "      <td>2.0</td>\n",
       "      <td>982.0</td>\n",
       "      <td>64.0</td>\n",
       "    </tr>\n",
       "    <tr>\n",
       "      <td>545</td>\n",
       "      <td>9</td>\n",
       "      <td>4700000.0</td>\n",
       "      <td>23.80</td>\n",
       "      <td>2018-12-28T00:00:00</td>\n",
       "      <td>1</td>\n",
       "      <td>NaN</td>\n",
       "      <td>18.0</td>\n",
       "      <td>20.00</td>\n",
       "      <td>9</td>\n",
       "      <td>NaN</td>\n",
       "      <td>...</td>\n",
       "      <td>5.00</td>\n",
       "      <td>NaN</td>\n",
       "      <td>Санкт-Петербург</td>\n",
       "      <td>9731.0</td>\n",
       "      <td>11849.0</td>\n",
       "      <td>0.0</td>\n",
       "      <td>NaN</td>\n",
       "      <td>0.0</td>\n",
       "      <td>NaN</td>\n",
       "      <td>108.0</td>\n",
       "    </tr>\n",
       "    <tr>\n",
       "      <td>551</td>\n",
       "      <td>8</td>\n",
       "      <td>3100000.0</td>\n",
       "      <td>31.59</td>\n",
       "      <td>2018-03-08T00:00:00</td>\n",
       "      <td>1</td>\n",
       "      <td>2.70</td>\n",
       "      <td>19.0</td>\n",
       "      <td>30.55</td>\n",
       "      <td>2</td>\n",
       "      <td>NaN</td>\n",
       "      <td>...</td>\n",
       "      <td>9.28</td>\n",
       "      <td>2.0</td>\n",
       "      <td>посёлок Мурино</td>\n",
       "      <td>NaN</td>\n",
       "      <td>NaN</td>\n",
       "      <td>NaN</td>\n",
       "      <td>NaN</td>\n",
       "      <td>NaN</td>\n",
       "      <td>NaN</td>\n",
       "      <td>70.0</td>\n",
       "    </tr>\n",
       "    <tr>\n",
       "      <td>601</td>\n",
       "      <td>12</td>\n",
       "      <td>5600000.0</td>\n",
       "      <td>53.70</td>\n",
       "      <td>2017-04-18T00:00:00</td>\n",
       "      <td>2</td>\n",
       "      <td>2.50</td>\n",
       "      <td>12.0</td>\n",
       "      <td>48.30</td>\n",
       "      <td>5</td>\n",
       "      <td>NaN</td>\n",
       "      <td>...</td>\n",
       "      <td>7.00</td>\n",
       "      <td>2.0</td>\n",
       "      <td>Санкт-Петербург</td>\n",
       "      <td>50477.0</td>\n",
       "      <td>13252.0</td>\n",
       "      <td>2.0</td>\n",
       "      <td>220.0</td>\n",
       "      <td>1.0</td>\n",
       "      <td>1250.0</td>\n",
       "      <td>167.0</td>\n",
       "    </tr>\n",
       "  </tbody>\n",
       "</table>\n",
       "<p>5 rows × 22 columns</p>\n",
       "</div>"
      ],
      "text/plain": [
       "     total_images  last_price  total_area first_day_exposition  rooms  \\\n",
       "184             7   2600000.0       30.20  2018-02-14T00:00:00      1   \n",
       "440             8   2480000.0       27.11  2018-03-12T00:00:00      0   \n",
       "545             9   4700000.0       23.80  2018-12-28T00:00:00      1   \n",
       "551             8   3100000.0       31.59  2018-03-08T00:00:00      1   \n",
       "601            12   5600000.0       53.70  2017-04-18T00:00:00      2   \n",
       "\n",
       "     ceiling_height  floors_total  living_area  floor is_apartment  ...  \\\n",
       "184            2.65           9.0        26.10      5          NaN  ...   \n",
       "440             NaN          17.0        24.75      4          NaN  ...   \n",
       "545             NaN          18.0        20.00      9          NaN  ...   \n",
       "551            2.70          19.0        30.55      2          NaN  ...   \n",
       "601            2.50          12.0        48.30      5          NaN  ...   \n",
       "\n",
       "     kitchen_area  balcony    locality_name  airports_nearest  \\\n",
       "184          6.20      NaN  Санкт-Петербург           13952.0   \n",
       "440           NaN      2.0  Санкт-Петербург           38171.0   \n",
       "545          5.00      NaN  Санкт-Петербург            9731.0   \n",
       "551          9.28      2.0   посёлок Мурино               NaN   \n",
       "601          7.00      2.0  Санкт-Петербург           50477.0   \n",
       "\n",
       "    cityCenters_nearest  parks_around3000  parks_nearest  ponds_around3000  \\\n",
       "184             15031.0               0.0            NaN               1.0   \n",
       "440             15015.0               0.0            NaN               2.0   \n",
       "545             11849.0               0.0            NaN               0.0   \n",
       "551                 NaN               NaN            NaN               NaN   \n",
       "601             13252.0               2.0          220.0               1.0   \n",
       "\n",
       "     ponds_nearest  days_exposition  \n",
       "184          824.0             12.0  \n",
       "440          982.0             64.0  \n",
       "545            NaN            108.0  \n",
       "551            NaN             70.0  \n",
       "601         1250.0            167.0  \n",
       "\n",
       "[5 rows x 22 columns]"
      ]
     },
     "execution_count": 9,
     "metadata": {},
     "output_type": "execute_result"
    }
   ],
   "source": [
    "df.query('living_area>total_area-6').head()"
   ]
  },
  {
   "cell_type": "code",
   "execution_count": 10,
   "metadata": {},
   "outputs": [
    {
     "data": {
      "text/plain": [
       "Text(0, 0.5, 'Количество объектов')"
      ]
     },
     "execution_count": 10,
     "metadata": {},
     "output_type": "execute_result"
    },
    {
     "data": {
      "image/png": "[encoded data removed]",
      "text/plain": [
       "<Figure size 576x360 with 1 Axes>"
      ]
     },
     "metadata": {
      "needs_background": "light"
     },
     "output_type": "display_data"
    }
   ],
   "source": [
    "ax=df['last_price'].plot(kind='hist',bins=50, sharex= True,  range=(400*10**3, 2*10**7),figsize=(8,5), grid=True,  title='Плотность распределения стоимости')\n",
    "ax.set_xlabel(\"Стоимость\")\n",
    "ax.set_ylabel(\"Количество объектов\")"
   ]
  },
  {
   "cell_type": "markdown",
   "metadata": {},
   "source": [
    "На графике представлено распределение стоимости жилья. Виден достаточно длинный хвост распределения с достаточно дорогими объектами."
   ]
  },
  {
   "cell_type": "code",
   "execution_count": 11,
   "metadata": {},
   "outputs": [
    {
     "data": {
      "text/plain": [
       "count    2.369900e+04\n",
       "mean     6.541549e+06\n",
       "std      1.088701e+07\n",
       "min      1.219000e+04\n",
       "25%      3.400000e+06\n",
       "50%      4.650000e+06\n",
       "75%      6.800000e+06\n",
       "max      7.630000e+08\n",
       "Name: last_price, dtype: float64"
      ]
     },
     "execution_count": 11,
     "metadata": {},
     "output_type": "execute_result"
    }
   ],
   "source": [
    "df.last_price.describe()"
   ]
  },
  {
   "cell_type": "code",
   "execution_count": 12,
   "metadata": {},
   "outputs": [
    {
     "data": {
      "text/plain": [
       "Санкт-Петербург      0.664736\n",
       "посёлок Мурино       0.022072\n",
       "посёлок Шушары       0.018605\n",
       "Всеволожск           0.016829\n",
       "Пушкин               0.015603\n",
       "Колпино              0.014292\n",
       "посёлок Парголово    0.013827\n",
       "Гатчина              0.012981\n",
       "деревня Кудрово      0.012643\n",
       "Выборг               0.010021\n",
       "Name: locality_name, dtype: float64"
      ]
     },
     "execution_count": 12,
     "metadata": {},
     "output_type": "execute_result"
    }
   ],
   "source": [
    "df.locality_name.value_counts(normalize=True).head(10)"
   ]
  },
  {
   "cell_type": "markdown",
   "metadata": {},
   "source": [
    "### Выводы"
   ]
  },
  {
   "cell_type": "markdown",
   "metadata": {},
   "source": [
    "Открыли файл, знак разделителя - табуляция. \n",
    "Данные не содержат дубликатов либо дубликаты сложно найти, так как отсутствует id  объектов. \n",
    "Некоторые столбцы имеют формат float, хотя по сути являются целочисленные: floors_total — всего этажей в доме, balcony — число балконов, days_exposition — сколько дней было размещено объявление (от публикации до снятия). Это вызвано наличием значений NaN. \n",
    "Также данные содержат большое количество пропусков. \n",
    "Данные по высоте потолков содержат некоторое количество некорректных данных: высота потолков меньше 2 метров и больше 5 метров, что крайне маловероятно в многоэтажных домах. \n",
    "В некоторых случаях жилая площадь почти равна общей, хотя в квартире должны быть коридор, санузел и, возможно, кухня. Коридор должен быть обязательно, так как, согласно существующим нормам, санузел не может выходить сразу в жилую комнату. Данное требование может не выполняться для апартаментов, но большинство объектов is_apartment = NaN. Поэтому формально имеются и нежилые помещения для которых так может быть.  \n",
    "Самый важный параметр - цена квартиры, судя по статистике, внушает доверие, но в данных в тоже время могут быть выбросы, которые могут быть выявлены при детальном анализе. Медианная цена почти в полтора раза меньше чем средняя, что говорит о наличии объетов с высокой ценой, которые смещают среднюю в область более высоких цен. Также высокое значение стандартного отклонения, что также подтверждая вывод, что распределение не очень компактное. Видимо, так как содержит весьма неоднородные объекты.\n"
   ]
  },
  {
   "cell_type": "markdown",
   "metadata": {},
   "source": [
    "## Предобработка данных"
   ]
  },
  {
   "cell_type": "code",
   "execution_count": 13,
   "metadata": {},
   "outputs": [
    {
     "data": {
      "text/plain": [
       "Index(['total_images', 'last_price', 'total_area', 'first_day_exposition',\n",
       "       'rooms', 'ceiling_height', 'floors_total', 'living_area', 'floor',\n",
       "       'is_apartment', 'studio', 'open_plan', 'kitchen_area', 'balcony',\n",
       "       'locality_name', 'airports_nearest', 'city_сenters_nearest',\n",
       "       'parks_around3000', 'parks_nearest', 'ponds_around3000',\n",
       "       'ponds_nearest', 'days_exposition'],\n",
       "      dtype='object')"
      ]
     },
     "execution_count": 13,
     "metadata": {},
     "output_type": "execute_result"
    }
   ],
   "source": [
    "df = df.rename(columns={'cityCenters_nearest':'city_сenters_nearest'}) #Привели все названия столбцов к стандартному виду\n",
    "df.columns"
   ]
  },
  {
   "cell_type": "code",
   "execution_count": 14,
   "metadata": {},
   "outputs": [
    {
     "data": {
      "text/plain": [
       "0"
      ]
     },
     "execution_count": 14,
     "metadata": {},
     "output_type": "execute_result"
    }
   ],
   "source": [
    "df['balcony'] = df['balcony'].fillna(0) #Если балкон не указан, то будем считать что его нет\n",
    "df['balcony'].isna().sum() "
   ]
  },
  {
   "cell_type": "code",
   "execution_count": 15,
   "metadata": {},
   "outputs": [
    {
     "data": {
      "text/plain": [
       "count    23699.000000\n",
       "mean         2.743649\n",
       "std          0.212426\n",
       "min          2.200000\n",
       "25%          2.600000\n",
       "50%          2.771499\n",
       "75%          2.771499\n",
       "max          4.900000\n",
       "Name: ceiling_height, dtype: float64"
      ]
     },
     "execution_count": 15,
     "metadata": {},
     "output_type": "execute_result"
    }
   ],
   "source": [
    "# Высоты потолков выходящие за пределы здравого смысла заменили на среднюю высоту потолков. \n",
    "df['ceiling_height'] = df['ceiling_height'].fillna(df['ceiling_height'].mean())\n",
    "\n",
    "df['ceiling_height'] = (\n",
    "df['ceiling_height'].\n",
    "    where(( ~((df['ceiling_height']>=5) | (df['ceiling_height']<2.2 ))),df['ceiling_height'].mean())\n",
    ")\n",
    "\n",
    "df['ceiling_height'].describe()"
   ]
  },
  {
   "cell_type": "markdown",
   "metadata": {},
   "source": [
    "### Выводы"
   ]
  },
  {
   "cell_type": "markdown",
   "metadata": {},
   "source": [
    "Переименовали название одной колонки. Пропуски в колонке balcony  заменили на 0 балконов. Пропуски колонке ceiling_height, высота потолков заменили на среднюю высоту. Значения высоты потолков привели к значениям в соответствии со здравым смыслом. Больше замен пропуском в других столбцах сделать сложно без дополнительной информации. Пропуски скорее всего появились из-за ошибок заполнения или просто данные поля не заполнили при подаче объявления о продаже квартиры. Перевести целочисленный формат для некоторых столбцов мешают значения NaN, которые непонятно на что заменять. Можно заменить на -1, но пока непонятно нужно ли это в рамках текущего проекта"
   ]
  },
  {
   "cell_type": "markdown",
   "metadata": {},
   "source": [
    "## Расчёты и добавление результатов в таблицу"
   ]
  },
  {
   "cell_type": "code",
   "execution_count": 16,
   "metadata": {},
   "outputs": [
    {
     "data": {
      "text/plain": [
       "count    2.369900e+04\n",
       "mean     9.942637e+04\n",
       "std      5.030273e+04\n",
       "min      7.962963e+03\n",
       "25%      7.659967e+04\n",
       "50%      9.500000e+04\n",
       "75%      1.142563e+05\n",
       "max      1.907500e+06\n",
       "Name: price_m2, dtype: float64"
      ]
     },
     "execution_count": 16,
     "metadata": {},
     "output_type": "execute_result"
    }
   ],
   "source": [
    "df.iloc[8793, 1]= 12190*1000 #убрали выброс (квартира в СПб больше 100 кв. м. - стоимость в районе как раз 12 млн.) \n",
    "df['price_m2'] = df['last_price']/df['total_area']\n",
    "df['price_m2'].describe()"
   ]
  },
  {
   "cell_type": "code",
   "execution_count": 17,
   "metadata": {},
   "outputs": [
    {
     "data": {
      "text/plain": [
       "23699"
      ]
     },
     "execution_count": 17,
     "metadata": {},
     "output_type": "execute_result"
    }
   ],
   "source": [
    "#заменили NaN в столбце с общим количеством этажей на номер этажа удвоенный на 2: квартира расположена на среднем этаже\n",
    "df.loc[:,'floors_total'] = df.loc[:,'floors_total'].fillna(2*df['floor']) \n",
    "\n",
    "#привели столбец с общим количеством этажей к целочисленному типу чтобы удобнее было работать\n",
    "df['floors_total'] = df['floors_total'].astype('int')\n",
    "\n",
    "def floor_def(row):\n",
    "    #функция для категоризации этажа в квартирах\n",
    "    if row['floors_total']== row['floor']:\n",
    "        return 'Последний'\n",
    "    elif row['floor']==1:\n",
    "        return 'Первый'\n",
    "    return 'Другой'\n",
    "# Создали новый столбец с категориями этажа    \n",
    "df['floor_def_columns'] = df.apply(floor_def, axis=1)\n",
    "\n",
    "# Проверили что все получилось \n",
    "df['floor_def_columns'].count()"
   ]
  },
  {
   "cell_type": "code",
   "execution_count": 18,
   "metadata": {},
   "outputs": [],
   "source": [
    "#перевели столбец в формат \"дата и время\".\n",
    "FORMAT='%Y-%m-%dT%H:%M:%S'\n",
    "df['first_day_exposition'] = pd.to_datetime(df['first_day_exposition'], format=FORMAT)"
   ]
  },
  {
   "cell_type": "code",
   "execution_count": 19,
   "metadata": {},
   "outputs": [],
   "source": [
    "#дополнительно ввели новые столбцы с днем недели, месяцом и годом подачи объявления. \n",
    "df['week_day'] = df['first_day_exposition'].dt.weekday\n",
    "df['mouth'] = df['first_day_exposition'].dt.month\n",
    "df['year'] = df['first_day_exposition'].dt.year"
   ]
  },
  {
   "cell_type": "code",
   "execution_count": 20,
   "metadata": {},
   "outputs": [],
   "source": [
    "# Добавили столбец с отношением жилой и общей площади\n",
    "df['living_ratio'] = df['living_area']/df['total_area']"
   ]
  },
  {
   "cell_type": "code",
   "execution_count": 21,
   "metadata": {},
   "outputs": [],
   "source": [
    "# Добавили столбец с отношением площади кухни и общей площади\n",
    "df['kitchen_ratio'] = df['kitchen_area']/df['total_area']\n"
   ]
  },
  {
   "cell_type": "markdown",
   "metadata": {},
   "source": [
    "### Выводы"
   ]
  },
  {
   "cell_type": "markdown",
   "metadata": {},
   "source": [
    "- Добавили следующие столбцы:\n",
    "    - цена квадратного метра;\n",
    "    - день недели, месяц и год публикации объявления;\n",
    "    - этаж квартиры; \n",
    "    - соотношение жилой и общей площади;\n",
    "    - отношение площади кухни к общей.\n",
    "- Заменили пропуски в столбце с общим количество этажей на указанный этаж, умноженное на два: ввели допущение что мы на среднем этаже.\n"
   ]
  },
  {
   "cell_type": "markdown",
   "metadata": {},
   "source": [
    "## Исследовательский анализ данных"
   ]
  },
  {
   "cell_type": "markdown",
   "metadata": {},
   "source": [
    "**Площадь квартир**"
   ]
  },
  {
   "cell_type": "code",
   "execution_count": 22,
   "metadata": {},
   "outputs": [
    {
     "data": {
      "text/plain": [
       "Text(0, 0.5, 'Количество объектов')"
      ]
     },
     "execution_count": 22,
     "metadata": {},
     "output_type": "execute_result"
    },
    {
     "data": {
      "image/png": "[encoded data removed]",
      "text/plain": [
       "<Figure size 864x576 with 1 Axes>"
      ]
     },
     "metadata": {
      "needs_background": "light"
     },
     "output_type": "display_data"
    }
   ],
   "source": [
    "ax= df['total_area'].plot(kind='hist',bins=35, range=(25,150), figsize=(12,8), title='Распределение общей площади в квартирах', grid=True)\n",
    "ax.set_xlabel(\"Площадь, кв.м.\")\n",
    "ax.set_ylabel(\"Количество объектов\")"
   ]
  },
  {
   "cell_type": "code",
   "execution_count": 23,
   "metadata": {},
   "outputs": [
    {
     "data": {
      "text/plain": [
       "count    23699.000000\n",
       "mean        60.348651\n",
       "std         35.654083\n",
       "min         12.000000\n",
       "25%         40.000000\n",
       "50%         52.000000\n",
       "75%         69.900000\n",
       "max        900.000000\n",
       "Name: total_area, dtype: float64"
      ]
     },
     "execution_count": 23,
     "metadata": {},
     "output_type": "execute_result"
    }
   ],
   "source": [
    "df['total_area'].describe()"
   ]
  },
  {
   "cell_type": "markdown",
   "metadata": {},
   "source": [
    "Основная масса объектов имеет площадь меньше 82 метров. Имеется большой хвост распределения, увеличивающий стандартное отклонение и среднюю. Выбросов нет, данные похожи на достоверные.\n",
    "Кажется смешным, но на рынке недвижимости есть квартиры площадью от 12 м и они пользуются спросом.\n",
    " "
   ]
  },
  {
   "cell_type": "markdown",
   "metadata": {},
   "source": [
    "**Цена квартиры**"
   ]
  },
  {
   "cell_type": "code",
   "execution_count": 24,
   "metadata": {},
   "outputs": [
    {
     "data": {
      "text/plain": [
       "Text(0, 0.5, 'Количество объектов')"
      ]
     },
     "execution_count": 24,
     "metadata": {},
     "output_type": "execute_result"
    },
    {
     "data": {
      "image/png": "[encoded data removed]",
      "text/plain": [
       "<Figure size 864x576 with 1 Axes>"
      ]
     },
     "metadata": {
      "needs_background": "light"
     },
     "output_type": "display_data"
    }
   ],
   "source": [
    "ax= df['last_price'].plot(kind='hist',bins=50, sharex= True,  range=(400*10**3, 2*10**7),figsize=(12,8), grid=True, title='Распределение стоимости квартир')\n",
    "ax.set_xlabel(\"Стоимость\")\n",
    "ax.set_ylabel(\"Количество объектов\")"
   ]
  },
  {
   "cell_type": "code",
   "execution_count": 25,
   "metadata": {},
   "outputs": [
    {
     "data": {
      "text/plain": [
       "count    2.369900e+04\n",
       "mean     6.542063e+06\n",
       "std      1.088699e+07\n",
       "min      4.300000e+05\n",
       "25%      3.400000e+06\n",
       "50%      4.650000e+06\n",
       "75%      6.800000e+06\n",
       "max      7.630000e+08\n",
       "Name: last_price, dtype: float64"
      ]
     },
     "execution_count": 25,
     "metadata": {},
     "output_type": "execute_result"
    }
   ],
   "source": [
    "df['last_price'].describe()"
   ]
  },
  {
   "cell_type": "markdown",
   "metadata": {},
   "source": [
    "Цена квартир имеет достаточно компактное распределение основной массы объектов. Межквартильный размах составляет 3.4 млн. Стандартное отклонение существенно завышено за счет большо хвоста распределения. Также смещена и средняя, которая существенно больше медианы. Выбросов нет, данные похожи на достоверные. "
   ]
  },
  {
   "cell_type": "markdown",
   "metadata": {},
   "source": [
    "**Число комнат**"
   ]
  },
  {
   "cell_type": "code",
   "execution_count": 26,
   "metadata": {},
   "outputs": [
    {
     "data": {
      "text/plain": [
       "1     8047\n",
       "2     7940\n",
       "3     5814\n",
       "4     1180\n",
       "5      326\n",
       "0      197\n",
       "6      105\n",
       "7       59\n",
       "8       12\n",
       "9        8\n",
       "10       3\n",
       "14       2\n",
       "11       2\n",
       "19       1\n",
       "12       1\n",
       "16       1\n",
       "15       1\n",
       "Name: rooms, dtype: int64"
      ]
     },
     "execution_count": 26,
     "metadata": {},
     "output_type": "execute_result"
    }
   ],
   "source": [
    "df['rooms'].value_counts()"
   ]
  },
  {
   "cell_type": "code",
   "execution_count": 27,
   "metadata": {},
   "outputs": [],
   "source": [
    "df=df[df['rooms']<7]"
   ]
  },
  {
   "cell_type": "code",
   "execution_count": 28,
   "metadata": {},
   "outputs": [
    {
     "data": {
      "text/plain": [
       "Text(0, 0.5, 'Количество объектов')"
      ]
     },
     "execution_count": 28,
     "metadata": {},
     "output_type": "execute_result"
    },
    {
     "data": {
      "image/png": "[encoded data removed]",
      "text/plain": [
       "<Figure size 864x576 with 1 Axes>"
      ]
     },
     "metadata": {
      "needs_background": "light"
     },
     "output_type": "display_data"
    }
   ],
   "source": [
    "ax= df['rooms'].plot(kind='hist',range=(1,7), bins=6, figsize=(12,8), grid=True,  title='Распределение количества комнат в квартирах')\n",
    "ax.set_xlabel(\"Комнаты\")\n",
    "ax.set_ylabel(\"Количество объектов\")"
   ]
  },
  {
   "cell_type": "markdown",
   "metadata": {},
   "source": [
    "Ограничили число комнта до 6 включительно, так как для большего количества комнат данных мало. "
   ]
  },
  {
   "cell_type": "markdown",
   "metadata": {},
   "source": [
    "**Высота потолков**"
   ]
  },
  {
   "cell_type": "code",
   "execution_count": 29,
   "metadata": {},
   "outputs": [
    {
     "data": {
      "text/plain": [
       "count    23609.000000\n",
       "mean         2.741946\n",
       "std          0.209465\n",
       "min          2.200000\n",
       "25%          2.600000\n",
       "50%          2.771499\n",
       "75%          2.771499\n",
       "max          4.900000\n",
       "Name: ceiling_height, dtype: float64"
      ]
     },
     "execution_count": 29,
     "metadata": {},
     "output_type": "execute_result"
    }
   ],
   "source": [
    "df['ceiling_height'].describe()"
   ]
  },
  {
   "cell_type": "code",
   "execution_count": 30,
   "metadata": {},
   "outputs": [
    {
     "data": {
      "text/plain": [
       "Text(0, 0.5, 'Количество объектов')"
      ]
     },
     "execution_count": 30,
     "metadata": {},
     "output_type": "execute_result"
    },
    {
     "data": {
      "image/png": "[encoded data removed]",
      "text/plain": [
       "<Figure size 864x576 with 1 Axes>"
      ]
     },
     "metadata": {
      "needs_background": "light"
     },
     "output_type": "display_data"
    }
   ],
   "source": [
    "ax=df['ceiling_height'].plot(kind='hist',range=(2.4,3.25), bins=100, figsize=(12,8), grid=True,  title='Распределение высоты потолкво в квартирах')\n",
    "ax.set_xlabel(\"Высота потолков, м\")\n",
    "ax.set_ylabel(\"Количество объектов\")\n"
   ]
  },
  {
   "cell_type": "markdown",
   "metadata": {},
   "source": [
    "Очистку данных провели выше. График показывает, что высота потолков имеет явные пики, что объясняется какими-то стандартными величинами которые были приняты при строительстве. 2.5 - хрущевки, 2.77 - более качественное и современное жилье. 3.1 - сталинки."
   ]
  },
  {
   "cell_type": "markdown",
   "metadata": {},
   "source": [
    "**Время продажи квартиры**"
   ]
  },
  {
   "cell_type": "code",
   "execution_count": 31,
   "metadata": {},
   "outputs": [],
   "source": [
    "ax=df['days_exposition'].describe()\n"
   ]
  },
  {
   "cell_type": "code",
   "execution_count": 32,
   "metadata": {},
   "outputs": [
    {
     "data": {
      "text/plain": [
       "Text(0, 0.5, 'Количество объектов')"
      ]
     },
     "execution_count": 32,
     "metadata": {},
     "output_type": "execute_result"
    },
    {
     "data": {
      "image/png": "[encoded data removed]",
      "text/plain": [
       "<Figure size 864x576 with 1 Axes>"
      ]
     },
     "metadata": {
      "needs_background": "light"
     },
     "output_type": "display_data"
    }
   ],
   "source": [
    "ax=df['days_exposition'].plot(kind='hist',range=(1,600), bins=12, figsize=(12,8), grid=True,  title='Распределение времени показа объявлений')\n",
    "ax.set_xlabel(\"Количество дней\")\n",
    "ax.set_ylabel(\"Количество объектов\")\n"
   ]
  },
  {
   "cell_type": "markdown",
   "metadata": {},
   "source": [
    "В среднем продажа квартиры занимает 181 день. Но медиана составляет 95 дней. Что говорит о том, что существует группа объектов, которые не находят покупателя достаточно долго. Если квартира была продана меньше чем за 1.5 месяца, то можно говорить, что продажа прошла быстро. Если продажа происходит больше 231 дней, то объект продается долго.\n"
   ]
  },
  {
   "cell_type": "code",
   "execution_count": 33,
   "metadata": {},
   "outputs": [],
   "source": [
    "df=df[df['days_exposition']<500] "
   ]
  },
  {
   "cell_type": "code",
   "execution_count": 34,
   "metadata": {},
   "outputs": [
    {
     "data": {
      "text/plain": [
       "Text(0, 0.5, 'Количество объектов')"
      ]
     },
     "execution_count": 34,
     "metadata": {},
     "output_type": "execute_result"
    },
    {
     "data": {
      "image/png": "[encoded data removed]",
      "text/plain": [
       "<Figure size 864x576 with 1 Axes>"
      ]
     },
     "metadata": {
      "needs_background": "light"
     },
     "output_type": "display_data"
    }
   ],
   "source": [
    "ax=df['days_exposition'].plot(kind='hist',range=(1,500), bins=12, figsize=(12,8), grid=True,  title='Распределение времени показа объявлений')\n",
    "ax.set_xlabel(\"Количество дней\")\n",
    "ax.set_ylabel(\"Количество объектов\")"
   ]
  },
  {
   "cell_type": "code",
   "execution_count": 35,
   "metadata": {},
   "outputs": [
    {
     "data": {
      "text/plain": [
       "Text(0, 0.5, 'Количество объектов')"
      ]
     },
     "execution_count": 35,
     "metadata": {},
     "output_type": "execute_result"
    },
    {
     "data": {
      "image/png": "[encoded data removed]",
      "text/plain": [
       "<Figure size 864x576 with 1 Axes>"
      ]
     },
     "metadata": {
      "needs_background": "light"
     },
     "output_type": "display_data"
    }
   ],
   "source": [
    "ax=df['days_exposition'].plot(kind='hist',range=(1,100), bins=101, figsize=(12,8), grid=True,  title='Распределение времени показа объявлений')\n",
    "ax.set_xlabel(\"Количество дней\")\n",
    "ax.set_ylabel(\"Количество объектов\")\n"
   ]
  },
  {
   "cell_type": "code",
   "execution_count": 36,
   "metadata": {},
   "outputs": [
    {
     "data": {
      "text/plain": [
       "45.0    0.083913\n",
       "60.0    0.051302\n",
       "7.0     0.022218\n",
       "30.0    0.019834\n",
       "90.0    0.019167\n",
       "          ...   \n",
       "78.0    0.004863\n",
       "94.0    0.004672\n",
       "87.0    0.004100\n",
       "2.0     0.000286\n",
       "1.0     0.000095\n",
       "Name: days_exposition, Length: 99, dtype: float64"
      ]
     },
     "execution_count": 36,
     "metadata": {},
     "output_type": "execute_result"
    }
   ],
   "source": [
    "df[df['days_exposition']<100]['days_exposition'].value_counts(normalize=True)"
   ]
  },
  {
   "cell_type": "markdown",
   "metadata": {},
   "source": [
    "45 дней явно выбивается из общей статистики, это ровно 1.5 месяца и здесь, наверное, какая-то техническая или юридическая особенность в данных. Я бы оставил как есть, если нет возможности уточнить по этому поводу у технических специалистов по данной базе данных либо у тех, кто знает логику работы как данные собирались. Также выделяются 7, 60, 30 и 90. Наиболее вероятно, что эта база платных объявлений, и продавцы просто не продлили подписку на услугу. "
   ]
  },
  {
   "cell_type": "code",
   "execution_count": 37,
   "metadata": {},
   "outputs": [
    {
     "data": {
      "text/plain": [
       "count    18713.000000\n",
       "mean       126.950248\n",
       "std        119.056371\n",
       "min          1.000000\n",
       "25%         41.000000\n",
       "50%         84.000000\n",
       "75%        181.000000\n",
       "max        499.000000\n",
       "Name: days_exposition, dtype: float64"
      ]
     },
     "execution_count": 37,
     "metadata": {},
     "output_type": "execute_result"
    }
   ],
   "source": [
    "df['days_exposition'].describe()"
   ]
  },
  {
   "cell_type": "markdown",
   "metadata": {},
   "source": [
    "После удаления объектов с очень длительной продажей медиана уменьшилась на 11 дней, а средняя упала почти в 1.5 раза. Тем самым мы избавились от длинного хвоста распределения. Объекты с очень длительной продажей выбивались из общей массы квартир. Скорее всего либо объекты были уникальные, либо их цена была слишком завышена, а продавец не хотел опускать цену. \n",
    "Мы потеряли около 10 % данных, но эти данные могли быть не очень достоверные, так как по ним очень долго не были найдены покупатели и они явно не идут в общем тренде, но могут исказить выводы.\n"
   ]
  },
  {
   "cell_type": "markdown",
   "metadata": {},
   "source": [
    "### Анализ факторов, оказывающих наибольшее влияние на стоимость квартиры"
   ]
  },
  {
   "cell_type": "code",
   "execution_count": 38,
   "metadata": {},
   "outputs": [
    {
     "data": {
      "text/plain": [
       "last_price              1.000000\n",
       "price_m2                0.742751\n",
       "total_area              0.664087\n",
       "living_area             0.568640\n",
       "kitchen_area            0.466774\n",
       "rooms                   0.355503\n",
       "ceiling_height          0.276471\n",
       "ponds_around3000        0.165160\n",
       "parks_around3000        0.161431\n",
       "total_images            0.104599\n",
       "days_exposition         0.076551\n",
       "floor                   0.029433\n",
       "balcony                 0.021957\n",
       "floors_total            0.006247\n",
       "week_day                0.005678\n",
       "parks_nearest           0.003607\n",
       "living_ratio           -0.002153\n",
       "open_plan              -0.008442\n",
       "mouth                  -0.008810\n",
       "airports_nearest       -0.024408\n",
       "studio                 -0.030447\n",
       "year                   -0.038587\n",
       "kitchen_ratio          -0.086729\n",
       "ponds_nearest          -0.094342\n",
       "city_сenters_nearest   -0.221222\n",
       "Name: last_price, dtype: float64"
      ]
     },
     "execution_count": 38,
     "metadata": {},
     "output_type": "execute_result"
    }
   ],
   "source": [
    "df.corr()['last_price'].sort_values(ascending=False)\n"
   ]
  },
  {
   "cell_type": "markdown",
   "metadata": {},
   "source": [
    "**Итоги анализа факторов, оказывающих наибольшее влияние на стоимость жилья.**"
   ]
  },
  {
   "cell_type": "markdown",
   "metadata": {},
   "source": [
    "- Наибольшая корреляция между ценой и следующими величинами: \n",
    "    - стоимость квадратного метра - 0.74\n",
    "    - общей площадью - 0.66, \n",
    "    - жилой площадью - 0.57, \n",
    "    - площадью кухни - 0.47,\n",
    "Меньшее влияние оказывают следующие факторы:    \n",
    "    - количеством комнат - 0.36, \n",
    "    - высотой потолков - 0.27\n",
    "    - удаленностью от центра - минус 0.22\n",
    "\n",
    "Также некоторое небольшое влияние оказывают:\n",
    "    парки, количество фотографий в объявлении, пруды.\n",
    "Стоимость квартиры не зависит от дня недели, месяца и года размещения объявления.\n",
    "Также стоимость жилья сильно коррелирует со стоимостью квадратного метра, но тут связь обратная: стоимость жилья определяет цену за квадратный метр, а не наоборот, по моему скромному мнению.\n"
   ]
  },
  {
   "cell_type": "markdown",
   "metadata": {},
   "source": [
    "**Зависимость цены от того, на каком этаже расположена квартира**"
   ]
  },
  {
   "cell_type": "code",
   "execution_count": 39,
   "metadata": {},
   "outputs": [
    {
     "data": {
      "text/html": [
       "<div>\n",
       "<style scoped>\n",
       "    .dataframe tbody tr th:only-of-type {\n",
       "        vertical-align: middle;\n",
       "    }\n",
       "\n",
       "    .dataframe tbody tr th {\n",
       "        vertical-align: top;\n",
       "    }\n",
       "\n",
       "    .dataframe thead th {\n",
       "        text-align: right;\n",
       "    }\n",
       "</style>\n",
       "<table border=\"1\" class=\"dataframe\">\n",
       "  <thead>\n",
       "    <tr style=\"text-align: right;\">\n",
       "      <th></th>\n",
       "      <th>median</th>\n",
       "      <th>mean</th>\n",
       "    </tr>\n",
       "    <tr>\n",
       "      <th>floor_def_columns</th>\n",
       "      <th></th>\n",
       "      <th></th>\n",
       "    </tr>\n",
       "  </thead>\n",
       "  <tbody>\n",
       "    <tr>\n",
       "      <td>Другой</td>\n",
       "      <td>4630000.0</td>\n",
       "      <td>6.090411e+06</td>\n",
       "    </tr>\n",
       "    <tr>\n",
       "      <td>Первый</td>\n",
       "      <td>3794500.0</td>\n",
       "      <td>4.386694e+06</td>\n",
       "    </tr>\n",
       "    <tr>\n",
       "      <td>Последний</td>\n",
       "      <td>4200000.0</td>\n",
       "      <td>6.204837e+06</td>\n",
       "    </tr>\n",
       "  </tbody>\n",
       "</table>\n",
       "</div>"
      ],
      "text/plain": [
       "                      median          mean\n",
       "floor_def_columns                         \n",
       "Другой             4630000.0  6.090411e+06\n",
       "Первый             3794500.0  4.386694e+06\n",
       "Последний          4200000.0  6.204837e+06"
      ]
     },
     "execution_count": 39,
     "metadata": {},
     "output_type": "execute_result"
    }
   ],
   "source": [
    "df.groupby('floor_def_columns')['last_price'].agg(['median', 'mean'])"
   ]
  },
  {
   "cell_type": "code",
   "execution_count": 40,
   "metadata": {},
   "outputs": [
    {
     "data": {
      "text/html": [
       "<div>\n",
       "<style scoped>\n",
       "    .dataframe tbody tr th:only-of-type {\n",
       "        vertical-align: middle;\n",
       "    }\n",
       "\n",
       "    .dataframe tbody tr th {\n",
       "        vertical-align: top;\n",
       "    }\n",
       "\n",
       "    .dataframe thead th {\n",
       "        text-align: right;\n",
       "    }\n",
       "</style>\n",
       "<table border=\"1\" class=\"dataframe\">\n",
       "  <thead>\n",
       "    <tr style=\"text-align: right;\">\n",
       "      <th></th>\n",
       "      <th>count</th>\n",
       "      <th>mean</th>\n",
       "      <th>std</th>\n",
       "      <th>min</th>\n",
       "      <th>25%</th>\n",
       "      <th>50%</th>\n",
       "      <th>75%</th>\n",
       "      <th>max</th>\n",
       "    </tr>\n",
       "    <tr>\n",
       "      <th>floor_def_columns</th>\n",
       "      <th></th>\n",
       "      <th></th>\n",
       "      <th></th>\n",
       "      <th></th>\n",
       "      <th></th>\n",
       "      <th></th>\n",
       "      <th></th>\n",
       "      <th></th>\n",
       "    </tr>\n",
       "  </thead>\n",
       "  <tbody>\n",
       "    <tr>\n",
       "      <td>Другой</td>\n",
       "      <td>13660.0</td>\n",
       "      <td>5.382879e+06</td>\n",
       "      <td>2.952873e+06</td>\n",
       "      <td>450000.0</td>\n",
       "      <td>3500000.0</td>\n",
       "      <td>4599000.0</td>\n",
       "      <td>6396000.00</td>\n",
       "      <td>19999000.0</td>\n",
       "    </tr>\n",
       "    <tr>\n",
       "      <td>Первый</td>\n",
       "      <td>2189.0</td>\n",
       "      <td>4.176028e+06</td>\n",
       "      <td>2.354216e+06</td>\n",
       "      <td>440000.0</td>\n",
       "      <td>2700000.0</td>\n",
       "      <td>3750000.0</td>\n",
       "      <td>5000000.00</td>\n",
       "      <td>19327000.0</td>\n",
       "    </tr>\n",
       "    <tr>\n",
       "      <td>Последний</td>\n",
       "      <td>2482.0</td>\n",
       "      <td>4.902299e+06</td>\n",
       "      <td>3.115823e+06</td>\n",
       "      <td>430000.0</td>\n",
       "      <td>2950000.0</td>\n",
       "      <td>4100000.0</td>\n",
       "      <td>5947772.75</td>\n",
       "      <td>19900000.0</td>\n",
       "    </tr>\n",
       "  </tbody>\n",
       "</table>\n",
       "</div>"
      ],
      "text/plain": [
       "                     count          mean           std       min        25%  \\\n",
       "floor_def_columns                                                             \n",
       "Другой             13660.0  5.382879e+06  2.952873e+06  450000.0  3500000.0   \n",
       "Первый              2189.0  4.176028e+06  2.354216e+06  440000.0  2700000.0   \n",
       "Последний           2482.0  4.902299e+06  3.115823e+06  430000.0  2950000.0   \n",
       "\n",
       "                         50%         75%         max  \n",
       "floor_def_columns                                     \n",
       "Другой             4599000.0  6396000.00  19999000.0  \n",
       "Первый             3750000.0  5000000.00  19327000.0  \n",
       "Последний          4100000.0  5947772.75  19900000.0  "
      ]
     },
     "execution_count": 40,
     "metadata": {},
     "output_type": "execute_result"
    }
   ],
   "source": [
    "df.query('last_price<20000000').groupby('floor_def_columns')['last_price'].describe()"
   ]
  },
  {
   "cell_type": "code",
   "execution_count": 41,
   "metadata": {},
   "outputs": [
    {
     "data": {
      "text/html": [
       "<div>\n",
       "<style scoped>\n",
       "    .dataframe tbody tr th:only-of-type {\n",
       "        vertical-align: middle;\n",
       "    }\n",
       "\n",
       "    .dataframe tbody tr th {\n",
       "        vertical-align: top;\n",
       "    }\n",
       "\n",
       "    .dataframe thead th {\n",
       "        text-align: right;\n",
       "    }\n",
       "</style>\n",
       "<table border=\"1\" class=\"dataframe\">\n",
       "  <thead>\n",
       "    <tr style=\"text-align: right;\">\n",
       "      <th></th>\n",
       "      <th>count</th>\n",
       "      <th>mean</th>\n",
       "      <th>std</th>\n",
       "      <th>min</th>\n",
       "      <th>25%</th>\n",
       "      <th>50%</th>\n",
       "      <th>75%</th>\n",
       "      <th>max</th>\n",
       "    </tr>\n",
       "    <tr>\n",
       "      <th>floor_def_columns</th>\n",
       "      <th></th>\n",
       "      <th></th>\n",
       "      <th></th>\n",
       "      <th></th>\n",
       "      <th></th>\n",
       "      <th></th>\n",
       "      <th></th>\n",
       "      <th></th>\n",
       "    </tr>\n",
       "  </thead>\n",
       "  <tbody>\n",
       "    <tr>\n",
       "      <td>Другой</td>\n",
       "      <td>284.0</td>\n",
       "      <td>3.982781e+07</td>\n",
       "      <td>3.287008e+07</td>\n",
       "      <td>20040000.0</td>\n",
       "      <td>23900000.0</td>\n",
       "      <td>29000000.0</td>\n",
       "      <td>40000000.0</td>\n",
       "      <td>330000000.0</td>\n",
       "    </tr>\n",
       "    <tr>\n",
       "      <td>Первый</td>\n",
       "      <td>16.0</td>\n",
       "      <td>3.028090e+07</td>\n",
       "      <td>1.231969e+07</td>\n",
       "      <td>20295200.0</td>\n",
       "      <td>21000000.0</td>\n",
       "      <td>25600000.0</td>\n",
       "      <td>34502750.0</td>\n",
       "      <td>55900000.0</td>\n",
       "    </tr>\n",
       "    <tr>\n",
       "      <td>Последний</td>\n",
       "      <td>73.0</td>\n",
       "      <td>5.049114e+07</td>\n",
       "      <td>5.927633e+07</td>\n",
       "      <td>20300000.0</td>\n",
       "      <td>24719904.0</td>\n",
       "      <td>28521092.0</td>\n",
       "      <td>45900000.0</td>\n",
       "      <td>401300000.0</td>\n",
       "    </tr>\n",
       "  </tbody>\n",
       "</table>\n",
       "</div>"
      ],
      "text/plain": [
       "                   count          mean           std         min         25%  \\\n",
       "floor_def_columns                                                              \n",
       "Другой             284.0  3.982781e+07  3.287008e+07  20040000.0  23900000.0   \n",
       "Первый              16.0  3.028090e+07  1.231969e+07  20295200.0  21000000.0   \n",
       "Последний           73.0  5.049114e+07  5.927633e+07  20300000.0  24719904.0   \n",
       "\n",
       "                          50%         75%          max  \n",
       "floor_def_columns                                       \n",
       "Другой             29000000.0  40000000.0  330000000.0  \n",
       "Первый             25600000.0  34502750.0   55900000.0  \n",
       "Последний          28521092.0  45900000.0  401300000.0  "
      ]
     },
     "execution_count": 41,
     "metadata": {},
     "output_type": "execute_result"
    }
   ],
   "source": [
    "df.query('last_price>20000000').groupby('floor_def_columns')['last_price'].describe()"
   ]
  },
  {
   "cell_type": "code",
   "execution_count": 42,
   "metadata": {},
   "outputs": [
    {
     "data": {
      "text/html": [
       "<div>\n",
       "<style scoped>\n",
       "    .dataframe tbody tr th:only-of-type {\n",
       "        vertical-align: middle;\n",
       "    }\n",
       "\n",
       "    .dataframe tbody tr th {\n",
       "        vertical-align: top;\n",
       "    }\n",
       "\n",
       "    .dataframe thead th {\n",
       "        text-align: right;\n",
       "    }\n",
       "</style>\n",
       "<table border=\"1\" class=\"dataframe\">\n",
       "  <thead>\n",
       "    <tr style=\"text-align: right;\">\n",
       "      <th></th>\n",
       "      <th>count</th>\n",
       "      <th>mean</th>\n",
       "      <th>std</th>\n",
       "      <th>min</th>\n",
       "      <th>25%</th>\n",
       "      <th>50%</th>\n",
       "      <th>75%</th>\n",
       "      <th>max</th>\n",
       "    </tr>\n",
       "    <tr>\n",
       "      <th>floor_def_columns</th>\n",
       "      <th></th>\n",
       "      <th></th>\n",
       "      <th></th>\n",
       "      <th></th>\n",
       "      <th></th>\n",
       "      <th></th>\n",
       "      <th></th>\n",
       "      <th></th>\n",
       "    </tr>\n",
       "  </thead>\n",
       "  <tbody>\n",
       "    <tr>\n",
       "      <td>Другой</td>\n",
       "      <td>64.0</td>\n",
       "      <td>8.166419e+07</td>\n",
       "      <td>4.938942e+07</td>\n",
       "      <td>40348248.0</td>\n",
       "      <td>51750000.0</td>\n",
       "      <td>64950000.0</td>\n",
       "      <td>95000000.0</td>\n",
       "      <td>330000000.0</td>\n",
       "    </tr>\n",
       "    <tr>\n",
       "      <td>Первый</td>\n",
       "      <td>4.0</td>\n",
       "      <td>4.982775e+07</td>\n",
       "      <td>5.059922e+06</td>\n",
       "      <td>43511000.0</td>\n",
       "      <td>48302750.0</td>\n",
       "      <td>49950000.0</td>\n",
       "      <td>51475000.0</td>\n",
       "      <td>55900000.0</td>\n",
       "    </tr>\n",
       "    <tr>\n",
       "      <td>Последний</td>\n",
       "      <td>19.0</td>\n",
       "      <td>1.157405e+08</td>\n",
       "      <td>8.875150e+07</td>\n",
       "      <td>45900000.0</td>\n",
       "      <td>64745000.0</td>\n",
       "      <td>87000000.0</td>\n",
       "      <td>121740000.0</td>\n",
       "      <td>401300000.0</td>\n",
       "    </tr>\n",
       "  </tbody>\n",
       "</table>\n",
       "</div>"
      ],
      "text/plain": [
       "                   count          mean           std         min         25%  \\\n",
       "floor_def_columns                                                              \n",
       "Другой              64.0  8.166419e+07  4.938942e+07  40348248.0  51750000.0   \n",
       "Первый               4.0  4.982775e+07  5.059922e+06  43511000.0  48302750.0   \n",
       "Последний           19.0  1.157405e+08  8.875150e+07  45900000.0  64745000.0   \n",
       "\n",
       "                          50%          75%          max  \n",
       "floor_def_columns                                        \n",
       "Другой             64950000.0   95000000.0  330000000.0  \n",
       "Первый             49950000.0   51475000.0   55900000.0  \n",
       "Последний          87000000.0  121740000.0  401300000.0  "
      ]
     },
     "execution_count": 42,
     "metadata": {},
     "output_type": "execute_result"
    }
   ],
   "source": [
    "df.query('last_price>40000000').groupby('floor_def_columns')['last_price'].describe()"
   ]
  },
  {
   "cell_type": "code",
   "execution_count": 43,
   "metadata": {},
   "outputs": [
    {
     "data": {
      "text/plain": [
       "Text(0, 0.5, 'Количество объектов')"
      ]
     },
     "execution_count": 43,
     "metadata": {},
     "output_type": "execute_result"
    },
    {
     "data": {
      "image/png": "[encoded data removed]",
      "text/plain": [
       "<Figure size 432x288 with 1 Axes>"
      ]
     },
     "metadata": {
      "needs_background": "light"
     },
     "output_type": "display_data"
    }
   ],
   "source": [
    "\n",
    "ax=df.query('last_price<20000000').groupby('floor_def_columns')['last_price'].agg(['mean']).sort_values(by='mean').plot(kind='bar', legend=False)\n",
    "ax.set_xlabel(\"Категории этажей в квартирах\")\n",
    "ax.set_ylabel(\"Количество объектов\")"
   ]
  },
  {
   "cell_type": "code",
   "execution_count": 44,
   "metadata": {},
   "outputs": [
    {
     "data": {
      "text/plain": [
       "Text(0, 0.5, 'Количество объектов')"
      ]
     },
     "execution_count": 44,
     "metadata": {},
     "output_type": "execute_result"
    },
    {
     "data": {
      "image/png": "[encoded data removed]",
      "text/plain": [
       "<Figure size 432x288 with 1 Axes>"
      ]
     },
     "metadata": {
      "needs_background": "light"
     },
     "output_type": "display_data"
    }
   ],
   "source": [
    "ax=df.query('last_price>20000000').groupby('floor_def_columns')['last_price'].agg(['mean']).sort_values(by='mean').plot(kind='bar', legend=False)\n",
    "ax.set_xlabel(\"Категории этажей в квартирах\")\n",
    "ax.set_ylabel(\"Количество объектов\")"
   ]
  },
  {
   "cell_type": "markdown",
   "metadata": {},
   "source": [
    "**Новый вывод** "
   ]
  },
  {
   "cell_type": "markdown",
   "metadata": {},
   "source": [
    "Квартиры на первом этаже самые дешевые. В сегменте не элитного жилья больше нравятся квартиры \"не первый, не последний\", а вот в элитном сегменте больше ценятся квартиры на последних этажах. "
   ]
  },
  {
   "cell_type": "markdown",
   "metadata": {},
   "source": [
    "**10 населённых пунктов с наибольшим числом объявлений**"
   ]
  },
  {
   "cell_type": "code",
   "execution_count": 45,
   "metadata": {},
   "outputs": [
    {
     "data": {
      "text/html": [
       "<div>\n",
       "<style scoped>\n",
       "    .dataframe tbody tr th:only-of-type {\n",
       "        vertical-align: middle;\n",
       "    }\n",
       "\n",
       "    .dataframe tbody tr th {\n",
       "        vertical-align: top;\n",
       "    }\n",
       "\n",
       "    .dataframe thead th {\n",
       "        text-align: right;\n",
       "    }\n",
       "</style>\n",
       "<table border=\"1\" class=\"dataframe\">\n",
       "  <thead>\n",
       "    <tr style=\"text-align: right;\">\n",
       "      <th></th>\n",
       "      <th>count</th>\n",
       "      <th>mean</th>\n",
       "    </tr>\n",
       "    <tr>\n",
       "      <th>locality_name</th>\n",
       "      <th></th>\n",
       "      <th></th>\n",
       "    </tr>\n",
       "  </thead>\n",
       "  <tbody>\n",
       "    <tr>\n",
       "      <td>Санкт-Петербург</td>\n",
       "      <td>12369</td>\n",
       "      <td>111309.027882</td>\n",
       "    </tr>\n",
       "    <tr>\n",
       "      <td>Пушкин</td>\n",
       "      <td>277</td>\n",
       "      <td>101857.048707</td>\n",
       "    </tr>\n",
       "    <tr>\n",
       "      <td>деревня Кудрово</td>\n",
       "      <td>266</td>\n",
       "      <td>92656.981467</td>\n",
       "    </tr>\n",
       "    <tr>\n",
       "      <td>посёлок Парголово</td>\n",
       "      <td>286</td>\n",
       "      <td>89360.980969</td>\n",
       "    </tr>\n",
       "    <tr>\n",
       "      <td>посёлок Мурино</td>\n",
       "      <td>485</td>\n",
       "      <td>86070.054278</td>\n",
       "    </tr>\n",
       "    <tr>\n",
       "      <td>посёлок Шушары</td>\n",
       "      <td>385</td>\n",
       "      <td>77938.483694</td>\n",
       "    </tr>\n",
       "    <tr>\n",
       "      <td>Колпино</td>\n",
       "      <td>292</td>\n",
       "      <td>74671.949419</td>\n",
       "    </tr>\n",
       "    <tr>\n",
       "      <td>Всеволожск</td>\n",
       "      <td>308</td>\n",
       "      <td>68605.620450</td>\n",
       "    </tr>\n",
       "    <tr>\n",
       "      <td>Гатчина</td>\n",
       "      <td>244</td>\n",
       "      <td>68065.179716</td>\n",
       "    </tr>\n",
       "    <tr>\n",
       "      <td>Выборг</td>\n",
       "      <td>193</td>\n",
       "      <td>57011.264060</td>\n",
       "    </tr>\n",
       "  </tbody>\n",
       "</table>\n",
       "</div>"
      ],
      "text/plain": [
       "                   count           mean\n",
       "locality_name                          \n",
       "Санкт-Петербург    12369  111309.027882\n",
       "Пушкин               277  101857.048707\n",
       "деревня Кудрово      266   92656.981467\n",
       "посёлок Парголово    286   89360.980969\n",
       "посёлок Мурино       485   86070.054278\n",
       "посёлок Шушары       385   77938.483694\n",
       "Колпино              292   74671.949419\n",
       "Всеволожск           308   68605.620450\n",
       "Гатчина              244   68065.179716\n",
       "Выборг               193   57011.264060"
      ]
     },
     "execution_count": 45,
     "metadata": {},
     "output_type": "execute_result"
    }
   ],
   "source": [
    "df.pivot_table(index='locality_name', values='price_m2', aggfunc=('mean', 'count')).sort_values(by='count', ascending =False).head(10).sort_values(by='mean', ascending =False)"
   ]
  },
  {
   "cell_type": "markdown",
   "metadata": {},
   "source": [
    "#### Выводы"
   ]
  },
  {
   "cell_type": "markdown",
   "metadata": {},
   "source": [
    "Наибольшая стоимость квадратного метра в СПб и его пригородах. Названия \"деревня\" или \"поселок\" обманчивы, зачастую везде есть метро или в ближайшее время появится. От Колпино ходит электричка до Московского вокзала, но стоимость достаточно низаная из-за большого количества устаревшего жилья. Мурино имеет метро, но данный район превращается в район для проживания людей, снимающих дешевое жилье. Значительное влияние оказывает большое количество парков, в частности для Пушкина. У Кудрово хорошая транспортная доступность и большое количество новостроек. Парголова имеет также хорошую транспортную доступность и расположен на Севере, где традиционно более высокая стоимость жилья. Шушары имеет станцию метро, но район традиционно развивался как эконом-класс жилья. Гатчина достаточно далеко от СПб, но еще позволяет работать в Питер, но значительное число устаревшего жилья снижает среднюю стоимость жилья. Выборг уже значительно удален от СПб, что затрудняет возможность работы в СПб."
   ]
  },
  {
   "cell_type": "markdown",
   "metadata": {},
   "source": [
    "### Анализ зависимости стоимости жилья от удаленности от центра"
   ]
  },
  {
   "cell_type": "code",
   "execution_count": 46,
   "metadata": {},
   "outputs": [],
   "source": [
    "#Создали DataFrame с объектами имеющими даннные о дальности до центра и расположенные в СПб\n",
    "df_spb = df[(df['locality_name']=='Санкт-Петербург') & (~(df['city_сenters_nearest'].isna()))].copy()"
   ]
  },
  {
   "cell_type": "code",
   "execution_count": 47,
   "metadata": {},
   "outputs": [],
   "source": [
    "#Создали стобец с целью категоризации объектов по дальности от центра, перевели в км, поменяли тип на целочисленный\n",
    "df_spb.loc[:,'city_сenters_km']=((df_spb.loc[:,'city_сenters_nearest'])*0.001).round().astype('int')"
   ]
  },
  {
   "cell_type": "code",
   "execution_count": 48,
   "metadata": {},
   "outputs": [
    {
     "data": {
      "text/plain": [
       "Text(0, 0.5, 'Средная стоиость квартир')"
      ]
     },
     "execution_count": 48,
     "metadata": {},
     "output_type": "execute_result"
    },
    {
     "data": {
      "image/png": "[encoded data removed]",
      "text/plain": [
       "<Figure size 720x360 with 1 Axes>"
      ]
     },
     "metadata": {
      "needs_background": "light"
     },
     "output_type": "display_data"
    }
   ],
   "source": [
    "#Создали сводную таблицу \n",
    "ax=df_spb.pivot_table(columns='city_сenters_km',  values='last_price', aggfunc='mean').T.plot(grid=True, figsize=(10,5), legend=False, title='График средней стоимости квадратного метра от дальности от центра')\n",
    "ax.set_xlabel(\"Расстояние, км\")\n",
    "ax.set_ylabel(\"Средная стоиость квартир\")"
   ]
  },
  {
   "cell_type": "markdown",
   "metadata": {},
   "source": [
    "На основе анализа стоимости квадратного метра и стоимости жилья можно сделать вывод, что скорее всего центр Питера это около 3 км в радиусе. Именно в этой точке график резко изгибается. Более явно центр \"виден\" на графике со стоимостью жилья, чем на графике цены квадратного метра, так как в центре квартире не только дороже, но и больше по площади. "
   ]
  },
  {
   "cell_type": "code",
   "execution_count": 49,
   "metadata": {},
   "outputs": [],
   "source": [
    "#Создали новый датасет из объектов в СПб на дальности не более 3000 км от центра\n",
    "df_centre = df_spb[df_spb['city_сenters_nearest']<3000] "
   ]
  },
  {
   "cell_type": "code",
   "execution_count": 50,
   "metadata": {},
   "outputs": [
    {
     "data": {
      "text/html": [
       "<div>\n",
       "<style scoped>\n",
       "    .dataframe tbody tr th:only-of-type {\n",
       "        vertical-align: middle;\n",
       "    }\n",
       "\n",
       "    .dataframe tbody tr th {\n",
       "        vertical-align: top;\n",
       "    }\n",
       "\n",
       "    .dataframe thead th {\n",
       "        text-align: right;\n",
       "    }\n",
       "</style>\n",
       "<table border=\"1\" class=\"dataframe\">\n",
       "  <thead>\n",
       "    <tr style=\"text-align: right;\">\n",
       "      <th></th>\n",
       "      <th>last_price</th>\n",
       "      <th>total_area</th>\n",
       "      <th>living_area</th>\n",
       "      <th>kitchen_area</th>\n",
       "      <th>rooms</th>\n",
       "      <th>ceiling_height</th>\n",
       "      <th>days_exposition</th>\n",
       "      <th>floor</th>\n",
       "      <th>floors_total</th>\n",
       "      <th>balcony</th>\n",
       "    </tr>\n",
       "  </thead>\n",
       "  <tbody>\n",
       "    <tr>\n",
       "      <td>median</td>\n",
       "      <td>9.350000e+06</td>\n",
       "      <td>83.000000</td>\n",
       "      <td>50.00000</td>\n",
       "      <td>11.50000</td>\n",
       "      <td>3.000000</td>\n",
       "      <td>3.000000</td>\n",
       "      <td>106.000000</td>\n",
       "      <td>3.000000</td>\n",
       "      <td>5.0000</td>\n",
       "      <td>0.000000</td>\n",
       "    </tr>\n",
       "    <tr>\n",
       "      <td>mean</td>\n",
       "      <td>1.657942e+07</td>\n",
       "      <td>93.393783</td>\n",
       "      <td>58.50975</td>\n",
       "      <td>14.65336</td>\n",
       "      <td>2.938534</td>\n",
       "      <td>3.064899</td>\n",
       "      <td>153.891253</td>\n",
       "      <td>3.033097</td>\n",
       "      <td>4.8487</td>\n",
       "      <td>0.111111</td>\n",
       "    </tr>\n",
       "  </tbody>\n",
       "</table>\n",
       "</div>"
      ],
      "text/plain": [
       "          last_price  total_area  living_area  kitchen_area     rooms  \\\n",
       "median  9.350000e+06   83.000000     50.00000      11.50000  3.000000   \n",
       "mean    1.657942e+07   93.393783     58.50975      14.65336  2.938534   \n",
       "\n",
       "        ceiling_height  days_exposition     floor  floors_total   balcony  \n",
       "median        3.000000       106.000000  3.000000        5.0000  0.000000  \n",
       "mean          3.064899       153.891253  3.033097        4.8487  0.111111  "
      ]
     },
     "execution_count": 50,
     "metadata": {},
     "output_type": "execute_result"
    }
   ],
   "source": [
    "useful_cols = ['last_price', 'total_area', 'living_area', 'kitchen_area',  'rooms', 'ceiling_height', 'days_exposition', 'floor','floors_total', 'balcony']\n",
    "#Создали таблицу со средними и медианными значениями для центра СПб по наиболее важным параметрам\n",
    "df_centre[useful_cols].agg(['median', 'mean'])"
   ]
  },
  {
   "cell_type": "code",
   "execution_count": 51,
   "metadata": {},
   "outputs": [
    {
     "data": {
      "text/html": [
       "<div>\n",
       "<style scoped>\n",
       "    .dataframe tbody tr th:only-of-type {\n",
       "        vertical-align: middle;\n",
       "    }\n",
       "\n",
       "    .dataframe tbody tr th {\n",
       "        vertical-align: top;\n",
       "    }\n",
       "\n",
       "    .dataframe thead th {\n",
       "        text-align: right;\n",
       "    }\n",
       "</style>\n",
       "<table border=\"1\" class=\"dataframe\">\n",
       "  <thead>\n",
       "    <tr style=\"text-align: right;\">\n",
       "      <th></th>\n",
       "      <th>last_price</th>\n",
       "      <th>total_area</th>\n",
       "      <th>living_area</th>\n",
       "      <th>kitchen_area</th>\n",
       "      <th>rooms</th>\n",
       "      <th>ceiling_height</th>\n",
       "      <th>days_exposition</th>\n",
       "      <th>floor</th>\n",
       "      <th>floors_total</th>\n",
       "      <th>balcony</th>\n",
       "    </tr>\n",
       "  </thead>\n",
       "  <tbody>\n",
       "    <tr>\n",
       "      <td>median</td>\n",
       "      <td>5.200000e+06</td>\n",
       "      <td>52.00000</td>\n",
       "      <td>30.30000</td>\n",
       "      <td>9.500000</td>\n",
       "      <td>2.000000</td>\n",
       "      <td>2.771499</td>\n",
       "      <td>84.000000</td>\n",
       "      <td>5.000000</td>\n",
       "      <td>9.000000</td>\n",
       "      <td>0.000000</td>\n",
       "    </tr>\n",
       "    <tr>\n",
       "      <td>mean</td>\n",
       "      <td>7.148810e+06</td>\n",
       "      <td>60.44836</td>\n",
       "      <td>34.34921</td>\n",
       "      <td>10.685632</td>\n",
       "      <td>2.061363</td>\n",
       "      <td>2.751216</td>\n",
       "      <td>125.688576</td>\n",
       "      <td>6.340044</td>\n",
       "      <td>11.639745</td>\n",
       "      <td>0.596087</td>\n",
       "    </tr>\n",
       "  </tbody>\n",
       "</table>\n",
       "</div>"
      ],
      "text/plain": [
       "          last_price  total_area  living_area  kitchen_area     rooms  \\\n",
       "median  5.200000e+06    52.00000     30.30000      9.500000  2.000000   \n",
       "mean    7.148810e+06    60.44836     34.34921     10.685632  2.061363   \n",
       "\n",
       "        ceiling_height  days_exposition     floor  floors_total   balcony  \n",
       "median        2.771499        84.000000  5.000000      9.000000  0.000000  \n",
       "mean          2.751216       125.688576  6.340044     11.639745  0.596087  "
      ]
     },
     "execution_count": 51,
     "metadata": {},
     "output_type": "execute_result"
    }
   ],
   "source": [
    "#Создали таблицу со средними и медианными значениями для всего СПб по наиболее важным параметрам с цлеью сравнения с центром\n",
    "df[df['locality_name']=='Санкт-Петербург'][useful_cols].agg(['median', 'mean'])"
   ]
  },
  {
   "cell_type": "markdown",
   "metadata": {},
   "source": [
    "**Выводы по анализу квартир в центре Питера и сравнение с квартирами за весь СПб**"
   ]
  },
  {
   "cell_type": "markdown",
   "metadata": {},
   "source": [
    "Существенно выше цена квартир в центре: в центре в среднем - 16.6 млн. рублей, а в целом по Питеру - 7.15 млн. рублей. В центре Питера квартиры существенно больше: средняя площадь в центре 93,5, а в целом по Питеру 60 км. м. Медианная площадь 83 и 52 соответственно.  Также в центре больше кухни. Квартиры в центре — это обычно трешки, а в целом по Питеру - двушки. Также чуть выше высота потолков в центре примерно на 25 см. Дома в центре Питере существенно ниже. В центре большая редкость наличие балкона. \n",
    "Если в целом по Питеру преобладает жилье построенное в 60-80ые года, с массовой застройкой дешевым жильем, а также дома эконом-класс, построенные в 21 веке. То центр Питера застроен дореволюционными зданиями и квартиры в центре относятся к классу элитного жилья.\n",
    " "
   ]
  },
  {
   "cell_type": "markdown",
   "metadata": {},
   "source": [
    "**Сравнение корреляции наиболее важных параметров для центра Питера и всего СПб**"
   ]
  },
  {
   "cell_type": "code",
   "execution_count": 52,
   "metadata": {},
   "outputs": [
    {
     "data": {
      "text/html": [
       "<div>\n",
       "<style scoped>\n",
       "    .dataframe tbody tr th:only-of-type {\n",
       "        vertical-align: middle;\n",
       "    }\n",
       "\n",
       "    .dataframe tbody tr th {\n",
       "        vertical-align: top;\n",
       "    }\n",
       "\n",
       "    .dataframe thead th {\n",
       "        text-align: right;\n",
       "    }\n",
       "</style>\n",
       "<table border=\"1\" class=\"dataframe\">\n",
       "  <thead>\n",
       "    <tr style=\"text-align: right;\">\n",
       "      <th></th>\n",
       "      <th>spd_corr_total_spb</th>\n",
       "      <th>centre_spb_corr</th>\n",
       "      <th>comparison_%</th>\n",
       "    </tr>\n",
       "  </thead>\n",
       "  <tbody>\n",
       "    <tr>\n",
       "      <td>last_price</td>\n",
       "      <td>1.000000</td>\n",
       "      <td>1.000000</td>\n",
       "      <td>100.000000</td>\n",
       "    </tr>\n",
       "    <tr>\n",
       "      <td>price_m2</td>\n",
       "      <td>0.742751</td>\n",
       "      <td>0.872027</td>\n",
       "      <td>117.405148</td>\n",
       "    </tr>\n",
       "    <tr>\n",
       "      <td>total_area</td>\n",
       "      <td>0.664087</td>\n",
       "      <td>0.616609</td>\n",
       "      <td>92.850539</td>\n",
       "    </tr>\n",
       "    <tr>\n",
       "      <td>living_area</td>\n",
       "      <td>0.568640</td>\n",
       "      <td>0.499581</td>\n",
       "      <td>87.855436</td>\n",
       "    </tr>\n",
       "    <tr>\n",
       "      <td>kitchen_area</td>\n",
       "      <td>0.466774</td>\n",
       "      <td>0.356444</td>\n",
       "      <td>76.363296</td>\n",
       "    </tr>\n",
       "    <tr>\n",
       "      <td>balcony</td>\n",
       "      <td>0.021957</td>\n",
       "      <td>0.306990</td>\n",
       "      <td>1398.121971</td>\n",
       "    </tr>\n",
       "    <tr>\n",
       "      <td>floor</td>\n",
       "      <td>0.029433</td>\n",
       "      <td>0.275847</td>\n",
       "      <td>937.190652</td>\n",
       "    </tr>\n",
       "    <tr>\n",
       "      <td>rooms</td>\n",
       "      <td>0.355503</td>\n",
       "      <td>0.262772</td>\n",
       "      <td>73.915640</td>\n",
       "    </tr>\n",
       "    <tr>\n",
       "      <td>floors_total</td>\n",
       "      <td>0.006247</td>\n",
       "      <td>0.250209</td>\n",
       "      <td>4005.091598</td>\n",
       "    </tr>\n",
       "    <tr>\n",
       "      <td>total_images</td>\n",
       "      <td>0.104599</td>\n",
       "      <td>0.163818</td>\n",
       "      <td>156.615928</td>\n",
       "    </tr>\n",
       "  </tbody>\n",
       "</table>\n",
       "</div>"
      ],
      "text/plain": [
       "              spd_corr_total_spb  centre_spb_corr  comparison_%\n",
       "last_price              1.000000         1.000000    100.000000\n",
       "price_m2                0.742751         0.872027    117.405148\n",
       "total_area              0.664087         0.616609     92.850539\n",
       "living_area             0.568640         0.499581     87.855436\n",
       "kitchen_area            0.466774         0.356444     76.363296\n",
       "balcony                 0.021957         0.306990   1398.121971\n",
       "floor                   0.029433         0.275847    937.190652\n",
       "rooms                   0.355503         0.262772     73.915640\n",
       "floors_total            0.006247         0.250209   4005.091598\n",
       "total_images            0.104599         0.163818    156.615928"
      ]
     },
     "execution_count": 52,
     "metadata": {},
     "output_type": "execute_result"
    }
   ],
   "source": [
    "#Создали таблицы с коэффициентами корреляции\n",
    "df_spd_corr=df_centre.corr()\n",
    "df_corr=df.corr()\n",
    "\n",
    "#добавили в таблицу с коэффициентами корреляции столбец с корреляцией для цены\n",
    "df_spd_corr['spd_corr_total_spb'] = df_corr['last_price']\n",
    "\n",
    "#оставили только нужные столбцы\n",
    "df_spd_corr = df_spd_corr[['spd_corr_total_spb','last_price']]\n",
    "\n",
    "#переименовали столбец для лучего понимания \n",
    "df_spd_corr = df_spd_corr.rename(columns={'last_price':'centre_spb_corr'})\n",
    "\n",
    "df_spd_corr['comparison_%']=100*df_spd_corr['centre_spb_corr']/df_spd_corr['spd_corr_total_spb']\n",
    "df_spd_corr.query('centre_spb_corr>0.1').sort_values(by='centre_spb_corr', ascending=False)"
   ]
  },
  {
   "cell_type": "markdown",
   "metadata": {},
   "source": [
    "Для квартир в центре СПб значительно больше ценится балкон, этаж (чем выше - тем дороже), общая высота дома (чем выше - тем дороже). Также больше влияет на квартиры в центре количество фотографий в объявлении. Меньше влияет на цену общая площадь, жилая площадь, площадь кухни, число комнат. Высота этажа имеет такое важно значения исходя из того, что квартиры расположены в шумном и загазованном центре и чем выше, то тем немного меньше шума и меньше выхлопных газов. Считается, что выхлопные газы тяжелее воздуха и не поднимаются выше 5-7 этажа. Также весьма статусно выйти с бокалом Chateau Lafite и посметь на суетный город сверху вниз."
   ]
  },
  {
   "cell_type": "markdown",
   "metadata": {},
   "source": [
    "## Общий вывод"
   ]
  },
  {
   "cell_type": "markdown",
   "metadata": {},
   "source": [
    "- Основная масса объектов имеет площадь меньше 82 метров. Но на рынке недвижимости есть квартиры площадью от 12 м.  На рынке наибольшее количество 1- и 2-комнатых квартир, немного меньше 3-комнатных.  Наиболее распространенная высота потолков в квартирах около 2.77 м. Также есть достаточно много квартир с высотой потолков 2.5-2.6 м и около 3.1. \n",
    "- В среднем продажа квартиры занимает 181 день. Но медиана составляет 95 дней. Если квартира была продана меньше чем за 1.5 месяца, то можно говорить, что продажа прошла быстро. Если продана происходит больше 231 дней, то объект продается долго. Пик продажи квартир в 45 дней явно выбивается из общей статистики, это ровно 1.5 месяца и здесь, наверное, какая-то техническая или юридическая особенность в данных.\n",
    "- Наибольшая корреляция между ценой и следующими величинами: \n",
    "    - стоимость квадратного метра 0.74\n",
    "    - общей площадью - 0.66, \n",
    "    - жилой площадью 0.57, \n",
    "    - площадью кухни - 0.47, \n",
    "- Меньшее влияние оказывают следующие факторы:\n",
    "    - количеством комнат 0.36,\n",
    "    - высотой потолков 0.27 \n",
    "    - удаленностью от центра минус 0.22\n",
    "    - Также некоторое небольшое влияние оказывают: парки, количество фотографий в объявлении, пруды. \n",
    "- Стоимость квартиры не зависит от дня недели, месяца и года размещения объявления. \n",
    "- Также стоимость жилья сильно коррелирует со стоимостью квадратного метра, но тут связь обратная: стоимость жилья определяет цену за квадратный метр.\n",
    "- Квартиры на первом этаже самые дешевые. В сегменте неэлитного жилья больше нравятся квартиры \"не первый, не последний\", а вот в элитном сегменте больше ценятся квартиры на последних этажах.\n",
    "- Наибольшая стоимость квадратного метра в СПб и его пригородах. Названия \"деревня\" или \"поселок\" обманчивы, зачастую везде есть метро или в ближайшее время появится. От Колпино ходит электричка до Московского вокзала, но стоимость достаточно низаная из-за большого количества устаревшего жилья. Мурино имеет метро, но данный район превращается в район для проживания людей, снимающих дешевое жилье. Значительное влияние оказывает большое количество парков, в частности для Пушкина. У Кудрово хорошая транспортная доступность и большое количество новостроек. Парголова имеет также хорошую транспортную доступность и расположен на Севере, где традиционно более высокая стоимость жилья. Шушары имеет станцию метро, но район традиционно развивался как эконом-класс жилья. Гатчина достаточно далеко от СПб, но еще позволяет работать в Питер, но значительное число устаревшего жилья снижает среднюю стоимость жилья. Выборг уже значительно удален от СПб, что затрудняет возможность работы в СПб.\n",
    "- На основе анализа стоимости квадратного метра и стоимости жилья можно сделать вывод, что скорее всего центр Питера это около 3 км в радиусе. Именно в этой точке график резко изгибается. Более явно центр \"виден\" на графике со стоимостью жилья.\n",
    "- Существенно выше цена квартир в центре: в центре в среднем - 16.6 млн. рублей, а в целом по Питеру - 7.15 млн. рублей. В центре Питера квартиры существенно больше: средняя площадь в центре 93,5, а в целом по Питеру 60 км. м. Медианная площадь 83 и 52 соответственно.  Также в центре больше кухни. Квартиры в центре — это обычно трешки, а в целом по Питеру - двушки. Также чуть выше высота потолков в центре примерно на 25 см. Дома в центре Питере существенно ниже. В центре большая редкость наличие балкона. \n",
    "- Для квартир в центре СПб значительно больше ценится балкон, этаж (чем выше - тем дороже), общая высота дома (чем выше - тем дороже). Также больше влияет на квартиры в центре количество фотографий в объявлении. Меньше влияет на цену общая площадь, жилая площадь, площадь кухни, число комнат. \n"
   ]
  }
 ],
 "metadata": {
  "ExecuteTimeLog": [
   {
    "duration": 668,
    "start_time": "2021-11-02T21:30:15.896Z"
   },
   {
    "duration": 16,
    "start_time": "2021-11-02T21:30:26.541Z"
   },
   {
    "duration": 116,
    "start_time": "2021-11-02T21:30:50.782Z"
   },
   {
    "duration": 58,
    "start_time": "2021-11-02T21:30:56.142Z"
   },
   {
    "duration": 9,
    "start_time": "2021-11-02T21:30:58.173Z"
   },
   {
    "duration": 59,
    "start_time": "2021-11-02T21:31:24.761Z"
   },
   {
    "duration": 9,
    "start_time": "2021-11-02T21:31:26.682Z"
   },
   {
    "duration": 80,
    "start_time": "2021-11-02T21:31:33.214Z"
   },
   {
    "duration": 11,
    "start_time": "2021-11-02T21:31:35.138Z"
   },
   {
    "duration": 113,
    "start_time": "2021-11-02T21:32:05.241Z"
   },
   {
    "duration": 59,
    "start_time": "2021-11-02T21:32:46.297Z"
   },
   {
    "duration": 9,
    "start_time": "2021-11-02T21:32:49.463Z"
   },
   {
    "duration": 69,
    "start_time": "2021-11-02T21:33:11.662Z"
   },
   {
    "duration": 43,
    "start_time": "2021-11-02T21:33:13.493Z"
   },
   {
    "duration": 11,
    "start_time": "2021-11-02T21:33:43.413Z"
   },
   {
    "duration": 11,
    "start_time": "2021-11-02T21:35:21.572Z"
   },
   {
    "duration": 12,
    "start_time": "2021-11-02T21:35:26.333Z"
   },
   {
    "duration": 27,
    "start_time": "2021-11-02T21:36:32.075Z"
   },
   {
    "duration": 9,
    "start_time": "2021-11-02T21:36:53.424Z"
   },
   {
    "duration": 448,
    "start_time": "2021-11-02T21:37:21.614Z"
   },
   {
    "duration": 358,
    "start_time": "2021-11-02T21:37:25.713Z"
   },
   {
    "duration": 6,
    "start_time": "2021-11-02T21:37:34.683Z"
   },
   {
    "duration": 7,
    "start_time": "2021-11-02T21:38:22.015Z"
   },
   {
    "duration": 392,
    "start_time": "2021-11-02T21:39:44.205Z"
   },
   {
    "duration": 11,
    "start_time": "2021-11-02T21:39:51.144Z"
   },
   {
    "duration": 8,
    "start_time": "2021-11-02T21:40:17.735Z"
   },
   {
    "duration": 9,
    "start_time": "2021-11-02T21:40:51.995Z"
   },
   {
    "duration": 6,
    "start_time": "2021-11-02T21:41:05.255Z"
   },
   {
    "duration": 5,
    "start_time": "2021-11-02T21:41:20.855Z"
   },
   {
    "duration": 247,
    "start_time": "2021-11-02T21:41:27.115Z"
   },
   {
    "duration": 9,
    "start_time": "2021-11-02T21:41:50.689Z"
   },
   {
    "duration": 316,
    "start_time": "2021-11-02T21:43:20.885Z"
   },
   {
    "duration": 369,
    "start_time": "2021-11-02T21:43:56.716Z"
   },
   {
    "duration": 321,
    "start_time": "2021-11-02T21:44:10.205Z"
   },
   {
    "duration": 181,
    "start_time": "2021-11-02T21:44:25.206Z"
   },
   {
    "duration": 200,
    "start_time": "2021-11-02T21:44:32.926Z"
   },
   {
    "duration": 176,
    "start_time": "2021-11-02T21:44:50.669Z"
   },
   {
    "duration": 208,
    "start_time": "2021-11-02T21:44:56.856Z"
   },
   {
    "duration": 184,
    "start_time": "2021-11-02T21:45:01.732Z"
   },
   {
    "duration": 6,
    "start_time": "2021-11-02T21:45:42.918Z"
   },
   {
    "duration": 7,
    "start_time": "2021-11-02T21:46:01.487Z"
   },
   {
    "duration": 6,
    "start_time": "2021-11-02T21:46:13.225Z"
   },
   {
    "duration": 7,
    "start_time": "2021-11-02T21:46:33.426Z"
   },
   {
    "duration": 8,
    "start_time": "2021-11-02T21:47:06.977Z"
   },
   {
    "duration": 6,
    "start_time": "2021-11-02T21:47:39.436Z"
   },
   {
    "duration": 7,
    "start_time": "2021-11-02T21:48:28.929Z"
   },
   {
    "duration": 401,
    "start_time": "2021-11-02T21:48:55.688Z"
   },
   {
    "duration": 168,
    "start_time": "2021-11-02T21:49:11.458Z"
   },
   {
    "duration": 196,
    "start_time": "2021-11-02T21:49:31.564Z"
   },
   {
    "duration": 269,
    "start_time": "2021-11-02T21:49:43.688Z"
   },
   {
    "duration": 201,
    "start_time": "2021-11-02T21:50:11.538Z"
   },
   {
    "duration": 187,
    "start_time": "2021-11-02T21:51:48.009Z"
   },
   {
    "duration": 193,
    "start_time": "2021-11-02T21:52:00.310Z"
   },
   {
    "duration": 219,
    "start_time": "2021-11-02T21:52:09.769Z"
   },
   {
    "duration": 26,
    "start_time": "2021-11-02T21:54:39.821Z"
   },
   {
    "duration": 14,
    "start_time": "2021-11-02T21:54:57.761Z"
   },
   {
    "duration": 13,
    "start_time": "2021-11-02T21:55:03.140Z"
   },
   {
    "duration": 11,
    "start_time": "2021-11-02T21:55:07.310Z"
   },
   {
    "duration": 13,
    "start_time": "2021-11-02T21:55:15.109Z"
   },
   {
    "duration": 13,
    "start_time": "2021-11-02T21:55:22.779Z"
   },
   {
    "duration": 12,
    "start_time": "2021-11-02T21:55:39.961Z"
   },
   {
    "duration": 39,
    "start_time": "2021-11-02T21:56:13.030Z"
   },
   {
    "duration": 24,
    "start_time": "2021-11-02T21:58:56.232Z"
   },
   {
    "duration": 27,
    "start_time": "2021-11-02T21:59:13.827Z"
   },
   {
    "duration": 22,
    "start_time": "2021-11-02T22:02:24.532Z"
   },
   {
    "duration": 35,
    "start_time": "2021-11-02T22:02:45.995Z"
   },
   {
    "duration": 36,
    "start_time": "2021-11-02T22:02:57.483Z"
   },
   {
    "duration": 304,
    "start_time": "2021-11-03T07:50:55.291Z"
   },
   {
    "duration": 602,
    "start_time": "2021-11-03T07:51:03.298Z"
   },
   {
    "duration": 42,
    "start_time": "2021-11-03T07:51:03.901Z"
   },
   {
    "duration": 9,
    "start_time": "2021-11-03T07:51:03.945Z"
   },
   {
    "duration": 42,
    "start_time": "2021-11-03T07:51:03.956Z"
   },
   {
    "duration": 8,
    "start_time": "2021-11-03T07:51:03.999Z"
   },
   {
    "duration": 13,
    "start_time": "2021-11-03T07:51:04.008Z"
   },
   {
    "duration": 34,
    "start_time": "2021-11-03T07:51:04.022Z"
   },
   {
    "duration": 51,
    "start_time": "2021-11-03T07:51:04.058Z"
   },
   {
    "duration": 33,
    "start_time": "2021-11-03T07:51:04.110Z"
   },
   {
    "duration": 265,
    "start_time": "2021-11-03T07:51:04.144Z"
   },
   {
    "duration": 5,
    "start_time": "2021-11-03T07:51:04.411Z"
   },
   {
    "duration": 219,
    "start_time": "2021-11-03T07:51:04.418Z"
   },
   {
    "duration": 236,
    "start_time": "2021-11-03T07:51:04.638Z"
   },
   {
    "duration": 17,
    "start_time": "2021-11-03T07:51:04.876Z"
   },
   {
    "duration": 40,
    "start_time": "2021-11-03T07:55:44.107Z"
   },
   {
    "duration": 5,
    "start_time": "2021-11-03T08:01:16.856Z"
   },
   {
    "duration": 10,
    "start_time": "2021-11-03T08:01:54.487Z"
   },
   {
    "duration": 10,
    "start_time": "2021-11-03T08:02:09.217Z"
   },
   {
    "duration": 10,
    "start_time": "2021-11-03T08:02:33.458Z"
   },
   {
    "duration": 10,
    "start_time": "2021-11-03T08:04:32.459Z"
   },
   {
    "duration": 12,
    "start_time": "2021-11-03T08:04:48.337Z"
   },
   {
    "duration": 8,
    "start_time": "2021-11-03T08:05:33.501Z"
   },
   {
    "duration": 8,
    "start_time": "2021-11-03T08:05:40.729Z"
   },
   {
    "duration": 68,
    "start_time": "2021-11-03T08:06:27.877Z"
   },
   {
    "duration": 92,
    "start_time": "2021-11-03T08:06:27.947Z"
   },
   {
    "duration": 13,
    "start_time": "2021-11-03T08:06:28.041Z"
   },
   {
    "duration": 52,
    "start_time": "2021-11-03T08:06:28.056Z"
   },
   {
    "duration": 10,
    "start_time": "2021-11-03T08:06:28.111Z"
   },
   {
    "duration": 23,
    "start_time": "2021-11-03T08:06:28.122Z"
   },
   {
    "duration": 52,
    "start_time": "2021-11-03T08:06:28.147Z"
   },
   {
    "duration": 40,
    "start_time": "2021-11-03T08:06:28.201Z"
   },
   {
    "duration": 221,
    "start_time": "2021-11-03T08:06:28.243Z"
   },
   {
    "duration": 42,
    "start_time": "2021-11-03T08:06:28.465Z"
   },
   {
    "duration": 9,
    "start_time": "2021-11-03T08:06:28.508Z"
   },
   {
    "duration": 278,
    "start_time": "2021-11-03T08:08:29.510Z"
   },
   {
    "duration": 63,
    "start_time": "2021-11-03T08:09:25.175Z"
   },
   {
    "duration": 52,
    "start_time": "2021-11-03T08:09:25.240Z"
   },
   {
    "duration": 10,
    "start_time": "2021-11-03T08:09:25.294Z"
   },
   {
    "duration": 24,
    "start_time": "2021-11-03T08:09:25.306Z"
   },
   {
    "duration": 8,
    "start_time": "2021-11-03T08:09:25.332Z"
   },
   {
    "duration": 11,
    "start_time": "2021-11-03T08:09:25.342Z"
   },
   {
    "duration": 71,
    "start_time": "2021-11-03T08:09:25.355Z"
   },
   {
    "duration": 27,
    "start_time": "2021-11-03T08:09:25.428Z"
   },
   {
    "duration": 218,
    "start_time": "2021-11-03T08:09:25.457Z"
   },
   {
    "duration": 42,
    "start_time": "2021-11-03T08:09:25.677Z"
   },
   {
    "duration": 202,
    "start_time": "2021-11-03T08:09:25.720Z"
   },
   {
    "duration": 9,
    "start_time": "2021-11-03T08:09:25.924Z"
   },
   {
    "duration": 313,
    "start_time": "2021-11-03T08:09:40.750Z"
   },
   {
    "duration": 69,
    "start_time": "2021-11-03T08:09:47.307Z"
   },
   {
    "duration": 58,
    "start_time": "2021-11-03T08:09:47.378Z"
   },
   {
    "duration": 10,
    "start_time": "2021-11-03T08:09:47.438Z"
   },
   {
    "duration": 27,
    "start_time": "2021-11-03T08:09:47.450Z"
   },
   {
    "duration": 16,
    "start_time": "2021-11-03T08:09:47.478Z"
   },
   {
    "duration": 13,
    "start_time": "2021-11-03T08:09:47.495Z"
   },
   {
    "duration": 36,
    "start_time": "2021-11-03T08:09:47.509Z"
   },
   {
    "duration": 49,
    "start_time": "2021-11-03T08:09:47.547Z"
   },
   {
    "duration": 206,
    "start_time": "2021-11-03T08:09:47.598Z"
   },
   {
    "duration": 33,
    "start_time": "2021-11-03T08:09:47.806Z"
   },
   {
    "duration": 233,
    "start_time": "2021-11-03T08:09:47.840Z"
   },
   {
    "duration": 16,
    "start_time": "2021-11-03T08:09:48.075Z"
   },
   {
    "duration": 221,
    "start_time": "2021-11-03T08:10:30.291Z"
   },
   {
    "duration": 209,
    "start_time": "2021-11-03T08:11:13.720Z"
   },
   {
    "duration": 215,
    "start_time": "2021-11-03T08:11:41.821Z"
   },
   {
    "duration": 229,
    "start_time": "2021-11-03T08:11:54.991Z"
   },
   {
    "duration": 9,
    "start_time": "2021-11-03T08:12:40.231Z"
   },
   {
    "duration": 12,
    "start_time": "2021-11-03T08:14:54.413Z"
   },
   {
    "duration": 19,
    "start_time": "2021-11-03T08:14:57.388Z"
   },
   {
    "duration": 4,
    "start_time": "2021-11-03T08:30:55.788Z"
   },
   {
    "duration": 5,
    "start_time": "2021-11-03T08:32:13.539Z"
   },
   {
    "duration": 172,
    "start_time": "2021-11-03T08:35:12.990Z"
   },
   {
    "duration": 199,
    "start_time": "2021-11-03T08:35:53.671Z"
   },
   {
    "duration": 63,
    "start_time": "2021-11-03T08:57:35.279Z"
   },
   {
    "duration": 295,
    "start_time": "2021-11-03T08:57:41.068Z"
   },
   {
    "duration": 275,
    "start_time": "2021-11-03T08:58:09.359Z"
   },
   {
    "duration": 3,
    "start_time": "2021-11-03T08:58:56.172Z"
   },
   {
    "duration": 3,
    "start_time": "2021-11-03T08:58:59.859Z"
   },
   {
    "duration": 172,
    "start_time": "2021-11-03T08:59:06.570Z"
   },
   {
    "duration": 6,
    "start_time": "2021-11-03T08:59:25.940Z"
   },
   {
    "duration": 182,
    "start_time": "2021-11-03T08:59:46.271Z"
   },
   {
    "duration": 924,
    "start_time": "2021-11-03T09:00:04.656Z"
   },
   {
    "duration": 825,
    "start_time": "2021-11-03T09:00:50.420Z"
   },
   {
    "duration": 742,
    "start_time": "2021-11-03T09:00:54.101Z"
   },
   {
    "duration": 703,
    "start_time": "2021-11-03T09:01:06.083Z"
   },
   {
    "duration": 7,
    "start_time": "2021-11-03T09:02:00.251Z"
   },
   {
    "duration": 62,
    "start_time": "2021-11-03T09:02:54.762Z"
   },
   {
    "duration": 5,
    "start_time": "2021-11-03T09:03:00.621Z"
   },
   {
    "duration": 69,
    "start_time": "2021-11-03T09:03:14.781Z"
   },
   {
    "duration": 12,
    "start_time": "2021-11-03T09:03:24.382Z"
   },
   {
    "duration": 12,
    "start_time": "2021-11-03T09:03:54.481Z"
   },
   {
    "duration": 12,
    "start_time": "2021-11-03T09:05:33.273Z"
   },
   {
    "duration": 84,
    "start_time": "2021-11-03T09:07:40.013Z"
   },
   {
    "duration": 58,
    "start_time": "2021-11-03T09:07:49.413Z"
   },
   {
    "duration": 58,
    "start_time": "2021-11-03T09:07:58.303Z"
   },
   {
    "duration": 12,
    "start_time": "2021-11-03T09:08:52.743Z"
   },
   {
    "duration": 12,
    "start_time": "2021-11-03T09:09:12.281Z"
   },
   {
    "duration": 46,
    "start_time": "2021-11-03T09:10:53.504Z"
   },
   {
    "duration": 5,
    "start_time": "2021-11-03T09:18:39.417Z"
   },
   {
    "duration": 10,
    "start_time": "2021-11-03T09:18:58.498Z"
   },
   {
    "duration": 36,
    "start_time": "2021-11-03T09:20:17.808Z"
   },
   {
    "duration": 35,
    "start_time": "2021-11-03T09:20:36.020Z"
   },
   {
    "duration": 25,
    "start_time": "2021-11-03T09:21:01.729Z"
   },
   {
    "duration": 469,
    "start_time": "2021-11-03T09:22:52.290Z"
   },
   {
    "duration": 180,
    "start_time": "2021-11-03T09:23:22.178Z"
   },
   {
    "duration": 23,
    "start_time": "2021-11-03T09:23:52.541Z"
   },
   {
    "duration": 9,
    "start_time": "2021-11-03T09:24:15.319Z"
   },
   {
    "duration": 59,
    "start_time": "2021-11-03T09:25:23.121Z"
   },
   {
    "duration": 31,
    "start_time": "2021-11-03T09:26:43.674Z"
   },
   {
    "duration": 4,
    "start_time": "2021-11-03T09:26:57.711Z"
   },
   {
    "duration": 3,
    "start_time": "2021-11-03T09:38:58.716Z"
   },
   {
    "duration": 343,
    "start_time": "2021-11-03T09:43:25.274Z"
   },
   {
    "duration": 37,
    "start_time": "2021-11-03T09:45:08.489Z"
   },
   {
    "duration": 67,
    "start_time": "2021-11-03T09:45:13.798Z"
   },
   {
    "duration": 124,
    "start_time": "2021-11-03T13:06:45.673Z"
   },
   {
    "duration": 467,
    "start_time": "2021-11-03T13:06:57.811Z"
   },
   {
    "duration": 829,
    "start_time": "2021-11-03T13:07:21.803Z"
   },
   {
    "duration": 85,
    "start_time": "2021-11-03T13:07:22.634Z"
   },
   {
    "duration": 13,
    "start_time": "2021-11-03T13:07:22.722Z"
   },
   {
    "duration": 58,
    "start_time": "2021-11-03T13:07:22.738Z"
   },
   {
    "duration": 10,
    "start_time": "2021-11-03T13:07:22.799Z"
   },
   {
    "duration": 11,
    "start_time": "2021-11-03T13:07:22.812Z"
   },
   {
    "duration": 50,
    "start_time": "2021-11-03T13:07:22.825Z"
   },
   {
    "duration": 54,
    "start_time": "2021-11-03T13:07:22.877Z"
   },
   {
    "duration": 520,
    "start_time": "2021-11-03T13:07:22.963Z"
   },
   {
    "duration": 15,
    "start_time": "2021-11-03T13:07:23.486Z"
   },
   {
    "duration": 13,
    "start_time": "2021-11-03T13:07:23.503Z"
   },
   {
    "duration": 8,
    "start_time": "2021-11-03T13:07:23.518Z"
   },
   {
    "duration": 21,
    "start_time": "2021-11-03T13:07:23.560Z"
   },
   {
    "duration": 12,
    "start_time": "2021-11-03T13:07:23.584Z"
   },
   {
    "duration": 14,
    "start_time": "2021-11-03T13:07:23.598Z"
   },
   {
    "duration": 47,
    "start_time": "2021-11-03T13:07:23.615Z"
   },
   {
    "duration": 1088,
    "start_time": "2021-11-03T13:07:23.665Z"
   },
   {
    "duration": 8882,
    "start_time": "2021-11-03T13:07:15.874Z"
   },
   {
    "duration": 693,
    "start_time": "2021-11-03T13:07:58.380Z"
   },
   {
    "duration": 682,
    "start_time": "2021-11-03T13:11:21.900Z"
   },
   {
    "duration": 849,
    "start_time": "2021-11-03T13:11:29.813Z"
   },
   {
    "duration": 5,
    "start_time": "2021-11-03T13:12:09.330Z"
   },
   {
    "duration": 5,
    "start_time": "2021-11-03T13:12:16.496Z"
   },
   {
    "duration": 77,
    "start_time": "2021-11-03T13:13:01.381Z"
   },
   {
    "duration": 25,
    "start_time": "2021-11-03T13:13:42.440Z"
   },
   {
    "duration": 56,
    "start_time": "2021-11-03T13:14:36.701Z"
   },
   {
    "duration": 673,
    "start_time": "2021-11-03T13:14:55.721Z"
   },
   {
    "duration": 54,
    "start_time": "2021-11-03T13:15:57.720Z"
   },
   {
    "duration": 56,
    "start_time": "2021-11-03T13:17:04.429Z"
   },
   {
    "duration": 53,
    "start_time": "2021-11-03T13:17:22.471Z"
   },
   {
    "duration": 92,
    "start_time": "2021-11-03T13:17:46.350Z"
   },
   {
    "duration": 69,
    "start_time": "2021-11-03T13:17:46.445Z"
   },
   {
    "duration": 15,
    "start_time": "2021-11-03T13:17:46.517Z"
   },
   {
    "duration": 57,
    "start_time": "2021-11-03T13:17:46.535Z"
   },
   {
    "duration": 11,
    "start_time": "2021-11-03T13:17:46.595Z"
   },
   {
    "duration": 13,
    "start_time": "2021-11-03T13:17:46.608Z"
   },
   {
    "duration": 48,
    "start_time": "2021-11-03T13:17:46.624Z"
   },
   {
    "duration": 54,
    "start_time": "2021-11-03T13:17:46.675Z"
   },
   {
    "duration": 383,
    "start_time": "2021-11-03T13:17:46.761Z"
   },
   {
    "duration": 15,
    "start_time": "2021-11-03T13:17:47.147Z"
   },
   {
    "duration": 9,
    "start_time": "2021-11-03T13:17:47.165Z"
   },
   {
    "duration": 6,
    "start_time": "2021-11-03T13:17:47.176Z"
   },
   {
    "duration": 19,
    "start_time": "2021-11-03T13:17:47.185Z"
   },
   {
    "duration": 58,
    "start_time": "2021-11-03T13:17:47.206Z"
   },
   {
    "duration": 6,
    "start_time": "2021-11-03T13:17:47.266Z"
   },
   {
    "duration": 26,
    "start_time": "2021-11-03T13:17:47.274Z"
   },
   {
    "duration": 80,
    "start_time": "2021-11-03T13:17:47.303Z"
   },
   {
    "duration": 25,
    "start_time": "2021-11-03T13:17:53.210Z"
   },
   {
    "duration": 58,
    "start_time": "2021-11-03T13:18:04.831Z"
   },
   {
    "duration": 657,
    "start_time": "2021-11-03T13:18:13.151Z"
   },
   {
    "duration": 1090,
    "start_time": "2021-11-03T13:19:36.443Z"
   },
   {
    "duration": 6,
    "start_time": "2021-11-03T13:19:47.370Z"
   },
   {
    "duration": 6,
    "start_time": "2021-11-03T13:19:51.673Z"
   },
   {
    "duration": 6,
    "start_time": "2021-11-03T13:19:54.730Z"
   },
   {
    "duration": 6,
    "start_time": "2021-11-03T13:19:57.894Z"
   },
   {
    "duration": 6,
    "start_time": "2021-11-03T13:20:01.021Z"
   },
   {
    "duration": 8,
    "start_time": "2021-11-03T14:35:49.836Z"
   },
   {
    "duration": 789,
    "start_time": "2021-11-03T14:36:26.703Z"
   },
   {
    "duration": 694,
    "start_time": "2021-11-03T14:38:02.105Z"
   },
   {
    "duration": 64,
    "start_time": "2021-11-03T14:38:18.355Z"
   },
   {
    "duration": 81,
    "start_time": "2021-11-03T14:38:48.528Z"
   },
   {
    "duration": 78,
    "start_time": "2021-11-03T14:38:48.612Z"
   },
   {
    "duration": 14,
    "start_time": "2021-11-03T14:38:48.694Z"
   },
   {
    "duration": 58,
    "start_time": "2021-11-03T14:38:48.711Z"
   },
   {
    "duration": 12,
    "start_time": "2021-11-03T14:38:48.771Z"
   },
   {
    "duration": 16,
    "start_time": "2021-11-03T14:38:48.785Z"
   },
   {
    "duration": 29,
    "start_time": "2021-11-03T14:38:48.803Z"
   },
   {
    "duration": 72,
    "start_time": "2021-11-03T14:38:48.838Z"
   },
   {
    "duration": 391,
    "start_time": "2021-11-03T14:38:48.912Z"
   },
   {
    "duration": 13,
    "start_time": "2021-11-03T14:38:49.305Z"
   },
   {
    "duration": 9,
    "start_time": "2021-11-03T14:38:49.321Z"
   },
   {
    "duration": 32,
    "start_time": "2021-11-03T14:38:49.333Z"
   },
   {
    "duration": 17,
    "start_time": "2021-11-03T14:38:49.367Z"
   },
   {
    "duration": 13,
    "start_time": "2021-11-03T14:38:49.386Z"
   },
   {
    "duration": 7,
    "start_time": "2021-11-03T14:38:49.401Z"
   },
   {
    "duration": 51,
    "start_time": "2021-11-03T14:38:49.410Z"
   },
   {
    "duration": 9,
    "start_time": "2021-11-03T14:38:49.463Z"
   },
   {
    "duration": 56,
    "start_time": "2021-11-03T14:38:49.474Z"
   },
   {
    "duration": 30,
    "start_time": "2021-11-03T14:38:49.532Z"
   },
   {
    "duration": 103,
    "start_time": "2021-11-03T14:39:21.144Z"
   },
   {
    "duration": 81,
    "start_time": "2021-11-03T14:40:04.766Z"
   },
   {
    "duration": 62,
    "start_time": "2021-11-03T14:40:04.850Z"
   },
   {
    "duration": 14,
    "start_time": "2021-11-03T14:40:04.915Z"
   },
   {
    "duration": 59,
    "start_time": "2021-11-03T14:40:04.932Z"
   },
   {
    "duration": 12,
    "start_time": "2021-11-03T14:40:04.993Z"
   },
   {
    "duration": 11,
    "start_time": "2021-11-03T14:40:05.008Z"
   },
   {
    "duration": 41,
    "start_time": "2021-11-03T14:40:05.022Z"
   },
   {
    "duration": 53,
    "start_time": "2021-11-03T14:40:05.065Z"
   },
   {
    "duration": 420,
    "start_time": "2021-11-03T14:40:05.121Z"
   },
   {
    "duration": 20,
    "start_time": "2021-11-03T14:40:05.543Z"
   },
   {
    "duration": 11,
    "start_time": "2021-11-03T14:40:05.566Z"
   },
   {
    "duration": 9,
    "start_time": "2021-11-03T14:40:05.580Z"
   },
   {
    "duration": 19,
    "start_time": "2021-11-03T14:40:05.591Z"
   },
   {
    "duration": 60,
    "start_time": "2021-11-03T14:40:05.613Z"
   },
   {
    "duration": 9,
    "start_time": "2021-11-03T14:40:05.676Z"
   },
   {
    "duration": 14,
    "start_time": "2021-11-03T14:40:05.688Z"
   },
   {
    "duration": 59,
    "start_time": "2021-11-03T14:40:05.704Z"
   },
   {
    "duration": 102,
    "start_time": "2021-11-03T14:40:05.765Z"
   },
   {
    "duration": 5,
    "start_time": "2021-11-03T14:40:05.869Z"
   },
   {
    "duration": 95,
    "start_time": "2021-11-03T14:40:15.285Z"
   },
   {
    "duration": 4,
    "start_time": "2021-11-03T15:52:59.978Z"
   },
   {
    "duration": 96,
    "start_time": "2021-11-03T15:53:17.710Z"
   },
   {
    "duration": 8,
    "start_time": "2021-11-03T15:55:10.320Z"
   },
   {
    "duration": 8,
    "start_time": "2021-11-03T15:55:18.000Z"
   },
   {
    "duration": 90,
    "start_time": "2021-11-03T15:56:08.819Z"
   },
   {
    "duration": 80,
    "start_time": "2021-11-03T15:56:08.912Z"
   },
   {
    "duration": 16,
    "start_time": "2021-11-03T15:56:08.996Z"
   },
   {
    "duration": 61,
    "start_time": "2021-11-03T15:56:09.015Z"
   },
   {
    "duration": 12,
    "start_time": "2021-11-03T15:56:09.078Z"
   },
   {
    "duration": 13,
    "start_time": "2021-11-03T15:56:09.093Z"
   },
   {
    "duration": 53,
    "start_time": "2021-11-03T15:56:09.109Z"
   },
   {
    "duration": 104,
    "start_time": "2021-11-03T15:56:09.165Z"
   },
   {
    "duration": 469,
    "start_time": "2021-11-03T15:56:09.273Z"
   },
   {
    "duration": 20,
    "start_time": "2021-11-03T15:56:09.745Z"
   },
   {
    "duration": 10,
    "start_time": "2021-11-03T15:56:09.768Z"
   },
   {
    "duration": 14,
    "start_time": "2021-11-03T15:56:09.780Z"
   },
   {
    "duration": 18,
    "start_time": "2021-11-03T15:56:09.797Z"
   },
   {
    "duration": 49,
    "start_time": "2021-11-03T15:56:09.818Z"
   },
   {
    "duration": 12,
    "start_time": "2021-11-03T15:56:09.870Z"
   },
   {
    "duration": 15,
    "start_time": "2021-11-03T15:56:09.887Z"
   },
   {
    "duration": 8,
    "start_time": "2021-11-03T15:56:09.904Z"
   },
   {
    "duration": 168,
    "start_time": "2021-11-03T15:56:09.915Z"
   },
   {
    "duration": 7,
    "start_time": "2021-11-03T15:56:10.086Z"
   },
   {
    "duration": 3087,
    "start_time": "2021-11-03T15:56:41.138Z"
   },
   {
    "duration": 61,
    "start_time": "2021-11-03T15:59:08.481Z"
   },
   {
    "duration": 11,
    "start_time": "2021-11-03T16:00:14.678Z"
   },
   {
    "duration": 14,
    "start_time": "2021-11-03T16:00:31.067Z"
   },
   {
    "duration": 65,
    "start_time": "2021-11-03T16:01:35.748Z"
   },
   {
    "duration": 24,
    "start_time": "2021-11-03T16:02:05.708Z"
   },
   {
    "duration": 19,
    "start_time": "2021-11-03T16:02:28.401Z"
   },
   {
    "duration": 9799,
    "start_time": "2021-11-03T16:03:57.587Z"
   },
   {
    "duration": 9470,
    "start_time": "2021-11-03T16:04:41.905Z"
   },
   {
    "duration": 396,
    "start_time": "2021-11-03T16:05:13.308Z"
   },
   {
    "duration": 7202,
    "start_time": "2021-11-03T16:05:22.617Z"
   },
   {
    "duration": 584,
    "start_time": "2021-11-03T16:06:06.578Z"
   },
   {
    "duration": 389,
    "start_time": "2021-11-03T16:07:33.748Z"
   },
   {
    "duration": 874,
    "start_time": "2021-11-04T06:57:32.819Z"
   },
   {
    "duration": 73,
    "start_time": "2021-11-04T06:57:33.695Z"
   },
   {
    "duration": 14,
    "start_time": "2021-11-04T06:57:33.771Z"
   },
   {
    "duration": 34,
    "start_time": "2021-11-04T06:57:33.788Z"
   },
   {
    "duration": 42,
    "start_time": "2021-11-04T06:57:33.824Z"
   },
   {
    "duration": 13,
    "start_time": "2021-11-04T06:57:33.868Z"
   },
   {
    "duration": 22,
    "start_time": "2021-11-04T06:57:33.883Z"
   },
   {
    "duration": 88,
    "start_time": "2021-11-04T06:57:33.910Z"
   },
   {
    "duration": 461,
    "start_time": "2021-11-04T06:57:34.001Z"
   },
   {
    "duration": 13,
    "start_time": "2021-11-04T06:57:34.465Z"
   },
   {
    "duration": 17,
    "start_time": "2021-11-04T06:57:34.481Z"
   },
   {
    "duration": 9,
    "start_time": "2021-11-04T06:57:34.500Z"
   },
   {
    "duration": 18,
    "start_time": "2021-11-04T06:57:34.560Z"
   },
   {
    "duration": 15,
    "start_time": "2021-11-04T06:57:34.581Z"
   },
   {
    "duration": 10,
    "start_time": "2021-11-04T06:57:34.599Z"
   },
   {
    "duration": 52,
    "start_time": "2021-11-04T06:57:34.612Z"
   },
   {
    "duration": 14,
    "start_time": "2021-11-04T06:57:34.666Z"
   },
   {
    "duration": 478,
    "start_time": "2021-11-04T06:57:34.683Z"
   },
   {
    "duration": 12388,
    "start_time": "2021-11-04T06:57:22.775Z"
   },
   {
    "duration": 6,
    "start_time": "2021-11-04T07:04:46.282Z"
   },
   {
    "duration": 7,
    "start_time": "2021-11-04T07:04:57.315Z"
   },
   {
    "duration": 401,
    "start_time": "2021-11-04T07:05:30.933Z"
   },
   {
    "duration": 5,
    "start_time": "2021-11-04T07:06:38.200Z"
   },
   {
    "duration": 12,
    "start_time": "2021-11-04T07:06:49.971Z"
   },
   {
    "duration": 122,
    "start_time": "2021-11-04T07:07:20.273Z"
   },
   {
    "duration": 70,
    "start_time": "2021-11-04T07:07:20.398Z"
   },
   {
    "duration": 16,
    "start_time": "2021-11-04T07:07:20.471Z"
   },
   {
    "duration": 42,
    "start_time": "2021-11-04T07:07:20.491Z"
   },
   {
    "duration": 40,
    "start_time": "2021-11-04T07:07:20.536Z"
   },
   {
    "duration": 13,
    "start_time": "2021-11-04T07:07:20.579Z"
   },
   {
    "duration": 23,
    "start_time": "2021-11-04T07:07:20.596Z"
   },
   {
    "duration": 106,
    "start_time": "2021-11-04T07:07:20.622Z"
   },
   {
    "duration": 388,
    "start_time": "2021-11-04T07:07:20.731Z"
   },
   {
    "duration": 12,
    "start_time": "2021-11-04T07:07:21.122Z"
   },
   {
    "duration": 28,
    "start_time": "2021-11-04T07:07:21.137Z"
   },
   {
    "duration": 9,
    "start_time": "2021-11-04T07:07:21.167Z"
   },
   {
    "duration": 18,
    "start_time": "2021-11-04T07:07:21.179Z"
   },
   {
    "duration": 15,
    "start_time": "2021-11-04T07:07:21.200Z"
   },
   {
    "duration": 47,
    "start_time": "2021-11-04T07:07:21.218Z"
   },
   {
    "duration": 15,
    "start_time": "2021-11-04T07:07:21.267Z"
   },
   {
    "duration": 11,
    "start_time": "2021-11-04T07:07:21.285Z"
   },
   {
    "duration": 94,
    "start_time": "2021-11-04T07:07:21.298Z"
   },
   {
    "duration": 426,
    "start_time": "2021-11-04T07:07:21.394Z"
   },
   {
    "duration": 12389,
    "start_time": "2021-11-04T07:07:09.433Z"
   },
   {
    "duration": 5,
    "start_time": "2021-11-04T07:07:54.139Z"
   },
   {
    "duration": 58,
    "start_time": "2021-11-04T07:08:49.811Z"
   },
   {
    "duration": 59,
    "start_time": "2021-11-04T07:09:07.702Z"
   },
   {
    "duration": 58,
    "start_time": "2021-11-04T07:09:15.513Z"
   },
   {
    "duration": 54,
    "start_time": "2021-11-04T07:09:32.173Z"
   },
   {
    "duration": 60,
    "start_time": "2021-11-04T07:09:37.692Z"
   },
   {
    "duration": 48,
    "start_time": "2021-11-04T07:10:21.655Z"
   },
   {
    "duration": 48,
    "start_time": "2021-11-04T07:10:58.004Z"
   },
   {
    "duration": 50,
    "start_time": "2021-11-04T07:12:45.179Z"
   },
   {
    "duration": 47,
    "start_time": "2021-11-04T07:12:56.086Z"
   },
   {
    "duration": 7,
    "start_time": "2021-11-04T07:18:52.275Z"
   },
   {
    "duration": 89,
    "start_time": "2021-11-04T07:19:02.440Z"
   },
   {
    "duration": 73,
    "start_time": "2021-11-04T07:19:02.531Z"
   },
   {
    "duration": 14,
    "start_time": "2021-11-04T07:19:02.607Z"
   },
   {
    "duration": 58,
    "start_time": "2021-11-04T07:19:02.624Z"
   },
   {
    "duration": 11,
    "start_time": "2021-11-04T07:19:02.684Z"
   },
   {
    "duration": 13,
    "start_time": "2021-11-04T07:19:02.697Z"
   },
   {
    "duration": 47,
    "start_time": "2021-11-04T07:19:02.713Z"
   },
   {
    "duration": 55,
    "start_time": "2021-11-04T07:19:02.763Z"
   },
   {
    "duration": 394,
    "start_time": "2021-11-04T07:19:02.821Z"
   },
   {
    "duration": 12,
    "start_time": "2021-11-04T07:19:03.217Z"
   },
   {
    "duration": 29,
    "start_time": "2021-11-04T07:19:03.231Z"
   },
   {
    "duration": 7,
    "start_time": "2021-11-04T07:19:03.262Z"
   },
   {
    "duration": 9,
    "start_time": "2021-11-04T07:19:03.271Z"
   },
   {
    "duration": 18,
    "start_time": "2021-11-04T07:19:03.282Z"
   },
   {
    "duration": 14,
    "start_time": "2021-11-04T07:19:03.303Z"
   },
   {
    "duration": 8,
    "start_time": "2021-11-04T07:19:03.359Z"
   },
   {
    "duration": 11,
    "start_time": "2021-11-04T07:19:03.370Z"
   },
   {
    "duration": 43,
    "start_time": "2021-11-04T07:19:03.383Z"
   },
   {
    "duration": 11,
    "start_time": "2021-11-04T07:19:03.460Z"
   },
   {
    "duration": 12,
    "start_time": "2021-11-04T07:19:03.474Z"
   },
   {
    "duration": 382,
    "start_time": "2021-11-04T07:19:03.488Z"
   },
   {
    "duration": 12416,
    "start_time": "2021-11-04T07:18:51.458Z"
   },
   {
    "duration": 9,
    "start_time": "2021-11-04T07:19:36.147Z"
   },
   {
    "duration": 119,
    "start_time": "2021-11-04T07:19:46.255Z"
   },
   {
    "duration": 99,
    "start_time": "2021-11-04T07:19:46.378Z"
   },
   {
    "duration": 22,
    "start_time": "2021-11-04T07:19:46.481Z"
   },
   {
    "duration": 69,
    "start_time": "2021-11-04T07:19:46.506Z"
   },
   {
    "duration": 17,
    "start_time": "2021-11-04T07:19:46.578Z"
   },
   {
    "duration": 15,
    "start_time": "2021-11-04T07:19:46.599Z"
   },
   {
    "duration": 46,
    "start_time": "2021-11-04T07:19:46.617Z"
   },
   {
    "duration": 54,
    "start_time": "2021-11-04T07:19:46.665Z"
   },
   {
    "duration": 388,
    "start_time": "2021-11-04T07:19:46.725Z"
   },
   {
    "duration": 14,
    "start_time": "2021-11-04T07:19:47.116Z"
   },
   {
    "duration": 33,
    "start_time": "2021-11-04T07:19:47.133Z"
   },
   {
    "duration": 8,
    "start_time": "2021-11-04T07:19:47.169Z"
   },
   {
    "duration": 10,
    "start_time": "2021-11-04T07:19:47.180Z"
   },
   {
    "duration": 18,
    "start_time": "2021-11-04T07:19:47.192Z"
   },
   {
    "duration": 62,
    "start_time": "2021-11-04T07:19:47.212Z"
   },
   {
    "duration": 9,
    "start_time": "2021-11-04T07:19:47.277Z"
   },
   {
    "duration": 18,
    "start_time": "2021-11-04T07:19:47.289Z"
   },
   {
    "duration": 98,
    "start_time": "2021-11-04T07:19:47.310Z"
   },
   {
    "duration": 14,
    "start_time": "2021-11-04T07:19:47.411Z"
   },
   {
    "duration": 35,
    "start_time": "2021-11-04T07:19:47.428Z"
   },
   {
    "duration": 450,
    "start_time": "2021-11-04T07:19:47.467Z"
   },
   {
    "duration": 12238,
    "start_time": "2021-11-04T07:19:35.681Z"
   },
   {
    "duration": 6,
    "start_time": "2021-11-04T07:20:43.796Z"
   },
   {
    "duration": 8,
    "start_time": "2021-11-04T07:34:34.638Z"
   },
   {
    "duration": 91,
    "start_time": "2021-11-04T07:34:50.229Z"
   },
   {
    "duration": 72,
    "start_time": "2021-11-04T07:34:50.323Z"
   },
   {
    "duration": 15,
    "start_time": "2021-11-04T07:34:50.398Z"
   },
   {
    "duration": 55,
    "start_time": "2021-11-04T07:34:50.416Z"
   },
   {
    "duration": 12,
    "start_time": "2021-11-04T07:34:50.474Z"
   },
   {
    "duration": 14,
    "start_time": "2021-11-04T07:34:50.488Z"
   },
   {
    "duration": 17,
    "start_time": "2021-11-04T07:34:50.505Z"
   },
   {
    "duration": 72,
    "start_time": "2021-11-04T07:34:50.560Z"
   },
   {
    "duration": 398,
    "start_time": "2021-11-04T07:34:50.634Z"
   },
   {
    "duration": 25,
    "start_time": "2021-11-04T07:34:51.035Z"
   },
   {
    "duration": 11,
    "start_time": "2021-11-04T07:34:51.062Z"
   },
   {
    "duration": 8,
    "start_time": "2021-11-04T07:34:51.076Z"
   },
   {
    "duration": 25,
    "start_time": "2021-11-04T07:34:51.086Z"
   },
   {
    "duration": 51,
    "start_time": "2021-11-04T07:34:51.114Z"
   },
   {
    "duration": 14,
    "start_time": "2021-11-04T07:34:51.168Z"
   },
   {
    "duration": 6,
    "start_time": "2021-11-04T07:34:51.184Z"
   },
   {
    "duration": 23,
    "start_time": "2021-11-04T07:34:51.192Z"
   },
   {
    "duration": 45,
    "start_time": "2021-11-04T07:34:51.218Z"
   },
   {
    "duration": 394,
    "start_time": "2021-11-04T07:34:51.265Z"
   },
   {
    "duration": 12488,
    "start_time": "2021-11-04T07:34:39.174Z"
   },
   {
    "duration": 86,
    "start_time": "2021-11-04T07:35:24.004Z"
   },
   {
    "duration": 66,
    "start_time": "2021-11-04T07:35:24.093Z"
   },
   {
    "duration": 15,
    "start_time": "2021-11-04T07:35:24.162Z"
   },
   {
    "duration": 35,
    "start_time": "2021-11-04T07:35:24.181Z"
   },
   {
    "duration": 45,
    "start_time": "2021-11-04T07:35:24.219Z"
   },
   {
    "duration": 12,
    "start_time": "2021-11-04T07:35:24.267Z"
   },
   {
    "duration": 18,
    "start_time": "2021-11-04T07:35:24.282Z"
   },
   {
    "duration": 87,
    "start_time": "2021-11-04T07:35:24.302Z"
   },
   {
    "duration": 387,
    "start_time": "2021-11-04T07:35:24.392Z"
   },
   {
    "duration": 13,
    "start_time": "2021-11-04T07:35:24.781Z"
   },
   {
    "duration": 11,
    "start_time": "2021-11-04T07:35:24.796Z"
   },
   {
    "duration": 8,
    "start_time": "2021-11-04T07:35:24.809Z"
   },
   {
    "duration": 63,
    "start_time": "2021-11-04T07:35:24.819Z"
   },
   {
    "duration": 15,
    "start_time": "2021-11-04T07:35:24.885Z"
   },
   {
    "duration": 16,
    "start_time": "2021-11-04T07:35:24.903Z"
   },
   {
    "duration": 39,
    "start_time": "2021-11-04T07:35:24.922Z"
   },
   {
    "duration": 15,
    "start_time": "2021-11-04T07:35:24.964Z"
   },
   {
    "duration": 19,
    "start_time": "2021-11-04T07:35:24.982Z"
   },
   {
    "duration": 587,
    "start_time": "2021-11-04T07:35:25.004Z"
   },
   {
    "duration": 12462,
    "start_time": "2021-11-04T07:35:13.132Z"
   },
   {
    "duration": 92,
    "start_time": "2021-11-04T07:36:39.554Z"
   },
   {
    "duration": 71,
    "start_time": "2021-11-04T07:36:39.649Z"
   },
   {
    "duration": 37,
    "start_time": "2021-11-04T07:36:39.724Z"
   },
   {
    "duration": 37,
    "start_time": "2021-11-04T07:36:39.764Z"
   },
   {
    "duration": 14,
    "start_time": "2021-11-04T07:36:39.804Z"
   },
   {
    "duration": 48,
    "start_time": "2021-11-04T07:36:39.821Z"
   },
   {
    "duration": 18,
    "start_time": "2021-11-04T07:36:39.872Z"
   },
   {
    "duration": 92,
    "start_time": "2021-11-04T07:36:39.895Z"
   },
   {
    "duration": 488,
    "start_time": "2021-11-04T07:36:39.991Z"
   },
   {
    "duration": 13,
    "start_time": "2021-11-04T07:36:40.482Z"
   },
   {
    "duration": 13,
    "start_time": "2021-11-04T07:36:40.497Z"
   },
   {
    "duration": 8,
    "start_time": "2021-11-04T07:36:40.513Z"
   },
   {
    "duration": 19,
    "start_time": "2021-11-04T07:36:40.561Z"
   },
   {
    "duration": 15,
    "start_time": "2021-11-04T07:36:40.583Z"
   },
   {
    "duration": 62,
    "start_time": "2021-11-04T07:36:40.601Z"
   },
   {
    "duration": 416,
    "start_time": "2021-11-04T07:36:40.666Z"
   },
   {
    "duration": 12468,
    "start_time": "2021-11-04T07:36:28.618Z"
   },
   {
    "duration": 860,
    "start_time": "2021-11-04T07:37:14.241Z"
   },
   {
    "duration": 78,
    "start_time": "2021-11-04T07:37:15.104Z"
   },
   {
    "duration": 16,
    "start_time": "2021-11-04T07:37:15.185Z"
   },
   {
    "duration": 61,
    "start_time": "2021-11-04T07:37:15.204Z"
   },
   {
    "duration": 12,
    "start_time": "2021-11-04T07:37:15.268Z"
   },
   {
    "duration": 12,
    "start_time": "2021-11-04T07:37:15.282Z"
   },
   {
    "duration": 21,
    "start_time": "2021-11-04T07:37:15.296Z"
   },
   {
    "duration": 82,
    "start_time": "2021-11-04T07:37:15.320Z"
   },
   {
    "duration": 443,
    "start_time": "2021-11-04T07:37:15.405Z"
   },
   {
    "duration": 16,
    "start_time": "2021-11-04T07:37:15.851Z"
   },
   {
    "duration": 14,
    "start_time": "2021-11-04T07:37:15.869Z"
   },
   {
    "duration": 7,
    "start_time": "2021-11-04T07:37:15.886Z"
   },
   {
    "duration": 17,
    "start_time": "2021-11-04T07:37:15.895Z"
   },
   {
    "duration": 56,
    "start_time": "2021-11-04T07:37:15.914Z"
   },
   {
    "duration": 26,
    "start_time": "2021-11-04T07:37:15.972Z"
   },
   {
    "duration": 525,
    "start_time": "2021-11-04T07:37:16.001Z"
   },
   {
    "duration": 12470,
    "start_time": "2021-11-04T07:37:04.058Z"
   },
   {
    "duration": 285,
    "start_time": "2021-11-04T07:38:09.183Z"
   },
   {
    "duration": 309,
    "start_time": "2021-11-04T07:38:37.362Z"
   },
   {
    "duration": 373,
    "start_time": "2021-11-04T07:38:52.380Z"
   },
   {
    "duration": 333,
    "start_time": "2021-11-04T07:39:31.680Z"
   },
   {
    "duration": 448,
    "start_time": "2021-11-04T07:39:41.385Z"
   },
   {
    "duration": 554,
    "start_time": "2021-11-04T07:39:47.991Z"
   },
   {
    "duration": 2451,
    "start_time": "2021-11-04T07:39:55.436Z"
   },
   {
    "duration": 489,
    "start_time": "2021-11-04T07:40:09.148Z"
   },
   {
    "duration": 537,
    "start_time": "2021-11-04T07:40:14.710Z"
   },
   {
    "duration": 400,
    "start_time": "2021-11-04T07:40:26.485Z"
   },
   {
    "duration": 12,
    "start_time": "2021-11-04T07:41:50.589Z"
   },
   {
    "duration": 10,
    "start_time": "2021-11-04T07:42:17.139Z"
   },
   {
    "duration": 12,
    "start_time": "2021-11-04T07:42:47.003Z"
   },
   {
    "duration": 122,
    "start_time": "2021-11-04T07:42:59.692Z"
   },
   {
    "duration": 10,
    "start_time": "2021-11-04T07:43:04.664Z"
   },
   {
    "duration": 1713,
    "start_time": "2021-11-04T07:45:01.383Z"
   },
   {
    "duration": 1492,
    "start_time": "2021-11-04T07:47:51.875Z"
   },
   {
    "duration": 129,
    "start_time": "2021-11-04T07:48:18.525Z"
   },
   {
    "duration": 367,
    "start_time": "2021-11-04T07:48:21.674Z"
   },
   {
    "duration": 416,
    "start_time": "2021-11-04T07:49:12.707Z"
   },
   {
    "duration": 471,
    "start_time": "2021-11-04T07:49:48.596Z"
   },
   {
    "duration": 13,
    "start_time": "2021-11-04T07:50:26.035Z"
   },
   {
    "duration": 11,
    "start_time": "2021-11-04T07:51:16.117Z"
   },
   {
    "duration": 381,
    "start_time": "2021-11-04T07:51:51.946Z"
   },
   {
    "duration": 399,
    "start_time": "2021-11-04T07:52:00.646Z"
   },
   {
    "duration": 529,
    "start_time": "2021-11-04T07:52:35.348Z"
   },
   {
    "duration": 819,
    "start_time": "2021-11-04T07:53:26.715Z"
   },
   {
    "duration": 74,
    "start_time": "2021-11-04T07:53:27.537Z"
   },
   {
    "duration": 15,
    "start_time": "2021-11-04T07:53:27.614Z"
   },
   {
    "duration": 56,
    "start_time": "2021-11-04T07:53:27.632Z"
   },
   {
    "duration": 13,
    "start_time": "2021-11-04T07:53:27.690Z"
   },
   {
    "duration": 12,
    "start_time": "2021-11-04T07:53:27.705Z"
   },
   {
    "duration": 46,
    "start_time": "2021-11-04T07:53:27.719Z"
   },
   {
    "duration": 51,
    "start_time": "2021-11-04T07:53:27.768Z"
   },
   {
    "duration": 468,
    "start_time": "2021-11-04T07:53:27.821Z"
   },
   {
    "duration": 11,
    "start_time": "2021-11-04T07:53:28.291Z"
   },
   {
    "duration": 10,
    "start_time": "2021-11-04T07:53:28.304Z"
   },
   {
    "duration": 43,
    "start_time": "2021-11-04T07:53:28.317Z"
   },
   {
    "duration": 6,
    "start_time": "2021-11-04T07:53:28.363Z"
   },
   {
    "duration": 16,
    "start_time": "2021-11-04T07:53:28.371Z"
   },
   {
    "duration": 13,
    "start_time": "2021-11-04T07:53:28.389Z"
   },
   {
    "duration": 465,
    "start_time": "2021-11-04T07:53:28.404Z"
   },
   {
    "duration": 12487,
    "start_time": "2021-11-04T07:53:16.384Z"
   },
   {
    "duration": 12485,
    "start_time": "2021-11-04T07:53:16.388Z"
   },
   {
    "duration": 12479,
    "start_time": "2021-11-04T07:53:16.395Z"
   },
   {
    "duration": 132,
    "start_time": "2021-11-04T07:54:38.028Z"
   },
   {
    "duration": 127,
    "start_time": "2021-11-04T07:54:58.937Z"
   },
   {
    "duration": 357,
    "start_time": "2021-11-04T07:55:05.236Z"
   },
   {
    "duration": 130,
    "start_time": "2021-11-04T07:55:17.300Z"
   },
   {
    "duration": 125,
    "start_time": "2021-11-04T07:55:24.136Z"
   },
   {
    "duration": 191,
    "start_time": "2021-11-04T07:55:39.737Z"
   },
   {
    "duration": 119,
    "start_time": "2021-11-04T07:55:59.646Z"
   },
   {
    "duration": 856,
    "start_time": "2021-11-04T07:56:36.917Z"
   },
   {
    "duration": 804,
    "start_time": "2021-11-04T07:57:02.230Z"
   },
   {
    "duration": 663,
    "start_time": "2021-11-06T07:39:52.446Z"
   },
   {
    "duration": 71,
    "start_time": "2021-11-06T07:39:53.111Z"
   },
   {
    "duration": 54,
    "start_time": "2021-11-06T07:39:53.185Z"
   },
   {
    "duration": 12,
    "start_time": "2021-11-06T07:39:53.242Z"
   },
   {
    "duration": 28,
    "start_time": "2021-11-06T07:39:53.256Z"
   },
   {
    "duration": 12,
    "start_time": "2021-11-06T07:39:53.306Z"
   },
   {
    "duration": 15,
    "start_time": "2021-11-06T07:39:53.320Z"
   },
   {
    "duration": 14,
    "start_time": "2021-11-06T07:39:53.338Z"
   },
   {
    "duration": 59,
    "start_time": "2021-11-06T07:39:53.354Z"
   },
   {
    "duration": 250,
    "start_time": "2021-11-06T07:39:53.416Z"
   },
   {
    "duration": 9,
    "start_time": "2021-11-06T07:39:53.668Z"
   },
   {
    "duration": 12,
    "start_time": "2021-11-06T07:39:53.678Z"
   },
   {
    "duration": 10,
    "start_time": "2021-11-06T07:39:53.706Z"
   },
   {
    "duration": 5,
    "start_time": "2021-11-06T07:39:53.718Z"
   },
   {
    "duration": 12,
    "start_time": "2021-11-06T07:39:53.724Z"
   },
   {
    "duration": 9,
    "start_time": "2021-11-06T07:39:53.738Z"
   },
   {
    "duration": 578,
    "start_time": "2021-11-06T07:39:53.749Z"
   },
   {
    "duration": 9,
    "start_time": "2021-11-06T07:39:54.328Z"
   },
   {
    "duration": 15,
    "start_time": "2021-11-06T07:39:54.339Z"
   },
   {
    "duration": 4,
    "start_time": "2021-11-06T07:39:54.356Z"
   },
   {
    "duration": 6,
    "start_time": "2021-11-06T07:39:54.362Z"
   },
   {
    "duration": 278,
    "start_time": "2021-11-06T07:39:54.369Z"
   },
   {
    "duration": 8,
    "start_time": "2021-11-06T07:39:54.651Z"
   },
   {
    "duration": 278,
    "start_time": "2021-11-06T07:39:54.661Z"
   },
   {
    "duration": 10,
    "start_time": "2021-11-06T07:39:54.940Z"
   },
   {
    "duration": 5,
    "start_time": "2021-11-06T07:39:54.952Z"
   },
   {
    "duration": 16,
    "start_time": "2021-11-06T07:39:54.959Z"
   },
   {
    "duration": 280,
    "start_time": "2021-11-06T07:39:54.976Z"
   },
   {
    "duration": 8,
    "start_time": "2021-11-06T07:39:55.258Z"
   },
   {
    "duration": 377,
    "start_time": "2021-11-06T07:39:55.267Z"
   },
   {
    "duration": 8,
    "start_time": "2021-11-06T07:39:55.646Z"
   },
   {
    "duration": 228,
    "start_time": "2021-11-06T07:39:55.656Z"
   },
   {
    "duration": 6,
    "start_time": "2021-11-06T07:39:55.886Z"
   },
   {
    "duration": 236,
    "start_time": "2021-11-06T07:39:55.893Z"
   },
   {
    "duration": 9,
    "start_time": "2021-11-06T07:39:56.131Z"
   },
   {
    "duration": 101,
    "start_time": "2021-11-06T07:39:56.141Z"
   },
   {
    "duration": 11,
    "start_time": "2021-11-06T07:39:56.244Z"
   },
   {
    "duration": 20,
    "start_time": "2021-11-06T07:39:56.257Z"
   },
   {
    "duration": 27,
    "start_time": "2021-11-06T07:39:56.279Z"
   },
   {
    "duration": 7,
    "start_time": "2021-11-06T07:39:56.308Z"
   },
   {
    "duration": 202,
    "start_time": "2021-11-06T07:39:56.316Z"
   },
   {
    "duration": 4,
    "start_time": "2021-11-06T07:39:56.520Z"
   },
   {
    "duration": 24,
    "start_time": "2021-11-06T07:39:56.526Z"
   },
   {
    "duration": 25,
    "start_time": "2021-11-06T07:39:56.551Z"
   },
   {
    "duration": 95,
    "start_time": "2021-11-06T07:39:56.577Z"
   },
   {
    "duration": 77,
    "start_time": "2021-11-06T07:45:55.223Z"
   },
   {
    "duration": 23,
    "start_time": "2021-11-06T07:46:41.243Z"
   },
   {
    "duration": 28,
    "start_time": "2021-11-06T07:47:32.903Z"
   },
   {
    "duration": 23,
    "start_time": "2021-11-06T07:49:42.865Z"
   },
   {
    "duration": 27,
    "start_time": "2021-11-06T07:50:19.784Z"
   },
   {
    "duration": 27,
    "start_time": "2021-11-06T07:51:10.808Z"
   },
   {
    "duration": 28,
    "start_time": "2021-11-06T07:51:16.005Z"
   },
   {
    "duration": 27,
    "start_time": "2021-11-06T07:52:21.987Z"
   },
   {
    "duration": 618,
    "start_time": "2021-11-06T07:53:51.405Z"
   },
   {
    "duration": 3,
    "start_time": "2021-11-06T07:53:58.474Z"
   },
   {
    "duration": 79,
    "start_time": "2021-11-06T07:53:58.479Z"
   },
   {
    "duration": 30,
    "start_time": "2021-11-06T07:53:58.560Z"
   },
   {
    "duration": 11,
    "start_time": "2021-11-06T07:53:58.691Z"
   },
   {
    "duration": 27,
    "start_time": "2021-11-06T07:53:58.704Z"
   },
   {
    "duration": 9,
    "start_time": "2021-11-06T07:53:58.733Z"
   },
   {
    "duration": 15,
    "start_time": "2021-11-06T07:53:58.744Z"
   },
   {
    "duration": 14,
    "start_time": "2021-11-06T07:53:58.761Z"
   },
   {
    "duration": 66,
    "start_time": "2021-11-06T07:53:58.777Z"
   },
   {
    "duration": 573,
    "start_time": "2021-11-06T07:53:58.845Z"
   },
   {
    "duration": 18466,
    "start_time": "2021-11-06T07:53:40.955Z"
   },
   {
    "duration": 18462,
    "start_time": "2021-11-06T07:53:40.960Z"
   },
   {
    "duration": 18455,
    "start_time": "2021-11-06T07:53:40.969Z"
   },
   {
    "duration": 18452,
    "start_time": "2021-11-06T07:53:40.973Z"
   },
   {
    "duration": 18447,
    "start_time": "2021-11-06T07:53:40.979Z"
   },
   {
    "duration": 18444,
    "start_time": "2021-11-06T07:53:40.983Z"
   },
   {
    "duration": 18440,
    "start_time": "2021-11-06T07:53:40.988Z"
   },
   {
    "duration": 18409,
    "start_time": "2021-11-06T07:53:41.021Z"
   },
   {
    "duration": 18396,
    "start_time": "2021-11-06T07:53:41.035Z"
   },
   {
    "duration": 18378,
    "start_time": "2021-11-06T07:53:41.054Z"
   },
   {
    "duration": 18362,
    "start_time": "2021-11-06T07:53:41.071Z"
   },
   {
    "duration": 18348,
    "start_time": "2021-11-06T07:53:41.086Z"
   },
   {
    "duration": 18337,
    "start_time": "2021-11-06T07:53:41.098Z"
   },
   {
    "duration": 18330,
    "start_time": "2021-11-06T07:53:41.106Z"
   },
   {
    "duration": 18318,
    "start_time": "2021-11-06T07:53:41.119Z"
   },
   {
    "duration": 18313,
    "start_time": "2021-11-06T07:53:41.125Z"
   },
   {
    "duration": 18298,
    "start_time": "2021-11-06T07:53:41.141Z"
   },
   {
    "duration": 18288,
    "start_time": "2021-11-06T07:53:41.152Z"
   },
   {
    "duration": 18281,
    "start_time": "2021-11-06T07:53:41.160Z"
   },
   {
    "duration": 18276,
    "start_time": "2021-11-06T07:53:41.166Z"
   },
   {
    "duration": 18267,
    "start_time": "2021-11-06T07:53:41.176Z"
   },
   {
    "duration": 18259,
    "start_time": "2021-11-06T07:53:41.185Z"
   },
   {
    "duration": 18253,
    "start_time": "2021-11-06T07:53:41.192Z"
   },
   {
    "duration": 18246,
    "start_time": "2021-11-06T07:53:41.200Z"
   },
   {
    "duration": 18241,
    "start_time": "2021-11-06T07:53:41.206Z"
   },
   {
    "duration": 18233,
    "start_time": "2021-11-06T07:53:41.215Z"
   },
   {
    "duration": 18229,
    "start_time": "2021-11-06T07:53:41.220Z"
   },
   {
    "duration": 18226,
    "start_time": "2021-11-06T07:53:41.224Z"
   },
   {
    "duration": 18222,
    "start_time": "2021-11-06T07:53:41.229Z"
   },
   {
    "duration": 18219,
    "start_time": "2021-11-06T07:53:41.233Z"
   },
   {
    "duration": 18216,
    "start_time": "2021-11-06T07:53:41.237Z"
   },
   {
    "duration": 18212,
    "start_time": "2021-11-06T07:53:41.242Z"
   },
   {
    "duration": 18259,
    "start_time": "2021-11-06T07:53:41.246Z"
   },
   {
    "duration": 18256,
    "start_time": "2021-11-06T07:53:41.251Z"
   },
   {
    "duration": 18253,
    "start_time": "2021-11-06T07:53:41.255Z"
   },
   {
    "duration": 567,
    "start_time": "2021-11-06T07:54:41.447Z"
   },
   {
    "duration": 493,
    "start_time": "2021-11-06T07:55:26.996Z"
   },
   {
    "duration": 3,
    "start_time": "2021-11-06T07:55:42.572Z"
   },
   {
    "duration": 74,
    "start_time": "2021-11-06T07:55:42.577Z"
   },
   {
    "duration": 56,
    "start_time": "2021-11-06T07:55:42.653Z"
   },
   {
    "duration": 12,
    "start_time": "2021-11-06T07:55:42.711Z"
   },
   {
    "duration": 25,
    "start_time": "2021-11-06T07:55:42.725Z"
   },
   {
    "duration": 10,
    "start_time": "2021-11-06T07:55:42.752Z"
   },
   {
    "duration": 46,
    "start_time": "2021-11-06T07:55:42.764Z"
   },
   {
    "duration": 13,
    "start_time": "2021-11-06T07:55:42.813Z"
   },
   {
    "duration": 36,
    "start_time": "2021-11-06T07:55:42.828Z"
   },
   {
    "duration": 554,
    "start_time": "2021-11-06T07:55:42.867Z"
   },
   {
    "duration": 18456,
    "start_time": "2021-11-06T07:55:24.969Z"
   },
   {
    "duration": 18449,
    "start_time": "2021-11-06T07:55:24.977Z"
   },
   {
    "duration": 18424,
    "start_time": "2021-11-06T07:55:25.004Z"
   },
   {
    "duration": 18411,
    "start_time": "2021-11-06T07:55:25.018Z"
   },
   {
    "duration": 18398,
    "start_time": "2021-11-06T07:55:25.032Z"
   },
   {
    "duration": 18384,
    "start_time": "2021-11-06T07:55:25.048Z"
   },
   {
    "duration": 18374,
    "start_time": "2021-11-06T07:55:25.059Z"
   },
   {
    "duration": 18362,
    "start_time": "2021-11-06T07:55:25.073Z"
   },
   {
    "duration": 18348,
    "start_time": "2021-11-06T07:55:25.088Z"
   },
   {
    "duration": 18339,
    "start_time": "2021-11-06T07:55:25.099Z"
   },
   {
    "duration": 18331,
    "start_time": "2021-11-06T07:55:25.108Z"
   },
   {
    "duration": 18327,
    "start_time": "2021-11-06T07:55:25.114Z"
   },
   {
    "duration": 18319,
    "start_time": "2021-11-06T07:55:25.123Z"
   },
   {
    "duration": 18312,
    "start_time": "2021-11-06T07:55:25.132Z"
   },
   {
    "duration": 18307,
    "start_time": "2021-11-06T07:55:25.139Z"
   },
   {
    "duration": 18299,
    "start_time": "2021-11-06T07:55:25.148Z"
   },
   {
    "duration": 18296,
    "start_time": "2021-11-06T07:55:25.153Z"
   },
   {
    "duration": 18289,
    "start_time": "2021-11-06T07:55:25.161Z"
   },
   {
    "duration": 18285,
    "start_time": "2021-11-06T07:55:25.167Z"
   },
   {
    "duration": 18282,
    "start_time": "2021-11-06T07:55:25.171Z"
   },
   {
    "duration": 18279,
    "start_time": "2021-11-06T07:55:25.175Z"
   },
   {
    "duration": 18275,
    "start_time": "2021-11-06T07:55:25.181Z"
   },
   {
    "duration": 18272,
    "start_time": "2021-11-06T07:55:25.186Z"
   },
   {
    "duration": 18267,
    "start_time": "2021-11-06T07:55:25.192Z"
   },
   {
    "duration": 18262,
    "start_time": "2021-11-06T07:55:25.199Z"
   },
   {
    "duration": 18303,
    "start_time": "2021-11-06T07:55:25.203Z"
   },
   {
    "duration": 18300,
    "start_time": "2021-11-06T07:55:25.208Z"
   },
   {
    "duration": 18298,
    "start_time": "2021-11-06T07:55:25.212Z"
   },
   {
    "duration": 18295,
    "start_time": "2021-11-06T07:55:25.216Z"
   },
   {
    "duration": 18293,
    "start_time": "2021-11-06T07:55:25.220Z"
   },
   {
    "duration": 18290,
    "start_time": "2021-11-06T07:55:25.224Z"
   },
   {
    "duration": 18288,
    "start_time": "2021-11-06T07:55:25.228Z"
   },
   {
    "duration": 18286,
    "start_time": "2021-11-06T07:55:25.232Z"
   },
   {
    "duration": 18283,
    "start_time": "2021-11-06T07:55:25.236Z"
   },
   {
    "duration": 18281,
    "start_time": "2021-11-06T07:55:25.240Z"
   },
   {
    "duration": 324,
    "start_time": "2021-11-06T07:59:10.318Z"
   },
   {
    "duration": 240,
    "start_time": "2021-11-06T08:09:43.679Z"
   },
   {
    "duration": 585,
    "start_time": "2021-11-06T08:11:32.042Z"
   },
   {
    "duration": 230,
    "start_time": "2021-11-06T08:11:39.771Z"
   },
   {
    "duration": 239,
    "start_time": "2021-11-06T08:12:24.752Z"
   },
   {
    "duration": 361,
    "start_time": "2021-11-06T08:12:45.643Z"
   },
   {
    "duration": 348,
    "start_time": "2021-11-06T08:13:18.033Z"
   },
   {
    "duration": 654,
    "start_time": "2021-11-06T08:13:43.726Z"
   },
   {
    "duration": 558,
    "start_time": "2021-11-06T08:14:16.202Z"
   },
   {
    "duration": 492,
    "start_time": "2021-11-06T08:14:30.795Z"
   },
   {
    "duration": 487,
    "start_time": "2021-11-06T08:14:45.694Z"
   },
   {
    "duration": 189,
    "start_time": "2021-11-06T08:15:01.065Z"
   },
   {
    "duration": 185,
    "start_time": "2021-11-06T08:16:41.163Z"
   },
   {
    "duration": 210,
    "start_time": "2021-11-06T08:16:53.092Z"
   },
   {
    "duration": 982,
    "start_time": "2021-11-06T08:18:36.906Z"
   },
   {
    "duration": 219,
    "start_time": "2021-11-06T08:18:59.533Z"
   },
   {
    "duration": 570,
    "start_time": "2021-11-06T08:19:09.655Z"
   },
   {
    "duration": 325,
    "start_time": "2021-11-06T08:19:35.994Z"
   },
   {
    "duration": 201,
    "start_time": "2021-11-06T08:19:47.575Z"
   },
   {
    "duration": 240,
    "start_time": "2021-11-06T08:20:01.917Z"
   },
   {
    "duration": 251,
    "start_time": "2021-11-06T08:59:38.651Z"
   },
   {
    "duration": 9,
    "start_time": "2021-11-06T09:00:35.481Z"
   },
   {
    "duration": 72,
    "start_time": "2021-11-06T09:00:35.492Z"
   },
   {
    "duration": 46,
    "start_time": "2021-11-06T09:00:35.566Z"
   },
   {
    "duration": 20,
    "start_time": "2021-11-06T09:00:35.614Z"
   },
   {
    "duration": 28,
    "start_time": "2021-11-06T09:00:35.636Z"
   },
   {
    "duration": 11,
    "start_time": "2021-11-06T09:00:35.667Z"
   },
   {
    "duration": 10,
    "start_time": "2021-11-06T09:00:35.705Z"
   },
   {
    "duration": 19,
    "start_time": "2021-11-06T09:00:35.717Z"
   },
   {
    "duration": 44,
    "start_time": "2021-11-06T09:00:35.738Z"
   },
   {
    "duration": 260,
    "start_time": "2021-11-06T09:00:35.784Z"
   },
   {
    "duration": 9,
    "start_time": "2021-11-06T09:00:36.046Z"
   },
   {
    "duration": 13,
    "start_time": "2021-11-06T09:00:36.056Z"
   },
   {
    "duration": 8,
    "start_time": "2021-11-06T09:00:36.071Z"
   },
   {
    "duration": 27,
    "start_time": "2021-11-06T09:00:36.081Z"
   },
   {
    "duration": 13,
    "start_time": "2021-11-06T09:00:36.109Z"
   },
   {
    "duration": 16,
    "start_time": "2021-11-06T09:00:36.124Z"
   },
   {
    "duration": 555,
    "start_time": "2021-11-06T09:00:36.142Z"
   },
   {
    "duration": 9,
    "start_time": "2021-11-06T09:00:36.699Z"
   },
   {
    "duration": 14,
    "start_time": "2021-11-06T09:00:36.712Z"
   },
   {
    "duration": 4,
    "start_time": "2021-11-06T09:00:36.729Z"
   },
   {
    "duration": 9,
    "start_time": "2021-11-06T09:00:36.734Z"
   },
   {
    "duration": 278,
    "start_time": "2021-11-06T09:00:36.745Z"
   },
   {
    "duration": 8,
    "start_time": "2021-11-06T09:00:37.025Z"
   },
   {
    "duration": 370,
    "start_time": "2021-11-06T09:00:37.035Z"
   },
   {
    "duration": 9,
    "start_time": "2021-11-06T09:00:37.407Z"
   },
   {
    "duration": 6,
    "start_time": "2021-11-06T09:00:37.417Z"
   },
   {
    "duration": 9,
    "start_time": "2021-11-06T09:00:37.425Z"
   },
   {
    "duration": 222,
    "start_time": "2021-11-06T09:00:37.436Z"
   },
   {
    "duration": 8,
    "start_time": "2021-11-06T09:00:37.660Z"
   },
   {
    "duration": 403,
    "start_time": "2021-11-06T09:00:37.670Z"
   },
   {
    "duration": 9,
    "start_time": "2021-11-06T09:00:38.074Z"
   },
   {
    "duration": 230,
    "start_time": "2021-11-06T09:00:38.085Z"
   },
   {
    "duration": 6,
    "start_time": "2021-11-06T09:00:38.317Z"
   },
   {
    "duration": 272,
    "start_time": "2021-11-06T09:00:38.325Z"
   },
   {
    "duration": 9,
    "start_time": "2021-11-06T09:00:38.599Z"
   },
   {
    "duration": 98,
    "start_time": "2021-11-06T09:00:38.609Z"
   },
   {
    "duration": 11,
    "start_time": "2021-11-06T09:00:38.709Z"
   },
   {
    "duration": 21,
    "start_time": "2021-11-06T09:00:38.722Z"
   },
   {
    "duration": 11,
    "start_time": "2021-11-06T09:00:38.745Z"
   },
   {
    "duration": 10,
    "start_time": "2021-11-06T09:00:38.758Z"
   },
   {
    "duration": 230,
    "start_time": "2021-11-06T09:00:38.771Z"
   },
   {
    "duration": 4,
    "start_time": "2021-11-06T09:00:39.007Z"
   },
   {
    "duration": 25,
    "start_time": "2021-11-06T09:00:39.013Z"
   },
   {
    "duration": 27,
    "start_time": "2021-11-06T09:00:39.039Z"
   },
   {
    "duration": 97,
    "start_time": "2021-11-06T09:00:39.068Z"
   },
   {
    "duration": 190,
    "start_time": "2021-11-06T09:01:28.162Z"
   },
   {
    "duration": 4,
    "start_time": "2021-11-06T09:01:39.724Z"
   },
   {
    "duration": 71,
    "start_time": "2021-11-06T09:01:39.731Z"
   },
   {
    "duration": 28,
    "start_time": "2021-11-06T09:01:39.804Z"
   },
   {
    "duration": 12,
    "start_time": "2021-11-06T09:01:39.834Z"
   },
   {
    "duration": 24,
    "start_time": "2021-11-06T09:01:39.848Z"
   },
   {
    "duration": 9,
    "start_time": "2021-11-06T09:01:39.874Z"
   },
   {
    "duration": 26,
    "start_time": "2021-11-06T09:01:39.884Z"
   },
   {
    "duration": 13,
    "start_time": "2021-11-06T09:01:39.912Z"
   },
   {
    "duration": 34,
    "start_time": "2021-11-06T09:01:39.929Z"
   },
   {
    "duration": 221,
    "start_time": "2021-11-06T09:01:39.966Z"
   },
   {
    "duration": 16,
    "start_time": "2021-11-06T09:01:40.190Z"
   },
   {
    "duration": 10,
    "start_time": "2021-11-06T09:01:40.208Z"
   },
   {
    "duration": 13,
    "start_time": "2021-11-06T09:01:40.219Z"
   },
   {
    "duration": 6,
    "start_time": "2021-11-06T09:01:40.233Z"
   },
   {
    "duration": 12,
    "start_time": "2021-11-06T09:01:40.241Z"
   },
   {
    "duration": 9,
    "start_time": "2021-11-06T09:01:40.255Z"
   },
   {
    "duration": 582,
    "start_time": "2021-11-06T09:01:40.265Z"
   },
   {
    "duration": 8,
    "start_time": "2021-11-06T09:01:40.849Z"
   },
   {
    "duration": 23,
    "start_time": "2021-11-06T09:01:40.859Z"
   },
   {
    "duration": 3,
    "start_time": "2021-11-06T09:01:40.884Z"
   },
   {
    "duration": 18,
    "start_time": "2021-11-06T09:01:40.889Z"
   },
   {
    "duration": 263,
    "start_time": "2021-11-06T09:01:40.908Z"
   },
   {
    "duration": 10,
    "start_time": "2021-11-06T09:01:41.174Z"
   },
   {
    "duration": 368,
    "start_time": "2021-11-06T09:01:41.186Z"
   },
   {
    "duration": 11,
    "start_time": "2021-11-06T09:01:41.556Z"
   },
   {
    "duration": 6,
    "start_time": "2021-11-06T09:01:41.571Z"
   },
   {
    "duration": 34,
    "start_time": "2021-11-06T09:01:41.579Z"
   },
   {
    "duration": 208,
    "start_time": "2021-11-06T09:01:41.615Z"
   },
   {
    "duration": 8,
    "start_time": "2021-11-06T09:01:41.825Z"
   },
   {
    "duration": 383,
    "start_time": "2021-11-06T09:01:41.835Z"
   },
   {
    "duration": 10,
    "start_time": "2021-11-06T09:01:42.220Z"
   },
   {
    "duration": 234,
    "start_time": "2021-11-06T09:01:42.232Z"
   },
   {
    "duration": 7,
    "start_time": "2021-11-06T09:01:42.469Z"
   },
   {
    "duration": 253,
    "start_time": "2021-11-06T09:01:42.478Z"
   },
   {
    "duration": 11,
    "start_time": "2021-11-06T09:01:42.734Z"
   },
   {
    "duration": 103,
    "start_time": "2021-11-06T09:01:42.747Z"
   },
   {
    "duration": 13,
    "start_time": "2021-11-06T09:01:42.853Z"
   },
   {
    "duration": 42,
    "start_time": "2021-11-06T09:01:42.868Z"
   },
   {
    "duration": 7,
    "start_time": "2021-11-06T09:01:42.912Z"
   },
   {
    "duration": 13,
    "start_time": "2021-11-06T09:01:42.921Z"
   },
   {
    "duration": 205,
    "start_time": "2021-11-06T09:01:42.936Z"
   },
   {
    "duration": 5,
    "start_time": "2021-11-06T09:01:43.142Z"
   },
   {
    "duration": 24,
    "start_time": "2021-11-06T09:01:43.149Z"
   },
   {
    "duration": 43,
    "start_time": "2021-11-06T09:01:43.174Z"
   },
   {
    "duration": 77,
    "start_time": "2021-11-06T09:01:43.218Z"
   },
   {
    "duration": 333,
    "start_time": "2021-11-06T09:02:20.985Z"
   },
   {
    "duration": 795,
    "start_time": "2021-11-06T09:03:13.651Z"
   },
   {
    "duration": 466,
    "start_time": "2021-11-06T09:03:42.592Z"
   },
   {
    "duration": 483,
    "start_time": "2021-11-06T09:04:16.761Z"
   },
   {
    "duration": 479,
    "start_time": "2021-11-06T09:04:23.771Z"
   },
   {
    "duration": 609,
    "start_time": "2021-11-06T09:04:29.491Z"
   },
   {
    "duration": 457,
    "start_time": "2021-11-06T09:04:38.502Z"
   },
   {
    "duration": 505,
    "start_time": "2021-11-06T09:04:54.120Z"
   },
   {
    "duration": 465,
    "start_time": "2021-11-06T09:05:22.325Z"
   },
   {
    "duration": 456,
    "start_time": "2021-11-06T09:05:29.415Z"
   },
   {
    "duration": 855,
    "start_time": "2021-11-06T09:05:52.777Z"
   },
   {
    "duration": 72,
    "start_time": "2021-11-06T09:05:53.635Z"
   },
   {
    "duration": 32,
    "start_time": "2021-11-06T09:05:53.709Z"
   },
   {
    "duration": 16,
    "start_time": "2021-11-06T09:05:53.743Z"
   },
   {
    "duration": 38,
    "start_time": "2021-11-06T09:05:53.761Z"
   },
   {
    "duration": 13,
    "start_time": "2021-11-06T09:05:53.801Z"
   },
   {
    "duration": 14,
    "start_time": "2021-11-06T09:05:53.815Z"
   },
   {
    "duration": 17,
    "start_time": "2021-11-06T09:05:53.831Z"
   },
   {
    "duration": 35,
    "start_time": "2021-11-06T09:05:53.850Z"
   },
   {
    "duration": 641,
    "start_time": "2021-11-06T09:05:53.908Z"
   },
   {
    "duration": 8,
    "start_time": "2021-11-06T09:05:54.551Z"
   },
   {
    "duration": 15,
    "start_time": "2021-11-06T09:05:54.561Z"
   },
   {
    "duration": 23,
    "start_time": "2021-11-06T09:05:54.577Z"
   },
   {
    "duration": 5,
    "start_time": "2021-11-06T09:05:54.607Z"
   },
   {
    "duration": 18,
    "start_time": "2021-11-06T09:05:54.614Z"
   },
   {
    "duration": 12,
    "start_time": "2021-11-06T09:05:54.634Z"
   },
   {
    "duration": 622,
    "start_time": "2021-11-06T09:05:54.648Z"
   },
   {
    "duration": 10,
    "start_time": "2021-11-06T09:05:55.272Z"
   },
   {
    "duration": 27,
    "start_time": "2021-11-06T09:05:55.284Z"
   },
   {
    "duration": 5,
    "start_time": "2021-11-06T09:05:55.313Z"
   },
   {
    "duration": 8,
    "start_time": "2021-11-06T09:05:55.320Z"
   },
   {
    "duration": 315,
    "start_time": "2021-11-06T09:05:55.330Z"
   },
   {
    "duration": 9,
    "start_time": "2021-11-06T09:05:55.650Z"
   },
   {
    "duration": 307,
    "start_time": "2021-11-06T09:05:55.662Z"
   },
   {
    "duration": 8,
    "start_time": "2021-11-06T09:05:55.971Z"
   },
   {
    "duration": 6,
    "start_time": "2021-11-06T09:05:55.980Z"
   },
   {
    "duration": 27,
    "start_time": "2021-11-06T09:05:55.987Z"
   },
   {
    "duration": 240,
    "start_time": "2021-11-06T09:05:56.015Z"
   },
   {
    "duration": 8,
    "start_time": "2021-11-06T09:05:56.257Z"
   },
   {
    "duration": 430,
    "start_time": "2021-11-06T09:05:56.267Z"
   },
   {
    "duration": 13,
    "start_time": "2021-11-06T09:05:56.699Z"
   },
   {
    "duration": 253,
    "start_time": "2021-11-06T09:05:56.714Z"
   },
   {
    "duration": 6,
    "start_time": "2021-11-06T09:05:56.968Z"
   },
   {
    "duration": 282,
    "start_time": "2021-11-06T09:05:56.976Z"
   },
   {
    "duration": 8,
    "start_time": "2021-11-06T09:05:57.259Z"
   },
   {
    "duration": 101,
    "start_time": "2021-11-06T09:05:57.269Z"
   },
   {
    "duration": 12,
    "start_time": "2021-11-06T09:05:57.371Z"
   },
   {
    "duration": 41,
    "start_time": "2021-11-06T09:05:57.385Z"
   },
   {
    "duration": 8,
    "start_time": "2021-11-06T09:05:57.427Z"
   },
   {
    "duration": 10,
    "start_time": "2021-11-06T09:05:57.436Z"
   },
   {
    "duration": 259,
    "start_time": "2021-11-06T09:05:57.447Z"
   },
   {
    "duration": 4,
    "start_time": "2021-11-06T09:05:57.708Z"
   },
   {
    "duration": 38,
    "start_time": "2021-11-06T09:05:57.714Z"
   },
   {
    "duration": 27,
    "start_time": "2021-11-06T09:05:57.754Z"
   },
   {
    "duration": 92,
    "start_time": "2021-11-06T09:05:57.783Z"
   },
   {
    "duration": 979,
    "start_time": "2021-11-06T09:06:34.449Z"
   },
   {
    "duration": 872,
    "start_time": "2021-11-06T09:06:54.920Z"
   },
   {
    "duration": 321,
    "start_time": "2021-11-06T09:09:49.580Z"
   },
   {
    "duration": 412,
    "start_time": "2021-11-06T09:10:12.268Z"
   },
   {
    "duration": 618,
    "start_time": "2021-11-06T09:17:12.420Z"
   },
   {
    "duration": 3,
    "start_time": "2021-11-06T09:19:31.940Z"
   },
   {
    "duration": 97,
    "start_time": "2021-11-06T09:19:31.945Z"
   },
   {
    "duration": 33,
    "start_time": "2021-11-06T09:19:32.045Z"
   },
   {
    "duration": 40,
    "start_time": "2021-11-06T09:19:32.080Z"
   },
   {
    "duration": 32,
    "start_time": "2021-11-06T09:19:32.122Z"
   },
   {
    "duration": 10,
    "start_time": "2021-11-06T09:19:32.157Z"
   },
   {
    "duration": 45,
    "start_time": "2021-11-06T09:19:32.170Z"
   },
   {
    "duration": 35,
    "start_time": "2021-11-06T09:19:32.218Z"
   },
   {
    "duration": 57,
    "start_time": "2021-11-06T09:19:32.255Z"
   },
   {
    "duration": 634,
    "start_time": "2021-11-06T09:19:32.315Z"
   },
   {
    "duration": 88,
    "start_time": "2021-11-06T09:19:32.863Z"
   },
   {
    "duration": 84,
    "start_time": "2021-11-06T09:19:32.869Z"
   },
   {
    "duration": 79,
    "start_time": "2021-11-06T09:19:32.874Z"
   },
   {
    "duration": 75,
    "start_time": "2021-11-06T09:19:32.879Z"
   },
   {
    "duration": 71,
    "start_time": "2021-11-06T09:19:32.884Z"
   },
   {
    "duration": 67,
    "start_time": "2021-11-06T09:19:32.889Z"
   },
   {
    "duration": 64,
    "start_time": "2021-11-06T09:19:32.893Z"
   },
   {
    "duration": 60,
    "start_time": "2021-11-06T09:19:32.898Z"
   },
   {
    "duration": 57,
    "start_time": "2021-11-06T09:19:32.902Z"
   },
   {
    "duration": 53,
    "start_time": "2021-11-06T09:19:32.907Z"
   },
   {
    "duration": 50,
    "start_time": "2021-11-06T09:19:32.911Z"
   },
   {
    "duration": 45,
    "start_time": "2021-11-06T09:19:32.917Z"
   },
   {
    "duration": 42,
    "start_time": "2021-11-06T09:19:32.922Z"
   },
   {
    "duration": 37,
    "start_time": "2021-11-06T09:19:32.928Z"
   },
   {
    "duration": 34,
    "start_time": "2021-11-06T09:19:32.932Z"
   },
   {
    "duration": 31,
    "start_time": "2021-11-06T09:19:32.936Z"
   },
   {
    "duration": 29,
    "start_time": "2021-11-06T09:19:32.939Z"
   },
   {
    "duration": 18,
    "start_time": "2021-11-06T09:19:32.951Z"
   },
   {
    "duration": 15,
    "start_time": "2021-11-06T09:19:32.955Z"
   },
   {
    "duration": 47,
    "start_time": "2021-11-06T09:19:32.959Z"
   },
   {
    "duration": 44,
    "start_time": "2021-11-06T09:19:32.963Z"
   },
   {
    "duration": 40,
    "start_time": "2021-11-06T09:19:32.968Z"
   },
   {
    "duration": 37,
    "start_time": "2021-11-06T09:19:32.972Z"
   },
   {
    "duration": 34,
    "start_time": "2021-11-06T09:19:32.976Z"
   },
   {
    "duration": 31,
    "start_time": "2021-11-06T09:19:32.980Z"
   },
   {
    "duration": 28,
    "start_time": "2021-11-06T09:19:32.984Z"
   },
   {
    "duration": 25,
    "start_time": "2021-11-06T09:19:32.988Z"
   },
   {
    "duration": 22,
    "start_time": "2021-11-06T09:19:32.992Z"
   },
   {
    "duration": 19,
    "start_time": "2021-11-06T09:19:32.996Z"
   },
   {
    "duration": 17,
    "start_time": "2021-11-06T09:19:33.000Z"
   },
   {
    "duration": 14,
    "start_time": "2021-11-06T09:19:33.004Z"
   },
   {
    "duration": 9,
    "start_time": "2021-11-06T09:19:33.010Z"
   },
   {
    "duration": 4,
    "start_time": "2021-11-06T09:19:33.015Z"
   },
   {
    "duration": 1,
    "start_time": "2021-11-06T09:19:33.019Z"
   },
   {
    "duration": -2,
    "start_time": "2021-11-06T09:19:33.023Z"
   },
   {
    "duration": -5,
    "start_time": "2021-11-06T09:19:33.027Z"
   },
   {
    "duration": 116,
    "start_time": "2021-11-06T09:22:14.503Z"
   },
   {
    "duration": 699,
    "start_time": "2021-11-06T09:22:19.188Z"
   },
   {
    "duration": 255,
    "start_time": "2021-11-06T09:22:58.734Z"
   },
   {
    "duration": 257,
    "start_time": "2021-11-06T09:23:09.716Z"
   },
   {
    "duration": 254,
    "start_time": "2021-11-06T09:23:15.353Z"
   },
   {
    "duration": 811,
    "start_time": "2021-11-06T09:23:50.178Z"
   },
   {
    "duration": 122,
    "start_time": "2021-11-06T09:23:59.896Z"
   },
   {
    "duration": 326,
    "start_time": "2021-11-06T09:24:06.813Z"
   },
   {
    "duration": 453,
    "start_time": "2021-11-06T09:24:26.194Z"
   },
   {
    "duration": 559,
    "start_time": "2021-11-06T09:24:54.384Z"
   },
   {
    "duration": 529,
    "start_time": "2021-11-06T09:33:10.638Z"
   },
   {
    "duration": 9,
    "start_time": "2021-11-06T09:35:02.279Z"
   },
   {
    "duration": 262,
    "start_time": "2021-11-06T09:35:56.640Z"
   },
   {
    "duration": 783,
    "start_time": "2021-11-06T09:36:38.989Z"
   },
   {
    "duration": 247,
    "start_time": "2021-11-06T09:36:49.822Z"
   },
   {
    "duration": 348,
    "start_time": "2021-11-06T09:37:12.870Z"
   },
   {
    "duration": 511,
    "start_time": "2021-11-06T09:37:22.369Z"
   },
   {
    "duration": 1289,
    "start_time": "2021-11-06T09:37:29.939Z"
   },
   {
    "duration": 428,
    "start_time": "2021-11-06T09:37:41.940Z"
   },
   {
    "duration": 806,
    "start_time": "2021-11-06T09:38:12.100Z"
   },
   {
    "duration": 652,
    "start_time": "2021-11-06T09:38:18.700Z"
   },
   {
    "duration": 513,
    "start_time": "2021-11-06T09:39:05.181Z"
   },
   {
    "duration": 13,
    "start_time": "2021-11-06T09:39:11.099Z"
   },
   {
    "duration": 10,
    "start_time": "2021-11-06T09:39:38.160Z"
   },
   {
    "duration": 80,
    "start_time": "2021-11-06T09:45:31.982Z"
   },
   {
    "duration": 60,
    "start_time": "2021-11-06T09:46:01.524Z"
   },
   {
    "duration": 421,
    "start_time": "2021-11-06T09:46:14.313Z"
   },
   {
    "duration": 61,
    "start_time": "2021-11-06T09:46:26.563Z"
   },
   {
    "duration": 62,
    "start_time": "2021-11-06T09:46:44.813Z"
   },
   {
    "duration": 61,
    "start_time": "2021-11-06T09:46:48.542Z"
   },
   {
    "duration": 60,
    "start_time": "2021-11-06T09:47:11.796Z"
   },
   {
    "duration": 412,
    "start_time": "2021-11-06T09:47:29.363Z"
   },
   {
    "duration": 60,
    "start_time": "2021-11-06T09:47:33.847Z"
   },
   {
    "duration": 63,
    "start_time": "2021-11-06T09:47:40.473Z"
   },
   {
    "duration": 11,
    "start_time": "2021-11-06T09:48:22.954Z"
   },
   {
    "duration": 197,
    "start_time": "2021-11-06T09:48:44.424Z"
   },
   {
    "duration": 187,
    "start_time": "2021-11-06T09:49:06.674Z"
   },
   {
    "duration": 195,
    "start_time": "2021-11-06T09:49:27.183Z"
   },
   {
    "duration": 169,
    "start_time": "2021-11-06T09:49:40.685Z"
   },
   {
    "duration": 174,
    "start_time": "2021-11-06T09:49:54.284Z"
   },
   {
    "duration": 191,
    "start_time": "2021-11-06T09:50:14.595Z"
   },
   {
    "duration": 177,
    "start_time": "2021-11-06T09:50:33.324Z"
   },
   {
    "duration": 344,
    "start_time": "2021-11-06T09:51:16.744Z"
   },
   {
    "duration": 181,
    "start_time": "2021-11-06T09:51:33.686Z"
   },
   {
    "duration": 380,
    "start_time": "2021-11-06T09:52:19.095Z"
   },
   {
    "duration": 175,
    "start_time": "2021-11-06T09:52:24.065Z"
   },
   {
    "duration": 292,
    "start_time": "2021-11-06T09:53:14.726Z"
   },
   {
    "duration": 384,
    "start_time": "2021-11-06T09:54:24.775Z"
   },
   {
    "duration": 153,
    "start_time": "2021-11-06T09:54:43.607Z"
   },
   {
    "duration": 2593,
    "start_time": "2021-11-06T09:55:01.847Z"
   },
   {
    "duration": 155,
    "start_time": "2021-11-06T09:55:12.545Z"
   },
   {
    "duration": 23,
    "start_time": "2021-11-06T09:55:33.306Z"
   },
   {
    "duration": 413,
    "start_time": "2021-11-06T09:57:00.727Z"
   },
   {
    "duration": 382,
    "start_time": "2021-11-06T09:57:45.589Z"
   },
   {
    "duration": 22,
    "start_time": "2021-11-06T09:58:07.818Z"
   },
   {
    "duration": 28,
    "start_time": "2021-11-06T09:59:57.039Z"
   },
   {
    "duration": 22,
    "start_time": "2021-11-06T10:05:19.940Z"
   },
   {
    "duration": 34,
    "start_time": "2021-11-06T10:05:54.890Z"
   },
   {
    "duration": 24,
    "start_time": "2021-11-06T10:06:18.664Z"
   },
   {
    "duration": 173,
    "start_time": "2021-11-06T10:08:49.382Z"
   },
   {
    "duration": 174,
    "start_time": "2021-11-06T10:09:03.642Z"
   },
   {
    "duration": 2455,
    "start_time": "2021-11-06T11:31:46.252Z"
   },
   {
    "duration": 60,
    "start_time": "2021-11-06T11:31:58.241Z"
   },
   {
    "duration": 7,
    "start_time": "2021-11-06T11:41:00.434Z"
   },
   {
    "duration": 228,
    "start_time": "2021-11-06T11:41:03.430Z"
   },
   {
    "duration": 3,
    "start_time": "2021-11-06T11:50:02.383Z"
   },
   {
    "duration": 88,
    "start_time": "2021-11-06T11:50:02.388Z"
   },
   {
    "duration": 39,
    "start_time": "2021-11-06T11:50:02.478Z"
   },
   {
    "duration": 11,
    "start_time": "2021-11-06T11:50:02.519Z"
   },
   {
    "duration": 29,
    "start_time": "2021-11-06T11:50:02.532Z"
   },
   {
    "duration": 14,
    "start_time": "2021-11-06T11:50:02.562Z"
   },
   {
    "duration": 35,
    "start_time": "2021-11-06T11:50:02.578Z"
   },
   {
    "duration": 12,
    "start_time": "2021-11-06T11:50:02.615Z"
   },
   {
    "duration": 35,
    "start_time": "2021-11-06T11:50:02.629Z"
   },
   {
    "duration": 275,
    "start_time": "2021-11-06T11:50:02.665Z"
   },
   {
    "duration": 613,
    "start_time": "2021-11-06T11:50:02.942Z"
   },
   {
    "duration": 9,
    "start_time": "2021-11-06T11:50:03.557Z"
   },
   {
    "duration": 15,
    "start_time": "2021-11-06T11:50:03.567Z"
   },
   {
    "duration": 17,
    "start_time": "2021-11-06T11:50:03.584Z"
   },
   {
    "duration": 5,
    "start_time": "2021-11-06T11:50:03.607Z"
   },
   {
    "duration": 13,
    "start_time": "2021-11-06T11:50:03.614Z"
   },
   {
    "duration": 10,
    "start_time": "2021-11-06T11:50:03.629Z"
   },
   {
    "duration": 547,
    "start_time": "2021-11-06T11:50:03.641Z"
   },
   {
    "duration": 17,
    "start_time": "2021-11-06T11:50:04.191Z"
   },
   {
    "duration": 17,
    "start_time": "2021-11-06T11:50:04.210Z"
   },
   {
    "duration": 3,
    "start_time": "2021-11-06T11:50:04.229Z"
   },
   {
    "duration": 6,
    "start_time": "2021-11-06T11:50:04.234Z"
   },
   {
    "duration": 306,
    "start_time": "2021-11-06T11:50:04.241Z"
   },
   {
    "duration": 9,
    "start_time": "2021-11-06T11:50:04.548Z"
   },
   {
    "duration": 311,
    "start_time": "2021-11-06T11:50:04.559Z"
   },
   {
    "duration": 9,
    "start_time": "2021-11-06T11:50:04.872Z"
   },
   {
    "duration": 6,
    "start_time": "2021-11-06T11:50:04.882Z"
   },
   {
    "duration": 10,
    "start_time": "2021-11-06T11:50:04.907Z"
   },
   {
    "duration": 239,
    "start_time": "2021-11-06T11:50:04.919Z"
   },
   {
    "duration": 8,
    "start_time": "2021-11-06T11:50:05.160Z"
   },
   {
    "duration": 438,
    "start_time": "2021-11-06T11:50:05.170Z"
   },
   {
    "duration": 10,
    "start_time": "2021-11-06T11:50:05.610Z"
   },
   {
    "duration": 264,
    "start_time": "2021-11-06T11:50:05.622Z"
   },
   {
    "duration": 7,
    "start_time": "2021-11-06T11:50:05.888Z"
   },
   {
    "duration": 274,
    "start_time": "2021-11-06T11:50:05.907Z"
   },
   {
    "duration": 667,
    "start_time": "2021-11-06T11:50:06.183Z"
   },
   {
    "duration": 10,
    "start_time": "2021-11-06T11:50:06.852Z"
   },
   {
    "duration": 9,
    "start_time": "2021-11-06T11:50:06.863Z"
   },
   {
    "duration": 90,
    "start_time": "2021-11-06T11:50:06.874Z"
   },
   {
    "duration": 13,
    "start_time": "2021-11-06T11:50:06.966Z"
   },
   {
    "duration": 43,
    "start_time": "2021-11-06T11:50:06.981Z"
   },
   {
    "duration": 22,
    "start_time": "2021-11-06T11:50:07.025Z"
   },
   {
    "duration": 22,
    "start_time": "2021-11-06T11:50:07.048Z"
   },
   {
    "duration": 199,
    "start_time": "2021-11-06T11:50:07.071Z"
   },
   {
    "duration": 187,
    "start_time": "2021-11-06T11:50:07.271Z"
   },
   {
    "duration": 21,
    "start_time": "2021-11-06T11:50:07.460Z"
   },
   {
    "duration": 23,
    "start_time": "2021-11-06T11:50:07.483Z"
   },
   {
    "duration": 16,
    "start_time": "2021-11-06T11:50:07.508Z"
   },
   {
    "duration": 228,
    "start_time": "2021-11-06T11:50:07.525Z"
   },
   {
    "duration": 5,
    "start_time": "2021-11-06T11:50:07.754Z"
   },
   {
    "duration": 27,
    "start_time": "2021-11-06T11:50:07.761Z"
   },
   {
    "duration": 35,
    "start_time": "2021-11-06T11:50:07.789Z"
   },
   {
    "duration": 90,
    "start_time": "2021-11-06T11:50:07.826Z"
   },
   {
    "duration": 694,
    "start_time": "2021-11-06T11:50:26.525Z"
   },
   {
    "duration": 69,
    "start_time": "2021-11-06T11:50:27.221Z"
   },
   {
    "duration": 30,
    "start_time": "2021-11-06T11:50:27.292Z"
   },
   {
    "duration": 11,
    "start_time": "2021-11-06T11:50:27.324Z"
   },
   {
    "duration": 28,
    "start_time": "2021-11-06T11:50:27.337Z"
   },
   {
    "duration": 9,
    "start_time": "2021-11-06T11:50:27.366Z"
   },
   {
    "duration": 34,
    "start_time": "2021-11-06T11:50:27.376Z"
   },
   {
    "duration": 13,
    "start_time": "2021-11-06T11:50:27.412Z"
   },
   {
    "duration": 33,
    "start_time": "2021-11-06T11:50:27.427Z"
   },
   {
    "duration": 287,
    "start_time": "2021-11-06T11:50:27.462Z"
   },
   {
    "duration": 576,
    "start_time": "2021-11-06T11:50:27.751Z"
   },
   {
    "duration": 8,
    "start_time": "2021-11-06T11:50:28.329Z"
   },
   {
    "duration": 9,
    "start_time": "2021-11-06T11:50:28.338Z"
   },
   {
    "duration": 16,
    "start_time": "2021-11-06T11:50:28.349Z"
   },
   {
    "duration": 7,
    "start_time": "2021-11-06T11:50:28.367Z"
   },
   {
    "duration": 43,
    "start_time": "2021-11-06T11:50:28.376Z"
   },
   {
    "duration": 30,
    "start_time": "2021-11-06T11:50:28.421Z"
   },
   {
    "duration": 549,
    "start_time": "2021-11-06T11:50:28.453Z"
   },
   {
    "duration": 10,
    "start_time": "2021-11-06T11:50:29.005Z"
   },
   {
    "duration": 19,
    "start_time": "2021-11-06T11:50:29.017Z"
   },
   {
    "duration": 5,
    "start_time": "2021-11-06T11:50:29.037Z"
   },
   {
    "duration": 15,
    "start_time": "2021-11-06T11:50:29.044Z"
   },
   {
    "duration": 270,
    "start_time": "2021-11-06T11:50:29.063Z"
   },
   {
    "duration": 9,
    "start_time": "2021-11-06T11:50:29.336Z"
   },
   {
    "duration": 278,
    "start_time": "2021-11-06T11:50:29.347Z"
   },
   {
    "duration": 10,
    "start_time": "2021-11-06T11:50:29.627Z"
   },
   {
    "duration": 6,
    "start_time": "2021-11-06T11:50:29.639Z"
   },
   {
    "duration": 15,
    "start_time": "2021-11-06T11:50:29.647Z"
   },
   {
    "duration": 228,
    "start_time": "2021-11-06T11:50:29.664Z"
   },
   {
    "duration": 18,
    "start_time": "2021-11-06T11:50:29.895Z"
   },
   {
    "duration": 381,
    "start_time": "2021-11-06T11:50:29.915Z"
   },
   {
    "duration": 16,
    "start_time": "2021-11-06T11:50:30.298Z"
   },
   {
    "duration": 229,
    "start_time": "2021-11-06T11:50:30.316Z"
   },
   {
    "duration": 6,
    "start_time": "2021-11-06T11:50:30.547Z"
   },
   {
    "duration": 260,
    "start_time": "2021-11-06T11:50:30.554Z"
   },
   {
    "duration": 738,
    "start_time": "2021-11-06T11:50:30.816Z"
   },
   {
    "duration": 10,
    "start_time": "2021-11-06T11:50:31.556Z"
   },
   {
    "duration": 21,
    "start_time": "2021-11-06T11:50:31.567Z"
   },
   {
    "duration": 71,
    "start_time": "2021-11-06T11:50:31.590Z"
   },
   {
    "duration": 11,
    "start_time": "2021-11-06T11:50:31.662Z"
   },
   {
    "duration": 41,
    "start_time": "2021-11-06T11:50:31.675Z"
   },
   {
    "duration": 21,
    "start_time": "2021-11-06T11:50:31.718Z"
   },
   {
    "duration": 26,
    "start_time": "2021-11-06T11:50:31.740Z"
   },
   {
    "duration": 178,
    "start_time": "2021-11-06T11:50:31.767Z"
   },
   {
    "duration": 154,
    "start_time": "2021-11-06T11:50:31.947Z"
   },
   {
    "duration": 21,
    "start_time": "2021-11-06T11:50:32.106Z"
   },
   {
    "duration": 8,
    "start_time": "2021-11-06T11:50:32.128Z"
   },
   {
    "duration": 9,
    "start_time": "2021-11-06T11:50:32.137Z"
   },
   {
    "duration": 219,
    "start_time": "2021-11-06T11:50:32.148Z"
   },
   {
    "duration": 5,
    "start_time": "2021-11-06T11:50:32.369Z"
   },
   {
    "duration": 37,
    "start_time": "2021-11-06T11:50:32.376Z"
   },
   {
    "duration": 27,
    "start_time": "2021-11-06T11:50:32.414Z"
   },
   {
    "duration": 86,
    "start_time": "2021-11-06T11:50:32.443Z"
   },
   {
    "duration": 4,
    "start_time": "2021-11-06T11:55:10.056Z"
   },
   {
    "duration": 3,
    "start_time": "2021-11-06T11:55:14.527Z"
   },
   {
    "duration": 82,
    "start_time": "2021-11-06T11:55:14.532Z"
   },
   {
    "duration": 30,
    "start_time": "2021-11-06T11:55:14.616Z"
   },
   {
    "duration": 11,
    "start_time": "2021-11-06T11:55:14.649Z"
   },
   {
    "duration": 53,
    "start_time": "2021-11-06T11:55:14.662Z"
   },
   {
    "duration": 9,
    "start_time": "2021-11-06T11:55:14.717Z"
   },
   {
    "duration": 19,
    "start_time": "2021-11-06T11:55:14.728Z"
   },
   {
    "duration": 16,
    "start_time": "2021-11-06T11:55:14.749Z"
   },
   {
    "duration": 57,
    "start_time": "2021-11-06T11:55:14.767Z"
   },
   {
    "duration": 266,
    "start_time": "2021-11-06T11:55:14.826Z"
   },
   {
    "duration": 485,
    "start_time": "2021-11-06T11:55:15.093Z"
   },
   {
    "duration": 8,
    "start_time": "2021-11-06T11:55:15.580Z"
   },
   {
    "duration": 19,
    "start_time": "2021-11-06T11:55:15.589Z"
   },
   {
    "duration": 12,
    "start_time": "2021-11-06T11:55:15.609Z"
   },
   {
    "duration": 7,
    "start_time": "2021-11-06T11:55:15.623Z"
   },
   {
    "duration": 28,
    "start_time": "2021-11-06T11:55:15.631Z"
   },
   {
    "duration": 10,
    "start_time": "2021-11-06T11:55:15.661Z"
   },
   {
    "duration": 555,
    "start_time": "2021-11-06T11:55:15.673Z"
   },
   {
    "duration": 9,
    "start_time": "2021-11-06T11:55:16.229Z"
   },
   {
    "duration": 19,
    "start_time": "2021-11-06T11:55:16.240Z"
   },
   {
    "duration": 3,
    "start_time": "2021-11-06T11:55:16.261Z"
   },
   {
    "duration": 6,
    "start_time": "2021-11-06T11:55:16.266Z"
   },
   {
    "duration": 274,
    "start_time": "2021-11-06T11:55:16.276Z"
   },
   {
    "duration": 8,
    "start_time": "2021-11-06T11:55:16.552Z"
   },
   {
    "duration": 361,
    "start_time": "2021-11-06T11:55:16.562Z"
   },
   {
    "duration": 8,
    "start_time": "2021-11-06T11:55:16.925Z"
   },
   {
    "duration": 6,
    "start_time": "2021-11-06T11:55:16.934Z"
   },
   {
    "duration": 17,
    "start_time": "2021-11-06T11:55:16.941Z"
   },
   {
    "duration": 224,
    "start_time": "2021-11-06T11:55:16.960Z"
   },
   {
    "duration": 7,
    "start_time": "2021-11-06T11:55:17.186Z"
   },
   {
    "duration": 384,
    "start_time": "2021-11-06T11:55:17.195Z"
   },
   {
    "duration": 10,
    "start_time": "2021-11-06T11:55:17.581Z"
   },
   {
    "duration": 241,
    "start_time": "2021-11-06T11:55:17.606Z"
   },
   {
    "duration": 6,
    "start_time": "2021-11-06T11:55:17.849Z"
   },
   {
    "duration": 255,
    "start_time": "2021-11-06T11:55:17.857Z"
   },
   {
    "duration": 585,
    "start_time": "2021-11-06T11:55:18.114Z"
   },
   {
    "duration": 10,
    "start_time": "2021-11-06T11:55:18.705Z"
   },
   {
    "duration": 9,
    "start_time": "2021-11-06T11:55:18.717Z"
   },
   {
    "duration": 92,
    "start_time": "2021-11-06T11:55:18.728Z"
   },
   {
    "duration": 12,
    "start_time": "2021-11-06T11:55:18.822Z"
   },
   {
    "duration": 25,
    "start_time": "2021-11-06T11:55:18.837Z"
   },
   {
    "duration": 44,
    "start_time": "2021-11-06T11:55:18.864Z"
   },
   {
    "duration": 21,
    "start_time": "2021-11-06T11:55:18.910Z"
   },
   {
    "duration": 177,
    "start_time": "2021-11-06T11:55:18.933Z"
   },
   {
    "duration": 168,
    "start_time": "2021-11-06T11:55:19.112Z"
   },
   {
    "duration": 30,
    "start_time": "2021-11-06T11:55:19.282Z"
   },
   {
    "duration": 7,
    "start_time": "2021-11-06T11:55:19.314Z"
   },
   {
    "duration": 6,
    "start_time": "2021-11-06T11:55:19.323Z"
   },
   {
    "duration": 305,
    "start_time": "2021-11-06T11:55:19.331Z"
   },
   {
    "duration": 5,
    "start_time": "2021-11-06T11:55:19.637Z"
   },
   {
    "duration": 25,
    "start_time": "2021-11-06T11:55:19.644Z"
   },
   {
    "duration": 48,
    "start_time": "2021-11-06T11:55:19.671Z"
   },
   {
    "duration": 75,
    "start_time": "2021-11-06T11:55:19.721Z"
   },
   {
    "duration": 250,
    "start_time": "2021-11-06T11:55:49.186Z"
   },
   {
    "duration": 728,
    "start_time": "2021-11-06T12:03:13.290Z"
   },
   {
    "duration": 71,
    "start_time": "2021-11-06T12:03:14.019Z"
   },
   {
    "duration": 32,
    "start_time": "2021-11-06T12:03:14.092Z"
   },
   {
    "duration": 31,
    "start_time": "2021-11-06T12:03:14.125Z"
   },
   {
    "duration": 31,
    "start_time": "2021-11-06T12:03:14.158Z"
   },
   {
    "duration": 18,
    "start_time": "2021-11-06T12:03:14.191Z"
   },
   {
    "duration": 9,
    "start_time": "2021-11-06T12:03:14.211Z"
   },
   {
    "duration": 17,
    "start_time": "2021-11-06T12:03:14.223Z"
   },
   {
    "duration": 36,
    "start_time": "2021-11-06T12:03:14.242Z"
   },
   {
    "duration": 292,
    "start_time": "2021-11-06T12:03:14.280Z"
   },
   {
    "duration": 597,
    "start_time": "2021-11-06T12:03:14.573Z"
   },
   {
    "duration": 9,
    "start_time": "2021-11-06T12:03:15.172Z"
   },
   {
    "duration": 23,
    "start_time": "2021-11-06T12:03:15.183Z"
   },
   {
    "duration": 12,
    "start_time": "2021-11-06T12:03:15.208Z"
   },
   {
    "duration": 5,
    "start_time": "2021-11-06T12:03:15.222Z"
   },
   {
    "duration": 36,
    "start_time": "2021-11-06T12:03:15.229Z"
   },
   {
    "duration": 12,
    "start_time": "2021-11-06T12:03:15.267Z"
   },
   {
    "duration": 560,
    "start_time": "2021-11-06T12:03:15.281Z"
   },
   {
    "duration": 8,
    "start_time": "2021-11-06T12:03:15.843Z"
   },
   {
    "duration": 19,
    "start_time": "2021-11-06T12:03:15.853Z"
   },
   {
    "duration": 3,
    "start_time": "2021-11-06T12:03:15.874Z"
   },
   {
    "duration": 8,
    "start_time": "2021-11-06T12:03:15.879Z"
   },
   {
    "duration": 272,
    "start_time": "2021-11-06T12:03:15.891Z"
   },
   {
    "duration": 10,
    "start_time": "2021-11-06T12:03:16.165Z"
   },
   {
    "duration": 277,
    "start_time": "2021-11-06T12:03:16.177Z"
   },
   {
    "duration": 9,
    "start_time": "2021-11-06T12:03:16.456Z"
   },
   {
    "duration": 5,
    "start_time": "2021-11-06T12:03:16.467Z"
   },
   {
    "duration": 38,
    "start_time": "2021-11-06T12:03:16.474Z"
   },
   {
    "duration": 200,
    "start_time": "2021-11-06T12:03:16.514Z"
   },
   {
    "duration": 9,
    "start_time": "2021-11-06T12:03:16.716Z"
   },
   {
    "duration": 372,
    "start_time": "2021-11-06T12:03:16.727Z"
   },
   {
    "duration": 12,
    "start_time": "2021-11-06T12:03:17.101Z"
   },
   {
    "duration": 229,
    "start_time": "2021-11-06T12:03:17.114Z"
   },
   {
    "duration": 6,
    "start_time": "2021-11-06T12:03:17.345Z"
   },
   {
    "duration": 477,
    "start_time": "2021-11-06T12:03:17.353Z"
   },
   {
    "duration": 655,
    "start_time": "2021-11-06T12:03:17.832Z"
   },
   {
    "duration": 18,
    "start_time": "2021-11-06T12:03:18.489Z"
   },
   {
    "duration": 9,
    "start_time": "2021-11-06T12:03:18.509Z"
   },
   {
    "duration": 86,
    "start_time": "2021-11-06T12:03:18.520Z"
   },
   {
    "duration": 13,
    "start_time": "2021-11-06T12:03:18.608Z"
   },
   {
    "duration": 29,
    "start_time": "2021-11-06T12:03:18.623Z"
   },
   {
    "duration": 23,
    "start_time": "2021-11-06T12:03:18.655Z"
   },
   {
    "duration": 47,
    "start_time": "2021-11-06T12:03:18.680Z"
   },
   {
    "duration": 179,
    "start_time": "2021-11-06T12:03:18.729Z"
   },
   {
    "duration": 233,
    "start_time": "2021-11-06T12:03:18.910Z"
   },
   {
    "duration": 80,
    "start_time": "2021-11-06T12:03:19.145Z"
   },
   {
    "duration": 8,
    "start_time": "2021-11-06T12:03:19.227Z"
   },
   {
    "duration": 15,
    "start_time": "2021-11-06T12:03:19.236Z"
   },
   {
    "duration": 338,
    "start_time": "2021-11-06T12:03:19.253Z"
   },
   {
    "duration": 15,
    "start_time": "2021-11-06T12:03:19.592Z"
   },
   {
    "duration": 44,
    "start_time": "2021-11-06T12:03:19.609Z"
   },
   {
    "duration": 36,
    "start_time": "2021-11-06T12:03:19.655Z"
   },
   {
    "duration": 76,
    "start_time": "2021-11-06T12:03:19.692Z"
   },
   {
    "duration": 435,
    "start_time": "2021-11-06T12:03:56.287Z"
   },
   {
    "duration": 926,
    "start_time": "2021-11-06T15:00:35.268Z"
   },
   {
    "duration": 101,
    "start_time": "2021-11-06T15:00:36.197Z"
   },
   {
    "duration": 66,
    "start_time": "2021-11-06T15:00:36.301Z"
   },
   {
    "duration": 15,
    "start_time": "2021-11-06T15:00:36.370Z"
   },
   {
    "duration": 76,
    "start_time": "2021-11-06T15:00:36.388Z"
   },
   {
    "duration": 11,
    "start_time": "2021-11-06T15:00:36.466Z"
   },
   {
    "duration": 15,
    "start_time": "2021-11-06T15:00:36.480Z"
   },
   {
    "duration": 47,
    "start_time": "2021-11-06T15:00:36.498Z"
   },
   {
    "duration": 61,
    "start_time": "2021-11-06T15:00:36.549Z"
   },
   {
    "duration": 496,
    "start_time": "2021-11-06T15:00:36.628Z"
   },
   {
    "duration": 1124,
    "start_time": "2021-11-06T15:00:37.129Z"
   },
   {
    "duration": 12,
    "start_time": "2021-11-06T15:00:38.257Z"
   },
   {
    "duration": 12,
    "start_time": "2021-11-06T15:00:38.271Z"
   },
   {
    "duration": 51,
    "start_time": "2021-11-06T15:00:38.285Z"
   },
   {
    "duration": 13,
    "start_time": "2021-11-06T15:00:38.340Z"
   },
   {
    "duration": 35,
    "start_time": "2021-11-06T15:00:38.357Z"
   },
   {
    "duration": 17,
    "start_time": "2021-11-06T15:00:38.395Z"
   },
   {
    "duration": 1062,
    "start_time": "2021-11-06T15:00:38.414Z"
   },
   {
    "duration": 11,
    "start_time": "2021-11-06T15:00:39.479Z"
   },
   {
    "duration": 39,
    "start_time": "2021-11-06T15:00:39.492Z"
   },
   {
    "duration": 9,
    "start_time": "2021-11-06T15:00:39.537Z"
   },
   {
    "duration": 9,
    "start_time": "2021-11-06T15:00:39.551Z"
   },
   {
    "duration": 493,
    "start_time": "2021-11-06T15:00:39.568Z"
   },
   {
    "duration": 11,
    "start_time": "2021-11-06T15:00:40.065Z"
   },
   {
    "duration": 515,
    "start_time": "2021-11-06T15:00:40.079Z"
   },
   {
    "duration": 12,
    "start_time": "2021-11-06T15:00:40.596Z"
   },
   {
    "duration": 32,
    "start_time": "2021-11-06T15:00:40.610Z"
   },
   {
    "duration": 23,
    "start_time": "2021-11-06T15:00:40.648Z"
   },
   {
    "duration": 418,
    "start_time": "2021-11-06T15:00:40.673Z"
   },
   {
    "duration": 13,
    "start_time": "2021-11-06T15:00:41.094Z"
   },
   {
    "duration": 723,
    "start_time": "2021-11-06T15:00:41.130Z"
   },
   {
    "duration": 15,
    "start_time": "2021-11-06T15:00:41.856Z"
   },
   {
    "duration": 433,
    "start_time": "2021-11-06T15:00:41.874Z"
   },
   {
    "duration": 28,
    "start_time": "2021-11-06T15:00:42.310Z"
   },
   {
    "duration": 437,
    "start_time": "2021-11-06T15:00:42.341Z"
   },
   {
    "duration": 1208,
    "start_time": "2021-11-06T15:00:42.781Z"
   },
   {
    "duration": 13,
    "start_time": "2021-11-06T15:00:43.991Z"
   },
   {
    "duration": 33,
    "start_time": "2021-11-06T15:00:44.006Z"
   },
   {
    "duration": 122,
    "start_time": "2021-11-06T15:00:44.043Z"
   },
   {
    "duration": 15,
    "start_time": "2021-11-06T15:00:44.168Z"
   },
   {
    "duration": 59,
    "start_time": "2021-11-06T15:00:44.185Z"
   },
   {
    "duration": 39,
    "start_time": "2021-11-06T15:00:44.246Z"
   },
   {
    "duration": 70,
    "start_time": "2021-11-06T15:00:44.287Z"
   },
   {
    "duration": 289,
    "start_time": "2021-11-06T15:00:44.359Z"
   },
   {
    "duration": 288,
    "start_time": "2021-11-06T15:00:44.651Z"
   },
   {
    "duration": 37,
    "start_time": "2021-11-06T15:00:44.942Z"
   },
   {
    "duration": 10,
    "start_time": "2021-11-06T15:00:44.981Z"
   },
   {
    "duration": 48,
    "start_time": "2021-11-06T15:00:44.993Z"
   },
   {
    "duration": 369,
    "start_time": "2021-11-06T15:00:45.045Z"
   },
   {
    "duration": 15,
    "start_time": "2021-11-06T15:00:45.417Z"
   },
   {
    "duration": 42,
    "start_time": "2021-11-06T15:00:45.435Z"
   },
   {
    "duration": 76,
    "start_time": "2021-11-06T15:00:45.479Z"
   },
   {
    "duration": 128,
    "start_time": "2021-11-06T15:00:45.558Z"
   },
   {
    "duration": 485,
    "start_time": "2021-11-06T15:02:54.069Z"
   },
   {
    "duration": 418,
    "start_time": "2021-11-06T15:03:07.029Z"
   },
   {
    "duration": 411,
    "start_time": "2021-11-06T15:03:27.530Z"
   },
   {
    "duration": 850,
    "start_time": "2021-11-06T15:03:36.785Z"
   },
   {
    "duration": 686,
    "start_time": "2021-11-06T15:04:19.013Z"
   },
   {
    "duration": 1550,
    "start_time": "2021-11-06T15:04:36.179Z"
   },
   {
    "duration": 109,
    "start_time": "2021-11-06T15:04:37.737Z"
   },
   {
    "duration": 62,
    "start_time": "2021-11-06T15:04:37.850Z"
   },
   {
    "duration": 30,
    "start_time": "2021-11-06T15:04:37.929Z"
   },
   {
    "duration": 44,
    "start_time": "2021-11-06T15:04:37.962Z"
   },
   {
    "duration": 38,
    "start_time": "2021-11-06T15:04:38.008Z"
   },
   {
    "duration": 14,
    "start_time": "2021-11-06T15:04:38.049Z"
   },
   {
    "duration": 21,
    "start_time": "2021-11-06T15:04:38.066Z"
   },
   {
    "duration": 103,
    "start_time": "2021-11-06T15:04:38.090Z"
   },
   {
    "duration": 497,
    "start_time": "2021-11-06T15:04:38.196Z"
   },
   {
    "duration": 941,
    "start_time": "2021-11-06T15:04:37.756Z"
   },
   {
    "duration": 934,
    "start_time": "2021-11-06T15:04:37.764Z"
   },
   {
    "duration": 927,
    "start_time": "2021-11-06T15:04:37.773Z"
   },
   {
    "duration": 923,
    "start_time": "2021-11-06T15:04:37.778Z"
   },
   {
    "duration": 918,
    "start_time": "2021-11-06T15:04:37.784Z"
   },
   {
    "duration": 916,
    "start_time": "2021-11-06T15:04:37.788Z"
   },
   {
    "duration": 912,
    "start_time": "2021-11-06T15:04:37.793Z"
   },
   {
    "duration": 909,
    "start_time": "2021-11-06T15:04:37.797Z"
   },
   {
    "duration": 906,
    "start_time": "2021-11-06T15:04:37.802Z"
   },
   {
    "duration": 903,
    "start_time": "2021-11-06T15:04:37.806Z"
   },
   {
    "duration": 900,
    "start_time": "2021-11-06T15:04:37.811Z"
   },
   {
    "duration": 898,
    "start_time": "2021-11-06T15:04:37.815Z"
   },
   {
    "duration": 894,
    "start_time": "2021-11-06T15:04:37.820Z"
   },
   {
    "duration": 891,
    "start_time": "2021-11-06T15:04:37.824Z"
   },
   {
    "duration": 888,
    "start_time": "2021-11-06T15:04:37.829Z"
   },
   {
    "duration": 875,
    "start_time": "2021-11-06T15:04:37.843Z"
   },
   {
    "duration": 872,
    "start_time": "2021-11-06T15:04:37.848Z"
   },
   {
    "duration": 868,
    "start_time": "2021-11-06T15:04:37.853Z"
   },
   {
    "duration": 864,
    "start_time": "2021-11-06T15:04:37.858Z"
   },
   {
    "duration": 860,
    "start_time": "2021-11-06T15:04:37.863Z"
   },
   {
    "duration": 856,
    "start_time": "2021-11-06T15:04:37.868Z"
   },
   {
    "duration": 854,
    "start_time": "2021-11-06T15:04:37.872Z"
   },
   {
    "duration": 849,
    "start_time": "2021-11-06T15:04:37.878Z"
   },
   {
    "duration": 845,
    "start_time": "2021-11-06T15:04:37.883Z"
   },
   {
    "duration": 842,
    "start_time": "2021-11-06T15:04:37.887Z"
   },
   {
    "duration": 838,
    "start_time": "2021-11-06T15:04:37.892Z"
   },
   {
    "duration": 835,
    "start_time": "2021-11-06T15:04:37.896Z"
   },
   {
    "duration": 836,
    "start_time": "2021-11-06T15:04:37.901Z"
   },
   {
    "duration": 833,
    "start_time": "2021-11-06T15:04:37.905Z"
   },
   {
    "duration": 831,
    "start_time": "2021-11-06T15:04:37.910Z"
   },
   {
    "duration": 829,
    "start_time": "2021-11-06T15:04:37.915Z"
   },
   {
    "duration": 824,
    "start_time": "2021-11-06T15:04:37.921Z"
   },
   {
    "duration": 821,
    "start_time": "2021-11-06T15:04:37.926Z"
   },
   {
    "duration": 818,
    "start_time": "2021-11-06T15:04:37.931Z"
   },
   {
    "duration": 815,
    "start_time": "2021-11-06T15:04:37.936Z"
   },
   {
    "duration": 799,
    "start_time": "2021-11-06T15:04:37.955Z"
   },
   {
    "duration": 795,
    "start_time": "2021-11-06T15:04:37.961Z"
   },
   {
    "duration": 793,
    "start_time": "2021-11-06T15:04:37.965Z"
   },
   {
    "duration": 788,
    "start_time": "2021-11-06T15:04:37.971Z"
   },
   {
    "duration": 786,
    "start_time": "2021-11-06T15:04:37.975Z"
   },
   {
    "duration": 783,
    "start_time": "2021-11-06T15:04:37.980Z"
   },
   {
    "duration": 777,
    "start_time": "2021-11-06T15:04:37.987Z"
   },
   {
    "duration": 775,
    "start_time": "2021-11-06T15:04:37.991Z"
   },
   {
    "duration": 277,
    "start_time": "2021-11-06T15:05:07.886Z"
   },
   {
    "duration": 317,
    "start_time": "2021-11-06T15:05:37.926Z"
   },
   {
    "duration": 263,
    "start_time": "2021-11-06T15:05:46.302Z"
   },
   {
    "duration": 1879,
    "start_time": "2021-11-06T15:06:47.447Z"
   },
   {
    "duration": 116,
    "start_time": "2021-11-06T15:06:49.330Z"
   },
   {
    "duration": 79,
    "start_time": "2021-11-06T15:06:49.450Z"
   },
   {
    "duration": 25,
    "start_time": "2021-11-06T15:06:49.532Z"
   },
   {
    "duration": 45,
    "start_time": "2021-11-06T15:06:49.560Z"
   },
   {
    "duration": 20,
    "start_time": "2021-11-06T15:06:49.636Z"
   },
   {
    "duration": 26,
    "start_time": "2021-11-06T15:06:49.661Z"
   },
   {
    "duration": 21,
    "start_time": "2021-11-06T15:06:49.691Z"
   },
   {
    "duration": 100,
    "start_time": "2021-11-06T15:06:49.729Z"
   },
   {
    "duration": 532,
    "start_time": "2021-11-06T15:06:49.833Z"
   },
   {
    "duration": 954,
    "start_time": "2021-11-06T15:06:49.416Z"
   },
   {
    "duration": 949,
    "start_time": "2021-11-06T15:06:49.422Z"
   },
   {
    "duration": 947,
    "start_time": "2021-11-06T15:06:49.426Z"
   },
   {
    "duration": 942,
    "start_time": "2021-11-06T15:06:49.433Z"
   },
   {
    "duration": 940,
    "start_time": "2021-11-06T15:06:49.438Z"
   },
   {
    "duration": 936,
    "start_time": "2021-11-06T15:06:49.443Z"
   },
   {
    "duration": 933,
    "start_time": "2021-11-06T15:06:49.448Z"
   },
   {
    "duration": 931,
    "start_time": "2021-11-06T15:06:49.453Z"
   },
   {
    "duration": 927,
    "start_time": "2021-11-06T15:06:49.458Z"
   },
   {
    "duration": 924,
    "start_time": "2021-11-06T15:06:49.463Z"
   },
   {
    "duration": 921,
    "start_time": "2021-11-06T15:06:49.468Z"
   },
   {
    "duration": 918,
    "start_time": "2021-11-06T15:06:49.473Z"
   },
   {
    "duration": 916,
    "start_time": "2021-11-06T15:06:49.477Z"
   },
   {
    "duration": 913,
    "start_time": "2021-11-06T15:06:49.482Z"
   },
   {
    "duration": 903,
    "start_time": "2021-11-06T15:06:49.494Z"
   },
   {
    "duration": 898,
    "start_time": "2021-11-06T15:06:49.501Z"
   },
   {
    "duration": 896,
    "start_time": "2021-11-06T15:06:49.505Z"
   },
   {
    "duration": 892,
    "start_time": "2021-11-06T15:06:49.511Z"
   },
   {
    "duration": 887,
    "start_time": "2021-11-06T15:06:49.518Z"
   },
   {
    "duration": 881,
    "start_time": "2021-11-06T15:06:49.525Z"
   },
   {
    "duration": 904,
    "start_time": "2021-11-06T15:06:49.529Z"
   },
   {
    "duration": 901,
    "start_time": "2021-11-06T15:06:49.534Z"
   },
   {
    "duration": 898,
    "start_time": "2021-11-06T15:06:49.539Z"
   },
   {
    "duration": 895,
    "start_time": "2021-11-06T15:06:49.544Z"
   },
   {
    "duration": 891,
    "start_time": "2021-11-06T15:06:49.549Z"
   },
   {
    "duration": 888,
    "start_time": "2021-11-06T15:06:49.554Z"
   },
   {
    "duration": 885,
    "start_time": "2021-11-06T15:06:49.558Z"
   },
   {
    "duration": 794,
    "start_time": "2021-11-06T15:06:49.651Z"
   },
   {
    "duration": 753,
    "start_time": "2021-11-06T15:06:49.695Z"
   },
   {
    "duration": 748,
    "start_time": "2021-11-06T15:06:49.702Z"
   },
   {
    "duration": 747,
    "start_time": "2021-11-06T15:06:49.706Z"
   },
   {
    "duration": 745,
    "start_time": "2021-11-06T15:06:49.710Z"
   },
   {
    "duration": 743,
    "start_time": "2021-11-06T15:06:49.714Z"
   },
   {
    "duration": 741,
    "start_time": "2021-11-06T15:06:49.719Z"
   },
   {
    "duration": 739,
    "start_time": "2021-11-06T15:06:49.723Z"
   },
   {
    "duration": 736,
    "start_time": "2021-11-06T15:06:49.728Z"
   },
   {
    "duration": 734,
    "start_time": "2021-11-06T15:06:49.732Z"
   },
   {
    "duration": 727,
    "start_time": "2021-11-06T15:06:49.742Z"
   },
   {
    "duration": 720,
    "start_time": "2021-11-06T15:06:49.751Z"
   },
   {
    "duration": 699,
    "start_time": "2021-11-06T15:06:49.774Z"
   },
   {
    "duration": 697,
    "start_time": "2021-11-06T15:06:49.778Z"
   },
   {
    "duration": 693,
    "start_time": "2021-11-06T15:06:49.783Z"
   },
   {
    "duration": 742,
    "start_time": "2021-11-06T15:06:49.787Z"
   },
   {
    "duration": 473,
    "start_time": "2021-11-06T15:09:10.201Z"
   },
   {
    "duration": 477,
    "start_time": "2021-11-06T15:09:25.022Z"
   },
   {
    "duration": 1247,
    "start_time": "2021-11-06T15:09:34.442Z"
   },
   {
    "duration": 95,
    "start_time": "2021-11-06T15:10:39.872Z"
   },
   {
    "duration": 274,
    "start_time": "2021-11-06T15:10:45.347Z"
   },
   {
    "duration": 656,
    "start_time": "2021-11-06T15:10:54.771Z"
   },
   {
    "duration": 260,
    "start_time": "2021-11-06T15:11:45.618Z"
   },
   {
    "duration": 494,
    "start_time": "2021-11-06T15:12:19.882Z"
   },
   {
    "duration": 478,
    "start_time": "2021-11-06T15:12:48.283Z"
   },
   {
    "duration": 257,
    "start_time": "2021-11-06T15:16:48.805Z"
   },
   {
    "duration": 80,
    "start_time": "2021-11-06T15:17:34.228Z"
   },
   {
    "duration": 285,
    "start_time": "2021-11-06T15:17:39.164Z"
   },
   {
    "duration": 3,
    "start_time": "2021-11-06T15:57:59.780Z"
   },
   {
    "duration": 1491,
    "start_time": "2021-11-06T15:58:14.475Z"
   },
   {
    "duration": 102,
    "start_time": "2021-11-06T15:58:15.969Z"
   },
   {
    "duration": 59,
    "start_time": "2021-11-06T15:58:16.075Z"
   },
   {
    "duration": 26,
    "start_time": "2021-11-06T15:58:16.138Z"
   },
   {
    "duration": 72,
    "start_time": "2021-11-06T15:58:16.167Z"
   },
   {
    "duration": 19,
    "start_time": "2021-11-06T15:58:16.251Z"
   },
   {
    "duration": 12,
    "start_time": "2021-11-06T15:58:16.273Z"
   },
   {
    "duration": 18,
    "start_time": "2021-11-06T15:58:16.288Z"
   },
   {
    "duration": 91,
    "start_time": "2021-11-06T15:58:16.309Z"
   },
   {
    "duration": 448,
    "start_time": "2021-11-06T15:58:16.402Z"
   },
   {
    "duration": 1091,
    "start_time": "2021-11-06T15:58:15.766Z"
   },
   {
    "duration": 1088,
    "start_time": "2021-11-06T15:58:15.771Z"
   },
   {
    "duration": 1084,
    "start_time": "2021-11-06T15:58:15.776Z"
   },
   {
    "duration": 1080,
    "start_time": "2021-11-06T15:58:15.782Z"
   },
   {
    "duration": 1076,
    "start_time": "2021-11-06T15:58:15.787Z"
   },
   {
    "duration": 1073,
    "start_time": "2021-11-06T15:58:15.792Z"
   },
   {
    "duration": 1069,
    "start_time": "2021-11-06T15:58:15.797Z"
   },
   {
    "duration": 1065,
    "start_time": "2021-11-06T15:58:15.802Z"
   },
   {
    "duration": 1062,
    "start_time": "2021-11-06T15:58:15.807Z"
   },
   {
    "duration": 1057,
    "start_time": "2021-11-06T15:58:15.813Z"
   },
   {
    "duration": 1053,
    "start_time": "2021-11-06T15:58:15.818Z"
   },
   {
    "duration": 1050,
    "start_time": "2021-11-06T15:58:15.823Z"
   },
   {
    "duration": 1046,
    "start_time": "2021-11-06T15:58:15.828Z"
   },
   {
    "duration": 1042,
    "start_time": "2021-11-06T15:58:15.833Z"
   },
   {
    "duration": 1038,
    "start_time": "2021-11-06T15:58:15.838Z"
   },
   {
    "duration": 1024,
    "start_time": "2021-11-06T15:58:15.853Z"
   },
   {
    "duration": 1021,
    "start_time": "2021-11-06T15:58:15.858Z"
   },
   {
    "duration": 1017,
    "start_time": "2021-11-06T15:58:15.863Z"
   },
   {
    "duration": 1013,
    "start_time": "2021-11-06T15:58:15.868Z"
   },
   {
    "duration": 1010,
    "start_time": "2021-11-06T15:58:15.872Z"
   },
   {
    "duration": 1006,
    "start_time": "2021-11-06T15:58:15.877Z"
   },
   {
    "duration": 1002,
    "start_time": "2021-11-06T15:58:15.882Z"
   },
   {
    "duration": 997,
    "start_time": "2021-11-06T15:58:15.889Z"
   },
   {
    "duration": 994,
    "start_time": "2021-11-06T15:58:15.893Z"
   },
   {
    "duration": 990,
    "start_time": "2021-11-06T15:58:15.898Z"
   },
   {
    "duration": 986,
    "start_time": "2021-11-06T15:58:15.903Z"
   },
   {
    "duration": 981,
    "start_time": "2021-11-06T15:58:15.909Z"
   },
   {
    "duration": 978,
    "start_time": "2021-11-06T15:58:15.913Z"
   },
   {
    "duration": 1013,
    "start_time": "2021-11-06T15:58:15.919Z"
   },
   {
    "duration": 1011,
    "start_time": "2021-11-06T15:58:15.923Z"
   },
   {
    "duration": 1008,
    "start_time": "2021-11-06T15:58:15.929Z"
   },
   {
    "duration": 1006,
    "start_time": "2021-11-06T15:58:15.933Z"
   },
   {
    "duration": 994,
    "start_time": "2021-11-06T15:58:15.948Z"
   },
   {
    "duration": 995,
    "start_time": "2021-11-06T15:58:15.953Z"
   },
   {
    "duration": 991,
    "start_time": "2021-11-06T15:58:15.959Z"
   },
   {
    "duration": 980,
    "start_time": "2021-11-06T15:58:15.972Z"
   },
   {
    "duration": 946,
    "start_time": "2021-11-06T15:58:16.007Z"
   },
   {
    "duration": 944,
    "start_time": "2021-11-06T15:58:16.011Z"
   },
   {
    "duration": 937,
    "start_time": "2021-11-06T15:58:16.020Z"
   },
   {
    "duration": 929,
    "start_time": "2021-11-06T15:58:16.029Z"
   },
   {
    "duration": 923,
    "start_time": "2021-11-06T15:58:16.037Z"
   },
   {
    "duration": 918,
    "start_time": "2021-11-06T15:58:16.044Z"
   },
   {
    "duration": 908,
    "start_time": "2021-11-06T15:58:16.056Z"
   },
   {
    "duration": 469,
    "start_time": "2021-11-06T15:58:31.770Z"
   },
   {
    "duration": 463,
    "start_time": "2021-11-06T15:58:59.735Z"
   },
   {
    "duration": 639,
    "start_time": "2021-11-06T16:00:32.036Z"
   },
   {
    "duration": 465,
    "start_time": "2021-11-06T16:00:56.132Z"
   },
   {
    "duration": 87,
    "start_time": "2021-11-06T16:01:25.519Z"
   },
   {
    "duration": 279,
    "start_time": "2021-11-06T16:01:39.312Z"
   },
   {
    "duration": 974,
    "start_time": "2021-11-06T16:03:39.093Z"
   },
   {
    "duration": 112,
    "start_time": "2021-11-06T16:03:40.071Z"
   },
   {
    "duration": 74,
    "start_time": "2021-11-06T16:03:40.185Z"
   },
   {
    "duration": 16,
    "start_time": "2021-11-06T16:03:40.265Z"
   },
   {
    "duration": 62,
    "start_time": "2021-11-06T16:03:40.284Z"
   },
   {
    "duration": 19,
    "start_time": "2021-11-06T16:03:40.349Z"
   },
   {
    "duration": 12,
    "start_time": "2021-11-06T16:03:40.371Z"
   },
   {
    "duration": 51,
    "start_time": "2021-11-06T16:03:40.387Z"
   },
   {
    "duration": 66,
    "start_time": "2021-11-06T16:03:40.446Z"
   },
   {
    "duration": 350,
    "start_time": "2021-11-06T16:03:40.514Z"
   },
   {
    "duration": 1131,
    "start_time": "2021-11-06T16:03:39.737Z"
   },
   {
    "duration": 1123,
    "start_time": "2021-11-06T16:03:39.746Z"
   },
   {
    "duration": 1120,
    "start_time": "2021-11-06T16:03:39.750Z"
   },
   {
    "duration": 1117,
    "start_time": "2021-11-06T16:03:39.755Z"
   },
   {
    "duration": 1111,
    "start_time": "2021-11-06T16:03:39.762Z"
   },
   {
    "duration": 1106,
    "start_time": "2021-11-06T16:03:39.769Z"
   },
   {
    "duration": 1101,
    "start_time": "2021-11-06T16:03:39.775Z"
   },
   {
    "duration": 1095,
    "start_time": "2021-11-06T16:03:39.783Z"
   },
   {
    "duration": 1090,
    "start_time": "2021-11-06T16:03:39.789Z"
   },
   {
    "duration": 1086,
    "start_time": "2021-11-06T16:03:39.795Z"
   },
   {
    "duration": 1081,
    "start_time": "2021-11-06T16:03:39.801Z"
   },
   {
    "duration": 1076,
    "start_time": "2021-11-06T16:03:39.807Z"
   },
   {
    "duration": 1072,
    "start_time": "2021-11-06T16:03:39.813Z"
   },
   {
    "duration": 1068,
    "start_time": "2021-11-06T16:03:39.818Z"
   },
   {
    "duration": 1066,
    "start_time": "2021-11-06T16:03:39.822Z"
   },
   {
    "duration": 1062,
    "start_time": "2021-11-06T16:03:39.827Z"
   },
   {
    "duration": 1060,
    "start_time": "2021-11-06T16:03:39.831Z"
   },
   {
    "duration": 1056,
    "start_time": "2021-11-06T16:03:39.836Z"
   },
   {
    "duration": 1040,
    "start_time": "2021-11-06T16:03:39.853Z"
   },
   {
    "duration": 1037,
    "start_time": "2021-11-06T16:03:39.858Z"
   },
   {
    "duration": 1033,
    "start_time": "2021-11-06T16:03:39.863Z"
   },
   {
    "duration": 1029,
    "start_time": "2021-11-06T16:03:39.869Z"
   },
   {
    "duration": 1024,
    "start_time": "2021-11-06T16:03:39.875Z"
   },
   {
    "duration": 1020,
    "start_time": "2021-11-06T16:03:39.880Z"
   },
   {
    "duration": 1017,
    "start_time": "2021-11-06T16:03:39.884Z"
   },
   {
    "duration": 1014,
    "start_time": "2021-11-06T16:03:39.889Z"
   },
   {
    "duration": 1011,
    "start_time": "2021-11-06T16:03:39.893Z"
   },
   {
    "duration": 1036,
    "start_time": "2021-11-06T16:03:39.899Z"
   },
   {
    "duration": 1037,
    "start_time": "2021-11-06T16:03:39.903Z"
   },
   {
    "duration": 1034,
    "start_time": "2021-11-06T16:03:39.909Z"
   },
   {
    "duration": 1030,
    "start_time": "2021-11-06T16:03:39.914Z"
   },
   {
    "duration": 1028,
    "start_time": "2021-11-06T16:03:39.919Z"
   },
   {
    "duration": 940,
    "start_time": "2021-11-06T16:03:40.009Z"
   },
   {
    "duration": 936,
    "start_time": "2021-11-06T16:03:40.015Z"
   },
   {
    "duration": 935,
    "start_time": "2021-11-06T16:03:40.019Z"
   },
   {
    "duration": 920,
    "start_time": "2021-11-06T16:03:40.037Z"
   },
   {
    "duration": 917,
    "start_time": "2021-11-06T16:03:40.042Z"
   },
   {
    "duration": 914,
    "start_time": "2021-11-06T16:03:40.048Z"
   },
   {
    "duration": 905,
    "start_time": "2021-11-06T16:03:40.059Z"
   },
   {
    "duration": 889,
    "start_time": "2021-11-06T16:03:40.078Z"
   },
   {
    "duration": 885,
    "start_time": "2021-11-06T16:03:40.084Z"
   },
   {
    "duration": 882,
    "start_time": "2021-11-06T16:03:40.089Z"
   },
   {
    "duration": 880,
    "start_time": "2021-11-06T16:03:40.093Z"
   },
   {
    "duration": 1236,
    "start_time": "2021-11-06T16:03:54.161Z"
   },
   {
    "duration": 906,
    "start_time": "2021-11-06T16:04:17.754Z"
   },
   {
    "duration": 1507,
    "start_time": "2021-11-06T16:04:29.893Z"
   },
   {
    "duration": 1009,
    "start_time": "2021-11-06T16:04:37.553Z"
   },
   {
    "duration": 901,
    "start_time": "2021-11-06T16:04:45.562Z"
   },
   {
    "duration": 1181,
    "start_time": "2021-11-06T16:04:56.063Z"
   },
   {
    "duration": 998,
    "start_time": "2021-11-06T16:05:05.462Z"
   },
   {
    "duration": 681,
    "start_time": "2021-11-06T16:06:49.406Z"
   },
   {
    "duration": 102,
    "start_time": "2021-11-06T16:06:50.090Z"
   },
   {
    "duration": 64,
    "start_time": "2021-11-06T16:06:50.194Z"
   },
   {
    "duration": 16,
    "start_time": "2021-11-06T16:06:50.262Z"
   },
   {
    "duration": 78,
    "start_time": "2021-11-06T16:06:50.281Z"
   },
   {
    "duration": 14,
    "start_time": "2021-11-06T16:06:50.362Z"
   },
   {
    "duration": 14,
    "start_time": "2021-11-06T16:06:50.379Z"
   },
   {
    "duration": 63,
    "start_time": "2021-11-06T16:06:50.399Z"
   },
   {
    "duration": 86,
    "start_time": "2021-11-06T16:06:50.466Z"
   },
   {
    "duration": 1041,
    "start_time": "2021-11-06T16:06:50.554Z"
   },
   {
    "duration": 913,
    "start_time": "2021-11-06T16:06:51.597Z"
   },
   {
    "duration": 34,
    "start_time": "2021-11-06T16:06:52.512Z"
   },
   {
    "duration": 15,
    "start_time": "2021-11-06T16:06:52.549Z"
   },
   {
    "duration": 29,
    "start_time": "2021-11-06T16:06:52.566Z"
   },
   {
    "duration": 17,
    "start_time": "2021-11-06T16:06:52.598Z"
   },
   {
    "duration": 41,
    "start_time": "2021-11-06T16:06:52.618Z"
   },
   {
    "duration": 30,
    "start_time": "2021-11-06T16:06:52.662Z"
   },
   {
    "duration": 1104,
    "start_time": "2021-11-06T16:06:52.694Z"
   },
   {
    "duration": 12,
    "start_time": "2021-11-06T16:06:53.800Z"
   },
   {
    "duration": 43,
    "start_time": "2021-11-06T16:06:53.815Z"
   },
   {
    "duration": 6,
    "start_time": "2021-11-06T16:06:53.863Z"
   },
   {
    "duration": 9,
    "start_time": "2021-11-06T16:06:53.871Z"
   },
   {
    "duration": 499,
    "start_time": "2021-11-06T16:06:53.886Z"
   },
   {
    "duration": 14,
    "start_time": "2021-11-06T16:06:54.389Z"
   },
   {
    "duration": 507,
    "start_time": "2021-11-06T16:06:54.405Z"
   },
   {
    "duration": 21,
    "start_time": "2021-11-06T16:06:54.915Z"
   },
   {
    "duration": 11,
    "start_time": "2021-11-06T16:06:54.940Z"
   },
   {
    "duration": 21,
    "start_time": "2021-11-06T16:06:54.955Z"
   },
   {
    "duration": 415,
    "start_time": "2021-11-06T16:06:54.978Z"
   },
   {
    "duration": 11,
    "start_time": "2021-11-06T16:06:55.396Z"
   },
   {
    "duration": 876,
    "start_time": "2021-11-06T16:06:55.409Z"
   },
   {
    "duration": 13,
    "start_time": "2021-11-06T16:06:56.287Z"
   },
   {
    "duration": 408,
    "start_time": "2021-11-06T16:06:56.302Z"
   },
   {
    "duration": 17,
    "start_time": "2021-11-06T16:06:56.712Z"
   },
   {
    "duration": 449,
    "start_time": "2021-11-06T16:06:56.732Z"
   },
   {
    "duration": 1119,
    "start_time": "2021-11-06T16:06:57.183Z"
   },
   {
    "duration": 13,
    "start_time": "2021-11-06T16:06:58.305Z"
   },
   {
    "duration": 14,
    "start_time": "2021-11-06T16:06:58.330Z"
   },
   {
    "duration": 126,
    "start_time": "2021-11-06T16:06:58.350Z"
   },
   {
    "duration": 17,
    "start_time": "2021-11-06T16:06:58.479Z"
   },
   {
    "duration": 68,
    "start_time": "2021-11-06T16:06:58.499Z"
   },
   {
    "duration": 34,
    "start_time": "2021-11-06T16:06:58.570Z"
   },
   {
    "duration": 66,
    "start_time": "2021-11-06T16:06:58.607Z"
   },
   {
    "duration": 299,
    "start_time": "2021-11-06T16:06:58.675Z"
   },
   {
    "duration": 304,
    "start_time": "2021-11-06T16:06:58.977Z"
   },
   {
    "duration": 52,
    "start_time": "2021-11-06T16:06:59.284Z"
   },
   {
    "duration": 18,
    "start_time": "2021-11-06T16:06:59.341Z"
   },
   {
    "duration": 13,
    "start_time": "2021-11-06T16:06:59.364Z"
   },
   {
    "duration": 417,
    "start_time": "2021-11-06T16:06:59.380Z"
   },
   {
    "duration": 6,
    "start_time": "2021-11-06T16:06:59.800Z"
   },
   {
    "duration": 64,
    "start_time": "2021-11-06T16:06:59.808Z"
   },
   {
    "duration": 58,
    "start_time": "2021-11-06T16:06:59.875Z"
   },
   {
    "duration": 132,
    "start_time": "2021-11-06T16:06:59.938Z"
   },
   {
    "duration": 310,
    "start_time": "2021-11-06T16:08:09.616Z"
   },
   {
    "duration": 692,
    "start_time": "2021-11-06T16:08:17.296Z"
   },
   {
    "duration": 83,
    "start_time": "2021-11-06T16:10:05.664Z"
   },
   {
    "duration": 91,
    "start_time": "2021-11-06T16:10:11.125Z"
   },
   {
    "duration": 627,
    "start_time": "2021-11-06T16:10:23.894Z"
   },
   {
    "duration": 858,
    "start_time": "2021-11-06T16:11:04.927Z"
   },
   {
    "duration": 730,
    "start_time": "2021-11-06T16:11:51.225Z"
   },
   {
    "duration": 1020,
    "start_time": "2021-11-06T16:15:35.092Z"
   },
   {
    "duration": 992,
    "start_time": "2021-11-06T16:15:46.796Z"
   },
   {
    "duration": 740,
    "start_time": "2021-11-06T16:15:52.008Z"
   },
   {
    "duration": 1005,
    "start_time": "2021-11-06T16:16:03.927Z"
   },
   {
    "duration": 556,
    "start_time": "2021-11-06T16:17:17.568Z"
   },
   {
    "duration": 916,
    "start_time": "2021-11-06T16:17:59.238Z"
   },
   {
    "duration": 94,
    "start_time": "2021-11-06T16:18:12.548Z"
   },
   {
    "duration": 598,
    "start_time": "2021-11-06T16:18:19.388Z"
   },
   {
    "duration": 1319,
    "start_time": "2021-11-06T16:18:32.878Z"
   },
   {
    "duration": 853,
    "start_time": "2021-11-06T16:18:39.959Z"
   },
   {
    "duration": 573,
    "start_time": "2021-11-06T16:19:07.943Z"
   },
   {
    "duration": 588,
    "start_time": "2021-11-06T16:19:19.161Z"
   },
   {
    "duration": 573,
    "start_time": "2021-11-06T16:19:38.077Z"
   },
   {
    "duration": 525,
    "start_time": "2021-11-06T16:19:59.089Z"
   },
   {
    "duration": 709,
    "start_time": "2021-11-06T16:20:06.947Z"
   },
   {
    "duration": 1596,
    "start_time": "2021-11-06T16:20:27.498Z"
   },
   {
    "duration": 110,
    "start_time": "2021-11-06T16:20:29.097Z"
   },
   {
    "duration": 75,
    "start_time": "2021-11-06T16:20:29.210Z"
   },
   {
    "duration": 15,
    "start_time": "2021-11-06T16:20:29.288Z"
   },
   {
    "duration": 73,
    "start_time": "2021-11-06T16:20:29.305Z"
   },
   {
    "duration": 11,
    "start_time": "2021-11-06T16:20:29.380Z"
   },
   {
    "duration": 28,
    "start_time": "2021-11-06T16:20:29.393Z"
   },
   {
    "duration": 35,
    "start_time": "2021-11-06T16:20:29.435Z"
   },
   {
    "duration": 80,
    "start_time": "2021-11-06T16:20:29.474Z"
   },
   {
    "duration": 691,
    "start_time": "2021-11-06T16:20:29.557Z"
   },
   {
    "duration": 541,
    "start_time": "2021-11-06T16:20:30.252Z"
   },
   {
    "duration": 1387,
    "start_time": "2021-11-06T16:20:30.796Z"
   },
   {
    "duration": 13,
    "start_time": "2021-11-06T16:20:32.185Z"
   },
   {
    "duration": 52,
    "start_time": "2021-11-06T16:20:32.201Z"
   },
   {
    "duration": 19,
    "start_time": "2021-11-06T16:20:32.257Z"
   },
   {
    "duration": 8,
    "start_time": "2021-11-06T16:20:32.279Z"
   },
   {
    "duration": 62,
    "start_time": "2021-11-06T16:20:32.289Z"
   },
   {
    "duration": 21,
    "start_time": "2021-11-06T16:20:32.355Z"
   },
   {
    "duration": 1118,
    "start_time": "2021-11-06T16:20:32.378Z"
   },
   {
    "duration": 11,
    "start_time": "2021-11-06T16:20:33.498Z"
   },
   {
    "duration": 41,
    "start_time": "2021-11-06T16:20:33.511Z"
   },
   {
    "duration": 22,
    "start_time": "2021-11-06T16:20:33.556Z"
   },
   {
    "duration": 6,
    "start_time": "2021-11-06T16:20:33.584Z"
   },
   {
    "duration": 720,
    "start_time": "2021-11-06T16:20:33.593Z"
   },
   {
    "duration": 35,
    "start_time": "2021-11-06T16:20:34.315Z"
   },
   {
    "duration": 748,
    "start_time": "2021-11-06T16:20:34.353Z"
   },
   {
    "duration": 12,
    "start_time": "2021-11-06T16:20:35.103Z"
   },
   {
    "duration": 22,
    "start_time": "2021-11-06T16:20:35.139Z"
   },
   {
    "duration": 22,
    "start_time": "2021-11-06T16:20:35.165Z"
   },
   {
    "duration": 588,
    "start_time": "2021-11-06T16:20:35.190Z"
   },
   {
    "duration": 13,
    "start_time": "2021-11-06T16:20:35.781Z"
   },
   {
    "duration": 908,
    "start_time": "2021-11-06T16:20:35.797Z"
   },
   {
    "duration": 32,
    "start_time": "2021-11-06T16:20:36.707Z"
   },
   {
    "duration": 595,
    "start_time": "2021-11-06T16:20:36.742Z"
   },
   {
    "duration": 11,
    "start_time": "2021-11-06T16:20:37.341Z"
   },
   {
    "duration": 601,
    "start_time": "2021-11-06T16:20:37.354Z"
   },
   {
    "duration": 1460,
    "start_time": "2021-11-06T16:20:37.960Z"
   },
   {
    "duration": 30,
    "start_time": "2021-11-06T16:20:39.423Z"
   },
   {
    "duration": 18,
    "start_time": "2021-11-06T16:20:39.457Z"
   },
   {
    "duration": 134,
    "start_time": "2021-11-06T16:20:39.477Z"
   },
   {
    "duration": 40,
    "start_time": "2021-11-06T16:20:39.614Z"
   },
   {
    "duration": 44,
    "start_time": "2021-11-06T16:20:39.657Z"
   },
   {
    "duration": 68,
    "start_time": "2021-11-06T16:20:39.703Z"
   },
   {
    "duration": 35,
    "start_time": "2021-11-06T16:20:39.774Z"
   },
   {
    "duration": 336,
    "start_time": "2021-11-06T16:20:39.837Z"
   },
   {
    "duration": 336,
    "start_time": "2021-11-06T16:20:40.177Z"
   },
   {
    "duration": 51,
    "start_time": "2021-11-06T16:20:40.516Z"
   },
   {
    "duration": 13,
    "start_time": "2021-11-06T16:20:40.570Z"
   },
   {
    "duration": 13,
    "start_time": "2021-11-06T16:20:40.586Z"
   },
   {
    "duration": 556,
    "start_time": "2021-11-06T16:20:40.640Z"
   },
   {
    "duration": 6,
    "start_time": "2021-11-06T16:20:41.199Z"
   },
   {
    "duration": 66,
    "start_time": "2021-11-06T16:20:41.208Z"
   },
   {
    "duration": 38,
    "start_time": "2021-11-06T16:20:41.276Z"
   },
   {
    "duration": 143,
    "start_time": "2021-11-06T16:20:41.316Z"
   },
   {
    "duration": 333,
    "start_time": "2021-11-06T16:21:44.651Z"
   },
   {
    "duration": 1676,
    "start_time": "2021-11-06T16:21:55.138Z"
   },
   {
    "duration": 109,
    "start_time": "2021-11-06T16:21:56.816Z"
   },
   {
    "duration": 62,
    "start_time": "2021-11-06T16:21:56.928Z"
   },
   {
    "duration": 15,
    "start_time": "2021-11-06T16:21:56.993Z"
   },
   {
    "duration": 57,
    "start_time": "2021-11-06T16:21:57.033Z"
   },
   {
    "duration": 12,
    "start_time": "2021-11-06T16:21:57.092Z"
   },
   {
    "duration": 38,
    "start_time": "2021-11-06T16:21:57.106Z"
   },
   {
    "duration": 32,
    "start_time": "2021-11-06T16:21:57.150Z"
   },
   {
    "duration": 97,
    "start_time": "2021-11-06T16:21:57.186Z"
   },
   {
    "duration": 710,
    "start_time": "2021-11-06T16:21:57.286Z"
   },
   {
    "duration": 565,
    "start_time": "2021-11-06T16:21:57.998Z"
   },
   {
    "duration": 1525,
    "start_time": "2021-11-06T16:21:58.566Z"
   },
   {
    "duration": 12,
    "start_time": "2021-11-06T16:22:00.094Z"
   },
   {
    "duration": 42,
    "start_time": "2021-11-06T16:22:00.109Z"
   },
   {
    "duration": 25,
    "start_time": "2021-11-06T16:22:00.155Z"
   },
   {
    "duration": 7,
    "start_time": "2021-11-06T16:22:00.183Z"
   },
   {
    "duration": 55,
    "start_time": "2021-11-06T16:22:00.193Z"
   },
   {
    "duration": 25,
    "start_time": "2021-11-06T16:22:00.256Z"
   },
   {
    "duration": 1137,
    "start_time": "2021-11-06T16:22:00.283Z"
   },
   {
    "duration": 23,
    "start_time": "2021-11-06T16:22:01.423Z"
   },
   {
    "duration": 30,
    "start_time": "2021-11-06T16:22:01.449Z"
   },
   {
    "duration": 6,
    "start_time": "2021-11-06T16:22:01.481Z"
   },
   {
    "duration": 23,
    "start_time": "2021-11-06T16:22:01.492Z"
   },
   {
    "duration": 1025,
    "start_time": "2021-11-06T16:22:01.531Z"
   },
   {
    "duration": 1155,
    "start_time": "2021-11-06T16:22:01.404Z"
   },
   {
    "duration": 1140,
    "start_time": "2021-11-06T16:22:01.420Z"
   },
   {
    "duration": 1139,
    "start_time": "2021-11-06T16:22:01.424Z"
   },
   {
    "duration": 1136,
    "start_time": "2021-11-06T16:22:01.429Z"
   },
   {
    "duration": 1131,
    "start_time": "2021-11-06T16:22:01.435Z"
   },
   {
    "duration": 1125,
    "start_time": "2021-11-06T16:22:01.443Z"
   },
   {
    "duration": 1113,
    "start_time": "2021-11-06T16:22:01.456Z"
   },
   {
    "duration": 1109,
    "start_time": "2021-11-06T16:22:01.462Z"
   },
   {
    "duration": 1106,
    "start_time": "2021-11-06T16:22:01.466Z"
   },
   {
    "duration": 1102,
    "start_time": "2021-11-06T16:22:01.472Z"
   },
   {
    "duration": 1098,
    "start_time": "2021-11-06T16:22:01.477Z"
   },
   {
    "duration": 1094,
    "start_time": "2021-11-06T16:22:01.483Z"
   },
   {
    "duration": 1085,
    "start_time": "2021-11-06T16:22:01.494Z"
   },
   {
    "duration": 1080,
    "start_time": "2021-11-06T16:22:01.500Z"
   },
   {
    "duration": 1078,
    "start_time": "2021-11-06T16:22:01.504Z"
   },
   {
    "duration": 1073,
    "start_time": "2021-11-06T16:22:01.510Z"
   },
   {
    "duration": 1068,
    "start_time": "2021-11-06T16:22:01.516Z"
   },
   {
    "duration": 1064,
    "start_time": "2021-11-06T16:22:01.521Z"
   },
   {
    "duration": 1061,
    "start_time": "2021-11-06T16:22:01.526Z"
   },
   {
    "duration": 1058,
    "start_time": "2021-11-06T16:22:01.531Z"
   },
   {
    "duration": 1054,
    "start_time": "2021-11-06T16:22:01.536Z"
   },
   {
    "duration": 1049,
    "start_time": "2021-11-06T16:22:01.542Z"
   },
   {
    "duration": 1076,
    "start_time": "2021-11-06T16:22:01.554Z"
   },
   {
    "duration": 1067,
    "start_time": "2021-11-06T16:22:01.575Z"
   },
   {
    "duration": 1065,
    "start_time": "2021-11-06T16:22:01.580Z"
   },
   {
    "duration": 1061,
    "start_time": "2021-11-06T16:22:01.586Z"
   },
   {
    "duration": 1059,
    "start_time": "2021-11-06T16:22:01.591Z"
   },
   {
    "duration": 1056,
    "start_time": "2021-11-06T16:22:01.596Z"
   },
   {
    "duration": 1059,
    "start_time": "2021-11-06T16:22:01.600Z"
   },
   {
    "duration": 1058,
    "start_time": "2021-11-06T16:22:01.605Z"
   },
   {
    "duration": 678,
    "start_time": "2021-11-06T16:22:18.222Z"
   },
   {
    "duration": 870,
    "start_time": "2021-11-06T16:22:38.813Z"
   },
   {
    "duration": 669,
    "start_time": "2021-11-06T16:23:42.633Z"
   },
   {
    "duration": 5,
    "start_time": "2021-11-06T16:23:59.365Z"
   },
   {
    "duration": 177,
    "start_time": "2021-11-06T16:23:59.372Z"
   },
   {
    "duration": 86,
    "start_time": "2021-11-06T16:23:59.553Z"
   },
   {
    "duration": 24,
    "start_time": "2021-11-06T16:23:59.652Z"
   },
   {
    "duration": 58,
    "start_time": "2021-11-06T16:23:59.679Z"
   },
   {
    "duration": 28,
    "start_time": "2021-11-06T16:23:59.741Z"
   },
   {
    "duration": 12,
    "start_time": "2021-11-06T16:23:59.775Z"
   },
   {
    "duration": 51,
    "start_time": "2021-11-06T16:23:59.790Z"
   },
   {
    "duration": 72,
    "start_time": "2021-11-06T16:23:59.845Z"
   },
   {
    "duration": 697,
    "start_time": "2021-11-06T16:23:59.919Z"
   },
   {
    "duration": 571,
    "start_time": "2021-11-06T16:24:00.618Z"
   },
   {
    "duration": 1326,
    "start_time": "2021-11-06T16:24:01.191Z"
   },
   {
    "duration": 28,
    "start_time": "2021-11-06T16:24:02.519Z"
   },
   {
    "duration": 28,
    "start_time": "2021-11-06T16:24:02.551Z"
   },
   {
    "duration": 21,
    "start_time": "2021-11-06T16:24:02.582Z"
   },
   {
    "duration": 38,
    "start_time": "2021-11-06T16:24:02.606Z"
   },
   {
    "duration": 39,
    "start_time": "2021-11-06T16:24:02.647Z"
   },
   {
    "duration": 16,
    "start_time": "2021-11-06T16:24:02.688Z"
   },
   {
    "duration": 1168,
    "start_time": "2021-11-06T16:24:02.709Z"
   },
   {
    "duration": 12,
    "start_time": "2021-11-06T16:24:03.880Z"
   },
   {
    "duration": 28,
    "start_time": "2021-11-06T16:24:03.894Z"
   },
   {
    "duration": 7,
    "start_time": "2021-11-06T16:24:03.930Z"
   },
   {
    "duration": 7,
    "start_time": "2021-11-06T16:24:03.940Z"
   },
   {
    "duration": 1200,
    "start_time": "2021-11-06T16:24:03.951Z"
   },
   {
    "duration": 1132,
    "start_time": "2021-11-06T16:24:04.024Z"
   },
   {
    "duration": 1111,
    "start_time": "2021-11-06T16:24:04.047Z"
   },
   {
    "duration": 1102,
    "start_time": "2021-11-06T16:24:04.058Z"
   },
   {
    "duration": 1096,
    "start_time": "2021-11-06T16:24:04.067Z"
   },
   {
    "duration": 1056,
    "start_time": "2021-11-06T16:24:04.109Z"
   },
   {
    "duration": 1046,
    "start_time": "2021-11-06T16:24:04.121Z"
   },
   {
    "duration": 1037,
    "start_time": "2021-11-06T16:24:04.131Z"
   },
   {
    "duration": 1031,
    "start_time": "2021-11-06T16:24:04.138Z"
   },
   {
    "duration": 1026,
    "start_time": "2021-11-06T16:24:04.144Z"
   },
   {
    "duration": 1021,
    "start_time": "2021-11-06T16:24:04.150Z"
   },
   {
    "duration": 1018,
    "start_time": "2021-11-06T16:24:04.156Z"
   },
   {
    "duration": 1014,
    "start_time": "2021-11-06T16:24:04.162Z"
   },
   {
    "duration": 1010,
    "start_time": "2021-11-06T16:24:04.167Z"
   },
   {
    "duration": 1006,
    "start_time": "2021-11-06T16:24:04.172Z"
   },
   {
    "duration": 1002,
    "start_time": "2021-11-06T16:24:04.178Z"
   },
   {
    "duration": 999,
    "start_time": "2021-11-06T16:24:04.182Z"
   },
   {
    "duration": 995,
    "start_time": "2021-11-06T16:24:04.188Z"
   },
   {
    "duration": 992,
    "start_time": "2021-11-06T16:24:04.192Z"
   },
   {
    "duration": 988,
    "start_time": "2021-11-06T16:24:04.198Z"
   },
   {
    "duration": 985,
    "start_time": "2021-11-06T16:24:04.202Z"
   },
   {
    "duration": 979,
    "start_time": "2021-11-06T16:24:04.209Z"
   },
   {
    "duration": 976,
    "start_time": "2021-11-06T16:24:04.214Z"
   },
   {
    "duration": 963,
    "start_time": "2021-11-06T16:24:04.228Z"
   },
   {
    "duration": 956,
    "start_time": "2021-11-06T16:24:04.236Z"
   },
   {
    "duration": 951,
    "start_time": "2021-11-06T16:24:04.242Z"
   },
   {
    "duration": 988,
    "start_time": "2021-11-06T16:24:04.247Z"
   },
   {
    "duration": 961,
    "start_time": "2021-11-06T16:24:04.278Z"
   },
   {
    "duration": 932,
    "start_time": "2021-11-06T16:24:04.309Z"
   },
   {
    "duration": 913,
    "start_time": "2021-11-06T16:24:04.329Z"
   },
   {
    "duration": 896,
    "start_time": "2021-11-06T16:24:04.351Z"
   },
   {
    "duration": 665,
    "start_time": "2021-11-06T16:25:09.950Z"
   },
   {
    "duration": 828,
    "start_time": "2021-11-06T16:25:16.377Z"
   },
   {
    "duration": 1606,
    "start_time": "2021-11-06T16:25:28.657Z"
   },
   {
    "duration": 93,
    "start_time": "2021-11-06T16:25:30.265Z"
   },
   {
    "duration": 49,
    "start_time": "2021-11-06T16:25:30.362Z"
   },
   {
    "duration": 22,
    "start_time": "2021-11-06T16:25:30.430Z"
   },
   {
    "duration": 51,
    "start_time": "2021-11-06T16:25:30.455Z"
   },
   {
    "duration": 27,
    "start_time": "2021-11-06T16:25:30.509Z"
   },
   {
    "duration": 27,
    "start_time": "2021-11-06T16:25:30.542Z"
   },
   {
    "duration": 21,
    "start_time": "2021-11-06T16:25:30.573Z"
   },
   {
    "duration": 93,
    "start_time": "2021-11-06T16:25:30.597Z"
   },
   {
    "duration": 663,
    "start_time": "2021-11-06T16:25:30.693Z"
   },
   {
    "duration": 508,
    "start_time": "2021-11-06T16:25:31.359Z"
   },
   {
    "duration": 1273,
    "start_time": "2021-11-06T16:25:31.870Z"
   },
   {
    "duration": 18,
    "start_time": "2021-11-06T16:25:33.146Z"
   },
   {
    "duration": 15,
    "start_time": "2021-11-06T16:25:33.166Z"
   },
   {
    "duration": 36,
    "start_time": "2021-11-06T16:25:33.183Z"
   },
   {
    "duration": 28,
    "start_time": "2021-11-06T16:25:33.222Z"
   },
   {
    "duration": 39,
    "start_time": "2021-11-06T16:25:33.253Z"
   },
   {
    "duration": 17,
    "start_time": "2021-11-06T16:25:33.294Z"
   },
   {
    "duration": 1029,
    "start_time": "2021-11-06T16:25:33.313Z"
   },
   {
    "duration": 12,
    "start_time": "2021-11-06T16:25:34.346Z"
   },
   {
    "duration": 22,
    "start_time": "2021-11-06T16:25:34.361Z"
   },
   {
    "duration": 5,
    "start_time": "2021-11-06T16:25:34.385Z"
   },
   {
    "duration": 45,
    "start_time": "2021-11-06T16:25:34.395Z"
   },
   {
    "duration": 990,
    "start_time": "2021-11-06T16:25:34.444Z"
   },
   {
    "duration": 1170,
    "start_time": "2021-11-06T16:25:34.269Z"
   },
   {
    "duration": 1168,
    "start_time": "2021-11-06T16:25:34.274Z"
   },
   {
    "duration": 1165,
    "start_time": "2021-11-06T16:25:34.280Z"
   },
   {
    "duration": 1161,
    "start_time": "2021-11-06T16:25:34.286Z"
   },
   {
    "duration": 1159,
    "start_time": "2021-11-06T16:25:34.291Z"
   },
   {
    "duration": 1156,
    "start_time": "2021-11-06T16:25:34.296Z"
   },
   {
    "duration": 1148,
    "start_time": "2021-11-06T16:25:34.305Z"
   },
   {
    "duration": 1145,
    "start_time": "2021-11-06T16:25:34.310Z"
   },
   {
    "duration": 1142,
    "start_time": "2021-11-06T16:25:34.315Z"
   },
   {
    "duration": 1139,
    "start_time": "2021-11-06T16:25:34.320Z"
   },
   {
    "duration": 1137,
    "start_time": "2021-11-06T16:25:34.324Z"
   },
   {
    "duration": 1126,
    "start_time": "2021-11-06T16:25:34.337Z"
   },
   {
    "duration": 1125,
    "start_time": "2021-11-06T16:25:34.341Z"
   },
   {
    "duration": 1119,
    "start_time": "2021-11-06T16:25:34.348Z"
   },
   {
    "duration": 1116,
    "start_time": "2021-11-06T16:25:34.353Z"
   },
   {
    "duration": 1112,
    "start_time": "2021-11-06T16:25:34.359Z"
   },
   {
    "duration": 1109,
    "start_time": "2021-11-06T16:25:34.363Z"
   },
   {
    "duration": 1106,
    "start_time": "2021-11-06T16:25:34.368Z"
   },
   {
    "duration": 1102,
    "start_time": "2021-11-06T16:25:34.373Z"
   },
   {
    "duration": 1097,
    "start_time": "2021-11-06T16:25:34.379Z"
   },
   {
    "duration": 1095,
    "start_time": "2021-11-06T16:25:34.383Z"
   },
   {
    "duration": 1091,
    "start_time": "2021-11-06T16:25:34.388Z"
   },
   {
    "duration": 1085,
    "start_time": "2021-11-06T16:25:34.395Z"
   },
   {
    "duration": 1082,
    "start_time": "2021-11-06T16:25:34.399Z"
   },
   {
    "duration": 1071,
    "start_time": "2021-11-06T16:25:34.411Z"
   },
   {
    "duration": 1066,
    "start_time": "2021-11-06T16:25:34.417Z"
   },
   {
    "duration": 1108,
    "start_time": "2021-11-06T16:25:34.421Z"
   },
   {
    "duration": 1105,
    "start_time": "2021-11-06T16:25:34.426Z"
   },
   {
    "duration": 1101,
    "start_time": "2021-11-06T16:25:34.432Z"
   },
   {
    "duration": 1098,
    "start_time": "2021-11-06T16:25:34.437Z"
   },
   {
    "duration": 4,
    "start_time": "2021-11-06T16:28:45.081Z"
   },
   {
    "duration": 111,
    "start_time": "2021-11-06T16:28:45.087Z"
   },
   {
    "duration": 76,
    "start_time": "2021-11-06T16:28:45.201Z"
   },
   {
    "duration": 49,
    "start_time": "2021-11-06T16:28:45.280Z"
   },
   {
    "duration": 47,
    "start_time": "2021-11-06T16:28:45.332Z"
   },
   {
    "duration": 12,
    "start_time": "2021-11-06T16:28:45.382Z"
   },
   {
    "duration": 22,
    "start_time": "2021-11-06T16:28:45.430Z"
   },
   {
    "duration": 20,
    "start_time": "2021-11-06T16:28:45.457Z"
   },
   {
    "duration": 101,
    "start_time": "2021-11-06T16:28:45.479Z"
   },
   {
    "duration": 4,
    "start_time": "2021-11-06T16:28:45.582Z"
   },
   {
    "duration": 517,
    "start_time": "2021-11-06T16:28:45.589Z"
   },
   {
    "duration": 1031,
    "start_time": "2021-11-06T16:28:46.108Z"
   },
   {
    "duration": 18,
    "start_time": "2021-11-06T16:28:47.143Z"
   },
   {
    "duration": 13,
    "start_time": "2021-11-06T16:28:47.163Z"
   },
   {
    "duration": 19,
    "start_time": "2021-11-06T16:28:47.178Z"
   },
   {
    "duration": 37,
    "start_time": "2021-11-06T16:28:47.200Z"
   },
   {
    "duration": 24,
    "start_time": "2021-11-06T16:28:47.241Z"
   },
   {
    "duration": 25,
    "start_time": "2021-11-06T16:28:47.267Z"
   },
   {
    "duration": 1052,
    "start_time": "2021-11-06T16:28:47.298Z"
   },
   {
    "duration": 12,
    "start_time": "2021-11-06T16:28:48.357Z"
   },
   {
    "duration": 22,
    "start_time": "2021-11-06T16:28:48.372Z"
   },
   {
    "duration": 5,
    "start_time": "2021-11-06T16:28:48.397Z"
   },
   {
    "duration": 29,
    "start_time": "2021-11-06T16:28:48.405Z"
   },
   {
    "duration": 921,
    "start_time": "2021-11-06T16:28:48.437Z"
   },
   {
    "duration": 1207,
    "start_time": "2021-11-06T16:28:48.154Z"
   },
   {
    "duration": 1196,
    "start_time": "2021-11-06T16:28:48.167Z"
   },
   {
    "duration": 1192,
    "start_time": "2021-11-06T16:28:48.174Z"
   },
   {
    "duration": 1189,
    "start_time": "2021-11-06T16:28:48.178Z"
   },
   {
    "duration": 1183,
    "start_time": "2021-11-06T16:28:48.185Z"
   },
   {
    "duration": 1179,
    "start_time": "2021-11-06T16:28:48.191Z"
   },
   {
    "duration": 1175,
    "start_time": "2021-11-06T16:28:48.196Z"
   },
   {
    "duration": 1171,
    "start_time": "2021-11-06T16:28:48.201Z"
   },
   {
    "duration": 1168,
    "start_time": "2021-11-06T16:28:48.206Z"
   },
   {
    "duration": 1163,
    "start_time": "2021-11-06T16:28:48.212Z"
   },
   {
    "duration": 1160,
    "start_time": "2021-11-06T16:28:48.217Z"
   },
   {
    "duration": 1146,
    "start_time": "2021-11-06T16:28:48.232Z"
   },
   {
    "duration": 1142,
    "start_time": "2021-11-06T16:28:48.238Z"
   },
   {
    "duration": 1139,
    "start_time": "2021-11-06T16:28:48.243Z"
   },
   {
    "duration": 1135,
    "start_time": "2021-11-06T16:28:48.249Z"
   },
   {
    "duration": 1131,
    "start_time": "2021-11-06T16:28:48.254Z"
   },
   {
    "duration": 1128,
    "start_time": "2021-11-06T16:28:48.259Z"
   },
   {
    "duration": 1124,
    "start_time": "2021-11-06T16:28:48.264Z"
   },
   {
    "duration": 1162,
    "start_time": "2021-11-06T16:28:48.268Z"
   },
   {
    "duration": 1159,
    "start_time": "2021-11-06T16:28:48.273Z"
   },
   {
    "duration": 1153,
    "start_time": "2021-11-06T16:28:48.280Z"
   },
   {
    "duration": 1150,
    "start_time": "2021-11-06T16:28:48.286Z"
   },
   {
    "duration": 1147,
    "start_time": "2021-11-06T16:28:48.290Z"
   },
   {
    "duration": 1144,
    "start_time": "2021-11-06T16:28:48.295Z"
   },
   {
    "duration": 1143,
    "start_time": "2021-11-06T16:28:48.299Z"
   },
   {
    "duration": 1132,
    "start_time": "2021-11-06T16:28:48.313Z"
   },
   {
    "duration": 1128,
    "start_time": "2021-11-06T16:28:48.319Z"
   },
   {
    "duration": 1123,
    "start_time": "2021-11-06T16:28:48.327Z"
   },
   {
    "duration": 1120,
    "start_time": "2021-11-06T16:28:48.332Z"
   },
   {
    "duration": 1117,
    "start_time": "2021-11-06T16:28:48.337Z"
   },
   {
    "duration": 607,
    "start_time": "2021-11-06T16:29:22.345Z"
   },
   {
    "duration": 3,
    "start_time": "2021-11-06T16:30:13.204Z"
   },
   {
    "duration": 99,
    "start_time": "2021-11-06T16:30:13.210Z"
   },
   {
    "duration": 60,
    "start_time": "2021-11-06T16:30:13.330Z"
   },
   {
    "duration": 61,
    "start_time": "2021-11-06T16:30:13.393Z"
   },
   {
    "duration": 39,
    "start_time": "2021-11-06T16:30:13.458Z"
   },
   {
    "duration": 22,
    "start_time": "2021-11-06T16:30:13.529Z"
   },
   {
    "duration": 14,
    "start_time": "2021-11-06T16:30:13.556Z"
   },
   {
    "duration": 147,
    "start_time": "2021-11-06T16:30:13.573Z"
   },
   {
    "duration": 73,
    "start_time": "2021-11-06T16:30:13.722Z"
   },
   {
    "duration": 3,
    "start_time": "2021-11-06T16:30:13.798Z"
   },
   {
    "duration": 559,
    "start_time": "2021-11-06T16:30:13.803Z"
   },
   {
    "duration": 1043,
    "start_time": "2021-11-06T16:30:14.364Z"
   },
   {
    "duration": 25,
    "start_time": "2021-11-06T16:30:15.410Z"
   },
   {
    "duration": 25,
    "start_time": "2021-11-06T16:30:15.440Z"
   },
   {
    "duration": 11,
    "start_time": "2021-11-06T16:30:15.468Z"
   },
   {
    "duration": 8,
    "start_time": "2021-11-06T16:30:15.482Z"
   },
   {
    "duration": 52,
    "start_time": "2021-11-06T16:30:15.492Z"
   },
   {
    "duration": 18,
    "start_time": "2021-11-06T16:30:15.547Z"
   },
   {
    "duration": 1105,
    "start_time": "2021-11-06T16:30:15.570Z"
   },
   {
    "duration": 15,
    "start_time": "2021-11-06T16:30:16.679Z"
   },
   {
    "duration": 41,
    "start_time": "2021-11-06T16:30:16.696Z"
   },
   {
    "duration": 10,
    "start_time": "2021-11-06T16:30:16.744Z"
   },
   {
    "duration": 7,
    "start_time": "2021-11-06T16:30:16.757Z"
   },
   {
    "duration": 628,
    "start_time": "2021-11-06T16:30:16.766Z"
   },
   {
    "duration": 11,
    "start_time": "2021-11-06T16:30:17.396Z"
   },
   {
    "duration": 672,
    "start_time": "2021-11-06T16:30:17.410Z"
   },
   {
    "duration": 13,
    "start_time": "2021-11-06T16:30:18.085Z"
   },
   {
    "duration": 34,
    "start_time": "2021-11-06T16:30:18.100Z"
   },
   {
    "duration": 24,
    "start_time": "2021-11-06T16:30:18.138Z"
   },
   {
    "duration": 527,
    "start_time": "2021-11-06T16:30:18.165Z"
   },
   {
    "duration": 13,
    "start_time": "2021-11-06T16:30:18.694Z"
   },
   {
    "duration": 850,
    "start_time": "2021-11-06T16:30:18.709Z"
   },
   {
    "duration": 11,
    "start_time": "2021-11-06T16:30:19.562Z"
   },
   {
    "duration": 573,
    "start_time": "2021-11-06T16:30:19.576Z"
   },
   {
    "duration": 10,
    "start_time": "2021-11-06T16:30:20.152Z"
   },
   {
    "duration": 1188,
    "start_time": "2021-11-06T16:30:20.165Z"
   },
   {
    "duration": 1380,
    "start_time": "2021-11-06T16:30:21.357Z"
   },
   {
    "duration": 20,
    "start_time": "2021-11-06T16:30:22.742Z"
   },
   {
    "duration": 12,
    "start_time": "2021-11-06T16:30:22.764Z"
   },
   {
    "duration": 132,
    "start_time": "2021-11-06T16:30:22.778Z"
   },
   {
    "duration": 23,
    "start_time": "2021-11-06T16:30:22.913Z"
   },
   {
    "duration": 45,
    "start_time": "2021-11-06T16:30:22.943Z"
   },
   {
    "duration": 70,
    "start_time": "2021-11-06T16:30:22.990Z"
   },
   {
    "duration": 35,
    "start_time": "2021-11-06T16:30:23.062Z"
   },
   {
    "duration": 336,
    "start_time": "2021-11-06T16:30:23.099Z"
   },
   {
    "duration": 338,
    "start_time": "2021-11-06T16:30:23.438Z"
   },
   {
    "duration": 51,
    "start_time": "2021-11-06T16:30:23.778Z"
   },
   {
    "duration": 17,
    "start_time": "2021-11-06T16:30:23.838Z"
   },
   {
    "duration": 12,
    "start_time": "2021-11-06T16:30:23.859Z"
   },
   {
    "duration": 525,
    "start_time": "2021-11-06T16:30:23.873Z"
   },
   {
    "duration": 6,
    "start_time": "2021-11-06T16:30:24.400Z"
   },
   {
    "duration": 58,
    "start_time": "2021-11-06T16:30:24.408Z"
   },
   {
    "duration": 39,
    "start_time": "2021-11-06T16:30:24.469Z"
   },
   {
    "duration": 134,
    "start_time": "2021-11-06T16:30:24.530Z"
   },
   {
    "duration": 674,
    "start_time": "2021-11-06T16:31:35.151Z"
   },
   {
    "duration": 458,
    "start_time": "2021-11-06T16:37:40.840Z"
   },
   {
    "duration": 903,
    "start_time": "2021-11-06T16:38:12.103Z"
   },
   {
    "duration": 619,
    "start_time": "2021-11-06T16:38:35.132Z"
   },
   {
    "duration": 771,
    "start_time": "2021-11-06T16:39:41.558Z"
   },
   {
    "duration": 89,
    "start_time": "2021-11-06T16:39:42.332Z"
   },
   {
    "duration": 63,
    "start_time": "2021-11-06T16:39:42.425Z"
   },
   {
    "duration": 14,
    "start_time": "2021-11-06T16:39:42.491Z"
   },
   {
    "duration": 60,
    "start_time": "2021-11-06T16:39:42.508Z"
   },
   {
    "duration": 11,
    "start_time": "2021-11-06T16:39:42.570Z"
   },
   {
    "duration": 12,
    "start_time": "2021-11-06T16:39:42.584Z"
   },
   {
    "duration": 24,
    "start_time": "2021-11-06T16:39:42.634Z"
   },
   {
    "duration": 79,
    "start_time": "2021-11-06T16:39:42.662Z"
   },
   {
    "duration": 4,
    "start_time": "2021-11-06T16:39:42.744Z"
   },
   {
    "duration": 343,
    "start_time": "2021-11-06T16:39:42.751Z"
   },
   {
    "duration": 890,
    "start_time": "2021-11-06T16:39:42.208Z"
   },
   {
    "duration": 877,
    "start_time": "2021-11-06T16:39:42.223Z"
   },
   {
    "duration": 870,
    "start_time": "2021-11-06T16:39:42.231Z"
   },
   {
    "duration": 868,
    "start_time": "2021-11-06T16:39:42.235Z"
   },
   {
    "duration": 864,
    "start_time": "2021-11-06T16:39:42.240Z"
   },
   {
    "duration": 861,
    "start_time": "2021-11-06T16:39:42.244Z"
   },
   {
    "duration": 857,
    "start_time": "2021-11-06T16:39:42.249Z"
   },
   {
    "duration": 853,
    "start_time": "2021-11-06T16:39:42.254Z"
   },
   {
    "duration": 850,
    "start_time": "2021-11-06T16:39:42.259Z"
   },
   {
    "duration": 847,
    "start_time": "2021-11-06T16:39:42.263Z"
   },
   {
    "duration": 843,
    "start_time": "2021-11-06T16:39:42.268Z"
   },
   {
    "duration": 841,
    "start_time": "2021-11-06T16:39:42.272Z"
   },
   {
    "duration": 837,
    "start_time": "2021-11-06T16:39:42.277Z"
   },
   {
    "duration": 834,
    "start_time": "2021-11-06T16:39:42.281Z"
   },
   {
    "duration": 830,
    "start_time": "2021-11-06T16:39:42.286Z"
   },
   {
    "duration": 827,
    "start_time": "2021-11-06T16:39:42.290Z"
   },
   {
    "duration": 815,
    "start_time": "2021-11-06T16:39:42.303Z"
   },
   {
    "duration": 812,
    "start_time": "2021-11-06T16:39:42.308Z"
   },
   {
    "duration": 806,
    "start_time": "2021-11-06T16:39:42.315Z"
   },
   {
    "duration": 802,
    "start_time": "2021-11-06T16:39:42.320Z"
   },
   {
    "duration": 797,
    "start_time": "2021-11-06T16:39:42.326Z"
   },
   {
    "duration": 795,
    "start_time": "2021-11-06T16:39:42.330Z"
   },
   {
    "duration": 791,
    "start_time": "2021-11-06T16:39:42.335Z"
   },
   {
    "duration": 787,
    "start_time": "2021-11-06T16:39:42.340Z"
   },
   {
    "duration": 789,
    "start_time": "2021-11-06T16:39:42.344Z"
   },
   {
    "duration": 787,
    "start_time": "2021-11-06T16:39:42.349Z"
   },
   {
    "duration": 784,
    "start_time": "2021-11-06T16:39:42.354Z"
   },
   {
    "duration": 782,
    "start_time": "2021-11-06T16:39:42.358Z"
   },
   {
    "duration": 778,
    "start_time": "2021-11-06T16:39:42.364Z"
   },
   {
    "duration": 775,
    "start_time": "2021-11-06T16:39:42.368Z"
   },
   {
    "duration": 772,
    "start_time": "2021-11-06T16:39:42.373Z"
   },
   {
    "duration": 769,
    "start_time": "2021-11-06T16:39:42.377Z"
   },
   {
    "duration": 765,
    "start_time": "2021-11-06T16:39:42.382Z"
   },
   {
    "duration": 753,
    "start_time": "2021-11-06T16:39:42.395Z"
   },
   {
    "duration": 751,
    "start_time": "2021-11-06T16:39:42.399Z"
   },
   {
    "duration": 737,
    "start_time": "2021-11-06T16:39:42.414Z"
   },
   {
    "duration": 732,
    "start_time": "2021-11-06T16:39:42.420Z"
   },
   {
    "duration": 724,
    "start_time": "2021-11-06T16:39:42.430Z"
   },
   {
    "duration": 720,
    "start_time": "2021-11-06T16:39:42.435Z"
   },
   {
    "duration": 717,
    "start_time": "2021-11-06T16:39:42.439Z"
   },
   {
    "duration": 713,
    "start_time": "2021-11-06T16:39:42.444Z"
   },
   {
    "duration": 711,
    "start_time": "2021-11-06T16:39:42.448Z"
   },
   {
    "duration": 707,
    "start_time": "2021-11-06T16:39:42.453Z"
   },
   {
    "duration": 4,
    "start_time": "2021-11-06T16:40:27.320Z"
   },
   {
    "duration": 4,
    "start_time": "2021-11-06T16:40:31.643Z"
   },
   {
    "duration": 102,
    "start_time": "2021-11-06T16:40:31.649Z"
   },
   {
    "duration": 46,
    "start_time": "2021-11-06T16:40:31.753Z"
   },
   {
    "duration": 18,
    "start_time": "2021-11-06T16:40:31.834Z"
   },
   {
    "duration": 38,
    "start_time": "2021-11-06T16:40:31.855Z"
   },
   {
    "duration": 18,
    "start_time": "2021-11-06T16:40:31.931Z"
   },
   {
    "duration": 11,
    "start_time": "2021-11-06T16:40:31.952Z"
   },
   {
    "duration": 23,
    "start_time": "2021-11-06T16:40:31.967Z"
   },
   {
    "duration": 93,
    "start_time": "2021-11-06T16:40:31.992Z"
   },
   {
    "duration": 3,
    "start_time": "2021-11-06T16:40:32.087Z"
   },
   {
    "duration": 283,
    "start_time": "2021-11-06T16:40:32.092Z"
   },
   {
    "duration": 789,
    "start_time": "2021-11-06T16:40:31.589Z"
   },
   {
    "duration": 786,
    "start_time": "2021-11-06T16:40:31.594Z"
   },
   {
    "duration": 783,
    "start_time": "2021-11-06T16:40:31.598Z"
   },
   {
    "duration": 780,
    "start_time": "2021-11-06T16:40:31.603Z"
   },
   {
    "duration": 777,
    "start_time": "2021-11-06T16:40:31.607Z"
   },
   {
    "duration": 774,
    "start_time": "2021-11-06T16:40:31.611Z"
   },
   {
    "duration": 770,
    "start_time": "2021-11-06T16:40:31.616Z"
   },
   {
    "duration": 749,
    "start_time": "2021-11-06T16:40:31.639Z"
   },
   {
    "duration": 741,
    "start_time": "2021-11-06T16:40:31.648Z"
   },
   {
    "duration": 734,
    "start_time": "2021-11-06T16:40:31.657Z"
   },
   {
    "duration": 731,
    "start_time": "2021-11-06T16:40:31.661Z"
   },
   {
    "duration": 726,
    "start_time": "2021-11-06T16:40:31.667Z"
   },
   {
    "duration": 723,
    "start_time": "2021-11-06T16:40:31.672Z"
   },
   {
    "duration": 719,
    "start_time": "2021-11-06T16:40:31.677Z"
   },
   {
    "duration": 716,
    "start_time": "2021-11-06T16:40:31.682Z"
   },
   {
    "duration": 712,
    "start_time": "2021-11-06T16:40:31.687Z"
   },
   {
    "duration": 710,
    "start_time": "2021-11-06T16:40:31.691Z"
   },
   {
    "duration": 704,
    "start_time": "2021-11-06T16:40:31.698Z"
   },
   {
    "duration": 702,
    "start_time": "2021-11-06T16:40:31.702Z"
   },
   {
    "duration": 698,
    "start_time": "2021-11-06T16:40:31.707Z"
   },
   {
    "duration": 692,
    "start_time": "2021-11-06T16:40:31.714Z"
   },
   {
    "duration": 690,
    "start_time": "2021-11-06T16:40:31.718Z"
   },
   {
    "duration": 686,
    "start_time": "2021-11-06T16:40:31.723Z"
   },
   {
    "duration": 677,
    "start_time": "2021-11-06T16:40:31.734Z"
   },
   {
    "duration": 666,
    "start_time": "2021-11-06T16:40:31.746Z"
   },
   {
    "duration": 660,
    "start_time": "2021-11-06T16:40:31.753Z"
   },
   {
    "duration": 658,
    "start_time": "2021-11-06T16:40:31.757Z"
   },
   {
    "duration": 654,
    "start_time": "2021-11-06T16:40:31.762Z"
   },
   {
    "duration": 650,
    "start_time": "2021-11-06T16:40:31.767Z"
   },
   {
    "duration": 646,
    "start_time": "2021-11-06T16:40:31.772Z"
   },
   {
    "duration": 642,
    "start_time": "2021-11-06T16:40:31.777Z"
   },
   {
    "duration": 647,
    "start_time": "2021-11-06T16:40:31.783Z"
   },
   {
    "duration": 645,
    "start_time": "2021-11-06T16:40:31.788Z"
   },
   {
    "duration": 642,
    "start_time": "2021-11-06T16:40:31.793Z"
   },
   {
    "duration": 639,
    "start_time": "2021-11-06T16:40:31.798Z"
   },
   {
    "duration": 635,
    "start_time": "2021-11-06T16:40:31.803Z"
   },
   {
    "duration": 641,
    "start_time": "2021-11-06T16:40:31.807Z"
   },
   {
    "duration": 637,
    "start_time": "2021-11-06T16:40:31.812Z"
   },
   {
    "duration": 635,
    "start_time": "2021-11-06T16:40:31.816Z"
   },
   {
    "duration": 631,
    "start_time": "2021-11-06T16:40:31.821Z"
   },
   {
    "duration": 629,
    "start_time": "2021-11-06T16:40:31.825Z"
   },
   {
    "duration": 626,
    "start_time": "2021-11-06T16:40:31.829Z"
   },
   {
    "duration": 624,
    "start_time": "2021-11-06T16:40:31.833Z"
   },
   {
    "duration": 310,
    "start_time": "2021-11-06T16:40:41.051Z"
   },
   {
    "duration": 278,
    "start_time": "2021-11-06T16:41:19.941Z"
   },
   {
    "duration": 747,
    "start_time": "2021-11-06T16:41:33.878Z"
   },
   {
    "duration": 92,
    "start_time": "2021-11-06T16:41:34.630Z"
   },
   {
    "duration": 58,
    "start_time": "2021-11-06T16:41:34.730Z"
   },
   {
    "duration": 15,
    "start_time": "2021-11-06T16:41:34.791Z"
   },
   {
    "duration": 45,
    "start_time": "2021-11-06T16:41:34.829Z"
   },
   {
    "duration": 12,
    "start_time": "2021-11-06T16:41:34.876Z"
   },
   {
    "duration": 42,
    "start_time": "2021-11-06T16:41:34.890Z"
   },
   {
    "duration": 23,
    "start_time": "2021-11-06T16:41:34.938Z"
   },
   {
    "duration": 87,
    "start_time": "2021-11-06T16:41:34.964Z"
   },
   {
    "duration": 3,
    "start_time": "2021-11-06T16:41:35.053Z"
   },
   {
    "duration": 416,
    "start_time": "2021-11-06T16:41:35.058Z"
   },
   {
    "duration": 916,
    "start_time": "2021-11-06T16:41:34.563Z"
   },
   {
    "duration": 911,
    "start_time": "2021-11-06T16:41:34.569Z"
   },
   {
    "duration": 907,
    "start_time": "2021-11-06T16:41:34.574Z"
   },
   {
    "duration": 902,
    "start_time": "2021-11-06T16:41:34.581Z"
   },
   {
    "duration": 898,
    "start_time": "2021-11-06T16:41:34.586Z"
   },
   {
    "duration": 893,
    "start_time": "2021-11-06T16:41:34.592Z"
   },
   {
    "duration": 890,
    "start_time": "2021-11-06T16:41:34.597Z"
   },
   {
    "duration": 887,
    "start_time": "2021-11-06T16:41:34.602Z"
   },
   {
    "duration": 872,
    "start_time": "2021-11-06T16:41:34.618Z"
   },
   {
    "duration": 867,
    "start_time": "2021-11-06T16:41:34.624Z"
   },
   {
    "duration": 864,
    "start_time": "2021-11-06T16:41:34.629Z"
   },
   {
    "duration": 858,
    "start_time": "2021-11-06T16:41:34.636Z"
   },
   {
    "duration": 854,
    "start_time": "2021-11-06T16:41:34.641Z"
   },
   {
    "duration": 850,
    "start_time": "2021-11-06T16:41:34.647Z"
   },
   {
    "duration": 847,
    "start_time": "2021-11-06T16:41:34.651Z"
   },
   {
    "duration": 844,
    "start_time": "2021-11-06T16:41:34.656Z"
   },
   {
    "duration": 841,
    "start_time": "2021-11-06T16:41:34.660Z"
   },
   {
    "duration": 837,
    "start_time": "2021-11-06T16:41:34.665Z"
   },
   {
    "duration": 835,
    "start_time": "2021-11-06T16:41:34.669Z"
   },
   {
    "duration": 829,
    "start_time": "2021-11-06T16:41:34.676Z"
   },
   {
    "duration": 823,
    "start_time": "2021-11-06T16:41:34.683Z"
   },
   {
    "duration": 815,
    "start_time": "2021-11-06T16:41:34.692Z"
   },
   {
    "duration": 810,
    "start_time": "2021-11-06T16:41:34.699Z"
   },
   {
    "duration": 804,
    "start_time": "2021-11-06T16:41:34.706Z"
   },
   {
    "duration": 800,
    "start_time": "2021-11-06T16:41:34.711Z"
   },
   {
    "duration": 786,
    "start_time": "2021-11-06T16:41:34.726Z"
   },
   {
    "duration": 782,
    "start_time": "2021-11-06T16:41:34.731Z"
   },
   {
    "duration": 778,
    "start_time": "2021-11-06T16:41:34.737Z"
   },
   {
    "duration": 772,
    "start_time": "2021-11-06T16:41:34.744Z"
   },
   {
    "duration": 779,
    "start_time": "2021-11-06T16:41:34.750Z"
   },
   {
    "duration": 777,
    "start_time": "2021-11-06T16:41:34.754Z"
   },
   {
    "duration": 774,
    "start_time": "2021-11-06T16:41:34.759Z"
   },
   {
    "duration": 771,
    "start_time": "2021-11-06T16:41:34.764Z"
   },
   {
    "duration": 767,
    "start_time": "2021-11-06T16:41:34.769Z"
   },
   {
    "duration": 766,
    "start_time": "2021-11-06T16:41:34.773Z"
   },
   {
    "duration": 763,
    "start_time": "2021-11-06T16:41:34.778Z"
   },
   {
    "duration": 759,
    "start_time": "2021-11-06T16:41:34.783Z"
   },
   {
    "duration": 755,
    "start_time": "2021-11-06T16:41:34.789Z"
   },
   {
    "duration": 753,
    "start_time": "2021-11-06T16:41:34.793Z"
   },
   {
    "duration": 749,
    "start_time": "2021-11-06T16:41:34.798Z"
   },
   {
    "duration": 741,
    "start_time": "2021-11-06T16:41:34.809Z"
   },
   {
    "duration": 731,
    "start_time": "2021-11-06T16:41:34.820Z"
   },
   {
    "duration": 717,
    "start_time": "2021-11-06T16:41:34.836Z"
   },
   {
    "duration": 272,
    "start_time": "2021-11-06T17:32:25.855Z"
   },
   {
    "duration": 957,
    "start_time": "2021-11-06T17:32:38.167Z"
   },
   {
    "duration": 91,
    "start_time": "2021-11-06T17:32:39.126Z"
   },
   {
    "duration": 56,
    "start_time": "2021-11-06T17:32:39.220Z"
   },
   {
    "duration": 16,
    "start_time": "2021-11-06T17:32:39.279Z"
   },
   {
    "duration": 65,
    "start_time": "2021-11-06T17:32:39.297Z"
   },
   {
    "duration": 12,
    "start_time": "2021-11-06T17:32:39.364Z"
   },
   {
    "duration": 13,
    "start_time": "2021-11-06T17:32:39.378Z"
   },
   {
    "duration": 56,
    "start_time": "2021-11-06T17:32:39.394Z"
   },
   {
    "duration": 87,
    "start_time": "2021-11-06T17:32:39.454Z"
   },
   {
    "duration": 4,
    "start_time": "2021-11-06T17:32:39.545Z"
   },
   {
    "duration": 678,
    "start_time": "2021-11-06T17:32:39.553Z"
   },
   {
    "duration": 881,
    "start_time": "2021-11-06T17:32:40.235Z"
   },
   {
    "duration": 23,
    "start_time": "2021-11-06T17:32:41.118Z"
   },
   {
    "duration": 14,
    "start_time": "2021-11-06T17:32:41.144Z"
   },
   {
    "duration": 20,
    "start_time": "2021-11-06T17:32:41.160Z"
   },
   {
    "duration": 7,
    "start_time": "2021-11-06T17:32:41.183Z"
   },
   {
    "duration": 24,
    "start_time": "2021-11-06T17:32:41.229Z"
   },
   {
    "duration": 17,
    "start_time": "2021-11-06T17:32:41.256Z"
   },
   {
    "duration": 984,
    "start_time": "2021-11-06T17:32:41.275Z"
   },
   {
    "duration": 11,
    "start_time": "2021-11-06T17:32:42.262Z"
   },
   {
    "duration": 20,
    "start_time": "2021-11-06T17:32:42.275Z"
   },
   {
    "duration": 5,
    "start_time": "2021-11-06T17:32:42.297Z"
   },
   {
    "duration": 6,
    "start_time": "2021-11-06T17:32:42.334Z"
   },
   {
    "duration": 404,
    "start_time": "2021-11-06T17:32:42.344Z"
   },
   {
    "duration": 12,
    "start_time": "2021-11-06T17:32:42.750Z"
   },
   {
    "duration": 473,
    "start_time": "2021-11-06T17:32:42.765Z"
   },
   {
    "duration": 17,
    "start_time": "2021-11-06T17:32:43.242Z"
   },
   {
    "duration": 7,
    "start_time": "2021-11-06T17:32:43.262Z"
   },
   {
    "duration": 18,
    "start_time": "2021-11-06T17:32:43.272Z"
   },
   {
    "duration": 391,
    "start_time": "2021-11-06T17:32:43.292Z"
   },
   {
    "duration": 16,
    "start_time": "2021-11-06T17:32:43.686Z"
   },
   {
    "duration": 696,
    "start_time": "2021-11-06T17:32:43.705Z"
   },
   {
    "duration": 28,
    "start_time": "2021-11-06T17:32:44.403Z"
   },
   {
    "duration": 380,
    "start_time": "2021-11-06T17:32:44.434Z"
   },
   {
    "duration": 15,
    "start_time": "2021-11-06T17:32:44.817Z"
   },
   {
    "duration": 414,
    "start_time": "2021-11-06T17:32:44.837Z"
   },
   {
    "duration": 1548,
    "start_time": "2021-11-06T17:32:45.254Z"
   },
   {
    "duration": 26,
    "start_time": "2021-11-06T17:32:46.805Z"
   },
   {
    "duration": 23,
    "start_time": "2021-11-06T17:32:46.834Z"
   },
   {
    "duration": 117,
    "start_time": "2021-11-06T17:32:46.860Z"
   },
   {
    "duration": 19,
    "start_time": "2021-11-06T17:32:46.980Z"
   },
   {
    "duration": 65,
    "start_time": "2021-11-06T17:32:47.001Z"
   },
   {
    "duration": 33,
    "start_time": "2021-11-06T17:32:47.068Z"
   },
   {
    "duration": 62,
    "start_time": "2021-11-06T17:32:47.103Z"
   },
   {
    "duration": 291,
    "start_time": "2021-11-06T17:32:47.167Z"
   },
   {
    "duration": 278,
    "start_time": "2021-11-06T17:32:47.461Z"
   },
   {
    "duration": 33,
    "start_time": "2021-11-06T17:32:47.742Z"
   },
   {
    "duration": 9,
    "start_time": "2021-11-06T17:32:47.778Z"
   },
   {
    "duration": 44,
    "start_time": "2021-11-06T17:32:47.789Z"
   },
   {
    "duration": 359,
    "start_time": "2021-11-06T17:32:47.836Z"
   },
   {
    "duration": 7,
    "start_time": "2021-11-06T17:32:48.197Z"
   },
   {
    "duration": 55,
    "start_time": "2021-11-06T17:32:48.206Z"
   },
   {
    "duration": 39,
    "start_time": "2021-11-06T17:32:48.263Z"
   },
   {
    "duration": 139,
    "start_time": "2021-11-06T17:32:48.305Z"
   },
   {
    "duration": 819,
    "start_time": "2021-11-06T17:34:01.405Z"
   },
   {
    "duration": 1048,
    "start_time": "2021-11-06T17:34:24.719Z"
   },
   {
    "duration": 126,
    "start_time": "2021-11-06T17:34:25.771Z"
   },
   {
    "duration": 63,
    "start_time": "2021-11-06T17:34:25.902Z"
   },
   {
    "duration": 16,
    "start_time": "2021-11-06T17:34:25.968Z"
   },
   {
    "duration": 70,
    "start_time": "2021-11-06T17:34:25.986Z"
   },
   {
    "duration": 12,
    "start_time": "2021-11-06T17:34:26.058Z"
   },
   {
    "duration": 11,
    "start_time": "2021-11-06T17:34:26.073Z"
   },
   {
    "duration": 57,
    "start_time": "2021-11-06T17:34:26.088Z"
   },
   {
    "duration": 57,
    "start_time": "2021-11-06T17:34:26.151Z"
   },
   {
    "duration": 3,
    "start_time": "2021-11-06T17:34:26.210Z"
   },
   {
    "duration": 672,
    "start_time": "2021-11-06T17:34:26.215Z"
   },
   {
    "duration": 880,
    "start_time": "2021-11-06T17:34:26.890Z"
   },
   {
    "duration": 12,
    "start_time": "2021-11-06T17:34:27.772Z"
   },
   {
    "duration": 23,
    "start_time": "2021-11-06T17:34:27.786Z"
   },
   {
    "duration": 21,
    "start_time": "2021-11-06T17:34:27.830Z"
   },
   {
    "duration": 7,
    "start_time": "2021-11-06T17:34:27.853Z"
   },
   {
    "duration": 17,
    "start_time": "2021-11-06T17:34:27.863Z"
   },
   {
    "duration": 64,
    "start_time": "2021-11-06T17:34:27.882Z"
   },
   {
    "duration": 959,
    "start_time": "2021-11-06T17:34:27.950Z"
   },
   {
    "duration": 22,
    "start_time": "2021-11-06T17:34:28.913Z"
   },
   {
    "duration": 21,
    "start_time": "2021-11-06T17:34:28.939Z"
   },
   {
    "duration": 5,
    "start_time": "2021-11-06T17:34:28.963Z"
   },
   {
    "duration": 7,
    "start_time": "2021-11-06T17:34:28.973Z"
   },
   {
    "duration": 436,
    "start_time": "2021-11-06T17:34:28.984Z"
   },
   {
    "duration": 20,
    "start_time": "2021-11-06T17:34:29.422Z"
   },
   {
    "duration": 471,
    "start_time": "2021-11-06T17:34:29.445Z"
   },
   {
    "duration": 25,
    "start_time": "2021-11-06T17:34:29.918Z"
   },
   {
    "duration": 10,
    "start_time": "2021-11-06T17:34:29.946Z"
   },
   {
    "duration": 19,
    "start_time": "2021-11-06T17:34:29.959Z"
   },
   {
    "duration": 401,
    "start_time": "2021-11-06T17:34:29.980Z"
   },
   {
    "duration": 14,
    "start_time": "2021-11-06T17:34:30.384Z"
   },
   {
    "duration": 684,
    "start_time": "2021-11-06T17:34:30.401Z"
   },
   {
    "duration": 14,
    "start_time": "2021-11-06T17:34:31.088Z"
   },
   {
    "duration": 419,
    "start_time": "2021-11-06T17:34:31.105Z"
   },
   {
    "duration": 13,
    "start_time": "2021-11-06T17:34:31.527Z"
   },
   {
    "duration": 405,
    "start_time": "2021-11-06T17:34:31.544Z"
   },
   {
    "duration": 1100,
    "start_time": "2021-11-06T17:34:31.952Z"
   },
   {
    "duration": 14,
    "start_time": "2021-11-06T17:34:33.055Z"
   },
   {
    "duration": 14,
    "start_time": "2021-11-06T17:34:33.071Z"
   },
   {
    "duration": 127,
    "start_time": "2021-11-06T17:34:33.087Z"
   },
   {
    "duration": 32,
    "start_time": "2021-11-06T17:34:33.216Z"
   },
   {
    "duration": 39,
    "start_time": "2021-11-06T17:34:33.250Z"
   },
   {
    "duration": 68,
    "start_time": "2021-11-06T17:34:33.291Z"
   },
   {
    "duration": 77,
    "start_time": "2021-11-06T17:34:33.362Z"
   },
   {
    "duration": 278,
    "start_time": "2021-11-06T17:34:33.442Z"
   },
   {
    "duration": 267,
    "start_time": "2021-11-06T17:34:33.730Z"
   },
   {
    "duration": 57,
    "start_time": "2021-11-06T17:34:34.000Z"
   },
   {
    "duration": 10,
    "start_time": "2021-11-06T17:34:34.059Z"
   },
   {
    "duration": 11,
    "start_time": "2021-11-06T17:34:34.071Z"
   },
   {
    "duration": 468,
    "start_time": "2021-11-06T17:34:34.084Z"
   },
   {
    "duration": 6,
    "start_time": "2021-11-06T17:34:34.554Z"
   },
   {
    "duration": 33,
    "start_time": "2021-11-06T17:34:34.563Z"
   },
   {
    "duration": 66,
    "start_time": "2021-11-06T17:34:34.598Z"
   },
   {
    "duration": 125,
    "start_time": "2021-11-06T17:34:34.666Z"
   },
   {
    "duration": 700,
    "start_time": "2021-11-06T17:35:10.374Z"
   },
   {
    "duration": 906,
    "start_time": "2021-11-06T17:35:27.799Z"
   },
   {
    "duration": 92,
    "start_time": "2021-11-06T17:35:28.708Z"
   },
   {
    "duration": 62,
    "start_time": "2021-11-06T17:35:28.803Z"
   },
   {
    "duration": 16,
    "start_time": "2021-11-06T17:35:28.867Z"
   },
   {
    "duration": 70,
    "start_time": "2021-11-06T17:35:28.886Z"
   },
   {
    "duration": 11,
    "start_time": "2021-11-06T17:35:28.959Z"
   },
   {
    "duration": 13,
    "start_time": "2021-11-06T17:35:28.972Z"
   },
   {
    "duration": 58,
    "start_time": "2021-11-06T17:35:28.987Z"
   },
   {
    "duration": 58,
    "start_time": "2021-11-06T17:35:29.049Z"
   },
   {
    "duration": 19,
    "start_time": "2021-11-06T17:35:29.110Z"
   },
   {
    "duration": 652,
    "start_time": "2021-11-06T17:35:29.133Z"
   },
   {
    "duration": 894,
    "start_time": "2021-11-06T17:35:29.788Z"
   },
   {
    "duration": 12,
    "start_time": "2021-11-06T17:35:30.685Z"
   },
   {
    "duration": 38,
    "start_time": "2021-11-06T17:35:30.699Z"
   },
   {
    "duration": 22,
    "start_time": "2021-11-06T17:35:30.740Z"
   },
   {
    "duration": 8,
    "start_time": "2021-11-06T17:35:30.765Z"
   },
   {
    "duration": 31,
    "start_time": "2021-11-06T17:35:30.775Z"
   },
   {
    "duration": 38,
    "start_time": "2021-11-06T17:35:30.809Z"
   },
   {
    "duration": 998,
    "start_time": "2021-11-06T17:35:30.851Z"
   },
   {
    "duration": 14,
    "start_time": "2021-11-06T17:35:31.852Z"
   },
   {
    "duration": 32,
    "start_time": "2021-11-06T17:35:31.869Z"
   },
   {
    "duration": 13,
    "start_time": "2021-11-06T17:35:31.904Z"
   },
   {
    "duration": 16,
    "start_time": "2021-11-06T17:35:31.932Z"
   },
   {
    "duration": 410,
    "start_time": "2021-11-06T17:35:31.951Z"
   },
   {
    "duration": 12,
    "start_time": "2021-11-06T17:35:32.363Z"
   },
   {
    "duration": 480,
    "start_time": "2021-11-06T17:35:32.377Z"
   },
   {
    "duration": 12,
    "start_time": "2021-11-06T17:35:32.863Z"
   },
   {
    "duration": 8,
    "start_time": "2021-11-06T17:35:32.878Z"
   },
   {
    "duration": 56,
    "start_time": "2021-11-06T17:35:32.888Z"
   },
   {
    "duration": 369,
    "start_time": "2021-11-06T17:35:32.947Z"
   },
   {
    "duration": 17,
    "start_time": "2021-11-06T17:35:33.318Z"
   },
   {
    "duration": 1025,
    "start_time": "2021-11-06T17:35:33.337Z"
   },
   {
    "duration": 15,
    "start_time": "2021-11-06T17:35:34.365Z"
   },
   {
    "duration": 498,
    "start_time": "2021-11-06T17:35:34.383Z"
   },
   {
    "duration": 10,
    "start_time": "2021-11-06T17:35:34.884Z"
   },
   {
    "duration": 404,
    "start_time": "2021-11-06T17:35:34.896Z"
   },
   {
    "duration": 1083,
    "start_time": "2021-11-06T17:35:35.303Z"
   },
   {
    "duration": 17,
    "start_time": "2021-11-06T17:35:36.388Z"
   },
   {
    "duration": 33,
    "start_time": "2021-11-06T17:35:36.407Z"
   },
   {
    "duration": 119,
    "start_time": "2021-11-06T17:35:36.444Z"
   },
   {
    "duration": 18,
    "start_time": "2021-11-06T17:35:36.566Z"
   },
   {
    "duration": 76,
    "start_time": "2021-11-06T17:35:36.586Z"
   },
   {
    "duration": 36,
    "start_time": "2021-11-06T17:35:36.664Z"
   },
   {
    "duration": 64,
    "start_time": "2021-11-06T17:35:36.703Z"
   },
   {
    "duration": 292,
    "start_time": "2021-11-06T17:35:36.770Z"
   },
   {
    "duration": 273,
    "start_time": "2021-11-06T17:35:37.065Z"
   },
   {
    "duration": 33,
    "start_time": "2021-11-06T17:35:37.341Z"
   },
   {
    "duration": 10,
    "start_time": "2021-11-06T17:35:37.377Z"
   },
   {
    "duration": 46,
    "start_time": "2021-11-06T17:35:37.389Z"
   },
   {
    "duration": 424,
    "start_time": "2021-11-06T17:35:37.438Z"
   },
   {
    "duration": 8,
    "start_time": "2021-11-06T17:35:37.866Z"
   },
   {
    "duration": 76,
    "start_time": "2021-11-06T17:35:37.877Z"
   },
   {
    "duration": 73,
    "start_time": "2021-11-06T17:35:37.957Z"
   },
   {
    "duration": 167,
    "start_time": "2021-11-06T17:35:38.037Z"
   },
   {
    "duration": 891,
    "start_time": "2021-11-06T17:36:33.997Z"
   },
   {
    "duration": 98,
    "start_time": "2021-11-06T17:36:34.891Z"
   },
   {
    "duration": 63,
    "start_time": "2021-11-06T17:36:34.992Z"
   },
   {
    "duration": 15,
    "start_time": "2021-11-06T17:36:35.058Z"
   },
   {
    "duration": 66,
    "start_time": "2021-11-06T17:36:35.076Z"
   },
   {
    "duration": 19,
    "start_time": "2021-11-06T17:36:35.145Z"
   },
   {
    "duration": 12,
    "start_time": "2021-11-06T17:36:35.166Z"
   },
   {
    "duration": 60,
    "start_time": "2021-11-06T17:36:35.182Z"
   },
   {
    "duration": 55,
    "start_time": "2021-11-06T17:36:35.246Z"
   },
   {
    "duration": 24,
    "start_time": "2021-11-06T17:36:35.305Z"
   },
   {
    "duration": 479,
    "start_time": "2021-11-06T17:36:35.333Z"
   },
   {
    "duration": 1066,
    "start_time": "2021-11-06T17:36:35.815Z"
   },
   {
    "duration": 13,
    "start_time": "2021-11-06T17:36:36.883Z"
   },
   {
    "duration": 39,
    "start_time": "2021-11-06T17:36:36.898Z"
   },
   {
    "duration": 17,
    "start_time": "2021-11-06T17:36:36.940Z"
   },
   {
    "duration": 8,
    "start_time": "2021-11-06T17:36:36.959Z"
   },
   {
    "duration": 16,
    "start_time": "2021-11-06T17:36:36.970Z"
   },
   {
    "duration": 57,
    "start_time": "2021-11-06T17:36:36.989Z"
   },
   {
    "duration": 1081,
    "start_time": "2021-11-06T17:36:37.050Z"
   },
   {
    "duration": 19,
    "start_time": "2021-11-06T17:36:38.134Z"
   },
   {
    "duration": 19,
    "start_time": "2021-11-06T17:36:38.155Z"
   },
   {
    "duration": 5,
    "start_time": "2021-11-06T17:36:38.176Z"
   },
   {
    "duration": 5,
    "start_time": "2021-11-06T17:36:38.186Z"
   },
   {
    "duration": 585,
    "start_time": "2021-11-06T17:36:38.194Z"
   },
   {
    "duration": 12,
    "start_time": "2021-11-06T17:36:38.782Z"
   },
   {
    "duration": 500,
    "start_time": "2021-11-06T17:36:38.796Z"
   },
   {
    "duration": 12,
    "start_time": "2021-11-06T17:36:39.298Z"
   },
   {
    "duration": 25,
    "start_time": "2021-11-06T17:36:39.313Z"
   },
   {
    "duration": 25,
    "start_time": "2021-11-06T17:36:39.342Z"
   },
   {
    "duration": 374,
    "start_time": "2021-11-06T17:36:39.370Z"
   },
   {
    "duration": 13,
    "start_time": "2021-11-06T17:36:39.747Z"
   },
   {
    "duration": 687,
    "start_time": "2021-11-06T17:36:39.763Z"
   },
   {
    "duration": 13,
    "start_time": "2021-11-06T17:36:40.452Z"
   },
   {
    "duration": 407,
    "start_time": "2021-11-06T17:36:40.467Z"
   },
   {
    "duration": 9,
    "start_time": "2021-11-06T17:36:40.876Z"
   },
   {
    "duration": 429,
    "start_time": "2021-11-06T17:36:40.887Z"
   },
   {
    "duration": 1121,
    "start_time": "2021-11-06T17:36:41.318Z"
   },
   {
    "duration": 16,
    "start_time": "2021-11-06T17:36:42.442Z"
   },
   {
    "duration": 11,
    "start_time": "2021-11-06T17:36:42.461Z"
   },
   {
    "duration": 131,
    "start_time": "2021-11-06T17:36:42.475Z"
   },
   {
    "duration": 32,
    "start_time": "2021-11-06T17:36:42.609Z"
   },
   {
    "duration": 40,
    "start_time": "2021-11-06T17:36:42.644Z"
   },
   {
    "duration": 70,
    "start_time": "2021-11-06T17:36:42.686Z"
   },
   {
    "duration": 35,
    "start_time": "2021-11-06T17:36:42.758Z"
   },
   {
    "duration": 308,
    "start_time": "2021-11-06T17:36:42.795Z"
   },
   {
    "duration": 389,
    "start_time": "2021-11-06T17:36:43.106Z"
   },
   {
    "duration": 63,
    "start_time": "2021-11-06T17:36:43.498Z"
   },
   {
    "duration": 10,
    "start_time": "2021-11-06T17:36:43.563Z"
   },
   {
    "duration": 10,
    "start_time": "2021-11-06T17:36:43.576Z"
   },
   {
    "duration": 380,
    "start_time": "2021-11-06T17:36:43.589Z"
   },
   {
    "duration": 7,
    "start_time": "2021-11-06T17:36:43.972Z"
   },
   {
    "duration": 71,
    "start_time": "2021-11-06T17:36:43.981Z"
   },
   {
    "duration": 40,
    "start_time": "2021-11-06T17:36:44.055Z"
   },
   {
    "duration": 151,
    "start_time": "2021-11-06T17:36:44.097Z"
   },
   {
    "duration": 773,
    "start_time": "2021-11-06T17:37:28.078Z"
   },
   {
    "duration": 319,
    "start_time": "2021-11-06T17:37:46.677Z"
   },
   {
    "duration": 905,
    "start_time": "2021-11-06T17:37:54.003Z"
   },
   {
    "duration": 92,
    "start_time": "2021-11-06T17:37:54.910Z"
   },
   {
    "duration": 63,
    "start_time": "2021-11-06T17:37:55.005Z"
   },
   {
    "duration": 15,
    "start_time": "2021-11-06T17:37:55.071Z"
   },
   {
    "duration": 74,
    "start_time": "2021-11-06T17:37:55.088Z"
   },
   {
    "duration": 12,
    "start_time": "2021-11-06T17:37:55.164Z"
   },
   {
    "duration": 12,
    "start_time": "2021-11-06T17:37:55.178Z"
   },
   {
    "duration": 50,
    "start_time": "2021-11-06T17:37:55.194Z"
   },
   {
    "duration": 57,
    "start_time": "2021-11-06T17:37:55.248Z"
   },
   {
    "duration": 23,
    "start_time": "2021-11-06T17:37:55.307Z"
   },
   {
    "duration": 468,
    "start_time": "2021-11-06T17:37:55.333Z"
   },
   {
    "duration": 1025,
    "start_time": "2021-11-06T17:37:55.803Z"
   },
   {
    "duration": 16,
    "start_time": "2021-11-06T17:37:56.834Z"
   },
   {
    "duration": 12,
    "start_time": "2021-11-06T17:37:56.852Z"
   },
   {
    "duration": 18,
    "start_time": "2021-11-06T17:37:56.866Z"
   },
   {
    "duration": 7,
    "start_time": "2021-11-06T17:37:56.886Z"
   },
   {
    "duration": 23,
    "start_time": "2021-11-06T17:37:56.932Z"
   },
   {
    "duration": 14,
    "start_time": "2021-11-06T17:37:56.957Z"
   },
   {
    "duration": 983,
    "start_time": "2021-11-06T17:37:56.973Z"
   },
   {
    "duration": 11,
    "start_time": "2021-11-06T17:37:57.958Z"
   },
   {
    "duration": 23,
    "start_time": "2021-11-06T17:37:57.971Z"
   },
   {
    "duration": 5,
    "start_time": "2021-11-06T17:37:57.996Z"
   },
   {
    "duration": 7,
    "start_time": "2021-11-06T17:37:58.032Z"
   },
   {
    "duration": 404,
    "start_time": "2021-11-06T17:37:58.044Z"
   },
   {
    "duration": 11,
    "start_time": "2021-11-06T17:37:58.451Z"
   },
   {
    "duration": 458,
    "start_time": "2021-11-06T17:37:58.464Z"
   },
   {
    "duration": 18,
    "start_time": "2021-11-06T17:37:58.929Z"
   },
   {
    "duration": 9,
    "start_time": "2021-11-06T17:37:58.951Z"
   },
   {
    "duration": 19,
    "start_time": "2021-11-06T17:37:58.962Z"
   },
   {
    "duration": 379,
    "start_time": "2021-11-06T17:37:58.983Z"
   },
   {
    "duration": 11,
    "start_time": "2021-11-06T17:37:59.365Z"
   },
   {
    "duration": 886,
    "start_time": "2021-11-06T17:37:59.378Z"
   },
   {
    "duration": 17,
    "start_time": "2021-11-06T17:38:00.268Z"
   },
   {
    "duration": 589,
    "start_time": "2021-11-06T17:38:00.288Z"
   },
   {
    "duration": 11,
    "start_time": "2021-11-06T17:38:00.881Z"
   },
   {
    "duration": 608,
    "start_time": "2021-11-06T17:38:00.896Z"
   },
   {
    "duration": 1280,
    "start_time": "2021-11-06T17:38:01.507Z"
   },
   {
    "duration": 14,
    "start_time": "2021-11-06T17:38:02.789Z"
   },
   {
    "duration": 33,
    "start_time": "2021-11-06T17:38:02.806Z"
   },
   {
    "duration": 127,
    "start_time": "2021-11-06T17:38:02.843Z"
   },
   {
    "duration": 18,
    "start_time": "2021-11-06T17:38:02.973Z"
   },
   {
    "duration": 71,
    "start_time": "2021-11-06T17:38:02.994Z"
   },
   {
    "duration": 40,
    "start_time": "2021-11-06T17:38:03.068Z"
   },
   {
    "duration": 38,
    "start_time": "2021-11-06T17:38:03.131Z"
   },
   {
    "duration": 290,
    "start_time": "2021-11-06T17:38:03.171Z"
   },
   {
    "duration": 286,
    "start_time": "2021-11-06T17:38:03.463Z"
   },
   {
    "duration": 30,
    "start_time": "2021-11-06T17:38:03.752Z"
   },
   {
    "duration": 9,
    "start_time": "2021-11-06T17:38:03.784Z"
   },
   {
    "duration": 37,
    "start_time": "2021-11-06T17:38:03.796Z"
   },
   {
    "duration": 347,
    "start_time": "2021-11-06T17:38:03.836Z"
   },
   {
    "duration": 6,
    "start_time": "2021-11-06T17:38:04.186Z"
   },
   {
    "duration": 60,
    "start_time": "2021-11-06T17:38:04.195Z"
   },
   {
    "duration": 42,
    "start_time": "2021-11-06T17:38:04.258Z"
   },
   {
    "duration": 177,
    "start_time": "2021-11-06T17:38:04.303Z"
   },
   {
    "duration": 959,
    "start_time": "2021-11-06T17:40:23.033Z"
   },
   {
    "duration": 96,
    "start_time": "2021-11-06T17:40:23.995Z"
   },
   {
    "duration": 54,
    "start_time": "2021-11-06T17:40:24.095Z"
   },
   {
    "duration": 20,
    "start_time": "2021-11-06T17:40:24.152Z"
   },
   {
    "duration": 79,
    "start_time": "2021-11-06T17:40:24.174Z"
   },
   {
    "duration": 14,
    "start_time": "2021-11-06T17:40:24.257Z"
   },
   {
    "duration": 13,
    "start_time": "2021-11-06T17:40:24.274Z"
   },
   {
    "duration": 50,
    "start_time": "2021-11-06T17:40:24.293Z"
   },
   {
    "duration": 108,
    "start_time": "2021-11-06T17:40:24.346Z"
   },
   {
    "duration": 4,
    "start_time": "2021-11-06T17:40:24.457Z"
   },
   {
    "duration": 456,
    "start_time": "2021-11-06T17:40:24.464Z"
   },
   {
    "duration": 1028,
    "start_time": "2021-11-06T17:40:24.930Z"
   },
   {
    "duration": 11,
    "start_time": "2021-11-06T17:40:25.960Z"
   },
   {
    "duration": 11,
    "start_time": "2021-11-06T17:40:25.974Z"
   },
   {
    "duration": 51,
    "start_time": "2021-11-06T17:40:25.988Z"
   },
   {
    "duration": 10,
    "start_time": "2021-11-06T17:40:26.042Z"
   },
   {
    "duration": 20,
    "start_time": "2021-11-06T17:40:26.054Z"
   },
   {
    "duration": 17,
    "start_time": "2021-11-06T17:40:26.077Z"
   },
   {
    "duration": 948,
    "start_time": "2021-11-06T17:40:26.130Z"
   },
   {
    "duration": 10,
    "start_time": "2021-11-06T17:40:27.081Z"
   },
   {
    "duration": 39,
    "start_time": "2021-11-06T17:40:27.093Z"
   },
   {
    "duration": 10,
    "start_time": "2021-11-06T17:40:27.135Z"
   },
   {
    "duration": 6,
    "start_time": "2021-11-06T17:40:27.154Z"
   },
   {
    "duration": 434,
    "start_time": "2021-11-06T17:40:27.162Z"
   },
   {
    "duration": 11,
    "start_time": "2021-11-06T17:40:27.599Z"
   },
   {
    "duration": 463,
    "start_time": "2021-11-06T17:40:27.628Z"
   },
   {
    "duration": 11,
    "start_time": "2021-11-06T17:40:28.094Z"
   },
   {
    "duration": 32,
    "start_time": "2021-11-06T17:40:28.107Z"
   },
   {
    "duration": 22,
    "start_time": "2021-11-06T17:40:28.142Z"
   },
   {
    "duration": 367,
    "start_time": "2021-11-06T17:40:28.166Z"
   },
   {
    "duration": 16,
    "start_time": "2021-11-06T17:40:28.536Z"
   },
   {
    "duration": 660,
    "start_time": "2021-11-06T17:40:28.555Z"
   },
   {
    "duration": 26,
    "start_time": "2021-11-06T17:40:29.217Z"
   },
   {
    "duration": 369,
    "start_time": "2021-11-06T17:40:29.247Z"
   },
   {
    "duration": 18,
    "start_time": "2021-11-06T17:40:29.619Z"
   },
   {
    "duration": 410,
    "start_time": "2021-11-06T17:40:29.640Z"
   },
   {
    "duration": 1138,
    "start_time": "2021-11-06T17:40:30.053Z"
   },
   {
    "duration": 16,
    "start_time": "2021-11-06T17:40:31.194Z"
   },
   {
    "duration": 39,
    "start_time": "2021-11-06T17:40:31.214Z"
   },
   {
    "duration": 109,
    "start_time": "2021-11-06T17:40:31.255Z"
   },
   {
    "duration": 19,
    "start_time": "2021-11-06T17:40:31.366Z"
   },
   {
    "duration": 72,
    "start_time": "2021-11-06T17:40:31.388Z"
   },
   {
    "duration": 35,
    "start_time": "2021-11-06T17:40:31.463Z"
   },
   {
    "duration": 63,
    "start_time": "2021-11-06T17:40:31.501Z"
   },
   {
    "duration": 397,
    "start_time": "2021-11-06T17:40:31.567Z"
   },
   {
    "duration": 301,
    "start_time": "2021-11-06T17:40:31.967Z"
   },
   {
    "duration": 34,
    "start_time": "2021-11-06T17:40:32.271Z"
   },
   {
    "duration": 31,
    "start_time": "2021-11-06T17:40:32.307Z"
   },
   {
    "duration": 12,
    "start_time": "2021-11-06T17:40:32.342Z"
   },
   {
    "duration": 361,
    "start_time": "2021-11-06T17:40:32.357Z"
   },
   {
    "duration": 12,
    "start_time": "2021-11-06T17:40:32.721Z"
   },
   {
    "duration": 39,
    "start_time": "2021-11-06T17:40:32.736Z"
   },
   {
    "duration": 77,
    "start_time": "2021-11-06T17:40:32.778Z"
   },
   {
    "duration": 127,
    "start_time": "2021-11-06T17:40:32.858Z"
   },
   {
    "duration": 918,
    "start_time": "2021-11-06T17:41:14.744Z"
   },
   {
    "duration": 97,
    "start_time": "2021-11-06T17:41:15.665Z"
   },
   {
    "duration": 52,
    "start_time": "2021-11-06T17:41:15.766Z"
   },
   {
    "duration": 23,
    "start_time": "2021-11-06T17:41:15.821Z"
   },
   {
    "duration": 42,
    "start_time": "2021-11-06T17:41:15.849Z"
   },
   {
    "duration": 13,
    "start_time": "2021-11-06T17:41:15.893Z"
   },
   {
    "duration": 27,
    "start_time": "2021-11-06T17:41:15.909Z"
   },
   {
    "duration": 25,
    "start_time": "2021-11-06T17:41:15.940Z"
   },
   {
    "duration": 54,
    "start_time": "2021-11-06T17:41:15.968Z"
   },
   {
    "duration": 6,
    "start_time": "2021-11-06T17:41:16.032Z"
   },
   {
    "duration": 648,
    "start_time": "2021-11-06T17:41:16.041Z"
   },
   {
    "duration": 1188,
    "start_time": "2021-11-06T17:41:16.691Z"
   },
   {
    "duration": 13,
    "start_time": "2021-11-06T17:41:17.881Z"
   },
   {
    "duration": 34,
    "start_time": "2021-11-06T17:41:17.896Z"
   },
   {
    "duration": 20,
    "start_time": "2021-11-06T17:41:17.934Z"
   },
   {
    "duration": 7,
    "start_time": "2021-11-06T17:41:17.957Z"
   },
   {
    "duration": 19,
    "start_time": "2021-11-06T17:41:17.966Z"
   },
   {
    "duration": 59,
    "start_time": "2021-11-06T17:41:17.987Z"
   },
   {
    "duration": 2015,
    "start_time": "2021-11-06T17:41:18.049Z"
   },
   {
    "duration": 19,
    "start_time": "2021-11-06T17:41:20.067Z"
   },
   {
    "duration": 42,
    "start_time": "2021-11-06T17:41:20.089Z"
   },
   {
    "duration": 7,
    "start_time": "2021-11-06T17:41:20.134Z"
   },
   {
    "duration": 8,
    "start_time": "2021-11-06T17:41:20.149Z"
   },
   {
    "duration": 426,
    "start_time": "2021-11-06T17:41:20.160Z"
   },
   {
    "duration": 13,
    "start_time": "2021-11-06T17:41:20.588Z"
   },
   {
    "duration": 481,
    "start_time": "2021-11-06T17:41:20.603Z"
   },
   {
    "duration": 11,
    "start_time": "2021-11-06T17:41:21.087Z"
   },
   {
    "duration": 30,
    "start_time": "2021-11-06T17:41:21.101Z"
   },
   {
    "duration": 26,
    "start_time": "2021-11-06T17:41:21.135Z"
   },
   {
    "duration": 359,
    "start_time": "2021-11-06T17:41:21.163Z"
   },
   {
    "duration": 18,
    "start_time": "2021-11-06T17:41:21.524Z"
   },
   {
    "duration": 912,
    "start_time": "2021-11-06T17:41:21.545Z"
   },
   {
    "duration": 12,
    "start_time": "2021-11-06T17:41:22.459Z"
   },
   {
    "duration": 404,
    "start_time": "2021-11-06T17:41:22.473Z"
   },
   {
    "duration": 8,
    "start_time": "2021-11-06T17:41:22.879Z"
   },
   {
    "duration": 410,
    "start_time": "2021-11-06T17:41:22.889Z"
   },
   {
    "duration": 1111,
    "start_time": "2021-11-06T17:41:23.301Z"
   },
   {
    "duration": 29,
    "start_time": "2021-11-06T17:41:24.415Z"
   },
   {
    "duration": 15,
    "start_time": "2021-11-06T17:41:24.447Z"
   },
   {
    "duration": 156,
    "start_time": "2021-11-06T17:41:24.465Z"
   },
   {
    "duration": 25,
    "start_time": "2021-11-06T17:41:24.624Z"
   },
   {
    "duration": 78,
    "start_time": "2021-11-06T17:41:24.652Z"
   },
   {
    "duration": 50,
    "start_time": "2021-11-06T17:41:24.733Z"
   },
   {
    "duration": 76,
    "start_time": "2021-11-06T17:41:24.786Z"
   },
   {
    "duration": 382,
    "start_time": "2021-11-06T17:41:24.865Z"
   },
   {
    "duration": 270,
    "start_time": "2021-11-06T17:41:25.250Z"
   },
   {
    "duration": 40,
    "start_time": "2021-11-06T17:41:25.523Z"
   },
   {
    "duration": 11,
    "start_time": "2021-11-06T17:41:25.566Z"
   },
   {
    "duration": 16,
    "start_time": "2021-11-06T17:41:25.580Z"
   },
   {
    "duration": 363,
    "start_time": "2021-11-06T17:41:25.599Z"
   },
   {
    "duration": 7,
    "start_time": "2021-11-06T17:41:25.964Z"
   },
   {
    "duration": 55,
    "start_time": "2021-11-06T17:41:25.973Z"
   },
   {
    "duration": 45,
    "start_time": "2021-11-06T17:41:26.031Z"
   },
   {
    "duration": 138,
    "start_time": "2021-11-06T17:41:26.078Z"
   },
   {
    "duration": 362,
    "start_time": "2021-11-06T17:49:21.585Z"
   },
   {
    "duration": 874,
    "start_time": "2021-11-06T17:49:28.190Z"
   },
   {
    "duration": 119,
    "start_time": "2021-11-06T17:49:29.067Z"
   },
   {
    "duration": 82,
    "start_time": "2021-11-06T17:49:29.190Z"
   },
   {
    "duration": 22,
    "start_time": "2021-11-06T17:49:29.275Z"
   },
   {
    "duration": 63,
    "start_time": "2021-11-06T17:49:29.300Z"
   },
   {
    "duration": 12,
    "start_time": "2021-11-06T17:49:29.366Z"
   },
   {
    "duration": 12,
    "start_time": "2021-11-06T17:49:29.381Z"
   },
   {
    "duration": 56,
    "start_time": "2021-11-06T17:49:29.397Z"
   },
   {
    "duration": 53,
    "start_time": "2021-11-06T17:49:29.456Z"
   },
   {
    "duration": 466,
    "start_time": "2021-11-06T17:49:29.512Z"
   },
   {
    "duration": 346,
    "start_time": "2021-11-06T17:49:29.980Z"
   },
   {
    "duration": 687,
    "start_time": "2021-11-06T17:49:29.644Z"
   },
   {
    "duration": 683,
    "start_time": "2021-11-06T17:49:29.651Z"
   },
   {
    "duration": 681,
    "start_time": "2021-11-06T17:49:29.655Z"
   },
   {
    "duration": 677,
    "start_time": "2021-11-06T17:49:29.661Z"
   },
   {
    "duration": 673,
    "start_time": "2021-11-06T17:49:29.667Z"
   },
   {
    "duration": 670,
    "start_time": "2021-11-06T17:49:29.672Z"
   },
   {
    "duration": 667,
    "start_time": "2021-11-06T17:49:29.677Z"
   },
   {
    "duration": 663,
    "start_time": "2021-11-06T17:49:29.683Z"
   },
   {
    "duration": 661,
    "start_time": "2021-11-06T17:49:29.687Z"
   },
   {
    "duration": 657,
    "start_time": "2021-11-06T17:49:29.692Z"
   },
   {
    "duration": 655,
    "start_time": "2021-11-06T17:49:29.696Z"
   },
   {
    "duration": 651,
    "start_time": "2021-11-06T17:49:29.702Z"
   },
   {
    "duration": 647,
    "start_time": "2021-11-06T17:49:29.707Z"
   },
   {
    "duration": 643,
    "start_time": "2021-11-06T17:49:29.712Z"
   },
   {
    "duration": 640,
    "start_time": "2021-11-06T17:49:29.717Z"
   },
   {
    "duration": 636,
    "start_time": "2021-11-06T17:49:29.722Z"
   },
   {
    "duration": 624,
    "start_time": "2021-11-06T17:49:29.735Z"
   },
   {
    "duration": 620,
    "start_time": "2021-11-06T17:49:29.741Z"
   },
   {
    "duration": 617,
    "start_time": "2021-11-06T17:49:29.745Z"
   },
   {
    "duration": 613,
    "start_time": "2021-11-06T17:49:29.750Z"
   },
   {
    "duration": 610,
    "start_time": "2021-11-06T17:49:29.755Z"
   },
   {
    "duration": 606,
    "start_time": "2021-11-06T17:49:29.760Z"
   },
   {
    "duration": 603,
    "start_time": "2021-11-06T17:49:29.765Z"
   },
   {
    "duration": 600,
    "start_time": "2021-11-06T17:49:29.770Z"
   },
   {
    "duration": 597,
    "start_time": "2021-11-06T17:49:29.775Z"
   },
   {
    "duration": 593,
    "start_time": "2021-11-06T17:49:29.780Z"
   },
   {
    "duration": 589,
    "start_time": "2021-11-06T17:49:29.785Z"
   },
   {
    "duration": 585,
    "start_time": "2021-11-06T17:49:29.790Z"
   },
   {
    "duration": 582,
    "start_time": "2021-11-06T17:49:29.794Z"
   },
   {
    "duration": 578,
    "start_time": "2021-11-06T17:49:29.799Z"
   },
   {
    "duration": 574,
    "start_time": "2021-11-06T17:49:29.804Z"
   },
   {
    "duration": 569,
    "start_time": "2021-11-06T17:49:29.810Z"
   },
   {
    "duration": 620,
    "start_time": "2021-11-06T17:49:29.814Z"
   },
   {
    "duration": 608,
    "start_time": "2021-11-06T17:49:29.828Z"
   },
   {
    "duration": 606,
    "start_time": "2021-11-06T17:49:29.832Z"
   },
   {
    "duration": 593,
    "start_time": "2021-11-06T17:49:29.847Z"
   },
   {
    "duration": 589,
    "start_time": "2021-11-06T17:49:29.853Z"
   },
   {
    "duration": 586,
    "start_time": "2021-11-06T17:49:29.858Z"
   },
   {
    "duration": 583,
    "start_time": "2021-11-06T17:49:29.863Z"
   },
   {
    "duration": 580,
    "start_time": "2021-11-06T17:49:29.868Z"
   },
   {
    "duration": 578,
    "start_time": "2021-11-06T17:49:29.872Z"
   },
   {
    "duration": 569,
    "start_time": "2021-11-06T17:49:29.883Z"
   },
   {
    "duration": 444,
    "start_time": "2021-11-06T17:50:25.974Z"
   },
   {
    "duration": 504,
    "start_time": "2021-11-06T17:50:33.847Z"
   },
   {
    "duration": 465,
    "start_time": "2021-11-06T17:50:40.356Z"
   },
   {
    "duration": 900,
    "start_time": "2021-11-06T17:50:53.924Z"
   },
   {
    "duration": 798,
    "start_time": "2021-11-06T17:51:03.574Z"
   },
   {
    "duration": 1126,
    "start_time": "2021-11-06T17:51:09.073Z"
   },
   {
    "duration": 1232,
    "start_time": "2021-11-06T17:51:32.255Z"
   },
   {
    "duration": 930,
    "start_time": "2021-11-06T17:51:40.380Z"
   },
   {
    "duration": 1290,
    "start_time": "2021-11-06T17:51:55.004Z"
   },
   {
    "duration": 1076,
    "start_time": "2021-11-06T17:52:17.475Z"
   },
   {
    "duration": 1304,
    "start_time": "2021-11-06T17:52:36.526Z"
   },
   {
    "duration": 981,
    "start_time": "2021-11-06T17:52:45.858Z"
   },
   {
    "duration": 988,
    "start_time": "2021-11-06T17:53:26.334Z"
   },
   {
    "duration": 669,
    "start_time": "2021-11-06T17:53:56.776Z"
   },
   {
    "duration": 514,
    "start_time": "2021-11-06T17:54:51.777Z"
   },
   {
    "duration": 93,
    "start_time": "2021-11-06T17:56:18.087Z"
   },
   {
    "duration": 554,
    "start_time": "2021-11-06T17:56:23.426Z"
   },
   {
    "duration": 709,
    "start_time": "2021-11-06T17:56:33.787Z"
   },
   {
    "duration": 602,
    "start_time": "2021-11-06T17:59:51.668Z"
   },
   {
    "duration": 104,
    "start_time": "2021-11-06T18:00:03.081Z"
   },
   {
    "duration": 840,
    "start_time": "2021-11-06T18:00:06.809Z"
   },
   {
    "duration": 749,
    "start_time": "2021-11-06T18:00:17.766Z"
   },
   {
    "duration": 93,
    "start_time": "2021-11-06T18:00:18.518Z"
   },
   {
    "duration": 60,
    "start_time": "2021-11-06T18:00:18.614Z"
   },
   {
    "duration": 15,
    "start_time": "2021-11-06T18:00:18.677Z"
   },
   {
    "duration": 65,
    "start_time": "2021-11-06T18:00:18.695Z"
   },
   {
    "duration": 12,
    "start_time": "2021-11-06T18:00:18.764Z"
   },
   {
    "duration": 31,
    "start_time": "2021-11-06T18:00:18.779Z"
   },
   {
    "duration": 41,
    "start_time": "2021-11-06T18:00:18.813Z"
   },
   {
    "duration": 59,
    "start_time": "2021-11-06T18:00:18.857Z"
   },
   {
    "duration": 1105,
    "start_time": "2021-11-06T18:00:18.919Z"
   },
   {
    "duration": 736,
    "start_time": "2021-11-06T18:00:19.293Z"
   },
   {
    "duration": 729,
    "start_time": "2021-11-06T18:00:19.302Z"
   },
   {
    "duration": 726,
    "start_time": "2021-11-06T18:00:19.307Z"
   },
   {
    "duration": 719,
    "start_time": "2021-11-06T18:00:19.315Z"
   },
   {
    "duration": 716,
    "start_time": "2021-11-06T18:00:19.319Z"
   },
   {
    "duration": 711,
    "start_time": "2021-11-06T18:00:19.326Z"
   },
   {
    "duration": 707,
    "start_time": "2021-11-06T18:00:19.331Z"
   },
   {
    "duration": 704,
    "start_time": "2021-11-06T18:00:19.336Z"
   },
   {
    "duration": 699,
    "start_time": "2021-11-06T18:00:19.342Z"
   },
   {
    "duration": 673,
    "start_time": "2021-11-06T18:00:19.370Z"
   },
   {
    "duration": 665,
    "start_time": "2021-11-06T18:00:19.379Z"
   },
   {
    "duration": 661,
    "start_time": "2021-11-06T18:00:19.385Z"
   },
   {
    "duration": 657,
    "start_time": "2021-11-06T18:00:19.391Z"
   },
   {
    "duration": 652,
    "start_time": "2021-11-06T18:00:19.397Z"
   },
   {
    "duration": 621,
    "start_time": "2021-11-06T18:00:19.430Z"
   },
   {
    "duration": 615,
    "start_time": "2021-11-06T18:00:19.437Z"
   },
   {
    "duration": 611,
    "start_time": "2021-11-06T18:00:19.442Z"
   },
   {
    "duration": 607,
    "start_time": "2021-11-06T18:00:19.448Z"
   },
   {
    "duration": 603,
    "start_time": "2021-11-06T18:00:19.453Z"
   },
   {
    "duration": 598,
    "start_time": "2021-11-06T18:00:19.460Z"
   },
   {
    "duration": 576,
    "start_time": "2021-11-06T18:00:19.483Z"
   },
   {
    "duration": 571,
    "start_time": "2021-11-06T18:00:19.490Z"
   },
   {
    "duration": 569,
    "start_time": "2021-11-06T18:00:19.494Z"
   },
   {
    "duration": 564,
    "start_time": "2021-11-06T18:00:19.501Z"
   },
   {
    "duration": 561,
    "start_time": "2021-11-06T18:00:19.505Z"
   },
   {
    "duration": 618,
    "start_time": "2021-11-06T18:00:19.510Z"
   },
   {
    "duration": 614,
    "start_time": "2021-11-06T18:00:19.516Z"
   },
   {
    "duration": 511,
    "start_time": "2021-11-06T18:00:19.620Z"
   },
   {
    "duration": 495,
    "start_time": "2021-11-06T18:00:19.637Z"
   },
   {
    "duration": 479,
    "start_time": "2021-11-06T18:00:19.654Z"
   },
   {
    "duration": 463,
    "start_time": "2021-11-06T18:00:19.672Z"
   },
   {
    "duration": 459,
    "start_time": "2021-11-06T18:00:19.677Z"
   },
   {
    "duration": 456,
    "start_time": "2021-11-06T18:00:19.681Z"
   },
   {
    "duration": 452,
    "start_time": "2021-11-06T18:00:19.687Z"
   },
   {
    "duration": 444,
    "start_time": "2021-11-06T18:00:19.696Z"
   },
   {
    "duration": 440,
    "start_time": "2021-11-06T18:00:19.702Z"
   },
   {
    "duration": 437,
    "start_time": "2021-11-06T18:00:19.706Z"
   },
   {
    "duration": 426,
    "start_time": "2021-11-06T18:00:19.719Z"
   },
   {
    "duration": 423,
    "start_time": "2021-11-06T18:00:19.723Z"
   },
   {
    "duration": 418,
    "start_time": "2021-11-06T18:00:19.729Z"
   },
   {
    "duration": 415,
    "start_time": "2021-11-06T18:00:19.734Z"
   },
   {
    "duration": 411,
    "start_time": "2021-11-06T18:00:19.739Z"
   },
   {
    "duration": 407,
    "start_time": "2021-11-06T18:00:19.744Z"
   },
   {
    "duration": 805,
    "start_time": "2021-11-06T18:00:53.731Z"
   },
   {
    "duration": 874,
    "start_time": "2021-11-06T18:01:09.371Z"
   },
   {
    "duration": 605,
    "start_time": "2021-11-06T18:01:32.031Z"
   },
   {
    "duration": 99,
    "start_time": "2021-11-06T18:02:16.224Z"
   },
   {
    "duration": 111,
    "start_time": "2021-11-06T18:02:18.301Z"
   },
   {
    "duration": 919,
    "start_time": "2021-11-06T18:02:22.200Z"
   },
   {
    "duration": 4,
    "start_time": "2021-11-06T18:03:00.971Z"
   },
   {
    "duration": 147,
    "start_time": "2021-11-06T18:03:00.979Z"
   },
   {
    "duration": 67,
    "start_time": "2021-11-06T18:03:01.131Z"
   },
   {
    "duration": 38,
    "start_time": "2021-11-06T18:03:01.203Z"
   },
   {
    "duration": 84,
    "start_time": "2021-11-06T18:03:01.244Z"
   },
   {
    "duration": 13,
    "start_time": "2021-11-06T18:03:01.331Z"
   },
   {
    "duration": 24,
    "start_time": "2021-11-06T18:03:01.347Z"
   },
   {
    "duration": 21,
    "start_time": "2021-11-06T18:03:01.373Z"
   },
   {
    "duration": 60,
    "start_time": "2021-11-06T18:03:01.433Z"
   },
   {
    "duration": 1077,
    "start_time": "2021-11-06T18:03:01.498Z"
   },
   {
    "duration": 18,
    "start_time": "2021-11-06T18:03:02.578Z"
   },
   {
    "duration": 35,
    "start_time": "2021-11-06T18:03:02.599Z"
   },
   {
    "duration": 16,
    "start_time": "2021-11-06T18:03:02.637Z"
   },
   {
    "duration": 7,
    "start_time": "2021-11-06T18:03:02.655Z"
   },
   {
    "duration": 29,
    "start_time": "2021-11-06T18:03:02.664Z"
   },
   {
    "duration": 49,
    "start_time": "2021-11-06T18:03:02.696Z"
   },
   {
    "duration": 1685,
    "start_time": "2021-11-06T18:03:02.748Z"
   },
   {
    "duration": 20,
    "start_time": "2021-11-06T18:03:04.437Z"
   },
   {
    "duration": 27,
    "start_time": "2021-11-06T18:03:04.461Z"
   },
   {
    "duration": 8,
    "start_time": "2021-11-06T18:03:04.491Z"
   },
   {
    "duration": 32,
    "start_time": "2021-11-06T18:03:04.502Z"
   },
   {
    "duration": 380,
    "start_time": "2021-11-06T18:03:04.537Z"
   },
   {
    "duration": 21,
    "start_time": "2021-11-06T18:03:04.919Z"
   },
   {
    "duration": 858,
    "start_time": "2021-11-06T18:03:04.943Z"
   },
   {
    "duration": 28,
    "start_time": "2021-11-06T18:03:05.804Z"
   },
   {
    "duration": 11,
    "start_time": "2021-11-06T18:03:05.835Z"
   },
   {
    "duration": 18,
    "start_time": "2021-11-06T18:03:05.854Z"
   },
   {
    "duration": 365,
    "start_time": "2021-11-06T18:03:05.876Z"
   },
   {
    "duration": 14,
    "start_time": "2021-11-06T18:03:06.245Z"
   },
   {
    "duration": 913,
    "start_time": "2021-11-06T18:03:06.262Z"
   },
   {
    "duration": 14,
    "start_time": "2021-11-06T18:03:07.178Z"
   },
   {
    "duration": 375,
    "start_time": "2021-11-06T18:03:07.195Z"
   },
   {
    "duration": 10,
    "start_time": "2021-11-06T18:03:07.573Z"
   },
   {
    "duration": 395,
    "start_time": "2021-11-06T18:03:07.586Z"
   },
   {
    "duration": 1416,
    "start_time": "2021-11-06T18:03:07.983Z"
   },
   {
    "duration": 31,
    "start_time": "2021-11-06T18:03:09.402Z"
   },
   {
    "duration": 15,
    "start_time": "2021-11-06T18:03:09.436Z"
   },
   {
    "duration": 160,
    "start_time": "2021-11-06T18:03:09.454Z"
   },
   {
    "duration": 28,
    "start_time": "2021-11-06T18:03:09.617Z"
   },
   {
    "duration": 42,
    "start_time": "2021-11-06T18:03:09.647Z"
   },
   {
    "duration": 65,
    "start_time": "2021-11-06T18:03:09.692Z"
   },
   {
    "duration": 36,
    "start_time": "2021-11-06T18:03:09.759Z"
   },
   {
    "duration": 405,
    "start_time": "2021-11-06T18:03:09.798Z"
   },
   {
    "duration": 414,
    "start_time": "2021-11-06T18:03:10.205Z"
   },
   {
    "duration": 38,
    "start_time": "2021-11-06T18:03:10.622Z"
   },
   {
    "duration": 12,
    "start_time": "2021-11-06T18:03:10.663Z"
   },
   {
    "duration": 15,
    "start_time": "2021-11-06T18:03:10.677Z"
   },
   {
    "duration": 346,
    "start_time": "2021-11-06T18:03:10.695Z"
   },
   {
    "duration": 6,
    "start_time": "2021-11-06T18:03:11.043Z"
   },
   {
    "duration": 34,
    "start_time": "2021-11-06T18:03:11.052Z"
   },
   {
    "duration": 71,
    "start_time": "2021-11-06T18:03:11.089Z"
   },
   {
    "duration": 130,
    "start_time": "2021-11-06T18:03:11.163Z"
   },
   {
    "duration": 861,
    "start_time": "2021-11-06T18:04:44.883Z"
   },
   {
    "duration": 496,
    "start_time": "2021-11-06T18:06:28.983Z"
   },
   {
    "duration": 838,
    "start_time": "2021-11-06T18:07:13.872Z"
   },
   {
    "duration": 827,
    "start_time": "2021-11-06T18:07:31.832Z"
   },
   {
    "duration": 88,
    "start_time": "2021-11-06T18:09:36.395Z"
   },
   {
    "duration": 100,
    "start_time": "2021-11-06T18:09:39.312Z"
   },
   {
    "duration": 522,
    "start_time": "2021-11-06T18:09:50.890Z"
   },
   {
    "duration": 446,
    "start_time": "2021-11-06T18:09:58.292Z"
   },
   {
    "duration": 745,
    "start_time": "2021-11-06T18:11:08.566Z"
   },
   {
    "duration": 456,
    "start_time": "2021-11-06T18:12:08.945Z"
   },
   {
    "duration": 4,
    "start_time": "2021-11-06T18:12:21.505Z"
   },
   {
    "duration": 118,
    "start_time": "2021-11-06T18:12:21.512Z"
   },
   {
    "duration": 51,
    "start_time": "2021-11-06T18:12:21.634Z"
   },
   {
    "duration": 58,
    "start_time": "2021-11-06T18:12:21.688Z"
   },
   {
    "duration": 37,
    "start_time": "2021-11-06T18:12:21.748Z"
   },
   {
    "duration": 51,
    "start_time": "2021-11-06T18:12:21.788Z"
   },
   {
    "duration": 13,
    "start_time": "2021-11-06T18:12:21.845Z"
   },
   {
    "duration": 17,
    "start_time": "2021-11-06T18:12:21.861Z"
   },
   {
    "duration": 96,
    "start_time": "2021-11-06T18:12:21.881Z"
   },
   {
    "duration": 777,
    "start_time": "2021-11-06T18:12:21.980Z"
   },
   {
    "duration": 11,
    "start_time": "2021-11-06T18:12:22.759Z"
   },
   {
    "duration": 16,
    "start_time": "2021-11-06T18:12:22.773Z"
   },
   {
    "duration": 23,
    "start_time": "2021-11-06T18:12:22.792Z"
   },
   {
    "duration": 19,
    "start_time": "2021-11-06T18:12:22.817Z"
   },
   {
    "duration": 23,
    "start_time": "2021-11-06T18:12:22.838Z"
   },
   {
    "duration": 20,
    "start_time": "2021-11-06T18:12:22.864Z"
   },
   {
    "duration": 1033,
    "start_time": "2021-11-06T18:12:22.887Z"
   },
   {
    "duration": 20,
    "start_time": "2021-11-06T18:12:23.922Z"
   },
   {
    "duration": 17,
    "start_time": "2021-11-06T18:12:23.949Z"
   },
   {
    "duration": 5,
    "start_time": "2021-11-06T18:12:23.970Z"
   },
   {
    "duration": 7,
    "start_time": "2021-11-06T18:12:23.977Z"
   },
   {
    "duration": 605,
    "start_time": "2021-11-06T18:12:23.987Z"
   },
   {
    "duration": 12,
    "start_time": "2021-11-06T18:12:24.595Z"
   },
   {
    "duration": 658,
    "start_time": "2021-11-06T18:12:24.609Z"
   },
   {
    "duration": 11,
    "start_time": "2021-11-06T18:12:25.270Z"
   },
   {
    "duration": 7,
    "start_time": "2021-11-06T18:12:25.283Z"
   },
   {
    "duration": 54,
    "start_time": "2021-11-06T18:12:25.292Z"
   },
   {
    "duration": 466,
    "start_time": "2021-11-06T18:12:25.349Z"
   },
   {
    "duration": 23,
    "start_time": "2021-11-06T18:12:25.817Z"
   },
   {
    "duration": 748,
    "start_time": "2021-11-06T18:12:25.843Z"
   },
   {
    "duration": 11,
    "start_time": "2021-11-06T18:12:26.593Z"
   },
   {
    "duration": 597,
    "start_time": "2021-11-06T18:12:26.607Z"
   },
   {
    "duration": 9,
    "start_time": "2021-11-06T18:12:27.207Z"
   },
   {
    "duration": 373,
    "start_time": "2021-11-06T18:12:27.229Z"
   },
   {
    "duration": 964,
    "start_time": "2021-11-06T18:12:27.604Z"
   },
   {
    "duration": 17,
    "start_time": "2021-11-06T18:12:28.571Z"
   },
   {
    "duration": 26,
    "start_time": "2021-11-06T18:12:28.591Z"
   },
   {
    "duration": 112,
    "start_time": "2021-11-06T18:12:28.619Z"
   },
   {
    "duration": 18,
    "start_time": "2021-11-06T18:12:28.734Z"
   },
   {
    "duration": 190,
    "start_time": "2021-11-06T18:12:28.754Z"
   },
   {
    "duration": 35,
    "start_time": "2021-11-06T18:12:28.946Z"
   },
   {
    "duration": 65,
    "start_time": "2021-11-06T18:12:28.984Z"
   },
   {
    "duration": 256,
    "start_time": "2021-11-06T18:12:29.052Z"
   },
   {
    "duration": 268,
    "start_time": "2021-11-06T18:12:29.310Z"
   },
   {
    "duration": 33,
    "start_time": "2021-11-06T18:12:29.581Z"
   },
   {
    "duration": 17,
    "start_time": "2021-11-06T18:12:29.631Z"
   },
   {
    "duration": 11,
    "start_time": "2021-11-06T18:12:29.650Z"
   },
   {
    "duration": 339,
    "start_time": "2021-11-06T18:12:29.663Z"
   },
   {
    "duration": 7,
    "start_time": "2021-11-06T18:12:30.004Z"
   },
   {
    "duration": 78,
    "start_time": "2021-11-06T18:12:30.013Z"
   },
   {
    "duration": 42,
    "start_time": "2021-11-06T18:12:30.094Z"
   },
   {
    "duration": 115,
    "start_time": "2021-11-06T18:12:30.139Z"
   },
   {
    "duration": 449,
    "start_time": "2021-11-06T18:12:55.844Z"
   },
   {
    "duration": 897,
    "start_time": "2021-11-06T18:13:41.675Z"
   },
   {
    "duration": 92,
    "start_time": "2021-11-06T18:14:21.375Z"
   },
   {
    "duration": 1042,
    "start_time": "2021-11-06T18:14:31.076Z"
   },
   {
    "duration": 1195,
    "start_time": "2021-11-06T18:14:40.534Z"
   },
   {
    "duration": 1036,
    "start_time": "2021-11-06T18:14:49.005Z"
   },
   {
    "duration": 1049,
    "start_time": "2021-11-06T18:14:53.818Z"
   },
   {
    "duration": 1045,
    "start_time": "2021-11-06T18:15:01.229Z"
   },
   {
    "duration": 1216,
    "start_time": "2021-11-06T18:15:08.575Z"
   },
   {
    "duration": 694,
    "start_time": "2021-11-06T18:16:04.765Z"
   },
   {
    "duration": 4,
    "start_time": "2021-11-06T18:16:16.045Z"
   },
   {
    "duration": 94,
    "start_time": "2021-11-06T18:16:16.052Z"
   },
   {
    "duration": 45,
    "start_time": "2021-11-06T18:16:16.149Z"
   },
   {
    "duration": 44,
    "start_time": "2021-11-06T18:16:16.197Z"
   },
   {
    "duration": 38,
    "start_time": "2021-11-06T18:16:16.244Z"
   },
   {
    "duration": 15,
    "start_time": "2021-11-06T18:16:16.284Z"
   },
   {
    "duration": 11,
    "start_time": "2021-11-06T18:16:16.330Z"
   },
   {
    "duration": 17,
    "start_time": "2021-11-06T18:16:16.343Z"
   },
   {
    "duration": 84,
    "start_time": "2021-11-06T18:16:16.363Z"
   },
   {
    "duration": 589,
    "start_time": "2021-11-06T18:16:16.450Z"
   },
   {
    "duration": 12,
    "start_time": "2021-11-06T18:16:17.041Z"
   },
   {
    "duration": 11,
    "start_time": "2021-11-06T18:16:17.055Z"
   },
   {
    "duration": 13,
    "start_time": "2021-11-06T18:16:17.068Z"
   },
   {
    "duration": 48,
    "start_time": "2021-11-06T18:16:17.083Z"
   },
   {
    "duration": 17,
    "start_time": "2021-11-06T18:16:17.134Z"
   },
   {
    "duration": 14,
    "start_time": "2021-11-06T18:16:17.153Z"
   },
   {
    "duration": 1007,
    "start_time": "2021-11-06T18:16:17.170Z"
   },
   {
    "duration": 11,
    "start_time": "2021-11-06T18:16:18.179Z"
   },
   {
    "duration": 50,
    "start_time": "2021-11-06T18:16:18.192Z"
   },
   {
    "duration": 4,
    "start_time": "2021-11-06T18:16:18.245Z"
   },
   {
    "duration": 21,
    "start_time": "2021-11-06T18:16:18.252Z"
   },
   {
    "duration": 507,
    "start_time": "2021-11-06T18:16:18.275Z"
   },
   {
    "duration": 12,
    "start_time": "2021-11-06T18:16:18.785Z"
   },
   {
    "duration": 633,
    "start_time": "2021-11-06T18:16:18.799Z"
   },
   {
    "duration": 12,
    "start_time": "2021-11-06T18:16:19.434Z"
   },
   {
    "duration": 17,
    "start_time": "2021-11-06T18:16:19.448Z"
   },
   {
    "duration": 14,
    "start_time": "2021-11-06T18:16:19.471Z"
   },
   {
    "duration": 472,
    "start_time": "2021-11-06T18:16:19.488Z"
   },
   {
    "duration": 11,
    "start_time": "2021-11-06T18:16:19.962Z"
   },
   {
    "duration": 737,
    "start_time": "2021-11-06T18:16:19.976Z"
   },
   {
    "duration": 17,
    "start_time": "2021-11-06T18:16:20.715Z"
   },
   {
    "duration": 476,
    "start_time": "2021-11-06T18:16:20.734Z"
   },
   {
    "duration": 18,
    "start_time": "2021-11-06T18:16:21.213Z"
   },
   {
    "duration": 458,
    "start_time": "2021-11-06T18:16:21.233Z"
   },
   {
    "duration": 923,
    "start_time": "2021-11-06T18:16:21.694Z"
   },
   {
    "duration": 18,
    "start_time": "2021-11-06T18:16:22.620Z"
   },
   {
    "duration": 20,
    "start_time": "2021-11-06T18:16:22.641Z"
   },
   {
    "duration": 102,
    "start_time": "2021-11-06T18:16:22.664Z"
   },
   {
    "duration": 17,
    "start_time": "2021-11-06T18:16:22.768Z"
   },
   {
    "duration": 57,
    "start_time": "2021-11-06T18:16:22.787Z"
   },
   {
    "duration": 34,
    "start_time": "2021-11-06T18:16:22.846Z"
   },
   {
    "duration": 55,
    "start_time": "2021-11-06T18:16:22.883Z"
   },
   {
    "duration": 258,
    "start_time": "2021-11-06T18:16:22.941Z"
   },
   {
    "duration": 352,
    "start_time": "2021-11-06T18:16:23.202Z"
   },
   {
    "duration": 39,
    "start_time": "2021-11-06T18:16:23.556Z"
   },
   {
    "duration": 32,
    "start_time": "2021-11-06T18:16:23.598Z"
   },
   {
    "duration": 19,
    "start_time": "2021-11-06T18:16:23.633Z"
   },
   {
    "duration": 306,
    "start_time": "2021-11-06T18:16:23.655Z"
   },
   {
    "duration": 5,
    "start_time": "2021-11-06T18:16:23.964Z"
   },
   {
    "duration": 43,
    "start_time": "2021-11-06T18:16:23.972Z"
   },
   {
    "duration": 48,
    "start_time": "2021-11-06T18:16:24.017Z"
   },
   {
    "duration": 132,
    "start_time": "2021-11-06T18:16:24.068Z"
   },
   {
    "duration": 566,
    "start_time": "2021-11-06T18:30:16.491Z"
   },
   {
    "duration": 803,
    "start_time": "2021-11-06T18:35:01.562Z"
   },
   {
    "duration": 734,
    "start_time": "2021-11-06T18:37:11.335Z"
   },
   {
    "duration": 59,
    "start_time": "2021-11-06T18:42:05.858Z"
   },
   {
    "duration": 58,
    "start_time": "2021-11-06T18:42:47.087Z"
   },
   {
    "duration": 96,
    "start_time": "2021-11-06T18:43:25.533Z"
   },
   {
    "duration": 84,
    "start_time": "2021-11-06T18:51:52.564Z"
   },
   {
    "duration": 119,
    "start_time": "2021-11-06T18:52:53.398Z"
   },
   {
    "duration": 340,
    "start_time": "2021-11-06T18:53:35.366Z"
   },
   {
    "duration": 85,
    "start_time": "2021-11-06T18:53:48.620Z"
   },
   {
    "duration": 87,
    "start_time": "2021-11-06T18:54:01.988Z"
   },
   {
    "duration": 84,
    "start_time": "2021-11-06T18:54:17.718Z"
   },
   {
    "duration": 85,
    "start_time": "2021-11-06T18:54:33.149Z"
   },
   {
    "duration": 84,
    "start_time": "2021-11-06T18:55:27.678Z"
   },
   {
    "duration": 83,
    "start_time": "2021-11-06T18:55:43.567Z"
   },
   {
    "duration": 510,
    "start_time": "2021-11-06T18:58:22.219Z"
   },
   {
    "duration": 708,
    "start_time": "2021-11-06T18:58:57.821Z"
   },
   {
    "duration": 589,
    "start_time": "2021-11-06T18:59:08.832Z"
   },
   {
    "duration": 470,
    "start_time": "2021-11-06T18:59:57.222Z"
   },
   {
    "duration": 784,
    "start_time": "2021-11-06T19:00:50.289Z"
   },
   {
    "duration": 822,
    "start_time": "2021-11-06T19:01:03.154Z"
   },
   {
    "duration": 468,
    "start_time": "2021-11-06T19:02:19.650Z"
   },
   {
    "duration": 471,
    "start_time": "2021-11-06T19:02:48.682Z"
   },
   {
    "duration": 697,
    "start_time": "2021-11-06T19:02:57.085Z"
   },
   {
    "duration": 766,
    "start_time": "2021-11-06T19:03:10.051Z"
   },
   {
    "duration": 1024,
    "start_time": "2021-11-06T19:03:18.942Z"
   },
   {
    "duration": 269,
    "start_time": "2021-11-06T19:06:05.653Z"
   },
   {
    "duration": 299,
    "start_time": "2021-11-06T19:06:33.674Z"
   },
   {
    "duration": 250,
    "start_time": "2021-11-06T19:06:58.953Z"
   },
   {
    "duration": 324,
    "start_time": "2021-11-06T19:08:14.884Z"
   },
   {
    "duration": 406,
    "start_time": "2021-11-06T19:09:08.436Z"
   },
   {
    "duration": 691,
    "start_time": "2021-11-06T19:09:13.114Z"
   },
   {
    "duration": 476,
    "start_time": "2021-11-06T19:09:24.992Z"
   },
   {
    "duration": 431,
    "start_time": "2021-11-06T19:09:50.835Z"
   },
   {
    "duration": 776,
    "start_time": "2021-11-06T19:10:07.351Z"
   },
   {
    "duration": 121,
    "start_time": "2021-11-06T19:10:08.134Z"
   },
   {
    "duration": 82,
    "start_time": "2021-11-06T19:10:08.259Z"
   },
   {
    "duration": 15,
    "start_time": "2021-11-06T19:10:08.345Z"
   },
   {
    "duration": 71,
    "start_time": "2021-11-06T19:10:08.363Z"
   },
   {
    "duration": 18,
    "start_time": "2021-11-06T19:10:08.437Z"
   },
   {
    "duration": 16,
    "start_time": "2021-11-06T19:10:08.459Z"
   },
   {
    "duration": 61,
    "start_time": "2021-11-06T19:10:08.480Z"
   },
   {
    "duration": 58,
    "start_time": "2021-11-06T19:10:08.545Z"
   },
   {
    "duration": 653,
    "start_time": "2021-11-06T19:10:08.606Z"
   },
   {
    "duration": 11,
    "start_time": "2021-11-06T19:10:09.261Z"
   },
   {
    "duration": 11,
    "start_time": "2021-11-06T19:10:09.275Z"
   },
   {
    "duration": 53,
    "start_time": "2021-11-06T19:10:09.288Z"
   },
   {
    "duration": 11,
    "start_time": "2021-11-06T19:10:09.344Z"
   },
   {
    "duration": 18,
    "start_time": "2021-11-06T19:10:09.358Z"
   },
   {
    "duration": 53,
    "start_time": "2021-11-06T19:10:09.378Z"
   },
   {
    "duration": 1101,
    "start_time": "2021-11-06T19:10:09.434Z"
   },
   {
    "duration": 15,
    "start_time": "2021-11-06T19:10:10.541Z"
   },
   {
    "duration": 27,
    "start_time": "2021-11-06T19:10:10.559Z"
   },
   {
    "duration": 5,
    "start_time": "2021-11-06T19:10:10.588Z"
   },
   {
    "duration": 6,
    "start_time": "2021-11-06T19:10:10.595Z"
   },
   {
    "duration": 575,
    "start_time": "2021-11-06T19:10:10.604Z"
   },
   {
    "duration": 11,
    "start_time": "2021-11-06T19:10:11.185Z"
   },
   {
    "duration": 693,
    "start_time": "2021-11-06T19:10:11.199Z"
   },
   {
    "duration": 12,
    "start_time": "2021-11-06T19:10:11.894Z"
   },
   {
    "duration": 33,
    "start_time": "2021-11-06T19:10:11.908Z"
   },
   {
    "duration": 20,
    "start_time": "2021-11-06T19:10:11.944Z"
   },
   {
    "duration": 490,
    "start_time": "2021-11-06T19:10:11.967Z"
   },
   {
    "duration": 11,
    "start_time": "2021-11-06T19:10:12.459Z"
   },
   {
    "duration": 721,
    "start_time": "2021-11-06T19:10:12.472Z"
   },
   {
    "duration": 368,
    "start_time": "2021-11-06T19:10:13.196Z"
   },
   {
    "duration": 665,
    "start_time": "2021-11-06T19:10:12.901Z"
   },
   {
    "duration": 658,
    "start_time": "2021-11-06T19:10:12.909Z"
   },
   {
    "duration": 654,
    "start_time": "2021-11-06T19:10:12.914Z"
   },
   {
    "duration": 650,
    "start_time": "2021-11-06T19:10:12.920Z"
   },
   {
    "duration": 646,
    "start_time": "2021-11-06T19:10:12.925Z"
   },
   {
    "duration": 642,
    "start_time": "2021-11-06T19:10:12.930Z"
   },
   {
    "duration": 638,
    "start_time": "2021-11-06T19:10:12.935Z"
   },
   {
    "duration": 635,
    "start_time": "2021-11-06T19:10:12.940Z"
   },
   {
    "duration": 631,
    "start_time": "2021-11-06T19:10:12.945Z"
   },
   {
    "duration": 619,
    "start_time": "2021-11-06T19:10:12.959Z"
   },
   {
    "duration": 615,
    "start_time": "2021-11-06T19:10:12.964Z"
   },
   {
    "duration": 613,
    "start_time": "2021-11-06T19:10:12.968Z"
   },
   {
    "duration": 608,
    "start_time": "2021-11-06T19:10:12.974Z"
   },
   {
    "duration": 603,
    "start_time": "2021-11-06T19:10:12.980Z"
   },
   {
    "duration": 600,
    "start_time": "2021-11-06T19:10:12.985Z"
   },
   {
    "duration": 596,
    "start_time": "2021-11-06T19:10:12.990Z"
   },
   {
    "duration": 594,
    "start_time": "2021-11-06T19:10:12.994Z"
   },
   {
    "duration": 591,
    "start_time": "2021-11-06T19:10:12.998Z"
   },
   {
    "duration": 589,
    "start_time": "2021-11-06T19:10:13.002Z"
   },
   {
    "duration": 584,
    "start_time": "2021-11-06T19:10:13.008Z"
   },
   {
    "duration": 581,
    "start_time": "2021-11-06T19:10:13.012Z"
   },
   {
    "duration": 9,
    "start_time": "2021-11-06T19:13:50.198Z"
   },
   {
    "duration": 524,
    "start_time": "2021-11-06T19:13:50.210Z"
   },
   {
    "duration": 14,
    "start_time": "2021-11-06T19:13:50.738Z"
   },
   {
    "duration": 676,
    "start_time": "2021-11-06T19:13:50.757Z"
   },
   {
    "duration": 980,
    "start_time": "2021-11-06T19:13:51.436Z"
   },
   {
    "duration": 17,
    "start_time": "2021-11-06T19:13:52.421Z"
   },
   {
    "duration": 14,
    "start_time": "2021-11-06T19:13:52.441Z"
   },
   {
    "duration": 169,
    "start_time": "2021-11-06T19:13:52.460Z"
   },
   {
    "duration": 23,
    "start_time": "2021-11-06T19:13:52.633Z"
   },
   {
    "duration": 74,
    "start_time": "2021-11-06T19:13:52.658Z"
   },
   {
    "duration": 49,
    "start_time": "2021-11-06T19:13:52.734Z"
   },
   {
    "duration": 76,
    "start_time": "2021-11-06T19:13:52.786Z"
   },
   {
    "duration": 368,
    "start_time": "2021-11-06T19:13:52.865Z"
   },
   {
    "duration": 351,
    "start_time": "2021-11-06T19:13:53.236Z"
   },
   {
    "duration": 61,
    "start_time": "2021-11-06T19:13:53.590Z"
   },
   {
    "duration": 11,
    "start_time": "2021-11-06T19:13:53.655Z"
   },
   {
    "duration": 13,
    "start_time": "2021-11-06T19:13:53.669Z"
   },
   {
    "duration": 403,
    "start_time": "2021-11-06T19:13:53.685Z"
   },
   {
    "duration": 8,
    "start_time": "2021-11-06T19:13:54.091Z"
   },
   {
    "duration": 81,
    "start_time": "2021-11-06T19:13:54.102Z"
   },
   {
    "duration": 73,
    "start_time": "2021-11-06T19:13:54.186Z"
   },
   {
    "duration": 230,
    "start_time": "2021-11-06T19:13:54.262Z"
   },
   {
    "duration": 772,
    "start_time": "2021-11-06T19:23:09.510Z"
   },
   {
    "duration": 89,
    "start_time": "2021-11-06T19:23:10.284Z"
   },
   {
    "duration": 60,
    "start_time": "2021-11-06T19:23:10.376Z"
   },
   {
    "duration": 17,
    "start_time": "2021-11-06T19:23:10.440Z"
   },
   {
    "duration": 91,
    "start_time": "2021-11-06T19:23:10.460Z"
   },
   {
    "duration": 12,
    "start_time": "2021-11-06T19:23:10.553Z"
   },
   {
    "duration": 15,
    "start_time": "2021-11-06T19:23:10.568Z"
   },
   {
    "duration": 21,
    "start_time": "2021-11-06T19:23:10.587Z"
   },
   {
    "duration": 38,
    "start_time": "2021-11-06T19:23:10.630Z"
   },
   {
    "duration": 620,
    "start_time": "2021-11-06T19:23:10.671Z"
   },
   {
    "duration": 11,
    "start_time": "2021-11-06T19:23:11.294Z"
   },
   {
    "duration": 26,
    "start_time": "2021-11-06T19:23:11.308Z"
   },
   {
    "duration": 23,
    "start_time": "2021-11-06T19:23:11.336Z"
   },
   {
    "duration": 8,
    "start_time": "2021-11-06T19:23:11.362Z"
   },
   {
    "duration": 20,
    "start_time": "2021-11-06T19:23:11.372Z"
   },
   {
    "duration": 42,
    "start_time": "2021-11-06T19:23:11.395Z"
   },
   {
    "duration": 912,
    "start_time": "2021-11-06T19:23:11.439Z"
   },
   {
    "duration": 11,
    "start_time": "2021-11-06T19:23:12.353Z"
   },
   {
    "duration": 24,
    "start_time": "2021-11-06T19:23:12.367Z"
   },
   {
    "duration": 5,
    "start_time": "2021-11-06T19:23:12.393Z"
   },
   {
    "duration": 29,
    "start_time": "2021-11-06T19:23:12.401Z"
   },
   {
    "duration": 510,
    "start_time": "2021-11-06T19:23:12.432Z"
   },
   {
    "duration": 12,
    "start_time": "2021-11-06T19:23:12.947Z"
   },
   {
    "duration": 649,
    "start_time": "2021-11-06T19:23:12.962Z"
   },
   {
    "duration": 20,
    "start_time": "2021-11-06T19:23:13.613Z"
   },
   {
    "duration": 7,
    "start_time": "2021-11-06T19:23:13.635Z"
   },
   {
    "duration": 27,
    "start_time": "2021-11-06T19:23:13.645Z"
   },
   {
    "duration": 457,
    "start_time": "2021-11-06T19:23:13.674Z"
   },
   {
    "duration": 11,
    "start_time": "2021-11-06T19:23:14.134Z"
   },
   {
    "duration": 682,
    "start_time": "2021-11-06T19:23:14.147Z"
   },
   {
    "duration": 8,
    "start_time": "2021-11-06T19:23:14.832Z"
   },
   {
    "duration": 468,
    "start_time": "2021-11-06T19:23:14.842Z"
   },
   {
    "duration": 18,
    "start_time": "2021-11-06T19:23:15.312Z"
   },
   {
    "duration": 454,
    "start_time": "2021-11-06T19:23:15.332Z"
   },
   {
    "duration": 687,
    "start_time": "2021-11-06T19:23:15.788Z"
   },
   {
    "duration": 13,
    "start_time": "2021-11-06T19:23:16.478Z"
   },
   {
    "duration": 35,
    "start_time": "2021-11-06T19:23:16.494Z"
   },
   {
    "duration": 107,
    "start_time": "2021-11-06T19:23:16.531Z"
   },
   {
    "duration": 17,
    "start_time": "2021-11-06T19:23:16.640Z"
   },
   {
    "duration": 39,
    "start_time": "2021-11-06T19:23:16.659Z"
   },
   {
    "duration": 61,
    "start_time": "2021-11-06T19:23:16.700Z"
   },
   {
    "duration": 34,
    "start_time": "2021-11-06T19:23:16.763Z"
   },
   {
    "duration": 287,
    "start_time": "2021-11-06T19:23:16.799Z"
   },
   {
    "duration": 262,
    "start_time": "2021-11-06T19:23:17.088Z"
   },
   {
    "duration": 35,
    "start_time": "2021-11-06T19:23:17.353Z"
   },
   {
    "duration": 41,
    "start_time": "2021-11-06T19:23:17.391Z"
   },
   {
    "duration": 11,
    "start_time": "2021-11-06T19:23:17.434Z"
   },
   {
    "duration": 410,
    "start_time": "2021-11-06T19:23:17.448Z"
   },
   {
    "duration": 6,
    "start_time": "2021-11-06T19:23:17.861Z"
   },
   {
    "duration": 36,
    "start_time": "2021-11-06T19:23:17.870Z"
   },
   {
    "duration": 43,
    "start_time": "2021-11-06T19:23:17.909Z"
   },
   {
    "duration": 189,
    "start_time": "2021-11-06T19:23:17.954Z"
   },
   {
    "duration": 769,
    "start_time": "2021-11-07T09:02:13.492Z"
   },
   {
    "duration": 83,
    "start_time": "2021-11-07T09:02:14.264Z"
   },
   {
    "duration": 49,
    "start_time": "2021-11-07T09:02:14.350Z"
   },
   {
    "duration": 15,
    "start_time": "2021-11-07T09:02:14.402Z"
   },
   {
    "duration": 69,
    "start_time": "2021-11-07T09:02:14.419Z"
   },
   {
    "duration": 12,
    "start_time": "2021-11-07T09:02:14.491Z"
   },
   {
    "duration": 15,
    "start_time": "2021-11-07T09:02:14.506Z"
   },
   {
    "duration": 48,
    "start_time": "2021-11-07T09:02:14.525Z"
   },
   {
    "duration": 39,
    "start_time": "2021-11-07T09:02:14.576Z"
   },
   {
    "duration": 586,
    "start_time": "2021-11-07T09:02:14.617Z"
   },
   {
    "duration": 11,
    "start_time": "2021-11-07T09:02:15.205Z"
   },
   {
    "duration": 11,
    "start_time": "2021-11-07T09:02:15.218Z"
   },
   {
    "duration": 43,
    "start_time": "2021-11-07T09:02:15.231Z"
   },
   {
    "duration": 10,
    "start_time": "2021-11-07T09:02:15.277Z"
   },
   {
    "duration": 24,
    "start_time": "2021-11-07T09:02:15.290Z"
   },
   {
    "duration": 54,
    "start_time": "2021-11-07T09:02:15.317Z"
   },
   {
    "duration": 974,
    "start_time": "2021-11-07T09:02:15.373Z"
   },
   {
    "duration": 25,
    "start_time": "2021-11-07T09:02:16.350Z"
   },
   {
    "duration": 23,
    "start_time": "2021-11-07T09:02:16.378Z"
   },
   {
    "duration": 7,
    "start_time": "2021-11-07T09:02:16.404Z"
   },
   {
    "duration": 9,
    "start_time": "2021-11-07T09:02:16.414Z"
   },
   {
    "duration": 537,
    "start_time": "2021-11-07T09:02:16.425Z"
   },
   {
    "duration": 12,
    "start_time": "2021-11-07T09:02:16.969Z"
   },
   {
    "duration": 639,
    "start_time": "2021-11-07T09:02:16.985Z"
   },
   {
    "duration": 13,
    "start_time": "2021-11-07T09:02:17.627Z"
   },
   {
    "duration": 10,
    "start_time": "2021-11-07T09:02:17.660Z"
   },
   {
    "duration": 21,
    "start_time": "2021-11-07T09:02:17.673Z"
   },
   {
    "duration": 468,
    "start_time": "2021-11-07T09:02:17.697Z"
   },
   {
    "duration": 14,
    "start_time": "2021-11-07T09:02:18.168Z"
   },
   {
    "duration": 718,
    "start_time": "2021-11-07T09:02:18.185Z"
   },
   {
    "duration": 10,
    "start_time": "2021-11-07T09:02:18.905Z"
   },
   {
    "duration": 596,
    "start_time": "2021-11-07T09:02:18.918Z"
   },
   {
    "duration": 8,
    "start_time": "2021-11-07T09:02:19.517Z"
   },
   {
    "duration": 494,
    "start_time": "2021-11-07T09:02:19.528Z"
   },
   {
    "duration": 705,
    "start_time": "2021-11-07T09:02:20.024Z"
   },
   {
    "duration": 30,
    "start_time": "2021-11-07T09:02:20.732Z"
   },
   {
    "duration": 11,
    "start_time": "2021-11-07T09:02:20.764Z"
   },
   {
    "duration": 111,
    "start_time": "2021-11-07T09:02:20.777Z"
   },
   {
    "duration": 16,
    "start_time": "2021-11-07T09:02:20.891Z"
   },
   {
    "duration": 60,
    "start_time": "2021-11-07T09:02:20.909Z"
   },
   {
    "duration": 35,
    "start_time": "2021-11-07T09:02:20.971Z"
   },
   {
    "duration": 65,
    "start_time": "2021-11-07T09:02:21.009Z"
   },
   {
    "duration": 274,
    "start_time": "2021-11-07T09:02:21.076Z"
   },
   {
    "duration": 279,
    "start_time": "2021-11-07T09:02:21.360Z"
   },
   {
    "duration": 40,
    "start_time": "2021-11-07T09:02:21.642Z"
   },
   {
    "duration": 11,
    "start_time": "2021-11-07T09:02:21.685Z"
   },
   {
    "duration": 23,
    "start_time": "2021-11-07T09:02:21.698Z"
   },
   {
    "duration": 386,
    "start_time": "2021-11-07T09:02:21.724Z"
   },
   {
    "duration": 6,
    "start_time": "2021-11-07T09:02:22.112Z"
   },
   {
    "duration": 55,
    "start_time": "2021-11-07T09:02:22.121Z"
   },
   {
    "duration": 38,
    "start_time": "2021-11-07T09:02:22.179Z"
   },
   {
    "duration": 244,
    "start_time": "2021-11-07T09:02:22.219Z"
   }
  ],
  "kernelspec": {
   "display_name": "Python 3",
   "language": "python",
   "name": "python3"
  },
  "language_info": {
   "codemirror_mode": {
    "name": "ipython",
    "version": 3
   },
   "file_extension": ".py",
   "mimetype": "text/x-python",
   "name": "python",
   "nbconvert_exporter": "python",
   "pygments_lexer": "ipython3",
   "version": "3.8.8"
  },
  "toc": {
   "base_numbering": 1,
   "nav_menu": {},
   "number_sections": true,
   "sideBar": true,
   "skip_h1_title": true,
   "title_cell": "Содержание",
   "title_sidebar": "Contents",
   "toc_cell": true,
   "toc_position": {
    "height": "calc(100% - 180px)",
    "left": "10px",
    "top": "150px",
    "width": "165px"
   },
   "toc_section_display": true,
   "toc_window_display": true
  }
 },
 "nbformat": 4,
 "nbformat_minor": 4
}
