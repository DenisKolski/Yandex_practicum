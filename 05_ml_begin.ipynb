{
 "cells": [
  {
   "cell_type": "markdown",
   "metadata": {},
   "source": [
    "# Рекомендация тарифов"
   ]
  },
  {
   "cell_type": "markdown",
   "metadata": {},
   "source": [
    "В вашем распоряжении данные о поведении клиентов, которые уже перешли на эти тарифы (из проекта курса «Статистический анализ данных»). Нужно построить модель для задачи классификации, которая выберет подходящий тариф. Предобработка данных не понадобится — вы её уже сделали.\n",
    "\n",
    "Постройте модель с максимально большим значением *accuracy*. Чтобы сдать проект успешно, нужно довести долю правильных ответов по крайней мере до 0.75. Проверьте *accuracy* на тестовой выборке самостоятельно."
   ]
  },
  {
   "cell_type": "markdown",
   "metadata": {},
   "source": [
    "## Откройте и изучите файл"
   ]
  },
  {
   "cell_type": "code",
   "execution_count": 38,
   "metadata": {},
   "outputs": [],
   "source": [
    "import pandas as pd\n",
    "import numpy as np\n",
    "from sklearn.tree import DecisionTreeRegressor\n",
    "from sklearn.tree import DecisionTreeClassifier\n",
    "from sklearn.metrics import classification_report\n",
    "from sklearn.model_selection import train_test_split\n",
    "from sklearn.linear_model import LogisticRegression\n",
    "from sklearn.metrics import accuracy_score\n",
    "from sklearn.ensemble import RandomForestClassifier\n",
    "from sklearn.dummy import DummyClassifier"
   ]
  },
  {
   "cell_type": "code",
   "execution_count": 39,
   "metadata": {},
   "outputs": [],
   "source": [
    "df=pd.read_csv('users_behavior.csv')"
   ]
  },
  {
   "cell_type": "code",
   "execution_count": 40,
   "metadata": {},
   "outputs": [
    {
     "data": {
      "text/plain": [
       "0    2229\n",
       "1     985\n",
       "Name: is_ultra, dtype: int64"
      ]
     },
     "execution_count": 40,
     "metadata": {},
     "output_type": "execute_result"
    }
   ],
   "source": [
    "df.is_ultra.value_counts()"
   ]
  },
  {
   "cell_type": "code",
   "execution_count": 41,
   "metadata": {},
   "outputs": [
    {
     "data": {
      "text/html": [
       "<div>\n",
       "<style scoped>\n",
       "    .dataframe tbody tr th:only-of-type {\n",
       "        vertical-align: middle;\n",
       "    }\n",
       "\n",
       "    .dataframe tbody tr th {\n",
       "        vertical-align: top;\n",
       "    }\n",
       "\n",
       "    .dataframe thead th {\n",
       "        text-align: right;\n",
       "    }\n",
       "</style>\n",
       "<table border=\"1\" class=\"dataframe\">\n",
       "  <thead>\n",
       "    <tr style=\"text-align: right;\">\n",
       "      <th></th>\n",
       "      <th>calls</th>\n",
       "      <th>minutes</th>\n",
       "      <th>messages</th>\n",
       "      <th>mb_used</th>\n",
       "      <th>is_ultra</th>\n",
       "    </tr>\n",
       "  </thead>\n",
       "  <tbody>\n",
       "    <tr>\n",
       "      <td>55</td>\n",
       "      <td>13.0</td>\n",
       "      <td>106.03</td>\n",
       "      <td>16.0</td>\n",
       "      <td>37328.45</td>\n",
       "      <td>1</td>\n",
       "    </tr>\n",
       "    <tr>\n",
       "      <td>670</td>\n",
       "      <td>33.0</td>\n",
       "      <td>241.75</td>\n",
       "      <td>9.0</td>\n",
       "      <td>23708.50</td>\n",
       "      <td>0</td>\n",
       "    </tr>\n",
       "    <tr>\n",
       "      <td>586</td>\n",
       "      <td>6.0</td>\n",
       "      <td>51.08</td>\n",
       "      <td>16.0</td>\n",
       "      <td>20634.98</td>\n",
       "      <td>1</td>\n",
       "    </tr>\n",
       "    <tr>\n",
       "      <td>979</td>\n",
       "      <td>34.0</td>\n",
       "      <td>268.50</td>\n",
       "      <td>10.0</td>\n",
       "      <td>8859.08</td>\n",
       "      <td>0</td>\n",
       "    </tr>\n",
       "    <tr>\n",
       "      <td>2490</td>\n",
       "      <td>84.0</td>\n",
       "      <td>580.08</td>\n",
       "      <td>130.0</td>\n",
       "      <td>24932.59</td>\n",
       "      <td>1</td>\n",
       "    </tr>\n",
       "    <tr>\n",
       "      <td>336</td>\n",
       "      <td>11.0</td>\n",
       "      <td>70.50</td>\n",
       "      <td>0.0</td>\n",
       "      <td>2042.74</td>\n",
       "      <td>0</td>\n",
       "    </tr>\n",
       "    <tr>\n",
       "      <td>882</td>\n",
       "      <td>66.0</td>\n",
       "      <td>494.47</td>\n",
       "      <td>0.0</td>\n",
       "      <td>17360.07</td>\n",
       "      <td>0</td>\n",
       "    </tr>\n",
       "    <tr>\n",
       "      <td>2067</td>\n",
       "      <td>48.0</td>\n",
       "      <td>344.00</td>\n",
       "      <td>29.0</td>\n",
       "      <td>5575.64</td>\n",
       "      <td>0</td>\n",
       "    </tr>\n",
       "    <tr>\n",
       "      <td>2644</td>\n",
       "      <td>48.0</td>\n",
       "      <td>436.16</td>\n",
       "      <td>13.0</td>\n",
       "      <td>29072.01</td>\n",
       "      <td>0</td>\n",
       "    </tr>\n",
       "    <tr>\n",
       "      <td>2044</td>\n",
       "      <td>83.0</td>\n",
       "      <td>529.53</td>\n",
       "      <td>93.0</td>\n",
       "      <td>13796.44</td>\n",
       "      <td>0</td>\n",
       "    </tr>\n",
       "  </tbody>\n",
       "</table>\n",
       "</div>"
      ],
      "text/plain": [
       "      calls  minutes  messages   mb_used  is_ultra\n",
       "55     13.0   106.03      16.0  37328.45         1\n",
       "670    33.0   241.75       9.0  23708.50         0\n",
       "586     6.0    51.08      16.0  20634.98         1\n",
       "979    34.0   268.50      10.0   8859.08         0\n",
       "2490   84.0   580.08     130.0  24932.59         1\n",
       "336    11.0    70.50       0.0   2042.74         0\n",
       "882    66.0   494.47       0.0  17360.07         0\n",
       "2067   48.0   344.00      29.0   5575.64         0\n",
       "2644   48.0   436.16      13.0  29072.01         0\n",
       "2044   83.0   529.53      93.0  13796.44         0"
      ]
     },
     "execution_count": 41,
     "metadata": {},
     "output_type": "execute_result"
    }
   ],
   "source": [
    "df.sample(10)"
   ]
  },
  {
   "cell_type": "markdown",
   "metadata": {},
   "source": [
    "Открыли файл, проверили на пропуски, дубликаты - все в порядке. Абонентов с тарифом Ультра всего около трети. Таким образом классы не очень сбалансированы. "
   ]
  },
  {
   "cell_type": "markdown",
   "metadata": {},
   "source": [
    "## Разбейте данные на выборки"
   ]
  },
  {
   "cell_type": "code",
   "execution_count": 42,
   "metadata": {},
   "outputs": [],
   "source": [
    "features = df.drop('is_ultra', axis = 1) # извлеките признаки \n",
    "target = df['is_ultra'] # извлеките целевой признак\n",
    "features_train, features_tmp, target_train, target_tmp = train_test_split(\n",
    "   features, target, test_size=0.4, random_state=12345) \n",
    "features_valid, features_test, target_valid, target_test = train_test_split(\n",
    "   features_tmp, target_tmp, test_size=0.5, random_state=12345) "
   ]
  },
  {
   "cell_type": "code",
   "execution_count": 43,
   "metadata": {},
   "outputs": [
    {
     "data": {
      "text/plain": [
       "(1928, 4)"
      ]
     },
     "execution_count": 43,
     "metadata": {},
     "output_type": "execute_result"
    }
   ],
   "source": [
    "features_train.shape"
   ]
  },
  {
   "cell_type": "code",
   "execution_count": 44,
   "metadata": {},
   "outputs": [
    {
     "data": {
      "text/plain": [
       "(643, 4)"
      ]
     },
     "execution_count": 44,
     "metadata": {},
     "output_type": "execute_result"
    }
   ],
   "source": [
    "features_valid.shape"
   ]
  },
  {
   "cell_type": "code",
   "execution_count": 45,
   "metadata": {},
   "outputs": [
    {
     "data": {
      "text/plain": [
       "(643, 4)"
      ]
     },
     "execution_count": 45,
     "metadata": {},
     "output_type": "execute_result"
    }
   ],
   "source": [
    "features_test.shape"
   ]
  },
  {
   "cell_type": "code",
   "execution_count": 46,
   "metadata": {},
   "outputs": [
    {
     "data": {
      "text/plain": [
       "(1928,)"
      ]
     },
     "execution_count": 46,
     "metadata": {},
     "output_type": "execute_result"
    }
   ],
   "source": [
    "target_train.shape"
   ]
  },
  {
   "cell_type": "code",
   "execution_count": 47,
   "metadata": {},
   "outputs": [
    {
     "data": {
      "text/plain": [
       "(643,)"
      ]
     },
     "execution_count": 47,
     "metadata": {},
     "output_type": "execute_result"
    }
   ],
   "source": [
    "target_valid.shape"
   ]
  },
  {
   "cell_type": "code",
   "execution_count": 48,
   "metadata": {},
   "outputs": [
    {
     "data": {
      "text/plain": [
       "(643,)"
      ]
     },
     "execution_count": 48,
     "metadata": {},
     "output_type": "execute_result"
    }
   ],
   "source": [
    "target_test.shape"
   ]
  },
  {
   "cell_type": "markdown",
   "metadata": {},
   "source": [
    "Разбили всю выборку на 3 категории: тестовая выборка - 60%, валидация - 20 %, тестовая - 20 %."
   ]
  },
  {
   "cell_type": "markdown",
   "metadata": {},
   "source": [
    "## Исследуйте модели"
   ]
  },
  {
   "cell_type": "markdown",
   "metadata": {},
   "source": [
    "### DecisionTreeClassifier"
   ]
  },
  {
   "cell_type": "code",
   "execution_count": 49,
   "metadata": {},
   "outputs": [],
   "source": [
    "best_model_dtc = None\n",
    "best_result_dtc = 0\n",
    "for leaf in range(2, 100):\n",
    "    for depth in range(1, 15):\n",
    "        model = DecisionTreeClassifier(random_state=12345, max_depth=depth, max_leaf_nodes=leaf,class_weight ='balanced') # обучение модели с заданной глубиной дерева\n",
    "        model.fit(features_train,target_train) # обучение  модели\n",
    "        predictions = model.predict(features_valid) # предсказания \n",
    "        result = accuracy_score(target_valid, predictions) #  качество модели\n",
    "        if result > best_result_dtc:\n",
    "            best_model_dtc = model # сохранили наилучшую модель\n",
    "            best_result_dtc = result#сохранили наилучшее значение метрики accuracy на валидационных данных\n",
    "            i = depth #оптимальная глубина дерева\n",
    "            max_leaf=leaf\n",
    "        "
   ]
  },
  {
   "cell_type": "code",
   "execution_count": 50,
   "metadata": {},
   "outputs": [
    {
     "name": "stdout",
     "output_type": "stream",
     "text": [
      "Accuracy лучшей модели: 0.7838258164852255\n",
      "Максимальная глубина дерава решений, обеспечивающая лучшиее предсказание по критерию Accuracy: 2\n",
      "максимальное количество конечных узлов, обеспечивающая лучшиее предсказание по критерию Accuracy: 3\n"
     ]
    }
   ],
   "source": [
    "print(\"Accuracy лучшей модели:\", best_result_dtc)\n",
    "print(\"Максимальная глубина дерава решений, обеспечивающая лучшиее предсказание по критерию Accuracy:\", i)\n",
    "print(\"максимальное количество конечных узлов, обеспечивающая лучшиее предсказание по критерию Accuracy:\", max_leaf)"
   ]
  },
  {
   "cell_type": "markdown",
   "metadata": {},
   "source": [
    "- max_depth максимальная глубина дерева решений. Максимальная глубина дерева решений не может быть введена по умолчанию.Если она не введена, дерево решений не будет ограничивать глубину поддерева при построении поддерева. Вообще говоря, это значение можно игнорировать, если данных или функций мало. Если модель имеет большой размер выборки и много функций, рекомендуется ограничить эту максимальную глубину.Конкретное значение зависит от распределения данных. Обычно используемые значения могут находиться в диапазоне 10–100.\n",
    "- random_state случайное состояние - фиксирует псевдослучайность для алгоритма обучения. Если укажете random_state=None(по умолчанию), то псевдослучайность будет разной всегда.\n",
    "- max_leaf_nodes максимальное количество конечных узлов  - ограничивая максимальное количество конечных узлов, можно предотвратить переобучение. По умолчанию установлено «None», то есть максимальное количество конечных узлов не ограничено. Если добавлено ограничение, алгоритм построит оптимальное дерево решений в пределах максимального количества конечных узлов. "
   ]
  },
  {
   "cell_type": "markdown",
   "metadata": {},
   "source": [
    "### RandomForestClassifier"
   ]
  },
  {
   "cell_type": "code",
   "execution_count": 51,
   "metadata": {},
   "outputs": [],
   "source": [
    "best_model_rnd = None\n",
    "best_result_rnd = 0\n",
    "for est in range(1, 30): #задаем количество деревьев в лесу\n",
    "    model = RandomForestClassifier(random_state=12345, n_estimators=est, class_weight ='balanced') \n",
    "    model.fit(features_train, target_train) \n",
    "    predictions = model.predict(features_valid)\n",
    "    result = accuracy_score(target_valid, predictions)\n",
    "    if result > best_result_rnd:\n",
    "        best_model_rnd = model # сохранили наилучшую модель\n",
    "        best_result_rnd = result #сохранили наилучшее значение метрики accuracy на валидационных данных\n",
    "   "
   ]
  },
  {
   "cell_type": "code",
   "execution_count": 52,
   "metadata": {},
   "outputs": [
    {
     "name": "stdout",
     "output_type": "stream",
     "text": [
      "Accuracy лучшей модели: 0.7947122861586314\n"
     ]
    }
   ],
   "source": [
    "print(\"Accuracy лучшей модели:\", best_result_rnd)"
   ]
  },
  {
   "cell_type": "markdown",
   "metadata": {},
   "source": [
    "### LogisticRegression"
   ]
  },
  {
   "cell_type": "code",
   "execution_count": 62,
   "metadata": {},
   "outputs": [
    {
     "name": "stdout",
     "output_type": "stream",
     "text": [
      "Accuracy модели логистической регрессии на валидационной выборке: 0.7589424572317263\n"
     ]
    },
    {
     "name": "stderr",
     "output_type": "stream",
     "text": [
      "/opt/conda/lib/python3.7/site-packages/sklearn/linear_model/logistic.py:432: FutureWarning: Default solver will be changed to 'lbfgs' in 0.22. Specify a solver to silence this warning.\n",
      "  FutureWarning)\n"
     ]
    }
   ],
   "source": [
    "model_log = LogisticRegression(random_state=12345) \n",
    "model_log.fit(features_train, target_train) # обучите модель на тренировочной выборке\n",
    "result = model_log.score(features_valid, target_valid) # получите метрику качества модели на валидационной выборке\n",
    "\n",
    "print(\"Accuracy модели логистической регрессии на валидационной выборке:\", result)"
   ]
  },
  {
   "cell_type": "markdown",
   "metadata": {},
   "source": [
    "### Вывод"
   ]
  },
  {
   "cell_type": "markdown",
   "metadata": {},
   "source": [
    "Обучили три модели. Точность на выборке валидации у всех сопоставима и выше требуемого уровня в 0.75. \n",
    "- Для метода деревьев решения точность составила 0.79 и оптимальная глубина дерева - 9, максимальное количество конечных узлов, обеспечивающая лучшиее предсказание по критерию Accuracy- 79\n",
    "- Для метода случайных деревьев точность - 0.795;\n",
    "- Для логистической регрессии точность - 0.759.\n",
    "- Сохранили все модели для дальнейшего исследования. "
   ]
  },
  {
   "cell_type": "markdown",
   "metadata": {},
   "source": [
    "## Проверьте модель на тестовой выборке"
   ]
  },
  {
   "cell_type": "code",
   "execution_count": 54,
   "metadata": {},
   "outputs": [
    {
     "name": "stdout",
     "output_type": "stream",
     "text": [
      "Accuracy DecisionTreeClassifier: 0.7698289269051322\n",
      "Accuracy RandomForestClassifier: 0.7853810264385692\n",
      "Accuracy LogisticRegression: 0.7402799377916018\n"
     ]
    }
   ],
   "source": [
    "predictions_dtc = best_model_dtc.predict(features_test) # получите предсказания модели\n",
    "result_dtc = accuracy_score(target_test, predictions_dtc) # посчитайте качество модели на тестовой выборке\n",
    "print(\"Accuracy DecisionTreeClassifier:\",result_dtc)\n",
    "\n",
    "predictions_rnd = best_model_rnd.predict(features_test)\n",
    "result_rnd = accuracy_score(target_test, predictions_rnd)\n",
    "print(\"Accuracy RandomForestClassifier:\" ,result_rnd)\n",
    "\n",
    "predictions_log = model_log.predict(features_test)\n",
    "result_log = accuracy_score(target_test, predictions_log)\n",
    "print(\"Accuracy LogisticRegression:\",result_log)\n"
   ]
  },
  {
   "cell_type": "markdown",
   "metadata": {},
   "source": [
    "На тестовой выборке точность немного упала, но не так сильно.\n",
    "- Для метода деревьев решения точность составила 0.785;\n",
    "- Для метода случайных деревьев точность - 0.781;\n",
    "- Для логистической регрессии точность - 0.74.\n"
   ]
  },
  {
   "cell_type": "markdown",
   "metadata": {},
   "source": [
    "**Проверим можно ли улучшить результат за счет голосования моделей**"
   ]
  },
  {
   "cell_type": "code",
   "execution_count": 55,
   "metadata": {},
   "outputs": [],
   "source": [
    "predictions_sum = pd.DataFrame(predictions_dtc+predictions_rnd+predictions_log)"
   ]
  },
  {
   "cell_type": "code",
   "execution_count": 56,
   "metadata": {},
   "outputs": [],
   "source": [
    "predictions_sum.columns=['value']"
   ]
  },
  {
   "cell_type": "code",
   "execution_count": 57,
   "metadata": {},
   "outputs": [
    {
     "name": "stdout",
     "output_type": "stream",
     "text": [
      "Accuracy голосования моделей: 0.7402799377916018\n"
     ]
    }
   ],
   "source": [
    "predictions_sum['value'] = predictions_sum['value'].replace([1,2,3], [0,1,1])\n",
    "result_sum = accuracy_score(target_test, predictions_sum)\n",
    "print(\"Accuracy голосования моделей:\",result_log)"
   ]
  },
  {
   "cell_type": "markdown",
   "metadata": {},
   "source": [
    "Проверили голосование - результат стал хуже лучшей модели. Эксперимент признан неудачным)"
   ]
  },
  {
   "cell_type": "markdown",
   "metadata": {},
   "source": [
    "### Вывод"
   ]
  },
  {
   "cell_type": "markdown",
   "metadata": {},
   "source": [
    "На основе тестовой выборки проверили модели. Победил алгоритм классификации решающее дерево с результатом точности (accuracy) 0.785"
   ]
  },
  {
   "cell_type": "markdown",
   "metadata": {},
   "source": [
    "## (бонус) Проверьте модели на адекватность"
   ]
  },
  {
   "cell_type": "code",
   "execution_count": 58,
   "metadata": {},
   "outputs": [
    {
     "name": "stdout",
     "output_type": "stream",
     "text": [
      "              precision    recall  f1-score   support\n",
      "\n",
      "       Smart       0.78      0.92      0.85       440\n",
      "       Ultra       0.72      0.44      0.55       203\n",
      "\n",
      "    accuracy                           0.77       643\n",
      "   macro avg       0.75      0.68      0.70       643\n",
      "weighted avg       0.76      0.77      0.75       643\n",
      "\n"
     ]
    }
   ],
   "source": [
    "report = classification_report(target_test, predictions_dtc, target_names=['Smart', 'Ultra'])\n",
    "print(report)\n"
   ]
  },
  {
   "cell_type": "code",
   "execution_count": 59,
   "metadata": {},
   "outputs": [
    {
     "data": {
      "text/plain": [
       "0.6842923794712286"
      ]
     },
     "execution_count": 59,
     "metadata": {},
     "output_type": "execute_result"
    }
   ],
   "source": [
    "dummy_clf = DummyClassifier(strategy=\"most_frequent\")\n",
    "dummy_clf.fit(features_train,target_train)\n",
    "predictions_dmm = dummy_clf.predict(features_test)\n",
    "dummy_clf.score(features_test, target_test)"
   ]
  },
  {
   "cell_type": "code",
   "execution_count": 60,
   "metadata": {},
   "outputs": [
    {
     "name": "stdout",
     "output_type": "stream",
     "text": [
      "              precision    recall  f1-score   support\n",
      "\n",
      "       Smart       0.68      1.00      0.81       440\n",
      "       Ultra       0.00      0.00      0.00       203\n",
      "\n",
      "    accuracy                           0.68       643\n",
      "   macro avg       0.34      0.50      0.41       643\n",
      "weighted avg       0.47      0.68      0.56       643\n",
      "\n"
     ]
    },
    {
     "name": "stderr",
     "output_type": "stream",
     "text": [
      "/opt/conda/lib/python3.7/site-packages/sklearn/metrics/classification.py:1437: UndefinedMetricWarning: Precision and F-score are ill-defined and being set to 0.0 in labels with no predicted samples.\n",
      "  'precision', 'predicted', average, warn_for)\n"
     ]
    }
   ],
   "source": [
    "report = classification_report(target_test, predictions_dmm, target_names=['Smart', 'Ultra'])\n",
    "print(report)"
   ]
  },
  {
   "cell_type": "markdown",
   "metadata": {},
   "source": [
    "- DummyClassifier — это примитивный классификатор, который делает прогнозы с использованием простых правил. Этот классификатор полезен как простая базовая линия для сравнения с другими (реальными) классификаторами. Не используется для реальных задач.\n",
    "- Для метода деревьев решения точность составила 0.785, а для примитивного классификатора лучший результат при использовании разных стратегий прогнозирования - 0.684.\n",
    "- При сравнении различных критериев для примитивного классификатора видно, что его стратегия - игнорирование меньшего по величине класса. Хотя для дерева решений второй класс (тариф Ультра) тоже \"пострадал\", но в разработанного алгоритме нет такого провала по второму классу выборки. \n",
    "- Таким образом, можно сказать, что разработанный классификатор существо лучше простых стратегий решения."
   ]
  },
  {
   "cell_type": "markdown",
   "metadata": {},
   "source": [
    "### Вывод"
   ]
  },
  {
   "cell_type": "markdown",
   "metadata": {},
   "source": [
    "Из представленной таблицы можно сделать следующие выводы:\n",
    "- precision (точность) по тарифу Смарт гораздо выше и составляет 0.8, при этом общем количестве значений для тарифа смарт в тестовой выборке составляет 440;\n",
    "- precision (точность) по тарифу Ультра гораздо ниже и составляет 0.73, при этом общем количестве значений для тарифа смарт в тестовой выборке составляет 203;\n",
    "- в виду неравномерности классов accuracy (точность) точность составляет 0.785;\n",
    "- recall (полнота) по тарифу Смарт гораздо выше и составляет 0.91;\n",
    "- recall (полнота) по тарифу Ультра существенно ниже и составляет 0.51;\n",
    "- F-мера (в общем случае $\\ F_\\beta$) — среднее гармоническое precision и recall для тарифов Смарт и Ультра также существенно отличается и составляет 0.85, 0.6 соответственно; \n",
    "- Для метода деревьев решения точность составила 0.785, а для примитивного классификатора лучший результат при использовании разных стратегий прогнозирования - 0.684.При сравнении различных критериев для примитивного классификатора видно, что его стратегия - игнорирование меньшего по величине класса. Хотя для дерева решений второй класс (тариф Ультра) тоже \"пострадал\", но в разработанного алгоритме нет такого провала по второму классу выборки. \n",
    "- Таким образом, можно сказать, что разработанный классификатор существо лучше простых стратегий решения.\n",
    "- таким образом, представленный алгоритм гораздо лучше работает для тарифа Смарт что обусловлено перекосом в данных.\n",
    "\n"
   ]
  },
  {
   "cell_type": "markdown",
   "metadata": {},
   "source": [
    "## Общий вывод"
   ]
  },
  {
   "cell_type": "markdown",
   "metadata": {},
   "source": [
    "- Разбили всю выборку на 3 категории: тестовая выборка - 60%, валидация - 20 %, тестовая - 20 %.\n",
    "- Обучили три модели. Точность на выборке валидации у всех сопоставима и выше требуемого уровня в 0.75. Для метода решающего дерева точность составила 0.79 и оптимальная глубина дерева - 9, максимальное количество конечных узлов, обеспечивающая лучшее предсказание по критерию Accuracy- 79. Для метода случайных деревьев точность - 0.795. Для логистической регрессии точность - 0.759.\n",
    "- Выбрали модель с максимально большим значением *accuracy*. Требуемое значение -   0.75. При проверке *accuracy* на тестовой выборке получено значение 0.785. На тестовой выборке точность немного упала, но не так сильно. Для метода деревьев решения точность составила 0.785, для метода случайных деревьев точность - 0.781, для логистической регрессии точность - 0.74.\n",
    "- precision (точность) по тарифу Смарт гораздо выше и составляет 0.8, при этом общем количестве значений для тарифа смарт в тестовой выборке составляет 440; precision (точность) по тарифу Ультра гораздо ниже и составляет 0.73, при этом общем количестве значений для тарифа смарт в тестовой выборке составляет 203;\n",
    "- в виду неравномерности классов accuracy (точность) точность составляет 0.785;\n",
    "- recall (полнота) по тарифу Смарт гораздо выше и составляет 0.91; recall (полнота) по тарифу Ультра существенно ниже и составляет 0.51;\n",
    "- F-мера (в общем случае $\\ F_\\beta$) — среднее гармоническое precision и recall для тарифов Смарт и Ультра также существенно отличается и составляет 0.85, 0.6 соответственно; \n",
    "- Для метода деревьев решения точность составила 0.785, а для примитивного классификатора лучший результат при использовании разных стратегий прогнозирования - 0.684.При сравнении различных критериев для примитивного классификатора видно, что его стратегия - игнорирование меньшего по величине класса. Хотя для дерева решений второй класс (тариф Ультра) тоже \"пострадал\", но в разработанного алгоритме нет такого провала по второму классу выборки. \n",
    "- таким образом, представленный алгоритм гораздо лучше работает для тарифа Смарт что обусловлено перекосом в данных.\n",
    "- необходимо отметить, что метод случайных деревьев немного выиграл на выборке валидации, но немного уступил на тестовой выборке, что может быть случайностью.\n"
   ]
  }
 ],
 "metadata": {
  "ExecuteTimeLog": [
   {
    "duration": 394,
    "start_time": "2021-12-10T08:54:17.096Z"
   },
   {
    "duration": 816,
    "start_time": "2021-12-10T08:54:19.613Z"
   },
   {
    "duration": 145,
    "start_time": "2021-12-10T08:54:22.212Z"
   },
   {
    "duration": 26,
    "start_time": "2021-12-10T08:54:25.816Z"
   },
   {
    "duration": 3,
    "start_time": "2021-12-10T08:54:56.516Z"
   },
   {
    "duration": 67,
    "start_time": "2021-12-10T08:54:56.531Z"
   },
   {
    "duration": 16,
    "start_time": "2021-12-10T08:54:56.600Z"
   },
   {
    "duration": 8,
    "start_time": "2021-12-10T08:55:37.730Z"
   },
   {
    "duration": 629,
    "start_time": "2021-12-10T08:55:50.099Z"
   },
   {
    "duration": 7,
    "start_time": "2021-12-10T08:56:50.923Z"
   },
   {
    "duration": 16,
    "start_time": "2021-12-10T08:57:02.723Z"
   },
   {
    "duration": 378,
    "start_time": "2021-12-10T09:48:54.054Z"
   },
   {
    "duration": 776,
    "start_time": "2021-12-10T09:49:02.881Z"
   },
   {
    "duration": 73,
    "start_time": "2021-12-10T09:49:03.659Z"
   },
   {
    "duration": 7,
    "start_time": "2021-12-10T09:49:03.735Z"
   },
   {
    "duration": 15,
    "start_time": "2021-12-10T09:49:03.745Z"
   },
   {
    "duration": 13,
    "start_time": "2021-12-10T09:49:03.763Z"
   },
   {
    "duration": 246,
    "start_time": "2021-12-10T09:49:03.778Z"
   },
   {
    "duration": 1406,
    "start_time": "2021-12-10T14:35:53.731Z"
   },
   {
    "duration": 123,
    "start_time": "2021-12-10T14:35:55.140Z"
   },
   {
    "duration": 20,
    "start_time": "2021-12-10T14:35:55.266Z"
   },
   {
    "duration": 18,
    "start_time": "2021-12-10T14:35:55.288Z"
   },
   {
    "duration": 25,
    "start_time": "2021-12-10T14:35:55.309Z"
   },
   {
    "duration": 264,
    "start_time": "2021-12-10T14:35:55.336Z"
   },
   {
    "duration": 6121,
    "start_time": "2021-12-10T14:35:55.603Z"
   },
   {
    "duration": 53141,
    "start_time": "2021-12-10T14:36:47.317Z"
   },
   {
    "duration": 295,
    "start_time": "2021-12-10T14:39:05.326Z"
   },
   {
    "duration": 719,
    "start_time": "2021-12-10T14:55:17.409Z"
   },
   {
    "duration": 591,
    "start_time": "2021-12-10T14:55:32.157Z"
   },
   {
    "duration": 4,
    "start_time": "2021-12-10T14:55:45.572Z"
   },
   {
    "duration": 59,
    "start_time": "2021-12-10T14:55:45.597Z"
   },
   {
    "duration": 9,
    "start_time": "2021-12-10T14:55:45.658Z"
   },
   {
    "duration": 23,
    "start_time": "2021-12-10T14:55:45.670Z"
   },
   {
    "duration": 13,
    "start_time": "2021-12-10T14:55:45.696Z"
   },
   {
    "duration": 634,
    "start_time": "2021-12-10T14:55:45.712Z"
   },
   {
    "duration": 7028,
    "start_time": "2021-12-10T14:55:39.320Z"
   },
   {
    "duration": 558,
    "start_time": "2021-12-10T14:56:03.930Z"
   },
   {
    "duration": 342,
    "start_time": "2021-12-10T14:57:47.818Z"
   },
   {
    "duration": 309,
    "start_time": "2021-12-10T14:58:19.630Z"
   },
   {
    "duration": 1119,
    "start_time": "2021-12-11T08:33:31.330Z"
   },
   {
    "duration": 419,
    "start_time": "2021-12-11T08:33:32.451Z"
   },
   {
    "duration": 12,
    "start_time": "2021-12-11T08:33:32.872Z"
   },
   {
    "duration": 13,
    "start_time": "2021-12-11T08:33:32.886Z"
   },
   {
    "duration": 9,
    "start_time": "2021-12-11T08:33:32.901Z"
   },
   {
    "duration": 448,
    "start_time": "2021-12-11T08:33:32.912Z"
   },
   {
    "duration": 12,
    "start_time": "2021-12-11T08:33:48.974Z"
   },
   {
    "duration": 357,
    "start_time": "2021-12-11T08:35:36.087Z"
   },
   {
    "duration": 421,
    "start_time": "2021-12-11T08:36:16.088Z"
   },
   {
    "duration": 3,
    "start_time": "2021-12-11T08:36:33.983Z"
   },
   {
    "duration": 136,
    "start_time": "2021-12-11T08:36:36.575Z"
   },
   {
    "duration": 3,
    "start_time": "2021-12-11T08:37:14.859Z"
   },
   {
    "duration": 4,
    "start_time": "2021-12-11T08:37:25.385Z"
   },
   {
    "duration": 4,
    "start_time": "2021-12-11T08:37:40.001Z"
   },
   {
    "duration": 3,
    "start_time": "2021-12-11T08:37:59.228Z"
   },
   {
    "duration": 4,
    "start_time": "2021-12-11T08:38:11.978Z"
   },
   {
    "duration": 140,
    "start_time": "2021-12-11T08:38:37.004Z"
   },
   {
    "duration": 3,
    "start_time": "2021-12-11T08:39:31.298Z"
   },
   {
    "duration": 87,
    "start_time": "2021-12-11T08:39:31.319Z"
   },
   {
    "duration": 8,
    "start_time": "2021-12-11T08:39:31.409Z"
   },
   {
    "duration": 17,
    "start_time": "2021-12-11T08:39:31.419Z"
   },
   {
    "duration": 21,
    "start_time": "2021-12-11T08:39:31.439Z"
   },
   {
    "duration": 117,
    "start_time": "2021-12-11T08:39:31.463Z"
   },
   {
    "duration": 118,
    "start_time": "2021-12-11T08:39:31.465Z"
   },
   {
    "duration": 136,
    "start_time": "2021-12-11T08:39:43.462Z"
   },
   {
    "duration": 137,
    "start_time": "2021-12-11T08:40:26.652Z"
   },
   {
    "duration": 302,
    "start_time": "2021-12-11T08:40:42.525Z"
   },
   {
    "duration": 1626,
    "start_time": "2021-12-11T08:41:04.904Z"
   },
   {
    "duration": 23,
    "start_time": "2021-12-11T08:42:47.064Z"
   },
   {
    "duration": 22,
    "start_time": "2021-12-11T08:42:54.622Z"
   },
   {
    "duration": 21,
    "start_time": "2021-12-11T08:43:02.421Z"
   },
   {
    "duration": 22,
    "start_time": "2021-12-11T08:43:21.977Z"
   },
   {
    "duration": 22,
    "start_time": "2021-12-11T08:43:40.086Z"
   },
   {
    "duration": 22,
    "start_time": "2021-12-11T08:56:19.266Z"
   },
   {
    "duration": 1018,
    "start_time": "2021-12-11T08:59:17.215Z"
   },
   {
    "duration": 962,
    "start_time": "2021-12-11T09:00:25.368Z"
   },
   {
    "duration": 228,
    "start_time": "2021-12-11T12:15:10.091Z"
   },
   {
    "duration": 1044,
    "start_time": "2021-12-11T12:15:16.061Z"
   },
   {
    "duration": 203,
    "start_time": "2021-12-11T12:15:17.107Z"
   },
   {
    "duration": 11,
    "start_time": "2021-12-11T12:15:17.313Z"
   },
   {
    "duration": 14,
    "start_time": "2021-12-11T12:15:17.326Z"
   },
   {
    "duration": 9,
    "start_time": "2021-12-11T12:15:17.342Z"
   },
   {
    "duration": 922,
    "start_time": "2021-12-11T12:15:17.353Z"
   },
   {
    "duration": 26,
    "start_time": "2021-12-11T12:15:18.277Z"
   },
   {
    "duration": 263,
    "start_time": "2021-12-11T12:15:18.306Z"
   },
   {
    "duration": 634,
    "start_time": "2021-12-11T12:15:17.938Z"
   },
   {
    "duration": 134,
    "start_time": "2021-12-11T14:33:19.545Z"
   },
   {
    "duration": 1004,
    "start_time": "2021-12-13T10:00:50.521Z"
   },
   {
    "duration": 102,
    "start_time": "2021-12-13T10:00:51.526Z"
   },
   {
    "duration": 11,
    "start_time": "2021-12-13T10:00:51.630Z"
   },
   {
    "duration": 12,
    "start_time": "2021-12-13T10:00:51.643Z"
   },
   {
    "duration": 7,
    "start_time": "2021-12-13T10:00:51.657Z"
   },
   {
    "duration": 136,
    "start_time": "2021-12-13T10:00:51.665Z"
   },
   {
    "duration": 9,
    "start_time": "2021-12-13T10:00:51.802Z"
   },
   {
    "duration": 416,
    "start_time": "2021-12-13T10:00:51.813Z"
   },
   {
    "duration": 2230,
    "start_time": "2021-12-13T10:00:50.005Z"
   },
   {
    "duration": 258,
    "start_time": "2021-12-13T13:32:36.398Z"
   },
   {
    "duration": 5,
    "start_time": "2021-12-13T13:32:42.928Z"
   },
   {
    "duration": 111,
    "start_time": "2021-12-13T13:32:42.940Z"
   },
   {
    "duration": 7,
    "start_time": "2021-12-13T13:32:43.054Z"
   },
   {
    "duration": 23,
    "start_time": "2021-12-13T13:32:43.063Z"
   },
   {
    "duration": 10,
    "start_time": "2021-12-13T13:32:43.089Z"
   },
   {
    "duration": 185,
    "start_time": "2021-12-13T13:32:43.166Z"
   },
   {
    "duration": 253,
    "start_time": "2021-12-13T13:32:43.353Z"
   },
   {
    "duration": 3201,
    "start_time": "2021-12-13T13:32:40.407Z"
   },
   {
    "duration": 3197,
    "start_time": "2021-12-13T13:32:40.413Z"
   },
   {
    "duration": 4,
    "start_time": "2021-12-13T13:33:12.251Z"
   },
   {
    "duration": 4,
    "start_time": "2021-12-13T13:33:15.164Z"
   },
   {
    "duration": 418,
    "start_time": "2021-12-13T13:33:15.182Z"
   },
   {
    "duration": 7,
    "start_time": "2021-12-13T13:33:15.602Z"
   },
   {
    "duration": 22,
    "start_time": "2021-12-13T13:33:15.612Z"
   },
   {
    "duration": 29,
    "start_time": "2021-12-13T13:33:15.637Z"
   },
   {
    "duration": 180,
    "start_time": "2021-12-13T13:33:15.668Z"
   },
   {
    "duration": 330,
    "start_time": "2021-12-13T13:33:15.850Z"
   },
   {
    "duration": 6,
    "start_time": "2021-12-13T13:33:16.182Z"
   },
   {
    "duration": 15,
    "start_time": "2021-12-13T13:33:16.190Z"
   },
   {
    "duration": 29432,
    "start_time": "2021-12-13T13:33:45.003Z"
   },
   {
    "duration": 19,
    "start_time": "2021-12-13T13:39:06.580Z"
   },
   {
    "duration": 9,
    "start_time": "2021-12-13T13:45:25.323Z"
   },
   {
    "duration": 10,
    "start_time": "2021-12-13T13:45:32.322Z"
   },
   {
    "duration": 13,
    "start_time": "2021-12-13T13:49:41.090Z"
   },
   {
    "duration": 15,
    "start_time": "2021-12-13T13:55:10.014Z"
   },
   {
    "duration": 21,
    "start_time": "2021-12-13T13:55:28.536Z"
   },
   {
    "duration": 23,
    "start_time": "2021-12-13T14:09:39.700Z"
   },
   {
    "duration": 95,
    "start_time": "2021-12-13T14:14:27.756Z"
   },
   {
    "duration": 26,
    "start_time": "2021-12-13T14:14:35.218Z"
   },
   {
    "duration": 42,
    "start_time": "2021-12-13T14:15:11.487Z"
   },
   {
    "duration": 4,
    "start_time": "2021-12-13T14:16:13.141Z"
   },
   {
    "duration": 52,
    "start_time": "2021-12-13T14:16:13.178Z"
   },
   {
    "duration": 6,
    "start_time": "2021-12-13T14:16:13.232Z"
   },
   {
    "duration": 11,
    "start_time": "2021-12-13T14:16:13.255Z"
   },
   {
    "duration": 10,
    "start_time": "2021-12-13T14:16:13.333Z"
   },
   {
    "duration": 131,
    "start_time": "2021-12-13T14:16:13.443Z"
   },
   {
    "duration": 20312,
    "start_time": "2021-12-13T14:16:13.576Z"
   },
   {
    "duration": 3,
    "start_time": "2021-12-13T14:16:33.889Z"
   },
   {
    "duration": 14,
    "start_time": "2021-12-13T14:16:33.894Z"
   },
   {
    "duration": 86,
    "start_time": "2021-12-13T14:16:33.910Z"
   },
   {
    "duration": 3238,
    "start_time": "2021-12-13T14:16:30.759Z"
   },
   {
    "duration": 42,
    "start_time": "2021-12-13T14:18:05.663Z"
   },
   {
    "duration": 42,
    "start_time": "2021-12-13T14:18:11.062Z"
   },
   {
    "duration": 4,
    "start_time": "2021-12-13T14:18:41.318Z"
   },
   {
    "duration": 4,
    "start_time": "2021-12-13T14:18:57.863Z"
   },
   {
    "duration": 4,
    "start_time": "2021-12-13T14:19:03.660Z"
   },
   {
    "duration": 49,
    "start_time": "2021-12-13T14:19:03.715Z"
   },
   {
    "duration": 5,
    "start_time": "2021-12-13T14:19:03.769Z"
   },
   {
    "duration": 12,
    "start_time": "2021-12-13T14:19:03.807Z"
   },
   {
    "duration": 8,
    "start_time": "2021-12-13T14:19:03.924Z"
   },
   {
    "duration": 137,
    "start_time": "2021-12-13T14:19:04.023Z"
   },
   {
    "duration": 6303,
    "start_time": "2021-12-13T14:19:04.248Z"
   },
   {
    "duration": 3066,
    "start_time": "2021-12-13T14:19:07.487Z"
   },
   {
    "duration": 3065,
    "start_time": "2021-12-13T14:19:07.489Z"
   },
   {
    "duration": 3045,
    "start_time": "2021-12-13T14:19:07.511Z"
   },
   {
    "duration": 3040,
    "start_time": "2021-12-13T14:19:07.517Z"
   },
   {
    "duration": 3028,
    "start_time": "2021-12-13T14:19:07.530Z"
   },
   {
    "duration": 3008,
    "start_time": "2021-12-13T14:19:07.551Z"
   },
   {
    "duration": 1004,
    "start_time": "2021-12-13T14:19:47.295Z"
   },
   {
    "duration": 58,
    "start_time": "2021-12-13T14:19:48.301Z"
   },
   {
    "duration": 10,
    "start_time": "2021-12-13T14:19:48.361Z"
   },
   {
    "duration": 13,
    "start_time": "2021-12-13T14:19:48.373Z"
   },
   {
    "duration": 7,
    "start_time": "2021-12-13T14:19:48.388Z"
   },
   {
    "duration": 146,
    "start_time": "2021-12-13T14:19:48.397Z"
   },
   {
    "duration": 21479,
    "start_time": "2021-12-13T14:19:48.545Z"
   },
   {
    "duration": 3,
    "start_time": "2021-12-13T14:20:10.026Z"
   },
   {
    "duration": 19,
    "start_time": "2021-12-13T14:20:10.031Z"
   },
   {
    "duration": 57,
    "start_time": "2021-12-13T14:20:10.051Z"
   },
   {
    "duration": 3,
    "start_time": "2021-12-13T14:20:10.110Z"
   },
   {
    "duration": 43,
    "start_time": "2021-12-13T14:20:10.115Z"
   },
   {
    "duration": 3,
    "start_time": "2021-12-13T14:20:10.160Z"
   },
   {
    "duration": 44,
    "start_time": "2021-12-13T14:21:06.320Z"
   },
   {
    "duration": 4,
    "start_time": "2021-12-13T14:21:10.757Z"
   },
   {
    "duration": 39416,
    "start_time": "2021-12-13T14:22:38.135Z"
   },
   {
    "duration": 86,
    "start_time": "2021-12-13T14:25:18.705Z"
   },
   {
    "duration": 4,
    "start_time": "2021-12-13T14:25:25.613Z"
   },
   {
    "duration": 50,
    "start_time": "2021-12-13T14:25:28.278Z"
   },
   {
    "duration": 51,
    "start_time": "2021-12-13T14:25:46.689Z"
   },
   {
    "duration": 4,
    "start_time": "2021-12-13T14:25:48.410Z"
   },
   {
    "duration": 54,
    "start_time": "2021-12-13T14:25:50.572Z"
   },
   {
    "duration": 3,
    "start_time": "2021-12-13T14:25:51.860Z"
   },
   {
    "duration": 51,
    "start_time": "2021-12-13T14:25:54.844Z"
   },
   {
    "duration": 369,
    "start_time": "2021-12-13T14:35:36.713Z"
   },
   {
    "duration": 72,
    "start_time": "2021-12-13T14:35:42.100Z"
   },
   {
    "duration": 3,
    "start_time": "2021-12-13T14:35:45.035Z"
   },
   {
    "duration": 4,
    "start_time": "2021-12-13T14:35:47.249Z"
   },
   {
    "duration": 3,
    "start_time": "2021-12-13T14:35:57.519Z"
   },
   {
    "duration": 4,
    "start_time": "2021-12-13T14:36:01.529Z"
   },
   {
    "duration": 1435,
    "start_time": "2021-12-13T14:36:13.375Z"
   },
   {
    "duration": 126,
    "start_time": "2021-12-13T14:36:14.812Z"
   },
   {
    "duration": 12,
    "start_time": "2021-12-13T14:36:14.940Z"
   },
   {
    "duration": 13,
    "start_time": "2021-12-13T14:36:14.953Z"
   },
   {
    "duration": 8,
    "start_time": "2021-12-13T14:36:14.968Z"
   },
   {
    "duration": 139,
    "start_time": "2021-12-13T14:36:14.977Z"
   },
   {
    "duration": 20658,
    "start_time": "2021-12-13T14:36:15.118Z"
   },
   {
    "duration": 3,
    "start_time": "2021-12-13T14:36:35.778Z"
   },
   {
    "duration": 13,
    "start_time": "2021-12-13T14:36:35.788Z"
   },
   {
    "duration": 38,
    "start_time": "2021-12-13T14:36:35.803Z"
   },
   {
    "duration": 4,
    "start_time": "2021-12-13T14:36:35.843Z"
   },
   {
    "duration": 95,
    "start_time": "2021-12-13T14:36:35.848Z"
   },
   {
    "duration": 3,
    "start_time": "2021-12-13T14:36:35.944Z"
   },
   {
    "duration": 8,
    "start_time": "2021-12-13T14:36:35.949Z"
   },
   {
    "duration": 9,
    "start_time": "2021-12-13T14:38:29.203Z"
   },
   {
    "duration": 351,
    "start_time": "2021-12-13T14:40:27.696Z"
   },
   {
    "duration": 251,
    "start_time": "2021-12-13T14:40:37.368Z"
   },
   {
    "duration": 3,
    "start_time": "2021-12-13T14:40:51.575Z"
   },
   {
    "duration": 253,
    "start_time": "2021-12-13T14:40:52.641Z"
   },
   {
    "duration": 292,
    "start_time": "2021-12-13T14:41:35.594Z"
   },
   {
    "duration": 239,
    "start_time": "2021-12-13T14:41:45.327Z"
   },
   {
    "duration": 3,
    "start_time": "2021-12-13T14:43:03.038Z"
   },
   {
    "duration": 4,
    "start_time": "2021-12-13T14:43:04.219Z"
   },
   {
    "duration": 8,
    "start_time": "2021-12-13T14:43:13.197Z"
   },
   {
    "duration": 265,
    "start_time": "2021-12-13T14:43:32.215Z"
   },
   {
    "duration": 7,
    "start_time": "2021-12-13T14:43:58.845Z"
   },
   {
    "duration": 6,
    "start_time": "2021-12-13T14:44:13.137Z"
   },
   {
    "duration": 250,
    "start_time": "2021-12-13T14:44:31.487Z"
   },
   {
    "duration": 5,
    "start_time": "2021-12-13T14:44:37.445Z"
   },
   {
    "duration": 781,
    "start_time": "2021-12-13T14:45:20.698Z"
   },
   {
    "duration": 7,
    "start_time": "2021-12-13T14:45:36.620Z"
   },
   {
    "duration": 6,
    "start_time": "2021-12-13T14:48:35.915Z"
   },
   {
    "duration": 6,
    "start_time": "2021-12-13T14:48:50.124Z"
   },
   {
    "duration": 9,
    "start_time": "2021-12-13T14:49:11.574Z"
   },
   {
    "duration": 77,
    "start_time": "2021-12-13T14:49:59.092Z"
   },
   {
    "duration": 4,
    "start_time": "2021-12-13T14:50:00.872Z"
   },
   {
    "duration": 240,
    "start_time": "2021-12-13T14:50:21.579Z"
   },
   {
    "duration": 5,
    "start_time": "2021-12-13T14:50:43.568Z"
   },
   {
    "duration": 6,
    "start_time": "2021-12-13T14:51:03.524Z"
   },
   {
    "duration": 248,
    "start_time": "2021-12-13T14:51:27.756Z"
   },
   {
    "duration": 6,
    "start_time": "2021-12-13T14:51:31.779Z"
   },
   {
    "duration": 254,
    "start_time": "2021-12-13T14:51:44.881Z"
   },
   {
    "duration": 4,
    "start_time": "2021-12-13T14:51:58.904Z"
   },
   {
    "duration": 281,
    "start_time": "2021-12-13T14:53:29.691Z"
   },
   {
    "duration": 1102,
    "start_time": "2021-12-13T14:53:44.889Z"
   },
   {
    "duration": 51,
    "start_time": "2021-12-13T14:53:45.993Z"
   },
   {
    "duration": 11,
    "start_time": "2021-12-13T14:53:46.046Z"
   },
   {
    "duration": 17,
    "start_time": "2021-12-13T14:53:46.059Z"
   },
   {
    "duration": 11,
    "start_time": "2021-12-13T14:53:46.079Z"
   },
   {
    "duration": 186,
    "start_time": "2021-12-13T14:53:46.092Z"
   },
   {
    "duration": 30370,
    "start_time": "2021-12-13T14:53:46.281Z"
   },
   {
    "duration": 3,
    "start_time": "2021-12-13T14:54:16.654Z"
   },
   {
    "duration": 35,
    "start_time": "2021-12-13T14:54:16.660Z"
   },
   {
    "duration": 56,
    "start_time": "2021-12-13T14:54:16.697Z"
   },
   {
    "duration": 4,
    "start_time": "2021-12-13T14:54:16.755Z"
   },
   {
    "duration": 106,
    "start_time": "2021-12-13T14:54:16.761Z"
   },
   {
    "duration": 19,
    "start_time": "2021-12-13T14:54:16.869Z"
   },
   {
    "duration": 7,
    "start_time": "2021-12-13T14:54:16.890Z"
   },
   {
    "duration": 7,
    "start_time": "2021-12-13T14:54:16.899Z"
   },
   {
    "duration": 6,
    "start_time": "2021-12-13T14:54:16.908Z"
   },
   {
    "duration": 6,
    "start_time": "2021-12-13T14:54:45.440Z"
   },
   {
    "duration": 7,
    "start_time": "2021-12-13T14:56:35.720Z"
   },
   {
    "duration": 3,
    "start_time": "2021-12-13T14:57:08.760Z"
   },
   {
    "duration": 56,
    "start_time": "2021-12-13T15:00:58.567Z"
   },
   {
    "duration": 64,
    "start_time": "2021-12-13T15:01:26.999Z"
   },
   {
    "duration": 1387,
    "start_time": "2021-12-13T15:02:17.806Z"
   },
   {
    "duration": 52,
    "start_time": "2021-12-13T15:02:19.195Z"
   },
   {
    "duration": 12,
    "start_time": "2021-12-13T15:02:19.248Z"
   },
   {
    "duration": 17,
    "start_time": "2021-12-13T15:02:19.262Z"
   },
   {
    "duration": 9,
    "start_time": "2021-12-13T15:02:19.281Z"
   },
   {
    "duration": 138,
    "start_time": "2021-12-13T15:02:19.292Z"
   },
   {
    "duration": 30366,
    "start_time": "2021-12-13T15:02:19.433Z"
   },
   {
    "duration": 4,
    "start_time": "2021-12-13T15:02:49.802Z"
   },
   {
    "duration": 15,
    "start_time": "2021-12-13T15:02:49.808Z"
   },
   {
    "duration": 69,
    "start_time": "2021-12-13T15:02:49.825Z"
   },
   {
    "duration": 5,
    "start_time": "2021-12-13T15:02:49.896Z"
   },
   {
    "duration": 59,
    "start_time": "2021-12-13T15:02:49.902Z"
   },
   {
    "duration": 5,
    "start_time": "2021-12-13T15:02:49.963Z"
   },
   {
    "duration": 20,
    "start_time": "2021-12-13T15:02:49.969Z"
   },
   {
    "duration": 7,
    "start_time": "2021-12-13T15:02:49.991Z"
   },
   {
    "duration": 11,
    "start_time": "2021-12-13T15:02:50.000Z"
   },
   {
    "duration": 6,
    "start_time": "2021-12-13T15:02:50.013Z"
   },
   {
    "duration": 5,
    "start_time": "2021-12-13T15:05:43.837Z"
   },
   {
    "duration": 61,
    "start_time": "2021-12-13T15:05:44.013Z"
   },
   {
    "duration": 10,
    "start_time": "2021-12-13T15:05:44.080Z"
   },
   {
    "duration": 5,
    "start_time": "2021-12-13T15:05:44.134Z"
   },
   {
    "duration": 5,
    "start_time": "2021-12-13T15:05:44.216Z"
   },
   {
    "duration": 5,
    "start_time": "2021-12-13T15:05:44.283Z"
   },
   {
    "duration": 4,
    "start_time": "2021-12-13T15:05:44.325Z"
   },
   {
    "duration": 4,
    "start_time": "2021-12-13T15:05:44.367Z"
   },
   {
    "duration": 979,
    "start_time": "2021-12-13T15:06:37.043Z"
   },
   {
    "duration": 53,
    "start_time": "2021-12-13T15:06:38.024Z"
   },
   {
    "duration": 12,
    "start_time": "2021-12-13T15:06:38.080Z"
   },
   {
    "duration": 18,
    "start_time": "2021-12-13T15:06:38.095Z"
   },
   {
    "duration": 11,
    "start_time": "2021-12-13T15:06:38.115Z"
   },
   {
    "duration": 197,
    "start_time": "2021-12-13T15:06:38.129Z"
   },
   {
    "duration": 29623,
    "start_time": "2021-12-13T15:06:38.328Z"
   },
   {
    "duration": 4,
    "start_time": "2021-12-13T15:07:07.954Z"
   },
   {
    "duration": 30,
    "start_time": "2021-12-13T15:07:07.960Z"
   },
   {
    "duration": 58,
    "start_time": "2021-12-13T15:07:07.993Z"
   },
   {
    "duration": 4,
    "start_time": "2021-12-13T15:07:08.054Z"
   },
   {
    "duration": 110,
    "start_time": "2021-12-13T15:07:08.060Z"
   },
   {
    "duration": 28,
    "start_time": "2021-12-13T15:07:08.172Z"
   },
   {
    "duration": 7,
    "start_time": "2021-12-13T15:07:08.202Z"
   },
   {
    "duration": 7,
    "start_time": "2021-12-13T15:07:08.210Z"
   },
   {
    "duration": 9,
    "start_time": "2021-12-13T15:07:08.219Z"
   },
   {
    "duration": 4,
    "start_time": "2021-12-13T15:07:08.230Z"
   },
   {
    "duration": 6,
    "start_time": "2021-12-13T15:07:08.235Z"
   },
   {
    "duration": 3,
    "start_time": "2021-12-13T15:08:18.117Z"
   },
   {
    "duration": 78,
    "start_time": "2021-12-13T15:08:18.164Z"
   },
   {
    "duration": 7,
    "start_time": "2021-12-13T15:08:18.244Z"
   },
   {
    "duration": 13,
    "start_time": "2021-12-13T15:08:18.292Z"
   },
   {
    "duration": 9,
    "start_time": "2021-12-13T15:08:18.408Z"
   },
   {
    "duration": 143,
    "start_time": "2021-12-13T15:08:18.564Z"
   },
   {
    "duration": 20842,
    "start_time": "2021-12-13T15:08:18.716Z"
   },
   {
    "duration": 4,
    "start_time": "2021-12-13T15:08:39.561Z"
   },
   {
    "duration": 31,
    "start_time": "2021-12-13T15:08:39.567Z"
   },
   {
    "duration": 39,
    "start_time": "2021-12-13T15:08:39.600Z"
   },
   {
    "duration": 3,
    "start_time": "2021-12-13T15:08:39.641Z"
   },
   {
    "duration": 1324,
    "start_time": "2021-12-13T16:42:04.135Z"
   },
   {
    "duration": 92,
    "start_time": "2021-12-13T16:42:05.462Z"
   },
   {
    "duration": 15,
    "start_time": "2021-12-13T16:42:05.557Z"
   },
   {
    "duration": 21,
    "start_time": "2021-12-13T16:42:05.575Z"
   },
   {
    "duration": 11,
    "start_time": "2021-12-13T16:42:05.598Z"
   },
   {
    "duration": 212,
    "start_time": "2021-12-13T16:42:05.612Z"
   },
   {
    "duration": 34122,
    "start_time": "2021-12-13T16:42:05.827Z"
   },
   {
    "duration": 4,
    "start_time": "2021-12-13T16:42:39.952Z"
   },
   {
    "duration": 26,
    "start_time": "2021-12-13T16:42:39.959Z"
   },
   {
    "duration": 95,
    "start_time": "2021-12-13T16:42:39.987Z"
   },
   {
    "duration": 4,
    "start_time": "2021-12-13T16:42:40.085Z"
   },
   {
    "duration": 65,
    "start_time": "2021-12-13T16:42:40.091Z"
   },
   {
    "duration": 15,
    "start_time": "2021-12-13T16:42:40.158Z"
   },
   {
    "duration": 48,
    "start_time": "2021-12-13T16:42:40.176Z"
   },
   {
    "duration": 8,
    "start_time": "2021-12-13T16:42:40.227Z"
   },
   {
    "duration": 8,
    "start_time": "2021-12-13T16:42:40.237Z"
   },
   {
    "duration": 5,
    "start_time": "2021-12-13T16:42:40.247Z"
   },
   {
    "duration": 6,
    "start_time": "2021-12-13T16:42:40.254Z"
   },
   {
    "duration": 7,
    "start_time": "2021-12-13T16:44:07.797Z"
   },
   {
    "duration": 9,
    "start_time": "2021-12-13T16:44:40.500Z"
   },
   {
    "duration": 21,
    "start_time": "2021-12-13T16:45:08.694Z"
   },
   {
    "duration": 90,
    "start_time": "2021-12-13T17:02:46.414Z"
   },
   {
    "duration": 91,
    "start_time": "2021-12-13T17:05:42.897Z"
   },
   {
    "duration": 85,
    "start_time": "2021-12-13T17:06:04.807Z"
   },
   {
    "duration": 5,
    "start_time": "2021-12-13T17:06:06.929Z"
   },
   {
    "duration": 1355,
    "start_time": "2021-12-13T17:15:48.296Z"
   },
   {
    "duration": 304,
    "start_time": "2021-12-13T17:15:49.653Z"
   },
   {
    "duration": 16,
    "start_time": "2021-12-13T17:15:49.960Z"
   },
   {
    "duration": 16,
    "start_time": "2021-12-13T17:15:49.978Z"
   },
   {
    "duration": 11,
    "start_time": "2021-12-13T17:15:49.997Z"
   },
   {
    "duration": 76,
    "start_time": "2021-12-13T17:15:50.010Z"
   },
   {
    "duration": 4,
    "start_time": "2021-12-13T17:15:50.089Z"
   },
   {
    "duration": 31236,
    "start_time": "2021-12-13T17:15:50.116Z"
   },
   {
    "duration": 4,
    "start_time": "2021-12-13T17:16:21.354Z"
   },
   {
    "duration": 26,
    "start_time": "2021-12-13T17:16:21.360Z"
   },
   {
    "duration": 91,
    "start_time": "2021-12-13T17:16:21.388Z"
   },
   {
    "duration": 6,
    "start_time": "2021-12-13T17:16:21.481Z"
   },
   {
    "duration": 72,
    "start_time": "2021-12-13T17:16:21.490Z"
   },
   {
    "duration": 19,
    "start_time": "2021-12-13T17:16:21.564Z"
   },
   {
    "duration": 33,
    "start_time": "2021-12-13T17:16:21.586Z"
   },
   {
    "duration": 10,
    "start_time": "2021-12-13T17:16:21.621Z"
   },
   {
    "duration": 7,
    "start_time": "2021-12-13T17:16:21.633Z"
   },
   {
    "duration": 5,
    "start_time": "2021-12-13T17:16:21.642Z"
   },
   {
    "duration": 5,
    "start_time": "2021-12-13T17:16:21.649Z"
   },
   {
    "duration": 370,
    "start_time": "2021-12-13T18:34:55.855Z"
   },
   {
    "duration": 1300,
    "start_time": "2021-12-13T18:35:56.359Z"
   },
   {
    "duration": 121,
    "start_time": "2021-12-13T18:35:57.662Z"
   },
   {
    "duration": 16,
    "start_time": "2021-12-13T18:35:57.786Z"
   },
   {
    "duration": 16,
    "start_time": "2021-12-13T18:35:57.805Z"
   },
   {
    "duration": 11,
    "start_time": "2021-12-13T18:35:57.824Z"
   },
   {
    "duration": 89,
    "start_time": "2021-12-13T18:35:57.837Z"
   },
   {
    "duration": 385,
    "start_time": "2021-12-13T18:35:57.929Z"
   },
   {
    "duration": 4089,
    "start_time": "2021-12-13T18:35:54.227Z"
   },
   {
    "duration": 4047,
    "start_time": "2021-12-13T18:35:54.271Z"
   },
   {
    "duration": 4045,
    "start_time": "2021-12-13T18:35:54.274Z"
   },
   {
    "duration": 4044,
    "start_time": "2021-12-13T18:35:54.276Z"
   },
   {
    "duration": 6,
    "start_time": "2021-12-13T18:37:10.967Z"
   },
   {
    "duration": 31634,
    "start_time": "2021-12-13T18:37:15.959Z"
   },
   {
    "duration": 4,
    "start_time": "2021-12-13T18:38:18.134Z"
   },
   {
    "duration": 5,
    "start_time": "2021-12-13T18:38:26.417Z"
   },
   {
    "duration": 5,
    "start_time": "2021-12-13T18:38:44.100Z"
   },
   {
    "duration": 27,
    "start_time": "2021-12-13T18:38:51.395Z"
   },
   {
    "duration": 260,
    "start_time": "2021-12-13T18:39:18.402Z"
   },
   {
    "duration": 19,
    "start_time": "2021-12-13T18:39:48.215Z"
   },
   {
    "duration": 20,
    "start_time": "2021-12-13T18:40:25.611Z"
   },
   {
    "duration": 7,
    "start_time": "2021-12-13T18:45:27.567Z"
   },
   {
    "duration": 8,
    "start_time": "2021-12-13T18:45:59.205Z"
   },
   {
    "duration": 8,
    "start_time": "2021-12-13T18:46:08.406Z"
   },
   {
    "duration": 8,
    "start_time": "2021-12-13T18:46:49.198Z"
   },
   {
    "duration": 10,
    "start_time": "2021-12-13T18:47:01.077Z"
   },
   {
    "duration": 10,
    "start_time": "2021-12-13T18:47:51.977Z"
   },
   {
    "duration": 244,
    "start_time": "2021-12-13T18:49:33.240Z"
   },
   {
    "duration": 6,
    "start_time": "2021-12-13T18:49:44.845Z"
   },
   {
    "duration": 10,
    "start_time": "2021-12-13T18:50:02.331Z"
   },
   {
    "duration": 1099,
    "start_time": "2021-12-13T18:53:49.084Z"
   },
   {
    "duration": 4,
    "start_time": "2021-12-13T18:54:05.854Z"
   },
   {
    "duration": 11,
    "start_time": "2021-12-13T18:54:10.845Z"
   },
   {
    "duration": 9,
    "start_time": "2021-12-13T18:54:40.400Z"
   },
   {
    "duration": 11,
    "start_time": "2021-12-13T18:54:51.075Z"
   },
   {
    "duration": 4083,
    "start_time": "2021-12-13T19:00:52.773Z"
   },
   {
    "duration": 6,
    "start_time": "2021-12-13T19:00:59.714Z"
   },
   {
    "duration": 12,
    "start_time": "2021-12-13T19:01:08.091Z"
   },
   {
    "duration": 8,
    "start_time": "2021-12-13T19:01:15.571Z"
   },
   {
    "duration": 251,
    "start_time": "2021-12-13T19:01:36.442Z"
   },
   {
    "duration": 6,
    "start_time": "2021-12-13T19:01:39.491Z"
   },
   {
    "duration": 263,
    "start_time": "2021-12-13T19:01:45.847Z"
   },
   {
    "duration": 20,
    "start_time": "2021-12-13T19:01:56.058Z"
   },
   {
    "duration": 11,
    "start_time": "2021-12-13T19:02:08.203Z"
   },
   {
    "duration": 7,
    "start_time": "2021-12-13T19:02:15.762Z"
   },
   {
    "duration": 10,
    "start_time": "2021-12-13T19:02:26.887Z"
   },
   {
    "duration": 14,
    "start_time": "2021-12-13T19:02:26.900Z"
   },
   {
    "duration": 9,
    "start_time": "2021-12-13T19:02:26.917Z"
   },
   {
    "duration": 9,
    "start_time": "2021-12-13T19:02:46.569Z"
   },
   {
    "duration": 8,
    "start_time": "2021-12-13T19:02:57.971Z"
   },
   {
    "duration": 8,
    "start_time": "2021-12-13T19:03:01.974Z"
   },
   {
    "duration": 8,
    "start_time": "2021-12-13T19:03:03.651Z"
   },
   {
    "duration": 8,
    "start_time": "2021-12-13T19:03:08.941Z"
   },
   {
    "duration": 8,
    "start_time": "2021-12-13T19:03:08.960Z"
   },
   {
    "duration": 9,
    "start_time": "2021-12-13T19:03:08.972Z"
   },
   {
    "duration": 9,
    "start_time": "2021-12-13T19:03:38.251Z"
   },
   {
    "duration": 1324,
    "start_time": "2021-12-13T19:05:36.240Z"
   },
   {
    "duration": 57,
    "start_time": "2021-12-13T19:05:37.567Z"
   },
   {
    "duration": 16,
    "start_time": "2021-12-13T19:05:37.628Z"
   },
   {
    "duration": 16,
    "start_time": "2021-12-13T19:05:37.647Z"
   },
   {
    "duration": 11,
    "start_time": "2021-12-13T19:05:37.666Z"
   },
   {
    "duration": 98,
    "start_time": "2021-12-13T19:05:37.680Z"
   },
   {
    "duration": 5,
    "start_time": "2021-12-13T19:05:37.780Z"
   },
   {
    "duration": 233121,
    "start_time": "2021-12-13T19:05:37.787Z"
   },
   {
    "duration": 7,
    "start_time": "2021-12-13T19:09:30.912Z"
   },
   {
    "duration": 59,
    "start_time": "2021-12-13T19:09:30.921Z"
   },
   {
    "duration": 445,
    "start_time": "2021-12-13T19:09:30.982Z"
   },
   {
    "duration": 4112,
    "start_time": "2021-12-13T19:09:27.319Z"
   },
   {
    "duration": 4107,
    "start_time": "2021-12-13T19:09:27.326Z"
   },
   {
    "duration": 4106,
    "start_time": "2021-12-13T19:09:27.329Z"
   },
   {
    "duration": 4105,
    "start_time": "2021-12-13T19:09:27.332Z"
   },
   {
    "duration": 4091,
    "start_time": "2021-12-13T19:09:27.347Z"
   },
   {
    "duration": 4084,
    "start_time": "2021-12-13T19:09:27.355Z"
   },
   {
    "duration": 4301,
    "start_time": "2021-12-13T19:10:56.691Z"
   },
   {
    "duration": 4,
    "start_time": "2021-12-13T19:11:00.995Z"
   },
   {
    "duration": 410,
    "start_time": "2021-12-13T19:11:13.399Z"
   },
   {
    "duration": 5,
    "start_time": "2021-12-13T19:11:15.995Z"
   },
   {
    "duration": 1313,
    "start_time": "2021-12-13T19:11:25.557Z"
   },
   {
    "duration": 115,
    "start_time": "2021-12-13T19:11:26.873Z"
   },
   {
    "duration": 20,
    "start_time": "2021-12-13T19:11:26.991Z"
   },
   {
    "duration": 25,
    "start_time": "2021-12-13T19:11:27.014Z"
   },
   {
    "duration": 28,
    "start_time": "2021-12-13T19:11:27.041Z"
   },
   {
    "duration": 85,
    "start_time": "2021-12-13T19:11:27.071Z"
   },
   {
    "duration": 6,
    "start_time": "2021-12-13T19:11:27.158Z"
   },
   {
    "duration": 2387,
    "start_time": "2021-12-13T19:11:27.169Z"
   },
   {
    "duration": 5,
    "start_time": "2021-12-13T19:11:29.559Z"
   },
   {
    "duration": 50,
    "start_time": "2021-12-13T19:11:29.567Z"
   },
   {
    "duration": 370,
    "start_time": "2021-12-13T19:11:29.620Z"
   },
   {
    "duration": 4151,
    "start_time": "2021-12-13T19:11:25.843Z"
   },
   {
    "duration": 4146,
    "start_time": "2021-12-13T19:11:25.849Z"
   },
   {
    "duration": 4145,
    "start_time": "2021-12-13T19:11:25.852Z"
   },
   {
    "duration": 4112,
    "start_time": "2021-12-13T19:11:25.887Z"
   },
   {
    "duration": 4106,
    "start_time": "2021-12-13T19:11:25.895Z"
   },
   {
    "duration": 4097,
    "start_time": "2021-12-13T19:11:25.907Z"
   },
   {
    "duration": 195,
    "start_time": "2021-12-13T19:12:57.852Z"
   },
   {
    "duration": 5,
    "start_time": "2021-12-13T19:13:03.511Z"
   },
   {
    "duration": 74,
    "start_time": "2021-12-13T19:13:15.929Z"
   },
   {
    "duration": 4,
    "start_time": "2021-12-13T19:13:20.606Z"
   },
   {
    "duration": 48,
    "start_time": "2021-12-13T19:13:20.613Z"
   },
   {
    "duration": 8,
    "start_time": "2021-12-13T19:13:20.665Z"
   },
   {
    "duration": 21,
    "start_time": "2021-12-13T19:13:20.676Z"
   },
   {
    "duration": 21,
    "start_time": "2021-12-13T19:13:20.700Z"
   },
   {
    "duration": 72,
    "start_time": "2021-12-13T19:13:20.724Z"
   },
   {
    "duration": 21,
    "start_time": "2021-12-13T19:13:20.798Z"
   },
   {
    "duration": 2410,
    "start_time": "2021-12-13T19:13:20.821Z"
   },
   {
    "duration": 4,
    "start_time": "2021-12-13T19:13:23.233Z"
   },
   {
    "duration": 28,
    "start_time": "2021-12-13T19:13:23.239Z"
   },
   {
    "duration": 261,
    "start_time": "2021-12-13T19:13:23.270Z"
   },
   {
    "duration": 4130,
    "start_time": "2021-12-13T19:13:19.403Z"
   },
   {
    "duration": 4125,
    "start_time": "2021-12-13T19:13:19.411Z"
   },
   {
    "duration": 4113,
    "start_time": "2021-12-13T19:13:19.424Z"
   },
   {
    "duration": 4109,
    "start_time": "2021-12-13T19:13:19.429Z"
   },
   {
    "duration": 4095,
    "start_time": "2021-12-13T19:13:19.445Z"
   },
   {
    "duration": 4093,
    "start_time": "2021-12-13T19:13:19.448Z"
   },
   {
    "duration": 5,
    "start_time": "2021-12-13T19:13:47.764Z"
   },
   {
    "duration": 45,
    "start_time": "2021-12-13T19:13:47.792Z"
   },
   {
    "duration": 7,
    "start_time": "2021-12-13T19:13:47.839Z"
   },
   {
    "duration": 15,
    "start_time": "2021-12-13T19:13:47.849Z"
   },
   {
    "duration": 12,
    "start_time": "2021-12-13T19:13:47.866Z"
   },
   {
    "duration": 98,
    "start_time": "2021-12-13T19:13:47.880Z"
   },
   {
    "duration": 4,
    "start_time": "2021-12-13T19:13:47.981Z"
   },
   {
    "duration": 2382,
    "start_time": "2021-12-13T19:13:47.987Z"
   },
   {
    "duration": 4,
    "start_time": "2021-12-13T19:13:50.372Z"
   },
   {
    "duration": 19,
    "start_time": "2021-12-13T19:14:00.970Z"
   },
   {
    "duration": 20,
    "start_time": "2021-12-13T19:14:00.994Z"
   },
   {
    "duration": 36,
    "start_time": "2021-12-13T19:14:01.017Z"
   },
   {
    "duration": 42,
    "start_time": "2021-12-13T19:14:01.057Z"
   },
   {
    "duration": 10,
    "start_time": "2021-12-13T19:15:16.723Z"
   },
   {
    "duration": 4,
    "start_time": "2021-12-13T19:15:25.081Z"
   },
   {
    "duration": 59,
    "start_time": "2021-12-13T19:15:25.094Z"
   },
   {
    "duration": 8,
    "start_time": "2021-12-13T19:15:25.156Z"
   },
   {
    "duration": 24,
    "start_time": "2021-12-13T19:15:25.167Z"
   },
   {
    "duration": 24,
    "start_time": "2021-12-13T19:15:25.194Z"
   },
   {
    "duration": 87,
    "start_time": "2021-12-13T19:15:25.220Z"
   },
   {
    "duration": 4,
    "start_time": "2021-12-13T19:15:25.310Z"
   },
   {
    "duration": 2369,
    "start_time": "2021-12-13T19:15:25.318Z"
   },
   {
    "duration": 4,
    "start_time": "2021-12-13T19:15:27.689Z"
   },
   {
    "duration": 40,
    "start_time": "2021-12-13T19:15:27.696Z"
   },
   {
    "duration": 19,
    "start_time": "2021-12-13T19:15:27.738Z"
   },
   {
    "duration": 7,
    "start_time": "2021-12-13T19:15:27.760Z"
   },
   {
    "duration": 9,
    "start_time": "2021-12-13T19:15:27.769Z"
   },
   {
    "duration": 41,
    "start_time": "2021-12-13T19:15:27.781Z"
   },
   {
    "duration": 324,
    "start_time": "2021-12-13T19:39:05.706Z"
   },
   {
    "duration": 246,
    "start_time": "2021-12-13T19:39:29.369Z"
   },
   {
    "duration": 106,
    "start_time": "2021-12-13T19:39:53.270Z"
   },
   {
    "duration": 5,
    "start_time": "2021-12-13T19:39:57.890Z"
   },
   {
    "duration": 5,
    "start_time": "2021-12-13T19:40:02.204Z"
   },
   {
    "duration": 109,
    "start_time": "2021-12-13T19:40:02.215Z"
   },
   {
    "duration": 8,
    "start_time": "2021-12-13T19:40:02.326Z"
   },
   {
    "duration": 21,
    "start_time": "2021-12-13T19:40:02.336Z"
   },
   {
    "duration": 14,
    "start_time": "2021-12-13T19:40:02.360Z"
   },
   {
    "duration": 129,
    "start_time": "2021-12-13T19:40:02.377Z"
   },
   {
    "duration": 5,
    "start_time": "2021-12-13T19:40:02.516Z"
   },
   {
    "duration": 2826,
    "start_time": "2021-12-13T19:40:02.525Z"
   },
   {
    "duration": 5,
    "start_time": "2021-12-13T19:40:05.355Z"
   },
   {
    "duration": 44,
    "start_time": "2021-12-13T19:40:05.364Z"
   },
   {
    "duration": 26,
    "start_time": "2021-12-13T19:40:05.411Z"
   },
   {
    "duration": 5,
    "start_time": "2021-12-13T19:40:05.440Z"
   },
   {
    "duration": 10,
    "start_time": "2021-12-13T19:40:05.447Z"
   },
   {
    "duration": 27,
    "start_time": "2021-12-13T19:40:05.460Z"
   },
   {
    "duration": 29,
    "start_time": "2021-12-13T19:40:05.490Z"
   },
   {
    "duration": 8,
    "start_time": "2021-12-13T19:40:35.190Z"
   },
   {
    "duration": 5,
    "start_time": "2021-12-13T19:40:58.854Z"
   },
   {
    "duration": 6,
    "start_time": "2021-12-13T19:41:25.875Z"
   },
   {
    "duration": 266,
    "start_time": "2021-12-13T19:44:47.794Z"
   },
   {
    "duration": 5,
    "start_time": "2021-12-13T19:44:53.281Z"
   },
   {
    "duration": 7,
    "start_time": "2021-12-13T19:45:05.038Z"
   },
   {
    "duration": 5,
    "start_time": "2021-12-13T19:45:19.200Z"
   },
   {
    "duration": 84,
    "start_time": "2021-12-13T19:49:11.856Z"
   },
   {
    "duration": 92,
    "start_time": "2021-12-13T19:49:35.413Z"
   },
   {
    "duration": 92,
    "start_time": "2021-12-13T19:49:43.733Z"
   },
   {
    "duration": 5354,
    "start_time": "2021-12-13T19:49:50.454Z"
   },
   {
    "duration": 7,
    "start_time": "2021-12-13T19:50:28.107Z"
   },
   {
    "duration": 5,
    "start_time": "2021-12-13T19:50:32.711Z"
   },
   {
    "duration": 6,
    "start_time": "2021-12-13T19:50:37.803Z"
   },
   {
    "duration": 5,
    "start_time": "2021-12-13T19:50:46.352Z"
   },
   {
    "duration": 215,
    "start_time": "2021-12-13T19:51:52.891Z"
   },
   {
    "duration": 5503,
    "start_time": "2021-12-13T19:52:22.285Z"
   },
   {
    "duration": 6,
    "start_time": "2021-12-13T20:00:10.530Z"
   },
   {
    "duration": 4547,
    "start_time": "2021-12-13T20:00:24.519Z"
   },
   {
    "duration": 4051,
    "start_time": "2021-12-13T20:00:58.308Z"
   },
   {
    "duration": 3909,
    "start_time": "2021-12-13T20:02:42.254Z"
   },
   {
    "duration": 252,
    "start_time": "2021-12-13T20:04:46.211Z"
   },
   {
    "duration": 6,
    "start_time": "2021-12-13T20:05:38.278Z"
   },
   {
    "duration": 5,
    "start_time": "2021-12-13T20:05:41.804Z"
   },
   {
    "duration": 50,
    "start_time": "2021-12-13T20:05:41.812Z"
   },
   {
    "duration": 8,
    "start_time": "2021-12-13T20:05:41.864Z"
   },
   {
    "duration": 17,
    "start_time": "2021-12-13T20:05:41.874Z"
   },
   {
    "duration": 31,
    "start_time": "2021-12-13T20:05:41.893Z"
   },
   {
    "duration": 75,
    "start_time": "2021-12-13T20:05:41.928Z"
   },
   {
    "duration": 6,
    "start_time": "2021-12-13T20:05:42.021Z"
   },
   {
    "duration": 2602,
    "start_time": "2021-12-13T20:05:42.030Z"
   },
   {
    "duration": 4,
    "start_time": "2021-12-13T20:05:44.634Z"
   },
   {
    "duration": 26,
    "start_time": "2021-12-13T20:05:44.640Z"
   },
   {
    "duration": 19,
    "start_time": "2021-12-13T20:05:44.668Z"
   },
   {
    "duration": 29,
    "start_time": "2021-12-13T20:05:44.689Z"
   },
   {
    "duration": 8,
    "start_time": "2021-12-13T20:05:44.721Z"
   },
   {
    "duration": 9,
    "start_time": "2021-12-13T20:05:44.734Z"
   },
   {
    "duration": 16,
    "start_time": "2021-12-13T20:05:44.746Z"
   },
   {
    "duration": 8,
    "start_time": "2021-12-13T20:05:44.765Z"
   },
   {
    "duration": 51,
    "start_time": "2021-12-13T20:05:44.775Z"
   },
   {
    "duration": 7,
    "start_time": "2021-12-13T20:05:44.829Z"
   },
   {
    "duration": 8,
    "start_time": "2021-12-13T20:05:44.839Z"
   },
   {
    "duration": 13,
    "start_time": "2021-12-13T20:05:44.849Z"
   },
   {
    "duration": 10,
    "start_time": "2021-12-13T20:06:42.534Z"
   },
   {
    "duration": 70,
    "start_time": "2021-12-13T20:37:47.237Z"
   },
   {
    "duration": 1371,
    "start_time": "2021-12-13T20:55:49.494Z"
   },
   {
    "duration": 143,
    "start_time": "2021-12-13T20:55:50.868Z"
   },
   {
    "duration": 22,
    "start_time": "2021-12-13T20:55:51.014Z"
   },
   {
    "duration": 16,
    "start_time": "2021-12-13T20:55:51.039Z"
   },
   {
    "duration": 11,
    "start_time": "2021-12-13T20:55:51.058Z"
   },
   {
    "duration": 109,
    "start_time": "2021-12-13T20:55:51.071Z"
   },
   {
    "duration": 5,
    "start_time": "2021-12-13T20:55:51.183Z"
   },
   {
    "duration": 2710,
    "start_time": "2021-12-13T20:55:51.191Z"
   },
   {
    "duration": 4,
    "start_time": "2021-12-13T20:55:53.904Z"
   },
   {
    "duration": 34,
    "start_time": "2021-12-13T20:55:53.918Z"
   },
   {
    "duration": 19,
    "start_time": "2021-12-13T20:55:53.955Z"
   },
   {
    "duration": 3,
    "start_time": "2021-12-13T20:55:53.977Z"
   },
   {
    "duration": 6,
    "start_time": "2021-12-13T20:55:53.983Z"
   },
   {
    "duration": 13,
    "start_time": "2021-12-13T20:55:54.016Z"
   },
   {
    "duration": 12,
    "start_time": "2021-12-13T20:55:54.031Z"
   },
   {
    "duration": 5,
    "start_time": "2021-12-13T20:57:37.652Z"
   },
   {
    "duration": 48,
    "start_time": "2021-12-13T20:57:37.660Z"
   },
   {
    "duration": 9,
    "start_time": "2021-12-13T20:57:37.711Z"
   },
   {
    "duration": 16,
    "start_time": "2021-12-13T20:57:37.723Z"
   },
   {
    "duration": 16,
    "start_time": "2021-12-13T20:57:37.741Z"
   },
   {
    "duration": 113,
    "start_time": "2021-12-13T20:57:37.760Z"
   },
   {
    "duration": 5,
    "start_time": "2021-12-13T20:57:37.876Z"
   },
   {
    "duration": 2479,
    "start_time": "2021-12-13T20:57:37.884Z"
   },
   {
    "duration": 4,
    "start_time": "2021-12-13T20:57:40.366Z"
   },
   {
    "duration": 53,
    "start_time": "2021-12-13T20:57:40.374Z"
   },
   {
    "duration": 19,
    "start_time": "2021-12-13T20:57:40.432Z"
   },
   {
    "duration": 4,
    "start_time": "2021-12-13T20:57:40.453Z"
   },
   {
    "duration": 7,
    "start_time": "2021-12-13T20:57:40.459Z"
   },
   {
    "duration": 8,
    "start_time": "2021-12-13T20:57:40.468Z"
   },
   {
    "duration": 48,
    "start_time": "2021-12-13T20:57:40.478Z"
   },
   {
    "duration": 62,
    "start_time": "2021-12-13T20:58:25.651Z"
   },
   {
    "duration": 415,
    "start_time": "2021-12-13T21:00:52.639Z"
   },
   {
    "duration": 82975,
    "start_time": "2021-12-13T21:01:09.019Z"
   },
   {
    "duration": 4438,
    "start_time": "2021-12-13T21:02:27.559Z"
   },
   {
    "duration": 5840,
    "start_time": "2021-12-13T21:02:52.330Z"
   },
   {
    "duration": 5,
    "start_time": "2021-12-13T21:03:03.095Z"
   },
   {
    "duration": 1726,
    "start_time": "2021-12-13T21:03:43.677Z"
   },
   {
    "duration": 65,
    "start_time": "2021-12-13T21:03:45.406Z"
   },
   {
    "duration": 17,
    "start_time": "2021-12-13T21:03:45.474Z"
   },
   {
    "duration": 18,
    "start_time": "2021-12-13T21:03:45.493Z"
   },
   {
    "duration": 22,
    "start_time": "2021-12-13T21:03:45.513Z"
   },
   {
    "duration": 5849,
    "start_time": "2021-12-13T21:03:45.537Z"
   },
   {
    "duration": 5,
    "start_time": "2021-12-13T21:03:51.389Z"
   },
   {
    "duration": 2531,
    "start_time": "2021-12-13T21:03:51.399Z"
   },
   {
    "duration": 4,
    "start_time": "2021-12-13T21:03:53.933Z"
   },
   {
    "duration": 39,
    "start_time": "2021-12-13T21:03:53.940Z"
   },
   {
    "duration": 19,
    "start_time": "2021-12-13T21:03:53.981Z"
   },
   {
    "duration": 23,
    "start_time": "2021-12-13T21:03:54.002Z"
   },
   {
    "duration": 17,
    "start_time": "2021-12-13T21:03:54.028Z"
   },
   {
    "duration": 19,
    "start_time": "2021-12-13T21:03:54.048Z"
   },
   {
    "duration": 39,
    "start_time": "2021-12-13T21:03:54.070Z"
   },
   {
    "duration": 10675,
    "start_time": "2021-12-13T21:05:08.206Z"
   },
   {
    "duration": 4,
    "start_time": "2021-12-13T21:05:20.851Z"
   },
   {
    "duration": 11,
    "start_time": "2021-12-13T21:08:33.953Z"
   },
   {
    "duration": 1336,
    "start_time": "2021-12-13T21:17:31.133Z"
   },
   {
    "duration": 57,
    "start_time": "2021-12-13T21:17:32.471Z"
   },
   {
    "duration": 16,
    "start_time": "2021-12-13T21:17:32.531Z"
   },
   {
    "duration": 16,
    "start_time": "2021-12-13T21:17:32.550Z"
   },
   {
    "duration": 11,
    "start_time": "2021-12-13T21:17:32.569Z"
   },
   {
    "duration": 11006,
    "start_time": "2021-12-13T21:17:32.582Z"
   },
   {
    "duration": 5,
    "start_time": "2021-12-13T21:17:43.590Z"
   },
   {
    "duration": 2503,
    "start_time": "2021-12-13T21:17:43.599Z"
   },
   {
    "duration": 4,
    "start_time": "2021-12-13T21:17:46.104Z"
   },
   {
    "duration": 26,
    "start_time": "2021-12-13T21:17:46.122Z"
   },
   {
    "duration": 19,
    "start_time": "2021-12-13T21:17:46.152Z"
   },
   {
    "duration": 5,
    "start_time": "2021-12-13T21:17:46.173Z"
   },
   {
    "duration": 6,
    "start_time": "2021-12-13T21:17:46.180Z"
   },
   {
    "duration": 39,
    "start_time": "2021-12-13T21:17:46.189Z"
   },
   {
    "duration": 15,
    "start_time": "2021-12-13T21:17:46.230Z"
   },
   {
    "duration": 3,
    "start_time": "2021-12-13T21:19:51.641Z"
   },
   {
    "duration": 1378,
    "start_time": "2021-12-13T21:22:32.763Z"
   },
   {
    "duration": 58,
    "start_time": "2021-12-13T21:22:34.143Z"
   },
   {
    "duration": 20,
    "start_time": "2021-12-13T21:22:34.204Z"
   },
   {
    "duration": 18,
    "start_time": "2021-12-13T21:22:34.229Z"
   },
   {
    "duration": 11,
    "start_time": "2021-12-13T21:22:34.250Z"
   },
   {
    "duration": 11161,
    "start_time": "2021-12-13T21:22:34.263Z"
   },
   {
    "duration": 7,
    "start_time": "2021-12-13T21:22:45.427Z"
   },
   {
    "duration": 2513,
    "start_time": "2021-12-13T21:22:45.438Z"
   },
   {
    "duration": 4,
    "start_time": "2021-12-13T21:22:47.954Z"
   },
   {
    "duration": 31,
    "start_time": "2021-12-13T21:22:47.960Z"
   },
   {
    "duration": 45,
    "start_time": "2021-12-13T21:22:47.993Z"
   },
   {
    "duration": 4,
    "start_time": "2021-12-13T21:22:48.040Z"
   },
   {
    "duration": 6,
    "start_time": "2021-12-13T21:22:48.047Z"
   },
   {
    "duration": 9,
    "start_time": "2021-12-13T21:22:48.055Z"
   },
   {
    "duration": 58,
    "start_time": "2021-12-13T21:22:48.067Z"
   },
   {
    "duration": 338,
    "start_time": "2021-12-14T08:20:06.247Z"
   },
   {
    "duration": 1466,
    "start_time": "2021-12-14T08:21:19.435Z"
   },
   {
    "duration": 140,
    "start_time": "2021-12-14T08:21:20.904Z"
   },
   {
    "duration": 16,
    "start_time": "2021-12-14T08:21:21.047Z"
   },
   {
    "duration": 21,
    "start_time": "2021-12-14T08:21:21.066Z"
   },
   {
    "duration": 14,
    "start_time": "2021-12-14T08:21:21.090Z"
   },
   {
    "duration": 6,
    "start_time": "2021-12-14T08:21:21.106Z"
   },
   {
    "duration": 14,
    "start_time": "2021-12-14T08:21:21.114Z"
   },
   {
    "duration": 43,
    "start_time": "2021-12-14T08:21:21.131Z"
   },
   {
    "duration": 5,
    "start_time": "2021-12-14T08:21:21.976Z"
   },
   {
    "duration": 6,
    "start_time": "2021-12-14T08:21:21.983Z"
   },
   {
    "duration": 7,
    "start_time": "2021-12-14T08:21:21.992Z"
   },
   {
    "duration": 10543,
    "start_time": "2021-12-14T08:21:22.096Z"
   },
   {
    "duration": 5,
    "start_time": "2021-12-14T08:21:32.642Z"
   },
   {
    "duration": 2457,
    "start_time": "2021-12-14T08:21:32.651Z"
   },
   {
    "duration": 4,
    "start_time": "2021-12-14T08:21:35.110Z"
   },
   {
    "duration": 34,
    "start_time": "2021-12-14T08:21:35.117Z"
   },
   {
    "duration": 28,
    "start_time": "2021-12-14T08:21:35.154Z"
   },
   {
    "duration": 4,
    "start_time": "2021-12-14T08:21:35.185Z"
   },
   {
    "duration": 11,
    "start_time": "2021-12-14T08:21:35.192Z"
   },
   {
    "duration": 13,
    "start_time": "2021-12-14T08:21:35.205Z"
   },
   {
    "duration": 53,
    "start_time": "2021-12-14T08:21:35.220Z"
   },
   {
    "duration": 354,
    "start_time": "2021-12-14T08:28:34.124Z"
   },
   {
    "duration": 4,
    "start_time": "2021-12-14T08:28:38.814Z"
   },
   {
    "duration": 55,
    "start_time": "2021-12-14T08:28:38.855Z"
   },
   {
    "duration": 8,
    "start_time": "2021-12-14T08:28:38.912Z"
   },
   {
    "duration": 16,
    "start_time": "2021-12-14T08:28:39.038Z"
   },
   {
    "duration": 24,
    "start_time": "2021-12-14T08:28:39.056Z"
   },
   {
    "duration": 19,
    "start_time": "2021-12-14T08:28:39.083Z"
   },
   {
    "duration": 20,
    "start_time": "2021-12-14T08:28:39.113Z"
   },
   {
    "duration": 25,
    "start_time": "2021-12-14T08:28:39.136Z"
   },
   {
    "duration": 21,
    "start_time": "2021-12-14T08:28:39.164Z"
   },
   {
    "duration": 5,
    "start_time": "2021-12-14T08:28:39.272Z"
   },
   {
    "duration": 8,
    "start_time": "2021-12-14T08:28:39.280Z"
   },
   {
    "duration": 10437,
    "start_time": "2021-12-14T08:28:39.310Z"
   },
   {
    "duration": 4,
    "start_time": "2021-12-14T08:28:49.750Z"
   },
   {
    "duration": 2502,
    "start_time": "2021-12-14T08:28:49.757Z"
   },
   {
    "duration": 6,
    "start_time": "2021-12-14T08:28:52.262Z"
   },
   {
    "duration": 49,
    "start_time": "2021-12-14T08:28:52.271Z"
   },
   {
    "duration": 19,
    "start_time": "2021-12-14T08:28:52.323Z"
   },
   {
    "duration": 3,
    "start_time": "2021-12-14T08:28:52.344Z"
   },
   {
    "duration": 17,
    "start_time": "2021-12-14T08:28:52.351Z"
   },
   {
    "duration": 14,
    "start_time": "2021-12-14T08:28:52.371Z"
   },
   {
    "duration": 12,
    "start_time": "2021-12-14T08:28:52.387Z"
   },
   {
    "duration": 7,
    "start_time": "2021-12-14T08:28:52.401Z"
   },
   {
    "duration": 9,
    "start_time": "2021-12-14T08:30:26.574Z"
   },
   {
    "duration": 9,
    "start_time": "2021-12-14T08:30:35.496Z"
   },
   {
    "duration": 9,
    "start_time": "2021-12-14T08:30:42.792Z"
   },
   {
    "duration": 313,
    "start_time": "2021-12-14T08:30:49.369Z"
   },
   {
    "duration": 7,
    "start_time": "2021-12-14T08:31:06.769Z"
   },
   {
    "duration": 8,
    "start_time": "2021-12-14T08:35:01.778Z"
   },
   {
    "duration": 8,
    "start_time": "2021-12-14T08:35:13.020Z"
   },
   {
    "duration": 10,
    "start_time": "2021-12-14T08:38:19.161Z"
   },
   {
    "duration": 15,
    "start_time": "2021-12-14T08:38:32.562Z"
   },
   {
    "duration": 10,
    "start_time": "2021-12-14T08:39:12.736Z"
   },
   {
    "duration": 13,
    "start_time": "2021-12-14T08:39:14.434Z"
   },
   {
    "duration": 98,
    "start_time": "2021-12-14T08:45:31.315Z"
   },
   {
    "duration": 1489,
    "start_time": "2021-12-14T08:45:43.443Z"
   },
   {
    "duration": 60,
    "start_time": "2021-12-14T08:45:44.934Z"
   },
   {
    "duration": 16,
    "start_time": "2021-12-14T08:45:44.997Z"
   },
   {
    "duration": 23,
    "start_time": "2021-12-14T08:45:45.016Z"
   },
   {
    "duration": 12,
    "start_time": "2021-12-14T08:45:45.041Z"
   },
   {
    "duration": 13,
    "start_time": "2021-12-14T08:45:45.056Z"
   },
   {
    "duration": 11,
    "start_time": "2021-12-14T08:45:45.072Z"
   },
   {
    "duration": 12,
    "start_time": "2021-12-14T08:45:45.087Z"
   },
   {
    "duration": 9,
    "start_time": "2021-12-14T08:45:45.102Z"
   },
   {
    "duration": 9,
    "start_time": "2021-12-14T08:45:45.114Z"
   },
   {
    "duration": 43,
    "start_time": "2021-12-14T08:45:45.126Z"
   },
   {
    "duration": 10576,
    "start_time": "2021-12-14T08:45:45.172Z"
   },
   {
    "duration": 5,
    "start_time": "2021-12-14T08:45:55.751Z"
   },
   {
    "duration": 1522,
    "start_time": "2021-12-30T22:12:13.593Z"
   },
   {
    "duration": 104,
    "start_time": "2021-12-30T22:12:15.118Z"
   },
   {
    "duration": 16,
    "start_time": "2021-12-30T22:12:15.225Z"
   },
   {
    "duration": 16,
    "start_time": "2021-12-30T22:12:15.244Z"
   },
   {
    "duration": 11,
    "start_time": "2021-12-30T22:12:15.262Z"
   },
   {
    "duration": 6,
    "start_time": "2021-12-30T22:12:15.275Z"
   },
   {
    "duration": 6,
    "start_time": "2021-12-30T22:12:15.283Z"
   },
   {
    "duration": 6,
    "start_time": "2021-12-30T22:12:15.291Z"
   },
   {
    "duration": 5,
    "start_time": "2021-12-30T22:12:15.300Z"
   },
   {
    "duration": 5,
    "start_time": "2021-12-30T22:12:15.308Z"
   },
   {
    "duration": 5,
    "start_time": "2021-12-30T22:12:15.363Z"
   },
   {
    "duration": 10397,
    "start_time": "2021-12-30T22:12:15.370Z"
   },
   {
    "duration": 7,
    "start_time": "2021-12-30T22:12:25.770Z"
   },
   {
    "duration": 2383,
    "start_time": "2021-12-30T22:12:25.780Z"
   },
   {
    "duration": 6,
    "start_time": "2021-12-30T22:12:28.165Z"
   },
   {
    "duration": 28,
    "start_time": "2021-12-30T22:12:28.174Z"
   },
   {
    "duration": 62,
    "start_time": "2021-12-30T22:12:28.205Z"
   },
   {
    "duration": 4,
    "start_time": "2021-12-30T22:12:28.269Z"
   },
   {
    "duration": 6,
    "start_time": "2021-12-30T22:12:28.275Z"
   },
   {
    "duration": 9,
    "start_time": "2021-12-30T22:12:28.283Z"
   },
   {
    "duration": 11,
    "start_time": "2021-12-30T22:12:28.294Z"
   },
   {
    "duration": 8,
    "start_time": "2021-12-30T22:12:28.307Z"
   },
   {
    "duration": 54,
    "start_time": "2021-12-30T22:12:28.318Z"
   },
   {
    "duration": 5,
    "start_time": "2021-12-30T22:14:16.215Z"
   },
   {
    "duration": 65,
    "start_time": "2021-12-30T22:14:16.222Z"
   },
   {
    "duration": 9,
    "start_time": "2021-12-30T22:14:16.290Z"
   },
   {
    "duration": 20,
    "start_time": "2021-12-30T22:14:16.302Z"
   },
   {
    "duration": 12,
    "start_time": "2021-12-30T22:14:16.325Z"
   },
   {
    "duration": 25,
    "start_time": "2021-12-30T22:14:16.340Z"
   },
   {
    "duration": 6,
    "start_time": "2021-12-30T22:14:16.368Z"
   },
   {
    "duration": 6,
    "start_time": "2021-12-30T22:14:16.377Z"
   },
   {
    "duration": 6,
    "start_time": "2021-12-30T22:14:16.389Z"
   },
   {
    "duration": 11,
    "start_time": "2021-12-30T22:14:16.399Z"
   },
   {
    "duration": 6,
    "start_time": "2021-12-30T22:14:16.464Z"
   },
   {
    "duration": 10210,
    "start_time": "2021-12-30T22:14:16.473Z"
   },
   {
    "duration": 5,
    "start_time": "2021-12-30T22:14:26.685Z"
   },
   {
    "duration": 430,
    "start_time": "2021-12-30T22:14:26.692Z"
   },
   {
    "duration": 13330,
    "start_time": "2021-12-30T22:14:13.794Z"
   },
   {
    "duration": 13323,
    "start_time": "2021-12-30T22:14:13.803Z"
   },
   {
    "duration": 13319,
    "start_time": "2021-12-30T22:14:13.808Z"
   },
   {
    "duration": 13314,
    "start_time": "2021-12-30T22:14:13.814Z"
   },
   {
    "duration": 13311,
    "start_time": "2021-12-30T22:14:13.819Z"
   },
   {
    "duration": 13308,
    "start_time": "2021-12-30T22:14:13.823Z"
   },
   {
    "duration": 13303,
    "start_time": "2021-12-30T22:14:13.829Z"
   },
   {
    "duration": 13300,
    "start_time": "2021-12-30T22:14:13.833Z"
   },
   {
    "duration": 13298,
    "start_time": "2021-12-30T22:14:13.837Z"
   },
   {
    "duration": 5,
    "start_time": "2021-12-30T22:15:12.606Z"
   },
   {
    "duration": 64,
    "start_time": "2021-12-30T22:15:12.615Z"
   },
   {
    "duration": 8,
    "start_time": "2021-12-30T22:15:12.683Z"
   },
   {
    "duration": 16,
    "start_time": "2021-12-30T22:15:12.695Z"
   },
   {
    "duration": 11,
    "start_time": "2021-12-30T22:15:12.713Z"
   },
   {
    "duration": 41,
    "start_time": "2021-12-30T22:15:12.726Z"
   },
   {
    "duration": 5,
    "start_time": "2021-12-30T22:15:12.769Z"
   },
   {
    "duration": 6,
    "start_time": "2021-12-30T22:15:12.776Z"
   },
   {
    "duration": 5,
    "start_time": "2021-12-30T22:15:12.785Z"
   },
   {
    "duration": 5,
    "start_time": "2021-12-30T22:15:12.793Z"
   },
   {
    "duration": 5,
    "start_time": "2021-12-30T22:15:12.801Z"
   },
   {
    "duration": 11459,
    "start_time": "2021-12-30T22:15:12.809Z"
   },
   {
    "duration": 7,
    "start_time": "2021-12-30T22:15:24.271Z"
   },
   {
    "duration": 2265,
    "start_time": "2021-12-30T22:15:24.281Z"
   },
   {
    "duration": 4,
    "start_time": "2021-12-30T22:15:26.549Z"
   },
   {
    "duration": 25,
    "start_time": "2021-12-30T22:15:26.563Z"
   },
   {
    "duration": 17,
    "start_time": "2021-12-30T22:15:26.590Z"
   },
   {
    "duration": 4,
    "start_time": "2021-12-30T22:15:26.609Z"
   },
   {
    "duration": 6,
    "start_time": "2021-12-30T22:15:26.615Z"
   },
   {
    "duration": 7,
    "start_time": "2021-12-30T22:15:26.664Z"
   },
   {
    "duration": 16,
    "start_time": "2021-12-30T22:15:26.674Z"
   },
   {
    "duration": 7,
    "start_time": "2021-12-30T22:15:26.692Z"
   },
   {
    "duration": 12,
    "start_time": "2021-12-30T22:15:26.702Z"
   },
   {
    "duration": 24,
    "start_time": "2021-12-30T22:15:46.515Z"
   },
   {
    "duration": 24,
    "start_time": "2021-12-30T22:16:00.734Z"
   }
  ],
  "kernelspec": {
   "display_name": "Python 3",
   "language": "python",
   "name": "python3"
  },
  "language_info": {
   "codemirror_mode": {
    "name": "ipython",
    "version": 3
   },
   "file_extension": ".py",
   "mimetype": "text/x-python",
   "name": "python",
   "nbconvert_exporter": "python",
   "pygments_lexer": "ipython3",
   "version": "3.8.8"
  },
  "toc": {
   "base_numbering": 1,
   "nav_menu": {},
   "number_sections": true,
   "sideBar": true,
   "skip_h1_title": true,
   "title_cell": "Table of Contents",
   "title_sidebar": "Contents",
   "toc_cell": false,
   "toc_position": {},
   "toc_section_display": true,
   "toc_window_display": false
  }
 },
 "nbformat": 4,
 "nbformat_minor": 4
}
