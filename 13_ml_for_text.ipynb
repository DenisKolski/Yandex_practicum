{
 "cells": [
  {
   "cell_type": "markdown",
   "metadata": {
    "toc": true
   },
   "source": [
    "<h1>Содержание<span class=\"tocSkip\"></span></h1>\n",
    "<div class=\"toc\"><ul class=\"toc-item\"><li><span><a href=\"#Подготовка\" data-toc-modified-id=\"Подготовка-1\"><span class=\"toc-item-num\">1&nbsp;&nbsp;</span>Подготовка</a></span><ul class=\"toc-item\"><li><span><a href=\"#Анализ-данных\" data-toc-modified-id=\"Анализ-данных-1.1\"><span class=\"toc-item-num\">1.1&nbsp;&nbsp;</span>Анализ данных</a></span></li><li><span><a href=\"#Подготовка-данных-для-обучения\" data-toc-modified-id=\"Подготовка-данных-для-обучения-1.2\"><span class=\"toc-item-num\">1.2&nbsp;&nbsp;</span>Подготовка данных для обучения</a></span></li></ul></li><li><span><a href=\"#Обучение\" data-toc-modified-id=\"Обучение-2\"><span class=\"toc-item-num\">2&nbsp;&nbsp;</span>Обучение</a></span><ul class=\"toc-item\"><li><span><a href=\"#Примитивный-классификатор\" data-toc-modified-id=\"Примитивный-классификатор-2.1\"><span class=\"toc-item-num\">2.1&nbsp;&nbsp;</span>Примитивный классификатор</a></span></li><li><span><a href=\"#Линейный-классификатор\" data-toc-modified-id=\"Линейный-классификатор-2.2\"><span class=\"toc-item-num\">2.2&nbsp;&nbsp;</span>Линейный классификатор</a></span></li><li><span><a href=\"#Метод-опорных-векторов\" data-toc-modified-id=\"Метод-опорных-векторов-2.3\"><span class=\"toc-item-num\">2.3&nbsp;&nbsp;</span>Метод опорных векторов</a></span></li><li><span><a href=\"#Классификатор-на-основе-стахостического-градиентного-спуска\" data-toc-modified-id=\"Классификатор-на-основе-стахостического-градиентного-спуска-2.4\"><span class=\"toc-item-num\">2.4&nbsp;&nbsp;</span>Классификатор на основе стахостического градиентного спуска</a></span></li><li><span><a href=\"#СatBoost\" data-toc-modified-id=\"СatBoost-2.5\"><span class=\"toc-item-num\">2.5&nbsp;&nbsp;</span>СatBoost</a></span></li></ul></li><li><span><a href=\"#Тестирование-моделей\" data-toc-modified-id=\"Тестирование-моделей-3\"><span class=\"toc-item-num\">3&nbsp;&nbsp;</span>Тестирование моделей</a></span></li><li><span><a href=\"#Выводы\" data-toc-modified-id=\"Выводы-4\"><span class=\"toc-item-num\">4&nbsp;&nbsp;</span>Выводы</a></span></li><li><span><a href=\"#Чек-лист-проверки\" data-toc-modified-id=\"Чек-лист-проверки-5\"><span class=\"toc-item-num\">5&nbsp;&nbsp;</span>Чек-лист проверки</a></span></li></ul></div>"
   ]
  },
  {
   "cell_type": "markdown",
   "metadata": {},
   "source": [
    "# Проект для «Викишоп»"
   ]
  },
  {
   "cell_type": "markdown",
   "metadata": {},
   "source": [
    "Интернет-магазин «Викишоп» запускает новый сервис. Теперь пользователи могут редактировать и дополнять описания товаров, как в вики-сообществах. То есть клиенты предлагают свои правки и комментируют изменения других. Магазину нужен инструмент, который будет искать токсичные комментарии и отправлять их на модерацию. \n",
    "\n",
    "Обучите модель классифицировать комментарии на позитивные и негативные. В вашем распоряжении набор данных с разметкой о токсичности правок.\n",
    "\n",
    "Постройте модель со значением метрики качества *F1* не меньше 0.75. \n",
    "\n",
    "**Инструкция по выполнению проекта**\n",
    "\n",
    "1. Загрузите и подготовьте данные.\n",
    "2. Обучите разные модели. \n",
    "3. Сделайте выводы.\n",
    "\n",
    "Для выполнения проекта применять *BERT* необязательно, но вы можете попробовать.\n",
    "\n",
    "**Описание данных**\n",
    "\n",
    "Данные находятся в файле `toxic_comments.csv`. Столбец *text* в нём содержит текст комментария, а *toxic* — целевой признак."
   ]
  },
  {
   "cell_type": "markdown",
   "metadata": {},
   "source": [
    "## Подготовка"
   ]
  },
  {
   "cell_type": "code",
   "execution_count": 1,
   "metadata": {},
   "outputs": [],
   "source": [
    "import numpy as np\n",
    "import pandas as pd \n",
    "import IPython\n",
    "from IPython.display import display\n",
    "import re\n",
    "import warnings\n",
    "warnings.simplefilter('ignore')\n",
    "\n",
    "import matplotlib.pyplot as plt\n",
    "import seaborn as sns\n",
    "\n"
   ]
  },
  {
   "cell_type": "code",
   "execution_count": 2,
   "metadata": {},
   "outputs": [],
   "source": [
    "from sklearn.model_selection import train_test_split, GridSearchCV, cross_val_score\n",
    "from sklearn.metrics import accuracy_score, f1_score, classification_report, confusion_matrix\n",
    "\n",
    "from tqdm import notebook\n",
    "import nltk\n",
    "from nltk.corpus import wordnet\n",
    "from nltk.stem import WordNetLemmatizer\n",
    "from sklearn.feature_extraction.text import CountVectorizer, TfidfVectorizer\n",
    "\n",
    "from nltk.corpus import stopwords\n",
    "\n",
    "from sklearn.dummy import DummyClassifier\n",
    "from sklearn.linear_model import LogisticRegression, SGDClassifier\n",
    "from sklearn.svm import SVC, LinearSVC\n",
    "from catboost import CatBoostClassifier"
   ]
  },
  {
   "cell_type": "code",
   "execution_count": 3,
   "metadata": {},
   "outputs": [],
   "source": [
    "RND = 12345"
   ]
  },
  {
   "cell_type": "markdown",
   "metadata": {},
   "source": [
    "### Анализ данных"
   ]
  },
  {
   "cell_type": "code",
   "execution_count": 4,
   "metadata": {},
   "outputs": [],
   "source": [
    "df = pd.read_csv('toxic_comments.csv')"
   ]
  },
  {
   "cell_type": "code",
   "execution_count": 5,
   "metadata": {},
   "outputs": [
    {
     "data": {
      "text/html": [
       "<div>\n",
       "<style scoped>\n",
       "    .dataframe tbody tr th:only-of-type {\n",
       "        vertical-align: middle;\n",
       "    }\n",
       "\n",
       "    .dataframe tbody tr th {\n",
       "        vertical-align: top;\n",
       "    }\n",
       "\n",
       "    .dataframe thead th {\n",
       "        text-align: right;\n",
       "    }\n",
       "</style>\n",
       "<table border=\"1\" class=\"dataframe\">\n",
       "  <thead>\n",
       "    <tr style=\"text-align: right;\">\n",
       "      <th></th>\n",
       "      <th>text</th>\n",
       "      <th>toxic</th>\n",
       "    </tr>\n",
       "  </thead>\n",
       "  <tbody>\n",
       "    <tr>\n",
       "      <th>61708</th>\n",
       "      <td>\"\\n\\n Personal Attacks \\n\\nCalling me a racist...</td>\n",
       "      <td>0</td>\n",
       "    </tr>\n",
       "    <tr>\n",
       "      <th>54507</th>\n",
       "      <td>It is not the state which is important.  Rathe...</td>\n",
       "      <td>0</td>\n",
       "    </tr>\n",
       "    <tr>\n",
       "      <th>69471</th>\n",
       "      <td>Merge discussion for Match crossbow\\n An artic...</td>\n",
       "      <td>0</td>\n",
       "    </tr>\n",
       "    <tr>\n",
       "      <th>88093</th>\n",
       "      <td>(talk) 20:57, Jun 23, 2005 (UTC)</td>\n",
       "      <td>0</td>\n",
       "    </tr>\n",
       "    <tr>\n",
       "      <th>86420</th>\n",
       "      <td>Add Article Section \\n\\nI believe a section sh...</td>\n",
       "      <td>0</td>\n",
       "    </tr>\n",
       "    <tr>\n",
       "      <th>155208</th>\n",
       "      <td>\"\\n\\nTheir website is all fancy flash so I can...</td>\n",
       "      <td>0</td>\n",
       "    </tr>\n",
       "    <tr>\n",
       "      <th>15952</th>\n",
       "      <td>Tags\\n\\nThose tags are horrid. Please, someone...</td>\n",
       "      <td>0</td>\n",
       "    </tr>\n",
       "    <tr>\n",
       "      <th>144841</th>\n",
       "      <td>\"\\n\\nI demur that any of the above charges are...</td>\n",
       "      <td>0</td>\n",
       "    </tr>\n",
       "    <tr>\n",
       "      <th>122155</th>\n",
       "      <td>This article in the New York Times offers an a...</td>\n",
       "      <td>0</td>\n",
       "    </tr>\n",
       "    <tr>\n",
       "      <th>150385</th>\n",
       "      <td>I notice that his sock puppet was called</td>\n",
       "      <td>0</td>\n",
       "    </tr>\n",
       "  </tbody>\n",
       "</table>\n",
       "</div>"
      ],
      "text/plain": [
       "                                                     text  toxic\n",
       "61708   \"\\n\\n Personal Attacks \\n\\nCalling me a racist...      0\n",
       "54507   It is not the state which is important.  Rathe...      0\n",
       "69471   Merge discussion for Match crossbow\\n An artic...      0\n",
       "88093                    (talk) 20:57, Jun 23, 2005 (UTC)      0\n",
       "86420   Add Article Section \\n\\nI believe a section sh...      0\n",
       "155208  \"\\n\\nTheir website is all fancy flash so I can...      0\n",
       "15952   Tags\\n\\nThose tags are horrid. Please, someone...      0\n",
       "144841  \"\\n\\nI demur that any of the above charges are...      0\n",
       "122155  This article in the New York Times offers an a...      0\n",
       "150385           I notice that his sock puppet was called      0"
      ]
     },
     "execution_count": 5,
     "metadata": {},
     "output_type": "execute_result"
    }
   ],
   "source": [
    "df.sample(n = 10)"
   ]
  },
  {
   "cell_type": "code",
   "execution_count": 6,
   "metadata": {},
   "outputs": [
    {
     "data": {
      "text/plain": [
       "text     0\n",
       "toxic    0\n",
       "dtype: int64"
      ]
     },
     "execution_count": 6,
     "metadata": {},
     "output_type": "execute_result"
    }
   ],
   "source": [
    "df.isna().sum()"
   ]
  },
  {
   "cell_type": "code",
   "execution_count": 7,
   "metadata": {},
   "outputs": [
    {
     "name": "stdout",
     "output_type": "stream",
     "text": [
      "<class 'pandas.core.frame.DataFrame'>\n",
      "RangeIndex: 159571 entries, 0 to 159570\n",
      "Data columns (total 2 columns):\n",
      " #   Column  Non-Null Count   Dtype \n",
      "---  ------  --------------   ----- \n",
      " 0   text    159571 non-null  object\n",
      " 1   toxic   159571 non-null  int64 \n",
      "dtypes: int64(1), object(1)\n",
      "memory usage: 2.4+ MB\n"
     ]
    }
   ],
   "source": [
    "df.info()"
   ]
  },
  {
   "cell_type": "code",
   "execution_count": 8,
   "metadata": {},
   "outputs": [
    {
     "data": {
      "text/plain": [
       "0    0.898321\n",
       "1    0.101679\n",
       "Name: toxic, dtype: float64"
      ]
     },
     "execution_count": 8,
     "metadata": {},
     "output_type": "execute_result"
    }
   ],
   "source": [
    "df.toxic.value_counts(normalize = True)"
   ]
  },
  {
   "cell_type": "markdown",
   "metadata": {},
   "source": [
    "### Подготовка данных для обучения"
   ]
  },
  {
   "cell_type": "code",
   "execution_count": 9,
   "metadata": {},
   "outputs": [],
   "source": [
    "text = df['text'].values"
   ]
  },
  {
   "cell_type": "code",
   "execution_count": 10,
   "metadata": {},
   "outputs": [
    {
     "name": "stdout",
     "output_type": "stream",
     "text": [
      "CPU times: user 39 s, sys: 195 ms, total: 39.2 s\n",
      "Wall time: 39.2 s\n"
     ]
    }
   ],
   "source": [
    "%%time\n",
    "documents = []\n",
    "\n",
    "stemmer = WordNetLemmatizer()\n",
    "\n",
    "for sen in range(0, len(text)):\n",
    "    # Удаляем все специальные символы\n",
    "    document = re.sub(r'\\W', ' ', str(text[sen]))\n",
    "    \n",
    "    # Удаляем единичные символы\n",
    "    document = re.sub(r'\\s+[a-zA-Z]\\s+', ' ', document)\n",
    "    \n",
    "    # Удаляем единычные символы из начала строки\n",
    "    document = re.sub(r'\\^[a-zA-Z]\\s+', ' ', document) \n",
    "    \n",
    "    # Заменяем несколько пробелов на один\n",
    "    document = re.sub(r'\\s+', ' ', document, flags=re.I)\n",
    "    \n",
    "    # Удаляем 'b'\n",
    "    document = re.sub(r'^b\\s+', '', document)\n",
    "    \n",
    "    # Переводим заглавные буквы в строчные\n",
    "    document = document.lower()\n",
    "    \n",
    "    # Лемматизация\n",
    "    document = document.split()\n",
    "    document = [stemmer.lemmatize(word) for word in document]\n",
    "    document = ' '.join(document)\n",
    "    documents.append(document)\n",
    "    "
   ]
  },
  {
   "cell_type": "code",
   "execution_count": 11,
   "metadata": {},
   "outputs": [],
   "source": [
    "lemmas = pd.Series(documents, name='lemmas')\n",
    "comments = pd.concat([df, lemmas], axis=1)"
   ]
  },
  {
   "cell_type": "code",
   "execution_count": 12,
   "metadata": {},
   "outputs": [],
   "source": [
    "X = comments['lemmas']\n",
    "y = comments['toxic']"
   ]
  },
  {
   "cell_type": "code",
   "execution_count": 13,
   "metadata": {},
   "outputs": [],
   "source": [
    "X_train, X_sub, y_train, y_sub = train_test_split(X, y, test_size=0.4, stratify=y, random_state=RND)\n",
    "X_valid, X_test,  y_valid, y_test = train_test_split(X_sub, y_sub, stratify=y_sub, test_size=0.5, random_state=RND)"
   ]
  },
  {
   "cell_type": "code",
   "execution_count": 14,
   "metadata": {},
   "outputs": [
    {
     "data": {
      "text/plain": [
       "((95742,), (31914,), (31915,))"
      ]
     },
     "execution_count": 14,
     "metadata": {},
     "output_type": "execute_result"
    }
   ],
   "source": [
    "X_train.shape, X_valid.shape, X_test.shape"
   ]
  },
  {
   "cell_type": "code",
   "execution_count": 15,
   "metadata": {},
   "outputs": [],
   "source": [
    "tfidfconverter = TfidfVectorizer(max_features=6000, \n",
    "                                 min_df=5, max_df=0.7, \n",
    "                                 stop_words=stopwords.words('english'))\n",
    "X_train_tf = tfidfconverter.fit_transform(X_train)\n",
    "X_valid_tf = tfidfconverter.transform(X_valid)\n",
    "X_test_tf = tfidfconverter.transform(X_test)"
   ]
  },
  {
   "cell_type": "markdown",
   "metadata": {},
   "source": [
    "- имеется дисбаланс классов, почти 90 % это класс 0, остальное - класс 1;\n",
    "- произвели подготовку к работе моделей МО: очистка данных на основе регулярных выражений, леммитизация, разделение на целевой признак и фичи для обучения, разделили данные на обучающую выборку, выборку валидации и тестовую выборку, произвели преобразование данных к TF-IDF фичам."
   ]
  },
  {
   "cell_type": "markdown",
   "metadata": {},
   "source": [
    "## Обучение"
   ]
  },
  {
   "cell_type": "code",
   "execution_count": 16,
   "metadata": {},
   "outputs": [],
   "source": [
    "# Датасет для хранения результатов работы моделей\n",
    "res = {\n",
    "    'model_name':pd.Series(['LogReg','LinSVM','SGD','CatBoost']),\n",
    "    'f1_val_nltk':pd.Series([]),\n",
    "    'f1_test_nltk':pd.Series([]),\n",
    "    }\n",
    "\n",
    "results = pd.DataFrame(res)"
   ]
  },
  {
   "cell_type": "code",
   "execution_count": 17,
   "metadata": {},
   "outputs": [],
   "source": [
    "# функция для поиска оптимальных гиперпараметров модели\n",
    "def grid_search(model, params, features, target):\n",
    "    \n",
    "    search = GridSearchCV(model, params, verbose=1, cv=5, scoring='f1', n_jobs=-1)\n",
    "    search.fit(features, target)\n",
    "    \n",
    "    print(search.best_score_)\n",
    "    print(search.best_params_)"
   ]
  },
  {
   "cell_type": "code",
   "execution_count": 18,
   "metadata": {},
   "outputs": [],
   "source": [
    "# функция для вывода результатов работы модели \n",
    "def model_report(fitted_model, feature, target):\n",
    "\n",
    "    pred = fitted_model.predict(feature)\n",
    "    conf_matrix = confusion_matrix(target, pred)\n",
    "    \n",
    "    print('f1_score = {:.3}'.format(f1_score(target, pred)))\n",
    "    \n",
    "    plt.figure(figsize=(4,4))\n",
    "    sns.heatmap(conf_matrix,annot=True,cmap=\"Blues\",fmt=\"d\",cbar=False)\n",
    "    plt.title('Confusion matrix')"
   ]
  },
  {
   "cell_type": "markdown",
   "metadata": {},
   "source": [
    "### Примитивный классификатор"
   ]
  },
  {
   "cell_type": "code",
   "execution_count": 23,
   "metadata": {},
   "outputs": [
    {
     "name": "stdout",
     "output_type": "stream",
     "text": [
      "f1_score = 0.185\n",
      "Лучшая стратегия DummyClassifier: constant\n"
     ]
    },
    {
     "data": {
      "image/png": "[encoded data removed]",
      "text/plain": [
       "<Figure size 288x288 with 1 Axes>"
      ]
     },
     "metadata": {
      "needs_background": "light"
     },
     "output_type": "display_data"
    }
   ],
   "source": [
    "f1_max = 0\n",
    "strat_best = 'most_frequent'\n",
    "\n",
    "for strat in ['most_frequent', 'prior', 'stratified', 'uniform', 'constant']:\n",
    "    dummy = DummyClassifier(strategy=strat, constant=1, random_state=RND)\n",
    "    dummy.fit(X_train_tf, y_train)\n",
    "    f1_new = f1_score(y_valid, dummy.predict(X_valid_tf))\n",
    "    if f1_max < f1_new:\n",
    "        f1_max = f1_new\n",
    "        strat_best = strat\n",
    "        model_best = dummy\n",
    "model_report(model_best, X_valid_tf, y_valid)\n",
    "print('Лучшая стратегия DummyClassifier:', strat_best)"
   ]
  },
  {
   "cell_type": "markdown",
   "metadata": {},
   "source": [
    "Качество работы примитивного классификатора невысокое, что и было ожидаемо. Данный результат может быть использован для сравнения с моделями МО."
   ]
  },
  {
   "cell_type": "markdown",
   "metadata": {},
   "source": [
    "### Линейный классификатор"
   ]
  },
  {
   "cell_type": "code",
   "execution_count": 20,
   "metadata": {},
   "outputs": [],
   "source": [
    "lr = LogisticRegression(random_state=RND)\n",
    "\n",
    "lr_params = dict(C = [0.1,1,10,100], \n",
    "                 tol = [1e-03, 1e-04, 1e-05])"
   ]
  },
  {
   "cell_type": "code",
   "execution_count": 21,
   "metadata": {},
   "outputs": [
    {
     "name": "stdout",
     "output_type": "stream",
     "text": [
      "Fitting 5 folds for each of 12 candidates, totalling 60 fits\n",
      "0.7589963408847324\n",
      "{'C': 10, 'tol': 0.001}\n"
     ]
    }
   ],
   "source": [
    "grid_search(lr, lr_params, X_train_tf, y_train)"
   ]
  },
  {
   "cell_type": "code",
   "execution_count": 22,
   "metadata": {},
   "outputs": [],
   "source": [
    "lr_final = LogisticRegression(C=10, tol=0.0001)\n",
    "\n",
    "lr_final.fit(X_train_tf, y_train);"
   ]
  },
  {
   "cell_type": "code",
   "execution_count": 23,
   "metadata": {},
   "outputs": [
    {
     "data": {
      "text/plain": [
       "0.827021494370522"
      ]
     },
     "execution_count": 23,
     "metadata": {},
     "output_type": "execute_result"
    }
   ],
   "source": [
    "f1_score(y_train, lr_final.predict(X_train_tf))"
   ]
  },
  {
   "cell_type": "code",
   "execution_count": 24,
   "metadata": {},
   "outputs": [
    {
     "name": "stdout",
     "output_type": "stream",
     "text": [
      "f1_score = 0.759\n"
     ]
    },
    {
     "data": {
      "image/png": "[encoded data removed]",
      "text/plain": [
       "<Figure size 288x288 with 1 Axes>"
      ]
     },
     "metadata": {
      "needs_background": "light"
     },
     "output_type": "display_data"
    }
   ],
   "source": [
    "model_report(lr_final, X_valid_tf, y_valid)"
   ]
  },
  {
   "cell_type": "markdown",
   "metadata": {},
   "source": [
    "Таким образом, имеем:\n",
    "- 321 ложноположительных значений;\n",
    "- 1063 ложноотрицательных значений.\n",
    "\n",
    "__Видно, что значительно больше ошибок по отнесению токсичных комментариев к нетоксичным, но критерий f1-score был выбран по условию задачи и именно его мы пытаемся максимизировать. В дальнейшем матрицу соответствия комментировать не будем, так как результаты примерно везде одинаковые.__"
   ]
  },
  {
   "cell_type": "code",
   "execution_count": 25,
   "metadata": {},
   "outputs": [],
   "source": [
    "results.loc[0, 'f1_val_nltk'] = 0.759"
   ]
  },
  {
   "cell_type": "markdown",
   "metadata": {},
   "source": [
    "Линейный классификатор (логистическая регрессия) показал качество на выборке валидации не хуже требуемого значения 0.75."
   ]
  },
  {
   "cell_type": "markdown",
   "metadata": {},
   "source": [
    "### Метод опорных векторов"
   ]
  },
  {
   "cell_type": "code",
   "execution_count": 26,
   "metadata": {},
   "outputs": [],
   "source": [
    "svm = LinearSVC(random_state = RND)\n",
    "\n",
    "svm_params = dict(C=[0.1,1,10,100],\n",
    "                  max_iter=[1000,2000])"
   ]
  },
  {
   "cell_type": "code",
   "execution_count": 27,
   "metadata": {},
   "outputs": [],
   "source": [
    "#grid_search(svm, svm_params, X_train_tf, y_train)"
   ]
  },
  {
   "cell_type": "code",
   "execution_count": 28,
   "metadata": {},
   "outputs": [],
   "source": [
    "svm_final = LinearSVC(C=1, max_iter=1000, random_state=RND)\n",
    "\n",
    "svm_final.fit(X_train_tf, y_train);"
   ]
  },
  {
   "cell_type": "code",
   "execution_count": 29,
   "metadata": {},
   "outputs": [
    {
     "data": {
      "text/plain": [
       "0.8234284733741349"
      ]
     },
     "execution_count": 29,
     "metadata": {},
     "output_type": "execute_result"
    }
   ],
   "source": [
    "f1_score(y_train, svm_final.predict(X_train_tf))"
   ]
  },
  {
   "cell_type": "code",
   "execution_count": 30,
   "metadata": {},
   "outputs": [
    {
     "name": "stdout",
     "output_type": "stream",
     "text": [
      "f1_score = 0.76\n"
     ]
    },
    {
     "data": {
      "image/png": "[encoded data removed]",
      "text/plain": [
       "<Figure size 288x288 with 1 Axes>"
      ]
     },
     "metadata": {
      "needs_background": "light"
     },
     "output_type": "display_data"
    }
   ],
   "source": [
    "model_report(svm_final, X_valid_tf, y_valid)"
   ]
  },
  {
   "cell_type": "code",
   "execution_count": 31,
   "metadata": {},
   "outputs": [],
   "source": [
    "results.loc[1, 'f1_val_nltk'] = 0.76"
   ]
  },
  {
   "cell_type": "markdown",
   "metadata": {},
   "source": [
    "### Классификатор на основе стахостического градиентного спуска"
   ]
  },
  {
   "cell_type": "code",
   "execution_count": 32,
   "metadata": {},
   "outputs": [],
   "source": [
    "sgd = SGDClassifier(random_state=RND)\n",
    "\n",
    "sgd_params = dict(alpha=[1e-04, 1e-05, 1e-06],\n",
    "                  penalty=['l1','l2'])"
   ]
  },
  {
   "cell_type": "code",
   "execution_count": 33,
   "metadata": {},
   "outputs": [
    {
     "name": "stdout",
     "output_type": "stream",
     "text": [
      "Fitting 5 folds for each of 6 candidates, totalling 30 fits\n",
      "0.7670412477499791\n",
      "{'alpha': 1e-05, 'penalty': 'l1'}\n"
     ]
    }
   ],
   "source": [
    "grid_search(sgd, sgd_params, X_train_tf, y_train)"
   ]
  },
  {
   "cell_type": "code",
   "execution_count": 34,
   "metadata": {},
   "outputs": [],
   "source": [
    "sgd_final = SGDClassifier(alpha=1e-05, penalty='l1', random_state=RND)\n",
    "\n",
    "sgd_final.fit(X_train_tf, y_train);"
   ]
  },
  {
   "cell_type": "code",
   "execution_count": 35,
   "metadata": {},
   "outputs": [
    {
     "data": {
      "text/plain": [
       "0.7927162720344406"
      ]
     },
     "execution_count": 35,
     "metadata": {},
     "output_type": "execute_result"
    }
   ],
   "source": [
    "f1_score(y_train, sgd_final.predict(X_train_tf))"
   ]
  },
  {
   "cell_type": "code",
   "execution_count": 36,
   "metadata": {},
   "outputs": [
    {
     "name": "stdout",
     "output_type": "stream",
     "text": [
      "f1_score = 0.763\n"
     ]
    },
    {
     "data": {
      "image/png": "[encoded data removed]",
      "text/plain": [
       "<Figure size 288x288 with 1 Axes>"
      ]
     },
     "metadata": {
      "needs_background": "light"
     },
     "output_type": "display_data"
    }
   ],
   "source": [
    "model_report(sgd_final, X_valid_tf, y_valid)"
   ]
  },
  {
   "cell_type": "code",
   "execution_count": 37,
   "metadata": {},
   "outputs": [],
   "source": [
    "results.loc[2, 'f1_val_nltk'] = 0.763"
   ]
  },
  {
   "cell_type": "markdown",
   "metadata": {},
   "source": [
    "### СatBoost"
   ]
  },
  {
   "cell_type": "code",
   "execution_count": 38,
   "metadata": {},
   "outputs": [],
   "source": [
    "cbc = CatBoostClassifier(\n",
    "                    loss_function='Logloss',\n",
    "                    iterations=300,\n",
    "                    learning_rate=0.9,\n",
    "                    depth=4,\n",
    "                    verbose=10,\n",
    "                    random_state=RND)"
   ]
  },
  {
   "cell_type": "code",
   "execution_count": 39,
   "metadata": {},
   "outputs": [
    {
     "name": "stdout",
     "output_type": "stream",
     "text": [
      "0:\tlearn: 0.2717758\ttotal: 909ms\tremaining: 4m 31s\n",
      "10:\tlearn: 0.1776746\ttotal: 8.11s\tremaining: 3m 33s\n",
      "20:\tlearn: 0.1563104\ttotal: 15.1s\tremaining: 3m 21s\n",
      "30:\tlearn: 0.1445951\ttotal: 22.2s\tremaining: 3m 12s\n",
      "40:\tlearn: 0.1377154\ttotal: 28.9s\tremaining: 3m 2s\n",
      "50:\tlearn: 0.1328592\ttotal: 35.5s\tremaining: 2m 53s\n",
      "60:\tlearn: 0.1283320\ttotal: 42.3s\tremaining: 2m 45s\n",
      "70:\tlearn: 0.1247865\ttotal: 49.2s\tremaining: 2m 38s\n",
      "80:\tlearn: 0.1220921\ttotal: 56s\tremaining: 2m 31s\n",
      "90:\tlearn: 0.1194823\ttotal: 1m 2s\tremaining: 2m 23s\n",
      "100:\tlearn: 0.1166171\ttotal: 1m 9s\tremaining: 2m 16s\n",
      "110:\tlearn: 0.1144232\ttotal: 1m 16s\tremaining: 2m 10s\n",
      "120:\tlearn: 0.1124988\ttotal: 1m 23s\tremaining: 2m 3s\n",
      "130:\tlearn: 0.1105302\ttotal: 1m 30s\tremaining: 1m 56s\n",
      "140:\tlearn: 0.1086097\ttotal: 1m 37s\tremaining: 1m 49s\n",
      "150:\tlearn: 0.1074139\ttotal: 1m 43s\tremaining: 1m 42s\n",
      "160:\tlearn: 0.1059247\ttotal: 1m 50s\tremaining: 1m 35s\n",
      "170:\tlearn: 0.1046039\ttotal: 1m 56s\tremaining: 1m 28s\n",
      "180:\tlearn: 0.1036055\ttotal: 2m 3s\tremaining: 1m 20s\n",
      "190:\tlearn: 0.1026162\ttotal: 2m 9s\tremaining: 1m 14s\n",
      "200:\tlearn: 0.1018679\ttotal: 2m 16s\tremaining: 1m 7s\n",
      "210:\tlearn: 0.1010721\ttotal: 2m 22s\tremaining: 1m\n",
      "220:\tlearn: 0.0999731\ttotal: 2m 28s\tremaining: 53.2s\n",
      "230:\tlearn: 0.0989941\ttotal: 2m 35s\tremaining: 46.5s\n",
      "240:\tlearn: 0.0981964\ttotal: 2m 42s\tremaining: 39.7s\n",
      "250:\tlearn: 0.0975291\ttotal: 2m 48s\tremaining: 32.9s\n",
      "260:\tlearn: 0.0962532\ttotal: 2m 55s\tremaining: 26.2s\n",
      "270:\tlearn: 0.0953716\ttotal: 3m 1s\tremaining: 19.5s\n",
      "280:\tlearn: 0.0943570\ttotal: 3m 8s\tremaining: 12.7s\n",
      "290:\tlearn: 0.0935405\ttotal: 3m 15s\tremaining: 6.04s\n",
      "299:\tlearn: 0.0930309\ttotal: 3m 21s\tremaining: 0us\n"
     ]
    },
    {
     "data": {
      "text/plain": [
       "<catboost.core.CatBoostClassifier at 0x7f713e6b9e20>"
      ]
     },
     "execution_count": 39,
     "metadata": {},
     "output_type": "execute_result"
    }
   ],
   "source": [
    "cbc.fit(X_train_tf, y_train)"
   ]
  },
  {
   "cell_type": "code",
   "execution_count": 40,
   "metadata": {},
   "outputs": [
    {
     "data": {
      "text/plain": [
       "0.8302479524290363"
      ]
     },
     "execution_count": 40,
     "metadata": {},
     "output_type": "execute_result"
    }
   ],
   "source": [
    "pred = cbc.predict(X_train_tf)\n",
    "\n",
    "f1_score(y_train, pred)"
   ]
  },
  {
   "cell_type": "code",
   "execution_count": 41,
   "metadata": {},
   "outputs": [
    {
     "name": "stdout",
     "output_type": "stream",
     "text": [
      "f1_score = 0.745\n"
     ]
    },
    {
     "data": {
      "image/png": "[encoded data removed]",
      "text/plain": [
       "<Figure size 288x288 with 1 Axes>"
      ]
     },
     "metadata": {
      "needs_background": "light"
     },
     "output_type": "display_data"
    }
   ],
   "source": [
    "model_report(cbc, X_valid_tf, y_valid)"
   ]
  },
  {
   "cell_type": "code",
   "execution_count": 42,
   "metadata": {},
   "outputs": [],
   "source": [
    "results.loc[3, 'f1_val_nltk'] = 0.745"
   ]
  },
  {
   "cell_type": "code",
   "execution_count": 43,
   "metadata": {},
   "outputs": [
    {
     "data": {
      "text/html": [
       "<div>\n",
       "<style scoped>\n",
       "    .dataframe tbody tr th:only-of-type {\n",
       "        vertical-align: middle;\n",
       "    }\n",
       "\n",
       "    .dataframe tbody tr th {\n",
       "        vertical-align: top;\n",
       "    }\n",
       "\n",
       "    .dataframe thead th {\n",
       "        text-align: right;\n",
       "    }\n",
       "</style>\n",
       "<table border=\"1\" class=\"dataframe\">\n",
       "  <thead>\n",
       "    <tr style=\"text-align: right;\">\n",
       "      <th></th>\n",
       "      <th>model_name</th>\n",
       "      <th>f1_val_nltk</th>\n",
       "      <th>f1_test_nltk</th>\n",
       "    </tr>\n",
       "  </thead>\n",
       "  <tbody>\n",
       "    <tr>\n",
       "      <th>0</th>\n",
       "      <td>LogReg</td>\n",
       "      <td>0.759</td>\n",
       "      <td>NaN</td>\n",
       "    </tr>\n",
       "    <tr>\n",
       "      <th>1</th>\n",
       "      <td>LinSVM</td>\n",
       "      <td>0.760</td>\n",
       "      <td>NaN</td>\n",
       "    </tr>\n",
       "    <tr>\n",
       "      <th>2</th>\n",
       "      <td>SGD</td>\n",
       "      <td>0.763</td>\n",
       "      <td>NaN</td>\n",
       "    </tr>\n",
       "    <tr>\n",
       "      <th>3</th>\n",
       "      <td>CatBoost</td>\n",
       "      <td>0.745</td>\n",
       "      <td>NaN</td>\n",
       "    </tr>\n",
       "  </tbody>\n",
       "</table>\n",
       "</div>"
      ],
      "text/plain": [
       "  model_name  f1_val_nltk  f1_test_nltk\n",
       "0     LogReg        0.759           NaN\n",
       "1     LinSVM        0.760           NaN\n",
       "2        SGD        0.763           NaN\n",
       "3   CatBoost        0.745           NaN"
      ]
     },
     "execution_count": 43,
     "metadata": {},
     "output_type": "execute_result"
    }
   ],
   "source": [
    "results"
   ]
  },
  {
   "cell_type": "markdown",
   "metadata": {},
   "source": [
    "- Произвели обучение моделей МО;\n",
    "- Произвели подбор отдельных гиперпараметров моделей МО;\n",
    "- Рассмотренные модели показали на выборке валидации сопоставимые результаты и выше требуемого значения 0.75, за исключением CAtBoost (f1 =  0.739)"
   ]
  },
  {
   "cell_type": "markdown",
   "metadata": {},
   "source": [
    "## Тестирование моделей"
   ]
  },
  {
   "cell_type": "code",
   "execution_count": 44,
   "metadata": {},
   "outputs": [
    {
     "name": "stdout",
     "output_type": "stream",
     "text": [
      "f1_score = 0.763\n"
     ]
    },
    {
     "data": {
      "image/png": "[encoded data removed]",
      "text/plain": [
       "<Figure size 288x288 with 1 Axes>"
      ]
     },
     "metadata": {
      "needs_background": "light"
     },
     "output_type": "display_data"
    }
   ],
   "source": [
    "model_report(lr_final, X_test_tf, y_test)"
   ]
  },
  {
   "cell_type": "code",
   "execution_count": 45,
   "metadata": {},
   "outputs": [
    {
     "name": "stdout",
     "output_type": "stream",
     "text": [
      "f1_score = 0.766\n"
     ]
    },
    {
     "data": {
      "image/png": "[encoded data removed]",
      "text/plain": [
       "<Figure size 288x288 with 1 Axes>"
      ]
     },
     "metadata": {
      "needs_background": "light"
     },
     "output_type": "display_data"
    }
   ],
   "source": [
    "model_report(svm_final, X_test_tf, y_test)"
   ]
  },
  {
   "cell_type": "code",
   "execution_count": 46,
   "metadata": {},
   "outputs": [
    {
     "name": "stdout",
     "output_type": "stream",
     "text": [
      "f1_score = 0.763\n"
     ]
    },
    {
     "data": {
      "image/png": "[encoded data removed]",
      "text/plain": [
       "<Figure size 288x288 with 1 Axes>"
      ]
     },
     "metadata": {
      "needs_background": "light"
     },
     "output_type": "display_data"
    }
   ],
   "source": [
    "model_report(sgd_final, X_test_tf, y_test)"
   ]
  },
  {
   "cell_type": "code",
   "execution_count": 47,
   "metadata": {},
   "outputs": [
    {
     "name": "stdout",
     "output_type": "stream",
     "text": [
      "f1_score = 0.75\n"
     ]
    },
    {
     "data": {
      "image/png": "[encoded data removed]",
      "text/plain": [
       "<Figure size 288x288 with 1 Axes>"
      ]
     },
     "metadata": {
      "needs_background": "light"
     },
     "output_type": "display_data"
    }
   ],
   "source": [
    "model_report(cbc, X_test_tf, y_test)"
   ]
  },
  {
   "cell_type": "markdown",
   "metadata": {},
   "source": [
    "Анализ матриц соответствия показывает, что модели МО как и на выборке валидации допускают много значительно больше ошибок второго рода (fn). Но требований по минимизации ошибок второго рода не было поставлено. Хотя исходя из здравого смысла имеем, что около трети токсичных комментариев не будет отправлено на модерацию, что кажется неудовлетворительным результатом. Поэтому для данной задачи мог быть применен другой критерий либо f-scope c коэффициентом бетта, который позволил бы изменить соотношение ошибок первого и второго рода."
   ]
  },
  {
   "cell_type": "code",
   "execution_count": 48,
   "metadata": {},
   "outputs": [],
   "source": [
    "results.loc[0, 'f1_test_nltk'] = 0.762\n",
    "results.loc[1, 'f1_test_nltk'] = 0.766\n",
    "results.loc[2, 'f1_test_nltk'] = 0.763\n",
    "results.loc[3, 'f1_test_nltk'] = 0.75"
   ]
  },
  {
   "cell_type": "code",
   "execution_count": 49,
   "metadata": {},
   "outputs": [
    {
     "data": {
      "text/html": [
       "<div>\n",
       "<style scoped>\n",
       "    .dataframe tbody tr th:only-of-type {\n",
       "        vertical-align: middle;\n",
       "    }\n",
       "\n",
       "    .dataframe tbody tr th {\n",
       "        vertical-align: top;\n",
       "    }\n",
       "\n",
       "    .dataframe thead th {\n",
       "        text-align: right;\n",
       "    }\n",
       "</style>\n",
       "<table border=\"1\" class=\"dataframe\">\n",
       "  <thead>\n",
       "    <tr style=\"text-align: right;\">\n",
       "      <th></th>\n",
       "      <th>model_name</th>\n",
       "      <th>f1_val_nltk</th>\n",
       "      <th>f1_test_nltk</th>\n",
       "    </tr>\n",
       "  </thead>\n",
       "  <tbody>\n",
       "    <tr>\n",
       "      <th>1</th>\n",
       "      <td>LinSVM</td>\n",
       "      <td>0.760</td>\n",
       "      <td>0.766</td>\n",
       "    </tr>\n",
       "    <tr>\n",
       "      <th>2</th>\n",
       "      <td>SGD</td>\n",
       "      <td>0.763</td>\n",
       "      <td>0.763</td>\n",
       "    </tr>\n",
       "    <tr>\n",
       "      <th>0</th>\n",
       "      <td>LogReg</td>\n",
       "      <td>0.759</td>\n",
       "      <td>0.762</td>\n",
       "    </tr>\n",
       "    <tr>\n",
       "      <th>3</th>\n",
       "      <td>CatBoost</td>\n",
       "      <td>0.745</td>\n",
       "      <td>0.750</td>\n",
       "    </tr>\n",
       "  </tbody>\n",
       "</table>\n",
       "</div>"
      ],
      "text/plain": [
       "  model_name  f1_val_nltk  f1_test_nltk\n",
       "1     LinSVM        0.760         0.766\n",
       "2        SGD        0.763         0.763\n",
       "0     LogReg        0.759         0.762\n",
       "3   CatBoost        0.745         0.750"
      ]
     },
     "execution_count": 49,
     "metadata": {},
     "output_type": "execute_result"
    }
   ],
   "source": [
    "results.sort_values('f1_test_nltk', ascending = False)"
   ]
  },
  {
   "cell_type": "markdown",
   "metadata": {},
   "source": [
    "Из анализа результатов работы моделей можно сделать следующие выводы:\n",
    "- логистическая регрессия, метод опорных векторов, стохастический градиентный спуск показали сопоставимые результаты на тестовой выборке, примерно аналогичная картина была и выборке валидации;\n",
    "- хуже других показал себя CatBoost как на выборке валидации, так и на тестовой выборке;\n",
    "- выше требуемого порога показали себя логистическая регрессия, метод опорных векторов, стохастический градиентный спуск;\n",
    "- выбор конкретной модели МО может быть уточнен на этапе опытной эксплуатации либо если заказчик уточнит дополнительные требования (быстройдействие, скорость обучения, аппаратные требования...)\n",
    "- все рассмотренные модели МО показали даже лучшие результаты на тестовой выборке, что говорит о том, что не было допущено переобучение моделей."
   ]
  },
  {
   "cell_type": "markdown",
   "metadata": {},
   "source": [
    "## Выводы"
   ]
  },
  {
   "cell_type": "markdown",
   "metadata": {},
   "source": [
    "- Анализ исходных данных показал, что имеется дисбаланс классов, почти 90 % это класс 0, остальное - класс 1;\n",
    "- Качество работы примитивного классификатора невысокое, что и было ожидаемо f1-scope =  0.18. Данный результат может быть использован для сравнения с моделями МО.\n",
    "- Анализ матрицы соответствия для логистической регрессии показал :\n",
    "    - 321 ложноположительных значений;\n",
    "    - 1063 ложноотрицательных значений.\n",
    "- Видно, что значительно больше ошибок по отнесению токсичных комментариев к нетоксичным, но критерий f1-score был выбран по условию задачи и именно его мы пытаемся максимизировать. В дальнейшем матрицу соответствия комментировать не будем, так как результаты примерно везде одинаковые.__\n",
    "- Рассмотренные модели показали на выборке валидации сопоставимые результаты и выше требуемого значения 0.75, за исключением CAtBoost (f1 =  0.739)\n",
    "- Анализ матриц соответствия показывает, что модели МО как и на выборке валидации допускают много значительно больше ошибок второго рода (fn). Но требований по минимизации ошибок второго рода не было поставлено. Хотя исходя из здравого смысла имеем, что около трети токсичных комментариев не будет отправлено на модерацию, что кажется неудовлетворительным результатом. Поэтому для данной задачи мог быть применен другой критерий либо f-scope c коэффициентом бетта, который позволил бы изменить соотношение ошибок первого и второго рода.\n",
    "\n",
    "- Из анализа результатов работы моделей можно сделать следующие выводы:\n",
    "    - логистическая регрессия, метод опорных векторов, стохастический градиентный спуск показали сопоставимые результаты на тестовой выборке, примерно аналогичная картина была и выборке валидации;\n",
    "    - хуже других показал себя CatBoost как на выборке валидации, так и на тестовой выборке;\n",
    "    - выше требуемого порога показали себя логистическая регрессия, метод опорных векторов, стохастический градиентный спуск;\n",
    "    - выбор конкретной модели МО может быть уточнен на этапе опытной эксплуатации либо если заказчик уточнит дополнительные требования (быстройдействие, скорость обучения, аппаратные требования...)\n",
    "    - все рассмотренные модели МО показали даже лучшие результаты на тестовой выборке, что говорит о том, что не было допущено переобучение моделей;\n",
    "    - все рассмотренные модели МО показали значетельно лучшие результаты чем примитивный классификатор, что говорит о достижения поставленных целей. \n"
   ]
  }
 ],
 "metadata": {
  "ExecuteTimeLog": [
   {
    "duration": 596,
    "start_time": "2022-03-22T08:03:12.325Z"
   },
   {
    "duration": 5491,
    "start_time": "2022-03-22T08:03:36.175Z"
   },
   {
    "duration": 25,
    "start_time": "2022-03-22T08:03:43.026Z"
   },
   {
    "duration": 30,
    "start_time": "2022-03-22T08:04:05.683Z"
   },
   {
    "duration": 38,
    "start_time": "2022-03-22T08:04:19.774Z"
   },
   {
    "duration": 53,
    "start_time": "2022-03-22T10:53:02.447Z"
   },
   {
    "duration": 414,
    "start_time": "2022-03-22T10:53:06.751Z"
   },
   {
    "duration": 7415,
    "start_time": "2022-03-22T10:53:07.170Z"
   },
   {
    "duration": 16,
    "start_time": "2022-03-22T10:53:14.587Z"
   },
   {
    "duration": 35,
    "start_time": "2022-03-22T10:53:14.605Z"
   },
   {
    "duration": 34,
    "start_time": "2022-03-22T10:53:14.642Z"
   },
   {
    "duration": 33,
    "start_time": "2022-03-22T10:53:14.678Z"
   },
   {
    "duration": 7,
    "start_time": "2022-03-22T10:53:29.752Z"
   },
   {
    "duration": 9,
    "start_time": "2022-03-22T10:53:32.951Z"
   },
   {
    "duration": 13,
    "start_time": "2022-03-22T10:58:34.367Z"
   },
   {
    "duration": 3,
    "start_time": "2022-03-22T10:59:13.384Z"
   },
   {
    "duration": 771,
    "start_time": "2022-03-22T11:00:31.545Z"
   },
   {
    "duration": 111,
    "start_time": "2022-03-22T11:00:44.722Z"
   },
   {
    "duration": 6,
    "start_time": "2022-03-22T11:00:52.834Z"
   },
   {
    "duration": 3,
    "start_time": "2022-03-22T11:01:19.393Z"
   },
   {
    "duration": 4,
    "start_time": "2022-03-22T11:01:19.862Z"
   },
   {
    "duration": 609,
    "start_time": "2022-03-22T11:01:36.103Z"
   },
   {
    "duration": 905382,
    "start_time": "2022-03-22T11:01:41.433Z"
   },
   {
    "duration": 0,
    "start_time": "2022-03-22T11:16:46.817Z"
   },
   {
    "duration": 126387,
    "start_time": "2022-03-22T11:18:09.153Z"
   },
   {
    "duration": 0,
    "start_time": "2022-03-22T11:20:15.544Z"
   },
   {
    "duration": 0,
    "start_time": "2022-03-22T11:20:15.545Z"
   },
   {
    "duration": 0,
    "start_time": "2022-03-22T11:20:15.546Z"
   },
   {
    "duration": 0,
    "start_time": "2022-03-22T11:20:15.547Z"
   },
   {
    "duration": 0,
    "start_time": "2022-03-22T11:20:15.548Z"
   },
   {
    "duration": 0,
    "start_time": "2022-03-22T11:20:15.549Z"
   },
   {
    "duration": 0,
    "start_time": "2022-03-22T11:20:15.550Z"
   },
   {
    "duration": 0,
    "start_time": "2022-03-22T11:20:15.551Z"
   },
   {
    "duration": 0,
    "start_time": "2022-03-22T11:20:15.553Z"
   },
   {
    "duration": 0,
    "start_time": "2022-03-22T11:20:15.553Z"
   },
   {
    "duration": 0,
    "start_time": "2022-03-22T11:20:15.555Z"
   },
   {
    "duration": 0,
    "start_time": "2022-03-22T11:20:15.556Z"
   },
   {
    "duration": 0,
    "start_time": "2022-03-22T11:20:15.557Z"
   },
   {
    "duration": 0,
    "start_time": "2022-03-22T11:20:15.558Z"
   },
   {
    "duration": 1,
    "start_time": "2022-03-22T11:20:15.559Z"
   },
   {
    "duration": 0,
    "start_time": "2022-03-22T11:20:15.561Z"
   },
   {
    "duration": 0,
    "start_time": "2022-03-22T11:20:15.562Z"
   },
   {
    "duration": 0,
    "start_time": "2022-03-22T11:20:15.563Z"
   },
   {
    "duration": 0,
    "start_time": "2022-03-22T11:20:15.564Z"
   },
   {
    "duration": 0,
    "start_time": "2022-03-22T11:20:15.565Z"
   },
   {
    "duration": 0,
    "start_time": "2022-03-22T11:20:15.566Z"
   },
   {
    "duration": 0,
    "start_time": "2022-03-22T11:20:15.567Z"
   },
   {
    "duration": 0,
    "start_time": "2022-03-22T11:20:15.568Z"
   },
   {
    "duration": 0,
    "start_time": "2022-03-22T11:20:15.569Z"
   },
   {
    "duration": 0,
    "start_time": "2022-03-22T11:20:15.570Z"
   },
   {
    "duration": 0,
    "start_time": "2022-03-22T11:20:15.572Z"
   },
   {
    "duration": 0,
    "start_time": "2022-03-22T11:20:15.573Z"
   },
   {
    "duration": 0,
    "start_time": "2022-03-22T11:20:15.574Z"
   },
   {
    "duration": 0,
    "start_time": "2022-03-22T11:20:15.575Z"
   },
   {
    "duration": 0,
    "start_time": "2022-03-22T11:20:15.576Z"
   },
   {
    "duration": 0,
    "start_time": "2022-03-22T11:20:15.577Z"
   },
   {
    "duration": 0,
    "start_time": "2022-03-22T11:20:15.578Z"
   },
   {
    "duration": 0,
    "start_time": "2022-03-22T11:20:15.632Z"
   },
   {
    "duration": 0,
    "start_time": "2022-03-22T11:20:15.633Z"
   },
   {
    "duration": 0,
    "start_time": "2022-03-22T11:20:15.634Z"
   },
   {
    "duration": 0,
    "start_time": "2022-03-22T11:20:15.635Z"
   },
   {
    "duration": 0,
    "start_time": "2022-03-22T11:20:15.636Z"
   },
   {
    "duration": 0,
    "start_time": "2022-03-22T11:20:15.637Z"
   },
   {
    "duration": 0,
    "start_time": "2022-03-22T11:20:15.638Z"
   },
   {
    "duration": 0,
    "start_time": "2022-03-22T11:20:15.639Z"
   },
   {
    "duration": 0,
    "start_time": "2022-03-22T11:20:15.640Z"
   },
   {
    "duration": 0,
    "start_time": "2022-03-22T11:20:15.641Z"
   },
   {
    "duration": 0,
    "start_time": "2022-03-22T11:20:15.642Z"
   },
   {
    "duration": 0,
    "start_time": "2022-03-22T11:20:15.643Z"
   },
   {
    "duration": 0,
    "start_time": "2022-03-22T11:20:15.644Z"
   },
   {
    "duration": 0,
    "start_time": "2022-03-22T11:20:15.645Z"
   },
   {
    "duration": 0,
    "start_time": "2022-03-22T11:20:15.646Z"
   },
   {
    "duration": 0,
    "start_time": "2022-03-22T11:20:15.647Z"
   },
   {
    "duration": 0,
    "start_time": "2022-03-22T11:20:15.648Z"
   },
   {
    "duration": 0,
    "start_time": "2022-03-22T11:47:59.795Z"
   },
   {
    "duration": 0,
    "start_time": "2022-03-22T11:47:59.797Z"
   },
   {
    "duration": 0,
    "start_time": "2022-03-22T11:47:59.800Z"
   },
   {
    "duration": 0,
    "start_time": "2022-03-22T11:47:59.802Z"
   },
   {
    "duration": 0,
    "start_time": "2022-03-22T11:47:59.804Z"
   },
   {
    "duration": 0,
    "start_time": "2022-03-22T11:47:59.807Z"
   },
   {
    "duration": 0,
    "start_time": "2022-03-22T11:47:59.809Z"
   },
   {
    "duration": 0,
    "start_time": "2022-03-22T11:47:59.811Z"
   },
   {
    "duration": 0,
    "start_time": "2022-03-22T11:47:59.813Z"
   },
   {
    "duration": 0,
    "start_time": "2022-03-22T11:47:59.815Z"
   },
   {
    "duration": 0,
    "start_time": "2022-03-22T11:47:59.833Z"
   },
   {
    "duration": 0,
    "start_time": "2022-03-22T11:47:59.836Z"
   },
   {
    "duration": 0,
    "start_time": "2022-03-22T11:47:59.838Z"
   },
   {
    "duration": 0,
    "start_time": "2022-03-22T11:47:59.840Z"
   },
   {
    "duration": 0,
    "start_time": "2022-03-22T11:47:59.841Z"
   },
   {
    "duration": 0,
    "start_time": "2022-03-22T11:47:59.844Z"
   },
   {
    "duration": 0,
    "start_time": "2022-03-22T11:47:59.845Z"
   },
   {
    "duration": 0,
    "start_time": "2022-03-22T11:47:59.847Z"
   },
   {
    "duration": 0,
    "start_time": "2022-03-22T11:47:59.849Z"
   },
   {
    "duration": 0,
    "start_time": "2022-03-22T11:47:59.851Z"
   },
   {
    "duration": 0,
    "start_time": "2022-03-22T11:47:59.853Z"
   },
   {
    "duration": 0,
    "start_time": "2022-03-22T11:47:59.855Z"
   },
   {
    "duration": 0,
    "start_time": "2022-03-22T11:47:59.859Z"
   },
   {
    "duration": 0,
    "start_time": "2022-03-22T11:47:59.861Z"
   },
   {
    "duration": 0,
    "start_time": "2022-03-22T11:47:59.863Z"
   },
   {
    "duration": 0,
    "start_time": "2022-03-22T11:47:59.865Z"
   },
   {
    "duration": 0,
    "start_time": "2022-03-22T11:47:59.867Z"
   },
   {
    "duration": 0,
    "start_time": "2022-03-22T11:47:59.870Z"
   },
   {
    "duration": 0,
    "start_time": "2022-03-22T11:47:59.933Z"
   },
   {
    "duration": 0,
    "start_time": "2022-03-22T11:47:59.935Z"
   },
   {
    "duration": 0,
    "start_time": "2022-03-22T11:47:59.937Z"
   },
   {
    "duration": 0,
    "start_time": "2022-03-22T11:47:59.939Z"
   },
   {
    "duration": 0,
    "start_time": "2022-03-22T11:47:59.941Z"
   },
   {
    "duration": 0,
    "start_time": "2022-03-22T11:47:59.943Z"
   },
   {
    "duration": 0,
    "start_time": "2022-03-22T11:47:59.945Z"
   },
   {
    "duration": 0,
    "start_time": "2022-03-22T11:47:59.946Z"
   },
   {
    "duration": 0,
    "start_time": "2022-03-22T11:47:59.948Z"
   },
   {
    "duration": 0,
    "start_time": "2022-03-22T11:47:59.951Z"
   },
   {
    "duration": 0,
    "start_time": "2022-03-22T11:47:59.953Z"
   },
   {
    "duration": 0,
    "start_time": "2022-03-22T11:47:59.955Z"
   },
   {
    "duration": 0,
    "start_time": "2022-03-22T11:47:59.957Z"
   },
   {
    "duration": 0,
    "start_time": "2022-03-22T11:48:00.147Z"
   },
   {
    "duration": 0,
    "start_time": "2022-03-22T11:48:00.149Z"
   },
   {
    "duration": 0,
    "start_time": "2022-03-22T11:48:00.151Z"
   },
   {
    "duration": 0,
    "start_time": "2022-03-22T11:48:00.153Z"
   },
   {
    "duration": 0,
    "start_time": "2022-03-22T11:48:00.155Z"
   },
   {
    "duration": 0,
    "start_time": "2022-03-22T11:48:00.157Z"
   },
   {
    "duration": 0,
    "start_time": "2022-03-22T11:48:00.157Z"
   },
   {
    "duration": 0,
    "start_time": "2022-03-22T11:48:00.158Z"
   },
   {
    "duration": 0,
    "start_time": "2022-03-22T11:48:00.159Z"
   },
   {
    "duration": 31356,
    "start_time": "2022-03-22T11:48:25.009Z"
   },
   {
    "duration": 45535,
    "start_time": "2022-03-22T11:48:57.873Z"
   },
   {
    "duration": 1133378,
    "start_time": "2022-03-22T11:49:52.981Z"
   },
   {
    "duration": 0,
    "start_time": "2022-03-22T12:08:46.364Z"
   },
   {
    "duration": 0,
    "start_time": "2022-03-22T12:08:46.366Z"
   },
   {
    "duration": 0,
    "start_time": "2022-03-22T12:08:46.367Z"
   },
   {
    "duration": 0,
    "start_time": "2022-03-22T12:08:46.368Z"
   },
   {
    "duration": 0,
    "start_time": "2022-03-22T12:08:46.370Z"
   },
   {
    "duration": 0,
    "start_time": "2022-03-22T12:08:46.371Z"
   },
   {
    "duration": 0,
    "start_time": "2022-03-22T12:08:46.372Z"
   },
   {
    "duration": 0,
    "start_time": "2022-03-22T12:08:46.373Z"
   },
   {
    "duration": 0,
    "start_time": "2022-03-22T12:08:46.375Z"
   },
   {
    "duration": 0,
    "start_time": "2022-03-22T12:08:46.375Z"
   },
   {
    "duration": 0,
    "start_time": "2022-03-22T12:08:46.377Z"
   },
   {
    "duration": 0,
    "start_time": "2022-03-22T12:08:46.378Z"
   },
   {
    "duration": 0,
    "start_time": "2022-03-22T12:08:46.379Z"
   },
   {
    "duration": 0,
    "start_time": "2022-03-22T12:08:46.380Z"
   },
   {
    "duration": 0,
    "start_time": "2022-03-22T12:08:46.381Z"
   },
   {
    "duration": 0,
    "start_time": "2022-03-22T12:08:46.382Z"
   },
   {
    "duration": 0,
    "start_time": "2022-03-22T12:08:46.383Z"
   },
   {
    "duration": 0,
    "start_time": "2022-03-22T12:08:46.384Z"
   },
   {
    "duration": 0,
    "start_time": "2022-03-22T12:08:46.386Z"
   },
   {
    "duration": 0,
    "start_time": "2022-03-22T12:08:46.387Z"
   },
   {
    "duration": 0,
    "start_time": "2022-03-22T12:08:46.388Z"
   },
   {
    "duration": 0,
    "start_time": "2022-03-22T12:08:46.432Z"
   },
   {
    "duration": 0,
    "start_time": "2022-03-22T12:08:46.433Z"
   },
   {
    "duration": 0,
    "start_time": "2022-03-22T12:08:46.434Z"
   },
   {
    "duration": 0,
    "start_time": "2022-03-22T12:08:46.435Z"
   },
   {
    "duration": 0,
    "start_time": "2022-03-22T12:08:46.436Z"
   },
   {
    "duration": 0,
    "start_time": "2022-03-22T12:08:46.438Z"
   },
   {
    "duration": 0,
    "start_time": "2022-03-22T12:08:46.439Z"
   },
   {
    "duration": 0,
    "start_time": "2022-03-22T12:08:46.440Z"
   },
   {
    "duration": 0,
    "start_time": "2022-03-22T12:08:46.441Z"
   },
   {
    "duration": 0,
    "start_time": "2022-03-22T12:08:46.442Z"
   },
   {
    "duration": 0,
    "start_time": "2022-03-22T12:08:46.443Z"
   },
   {
    "duration": 0,
    "start_time": "2022-03-22T12:08:46.444Z"
   },
   {
    "duration": 0,
    "start_time": "2022-03-22T12:08:46.445Z"
   },
   {
    "duration": 0,
    "start_time": "2022-03-22T12:08:46.446Z"
   },
   {
    "duration": 0,
    "start_time": "2022-03-22T12:08:46.447Z"
   },
   {
    "duration": 0,
    "start_time": "2022-03-22T12:08:46.448Z"
   },
   {
    "duration": 0,
    "start_time": "2022-03-22T12:08:46.449Z"
   },
   {
    "duration": 0,
    "start_time": "2022-03-22T12:08:46.451Z"
   },
   {
    "duration": 0,
    "start_time": "2022-03-22T12:08:46.451Z"
   },
   {
    "duration": 0,
    "start_time": "2022-03-22T12:08:46.453Z"
   },
   {
    "duration": 0,
    "start_time": "2022-03-22T12:08:46.454Z"
   },
   {
    "duration": 0,
    "start_time": "2022-03-22T12:08:46.455Z"
   },
   {
    "duration": 0,
    "start_time": "2022-03-22T12:08:46.456Z"
   },
   {
    "duration": 0,
    "start_time": "2022-03-22T12:08:46.457Z"
   },
   {
    "duration": 0,
    "start_time": "2022-03-22T12:08:46.458Z"
   },
   {
    "duration": 0,
    "start_time": "2022-03-22T12:08:46.459Z"
   },
   {
    "duration": 0,
    "start_time": "2022-03-22T12:08:46.460Z"
   },
   {
    "duration": 0,
    "start_time": "2022-03-22T12:08:46.462Z"
   },
   {
    "duration": 48620,
    "start_time": "2022-03-22T12:34:04.545Z"
   },
   {
    "duration": 10071,
    "start_time": "2022-03-22T12:35:57.516Z"
   },
   {
    "duration": 3,
    "start_time": "2022-03-22T12:36:35.056Z"
   },
   {
    "duration": 0,
    "start_time": "2022-03-22T12:37:09.237Z"
   },
   {
    "duration": 30,
    "start_time": "2022-03-22T12:37:10.735Z"
   },
   {
    "duration": 1328,
    "start_time": "2022-03-22T12:37:21.850Z"
   },
   {
    "duration": 558,
    "start_time": "2022-03-22T12:37:23.180Z"
   },
   {
    "duration": 3,
    "start_time": "2022-03-22T12:37:23.739Z"
   },
   {
    "duration": 6965,
    "start_time": "2022-03-22T12:37:23.744Z"
   },
   {
    "duration": 21,
    "start_time": "2022-03-22T12:37:30.711Z"
   },
   {
    "duration": 33,
    "start_time": "2022-03-22T12:37:30.734Z"
   },
   {
    "duration": 59,
    "start_time": "2022-03-22T12:37:30.769Z"
   },
   {
    "duration": 18,
    "start_time": "2022-03-22T12:37:30.830Z"
   },
   {
    "duration": 4,
    "start_time": "2022-03-22T12:37:30.851Z"
   },
   {
    "duration": 45279,
    "start_time": "2022-03-22T12:37:30.859Z"
   },
   {
    "duration": 40,
    "start_time": "2022-03-22T12:38:16.140Z"
   },
   {
    "duration": 21,
    "start_time": "2022-03-22T12:38:16.182Z"
   },
   {
    "duration": 4,
    "start_time": "2022-03-22T12:38:16.204Z"
   },
   {
    "duration": 68,
    "start_time": "2022-03-22T12:38:16.209Z"
   },
   {
    "duration": 4,
    "start_time": "2022-03-22T12:38:16.279Z"
   },
   {
    "duration": 160,
    "start_time": "2022-03-22T12:38:16.285Z"
   },
   {
    "duration": 0,
    "start_time": "2022-03-22T12:38:16.449Z"
   },
   {
    "duration": 0,
    "start_time": "2022-03-22T12:38:16.450Z"
   },
   {
    "duration": 0,
    "start_time": "2022-03-22T12:38:16.451Z"
   },
   {
    "duration": 0,
    "start_time": "2022-03-22T12:38:16.452Z"
   },
   {
    "duration": 0,
    "start_time": "2022-03-22T12:38:16.454Z"
   },
   {
    "duration": 0,
    "start_time": "2022-03-22T12:38:16.455Z"
   },
   {
    "duration": 0,
    "start_time": "2022-03-22T12:38:16.456Z"
   },
   {
    "duration": 0,
    "start_time": "2022-03-22T12:38:16.457Z"
   },
   {
    "duration": 0,
    "start_time": "2022-03-22T12:38:16.458Z"
   },
   {
    "duration": 0,
    "start_time": "2022-03-22T12:38:16.460Z"
   },
   {
    "duration": 0,
    "start_time": "2022-03-22T12:38:16.461Z"
   },
   {
    "duration": 0,
    "start_time": "2022-03-22T12:38:16.462Z"
   },
   {
    "duration": 0,
    "start_time": "2022-03-22T12:38:16.463Z"
   },
   {
    "duration": 0,
    "start_time": "2022-03-22T12:38:16.465Z"
   },
   {
    "duration": 0,
    "start_time": "2022-03-22T12:38:16.466Z"
   },
   {
    "duration": 0,
    "start_time": "2022-03-22T12:38:16.467Z"
   },
   {
    "duration": 0,
    "start_time": "2022-03-22T12:38:16.469Z"
   },
   {
    "duration": 0,
    "start_time": "2022-03-22T12:38:16.470Z"
   },
   {
    "duration": 0,
    "start_time": "2022-03-22T12:38:16.471Z"
   },
   {
    "duration": 0,
    "start_time": "2022-03-22T12:38:16.472Z"
   },
   {
    "duration": 0,
    "start_time": "2022-03-22T12:38:16.473Z"
   },
   {
    "duration": 0,
    "start_time": "2022-03-22T12:38:16.474Z"
   },
   {
    "duration": 0,
    "start_time": "2022-03-22T12:38:16.476Z"
   },
   {
    "duration": 0,
    "start_time": "2022-03-22T12:38:16.477Z"
   },
   {
    "duration": 0,
    "start_time": "2022-03-22T12:38:16.478Z"
   },
   {
    "duration": 0,
    "start_time": "2022-03-22T12:38:16.532Z"
   },
   {
    "duration": 0,
    "start_time": "2022-03-22T12:38:16.533Z"
   },
   {
    "duration": 0,
    "start_time": "2022-03-22T12:38:16.534Z"
   },
   {
    "duration": 0,
    "start_time": "2022-03-22T12:38:16.536Z"
   },
   {
    "duration": 0,
    "start_time": "2022-03-22T12:38:16.537Z"
   },
   {
    "duration": 0,
    "start_time": "2022-03-22T12:38:16.538Z"
   },
   {
    "duration": 0,
    "start_time": "2022-03-22T12:38:16.540Z"
   },
   {
    "duration": 0,
    "start_time": "2022-03-22T12:38:16.541Z"
   },
   {
    "duration": 0,
    "start_time": "2022-03-22T12:38:16.542Z"
   },
   {
    "duration": 0,
    "start_time": "2022-03-22T12:38:16.543Z"
   },
   {
    "duration": 7236,
    "start_time": "2022-03-22T13:10:21.516Z"
   },
   {
    "duration": 17,
    "start_time": "2022-03-22T13:10:32.464Z"
   },
   {
    "duration": 4,
    "start_time": "2022-03-22T13:10:35.458Z"
   },
   {
    "duration": 6,
    "start_time": "2022-03-22T13:10:36.603Z"
   },
   {
    "duration": 15,
    "start_time": "2022-03-22T13:10:37.684Z"
   },
   {
    "duration": 11,
    "start_time": "2022-03-22T13:10:37.983Z"
   },
   {
    "duration": 10,
    "start_time": "2022-03-22T13:10:38.564Z"
   },
   {
    "duration": 8,
    "start_time": "2022-03-22T13:10:49.974Z"
   },
   {
    "duration": 28,
    "start_time": "2022-03-22T13:10:50.953Z"
   },
   {
    "duration": 15,
    "start_time": "2022-03-22T13:10:52.307Z"
   },
   {
    "duration": 12,
    "start_time": "2022-03-22T13:10:53.655Z"
   },
   {
    "duration": 3,
    "start_time": "2022-03-22T13:11:39.614Z"
   },
   {
    "duration": 59288,
    "start_time": "2022-03-22T13:11:40.139Z"
   },
   {
    "duration": 1488,
    "start_time": "2022-03-22T13:12:39.431Z"
   },
   {
    "duration": 35,
    "start_time": "2022-03-22T13:12:40.921Z"
   },
   {
    "duration": 199,
    "start_time": "2022-03-22T13:12:40.958Z"
   },
   {
    "duration": 3,
    "start_time": "2022-03-22T13:12:41.159Z"
   },
   {
    "duration": 6,
    "start_time": "2022-03-22T13:12:41.164Z"
   },
   {
    "duration": 6,
    "start_time": "2022-03-22T13:12:41.171Z"
   },
   {
    "duration": 708,
    "start_time": "2022-03-22T13:12:41.178Z"
   },
   {
    "duration": 44,
    "start_time": "2022-03-22T13:12:41.888Z"
   },
   {
    "duration": 206,
    "start_time": "2022-03-22T13:12:41.935Z"
   },
   {
    "duration": 3,
    "start_time": "2022-03-22T13:12:42.143Z"
   },
   {
    "duration": 15,
    "start_time": "2022-03-22T13:12:42.148Z"
   },
   {
    "duration": 7,
    "start_time": "2022-03-22T13:12:42.165Z"
   },
   {
    "duration": 12220,
    "start_time": "2022-03-22T13:12:42.174Z"
   },
   {
    "duration": 11,
    "start_time": "2022-03-22T13:12:54.396Z"
   },
   {
    "duration": 0,
    "start_time": "2022-03-22T13:12:54.408Z"
   },
   {
    "duration": 0,
    "start_time": "2022-03-22T13:12:54.410Z"
   },
   {
    "duration": 0,
    "start_time": "2022-03-22T13:12:54.411Z"
   },
   {
    "duration": 0,
    "start_time": "2022-03-22T13:12:54.412Z"
   },
   {
    "duration": 0,
    "start_time": "2022-03-22T13:12:54.432Z"
   },
   {
    "duration": 0,
    "start_time": "2022-03-22T13:12:54.433Z"
   },
   {
    "duration": 0,
    "start_time": "2022-03-22T13:12:54.434Z"
   },
   {
    "duration": 0,
    "start_time": "2022-03-22T13:12:54.435Z"
   },
   {
    "duration": 0,
    "start_time": "2022-03-22T13:12:54.436Z"
   },
   {
    "duration": 0,
    "start_time": "2022-03-22T13:12:54.437Z"
   },
   {
    "duration": 0,
    "start_time": "2022-03-22T13:12:54.439Z"
   },
   {
    "duration": 0,
    "start_time": "2022-03-22T13:12:54.440Z"
   },
   {
    "duration": 0,
    "start_time": "2022-03-22T13:12:54.441Z"
   },
   {
    "duration": 435,
    "start_time": "2022-03-22T13:13:40.635Z"
   },
   {
    "duration": 35,
    "start_time": "2022-03-22T13:13:41.072Z"
   },
   {
    "duration": 302,
    "start_time": "2022-03-22T13:13:41.305Z"
   },
   {
    "duration": 0,
    "start_time": "2022-03-22T13:13:41.608Z"
   },
   {
    "duration": 3,
    "start_time": "2022-03-22T13:13:41.945Z"
   },
   {
    "duration": 286,
    "start_time": "2022-03-22T13:14:58.079Z"
   },
   {
    "duration": 4,
    "start_time": "2022-03-22T13:14:58.367Z"
   },
   {
    "duration": 8,
    "start_time": "2022-03-22T13:14:58.373Z"
   },
   {
    "duration": 73927,
    "start_time": "2022-03-22T13:14:58.383Z"
   },
   {
    "duration": 290,
    "start_time": "2022-03-22T13:16:12.312Z"
   },
   {
    "duration": 328,
    "start_time": "2022-03-22T13:16:12.604Z"
   },
   {
    "duration": 4,
    "start_time": "2022-03-22T13:16:12.934Z"
   },
   {
    "duration": 206,
    "start_time": "2022-03-22T13:16:12.939Z"
   },
   {
    "duration": 203,
    "start_time": "2022-03-22T13:16:13.147Z"
   },
   {
    "duration": 196,
    "start_time": "2022-03-22T13:16:13.352Z"
   },
   {
    "duration": 202,
    "start_time": "2022-03-22T13:16:13.550Z"
   },
   {
    "duration": 292,
    "start_time": "2022-03-22T13:16:13.753Z"
   },
   {
    "duration": 5,
    "start_time": "2022-03-22T13:23:45.697Z"
   },
   {
    "duration": 9,
    "start_time": "2022-03-22T13:23:49.904Z"
   },
   {
    "duration": 8,
    "start_time": "2022-03-22T13:25:37.721Z"
   },
   {
    "duration": 28,
    "start_time": "2022-03-22T13:25:38.820Z"
   },
   {
    "duration": 14,
    "start_time": "2022-03-22T13:25:39.640Z"
   },
   {
    "duration": 8,
    "start_time": "2022-03-22T13:25:44.990Z"
   },
   {
    "duration": 29,
    "start_time": "2022-03-22T13:25:45.391Z"
   },
   {
    "duration": 13,
    "start_time": "2022-03-22T13:25:45.731Z"
   },
   {
    "duration": 83,
    "start_time": "2022-03-22T13:28:10.034Z"
   },
   {
    "duration": 89,
    "start_time": "2022-03-22T13:29:12.502Z"
   },
   {
    "duration": 11,
    "start_time": "2022-03-22T13:30:30.163Z"
   },
   {
    "duration": 4,
    "start_time": "2022-03-22T13:31:01.323Z"
   },
   {
    "duration": 3,
    "start_time": "2022-03-22T13:31:11.684Z"
   },
   {
    "duration": 1277,
    "start_time": "2022-03-22T13:32:30.069Z"
   },
   {
    "duration": 666,
    "start_time": "2022-03-22T13:32:31.348Z"
   },
   {
    "duration": 3,
    "start_time": "2022-03-22T13:32:32.017Z"
   },
   {
    "duration": 5441,
    "start_time": "2022-03-22T13:32:32.031Z"
   },
   {
    "duration": 17,
    "start_time": "2022-03-22T13:32:37.474Z"
   },
   {
    "duration": 40,
    "start_time": "2022-03-22T13:32:37.493Z"
   },
   {
    "duration": 32,
    "start_time": "2022-03-22T13:32:37.534Z"
   },
   {
    "duration": 8,
    "start_time": "2022-03-22T13:32:37.568Z"
   },
   {
    "duration": 3,
    "start_time": "2022-03-22T13:32:37.577Z"
   },
   {
    "duration": 43225,
    "start_time": "2022-03-22T13:32:37.584Z"
   },
   {
    "duration": 43,
    "start_time": "2022-03-22T13:33:20.811Z"
   },
   {
    "duration": 25,
    "start_time": "2022-03-22T13:33:20.856Z"
   },
   {
    "duration": 3,
    "start_time": "2022-03-22T13:33:20.883Z"
   },
   {
    "duration": 102,
    "start_time": "2022-03-22T13:33:20.887Z"
   },
   {
    "duration": 4,
    "start_time": "2022-03-22T13:33:20.991Z"
   },
   {
    "duration": 6889,
    "start_time": "2022-03-22T13:33:20.996Z"
   },
   {
    "duration": 11,
    "start_time": "2022-03-22T13:33:27.887Z"
   },
   {
    "duration": 6,
    "start_time": "2022-03-22T13:33:27.899Z"
   },
   {
    "duration": 7,
    "start_time": "2022-03-22T13:33:27.907Z"
   },
   {
    "duration": 21,
    "start_time": "2022-03-22T13:33:27.916Z"
   },
   {
    "duration": 28,
    "start_time": "2022-03-22T13:33:27.939Z"
   },
   {
    "duration": 12,
    "start_time": "2022-03-22T13:33:27.969Z"
   },
   {
    "duration": 3,
    "start_time": "2022-03-22T13:33:27.983Z"
   },
   {
    "duration": 61940,
    "start_time": "2022-03-22T13:33:27.988Z"
   },
   {
    "duration": 1410,
    "start_time": "2022-03-22T13:34:29.930Z"
   },
   {
    "duration": 37,
    "start_time": "2022-03-22T13:34:31.341Z"
   },
   {
    "duration": 261,
    "start_time": "2022-03-22T13:34:31.380Z"
   },
   {
    "duration": 4,
    "start_time": "2022-03-22T13:34:31.644Z"
   },
   {
    "duration": 15,
    "start_time": "2022-03-22T13:34:31.650Z"
   },
   {
    "duration": 27,
    "start_time": "2022-03-22T13:34:31.667Z"
   },
   {
    "duration": 612,
    "start_time": "2022-03-22T13:34:31.695Z"
   },
   {
    "duration": 40,
    "start_time": "2022-03-22T13:34:32.309Z"
   },
   {
    "duration": 197,
    "start_time": "2022-03-22T13:34:32.351Z"
   },
   {
    "duration": 4,
    "start_time": "2022-03-22T13:34:32.549Z"
   },
   {
    "duration": 11,
    "start_time": "2022-03-22T13:34:32.555Z"
   },
   {
    "duration": 12,
    "start_time": "2022-03-22T13:34:32.568Z"
   },
   {
    "duration": 35773,
    "start_time": "2022-03-22T13:34:32.582Z"
   },
   {
    "duration": 480,
    "start_time": "2022-03-22T13:35:08.357Z"
   },
   {
    "duration": 37,
    "start_time": "2022-03-22T13:35:08.839Z"
   },
   {
    "duration": 258,
    "start_time": "2022-03-22T13:35:08.878Z"
   },
   {
    "duration": 4,
    "start_time": "2022-03-22T13:35:09.138Z"
   },
   {
    "duration": 1082,
    "start_time": "2022-03-22T13:35:09.144Z"
   },
   {
    "duration": 0,
    "start_time": "2022-03-22T13:35:10.228Z"
   },
   {
    "duration": 0,
    "start_time": "2022-03-22T13:35:10.229Z"
   },
   {
    "duration": 0,
    "start_time": "2022-03-22T13:35:10.231Z"
   },
   {
    "duration": 0,
    "start_time": "2022-03-22T13:35:10.233Z"
   },
   {
    "duration": 0,
    "start_time": "2022-03-22T13:35:10.234Z"
   },
   {
    "duration": 0,
    "start_time": "2022-03-22T13:35:10.236Z"
   },
   {
    "duration": 0,
    "start_time": "2022-03-22T13:35:10.237Z"
   },
   {
    "duration": 0,
    "start_time": "2022-03-22T13:35:10.239Z"
   },
   {
    "duration": 0,
    "start_time": "2022-03-22T13:35:10.241Z"
   },
   {
    "duration": 0,
    "start_time": "2022-03-22T13:35:10.242Z"
   },
   {
    "duration": 132,
    "start_time": "2022-03-22T13:37:02.358Z"
   },
   {
    "duration": 14,
    "start_time": "2022-03-22T13:39:27.730Z"
   },
   {
    "duration": 3,
    "start_time": "2022-03-22T13:39:27.746Z"
   },
   {
    "duration": 57165,
    "start_time": "2022-03-22T13:39:27.750Z"
   },
   {
    "duration": 1394,
    "start_time": "2022-03-22T13:40:24.918Z"
   },
   {
    "duration": 40,
    "start_time": "2022-03-22T13:40:26.314Z"
   },
   {
    "duration": 195,
    "start_time": "2022-03-22T13:40:26.357Z"
   },
   {
    "duration": 4,
    "start_time": "2022-03-22T13:40:26.554Z"
   },
   {
    "duration": 21,
    "start_time": "2022-03-22T13:40:26.560Z"
   },
   {
    "duration": 11,
    "start_time": "2022-03-22T13:40:26.583Z"
   },
   {
    "duration": 614,
    "start_time": "2022-03-22T13:40:26.598Z"
   },
   {
    "duration": 46,
    "start_time": "2022-03-22T13:40:27.214Z"
   },
   {
    "duration": 190,
    "start_time": "2022-03-22T13:40:27.263Z"
   },
   {
    "duration": 3,
    "start_time": "2022-03-22T13:40:27.455Z"
   },
   {
    "duration": 11,
    "start_time": "2022-03-22T13:40:27.460Z"
   },
   {
    "duration": 4,
    "start_time": "2022-03-22T13:40:27.472Z"
   },
   {
    "duration": 12321,
    "start_time": "2022-03-22T13:40:27.478Z"
   },
   {
    "duration": 481,
    "start_time": "2022-03-22T13:40:39.800Z"
   },
   {
    "duration": 36,
    "start_time": "2022-03-22T13:40:40.283Z"
   },
   {
    "duration": 212,
    "start_time": "2022-03-22T13:40:40.331Z"
   },
   {
    "duration": 3,
    "start_time": "2022-03-22T13:40:40.545Z"
   },
   {
    "duration": 6,
    "start_time": "2022-03-22T13:40:40.550Z"
   },
   {
    "duration": 75394,
    "start_time": "2022-03-22T13:40:40.557Z"
   },
   {
    "duration": 333,
    "start_time": "2022-03-22T13:41:55.952Z"
   },
   {
    "duration": 358,
    "start_time": "2022-03-22T13:41:56.286Z"
   },
   {
    "duration": 4,
    "start_time": "2022-03-22T13:41:56.645Z"
   },
   {
    "duration": 221,
    "start_time": "2022-03-22T13:41:56.651Z"
   },
   {
    "duration": 264,
    "start_time": "2022-03-22T13:41:56.874Z"
   },
   {
    "duration": 219,
    "start_time": "2022-03-22T13:41:57.143Z"
   },
   {
    "duration": 368,
    "start_time": "2022-03-22T13:41:57.364Z"
   },
   {
    "duration": 7,
    "start_time": "2022-03-22T13:41:57.734Z"
   },
   {
    "duration": 18,
    "start_time": "2022-03-22T13:41:57.743Z"
   },
   {
    "duration": 5,
    "start_time": "2022-03-22T13:45:33.297Z"
   },
   {
    "duration": 9,
    "start_time": "2022-03-22T13:45:33.963Z"
   },
   {
    "duration": 10,
    "start_time": "2022-03-22T13:48:47.585Z"
   },
   {
    "duration": 131,
    "start_time": "2022-03-22T13:53:09.616Z"
   },
   {
    "duration": 145,
    "start_time": "2022-03-22T13:53:30.627Z"
   },
   {
    "duration": 9,
    "start_time": "2022-03-22T13:53:37.985Z"
   },
   {
    "duration": 10,
    "start_time": "2022-03-22T13:55:29.196Z"
   },
   {
    "duration": 36977,
    "start_time": "2022-03-22T13:55:44.927Z"
   },
   {
    "duration": 1363,
    "start_time": "2022-03-22T13:56:29.961Z"
   },
   {
    "duration": 619,
    "start_time": "2022-03-22T13:56:31.326Z"
   },
   {
    "duration": 3,
    "start_time": "2022-03-22T13:56:31.947Z"
   },
   {
    "duration": 7847,
    "start_time": "2022-03-22T13:56:31.953Z"
   },
   {
    "duration": 15,
    "start_time": "2022-03-22T13:56:39.802Z"
   },
   {
    "duration": 35,
    "start_time": "2022-03-22T13:56:39.818Z"
   },
   {
    "duration": 33,
    "start_time": "2022-03-22T13:56:39.855Z"
   },
   {
    "duration": 8,
    "start_time": "2022-03-22T13:56:39.889Z"
   },
   {
    "duration": 33,
    "start_time": "2022-03-22T13:56:39.899Z"
   },
   {
    "duration": 4,
    "start_time": "2022-03-22T13:56:39.936Z"
   },
   {
    "duration": 0,
    "start_time": "2022-03-22T13:56:39.942Z"
   },
   {
    "duration": 0,
    "start_time": "2022-03-22T13:56:39.944Z"
   },
   {
    "duration": 0,
    "start_time": "2022-03-22T13:56:39.944Z"
   },
   {
    "duration": 0,
    "start_time": "2022-03-22T13:56:39.946Z"
   },
   {
    "duration": 0,
    "start_time": "2022-03-22T13:56:39.947Z"
   },
   {
    "duration": 0,
    "start_time": "2022-03-22T13:56:39.948Z"
   },
   {
    "duration": 0,
    "start_time": "2022-03-22T13:56:39.949Z"
   },
   {
    "duration": 0,
    "start_time": "2022-03-22T13:56:39.950Z"
   },
   {
    "duration": 0,
    "start_time": "2022-03-22T13:56:39.951Z"
   },
   {
    "duration": 0,
    "start_time": "2022-03-22T13:56:39.952Z"
   },
   {
    "duration": 0,
    "start_time": "2022-03-22T13:56:39.953Z"
   },
   {
    "duration": 0,
    "start_time": "2022-03-22T13:56:39.954Z"
   },
   {
    "duration": 0,
    "start_time": "2022-03-22T13:56:39.956Z"
   },
   {
    "duration": 0,
    "start_time": "2022-03-22T13:56:39.957Z"
   },
   {
    "duration": 0,
    "start_time": "2022-03-22T13:56:39.958Z"
   },
   {
    "duration": 0,
    "start_time": "2022-03-22T13:56:39.959Z"
   },
   {
    "duration": 0,
    "start_time": "2022-03-22T13:56:39.960Z"
   },
   {
    "duration": 0,
    "start_time": "2022-03-22T13:56:39.961Z"
   },
   {
    "duration": 0,
    "start_time": "2022-03-22T13:56:39.962Z"
   },
   {
    "duration": 0,
    "start_time": "2022-03-22T13:56:39.963Z"
   },
   {
    "duration": 0,
    "start_time": "2022-03-22T13:56:39.965Z"
   },
   {
    "duration": 0,
    "start_time": "2022-03-22T13:56:39.968Z"
   },
   {
    "duration": 0,
    "start_time": "2022-03-22T13:56:39.970Z"
   },
   {
    "duration": 0,
    "start_time": "2022-03-22T13:56:39.971Z"
   },
   {
    "duration": 0,
    "start_time": "2022-03-22T13:56:39.973Z"
   },
   {
    "duration": 0,
    "start_time": "2022-03-22T13:56:39.974Z"
   },
   {
    "duration": 0,
    "start_time": "2022-03-22T13:56:40.031Z"
   },
   {
    "duration": 0,
    "start_time": "2022-03-22T13:56:40.033Z"
   },
   {
    "duration": 0,
    "start_time": "2022-03-22T13:56:40.034Z"
   },
   {
    "duration": 0,
    "start_time": "2022-03-22T13:56:40.036Z"
   },
   {
    "duration": 0,
    "start_time": "2022-03-22T13:56:40.037Z"
   },
   {
    "duration": 0,
    "start_time": "2022-03-22T13:56:40.038Z"
   },
   {
    "duration": 0,
    "start_time": "2022-03-22T13:56:40.038Z"
   },
   {
    "duration": 0,
    "start_time": "2022-03-22T13:56:40.039Z"
   },
   {
    "duration": 0,
    "start_time": "2022-03-22T13:56:40.040Z"
   },
   {
    "duration": 0,
    "start_time": "2022-03-22T13:56:40.042Z"
   },
   {
    "duration": 0,
    "start_time": "2022-03-22T13:56:40.043Z"
   },
   {
    "duration": 0,
    "start_time": "2022-03-22T13:56:40.044Z"
   },
   {
    "duration": 0,
    "start_time": "2022-03-22T13:56:40.045Z"
   },
   {
    "duration": 0,
    "start_time": "2022-03-22T13:56:40.046Z"
   },
   {
    "duration": 0,
    "start_time": "2022-03-22T13:56:40.047Z"
   },
   {
    "duration": 2958,
    "start_time": "2022-03-22T13:56:56.178Z"
   },
   {
    "duration": 1283,
    "start_time": "2022-03-22T13:57:23.249Z"
   },
   {
    "duration": 748,
    "start_time": "2022-03-22T13:57:24.534Z"
   },
   {
    "duration": 3,
    "start_time": "2022-03-22T13:57:25.284Z"
   },
   {
    "duration": 7533,
    "start_time": "2022-03-22T13:57:25.290Z"
   },
   {
    "duration": 19,
    "start_time": "2022-03-22T13:57:32.825Z"
   },
   {
    "duration": 26,
    "start_time": "2022-03-22T13:57:32.846Z"
   },
   {
    "duration": 35,
    "start_time": "2022-03-22T13:57:32.874Z"
   },
   {
    "duration": 27,
    "start_time": "2022-03-22T13:57:32.911Z"
   },
   {
    "duration": 6,
    "start_time": "2022-03-22T13:57:32.940Z"
   },
   {
    "duration": 43937,
    "start_time": "2022-03-22T13:57:32.949Z"
   },
   {
    "duration": 142,
    "start_time": "2022-03-22T13:58:16.888Z"
   },
   {
    "duration": 0,
    "start_time": "2022-03-22T13:58:17.032Z"
   },
   {
    "duration": 0,
    "start_time": "2022-03-22T13:58:17.034Z"
   },
   {
    "duration": 0,
    "start_time": "2022-03-22T13:58:17.035Z"
   },
   {
    "duration": 0,
    "start_time": "2022-03-22T13:58:17.036Z"
   },
   {
    "duration": 0,
    "start_time": "2022-03-22T13:58:17.037Z"
   },
   {
    "duration": 0,
    "start_time": "2022-03-22T13:58:17.038Z"
   },
   {
    "duration": 0,
    "start_time": "2022-03-22T13:58:17.040Z"
   },
   {
    "duration": 0,
    "start_time": "2022-03-22T13:58:17.041Z"
   },
   {
    "duration": 0,
    "start_time": "2022-03-22T13:58:17.042Z"
   },
   {
    "duration": 0,
    "start_time": "2022-03-22T13:58:17.043Z"
   },
   {
    "duration": 0,
    "start_time": "2022-03-22T13:58:17.044Z"
   },
   {
    "duration": 0,
    "start_time": "2022-03-22T13:58:17.046Z"
   },
   {
    "duration": 0,
    "start_time": "2022-03-22T13:58:17.047Z"
   },
   {
    "duration": 0,
    "start_time": "2022-03-22T13:58:17.048Z"
   },
   {
    "duration": 0,
    "start_time": "2022-03-22T13:58:17.049Z"
   },
   {
    "duration": 0,
    "start_time": "2022-03-22T13:58:17.050Z"
   },
   {
    "duration": 0,
    "start_time": "2022-03-22T13:58:17.051Z"
   },
   {
    "duration": 0,
    "start_time": "2022-03-22T13:58:17.052Z"
   },
   {
    "duration": 0,
    "start_time": "2022-03-22T13:58:17.053Z"
   },
   {
    "duration": 0,
    "start_time": "2022-03-22T13:58:17.054Z"
   },
   {
    "duration": 0,
    "start_time": "2022-03-22T13:58:17.055Z"
   },
   {
    "duration": 0,
    "start_time": "2022-03-22T13:58:17.056Z"
   },
   {
    "duration": 0,
    "start_time": "2022-03-22T13:58:17.057Z"
   },
   {
    "duration": 0,
    "start_time": "2022-03-22T13:58:17.058Z"
   },
   {
    "duration": 0,
    "start_time": "2022-03-22T13:58:17.059Z"
   },
   {
    "duration": 0,
    "start_time": "2022-03-22T13:58:17.060Z"
   },
   {
    "duration": 0,
    "start_time": "2022-03-22T13:58:17.061Z"
   },
   {
    "duration": 0,
    "start_time": "2022-03-22T13:58:17.062Z"
   },
   {
    "duration": 0,
    "start_time": "2022-03-22T13:58:17.063Z"
   },
   {
    "duration": 0,
    "start_time": "2022-03-22T13:58:17.064Z"
   },
   {
    "duration": 0,
    "start_time": "2022-03-22T13:58:17.066Z"
   },
   {
    "duration": 0,
    "start_time": "2022-03-22T13:58:17.067Z"
   },
   {
    "duration": 0,
    "start_time": "2022-03-22T13:58:17.068Z"
   },
   {
    "duration": 0,
    "start_time": "2022-03-22T13:58:17.069Z"
   },
   {
    "duration": 0,
    "start_time": "2022-03-22T13:58:17.070Z"
   },
   {
    "duration": 0,
    "start_time": "2022-03-22T13:58:17.071Z"
   },
   {
    "duration": 0,
    "start_time": "2022-03-22T13:58:17.132Z"
   },
   {
    "duration": 0,
    "start_time": "2022-03-22T13:58:17.133Z"
   },
   {
    "duration": 0,
    "start_time": "2022-03-22T13:58:17.134Z"
   },
   {
    "duration": 0,
    "start_time": "2022-03-22T13:58:17.135Z"
   },
   {
    "duration": 3,
    "start_time": "2022-03-22T13:58:51.193Z"
   },
   {
    "duration": 3,
    "start_time": "2022-03-22T13:58:54.009Z"
   },
   {
    "duration": 75,
    "start_time": "2022-03-22T13:58:54.013Z"
   },
   {
    "duration": 4,
    "start_time": "2022-03-22T13:58:54.091Z"
   },
   {
    "duration": 41,
    "start_time": "2022-03-22T13:58:54.097Z"
   },
   {
    "duration": 0,
    "start_time": "2022-03-22T13:58:54.141Z"
   },
   {
    "duration": 0,
    "start_time": "2022-03-22T13:58:54.142Z"
   },
   {
    "duration": 0,
    "start_time": "2022-03-22T13:58:54.143Z"
   },
   {
    "duration": 0,
    "start_time": "2022-03-22T13:58:54.144Z"
   },
   {
    "duration": 0,
    "start_time": "2022-03-22T13:58:54.145Z"
   },
   {
    "duration": 0,
    "start_time": "2022-03-22T13:58:54.146Z"
   },
   {
    "duration": 0,
    "start_time": "2022-03-22T13:58:54.147Z"
   },
   {
    "duration": 0,
    "start_time": "2022-03-22T13:58:54.148Z"
   },
   {
    "duration": 0,
    "start_time": "2022-03-22T13:58:54.148Z"
   },
   {
    "duration": 0,
    "start_time": "2022-03-22T13:58:54.149Z"
   },
   {
    "duration": 0,
    "start_time": "2022-03-22T13:58:54.150Z"
   },
   {
    "duration": 0,
    "start_time": "2022-03-22T13:58:54.151Z"
   },
   {
    "duration": 0,
    "start_time": "2022-03-22T13:58:54.152Z"
   },
   {
    "duration": 0,
    "start_time": "2022-03-22T13:58:54.154Z"
   },
   {
    "duration": 0,
    "start_time": "2022-03-22T13:58:54.155Z"
   },
   {
    "duration": 0,
    "start_time": "2022-03-22T13:58:54.155Z"
   },
   {
    "duration": 0,
    "start_time": "2022-03-22T13:58:54.157Z"
   },
   {
    "duration": 0,
    "start_time": "2022-03-22T13:58:54.157Z"
   },
   {
    "duration": 0,
    "start_time": "2022-03-22T13:58:54.158Z"
   },
   {
    "duration": 0,
    "start_time": "2022-03-22T13:58:54.159Z"
   },
   {
    "duration": 0,
    "start_time": "2022-03-22T13:58:54.161Z"
   },
   {
    "duration": 0,
    "start_time": "2022-03-22T13:58:54.161Z"
   },
   {
    "duration": 0,
    "start_time": "2022-03-22T13:58:54.162Z"
   },
   {
    "duration": 0,
    "start_time": "2022-03-22T13:58:54.164Z"
   },
   {
    "duration": 0,
    "start_time": "2022-03-22T13:58:54.165Z"
   },
   {
    "duration": 0,
    "start_time": "2022-03-22T13:58:54.166Z"
   },
   {
    "duration": 0,
    "start_time": "2022-03-22T13:58:54.167Z"
   },
   {
    "duration": 0,
    "start_time": "2022-03-22T13:58:54.167Z"
   },
   {
    "duration": 0,
    "start_time": "2022-03-22T13:58:54.169Z"
   },
   {
    "duration": 0,
    "start_time": "2022-03-22T13:58:54.170Z"
   },
   {
    "duration": 0,
    "start_time": "2022-03-22T13:58:54.171Z"
   },
   {
    "duration": 0,
    "start_time": "2022-03-22T13:58:54.172Z"
   },
   {
    "duration": 0,
    "start_time": "2022-03-22T13:58:54.173Z"
   },
   {
    "duration": 0,
    "start_time": "2022-03-22T13:58:54.174Z"
   },
   {
    "duration": 0,
    "start_time": "2022-03-22T13:58:54.232Z"
   },
   {
    "duration": 0,
    "start_time": "2022-03-22T13:58:54.233Z"
   },
   {
    "duration": 3,
    "start_time": "2022-03-22T13:59:40.036Z"
   },
   {
    "duration": 62,
    "start_time": "2022-03-22T13:59:40.675Z"
   },
   {
    "duration": 4,
    "start_time": "2022-03-22T13:59:41.104Z"
   },
   {
    "duration": 16,
    "start_time": "2022-03-22T13:59:41.735Z"
   },
   {
    "duration": 1326,
    "start_time": "2022-03-22T14:03:16.400Z"
   },
   {
    "duration": 1058,
    "start_time": "2022-03-22T14:03:17.728Z"
   },
   {
    "duration": 3,
    "start_time": "2022-03-22T14:03:18.788Z"
   },
   {
    "duration": 6392,
    "start_time": "2022-03-22T14:03:18.793Z"
   },
   {
    "duration": 16,
    "start_time": "2022-03-22T14:03:25.186Z"
   },
   {
    "duration": 36,
    "start_time": "2022-03-22T14:03:25.203Z"
   },
   {
    "duration": 30,
    "start_time": "2022-03-22T14:03:25.241Z"
   },
   {
    "duration": 9,
    "start_time": "2022-03-22T14:03:25.273Z"
   },
   {
    "duration": 3,
    "start_time": "2022-03-22T14:03:25.284Z"
   },
   {
    "duration": 43062,
    "start_time": "2022-03-22T14:03:25.291Z"
   },
   {
    "duration": 167,
    "start_time": "2022-03-22T14:04:08.354Z"
   },
   {
    "duration": 0,
    "start_time": "2022-03-22T14:04:08.523Z"
   },
   {
    "duration": 0,
    "start_time": "2022-03-22T14:04:08.525Z"
   },
   {
    "duration": 0,
    "start_time": "2022-03-22T14:04:08.526Z"
   },
   {
    "duration": 0,
    "start_time": "2022-03-22T14:04:08.531Z"
   },
   {
    "duration": 0,
    "start_time": "2022-03-22T14:04:08.532Z"
   },
   {
    "duration": 0,
    "start_time": "2022-03-22T14:04:08.533Z"
   },
   {
    "duration": 0,
    "start_time": "2022-03-22T14:04:08.534Z"
   },
   {
    "duration": 0,
    "start_time": "2022-03-22T14:04:08.535Z"
   },
   {
    "duration": 0,
    "start_time": "2022-03-22T14:04:08.536Z"
   },
   {
    "duration": 0,
    "start_time": "2022-03-22T14:04:08.537Z"
   },
   {
    "duration": 0,
    "start_time": "2022-03-22T14:04:08.538Z"
   },
   {
    "duration": 0,
    "start_time": "2022-03-22T14:04:08.539Z"
   },
   {
    "duration": 0,
    "start_time": "2022-03-22T14:04:08.540Z"
   },
   {
    "duration": 0,
    "start_time": "2022-03-22T14:04:08.541Z"
   },
   {
    "duration": 0,
    "start_time": "2022-03-22T14:04:08.542Z"
   },
   {
    "duration": 0,
    "start_time": "2022-03-22T14:04:08.543Z"
   },
   {
    "duration": 0,
    "start_time": "2022-03-22T14:04:08.544Z"
   },
   {
    "duration": 0,
    "start_time": "2022-03-22T14:04:08.545Z"
   },
   {
    "duration": 0,
    "start_time": "2022-03-22T14:04:08.546Z"
   },
   {
    "duration": 0,
    "start_time": "2022-03-22T14:04:08.546Z"
   },
   {
    "duration": 0,
    "start_time": "2022-03-22T14:04:08.548Z"
   },
   {
    "duration": 0,
    "start_time": "2022-03-22T14:04:08.548Z"
   },
   {
    "duration": 0,
    "start_time": "2022-03-22T14:04:08.549Z"
   },
   {
    "duration": 0,
    "start_time": "2022-03-22T14:04:08.550Z"
   },
   {
    "duration": 0,
    "start_time": "2022-03-22T14:04:08.551Z"
   },
   {
    "duration": 0,
    "start_time": "2022-03-22T14:04:08.552Z"
   },
   {
    "duration": 0,
    "start_time": "2022-03-22T14:04:08.553Z"
   },
   {
    "duration": 0,
    "start_time": "2022-03-22T14:04:08.554Z"
   },
   {
    "duration": 0,
    "start_time": "2022-03-22T14:04:08.555Z"
   },
   {
    "duration": 0,
    "start_time": "2022-03-22T14:04:08.556Z"
   },
   {
    "duration": 0,
    "start_time": "2022-03-22T14:04:08.557Z"
   },
   {
    "duration": 0,
    "start_time": "2022-03-22T14:04:08.558Z"
   },
   {
    "duration": 0,
    "start_time": "2022-03-22T14:04:08.559Z"
   },
   {
    "duration": 0,
    "start_time": "2022-03-22T14:04:08.560Z"
   },
   {
    "duration": 0,
    "start_time": "2022-03-22T14:04:08.561Z"
   },
   {
    "duration": 0,
    "start_time": "2022-03-22T14:04:08.562Z"
   },
   {
    "duration": 0,
    "start_time": "2022-03-22T14:04:08.563Z"
   },
   {
    "duration": 0,
    "start_time": "2022-03-22T14:04:08.564Z"
   },
   {
    "duration": 0,
    "start_time": "2022-03-22T14:04:08.565Z"
   },
   {
    "duration": 0,
    "start_time": "2022-03-22T14:04:08.567Z"
   },
   {
    "duration": 55,
    "start_time": "2022-03-22T14:21:19.242Z"
   },
   {
    "duration": 3,
    "start_time": "2022-03-22T14:21:20.091Z"
   },
   {
    "duration": 3,
    "start_time": "2022-03-22T14:21:26.401Z"
   },
   {
    "duration": 128,
    "start_time": "2022-03-22T14:21:26.406Z"
   },
   {
    "duration": 4,
    "start_time": "2022-03-22T14:21:26.536Z"
   },
   {
    "duration": 6900,
    "start_time": "2022-03-22T14:21:26.542Z"
   },
   {
    "duration": 10,
    "start_time": "2022-03-22T14:21:33.444Z"
   },
   {
    "duration": 32,
    "start_time": "2022-03-22T14:21:33.457Z"
   },
   {
    "duration": 23,
    "start_time": "2022-03-22T14:21:33.491Z"
   },
   {
    "duration": 21,
    "start_time": "2022-03-22T14:21:33.516Z"
   },
   {
    "duration": 42,
    "start_time": "2022-03-22T14:21:33.540Z"
   },
   {
    "duration": 12,
    "start_time": "2022-03-22T14:21:33.584Z"
   },
   {
    "duration": 19,
    "start_time": "2022-03-22T14:21:33.598Z"
   },
   {
    "duration": 57576,
    "start_time": "2022-03-22T14:21:33.619Z"
   },
   {
    "duration": 1468,
    "start_time": "2022-03-22T14:22:31.197Z"
   },
   {
    "duration": 39,
    "start_time": "2022-03-22T14:22:32.670Z"
   },
   {
    "duration": 239,
    "start_time": "2022-03-22T14:22:32.710Z"
   },
   {
    "duration": 5,
    "start_time": "2022-03-22T14:22:32.951Z"
   },
   {
    "duration": 23,
    "start_time": "2022-03-22T14:22:32.958Z"
   },
   {
    "duration": 29,
    "start_time": "2022-03-22T14:22:32.982Z"
   },
   {
    "duration": 842,
    "start_time": "2022-03-22T14:22:33.013Z"
   },
   {
    "duration": 39,
    "start_time": "2022-03-22T14:22:33.857Z"
   },
   {
    "duration": 239,
    "start_time": "2022-03-22T14:22:33.898Z"
   },
   {
    "duration": 4,
    "start_time": "2022-03-22T14:22:34.140Z"
   },
   {
    "duration": 34,
    "start_time": "2022-03-22T14:22:34.146Z"
   },
   {
    "duration": 36,
    "start_time": "2022-03-22T14:22:34.183Z"
   },
   {
    "duration": 12766,
    "start_time": "2022-03-22T14:22:34.221Z"
   },
   {
    "duration": 474,
    "start_time": "2022-03-22T14:22:46.990Z"
   },
   {
    "duration": 36,
    "start_time": "2022-03-22T14:22:47.466Z"
   },
   {
    "duration": 243,
    "start_time": "2022-03-22T14:22:47.504Z"
   },
   {
    "duration": 4,
    "start_time": "2022-03-22T14:22:47.749Z"
   },
   {
    "duration": 8,
    "start_time": "2022-03-22T14:22:47.755Z"
   },
   {
    "duration": 75024,
    "start_time": "2022-03-22T14:22:47.764Z"
   },
   {
    "duration": 342,
    "start_time": "2022-03-22T14:24:02.790Z"
   },
   {
    "duration": 323,
    "start_time": "2022-03-22T14:24:03.134Z"
   },
   {
    "duration": 4,
    "start_time": "2022-03-22T14:24:03.458Z"
   },
   {
    "duration": 198,
    "start_time": "2022-03-22T14:24:03.464Z"
   },
   {
    "duration": 292,
    "start_time": "2022-03-22T14:24:03.664Z"
   },
   {
    "duration": 205,
    "start_time": "2022-03-22T14:24:03.958Z"
   },
   {
    "duration": 285,
    "start_time": "2022-03-22T14:24:04.165Z"
   },
   {
    "duration": 5,
    "start_time": "2022-03-22T14:24:04.452Z"
   },
   {
    "duration": 12,
    "start_time": "2022-03-22T14:24:04.458Z"
   },
   {
    "duration": 13,
    "start_time": "2022-03-22T14:28:11.987Z"
   },
   {
    "duration": 14,
    "start_time": "2022-03-22T14:46:28.817Z"
   },
   {
    "duration": 10,
    "start_time": "2022-03-22T14:46:34.745Z"
   },
   {
    "duration": 9,
    "start_time": "2022-03-22T14:46:53.859Z"
   },
   {
    "duration": 8,
    "start_time": "2022-03-22T14:57:37.467Z"
   },
   {
    "duration": 1304,
    "start_time": "2022-03-22T15:04:00.441Z"
   },
   {
    "duration": 668,
    "start_time": "2022-03-22T15:04:01.747Z"
   },
   {
    "duration": 3,
    "start_time": "2022-03-22T15:04:02.417Z"
   },
   {
    "duration": 3985,
    "start_time": "2022-03-22T15:04:02.422Z"
   },
   {
    "duration": 22,
    "start_time": "2022-03-22T15:04:06.409Z"
   },
   {
    "duration": 27,
    "start_time": "2022-03-22T15:04:06.433Z"
   },
   {
    "duration": 33,
    "start_time": "2022-03-22T15:04:06.462Z"
   },
   {
    "duration": 8,
    "start_time": "2022-03-22T15:04:06.497Z"
   },
   {
    "duration": 25,
    "start_time": "2022-03-22T15:04:06.507Z"
   },
   {
    "duration": 42312,
    "start_time": "2022-03-22T15:04:06.535Z"
   },
   {
    "duration": 56,
    "start_time": "2022-03-22T15:04:48.849Z"
   },
   {
    "duration": 4,
    "start_time": "2022-03-22T15:04:48.907Z"
   },
   {
    "duration": 100,
    "start_time": "2022-03-22T15:04:48.912Z"
   },
   {
    "duration": 5,
    "start_time": "2022-03-22T15:04:49.014Z"
   },
   {
    "duration": 6889,
    "start_time": "2022-03-22T15:04:49.032Z"
   },
   {
    "duration": 9,
    "start_time": "2022-03-22T15:04:55.924Z"
   },
   {
    "duration": 20,
    "start_time": "2022-03-22T15:04:55.935Z"
   },
   {
    "duration": 6,
    "start_time": "2022-03-22T15:04:55.958Z"
   },
   {
    "duration": 14,
    "start_time": "2022-03-22T15:04:55.966Z"
   },
   {
    "duration": 31,
    "start_time": "2022-03-22T15:04:55.981Z"
   },
   {
    "duration": 23,
    "start_time": "2022-03-22T15:04:56.013Z"
   },
   {
    "duration": 3,
    "start_time": "2022-03-22T15:04:56.038Z"
   },
   {
    "duration": 57817,
    "start_time": "2022-03-22T15:04:56.043Z"
   },
   {
    "duration": 1517,
    "start_time": "2022-03-22T15:05:53.863Z"
   },
   {
    "duration": 34,
    "start_time": "2022-03-22T15:05:55.381Z"
   },
   {
    "duration": 226,
    "start_time": "2022-03-22T15:05:55.417Z"
   },
   {
    "duration": 4,
    "start_time": "2022-03-22T15:05:55.645Z"
   },
   {
    "duration": 14,
    "start_time": "2022-03-22T15:05:55.654Z"
   },
   {
    "duration": 15,
    "start_time": "2022-03-22T15:05:55.669Z"
   },
   {
    "duration": 692,
    "start_time": "2022-03-22T15:05:55.686Z"
   },
   {
    "duration": 51,
    "start_time": "2022-03-22T15:05:56.380Z"
   },
   {
    "duration": 214,
    "start_time": "2022-03-22T15:05:56.433Z"
   },
   {
    "duration": 4,
    "start_time": "2022-03-22T15:05:56.648Z"
   },
   {
    "duration": 17,
    "start_time": "2022-03-22T15:05:56.653Z"
   },
   {
    "duration": 12973,
    "start_time": "2022-03-22T15:05:56.672Z"
   },
   {
    "duration": 475,
    "start_time": "2022-03-22T15:06:09.647Z"
   },
   {
    "duration": 36,
    "start_time": "2022-03-22T15:06:10.124Z"
   },
   {
    "duration": 188,
    "start_time": "2022-03-22T15:06:10.162Z"
   },
   {
    "duration": 3,
    "start_time": "2022-03-22T15:06:10.352Z"
   },
   {
    "duration": 7,
    "start_time": "2022-03-22T15:06:10.357Z"
   },
   {
    "duration": 74336,
    "start_time": "2022-03-22T15:06:10.365Z"
   },
   {
    "duration": 347,
    "start_time": "2022-03-22T15:07:24.703Z"
   },
   {
    "duration": 292,
    "start_time": "2022-03-22T15:07:25.052Z"
   },
   {
    "duration": 3,
    "start_time": "2022-03-22T15:07:25.346Z"
   },
   {
    "duration": 14,
    "start_time": "2022-03-22T15:07:25.351Z"
   },
   {
    "duration": 189,
    "start_time": "2022-03-22T15:07:25.367Z"
   },
   {
    "duration": 283,
    "start_time": "2022-03-22T15:07:25.558Z"
   },
   {
    "duration": 202,
    "start_time": "2022-03-22T15:07:25.842Z"
   },
   {
    "duration": 296,
    "start_time": "2022-03-22T15:07:26.046Z"
   },
   {
    "duration": 5,
    "start_time": "2022-03-22T15:07:26.344Z"
   },
   {
    "duration": 14,
    "start_time": "2022-03-22T15:07:26.351Z"
   },
   {
    "duration": 54,
    "start_time": "2022-03-23T13:28:57.542Z"
   },
   {
    "duration": 1302,
    "start_time": "2022-03-23T13:29:03.111Z"
   },
   {
    "duration": 508,
    "start_time": "2022-03-23T13:29:04.415Z"
   },
   {
    "duration": 3,
    "start_time": "2022-03-23T13:29:04.925Z"
   },
   {
    "duration": 2318,
    "start_time": "2022-03-23T13:29:04.929Z"
   },
   {
    "duration": 20,
    "start_time": "2022-03-23T13:29:07.249Z"
   },
   {
    "duration": 49,
    "start_time": "2022-03-23T13:29:07.270Z"
   },
   {
    "duration": 126,
    "start_time": "2022-03-23T13:29:07.320Z"
   },
   {
    "duration": 40,
    "start_time": "2022-03-23T13:29:07.448Z"
   },
   {
    "duration": 19,
    "start_time": "2022-03-23T13:29:07.489Z"
   },
   {
    "duration": 40756,
    "start_time": "2022-03-23T13:29:07.509Z"
   },
   {
    "duration": 60,
    "start_time": "2022-03-23T13:29:48.268Z"
   },
   {
    "duration": 2446,
    "start_time": "2022-03-23T13:29:48.330Z"
   },
   {
    "duration": 93,
    "start_time": "2022-03-23T13:29:50.778Z"
   },
   {
    "duration": 5,
    "start_time": "2022-03-23T13:29:50.873Z"
   },
   {
    "duration": 86,
    "start_time": "2022-03-23T13:29:55.881Z"
   },
   {
    "duration": 5,
    "start_time": "2022-03-23T13:30:07.240Z"
   },
   {
    "duration": 6654,
    "start_time": "2022-03-23T13:30:07.790Z"
   },
   {
    "duration": 1157,
    "start_time": "2022-03-23T13:30:29.306Z"
   },
   {
    "duration": 564,
    "start_time": "2022-03-23T13:30:30.464Z"
   },
   {
    "duration": 3,
    "start_time": "2022-03-23T13:30:31.030Z"
   },
   {
    "duration": 1769,
    "start_time": "2022-03-23T13:30:31.035Z"
   },
   {
    "duration": 101,
    "start_time": "2022-03-23T13:30:32.806Z"
   },
   {
    "duration": 34,
    "start_time": "2022-03-23T13:30:32.909Z"
   },
   {
    "duration": 52,
    "start_time": "2022-03-23T13:30:32.945Z"
   },
   {
    "duration": 22,
    "start_time": "2022-03-23T13:30:32.999Z"
   },
   {
    "duration": 21,
    "start_time": "2022-03-23T13:30:33.022Z"
   },
   {
    "duration": 40939,
    "start_time": "2022-03-23T13:30:33.046Z"
   },
   {
    "duration": 60,
    "start_time": "2022-03-23T13:31:13.987Z"
   },
   {
    "duration": 16,
    "start_time": "2022-03-23T13:31:14.048Z"
   },
   {
    "duration": 90,
    "start_time": "2022-03-23T13:31:14.065Z"
   },
   {
    "duration": 9,
    "start_time": "2022-03-23T13:31:14.156Z"
   },
   {
    "duration": 6533,
    "start_time": "2022-03-23T13:31:14.167Z"
   },
   {
    "duration": 6,
    "start_time": "2022-03-23T13:31:20.701Z"
   },
   {
    "duration": 13,
    "start_time": "2022-03-23T13:31:20.708Z"
   },
   {
    "duration": 9,
    "start_time": "2022-03-23T13:31:20.722Z"
   },
   {
    "duration": 12,
    "start_time": "2022-03-23T13:31:20.733Z"
   },
   {
    "duration": 35,
    "start_time": "2022-03-23T13:31:20.747Z"
   },
   {
    "duration": 12,
    "start_time": "2022-03-23T13:31:20.784Z"
   },
   {
    "duration": 5,
    "start_time": "2022-03-23T13:31:20.797Z"
   },
   {
    "duration": 57937,
    "start_time": "2022-03-23T13:31:20.803Z"
   },
   {
    "duration": 1394,
    "start_time": "2022-03-23T13:32:18.742Z"
   },
   {
    "duration": 43,
    "start_time": "2022-03-23T13:32:20.137Z"
   },
   {
    "duration": 209,
    "start_time": "2022-03-23T13:32:20.181Z"
   },
   {
    "duration": 5,
    "start_time": "2022-03-23T13:32:20.391Z"
   },
   {
    "duration": 4,
    "start_time": "2022-03-23T13:32:20.399Z"
   },
   {
    "duration": 3,
    "start_time": "2022-03-23T13:32:20.405Z"
   },
   {
    "duration": 607,
    "start_time": "2022-03-23T13:32:20.410Z"
   },
   {
    "duration": 45,
    "start_time": "2022-03-23T13:32:21.018Z"
   },
   {
    "duration": 128,
    "start_time": "2022-03-23T13:32:21.065Z"
   },
   {
    "duration": 4,
    "start_time": "2022-03-23T13:32:21.264Z"
   },
   {
    "duration": 7,
    "start_time": "2022-03-23T13:32:21.269Z"
   },
   {
    "duration": 12162,
    "start_time": "2022-03-23T13:32:21.278Z"
   },
   {
    "duration": 450,
    "start_time": "2022-03-23T13:32:33.442Z"
   },
   {
    "duration": 33,
    "start_time": "2022-03-23T13:32:33.894Z"
   },
   {
    "duration": 161,
    "start_time": "2022-03-23T13:32:33.929Z"
   },
   {
    "duration": 73,
    "start_time": "2022-03-23T13:32:34.092Z"
   },
   {
    "duration": 9,
    "start_time": "2022-03-23T13:32:34.166Z"
   },
   {
    "duration": 70075,
    "start_time": "2022-03-23T13:32:34.177Z"
   },
   {
    "duration": 297,
    "start_time": "2022-03-23T13:33:44.253Z"
   },
   {
    "duration": 230,
    "start_time": "2022-03-23T13:33:44.552Z"
   },
   {
    "duration": 4,
    "start_time": "2022-03-23T13:33:44.784Z"
   },
   {
    "duration": 9,
    "start_time": "2022-03-23T13:33:44.862Z"
   },
   {
    "duration": 211,
    "start_time": "2022-03-23T13:33:44.872Z"
   },
   {
    "duration": 200,
    "start_time": "2022-03-23T13:33:45.085Z"
   },
   {
    "duration": 198,
    "start_time": "2022-03-23T13:33:45.287Z"
   },
   {
    "duration": 291,
    "start_time": "2022-03-23T13:33:45.487Z"
   },
   {
    "duration": 5,
    "start_time": "2022-03-23T13:33:45.780Z"
   },
   {
    "duration": 11,
    "start_time": "2022-03-23T13:33:45.787Z"
   },
   {
    "duration": 268,
    "start_time": "2022-03-23T13:40:07.004Z"
   },
   {
    "duration": 146,
    "start_time": "2022-03-23T13:40:11.907Z"
   },
   {
    "duration": 395,
    "start_time": "2022-03-23T13:40:20.786Z"
   },
   {
    "duration": 356,
    "start_time": "2022-03-23T13:41:32.736Z"
   },
   {
    "duration": 313,
    "start_time": "2022-03-23T13:42:36.171Z"
   },
   {
    "duration": 275,
    "start_time": "2022-03-23T13:45:37.303Z"
   },
   {
    "duration": 1223,
    "start_time": "2022-03-23T13:45:52.684Z"
   },
   {
    "duration": 605,
    "start_time": "2022-03-23T13:45:53.909Z"
   },
   {
    "duration": 3,
    "start_time": "2022-03-23T13:45:54.516Z"
   },
   {
    "duration": 2235,
    "start_time": "2022-03-23T13:45:54.521Z"
   },
   {
    "duration": 111,
    "start_time": "2022-03-23T13:45:56.757Z"
   },
   {
    "duration": 30,
    "start_time": "2022-03-23T13:45:56.869Z"
   },
   {
    "duration": 40,
    "start_time": "2022-03-23T13:45:56.901Z"
   },
   {
    "duration": 41,
    "start_time": "2022-03-23T13:45:56.943Z"
   },
   {
    "duration": 4,
    "start_time": "2022-03-23T13:45:56.985Z"
   },
   {
    "duration": 42472,
    "start_time": "2022-03-23T13:45:56.992Z"
   },
   {
    "duration": 59,
    "start_time": "2022-03-23T13:46:39.466Z"
   },
   {
    "duration": 4,
    "start_time": "2022-03-23T13:46:39.527Z"
   },
   {
    "duration": 111,
    "start_time": "2022-03-23T13:46:39.533Z"
   },
   {
    "duration": 5,
    "start_time": "2022-03-23T13:46:39.647Z"
   },
   {
    "duration": 7097,
    "start_time": "2022-03-23T13:46:39.662Z"
   },
   {
    "duration": 6,
    "start_time": "2022-03-23T13:46:46.763Z"
   },
   {
    "duration": 21,
    "start_time": "2022-03-23T13:46:46.771Z"
   },
   {
    "duration": 15,
    "start_time": "2022-03-23T13:46:46.794Z"
   },
   {
    "duration": 279,
    "start_time": "2022-03-23T13:46:46.810Z"
   },
   {
    "duration": 4,
    "start_time": "2022-03-23T13:46:47.091Z"
   },
   {
    "duration": 58291,
    "start_time": "2022-03-23T13:46:47.096Z"
   },
   {
    "duration": 1433,
    "start_time": "2022-03-23T13:47:45.389Z"
   },
   {
    "duration": 43,
    "start_time": "2022-03-23T13:47:46.824Z"
   },
   {
    "duration": 231,
    "start_time": "2022-03-23T13:47:46.870Z"
   },
   {
    "duration": 4,
    "start_time": "2022-03-23T13:47:47.103Z"
   },
   {
    "duration": 24,
    "start_time": "2022-03-23T13:47:47.109Z"
   },
   {
    "duration": 29,
    "start_time": "2022-03-23T13:47:47.135Z"
   },
   {
    "duration": 664,
    "start_time": "2022-03-23T13:47:47.168Z"
   },
   {
    "duration": 44,
    "start_time": "2022-03-23T13:47:47.834Z"
   },
   {
    "duration": 187,
    "start_time": "2022-03-23T13:47:47.880Z"
   },
   {
    "duration": 4,
    "start_time": "2022-03-23T13:47:48.069Z"
   },
   {
    "duration": 10,
    "start_time": "2022-03-23T13:47:48.075Z"
   },
   {
    "duration": 12217,
    "start_time": "2022-03-23T13:47:48.087Z"
   },
   {
    "duration": 483,
    "start_time": "2022-03-23T13:48:00.305Z"
   },
   {
    "duration": 36,
    "start_time": "2022-03-23T13:48:00.790Z"
   },
   {
    "duration": 163,
    "start_time": "2022-03-23T13:48:00.828Z"
   },
   {
    "duration": 4,
    "start_time": "2022-03-23T13:48:01.063Z"
   },
   {
    "duration": 20,
    "start_time": "2022-03-23T13:48:01.069Z"
   },
   {
    "duration": 72974,
    "start_time": "2022-03-23T13:48:01.091Z"
   },
   {
    "duration": 310,
    "start_time": "2022-03-23T13:49:14.066Z"
   },
   {
    "duration": 217,
    "start_time": "2022-03-23T13:49:14.378Z"
   },
   {
    "duration": 4,
    "start_time": "2022-03-23T13:49:14.664Z"
   },
   {
    "duration": 14,
    "start_time": "2022-03-23T13:49:14.670Z"
   },
   {
    "duration": 186,
    "start_time": "2022-03-23T13:49:14.686Z"
   },
   {
    "duration": 210,
    "start_time": "2022-03-23T13:49:14.874Z"
   },
   {
    "duration": 205,
    "start_time": "2022-03-23T13:49:15.086Z"
   },
   {
    "duration": 300,
    "start_time": "2022-03-23T13:49:15.365Z"
   },
   {
    "duration": 5,
    "start_time": "2022-03-23T13:49:15.667Z"
   },
   {
    "duration": 13,
    "start_time": "2022-03-23T13:49:15.673Z"
   },
   {
    "duration": 4,
    "start_time": "2022-03-23T13:50:05.275Z"
   },
   {
    "duration": 140202,
    "start_time": "2022-03-23T13:50:05.935Z"
   },
   {
    "duration": 392,
    "start_time": "2022-03-23T13:52:26.139Z"
   },
   {
    "duration": 254,
    "start_time": "2022-03-23T13:52:26.532Z"
   },
   {
    "duration": 4,
    "start_time": "2022-03-23T13:52:26.788Z"
   },
   {
    "duration": 8,
    "start_time": "2022-03-23T13:52:26.863Z"
   },
   {
    "duration": 192,
    "start_time": "2022-03-23T13:52:26.873Z"
   },
   {
    "duration": 199,
    "start_time": "2022-03-23T13:52:27.066Z"
   },
   {
    "duration": 220,
    "start_time": "2022-03-23T13:52:27.266Z"
   },
   {
    "duration": 297,
    "start_time": "2022-03-23T13:52:27.489Z"
   },
   {
    "duration": 75,
    "start_time": "2022-03-23T13:52:27.788Z"
   },
   {
    "duration": 11,
    "start_time": "2022-03-23T13:52:27.865Z"
   },
   {
    "duration": 3,
    "start_time": "2022-03-23T13:52:52.224Z"
   },
   {
    "duration": 3,
    "start_time": "2022-03-23T13:52:57.209Z"
   },
   {
    "duration": 203845,
    "start_time": "2022-03-23T13:52:57.214Z"
   },
   {
    "duration": 486,
    "start_time": "2022-03-23T13:56:21.061Z"
   },
   {
    "duration": 318,
    "start_time": "2022-03-23T13:56:21.548Z"
   },
   {
    "duration": 4,
    "start_time": "2022-03-23T13:56:21.868Z"
   },
   {
    "duration": 13,
    "start_time": "2022-03-23T13:56:21.874Z"
   },
   {
    "duration": 192,
    "start_time": "2022-03-23T13:56:21.889Z"
   },
   {
    "duration": 207,
    "start_time": "2022-03-23T13:56:22.083Z"
   },
   {
    "duration": 200,
    "start_time": "2022-03-23T13:56:22.292Z"
   },
   {
    "duration": 335,
    "start_time": "2022-03-23T13:56:22.562Z"
   },
   {
    "duration": 6,
    "start_time": "2022-03-23T13:56:22.962Z"
   },
   {
    "duration": 15,
    "start_time": "2022-03-23T13:56:22.970Z"
   },
   {
    "duration": 4,
    "start_time": "2022-03-23T14:12:20.815Z"
   },
   {
    "duration": 8,
    "start_time": "2022-03-23T14:12:21.655Z"
   },
   {
    "duration": 5,
    "start_time": "2022-03-23T14:12:38.214Z"
   },
   {
    "duration": 10,
    "start_time": "2022-03-23T14:14:59.664Z"
   },
   {
    "duration": 1142,
    "start_time": "2022-03-23T14:15:27.812Z"
   },
   {
    "duration": 519,
    "start_time": "2022-03-23T14:15:28.956Z"
   },
   {
    "duration": 3,
    "start_time": "2022-03-23T14:15:29.477Z"
   },
   {
    "duration": 2169,
    "start_time": "2022-03-23T14:15:29.481Z"
   },
   {
    "duration": 114,
    "start_time": "2022-03-23T14:15:31.653Z"
   },
   {
    "duration": 42,
    "start_time": "2022-03-23T14:15:31.769Z"
   },
   {
    "duration": 51,
    "start_time": "2022-03-23T14:15:31.813Z"
   },
   {
    "duration": 35,
    "start_time": "2022-03-23T14:15:31.866Z"
   },
   {
    "duration": 21,
    "start_time": "2022-03-23T14:15:31.902Z"
   },
   {
    "duration": 40828,
    "start_time": "2022-03-23T14:15:31.925Z"
   },
   {
    "duration": 86,
    "start_time": "2022-03-23T14:16:12.755Z"
   },
   {
    "duration": 3,
    "start_time": "2022-03-23T14:16:12.843Z"
   },
   {
    "duration": 115,
    "start_time": "2022-03-23T14:16:12.848Z"
   },
   {
    "duration": 4,
    "start_time": "2022-03-23T14:16:12.966Z"
   },
   {
    "duration": 6861,
    "start_time": "2022-03-23T14:16:12.971Z"
   },
   {
    "duration": 5,
    "start_time": "2022-03-23T14:16:19.834Z"
   },
   {
    "duration": 9,
    "start_time": "2022-03-23T14:16:19.841Z"
   },
   {
    "duration": 11,
    "start_time": "2022-03-23T14:16:19.852Z"
   },
   {
    "duration": 225,
    "start_time": "2022-03-23T14:16:19.865Z"
   },
   {
    "duration": 76,
    "start_time": "2022-03-23T14:16:20.092Z"
   },
   {
    "duration": 58422,
    "start_time": "2022-03-23T14:16:20.169Z"
   },
   {
    "duration": 1394,
    "start_time": "2022-03-23T14:17:18.593Z"
   },
   {
    "duration": 36,
    "start_time": "2022-03-23T14:17:19.988Z"
   },
   {
    "duration": 245,
    "start_time": "2022-03-23T14:17:20.026Z"
   },
   {
    "duration": 4,
    "start_time": "2022-03-23T14:17:20.273Z"
   },
   {
    "duration": 9,
    "start_time": "2022-03-23T14:17:20.278Z"
   },
   {
    "duration": 11,
    "start_time": "2022-03-23T14:17:20.288Z"
   },
   {
    "duration": 642,
    "start_time": "2022-03-23T14:17:20.300Z"
   },
   {
    "duration": 55,
    "start_time": "2022-03-23T14:17:20.945Z"
   },
   {
    "duration": 194,
    "start_time": "2022-03-23T14:17:21.003Z"
   },
   {
    "duration": 4,
    "start_time": "2022-03-23T14:17:21.199Z"
   },
   {
    "duration": 59,
    "start_time": "2022-03-23T14:17:21.204Z"
   },
   {
    "duration": 12400,
    "start_time": "2022-03-23T14:17:21.265Z"
   },
   {
    "duration": 496,
    "start_time": "2022-03-23T14:17:33.667Z"
   },
   {
    "duration": 33,
    "start_time": "2022-03-23T14:17:34.165Z"
   },
   {
    "duration": 178,
    "start_time": "2022-03-23T14:17:34.199Z"
   },
   {
    "duration": 4,
    "start_time": "2022-03-23T14:17:34.379Z"
   },
   {
    "duration": 7,
    "start_time": "2022-03-23T14:17:34.385Z"
   },
   {
    "duration": 204444,
    "start_time": "2022-03-23T14:17:34.394Z"
   },
   {
    "duration": 467,
    "start_time": "2022-03-23T14:20:58.840Z"
   },
   {
    "duration": 280,
    "start_time": "2022-03-23T14:20:59.311Z"
   },
   {
    "duration": 72,
    "start_time": "2022-03-23T14:20:59.593Z"
   },
   {
    "duration": 13,
    "start_time": "2022-03-23T14:20:59.667Z"
   },
   {
    "duration": 184,
    "start_time": "2022-03-23T14:20:59.681Z"
   },
   {
    "duration": 201,
    "start_time": "2022-03-23T14:20:59.866Z"
   },
   {
    "duration": 196,
    "start_time": "2022-03-23T14:21:00.069Z"
   },
   {
    "duration": 306,
    "start_time": "2022-03-23T14:21:00.266Z"
   },
   {
    "duration": 5,
    "start_time": "2022-03-23T14:21:00.575Z"
   },
   {
    "duration": 49,
    "start_time": "2022-03-23T14:21:00.582Z"
   },
   {
    "duration": 1302,
    "start_time": "2022-03-24T11:01:25.281Z"
   },
   {
    "duration": 624,
    "start_time": "2022-03-24T11:01:26.585Z"
   },
   {
    "duration": 3,
    "start_time": "2022-03-24T11:01:27.211Z"
   },
   {
    "duration": 6994,
    "start_time": "2022-03-24T11:01:27.215Z"
   },
   {
    "duration": 102,
    "start_time": "2022-03-24T11:01:34.211Z"
   },
   {
    "duration": 33,
    "start_time": "2022-03-24T11:01:34.315Z"
   },
   {
    "duration": 80,
    "start_time": "2022-03-24T11:01:34.349Z"
   },
   {
    "duration": 49,
    "start_time": "2022-03-24T11:01:34.431Z"
   },
   {
    "duration": 47,
    "start_time": "2022-03-24T11:01:34.482Z"
   },
   {
    "duration": 39224,
    "start_time": "2022-03-24T11:01:34.531Z"
   },
   {
    "duration": 67,
    "start_time": "2022-03-24T11:02:13.757Z"
   },
   {
    "duration": 11,
    "start_time": "2022-03-24T11:02:13.826Z"
   },
   {
    "duration": 100,
    "start_time": "2022-03-24T11:02:13.839Z"
   },
   {
    "duration": 3,
    "start_time": "2022-03-24T11:02:13.941Z"
   },
   {
    "duration": 6512,
    "start_time": "2022-03-24T11:02:13.946Z"
   },
   {
    "duration": 5,
    "start_time": "2022-03-24T11:02:20.460Z"
   },
   {
    "duration": 19,
    "start_time": "2022-03-24T11:02:20.466Z"
   },
   {
    "duration": 10,
    "start_time": "2022-03-24T11:02:20.487Z"
   },
   {
    "duration": 168,
    "start_time": "2022-03-24T11:02:20.498Z"
   },
   {
    "duration": 282,
    "start_time": "2022-03-24T11:04:10.110Z"
   },
   {
    "duration": 228,
    "start_time": "2022-03-24T11:04:32.532Z"
   },
   {
    "duration": 260,
    "start_time": "2022-03-24T11:04:39.177Z"
   },
   {
    "duration": 211,
    "start_time": "2022-03-24T11:04:46.553Z"
   }
  ],
  "kernelspec": {
   "display_name": "Python 3",
   "language": "python",
   "name": "python3"
  },
  "language_info": {
   "codemirror_mode": {
    "name": "ipython",
    "version": 3
   },
   "file_extension": ".py",
   "mimetype": "text/x-python",
   "name": "python",
   "nbconvert_exporter": "python",
   "pygments_lexer": "ipython3",
   "version": "3.8.8"
  },
  "toc": {
   "base_numbering": 1,
   "nav_menu": {},
   "number_sections": true,
   "sideBar": true,
   "skip_h1_title": true,
   "title_cell": "Содержание",
   "title_sidebar": "Contents",
   "toc_cell": true,
   "toc_position": {
    "height": "calc(100% - 180px)",
    "left": "10px",
    "top": "150px",
    "width": "302.391px"
   },
   "toc_section_display": true,
   "toc_window_display": true
  }
 },
 "nbformat": 4,
 "nbformat_minor": 4
}
