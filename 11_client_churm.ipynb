{
 "cells": [
  {
   "cell_type": "markdown",
   "metadata": {},
   "source": [
    "# Отток клиентов"
   ]
  },
  {
   "cell_type": "markdown",
   "metadata": {},
   "source": [
    "Из «Бета-Банка» стали уходить клиенты. Каждый месяц. Немного, но заметно. Банковские маркетологи посчитали: сохранять текущих клиентов дешевле, чем привлекать новых.\n",
    "\n",
    "Нужно спрогнозировать, уйдёт клиент из банка в ближайшее время или нет. Вам предоставлены исторические данные о поведении клиентов и расторжении договоров с банком. \n",
    "\n",
    "Постройте модель с предельно большим значением *F1*-меры. Чтобы сдать проект успешно, нужно довести метрику до 0.59. Проверьте *F1*-меру на тестовой выборке самостоятельно.\n",
    "\n",
    "Дополнительно измеряйте *AUC-ROC*, сравнивайте её значение с *F1*-мерой.\n",
    "\n",
    "Источник данных: [https://www.kaggle.com/barelydedicated/bank-customer-churn-modeling](https://www.kaggle.com/barelydedicated/bank-customer-churn-modeling)"
   ]
  },
  {
   "cell_type": "markdown",
   "metadata": {},
   "source": [
    "## Подготовка данных"
   ]
  },
  {
   "cell_type": "code",
   "execution_count": 1,
   "metadata": {},
   "outputs": [],
   "source": [
    "import pandas as pd\n",
    "import numpy as np\n",
    "import seaborn as sns\n",
    "import matplotlib.pyplot as plt\n",
    "from sklearn.model_selection import train_test_split\n",
    "from sklearn.linear_model import LogisticRegression\n",
    "from sklearn.tree import DecisionTreeClassifier\n",
    "from sklearn.preprocessing import StandardScaler \n",
    "from sklearn.tree import DecisionTreeRegressor\n",
    "from sklearn.model_selection import train_test_split\n",
    "from sklearn.metrics import  (\n",
    "    accuracy_score, f1_score, roc_auc_score, roc_curve, confusion_matrix, precision_recall_curve, precision_score,\n",
    "    recall_score\n",
    ")\n",
    "from sklearn.ensemble import RandomForestClassifier\n",
    "from sklearn.dummy import DummyClassifier\n",
    "from sklearn.utils import shuffle\n",
    "import warnings\n",
    "warnings.filterwarnings(\"ignore\")"
   ]
  },
  {
   "cell_type": "code",
   "execution_count": 2,
   "metadata": {},
   "outputs": [],
   "source": [
    "RND = 12345 "
   ]
  },
  {
   "cell_type": "code",
   "execution_count": 3,
   "metadata": {},
   "outputs": [],
   "source": [
    "df = pd.read_csv('Churn.csv')"
   ]
  },
  {
   "cell_type": "markdown",
   "metadata": {},
   "source": [
    "### Анализ данных"
   ]
  },
  {
   "cell_type": "code",
   "execution_count": 4,
   "metadata": {},
   "outputs": [
    {
     "data": {
      "text/html": [
       "<div>\n",
       "<style scoped>\n",
       "    .dataframe tbody tr th:only-of-type {\n",
       "        vertical-align: middle;\n",
       "    }\n",
       "\n",
       "    .dataframe tbody tr th {\n",
       "        vertical-align: top;\n",
       "    }\n",
       "\n",
       "    .dataframe thead th {\n",
       "        text-align: right;\n",
       "    }\n",
       "</style>\n",
       "<table border=\"1\" class=\"dataframe\">\n",
       "  <thead>\n",
       "    <tr style=\"text-align: right;\">\n",
       "      <th></th>\n",
       "      <th>RowNumber</th>\n",
       "      <th>CustomerId</th>\n",
       "      <th>Surname</th>\n",
       "      <th>CreditScore</th>\n",
       "      <th>Geography</th>\n",
       "      <th>Gender</th>\n",
       "      <th>Age</th>\n",
       "      <th>Tenure</th>\n",
       "      <th>Balance</th>\n",
       "      <th>NumOfProducts</th>\n",
       "      <th>HasCrCard</th>\n",
       "      <th>IsActiveMember</th>\n",
       "      <th>EstimatedSalary</th>\n",
       "      <th>Exited</th>\n",
       "    </tr>\n",
       "  </thead>\n",
       "  <tbody>\n",
       "    <tr>\n",
       "      <td>3107</td>\n",
       "      <td>3108</td>\n",
       "      <td>15697424</td>\n",
       "      <td>Ku</td>\n",
       "      <td>597</td>\n",
       "      <td>Spain</td>\n",
       "      <td>Female</td>\n",
       "      <td>30</td>\n",
       "      <td>2.0</td>\n",
       "      <td>119370.11</td>\n",
       "      <td>1</td>\n",
       "      <td>1</td>\n",
       "      <td>1</td>\n",
       "      <td>182726.22</td>\n",
       "      <td>1</td>\n",
       "    </tr>\n",
       "    <tr>\n",
       "      <td>8243</td>\n",
       "      <td>8244</td>\n",
       "      <td>15572174</td>\n",
       "      <td>Mazzi</td>\n",
       "      <td>825</td>\n",
       "      <td>France</td>\n",
       "      <td>Male</td>\n",
       "      <td>29</td>\n",
       "      <td>3.0</td>\n",
       "      <td>148874.01</td>\n",
       "      <td>2</td>\n",
       "      <td>0</td>\n",
       "      <td>1</td>\n",
       "      <td>71192.82</td>\n",
       "      <td>0</td>\n",
       "    </tr>\n",
       "    <tr>\n",
       "      <td>2685</td>\n",
       "      <td>2686</td>\n",
       "      <td>15672115</td>\n",
       "      <td>Lettiere</td>\n",
       "      <td>679</td>\n",
       "      <td>France</td>\n",
       "      <td>Male</td>\n",
       "      <td>60</td>\n",
       "      <td>6.0</td>\n",
       "      <td>0.00</td>\n",
       "      <td>2</td>\n",
       "      <td>1</td>\n",
       "      <td>1</td>\n",
       "      <td>77331.77</td>\n",
       "      <td>0</td>\n",
       "    </tr>\n",
       "    <tr>\n",
       "      <td>2324</td>\n",
       "      <td>2325</td>\n",
       "      <td>15748116</td>\n",
       "      <td>Zetticci</td>\n",
       "      <td>681</td>\n",
       "      <td>France</td>\n",
       "      <td>Female</td>\n",
       "      <td>29</td>\n",
       "      <td>2.0</td>\n",
       "      <td>148143.84</td>\n",
       "      <td>1</td>\n",
       "      <td>1</td>\n",
       "      <td>1</td>\n",
       "      <td>52021.39</td>\n",
       "      <td>0</td>\n",
       "    </tr>\n",
       "    <tr>\n",
       "      <td>1087</td>\n",
       "      <td>1088</td>\n",
       "      <td>15696098</td>\n",
       "      <td>Palermo</td>\n",
       "      <td>498</td>\n",
       "      <td>France</td>\n",
       "      <td>Female</td>\n",
       "      <td>31</td>\n",
       "      <td>10.0</td>\n",
       "      <td>0.00</td>\n",
       "      <td>2</td>\n",
       "      <td>1</td>\n",
       "      <td>0</td>\n",
       "      <td>13892.57</td>\n",
       "      <td>0</td>\n",
       "    </tr>\n",
       "    <tr>\n",
       "      <td>3055</td>\n",
       "      <td>3056</td>\n",
       "      <td>15602373</td>\n",
       "      <td>White</td>\n",
       "      <td>812</td>\n",
       "      <td>France</td>\n",
       "      <td>Male</td>\n",
       "      <td>44</td>\n",
       "      <td>4.0</td>\n",
       "      <td>115049.15</td>\n",
       "      <td>2</td>\n",
       "      <td>1</td>\n",
       "      <td>0</td>\n",
       "      <td>165038.41</td>\n",
       "      <td>0</td>\n",
       "    </tr>\n",
       "    <tr>\n",
       "      <td>8709</td>\n",
       "      <td>8710</td>\n",
       "      <td>15713517</td>\n",
       "      <td>Otitodilinna</td>\n",
       "      <td>529</td>\n",
       "      <td>France</td>\n",
       "      <td>Male</td>\n",
       "      <td>39</td>\n",
       "      <td>NaN</td>\n",
       "      <td>102025.08</td>\n",
       "      <td>2</td>\n",
       "      <td>1</td>\n",
       "      <td>0</td>\n",
       "      <td>12351.01</td>\n",
       "      <td>0</td>\n",
       "    </tr>\n",
       "    <tr>\n",
       "      <td>1536</td>\n",
       "      <td>1537</td>\n",
       "      <td>15794014</td>\n",
       "      <td>Schofield</td>\n",
       "      <td>838</td>\n",
       "      <td>France</td>\n",
       "      <td>Female</td>\n",
       "      <td>34</td>\n",
       "      <td>8.0</td>\n",
       "      <td>0.00</td>\n",
       "      <td>2</td>\n",
       "      <td>1</td>\n",
       "      <td>0</td>\n",
       "      <td>27472.07</td>\n",
       "      <td>0</td>\n",
       "    </tr>\n",
       "    <tr>\n",
       "      <td>2553</td>\n",
       "      <td>2554</td>\n",
       "      <td>15732270</td>\n",
       "      <td>Hung</td>\n",
       "      <td>727</td>\n",
       "      <td>Spain</td>\n",
       "      <td>Male</td>\n",
       "      <td>71</td>\n",
       "      <td>8.0</td>\n",
       "      <td>0.00</td>\n",
       "      <td>1</td>\n",
       "      <td>1</td>\n",
       "      <td>1</td>\n",
       "      <td>198446.91</td>\n",
       "      <td>1</td>\n",
       "    </tr>\n",
       "    <tr>\n",
       "      <td>3637</td>\n",
       "      <td>3638</td>\n",
       "      <td>15809320</td>\n",
       "      <td>McElhone</td>\n",
       "      <td>845</td>\n",
       "      <td>Spain</td>\n",
       "      <td>Female</td>\n",
       "      <td>52</td>\n",
       "      <td>0.0</td>\n",
       "      <td>0.00</td>\n",
       "      <td>1</td>\n",
       "      <td>1</td>\n",
       "      <td>0</td>\n",
       "      <td>31726.76</td>\n",
       "      <td>1</td>\n",
       "    </tr>\n",
       "  </tbody>\n",
       "</table>\n",
       "</div>"
      ],
      "text/plain": [
       "      RowNumber  CustomerId       Surname  CreditScore Geography  Gender  Age  \\\n",
       "3107       3108    15697424            Ku          597     Spain  Female   30   \n",
       "8243       8244    15572174         Mazzi          825    France    Male   29   \n",
       "2685       2686    15672115      Lettiere          679    France    Male   60   \n",
       "2324       2325    15748116      Zetticci          681    France  Female   29   \n",
       "1087       1088    15696098       Palermo          498    France  Female   31   \n",
       "3055       3056    15602373         White          812    France    Male   44   \n",
       "8709       8710    15713517  Otitodilinna          529    France    Male   39   \n",
       "1536       1537    15794014     Schofield          838    France  Female   34   \n",
       "2553       2554    15732270          Hung          727     Spain    Male   71   \n",
       "3637       3638    15809320      McElhone          845     Spain  Female   52   \n",
       "\n",
       "      Tenure    Balance  NumOfProducts  HasCrCard  IsActiveMember  \\\n",
       "3107     2.0  119370.11              1          1               1   \n",
       "8243     3.0  148874.01              2          0               1   \n",
       "2685     6.0       0.00              2          1               1   \n",
       "2324     2.0  148143.84              1          1               1   \n",
       "1087    10.0       0.00              2          1               0   \n",
       "3055     4.0  115049.15              2          1               0   \n",
       "8709     NaN  102025.08              2          1               0   \n",
       "1536     8.0       0.00              2          1               0   \n",
       "2553     8.0       0.00              1          1               1   \n",
       "3637     0.0       0.00              1          1               0   \n",
       "\n",
       "      EstimatedSalary  Exited  \n",
       "3107        182726.22       1  \n",
       "8243         71192.82       0  \n",
       "2685         77331.77       0  \n",
       "2324         52021.39       0  \n",
       "1087         13892.57       0  \n",
       "3055        165038.41       0  \n",
       "8709         12351.01       0  \n",
       "1536         27472.07       0  \n",
       "2553        198446.91       1  \n",
       "3637         31726.76       1  "
      ]
     },
     "execution_count": 4,
     "metadata": {},
     "output_type": "execute_result"
    }
   ],
   "source": [
    "df.sample(10)"
   ]
  },
  {
   "cell_type": "code",
   "execution_count": 5,
   "metadata": {},
   "outputs": [
    {
     "data": {
      "text/plain": [
       "Index(['rownumber', 'customerid', 'surname', 'creditscore', 'geography',\n",
       "       'gender', 'age', 'tenure', 'balance', 'numofproducts', 'hascrcard',\n",
       "       'isactivemember', 'estimatedsalary', 'exited'],\n",
       "      dtype='object')"
      ]
     },
     "execution_count": 5,
     "metadata": {},
     "output_type": "execute_result"
    }
   ],
   "source": [
    "df.columns = df.columns.str.lower()\n",
    "df.columns"
   ]
  },
  {
   "cell_type": "code",
   "execution_count": 6,
   "metadata": {},
   "outputs": [],
   "source": [
    "df.columns = ['row_number', 'customer_id', 'surname', 'credit_score', 'geography',\n",
    "       'gender', 'age', 'tenure', 'balance', 'num_of_products', 'has_cr_card',\n",
    "       'is_active_member', 'estimated_salary', 'exited']\n"
   ]
  },
  {
   "cell_type": "code",
   "execution_count": 7,
   "metadata": {},
   "outputs": [
    {
     "name": "stdout",
     "output_type": "stream",
     "text": [
      "<class 'pandas.core.frame.DataFrame'>\n",
      "RangeIndex: 10000 entries, 0 to 9999\n",
      "Data columns (total 14 columns):\n",
      "row_number          10000 non-null int64\n",
      "customer_id         10000 non-null int64\n",
      "surname             10000 non-null object\n",
      "credit_score        10000 non-null int64\n",
      "geography           10000 non-null object\n",
      "gender              10000 non-null object\n",
      "age                 10000 non-null int64\n",
      "tenure              9091 non-null float64\n",
      "balance             10000 non-null float64\n",
      "num_of_products     10000 non-null int64\n",
      "has_cr_card         10000 non-null int64\n",
      "is_active_member    10000 non-null int64\n",
      "estimated_salary    10000 non-null float64\n",
      "exited              10000 non-null int64\n",
      "dtypes: float64(3), int64(8), object(3)\n",
      "memory usage: 1.1+ MB\n"
     ]
    }
   ],
   "source": [
    "df.info()"
   ]
  },
  {
   "cell_type": "code",
   "execution_count": 8,
   "metadata": {
    "scrolled": true
   },
   "outputs": [
    {
     "data": {
      "text/html": [
       "<div>\n",
       "<style scoped>\n",
       "    .dataframe tbody tr th:only-of-type {\n",
       "        vertical-align: middle;\n",
       "    }\n",
       "\n",
       "    .dataframe tbody tr th {\n",
       "        vertical-align: top;\n",
       "    }\n",
       "\n",
       "    .dataframe thead th {\n",
       "        text-align: right;\n",
       "    }\n",
       "</style>\n",
       "<table border=\"1\" class=\"dataframe\">\n",
       "  <thead>\n",
       "    <tr style=\"text-align: right;\">\n",
       "      <th></th>\n",
       "      <th>row_number</th>\n",
       "      <th>customer_id</th>\n",
       "      <th>credit_score</th>\n",
       "      <th>age</th>\n",
       "      <th>tenure</th>\n",
       "      <th>balance</th>\n",
       "      <th>num_of_products</th>\n",
       "      <th>has_cr_card</th>\n",
       "      <th>is_active_member</th>\n",
       "      <th>estimated_salary</th>\n",
       "      <th>exited</th>\n",
       "    </tr>\n",
       "  </thead>\n",
       "  <tbody>\n",
       "    <tr>\n",
       "      <td>count</td>\n",
       "      <td>10000.00000</td>\n",
       "      <td>1.000000e+04</td>\n",
       "      <td>10000.000000</td>\n",
       "      <td>10000.000000</td>\n",
       "      <td>9091.000000</td>\n",
       "      <td>10000.000000</td>\n",
       "      <td>10000.000000</td>\n",
       "      <td>10000.00000</td>\n",
       "      <td>10000.000000</td>\n",
       "      <td>10000.000000</td>\n",
       "      <td>10000.000000</td>\n",
       "    </tr>\n",
       "    <tr>\n",
       "      <td>mean</td>\n",
       "      <td>5000.50000</td>\n",
       "      <td>1.569094e+07</td>\n",
       "      <td>650.528800</td>\n",
       "      <td>38.921800</td>\n",
       "      <td>4.997690</td>\n",
       "      <td>76485.889288</td>\n",
       "      <td>1.530200</td>\n",
       "      <td>0.70550</td>\n",
       "      <td>0.515100</td>\n",
       "      <td>100090.239881</td>\n",
       "      <td>0.203700</td>\n",
       "    </tr>\n",
       "    <tr>\n",
       "      <td>std</td>\n",
       "      <td>2886.89568</td>\n",
       "      <td>7.193619e+04</td>\n",
       "      <td>96.653299</td>\n",
       "      <td>10.487806</td>\n",
       "      <td>2.894723</td>\n",
       "      <td>62397.405202</td>\n",
       "      <td>0.581654</td>\n",
       "      <td>0.45584</td>\n",
       "      <td>0.499797</td>\n",
       "      <td>57510.492818</td>\n",
       "      <td>0.402769</td>\n",
       "    </tr>\n",
       "    <tr>\n",
       "      <td>min</td>\n",
       "      <td>1.00000</td>\n",
       "      <td>1.556570e+07</td>\n",
       "      <td>350.000000</td>\n",
       "      <td>18.000000</td>\n",
       "      <td>0.000000</td>\n",
       "      <td>0.000000</td>\n",
       "      <td>1.000000</td>\n",
       "      <td>0.00000</td>\n",
       "      <td>0.000000</td>\n",
       "      <td>11.580000</td>\n",
       "      <td>0.000000</td>\n",
       "    </tr>\n",
       "    <tr>\n",
       "      <td>25%</td>\n",
       "      <td>2500.75000</td>\n",
       "      <td>1.562853e+07</td>\n",
       "      <td>584.000000</td>\n",
       "      <td>32.000000</td>\n",
       "      <td>2.000000</td>\n",
       "      <td>0.000000</td>\n",
       "      <td>1.000000</td>\n",
       "      <td>0.00000</td>\n",
       "      <td>0.000000</td>\n",
       "      <td>51002.110000</td>\n",
       "      <td>0.000000</td>\n",
       "    </tr>\n",
       "    <tr>\n",
       "      <td>50%</td>\n",
       "      <td>5000.50000</td>\n",
       "      <td>1.569074e+07</td>\n",
       "      <td>652.000000</td>\n",
       "      <td>37.000000</td>\n",
       "      <td>5.000000</td>\n",
       "      <td>97198.540000</td>\n",
       "      <td>1.000000</td>\n",
       "      <td>1.00000</td>\n",
       "      <td>1.000000</td>\n",
       "      <td>100193.915000</td>\n",
       "      <td>0.000000</td>\n",
       "    </tr>\n",
       "    <tr>\n",
       "      <td>75%</td>\n",
       "      <td>7500.25000</td>\n",
       "      <td>1.575323e+07</td>\n",
       "      <td>718.000000</td>\n",
       "      <td>44.000000</td>\n",
       "      <td>7.000000</td>\n",
       "      <td>127644.240000</td>\n",
       "      <td>2.000000</td>\n",
       "      <td>1.00000</td>\n",
       "      <td>1.000000</td>\n",
       "      <td>149388.247500</td>\n",
       "      <td>0.000000</td>\n",
       "    </tr>\n",
       "    <tr>\n",
       "      <td>max</td>\n",
       "      <td>10000.00000</td>\n",
       "      <td>1.581569e+07</td>\n",
       "      <td>850.000000</td>\n",
       "      <td>92.000000</td>\n",
       "      <td>10.000000</td>\n",
       "      <td>250898.090000</td>\n",
       "      <td>4.000000</td>\n",
       "      <td>1.00000</td>\n",
       "      <td>1.000000</td>\n",
       "      <td>199992.480000</td>\n",
       "      <td>1.000000</td>\n",
       "    </tr>\n",
       "  </tbody>\n",
       "</table>\n",
       "</div>"
      ],
      "text/plain": [
       "        row_number   customer_id  credit_score           age       tenure  \\\n",
       "count  10000.00000  1.000000e+04  10000.000000  10000.000000  9091.000000   \n",
       "mean    5000.50000  1.569094e+07    650.528800     38.921800     4.997690   \n",
       "std     2886.89568  7.193619e+04     96.653299     10.487806     2.894723   \n",
       "min        1.00000  1.556570e+07    350.000000     18.000000     0.000000   \n",
       "25%     2500.75000  1.562853e+07    584.000000     32.000000     2.000000   \n",
       "50%     5000.50000  1.569074e+07    652.000000     37.000000     5.000000   \n",
       "75%     7500.25000  1.575323e+07    718.000000     44.000000     7.000000   \n",
       "max    10000.00000  1.581569e+07    850.000000     92.000000    10.000000   \n",
       "\n",
       "             balance  num_of_products  has_cr_card  is_active_member  \\\n",
       "count   10000.000000     10000.000000  10000.00000      10000.000000   \n",
       "mean    76485.889288         1.530200      0.70550          0.515100   \n",
       "std     62397.405202         0.581654      0.45584          0.499797   \n",
       "min         0.000000         1.000000      0.00000          0.000000   \n",
       "25%         0.000000         1.000000      0.00000          0.000000   \n",
       "50%     97198.540000         1.000000      1.00000          1.000000   \n",
       "75%    127644.240000         2.000000      1.00000          1.000000   \n",
       "max    250898.090000         4.000000      1.00000          1.000000   \n",
       "\n",
       "       estimated_salary        exited  \n",
       "count      10000.000000  10000.000000  \n",
       "mean      100090.239881      0.203700  \n",
       "std        57510.492818      0.402769  \n",
       "min           11.580000      0.000000  \n",
       "25%        51002.110000      0.000000  \n",
       "50%       100193.915000      0.000000  \n",
       "75%       149388.247500      0.000000  \n",
       "max       199992.480000      1.000000  "
      ]
     },
     "execution_count": 8,
     "metadata": {},
     "output_type": "execute_result"
    }
   ],
   "source": [
    "df.describe()"
   ]
  },
  {
   "cell_type": "code",
   "execution_count": 9,
   "metadata": {},
   "outputs": [
    {
     "data": {
      "text/plain": [
       "row_number          10000\n",
       "customer_id         10000\n",
       "surname              2932\n",
       "credit_score          460\n",
       "geography               3\n",
       "gender                  2\n",
       "age                    70\n",
       "tenure                 11\n",
       "balance              6382\n",
       "num_of_products         4\n",
       "has_cr_card             2\n",
       "is_active_member        2\n",
       "estimated_salary     9999\n",
       "exited                  2\n",
       "dtype: int64"
      ]
     },
     "execution_count": 9,
     "metadata": {},
     "output_type": "execute_result"
    }
   ],
   "source": [
    "df.nunique()"
   ]
  },
  {
   "cell_type": "code",
   "execution_count": 10,
   "metadata": {},
   "outputs": [
    {
     "data": {
      "text/plain": [
       "0    0.7963\n",
       "1    0.2037\n",
       "Name: exited, dtype: float64"
      ]
     },
     "execution_count": 10,
     "metadata": {},
     "output_type": "execute_result"
    }
   ],
   "source": [
    "df['exited'].value_counts(normalize=True)"
   ]
  },
  {
   "cell_type": "code",
   "execution_count": 11,
   "metadata": {},
   "outputs": [
    {
     "data": {
      "text/plain": [
       "1    0.5151\n",
       "0    0.4849\n",
       "Name: is_active_member, dtype: float64"
      ]
     },
     "execution_count": 11,
     "metadata": {},
     "output_type": "execute_result"
    }
   ],
   "source": [
    "df['is_active_member'].value_counts(normalize=True)"
   ]
  },
  {
   "cell_type": "code",
   "execution_count": 12,
   "metadata": {},
   "outputs": [
    {
     "data": {
      "text/plain": [
       "1    0.5084\n",
       "2    0.4590\n",
       "3    0.0266\n",
       "4    0.0060\n",
       "Name: num_of_products, dtype: float64"
      ]
     },
     "execution_count": 12,
     "metadata": {},
     "output_type": "execute_result"
    }
   ],
   "source": [
    "df['num_of_products'].value_counts(normalize=True)"
   ]
  },
  {
   "cell_type": "code",
   "execution_count": 13,
   "metadata": {},
   "outputs": [
    {
     "data": {
      "text/plain": [
       "1    0.7055\n",
       "0    0.2945\n",
       "Name: has_cr_card, dtype: float64"
      ]
     },
     "execution_count": 13,
     "metadata": {},
     "output_type": "execute_result"
    }
   ],
   "source": [
    "df['has_cr_card'].value_counts(normalize=True)"
   ]
  },
  {
   "cell_type": "code",
   "execution_count": 14,
   "metadata": {},
   "outputs": [
    {
     "data": {
      "text/plain": [
       "France     0.5014\n",
       "Germany    0.2509\n",
       "Spain      0.2477\n",
       "Name: geography, dtype: float64"
      ]
     },
     "execution_count": 14,
     "metadata": {},
     "output_type": "execute_result"
    }
   ],
   "source": [
    "df['geography'].value_counts(normalize=True)"
   ]
  },
  {
   "cell_type": "code",
   "execution_count": 15,
   "metadata": {},
   "outputs": [
    {
     "data": {
      "text/plain": [
       "row_number            0\n",
       "customer_id           0\n",
       "surname               0\n",
       "credit_score          0\n",
       "geography             0\n",
       "gender                0\n",
       "age                   0\n",
       "tenure              909\n",
       "balance               0\n",
       "num_of_products       0\n",
       "has_cr_card           0\n",
       "is_active_member      0\n",
       "estimated_salary      0\n",
       "exited                0\n",
       "dtype: int64"
      ]
     },
     "execution_count": 15,
     "metadata": {},
     "output_type": "execute_result"
    }
   ],
   "source": [
    "df.isna().sum()"
   ]
  },
  {
   "cell_type": "code",
   "execution_count": 16,
   "metadata": {},
   "outputs": [],
   "source": [
    "df['tenure'] = df['tenure'] .fillna(df['tenure'].mean())"
   ]
  },
  {
   "cell_type": "markdown",
   "metadata": {},
   "source": [
    "**В результате анализа данных можно сделать слеюдующие выводы:**\n",
    "- в нашем распоряжение 10 тыс. записей о клиентах;\n",
    "- из них 80 % относятся к классу клиентов, которые пользуются услугами банка и 20 % отказались от услуг банка;\n",
    "- таким образом соотношение классов 1 к 5, что предполагает применение техники взвешивание классов: upsampling и downsampling;\n",
    "- проверил названия столбцов к стандартному виду;\n",
    "- проверили на пропуски - выявили пропуске в столбце tenure  (срок, в течение которого человек является клиентом банка в годах). Заменили на среднее значение по столбцу;\n",
    "- половина клиентов из Франции и по четверти клиентов из Испании и Германии;\n",
    "- примерно половину выборки составляют активные пользователи банка (is_active_member);\n",
    "- 30 % клиентов имеют кредитную карту, а 70 % не имеют таковую;\n",
    "- большинство клиентов пользуется 1-й или 2-я услугами банка и только 2.7 % тремя и 0.6 % - четырьмя; \n",
    "- функция плотности распределения большинства количественных величин имеют близкое к нормальному распределению за исключением:\n",
    "     - возраст клиентов имеет логнормальное распределение;\n",
    "     - баланс имеет нормальное распределение, но имеется выброс в 0;\n",
    "     - неожиданно предполагаемый доход имеет равномерное распределение, что может говорить об искусственной генерации данной величины, так как обычно доход имеет похожее на логнормальное распределение с \"тяжелым хвостом\" в области высоких зарплат.\n"
   ]
  },
  {
   "cell_type": "markdown",
   "metadata": {},
   "source": [
    "**Анализ признаков позволяет сделать следующие выводы:**\n",
    "- row_number, customer_id, surname - не несут какой-то ценной информации в рамках решаемой задачи;\n",
    "- среди признаком часть относится к категориальным: geography, gender, num_of_products, has_cr_card, is_active_member.\n",
    "- другая часть относятся к количественным: credit_score, age (можно отнести и к категориальным величинам), tenure, balance, estimated_salary.\n",
    "- сам целевой признак является категориальной величиной, поэтому предполагается решать задачу классификации.\n"
   ]
  },
  {
   "cell_type": "markdown",
   "metadata": {},
   "source": [
    "### Преобразование данных"
   ]
  },
  {
   "cell_type": "markdown",
   "metadata": {},
   "source": [
    "**Удаление незначащих признаков**"
   ]
  },
  {
   "cell_type": "code",
   "execution_count": 17,
   "metadata": {},
   "outputs": [
    {
     "data": {
      "text/html": [
       "<div>\n",
       "<style scoped>\n",
       "    .dataframe tbody tr th:only-of-type {\n",
       "        vertical-align: middle;\n",
       "    }\n",
       "\n",
       "    .dataframe tbody tr th {\n",
       "        vertical-align: top;\n",
       "    }\n",
       "\n",
       "    .dataframe thead th {\n",
       "        text-align: right;\n",
       "    }\n",
       "</style>\n",
       "<table border=\"1\" class=\"dataframe\">\n",
       "  <thead>\n",
       "    <tr style=\"text-align: right;\">\n",
       "      <th></th>\n",
       "      <th>credit_score</th>\n",
       "      <th>geography</th>\n",
       "      <th>gender</th>\n",
       "      <th>age</th>\n",
       "      <th>tenure</th>\n",
       "      <th>balance</th>\n",
       "      <th>num_of_products</th>\n",
       "      <th>has_cr_card</th>\n",
       "      <th>is_active_member</th>\n",
       "      <th>estimated_salary</th>\n",
       "      <th>exited</th>\n",
       "    </tr>\n",
       "  </thead>\n",
       "  <tbody>\n",
       "    <tr>\n",
       "      <td>0</td>\n",
       "      <td>619</td>\n",
       "      <td>France</td>\n",
       "      <td>Female</td>\n",
       "      <td>42</td>\n",
       "      <td>2.00000</td>\n",
       "      <td>0.00</td>\n",
       "      <td>1</td>\n",
       "      <td>1</td>\n",
       "      <td>1</td>\n",
       "      <td>101348.88</td>\n",
       "      <td>1</td>\n",
       "    </tr>\n",
       "    <tr>\n",
       "      <td>1</td>\n",
       "      <td>608</td>\n",
       "      <td>Spain</td>\n",
       "      <td>Female</td>\n",
       "      <td>41</td>\n",
       "      <td>1.00000</td>\n",
       "      <td>83807.86</td>\n",
       "      <td>1</td>\n",
       "      <td>0</td>\n",
       "      <td>1</td>\n",
       "      <td>112542.58</td>\n",
       "      <td>0</td>\n",
       "    </tr>\n",
       "    <tr>\n",
       "      <td>2</td>\n",
       "      <td>502</td>\n",
       "      <td>France</td>\n",
       "      <td>Female</td>\n",
       "      <td>42</td>\n",
       "      <td>8.00000</td>\n",
       "      <td>159660.80</td>\n",
       "      <td>3</td>\n",
       "      <td>1</td>\n",
       "      <td>0</td>\n",
       "      <td>113931.57</td>\n",
       "      <td>1</td>\n",
       "    </tr>\n",
       "    <tr>\n",
       "      <td>3</td>\n",
       "      <td>699</td>\n",
       "      <td>France</td>\n",
       "      <td>Female</td>\n",
       "      <td>39</td>\n",
       "      <td>1.00000</td>\n",
       "      <td>0.00</td>\n",
       "      <td>2</td>\n",
       "      <td>0</td>\n",
       "      <td>0</td>\n",
       "      <td>93826.63</td>\n",
       "      <td>0</td>\n",
       "    </tr>\n",
       "    <tr>\n",
       "      <td>4</td>\n",
       "      <td>850</td>\n",
       "      <td>Spain</td>\n",
       "      <td>Female</td>\n",
       "      <td>43</td>\n",
       "      <td>2.00000</td>\n",
       "      <td>125510.82</td>\n",
       "      <td>1</td>\n",
       "      <td>1</td>\n",
       "      <td>1</td>\n",
       "      <td>79084.10</td>\n",
       "      <td>0</td>\n",
       "    </tr>\n",
       "    <tr>\n",
       "      <td>...</td>\n",
       "      <td>...</td>\n",
       "      <td>...</td>\n",
       "      <td>...</td>\n",
       "      <td>...</td>\n",
       "      <td>...</td>\n",
       "      <td>...</td>\n",
       "      <td>...</td>\n",
       "      <td>...</td>\n",
       "      <td>...</td>\n",
       "      <td>...</td>\n",
       "      <td>...</td>\n",
       "    </tr>\n",
       "    <tr>\n",
       "      <td>9995</td>\n",
       "      <td>771</td>\n",
       "      <td>France</td>\n",
       "      <td>Male</td>\n",
       "      <td>39</td>\n",
       "      <td>5.00000</td>\n",
       "      <td>0.00</td>\n",
       "      <td>2</td>\n",
       "      <td>1</td>\n",
       "      <td>0</td>\n",
       "      <td>96270.64</td>\n",
       "      <td>0</td>\n",
       "    </tr>\n",
       "    <tr>\n",
       "      <td>9996</td>\n",
       "      <td>516</td>\n",
       "      <td>France</td>\n",
       "      <td>Male</td>\n",
       "      <td>35</td>\n",
       "      <td>10.00000</td>\n",
       "      <td>57369.61</td>\n",
       "      <td>1</td>\n",
       "      <td>1</td>\n",
       "      <td>1</td>\n",
       "      <td>101699.77</td>\n",
       "      <td>0</td>\n",
       "    </tr>\n",
       "    <tr>\n",
       "      <td>9997</td>\n",
       "      <td>709</td>\n",
       "      <td>France</td>\n",
       "      <td>Female</td>\n",
       "      <td>36</td>\n",
       "      <td>7.00000</td>\n",
       "      <td>0.00</td>\n",
       "      <td>1</td>\n",
       "      <td>0</td>\n",
       "      <td>1</td>\n",
       "      <td>42085.58</td>\n",
       "      <td>1</td>\n",
       "    </tr>\n",
       "    <tr>\n",
       "      <td>9998</td>\n",
       "      <td>772</td>\n",
       "      <td>Germany</td>\n",
       "      <td>Male</td>\n",
       "      <td>42</td>\n",
       "      <td>3.00000</td>\n",
       "      <td>75075.31</td>\n",
       "      <td>2</td>\n",
       "      <td>1</td>\n",
       "      <td>0</td>\n",
       "      <td>92888.52</td>\n",
       "      <td>1</td>\n",
       "    </tr>\n",
       "    <tr>\n",
       "      <td>9999</td>\n",
       "      <td>792</td>\n",
       "      <td>France</td>\n",
       "      <td>Female</td>\n",
       "      <td>28</td>\n",
       "      <td>4.99769</td>\n",
       "      <td>130142.79</td>\n",
       "      <td>1</td>\n",
       "      <td>1</td>\n",
       "      <td>0</td>\n",
       "      <td>38190.78</td>\n",
       "      <td>0</td>\n",
       "    </tr>\n",
       "  </tbody>\n",
       "</table>\n",
       "<p>10000 rows × 11 columns</p>\n",
       "</div>"
      ],
      "text/plain": [
       "      credit_score geography  gender  age    tenure    balance  \\\n",
       "0              619    France  Female   42   2.00000       0.00   \n",
       "1              608     Spain  Female   41   1.00000   83807.86   \n",
       "2              502    France  Female   42   8.00000  159660.80   \n",
       "3              699    France  Female   39   1.00000       0.00   \n",
       "4              850     Spain  Female   43   2.00000  125510.82   \n",
       "...            ...       ...     ...  ...       ...        ...   \n",
       "9995           771    France    Male   39   5.00000       0.00   \n",
       "9996           516    France    Male   35  10.00000   57369.61   \n",
       "9997           709    France  Female   36   7.00000       0.00   \n",
       "9998           772   Germany    Male   42   3.00000   75075.31   \n",
       "9999           792    France  Female   28   4.99769  130142.79   \n",
       "\n",
       "      num_of_products  has_cr_card  is_active_member  estimated_salary  exited  \n",
       "0                   1            1                 1         101348.88       1  \n",
       "1                   1            0                 1         112542.58       0  \n",
       "2                   3            1                 0         113931.57       1  \n",
       "3                   2            0                 0          93826.63       0  \n",
       "4                   1            1                 1          79084.10       0  \n",
       "...               ...          ...               ...               ...     ...  \n",
       "9995                2            1                 0          96270.64       0  \n",
       "9996                1            1                 1         101699.77       0  \n",
       "9997                1            0                 1          42085.58       1  \n",
       "9998                2            1                 0          92888.52       1  \n",
       "9999                1            1                 0          38190.78       0  \n",
       "\n",
       "[10000 rows x 11 columns]"
      ]
     },
     "execution_count": 17,
     "metadata": {},
     "output_type": "execute_result"
    }
   ],
   "source": [
    "df = df.drop(['row_number', 'customer_id', 'surname' ], axis=1)\n",
    "df"
   ]
  },
  {
   "cell_type": "markdown",
   "metadata": {},
   "source": [
    "**Преобразование категориальных признаков в численные техникой прямого кодирования(One-Hot Encoding, OHE)**"
   ]
  },
  {
   "cell_type": "code",
   "execution_count": 18,
   "metadata": {},
   "outputs": [
    {
     "data": {
      "text/html": [
       "<div>\n",
       "<style scoped>\n",
       "    .dataframe tbody tr th:only-of-type {\n",
       "        vertical-align: middle;\n",
       "    }\n",
       "\n",
       "    .dataframe tbody tr th {\n",
       "        vertical-align: top;\n",
       "    }\n",
       "\n",
       "    .dataframe thead th {\n",
       "        text-align: right;\n",
       "    }\n",
       "</style>\n",
       "<table border=\"1\" class=\"dataframe\">\n",
       "  <thead>\n",
       "    <tr style=\"text-align: right;\">\n",
       "      <th></th>\n",
       "      <th>credit_score</th>\n",
       "      <th>age</th>\n",
       "      <th>tenure</th>\n",
       "      <th>balance</th>\n",
       "      <th>num_of_products</th>\n",
       "      <th>has_cr_card</th>\n",
       "      <th>is_active_member</th>\n",
       "      <th>estimated_salary</th>\n",
       "      <th>exited</th>\n",
       "      <th>geography_Germany</th>\n",
       "      <th>geography_Spain</th>\n",
       "      <th>gender_Male</th>\n",
       "    </tr>\n",
       "  </thead>\n",
       "  <tbody>\n",
       "    <tr>\n",
       "      <td>0</td>\n",
       "      <td>619</td>\n",
       "      <td>42</td>\n",
       "      <td>2.00000</td>\n",
       "      <td>0.00</td>\n",
       "      <td>1</td>\n",
       "      <td>1</td>\n",
       "      <td>1</td>\n",
       "      <td>101348.88</td>\n",
       "      <td>1</td>\n",
       "      <td>0</td>\n",
       "      <td>0</td>\n",
       "      <td>0</td>\n",
       "    </tr>\n",
       "    <tr>\n",
       "      <td>1</td>\n",
       "      <td>608</td>\n",
       "      <td>41</td>\n",
       "      <td>1.00000</td>\n",
       "      <td>83807.86</td>\n",
       "      <td>1</td>\n",
       "      <td>0</td>\n",
       "      <td>1</td>\n",
       "      <td>112542.58</td>\n",
       "      <td>0</td>\n",
       "      <td>0</td>\n",
       "      <td>1</td>\n",
       "      <td>0</td>\n",
       "    </tr>\n",
       "    <tr>\n",
       "      <td>2</td>\n",
       "      <td>502</td>\n",
       "      <td>42</td>\n",
       "      <td>8.00000</td>\n",
       "      <td>159660.80</td>\n",
       "      <td>3</td>\n",
       "      <td>1</td>\n",
       "      <td>0</td>\n",
       "      <td>113931.57</td>\n",
       "      <td>1</td>\n",
       "      <td>0</td>\n",
       "      <td>0</td>\n",
       "      <td>0</td>\n",
       "    </tr>\n",
       "    <tr>\n",
       "      <td>3</td>\n",
       "      <td>699</td>\n",
       "      <td>39</td>\n",
       "      <td>1.00000</td>\n",
       "      <td>0.00</td>\n",
       "      <td>2</td>\n",
       "      <td>0</td>\n",
       "      <td>0</td>\n",
       "      <td>93826.63</td>\n",
       "      <td>0</td>\n",
       "      <td>0</td>\n",
       "      <td>0</td>\n",
       "      <td>0</td>\n",
       "    </tr>\n",
       "    <tr>\n",
       "      <td>4</td>\n",
       "      <td>850</td>\n",
       "      <td>43</td>\n",
       "      <td>2.00000</td>\n",
       "      <td>125510.82</td>\n",
       "      <td>1</td>\n",
       "      <td>1</td>\n",
       "      <td>1</td>\n",
       "      <td>79084.10</td>\n",
       "      <td>0</td>\n",
       "      <td>0</td>\n",
       "      <td>1</td>\n",
       "      <td>0</td>\n",
       "    </tr>\n",
       "    <tr>\n",
       "      <td>...</td>\n",
       "      <td>...</td>\n",
       "      <td>...</td>\n",
       "      <td>...</td>\n",
       "      <td>...</td>\n",
       "      <td>...</td>\n",
       "      <td>...</td>\n",
       "      <td>...</td>\n",
       "      <td>...</td>\n",
       "      <td>...</td>\n",
       "      <td>...</td>\n",
       "      <td>...</td>\n",
       "      <td>...</td>\n",
       "    </tr>\n",
       "    <tr>\n",
       "      <td>9995</td>\n",
       "      <td>771</td>\n",
       "      <td>39</td>\n",
       "      <td>5.00000</td>\n",
       "      <td>0.00</td>\n",
       "      <td>2</td>\n",
       "      <td>1</td>\n",
       "      <td>0</td>\n",
       "      <td>96270.64</td>\n",
       "      <td>0</td>\n",
       "      <td>0</td>\n",
       "      <td>0</td>\n",
       "      <td>1</td>\n",
       "    </tr>\n",
       "    <tr>\n",
       "      <td>9996</td>\n",
       "      <td>516</td>\n",
       "      <td>35</td>\n",
       "      <td>10.00000</td>\n",
       "      <td>57369.61</td>\n",
       "      <td>1</td>\n",
       "      <td>1</td>\n",
       "      <td>1</td>\n",
       "      <td>101699.77</td>\n",
       "      <td>0</td>\n",
       "      <td>0</td>\n",
       "      <td>0</td>\n",
       "      <td>1</td>\n",
       "    </tr>\n",
       "    <tr>\n",
       "      <td>9997</td>\n",
       "      <td>709</td>\n",
       "      <td>36</td>\n",
       "      <td>7.00000</td>\n",
       "      <td>0.00</td>\n",
       "      <td>1</td>\n",
       "      <td>0</td>\n",
       "      <td>1</td>\n",
       "      <td>42085.58</td>\n",
       "      <td>1</td>\n",
       "      <td>0</td>\n",
       "      <td>0</td>\n",
       "      <td>0</td>\n",
       "    </tr>\n",
       "    <tr>\n",
       "      <td>9998</td>\n",
       "      <td>772</td>\n",
       "      <td>42</td>\n",
       "      <td>3.00000</td>\n",
       "      <td>75075.31</td>\n",
       "      <td>2</td>\n",
       "      <td>1</td>\n",
       "      <td>0</td>\n",
       "      <td>92888.52</td>\n",
       "      <td>1</td>\n",
       "      <td>1</td>\n",
       "      <td>0</td>\n",
       "      <td>1</td>\n",
       "    </tr>\n",
       "    <tr>\n",
       "      <td>9999</td>\n",
       "      <td>792</td>\n",
       "      <td>28</td>\n",
       "      <td>4.99769</td>\n",
       "      <td>130142.79</td>\n",
       "      <td>1</td>\n",
       "      <td>1</td>\n",
       "      <td>0</td>\n",
       "      <td>38190.78</td>\n",
       "      <td>0</td>\n",
       "      <td>0</td>\n",
       "      <td>0</td>\n",
       "      <td>0</td>\n",
       "    </tr>\n",
       "  </tbody>\n",
       "</table>\n",
       "<p>10000 rows × 12 columns</p>\n",
       "</div>"
      ],
      "text/plain": [
       "      credit_score  age    tenure    balance  num_of_products  has_cr_card  \\\n",
       "0              619   42   2.00000       0.00                1            1   \n",
       "1              608   41   1.00000   83807.86                1            0   \n",
       "2              502   42   8.00000  159660.80                3            1   \n",
       "3              699   39   1.00000       0.00                2            0   \n",
       "4              850   43   2.00000  125510.82                1            1   \n",
       "...            ...  ...       ...        ...              ...          ...   \n",
       "9995           771   39   5.00000       0.00                2            1   \n",
       "9996           516   35  10.00000   57369.61                1            1   \n",
       "9997           709   36   7.00000       0.00                1            0   \n",
       "9998           772   42   3.00000   75075.31                2            1   \n",
       "9999           792   28   4.99769  130142.79                1            1   \n",
       "\n",
       "      is_active_member  estimated_salary  exited  geography_Germany  \\\n",
       "0                    1         101348.88       1                  0   \n",
       "1                    1         112542.58       0                  0   \n",
       "2                    0         113931.57       1                  0   \n",
       "3                    0          93826.63       0                  0   \n",
       "4                    1          79084.10       0                  0   \n",
       "...                ...               ...     ...                ...   \n",
       "9995                 0          96270.64       0                  0   \n",
       "9996                 1         101699.77       0                  0   \n",
       "9997                 1          42085.58       1                  0   \n",
       "9998                 0          92888.52       1                  1   \n",
       "9999                 0          38190.78       0                  0   \n",
       "\n",
       "      geography_Spain  gender_Male  \n",
       "0                   0            0  \n",
       "1                   1            0  \n",
       "2                   0            0  \n",
       "3                   0            0  \n",
       "4                   1            0  \n",
       "...               ...          ...  \n",
       "9995                0            1  \n",
       "9996                0            1  \n",
       "9997                0            0  \n",
       "9998                0            1  \n",
       "9999                0            0  \n",
       "\n",
       "[10000 rows x 12 columns]"
      ]
     },
     "execution_count": 18,
     "metadata": {},
     "output_type": "execute_result"
    }
   ],
   "source": [
    "df_ohe = pd.get_dummies(df, drop_first=True)\n",
    "df_ohe"
   ]
  },
  {
   "cell_type": "markdown",
   "metadata": {},
   "source": [
    "**Разделение выборки на обучающую, тестовую и выборку валидации**"
   ]
  },
  {
   "cell_type": "code",
   "execution_count": 19,
   "metadata": {},
   "outputs": [],
   "source": [
    "target = df_ohe['exited'] # целеовой признак\n",
    "features = df_ohe.drop('exited', axis=1) # признаки для обучения\n",
    "features_train, features_tmp, target_train, target_tmp = train_test_split(\n",
    "    features, target, test_size=0.4, stratify=target, random_state=RND)\n",
    "features_valid, features_test, target_valid, target_test = train_test_split(\n",
    "    features_tmp, target_tmp, test_size=0.5,stratify=target_tmp, random_state=RND)"
   ]
  },
  {
   "cell_type": "markdown",
   "metadata": {},
   "source": [
    "Проверка разделения выборки"
   ]
  },
  {
   "cell_type": "code",
   "execution_count": 20,
   "metadata": {},
   "outputs": [
    {
     "name": "stdout",
     "output_type": "stream",
     "text": [
      "(6000, 11) (6000,)\n",
      "(2000, 11) (2000,)\n",
      "(2000, 11) (2000,)\n"
     ]
    }
   ],
   "source": [
    "print(features_train.shape, target_train.shape)\n",
    "print(features_valid.shape, target_valid.shape)\n",
    "print(features_test.shape, target_test.shape)"
   ]
  },
  {
   "cell_type": "markdown",
   "metadata": {},
   "source": [
    "**Масштабирование признаков**"
   ]
  },
  {
   "cell_type": "code",
   "execution_count": 21,
   "metadata": {},
   "outputs": [],
   "source": [
    "numerics = ['credit_score', 'tenure', 'age', 'balance', 'estimated_salary']\n",
    "scaler = StandardScaler()\n",
    "scaler.fit(features_train[numerics]) \n",
    "features_train[numerics] = scaler.transform(features_train[numerics])\n",
    "features_valid[numerics] = scaler.transform(features_valid[numerics]) \n",
    "features_test[numerics] = scaler.transform(features_test[numerics]) "
   ]
  },
  {
   "cell_type": "markdown",
   "metadata": {},
   "source": [
    "- удалили столбцы, не содержащие ценной информации для задачи МО;\n",
    "- преобразовали категориальные признаки в численные техникой прямого кодирования (One-Hot Encoding, OHE);\n",
    "- разделили выборку на обучающую, тестовую и выборку валидации в соотношении 60 %: 20 %: 20%;\n",
    "- для части столбцов с количественными значениями признаков провели масштабирование.\n"
   ]
  },
  {
   "cell_type": "markdown",
   "metadata": {},
   "source": [
    "## Исследование задачи"
   ]
  },
  {
   "cell_type": "code",
   "execution_count": 22,
   "metadata": {},
   "outputs": [],
   "source": [
    "def decision_tree(X_train, X_valid, y_train, y_valid, cw='balanced'):\n",
    "    \"\"\"\n",
    "    input: X_train, X_valid, y_train, y_valid - обучающие и валидационные выборки признаков и целевого признака\n",
    "            cw - параметр class_weight для модели решающего дерева\n",
    "    output: None\n",
    "    description: функция обучает модель решающего дерева DecisionTreeClassifier с различными сочетаниями гиперпараметров;\n",
    "                 метрики качества модели: f1 и roc_auc;\n",
    "                 функция выводит наилучшие значения метрик и значения гиперпараметров наилучшей модели.\n",
    "    \"\"\"\n",
    "    # в параметрах best_params_f1 и best_f1 будем хранить наилучшие параметры для модели и наивысшую f1 метрику соответственно\n",
    "    best_params_f1 = []\n",
    "    best_f1 = 0\n",
    "    # аналогично для roc_auc метрики.\n",
    "    best_params_roc_auc = []\n",
    "    best_roc_auc = 0.5\n",
    "    # проходим в циклах по всем выбранным гиперпараметрам\n",
    "    for max_depth in range(4,10):\n",
    "        for min_samples_split in range(5,15):\n",
    "            for min_samples_leaf in range(5,10):\n",
    "                for criterion in ['gini', 'entropy']:\n",
    "                    # инициация модели с текущими гиперпараметрами\n",
    "                    model_dt_clf = DecisionTreeClassifier(random_state=RND,\n",
    "                                                          max_depth=max_depth,\n",
    "                                                          min_samples_split=min_samples_split,\n",
    "                                                          min_samples_leaf=min_samples_leaf,\n",
    "                                                          criterion=criterion,\n",
    "                                                          class_weight=cw)\n",
    "                    # обучение модели на тренировочной выборке\n",
    "                    model_dt_clf.fit(X_train, y_train)\n",
    "                    # поиск предсказаний модели на валидационной выбоке\n",
    "                    predictions = model_dt_clf.predict(X_valid)\n",
    "                    # получение вероятностей классов для расчета roc_auc\n",
    "                    probabilities_valid = model_dt_clf.predict_proba(X_valid)\n",
    "                    # вычисление f1 модели методом f1_score\n",
    "                    f1 = f1_score(y_valid, predictions)\n",
    "                    # если текущее значение метрики f1 выше предыдущего лучшего значения, \n",
    "                    # сохраняем параметры модели и текущую метрику f1\n",
    "                    if f1 > best_f1:\n",
    "                        best_params_f1 = [max_depth, min_samples_split, min_samples_leaf, criterion]\n",
    "                        best_f1 = f1\n",
    "                    # аналогично для метрики roc_auc\n",
    "                    roc_auc = roc_auc_score(y_valid, probabilities_valid[:, 1])\n",
    "                    if roc_auc > best_roc_auc:\n",
    "                        best_params_roc_auc = [max_depth, min_samples_split, min_samples_leaf, criterion]\n",
    "                        best_roc_auc = roc_auc\n",
    "    \n",
    "    # вывод наилучшей метрики f1 и параметров модели.\n",
    "    print('''Наилучшая метрика f1: {}\n",
    "    Параметры модели:\n",
    "       max_depth = {}\n",
    "       min_samples_split = {}\n",
    "       min_samples_leaf = {}\n",
    "       criterion = {} \\n'''.format(round(best_f1, 3),\n",
    "                                 best_params_f1[0],\n",
    "                                 best_params_f1[1],\n",
    "                                 best_params_f1[2],\n",
    "                                 best_params_f1[3]\n",
    "                                ))\n",
    "    \n",
    "    # вывод наилучшей метрики roc_auc и параметров модели.\n",
    "    print('''Наилучшая метрика roc_auc: {}\n",
    "    Параметры модели:\n",
    "       max_depth = {}\n",
    "       min_samples_split = {}\n",
    "       min_samples_leaf = {}\n",
    "       criterion = {} '''.format(round(best_roc_auc, 3),\n",
    "                                 best_params_roc_auc[0],\n",
    "                                 best_params_roc_auc[1],\n",
    "                                 best_params_roc_auc[2],\n",
    "                                 best_params_roc_auc[3]\n",
    "                                ))"
   ]
  },
  {
   "cell_type": "code",
   "execution_count": 23,
   "metadata": {},
   "outputs": [
    {
     "name": "stdout",
     "output_type": "stream",
     "text": [
      "Наилучшая метрика f1: 0.603\n",
      "    Параметры модели:\n",
      "       max_depth = 6\n",
      "       min_samples_split = 5\n",
      "       min_samples_leaf = 6\n",
      "       criterion = entropy \n",
      "\n",
      "Наилучшая метрика roc_auc: 0.859\n",
      "    Параметры модели:\n",
      "       max_depth = 7\n",
      "       min_samples_split = 5\n",
      "       min_samples_leaf = 6\n",
      "       criterion = entropy \n"
     ]
    }
   ],
   "source": [
    "decision_tree(features_train, features_valid,target_train, target_valid, cw=None)"
   ]
  },
  {
   "cell_type": "code",
   "execution_count": 24,
   "metadata": {},
   "outputs": [
    {
     "name": "stdout",
     "output_type": "stream",
     "text": [
      "Наилучшая метрика f1: 0.617\n",
      "    Параметры модели:\n",
      "       max_depth = 8\n",
      "       min_samples_split = 5\n",
      "       min_samples_leaf = 7\n",
      "       criterion = entropy \n",
      "\n",
      "Наилучшая метрика roc_auc: 0.861\n",
      "    Параметры модели:\n",
      "       max_depth = 7\n",
      "       min_samples_split = 5\n",
      "       min_samples_leaf = 7\n",
      "       criterion = entropy \n"
     ]
    }
   ],
   "source": [
    "decision_tree(features_train, features_valid,target_train, target_valid)"
   ]
  },
  {
   "cell_type": "markdown",
   "metadata": {},
   "source": [
    "**Итоги по алгоритму Дерево решений**\n",
    "\n",
    "Привели расчет f1-меры для алгоритма МО Дерево решений. На выборке валидации лучшей результат показала модель, для которой выставлен параметр балансировки по классам.\n",
    "\n",
    "**С параметром балансировки классов равным None**\n",
    "- Наилучшая метрика f1: 0.603\n",
    "- Параметры модели:\n",
    "       - max_depth = 6\n",
    "       - min_samples_split = 5\n",
    "       - min_samples_leaf = 6\n",
    "       - criterion = entropy \n",
    "\n",
    "- Наилучшая метрика roc_auc: 0.859\n",
    "- Параметры модели:\n",
    "       - max_depth = 7\n",
    "       - min_samples_split = 5\n",
    "       - min_samples_leaf = 6\n",
    "       - criterion = entropy \n",
    "       \n",
    "**С параметром балансировки классов равным balanced**       \n",
    "- Наилучшая метрика f1: 0.617\n",
    "- Параметры модели:\n",
    "       - max_depth = 8\n",
    "       - min_samples_split = 5\n",
    "       - min_samples_leaf = 7\n",
    "       - criterion = entropy \n",
    "\n",
    "- Наилучшая метрика roc_auc: 0.861\n",
    "- Параметры модели:\n",
    "       - max_depth = 7\n",
    "       - min_samples_split = 5\n",
    "       - min_samples_leaf = 7\n",
    "       - criterion = entropy "
   ]
  },
  {
   "cell_type": "code",
   "execution_count": 25,
   "metadata": {},
   "outputs": [],
   "source": [
    "def random_forest(X_train, X_valid, y_train, y_valid, cw='balanced'):\n",
    "    \"\"\"\n",
    "    input: X_train, X_valid, y_train, y_valid - обучающие и валидационные выборки признаков и целевого признака\n",
    "            cw - параметр class_weight для модели случайного леса\n",
    "    output: None\n",
    "    description: функция обучает модель решающего дерева RandomForestClassifier с различными сочетаниями гиперпараметров;\n",
    "                 метрики качества модели: f1 и roc_auc;\n",
    "                 функция выводит наилучшие значения метрик и значения гиперпараметров наилучшей модели.\n",
    "    \"\"\"\n",
    "    # в параметрах best_params_f1 и best_f1 будем хранить наилучшие параметры для модели и наивысшую f1 метрику соответственно\n",
    "    best_params_f1 = []\n",
    "    best_f1 = 0\n",
    "    # аналогично для roc_auc метрики.\n",
    "    best_params_roc_auc = []\n",
    "    best_roc_auc = 0.5\n",
    "    # проходим в циклах по всем выбранным гиперпараметрам\n",
    "    for n_estimators in range(40,140,10):\n",
    "        for max_depth in range(2,12):\n",
    "                    # инициация модели с текущими гиперпараметрами\n",
    "                    model_rf_clf = RandomForestClassifier(random_state=RND,\n",
    "                                                          n_estimators=n_estimators,\n",
    "                                                          max_depth=max_depth,\n",
    "                                                          class_weight=cw)\n",
    "                    # обучение модели на тренировочной выборке\n",
    "                    model_rf_clf.fit(X_train, y_train)\n",
    "                    # поиск предсказаний модели на валидационной выбоке\n",
    "                    predictions = model_rf_clf.predict(X_valid)\n",
    "                    # получение вероятностей классов для расчета roc_auc\n",
    "                    probabilities_valid = model_rf_clf.predict_proba(X_valid)\n",
    "                    # вычисление f1 модели методом f1_score\n",
    "                    f1 = f1_score(y_valid, predictions)\n",
    "                    # если текущее значение метрики f1 выше предыдущего лучшего значения, \n",
    "                    # сохраняем параметры модели и текущую метрику f1\n",
    "                    if f1 > best_f1:\n",
    "                        best_params_f1 = [n_estimators, max_depth]\n",
    "                        best_f1 = f1\n",
    "                    # аналогично для метрики roc_auc\n",
    "                    roc_auc = roc_auc_score(y_valid, probabilities_valid[:, 1])\n",
    "                    if roc_auc > best_roc_auc:\n",
    "                        best_params_roc_auc = [n_estimators, max_depth]\n",
    "                        best_roc_auc = roc_auc\n",
    "\n",
    "    # вывод наилучшей метрики f1 и параметров модели.\n",
    "    print('''Наилучшая метрика f1: {}\n",
    "    Парамтеры модели:\n",
    "       n_estimators = {}\n",
    "       max_depth = {}\n",
    "       \\n'''.format(round(best_f1, 3),\n",
    "                                 best_params_f1[0],\n",
    "                                 best_params_f1[1]                                 \n",
    "                                ))\n",
    "\n",
    "    # вывод наилучшей метрики roc_auc и параметров модели.\n",
    "    print('''Наилучшая метрика roc_auc: {}\n",
    "    Парамтеры модели:\n",
    "       n_estimators = {}\n",
    "       max_depth = {}\n",
    "       '''.format(round(best_roc_auc, 3),\n",
    "                                 best_params_roc_auc[0],\n",
    "                                 best_params_roc_auc[1]\n",
    "                                       ))"
   ]
  },
  {
   "cell_type": "code",
   "execution_count": 26,
   "metadata": {},
   "outputs": [
    {
     "name": "stdout",
     "output_type": "stream",
     "text": [
      "Наилучшая метрика f1: 0.602\n",
      "    Парамтеры модели:\n",
      "       n_estimators = 40\n",
      "       max_depth = 11\n",
      "       \n",
      "\n",
      "Наилучшая метрика roc_auc: 0.875\n",
      "    Парамтеры модели:\n",
      "       n_estimators = 130\n",
      "       max_depth = 9\n",
      "       \n"
     ]
    }
   ],
   "source": [
    "random_forest(features_train, features_valid,target_train, target_valid, cw=None)"
   ]
  },
  {
   "cell_type": "code",
   "execution_count": 27,
   "metadata": {},
   "outputs": [
    {
     "name": "stdout",
     "output_type": "stream",
     "text": [
      "Наилучшая метрика f1: 0.649\n",
      "    Парамтеры модели:\n",
      "       n_estimators = 110\n",
      "       max_depth = 9\n",
      "       \n",
      "\n",
      "Наилучшая метрика roc_auc: 0.871\n",
      "    Парамтеры модели:\n",
      "       n_estimators = 100\n",
      "       max_depth = 7\n",
      "       \n"
     ]
    }
   ],
   "source": [
    "random_forest(features_train, features_valid,target_train, target_valid, cw='balanced')"
   ]
  },
  {
   "cell_type": "markdown",
   "metadata": {},
   "source": [
    "**Итоги по алгоритму Случайный лес**\n",
    "\n",
    "Привели расчет f1-меры для алгоритма МО Случайный лес. На выборке валидации лучшей результат показала модель, для которой выставлен параметр балансировки по классам.\n",
    "\n",
    "**С параметром балансировки классов равным None**\n",
    "\n",
    "- Наилучшая метрика f1: 0.602\n",
    "- Парамтеры модели:\n",
    "       - n_estimators = 40\n",
    "       - max_depth = 11\n",
    "      \n",
    "- Наилучшая метрика roc_auc: 0.875\n",
    "- Парамтеры модели:\n",
    "       - n_estimators = 130\n",
    "       - max_depth = 9\n",
    "       \n",
    "**С параметром балансировки классов равным balanced**       \n",
    "\n",
    "- Наилучшая метрика f1: 0.649\n",
    "- Парамтеры модели:\n",
    "       - n_estimators = 110\n",
    "       - max_depth = 9\n",
    "       \n",
    "\n",
    "- Наилучшая метрика roc_auc: 0.871\n",
    "- Парамтеры модели:\n",
    "       - n_estimators = 100\n",
    "       - max_depth = 7"
   ]
  },
  {
   "cell_type": "code",
   "execution_count": 28,
   "metadata": {},
   "outputs": [],
   "source": [
    "def log_reg(X_train, X_valid, y_train, y_valid, cw='balanced'):\n",
    "    \"\"\"\n",
    "    input: X_train, X_valid, y_train, y_valid - обучающие и валидационные выборки признаков и целевого признака\n",
    "            cw - параметр class_weight для модели логистической регрессии\n",
    "    output: None\n",
    "    description: функция обучает модель логистической регрессии LogisticRegression с различными сочетаниями гиперпараметров;\n",
    "                 метрики качества модели: f1 и roc_auc;\n",
    "                 функция выводит наилучшие значения метрик и значения гиперпараметров наилучшей модели.\n",
    "    \"\"\"\n",
    "    # в параметрах best_params_f1 и best_f1 будем хранить наилучшие параметры для модели и наивысшую f1 метрику соответственно\n",
    "    best_params_f1 = []\n",
    "    best_f1 = 0\n",
    "    # аналогично для roc_auc метрики.\n",
    "    best_params_roc_auc = []\n",
    "    best_roc_auc = 0.5\n",
    "    # проходим в циклах по всем выбранным гиперпараметрам\n",
    "    for C in range(1, 10):\n",
    "        # инициация модели с текущими гиперпараметрами\n",
    "        model_lr_clf = LogisticRegression(random_state=RND,\n",
    "                                      C=C,\n",
    "                                      max_iter=100,\n",
    "                                      class_weight=cw,\n",
    "                                      solver='liblinear')\n",
    "        # обучение модели на тренировочной выборке\n",
    "        model_lr_clf.fit(X_train, y_train)\n",
    "        # поиск предсказаний модели на валидационной выбоке\n",
    "        predictions = model_lr_clf.predict(X_valid)\n",
    "        # получение вероятностей классов для расчета roc_auc\n",
    "        probabilities_valid = model_lr_clf.predict_proba(X_valid)\n",
    "        # вычисление f1 модели методом f1_score\n",
    "        f1 = f1_score(y_valid, predictions)\n",
    "        # если текущее значение метрики f1 выше предыдущего лучшего значения, \n",
    "        # сохраняем параметры модели и текущую метрику f1\n",
    "        if f1 > best_f1:\n",
    "            best_params_f1 = [C]\n",
    "            best_f1 = f1\n",
    "        # аналогично для метрики roc_auc\n",
    "        roc_auc = roc_auc_score(y_valid, probabilities_valid[:, 1])\n",
    "        if roc_auc > best_roc_auc:\n",
    "            best_params_roc_auc = [C]\n",
    "            best_roc_auc = roc_auc     \n",
    "    # вывод наилучшей метрики f1 и параметров модели.\n",
    "    print('''Наилучшая метрика f1: {}\n",
    "    Парамтеры модели:\n",
    "       Inverse of regularization strength = {}\n",
    "       \\n'''.format(round(best_f1, 3),\n",
    "                                 best_params_f1[0]\n",
    "                               ))\n",
    "\n",
    "    # вывод наилучшей метрики roc_auc и параметров модели.\n",
    "    print('''Наилучшая метрика roc_auc: {}\n",
    "    Парамтеры модели:\n",
    "       Inverse of regularization strength = {}\n",
    "        '''.format(round(best_roc_auc, 3),\n",
    "                                 best_params_roc_auc[0]\n",
    "                              \n",
    "                                ))"
   ]
  },
  {
   "cell_type": "code",
   "execution_count": 29,
   "metadata": {},
   "outputs": [
    {
     "name": "stdout",
     "output_type": "stream",
     "text": [
      "Наилучшая метрика f1: 0.311\n",
      "    Парамтеры модели:\n",
      "       Inverse of regularization strength = 2\n",
      "       \n",
      "\n",
      "Наилучшая метрика roc_auc: 0.787\n",
      "    Парамтеры модели:\n",
      "       Inverse of regularization strength = 8\n",
      "        \n"
     ]
    }
   ],
   "source": [
    "log_reg(features_train, features_valid,target_train, target_valid, cw=None)"
   ]
  },
  {
   "cell_type": "code",
   "execution_count": 30,
   "metadata": {},
   "outputs": [
    {
     "name": "stdout",
     "output_type": "stream",
     "text": [
      "Наилучшая метрика f1: 0.529\n",
      "    Парамтеры модели:\n",
      "       Inverse of regularization strength = 1\n",
      "       \n",
      "\n",
      "Наилучшая метрика roc_auc: 0.794\n",
      "    Парамтеры модели:\n",
      "       Inverse of regularization strength = 1\n",
      "        \n"
     ]
    }
   ],
   "source": [
    "log_reg(features_train, features_valid,target_train, target_valid, cw='balanced')"
   ]
  },
  {
   "cell_type": "markdown",
   "metadata": {},
   "source": [
    "\n",
    "**Итоги по алгоритму Случайный лес**\n",
    "\n",
    "Привели расчет f1-меры для алгоритма МО Логистическая регрессия. На выборке валидации лучший результат показала модель, для которой выставлен параметр балансировки по классам. Но данная модель показала худшие результаты даже на выборке валидации, поэтому из дальнейшего рассмотрения ее исключим. Видимо виной всему неудачное название - \"регрессия\"))), а мы тут классифицировать пытаемся))  \n",
    "\n",
    "**С параметром балансировки классов равным None**\n",
    "- Наилучшая метрика f1: 0.311\n",
    "- Наилучшая метрика roc_auc: 0.787\n",
    "\n",
    "**С параметром балансировки классов равным balanced**       \n",
    "- Наилучшая метрика f1: 0.529\n",
    "- Наилучшая метрика roc_auc: 0.794\n",
    "\n"
   ]
  },
  {
   "cell_type": "markdown",
   "metadata": {},
   "source": [
    "### Выводы"
   ]
  },
  {
   "cell_type": "markdown",
   "metadata": {},
   "source": [
    "\n",
    "- Провели обучение 3-х моделей машинного обучения с параметром балансировки классов равным balanced и None;\n",
    "- Результаты показали, что параметр балансировки классов balanced показал лучшие результаты;\n",
    "- Среди моделей наилучший результат на выборке валидации показала модель МО Случайный лес с наилучшим значением метрики f1: 0.649;\n",
    "- хорошие результаты показала модель МО Дерево решений;\n",
    "- модель логистической регрессии не предполагается использовать для решения этой задачи в виду низких результатов.\n",
    "\n"
   ]
  },
  {
   "cell_type": "markdown",
   "metadata": {},
   "source": [
    "## Борьба с дисбалансом"
   ]
  },
  {
   "cell_type": "markdown",
   "metadata": {},
   "source": [
    "### Увеличение выборки по классу 1"
   ]
  },
  {
   "cell_type": "code",
   "execution_count": 31,
   "metadata": {},
   "outputs": [],
   "source": [
    "def upsample(features, target, repeat):\n",
    "\n",
    "    features_zeros = features[target == 0]\n",
    "    features_ones = features[target == 1]\n",
    "    target_zeros = target[target == 0]\n",
    "    target_ones = target[target == 1]\n",
    "    \n",
    "    features_upsampled = pd.concat([features_zeros] + [features_ones] * repeat)\n",
    "    target_upsampled = pd.concat([target_zeros] + [target_ones] * repeat)\n",
    "    #произведем перемешивание выборки для лучшего обучения\n",
    "    features_upsampled, target_upsampled = shuffle(\n",
    "        features_upsampled, target_upsampled, random_state=RND)\n",
    "    return features_upsampled, target_upsampled"
   ]
  },
  {
   "cell_type": "code",
   "execution_count": 32,
   "metadata": {},
   "outputs": [],
   "source": [
    "features_train_up, target_train_up = upsample(features_train, target_train, 4) \n",
    "# так как дисбаланс между классами 1 к 4, то повторим строки со значеними целеового признака 4 раза"
   ]
  },
  {
   "cell_type": "code",
   "execution_count": 33,
   "metadata": {},
   "outputs": [
    {
     "data": {
      "text/plain": [
       "0.9774959083469722"
      ]
     },
     "execution_count": 33,
     "metadata": {},
     "output_type": "execute_result"
    }
   ],
   "source": [
    "(target_train_up[target_train_up == 0].shape[0])/(target_train_up[target_train_up == 1].shape)[0]"
   ]
  },
  {
   "cell_type": "markdown",
   "metadata": {},
   "source": [
    "Соотношение классов в результате получилось около единицы, что и требовалось получить"
   ]
  },
  {
   "cell_type": "code",
   "execution_count": 34,
   "metadata": {},
   "outputs": [
    {
     "name": "stdout",
     "output_type": "stream",
     "text": [
      "Наилучшая метрика f1: 0.591\n",
      "    Параметры модели:\n",
      "       max_depth = 8\n",
      "       min_samples_split = 5\n",
      "       min_samples_leaf = 7\n",
      "       criterion = entropy \n",
      "\n",
      "Наилучшая метрика roc_auc: 0.851\n",
      "    Параметры модели:\n",
      "       max_depth = 6\n",
      "       min_samples_split = 5\n",
      "       min_samples_leaf = 8\n",
      "       criterion = entropy \n"
     ]
    }
   ],
   "source": [
    "decision_tree(features_train_up, features_valid,target_train_up, target_valid, cw=None)"
   ]
  },
  {
   "cell_type": "code",
   "execution_count": 35,
   "metadata": {},
   "outputs": [
    {
     "name": "stdout",
     "output_type": "stream",
     "text": [
      "Наилучшая метрика f1: 0.649\n",
      "    Парамтеры модели:\n",
      "       n_estimators = 70\n",
      "       max_depth = 10\n",
      "       \n",
      "\n",
      "Наилучшая метрика roc_auc: 0.873\n",
      "    Парамтеры модели:\n",
      "       n_estimators = 130\n",
      "       max_depth = 9\n",
      "       \n"
     ]
    }
   ],
   "source": [
    "random_forest(features_train_up, features_valid,target_train_up, target_valid, cw=None)"
   ]
  },
  {
   "cell_type": "markdown",
   "metadata": {},
   "source": [
    "Применение метода upsample не позволило получить лучшие результаты на выборке валидации. Для Дерева решений результат оказался хуже, а для Случайного леса - результат аналогичный."
   ]
  },
  {
   "cell_type": "markdown",
   "metadata": {},
   "source": [
    "### Уменьшение выборки по классу 0"
   ]
  },
  {
   "cell_type": "code",
   "execution_count": 36,
   "metadata": {},
   "outputs": [],
   "source": [
    "def downsample(features, target, fraction):\n",
    "\n",
    "    features_zeros = features[target == 0]\n",
    "    features_ones = features[target == 1]\n",
    "    target_zeros = target[target == 0]\n",
    "    target_ones = target[target == 1]\n",
    "    \n",
    "    features_downsampled = pd.concat(\n",
    "        [features_zeros.sample(frac=fraction, random_state=RND)] + [features_ones])\n",
    "    target_downsampled = pd.concat(\n",
    "        [target_zeros.sample(frac=fraction, random_state=RND)] + [target_ones])\n",
    "    \n",
    "    features_downsampled, target_downsampled = shuffle(\n",
    "        features_downsampled, target_downsampled, random_state=RND)\n",
    "    return features_downsampled, target_downsampled"
   ]
  },
  {
   "cell_type": "code",
   "execution_count": 37,
   "metadata": {},
   "outputs": [],
   "source": [
    "features_train_dn, target_train_dn = downsample(features_train, target_train, 0.25)"
   ]
  },
  {
   "cell_type": "code",
   "execution_count": 38,
   "metadata": {},
   "outputs": [
    {
     "data": {
      "text/plain": [
       "(1194, 11)"
      ]
     },
     "execution_count": 38,
     "metadata": {},
     "output_type": "execute_result"
    }
   ],
   "source": [
    "features_train_dn[target_train_dn == 0].shape\n"
   ]
  },
  {
   "cell_type": "code",
   "execution_count": 39,
   "metadata": {},
   "outputs": [
    {
     "data": {
      "text/plain": [
       "(1222, 11)"
      ]
     },
     "execution_count": 39,
     "metadata": {},
     "output_type": "execute_result"
    }
   ],
   "source": [
    "features_train_dn[target_train_dn == 1].shape"
   ]
  },
  {
   "cell_type": "code",
   "execution_count": 40,
   "metadata": {},
   "outputs": [
    {
     "name": "stdout",
     "output_type": "stream",
     "text": [
      "Наилучшая метрика f1: 0.602\n",
      "    Параметры модели:\n",
      "       max_depth = 8\n",
      "       min_samples_split = 5\n",
      "       min_samples_leaf = 9\n",
      "       criterion = gini \n",
      "\n",
      "Наилучшая метрика roc_auc: 0.854\n",
      "    Параметры модели:\n",
      "       max_depth = 6\n",
      "       min_samples_split = 5\n",
      "       min_samples_leaf = 9\n",
      "       criterion = gini \n"
     ]
    }
   ],
   "source": [
    "decision_tree(features_train_dn, features_valid,target_train_dn, target_valid, cw=None)"
   ]
  },
  {
   "cell_type": "code",
   "execution_count": 41,
   "metadata": {},
   "outputs": [
    {
     "name": "stdout",
     "output_type": "stream",
     "text": [
      "Наилучшая метрика f1: 0.634\n",
      "    Парамтеры модели:\n",
      "       n_estimators = 40\n",
      "       max_depth = 6\n",
      "       \n",
      "\n",
      "Наилучшая метрика roc_auc: 0.869\n",
      "    Парамтеры модели:\n",
      "       n_estimators = 120\n",
      "       max_depth = 7\n",
      "       \n"
     ]
    }
   ],
   "source": [
    "random_forest(features_train_dn, features_valid,target_train_dn, target_valid, cw=None)"
   ]
  },
  {
   "cell_type": "markdown",
   "metadata": {},
   "source": [
    "Применение метода downsample не позволило получить лучшие результаты на выборке валидации. "
   ]
  },
  {
   "cell_type": "markdown",
   "metadata": {},
   "source": [
    "### Вывод"
   ]
  },
  {
   "cell_type": "markdown",
   "metadata": {},
   "source": [
    "Применение методов downsample и upsample не позволило получить лучшие результаты по сравнению с применением параметра class_weight = balanced на выборке валидации"
   ]
  },
  {
   "cell_type": "markdown",
   "metadata": {},
   "source": [
    "## Тестирование модели"
   ]
  },
  {
   "cell_type": "markdown",
   "metadata": {},
   "source": [
    "### Деревое решений "
   ]
  },
  {
   "cell_type": "markdown",
   "metadata": {},
   "source": [
    "#### Дерево решений со стандартной  для метода балансировкой по классам "
   ]
  },
  {
   "cell_type": "code",
   "execution_count": 42,
   "metadata": {},
   "outputs": [
    {
     "name": "stdout",
     "output_type": "stream",
     "text": [
      "f1 = 0.576\n"
     ]
    }
   ],
   "source": [
    "model_dt_clf = DecisionTreeClassifier(random_state=RND,\n",
    "                                      max_depth=8,\n",
    "                                      min_samples_split=5,\n",
    "                                      min_samples_leaf=7,\n",
    "                                      criterion='entropy' ,\n",
    "                                      class_weight='balanced')\n",
    "          \n",
    "model_dt_clf.fit(features_train, target_train)\n",
    "predictions = model_dt_clf.predict(features_test)\n",
    "f1 = f1_score(target_test, predictions)\n",
    "print(\"f1 = {:.3f}\".format(f1))"
   ]
  },
  {
   "cell_type": "markdown",
   "metadata": {},
   "source": [
    "#### Дерево решений с балансировкой по классам на освоме метода upsample"
   ]
  },
  {
   "cell_type": "code",
   "execution_count": 43,
   "metadata": {},
   "outputs": [
    {
     "name": "stdout",
     "output_type": "stream",
     "text": [
      "f1 = 0.567\n"
     ]
    }
   ],
   "source": [
    "model_dt_clf = DecisionTreeClassifier(random_state=RND,\n",
    "                                                          max_depth=8,\n",
    "                                                          min_samples_split=5,\n",
    "                                                          min_samples_leaf=7,\n",
    "                                                          criterion='entropy' ,\n",
    "                                                         )\n",
    "          \n",
    "model_dt_clf.fit(features_train_up, target_train_up)\n",
    "predictions = model_dt_clf.predict(features_test)\n",
    "f1 = f1_score(target_test, predictions)\n",
    "print(\"f1 = {:.3f}\".format(f1))"
   ]
  },
  {
   "cell_type": "markdown",
   "metadata": {},
   "source": [
    "#### Дерево решений с балансировкой по классам на освоме метода downsample"
   ]
  },
  {
   "cell_type": "code",
   "execution_count": 44,
   "metadata": {},
   "outputs": [
    {
     "name": "stdout",
     "output_type": "stream",
     "text": [
      "f1 = 0.549\n"
     ]
    }
   ],
   "source": [
    "model_dt_clf = DecisionTreeClassifier(random_state=RND,\n",
    "                                                          max_depth=8,\n",
    "                                                          min_samples_split=5,\n",
    "                                                          min_samples_leaf=9,\n",
    "                                                          criterion='gini' ,\n",
    "                                                         )\n",
    "          \n",
    "model_dt_clf.fit(features_train_dn, target_train_dn)\n",
    "predictions = model_dt_clf.predict(features_test)\n",
    "f1 = f1_score(target_test, predictions)\n",
    "print(\"f1 = {:.3f}\".format(f1))"
   ]
  },
  {
   "cell_type": "markdown",
   "metadata": {},
   "source": [
    "Деревья решений (классификации) показали плохой результат на тестовой выборке по причине переобучения. Данную проблему можно частично решить за счет кросс-валидации или применения алгоритма МО Случайного леса, который менее склонен к переобучению"
   ]
  },
  {
   "cell_type": "markdown",
   "metadata": {},
   "source": [
    " ### Случайный лес"
   ]
  },
  {
   "cell_type": "markdown",
   "metadata": {},
   "source": [
    "#### Случайный лес со стандартной  для метода балансировкой по классам"
   ]
  },
  {
   "cell_type": "code",
   "execution_count": 45,
   "metadata": {},
   "outputs": [
    {
     "name": "stdout",
     "output_type": "stream",
     "text": [
      "f1 = 0.6126\n"
     ]
    }
   ],
   "source": [
    "model_rf_clf = RandomForestClassifier(random_state=RND,\n",
    "                                    n_estimators=110,\n",
    "                                    max_depth=9,\n",
    "                                    class_weight='balanced')\n",
    "# обучение модели на тренировочной выборке\n",
    "model_rf_clf.fit(features_train, target_train)\n",
    "# поиск предсказаний модели на валидационной выбоке\n",
    "predictions = model_rf_clf.predict(features_test)\n",
    "# вычисление f1 модели методом f1_score\n",
    "f1 = f1_score(target_test, predictions)\n",
    "print(\"f1 = {:.4f}\".format(f1))"
   ]
  },
  {
   "cell_type": "code",
   "execution_count": 46,
   "metadata": {},
   "outputs": [],
   "source": [
    "#функция для построения ROC-кривой и расчета показателя ROC-AUC\n",
    "def roc_curve_plot(model, name): \n",
    "    p_test = model.predict_proba(features_test)\n",
    "    p_test = p_test[:, 1]\n",
    "    auc_roc = roc_auc_score(target_test, p_test)\n",
    "    fpr, tpr, thresholds = roc_curve(target_test, p_test)\n",
    "    plt.figure(figsize=(5,5))\n",
    "    plt.plot(fpr, tpr, color='mediumblue')\n",
    "    plt.plot([0, 1], [0, 1], linestyle='--', color='firebrick')\n",
    "    plt.xlim([0.0, 1.0])\n",
    "    plt.ylim([0.0, 1.0])\n",
    "    plt.xlabel('False Positive Rate')\n",
    "    plt.ylabel('True Positive Rate')\n",
    "    plt.title('ROC-кривая модели {}'.format(name))    \n",
    "    plt.show()\n",
    "    print('AUC-ROC модели {} = {:.3}'.format(name, auc_roc))"
   ]
  },
  {
   "cell_type": "code",
   "execution_count": 47,
   "metadata": {},
   "outputs": [
    {
     "data": {
      "image/png": "[encoded data removed]",
      "text/plain": [
       "<Figure size 360x360 with 1 Axes>"
      ]
     },
     "metadata": {
      "needs_background": "light"
     },
     "output_type": "display_data"
    },
    {
     "name": "stdout",
     "output_type": "stream",
     "text": [
      "AUC-ROC модели RandomForestClassifier = 0.853\n"
     ]
    }
   ],
   "source": [
    "roc_curve_plot(model_rf_clf, 'RandomForestClassifier')"
   ]
  },
  {
   "cell_type": "markdown",
   "metadata": {},
   "source": [
    "#### Случайный лес  с балансировкой классам на освоме метода upsample"
   ]
  },
  {
   "cell_type": "code",
   "execution_count": 48,
   "metadata": {},
   "outputs": [
    {
     "name": "stdout",
     "output_type": "stream",
     "text": [
      "f1 = 0.608\n"
     ]
    }
   ],
   "source": [
    "model_rf_clf = RandomForestClassifier(random_state=RND,\n",
    "                                    n_estimators=70,\n",
    "                                    max_depth=10,\n",
    "                                   )\n",
    "# обучение модели на тренировочной выборке\n",
    "model_rf_clf.fit(features_train_up, target_train_up)\n",
    "# поиск предсказаний модели на валидационной выбоке\n",
    "predictions = model_rf_clf.predict(features_test)\n",
    "# вычисление f1 модели методом f1_score\n",
    "f1 = f1_score(target_test, predictions)\n",
    "print(\"f1 = {:.3f}\".format(f1))"
   ]
  },
  {
   "cell_type": "code",
   "execution_count": 49,
   "metadata": {},
   "outputs": [
    {
     "data": {
      "image/png": "[encoded data removed]",
      "text/plain": [
       "<Figure size 360x360 with 1 Axes>"
      ]
     },
     "metadata": {
      "needs_background": "light"
     },
     "output_type": "display_data"
    },
    {
     "name": "stdout",
     "output_type": "stream",
     "text": [
      "AUC-ROC модели RandomForestClassifier = 0.852\n"
     ]
    }
   ],
   "source": [
    "roc_curve_plot(model_rf_clf, 'RandomForestClassifier')"
   ]
  },
  {
   "cell_type": "markdown",
   "metadata": {},
   "source": [
    "#### Случайный лес с балансировкой классам на освоме метода downsample"
   ]
  },
  {
   "cell_type": "code",
   "execution_count": 50,
   "metadata": {},
   "outputs": [
    {
     "name": "stdout",
     "output_type": "stream",
     "text": [
      "f1 = 0.5803\n"
     ]
    }
   ],
   "source": [
    "model_rf_clf = RandomForestClassifier(random_state=RND,\n",
    "                                    n_estimators=40,\n",
    "                                    max_depth=6,\n",
    "                                    )\n",
    "# обучение модели на тренировочной выборке\n",
    "model_rf_clf.fit(features_train_dn, target_train_dn)\n",
    "# поиск предсказаний модели на валидационной выбоке\n",
    "predictions = model_rf_clf.predict(features_test)\n",
    "# вычисление f1 модели методом f1_score\n",
    "f1 = f1_score(target_test, predictions)\n",
    "print(\"f1 = {:.4f}\".format(f1))"
   ]
  },
  {
   "cell_type": "code",
   "execution_count": 51,
   "metadata": {},
   "outputs": [
    {
     "data": {
      "image/png": "[encoded data removed]",
      "text/plain": [
       "<Figure size 360x360 with 1 Axes>"
      ]
     },
     "metadata": {
      "needs_background": "light"
     },
     "output_type": "display_data"
    },
    {
     "name": "stdout",
     "output_type": "stream",
     "text": [
      "AUC-ROC модели RandomForestClassifier = 0.855\n"
     ]
    }
   ],
   "source": [
    "roc_curve_plot(model_rf_clf, 'RandomForestClassifier')"
   ]
  },
  {
   "cell_type": "markdown",
   "metadata": {},
   "source": [
    "На тестовой выборке для моделей МО Случайный лес результаты заметно упали. Хотя модель Случайный лес менее склонна к переобучению чем Дерево решений, но, видимо, Случайный лес переобучился на выборке валидации. Хуже всего показал себя метод с балансировкой классам на основе метода downsample. Два других метода для работы с балансировкой показали аналогичную точность на тестовой выборке 0.613 и 0.608 (upsample).\n",
    "Значение метрики AUC-ROC для всех трех моделей МО Случайный лес получились близкие, данная метрика позволяет выявить потенциального хорошие алгоритмы, которые можно еще немного улучшить. "
   ]
  },
  {
   "cell_type": "markdown",
   "metadata": {},
   "source": [
    "### Вывод\n"
   ]
  },
  {
   "cell_type": "markdown",
   "metadata": {},
   "source": [
    "В результате проверки на тестовой выборке можно сделать следующие выводы:\n",
    "- модели МО Дерево решений переобучились и показали значительно худшие результаты на тестовой выборке чем на выборке валидации. При работе с данными моделями целесообразно подбирать параметры так  чтобы уменьшить вероятность переобучения. Например, можно уменьшать глубину дерева, увеличивать минимальное число элементов в листе, увеличивать минимальное число элементов в узле для разделения. Но сложная подгонка для данных моделей не имеет большого смысла в виду наличия Случайных лесов;\n",
    "- модели Случайного леса показали результаты тоже более низкие по сравнению с выборкой валидации, но в целом результат удовлетворяет поставленному требованию в 0.59;\n",
    "- применение методов downsample и upsample не имеет большого преимущество по сравнению с выставлением параметра обучения моделей class_weight = balanced, аналогичный вывод был получен и на выборке валидации.\n",
    "- значение метрики AUC-ROC для всех трех моделей МО Случайный лес получились близкие, данная метрика позволяет выявить потенциального хорошие алгоритмы, которые можно еще немного улучшить. \n"
   ]
  },
  {
   "cell_type": "markdown",
   "metadata": {},
   "source": [
    "## Дополнительные методы "
   ]
  },
  {
   "cell_type": "markdown",
   "metadata": {},
   "source": [
    "### Проверка качества в зависимости от числа деревьем"
   ]
  },
  {
   "cell_type": "code",
   "execution_count": 52,
   "metadata": {},
   "outputs": [],
   "source": [
    "#  генерим список для количества деревьев\n",
    "n = []\n",
    "i1 = 10\n",
    "for i in range(45):\n",
    "    n.append(int(i1))\n",
    "    i1*=1.07\n"
   ]
  },
  {
   "cell_type": "code",
   "execution_count": 53,
   "metadata": {},
   "outputs": [
    {
     "data": {
      "image/png": "[encoded data removed]",
      "text/plain": [
       "<Figure size 1296x576 with 1 Axes>"
      ]
     },
     "execution_count": 53,
     "metadata": {},
     "output_type": "execute_result"
    }
   ],
   "source": [
    "models = [RandomForestClassifier(n_estimators=x,max_depth=10,random_state=RND).fit(features_train_up, target_train_up) for x in n]\n",
    "f_1 = [f1_score(target_test, models[x].predict(features_test)) for x in range(len(n))]\n",
    "fig, ax = plt.subplots(figsize=(18,8))\n",
    "ax.plot(range(len(n)),f_1,label='f_1')\n",
    "ax.set_xticks(range(len(n)))\n",
    "ax.set_xticklabels(n)\n",
    "ax.set_xlabel('Количество деревьев')\n",
    "ax.set_ylabel('f_1 score')\n",
    "ax.grid(linestyle='--')\n",
    "ax.legend()\n",
    "ax.set_title('f1_score для различного количества деревьев в алгоритме Случайный лес')\n",
    "plt.close('all')\n",
    "fig"
   ]
  },
  {
   "cell_type": "markdown",
   "metadata": {},
   "source": [
    "Из анализа графика можно сделать вывод, что при увеличении числа деревьев в алгоритме МО Случайный лес наблюдается тенденция к увеличению показателя f1. Но увеличение числа деревьев примерно больше 130 не дает существенного выигрыша в качестве, но усложняет модель. Вместе с тем небольшое количество деревьев (примерно до 33) может привести к неустойчивому качеству решений и может опуститься ниже требуемого значения 0.59"
   ]
  },
  {
   "cell_type": "markdown",
   "metadata": {},
   "source": [
    "### Повышение качества за счет смещения порога"
   ]
  },
  {
   "cell_type": "code",
   "execution_count": 54,
   "metadata": {},
   "outputs": [],
   "source": [
    "# функция для расчета f1_score для различных значений порога\n",
    "def count_threshold (probabilities_one_valid):\n",
    "    for threshold in np.arange(0.44, 0.52, 0.005):\n",
    "        predicted_valid = probabilities_one_valid > threshold\n",
    "        f1 = f1_score(target_valid, predicted_valid)\n",
    "        print(\"Порог = {:.3f} | F1 = {:.3f}\".format(\n",
    "        threshold, f1))"
   ]
  },
  {
   "cell_type": "code",
   "execution_count": 55,
   "metadata": {},
   "outputs": [],
   "source": [
    "#выбрали лучшую модель Случайный лес со стандартной  для метода балансировкой по классам\n",
    "model = RandomForestClassifier(n_estimators=110, max_depth=9, random_state=RND, class_weight='balanced')\n",
    "model.fit(features_train, target_train)\n",
    "probabilities_valid_forest = model.predict_proba(features_valid)\n",
    "probabilities_one_valid_forest = probabilities_valid_forest[:, 1]"
   ]
  },
  {
   "cell_type": "code",
   "execution_count": 56,
   "metadata": {},
   "outputs": [
    {
     "name": "stdout",
     "output_type": "stream",
     "text": [
      "Порог = 0.440 | F1 = 0.640\n",
      "Порог = 0.445 | F1 = 0.641\n",
      "Порог = 0.450 | F1 = 0.644\n",
      "Порог = 0.455 | F1 = 0.644\n",
      "Порог = 0.460 | F1 = 0.647\n",
      "Порог = 0.465 | F1 = 0.648\n",
      "Порог = 0.470 | F1 = 0.648\n",
      "Порог = 0.475 | F1 = 0.650\n",
      "Порог = 0.480 | F1 = 0.651\n",
      "Порог = 0.485 | F1 = 0.648\n",
      "Порог = 0.490 | F1 = 0.649\n",
      "Порог = 0.495 | F1 = 0.648\n",
      "Порог = 0.500 | F1 = 0.649\n",
      "Порог = 0.505 | F1 = 0.648\n",
      "Порог = 0.510 | F1 = 0.645\n",
      "Порог = 0.515 | F1 = 0.646\n",
      "Порог = 0.520 | F1 = 0.648\n"
     ]
    }
   ],
   "source": [
    "count_threshold (probabilities_one_valid_forest)"
   ]
  },
  {
   "cell_type": "code",
   "execution_count": 57,
   "metadata": {},
   "outputs": [
    {
     "name": "stdout",
     "output_type": "stream",
     "text": [
      "Порог = 0.48 | f1 = 0.6135\n"
     ]
    }
   ],
   "source": [
    "probabilities_test = model.predict_proba(features_test)\n",
    "probabilities_test = probabilities_test[:, 1]\n",
    "probabilities_test = probabilities_test > 0.48\n",
    "f1 = f1_score(target_test, probabilities_test)\n",
    "print(\"Порог = {:.2f} | f1 = {:.4f}\".format(\n",
    "        0.48, f1))"
   ]
  },
  {
   "cell_type": "markdown",
   "metadata": {},
   "source": [
    "В результате подгонки порога принятия решений на выборке валидации на тестовой выборке получилось улучшить f1_score на 0.6135 - 0.6126 = 0.009, что говорит от том, что получен малозначимый результат."
   ]
  },
  {
   "cell_type": "code",
   "execution_count": 58,
   "metadata": {},
   "outputs": [],
   "source": [
    "# модель показавшая высокое значение метрики AUC-ROC, но не очень хороший результат по f1_score\n",
    "# Случайный лес с балансировкой классам на освоме метода downsample\n",
    "model = RandomForestClassifier(n_estimators=40, max_depth=6, random_state=RND)\n",
    "model.fit(features_train_dn, target_train_dn)\n",
    "probabilities_valid_forest = model.predict_proba(features_valid)\n",
    "probabilities_one_valid_forest = probabilities_valid_forest[:, 1]"
   ]
  },
  {
   "cell_type": "code",
   "execution_count": 59,
   "metadata": {},
   "outputs": [
    {
     "name": "stdout",
     "output_type": "stream",
     "text": [
      "Порог = 0.440 | F1 = 0.584\n",
      "Порог = 0.445 | F1 = 0.587\n",
      "Порог = 0.450 | F1 = 0.592\n",
      "Порог = 0.455 | F1 = 0.597\n",
      "Порог = 0.460 | F1 = 0.599\n",
      "Порог = 0.465 | F1 = 0.604\n",
      "Порог = 0.470 | F1 = 0.613\n",
      "Порог = 0.475 | F1 = 0.618\n",
      "Порог = 0.480 | F1 = 0.621\n",
      "Порог = 0.485 | F1 = 0.625\n",
      "Порог = 0.490 | F1 = 0.627\n",
      "Порог = 0.495 | F1 = 0.628\n",
      "Порог = 0.500 | F1 = 0.634\n",
      "Порог = 0.505 | F1 = 0.634\n",
      "Порог = 0.510 | F1 = 0.632\n",
      "Порог = 0.515 | F1 = 0.631\n",
      "Порог = 0.520 | F1 = 0.633\n"
     ]
    }
   ],
   "source": [
    "count_threshold (probabilities_one_valid_forest)"
   ]
  },
  {
   "cell_type": "code",
   "execution_count": 65,
   "metadata": {},
   "outputs": [
    {
     "name": "stdout",
     "output_type": "stream",
     "text": [
      "Порог = 0.505 | f1 = 0.5826\n"
     ]
    }
   ],
   "source": [
    "probabilities_test = model.predict_proba(features_test)\n",
    "probabilities_test = probabilities_test[:, 1]\n",
    "probabilities_test = probabilities_test > 0.505\n",
    "f1 = f1_score(target_test, probabilities_test)\n",
    "print(\"Порог = {:.3f} | f1 = {:.4f}\".format(\n",
    "        0.505, f1))"
   ]
  },
  {
   "cell_type": "markdown",
   "metadata": {},
   "source": [
    "В результате подгонки порога принятия решений на выборке валидации на тестовой выборке получилось улучшить f1_score на 0.5826 - 0.5803 = 0.023, что говорит от том что получен незначемый результат. Вывод о том, что данный алгоритм можно улучшить сделан на основе метрики AUC-ROC."
   ]
  },
  {
   "cell_type": "markdown",
   "metadata": {},
   "source": [
    "## Общий вывод"
   ]
  },
  {
   "cell_type": "markdown",
   "metadata": {},
   "source": [
    "- в нашем распоряжение 10 тыс. записей о клиентах, из них 80 % относятся к классу клиентов, которые пользуются услугами банка и 20 % отказались от услуг банка,  таким образом соотношение классов 1 к 5;\n",
    "- проверили на пропуски - выявили пропуске в столбце tenure  (срок, в течение которого человек является клиентом банка в годах). Заменили на среднее значение по столбцу;\n",
    "- Провели подготовку данных для МО:  удалили столбцы, не содержащие ценной информации для задачи МО;  преобразовали категориальные признаки в численные техникой прямого кодирования (One-Hot Encoding, OHE);  разделили выборку на обучающую, тестовую и выборку валидации в соотношении 60 %: 20 %: 20%; - для части столбцов с количественными значениями признаков провели масштабирование.\n",
    "- Провели обучение 3-х моделей машинного обучения с параметром балансировки классов равным balanced и None;\n",
    "- Результаты показали, что параметр балансировки классов balanced показал лучшие результаты.  Среди моделей наилучший результат на выборке валидации показала модель МО Случайный лес с наилучшим значением метрики f1: 0.649. Хорошие результаты показала модель МО Дерево решений. Модель логистической регрессии не предполагается использовать для решения этой задачи в виду низких результатов.\n",
    "- Применение методов downsample и upsample не позволило получить лучшие результаты по сравнению с применением параметра class_weight = balanced. \n",
    "- В результате проверки на тестовой выборке можно сделать следующие выводы:модели МО Дерево решений переобучились и показали значительно худшие результаты на тестовой выборке чем на выборке валидации. При работе с данными моделями целесообразно подбирать параметры так чтобы уменьшить вероятность переобучения. Например, можно уменьшать глубину дерева, увеличивать минимальное число элементов в листе, увеличивать минимальное число элементов в узле для разделения. Но сложная подгонка для данных моделей не имеет большого смысла в виду наличия Случайных лесов. Модели Случайного леса показали результаты тоже более низкие по сравнению с выборкой валидации, но в целом результат удовлетворяет поставленному требованию в 0.59. Лучший резултат получен для алгоритма Случайный лес со стандартной  для метода балансировкой 0.6126.\n",
    "- применение методов downsample и upsample не имеют большого преимущество по сравнению с выставлением параметра обучения моделей class_weight = balanced, аналогичный вывод был получен и на выборке валидации.\n",
    "- При увеличении числа деревьев в алгоритме МО Случайный лес наблюдается тенденция к увеличению показателя f1. Но увеличение числа деревьев примерно больше 130 не дает существенного выигрыша в качестве, но усложняет модель. Вместе с тем небольшое количество деревьев (примерно до 33) может привести к неустойчивому качеству решений и может опуститься ниже требуемого значения 0.59\n",
    "- Для алгоритма Случайный лес со стандартной  для метода балансировкой:  В результате подгонки порога для принятия решений на выборке валидации на тестовой выборке получилось улучшить f1_score на 0.6135 - 0.6126 = 0.009, что говорит от том, что получен малозначимый результат.\n",
    "- Для алгоритма Случайный лес с балансировкой классам на основе метода downsample. В результате подгонки порога принятия решений на выборке валидации на тестовой выборке получилось улучшить f1_score на 0.5826 - 0.5803 = 0.023, что говорит от том, что получен незначемый результат. Вывод о том, что данный алгоритм можно улучшить сделан на основе метрики AUC-ROC.\n",
    "- В рузультеты был получен алгоритм МО обучения удовлетворяющий требованию в 0.59. Лучший алгоритм показал рузультат 0.6135. "
   ]
  }
 ],
 "metadata": {
  "ExecuteTimeLog": [
   {
    "duration": 1381,
    "start_time": "2021-12-24T11:46:45.296Z"
   },
   {
    "duration": 140,
    "start_time": "2021-12-24T11:46:50.197Z"
   },
   {
    "duration": 102,
    "start_time": "2021-12-24T11:47:03.863Z"
   },
   {
    "duration": 28,
    "start_time": "2021-12-24T11:47:08.551Z"
   },
   {
    "duration": 22,
    "start_time": "2021-12-24T11:47:14.511Z"
   },
   {
    "duration": 6,
    "start_time": "2021-12-24T11:48:00.176Z"
   },
   {
    "duration": 4,
    "start_time": "2021-12-24T11:48:26.848Z"
   },
   {
    "duration": 6,
    "start_time": "2021-12-24T11:48:34.687Z"
   },
   {
    "duration": 5,
    "start_time": "2021-12-24T11:50:10.736Z"
   },
   {
    "duration": 21,
    "start_time": "2021-12-24T11:50:19.936Z"
   },
   {
    "duration": 569,
    "start_time": "2021-12-24T13:33:06.110Z"
   },
   {
    "duration": 17,
    "start_time": "2021-12-24T13:33:29.104Z"
   },
   {
    "duration": 12,
    "start_time": "2021-12-24T13:34:20.650Z"
   },
   {
    "duration": 7,
    "start_time": "2021-12-24T13:35:31.170Z"
   },
   {
    "duration": 11,
    "start_time": "2021-12-24T13:35:46.402Z"
   },
   {
    "duration": 426,
    "start_time": "2021-12-24T13:36:30.190Z"
   },
   {
    "duration": 310,
    "start_time": "2021-12-24T13:37:15.654Z"
   },
   {
    "duration": 313,
    "start_time": "2021-12-24T13:37:42.174Z"
   },
   {
    "duration": 682,
    "start_time": "2021-12-24T13:38:03.702Z"
   },
   {
    "duration": 298,
    "start_time": "2021-12-24T13:38:55.050Z"
   },
   {
    "duration": 852,
    "start_time": "2021-12-24T13:39:25.336Z"
   },
   {
    "duration": 303,
    "start_time": "2021-12-24T13:39:36.015Z"
   },
   {
    "duration": 388,
    "start_time": "2021-12-24T13:39:45.843Z"
   },
   {
    "duration": 2407,
    "start_time": "2021-12-24T13:40:15.898Z"
   },
   {
    "duration": 313,
    "start_time": "2021-12-24T13:40:26.792Z"
   },
   {
    "duration": 9,
    "start_time": "2021-12-24T13:40:54.810Z"
   },
   {
    "duration": 10,
    "start_time": "2021-12-24T13:41:11.702Z"
   },
   {
    "duration": 378,
    "start_time": "2021-12-24T13:41:23.443Z"
   },
   {
    "duration": 9,
    "start_time": "2021-12-24T13:41:57.910Z"
   },
   {
    "duration": 9,
    "start_time": "2021-12-24T13:42:18.792Z"
   },
   {
    "duration": 364,
    "start_time": "2021-12-24T13:43:45.390Z"
   },
   {
    "duration": 12,
    "start_time": "2021-12-24T13:43:49.635Z"
   },
   {
    "duration": 33,
    "start_time": "2021-12-24T14:14:30.284Z"
   },
   {
    "duration": 9,
    "start_time": "2021-12-24T14:16:06.272Z"
   },
   {
    "duration": 302,
    "start_time": "2021-12-24T14:23:40.052Z"
   },
   {
    "duration": 331,
    "start_time": "2021-12-24T14:24:03.703Z"
   },
   {
    "duration": 31,
    "start_time": "2021-12-24T14:25:26.743Z"
   },
   {
    "duration": 44,
    "start_time": "2021-12-24T14:25:49.483Z"
   },
   {
    "duration": 18,
    "start_time": "2021-12-24T14:33:58.580Z"
   },
   {
    "duration": 5,
    "start_time": "2021-12-24T14:34:15.131Z"
   },
   {
    "duration": 5,
    "start_time": "2021-12-24T14:34:28.111Z"
   },
   {
    "duration": 6,
    "start_time": "2021-12-24T14:34:53.971Z"
   },
   {
    "duration": 6,
    "start_time": "2021-12-24T14:34:54.971Z"
   },
   {
    "duration": 5,
    "start_time": "2021-12-24T14:35:10.999Z"
   },
   {
    "duration": 5,
    "start_time": "2021-12-24T14:35:11.839Z"
   },
   {
    "duration": 289,
    "start_time": "2021-12-24T15:28:35.832Z"
   },
   {
    "duration": 5,
    "start_time": "2021-12-24T15:28:57.633Z"
   },
   {
    "duration": 175,
    "start_time": "2021-12-24T15:28:57.640Z"
   },
   {
    "duration": 21,
    "start_time": "2021-12-24T15:28:57.818Z"
   },
   {
    "duration": 7,
    "start_time": "2021-12-24T15:28:58.034Z"
   },
   {
    "duration": 19,
    "start_time": "2021-12-24T15:28:58.044Z"
   },
   {
    "duration": 11,
    "start_time": "2021-12-24T15:28:58.067Z"
   },
   {
    "duration": 9,
    "start_time": "2021-12-24T15:28:58.081Z"
   },
   {
    "duration": 8,
    "start_time": "2021-12-24T15:28:58.092Z"
   },
   {
    "duration": 8,
    "start_time": "2021-12-24T15:28:58.103Z"
   },
   {
    "duration": 55,
    "start_time": "2021-12-24T15:28:58.114Z"
   },
   {
    "duration": 13,
    "start_time": "2021-12-24T15:28:58.172Z"
   },
   {
    "duration": 11,
    "start_time": "2021-12-24T15:28:58.190Z"
   },
   {
    "duration": 6,
    "start_time": "2021-12-24T15:28:58.204Z"
   },
   {
    "duration": 60,
    "start_time": "2021-12-24T15:28:58.213Z"
   },
   {
    "duration": 361,
    "start_time": "2021-12-24T15:28:58.276Z"
   },
   {
    "duration": 42,
    "start_time": "2021-12-24T15:28:58.640Z"
   },
   {
    "duration": 43,
    "start_time": "2021-12-24T15:28:58.685Z"
   },
   {
    "duration": 43,
    "start_time": "2021-12-24T15:28:58.732Z"
   },
   {
    "duration": 5,
    "start_time": "2021-12-24T15:28:58.777Z"
   },
   {
    "duration": 8,
    "start_time": "2021-12-24T15:28:58.785Z"
   },
   {
    "duration": 5,
    "start_time": "2021-12-24T15:28:58.795Z"
   },
   {
    "duration": 5,
    "start_time": "2021-12-24T15:28:58.803Z"
   },
   {
    "duration": 5,
    "start_time": "2021-12-24T15:28:58.810Z"
   },
   {
    "duration": 52,
    "start_time": "2021-12-24T15:28:58.818Z"
   },
   {
    "duration": 12,
    "start_time": "2021-12-24T15:28:58.874Z"
   },
   {
    "duration": 20,
    "start_time": "2021-12-24T15:28:58.888Z"
   },
   {
    "duration": 347,
    "start_time": "2021-12-24T15:29:51.059Z"
   },
   {
    "duration": 5,
    "start_time": "2021-12-24T15:30:09.332Z"
   },
   {
    "duration": 277,
    "start_time": "2021-12-24T15:30:41.300Z"
   },
   {
    "duration": 149,
    "start_time": "2021-12-24T15:30:58.769Z"
   },
   {
    "duration": 53,
    "start_time": "2021-12-24T15:31:03.372Z"
   },
   {
    "duration": 955,
    "start_time": "2021-12-24T15:35:06.983Z"
   },
   {
    "duration": 1522,
    "start_time": "2021-12-24T15:35:20.825Z"
   },
   {
    "duration": 109,
    "start_time": "2021-12-24T15:35:22.351Z"
   },
   {
    "duration": 33,
    "start_time": "2021-12-24T15:35:22.464Z"
   },
   {
    "duration": 6,
    "start_time": "2021-12-24T15:35:22.500Z"
   },
   {
    "duration": 19,
    "start_time": "2021-12-24T15:35:22.508Z"
   },
   {
    "duration": 15,
    "start_time": "2021-12-24T15:35:22.562Z"
   },
   {
    "duration": 12,
    "start_time": "2021-12-24T15:35:22.581Z"
   },
   {
    "duration": 9,
    "start_time": "2021-12-24T15:35:22.596Z"
   },
   {
    "duration": 9,
    "start_time": "2021-12-24T15:35:22.611Z"
   },
   {
    "duration": 9,
    "start_time": "2021-12-24T15:35:22.666Z"
   },
   {
    "duration": 21,
    "start_time": "2021-12-24T15:35:22.678Z"
   },
   {
    "duration": 9,
    "start_time": "2021-12-24T15:35:22.701Z"
   },
   {
    "duration": 6,
    "start_time": "2021-12-24T15:35:22.712Z"
   },
   {
    "duration": 50,
    "start_time": "2021-12-24T15:35:22.720Z"
   },
   {
    "duration": 726,
    "start_time": "2021-12-24T15:35:22.773Z"
   },
   {
    "duration": 61,
    "start_time": "2021-12-24T15:35:23.502Z"
   },
   {
    "duration": 70,
    "start_time": "2021-12-24T15:35:23.565Z"
   },
   {
    "duration": 42,
    "start_time": "2021-12-24T15:35:23.638Z"
   },
   {
    "duration": 6,
    "start_time": "2021-12-24T15:35:23.684Z"
   },
   {
    "duration": 5,
    "start_time": "2021-12-24T15:35:23.693Z"
   },
   {
    "duration": 6,
    "start_time": "2021-12-24T15:35:23.700Z"
   },
   {
    "duration": 8,
    "start_time": "2021-12-24T15:35:23.708Z"
   },
   {
    "duration": 5,
    "start_time": "2021-12-24T15:35:23.763Z"
   },
   {
    "duration": 8,
    "start_time": "2021-12-24T15:35:23.771Z"
   },
   {
    "duration": 13,
    "start_time": "2021-12-24T15:35:23.781Z"
   },
   {
    "duration": 79,
    "start_time": "2021-12-24T15:35:23.796Z"
   },
   {
    "duration": 14,
    "start_time": "2021-12-24T15:35:23.880Z"
   },
   {
    "duration": 73,
    "start_time": "2021-12-24T15:35:23.897Z"
   },
   {
    "duration": 52,
    "start_time": "2021-12-24T16:29:05.627Z"
   },
   {
    "duration": 12,
    "start_time": "2021-12-24T16:29:08.067Z"
   },
   {
    "duration": 255,
    "start_time": "2021-12-24T16:30:24.956Z"
   },
   {
    "duration": 55,
    "start_time": "2021-12-24T16:30:32.775Z"
   },
   {
    "duration": 674,
    "start_time": "2021-12-24T16:34:43.008Z"
   },
   {
    "duration": 6,
    "start_time": "2021-12-24T16:34:52.753Z"
   },
   {
    "duration": 226,
    "start_time": "2021-12-24T16:34:52.762Z"
   },
   {
    "duration": 22,
    "start_time": "2021-12-24T16:34:52.992Z"
   },
   {
    "duration": 6,
    "start_time": "2021-12-24T16:34:53.017Z"
   },
   {
    "duration": 49,
    "start_time": "2021-12-24T16:34:53.025Z"
   },
   {
    "duration": 12,
    "start_time": "2021-12-24T16:34:53.076Z"
   },
   {
    "duration": 9,
    "start_time": "2021-12-24T16:34:53.090Z"
   },
   {
    "duration": 8,
    "start_time": "2021-12-24T16:34:53.102Z"
   },
   {
    "duration": 53,
    "start_time": "2021-12-24T16:34:53.114Z"
   },
   {
    "duration": 11,
    "start_time": "2021-12-24T16:34:53.170Z"
   },
   {
    "duration": 12,
    "start_time": "2021-12-24T16:34:53.184Z"
   },
   {
    "duration": 11,
    "start_time": "2021-12-24T16:34:53.198Z"
   },
   {
    "duration": 6,
    "start_time": "2021-12-24T16:34:53.212Z"
   },
   {
    "duration": 53,
    "start_time": "2021-12-24T16:34:53.221Z"
   },
   {
    "duration": 401,
    "start_time": "2021-12-24T16:34:53.276Z"
   },
   {
    "duration": 33,
    "start_time": "2021-12-24T16:34:53.679Z"
   },
   {
    "duration": 75,
    "start_time": "2021-12-24T16:34:53.715Z"
   },
   {
    "duration": 14,
    "start_time": "2021-12-24T16:34:53.792Z"
   },
   {
    "duration": 5,
    "start_time": "2021-12-24T16:34:53.808Z"
   },
   {
    "duration": 6,
    "start_time": "2021-12-24T16:34:53.816Z"
   },
   {
    "duration": 39,
    "start_time": "2021-12-24T16:34:53.825Z"
   },
   {
    "duration": 7,
    "start_time": "2021-12-24T16:34:53.867Z"
   },
   {
    "duration": 11,
    "start_time": "2021-12-24T16:34:53.876Z"
   },
   {
    "duration": 6,
    "start_time": "2021-12-24T16:34:53.889Z"
   },
   {
    "duration": 13,
    "start_time": "2021-12-24T16:34:53.898Z"
   },
   {
    "duration": 89,
    "start_time": "2021-12-24T16:34:53.913Z"
   },
   {
    "duration": 13,
    "start_time": "2021-12-24T16:34:54.011Z"
   },
   {
    "duration": 633,
    "start_time": "2021-12-24T16:34:54.027Z"
   },
   {
    "duration": 137,
    "start_time": "2021-12-24T16:39:55.711Z"
   },
   {
    "duration": 688,
    "start_time": "2021-12-24T16:40:09.044Z"
   },
   {
    "duration": 475,
    "start_time": "2021-12-24T16:41:13.528Z"
   },
   {
    "duration": 495,
    "start_time": "2021-12-24T16:41:18.176Z"
   },
   {
    "duration": 540,
    "start_time": "2021-12-24T16:41:22.119Z"
   },
   {
    "duration": 523,
    "start_time": "2021-12-24T16:41:47.716Z"
   },
   {
    "duration": 520,
    "start_time": "2021-12-24T16:49:37.099Z"
   },
   {
    "duration": 1429,
    "start_time": "2021-12-24T16:50:05.775Z"
   },
   {
    "duration": 92,
    "start_time": "2021-12-24T16:50:07.206Z"
   },
   {
    "duration": 33,
    "start_time": "2021-12-24T16:50:07.301Z"
   },
   {
    "duration": 6,
    "start_time": "2021-12-24T16:50:07.337Z"
   },
   {
    "duration": 35,
    "start_time": "2021-12-24T16:50:07.345Z"
   },
   {
    "duration": 13,
    "start_time": "2021-12-24T16:50:07.382Z"
   },
   {
    "duration": 10,
    "start_time": "2021-12-24T16:50:07.398Z"
   },
   {
    "duration": 8,
    "start_time": "2021-12-24T16:50:07.411Z"
   },
   {
    "duration": 9,
    "start_time": "2021-12-24T16:50:07.462Z"
   },
   {
    "duration": 9,
    "start_time": "2021-12-24T16:50:07.474Z"
   },
   {
    "duration": 9,
    "start_time": "2021-12-24T16:50:07.485Z"
   },
   {
    "duration": 11,
    "start_time": "2021-12-24T16:50:07.497Z"
   },
   {
    "duration": 51,
    "start_time": "2021-12-24T16:50:07.511Z"
   },
   {
    "duration": 12,
    "start_time": "2021-12-24T16:50:07.566Z"
   },
   {
    "duration": 499,
    "start_time": "2021-12-24T16:50:07.581Z"
   },
   {
    "duration": 31,
    "start_time": "2021-12-24T16:50:08.083Z"
   },
   {
    "duration": 71,
    "start_time": "2021-12-24T16:50:08.117Z"
   },
   {
    "duration": 16,
    "start_time": "2021-12-24T16:50:08.191Z"
   },
   {
    "duration": 6,
    "start_time": "2021-12-24T16:50:08.210Z"
   },
   {
    "duration": 5,
    "start_time": "2021-12-24T16:50:08.219Z"
   },
   {
    "duration": 5,
    "start_time": "2021-12-24T16:50:08.263Z"
   },
   {
    "duration": 9,
    "start_time": "2021-12-24T16:50:08.270Z"
   },
   {
    "duration": 5,
    "start_time": "2021-12-24T16:50:08.284Z"
   },
   {
    "duration": 5,
    "start_time": "2021-12-24T16:50:08.291Z"
   },
   {
    "duration": 13,
    "start_time": "2021-12-24T16:50:08.298Z"
   },
   {
    "duration": 96,
    "start_time": "2021-12-24T16:50:08.314Z"
   },
   {
    "duration": 12,
    "start_time": "2021-12-24T16:50:08.412Z"
   },
   {
    "duration": 717,
    "start_time": "2021-12-24T16:50:08.427Z"
   },
   {
    "duration": 13909,
    "start_time": "2021-12-24T16:49:55.237Z"
   },
   {
    "duration": 6,
    "start_time": "2021-12-24T17:11:31.972Z"
   },
   {
    "duration": 7,
    "start_time": "2021-12-24T17:11:43.657Z"
   },
   {
    "duration": 1682,
    "start_time": "2021-12-24T17:14:35.630Z"
   },
   {
    "duration": 686,
    "start_time": "2021-12-25T08:09:24.186Z"
   },
   {
    "duration": 1164,
    "start_time": "2021-12-25T08:09:30.090Z"
   },
   {
    "duration": 190,
    "start_time": "2021-12-25T08:09:31.256Z"
   },
   {
    "duration": 19,
    "start_time": "2021-12-25T08:09:31.448Z"
   },
   {
    "duration": 4,
    "start_time": "2021-12-25T08:09:31.469Z"
   },
   {
    "duration": 12,
    "start_time": "2021-12-25T08:09:31.474Z"
   },
   {
    "duration": 9,
    "start_time": "2021-12-25T08:09:31.488Z"
   },
   {
    "duration": 30,
    "start_time": "2021-12-25T08:09:31.498Z"
   },
   {
    "duration": 5,
    "start_time": "2021-12-25T08:09:31.529Z"
   },
   {
    "duration": 7,
    "start_time": "2021-12-25T08:09:31.537Z"
   },
   {
    "duration": 5,
    "start_time": "2021-12-25T08:09:31.546Z"
   },
   {
    "duration": 7,
    "start_time": "2021-12-25T08:09:31.552Z"
   },
   {
    "duration": 6,
    "start_time": "2021-12-25T08:09:31.560Z"
   },
   {
    "duration": 4,
    "start_time": "2021-12-25T08:09:31.567Z"
   },
   {
    "duration": 8,
    "start_time": "2021-12-25T08:09:31.572Z"
   },
   {
    "duration": 323,
    "start_time": "2021-12-25T08:09:31.581Z"
   },
   {
    "duration": 27,
    "start_time": "2021-12-25T08:09:31.906Z"
   },
   {
    "duration": 33,
    "start_time": "2021-12-25T08:09:31.935Z"
   },
   {
    "duration": 11,
    "start_time": "2021-12-25T08:09:31.970Z"
   },
   {
    "duration": 4,
    "start_time": "2021-12-25T08:09:31.983Z"
   },
   {
    "duration": 5,
    "start_time": "2021-12-25T08:09:31.988Z"
   },
   {
    "duration": 33,
    "start_time": "2021-12-25T08:09:31.994Z"
   },
   {
    "duration": 4,
    "start_time": "2021-12-25T08:09:32.029Z"
   },
   {
    "duration": 6,
    "start_time": "2021-12-25T08:09:32.034Z"
   },
   {
    "duration": 5,
    "start_time": "2021-12-25T08:09:32.042Z"
   },
   {
    "duration": 9,
    "start_time": "2021-12-25T08:09:32.048Z"
   },
   {
    "duration": 35,
    "start_time": "2021-12-25T08:09:32.058Z"
   },
   {
    "duration": 37,
    "start_time": "2021-12-25T08:09:32.096Z"
   },
   {
    "duration": 3,
    "start_time": "2021-12-25T08:09:32.135Z"
   },
   {
    "duration": 5,
    "start_time": "2021-12-25T08:09:32.140Z"
   },
   {
    "duration": 1056,
    "start_time": "2021-12-25T08:09:32.146Z"
   },
   {
    "duration": 3,
    "start_time": "2021-12-25T08:10:37.624Z"
   },
   {
    "duration": 3,
    "start_time": "2021-12-25T08:10:45.484Z"
   },
   {
    "duration": 3,
    "start_time": "2021-12-25T08:10:54.556Z"
   },
   {
    "duration": 4,
    "start_time": "2021-12-25T08:12:27.917Z"
   },
   {
    "duration": 120,
    "start_time": "2021-12-25T08:12:27.923Z"
   },
   {
    "duration": 13,
    "start_time": "2021-12-25T08:12:28.045Z"
   },
   {
    "duration": 9,
    "start_time": "2021-12-25T08:12:28.060Z"
   },
   {
    "duration": 15,
    "start_time": "2021-12-25T08:12:28.071Z"
   },
   {
    "duration": 9,
    "start_time": "2021-12-25T08:12:28.088Z"
   },
   {
    "duration": 5,
    "start_time": "2021-12-25T08:12:28.098Z"
   },
   {
    "duration": 24,
    "start_time": "2021-12-25T08:12:28.104Z"
   },
   {
    "duration": 10,
    "start_time": "2021-12-25T08:12:28.130Z"
   },
   {
    "duration": 6,
    "start_time": "2021-12-25T08:12:28.142Z"
   },
   {
    "duration": 13,
    "start_time": "2021-12-25T08:12:28.149Z"
   },
   {
    "duration": 10,
    "start_time": "2021-12-25T08:12:28.164Z"
   },
   {
    "duration": 7,
    "start_time": "2021-12-25T08:12:28.175Z"
   },
   {
    "duration": 10,
    "start_time": "2021-12-25T08:12:28.184Z"
   },
   {
    "duration": 201,
    "start_time": "2021-12-25T08:12:28.195Z"
   },
   {
    "duration": 17,
    "start_time": "2021-12-25T08:12:28.397Z"
   },
   {
    "duration": 24,
    "start_time": "2021-12-25T08:12:28.428Z"
   },
   {
    "duration": 10,
    "start_time": "2021-12-25T08:12:28.453Z"
   },
   {
    "duration": 3,
    "start_time": "2021-12-25T08:12:28.465Z"
   },
   {
    "duration": 6,
    "start_time": "2021-12-25T08:12:28.469Z"
   },
   {
    "duration": 6,
    "start_time": "2021-12-25T08:12:28.477Z"
   },
   {
    "duration": 8,
    "start_time": "2021-12-25T08:12:28.484Z"
   },
   {
    "duration": 33,
    "start_time": "2021-12-25T08:12:28.494Z"
   },
   {
    "duration": 6,
    "start_time": "2021-12-25T08:12:28.529Z"
   },
   {
    "duration": 11,
    "start_time": "2021-12-25T08:12:28.536Z"
   },
   {
    "duration": 11,
    "start_time": "2021-12-25T08:12:28.548Z"
   },
   {
    "duration": 4,
    "start_time": "2021-12-25T08:12:28.562Z"
   },
   {
    "duration": 37,
    "start_time": "2021-12-25T08:12:28.568Z"
   },
   {
    "duration": 26,
    "start_time": "2021-12-25T08:12:28.606Z"
   },
   {
    "duration": 4,
    "start_time": "2021-12-25T08:12:28.633Z"
   },
   {
    "duration": 17,
    "start_time": "2021-12-25T08:12:28.639Z"
   },
   {
    "duration": 716,
    "start_time": "2021-12-25T08:12:28.658Z"
   },
   {
    "duration": 16389,
    "start_time": "2021-12-25T08:12:12.987Z"
   },
   {
    "duration": 4,
    "start_time": "2021-12-25T08:20:12.869Z"
   },
   {
    "duration": 417,
    "start_time": "2021-12-25T08:21:08.473Z"
   },
   {
    "duration": 2,
    "start_time": "2021-12-25T08:21:16.697Z"
   },
   {
    "duration": 13,
    "start_time": "2021-12-25T08:21:22.854Z"
   },
   {
    "duration": 345,
    "start_time": "2021-12-25T08:31:48.776Z"
   },
   {
    "duration": 354,
    "start_time": "2021-12-25T08:32:42.783Z"
   },
   {
    "duration": 4,
    "start_time": "2021-12-25T08:33:10.710Z"
   },
   {
    "duration": 109,
    "start_time": "2021-12-25T08:33:10.726Z"
   },
   {
    "duration": 13,
    "start_time": "2021-12-25T08:33:10.837Z"
   },
   {
    "duration": 8,
    "start_time": "2021-12-25T08:33:10.852Z"
   },
   {
    "duration": 19,
    "start_time": "2021-12-25T08:33:10.861Z"
   },
   {
    "duration": 10,
    "start_time": "2021-12-25T08:33:10.882Z"
   },
   {
    "duration": 6,
    "start_time": "2021-12-25T08:33:10.893Z"
   },
   {
    "duration": 27,
    "start_time": "2021-12-25T08:33:10.901Z"
   },
   {
    "duration": 6,
    "start_time": "2021-12-25T08:33:10.930Z"
   },
   {
    "duration": 5,
    "start_time": "2021-12-25T08:33:10.938Z"
   },
   {
    "duration": 7,
    "start_time": "2021-12-25T08:33:10.945Z"
   },
   {
    "duration": 8,
    "start_time": "2021-12-25T08:33:10.954Z"
   },
   {
    "duration": 6,
    "start_time": "2021-12-25T08:33:10.963Z"
   },
   {
    "duration": 8,
    "start_time": "2021-12-25T08:33:10.970Z"
   },
   {
    "duration": 220,
    "start_time": "2021-12-25T08:33:10.979Z"
   },
   {
    "duration": 18,
    "start_time": "2021-12-25T08:33:11.200Z"
   },
   {
    "duration": 24,
    "start_time": "2021-12-25T08:33:11.228Z"
   },
   {
    "duration": 10,
    "start_time": "2021-12-25T08:33:11.254Z"
   },
   {
    "duration": 7,
    "start_time": "2021-12-25T08:33:11.265Z"
   },
   {
    "duration": 5,
    "start_time": "2021-12-25T08:33:11.273Z"
   },
   {
    "duration": 6,
    "start_time": "2021-12-25T08:33:11.280Z"
   },
   {
    "duration": 4,
    "start_time": "2021-12-25T08:33:11.287Z"
   },
   {
    "duration": 39,
    "start_time": "2021-12-25T08:33:11.293Z"
   },
   {
    "duration": 6,
    "start_time": "2021-12-25T08:33:11.333Z"
   },
   {
    "duration": 4,
    "start_time": "2021-12-25T08:33:11.341Z"
   },
   {
    "duration": 18,
    "start_time": "2021-12-25T08:33:11.347Z"
   },
   {
    "duration": 19,
    "start_time": "2021-12-25T08:33:11.367Z"
   },
   {
    "duration": 3,
    "start_time": "2021-12-25T08:33:11.389Z"
   },
   {
    "duration": 8,
    "start_time": "2021-12-25T08:33:11.393Z"
   },
   {
    "duration": 17,
    "start_time": "2021-12-25T08:33:11.403Z"
   },
   {
    "duration": 38,
    "start_time": "2021-12-25T08:33:11.421Z"
   },
   {
    "duration": 8,
    "start_time": "2021-12-25T08:33:11.460Z"
   },
   {
    "duration": 3,
    "start_time": "2021-12-25T08:33:11.469Z"
   },
   {
    "duration": 6,
    "start_time": "2021-12-25T08:33:11.474Z"
   },
   {
    "duration": 17,
    "start_time": "2021-12-25T08:33:11.482Z"
   },
   {
    "duration": 4,
    "start_time": "2021-12-25T08:33:11.501Z"
   },
   {
    "duration": 4,
    "start_time": "2021-12-25T13:22:52.521Z"
   },
   {
    "duration": 216,
    "start_time": "2021-12-25T13:22:52.602Z"
   },
   {
    "duration": 14,
    "start_time": "2021-12-25T13:22:52.820Z"
   },
   {
    "duration": 6,
    "start_time": "2021-12-25T13:22:52.836Z"
   },
   {
    "duration": 13,
    "start_time": "2021-12-25T13:22:52.843Z"
   },
   {
    "duration": 11,
    "start_time": "2021-12-25T13:22:52.858Z"
   },
   {
    "duration": 6,
    "start_time": "2021-12-25T13:22:52.871Z"
   },
   {
    "duration": 7,
    "start_time": "2021-12-25T13:22:52.878Z"
   },
   {
    "duration": 9,
    "start_time": "2021-12-25T13:22:52.887Z"
   },
   {
    "duration": 33,
    "start_time": "2021-12-25T13:22:52.898Z"
   },
   {
    "duration": 6,
    "start_time": "2021-12-25T13:22:52.933Z"
   },
   {
    "duration": 9,
    "start_time": "2021-12-25T13:22:52.940Z"
   },
   {
    "duration": 6,
    "start_time": "2021-12-25T13:22:52.950Z"
   },
   {
    "duration": 7,
    "start_time": "2021-12-25T13:22:52.957Z"
   },
   {
    "duration": 207,
    "start_time": "2021-12-25T13:22:52.965Z"
   },
   {
    "duration": 17,
    "start_time": "2021-12-25T13:22:53.174Z"
   },
   {
    "duration": 46,
    "start_time": "2021-12-25T13:22:53.192Z"
   },
   {
    "duration": 9,
    "start_time": "2021-12-25T13:22:53.239Z"
   },
   {
    "duration": 3,
    "start_time": "2021-12-25T13:22:53.250Z"
   },
   {
    "duration": 11,
    "start_time": "2021-12-25T13:22:53.254Z"
   },
   {
    "duration": 8,
    "start_time": "2021-12-25T13:22:53.267Z"
   },
   {
    "duration": 5,
    "start_time": "2021-12-25T13:22:53.276Z"
   },
   {
    "duration": 5,
    "start_time": "2021-12-25T13:22:53.282Z"
   },
   {
    "duration": 5,
    "start_time": "2021-12-25T13:22:53.288Z"
   },
   {
    "duration": 9,
    "start_time": "2021-12-25T13:22:53.294Z"
   },
   {
    "duration": 34,
    "start_time": "2021-12-25T13:22:53.304Z"
   },
   {
    "duration": 18,
    "start_time": "2021-12-25T13:22:53.340Z"
   },
   {
    "duration": 3,
    "start_time": "2021-12-25T13:22:53.360Z"
   },
   {
    "duration": 4,
    "start_time": "2021-12-25T13:22:53.364Z"
   },
   {
    "duration": 16,
    "start_time": "2021-12-25T13:22:53.369Z"
   },
   {
    "duration": 64,
    "start_time": "2021-12-25T13:22:53.386Z"
   },
   {
    "duration": 7,
    "start_time": "2021-12-25T13:22:53.452Z"
   },
   {
    "duration": 4,
    "start_time": "2021-12-25T13:22:53.460Z"
   },
   {
    "duration": 7,
    "start_time": "2021-12-25T13:22:53.465Z"
   },
   {
    "duration": 11,
    "start_time": "2021-12-25T13:22:53.473Z"
   },
   {
    "duration": 3,
    "start_time": "2021-12-25T13:22:53.486Z"
   },
   {
    "duration": 1116,
    "start_time": "2021-12-25T13:23:32.086Z"
   },
   {
    "duration": 111,
    "start_time": "2021-12-25T13:23:33.204Z"
   },
   {
    "duration": 19,
    "start_time": "2021-12-25T13:23:33.317Z"
   },
   {
    "duration": 4,
    "start_time": "2021-12-25T13:23:33.338Z"
   },
   {
    "duration": 12,
    "start_time": "2021-12-25T13:23:33.344Z"
   },
   {
    "duration": 10,
    "start_time": "2021-12-25T13:23:33.357Z"
   },
   {
    "duration": 7,
    "start_time": "2021-12-25T13:23:33.368Z"
   },
   {
    "duration": 6,
    "start_time": "2021-12-25T13:23:33.376Z"
   },
   {
    "duration": 5,
    "start_time": "2021-12-25T13:23:33.385Z"
   },
   {
    "duration": 38,
    "start_time": "2021-12-25T13:23:33.392Z"
   },
   {
    "duration": 5,
    "start_time": "2021-12-25T13:23:33.432Z"
   },
   {
    "duration": 9,
    "start_time": "2021-12-25T13:23:33.439Z"
   },
   {
    "duration": 4,
    "start_time": "2021-12-25T13:23:33.449Z"
   },
   {
    "duration": 9,
    "start_time": "2021-12-25T13:23:33.454Z"
   },
   {
    "duration": 290,
    "start_time": "2021-12-25T13:23:33.465Z"
   },
   {
    "duration": 20,
    "start_time": "2021-12-25T13:23:33.757Z"
   },
   {
    "duration": 25,
    "start_time": "2021-12-25T13:23:33.779Z"
   },
   {
    "duration": 28,
    "start_time": "2021-12-25T13:23:33.806Z"
   },
   {
    "duration": 3,
    "start_time": "2021-12-25T13:23:33.836Z"
   },
   {
    "duration": 5,
    "start_time": "2021-12-25T13:23:33.840Z"
   },
   {
    "duration": 4,
    "start_time": "2021-12-25T13:23:33.846Z"
   },
   {
    "duration": 5,
    "start_time": "2021-12-25T13:23:33.851Z"
   },
   {
    "duration": 9,
    "start_time": "2021-12-25T13:23:33.857Z"
   },
   {
    "duration": 4,
    "start_time": "2021-12-25T13:23:33.868Z"
   },
   {
    "duration": 10,
    "start_time": "2021-12-25T13:23:33.874Z"
   },
   {
    "duration": 17,
    "start_time": "2021-12-25T13:23:33.886Z"
   },
   {
    "duration": 20,
    "start_time": "2021-12-25T13:23:33.928Z"
   },
   {
    "duration": 3,
    "start_time": "2021-12-25T13:23:33.950Z"
   },
   {
    "duration": 6,
    "start_time": "2021-12-25T13:23:33.955Z"
   },
   {
    "duration": 16,
    "start_time": "2021-12-25T13:23:33.962Z"
   },
   {
    "duration": 57,
    "start_time": "2021-12-25T13:23:33.980Z"
   },
   {
    "duration": 8,
    "start_time": "2021-12-25T13:23:34.039Z"
   },
   {
    "duration": 4,
    "start_time": "2021-12-25T13:23:34.049Z"
   },
   {
    "duration": 5,
    "start_time": "2021-12-25T13:23:34.055Z"
   },
   {
    "duration": 13,
    "start_time": "2021-12-25T13:23:34.061Z"
   },
   {
    "duration": 3,
    "start_time": "2021-12-25T13:23:34.076Z"
   },
   {
    "duration": 3,
    "start_time": "2021-12-25T13:24:57.196Z"
   },
   {
    "duration": 4,
    "start_time": "2021-12-25T13:25:00.055Z"
   },
   {
    "duration": 122,
    "start_time": "2021-12-25T13:25:00.061Z"
   },
   {
    "duration": 13,
    "start_time": "2021-12-25T13:25:00.185Z"
   },
   {
    "duration": 11,
    "start_time": "2021-12-25T13:25:00.200Z"
   },
   {
    "duration": 13,
    "start_time": "2021-12-25T13:25:00.213Z"
   },
   {
    "duration": 9,
    "start_time": "2021-12-25T13:25:00.228Z"
   },
   {
    "duration": 5,
    "start_time": "2021-12-25T13:25:00.239Z"
   },
   {
    "duration": 8,
    "start_time": "2021-12-25T13:25:00.245Z"
   },
   {
    "duration": 6,
    "start_time": "2021-12-25T13:25:00.256Z"
   },
   {
    "duration": 6,
    "start_time": "2021-12-25T13:25:00.263Z"
   },
   {
    "duration": 13,
    "start_time": "2021-12-25T13:25:00.271Z"
   },
   {
    "duration": 14,
    "start_time": "2021-12-25T13:25:00.285Z"
   },
   {
    "duration": 34,
    "start_time": "2021-12-25T13:25:00.300Z"
   },
   {
    "duration": 16,
    "start_time": "2021-12-25T13:25:00.335Z"
   },
   {
    "duration": 183,
    "start_time": "2021-12-25T13:25:00.353Z"
   },
   {
    "duration": 17,
    "start_time": "2021-12-25T13:25:00.537Z"
   },
   {
    "duration": 25,
    "start_time": "2021-12-25T13:25:00.555Z"
   },
   {
    "duration": 11,
    "start_time": "2021-12-25T13:25:00.581Z"
   },
   {
    "duration": 4,
    "start_time": "2021-12-25T13:25:00.594Z"
   },
   {
    "duration": 29,
    "start_time": "2021-12-25T13:25:00.600Z"
   },
   {
    "duration": 12,
    "start_time": "2021-12-25T13:25:00.631Z"
   },
   {
    "duration": 9,
    "start_time": "2021-12-25T13:25:00.645Z"
   },
   {
    "duration": 8,
    "start_time": "2021-12-25T13:25:00.655Z"
   },
   {
    "duration": 7,
    "start_time": "2021-12-25T13:25:00.665Z"
   },
   {
    "duration": 13,
    "start_time": "2021-12-25T13:25:00.673Z"
   },
   {
    "duration": 17,
    "start_time": "2021-12-25T13:25:00.688Z"
   },
   {
    "duration": 31,
    "start_time": "2021-12-25T13:25:00.709Z"
   },
   {
    "duration": 4,
    "start_time": "2021-12-25T13:25:00.742Z"
   },
   {
    "duration": 5,
    "start_time": "2021-12-25T13:25:00.748Z"
   },
   {
    "duration": 19,
    "start_time": "2021-12-25T13:25:00.755Z"
   },
   {
    "duration": 59,
    "start_time": "2021-12-25T13:25:00.776Z"
   },
   {
    "duration": 10,
    "start_time": "2021-12-25T13:25:00.837Z"
   },
   {
    "duration": 4,
    "start_time": "2021-12-25T13:25:00.848Z"
   },
   {
    "duration": 6,
    "start_time": "2021-12-25T13:25:00.854Z"
   },
   {
    "duration": 15,
    "start_time": "2021-12-25T13:25:00.862Z"
   },
   {
    "duration": 3,
    "start_time": "2021-12-25T13:25:00.879Z"
   },
   {
    "duration": 23,
    "start_time": "2021-12-25T13:26:37.555Z"
   },
   {
    "duration": 24,
    "start_time": "2021-12-25T13:26:43.419Z"
   },
   {
    "duration": 86,
    "start_time": "2021-12-25T13:27:09.727Z"
   },
   {
    "duration": 1062,
    "start_time": "2021-12-25T13:27:21.007Z"
   },
   {
    "duration": 110,
    "start_time": "2021-12-25T13:27:22.070Z"
   },
   {
    "duration": 18,
    "start_time": "2021-12-25T13:27:22.182Z"
   },
   {
    "duration": 5,
    "start_time": "2021-12-25T13:27:22.202Z"
   },
   {
    "duration": 13,
    "start_time": "2021-12-25T13:27:22.208Z"
   },
   {
    "duration": 9,
    "start_time": "2021-12-25T13:27:22.223Z"
   },
   {
    "duration": 17,
    "start_time": "2021-12-25T13:27:22.234Z"
   },
   {
    "duration": 5,
    "start_time": "2021-12-25T13:27:22.253Z"
   },
   {
    "duration": 6,
    "start_time": "2021-12-25T13:27:22.260Z"
   },
   {
    "duration": 5,
    "start_time": "2021-12-25T13:27:22.267Z"
   },
   {
    "duration": 7,
    "start_time": "2021-12-25T13:27:22.274Z"
   },
   {
    "duration": 7,
    "start_time": "2021-12-25T13:27:22.282Z"
   },
   {
    "duration": 3,
    "start_time": "2021-12-25T13:27:22.291Z"
   },
   {
    "duration": 34,
    "start_time": "2021-12-25T13:27:22.296Z"
   },
   {
    "duration": 249,
    "start_time": "2021-12-25T13:27:22.332Z"
   },
   {
    "duration": 16,
    "start_time": "2021-12-25T13:27:22.583Z"
   },
   {
    "duration": 42,
    "start_time": "2021-12-25T13:27:22.601Z"
   },
   {
    "duration": 9,
    "start_time": "2021-12-25T13:27:22.645Z"
   },
   {
    "duration": 3,
    "start_time": "2021-12-25T13:27:22.656Z"
   },
   {
    "duration": 7,
    "start_time": "2021-12-25T13:27:22.660Z"
   },
   {
    "duration": 5,
    "start_time": "2021-12-25T13:27:22.668Z"
   },
   {
    "duration": 6,
    "start_time": "2021-12-25T13:27:22.675Z"
   },
   {
    "duration": 3,
    "start_time": "2021-12-25T13:27:22.685Z"
   },
   {
    "duration": 4,
    "start_time": "2021-12-25T13:27:22.690Z"
   },
   {
    "duration": 3,
    "start_time": "2021-12-25T13:27:22.728Z"
   },
   {
    "duration": 15,
    "start_time": "2021-12-25T13:27:22.732Z"
   },
   {
    "duration": 17,
    "start_time": "2021-12-25T13:27:22.748Z"
   },
   {
    "duration": 3,
    "start_time": "2021-12-25T13:27:22.767Z"
   },
   {
    "duration": 7,
    "start_time": "2021-12-25T13:27:22.771Z"
   },
   {
    "duration": 17,
    "start_time": "2021-12-25T13:27:22.779Z"
   },
   {
    "duration": 61,
    "start_time": "2021-12-25T13:27:22.797Z"
   },
   {
    "duration": 7,
    "start_time": "2021-12-25T13:27:22.860Z"
   },
   {
    "duration": 3,
    "start_time": "2021-12-25T13:27:22.869Z"
   },
   {
    "duration": 5,
    "start_time": "2021-12-25T13:27:22.873Z"
   },
   {
    "duration": 14,
    "start_time": "2021-12-25T13:27:22.879Z"
   },
   {
    "duration": 62,
    "start_time": "2021-12-25T13:27:22.895Z"
   },
   {
    "duration": 43,
    "start_time": "2021-12-25T13:27:50.235Z"
   },
   {
    "duration": 16,
    "start_time": "2021-12-25T13:27:54.147Z"
   },
   {
    "duration": 29,
    "start_time": "2021-12-25T13:27:55.464Z"
   },
   {
    "duration": 15,
    "start_time": "2021-12-25T13:29:35.995Z"
   },
   {
    "duration": 59,
    "start_time": "2021-12-25T13:29:37.695Z"
   },
   {
    "duration": 18,
    "start_time": "2021-12-25T13:29:42.475Z"
   },
   {
    "duration": 52,
    "start_time": "2021-12-25T13:29:44.625Z"
   },
   {
    "duration": 2,
    "start_time": "2021-12-25T13:30:28.247Z"
   },
   {
    "duration": 3,
    "start_time": "2021-12-25T13:30:34.076Z"
   },
   {
    "duration": 50,
    "start_time": "2021-12-25T13:31:13.487Z"
   },
   {
    "duration": 36,
    "start_time": "2021-12-25T13:31:15.565Z"
   },
   {
    "duration": 88,
    "start_time": "2021-12-25T13:31:16.924Z"
   },
   {
    "duration": 4,
    "start_time": "2021-12-25T13:35:03.115Z"
   },
   {
    "duration": 100,
    "start_time": "2021-12-25T13:35:03.200Z"
   },
   {
    "duration": 13,
    "start_time": "2021-12-25T13:35:03.302Z"
   },
   {
    "duration": 6,
    "start_time": "2021-12-25T13:35:03.316Z"
   },
   {
    "duration": 12,
    "start_time": "2021-12-25T13:35:03.323Z"
   },
   {
    "duration": 8,
    "start_time": "2021-12-25T13:35:03.337Z"
   },
   {
    "duration": 6,
    "start_time": "2021-12-25T13:35:04.196Z"
   },
   {
    "duration": 6,
    "start_time": "2021-12-25T13:35:04.203Z"
   },
   {
    "duration": 6,
    "start_time": "2021-12-25T13:35:04.211Z"
   },
   {
    "duration": 5,
    "start_time": "2021-12-25T13:35:04.287Z"
   },
   {
    "duration": 9,
    "start_time": "2021-12-25T13:35:04.294Z"
   },
   {
    "duration": 7,
    "start_time": "2021-12-25T13:35:04.304Z"
   },
   {
    "duration": 4,
    "start_time": "2021-12-25T13:35:04.313Z"
   },
   {
    "duration": 7,
    "start_time": "2021-12-25T13:35:04.318Z"
   },
   {
    "duration": 184,
    "start_time": "2021-12-25T13:35:04.326Z"
   },
   {
    "duration": 26,
    "start_time": "2021-12-25T13:35:04.512Z"
   },
   {
    "duration": 23,
    "start_time": "2021-12-25T13:35:04.540Z"
   },
   {
    "duration": 9,
    "start_time": "2021-12-25T13:35:04.565Z"
   },
   {
    "duration": 3,
    "start_time": "2021-12-25T13:35:04.575Z"
   },
   {
    "duration": 7,
    "start_time": "2021-12-25T13:35:04.580Z"
   },
   {
    "duration": 5,
    "start_time": "2021-12-25T13:35:04.589Z"
   },
   {
    "duration": 32,
    "start_time": "2021-12-25T13:35:04.595Z"
   },
   {
    "duration": 2,
    "start_time": "2021-12-25T13:35:04.629Z"
   },
   {
    "duration": 7,
    "start_time": "2021-12-25T13:35:04.633Z"
   },
   {
    "duration": 5,
    "start_time": "2021-12-25T13:35:04.641Z"
   },
   {
    "duration": 14,
    "start_time": "2021-12-25T13:35:04.648Z"
   },
   {
    "duration": 17,
    "start_time": "2021-12-25T13:35:04.664Z"
   },
   {
    "duration": 3,
    "start_time": "2021-12-25T13:35:04.682Z"
   },
   {
    "duration": 4,
    "start_time": "2021-12-25T13:35:04.687Z"
   },
   {
    "duration": 15,
    "start_time": "2021-12-25T13:35:04.969Z"
   },
   {
    "duration": 37,
    "start_time": "2021-12-25T13:35:04.986Z"
   },
   {
    "duration": 9,
    "start_time": "2021-12-25T13:35:05.025Z"
   },
   {
    "duration": 4,
    "start_time": "2021-12-25T13:35:05.035Z"
   },
   {
    "duration": 13,
    "start_time": "2021-12-25T13:35:05.040Z"
   },
   {
    "duration": 36,
    "start_time": "2021-12-25T13:35:05.054Z"
   },
   {
    "duration": 2,
    "start_time": "2021-12-25T13:35:05.092Z"
   },
   {
    "duration": 6,
    "start_time": "2021-12-25T13:35:05.096Z"
   },
   {
    "duration": 10,
    "start_time": "2021-12-25T13:35:05.128Z"
   },
   {
    "duration": 34,
    "start_time": "2021-12-25T13:35:05.139Z"
   },
   {
    "duration": 802,
    "start_time": "2021-12-25T13:35:05.174Z"
   },
   {
    "duration": 10,
    "start_time": "2021-12-25T13:35:45.592Z"
   },
   {
    "duration": 128,
    "start_time": "2021-12-25T13:35:45.603Z"
   },
   {
    "duration": 17221,
    "start_time": "2021-12-25T13:35:28.512Z"
   },
   {
    "duration": 17216,
    "start_time": "2021-12-25T13:35:28.518Z"
   },
   {
    "duration": 17212,
    "start_time": "2021-12-25T13:35:28.523Z"
   },
   {
    "duration": 17175,
    "start_time": "2021-12-25T13:35:28.561Z"
   },
   {
    "duration": 387,
    "start_time": "2021-12-25T13:35:46.127Z"
   },
   {
    "duration": 1055,
    "start_time": "2021-12-25T13:36:27.611Z"
   },
   {
    "duration": 103,
    "start_time": "2021-12-25T13:36:28.668Z"
   },
   {
    "duration": 18,
    "start_time": "2021-12-25T13:36:28.774Z"
   },
   {
    "duration": 4,
    "start_time": "2021-12-25T13:36:28.794Z"
   },
   {
    "duration": 11,
    "start_time": "2021-12-25T13:36:28.799Z"
   },
   {
    "duration": 9,
    "start_time": "2021-12-25T13:36:28.812Z"
   },
   {
    "duration": 9,
    "start_time": "2021-12-25T13:36:28.822Z"
   },
   {
    "duration": 8,
    "start_time": "2021-12-25T13:36:28.833Z"
   },
   {
    "duration": 9,
    "start_time": "2021-12-25T13:36:28.844Z"
   },
   {
    "duration": 6,
    "start_time": "2021-12-25T13:36:28.856Z"
   },
   {
    "duration": 8,
    "start_time": "2021-12-25T13:36:28.863Z"
   },
   {
    "duration": 8,
    "start_time": "2021-12-25T13:36:28.872Z"
   },
   {
    "duration": 4,
    "start_time": "2021-12-25T13:36:28.881Z"
   },
   {
    "duration": 8,
    "start_time": "2021-12-25T13:36:28.886Z"
   },
   {
    "duration": 277,
    "start_time": "2021-12-25T13:36:28.895Z"
   },
   {
    "duration": 18,
    "start_time": "2021-12-25T13:36:29.173Z"
   },
   {
    "duration": 41,
    "start_time": "2021-12-25T13:36:29.193Z"
   },
   {
    "duration": 10,
    "start_time": "2021-12-25T13:36:29.235Z"
   },
   {
    "duration": 4,
    "start_time": "2021-12-25T13:36:29.246Z"
   },
   {
    "duration": 9,
    "start_time": "2021-12-25T13:36:29.251Z"
   },
   {
    "duration": 9,
    "start_time": "2021-12-25T13:36:29.261Z"
   },
   {
    "duration": 4,
    "start_time": "2021-12-25T13:36:29.272Z"
   },
   {
    "duration": 5,
    "start_time": "2021-12-25T13:36:29.278Z"
   },
   {
    "duration": 5,
    "start_time": "2021-12-25T13:36:29.284Z"
   },
   {
    "duration": 5,
    "start_time": "2021-12-25T13:36:29.290Z"
   },
   {
    "duration": 44,
    "start_time": "2021-12-25T13:36:29.296Z"
   },
   {
    "duration": 18,
    "start_time": "2021-12-25T13:36:29.343Z"
   },
   {
    "duration": 3,
    "start_time": "2021-12-25T13:36:29.362Z"
   },
   {
    "duration": 6,
    "start_time": "2021-12-25T13:36:29.367Z"
   },
   {
    "duration": 19,
    "start_time": "2021-12-25T13:36:29.374Z"
   },
   {
    "duration": 57,
    "start_time": "2021-12-25T13:36:29.394Z"
   },
   {
    "duration": 7,
    "start_time": "2021-12-25T13:36:29.453Z"
   },
   {
    "duration": 4,
    "start_time": "2021-12-25T13:36:29.461Z"
   },
   {
    "duration": 14,
    "start_time": "2021-12-25T13:36:29.466Z"
   },
   {
    "duration": 120,
    "start_time": "2021-12-25T13:36:29.481Z"
   },
   {
    "duration": 17117,
    "start_time": "2021-12-25T13:36:12.486Z"
   },
   {
    "duration": 17114,
    "start_time": "2021-12-25T13:36:12.490Z"
   },
   {
    "duration": 17110,
    "start_time": "2021-12-25T13:36:12.494Z"
   },
   {
    "duration": 17107,
    "start_time": "2021-12-25T13:36:12.498Z"
   },
   {
    "duration": 17103,
    "start_time": "2021-12-25T13:36:12.503Z"
   },
   {
    "duration": 43,
    "start_time": "2021-12-25T13:36:54.495Z"
   },
   {
    "duration": 3,
    "start_time": "2021-12-25T13:36:57.306Z"
   },
   {
    "duration": 4,
    "start_time": "2021-12-25T13:36:58.884Z"
   },
   {
    "duration": 10,
    "start_time": "2021-12-25T13:36:59.576Z"
   },
   {
    "duration": 424,
    "start_time": "2021-12-25T13:37:01.516Z"
   },
   {
    "duration": 20,
    "start_time": "2021-12-25T13:37:20.904Z"
   },
   {
    "duration": 1003,
    "start_time": "2021-12-25T13:38:22.612Z"
   },
   {
    "duration": 59710,
    "start_time": "2021-12-25T13:39:20.324Z"
   },
   {
    "duration": 442,
    "start_time": "2021-12-25T13:40:49.285Z"
   },
   {
    "duration": 4,
    "start_time": "2021-12-25T13:41:14.915Z"
   },
   {
    "duration": 56822,
    "start_time": "2021-12-25T13:43:01.212Z"
   },
   {
    "duration": 4,
    "start_time": "2021-12-25T13:44:00.816Z"
   },
   {
    "duration": 32,
    "start_time": "2021-12-25T13:57:56.848Z"
   },
   {
    "duration": 17,
    "start_time": "2021-12-25T13:59:07.577Z"
   },
   {
    "duration": 5,
    "start_time": "2021-12-25T17:21:03.981Z"
   },
   {
    "duration": 162,
    "start_time": "2021-12-25T17:21:03.987Z"
   },
   {
    "duration": 14,
    "start_time": "2021-12-25T17:21:04.151Z"
   },
   {
    "duration": 22,
    "start_time": "2021-12-25T17:21:04.167Z"
   },
   {
    "duration": 3,
    "start_time": "2021-12-25T17:21:04.192Z"
   },
   {
    "duration": 12,
    "start_time": "2021-12-25T17:21:04.197Z"
   },
   {
    "duration": 60,
    "start_time": "2021-12-25T17:21:04.211Z"
   },
   {
    "duration": 28,
    "start_time": "2021-12-25T17:21:04.274Z"
   },
   {
    "duration": 24,
    "start_time": "2021-12-25T17:21:04.304Z"
   },
   {
    "duration": 6,
    "start_time": "2021-12-25T17:21:04.329Z"
   },
   {
    "duration": 8,
    "start_time": "2021-12-25T17:21:04.337Z"
   },
   {
    "duration": 7,
    "start_time": "2021-12-25T17:21:04.346Z"
   },
   {
    "duration": 9,
    "start_time": "2021-12-25T17:21:04.354Z"
   },
   {
    "duration": 8,
    "start_time": "2021-12-25T17:21:04.365Z"
   },
   {
    "duration": 5,
    "start_time": "2021-12-25T17:21:04.374Z"
   },
   {
    "duration": 54,
    "start_time": "2021-12-25T17:21:04.381Z"
   },
   {
    "duration": 25,
    "start_time": "2021-12-25T17:21:04.436Z"
   },
   {
    "duration": 11,
    "start_time": "2021-12-25T17:21:04.462Z"
   },
   {
    "duration": 4,
    "start_time": "2021-12-25T17:21:04.475Z"
   },
   {
    "duration": 4,
    "start_time": "2021-12-25T17:21:04.481Z"
   },
   {
    "duration": 3,
    "start_time": "2021-12-25T17:21:04.487Z"
   },
   {
    "duration": 38,
    "start_time": "2021-12-25T17:21:04.492Z"
   },
   {
    "duration": 4,
    "start_time": "2021-12-25T17:21:04.534Z"
   },
   {
    "duration": 4,
    "start_time": "2021-12-25T17:21:04.540Z"
   },
   {
    "duration": 5,
    "start_time": "2021-12-25T17:21:04.546Z"
   },
   {
    "duration": 16,
    "start_time": "2021-12-25T17:21:04.552Z"
   },
   {
    "duration": 57,
    "start_time": "2021-12-25T17:21:04.570Z"
   },
   {
    "duration": 4,
    "start_time": "2021-12-25T17:21:04.629Z"
   },
   {
    "duration": 5,
    "start_time": "2021-12-25T17:21:04.635Z"
   },
   {
    "duration": 18,
    "start_time": "2021-12-25T17:21:04.641Z"
   },
   {
    "duration": 41,
    "start_time": "2021-12-25T17:21:04.661Z"
   },
   {
    "duration": 30,
    "start_time": "2021-12-25T17:21:04.704Z"
   },
   {
    "duration": 4,
    "start_time": "2021-12-25T17:21:04.736Z"
   },
   {
    "duration": 15,
    "start_time": "2021-12-25T17:21:04.741Z"
   },
   {
    "duration": 41,
    "start_time": "2021-12-25T17:21:04.757Z"
   },
   {
    "duration": 2,
    "start_time": "2021-12-25T17:21:04.800Z"
   },
   {
    "duration": 3,
    "start_time": "2021-12-25T17:21:04.827Z"
   },
   {
    "duration": 12,
    "start_time": "2021-12-25T17:21:04.832Z"
   },
   {
    "duration": 19,
    "start_time": "2021-12-25T17:21:04.846Z"
   },
   {
    "duration": 60054,
    "start_time": "2021-12-25T17:21:04.867Z"
   },
   {
    "duration": 6,
    "start_time": "2021-12-25T17:22:04.922Z"
   },
   {
    "duration": 4,
    "start_time": "2021-12-25T17:25:15.957Z"
   },
   {
    "duration": 4,
    "start_time": "2021-12-25T17:25:49.230Z"
   },
   {
    "duration": 3,
    "start_time": "2021-12-25T17:26:00.860Z"
   },
   {
    "duration": 7,
    "start_time": "2021-12-25T17:27:00.530Z"
   },
   {
    "duration": 6,
    "start_time": "2021-12-25T17:27:15.349Z"
   },
   {
    "duration": 5,
    "start_time": "2021-12-25T17:27:38.780Z"
   },
   {
    "duration": 5,
    "start_time": "2021-12-25T17:27:40.729Z"
   },
   {
    "duration": 6,
    "start_time": "2021-12-25T17:29:24.806Z"
   },
   {
    "duration": 6,
    "start_time": "2021-12-25T17:29:43.449Z"
   },
   {
    "duration": 13,
    "start_time": "2021-12-25T17:30:00.522Z"
   },
   {
    "duration": 22,
    "start_time": "2021-12-25T17:30:02.160Z"
   },
   {
    "duration": 6,
    "start_time": "2021-12-25T17:30:03.450Z"
   },
   {
    "duration": 6,
    "start_time": "2021-12-25T17:30:04.349Z"
   },
   {
    "duration": 120,
    "start_time": "2021-12-25T17:36:42.417Z"
   },
   {
    "duration": 644,
    "start_time": "2021-12-25T17:36:59.789Z"
   },
   {
    "duration": 347,
    "start_time": "2021-12-25T17:40:25.438Z"
   },
   {
    "duration": 31,
    "start_time": "2021-12-25T17:40:47.157Z"
   },
   {
    "duration": 155,
    "start_time": "2021-12-25T17:50:04.069Z"
   },
   {
    "duration": 347,
    "start_time": "2021-12-25T17:50:08.550Z"
   },
   {
    "duration": 8,
    "start_time": "2021-12-25T17:50:15.609Z"
   },
   {
    "duration": 711,
    "start_time": "2021-12-25T17:50:17.034Z"
   },
   {
    "duration": 4,
    "start_time": "2021-12-25T17:51:34.821Z"
   },
   {
    "duration": 9309,
    "start_time": "2021-12-25T17:51:43.827Z"
   },
   {
    "duration": 13422,
    "start_time": "2021-12-25T17:52:34.877Z"
   },
   {
    "duration": 5141,
    "start_time": "2021-12-25T17:54:13.918Z"
   },
   {
    "duration": 306,
    "start_time": "2021-12-25T17:58:11.424Z"
   },
   {
    "duration": 6,
    "start_time": "2021-12-25T17:59:04.779Z"
   },
   {
    "duration": 6,
    "start_time": "2021-12-25T17:59:17.109Z"
   },
   {
    "duration": 111520,
    "start_time": "2021-12-25T17:59:24.368Z"
   },
   {
    "duration": 5,
    "start_time": "2021-12-25T18:05:43.007Z"
   },
   {
    "duration": 3,
    "start_time": "2021-12-25T18:05:43.096Z"
   },
   {
    "duration": 204,
    "start_time": "2021-12-25T18:05:43.101Z"
   },
   {
    "duration": 13,
    "start_time": "2021-12-25T18:05:43.308Z"
   },
   {
    "duration": 8,
    "start_time": "2021-12-25T18:05:43.323Z"
   },
   {
    "duration": 5,
    "start_time": "2021-12-25T18:05:43.333Z"
   },
   {
    "duration": 10,
    "start_time": "2021-12-25T18:05:43.339Z"
   },
   {
    "duration": 40,
    "start_time": "2021-12-25T18:05:43.351Z"
   },
   {
    "duration": 43,
    "start_time": "2021-12-25T18:05:43.392Z"
   },
   {
    "duration": 7,
    "start_time": "2021-12-25T18:05:43.438Z"
   },
   {
    "duration": 14,
    "start_time": "2021-12-25T18:05:43.448Z"
   },
   {
    "duration": 16,
    "start_time": "2021-12-25T18:05:43.464Z"
   },
   {
    "duration": 9,
    "start_time": "2021-12-25T18:05:43.481Z"
   },
   {
    "duration": 6,
    "start_time": "2021-12-25T18:05:43.492Z"
   },
   {
    "duration": 8,
    "start_time": "2021-12-25T18:05:43.499Z"
   },
   {
    "duration": 19,
    "start_time": "2021-12-25T18:05:43.508Z"
   },
   {
    "duration": 18,
    "start_time": "2021-12-25T18:05:43.528Z"
   },
   {
    "duration": 24,
    "start_time": "2021-12-25T18:05:43.547Z"
   },
   {
    "duration": 9,
    "start_time": "2021-12-25T18:05:43.572Z"
   },
   {
    "duration": 3,
    "start_time": "2021-12-25T18:05:43.583Z"
   },
   {
    "duration": 5,
    "start_time": "2021-12-25T18:05:43.587Z"
   },
   {
    "duration": 34,
    "start_time": "2021-12-25T18:05:43.594Z"
   },
   {
    "duration": 4,
    "start_time": "2021-12-25T18:05:43.629Z"
   },
   {
    "duration": 7,
    "start_time": "2021-12-25T18:05:43.634Z"
   },
   {
    "duration": 5,
    "start_time": "2021-12-25T18:05:43.643Z"
   },
   {
    "duration": 7,
    "start_time": "2021-12-25T18:05:43.650Z"
   },
   {
    "duration": 24,
    "start_time": "2021-12-25T18:05:43.659Z"
   },
   {
    "duration": 49,
    "start_time": "2021-12-25T18:05:43.687Z"
   },
   {
    "duration": 4,
    "start_time": "2021-12-25T18:05:43.738Z"
   },
   {
    "duration": 4,
    "start_time": "2021-12-25T18:05:43.744Z"
   },
   {
    "duration": 16,
    "start_time": "2021-12-25T18:05:43.750Z"
   },
   {
    "duration": 6,
    "start_time": "2021-12-25T18:05:43.768Z"
   },
   {
    "duration": 10551,
    "start_time": "2021-12-25T18:05:43.776Z"
   },
   {
    "duration": 8,
    "start_time": "2021-12-25T18:05:54.329Z"
   },
   {
    "duration": 7,
    "start_time": "2021-12-25T18:05:54.339Z"
   },
   {
    "duration": 8,
    "start_time": "2021-12-25T18:05:54.348Z"
   },
   {
    "duration": 13,
    "start_time": "2021-12-25T18:05:54.358Z"
   },
   {
    "duration": 4,
    "start_time": "2021-12-25T18:05:54.373Z"
   },
   {
    "duration": 6,
    "start_time": "2021-12-25T18:05:54.378Z"
   },
   {
    "duration": 6,
    "start_time": "2021-12-25T18:05:54.385Z"
   },
   {
    "duration": 37,
    "start_time": "2021-12-25T18:05:54.392Z"
   },
   {
    "duration": 13150,
    "start_time": "2021-12-25T18:05:54.430Z"
   },
   {
    "duration": 1078,
    "start_time": "2021-12-25T18:06:18.555Z"
   },
   {
    "duration": 2,
    "start_time": "2021-12-25T18:06:19.635Z"
   },
   {
    "duration": 110,
    "start_time": "2021-12-25T18:06:19.640Z"
   },
   {
    "duration": 18,
    "start_time": "2021-12-25T18:06:19.751Z"
   },
   {
    "duration": 6,
    "start_time": "2021-12-25T18:06:19.771Z"
   },
   {
    "duration": 4,
    "start_time": "2021-12-25T18:06:19.778Z"
   },
   {
    "duration": 9,
    "start_time": "2021-12-25T18:06:19.784Z"
   },
   {
    "duration": 48,
    "start_time": "2021-12-25T18:06:19.795Z"
   },
   {
    "duration": 20,
    "start_time": "2021-12-25T18:06:19.846Z"
   },
   {
    "duration": 10,
    "start_time": "2021-12-25T18:06:19.868Z"
   },
   {
    "duration": 7,
    "start_time": "2021-12-25T18:06:19.880Z"
   },
   {
    "duration": 5,
    "start_time": "2021-12-25T18:06:19.888Z"
   },
   {
    "duration": 36,
    "start_time": "2021-12-25T18:06:19.894Z"
   },
   {
    "duration": 6,
    "start_time": "2021-12-25T18:06:19.931Z"
   },
   {
    "duration": 8,
    "start_time": "2021-12-25T18:06:19.939Z"
   },
   {
    "duration": 4,
    "start_time": "2021-12-25T18:06:19.948Z"
   },
   {
    "duration": 18,
    "start_time": "2021-12-25T18:06:19.953Z"
   },
   {
    "duration": 26,
    "start_time": "2021-12-25T18:06:19.972Z"
   },
   {
    "duration": 35,
    "start_time": "2021-12-25T18:06:20.000Z"
   },
   {
    "duration": 3,
    "start_time": "2021-12-25T18:06:20.037Z"
   },
   {
    "duration": 6,
    "start_time": "2021-12-25T18:06:20.042Z"
   },
   {
    "duration": 6,
    "start_time": "2021-12-25T18:06:20.049Z"
   },
   {
    "duration": 4,
    "start_time": "2021-12-25T18:06:20.057Z"
   },
   {
    "duration": 4,
    "start_time": "2021-12-25T18:06:20.063Z"
   },
   {
    "duration": 5,
    "start_time": "2021-12-25T18:06:20.068Z"
   },
   {
    "duration": 6,
    "start_time": "2021-12-25T18:06:20.074Z"
   },
   {
    "duration": 55,
    "start_time": "2021-12-25T18:06:20.084Z"
   },
   {
    "duration": 21,
    "start_time": "2021-12-25T18:06:20.142Z"
   },
   {
    "duration": 4,
    "start_time": "2021-12-25T18:06:20.165Z"
   },
   {
    "duration": 4,
    "start_time": "2021-12-25T18:06:20.171Z"
   },
   {
    "duration": 16,
    "start_time": "2021-12-25T18:06:20.176Z"
   },
   {
    "duration": 37,
    "start_time": "2021-12-25T18:06:20.193Z"
   },
   {
    "duration": 9640,
    "start_time": "2021-12-25T18:06:20.231Z"
   },
   {
    "duration": 628,
    "start_time": "2021-12-25T18:06:29.873Z"
   },
   {
    "duration": 17920,
    "start_time": "2021-12-25T18:06:12.583Z"
   },
   {
    "duration": 17551,
    "start_time": "2021-12-25T18:06:12.953Z"
   },
   {
    "duration": 17524,
    "start_time": "2021-12-25T18:06:12.981Z"
   },
   {
    "duration": 17514,
    "start_time": "2021-12-25T18:06:12.992Z"
   },
   {
    "duration": 17505,
    "start_time": "2021-12-25T18:06:13.002Z"
   },
   {
    "duration": 17495,
    "start_time": "2021-12-25T18:06:13.014Z"
   },
   {
    "duration": 17487,
    "start_time": "2021-12-25T18:06:13.023Z"
   },
   {
    "duration": 17479,
    "start_time": "2021-12-25T18:06:13.032Z"
   },
   {
    "duration": 17473,
    "start_time": "2021-12-25T18:06:13.039Z"
   },
   {
    "duration": 17467,
    "start_time": "2021-12-25T18:06:13.046Z"
   },
   {
    "duration": 17462,
    "start_time": "2021-12-25T18:06:13.052Z"
   },
   {
    "duration": 17456,
    "start_time": "2021-12-25T18:06:13.059Z"
   },
   {
    "duration": 17452,
    "start_time": "2021-12-25T18:06:13.064Z"
   },
   {
    "duration": 17449,
    "start_time": "2021-12-25T18:06:13.069Z"
   },
   {
    "duration": 17435,
    "start_time": "2021-12-25T18:06:13.084Z"
   },
   {
    "duration": 16549,
    "start_time": "2021-12-25T18:06:13.971Z"
   },
   {
    "duration": 10244,
    "start_time": "2021-12-25T18:08:58.344Z"
   },
   {
    "duration": 11,
    "start_time": "2021-12-25T18:09:08.590Z"
   },
   {
    "duration": 8,
    "start_time": "2021-12-25T18:09:08.603Z"
   },
   {
    "duration": 24,
    "start_time": "2021-12-25T18:09:08.613Z"
   },
   {
    "duration": 4,
    "start_time": "2021-12-25T18:09:08.638Z"
   },
   {
    "duration": 5,
    "start_time": "2021-12-25T18:09:08.644Z"
   },
   {
    "duration": 7,
    "start_time": "2021-12-25T18:09:08.650Z"
   },
   {
    "duration": 5,
    "start_time": "2021-12-25T18:09:08.658Z"
   },
   {
    "duration": 12497,
    "start_time": "2021-12-25T18:09:08.666Z"
   },
   {
    "duration": 106252,
    "start_time": "2021-12-25T18:09:21.164Z"
   },
   {
    "duration": 4,
    "start_time": "2021-12-25T18:11:07.418Z"
   },
   {
    "duration": 10,
    "start_time": "2021-12-25T18:11:07.427Z"
   },
   {
    "duration": 5289,
    "start_time": "2021-12-25T18:11:07.438Z"
   },
   {
    "duration": 6,
    "start_time": "2021-12-25T18:11:12.729Z"
   },
   {
    "duration": 6,
    "start_time": "2021-12-25T18:11:12.736Z"
   },
   {
    "duration": 362,
    "start_time": "2021-12-25T18:11:12.744Z"
   },
   {
    "duration": 17834,
    "start_time": "2021-12-25T18:10:55.273Z"
   },
   {
    "duration": 38311,
    "start_time": "2021-12-25T18:12:10.731Z"
   },
   {
    "duration": 5,
    "start_time": "2021-12-25T18:48:36.477Z"
   },
   {
    "duration": 16373,
    "start_time": "2021-12-25T18:49:36.456Z"
   },
   {
    "duration": 1336,
    "start_time": "2021-12-26T17:21:16.124Z"
   },
   {
    "duration": 4,
    "start_time": "2021-12-26T17:21:17.463Z"
   },
   {
    "duration": 141,
    "start_time": "2021-12-26T17:21:17.470Z"
   },
   {
    "duration": 30,
    "start_time": "2021-12-26T17:21:17.614Z"
   },
   {
    "duration": 31,
    "start_time": "2021-12-26T17:21:17.647Z"
   },
   {
    "duration": 35,
    "start_time": "2021-12-26T17:21:17.680Z"
   },
   {
    "duration": 44,
    "start_time": "2021-12-26T17:21:17.717Z"
   },
   {
    "duration": 79,
    "start_time": "2021-12-26T17:21:17.764Z"
   },
   {
    "duration": 30,
    "start_time": "2021-12-26T17:21:17.849Z"
   },
   {
    "duration": 14,
    "start_time": "2021-12-26T17:21:17.883Z"
   },
   {
    "duration": 31,
    "start_time": "2021-12-26T17:21:17.900Z"
   },
   {
    "duration": 29,
    "start_time": "2021-12-26T17:21:17.934Z"
   },
   {
    "duration": 34,
    "start_time": "2021-12-26T17:21:17.966Z"
   },
   {
    "duration": 53,
    "start_time": "2021-12-26T17:21:18.003Z"
   },
   {
    "duration": 28,
    "start_time": "2021-12-26T17:21:18.058Z"
   },
   {
    "duration": 40,
    "start_time": "2021-12-26T17:21:18.089Z"
   },
   {
    "duration": 66,
    "start_time": "2021-12-26T17:21:18.132Z"
   },
   {
    "duration": 41,
    "start_time": "2021-12-26T17:21:18.201Z"
   },
   {
    "duration": 15,
    "start_time": "2021-12-26T17:21:18.246Z"
   },
   {
    "duration": 13,
    "start_time": "2021-12-26T17:21:18.264Z"
   },
   {
    "duration": 39,
    "start_time": "2021-12-26T17:21:18.280Z"
   },
   {
    "duration": 28,
    "start_time": "2021-12-26T17:21:18.323Z"
   },
   {
    "duration": 43,
    "start_time": "2021-12-26T17:21:18.354Z"
   },
   {
    "duration": 34,
    "start_time": "2021-12-26T17:21:18.399Z"
   },
   {
    "duration": 25,
    "start_time": "2021-12-26T17:21:18.435Z"
   },
   {
    "duration": 51,
    "start_time": "2021-12-26T17:21:18.463Z"
   },
   {
    "duration": 45,
    "start_time": "2021-12-26T17:21:18.517Z"
   },
   {
    "duration": 64,
    "start_time": "2021-12-26T17:21:18.564Z"
   },
   {
    "duration": 12,
    "start_time": "2021-12-26T17:21:19.809Z"
   },
   {
    "duration": 13817,
    "start_time": "2021-12-26T17:21:19.823Z"
   },
   {
    "duration": 12,
    "start_time": "2021-12-26T17:21:33.644Z"
   },
   {
    "duration": 8,
    "start_time": "2021-12-26T17:21:33.660Z"
   },
   {
    "duration": 19670,
    "start_time": "2021-12-26T17:21:33.671Z"
   },
   {
    "duration": 82,
    "start_time": "2021-12-26T17:21:53.343Z"
   },
   {
    "duration": 115,
    "start_time": "2021-12-26T17:21:53.428Z"
   },
   {
    "duration": 5,
    "start_time": "2021-12-26T17:21:53.546Z"
   },
   {
    "duration": 5,
    "start_time": "2021-12-26T17:21:53.554Z"
   },
   {
    "duration": 8,
    "start_time": "2021-12-26T17:21:53.561Z"
   },
   {
    "duration": 9,
    "start_time": "2021-12-26T17:21:53.571Z"
   },
   {
    "duration": 18091,
    "start_time": "2021-12-26T17:21:53.582Z"
   },
   {
    "duration": 124600,
    "start_time": "2021-12-26T17:22:11.676Z"
   },
   {
    "duration": 520,
    "start_time": "2021-12-26T17:24:15.759Z"
   },
   {
    "duration": 514,
    "start_time": "2021-12-26T17:24:15.767Z"
   },
   {
    "duration": 512,
    "start_time": "2021-12-26T17:24:15.771Z"
   },
   {
    "duration": 511,
    "start_time": "2021-12-26T17:24:15.774Z"
   },
   {
    "duration": 508,
    "start_time": "2021-12-26T17:24:15.779Z"
   },
   {
    "duration": 506,
    "start_time": "2021-12-26T17:24:15.783Z"
   },
   {
    "duration": 505,
    "start_time": "2021-12-26T17:24:15.786Z"
   },
   {
    "duration": 1885,
    "start_time": "2021-12-26T17:25:05.048Z"
   },
   {
    "duration": 5,
    "start_time": "2021-12-26T17:25:06.936Z"
   },
   {
    "duration": 89,
    "start_time": "2021-12-26T17:25:06.945Z"
   },
   {
    "duration": 41,
    "start_time": "2021-12-26T17:25:07.037Z"
   },
   {
    "duration": 8,
    "start_time": "2021-12-26T17:25:07.081Z"
   },
   {
    "duration": 33,
    "start_time": "2021-12-26T17:25:07.092Z"
   },
   {
    "duration": 16,
    "start_time": "2021-12-26T17:25:07.129Z"
   },
   {
    "duration": 82,
    "start_time": "2021-12-26T17:25:07.148Z"
   },
   {
    "duration": 31,
    "start_time": "2021-12-26T17:25:07.234Z"
   },
   {
    "duration": 16,
    "start_time": "2021-12-26T17:25:07.268Z"
   },
   {
    "duration": 39,
    "start_time": "2021-12-26T17:25:07.287Z"
   },
   {
    "duration": 9,
    "start_time": "2021-12-26T17:25:07.329Z"
   },
   {
    "duration": 9,
    "start_time": "2021-12-26T17:25:07.340Z"
   },
   {
    "duration": 14,
    "start_time": "2021-12-26T17:25:07.352Z"
   },
   {
    "duration": 12,
    "start_time": "2021-12-26T17:25:07.369Z"
   },
   {
    "duration": 6,
    "start_time": "2021-12-26T17:25:07.423Z"
   },
   {
    "duration": 32,
    "start_time": "2021-12-26T17:25:07.432Z"
   },
   {
    "duration": 99,
    "start_time": "2021-12-26T17:25:07.467Z"
   },
   {
    "duration": 15,
    "start_time": "2021-12-26T17:25:07.569Z"
   },
   {
    "duration": 6,
    "start_time": "2021-12-26T17:25:07.587Z"
   },
   {
    "duration": 32,
    "start_time": "2021-12-26T17:25:07.596Z"
   },
   {
    "duration": 7,
    "start_time": "2021-12-26T17:25:07.631Z"
   },
   {
    "duration": 6,
    "start_time": "2021-12-26T17:25:07.641Z"
   },
   {
    "duration": 7,
    "start_time": "2021-12-26T17:25:07.650Z"
   },
   {
    "duration": 6,
    "start_time": "2021-12-26T17:25:07.660Z"
   },
   {
    "duration": 58,
    "start_time": "2021-12-26T17:25:07.669Z"
   },
   {
    "duration": 24,
    "start_time": "2021-12-26T17:25:07.733Z"
   },
   {
    "duration": 65,
    "start_time": "2021-12-26T17:25:07.760Z"
   },
   {
    "duration": 18,
    "start_time": "2021-12-26T17:25:07.829Z"
   },
   {
    "duration": 22949,
    "start_time": "2021-12-26T17:25:07.850Z"
   },
   {
    "duration": 21,
    "start_time": "2021-12-26T17:25:30.802Z"
   },
   {
    "duration": 12,
    "start_time": "2021-12-26T17:25:30.827Z"
   },
   {
    "duration": 19780,
    "start_time": "2021-12-26T17:25:30.842Z"
   },
   {
    "duration": 6,
    "start_time": "2021-12-26T17:25:50.625Z"
   },
   {
    "duration": 22,
    "start_time": "2021-12-26T17:25:50.633Z"
   },
   {
    "duration": 5,
    "start_time": "2021-12-26T17:25:50.658Z"
   },
   {
    "duration": 7,
    "start_time": "2021-12-26T17:25:50.666Z"
   },
   {
    "duration": 51,
    "start_time": "2021-12-26T17:25:50.676Z"
   },
   {
    "duration": 8,
    "start_time": "2021-12-26T17:25:50.730Z"
   },
   {
    "duration": 20875,
    "start_time": "2021-12-26T17:25:50.741Z"
   },
   {
    "duration": 136255,
    "start_time": "2021-12-26T17:26:11.619Z"
   },
   {
    "duration": 635,
    "start_time": "2021-12-26T17:28:27.243Z"
   },
   {
    "duration": 616,
    "start_time": "2021-12-26T17:28:27.264Z"
   },
   {
    "duration": 615,
    "start_time": "2021-12-26T17:28:27.268Z"
   },
   {
    "duration": 610,
    "start_time": "2021-12-26T17:28:27.275Z"
   },
   {
    "duration": 585,
    "start_time": "2021-12-26T17:28:27.302Z"
   },
   {
    "duration": 563,
    "start_time": "2021-12-26T17:28:27.326Z"
   },
   {
    "duration": 5,
    "start_time": "2021-12-26T17:29:05.667Z"
   },
   {
    "duration": 3,
    "start_time": "2021-12-26T17:29:05.774Z"
   },
   {
    "duration": 91,
    "start_time": "2021-12-26T17:29:05.780Z"
   },
   {
    "duration": 23,
    "start_time": "2021-12-26T17:29:05.874Z"
   },
   {
    "duration": 10,
    "start_time": "2021-12-26T17:29:05.900Z"
   },
   {
    "duration": 5,
    "start_time": "2021-12-26T17:29:05.913Z"
   },
   {
    "duration": 12,
    "start_time": "2021-12-26T17:29:05.924Z"
   },
   {
    "duration": 89,
    "start_time": "2021-12-26T17:29:05.939Z"
   },
   {
    "duration": 30,
    "start_time": "2021-12-26T17:29:06.031Z"
   },
   {
    "duration": 9,
    "start_time": "2021-12-26T17:29:06.064Z"
   },
   {
    "duration": 46,
    "start_time": "2021-12-26T17:29:06.076Z"
   },
   {
    "duration": 8,
    "start_time": "2021-12-26T17:29:06.124Z"
   },
   {
    "duration": 8,
    "start_time": "2021-12-26T17:29:06.134Z"
   },
   {
    "duration": 10,
    "start_time": "2021-12-26T17:29:06.144Z"
   },
   {
    "duration": 9,
    "start_time": "2021-12-26T17:29:06.284Z"
   },
   {
    "duration": 5,
    "start_time": "2021-12-26T17:29:06.295Z"
   },
   {
    "duration": 29,
    "start_time": "2021-12-26T17:29:06.303Z"
   },
   {
    "duration": 42,
    "start_time": "2021-12-26T17:29:06.723Z"
   },
   {
    "duration": 14,
    "start_time": "2021-12-26T17:29:06.767Z"
   },
   {
    "duration": 5,
    "start_time": "2021-12-26T17:29:06.784Z"
   },
   {
    "duration": 6,
    "start_time": "2021-12-26T17:29:06.836Z"
   },
   {
    "duration": 6,
    "start_time": "2021-12-26T17:29:06.844Z"
   },
   {
    "duration": 5,
    "start_time": "2021-12-26T17:29:06.853Z"
   },
   {
    "duration": 6,
    "start_time": "2021-12-26T17:29:06.861Z"
   },
   {
    "duration": 7,
    "start_time": "2021-12-26T17:29:06.869Z"
   },
   {
    "duration": 47,
    "start_time": "2021-12-26T17:29:06.878Z"
   },
   {
    "duration": 23,
    "start_time": "2021-12-26T17:29:06.928Z"
   },
   {
    "duration": 29,
    "start_time": "2021-12-26T17:29:06.953Z"
   },
   {
    "duration": 10,
    "start_time": "2021-12-26T17:29:06.985Z"
   },
   {
    "duration": 14984,
    "start_time": "2021-12-26T17:29:07.234Z"
   },
   {
    "duration": 11,
    "start_time": "2021-12-26T17:29:22.224Z"
   },
   {
    "duration": 109829,
    "start_time": "2021-12-26T17:29:22.238Z"
   },
   {
    "duration": 8,
    "start_time": "2021-12-26T17:31:12.070Z"
   },
   {
    "duration": 19460,
    "start_time": "2021-12-26T17:31:12.080Z"
   },
   {
    "duration": 9,
    "start_time": "2021-12-26T17:31:31.625Z"
   },
   {
    "duration": 16,
    "start_time": "2021-12-26T17:31:31.724Z"
   },
   {
    "duration": 5,
    "start_time": "2021-12-26T17:31:31.743Z"
   },
   {
    "duration": 6,
    "start_time": "2021-12-26T17:31:31.750Z"
   },
   {
    "duration": 13,
    "start_time": "2021-12-26T17:31:31.758Z"
   },
   {
    "duration": 19,
    "start_time": "2021-12-26T17:31:31.773Z"
   },
   {
    "duration": 20502,
    "start_time": "2021-12-26T17:31:31.794Z"
   },
   {
    "duration": 190489,
    "start_time": "2021-12-26T17:31:52.299Z"
   },
   {
    "duration": 229,
    "start_time": "2021-12-26T17:35:02.562Z"
   },
   {
    "duration": 221,
    "start_time": "2021-12-26T17:35:02.572Z"
   },
   {
    "duration": 217,
    "start_time": "2021-12-26T17:35:02.579Z"
   },
   {
    "duration": 213,
    "start_time": "2021-12-26T17:35:02.585Z"
   },
   {
    "duration": 210,
    "start_time": "2021-12-26T17:35:02.590Z"
   },
   {
    "duration": 209,
    "start_time": "2021-12-26T17:35:02.594Z"
   },
   {
    "duration": 6,
    "start_time": "2021-12-26T17:37:39.056Z"
   },
   {
    "duration": 3,
    "start_time": "2021-12-26T17:37:39.562Z"
   },
   {
    "duration": 84,
    "start_time": "2021-12-26T17:37:39.568Z"
   },
   {
    "duration": 21,
    "start_time": "2021-12-26T17:37:39.655Z"
   },
   {
    "duration": 7,
    "start_time": "2021-12-26T17:37:39.679Z"
   },
   {
    "duration": 4,
    "start_time": "2021-12-26T17:37:39.689Z"
   },
   {
    "duration": 37,
    "start_time": "2021-12-26T17:37:39.696Z"
   },
   {
    "duration": 94,
    "start_time": "2021-12-26T17:37:39.737Z"
   },
   {
    "duration": 28,
    "start_time": "2021-12-26T17:37:39.834Z"
   },
   {
    "duration": 8,
    "start_time": "2021-12-26T17:37:39.866Z"
   },
   {
    "duration": 9,
    "start_time": "2021-12-26T17:37:39.876Z"
   },
   {
    "duration": 8,
    "start_time": "2021-12-26T17:37:39.924Z"
   },
   {
    "duration": 10,
    "start_time": "2021-12-26T17:37:39.934Z"
   },
   {
    "duration": 11,
    "start_time": "2021-12-26T17:37:39.946Z"
   },
   {
    "duration": 10,
    "start_time": "2021-12-26T17:37:39.959Z"
   },
   {
    "duration": 5,
    "start_time": "2021-12-26T17:37:39.972Z"
   },
   {
    "duration": 70,
    "start_time": "2021-12-26T17:37:39.979Z"
   },
   {
    "duration": 42,
    "start_time": "2021-12-26T17:37:40.051Z"
   },
   {
    "duration": 37,
    "start_time": "2021-12-26T17:37:40.096Z"
   },
   {
    "duration": 16,
    "start_time": "2021-12-26T17:37:40.135Z"
   },
   {
    "duration": 12,
    "start_time": "2021-12-26T17:37:40.154Z"
   },
   {
    "duration": 10,
    "start_time": "2021-12-26T17:37:40.169Z"
   },
   {
    "duration": 6,
    "start_time": "2021-12-26T17:37:40.182Z"
   },
   {
    "duration": 35,
    "start_time": "2021-12-26T17:37:40.190Z"
   },
   {
    "duration": 5,
    "start_time": "2021-12-26T17:37:40.227Z"
   },
   {
    "duration": 6,
    "start_time": "2021-12-26T17:37:40.235Z"
   },
   {
    "duration": 34,
    "start_time": "2021-12-26T17:37:40.244Z"
   },
   {
    "duration": 64,
    "start_time": "2021-12-26T17:37:40.283Z"
   },
   {
    "duration": 9,
    "start_time": "2021-12-26T17:37:40.350Z"
   },
   {
    "duration": 16004,
    "start_time": "2021-12-26T17:37:40.362Z"
   },
   {
    "duration": 14,
    "start_time": "2021-12-26T17:37:56.370Z"
   },
   {
    "duration": 17585,
    "start_time": "2021-12-26T17:37:56.388Z"
   },
   {
    "duration": 8,
    "start_time": "2021-12-26T17:38:13.976Z"
   },
   {
    "duration": 19042,
    "start_time": "2021-12-26T17:38:13.988Z"
   },
   {
    "duration": 89,
    "start_time": "2021-12-26T17:38:33.036Z"
   },
   {
    "duration": 26,
    "start_time": "2021-12-26T17:38:33.128Z"
   },
   {
    "duration": 7,
    "start_time": "2021-12-26T17:38:33.157Z"
   },
   {
    "duration": 10,
    "start_time": "2021-12-26T17:38:33.166Z"
   },
   {
    "duration": 48,
    "start_time": "2021-12-26T17:38:33.178Z"
   },
   {
    "duration": 12,
    "start_time": "2021-12-26T17:38:33.230Z"
   },
   {
    "duration": 19495,
    "start_time": "2021-12-26T17:38:33.244Z"
   },
   {
    "duration": 23628,
    "start_time": "2021-12-26T17:38:52.741Z"
   },
   {
    "duration": 5,
    "start_time": "2021-12-26T17:39:16.372Z"
   },
   {
    "duration": 34,
    "start_time": "2021-12-26T17:39:16.380Z"
   },
   {
    "duration": 7919,
    "start_time": "2021-12-26T17:39:16.416Z"
   },
   {
    "duration": 6,
    "start_time": "2021-12-26T17:39:24.338Z"
   },
   {
    "duration": 19,
    "start_time": "2021-12-26T17:39:24.347Z"
   },
   {
    "duration": 8611,
    "start_time": "2021-12-26T17:39:24.368Z"
   },
   {
    "duration": 6,
    "start_time": "2021-12-26T17:45:47.246Z"
   },
   {
    "duration": 3,
    "start_time": "2021-12-26T17:45:47.338Z"
   },
   {
    "duration": 94,
    "start_time": "2021-12-26T17:45:47.344Z"
   },
   {
    "duration": 20,
    "start_time": "2021-12-26T17:45:47.441Z"
   },
   {
    "duration": 30,
    "start_time": "2021-12-26T17:45:47.463Z"
   },
   {
    "duration": 17,
    "start_time": "2021-12-26T17:45:47.495Z"
   },
   {
    "duration": 26,
    "start_time": "2021-12-26T17:45:47.515Z"
   },
   {
    "duration": 64,
    "start_time": "2021-12-26T17:45:47.543Z"
   },
   {
    "duration": 35,
    "start_time": "2021-12-26T17:45:47.610Z"
   },
   {
    "duration": 9,
    "start_time": "2021-12-26T17:45:47.649Z"
   },
   {
    "duration": 22,
    "start_time": "2021-12-26T17:45:47.661Z"
   },
   {
    "duration": 30,
    "start_time": "2021-12-26T17:45:47.686Z"
   },
   {
    "duration": 12,
    "start_time": "2021-12-26T17:45:47.723Z"
   },
   {
    "duration": 32,
    "start_time": "2021-12-26T17:45:47.738Z"
   },
   {
    "duration": 31,
    "start_time": "2021-12-26T17:45:47.772Z"
   },
   {
    "duration": 8,
    "start_time": "2021-12-26T17:45:47.806Z"
   },
   {
    "duration": 48,
    "start_time": "2021-12-26T17:45:47.816Z"
   },
   {
    "duration": 41,
    "start_time": "2021-12-26T17:45:47.866Z"
   },
   {
    "duration": 17,
    "start_time": "2021-12-26T17:45:47.910Z"
   },
   {
    "duration": 13,
    "start_time": "2021-12-26T17:45:47.934Z"
   },
   {
    "duration": 10,
    "start_time": "2021-12-26T17:45:47.950Z"
   },
   {
    "duration": 26,
    "start_time": "2021-12-26T17:45:47.964Z"
   },
   {
    "duration": 6,
    "start_time": "2021-12-26T17:45:48.048Z"
   },
   {
    "duration": 29,
    "start_time": "2021-12-26T17:45:48.057Z"
   },
   {
    "duration": 38,
    "start_time": "2021-12-26T17:45:48.089Z"
   },
   {
    "duration": 19,
    "start_time": "2021-12-26T17:45:48.130Z"
   },
   {
    "duration": 44,
    "start_time": "2021-12-26T17:45:48.151Z"
   },
   {
    "duration": 45,
    "start_time": "2021-12-26T17:45:48.198Z"
   },
   {
    "duration": 10,
    "start_time": "2021-12-26T17:45:48.246Z"
   },
   {
    "duration": 8270,
    "start_time": "2021-12-26T17:45:48.259Z"
   },
   {
    "duration": 10,
    "start_time": "2021-12-26T17:45:56.532Z"
   },
   {
    "duration": 31943,
    "start_time": "2021-12-26T17:45:56.545Z"
   },
   {
    "duration": 9,
    "start_time": "2021-12-26T17:46:28.492Z"
   },
   {
    "duration": 19667,
    "start_time": "2021-12-26T17:46:28.505Z"
   },
   {
    "duration": 9,
    "start_time": "2021-12-26T17:46:48.228Z"
   },
   {
    "duration": 26,
    "start_time": "2021-12-26T17:46:48.324Z"
   },
   {
    "duration": 6,
    "start_time": "2021-12-26T17:46:48.354Z"
   },
   {
    "duration": 7,
    "start_time": "2021-12-26T17:46:48.363Z"
   },
   {
    "duration": 8,
    "start_time": "2021-12-26T17:46:48.373Z"
   },
   {
    "duration": 44,
    "start_time": "2021-12-26T17:46:48.384Z"
   },
   {
    "duration": 10786,
    "start_time": "2021-12-26T17:46:48.432Z"
   },
   {
    "duration": 46303,
    "start_time": "2021-12-26T17:46:59.223Z"
   },
   {
    "duration": 6,
    "start_time": "2021-12-26T17:47:45.530Z"
   },
   {
    "duration": 27,
    "start_time": "2021-12-26T17:47:45.539Z"
   },
   {
    "duration": 4336,
    "start_time": "2021-12-26T17:47:45.569Z"
   },
   {
    "duration": 18,
    "start_time": "2021-12-26T17:47:49.908Z"
   },
   {
    "duration": 9,
    "start_time": "2021-12-26T17:47:49.929Z"
   },
   {
    "duration": 16930,
    "start_time": "2021-12-26T17:47:49.941Z"
   },
   {
    "duration": 12,
    "start_time": "2021-12-26T17:49:49.360Z"
   },
   {
    "duration": 21587,
    "start_time": "2021-12-26T17:49:51.207Z"
   },
   {
    "duration": 12,
    "start_time": "2021-12-26T17:50:42.038Z"
   },
   {
    "duration": 98346,
    "start_time": "2021-12-26T17:50:44.158Z"
   },
   {
    "duration": 9,
    "start_time": "2021-12-26T18:09:22.119Z"
   },
   {
    "duration": 11490,
    "start_time": "2021-12-26T18:09:26.237Z"
   },
   {
    "duration": 11,
    "start_time": "2021-12-26T18:09:57.958Z"
   },
   {
    "duration": 11,
    "start_time": "2021-12-26T18:10:14.928Z"
   },
   {
    "duration": 66483,
    "start_time": "2021-12-26T18:10:16.255Z"
   },
   {
    "duration": 101727,
    "start_time": "2021-12-26T18:13:28.735Z"
   },
   {
    "duration": 13036,
    "start_time": "2021-12-26T18:15:10.465Z"
   },
   {
    "duration": 11,
    "start_time": "2021-12-26T18:16:24.129Z"
   },
   {
    "duration": 217712,
    "start_time": "2021-12-26T18:16:29.199Z"
   },
   {
    "duration": 1340,
    "start_time": "2021-12-26T20:33:49.300Z"
   },
   {
    "duration": 3,
    "start_time": "2021-12-26T20:33:50.643Z"
   },
   {
    "duration": 209,
    "start_time": "2021-12-26T20:33:50.648Z"
   },
   {
    "duration": 29,
    "start_time": "2021-12-26T20:33:50.859Z"
   },
   {
    "duration": 8,
    "start_time": "2021-12-26T20:33:50.891Z"
   },
   {
    "duration": 7,
    "start_time": "2021-12-26T20:33:50.902Z"
   },
   {
    "duration": 16,
    "start_time": "2021-12-26T20:33:50.924Z"
   },
   {
    "duration": 58,
    "start_time": "2021-12-26T20:33:50.943Z"
   },
   {
    "duration": 47,
    "start_time": "2021-12-26T20:33:51.003Z"
   },
   {
    "duration": 10,
    "start_time": "2021-12-26T20:33:51.052Z"
   },
   {
    "duration": 8,
    "start_time": "2021-12-26T20:33:51.064Z"
   },
   {
    "duration": 10,
    "start_time": "2021-12-26T20:33:51.074Z"
   },
   {
    "duration": 9,
    "start_time": "2021-12-26T20:33:51.122Z"
   },
   {
    "duration": 11,
    "start_time": "2021-12-26T20:33:51.133Z"
   },
   {
    "duration": 11,
    "start_time": "2021-12-26T20:33:51.147Z"
   },
   {
    "duration": 8,
    "start_time": "2021-12-26T20:33:51.160Z"
   },
   {
    "duration": 68,
    "start_time": "2021-12-26T20:33:51.170Z"
   },
   {
    "duration": 39,
    "start_time": "2021-12-26T20:33:51.240Z"
   },
   {
    "duration": 14,
    "start_time": "2021-12-26T20:33:51.281Z"
   },
   {
    "duration": 4,
    "start_time": "2021-12-26T20:33:51.323Z"
   },
   {
    "duration": 7,
    "start_time": "2021-12-26T20:33:51.330Z"
   },
   {
    "duration": 8,
    "start_time": "2021-12-26T20:33:51.339Z"
   },
   {
    "duration": 7,
    "start_time": "2021-12-26T20:33:51.351Z"
   },
   {
    "duration": 7,
    "start_time": "2021-12-26T20:33:51.361Z"
   },
   {
    "duration": 6,
    "start_time": "2021-12-26T20:33:51.370Z"
   },
   {
    "duration": 48,
    "start_time": "2021-12-26T20:33:51.378Z"
   },
   {
    "duration": 24,
    "start_time": "2021-12-26T20:33:51.428Z"
   },
   {
    "duration": 29,
    "start_time": "2021-12-26T20:33:51.454Z"
   },
   {
    "duration": 10,
    "start_time": "2021-12-26T20:33:51.485Z"
   },
   {
    "duration": 911450,
    "start_time": "2021-12-26T20:33:51.524Z"
   },
   {
    "duration": 9,
    "start_time": "2021-12-26T20:49:02.977Z"
   },
   {
    "duration": 28261525,
    "start_time": "2021-12-26T20:49:02.989Z"
   },
   {
    "duration": 2103,
    "start_time": "2021-12-27T04:40:02.414Z"
   },
   {
    "duration": 2100,
    "start_time": "2021-12-27T04:40:02.419Z"
   },
   {
    "duration": 2095,
    "start_time": "2021-12-27T04:40:02.425Z"
   },
   {
    "duration": 2091,
    "start_time": "2021-12-27T04:40:02.431Z"
   },
   {
    "duration": 2087,
    "start_time": "2021-12-27T04:40:02.436Z"
   },
   {
    "duration": 2082,
    "start_time": "2021-12-27T04:40:02.442Z"
   },
   {
    "duration": 2053,
    "start_time": "2021-12-27T04:40:02.472Z"
   },
   {
    "duration": 2050,
    "start_time": "2021-12-27T04:40:02.477Z"
   },
   {
    "duration": 2041,
    "start_time": "2021-12-27T04:40:02.487Z"
   },
   {
    "duration": 2039,
    "start_time": "2021-12-27T04:40:02.491Z"
   },
   {
    "duration": 2037,
    "start_time": "2021-12-27T04:40:02.495Z"
   },
   {
    "duration": 2013,
    "start_time": "2021-12-27T04:40:02.520Z"
   },
   {
    "duration": 2007,
    "start_time": "2021-12-27T04:40:02.528Z"
   },
   {
    "duration": 1996,
    "start_time": "2021-12-27T04:40:02.540Z"
   },
   {
    "duration": 1995,
    "start_time": "2021-12-27T04:40:02.543Z"
   },
   {
    "duration": 1992,
    "start_time": "2021-12-27T04:40:02.547Z"
   },
   {
    "duration": 6,
    "start_time": "2021-12-27T04:42:15.024Z"
   },
   {
    "duration": 14,
    "start_time": "2021-12-27T04:42:15.032Z"
   },
   {
    "duration": 130,
    "start_time": "2021-12-27T04:42:15.049Z"
   },
   {
    "duration": 20,
    "start_time": "2021-12-27T04:42:15.182Z"
   },
   {
    "duration": 8,
    "start_time": "2021-12-27T04:42:15.204Z"
   },
   {
    "duration": 5,
    "start_time": "2021-12-27T04:42:15.215Z"
   },
   {
    "duration": 14,
    "start_time": "2021-12-27T04:42:15.222Z"
   },
   {
    "duration": 59,
    "start_time": "2021-12-27T04:42:15.238Z"
   },
   {
    "duration": 48,
    "start_time": "2021-12-27T04:42:15.301Z"
   },
   {
    "duration": 8,
    "start_time": "2021-12-27T04:42:15.352Z"
   },
   {
    "duration": 9,
    "start_time": "2021-12-27T04:42:15.362Z"
   },
   {
    "duration": 9,
    "start_time": "2021-12-27T04:42:15.373Z"
   },
   {
    "duration": 45,
    "start_time": "2021-12-27T04:42:15.385Z"
   },
   {
    "duration": 10,
    "start_time": "2021-12-27T04:42:15.432Z"
   },
   {
    "duration": 8,
    "start_time": "2021-12-27T04:42:15.445Z"
   },
   {
    "duration": 5,
    "start_time": "2021-12-27T04:42:15.456Z"
   },
   {
    "duration": 66,
    "start_time": "2021-12-27T04:42:15.463Z"
   },
   {
    "duration": 38,
    "start_time": "2021-12-27T04:42:15.532Z"
   },
   {
    "duration": 13,
    "start_time": "2021-12-27T04:42:15.572Z"
   },
   {
    "duration": 5,
    "start_time": "2021-12-27T04:42:15.587Z"
   },
   {
    "duration": 32,
    "start_time": "2021-12-27T04:42:15.594Z"
   },
   {
    "duration": 8,
    "start_time": "2021-12-27T04:42:15.628Z"
   },
   {
    "duration": 6,
    "start_time": "2021-12-27T04:42:15.638Z"
   },
   {
    "duration": 5,
    "start_time": "2021-12-27T04:42:15.646Z"
   },
   {
    "duration": 8,
    "start_time": "2021-12-27T04:42:15.653Z"
   },
   {
    "duration": 8,
    "start_time": "2021-12-27T04:42:15.664Z"
   },
   {
    "duration": 67,
    "start_time": "2021-12-27T04:42:15.677Z"
   },
   {
    "duration": 28,
    "start_time": "2021-12-27T04:42:15.746Z"
   },
   {
    "duration": 9,
    "start_time": "2021-12-27T04:42:15.777Z"
   },
   {
    "duration": 8396,
    "start_time": "2021-12-27T04:42:15.788Z"
   },
   {
    "duration": 9,
    "start_time": "2021-12-27T04:42:24.186Z"
   },
   {
    "duration": 120165,
    "start_time": "2021-12-27T04:42:24.198Z"
   },
   {
    "duration": 2444,
    "start_time": "2021-12-27T04:44:21.921Z"
   },
   {
    "duration": 2442,
    "start_time": "2021-12-27T04:44:21.925Z"
   },
   {
    "duration": 2438,
    "start_time": "2021-12-27T04:44:21.930Z"
   },
   {
    "duration": 2435,
    "start_time": "2021-12-27T04:44:21.935Z"
   },
   {
    "duration": 2430,
    "start_time": "2021-12-27T04:44:21.941Z"
   },
   {
    "duration": 2426,
    "start_time": "2021-12-27T04:44:21.947Z"
   },
   {
    "duration": 2424,
    "start_time": "2021-12-27T04:44:21.950Z"
   },
   {
    "duration": 2421,
    "start_time": "2021-12-27T04:44:21.954Z"
   },
   {
    "duration": 2420,
    "start_time": "2021-12-27T04:44:21.957Z"
   },
   {
    "duration": 2416,
    "start_time": "2021-12-27T04:44:21.962Z"
   },
   {
    "duration": 2404,
    "start_time": "2021-12-27T04:44:21.975Z"
   },
   {
    "duration": 2401,
    "start_time": "2021-12-27T04:44:21.980Z"
   },
   {
    "duration": 2397,
    "start_time": "2021-12-27T04:44:21.985Z"
   },
   {
    "duration": 2395,
    "start_time": "2021-12-27T04:44:21.989Z"
   },
   {
    "duration": 2391,
    "start_time": "2021-12-27T04:44:21.994Z"
   },
   {
    "duration": 2388,
    "start_time": "2021-12-27T04:44:21.998Z"
   },
   {
    "duration": 9,
    "start_time": "2021-12-27T04:44:41.132Z"
   },
   {
    "duration": 564,
    "start_time": "2021-12-27T04:44:43.872Z"
   },
   {
    "duration": 10,
    "start_time": "2021-12-27T04:45:24.402Z"
   },
   {
    "duration": 31162,
    "start_time": "2021-12-27T04:45:26.661Z"
   },
   {
    "duration": 6,
    "start_time": "2021-12-27T04:46:20.845Z"
   },
   {
    "duration": 12,
    "start_time": "2021-12-27T04:46:20.854Z"
   },
   {
    "duration": 101,
    "start_time": "2021-12-27T04:46:20.869Z"
   },
   {
    "duration": 22,
    "start_time": "2021-12-27T04:46:20.973Z"
   },
   {
    "duration": 29,
    "start_time": "2021-12-27T04:46:20.998Z"
   },
   {
    "duration": 5,
    "start_time": "2021-12-27T04:46:21.030Z"
   },
   {
    "duration": 13,
    "start_time": "2021-12-27T04:46:21.038Z"
   },
   {
    "duration": 99,
    "start_time": "2021-12-27T04:46:21.054Z"
   },
   {
    "duration": 29,
    "start_time": "2021-12-27T04:46:21.159Z"
   },
   {
    "duration": 33,
    "start_time": "2021-12-27T04:46:21.192Z"
   },
   {
    "duration": 11,
    "start_time": "2021-12-27T04:46:21.229Z"
   },
   {
    "duration": 10,
    "start_time": "2021-12-27T04:46:21.243Z"
   },
   {
    "duration": 9,
    "start_time": "2021-12-27T04:46:21.256Z"
   },
   {
    "duration": 60,
    "start_time": "2021-12-27T04:46:21.268Z"
   },
   {
    "duration": 13,
    "start_time": "2021-12-27T04:46:21.331Z"
   },
   {
    "duration": 5,
    "start_time": "2021-12-27T04:46:21.346Z"
   },
   {
    "duration": 30,
    "start_time": "2021-12-27T04:46:21.353Z"
   },
   {
    "duration": 71,
    "start_time": "2021-12-27T04:46:21.385Z"
   },
   {
    "duration": 16,
    "start_time": "2021-12-27T04:46:21.459Z"
   },
   {
    "duration": 6,
    "start_time": "2021-12-27T04:46:21.478Z"
   },
   {
    "duration": 6,
    "start_time": "2021-12-27T04:46:21.523Z"
   },
   {
    "duration": 6,
    "start_time": "2021-12-27T04:46:21.532Z"
   },
   {
    "duration": 7,
    "start_time": "2021-12-27T04:46:21.541Z"
   },
   {
    "duration": 6,
    "start_time": "2021-12-27T04:46:21.551Z"
   },
   {
    "duration": 6,
    "start_time": "2021-12-27T04:46:21.559Z"
   },
   {
    "duration": 56,
    "start_time": "2021-12-27T04:46:21.568Z"
   },
   {
    "duration": 24,
    "start_time": "2021-12-27T04:46:21.629Z"
   },
   {
    "duration": 31,
    "start_time": "2021-12-27T04:46:21.657Z"
   },
   {
    "duration": 38,
    "start_time": "2021-12-27T04:46:21.691Z"
   },
   {
    "duration": 8446,
    "start_time": "2021-12-27T04:46:21.732Z"
   },
   {
    "duration": 10,
    "start_time": "2021-12-27T04:46:30.182Z"
   },
   {
    "duration": 31251,
    "start_time": "2021-12-27T04:46:30.195Z"
   },
   {
    "duration": 8,
    "start_time": "2021-12-27T04:47:01.449Z"
   },
   {
    "duration": 19683,
    "start_time": "2021-12-27T04:47:01.459Z"
   },
   {
    "duration": 98,
    "start_time": "2021-12-27T04:47:21.225Z"
   },
   {
    "duration": 36,
    "start_time": "2021-12-27T04:47:21.327Z"
   },
   {
    "duration": 13,
    "start_time": "2021-12-27T04:47:21.365Z"
   },
   {
    "duration": 25,
    "start_time": "2021-12-27T04:47:21.380Z"
   },
   {
    "duration": 22,
    "start_time": "2021-12-27T04:47:21.408Z"
   },
   {
    "duration": 10,
    "start_time": "2021-12-27T04:47:21.433Z"
   },
   {
    "duration": 11035,
    "start_time": "2021-12-27T04:47:21.445Z"
   },
   {
    "duration": 47099,
    "start_time": "2021-12-27T04:47:32.483Z"
   },
   {
    "duration": 6,
    "start_time": "2021-12-27T04:48:19.585Z"
   },
   {
    "duration": 36,
    "start_time": "2021-12-27T04:48:19.594Z"
   },
   {
    "duration": 4410,
    "start_time": "2021-12-27T04:48:19.632Z"
   },
   {
    "duration": 9,
    "start_time": "2021-12-27T04:48:24.045Z"
   },
   {
    "duration": 13,
    "start_time": "2021-12-27T04:48:24.056Z"
   },
   {
    "duration": 19183,
    "start_time": "2021-12-27T04:48:24.072Z"
   },
   {
    "duration": 10,
    "start_time": "2021-12-27T05:07:28.626Z"
   },
   {
    "duration": 719,
    "start_time": "2021-12-27T05:07:31.976Z"
   },
   {
    "duration": 10,
    "start_time": "2021-12-27T05:08:18.060Z"
   },
   {
    "duration": 737,
    "start_time": "2021-12-27T05:08:20.135Z"
   },
   {
    "duration": 1014,
    "start_time": "2021-12-27T05:08:38.805Z"
   },
   {
    "duration": 11,
    "start_time": "2021-12-27T05:09:04.264Z"
   },
   {
    "duration": 244,
    "start_time": "2021-12-27T05:09:06.515Z"
   },
   {
    "duration": 350,
    "start_time": "2021-12-27T05:09:18.486Z"
   },
   {
    "duration": 9,
    "start_time": "2021-12-27T05:09:35.006Z"
   },
   {
    "duration": 1398,
    "start_time": "2021-12-27T05:09:35.876Z"
   },
   {
    "duration": 1990,
    "start_time": "2021-12-27T05:09:48.515Z"
   },
   {
    "duration": 774,
    "start_time": "2021-12-27T05:10:06.107Z"
   },
   {
    "duration": 1414,
    "start_time": "2021-12-27T05:29:34.667Z"
   },
   {
    "duration": 1419,
    "start_time": "2021-12-27T05:29:46.977Z"
   },
   {
    "duration": 142,
    "start_time": "2021-12-27T05:32:42.148Z"
   },
   {
    "duration": 10,
    "start_time": "2021-12-27T05:32:49.316Z"
   },
   {
    "duration": 32547,
    "start_time": "2021-12-27T05:32:51.295Z"
   },
   {
    "duration": 9,
    "start_time": "2021-12-27T05:33:34.036Z"
   },
   {
    "duration": 566,
    "start_time": "2021-12-27T05:33:43.768Z"
   },
   {
    "duration": 8,
    "start_time": "2021-12-27T05:34:02.120Z"
   },
   {
    "duration": 19587,
    "start_time": "2021-12-27T05:34:03.655Z"
   },
   {
    "duration": 9,
    "start_time": "2021-12-27T05:35:47.888Z"
   },
   {
    "duration": 19634,
    "start_time": "2021-12-27T05:35:50.008Z"
   },
   {
    "duration": 8,
    "start_time": "2021-12-27T05:37:37.608Z"
   },
   {
    "duration": 1745,
    "start_time": "2021-12-27T05:37:39.377Z"
   },
   {
    "duration": 287,
    "start_time": "2021-12-27T06:46:54.281Z"
   },
   {
    "duration": 2423,
    "start_time": "2021-12-27T06:47:03.457Z"
   },
   {
    "duration": 1759,
    "start_time": "2021-12-27T06:47:35.309Z"
   },
   {
    "duration": 790,
    "start_time": "2021-12-27T06:48:29.257Z"
   },
   {
    "duration": 2438,
    "start_time": "2021-12-27T06:51:20.455Z"
   },
   {
    "duration": 1496,
    "start_time": "2021-12-27T06:51:22.896Z"
   },
   {
    "duration": 783,
    "start_time": "2021-12-27T06:51:24.396Z"
   },
   {
    "duration": 794,
    "start_time": "2021-12-27T06:52:09.640Z"
   },
   {
    "duration": 36,
    "start_time": "2021-12-27T06:53:48.922Z"
   },
   {
    "duration": 37,
    "start_time": "2021-12-27T06:54:42.301Z"
   },
   {
    "duration": 323,
    "start_time": "2021-12-27T06:55:56.073Z"
   },
   {
    "duration": 26,
    "start_time": "2021-12-27T06:56:21.528Z"
   },
   {
    "duration": 1395,
    "start_time": "2021-12-27T06:58:10.960Z"
   },
   {
    "duration": 4,
    "start_time": "2021-12-27T06:58:12.358Z"
   },
   {
    "duration": 163,
    "start_time": "2021-12-27T06:58:12.365Z"
   },
   {
    "duration": 37,
    "start_time": "2021-12-27T06:58:12.531Z"
   },
   {
    "duration": 25,
    "start_time": "2021-12-27T06:58:12.571Z"
   },
   {
    "duration": 11,
    "start_time": "2021-12-27T06:58:12.598Z"
   },
   {
    "duration": 32,
    "start_time": "2021-12-27T06:58:12.612Z"
   },
   {
    "duration": 93,
    "start_time": "2021-12-27T06:58:12.647Z"
   },
   {
    "duration": 44,
    "start_time": "2021-12-27T06:58:12.746Z"
   },
   {
    "duration": 51,
    "start_time": "2021-12-27T06:58:12.794Z"
   },
   {
    "duration": 11,
    "start_time": "2021-12-27T06:58:12.848Z"
   },
   {
    "duration": 13,
    "start_time": "2021-12-27T06:58:12.861Z"
   },
   {
    "duration": 10,
    "start_time": "2021-12-27T06:58:12.877Z"
   },
   {
    "duration": 36,
    "start_time": "2021-12-27T06:58:12.889Z"
   },
   {
    "duration": 26,
    "start_time": "2021-12-27T06:58:12.927Z"
   },
   {
    "duration": 31,
    "start_time": "2021-12-27T06:58:12.955Z"
   },
   {
    "duration": 42,
    "start_time": "2021-12-27T06:58:12.988Z"
   },
   {
    "duration": 50,
    "start_time": "2021-12-27T06:58:13.033Z"
   },
   {
    "duration": 38,
    "start_time": "2021-12-27T06:58:13.085Z"
   },
   {
    "duration": 10,
    "start_time": "2021-12-27T06:58:13.126Z"
   },
   {
    "duration": 18,
    "start_time": "2021-12-27T06:58:13.140Z"
   },
   {
    "duration": 23,
    "start_time": "2021-12-27T06:58:13.162Z"
   },
   {
    "duration": 14,
    "start_time": "2021-12-27T06:58:13.188Z"
   },
   {
    "duration": 26,
    "start_time": "2021-12-27T06:58:13.205Z"
   },
   {
    "duration": 24,
    "start_time": "2021-12-27T06:58:13.238Z"
   },
   {
    "duration": 19,
    "start_time": "2021-12-27T06:58:13.264Z"
   },
   {
    "duration": 34,
    "start_time": "2021-12-27T06:58:13.293Z"
   },
   {
    "duration": 38,
    "start_time": "2021-12-27T06:58:13.331Z"
   },
   {
    "duration": 12,
    "start_time": "2021-12-27T06:58:13.372Z"
   },
   {
    "duration": 10591,
    "start_time": "2021-12-27T06:58:13.387Z"
   },
   {
    "duration": 10,
    "start_time": "2021-12-27T06:58:23.980Z"
   },
   {
    "duration": 31840,
    "start_time": "2021-12-27T06:58:23.993Z"
   },
   {
    "duration": 8,
    "start_time": "2021-12-27T06:58:55.836Z"
   },
   {
    "duration": 1680,
    "start_time": "2021-12-27T06:58:55.846Z"
   },
   {
    "duration": 96,
    "start_time": "2021-12-27T06:58:57.529Z"
   },
   {
    "duration": 20,
    "start_time": "2021-12-27T06:58:57.627Z"
   },
   {
    "duration": 5,
    "start_time": "2021-12-27T06:58:57.650Z"
   },
   {
    "duration": 6,
    "start_time": "2021-12-27T06:58:57.657Z"
   },
   {
    "duration": 8,
    "start_time": "2021-12-27T06:58:57.665Z"
   },
   {
    "duration": 50,
    "start_time": "2021-12-27T06:58:57.675Z"
   },
   {
    "duration": 10560,
    "start_time": "2021-12-27T06:58:57.727Z"
   },
   {
    "duration": 45013,
    "start_time": "2021-12-27T06:59:08.290Z"
   },
   {
    "duration": 18,
    "start_time": "2021-12-27T06:59:53.306Z"
   },
   {
    "duration": 18,
    "start_time": "2021-12-27T06:59:53.326Z"
   },
   {
    "duration": 4178,
    "start_time": "2021-12-27T06:59:53.346Z"
   },
   {
    "duration": 6,
    "start_time": "2021-12-27T06:59:57.526Z"
   },
   {
    "duration": 6,
    "start_time": "2021-12-27T06:59:57.534Z"
   },
   {
    "duration": 19410,
    "start_time": "2021-12-27T06:59:57.543Z"
   },
   {
    "duration": 36,
    "start_time": "2021-12-27T07:00:16.955Z"
   },
   {
    "duration": 65,
    "start_time": "2021-12-27T07:00:16.993Z"
   },
   {
    "duration": 20,
    "start_time": "2021-12-27T07:00:17.061Z"
   },
   {
    "duration": 2109,
    "start_time": "2021-12-27T07:00:17.083Z"
   },
   {
    "duration": 1477,
    "start_time": "2021-12-27T07:00:19.195Z"
   },
   {
    "duration": 841,
    "start_time": "2021-12-27T07:00:20.674Z"
   },
   {
    "duration": 2094,
    "start_time": "2021-12-27T07:07:05.129Z"
   },
   {
    "duration": 2052,
    "start_time": "2021-12-27T07:07:14.792Z"
   },
   {
    "duration": 2149,
    "start_time": "2021-12-27T07:07:28.174Z"
   },
   {
    "duration": 3133,
    "start_time": "2021-12-27T07:11:45.449Z"
   },
   {
    "duration": 2289,
    "start_time": "2021-12-27T07:18:29.892Z"
   },
   {
    "duration": 2312,
    "start_time": "2021-12-27T07:19:03.122Z"
   },
   {
    "duration": 2466,
    "start_time": "2021-12-27T07:19:57.262Z"
   },
   {
    "duration": 2244,
    "start_time": "2021-12-27T07:20:12.562Z"
   },
   {
    "duration": 2235,
    "start_time": "2021-12-27T07:20:33.811Z"
   },
   {
    "duration": 2468,
    "start_time": "2021-12-27T07:21:45.704Z"
   },
   {
    "duration": 2231,
    "start_time": "2021-12-27T07:22:46.083Z"
   },
   {
    "duration": 290,
    "start_time": "2021-12-27T07:23:00.759Z"
   },
   {
    "duration": 2130,
    "start_time": "2021-12-27T07:23:20.977Z"
   },
   {
    "duration": 199,
    "start_time": "2021-12-27T07:23:24.464Z"
   },
   {
    "duration": 292,
    "start_time": "2021-12-27T07:24:59.919Z"
   },
   {
    "duration": 287,
    "start_time": "2021-12-27T07:25:18.559Z"
   },
   {
    "duration": 2302,
    "start_time": "2021-12-27T07:25:20.433Z"
   },
   {
    "duration": 35,
    "start_time": "2021-12-27T07:25:24.374Z"
   },
   {
    "duration": 300,
    "start_time": "2021-12-27T07:26:12.689Z"
   },
   {
    "duration": 1998,
    "start_time": "2021-12-27T07:26:14.692Z"
   },
   {
    "duration": 279,
    "start_time": "2021-12-27T07:26:21.492Z"
   },
   {
    "duration": 535,
    "start_time": "2021-12-27T07:26:34.804Z"
   },
   {
    "duration": 1993,
    "start_time": "2021-12-27T07:26:36.811Z"
   },
   {
    "duration": 67,
    "start_time": "2021-12-27T07:26:40.229Z"
   },
   {
    "duration": 2021,
    "start_time": "2021-12-27T07:27:34.769Z"
   },
   {
    "duration": 57,
    "start_time": "2021-12-27T07:27:39.681Z"
   },
   {
    "duration": 303,
    "start_time": "2021-12-27T07:28:02.781Z"
   },
   {
    "duration": 2000,
    "start_time": "2021-12-27T07:28:04.859Z"
   },
   {
    "duration": 280,
    "start_time": "2021-12-27T07:28:08.781Z"
   },
   {
    "duration": 2007,
    "start_time": "2021-12-27T07:28:16.629Z"
   },
   {
    "duration": 65,
    "start_time": "2021-12-27T07:28:20.651Z"
   },
   {
    "duration": 2054,
    "start_time": "2021-12-27T07:28:41.349Z"
   },
   {
    "duration": 66,
    "start_time": "2021-12-27T07:28:43.899Z"
   },
   {
    "duration": 2004,
    "start_time": "2021-12-27T07:29:29.829Z"
   },
   {
    "duration": 124,
    "start_time": "2021-12-27T07:29:37.471Z"
   },
   {
    "duration": 304,
    "start_time": "2021-12-27T07:30:07.940Z"
   },
   {
    "duration": 2139,
    "start_time": "2021-12-27T07:30:10.689Z"
   },
   {
    "duration": 169,
    "start_time": "2021-12-27T07:30:21.510Z"
   },
   {
    "duration": 311,
    "start_time": "2021-12-27T07:31:18.026Z"
   },
   {
    "duration": 2061,
    "start_time": "2021-12-27T07:31:20.558Z"
   },
   {
    "duration": 171,
    "start_time": "2021-12-27T07:31:26.289Z"
   },
   {
    "duration": 342,
    "start_time": "2021-12-27T07:32:28.859Z"
   },
   {
    "duration": 2021,
    "start_time": "2021-12-27T07:32:31.139Z"
   },
   {
    "duration": 39,
    "start_time": "2021-12-27T07:32:33.168Z"
   },
   {
    "duration": 2650,
    "start_time": "2021-12-27T08:59:59.993Z"
   },
   {
    "duration": 2649,
    "start_time": "2021-12-27T09:00:51.031Z"
   },
   {
    "duration": 2151,
    "start_time": "2021-12-27T09:01:00.773Z"
   },
   {
    "duration": 2166,
    "start_time": "2021-12-27T09:01:03.303Z"
   },
   {
    "duration": 1435,
    "start_time": "2021-12-27T09:01:13.321Z"
   },
   {
    "duration": 4,
    "start_time": "2021-12-27T09:01:14.760Z"
   },
   {
    "duration": 162,
    "start_time": "2021-12-27T09:01:14.768Z"
   },
   {
    "duration": 32,
    "start_time": "2021-12-27T09:01:14.933Z"
   },
   {
    "duration": 6,
    "start_time": "2021-12-27T09:01:14.967Z"
   },
   {
    "duration": 32,
    "start_time": "2021-12-27T09:01:14.975Z"
   },
   {
    "duration": 51,
    "start_time": "2021-12-27T09:01:15.009Z"
   },
   {
    "duration": 94,
    "start_time": "2021-12-27T09:01:15.066Z"
   },
   {
    "duration": 32,
    "start_time": "2021-12-27T09:01:15.165Z"
   },
   {
    "duration": 32,
    "start_time": "2021-12-27T09:01:15.199Z"
   },
   {
    "duration": 27,
    "start_time": "2021-12-27T09:01:15.234Z"
   },
   {
    "duration": 36,
    "start_time": "2021-12-27T09:01:15.263Z"
   },
   {
    "duration": 29,
    "start_time": "2021-12-27T09:01:15.301Z"
   },
   {
    "duration": 34,
    "start_time": "2021-12-27T09:01:15.332Z"
   },
   {
    "duration": 39,
    "start_time": "2021-12-27T09:01:15.369Z"
   },
   {
    "duration": 30,
    "start_time": "2021-12-27T09:01:15.411Z"
   },
   {
    "duration": 49,
    "start_time": "2021-12-27T09:01:15.443Z"
   },
   {
    "duration": 41,
    "start_time": "2021-12-27T09:01:15.494Z"
   },
   {
    "duration": 14,
    "start_time": "2021-12-27T09:01:15.538Z"
   },
   {
    "duration": 23,
    "start_time": "2021-12-27T09:01:15.554Z"
   },
   {
    "duration": 11,
    "start_time": "2021-12-27T09:01:15.580Z"
   },
   {
    "duration": 29,
    "start_time": "2021-12-27T09:01:15.594Z"
   },
   {
    "duration": 6,
    "start_time": "2021-12-27T09:01:15.632Z"
   },
   {
    "duration": 39,
    "start_time": "2021-12-27T09:01:15.641Z"
   },
   {
    "duration": 32,
    "start_time": "2021-12-27T09:01:15.682Z"
   },
   {
    "duration": 30,
    "start_time": "2021-12-27T09:01:15.717Z"
   },
   {
    "duration": 68,
    "start_time": "2021-12-27T09:01:15.749Z"
   },
   {
    "duration": 35,
    "start_time": "2021-12-27T09:01:15.820Z"
   },
   {
    "duration": 15,
    "start_time": "2021-12-27T09:01:15.858Z"
   },
   {
    "duration": 8980,
    "start_time": "2021-12-27T09:01:15.875Z"
   },
   {
    "duration": 10,
    "start_time": "2021-12-27T09:01:24.857Z"
   },
   {
    "duration": 33978,
    "start_time": "2021-12-27T09:01:24.870Z"
   },
   {
    "duration": 10,
    "start_time": "2021-12-27T09:01:58.851Z"
   },
   {
    "duration": 1577,
    "start_time": "2021-12-27T09:01:58.864Z"
   },
   {
    "duration": 80,
    "start_time": "2021-12-27T09:02:00.444Z"
   },
   {
    "duration": 117,
    "start_time": "2021-12-27T09:02:00.528Z"
   },
   {
    "duration": 6,
    "start_time": "2021-12-27T09:02:00.647Z"
   },
   {
    "duration": 17,
    "start_time": "2021-12-27T09:02:00.655Z"
   },
   {
    "duration": 9,
    "start_time": "2021-12-27T09:02:00.675Z"
   },
   {
    "duration": 41,
    "start_time": "2021-12-27T09:02:00.686Z"
   },
   {
    "duration": 11442,
    "start_time": "2021-12-27T09:02:00.729Z"
   },
   {
    "duration": 50508,
    "start_time": "2021-12-27T09:02:12.174Z"
   },
   {
    "duration": 5,
    "start_time": "2021-12-27T09:03:02.685Z"
   },
   {
    "duration": 34,
    "start_time": "2021-12-27T09:03:02.693Z"
   },
   {
    "duration": 4676,
    "start_time": "2021-12-27T09:03:02.730Z"
   },
   {
    "duration": 20,
    "start_time": "2021-12-27T09:03:07.409Z"
   },
   {
    "duration": 14,
    "start_time": "2021-12-27T09:03:07.431Z"
   },
   {
    "duration": 19762,
    "start_time": "2021-12-27T09:03:07.448Z"
   },
   {
    "duration": 45,
    "start_time": "2021-12-27T09:03:27.213Z"
   },
   {
    "duration": 40,
    "start_time": "2021-12-27T09:03:27.261Z"
   },
   {
    "duration": 19,
    "start_time": "2021-12-27T09:03:27.324Z"
   },
   {
    "duration": 2141,
    "start_time": "2021-12-27T09:03:27.345Z"
   },
   {
    "duration": 3200,
    "start_time": "2021-12-27T09:03:29.489Z"
   },
   {
    "duration": 2919,
    "start_time": "2021-12-27T09:03:29.772Z"
   },
   {
    "duration": 2915,
    "start_time": "2021-12-27T09:03:29.778Z"
   },
   {
    "duration": 1398,
    "start_time": "2021-12-27T10:30:29.222Z"
   },
   {
    "duration": 4,
    "start_time": "2021-12-27T10:30:30.624Z"
   },
   {
    "duration": 340,
    "start_time": "2021-12-27T10:30:30.631Z"
   },
   {
    "duration": 30,
    "start_time": "2021-12-27T10:30:30.974Z"
   },
   {
    "duration": 11,
    "start_time": "2021-12-27T10:30:31.008Z"
   },
   {
    "duration": 16,
    "start_time": "2021-12-27T10:30:31.022Z"
   },
   {
    "duration": 20,
    "start_time": "2021-12-27T10:30:31.041Z"
   },
   {
    "duration": 70,
    "start_time": "2021-12-27T10:30:31.065Z"
   },
   {
    "duration": 34,
    "start_time": "2021-12-27T10:30:31.139Z"
   },
   {
    "duration": 14,
    "start_time": "2021-12-27T10:30:31.175Z"
   },
   {
    "duration": 43,
    "start_time": "2021-12-27T10:30:31.192Z"
   },
   {
    "duration": 13,
    "start_time": "2021-12-27T10:30:31.240Z"
   },
   {
    "duration": 21,
    "start_time": "2021-12-27T10:30:31.255Z"
   },
   {
    "duration": 12,
    "start_time": "2021-12-27T10:30:31.278Z"
   },
   {
    "duration": 37,
    "start_time": "2021-12-27T10:30:31.292Z"
   },
   {
    "duration": 9,
    "start_time": "2021-12-27T10:30:31.333Z"
   },
   {
    "duration": 40,
    "start_time": "2021-12-27T10:30:31.345Z"
   },
   {
    "duration": 59,
    "start_time": "2021-12-27T10:30:31.387Z"
   },
   {
    "duration": 15,
    "start_time": "2021-12-27T10:30:31.449Z"
   },
   {
    "duration": 5,
    "start_time": "2021-12-27T10:30:31.466Z"
   },
   {
    "duration": 11,
    "start_time": "2021-12-27T10:30:31.473Z"
   },
   {
    "duration": 13,
    "start_time": "2021-12-27T10:30:31.487Z"
   },
   {
    "duration": 6,
    "start_time": "2021-12-27T10:30:31.526Z"
   },
   {
    "duration": 15,
    "start_time": "2021-12-27T10:30:31.535Z"
   },
   {
    "duration": 11,
    "start_time": "2021-12-27T10:30:31.553Z"
   },
   {
    "duration": 8,
    "start_time": "2021-12-27T10:30:31.567Z"
   },
   {
    "duration": 52,
    "start_time": "2021-12-27T10:30:31.578Z"
   },
   {
    "duration": 36,
    "start_time": "2021-12-27T10:30:31.633Z"
   },
   {
    "duration": 10,
    "start_time": "2021-12-27T10:30:31.672Z"
   },
   {
    "duration": 9706,
    "start_time": "2021-12-27T10:30:31.685Z"
   },
   {
    "duration": 11,
    "start_time": "2021-12-27T10:30:41.394Z"
   },
   {
    "duration": 11343,
    "start_time": "2021-12-27T10:31:51.730Z"
   },
   {
    "duration": 98155,
    "start_time": "2021-12-27T10:32:03.076Z"
   },
   {
    "duration": 7,
    "start_time": "2021-12-27T10:33:41.234Z"
   },
   {
    "duration": 24,
    "start_time": "2021-12-27T10:33:41.243Z"
   },
   {
    "duration": 4432,
    "start_time": "2021-12-27T10:33:41.269Z"
   },
   {
    "duration": 7,
    "start_time": "2021-12-27T10:33:45.704Z"
   },
   {
    "duration": 8,
    "start_time": "2021-12-27T10:33:45.724Z"
   },
   {
    "duration": 38953,
    "start_time": "2021-12-27T10:33:45.734Z"
   },
   {
    "duration": 48,
    "start_time": "2021-12-27T10:34:24.689Z"
   },
   {
    "duration": 39,
    "start_time": "2021-12-27T10:34:24.740Z"
   },
   {
    "duration": 43,
    "start_time": "2021-12-27T10:34:24.781Z"
   },
   {
    "duration": 2088,
    "start_time": "2021-12-27T10:34:24.826Z"
   },
   {
    "duration": 3023,
    "start_time": "2021-12-27T10:34:26.916Z"
   },
   {
    "duration": 3449,
    "start_time": "2021-12-27T10:34:26.493Z"
   },
   {
    "duration": 3433,
    "start_time": "2021-12-27T10:34:26.511Z"
   },
   {
    "duration": 1381,
    "start_time": "2021-12-27T10:43:13.870Z"
   },
   {
    "duration": 4,
    "start_time": "2021-12-27T10:43:15.254Z"
   },
   {
    "duration": 88,
    "start_time": "2021-12-27T10:43:15.264Z"
   },
   {
    "duration": 30,
    "start_time": "2021-12-27T10:43:15.354Z"
   },
   {
    "duration": 11,
    "start_time": "2021-12-27T10:43:15.386Z"
   },
   {
    "duration": 24,
    "start_time": "2021-12-27T10:43:15.399Z"
   },
   {
    "duration": 19,
    "start_time": "2021-12-27T10:43:15.428Z"
   },
   {
    "duration": 81,
    "start_time": "2021-12-27T10:43:15.450Z"
   },
   {
    "duration": 31,
    "start_time": "2021-12-27T10:43:15.534Z"
   },
   {
    "duration": 10,
    "start_time": "2021-12-27T10:43:15.567Z"
   },
   {
    "duration": 8,
    "start_time": "2021-12-27T10:43:15.580Z"
   },
   {
    "duration": 8,
    "start_time": "2021-12-27T10:43:15.623Z"
   },
   {
    "duration": 10,
    "start_time": "2021-12-27T10:43:15.634Z"
   },
   {
    "duration": 13,
    "start_time": "2021-12-27T10:43:15.646Z"
   },
   {
    "duration": 9,
    "start_time": "2021-12-27T10:43:15.662Z"
   },
   {
    "duration": 51,
    "start_time": "2021-12-27T10:43:15.674Z"
   },
   {
    "duration": 40,
    "start_time": "2021-12-27T10:43:15.728Z"
   },
   {
    "duration": 84,
    "start_time": "2021-12-27T10:43:15.770Z"
   },
   {
    "duration": 20,
    "start_time": "2021-12-27T10:43:15.857Z"
   },
   {
    "duration": 6,
    "start_time": "2021-12-27T10:43:15.880Z"
   },
   {
    "duration": 34,
    "start_time": "2021-12-27T10:43:15.888Z"
   },
   {
    "duration": 5,
    "start_time": "2021-12-27T10:43:15.928Z"
   },
   {
    "duration": 12,
    "start_time": "2021-12-27T10:43:15.938Z"
   },
   {
    "duration": 8,
    "start_time": "2021-12-27T10:43:15.953Z"
   },
   {
    "duration": 15,
    "start_time": "2021-12-27T10:43:15.964Z"
   },
   {
    "duration": 43,
    "start_time": "2021-12-27T10:43:15.982Z"
   },
   {
    "duration": 33,
    "start_time": "2021-12-27T10:43:16.028Z"
   },
   {
    "duration": 31,
    "start_time": "2021-12-27T10:43:16.063Z"
   },
   {
    "duration": 35,
    "start_time": "2021-12-27T10:43:16.096Z"
   },
   {
    "duration": 8836,
    "start_time": "2021-12-27T10:43:16.134Z"
   },
   {
    "duration": 11,
    "start_time": "2021-12-27T10:43:24.972Z"
   },
   {
    "duration": 68429,
    "start_time": "2021-12-27T10:43:24.985Z"
   },
   {
    "duration": 12,
    "start_time": "2021-12-27T10:44:33.417Z"
   },
   {
    "duration": 1791,
    "start_time": "2021-12-27T10:44:33.432Z"
   },
   {
    "duration": 5,
    "start_time": "2021-12-27T10:44:35.226Z"
   },
   {
    "duration": 20,
    "start_time": "2021-12-27T10:44:35.233Z"
   },
   {
    "duration": 5,
    "start_time": "2021-12-27T10:44:35.255Z"
   },
   {
    "duration": 7,
    "start_time": "2021-12-27T10:44:35.263Z"
   },
   {
    "duration": 11,
    "start_time": "2021-12-27T10:44:35.273Z"
   },
   {
    "duration": 7,
    "start_time": "2021-12-27T10:44:35.323Z"
   },
   {
    "duration": 11160,
    "start_time": "2021-12-27T10:44:35.334Z"
   },
   {
    "duration": 97128,
    "start_time": "2021-12-27T10:44:46.496Z"
   },
   {
    "duration": 5,
    "start_time": "2021-12-27T10:46:23.628Z"
   },
   {
    "duration": 23,
    "start_time": "2021-12-27T10:46:23.636Z"
   },
   {
    "duration": 4361,
    "start_time": "2021-12-27T10:46:23.662Z"
   },
   {
    "duration": 7,
    "start_time": "2021-12-27T10:46:28.026Z"
   },
   {
    "duration": 15,
    "start_time": "2021-12-27T10:46:28.036Z"
   },
   {
    "duration": 40164,
    "start_time": "2021-12-27T10:46:28.054Z"
   },
   {
    "duration": 48,
    "start_time": "2021-12-27T10:47:08.225Z"
   },
   {
    "duration": 69,
    "start_time": "2021-12-27T10:47:08.275Z"
   },
   {
    "duration": 23,
    "start_time": "2021-12-27T10:47:08.346Z"
   },
   {
    "duration": 3071,
    "start_time": "2021-12-27T10:47:08.372Z"
   },
   {
    "duration": 3784,
    "start_time": "2021-12-27T10:47:11.446Z"
   },
   {
    "duration": 3283,
    "start_time": "2021-12-27T10:47:11.949Z"
   },
   {
    "duration": 3279,
    "start_time": "2021-12-27T10:47:11.955Z"
   },
   {
    "duration": 2134,
    "start_time": "2021-12-27T10:49:54.124Z"
   },
   {
    "duration": 1574,
    "start_time": "2021-12-27T10:49:58.607Z"
   },
   {
    "duration": 844,
    "start_time": "2021-12-27T10:50:01.013Z"
   },
   {
    "duration": 6,
    "start_time": "2021-12-27T10:53:48.237Z"
   },
   {
    "duration": 3,
    "start_time": "2021-12-27T10:53:48.276Z"
   },
   {
    "duration": 177,
    "start_time": "2021-12-27T10:53:48.282Z"
   },
   {
    "duration": 22,
    "start_time": "2021-12-27T10:53:48.462Z"
   },
   {
    "duration": 12,
    "start_time": "2021-12-27T10:53:48.487Z"
   },
   {
    "duration": 39,
    "start_time": "2021-12-27T10:53:48.501Z"
   },
   {
    "duration": 16,
    "start_time": "2021-12-27T10:53:48.542Z"
   },
   {
    "duration": 73,
    "start_time": "2021-12-27T10:53:48.560Z"
   },
   {
    "duration": 30,
    "start_time": "2021-12-27T10:53:48.636Z"
   },
   {
    "duration": 8,
    "start_time": "2021-12-27T10:53:48.670Z"
   },
   {
    "duration": 9,
    "start_time": "2021-12-27T10:53:48.681Z"
   },
   {
    "duration": 10,
    "start_time": "2021-12-27T10:53:48.731Z"
   },
   {
    "duration": 8,
    "start_time": "2021-12-27T10:53:48.743Z"
   },
   {
    "duration": 10,
    "start_time": "2021-12-27T10:53:48.754Z"
   },
   {
    "duration": 9,
    "start_time": "2021-12-27T10:53:48.766Z"
   },
   {
    "duration": 5,
    "start_time": "2021-12-27T10:53:48.778Z"
   },
   {
    "duration": 82,
    "start_time": "2021-12-27T10:53:48.785Z"
   },
   {
    "duration": 41,
    "start_time": "2021-12-27T10:53:48.870Z"
   },
   {
    "duration": 27,
    "start_time": "2021-12-27T10:53:48.913Z"
   },
   {
    "duration": 6,
    "start_time": "2021-12-27T10:53:48.942Z"
   },
   {
    "duration": 6,
    "start_time": "2021-12-27T10:53:48.950Z"
   },
   {
    "duration": 6,
    "start_time": "2021-12-27T10:53:48.959Z"
   },
   {
    "duration": 7,
    "start_time": "2021-12-27T10:53:48.967Z"
   },
   {
    "duration": 54,
    "start_time": "2021-12-27T10:53:48.976Z"
   },
   {
    "duration": 14,
    "start_time": "2021-12-27T10:53:49.033Z"
   },
   {
    "duration": 6,
    "start_time": "2021-12-27T10:53:49.049Z"
   },
   {
    "duration": 25,
    "start_time": "2021-12-27T10:53:49.058Z"
   },
   {
    "duration": 64,
    "start_time": "2021-12-27T10:53:49.089Z"
   },
   {
    "duration": 11,
    "start_time": "2021-12-27T10:53:49.156Z"
   },
   {
    "duration": 9192,
    "start_time": "2021-12-27T10:53:49.169Z"
   },
   {
    "duration": 11,
    "start_time": "2021-12-27T10:53:58.364Z"
   },
   {
    "duration": 30818,
    "start_time": "2021-12-27T10:53:58.378Z"
   },
   {
    "duration": 8,
    "start_time": "2021-12-27T10:54:29.199Z"
   },
   {
    "duration": 1406,
    "start_time": "2021-12-27T10:54:29.226Z"
   },
   {
    "duration": 87,
    "start_time": "2021-12-27T10:54:30.640Z"
   },
   {
    "duration": 31,
    "start_time": "2021-12-27T10:54:30.732Z"
   },
   {
    "duration": 6,
    "start_time": "2021-12-27T10:54:30.766Z"
   },
   {
    "duration": 6,
    "start_time": "2021-12-27T10:54:30.774Z"
   },
   {
    "duration": 8,
    "start_time": "2021-12-27T10:54:30.783Z"
   },
   {
    "duration": 37,
    "start_time": "2021-12-27T10:54:30.793Z"
   },
   {
    "duration": 11930,
    "start_time": "2021-12-27T10:54:30.833Z"
   },
   {
    "duration": 46109,
    "start_time": "2021-12-27T10:54:42.765Z"
   },
   {
    "duration": 6,
    "start_time": "2021-12-27T10:55:28.877Z"
   },
   {
    "duration": 24,
    "start_time": "2021-12-27T10:55:28.885Z"
   },
   {
    "duration": 4582,
    "start_time": "2021-12-27T10:55:28.931Z"
   },
   {
    "duration": 11,
    "start_time": "2021-12-27T10:55:33.526Z"
   },
   {
    "duration": 12,
    "start_time": "2021-12-27T10:55:33.540Z"
   },
   {
    "duration": 16306,
    "start_time": "2021-12-27T10:55:33.555Z"
   },
   {
    "duration": 34,
    "start_time": "2021-12-27T10:55:49.864Z"
   },
   {
    "duration": 60,
    "start_time": "2021-12-27T10:55:49.900Z"
   },
   {
    "duration": 19,
    "start_time": "2021-12-27T10:55:49.963Z"
   },
   {
    "duration": 2160,
    "start_time": "2021-12-27T10:55:49.984Z"
   },
   {
    "duration": 2136,
    "start_time": "2021-12-27T10:55:52.147Z"
   },
   {
    "duration": 1518,
    "start_time": "2021-12-27T10:55:54.285Z"
   },
   {
    "duration": 850,
    "start_time": "2021-12-27T10:55:55.805Z"
   },
   {
    "duration": 979,
    "start_time": "2021-12-27T11:04:58.406Z"
   },
   {
    "duration": 227,
    "start_time": "2021-12-27T11:05:05.896Z"
   },
   {
    "duration": 370,
    "start_time": "2021-12-27T11:05:11.796Z"
   },
   {
    "duration": 956,
    "start_time": "2021-12-27T11:05:49.643Z"
   },
   {
    "duration": 1001,
    "start_time": "2021-12-27T11:06:02.023Z"
   },
   {
    "duration": 1053,
    "start_time": "2021-12-27T11:06:12.910Z"
   },
   {
    "duration": 1099,
    "start_time": "2021-12-27T11:06:19.606Z"
   },
   {
    "duration": 995,
    "start_time": "2021-12-27T11:06:30.008Z"
   },
   {
    "duration": 1049,
    "start_time": "2021-12-27T11:06:38.025Z"
   },
   {
    "duration": 1015,
    "start_time": "2021-12-27T11:06:44.795Z"
   },
   {
    "duration": 947,
    "start_time": "2021-12-27T11:07:02.811Z"
   },
   {
    "duration": 461,
    "start_time": "2021-12-27T11:07:58.337Z"
   },
   {
    "duration": 106,
    "start_time": "2021-12-27T11:08:28.820Z"
   },
   {
    "duration": 106,
    "start_time": "2021-12-27T11:28:25.371Z"
   },
   {
    "duration": 333,
    "start_time": "2021-12-27T11:28:31.527Z"
   },
   {
    "duration": 7,
    "start_time": "2021-12-27T11:29:46.855Z"
   },
   {
    "duration": 40,
    "start_time": "2021-12-27T11:29:54.345Z"
   },
   {
    "duration": 35,
    "start_time": "2021-12-27T11:30:09.238Z"
   },
   {
    "duration": 65,
    "start_time": "2021-12-27T11:30:29.496Z"
   },
   {
    "duration": 25,
    "start_time": "2021-12-27T11:30:31.467Z"
   },
   {
    "duration": 1000,
    "start_time": "2021-12-27T11:30:50.775Z"
   },
   {
    "duration": 8,
    "start_time": "2021-12-27T14:32:13.199Z"
   },
   {
    "duration": 576,
    "start_time": "2021-12-27T14:32:15.668Z"
   },
   {
    "duration": 192,
    "start_time": "2021-12-27T14:32:48.417Z"
   },
   {
    "duration": 7,
    "start_time": "2021-12-27T14:32:52.747Z"
   },
   {
    "duration": 269,
    "start_time": "2021-12-27T14:32:55.599Z"
   },
   {
    "duration": 46,
    "start_time": "2021-12-27T14:36:25.467Z"
   },
   {
    "duration": 304,
    "start_time": "2021-12-27T14:36:27.529Z"
   },
   {
    "duration": 24,
    "start_time": "2021-12-27T14:36:38.719Z"
   },
   {
    "duration": 250,
    "start_time": "2021-12-27T14:36:49.288Z"
   },
   {
    "duration": 94,
    "start_time": "2021-12-27T14:37:26.549Z"
   },
   {
    "duration": 991,
    "start_time": "2021-12-27T14:37:42.409Z"
   },
   {
    "duration": 287,
    "start_time": "2021-12-27T14:37:45.908Z"
   },
   {
    "duration": 443,
    "start_time": "2021-12-27T14:38:26.057Z"
   },
   {
    "duration": 265,
    "start_time": "2021-12-27T14:38:28.589Z"
   },
   {
    "duration": 91,
    "start_time": "2021-12-27T14:38:42.037Z"
   },
   {
    "duration": 249,
    "start_time": "2021-12-27T14:38:43.786Z"
   },
   {
    "duration": 6,
    "start_time": "2021-12-27T14:39:11.159Z"
   },
   {
    "duration": 258,
    "start_time": "2021-12-27T14:39:15.262Z"
   },
   {
    "duration": 258,
    "start_time": "2021-12-27T14:39:22.099Z"
   },
   {
    "duration": 255,
    "start_time": "2021-12-27T14:39:25.067Z"
   },
   {
    "duration": 267,
    "start_time": "2021-12-27T14:39:29.379Z"
   },
   {
    "duration": 523,
    "start_time": "2021-12-27T14:39:32.407Z"
   },
   {
    "duration": 274,
    "start_time": "2021-12-27T14:39:35.849Z"
   },
   {
    "duration": 1586,
    "start_time": "2021-12-27T18:06:22.173Z"
   },
   {
    "duration": 3,
    "start_time": "2021-12-27T18:06:23.764Z"
   },
   {
    "duration": 180,
    "start_time": "2021-12-27T18:06:23.771Z"
   },
   {
    "duration": 27,
    "start_time": "2021-12-27T18:06:23.954Z"
   },
   {
    "duration": 6,
    "start_time": "2021-12-27T18:06:23.984Z"
   },
   {
    "duration": 8,
    "start_time": "2021-12-27T18:06:23.992Z"
   },
   {
    "duration": 16,
    "start_time": "2021-12-27T18:06:24.003Z"
   },
   {
    "duration": 96,
    "start_time": "2021-12-27T18:06:24.022Z"
   },
   {
    "duration": 57,
    "start_time": "2021-12-27T18:06:24.123Z"
   },
   {
    "duration": 18,
    "start_time": "2021-12-27T18:06:24.184Z"
   },
   {
    "duration": 10,
    "start_time": "2021-12-27T18:06:24.204Z"
   },
   {
    "duration": 10,
    "start_time": "2021-12-27T18:06:24.217Z"
   },
   {
    "duration": 42,
    "start_time": "2021-12-27T18:06:24.230Z"
   },
   {
    "duration": 23,
    "start_time": "2021-12-27T18:06:24.275Z"
   },
   {
    "duration": 17,
    "start_time": "2021-12-27T18:06:24.301Z"
   },
   {
    "duration": 7,
    "start_time": "2021-12-27T18:06:24.321Z"
   },
   {
    "duration": 59,
    "start_time": "2021-12-27T18:06:24.331Z"
   },
   {
    "duration": 44,
    "start_time": "2021-12-27T18:06:24.392Z"
   },
   {
    "duration": 2128,
    "start_time": "2021-12-27T18:06:24.463Z"
   },
   {
    "duration": 4722,
    "start_time": "2021-12-27T18:06:21.873Z"
   },
   {
    "duration": 4716,
    "start_time": "2021-12-27T18:06:21.880Z"
   },
   {
    "duration": 4712,
    "start_time": "2021-12-27T18:06:21.885Z"
   },
   {
    "duration": 4710,
    "start_time": "2021-12-27T18:06:21.889Z"
   },
   {
    "duration": 4702,
    "start_time": "2021-12-27T18:06:21.898Z"
   },
   {
    "duration": 4699,
    "start_time": "2021-12-27T18:06:21.902Z"
   },
   {
    "duration": 4697,
    "start_time": "2021-12-27T18:06:21.906Z"
   },
   {
    "duration": 4693,
    "start_time": "2021-12-27T18:06:21.911Z"
   },
   {
    "duration": 4691,
    "start_time": "2021-12-27T18:06:21.915Z"
   },
   {
    "duration": 4687,
    "start_time": "2021-12-27T18:06:21.920Z"
   },
   {
    "duration": 4685,
    "start_time": "2021-12-27T18:06:21.923Z"
   },
   {
    "duration": 4680,
    "start_time": "2021-12-27T18:06:21.929Z"
   },
   {
    "duration": 4678,
    "start_time": "2021-12-27T18:06:21.933Z"
   },
   {
    "duration": 4672,
    "start_time": "2021-12-27T18:06:21.940Z"
   },
   {
    "duration": 4669,
    "start_time": "2021-12-27T18:06:21.945Z"
   },
   {
    "duration": 4665,
    "start_time": "2021-12-27T18:06:21.950Z"
   },
   {
    "duration": 4662,
    "start_time": "2021-12-27T18:06:21.954Z"
   },
   {
    "duration": 4659,
    "start_time": "2021-12-27T18:06:21.959Z"
   },
   {
    "duration": 4656,
    "start_time": "2021-12-27T18:06:21.963Z"
   },
   {
    "duration": 4652,
    "start_time": "2021-12-27T18:06:21.968Z"
   },
   {
    "duration": 4649,
    "start_time": "2021-12-27T18:06:21.973Z"
   },
   {
    "duration": 4646,
    "start_time": "2021-12-27T18:06:21.977Z"
   },
   {
    "duration": 4643,
    "start_time": "2021-12-27T18:06:21.981Z"
   },
   {
    "duration": 4640,
    "start_time": "2021-12-27T18:06:21.986Z"
   },
   {
    "duration": 4637,
    "start_time": "2021-12-27T18:06:21.990Z"
   },
   {
    "duration": 4634,
    "start_time": "2021-12-27T18:06:21.994Z"
   },
   {
    "duration": 4631,
    "start_time": "2021-12-27T18:06:21.998Z"
   },
   {
    "duration": 4629,
    "start_time": "2021-12-27T18:06:22.002Z"
   },
   {
    "duration": 4656,
    "start_time": "2021-12-27T18:06:22.007Z"
   },
   {
    "duration": 4653,
    "start_time": "2021-12-27T18:06:22.012Z"
   },
   {
    "duration": 4649,
    "start_time": "2021-12-27T18:06:22.017Z"
   },
   {
    "duration": 4645,
    "start_time": "2021-12-27T18:06:22.023Z"
   },
   {
    "duration": 4641,
    "start_time": "2021-12-27T18:06:22.028Z"
   },
   {
    "duration": 4638,
    "start_time": "2021-12-27T18:06:22.032Z"
   },
   {
    "duration": 4635,
    "start_time": "2021-12-27T18:06:22.036Z"
   },
   {
    "duration": 4633,
    "start_time": "2021-12-27T18:06:22.040Z"
   },
   {
    "duration": 4631,
    "start_time": "2021-12-27T18:06:22.044Z"
   },
   {
    "duration": 4628,
    "start_time": "2021-12-27T18:06:22.049Z"
   },
   {
    "duration": 4626,
    "start_time": "2021-12-27T18:06:22.053Z"
   },
   {
    "duration": 4624,
    "start_time": "2021-12-27T18:06:22.057Z"
   },
   {
    "duration": 4623,
    "start_time": "2021-12-27T18:06:22.061Z"
   },
   {
    "duration": 4620,
    "start_time": "2021-12-27T18:06:22.066Z"
   },
   {
    "duration": 25,
    "start_time": "2021-12-27T18:07:41.915Z"
   },
   {
    "duration": 6,
    "start_time": "2021-12-27T18:07:41.943Z"
   },
   {
    "duration": 16,
    "start_time": "2021-12-27T18:07:41.952Z"
   },
   {
    "duration": 17,
    "start_time": "2021-12-27T18:07:41.971Z"
   },
   {
    "duration": 8,
    "start_time": "2021-12-27T18:07:41.990Z"
   },
   {
    "duration": 9,
    "start_time": "2021-12-27T18:07:42.001Z"
   },
   {
    "duration": 7,
    "start_time": "2021-12-27T18:07:42.013Z"
   },
   {
    "duration": 6,
    "start_time": "2021-12-27T18:07:42.023Z"
   },
   {
    "duration": 26,
    "start_time": "2021-12-27T18:07:42.068Z"
   },
   {
    "duration": 64,
    "start_time": "2021-12-27T18:07:42.098Z"
   },
   {
    "duration": 11,
    "start_time": "2021-12-27T18:07:42.164Z"
   },
   {
    "duration": 9108,
    "start_time": "2021-12-27T18:07:42.177Z"
   },
   {
    "duration": 11,
    "start_time": "2021-12-27T18:07:51.287Z"
   },
   {
    "duration": 29851,
    "start_time": "2021-12-27T18:07:51.300Z"
   },
   {
    "duration": 8,
    "start_time": "2021-12-27T18:08:21.162Z"
   },
   {
    "duration": 1689,
    "start_time": "2021-12-27T18:08:21.173Z"
   },
   {
    "duration": 97,
    "start_time": "2021-12-27T18:08:22.866Z"
   },
   {
    "duration": 21,
    "start_time": "2021-12-27T18:08:22.967Z"
   },
   {
    "duration": 6,
    "start_time": "2021-12-27T18:08:22.991Z"
   },
   {
    "duration": 11,
    "start_time": "2021-12-27T18:08:22.999Z"
   },
   {
    "duration": 7,
    "start_time": "2021-12-27T18:08:23.013Z"
   },
   {
    "duration": 47,
    "start_time": "2021-12-27T18:08:23.022Z"
   },
   {
    "duration": 11816,
    "start_time": "2021-12-27T18:08:23.072Z"
   },
   {
    "duration": 43735,
    "start_time": "2021-12-27T18:08:34.890Z"
   },
   {
    "duration": 6,
    "start_time": "2021-12-27T18:09:18.627Z"
   },
   {
    "duration": 36,
    "start_time": "2021-12-27T18:09:18.635Z"
   },
   {
    "duration": 4601,
    "start_time": "2021-12-27T18:09:18.677Z"
   },
   {
    "duration": 8,
    "start_time": "2021-12-27T18:09:23.281Z"
   },
   {
    "duration": 9,
    "start_time": "2021-12-27T18:09:23.291Z"
   },
   {
    "duration": 16026,
    "start_time": "2021-12-27T18:09:23.302Z"
   },
   {
    "duration": 9,
    "start_time": "2021-12-27T18:09:39.331Z"
   },
   {
    "duration": 59,
    "start_time": "2021-12-27T18:09:39.344Z"
   },
   {
    "duration": 296,
    "start_time": "2021-12-27T18:09:39.406Z"
   },
   {
    "duration": 45,
    "start_time": "2021-12-27T18:09:39.704Z"
   },
   {
    "duration": 279,
    "start_time": "2021-12-27T18:09:39.764Z"
   },
   {
    "duration": 38,
    "start_time": "2021-12-27T18:09:40.046Z"
   },
   {
    "duration": 363,
    "start_time": "2021-12-27T18:09:40.087Z"
   },
   {
    "duration": 1011,
    "start_time": "2021-12-27T18:09:40.452Z"
   },
   {
    "duration": 308,
    "start_time": "2021-12-27T18:09:41.465Z"
   },
   {
    "duration": 475,
    "start_time": "2021-12-27T18:09:41.775Z"
   },
   {
    "duration": 303,
    "start_time": "2021-12-27T18:09:42.253Z"
   },
   {
    "duration": 110,
    "start_time": "2021-12-27T18:09:42.558Z"
   },
   {
    "duration": 284,
    "start_time": "2021-12-27T18:09:42.670Z"
   },
   {
    "duration": 187,
    "start_time": "2021-12-27T18:11:36.051Z"
   },
   {
    "duration": 1391,
    "start_time": "2021-12-27T18:13:21.838Z"
   },
   {
    "duration": 1041,
    "start_time": "2021-12-27T18:14:10.836Z"
   },
   {
    "duration": 48,
    "start_time": "2021-12-27T18:16:23.010Z"
   },
   {
    "duration": 45,
    "start_time": "2021-12-27T18:17:11.311Z"
   },
   {
    "duration": 300,
    "start_time": "2021-12-27T18:18:25.401Z"
   },
   {
    "duration": 9,
    "start_time": "2021-12-27T18:22:18.175Z"
   },
   {
    "duration": 1592,
    "start_time": "2021-12-27T18:22:20.891Z"
   },
   {
    "duration": 1701,
    "start_time": "2021-12-27T18:24:19.742Z"
   },
   {
    "duration": 4,
    "start_time": "2021-12-27T18:24:21.445Z"
   },
   {
    "duration": 90,
    "start_time": "2021-12-27T18:24:21.464Z"
   },
   {
    "duration": 42,
    "start_time": "2021-12-27T18:24:21.557Z"
   },
   {
    "duration": 9,
    "start_time": "2021-12-27T18:24:21.602Z"
   },
   {
    "duration": 6,
    "start_time": "2021-12-27T18:24:21.614Z"
   },
   {
    "duration": 40,
    "start_time": "2021-12-27T18:24:21.623Z"
   },
   {
    "duration": 63,
    "start_time": "2021-12-27T18:24:21.667Z"
   },
   {
    "duration": 53,
    "start_time": "2021-12-27T18:24:21.734Z"
   },
   {
    "duration": 15,
    "start_time": "2021-12-27T18:24:21.790Z"
   },
   {
    "duration": 9,
    "start_time": "2021-12-27T18:24:21.808Z"
   },
   {
    "duration": 43,
    "start_time": "2021-12-27T18:24:21.821Z"
   },
   {
    "duration": 9,
    "start_time": "2021-12-27T18:24:21.867Z"
   },
   {
    "duration": 16,
    "start_time": "2021-12-27T18:24:21.878Z"
   },
   {
    "duration": 12,
    "start_time": "2021-12-27T18:24:21.896Z"
   },
   {
    "duration": 6,
    "start_time": "2021-12-27T18:24:21.911Z"
   },
   {
    "duration": 89,
    "start_time": "2021-12-27T18:24:21.919Z"
   },
   {
    "duration": 88,
    "start_time": "2021-12-27T18:24:22.011Z"
   },
   {
    "duration": 49,
    "start_time": "2021-12-27T18:24:22.102Z"
   },
   {
    "duration": 14,
    "start_time": "2021-12-27T18:24:22.160Z"
   },
   {
    "duration": 10,
    "start_time": "2021-12-27T18:24:22.177Z"
   },
   {
    "duration": 39,
    "start_time": "2021-12-27T18:24:22.191Z"
   },
   {
    "duration": 13,
    "start_time": "2021-12-27T18:24:22.250Z"
   },
   {
    "duration": 9,
    "start_time": "2021-12-27T18:24:22.268Z"
   },
   {
    "duration": 9,
    "start_time": "2021-12-27T18:24:22.287Z"
   },
   {
    "duration": 7,
    "start_time": "2021-12-27T18:24:22.303Z"
   },
   {
    "duration": 86,
    "start_time": "2021-12-27T18:24:22.313Z"
   },
   {
    "duration": 52,
    "start_time": "2021-12-27T18:24:22.403Z"
   },
   {
    "duration": 16,
    "start_time": "2021-12-27T18:24:22.458Z"
   },
   {
    "duration": 780,
    "start_time": "2021-12-27T18:24:22.477Z"
   },
   {
    "duration": 4598,
    "start_time": "2021-12-27T18:24:18.662Z"
   },
   {
    "duration": 4529,
    "start_time": "2021-12-27T18:24:18.733Z"
   },
   {
    "duration": 4526,
    "start_time": "2021-12-27T18:24:18.737Z"
   },
   {
    "duration": 4515,
    "start_time": "2021-12-27T18:24:18.750Z"
   },
   {
    "duration": 4512,
    "start_time": "2021-12-27T18:24:18.754Z"
   },
   {
    "duration": 4510,
    "start_time": "2021-12-27T18:24:18.758Z"
   },
   {
    "duration": 4507,
    "start_time": "2021-12-27T18:24:18.762Z"
   },
   {
    "duration": 4502,
    "start_time": "2021-12-27T18:24:18.768Z"
   },
   {
    "duration": 4500,
    "start_time": "2021-12-27T18:24:18.772Z"
   },
   {
    "duration": 4497,
    "start_time": "2021-12-27T18:24:18.776Z"
   },
   {
    "duration": 4494,
    "start_time": "2021-12-27T18:24:18.781Z"
   },
   {
    "duration": 4491,
    "start_time": "2021-12-27T18:24:18.785Z"
   },
   {
    "duration": 4490,
    "start_time": "2021-12-27T18:24:18.788Z"
   },
   {
    "duration": 4487,
    "start_time": "2021-12-27T18:24:18.792Z"
   },
   {
    "duration": 4485,
    "start_time": "2021-12-27T18:24:18.796Z"
   },
   {
    "duration": 4482,
    "start_time": "2021-12-27T18:24:18.800Z"
   },
   {
    "duration": 4480,
    "start_time": "2021-12-27T18:24:18.804Z"
   },
   {
    "duration": 4477,
    "start_time": "2021-12-27T18:24:18.808Z"
   },
   {
    "duration": 4475,
    "start_time": "2021-12-27T18:24:18.812Z"
   },
   {
    "duration": 4473,
    "start_time": "2021-12-27T18:24:18.815Z"
   },
   {
    "duration": 4470,
    "start_time": "2021-12-27T18:24:18.819Z"
   },
   {
    "duration": 4435,
    "start_time": "2021-12-27T18:24:18.856Z"
   },
   {
    "duration": 4432,
    "start_time": "2021-12-27T18:24:18.860Z"
   },
   {
    "duration": 4429,
    "start_time": "2021-12-27T18:24:18.864Z"
   },
   {
    "duration": 4426,
    "start_time": "2021-12-27T18:24:18.869Z"
   },
   {
    "duration": 4423,
    "start_time": "2021-12-27T18:24:18.873Z"
   },
   {
    "duration": 4420,
    "start_time": "2021-12-27T18:24:18.877Z"
   },
   {
    "duration": 4418,
    "start_time": "2021-12-27T18:24:18.881Z"
   },
   {
    "duration": 4415,
    "start_time": "2021-12-27T18:24:18.885Z"
   },
   {
    "duration": 4413,
    "start_time": "2021-12-27T18:24:18.889Z"
   },
   {
    "duration": 4470,
    "start_time": "2021-12-27T18:24:18.893Z"
   },
   {
    "duration": 1781,
    "start_time": "2021-12-27T18:25:53.227Z"
   },
   {
    "duration": 4,
    "start_time": "2021-12-27T18:25:55.010Z"
   },
   {
    "duration": 111,
    "start_time": "2021-12-27T18:25:55.019Z"
   },
   {
    "duration": 39,
    "start_time": "2021-12-27T18:25:55.134Z"
   },
   {
    "duration": 7,
    "start_time": "2021-12-27T18:25:55.175Z"
   },
   {
    "duration": 7,
    "start_time": "2021-12-27T18:25:55.185Z"
   },
   {
    "duration": 15,
    "start_time": "2021-12-27T18:25:55.195Z"
   },
   {
    "duration": 93,
    "start_time": "2021-12-27T18:25:55.213Z"
   },
   {
    "duration": 34,
    "start_time": "2021-12-27T18:25:55.310Z"
   },
   {
    "duration": 17,
    "start_time": "2021-12-27T18:25:55.363Z"
   },
   {
    "duration": 9,
    "start_time": "2021-12-27T18:25:55.382Z"
   },
   {
    "duration": 8,
    "start_time": "2021-12-27T18:25:55.394Z"
   },
   {
    "duration": 10,
    "start_time": "2021-12-27T18:25:55.405Z"
   },
   {
    "duration": 46,
    "start_time": "2021-12-27T18:25:55.418Z"
   },
   {
    "duration": 10,
    "start_time": "2021-12-27T18:25:55.467Z"
   },
   {
    "duration": 7,
    "start_time": "2021-12-27T18:25:55.479Z"
   },
   {
    "duration": 30,
    "start_time": "2021-12-27T18:25:55.488Z"
   },
   {
    "duration": 81,
    "start_time": "2021-12-27T18:25:55.520Z"
   },
   {
    "duration": 22,
    "start_time": "2021-12-27T18:25:55.603Z"
   },
   {
    "duration": 36,
    "start_time": "2021-12-27T18:25:55.627Z"
   },
   {
    "duration": 9,
    "start_time": "2021-12-27T18:25:55.666Z"
   },
   {
    "duration": 10,
    "start_time": "2021-12-27T18:25:55.678Z"
   },
   {
    "duration": 26,
    "start_time": "2021-12-27T18:25:55.690Z"
   },
   {
    "duration": 5,
    "start_time": "2021-12-27T18:25:55.718Z"
   },
   {
    "duration": 6,
    "start_time": "2021-12-27T18:25:55.726Z"
   },
   {
    "duration": 30,
    "start_time": "2021-12-27T18:25:55.735Z"
   },
   {
    "duration": 26,
    "start_time": "2021-12-27T18:25:55.773Z"
   },
   {
    "duration": 65,
    "start_time": "2021-12-27T18:25:55.802Z"
   },
   {
    "duration": 12,
    "start_time": "2021-12-27T18:25:55.870Z"
   },
   {
    "duration": 9900,
    "start_time": "2021-12-27T18:25:55.884Z"
   },
   {
    "duration": 11,
    "start_time": "2021-12-27T18:26:05.787Z"
   },
   {
    "duration": 33335,
    "start_time": "2021-12-27T18:26:05.801Z"
   },
   {
    "duration": 10,
    "start_time": "2021-12-27T18:26:39.138Z"
   },
   {
    "duration": 1715,
    "start_time": "2021-12-27T18:26:39.150Z"
   },
   {
    "duration": 97,
    "start_time": "2021-12-27T18:26:40.869Z"
   },
   {
    "duration": 35,
    "start_time": "2021-12-27T18:26:40.969Z"
   },
   {
    "duration": 7,
    "start_time": "2021-12-27T18:26:41.007Z"
   },
   {
    "duration": 30,
    "start_time": "2021-12-27T18:26:41.017Z"
   },
   {
    "duration": 9,
    "start_time": "2021-12-27T18:26:41.063Z"
   },
   {
    "duration": 25,
    "start_time": "2021-12-27T18:26:41.075Z"
   },
   {
    "duration": 12274,
    "start_time": "2021-12-27T18:26:41.103Z"
   },
   {
    "duration": 45784,
    "start_time": "2021-12-27T18:26:53.379Z"
   },
   {
    "duration": 7,
    "start_time": "2021-12-27T18:27:39.165Z"
   },
   {
    "duration": 21,
    "start_time": "2021-12-27T18:27:39.176Z"
   },
   {
    "duration": 5010,
    "start_time": "2021-12-27T18:27:39.200Z"
   },
   {
    "duration": 8,
    "start_time": "2021-12-27T18:27:44.212Z"
   },
   {
    "duration": 8,
    "start_time": "2021-12-27T18:27:44.223Z"
   },
   {
    "duration": 18145,
    "start_time": "2021-12-27T18:27:44.234Z"
   },
   {
    "duration": 8,
    "start_time": "2021-12-27T18:28:02.382Z"
   },
   {
    "duration": 72,
    "start_time": "2021-12-27T18:28:02.393Z"
   },
   {
    "duration": 291,
    "start_time": "2021-12-27T18:28:02.468Z"
   },
   {
    "duration": 47,
    "start_time": "2021-12-27T18:28:02.764Z"
   },
   {
    "duration": 305,
    "start_time": "2021-12-27T18:28:02.815Z"
   },
   {
    "duration": 43,
    "start_time": "2021-12-27T18:28:03.124Z"
   },
   {
    "duration": 463,
    "start_time": "2021-12-27T18:28:03.171Z"
   },
   {
    "duration": 1087,
    "start_time": "2021-12-27T18:28:03.636Z"
   },
   {
    "duration": 363,
    "start_time": "2021-12-27T18:28:04.726Z"
   },
   {
    "duration": 1471,
    "start_time": "2021-12-27T18:28:05.092Z"
   },
   {
    "duration": 367,
    "start_time": "2021-12-27T18:28:06.566Z"
   },
   {
    "duration": 201,
    "start_time": "2021-12-27T18:28:06.935Z"
   },
   {
    "duration": 301,
    "start_time": "2021-12-27T18:28:07.138Z"
   },
   {
    "duration": 45,
    "start_time": "2021-12-27T18:32:16.751Z"
   },
   {
    "duration": 281,
    "start_time": "2021-12-27T18:32:19.324Z"
   },
   {
    "duration": 41,
    "start_time": "2021-12-27T18:34:23.720Z"
   },
   {
    "duration": 270,
    "start_time": "2021-12-27T18:34:26.171Z"
   },
   {
    "duration": 54,
    "start_time": "2021-12-27T18:35:55.873Z"
   },
   {
    "duration": 280,
    "start_time": "2021-12-27T18:35:58.533Z"
   },
   {
    "duration": 17,
    "start_time": "2021-12-27T18:37:43.981Z"
   },
   {
    "duration": 5896,
    "start_time": "2021-12-27T18:37:46.794Z"
   },
   {
    "duration": 7270,
    "start_time": "2021-12-27T18:38:04.596Z"
   },
   {
    "duration": 42,
    "start_time": "2021-12-27T18:38:42.030Z"
   },
   {
    "duration": 267,
    "start_time": "2021-12-27T18:38:44.239Z"
   },
   {
    "duration": 1592,
    "start_time": "2021-12-28T07:56:22.865Z"
   },
   {
    "duration": 8,
    "start_time": "2021-12-28T07:56:24.459Z"
   },
   {
    "duration": 130,
    "start_time": "2021-12-28T07:56:24.470Z"
   },
   {
    "duration": 27,
    "start_time": "2021-12-28T07:56:24.602Z"
   },
   {
    "duration": 14,
    "start_time": "2021-12-28T07:56:24.632Z"
   },
   {
    "duration": 19,
    "start_time": "2021-12-28T07:56:24.648Z"
   },
   {
    "duration": 11,
    "start_time": "2021-12-28T07:56:24.670Z"
   },
   {
    "duration": 63,
    "start_time": "2021-12-28T07:56:24.684Z"
   },
   {
    "duration": 33,
    "start_time": "2021-12-28T07:56:24.768Z"
   },
   {
    "duration": 10,
    "start_time": "2021-12-28T07:56:24.804Z"
   },
   {
    "duration": 9,
    "start_time": "2021-12-28T07:56:24.816Z"
   },
   {
    "duration": 42,
    "start_time": "2021-12-28T07:56:24.827Z"
   },
   {
    "duration": 9,
    "start_time": "2021-12-28T07:56:24.871Z"
   },
   {
    "duration": 11,
    "start_time": "2021-12-28T07:56:24.882Z"
   },
   {
    "duration": 9,
    "start_time": "2021-12-28T07:56:24.895Z"
   },
   {
    "duration": 7,
    "start_time": "2021-12-28T07:56:24.906Z"
   },
   {
    "duration": 75,
    "start_time": "2021-12-28T07:56:24.915Z"
   },
   {
    "duration": 42,
    "start_time": "2021-12-28T07:56:24.993Z"
   },
   {
    "duration": 43,
    "start_time": "2021-12-28T07:56:25.037Z"
   },
   {
    "duration": 5,
    "start_time": "2021-12-28T07:56:25.082Z"
   },
   {
    "duration": 14,
    "start_time": "2021-12-28T07:56:25.089Z"
   },
   {
    "duration": 8,
    "start_time": "2021-12-28T07:56:25.106Z"
   },
   {
    "duration": 7,
    "start_time": "2021-12-28T07:56:25.116Z"
   },
   {
    "duration": 7,
    "start_time": "2021-12-28T07:56:25.126Z"
   },
   {
    "duration": 37,
    "start_time": "2021-12-28T07:56:25.135Z"
   },
   {
    "duration": 5,
    "start_time": "2021-12-28T07:56:25.175Z"
   },
   {
    "duration": 25,
    "start_time": "2021-12-28T07:56:25.186Z"
   },
   {
    "duration": 68,
    "start_time": "2021-12-28T07:56:25.215Z"
   },
   {
    "duration": 11,
    "start_time": "2021-12-28T07:56:25.286Z"
   },
   {
    "duration": 10305,
    "start_time": "2021-12-28T07:56:25.300Z"
   },
   {
    "duration": 11,
    "start_time": "2021-12-28T07:56:35.608Z"
   },
   {
    "duration": 35347,
    "start_time": "2021-12-28T07:56:35.621Z"
   },
   {
    "duration": 10,
    "start_time": "2021-12-28T07:57:10.971Z"
   },
   {
    "duration": 1785,
    "start_time": "2021-12-28T07:57:10.984Z"
   },
   {
    "duration": 96,
    "start_time": "2021-12-28T07:57:12.773Z"
   },
   {
    "duration": 23,
    "start_time": "2021-12-28T07:57:12.871Z"
   },
   {
    "duration": 5,
    "start_time": "2021-12-28T07:57:12.896Z"
   },
   {
    "duration": 8,
    "start_time": "2021-12-28T07:57:12.903Z"
   },
   {
    "duration": 19,
    "start_time": "2021-12-28T07:57:12.913Z"
   },
   {
    "duration": 34,
    "start_time": "2021-12-28T07:57:12.935Z"
   },
   {
    "duration": 13243,
    "start_time": "2021-12-28T07:57:12.971Z"
   },
   {
    "duration": 46897,
    "start_time": "2021-12-28T07:57:26.216Z"
   },
   {
    "duration": 6,
    "start_time": "2021-12-28T07:58:13.115Z"
   },
   {
    "duration": 23,
    "start_time": "2021-12-28T07:58:13.123Z"
   },
   {
    "duration": 6488,
    "start_time": "2021-12-28T07:58:13.149Z"
   },
   {
    "duration": 7,
    "start_time": "2021-12-28T07:58:19.640Z"
   },
   {
    "duration": 27,
    "start_time": "2021-12-28T07:58:19.649Z"
   },
   {
    "duration": 29166,
    "start_time": "2021-12-28T07:58:19.679Z"
   },
   {
    "duration": 20,
    "start_time": "2021-12-28T07:58:48.848Z"
   },
   {
    "duration": 44,
    "start_time": "2021-12-28T07:58:48.871Z"
   },
   {
    "duration": 302,
    "start_time": "2021-12-28T07:58:48.918Z"
   },
   {
    "duration": 70,
    "start_time": "2021-12-28T07:58:49.223Z"
   },
   {
    "duration": 346,
    "start_time": "2021-12-28T07:58:49.295Z"
   },
   {
    "duration": 37,
    "start_time": "2021-12-28T07:58:49.644Z"
   },
   {
    "duration": 288,
    "start_time": "2021-12-28T07:58:49.683Z"
   },
   {
    "duration": 1073,
    "start_time": "2021-12-28T07:58:49.982Z"
   },
   {
    "duration": 317,
    "start_time": "2021-12-28T07:58:51.057Z"
   },
   {
    "duration": 1432,
    "start_time": "2021-12-28T07:58:51.377Z"
   },
   {
    "duration": 369,
    "start_time": "2021-12-28T07:58:52.812Z"
   },
   {
    "duration": 193,
    "start_time": "2021-12-28T07:58:53.183Z"
   },
   {
    "duration": 310,
    "start_time": "2021-12-28T07:58:53.379Z"
   },
   {
    "duration": 1106,
    "start_time": "2021-12-28T07:59:20.002Z"
   },
   {
    "duration": 137,
    "start_time": "2021-12-28T07:59:31.804Z"
   },
   {
    "duration": 4,
    "start_time": "2021-12-28T08:01:45.671Z"
   },
   {
    "duration": 13,
    "start_time": "2021-12-28T08:04:41.247Z"
   },
   {
    "duration": 58000,
    "start_time": "2021-12-28T08:04:48.302Z"
   },
   {
    "duration": 9,
    "start_time": "2021-12-28T08:05:46.305Z"
   },
   {
    "duration": 1756,
    "start_time": "2021-12-28T08:05:46.318Z"
   },
   {
    "duration": 89,
    "start_time": "2021-12-28T08:05:48.078Z"
   },
   {
    "duration": 41,
    "start_time": "2021-12-28T08:05:48.170Z"
   },
   {
    "duration": 6,
    "start_time": "2021-12-28T08:05:48.214Z"
   },
   {
    "duration": 10,
    "start_time": "2021-12-28T08:05:48.222Z"
   },
   {
    "duration": 32,
    "start_time": "2021-12-28T08:05:48.236Z"
   },
   {
    "duration": 8,
    "start_time": "2021-12-28T08:05:48.272Z"
   },
   {
    "duration": 12816,
    "start_time": "2021-12-28T08:05:48.282Z"
   },
   {
    "duration": 76344,
    "start_time": "2021-12-28T08:06:01.101Z"
   },
   {
    "duration": 6,
    "start_time": "2021-12-28T08:07:17.448Z"
   },
   {
    "duration": 22,
    "start_time": "2021-12-28T08:07:17.456Z"
   },
   {
    "duration": 5244,
    "start_time": "2021-12-28T08:07:17.481Z"
   },
   {
    "duration": 7,
    "start_time": "2021-12-28T08:07:22.728Z"
   },
   {
    "duration": 32,
    "start_time": "2021-12-28T08:07:22.738Z"
   },
   {
    "duration": 40026,
    "start_time": "2021-12-28T08:07:22.773Z"
   },
   {
    "duration": 9,
    "start_time": "2021-12-28T08:08:02.802Z"
   },
   {
    "duration": 70,
    "start_time": "2021-12-28T08:08:02.814Z"
   },
   {
    "duration": 288,
    "start_time": "2021-12-28T08:08:02.887Z"
   },
   {
    "duration": 57,
    "start_time": "2021-12-28T08:08:03.178Z"
   },
   {
    "duration": 307,
    "start_time": "2021-12-28T08:08:03.238Z"
   },
   {
    "duration": 33,
    "start_time": "2021-12-28T08:08:03.550Z"
   },
   {
    "duration": 296,
    "start_time": "2021-12-28T08:08:03.586Z"
   },
   {
    "duration": 799,
    "start_time": "2021-12-28T08:08:03.884Z"
   },
   {
    "duration": 335,
    "start_time": "2021-12-28T08:08:04.686Z"
   },
   {
    "duration": 1101,
    "start_time": "2021-12-28T08:08:05.023Z"
   },
   {
    "duration": 315,
    "start_time": "2021-12-28T08:08:06.127Z"
   },
   {
    "duration": 188,
    "start_time": "2021-12-28T08:08:06.444Z"
   },
   {
    "duration": 364,
    "start_time": "2021-12-28T08:08:06.634Z"
   },
   {
    "duration": 92,
    "start_time": "2021-12-28T08:09:44.042Z"
   },
   {
    "duration": 277,
    "start_time": "2021-12-28T08:09:46.372Z"
   },
   {
    "duration": 338,
    "start_time": "2021-12-28T08:10:21.942Z"
   },
   {
    "duration": 295,
    "start_time": "2021-12-28T08:10:24.114Z"
   },
   {
    "duration": 346,
    "start_time": "2021-12-28T08:10:56.325Z"
   },
   {
    "duration": 402,
    "start_time": "2021-12-28T08:10:58.259Z"
   },
   {
    "duration": 10,
    "start_time": "2021-12-28T08:13:55.660Z"
   },
   {
    "duration": 676,
    "start_time": "2021-12-28T08:13:57.322Z"
   },
   {
    "duration": 9,
    "start_time": "2021-12-28T08:14:20.781Z"
   },
   {
    "duration": 69304,
    "start_time": "2021-12-28T08:14:22.774Z"
   },
   {
    "duration": 1554,
    "start_time": "2021-12-28T08:17:00.098Z"
   },
   {
    "duration": 3,
    "start_time": "2021-12-28T08:17:01.655Z"
   },
   {
    "duration": 138,
    "start_time": "2021-12-28T08:17:01.668Z"
   },
   {
    "duration": 28,
    "start_time": "2021-12-28T08:17:01.808Z"
   },
   {
    "duration": 26,
    "start_time": "2021-12-28T08:17:01.838Z"
   },
   {
    "duration": 22,
    "start_time": "2021-12-28T08:17:01.866Z"
   },
   {
    "duration": 25,
    "start_time": "2021-12-28T08:17:01.890Z"
   },
   {
    "duration": 70,
    "start_time": "2021-12-28T08:17:01.918Z"
   },
   {
    "duration": 32,
    "start_time": "2021-12-28T08:17:01.992Z"
   },
   {
    "duration": 14,
    "start_time": "2021-12-28T08:17:02.027Z"
   },
   {
    "duration": 9,
    "start_time": "2021-12-28T08:17:02.067Z"
   },
   {
    "duration": 25,
    "start_time": "2021-12-28T08:17:02.078Z"
   },
   {
    "duration": 13,
    "start_time": "2021-12-28T08:17:02.105Z"
   },
   {
    "duration": 11,
    "start_time": "2021-12-28T08:17:02.120Z"
   },
   {
    "duration": 35,
    "start_time": "2021-12-28T08:17:02.133Z"
   },
   {
    "duration": 5,
    "start_time": "2021-12-28T08:17:02.171Z"
   },
   {
    "duration": 50,
    "start_time": "2021-12-28T08:17:02.178Z"
   },
   {
    "duration": 85,
    "start_time": "2021-12-28T08:17:02.230Z"
   },
   {
    "duration": 22,
    "start_time": "2021-12-28T08:17:02.318Z"
   },
   {
    "duration": 6,
    "start_time": "2021-12-28T08:17:02.342Z"
   },
   {
    "duration": 31,
    "start_time": "2021-12-28T08:17:02.350Z"
   },
   {
    "duration": 17,
    "start_time": "2021-12-28T08:17:02.383Z"
   },
   {
    "duration": 15,
    "start_time": "2021-12-28T08:17:02.403Z"
   },
   {
    "duration": 18,
    "start_time": "2021-12-28T08:17:02.420Z"
   },
   {
    "duration": 10,
    "start_time": "2021-12-28T08:17:02.440Z"
   },
   {
    "duration": 8,
    "start_time": "2021-12-28T08:17:02.453Z"
   },
   {
    "duration": 26,
    "start_time": "2021-12-28T08:17:02.471Z"
   },
   {
    "duration": 39,
    "start_time": "2021-12-28T08:17:02.501Z"
   },
   {
    "duration": 29,
    "start_time": "2021-12-28T08:17:02.542Z"
   },
   {
    "duration": 10262,
    "start_time": "2021-12-28T08:17:02.573Z"
   },
   {
    "duration": 9,
    "start_time": "2021-12-28T08:17:12.838Z"
   },
   {
    "duration": 68634,
    "start_time": "2021-12-28T08:17:12.850Z"
   },
   {
    "duration": 8,
    "start_time": "2021-12-28T08:18:21.487Z"
   },
   {
    "duration": 1775,
    "start_time": "2021-12-28T08:18:21.497Z"
   },
   {
    "duration": 91,
    "start_time": "2021-12-28T08:18:23.276Z"
   },
   {
    "duration": 24,
    "start_time": "2021-12-28T08:18:23.370Z"
   },
   {
    "duration": 5,
    "start_time": "2021-12-28T08:18:23.396Z"
   },
   {
    "duration": 7,
    "start_time": "2021-12-28T08:18:23.403Z"
   },
   {
    "duration": 9,
    "start_time": "2021-12-28T08:18:23.412Z"
   },
   {
    "duration": 47,
    "start_time": "2021-12-28T08:18:23.423Z"
   },
   {
    "duration": 12552,
    "start_time": "2021-12-28T08:18:23.472Z"
   },
   {
    "duration": 99674,
    "start_time": "2021-12-28T08:18:36.027Z"
   },
   {
    "duration": 5,
    "start_time": "2021-12-28T08:20:15.704Z"
   },
   {
    "duration": 21,
    "start_time": "2021-12-28T08:20:15.712Z"
   },
   {
    "duration": 6110,
    "start_time": "2021-12-28T08:20:15.735Z"
   },
   {
    "duration": 7,
    "start_time": "2021-12-28T08:20:21.847Z"
   },
   {
    "duration": 7,
    "start_time": "2021-12-28T08:20:21.868Z"
   },
   {
    "duration": 43088,
    "start_time": "2021-12-28T08:20:21.877Z"
   },
   {
    "duration": 7,
    "start_time": "2021-12-28T08:21:04.968Z"
   },
   {
    "duration": 58,
    "start_time": "2021-12-28T08:21:04.978Z"
   },
   {
    "duration": 306,
    "start_time": "2021-12-28T08:21:05.039Z"
   },
   {
    "duration": 65,
    "start_time": "2021-12-28T08:21:05.347Z"
   },
   {
    "duration": 291,
    "start_time": "2021-12-28T08:21:05.415Z"
   },
   {
    "duration": 24,
    "start_time": "2021-12-28T08:21:05.710Z"
   },
   {
    "duration": 371,
    "start_time": "2021-12-28T08:21:05.737Z"
   },
   {
    "duration": 110,
    "start_time": "2021-12-28T08:21:06.111Z"
   },
   {
    "duration": 289,
    "start_time": "2021-12-28T08:21:06.224Z"
   },
   {
    "duration": 348,
    "start_time": "2021-12-28T08:21:06.517Z"
   },
   {
    "duration": 303,
    "start_time": "2021-12-28T08:21:06.868Z"
   },
   {
    "duration": 364,
    "start_time": "2021-12-28T08:21:07.174Z"
   },
   {
    "duration": 312,
    "start_time": "2021-12-28T08:21:07.541Z"
   },
   {
    "duration": 174,
    "start_time": "2021-12-28T08:59:49.420Z"
   },
   {
    "duration": 595,
    "start_time": "2021-12-28T09:04:25.643Z"
   },
   {
    "duration": 370,
    "start_time": "2021-12-28T09:05:22.888Z"
   },
   {
    "duration": 147,
    "start_time": "2021-12-28T09:06:00.660Z"
   },
   {
    "duration": 41,
    "start_time": "2021-12-28T09:06:31.368Z"
   },
   {
    "duration": 44,
    "start_time": "2021-12-28T09:08:08.593Z"
   },
   {
    "duration": 597,
    "start_time": "2021-12-28T09:22:41.870Z"
   },
   {
    "duration": 483,
    "start_time": "2021-12-28T09:22:44.389Z"
   },
   {
    "duration": 177,
    "start_time": "2021-12-28T09:24:13.590Z"
   },
   {
    "duration": 277,
    "start_time": "2021-12-28T09:24:16.049Z"
   },
   {
    "duration": 4,
    "start_time": "2021-12-28T09:27:46.219Z"
   },
   {
    "duration": 44,
    "start_time": "2021-12-28T09:28:46.790Z"
   },
   {
    "duration": 270,
    "start_time": "2021-12-28T09:28:48.707Z"
   },
   {
    "duration": 41,
    "start_time": "2021-12-28T09:28:53.259Z"
   },
   {
    "duration": 277,
    "start_time": "2021-12-28T09:28:55.672Z"
   },
   {
    "duration": 12,
    "start_time": "2021-12-28T09:34:18.861Z"
   },
   {
    "duration": 22547,
    "start_time": "2021-12-28T09:34:21.309Z"
   },
   {
    "duration": 69300,
    "start_time": "2021-12-28T09:34:43.859Z"
   },
   {
    "duration": 54,
    "start_time": "2021-12-28T09:35:53.166Z"
   },
   {
    "duration": 43,
    "start_time": "2021-12-28T09:36:07.219Z"
   },
   {
    "duration": 274,
    "start_time": "2021-12-28T09:36:09.249Z"
   },
   {
    "duration": 116,
    "start_time": "2021-12-28T09:51:39.576Z"
   },
   {
    "duration": 50,
    "start_time": "2021-12-28T09:52:27.135Z"
   },
   {
    "duration": 857,
    "start_time": "2021-12-28T09:53:26.233Z"
   },
   {
    "duration": 739,
    "start_time": "2021-12-28T13:36:19.550Z"
   },
   {
    "duration": 1170,
    "start_time": "2021-12-28T13:36:31.704Z"
   },
   {
    "duration": 3,
    "start_time": "2021-12-28T13:36:32.875Z"
   },
   {
    "duration": 222,
    "start_time": "2021-12-28T13:36:32.880Z"
   },
   {
    "duration": 22,
    "start_time": "2021-12-28T13:36:33.104Z"
   },
   {
    "duration": 5,
    "start_time": "2021-12-28T13:36:33.128Z"
   },
   {
    "duration": 5,
    "start_time": "2021-12-28T13:36:33.134Z"
   },
   {
    "duration": 11,
    "start_time": "2021-12-28T13:36:33.141Z"
   },
   {
    "duration": 41,
    "start_time": "2021-12-28T13:36:33.154Z"
   },
   {
    "duration": 39,
    "start_time": "2021-12-28T13:36:33.197Z"
   },
   {
    "duration": 6,
    "start_time": "2021-12-28T13:36:33.238Z"
   },
   {
    "duration": 6,
    "start_time": "2021-12-28T13:36:33.245Z"
   },
   {
    "duration": 7,
    "start_time": "2021-12-28T13:36:33.252Z"
   },
   {
    "duration": 6,
    "start_time": "2021-12-28T13:36:33.260Z"
   },
   {
    "duration": 7,
    "start_time": "2021-12-28T13:36:33.267Z"
   },
   {
    "duration": 6,
    "start_time": "2021-12-28T13:36:33.276Z"
   },
   {
    "duration": 3,
    "start_time": "2021-12-28T13:36:33.283Z"
   },
   {
    "duration": 52,
    "start_time": "2021-12-28T13:36:33.288Z"
   },
   {
    "duration": 24,
    "start_time": "2021-12-28T13:36:33.341Z"
   },
   {
    "duration": 13,
    "start_time": "2021-12-28T13:36:33.366Z"
   },
   {
    "duration": 2,
    "start_time": "2021-12-28T13:36:33.381Z"
   },
   {
    "duration": 5,
    "start_time": "2021-12-28T13:36:33.385Z"
   },
   {
    "duration": 4,
    "start_time": "2021-12-28T13:36:33.392Z"
   },
   {
    "duration": 30,
    "start_time": "2021-12-28T13:36:33.397Z"
   },
   {
    "duration": 2,
    "start_time": "2021-12-28T13:36:33.429Z"
   },
   {
    "duration": 5,
    "start_time": "2021-12-28T13:36:33.433Z"
   },
   {
    "duration": 5,
    "start_time": "2021-12-28T13:36:33.439Z"
   },
   {
    "duration": 13,
    "start_time": "2021-12-28T13:36:33.447Z"
   },
   {
    "duration": 18,
    "start_time": "2021-12-28T13:36:33.462Z"
   },
   {
    "duration": 6,
    "start_time": "2021-12-28T13:36:33.481Z"
   },
   {
    "duration": 12445,
    "start_time": "2021-12-28T13:36:33.488Z"
   },
   {
    "duration": 5,
    "start_time": "2021-12-28T13:36:45.935Z"
   },
   {
    "duration": 40343,
    "start_time": "2021-12-28T13:36:45.941Z"
   },
   {
    "duration": 5,
    "start_time": "2021-12-28T13:37:26.286Z"
   },
   {
    "duration": 1549,
    "start_time": "2021-12-28T13:37:26.293Z"
   },
   {
    "duration": 84,
    "start_time": "2021-12-28T13:37:27.844Z"
   },
   {
    "duration": 122,
    "start_time": "2021-12-28T13:37:27.931Z"
   },
   {
    "duration": 4,
    "start_time": "2021-12-28T13:37:28.055Z"
   },
   {
    "duration": 5,
    "start_time": "2021-12-28T13:37:28.061Z"
   },
   {
    "duration": 6,
    "start_time": "2021-12-28T13:37:28.067Z"
   },
   {
    "duration": 5,
    "start_time": "2021-12-28T13:37:28.074Z"
   },
   {
    "duration": 14912,
    "start_time": "2021-12-28T13:37:28.080Z"
   },
   {
    "duration": 54540,
    "start_time": "2021-12-28T13:37:42.994Z"
   },
   {
    "duration": 3,
    "start_time": "2021-12-28T13:38:37.536Z"
   },
   {
    "duration": 11,
    "start_time": "2021-12-28T13:38:37.541Z"
   },
   {
    "duration": 6194,
    "start_time": "2021-12-28T13:38:37.554Z"
   },
   {
    "duration": 4,
    "start_time": "2021-12-28T13:38:43.750Z"
   },
   {
    "duration": 9,
    "start_time": "2021-12-28T13:38:43.755Z"
   },
   {
    "duration": 24069,
    "start_time": "2021-12-28T13:38:43.765Z"
   },
   {
    "duration": 4,
    "start_time": "2021-12-28T13:39:07.835Z"
   },
   {
    "duration": 32,
    "start_time": "2021-12-28T13:39:07.841Z"
   },
   {
    "duration": 167,
    "start_time": "2021-12-28T13:39:07.874Z"
   },
   {
    "duration": 27,
    "start_time": "2021-12-28T13:39:08.042Z"
   },
   {
    "duration": 164,
    "start_time": "2021-12-28T13:39:08.070Z"
   },
   {
    "duration": 27,
    "start_time": "2021-12-28T13:39:08.235Z"
   },
   {
    "duration": 214,
    "start_time": "2021-12-28T13:39:08.263Z"
   },
   {
    "duration": 13,
    "start_time": "2021-12-28T13:39:08.479Z"
   },
   {
    "duration": 160,
    "start_time": "2021-12-28T13:39:08.493Z"
   },
   {
    "duration": 113,
    "start_time": "2021-12-28T13:39:08.654Z"
   },
   {
    "duration": 167,
    "start_time": "2021-12-28T13:39:08.768Z"
   },
   {
    "duration": 352,
    "start_time": "2021-12-28T13:39:08.937Z"
   },
   {
    "duration": 168,
    "start_time": "2021-12-28T13:39:09.291Z"
   },
   {
    "duration": 499,
    "start_time": "2021-12-28T13:39:09.461Z"
   },
   {
    "duration": 173,
    "start_time": "2021-12-28T13:39:09.962Z"
   },
   {
    "duration": 93,
    "start_time": "2021-12-28T13:39:10.137Z"
   },
   {
    "duration": 164,
    "start_time": "2021-12-28T13:39:10.232Z"
   },
   {
    "duration": 574,
    "start_time": "2021-12-28T13:39:10.398Z"
   },
   {
    "duration": 3,
    "start_time": "2021-12-28T13:45:15.622Z"
   },
   {
    "duration": 4,
    "start_time": "2021-12-28T13:45:24.920Z"
   },
   {
    "duration": 5,
    "start_time": "2021-12-28T13:45:40.958Z"
   },
   {
    "duration": 14765,
    "start_time": "2021-12-28T13:45:57.542Z"
   },
   {
    "duration": 4,
    "start_time": "2021-12-28T13:46:27.292Z"
   },
   {
    "duration": 4,
    "start_time": "2021-12-28T13:46:40.122Z"
   },
   {
    "duration": 23901,
    "start_time": "2021-12-28T13:46:42.912Z"
   },
   {
    "duration": 19613,
    "start_time": "2021-12-28T13:48:26.342Z"
   },
   {
    "duration": 5,
    "start_time": "2021-12-28T13:49:02.312Z"
   },
   {
    "duration": 4,
    "start_time": "2021-12-28T13:49:07.380Z"
   },
   {
    "duration": 20087,
    "start_time": "2021-12-28T13:49:09.172Z"
   },
   {
    "duration": 20344,
    "start_time": "2021-12-28T13:51:50.392Z"
   },
   {
    "duration": 21083,
    "start_time": "2021-12-28T13:53:09.663Z"
   },
   {
    "duration": 3,
    "start_time": "2021-12-28T13:54:48.982Z"
   },
   {
    "duration": 11681,
    "start_time": "2021-12-28T13:56:19.152Z"
   },
   {
    "duration": 2,
    "start_time": "2021-12-28T13:58:54.492Z"
   },
   {
    "duration": 20834,
    "start_time": "2021-12-28T13:58:56.064Z"
   },
   {
    "duration": 1119,
    "start_time": "2021-12-28T14:01:04.568Z"
   },
   {
    "duration": 2,
    "start_time": "2021-12-28T14:01:05.689Z"
   },
   {
    "duration": 108,
    "start_time": "2021-12-28T14:01:05.693Z"
   },
   {
    "duration": 16,
    "start_time": "2021-12-28T14:01:05.803Z"
   },
   {
    "duration": 6,
    "start_time": "2021-12-28T14:01:05.820Z"
   },
   {
    "duration": 4,
    "start_time": "2021-12-28T14:01:05.827Z"
   },
   {
    "duration": 12,
    "start_time": "2021-12-28T14:01:05.832Z"
   },
   {
    "duration": 35,
    "start_time": "2021-12-28T14:01:05.845Z"
   },
   {
    "duration": 20,
    "start_time": "2021-12-28T14:01:05.882Z"
   },
   {
    "duration": 27,
    "start_time": "2021-12-28T14:01:05.903Z"
   },
   {
    "duration": 5,
    "start_time": "2021-12-28T14:01:05.931Z"
   },
   {
    "duration": 9,
    "start_time": "2021-12-28T14:01:05.937Z"
   },
   {
    "duration": 7,
    "start_time": "2021-12-28T14:01:05.947Z"
   },
   {
    "duration": 9,
    "start_time": "2021-12-28T14:01:05.955Z"
   },
   {
    "duration": 8,
    "start_time": "2021-12-28T14:01:05.966Z"
   },
   {
    "duration": 3,
    "start_time": "2021-12-28T14:01:05.975Z"
   },
   {
    "duration": 18,
    "start_time": "2021-12-28T14:01:05.980Z"
   },
   {
    "duration": 50,
    "start_time": "2021-12-28T14:01:06.000Z"
   },
   {
    "duration": 14,
    "start_time": "2021-12-28T14:01:06.051Z"
   },
   {
    "duration": 3,
    "start_time": "2021-12-28T14:01:06.067Z"
   },
   {
    "duration": 6,
    "start_time": "2021-12-28T14:01:06.072Z"
   },
   {
    "duration": 5,
    "start_time": "2021-12-28T14:01:06.080Z"
   },
   {
    "duration": 4,
    "start_time": "2021-12-28T14:01:06.087Z"
   },
   {
    "duration": 35,
    "start_time": "2021-12-28T14:01:06.092Z"
   },
   {
    "duration": 3,
    "start_time": "2021-12-28T14:01:06.129Z"
   },
   {
    "duration": 6,
    "start_time": "2021-12-28T14:01:06.133Z"
   },
   {
    "duration": 15,
    "start_time": "2021-12-28T14:01:06.143Z"
   },
   {
    "duration": 18,
    "start_time": "2021-12-28T14:01:06.160Z"
   },
   {
    "duration": 7,
    "start_time": "2021-12-28T14:01:06.180Z"
   },
   {
    "duration": 11917,
    "start_time": "2021-12-28T14:01:06.188Z"
   },
   {
    "duration": 5,
    "start_time": "2021-12-28T14:01:18.107Z"
   },
   {
    "duration": 35557,
    "start_time": "2021-12-28T14:01:18.114Z"
   },
   {
    "duration": 5,
    "start_time": "2021-12-28T14:01:53.673Z"
   },
   {
    "duration": 1561,
    "start_time": "2021-12-28T14:01:53.680Z"
   },
   {
    "duration": 85,
    "start_time": "2021-12-28T14:01:55.243Z"
   },
   {
    "duration": 104,
    "start_time": "2021-12-28T14:01:55.331Z"
   },
   {
    "duration": 3,
    "start_time": "2021-12-28T14:01:55.437Z"
   },
   {
    "duration": 5,
    "start_time": "2021-12-28T14:01:55.441Z"
   },
   {
    "duration": 6,
    "start_time": "2021-12-28T14:01:55.447Z"
   },
   {
    "duration": 5,
    "start_time": "2021-12-28T14:01:55.454Z"
   },
   {
    "duration": 14851,
    "start_time": "2021-12-28T14:01:55.461Z"
   },
   {
    "duration": 48145,
    "start_time": "2021-12-28T14:02:10.314Z"
   },
   {
    "duration": 4,
    "start_time": "2021-12-28T14:02:58.460Z"
   },
   {
    "duration": 12,
    "start_time": "2021-12-28T14:02:58.466Z"
   },
   {
    "duration": 6313,
    "start_time": "2021-12-28T14:02:58.479Z"
   },
   {
    "duration": 6,
    "start_time": "2021-12-28T14:03:04.794Z"
   },
   {
    "duration": 5,
    "start_time": "2021-12-28T14:03:04.801Z"
   },
   {
    "duration": 21458,
    "start_time": "2021-12-28T14:03:04.807Z"
   },
   {
    "duration": 4,
    "start_time": "2021-12-28T14:03:26.267Z"
   },
   {
    "duration": 32,
    "start_time": "2021-12-28T14:03:26.272Z"
   },
   {
    "duration": 165,
    "start_time": "2021-12-28T14:03:26.306Z"
   },
   {
    "duration": 27,
    "start_time": "2021-12-28T14:03:26.472Z"
   },
   {
    "duration": 164,
    "start_time": "2021-12-28T14:03:26.500Z"
   },
   {
    "duration": 28,
    "start_time": "2021-12-28T14:03:26.665Z"
   },
   {
    "duration": 216,
    "start_time": "2021-12-28T14:03:26.695Z"
   },
   {
    "duration": 22,
    "start_time": "2021-12-28T14:03:26.913Z"
   },
   {
    "duration": 153,
    "start_time": "2021-12-28T14:03:26.936Z"
   },
   {
    "duration": 112,
    "start_time": "2021-12-28T14:03:27.091Z"
   },
   {
    "duration": 163,
    "start_time": "2021-12-28T14:03:27.205Z"
   },
   {
    "duration": 358,
    "start_time": "2021-12-28T14:03:27.369Z"
   },
   {
    "duration": 171,
    "start_time": "2021-12-28T14:03:27.728Z"
   },
   {
    "duration": 558,
    "start_time": "2021-12-28T14:03:27.902Z"
   },
   {
    "duration": 512,
    "start_time": "2021-12-28T14:03:28.462Z"
   },
   {
    "duration": 86,
    "start_time": "2021-12-28T14:03:29.027Z"
   },
   {
    "duration": 172,
    "start_time": "2021-12-28T14:03:29.114Z"
   },
   {
    "duration": 4,
    "start_time": "2021-12-28T14:03:29.288Z"
   },
   {
    "duration": 20742,
    "start_time": "2021-12-28T14:03:29.294Z"
   },
   {
    "duration": 529,
    "start_time": "2021-12-28T14:06:54.105Z"
   },
   {
    "duration": 425,
    "start_time": "2021-12-28T14:07:09.682Z"
   },
   {
    "duration": 3,
    "start_time": "2021-12-28T14:09:48.944Z"
   },
   {
    "duration": 972,
    "start_time": "2021-12-28T14:10:18.827Z"
   },
   {
    "duration": 180,
    "start_time": "2021-12-28T14:10:22.196Z"
   },
   {
    "duration": 3,
    "start_time": "2021-12-28T14:10:44.556Z"
   },
   {
    "duration": 95,
    "start_time": "2021-12-28T14:11:07.855Z"
   },
   {
    "duration": 156,
    "start_time": "2021-12-28T14:11:11.397Z"
   },
   {
    "duration": 3,
    "start_time": "2021-12-28T16:34:44.971Z"
   },
   {
    "duration": 794,
    "start_time": "2021-12-28T16:36:16.790Z"
   },
   {
    "duration": 124,
    "start_time": "2021-12-28T16:36:36.131Z"
   },
   {
    "duration": 474,
    "start_time": "2021-12-28T16:36:38.273Z"
   },
   {
    "duration": 24,
    "start_time": "2021-12-28T16:36:54.082Z"
   },
   {
    "duration": 3,
    "start_time": "2021-12-28T16:37:08.692Z"
   },
   {
    "duration": 29,
    "start_time": "2021-12-28T16:37:10.508Z"
   },
   {
    "duration": 4,
    "start_time": "2021-12-28T16:38:00.001Z"
   },
   {
    "duration": 66,
    "start_time": "2021-12-28T16:38:02.102Z"
   },
   {
    "duration": 332,
    "start_time": "2021-12-28T16:39:31.081Z"
   },
   {
    "duration": 361,
    "start_time": "2021-12-28T16:39:40.300Z"
   },
   {
    "duration": 388,
    "start_time": "2021-12-28T16:39:56.596Z"
   },
   {
    "duration": 371,
    "start_time": "2021-12-28T16:41:18.016Z"
   },
   {
    "duration": 37,
    "start_time": "2021-12-28T16:41:35.862Z"
   },
   {
    "duration": 4,
    "start_time": "2021-12-28T16:42:40.130Z"
   },
   {
    "duration": 739,
    "start_time": "2021-12-28T16:42:42.335Z"
   },
   {
    "duration": 84,
    "start_time": "2021-12-28T16:42:45.180Z"
   },
   {
    "duration": 34,
    "start_time": "2021-12-28T16:43:22.272Z"
   },
   {
    "duration": 533,
    "start_time": "2021-12-28T16:44:46.852Z"
   },
   {
    "duration": 81,
    "start_time": "2021-12-28T16:44:49.579Z"
   },
   {
    "duration": 4,
    "start_time": "2021-12-28T16:45:12.352Z"
   },
   {
    "duration": 527,
    "start_time": "2021-12-28T16:45:14.105Z"
   },
   {
    "duration": 29,
    "start_time": "2021-12-28T16:45:16.200Z"
   },
   {
    "duration": 34,
    "start_time": "2021-12-28T16:45:28.786Z"
   },
   {
    "duration": 36,
    "start_time": "2021-12-28T16:45:38.035Z"
   },
   {
    "duration": 29,
    "start_time": "2021-12-28T16:46:37.813Z"
   },
   {
    "duration": 28,
    "start_time": "2021-12-28T16:46:54.683Z"
   },
   {
    "duration": 3,
    "start_time": "2021-12-28T16:48:48.456Z"
   },
   {
    "duration": 33,
    "start_time": "2021-12-28T16:48:51.342Z"
   },
   {
    "duration": 3,
    "start_time": "2021-12-28T16:48:59.622Z"
   },
   {
    "duration": 31,
    "start_time": "2021-12-28T16:49:01.989Z"
   },
   {
    "duration": 2,
    "start_time": "2021-12-28T16:51:13.036Z"
   },
   {
    "duration": 541,
    "start_time": "2021-12-28T17:33:44.154Z"
   },
   {
    "duration": 198,
    "start_time": "2021-12-28T17:33:44.697Z"
   },
   {
    "duration": 425,
    "start_time": "2021-12-28T17:33:44.897Z"
   },
   {
    "duration": 249,
    "start_time": "2021-12-28T17:33:45.327Z"
   },
   {
    "duration": 510,
    "start_time": "2021-12-28T17:33:45.577Z"
   },
   {
    "duration": 172,
    "start_time": "2021-12-28T17:33:46.089Z"
   },
   {
    "duration": 869,
    "start_time": "2021-12-28T17:33:46.262Z"
   },
   {
    "duration": 194,
    "start_time": "2021-12-28T17:33:47.133Z"
   },
   {
    "duration": 104,
    "start_time": "2021-12-28T17:33:47.329Z"
   },
   {
    "duration": 166,
    "start_time": "2021-12-28T17:33:47.435Z"
   },
   {
    "duration": 105,
    "start_time": "2021-12-28T17:33:47.603Z"
   },
   {
    "duration": 172,
    "start_time": "2021-12-28T17:33:47.710Z"
   },
   {
    "duration": 3,
    "start_time": "2021-12-28T17:33:47.884Z"
   },
   {
    "duration": 21411,
    "start_time": "2021-12-28T17:33:47.888Z"
   },
   {
    "duration": 3,
    "start_time": "2021-12-28T17:34:09.300Z"
   },
   {
    "duration": 537,
    "start_time": "2021-12-28T17:34:09.305Z"
   },
   {
    "duration": 31,
    "start_time": "2021-12-28T17:34:09.844Z"
   },
   {
    "duration": 53,
    "start_time": "2021-12-28T17:34:09.877Z"
   },
   {
    "duration": 36,
    "start_time": "2021-12-28T17:34:50.672Z"
   },
   {
    "duration": 4,
    "start_time": "2021-12-28T17:43:49.071Z"
   },
   {
    "duration": 5,
    "start_time": "2021-12-28T17:44:14.724Z"
   },
   {
    "duration": 4,
    "start_time": "2021-12-28T17:44:31.577Z"
   },
   {
    "duration": 4,
    "start_time": "2021-12-28T17:45:11.502Z"
   },
   {
    "duration": 4,
    "start_time": "2021-12-28T17:45:23.003Z"
   },
   {
    "duration": 12355,
    "start_time": "2021-12-28T17:46:20.198Z"
   },
   {
    "duration": 35172,
    "start_time": "2021-12-28T17:49:17.028Z"
   },
   {
    "duration": 1481,
    "start_time": "2021-12-28T17:50:52.654Z"
   },
   {
    "duration": 2,
    "start_time": "2021-12-28T18:09:34.597Z"
   },
   {
    "duration": 10,
    "start_time": "2021-12-28T18:16:22.341Z"
   },
   {
    "duration": 366,
    "start_time": "2021-12-28T18:17:15.323Z"
   },
   {
    "duration": 381,
    "start_time": "2021-12-28T18:17:29.608Z"
   },
   {
    "duration": 5,
    "start_time": "2021-12-28T18:17:49.825Z"
   },
   {
    "duration": 2,
    "start_time": "2021-12-28T18:23:21.205Z"
   },
   {
    "duration": 35,
    "start_time": "2021-12-28T18:45:08.322Z"
   },
   {
    "duration": 597,
    "start_time": "2021-12-28T18:47:10.105Z"
   },
   {
    "duration": 92,
    "start_time": "2021-12-28T18:54:42.093Z"
   },
   {
    "duration": 32,
    "start_time": "2021-12-28T18:54:43.892Z"
   },
   {
    "duration": 4,
    "start_time": "2021-12-28T18:55:43.692Z"
   },
   {
    "duration": 585,
    "start_time": "2021-12-28T18:55:45.803Z"
   },
   {
    "duration": 100,
    "start_time": "2021-12-28T18:55:47.714Z"
   },
   {
    "duration": 35,
    "start_time": "2021-12-28T18:56:16.325Z"
   },
   {
    "duration": 35,
    "start_time": "2021-12-28T18:56:26.972Z"
   },
   {
    "duration": 4,
    "start_time": "2021-12-28T18:56:46.982Z"
   },
   {
    "duration": 522,
    "start_time": "2021-12-28T18:56:48.765Z"
   },
   {
    "duration": 32,
    "start_time": "2021-12-28T18:56:50.604Z"
   },
   {
    "duration": 34,
    "start_time": "2021-12-28T18:57:28.752Z"
   },
   {
    "duration": 50,
    "start_time": "2021-12-28T18:57:31.533Z"
   },
   {
    "duration": 34,
    "start_time": "2021-12-28T18:59:47.813Z"
   },
   {
    "duration": 35,
    "start_time": "2021-12-28T18:59:51.944Z"
   },
   {
    "duration": 96,
    "start_time": "2021-12-28T19:00:13.431Z"
   },
   {
    "duration": 3,
    "start_time": "2021-12-28T19:00:42.163Z"
   },
   {
    "duration": 1144,
    "start_time": "2021-12-28T19:35:58.157Z"
   },
   {
    "duration": 4,
    "start_time": "2021-12-28T19:35:59.303Z"
   },
   {
    "duration": 177,
    "start_time": "2021-12-28T19:35:59.309Z"
   },
   {
    "duration": 16,
    "start_time": "2021-12-28T19:35:59.488Z"
   },
   {
    "duration": 6,
    "start_time": "2021-12-28T19:35:59.505Z"
   },
   {
    "duration": 4,
    "start_time": "2021-12-28T19:35:59.513Z"
   },
   {
    "duration": 10,
    "start_time": "2021-12-28T19:35:59.519Z"
   },
   {
    "duration": 36,
    "start_time": "2021-12-28T19:35:59.530Z"
   },
   {
    "duration": 20,
    "start_time": "2021-12-28T19:35:59.569Z"
   },
   {
    "duration": 6,
    "start_time": "2021-12-28T19:35:59.591Z"
   },
   {
    "duration": 6,
    "start_time": "2021-12-28T19:35:59.598Z"
   },
   {
    "duration": 26,
    "start_time": "2021-12-28T19:35:59.605Z"
   },
   {
    "duration": 11,
    "start_time": "2021-12-28T19:35:59.633Z"
   },
   {
    "duration": 8,
    "start_time": "2021-12-28T19:35:59.645Z"
   },
   {
    "duration": 11,
    "start_time": "2021-12-28T19:35:59.655Z"
   },
   {
    "duration": 7,
    "start_time": "2021-12-28T19:35:59.667Z"
   },
   {
    "duration": 20,
    "start_time": "2021-12-28T19:35:59.676Z"
   },
   {
    "duration": 52,
    "start_time": "2021-12-28T19:35:59.697Z"
   },
   {
    "duration": 15,
    "start_time": "2021-12-28T19:35:59.751Z"
   },
   {
    "duration": 4,
    "start_time": "2021-12-28T19:35:59.768Z"
   },
   {
    "duration": 22,
    "start_time": "2021-12-28T19:35:59.773Z"
   },
   {
    "duration": 31,
    "start_time": "2021-12-28T19:35:59.796Z"
   },
   {
    "duration": 11956,
    "start_time": "2021-12-28T19:35:59.829Z"
   },
   {
    "duration": 12505,
    "start_time": "2021-12-28T19:36:11.787Z"
   },
   {
    "duration": 8,
    "start_time": "2021-12-28T19:36:24.294Z"
   },
   {
    "duration": 35600,
    "start_time": "2021-12-28T19:36:24.303Z"
   },
   {
    "duration": 35456,
    "start_time": "2021-12-28T19:36:59.907Z"
   },
   {
    "duration": 7,
    "start_time": "2021-12-28T19:37:35.366Z"
   },
   {
    "duration": 1363,
    "start_time": "2021-12-28T19:37:35.374Z"
   },
   {
    "duration": 1598,
    "start_time": "2021-12-28T19:37:36.829Z"
   },
   {
    "duration": 92,
    "start_time": "2021-12-28T19:37:38.436Z"
   },
   {
    "duration": 14,
    "start_time": "2021-12-28T19:37:38.530Z"
   },
   {
    "duration": 5,
    "start_time": "2021-12-28T19:37:38.546Z"
   },
   {
    "duration": 16143,
    "start_time": "2021-12-28T19:37:38.552Z"
   },
   {
    "duration": 53365,
    "start_time": "2021-12-28T19:37:54.697Z"
   },
   {
    "duration": 4,
    "start_time": "2021-12-28T19:38:48.063Z"
   },
   {
    "duration": 11,
    "start_time": "2021-12-28T19:38:48.069Z"
   },
   {
    "duration": 4,
    "start_time": "2021-12-28T19:38:48.082Z"
   },
   {
    "duration": 7,
    "start_time": "2021-12-28T19:38:48.088Z"
   },
   {
    "duration": 6274,
    "start_time": "2021-12-28T19:38:48.096Z"
   },
   {
    "duration": 22235,
    "start_time": "2021-12-28T19:38:54.372Z"
   },
   {
    "duration": 37,
    "start_time": "2021-12-28T19:39:16.609Z"
   },
   {
    "duration": 28,
    "start_time": "2021-12-28T19:39:16.647Z"
   },
   {
    "duration": 14,
    "start_time": "2021-12-28T19:39:16.676Z"
   },
   {
    "duration": 540,
    "start_time": "2021-12-28T19:39:16.691Z"
   },
   {
    "duration": 5,
    "start_time": "2021-12-28T19:39:17.232Z"
   },
   {
    "duration": 189,
    "start_time": "2021-12-28T19:39:17.238Z"
   },
   {
    "duration": 510,
    "start_time": "2021-12-28T19:39:17.428Z"
   },
   {
    "duration": 246,
    "start_time": "2021-12-28T19:39:17.939Z"
   },
   {
    "duration": 102,
    "start_time": "2021-12-28T19:39:18.186Z"
   },
   {
    "duration": 167,
    "start_time": "2021-12-28T19:39:18.290Z"
   },
   {
    "duration": 2,
    "start_time": "2021-12-28T19:39:18.459Z"
   },
   {
    "duration": 21172,
    "start_time": "2021-12-28T19:39:18.463Z"
   },
   {
    "duration": 4,
    "start_time": "2021-12-28T19:39:39.638Z"
   },
   {
    "duration": 543,
    "start_time": "2021-12-28T19:39:39.644Z"
   },
   {
    "duration": 42,
    "start_time": "2021-12-28T19:39:40.188Z"
   },
   {
    "duration": 32,
    "start_time": "2021-12-28T19:39:40.232Z"
   },
   {
    "duration": 100,
    "start_time": "2021-12-28T19:39:40.265Z"
   },
   {
    "duration": 29,
    "start_time": "2021-12-28T19:39:40.367Z"
   },
   {
    "duration": 38,
    "start_time": "2021-12-28T19:39:40.398Z"
   },
   {
    "duration": 37,
    "start_time": "2021-12-28T19:41:08.085Z"
   },
   {
    "duration": 13,
    "start_time": "2021-12-28T19:41:34.738Z"
   },
   {
    "duration": 1149,
    "start_time": "2021-12-28T19:43:14.354Z"
   },
   {
    "duration": 2,
    "start_time": "2021-12-28T19:43:15.505Z"
   },
   {
    "duration": 115,
    "start_time": "2021-12-28T19:43:15.509Z"
   },
   {
    "duration": 17,
    "start_time": "2021-12-28T19:43:15.626Z"
   },
   {
    "duration": 4,
    "start_time": "2021-12-28T19:43:15.644Z"
   },
   {
    "duration": 4,
    "start_time": "2021-12-28T19:43:15.649Z"
   },
   {
    "duration": 11,
    "start_time": "2021-12-28T19:43:15.655Z"
   },
   {
    "duration": 42,
    "start_time": "2021-12-28T19:43:15.667Z"
   },
   {
    "duration": 35,
    "start_time": "2021-12-28T19:43:15.711Z"
   },
   {
    "duration": 7,
    "start_time": "2021-12-28T19:43:15.748Z"
   },
   {
    "duration": 7,
    "start_time": "2021-12-28T19:43:15.756Z"
   },
   {
    "duration": 9,
    "start_time": "2021-12-28T19:43:15.764Z"
   },
   {
    "duration": 7,
    "start_time": "2021-12-28T19:43:15.775Z"
   },
   {
    "duration": 8,
    "start_time": "2021-12-28T19:43:15.783Z"
   },
   {
    "duration": 37,
    "start_time": "2021-12-28T19:43:15.793Z"
   },
   {
    "duration": 8,
    "start_time": "2021-12-28T19:43:15.832Z"
   },
   {
    "duration": 23,
    "start_time": "2021-12-28T19:43:15.842Z"
   },
   {
    "duration": 28,
    "start_time": "2021-12-28T19:43:15.867Z"
   },
   {
    "duration": 36,
    "start_time": "2021-12-28T19:43:15.897Z"
   },
   {
    "duration": 5,
    "start_time": "2021-12-28T19:43:15.935Z"
   },
   {
    "duration": 20,
    "start_time": "2021-12-28T19:43:15.941Z"
   },
   {
    "duration": 7,
    "start_time": "2021-12-28T19:43:15.963Z"
   },
   {
    "duration": 11826,
    "start_time": "2021-12-28T19:43:15.971Z"
   },
   {
    "duration": 12181,
    "start_time": "2021-12-28T19:43:27.799Z"
   },
   {
    "duration": 6,
    "start_time": "2021-12-28T19:43:39.982Z"
   },
   {
    "duration": 35968,
    "start_time": "2021-12-28T19:43:39.989Z"
   },
   {
    "duration": 35405,
    "start_time": "2021-12-28T19:44:15.960Z"
   },
   {
    "duration": 5,
    "start_time": "2021-12-28T19:44:51.367Z"
   },
   {
    "duration": 1267,
    "start_time": "2021-12-28T19:44:51.374Z"
   },
   {
    "duration": 1696,
    "start_time": "2021-12-28T19:44:52.643Z"
   },
   {
    "duration": 87,
    "start_time": "2021-12-28T19:44:54.341Z"
   },
   {
    "duration": 115,
    "start_time": "2021-12-28T19:44:54.430Z"
   },
   {
    "duration": 5,
    "start_time": "2021-12-28T19:44:54.547Z"
   },
   {
    "duration": 14954,
    "start_time": "2021-12-28T19:44:54.553Z"
   },
   {
    "duration": 48021,
    "start_time": "2021-12-28T19:45:09.509Z"
   },
   {
    "duration": 3,
    "start_time": "2021-12-28T19:45:57.531Z"
   },
   {
    "duration": 12,
    "start_time": "2021-12-28T19:45:57.536Z"
   },
   {
    "duration": 4,
    "start_time": "2021-12-28T19:45:57.550Z"
   },
   {
    "duration": 6,
    "start_time": "2021-12-28T19:45:57.555Z"
   },
   {
    "duration": 6350,
    "start_time": "2021-12-28T19:45:57.563Z"
   },
   {
    "duration": 22801,
    "start_time": "2021-12-28T19:46:03.915Z"
   },
   {
    "duration": 37,
    "start_time": "2021-12-28T19:46:26.717Z"
   },
   {
    "duration": 32,
    "start_time": "2021-12-28T19:46:26.755Z"
   },
   {
    "duration": 14,
    "start_time": "2021-12-28T19:46:26.788Z"
   },
   {
    "duration": 537,
    "start_time": "2021-12-28T19:46:26.804Z"
   },
   {
    "duration": 4,
    "start_time": "2021-12-28T19:46:27.343Z"
   },
   {
    "duration": 189,
    "start_time": "2021-12-28T19:46:27.348Z"
   },
   {
    "duration": 502,
    "start_time": "2021-12-28T19:46:27.539Z"
   },
   {
    "duration": 228,
    "start_time": "2021-12-28T19:46:28.043Z"
   },
   {
    "duration": 102,
    "start_time": "2021-12-28T19:46:28.272Z"
   },
   {
    "duration": 164,
    "start_time": "2021-12-28T19:46:28.375Z"
   },
   {
    "duration": 3,
    "start_time": "2021-12-28T19:46:28.541Z"
   },
   {
    "duration": 20970,
    "start_time": "2021-12-28T19:46:28.546Z"
   },
   {
    "duration": 9,
    "start_time": "2021-12-28T19:46:49.518Z"
   },
   {
    "duration": 524,
    "start_time": "2021-12-28T19:46:49.529Z"
   },
   {
    "duration": 32,
    "start_time": "2021-12-28T19:46:50.054Z"
   },
   {
    "duration": 56,
    "start_time": "2021-12-28T19:46:50.088Z"
   },
   {
    "duration": 97,
    "start_time": "2021-12-28T19:46:50.146Z"
   },
   {
    "duration": 32,
    "start_time": "2021-12-28T19:46:50.245Z"
   },
   {
    "duration": 15,
    "start_time": "2021-12-28T19:46:50.279Z"
   },
   {
    "duration": 17,
    "start_time": "2021-12-28T19:48:31.436Z"
   },
   {
    "duration": 17,
    "start_time": "2021-12-28T19:49:09.696Z"
   },
   {
    "duration": 18,
    "start_time": "2021-12-28T19:49:23.407Z"
   },
   {
    "duration": 17,
    "start_time": "2021-12-28T19:55:02.596Z"
   },
   {
    "duration": 17,
    "start_time": "2021-12-28T19:55:10.367Z"
   }
  ],
  "kernelspec": {
   "display_name": "Python 3",
   "language": "python",
   "name": "python3"
  },
  "language_info": {
   "codemirror_mode": {
    "name": "ipython",
    "version": 3
   },
   "file_extension": ".py",
   "mimetype": "text/x-python",
   "name": "python",
   "nbconvert_exporter": "python",
   "pygments_lexer": "ipython3",
   "version": "3.8.8"
  },
  "toc": {
   "base_numbering": 1,
   "nav_menu": {},
   "number_sections": true,
   "sideBar": true,
   "skip_h1_title": true,
   "title_cell": "Содержание",
   "title_sidebar": "Contents",
   "toc_cell": true,
   "toc_position": {
    "height": "calc(100% - 180px)",
    "left": "10px",
    "top": "150px",
    "width": "366.391px"
   },
   "toc_section_display": true,
   "toc_window_display": false
  }
 },
 "nbformat": 4,
 "nbformat_minor": 4
}
