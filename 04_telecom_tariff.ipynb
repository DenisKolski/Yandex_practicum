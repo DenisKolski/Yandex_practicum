{
 "cells": [
  {
   "cell_type": "markdown",
   "metadata": {},
   "source": [
    "# Определение перспективного тарифа для телеком-компании"
   ]
  },
  {
   "cell_type": "markdown",
   "metadata": {},
   "source": [
    "В вашем распоряжении данные компании «Мегалайн» — федерального оператора сотовой связи.  Данные представлены за 2018 год.  Клиентам предлагают два тарифных плана: «Смарт» и «Ультра». Чтобы скорректировать рекламный бюджет, коммерческий департамент хочет понять, какой тариф приносит больше денег. Цель проекта - проанализировать поведение клиентов и сделать вывод — какой тариф лучше.\n",
    "По каждому клиенту у нас имеется следующие данные:\n",
    "- описание тарифов «Смарт» и «Ультра»:\n",
    "- ежемесячная плата;\n",
    "- включенные в тариф минуты;\n",
    "- включенные в тариф сообщения;\n",
    "- включенный в тариф трафик передачи данных;\n",
    "- стоимость трафика, минут и сообщений сверх, включенных в тариф;\n",
    "- округление происходит в большую сторону для минут и Гб трафика.\n",
    "- количество сделанных звонков и израсходованных минут разговора по месяцам;\n",
    "- количество отправленных сообщений по месяцам;\n",
    "- объем израсходованного интернет-трафика по месяцам.\n",
    "\n",
    "Таким образом, на основе изучения статистических характеристик ежемесячных расходов абонентов необходимо осуществить выбор из двух тарифных планов, обеспечивающих максимизацию математического ожидания прибыли оператора сотовой связи.\n",
    "\n",
    "\n",
    "Введенные допущения:\n",
    "- стоимость тарифа списывается полностью в первый день пользования тарифом либо в первый день месяца;\n",
    "- стоимость тарифа списывается полностью и не уменьшается в случае если абонент пользовался им меньше месяца;\n",
    "- абоненты не пользуются другими платными услугами кроме озвученных выше;\n",
    "- абоненты не находились в роуминге;\n",
    "- у абонентов это единственный номер, не существует абонентов, которые используют данный номер, например, только для служебных звонков либо, либо, например, в качестве тарифа для умного устройства, требующего выход в интернет;\n",
    "- абоненты не могут уйти к другому оператору или перейти на другой тарифный план кроме представленных двух."
   ]
  },
  {
   "cell_type": "markdown",
   "metadata": {},
   "source": [
    "## Изучение данных из файлов"
   ]
  },
  {
   "cell_type": "code",
   "execution_count": 1,
   "metadata": {},
   "outputs": [],
   "source": [
    "import pandas as pd \n",
    "import numpy as np \n",
    "from math import ceil\n",
    "from scipy import stats as st\n",
    "import matplotlib.pyplot as plt"
   ]
  },
  {
   "cell_type": "code",
   "execution_count": 2,
   "metadata": {},
   "outputs": [],
   "source": [
    "FORMAT='%Y-%m-%d' #формат записи даты"
   ]
  },
  {
   "cell_type": "code",
   "execution_count": 3,
   "metadata": {},
   "outputs": [],
   "source": [
    "df_calls= pd.read_csv('calls.csv')\n",
    "df_internet=pd.read_csv('internet.csv')\n",
    "df_messages=pd.read_csv('messages.csv')\n",
    "df_tariffs=pd.read_csv('tariffs.csv')\n",
    "df_users=pd.read_csv('users.csv')                   "
   ]
  },
  {
   "cell_type": "code",
   "execution_count": 4,
   "metadata": {},
   "outputs": [
    {
     "data": {
      "text/html": [
       "<div>\n",
       "<style scoped>\n",
       "    .dataframe tbody tr th:only-of-type {\n",
       "        vertical-align: middle;\n",
       "    }\n",
       "\n",
       "    .dataframe tbody tr th {\n",
       "        vertical-align: top;\n",
       "    }\n",
       "\n",
       "    .dataframe thead th {\n",
       "        text-align: right;\n",
       "    }\n",
       "</style>\n",
       "<table border=\"1\" class=\"dataframe\">\n",
       "  <thead>\n",
       "    <tr style=\"text-align: right;\">\n",
       "      <th></th>\n",
       "      <th>id</th>\n",
       "      <th>call_date</th>\n",
       "      <th>duration</th>\n",
       "      <th>user_id</th>\n",
       "    </tr>\n",
       "  </thead>\n",
       "  <tbody>\n",
       "    <tr>\n",
       "      <td>0</td>\n",
       "      <td>1000_0</td>\n",
       "      <td>2018-07-25</td>\n",
       "      <td>0.00</td>\n",
       "      <td>1000</td>\n",
       "    </tr>\n",
       "    <tr>\n",
       "      <td>1</td>\n",
       "      <td>1000_1</td>\n",
       "      <td>2018-08-17</td>\n",
       "      <td>0.00</td>\n",
       "      <td>1000</td>\n",
       "    </tr>\n",
       "    <tr>\n",
       "      <td>2</td>\n",
       "      <td>1000_2</td>\n",
       "      <td>2018-06-11</td>\n",
       "      <td>2.85</td>\n",
       "      <td>1000</td>\n",
       "    </tr>\n",
       "    <tr>\n",
       "      <td>3</td>\n",
       "      <td>1000_3</td>\n",
       "      <td>2018-09-21</td>\n",
       "      <td>13.80</td>\n",
       "      <td>1000</td>\n",
       "    </tr>\n",
       "    <tr>\n",
       "      <td>4</td>\n",
       "      <td>1000_4</td>\n",
       "      <td>2018-12-15</td>\n",
       "      <td>5.18</td>\n",
       "      <td>1000</td>\n",
       "    </tr>\n",
       "  </tbody>\n",
       "</table>\n",
       "</div>"
      ],
      "text/plain": [
       "       id   call_date  duration  user_id\n",
       "0  1000_0  2018-07-25      0.00     1000\n",
       "1  1000_1  2018-08-17      0.00     1000\n",
       "2  1000_2  2018-06-11      2.85     1000\n",
       "3  1000_3  2018-09-21     13.80     1000\n",
       "4  1000_4  2018-12-15      5.18     1000"
      ]
     },
     "execution_count": 4,
     "metadata": {},
     "output_type": "execute_result"
    }
   ],
   "source": [
    "df_calls.head()"
   ]
  },
  {
   "cell_type": "code",
   "execution_count": 5,
   "metadata": {},
   "outputs": [
    {
     "data": {
      "text/plain": [
       "39613"
      ]
     },
     "execution_count": 5,
     "metadata": {},
     "output_type": "execute_result"
    }
   ],
   "source": [
    "df_calls[df_calls['duration']==0]['duration'].count()"
   ]
  },
  {
   "cell_type": "code",
   "execution_count": 6,
   "metadata": {},
   "outputs": [
    {
     "data": {
      "text/html": [
       "<div>\n",
       "<style scoped>\n",
       "    .dataframe tbody tr th:only-of-type {\n",
       "        vertical-align: middle;\n",
       "    }\n",
       "\n",
       "    .dataframe tbody tr th {\n",
       "        vertical-align: top;\n",
       "    }\n",
       "\n",
       "    .dataframe thead th {\n",
       "        text-align: right;\n",
       "    }\n",
       "</style>\n",
       "<table border=\"1\" class=\"dataframe\">\n",
       "  <thead>\n",
       "    <tr style=\"text-align: right;\">\n",
       "      <th></th>\n",
       "      <th>Unnamed: 0</th>\n",
       "      <th>id</th>\n",
       "      <th>mb_used</th>\n",
       "      <th>session_date</th>\n",
       "      <th>user_id</th>\n",
       "    </tr>\n",
       "  </thead>\n",
       "  <tbody>\n",
       "    <tr>\n",
       "      <td>118199</td>\n",
       "      <td>118199</td>\n",
       "      <td>1397_6</td>\n",
       "      <td>980.37</td>\n",
       "      <td>2018-12-31</td>\n",
       "      <td>1397</td>\n",
       "    </tr>\n",
       "    <tr>\n",
       "      <td>26033</td>\n",
       "      <td>26033</td>\n",
       "      <td>1089_325</td>\n",
       "      <td>72.61</td>\n",
       "      <td>2018-08-08</td>\n",
       "      <td>1089</td>\n",
       "    </tr>\n",
       "    <tr>\n",
       "      <td>60070</td>\n",
       "      <td>60070</td>\n",
       "      <td>1204_155</td>\n",
       "      <td>532.15</td>\n",
       "      <td>2018-07-13</td>\n",
       "      <td>1204</td>\n",
       "    </tr>\n",
       "    <tr>\n",
       "      <td>21633</td>\n",
       "      <td>21633</td>\n",
       "      <td>1072_356</td>\n",
       "      <td>250.93</td>\n",
       "      <td>2018-08-31</td>\n",
       "      <td>1072</td>\n",
       "    </tr>\n",
       "    <tr>\n",
       "      <td>1115</td>\n",
       "      <td>1115</td>\n",
       "      <td>1005_35</td>\n",
       "      <td>338.08</td>\n",
       "      <td>2018-05-21</td>\n",
       "      <td>1005</td>\n",
       "    </tr>\n",
       "    <tr>\n",
       "      <td>37086</td>\n",
       "      <td>37086</td>\n",
       "      <td>1129_36</td>\n",
       "      <td>759.48</td>\n",
       "      <td>2018-12-17</td>\n",
       "      <td>1129</td>\n",
       "    </tr>\n",
       "    <tr>\n",
       "      <td>98765</td>\n",
       "      <td>98765</td>\n",
       "      <td>1331_289</td>\n",
       "      <td>690.51</td>\n",
       "      <td>2018-08-15</td>\n",
       "      <td>1331</td>\n",
       "    </tr>\n",
       "    <tr>\n",
       "      <td>36653</td>\n",
       "      <td>36653</td>\n",
       "      <td>1127_3</td>\n",
       "      <td>0.00</td>\n",
       "      <td>2018-10-19</td>\n",
       "      <td>1127</td>\n",
       "    </tr>\n",
       "    <tr>\n",
       "      <td>99651</td>\n",
       "      <td>99651</td>\n",
       "      <td>1334_57</td>\n",
       "      <td>0.00</td>\n",
       "      <td>2018-12-30</td>\n",
       "      <td>1334</td>\n",
       "    </tr>\n",
       "    <tr>\n",
       "      <td>140041</td>\n",
       "      <td>140041</td>\n",
       "      <td>1470_63</td>\n",
       "      <td>304.23</td>\n",
       "      <td>2018-12-29</td>\n",
       "      <td>1470</td>\n",
       "    </tr>\n",
       "  </tbody>\n",
       "</table>\n",
       "</div>"
      ],
      "text/plain": [
       "        Unnamed: 0        id  mb_used session_date  user_id\n",
       "118199      118199    1397_6   980.37   2018-12-31     1397\n",
       "26033        26033  1089_325    72.61   2018-08-08     1089\n",
       "60070        60070  1204_155   532.15   2018-07-13     1204\n",
       "21633        21633  1072_356   250.93   2018-08-31     1072\n",
       "1115          1115   1005_35   338.08   2018-05-21     1005\n",
       "37086        37086   1129_36   759.48   2018-12-17     1129\n",
       "98765        98765  1331_289   690.51   2018-08-15     1331\n",
       "36653        36653    1127_3     0.00   2018-10-19     1127\n",
       "99651        99651   1334_57     0.00   2018-12-30     1334\n",
       "140041      140041   1470_63   304.23   2018-12-29     1470"
      ]
     },
     "execution_count": 6,
     "metadata": {},
     "output_type": "execute_result"
    }
   ],
   "source": [
    "df_internet.sample(n=10)"
   ]
  },
  {
   "cell_type": "code",
   "execution_count": 7,
   "metadata": {},
   "outputs": [
    {
     "data": {
      "text/plain": [
       "19598"
      ]
     },
     "execution_count": 7,
     "metadata": {},
     "output_type": "execute_result"
    }
   ],
   "source": [
    "df_internet[df_internet['mb_used']==0]['mb_used'].count()"
   ]
  },
  {
   "cell_type": "code",
   "execution_count": 8,
   "metadata": {},
   "outputs": [
    {
     "data": {
      "text/html": [
       "<div>\n",
       "<style scoped>\n",
       "    .dataframe tbody tr th:only-of-type {\n",
       "        vertical-align: middle;\n",
       "    }\n",
       "\n",
       "    .dataframe tbody tr th {\n",
       "        vertical-align: top;\n",
       "    }\n",
       "\n",
       "    .dataframe thead th {\n",
       "        text-align: right;\n",
       "    }\n",
       "</style>\n",
       "<table border=\"1\" class=\"dataframe\">\n",
       "  <thead>\n",
       "    <tr style=\"text-align: right;\">\n",
       "      <th></th>\n",
       "      <th>id</th>\n",
       "      <th>message_date</th>\n",
       "      <th>user_id</th>\n",
       "    </tr>\n",
       "  </thead>\n",
       "  <tbody>\n",
       "    <tr>\n",
       "      <td>0</td>\n",
       "      <td>1000_0</td>\n",
       "      <td>2018-06-27</td>\n",
       "      <td>1000</td>\n",
       "    </tr>\n",
       "    <tr>\n",
       "      <td>1</td>\n",
       "      <td>1000_1</td>\n",
       "      <td>2018-10-08</td>\n",
       "      <td>1000</td>\n",
       "    </tr>\n",
       "    <tr>\n",
       "      <td>2</td>\n",
       "      <td>1000_2</td>\n",
       "      <td>2018-08-04</td>\n",
       "      <td>1000</td>\n",
       "    </tr>\n",
       "    <tr>\n",
       "      <td>3</td>\n",
       "      <td>1000_3</td>\n",
       "      <td>2018-06-16</td>\n",
       "      <td>1000</td>\n",
       "    </tr>\n",
       "    <tr>\n",
       "      <td>4</td>\n",
       "      <td>1000_4</td>\n",
       "      <td>2018-12-05</td>\n",
       "      <td>1000</td>\n",
       "    </tr>\n",
       "  </tbody>\n",
       "</table>\n",
       "</div>"
      ],
      "text/plain": [
       "       id message_date  user_id\n",
       "0  1000_0   2018-06-27     1000\n",
       "1  1000_1   2018-10-08     1000\n",
       "2  1000_2   2018-08-04     1000\n",
       "3  1000_3   2018-06-16     1000\n",
       "4  1000_4   2018-12-05     1000"
      ]
     },
     "execution_count": 8,
     "metadata": {},
     "output_type": "execute_result"
    }
   ],
   "source": [
    "df_messages.head()"
   ]
  },
  {
   "cell_type": "code",
   "execution_count": 9,
   "metadata": {},
   "outputs": [
    {
     "data": {
      "text/html": [
       "<div>\n",
       "<style scoped>\n",
       "    .dataframe tbody tr th:only-of-type {\n",
       "        vertical-align: middle;\n",
       "    }\n",
       "\n",
       "    .dataframe tbody tr th {\n",
       "        vertical-align: top;\n",
       "    }\n",
       "\n",
       "    .dataframe thead th {\n",
       "        text-align: right;\n",
       "    }\n",
       "</style>\n",
       "<table border=\"1\" class=\"dataframe\">\n",
       "  <thead>\n",
       "    <tr style=\"text-align: right;\">\n",
       "      <th></th>\n",
       "      <th>messages_included</th>\n",
       "      <th>mb_per_month_included</th>\n",
       "      <th>minutes_included</th>\n",
       "      <th>rub_monthly_fee</th>\n",
       "      <th>rub_per_gb</th>\n",
       "      <th>rub_per_message</th>\n",
       "      <th>rub_per_minute</th>\n",
       "      <th>tariff_name</th>\n",
       "    </tr>\n",
       "  </thead>\n",
       "  <tbody>\n",
       "    <tr>\n",
       "      <td>0</td>\n",
       "      <td>50</td>\n",
       "      <td>15360</td>\n",
       "      <td>500</td>\n",
       "      <td>550</td>\n",
       "      <td>200</td>\n",
       "      <td>3</td>\n",
       "      <td>3</td>\n",
       "      <td>smart</td>\n",
       "    </tr>\n",
       "    <tr>\n",
       "      <td>1</td>\n",
       "      <td>1000</td>\n",
       "      <td>30720</td>\n",
       "      <td>3000</td>\n",
       "      <td>1950</td>\n",
       "      <td>150</td>\n",
       "      <td>1</td>\n",
       "      <td>1</td>\n",
       "      <td>ultra</td>\n",
       "    </tr>\n",
       "  </tbody>\n",
       "</table>\n",
       "</div>"
      ],
      "text/plain": [
       "   messages_included  mb_per_month_included  minutes_included  \\\n",
       "0                 50                  15360               500   \n",
       "1               1000                  30720              3000   \n",
       "\n",
       "   rub_monthly_fee  rub_per_gb  rub_per_message  rub_per_minute tariff_name  \n",
       "0              550         200                3               3       smart  \n",
       "1             1950         150                1               1       ultra  "
      ]
     },
     "execution_count": 9,
     "metadata": {},
     "output_type": "execute_result"
    }
   ],
   "source": [
    "df_tariffs"
   ]
  },
  {
   "cell_type": "code",
   "execution_count": 10,
   "metadata": {},
   "outputs": [
    {
     "data": {
      "text/html": [
       "<div>\n",
       "<style scoped>\n",
       "    .dataframe tbody tr th:only-of-type {\n",
       "        vertical-align: middle;\n",
       "    }\n",
       "\n",
       "    .dataframe tbody tr th {\n",
       "        vertical-align: top;\n",
       "    }\n",
       "\n",
       "    .dataframe thead th {\n",
       "        text-align: right;\n",
       "    }\n",
       "</style>\n",
       "<table border=\"1\" class=\"dataframe\">\n",
       "  <thead>\n",
       "    <tr style=\"text-align: right;\">\n",
       "      <th></th>\n",
       "      <th>user_id</th>\n",
       "      <th>age</th>\n",
       "      <th>churn_date</th>\n",
       "      <th>city</th>\n",
       "      <th>first_name</th>\n",
       "      <th>last_name</th>\n",
       "      <th>reg_date</th>\n",
       "      <th>tariff</th>\n",
       "    </tr>\n",
       "  </thead>\n",
       "  <tbody>\n",
       "    <tr>\n",
       "      <td>0</td>\n",
       "      <td>1000</td>\n",
       "      <td>52</td>\n",
       "      <td>NaN</td>\n",
       "      <td>Краснодар</td>\n",
       "      <td>Рафаил</td>\n",
       "      <td>Верещагин</td>\n",
       "      <td>2018-05-25</td>\n",
       "      <td>ultra</td>\n",
       "    </tr>\n",
       "    <tr>\n",
       "      <td>1</td>\n",
       "      <td>1001</td>\n",
       "      <td>41</td>\n",
       "      <td>NaN</td>\n",
       "      <td>Москва</td>\n",
       "      <td>Иван</td>\n",
       "      <td>Ежов</td>\n",
       "      <td>2018-11-01</td>\n",
       "      <td>smart</td>\n",
       "    </tr>\n",
       "    <tr>\n",
       "      <td>2</td>\n",
       "      <td>1002</td>\n",
       "      <td>59</td>\n",
       "      <td>NaN</td>\n",
       "      <td>Стерлитамак</td>\n",
       "      <td>Евгений</td>\n",
       "      <td>Абрамович</td>\n",
       "      <td>2018-06-17</td>\n",
       "      <td>smart</td>\n",
       "    </tr>\n",
       "    <tr>\n",
       "      <td>3</td>\n",
       "      <td>1003</td>\n",
       "      <td>23</td>\n",
       "      <td>NaN</td>\n",
       "      <td>Москва</td>\n",
       "      <td>Белла</td>\n",
       "      <td>Белякова</td>\n",
       "      <td>2018-08-17</td>\n",
       "      <td>ultra</td>\n",
       "    </tr>\n",
       "    <tr>\n",
       "      <td>4</td>\n",
       "      <td>1004</td>\n",
       "      <td>68</td>\n",
       "      <td>NaN</td>\n",
       "      <td>Новокузнецк</td>\n",
       "      <td>Татьяна</td>\n",
       "      <td>Авдеенко</td>\n",
       "      <td>2018-05-14</td>\n",
       "      <td>ultra</td>\n",
       "    </tr>\n",
       "  </tbody>\n",
       "</table>\n",
       "</div>"
      ],
      "text/plain": [
       "   user_id  age churn_date         city first_name  last_name    reg_date  \\\n",
       "0     1000   52        NaN    Краснодар     Рафаил  Верещагин  2018-05-25   \n",
       "1     1001   41        NaN       Москва       Иван       Ежов  2018-11-01   \n",
       "2     1002   59        NaN  Стерлитамак    Евгений  Абрамович  2018-06-17   \n",
       "3     1003   23        NaN       Москва      Белла   Белякова  2018-08-17   \n",
       "4     1004   68        NaN  Новокузнецк    Татьяна   Авдеенко  2018-05-14   \n",
       "\n",
       "  tariff  \n",
       "0  ultra  \n",
       "1  smart  \n",
       "2  smart  \n",
       "3  ultra  \n",
       "4  ultra  "
      ]
     },
     "execution_count": 10,
     "metadata": {},
     "output_type": "execute_result"
    }
   ],
   "source": [
    "df_users.head()\n"
   ]
  },
  {
   "cell_type": "code",
   "execution_count": 11,
   "metadata": {},
   "outputs": [
    {
     "data": {
      "text/plain": [
       "user_id         0\n",
       "age             0\n",
       "churn_date    462\n",
       "city            0\n",
       "first_name      0\n",
       "last_name       0\n",
       "reg_date        0\n",
       "tariff          0\n",
       "dtype: int64"
      ]
     },
     "execution_count": 11,
     "metadata": {},
     "output_type": "execute_result"
    }
   ],
   "source": [
    "df_users.isna().sum()"
   ]
  },
  {
   "cell_type": "code",
   "execution_count": 12,
   "metadata": {},
   "outputs": [],
   "source": [
    "df_tariffs['mb_per_month_included']=df_tariffs['mb_per_month_included']/1024"
   ]
  },
  {
   "cell_type": "code",
   "execution_count": 13,
   "metadata": {},
   "outputs": [],
   "source": [
    "df_messages=df_messages.drop_duplicates()"
   ]
  },
  {
   "cell_type": "code",
   "execution_count": 14,
   "metadata": {},
   "outputs": [],
   "source": [
    "df_calls=df_calls[df_calls['duration']!=0]"
   ]
  },
  {
   "cell_type": "code",
   "execution_count": 15,
   "metadata": {},
   "outputs": [],
   "source": [
    "df_internet=df_internet[df_internet['mb_used']!=0]"
   ]
  },
  {
   "cell_type": "code",
   "execution_count": 16,
   "metadata": {},
   "outputs": [
    {
     "data": {
      "text/plain": [
       "count    162994.000000\n",
       "mean          8.397794\n",
       "std           5.353022\n",
       "min           0.010000\n",
       "25%           4.170000\n",
       "50%           7.740000\n",
       "75%          11.850000\n",
       "max          38.000000\n",
       "Name: duration, dtype: float64"
      ]
     },
     "execution_count": 16,
     "metadata": {},
     "output_type": "execute_result"
    }
   ],
   "source": [
    "df_calls['duration'].describe()"
   ]
  },
  {
   "cell_type": "markdown",
   "metadata": {},
   "source": [
    "### Выводы"
   ]
  },
  {
   "cell_type": "markdown",
   "metadata": {},
   "source": [
    "- В данных о звонках имеется много нулевых звонков, т.е. абоненты не дозвонились. Стоимость таких звонков равно 0, поэтому от них можно избавиться в рамках решения данной задачи.\n",
    "- В данных о выходе  в интернет имеется много нулевых значений для объема данных, поэтому от них можно избавиться в рамках решения данной задачи.\n",
    "- Среди данных о пользователях имеется 38 абонентов, которые перестали пользоваться тарифом. Что с этим делать, решим в ходе дальнейшей обработки данных.\n"
   ]
  },
  {
   "cell_type": "markdown",
   "metadata": {},
   "source": [
    "**Убрал про возраст**"
   ]
  },
  {
   "cell_type": "markdown",
   "metadata": {},
   "source": [
    "## Предобработка данных"
   ]
  },
  {
   "cell_type": "markdown",
   "metadata": {},
   "source": [
    "Округлили все минуты ввсерх до смерживания как указано в тарифе"
   ]
  },
  {
   "cell_type": "code",
   "execution_count": 17,
   "metadata": {},
   "outputs": [],
   "source": [
    "df_calls['duration']=pd.to_numeric(df_calls['duration'])\n",
    "df_calls['duration']=df_calls['duration'].fillna(-2)\n",
    "df_calls['duration']=df_calls['duration'].apply(ceil)\n",
    "df_calls['duration']=df_calls['duration'].replace(-2,0)"
   ]
  },
  {
   "cell_type": "markdown",
   "metadata": {},
   "source": [
    "Округлили все Мб ввсерх до смерживания как указано в тарифе"
   ]
  },
  {
   "cell_type": "code",
   "execution_count": 18,
   "metadata": {},
   "outputs": [],
   "source": [
    "df_internet['mb_used']=pd.to_numeric(df_internet['mb_used'])\n",
    "df_internet['mb_used']=df_internet['mb_used'].fillna(-2)\n",
    "df_internet['mb_used']=df_internet['mb_used'].apply(ceil)\n",
    "df_internet['mb_used']=df_internet['mb_used'].replace(-2,0)"
   ]
  },
  {
   "cell_type": "markdown",
   "metadata": {},
   "source": [
    "Преобразования к формату даты"
   ]
  },
  {
   "cell_type": "code",
   "execution_count": 19,
   "metadata": {},
   "outputs": [],
   "source": [
    "df_calls['call_date'] = pd.to_datetime(df_calls['call_date'] ,format=FORMAT)\n",
    "df_internet['session_date']=pd.to_datetime(df_internet['session_date'] ,format=FORMAT)\n",
    "df_messages['message_date']=pd.to_datetime(df_messages['message_date'] ,format=FORMAT)\n",
    "df_users['reg_date'] = pd.to_datetime(df_users['reg_date'] ,format=FORMAT)\n",
    "df_users['churn_date'] = pd.to_datetime(df_users['churn_date'] ,format=FORMAT)"
   ]
  },
  {
   "cell_type": "markdown",
   "metadata": {},
   "source": [
    "Добавление нового столбца с месяцем"
   ]
  },
  {
   "cell_type": "code",
   "execution_count": 20,
   "metadata": {},
   "outputs": [],
   "source": [
    "df_calls['month']=df_calls['call_date'].dt.month\n",
    "df_internet['month']=df_internet['session_date'].dt.month\n",
    "df_messages['month']=df_messages['message_date'].dt.month\n",
    "df_users['month_reg'] = df_users['reg_date'].dt.month # заменили дату только на месяц\n",
    "df_users['month_churn'] = df_users['churn_date'].dt.month # заменили дату только на месяц"
   ]
  },
  {
   "cell_type": "code",
   "execution_count": 21,
   "metadata": {},
   "outputs": [],
   "source": [
    "df_users['month_reg'] =df_users['month_reg'].fillna(-1) # заменили пропуски в месяцах регистрации абонентов\n",
    "df_users['month_churn'] = df_users['month_churn'].fillna(13)# заменили пропуски в месяце прекращения пользования тарифом"
   ]
  },
  {
   "cell_type": "code",
   "execution_count": 22,
   "metadata": {},
   "outputs": [],
   "source": [
    "df_calls=df_calls.pivot_table(index='user_id',columns='month', values='duration', aggfunc='sum' )"
   ]
  },
  {
   "cell_type": "code",
   "execution_count": 23,
   "metadata": {},
   "outputs": [],
   "source": [
    "df_internet=df_internet.pivot_table(index='user_id',columns='month', values='mb_used', aggfunc='sum' )"
   ]
  },
  {
   "cell_type": "code",
   "execution_count": 24,
   "metadata": {},
   "outputs": [],
   "source": [
    "df_messages = df_messages.drop('message_date', 1) # теперь этот столбец нам не нужен\n",
    "df_messages=df_messages.pivot_table(index='user_id',columns='month', aggfunc='count' )"
   ]
  },
  {
   "cell_type": "markdown",
   "metadata": {},
   "source": [
    "Создали общую таблицы со всеми нужными данными"
   ]
  },
  {
   "cell_type": "code",
   "execution_count": 25,
   "metadata": {},
   "outputs": [
    {
     "name": "stderr",
     "output_type": "stream",
     "text": [
      "/opt/conda/lib/python3.7/site-packages/pandas/core/reshape/merge.py:617: UserWarning: merging between different levels can give an unintended result (1 levels on the left, 2 on the right)\n",
      "  warnings.warn(msg, UserWarning)\n"
     ]
    }
   ],
   "source": [
    "df=df_users.merge(df_calls, on='user_id', how='outer').\\\n",
    "            merge(df_internet, on='user_id', how='outer').\\\n",
    "            merge(df_messages, on='user_id', how='outer')"
   ]
  },
  {
   "cell_type": "markdown",
   "metadata": {},
   "source": [
    "Переименовали колонки, избавились от мульти-индексов"
   ]
  },
  {
   "cell_type": "code",
   "execution_count": 26,
   "metadata": {},
   "outputs": [],
   "source": [
    "df.columns=['user_id',         'age',  'churn_date',        'city',\n",
    "        'first_name',   'last_name',    'reg_date',      'tariff',\n",
    "         'month_reg', 'month_churn',\n",
    "            '1_cls','2_cls','3_cls', '4_cls','5_cls','6_cls',\n",
    "            '7_cls','8_cls','9_cls', '10_cls','11_cls','12_cls',\n",
    "            '1_int','2_int','3_int',  '4_int','5_int',  '6_int',  \n",
    "            '7_int','8_int','9_int',  '10_int','11_int','12_int',\n",
    "            '1_msg','2_msg','3_msg',  '4_msg', '5_msg','6_msg', \n",
    "            '7_msg','8_msg','9_msg',  '10_msg','11_msg','12_msg']"
   ]
  },
  {
   "cell_type": "markdown",
   "metadata": {},
   "source": [
    "- Меняем тип всех столбцов с временем разговора на числовой\n",
    "- заменяем все пропуски на -2 чтобы преобразовать вверх все минуты\n",
    "- Преобразовываем вверх все минуты\n",
    "- Меняем -2 снова на 0."
   ]
  },
  {
   "cell_type": "code",
   "execution_count": 27,
   "metadata": {},
   "outputs": [],
   "source": [
    "temp_list=['1_cls', '2_cls', '3_cls',  '4_cls',  '5_cls', '6_cls',  '7_cls','8_cls',  '9_cls',  '10_cls',  '11_cls', '12_cls']\n",
    "for i in temp_list:\n",
    "    df[i]=pd.to_numeric(df[i])\n",
    "    df[i]=df[i].fillna(-2)\n",
    "    df[i]=df[i].apply(ceil)\n",
    "    df[i]=df[i].replace(-2,0)\n",
    "    "
   ]
  },
  {
   "cell_type": "markdown",
   "metadata": {},
   "source": [
    "- Аналогично как для минут, но еще преобразуем в Гб"
   ]
  },
  {
   "cell_type": "code",
   "execution_count": 28,
   "metadata": {},
   "outputs": [],
   "source": [
    "temp_list=['1_int','2_int','3_int','4_int','5_int','6_int','7_int','8_int','9_int','10_int','11_int','12_int']\n",
    "for i in temp_list:\n",
    "    df[i]=pd.to_numeric(df[i])\n",
    "    df[i]=df[i].fillna(-2)\n",
    "    df[i]=(df[i]/1000).apply(ceil)\n",
    "    df[i]=df[i].replace(-2,0)"
   ]
  },
  {
   "cell_type": "code",
   "execution_count": 29,
   "metadata": {},
   "outputs": [],
   "source": [
    "temp_list=['1_msg','2_msg','3_msg','4_msg', '5_msg','6_msg','7_msg','8_msg','9_msg',   '10_msg',   '11_msg',   '12_msg']\n",
    "for i in temp_list:\n",
    "    df[i]=df[i].fillna(-2)\n",
    "    df[i]=(df[i]).apply(int)\n",
    "    df[i]=df[i].replace(-2,0)"
   ]
  },
  {
   "cell_type": "markdown",
   "metadata": {},
   "source": [
    "### Выводы"
   ]
  },
  {
   "cell_type": "markdown",
   "metadata": {},
   "source": [
    "- Удалили дубликаты в сообщениях. \n",
    "- Привели Мб к Гб в таблице с описанием тарифа.\n",
    "- Удалили нулевые звонки и нулевой трафик передачи данных. Так как они, обычно, не тарифицируются.\n",
    "- Перевели столбец с датами в исходных таблицах к типам Дата-время.\n",
    "- Добавили столбец с месяцев в каждую исходную таблицу для последующего объединения.\n",
    "- Заменили пропуск в месяце регистрации абонента на -1, а в месяце прекращения пользования тарифом на 13, чтобы удобно было сравнивать.\n",
    "- Удалили из таблицы с сообщениями столбец с датой отправки сообщения чтобы не загромождать общую таблицу.\n",
    "- Получили сводные таблицы по месяцам с информацией об общем расходе за месяц минут, сообщений и интернет трафика.\n",
    "- Объединили все DataSets в один - получился очень большой, но как-то справимся\n",
    "- Поменяли название столбцов и избавились от мультииндексов.\n",
    "- Округлили минуты за месяц до целых минут, а трафик до целых Гб.\n",
    "- Привели минуты, Гб и сообщения к целочисленному виду.\n",
    "- Заменили пропуски в сообщениях, звонках и передачи данных за месяц на 0. Зачастую это связано с тем что абонент еще не пользовался тарифом."
   ]
  },
  {
   "cell_type": "markdown",
   "metadata": {},
   "source": [
    "- Предыдущий ревьюр говорил что много комментариев к коду плохо, наверное, надо мне найти золовую середину)\n",
    "- добавил округление для минут вверх до объединения\n",
    "- ячейка № 25,    df[i]=(df[i]/1000).apply(ceil)"
   ]
  },
  {
   "cell_type": "markdown",
   "metadata": {},
   "source": [
    "## Расчёты и добавление результатов в таблицу"
   ]
  },
  {
   "cell_type": "code",
   "execution_count": 30,
   "metadata": {},
   "outputs": [],
   "source": [
    "#создание столбцов под стоимость за месяц\n",
    "temp_list_price=['1_price','2_price','3_price','4_price', '5_price','6_price',\n",
    "           '7_price','8_price','9_price',   '10_price',   '11_price',   '12_price']\n",
    "for i in temp_list_price:\n",
    "    df[i]=''\n"
   ]
  },
  {
   "cell_type": "code",
   "execution_count": 31,
   "metadata": {},
   "outputs": [],
   "source": [
    "# списки для хранения названия столбцов с минутами, интрнет трафиком, сообщениямми и оплатой за месяц\n",
    "temp_list_cls=['1_cls', '2_cls', '3_cls',  '4_cls',  '5_cls', '6_cls',  '7_cls','8_cls',  '9_cls',  '10_cls',  '11_cls', '12_cls']\n",
    "temp_list_int=['1_int','2_int','3_int','4_int','5_int','6_int','7_int','8_int','9_int','10_int','11_int','12_int']\n",
    "temp_list_msg=['1_msg','2_msg','3_msg','4_msg', '5_msg','6_msg','7_msg','8_msg','9_msg',   '10_msg',   '11_msg',   '12_msg']\n",
    "temp_list_price=['1_price','2_price','3_price','4_price', '5_price','6_price',\n",
    "           '7_price','8_price','9_price',   '10_price',   '11_price',   '12_price']"
   ]
  },
  {
   "cell_type": "code",
   "execution_count": 32,
   "metadata": {},
   "outputs": [],
   "source": [
    "for i in range(len(df)): #счетчик для строк \n",
    "    for count in range(12): # счетчик для месяцев\n",
    "        add_cls=0 #переменная для стоимости дополнительных минут сверх тарифа\n",
    "        add_int=0 #переменная для стоимости дополнительного интернет\n",
    "        add_msg=0 #переменная для стоимости дополнительных сообщений\n",
    "        price=0 # переменная для хранения базовой стоимости по тарифу\n",
    "        if df.loc[i, 'tariff']=='ultra':\n",
    "            j=1 #номер строки в df_tariffs\n",
    "            \n",
    "            #Расчет стоимости дополнительных минут свехрх тарифа\n",
    "            if df_tariffs.loc[j, 'minutes_included']<df.loc[i, temp_list_cls[count]]:\n",
    "                add_cls=(df.loc[i, temp_list_cls[count]]-df_tariffs.loc[j, 'minutes_included'])*df_tariffs.loc[j, 'rub_per_minute']\n",
    "            #Расчет стоимости дополнительного интернета сверх тарифа\n",
    "            if df_tariffs.loc[j, 'mb_per_month_included']<df.loc[i, temp_list_int[count]]:\n",
    "                add_int=(df.loc[i, temp_list_int[count]]-df_tariffs.loc[j, 'mb_per_month_included'])*df_tariffs.loc[j, 'rub_per_gb']    \n",
    "            #Расчет стоимости дополнительных сообщений\n",
    "            if df_tariffs.loc[j, 'messages_included']<df.loc[i, temp_list_msg[count]]:\n",
    "                add_msg=(df.loc[i, temp_list_msg[count]]-df_tariffs.loc[j, 'messages_included'])*df_tariffs.loc[j, 'rub_per_message']\n",
    "            #Базовая стоимость по тарифу\n",
    "            price=df_tariffs.loc[j, 'rub_monthly_fee']              \n",
    "        elif df.loc[i, 'tariff']=='smart':\n",
    "            j=0 #номер строки в DataSet df_tariffs\n",
    "            if df_tariffs.loc[j, 'minutes_included']<df.loc[i, temp_list_cls[count]]:\n",
    "                add_cls=(df.loc[i, temp_list_cls[count]]-df_tariffs.loc[j, 'minutes_included'])*df_tariffs.loc[j, 'rub_per_minute']\n",
    "            \n",
    "            if df_tariffs.loc[j, 'mb_per_month_included']<df.loc[i, temp_list_int[count]]:\n",
    "                add_int=(df.loc[i, temp_list_int[count]]-df_tariffs.loc[j, 'mb_per_month_included'])*df_tariffs.loc[j, 'rub_per_gb']    \n",
    "            \n",
    "            if df_tariffs.loc[j, 'messages_included']<df.loc[i, temp_list_msg[count]]:\n",
    "                add_msg=(df.loc[i, temp_list_msg[count]]-df_tariffs.loc[j, 'messages_included'])*df_tariffs.loc[j, 'rub_per_message']\n",
    "            price=df_tariffs.loc[j, 'rub_monthly_fee']    \n",
    "        df.loc[i, temp_list_price[count]]=price+add_cls+add_int+add_msg"
   ]
  },
  {
   "cell_type": "code",
   "execution_count": 33,
   "metadata": {},
   "outputs": [],
   "source": [
    "# заменяем на NaN все ячейки дне абонеты еще не пользовались или уже не пользовались тарифом       \n",
    "for i in range(len(df)):#строки\n",
    "    for count in range(12):# месеца\n",
    "        if (count+1<df_users.loc[i, 'month_reg']) or (count+1>df_users.loc[i, 'month_churn']):\n",
    "            df.loc[i, temp_list_price[count]]=np.nan\n",
    "            df.loc[i, temp_list_cls[count]]=np.nan\n",
    "            df.loc[i, temp_list_int[count]]=np.nan\n",
    "            df.loc[i, temp_list_msg[count]]=np.nan\n",
    "# +1 - месяцы начинаются с первого, а элементы в списке с нулевого"
   ]
  },
  {
   "cell_type": "markdown",
   "metadata": {},
   "source": [
    "### Выводы"
   ]
  },
  {
   "cell_type": "markdown",
   "metadata": {},
   "source": [
    "- Добавили пустые столбцы под стоимость услуг связи за месяц\n",
    "- Рассчитали стоимость услуг связи по всем абонентам и добавили в соответствующие столбцы.\n",
    "- Земенили месяцы в которые абоненту уже или еще не обслуживались на NaN для расчета статистических характеристик для стоимости, звонков, минут  и сообщений."
   ]
  },
  {
   "cell_type": "markdown",
   "metadata": {},
   "source": [
    "## Исследовательский анализ данных\n"
   ]
  },
  {
   "cell_type": "markdown",
   "metadata": {},
   "source": [
    "### Расчет услуг по тарифу \"Смарт\""
   ]
  },
  {
   "cell_type": "code",
   "execution_count": 34,
   "metadata": {},
   "outputs": [
    {
     "data": {
      "text/plain": [
       "Text(0.5, 0, 'Количество минут')"
      ]
     },
     "execution_count": 34,
     "metadata": {},
     "output_type": "execute_result"
    },
    {
     "data": {
      "image/png": "[encoded data removed]",
      "text/plain": [
       "<Figure size 864x576 with 1 Axes>"
      ]
     },
     "metadata": {
      "needs_background": "light"
     },
     "output_type": "display_data"
    }
   ],
   "source": [
    "ax=df[df['tariff']=='smart']['12_cls'].plot(kind='hist',range=(0,1200), bins=30, figsize=(12,8), grid=True,  title='Гистограмма количества звонков абонентов тарифа Смарт за декабрь 2018 года')\n",
    "ax.set_ylabel(\"Количество абонентов\")\n",
    "ax.set_xlabel(\"Количество минут\")"
   ]
  },
  {
   "cell_type": "code",
   "execution_count": 35,
   "metadata": {},
   "outputs": [
    {
     "data": {
      "text/plain": [
       "Text(0.5, 0, 'Количество минут')"
      ]
     },
     "execution_count": 35,
     "metadata": {},
     "output_type": "execute_result"
    },
    {
     "data": {
      "image/png": "[encoded data removed]",
      "text/plain": [
       "<Figure size 864x576 with 1 Axes>"
      ]
     },
     "metadata": {
      "needs_background": "light"
     },
     "output_type": "display_data"
    }
   ],
   "source": [
    "ax=df[df['tariff']=='ultra']['12_cls'].plot(kind='hist',range=(0,1300), bins=20, figsize=(12,8), grid=True,  title='Гистограмма количества звонков абонентов тарифа Ультра за декабрь 2018 года')\n",
    "ax.set_ylabel(\"Количество абонентов\")\n",
    "ax.set_xlabel(\"Количество минут\")"
   ]
  },
  {
   "cell_type": "markdown",
   "metadata": {},
   "source": [
    "Из анализа рисунков можно сделать следующие выводы:\n",
    "- Распределение минут в тарифе Смарт имеет вид похожий на нормальный;\n",
    "- Распределение минут в тарифе Ультра характеризуется большим стандартным отклонением от среднего значения;\n",
    "- По сравнению с тарифом Смарт у пользователей тарифа Ультра распределение смещено в область с больших значений.\n"
   ]
  },
  {
   "cell_type": "code",
   "execution_count": 36,
   "metadata": {},
   "outputs": [
    {
     "data": {
      "text/plain": [
       "Text(0.5, 0, 'Количество Гб интернет')"
      ]
     },
     "execution_count": 36,
     "metadata": {},
     "output_type": "execute_result"
    },
    {
     "data": {
      "image/png": "[encoded data removed]",
      "text/plain": [
       "<Figure size 864x576 with 1 Axes>"
      ]
     },
     "metadata": {
      "needs_background": "light"
     },
     "output_type": "display_data"
    }
   ],
   "source": [
    "ax=df[df['tariff']=='ultra']['12_int'].plot(kind='hist',range=(3,45), bins=20, figsize=(12,8), grid=True,  title='Гистограмма количества Гб интрернет абонентов тарифа Ультра за декабрь 2018 года')\n",
    "ax.set_ylabel(\"Количество абонентов\")\n",
    "ax.set_xlabel(\"Количество Гб интернет\")"
   ]
  },
  {
   "cell_type": "markdown",
   "metadata": {},
   "source": [
    "Из анализа рисунков можно сделать следующие выводы:\n",
    "- Распределение трафика интернет за месяц  для тарифов Смарт и Ультра имеет вид похожий на нормальный;\n",
    "- Распределение для тарифе Ультра характеризуется большим стандартным отклонением от среднего значения;\n",
    "- По сравнению с тарифом Смарт у пользователей тарифа Ультра распределение смещено в область с больших значений."
   ]
  },
  {
   "cell_type": "code",
   "execution_count": 37,
   "metadata": {},
   "outputs": [
    {
     "data": {
      "text/plain": [
       "Text(0.5, 0, 'Количество сообщений')"
      ]
     },
     "execution_count": 37,
     "metadata": {},
     "output_type": "execute_result"
    },
    {
     "data": {
      "image/png": "[encoded data removed]",
      "text/plain": [
       "<Figure size 864x576 with 1 Axes>"
      ]
     },
     "metadata": {
      "needs_background": "light"
     },
     "output_type": "display_data"
    }
   ],
   "source": [
    "ax=df[df['tariff']=='smart']['12_msg'].plot(kind='hist',range=(3,150), bins=20, figsize=(12,8), grid=True,  title='Гистограмма количества соотобщений абоонентов тарифа Смарт за декабрь 2018 года')\n",
    "ax.set_ylabel(\"Количество абонентов\")\n",
    "ax.set_xlabel(\"Количество сообщений\")"
   ]
  },
  {
   "cell_type": "code",
   "execution_count": 38,
   "metadata": {},
   "outputs": [
    {
     "data": {
      "text/plain": [
       "Text(0.5, 0, 'Количество сообщений')"
      ]
     },
     "execution_count": 38,
     "metadata": {},
     "output_type": "execute_result"
    },
    {
     "data": {
      "image/png": "[encoded data removed]",
      "text/plain": [
       "<Figure size 864x576 with 1 Axes>"
      ]
     },
     "metadata": {
      "needs_background": "light"
     },
     "output_type": "display_data"
    }
   ],
   "source": [
    "ax=df[df['tariff']=='ultra']['12_msg'].plot(kind='hist',range=(3,150), bins=20, figsize=(12,8), grid=True,  title='Гистограмма количества соотобщений абоонентов тарифа Ультра за декабрь 2018 года')\n",
    "ax.set_ylabel(\"Количество абонентов\")\n",
    "ax.set_xlabel(\"Количество сообщений\")"
   ]
  },
  {
   "cell_type": "markdown",
   "metadata": {},
   "source": [
    "Из анализа рисунков можно сделать следующие выводы:\n",
    "- Распределение сообщений за месяц  для тарифа Смарт имеет вид похожий на экспоненциальный;\n",
    "- Распределение сообщений за месяц  для тарифа Ультра имеет сложный вид;\n",
    "- Распределение для тарифе Ультра характеризуется большим стандартным отклонением от среднего значения;\n",
    "- По сравнению с тарифом Смарт у пользователей тарифа Ультра распределение смещено в область с больших значений."
   ]
  },
  {
   "cell_type": "code",
   "execution_count": 39,
   "metadata": {},
   "outputs": [],
   "source": [
    "#создание списков для статистических характеристик по месяцам для тарифа smart\n",
    "smart_cls_mean=[]\n",
    "smart_cls_var=[]\n",
    "smart_cls_std=[]\n",
    "smart_int_mean=[]\n",
    "smart_int_var=[]\n",
    "smart_int_std=[]\n",
    "smart_msg_mean=[]\n",
    "smart_msg_var=[]\n",
    "smart_msg_std=[]\n",
    "#расчет среднего, дисперсии и стандартного отклонения по месяцам \n",
    "for i in range(len(temp_list_cls)):\n",
    "    #расчет среднего для по месецам для звонков, интернета и сообщений\n",
    "    smart_cls_mean.append(df[df['tariff']=='smart'][temp_list_cls[i]].mean())\n",
    "    smart_int_mean.append(df[df['tariff']=='smart'][temp_list_int[i]].mean())\n",
    "    smart_msg_mean.append(df[df['tariff']=='smart'][temp_list_msg[i]].mean())\n",
    "    # это выборка, но не вся генеральная совокупность, поэтому ddof=1\n",
    "    smart_cls_var.append(np.var(df[df['tariff']=='smart'][temp_list_cls[i]], ddof=1))\n",
    "    smart_int_var.append(np.var(df[df['tariff']=='smart'][temp_list_int[i]], ddof=1))\n",
    "    smart_msg_var.append(np.var(df[df['tariff']=='smart'][temp_list_msg[i]], ddof=1))\n",
    "#расчет стандартного отклонения для по месецам для звонков, интернета и сообщений\n",
    "smart_cls_std=np.sqrt(smart_cls_var)\n",
    "smart_int_std=np.sqrt(smart_int_var)\n",
    "smart_msg_std=np.sqrt(smart_msg_var) "
   ]
  },
  {
   "cell_type": "code",
   "execution_count": 40,
   "metadata": {},
   "outputs": [],
   "source": [
    "# создаем DataFrame со статистиками\n",
    "d = {'smart_cls_mean': smart_cls_mean, 'smart_cls_var': smart_cls_var,'smart_cls_std':smart_cls_std, \n",
    "    'smart_int_mean':smart_int_mean,'smart_int_var':smart_int_var, 'smart_int_std':smart_int_std,\n",
    "    'smart_msg_mean':smart_msg_mean, 'smart_msg_var':smart_msg_var,'smart_msg_std':smart_msg_std }\n",
    "df_stat_smart = pd.DataFrame(data=d)"
   ]
  },
  {
   "cell_type": "code",
   "execution_count": 41,
   "metadata": {},
   "outputs": [
    {
     "data": {
      "text/html": [
       "<div>\n",
       "<style scoped>\n",
       "    .dataframe tbody tr th:only-of-type {\n",
       "        vertical-align: middle;\n",
       "    }\n",
       "\n",
       "    .dataframe tbody tr th {\n",
       "        vertical-align: top;\n",
       "    }\n",
       "\n",
       "    .dataframe thead th {\n",
       "        text-align: right;\n",
       "    }\n",
       "</style>\n",
       "<table border=\"1\" class=\"dataframe\">\n",
       "  <thead>\n",
       "    <tr style=\"text-align: right;\">\n",
       "      <th></th>\n",
       "      <th>smart_cls_mean</th>\n",
       "      <th>smart_cls_var</th>\n",
       "      <th>smart_cls_std</th>\n",
       "      <th>smart_int_mean</th>\n",
       "      <th>smart_int_var</th>\n",
       "      <th>smart_int_std</th>\n",
       "      <th>smart_msg_mean</th>\n",
       "      <th>smart_msg_var</th>\n",
       "      <th>smart_msg_std</th>\n",
       "    </tr>\n",
       "  </thead>\n",
       "  <tbody>\n",
       "    <tr>\n",
       "      <td>0</td>\n",
       "      <td>203.852941</td>\n",
       "      <td>23787.341355</td>\n",
       "      <td>154.231454</td>\n",
       "      <td>9.029412</td>\n",
       "      <td>42.514260</td>\n",
       "      <td>6.520296</td>\n",
       "      <td>18.235294</td>\n",
       "      <td>262.367201</td>\n",
       "      <td>16.197753</td>\n",
       "    </tr>\n",
       "    <tr>\n",
       "      <td>1</td>\n",
       "      <td>298.689655</td>\n",
       "      <td>36412.287961</td>\n",
       "      <td>190.820041</td>\n",
       "      <td>12.103448</td>\n",
       "      <td>39.462795</td>\n",
       "      <td>6.281942</td>\n",
       "      <td>24.086207</td>\n",
       "      <td>473.097701</td>\n",
       "      <td>21.750809</td>\n",
       "    </tr>\n",
       "    <tr>\n",
       "      <td>2</td>\n",
       "      <td>390.051948</td>\n",
       "      <td>36823.155161</td>\n",
       "      <td>191.893604</td>\n",
       "      <td>15.571429</td>\n",
       "      <td>34.063910</td>\n",
       "      <td>5.836430</td>\n",
       "      <td>31.857143</td>\n",
       "      <td>718.492481</td>\n",
       "      <td>26.804710</td>\n",
       "    </tr>\n",
       "    <tr>\n",
       "      <td>3</td>\n",
       "      <td>367.133929</td>\n",
       "      <td>34778.207127</td>\n",
       "      <td>186.489161</td>\n",
       "      <td>13.928571</td>\n",
       "      <td>32.625483</td>\n",
       "      <td>5.711872</td>\n",
       "      <td>30.741071</td>\n",
       "      <td>602.139559</td>\n",
       "      <td>24.538532</td>\n",
       "    </tr>\n",
       "    <tr>\n",
       "      <td>4</td>\n",
       "      <td>387.361702</td>\n",
       "      <td>34820.061094</td>\n",
       "      <td>186.601343</td>\n",
       "      <td>16.347518</td>\n",
       "      <td>35.885512</td>\n",
       "      <td>5.990452</td>\n",
       "      <td>33.773050</td>\n",
       "      <td>730.990983</td>\n",
       "      <td>27.036845</td>\n",
       "    </tr>\n",
       "    <tr>\n",
       "      <td>5</td>\n",
       "      <td>395.640244</td>\n",
       "      <td>30742.918861</td>\n",
       "      <td>175.336587</td>\n",
       "      <td>16.286585</td>\n",
       "      <td>33.690371</td>\n",
       "      <td>5.804341</td>\n",
       "      <td>33.402439</td>\n",
       "      <td>806.806374</td>\n",
       "      <td>28.404337</td>\n",
       "    </tr>\n",
       "    <tr>\n",
       "      <td>6</td>\n",
       "      <td>408.353234</td>\n",
       "      <td>32250.269602</td>\n",
       "      <td>179.583601</td>\n",
       "      <td>16.253731</td>\n",
       "      <td>34.460299</td>\n",
       "      <td>5.870289</td>\n",
       "      <td>33.751244</td>\n",
       "      <td>799.887811</td>\n",
       "      <td>28.282288</td>\n",
       "    </tr>\n",
       "    <tr>\n",
       "      <td>7</td>\n",
       "      <td>421.468085</td>\n",
       "      <td>34793.583379</td>\n",
       "      <td>186.530382</td>\n",
       "      <td>17.161702</td>\n",
       "      <td>31.452373</td>\n",
       "      <td>5.608242</td>\n",
       "      <td>33.638298</td>\n",
       "      <td>838.257501</td>\n",
       "      <td>28.952677</td>\n",
       "    </tr>\n",
       "    <tr>\n",
       "      <td>8</td>\n",
       "      <td>428.611538</td>\n",
       "      <td>33535.342723</td>\n",
       "      <td>183.126576</td>\n",
       "      <td>16.819231</td>\n",
       "      <td>27.160247</td>\n",
       "      <td>5.211549</td>\n",
       "      <td>33.638462</td>\n",
       "      <td>790.617820</td>\n",
       "      <td>28.117927</td>\n",
       "    </tr>\n",
       "    <tr>\n",
       "      <td>9</td>\n",
       "      <td>426.136054</td>\n",
       "      <td>35392.336375</td>\n",
       "      <td>188.128510</td>\n",
       "      <td>17.251701</td>\n",
       "      <td>34.311857</td>\n",
       "      <td>5.857632</td>\n",
       "      <td>33.765306</td>\n",
       "      <td>816.111966</td>\n",
       "      <td>28.567673</td>\n",
       "    </tr>\n",
       "    <tr>\n",
       "      <td>10</td>\n",
       "      <td>435.265823</td>\n",
       "      <td>31605.237050</td>\n",
       "      <td>177.778618</td>\n",
       "      <td>17.424051</td>\n",
       "      <td>29.133896</td>\n",
       "      <td>5.397582</td>\n",
       "      <td>34.075949</td>\n",
       "      <td>805.937071</td>\n",
       "      <td>28.389031</td>\n",
       "    </tr>\n",
       "    <tr>\n",
       "      <td>11</td>\n",
       "      <td>477.144970</td>\n",
       "      <td>40258.397319</td>\n",
       "      <td>200.644953</td>\n",
       "      <td>18.571006</td>\n",
       "      <td>32.103252</td>\n",
       "      <td>5.665973</td>\n",
       "      <td>35.887574</td>\n",
       "      <td>936.011062</td>\n",
       "      <td>30.594298</td>\n",
       "    </tr>\n",
       "  </tbody>\n",
       "</table>\n",
       "</div>"
      ],
      "text/plain": [
       "    smart_cls_mean  smart_cls_var  smart_cls_std  smart_int_mean  \\\n",
       "0       203.852941   23787.341355     154.231454        9.029412   \n",
       "1       298.689655   36412.287961     190.820041       12.103448   \n",
       "2       390.051948   36823.155161     191.893604       15.571429   \n",
       "3       367.133929   34778.207127     186.489161       13.928571   \n",
       "4       387.361702   34820.061094     186.601343       16.347518   \n",
       "5       395.640244   30742.918861     175.336587       16.286585   \n",
       "6       408.353234   32250.269602     179.583601       16.253731   \n",
       "7       421.468085   34793.583379     186.530382       17.161702   \n",
       "8       428.611538   33535.342723     183.126576       16.819231   \n",
       "9       426.136054   35392.336375     188.128510       17.251701   \n",
       "10      435.265823   31605.237050     177.778618       17.424051   \n",
       "11      477.144970   40258.397319     200.644953       18.571006   \n",
       "\n",
       "    smart_int_var  smart_int_std  smart_msg_mean  smart_msg_var  smart_msg_std  \n",
       "0       42.514260       6.520296       18.235294     262.367201      16.197753  \n",
       "1       39.462795       6.281942       24.086207     473.097701      21.750809  \n",
       "2       34.063910       5.836430       31.857143     718.492481      26.804710  \n",
       "3       32.625483       5.711872       30.741071     602.139559      24.538532  \n",
       "4       35.885512       5.990452       33.773050     730.990983      27.036845  \n",
       "5       33.690371       5.804341       33.402439     806.806374      28.404337  \n",
       "6       34.460299       5.870289       33.751244     799.887811      28.282288  \n",
       "7       31.452373       5.608242       33.638298     838.257501      28.952677  \n",
       "8       27.160247       5.211549       33.638462     790.617820      28.117927  \n",
       "9       34.311857       5.857632       33.765306     816.111966      28.567673  \n",
       "10      29.133896       5.397582       34.075949     805.937071      28.389031  \n",
       "11      32.103252       5.665973       35.887574     936.011062      30.594298  "
      ]
     },
     "execution_count": 41,
     "metadata": {},
     "output_type": "execute_result"
    }
   ],
   "source": [
    "df_stat_smart"
   ]
  },
  {
   "cell_type": "code",
   "execution_count": 42,
   "metadata": {},
   "outputs": [
    {
     "data": {
      "text/plain": [
       "smart_cls_mean      386.642510\n",
       "smart_cls_var     33766.594834\n",
       "smart_cls_std       183.430402\n",
       "smart_int_mean       15.562365\n",
       "smart_int_var        33.905354\n",
       "smart_int_std         5.813050\n",
       "smart_msg_mean       31.404336\n",
       "smart_msg_var       715.059794\n",
       "smart_msg_std        26.469740\n",
       "dtype: float64"
      ]
     },
     "execution_count": 42,
     "metadata": {},
     "output_type": "execute_result"
    }
   ],
   "source": [
    "df_stat_smart.mean()"
   ]
  },
  {
   "cell_type": "code",
   "execution_count": 43,
   "metadata": {},
   "outputs": [
    {
     "data": {
      "text/plain": [
       "[Text(0, 0, 'Янв'),\n",
       " Text(0, 0, 'Фев'),\n",
       " Text(0, 0, 'Март'),\n",
       " Text(0, 0, 'Апр'),\n",
       " Text(0, 0, 'Май'),\n",
       " Text(0, 0, 'Июнь'),\n",
       " Text(0, 0, 'Июль'),\n",
       " Text(0, 0, 'Авг'),\n",
       " Text(0, 0, 'Сент'),\n",
       " Text(0, 0, 'Окт'),\n",
       " Text(0, 0, 'Ноябрь'),\n",
       " Text(0, 0, 'Дек')]"
      ]
     },
     "execution_count": 43,
     "metadata": {},
     "output_type": "execute_result"
    },
    {
     "data": {
      "image/png": "[encoded data removed]",
      "text/plain": [
       "<Figure size 864x576 with 1 Axes>"
      ]
     },
     "metadata": {
      "needs_background": "light"
     },
     "output_type": "display_data"
    }
   ],
   "source": [
    "ax=df_stat_smart['smart_cls_mean'].plot(kind='bar', figsize=(12,8),  grid=True,  title='Динамика израсходованных минут за 2018 года. Тариф Смарт')\n",
    "ax.set_ylabel(\"Количество минут\")\n",
    "ax.set_xlabel(\"Месеца\")\n",
    "stick=('Янв','Фев','Март','Апр','Май', 'Июнь','Июль','Авг','Сент','Окт','Ноябрь','Дек' )\n",
    "ax.set_xticklabels(stick)"
   ]
  },
  {
   "cell_type": "code",
   "execution_count": 44,
   "metadata": {},
   "outputs": [
    {
     "data": {
      "text/plain": [
       "[Text(0, 0, 'Янв'),\n",
       " Text(0, 0, 'Фев'),\n",
       " Text(0, 0, 'Март'),\n",
       " Text(0, 0, 'Апр'),\n",
       " Text(0, 0, 'Май'),\n",
       " Text(0, 0, 'Июнь'),\n",
       " Text(0, 0, 'Июль'),\n",
       " Text(0, 0, 'Авг'),\n",
       " Text(0, 0, 'Сент'),\n",
       " Text(0, 0, 'Окт'),\n",
       " Text(0, 0, 'Ноябрь'),\n",
       " Text(0, 0, 'Дек')]"
      ]
     },
     "execution_count": 44,
     "metadata": {},
     "output_type": "execute_result"
    },
    {
     "data": {
      "image/png": "[encoded data removed]",
      "text/plain": [
       "<Figure size 864x576 with 1 Axes>"
      ]
     },
     "metadata": {
      "needs_background": "light"
     },
     "output_type": "display_data"
    }
   ],
   "source": [
    "ax=df_stat_smart['smart_int_mean'].plot(kind='bar', figsize=(12,8),  grid=True,  title='Динамика израсходованных Гб по месяца за 2018 года. Тариф Смарт')\n",
    "ax.set_ylabel(\"Количество Гб\")\n",
    "ax.set_xlabel(\"Месеца\")\n",
    "stick=('Янв','Фев','Март','Апр','Май', 'Июнь','Июль','Авг','Сент','Окт','Ноябрь','Дек' )\n",
    "ax.set_xticklabels(stick)"
   ]
  },
  {
   "cell_type": "markdown",
   "metadata": {},
   "source": [
    "- Пользователи тарифа Смарт в среднем используют 386 минут за месяц, 15.6 Гб интернет и 31 сообщений. \n",
    "- При этом можно отметить, что средние имеют тенденцию к увеличению и для декабря составляют уже 477 минут за месяц, 18,6 Гб интернет и 35 сообщений. \n",
    "- Это явление может быть связано с тем что абоненты подключаются зачастую не в первый день месяца и поэтому за первый месяц подключения не успевают полностью израсходовать \"нормальное\" для себя количество услуг связи. При этом у нас происходит увеличение количества абонентов каждый месяц. Поэтому значения за декабрь самые показательные."
   ]
  },
  {
   "cell_type": "markdown",
   "metadata": {},
   "source": [
    "### Расчет услуг по тарифу \"Ультра\""
   ]
  },
  {
   "cell_type": "code",
   "execution_count": 45,
   "metadata": {},
   "outputs": [],
   "source": [
    "#создание списков для статистических характеристик по месяцам для тарифа ultra\n",
    "# расчет аналогичен предыдущему по тарифу Смарт\n",
    "smart_cls_mean=[]\n",
    "smart_cls_var=[]\n",
    "smart_cls_std=[]\n",
    "smart_int_mean=[]\n",
    "smart_int_var=[]\n",
    "smart_int_std=[]\n",
    "smart_msg_mean=[]\n",
    "smart_msg_var=[]\n",
    "smart_msg_std=[]\n",
    "for i in range(len(temp_list_cls)):\n",
    "    smart_cls_mean.append(df[df['tariff']=='ultra'][temp_list_cls[i]].mean())\n",
    "    smart_int_mean.append(df[df['tariff']=='ultra'][temp_list_int[i]].mean())\n",
    "    smart_msg_mean.append(df[df['tariff']=='ultra'][temp_list_msg[i]].mean())\n",
    "    smart_cls_var.append(np.var(df[df['tariff']=='ultra'][temp_list_cls[i]], ddof=1))\n",
    "    smart_int_var.append(np.var(df[df['tariff']=='ultra'][temp_list_int[i]], ddof=1))\n",
    "    smart_msg_var.append(np.var(df[df['tariff']=='ultra'][temp_list_msg[i]], ddof=1))\n",
    "smart_cls_std=np.sqrt(smart_cls_var)\n",
    "smart_int_std=np.sqrt(smart_int_var)\n",
    "smart_msg_std=np.sqrt(smart_msg_var) \n"
   ]
  },
  {
   "cell_type": "code",
   "execution_count": 46,
   "metadata": {},
   "outputs": [],
   "source": [
    "#Созадаем таблицу со статистическими характеристиками по тарифу Ультра по месецам\n",
    "d = {'smart_cls_mean': smart_cls_mean, 'smart_cls_var': smart_cls_var,'smart_cls_std':smart_cls_std, \n",
    "    'smart_int_mean':smart_int_mean,'smart_int_var':smart_int_var, 'smart_int_std':smart_int_std,\n",
    "    'smart_msg_mean':smart_msg_mean, 'smart_msg_var':smart_msg_var,'smart_msg_std':smart_msg_std }\n",
    "df_stat_ultra = pd.DataFrame(data=d)"
   ]
  },
  {
   "cell_type": "code",
   "execution_count": 47,
   "metadata": {},
   "outputs": [
    {
     "data": {
      "text/html": [
       "<div>\n",
       "<style scoped>\n",
       "    .dataframe tbody tr th:only-of-type {\n",
       "        vertical-align: middle;\n",
       "    }\n",
       "\n",
       "    .dataframe tbody tr th {\n",
       "        vertical-align: top;\n",
       "    }\n",
       "\n",
       "    .dataframe thead th {\n",
       "        text-align: right;\n",
       "    }\n",
       "</style>\n",
       "<table border=\"1\" class=\"dataframe\">\n",
       "  <thead>\n",
       "    <tr style=\"text-align: right;\">\n",
       "      <th></th>\n",
       "      <th>smart_cls_mean</th>\n",
       "      <th>smart_cls_var</th>\n",
       "      <th>smart_cls_std</th>\n",
       "      <th>smart_int_mean</th>\n",
       "      <th>smart_int_var</th>\n",
       "      <th>smart_int_std</th>\n",
       "      <th>smart_msg_mean</th>\n",
       "      <th>smart_msg_var</th>\n",
       "      <th>smart_msg_std</th>\n",
       "    </tr>\n",
       "  </thead>\n",
       "  <tbody>\n",
       "    <tr>\n",
       "      <td>0</td>\n",
       "      <td>428.111111</td>\n",
       "      <td>72769.361111</td>\n",
       "      <td>269.757968</td>\n",
       "      <td>13.666667</td>\n",
       "      <td>47.000000</td>\n",
       "      <td>6.855655</td>\n",
       "      <td>33.777778</td>\n",
       "      <td>940.694444</td>\n",
       "      <td>30.670742</td>\n",
       "    </tr>\n",
       "    <tr>\n",
       "      <td>1</td>\n",
       "      <td>297.125000</td>\n",
       "      <td>87919.679348</td>\n",
       "      <td>296.512528</td>\n",
       "      <td>12.208333</td>\n",
       "      <td>113.737319</td>\n",
       "      <td>10.664770</td>\n",
       "      <td>21.958333</td>\n",
       "      <td>716.824275</td>\n",
       "      <td>26.773574</td>\n",
       "    </tr>\n",
       "    <tr>\n",
       "      <td>2</td>\n",
       "      <td>489.648649</td>\n",
       "      <td>111384.900901</td>\n",
       "      <td>333.743765</td>\n",
       "      <td>18.081081</td>\n",
       "      <td>118.909910</td>\n",
       "      <td>10.904582</td>\n",
       "      <td>32.297297</td>\n",
       "      <td>1732.381381</td>\n",
       "      <td>41.621886</td>\n",
       "    </tr>\n",
       "    <tr>\n",
       "      <td>3</td>\n",
       "      <td>458.018182</td>\n",
       "      <td>71653.870034</td>\n",
       "      <td>267.682405</td>\n",
       "      <td>17.327273</td>\n",
       "      <td>94.816835</td>\n",
       "      <td>9.737394</td>\n",
       "      <td>31.563636</td>\n",
       "      <td>1407.287542</td>\n",
       "      <td>37.513831</td>\n",
       "    </tr>\n",
       "    <tr>\n",
       "      <td>4</td>\n",
       "      <td>510.328358</td>\n",
       "      <td>83870.193578</td>\n",
       "      <td>289.603511</td>\n",
       "      <td>19.880597</td>\n",
       "      <td>101.864315</td>\n",
       "      <td>10.092785</td>\n",
       "      <td>37.850746</td>\n",
       "      <td>1624.644052</td>\n",
       "      <td>40.306874</td>\n",
       "    </tr>\n",
       "    <tr>\n",
       "      <td>5</td>\n",
       "      <td>479.702381</td>\n",
       "      <td>91535.946500</td>\n",
       "      <td>302.549081</td>\n",
       "      <td>19.452381</td>\n",
       "      <td>86.901320</td>\n",
       "      <td>9.322088</td>\n",
       "      <td>41.726190</td>\n",
       "      <td>1986.297619</td>\n",
       "      <td>44.567899</td>\n",
       "    </tr>\n",
       "    <tr>\n",
       "      <td>6</td>\n",
       "      <td>545.791209</td>\n",
       "      <td>94322.278144</td>\n",
       "      <td>307.119322</td>\n",
       "      <td>21.021978</td>\n",
       "      <td>101.799512</td>\n",
       "      <td>10.089574</td>\n",
       "      <td>49.846154</td>\n",
       "      <td>2372.042735</td>\n",
       "      <td>48.703621</td>\n",
       "    </tr>\n",
       "    <tr>\n",
       "      <td>7</td>\n",
       "      <td>510.775701</td>\n",
       "      <td>97956.496385</td>\n",
       "      <td>312.980026</td>\n",
       "      <td>20.056075</td>\n",
       "      <td>111.355317</td>\n",
       "      <td>10.552503</td>\n",
       "      <td>48.439252</td>\n",
       "      <td>2171.739199</td>\n",
       "      <td>46.601923</td>\n",
       "    </tr>\n",
       "    <tr>\n",
       "      <td>8</td>\n",
       "      <td>539.443478</td>\n",
       "      <td>105716.775286</td>\n",
       "      <td>325.141162</td>\n",
       "      <td>19.730435</td>\n",
       "      <td>90.145995</td>\n",
       "      <td>9.494524</td>\n",
       "      <td>52.286957</td>\n",
       "      <td>2152.855530</td>\n",
       "      <td>46.398874</td>\n",
       "    </tr>\n",
       "    <tr>\n",
       "      <td>9</td>\n",
       "      <td>558.081301</td>\n",
       "      <td>106464.583500</td>\n",
       "      <td>326.289110</td>\n",
       "      <td>20.552846</td>\n",
       "      <td>96.691857</td>\n",
       "      <td>9.833202</td>\n",
       "      <td>58.430894</td>\n",
       "      <td>2697.181661</td>\n",
       "      <td>51.934398</td>\n",
       "    </tr>\n",
       "    <tr>\n",
       "      <td>10</td>\n",
       "      <td>541.380597</td>\n",
       "      <td>96570.057064</td>\n",
       "      <td>310.757232</td>\n",
       "      <td>20.313433</td>\n",
       "      <td>98.893502</td>\n",
       "      <td>9.944521</td>\n",
       "      <td>55.791045</td>\n",
       "      <td>2476.948491</td>\n",
       "      <td>49.768951</td>\n",
       "    </tr>\n",
       "    <tr>\n",
       "      <td>11</td>\n",
       "      <td>588.571429</td>\n",
       "      <td>118942.750257</td>\n",
       "      <td>344.880777</td>\n",
       "      <td>22.171429</td>\n",
       "      <td>110.718602</td>\n",
       "      <td>10.522291</td>\n",
       "      <td>60.178571</td>\n",
       "      <td>2688.924717</td>\n",
       "      <td>51.854843</td>\n",
       "    </tr>\n",
       "  </tbody>\n",
       "</table>\n",
       "</div>"
      ],
      "text/plain": [
       "    smart_cls_mean  smart_cls_var  smart_cls_std  smart_int_mean  \\\n",
       "0       428.111111   72769.361111     269.757968       13.666667   \n",
       "1       297.125000   87919.679348     296.512528       12.208333   \n",
       "2       489.648649  111384.900901     333.743765       18.081081   \n",
       "3       458.018182   71653.870034     267.682405       17.327273   \n",
       "4       510.328358   83870.193578     289.603511       19.880597   \n",
       "5       479.702381   91535.946500     302.549081       19.452381   \n",
       "6       545.791209   94322.278144     307.119322       21.021978   \n",
       "7       510.775701   97956.496385     312.980026       20.056075   \n",
       "8       539.443478  105716.775286     325.141162       19.730435   \n",
       "9       558.081301  106464.583500     326.289110       20.552846   \n",
       "10      541.380597   96570.057064     310.757232       20.313433   \n",
       "11      588.571429  118942.750257     344.880777       22.171429   \n",
       "\n",
       "    smart_int_var  smart_int_std  smart_msg_mean  smart_msg_var  smart_msg_std  \n",
       "0       47.000000       6.855655       33.777778     940.694444      30.670742  \n",
       "1      113.737319      10.664770       21.958333     716.824275      26.773574  \n",
       "2      118.909910      10.904582       32.297297    1732.381381      41.621886  \n",
       "3       94.816835       9.737394       31.563636    1407.287542      37.513831  \n",
       "4      101.864315      10.092785       37.850746    1624.644052      40.306874  \n",
       "5       86.901320       9.322088       41.726190    1986.297619      44.567899  \n",
       "6      101.799512      10.089574       49.846154    2372.042735      48.703621  \n",
       "7      111.355317      10.552503       48.439252    2171.739199      46.601923  \n",
       "8       90.145995       9.494524       52.286957    2152.855530      46.398874  \n",
       "9       96.691857       9.833202       58.430894    2697.181661      51.934398  \n",
       "10      98.893502       9.944521       55.791045    2476.948491      49.768951  \n",
       "11     110.718602      10.522291       60.178571    2688.924717      51.854843  "
      ]
     },
     "execution_count": 47,
     "metadata": {},
     "output_type": "execute_result"
    }
   ],
   "source": [
    "df_stat_ultra"
   ]
  },
  {
   "cell_type": "code",
   "execution_count": 48,
   "metadata": {},
   "outputs": [
    {
     "data": {
      "text/plain": [
       "smart_cls_mean      495.581450\n",
       "smart_cls_var     94925.574342\n",
       "smart_cls_std       307.251407\n",
       "smart_int_mean       18.705211\n",
       "smart_int_var        97.736207\n",
       "smart_int_std         9.834491\n",
       "smart_msg_mean       43.678905\n",
       "smart_msg_var      1913.985137\n",
       "smart_msg_std        43.059785\n",
       "dtype: float64"
      ]
     },
     "execution_count": 48,
     "metadata": {},
     "output_type": "execute_result"
    }
   ],
   "source": [
    "df_stat_ultra.mean()"
   ]
  },
  {
   "cell_type": "code",
   "execution_count": 49,
   "metadata": {},
   "outputs": [
    {
     "data": {
      "text/plain": [
       "[Text(0, 0, 'Янв'),\n",
       " Text(0, 0, 'Фев'),\n",
       " Text(0, 0, 'Март'),\n",
       " Text(0, 0, 'Апр'),\n",
       " Text(0, 0, 'Май'),\n",
       " Text(0, 0, 'Июнь'),\n",
       " Text(0, 0, 'Июль'),\n",
       " Text(0, 0, 'Авг'),\n",
       " Text(0, 0, 'Сент'),\n",
       " Text(0, 0, 'Окт'),\n",
       " Text(0, 0, 'Ноябрь'),\n",
       " Text(0, 0, 'Дек')]"
      ]
     },
     "execution_count": 49,
     "metadata": {},
     "output_type": "execute_result"
    },
    {
     "data": {
      "image/png": "[encoded data removed]",
      "text/plain": [
       "<Figure size 864x576 with 1 Axes>"
      ]
     },
     "metadata": {
      "needs_background": "light"
     },
     "output_type": "display_data"
    }
   ],
   "source": [
    "ax=df_stat_ultra['smart_cls_mean'].plot(kind='bar', figsize=(12,8),  grid=True,  title='Динамика израсходованных минут за 2018 года. Тариф Ультра')\n",
    "ax.set_ylabel(\"Количество минут\")\n",
    "ax.set_xlabel(\"Месеца\")\n",
    "stick=('Янв','Фев','Март','Апр','Май', 'Июнь','Июль','Авг','Сент','Окт','Ноябрь','Дек' )\n",
    "ax.set_xticklabels(stick)"
   ]
  },
  {
   "cell_type": "code",
   "execution_count": 50,
   "metadata": {},
   "outputs": [
    {
     "data": {
      "text/plain": [
       "[Text(0, 0, 'Янв'),\n",
       " Text(0, 0, 'Фев'),\n",
       " Text(0, 0, 'Март'),\n",
       " Text(0, 0, 'Апр'),\n",
       " Text(0, 0, 'Май'),\n",
       " Text(0, 0, 'Июнь'),\n",
       " Text(0, 0, 'Июль'),\n",
       " Text(0, 0, 'Авг'),\n",
       " Text(0, 0, 'Сент'),\n",
       " Text(0, 0, 'Окт'),\n",
       " Text(0, 0, 'Ноябрь'),\n",
       " Text(0, 0, 'Дек')]"
      ]
     },
     "execution_count": 50,
     "metadata": {},
     "output_type": "execute_result"
    },
    {
     "data": {
      "image/png": "[encoded data removed]",
      "text/plain": [
       "<Figure size 864x576 with 1 Axes>"
      ]
     },
     "metadata": {
      "needs_background": "light"
     },
     "output_type": "display_data"
    }
   ],
   "source": [
    "ax=df_stat_ultra['smart_int_mean'].plot(kind='bar', figsize=(12,8),  grid=True,  title='Динамика израсходованных Гб по месяца за 2018 года. Тариф Ультра')\n",
    "ax.set_ylabel(\"Количество Гб\")\n",
    "ax.set_xlabel(\"Месеца\")\n",
    "stick=('Янв','Фев','Март','Апр','Май', 'Июнь','Июль','Авг','Сент','Окт','Ноябрь','Дек' )\n",
    "ax.set_xticklabels(stick)"
   ]
  },
  {
   "cell_type": "markdown",
   "metadata": {},
   "source": [
    "- Пользователи тарифа Ультра в среднем используют 468 минут за месяц, 18,7 Гб интернет и 43 сообщения. \n",
    "- При этом можно отметить, что средние имеют тенденцию к увеличению и для декабря составляют уже 556 минут за месяц, 22,2 Гб интернет и 60 сообщений. \n",
    "- Это явление может быть связано с тем что абоненты подключаются зачастую не в первый день месяца и поэтому за первый месяц подключения не успевают полностью израсходовать \"нормальное\" для себя количество услуг связи. При этом у нас происходит увеличение количества абонентов каждый месяц. Поэтому значения за декабрь самые показательные."
   ]
  },
  {
   "cell_type": "markdown",
   "metadata": {},
   "source": [
    "###  Сравнение количества  услуг по тарифам "
   ]
  },
  {
   "cell_type": "code",
   "execution_count": 51,
   "metadata": {},
   "outputs": [
    {
     "data": {
      "text/plain": [
       "[Text(0, 0, 'Превышение по минутам'),\n",
       " Text(0, 0, 'Превышение по Гб трафика'),\n",
       " Text(0, 0, 'Превышение по сообщениям')]"
      ]
     },
     "execution_count": 51,
     "metadata": {},
     "output_type": "execute_result"
    },
    {
     "data": {
      "image/png": "[encoded data removed]",
      "text/plain": [
       "<Figure size 720x504 with 1 Axes>"
      ]
     },
     "metadata": {
      "needs_background": "light"
     },
     "output_type": "display_data"
    }
   ],
   "source": [
    "ax=((df_stat_ultra[['smart_cls_mean','smart_int_mean', 'smart_msg_mean']].mean()/df_stat_smart[['smart_cls_mean','smart_int_mean', 'smart_msg_mean']].mean()-1)*100).plot(kind='bar', label='На сколько процентов статистическая характеристика для тарифа Ультра больше Смарт', legend=True, figsize=(10,7))\n",
    "ax.set_xlabel(\"Статистические характеристики\")\n",
    "ax.set_ylabel(\"Проценты\")\n",
    "stick=('Превышение по минутам','Превышение по Гб трафика','Превышение по сообщениям')\n",
    "ax.set_xticklabels(stick)"
   ]
  },
  {
   "cell_type": "markdown",
   "metadata": {},
   "source": [
    "Сравнение использования услуг для абонентов тарифов Смарт и Ультра позволяет сделать следующий вывод: \n",
    "- абоненты тарифа Ультра больше пользуются всеми услугами: звонят больше на 28%, интернет - на 20 % и сообщения на 39 %"
   ]
  },
  {
   "cell_type": "code",
   "execution_count": 52,
   "metadata": {},
   "outputs": [
    {
     "data": {
      "text/plain": [
       "smart_cls_mean    28.175624\n",
       "smart_int_mean    20.195164\n",
       "smart_msg_mean    39.085584\n",
       "dtype: float64"
      ]
     },
     "execution_count": 52,
     "metadata": {},
     "output_type": "execute_result"
    }
   ],
   "source": [
    "((df_stat_ultra[['smart_cls_mean','smart_int_mean', 'smart_msg_mean']].mean()/df_stat_smart[['smart_cls_mean','smart_int_mean', 'smart_msg_mean']].mean()-1)*100)"
   ]
  },
  {
   "cell_type": "markdown",
   "metadata": {},
   "source": [
    "###  Сравнение стоимостей  услуг связи за месяц  по тарифам "
   ]
  },
  {
   "cell_type": "markdown",
   "metadata": {},
   "source": [
    "Создал уменьшенную таблицу для цен, городов и тарифов - то что надо для проверки стат. гипотез"
   ]
  },
  {
   "cell_type": "code",
   "execution_count": 53,
   "metadata": {},
   "outputs": [],
   "source": [
    "df_price=df.loc[:,['city','tariff', '1_price','2_price','3_price','4_price', '5_price','6_price',\n",
    "           '7_price','8_price','9_price',   '10_price',   '11_price',   '12_price' ]].copy()"
   ]
  },
  {
   "cell_type": "code",
   "execution_count": 54,
   "metadata": {},
   "outputs": [],
   "source": [
    "for i in temp_list_price:\n",
    "    df_price[i]=pd.to_numeric(df_price[i])"
   ]
  },
  {
   "cell_type": "code",
   "execution_count": 55,
   "metadata": {},
   "outputs": [
    {
     "data": {
      "text/plain": [
       "2164.285714285714"
      ]
     },
     "execution_count": 55,
     "metadata": {},
     "output_type": "execute_result"
    }
   ],
   "source": [
    "df_price[df_price['tariff']=='ultra']['12_price'].mean()"
   ]
  },
  {
   "cell_type": "code",
   "execution_count": 56,
   "metadata": {},
   "outputs": [
    {
     "data": {
      "text/plain": [
       "1642.3520710059172"
      ]
     },
     "execution_count": 56,
     "metadata": {},
     "output_type": "execute_result"
    }
   ],
   "source": [
    "df_price[df_price['tariff']=='smart']['12_price'].mean()"
   ]
  },
  {
   "cell_type": "markdown",
   "metadata": {},
   "source": [
    "- Средняя плата за декабрь по тарифу Смарт составляет 1593 руб., а по Ультра 2163 руб."
   ]
  },
  {
   "cell_type": "code",
   "execution_count": 57,
   "metadata": {},
   "outputs": [],
   "source": [
    "smart_price=[]\n",
    "ultra_price=[]\n",
    "for i in range(12):\n",
    "    ultra_price.append(df[df['tariff']=='ultra'][temp_list_price[i]].mean())\n",
    "    smart_price.append(df[df['tariff']=='smart'][temp_list_price[i]].mean())"
   ]
  },
  {
   "cell_type": "markdown",
   "metadata": {},
   "source": [
    "Создаем новую таблицу с платой по месяцам для тарифов"
   ]
  },
  {
   "cell_type": "code",
   "execution_count": 58,
   "metadata": {},
   "outputs": [
    {
     "data": {
      "text/html": [
       "<div>\n",
       "<style scoped>\n",
       "    .dataframe tbody tr th:only-of-type {\n",
       "        vertical-align: middle;\n",
       "    }\n",
       "\n",
       "    .dataframe tbody tr th {\n",
       "        vertical-align: top;\n",
       "    }\n",
       "\n",
       "    .dataframe thead th {\n",
       "        text-align: right;\n",
       "    }\n",
       "</style>\n",
       "<table border=\"1\" class=\"dataframe\">\n",
       "  <thead>\n",
       "    <tr style=\"text-align: right;\">\n",
       "      <th></th>\n",
       "      <th>smart_price</th>\n",
       "      <th>ultra_price</th>\n",
       "    </tr>\n",
       "  </thead>\n",
       "  <tbody>\n",
       "    <tr>\n",
       "      <td>0</td>\n",
       "      <td>744.852941</td>\n",
       "      <td>1950.000000</td>\n",
       "    </tr>\n",
       "    <tr>\n",
       "      <td>1</td>\n",
       "      <td>855.189655</td>\n",
       "      <td>1987.500000</td>\n",
       "    </tr>\n",
       "    <tr>\n",
       "      <td>2</td>\n",
       "      <td>1213.974026</td>\n",
       "      <td>2031.081081</td>\n",
       "    </tr>\n",
       "    <tr>\n",
       "      <td>3</td>\n",
       "      <td>998.803571</td>\n",
       "      <td>2020.909091</td>\n",
       "    </tr>\n",
       "    <tr>\n",
       "      <td>4</td>\n",
       "      <td>1265.595745</td>\n",
       "      <td>2077.611940</td>\n",
       "    </tr>\n",
       "    <tr>\n",
       "      <td>5</td>\n",
       "      <td>1257.676829</td>\n",
       "      <td>2053.571429</td>\n",
       "    </tr>\n",
       "    <tr>\n",
       "      <td>6</td>\n",
       "      <td>1275.691542</td>\n",
       "      <td>2142.857143</td>\n",
       "    </tr>\n",
       "    <tr>\n",
       "      <td>7</td>\n",
       "      <td>1387.829787</td>\n",
       "      <td>2108.411215</td>\n",
       "    </tr>\n",
       "    <tr>\n",
       "      <td>8</td>\n",
       "      <td>1313.792308</td>\n",
       "      <td>2040.000000</td>\n",
       "    </tr>\n",
       "    <tr>\n",
       "      <td>9</td>\n",
       "      <td>1423.357143</td>\n",
       "      <td>2086.585366</td>\n",
       "    </tr>\n",
       "    <tr>\n",
       "      <td>10</td>\n",
       "      <td>1415.832278</td>\n",
       "      <td>2113.432836</td>\n",
       "    </tr>\n",
       "    <tr>\n",
       "      <td>11</td>\n",
       "      <td>1642.352071</td>\n",
       "      <td>2164.285714</td>\n",
       "    </tr>\n",
       "  </tbody>\n",
       "</table>\n",
       "</div>"
      ],
      "text/plain": [
       "    smart_price  ultra_price\n",
       "0    744.852941  1950.000000\n",
       "1    855.189655  1987.500000\n",
       "2   1213.974026  2031.081081\n",
       "3    998.803571  2020.909091\n",
       "4   1265.595745  2077.611940\n",
       "5   1257.676829  2053.571429\n",
       "6   1275.691542  2142.857143\n",
       "7   1387.829787  2108.411215\n",
       "8   1313.792308  2040.000000\n",
       "9   1423.357143  2086.585366\n",
       "10  1415.832278  2113.432836\n",
       "11  1642.352071  2164.285714"
      ]
     },
     "execution_count": 58,
     "metadata": {},
     "output_type": "execute_result"
    }
   ],
   "source": [
    "d = {'smart_price': smart_price, 'ultra_price': ultra_price }\n",
    "df_stat_price = pd.DataFrame(data=d)\n",
    "df_stat_price"
   ]
  },
  {
   "cell_type": "markdown",
   "metadata": {},
   "source": [
    "- Средняя плата по месяцам по тарифам Смарт и Ультра"
   ]
  },
  {
   "cell_type": "code",
   "execution_count": 59,
   "metadata": {},
   "outputs": [
    {
     "data": {
      "text/plain": [
       "smart_price    1232.912325\n",
       "ultra_price    2064.687151\n",
       "dtype: float64"
      ]
     },
     "execution_count": 59,
     "metadata": {},
     "output_type": "execute_result"
    }
   ],
   "source": [
    "df_stat_price.mean()"
   ]
  },
  {
   "cell_type": "code",
   "execution_count": 60,
   "metadata": {},
   "outputs": [
    {
     "data": {
      "text/plain": [
       "[Text(0, 0, 'Смарт'), Text(0, 0, 'Ультра')]"
      ]
     },
     "execution_count": 60,
     "metadata": {},
     "output_type": "execute_result"
    },
    {
     "data": {
      "image/png": "[encoded data removed]",
      "text/plain": [
       "<Figure size 576x576 with 1 Axes>"
      ]
     },
     "metadata": {
      "needs_background": "light"
     },
     "output_type": "display_data"
    }
   ],
   "source": [
    "ax=df_stat_price.mean().plot(kind='bar', figsize=(8,8),  grid=True,  title='Сравнение средней стоимости тарифов за месяц за 2018 года.')\n",
    "ax.set_ylabel(\"Стоимость\")\n",
    "ax.set_xlabel(\"Тарифы\")\n",
    "stick=('Смарт','Ультра' )\n",
    "ax.set_xticklabels(stick)"
   ]
  },
  {
   "cell_type": "markdown",
   "metadata": {},
   "source": [
    "- Средняя плата за 2018 по тарифу Смарт составляет 1202 руб., а по Ультра  - 2063 руб. "
   ]
  },
  {
   "cell_type": "code",
   "execution_count": 61,
   "metadata": {},
   "outputs": [
    {
     "data": {
      "text/plain": [
       "[Text(0, 0, 'Янв'),\n",
       " Text(0, 0, 'Фев'),\n",
       " Text(0, 0, 'Март'),\n",
       " Text(0, 0, 'Апр'),\n",
       " Text(0, 0, 'Май'),\n",
       " Text(0, 0, 'Июнь'),\n",
       " Text(0, 0, 'Июль'),\n",
       " Text(0, 0, 'Авг'),\n",
       " Text(0, 0, 'Сент'),\n",
       " Text(0, 0, 'Окт'),\n",
       " Text(0, 0, 'Ноябрь'),\n",
       " Text(0, 0, 'Дек')]"
      ]
     },
     "execution_count": 61,
     "metadata": {},
     "output_type": "execute_result"
    },
    {
     "data": {
      "image/png": "[encoded data removed]",
      "text/plain": [
       "<Figure size 864x576 with 1 Axes>"
      ]
     },
     "metadata": {
      "needs_background": "light"
     },
     "output_type": "display_data"
    }
   ],
   "source": [
    "ax=df_stat_price.plot(kind='bar', figsize=(12,8),  grid=True,  title='Динамика платы за месяц абонентов тарифа Ультра за декабрь 2018 года')\n",
    "ax.set_xlabel(\"Плата за месяц\")\n",
    "ax.set_ylabel(\"Количество абонентов\")\n",
    "stick=('Янв','Фев','Март','Апр','Май', 'Июнь','Июль','Авг','Сент','Окт','Ноябрь','Дек' )\n",
    "ax.set_xticklabels(stick)"
   ]
  },
  {
   "cell_type": "markdown",
   "metadata": {},
   "source": [
    "На основе рисунка можно сделать выводы:\n",
    "- стоимость услуг по тарифу Смарт существенно ниже чем по Ультра;\n",
    "- стоимость услуг по тарифу Смарт имеет явно выраженную тенденцию к увеличению;\n",
    "- стоимость услуг по тарифу Ультра также растет, но не так значительно как по тарифу Смарт"
   ]
  },
  {
   "cell_type": "code",
   "execution_count": 62,
   "metadata": {},
   "outputs": [
    {
     "data": {
      "text/plain": [
       "Text(0, 0.5, 'Количество абонентов')"
      ]
     },
     "execution_count": 62,
     "metadata": {},
     "output_type": "execute_result"
    },
    {
     "data": {
      "image/png": "[encoded data removed]",
      "text/plain": [
       "<Figure size 864x576 with 1 Axes>"
      ]
     },
     "metadata": {
      "needs_background": "light"
     },
     "output_type": "display_data"
    }
   ],
   "source": [
    "ax=df_price[df_price['tariff']=='ultra'][['12_price']].plot(kind='hist',range=(500,4550), bins=10, figsize=(12,8),  grid=True,  title='Гистограмма платы за месяц абонентов тарифа Ультра за декабрь 2018 года')\n",
    "ax.set_xlabel(\"Плата за месяц\")\n",
    "ax.set_ylabel(\"Количество абонентов\")"
   ]
  },
  {
   "cell_type": "code",
   "execution_count": 63,
   "metadata": {},
   "outputs": [
    {
     "data": {
      "text/plain": [
       "Text(0.5, 0, 'Плата за месяц абонентов')"
      ]
     },
     "execution_count": 63,
     "metadata": {},
     "output_type": "execute_result"
    },
    {
     "data": {
      "image/png": "[encoded data removed]",
      "text/plain": [
       "<Figure size 864x576 with 1 Axes>"
      ]
     },
     "metadata": {
      "needs_background": "light"
     },
     "output_type": "display_data"
    }
   ],
   "source": [
    "ax=df_price[df_price['tariff']=='smart']['12_price'].plot(kind='hist',range=(500,4550), bins=10, figsize=(12,8), grid=True,  title='Гистограмма платы за месяц абонентов тарифа Смарт за декабрь 2018 года')\n",
    "ax.set_ylabel(\"Количество абонентов\")\n",
    "ax.set_xlabel(\"Плата за месяц абонентов\")"
   ]
  },
  {
   "cell_type": "markdown",
   "metadata": {},
   "source": [
    "Из представленных гистограмм стоимостей услуг за месяц за декабрь 2018 года можно сделать выводы:\n",
    "\n",
    "- распределение стоимости за месяц по тарифу Ультра имеет явно выраженный пик в районе 1950 - стоимости тарифа;\n",
    "- распределение стоимости за месяц по тарифу Смарт имеет выраженный пик в районе 550 - стоимости тарифа;\n",
    "- распределение для тарифа Смарт равномерно спадает в то время как распределение для Ультра почти полностью сосредоточено в пике, а далее имеет длинный хвост в в сторону увеличения стоимости."
   ]
  },
  {
   "cell_type": "markdown",
   "metadata": {},
   "source": [
    "### Выводы"
   ]
  },
  {
   "cell_type": "markdown",
   "metadata": {},
   "source": [
    "- абоненты тарифа Ультра больше пользуются всеми услугами: звонят больше на 28%, интернет - на 20 % и сообщения на 35 %\n",
    "\n",
    "- Абоненты тарифа Смарт в среднем за месяц используют 415 мин. телефонии, 17.5 Гб передачи данных и 35 сообщений;\n",
    "\n",
    "- Абоненты тарифа Ультра в среднем за месяц используют 532 мин. телефонии, 21 Гб передачи данных и 46 сообщений;\n",
    "\n",
    "- средняя плата за месяц для тарифа Ультра составляет 1950 рублей, что полностью совпадает со стоимостью тарифа за месяц;\n",
    "\n",
    "- средняя плата за месяц для тарифа Смарт составляет 662 рубля."
   ]
  },
  {
   "cell_type": "markdown",
   "metadata": {},
   "source": [
    "## Статистический анализ данных"
   ]
  },
  {
   "cell_type": "markdown",
   "metadata": {},
   "source": [
    "### Гипотеза: средняя выручка пользователей тарифов «Ультра» и «Смарт» различаются"
   ]
  },
  {
   "cell_type": "markdown",
   "metadata": {},
   "source": [
    "- H0: средняя выручка пользователей тарифов Smart и Ultra не отличается;\n",
    "- H1: средняя выручка пользователей тарифов Smart и Ultra отличается."
   ]
  },
  {
   "cell_type": "code",
   "execution_count": 64,
   "metadata": {},
   "outputs": [
    {
     "name": "stdout",
     "output_type": "stream",
     "text": [
      "p-значение:  4.695963172029635e-12\n"
     ]
    }
   ],
   "source": [
    "results = st.ttest_ind(df_price[df_price['tariff']=='smart']['12_price'], df_price[df_price['tariff']=='ultra']['12_price'], nan_policy='omit',equal_var = False)\n",
    "print('p-значение: ', results.pvalue)"
   ]
  },
  {
   "cell_type": "markdown",
   "metadata": {},
   "source": [
    "Нулевая гипотеза смело может быть отвергнута. Средняя плата за декабрь по тарифу Смарт составляет 1593 руб., а по Ультра 2163 руб. Поэтому можно утверждать, что выручка по тарифу Smart существенно ниже. Можно было бы собрать всю статистику по всем месяцам, но в этом нет необходимости. "
   ]
  },
  {
   "cell_type": "markdown",
   "metadata": {},
   "source": [
    "### Гипотеза: средняя выручка пользователей из Москвы отличается от выручки пользователей из других регионов"
   ]
  },
  {
   "cell_type": "markdown",
   "metadata": {},
   "source": [
    "- H0: средняя выручка пользователей из Москвы не отличается от выручки пользователей из других регионов;\n",
    "\n",
    "- H1: средняя выручка пользователей из Москвы отличается от выручки пользователей из других регионов.\n",
    "\n",
    "\n",
    "\n",
    "В отличии от предыдущей проверки, где даже на небольшой выборке можно получить однозначный ответ, для проверки этой гипотезы попытаемся увеличить выборку за счет всей статистики и объединим все данные в один список.\n",
    "\n",
    "\n",
    "\n"
   ]
  },
  {
   "cell_type": "code",
   "execution_count": 65,
   "metadata": {},
   "outputs": [],
   "source": [
    "list_msk=[]\n",
    "df_price_msk=df_price[df_price['city']=='Москва']\n",
    "for i in temp_list_price:\n",
    "    list_msk.extend(list(df_price_msk[i]))\n",
    "list_nomsk=[]\n",
    "df_price_nomsk=df_price[df_price['city']!='Москва']\n",
    "for i in temp_list_price:\n",
    "    list_nomsk.extend(list(df_price_nomsk[i]))\n",
    "    "
   ]
  },
  {
   "cell_type": "code",
   "execution_count": 66,
   "metadata": {},
   "outputs": [
    {
     "name": "stdout",
     "output_type": "stream",
     "text": [
      "p-значение:  0.5765226783143965\n"
     ]
    }
   ],
   "source": [
    "results = st.ttest_ind(list_msk, list_nomsk, nan_policy='omit' ,equal_var = False)\n",
    "print('p-значение: ', results.pvalue)"
   ]
  },
  {
   "cell_type": "markdown",
   "metadata": {},
   "source": [
    "### Выводы"
   ]
  },
  {
   "cell_type": "markdown",
   "metadata": {},
   "source": [
    "- Нулевая гипотеза о том , что  средняя выручка пользователей тарифов «Ультра» и «Смарт» не различаются смело может быть отвергнута. Средняя плата за декабрь по тарифу Смарт составляет 1593 руб., а по Ультра 2163 руб. Поэтому можно утверждать, что выручка по тарифу Smart существенно ниже. p-value в этом случае стремится к 0.\n",
    "- Нулевая гипотеза, о том что средняя выручка пользователей из Москвы не отличается от выручки пользователей из других регионов не может быть опровергута. p-value=0.52. Выбор alpha=0.05 позволяет сделать такой вывод. "
   ]
  },
  {
   "cell_type": "markdown",
   "metadata": {},
   "source": [
    "## Общий вывод"
   ]
  },
  {
   "cell_type": "markdown",
   "metadata": {},
   "source": [
    "- Пользователи тарифа Смарт в среднем используют 365 минут за месяц, 15 Гб интернет и 31 сообщений. При этом можно отметить, что средние имеют тенденцию к увеличению и для декабря составляют уже 450 минут за месяц, 18,5 Гб интернет и 35 сообщений. Это явление может быть связано с тем что абоненты подключаются зачастую не в первый день месяца и поэтому за первый месяц подключения не успевают полностью израсходовать \"нормальное\" для себя количество услуг связи. При этом у нас происходит увеличение количества абонентов каждый месяц. Поэтому значения за декабрь самые показательные.\n",
    "- Пользователи тарифа Ультра в среднем используют 468 минут за месяц, 18,7 Гб интернет и 43 сообщения.  При этом можно отметить, что средние имеют тенденцию к увеличению и для декабря составляют уже 556 минут за месяц, 22,15 Гб интернет и 60 сообщений. \n",
    "- абоненты тарифа Ультра больше пользуются всеми услугами: звонят больше на 28%, интернет - на 20 % и сообщения на 39 %. \n",
    "- Средняя плата за декабрь по тарифу Смарт составляет 1593 руб., а по Ультра 2163 руб.- Средняя плата за 2018 по тарифу Смарт составляет 1202 руб., а по Ультра  - 2063 руб. \n",
    "- Стоимость услуг по тарифу Смарт существенно ниже чем по Ультра. Стоимость услуг по тарифу Смарт имеет явно выраженную тенденцию к увеличению от января к декабрю. Стоимость услуг по тарифу Ультра также растет, но не так значительно как по тарифу Смарт.\n",
    "- Распределение стоимости за месяц по тарифу Ультра имеет явно выраженный пик в районе 1950 - стоимости тарифа. Распределение стоимости за месяц по тарифу Смарт имеет выраженный пик в районе 550 - стоимости тарифа. Распределение для тарифа Смарт равномерно спадает в то время как распределение для Ультра почти полностью сосредоточено в пике, а далее имеет длинный хвост в в сторону увеличения стоимости.\n",
    "- Нулевая гипотеза о том , что  средняя выручка пользователей тарифов «Ультра» и «Смарт» не различаются смело может быть отвергнута. Средняя плата за декабрь по тарифу Смарт составляет 1593 руб., а по Ультра 2163 руб. Поэтому можно утверждать, что выручка по тарифу Smart существенно ниже. p-value в этом случае стремится к 0.\n",
    "- Нулевая гипотеза, о том что средняя выручка пользователей из Москвы не отличается от выручки пользователей из других регионов не может быть опровергута. p-value=0.52. Выбор alpha=0.05 позволяет сделать такой вывод. Поэтому можно сделать вывод о том, что не выявлено статистически значемых различий между оплатой услуг связи между абонентами из Москвы и не из Москвы.\n",
    "\n",
    "\n",
    "\n",
    "\n"
   ]
  }
 ],
 "metadata": {
  "ExecuteTimeLog": [
   {
    "duration": 740,
    "start_time": "2021-11-10T15:46:48.848Z"
   },
   {
    "duration": 3674,
    "start_time": "2021-11-10T15:46:50.486Z"
   },
   {
    "duration": 252,
    "start_time": "2021-11-10T15:51:54.080Z"
   },
   {
    "duration": 158,
    "start_time": "2021-11-10T15:52:05.070Z"
   },
   {
    "duration": 185,
    "start_time": "2021-11-10T15:52:07.148Z"
   },
   {
    "duration": 3,
    "start_time": "2021-11-10T15:52:15.870Z"
   },
   {
    "duration": 181,
    "start_time": "2021-11-10T15:52:15.876Z"
   },
   {
    "duration": 4,
    "start_time": "2021-11-10T15:52:16.060Z"
   },
   {
    "duration": 319,
    "start_time": "2021-11-10T15:52:44.361Z"
   },
   {
    "duration": 565,
    "start_time": "2021-11-10T15:53:04.411Z"
   },
   {
    "duration": 2779,
    "start_time": "2021-11-10T15:53:09.209Z"
   },
   {
    "duration": 6,
    "start_time": "2021-11-10T15:53:40.111Z"
   },
   {
    "duration": 1025,
    "start_time": "2021-11-10T15:53:40.120Z"
   },
   {
    "duration": 27,
    "start_time": "2021-11-10T15:53:46.330Z"
   },
   {
    "duration": 22,
    "start_time": "2021-11-10T15:53:52.751Z"
   },
   {
    "duration": 20,
    "start_time": "2021-11-10T15:54:09.603Z"
   },
   {
    "duration": 12,
    "start_time": "2021-11-10T15:54:16.640Z"
   },
   {
    "duration": 20,
    "start_time": "2021-11-10T15:54:33.936Z"
   },
   {
    "duration": 17,
    "start_time": "2021-11-10T16:24:13.503Z"
   },
   {
    "duration": 27,
    "start_time": "2021-11-10T16:24:38.851Z"
   },
   {
    "duration": 44,
    "start_time": "2021-11-10T16:25:03.391Z"
   },
   {
    "duration": 122,
    "start_time": "2021-11-10T16:26:55.563Z"
   },
   {
    "duration": 123,
    "start_time": "2021-11-10T16:27:05.002Z"
   },
   {
    "duration": 122,
    "start_time": "2021-11-10T16:27:09.512Z"
   },
   {
    "duration": 602,
    "start_time": "2021-11-10T16:44:34.559Z"
   },
   {
    "duration": 16,
    "start_time": "2021-11-10T16:45:07.670Z"
   },
   {
    "duration": 290,
    "start_time": "2021-11-10T16:45:25.969Z"
   },
   {
    "duration": 23,
    "start_time": "2021-11-10T16:45:38.430Z"
   },
   {
    "duration": 380,
    "start_time": "2021-11-10T16:57:05.736Z"
   },
   {
    "duration": 279,
    "start_time": "2021-11-10T16:57:15.384Z"
   },
   {
    "duration": 277,
    "start_time": "2021-11-10T16:57:38.825Z"
   },
   {
    "duration": 4,
    "start_time": "2021-11-10T16:57:47.237Z"
   },
   {
    "duration": 6,
    "start_time": "2021-11-10T16:57:47.244Z"
   },
   {
    "duration": 1101,
    "start_time": "2021-11-10T16:57:47.254Z"
   },
   {
    "duration": 12,
    "start_time": "2021-11-10T16:57:48.358Z"
   },
   {
    "duration": 31,
    "start_time": "2021-11-10T16:57:48.373Z"
   },
   {
    "duration": 31,
    "start_time": "2021-11-10T16:57:48.406Z"
   },
   {
    "duration": 145,
    "start_time": "2021-11-10T16:57:48.440Z"
   },
   {
    "duration": 16,
    "start_time": "2021-11-10T16:57:48.588Z"
   },
   {
    "duration": 34,
    "start_time": "2021-11-10T16:57:48.607Z"
   },
   {
    "duration": 35,
    "start_time": "2021-11-10T16:57:48.643Z"
   },
   {
    "duration": 48,
    "start_time": "2021-11-10T16:57:48.681Z"
   },
   {
    "duration": 14,
    "start_time": "2021-11-10T16:57:48.731Z"
   },
   {
    "duration": 13,
    "start_time": "2021-11-10T16:57:48.747Z"
   },
   {
    "duration": 20,
    "start_time": "2021-11-10T16:57:48.763Z"
   },
   {
    "duration": 9,
    "start_time": "2021-11-10T16:58:00.174Z"
   },
   {
    "duration": 279,
    "start_time": "2021-11-10T16:58:40.006Z"
   },
   {
    "duration": 26,
    "start_time": "2021-11-10T16:59:32.828Z"
   },
   {
    "duration": 28,
    "start_time": "2021-11-10T16:59:45.066Z"
   },
   {
    "duration": 341,
    "start_time": "2021-11-10T17:01:24.590Z"
   },
   {
    "duration": 274,
    "start_time": "2021-11-10T17:02:58.087Z"
   },
   {
    "duration": 3,
    "start_time": "2021-11-10T17:44:17.829Z"
   },
   {
    "duration": 3,
    "start_time": "2021-11-10T18:21:14.574Z"
   },
   {
    "duration": 3,
    "start_time": "2021-11-10T18:21:58.824Z"
   },
   {
    "duration": 11,
    "start_time": "2021-11-10T18:21:58.829Z"
   },
   {
    "duration": 1121,
    "start_time": "2021-11-10T18:21:58.843Z"
   },
   {
    "duration": 11,
    "start_time": "2021-11-10T18:21:59.967Z"
   },
   {
    "duration": 31,
    "start_time": "2021-11-10T18:21:59.980Z"
   },
   {
    "duration": 25,
    "start_time": "2021-11-10T18:22:00.013Z"
   },
   {
    "duration": 131,
    "start_time": "2021-11-10T18:22:00.041Z"
   },
   {
    "duration": 16,
    "start_time": "2021-11-10T18:22:00.176Z"
   },
   {
    "duration": 39,
    "start_time": "2021-11-10T18:22:00.194Z"
   },
   {
    "duration": 34,
    "start_time": "2021-11-10T18:22:00.235Z"
   },
   {
    "duration": 26,
    "start_time": "2021-11-10T18:22:00.271Z"
   },
   {
    "duration": 367,
    "start_time": "2021-11-10T18:22:00.299Z"
   },
   {
    "duration": 20,
    "start_time": "2021-11-10T18:22:00.669Z"
   },
   {
    "duration": 40,
    "start_time": "2021-11-10T18:22:00.692Z"
   },
   {
    "duration": 22,
    "start_time": "2021-11-10T18:22:00.735Z"
   },
   {
    "duration": 41,
    "start_time": "2021-11-10T18:22:00.760Z"
   },
   {
    "duration": 4,
    "start_time": "2021-11-10T18:27:02.492Z"
   },
   {
    "duration": 12,
    "start_time": "2021-11-10T18:27:02.498Z"
   },
   {
    "duration": 1033,
    "start_time": "2021-11-10T18:27:02.513Z"
   },
   {
    "duration": 12,
    "start_time": "2021-11-10T18:27:03.548Z"
   },
   {
    "duration": 43,
    "start_time": "2021-11-10T18:27:03.562Z"
   },
   {
    "duration": 30,
    "start_time": "2021-11-10T18:27:03.607Z"
   },
   {
    "duration": 131,
    "start_time": "2021-11-10T18:27:03.639Z"
   },
   {
    "duration": 14,
    "start_time": "2021-11-10T18:27:03.774Z"
   },
   {
    "duration": 38,
    "start_time": "2021-11-10T18:27:03.791Z"
   },
   {
    "duration": 34,
    "start_time": "2021-11-10T18:27:03.831Z"
   },
   {
    "duration": 26,
    "start_time": "2021-11-10T18:27:03.867Z"
   },
   {
    "duration": 260,
    "start_time": "2021-11-10T18:27:03.895Z"
   },
   {
    "duration": 20,
    "start_time": "2021-11-10T18:27:04.157Z"
   },
   {
    "duration": 16,
    "start_time": "2021-11-10T18:27:04.180Z"
   },
   {
    "duration": 12,
    "start_time": "2021-11-10T18:27:04.230Z"
   },
   {
    "duration": 20,
    "start_time": "2021-11-10T18:27:04.245Z"
   },
   {
    "duration": 1034,
    "start_time": "2021-11-11T06:25:45.499Z"
   },
   {
    "duration": 803,
    "start_time": "2021-11-11T06:26:00.378Z"
   },
   {
    "duration": 4,
    "start_time": "2021-11-11T06:26:01.185Z"
   },
   {
    "duration": 176,
    "start_time": "2021-11-11T06:26:01.193Z"
   },
   {
    "duration": 13287,
    "start_time": "2021-11-11T06:25:48.085Z"
   },
   {
    "duration": 13280,
    "start_time": "2021-11-11T06:25:48.094Z"
   },
   {
    "duration": 13272,
    "start_time": "2021-11-11T06:25:48.103Z"
   },
   {
    "duration": 13268,
    "start_time": "2021-11-11T06:25:48.109Z"
   },
   {
    "duration": 13262,
    "start_time": "2021-11-11T06:25:48.116Z"
   },
   {
    "duration": 13259,
    "start_time": "2021-11-11T06:25:48.120Z"
   },
   {
    "duration": 13258,
    "start_time": "2021-11-11T06:25:48.123Z"
   },
   {
    "duration": 13250,
    "start_time": "2021-11-11T06:25:48.132Z"
   },
   {
    "duration": 13249,
    "start_time": "2021-11-11T06:25:48.135Z"
   },
   {
    "duration": 13247,
    "start_time": "2021-11-11T06:25:48.138Z"
   },
   {
    "duration": 13245,
    "start_time": "2021-11-11T06:25:48.142Z"
   },
   {
    "duration": 13238,
    "start_time": "2021-11-11T06:25:48.150Z"
   },
   {
    "duration": 13237,
    "start_time": "2021-11-11T06:25:48.153Z"
   },
   {
    "duration": 13235,
    "start_time": "2021-11-11T06:25:48.156Z"
   },
   {
    "duration": 13228,
    "start_time": "2021-11-11T06:25:48.165Z"
   },
   {
    "duration": 1701,
    "start_time": "2021-11-11T06:26:18.509Z"
   },
   {
    "duration": 21,
    "start_time": "2021-11-11T06:26:20.213Z"
   },
   {
    "duration": 28,
    "start_time": "2021-11-11T06:26:20.237Z"
   },
   {
    "duration": 24,
    "start_time": "2021-11-11T06:26:20.268Z"
   },
   {
    "duration": 129,
    "start_time": "2021-11-11T06:26:20.295Z"
   },
   {
    "duration": 20,
    "start_time": "2021-11-11T06:26:20.426Z"
   },
   {
    "duration": 18,
    "start_time": "2021-11-11T06:26:20.461Z"
   },
   {
    "duration": 17,
    "start_time": "2021-11-11T06:26:20.482Z"
   },
   {
    "duration": 19,
    "start_time": "2021-11-11T06:26:20.503Z"
   },
   {
    "duration": 50,
    "start_time": "2021-11-11T06:26:20.525Z"
   },
   {
    "duration": 20,
    "start_time": "2021-11-11T06:26:20.577Z"
   },
   {
    "duration": 17,
    "start_time": "2021-11-11T06:26:20.599Z"
   },
   {
    "duration": 57,
    "start_time": "2021-11-11T06:26:20.619Z"
   },
   {
    "duration": 26,
    "start_time": "2021-11-11T06:26:20.678Z"
   },
   {
    "duration": 237,
    "start_time": "2021-11-11T06:26:20.707Z"
   },
   {
    "duration": 5,
    "start_time": "2021-11-11T06:26:20.947Z"
   },
   {
    "duration": 25,
    "start_time": "2021-11-11T06:28:21.691Z"
   },
   {
    "duration": 1593,
    "start_time": "2021-11-11T06:28:24.900Z"
   },
   {
    "duration": 516,
    "start_time": "2021-11-11T06:28:31.310Z"
   },
   {
    "duration": 17,
    "start_time": "2021-11-11T06:28:48.119Z"
   },
   {
    "duration": 22,
    "start_time": "2021-11-11T06:32:34.284Z"
   },
   {
    "duration": 18,
    "start_time": "2021-11-11T06:32:52.417Z"
   },
   {
    "duration": 15,
    "start_time": "2021-11-11T06:33:06.032Z"
   },
   {
    "duration": 8,
    "start_time": "2021-11-11T06:33:35.828Z"
   },
   {
    "duration": 19,
    "start_time": "2021-11-11T06:34:11.508Z"
   },
   {
    "duration": 16,
    "start_time": "2021-11-11T06:36:40.016Z"
   },
   {
    "duration": 10,
    "start_time": "2021-11-11T06:37:12.323Z"
   },
   {
    "duration": 16,
    "start_time": "2021-11-11T06:38:10.234Z"
   },
   {
    "duration": 8,
    "start_time": "2021-11-11T06:38:25.375Z"
   },
   {
    "duration": 8,
    "start_time": "2021-11-11T06:39:31.214Z"
   },
   {
    "duration": 181,
    "start_time": "2021-11-11T06:39:41.844Z"
   },
   {
    "duration": 15,
    "start_time": "2021-11-11T06:39:44.451Z"
   },
   {
    "duration": 23,
    "start_time": "2021-11-11T06:39:52.474Z"
   },
   {
    "duration": 9,
    "start_time": "2021-11-11T06:40:19.644Z"
   },
   {
    "duration": 8,
    "start_time": "2021-11-11T06:40:26.906Z"
   },
   {
    "duration": 21,
    "start_time": "2021-11-11T06:42:24.707Z"
   },
   {
    "duration": 10,
    "start_time": "2021-11-11T06:42:47.096Z"
   },
   {
    "duration": 376,
    "start_time": "2021-11-11T06:43:01.135Z"
   },
   {
    "duration": 527,
    "start_time": "2021-11-11T06:43:13.415Z"
   },
   {
    "duration": 363,
    "start_time": "2021-11-11T06:43:27.596Z"
   },
   {
    "duration": 118,
    "start_time": "2021-11-11T06:45:09.397Z"
   },
   {
    "duration": 785,
    "start_time": "2021-11-11T06:45:24.427Z"
   },
   {
    "duration": 453,
    "start_time": "2021-11-11T06:45:42.357Z"
   },
   {
    "duration": 444,
    "start_time": "2021-11-11T06:45:54.287Z"
   },
   {
    "duration": 794,
    "start_time": "2021-11-11T06:46:59.747Z"
   },
   {
    "duration": 771,
    "start_time": "2021-11-11T06:47:10.988Z"
   },
   {
    "duration": 413,
    "start_time": "2021-11-11T06:47:23.309Z"
   },
   {
    "duration": 396,
    "start_time": "2021-11-11T06:48:35.088Z"
   },
   {
    "duration": 498,
    "start_time": "2021-11-11T06:48:44.428Z"
   },
   {
    "duration": 431,
    "start_time": "2021-11-11T06:49:08.945Z"
   },
   {
    "duration": 365,
    "start_time": "2021-11-11T06:49:20.548Z"
   },
   {
    "duration": 44,
    "start_time": "2021-11-11T06:50:58.518Z"
   },
   {
    "duration": 19,
    "start_time": "2021-11-11T06:51:31.099Z"
   },
   {
    "duration": 1554,
    "start_time": "2021-11-11T06:52:12.842Z"
   },
   {
    "duration": 8,
    "start_time": "2021-11-11T07:03:38.213Z"
   },
   {
    "duration": 10705,
    "start_time": "2021-11-11T07:04:45.124Z"
   },
   {
    "duration": 81,
    "start_time": "2021-11-11T07:05:00.655Z"
   },
   {
    "duration": 115,
    "start_time": "2021-11-11T07:08:01.446Z"
   },
   {
    "duration": 47,
    "start_time": "2021-11-11T07:08:19.008Z"
   },
   {
    "duration": 109,
    "start_time": "2021-11-11T07:08:38.847Z"
   },
   {
    "duration": 27,
    "start_time": "2021-11-11T07:13:11.092Z"
   },
   {
    "duration": 24,
    "start_time": "2021-11-11T07:53:57.024Z"
   },
   {
    "duration": 4,
    "start_time": "2021-11-11T07:55:25.071Z"
   },
   {
    "duration": 788,
    "start_time": "2021-11-11T07:55:38.345Z"
   },
   {
    "duration": 3,
    "start_time": "2021-11-11T07:55:39.136Z"
   },
   {
    "duration": 2967,
    "start_time": "2021-11-11T07:55:39.145Z"
   },
   {
    "duration": 23,
    "start_time": "2021-11-11T07:55:42.114Z"
   },
   {
    "duration": 23,
    "start_time": "2021-11-11T07:55:42.139Z"
   },
   {
    "duration": 21,
    "start_time": "2021-11-11T07:55:42.165Z"
   },
   {
    "duration": 12,
    "start_time": "2021-11-11T07:55:42.191Z"
   },
   {
    "duration": 11,
    "start_time": "2021-11-11T07:55:42.206Z"
   },
   {
    "duration": 53,
    "start_time": "2021-11-11T07:55:42.219Z"
   },
   {
    "duration": 25,
    "start_time": "2021-11-11T07:55:42.275Z"
   },
   {
    "duration": 8,
    "start_time": "2021-11-11T07:55:42.303Z"
   },
   {
    "duration": 57,
    "start_time": "2021-11-11T07:55:42.314Z"
   },
   {
    "duration": 18,
    "start_time": "2021-11-11T07:55:42.373Z"
   },
   {
    "duration": 74,
    "start_time": "2021-11-11T07:55:42.393Z"
   },
   {
    "duration": 26,
    "start_time": "2021-11-11T07:55:42.469Z"
   },
   {
    "duration": 237,
    "start_time": "2021-11-11T07:55:42.497Z"
   },
   {
    "duration": 4,
    "start_time": "2021-11-11T07:55:42.736Z"
   },
   {
    "duration": 424,
    "start_time": "2021-11-11T07:55:42.742Z"
   },
   {
    "duration": 18,
    "start_time": "2021-11-11T07:55:55.035Z"
   },
   {
    "duration": 468,
    "start_time": "2021-11-11T07:56:06.162Z"
   },
   {
    "duration": 20,
    "start_time": "2021-11-11T07:56:11.262Z"
   },
   {
    "duration": 397,
    "start_time": "2021-11-11T07:56:41.233Z"
   },
   {
    "duration": 20,
    "start_time": "2021-11-11T07:57:01.434Z"
   },
   {
    "duration": 42,
    "start_time": "2021-11-11T07:57:21.832Z"
   },
   {
    "duration": 448,
    "start_time": "2021-11-11T07:57:25.951Z"
   },
   {
    "duration": 12,
    "start_time": "2021-11-11T07:57:31.624Z"
   },
   {
    "duration": 527,
    "start_time": "2021-11-11T07:58:05.933Z"
   },
   {
    "duration": 392,
    "start_time": "2021-11-11T07:58:11.682Z"
   },
   {
    "duration": 747,
    "start_time": "2021-11-11T07:58:33.220Z"
   },
   {
    "duration": 3,
    "start_time": "2021-11-11T07:58:33.969Z"
   },
   {
    "duration": 2289,
    "start_time": "2021-11-11T07:58:33.976Z"
   },
   {
    "duration": 20,
    "start_time": "2021-11-11T07:58:36.268Z"
   },
   {
    "duration": 21,
    "start_time": "2021-11-11T07:58:36.291Z"
   },
   {
    "duration": 21,
    "start_time": "2021-11-11T07:58:36.314Z"
   },
   {
    "duration": 29,
    "start_time": "2021-11-11T07:58:36.337Z"
   },
   {
    "duration": 10,
    "start_time": "2021-11-11T07:58:36.369Z"
   },
   {
    "duration": 15,
    "start_time": "2021-11-11T07:58:36.382Z"
   },
   {
    "duration": 19,
    "start_time": "2021-11-11T07:58:36.400Z"
   },
   {
    "duration": 43,
    "start_time": "2021-11-11T07:58:36.421Z"
   },
   {
    "duration": 17,
    "start_time": "2021-11-11T07:58:36.466Z"
   },
   {
    "duration": 18,
    "start_time": "2021-11-11T07:58:36.485Z"
   },
   {
    "duration": 60,
    "start_time": "2021-11-11T07:58:36.506Z"
   },
   {
    "duration": 24,
    "start_time": "2021-11-11T07:58:36.569Z"
   },
   {
    "duration": 225,
    "start_time": "2021-11-11T07:58:36.596Z"
   },
   {
    "duration": 18,
    "start_time": "2021-11-11T07:58:36.824Z"
   },
   {
    "duration": 415,
    "start_time": "2021-11-11T07:58:36.860Z"
   },
   {
    "duration": 453,
    "start_time": "2021-11-11T07:59:52.175Z"
   },
   {
    "duration": 797,
    "start_time": "2021-11-11T08:00:05.322Z"
   },
   {
    "duration": 3,
    "start_time": "2021-11-11T08:00:06.122Z"
   },
   {
    "duration": 2119,
    "start_time": "2021-11-11T08:00:06.129Z"
   },
   {
    "duration": 20,
    "start_time": "2021-11-11T08:00:08.251Z"
   },
   {
    "duration": 16,
    "start_time": "2021-11-11T08:00:08.274Z"
   },
   {
    "duration": 18,
    "start_time": "2021-11-11T08:00:08.292Z"
   },
   {
    "duration": 9,
    "start_time": "2021-11-11T08:00:08.312Z"
   },
   {
    "duration": 11,
    "start_time": "2021-11-11T08:00:08.360Z"
   },
   {
    "duration": 17,
    "start_time": "2021-11-11T08:00:08.373Z"
   },
   {
    "duration": 19,
    "start_time": "2021-11-11T08:00:08.392Z"
   },
   {
    "duration": 8,
    "start_time": "2021-11-11T08:00:08.413Z"
   },
   {
    "duration": 45,
    "start_time": "2021-11-11T08:00:08.423Z"
   },
   {
    "duration": 17,
    "start_time": "2021-11-11T08:00:08.471Z"
   },
   {
    "duration": 31,
    "start_time": "2021-11-11T08:00:08.490Z"
   },
   {
    "duration": 51,
    "start_time": "2021-11-11T08:00:08.523Z"
   },
   {
    "duration": 26,
    "start_time": "2021-11-11T08:00:08.576Z"
   },
   {
    "duration": 19,
    "start_time": "2021-11-11T08:00:08.604Z"
   },
   {
    "duration": 443,
    "start_time": "2021-11-11T08:00:08.625Z"
   },
   {
    "duration": 12,
    "start_time": "2021-11-11T08:01:00.851Z"
   },
   {
    "duration": 787,
    "start_time": "2021-11-11T11:05:41.512Z"
   },
   {
    "duration": 5,
    "start_time": "2021-11-11T11:05:42.301Z"
   },
   {
    "duration": 4973,
    "start_time": "2021-11-11T11:05:42.310Z"
   },
   {
    "duration": 24,
    "start_time": "2021-11-11T11:05:47.286Z"
   },
   {
    "duration": 14,
    "start_time": "2021-11-11T11:05:47.313Z"
   },
   {
    "duration": 35,
    "start_time": "2021-11-11T11:05:47.330Z"
   },
   {
    "duration": 14,
    "start_time": "2021-11-11T11:05:47.367Z"
   },
   {
    "duration": 10,
    "start_time": "2021-11-11T11:05:47.385Z"
   },
   {
    "duration": 13,
    "start_time": "2021-11-11T11:05:47.399Z"
   },
   {
    "duration": 57,
    "start_time": "2021-11-11T11:05:47.415Z"
   },
   {
    "duration": 9,
    "start_time": "2021-11-11T11:05:47.475Z"
   },
   {
    "duration": 18,
    "start_time": "2021-11-11T11:05:47.487Z"
   },
   {
    "duration": 64,
    "start_time": "2021-11-11T11:05:47.507Z"
   },
   {
    "duration": 36,
    "start_time": "2021-11-11T11:05:47.574Z"
   },
   {
    "duration": 27,
    "start_time": "2021-11-11T11:05:47.612Z"
   },
   {
    "duration": 32,
    "start_time": "2021-11-11T11:05:47.660Z"
   },
   {
    "duration": 23,
    "start_time": "2021-11-11T11:05:47.694Z"
   },
   {
    "duration": 49,
    "start_time": "2021-11-11T11:05:47.720Z"
   },
   {
    "duration": 22,
    "start_time": "2021-11-11T11:05:47.772Z"
   },
   {
    "duration": 9766,
    "start_time": "2021-11-11T11:05:47.796Z"
   },
   {
    "duration": 13970,
    "start_time": "2021-11-11T11:05:43.595Z"
   },
   {
    "duration": 13963,
    "start_time": "2021-11-11T11:05:43.603Z"
   },
   {
    "duration": 13959,
    "start_time": "2021-11-11T11:05:43.609Z"
   },
   {
    "duration": 6,
    "start_time": "2021-11-11T11:06:17.671Z"
   },
   {
    "duration": 230,
    "start_time": "2021-11-11T17:48:14.122Z"
   },
   {
    "duration": 576,
    "start_time": "2021-11-11T17:48:27.172Z"
   },
   {
    "duration": 8,
    "start_time": "2021-11-11T17:48:27.750Z"
   },
   {
    "duration": 1289,
    "start_time": "2021-11-11T17:48:27.760Z"
   },
   {
    "duration": 14,
    "start_time": "2021-11-11T17:48:29.051Z"
   },
   {
    "duration": 9,
    "start_time": "2021-11-11T17:48:29.067Z"
   },
   {
    "duration": 11,
    "start_time": "2021-11-11T17:48:29.078Z"
   },
   {
    "duration": 7,
    "start_time": "2021-11-11T17:48:29.090Z"
   },
   {
    "duration": 6,
    "start_time": "2021-11-11T17:48:29.100Z"
   },
   {
    "duration": 8,
    "start_time": "2021-11-11T17:48:29.108Z"
   },
   {
    "duration": 12,
    "start_time": "2021-11-11T17:48:29.117Z"
   },
   {
    "duration": 7,
    "start_time": "2021-11-11T17:48:29.131Z"
   },
   {
    "duration": 11,
    "start_time": "2021-11-11T17:48:29.139Z"
   },
   {
    "duration": 41,
    "start_time": "2021-11-11T17:48:29.151Z"
   },
   {
    "duration": 24,
    "start_time": "2021-11-11T17:48:29.193Z"
   },
   {
    "duration": 19,
    "start_time": "2021-11-11T17:48:29.218Z"
   },
   {
    "duration": 22,
    "start_time": "2021-11-11T17:48:29.239Z"
   },
   {
    "duration": 40,
    "start_time": "2021-11-11T17:48:29.263Z"
   },
   {
    "duration": 17,
    "start_time": "2021-11-11T17:48:29.305Z"
   },
   {
    "duration": 14,
    "start_time": "2021-11-11T17:48:29.324Z"
   },
   {
    "duration": 4,
    "start_time": "2021-11-11T17:48:29.340Z"
   },
   {
    "duration": 194,
    "start_time": "2021-11-11T17:48:29.346Z"
   },
   {
    "duration": 14999,
    "start_time": "2021-11-11T17:48:14.542Z"
   },
   {
    "duration": 14994,
    "start_time": "2021-11-11T17:48:14.548Z"
   },
   {
    "duration": 14986,
    "start_time": "2021-11-11T17:48:14.557Z"
   },
   {
    "duration": 175,
    "start_time": "2021-11-11T17:48:36.732Z"
   },
   {
    "duration": 196,
    "start_time": "2021-11-11T17:48:44.923Z"
   },
   {
    "duration": 169,
    "start_time": "2021-11-11T17:49:02.811Z"
   },
   {
    "duration": 188,
    "start_time": "2021-11-11T17:49:07.501Z"
   },
   {
    "duration": 45,
    "start_time": "2021-11-11T17:49:20.404Z"
   },
   {
    "duration": 31,
    "start_time": "2021-11-11T17:50:47.112Z"
   },
   {
    "duration": 184,
    "start_time": "2021-11-11T17:50:53.672Z"
   },
   {
    "duration": 3,
    "start_time": "2021-11-11T17:51:07.013Z"
   },
   {
    "duration": 7,
    "start_time": "2021-11-11T17:51:07.017Z"
   },
   {
    "duration": 845,
    "start_time": "2021-11-11T17:51:07.025Z"
   },
   {
    "duration": 7,
    "start_time": "2021-11-11T17:51:07.872Z"
   },
   {
    "duration": 11,
    "start_time": "2021-11-11T17:51:07.881Z"
   },
   {
    "duration": 12,
    "start_time": "2021-11-11T17:51:07.893Z"
   },
   {
    "duration": 7,
    "start_time": "2021-11-11T17:51:07.907Z"
   },
   {
    "duration": 6,
    "start_time": "2021-11-11T17:51:07.916Z"
   },
   {
    "duration": 9,
    "start_time": "2021-11-11T17:51:07.923Z"
   },
   {
    "duration": 10,
    "start_time": "2021-11-11T17:51:07.933Z"
   },
   {
    "duration": 6,
    "start_time": "2021-11-11T17:51:07.944Z"
   },
   {
    "duration": 47,
    "start_time": "2021-11-11T17:51:07.951Z"
   },
   {
    "duration": 13,
    "start_time": "2021-11-11T17:51:08.000Z"
   },
   {
    "duration": 23,
    "start_time": "2021-11-11T17:51:08.014Z"
   },
   {
    "duration": 17,
    "start_time": "2021-11-11T17:51:08.039Z"
   },
   {
    "duration": 40,
    "start_time": "2021-11-11T17:51:08.058Z"
   },
   {
    "duration": 16,
    "start_time": "2021-11-11T17:51:08.100Z"
   },
   {
    "duration": 17,
    "start_time": "2021-11-11T17:51:08.117Z"
   },
   {
    "duration": 14,
    "start_time": "2021-11-11T17:51:08.136Z"
   },
   {
    "duration": 4,
    "start_time": "2021-11-11T17:51:08.151Z"
   },
   {
    "duration": 58,
    "start_time": "2021-11-11T17:51:08.157Z"
   },
   {
    "duration": 1026,
    "start_time": "2021-11-11T17:51:08.217Z"
   },
   {
    "duration": 15071,
    "start_time": "2021-11-11T17:50:54.173Z"
   },
   {
    "duration": 15067,
    "start_time": "2021-11-11T17:50:54.178Z"
   },
   {
    "duration": 40,
    "start_time": "2021-11-11T17:51:46.153Z"
   },
   {
    "duration": 29,
    "start_time": "2021-11-11T17:53:04.192Z"
   },
   {
    "duration": 57,
    "start_time": "2021-11-11T17:53:29.685Z"
   },
   {
    "duration": 10,
    "start_time": "2021-11-11T17:53:36.642Z"
   },
   {
    "duration": 27,
    "start_time": "2021-11-11T17:53:58.274Z"
   },
   {
    "duration": 6,
    "start_time": "2021-11-11T17:55:17.837Z"
   },
   {
    "duration": 176,
    "start_time": "2021-11-11T17:56:06.802Z"
   },
   {
    "duration": 26,
    "start_time": "2021-11-11T17:56:09.601Z"
   },
   {
    "duration": 24,
    "start_time": "2021-11-11T17:57:31.185Z"
   },
   {
    "duration": 40,
    "start_time": "2021-11-11T17:57:44.785Z"
   },
   {
    "duration": 178,
    "start_time": "2021-11-11T17:59:05.206Z"
   },
   {
    "duration": 6,
    "start_time": "2021-11-11T17:59:12.687Z"
   },
   {
    "duration": 7,
    "start_time": "2021-11-11T17:59:14.825Z"
   },
   {
    "duration": 29,
    "start_time": "2021-11-11T17:59:19.416Z"
   },
   {
    "duration": 4,
    "start_time": "2021-11-11T18:00:04.626Z"
   },
   {
    "duration": 26,
    "start_time": "2021-11-11T18:02:28.007Z"
   },
   {
    "duration": 94,
    "start_time": "2021-11-11T18:02:34.097Z"
   },
   {
    "duration": 14,
    "start_time": "2021-11-11T18:03:00.588Z"
   },
   {
    "duration": 25,
    "start_time": "2021-11-11T18:03:26.328Z"
   },
   {
    "duration": 33,
    "start_time": "2021-11-11T18:03:45.644Z"
   },
   {
    "duration": 249,
    "start_time": "2021-11-11T18:03:54.409Z"
   },
   {
    "duration": 4,
    "start_time": "2021-11-11T18:03:59.157Z"
   },
   {
    "duration": 36,
    "start_time": "2021-11-11T18:04:41.686Z"
   },
   {
    "duration": 6,
    "start_time": "2021-11-11T18:04:57.638Z"
   },
   {
    "duration": 34,
    "start_time": "2021-11-11T18:06:01.698Z"
   },
   {
    "duration": 3,
    "start_time": "2021-11-11T18:09:29.710Z"
   },
   {
    "duration": 20,
    "start_time": "2021-11-11T18:09:29.715Z"
   },
   {
    "duration": 1029,
    "start_time": "2021-11-11T18:09:29.737Z"
   },
   {
    "duration": 8,
    "start_time": "2021-11-11T18:09:30.768Z"
   },
   {
    "duration": 28,
    "start_time": "2021-11-11T18:09:30.778Z"
   },
   {
    "duration": 20,
    "start_time": "2021-11-11T18:09:30.807Z"
   },
   {
    "duration": 9,
    "start_time": "2021-11-11T18:09:30.830Z"
   },
   {
    "duration": 16,
    "start_time": "2021-11-11T18:09:30.841Z"
   },
   {
    "duration": 24,
    "start_time": "2021-11-11T18:09:30.859Z"
   },
   {
    "duration": 38,
    "start_time": "2021-11-11T18:09:30.885Z"
   },
   {
    "duration": 9,
    "start_time": "2021-11-11T18:09:30.925Z"
   },
   {
    "duration": 11,
    "start_time": "2021-11-11T18:09:30.936Z"
   },
   {
    "duration": 20,
    "start_time": "2021-11-11T18:09:30.949Z"
   },
   {
    "duration": 21,
    "start_time": "2021-11-11T18:09:30.971Z"
   },
   {
    "duration": 23,
    "start_time": "2021-11-11T18:09:30.994Z"
   },
   {
    "duration": 18,
    "start_time": "2021-11-11T18:09:31.019Z"
   },
   {
    "duration": 21,
    "start_time": "2021-11-11T18:09:31.039Z"
   },
   {
    "duration": 38,
    "start_time": "2021-11-11T18:09:31.061Z"
   },
   {
    "duration": 17,
    "start_time": "2021-11-11T18:09:31.102Z"
   },
   {
    "duration": 19,
    "start_time": "2021-11-11T18:09:31.121Z"
   },
   {
    "duration": 5,
    "start_time": "2021-11-11T18:09:31.141Z"
   },
   {
    "duration": 55,
    "start_time": "2021-11-11T18:09:31.147Z"
   },
   {
    "duration": 25,
    "start_time": "2021-11-11T18:09:31.204Z"
   },
   {
    "duration": 26,
    "start_time": "2021-11-11T18:09:31.231Z"
   },
   {
    "duration": 39,
    "start_time": "2021-11-11T18:09:31.259Z"
   },
   {
    "duration": 24,
    "start_time": "2021-11-11T18:09:31.300Z"
   },
   {
    "duration": 37,
    "start_time": "2021-11-11T18:09:31.325Z"
   },
   {
    "duration": 5,
    "start_time": "2021-11-11T18:09:31.363Z"
   },
   {
    "duration": 21,
    "start_time": "2021-11-11T18:09:31.369Z"
   },
   {
    "duration": 279,
    "start_time": "2021-11-11T18:09:31.391Z"
   },
   {
    "duration": 200,
    "start_time": "2021-11-11T18:12:25.201Z"
   },
   {
    "duration": 177,
    "start_time": "2021-11-11T18:13:18.271Z"
   },
   {
    "duration": 5,
    "start_time": "2021-11-11T18:14:30.042Z"
   },
   {
    "duration": 20,
    "start_time": "2021-11-11T18:14:39.661Z"
   },
   {
    "duration": 3,
    "start_time": "2021-11-11T18:14:49.742Z"
   },
   {
    "duration": 4,
    "start_time": "2021-11-11T18:14:51.312Z"
   },
   {
    "duration": 175,
    "start_time": "2021-11-11T18:15:02.221Z"
   },
   {
    "duration": 4,
    "start_time": "2021-11-11T18:15:06.663Z"
   },
   {
    "duration": 3,
    "start_time": "2021-11-11T18:15:11.481Z"
   },
   {
    "duration": 27,
    "start_time": "2021-11-11T18:15:11.486Z"
   },
   {
    "duration": 1879,
    "start_time": "2021-11-11T18:15:11.515Z"
   },
   {
    "duration": 7,
    "start_time": "2021-11-11T18:15:13.396Z"
   },
   {
    "duration": 18,
    "start_time": "2021-11-11T18:15:13.405Z"
   },
   {
    "duration": 13,
    "start_time": "2021-11-11T18:15:13.424Z"
   },
   {
    "duration": 13,
    "start_time": "2021-11-11T18:15:13.439Z"
   },
   {
    "duration": 6,
    "start_time": "2021-11-11T18:15:13.454Z"
   },
   {
    "duration": 31,
    "start_time": "2021-11-11T18:15:13.462Z"
   },
   {
    "duration": 11,
    "start_time": "2021-11-11T18:15:13.494Z"
   },
   {
    "duration": 8,
    "start_time": "2021-11-11T18:15:13.507Z"
   },
   {
    "duration": 10,
    "start_time": "2021-11-11T18:15:13.517Z"
   },
   {
    "duration": 13,
    "start_time": "2021-11-11T18:15:13.528Z"
   },
   {
    "duration": 13,
    "start_time": "2021-11-11T18:15:13.543Z"
   },
   {
    "duration": 45,
    "start_time": "2021-11-11T18:15:13.557Z"
   },
   {
    "duration": 19,
    "start_time": "2021-11-11T18:15:13.604Z"
   },
   {
    "duration": 23,
    "start_time": "2021-11-11T18:15:13.624Z"
   },
   {
    "duration": 17,
    "start_time": "2021-11-11T18:15:13.649Z"
   },
   {
    "duration": 36,
    "start_time": "2021-11-11T18:15:13.669Z"
   },
   {
    "duration": 15,
    "start_time": "2021-11-11T18:15:13.707Z"
   },
   {
    "duration": 4,
    "start_time": "2021-11-11T18:15:13.724Z"
   },
   {
    "duration": 69,
    "start_time": "2021-11-11T18:15:13.729Z"
   },
   {
    "duration": 31,
    "start_time": "2021-11-11T18:15:13.799Z"
   },
   {
    "duration": 29,
    "start_time": "2021-11-11T18:15:13.831Z"
   },
   {
    "duration": 5,
    "start_time": "2021-11-11T18:15:13.861Z"
   },
   {
    "duration": 41,
    "start_time": "2021-11-11T18:15:13.867Z"
   },
   {
    "duration": 12,
    "start_time": "2021-11-11T18:15:13.909Z"
   },
   {
    "duration": 42,
    "start_time": "2021-11-11T18:15:13.923Z"
   },
   {
    "duration": 5,
    "start_time": "2021-11-11T18:15:13.966Z"
   },
   {
    "duration": 34,
    "start_time": "2021-11-11T18:15:13.972Z"
   },
   {
    "duration": 214,
    "start_time": "2021-11-11T18:15:14.008Z"
   },
   {
    "duration": 184,
    "start_time": "2021-11-11T18:16:48.473Z"
   },
   {
    "duration": 68,
    "start_time": "2021-11-11T18:17:00.603Z"
   },
   {
    "duration": 173,
    "start_time": "2021-11-11T18:17:04.232Z"
   },
   {
    "duration": 168,
    "start_time": "2021-11-11T18:17:34.183Z"
   },
   {
    "duration": 4,
    "start_time": "2021-11-11T18:17:38.583Z"
   },
   {
    "duration": 4652,
    "start_time": "2021-11-11T18:17:53.593Z"
   },
   {
    "duration": 572,
    "start_time": "2021-11-11T18:18:28.117Z"
   },
   {
    "duration": 2,
    "start_time": "2021-11-11T18:18:28.691Z"
   },
   {
    "duration": 791,
    "start_time": "2021-11-11T18:18:28.695Z"
   },
   {
    "duration": 13,
    "start_time": "2021-11-11T18:18:29.488Z"
   },
   {
    "duration": 14,
    "start_time": "2021-11-11T18:18:29.502Z"
   },
   {
    "duration": 16,
    "start_time": "2021-11-11T18:18:29.517Z"
   },
   {
    "duration": 13,
    "start_time": "2021-11-11T18:18:29.534Z"
   },
   {
    "duration": 17,
    "start_time": "2021-11-11T18:18:29.549Z"
   },
   {
    "duration": 11,
    "start_time": "2021-11-11T18:18:29.568Z"
   },
   {
    "duration": 17,
    "start_time": "2021-11-11T18:18:29.580Z"
   },
   {
    "duration": 16,
    "start_time": "2021-11-11T18:18:29.598Z"
   },
   {
    "duration": 12,
    "start_time": "2021-11-11T18:18:29.616Z"
   },
   {
    "duration": 22,
    "start_time": "2021-11-11T18:18:29.630Z"
   },
   {
    "duration": 15,
    "start_time": "2021-11-11T18:18:29.653Z"
   },
   {
    "duration": 27,
    "start_time": "2021-11-11T18:18:29.670Z"
   },
   {
    "duration": 18,
    "start_time": "2021-11-11T18:18:29.699Z"
   },
   {
    "duration": 20,
    "start_time": "2021-11-11T18:18:29.719Z"
   },
   {
    "duration": 16,
    "start_time": "2021-11-11T18:18:29.740Z"
   },
   {
    "duration": 37,
    "start_time": "2021-11-11T18:18:29.758Z"
   },
   {
    "duration": 14,
    "start_time": "2021-11-11T18:18:29.796Z"
   },
   {
    "duration": 4,
    "start_time": "2021-11-11T18:18:29.811Z"
   },
   {
    "duration": 61,
    "start_time": "2021-11-11T18:18:29.817Z"
   },
   {
    "duration": 37,
    "start_time": "2021-11-11T18:18:29.880Z"
   },
   {
    "duration": 44,
    "start_time": "2021-11-11T18:18:29.918Z"
   },
   {
    "duration": 5,
    "start_time": "2021-11-11T18:18:29.963Z"
   },
   {
    "duration": 34,
    "start_time": "2021-11-11T18:18:29.969Z"
   },
   {
    "duration": 13,
    "start_time": "2021-11-11T18:18:30.005Z"
   },
   {
    "duration": 45,
    "start_time": "2021-11-11T18:18:30.020Z"
   },
   {
    "duration": 5,
    "start_time": "2021-11-11T18:18:30.066Z"
   },
   {
    "duration": 24,
    "start_time": "2021-11-11T18:18:30.073Z"
   },
   {
    "duration": 273,
    "start_time": "2021-11-11T18:18:30.099Z"
   },
   {
    "duration": 366,
    "start_time": "2021-11-11T18:21:07.868Z"
   },
   {
    "duration": 592,
    "start_time": "2021-11-11T18:21:37.978Z"
   },
   {
    "duration": 2,
    "start_time": "2021-11-11T18:21:38.572Z"
   },
   {
    "duration": 1600,
    "start_time": "2021-11-11T18:21:38.576Z"
   },
   {
    "duration": 14,
    "start_time": "2021-11-11T18:21:40.178Z"
   },
   {
    "duration": 14,
    "start_time": "2021-11-11T18:21:40.193Z"
   },
   {
    "duration": 18,
    "start_time": "2021-11-11T18:21:40.208Z"
   },
   {
    "duration": 16,
    "start_time": "2021-11-11T18:21:40.227Z"
   },
   {
    "duration": 18,
    "start_time": "2021-11-11T18:21:40.246Z"
   },
   {
    "duration": 25,
    "start_time": "2021-11-11T18:21:40.266Z"
   },
   {
    "duration": 16,
    "start_time": "2021-11-11T18:21:40.293Z"
   },
   {
    "duration": 27,
    "start_time": "2021-11-11T18:21:40.310Z"
   },
   {
    "duration": 20,
    "start_time": "2021-11-11T18:21:40.339Z"
   },
   {
    "duration": 26,
    "start_time": "2021-11-11T18:21:40.361Z"
   },
   {
    "duration": 14,
    "start_time": "2021-11-11T18:21:40.389Z"
   },
   {
    "duration": 24,
    "start_time": "2021-11-11T18:21:40.405Z"
   },
   {
    "duration": 18,
    "start_time": "2021-11-11T18:21:40.431Z"
   },
   {
    "duration": 47,
    "start_time": "2021-11-11T18:21:40.450Z"
   },
   {
    "duration": 17,
    "start_time": "2021-11-11T18:21:40.499Z"
   },
   {
    "duration": 18,
    "start_time": "2021-11-11T18:21:40.517Z"
   },
   {
    "duration": 14,
    "start_time": "2021-11-11T18:21:40.536Z"
   },
   {
    "duration": 5,
    "start_time": "2021-11-11T18:21:40.552Z"
   },
   {
    "duration": 69,
    "start_time": "2021-11-11T18:21:40.558Z"
   },
   {
    "duration": 30,
    "start_time": "2021-11-11T18:21:40.630Z"
   },
   {
    "duration": 61,
    "start_time": "2021-11-11T18:21:40.662Z"
   },
   {
    "duration": 257,
    "start_time": "2021-11-11T18:21:40.725Z"
   },
   {
    "duration": 15160,
    "start_time": "2021-11-11T18:21:25.824Z"
   },
   {
    "duration": 15152,
    "start_time": "2021-11-11T18:21:25.832Z"
   },
   {
    "duration": 15147,
    "start_time": "2021-11-11T18:21:25.838Z"
   },
   {
    "duration": 15142,
    "start_time": "2021-11-11T18:21:25.844Z"
   },
   {
    "duration": 15140,
    "start_time": "2021-11-11T18:21:25.847Z"
   },
   {
    "duration": 15138,
    "start_time": "2021-11-11T18:21:25.850Z"
   },
   {
    "duration": 298,
    "start_time": "2021-11-11T18:21:52.764Z"
   },
   {
    "duration": 2,
    "start_time": "2021-11-11T18:22:08.329Z"
   },
   {
    "duration": 5,
    "start_time": "2021-11-11T18:22:08.334Z"
   },
   {
    "duration": 2052,
    "start_time": "2021-11-11T18:22:08.341Z"
   },
   {
    "duration": 9,
    "start_time": "2021-11-11T18:22:10.395Z"
   },
   {
    "duration": 15,
    "start_time": "2021-11-11T18:22:10.405Z"
   },
   {
    "duration": 13,
    "start_time": "2021-11-11T18:22:10.421Z"
   },
   {
    "duration": 7,
    "start_time": "2021-11-11T18:22:10.435Z"
   },
   {
    "duration": 6,
    "start_time": "2021-11-11T18:22:10.445Z"
   },
   {
    "duration": 45,
    "start_time": "2021-11-11T18:22:10.453Z"
   },
   {
    "duration": 12,
    "start_time": "2021-11-11T18:22:10.500Z"
   },
   {
    "duration": 18,
    "start_time": "2021-11-11T18:22:10.514Z"
   },
   {
    "duration": 9,
    "start_time": "2021-11-11T18:22:10.534Z"
   },
   {
    "duration": 14,
    "start_time": "2021-11-11T18:22:10.544Z"
   },
   {
    "duration": 37,
    "start_time": "2021-11-11T18:22:10.560Z"
   },
   {
    "duration": 23,
    "start_time": "2021-11-11T18:22:10.599Z"
   },
   {
    "duration": 19,
    "start_time": "2021-11-11T18:22:10.624Z"
   },
   {
    "duration": 21,
    "start_time": "2021-11-11T18:22:10.644Z"
   },
   {
    "duration": 17,
    "start_time": "2021-11-11T18:22:10.691Z"
   },
   {
    "duration": 18,
    "start_time": "2021-11-11T18:22:10.709Z"
   },
   {
    "duration": 15,
    "start_time": "2021-11-11T18:22:10.728Z"
   },
   {
    "duration": 4,
    "start_time": "2021-11-11T18:22:10.744Z"
   },
   {
    "duration": 75,
    "start_time": "2021-11-11T18:22:10.750Z"
   },
   {
    "duration": 27,
    "start_time": "2021-11-11T18:22:10.826Z"
   },
   {
    "duration": 53,
    "start_time": "2021-11-11T18:22:10.855Z"
   },
   {
    "duration": 19,
    "start_time": "2021-11-11T18:22:10.909Z"
   },
   {
    "duration": 13,
    "start_time": "2021-11-11T18:22:10.930Z"
   },
   {
    "duration": 48,
    "start_time": "2021-11-11T18:22:10.944Z"
   },
   {
    "duration": 5,
    "start_time": "2021-11-11T18:22:10.994Z"
   },
   {
    "duration": 20,
    "start_time": "2021-11-11T18:22:11.000Z"
   },
   {
    "duration": 277,
    "start_time": "2021-11-11T18:22:11.021Z"
   },
   {
    "duration": 30,
    "start_time": "2021-11-11T19:15:18.024Z"
   },
   {
    "duration": 3,
    "start_time": "2021-11-11T19:15:35.717Z"
   },
   {
    "duration": 7,
    "start_time": "2021-11-11T19:15:35.721Z"
   },
   {
    "duration": 1050,
    "start_time": "2021-11-11T19:15:35.730Z"
   },
   {
    "duration": 8,
    "start_time": "2021-11-11T19:15:36.781Z"
   },
   {
    "duration": 11,
    "start_time": "2021-11-11T19:15:36.791Z"
   },
   {
    "duration": 12,
    "start_time": "2021-11-11T19:15:36.804Z"
   },
   {
    "duration": 7,
    "start_time": "2021-11-11T19:15:36.818Z"
   },
   {
    "duration": 7,
    "start_time": "2021-11-11T19:15:36.826Z"
   },
   {
    "duration": 8,
    "start_time": "2021-11-11T19:15:36.834Z"
   },
   {
    "duration": 11,
    "start_time": "2021-11-11T19:15:36.843Z"
   },
   {
    "duration": 42,
    "start_time": "2021-11-11T19:15:36.856Z"
   },
   {
    "duration": 7,
    "start_time": "2021-11-11T19:15:36.900Z"
   },
   {
    "duration": 12,
    "start_time": "2021-11-11T19:15:36.908Z"
   },
   {
    "duration": 14,
    "start_time": "2021-11-11T19:15:36.921Z"
   },
   {
    "duration": 22,
    "start_time": "2021-11-11T19:15:36.936Z"
   },
   {
    "duration": 45,
    "start_time": "2021-11-11T19:15:36.960Z"
   },
   {
    "duration": 21,
    "start_time": "2021-11-11T19:15:37.007Z"
   },
   {
    "duration": 17,
    "start_time": "2021-11-11T19:15:37.030Z"
   },
   {
    "duration": 16,
    "start_time": "2021-11-11T19:15:37.049Z"
   },
   {
    "duration": 30,
    "start_time": "2021-11-11T19:15:37.067Z"
   },
   {
    "duration": 4,
    "start_time": "2021-11-11T19:15:37.098Z"
   },
   {
    "duration": 50,
    "start_time": "2021-11-11T19:15:37.104Z"
   },
   {
    "duration": 45,
    "start_time": "2021-11-11T19:15:37.156Z"
   },
   {
    "duration": 45,
    "start_time": "2021-11-11T19:15:37.203Z"
   },
   {
    "duration": 18,
    "start_time": "2021-11-11T19:15:37.249Z"
   },
   {
    "duration": 24,
    "start_time": "2021-11-11T19:15:37.268Z"
   },
   {
    "duration": 32,
    "start_time": "2021-11-11T19:15:37.293Z"
   },
   {
    "duration": 5,
    "start_time": "2021-11-11T19:15:37.326Z"
   },
   {
    "duration": 218,
    "start_time": "2021-11-11T19:15:37.332Z"
   },
   {
    "duration": 54,
    "start_time": "2021-11-11T19:19:29.064Z"
   },
   {
    "duration": 59,
    "start_time": "2021-11-11T19:19:38.070Z"
   },
   {
    "duration": 13,
    "start_time": "2021-11-11T19:19:43.367Z"
   },
   {
    "duration": 3,
    "start_time": "2021-11-11T19:20:13.480Z"
   },
   {
    "duration": 8,
    "start_time": "2021-11-11T19:20:13.485Z"
   },
   {
    "duration": 2601,
    "start_time": "2021-11-11T19:20:13.495Z"
   },
   {
    "duration": 7,
    "start_time": "2021-11-11T19:20:16.098Z"
   },
   {
    "duration": 13,
    "start_time": "2021-11-11T19:20:16.107Z"
   },
   {
    "duration": 11,
    "start_time": "2021-11-11T19:20:16.122Z"
   },
   {
    "duration": 8,
    "start_time": "2021-11-11T19:20:16.135Z"
   },
   {
    "duration": 6,
    "start_time": "2021-11-11T19:20:16.145Z"
   },
   {
    "duration": 11,
    "start_time": "2021-11-11T19:20:16.153Z"
   },
   {
    "duration": 9,
    "start_time": "2021-11-11T19:20:16.192Z"
   },
   {
    "duration": 11,
    "start_time": "2021-11-11T19:20:16.203Z"
   },
   {
    "duration": 8,
    "start_time": "2021-11-11T19:20:16.215Z"
   },
   {
    "duration": 16,
    "start_time": "2021-11-11T19:20:16.224Z"
   },
   {
    "duration": 13,
    "start_time": "2021-11-11T19:20:16.242Z"
   },
   {
    "duration": 52,
    "start_time": "2021-11-11T19:20:16.256Z"
   },
   {
    "duration": 18,
    "start_time": "2021-11-11T19:20:16.309Z"
   },
   {
    "duration": 20,
    "start_time": "2021-11-11T19:20:16.329Z"
   },
   {
    "duration": 17,
    "start_time": "2021-11-11T19:20:16.351Z"
   },
   {
    "duration": 35,
    "start_time": "2021-11-11T19:20:16.370Z"
   },
   {
    "duration": 13,
    "start_time": "2021-11-11T19:20:16.407Z"
   },
   {
    "duration": 4,
    "start_time": "2021-11-11T19:20:16.422Z"
   },
   {
    "duration": 30,
    "start_time": "2021-11-11T19:20:16.429Z"
   },
   {
    "duration": 48,
    "start_time": "2021-11-11T19:20:16.461Z"
   },
   {
    "duration": 26,
    "start_time": "2021-11-11T19:20:16.511Z"
   },
   {
    "duration": 11,
    "start_time": "2021-11-11T19:20:16.539Z"
   },
   {
    "duration": 5,
    "start_time": "2021-11-11T19:20:16.552Z"
   },
   {
    "duration": 229,
    "start_time": "2021-11-11T19:20:16.558Z"
   },
   {
    "duration": 4,
    "start_time": "2021-11-11T19:24:33.862Z"
   },
   {
    "duration": 28,
    "start_time": "2021-11-11T19:24:39.111Z"
   },
   {
    "duration": 205,
    "start_time": "2021-11-11T19:25:02.285Z"
   },
   {
    "duration": 58,
    "start_time": "2021-11-11T19:25:17.713Z"
   },
   {
    "duration": 65,
    "start_time": "2021-11-11T19:25:22.572Z"
   },
   {
    "duration": 1232,
    "start_time": "2021-11-11T19:25:29.762Z"
   },
   {
    "duration": 5,
    "start_time": "2021-11-11T19:25:39.103Z"
   },
   {
    "duration": 8,
    "start_time": "2021-11-11T19:25:50.363Z"
   },
   {
    "duration": 8,
    "start_time": "2021-11-11T19:25:58.382Z"
   },
   {
    "duration": 176,
    "start_time": "2021-11-11T20:24:22.325Z"
   },
   {
    "duration": 189,
    "start_time": "2021-11-11T20:24:42.304Z"
   },
   {
    "duration": 744,
    "start_time": "2021-11-11T20:25:03.841Z"
   },
   {
    "duration": 169,
    "start_time": "2021-11-11T20:25:26.591Z"
   },
   {
    "duration": 3,
    "start_time": "2021-11-11T20:25:35.947Z"
   },
   {
    "duration": 10,
    "start_time": "2021-11-11T20:25:35.952Z"
   },
   {
    "duration": 2548,
    "start_time": "2021-11-11T20:25:36.011Z"
   },
   {
    "duration": 8,
    "start_time": "2021-11-11T20:25:38.561Z"
   },
   {
    "duration": 21,
    "start_time": "2021-11-11T20:25:38.570Z"
   },
   {
    "duration": 11,
    "start_time": "2021-11-11T20:25:38.593Z"
   },
   {
    "duration": 7,
    "start_time": "2021-11-11T20:25:38.607Z"
   },
   {
    "duration": 6,
    "start_time": "2021-11-11T20:25:38.616Z"
   },
   {
    "duration": 9,
    "start_time": "2021-11-11T20:25:38.624Z"
   },
   {
    "duration": 11,
    "start_time": "2021-11-11T20:25:38.634Z"
   },
   {
    "duration": 8,
    "start_time": "2021-11-11T20:25:38.646Z"
   },
   {
    "duration": 38,
    "start_time": "2021-11-11T20:25:38.655Z"
   },
   {
    "duration": 10,
    "start_time": "2021-11-11T20:25:38.695Z"
   },
   {
    "duration": 12,
    "start_time": "2021-11-11T20:25:38.706Z"
   },
   {
    "duration": 22,
    "start_time": "2021-11-11T20:25:38.720Z"
   },
   {
    "duration": 17,
    "start_time": "2021-11-11T20:25:38.744Z"
   },
   {
    "duration": 47,
    "start_time": "2021-11-11T20:25:38.762Z"
   },
   {
    "duration": 17,
    "start_time": "2021-11-11T20:25:38.810Z"
   },
   {
    "duration": 17,
    "start_time": "2021-11-11T20:25:38.829Z"
   },
   {
    "duration": 16,
    "start_time": "2021-11-11T20:25:38.848Z"
   },
   {
    "duration": 6,
    "start_time": "2021-11-11T20:25:38.865Z"
   },
   {
    "duration": 49,
    "start_time": "2021-11-11T20:25:38.872Z"
   },
   {
    "duration": 28,
    "start_time": "2021-11-11T20:25:38.922Z"
   },
   {
    "duration": 43,
    "start_time": "2021-11-11T20:25:38.951Z"
   },
   {
    "duration": 12,
    "start_time": "2021-11-11T20:25:38.996Z"
   },
   {
    "duration": 7,
    "start_time": "2021-11-11T20:25:39.009Z"
   },
   {
    "duration": 680,
    "start_time": "2021-11-11T20:25:39.017Z"
   },
   {
    "duration": 15790,
    "start_time": "2021-11-11T20:25:23.909Z"
   },
   {
    "duration": 675,
    "start_time": "2021-11-11T20:25:47.435Z"
   },
   {
    "duration": 191,
    "start_time": "2021-11-11T20:27:15.043Z"
   },
   {
    "duration": 272,
    "start_time": "2021-11-11T20:28:14.863Z"
   },
   {
    "duration": 47,
    "start_time": "2021-11-11T20:29:37.593Z"
   },
   {
    "duration": 6,
    "start_time": "2021-11-11T20:30:06.982Z"
   },
   {
    "duration": 502,
    "start_time": "2021-11-11T20:30:36.743Z"
   },
   {
    "duration": 5,
    "start_time": "2021-11-11T20:30:42.192Z"
   },
   {
    "duration": 56,
    "start_time": "2021-11-11T20:30:44.624Z"
   },
   {
    "duration": 5,
    "start_time": "2021-11-11T20:30:46.762Z"
   },
   {
    "duration": 6,
    "start_time": "2021-11-11T20:30:55.562Z"
   },
   {
    "duration": 185,
    "start_time": "2021-11-11T20:31:30.293Z"
   },
   {
    "duration": 16,
    "start_time": "2021-11-11T20:33:09.404Z"
   },
   {
    "duration": 9,
    "start_time": "2021-11-11T20:33:17.614Z"
   },
   {
    "duration": 197,
    "start_time": "2021-11-11T20:34:50.287Z"
   },
   {
    "duration": 3323,
    "start_time": "2021-11-11T20:36:59.605Z"
   },
   {
    "duration": 2,
    "start_time": "2021-11-11T20:37:14.056Z"
   },
   {
    "duration": 8,
    "start_time": "2021-11-11T20:37:14.060Z"
   },
   {
    "duration": 912,
    "start_time": "2021-11-11T20:37:14.069Z"
   },
   {
    "duration": 7,
    "start_time": "2021-11-11T20:37:14.983Z"
   },
   {
    "duration": 13,
    "start_time": "2021-11-11T20:37:14.992Z"
   },
   {
    "duration": 11,
    "start_time": "2021-11-11T20:37:15.007Z"
   },
   {
    "duration": 18,
    "start_time": "2021-11-11T20:37:15.021Z"
   },
   {
    "duration": 8,
    "start_time": "2021-11-11T20:37:15.041Z"
   },
   {
    "duration": 12,
    "start_time": "2021-11-11T20:37:15.050Z"
   },
   {
    "duration": 14,
    "start_time": "2021-11-11T20:37:15.063Z"
   },
   {
    "duration": 14,
    "start_time": "2021-11-11T20:37:15.079Z"
   },
   {
    "duration": 10,
    "start_time": "2021-11-11T20:37:15.094Z"
   },
   {
    "duration": 10,
    "start_time": "2021-11-11T20:37:15.106Z"
   },
   {
    "duration": 7,
    "start_time": "2021-11-11T20:37:15.118Z"
   },
   {
    "duration": 22,
    "start_time": "2021-11-11T20:37:15.127Z"
   },
   {
    "duration": 41,
    "start_time": "2021-11-11T20:37:15.150Z"
   },
   {
    "duration": 7,
    "start_time": "2021-11-11T20:37:15.193Z"
   },
   {
    "duration": 5,
    "start_time": "2021-11-11T20:37:15.201Z"
   },
   {
    "duration": 15,
    "start_time": "2021-11-11T20:37:15.209Z"
   },
   {
    "duration": 14,
    "start_time": "2021-11-11T20:37:15.226Z"
   },
   {
    "duration": 4,
    "start_time": "2021-11-11T20:37:15.241Z"
   },
   {
    "duration": 52,
    "start_time": "2021-11-11T20:37:15.246Z"
   },
   {
    "duration": 16,
    "start_time": "2021-11-11T20:37:15.300Z"
   },
   {
    "duration": 25,
    "start_time": "2021-11-11T20:37:15.318Z"
   },
   {
    "duration": 12,
    "start_time": "2021-11-11T20:37:15.344Z"
   },
   {
    "duration": 4,
    "start_time": "2021-11-11T20:37:15.357Z"
   },
   {
    "duration": 33,
    "start_time": "2021-11-11T20:37:15.362Z"
   },
   {
    "duration": 1071,
    "start_time": "2021-11-11T20:37:15.396Z"
   },
   {
    "duration": 15807,
    "start_time": "2021-11-11T20:37:00.661Z"
   },
   {
    "duration": 15793,
    "start_time": "2021-11-11T20:37:00.676Z"
   },
   {
    "duration": 230,
    "start_time": "2021-11-11T20:54:14.410Z"
   },
   {
    "duration": 189,
    "start_time": "2021-11-11T20:55:09.042Z"
   },
   {
    "duration": 49,
    "start_time": "2021-11-11T20:55:21.281Z"
   },
   {
    "duration": 5,
    "start_time": "2021-11-11T20:55:31.981Z"
   },
   {
    "duration": 54,
    "start_time": "2021-11-11T20:55:50.962Z"
   },
   {
    "duration": 5,
    "start_time": "2021-11-11T20:55:53.227Z"
   },
   {
    "duration": 19,
    "start_time": "2021-11-11T20:56:57.298Z"
   },
   {
    "duration": 5,
    "start_time": "2021-11-11T20:56:59.113Z"
   },
   {
    "duration": 6,
    "start_time": "2021-11-11T20:57:39.516Z"
   },
   {
    "duration": 7,
    "start_time": "2021-11-11T20:57:50.057Z"
   },
   {
    "duration": 5,
    "start_time": "2021-11-11T20:58:01.955Z"
   },
   {
    "duration": 27,
    "start_time": "2021-11-11T20:58:21.033Z"
   },
   {
    "duration": 6,
    "start_time": "2021-11-11T20:59:54.526Z"
   },
   {
    "duration": 5,
    "start_time": "2021-11-11T20:59:58.825Z"
   },
   {
    "duration": 16,
    "start_time": "2021-11-11T21:00:54.914Z"
   },
   {
    "duration": 561,
    "start_time": "2021-11-11T21:01:26.187Z"
   },
   {
    "duration": 2,
    "start_time": "2021-11-11T21:01:26.750Z"
   },
   {
    "duration": 859,
    "start_time": "2021-11-11T21:01:26.754Z"
   },
   {
    "duration": 13,
    "start_time": "2021-11-11T21:01:27.615Z"
   },
   {
    "duration": 22,
    "start_time": "2021-11-11T21:01:27.630Z"
   },
   {
    "duration": 24,
    "start_time": "2021-11-11T21:01:27.653Z"
   },
   {
    "duration": 12,
    "start_time": "2021-11-11T21:01:27.678Z"
   },
   {
    "duration": 7,
    "start_time": "2021-11-11T21:01:27.692Z"
   },
   {
    "duration": 19,
    "start_time": "2021-11-11T21:01:27.701Z"
   },
   {
    "duration": 20,
    "start_time": "2021-11-11T21:01:27.721Z"
   },
   {
    "duration": 10,
    "start_time": "2021-11-11T21:01:27.743Z"
   },
   {
    "duration": 8,
    "start_time": "2021-11-11T21:01:27.755Z"
   },
   {
    "duration": 17,
    "start_time": "2021-11-11T21:01:27.764Z"
   },
   {
    "duration": 13,
    "start_time": "2021-11-11T21:01:27.783Z"
   },
   {
    "duration": 23,
    "start_time": "2021-11-11T21:01:27.798Z"
   },
   {
    "duration": 17,
    "start_time": "2021-11-11T21:01:27.823Z"
   },
   {
    "duration": 7,
    "start_time": "2021-11-11T21:01:27.841Z"
   },
   {
    "duration": 10,
    "start_time": "2021-11-11T21:01:27.850Z"
   },
   {
    "duration": 30,
    "start_time": "2021-11-11T21:01:27.862Z"
   },
   {
    "duration": 13,
    "start_time": "2021-11-11T21:01:27.894Z"
   },
   {
    "duration": 6,
    "start_time": "2021-11-11T21:01:27.909Z"
   },
   {
    "duration": 39,
    "start_time": "2021-11-11T21:01:27.917Z"
   },
   {
    "duration": 15,
    "start_time": "2021-11-11T21:01:27.959Z"
   },
   {
    "duration": 39,
    "start_time": "2021-11-11T21:01:27.976Z"
   },
   {
    "duration": 15,
    "start_time": "2021-11-11T21:01:28.017Z"
   },
   {
    "duration": 26,
    "start_time": "2021-11-11T21:01:28.033Z"
   },
   {
    "duration": 3,
    "start_time": "2021-11-11T21:01:28.061Z"
   },
   {
    "duration": 62,
    "start_time": "2021-11-11T21:01:28.066Z"
   },
   {
    "duration": 19,
    "start_time": "2021-11-11T21:01:28.130Z"
   },
   {
    "duration": 14,
    "start_time": "2021-11-11T21:01:28.150Z"
   },
   {
    "duration": 278,
    "start_time": "2021-11-11T21:01:28.166Z"
   },
   {
    "duration": 6,
    "start_time": "2021-11-11T21:01:46.573Z"
   },
   {
    "duration": 8,
    "start_time": "2021-11-11T21:01:58.414Z"
   },
   {
    "duration": 21,
    "start_time": "2021-11-11T21:02:23.633Z"
   },
   {
    "duration": 8,
    "start_time": "2021-11-11T21:02:25.583Z"
   },
   {
    "duration": 7,
    "start_time": "2021-11-11T21:02:49.746Z"
   },
   {
    "duration": 25,
    "start_time": "2021-11-11T21:04:12.723Z"
   },
   {
    "duration": 6,
    "start_time": "2021-11-11T21:04:39.707Z"
   },
   {
    "duration": 5,
    "start_time": "2021-11-11T21:04:53.116Z"
   },
   {
    "duration": 6,
    "start_time": "2021-11-11T21:05:01.178Z"
   },
   {
    "duration": 529,
    "start_time": "2021-11-11T21:05:07.534Z"
   },
   {
    "duration": 3,
    "start_time": "2021-11-11T21:05:08.065Z"
   },
   {
    "duration": 2507,
    "start_time": "2021-11-11T21:05:08.071Z"
   },
   {
    "duration": 13,
    "start_time": "2021-11-11T21:05:10.580Z"
   },
   {
    "duration": 16,
    "start_time": "2021-11-11T21:05:10.594Z"
   },
   {
    "duration": 15,
    "start_time": "2021-11-11T21:05:10.612Z"
   },
   {
    "duration": 14,
    "start_time": "2021-11-11T21:05:10.628Z"
   },
   {
    "duration": 14,
    "start_time": "2021-11-11T21:05:10.645Z"
   },
   {
    "duration": 30,
    "start_time": "2021-11-11T21:05:10.661Z"
   },
   {
    "duration": 32,
    "start_time": "2021-11-11T21:05:10.692Z"
   },
   {
    "duration": 19,
    "start_time": "2021-11-11T21:05:10.727Z"
   },
   {
    "duration": 15,
    "start_time": "2021-11-11T21:05:10.748Z"
   },
   {
    "duration": 33,
    "start_time": "2021-11-11T21:05:10.765Z"
   },
   {
    "duration": 13,
    "start_time": "2021-11-11T21:05:10.799Z"
   },
   {
    "duration": 31,
    "start_time": "2021-11-11T21:05:10.814Z"
   },
   {
    "duration": 32,
    "start_time": "2021-11-11T21:05:10.847Z"
   },
   {
    "duration": 8,
    "start_time": "2021-11-11T21:05:10.880Z"
   },
   {
    "duration": 18,
    "start_time": "2021-11-11T21:05:10.890Z"
   },
   {
    "duration": 27,
    "start_time": "2021-11-11T21:05:10.910Z"
   },
   {
    "duration": 28,
    "start_time": "2021-11-11T21:05:10.939Z"
   },
   {
    "duration": 4,
    "start_time": "2021-11-11T21:05:10.968Z"
   },
   {
    "duration": 50,
    "start_time": "2021-11-11T21:05:10.973Z"
   },
   {
    "duration": 22,
    "start_time": "2021-11-11T21:05:11.026Z"
   },
   {
    "duration": 32,
    "start_time": "2021-11-11T21:05:11.050Z"
   },
   {
    "duration": 14,
    "start_time": "2021-11-11T21:05:11.084Z"
   },
   {
    "duration": 43,
    "start_time": "2021-11-11T21:05:11.100Z"
   },
   {
    "duration": 3,
    "start_time": "2021-11-11T21:05:11.145Z"
   },
   {
    "duration": 43,
    "start_time": "2021-11-11T21:05:11.150Z"
   },
   {
    "duration": 20,
    "start_time": "2021-11-11T21:05:11.195Z"
   },
   {
    "duration": 28,
    "start_time": "2021-11-11T21:05:11.216Z"
   },
   {
    "duration": 5,
    "start_time": "2021-11-11T21:05:11.245Z"
   },
   {
    "duration": 290,
    "start_time": "2021-11-11T21:05:11.251Z"
   },
   {
    "duration": 17,
    "start_time": "2021-11-11T21:06:03.158Z"
   },
   {
    "duration": 3,
    "start_time": "2021-11-11T21:06:10.948Z"
   },
   {
    "duration": 12,
    "start_time": "2021-11-11T21:06:10.953Z"
   },
   {
    "duration": 870,
    "start_time": "2021-11-11T21:06:10.966Z"
   },
   {
    "duration": 9,
    "start_time": "2021-11-11T21:06:11.838Z"
   },
   {
    "duration": 12,
    "start_time": "2021-11-11T21:06:11.848Z"
   },
   {
    "duration": 11,
    "start_time": "2021-11-11T21:06:11.862Z"
   },
   {
    "duration": 8,
    "start_time": "2021-11-11T21:06:11.875Z"
   },
   {
    "duration": 6,
    "start_time": "2021-11-11T21:06:11.885Z"
   },
   {
    "duration": 7,
    "start_time": "2021-11-11T21:06:11.893Z"
   },
   {
    "duration": 11,
    "start_time": "2021-11-11T21:06:11.902Z"
   },
   {
    "duration": 13,
    "start_time": "2021-11-11T21:06:11.914Z"
   },
   {
    "duration": 10,
    "start_time": "2021-11-11T21:06:11.929Z"
   },
   {
    "duration": 14,
    "start_time": "2021-11-11T21:06:11.940Z"
   },
   {
    "duration": 10,
    "start_time": "2021-11-11T21:06:11.956Z"
   },
   {
    "duration": 30,
    "start_time": "2021-11-11T21:06:11.968Z"
   },
   {
    "duration": 18,
    "start_time": "2021-11-11T21:06:12.000Z"
   },
   {
    "duration": 7,
    "start_time": "2021-11-11T21:06:12.019Z"
   },
   {
    "duration": 7,
    "start_time": "2021-11-11T21:06:12.028Z"
   },
   {
    "duration": 26,
    "start_time": "2021-11-11T21:06:12.037Z"
   },
   {
    "duration": 30,
    "start_time": "2021-11-11T21:06:12.065Z"
   },
   {
    "duration": 4,
    "start_time": "2021-11-11T21:06:12.097Z"
   },
   {
    "duration": 30,
    "start_time": "2021-11-11T21:06:12.102Z"
   },
   {
    "duration": 15,
    "start_time": "2021-11-11T21:06:12.134Z"
   },
   {
    "duration": 42,
    "start_time": "2021-11-11T21:06:12.151Z"
   },
   {
    "duration": 15,
    "start_time": "2021-11-11T21:06:12.194Z"
   },
   {
    "duration": 17,
    "start_time": "2021-11-11T21:06:12.211Z"
   },
   {
    "duration": 16,
    "start_time": "2021-11-11T21:06:12.230Z"
   },
   {
    "duration": 4,
    "start_time": "2021-11-11T21:06:12.247Z"
   },
   {
    "duration": 47,
    "start_time": "2021-11-11T21:06:12.252Z"
   },
   {
    "duration": 21,
    "start_time": "2021-11-11T21:06:12.301Z"
   },
   {
    "duration": 22,
    "start_time": "2021-11-11T21:06:12.324Z"
   },
   {
    "duration": 5,
    "start_time": "2021-11-11T21:06:12.348Z"
   },
   {
    "duration": 219,
    "start_time": "2021-11-11T21:06:12.354Z"
   },
   {
    "duration": 43,
    "start_time": "2021-11-11T21:06:50.283Z"
   },
   {
    "duration": 2,
    "start_time": "2021-11-11T21:07:10.263Z"
   },
   {
    "duration": 17,
    "start_time": "2021-11-11T21:07:10.267Z"
   },
   {
    "duration": 2230,
    "start_time": "2021-11-11T21:07:10.286Z"
   },
   {
    "duration": 8,
    "start_time": "2021-11-11T21:07:12.518Z"
   },
   {
    "duration": 14,
    "start_time": "2021-11-11T21:07:12.528Z"
   },
   {
    "duration": 11,
    "start_time": "2021-11-11T21:07:12.543Z"
   },
   {
    "duration": 16,
    "start_time": "2021-11-11T21:07:12.556Z"
   },
   {
    "duration": 7,
    "start_time": "2021-11-11T21:07:12.574Z"
   },
   {
    "duration": 20,
    "start_time": "2021-11-11T21:07:12.582Z"
   },
   {
    "duration": 10,
    "start_time": "2021-11-11T21:07:12.604Z"
   },
   {
    "duration": 15,
    "start_time": "2021-11-11T21:07:12.615Z"
   },
   {
    "duration": 12,
    "start_time": "2021-11-11T21:07:12.631Z"
   },
   {
    "duration": 15,
    "start_time": "2021-11-11T21:07:12.644Z"
   },
   {
    "duration": 18,
    "start_time": "2021-11-11T21:07:12.660Z"
   },
   {
    "duration": 26,
    "start_time": "2021-11-11T21:07:12.679Z"
   },
   {
    "duration": 18,
    "start_time": "2021-11-11T21:07:12.707Z"
   },
   {
    "duration": 19,
    "start_time": "2021-11-11T21:07:12.726Z"
   },
   {
    "duration": 14,
    "start_time": "2021-11-11T21:07:12.747Z"
   },
   {
    "duration": 37,
    "start_time": "2021-11-11T21:07:12.764Z"
   },
   {
    "duration": 14,
    "start_time": "2021-11-11T21:07:12.803Z"
   },
   {
    "duration": 4,
    "start_time": "2021-11-11T21:07:12.819Z"
   },
   {
    "duration": 41,
    "start_time": "2021-11-11T21:07:12.824Z"
   },
   {
    "duration": 35,
    "start_time": "2021-11-11T21:07:12.866Z"
   },
   {
    "duration": 26,
    "start_time": "2021-11-11T21:07:12.903Z"
   },
   {
    "duration": 15,
    "start_time": "2021-11-11T21:07:12.931Z"
   },
   {
    "duration": 58,
    "start_time": "2021-11-11T21:07:12.948Z"
   },
   {
    "duration": 11,
    "start_time": "2021-11-11T21:07:13.008Z"
   },
   {
    "duration": 4,
    "start_time": "2021-11-11T21:07:13.020Z"
   },
   {
    "duration": 39,
    "start_time": "2021-11-11T21:07:13.025Z"
   },
   {
    "duration": 30,
    "start_time": "2021-11-11T21:07:13.065Z"
   },
   {
    "duration": 22,
    "start_time": "2021-11-11T21:07:13.097Z"
   },
   {
    "duration": 5,
    "start_time": "2021-11-11T21:07:13.121Z"
   },
   {
    "duration": 220,
    "start_time": "2021-11-11T21:07:13.128Z"
   },
   {
    "duration": 2,
    "start_time": "2021-11-11T21:11:13.068Z"
   },
   {
    "duration": 23,
    "start_time": "2021-11-11T21:11:13.076Z"
   },
   {
    "duration": 2007,
    "start_time": "2021-11-11T21:11:13.100Z"
   },
   {
    "duration": 8,
    "start_time": "2021-11-11T21:11:15.109Z"
   },
   {
    "duration": 18,
    "start_time": "2021-11-11T21:11:15.118Z"
   },
   {
    "duration": 16,
    "start_time": "2021-11-11T21:11:15.137Z"
   },
   {
    "duration": 13,
    "start_time": "2021-11-11T21:11:15.154Z"
   },
   {
    "duration": 16,
    "start_time": "2021-11-11T21:11:15.168Z"
   },
   {
    "duration": 25,
    "start_time": "2021-11-11T21:11:15.186Z"
   },
   {
    "duration": 30,
    "start_time": "2021-11-11T21:11:15.213Z"
   },
   {
    "duration": 73,
    "start_time": "2021-11-11T21:11:15.244Z"
   },
   {
    "duration": 16,
    "start_time": "2021-11-11T21:11:15.319Z"
   },
   {
    "duration": 34,
    "start_time": "2021-11-11T21:11:15.336Z"
   },
   {
    "duration": 18,
    "start_time": "2021-11-11T21:11:15.372Z"
   },
   {
    "duration": 23,
    "start_time": "2021-11-11T21:11:15.392Z"
   },
   {
    "duration": 18,
    "start_time": "2021-11-11T21:11:15.416Z"
   },
   {
    "duration": 28,
    "start_time": "2021-11-11T21:11:15.435Z"
   },
   {
    "duration": 20,
    "start_time": "2021-11-11T21:11:15.465Z"
   },
   {
    "duration": 19,
    "start_time": "2021-11-11T21:11:15.487Z"
   },
   {
    "duration": 17,
    "start_time": "2021-11-11T21:11:15.507Z"
   },
   {
    "duration": 11,
    "start_time": "2021-11-11T21:11:15.525Z"
   },
   {
    "duration": 34,
    "start_time": "2021-11-11T21:11:15.537Z"
   },
   {
    "duration": 31,
    "start_time": "2021-11-11T21:11:15.572Z"
   },
   {
    "duration": 28,
    "start_time": "2021-11-11T21:11:15.606Z"
   },
   {
    "duration": 17,
    "start_time": "2021-11-11T21:11:15.636Z"
   },
   {
    "duration": 25,
    "start_time": "2021-11-11T21:11:15.654Z"
   },
   {
    "duration": 19,
    "start_time": "2021-11-11T21:11:15.681Z"
   },
   {
    "duration": 42,
    "start_time": "2021-11-11T21:11:15.701Z"
   },
   {
    "duration": 20,
    "start_time": "2021-11-11T21:11:15.744Z"
   },
   {
    "duration": 21,
    "start_time": "2021-11-11T21:11:15.766Z"
   },
   {
    "duration": 5,
    "start_time": "2021-11-11T21:11:15.789Z"
   },
   {
    "duration": 208,
    "start_time": "2021-11-11T21:11:15.795Z"
   },
   {
    "duration": 18,
    "start_time": "2021-11-11T21:11:56.559Z"
   },
   {
    "duration": 6,
    "start_time": "2021-11-11T21:12:01.478Z"
   },
   {
    "duration": 5,
    "start_time": "2021-11-11T21:12:11.628Z"
   },
   {
    "duration": 6,
    "start_time": "2021-11-11T21:12:17.528Z"
   },
   {
    "duration": 551,
    "start_time": "2021-11-11T21:13:01.714Z"
   },
   {
    "duration": 3,
    "start_time": "2021-11-11T21:13:02.267Z"
   },
   {
    "duration": 1799,
    "start_time": "2021-11-11T21:13:02.272Z"
   },
   {
    "duration": 14,
    "start_time": "2021-11-11T21:13:04.072Z"
   },
   {
    "duration": 14,
    "start_time": "2021-11-11T21:13:04.088Z"
   },
   {
    "duration": 13,
    "start_time": "2021-11-11T21:13:04.103Z"
   },
   {
    "duration": 7,
    "start_time": "2021-11-11T21:13:04.118Z"
   },
   {
    "duration": 7,
    "start_time": "2021-11-11T21:13:04.127Z"
   },
   {
    "duration": 8,
    "start_time": "2021-11-11T21:13:04.136Z"
   },
   {
    "duration": 10,
    "start_time": "2021-11-11T21:13:04.145Z"
   },
   {
    "duration": 8,
    "start_time": "2021-11-11T21:13:04.156Z"
   },
   {
    "duration": 8,
    "start_time": "2021-11-11T21:13:04.165Z"
   },
   {
    "duration": 11,
    "start_time": "2021-11-11T21:13:04.175Z"
   },
   {
    "duration": 11,
    "start_time": "2021-11-11T21:13:04.188Z"
   },
   {
    "duration": 24,
    "start_time": "2021-11-11T21:13:04.201Z"
   },
   {
    "duration": 19,
    "start_time": "2021-11-11T21:13:04.227Z"
   },
   {
    "duration": 19,
    "start_time": "2021-11-11T21:13:04.247Z"
   },
   {
    "duration": 15,
    "start_time": "2021-11-11T21:13:04.268Z"
   },
   {
    "duration": 17,
    "start_time": "2021-11-11T21:13:04.291Z"
   },
   {
    "duration": 15,
    "start_time": "2021-11-11T21:13:04.309Z"
   },
   {
    "duration": 4,
    "start_time": "2021-11-11T21:13:04.325Z"
   },
   {
    "duration": 39,
    "start_time": "2021-11-11T21:13:04.331Z"
   },
   {
    "duration": 28,
    "start_time": "2021-11-11T21:13:04.373Z"
   },
   {
    "duration": 27,
    "start_time": "2021-11-11T21:13:04.403Z"
   },
   {
    "duration": 19,
    "start_time": "2021-11-11T21:13:04.432Z"
   },
   {
    "duration": 16,
    "start_time": "2021-11-11T21:13:04.453Z"
   },
   {
    "duration": 3,
    "start_time": "2021-11-11T21:13:04.471Z"
   },
   {
    "duration": 24,
    "start_time": "2021-11-11T21:13:04.476Z"
   },
   {
    "duration": 22,
    "start_time": "2021-11-11T21:13:04.502Z"
   },
   {
    "duration": 19,
    "start_time": "2021-11-11T21:13:04.525Z"
   },
   {
    "duration": 6,
    "start_time": "2021-11-11T21:13:04.545Z"
   },
   {
    "duration": 364,
    "start_time": "2021-11-11T21:13:04.552Z"
   },
   {
    "duration": 9,
    "start_time": "2021-11-11T21:13:14.039Z"
   },
   {
    "duration": 8,
    "start_time": "2021-11-11T21:13:24.905Z"
   },
   {
    "duration": 24,
    "start_time": "2021-11-11T21:13:38.888Z"
   },
   {
    "duration": 185,
    "start_time": "2021-11-11T21:20:34.536Z"
   },
   {
    "duration": 3,
    "start_time": "2021-11-11T21:38:03.883Z"
   },
   {
    "duration": 11,
    "start_time": "2021-11-11T21:38:03.888Z"
   },
   {
    "duration": 909,
    "start_time": "2021-11-11T21:38:03.901Z"
   },
   {
    "duration": 9,
    "start_time": "2021-11-11T21:38:04.812Z"
   },
   {
    "duration": 15,
    "start_time": "2021-11-11T21:38:04.822Z"
   },
   {
    "duration": 11,
    "start_time": "2021-11-11T21:38:04.838Z"
   },
   {
    "duration": 7,
    "start_time": "2021-11-11T21:38:04.852Z"
   },
   {
    "duration": 6,
    "start_time": "2021-11-11T21:38:04.861Z"
   },
   {
    "duration": 23,
    "start_time": "2021-11-11T21:38:04.869Z"
   },
   {
    "duration": 9,
    "start_time": "2021-11-11T21:38:04.893Z"
   },
   {
    "duration": 8,
    "start_time": "2021-11-11T21:38:04.903Z"
   },
   {
    "duration": 7,
    "start_time": "2021-11-11T21:38:04.913Z"
   },
   {
    "duration": 12,
    "start_time": "2021-11-11T21:38:04.922Z"
   },
   {
    "duration": 11,
    "start_time": "2021-11-11T21:38:04.936Z"
   },
   {
    "duration": 48,
    "start_time": "2021-11-11T21:38:04.948Z"
   },
   {
    "duration": 20,
    "start_time": "2021-11-11T21:38:04.998Z"
   },
   {
    "duration": 21,
    "start_time": "2021-11-11T21:38:05.019Z"
   },
   {
    "duration": 17,
    "start_time": "2021-11-11T21:38:05.042Z"
   },
   {
    "duration": 46,
    "start_time": "2021-11-11T21:38:05.063Z"
   },
   {
    "duration": 18,
    "start_time": "2021-11-11T21:38:05.111Z"
   },
   {
    "duration": 8,
    "start_time": "2021-11-11T21:38:05.131Z"
   },
   {
    "duration": 56,
    "start_time": "2021-11-11T21:38:05.141Z"
   },
   {
    "duration": 26,
    "start_time": "2021-11-11T21:38:05.199Z"
   },
   {
    "duration": 28,
    "start_time": "2021-11-11T21:38:05.226Z"
   },
   {
    "duration": 13,
    "start_time": "2021-11-11T21:38:05.255Z"
   },
   {
    "duration": 24,
    "start_time": "2021-11-11T21:38:05.270Z"
   },
   {
    "duration": 32,
    "start_time": "2021-11-11T21:38:05.296Z"
   },
   {
    "duration": 22,
    "start_time": "2021-11-11T21:38:05.329Z"
   },
   {
    "duration": 18,
    "start_time": "2021-11-11T21:38:05.353Z"
   },
   {
    "duration": 214,
    "start_time": "2021-11-11T21:38:05.372Z"
   },
   {
    "duration": 776,
    "start_time": "2021-11-12T14:19:17.741Z"
   },
   {
    "duration": 4,
    "start_time": "2021-11-12T14:19:18.520Z"
   },
   {
    "duration": 1168,
    "start_time": "2021-11-12T14:19:18.528Z"
   },
   {
    "duration": 22,
    "start_time": "2021-11-12T14:19:19.699Z"
   },
   {
    "duration": 21,
    "start_time": "2021-11-12T14:19:19.724Z"
   },
   {
    "duration": 16,
    "start_time": "2021-11-12T14:19:19.747Z"
   },
   {
    "duration": 10,
    "start_time": "2021-11-12T14:19:19.766Z"
   },
   {
    "duration": 10,
    "start_time": "2021-11-12T14:19:19.779Z"
   },
   {
    "duration": 11,
    "start_time": "2021-11-12T14:19:19.792Z"
   },
   {
    "duration": 54,
    "start_time": "2021-11-12T14:19:19.805Z"
   },
   {
    "duration": 9,
    "start_time": "2021-11-12T14:19:19.861Z"
   },
   {
    "duration": 15,
    "start_time": "2021-11-12T14:19:19.873Z"
   },
   {
    "duration": 19,
    "start_time": "2021-11-12T14:19:19.890Z"
   },
   {
    "duration": 26,
    "start_time": "2021-11-12T14:19:19.911Z"
   },
   {
    "duration": 102,
    "start_time": "2021-11-12T14:19:19.939Z"
   },
   {
    "duration": 65,
    "start_time": "2021-11-12T14:19:20.044Z"
   },
   {
    "duration": 58,
    "start_time": "2021-11-12T14:19:20.111Z"
   },
   {
    "duration": 32,
    "start_time": "2021-11-12T14:19:20.171Z"
   },
   {
    "duration": 54,
    "start_time": "2021-11-12T14:19:20.205Z"
   },
   {
    "duration": 20,
    "start_time": "2021-11-12T14:19:20.262Z"
   },
   {
    "duration": 4,
    "start_time": "2021-11-12T14:19:20.285Z"
   },
   {
    "duration": 41,
    "start_time": "2021-11-12T14:19:20.292Z"
   },
   {
    "duration": 61,
    "start_time": "2021-11-12T14:19:20.337Z"
   },
   {
    "duration": 34,
    "start_time": "2021-11-12T14:19:20.400Z"
   },
   {
    "duration": 458,
    "start_time": "2021-11-12T14:19:20.436Z"
   },
   {
    "duration": 140,
    "start_time": "2021-11-12T14:19:20.897Z"
   },
   {
    "duration": 5,
    "start_time": "2021-11-12T14:22:10.549Z"
   },
   {
    "duration": 5,
    "start_time": "2021-11-12T14:22:16.107Z"
   },
   {
    "duration": 13,
    "start_time": "2021-11-12T14:30:20.731Z"
   },
   {
    "duration": 4,
    "start_time": "2021-11-12T14:30:27.018Z"
   },
   {
    "duration": 11,
    "start_time": "2021-11-12T14:30:27.024Z"
   },
   {
    "duration": 2719,
    "start_time": "2021-11-12T14:30:27.037Z"
   },
   {
    "duration": 11,
    "start_time": "2021-11-12T14:30:29.759Z"
   },
   {
    "duration": 18,
    "start_time": "2021-11-12T14:30:29.772Z"
   },
   {
    "duration": 17,
    "start_time": "2021-11-12T14:30:29.793Z"
   },
   {
    "duration": 10,
    "start_time": "2021-11-12T14:30:29.812Z"
   },
   {
    "duration": 10,
    "start_time": "2021-11-12T14:30:29.826Z"
   },
   {
    "duration": 22,
    "start_time": "2021-11-12T14:30:29.839Z"
   },
   {
    "duration": 15,
    "start_time": "2021-11-12T14:30:29.863Z"
   },
   {
    "duration": 12,
    "start_time": "2021-11-12T14:30:29.880Z"
   },
   {
    "duration": 8,
    "start_time": "2021-11-12T14:30:29.894Z"
   },
   {
    "duration": 16,
    "start_time": "2021-11-12T14:30:29.904Z"
   },
   {
    "duration": 15,
    "start_time": "2021-11-12T14:30:29.922Z"
   },
   {
    "duration": 95,
    "start_time": "2021-11-12T14:30:29.940Z"
   },
   {
    "duration": 66,
    "start_time": "2021-11-12T14:30:30.037Z"
   },
   {
    "duration": 45,
    "start_time": "2021-11-12T14:30:30.105Z"
   },
   {
    "duration": 41,
    "start_time": "2021-11-12T14:30:30.153Z"
   },
   {
    "duration": 38,
    "start_time": "2021-11-12T14:30:30.196Z"
   },
   {
    "duration": 31,
    "start_time": "2021-11-12T14:30:30.236Z"
   },
   {
    "duration": 5,
    "start_time": "2021-11-12T14:30:30.269Z"
   },
   {
    "duration": 97,
    "start_time": "2021-11-12T14:30:30.276Z"
   },
   {
    "duration": 51,
    "start_time": "2021-11-12T14:30:30.377Z"
   },
   {
    "duration": 43,
    "start_time": "2021-11-12T14:30:30.431Z"
   },
   {
    "duration": 490,
    "start_time": "2021-11-12T14:30:30.476Z"
   },
   {
    "duration": 5,
    "start_time": "2021-11-12T14:30:30.969Z"
   },
   {
    "duration": 25,
    "start_time": "2021-11-12T14:30:30.976Z"
   },
   {
    "duration": 128,
    "start_time": "2021-11-12T14:30:31.003Z"
   },
   {
    "duration": 52,
    "start_time": "2021-11-12T14:30:45.418Z"
   },
   {
    "duration": 6,
    "start_time": "2021-11-12T14:33:18.865Z"
   },
   {
    "duration": 125,
    "start_time": "2021-11-12T14:33:20.369Z"
   },
   {
    "duration": 18,
    "start_time": "2021-11-12T14:35:32.631Z"
   },
   {
    "duration": 9,
    "start_time": "2021-11-12T14:36:20.931Z"
   },
   {
    "duration": 12,
    "start_time": "2021-11-12T14:41:45.317Z"
   },
   {
    "duration": 142,
    "start_time": "2021-11-12T14:50:47.402Z"
   },
   {
    "duration": 15,
    "start_time": "2021-11-12T14:50:55.908Z"
   },
   {
    "duration": 586,
    "start_time": "2021-11-12T14:51:40.328Z"
   },
   {
    "duration": 1854,
    "start_time": "2021-11-12T14:51:45.636Z"
   },
   {
    "duration": 830,
    "start_time": "2021-11-12T14:53:07.123Z"
   },
   {
    "duration": 4,
    "start_time": "2021-11-12T14:53:07.956Z"
   },
   {
    "duration": 2612,
    "start_time": "2021-11-12T14:53:07.964Z"
   },
   {
    "duration": 23,
    "start_time": "2021-11-12T14:53:10.579Z"
   },
   {
    "duration": 17,
    "start_time": "2021-11-12T14:53:10.605Z"
   },
   {
    "duration": 36,
    "start_time": "2021-11-12T14:53:10.624Z"
   },
   {
    "duration": 9,
    "start_time": "2021-11-12T14:53:10.663Z"
   },
   {
    "duration": 9,
    "start_time": "2021-11-12T14:53:10.676Z"
   },
   {
    "duration": 13,
    "start_time": "2021-11-12T14:53:10.688Z"
   },
   {
    "duration": 13,
    "start_time": "2021-11-12T14:53:10.703Z"
   },
   {
    "duration": 47,
    "start_time": "2021-11-12T14:53:10.719Z"
   },
   {
    "duration": 20,
    "start_time": "2021-11-12T14:53:10.768Z"
   },
   {
    "duration": 18,
    "start_time": "2021-11-12T14:53:10.791Z"
   },
   {
    "duration": 17,
    "start_time": "2021-11-12T14:53:10.812Z"
   },
   {
    "duration": 41,
    "start_time": "2021-11-12T14:53:10.832Z"
   },
   {
    "duration": 106,
    "start_time": "2021-11-12T14:53:10.875Z"
   },
   {
    "duration": 78,
    "start_time": "2021-11-12T14:53:10.984Z"
   },
   {
    "duration": 45,
    "start_time": "2021-11-12T14:53:11.064Z"
   },
   {
    "duration": 63,
    "start_time": "2021-11-12T14:53:11.111Z"
   },
   {
    "duration": 58,
    "start_time": "2021-11-12T14:53:11.178Z"
   },
   {
    "duration": 45,
    "start_time": "2021-11-12T14:53:11.240Z"
   },
   {
    "duration": 7,
    "start_time": "2021-11-12T14:53:11.289Z"
   },
   {
    "duration": 75,
    "start_time": "2021-11-12T14:53:11.303Z"
   },
   {
    "duration": 76,
    "start_time": "2021-11-12T14:53:11.382Z"
   },
   {
    "duration": 46,
    "start_time": "2021-11-12T14:53:11.461Z"
   },
   {
    "duration": 7,
    "start_time": "2021-11-12T14:53:11.510Z"
   },
   {
    "duration": 46,
    "start_time": "2021-11-12T14:53:11.521Z"
   },
   {
    "duration": 21,
    "start_time": "2021-11-12T14:53:11.570Z"
   },
   {
    "duration": 15,
    "start_time": "2021-11-12T14:53:11.594Z"
   },
   {
    "duration": 677,
    "start_time": "2021-11-12T14:53:11.612Z"
   },
   {
    "duration": 219,
    "start_time": "2021-11-12T14:53:12.293Z"
   },
   {
    "duration": 8,
    "start_time": "2021-11-12T14:53:43.199Z"
   },
   {
    "duration": 4,
    "start_time": "2021-11-12T14:53:46.990Z"
   },
   {
    "duration": 5,
    "start_time": "2021-11-12T14:53:46.998Z"
   },
   {
    "duration": 2929,
    "start_time": "2021-11-12T14:53:47.007Z"
   },
   {
    "duration": 15,
    "start_time": "2021-11-12T14:53:49.939Z"
   },
   {
    "duration": 16,
    "start_time": "2021-11-12T14:53:49.957Z"
   },
   {
    "duration": 19,
    "start_time": "2021-11-12T14:53:49.975Z"
   },
   {
    "duration": 10,
    "start_time": "2021-11-12T14:53:49.996Z"
   },
   {
    "duration": 49,
    "start_time": "2021-11-12T14:53:50.012Z"
   },
   {
    "duration": 18,
    "start_time": "2021-11-12T14:53:50.065Z"
   },
   {
    "duration": 14,
    "start_time": "2021-11-12T14:53:50.086Z"
   },
   {
    "duration": 30,
    "start_time": "2021-11-12T14:53:50.102Z"
   },
   {
    "duration": 33,
    "start_time": "2021-11-12T14:53:50.134Z"
   },
   {
    "duration": 14,
    "start_time": "2021-11-12T14:53:50.170Z"
   },
   {
    "duration": 20,
    "start_time": "2021-11-12T14:53:50.187Z"
   },
   {
    "duration": 51,
    "start_time": "2021-11-12T14:53:50.209Z"
   },
   {
    "duration": 97,
    "start_time": "2021-11-12T14:53:50.262Z"
   },
   {
    "duration": 62,
    "start_time": "2021-11-12T14:53:50.362Z"
   },
   {
    "duration": 61,
    "start_time": "2021-11-12T14:53:50.427Z"
   },
   {
    "duration": 42,
    "start_time": "2021-11-12T14:53:50.491Z"
   },
   {
    "duration": 61,
    "start_time": "2021-11-12T14:53:50.536Z"
   },
   {
    "duration": 19,
    "start_time": "2021-11-12T14:53:50.600Z"
   },
   {
    "duration": 91,
    "start_time": "2021-11-12T14:53:50.621Z"
   },
   {
    "duration": 59,
    "start_time": "2021-11-12T14:53:50.719Z"
   },
   {
    "duration": 60,
    "start_time": "2021-11-12T14:53:50.781Z"
   },
   {
    "duration": 61,
    "start_time": "2021-11-12T14:53:50.844Z"
   },
   {
    "duration": 7,
    "start_time": "2021-11-12T14:53:50.908Z"
   },
   {
    "duration": 51,
    "start_time": "2021-11-12T14:53:50.918Z"
   },
   {
    "duration": 88,
    "start_time": "2021-11-12T14:53:50.972Z"
   },
   {
    "duration": 22,
    "start_time": "2021-11-12T14:53:51.063Z"
   },
   {
    "duration": 1383,
    "start_time": "2021-11-12T14:53:51.089Z"
   },
   {
    "duration": 147,
    "start_time": "2021-11-12T14:53:52.476Z"
   },
   {
    "duration": 2282,
    "start_time": "2021-11-12T14:54:28.959Z"
   },
   {
    "duration": 1389,
    "start_time": "2021-11-12T14:55:06.909Z"
   },
   {
    "duration": 813,
    "start_time": "2021-11-12T14:55:17.003Z"
   },
   {
    "duration": 5,
    "start_time": "2021-11-12T14:55:17.819Z"
   },
   {
    "duration": 2287,
    "start_time": "2021-11-12T14:55:17.828Z"
   },
   {
    "duration": 21,
    "start_time": "2021-11-12T14:55:20.118Z"
   },
   {
    "duration": 15,
    "start_time": "2021-11-12T14:55:20.141Z"
   },
   {
    "duration": 17,
    "start_time": "2021-11-12T14:55:20.158Z"
   },
   {
    "duration": 13,
    "start_time": "2021-11-12T14:55:20.177Z"
   },
   {
    "duration": 9,
    "start_time": "2021-11-12T14:55:20.194Z"
   },
   {
    "duration": 11,
    "start_time": "2021-11-12T14:55:20.206Z"
   },
   {
    "duration": 9,
    "start_time": "2021-11-12T14:55:20.259Z"
   },
   {
    "duration": 22,
    "start_time": "2021-11-12T14:55:20.270Z"
   },
   {
    "duration": 13,
    "start_time": "2021-11-12T14:55:20.295Z"
   },
   {
    "duration": 12,
    "start_time": "2021-11-12T14:55:20.311Z"
   },
   {
    "duration": 42,
    "start_time": "2021-11-12T14:55:20.326Z"
   },
   {
    "duration": 17,
    "start_time": "2021-11-12T14:55:20.371Z"
   },
   {
    "duration": 110,
    "start_time": "2021-11-12T14:55:20.390Z"
   },
   {
    "duration": 86,
    "start_time": "2021-11-12T14:55:20.502Z"
   },
   {
    "duration": 75,
    "start_time": "2021-11-12T14:55:20.591Z"
   },
   {
    "duration": 51,
    "start_time": "2021-11-12T14:55:20.669Z"
   },
   {
    "duration": 73,
    "start_time": "2021-11-12T14:55:20.724Z"
   },
   {
    "duration": 33,
    "start_time": "2021-11-12T14:55:20.801Z"
   },
   {
    "duration": 24,
    "start_time": "2021-11-12T14:55:20.837Z"
   },
   {
    "duration": 59,
    "start_time": "2021-11-12T14:55:20.868Z"
   },
   {
    "duration": 88,
    "start_time": "2021-11-12T14:55:20.930Z"
   },
   {
    "duration": 63,
    "start_time": "2021-11-12T14:55:21.021Z"
   },
   {
    "duration": 8,
    "start_time": "2021-11-12T14:55:21.087Z"
   },
   {
    "duration": 14,
    "start_time": "2021-11-12T14:55:21.097Z"
   },
   {
    "duration": 86,
    "start_time": "2021-11-12T14:55:21.113Z"
   },
   {
    "duration": 21,
    "start_time": "2021-11-12T14:55:21.202Z"
   },
   {
    "duration": 1364,
    "start_time": "2021-11-12T14:55:21.226Z"
   },
   {
    "duration": 125,
    "start_time": "2021-11-12T14:55:22.594Z"
   },
   {
    "duration": 1682,
    "start_time": "2021-11-12T14:55:40.868Z"
   },
   {
    "duration": 775,
    "start_time": "2021-11-12T14:56:04.672Z"
   },
   {
    "duration": 3,
    "start_time": "2021-11-12T14:56:05.450Z"
   },
   {
    "duration": 3044,
    "start_time": "2021-11-12T14:56:05.456Z"
   },
   {
    "duration": 21,
    "start_time": "2021-11-12T14:56:08.502Z"
   },
   {
    "duration": 14,
    "start_time": "2021-11-12T14:56:08.526Z"
   },
   {
    "duration": 18,
    "start_time": "2021-11-12T14:56:08.543Z"
   },
   {
    "duration": 12,
    "start_time": "2021-11-12T14:56:08.564Z"
   },
   {
    "duration": 12,
    "start_time": "2021-11-12T14:56:08.580Z"
   },
   {
    "duration": 10,
    "start_time": "2021-11-12T14:56:08.595Z"
   },
   {
    "duration": 9,
    "start_time": "2021-11-12T14:56:08.608Z"
   },
   {
    "duration": 15,
    "start_time": "2021-11-12T14:56:08.660Z"
   },
   {
    "duration": 11,
    "start_time": "2021-11-12T14:56:08.678Z"
   },
   {
    "duration": 10,
    "start_time": "2021-11-12T14:56:08.692Z"
   },
   {
    "duration": 57,
    "start_time": "2021-11-12T14:56:08.705Z"
   },
   {
    "duration": 18,
    "start_time": "2021-11-12T14:56:08.765Z"
   },
   {
    "duration": 110,
    "start_time": "2021-11-12T14:56:08.785Z"
   },
   {
    "duration": 72,
    "start_time": "2021-11-12T14:56:08.897Z"
   },
   {
    "duration": 41,
    "start_time": "2021-11-12T14:56:08.972Z"
   },
   {
    "duration": 54,
    "start_time": "2021-11-12T14:56:09.016Z"
   },
   {
    "duration": 38,
    "start_time": "2021-11-12T14:56:09.072Z"
   },
   {
    "duration": 21,
    "start_time": "2021-11-12T14:56:09.113Z"
   },
   {
    "duration": 26,
    "start_time": "2021-11-12T14:56:09.136Z"
   },
   {
    "duration": 33,
    "start_time": "2021-11-12T14:56:09.167Z"
   },
   {
    "duration": 64,
    "start_time": "2021-11-12T14:56:09.203Z"
   },
   {
    "duration": 34,
    "start_time": "2021-11-12T14:56:09.269Z"
   },
   {
    "duration": 13,
    "start_time": "2021-11-12T14:56:09.305Z"
   },
   {
    "duration": 14,
    "start_time": "2021-11-12T14:56:09.321Z"
   },
   {
    "duration": 69,
    "start_time": "2021-11-12T14:56:09.338Z"
   },
   {
    "duration": 13,
    "start_time": "2021-11-12T14:56:09.409Z"
   },
   {
    "duration": 623,
    "start_time": "2021-11-12T14:56:09.424Z"
   },
   {
    "duration": 508,
    "start_time": "2021-11-12T14:56:10.049Z"
   },
   {
    "duration": 17419,
    "start_time": "2021-11-12T14:55:53.140Z"
   },
   {
    "duration": 933,
    "start_time": "2021-11-12T15:00:21.766Z"
   },
   {
    "duration": 968,
    "start_time": "2021-11-12T15:00:42.459Z"
   },
   {
    "duration": 1781,
    "start_time": "2021-11-12T15:00:52.788Z"
   },
   {
    "duration": 771,
    "start_time": "2021-11-12T15:01:03.531Z"
   },
   {
    "duration": 4,
    "start_time": "2021-11-12T15:01:04.304Z"
   },
   {
    "duration": 2142,
    "start_time": "2021-11-12T15:01:04.310Z"
   },
   {
    "duration": 22,
    "start_time": "2021-11-12T15:01:06.455Z"
   },
   {
    "duration": 17,
    "start_time": "2021-11-12T15:01:06.480Z"
   },
   {
    "duration": 18,
    "start_time": "2021-11-12T15:01:06.499Z"
   },
   {
    "duration": 42,
    "start_time": "2021-11-12T15:01:06.519Z"
   },
   {
    "duration": 11,
    "start_time": "2021-11-12T15:01:06.564Z"
   },
   {
    "duration": 23,
    "start_time": "2021-11-12T15:01:06.578Z"
   },
   {
    "duration": 13,
    "start_time": "2021-11-12T15:01:06.604Z"
   },
   {
    "duration": 42,
    "start_time": "2021-11-12T15:01:06.619Z"
   },
   {
    "duration": 10,
    "start_time": "2021-11-12T15:01:06.663Z"
   },
   {
    "duration": 12,
    "start_time": "2021-11-12T15:01:06.675Z"
   },
   {
    "duration": 23,
    "start_time": "2021-11-12T15:01:06.689Z"
   },
   {
    "duration": 43,
    "start_time": "2021-11-12T15:01:06.715Z"
   },
   {
    "duration": 78,
    "start_time": "2021-11-12T15:01:06.761Z"
   },
   {
    "duration": 66,
    "start_time": "2021-11-12T15:01:06.842Z"
   },
   {
    "duration": 60,
    "start_time": "2021-11-12T15:01:06.911Z"
   },
   {
    "duration": 32,
    "start_time": "2021-11-12T15:01:06.973Z"
   },
   {
    "duration": 53,
    "start_time": "2021-11-12T15:01:07.008Z"
   },
   {
    "duration": 23,
    "start_time": "2021-11-12T15:01:07.064Z"
   },
   {
    "duration": 5,
    "start_time": "2021-11-12T15:01:07.089Z"
   },
   {
    "duration": 66,
    "start_time": "2021-11-12T15:01:07.098Z"
   },
   {
    "duration": 48,
    "start_time": "2021-11-12T15:01:07.166Z"
   },
   {
    "duration": 54,
    "start_time": "2021-11-12T15:01:07.217Z"
   },
   {
    "duration": 5,
    "start_time": "2021-11-12T15:01:07.274Z"
   },
   {
    "duration": 13,
    "start_time": "2021-11-12T15:01:07.282Z"
   },
   {
    "duration": 80,
    "start_time": "2021-11-12T15:01:07.297Z"
   },
   {
    "duration": 13,
    "start_time": "2021-11-12T15:01:07.379Z"
   },
   {
    "duration": 752,
    "start_time": "2021-11-12T15:01:07.395Z"
   },
   {
    "duration": 452,
    "start_time": "2021-11-12T15:01:08.149Z"
   },
   {
    "duration": 17448,
    "start_time": "2021-11-12T15:00:51.155Z"
   },
   {
    "duration": 372,
    "start_time": "2021-11-12T15:08:01.543Z"
   },
   {
    "duration": 437,
    "start_time": "2021-11-12T15:08:59.160Z"
   },
   {
    "duration": 379,
    "start_time": "2021-11-12T15:09:06.528Z"
   },
   {
    "duration": 757,
    "start_time": "2021-11-12T15:11:50.278Z"
   },
   {
    "duration": 3,
    "start_time": "2021-11-12T15:11:51.039Z"
   },
   {
    "duration": 2226,
    "start_time": "2021-11-12T15:11:51.045Z"
   },
   {
    "duration": 23,
    "start_time": "2021-11-12T15:11:53.274Z"
   },
   {
    "duration": 16,
    "start_time": "2021-11-12T15:11:53.300Z"
   },
   {
    "duration": 16,
    "start_time": "2021-11-12T15:11:53.318Z"
   },
   {
    "duration": 31,
    "start_time": "2021-11-12T15:11:53.336Z"
   },
   {
    "duration": 10,
    "start_time": "2021-11-12T15:11:53.371Z"
   },
   {
    "duration": 15,
    "start_time": "2021-11-12T15:11:53.384Z"
   },
   {
    "duration": 12,
    "start_time": "2021-11-12T15:11:53.401Z"
   },
   {
    "duration": 53,
    "start_time": "2021-11-12T15:11:53.415Z"
   },
   {
    "duration": 17,
    "start_time": "2021-11-12T15:11:53.471Z"
   },
   {
    "duration": 10,
    "start_time": "2021-11-12T15:11:53.491Z"
   },
   {
    "duration": 18,
    "start_time": "2021-11-12T15:11:53.503Z"
   },
   {
    "duration": 40,
    "start_time": "2021-11-12T15:11:53.523Z"
   },
   {
    "duration": 93,
    "start_time": "2021-11-12T15:11:53.566Z"
   },
   {
    "duration": 58,
    "start_time": "2021-11-12T15:11:53.661Z"
   },
   {
    "duration": 57,
    "start_time": "2021-11-12T15:11:53.721Z"
   },
   {
    "duration": 35,
    "start_time": "2021-11-12T15:11:53.780Z"
   },
   {
    "duration": 55,
    "start_time": "2021-11-12T15:11:53.818Z"
   },
   {
    "duration": 19,
    "start_time": "2021-11-12T15:11:53.875Z"
   },
   {
    "duration": 11,
    "start_time": "2021-11-12T15:11:53.897Z"
   },
   {
    "duration": 47,
    "start_time": "2021-11-12T15:11:53.912Z"
   },
   {
    "duration": 40,
    "start_time": "2021-11-12T15:11:53.962Z"
   },
   {
    "duration": 32,
    "start_time": "2021-11-12T15:11:54.004Z"
   },
   {
    "duration": 6,
    "start_time": "2021-11-12T15:11:54.060Z"
   },
   {
    "duration": 14,
    "start_time": "2021-11-12T15:11:54.068Z"
   },
   {
    "duration": 75,
    "start_time": "2021-11-12T15:11:54.084Z"
   },
   {
    "duration": 460,
    "start_time": "2021-11-12T15:11:54.161Z"
   },
   {
    "duration": 17473,
    "start_time": "2021-11-12T15:11:37.150Z"
   },
   {
    "duration": 17470,
    "start_time": "2021-11-12T15:11:37.155Z"
   },
   {
    "duration": 17466,
    "start_time": "2021-11-12T15:11:37.161Z"
   },
   {
    "duration": 807,
    "start_time": "2021-11-12T15:12:27.826Z"
   },
   {
    "duration": 3,
    "start_time": "2021-11-12T15:12:28.636Z"
   },
   {
    "duration": 2183,
    "start_time": "2021-11-12T15:12:28.642Z"
   },
   {
    "duration": 21,
    "start_time": "2021-11-12T15:12:30.828Z"
   },
   {
    "duration": 19,
    "start_time": "2021-11-12T15:12:30.852Z"
   },
   {
    "duration": 22,
    "start_time": "2021-11-12T15:12:30.874Z"
   },
   {
    "duration": 22,
    "start_time": "2021-11-12T15:12:30.898Z"
   },
   {
    "duration": 11,
    "start_time": "2021-11-12T15:12:30.925Z"
   },
   {
    "duration": 24,
    "start_time": "2021-11-12T15:12:30.939Z"
   },
   {
    "duration": 16,
    "start_time": "2021-11-12T15:12:30.965Z"
   },
   {
    "duration": 30,
    "start_time": "2021-11-12T15:12:30.983Z"
   },
   {
    "duration": 20,
    "start_time": "2021-11-12T15:12:31.016Z"
   },
   {
    "duration": 21,
    "start_time": "2021-11-12T15:12:31.038Z"
   },
   {
    "duration": 15,
    "start_time": "2021-11-12T15:12:31.074Z"
   },
   {
    "duration": 15,
    "start_time": "2021-11-12T15:12:31.092Z"
   },
   {
    "duration": 100,
    "start_time": "2021-11-12T15:12:31.110Z"
   },
   {
    "duration": 66,
    "start_time": "2021-11-12T15:12:31.213Z"
   },
   {
    "duration": 42,
    "start_time": "2021-11-12T15:12:31.281Z"
   },
   {
    "duration": 40,
    "start_time": "2021-11-12T15:12:31.326Z"
   },
   {
    "duration": 37,
    "start_time": "2021-11-12T15:12:31.369Z"
   },
   {
    "duration": 30,
    "start_time": "2021-11-12T15:12:31.409Z"
   },
   {
    "duration": 16,
    "start_time": "2021-11-12T15:12:31.441Z"
   },
   {
    "duration": 51,
    "start_time": "2021-11-12T15:12:31.461Z"
   },
   {
    "duration": 42,
    "start_time": "2021-11-12T15:12:31.515Z"
   },
   {
    "duration": 34,
    "start_time": "2021-11-12T15:12:31.560Z"
   },
   {
    "duration": 17,
    "start_time": "2021-11-12T15:12:31.597Z"
   },
   {
    "duration": 15,
    "start_time": "2021-11-12T15:12:31.616Z"
   },
   {
    "duration": 60,
    "start_time": "2021-11-12T15:12:31.633Z"
   },
   {
    "duration": 5266,
    "start_time": "2021-11-12T15:12:31.695Z"
   },
   {
    "duration": 6,
    "start_time": "2021-11-12T15:12:36.963Z"
   },
   {
    "duration": 39,
    "start_time": "2021-11-12T15:12:36.971Z"
   },
   {
    "duration": 124,
    "start_time": "2021-11-12T15:12:37.012Z"
   },
   {
    "duration": 768,
    "start_time": "2021-11-12T15:13:05.978Z"
   },
   {
    "duration": 3,
    "start_time": "2021-11-12T15:13:06.749Z"
   },
   {
    "duration": 1264,
    "start_time": "2021-11-12T15:13:06.755Z"
   },
   {
    "duration": 21,
    "start_time": "2021-11-12T15:13:08.021Z"
   },
   {
    "duration": 21,
    "start_time": "2021-11-12T15:13:08.044Z"
   },
   {
    "duration": 26,
    "start_time": "2021-11-12T15:13:08.067Z"
   },
   {
    "duration": 18,
    "start_time": "2021-11-12T15:13:08.095Z"
   },
   {
    "duration": 10,
    "start_time": "2021-11-12T15:13:08.117Z"
   },
   {
    "duration": 35,
    "start_time": "2021-11-12T15:13:08.130Z"
   },
   {
    "duration": 16,
    "start_time": "2021-11-12T15:13:08.167Z"
   },
   {
    "duration": 20,
    "start_time": "2021-11-12T15:13:08.185Z"
   },
   {
    "duration": 13,
    "start_time": "2021-11-12T15:13:08.208Z"
   },
   {
    "duration": 18,
    "start_time": "2021-11-12T15:13:08.223Z"
   },
   {
    "duration": 28,
    "start_time": "2021-11-12T15:13:08.243Z"
   },
   {
    "duration": 17,
    "start_time": "2021-11-12T15:13:08.273Z"
   },
   {
    "duration": 102,
    "start_time": "2021-11-12T15:13:08.293Z"
   },
   {
    "duration": 67,
    "start_time": "2021-11-12T15:13:08.397Z"
   },
   {
    "duration": 46,
    "start_time": "2021-11-12T15:13:08.467Z"
   },
   {
    "duration": 48,
    "start_time": "2021-11-12T15:13:08.516Z"
   },
   {
    "duration": 36,
    "start_time": "2021-11-12T15:13:08.567Z"
   },
   {
    "duration": 21,
    "start_time": "2021-11-12T15:13:08.605Z"
   },
   {
    "duration": 31,
    "start_time": "2021-11-12T15:13:08.628Z"
   },
   {
    "duration": 36,
    "start_time": "2021-11-12T15:13:08.664Z"
   },
   {
    "duration": 39,
    "start_time": "2021-11-12T15:13:08.703Z"
   },
   {
    "duration": 47,
    "start_time": "2021-11-12T15:13:08.745Z"
   },
   {
    "duration": 17,
    "start_time": "2021-11-12T15:13:08.795Z"
   },
   {
    "duration": 38,
    "start_time": "2021-11-12T15:13:08.814Z"
   },
   {
    "duration": 56,
    "start_time": "2021-11-12T15:13:08.854Z"
   },
   {
    "duration": 5874,
    "start_time": "2021-11-12T15:13:08.913Z"
   },
   {
    "duration": 5,
    "start_time": "2021-11-12T15:13:14.790Z"
   },
   {
    "duration": 24,
    "start_time": "2021-11-12T15:13:14.798Z"
   },
   {
    "duration": 134,
    "start_time": "2021-11-12T15:13:14.825Z"
   },
   {
    "duration": 39,
    "start_time": "2021-11-12T15:13:25.137Z"
   },
   {
    "duration": 5387,
    "start_time": "2021-11-12T15:14:09.020Z"
   },
   {
    "duration": 17,
    "start_time": "2021-11-12T15:14:17.709Z"
   },
   {
    "duration": 42,
    "start_time": "2021-11-12T15:14:20.929Z"
   },
   {
    "duration": 124,
    "start_time": "2021-11-12T15:15:34.548Z"
   },
   {
    "duration": 469,
    "start_time": "2021-11-12T15:15:49.707Z"
   },
   {
    "duration": 61,
    "start_time": "2021-11-12T15:16:12.388Z"
   },
   {
    "duration": 6745,
    "start_time": "2021-11-12T15:33:26.186Z"
   },
   {
    "duration": 733,
    "start_time": "2021-11-12T15:33:52.897Z"
   },
   {
    "duration": 4,
    "start_time": "2021-11-12T15:33:53.632Z"
   },
   {
    "duration": 1139,
    "start_time": "2021-11-12T15:33:53.638Z"
   },
   {
    "duration": 21,
    "start_time": "2021-11-12T15:33:54.780Z"
   },
   {
    "duration": 19,
    "start_time": "2021-11-12T15:33:54.803Z"
   },
   {
    "duration": 17,
    "start_time": "2021-11-12T15:33:54.825Z"
   },
   {
    "duration": 23,
    "start_time": "2021-11-12T15:33:54.844Z"
   },
   {
    "duration": 9,
    "start_time": "2021-11-12T15:33:54.871Z"
   },
   {
    "duration": 11,
    "start_time": "2021-11-12T15:33:54.883Z"
   },
   {
    "duration": 15,
    "start_time": "2021-11-12T15:33:54.896Z"
   },
   {
    "duration": 51,
    "start_time": "2021-11-12T15:33:54.913Z"
   },
   {
    "duration": 11,
    "start_time": "2021-11-12T15:33:54.967Z"
   },
   {
    "duration": 13,
    "start_time": "2021-11-12T15:33:54.981Z"
   },
   {
    "duration": 16,
    "start_time": "2021-11-12T15:33:54.997Z"
   },
   {
    "duration": 44,
    "start_time": "2021-11-12T15:33:55.016Z"
   },
   {
    "duration": 96,
    "start_time": "2021-11-12T15:33:55.063Z"
   },
   {
    "duration": 9113,
    "start_time": "2021-11-12T15:33:55.161Z"
   },
   {
    "duration": 17508,
    "start_time": "2021-11-12T15:33:46.769Z"
   },
   {
    "duration": 17501,
    "start_time": "2021-11-12T15:33:46.778Z"
   },
   {
    "duration": 17498,
    "start_time": "2021-11-12T15:33:46.783Z"
   },
   {
    "duration": 17496,
    "start_time": "2021-11-12T15:33:46.787Z"
   },
   {
    "duration": 17494,
    "start_time": "2021-11-12T15:33:46.790Z"
   },
   {
    "duration": 17492,
    "start_time": "2021-11-12T15:33:46.794Z"
   },
   {
    "duration": 17489,
    "start_time": "2021-11-12T15:33:46.798Z"
   },
   {
    "duration": 17488,
    "start_time": "2021-11-12T15:33:46.801Z"
   },
   {
    "duration": 17485,
    "start_time": "2021-11-12T15:33:46.806Z"
   },
   {
    "duration": 17480,
    "start_time": "2021-11-12T15:33:46.812Z"
   },
   {
    "duration": 17478,
    "start_time": "2021-11-12T15:33:46.816Z"
   },
   {
    "duration": 17476,
    "start_time": "2021-11-12T15:33:46.819Z"
   },
   {
    "duration": 17474,
    "start_time": "2021-11-12T15:33:46.823Z"
   },
   {
    "duration": 17471,
    "start_time": "2021-11-12T15:33:46.828Z"
   },
   {
    "duration": 17469,
    "start_time": "2021-11-12T15:33:46.831Z"
   },
   {
    "duration": 90,
    "start_time": "2021-11-12T15:34:29.331Z"
   },
   {
    "duration": 65,
    "start_time": "2021-11-12T15:36:03.390Z"
   },
   {
    "duration": 83,
    "start_time": "2021-11-12T15:36:10.666Z"
   },
   {
    "duration": 370,
    "start_time": "2021-11-12T15:40:24.754Z"
   },
   {
    "duration": 842,
    "start_time": "2021-11-12T15:40:41.659Z"
   },
   {
    "duration": 4,
    "start_time": "2021-11-12T15:40:42.504Z"
   },
   {
    "duration": 5414,
    "start_time": "2021-11-12T15:40:42.511Z"
   },
   {
    "duration": 22,
    "start_time": "2021-11-12T15:40:47.928Z"
   },
   {
    "duration": 33,
    "start_time": "2021-11-12T15:40:47.953Z"
   },
   {
    "duration": 26,
    "start_time": "2021-11-12T15:40:47.989Z"
   },
   {
    "duration": 15,
    "start_time": "2021-11-12T15:40:48.018Z"
   },
   {
    "duration": 25,
    "start_time": "2021-11-12T15:40:48.039Z"
   },
   {
    "duration": 29,
    "start_time": "2021-11-12T15:40:48.067Z"
   },
   {
    "duration": 24,
    "start_time": "2021-11-12T15:40:48.100Z"
   },
   {
    "duration": 27,
    "start_time": "2021-11-12T15:40:48.127Z"
   },
   {
    "duration": 15,
    "start_time": "2021-11-12T15:40:48.159Z"
   },
   {
    "duration": 22,
    "start_time": "2021-11-12T15:40:48.176Z"
   },
   {
    "duration": 25,
    "start_time": "2021-11-12T15:40:48.200Z"
   },
   {
    "duration": 16,
    "start_time": "2021-11-12T15:40:48.228Z"
   },
   {
    "duration": 92,
    "start_time": "2021-11-12T15:40:48.247Z"
   },
   {
    "duration": 104,
    "start_time": "2021-11-12T15:40:48.342Z"
   },
   {
    "duration": 56,
    "start_time": "2021-11-12T15:40:48.448Z"
   },
   {
    "duration": 56,
    "start_time": "2021-11-12T15:40:48.506Z"
   },
   {
    "duration": 42,
    "start_time": "2021-11-12T15:40:48.565Z"
   },
   {
    "duration": 23,
    "start_time": "2021-11-12T15:40:48.610Z"
   },
   {
    "duration": 1647,
    "start_time": "2021-11-12T15:40:48.636Z"
   },
   {
    "duration": 17520,
    "start_time": "2021-11-12T15:40:32.767Z"
   },
   {
    "duration": 17511,
    "start_time": "2021-11-12T15:40:32.777Z"
   },
   {
    "duration": 17505,
    "start_time": "2021-11-12T15:40:32.785Z"
   },
   {
    "duration": 17503,
    "start_time": "2021-11-12T15:40:32.789Z"
   },
   {
    "duration": 17501,
    "start_time": "2021-11-12T15:40:32.792Z"
   },
   {
    "duration": 17500,
    "start_time": "2021-11-12T15:40:32.795Z"
   },
   {
    "duration": 17499,
    "start_time": "2021-11-12T15:40:32.798Z"
   },
   {
    "duration": 17496,
    "start_time": "2021-11-12T15:40:32.802Z"
   },
   {
    "duration": 17495,
    "start_time": "2021-11-12T15:40:32.805Z"
   },
   {
    "duration": 17495,
    "start_time": "2021-11-12T15:40:32.807Z"
   },
   {
    "duration": 777,
    "start_time": "2021-11-12T15:41:37.361Z"
   },
   {
    "duration": 4,
    "start_time": "2021-11-12T15:41:38.141Z"
   },
   {
    "duration": 2076,
    "start_time": "2021-11-12T15:41:38.159Z"
   },
   {
    "duration": 21,
    "start_time": "2021-11-12T15:41:40.238Z"
   },
   {
    "duration": 14,
    "start_time": "2021-11-12T15:41:40.261Z"
   },
   {
    "duration": 18,
    "start_time": "2021-11-12T15:41:40.277Z"
   },
   {
    "duration": 15,
    "start_time": "2021-11-12T15:41:40.297Z"
   },
   {
    "duration": 53,
    "start_time": "2021-11-12T15:41:40.316Z"
   },
   {
    "duration": 15,
    "start_time": "2021-11-12T15:41:40.372Z"
   },
   {
    "duration": 15,
    "start_time": "2021-11-12T15:41:40.389Z"
   },
   {
    "duration": 55,
    "start_time": "2021-11-12T15:41:40.406Z"
   },
   {
    "duration": 11,
    "start_time": "2021-11-12T15:41:40.463Z"
   },
   {
    "duration": 15,
    "start_time": "2021-11-12T15:41:40.477Z"
   },
   {
    "duration": 21,
    "start_time": "2021-11-12T15:41:40.495Z"
   },
   {
    "duration": 49,
    "start_time": "2021-11-12T15:41:40.519Z"
   },
   {
    "duration": 103,
    "start_time": "2021-11-12T15:41:40.571Z"
   },
   {
    "duration": 97,
    "start_time": "2021-11-12T15:41:40.678Z"
   },
   {
    "duration": 45,
    "start_time": "2021-11-12T15:41:40.778Z"
   },
   {
    "duration": 56,
    "start_time": "2021-11-12T15:41:40.826Z"
   },
   {
    "duration": 48,
    "start_time": "2021-11-12T15:41:40.885Z"
   },
   {
    "duration": 37,
    "start_time": "2021-11-12T15:41:40.935Z"
   },
   {
    "duration": 1659,
    "start_time": "2021-11-12T15:41:40.975Z"
   },
   {
    "duration": 17539,
    "start_time": "2021-11-12T15:41:25.098Z"
   },
   {
    "duration": 17533,
    "start_time": "2021-11-12T15:41:25.105Z"
   },
   {
    "duration": 17532,
    "start_time": "2021-11-12T15:41:25.108Z"
   },
   {
    "duration": 17528,
    "start_time": "2021-11-12T15:41:25.113Z"
   },
   {
    "duration": 17527,
    "start_time": "2021-11-12T15:41:25.116Z"
   },
   {
    "duration": 17525,
    "start_time": "2021-11-12T15:41:25.119Z"
   },
   {
    "duration": 17524,
    "start_time": "2021-11-12T15:41:25.122Z"
   },
   {
    "duration": 17522,
    "start_time": "2021-11-12T15:41:25.125Z"
   },
   {
    "duration": 17520,
    "start_time": "2021-11-12T15:41:25.128Z"
   },
   {
    "duration": 17519,
    "start_time": "2021-11-12T15:41:25.131Z"
   },
   {
    "duration": 357,
    "start_time": "2021-11-12T15:43:34.797Z"
   },
   {
    "duration": 11,
    "start_time": "2021-11-12T15:43:43.855Z"
   },
   {
    "duration": 2029,
    "start_time": "2021-11-12T15:44:23.577Z"
   },
   {
    "duration": 20,
    "start_time": "2021-11-12T15:45:04.677Z"
   },
   {
    "duration": 5,
    "start_time": "2021-11-12T15:46:39.627Z"
   },
   {
    "duration": 765,
    "start_time": "2021-11-12T15:54:46.053Z"
   },
   {
    "duration": 3,
    "start_time": "2021-11-12T15:54:46.821Z"
   },
   {
    "duration": 1035,
    "start_time": "2021-11-12T15:54:46.827Z"
   },
   {
    "duration": 20,
    "start_time": "2021-11-12T15:54:47.865Z"
   },
   {
    "duration": 29,
    "start_time": "2021-11-12T15:54:47.887Z"
   },
   {
    "duration": 17,
    "start_time": "2021-11-12T15:54:47.919Z"
   },
   {
    "duration": 11,
    "start_time": "2021-11-12T15:54:47.960Z"
   },
   {
    "duration": 11,
    "start_time": "2021-11-12T15:54:47.975Z"
   },
   {
    "duration": 13,
    "start_time": "2021-11-12T15:54:47.989Z"
   },
   {
    "duration": 22,
    "start_time": "2021-11-12T15:54:48.004Z"
   },
   {
    "duration": 42,
    "start_time": "2021-11-12T15:54:48.029Z"
   },
   {
    "duration": 9,
    "start_time": "2021-11-12T15:54:48.073Z"
   },
   {
    "duration": 12,
    "start_time": "2021-11-12T15:54:48.084Z"
   },
   {
    "duration": 18,
    "start_time": "2021-11-12T15:54:48.098Z"
   },
   {
    "duration": 44,
    "start_time": "2021-11-12T15:54:48.118Z"
   },
   {
    "duration": 78,
    "start_time": "2021-11-12T15:54:48.164Z"
   },
   {
    "duration": 98,
    "start_time": "2021-11-12T15:54:48.244Z"
   },
   {
    "duration": 50,
    "start_time": "2021-11-12T15:54:48.345Z"
   },
   {
    "duration": 32,
    "start_time": "2021-11-12T15:54:48.397Z"
   },
   {
    "duration": 59,
    "start_time": "2021-11-12T15:54:48.431Z"
   },
   {
    "duration": 22,
    "start_time": "2021-11-12T15:54:48.492Z"
   },
   {
    "duration": 18,
    "start_time": "2021-11-12T15:54:48.516Z"
   },
   {
    "duration": 5,
    "start_time": "2021-11-12T15:54:48.561Z"
   },
   {
    "duration": 40,
    "start_time": "2021-11-12T15:54:48.569Z"
   },
   {
    "duration": 48,
    "start_time": "2021-11-12T15:54:48.611Z"
   },
   {
    "duration": 35,
    "start_time": "2021-11-12T15:54:48.661Z"
   },
   {
    "duration": 12,
    "start_time": "2021-11-12T15:54:48.698Z"
   },
   {
    "duration": 11,
    "start_time": "2021-11-12T15:54:48.712Z"
   },
   {
    "duration": 83,
    "start_time": "2021-11-12T15:54:48.725Z"
   },
   {
    "duration": 6669,
    "start_time": "2021-11-12T15:54:48.811Z"
   },
   {
    "duration": 17591,
    "start_time": "2021-11-12T15:54:37.891Z"
   },
   {
    "duration": 17587,
    "start_time": "2021-11-12T15:54:37.897Z"
   },
   {
    "duration": 17584,
    "start_time": "2021-11-12T15:54:37.901Z"
   },
   {
    "duration": 7533,
    "start_time": "2021-11-12T16:00:04.445Z"
   },
   {
    "duration": 5,
    "start_time": "2021-11-12T16:00:18.562Z"
   },
   {
    "duration": 63,
    "start_time": "2021-11-12T16:00:21.621Z"
   },
   {
    "duration": 789,
    "start_time": "2021-11-12T16:02:58.025Z"
   },
   {
    "duration": 4,
    "start_time": "2021-11-12T16:02:58.816Z"
   },
   {
    "duration": 1544,
    "start_time": "2021-11-12T16:02:58.823Z"
   },
   {
    "duration": 31,
    "start_time": "2021-11-12T16:03:00.371Z"
   },
   {
    "duration": 23,
    "start_time": "2021-11-12T16:03:00.405Z"
   },
   {
    "duration": 46,
    "start_time": "2021-11-12T16:03:00.431Z"
   },
   {
    "duration": 11,
    "start_time": "2021-11-12T16:03:00.480Z"
   },
   {
    "duration": 18,
    "start_time": "2021-11-12T16:03:00.495Z"
   },
   {
    "duration": 49,
    "start_time": "2021-11-12T16:03:00.517Z"
   },
   {
    "duration": 25,
    "start_time": "2021-11-12T16:03:00.569Z"
   },
   {
    "duration": 36,
    "start_time": "2021-11-12T16:03:00.596Z"
   },
   {
    "duration": 13,
    "start_time": "2021-11-12T16:03:00.634Z"
   },
   {
    "duration": 52,
    "start_time": "2021-11-12T16:03:00.650Z"
   },
   {
    "duration": 33,
    "start_time": "2021-11-12T16:03:00.705Z"
   },
   {
    "duration": 34,
    "start_time": "2021-11-12T16:03:00.741Z"
   },
   {
    "duration": 125,
    "start_time": "2021-11-12T16:03:00.779Z"
   },
   {
    "duration": 102,
    "start_time": "2021-11-12T16:03:00.907Z"
   },
   {
    "duration": 59,
    "start_time": "2021-11-12T16:03:01.012Z"
   },
   {
    "duration": 36,
    "start_time": "2021-11-12T16:03:01.074Z"
   },
   {
    "duration": 64,
    "start_time": "2021-11-12T16:03:01.113Z"
   },
   {
    "duration": 29,
    "start_time": "2021-11-12T16:03:01.180Z"
   },
   {
    "duration": 52,
    "start_time": "2021-11-12T16:03:01.212Z"
   },
   {
    "duration": 6,
    "start_time": "2021-11-12T16:03:01.269Z"
   },
   {
    "duration": 46,
    "start_time": "2021-11-12T16:03:01.278Z"
   },
   {
    "duration": 55,
    "start_time": "2021-11-12T16:03:01.326Z"
   },
   {
    "duration": 35,
    "start_time": "2021-11-12T16:03:01.383Z"
   },
   {
    "duration": 17,
    "start_time": "2021-11-12T16:03:01.420Z"
   },
   {
    "duration": 31,
    "start_time": "2021-11-12T16:03:01.439Z"
   },
   {
    "duration": 70,
    "start_time": "2021-11-12T16:03:01.473Z"
   },
   {
    "duration": 8791,
    "start_time": "2021-11-12T16:03:01.546Z"
   },
   {
    "duration": 5,
    "start_time": "2021-11-12T16:03:10.340Z"
   },
   {
    "duration": 128,
    "start_time": "2021-11-12T16:03:10.348Z"
   },
   {
    "duration": 210,
    "start_time": "2021-11-12T16:03:10.479Z"
   },
   {
    "duration": 124,
    "start_time": "2021-11-12T16:51:27.671Z"
   },
   {
    "duration": 6,
    "start_time": "2021-11-12T16:53:33.140Z"
   },
   {
    "duration": 27,
    "start_time": "2021-11-12T16:53:43.843Z"
   },
   {
    "duration": 5,
    "start_time": "2021-11-12T17:03:53.691Z"
   },
   {
    "duration": 593,
    "start_time": "2021-11-12T17:04:44.976Z"
   },
   {
    "duration": 57,
    "start_time": "2021-11-12T17:05:04.720Z"
   },
   {
    "duration": 133,
    "start_time": "2021-11-12T17:05:46.397Z"
   },
   {
    "duration": 381,
    "start_time": "2021-11-12T17:05:52.163Z"
   },
   {
    "duration": 12,
    "start_time": "2021-11-12T17:06:11.507Z"
   },
   {
    "duration": 8,
    "start_time": "2021-11-12T17:07:03.071Z"
   },
   {
    "duration": 9,
    "start_time": "2021-11-12T17:07:16.837Z"
   },
   {
    "duration": 761,
    "start_time": "2021-11-12T17:07:41.486Z"
   },
   {
    "duration": 5,
    "start_time": "2021-11-12T17:07:42.250Z"
   },
   {
    "duration": 2260,
    "start_time": "2021-11-12T17:07:42.257Z"
   },
   {
    "duration": 20,
    "start_time": "2021-11-12T17:07:44.520Z"
   },
   {
    "duration": 14,
    "start_time": "2021-11-12T17:07:44.543Z"
   },
   {
    "duration": 16,
    "start_time": "2021-11-12T17:07:44.559Z"
   },
   {
    "duration": 13,
    "start_time": "2021-11-12T17:07:44.578Z"
   },
   {
    "duration": 10,
    "start_time": "2021-11-12T17:07:44.594Z"
   },
   {
    "duration": 12,
    "start_time": "2021-11-12T17:07:44.608Z"
   },
   {
    "duration": 43,
    "start_time": "2021-11-12T17:07:44.623Z"
   },
   {
    "duration": 16,
    "start_time": "2021-11-12T17:07:44.668Z"
   },
   {
    "duration": 11,
    "start_time": "2021-11-12T17:07:44.687Z"
   },
   {
    "duration": 15,
    "start_time": "2021-11-12T17:07:44.700Z"
   },
   {
    "duration": 43,
    "start_time": "2021-11-12T17:07:44.717Z"
   },
   {
    "duration": 16,
    "start_time": "2021-11-12T17:07:44.762Z"
   },
   {
    "duration": 102,
    "start_time": "2021-11-12T17:07:44.780Z"
   },
   {
    "duration": 91,
    "start_time": "2021-11-12T17:07:44.884Z"
   },
   {
    "duration": 44,
    "start_time": "2021-11-12T17:07:44.977Z"
   },
   {
    "duration": 56,
    "start_time": "2021-11-12T17:07:45.023Z"
   },
   {
    "duration": 40,
    "start_time": "2021-11-12T17:07:45.082Z"
   },
   {
    "duration": 41,
    "start_time": "2021-11-12T17:07:45.124Z"
   },
   {
    "duration": 5,
    "start_time": "2021-11-12T17:07:45.168Z"
   },
   {
    "duration": 40,
    "start_time": "2021-11-12T17:07:45.175Z"
   },
   {
    "duration": 65,
    "start_time": "2021-11-12T17:07:45.218Z"
   },
   {
    "duration": 33,
    "start_time": "2021-11-12T17:07:45.286Z"
   },
   {
    "duration": 23,
    "start_time": "2021-11-12T17:07:45.321Z"
   },
   {
    "duration": 7734,
    "start_time": "2021-11-12T17:07:45.360Z"
   },
   {
    "duration": 29,
    "start_time": "2021-11-12T17:07:53.097Z"
   },
   {
    "duration": 9,
    "start_time": "2021-11-12T17:07:53.128Z"
   },
   {
    "duration": 27,
    "start_time": "2021-11-12T17:07:53.139Z"
   },
   {
    "duration": 8,
    "start_time": "2021-11-12T17:07:59.275Z"
   },
   {
    "duration": 125,
    "start_time": "2021-11-12T17:09:31.299Z"
   },
   {
    "duration": 11,
    "start_time": "2021-11-12T17:12:22.311Z"
   },
   {
    "duration": 126,
    "start_time": "2021-11-12T17:15:03.059Z"
   },
   {
    "duration": 124,
    "start_time": "2021-11-12T17:15:18.922Z"
   },
   {
    "duration": 138,
    "start_time": "2021-11-12T17:16:03.875Z"
   },
   {
    "duration": 8,
    "start_time": "2021-11-12T17:18:02.985Z"
   },
   {
    "duration": 12,
    "start_time": "2021-11-12T17:18:08.274Z"
   },
   {
    "duration": 8,
    "start_time": "2021-11-12T17:18:45.599Z"
   },
   {
    "duration": 734,
    "start_time": "2021-11-12T17:19:08.295Z"
   },
   {
    "duration": 3,
    "start_time": "2021-11-12T17:19:09.031Z"
   },
   {
    "duration": 2957,
    "start_time": "2021-11-12T17:19:09.037Z"
   },
   {
    "duration": 20,
    "start_time": "2021-11-12T17:19:11.997Z"
   },
   {
    "duration": 16,
    "start_time": "2021-11-12T17:19:12.019Z"
   },
   {
    "duration": 17,
    "start_time": "2021-11-12T17:19:12.037Z"
   },
   {
    "duration": 22,
    "start_time": "2021-11-12T17:19:12.056Z"
   },
   {
    "duration": 13,
    "start_time": "2021-11-12T17:19:12.083Z"
   },
   {
    "duration": 22,
    "start_time": "2021-11-12T17:19:12.099Z"
   },
   {
    "duration": 20,
    "start_time": "2021-11-12T17:19:12.124Z"
   },
   {
    "duration": 17,
    "start_time": "2021-11-12T17:19:12.160Z"
   },
   {
    "duration": 18,
    "start_time": "2021-11-12T17:19:12.179Z"
   },
   {
    "duration": 14,
    "start_time": "2021-11-12T17:19:12.200Z"
   },
   {
    "duration": 46,
    "start_time": "2021-11-12T17:19:12.216Z"
   },
   {
    "duration": 16,
    "start_time": "2021-11-12T17:19:12.264Z"
   },
   {
    "duration": 106,
    "start_time": "2021-11-12T17:19:12.283Z"
   },
   {
    "duration": 98,
    "start_time": "2021-11-12T17:19:12.391Z"
   },
   {
    "duration": 46,
    "start_time": "2021-11-12T17:19:12.491Z"
   },
   {
    "duration": 54,
    "start_time": "2021-11-12T17:19:12.539Z"
   },
   {
    "duration": 40,
    "start_time": "2021-11-12T17:19:12.596Z"
   },
   {
    "duration": 41,
    "start_time": "2021-11-12T17:19:12.639Z"
   },
   {
    "duration": 7,
    "start_time": "2021-11-12T17:19:12.683Z"
   },
   {
    "duration": 71,
    "start_time": "2021-11-12T17:19:12.696Z"
   },
   {
    "duration": 50,
    "start_time": "2021-11-12T17:19:12.770Z"
   },
   {
    "duration": 45,
    "start_time": "2021-11-12T17:19:12.822Z"
   },
   {
    "duration": 26,
    "start_time": "2021-11-12T17:19:12.869Z"
   },
   {
    "duration": 7870,
    "start_time": "2021-11-12T17:19:12.897Z"
   },
   {
    "duration": 31,
    "start_time": "2021-11-12T17:19:20.769Z"
   },
   {
    "duration": 5,
    "start_time": "2021-11-12T17:19:20.802Z"
   },
   {
    "duration": 9,
    "start_time": "2021-11-12T17:19:20.810Z"
   },
   {
    "duration": 8,
    "start_time": "2021-11-12T17:19:30.257Z"
   },
   {
    "duration": 465,
    "start_time": "2021-11-12T17:20:40.517Z"
   },
   {
    "duration": 7,
    "start_time": "2021-11-12T17:21:24.504Z"
   },
   {
    "duration": 4,
    "start_time": "2021-11-12T17:23:16.130Z"
   },
   {
    "duration": 4,
    "start_time": "2021-11-12T17:23:16.152Z"
   },
   {
    "duration": 2748,
    "start_time": "2021-11-12T17:23:16.160Z"
   },
   {
    "duration": 10,
    "start_time": "2021-11-12T17:23:18.911Z"
   },
   {
    "duration": 15,
    "start_time": "2021-11-12T17:23:18.924Z"
   },
   {
    "duration": 18,
    "start_time": "2021-11-12T17:23:18.941Z"
   },
   {
    "duration": 10,
    "start_time": "2021-11-12T17:23:18.961Z"
   },
   {
    "duration": 10,
    "start_time": "2021-11-12T17:23:18.973Z"
   },
   {
    "duration": 11,
    "start_time": "2021-11-12T17:23:18.985Z"
   },
   {
    "duration": 12,
    "start_time": "2021-11-12T17:23:19.000Z"
   },
   {
    "duration": 46,
    "start_time": "2021-11-12T17:23:19.015Z"
   },
   {
    "duration": 11,
    "start_time": "2021-11-12T17:23:19.063Z"
   },
   {
    "duration": 12,
    "start_time": "2021-11-12T17:23:19.077Z"
   },
   {
    "duration": 24,
    "start_time": "2021-11-12T17:23:19.091Z"
   },
   {
    "duration": 44,
    "start_time": "2021-11-12T17:23:19.118Z"
   },
   {
    "duration": 94,
    "start_time": "2021-11-12T17:23:19.165Z"
   },
   {
    "duration": 87,
    "start_time": "2021-11-12T17:23:19.261Z"
   },
   {
    "duration": 43,
    "start_time": "2021-11-12T17:23:19.358Z"
   },
   {
    "duration": 33,
    "start_time": "2021-11-12T17:23:19.404Z"
   },
   {
    "duration": 39,
    "start_time": "2021-11-12T17:23:19.459Z"
   },
   {
    "duration": 21,
    "start_time": "2021-11-12T17:23:19.500Z"
   },
   {
    "duration": 5,
    "start_time": "2021-11-12T17:23:19.524Z"
   },
   {
    "duration": 66,
    "start_time": "2021-11-12T17:23:19.531Z"
   },
   {
    "duration": 70,
    "start_time": "2021-11-12T17:23:19.599Z"
   },
   {
    "duration": 36,
    "start_time": "2021-11-12T17:23:19.671Z"
   },
   {
    "duration": 13,
    "start_time": "2021-11-12T17:23:19.709Z"
   },
   {
    "duration": 13315,
    "start_time": "2021-11-12T17:23:19.725Z"
   },
   {
    "duration": 33,
    "start_time": "2021-11-12T17:23:33.045Z"
   },
   {
    "duration": 16,
    "start_time": "2021-11-12T17:23:33.080Z"
   },
   {
    "duration": 10,
    "start_time": "2021-11-12T17:23:33.099Z"
   },
   {
    "duration": 8,
    "start_time": "2021-11-12T17:23:58.002Z"
   },
   {
    "duration": 8,
    "start_time": "2021-11-12T17:24:09.376Z"
   },
   {
    "duration": 8,
    "start_time": "2021-11-12T17:24:16.467Z"
   },
   {
    "duration": 132,
    "start_time": "2021-11-12T18:45:07.457Z"
   },
   {
    "duration": 6,
    "start_time": "2021-11-12T18:49:54.267Z"
   },
   {
    "duration": 19,
    "start_time": "2021-11-12T18:50:02.332Z"
   },
   {
    "duration": 415,
    "start_time": "2021-11-12T18:53:19.440Z"
   },
   {
    "duration": 6,
    "start_time": "2021-11-12T18:53:24.655Z"
   },
   {
    "duration": 18,
    "start_time": "2021-11-12T18:53:26.942Z"
   },
   {
    "duration": 767,
    "start_time": "2021-11-12T18:54:25.991Z"
   },
   {
    "duration": 3,
    "start_time": "2021-11-12T18:54:26.761Z"
   },
   {
    "duration": 1260,
    "start_time": "2021-11-12T18:54:26.767Z"
   },
   {
    "duration": 20,
    "start_time": "2021-11-12T18:54:28.030Z"
   },
   {
    "duration": 13,
    "start_time": "2021-11-12T18:54:28.053Z"
   },
   {
    "duration": 17,
    "start_time": "2021-11-12T18:54:28.068Z"
   },
   {
    "duration": 9,
    "start_time": "2021-11-12T18:54:28.088Z"
   },
   {
    "duration": 9,
    "start_time": "2021-11-12T18:54:28.101Z"
   },
   {
    "duration": 50,
    "start_time": "2021-11-12T18:54:28.114Z"
   },
   {
    "duration": 13,
    "start_time": "2021-11-12T18:54:28.166Z"
   },
   {
    "duration": 17,
    "start_time": "2021-11-12T18:54:28.181Z"
   },
   {
    "duration": 9,
    "start_time": "2021-11-12T18:54:28.200Z"
   },
   {
    "duration": 11,
    "start_time": "2021-11-12T18:54:28.211Z"
   },
   {
    "duration": 46,
    "start_time": "2021-11-12T18:54:28.224Z"
   },
   {
    "duration": 17,
    "start_time": "2021-11-12T18:54:28.272Z"
   },
   {
    "duration": 102,
    "start_time": "2021-11-12T18:54:28.291Z"
   },
   {
    "duration": 96,
    "start_time": "2021-11-12T18:54:28.395Z"
   },
   {
    "duration": 42,
    "start_time": "2021-11-12T18:54:28.493Z"
   },
   {
    "duration": 45,
    "start_time": "2021-11-12T18:54:28.537Z"
   },
   {
    "duration": 36,
    "start_time": "2021-11-12T18:54:28.584Z"
   },
   {
    "duration": 46,
    "start_time": "2021-11-12T18:54:28.623Z"
   },
   {
    "duration": 5,
    "start_time": "2021-11-12T18:54:28.672Z"
   },
   {
    "duration": 35,
    "start_time": "2021-11-12T18:54:28.681Z"
   },
   {
    "duration": 60,
    "start_time": "2021-11-12T18:54:28.719Z"
   },
   {
    "duration": 32,
    "start_time": "2021-11-12T18:54:28.782Z"
   },
   {
    "duration": 43,
    "start_time": "2021-11-12T18:54:28.817Z"
   },
   {
    "duration": 13525,
    "start_time": "2021-11-12T18:54:28.862Z"
   },
   {
    "duration": 28,
    "start_time": "2021-11-12T18:54:42.389Z"
   },
   {
    "duration": 20,
    "start_time": "2021-11-12T18:54:42.420Z"
   },
   {
    "duration": 127,
    "start_time": "2021-11-12T18:54:42.443Z"
   },
   {
    "duration": 6,
    "start_time": "2021-11-12T18:54:42.572Z"
   },
   {
    "duration": 21,
    "start_time": "2021-11-12T18:54:42.580Z"
   },
   {
    "duration": 138,
    "start_time": "2021-11-12T18:54:42.604Z"
   },
   {
    "duration": 5,
    "start_time": "2021-11-12T18:54:42.745Z"
   },
   {
    "duration": 25,
    "start_time": "2021-11-12T18:54:42.752Z"
   },
   {
    "duration": 18,
    "start_time": "2021-11-12T18:55:15.930Z"
   },
   {
    "duration": 403,
    "start_time": "2021-11-13T06:02:18.657Z"
   },
   {
    "duration": 777,
    "start_time": "2021-11-13T06:02:22.937Z"
   },
   {
    "duration": 3,
    "start_time": "2021-11-13T06:02:23.717Z"
   },
   {
    "duration": 2506,
    "start_time": "2021-11-13T06:02:23.723Z"
   },
   {
    "duration": 21,
    "start_time": "2021-11-13T06:02:26.232Z"
   },
   {
    "duration": 15,
    "start_time": "2021-11-13T06:02:26.256Z"
   },
   {
    "duration": 17,
    "start_time": "2021-11-13T06:02:26.273Z"
   },
   {
    "duration": 25,
    "start_time": "2021-11-13T06:02:26.292Z"
   },
   {
    "duration": 10,
    "start_time": "2021-11-13T06:02:26.322Z"
   },
   {
    "duration": 10,
    "start_time": "2021-11-13T06:02:26.361Z"
   },
   {
    "duration": 14,
    "start_time": "2021-11-13T06:02:26.374Z"
   },
   {
    "duration": 9,
    "start_time": "2021-11-13T06:02:26.390Z"
   },
   {
    "duration": 15,
    "start_time": "2021-11-13T06:02:26.402Z"
   },
   {
    "duration": 46,
    "start_time": "2021-11-13T06:02:26.420Z"
   },
   {
    "duration": 8,
    "start_time": "2021-11-13T06:02:26.469Z"
   },
   {
    "duration": 15,
    "start_time": "2021-11-13T06:02:26.480Z"
   },
   {
    "duration": 16,
    "start_time": "2021-11-13T06:02:26.498Z"
   },
   {
    "duration": 117,
    "start_time": "2021-11-13T06:02:26.517Z"
   },
   {
    "duration": 96,
    "start_time": "2021-11-13T06:02:26.637Z"
   },
   {
    "duration": 51,
    "start_time": "2021-11-13T06:02:26.736Z"
   },
   {
    "duration": 33,
    "start_time": "2021-11-13T06:02:26.789Z"
   },
   {
    "duration": 57,
    "start_time": "2021-11-13T06:02:26.825Z"
   },
   {
    "duration": 22,
    "start_time": "2021-11-13T06:02:26.884Z"
   },
   {
    "duration": 5,
    "start_time": "2021-11-13T06:02:26.911Z"
   },
   {
    "duration": 61,
    "start_time": "2021-11-13T06:02:26.919Z"
   },
   {
    "duration": 39,
    "start_time": "2021-11-13T06:02:26.983Z"
   },
   {
    "duration": 41,
    "start_time": "2021-11-13T06:02:27.025Z"
   },
   {
    "duration": 30,
    "start_time": "2021-11-13T06:02:27.069Z"
   },
   {
    "duration": 12520,
    "start_time": "2021-11-13T06:02:27.101Z"
   },
   {
    "duration": 45,
    "start_time": "2021-11-13T06:02:39.624Z"
   },
   {
    "duration": 8,
    "start_time": "2021-11-13T06:02:39.672Z"
   },
   {
    "duration": 136,
    "start_time": "2021-11-13T06:02:39.683Z"
   },
   {
    "duration": 5,
    "start_time": "2021-11-13T06:02:39.821Z"
   },
   {
    "duration": 32,
    "start_time": "2021-11-13T06:02:39.829Z"
   },
   {
    "duration": 134,
    "start_time": "2021-11-13T06:02:39.864Z"
   },
   {
    "duration": 5,
    "start_time": "2021-11-13T06:02:40.001Z"
   },
   {
    "duration": 22,
    "start_time": "2021-11-13T06:02:40.008Z"
   },
   {
    "duration": 36,
    "start_time": "2021-11-13T06:02:40.032Z"
   },
   {
    "duration": 10,
    "start_time": "2021-11-13T06:02:54.444Z"
   },
   {
    "duration": 426,
    "start_time": "2021-11-13T06:03:19.165Z"
   },
   {
    "duration": 5,
    "start_time": "2021-11-13T06:03:24.574Z"
   },
   {
    "duration": 6694,
    "start_time": "2021-11-13T06:05:21.720Z"
   },
   {
    "duration": 4,
    "start_time": "2021-11-13T06:05:35.516Z"
   },
   {
    "duration": 8,
    "start_time": "2021-11-13T06:05:35.523Z"
   },
   {
    "duration": 1314,
    "start_time": "2021-11-13T06:05:35.534Z"
   },
   {
    "duration": 12,
    "start_time": "2021-11-13T06:05:36.851Z"
   },
   {
    "duration": 18,
    "start_time": "2021-11-13T06:05:36.866Z"
   },
   {
    "duration": 28,
    "start_time": "2021-11-13T06:05:36.887Z"
   },
   {
    "duration": 16,
    "start_time": "2021-11-13T06:05:36.918Z"
   },
   {
    "duration": 27,
    "start_time": "2021-11-13T06:05:36.939Z"
   },
   {
    "duration": 11,
    "start_time": "2021-11-13T06:05:36.970Z"
   },
   {
    "duration": 28,
    "start_time": "2021-11-13T06:05:36.984Z"
   },
   {
    "duration": 30,
    "start_time": "2021-11-13T06:05:37.015Z"
   },
   {
    "duration": 20,
    "start_time": "2021-11-13T06:05:37.047Z"
   },
   {
    "duration": 16,
    "start_time": "2021-11-13T06:05:37.069Z"
   },
   {
    "duration": 25,
    "start_time": "2021-11-13T06:05:37.088Z"
   },
   {
    "duration": 16,
    "start_time": "2021-11-13T06:05:37.116Z"
   },
   {
    "duration": 89,
    "start_time": "2021-11-13T06:05:37.135Z"
   },
   {
    "duration": 76,
    "start_time": "2021-11-13T06:05:37.226Z"
   },
   {
    "duration": 60,
    "start_time": "2021-11-13T06:05:37.304Z"
   },
   {
    "duration": 36,
    "start_time": "2021-11-13T06:05:37.367Z"
   },
   {
    "duration": 78,
    "start_time": "2021-11-13T06:05:37.405Z"
   },
   {
    "duration": 21,
    "start_time": "2021-11-13T06:05:37.485Z"
   },
   {
    "duration": 4,
    "start_time": "2021-11-13T06:05:37.508Z"
   },
   {
    "duration": 50,
    "start_time": "2021-11-13T06:05:37.517Z"
   },
   {
    "duration": 39,
    "start_time": "2021-11-13T06:05:37.570Z"
   },
   {
    "duration": 35,
    "start_time": "2021-11-13T06:05:37.611Z"
   },
   {
    "duration": 12,
    "start_time": "2021-11-13T06:05:37.659Z"
   },
   {
    "duration": 13186,
    "start_time": "2021-11-13T06:05:37.673Z"
   },
   {
    "duration": 31,
    "start_time": "2021-11-13T06:05:50.862Z"
   },
   {
    "duration": 6,
    "start_time": "2021-11-13T06:05:50.896Z"
   },
   {
    "duration": 151,
    "start_time": "2021-11-13T06:05:50.904Z"
   },
   {
    "duration": 6,
    "start_time": "2021-11-13T06:05:51.059Z"
   },
   {
    "duration": 27,
    "start_time": "2021-11-13T06:05:51.067Z"
   },
   {
    "duration": 143,
    "start_time": "2021-11-13T06:05:51.096Z"
   },
   {
    "duration": 5,
    "start_time": "2021-11-13T06:05:51.242Z"
   },
   {
    "duration": 22,
    "start_time": "2021-11-13T06:05:51.260Z"
   },
   {
    "duration": 18,
    "start_time": "2021-11-13T06:05:51.284Z"
   },
   {
    "duration": 189,
    "start_time": "2021-11-13T06:59:35.329Z"
   },
   {
    "duration": 377,
    "start_time": "2021-11-13T06:59:46.278Z"
   },
   {
    "duration": 2199,
    "start_time": "2021-11-13T07:00:01.346Z"
   },
   {
    "duration": 399,
    "start_time": "2021-11-13T07:00:19.545Z"
   },
   {
    "duration": 29,
    "start_time": "2021-11-13T07:00:31.616Z"
   },
   {
    "duration": 66,
    "start_time": "2021-11-13T07:00:49.819Z"
   },
   {
    "duration": 63,
    "start_time": "2021-11-13T07:01:24.509Z"
   },
   {
    "duration": 96,
    "start_time": "2021-11-13T07:05:26.048Z"
   },
   {
    "duration": 64,
    "start_time": "2021-11-13T07:05:43.223Z"
   },
   {
    "duration": 21,
    "start_time": "2021-11-13T07:07:04.071Z"
   },
   {
    "duration": 22,
    "start_time": "2021-11-13T07:07:06.398Z"
   },
   {
    "duration": 24,
    "start_time": "2021-11-13T07:07:17.048Z"
   },
   {
    "duration": 19,
    "start_time": "2021-11-13T07:07:18.658Z"
   },
   {
    "duration": 7,
    "start_time": "2021-11-13T07:09:02.120Z"
   },
   {
    "duration": 18,
    "start_time": "2021-11-13T07:09:24.079Z"
   },
   {
    "duration": 8,
    "start_time": "2021-11-13T07:09:39.313Z"
   },
   {
    "duration": 8,
    "start_time": "2021-11-13T07:09:53.770Z"
   },
   {
    "duration": 7,
    "start_time": "2021-11-13T07:10:22.151Z"
   },
   {
    "duration": 7,
    "start_time": "2021-11-13T07:10:36.140Z"
   },
   {
    "duration": 8,
    "start_time": "2021-11-13T07:12:42.890Z"
   },
   {
    "duration": 279,
    "start_time": "2021-11-13T07:13:01.132Z"
   },
   {
    "duration": 276,
    "start_time": "2021-11-13T07:13:22.891Z"
   },
   {
    "duration": 278,
    "start_time": "2021-11-13T07:13:58.221Z"
   },
   {
    "duration": 281,
    "start_time": "2021-11-13T07:14:16.561Z"
   },
   {
    "duration": 369,
    "start_time": "2021-11-13T07:49:07.324Z"
   },
   {
    "duration": 594,
    "start_time": "2021-11-13T07:49:21.065Z"
   },
   {
    "duration": 3,
    "start_time": "2021-11-13T07:49:21.662Z"
   },
   {
    "duration": 1386,
    "start_time": "2021-11-13T07:49:21.669Z"
   },
   {
    "duration": 11,
    "start_time": "2021-11-13T07:49:23.058Z"
   },
   {
    "duration": 30,
    "start_time": "2021-11-13T07:49:23.071Z"
   },
   {
    "duration": 22,
    "start_time": "2021-11-13T07:49:23.103Z"
   },
   {
    "duration": 10,
    "start_time": "2021-11-13T07:49:23.127Z"
   },
   {
    "duration": 23,
    "start_time": "2021-11-13T07:49:23.141Z"
   },
   {
    "duration": 11,
    "start_time": "2021-11-13T07:49:23.167Z"
   },
   {
    "duration": 12,
    "start_time": "2021-11-13T07:49:23.181Z"
   },
   {
    "duration": 17,
    "start_time": "2021-11-13T07:49:23.196Z"
   },
   {
    "duration": 10,
    "start_time": "2021-11-13T07:49:23.215Z"
   },
   {
    "duration": 8,
    "start_time": "2021-11-13T07:49:23.260Z"
   },
   {
    "duration": 16,
    "start_time": "2021-11-13T07:49:23.270Z"
   },
   {
    "duration": 16,
    "start_time": "2021-11-13T07:49:23.289Z"
   },
   {
    "duration": 114,
    "start_time": "2021-11-13T07:49:23.307Z"
   },
   {
    "duration": 71,
    "start_time": "2021-11-13T07:49:23.423Z"
   },
   {
    "duration": 4,
    "start_time": "2021-11-13T07:49:23.497Z"
   },
   {
    "duration": 55,
    "start_time": "2021-11-13T07:49:23.504Z"
   },
   {
    "duration": 32,
    "start_time": "2021-11-13T07:49:23.561Z"
   },
   {
    "duration": 35,
    "start_time": "2021-11-13T07:49:23.595Z"
   },
   {
    "duration": 41,
    "start_time": "2021-11-13T07:49:23.632Z"
   },
   {
    "duration": 5,
    "start_time": "2021-11-13T07:49:23.678Z"
   },
   {
    "duration": 36,
    "start_time": "2021-11-13T07:49:23.687Z"
   },
   {
    "duration": 66,
    "start_time": "2021-11-13T07:49:23.725Z"
   },
   {
    "duration": 28,
    "start_time": "2021-11-13T07:49:23.794Z"
   },
   {
    "duration": 37,
    "start_time": "2021-11-13T07:49:23.824Z"
   },
   {
    "duration": 12479,
    "start_time": "2021-11-13T07:49:23.864Z"
   },
   {
    "duration": 33,
    "start_time": "2021-11-13T07:49:36.346Z"
   },
   {
    "duration": 15,
    "start_time": "2021-11-13T07:49:36.381Z"
   },
   {
    "duration": 130,
    "start_time": "2021-11-13T07:49:36.398Z"
   },
   {
    "duration": 6,
    "start_time": "2021-11-13T07:49:36.530Z"
   },
   {
    "duration": 27,
    "start_time": "2021-11-13T07:49:36.538Z"
   },
   {
    "duration": 10,
    "start_time": "2021-11-13T07:49:36.567Z"
   },
   {
    "duration": 129,
    "start_time": "2021-11-13T07:49:36.579Z"
   },
   {
    "duration": 6,
    "start_time": "2021-11-13T07:49:36.710Z"
   },
   {
    "duration": 29,
    "start_time": "2021-11-13T07:49:36.719Z"
   },
   {
    "duration": 33,
    "start_time": "2021-11-13T07:49:36.751Z"
   },
   {
    "duration": 7,
    "start_time": "2021-11-13T07:49:36.786Z"
   },
   {
    "duration": 27,
    "start_time": "2021-11-13T07:49:36.795Z"
   },
   {
    "duration": 266,
    "start_time": "2021-11-13T07:49:36.824Z"
   },
   {
    "duration": 83,
    "start_time": "2021-11-13T07:49:37.092Z"
   },
   {
    "duration": 62,
    "start_time": "2021-11-13T07:49:37.178Z"
   },
   {
    "duration": 18,
    "start_time": "2021-11-13T07:49:37.259Z"
   },
   {
    "duration": 31,
    "start_time": "2021-11-13T07:49:37.280Z"
   },
   {
    "duration": 857,
    "start_time": "2021-11-13T07:49:37.313Z"
   },
   {
    "duration": 694,
    "start_time": "2021-11-13T07:52:03.906Z"
   },
   {
    "duration": 29,
    "start_time": "2021-11-13T07:52:36.896Z"
   },
   {
    "duration": 10,
    "start_time": "2021-11-13T07:52:59.883Z"
   },
   {
    "duration": 10,
    "start_time": "2021-11-13T07:53:58.237Z"
   },
   {
    "duration": 10,
    "start_time": "2021-11-13T07:57:10.247Z"
   },
   {
    "duration": 17,
    "start_time": "2021-11-13T08:01:50.080Z"
   },
   {
    "duration": 16,
    "start_time": "2021-11-13T08:02:39.691Z"
   },
   {
    "duration": 11,
    "start_time": "2021-11-13T08:06:26.801Z"
   },
   {
    "duration": 123,
    "start_time": "2021-11-13T08:07:02.431Z"
   },
   {
    "duration": 29,
    "start_time": "2021-11-13T08:07:09.981Z"
   },
   {
    "duration": 11,
    "start_time": "2021-11-13T08:07:24.973Z"
   },
   {
    "duration": 10,
    "start_time": "2021-11-13T08:07:41.032Z"
   },
   {
    "duration": 9,
    "start_time": "2021-11-13T08:08:01.351Z"
   },
   {
    "duration": 8,
    "start_time": "2021-11-13T08:09:02.123Z"
   },
   {
    "duration": 8,
    "start_time": "2021-11-13T08:09:04.063Z"
   },
   {
    "duration": 130,
    "start_time": "2021-11-13T08:29:31.470Z"
   },
   {
    "duration": 7,
    "start_time": "2021-11-13T08:29:36.809Z"
   },
   {
    "duration": 385,
    "start_time": "2021-11-13T08:31:32.161Z"
   },
   {
    "duration": 10,
    "start_time": "2021-11-13T08:31:48.911Z"
   },
   {
    "duration": 6,
    "start_time": "2021-11-13T08:32:16.741Z"
   },
   {
    "duration": 15,
    "start_time": "2021-11-13T08:32:35.321Z"
   },
   {
    "duration": 14,
    "start_time": "2021-11-13T08:32:53.552Z"
   },
   {
    "duration": 8,
    "start_time": "2021-11-13T08:34:52.571Z"
   },
   {
    "duration": 4,
    "start_time": "2021-11-13T08:35:18.289Z"
   },
   {
    "duration": 9,
    "start_time": "2021-11-13T08:35:18.295Z"
   },
   {
    "duration": 2227,
    "start_time": "2021-11-13T08:35:18.307Z"
   },
   {
    "duration": 10,
    "start_time": "2021-11-13T08:35:20.537Z"
   },
   {
    "duration": 21,
    "start_time": "2021-11-13T08:35:20.549Z"
   },
   {
    "duration": 17,
    "start_time": "2021-11-13T08:35:20.572Z"
   },
   {
    "duration": 11,
    "start_time": "2021-11-13T08:35:20.591Z"
   },
   {
    "duration": 11,
    "start_time": "2021-11-13T08:35:20.604Z"
   },
   {
    "duration": 45,
    "start_time": "2021-11-13T08:35:20.618Z"
   },
   {
    "duration": 13,
    "start_time": "2021-11-13T08:35:20.666Z"
   },
   {
    "duration": 16,
    "start_time": "2021-11-13T08:35:20.681Z"
   },
   {
    "duration": 12,
    "start_time": "2021-11-13T08:35:20.700Z"
   },
   {
    "duration": 10,
    "start_time": "2021-11-13T08:35:20.714Z"
   },
   {
    "duration": 47,
    "start_time": "2021-11-13T08:35:20.726Z"
   },
   {
    "duration": 15,
    "start_time": "2021-11-13T08:35:20.775Z"
   },
   {
    "duration": 96,
    "start_time": "2021-11-13T08:35:20.793Z"
   },
   {
    "duration": 74,
    "start_time": "2021-11-13T08:35:20.891Z"
   },
   {
    "duration": 5,
    "start_time": "2021-11-13T08:35:20.967Z"
   },
   {
    "duration": 50,
    "start_time": "2021-11-13T08:35:20.974Z"
   },
   {
    "duration": 46,
    "start_time": "2021-11-13T08:35:21.026Z"
   },
   {
    "duration": 39,
    "start_time": "2021-11-13T08:35:21.074Z"
   },
   {
    "duration": 44,
    "start_time": "2021-11-13T08:35:21.115Z"
   },
   {
    "duration": 6,
    "start_time": "2021-11-13T08:35:21.162Z"
   },
   {
    "duration": 36,
    "start_time": "2021-11-13T08:35:21.171Z"
   },
   {
    "duration": 67,
    "start_time": "2021-11-13T08:35:21.209Z"
   },
   {
    "duration": 31,
    "start_time": "2021-11-13T08:35:21.279Z"
   },
   {
    "duration": 13,
    "start_time": "2021-11-13T08:35:21.317Z"
   },
   {
    "duration": 12575,
    "start_time": "2021-11-13T08:35:21.360Z"
   },
   {
    "duration": 40,
    "start_time": "2021-11-13T08:35:33.938Z"
   },
   {
    "duration": 6,
    "start_time": "2021-11-13T08:35:33.980Z"
   },
   {
    "duration": 144,
    "start_time": "2021-11-13T08:35:33.988Z"
   },
   {
    "duration": 6,
    "start_time": "2021-11-13T08:35:34.135Z"
   },
   {
    "duration": 36,
    "start_time": "2021-11-13T08:35:34.143Z"
   },
   {
    "duration": 15,
    "start_time": "2021-11-13T08:35:34.182Z"
   },
   {
    "duration": 117,
    "start_time": "2021-11-13T08:35:34.200Z"
   },
   {
    "duration": 8,
    "start_time": "2021-11-13T08:35:34.319Z"
   },
   {
    "duration": 34,
    "start_time": "2021-11-13T08:35:34.330Z"
   },
   {
    "duration": 23,
    "start_time": "2021-11-13T08:35:34.367Z"
   },
   {
    "duration": 9,
    "start_time": "2021-11-13T08:35:34.393Z"
   },
   {
    "duration": 9,
    "start_time": "2021-11-13T08:35:34.405Z"
   },
   {
    "duration": 319,
    "start_time": "2021-11-13T08:35:34.417Z"
   },
   {
    "duration": 75,
    "start_time": "2021-11-13T08:35:34.739Z"
   },
   {
    "duration": 81,
    "start_time": "2021-11-13T08:35:34.816Z"
   },
   {
    "duration": 18,
    "start_time": "2021-11-13T08:35:34.900Z"
   },
   {
    "duration": 39,
    "start_time": "2021-11-13T08:35:34.921Z"
   },
   {
    "duration": 20,
    "start_time": "2021-11-13T08:35:34.963Z"
   },
   {
    "duration": 19,
    "start_time": "2021-11-13T08:35:34.986Z"
   },
   {
    "duration": 11,
    "start_time": "2021-11-13T08:35:35.007Z"
   },
   {
    "duration": 43,
    "start_time": "2021-11-13T08:35:35.020Z"
   },
   {
    "duration": 9,
    "start_time": "2021-11-13T08:35:35.065Z"
   },
   {
    "duration": 14,
    "start_time": "2021-11-13T08:35:35.077Z"
   },
   {
    "duration": 15,
    "start_time": "2021-11-13T08:35:35.093Z"
   },
   {
    "duration": 10,
    "start_time": "2021-11-13T08:35:35.110Z"
   },
   {
    "duration": 38,
    "start_time": "2021-11-13T08:35:35.123Z"
   },
   {
    "duration": 13,
    "start_time": "2021-11-13T08:35:35.163Z"
   },
   {
    "duration": 419,
    "start_time": "2021-11-13T10:16:20.582Z"
   },
   {
    "duration": 377,
    "start_time": "2021-11-13T10:16:36.012Z"
   },
   {
    "duration": 20,
    "start_time": "2021-11-13T11:27:47.994Z"
   },
   {
    "duration": 23,
    "start_time": "2021-11-13T11:27:56.573Z"
   },
   {
    "duration": 1014,
    "start_time": "2021-11-14T12:58:02.823Z"
   },
   {
    "duration": 2,
    "start_time": "2021-11-14T12:58:03.839Z"
   },
   {
    "duration": 1240,
    "start_time": "2021-11-14T12:58:03.844Z"
   },
   {
    "duration": 13,
    "start_time": "2021-11-14T12:58:05.086Z"
   },
   {
    "duration": 14,
    "start_time": "2021-11-14T12:58:05.101Z"
   },
   {
    "duration": 13,
    "start_time": "2021-11-14T12:58:05.116Z"
   },
   {
    "duration": 7,
    "start_time": "2021-11-14T12:58:05.130Z"
   },
   {
    "duration": 6,
    "start_time": "2021-11-14T12:58:05.140Z"
   },
   {
    "duration": 9,
    "start_time": "2021-11-14T12:58:05.148Z"
   },
   {
    "duration": 12,
    "start_time": "2021-11-14T12:58:05.158Z"
   },
   {
    "duration": 11,
    "start_time": "2021-11-14T12:58:05.172Z"
   },
   {
    "duration": 26,
    "start_time": "2021-11-14T12:58:05.185Z"
   },
   {
    "duration": 9,
    "start_time": "2021-11-14T12:58:05.212Z"
   },
   {
    "duration": 14,
    "start_time": "2021-11-14T12:58:05.222Z"
   },
   {
    "duration": 10,
    "start_time": "2021-11-14T12:58:05.238Z"
   },
   {
    "duration": 69,
    "start_time": "2021-11-14T12:58:05.250Z"
   },
   {
    "duration": 43,
    "start_time": "2021-11-14T12:58:05.321Z"
   },
   {
    "duration": 3,
    "start_time": "2021-11-14T12:58:05.366Z"
   },
   {
    "duration": 43,
    "start_time": "2021-11-14T12:58:05.370Z"
   },
   {
    "duration": 22,
    "start_time": "2021-11-14T12:58:05.414Z"
   },
   {
    "duration": 25,
    "start_time": "2021-11-14T12:58:05.437Z"
   },
   {
    "duration": 13,
    "start_time": "2021-11-14T12:58:05.463Z"
   },
   {
    "duration": 27,
    "start_time": "2021-11-14T12:58:05.480Z"
   },
   {
    "duration": 21,
    "start_time": "2021-11-14T12:58:05.509Z"
   },
   {
    "duration": 26,
    "start_time": "2021-11-14T12:58:05.531Z"
   },
   {
    "duration": 19,
    "start_time": "2021-11-14T12:58:05.559Z"
   },
   {
    "duration": 27,
    "start_time": "2021-11-14T12:58:05.579Z"
   },
   {
    "duration": 6678,
    "start_time": "2021-11-14T12:58:05.608Z"
   },
   {
    "duration": 24,
    "start_time": "2021-11-14T12:58:12.287Z"
   },
   {
    "duration": 4,
    "start_time": "2021-11-14T12:58:12.313Z"
   },
   {
    "duration": 67,
    "start_time": "2021-11-14T12:58:12.319Z"
   },
   {
    "duration": 21,
    "start_time": "2021-11-14T12:58:12.387Z"
   },
   {
    "duration": 16,
    "start_time": "2021-11-14T12:58:12.410Z"
   },
   {
    "duration": 7,
    "start_time": "2021-11-14T12:58:12.427Z"
   },
   {
    "duration": 85,
    "start_time": "2021-11-14T12:58:12.435Z"
   },
   {
    "duration": 4,
    "start_time": "2021-11-14T12:58:12.522Z"
   },
   {
    "duration": 14,
    "start_time": "2021-11-14T12:58:12.527Z"
   },
   {
    "duration": 13,
    "start_time": "2021-11-14T12:58:12.542Z"
   },
   {
    "duration": 10,
    "start_time": "2021-11-14T12:58:12.556Z"
   },
   {
    "duration": 8,
    "start_time": "2021-11-14T12:58:12.568Z"
   },
   {
    "duration": 382,
    "start_time": "2021-11-14T12:58:12.577Z"
   },
   {
    "duration": 12,
    "start_time": "2021-11-14T12:58:12.961Z"
   },
   {
    "duration": 12,
    "start_time": "2021-11-14T12:58:12.974Z"
   },
   {
    "duration": 26,
    "start_time": "2021-11-14T12:58:12.988Z"
   },
   {
    "duration": 8,
    "start_time": "2021-11-14T12:58:13.016Z"
   },
   {
    "duration": 12,
    "start_time": "2021-11-14T12:58:13.026Z"
   },
   {
    "duration": 10,
    "start_time": "2021-11-14T12:58:13.039Z"
   },
   {
    "duration": 6,
    "start_time": "2021-11-14T12:58:13.051Z"
   },
   {
    "duration": 10,
    "start_time": "2021-11-14T12:58:13.059Z"
   },
   {
    "duration": 36,
    "start_time": "2021-11-14T12:58:13.071Z"
   },
   {
    "duration": 8,
    "start_time": "2021-11-14T12:58:13.109Z"
   },
   {
    "duration": 7,
    "start_time": "2021-11-14T12:58:13.118Z"
   },
   {
    "duration": 9,
    "start_time": "2021-11-14T12:58:13.127Z"
   },
   {
    "duration": 7,
    "start_time": "2021-11-14T12:58:13.138Z"
   },
   {
    "duration": 7,
    "start_time": "2021-11-14T12:58:13.146Z"
   },
   {
    "duration": 429,
    "start_time": "2021-11-14T14:21:11.965Z"
   },
   {
    "duration": 3,
    "start_time": "2021-11-14T14:22:18.787Z"
   },
   {
    "duration": 373,
    "start_time": "2021-11-14T14:22:27.123Z"
   },
   {
    "duration": 1043,
    "start_time": "2021-11-14T14:22:43.438Z"
   },
   {
    "duration": 2,
    "start_time": "2021-11-14T14:22:44.483Z"
   },
   {
    "duration": 1130,
    "start_time": "2021-11-14T14:22:44.487Z"
   },
   {
    "duration": 12,
    "start_time": "2021-11-14T14:22:45.619Z"
   },
   {
    "duration": 10,
    "start_time": "2021-11-14T14:22:45.633Z"
   },
   {
    "duration": 12,
    "start_time": "2021-11-14T14:22:45.644Z"
   },
   {
    "duration": 11,
    "start_time": "2021-11-14T14:22:45.657Z"
   },
   {
    "duration": 6,
    "start_time": "2021-11-14T14:22:45.670Z"
   },
   {
    "duration": 34,
    "start_time": "2021-11-14T14:22:45.678Z"
   },
   {
    "duration": 9,
    "start_time": "2021-11-14T14:22:45.714Z"
   },
   {
    "duration": 12,
    "start_time": "2021-11-14T14:22:45.725Z"
   },
   {
    "duration": 9,
    "start_time": "2021-11-14T14:22:45.739Z"
   },
   {
    "duration": 8,
    "start_time": "2021-11-14T14:22:45.750Z"
   },
   {
    "duration": 12,
    "start_time": "2021-11-14T14:22:45.759Z"
   },
   {
    "duration": 9,
    "start_time": "2021-11-14T14:22:45.772Z"
   },
   {
    "duration": 76,
    "start_time": "2021-11-14T14:22:45.783Z"
   },
   {
    "duration": 51,
    "start_time": "2021-11-14T14:22:45.861Z"
   },
   {
    "duration": 4,
    "start_time": "2021-11-14T14:22:45.913Z"
   },
   {
    "duration": 38,
    "start_time": "2021-11-14T14:22:45.918Z"
   },
   {
    "duration": 25,
    "start_time": "2021-11-14T14:22:45.957Z"
   },
   {
    "duration": 37,
    "start_time": "2021-11-14T14:22:45.983Z"
   },
   {
    "duration": 15,
    "start_time": "2021-11-14T14:22:46.022Z"
   },
   {
    "duration": 4,
    "start_time": "2021-11-14T14:22:46.040Z"
   },
   {
    "duration": 31,
    "start_time": "2021-11-14T14:22:46.046Z"
   },
   {
    "duration": 38,
    "start_time": "2021-11-14T14:22:46.079Z"
   },
   {
    "duration": 24,
    "start_time": "2021-11-14T14:22:46.119Z"
   },
   {
    "duration": 10,
    "start_time": "2021-11-14T14:22:46.145Z"
   },
   {
    "duration": 6649,
    "start_time": "2021-11-14T14:22:46.157Z"
   },
   {
    "duration": 17,
    "start_time": "2021-11-14T14:22:52.808Z"
   },
   {
    "duration": 3,
    "start_time": "2021-11-14T14:22:52.827Z"
   },
   {
    "duration": 94,
    "start_time": "2021-11-14T14:22:52.832Z"
   },
   {
    "duration": 4,
    "start_time": "2021-11-14T14:22:52.928Z"
   },
   {
    "duration": 12,
    "start_time": "2021-11-14T14:22:52.934Z"
   },
   {
    "duration": 8,
    "start_time": "2021-11-14T14:22:52.948Z"
   },
   {
    "duration": 85,
    "start_time": "2021-11-14T14:22:52.957Z"
   },
   {
    "duration": 4,
    "start_time": "2021-11-14T14:22:53.043Z"
   },
   {
    "duration": 15,
    "start_time": "2021-11-14T14:22:53.048Z"
   },
   {
    "duration": 13,
    "start_time": "2021-11-14T14:22:53.064Z"
   },
   {
    "duration": 6,
    "start_time": "2021-11-14T14:22:53.079Z"
   },
   {
    "duration": 21,
    "start_time": "2021-11-14T14:22:53.086Z"
   },
   {
    "duration": 167,
    "start_time": "2021-11-14T14:22:53.109Z"
   },
   {
    "duration": 13,
    "start_time": "2021-11-14T14:22:53.277Z"
   },
   {
    "duration": 23,
    "start_time": "2021-11-14T14:22:53.291Z"
   },
   {
    "duration": 12,
    "start_time": "2021-11-14T14:22:53.316Z"
   },
   {
    "duration": 10,
    "start_time": "2021-11-14T14:22:53.329Z"
   },
   {
    "duration": 13,
    "start_time": "2021-11-14T14:22:53.340Z"
   },
   {
    "duration": 9,
    "start_time": "2021-11-14T14:22:53.355Z"
   },
   {
    "duration": 7,
    "start_time": "2021-11-14T14:22:53.366Z"
   },
   {
    "duration": 36,
    "start_time": "2021-11-14T14:22:53.375Z"
   },
   {
    "duration": 439,
    "start_time": "2021-11-14T14:22:53.412Z"
   },
   {
    "duration": 4205,
    "start_time": "2021-11-14T14:22:49.648Z"
   },
   {
    "duration": 156,
    "start_time": "2021-11-14T14:22:55.111Z"
   },
   {
    "duration": 171,
    "start_time": "2021-11-14T14:23:53.238Z"
   },
   {
    "duration": 203,
    "start_time": "2021-11-14T14:24:09.521Z"
   },
   {
    "duration": 197,
    "start_time": "2021-11-14T14:24:35.142Z"
   },
   {
    "duration": 546,
    "start_time": "2021-11-14T14:25:08.382Z"
   },
   {
    "duration": 416,
    "start_time": "2021-11-14T14:26:29.263Z"
   },
   {
    "duration": 548,
    "start_time": "2021-11-14T14:28:08.133Z"
   },
   {
    "duration": 578,
    "start_time": "2021-11-14T14:28:23.563Z"
   },
   {
    "duration": 611,
    "start_time": "2021-11-14T14:28:27.243Z"
   },
   {
    "duration": 631,
    "start_time": "2021-11-14T14:28:41.563Z"
   },
   {
    "duration": 213,
    "start_time": "2021-11-14T14:29:38.393Z"
   },
   {
    "duration": 616,
    "start_time": "2021-11-14T14:30:01.764Z"
   },
   {
    "duration": 568,
    "start_time": "2021-11-14T14:30:04.895Z"
   },
   {
    "duration": 207,
    "start_time": "2021-11-14T14:32:11.266Z"
   },
   {
    "duration": 209,
    "start_time": "2021-11-14T14:32:25.515Z"
   },
   {
    "duration": 484,
    "start_time": "2021-11-14T14:34:05.689Z"
   },
   {
    "duration": 539,
    "start_time": "2021-11-14T14:35:36.169Z"
   },
   {
    "duration": 150,
    "start_time": "2021-11-14T14:35:45.377Z"
   },
   {
    "duration": 127,
    "start_time": "2021-11-14T14:35:58.916Z"
   },
   {
    "duration": 6,
    "start_time": "2021-11-14T14:37:05.407Z"
   },
   {
    "duration": 127,
    "start_time": "2021-11-14T14:49:42.333Z"
   },
   {
    "duration": 7,
    "start_time": "2021-11-14T15:00:20.987Z"
   },
   {
    "duration": 85,
    "start_time": "2021-11-14T15:00:26.226Z"
   },
   {
    "duration": 9,
    "start_time": "2021-11-14T15:00:31.406Z"
   },
   {
    "duration": 352,
    "start_time": "2021-11-14T15:01:30.946Z"
   },
   {
    "duration": 6,
    "start_time": "2021-11-14T15:01:35.687Z"
   },
   {
    "duration": 349,
    "start_time": "2021-11-14T15:02:05.147Z"
   },
   {
    "duration": 359,
    "start_time": "2021-11-14T15:02:24.697Z"
   },
   {
    "duration": 9,
    "start_time": "2021-11-14T15:02:36.617Z"
   },
   {
    "duration": 8,
    "start_time": "2021-11-14T15:02:42.787Z"
   },
   {
    "duration": 4,
    "start_time": "2021-11-14T15:06:14.651Z"
   },
   {
    "duration": 157,
    "start_time": "2021-11-14T15:07:08.160Z"
   },
   {
    "duration": 180,
    "start_time": "2021-11-14T15:08:38.610Z"
   },
   {
    "duration": 192,
    "start_time": "2021-11-14T15:09:12.160Z"
   },
   {
    "duration": 178,
    "start_time": "2021-11-14T15:09:28.723Z"
   },
   {
    "duration": 214,
    "start_time": "2021-11-14T15:09:51.306Z"
   },
   {
    "duration": 239,
    "start_time": "2021-11-14T15:10:10.302Z"
   },
   {
    "duration": 197,
    "start_time": "2021-11-14T15:10:31.285Z"
   },
   {
    "duration": 247,
    "start_time": "2021-11-14T15:10:53.761Z"
   },
   {
    "duration": 263,
    "start_time": "2021-11-14T15:10:58.750Z"
   },
   {
    "duration": 226,
    "start_time": "2021-11-14T15:11:09.687Z"
   },
   {
    "duration": 209,
    "start_time": "2021-11-14T15:11:14.375Z"
   },
   {
    "duration": 287,
    "start_time": "2021-11-14T15:11:22.351Z"
   },
   {
    "duration": 273,
    "start_time": "2021-11-14T15:11:25.911Z"
   },
   {
    "duration": 204,
    "start_time": "2021-11-14T15:14:23.445Z"
   },
   {
    "duration": 610,
    "start_time": "2021-11-14T16:06:19.566Z"
   },
   {
    "duration": 222,
    "start_time": "2021-11-14T16:07:49.992Z"
   },
   {
    "duration": 199,
    "start_time": "2021-11-14T16:08:54.286Z"
   },
   {
    "duration": 205,
    "start_time": "2021-11-14T16:09:05.525Z"
   },
   {
    "duration": 218,
    "start_time": "2021-11-14T16:09:44.977Z"
   },
   {
    "duration": 146,
    "start_time": "2021-11-14T16:11:57.465Z"
   },
   {
    "duration": 9,
    "start_time": "2021-11-14T16:12:03.606Z"
   },
   {
    "duration": 396,
    "start_time": "2021-11-14T16:17:46.783Z"
   },
   {
    "duration": 37,
    "start_time": "2021-11-14T16:17:54.037Z"
   },
   {
    "duration": 36,
    "start_time": "2021-11-14T16:18:13.448Z"
   },
   {
    "duration": 37,
    "start_time": "2021-11-14T16:18:17.942Z"
   },
   {
    "duration": 13,
    "start_time": "2021-11-14T16:24:30.381Z"
   },
   {
    "duration": 140,
    "start_time": "2021-11-14T16:25:09.045Z"
   },
   {
    "duration": 173,
    "start_time": "2021-11-14T16:27:53.852Z"
   },
   {
    "duration": 180,
    "start_time": "2021-11-14T16:28:04.332Z"
   },
   {
    "duration": 249,
    "start_time": "2021-11-14T16:29:48.435Z"
   },
   {
    "duration": 254,
    "start_time": "2021-11-14T16:30:16.614Z"
   },
   {
    "duration": 463,
    "start_time": "2021-11-14T16:30:29.943Z"
   },
   {
    "duration": 657,
    "start_time": "2021-11-14T16:30:35.883Z"
   },
   {
    "duration": 281,
    "start_time": "2021-11-14T16:30:39.793Z"
   },
   {
    "duration": 295,
    "start_time": "2021-11-14T16:31:43.855Z"
   },
   {
    "duration": 298,
    "start_time": "2021-11-14T16:32:10.095Z"
   },
   {
    "duration": 6,
    "start_time": "2021-11-14T16:32:27.274Z"
   },
   {
    "duration": 10,
    "start_time": "2021-11-14T16:32:36.150Z"
   },
   {
    "duration": 1067,
    "start_time": "2021-11-14T16:33:06.904Z"
   },
   {
    "duration": 3,
    "start_time": "2021-11-14T16:33:07.973Z"
   },
   {
    "duration": 2871,
    "start_time": "2021-11-14T16:33:07.979Z"
   },
   {
    "duration": 10,
    "start_time": "2021-11-14T16:33:10.851Z"
   },
   {
    "duration": 13,
    "start_time": "2021-11-14T16:33:10.863Z"
   },
   {
    "duration": 11,
    "start_time": "2021-11-14T16:33:10.877Z"
   },
   {
    "duration": 7,
    "start_time": "2021-11-14T16:33:10.891Z"
   },
   {
    "duration": 7,
    "start_time": "2021-11-14T16:33:10.900Z"
   },
   {
    "duration": 43,
    "start_time": "2021-11-14T16:33:10.908Z"
   },
   {
    "duration": 8,
    "start_time": "2021-11-14T16:33:10.952Z"
   },
   {
    "duration": 9,
    "start_time": "2021-11-14T16:33:10.962Z"
   },
   {
    "duration": 11,
    "start_time": "2021-11-14T16:33:10.973Z"
   },
   {
    "duration": 24,
    "start_time": "2021-11-14T16:33:10.985Z"
   },
   {
    "duration": 8,
    "start_time": "2021-11-14T16:33:11.010Z"
   },
   {
    "duration": 17,
    "start_time": "2021-11-14T16:33:11.020Z"
   },
   {
    "duration": 14,
    "start_time": "2021-11-14T16:33:11.039Z"
   },
   {
    "duration": 108,
    "start_time": "2021-11-14T16:33:11.055Z"
   },
   {
    "duration": 55,
    "start_time": "2021-11-14T16:33:11.165Z"
   },
   {
    "duration": 4,
    "start_time": "2021-11-14T16:33:11.223Z"
   },
   {
    "duration": 41,
    "start_time": "2021-11-14T16:33:11.229Z"
   },
   {
    "duration": 45,
    "start_time": "2021-11-14T16:33:11.272Z"
   },
   {
    "duration": 26,
    "start_time": "2021-11-14T16:33:11.320Z"
   },
   {
    "duration": 13,
    "start_time": "2021-11-14T16:33:11.349Z"
   },
   {
    "duration": 3,
    "start_time": "2021-11-14T16:33:11.364Z"
   },
   {
    "duration": 45,
    "start_time": "2021-11-14T16:33:11.369Z"
   },
   {
    "duration": 28,
    "start_time": "2021-11-14T16:33:11.416Z"
   },
   {
    "duration": 20,
    "start_time": "2021-11-14T16:33:11.445Z"
   },
   {
    "duration": 8,
    "start_time": "2021-11-14T16:33:11.466Z"
   },
   {
    "duration": 6772,
    "start_time": "2021-11-14T16:33:11.476Z"
   },
   {
    "duration": 4,
    "start_time": "2021-11-14T16:33:18.250Z"
   },
   {
    "duration": 293,
    "start_time": "2021-11-14T16:33:18.256Z"
   },
   {
    "duration": 9,
    "start_time": "2021-11-14T16:33:18.550Z"
   },
   {
    "duration": 84,
    "start_time": "2021-11-14T16:33:18.560Z"
   },
   {
    "duration": 3,
    "start_time": "2021-11-14T16:33:18.646Z"
   },
   {
    "duration": 18,
    "start_time": "2021-11-14T16:33:18.651Z"
   },
   {
    "duration": 6,
    "start_time": "2021-11-14T16:33:18.670Z"
   },
   {
    "duration": 81,
    "start_time": "2021-11-14T16:33:18.678Z"
   },
   {
    "duration": 4,
    "start_time": "2021-11-14T16:33:18.760Z"
   },
   {
    "duration": 20,
    "start_time": "2021-11-14T16:33:18.766Z"
   },
   {
    "duration": 13,
    "start_time": "2021-11-14T16:33:18.788Z"
   },
   {
    "duration": 7,
    "start_time": "2021-11-14T16:33:18.802Z"
   },
   {
    "duration": 6,
    "start_time": "2021-11-14T16:33:18.810Z"
   },
   {
    "duration": 227,
    "start_time": "2021-11-14T16:33:18.817Z"
   },
   {
    "duration": 8,
    "start_time": "2021-11-14T16:33:19.045Z"
   },
   {
    "duration": 15,
    "start_time": "2021-11-14T16:33:19.054Z"
   },
   {
    "duration": 55,
    "start_time": "2021-11-14T16:33:19.070Z"
   },
   {
    "duration": 12,
    "start_time": "2021-11-14T16:33:19.126Z"
   },
   {
    "duration": 13,
    "start_time": "2021-11-14T16:33:19.139Z"
   },
   {
    "duration": 153,
    "start_time": "2021-11-14T16:33:19.153Z"
   },
   {
    "duration": 11,
    "start_time": "2021-11-14T16:33:19.308Z"
   },
   {
    "duration": 13,
    "start_time": "2021-11-14T16:33:19.320Z"
   },
   {
    "duration": 12,
    "start_time": "2021-11-14T16:33:19.335Z"
   },
   {
    "duration": 10,
    "start_time": "2021-11-14T16:33:19.349Z"
   },
   {
    "duration": 122,
    "start_time": "2021-11-14T16:33:19.360Z"
   },
   {
    "duration": 4361,
    "start_time": "2021-11-14T16:33:15.124Z"
   },
   {
    "duration": 4349,
    "start_time": "2021-11-14T16:33:15.137Z"
   },
   {
    "duration": 4346,
    "start_time": "2021-11-14T16:33:15.141Z"
   },
   {
    "duration": 8,
    "start_time": "2021-11-14T16:33:53.710Z"
   },
   {
    "duration": 6,
    "start_time": "2021-11-14T16:34:12.250Z"
   },
   {
    "duration": 430,
    "start_time": "2021-11-14T16:34:56.560Z"
   },
   {
    "duration": 7062,
    "start_time": "2021-11-14T16:35:20.831Z"
   },
   {
    "duration": 3,
    "start_time": "2021-11-14T16:35:43.962Z"
   },
   {
    "duration": 6,
    "start_time": "2021-11-14T16:35:43.967Z"
   },
   {
    "duration": 865,
    "start_time": "2021-11-14T16:35:43.975Z"
   },
   {
    "duration": 7,
    "start_time": "2021-11-14T16:35:44.842Z"
   },
   {
    "duration": 13,
    "start_time": "2021-11-14T16:35:44.850Z"
   },
   {
    "duration": 11,
    "start_time": "2021-11-14T16:35:44.865Z"
   },
   {
    "duration": 9,
    "start_time": "2021-11-14T16:35:44.878Z"
   },
   {
    "duration": 8,
    "start_time": "2021-11-14T16:35:44.889Z"
   },
   {
    "duration": 45,
    "start_time": "2021-11-14T16:35:44.899Z"
   },
   {
    "duration": 8,
    "start_time": "2021-11-14T16:35:44.946Z"
   },
   {
    "duration": 9,
    "start_time": "2021-11-14T16:35:44.956Z"
   },
   {
    "duration": 13,
    "start_time": "2021-11-14T16:35:44.967Z"
   },
   {
    "duration": 24,
    "start_time": "2021-11-14T16:35:44.982Z"
   },
   {
    "duration": 6,
    "start_time": "2021-11-14T16:35:45.008Z"
   },
   {
    "duration": 29,
    "start_time": "2021-11-14T16:35:45.017Z"
   },
   {
    "duration": 15,
    "start_time": "2021-11-14T16:35:45.048Z"
   },
   {
    "duration": 13,
    "start_time": "2021-11-14T16:35:45.065Z"
   },
   {
    "duration": 73,
    "start_time": "2021-11-14T16:35:45.080Z"
   },
   {
    "duration": 54,
    "start_time": "2021-11-14T16:35:45.155Z"
   },
   {
    "duration": 4,
    "start_time": "2021-11-14T16:35:45.211Z"
   },
   {
    "duration": 31,
    "start_time": "2021-11-14T16:35:45.217Z"
   },
   {
    "duration": 24,
    "start_time": "2021-11-14T16:35:45.250Z"
   },
   {
    "duration": 53,
    "start_time": "2021-11-14T16:35:45.275Z"
   },
   {
    "duration": 13,
    "start_time": "2021-11-14T16:35:45.330Z"
   },
   {
    "duration": 3,
    "start_time": "2021-11-14T16:35:45.345Z"
   },
   {
    "duration": 25,
    "start_time": "2021-11-14T16:35:45.349Z"
   },
   {
    "duration": 43,
    "start_time": "2021-11-14T16:35:45.378Z"
   },
   {
    "duration": 21,
    "start_time": "2021-11-14T16:35:45.423Z"
   },
   {
    "duration": 9,
    "start_time": "2021-11-14T16:35:45.446Z"
   },
   {
    "duration": 7450,
    "start_time": "2021-11-14T16:35:45.456Z"
   },
   {
    "duration": 4,
    "start_time": "2021-11-14T16:35:52.908Z"
   },
   {
    "duration": 308,
    "start_time": "2021-11-14T16:35:52.914Z"
   },
   {
    "duration": 6,
    "start_time": "2021-11-14T16:35:53.223Z"
   },
   {
    "duration": 92,
    "start_time": "2021-11-14T16:35:53.231Z"
   },
   {
    "duration": 3,
    "start_time": "2021-11-14T16:35:53.325Z"
   },
   {
    "duration": 46,
    "start_time": "2021-11-14T16:35:53.330Z"
   },
   {
    "duration": 30,
    "start_time": "2021-11-14T16:35:53.378Z"
   },
   {
    "duration": 90,
    "start_time": "2021-11-14T16:35:53.410Z"
   },
   {
    "duration": 6,
    "start_time": "2021-11-14T16:35:53.501Z"
   },
   {
    "duration": 35,
    "start_time": "2021-11-14T16:35:53.509Z"
   },
   {
    "duration": 31,
    "start_time": "2021-11-14T16:35:53.546Z"
   },
   {
    "duration": 21,
    "start_time": "2021-11-14T16:35:53.579Z"
   },
   {
    "duration": 24,
    "start_time": "2021-11-14T16:35:53.601Z"
   },
   {
    "duration": 216,
    "start_time": "2021-11-14T16:35:53.626Z"
   },
   {
    "duration": 7,
    "start_time": "2021-11-14T16:35:53.844Z"
   },
   {
    "duration": 32,
    "start_time": "2021-11-14T16:35:53.853Z"
   },
   {
    "duration": 46,
    "start_time": "2021-11-14T16:35:53.886Z"
   },
   {
    "duration": 13,
    "start_time": "2021-11-14T16:35:53.934Z"
   },
   {
    "duration": 34,
    "start_time": "2021-11-14T16:35:53.949Z"
   },
   {
    "duration": 150,
    "start_time": "2021-11-14T16:35:53.985Z"
   },
   {
    "duration": 13,
    "start_time": "2021-11-14T16:35:54.136Z"
   },
   {
    "duration": 28,
    "start_time": "2021-11-14T16:35:54.151Z"
   },
   {
    "duration": 32,
    "start_time": "2021-11-14T16:35:54.181Z"
   },
   {
    "duration": 25,
    "start_time": "2021-11-14T16:35:54.214Z"
   },
   {
    "duration": 320,
    "start_time": "2021-11-14T16:35:54.240Z"
   },
   {
    "duration": 4596,
    "start_time": "2021-11-14T16:35:49.966Z"
   },
   {
    "duration": 4591,
    "start_time": "2021-11-14T16:35:49.972Z"
   },
   {
    "duration": 4588,
    "start_time": "2021-11-14T16:35:49.976Z"
   },
   {
    "duration": 5,
    "start_time": "2021-11-14T16:38:15.722Z"
   },
   {
    "duration": 6,
    "start_time": "2021-11-14T16:38:23.923Z"
   },
   {
    "duration": 6,
    "start_time": "2021-11-14T16:38:31.763Z"
   },
   {
    "duration": 7,
    "start_time": "2021-11-14T16:38:44.272Z"
   },
   {
    "duration": 464,
    "start_time": "2021-11-14T16:38:54.513Z"
   },
   {
    "duration": 7,
    "start_time": "2021-11-14T16:39:08.462Z"
   },
   {
    "duration": 8,
    "start_time": "2021-11-14T16:39:17.913Z"
   },
   {
    "duration": 5,
    "start_time": "2021-11-14T16:40:07.393Z"
   },
   {
    "duration": 376,
    "start_time": "2021-11-14T16:40:12.074Z"
   },
   {
    "duration": 8,
    "start_time": "2021-11-14T16:40:14.254Z"
   },
   {
    "duration": 8,
    "start_time": "2021-11-14T16:41:23.723Z"
   },
   {
    "duration": 361,
    "start_time": "2021-11-14T16:42:25.722Z"
   },
   {
    "duration": 20,
    "start_time": "2021-11-14T16:42:47.635Z"
   },
   {
    "duration": 31,
    "start_time": "2021-11-14T16:43:18.368Z"
   },
   {
    "duration": 9,
    "start_time": "2021-11-14T16:44:25.675Z"
   },
   {
    "duration": 9,
    "start_time": "2021-11-14T16:44:41.115Z"
   },
   {
    "duration": 10,
    "start_time": "2021-11-14T16:45:20.685Z"
   },
   {
    "duration": 10,
    "start_time": "2021-11-14T16:45:39.556Z"
   },
   {
    "duration": 4552,
    "start_time": "2021-11-14T16:47:23.282Z"
   },
   {
    "duration": 4538,
    "start_time": "2021-11-14T16:47:23.297Z"
   },
   {
    "duration": 4525,
    "start_time": "2021-11-14T16:47:23.311Z"
   },
   {
    "duration": 4521,
    "start_time": "2021-11-14T16:47:23.316Z"
   },
   {
    "duration": 4517,
    "start_time": "2021-11-14T16:47:23.321Z"
   },
   {
    "duration": 4512,
    "start_time": "2021-11-14T16:47:23.327Z"
   },
   {
    "duration": 4508,
    "start_time": "2021-11-14T16:47:23.331Z"
   },
   {
    "duration": 4506,
    "start_time": "2021-11-14T16:47:23.335Z"
   },
   {
    "duration": 4503,
    "start_time": "2021-11-14T16:47:23.339Z"
   },
   {
    "duration": 4499,
    "start_time": "2021-11-14T16:47:23.343Z"
   },
   {
    "duration": 4496,
    "start_time": "2021-11-14T16:47:23.347Z"
   },
   {
    "duration": 4493,
    "start_time": "2021-11-14T16:47:23.351Z"
   },
   {
    "duration": 4490,
    "start_time": "2021-11-14T16:47:23.355Z"
   },
   {
    "duration": 4486,
    "start_time": "2021-11-14T16:47:23.360Z"
   },
   {
    "duration": 4483,
    "start_time": "2021-11-14T16:47:23.364Z"
   },
   {
    "duration": 4480,
    "start_time": "2021-11-14T16:47:23.368Z"
   },
   {
    "duration": 4476,
    "start_time": "2021-11-14T16:47:23.373Z"
   },
   {
    "duration": 4457,
    "start_time": "2021-11-14T16:47:23.392Z"
   },
   {
    "duration": 4454,
    "start_time": "2021-11-14T16:47:23.396Z"
   },
   {
    "duration": 4451,
    "start_time": "2021-11-14T16:47:23.400Z"
   },
   {
    "duration": 4445,
    "start_time": "2021-11-14T16:47:23.407Z"
   },
   {
    "duration": 4441,
    "start_time": "2021-11-14T16:47:23.412Z"
   },
   {
    "duration": 4438,
    "start_time": "2021-11-14T16:47:23.416Z"
   },
   {
    "duration": 4432,
    "start_time": "2021-11-14T16:47:23.423Z"
   },
   {
    "duration": 4429,
    "start_time": "2021-11-14T16:47:23.427Z"
   },
   {
    "duration": 4426,
    "start_time": "2021-11-14T16:47:23.431Z"
   },
   {
    "duration": 4421,
    "start_time": "2021-11-14T16:47:23.436Z"
   },
   {
    "duration": 4419,
    "start_time": "2021-11-14T16:47:23.439Z"
   },
   {
    "duration": 4416,
    "start_time": "2021-11-14T16:47:23.444Z"
   },
   {
    "duration": 4413,
    "start_time": "2021-11-14T16:47:23.448Z"
   },
   {
    "duration": 4411,
    "start_time": "2021-11-14T16:47:23.452Z"
   },
   {
    "duration": 4408,
    "start_time": "2021-11-14T16:47:23.456Z"
   },
   {
    "duration": 4405,
    "start_time": "2021-11-14T16:47:23.461Z"
   },
   {
    "duration": 4402,
    "start_time": "2021-11-14T16:47:23.466Z"
   },
   {
    "duration": 4438,
    "start_time": "2021-11-14T16:47:23.469Z"
   },
   {
    "duration": 4436,
    "start_time": "2021-11-14T16:47:23.473Z"
   },
   {
    "duration": 4433,
    "start_time": "2021-11-14T16:47:23.477Z"
   },
   {
    "duration": 4429,
    "start_time": "2021-11-14T16:47:23.483Z"
   },
   {
    "duration": 4415,
    "start_time": "2021-11-14T16:47:23.498Z"
   },
   {
    "duration": 4413,
    "start_time": "2021-11-14T16:47:23.502Z"
   },
   {
    "duration": 4409,
    "start_time": "2021-11-14T16:47:23.507Z"
   },
   {
    "duration": 4406,
    "start_time": "2021-11-14T16:47:23.511Z"
   },
   {
    "duration": 4403,
    "start_time": "2021-11-14T16:47:23.515Z"
   },
   {
    "duration": 4400,
    "start_time": "2021-11-14T16:47:23.520Z"
   },
   {
    "duration": 4396,
    "start_time": "2021-11-14T16:47:23.525Z"
   },
   {
    "duration": 4392,
    "start_time": "2021-11-14T16:47:23.530Z"
   },
   {
    "duration": 4389,
    "start_time": "2021-11-14T16:47:23.534Z"
   },
   {
    "duration": 4385,
    "start_time": "2021-11-14T16:47:23.539Z"
   },
   {
    "duration": 4379,
    "start_time": "2021-11-14T16:47:23.545Z"
   },
   {
    "duration": 4376,
    "start_time": "2021-11-14T16:47:23.550Z"
   },
   {
    "duration": 4373,
    "start_time": "2021-11-14T16:47:23.554Z"
   },
   {
    "duration": 4367,
    "start_time": "2021-11-14T16:47:23.560Z"
   },
   {
    "duration": 4365,
    "start_time": "2021-11-14T16:47:23.564Z"
   },
   {
    "duration": 4361,
    "start_time": "2021-11-14T16:47:23.569Z"
   },
   {
    "duration": 4358,
    "start_time": "2021-11-14T16:47:23.573Z"
   },
   {
    "duration": 4354,
    "start_time": "2021-11-14T16:47:23.578Z"
   },
   {
    "duration": 4352,
    "start_time": "2021-11-14T16:47:23.581Z"
   },
   {
    "duration": 8,
    "start_time": "2021-11-14T16:47:27.936Z"
   },
   {
    "duration": 65,
    "start_time": "2021-11-14T16:47:27.946Z"
   },
   {
    "duration": 15,
    "start_time": "2021-11-14T16:47:28.013Z"
   },
   {
    "duration": 1068,
    "start_time": "2021-11-14T16:47:53.176Z"
   },
   {
    "duration": 2,
    "start_time": "2021-11-14T16:47:54.246Z"
   },
   {
    "duration": 2574,
    "start_time": "2021-11-14T16:47:54.250Z"
   },
   {
    "duration": 11,
    "start_time": "2021-11-14T16:47:56.826Z"
   },
   {
    "duration": 23,
    "start_time": "2021-11-14T16:47:56.839Z"
   },
   {
    "duration": 14,
    "start_time": "2021-11-14T16:47:56.863Z"
   },
   {
    "duration": 13,
    "start_time": "2021-11-14T16:47:56.879Z"
   },
   {
    "duration": 7,
    "start_time": "2021-11-14T16:47:56.894Z"
   },
   {
    "duration": 41,
    "start_time": "2021-11-14T16:47:56.903Z"
   },
   {
    "duration": 8,
    "start_time": "2021-11-14T16:47:56.945Z"
   },
   {
    "duration": 18,
    "start_time": "2021-11-14T16:47:56.954Z"
   },
   {
    "duration": 14,
    "start_time": "2021-11-14T16:47:56.974Z"
   },
   {
    "duration": 10,
    "start_time": "2021-11-14T16:47:56.990Z"
   },
   {
    "duration": 5,
    "start_time": "2021-11-14T16:47:57.006Z"
   },
   {
    "duration": 37,
    "start_time": "2021-11-14T16:47:57.013Z"
   },
   {
    "duration": 27,
    "start_time": "2021-11-14T16:47:57.053Z"
   },
   {
    "duration": 11,
    "start_time": "2021-11-14T16:47:57.082Z"
   },
   {
    "duration": 55,
    "start_time": "2021-11-14T16:47:57.094Z"
   },
   {
    "duration": 46,
    "start_time": "2021-11-14T16:47:57.150Z"
   },
   {
    "duration": 9,
    "start_time": "2021-11-14T16:47:57.198Z"
   },
   {
    "duration": 48,
    "start_time": "2021-11-14T16:47:57.208Z"
   },
   {
    "duration": 24,
    "start_time": "2021-11-14T16:47:57.257Z"
   },
   {
    "duration": 30,
    "start_time": "2021-11-14T16:47:57.285Z"
   },
   {
    "duration": 15,
    "start_time": "2021-11-14T16:47:57.318Z"
   },
   {
    "duration": 11,
    "start_time": "2021-11-14T16:47:57.334Z"
   },
   {
    "duration": 27,
    "start_time": "2021-11-14T16:47:57.346Z"
   },
   {
    "duration": 31,
    "start_time": "2021-11-14T16:47:57.375Z"
   },
   {
    "duration": 19,
    "start_time": "2021-11-14T16:47:57.408Z"
   },
   {
    "duration": 19,
    "start_time": "2021-11-14T16:47:57.429Z"
   },
   {
    "duration": 4267,
    "start_time": "2021-11-14T16:47:57.449Z"
   },
   {
    "duration": 4569,
    "start_time": "2021-11-14T16:47:57.149Z"
   },
   {
    "duration": 4556,
    "start_time": "2021-11-14T16:47:57.163Z"
   },
   {
    "duration": 4548,
    "start_time": "2021-11-14T16:47:57.172Z"
   },
   {
    "duration": 4545,
    "start_time": "2021-11-14T16:47:57.176Z"
   },
   {
    "duration": 4541,
    "start_time": "2021-11-14T16:47:57.181Z"
   },
   {
    "duration": 4538,
    "start_time": "2021-11-14T16:47:57.185Z"
   },
   {
    "duration": 4534,
    "start_time": "2021-11-14T16:47:57.189Z"
   },
   {
    "duration": 4531,
    "start_time": "2021-11-14T16:47:57.193Z"
   },
   {
    "duration": 4528,
    "start_time": "2021-11-14T16:47:57.197Z"
   },
   {
    "duration": 4524,
    "start_time": "2021-11-14T16:47:57.202Z"
   },
   {
    "duration": 4520,
    "start_time": "2021-11-14T16:47:57.207Z"
   },
   {
    "duration": 4517,
    "start_time": "2021-11-14T16:47:57.211Z"
   },
   {
    "duration": 4514,
    "start_time": "2021-11-14T16:47:57.215Z"
   },
   {
    "duration": 4511,
    "start_time": "2021-11-14T16:47:57.219Z"
   },
   {
    "duration": 4508,
    "start_time": "2021-11-14T16:47:57.223Z"
   },
   {
    "duration": 4505,
    "start_time": "2021-11-14T16:47:57.226Z"
   },
   {
    "duration": 4502,
    "start_time": "2021-11-14T16:47:57.230Z"
   },
   {
    "duration": 4499,
    "start_time": "2021-11-14T16:47:57.234Z"
   },
   {
    "duration": 4485,
    "start_time": "2021-11-14T16:47:57.249Z"
   },
   {
    "duration": 4482,
    "start_time": "2021-11-14T16:47:57.253Z"
   },
   {
    "duration": 4478,
    "start_time": "2021-11-14T16:47:57.258Z"
   },
   {
    "duration": 4474,
    "start_time": "2021-11-14T16:47:57.263Z"
   },
   {
    "duration": 4471,
    "start_time": "2021-11-14T16:47:57.267Z"
   },
   {
    "duration": 4468,
    "start_time": "2021-11-14T16:47:57.271Z"
   },
   {
    "duration": 4465,
    "start_time": "2021-11-14T16:47:57.274Z"
   },
   {
    "duration": 4462,
    "start_time": "2021-11-14T16:47:57.278Z"
   },
   {
    "duration": 4459,
    "start_time": "2021-11-14T16:47:57.282Z"
   },
   {
    "duration": 4456,
    "start_time": "2021-11-14T16:47:57.286Z"
   },
   {
    "duration": 4453,
    "start_time": "2021-11-14T16:47:57.290Z"
   },
   {
    "duration": 4450,
    "start_time": "2021-11-14T16:47:57.294Z"
   },
   {
    "duration": 6547,
    "start_time": "2021-11-14T16:48:53.386Z"
   },
   {
    "duration": 4,
    "start_time": "2021-11-14T16:50:47.233Z"
   },
   {
    "duration": 3694,
    "start_time": "2021-11-14T16:51:07.974Z"
   },
   {
    "duration": 3428,
    "start_time": "2021-11-14T16:52:21.287Z"
   },
   {
    "duration": 5,
    "start_time": "2021-11-14T16:52:46.585Z"
   },
   {
    "duration": 15,
    "start_time": "2021-11-14T16:52:46.592Z"
   },
   {
    "duration": 301,
    "start_time": "2021-11-14T16:52:46.609Z"
   },
   {
    "duration": 7,
    "start_time": "2021-11-14T16:52:46.911Z"
   },
   {
    "duration": 15,
    "start_time": "2021-11-14T16:52:46.919Z"
   },
   {
    "duration": 21,
    "start_time": "2021-11-14T16:52:46.936Z"
   },
   {
    "duration": 75,
    "start_time": "2021-11-14T16:52:46.958Z"
   },
   {
    "duration": 4,
    "start_time": "2021-11-14T16:52:47.035Z"
   },
   {
    "duration": 23,
    "start_time": "2021-11-14T16:52:47.041Z"
   },
   {
    "duration": 28,
    "start_time": "2021-11-14T16:52:47.066Z"
   },
   {
    "duration": 88,
    "start_time": "2021-11-14T16:52:47.095Z"
   },
   {
    "duration": 16,
    "start_time": "2021-11-14T16:52:47.184Z"
   },
   {
    "duration": 53,
    "start_time": "2021-11-14T16:52:47.202Z"
   },
   {
    "duration": 36,
    "start_time": "2021-11-14T16:52:47.257Z"
   },
   {
    "duration": 34,
    "start_time": "2021-11-14T16:52:47.294Z"
   },
   {
    "duration": 35,
    "start_time": "2021-11-14T16:52:47.329Z"
   },
   {
    "duration": 240,
    "start_time": "2021-11-14T16:52:47.366Z"
   },
   {
    "duration": 8,
    "start_time": "2021-11-14T16:52:47.608Z"
   },
   {
    "duration": 26,
    "start_time": "2021-11-14T16:52:47.617Z"
   },
   {
    "duration": 60,
    "start_time": "2021-11-14T16:52:47.645Z"
   },
   {
    "duration": 14,
    "start_time": "2021-11-14T16:52:47.707Z"
   },
   {
    "duration": 29,
    "start_time": "2021-11-14T16:52:47.723Z"
   },
   {
    "duration": 162,
    "start_time": "2021-11-14T16:52:47.754Z"
   },
   {
    "duration": 12,
    "start_time": "2021-11-14T16:52:47.919Z"
   },
   {
    "duration": 33,
    "start_time": "2021-11-14T16:52:47.933Z"
   },
   {
    "duration": 13,
    "start_time": "2021-11-14T16:52:47.968Z"
   },
   {
    "duration": 10,
    "start_time": "2021-11-14T16:52:47.983Z"
   },
   {
    "duration": 149,
    "start_time": "2021-11-14T16:52:47.994Z"
   },
   {
    "duration": 4515,
    "start_time": "2021-11-14T16:52:43.630Z"
   },
   {
    "duration": 4511,
    "start_time": "2021-11-14T16:52:43.635Z"
   },
   {
    "duration": 4503,
    "start_time": "2021-11-14T16:52:43.643Z"
   },
   {
    "duration": 9,
    "start_time": "2021-11-14T16:53:23.689Z"
   },
   {
    "duration": 12,
    "start_time": "2021-11-14T16:54:04.535Z"
   },
   {
    "duration": 282,
    "start_time": "2021-11-14T16:54:22.530Z"
   },
   {
    "duration": 7,
    "start_time": "2021-11-14T16:54:29.615Z"
   },
   {
    "duration": 11,
    "start_time": "2021-11-14T16:54:49.355Z"
   },
   {
    "duration": 283,
    "start_time": "2021-11-14T16:55:10.057Z"
   },
   {
    "duration": 261,
    "start_time": "2021-11-14T16:55:15.786Z"
   },
   {
    "duration": 282,
    "start_time": "2021-11-14T16:55:24.507Z"
   },
   {
    "duration": 353,
    "start_time": "2021-11-14T16:56:02.038Z"
   },
   {
    "duration": 284,
    "start_time": "2021-11-14T16:56:14.688Z"
   },
   {
    "duration": 276,
    "start_time": "2021-11-14T16:56:20.939Z"
   },
   {
    "duration": 290,
    "start_time": "2021-11-14T16:56:54.847Z"
   },
   {
    "duration": 281,
    "start_time": "2021-11-14T16:56:57.947Z"
   },
   {
    "duration": 283,
    "start_time": "2021-11-14T16:58:37.253Z"
   },
   {
    "duration": 309,
    "start_time": "2021-11-14T16:58:45.508Z"
   },
   {
    "duration": 304,
    "start_time": "2021-11-14T16:58:50.977Z"
   },
   {
    "duration": 283,
    "start_time": "2021-11-14T16:58:56.697Z"
   },
   {
    "duration": 334,
    "start_time": "2021-11-14T16:59:10.827Z"
   },
   {
    "duration": 312,
    "start_time": "2021-11-14T17:00:05.669Z"
   },
   {
    "duration": 377,
    "start_time": "2021-11-14T17:00:14.940Z"
   },
   {
    "duration": 281,
    "start_time": "2021-11-14T17:00:20.338Z"
   },
   {
    "duration": 7,
    "start_time": "2021-11-14T17:04:42.158Z"
   },
   {
    "duration": 397,
    "start_time": "2021-11-14T17:05:18.040Z"
   },
   {
    "duration": 385,
    "start_time": "2021-11-14T17:05:34.281Z"
   },
   {
    "duration": 425,
    "start_time": "2021-11-14T17:05:40.642Z"
   },
   {
    "duration": 34,
    "start_time": "2021-11-14T17:06:22.503Z"
   },
   {
    "duration": 10,
    "start_time": "2021-11-14T17:07:29.151Z"
   },
   {
    "duration": 8,
    "start_time": "2021-11-14T17:08:54.641Z"
   },
   {
    "duration": 5,
    "start_time": "2021-11-14T17:09:30.105Z"
   },
   {
    "duration": 3,
    "start_time": "2021-11-14T17:11:55.632Z"
   },
   {
    "duration": 3,
    "start_time": "2021-11-14T17:12:00.462Z"
   },
   {
    "duration": 22,
    "start_time": "2021-11-14T17:12:00.469Z"
   },
   {
    "duration": 1972,
    "start_time": "2021-11-14T17:12:00.492Z"
   },
   {
    "duration": 7,
    "start_time": "2021-11-14T17:12:02.467Z"
   },
   {
    "duration": 216,
    "start_time": "2021-11-14T17:12:02.476Z"
   },
   {
    "duration": 39,
    "start_time": "2021-11-14T17:12:02.694Z"
   },
   {
    "duration": 8,
    "start_time": "2021-11-14T17:12:02.734Z"
   },
   {
    "duration": 13,
    "start_time": "2021-11-14T17:12:02.743Z"
   },
   {
    "duration": 51,
    "start_time": "2021-11-14T17:12:02.759Z"
   },
   {
    "duration": 7,
    "start_time": "2021-11-14T17:12:02.813Z"
   },
   {
    "duration": 19,
    "start_time": "2021-11-14T17:12:02.822Z"
   },
   {
    "duration": 18,
    "start_time": "2021-11-14T17:12:02.843Z"
   },
   {
    "duration": 64,
    "start_time": "2021-11-14T17:12:02.864Z"
   },
   {
    "duration": 48,
    "start_time": "2021-11-14T17:12:02.930Z"
   },
   {
    "duration": 7,
    "start_time": "2021-11-14T17:12:02.980Z"
   },
   {
    "duration": 14,
    "start_time": "2021-11-14T17:12:02.989Z"
   },
   {
    "duration": 13,
    "start_time": "2021-11-14T17:12:03.005Z"
   },
   {
    "duration": 10,
    "start_time": "2021-11-14T17:12:03.020Z"
   },
   {
    "duration": 55,
    "start_time": "2021-11-14T17:12:03.032Z"
   },
   {
    "duration": 47,
    "start_time": "2021-11-14T17:12:03.106Z"
   },
   {
    "duration": 4,
    "start_time": "2021-11-14T17:12:03.154Z"
   },
   {
    "duration": 36,
    "start_time": "2021-11-14T17:12:03.159Z"
   },
   {
    "duration": 23,
    "start_time": "2021-11-14T17:12:03.206Z"
   },
   {
    "duration": 37,
    "start_time": "2021-11-14T17:12:03.233Z"
   },
   {
    "duration": 13,
    "start_time": "2021-11-14T17:12:03.272Z"
   },
   {
    "duration": 13,
    "start_time": "2021-11-14T17:12:03.287Z"
   },
   {
    "duration": 44,
    "start_time": "2021-11-14T17:12:03.302Z"
   },
   {
    "duration": 29,
    "start_time": "2021-11-14T17:12:03.348Z"
   },
   {
    "duration": 20,
    "start_time": "2021-11-14T17:12:03.379Z"
   },
   {
    "duration": 8,
    "start_time": "2021-11-14T17:12:03.400Z"
   },
   {
    "duration": 8,
    "start_time": "2021-11-14T17:12:03.410Z"
   },
   {
    "duration": 3260,
    "start_time": "2021-11-14T17:12:03.420Z"
   },
   {
    "duration": 3507,
    "start_time": "2021-11-14T17:12:06.682Z"
   },
   {
    "duration": 966,
    "start_time": "2021-11-14T17:12:10.191Z"
   },
   {
    "duration": 4659,
    "start_time": "2021-11-14T17:12:06.500Z"
   },
   {
    "duration": 4650,
    "start_time": "2021-11-14T17:12:06.511Z"
   },
   {
    "duration": 4643,
    "start_time": "2021-11-14T17:12:06.519Z"
   },
   {
    "duration": 4637,
    "start_time": "2021-11-14T17:12:06.526Z"
   },
   {
    "duration": 4631,
    "start_time": "2021-11-14T17:12:06.533Z"
   },
   {
    "duration": 4624,
    "start_time": "2021-11-14T17:12:06.542Z"
   },
   {
    "duration": 4621,
    "start_time": "2021-11-14T17:12:06.546Z"
   },
   {
    "duration": 4617,
    "start_time": "2021-11-14T17:12:06.551Z"
   },
   {
    "duration": 4615,
    "start_time": "2021-11-14T17:12:06.555Z"
   },
   {
    "duration": 4612,
    "start_time": "2021-11-14T17:12:06.559Z"
   },
   {
    "duration": 4609,
    "start_time": "2021-11-14T17:12:06.564Z"
   },
   {
    "duration": 4606,
    "start_time": "2021-11-14T17:12:06.568Z"
   },
   {
    "duration": 4602,
    "start_time": "2021-11-14T17:12:06.573Z"
   },
   {
    "duration": 4594,
    "start_time": "2021-11-14T17:12:06.582Z"
   },
   {
    "duration": 4591,
    "start_time": "2021-11-14T17:12:06.587Z"
   },
   {
    "duration": 4588,
    "start_time": "2021-11-14T17:12:06.591Z"
   },
   {
    "duration": 4583,
    "start_time": "2021-11-14T17:12:06.597Z"
   },
   {
    "duration": 4582,
    "start_time": "2021-11-14T17:12:06.600Z"
   },
   {
    "duration": 4577,
    "start_time": "2021-11-14T17:12:06.606Z"
   },
   {
    "duration": 4571,
    "start_time": "2021-11-14T17:12:06.613Z"
   },
   {
    "duration": 4565,
    "start_time": "2021-11-14T17:12:06.621Z"
   },
   {
    "duration": 4562,
    "start_time": "2021-11-14T17:12:06.625Z"
   },
   {
    "duration": 4557,
    "start_time": "2021-11-14T17:12:06.631Z"
   },
   {
    "duration": 4554,
    "start_time": "2021-11-14T17:12:06.635Z"
   },
   {
    "duration": 4550,
    "start_time": "2021-11-14T17:12:06.640Z"
   },
   {
    "duration": 4545,
    "start_time": "2021-11-14T17:12:06.646Z"
   },
   {
    "duration": 4541,
    "start_time": "2021-11-14T17:12:06.651Z"
   },
   {
    "duration": 4539,
    "start_time": "2021-11-14T17:12:06.655Z"
   },
   {
    "duration": 4534,
    "start_time": "2021-11-14T17:12:06.661Z"
   },
   {
    "duration": 4531,
    "start_time": "2021-11-14T17:12:06.665Z"
   },
   {
    "duration": 4534,
    "start_time": "2021-11-14T17:12:06.671Z"
   },
   {
    "duration": 288,
    "start_time": "2021-11-14T17:16:07.766Z"
   },
   {
    "duration": 3540,
    "start_time": "2021-11-14T17:16:27.614Z"
   },
   {
    "duration": 284,
    "start_time": "2021-11-14T17:16:31.156Z"
   },
   {
    "duration": 280,
    "start_time": "2021-11-14T17:16:31.442Z"
   },
   {
    "duration": 295,
    "start_time": "2021-11-14T17:16:31.724Z"
   },
   {
    "duration": 287,
    "start_time": "2021-11-14T17:16:32.020Z"
   },
   {
    "duration": 12,
    "start_time": "2021-11-14T17:16:32.308Z"
   },
   {
    "duration": 36,
    "start_time": "2021-11-14T17:16:32.322Z"
   },
   {
    "duration": 77,
    "start_time": "2021-11-14T17:16:32.361Z"
   },
   {
    "duration": 5,
    "start_time": "2021-11-14T17:16:32.440Z"
   },
   {
    "duration": 15,
    "start_time": "2021-11-14T17:16:32.447Z"
   },
   {
    "duration": 12,
    "start_time": "2021-11-14T17:16:32.464Z"
   },
   {
    "duration": 79,
    "start_time": "2021-11-14T17:16:32.478Z"
   },
   {
    "duration": 4,
    "start_time": "2021-11-14T17:16:32.559Z"
   },
   {
    "duration": 18,
    "start_time": "2021-11-14T17:16:32.565Z"
   },
   {
    "duration": 16,
    "start_time": "2021-11-14T17:16:32.584Z"
   },
   {
    "duration": 10,
    "start_time": "2021-11-14T17:16:32.606Z"
   },
   {
    "duration": 9,
    "start_time": "2021-11-14T17:16:32.618Z"
   },
   {
    "duration": 221,
    "start_time": "2021-11-14T17:16:32.629Z"
   },
   {
    "duration": 7,
    "start_time": "2021-11-14T17:16:32.852Z"
   },
   {
    "duration": 17,
    "start_time": "2021-11-14T17:16:32.860Z"
   },
   {
    "duration": 47,
    "start_time": "2021-11-14T17:16:32.878Z"
   },
   {
    "duration": 11,
    "start_time": "2021-11-14T17:16:32.927Z"
   },
   {
    "duration": 15,
    "start_time": "2021-11-14T17:16:32.941Z"
   },
   {
    "duration": 160,
    "start_time": "2021-11-14T17:16:32.958Z"
   },
   {
    "duration": 12,
    "start_time": "2021-11-14T17:16:33.120Z"
   },
   {
    "duration": 18,
    "start_time": "2021-11-14T17:16:33.134Z"
   },
   {
    "duration": 13,
    "start_time": "2021-11-14T17:16:33.154Z"
   },
   {
    "duration": 10,
    "start_time": "2021-11-14T17:16:33.169Z"
   },
   {
    "duration": 124,
    "start_time": "2021-11-14T17:16:33.181Z"
   },
   {
    "duration": 4705,
    "start_time": "2021-11-14T17:16:28.602Z"
   },
   {
    "duration": 4702,
    "start_time": "2021-11-14T17:16:28.606Z"
   },
   {
    "duration": 4698,
    "start_time": "2021-11-14T17:16:28.611Z"
   },
   {
    "duration": 12,
    "start_time": "2021-11-14T17:19:08.616Z"
   },
   {
    "duration": 4,
    "start_time": "2021-11-14T17:20:52.047Z"
   },
   {
    "duration": 1005,
    "start_time": "2021-11-14T17:22:59.653Z"
   },
   {
    "duration": 2,
    "start_time": "2021-11-14T17:23:00.660Z"
   },
   {
    "duration": 1022,
    "start_time": "2021-11-14T17:23:00.664Z"
   },
   {
    "duration": 11,
    "start_time": "2021-11-14T17:23:01.688Z"
   },
   {
    "duration": 31,
    "start_time": "2021-11-14T17:23:01.701Z"
   },
   {
    "duration": 28,
    "start_time": "2021-11-14T17:23:01.734Z"
   },
   {
    "duration": 48,
    "start_time": "2021-11-14T17:23:01.764Z"
   },
   {
    "duration": 9,
    "start_time": "2021-11-14T17:23:01.815Z"
   },
   {
    "duration": 63,
    "start_time": "2021-11-14T17:23:01.826Z"
   },
   {
    "duration": 7,
    "start_time": "2021-11-14T17:23:01.891Z"
   },
   {
    "duration": 29,
    "start_time": "2021-11-14T17:23:01.900Z"
   },
   {
    "duration": 26,
    "start_time": "2021-11-14T17:23:01.930Z"
   },
   {
    "duration": 22,
    "start_time": "2021-11-14T17:23:01.957Z"
   },
   {
    "duration": 15,
    "start_time": "2021-11-14T17:23:01.982Z"
   },
   {
    "duration": 21,
    "start_time": "2021-11-14T17:23:01.998Z"
   },
   {
    "duration": 17,
    "start_time": "2021-11-14T17:23:02.021Z"
   },
   {
    "duration": 16,
    "start_time": "2021-11-14T17:23:02.039Z"
   },
   {
    "duration": 22,
    "start_time": "2021-11-14T17:23:02.057Z"
   },
   {
    "duration": 58,
    "start_time": "2021-11-14T17:23:02.081Z"
   },
   {
    "duration": 45,
    "start_time": "2021-11-14T17:23:02.140Z"
   },
   {
    "duration": 4,
    "start_time": "2021-11-14T17:23:02.187Z"
   },
   {
    "duration": 47,
    "start_time": "2021-11-14T17:23:02.192Z"
   },
   {
    "duration": 26,
    "start_time": "2021-11-14T17:23:02.243Z"
   },
   {
    "duration": 35,
    "start_time": "2021-11-14T17:23:02.271Z"
   },
   {
    "duration": 16,
    "start_time": "2021-11-14T17:23:02.308Z"
   },
   {
    "duration": 4,
    "start_time": "2021-11-14T17:23:02.325Z"
   },
   {
    "duration": 39,
    "start_time": "2021-11-14T17:23:02.330Z"
   },
   {
    "duration": 37,
    "start_time": "2021-11-14T17:23:02.371Z"
   },
   {
    "duration": 20,
    "start_time": "2021-11-14T17:23:02.410Z"
   },
   {
    "duration": 8,
    "start_time": "2021-11-14T17:23:02.431Z"
   },
   {
    "duration": 9,
    "start_time": "2021-11-14T17:23:02.440Z"
   },
   {
    "duration": 3344,
    "start_time": "2021-11-14T17:23:02.450Z"
   },
   {
    "duration": 3506,
    "start_time": "2021-11-14T17:23:05.795Z"
   },
   {
    "duration": 306,
    "start_time": "2021-11-14T17:23:09.302Z"
   },
   {
    "duration": 298,
    "start_time": "2021-11-14T17:23:09.610Z"
   },
   {
    "duration": 317,
    "start_time": "2021-11-14T17:23:09.910Z"
   },
   {
    "duration": 297,
    "start_time": "2021-11-14T17:23:10.229Z"
   },
   {
    "duration": 89,
    "start_time": "2021-11-14T17:23:10.528Z"
   },
   {
    "duration": 4,
    "start_time": "2021-11-14T17:23:10.618Z"
   },
   {
    "duration": 39,
    "start_time": "2021-11-14T17:23:10.624Z"
   },
   {
    "duration": 8,
    "start_time": "2021-11-14T17:23:10.664Z"
   },
   {
    "duration": 83,
    "start_time": "2021-11-14T17:23:10.674Z"
   },
   {
    "duration": 4,
    "start_time": "2021-11-14T17:23:10.758Z"
   },
   {
    "duration": 27,
    "start_time": "2021-11-14T17:23:10.764Z"
   },
   {
    "duration": 21,
    "start_time": "2021-11-14T17:23:10.792Z"
   },
   {
    "duration": 19,
    "start_time": "2021-11-14T17:23:10.815Z"
   },
   {
    "duration": 13,
    "start_time": "2021-11-14T17:23:10.835Z"
   },
   {
    "duration": 240,
    "start_time": "2021-11-14T17:23:10.850Z"
   },
   {
    "duration": 8,
    "start_time": "2021-11-14T17:23:11.092Z"
   },
   {
    "duration": 445,
    "start_time": "2021-11-14T17:23:11.106Z"
   },
   {
    "duration": 4650,
    "start_time": "2021-11-14T17:23:06.903Z"
   },
   {
    "duration": 4640,
    "start_time": "2021-11-14T17:23:06.914Z"
   },
   {
    "duration": 4633,
    "start_time": "2021-11-14T17:23:06.921Z"
   },
   {
    "duration": 4630,
    "start_time": "2021-11-14T17:23:06.925Z"
   },
   {
    "duration": 4627,
    "start_time": "2021-11-14T17:23:06.929Z"
   },
   {
    "duration": 4622,
    "start_time": "2021-11-14T17:23:06.935Z"
   },
   {
    "duration": 4619,
    "start_time": "2021-11-14T17:23:06.939Z"
   },
   {
    "duration": 4616,
    "start_time": "2021-11-14T17:23:06.943Z"
   },
   {
    "duration": 4613,
    "start_time": "2021-11-14T17:23:06.947Z"
   },
   {
    "duration": 4609,
    "start_time": "2021-11-14T17:23:06.952Z"
   },
   {
    "duration": 4606,
    "start_time": "2021-11-14T17:23:06.956Z"
   },
   {
    "duration": 4603,
    "start_time": "2021-11-14T17:23:06.960Z"
   },
   {
    "duration": 353,
    "start_time": "2021-11-14T17:25:56.898Z"
   },
   {
    "duration": 4,
    "start_time": "2021-11-14T17:26:11.630Z"
   },
   {
    "duration": 366,
    "start_time": "2021-11-14T17:27:03.609Z"
   },
   {
    "duration": 2524,
    "start_time": "2021-11-14T17:27:35.511Z"
   },
   {
    "duration": 3718,
    "start_time": "2021-11-14T17:27:48.262Z"
   },
   {
    "duration": 2624,
    "start_time": "2021-11-14T17:28:23.491Z"
   },
   {
    "duration": 360,
    "start_time": "2021-11-14T17:29:03.622Z"
   },
   {
    "duration": 367,
    "start_time": "2021-11-14T17:29:46.870Z"
   },
   {
    "duration": 351,
    "start_time": "2021-11-14T17:29:55.271Z"
   },
   {
    "duration": 348,
    "start_time": "2021-11-14T17:30:09.282Z"
   },
   {
    "duration": 5,
    "start_time": "2021-11-14T17:31:05.973Z"
   },
   {
    "duration": 4,
    "start_time": "2021-11-14T17:31:13.210Z"
   },
   {
    "duration": 34,
    "start_time": "2021-11-14T17:31:13.216Z"
   },
   {
    "duration": 56,
    "start_time": "2021-11-14T17:31:13.252Z"
   },
   {
    "duration": 15,
    "start_time": "2021-11-14T17:31:13.311Z"
   },
   {
    "duration": 17,
    "start_time": "2021-11-14T17:31:13.328Z"
   },
   {
    "duration": 488,
    "start_time": "2021-11-14T17:31:13.347Z"
   },
   {
    "duration": 4675,
    "start_time": "2021-11-14T17:31:09.162Z"
   },
   {
    "duration": 4670,
    "start_time": "2021-11-14T17:31:09.169Z"
   },
   {
    "duration": 4662,
    "start_time": "2021-11-14T17:31:09.178Z"
   },
   {
    "duration": 4657,
    "start_time": "2021-11-14T17:31:09.184Z"
   },
   {
    "duration": 4653,
    "start_time": "2021-11-14T17:31:09.190Z"
   },
   {
    "duration": 4648,
    "start_time": "2021-11-14T17:31:09.196Z"
   },
   {
    "duration": 4645,
    "start_time": "2021-11-14T17:31:09.201Z"
   },
   {
    "duration": 4640,
    "start_time": "2021-11-14T17:31:09.207Z"
   },
   {
    "duration": 17,
    "start_time": "2021-11-14T17:31:54.561Z"
   },
   {
    "duration": 129,
    "start_time": "2021-11-14T17:32:40.681Z"
   },
   {
    "duration": 7,
    "start_time": "2021-11-14T17:32:58.290Z"
   },
   {
    "duration": 118,
    "start_time": "2021-11-14T17:33:44.904Z"
   },
   {
    "duration": 172,
    "start_time": "2021-11-14T17:33:52.088Z"
   },
   {
    "duration": 122,
    "start_time": "2021-11-14T17:36:29.593Z"
   },
   {
    "duration": 381,
    "start_time": "2021-11-14T17:36:35.943Z"
   },
   {
    "duration": 400,
    "start_time": "2021-11-14T17:37:29.935Z"
   },
   {
    "duration": 140,
    "start_time": "2021-11-14T17:37:48.524Z"
   },
   {
    "duration": 6,
    "start_time": "2021-11-14T17:37:57.133Z"
   },
   {
    "duration": 115,
    "start_time": "2021-11-14T17:59:23.903Z"
   },
   {
    "duration": 16,
    "start_time": "2021-11-14T17:59:26.782Z"
   },
   {
    "duration": 1357,
    "start_time": "2021-11-15T04:56:32.893Z"
   },
   {
    "duration": 3,
    "start_time": "2021-11-15T04:56:34.252Z"
   },
   {
    "duration": 2671,
    "start_time": "2021-11-15T04:56:34.258Z"
   },
   {
    "duration": 15,
    "start_time": "2021-11-15T04:56:36.932Z"
   },
   {
    "duration": 13,
    "start_time": "2021-11-15T04:56:36.950Z"
   },
   {
    "duration": 17,
    "start_time": "2021-11-15T04:56:36.966Z"
   },
   {
    "duration": 10,
    "start_time": "2021-11-15T04:56:36.986Z"
   },
   {
    "duration": 10,
    "start_time": "2021-11-15T04:56:36.998Z"
   },
   {
    "duration": 94,
    "start_time": "2021-11-15T04:56:37.012Z"
   },
   {
    "duration": 11,
    "start_time": "2021-11-15T04:56:37.109Z"
   },
   {
    "duration": 12,
    "start_time": "2021-11-15T04:56:37.123Z"
   },
   {
    "duration": 46,
    "start_time": "2021-11-15T04:56:37.137Z"
   },
   {
    "duration": 9,
    "start_time": "2021-11-15T04:56:37.186Z"
   },
   {
    "duration": 10,
    "start_time": "2021-11-15T04:56:37.198Z"
   },
   {
    "duration": 12,
    "start_time": "2021-11-15T04:56:37.210Z"
   },
   {
    "duration": 17,
    "start_time": "2021-11-15T04:56:37.224Z"
   },
   {
    "duration": 54,
    "start_time": "2021-11-15T04:56:37.243Z"
   },
   {
    "duration": 17,
    "start_time": "2021-11-15T04:56:37.299Z"
   },
   {
    "duration": 121,
    "start_time": "2021-11-15T04:56:37.318Z"
   },
   {
    "duration": 71,
    "start_time": "2021-11-15T04:56:37.442Z"
   },
   {
    "duration": 5,
    "start_time": "2021-11-15T04:56:37.515Z"
   },
   {
    "duration": 64,
    "start_time": "2021-11-15T04:56:37.522Z"
   },
   {
    "duration": 38,
    "start_time": "2021-11-15T04:56:37.588Z"
   },
   {
    "duration": 58,
    "start_time": "2021-11-15T04:56:37.628Z"
   },
   {
    "duration": 23,
    "start_time": "2021-11-15T04:56:37.688Z"
   },
   {
    "duration": 4,
    "start_time": "2021-11-15T04:56:37.713Z"
   },
   {
    "duration": 77,
    "start_time": "2021-11-15T04:56:37.723Z"
   },
   {
    "duration": 41,
    "start_time": "2021-11-15T04:56:37.803Z"
   },
   {
    "duration": 66,
    "start_time": "2021-11-15T04:56:37.847Z"
   },
   {
    "duration": 14,
    "start_time": "2021-11-15T04:56:37.916Z"
   },
   {
    "duration": 11,
    "start_time": "2021-11-15T04:56:37.933Z"
   },
   {
    "duration": 6028,
    "start_time": "2021-11-15T04:56:37.946Z"
   },
   {
    "duration": 6247,
    "start_time": "2021-11-15T04:56:43.976Z"
   },
   {
    "duration": 503,
    "start_time": "2021-11-15T04:56:50.225Z"
   },
   {
    "duration": 512,
    "start_time": "2021-11-15T04:56:50.730Z"
   },
   {
    "duration": 525,
    "start_time": "2021-11-15T04:56:51.244Z"
   },
   {
    "duration": 527,
    "start_time": "2021-11-15T04:56:51.771Z"
   },
   {
    "duration": 137,
    "start_time": "2021-11-15T04:56:52.300Z"
   },
   {
    "duration": 6,
    "start_time": "2021-11-15T04:56:52.439Z"
   },
   {
    "duration": 38,
    "start_time": "2021-11-15T04:56:52.447Z"
   },
   {
    "duration": 6,
    "start_time": "2021-11-15T04:56:52.487Z"
   },
   {
    "duration": 144,
    "start_time": "2021-11-15T04:56:52.495Z"
   },
   {
    "duration": 5,
    "start_time": "2021-11-15T04:56:52.641Z"
   },
   {
    "duration": 36,
    "start_time": "2021-11-15T04:56:52.649Z"
   },
   {
    "duration": 17,
    "start_time": "2021-11-15T04:56:52.687Z"
   },
   {
    "duration": 7,
    "start_time": "2021-11-15T04:56:52.706Z"
   },
   {
    "duration": 9,
    "start_time": "2021-11-15T04:56:52.715Z"
   },
   {
    "duration": 417,
    "start_time": "2021-11-15T04:56:52.726Z"
   },
   {
    "duration": 11,
    "start_time": "2021-11-15T04:56:53.145Z"
   },
   {
    "duration": 25,
    "start_time": "2021-11-15T04:56:53.158Z"
   },
   {
    "duration": 28,
    "start_time": "2021-11-15T04:56:53.185Z"
   },
   {
    "duration": 7,
    "start_time": "2021-11-15T04:56:53.216Z"
   },
   {
    "duration": 110,
    "start_time": "2021-11-15T04:56:53.225Z"
   },
   {
    "duration": 24,
    "start_time": "2021-11-15T04:56:53.338Z"
   },
   {
    "duration": 24,
    "start_time": "2021-11-15T04:56:53.383Z"
   },
   {
    "duration": 457,
    "start_time": "2021-11-15T04:56:53.409Z"
   },
   {
    "duration": -135,
    "start_time": "2021-11-15T04:56:54.004Z"
   },
   {
    "duration": -141,
    "start_time": "2021-11-15T04:56:54.011Z"
   },
   {
    "duration": -144,
    "start_time": "2021-11-15T04:56:54.015Z"
   },
   {
    "duration": -146,
    "start_time": "2021-11-15T04:56:54.018Z"
   },
   {
    "duration": -149,
    "start_time": "2021-11-15T04:56:54.022Z"
   },
   {
    "duration": -153,
    "start_time": "2021-11-15T04:56:54.027Z"
   },
   {
    "duration": -155,
    "start_time": "2021-11-15T04:56:54.031Z"
   },
   {
    "duration": -163,
    "start_time": "2021-11-15T04:56:54.041Z"
   },
   {
    "duration": 21,
    "start_time": "2021-11-15T05:16:37.316Z"
   },
   {
    "duration": 4,
    "start_time": "2021-11-15T05:16:42.078Z"
   },
   {
    "duration": 7,
    "start_time": "2021-11-15T05:16:42.085Z"
   },
   {
    "duration": 2758,
    "start_time": "2021-11-15T05:16:42.094Z"
   },
   {
    "duration": 11,
    "start_time": "2021-11-15T05:16:44.855Z"
   },
   {
    "duration": 15,
    "start_time": "2021-11-15T05:16:44.869Z"
   },
   {
    "duration": 18,
    "start_time": "2021-11-15T05:16:44.887Z"
   },
   {
    "duration": 13,
    "start_time": "2021-11-15T05:16:44.908Z"
   },
   {
    "duration": 10,
    "start_time": "2021-11-15T05:16:44.923Z"
   },
   {
    "duration": 102,
    "start_time": "2021-11-15T05:16:44.937Z"
   },
   {
    "duration": 12,
    "start_time": "2021-11-15T05:16:45.042Z"
   },
   {
    "duration": 39,
    "start_time": "2021-11-15T05:16:45.056Z"
   },
   {
    "duration": 11,
    "start_time": "2021-11-15T05:16:45.098Z"
   },
   {
    "duration": 6,
    "start_time": "2021-11-15T05:16:45.111Z"
   },
   {
    "duration": 19,
    "start_time": "2021-11-15T05:16:45.120Z"
   },
   {
    "duration": 54,
    "start_time": "2021-11-15T05:16:45.142Z"
   },
   {
    "duration": 17,
    "start_time": "2021-11-15T05:16:45.199Z"
   },
   {
    "duration": 123,
    "start_time": "2021-11-15T05:16:45.219Z"
   },
   {
    "duration": 76,
    "start_time": "2021-11-15T05:16:45.344Z"
   },
   {
    "duration": 4,
    "start_time": "2021-11-15T05:16:45.423Z"
   },
   {
    "duration": 62,
    "start_time": "2021-11-15T05:16:45.430Z"
   },
   {
    "duration": 37,
    "start_time": "2021-11-15T05:16:45.494Z"
   },
   {
    "duration": 62,
    "start_time": "2021-11-15T05:16:45.534Z"
   },
   {
    "duration": 21,
    "start_time": "2021-11-15T05:16:45.598Z"
   },
   {
    "duration": 6,
    "start_time": "2021-11-15T05:16:45.621Z"
   },
   {
    "duration": 61,
    "start_time": "2021-11-15T05:16:45.629Z"
   },
   {
    "duration": 39,
    "start_time": "2021-11-15T05:16:45.695Z"
   },
   {
    "duration": 58,
    "start_time": "2021-11-15T05:16:45.737Z"
   },
   {
    "duration": 13,
    "start_time": "2021-11-15T05:16:45.797Z"
   },
   {
    "duration": 5887,
    "start_time": "2021-11-15T05:16:45.812Z"
   },
   {
    "duration": 6377,
    "start_time": "2021-11-15T05:16:51.701Z"
   },
   {
    "duration": 495,
    "start_time": "2021-11-15T05:16:58.081Z"
   },
   {
    "duration": 504,
    "start_time": "2021-11-15T05:16:58.581Z"
   },
   {
    "duration": 600,
    "start_time": "2021-11-15T05:16:59.087Z"
   },
   {
    "duration": 537,
    "start_time": "2021-11-15T05:16:59.689Z"
   },
   {
    "duration": 157,
    "start_time": "2021-11-15T05:17:00.228Z"
   },
   {
    "duration": 6,
    "start_time": "2021-11-15T05:17:00.387Z"
   },
   {
    "duration": 25,
    "start_time": "2021-11-15T05:17:00.396Z"
   },
   {
    "duration": 14,
    "start_time": "2021-11-15T05:17:00.424Z"
   },
   {
    "duration": 144,
    "start_time": "2021-11-15T05:17:00.441Z"
   },
   {
    "duration": 5,
    "start_time": "2021-11-15T05:17:00.588Z"
   },
   {
    "duration": 30,
    "start_time": "2021-11-15T05:17:00.595Z"
   },
   {
    "duration": 35,
    "start_time": "2021-11-15T05:17:00.627Z"
   },
   {
    "duration": 25,
    "start_time": "2021-11-15T05:17:00.665Z"
   },
   {
    "duration": 18,
    "start_time": "2021-11-15T05:17:00.693Z"
   },
   {
    "duration": 399,
    "start_time": "2021-11-15T05:17:00.714Z"
   },
   {
    "duration": 13,
    "start_time": "2021-11-15T05:17:01.115Z"
   },
   {
    "duration": 36,
    "start_time": "2021-11-15T05:17:01.130Z"
   },
   {
    "duration": 34,
    "start_time": "2021-11-15T05:17:01.168Z"
   },
   {
    "duration": 12,
    "start_time": "2021-11-15T05:17:01.205Z"
   },
   {
    "duration": 92,
    "start_time": "2021-11-15T05:17:01.220Z"
   },
   {
    "duration": 25,
    "start_time": "2021-11-15T05:17:01.315Z"
   },
   {
    "duration": 56,
    "start_time": "2021-11-15T05:17:01.343Z"
   },
   {
    "duration": 368,
    "start_time": "2021-11-15T05:17:01.402Z"
   },
   {
    "duration": -121,
    "start_time": "2021-11-15T05:17:01.894Z"
   },
   {
    "duration": -123,
    "start_time": "2021-11-15T05:17:01.898Z"
   },
   {
    "duration": -123,
    "start_time": "2021-11-15T05:17:01.901Z"
   },
   {
    "duration": -178,
    "start_time": "2021-11-15T05:17:01.958Z"
   },
   {
    "duration": -193,
    "start_time": "2021-11-15T05:17:01.975Z"
   },
   {
    "duration": -196,
    "start_time": "2021-11-15T05:17:01.981Z"
   },
   {
    "duration": -201,
    "start_time": "2021-11-15T05:17:01.988Z"
   },
   {
    "duration": -203,
    "start_time": "2021-11-15T05:17:01.992Z"
   },
   {
    "duration": 489,
    "start_time": "2021-11-15T05:18:25.126Z"
   },
   {
    "duration": 474,
    "start_time": "2021-11-15T05:18:40.137Z"
   },
   {
    "duration": 321,
    "start_time": "2021-11-15T05:20:08.646Z"
   },
   {
    "duration": 323,
    "start_time": "2021-11-15T05:21:44.216Z"
   },
   {
    "duration": 64,
    "start_time": "2021-11-15T05:21:57.436Z"
   },
   {
    "duration": 21,
    "start_time": "2021-11-15T05:49:59.078Z"
   },
   {
    "duration": 8,
    "start_time": "2021-11-15T05:50:45.427Z"
   },
   {
    "duration": 284,
    "start_time": "2021-11-15T05:51:43.239Z"
   },
   {
    "duration": 307,
    "start_time": "2021-11-15T05:52:05.481Z"
   },
   {
    "duration": 814,
    "start_time": "2021-11-15T05:52:19.262Z"
   },
   {
    "duration": 959,
    "start_time": "2021-11-15T05:52:31.601Z"
   },
   {
    "duration": 119,
    "start_time": "2021-11-15T05:55:45.290Z"
   },
   {
    "duration": 111,
    "start_time": "2021-11-15T05:56:11.799Z"
   },
   {
    "duration": 113,
    "start_time": "2021-11-15T05:56:41.551Z"
   },
   {
    "duration": 142,
    "start_time": "2021-11-15T05:56:43.961Z"
   },
   {
    "duration": 494,
    "start_time": "2021-11-15T05:57:20.472Z"
   },
   {
    "duration": 479,
    "start_time": "2021-11-15T05:57:23.531Z"
   },
   {
    "duration": 482,
    "start_time": "2021-11-15T05:57:33.521Z"
   },
   {
    "duration": 591,
    "start_time": "2021-11-15T05:57:41.161Z"
   },
   {
    "duration": 474,
    "start_time": "2021-11-15T05:57:48.622Z"
   },
   {
    "duration": 505,
    "start_time": "2021-11-15T07:14:34.896Z"
   },
   {
    "duration": 488,
    "start_time": "2021-11-15T07:26:44.253Z"
   },
   {
    "duration": 482,
    "start_time": "2021-11-15T07:44:10.727Z"
   },
   {
    "duration": 467,
    "start_time": "2021-11-15T07:44:24.225Z"
   },
   {
    "duration": 622,
    "start_time": "2021-11-15T07:44:34.217Z"
   },
   {
    "duration": 464,
    "start_time": "2021-11-15T07:44:43.337Z"
   },
   {
    "duration": 756,
    "start_time": "2021-11-15T07:45:12.117Z"
   },
   {
    "duration": 708,
    "start_time": "2021-11-15T07:45:22.597Z"
   },
   {
    "duration": 682,
    "start_time": "2021-11-15T07:47:13.017Z"
   },
   {
    "duration": 655,
    "start_time": "2021-11-15T07:47:56.737Z"
   },
   {
    "duration": 671,
    "start_time": "2021-11-15T07:48:53.570Z"
   },
   {
    "duration": 610,
    "start_time": "2021-11-15T07:49:10.150Z"
   },
   {
    "duration": 496,
    "start_time": "2021-11-15T07:49:32.068Z"
   },
   {
    "duration": 451,
    "start_time": "2021-11-15T07:49:40.300Z"
   },
   {
    "duration": 1364,
    "start_time": "2021-11-15T07:50:03.285Z"
   },
   {
    "duration": 4,
    "start_time": "2021-11-15T07:50:04.651Z"
   },
   {
    "duration": 4057,
    "start_time": "2021-11-15T07:50:04.661Z"
   },
   {
    "duration": 17,
    "start_time": "2021-11-15T07:50:08.720Z"
   },
   {
    "duration": 14,
    "start_time": "2021-11-15T07:50:08.739Z"
   },
   {
    "duration": 26,
    "start_time": "2021-11-15T07:50:08.757Z"
   },
   {
    "duration": 11,
    "start_time": "2021-11-15T07:50:08.787Z"
   },
   {
    "duration": 10,
    "start_time": "2021-11-15T07:50:08.801Z"
   },
   {
    "duration": 111,
    "start_time": "2021-11-15T07:50:08.813Z"
   },
   {
    "duration": 11,
    "start_time": "2021-11-15T07:50:08.926Z"
   },
   {
    "duration": 18,
    "start_time": "2021-11-15T07:50:08.940Z"
   },
   {
    "duration": 9,
    "start_time": "2021-11-15T07:50:08.982Z"
   },
   {
    "duration": 16,
    "start_time": "2021-11-15T07:50:08.993Z"
   },
   {
    "duration": 22,
    "start_time": "2021-11-15T07:50:09.012Z"
   },
   {
    "duration": 56,
    "start_time": "2021-11-15T07:50:09.037Z"
   },
   {
    "duration": 16,
    "start_time": "2021-11-15T07:50:09.096Z"
   },
   {
    "duration": 107,
    "start_time": "2021-11-15T07:50:09.115Z"
   },
   {
    "duration": 77,
    "start_time": "2021-11-15T07:50:09.225Z"
   },
   {
    "duration": 6,
    "start_time": "2021-11-15T07:50:09.304Z"
   },
   {
    "duration": 50,
    "start_time": "2021-11-15T07:50:09.313Z"
   },
   {
    "duration": 48,
    "start_time": "2021-11-15T07:50:09.366Z"
   },
   {
    "duration": 68,
    "start_time": "2021-11-15T07:50:09.420Z"
   },
   {
    "duration": 24,
    "start_time": "2021-11-15T07:50:09.491Z"
   },
   {
    "duration": 6,
    "start_time": "2021-11-15T07:50:09.517Z"
   },
   {
    "duration": 73,
    "start_time": "2021-11-15T07:50:09.525Z"
   },
   {
    "duration": 39,
    "start_time": "2021-11-15T07:50:09.601Z"
   },
   {
    "duration": 55,
    "start_time": "2021-11-15T07:50:09.642Z"
   },
   {
    "duration": 13,
    "start_time": "2021-11-15T07:50:09.700Z"
   },
   {
    "duration": 6474,
    "start_time": "2021-11-15T07:50:09.716Z"
   },
   {
    "duration": 6745,
    "start_time": "2021-11-15T07:50:16.192Z"
   },
   {
    "duration": 425,
    "start_time": "2021-11-15T07:50:22.939Z"
   },
   {
    "duration": 33,
    "start_time": "2021-11-15T07:50:23.334Z"
   },
   {
    "duration": 31,
    "start_time": "2021-11-15T07:50:23.337Z"
   },
   {
    "duration": 28,
    "start_time": "2021-11-15T07:50:23.341Z"
   },
   {
    "duration": 25,
    "start_time": "2021-11-15T07:50:23.346Z"
   },
   {
    "duration": 11,
    "start_time": "2021-11-15T07:50:23.361Z"
   },
   {
    "duration": 8,
    "start_time": "2021-11-15T07:50:23.365Z"
   },
   {
    "duration": 6,
    "start_time": "2021-11-15T07:50:23.369Z"
   },
   {
    "duration": 4,
    "start_time": "2021-11-15T07:50:23.372Z"
   },
   {
    "duration": -1,
    "start_time": "2021-11-15T07:50:23.378Z"
   },
   {
    "duration": -4,
    "start_time": "2021-11-15T07:50:23.383Z"
   },
   {
    "duration": -7,
    "start_time": "2021-11-15T07:50:23.387Z"
   },
   {
    "duration": -6,
    "start_time": "2021-11-15T07:50:23.390Z"
   },
   {
    "duration": -8,
    "start_time": "2021-11-15T07:50:23.394Z"
   },
   {
    "duration": -11,
    "start_time": "2021-11-15T07:50:23.398Z"
   },
   {
    "duration": -13,
    "start_time": "2021-11-15T07:50:23.401Z"
   },
   {
    "duration": -15,
    "start_time": "2021-11-15T07:50:23.404Z"
   },
   {
    "duration": -17,
    "start_time": "2021-11-15T07:50:23.408Z"
   },
   {
    "duration": -19,
    "start_time": "2021-11-15T07:50:23.411Z"
   },
   {
    "duration": -22,
    "start_time": "2021-11-15T07:50:23.415Z"
   },
   {
    "duration": -24,
    "start_time": "2021-11-15T07:50:23.418Z"
   },
   {
    "duration": -27,
    "start_time": "2021-11-15T07:50:23.422Z"
   },
   {
    "duration": -28,
    "start_time": "2021-11-15T07:50:23.425Z"
   },
   {
    "duration": -31,
    "start_time": "2021-11-15T07:50:23.429Z"
   },
   {
    "duration": -34,
    "start_time": "2021-11-15T07:50:23.433Z"
   },
   {
    "duration": -36,
    "start_time": "2021-11-15T07:50:23.436Z"
   },
   {
    "duration": -48,
    "start_time": "2021-11-15T07:50:23.450Z"
   },
   {
    "duration": -50,
    "start_time": "2021-11-15T07:50:23.453Z"
   },
   {
    "duration": -53,
    "start_time": "2021-11-15T07:50:23.457Z"
   },
   {
    "duration": -55,
    "start_time": "2021-11-15T07:50:23.460Z"
   },
   {
    "duration": -58,
    "start_time": "2021-11-15T07:50:23.464Z"
   },
   {
    "duration": -59,
    "start_time": "2021-11-15T07:50:23.467Z"
   },
   {
    "duration": 4,
    "start_time": "2021-11-15T07:50:51.155Z"
   },
   {
    "duration": 6,
    "start_time": "2021-11-15T07:50:51.162Z"
   },
   {
    "duration": 2002,
    "start_time": "2021-11-15T07:50:51.171Z"
   },
   {
    "duration": 14,
    "start_time": "2021-11-15T07:50:53.175Z"
   },
   {
    "duration": 18,
    "start_time": "2021-11-15T07:50:53.191Z"
   },
   {
    "duration": 18,
    "start_time": "2021-11-15T07:50:53.211Z"
   },
   {
    "duration": 20,
    "start_time": "2021-11-15T07:50:53.232Z"
   },
   {
    "duration": 11,
    "start_time": "2021-11-15T07:50:53.282Z"
   },
   {
    "duration": 65,
    "start_time": "2021-11-15T07:50:53.295Z"
   },
   {
    "duration": 11,
    "start_time": "2021-11-15T07:50:53.383Z"
   },
   {
    "duration": 14,
    "start_time": "2021-11-15T07:50:53.397Z"
   },
   {
    "duration": 9,
    "start_time": "2021-11-15T07:50:53.414Z"
   },
   {
    "duration": 5,
    "start_time": "2021-11-15T07:50:53.426Z"
   },
   {
    "duration": 65,
    "start_time": "2021-11-15T07:50:53.433Z"
   },
   {
    "duration": 17,
    "start_time": "2021-11-15T07:50:53.500Z"
   },
   {
    "duration": 17,
    "start_time": "2021-11-15T07:50:53.519Z"
   },
   {
    "duration": 117,
    "start_time": "2021-11-15T07:50:53.538Z"
   },
   {
    "duration": 79,
    "start_time": "2021-11-15T07:50:53.657Z"
   },
   {
    "duration": 5,
    "start_time": "2021-11-15T07:50:53.739Z"
   },
   {
    "duration": 69,
    "start_time": "2021-11-15T07:50:53.746Z"
   },
   {
    "duration": 36,
    "start_time": "2021-11-15T07:50:53.817Z"
   },
   {
    "duration": 57,
    "start_time": "2021-11-15T07:50:53.855Z"
   },
   {
    "duration": 22,
    "start_time": "2021-11-15T07:50:53.914Z"
   },
   {
    "duration": 5,
    "start_time": "2021-11-15T07:50:53.938Z"
   },
   {
    "duration": 63,
    "start_time": "2021-11-15T07:50:53.949Z"
   },
   {
    "duration": 67,
    "start_time": "2021-11-15T07:50:54.015Z"
   },
   {
    "duration": 34,
    "start_time": "2021-11-15T07:50:54.084Z"
   },
   {
    "duration": 17,
    "start_time": "2021-11-15T07:50:54.120Z"
   },
   {
    "duration": 6387,
    "start_time": "2021-11-15T07:50:54.139Z"
   },
   {
    "duration": 6830,
    "start_time": "2021-11-15T07:51:00.529Z"
   },
   {
    "duration": 534,
    "start_time": "2021-11-15T07:51:07.361Z"
   },
   {
    "duration": 504,
    "start_time": "2021-11-15T07:51:07.898Z"
   },
   {
    "duration": 498,
    "start_time": "2021-11-15T07:51:08.404Z"
   },
   {
    "duration": 481,
    "start_time": "2021-11-15T07:51:08.905Z"
   },
   {
    "duration": 504,
    "start_time": "2021-11-15T07:51:09.389Z"
   },
   {
    "duration": 501,
    "start_time": "2021-11-15T07:51:09.895Z"
   },
   {
    "duration": 145,
    "start_time": "2021-11-15T07:51:10.398Z"
   },
   {
    "duration": 6,
    "start_time": "2021-11-15T07:51:10.545Z"
   },
   {
    "duration": 35,
    "start_time": "2021-11-15T07:51:10.553Z"
   },
   {
    "duration": 8,
    "start_time": "2021-11-15T07:51:10.590Z"
   },
   {
    "duration": 155,
    "start_time": "2021-11-15T07:51:10.601Z"
   },
   {
    "duration": 5,
    "start_time": "2021-11-15T07:51:10.759Z"
   },
   {
    "duration": 28,
    "start_time": "2021-11-15T07:51:10.766Z"
   },
   {
    "duration": 8,
    "start_time": "2021-11-15T07:51:10.796Z"
   },
   {
    "duration": 501,
    "start_time": "2021-11-15T07:51:10.807Z"
   },
   {
    "duration": 11,
    "start_time": "2021-11-15T07:51:11.311Z"
   },
   {
    "duration": 11,
    "start_time": "2021-11-15T07:51:11.325Z"
   },
   {
    "duration": 56,
    "start_time": "2021-11-15T07:51:11.339Z"
   },
   {
    "duration": 566,
    "start_time": "2021-11-15T07:51:11.397Z"
   },
   {
    "duration": 462,
    "start_time": "2021-11-15T07:51:11.965Z"
   },
   {
    "duration": 8,
    "start_time": "2021-11-15T07:51:12.430Z"
   },
   {
    "duration": 45,
    "start_time": "2021-11-15T07:51:12.440Z"
   },
   {
    "duration": 22,
    "start_time": "2021-11-15T07:51:12.488Z"
   },
   {
    "duration": 24,
    "start_time": "2021-11-15T07:51:12.513Z"
   },
   {
    "duration": 54,
    "start_time": "2021-11-15T07:51:12.539Z"
   },
   {
    "duration": 23,
    "start_time": "2021-11-15T07:51:12.595Z"
   },
   {
    "duration": 33,
    "start_time": "2021-11-15T07:51:12.621Z"
   },
   {
    "duration": 109,
    "start_time": "2021-11-15T07:51:12.656Z"
   },
   {
    "duration": 104,
    "start_time": "2021-11-15T07:51:12.663Z"
   },
   {
    "duration": 101,
    "start_time": "2021-11-15T07:51:12.667Z"
   },
   {
    "duration": 98,
    "start_time": "2021-11-15T07:51:12.671Z"
   },
   {
    "duration": 508,
    "start_time": "2021-11-15T07:51:37.432Z"
   },
   {
    "duration": 488,
    "start_time": "2021-11-15T07:51:44.594Z"
   },
   {
    "duration": 501,
    "start_time": "2021-11-15T07:51:55.764Z"
   },
   {
    "duration": 474,
    "start_time": "2021-11-15T07:52:03.165Z"
   },
   {
    "duration": 496,
    "start_time": "2021-11-15T07:52:15.114Z"
   },
   {
    "duration": 498,
    "start_time": "2021-11-15T07:52:22.484Z"
   },
   {
    "duration": 452,
    "start_time": "2021-11-15T07:59:21.693Z"
   },
   {
    "duration": 473,
    "start_time": "2021-11-15T07:59:32.355Z"
   },
   {
    "duration": 457,
    "start_time": "2021-11-15T07:59:52.015Z"
   },
   {
    "duration": 20,
    "start_time": "2021-11-15T08:01:13.079Z"
   },
   {
    "duration": 8,
    "start_time": "2021-11-15T08:01:33.061Z"
   },
   {
    "duration": 9,
    "start_time": "2021-11-15T08:01:53.579Z"
   },
   {
    "duration": 380,
    "start_time": "2021-11-15T08:07:47.278Z"
   },
   {
    "duration": 50,
    "start_time": "2021-11-15T08:08:24.308Z"
   },
   {
    "duration": 8,
    "start_time": "2021-11-15T08:08:40.218Z"
   },
   {
    "duration": 7,
    "start_time": "2021-11-15T08:10:02.583Z"
   },
   {
    "duration": 12,
    "start_time": "2021-11-15T08:10:12.318Z"
   },
   {
    "duration": 420,
    "start_time": "2021-11-15T08:11:17.132Z"
   },
   {
    "duration": 843,
    "start_time": "2021-11-15T08:12:12.658Z"
   },
   {
    "duration": 129,
    "start_time": "2021-11-15T08:33:06.758Z"
   },
   {
    "duration": 819,
    "start_time": "2021-11-15T08:33:20.456Z"
   },
   {
    "duration": 534,
    "start_time": "2021-11-15T08:34:07.421Z"
   },
   {
    "duration": 519,
    "start_time": "2021-11-15T08:37:37.951Z"
   },
   {
    "duration": 58,
    "start_time": "2021-11-15T08:41:13.096Z"
   },
   {
    "duration": 60,
    "start_time": "2021-11-15T08:41:50.286Z"
   },
   {
    "duration": 24,
    "start_time": "2021-11-15T08:44:40.298Z"
   },
   {
    "duration": 14,
    "start_time": "2021-11-15T08:44:52.908Z"
   },
   {
    "duration": 13,
    "start_time": "2021-11-15T08:45:30.278Z"
   },
   {
    "duration": 47,
    "start_time": "2021-11-15T08:45:35.937Z"
   },
   {
    "duration": 377,
    "start_time": "2021-11-15T08:54:29.439Z"
   },
   {
    "duration": 315,
    "start_time": "2021-11-15T08:54:42.367Z"
   },
   {
    "duration": 7,
    "start_time": "2021-11-15T08:56:29.059Z"
   },
   {
    "duration": 543,
    "start_time": "2021-11-15T09:15:09.316Z"
   },
   {
    "duration": 537,
    "start_time": "2021-11-15T09:22:34.777Z"
   },
   {
    "duration": 477,
    "start_time": "2021-11-15T09:22:49.515Z"
   },
   {
    "duration": 457,
    "start_time": "2021-11-15T10:34:28.425Z"
   },
   {
    "duration": 339,
    "start_time": "2021-11-15T10:34:28.884Z"
   },
   {
    "duration": -464,
    "start_time": "2021-11-15T10:34:29.689Z"
   },
   {
    "duration": -467,
    "start_time": "2021-11-15T10:34:29.694Z"
   },
   {
    "duration": 1437,
    "start_time": "2021-11-15T10:35:15.549Z"
   },
   {
    "duration": 4,
    "start_time": "2021-11-15T10:35:16.988Z"
   },
   {
    "duration": 2934,
    "start_time": "2021-11-15T10:35:16.995Z"
   },
   {
    "duration": 15,
    "start_time": "2021-11-15T10:35:19.931Z"
   },
   {
    "duration": 19,
    "start_time": "2021-11-15T10:35:19.949Z"
   },
   {
    "duration": 18,
    "start_time": "2021-11-15T10:35:19.970Z"
   },
   {
    "duration": 9,
    "start_time": "2021-11-15T10:35:19.991Z"
   },
   {
    "duration": 16,
    "start_time": "2021-11-15T10:35:20.002Z"
   },
   {
    "duration": 81,
    "start_time": "2021-11-15T10:35:20.022Z"
   },
   {
    "duration": 11,
    "start_time": "2021-11-15T10:35:20.106Z"
   },
   {
    "duration": 20,
    "start_time": "2021-11-15T10:35:20.119Z"
   },
   {
    "duration": 10,
    "start_time": "2021-11-15T10:35:20.141Z"
   },
   {
    "duration": 31,
    "start_time": "2021-11-15T10:35:20.153Z"
   },
   {
    "duration": 18,
    "start_time": "2021-11-15T10:35:20.186Z"
   },
   {
    "duration": 18,
    "start_time": "2021-11-15T10:35:20.206Z"
   },
   {
    "duration": 17,
    "start_time": "2021-11-15T10:35:20.227Z"
   },
   {
    "duration": 117,
    "start_time": "2021-11-15T10:35:20.247Z"
   },
   {
    "duration": 71,
    "start_time": "2021-11-15T10:35:20.366Z"
   },
   {
    "duration": 5,
    "start_time": "2021-11-15T10:35:20.439Z"
   },
   {
    "duration": 63,
    "start_time": "2021-11-15T10:35:20.446Z"
   },
   {
    "duration": 36,
    "start_time": "2021-11-15T10:35:20.512Z"
   },
   {
    "duration": 56,
    "start_time": "2021-11-15T10:35:20.550Z"
   },
   {
    "duration": 24,
    "start_time": "2021-11-15T10:35:20.608Z"
   },
   {
    "duration": 8,
    "start_time": "2021-11-15T10:35:20.634Z"
   },
   {
    "duration": 58,
    "start_time": "2021-11-15T10:35:20.644Z"
   },
   {
    "duration": 43,
    "start_time": "2021-11-15T10:35:20.704Z"
   },
   {
    "duration": 51,
    "start_time": "2021-11-15T10:35:20.753Z"
   },
   {
    "duration": 15,
    "start_time": "2021-11-15T10:35:20.808Z"
   },
   {
    "duration": 5933,
    "start_time": "2021-11-15T10:35:20.826Z"
   },
   {
    "duration": 6335,
    "start_time": "2021-11-15T10:35:26.762Z"
   },
   {
    "duration": 528,
    "start_time": "2021-11-15T10:35:33.099Z"
   },
   {
    "duration": 500,
    "start_time": "2021-11-15T10:35:33.630Z"
   },
   {
    "duration": 511,
    "start_time": "2021-11-15T10:35:34.133Z"
   },
   {
    "duration": 478,
    "start_time": "2021-11-15T10:35:34.647Z"
   },
   {
    "duration": 503,
    "start_time": "2021-11-15T10:35:35.128Z"
   },
   {
    "duration": 485,
    "start_time": "2021-11-15T10:35:35.634Z"
   },
   {
    "duration": 142,
    "start_time": "2021-11-15T10:35:36.122Z"
   },
   {
    "duration": 6,
    "start_time": "2021-11-15T10:35:36.267Z"
   },
   {
    "duration": 21,
    "start_time": "2021-11-15T10:35:36.283Z"
   },
   {
    "duration": 14,
    "start_time": "2021-11-15T10:35:36.307Z"
   },
   {
    "duration": 139,
    "start_time": "2021-11-15T10:35:36.323Z"
   },
   {
    "duration": 17,
    "start_time": "2021-11-15T10:35:36.465Z"
   },
   {
    "duration": 33,
    "start_time": "2021-11-15T10:35:36.484Z"
   },
   {
    "duration": 12,
    "start_time": "2021-11-15T10:35:36.519Z"
   },
   {
    "duration": 381,
    "start_time": "2021-11-15T10:35:36.533Z"
   },
   {
    "duration": 11,
    "start_time": "2021-11-15T10:35:36.917Z"
   },
   {
    "duration": 15,
    "start_time": "2021-11-15T10:35:36.930Z"
   },
   {
    "duration": 10,
    "start_time": "2021-11-15T10:35:36.947Z"
   },
   {
    "duration": 24,
    "start_time": "2021-11-15T10:35:36.959Z"
   },
   {
    "duration": 51,
    "start_time": "2021-11-15T10:35:36.985Z"
   },
   {
    "duration": 12,
    "start_time": "2021-11-15T10:35:37.038Z"
   },
   {
    "duration": 34,
    "start_time": "2021-11-15T10:35:37.052Z"
   },
   {
    "duration": 528,
    "start_time": "2021-11-15T10:35:37.088Z"
   },
   {
    "duration": 573,
    "start_time": "2021-11-15T10:35:37.618Z"
   },
   {
    "duration": 580,
    "start_time": "2021-11-15T10:35:38.193Z"
   },
   {
    "duration": 599,
    "start_time": "2021-11-15T10:35:38.782Z"
   },
   {
    "duration": -811,
    "start_time": "2021-11-15T10:35:40.195Z"
   },
   {
    "duration": -812,
    "start_time": "2021-11-15T10:35:40.198Z"
   },
   {
    "duration": 27,
    "start_time": "2021-11-15T10:35:57.448Z"
   },
   {
    "duration": 11,
    "start_time": "2021-11-15T10:36:38.988Z"
   },
   {
    "duration": 9,
    "start_time": "2021-11-15T10:36:41.635Z"
   },
   {
    "duration": 11,
    "start_time": "2021-11-15T10:38:56.980Z"
   },
   {
    "duration": 13,
    "start_time": "2021-11-15T10:41:44.264Z"
   },
   {
    "duration": 11,
    "start_time": "2021-11-15T10:41:52.501Z"
   },
   {
    "duration": 329,
    "start_time": "2021-11-15T10:42:25.221Z"
   },
   {
    "duration": 7,
    "start_time": "2021-11-15T10:42:38.367Z"
   },
   {
    "duration": 24,
    "start_time": "2021-11-15T10:45:33.048Z"
   },
   {
    "duration": 11,
    "start_time": "2021-11-15T10:45:38.730Z"
   },
   {
    "duration": 10,
    "start_time": "2021-11-15T10:45:41.838Z"
   },
   {
    "duration": 10,
    "start_time": "2021-11-15T10:46:01.998Z"
   },
   {
    "duration": 1381,
    "start_time": "2021-11-15T10:47:22.819Z"
   },
   {
    "duration": 3,
    "start_time": "2021-11-15T10:47:24.203Z"
   },
   {
    "duration": 2825,
    "start_time": "2021-11-15T10:47:24.209Z"
   },
   {
    "duration": 15,
    "start_time": "2021-11-15T10:47:27.037Z"
   },
   {
    "duration": 20,
    "start_time": "2021-11-15T10:47:27.054Z"
   },
   {
    "duration": 19,
    "start_time": "2021-11-15T10:47:27.077Z"
   },
   {
    "duration": 10,
    "start_time": "2021-11-15T10:47:27.098Z"
   },
   {
    "duration": 14,
    "start_time": "2021-11-15T10:47:27.110Z"
   },
   {
    "duration": 89,
    "start_time": "2021-11-15T10:47:27.128Z"
   },
   {
    "duration": 11,
    "start_time": "2021-11-15T10:47:27.220Z"
   },
   {
    "duration": 20,
    "start_time": "2021-11-15T10:47:27.233Z"
   },
   {
    "duration": 30,
    "start_time": "2021-11-15T10:47:27.255Z"
   },
   {
    "duration": 19,
    "start_time": "2021-11-15T10:47:27.288Z"
   },
   {
    "duration": 22,
    "start_time": "2021-11-15T10:47:27.309Z"
   },
   {
    "duration": 17,
    "start_time": "2021-11-15T10:47:27.334Z"
   },
   {
    "duration": 33,
    "start_time": "2021-11-15T10:47:27.354Z"
   },
   {
    "duration": 93,
    "start_time": "2021-11-15T10:47:27.389Z"
   },
   {
    "duration": 65,
    "start_time": "2021-11-15T10:47:27.484Z"
   },
   {
    "duration": 6,
    "start_time": "2021-11-15T10:47:27.551Z"
   },
   {
    "duration": 62,
    "start_time": "2021-11-15T10:47:27.559Z"
   },
   {
    "duration": 39,
    "start_time": "2021-11-15T10:47:27.623Z"
   },
   {
    "duration": 54,
    "start_time": "2021-11-15T10:47:27.664Z"
   },
   {
    "duration": 23,
    "start_time": "2021-11-15T10:47:27.721Z"
   },
   {
    "duration": 5,
    "start_time": "2021-11-15T10:47:27.747Z"
   },
   {
    "duration": 38,
    "start_time": "2021-11-15T10:47:27.782Z"
   },
   {
    "duration": 70,
    "start_time": "2021-11-15T10:47:27.822Z"
   },
   {
    "duration": 43,
    "start_time": "2021-11-15T10:47:27.897Z"
   },
   {
    "duration": 22,
    "start_time": "2021-11-15T10:47:27.943Z"
   },
   {
    "duration": 5894,
    "start_time": "2021-11-15T10:47:27.967Z"
   },
   {
    "duration": 6784,
    "start_time": "2021-11-15T10:47:33.863Z"
   },
   {
    "duration": 535,
    "start_time": "2021-11-15T10:47:40.649Z"
   },
   {
    "duration": 489,
    "start_time": "2021-11-15T10:47:41.187Z"
   },
   {
    "duration": 498,
    "start_time": "2021-11-15T10:47:41.681Z"
   },
   {
    "duration": 475,
    "start_time": "2021-11-15T10:47:42.181Z"
   },
   {
    "duration": 506,
    "start_time": "2021-11-15T10:47:42.658Z"
   },
   {
    "duration": 507,
    "start_time": "2021-11-15T10:47:43.167Z"
   },
   {
    "duration": 140,
    "start_time": "2021-11-15T10:47:43.677Z"
   },
   {
    "duration": 6,
    "start_time": "2021-11-15T10:47:43.819Z"
   },
   {
    "duration": 521,
    "start_time": "2021-11-15T10:47:43.828Z"
   },
   {
    "duration": -456,
    "start_time": "2021-11-15T10:47:44.807Z"
   },
   {
    "duration": -461,
    "start_time": "2021-11-15T10:47:44.813Z"
   },
   {
    "duration": -465,
    "start_time": "2021-11-15T10:47:44.819Z"
   },
   {
    "duration": -470,
    "start_time": "2021-11-15T10:47:44.825Z"
   },
   {
    "duration": -473,
    "start_time": "2021-11-15T10:47:44.830Z"
   },
   {
    "duration": -479,
    "start_time": "2021-11-15T10:47:44.837Z"
   },
   {
    "duration": -496,
    "start_time": "2021-11-15T10:47:44.855Z"
   },
   {
    "duration": -500,
    "start_time": "2021-11-15T10:47:44.860Z"
   },
   {
    "duration": -504,
    "start_time": "2021-11-15T10:47:44.866Z"
   },
   {
    "duration": -509,
    "start_time": "2021-11-15T10:47:44.872Z"
   },
   {
    "duration": -512,
    "start_time": "2021-11-15T10:47:44.876Z"
   },
   {
    "duration": -519,
    "start_time": "2021-11-15T10:47:44.884Z"
   },
   {
    "duration": -524,
    "start_time": "2021-11-15T10:47:44.890Z"
   },
   {
    "duration": -529,
    "start_time": "2021-11-15T10:47:44.896Z"
   },
   {
    "duration": -533,
    "start_time": "2021-11-15T10:47:44.902Z"
   },
   {
    "duration": -536,
    "start_time": "2021-11-15T10:47:44.907Z"
   },
   {
    "duration": -540,
    "start_time": "2021-11-15T10:47:44.912Z"
   },
   {
    "duration": -544,
    "start_time": "2021-11-15T10:47:44.918Z"
   },
   {
    "duration": -550,
    "start_time": "2021-11-15T10:47:44.925Z"
   },
   {
    "duration": -553,
    "start_time": "2021-11-15T10:47:44.929Z"
   },
   {
    "duration": -557,
    "start_time": "2021-11-15T10:47:44.935Z"
   },
   {
    "duration": 6,
    "start_time": "2021-11-15T10:48:41.333Z"
   },
   {
    "duration": 25,
    "start_time": "2021-11-15T10:48:41.342Z"
   },
   {
    "duration": 9,
    "start_time": "2021-11-15T10:48:41.370Z"
   },
   {
    "duration": 117,
    "start_time": "2021-11-15T10:48:41.382Z"
   },
   {
    "duration": 5,
    "start_time": "2021-11-15T10:48:41.502Z"
   },
   {
    "duration": 20,
    "start_time": "2021-11-15T10:48:41.511Z"
   },
   {
    "duration": 6,
    "start_time": "2021-11-15T10:48:41.534Z"
   },
   {
    "duration": 417,
    "start_time": "2021-11-15T10:48:41.543Z"
   },
   {
    "duration": 27,
    "start_time": "2021-11-15T10:48:41.964Z"
   },
   {
    "duration": 19,
    "start_time": "2021-11-15T10:48:41.995Z"
   },
   {
    "duration": 17,
    "start_time": "2021-11-15T10:48:42.016Z"
   },
   {
    "duration": 10,
    "start_time": "2021-11-15T10:48:42.036Z"
   },
   {
    "duration": 8,
    "start_time": "2021-11-15T10:48:42.049Z"
   },
   {
    "duration": 46,
    "start_time": "2021-11-15T10:48:42.083Z"
   },
   {
    "duration": 15,
    "start_time": "2021-11-15T10:48:42.132Z"
   },
   {
    "duration": 34,
    "start_time": "2021-11-15T10:48:42.150Z"
   },
   {
    "duration": 666,
    "start_time": "2021-11-15T10:48:42.187Z"
   },
   {
    "duration": 626,
    "start_time": "2021-11-15T10:48:42.856Z"
   },
   {
    "duration": 482,
    "start_time": "2021-11-15T10:48:43.484Z"
   },
   {
    "duration": 15,
    "start_time": "2021-11-15T10:48:43.968Z"
   },
   {
    "duration": 12,
    "start_time": "2021-11-15T10:48:43.986Z"
   },
   {
    "duration": 16,
    "start_time": "2021-11-15T10:48:44.004Z"
   },
   {
    "duration": 10,
    "start_time": "2021-11-15T10:48:44.024Z"
   },
   {
    "duration": 5,
    "start_time": "2021-11-15T10:51:50.384Z"
   },
   {
    "duration": 8,
    "start_time": "2021-11-15T10:52:03.775Z"
   },
   {
    "duration": 8,
    "start_time": "2021-11-15T10:52:11.206Z"
   },
   {
    "duration": 7,
    "start_time": "2021-11-15T10:52:41.646Z"
   },
   {
    "duration": 8,
    "start_time": "2021-11-15T10:52:56.007Z"
   },
   {
    "duration": 8,
    "start_time": "2021-11-15T10:52:58.676Z"
   },
   {
    "duration": 8,
    "start_time": "2021-11-15T10:53:19.924Z"
   },
   {
    "duration": 8,
    "start_time": "2021-11-15T10:53:22.564Z"
   },
   {
    "duration": 1378,
    "start_time": "2021-11-15T11:49:14.366Z"
   },
   {
    "duration": 3,
    "start_time": "2021-11-15T11:49:15.746Z"
   },
   {
    "duration": 1305,
    "start_time": "2021-11-15T11:49:15.752Z"
   },
   {
    "duration": 15,
    "start_time": "2021-11-15T11:49:17.060Z"
   },
   {
    "duration": 16,
    "start_time": "2021-11-15T11:49:17.077Z"
   },
   {
    "duration": 18,
    "start_time": "2021-11-15T11:49:17.095Z"
   },
   {
    "duration": 14,
    "start_time": "2021-11-15T11:49:17.115Z"
   },
   {
    "duration": 9,
    "start_time": "2021-11-15T11:49:17.133Z"
   },
   {
    "duration": 91,
    "start_time": "2021-11-15T11:49:17.145Z"
   },
   {
    "duration": 12,
    "start_time": "2021-11-15T11:49:17.238Z"
   },
   {
    "duration": 39,
    "start_time": "2021-11-15T11:49:17.253Z"
   },
   {
    "duration": 8,
    "start_time": "2021-11-15T11:49:17.294Z"
   },
   {
    "duration": 16,
    "start_time": "2021-11-15T11:49:17.304Z"
   },
   {
    "duration": 17,
    "start_time": "2021-11-15T11:49:17.322Z"
   },
   {
    "duration": 41,
    "start_time": "2021-11-15T11:49:17.342Z"
   },
   {
    "duration": 17,
    "start_time": "2021-11-15T11:49:17.386Z"
   },
   {
    "duration": 118,
    "start_time": "2021-11-15T11:49:17.406Z"
   },
   {
    "duration": 73,
    "start_time": "2021-11-15T11:49:17.527Z"
   },
   {
    "duration": 5,
    "start_time": "2021-11-15T11:49:17.602Z"
   },
   {
    "duration": 51,
    "start_time": "2021-11-15T11:49:17.610Z"
   },
   {
    "duration": 46,
    "start_time": "2021-11-15T11:49:17.663Z"
   },
   {
    "duration": 37,
    "start_time": "2021-11-15T11:49:17.711Z"
   },
   {
    "duration": 44,
    "start_time": "2021-11-15T11:49:17.754Z"
   },
   {
    "duration": 5,
    "start_time": "2021-11-15T11:49:17.801Z"
   },
   {
    "duration": 45,
    "start_time": "2021-11-15T11:49:17.809Z"
   },
   {
    "duration": 60,
    "start_time": "2021-11-15T11:49:17.856Z"
   },
   {
    "duration": 64,
    "start_time": "2021-11-15T11:49:17.918Z"
   },
   {
    "duration": 18,
    "start_time": "2021-11-15T11:49:17.985Z"
   },
   {
    "duration": 6059,
    "start_time": "2021-11-15T11:49:18.006Z"
   },
   {
    "duration": 6570,
    "start_time": "2021-11-15T11:49:24.068Z"
   },
   {
    "duration": 542,
    "start_time": "2021-11-15T11:49:30.640Z"
   },
   {
    "duration": 518,
    "start_time": "2021-11-15T11:49:31.184Z"
   },
   {
    "duration": 496,
    "start_time": "2021-11-15T11:49:31.705Z"
   },
   {
    "duration": 523,
    "start_time": "2021-11-15T11:49:32.204Z"
   },
   {
    "duration": 610,
    "start_time": "2021-11-15T11:49:32.730Z"
   },
   {
    "duration": 137,
    "start_time": "2021-11-15T11:49:33.342Z"
   },
   {
    "duration": 5,
    "start_time": "2021-11-15T11:49:33.483Z"
   },
   {
    "duration": 30,
    "start_time": "2021-11-15T11:49:33.491Z"
   },
   {
    "duration": 10,
    "start_time": "2021-11-15T11:49:33.524Z"
   },
   {
    "duration": 140,
    "start_time": "2021-11-15T11:49:33.537Z"
   },
   {
    "duration": 6,
    "start_time": "2021-11-15T11:49:33.679Z"
   },
   {
    "duration": 24,
    "start_time": "2021-11-15T11:49:33.687Z"
   },
   {
    "duration": 9,
    "start_time": "2021-11-15T11:49:33.713Z"
   },
   {
    "duration": 399,
    "start_time": "2021-11-15T11:49:33.724Z"
   },
   {
    "duration": 12,
    "start_time": "2021-11-15T11:49:34.126Z"
   },
   {
    "duration": 9,
    "start_time": "2021-11-15T11:49:34.140Z"
   },
   {
    "duration": 39,
    "start_time": "2021-11-15T11:49:34.151Z"
   },
   {
    "duration": 14,
    "start_time": "2021-11-15T11:49:34.192Z"
   },
   {
    "duration": 9,
    "start_time": "2021-11-15T11:49:34.208Z"
   },
   {
    "duration": 69,
    "start_time": "2021-11-15T11:49:34.219Z"
   },
   {
    "duration": 13,
    "start_time": "2021-11-15T11:49:34.290Z"
   },
   {
    "duration": 9,
    "start_time": "2021-11-15T11:49:34.306Z"
   },
   {
    "duration": 565,
    "start_time": "2021-11-15T11:49:34.317Z"
   },
   {
    "duration": 501,
    "start_time": "2021-11-15T11:49:34.884Z"
   },
   {
    "duration": 565,
    "start_time": "2021-11-15T11:49:35.388Z"
   },
   {
    "duration": 10,
    "start_time": "2021-11-15T11:49:35.955Z"
   },
   {
    "duration": 12,
    "start_time": "2021-11-15T11:49:35.982Z"
   },
   {
    "duration": 16,
    "start_time": "2021-11-15T11:49:35.996Z"
   },
   {
    "duration": 1374,
    "start_time": "2021-11-15T11:55:50.167Z"
   },
   {
    "duration": 4,
    "start_time": "2021-11-15T11:55:51.543Z"
   },
   {
    "duration": 2881,
    "start_time": "2021-11-15T11:55:51.550Z"
   },
   {
    "duration": 15,
    "start_time": "2021-11-15T11:55:54.433Z"
   },
   {
    "duration": 13,
    "start_time": "2021-11-15T11:55:54.450Z"
   },
   {
    "duration": 18,
    "start_time": "2021-11-15T11:55:54.465Z"
   },
   {
    "duration": 10,
    "start_time": "2021-11-15T11:55:54.485Z"
   },
   {
    "duration": 10,
    "start_time": "2021-11-15T11:55:54.499Z"
   },
   {
    "duration": 14,
    "start_time": "2021-11-15T11:55:54.512Z"
   },
   {
    "duration": 53,
    "start_time": "2021-11-15T11:55:54.529Z"
   },
   {
    "duration": 9,
    "start_time": "2021-11-15T11:55:54.584Z"
   },
   {
    "duration": 20,
    "start_time": "2021-11-15T11:55:54.595Z"
   },
   {
    "duration": 70,
    "start_time": "2021-11-15T11:55:54.617Z"
   },
   {
    "duration": 17,
    "start_time": "2021-11-15T11:55:54.690Z"
   },
   {
    "duration": 19,
    "start_time": "2021-11-15T11:55:54.709Z"
   },
   {
    "duration": 16,
    "start_time": "2021-11-15T11:55:54.730Z"
   },
   {
    "duration": 115,
    "start_time": "2021-11-15T11:55:54.748Z"
   },
   {
    "duration": 77,
    "start_time": "2021-11-15T11:55:54.865Z"
   },
   {
    "duration": 6,
    "start_time": "2021-11-15T11:55:54.944Z"
   },
   {
    "duration": 66,
    "start_time": "2021-11-15T11:55:54.952Z"
   },
   {
    "duration": 36,
    "start_time": "2021-11-15T11:55:55.021Z"
   },
   {
    "duration": 54,
    "start_time": "2021-11-15T11:55:55.059Z"
   },
   {
    "duration": 22,
    "start_time": "2021-11-15T11:55:55.119Z"
   },
   {
    "duration": 5,
    "start_time": "2021-11-15T11:55:55.145Z"
   },
   {
    "duration": 54,
    "start_time": "2021-11-15T11:55:55.153Z"
   },
   {
    "duration": 39,
    "start_time": "2021-11-15T11:55:55.209Z"
   },
   {
    "duration": 55,
    "start_time": "2021-11-15T11:55:55.250Z"
   },
   {
    "duration": 13,
    "start_time": "2021-11-15T11:55:55.307Z"
   },
   {
    "duration": 7,
    "start_time": "2021-11-15T11:55:55.322Z"
   },
   {
    "duration": 5781,
    "start_time": "2021-11-15T11:55:55.332Z"
   },
   {
    "duration": 6426,
    "start_time": "2021-11-15T11:56:01.115Z"
   },
   {
    "duration": 527,
    "start_time": "2021-11-15T11:56:07.543Z"
   },
   {
    "duration": 497,
    "start_time": "2021-11-15T11:56:08.072Z"
   },
   {
    "duration": 485,
    "start_time": "2021-11-15T11:56:08.572Z"
   },
   {
    "duration": 502,
    "start_time": "2021-11-15T11:56:09.059Z"
   },
   {
    "duration": 501,
    "start_time": "2021-11-15T11:56:09.563Z"
   },
   {
    "duration": 143,
    "start_time": "2021-11-15T11:56:10.067Z"
   },
   {
    "duration": 5,
    "start_time": "2021-11-15T11:56:10.213Z"
   },
   {
    "duration": 32,
    "start_time": "2021-11-15T11:56:10.220Z"
   },
   {
    "duration": 8,
    "start_time": "2021-11-15T11:56:10.254Z"
   },
   {
    "duration": 148,
    "start_time": "2021-11-15T11:56:10.264Z"
   },
   {
    "duration": 5,
    "start_time": "2021-11-15T11:56:10.415Z"
   },
   {
    "duration": 26,
    "start_time": "2021-11-15T11:56:10.423Z"
   },
   {
    "duration": 15,
    "start_time": "2021-11-15T11:56:10.451Z"
   },
   {
    "duration": 404,
    "start_time": "2021-11-15T11:56:10.469Z"
   },
   {
    "duration": 15,
    "start_time": "2021-11-15T11:56:10.876Z"
   },
   {
    "duration": 12,
    "start_time": "2021-11-15T11:56:10.893Z"
   },
   {
    "duration": 23,
    "start_time": "2021-11-15T11:56:10.907Z"
   },
   {
    "duration": 15,
    "start_time": "2021-11-15T11:56:10.934Z"
   },
   {
    "duration": 30,
    "start_time": "2021-11-15T11:56:10.953Z"
   },
   {
    "duration": 53,
    "start_time": "2021-11-15T11:56:10.986Z"
   },
   {
    "duration": 12,
    "start_time": "2021-11-15T11:56:11.042Z"
   },
   {
    "duration": 29,
    "start_time": "2021-11-15T11:56:11.056Z"
   },
   {
    "duration": 539,
    "start_time": "2021-11-15T11:56:11.087Z"
   },
   {
    "duration": 521,
    "start_time": "2021-11-15T11:56:11.628Z"
   },
   {
    "duration": 612,
    "start_time": "2021-11-15T11:56:12.152Z"
   },
   {
    "duration": 9,
    "start_time": "2021-11-15T11:56:12.766Z"
   },
   {
    "duration": 9,
    "start_time": "2021-11-15T11:56:12.782Z"
   },
   {
    "duration": 10,
    "start_time": "2021-11-15T11:56:12.794Z"
   },
   {
    "duration": 1035,
    "start_time": "2021-11-15T13:43:42.102Z"
   },
   {
    "duration": 2,
    "start_time": "2021-11-15T13:43:43.139Z"
   },
   {
    "duration": 1491,
    "start_time": "2021-11-15T13:43:43.143Z"
   },
   {
    "duration": 11,
    "start_time": "2021-11-15T13:43:44.637Z"
   },
   {
    "duration": 9,
    "start_time": "2021-11-15T13:43:44.650Z"
   },
   {
    "duration": 13,
    "start_time": "2021-11-15T13:43:44.660Z"
   },
   {
    "duration": 7,
    "start_time": "2021-11-15T13:43:44.674Z"
   },
   {
    "duration": 19,
    "start_time": "2021-11-15T13:43:44.683Z"
   },
   {
    "duration": 10,
    "start_time": "2021-11-15T13:43:44.704Z"
   },
   {
    "duration": 11,
    "start_time": "2021-11-15T13:43:44.715Z"
   },
   {
    "duration": 5,
    "start_time": "2021-11-15T13:43:44.727Z"
   },
   {
    "duration": 5,
    "start_time": "2021-11-15T13:43:44.733Z"
   },
   {
    "duration": 51,
    "start_time": "2021-11-15T13:43:44.740Z"
   },
   {
    "duration": 12,
    "start_time": "2021-11-15T13:43:44.793Z"
   },
   {
    "duration": 12,
    "start_time": "2021-11-15T13:43:44.806Z"
   },
   {
    "duration": 11,
    "start_time": "2021-11-15T13:43:44.820Z"
   },
   {
    "duration": 73,
    "start_time": "2021-11-15T13:43:44.832Z"
   },
   {
    "duration": 42,
    "start_time": "2021-11-15T13:43:44.907Z"
   },
   {
    "duration": 3,
    "start_time": "2021-11-15T13:43:44.950Z"
   },
   {
    "duration": 41,
    "start_time": "2021-11-15T13:43:44.955Z"
   },
   {
    "duration": 25,
    "start_time": "2021-11-15T13:43:44.998Z"
   },
   {
    "duration": 27,
    "start_time": "2021-11-15T13:43:45.025Z"
   },
   {
    "duration": 37,
    "start_time": "2021-11-15T13:43:45.055Z"
   },
   {
    "duration": 4,
    "start_time": "2021-11-15T13:43:45.094Z"
   },
   {
    "duration": 24,
    "start_time": "2021-11-15T13:43:45.099Z"
   },
   {
    "duration": 21,
    "start_time": "2021-11-15T13:43:45.125Z"
   },
   {
    "duration": 19,
    "start_time": "2021-11-15T13:43:45.147Z"
   },
   {
    "duration": 27,
    "start_time": "2021-11-15T13:43:45.168Z"
   },
   {
    "duration": 7,
    "start_time": "2021-11-15T13:43:45.197Z"
   },
   {
    "duration": 3195,
    "start_time": "2021-11-15T13:43:45.205Z"
   },
   {
    "duration": 3471,
    "start_time": "2021-11-15T13:43:48.402Z"
   },
   {
    "duration": 315,
    "start_time": "2021-11-15T13:43:51.875Z"
   },
   {
    "duration": 307,
    "start_time": "2021-11-15T13:43:52.191Z"
   },
   {
    "duration": 292,
    "start_time": "2021-11-15T13:43:52.499Z"
   },
   {
    "duration": 306,
    "start_time": "2021-11-15T13:43:52.792Z"
   },
   {
    "duration": 306,
    "start_time": "2021-11-15T13:43:53.099Z"
   },
   {
    "duration": 87,
    "start_time": "2021-11-15T13:43:53.406Z"
   },
   {
    "duration": 4,
    "start_time": "2021-11-15T13:43:53.494Z"
   },
   {
    "duration": 23,
    "start_time": "2021-11-15T13:43:53.500Z"
   },
   {
    "duration": 10,
    "start_time": "2021-11-15T13:43:53.524Z"
   },
   {
    "duration": 75,
    "start_time": "2021-11-15T13:43:53.535Z"
   },
   {
    "duration": 3,
    "start_time": "2021-11-15T13:43:53.612Z"
   },
   {
    "duration": 18,
    "start_time": "2021-11-15T13:43:53.617Z"
   },
   {
    "duration": 12,
    "start_time": "2021-11-15T13:43:53.637Z"
   },
   {
    "duration": 229,
    "start_time": "2021-11-15T13:43:53.651Z"
   },
   {
    "duration": 14,
    "start_time": "2021-11-15T13:43:53.882Z"
   },
   {
    "duration": 9,
    "start_time": "2021-11-15T13:43:53.898Z"
   },
   {
    "duration": 13,
    "start_time": "2021-11-15T13:43:53.908Z"
   },
   {
    "duration": 12,
    "start_time": "2021-11-15T13:43:53.922Z"
   },
   {
    "duration": 8,
    "start_time": "2021-11-15T13:43:53.935Z"
   },
   {
    "duration": 33,
    "start_time": "2021-11-15T13:43:53.944Z"
   },
   {
    "duration": 17,
    "start_time": "2021-11-15T13:43:53.979Z"
   },
   {
    "duration": 6,
    "start_time": "2021-11-15T13:43:53.998Z"
   },
   {
    "duration": 349,
    "start_time": "2021-11-15T13:43:54.007Z"
   },
   {
    "duration": 309,
    "start_time": "2021-11-15T13:43:54.358Z"
   },
   {
    "duration": 333,
    "start_time": "2021-11-15T13:43:54.669Z"
   },
   {
    "duration": 7,
    "start_time": "2021-11-15T13:43:55.003Z"
   },
   {
    "duration": 19,
    "start_time": "2021-11-15T13:43:55.012Z"
   },
   {
    "duration": 9,
    "start_time": "2021-11-15T13:43:55.033Z"
   },
   {
    "duration": 1046,
    "start_time": "2021-11-15T13:44:51.886Z"
   },
   {
    "duration": 3,
    "start_time": "2021-11-15T13:44:52.934Z"
   },
   {
    "duration": 805,
    "start_time": "2021-11-15T13:44:52.938Z"
   },
   {
    "duration": 11,
    "start_time": "2021-11-15T13:44:53.745Z"
   },
   {
    "duration": 9,
    "start_time": "2021-11-15T13:44:53.758Z"
   },
   {
    "duration": 12,
    "start_time": "2021-11-15T13:44:53.769Z"
   },
   {
    "duration": 12,
    "start_time": "2021-11-15T13:44:53.782Z"
   },
   {
    "duration": 8,
    "start_time": "2021-11-15T13:44:53.797Z"
   },
   {
    "duration": 10,
    "start_time": "2021-11-15T13:44:53.807Z"
   },
   {
    "duration": 10,
    "start_time": "2021-11-15T13:44:53.818Z"
   },
   {
    "duration": 9,
    "start_time": "2021-11-15T13:44:53.830Z"
   },
   {
    "duration": 8,
    "start_time": "2021-11-15T13:44:53.840Z"
   },
   {
    "duration": 63,
    "start_time": "2021-11-15T13:44:53.849Z"
   },
   {
    "duration": 12,
    "start_time": "2021-11-15T13:44:53.914Z"
   },
   {
    "duration": 15,
    "start_time": "2021-11-15T13:44:53.927Z"
   },
   {
    "duration": 13,
    "start_time": "2021-11-15T13:44:53.944Z"
   },
   {
    "duration": 90,
    "start_time": "2021-11-15T13:44:53.959Z"
   },
   {
    "duration": 54,
    "start_time": "2021-11-15T13:44:54.051Z"
   },
   {
    "duration": 3,
    "start_time": "2021-11-15T13:44:54.107Z"
   },
   {
    "duration": 32,
    "start_time": "2021-11-15T13:44:54.112Z"
   },
   {
    "duration": 21,
    "start_time": "2021-11-15T13:44:54.146Z"
   },
   {
    "duration": 41,
    "start_time": "2021-11-15T13:44:54.169Z"
   },
   {
    "duration": 13,
    "start_time": "2021-11-15T13:44:54.214Z"
   },
   {
    "duration": 3,
    "start_time": "2021-11-15T13:44:54.229Z"
   },
   {
    "duration": 22,
    "start_time": "2021-11-15T13:44:54.234Z"
   },
   {
    "duration": 46,
    "start_time": "2021-11-15T13:44:54.257Z"
   },
   {
    "duration": 20,
    "start_time": "2021-11-15T13:44:54.305Z"
   },
   {
    "duration": 9,
    "start_time": "2021-11-15T13:44:54.327Z"
   },
   {
    "duration": 4,
    "start_time": "2021-11-15T13:44:54.338Z"
   },
   {
    "duration": 3186,
    "start_time": "2021-11-15T13:44:54.344Z"
   },
   {
    "duration": 3351,
    "start_time": "2021-11-15T13:44:57.532Z"
   },
   {
    "duration": 320,
    "start_time": "2021-11-15T13:45:00.885Z"
   },
   {
    "duration": 319,
    "start_time": "2021-11-15T13:45:01.206Z"
   },
   {
    "duration": 298,
    "start_time": "2021-11-15T13:45:01.526Z"
   },
   {
    "duration": 313,
    "start_time": "2021-11-15T13:45:01.826Z"
   },
   {
    "duration": 306,
    "start_time": "2021-11-15T13:45:02.141Z"
   },
   {
    "duration": 91,
    "start_time": "2021-11-15T13:45:02.449Z"
   },
   {
    "duration": 4,
    "start_time": "2021-11-15T13:45:02.541Z"
   },
   {
    "duration": 28,
    "start_time": "2021-11-15T13:45:02.547Z"
   },
   {
    "duration": 14,
    "start_time": "2021-11-15T13:45:02.577Z"
   },
   {
    "duration": 77,
    "start_time": "2021-11-15T13:45:02.593Z"
   },
   {
    "duration": 4,
    "start_time": "2021-11-15T13:45:02.672Z"
   },
   {
    "duration": 27,
    "start_time": "2021-11-15T13:45:02.678Z"
   },
   {
    "duration": 11,
    "start_time": "2021-11-15T13:45:02.706Z"
   },
   {
    "duration": 247,
    "start_time": "2021-11-15T13:45:02.719Z"
   },
   {
    "duration": 7,
    "start_time": "2021-11-15T13:45:02.968Z"
   },
   {
    "duration": 16,
    "start_time": "2021-11-15T13:45:02.976Z"
   },
   {
    "duration": 13,
    "start_time": "2021-11-15T13:45:02.993Z"
   },
   {
    "duration": 10,
    "start_time": "2021-11-15T13:45:03.008Z"
   },
   {
    "duration": 7,
    "start_time": "2021-11-15T13:45:03.020Z"
   },
   {
    "duration": 31,
    "start_time": "2021-11-15T13:45:03.028Z"
   },
   {
    "duration": 7,
    "start_time": "2021-11-15T13:45:03.061Z"
   },
   {
    "duration": 22,
    "start_time": "2021-11-15T13:45:03.070Z"
   },
   {
    "duration": 325,
    "start_time": "2021-11-15T13:45:03.094Z"
   },
   {
    "duration": 300,
    "start_time": "2021-11-15T13:45:03.421Z"
   },
   {
    "duration": 341,
    "start_time": "2021-11-15T13:45:03.723Z"
   },
   {
    "duration": 7,
    "start_time": "2021-11-15T13:45:04.066Z"
   },
   {
    "duration": 19,
    "start_time": "2021-11-15T13:45:04.075Z"
   },
   {
    "duration": 5,
    "start_time": "2021-11-15T13:45:04.096Z"
   },
   {
    "duration": 252,
    "start_time": "2021-11-15T14:46:38.995Z"
   },
   {
    "duration": 1018,
    "start_time": "2021-11-15T14:46:53.617Z"
   },
   {
    "duration": 2,
    "start_time": "2021-11-15T14:46:54.637Z"
   },
   {
    "duration": 957,
    "start_time": "2021-11-15T14:46:54.642Z"
   },
   {
    "duration": 12,
    "start_time": "2021-11-15T14:46:55.605Z"
   },
   {
    "duration": 12,
    "start_time": "2021-11-15T14:46:55.619Z"
   },
   {
    "duration": 13,
    "start_time": "2021-11-15T14:46:55.632Z"
   },
   {
    "duration": 7,
    "start_time": "2021-11-15T14:46:55.647Z"
   },
   {
    "duration": 6,
    "start_time": "2021-11-15T14:46:55.657Z"
   },
   {
    "duration": 37,
    "start_time": "2021-11-15T14:46:55.665Z"
   },
   {
    "duration": 17,
    "start_time": "2021-11-15T14:46:55.704Z"
   },
   {
    "duration": 7,
    "start_time": "2021-11-15T14:46:55.723Z"
   },
   {
    "duration": 4,
    "start_time": "2021-11-15T14:46:55.732Z"
   },
   {
    "duration": 62,
    "start_time": "2021-11-15T14:46:55.738Z"
   },
   {
    "duration": 12,
    "start_time": "2021-11-15T14:46:55.802Z"
   },
   {
    "duration": 14,
    "start_time": "2021-11-15T14:46:55.816Z"
   },
   {
    "duration": 12,
    "start_time": "2021-11-15T14:46:55.832Z"
   },
   {
    "duration": 83,
    "start_time": "2021-11-15T14:46:55.846Z"
   },
   {
    "duration": 45,
    "start_time": "2021-11-15T14:46:55.931Z"
   },
   {
    "duration": 22,
    "start_time": "2021-11-15T14:46:55.978Z"
   },
   {
    "duration": 38,
    "start_time": "2021-11-15T14:46:56.002Z"
   },
   {
    "duration": 24,
    "start_time": "2021-11-15T14:46:56.042Z"
   },
   {
    "duration": 40,
    "start_time": "2021-11-15T14:46:56.068Z"
   },
   {
    "duration": 16,
    "start_time": "2021-11-15T14:46:56.112Z"
   },
   {
    "duration": 3,
    "start_time": "2021-11-15T14:46:56.130Z"
   },
   {
    "duration": 25,
    "start_time": "2021-11-15T14:46:56.135Z"
   },
   {
    "duration": 50,
    "start_time": "2021-11-15T14:46:56.161Z"
   },
   {
    "duration": 20,
    "start_time": "2021-11-15T14:46:56.212Z"
   },
   {
    "duration": 8,
    "start_time": "2021-11-15T14:46:56.234Z"
   },
   {
    "duration": 5,
    "start_time": "2021-11-15T14:46:56.244Z"
   },
   {
    "duration": 3371,
    "start_time": "2021-11-15T14:46:56.251Z"
   },
   {
    "duration": 3551,
    "start_time": "2021-11-15T14:46:59.625Z"
   },
   {
    "duration": 342,
    "start_time": "2021-11-15T14:47:03.178Z"
   },
   {
    "duration": 328,
    "start_time": "2021-11-15T14:47:03.522Z"
   },
   {
    "duration": 305,
    "start_time": "2021-11-15T14:47:03.852Z"
   },
   {
    "duration": 341,
    "start_time": "2021-11-15T14:47:04.159Z"
   },
   {
    "duration": 311,
    "start_time": "2021-11-15T14:47:04.502Z"
   },
   {
    "duration": 92,
    "start_time": "2021-11-15T14:47:04.815Z"
   },
   {
    "duration": 4,
    "start_time": "2021-11-15T14:47:04.908Z"
   },
   {
    "duration": 20,
    "start_time": "2021-11-15T14:47:04.914Z"
   },
   {
    "duration": 15,
    "start_time": "2021-11-15T14:47:04.935Z"
   },
   {
    "duration": 84,
    "start_time": "2021-11-15T14:47:04.952Z"
   },
   {
    "duration": 5,
    "start_time": "2021-11-15T14:47:05.038Z"
   },
   {
    "duration": 38,
    "start_time": "2021-11-15T14:47:05.045Z"
   },
   {
    "duration": 11,
    "start_time": "2021-11-15T14:47:05.085Z"
   },
   {
    "duration": 274,
    "start_time": "2021-11-15T14:47:05.098Z"
   },
   {
    "duration": 7,
    "start_time": "2021-11-15T14:47:05.374Z"
   },
   {
    "duration": 13,
    "start_time": "2021-11-15T14:47:05.391Z"
   },
   {
    "duration": 21,
    "start_time": "2021-11-15T14:47:05.407Z"
   },
   {
    "duration": 13,
    "start_time": "2021-11-15T14:47:05.430Z"
   },
   {
    "duration": 9,
    "start_time": "2021-11-15T14:47:05.445Z"
   },
   {
    "duration": 31,
    "start_time": "2021-11-15T14:47:05.456Z"
   },
   {
    "duration": 11,
    "start_time": "2021-11-15T14:47:05.489Z"
   },
   {
    "duration": 24,
    "start_time": "2021-11-15T14:47:05.502Z"
   },
   {
    "duration": 339,
    "start_time": "2021-11-15T14:47:05.527Z"
   },
   {
    "duration": 324,
    "start_time": "2021-11-15T14:47:05.867Z"
   },
   {
    "duration": 353,
    "start_time": "2021-11-15T14:47:06.193Z"
   },
   {
    "duration": 7,
    "start_time": "2021-11-15T14:47:06.548Z"
   },
   {
    "duration": 22,
    "start_time": "2021-11-15T14:47:06.557Z"
   },
   {
    "duration": 25,
    "start_time": "2021-11-15T14:47:06.580Z"
   },
   {
    "duration": 435,
    "start_time": "2021-11-15T18:01:51.457Z"
   },
   {
    "duration": 1366,
    "start_time": "2021-11-15T18:02:05.293Z"
   },
   {
    "duration": 3,
    "start_time": "2021-11-15T18:02:06.662Z"
   },
   {
    "duration": 2298,
    "start_time": "2021-11-15T18:02:06.668Z"
   },
   {
    "duration": 15,
    "start_time": "2021-11-15T18:02:08.969Z"
   },
   {
    "duration": 15,
    "start_time": "2021-11-15T18:02:08.986Z"
   },
   {
    "duration": 17,
    "start_time": "2021-11-15T18:02:09.003Z"
   },
   {
    "duration": 37,
    "start_time": "2021-11-15T18:02:09.023Z"
   },
   {
    "duration": 9,
    "start_time": "2021-11-15T18:02:09.064Z"
   },
   {
    "duration": 22,
    "start_time": "2021-11-15T18:02:09.076Z"
   },
   {
    "duration": 16,
    "start_time": "2021-11-15T18:02:09.101Z"
   },
   {
    "duration": 41,
    "start_time": "2021-11-15T18:02:09.121Z"
   },
   {
    "duration": 18,
    "start_time": "2021-11-15T18:02:09.165Z"
   },
   {
    "duration": 58,
    "start_time": "2021-11-15T18:02:09.186Z"
   },
   {
    "duration": 16,
    "start_time": "2021-11-15T18:02:09.259Z"
   },
   {
    "duration": 19,
    "start_time": "2021-11-15T18:02:09.277Z"
   },
   {
    "duration": 19,
    "start_time": "2021-11-15T18:02:09.299Z"
   },
   {
    "duration": 120,
    "start_time": "2021-11-15T18:02:09.320Z"
   },
   {
    "duration": 69,
    "start_time": "2021-11-15T18:02:09.443Z"
   },
   {
    "duration": 5,
    "start_time": "2021-11-15T18:02:09.514Z"
   },
   {
    "duration": 59,
    "start_time": "2021-11-15T18:02:09.522Z"
   },
   {
    "duration": 35,
    "start_time": "2021-11-15T18:02:09.583Z"
   },
   {
    "duration": 58,
    "start_time": "2021-11-15T18:02:09.621Z"
   },
   {
    "duration": 23,
    "start_time": "2021-11-15T18:02:09.685Z"
   },
   {
    "duration": 5,
    "start_time": "2021-11-15T18:02:09.711Z"
   },
   {
    "duration": 56,
    "start_time": "2021-11-15T18:02:09.719Z"
   },
   {
    "duration": 38,
    "start_time": "2021-11-15T18:02:09.777Z"
   },
   {
    "duration": 50,
    "start_time": "2021-11-15T18:02:09.817Z"
   },
   {
    "duration": 12,
    "start_time": "2021-11-15T18:02:09.869Z"
   },
   {
    "duration": 7,
    "start_time": "2021-11-15T18:02:09.883Z"
   },
   {
    "duration": 5767,
    "start_time": "2021-11-15T18:02:09.892Z"
   },
   {
    "duration": 6155,
    "start_time": "2021-11-15T18:02:15.661Z"
   },
   {
    "duration": 504,
    "start_time": "2021-11-15T18:02:21.818Z"
   },
   {
    "duration": 478,
    "start_time": "2021-11-15T18:02:22.324Z"
   },
   {
    "duration": 471,
    "start_time": "2021-11-15T18:02:22.804Z"
   },
   {
    "duration": 501,
    "start_time": "2021-11-15T18:02:23.277Z"
   },
   {
    "duration": 495,
    "start_time": "2021-11-15T18:02:23.781Z"
   },
   {
    "duration": 146,
    "start_time": "2021-11-15T18:02:24.278Z"
   },
   {
    "duration": 6,
    "start_time": "2021-11-15T18:02:24.426Z"
   },
   {
    "duration": 31,
    "start_time": "2021-11-15T18:02:24.434Z"
   },
   {
    "duration": 9,
    "start_time": "2021-11-15T18:02:24.467Z"
   },
   {
    "duration": 135,
    "start_time": "2021-11-15T18:02:24.478Z"
   },
   {
    "duration": 6,
    "start_time": "2021-11-15T18:02:24.615Z"
   },
   {
    "duration": 36,
    "start_time": "2021-11-15T18:02:24.623Z"
   },
   {
    "duration": 7,
    "start_time": "2021-11-15T18:02:24.661Z"
   },
   {
    "duration": 9600,
    "start_time": "2021-11-15T18:02:24.671Z"
   },
   {
    "duration": 7782,
    "start_time": "2021-11-15T18:02:26.493Z"
   },
   {
    "duration": 7775,
    "start_time": "2021-11-15T18:02:26.501Z"
   },
   {
    "duration": 7770,
    "start_time": "2021-11-15T18:02:26.509Z"
   },
   {
    "duration": 7766,
    "start_time": "2021-11-15T18:02:26.515Z"
   },
   {
    "duration": 7762,
    "start_time": "2021-11-15T18:02:26.521Z"
   },
   {
    "duration": 7758,
    "start_time": "2021-11-15T18:02:26.527Z"
   },
   {
    "duration": 7745,
    "start_time": "2021-11-15T18:02:26.543Z"
   },
   {
    "duration": 7741,
    "start_time": "2021-11-15T18:02:26.549Z"
   },
   {
    "duration": 7737,
    "start_time": "2021-11-15T18:02:26.555Z"
   },
   {
    "duration": 7733,
    "start_time": "2021-11-15T18:02:26.561Z"
   },
   {
    "duration": 7731,
    "start_time": "2021-11-15T18:02:26.566Z"
   },
   {
    "duration": 7726,
    "start_time": "2021-11-15T18:02:26.573Z"
   },
   {
    "duration": 7723,
    "start_time": "2021-11-15T18:02:26.578Z"
   },
   {
    "duration": 7720,
    "start_time": "2021-11-15T18:02:26.583Z"
   },
   {
    "duration": 7716,
    "start_time": "2021-11-15T18:02:26.589Z"
   },
   {
    "duration": 445,
    "start_time": "2021-11-15T18:06:35.267Z"
   },
   {
    "duration": 418,
    "start_time": "2021-11-15T18:08:11.181Z"
   },
   {
    "duration": 442,
    "start_time": "2021-11-15T18:08:28.245Z"
   },
   {
    "duration": 500,
    "start_time": "2021-11-15T18:09:10.846Z"
   },
   {
    "duration": 782,
    "start_time": "2021-11-15T18:09:30.457Z"
   },
   {
    "duration": 424,
    "start_time": "2021-11-15T18:09:49.916Z"
   },
   {
    "duration": 436,
    "start_time": "2021-11-15T18:10:00.788Z"
   },
   {
    "duration": 432,
    "start_time": "2021-11-15T18:11:09.327Z"
   },
   {
    "duration": 455,
    "start_time": "2021-11-15T18:11:52.821Z"
   },
   {
    "duration": 433,
    "start_time": "2021-11-15T18:12:17.598Z"
   },
   {
    "duration": 428,
    "start_time": "2021-11-15T18:12:54.633Z"
   },
   {
    "duration": 459,
    "start_time": "2021-11-15T18:17:34.043Z"
   },
   {
    "duration": 1706,
    "start_time": "2021-11-15T18:17:59.042Z"
   },
   {
    "duration": 3,
    "start_time": "2021-11-15T18:18:00.750Z"
   },
   {
    "duration": 2421,
    "start_time": "2021-11-15T18:18:00.756Z"
   },
   {
    "duration": 16,
    "start_time": "2021-11-15T18:18:03.180Z"
   },
   {
    "duration": 36,
    "start_time": "2021-11-15T18:18:03.198Z"
   },
   {
    "duration": 25,
    "start_time": "2021-11-15T18:18:03.237Z"
   },
   {
    "duration": 14,
    "start_time": "2021-11-15T18:18:03.265Z"
   },
   {
    "duration": 15,
    "start_time": "2021-11-15T18:18:03.282Z"
   },
   {
    "duration": 11,
    "start_time": "2021-11-15T18:18:03.303Z"
   },
   {
    "duration": 55,
    "start_time": "2021-11-15T18:18:03.319Z"
   },
   {
    "duration": 10,
    "start_time": "2021-11-15T18:18:03.377Z"
   },
   {
    "duration": 22,
    "start_time": "2021-11-15T18:18:03.390Z"
   },
   {
    "duration": 95,
    "start_time": "2021-11-15T18:18:03.414Z"
   },
   {
    "duration": 19,
    "start_time": "2021-11-15T18:18:03.512Z"
   },
   {
    "duration": 39,
    "start_time": "2021-11-15T18:18:03.534Z"
   },
   {
    "duration": 16,
    "start_time": "2021-11-15T18:18:03.576Z"
   },
   {
    "duration": 101,
    "start_time": "2021-11-15T18:18:03.594Z"
   },
   {
    "duration": 80,
    "start_time": "2021-11-15T18:18:03.698Z"
   },
   {
    "duration": 7,
    "start_time": "2021-11-15T18:18:03.781Z"
   },
   {
    "duration": 42,
    "start_time": "2021-11-15T18:18:03.790Z"
   },
   {
    "duration": 52,
    "start_time": "2021-11-15T18:18:03.834Z"
   },
   {
    "duration": 36,
    "start_time": "2021-11-15T18:18:03.888Z"
   },
   {
    "duration": 45,
    "start_time": "2021-11-15T18:18:03.927Z"
   },
   {
    "duration": 5,
    "start_time": "2021-11-15T18:18:03.974Z"
   },
   {
    "duration": 36,
    "start_time": "2021-11-15T18:18:03.982Z"
   },
   {
    "duration": 66,
    "start_time": "2021-11-15T18:18:04.021Z"
   },
   {
    "duration": 34,
    "start_time": "2021-11-15T18:18:04.093Z"
   },
   {
    "duration": 36,
    "start_time": "2021-11-15T18:18:04.130Z"
   },
   {
    "duration": 5,
    "start_time": "2021-11-15T18:18:04.169Z"
   },
   {
    "duration": 5987,
    "start_time": "2021-11-15T18:18:04.177Z"
   },
   {
    "duration": 6880,
    "start_time": "2021-11-15T18:18:10.167Z"
   },
   {
    "duration": 512,
    "start_time": "2021-11-15T18:18:17.050Z"
   },
   {
    "duration": 481,
    "start_time": "2021-11-15T18:18:17.564Z"
   },
   {
    "duration": 469,
    "start_time": "2021-11-15T18:18:18.047Z"
   },
   {
    "duration": 508,
    "start_time": "2021-11-15T18:18:18.518Z"
   },
   {
    "duration": 485,
    "start_time": "2021-11-15T18:18:19.028Z"
   },
   {
    "duration": 146,
    "start_time": "2021-11-15T18:18:19.516Z"
   },
   {
    "duration": 5,
    "start_time": "2021-11-15T18:18:19.665Z"
   },
   {
    "duration": 22,
    "start_time": "2021-11-15T18:18:19.672Z"
   },
   {
    "duration": 9,
    "start_time": "2021-11-15T18:18:19.697Z"
   },
   {
    "duration": 150,
    "start_time": "2021-11-15T18:18:19.709Z"
   },
   {
    "duration": 6,
    "start_time": "2021-11-15T18:18:19.862Z"
   },
   {
    "duration": 20,
    "start_time": "2021-11-15T18:18:19.870Z"
   },
   {
    "duration": 8,
    "start_time": "2021-11-15T18:18:19.892Z"
   },
   {
    "duration": 473,
    "start_time": "2021-11-15T18:18:19.903Z"
   },
   {
    "duration": 450,
    "start_time": "2021-11-15T18:18:20.380Z"
   },
   {
    "duration": 545,
    "start_time": "2021-11-15T18:18:20.832Z"
   },
   {
    "duration": 524,
    "start_time": "2021-11-15T18:18:21.379Z"
   },
   {
    "duration": 370,
    "start_time": "2021-11-15T18:18:21.905Z"
   },
   {
    "duration": 11,
    "start_time": "2021-11-15T18:18:22.278Z"
   },
   {
    "duration": 8,
    "start_time": "2021-11-15T18:18:22.291Z"
   },
   {
    "duration": 14,
    "start_time": "2021-11-15T18:18:22.301Z"
   },
   {
    "duration": 43,
    "start_time": "2021-11-15T18:18:22.318Z"
   },
   {
    "duration": 9,
    "start_time": "2021-11-15T18:18:22.363Z"
   },
   {
    "duration": 44,
    "start_time": "2021-11-15T18:18:22.374Z"
   },
   {
    "duration": 11,
    "start_time": "2021-11-15T18:18:22.420Z"
   },
   {
    "duration": 6,
    "start_time": "2021-11-15T18:18:22.460Z"
   },
   {
    "duration": 529,
    "start_time": "2021-11-15T18:18:22.469Z"
   },
   {
    "duration": 499,
    "start_time": "2021-11-15T18:18:23.000Z"
   },
   {
    "duration": 462,
    "start_time": "2021-11-15T18:18:23.502Z"
   },
   {
    "duration": 10,
    "start_time": "2021-11-15T18:18:23.966Z"
   },
   {
    "duration": 12,
    "start_time": "2021-11-15T18:18:23.978Z"
   },
   {
    "duration": 10,
    "start_time": "2021-11-15T18:18:23.992Z"
   },
   {
    "duration": 615,
    "start_time": "2021-11-15T18:21:24.373Z"
   },
   {
    "duration": 207,
    "start_time": "2021-11-15T18:22:55.492Z"
   },
   {
    "duration": 310,
    "start_time": "2021-11-15T18:23:01.211Z"
   },
   {
    "duration": 315,
    "start_time": "2021-11-15T18:23:20.973Z"
   },
   {
    "duration": 317,
    "start_time": "2021-11-15T18:23:43.181Z"
   },
   {
    "duration": 1422,
    "start_time": "2021-11-15T18:47:45.103Z"
   },
   {
    "duration": 3,
    "start_time": "2021-11-15T18:47:46.528Z"
   },
   {
    "duration": 1229,
    "start_time": "2021-11-15T18:47:46.534Z"
   },
   {
    "duration": 15,
    "start_time": "2021-11-15T18:47:47.765Z"
   },
   {
    "duration": 14,
    "start_time": "2021-11-15T18:47:47.782Z"
   },
   {
    "duration": 18,
    "start_time": "2021-11-15T18:47:47.799Z"
   },
   {
    "duration": 44,
    "start_time": "2021-11-15T18:47:47.820Z"
   },
   {
    "duration": 9,
    "start_time": "2021-11-15T18:47:47.868Z"
   },
   {
    "duration": 13,
    "start_time": "2021-11-15T18:47:47.880Z"
   },
   {
    "duration": 19,
    "start_time": "2021-11-15T18:47:47.895Z"
   },
   {
    "duration": 10,
    "start_time": "2021-11-15T18:47:47.916Z"
   },
   {
    "duration": 11,
    "start_time": "2021-11-15T18:47:47.960Z"
   },
   {
    "duration": 58,
    "start_time": "2021-11-15T18:47:47.973Z"
   },
   {
    "duration": 34,
    "start_time": "2021-11-15T18:47:48.034Z"
   },
   {
    "duration": 18,
    "start_time": "2021-11-15T18:47:48.070Z"
   },
   {
    "duration": 19,
    "start_time": "2021-11-15T18:47:48.091Z"
   },
   {
    "duration": 112,
    "start_time": "2021-11-15T18:47:48.113Z"
   },
   {
    "duration": 100,
    "start_time": "2021-11-15T18:47:48.227Z"
   },
   {
    "duration": 75,
    "start_time": "2021-11-15T18:47:48.330Z"
   },
   {
    "duration": 4,
    "start_time": "2021-11-15T18:47:48.408Z"
   },
   {
    "duration": 52,
    "start_time": "2021-11-15T18:47:48.415Z"
   },
   {
    "duration": 32,
    "start_time": "2021-11-15T18:47:48.469Z"
   },
   {
    "duration": 54,
    "start_time": "2021-11-15T18:47:48.507Z"
   },
   {
    "duration": 22,
    "start_time": "2021-11-15T18:47:48.565Z"
   },
   {
    "duration": 5,
    "start_time": "2021-11-15T18:47:48.589Z"
   },
   {
    "duration": 66,
    "start_time": "2021-11-15T18:47:48.597Z"
   },
   {
    "duration": 38,
    "start_time": "2021-11-15T18:47:48.665Z"
   },
   {
    "duration": 56,
    "start_time": "2021-11-15T18:47:48.705Z"
   },
   {
    "duration": 13,
    "start_time": "2021-11-15T18:47:48.763Z"
   },
   {
    "duration": 18,
    "start_time": "2021-11-15T18:47:48.779Z"
   },
   {
    "duration": 5912,
    "start_time": "2021-11-15T18:47:48.799Z"
   },
   {
    "duration": 6942,
    "start_time": "2021-11-15T18:47:54.713Z"
   },
   {
    "duration": 518,
    "start_time": "2021-11-15T18:48:01.660Z"
   },
   {
    "duration": 493,
    "start_time": "2021-11-15T18:48:02.180Z"
   },
   {
    "duration": 474,
    "start_time": "2021-11-15T18:48:02.675Z"
   },
   {
    "duration": 498,
    "start_time": "2021-11-15T18:48:03.152Z"
   },
   {
    "duration": 494,
    "start_time": "2021-11-15T18:48:03.653Z"
   },
   {
    "duration": 140,
    "start_time": "2021-11-15T18:48:04.149Z"
   },
   {
    "duration": 7,
    "start_time": "2021-11-15T18:48:04.291Z"
   },
   {
    "duration": 25,
    "start_time": "2021-11-15T18:48:04.300Z"
   },
   {
    "duration": 14,
    "start_time": "2021-11-15T18:48:04.327Z"
   },
   {
    "duration": 144,
    "start_time": "2021-11-15T18:48:04.343Z"
   },
   {
    "duration": 5,
    "start_time": "2021-11-15T18:48:04.489Z"
   },
   {
    "duration": 21,
    "start_time": "2021-11-15T18:48:04.497Z"
   },
   {
    "duration": 8,
    "start_time": "2021-11-15T18:48:04.521Z"
   },
   {
    "duration": 476,
    "start_time": "2021-11-15T18:48:04.531Z"
   },
   {
    "duration": 453,
    "start_time": "2021-11-15T18:48:05.009Z"
   },
   {
    "duration": 583,
    "start_time": "2021-11-15T18:48:05.465Z"
   },
   {
    "duration": 527,
    "start_time": "2021-11-15T18:48:06.059Z"
   },
   {
    "duration": 400,
    "start_time": "2021-11-15T18:48:06.589Z"
   },
   {
    "duration": 12,
    "start_time": "2021-11-15T18:48:06.991Z"
   },
   {
    "duration": 8,
    "start_time": "2021-11-15T18:48:07.005Z"
   },
   {
    "duration": 15,
    "start_time": "2021-11-15T18:48:07.016Z"
   },
   {
    "duration": 30,
    "start_time": "2021-11-15T18:48:07.033Z"
   },
   {
    "duration": 10,
    "start_time": "2021-11-15T18:48:07.065Z"
   },
   {
    "duration": 50,
    "start_time": "2021-11-15T18:48:07.077Z"
   },
   {
    "duration": 41,
    "start_time": "2021-11-15T18:48:07.129Z"
   },
   {
    "duration": 8,
    "start_time": "2021-11-15T18:48:07.172Z"
   },
   {
    "duration": 342,
    "start_time": "2021-11-15T18:48:07.183Z"
   },
   {
    "duration": 671,
    "start_time": "2021-11-15T18:48:07.528Z"
   },
   {
    "duration": 568,
    "start_time": "2021-11-15T18:48:08.203Z"
   },
   {
    "duration": 549,
    "start_time": "2021-11-15T18:48:08.774Z"
   },
   {
    "duration": 11,
    "start_time": "2021-11-15T18:48:09.325Z"
   },
   {
    "duration": 31,
    "start_time": "2021-11-15T18:48:09.338Z"
   },
   {
    "duration": 13,
    "start_time": "2021-11-15T18:48:09.373Z"
   },
   {
    "duration": 9,
    "start_time": "2021-11-15T18:53:20.182Z"
   },
   {
    "duration": 604,
    "start_time": "2021-11-15T18:53:20.194Z"
   },
   {
    "duration": 627,
    "start_time": "2021-11-15T18:53:20.802Z"
   },
   {
    "duration": 157,
    "start_time": "2021-11-15T18:53:21.432Z"
   },
   {
    "duration": 7,
    "start_time": "2021-11-15T18:53:21.591Z"
   },
   {
    "duration": 31,
    "start_time": "2021-11-15T18:53:21.601Z"
   },
   {
    "duration": 27,
    "start_time": "2021-11-15T18:53:21.635Z"
   },
   {
    "duration": 615,
    "start_time": "2021-11-15T18:53:21.666Z"
   },
   {
    "duration": 775,
    "start_time": "2021-11-15T18:53:22.290Z"
   },
   {
    "duration": 495,
    "start_time": "2021-11-15T18:53:23.069Z"
   },
   {
    "duration": 16,
    "start_time": "2021-11-15T18:53:23.568Z"
   },
   {
    "duration": 10,
    "start_time": "2021-11-15T18:53:23.587Z"
   },
   {
    "duration": 28,
    "start_time": "2021-11-15T18:53:23.600Z"
   },
   {
    "duration": 13,
    "start_time": "2021-11-15T18:53:23.632Z"
   },
   {
    "duration": 12,
    "start_time": "2021-11-15T18:53:23.648Z"
   },
   {
    "duration": 88,
    "start_time": "2021-11-15T18:53:23.664Z"
   },
   {
    "duration": 25,
    "start_time": "2021-11-15T18:53:23.755Z"
   },
   {
    "duration": 23,
    "start_time": "2021-11-15T18:53:23.789Z"
   },
   {
    "duration": 979,
    "start_time": "2021-11-15T18:53:23.815Z"
   },
   {
    "duration": 714,
    "start_time": "2021-11-15T18:53:24.796Z"
   },
   {
    "duration": 582,
    "start_time": "2021-11-15T18:53:25.513Z"
   },
   {
    "duration": 552,
    "start_time": "2021-11-15T18:53:26.098Z"
   },
   {
    "duration": 21,
    "start_time": "2021-11-15T18:53:26.660Z"
   },
   {
    "duration": 16,
    "start_time": "2021-11-15T18:53:26.684Z"
   },
   {
    "duration": 18,
    "start_time": "2021-11-15T18:53:26.702Z"
   },
   {
    "duration": 1364,
    "start_time": "2021-11-15T19:01:03.459Z"
   },
   {
    "duration": 4,
    "start_time": "2021-11-15T19:01:04.825Z"
   },
   {
    "duration": 2391,
    "start_time": "2021-11-15T19:01:04.831Z"
   },
   {
    "duration": 18,
    "start_time": "2021-11-15T19:01:07.225Z"
   },
   {
    "duration": 14,
    "start_time": "2021-11-15T19:01:07.246Z"
   },
   {
    "duration": 17,
    "start_time": "2021-11-15T19:01:07.263Z"
   },
   {
    "duration": 17,
    "start_time": "2021-11-15T19:01:07.282Z"
   },
   {
    "duration": 10,
    "start_time": "2021-11-15T19:01:07.303Z"
   },
   {
    "duration": 43,
    "start_time": "2021-11-15T19:01:07.316Z"
   },
   {
    "duration": 15,
    "start_time": "2021-11-15T19:01:07.362Z"
   },
   {
    "duration": 10,
    "start_time": "2021-11-15T19:01:07.380Z"
   },
   {
    "duration": 12,
    "start_time": "2021-11-15T19:01:07.392Z"
   },
   {
    "duration": 95,
    "start_time": "2021-11-15T19:01:07.407Z"
   },
   {
    "duration": 17,
    "start_time": "2021-11-15T19:01:07.504Z"
   },
   {
    "duration": 16,
    "start_time": "2021-11-15T19:01:07.524Z"
   },
   {
    "duration": 17,
    "start_time": "2021-11-15T19:01:07.559Z"
   },
   {
    "duration": 96,
    "start_time": "2021-11-15T19:01:07.579Z"
   },
   {
    "duration": 61,
    "start_time": "2021-11-15T19:01:07.677Z"
   },
   {
    "duration": 89,
    "start_time": "2021-11-15T19:01:07.741Z"
   },
   {
    "duration": 77,
    "start_time": "2021-11-15T19:01:07.833Z"
   },
   {
    "duration": 5,
    "start_time": "2021-11-15T19:01:07.913Z"
   },
   {
    "duration": 60,
    "start_time": "2021-11-15T19:01:07.920Z"
   },
   {
    "duration": 38,
    "start_time": "2021-11-15T19:01:07.985Z"
   },
   {
    "duration": 59,
    "start_time": "2021-11-15T19:01:08.027Z"
   },
   {
    "duration": 22,
    "start_time": "2021-11-15T19:01:08.088Z"
   },
   {
    "duration": 5,
    "start_time": "2021-11-15T19:01:08.112Z"
   },
   {
    "duration": 55,
    "start_time": "2021-11-15T19:01:08.120Z"
   },
   {
    "duration": 39,
    "start_time": "2021-11-15T19:01:08.178Z"
   },
   {
    "duration": 56,
    "start_time": "2021-11-15T19:01:08.220Z"
   },
   {
    "duration": 13,
    "start_time": "2021-11-15T19:01:08.279Z"
   },
   {
    "duration": 6,
    "start_time": "2021-11-15T19:01:08.295Z"
   },
   {
    "duration": 6656,
    "start_time": "2021-11-15T19:01:08.304Z"
   },
   {
    "duration": 6861,
    "start_time": "2021-11-15T19:01:14.962Z"
   },
   {
    "duration": 528,
    "start_time": "2021-11-15T19:01:21.825Z"
   },
   {
    "duration": 690,
    "start_time": "2021-11-15T19:01:22.358Z"
   },
   {
    "duration": 575,
    "start_time": "2021-11-15T19:01:23.050Z"
   },
   {
    "duration": 509,
    "start_time": "2021-11-15T19:01:23.627Z"
   },
   {
    "duration": 494,
    "start_time": "2021-11-15T19:01:24.138Z"
   },
   {
    "duration": 142,
    "start_time": "2021-11-15T19:01:24.635Z"
   },
   {
    "duration": 6,
    "start_time": "2021-11-15T19:01:24.780Z"
   },
   {
    "duration": 20,
    "start_time": "2021-11-15T19:01:24.788Z"
   },
   {
    "duration": 8,
    "start_time": "2021-11-15T19:01:24.811Z"
   },
   {
    "duration": 745,
    "start_time": "2021-11-15T19:01:24.821Z"
   },
   {
    "duration": 469,
    "start_time": "2021-11-15T19:01:25.569Z"
   },
   {
    "duration": 146,
    "start_time": "2021-11-15T19:01:26.040Z"
   },
   {
    "duration": 6,
    "start_time": "2021-11-15T19:01:26.189Z"
   },
   {
    "duration": 23,
    "start_time": "2021-11-15T19:01:26.198Z"
   },
   {
    "duration": 9,
    "start_time": "2021-11-15T19:01:26.224Z"
   },
   {
    "duration": 580,
    "start_time": "2021-11-15T19:01:26.235Z"
   },
   {
    "duration": 521,
    "start_time": "2021-11-15T19:01:26.817Z"
   },
   {
    "duration": 385,
    "start_time": "2021-11-15T19:01:27.340Z"
   },
   {
    "duration": 12,
    "start_time": "2021-11-15T19:01:27.729Z"
   },
   {
    "duration": 19,
    "start_time": "2021-11-15T19:01:27.744Z"
   },
   {
    "duration": 17,
    "start_time": "2021-11-15T19:01:27.766Z"
   },
   {
    "duration": 13,
    "start_time": "2021-11-15T19:01:27.785Z"
   },
   {
    "duration": 9,
    "start_time": "2021-11-15T19:01:27.800Z"
   },
   {
    "duration": 90,
    "start_time": "2021-11-15T19:01:27.812Z"
   },
   {
    "duration": 12,
    "start_time": "2021-11-15T19:01:27.905Z"
   },
   {
    "duration": 13,
    "start_time": "2021-11-15T19:01:27.920Z"
   },
   {
    "duration": 334,
    "start_time": "2021-11-15T19:01:27.960Z"
   },
   {
    "duration": 528,
    "start_time": "2021-11-15T19:01:28.296Z"
   },
   {
    "duration": 525,
    "start_time": "2021-11-15T19:01:28.826Z"
   },
   {
    "duration": 450,
    "start_time": "2021-11-15T19:01:29.360Z"
   },
   {
    "duration": 10,
    "start_time": "2021-11-15T19:01:29.813Z"
   },
   {
    "duration": 34,
    "start_time": "2021-11-15T19:01:29.825Z"
   },
   {
    "duration": 14,
    "start_time": "2021-11-15T19:01:29.862Z"
   },
   {
    "duration": 1481,
    "start_time": "2021-11-16T07:35:14.813Z"
   },
   {
    "duration": 3,
    "start_time": "2021-11-16T07:35:16.297Z"
   },
   {
    "duration": 1404,
    "start_time": "2021-11-16T07:35:16.303Z"
   },
   {
    "duration": 15,
    "start_time": "2021-11-16T07:35:17.710Z"
   },
   {
    "duration": 22,
    "start_time": "2021-11-16T07:35:17.727Z"
   },
   {
    "duration": 18,
    "start_time": "2021-11-16T07:35:17.751Z"
   },
   {
    "duration": 11,
    "start_time": "2021-11-16T07:35:17.771Z"
   },
   {
    "duration": 11,
    "start_time": "2021-11-16T07:35:17.784Z"
   },
   {
    "duration": 11,
    "start_time": "2021-11-16T07:35:17.832Z"
   },
   {
    "duration": 15,
    "start_time": "2021-11-16T07:35:17.846Z"
   },
   {
    "duration": 9,
    "start_time": "2021-11-16T07:35:17.863Z"
   },
   {
    "duration": 71,
    "start_time": "2021-11-16T07:35:17.875Z"
   },
   {
    "duration": 61,
    "start_time": "2021-11-16T07:35:17.948Z"
   },
   {
    "duration": 16,
    "start_time": "2021-11-16T07:35:18.011Z"
   },
   {
    "duration": 17,
    "start_time": "2021-11-16T07:35:18.029Z"
   },
   {
    "duration": 18,
    "start_time": "2021-11-16T07:35:18.048Z"
   },
   {
    "duration": 109,
    "start_time": "2021-11-16T07:35:18.068Z"
   },
   {
    "duration": 70,
    "start_time": "2021-11-16T07:35:18.180Z"
   },
   {
    "duration": 92,
    "start_time": "2021-11-16T07:35:18.253Z"
   },
   {
    "duration": 65,
    "start_time": "2021-11-16T07:35:18.348Z"
   },
   {
    "duration": 15,
    "start_time": "2021-11-16T07:35:18.415Z"
   },
   {
    "duration": 46,
    "start_time": "2021-11-16T07:35:18.432Z"
   },
   {
    "duration": 54,
    "start_time": "2021-11-16T07:35:18.480Z"
   },
   {
    "duration": 38,
    "start_time": "2021-11-16T07:35:18.537Z"
   },
   {
    "duration": 23,
    "start_time": "2021-11-16T07:35:18.577Z"
   },
   {
    "duration": 29,
    "start_time": "2021-11-16T07:35:18.602Z"
   },
   {
    "duration": 42,
    "start_time": "2021-11-16T07:35:18.639Z"
   },
   {
    "duration": 70,
    "start_time": "2021-11-16T07:35:18.684Z"
   },
   {
    "duration": 30,
    "start_time": "2021-11-16T07:35:18.756Z"
   },
   {
    "duration": 13,
    "start_time": "2021-11-16T07:35:18.788Z"
   },
   {
    "duration": 27,
    "start_time": "2021-11-16T07:35:18.804Z"
   },
   {
    "duration": 6340,
    "start_time": "2021-11-16T07:35:18.834Z"
   },
   {
    "duration": 6534,
    "start_time": "2021-11-16T07:35:25.177Z"
   },
   {
    "duration": 525,
    "start_time": "2021-11-16T07:35:31.713Z"
   },
   {
    "duration": 543,
    "start_time": "2021-11-16T07:35:32.241Z"
   },
   {
    "duration": 495,
    "start_time": "2021-11-16T07:35:32.786Z"
   },
   {
    "duration": 495,
    "start_time": "2021-11-16T07:35:33.283Z"
   },
   {
    "duration": 601,
    "start_time": "2021-11-16T07:35:33.781Z"
   },
   {
    "duration": 221,
    "start_time": "2021-11-16T07:35:34.385Z"
   },
   {
    "duration": 8,
    "start_time": "2021-11-16T07:35:34.609Z"
   },
   {
    "duration": 25,
    "start_time": "2021-11-16T07:35:34.619Z"
   },
   {
    "duration": 9,
    "start_time": "2021-11-16T07:35:34.646Z"
   },
   {
    "duration": 467,
    "start_time": "2021-11-16T07:35:34.657Z"
   },
   {
    "duration": 459,
    "start_time": "2021-11-16T07:35:35.129Z"
   },
   {
    "duration": 146,
    "start_time": "2021-11-16T07:35:35.590Z"
   },
   {
    "duration": 6,
    "start_time": "2021-11-16T07:35:35.739Z"
   },
   {
    "duration": 37,
    "start_time": "2021-11-16T07:35:35.748Z"
   },
   {
    "duration": 12,
    "start_time": "2021-11-16T07:35:35.788Z"
   },
   {
    "duration": 456,
    "start_time": "2021-11-16T07:35:35.802Z"
   },
   {
    "duration": 617,
    "start_time": "2021-11-16T07:35:36.261Z"
   },
   {
    "duration": 410,
    "start_time": "2021-11-16T07:35:36.881Z"
   },
   {
    "duration": 11,
    "start_time": "2021-11-16T07:35:37.293Z"
   },
   {
    "duration": 24,
    "start_time": "2021-11-16T07:35:37.306Z"
   },
   {
    "duration": 13,
    "start_time": "2021-11-16T07:35:37.333Z"
   },
   {
    "duration": 11,
    "start_time": "2021-11-16T07:35:37.348Z"
   },
   {
    "duration": 10,
    "start_time": "2021-11-16T07:35:37.362Z"
   },
   {
    "duration": 74,
    "start_time": "2021-11-16T07:35:37.375Z"
   },
   {
    "duration": 11,
    "start_time": "2021-11-16T07:35:37.451Z"
   },
   {
    "duration": 16,
    "start_time": "2021-11-16T07:35:37.464Z"
   },
   {
    "duration": 359,
    "start_time": "2021-11-16T07:35:37.482Z"
   },
   {
    "duration": 534,
    "start_time": "2021-11-16T07:35:37.845Z"
   },
   {
    "duration": 520,
    "start_time": "2021-11-16T07:35:38.382Z"
   },
   {
    "duration": 484,
    "start_time": "2021-11-16T07:35:38.905Z"
   },
   {
    "duration": 11,
    "start_time": "2021-11-16T07:35:39.393Z"
   },
   {
    "duration": 27,
    "start_time": "2021-11-16T07:35:39.406Z"
   },
   {
    "duration": 23,
    "start_time": "2021-11-16T07:35:39.435Z"
   }
  ],
  "kernelspec": {
   "display_name": "Python 3",
   "language": "python",
   "name": "python3"
  },
  "language_info": {
   "codemirror_mode": {
    "name": "ipython",
    "version": 3
   },
   "file_extension": ".py",
   "mimetype": "text/x-python",
   "name": "python",
   "nbconvert_exporter": "python",
   "pygments_lexer": "ipython3",
   "version": "3.8.8"
  },
  "toc": {
   "base_numbering": 1,
   "nav_menu": {},
   "number_sections": true,
   "sideBar": true,
   "skip_h1_title": true,
   "title_cell": "Table of Contents",
   "title_sidebar": "Contents",
   "toc_cell": false,
   "toc_position": {
    "height": "calc(100% - 180px)",
    "left": "10px",
    "top": "150px",
    "width": "310.865px"
   },
   "toc_section_display": true,
   "toc_window_display": false
  }
 },
 "nbformat": 4,
 "nbformat_minor": 4
}
