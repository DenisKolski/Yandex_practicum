{
 "cells": [
  {
   "cell_type": "markdown",
   "metadata": {},
   "source": [
    "# Определение стоимости автомобилей"
   ]
  },
  {
   "cell_type": "markdown",
   "metadata": {},
   "source": [
    "Сервис по продаже автомобилей с пробегом «Не бит, не крашен» разрабатывает приложение для привлечения новых клиентов. В нём можно быстро узнать рыночную стоимость своего автомобиля. В вашем распоряжении исторические данные: технические характеристики, комплектации и цены автомобилей. Вам нужно построить модель для определения стоимости. \n",
    "\n",
    "Заказчику важны:\n",
    "\n",
    "- качество предсказания;\n",
    "- скорость предсказания;\n",
    "- время обучения."
   ]
  },
  {
   "cell_type": "markdown",
   "metadata": {},
   "source": [
    "## Подготовка данных"
   ]
  },
  {
   "cell_type": "code",
   "execution_count": 1,
   "metadata": {},
   "outputs": [],
   "source": [
    "from catboost import CatBoostRegressor\n",
    "\n",
    "import lightgbm as lgb\n",
    "from lightgbm import LGBMRegressor\n",
    "\n",
    "from math import sqrt\n",
    "import matplotlib.pyplot as plt\n",
    "import numpy as np\n",
    "import pandas as pd\n",
    "\n",
    "from sklearn.dummy import DummyRegressor\n",
    "from sklearn.metrics import mean_squared_error\n",
    "from sklearn.linear_model import LinearRegression\n",
    "from sklearn.model_selection import train_test_split\n",
    "from sklearn.preprocessing import StandardScaler\n",
    "\n",
    "import time\n",
    "\n",
    "import warnings\n",
    "warnings.filterwarnings(\"ignore\")\n",
    "\n",
    "from IPython.display import display, HTML, Image"
   ]
  },
  {
   "cell_type": "code",
   "execution_count": 2,
   "metadata": {},
   "outputs": [],
   "source": [
    "df= pd.read_csv('datasets/autos.csv')"
   ]
  },
  {
   "cell_type": "markdown",
   "metadata": {},
   "source": [
    "### Анализ данных"
   ]
  },
  {
   "cell_type": "code",
   "execution_count": 3,
   "metadata": {},
   "outputs": [
    {
     "data": {
      "text/html": [
       "<div>\n",
       "<style scoped>\n",
       "    .dataframe tbody tr th:only-of-type {\n",
       "        vertical-align: middle;\n",
       "    }\n",
       "\n",
       "    .dataframe tbody tr th {\n",
       "        vertical-align: top;\n",
       "    }\n",
       "\n",
       "    .dataframe thead th {\n",
       "        text-align: right;\n",
       "    }\n",
       "</style>\n",
       "<table border=\"1\" class=\"dataframe\">\n",
       "  <thead>\n",
       "    <tr style=\"text-align: right;\">\n",
       "      <th></th>\n",
       "      <th>DateCrawled</th>\n",
       "      <th>Price</th>\n",
       "      <th>VehicleType</th>\n",
       "      <th>RegistrationYear</th>\n",
       "      <th>Gearbox</th>\n",
       "      <th>Power</th>\n",
       "      <th>Model</th>\n",
       "      <th>Kilometer</th>\n",
       "      <th>RegistrationMonth</th>\n",
       "      <th>FuelType</th>\n",
       "      <th>Brand</th>\n",
       "      <th>NotRepaired</th>\n",
       "      <th>DateCreated</th>\n",
       "      <th>NumberOfPictures</th>\n",
       "      <th>PostalCode</th>\n",
       "      <th>LastSeen</th>\n",
       "    </tr>\n",
       "  </thead>\n",
       "  <tbody>\n",
       "    <tr>\n",
       "      <td>21108</td>\n",
       "      <td>2016-03-08 14:57:26</td>\n",
       "      <td>1900</td>\n",
       "      <td>coupe</td>\n",
       "      <td>1990</td>\n",
       "      <td>manual</td>\n",
       "      <td>0</td>\n",
       "      <td>scirocco</td>\n",
       "      <td>150000</td>\n",
       "      <td>0</td>\n",
       "      <td>petrol</td>\n",
       "      <td>volkswagen</td>\n",
       "      <td>yes</td>\n",
       "      <td>2016-03-08 00:00:00</td>\n",
       "      <td>0</td>\n",
       "      <td>32479</td>\n",
       "      <td>2016-04-06 03:44:49</td>\n",
       "    </tr>\n",
       "    <tr>\n",
       "      <td>273474</td>\n",
       "      <td>2016-03-15 19:56:21</td>\n",
       "      <td>1950</td>\n",
       "      <td>bus</td>\n",
       "      <td>2004</td>\n",
       "      <td>auto</td>\n",
       "      <td>131</td>\n",
       "      <td>other</td>\n",
       "      <td>125000</td>\n",
       "      <td>3</td>\n",
       "      <td>petrol</td>\n",
       "      <td>mazda</td>\n",
       "      <td>no</td>\n",
       "      <td>2016-03-15 00:00:00</td>\n",
       "      <td>0</td>\n",
       "      <td>68239</td>\n",
       "      <td>2016-03-15 19:56:21</td>\n",
       "    </tr>\n",
       "    <tr>\n",
       "      <td>218261</td>\n",
       "      <td>2016-03-11 11:56:11</td>\n",
       "      <td>950</td>\n",
       "      <td>sedan</td>\n",
       "      <td>1997</td>\n",
       "      <td>manual</td>\n",
       "      <td>90</td>\n",
       "      <td>megane</td>\n",
       "      <td>125000</td>\n",
       "      <td>11</td>\n",
       "      <td>petrol</td>\n",
       "      <td>renault</td>\n",
       "      <td>no</td>\n",
       "      <td>2016-03-11 00:00:00</td>\n",
       "      <td>0</td>\n",
       "      <td>8393</td>\n",
       "      <td>2016-03-12 16:19:01</td>\n",
       "    </tr>\n",
       "    <tr>\n",
       "      <td>87503</td>\n",
       "      <td>2016-04-03 18:38:29</td>\n",
       "      <td>7900</td>\n",
       "      <td>sedan</td>\n",
       "      <td>2006</td>\n",
       "      <td>auto</td>\n",
       "      <td>115</td>\n",
       "      <td>golf</td>\n",
       "      <td>60000</td>\n",
       "      <td>2</td>\n",
       "      <td>petrol</td>\n",
       "      <td>volkswagen</td>\n",
       "      <td>yes</td>\n",
       "      <td>2016-04-03 00:00:00</td>\n",
       "      <td>0</td>\n",
       "      <td>27356</td>\n",
       "      <td>2016-04-03 18:38:29</td>\n",
       "    </tr>\n",
       "    <tr>\n",
       "      <td>110486</td>\n",
       "      <td>2016-03-05 19:53:31</td>\n",
       "      <td>6900</td>\n",
       "      <td>sedan</td>\n",
       "      <td>2007</td>\n",
       "      <td>manual</td>\n",
       "      <td>105</td>\n",
       "      <td>beetle</td>\n",
       "      <td>100000</td>\n",
       "      <td>1</td>\n",
       "      <td>gasoline</td>\n",
       "      <td>volkswagen</td>\n",
       "      <td>no</td>\n",
       "      <td>2016-03-05 00:00:00</td>\n",
       "      <td>0</td>\n",
       "      <td>52072</td>\n",
       "      <td>2016-04-07 14:57:43</td>\n",
       "    </tr>\n",
       "  </tbody>\n",
       "</table>\n",
       "</div>"
      ],
      "text/plain": [
       "                DateCrawled  Price VehicleType  RegistrationYear Gearbox  \\\n",
       "21108   2016-03-08 14:57:26   1900       coupe              1990  manual   \n",
       "273474  2016-03-15 19:56:21   1950         bus              2004    auto   \n",
       "218261  2016-03-11 11:56:11    950       sedan              1997  manual   \n",
       "87503   2016-04-03 18:38:29   7900       sedan              2006    auto   \n",
       "110486  2016-03-05 19:53:31   6900       sedan              2007  manual   \n",
       "\n",
       "        Power     Model  Kilometer  RegistrationMonth  FuelType       Brand  \\\n",
       "21108       0  scirocco     150000                  0    petrol  volkswagen   \n",
       "273474    131     other     125000                  3    petrol       mazda   \n",
       "218261     90    megane     125000                 11    petrol     renault   \n",
       "87503     115      golf      60000                  2    petrol  volkswagen   \n",
       "110486    105    beetle     100000                  1  gasoline  volkswagen   \n",
       "\n",
       "       NotRepaired          DateCreated  NumberOfPictures  PostalCode  \\\n",
       "21108          yes  2016-03-08 00:00:00                 0       32479   \n",
       "273474          no  2016-03-15 00:00:00                 0       68239   \n",
       "218261          no  2016-03-11 00:00:00                 0        8393   \n",
       "87503          yes  2016-04-03 00:00:00                 0       27356   \n",
       "110486          no  2016-03-05 00:00:00                 0       52072   \n",
       "\n",
       "                   LastSeen  \n",
       "21108   2016-04-06 03:44:49  \n",
       "273474  2016-03-15 19:56:21  \n",
       "218261  2016-03-12 16:19:01  \n",
       "87503   2016-04-03 18:38:29  \n",
       "110486  2016-04-07 14:57:43  "
      ]
     },
     "execution_count": 3,
     "metadata": {},
     "output_type": "execute_result"
    }
   ],
   "source": [
    "df.sample(n=5)\n"
   ]
  },
  {
   "cell_type": "markdown",
   "metadata": {},
   "source": [
    "Часть колонок не несет значимой информации, поэтому создадим список с необходимыми для анализа колонками"
   ]
  },
  {
   "cell_type": "code",
   "execution_count": 4,
   "metadata": {},
   "outputs": [],
   "source": [
    "used_col = ['Price', 'VehicleType', 'RegistrationYear', \n",
    "            'Gearbox', 'Power', 'Model',\n",
    "       'Kilometer', 'FuelType', 'Brand', 'NotRepaired']\n"
   ]
  },
  {
   "cell_type": "code",
   "execution_count": 5,
   "metadata": {},
   "outputs": [
    {
     "name": "stdout",
     "output_type": "stream",
     "text": [
      "<class 'pandas.core.frame.DataFrame'>\n",
      "RangeIndex: 354369 entries, 0 to 354368\n",
      "Data columns (total 10 columns):\n",
      "Price               354369 non-null int64\n",
      "VehicleType         316879 non-null object\n",
      "RegistrationYear    354369 non-null int64\n",
      "Gearbox             334536 non-null object\n",
      "Power               354369 non-null int64\n",
      "Model               334664 non-null object\n",
      "Kilometer           354369 non-null int64\n",
      "FuelType            321474 non-null object\n",
      "Brand               354369 non-null object\n",
      "NotRepaired         283215 non-null object\n",
      "dtypes: int64(4), object(6)\n",
      "memory usage: 27.0+ MB\n"
     ]
    }
   ],
   "source": [
    "df[used_col].info()"
   ]
  },
  {
   "cell_type": "code",
   "execution_count": 6,
   "metadata": {},
   "outputs": [
    {
     "data": {
      "text/plain": [
       "NotRepaired    0.200791\n",
       "VehicleType    0.105794\n",
       "FuelType       0.092827\n",
       "Gearbox        0.055967\n",
       "Model          0.055606\n",
       "Brand          0.000000\n",
       "dtype: float64"
      ]
     },
     "execution_count": 6,
     "metadata": {},
     "output_type": "execute_result"
    }
   ],
   "source": [
    "df[used_col].isna().mean().sort_values(ascending = False).head(6)"
   ]
  },
  {
   "cell_type": "code",
   "execution_count": 7,
   "metadata": {},
   "outputs": [
    {
     "data": {
      "text/plain": [
       "0.6936667710776055"
      ]
     },
     "execution_count": 7,
     "metadata": {},
     "output_type": "execute_result"
    }
   ],
   "source": [
    "df[used_col].dropna()['Price'].count()/df['Price'].count()"
   ]
  },
  {
   "cell_type": "markdown",
   "metadata": {},
   "source": [
    "Имеется достаточно большое количество пропусков. Удалять почти треть данных не хочется. Основные пропуски приходятся на две колонки: наличие ремонт на за время эксплуатации и тип кузова. При этом в целевом признаке пропусков нет."
   ]
  },
  {
   "cell_type": "code",
   "execution_count": 8,
   "metadata": {},
   "outputs": [
    {
     "data": {
      "text/html": [
       "<div>\n",
       "<style scoped>\n",
       "    .dataframe tbody tr th:only-of-type {\n",
       "        vertical-align: middle;\n",
       "    }\n",
       "\n",
       "    .dataframe tbody tr th {\n",
       "        vertical-align: top;\n",
       "    }\n",
       "\n",
       "    .dataframe thead th {\n",
       "        text-align: right;\n",
       "    }\n",
       "</style>\n",
       "<table border=\"1\" class=\"dataframe\">\n",
       "  <thead>\n",
       "    <tr style=\"text-align: right;\">\n",
       "      <th></th>\n",
       "      <th>Price</th>\n",
       "      <th>RegistrationYear</th>\n",
       "      <th>Power</th>\n",
       "      <th>Kilometer</th>\n",
       "    </tr>\n",
       "  </thead>\n",
       "  <tbody>\n",
       "    <tr>\n",
       "      <td>Price</td>\n",
       "      <td>1.000000</td>\n",
       "      <td>0.026916</td>\n",
       "      <td>0.158872</td>\n",
       "      <td>-0.333199</td>\n",
       "    </tr>\n",
       "    <tr>\n",
       "      <td>RegistrationYear</td>\n",
       "      <td>0.026916</td>\n",
       "      <td>1.000000</td>\n",
       "      <td>-0.000828</td>\n",
       "      <td>-0.053447</td>\n",
       "    </tr>\n",
       "    <tr>\n",
       "      <td>Power</td>\n",
       "      <td>0.158872</td>\n",
       "      <td>-0.000828</td>\n",
       "      <td>1.000000</td>\n",
       "      <td>0.024002</td>\n",
       "    </tr>\n",
       "    <tr>\n",
       "      <td>Kilometer</td>\n",
       "      <td>-0.333199</td>\n",
       "      <td>-0.053447</td>\n",
       "      <td>0.024002</td>\n",
       "      <td>1.000000</td>\n",
       "    </tr>\n",
       "  </tbody>\n",
       "</table>\n",
       "</div>"
      ],
      "text/plain": [
       "                     Price  RegistrationYear     Power  Kilometer\n",
       "Price             1.000000          0.026916  0.158872  -0.333199\n",
       "RegistrationYear  0.026916          1.000000 -0.000828  -0.053447\n",
       "Power             0.158872         -0.000828  1.000000   0.024002\n",
       "Kilometer        -0.333199         -0.053447  0.024002   1.000000"
      ]
     },
     "execution_count": 8,
     "metadata": {},
     "output_type": "execute_result"
    }
   ],
   "source": [
    "df[used_col].corr()"
   ]
  },
  {
   "cell_type": "markdown",
   "metadata": {},
   "source": [
    "Значимой корреляции между числовыми характеристиками не выявлено, это обеспечивает нахождение более устойчивого решения. "
   ]
  },
  {
   "cell_type": "code",
   "execution_count": 9,
   "metadata": {},
   "outputs": [
    {
     "data": {
      "text/plain": [
       "array([[<matplotlib.axes._subplots.AxesSubplot object at 0x7f28e24bfdd0>,\n",
       "        <matplotlib.axes._subplots.AxesSubplot object at 0x7f28e242dcd0>]],\n",
       "      dtype=object)"
      ]
     },
     "execution_count": 9,
     "metadata": {},
     "output_type": "execute_result"
    },
    {
     "data": {
      "image/png": "[encoded data removed]",
      "text/plain": [
       "<Figure size 1080x720 with 2 Axes>"
      ]
     },
     "metadata": {
      "needs_background": "light"
     },
     "output_type": "display_data"
    }
   ],
   "source": [
    "df[['Price','Kilometer']].hist(bins = 40, figsize = (15,10))"
   ]
  },
  {
   "cell_type": "code",
   "execution_count": 10,
   "metadata": {},
   "outputs": [
    {
     "data": {
      "text/plain": [
       "Text(0.5, 0, 'Год прозводства')"
      ]
     },
     "execution_count": 10,
     "metadata": {},
     "output_type": "execute_result"
    },
    {
     "data": {
      "image/png": "[encoded data removed]",
      "text/plain": [
       "<Figure size 864x576 with 1 Axes>"
      ]
     },
     "metadata": {
      "needs_background": "light"
     },
     "output_type": "display_data"
    }
   ],
   "source": [
    "ax=df[\"RegistrationYear\"].plot(kind='hist',range=(1965,2022), bins=55, figsize=(12,8), grid=True,  title='Распределение автомобилей по годам производства')\n",
    "ax.set_ylabel(\"Количество автомобилей\")\n",
    "ax.set_xlabel(\"Год прозводства\")"
   ]
  },
  {
   "cell_type": "code",
   "execution_count": 11,
   "metadata": {},
   "outputs": [
    {
     "data": {
      "text/html": [
       "<div>\n",
       "<style scoped>\n",
       "    .dataframe tbody tr th:only-of-type {\n",
       "        vertical-align: middle;\n",
       "    }\n",
       "\n",
       "    .dataframe tbody tr th {\n",
       "        vertical-align: top;\n",
       "    }\n",
       "\n",
       "    .dataframe thead th {\n",
       "        text-align: right;\n",
       "    }\n",
       "</style>\n",
       "<table border=\"1\" class=\"dataframe\">\n",
       "  <thead>\n",
       "    <tr style=\"text-align: right;\">\n",
       "      <th></th>\n",
       "      <th>Price</th>\n",
       "      <th>RegistrationYear</th>\n",
       "      <th>Power</th>\n",
       "      <th>Kilometer</th>\n",
       "    </tr>\n",
       "  </thead>\n",
       "  <tbody>\n",
       "    <tr>\n",
       "      <td>count</td>\n",
       "      <td>354369.000000</td>\n",
       "      <td>354369.000000</td>\n",
       "      <td>354369.000000</td>\n",
       "      <td>354369.000000</td>\n",
       "    </tr>\n",
       "    <tr>\n",
       "      <td>mean</td>\n",
       "      <td>4416.656776</td>\n",
       "      <td>2004.234448</td>\n",
       "      <td>110.094337</td>\n",
       "      <td>128211.172535</td>\n",
       "    </tr>\n",
       "    <tr>\n",
       "      <td>std</td>\n",
       "      <td>4514.158514</td>\n",
       "      <td>90.227958</td>\n",
       "      <td>189.850405</td>\n",
       "      <td>37905.341530</td>\n",
       "    </tr>\n",
       "    <tr>\n",
       "      <td>min</td>\n",
       "      <td>0.000000</td>\n",
       "      <td>1000.000000</td>\n",
       "      <td>0.000000</td>\n",
       "      <td>5000.000000</td>\n",
       "    </tr>\n",
       "    <tr>\n",
       "      <td>25%</td>\n",
       "      <td>1050.000000</td>\n",
       "      <td>1999.000000</td>\n",
       "      <td>69.000000</td>\n",
       "      <td>125000.000000</td>\n",
       "    </tr>\n",
       "    <tr>\n",
       "      <td>50%</td>\n",
       "      <td>2700.000000</td>\n",
       "      <td>2003.000000</td>\n",
       "      <td>105.000000</td>\n",
       "      <td>150000.000000</td>\n",
       "    </tr>\n",
       "    <tr>\n",
       "      <td>75%</td>\n",
       "      <td>6400.000000</td>\n",
       "      <td>2008.000000</td>\n",
       "      <td>143.000000</td>\n",
       "      <td>150000.000000</td>\n",
       "    </tr>\n",
       "    <tr>\n",
       "      <td>max</td>\n",
       "      <td>20000.000000</td>\n",
       "      <td>9999.000000</td>\n",
       "      <td>20000.000000</td>\n",
       "      <td>150000.000000</td>\n",
       "    </tr>\n",
       "  </tbody>\n",
       "</table>\n",
       "</div>"
      ],
      "text/plain": [
       "               Price  RegistrationYear          Power      Kilometer\n",
       "count  354369.000000     354369.000000  354369.000000  354369.000000\n",
       "mean     4416.656776       2004.234448     110.094337  128211.172535\n",
       "std      4514.158514         90.227958     189.850405   37905.341530\n",
       "min         0.000000       1000.000000       0.000000    5000.000000\n",
       "25%      1050.000000       1999.000000      69.000000  125000.000000\n",
       "50%      2700.000000       2003.000000     105.000000  150000.000000\n",
       "75%      6400.000000       2008.000000     143.000000  150000.000000\n",
       "max     20000.000000       9999.000000   20000.000000  150000.000000"
      ]
     },
     "execution_count": 11,
     "metadata": {},
     "output_type": "execute_result"
    }
   ],
   "source": [
    "df[used_col].describe()"
   ]
  },
  {
   "cell_type": "markdown",
   "metadata": {},
   "source": [
    "- Распределение пробега автомобилей странное, но выбросов нет.\n",
    "- Распределение мощности автомобилей явно содержит выбросы. \n",
    "- Стоимость автомобилей имеет экспоненциальное распределение. Ожидалось логнормальное. Видимо, данные искусственно полученные.\n",
    "- Год регистрации автомобиля имеет явные ошибки заполнения."
   ]
  },
  {
   "cell_type": "code",
   "execution_count": 12,
   "metadata": {},
   "outputs": [
    {
     "data": {
      "text/plain": [
       "Text(0.5, 0, 'Мощность, л.с.')"
      ]
     },
     "execution_count": 12,
     "metadata": {},
     "output_type": "execute_result"
    },
    {
     "data": {
      "image/png": "[encoded data removed]",
      "text/plain": [
       "<Figure size 864x576 with 1 Axes>"
      ]
     },
     "metadata": {
      "needs_background": "light"
     },
     "output_type": "display_data"
    }
   ],
   "source": [
    "ax=df[\"Power\"].plot(kind='hist',range=(0,400), bins=30, figsize=(12,8), grid=True,  title='Распределение автомобилей по мощности двигателя')\n",
    "ax.set_ylabel(\"Количество автомобилей\")\n",
    "ax.set_xlabel(\"Мощность, л.с.\")"
   ]
  },
  {
   "cell_type": "markdown",
   "metadata": {},
   "source": [
    "Из графика мощности двигателя автомобиля видно, основное распределение лежит на интервале от 40 до 300 л.с., что характерно для типичного автомобиля."
   ]
  },
  {
   "cell_type": "markdown",
   "metadata": {},
   "source": [
    "### Предобработка данных"
   ]
  },
  {
   "cell_type": "code",
   "execution_count": 13,
   "metadata": {},
   "outputs": [
    {
     "data": {
      "text/plain": [
       "87.10524904830841"
      ]
     },
     "execution_count": 13,
     "metadata": {},
     "output_type": "execute_result"
    }
   ],
   "source": [
    "100*df[(df['Power']>40) &(df['Power']<300) ]['Power'].count()/df['Power'].count()"
   ]
  },
  {
   "cell_type": "markdown",
   "metadata": {},
   "source": [
    "Основываясь на здравом смысле, мощность современного автомобили вряд ли меньше 40 л.с. И машины с мощностью свыше 300 л.с. должны рассматриваться либо в категории грузовых, либо в категории элитных спорткаров, поэтому данные машины также выбиваются из общей массы. Ограничение по мощности двигателя обеспечивает сохранение 87.1 % данных, при этом точность предсказаний должна только выиграть. "
   ]
  },
  {
   "cell_type": "code",
   "execution_count": 14,
   "metadata": {},
   "outputs": [],
   "source": [
    "df = df[(df['Power']>40) &(df['Power']<300)]"
   ]
  },
  {
   "cell_type": "code",
   "execution_count": 15,
   "metadata": {},
   "outputs": [
    {
     "data": {
      "text/plain": [
       "0.9567602065609673"
      ]
     },
     "execution_count": 15,
     "metadata": {},
     "output_type": "execute_result"
    }
   ],
   "source": [
    "df[(df['RegistrationYear']>1992)&(df['RegistrationYear']<2022)]['Price'].count()/df['Price'].count()"
   ]
  },
  {
   "cell_type": "markdown",
   "metadata": {},
   "source": [
    "Машины, выпущенные во времена СССР, явно будут отличаться по своим технологическим свойствам, таких машин не так много количеству (меньше 3,5 %). Поэтому предлагается их убрать как выбросы. В случае необходимости оценивания стоимости таких машин, необходимо для них построить отдельную модель."
   ]
  },
  {
   "cell_type": "code",
   "execution_count": 16,
   "metadata": {},
   "outputs": [],
   "source": [
    "df = df[(df['RegistrationYear']>1992)&(df['RegistrationYear']<2022)]"
   ]
  },
  {
   "cell_type": "markdown",
   "metadata": {},
   "source": [
    "Удалим столбцы не имеющие значение. "
   ]
  },
  {
   "cell_type": "code",
   "execution_count": 17,
   "metadata": {},
   "outputs": [
    {
     "data": {
      "text/html": [
       "<div>\n",
       "<style scoped>\n",
       "    .dataframe tbody tr th:only-of-type {\n",
       "        vertical-align: middle;\n",
       "    }\n",
       "\n",
       "    .dataframe tbody tr th {\n",
       "        vertical-align: top;\n",
       "    }\n",
       "\n",
       "    .dataframe thead th {\n",
       "        text-align: right;\n",
       "    }\n",
       "</style>\n",
       "<table border=\"1\" class=\"dataframe\">\n",
       "  <thead>\n",
       "    <tr style=\"text-align: right;\">\n",
       "      <th></th>\n",
       "      <th>Price</th>\n",
       "      <th>VehicleType</th>\n",
       "      <th>RegistrationYear</th>\n",
       "      <th>Gearbox</th>\n",
       "      <th>Power</th>\n",
       "      <th>Model</th>\n",
       "      <th>Kilometer</th>\n",
       "      <th>FuelType</th>\n",
       "      <th>Brand</th>\n",
       "      <th>NotRepaired</th>\n",
       "    </tr>\n",
       "  </thead>\n",
       "  <tbody>\n",
       "    <tr>\n",
       "      <td>1</td>\n",
       "      <td>18300</td>\n",
       "      <td>coupe</td>\n",
       "      <td>2011</td>\n",
       "      <td>manual</td>\n",
       "      <td>190</td>\n",
       "      <td>NaN</td>\n",
       "      <td>125000</td>\n",
       "      <td>gasoline</td>\n",
       "      <td>audi</td>\n",
       "      <td>yes</td>\n",
       "    </tr>\n",
       "    <tr>\n",
       "      <td>2</td>\n",
       "      <td>9800</td>\n",
       "      <td>suv</td>\n",
       "      <td>2004</td>\n",
       "      <td>auto</td>\n",
       "      <td>163</td>\n",
       "      <td>grand</td>\n",
       "      <td>125000</td>\n",
       "      <td>gasoline</td>\n",
       "      <td>jeep</td>\n",
       "      <td>NaN</td>\n",
       "    </tr>\n",
       "    <tr>\n",
       "      <td>3</td>\n",
       "      <td>1500</td>\n",
       "      <td>small</td>\n",
       "      <td>2001</td>\n",
       "      <td>manual</td>\n",
       "      <td>75</td>\n",
       "      <td>golf</td>\n",
       "      <td>150000</td>\n",
       "      <td>petrol</td>\n",
       "      <td>volkswagen</td>\n",
       "      <td>no</td>\n",
       "    </tr>\n",
       "    <tr>\n",
       "      <td>4</td>\n",
       "      <td>3600</td>\n",
       "      <td>small</td>\n",
       "      <td>2008</td>\n",
       "      <td>manual</td>\n",
       "      <td>69</td>\n",
       "      <td>fabia</td>\n",
       "      <td>90000</td>\n",
       "      <td>gasoline</td>\n",
       "      <td>skoda</td>\n",
       "      <td>no</td>\n",
       "    </tr>\n",
       "    <tr>\n",
       "      <td>5</td>\n",
       "      <td>650</td>\n",
       "      <td>sedan</td>\n",
       "      <td>1995</td>\n",
       "      <td>manual</td>\n",
       "      <td>102</td>\n",
       "      <td>3er</td>\n",
       "      <td>150000</td>\n",
       "      <td>petrol</td>\n",
       "      <td>bmw</td>\n",
       "      <td>yes</td>\n",
       "    </tr>\n",
       "  </tbody>\n",
       "</table>\n",
       "</div>"
      ],
      "text/plain": [
       "   Price VehicleType  RegistrationYear Gearbox  Power  Model  Kilometer  \\\n",
       "1  18300       coupe              2011  manual    190    NaN     125000   \n",
       "2   9800         suv              2004    auto    163  grand     125000   \n",
       "3   1500       small              2001  manual     75   golf     150000   \n",
       "4   3600       small              2008  manual     69  fabia      90000   \n",
       "5    650       sedan              1995  manual    102    3er     150000   \n",
       "\n",
       "   FuelType       Brand NotRepaired  \n",
       "1  gasoline        audi         yes  \n",
       "2  gasoline        jeep         NaN  \n",
       "3    petrol  volkswagen          no  \n",
       "4  gasoline       skoda          no  \n",
       "5    petrol         bmw         yes  "
      ]
     },
     "execution_count": 17,
     "metadata": {},
     "output_type": "execute_result"
    }
   ],
   "source": [
    "df = df.drop(['DateCrawled', \n",
    "              'RegistrationMonth', \n",
    "              'DateCreated', \n",
    "              'NumberOfPictures', \n",
    "              'PostalCode', \n",
    "              'LastSeen'], axis=1)\n",
    "df.head()"
   ]
  },
  {
   "cell_type": "code",
   "execution_count": 18,
   "metadata": {},
   "outputs": [],
   "source": [
    "for col in df.columns:\n",
    "    if df[col].isnull().sum() > 0:\n",
    "        df[col].fillna('unknown', inplace=True)\n",
    "                            "
   ]
  },
  {
   "cell_type": "markdown",
   "metadata": {},
   "source": [
    "## Обучение моделей"
   ]
  },
  {
   "cell_type": "markdown",
   "metadata": {},
   "source": [
    "### Подготовка данных для машинного обучения"
   ]
  },
  {
   "cell_type": "markdown",
   "metadata": {},
   "source": [
    "Преобразуем категориальные признаки с параметром drop_first=True для сокращения количества новых столбцов (дамми-ловушка)"
   ]
  },
  {
   "cell_type": "code",
   "execution_count": 19,
   "metadata": {},
   "outputs": [
    {
     "data": {
      "text/html": [
       "<div>\n",
       "<style scoped>\n",
       "    .dataframe tbody tr th:only-of-type {\n",
       "        vertical-align: middle;\n",
       "    }\n",
       "\n",
       "    .dataframe tbody tr th {\n",
       "        vertical-align: top;\n",
       "    }\n",
       "\n",
       "    .dataframe thead th {\n",
       "        text-align: right;\n",
       "    }\n",
       "</style>\n",
       "<table border=\"1\" class=\"dataframe\">\n",
       "  <thead>\n",
       "    <tr style=\"text-align: right;\">\n",
       "      <th></th>\n",
       "      <th>Price</th>\n",
       "      <th>RegistrationYear</th>\n",
       "      <th>Power</th>\n",
       "      <th>Kilometer</th>\n",
       "      <th>VehicleType_convertible</th>\n",
       "      <th>VehicleType_coupe</th>\n",
       "      <th>VehicleType_other</th>\n",
       "      <th>VehicleType_sedan</th>\n",
       "      <th>VehicleType_small</th>\n",
       "      <th>VehicleType_suv</th>\n",
       "      <th>...</th>\n",
       "      <th>Brand_smart</th>\n",
       "      <th>Brand_sonstige_autos</th>\n",
       "      <th>Brand_subaru</th>\n",
       "      <th>Brand_suzuki</th>\n",
       "      <th>Brand_toyota</th>\n",
       "      <th>Brand_trabant</th>\n",
       "      <th>Brand_volkswagen</th>\n",
       "      <th>Brand_volvo</th>\n",
       "      <th>NotRepaired_unknown</th>\n",
       "      <th>NotRepaired_yes</th>\n",
       "    </tr>\n",
       "  </thead>\n",
       "  <tbody>\n",
       "    <tr>\n",
       "      <td>1</td>\n",
       "      <td>18300</td>\n",
       "      <td>2011</td>\n",
       "      <td>190</td>\n",
       "      <td>125000</td>\n",
       "      <td>0</td>\n",
       "      <td>1</td>\n",
       "      <td>0</td>\n",
       "      <td>0</td>\n",
       "      <td>0</td>\n",
       "      <td>0</td>\n",
       "      <td>...</td>\n",
       "      <td>0</td>\n",
       "      <td>0</td>\n",
       "      <td>0</td>\n",
       "      <td>0</td>\n",
       "      <td>0</td>\n",
       "      <td>0</td>\n",
       "      <td>0</td>\n",
       "      <td>0</td>\n",
       "      <td>0</td>\n",
       "      <td>1</td>\n",
       "    </tr>\n",
       "    <tr>\n",
       "      <td>2</td>\n",
       "      <td>9800</td>\n",
       "      <td>2004</td>\n",
       "      <td>163</td>\n",
       "      <td>125000</td>\n",
       "      <td>0</td>\n",
       "      <td>0</td>\n",
       "      <td>0</td>\n",
       "      <td>0</td>\n",
       "      <td>0</td>\n",
       "      <td>1</td>\n",
       "      <td>...</td>\n",
       "      <td>0</td>\n",
       "      <td>0</td>\n",
       "      <td>0</td>\n",
       "      <td>0</td>\n",
       "      <td>0</td>\n",
       "      <td>0</td>\n",
       "      <td>0</td>\n",
       "      <td>0</td>\n",
       "      <td>1</td>\n",
       "      <td>0</td>\n",
       "    </tr>\n",
       "    <tr>\n",
       "      <td>3</td>\n",
       "      <td>1500</td>\n",
       "      <td>2001</td>\n",
       "      <td>75</td>\n",
       "      <td>150000</td>\n",
       "      <td>0</td>\n",
       "      <td>0</td>\n",
       "      <td>0</td>\n",
       "      <td>0</td>\n",
       "      <td>1</td>\n",
       "      <td>0</td>\n",
       "      <td>...</td>\n",
       "      <td>0</td>\n",
       "      <td>0</td>\n",
       "      <td>0</td>\n",
       "      <td>0</td>\n",
       "      <td>0</td>\n",
       "      <td>0</td>\n",
       "      <td>1</td>\n",
       "      <td>0</td>\n",
       "      <td>0</td>\n",
       "      <td>0</td>\n",
       "    </tr>\n",
       "    <tr>\n",
       "      <td>4</td>\n",
       "      <td>3600</td>\n",
       "      <td>2008</td>\n",
       "      <td>69</td>\n",
       "      <td>90000</td>\n",
       "      <td>0</td>\n",
       "      <td>0</td>\n",
       "      <td>0</td>\n",
       "      <td>0</td>\n",
       "      <td>1</td>\n",
       "      <td>0</td>\n",
       "      <td>...</td>\n",
       "      <td>0</td>\n",
       "      <td>0</td>\n",
       "      <td>0</td>\n",
       "      <td>0</td>\n",
       "      <td>0</td>\n",
       "      <td>0</td>\n",
       "      <td>0</td>\n",
       "      <td>0</td>\n",
       "      <td>0</td>\n",
       "      <td>0</td>\n",
       "    </tr>\n",
       "    <tr>\n",
       "      <td>5</td>\n",
       "      <td>650</td>\n",
       "      <td>1995</td>\n",
       "      <td>102</td>\n",
       "      <td>150000</td>\n",
       "      <td>0</td>\n",
       "      <td>0</td>\n",
       "      <td>0</td>\n",
       "      <td>1</td>\n",
       "      <td>0</td>\n",
       "      <td>0</td>\n",
       "      <td>...</td>\n",
       "      <td>0</td>\n",
       "      <td>0</td>\n",
       "      <td>0</td>\n",
       "      <td>0</td>\n",
       "      <td>0</td>\n",
       "      <td>0</td>\n",
       "      <td>0</td>\n",
       "      <td>0</td>\n",
       "      <td>0</td>\n",
       "      <td>1</td>\n",
       "    </tr>\n",
       "  </tbody>\n",
       "</table>\n",
       "<p>5 rows × 309 columns</p>\n",
       "</div>"
      ],
      "text/plain": [
       "   Price  RegistrationYear  Power  Kilometer  VehicleType_convertible  \\\n",
       "1  18300              2011    190     125000                        0   \n",
       "2   9800              2004    163     125000                        0   \n",
       "3   1500              2001     75     150000                        0   \n",
       "4   3600              2008     69      90000                        0   \n",
       "5    650              1995    102     150000                        0   \n",
       "\n",
       "   VehicleType_coupe  VehicleType_other  VehicleType_sedan  VehicleType_small  \\\n",
       "1                  1                  0                  0                  0   \n",
       "2                  0                  0                  0                  0   \n",
       "3                  0                  0                  0                  1   \n",
       "4                  0                  0                  0                  1   \n",
       "5                  0                  0                  1                  0   \n",
       "\n",
       "   VehicleType_suv  ...  Brand_smart  Brand_sonstige_autos  Brand_subaru  \\\n",
       "1                0  ...            0                     0             0   \n",
       "2                1  ...            0                     0             0   \n",
       "3                0  ...            0                     0             0   \n",
       "4                0  ...            0                     0             0   \n",
       "5                0  ...            0                     0             0   \n",
       "\n",
       "   Brand_suzuki  Brand_toyota  Brand_trabant  Brand_volkswagen  Brand_volvo  \\\n",
       "1             0             0              0                 0            0   \n",
       "2             0             0              0                 0            0   \n",
       "3             0             0              0                 1            0   \n",
       "4             0             0              0                 0            0   \n",
       "5             0             0              0                 0            0   \n",
       "\n",
       "   NotRepaired_unknown  NotRepaired_yes  \n",
       "1                    0                1  \n",
       "2                    1                0  \n",
       "3                    0                0  \n",
       "4                    0                0  \n",
       "5                    0                1  \n",
       "\n",
       "[5 rows x 309 columns]"
      ]
     },
     "execution_count": 19,
     "metadata": {},
     "output_type": "execute_result"
    }
   ],
   "source": [
    "df_ohe = pd.get_dummies(df, drop_first=True)\n",
    "df_ohe.head()"
   ]
  },
  {
   "cell_type": "code",
   "execution_count": 20,
   "metadata": {},
   "outputs": [],
   "source": [
    "target = df_ohe['Price']\n",
    "features = df_ohe.drop('Price', axis=1)"
   ]
  },
  {
   "cell_type": "code",
   "execution_count": 21,
   "metadata": {},
   "outputs": [],
   "source": [
    "features_train, features_valid, target_train, target_valid = train_test_split(features, \n",
    "                                                                              target, \n",
    "                                                                              train_size=0.60, \n",
    "                                                                              test_size=0.40, \n",
    "                                                                              random_state=123)\n",
    "features_valid, features_test, target_valid, target_test = train_test_split(features_valid, \n",
    "                                                                            target_valid, \n",
    "                                                                            train_size=0.50, \n",
    "                                                                            test_size=0.50, \n",
    "                                                                            random_state=123)"
   ]
  },
  {
   "cell_type": "code",
   "execution_count": 22,
   "metadata": {},
   "outputs": [
    {
     "name": "stdout",
     "output_type": "stream",
     "text": [
      "Размер обучающей выборки: (177196, 308)\n",
      "Размер валидационной выборки: (59065, 308)\n",
      "Размер тестовой выборки: (59066, 308)\n"
     ]
    }
   ],
   "source": [
    "samples = {'Размер обучающей выборки' : features_train, \n",
    "          'Размер валидационной выборки': features_valid, \n",
    "          'Размер тестовой выборки': features_test}\n",
    "\n",
    "for key, value in samples.items():\n",
    "    print(key + ':', value.shape)"
   ]
  },
  {
   "cell_type": "code",
   "execution_count": 23,
   "metadata": {},
   "outputs": [
    {
     "data": {
      "text/plain": [
       "StandardScaler(copy=True, with_mean=True, with_std=True)"
      ]
     },
     "execution_count": 23,
     "metadata": {},
     "output_type": "execute_result"
    }
   ],
   "source": [
    "numeric = ['RegistrationYear', 'Power', 'Kilometer']\n",
    "\n",
    "scaler = StandardScaler()\n",
    "scaler.fit(features_train[numeric])"
   ]
  },
  {
   "cell_type": "code",
   "execution_count": 24,
   "metadata": {},
   "outputs": [],
   "source": [
    "features_train[numeric] = scaler.transform(features_train[numeric])\n",
    "features_valid[numeric] = scaler.transform(features_valid[numeric])\n",
    "features_test[numeric] = scaler.transform(features_test[numeric])"
   ]
  },
  {
   "cell_type": "markdown",
   "metadata": {},
   "source": [
    "### Обучение моделей"
   ]
  },
  {
   "cell_type": "markdown",
   "metadata": {},
   "source": [
    "#### Линейная регрессия"
   ]
  },
  {
   "cell_type": "code",
   "execution_count": 25,
   "metadata": {},
   "outputs": [
    {
     "name": "stdout",
     "output_type": "stream",
     "text": [
      "End time:  19.267579317092896\n"
     ]
    }
   ],
   "source": [
    "model_lr = LinearRegression()\n",
    "start = time.time() \n",
    "model_lr.fit(features_train, target_train)\n",
    "end_time_fit = time.time() - start\n",
    "print('End time: ', end_time_fit)"
   ]
  },
  {
   "cell_type": "code",
   "execution_count": 26,
   "metadata": {},
   "outputs": [],
   "source": [
    "start = time.time() \n",
    "predictions_lr = model_lr.predict(features_valid)\n",
    "end_time_predict = time.time() - start"
   ]
  },
  {
   "cell_type": "code",
   "execution_count": 27,
   "metadata": {},
   "outputs": [],
   "source": [
    "rsme_lr = (mean_squared_error(target_valid, predictions_lr))**0.5"
   ]
  },
  {
   "cell_type": "code",
   "execution_count": 28,
   "metadata": {},
   "outputs": [
    {
     "data": {
      "text/html": [
       "<div>\n",
       "<style scoped>\n",
       "    .dataframe tbody tr th:only-of-type {\n",
       "        vertical-align: middle;\n",
       "    }\n",
       "\n",
       "    .dataframe tbody tr th {\n",
       "        vertical-align: top;\n",
       "    }\n",
       "\n",
       "    .dataframe thead th {\n",
       "        text-align: right;\n",
       "    }\n",
       "</style>\n",
       "<table border=\"1\" class=\"dataframe\">\n",
       "  <thead>\n",
       "    <tr style=\"text-align: right;\">\n",
       "      <th></th>\n",
       "      <th>Модель</th>\n",
       "      <th>Параметры</th>\n",
       "      <th>Время обучения</th>\n",
       "      <th>Скорость предсказания</th>\n",
       "      <th>RMSE</th>\n",
       "    </tr>\n",
       "  </thead>\n",
       "  <tbody>\n",
       "    <tr>\n",
       "      <td>0</td>\n",
       "      <td>LinearRegression</td>\n",
       "      <td>NaN</td>\n",
       "      <td>19.267579</td>\n",
       "      <td>0.189723</td>\n",
       "      <td>2317.661578</td>\n",
       "    </tr>\n",
       "  </tbody>\n",
       "</table>\n",
       "</div>"
      ],
      "text/plain": [
       "             Модель  Параметры  Время обучения  Скорость предсказания  \\\n",
       "0  LinearRegression        NaN       19.267579               0.189723   \n",
       "\n",
       "          RMSE  \n",
       "0  2317.661578  "
      ]
     },
     "execution_count": 28,
     "metadata": {},
     "output_type": "execute_result"
    }
   ],
   "source": [
    "results = []\n",
    "results.append({'Модель': 'LinearRegression', \n",
    "                'Параметры': np.nan, \n",
    "                'Время обучения': end_time_fit, \n",
    "                'Скорость предсказания': end_time_predict, \n",
    "                'RMSE': rsme_lr})\n",
    "\n",
    "pd.DataFrame(results)"
   ]
  },
  {
   "cell_type": "markdown",
   "metadata": {},
   "source": [
    "#### LGBMRegressor"
   ]
  },
  {
   "cell_type": "code",
   "execution_count": 29,
   "metadata": {},
   "outputs": [],
   "source": [
    "parameters = {'boosting_type': 'gbdt', \n",
    "              'max_depth': 11, \n",
    "              'n_estimators': 120, \n",
    "              'random_state': 123}"
   ]
  },
  {
   "cell_type": "code",
   "execution_count": 30,
   "metadata": {},
   "outputs": [],
   "source": [
    "model_lgbm = LGBMRegressor(**parameters)"
   ]
  },
  {
   "cell_type": "code",
   "execution_count": 31,
   "metadata": {},
   "outputs": [
    {
     "name": "stdout",
     "output_type": "stream",
     "text": [
      "End time:  10.046657800674438\n"
     ]
    }
   ],
   "source": [
    "start = time.time() \n",
    "model_lgbm.fit(features_train, target_train)\n",
    "end_time_fit = time.time() - start\n",
    "print('End time: ', end_time_fit)"
   ]
  },
  {
   "cell_type": "code",
   "execution_count": 32,
   "metadata": {},
   "outputs": [
    {
     "name": "stdout",
     "output_type": "stream",
     "text": [
      "End time:  1.1928365230560303\n"
     ]
    }
   ],
   "source": [
    "start = time.time() \n",
    "predictions_lgbm = model_lgbm.predict(features_valid, verbose=2)\n",
    "end_time_predict = time.time() - start\n",
    "print('End time: ', end_time_predict)"
   ]
  },
  {
   "cell_type": "code",
   "execution_count": 33,
   "metadata": {},
   "outputs": [],
   "source": [
    "rsme_lgbm  = (mean_squared_error(target_valid, predictions_lgbm))**0.5"
   ]
  },
  {
   "cell_type": "code",
   "execution_count": 34,
   "metadata": {},
   "outputs": [
    {
     "data": {
      "text/html": [
       "<div>\n",
       "<style scoped>\n",
       "    .dataframe tbody tr th:only-of-type {\n",
       "        vertical-align: middle;\n",
       "    }\n",
       "\n",
       "    .dataframe tbody tr th {\n",
       "        vertical-align: top;\n",
       "    }\n",
       "\n",
       "    .dataframe thead th {\n",
       "        text-align: right;\n",
       "    }\n",
       "</style>\n",
       "<table border=\"1\" class=\"dataframe\">\n",
       "  <thead>\n",
       "    <tr style=\"text-align: right;\">\n",
       "      <th></th>\n",
       "      <th>Модель</th>\n",
       "      <th>Параметры</th>\n",
       "      <th>Время обучения</th>\n",
       "      <th>Скорость предсказания</th>\n",
       "      <th>RMSE</th>\n",
       "    </tr>\n",
       "  </thead>\n",
       "  <tbody>\n",
       "    <tr>\n",
       "      <td>0</td>\n",
       "      <td>LinearRegression</td>\n",
       "      <td>NaN</td>\n",
       "      <td>19.267579</td>\n",
       "      <td>0.189723</td>\n",
       "      <td>2317.661578</td>\n",
       "    </tr>\n",
       "    <tr>\n",
       "      <td>1</td>\n",
       "      <td>LGBMRegressor</td>\n",
       "      <td>{'boosting_type': 'gbdt', 'max_depth': 11, 'n_...</td>\n",
       "      <td>10.046658</td>\n",
       "      <td>1.192837</td>\n",
       "      <td>1651.295432</td>\n",
       "    </tr>\n",
       "  </tbody>\n",
       "</table>\n",
       "</div>"
      ],
      "text/plain": [
       "             Модель                                          Параметры  \\\n",
       "0  LinearRegression                                                NaN   \n",
       "1     LGBMRegressor  {'boosting_type': 'gbdt', 'max_depth': 11, 'n_...   \n",
       "\n",
       "   Время обучения  Скорость предсказания         RMSE  \n",
       "0       19.267579               0.189723  2317.661578  \n",
       "1       10.046658               1.192837  1651.295432  "
      ]
     },
     "execution_count": 34,
     "metadata": {},
     "output_type": "execute_result"
    }
   ],
   "source": [
    "results.append({'Модель': 'LGBMRegressor', \n",
    "                'Параметры': parameters, \n",
    "                'Время обучения': end_time_fit, \n",
    "                'Скорость предсказания': end_time_predict, \n",
    "                'RMSE': rsme_lgbm})\n",
    "\n",
    "pd.DataFrame(results)"
   ]
  },
  {
   "cell_type": "markdown",
   "metadata": {},
   "source": [
    "#### CatBoostRegressor"
   ]
  },
  {
   "cell_type": "code",
   "execution_count": 35,
   "metadata": {},
   "outputs": [
    {
     "name": "stdout",
     "output_type": "stream",
     "text": [
      "0:\tlearn: 4455.9019048\ttotal: 91.4ms\tremaining: 6.31s\n",
      "1:\tlearn: 4372.1230381\ttotal: 195ms\tremaining: 6.64s\n",
      "2:\tlearn: 4292.4136951\ttotal: 385ms\tremaining: 8.59s\n",
      "3:\tlearn: 4215.6173472\ttotal: 487ms\tremaining: 8.03s\n",
      "4:\tlearn: 4141.6699390\ttotal: 592ms\tremaining: 7.69s\n",
      "5:\tlearn: 4070.2147160\ttotal: 692ms\tremaining: 7.38s\n",
      "6:\tlearn: 4000.0967871\ttotal: 882ms\tremaining: 7.94s\n",
      "7:\tlearn: 3928.5125173\ttotal: 982ms\tremaining: 7.61s\n",
      "8:\tlearn: 3864.9064822\ttotal: 1.08s\tremaining: 7.36s\n",
      "9:\tlearn: 3800.8141580\ttotal: 1.19s\tremaining: 7.12s\n",
      "10:\tlearn: 3740.6531598\ttotal: 1.29s\tremaining: 6.91s\n",
      "11:\tlearn: 3680.9000395\ttotal: 1.48s\tremaining: 7.14s\n",
      "12:\tlearn: 3622.1221304\ttotal: 1.58s\tremaining: 6.93s\n",
      "13:\tlearn: 3566.4037694\ttotal: 1.68s\tremaining: 6.73s\n",
      "14:\tlearn: 3513.3765571\ttotal: 1.79s\tremaining: 6.55s\n",
      "15:\tlearn: 3462.1834742\ttotal: 1.89s\tremaining: 6.38s\n",
      "16:\tlearn: 3414.3463620\ttotal: 2.08s\tremaining: 6.47s\n",
      "17:\tlearn: 3365.8659928\ttotal: 2.18s\tremaining: 6.29s\n",
      "18:\tlearn: 3320.4093817\ttotal: 2.28s\tremaining: 6.12s\n",
      "19:\tlearn: 3278.6650553\ttotal: 2.39s\tremaining: 5.97s\n",
      "20:\tlearn: 3234.7355107\ttotal: 2.57s\tremaining: 6s\n",
      "21:\tlearn: 3195.7312354\ttotal: 2.67s\tremaining: 5.83s\n",
      "22:\tlearn: 3157.6159177\ttotal: 2.78s\tremaining: 5.67s\n",
      "23:\tlearn: 3120.0199750\ttotal: 2.88s\tremaining: 5.52s\n",
      "24:\tlearn: 3080.8815966\ttotal: 2.98s\tremaining: 5.37s\n",
      "25:\tlearn: 3043.6277463\ttotal: 3.08s\tremaining: 5.22s\n",
      "26:\tlearn: 3009.6660510\ttotal: 3.27s\tremaining: 5.21s\n",
      "27:\tlearn: 2975.0013903\ttotal: 3.37s\tremaining: 5.06s\n",
      "28:\tlearn: 2943.3973586\ttotal: 3.47s\tremaining: 4.91s\n",
      "29:\tlearn: 2914.4208719\ttotal: 3.66s\tremaining: 4.89s\n",
      "30:\tlearn: 2882.8321566\ttotal: 3.77s\tremaining: 4.74s\n",
      "31:\tlearn: 2855.6562112\ttotal: 3.87s\tremaining: 4.6s\n",
      "32:\tlearn: 2826.3719825\ttotal: 3.97s\tremaining: 4.45s\n",
      "33:\tlearn: 2799.7827340\ttotal: 4.16s\tremaining: 4.41s\n",
      "34:\tlearn: 2775.0214183\ttotal: 4.26s\tremaining: 4.26s\n",
      "35:\tlearn: 2750.2085287\ttotal: 4.37s\tremaining: 4.12s\n",
      "36:\tlearn: 2727.0957273\ttotal: 4.47s\tremaining: 3.99s\n",
      "37:\tlearn: 2702.9349685\ttotal: 4.66s\tremaining: 3.92s\n",
      "38:\tlearn: 2679.3659467\ttotal: 4.76s\tremaining: 3.78s\n",
      "39:\tlearn: 2657.1592581\ttotal: 4.86s\tremaining: 3.65s\n",
      "40:\tlearn: 2637.2116246\ttotal: 4.96s\tremaining: 3.51s\n",
      "41:\tlearn: 2617.7378453\ttotal: 5.16s\tremaining: 3.44s\n",
      "42:\tlearn: 2597.4989412\ttotal: 5.26s\tremaining: 3.3s\n",
      "43:\tlearn: 2579.5488356\ttotal: 5.36s\tremaining: 3.17s\n",
      "44:\tlearn: 2560.7927323\ttotal: 5.47s\tremaining: 3.04s\n",
      "45:\tlearn: 2543.5008343\ttotal: 5.65s\tremaining: 2.95s\n",
      "46:\tlearn: 2525.2918448\ttotal: 5.75s\tremaining: 2.82s\n",
      "47:\tlearn: 2509.8696971\ttotal: 5.86s\tremaining: 2.68s\n",
      "48:\tlearn: 2493.5918958\ttotal: 5.96s\tremaining: 2.55s\n",
      "49:\tlearn: 2478.0715914\ttotal: 6.06s\tremaining: 2.42s\n",
      "50:\tlearn: 2462.7521809\ttotal: 6.25s\tremaining: 2.33s\n",
      "51:\tlearn: 2447.9664807\ttotal: 6.35s\tremaining: 2.2s\n",
      "52:\tlearn: 2434.5718811\ttotal: 6.45s\tremaining: 2.07s\n",
      "53:\tlearn: 2421.9426785\ttotal: 6.56s\tremaining: 1.94s\n",
      "54:\tlearn: 2410.1176106\ttotal: 6.66s\tremaining: 1.81s\n",
      "55:\tlearn: 2397.3969796\ttotal: 6.84s\tremaining: 1.71s\n",
      "56:\tlearn: 2384.9405214\ttotal: 6.95s\tremaining: 1.58s\n",
      "57:\tlearn: 2373.9988933\ttotal: 7.05s\tremaining: 1.46s\n",
      "58:\tlearn: 2362.2874005\ttotal: 7.15s\tremaining: 1.33s\n",
      "59:\tlearn: 2351.4422656\ttotal: 7.26s\tremaining: 1.21s\n",
      "60:\tlearn: 2341.5188625\ttotal: 7.44s\tremaining: 1.1s\n",
      "61:\tlearn: 2331.3429924\ttotal: 7.54s\tremaining: 973ms\n",
      "62:\tlearn: 2321.1548418\ttotal: 7.65s\tremaining: 850ms\n",
      "63:\tlearn: 2311.0827440\ttotal: 7.75s\tremaining: 726ms\n",
      "64:\tlearn: 2302.0615772\ttotal: 7.85s\tremaining: 604ms\n",
      "65:\tlearn: 2293.6901268\ttotal: 8.04s\tremaining: 487ms\n",
      "66:\tlearn: 2285.5225277\ttotal: 8.14s\tremaining: 364ms\n",
      "67:\tlearn: 2277.4060830\ttotal: 8.24s\tremaining: 242ms\n",
      "68:\tlearn: 2268.3999093\ttotal: 8.35s\tremaining: 121ms\n",
      "69:\tlearn: 2259.8708769\ttotal: 8.53s\tremaining: 0us\n",
      "0:\tlearn: 4448.7661309\ttotal: 98.2ms\tremaining: 6.78s\n",
      "1:\tlearn: 4356.8532379\ttotal: 289ms\tremaining: 9.82s\n",
      "2:\tlearn: 4268.3099819\ttotal: 398ms\tremaining: 8.89s\n",
      "3:\tlearn: 4185.5578435\ttotal: 589ms\tremaining: 9.72s\n",
      "4:\tlearn: 4104.9211895\ttotal: 786ms\tremaining: 10.2s\n",
      "5:\tlearn: 4025.8353539\ttotal: 894ms\tremaining: 9.54s\n",
      "6:\tlearn: 3948.9466828\ttotal: 1.09s\tremaining: 9.78s\n",
      "7:\tlearn: 3876.9530266\ttotal: 1.28s\tremaining: 9.94s\n",
      "8:\tlearn: 3805.0836340\ttotal: 1.39s\tremaining: 9.42s\n",
      "9:\tlearn: 3736.7668421\ttotal: 1.58s\tremaining: 9.52s\n",
      "10:\tlearn: 3671.3220194\ttotal: 1.78s\tremaining: 9.55s\n",
      "11:\tlearn: 3607.6906018\ttotal: 1.89s\tremaining: 9.11s\n",
      "12:\tlearn: 3546.5788217\ttotal: 2.08s\tremaining: 9.12s\n",
      "13:\tlearn: 3487.1064545\ttotal: 2.19s\tremaining: 8.75s\n",
      "14:\tlearn: 3431.4682850\ttotal: 2.38s\tremaining: 8.73s\n",
      "15:\tlearn: 3374.9454192\ttotal: 2.58s\tremaining: 8.7s\n",
      "16:\tlearn: 3321.9252931\ttotal: 2.69s\tremaining: 8.38s\n",
      "17:\tlearn: 3272.1977919\ttotal: 2.88s\tremaining: 8.31s\n",
      "18:\tlearn: 3223.2936173\ttotal: 3.07s\tremaining: 8.25s\n",
      "19:\tlearn: 3176.2348554\ttotal: 3.18s\tremaining: 7.95s\n",
      "20:\tlearn: 3131.0630026\ttotal: 3.37s\tremaining: 7.87s\n",
      "21:\tlearn: 3087.5871872\ttotal: 3.57s\tremaining: 7.79s\n",
      "22:\tlearn: 3044.8666396\ttotal: 3.68s\tremaining: 7.52s\n",
      "23:\tlearn: 3004.6133827\ttotal: 3.88s\tremaining: 7.43s\n",
      "24:\tlearn: 2966.3539394\ttotal: 4.07s\tremaining: 7.33s\n",
      "25:\tlearn: 2928.4668969\ttotal: 4.18s\tremaining: 7.08s\n",
      "26:\tlearn: 2892.7979499\ttotal: 4.37s\tremaining: 6.96s\n",
      "27:\tlearn: 2856.5145874\ttotal: 4.57s\tremaining: 6.85s\n",
      "28:\tlearn: 2824.4138771\ttotal: 4.68s\tremaining: 6.61s\n",
      "29:\tlearn: 2793.3026372\ttotal: 4.87s\tremaining: 6.49s\n",
      "30:\tlearn: 2762.5516880\ttotal: 5.06s\tremaining: 6.37s\n",
      "31:\tlearn: 2733.5075387\ttotal: 5.17s\tremaining: 6.14s\n",
      "32:\tlearn: 2704.2056431\ttotal: 5.36s\tremaining: 6.01s\n",
      "33:\tlearn: 2675.2111530\ttotal: 5.47s\tremaining: 5.79s\n",
      "34:\tlearn: 2648.2603671\ttotal: 5.67s\tremaining: 5.67s\n",
      "35:\tlearn: 2623.1909876\ttotal: 5.86s\tremaining: 5.53s\n",
      "36:\tlearn: 2597.7379701\ttotal: 5.97s\tremaining: 5.32s\n",
      "37:\tlearn: 2574.3899016\ttotal: 6.16s\tremaining: 5.19s\n",
      "38:\tlearn: 2551.9082908\ttotal: 6.27s\tremaining: 4.98s\n",
      "39:\tlearn: 2530.3380908\ttotal: 6.46s\tremaining: 4.84s\n",
      "40:\tlearn: 2510.1057627\ttotal: 6.66s\tremaining: 4.71s\n",
      "41:\tlearn: 2489.7435046\ttotal: 6.76s\tremaining: 4.51s\n",
      "42:\tlearn: 2469.4374529\ttotal: 6.95s\tremaining: 4.37s\n",
      "43:\tlearn: 2450.2891549\ttotal: 7.06s\tremaining: 4.17s\n",
      "44:\tlearn: 2431.7817185\ttotal: 7.25s\tremaining: 4.03s\n",
      "45:\tlearn: 2414.9071059\ttotal: 7.36s\tremaining: 3.84s\n",
      "46:\tlearn: 2398.1266768\ttotal: 7.55s\tremaining: 3.7s\n",
      "47:\tlearn: 2381.6861874\ttotal: 7.66s\tremaining: 3.51s\n",
      "48:\tlearn: 2366.4678632\ttotal: 7.85s\tremaining: 3.37s\n",
      "49:\tlearn: 2350.5790914\ttotal: 7.96s\tremaining: 3.18s\n",
      "50:\tlearn: 2336.5072055\ttotal: 8.15s\tremaining: 3.04s\n",
      "51:\tlearn: 2322.2438304\ttotal: 8.26s\tremaining: 2.86s\n",
      "52:\tlearn: 2309.2630920\ttotal: 8.45s\tremaining: 2.71s\n",
      "53:\tlearn: 2296.3506301\ttotal: 8.57s\tremaining: 2.54s\n",
      "54:\tlearn: 2283.8572988\ttotal: 8.75s\tremaining: 2.39s\n",
      "55:\tlearn: 2271.3327516\ttotal: 8.86s\tremaining: 2.21s\n",
      "56:\tlearn: 2259.7393155\ttotal: 9.05s\tremaining: 2.06s\n",
      "57:\tlearn: 2248.1975037\ttotal: 9.15s\tremaining: 1.89s\n",
      "58:\tlearn: 2237.7578342\ttotal: 9.35s\tremaining: 1.74s\n",
      "59:\tlearn: 2227.4736583\ttotal: 9.46s\tremaining: 1.58s\n",
      "60:\tlearn: 2216.9161879\ttotal: 9.65s\tremaining: 1.42s\n",
      "61:\tlearn: 2206.3018025\ttotal: 9.84s\tremaining: 1.27s\n",
      "62:\tlearn: 2197.0536590\ttotal: 9.95s\tremaining: 1.1s\n",
      "63:\tlearn: 2188.0344976\ttotal: 10.1s\tremaining: 951ms\n",
      "64:\tlearn: 2176.6695634\ttotal: 10.3s\tremaining: 789ms\n",
      "65:\tlearn: 2167.6097968\ttotal: 10.4s\tremaining: 633ms\n",
      "66:\tlearn: 2159.5150792\ttotal: 10.5s\tremaining: 472ms\n",
      "67:\tlearn: 2150.9507998\ttotal: 10.7s\tremaining: 316ms\n",
      "68:\tlearn: 2140.9558984\ttotal: 10.8s\tremaining: 157ms\n",
      "69:\tlearn: 2133.3298480\ttotal: 11s\tremaining: 0us\n",
      "0:\tlearn: 4442.8583640\ttotal: 169ms\tremaining: 11.6s\n",
      "1:\tlearn: 4348.2889164\ttotal: 287ms\tremaining: 9.75s\n",
      "2:\tlearn: 4257.2589369\ttotal: 488ms\tremaining: 10.9s\n",
      "3:\tlearn: 4168.7143232\ttotal: 679ms\tremaining: 11.2s\n",
      "4:\tlearn: 4082.1977689\ttotal: 878ms\tremaining: 11.4s\n",
      "5:\tlearn: 4000.0153429\ttotal: 1.08s\tremaining: 11.5s\n",
      "6:\tlearn: 3920.3316741\ttotal: 1.28s\tremaining: 11.5s\n",
      "7:\tlearn: 3843.2575636\ttotal: 1.47s\tremaining: 11.4s\n",
      "8:\tlearn: 3770.3218915\ttotal: 1.67s\tremaining: 11.3s\n",
      "9:\tlearn: 3699.9865838\ttotal: 1.87s\tremaining: 11.2s\n",
      "10:\tlearn: 3631.2206468\ttotal: 2.07s\tremaining: 11.1s\n",
      "11:\tlearn: 3565.4759823\ttotal: 2.27s\tremaining: 11s\n",
      "12:\tlearn: 3501.9008744\ttotal: 2.47s\tremaining: 10.8s\n",
      "13:\tlearn: 3440.1477873\ttotal: 2.67s\tremaining: 10.7s\n",
      "14:\tlearn: 3381.3048171\ttotal: 2.87s\tremaining: 10.5s\n",
      "15:\tlearn: 3325.8112135\ttotal: 3.06s\tremaining: 10.3s\n",
      "16:\tlearn: 3269.5943152\ttotal: 3.26s\tremaining: 10.2s\n",
      "17:\tlearn: 3216.3106271\ttotal: 3.46s\tremaining: 10s\n",
      "18:\tlearn: 3164.8771686\ttotal: 3.67s\tremaining: 9.84s\n",
      "19:\tlearn: 3115.6628839\ttotal: 3.86s\tremaining: 9.66s\n",
      "20:\tlearn: 3068.5495090\ttotal: 4.06s\tremaining: 9.48s\n",
      "21:\tlearn: 3022.3932234\ttotal: 4.26s\tremaining: 9.29s\n",
      "22:\tlearn: 2977.9900657\ttotal: 4.46s\tremaining: 9.11s\n",
      "23:\tlearn: 2935.6049432\ttotal: 4.66s\tremaining: 8.93s\n",
      "24:\tlearn: 2894.3431556\ttotal: 4.86s\tremaining: 8.74s\n",
      "25:\tlearn: 2855.5718115\ttotal: 5.05s\tremaining: 8.55s\n",
      "26:\tlearn: 2818.3967161\ttotal: 5.25s\tremaining: 8.36s\n",
      "27:\tlearn: 2783.6601191\ttotal: 5.45s\tremaining: 8.18s\n",
      "28:\tlearn: 2748.4969167\ttotal: 5.65s\tremaining: 7.99s\n",
      "29:\tlearn: 2715.0444342\ttotal: 5.85s\tremaining: 7.8s\n",
      "30:\tlearn: 2683.3541581\ttotal: 6.05s\tremaining: 7.61s\n",
      "31:\tlearn: 2651.7975974\ttotal: 6.25s\tremaining: 7.42s\n",
      "32:\tlearn: 2621.4143656\ttotal: 6.45s\tremaining: 7.23s\n",
      "33:\tlearn: 2593.2910878\ttotal: 6.64s\tremaining: 7.04s\n",
      "34:\tlearn: 2565.4804774\ttotal: 6.84s\tremaining: 6.84s\n",
      "35:\tlearn: 2538.7256054\ttotal: 7.05s\tremaining: 6.66s\n",
      "36:\tlearn: 2513.4254634\ttotal: 7.25s\tremaining: 6.46s\n",
      "37:\tlearn: 2489.0735604\ttotal: 7.46s\tremaining: 6.28s\n",
      "38:\tlearn: 2465.2168862\ttotal: 7.65s\tremaining: 6.08s\n",
      "39:\tlearn: 2442.5361877\ttotal: 7.85s\tremaining: 5.89s\n",
      "40:\tlearn: 2420.5428513\ttotal: 8.04s\tremaining: 5.69s\n",
      "41:\tlearn: 2399.8339277\ttotal: 8.25s\tremaining: 5.5s\n",
      "42:\tlearn: 2380.1997937\ttotal: 8.44s\tremaining: 5.3s\n",
      "43:\tlearn: 2361.0160970\ttotal: 8.64s\tremaining: 5.11s\n",
      "44:\tlearn: 2342.3505142\ttotal: 8.93s\tremaining: 4.96s\n",
      "45:\tlearn: 2324.5174881\ttotal: 9.14s\tremaining: 4.77s\n",
      "46:\tlearn: 2306.8740245\ttotal: 9.34s\tremaining: 4.57s\n",
      "47:\tlearn: 2290.6119249\ttotal: 9.63s\tremaining: 4.41s\n",
      "48:\tlearn: 2275.1696997\ttotal: 9.83s\tremaining: 4.21s\n",
      "49:\tlearn: 2260.1628360\ttotal: 10s\tremaining: 4.01s\n",
      "50:\tlearn: 2245.8680978\ttotal: 10.2s\tremaining: 3.81s\n",
      "51:\tlearn: 2232.1454325\ttotal: 10.4s\tremaining: 3.61s\n",
      "52:\tlearn: 2219.1891171\ttotal: 10.6s\tremaining: 3.41s\n",
      "53:\tlearn: 2206.2441954\ttotal: 10.8s\tremaining: 3.21s\n",
      "54:\tlearn: 2193.9199542\ttotal: 11s\tremaining: 3.01s\n",
      "55:\tlearn: 2181.0063662\ttotal: 11.2s\tremaining: 2.81s\n",
      "56:\tlearn: 2167.3899232\ttotal: 11.4s\tremaining: 2.6s\n",
      "57:\tlearn: 2155.5114944\ttotal: 11.6s\tremaining: 2.4s\n",
      "58:\tlearn: 2144.2265305\ttotal: 11.8s\tremaining: 2.2s\n",
      "59:\tlearn: 2134.1889654\ttotal: 12s\tremaining: 2s\n",
      "60:\tlearn: 2123.6722462\ttotal: 12.2s\tremaining: 1.8s\n",
      "61:\tlearn: 2113.8920489\ttotal: 12.4s\tremaining: 1.6s\n",
      "62:\tlearn: 2103.9711591\ttotal: 12.6s\tremaining: 1.4s\n",
      "63:\tlearn: 2094.7319650\ttotal: 12.8s\tremaining: 1.2s\n",
      "64:\tlearn: 2084.4271580\ttotal: 13s\tremaining: 1s\n",
      "65:\tlearn: 2076.0928461\ttotal: 13.2s\tremaining: 801ms\n",
      "66:\tlearn: 2067.9708992\ttotal: 13.4s\tremaining: 601ms\n",
      "67:\tlearn: 2059.2922030\ttotal: 13.6s\tremaining: 400ms\n",
      "68:\tlearn: 2051.7980565\ttotal: 13.8s\tremaining: 200ms\n",
      "69:\tlearn: 2044.1350368\ttotal: 14s\tremaining: 0us\n",
      "0:\tlearn: 4441.5282549\ttotal: 248ms\tremaining: 17.1s\n",
      "1:\tlearn: 4343.5547014\ttotal: 547ms\tremaining: 18.6s\n",
      "2:\tlearn: 4249.8870085\ttotal: 761ms\tremaining: 17s\n",
      "3:\tlearn: 4159.1829195\ttotal: 1.06s\tremaining: 17.4s\n",
      "4:\tlearn: 4070.9298994\ttotal: 1.35s\tremaining: 17.5s\n",
      "5:\tlearn: 3986.6751538\ttotal: 1.64s\tremaining: 17.5s\n",
      "6:\tlearn: 3904.9852965\ttotal: 1.85s\tremaining: 16.7s\n",
      "7:\tlearn: 3826.5374726\ttotal: 2.15s\tremaining: 16.6s\n",
      "8:\tlearn: 3749.4237960\ttotal: 2.44s\tremaining: 16.5s\n",
      "9:\tlearn: 3675.7314807\ttotal: 2.65s\tremaining: 15.9s\n",
      "10:\tlearn: 3604.5996514\ttotal: 2.94s\tremaining: 15.8s\n",
      "11:\tlearn: 3536.4766419\ttotal: 3.16s\tremaining: 15.3s\n",
      "12:\tlearn: 3470.7274821\ttotal: 3.44s\tremaining: 15.1s\n",
      "13:\tlearn: 3406.8121909\ttotal: 3.65s\tremaining: 14.6s\n",
      "14:\tlearn: 3345.4109341\ttotal: 3.94s\tremaining: 14.5s\n",
      "15:\tlearn: 3286.1553808\ttotal: 4.24s\tremaining: 14.3s\n",
      "16:\tlearn: 3229.6209435\ttotal: 4.53s\tremaining: 14.1s\n",
      "17:\tlearn: 3175.4547203\ttotal: 4.75s\tremaining: 13.7s\n",
      "18:\tlearn: 3122.9993761\ttotal: 5.04s\tremaining: 13.5s\n",
      "19:\tlearn: 3072.7975654\ttotal: 5.33s\tremaining: 13.3s\n",
      "20:\tlearn: 3024.9490776\ttotal: 5.54s\tremaining: 12.9s\n",
      "21:\tlearn: 2978.8703754\ttotal: 5.83s\tremaining: 12.7s\n",
      "22:\tlearn: 2934.5475767\ttotal: 6.13s\tremaining: 12.5s\n",
      "23:\tlearn: 2892.7693584\ttotal: 6.42s\tremaining: 12.3s\n",
      "24:\tlearn: 2851.7020926\ttotal: 6.64s\tremaining: 12s\n",
      "25:\tlearn: 2811.1969482\ttotal: 6.93s\tremaining: 11.7s\n",
      "26:\tlearn: 2771.8625216\ttotal: 7.23s\tremaining: 11.5s\n",
      "27:\tlearn: 2734.5299155\ttotal: 7.52s\tremaining: 11.3s\n",
      "28:\tlearn: 2698.6604193\ttotal: 7.74s\tremaining: 10.9s\n",
      "29:\tlearn: 2664.2613618\ttotal: 8.03s\tremaining: 10.7s\n",
      "30:\tlearn: 2631.2427150\ttotal: 8.32s\tremaining: 10.5s\n",
      "31:\tlearn: 2599.9543965\ttotal: 8.54s\tremaining: 10.1s\n",
      "32:\tlearn: 2569.0992049\ttotal: 8.83s\tremaining: 9.9s\n",
      "33:\tlearn: 2538.3325293\ttotal: 9.13s\tremaining: 9.66s\n",
      "34:\tlearn: 2510.3772013\ttotal: 9.42s\tremaining: 9.42s\n",
      "35:\tlearn: 2482.7098805\ttotal: 9.64s\tremaining: 9.1s\n",
      "36:\tlearn: 2456.4427246\ttotal: 9.93s\tremaining: 8.86s\n",
      "37:\tlearn: 2431.9772774\ttotal: 10.2s\tremaining: 8.61s\n",
      "38:\tlearn: 2407.3803367\ttotal: 10.5s\tremaining: 8.36s\n",
      "39:\tlearn: 2384.2873333\ttotal: 10.8s\tremaining: 8.11s\n",
      "40:\tlearn: 2362.2776402\ttotal: 11s\tremaining: 7.8s\n",
      "41:\tlearn: 2340.2023477\ttotal: 11.3s\tremaining: 7.54s\n",
      "42:\tlearn: 2319.6291176\ttotal: 11.5s\tremaining: 7.24s\n",
      "43:\tlearn: 2298.4697145\ttotal: 11.8s\tremaining: 6.99s\n",
      "44:\tlearn: 2278.7715287\ttotal: 12.1s\tremaining: 6.73s\n",
      "45:\tlearn: 2260.9808833\ttotal: 12.3s\tremaining: 6.43s\n",
      "46:\tlearn: 2243.4335141\ttotal: 12.6s\tremaining: 6.17s\n",
      "47:\tlearn: 2226.0074784\ttotal: 12.9s\tremaining: 5.92s\n",
      "48:\tlearn: 2209.9633128\ttotal: 13.1s\tremaining: 5.63s\n",
      "49:\tlearn: 2194.2303087\ttotal: 13.4s\tremaining: 5.37s\n",
      "50:\tlearn: 2178.5971870\ttotal: 13.7s\tremaining: 5.11s\n",
      "51:\tlearn: 2164.0291279\ttotal: 13.9s\tremaining: 4.82s\n",
      "52:\tlearn: 2149.8779461\ttotal: 14.2s\tremaining: 4.56s\n",
      "53:\tlearn: 2135.1296293\ttotal: 14.5s\tremaining: 4.3s\n",
      "54:\tlearn: 2121.8222011\ttotal: 14.8s\tremaining: 4.04s\n",
      "55:\tlearn: 2108.5321826\ttotal: 15s\tremaining: 3.75s\n",
      "56:\tlearn: 2096.3303350\ttotal: 15.3s\tremaining: 3.49s\n",
      "57:\tlearn: 2085.1389051\ttotal: 15.6s\tremaining: 3.23s\n",
      "58:\tlearn: 2074.3950157\ttotal: 15.9s\tremaining: 2.96s\n",
      "59:\tlearn: 2063.7398970\ttotal: 16.1s\tremaining: 2.69s\n",
      "60:\tlearn: 2053.8590089\ttotal: 16.4s\tremaining: 2.42s\n",
      "61:\tlearn: 2043.8706279\ttotal: 16.7s\tremaining: 2.15s\n",
      "62:\tlearn: 2033.8792386\ttotal: 16.9s\tremaining: 1.88s\n",
      "63:\tlearn: 2023.2026101\ttotal: 17.2s\tremaining: 1.61s\n",
      "64:\tlearn: 2014.1444170\ttotal: 17.5s\tremaining: 1.35s\n",
      "65:\tlearn: 2005.4768540\ttotal: 17.8s\tremaining: 1.08s\n",
      "66:\tlearn: 1997.1710444\ttotal: 18s\tremaining: 806ms\n",
      "67:\tlearn: 1988.2269560\ttotal: 18.3s\tremaining: 538ms\n",
      "68:\tlearn: 1980.3603679\ttotal: 18.6s\tremaining: 270ms\n",
      "69:\tlearn: 1973.1208531\ttotal: 18.9s\tremaining: 0us\n",
      "0:\tlearn: 4455.9019048\ttotal: 109ms\tremaining: 8.61s\n",
      "1:\tlearn: 4372.1230381\ttotal: 214ms\tremaining: 8.34s\n",
      "2:\tlearn: 4292.4136951\ttotal: 325ms\tremaining: 8.35s\n",
      "3:\tlearn: 4215.6173472\ttotal: 507ms\tremaining: 9.63s\n",
      "4:\tlearn: 4141.6699390\ttotal: 616ms\tremaining: 9.24s\n",
      "5:\tlearn: 4070.2147160\ttotal: 805ms\tremaining: 9.93s\n",
      "6:\tlearn: 4000.0967871\ttotal: 910ms\tremaining: 9.49s\n",
      "7:\tlearn: 3928.5125173\ttotal: 1.01s\tremaining: 9.1s\n",
      "8:\tlearn: 3864.9064822\ttotal: 1.2s\tremaining: 9.48s\n",
      "9:\tlearn: 3800.8141580\ttotal: 1.3s\tremaining: 9.12s\n",
      "10:\tlearn: 3740.6531598\ttotal: 1.41s\tremaining: 8.82s\n",
      "11:\tlearn: 3680.9000395\ttotal: 1.51s\tremaining: 8.56s\n",
      "12:\tlearn: 3622.1221304\ttotal: 1.7s\tremaining: 8.77s\n",
      "13:\tlearn: 3566.4037694\ttotal: 1.8s\tremaining: 8.51s\n",
      "14:\tlearn: 3513.3765571\ttotal: 1.91s\tremaining: 8.27s\n",
      "15:\tlearn: 3462.1834742\ttotal: 2.1s\tremaining: 8.39s\n",
      "16:\tlearn: 3414.3463620\ttotal: 2.2s\tremaining: 8.16s\n",
      "17:\tlearn: 3365.8659928\ttotal: 2.31s\tremaining: 7.94s\n",
      "18:\tlearn: 3320.4093817\ttotal: 2.5s\tremaining: 8.01s\n",
      "19:\tlearn: 3278.6650553\ttotal: 2.6s\tremaining: 7.8s\n",
      "20:\tlearn: 3234.7355107\ttotal: 2.71s\tremaining: 7.62s\n",
      "21:\tlearn: 3195.7312354\ttotal: 2.89s\tremaining: 7.63s\n",
      "22:\tlearn: 3157.6159177\ttotal: 3s\tremaining: 7.43s\n",
      "23:\tlearn: 3120.0199750\ttotal: 3.1s\tremaining: 7.23s\n",
      "24:\tlearn: 3080.8815966\ttotal: 3.2s\tremaining: 7.04s\n",
      "25:\tlearn: 3043.6277463\ttotal: 3.39s\tremaining: 7.04s\n",
      "26:\tlearn: 3009.6660510\ttotal: 3.49s\tremaining: 6.86s\n",
      "27:\tlearn: 2975.0013903\ttotal: 3.62s\tremaining: 6.72s\n",
      "28:\tlearn: 2943.3973586\ttotal: 3.78s\tremaining: 6.65s\n",
      "29:\tlearn: 2914.4208719\ttotal: 3.89s\tremaining: 6.48s\n",
      "30:\tlearn: 2882.8321566\ttotal: 3.99s\tremaining: 6.31s\n",
      "31:\tlearn: 2855.6562112\ttotal: 4.09s\tremaining: 6.14s\n",
      "32:\tlearn: 2826.3719825\ttotal: 4.28s\tremaining: 6.1s\n",
      "33:\tlearn: 2799.7827340\ttotal: 4.38s\tremaining: 5.93s\n",
      "34:\tlearn: 2775.0214183\ttotal: 4.49s\tremaining: 5.77s\n",
      "35:\tlearn: 2750.2085287\ttotal: 4.68s\tremaining: 5.72s\n",
      "36:\tlearn: 2727.0957273\ttotal: 4.78s\tremaining: 5.55s\n",
      "37:\tlearn: 2702.9349685\ttotal: 4.88s\tremaining: 5.4s\n",
      "38:\tlearn: 2679.3659467\ttotal: 4.99s\tremaining: 5.24s\n",
      "39:\tlearn: 2657.1592581\ttotal: 5.17s\tremaining: 5.17s\n",
      "40:\tlearn: 2637.2116246\ttotal: 5.28s\tremaining: 5.02s\n",
      "41:\tlearn: 2617.7378453\ttotal: 5.38s\tremaining: 4.87s\n",
      "42:\tlearn: 2597.4989412\ttotal: 5.48s\tremaining: 4.72s\n",
      "43:\tlearn: 2579.5488356\ttotal: 5.59s\tremaining: 4.58s\n",
      "44:\tlearn: 2560.7927323\ttotal: 5.77s\tremaining: 4.49s\n",
      "45:\tlearn: 2543.5008343\ttotal: 5.88s\tremaining: 4.34s\n",
      "46:\tlearn: 2525.2918448\ttotal: 5.98s\tremaining: 4.2s\n",
      "47:\tlearn: 2509.8696971\ttotal: 6.17s\tremaining: 4.11s\n",
      "48:\tlearn: 2493.5918958\ttotal: 6.27s\tremaining: 3.97s\n",
      "49:\tlearn: 2478.0715914\ttotal: 6.38s\tremaining: 3.83s\n",
      "50:\tlearn: 2462.7521809\ttotal: 6.57s\tremaining: 3.73s\n",
      "51:\tlearn: 2447.9664807\ttotal: 6.67s\tremaining: 3.59s\n",
      "52:\tlearn: 2434.5718811\ttotal: 6.77s\tremaining: 3.45s\n",
      "53:\tlearn: 2421.9426785\ttotal: 6.87s\tremaining: 3.31s\n",
      "54:\tlearn: 2410.1176106\ttotal: 7.06s\tremaining: 3.21s\n",
      "55:\tlearn: 2397.3969796\ttotal: 7.17s\tremaining: 3.07s\n",
      "56:\tlearn: 2384.9405214\ttotal: 7.27s\tremaining: 2.93s\n",
      "57:\tlearn: 2373.9988933\ttotal: 7.37s\tremaining: 2.8s\n",
      "58:\tlearn: 2362.2874005\ttotal: 7.56s\tremaining: 2.69s\n",
      "59:\tlearn: 2351.4422656\ttotal: 7.67s\tremaining: 2.56s\n",
      "60:\tlearn: 2341.5188625\ttotal: 7.77s\tremaining: 2.42s\n",
      "61:\tlearn: 2331.3429924\ttotal: 7.88s\tremaining: 2.29s\n",
      "62:\tlearn: 2321.1548418\ttotal: 8.06s\tremaining: 2.17s\n",
      "63:\tlearn: 2311.0827440\ttotal: 8.16s\tremaining: 2.04s\n",
      "64:\tlearn: 2302.0615772\ttotal: 8.27s\tremaining: 1.91s\n",
      "65:\tlearn: 2293.6901268\ttotal: 8.37s\tremaining: 1.77s\n",
      "66:\tlearn: 2285.5225277\ttotal: 8.55s\tremaining: 1.66s\n",
      "67:\tlearn: 2277.4060830\ttotal: 8.66s\tremaining: 1.53s\n",
      "68:\tlearn: 2268.3999093\ttotal: 8.76s\tremaining: 1.4s\n",
      "69:\tlearn: 2259.8708769\ttotal: 8.86s\tremaining: 1.26s\n",
      "70:\tlearn: 2252.4924622\ttotal: 8.96s\tremaining: 1.14s\n",
      "71:\tlearn: 2244.8880524\ttotal: 9.15s\tremaining: 1.02s\n",
      "72:\tlearn: 2237.5039553\ttotal: 9.25s\tremaining: 887ms\n",
      "73:\tlearn: 2231.0850680\ttotal: 9.36s\tremaining: 759ms\n",
      "74:\tlearn: 2224.4266994\ttotal: 9.46s\tremaining: 630ms\n",
      "75:\tlearn: 2217.2689759\ttotal: 9.58s\tremaining: 504ms\n",
      "76:\tlearn: 2211.1668962\ttotal: 9.75s\tremaining: 380ms\n",
      "77:\tlearn: 2205.5493632\ttotal: 9.85s\tremaining: 253ms\n",
      "78:\tlearn: 2199.0299430\ttotal: 9.95s\tremaining: 126ms\n",
      "79:\tlearn: 2192.8160930\ttotal: 10.1s\tremaining: 0us\n",
      "0:\tlearn: 4448.7661309\ttotal: 44.7ms\tremaining: 3.53s\n",
      "1:\tlearn: 4356.8532379\ttotal: 236ms\tremaining: 9.19s\n",
      "2:\tlearn: 4268.3099819\ttotal: 342ms\tremaining: 8.78s\n",
      "3:\tlearn: 4185.5578435\ttotal: 534ms\tremaining: 10.2s\n",
      "4:\tlearn: 4104.9211895\ttotal: 641ms\tremaining: 9.62s\n",
      "5:\tlearn: 4025.8353539\ttotal: 833ms\tremaining: 10.3s\n",
      "6:\tlearn: 3948.9466828\ttotal: 943ms\tremaining: 9.84s\n",
      "7:\tlearn: 3876.9530266\ttotal: 1.13s\tremaining: 10.2s\n",
      "8:\tlearn: 3805.0836340\ttotal: 1.24s\tremaining: 9.8s\n",
      "9:\tlearn: 3736.7668421\ttotal: 1.43s\tremaining: 10s\n",
      "10:\tlearn: 3671.3220194\ttotal: 1.54s\tremaining: 9.67s\n",
      "11:\tlearn: 3607.6906018\ttotal: 1.73s\tremaining: 9.81s\n",
      "12:\tlearn: 3546.5788217\ttotal: 1.84s\tremaining: 9.48s\n",
      "13:\tlearn: 3487.1064545\ttotal: 2.03s\tremaining: 9.57s\n",
      "14:\tlearn: 3431.4682850\ttotal: 2.14s\tremaining: 9.27s\n",
      "15:\tlearn: 3374.9454192\ttotal: 2.33s\tremaining: 9.32s\n",
      "16:\tlearn: 3321.9252931\ttotal: 2.52s\tremaining: 9.36s\n",
      "17:\tlearn: 3272.1977919\ttotal: 2.63s\tremaining: 9.06s\n",
      "18:\tlearn: 3223.2936173\ttotal: 2.82s\tremaining: 9.07s\n",
      "19:\tlearn: 3176.2348554\ttotal: 2.93s\tremaining: 8.8s\n",
      "20:\tlearn: 3131.0630026\ttotal: 3.13s\tremaining: 8.79s\n",
      "21:\tlearn: 3087.5871872\ttotal: 3.32s\tremaining: 8.76s\n",
      "22:\tlearn: 3044.8666396\ttotal: 3.43s\tremaining: 8.5s\n",
      "23:\tlearn: 3004.6133827\ttotal: 3.62s\tremaining: 8.45s\n",
      "24:\tlearn: 2966.3539394\ttotal: 3.73s\tremaining: 8.22s\n",
      "25:\tlearn: 2928.4668969\ttotal: 3.93s\tremaining: 8.15s\n",
      "26:\tlearn: 2892.7979499\ttotal: 4.12s\tremaining: 8.08s\n",
      "27:\tlearn: 2856.5145874\ttotal: 4.23s\tremaining: 7.85s\n",
      "28:\tlearn: 2824.4138771\ttotal: 4.42s\tremaining: 7.77s\n",
      "29:\tlearn: 2793.3026372\ttotal: 4.62s\tremaining: 7.69s\n",
      "30:\tlearn: 2762.5516880\ttotal: 4.72s\tremaining: 7.46s\n",
      "31:\tlearn: 2733.5075387\ttotal: 4.92s\tremaining: 7.37s\n",
      "32:\tlearn: 2704.2056431\ttotal: 5.02s\tremaining: 7.15s\n",
      "33:\tlearn: 2675.2111530\ttotal: 5.22s\tremaining: 7.06s\n",
      "34:\tlearn: 2648.2603671\ttotal: 5.41s\tremaining: 6.96s\n",
      "35:\tlearn: 2623.1909876\ttotal: 5.61s\tremaining: 6.86s\n",
      "36:\tlearn: 2597.7379701\ttotal: 5.72s\tremaining: 6.64s\n",
      "37:\tlearn: 2574.3899016\ttotal: 5.91s\tremaining: 6.53s\n",
      "38:\tlearn: 2551.9082908\ttotal: 6.02s\tremaining: 6.32s\n",
      "39:\tlearn: 2530.3380908\ttotal: 6.21s\tremaining: 6.21s\n",
      "40:\tlearn: 2510.1057627\ttotal: 6.32s\tremaining: 6.01s\n",
      "41:\tlearn: 2489.7435046\ttotal: 6.51s\tremaining: 5.89s\n",
      "42:\tlearn: 2469.4374529\ttotal: 6.7s\tremaining: 5.77s\n",
      "43:\tlearn: 2450.2891549\ttotal: 6.81s\tremaining: 5.57s\n",
      "44:\tlearn: 2431.7817185\ttotal: 7s\tremaining: 5.45s\n",
      "45:\tlearn: 2414.9071059\ttotal: 7.11s\tremaining: 5.25s\n",
      "46:\tlearn: 2398.1266768\ttotal: 7.3s\tremaining: 5.13s\n",
      "47:\tlearn: 2381.6861874\ttotal: 7.42s\tremaining: 4.95s\n",
      "48:\tlearn: 2366.4678632\ttotal: 7.61s\tremaining: 4.81s\n",
      "49:\tlearn: 2350.5790914\ttotal: 7.8s\tremaining: 4.68s\n",
      "50:\tlearn: 2336.5072055\ttotal: 8s\tremaining: 4.55s\n",
      "51:\tlearn: 2322.2438304\ttotal: 8.11s\tremaining: 4.36s\n",
      "52:\tlearn: 2309.2630920\ttotal: 8.3s\tremaining: 4.23s\n",
      "53:\tlearn: 2296.3506301\ttotal: 8.4s\tremaining: 4.05s\n",
      "54:\tlearn: 2283.8572988\ttotal: 8.6s\tremaining: 3.91s\n",
      "55:\tlearn: 2271.3327516\ttotal: 8.71s\tremaining: 3.73s\n",
      "56:\tlearn: 2259.7393155\ttotal: 8.9s\tremaining: 3.59s\n",
      "57:\tlearn: 2248.1975037\ttotal: 9.09s\tremaining: 3.45s\n",
      "58:\tlearn: 2237.7578342\ttotal: 9.2s\tremaining: 3.27s\n",
      "59:\tlearn: 2227.4736583\ttotal: 9.39s\tremaining: 3.13s\n",
      "60:\tlearn: 2216.9161879\ttotal: 9.5s\tremaining: 2.96s\n",
      "61:\tlearn: 2206.3018025\ttotal: 9.69s\tremaining: 2.81s\n",
      "62:\tlearn: 2197.0536590\ttotal: 9.8s\tremaining: 2.65s\n",
      "63:\tlearn: 2188.0344976\ttotal: 10s\tremaining: 2.5s\n",
      "64:\tlearn: 2176.6695634\ttotal: 10.2s\tremaining: 2.35s\n",
      "65:\tlearn: 2167.6097968\ttotal: 10.3s\tremaining: 2.18s\n",
      "66:\tlearn: 2159.5150792\ttotal: 10.5s\tremaining: 2.03s\n",
      "67:\tlearn: 2150.9507998\ttotal: 10.6s\tremaining: 1.87s\n",
      "68:\tlearn: 2140.9558984\ttotal: 10.8s\tremaining: 1.72s\n",
      "69:\tlearn: 2133.3298480\ttotal: 10.9s\tremaining: 1.55s\n",
      "70:\tlearn: 2125.7435346\ttotal: 11.1s\tremaining: 1.4s\n",
      "71:\tlearn: 2118.9886935\ttotal: 11.3s\tremaining: 1.25s\n",
      "72:\tlearn: 2110.1448877\ttotal: 11.4s\tremaining: 1.09s\n",
      "73:\tlearn: 2103.7160357\ttotal: 11.6s\tremaining: 938ms\n",
      "74:\tlearn: 2096.6173769\ttotal: 11.7s\tremaining: 779ms\n",
      "75:\tlearn: 2090.4533644\ttotal: 11.9s\tremaining: 625ms\n",
      "76:\tlearn: 2084.2631113\ttotal: 12s\tremaining: 467ms\n",
      "77:\tlearn: 2078.4915517\ttotal: 12.2s\tremaining: 312ms\n",
      "78:\tlearn: 2072.0927376\ttotal: 12.3s\tremaining: 155ms\n",
      "79:\tlearn: 2064.7251924\ttotal: 12.5s\tremaining: 0us\n",
      "0:\tlearn: 4442.8583640\ttotal: 135ms\tremaining: 10.6s\n",
      "1:\tlearn: 4348.2889164\ttotal: 334ms\tremaining: 13s\n",
      "2:\tlearn: 4257.2589369\ttotal: 534ms\tremaining: 13.7s\n",
      "3:\tlearn: 4168.7143232\ttotal: 732ms\tremaining: 13.9s\n",
      "4:\tlearn: 4082.1977689\ttotal: 932ms\tremaining: 14s\n",
      "5:\tlearn: 4000.0153429\ttotal: 1.05s\tremaining: 13s\n",
      "6:\tlearn: 3920.3316741\ttotal: 1.33s\tremaining: 13.8s\n",
      "7:\tlearn: 3843.2575636\ttotal: 1.44s\tremaining: 13s\n",
      "8:\tlearn: 3770.3218915\ttotal: 1.64s\tremaining: 12.9s\n",
      "9:\tlearn: 3699.9865838\ttotal: 1.84s\tremaining: 12.9s\n",
      "10:\tlearn: 3631.2206468\ttotal: 2.04s\tremaining: 12.8s\n",
      "11:\tlearn: 3565.4759823\ttotal: 2.24s\tremaining: 12.7s\n",
      "12:\tlearn: 3501.9008744\ttotal: 2.43s\tremaining: 12.5s\n",
      "13:\tlearn: 3440.1477873\ttotal: 2.64s\tremaining: 12.4s\n",
      "14:\tlearn: 3381.3048171\ttotal: 2.83s\tremaining: 12.3s\n",
      "15:\tlearn: 3325.8112135\ttotal: 3.04s\tremaining: 12.2s\n",
      "16:\tlearn: 3269.5943152\ttotal: 3.24s\tremaining: 12s\n",
      "17:\tlearn: 3216.3106271\ttotal: 3.44s\tremaining: 11.9s\n",
      "18:\tlearn: 3164.8771686\ttotal: 3.65s\tremaining: 11.7s\n",
      "19:\tlearn: 3115.6628839\ttotal: 3.84s\tremaining: 11.5s\n",
      "20:\tlearn: 3068.5495090\ttotal: 4.12s\tremaining: 11.6s\n",
      "21:\tlearn: 3022.3932234\ttotal: 4.24s\tremaining: 11.2s\n",
      "22:\tlearn: 2977.9900657\ttotal: 4.52s\tremaining: 11.2s\n",
      "23:\tlearn: 2935.6049432\ttotal: 4.72s\tremaining: 11s\n",
      "24:\tlearn: 2894.3431556\ttotal: 4.92s\tremaining: 10.8s\n",
      "25:\tlearn: 2855.5718115\ttotal: 5.12s\tremaining: 10.6s\n",
      "26:\tlearn: 2818.3967161\ttotal: 5.23s\tremaining: 10.3s\n",
      "27:\tlearn: 2783.6601191\ttotal: 5.51s\tremaining: 10.2s\n",
      "28:\tlearn: 2748.4969167\ttotal: 5.71s\tremaining: 10s\n",
      "29:\tlearn: 2715.0444342\ttotal: 5.91s\tremaining: 9.85s\n",
      "30:\tlearn: 2683.3541581\ttotal: 6.03s\tremaining: 9.53s\n",
      "31:\tlearn: 2651.7975974\ttotal: 6.31s\tremaining: 9.46s\n",
      "32:\tlearn: 2621.4143656\ttotal: 6.42s\tremaining: 9.14s\n",
      "33:\tlearn: 2593.2910878\ttotal: 6.63s\tremaining: 8.97s\n",
      "34:\tlearn: 2565.4804774\ttotal: 6.83s\tremaining: 8.78s\n",
      "35:\tlearn: 2538.7256054\ttotal: 7.03s\tremaining: 8.59s\n",
      "36:\tlearn: 2513.4254634\ttotal: 7.23s\tremaining: 8.4s\n",
      "37:\tlearn: 2489.0735604\ttotal: 7.42s\tremaining: 8.2s\n",
      "38:\tlearn: 2465.2168862\ttotal: 7.62s\tremaining: 8.01s\n",
      "39:\tlearn: 2442.5361877\ttotal: 7.81s\tremaining: 7.81s\n",
      "40:\tlearn: 2420.5428513\ttotal: 8.02s\tremaining: 7.62s\n",
      "41:\tlearn: 2399.8339277\ttotal: 8.21s\tremaining: 7.43s\n",
      "42:\tlearn: 2380.1997937\ttotal: 8.41s\tremaining: 7.24s\n",
      "43:\tlearn: 2361.0160970\ttotal: 8.61s\tremaining: 7.04s\n",
      "44:\tlearn: 2342.3505142\ttotal: 8.8s\tremaining: 6.85s\n",
      "45:\tlearn: 2324.5174881\ttotal: 9s\tremaining: 6.65s\n",
      "46:\tlearn: 2306.8740245\ttotal: 9.2s\tremaining: 6.46s\n",
      "47:\tlearn: 2290.6119249\ttotal: 9.4s\tremaining: 6.27s\n",
      "48:\tlearn: 2275.1696997\ttotal: 9.6s\tremaining: 6.07s\n",
      "49:\tlearn: 2260.1628360\ttotal: 9.8s\tremaining: 5.88s\n",
      "50:\tlearn: 2245.8680978\ttotal: 10s\tremaining: 5.68s\n",
      "51:\tlearn: 2232.1454325\ttotal: 10.2s\tremaining: 5.49s\n",
      "52:\tlearn: 2219.1891171\ttotal: 10.4s\tremaining: 5.3s\n",
      "53:\tlearn: 2206.2441954\ttotal: 10.6s\tremaining: 5.1s\n",
      "54:\tlearn: 2193.9199542\ttotal: 10.8s\tremaining: 4.91s\n",
      "55:\tlearn: 2181.0063662\ttotal: 11s\tremaining: 4.71s\n",
      "56:\tlearn: 2167.3899232\ttotal: 11.2s\tremaining: 4.52s\n",
      "57:\tlearn: 2155.5114944\ttotal: 11.4s\tremaining: 4.32s\n",
      "58:\tlearn: 2144.2265305\ttotal: 11.6s\tremaining: 4.13s\n",
      "59:\tlearn: 2134.1889654\ttotal: 11.8s\tremaining: 3.93s\n",
      "60:\tlearn: 2123.6722462\ttotal: 12s\tremaining: 3.73s\n",
      "61:\tlearn: 2113.8920489\ttotal: 12.2s\tremaining: 3.54s\n",
      "62:\tlearn: 2103.9711591\ttotal: 12.4s\tremaining: 3.34s\n",
      "63:\tlearn: 2094.7319650\ttotal: 12.6s\tremaining: 3.15s\n",
      "64:\tlearn: 2084.4271580\ttotal: 12.8s\tremaining: 2.95s\n",
      "65:\tlearn: 2076.0928461\ttotal: 13s\tremaining: 2.75s\n",
      "66:\tlearn: 2067.9708992\ttotal: 13.2s\tremaining: 2.56s\n",
      "67:\tlearn: 2059.2922030\ttotal: 13.4s\tremaining: 2.36s\n",
      "68:\tlearn: 2051.7980565\ttotal: 13.6s\tremaining: 2.17s\n",
      "69:\tlearn: 2044.1350368\ttotal: 13.8s\tremaining: 1.97s\n",
      "70:\tlearn: 2037.0333800\ttotal: 14s\tremaining: 1.77s\n",
      "71:\tlearn: 2029.4600909\ttotal: 14.2s\tremaining: 1.57s\n",
      "72:\tlearn: 2021.2061556\ttotal: 14.4s\tremaining: 1.38s\n",
      "73:\tlearn: 2012.7754570\ttotal: 14.6s\tremaining: 1.18s\n",
      "74:\tlearn: 2004.7761518\ttotal: 14.8s\tremaining: 985ms\n",
      "75:\tlearn: 1998.8238618\ttotal: 15s\tremaining: 788ms\n",
      "76:\tlearn: 1993.1401771\ttotal: 15.2s\tremaining: 591ms\n",
      "77:\tlearn: 1986.5339611\ttotal: 15.3s\tremaining: 392ms\n",
      "78:\tlearn: 1980.4995470\ttotal: 15.5s\tremaining: 196ms\n",
      "79:\tlearn: 1974.5582585\ttotal: 15.7s\tremaining: 0us\n",
      "0:\tlearn: 4441.5282549\ttotal: 149ms\tremaining: 11.7s\n",
      "1:\tlearn: 4343.5547014\ttotal: 444ms\tremaining: 17.3s\n",
      "2:\tlearn: 4249.8870085\ttotal: 658ms\tremaining: 16.9s\n",
      "3:\tlearn: 4159.1829195\ttotal: 948ms\tremaining: 18s\n",
      "4:\tlearn: 4070.9298994\ttotal: 1.24s\tremaining: 18.6s\n",
      "5:\tlearn: 3986.6751538\ttotal: 1.53s\tremaining: 18.9s\n",
      "6:\tlearn: 3904.9852965\ttotal: 1.75s\tremaining: 18.2s\n",
      "7:\tlearn: 3826.5374726\ttotal: 2.04s\tremaining: 18.4s\n",
      "8:\tlearn: 3749.4237960\ttotal: 2.33s\tremaining: 18.4s\n",
      "9:\tlearn: 3675.7314807\ttotal: 2.55s\tremaining: 17.9s\n",
      "10:\tlearn: 3604.5996514\ttotal: 2.84s\tremaining: 17.8s\n",
      "11:\tlearn: 3536.4766419\ttotal: 3.13s\tremaining: 17.8s\n",
      "12:\tlearn: 3470.7274821\ttotal: 3.34s\tremaining: 17.2s\n",
      "13:\tlearn: 3406.8121909\ttotal: 3.63s\tremaining: 17.1s\n",
      "14:\tlearn: 3345.4109341\ttotal: 3.85s\tremaining: 16.7s\n",
      "15:\tlearn: 3286.1553808\ttotal: 4.14s\tremaining: 16.5s\n",
      "16:\tlearn: 3229.6209435\ttotal: 4.35s\tremaining: 16.1s\n",
      "17:\tlearn: 3175.4547203\ttotal: 4.63s\tremaining: 15.9s\n",
      "18:\tlearn: 3122.9993761\ttotal: 4.85s\tremaining: 15.6s\n",
      "19:\tlearn: 3072.7975654\ttotal: 5.13s\tremaining: 15.4s\n",
      "20:\tlearn: 3024.9490776\ttotal: 5.42s\tremaining: 15.2s\n",
      "21:\tlearn: 2978.8703754\ttotal: 5.64s\tremaining: 14.9s\n",
      "22:\tlearn: 2934.5475767\ttotal: 5.93s\tremaining: 14.7s\n",
      "23:\tlearn: 2892.7693584\ttotal: 6.22s\tremaining: 14.5s\n",
      "24:\tlearn: 2851.7020926\ttotal: 6.43s\tremaining: 14.1s\n",
      "25:\tlearn: 2811.1969482\ttotal: 6.72s\tremaining: 14s\n",
      "26:\tlearn: 2771.8625216\ttotal: 7.02s\tremaining: 13.8s\n",
      "27:\tlearn: 2734.5299155\ttotal: 7.23s\tremaining: 13.4s\n",
      "28:\tlearn: 2698.6604193\ttotal: 7.52s\tremaining: 13.2s\n",
      "29:\tlearn: 2664.2613618\ttotal: 7.82s\tremaining: 13s\n",
      "30:\tlearn: 2631.2427150\ttotal: 8.11s\tremaining: 12.8s\n",
      "31:\tlearn: 2599.9543965\ttotal: 8.32s\tremaining: 12.5s\n",
      "32:\tlearn: 2569.0992049\ttotal: 8.62s\tremaining: 12.3s\n",
      "33:\tlearn: 2538.3325293\ttotal: 8.91s\tremaining: 12.1s\n",
      "34:\tlearn: 2510.3772013\ttotal: 9.12s\tremaining: 11.7s\n",
      "35:\tlearn: 2482.7098805\ttotal: 9.41s\tremaining: 11.5s\n",
      "36:\tlearn: 2456.4427246\ttotal: 9.62s\tremaining: 11.2s\n",
      "37:\tlearn: 2431.9772774\ttotal: 9.91s\tremaining: 11s\n",
      "38:\tlearn: 2407.3803367\ttotal: 10.2s\tremaining: 10.7s\n",
      "39:\tlearn: 2384.2873333\ttotal: 10.4s\tremaining: 10.4s\n",
      "40:\tlearn: 2362.2776402\ttotal: 10.7s\tremaining: 10.2s\n",
      "41:\tlearn: 2340.2023477\ttotal: 11s\tremaining: 9.96s\n",
      "42:\tlearn: 2319.6291176\ttotal: 11.2s\tremaining: 9.65s\n",
      "43:\tlearn: 2298.4697145\ttotal: 11.5s\tremaining: 9.41s\n",
      "44:\tlearn: 2278.7715287\ttotal: 11.8s\tremaining: 9.18s\n",
      "45:\tlearn: 2260.9808833\ttotal: 12s\tremaining: 8.88s\n",
      "46:\tlearn: 2243.4335141\ttotal: 12.3s\tremaining: 8.64s\n",
      "47:\tlearn: 2226.0074784\ttotal: 12.5s\tremaining: 8.34s\n",
      "48:\tlearn: 2209.9633128\ttotal: 12.8s\tremaining: 8.1s\n",
      "49:\tlearn: 2194.2303087\ttotal: 13.1s\tremaining: 7.86s\n",
      "50:\tlearn: 2178.5971870\ttotal: 13.3s\tremaining: 7.57s\n",
      "51:\tlearn: 2164.0291279\ttotal: 13.6s\tremaining: 7.32s\n",
      "52:\tlearn: 2149.8779461\ttotal: 13.9s\tremaining: 7.08s\n",
      "53:\tlearn: 2135.1296293\ttotal: 14.1s\tremaining: 6.8s\n",
      "54:\tlearn: 2121.8222011\ttotal: 14.4s\tremaining: 6.55s\n",
      "55:\tlearn: 2108.5321826\ttotal: 14.7s\tremaining: 6.3s\n",
      "56:\tlearn: 2096.3303350\ttotal: 15s\tremaining: 6.05s\n",
      "57:\tlearn: 2085.1389051\ttotal: 15.2s\tremaining: 5.76s\n",
      "58:\tlearn: 2074.3950157\ttotal: 15.5s\tremaining: 5.51s\n",
      "59:\tlearn: 2063.7398970\ttotal: 15.8s\tremaining: 5.26s\n",
      "60:\tlearn: 2053.8590089\ttotal: 16s\tremaining: 4.98s\n",
      "61:\tlearn: 2043.8706279\ttotal: 16.3s\tremaining: 4.73s\n",
      "62:\tlearn: 2033.8792386\ttotal: 16.6s\tremaining: 4.48s\n",
      "63:\tlearn: 2023.2026101\ttotal: 16.8s\tremaining: 4.2s\n",
      "64:\tlearn: 2014.1444170\ttotal: 17.1s\tremaining: 3.94s\n",
      "65:\tlearn: 2005.4768540\ttotal: 17.4s\tremaining: 3.69s\n",
      "66:\tlearn: 1997.1710444\ttotal: 17.6s\tremaining: 3.41s\n",
      "67:\tlearn: 1988.2269560\ttotal: 17.9s\tremaining: 3.16s\n",
      "68:\tlearn: 1980.3603679\ttotal: 18.1s\tremaining: 2.88s\n",
      "69:\tlearn: 1973.1208531\ttotal: 18.4s\tremaining: 2.63s\n",
      "70:\tlearn: 1964.5517413\ttotal: 18.7s\tremaining: 2.37s\n",
      "71:\tlearn: 1956.7831325\ttotal: 19s\tremaining: 2.11s\n",
      "72:\tlearn: 1949.0510816\ttotal: 19.2s\tremaining: 1.84s\n",
      "73:\tlearn: 1941.1716345\ttotal: 19.5s\tremaining: 1.58s\n",
      "74:\tlearn: 1935.1114435\ttotal: 19.8s\tremaining: 1.32s\n",
      "75:\tlearn: 1928.7223596\ttotal: 20s\tremaining: 1.05s\n",
      "76:\tlearn: 1922.6189485\ttotal: 20.3s\tremaining: 790ms\n",
      "77:\tlearn: 1917.4764068\ttotal: 20.5s\tremaining: 525ms\n",
      "78:\tlearn: 1912.3050484\ttotal: 20.8s\tremaining: 263ms\n",
      "79:\tlearn: 1907.2658409\ttotal: 21.1s\tremaining: 0us\n",
      "0:\tlearn: 4455.9019048\ttotal: 28.1ms\tremaining: 2.5s\n",
      "1:\tlearn: 4372.1230381\ttotal: 128ms\tremaining: 5.63s\n",
      "2:\tlearn: 4292.4136951\ttotal: 233ms\tremaining: 6.76s\n",
      "3:\tlearn: 4215.6173472\ttotal: 424ms\tremaining: 9.12s\n",
      "4:\tlearn: 4141.6699390\ttotal: 527ms\tremaining: 8.96s\n",
      "5:\tlearn: 4070.2147160\ttotal: 631ms\tremaining: 8.83s\n",
      "6:\tlearn: 4000.0967871\ttotal: 821ms\tremaining: 9.73s\n",
      "7:\tlearn: 3928.5125173\ttotal: 924ms\tremaining: 9.47s\n",
      "8:\tlearn: 3864.9064822\ttotal: 1.02s\tremaining: 9.23s\n",
      "9:\tlearn: 3800.8141580\ttotal: 1.13s\tremaining: 9.04s\n",
      "10:\tlearn: 3740.6531598\ttotal: 1.32s\tremaining: 9.47s\n",
      "11:\tlearn: 3680.9000395\ttotal: 1.42s\tremaining: 9.24s\n",
      "12:\tlearn: 3622.1221304\ttotal: 1.52s\tremaining: 9.03s\n",
      "13:\tlearn: 3566.4037694\ttotal: 1.63s\tremaining: 8.84s\n",
      "14:\tlearn: 3513.3765571\ttotal: 1.82s\tremaining: 9.08s\n",
      "15:\tlearn: 3462.1834742\ttotal: 1.93s\tremaining: 8.91s\n",
      "16:\tlearn: 3414.3463620\ttotal: 2.12s\tremaining: 9.11s\n",
      "17:\tlearn: 3365.8659928\ttotal: 2.31s\tremaining: 9.26s\n",
      "18:\tlearn: 3320.4093817\ttotal: 2.42s\tremaining: 9.05s\n",
      "19:\tlearn: 3278.6650553\ttotal: 2.62s\tremaining: 9.16s\n",
      "20:\tlearn: 3234.7355107\ttotal: 2.72s\tremaining: 8.94s\n",
      "21:\tlearn: 3195.7312354\ttotal: 2.91s\tremaining: 8.99s\n",
      "22:\tlearn: 3157.6159177\ttotal: 3.01s\tremaining: 8.78s\n",
      "23:\tlearn: 3120.0199750\ttotal: 3.12s\tremaining: 8.57s\n",
      "24:\tlearn: 3080.8815966\ttotal: 3.22s\tremaining: 8.37s\n",
      "25:\tlearn: 3043.6277463\ttotal: 3.41s\tremaining: 8.39s\n",
      "26:\tlearn: 3009.6660510\ttotal: 3.52s\tremaining: 8.21s\n",
      "27:\tlearn: 2975.0013903\ttotal: 3.71s\tremaining: 8.2s\n",
      "28:\tlearn: 2943.3973586\ttotal: 3.81s\tremaining: 8.01s\n",
      "29:\tlearn: 2914.4208719\ttotal: 3.91s\tremaining: 7.82s\n",
      "30:\tlearn: 2882.8321566\ttotal: 4.01s\tremaining: 7.63s\n",
      "31:\tlearn: 2855.6562112\ttotal: 4.12s\tremaining: 7.46s\n",
      "32:\tlearn: 2826.3719825\ttotal: 4.3s\tremaining: 7.43s\n",
      "33:\tlearn: 2799.7827340\ttotal: 4.4s\tremaining: 7.25s\n",
      "34:\tlearn: 2775.0214183\ttotal: 4.5s\tremaining: 7.08s\n",
      "35:\tlearn: 2750.2085287\ttotal: 4.61s\tremaining: 6.92s\n",
      "36:\tlearn: 2727.0957273\ttotal: 4.8s\tremaining: 6.88s\n",
      "37:\tlearn: 2702.9349685\ttotal: 4.9s\tremaining: 6.71s\n",
      "38:\tlearn: 2679.3659467\ttotal: 5.01s\tremaining: 6.55s\n",
      "39:\tlearn: 2657.1592581\ttotal: 5.2s\tremaining: 6.49s\n",
      "40:\tlearn: 2637.2116246\ttotal: 5.3s\tremaining: 6.33s\n",
      "41:\tlearn: 2617.7378453\ttotal: 5.4s\tremaining: 6.17s\n",
      "42:\tlearn: 2597.4989412\ttotal: 5.5s\tremaining: 6.02s\n",
      "43:\tlearn: 2579.5488356\ttotal: 5.69s\tremaining: 5.95s\n",
      "44:\tlearn: 2560.7927323\ttotal: 5.8s\tremaining: 5.8s\n",
      "45:\tlearn: 2543.5008343\ttotal: 5.9s\tremaining: 5.64s\n",
      "46:\tlearn: 2525.2918448\ttotal: 6.01s\tremaining: 5.5s\n",
      "47:\tlearn: 2509.8696971\ttotal: 6.19s\tremaining: 5.42s\n",
      "48:\tlearn: 2493.5918958\ttotal: 6.29s\tremaining: 5.26s\n",
      "49:\tlearn: 2478.0715914\ttotal: 6.39s\tremaining: 5.11s\n",
      "50:\tlearn: 2462.7521809\ttotal: 6.5s\tremaining: 4.97s\n",
      "51:\tlearn: 2447.9664807\ttotal: 6.6s\tremaining: 4.82s\n",
      "52:\tlearn: 2434.5718811\ttotal: 6.79s\tremaining: 4.74s\n",
      "53:\tlearn: 2421.9426785\ttotal: 6.89s\tremaining: 4.59s\n",
      "54:\tlearn: 2410.1176106\ttotal: 6.99s\tremaining: 4.45s\n",
      "55:\tlearn: 2397.3969796\ttotal: 7.09s\tremaining: 4.3s\n",
      "56:\tlearn: 2384.9405214\ttotal: 7.28s\tremaining: 4.22s\n",
      "57:\tlearn: 2373.9988933\ttotal: 7.38s\tremaining: 4.07s\n",
      "58:\tlearn: 2362.2874005\ttotal: 7.49s\tremaining: 3.93s\n",
      "59:\tlearn: 2351.4422656\ttotal: 7.58s\tremaining: 3.79s\n",
      "60:\tlearn: 2341.5188625\ttotal: 7.68s\tremaining: 3.65s\n",
      "61:\tlearn: 2331.3429924\ttotal: 7.87s\tremaining: 3.56s\n",
      "62:\tlearn: 2321.1548418\ttotal: 7.97s\tremaining: 3.42s\n",
      "63:\tlearn: 2311.0827440\ttotal: 8.08s\tremaining: 3.28s\n",
      "64:\tlearn: 2302.0615772\ttotal: 8.18s\tremaining: 3.15s\n",
      "65:\tlearn: 2293.6901268\ttotal: 8.28s\tremaining: 3.01s\n",
      "66:\tlearn: 2285.5225277\ttotal: 8.46s\tremaining: 2.91s\n",
      "67:\tlearn: 2277.4060830\ttotal: 8.57s\tremaining: 2.77s\n",
      "68:\tlearn: 2268.3999093\ttotal: 8.67s\tremaining: 2.64s\n",
      "69:\tlearn: 2259.8708769\ttotal: 8.77s\tremaining: 2.51s\n",
      "70:\tlearn: 2252.4924622\ttotal: 8.87s\tremaining: 2.37s\n",
      "71:\tlearn: 2244.8880524\ttotal: 9.06s\tremaining: 2.27s\n",
      "72:\tlearn: 2237.5039553\ttotal: 9.16s\tremaining: 2.13s\n",
      "73:\tlearn: 2231.0850680\ttotal: 9.27s\tremaining: 2s\n",
      "74:\tlearn: 2224.4266994\ttotal: 9.37s\tremaining: 1.87s\n",
      "75:\tlearn: 2217.2689759\ttotal: 9.56s\tremaining: 1.76s\n",
      "76:\tlearn: 2211.1668962\ttotal: 9.66s\tremaining: 1.63s\n",
      "77:\tlearn: 2205.5493632\ttotal: 9.76s\tremaining: 1.5s\n",
      "78:\tlearn: 2199.0299430\ttotal: 9.86s\tremaining: 1.37s\n",
      "79:\tlearn: 2192.8160930\ttotal: 9.97s\tremaining: 1.25s\n",
      "80:\tlearn: 2186.4127902\ttotal: 10.1s\tremaining: 1.12s\n",
      "81:\tlearn: 2180.5718202\ttotal: 10.3s\tremaining: 1s\n",
      "82:\tlearn: 2175.3145916\ttotal: 10.4s\tremaining: 873ms\n",
      "83:\tlearn: 2169.6115791\ttotal: 10.5s\tremaining: 747ms\n",
      "84:\tlearn: 2164.5243877\ttotal: 10.6s\tremaining: 621ms\n",
      "85:\tlearn: 2158.8888775\ttotal: 10.7s\tremaining: 496ms\n",
      "86:\tlearn: 2153.5411838\ttotal: 10.9s\tremaining: 374ms\n",
      "87:\tlearn: 2148.2901997\ttotal: 11s\tremaining: 249ms\n",
      "88:\tlearn: 2142.4033252\ttotal: 11.1s\tremaining: 124ms\n",
      "89:\tlearn: 2137.3646354\ttotal: 11.2s\tremaining: 0us\n",
      "0:\tlearn: 4448.7661309\ttotal: 72.4ms\tremaining: 6.44s\n",
      "1:\tlearn: 4356.8532379\ttotal: 266ms\tremaining: 11.7s\n",
      "2:\tlearn: 4268.3099819\ttotal: 373ms\tremaining: 10.8s\n",
      "3:\tlearn: 4185.5578435\ttotal: 566ms\tremaining: 12.2s\n",
      "4:\tlearn: 4104.9211895\ttotal: 673ms\tremaining: 11.4s\n",
      "5:\tlearn: 4025.8353539\ttotal: 864ms\tremaining: 12.1s\n",
      "6:\tlearn: 3948.9466828\ttotal: 974ms\tremaining: 11.6s\n",
      "7:\tlearn: 3876.9530266\ttotal: 1.17s\tremaining: 12s\n",
      "8:\tlearn: 3805.0836340\ttotal: 1.36s\tremaining: 12.2s\n",
      "9:\tlearn: 3736.7668421\ttotal: 1.47s\tremaining: 11.8s\n",
      "10:\tlearn: 3671.3220194\ttotal: 1.66s\tremaining: 11.9s\n",
      "11:\tlearn: 3607.6906018\ttotal: 1.77s\tremaining: 11.5s\n",
      "12:\tlearn: 3546.5788217\ttotal: 1.96s\tremaining: 11.6s\n",
      "13:\tlearn: 3487.1064545\ttotal: 2.08s\tremaining: 11.3s\n",
      "14:\tlearn: 3431.4682850\ttotal: 2.26s\tremaining: 11.3s\n",
      "15:\tlearn: 3374.9454192\ttotal: 2.46s\tremaining: 11.4s\n",
      "16:\tlearn: 3321.9252931\ttotal: 2.56s\tremaining: 11s\n",
      "17:\tlearn: 3272.1977919\ttotal: 2.76s\tremaining: 11s\n",
      "18:\tlearn: 3223.2936173\ttotal: 2.86s\tremaining: 10.7s\n",
      "19:\tlearn: 3176.2348554\ttotal: 3.05s\tremaining: 10.7s\n",
      "20:\tlearn: 3131.0630026\ttotal: 3.25s\tremaining: 10.7s\n",
      "21:\tlearn: 3087.5871872\ttotal: 3.36s\tremaining: 10.4s\n",
      "22:\tlearn: 3044.8666396\ttotal: 3.55s\tremaining: 10.3s\n",
      "23:\tlearn: 3004.6133827\ttotal: 3.66s\tremaining: 10.1s\n",
      "24:\tlearn: 2966.3539394\ttotal: 3.85s\tremaining: 10s\n",
      "25:\tlearn: 2928.4668969\ttotal: 4.04s\tremaining: 9.95s\n",
      "26:\tlearn: 2892.7979499\ttotal: 4.15s\tremaining: 9.68s\n",
      "27:\tlearn: 2856.5145874\ttotal: 4.34s\tremaining: 9.61s\n",
      "28:\tlearn: 2824.4138771\ttotal: 4.46s\tremaining: 9.37s\n",
      "29:\tlearn: 2793.3026372\ttotal: 4.64s\tremaining: 9.28s\n",
      "30:\tlearn: 2762.5516880\ttotal: 4.75s\tremaining: 9.04s\n",
      "31:\tlearn: 2733.5075387\ttotal: 4.94s\tremaining: 8.95s\n",
      "32:\tlearn: 2704.2056431\ttotal: 5.05s\tremaining: 8.72s\n",
      "33:\tlearn: 2675.2111530\ttotal: 5.24s\tremaining: 8.63s\n",
      "34:\tlearn: 2648.2603671\ttotal: 5.35s\tremaining: 8.4s\n",
      "35:\tlearn: 2623.1909876\ttotal: 5.54s\tremaining: 8.31s\n",
      "36:\tlearn: 2597.7379701\ttotal: 5.65s\tremaining: 8.09s\n",
      "37:\tlearn: 2574.3899016\ttotal: 5.84s\tremaining: 7.99s\n",
      "38:\tlearn: 2551.9082908\ttotal: 6.03s\tremaining: 7.89s\n",
      "39:\tlearn: 2530.3380908\ttotal: 6.14s\tremaining: 7.68s\n",
      "40:\tlearn: 2510.1057627\ttotal: 6.33s\tremaining: 7.57s\n",
      "41:\tlearn: 2489.7435046\ttotal: 6.44s\tremaining: 7.36s\n",
      "42:\tlearn: 2469.4374529\ttotal: 6.63s\tremaining: 7.25s\n",
      "43:\tlearn: 2450.2891549\ttotal: 6.74s\tremaining: 7.05s\n",
      "44:\tlearn: 2431.7817185\ttotal: 6.93s\tremaining: 6.93s\n",
      "45:\tlearn: 2414.9071059\ttotal: 7.04s\tremaining: 6.73s\n",
      "46:\tlearn: 2398.1266768\ttotal: 7.23s\tremaining: 6.61s\n",
      "47:\tlearn: 2381.6861874\ttotal: 7.34s\tremaining: 6.42s\n",
      "48:\tlearn: 2366.4678632\ttotal: 7.53s\tremaining: 6.3s\n",
      "49:\tlearn: 2350.5790914\ttotal: 7.72s\tremaining: 6.18s\n",
      "50:\tlearn: 2336.5072055\ttotal: 7.83s\tremaining: 5.99s\n",
      "51:\tlearn: 2322.2438304\ttotal: 8.02s\tremaining: 5.86s\n",
      "52:\tlearn: 2309.2630920\ttotal: 8.13s\tremaining: 5.68s\n",
      "53:\tlearn: 2296.3506301\ttotal: 8.32s\tremaining: 5.55s\n",
      "54:\tlearn: 2283.8572988\ttotal: 8.43s\tremaining: 5.37s\n",
      "55:\tlearn: 2271.3327516\ttotal: 8.62s\tremaining: 5.24s\n",
      "56:\tlearn: 2259.7393155\ttotal: 8.73s\tremaining: 5.05s\n",
      "57:\tlearn: 2248.1975037\ttotal: 8.92s\tremaining: 4.92s\n",
      "58:\tlearn: 2237.7578342\ttotal: 9.03s\tremaining: 4.74s\n",
      "59:\tlearn: 2227.4736583\ttotal: 9.22s\tremaining: 4.61s\n",
      "60:\tlearn: 2216.9161879\ttotal: 9.42s\tremaining: 4.48s\n",
      "61:\tlearn: 2206.3018025\ttotal: 9.53s\tremaining: 4.3s\n",
      "62:\tlearn: 2197.0536590\ttotal: 9.72s\tremaining: 4.17s\n",
      "63:\tlearn: 2188.0344976\ttotal: 9.83s\tremaining: 4s\n",
      "64:\tlearn: 2176.6695634\ttotal: 10s\tremaining: 3.85s\n",
      "65:\tlearn: 2167.6097968\ttotal: 10.2s\tremaining: 3.71s\n",
      "66:\tlearn: 2159.5150792\ttotal: 10.3s\tremaining: 3.54s\n",
      "67:\tlearn: 2150.9507998\ttotal: 10.5s\tremaining: 3.4s\n",
      "68:\tlearn: 2140.9558984\ttotal: 10.7s\tremaining: 3.26s\n",
      "69:\tlearn: 2133.3298480\ttotal: 10.8s\tremaining: 3.09s\n",
      "70:\tlearn: 2125.7435346\ttotal: 11s\tremaining: 2.95s\n",
      "71:\tlearn: 2118.9886935\ttotal: 11.1s\tremaining: 2.78s\n",
      "72:\tlearn: 2110.1448877\ttotal: 11.3s\tremaining: 2.63s\n",
      "73:\tlearn: 2103.7160357\ttotal: 11.5s\tremaining: 2.49s\n",
      "74:\tlearn: 2096.6173769\ttotal: 11.6s\tremaining: 2.32s\n",
      "75:\tlearn: 2090.4533644\ttotal: 11.8s\tremaining: 2.17s\n",
      "76:\tlearn: 2084.2631113\ttotal: 11.9s\tremaining: 2.01s\n",
      "77:\tlearn: 2078.4915517\ttotal: 12.1s\tremaining: 1.86s\n",
      "78:\tlearn: 2072.0927376\ttotal: 12.3s\tremaining: 1.71s\n",
      "79:\tlearn: 2064.7251924\ttotal: 12.4s\tremaining: 1.55s\n",
      "80:\tlearn: 2058.1666855\ttotal: 12.6s\tremaining: 1.4s\n",
      "81:\tlearn: 2052.8888675\ttotal: 12.8s\tremaining: 1.25s\n",
      "82:\tlearn: 2047.4818411\ttotal: 12.9s\tremaining: 1.09s\n",
      "83:\tlearn: 2042.6528481\ttotal: 13.1s\tremaining: 936ms\n",
      "84:\tlearn: 2037.4746380\ttotal: 13.2s\tremaining: 777ms\n",
      "85:\tlearn: 2031.3416001\ttotal: 13.4s\tremaining: 623ms\n",
      "86:\tlearn: 2026.1749160\ttotal: 13.6s\tremaining: 469ms\n",
      "87:\tlearn: 2021.2241515\ttotal: 13.7s\tremaining: 312ms\n",
      "88:\tlearn: 2016.4711813\ttotal: 13.9s\tremaining: 156ms\n",
      "89:\tlearn: 2012.0361740\ttotal: 14.1s\tremaining: 0us\n",
      "0:\tlearn: 4442.8583640\ttotal: 133ms\tremaining: 11.8s\n",
      "1:\tlearn: 4348.2889164\ttotal: 332ms\tremaining: 14.6s\n",
      "2:\tlearn: 4257.2589369\ttotal: 532ms\tremaining: 15.4s\n",
      "3:\tlearn: 4168.7143232\ttotal: 650ms\tremaining: 14s\n",
      "4:\tlearn: 4082.1977689\ttotal: 849ms\tremaining: 14.4s\n",
      "5:\tlearn: 4000.0153429\ttotal: 1.04s\tremaining: 14.6s\n",
      "6:\tlearn: 3920.3316741\ttotal: 1.24s\tremaining: 14.7s\n",
      "7:\tlearn: 3843.2575636\ttotal: 1.44s\tremaining: 14.7s\n",
      "8:\tlearn: 3770.3218915\ttotal: 1.64s\tremaining: 14.7s\n",
      "9:\tlearn: 3699.9865838\ttotal: 1.83s\tremaining: 14.7s\n",
      "10:\tlearn: 3631.2206468\ttotal: 2.03s\tremaining: 14.6s\n",
      "11:\tlearn: 3565.4759823\ttotal: 2.23s\tremaining: 14.5s\n",
      "12:\tlearn: 3501.9008744\ttotal: 2.43s\tremaining: 14.4s\n",
      "13:\tlearn: 3440.1477873\ttotal: 2.63s\tremaining: 14.3s\n",
      "14:\tlearn: 3381.3048171\ttotal: 2.83s\tremaining: 14.1s\n",
      "15:\tlearn: 3325.8112135\ttotal: 3.03s\tremaining: 14s\n",
      "16:\tlearn: 3269.5943152\ttotal: 3.23s\tremaining: 13.8s\n",
      "17:\tlearn: 3216.3106271\ttotal: 3.42s\tremaining: 13.7s\n",
      "18:\tlearn: 3164.8771686\ttotal: 3.63s\tremaining: 13.5s\n",
      "19:\tlearn: 3115.6628839\ttotal: 3.83s\tremaining: 13.4s\n",
      "20:\tlearn: 3068.5495090\ttotal: 4.03s\tremaining: 13.2s\n",
      "21:\tlearn: 3022.3932234\ttotal: 4.23s\tremaining: 13.1s\n",
      "22:\tlearn: 2977.9900657\ttotal: 4.51s\tremaining: 13.2s\n",
      "23:\tlearn: 2935.6049432\ttotal: 4.71s\tremaining: 13s\n",
      "24:\tlearn: 2894.3431556\ttotal: 4.92s\tremaining: 12.8s\n",
      "25:\tlearn: 2855.5718115\ttotal: 5.11s\tremaining: 12.6s\n",
      "26:\tlearn: 2818.3967161\ttotal: 5.31s\tremaining: 12.4s\n",
      "27:\tlearn: 2783.6601191\ttotal: 5.51s\tremaining: 12.2s\n",
      "28:\tlearn: 2748.4969167\ttotal: 5.71s\tremaining: 12s\n",
      "29:\tlearn: 2715.0444342\ttotal: 5.83s\tremaining: 11.7s\n",
      "30:\tlearn: 2683.3541581\ttotal: 6.11s\tremaining: 11.6s\n",
      "31:\tlearn: 2651.7975974\ttotal: 6.22s\tremaining: 11.3s\n",
      "32:\tlearn: 2621.4143656\ttotal: 6.42s\tremaining: 11.1s\n",
      "33:\tlearn: 2593.2910878\ttotal: 6.62s\tremaining: 10.9s\n",
      "34:\tlearn: 2565.4804774\ttotal: 6.82s\tremaining: 10.7s\n",
      "35:\tlearn: 2538.7256054\ttotal: 7.01s\tremaining: 10.5s\n",
      "36:\tlearn: 2513.4254634\ttotal: 7.21s\tremaining: 10.3s\n",
      "37:\tlearn: 2489.0735604\ttotal: 7.41s\tremaining: 10.1s\n",
      "38:\tlearn: 2465.2168862\ttotal: 7.61s\tremaining: 9.95s\n",
      "39:\tlearn: 2442.5361877\ttotal: 7.8s\tremaining: 9.76s\n",
      "40:\tlearn: 2420.5428513\ttotal: 8.01s\tremaining: 9.57s\n",
      "41:\tlearn: 2399.8339277\ttotal: 8.2s\tremaining: 9.37s\n",
      "42:\tlearn: 2380.1997937\ttotal: 8.4s\tremaining: 9.19s\n",
      "43:\tlearn: 2361.0160970\ttotal: 8.6s\tremaining: 8.99s\n",
      "44:\tlearn: 2342.3505142\ttotal: 8.8s\tremaining: 8.8s\n",
      "45:\tlearn: 2324.5174881\ttotal: 9s\tremaining: 8.61s\n",
      "46:\tlearn: 2306.8740245\ttotal: 9.2s\tremaining: 8.42s\n",
      "47:\tlearn: 2290.6119249\ttotal: 9.4s\tremaining: 8.22s\n",
      "48:\tlearn: 2275.1696997\ttotal: 9.59s\tremaining: 8.03s\n",
      "49:\tlearn: 2260.1628360\ttotal: 9.79s\tremaining: 7.83s\n",
      "50:\tlearn: 2245.8680978\ttotal: 9.99s\tremaining: 7.64s\n",
      "51:\tlearn: 2232.1454325\ttotal: 10.2s\tremaining: 7.45s\n",
      "52:\tlearn: 2219.1891171\ttotal: 10.4s\tremaining: 7.25s\n",
      "53:\tlearn: 2206.2441954\ttotal: 10.6s\tremaining: 7.06s\n",
      "54:\tlearn: 2193.9199542\ttotal: 10.7s\tremaining: 6.82s\n",
      "55:\tlearn: 2181.0063662\ttotal: 10.9s\tremaining: 6.62s\n",
      "56:\tlearn: 2167.3899232\ttotal: 11.1s\tremaining: 6.43s\n",
      "57:\tlearn: 2155.5114944\ttotal: 11.3s\tremaining: 6.23s\n",
      "58:\tlearn: 2144.2265305\ttotal: 11.5s\tremaining: 6.05s\n",
      "59:\tlearn: 2134.1889654\ttotal: 11.7s\tremaining: 5.85s\n",
      "60:\tlearn: 2123.6722462\ttotal: 11.9s\tremaining: 5.66s\n",
      "61:\tlearn: 2113.8920489\ttotal: 12.1s\tremaining: 5.46s\n",
      "62:\tlearn: 2103.9711591\ttotal: 12.3s\tremaining: 5.27s\n",
      "63:\tlearn: 2094.7319650\ttotal: 12.5s\tremaining: 5.08s\n",
      "64:\tlearn: 2084.4271580\ttotal: 12.7s\tremaining: 4.88s\n",
      "65:\tlearn: 2076.0928461\ttotal: 12.9s\tremaining: 4.68s\n",
      "66:\tlearn: 2067.9708992\ttotal: 13.1s\tremaining: 4.49s\n",
      "67:\tlearn: 2059.2922030\ttotal: 13.3s\tremaining: 4.3s\n",
      "68:\tlearn: 2051.7980565\ttotal: 13.5s\tremaining: 4.1s\n",
      "69:\tlearn: 2044.1350368\ttotal: 13.7s\tremaining: 3.91s\n",
      "70:\tlearn: 2037.0333800\ttotal: 13.9s\tremaining: 3.71s\n",
      "71:\tlearn: 2029.4600909\ttotal: 14.1s\tremaining: 3.52s\n",
      "72:\tlearn: 2021.2061556\ttotal: 14.3s\tremaining: 3.33s\n",
      "73:\tlearn: 2012.7754570\ttotal: 14.5s\tremaining: 3.13s\n",
      "74:\tlearn: 2004.7761518\ttotal: 14.7s\tremaining: 2.94s\n",
      "75:\tlearn: 1998.8238618\ttotal: 14.9s\tremaining: 2.74s\n",
      "76:\tlearn: 1993.1401771\ttotal: 15s\tremaining: 2.53s\n",
      "77:\tlearn: 1986.5339611\ttotal: 15.2s\tremaining: 2.34s\n",
      "78:\tlearn: 1980.4995470\ttotal: 15.4s\tremaining: 2.14s\n",
      "79:\tlearn: 1974.5582585\ttotal: 15.6s\tremaining: 1.95s\n",
      "80:\tlearn: 1967.9187231\ttotal: 15.8s\tremaining: 1.75s\n",
      "81:\tlearn: 1961.7012410\ttotal: 16s\tremaining: 1.56s\n",
      "82:\tlearn: 1956.6541658\ttotal: 16.2s\tremaining: 1.36s\n",
      "83:\tlearn: 1950.8675186\ttotal: 16.4s\tremaining: 1.17s\n",
      "84:\tlearn: 1946.3120226\ttotal: 16.6s\tremaining: 975ms\n",
      "85:\tlearn: 1941.7128004\ttotal: 16.8s\tremaining: 780ms\n",
      "86:\tlearn: 1937.4220523\ttotal: 17s\tremaining: 585ms\n",
      "87:\tlearn: 1932.8218921\ttotal: 17.1s\tremaining: 388ms\n",
      "88:\tlearn: 1928.7845252\ttotal: 17.4s\tremaining: 195ms\n",
      "89:\tlearn: 1924.6725797\ttotal: 17.5s\tremaining: 0us\n",
      "0:\tlearn: 4441.5282549\ttotal: 171ms\tremaining: 15.2s\n",
      "1:\tlearn: 4343.5547014\ttotal: 462ms\tremaining: 20.3s\n",
      "2:\tlearn: 4249.8870085\ttotal: 759ms\tremaining: 22s\n",
      "3:\tlearn: 4159.1829195\ttotal: 969ms\tremaining: 20.8s\n",
      "4:\tlearn: 4070.9298994\ttotal: 1.26s\tremaining: 21.5s\n",
      "5:\tlearn: 3986.6751538\ttotal: 1.56s\tremaining: 21.8s\n",
      "6:\tlearn: 3904.9852965\ttotal: 1.77s\tremaining: 21s\n",
      "7:\tlearn: 3826.5374726\ttotal: 2.06s\tremaining: 21.1s\n",
      "8:\tlearn: 3749.4237960\ttotal: 2.35s\tremaining: 21.2s\n",
      "9:\tlearn: 3675.7314807\ttotal: 2.57s\tremaining: 20.6s\n",
      "10:\tlearn: 3604.5996514\ttotal: 2.86s\tremaining: 20.6s\n",
      "11:\tlearn: 3536.4766419\ttotal: 3.16s\tremaining: 20.5s\n",
      "12:\tlearn: 3470.7274821\ttotal: 3.45s\tremaining: 20.4s\n",
      "13:\tlearn: 3406.8121909\ttotal: 3.67s\tremaining: 19.9s\n",
      "14:\tlearn: 3345.4109341\ttotal: 3.95s\tremaining: 19.8s\n",
      "15:\tlearn: 3286.1553808\ttotal: 4.25s\tremaining: 19.7s\n",
      "16:\tlearn: 3229.6209435\ttotal: 4.55s\tremaining: 19.5s\n",
      "17:\tlearn: 3175.4547203\ttotal: 4.76s\tremaining: 19.1s\n",
      "18:\tlearn: 3122.9993761\ttotal: 5.06s\tremaining: 18.9s\n",
      "19:\tlearn: 3072.7975654\ttotal: 5.35s\tremaining: 18.7s\n",
      "20:\tlearn: 3024.9490776\ttotal: 5.65s\tremaining: 18.6s\n",
      "21:\tlearn: 2978.8703754\ttotal: 5.86s\tremaining: 18.1s\n",
      "22:\tlearn: 2934.5475767\ttotal: 6.15s\tremaining: 17.9s\n",
      "23:\tlearn: 2892.7693584\ttotal: 6.45s\tremaining: 17.7s\n",
      "24:\tlearn: 2851.7020926\ttotal: 6.66s\tremaining: 17.3s\n",
      "25:\tlearn: 2811.1969482\ttotal: 6.95s\tremaining: 17.1s\n",
      "26:\tlearn: 2771.8625216\ttotal: 7.15s\tremaining: 16.7s\n",
      "27:\tlearn: 2734.5299155\ttotal: 7.45s\tremaining: 16.5s\n",
      "28:\tlearn: 2698.6604193\ttotal: 7.74s\tremaining: 16.3s\n",
      "29:\tlearn: 2664.2613618\ttotal: 8.04s\tremaining: 16.1s\n",
      "30:\tlearn: 2631.2427150\ttotal: 8.25s\tremaining: 15.7s\n",
      "31:\tlearn: 2599.9543965\ttotal: 8.54s\tremaining: 15.5s\n",
      "32:\tlearn: 2569.0992049\ttotal: 8.75s\tremaining: 15.1s\n",
      "33:\tlearn: 2538.3325293\ttotal: 9.04s\tremaining: 14.9s\n",
      "34:\tlearn: 2510.3772013\ttotal: 9.34s\tremaining: 14.7s\n",
      "35:\tlearn: 2482.7098805\ttotal: 9.64s\tremaining: 14.5s\n",
      "36:\tlearn: 2456.4427246\ttotal: 9.85s\tremaining: 14.1s\n",
      "37:\tlearn: 2431.9772774\ttotal: 10.1s\tremaining: 13.9s\n",
      "38:\tlearn: 2407.3803367\ttotal: 10.4s\tremaining: 13.6s\n",
      "39:\tlearn: 2384.2873333\ttotal: 10.6s\tremaining: 13.3s\n",
      "40:\tlearn: 2362.2776402\ttotal: 10.9s\tremaining: 13.1s\n",
      "41:\tlearn: 2340.2023477\ttotal: 11.2s\tremaining: 12.8s\n",
      "42:\tlearn: 2319.6291176\ttotal: 11.5s\tremaining: 12.6s\n",
      "43:\tlearn: 2298.4697145\ttotal: 11.7s\tremaining: 12.3s\n",
      "44:\tlearn: 2278.7715287\ttotal: 12s\tremaining: 12s\n",
      "45:\tlearn: 2260.9808833\ttotal: 12.3s\tremaining: 11.8s\n",
      "46:\tlearn: 2243.4335141\ttotal: 12.5s\tremaining: 11.5s\n",
      "47:\tlearn: 2226.0074784\ttotal: 12.8s\tremaining: 11.2s\n",
      "48:\tlearn: 2209.9633128\ttotal: 13.1s\tremaining: 11s\n",
      "49:\tlearn: 2194.2303087\ttotal: 13.4s\tremaining: 10.7s\n",
      "50:\tlearn: 2178.5971870\ttotal: 13.6s\tremaining: 10.4s\n",
      "51:\tlearn: 2164.0291279\ttotal: 13.9s\tremaining: 10.2s\n",
      "52:\tlearn: 2149.8779461\ttotal: 14.1s\tremaining: 9.86s\n",
      "53:\tlearn: 2135.1296293\ttotal: 14.4s\tremaining: 9.62s\n",
      "54:\tlearn: 2121.8222011\ttotal: 14.7s\tremaining: 9.36s\n",
      "55:\tlearn: 2108.5321826\ttotal: 14.9s\tremaining: 9.06s\n",
      "56:\tlearn: 2096.3303350\ttotal: 15.2s\tremaining: 8.81s\n",
      "57:\tlearn: 2085.1389051\ttotal: 15.5s\tremaining: 8.56s\n",
      "58:\tlearn: 2074.3950157\ttotal: 15.7s\tremaining: 8.27s\n",
      "59:\tlearn: 2063.7398970\ttotal: 16s\tremaining: 8.01s\n",
      "60:\tlearn: 2053.8590089\ttotal: 16.3s\tremaining: 7.75s\n",
      "61:\tlearn: 2043.8706279\ttotal: 16.6s\tremaining: 7.5s\n",
      "62:\tlearn: 2033.8792386\ttotal: 16.8s\tremaining: 7.21s\n",
      "63:\tlearn: 2023.2026101\ttotal: 17.1s\tremaining: 6.96s\n",
      "64:\tlearn: 2014.1444170\ttotal: 17.4s\tremaining: 6.7s\n",
      "65:\tlearn: 2005.4768540\ttotal: 17.6s\tremaining: 6.41s\n",
      "66:\tlearn: 1997.1710444\ttotal: 17.9s\tremaining: 6.15s\n",
      "67:\tlearn: 1988.2269560\ttotal: 18.2s\tremaining: 5.89s\n",
      "68:\tlearn: 1980.3603679\ttotal: 18.4s\tremaining: 5.61s\n",
      "69:\tlearn: 1973.1208531\ttotal: 18.7s\tremaining: 5.35s\n",
      "70:\tlearn: 1964.5517413\ttotal: 19s\tremaining: 5.08s\n",
      "71:\tlearn: 1956.7831325\ttotal: 19.2s\tremaining: 4.8s\n",
      "72:\tlearn: 1949.0510816\ttotal: 19.5s\tremaining: 4.54s\n",
      "73:\tlearn: 1941.1716345\ttotal: 19.8s\tremaining: 4.28s\n",
      "74:\tlearn: 1935.1114435\ttotal: 20s\tremaining: 4s\n",
      "75:\tlearn: 1928.7223596\ttotal: 20.3s\tremaining: 3.74s\n",
      "76:\tlearn: 1922.6189485\ttotal: 20.6s\tremaining: 3.48s\n",
      "77:\tlearn: 1917.4764068\ttotal: 20.8s\tremaining: 3.2s\n",
      "78:\tlearn: 1912.3050484\ttotal: 21.1s\tremaining: 2.94s\n",
      "79:\tlearn: 1907.2658409\ttotal: 21.4s\tremaining: 2.67s\n",
      "80:\tlearn: 1901.8779857\ttotal: 21.6s\tremaining: 2.4s\n",
      "81:\tlearn: 1897.0128993\ttotal: 21.9s\tremaining: 2.14s\n",
      "82:\tlearn: 1891.0812150\ttotal: 22.2s\tremaining: 1.87s\n",
      "83:\tlearn: 1886.0689897\ttotal: 22.5s\tremaining: 1.61s\n",
      "84:\tlearn: 1881.5632221\ttotal: 22.7s\tremaining: 1.33s\n",
      "85:\tlearn: 1876.4923318\ttotal: 23s\tremaining: 1.07s\n",
      "86:\tlearn: 1872.4289396\ttotal: 23.3s\tremaining: 803ms\n",
      "87:\tlearn: 1868.0980920\ttotal: 23.6s\tremaining: 536ms\n",
      "88:\tlearn: 1864.3128482\ttotal: 23.9s\tremaining: 268ms\n",
      "89:\tlearn: 1859.6876706\ttotal: 24.1s\tremaining: 0us\n",
      "0:\tlearn: 4455.9019048\ttotal: 28.5ms\tremaining: 2.82s\n",
      "1:\tlearn: 4372.1230381\ttotal: 135ms\tremaining: 6.59s\n",
      "2:\tlearn: 4292.4136951\ttotal: 323ms\tremaining: 10.4s\n",
      "3:\tlearn: 4215.6173472\ttotal: 425ms\tremaining: 10.2s\n",
      "4:\tlearn: 4141.6699390\ttotal: 530ms\tremaining: 10.1s\n",
      "5:\tlearn: 4070.2147160\ttotal: 632ms\tremaining: 9.9s\n",
      "6:\tlearn: 4000.0967871\ttotal: 820ms\tremaining: 10.9s\n",
      "7:\tlearn: 3928.5125173\ttotal: 921ms\tremaining: 10.6s\n",
      "8:\tlearn: 3864.9064822\ttotal: 1.03s\tremaining: 10.4s\n",
      "9:\tlearn: 3800.8141580\ttotal: 1.13s\tremaining: 10.2s\n",
      "10:\tlearn: 3740.6531598\ttotal: 1.32s\tremaining: 10.7s\n",
      "11:\tlearn: 3680.9000395\ttotal: 1.42s\tremaining: 10.4s\n",
      "12:\tlearn: 3622.1221304\ttotal: 1.52s\tremaining: 10.2s\n",
      "13:\tlearn: 3566.4037694\ttotal: 1.71s\tremaining: 10.5s\n",
      "14:\tlearn: 3513.3765571\ttotal: 1.82s\tremaining: 10.3s\n",
      "15:\tlearn: 3462.1834742\ttotal: 1.92s\tremaining: 10.1s\n",
      "16:\tlearn: 3414.3463620\ttotal: 2.02s\tremaining: 9.88s\n",
      "17:\tlearn: 3365.8659928\ttotal: 2.21s\tremaining: 10.1s\n",
      "18:\tlearn: 3320.4093817\ttotal: 2.31s\tremaining: 9.87s\n",
      "19:\tlearn: 3278.6650553\ttotal: 2.42s\tremaining: 9.67s\n",
      "20:\tlearn: 3234.7355107\ttotal: 2.52s\tremaining: 9.48s\n",
      "21:\tlearn: 3195.7312354\ttotal: 2.63s\tremaining: 9.31s\n",
      "22:\tlearn: 3157.6159177\ttotal: 2.81s\tremaining: 9.41s\n",
      "23:\tlearn: 3120.0199750\ttotal: 2.92s\tremaining: 9.24s\n",
      "24:\tlearn: 3080.8815966\ttotal: 3.02s\tremaining: 9.06s\n",
      "25:\tlearn: 3043.6277463\ttotal: 3.2s\tremaining: 9.12s\n",
      "26:\tlearn: 3009.6660510\ttotal: 3.31s\tremaining: 8.94s\n",
      "27:\tlearn: 2975.0013903\ttotal: 3.41s\tremaining: 8.77s\n",
      "28:\tlearn: 2943.3973586\ttotal: 3.51s\tremaining: 8.6s\n",
      "29:\tlearn: 2914.4208719\ttotal: 3.7s\tremaining: 8.64s\n",
      "30:\tlearn: 2882.8321566\ttotal: 3.81s\tremaining: 8.47s\n",
      "31:\tlearn: 2855.6562112\ttotal: 3.91s\tremaining: 8.3s\n",
      "32:\tlearn: 2826.3719825\ttotal: 4.01s\tremaining: 8.14s\n",
      "33:\tlearn: 2799.7827340\ttotal: 4.11s\tremaining: 7.98s\n",
      "34:\tlearn: 2775.0214183\ttotal: 4.3s\tremaining: 7.98s\n",
      "35:\tlearn: 2750.2085287\ttotal: 4.4s\tremaining: 7.82s\n",
      "36:\tlearn: 2727.0957273\ttotal: 4.51s\tremaining: 7.67s\n",
      "37:\tlearn: 2702.9349685\ttotal: 4.61s\tremaining: 7.51s\n",
      "38:\tlearn: 2679.3659467\ttotal: 4.71s\tremaining: 7.38s\n",
      "39:\tlearn: 2657.1592581\ttotal: 4.89s\tremaining: 7.34s\n",
      "40:\tlearn: 2637.2116246\ttotal: 5s\tremaining: 7.19s\n",
      "41:\tlearn: 2617.7378453\ttotal: 5.1s\tremaining: 7.04s\n",
      "42:\tlearn: 2597.4989412\ttotal: 5.2s\tremaining: 6.89s\n",
      "43:\tlearn: 2579.5488356\ttotal: 5.39s\tremaining: 6.86s\n",
      "44:\tlearn: 2560.7927323\ttotal: 5.49s\tremaining: 6.71s\n",
      "45:\tlearn: 2543.5008343\ttotal: 5.59s\tremaining: 6.57s\n",
      "46:\tlearn: 2525.2918448\ttotal: 5.7s\tremaining: 6.43s\n",
      "47:\tlearn: 2509.8696971\ttotal: 5.8s\tremaining: 6.28s\n",
      "48:\tlearn: 2493.5918958\ttotal: 5.99s\tremaining: 6.23s\n",
      "49:\tlearn: 2478.0715914\ttotal: 6.09s\tremaining: 6.09s\n",
      "50:\tlearn: 2462.7521809\ttotal: 6.19s\tremaining: 5.95s\n",
      "51:\tlearn: 2447.9664807\ttotal: 6.3s\tremaining: 5.81s\n",
      "52:\tlearn: 2434.5718811\ttotal: 6.4s\tremaining: 5.67s\n",
      "53:\tlearn: 2421.9426785\ttotal: 6.5s\tremaining: 5.54s\n",
      "54:\tlearn: 2410.1176106\ttotal: 6.68s\tremaining: 5.47s\n",
      "55:\tlearn: 2397.3969796\ttotal: 6.78s\tremaining: 5.33s\n",
      "56:\tlearn: 2384.9405214\ttotal: 6.89s\tremaining: 5.2s\n",
      "57:\tlearn: 2373.9988933\ttotal: 6.99s\tremaining: 5.06s\n",
      "58:\tlearn: 2362.2874005\ttotal: 7.18s\tremaining: 4.99s\n",
      "59:\tlearn: 2351.4422656\ttotal: 7.29s\tremaining: 4.86s\n",
      "60:\tlearn: 2341.5188625\ttotal: 7.38s\tremaining: 4.72s\n",
      "61:\tlearn: 2331.3429924\ttotal: 7.58s\tremaining: 4.64s\n",
      "62:\tlearn: 2321.1548418\ttotal: 7.68s\tremaining: 4.51s\n",
      "63:\tlearn: 2311.0827440\ttotal: 7.78s\tremaining: 4.38s\n",
      "64:\tlearn: 2302.0615772\ttotal: 7.88s\tremaining: 4.24s\n",
      "65:\tlearn: 2293.6901268\ttotal: 7.98s\tremaining: 4.11s\n",
      "66:\tlearn: 2285.5225277\ttotal: 8.17s\tremaining: 4.03s\n",
      "67:\tlearn: 2277.4060830\ttotal: 8.28s\tremaining: 3.89s\n",
      "68:\tlearn: 2268.3999093\ttotal: 8.38s\tremaining: 3.76s\n",
      "69:\tlearn: 2259.8708769\ttotal: 8.48s\tremaining: 3.63s\n",
      "70:\tlearn: 2252.4924622\ttotal: 8.58s\tremaining: 3.5s\n",
      "71:\tlearn: 2244.8880524\ttotal: 8.68s\tremaining: 3.38s\n",
      "72:\tlearn: 2237.5039553\ttotal: 8.87s\tremaining: 3.28s\n",
      "73:\tlearn: 2231.0850680\ttotal: 8.97s\tremaining: 3.15s\n",
      "74:\tlearn: 2224.4266994\ttotal: 9.07s\tremaining: 3.02s\n",
      "75:\tlearn: 2217.2689759\ttotal: 9.18s\tremaining: 2.9s\n",
      "76:\tlearn: 2211.1668962\ttotal: 9.28s\tremaining: 2.77s\n",
      "77:\tlearn: 2205.5493632\ttotal: 9.38s\tremaining: 2.64s\n",
      "78:\tlearn: 2199.0299430\ttotal: 9.47s\tremaining: 2.52s\n",
      "79:\tlearn: 2192.8160930\ttotal: 9.66s\tremaining: 2.42s\n",
      "80:\tlearn: 2186.4127902\ttotal: 9.77s\tremaining: 2.29s\n",
      "81:\tlearn: 2180.5718202\ttotal: 9.87s\tremaining: 2.17s\n",
      "82:\tlearn: 2175.3145916\ttotal: 9.97s\tremaining: 2.04s\n",
      "83:\tlearn: 2169.6115791\ttotal: 10.1s\tremaining: 1.92s\n",
      "84:\tlearn: 2164.5243877\ttotal: 10.3s\tremaining: 1.81s\n",
      "85:\tlearn: 2158.8888775\ttotal: 10.4s\tremaining: 1.69s\n",
      "86:\tlearn: 2153.5411838\ttotal: 10.5s\tremaining: 1.56s\n",
      "87:\tlearn: 2148.2901997\ttotal: 10.6s\tremaining: 1.44s\n",
      "88:\tlearn: 2142.4033252\ttotal: 10.8s\tremaining: 1.33s\n",
      "89:\tlearn: 2137.3646354\ttotal: 10.9s\tremaining: 1.21s\n",
      "90:\tlearn: 2132.6091927\ttotal: 11s\tremaining: 1.08s\n",
      "91:\tlearn: 2127.7944627\ttotal: 11.1s\tremaining: 962ms\n",
      "92:\tlearn: 2123.3016470\ttotal: 11.3s\tremaining: 847ms\n",
      "93:\tlearn: 2118.9867437\ttotal: 11.4s\tremaining: 725ms\n",
      "94:\tlearn: 2114.6272659\ttotal: 11.5s\tremaining: 603ms\n",
      "95:\tlearn: 2110.8123915\ttotal: 11.6s\tremaining: 482ms\n",
      "96:\tlearn: 2106.6153865\ttotal: 11.8s\tremaining: 364ms\n",
      "97:\tlearn: 2102.5541416\ttotal: 11.9s\tremaining: 242ms\n",
      "98:\tlearn: 2098.6422090\ttotal: 12s\tremaining: 121ms\n",
      "99:\tlearn: 2095.1039966\ttotal: 12.1s\tremaining: 0us\n",
      "0:\tlearn: 4448.7661309\ttotal: 46.4ms\tremaining: 4.59s\n",
      "1:\tlearn: 4356.8532379\ttotal: 236ms\tremaining: 11.6s\n",
      "2:\tlearn: 4268.3099819\ttotal: 344ms\tremaining: 11.1s\n",
      "3:\tlearn: 4185.5578435\ttotal: 534ms\tremaining: 12.8s\n",
      "4:\tlearn: 4104.9211895\ttotal: 642ms\tremaining: 12.2s\n",
      "5:\tlearn: 4025.8353539\ttotal: 834ms\tremaining: 13.1s\n",
      "6:\tlearn: 3948.9466828\ttotal: 943ms\tremaining: 12.5s\n",
      "7:\tlearn: 3876.9530266\ttotal: 1.13s\tremaining: 13s\n",
      "8:\tlearn: 3805.0836340\ttotal: 1.25s\tremaining: 12.7s\n",
      "9:\tlearn: 3736.7668421\ttotal: 1.43s\tremaining: 12.9s\n",
      "10:\tlearn: 3671.3220194\ttotal: 1.63s\tremaining: 13.2s\n",
      "11:\tlearn: 3607.6906018\ttotal: 1.74s\tremaining: 12.7s\n",
      "12:\tlearn: 3546.5788217\ttotal: 1.93s\tremaining: 12.9s\n",
      "13:\tlearn: 3487.1064545\ttotal: 2.04s\tremaining: 12.5s\n",
      "14:\tlearn: 3431.4682850\ttotal: 2.23s\tremaining: 12.6s\n",
      "15:\tlearn: 3374.9454192\ttotal: 2.42s\tremaining: 12.7s\n",
      "16:\tlearn: 3321.9252931\ttotal: 2.53s\tremaining: 12.4s\n",
      "17:\tlearn: 3272.1977919\ttotal: 2.72s\tremaining: 12.4s\n",
      "18:\tlearn: 3223.2936173\ttotal: 2.83s\tremaining: 12.1s\n",
      "19:\tlearn: 3176.2348554\ttotal: 3.02s\tremaining: 12.1s\n",
      "20:\tlearn: 3131.0630026\ttotal: 3.13s\tremaining: 11.8s\n",
      "21:\tlearn: 3087.5871872\ttotal: 3.32s\tremaining: 11.8s\n",
      "22:\tlearn: 3044.8666396\ttotal: 3.52s\tremaining: 11.8s\n",
      "23:\tlearn: 3004.6133827\ttotal: 3.63s\tremaining: 11.5s\n",
      "24:\tlearn: 2966.3539394\ttotal: 3.82s\tremaining: 11.5s\n",
      "25:\tlearn: 2928.4668969\ttotal: 4.01s\tremaining: 11.4s\n",
      "26:\tlearn: 2892.7979499\ttotal: 4.12s\tremaining: 11.2s\n",
      "27:\tlearn: 2856.5145874\ttotal: 4.32s\tremaining: 11.1s\n",
      "28:\tlearn: 2824.4138771\ttotal: 4.42s\tremaining: 10.8s\n",
      "29:\tlearn: 2793.3026372\ttotal: 4.62s\tremaining: 10.8s\n",
      "30:\tlearn: 2762.5516880\ttotal: 4.81s\tremaining: 10.7s\n",
      "31:\tlearn: 2733.5075387\ttotal: 4.92s\tremaining: 10.5s\n",
      "32:\tlearn: 2704.2056431\ttotal: 5.11s\tremaining: 10.4s\n",
      "33:\tlearn: 2675.2111530\ttotal: 5.22s\tremaining: 10.1s\n",
      "34:\tlearn: 2648.2603671\ttotal: 5.41s\tremaining: 10.1s\n",
      "35:\tlearn: 2623.1909876\ttotal: 5.52s\tremaining: 9.81s\n",
      "36:\tlearn: 2597.7379701\ttotal: 5.71s\tremaining: 9.72s\n",
      "37:\tlearn: 2574.3899016\ttotal: 5.91s\tremaining: 9.64s\n",
      "38:\tlearn: 2551.9082908\ttotal: 6.01s\tremaining: 9.41s\n",
      "39:\tlearn: 2530.3380908\ttotal: 6.21s\tremaining: 9.31s\n",
      "40:\tlearn: 2510.1057627\ttotal: 6.31s\tremaining: 9.09s\n",
      "41:\tlearn: 2489.7435046\ttotal: 6.5s\tremaining: 8.98s\n",
      "42:\tlearn: 2469.4374529\ttotal: 6.62s\tremaining: 8.77s\n",
      "43:\tlearn: 2450.2891549\ttotal: 6.81s\tremaining: 8.66s\n",
      "44:\tlearn: 2431.7817185\ttotal: 6.91s\tremaining: 8.45s\n",
      "45:\tlearn: 2414.9071059\ttotal: 7.1s\tremaining: 8.34s\n",
      "46:\tlearn: 2398.1266768\ttotal: 7.21s\tremaining: 8.13s\n",
      "47:\tlearn: 2381.6861874\ttotal: 7.4s\tremaining: 8.02s\n",
      "48:\tlearn: 2366.4678632\ttotal: 7.6s\tremaining: 7.91s\n",
      "49:\tlearn: 2350.5790914\ttotal: 7.71s\tremaining: 7.71s\n",
      "50:\tlearn: 2336.5072055\ttotal: 7.9s\tremaining: 7.59s\n",
      "51:\tlearn: 2322.2438304\ttotal: 8s\tremaining: 7.39s\n",
      "52:\tlearn: 2309.2630920\ttotal: 8.2s\tremaining: 7.28s\n",
      "53:\tlearn: 2296.3506301\ttotal: 8.39s\tremaining: 7.15s\n",
      "54:\tlearn: 2283.8572988\ttotal: 8.5s\tremaining: 6.95s\n",
      "55:\tlearn: 2271.3327516\ttotal: 8.69s\tremaining: 6.83s\n",
      "56:\tlearn: 2259.7393155\ttotal: 8.8s\tremaining: 6.64s\n",
      "57:\tlearn: 2248.1975037\ttotal: 8.99s\tremaining: 6.51s\n",
      "58:\tlearn: 2237.7578342\ttotal: 9.1s\tremaining: 6.32s\n",
      "59:\tlearn: 2227.4736583\ttotal: 9.3s\tremaining: 6.2s\n",
      "60:\tlearn: 2216.9161879\ttotal: 9.49s\tremaining: 6.07s\n",
      "61:\tlearn: 2206.3018025\ttotal: 9.68s\tremaining: 5.93s\n",
      "62:\tlearn: 2197.0536590\ttotal: 9.79s\tremaining: 5.75s\n",
      "63:\tlearn: 2188.0344976\ttotal: 9.98s\tremaining: 5.62s\n",
      "64:\tlearn: 2176.6695634\ttotal: 10.2s\tremaining: 5.48s\n",
      "65:\tlearn: 2167.6097968\ttotal: 10.3s\tremaining: 5.3s\n",
      "66:\tlearn: 2159.5150792\ttotal: 10.5s\tremaining: 5.16s\n",
      "67:\tlearn: 2150.9507998\ttotal: 10.6s\tremaining: 4.99s\n",
      "68:\tlearn: 2140.9558984\ttotal: 10.8s\tremaining: 4.85s\n",
      "69:\tlearn: 2133.3298480\ttotal: 11s\tremaining: 4.71s\n",
      "70:\tlearn: 2125.7435346\ttotal: 11.1s\tremaining: 4.53s\n",
      "71:\tlearn: 2118.9886935\ttotal: 11.3s\tremaining: 4.39s\n",
      "72:\tlearn: 2110.1448877\ttotal: 11.5s\tremaining: 4.24s\n",
      "73:\tlearn: 2103.7160357\ttotal: 11.6s\tremaining: 4.07s\n",
      "74:\tlearn: 2096.6173769\ttotal: 11.8s\tremaining: 3.93s\n",
      "75:\tlearn: 2090.4533644\ttotal: 11.9s\tremaining: 3.76s\n",
      "76:\tlearn: 2084.2631113\ttotal: 12.1s\tremaining: 3.61s\n",
      "77:\tlearn: 2078.4915517\ttotal: 12.3s\tremaining: 3.46s\n",
      "78:\tlearn: 2072.0927376\ttotal: 12.5s\tremaining: 3.31s\n",
      "79:\tlearn: 2064.7251924\ttotal: 12.6s\tremaining: 3.14s\n",
      "80:\tlearn: 2058.1666855\ttotal: 12.8s\tremaining: 3s\n",
      "81:\tlearn: 2052.8888675\ttotal: 13s\tremaining: 2.85s\n",
      "82:\tlearn: 2047.4818411\ttotal: 13.2s\tremaining: 2.7s\n",
      "83:\tlearn: 2042.6528481\ttotal: 13.4s\tremaining: 2.54s\n",
      "84:\tlearn: 2037.4746380\ttotal: 13.5s\tremaining: 2.38s\n",
      "85:\tlearn: 2031.3416001\ttotal: 13.7s\tremaining: 2.22s\n",
      "86:\tlearn: 2026.1749160\ttotal: 13.8s\tremaining: 2.06s\n",
      "87:\tlearn: 2021.2241515\ttotal: 14s\tremaining: 1.9s\n",
      "88:\tlearn: 2016.4711813\ttotal: 14.2s\tremaining: 1.75s\n",
      "89:\tlearn: 2012.0361740\ttotal: 14.3s\tremaining: 1.58s\n",
      "90:\tlearn: 2007.6821152\ttotal: 14.5s\tremaining: 1.43s\n",
      "91:\tlearn: 2002.6699288\ttotal: 14.6s\tremaining: 1.27s\n",
      "92:\tlearn: 1998.4687074\ttotal: 14.8s\tremaining: 1.11s\n",
      "93:\tlearn: 1993.5031257\ttotal: 15s\tremaining: 954ms\n",
      "94:\tlearn: 1988.9482412\ttotal: 15.1s\tremaining: 793ms\n",
      "95:\tlearn: 1984.9558503\ttotal: 15.3s\tremaining: 636ms\n",
      "96:\tlearn: 1981.3306404\ttotal: 15.4s\tremaining: 475ms\n",
      "97:\tlearn: 1977.0060257\ttotal: 15.6s\tremaining: 317ms\n",
      "98:\tlearn: 1973.6524002\ttotal: 15.7s\tremaining: 158ms\n",
      "99:\tlearn: 1970.1352642\ttotal: 15.9s\tremaining: 0us\n",
      "0:\tlearn: 4442.8583640\ttotal: 35.9ms\tremaining: 3.56s\n",
      "1:\tlearn: 4348.2889164\ttotal: 233ms\tremaining: 11.4s\n",
      "2:\tlearn: 4257.2589369\ttotal: 433ms\tremaining: 14s\n",
      "3:\tlearn: 4168.7143232\ttotal: 630ms\tremaining: 15.1s\n",
      "4:\tlearn: 4082.1977689\ttotal: 836ms\tremaining: 15.9s\n",
      "5:\tlearn: 4000.0153429\ttotal: 1.03s\tremaining: 16.2s\n",
      "6:\tlearn: 3920.3316741\ttotal: 1.23s\tremaining: 16.4s\n",
      "7:\tlearn: 3843.2575636\ttotal: 1.44s\tremaining: 16.5s\n",
      "8:\tlearn: 3770.3218915\ttotal: 1.63s\tremaining: 16.5s\n",
      "9:\tlearn: 3699.9865838\ttotal: 1.83s\tremaining: 16.5s\n",
      "10:\tlearn: 3631.2206468\ttotal: 2.03s\tremaining: 16.4s\n",
      "11:\tlearn: 3565.4759823\ttotal: 2.23s\tremaining: 16.3s\n",
      "12:\tlearn: 3501.9008744\ttotal: 2.42s\tremaining: 16.2s\n",
      "13:\tlearn: 3440.1477873\ttotal: 2.62s\tremaining: 16.1s\n",
      "14:\tlearn: 3381.3048171\ttotal: 2.82s\tremaining: 16s\n",
      "15:\tlearn: 3325.8112135\ttotal: 3.02s\tremaining: 15.9s\n",
      "16:\tlearn: 3269.5943152\ttotal: 3.22s\tremaining: 15.7s\n",
      "17:\tlearn: 3216.3106271\ttotal: 3.42s\tremaining: 15.6s\n",
      "18:\tlearn: 3164.8771686\ttotal: 3.62s\tremaining: 15.4s\n",
      "19:\tlearn: 3115.6628839\ttotal: 3.81s\tremaining: 15.3s\n",
      "20:\tlearn: 3068.5495090\ttotal: 4.01s\tremaining: 15.1s\n",
      "21:\tlearn: 3022.3932234\ttotal: 4.21s\tremaining: 14.9s\n",
      "22:\tlearn: 2977.9900657\ttotal: 4.41s\tremaining: 14.8s\n",
      "23:\tlearn: 2935.6049432\ttotal: 4.61s\tremaining: 14.6s\n",
      "24:\tlearn: 2894.3431556\ttotal: 4.81s\tremaining: 14.4s\n",
      "25:\tlearn: 2855.5718115\ttotal: 5s\tremaining: 14.2s\n",
      "26:\tlearn: 2818.3967161\ttotal: 5.2s\tremaining: 14.1s\n",
      "27:\tlearn: 2783.6601191\ttotal: 5.4s\tremaining: 13.9s\n",
      "28:\tlearn: 2748.4969167\ttotal: 5.6s\tremaining: 13.7s\n",
      "29:\tlearn: 2715.0444342\ttotal: 5.8s\tremaining: 13.5s\n",
      "30:\tlearn: 2683.3541581\ttotal: 5.92s\tremaining: 13.2s\n",
      "31:\tlearn: 2651.7975974\ttotal: 6.11s\tremaining: 13s\n",
      "32:\tlearn: 2621.4143656\ttotal: 6.32s\tremaining: 12.8s\n",
      "33:\tlearn: 2593.2910878\ttotal: 6.6s\tremaining: 12.8s\n",
      "34:\tlearn: 2565.4804774\ttotal: 6.79s\tremaining: 12.6s\n",
      "35:\tlearn: 2538.7256054\ttotal: 6.91s\tremaining: 12.3s\n",
      "36:\tlearn: 2513.4254634\ttotal: 7.11s\tremaining: 12.1s\n",
      "37:\tlearn: 2489.0735604\ttotal: 7.31s\tremaining: 11.9s\n",
      "38:\tlearn: 2465.2168862\ttotal: 7.51s\tremaining: 11.7s\n",
      "39:\tlearn: 2442.5361877\ttotal: 7.7s\tremaining: 11.6s\n",
      "40:\tlearn: 2420.5428513\ttotal: 7.91s\tremaining: 11.4s\n",
      "41:\tlearn: 2399.8339277\ttotal: 8.1s\tremaining: 11.2s\n",
      "42:\tlearn: 2380.1997937\ttotal: 8.3s\tremaining: 11s\n",
      "43:\tlearn: 2361.0160970\ttotal: 8.49s\tremaining: 10.8s\n",
      "44:\tlearn: 2342.3505142\ttotal: 8.69s\tremaining: 10.6s\n",
      "45:\tlearn: 2324.5174881\ttotal: 8.89s\tremaining: 10.4s\n",
      "46:\tlearn: 2306.8740245\ttotal: 9.09s\tremaining: 10.3s\n",
      "47:\tlearn: 2290.6119249\ttotal: 9.29s\tremaining: 10.1s\n",
      "48:\tlearn: 2275.1696997\ttotal: 9.48s\tremaining: 9.87s\n",
      "49:\tlearn: 2260.1628360\ttotal: 9.69s\tremaining: 9.69s\n",
      "50:\tlearn: 2245.8680978\ttotal: 9.88s\tremaining: 9.5s\n",
      "51:\tlearn: 2232.1454325\ttotal: 10.1s\tremaining: 9.31s\n",
      "52:\tlearn: 2219.1891171\ttotal: 10.3s\tremaining: 9.12s\n",
      "53:\tlearn: 2206.2441954\ttotal: 10.4s\tremaining: 8.86s\n",
      "54:\tlearn: 2193.9199542\ttotal: 10.6s\tremaining: 8.67s\n",
      "55:\tlearn: 2181.0063662\ttotal: 10.8s\tremaining: 8.48s\n",
      "56:\tlearn: 2167.3899232\ttotal: 11s\tremaining: 8.29s\n",
      "57:\tlearn: 2155.5114944\ttotal: 11.2s\tremaining: 8.1s\n",
      "58:\tlearn: 2144.2265305\ttotal: 11.4s\tremaining: 7.91s\n",
      "59:\tlearn: 2134.1889654\ttotal: 11.6s\tremaining: 7.72s\n",
      "60:\tlearn: 2123.6722462\ttotal: 11.8s\tremaining: 7.53s\n",
      "61:\tlearn: 2113.8920489\ttotal: 12s\tremaining: 7.34s\n",
      "62:\tlearn: 2103.9711591\ttotal: 12.2s\tremaining: 7.15s\n",
      "63:\tlearn: 2094.7319650\ttotal: 12.4s\tremaining: 6.96s\n",
      "64:\tlearn: 2084.4271580\ttotal: 12.6s\tremaining: 6.77s\n",
      "65:\tlearn: 2076.0928461\ttotal: 12.8s\tremaining: 6.58s\n",
      "66:\tlearn: 2067.9708992\ttotal: 13s\tremaining: 6.39s\n",
      "67:\tlearn: 2059.2922030\ttotal: 13.2s\tremaining: 6.2s\n",
      "68:\tlearn: 2051.7980565\ttotal: 13.3s\tremaining: 5.97s\n",
      "69:\tlearn: 2044.1350368\ttotal: 13.5s\tremaining: 5.78s\n",
      "70:\tlearn: 2037.0333800\ttotal: 13.7s\tremaining: 5.59s\n",
      "71:\tlearn: 2029.4600909\ttotal: 13.9s\tremaining: 5.4s\n",
      "72:\tlearn: 2021.2061556\ttotal: 14.1s\tremaining: 5.21s\n",
      "73:\tlearn: 2012.7754570\ttotal: 14.3s\tremaining: 5.01s\n",
      "74:\tlearn: 2004.7761518\ttotal: 14.5s\tremaining: 4.82s\n",
      "75:\tlearn: 1998.8238618\ttotal: 14.7s\tremaining: 4.63s\n",
      "76:\tlearn: 1993.1401771\ttotal: 14.9s\tremaining: 4.44s\n",
      "77:\tlearn: 1986.5339611\ttotal: 15.1s\tremaining: 4.25s\n",
      "78:\tlearn: 1980.4995470\ttotal: 15.3s\tremaining: 4.06s\n",
      "79:\tlearn: 1974.5582585\ttotal: 15.5s\tremaining: 3.86s\n",
      "80:\tlearn: 1967.9187231\ttotal: 15.6s\tremaining: 3.65s\n",
      "81:\tlearn: 1961.7012410\ttotal: 15.8s\tremaining: 3.46s\n",
      "82:\tlearn: 1956.6541658\ttotal: 16s\tremaining: 3.27s\n",
      "83:\tlearn: 1950.8675186\ttotal: 16.2s\tremaining: 3.08s\n",
      "84:\tlearn: 1946.3120226\ttotal: 16.4s\tremaining: 2.89s\n",
      "85:\tlearn: 1941.7128004\ttotal: 16.6s\tremaining: 2.7s\n",
      "86:\tlearn: 1937.4220523\ttotal: 16.8s\tremaining: 2.5s\n",
      "87:\tlearn: 1932.8218921\ttotal: 17s\tremaining: 2.31s\n",
      "88:\tlearn: 1928.7845252\ttotal: 17.2s\tremaining: 2.12s\n",
      "89:\tlearn: 1924.6725797\ttotal: 17.4s\tremaining: 1.93s\n",
      "90:\tlearn: 1920.6915828\ttotal: 17.6s\tremaining: 1.74s\n",
      "91:\tlearn: 1916.9214386\ttotal: 17.8s\tremaining: 1.54s\n",
      "92:\tlearn: 1913.5649364\ttotal: 18s\tremaining: 1.35s\n",
      "93:\tlearn: 1909.1104982\ttotal: 18.2s\tremaining: 1.16s\n",
      "94:\tlearn: 1905.4648486\ttotal: 18.4s\tremaining: 966ms\n",
      "95:\tlearn: 1902.0879604\ttotal: 18.5s\tremaining: 773ms\n",
      "96:\tlearn: 1898.6114286\ttotal: 18.7s\tremaining: 580ms\n",
      "97:\tlearn: 1895.4834941\ttotal: 18.9s\tremaining: 387ms\n",
      "98:\tlearn: 1892.1578229\ttotal: 19.1s\tremaining: 193ms\n",
      "99:\tlearn: 1888.8562995\ttotal: 19.3s\tremaining: 0us\n",
      "0:\tlearn: 4441.5282549\ttotal: 145ms\tremaining: 14.3s\n",
      "1:\tlearn: 4343.5547014\ttotal: 440ms\tremaining: 21.6s\n",
      "2:\tlearn: 4249.8870085\ttotal: 652ms\tremaining: 21.1s\n",
      "3:\tlearn: 4159.1829195\ttotal: 941ms\tremaining: 22.6s\n",
      "4:\tlearn: 4070.9298994\ttotal: 1.15s\tremaining: 21.8s\n",
      "5:\tlearn: 3986.6751538\ttotal: 1.44s\tremaining: 22.5s\n",
      "6:\tlearn: 3904.9852965\ttotal: 1.65s\tremaining: 21.9s\n",
      "7:\tlearn: 3826.5374726\ttotal: 1.86s\tremaining: 21.4s\n",
      "8:\tlearn: 3749.4237960\ttotal: 2.15s\tremaining: 21.8s\n",
      "9:\tlearn: 3675.7314807\ttotal: 2.37s\tremaining: 21.3s\n",
      "10:\tlearn: 3604.5996514\ttotal: 2.65s\tremaining: 21.5s\n",
      "11:\tlearn: 3536.4766419\ttotal: 2.87s\tremaining: 21s\n",
      "12:\tlearn: 3470.7274821\ttotal: 3.15s\tremaining: 21.1s\n",
      "13:\tlearn: 3406.8121909\ttotal: 3.36s\tremaining: 20.6s\n",
      "14:\tlearn: 3345.4109341\ttotal: 3.65s\tremaining: 20.7s\n",
      "15:\tlearn: 3286.1553808\ttotal: 3.94s\tremaining: 20.7s\n",
      "16:\tlearn: 3229.6209435\ttotal: 4.16s\tremaining: 20.3s\n",
      "17:\tlearn: 3175.4547203\ttotal: 4.37s\tremaining: 19.9s\n",
      "18:\tlearn: 3122.9993761\ttotal: 4.65s\tremaining: 19.8s\n",
      "19:\tlearn: 3072.7975654\ttotal: 4.94s\tremaining: 19.8s\n",
      "20:\tlearn: 3024.9490776\ttotal: 5.16s\tremaining: 19.4s\n",
      "21:\tlearn: 2978.8703754\ttotal: 5.45s\tremaining: 19.3s\n",
      "22:\tlearn: 2934.5475767\ttotal: 5.74s\tremaining: 19.2s\n",
      "23:\tlearn: 2892.7693584\ttotal: 6.03s\tremaining: 19.1s\n",
      "24:\tlearn: 2851.7020926\ttotal: 6.25s\tremaining: 18.7s\n",
      "25:\tlearn: 2811.1969482\ttotal: 6.54s\tremaining: 18.6s\n",
      "26:\tlearn: 2771.8625216\ttotal: 6.75s\tremaining: 18.2s\n",
      "27:\tlearn: 2734.5299155\ttotal: 7.04s\tremaining: 18.1s\n",
      "28:\tlearn: 2698.6604193\ttotal: 7.33s\tremaining: 18s\n",
      "29:\tlearn: 2664.2613618\ttotal: 7.55s\tremaining: 17.6s\n",
      "30:\tlearn: 2631.2427150\ttotal: 7.84s\tremaining: 17.4s\n",
      "31:\tlearn: 2599.9543965\ttotal: 8.13s\tremaining: 17.3s\n",
      "32:\tlearn: 2569.0992049\ttotal: 8.34s\tremaining: 16.9s\n",
      "33:\tlearn: 2538.3325293\ttotal: 8.63s\tremaining: 16.8s\n",
      "34:\tlearn: 2510.3772013\ttotal: 8.92s\tremaining: 16.6s\n",
      "35:\tlearn: 2482.7098805\ttotal: 9.14s\tremaining: 16.2s\n",
      "36:\tlearn: 2456.4427246\ttotal: 9.43s\tremaining: 16.1s\n",
      "37:\tlearn: 2431.9772774\ttotal: 9.72s\tremaining: 15.9s\n",
      "38:\tlearn: 2407.3803367\ttotal: 9.94s\tremaining: 15.6s\n",
      "39:\tlearn: 2384.2873333\ttotal: 10.2s\tremaining: 15.3s\n",
      "40:\tlearn: 2362.2776402\ttotal: 10.4s\tremaining: 15s\n",
      "41:\tlearn: 2340.2023477\ttotal: 10.7s\tremaining: 14.8s\n",
      "42:\tlearn: 2319.6291176\ttotal: 11s\tremaining: 14.6s\n",
      "43:\tlearn: 2298.4697145\ttotal: 11.2s\tremaining: 14.3s\n",
      "44:\tlearn: 2278.7715287\ttotal: 11.5s\tremaining: 14.1s\n",
      "45:\tlearn: 2260.9808833\ttotal: 11.8s\tremaining: 13.9s\n",
      "46:\tlearn: 2243.4335141\ttotal: 12.1s\tremaining: 13.7s\n",
      "47:\tlearn: 2226.0074784\ttotal: 12.3s\tremaining: 13.4s\n",
      "48:\tlearn: 2209.9633128\ttotal: 12.6s\tremaining: 13.1s\n",
      "49:\tlearn: 2194.2303087\ttotal: 12.8s\tremaining: 12.8s\n",
      "50:\tlearn: 2178.5971870\ttotal: 13.1s\tremaining: 12.6s\n",
      "51:\tlearn: 2164.0291279\ttotal: 13.3s\tremaining: 12.3s\n",
      "52:\tlearn: 2149.8779461\ttotal: 13.6s\tremaining: 12.1s\n",
      "53:\tlearn: 2135.1296293\ttotal: 13.9s\tremaining: 11.9s\n",
      "54:\tlearn: 2121.8222011\ttotal: 14.1s\tremaining: 11.6s\n",
      "55:\tlearn: 2108.5321826\ttotal: 14.4s\tremaining: 11.3s\n",
      "56:\tlearn: 2096.3303350\ttotal: 14.7s\tremaining: 11.1s\n",
      "57:\tlearn: 2085.1389051\ttotal: 14.9s\tremaining: 10.8s\n",
      "58:\tlearn: 2074.3950157\ttotal: 15.2s\tremaining: 10.6s\n",
      "59:\tlearn: 2063.7398970\ttotal: 15.5s\tremaining: 10.3s\n",
      "60:\tlearn: 2053.8590089\ttotal: 15.7s\tremaining: 10s\n",
      "61:\tlearn: 2043.8706279\ttotal: 16s\tremaining: 9.81s\n",
      "62:\tlearn: 2033.8792386\ttotal: 16.2s\tremaining: 9.52s\n",
      "63:\tlearn: 2023.2026101\ttotal: 16.5s\tremaining: 9.28s\n",
      "64:\tlearn: 2014.1444170\ttotal: 16.8s\tremaining: 9.05s\n",
      "65:\tlearn: 2005.4768540\ttotal: 17s\tremaining: 8.77s\n",
      "66:\tlearn: 1997.1710444\ttotal: 17.3s\tremaining: 8.53s\n",
      "67:\tlearn: 1988.2269560\ttotal: 17.6s\tremaining: 8.28s\n",
      "68:\tlearn: 1980.3603679\ttotal: 17.8s\tremaining: 8s\n",
      "69:\tlearn: 1973.1208531\ttotal: 18.1s\tremaining: 7.76s\n",
      "70:\tlearn: 1964.5517413\ttotal: 18.4s\tremaining: 7.51s\n",
      "71:\tlearn: 1956.7831325\ttotal: 18.6s\tremaining: 7.24s\n",
      "72:\tlearn: 1949.0510816\ttotal: 18.9s\tremaining: 6.99s\n",
      "73:\tlearn: 1941.1716345\ttotal: 19.2s\tremaining: 6.74s\n",
      "74:\tlearn: 1935.1114435\ttotal: 19.4s\tremaining: 6.47s\n",
      "75:\tlearn: 1928.7223596\ttotal: 19.7s\tremaining: 6.22s\n",
      "76:\tlearn: 1922.6189485\ttotal: 20s\tremaining: 5.97s\n",
      "77:\tlearn: 1917.4764068\ttotal: 20.3s\tremaining: 5.72s\n",
      "78:\tlearn: 1912.3050484\ttotal: 20.5s\tremaining: 5.45s\n",
      "79:\tlearn: 1907.2658409\ttotal: 20.8s\tremaining: 5.2s\n",
      "80:\tlearn: 1901.8779857\ttotal: 21.1s\tremaining: 4.95s\n",
      "81:\tlearn: 1897.0128993\ttotal: 21.4s\tremaining: 4.69s\n",
      "82:\tlearn: 1891.0812150\ttotal: 21.6s\tremaining: 4.42s\n",
      "83:\tlearn: 1886.0689897\ttotal: 21.9s\tremaining: 4.17s\n",
      "84:\tlearn: 1881.5632221\ttotal: 22.2s\tremaining: 3.91s\n",
      "85:\tlearn: 1876.4923318\ttotal: 22.4s\tremaining: 3.65s\n",
      "86:\tlearn: 1872.4289396\ttotal: 22.7s\tremaining: 3.39s\n",
      "87:\tlearn: 1868.0980920\ttotal: 23s\tremaining: 3.13s\n",
      "88:\tlearn: 1864.3128482\ttotal: 23.3s\tremaining: 2.88s\n",
      "89:\tlearn: 1859.6876706\ttotal: 23.5s\tremaining: 2.61s\n",
      "90:\tlearn: 1856.0732155\ttotal: 23.8s\tremaining: 2.35s\n",
      "91:\tlearn: 1852.2155368\ttotal: 24.1s\tremaining: 2.09s\n",
      "92:\tlearn: 1847.9417747\ttotal: 24.3s\tremaining: 1.83s\n",
      "93:\tlearn: 1844.7370988\ttotal: 24.6s\tremaining: 1.57s\n",
      "94:\tlearn: 1841.3078928\ttotal: 24.9s\tremaining: 1.31s\n",
      "95:\tlearn: 1838.1732428\ttotal: 25.1s\tremaining: 1.04s\n",
      "96:\tlearn: 1835.0638105\ttotal: 25.4s\tremaining: 785ms\n",
      "97:\tlearn: 1831.7052890\ttotal: 25.7s\tremaining: 524ms\n",
      "98:\tlearn: 1828.8410310\ttotal: 25.9s\tremaining: 261ms\n",
      "99:\tlearn: 1825.7285590\ttotal: 26.2s\tremaining: 0us\n",
      "0:\tlearn: 4455.9019048\ttotal: 20.9ms\tremaining: 2.28s\n",
      "1:\tlearn: 4372.1230381\ttotal: 123ms\tremaining: 6.66s\n",
      "2:\tlearn: 4292.4136951\ttotal: 225ms\tremaining: 8.01s\n",
      "3:\tlearn: 4215.6173472\ttotal: 326ms\tremaining: 8.63s\n",
      "4:\tlearn: 4141.6699390\ttotal: 515ms\tremaining: 10.8s\n",
      "5:\tlearn: 4070.2147160\ttotal: 616ms\tremaining: 10.7s\n",
      "6:\tlearn: 4000.0967871\ttotal: 720ms\tremaining: 10.6s\n",
      "7:\tlearn: 3928.5125173\ttotal: 821ms\tremaining: 10.5s\n",
      "8:\tlearn: 3864.9064822\ttotal: 925ms\tremaining: 10.4s\n",
      "9:\tlearn: 3800.8141580\ttotal: 1.11s\tremaining: 11.1s\n",
      "10:\tlearn: 3740.6531598\ttotal: 1.21s\tremaining: 10.9s\n",
      "11:\tlearn: 3680.9000395\ttotal: 1.31s\tremaining: 10.7s\n",
      "12:\tlearn: 3622.1221304\ttotal: 1.42s\tremaining: 10.6s\n",
      "13:\tlearn: 3566.4037694\ttotal: 1.61s\tremaining: 11s\n",
      "14:\tlearn: 3513.3765571\ttotal: 1.71s\tremaining: 10.8s\n",
      "15:\tlearn: 3462.1834742\ttotal: 1.81s\tremaining: 10.7s\n",
      "16:\tlearn: 3414.3463620\ttotal: 1.92s\tremaining: 10.5s\n",
      "17:\tlearn: 3365.8659928\ttotal: 2.1s\tremaining: 10.8s\n",
      "18:\tlearn: 3320.4093817\ttotal: 2.21s\tremaining: 10.6s\n",
      "19:\tlearn: 3278.6650553\ttotal: 2.31s\tremaining: 10.4s\n",
      "20:\tlearn: 3234.7355107\ttotal: 2.41s\tremaining: 10.2s\n",
      "21:\tlearn: 3195.7312354\ttotal: 2.52s\tremaining: 10.1s\n",
      "22:\tlearn: 3157.6159177\ttotal: 2.7s\tremaining: 10.2s\n",
      "23:\tlearn: 3120.0199750\ttotal: 2.81s\tremaining: 10.1s\n",
      "24:\tlearn: 3080.8815966\ttotal: 2.91s\tremaining: 9.89s\n",
      "25:\tlearn: 3043.6277463\ttotal: 3.01s\tremaining: 9.72s\n",
      "26:\tlearn: 3009.6660510\ttotal: 3.2s\tremaining: 9.84s\n",
      "27:\tlearn: 2975.0013903\ttotal: 3.3s\tremaining: 9.67s\n",
      "28:\tlearn: 2943.3973586\ttotal: 3.4s\tremaining: 9.5s\n",
      "29:\tlearn: 2914.4208719\ttotal: 3.5s\tremaining: 9.34s\n",
      "30:\tlearn: 2882.8321566\ttotal: 3.61s\tremaining: 9.19s\n",
      "31:\tlearn: 2855.6562112\ttotal: 3.71s\tremaining: 9.03s\n",
      "32:\tlearn: 2826.3719825\ttotal: 3.9s\tremaining: 9.09s\n",
      "33:\tlearn: 2799.7827340\ttotal: 4s\tremaining: 8.94s\n",
      "34:\tlearn: 2775.0214183\ttotal: 4.1s\tremaining: 8.79s\n",
      "35:\tlearn: 2750.2085287\ttotal: 4.29s\tremaining: 8.82s\n",
      "36:\tlearn: 2727.0957273\ttotal: 4.39s\tremaining: 8.67s\n",
      "37:\tlearn: 2702.9349685\ttotal: 4.5s\tremaining: 8.52s\n",
      "38:\tlearn: 2679.3659467\ttotal: 4.6s\tremaining: 8.37s\n",
      "39:\tlearn: 2657.1592581\ttotal: 4.7s\tremaining: 8.22s\n",
      "40:\tlearn: 2637.2116246\ttotal: 4.89s\tremaining: 8.23s\n",
      "41:\tlearn: 2617.7378453\ttotal: 4.99s\tremaining: 8.08s\n",
      "42:\tlearn: 2597.4989412\ttotal: 5.09s\tremaining: 7.94s\n",
      "43:\tlearn: 2579.5488356\ttotal: 5.19s\tremaining: 7.79s\n",
      "44:\tlearn: 2560.7927323\ttotal: 5.3s\tremaining: 7.65s\n",
      "45:\tlearn: 2543.5008343\ttotal: 5.49s\tremaining: 7.63s\n",
      "46:\tlearn: 2525.2918448\ttotal: 5.59s\tremaining: 7.49s\n",
      "47:\tlearn: 2509.8696971\ttotal: 5.69s\tremaining: 7.35s\n",
      "48:\tlearn: 2493.5918958\ttotal: 5.88s\tremaining: 7.32s\n",
      "49:\tlearn: 2478.0715914\ttotal: 5.98s\tremaining: 7.18s\n",
      "50:\tlearn: 2462.7521809\ttotal: 6.09s\tremaining: 7.04s\n",
      "51:\tlearn: 2447.9664807\ttotal: 6.19s\tremaining: 6.9s\n",
      "52:\tlearn: 2434.5718811\ttotal: 6.29s\tremaining: 6.76s\n",
      "53:\tlearn: 2421.9426785\ttotal: 6.4s\tremaining: 6.63s\n",
      "54:\tlearn: 2410.1176106\ttotal: 6.58s\tremaining: 6.58s\n",
      "55:\tlearn: 2397.3969796\ttotal: 6.68s\tremaining: 6.45s\n",
      "56:\tlearn: 2384.9405214\ttotal: 6.79s\tremaining: 6.31s\n",
      "57:\tlearn: 2373.9988933\ttotal: 6.89s\tremaining: 6.18s\n",
      "58:\tlearn: 2362.2874005\ttotal: 7.08s\tremaining: 6.12s\n",
      "59:\tlearn: 2351.4422656\ttotal: 7.18s\tremaining: 5.98s\n",
      "60:\tlearn: 2341.5188625\ttotal: 7.28s\tremaining: 5.85s\n",
      "61:\tlearn: 2331.3429924\ttotal: 7.38s\tremaining: 5.72s\n",
      "62:\tlearn: 2321.1548418\ttotal: 7.48s\tremaining: 5.58s\n",
      "63:\tlearn: 2311.0827440\ttotal: 7.67s\tremaining: 5.51s\n",
      "64:\tlearn: 2302.0615772\ttotal: 7.78s\tremaining: 5.38s\n",
      "65:\tlearn: 2293.6901268\ttotal: 7.88s\tremaining: 5.25s\n",
      "66:\tlearn: 2285.5225277\ttotal: 7.98s\tremaining: 5.12s\n",
      "67:\tlearn: 2277.4060830\ttotal: 8.09s\tremaining: 4.99s\n",
      "68:\tlearn: 2268.3999093\ttotal: 8.27s\tremaining: 4.91s\n",
      "69:\tlearn: 2259.8708769\ttotal: 8.37s\tremaining: 4.78s\n",
      "70:\tlearn: 2252.4924622\ttotal: 8.47s\tremaining: 4.66s\n",
      "71:\tlearn: 2244.8880524\ttotal: 8.58s\tremaining: 4.53s\n",
      "72:\tlearn: 2237.5039553\ttotal: 8.77s\tremaining: 4.44s\n",
      "73:\tlearn: 2231.0850680\ttotal: 8.87s\tremaining: 4.31s\n",
      "74:\tlearn: 2224.4266994\ttotal: 8.97s\tremaining: 4.19s\n",
      "75:\tlearn: 2217.2689759\ttotal: 9.07s\tremaining: 4.06s\n",
      "76:\tlearn: 2211.1668962\ttotal: 9.26s\tremaining: 3.97s\n",
      "77:\tlearn: 2205.5493632\ttotal: 9.37s\tremaining: 3.84s\n",
      "78:\tlearn: 2199.0299430\ttotal: 9.47s\tremaining: 3.71s\n",
      "79:\tlearn: 2192.8160930\ttotal: 9.57s\tremaining: 3.59s\n",
      "80:\tlearn: 2186.4127902\ttotal: 9.67s\tremaining: 3.46s\n",
      "81:\tlearn: 2180.5718202\ttotal: 9.86s\tremaining: 3.37s\n",
      "82:\tlearn: 2175.3145916\ttotal: 9.96s\tremaining: 3.24s\n",
      "83:\tlearn: 2169.6115791\ttotal: 10.1s\tremaining: 3.11s\n",
      "84:\tlearn: 2164.5243877\ttotal: 10.2s\tremaining: 2.99s\n",
      "85:\tlearn: 2158.8888775\ttotal: 10.3s\tremaining: 2.87s\n",
      "86:\tlearn: 2153.5411838\ttotal: 10.5s\tremaining: 2.76s\n",
      "87:\tlearn: 2148.2901997\ttotal: 10.6s\tremaining: 2.64s\n",
      "88:\tlearn: 2142.4033252\ttotal: 10.7s\tremaining: 2.52s\n",
      "89:\tlearn: 2137.3646354\ttotal: 10.9s\tremaining: 2.41s\n",
      "90:\tlearn: 2132.6091927\ttotal: 11s\tremaining: 2.29s\n",
      "91:\tlearn: 2127.7944627\ttotal: 11.1s\tremaining: 2.16s\n",
      "92:\tlearn: 2123.3016470\ttotal: 11.2s\tremaining: 2.04s\n",
      "93:\tlearn: 2118.9867437\ttotal: 11.3s\tremaining: 1.92s\n",
      "94:\tlearn: 2114.6272659\ttotal: 11.4s\tremaining: 1.81s\n",
      "95:\tlearn: 2110.8123915\ttotal: 11.6s\tremaining: 1.68s\n",
      "96:\tlearn: 2106.6153865\ttotal: 11.7s\tremaining: 1.56s\n",
      "97:\tlearn: 2102.5541416\ttotal: 11.8s\tremaining: 1.44s\n",
      "98:\tlearn: 2098.6422090\ttotal: 11.9s\tremaining: 1.32s\n",
      "99:\tlearn: 2095.1039966\ttotal: 12s\tremaining: 1.2s\n",
      "100:\tlearn: 2091.1798931\ttotal: 12.1s\tremaining: 1.08s\n",
      "101:\tlearn: 2087.7342966\ttotal: 12.2s\tremaining: 961ms\n",
      "102:\tlearn: 2084.1821258\ttotal: 12.4s\tremaining: 840ms\n",
      "103:\tlearn: 2080.4592569\ttotal: 12.5s\tremaining: 718ms\n",
      "104:\tlearn: 2077.0126474\ttotal: 12.6s\tremaining: 602ms\n",
      "105:\tlearn: 2072.2351175\ttotal: 12.7s\tremaining: 481ms\n",
      "106:\tlearn: 2068.4347255\ttotal: 12.8s\tremaining: 360ms\n",
      "107:\tlearn: 2065.0674425\ttotal: 12.9s\tremaining: 240ms\n",
      "108:\tlearn: 2061.7751669\ttotal: 13.1s\tremaining: 120ms\n",
      "109:\tlearn: 2058.5552327\ttotal: 13.2s\tremaining: 0us\n",
      "0:\tlearn: 4448.7661309\ttotal: 50.9ms\tremaining: 5.55s\n",
      "1:\tlearn: 4356.8532379\ttotal: 238ms\tremaining: 12.8s\n",
      "2:\tlearn: 4268.3099819\ttotal: 345ms\tremaining: 12.3s\n",
      "3:\tlearn: 4185.5578435\ttotal: 538ms\tremaining: 14.3s\n",
      "4:\tlearn: 4104.9211895\ttotal: 648ms\tremaining: 13.6s\n",
      "5:\tlearn: 4025.8353539\ttotal: 842ms\tremaining: 14.6s\n",
      "6:\tlearn: 3948.9466828\ttotal: 1.03s\tremaining: 15.2s\n",
      "7:\tlearn: 3876.9530266\ttotal: 1.14s\tremaining: 14.6s\n",
      "8:\tlearn: 3805.0836340\ttotal: 1.34s\tremaining: 15s\n",
      "9:\tlearn: 3736.7668421\ttotal: 1.45s\tremaining: 14.5s\n",
      "10:\tlearn: 3671.3220194\ttotal: 1.64s\tremaining: 14.7s\n",
      "11:\tlearn: 3607.6906018\ttotal: 1.83s\tremaining: 15s\n",
      "12:\tlearn: 3546.5788217\ttotal: 1.94s\tremaining: 14.5s\n",
      "13:\tlearn: 3487.1064545\ttotal: 2.13s\tremaining: 14.6s\n",
      "14:\tlearn: 3431.4682850\ttotal: 2.24s\tremaining: 14.2s\n",
      "15:\tlearn: 3374.9454192\ttotal: 2.43s\tremaining: 14.3s\n",
      "16:\tlearn: 3321.9252931\ttotal: 2.54s\tremaining: 13.9s\n",
      "17:\tlearn: 3272.1977919\ttotal: 2.73s\tremaining: 13.9s\n",
      "18:\tlearn: 3223.2936173\ttotal: 2.84s\tremaining: 13.6s\n",
      "19:\tlearn: 3176.2348554\ttotal: 3.03s\tremaining: 13.6s\n",
      "20:\tlearn: 3131.0630026\ttotal: 3.22s\tremaining: 13.7s\n",
      "21:\tlearn: 3087.5871872\ttotal: 3.33s\tremaining: 13.3s\n",
      "22:\tlearn: 3044.8666396\ttotal: 3.52s\tremaining: 13.3s\n",
      "23:\tlearn: 3004.6133827\ttotal: 3.63s\tremaining: 13s\n",
      "24:\tlearn: 2966.3539394\ttotal: 3.82s\tremaining: 13s\n",
      "25:\tlearn: 2928.4668969\ttotal: 4.02s\tremaining: 13s\n",
      "26:\tlearn: 2892.7979499\ttotal: 4.13s\tremaining: 12.7s\n",
      "27:\tlearn: 2856.5145874\ttotal: 4.32s\tremaining: 12.6s\n",
      "28:\tlearn: 2824.4138771\ttotal: 4.42s\tremaining: 12.4s\n",
      "29:\tlearn: 2793.3026372\ttotal: 4.62s\tremaining: 12.3s\n",
      "30:\tlearn: 2762.5516880\ttotal: 4.72s\tremaining: 12s\n",
      "31:\tlearn: 2733.5075387\ttotal: 4.92s\tremaining: 12s\n",
      "32:\tlearn: 2704.2056431\ttotal: 5.03s\tremaining: 11.7s\n",
      "33:\tlearn: 2675.2111530\ttotal: 5.21s\tremaining: 11.7s\n",
      "34:\tlearn: 2648.2603671\ttotal: 5.32s\tremaining: 11.4s\n",
      "35:\tlearn: 2623.1909876\ttotal: 5.51s\tremaining: 11.3s\n",
      "36:\tlearn: 2597.7379701\ttotal: 5.62s\tremaining: 11.1s\n",
      "37:\tlearn: 2574.3899016\ttotal: 5.81s\tremaining: 11s\n",
      "38:\tlearn: 2551.9082908\ttotal: 5.92s\tremaining: 10.8s\n",
      "39:\tlearn: 2530.3380908\ttotal: 6.11s\tremaining: 10.7s\n",
      "40:\tlearn: 2510.1057627\ttotal: 6.22s\tremaining: 10.5s\n",
      "41:\tlearn: 2489.7435046\ttotal: 6.41s\tremaining: 10.4s\n",
      "42:\tlearn: 2469.4374529\ttotal: 6.52s\tremaining: 10.2s\n",
      "43:\tlearn: 2450.2891549\ttotal: 6.72s\tremaining: 10.1s\n",
      "44:\tlearn: 2431.7817185\ttotal: 6.91s\tremaining: 9.98s\n",
      "45:\tlearn: 2414.9071059\ttotal: 7.01s\tremaining: 9.76s\n",
      "46:\tlearn: 2398.1266768\ttotal: 7.2s\tremaining: 9.66s\n",
      "47:\tlearn: 2381.6861874\ttotal: 7.31s\tremaining: 9.44s\n",
      "48:\tlearn: 2366.4678632\ttotal: 7.51s\tremaining: 9.34s\n",
      "49:\tlearn: 2350.5790914\ttotal: 7.62s\tremaining: 9.14s\n",
      "50:\tlearn: 2336.5072055\ttotal: 7.81s\tremaining: 9.04s\n",
      "51:\tlearn: 2322.2438304\ttotal: 8s\tremaining: 8.92s\n",
      "52:\tlearn: 2309.2630920\ttotal: 8.11s\tremaining: 8.72s\n",
      "53:\tlearn: 2296.3506301\ttotal: 8.3s\tremaining: 8.61s\n",
      "54:\tlearn: 2283.8572988\ttotal: 8.41s\tremaining: 8.41s\n",
      "55:\tlearn: 2271.3327516\ttotal: 8.6s\tremaining: 8.29s\n",
      "56:\tlearn: 2259.7393155\ttotal: 8.71s\tremaining: 8.1s\n",
      "57:\tlearn: 2248.1975037\ttotal: 8.9s\tremaining: 7.98s\n",
      "58:\tlearn: 2237.7578342\ttotal: 9s\tremaining: 7.78s\n",
      "59:\tlearn: 2227.4736583\ttotal: 9.19s\tremaining: 7.66s\n",
      "60:\tlearn: 2216.9161879\ttotal: 9.3s\tremaining: 7.47s\n",
      "61:\tlearn: 2206.3018025\ttotal: 9.49s\tremaining: 7.35s\n",
      "62:\tlearn: 2197.0536590\ttotal: 9.6s\tremaining: 7.16s\n",
      "63:\tlearn: 2188.0344976\ttotal: 9.79s\tremaining: 7.04s\n",
      "64:\tlearn: 2176.6695634\ttotal: 9.9s\tremaining: 6.85s\n",
      "65:\tlearn: 2167.6097968\ttotal: 10.1s\tremaining: 6.72s\n",
      "66:\tlearn: 2159.5150792\ttotal: 10.2s\tremaining: 6.54s\n",
      "67:\tlearn: 2150.9507998\ttotal: 10.4s\tremaining: 6.42s\n",
      "68:\tlearn: 2140.9558984\ttotal: 10.5s\tremaining: 6.23s\n",
      "69:\tlearn: 2133.3298480\ttotal: 10.7s\tremaining: 6.11s\n",
      "70:\tlearn: 2125.7435346\ttotal: 10.8s\tremaining: 5.93s\n",
      "71:\tlearn: 2118.9886935\ttotal: 11s\tremaining: 5.8s\n",
      "72:\tlearn: 2110.1448877\ttotal: 11.1s\tremaining: 5.62s\n",
      "73:\tlearn: 2103.7160357\ttotal: 11.3s\tremaining: 5.49s\n",
      "74:\tlearn: 2096.6173769\ttotal: 11.4s\tremaining: 5.32s\n",
      "75:\tlearn: 2090.4533644\ttotal: 11.6s\tremaining: 5.18s\n",
      "76:\tlearn: 2084.2631113\ttotal: 11.7s\tremaining: 5.01s\n",
      "77:\tlearn: 2078.4915517\ttotal: 11.9s\tremaining: 4.87s\n",
      "78:\tlearn: 2072.0927376\ttotal: 12s\tremaining: 4.7s\n",
      "79:\tlearn: 2064.7251924\ttotal: 12.2s\tremaining: 4.57s\n",
      "80:\tlearn: 2058.1666855\ttotal: 12.3s\tremaining: 4.4s\n",
      "81:\tlearn: 2052.8888675\ttotal: 12.5s\tremaining: 4.26s\n",
      "82:\tlearn: 2047.4818411\ttotal: 12.6s\tremaining: 4.09s\n",
      "83:\tlearn: 2042.6528481\ttotal: 12.8s\tremaining: 3.95s\n",
      "84:\tlearn: 2037.4746380\ttotal: 12.9s\tremaining: 3.79s\n",
      "85:\tlearn: 2031.3416001\ttotal: 13.1s\tremaining: 3.65s\n",
      "86:\tlearn: 2026.1749160\ttotal: 13.2s\tremaining: 3.48s\n",
      "87:\tlearn: 2021.2241515\ttotal: 13.4s\tremaining: 3.34s\n",
      "88:\tlearn: 2016.4711813\ttotal: 13.5s\tremaining: 3.18s\n",
      "89:\tlearn: 2012.0361740\ttotal: 13.7s\tremaining: 3.04s\n",
      "90:\tlearn: 2007.6821152\ttotal: 13.8s\tremaining: 2.88s\n",
      "91:\tlearn: 2002.6699288\ttotal: 14s\tremaining: 2.73s\n",
      "92:\tlearn: 1998.4687074\ttotal: 14.1s\tremaining: 2.57s\n",
      "93:\tlearn: 1993.5031257\ttotal: 14.3s\tremaining: 2.43s\n",
      "94:\tlearn: 1988.9482412\ttotal: 14.4s\tremaining: 2.27s\n",
      "95:\tlearn: 1984.9558503\ttotal: 14.6s\tremaining: 2.12s\n",
      "96:\tlearn: 1981.3306404\ttotal: 14.7s\tremaining: 1.97s\n",
      "97:\tlearn: 1977.0060257\ttotal: 14.9s\tremaining: 1.82s\n",
      "98:\tlearn: 1973.6524002\ttotal: 15s\tremaining: 1.66s\n",
      "99:\tlearn: 1970.1352642\ttotal: 15.2s\tremaining: 1.52s\n",
      "100:\tlearn: 1966.5882695\ttotal: 15.3s\tremaining: 1.36s\n",
      "101:\tlearn: 1963.5184474\ttotal: 15.5s\tremaining: 1.21s\n",
      "102:\tlearn: 1959.9788937\ttotal: 15.6s\tremaining: 1.06s\n",
      "103:\tlearn: 1956.9763346\ttotal: 15.8s\tremaining: 909ms\n",
      "104:\tlearn: 1954.2992557\ttotal: 15.9s\tremaining: 756ms\n",
      "105:\tlearn: 1951.1239428\ttotal: 16.1s\tremaining: 606ms\n",
      "106:\tlearn: 1947.9090671\ttotal: 16.2s\tremaining: 453ms\n",
      "107:\tlearn: 1945.2263751\ttotal: 16.4s\tremaining: 303ms\n",
      "108:\tlearn: 1942.2079490\ttotal: 16.5s\tremaining: 151ms\n",
      "109:\tlearn: 1938.6516683\ttotal: 16.7s\tremaining: 0us\n",
      "0:\tlearn: 4442.8583640\ttotal: 68.9ms\tremaining: 7.51s\n",
      "1:\tlearn: 4348.2889164\ttotal: 267ms\tremaining: 14.4s\n",
      "2:\tlearn: 4257.2589369\ttotal: 458ms\tremaining: 16.3s\n",
      "3:\tlearn: 4168.7143232\ttotal: 656ms\tremaining: 17.4s\n",
      "4:\tlearn: 4082.1977689\ttotal: 855ms\tremaining: 18s\n",
      "5:\tlearn: 4000.0153429\ttotal: 1.05s\tremaining: 18.3s\n",
      "6:\tlearn: 3920.3316741\ttotal: 1.25s\tremaining: 18.4s\n",
      "7:\tlearn: 3843.2575636\ttotal: 1.45s\tremaining: 18.5s\n",
      "8:\tlearn: 3770.3218915\ttotal: 1.65s\tremaining: 18.5s\n",
      "9:\tlearn: 3699.9865838\ttotal: 1.84s\tremaining: 18.5s\n",
      "10:\tlearn: 3631.2206468\ttotal: 2.04s\tremaining: 18.4s\n",
      "11:\tlearn: 3565.4759823\ttotal: 2.24s\tremaining: 18.3s\n",
      "12:\tlearn: 3501.9008744\ttotal: 2.45s\tremaining: 18.3s\n",
      "13:\tlearn: 3440.1477873\ttotal: 2.64s\tremaining: 18.1s\n",
      "14:\tlearn: 3381.3048171\ttotal: 2.84s\tremaining: 18s\n",
      "15:\tlearn: 3325.8112135\ttotal: 3.04s\tremaining: 17.9s\n",
      "16:\tlearn: 3269.5943152\ttotal: 3.24s\tremaining: 17.7s\n",
      "17:\tlearn: 3216.3106271\ttotal: 3.44s\tremaining: 17.6s\n",
      "18:\tlearn: 3164.8771686\ttotal: 3.63s\tremaining: 17.4s\n",
      "19:\tlearn: 3115.6628839\ttotal: 3.83s\tremaining: 17.2s\n",
      "20:\tlearn: 3068.5495090\ttotal: 4.03s\tremaining: 17.1s\n",
      "21:\tlearn: 3022.3932234\ttotal: 4.23s\tremaining: 16.9s\n",
      "22:\tlearn: 2977.9900657\ttotal: 4.43s\tremaining: 16.8s\n",
      "23:\tlearn: 2935.6049432\ttotal: 4.63s\tremaining: 16.6s\n",
      "24:\tlearn: 2894.3431556\ttotal: 4.83s\tremaining: 16.4s\n",
      "25:\tlearn: 2855.5718115\ttotal: 5.03s\tremaining: 16.2s\n",
      "26:\tlearn: 2818.3967161\ttotal: 5.22s\tremaining: 16.1s\n",
      "27:\tlearn: 2783.6601191\ttotal: 5.42s\tremaining: 15.9s\n",
      "28:\tlearn: 2748.4969167\ttotal: 5.63s\tremaining: 15.7s\n",
      "29:\tlearn: 2715.0444342\ttotal: 5.82s\tremaining: 15.5s\n",
      "30:\tlearn: 2683.3541581\ttotal: 6.02s\tremaining: 15.3s\n",
      "31:\tlearn: 2651.7975974\ttotal: 6.23s\tremaining: 15.2s\n",
      "32:\tlearn: 2621.4143656\ttotal: 6.42s\tremaining: 15s\n",
      "33:\tlearn: 2593.2910878\ttotal: 6.62s\tremaining: 14.8s\n",
      "34:\tlearn: 2565.4804774\ttotal: 6.82s\tremaining: 14.6s\n",
      "35:\tlearn: 2538.7256054\ttotal: 7.02s\tremaining: 14.4s\n",
      "36:\tlearn: 2513.4254634\ttotal: 7.22s\tremaining: 14.2s\n",
      "37:\tlearn: 2489.0735604\ttotal: 7.42s\tremaining: 14.1s\n",
      "38:\tlearn: 2465.2168862\ttotal: 7.61s\tremaining: 13.9s\n",
      "39:\tlearn: 2442.5361877\ttotal: 7.81s\tremaining: 13.7s\n",
      "40:\tlearn: 2420.5428513\ttotal: 7.93s\tremaining: 13.3s\n",
      "41:\tlearn: 2399.8339277\ttotal: 8.12s\tremaining: 13.2s\n",
      "42:\tlearn: 2380.1997937\ttotal: 8.32s\tremaining: 13s\n",
      "43:\tlearn: 2361.0160970\ttotal: 8.52s\tremaining: 12.8s\n",
      "44:\tlearn: 2342.3505142\ttotal: 8.71s\tremaining: 12.6s\n",
      "45:\tlearn: 2324.5174881\ttotal: 8.91s\tremaining: 12.4s\n",
      "46:\tlearn: 2306.8740245\ttotal: 9.11s\tremaining: 12.2s\n",
      "47:\tlearn: 2290.6119249\ttotal: 9.31s\tremaining: 12s\n",
      "48:\tlearn: 2275.1696997\ttotal: 9.51s\tremaining: 11.8s\n",
      "49:\tlearn: 2260.1628360\ttotal: 9.71s\tremaining: 11.6s\n",
      "50:\tlearn: 2245.8680978\ttotal: 9.91s\tremaining: 11.5s\n",
      "51:\tlearn: 2232.1454325\ttotal: 10.1s\tremaining: 11.3s\n",
      "52:\tlearn: 2219.1891171\ttotal: 10.3s\tremaining: 11.1s\n",
      "53:\tlearn: 2206.2441954\ttotal: 10.5s\tremaining: 10.9s\n",
      "54:\tlearn: 2193.9199542\ttotal: 10.7s\tremaining: 10.7s\n",
      "55:\tlearn: 2181.0063662\ttotal: 10.9s\tremaining: 10.5s\n",
      "56:\tlearn: 2167.3899232\ttotal: 11.1s\tremaining: 10.3s\n",
      "57:\tlearn: 2155.5114944\ttotal: 11.3s\tremaining: 10.1s\n",
      "58:\tlearn: 2144.2265305\ttotal: 11.6s\tremaining: 10s\n",
      "59:\tlearn: 2134.1889654\ttotal: 11.8s\tremaining: 9.83s\n",
      "60:\tlearn: 2123.6722462\ttotal: 12s\tremaining: 9.64s\n",
      "61:\tlearn: 2113.8920489\ttotal: 12.3s\tremaining: 9.52s\n",
      "62:\tlearn: 2103.9711591\ttotal: 12.4s\tremaining: 9.26s\n",
      "63:\tlearn: 2094.7319650\ttotal: 12.6s\tremaining: 9.06s\n",
      "64:\tlearn: 2084.4271580\ttotal: 12.8s\tremaining: 8.86s\n",
      "65:\tlearn: 2076.0928461\ttotal: 13s\tremaining: 8.67s\n",
      "66:\tlearn: 2067.9708992\ttotal: 13.2s\tremaining: 8.47s\n",
      "67:\tlearn: 2059.2922030\ttotal: 13.4s\tremaining: 8.27s\n",
      "68:\tlearn: 2051.7980565\ttotal: 13.6s\tremaining: 8.08s\n",
      "69:\tlearn: 2044.1350368\ttotal: 13.8s\tremaining: 7.89s\n",
      "70:\tlearn: 2037.0333800\ttotal: 14s\tremaining: 7.69s\n",
      "71:\tlearn: 2029.4600909\ttotal: 14.2s\tremaining: 7.49s\n",
      "72:\tlearn: 2021.2061556\ttotal: 14.4s\tremaining: 7.3s\n",
      "73:\tlearn: 2012.7754570\ttotal: 14.6s\tremaining: 7.1s\n",
      "74:\tlearn: 2004.7761518\ttotal: 14.8s\tremaining: 6.9s\n",
      "75:\tlearn: 1998.8238618\ttotal: 15s\tremaining: 6.71s\n",
      "76:\tlearn: 1993.1401771\ttotal: 15.2s\tremaining: 6.51s\n",
      "77:\tlearn: 1986.5339611\ttotal: 15.4s\tremaining: 6.31s\n",
      "78:\tlearn: 1980.4995470\ttotal: 15.6s\tremaining: 6.12s\n",
      "79:\tlearn: 1974.5582585\ttotal: 15.8s\tremaining: 5.92s\n",
      "80:\tlearn: 1967.9187231\ttotal: 16s\tremaining: 5.72s\n",
      "81:\tlearn: 1961.7012410\ttotal: 16.2s\tremaining: 5.53s\n",
      "82:\tlearn: 1956.6541658\ttotal: 16.4s\tremaining: 5.33s\n",
      "83:\tlearn: 1950.8675186\ttotal: 16.6s\tremaining: 5.13s\n",
      "84:\tlearn: 1946.3120226\ttotal: 16.7s\tremaining: 4.91s\n",
      "85:\tlearn: 1941.7128004\ttotal: 16.9s\tremaining: 4.71s\n",
      "86:\tlearn: 1937.4220523\ttotal: 17.1s\tremaining: 4.52s\n",
      "87:\tlearn: 1932.8218921\ttotal: 17.3s\tremaining: 4.32s\n",
      "88:\tlearn: 1928.7845252\ttotal: 17.5s\tremaining: 4.13s\n",
      "89:\tlearn: 1924.6725797\ttotal: 17.7s\tremaining: 3.93s\n",
      "90:\tlearn: 1920.6915828\ttotal: 17.9s\tremaining: 3.73s\n",
      "91:\tlearn: 1916.9214386\ttotal: 18.1s\tremaining: 3.54s\n",
      "92:\tlearn: 1913.5649364\ttotal: 18.3s\tremaining: 3.34s\n",
      "93:\tlearn: 1909.1104982\ttotal: 18.5s\tremaining: 3.14s\n",
      "94:\tlearn: 1905.4648486\ttotal: 18.6s\tremaining: 2.94s\n",
      "95:\tlearn: 1902.0879604\ttotal: 18.8s\tremaining: 2.74s\n",
      "96:\tlearn: 1898.6114286\ttotal: 19s\tremaining: 2.54s\n",
      "97:\tlearn: 1895.4834941\ttotal: 19.2s\tremaining: 2.35s\n",
      "98:\tlearn: 1892.1578229\ttotal: 19.4s\tremaining: 2.15s\n",
      "99:\tlearn: 1888.8562995\ttotal: 19.6s\tremaining: 1.96s\n",
      "100:\tlearn: 1885.6951985\ttotal: 19.8s\tremaining: 1.76s\n",
      "101:\tlearn: 1882.8848239\ttotal: 20s\tremaining: 1.56s\n",
      "102:\tlearn: 1879.4193032\ttotal: 20.2s\tremaining: 1.37s\n",
      "103:\tlearn: 1876.8544411\ttotal: 20.3s\tremaining: 1.17s\n",
      "104:\tlearn: 1874.3096511\ttotal: 20.5s\tremaining: 975ms\n",
      "105:\tlearn: 1870.8359635\ttotal: 20.7s\tremaining: 780ms\n",
      "106:\tlearn: 1867.8889783\ttotal: 20.9s\tremaining: 585ms\n",
      "107:\tlearn: 1865.5682872\ttotal: 21.1s\tremaining: 390ms\n",
      "108:\tlearn: 1863.1441146\ttotal: 21.3s\tremaining: 195ms\n",
      "109:\tlearn: 1860.6184021\ttotal: 21.5s\tremaining: 0us\n",
      "0:\tlearn: 4441.5282549\ttotal: 126ms\tremaining: 13.8s\n",
      "1:\tlearn: 4343.5547014\ttotal: 429ms\tremaining: 23.2s\n",
      "2:\tlearn: 4249.8870085\ttotal: 726ms\tremaining: 25.9s\n",
      "3:\tlearn: 4159.1829195\ttotal: 1.02s\tremaining: 27s\n",
      "4:\tlearn: 4070.9298994\ttotal: 1.31s\tremaining: 27.6s\n",
      "5:\tlearn: 3986.6751538\ttotal: 1.53s\tremaining: 26.6s\n",
      "6:\tlearn: 3904.9852965\ttotal: 1.82s\tremaining: 26.7s\n",
      "7:\tlearn: 3826.5374726\ttotal: 2.11s\tremaining: 26.9s\n",
      "8:\tlearn: 3749.4237960\ttotal: 2.33s\tremaining: 26.1s\n",
      "9:\tlearn: 3675.7314807\ttotal: 2.62s\tremaining: 26.2s\n",
      "10:\tlearn: 3604.5996514\ttotal: 2.91s\tremaining: 26.2s\n",
      "11:\tlearn: 3536.4766419\ttotal: 3.21s\tremaining: 26.2s\n",
      "12:\tlearn: 3470.7274821\ttotal: 3.42s\tremaining: 25.6s\n",
      "13:\tlearn: 3406.8121909\ttotal: 3.71s\tremaining: 25.5s\n",
      "14:\tlearn: 3345.4109341\ttotal: 4s\tremaining: 25.4s\n",
      "15:\tlearn: 3286.1553808\ttotal: 4.3s\tremaining: 25.3s\n",
      "16:\tlearn: 3229.6209435\ttotal: 4.54s\tremaining: 24.8s\n",
      "17:\tlearn: 3175.4547203\ttotal: 4.81s\tremaining: 24.6s\n",
      "18:\tlearn: 3122.9993761\ttotal: 5.1s\tremaining: 24.4s\n",
      "19:\tlearn: 3072.7975654\ttotal: 5.31s\tremaining: 23.9s\n",
      "20:\tlearn: 3024.9490776\ttotal: 5.6s\tremaining: 23.7s\n",
      "21:\tlearn: 2978.8703754\ttotal: 5.89s\tremaining: 23.6s\n",
      "22:\tlearn: 2934.5475767\ttotal: 6.11s\tremaining: 23.1s\n",
      "23:\tlearn: 2892.7693584\ttotal: 6.4s\tremaining: 22.9s\n",
      "24:\tlearn: 2851.7020926\ttotal: 6.7s\tremaining: 22.8s\n",
      "25:\tlearn: 2811.1969482\ttotal: 6.99s\tremaining: 22.6s\n",
      "26:\tlearn: 2771.8625216\ttotal: 7.21s\tremaining: 22.2s\n",
      "27:\tlearn: 2734.5299155\ttotal: 7.49s\tremaining: 21.9s\n",
      "28:\tlearn: 2698.6604193\ttotal: 7.71s\tremaining: 21.5s\n",
      "29:\tlearn: 2664.2613618\ttotal: 8s\tremaining: 21.3s\n",
      "30:\tlearn: 2631.2427150\ttotal: 8.3s\tremaining: 21.2s\n",
      "31:\tlearn: 2599.9543965\ttotal: 8.6s\tremaining: 21s\n",
      "32:\tlearn: 2569.0992049\ttotal: 8.89s\tremaining: 20.8s\n",
      "33:\tlearn: 2538.3325293\ttotal: 9.19s\tremaining: 20.5s\n",
      "34:\tlearn: 2510.3772013\ttotal: 9.48s\tremaining: 20.3s\n",
      "35:\tlearn: 2482.7098805\ttotal: 9.7s\tremaining: 19.9s\n",
      "36:\tlearn: 2456.4427246\ttotal: 10s\tremaining: 19.7s\n",
      "37:\tlearn: 2431.9772774\ttotal: 10.3s\tremaining: 19.5s\n",
      "38:\tlearn: 2407.3803367\ttotal: 10.6s\tremaining: 19.3s\n",
      "39:\tlearn: 2384.2873333\ttotal: 10.8s\tremaining: 18.9s\n",
      "40:\tlearn: 2362.2776402\ttotal: 11.1s\tremaining: 18.6s\n",
      "41:\tlearn: 2340.2023477\ttotal: 11.3s\tremaining: 18.3s\n",
      "42:\tlearn: 2319.6291176\ttotal: 11.6s\tremaining: 18.1s\n",
      "43:\tlearn: 2298.4697145\ttotal: 11.9s\tremaining: 17.8s\n",
      "44:\tlearn: 2278.7715287\ttotal: 12.1s\tremaining: 17.5s\n",
      "45:\tlearn: 2260.9808833\ttotal: 12.4s\tremaining: 17.2s\n",
      "46:\tlearn: 2243.4335141\ttotal: 12.7s\tremaining: 17s\n",
      "47:\tlearn: 2226.0074784\ttotal: 12.9s\tremaining: 16.6s\n",
      "48:\tlearn: 2209.9633128\ttotal: 13.2s\tremaining: 16.4s\n",
      "49:\tlearn: 2194.2303087\ttotal: 13.5s\tremaining: 16.2s\n",
      "50:\tlearn: 2178.5971870\ttotal: 13.8s\tremaining: 15.9s\n",
      "51:\tlearn: 2164.0291279\ttotal: 14.1s\tremaining: 15.7s\n",
      "52:\tlearn: 2149.8779461\ttotal: 14.4s\tremaining: 15.5s\n",
      "53:\tlearn: 2135.1296293\ttotal: 14.6s\tremaining: 15.1s\n",
      "54:\tlearn: 2121.8222011\ttotal: 14.9s\tremaining: 14.9s\n",
      "55:\tlearn: 2108.5321826\ttotal: 15.2s\tremaining: 14.6s\n",
      "56:\tlearn: 2096.3303350\ttotal: 15.5s\tremaining: 14.4s\n",
      "57:\tlearn: 2085.1389051\ttotal: 15.7s\tremaining: 14.1s\n",
      "58:\tlearn: 2074.3950157\ttotal: 16s\tremaining: 13.8s\n",
      "59:\tlearn: 2063.7398970\ttotal: 16.3s\tremaining: 13.6s\n",
      "60:\tlearn: 2053.8590089\ttotal: 16.5s\tremaining: 13.3s\n",
      "61:\tlearn: 2043.8706279\ttotal: 16.7s\tremaining: 12.9s\n",
      "62:\tlearn: 2033.8792386\ttotal: 17s\tremaining: 12.7s\n",
      "63:\tlearn: 2023.2026101\ttotal: 17.3s\tremaining: 12.4s\n",
      "64:\tlearn: 2014.1444170\ttotal: 17.5s\tremaining: 12.1s\n",
      "65:\tlearn: 2005.4768540\ttotal: 17.8s\tremaining: 11.8s\n",
      "66:\tlearn: 1997.1710444\ttotal: 18s\tremaining: 11.5s\n",
      "67:\tlearn: 1988.2269560\ttotal: 18.3s\tremaining: 11.3s\n",
      "68:\tlearn: 1980.3603679\ttotal: 18.5s\tremaining: 11s\n",
      "69:\tlearn: 1973.1208531\ttotal: 18.8s\tremaining: 10.7s\n",
      "70:\tlearn: 1964.5517413\ttotal: 19.1s\tremaining: 10.5s\n",
      "71:\tlearn: 1956.7831325\ttotal: 19.3s\tremaining: 10.2s\n",
      "72:\tlearn: 1949.0510816\ttotal: 19.6s\tremaining: 9.91s\n",
      "73:\tlearn: 1941.1716345\ttotal: 19.8s\tremaining: 9.62s\n",
      "74:\tlearn: 1935.1114435\ttotal: 20.1s\tremaining: 9.36s\n",
      "75:\tlearn: 1928.7223596\ttotal: 20.4s\tremaining: 9.11s\n",
      "76:\tlearn: 1922.6189485\ttotal: 20.7s\tremaining: 8.85s\n",
      "77:\tlearn: 1917.4764068\ttotal: 20.9s\tremaining: 8.59s\n",
      "78:\tlearn: 1912.3050484\ttotal: 21.2s\tremaining: 8.3s\n",
      "79:\tlearn: 1907.2658409\ttotal: 21.5s\tremaining: 8.04s\n",
      "80:\tlearn: 1901.8779857\ttotal: 21.7s\tremaining: 7.79s\n",
      "81:\tlearn: 1897.0128993\ttotal: 22s\tremaining: 7.5s\n",
      "82:\tlearn: 1891.0812150\ttotal: 22.3s\tremaining: 7.24s\n",
      "83:\tlearn: 1886.0689897\ttotal: 22.5s\tremaining: 6.98s\n",
      "84:\tlearn: 1881.5632221\ttotal: 22.8s\tremaining: 6.72s\n",
      "85:\tlearn: 1876.4923318\ttotal: 23.1s\tremaining: 6.46s\n",
      "86:\tlearn: 1872.4289396\ttotal: 23.5s\tremaining: 6.2s\n",
      "87:\tlearn: 1868.0980920\ttotal: 23.7s\tremaining: 5.91s\n",
      "88:\tlearn: 1864.3128482\ttotal: 23.9s\tremaining: 5.65s\n",
      "89:\tlearn: 1859.6876706\ttotal: 24.2s\tremaining: 5.39s\n",
      "90:\tlearn: 1856.0732155\ttotal: 24.5s\tremaining: 5.11s\n",
      "91:\tlearn: 1852.2155368\ttotal: 24.7s\tremaining: 4.84s\n",
      "92:\tlearn: 1847.9417747\ttotal: 25s\tremaining: 4.58s\n",
      "93:\tlearn: 1844.7370988\ttotal: 25.2s\tremaining: 4.3s\n",
      "94:\tlearn: 1841.3078928\ttotal: 25.5s\tremaining: 4.03s\n",
      "95:\tlearn: 1838.1732428\ttotal: 25.8s\tremaining: 3.77s\n",
      "96:\tlearn: 1835.0638105\ttotal: 26s\tremaining: 3.49s\n",
      "97:\tlearn: 1831.7052890\ttotal: 26.3s\tremaining: 3.23s\n",
      "98:\tlearn: 1828.8410310\ttotal: 26.6s\tremaining: 2.96s\n",
      "99:\tlearn: 1825.7285590\ttotal: 26.8s\tremaining: 2.68s\n",
      "100:\tlearn: 1822.3043940\ttotal: 27.1s\tremaining: 2.42s\n",
      "101:\tlearn: 1819.3065323\ttotal: 27.4s\tremaining: 2.15s\n",
      "102:\tlearn: 1816.9272622\ttotal: 27.6s\tremaining: 1.88s\n",
      "103:\tlearn: 1814.5332101\ttotal: 27.9s\tremaining: 1.61s\n",
      "104:\tlearn: 1812.1336667\ttotal: 28.2s\tremaining: 1.34s\n",
      "105:\tlearn: 1809.8348584\ttotal: 28.5s\tremaining: 1.08s\n",
      "106:\tlearn: 1807.1636391\ttotal: 28.8s\tremaining: 808ms\n",
      "107:\tlearn: 1805.0492437\ttotal: 29.1s\tremaining: 539ms\n",
      "108:\tlearn: 1802.5710064\ttotal: 29.3s\tremaining: 269ms\n",
      "109:\tlearn: 1800.6503059\ttotal: 29.6s\tremaining: 0us\n",
      "0:\tlearn: 4455.9019048\ttotal: 33.7ms\tremaining: 4s\n",
      "1:\tlearn: 4372.1230381\ttotal: 135ms\tremaining: 7.95s\n",
      "2:\tlearn: 4292.4136951\ttotal: 238ms\tremaining: 9.29s\n",
      "3:\tlearn: 4215.6173472\ttotal: 337ms\tremaining: 9.78s\n",
      "4:\tlearn: 4141.6699390\ttotal: 527ms\tremaining: 12.1s\n",
      "5:\tlearn: 4070.2147160\ttotal: 628ms\tremaining: 11.9s\n",
      "6:\tlearn: 4000.0967871\ttotal: 731ms\tremaining: 11.8s\n",
      "7:\tlearn: 3928.5125173\ttotal: 834ms\tremaining: 11.7s\n",
      "8:\tlearn: 3864.9064822\ttotal: 940ms\tremaining: 11.6s\n",
      "9:\tlearn: 3800.8141580\ttotal: 1.12s\tremaining: 12.4s\n",
      "10:\tlearn: 3740.6531598\ttotal: 1.23s\tremaining: 12.1s\n",
      "11:\tlearn: 3680.9000395\ttotal: 1.33s\tremaining: 12s\n",
      "12:\tlearn: 3622.1221304\ttotal: 1.43s\tremaining: 11.8s\n",
      "13:\tlearn: 3566.4037694\ttotal: 1.54s\tremaining: 11.6s\n",
      "14:\tlearn: 3513.3765571\ttotal: 1.72s\tremaining: 12s\n",
      "15:\tlearn: 3462.1834742\ttotal: 1.82s\tremaining: 11.9s\n",
      "16:\tlearn: 3414.3463620\ttotal: 1.93s\tremaining: 11.7s\n",
      "17:\tlearn: 3365.8659928\ttotal: 2.12s\tremaining: 12s\n",
      "18:\tlearn: 3320.4093817\ttotal: 2.22s\tremaining: 11.8s\n",
      "19:\tlearn: 3278.6650553\ttotal: 2.32s\tremaining: 11.6s\n",
      "20:\tlearn: 3234.7355107\ttotal: 2.42s\tremaining: 11.4s\n",
      "21:\tlearn: 3195.7312354\ttotal: 2.53s\tremaining: 11.3s\n",
      "22:\tlearn: 3157.6159177\ttotal: 2.72s\tremaining: 11.5s\n",
      "23:\tlearn: 3120.0199750\ttotal: 2.82s\tremaining: 11.3s\n",
      "24:\tlearn: 3080.8815966\ttotal: 2.92s\tremaining: 11.1s\n",
      "25:\tlearn: 3043.6277463\ttotal: 3.11s\tremaining: 11.2s\n",
      "26:\tlearn: 3009.6660510\ttotal: 3.21s\tremaining: 11.1s\n",
      "27:\tlearn: 2975.0013903\ttotal: 3.32s\tremaining: 10.9s\n",
      "28:\tlearn: 2943.3973586\ttotal: 3.42s\tremaining: 10.7s\n",
      "29:\tlearn: 2914.4208719\ttotal: 3.61s\tremaining: 10.8s\n",
      "30:\tlearn: 2882.8321566\ttotal: 3.71s\tremaining: 10.7s\n",
      "31:\tlearn: 2855.6562112\ttotal: 3.81s\tremaining: 10.5s\n",
      "32:\tlearn: 2826.3719825\ttotal: 3.92s\tremaining: 10.3s\n",
      "33:\tlearn: 2799.7827340\ttotal: 4.1s\tremaining: 10.4s\n",
      "34:\tlearn: 2775.0214183\ttotal: 4.21s\tremaining: 10.2s\n",
      "35:\tlearn: 2750.2085287\ttotal: 4.31s\tremaining: 10.1s\n",
      "36:\tlearn: 2727.0957273\ttotal: 4.41s\tremaining: 9.89s\n",
      "37:\tlearn: 2702.9349685\ttotal: 4.6s\tremaining: 9.93s\n",
      "38:\tlearn: 2679.3659467\ttotal: 4.7s\tremaining: 9.77s\n",
      "39:\tlearn: 2657.1592581\ttotal: 4.81s\tremaining: 9.61s\n",
      "40:\tlearn: 2637.2116246\ttotal: 4.91s\tremaining: 9.46s\n",
      "41:\tlearn: 2617.7378453\ttotal: 5.1s\tremaining: 9.46s\n",
      "42:\tlearn: 2597.4989412\ttotal: 5.2s\tremaining: 9.31s\n",
      "43:\tlearn: 2579.5488356\ttotal: 5.3s\tremaining: 9.15s\n",
      "44:\tlearn: 2560.7927323\ttotal: 5.4s\tremaining: 9.01s\n",
      "45:\tlearn: 2543.5008343\ttotal: 5.51s\tremaining: 8.86s\n",
      "46:\tlearn: 2525.2918448\ttotal: 5.69s\tremaining: 8.85s\n",
      "47:\tlearn: 2509.8696971\ttotal: 5.8s\tremaining: 8.69s\n",
      "48:\tlearn: 2493.5918958\ttotal: 5.9s\tremaining: 8.54s\n",
      "49:\tlearn: 2478.0715914\ttotal: 6s\tremaining: 8.4s\n",
      "50:\tlearn: 2462.7521809\ttotal: 6.19s\tremaining: 8.38s\n",
      "51:\tlearn: 2447.9664807\ttotal: 6.29s\tremaining: 8.23s\n",
      "52:\tlearn: 2434.5718811\ttotal: 6.4s\tremaining: 8.09s\n",
      "53:\tlearn: 2421.9426785\ttotal: 6.5s\tremaining: 7.94s\n",
      "54:\tlearn: 2410.1176106\ttotal: 6.6s\tremaining: 7.8s\n",
      "55:\tlearn: 2397.3969796\ttotal: 6.79s\tremaining: 7.76s\n",
      "56:\tlearn: 2384.9405214\ttotal: 6.89s\tremaining: 7.62s\n",
      "57:\tlearn: 2373.9988933\ttotal: 7s\tremaining: 7.48s\n",
      "58:\tlearn: 2362.2874005\ttotal: 7.1s\tremaining: 7.34s\n",
      "59:\tlearn: 2351.4422656\ttotal: 7.29s\tremaining: 7.29s\n",
      "60:\tlearn: 2341.5188625\ttotal: 7.39s\tremaining: 7.15s\n",
      "61:\tlearn: 2331.3429924\ttotal: 7.49s\tremaining: 7.01s\n",
      "62:\tlearn: 2321.1548418\ttotal: 7.6s\tremaining: 6.87s\n",
      "63:\tlearn: 2311.0827440\ttotal: 7.79s\tremaining: 6.81s\n",
      "64:\tlearn: 2302.0615772\ttotal: 7.89s\tremaining: 6.68s\n",
      "65:\tlearn: 2293.6901268\ttotal: 7.99s\tremaining: 6.54s\n",
      "66:\tlearn: 2285.5225277\ttotal: 8.18s\tremaining: 6.47s\n",
      "67:\tlearn: 2277.4060830\ttotal: 8.28s\tremaining: 6.33s\n",
      "68:\tlearn: 2268.3999093\ttotal: 8.39s\tremaining: 6.2s\n",
      "69:\tlearn: 2259.8708769\ttotal: 8.49s\tremaining: 6.06s\n",
      "70:\tlearn: 2252.4924622\ttotal: 8.59s\tremaining: 5.93s\n",
      "71:\tlearn: 2244.8880524\ttotal: 8.78s\tremaining: 5.85s\n",
      "72:\tlearn: 2237.5039553\ttotal: 8.88s\tremaining: 5.72s\n",
      "73:\tlearn: 2231.0850680\ttotal: 8.98s\tremaining: 5.58s\n",
      "74:\tlearn: 2224.4266994\ttotal: 9.08s\tremaining: 5.45s\n",
      "75:\tlearn: 2217.2689759\ttotal: 9.27s\tremaining: 5.37s\n",
      "76:\tlearn: 2211.1668962\ttotal: 9.38s\tremaining: 5.24s\n",
      "77:\tlearn: 2205.5493632\ttotal: 9.48s\tremaining: 5.1s\n",
      "78:\tlearn: 2199.0299430\ttotal: 9.58s\tremaining: 4.97s\n",
      "79:\tlearn: 2192.8160930\ttotal: 9.77s\tremaining: 4.88s\n",
      "80:\tlearn: 2186.4127902\ttotal: 9.87s\tremaining: 4.75s\n",
      "81:\tlearn: 2180.5718202\ttotal: 9.97s\tremaining: 4.62s\n",
      "82:\tlearn: 2175.3145916\ttotal: 10.1s\tremaining: 4.49s\n",
      "83:\tlearn: 2169.6115791\ttotal: 10.2s\tremaining: 4.36s\n",
      "84:\tlearn: 2164.5243877\ttotal: 10.3s\tremaining: 4.23s\n",
      "85:\tlearn: 2158.8888775\ttotal: 10.5s\tremaining: 4.14s\n",
      "86:\tlearn: 2153.5411838\ttotal: 10.6s\tremaining: 4.01s\n",
      "87:\tlearn: 2148.2901997\ttotal: 10.7s\tremaining: 3.88s\n",
      "88:\tlearn: 2142.4033252\ttotal: 10.9s\tremaining: 3.78s\n",
      "89:\tlearn: 2137.3646354\ttotal: 11s\tremaining: 3.65s\n",
      "90:\tlearn: 2132.6091927\ttotal: 11.1s\tremaining: 3.53s\n",
      "91:\tlearn: 2127.7944627\ttotal: 11.2s\tremaining: 3.4s\n",
      "92:\tlearn: 2123.3016470\ttotal: 11.4s\tremaining: 3.3s\n",
      "93:\tlearn: 2118.9867437\ttotal: 11.5s\tremaining: 3.17s\n",
      "94:\tlearn: 2114.6272659\ttotal: 11.6s\tremaining: 3.04s\n",
      "95:\tlearn: 2110.8123915\ttotal: 11.7s\tremaining: 2.92s\n",
      "96:\tlearn: 2106.6153865\ttotal: 11.8s\tremaining: 2.79s\n",
      "97:\tlearn: 2102.5541416\ttotal: 12s\tremaining: 2.68s\n",
      "98:\tlearn: 2098.6422090\ttotal: 12.1s\tremaining: 2.56s\n",
      "99:\tlearn: 2095.1039966\ttotal: 12.2s\tremaining: 2.43s\n",
      "100:\tlearn: 2091.1798931\ttotal: 12.3s\tremaining: 2.31s\n",
      "101:\tlearn: 2087.7342966\ttotal: 12.4s\tremaining: 2.18s\n",
      "102:\tlearn: 2084.1821258\ttotal: 12.6s\tremaining: 2.07s\n",
      "103:\tlearn: 2080.4592569\ttotal: 12.7s\tremaining: 1.95s\n",
      "104:\tlearn: 2077.0126474\ttotal: 12.8s\tremaining: 1.82s\n",
      "105:\tlearn: 2072.2351175\ttotal: 13s\tremaining: 1.71s\n",
      "106:\tlearn: 2068.4347255\ttotal: 13.1s\tremaining: 1.59s\n",
      "107:\tlearn: 2065.0674425\ttotal: 13.2s\tremaining: 1.46s\n",
      "108:\tlearn: 2061.7751669\ttotal: 13.3s\tremaining: 1.35s\n",
      "109:\tlearn: 2058.5552327\ttotal: 13.5s\tremaining: 1.22s\n",
      "110:\tlearn: 2055.1164695\ttotal: 13.6s\tremaining: 1.1s\n",
      "111:\tlearn: 2052.0510723\ttotal: 13.7s\tremaining: 976ms\n",
      "112:\tlearn: 2049.1647641\ttotal: 13.8s\tremaining: 857ms\n",
      "113:\tlearn: 2046.2794369\ttotal: 13.9s\tremaining: 734ms\n",
      "114:\tlearn: 2043.6973558\ttotal: 14s\tremaining: 611ms\n",
      "115:\tlearn: 2040.7502770\ttotal: 14.2s\tremaining: 488ms\n",
      "116:\tlearn: 2038.1909415\ttotal: 14.3s\tremaining: 365ms\n",
      "117:\tlearn: 2035.4291513\ttotal: 14.4s\tremaining: 245ms\n",
      "118:\tlearn: 2032.9225535\ttotal: 14.5s\tremaining: 122ms\n",
      "119:\tlearn: 2029.7373601\ttotal: 14.6s\tremaining: 0us\n",
      "0:\tlearn: 4448.7661309\ttotal: 80.1ms\tremaining: 9.54s\n",
      "1:\tlearn: 4356.8532379\ttotal: 269ms\tremaining: 15.9s\n",
      "2:\tlearn: 4268.3099819\ttotal: 379ms\tremaining: 14.8s\n",
      "3:\tlearn: 4185.5578435\ttotal: 570ms\tremaining: 16.5s\n",
      "4:\tlearn: 4104.9211895\ttotal: 766ms\tremaining: 17.6s\n",
      "5:\tlearn: 4025.8353539\ttotal: 874ms\tremaining: 16.6s\n",
      "6:\tlearn: 3948.9466828\ttotal: 1.07s\tremaining: 17.2s\n",
      "7:\tlearn: 3876.9530266\ttotal: 1.26s\tremaining: 17.6s\n",
      "8:\tlearn: 3805.0836340\ttotal: 1.37s\tremaining: 16.9s\n",
      "9:\tlearn: 3736.7668421\ttotal: 1.56s\tremaining: 17.2s\n",
      "10:\tlearn: 3671.3220194\ttotal: 1.67s\tremaining: 16.5s\n",
      "11:\tlearn: 3607.6906018\ttotal: 1.86s\tremaining: 16.7s\n",
      "12:\tlearn: 3546.5788217\ttotal: 2.06s\tremaining: 16.9s\n",
      "13:\tlearn: 3487.1064545\ttotal: 2.17s\tremaining: 16.4s\n",
      "14:\tlearn: 3431.4682850\ttotal: 2.36s\tremaining: 16.5s\n",
      "15:\tlearn: 3374.9454192\ttotal: 2.46s\tremaining: 16s\n",
      "16:\tlearn: 3321.9252931\ttotal: 2.68s\tremaining: 16.2s\n",
      "17:\tlearn: 3272.1977919\ttotal: 2.85s\tremaining: 16.2s\n",
      "18:\tlearn: 3223.2936173\ttotal: 2.97s\tremaining: 15.8s\n",
      "19:\tlearn: 3176.2348554\ttotal: 3.16s\tremaining: 15.8s\n",
      "20:\tlearn: 3131.0630026\ttotal: 3.36s\tremaining: 15.8s\n",
      "21:\tlearn: 3087.5871872\ttotal: 3.47s\tremaining: 15.4s\n",
      "22:\tlearn: 3044.8666396\ttotal: 3.66s\tremaining: 15.4s\n",
      "23:\tlearn: 3004.6133827\ttotal: 3.85s\tremaining: 15.4s\n",
      "24:\tlearn: 2966.3539394\ttotal: 4.05s\tremaining: 15.4s\n",
      "25:\tlearn: 2928.4668969\ttotal: 4.15s\tremaining: 15s\n",
      "26:\tlearn: 2892.7979499\ttotal: 4.35s\tremaining: 15s\n",
      "27:\tlearn: 2856.5145874\ttotal: 4.46s\tremaining: 14.6s\n",
      "28:\tlearn: 2824.4138771\ttotal: 4.65s\tremaining: 14.6s\n",
      "29:\tlearn: 2793.3026372\ttotal: 4.77s\tremaining: 14.3s\n",
      "30:\tlearn: 2762.5516880\ttotal: 4.95s\tremaining: 14.2s\n",
      "31:\tlearn: 2733.5075387\ttotal: 5.14s\tremaining: 14.1s\n",
      "32:\tlearn: 2704.2056431\ttotal: 5.25s\tremaining: 13.8s\n",
      "33:\tlearn: 2675.2111530\ttotal: 5.44s\tremaining: 13.8s\n",
      "34:\tlearn: 2648.2603671\ttotal: 5.56s\tremaining: 13.5s\n",
      "35:\tlearn: 2623.1909876\ttotal: 5.75s\tremaining: 13.4s\n",
      "36:\tlearn: 2597.7379701\ttotal: 5.94s\tremaining: 13.3s\n",
      "37:\tlearn: 2574.3899016\ttotal: 6.05s\tremaining: 13s\n",
      "38:\tlearn: 2551.9082908\ttotal: 6.24s\tremaining: 13s\n",
      "39:\tlearn: 2530.3380908\ttotal: 6.44s\tremaining: 12.9s\n",
      "40:\tlearn: 2510.1057627\ttotal: 6.55s\tremaining: 12.6s\n",
      "41:\tlearn: 2489.7435046\ttotal: 6.74s\tremaining: 12.5s\n",
      "42:\tlearn: 2469.4374529\ttotal: 6.84s\tremaining: 12.3s\n",
      "43:\tlearn: 2450.2891549\ttotal: 7.04s\tremaining: 12.2s\n",
      "44:\tlearn: 2431.7817185\ttotal: 7.24s\tremaining: 12.1s\n",
      "45:\tlearn: 2414.9071059\ttotal: 7.34s\tremaining: 11.8s\n",
      "46:\tlearn: 2398.1266768\ttotal: 7.53s\tremaining: 11.7s\n",
      "47:\tlearn: 2381.6861874\ttotal: 7.64s\tremaining: 11.5s\n",
      "48:\tlearn: 2366.4678632\ttotal: 7.83s\tremaining: 11.4s\n",
      "49:\tlearn: 2350.5790914\ttotal: 7.94s\tremaining: 11.1s\n",
      "50:\tlearn: 2336.5072055\ttotal: 8.13s\tremaining: 11s\n",
      "51:\tlearn: 2322.2438304\ttotal: 8.33s\tremaining: 10.9s\n",
      "52:\tlearn: 2309.2630920\ttotal: 8.43s\tremaining: 10.7s\n",
      "53:\tlearn: 2296.3506301\ttotal: 8.63s\tremaining: 10.5s\n",
      "54:\tlearn: 2283.8572988\ttotal: 8.73s\tremaining: 10.3s\n",
      "55:\tlearn: 2271.3327516\ttotal: 8.92s\tremaining: 10.2s\n",
      "56:\tlearn: 2259.7393155\ttotal: 9.03s\tremaining: 9.98s\n",
      "57:\tlearn: 2248.1975037\ttotal: 9.22s\tremaining: 9.86s\n",
      "58:\tlearn: 2237.7578342\ttotal: 9.33s\tremaining: 9.65s\n",
      "59:\tlearn: 2227.4736583\ttotal: 9.52s\tremaining: 9.52s\n",
      "60:\tlearn: 2216.9161879\ttotal: 9.63s\tremaining: 9.31s\n",
      "61:\tlearn: 2206.3018025\ttotal: 9.82s\tremaining: 9.19s\n",
      "62:\tlearn: 2197.0536590\ttotal: 10s\tremaining: 9.06s\n",
      "63:\tlearn: 2188.0344976\ttotal: 10.1s\tremaining: 8.86s\n",
      "64:\tlearn: 2176.6695634\ttotal: 10.3s\tremaining: 8.73s\n",
      "65:\tlearn: 2167.6097968\ttotal: 10.4s\tremaining: 8.53s\n",
      "66:\tlearn: 2159.5150792\ttotal: 10.6s\tremaining: 8.4s\n",
      "67:\tlearn: 2150.9507998\ttotal: 10.8s\tremaining: 8.27s\n",
      "68:\tlearn: 2140.9558984\ttotal: 10.9s\tremaining: 8.07s\n",
      "69:\tlearn: 2133.3298480\ttotal: 11.1s\tremaining: 7.94s\n",
      "70:\tlearn: 2125.7435346\ttotal: 11.2s\tremaining: 7.74s\n",
      "71:\tlearn: 2118.9886935\ttotal: 11.4s\tremaining: 7.61s\n",
      "72:\tlearn: 2110.1448877\ttotal: 11.5s\tremaining: 7.42s\n",
      "73:\tlearn: 2103.7160357\ttotal: 11.7s\tremaining: 7.28s\n",
      "74:\tlearn: 2096.6173769\ttotal: 11.9s\tremaining: 7.14s\n",
      "75:\tlearn: 2090.4533644\ttotal: 12s\tremaining: 6.96s\n",
      "76:\tlearn: 2084.2631113\ttotal: 12.2s\tremaining: 6.82s\n",
      "77:\tlearn: 2078.4915517\ttotal: 12.3s\tremaining: 6.64s\n",
      "78:\tlearn: 2072.0927376\ttotal: 12.5s\tremaining: 6.49s\n",
      "79:\tlearn: 2064.7251924\ttotal: 12.7s\tremaining: 6.35s\n",
      "80:\tlearn: 2058.1666855\ttotal: 12.8s\tremaining: 6.17s\n",
      "81:\tlearn: 2052.8888675\ttotal: 13s\tremaining: 6.03s\n",
      "82:\tlearn: 2047.4818411\ttotal: 13.1s\tremaining: 5.84s\n",
      "83:\tlearn: 2042.6528481\ttotal: 13.3s\tremaining: 5.7s\n",
      "84:\tlearn: 2037.4746380\ttotal: 13.4s\tremaining: 5.53s\n",
      "85:\tlearn: 2031.3416001\ttotal: 13.6s\tremaining: 5.38s\n",
      "86:\tlearn: 2026.1749160\ttotal: 13.8s\tremaining: 5.24s\n",
      "87:\tlearn: 2021.2241515\ttotal: 13.9s\tremaining: 5.06s\n",
      "88:\tlearn: 2016.4711813\ttotal: 14.1s\tremaining: 4.91s\n",
      "89:\tlearn: 2012.0361740\ttotal: 14.2s\tremaining: 4.74s\n",
      "90:\tlearn: 2007.6821152\ttotal: 14.4s\tremaining: 4.59s\n",
      "91:\tlearn: 2002.6699288\ttotal: 14.5s\tremaining: 4.41s\n",
      "92:\tlearn: 1998.4687074\ttotal: 14.7s\tremaining: 4.27s\n",
      "93:\tlearn: 1993.5031257\ttotal: 14.9s\tremaining: 4.12s\n",
      "94:\tlearn: 1988.9482412\ttotal: 15s\tremaining: 3.95s\n",
      "95:\tlearn: 1984.9558503\ttotal: 15.2s\tremaining: 3.8s\n",
      "96:\tlearn: 1981.3306404\ttotal: 15.3s\tremaining: 3.63s\n",
      "97:\tlearn: 1977.0060257\ttotal: 15.5s\tremaining: 3.48s\n",
      "98:\tlearn: 1973.6524002\ttotal: 15.6s\tremaining: 3.31s\n",
      "99:\tlearn: 1970.1352642\ttotal: 15.8s\tremaining: 3.16s\n",
      "100:\tlearn: 1966.5882695\ttotal: 16s\tremaining: 3.01s\n",
      "101:\tlearn: 1963.5184474\ttotal: 16.1s\tremaining: 2.84s\n",
      "102:\tlearn: 1959.9788937\ttotal: 16.3s\tremaining: 2.69s\n",
      "103:\tlearn: 1956.9763346\ttotal: 16.4s\tremaining: 2.52s\n",
      "104:\tlearn: 1954.2992557\ttotal: 16.6s\tremaining: 2.37s\n",
      "105:\tlearn: 1951.1239428\ttotal: 16.7s\tremaining: 2.21s\n",
      "106:\tlearn: 1947.9090671\ttotal: 16.9s\tremaining: 2.05s\n",
      "107:\tlearn: 1945.2263751\ttotal: 17s\tremaining: 1.89s\n",
      "108:\tlearn: 1942.2079490\ttotal: 17.2s\tremaining: 1.73s\n",
      "109:\tlearn: 1938.6516683\ttotal: 17.3s\tremaining: 1.57s\n",
      "110:\tlearn: 1936.0079207\ttotal: 17.5s\tremaining: 1.42s\n",
      "111:\tlearn: 1933.0758166\ttotal: 17.7s\tremaining: 1.26s\n",
      "112:\tlearn: 1929.8718201\ttotal: 17.8s\tremaining: 1.1s\n",
      "113:\tlearn: 1927.5194980\ttotal: 18s\tremaining: 946ms\n",
      "114:\tlearn: 1925.4138681\ttotal: 18.1s\tremaining: 786ms\n",
      "115:\tlearn: 1923.3674738\ttotal: 18.3s\tremaining: 630ms\n",
      "116:\tlearn: 1920.8330639\ttotal: 18.4s\tremaining: 472ms\n",
      "117:\tlearn: 1918.1593977\ttotal: 18.6s\tremaining: 315ms\n",
      "118:\tlearn: 1915.6276226\ttotal: 18.7s\tremaining: 157ms\n",
      "119:\tlearn: 1913.0501220\ttotal: 18.9s\tremaining: 0us\n",
      "0:\tlearn: 4442.8583640\ttotal: 134ms\tremaining: 15.9s\n",
      "1:\tlearn: 4348.2889164\ttotal: 334ms\tremaining: 19.7s\n",
      "2:\tlearn: 4257.2589369\ttotal: 534ms\tremaining: 20.8s\n",
      "3:\tlearn: 4168.7143232\ttotal: 734ms\tremaining: 21.3s\n",
      "4:\tlearn: 4082.1977689\ttotal: 932ms\tremaining: 21.4s\n",
      "5:\tlearn: 4000.0153429\ttotal: 1.13s\tremaining: 21.5s\n",
      "6:\tlearn: 3920.3316741\ttotal: 1.33s\tremaining: 21.5s\n",
      "7:\tlearn: 3843.2575636\ttotal: 1.45s\tremaining: 20.3s\n",
      "8:\tlearn: 3770.3218915\ttotal: 1.64s\tremaining: 20.2s\n",
      "9:\tlearn: 3699.9865838\ttotal: 1.84s\tremaining: 20.3s\n",
      "10:\tlearn: 3631.2206468\ttotal: 2.04s\tremaining: 20.2s\n",
      "11:\tlearn: 3565.4759823\ttotal: 2.25s\tremaining: 20.2s\n",
      "12:\tlearn: 3501.9008744\ttotal: 2.44s\tremaining: 20.1s\n",
      "13:\tlearn: 3440.1477873\ttotal: 2.64s\tremaining: 20s\n",
      "14:\tlearn: 3381.3048171\ttotal: 2.92s\tremaining: 20.5s\n",
      "15:\tlearn: 3325.8112135\ttotal: 3.12s\tremaining: 20.3s\n",
      "16:\tlearn: 3269.5943152\ttotal: 3.32s\tremaining: 20.1s\n",
      "17:\tlearn: 3216.3106271\ttotal: 3.44s\tremaining: 19.5s\n",
      "18:\tlearn: 3164.8771686\ttotal: 3.72s\tremaining: 19.8s\n",
      "19:\tlearn: 3115.6628839\ttotal: 3.84s\tremaining: 19.2s\n",
      "20:\tlearn: 3068.5495090\ttotal: 4.04s\tremaining: 19s\n",
      "21:\tlearn: 3022.3932234\ttotal: 4.23s\tremaining: 18.9s\n",
      "22:\tlearn: 2977.9900657\ttotal: 4.44s\tremaining: 18.7s\n",
      "23:\tlearn: 2935.6049432\ttotal: 4.63s\tremaining: 18.5s\n",
      "24:\tlearn: 2894.3431556\ttotal: 4.83s\tremaining: 18.3s\n",
      "25:\tlearn: 2855.5718115\ttotal: 5.03s\tremaining: 18.2s\n",
      "26:\tlearn: 2818.3967161\ttotal: 5.23s\tremaining: 18s\n",
      "27:\tlearn: 2783.6601191\ttotal: 5.43s\tremaining: 17.8s\n",
      "28:\tlearn: 2748.4969167\ttotal: 5.63s\tremaining: 17.7s\n",
      "29:\tlearn: 2715.0444342\ttotal: 5.83s\tremaining: 17.5s\n",
      "30:\tlearn: 2683.3541581\ttotal: 6.02s\tremaining: 17.3s\n",
      "31:\tlearn: 2651.7975974\ttotal: 6.22s\tremaining: 17.1s\n",
      "32:\tlearn: 2621.4143656\ttotal: 6.42s\tremaining: 16.9s\n",
      "33:\tlearn: 2593.2910878\ttotal: 6.62s\tremaining: 16.7s\n",
      "34:\tlearn: 2565.4804774\ttotal: 6.81s\tremaining: 16.5s\n",
      "35:\tlearn: 2538.7256054\ttotal: 7.02s\tremaining: 16.4s\n",
      "36:\tlearn: 2513.4254634\ttotal: 7.21s\tremaining: 16.2s\n",
      "37:\tlearn: 2489.0735604\ttotal: 7.41s\tremaining: 16s\n",
      "38:\tlearn: 2465.2168862\ttotal: 7.61s\tremaining: 15.8s\n",
      "39:\tlearn: 2442.5361877\ttotal: 7.81s\tremaining: 15.6s\n",
      "40:\tlearn: 2420.5428513\ttotal: 8.01s\tremaining: 15.4s\n",
      "41:\tlearn: 2399.8339277\ttotal: 8.21s\tremaining: 15.2s\n",
      "42:\tlearn: 2380.1997937\ttotal: 8.41s\tremaining: 15.1s\n",
      "43:\tlearn: 2361.0160970\ttotal: 8.61s\tremaining: 14.9s\n",
      "44:\tlearn: 2342.3505142\ttotal: 8.81s\tremaining: 14.7s\n",
      "45:\tlearn: 2324.5174881\ttotal: 9.01s\tremaining: 14.5s\n",
      "46:\tlearn: 2306.8740245\ttotal: 9.29s\tremaining: 14.4s\n",
      "47:\tlearn: 2290.6119249\ttotal: 9.41s\tremaining: 14.1s\n",
      "48:\tlearn: 2275.1696997\ttotal: 9.61s\tremaining: 13.9s\n",
      "49:\tlearn: 2260.1628360\ttotal: 9.81s\tremaining: 13.7s\n",
      "50:\tlearn: 2245.8680978\ttotal: 10s\tremaining: 13.5s\n",
      "51:\tlearn: 2232.1454325\ttotal: 10.3s\tremaining: 13.5s\n",
      "52:\tlearn: 2219.1891171\ttotal: 10.4s\tremaining: 13.2s\n",
      "53:\tlearn: 2206.2441954\ttotal: 10.6s\tremaining: 13s\n",
      "54:\tlearn: 2193.9199542\ttotal: 10.8s\tremaining: 12.8s\n",
      "55:\tlearn: 2181.0063662\ttotal: 11s\tremaining: 12.6s\n",
      "56:\tlearn: 2167.3899232\ttotal: 11.2s\tremaining: 12.4s\n",
      "57:\tlearn: 2155.5114944\ttotal: 11.4s\tremaining: 12.2s\n",
      "58:\tlearn: 2144.2265305\ttotal: 11.6s\tremaining: 12s\n",
      "59:\tlearn: 2134.1889654\ttotal: 11.8s\tremaining: 11.8s\n",
      "60:\tlearn: 2123.6722462\ttotal: 12s\tremaining: 11.6s\n",
      "61:\tlearn: 2113.8920489\ttotal: 12.2s\tremaining: 11.4s\n",
      "62:\tlearn: 2103.9711591\ttotal: 12.4s\tremaining: 11.2s\n",
      "63:\tlearn: 2094.7319650\ttotal: 12.6s\tremaining: 11s\n",
      "64:\tlearn: 2084.4271580\ttotal: 12.8s\tremaining: 10.8s\n",
      "65:\tlearn: 2076.0928461\ttotal: 13s\tremaining: 10.6s\n",
      "66:\tlearn: 2067.9708992\ttotal: 13.2s\tremaining: 10.4s\n",
      "67:\tlearn: 2059.2922030\ttotal: 13.5s\tremaining: 10.3s\n",
      "68:\tlearn: 2051.7980565\ttotal: 13.7s\tremaining: 10.1s\n",
      "69:\tlearn: 2044.1350368\ttotal: 13.9s\tremaining: 9.91s\n",
      "70:\tlearn: 2037.0333800\ttotal: 14.1s\tremaining: 9.71s\n",
      "71:\tlearn: 2029.4600909\ttotal: 14.3s\tremaining: 9.52s\n",
      "72:\tlearn: 2021.2061556\ttotal: 14.4s\tremaining: 9.27s\n",
      "73:\tlearn: 2012.7754570\ttotal: 14.6s\tremaining: 9.07s\n",
      "74:\tlearn: 2004.7761518\ttotal: 14.8s\tremaining: 8.87s\n",
      "75:\tlearn: 1998.8238618\ttotal: 15s\tremaining: 8.67s\n",
      "76:\tlearn: 1993.1401771\ttotal: 15.2s\tremaining: 8.48s\n",
      "77:\tlearn: 1986.5339611\ttotal: 15.4s\tremaining: 8.28s\n",
      "78:\tlearn: 1980.4995470\ttotal: 15.6s\tremaining: 8.09s\n",
      "79:\tlearn: 1974.5582585\ttotal: 15.8s\tremaining: 7.89s\n",
      "80:\tlearn: 1967.9187231\ttotal: 16s\tremaining: 7.69s\n",
      "81:\tlearn: 1961.7012410\ttotal: 16.2s\tremaining: 7.5s\n",
      "82:\tlearn: 1956.6541658\ttotal: 16.4s\tremaining: 7.3s\n",
      "83:\tlearn: 1950.8675186\ttotal: 16.6s\tremaining: 7.1s\n",
      "84:\tlearn: 1946.3120226\ttotal: 16.8s\tremaining: 6.9s\n",
      "85:\tlearn: 1941.7128004\ttotal: 17s\tremaining: 6.71s\n",
      "86:\tlearn: 1937.4220523\ttotal: 17.2s\tremaining: 6.51s\n",
      "87:\tlearn: 1932.8218921\ttotal: 17.4s\tremaining: 6.32s\n",
      "88:\tlearn: 1928.7845252\ttotal: 17.6s\tremaining: 6.12s\n",
      "89:\tlearn: 1924.6725797\ttotal: 17.8s\tremaining: 5.92s\n",
      "90:\tlearn: 1920.6915828\ttotal: 18s\tremaining: 5.73s\n",
      "91:\tlearn: 1916.9214386\ttotal: 18.2s\tremaining: 5.53s\n",
      "92:\tlearn: 1913.5649364\ttotal: 18.4s\tremaining: 5.33s\n",
      "93:\tlearn: 1909.1104982\ttotal: 18.6s\tremaining: 5.13s\n",
      "94:\tlearn: 1905.4648486\ttotal: 18.8s\tremaining: 4.94s\n",
      "95:\tlearn: 1902.0879604\ttotal: 19s\tremaining: 4.74s\n",
      "96:\tlearn: 1898.6114286\ttotal: 19.2s\tremaining: 4.54s\n",
      "97:\tlearn: 1895.4834941\ttotal: 19.4s\tremaining: 4.34s\n",
      "98:\tlearn: 1892.1578229\ttotal: 19.6s\tremaining: 4.15s\n",
      "99:\tlearn: 1888.8562995\ttotal: 19.8s\tremaining: 3.95s\n",
      "100:\tlearn: 1885.6951985\ttotal: 20s\tremaining: 3.75s\n",
      "101:\tlearn: 1882.8848239\ttotal: 20.1s\tremaining: 3.56s\n",
      "102:\tlearn: 1879.4193032\ttotal: 20.3s\tremaining: 3.36s\n",
      "103:\tlearn: 1876.8544411\ttotal: 20.5s\tremaining: 3.15s\n",
      "104:\tlearn: 1874.3096511\ttotal: 20.7s\tremaining: 2.95s\n",
      "105:\tlearn: 1870.8359635\ttotal: 20.9s\tremaining: 2.75s\n",
      "106:\tlearn: 1867.8889783\ttotal: 21.1s\tremaining: 2.56s\n",
      "107:\tlearn: 1865.5682872\ttotal: 21.3s\tremaining: 2.36s\n",
      "108:\tlearn: 1863.1441146\ttotal: 21.5s\tremaining: 2.17s\n",
      "109:\tlearn: 1860.6184021\ttotal: 21.7s\tremaining: 1.97s\n",
      "110:\tlearn: 1858.1687528\ttotal: 21.9s\tremaining: 1.77s\n",
      "111:\tlearn: 1856.0667581\ttotal: 22.1s\tremaining: 1.57s\n",
      "112:\tlearn: 1853.9558384\ttotal: 22.3s\tremaining: 1.38s\n",
      "113:\tlearn: 1851.2757007\ttotal: 22.4s\tremaining: 1.18s\n",
      "114:\tlearn: 1849.1979298\ttotal: 22.6s\tremaining: 985ms\n",
      "115:\tlearn: 1847.3339342\ttotal: 22.8s\tremaining: 788ms\n",
      "116:\tlearn: 1845.5942306\ttotal: 23s\tremaining: 591ms\n",
      "117:\tlearn: 1843.4998037\ttotal: 23.3s\tremaining: 394ms\n",
      "118:\tlearn: 1841.2387610\ttotal: 23.5s\tremaining: 198ms\n",
      "119:\tlearn: 1839.6890332\ttotal: 23.7s\tremaining: 0us\n",
      "0:\tlearn: 4441.5282549\ttotal: 190ms\tremaining: 22.6s\n",
      "1:\tlearn: 4343.5547014\ttotal: 484ms\tremaining: 28.6s\n",
      "2:\tlearn: 4249.8870085\ttotal: 778ms\tremaining: 30.3s\n",
      "3:\tlearn: 4159.1829195\ttotal: 991ms\tremaining: 28.7s\n",
      "4:\tlearn: 4070.9298994\ttotal: 1.28s\tremaining: 29.5s\n",
      "5:\tlearn: 3986.6751538\ttotal: 1.58s\tremaining: 30s\n",
      "6:\tlearn: 3904.9852965\ttotal: 1.87s\tremaining: 30.2s\n",
      "7:\tlearn: 3826.5374726\ttotal: 2.09s\tremaining: 29.3s\n",
      "8:\tlearn: 3749.4237960\ttotal: 2.38s\tremaining: 29.3s\n",
      "9:\tlearn: 3675.7314807\ttotal: 2.67s\tremaining: 29.4s\n",
      "10:\tlearn: 3604.5996514\ttotal: 2.89s\tremaining: 28.6s\n",
      "11:\tlearn: 3536.4766419\ttotal: 3.18s\tremaining: 28.6s\n",
      "12:\tlearn: 3470.7274821\ttotal: 3.47s\tremaining: 28.6s\n",
      "13:\tlearn: 3406.8121909\ttotal: 3.76s\tremaining: 28.5s\n",
      "14:\tlearn: 3345.4109341\ttotal: 3.98s\tremaining: 27.9s\n",
      "15:\tlearn: 3286.1553808\ttotal: 4.27s\tremaining: 27.8s\n",
      "16:\tlearn: 3229.6209435\ttotal: 4.57s\tremaining: 27.7s\n",
      "17:\tlearn: 3175.4547203\ttotal: 4.86s\tremaining: 27.6s\n",
      "18:\tlearn: 3122.9993761\ttotal: 5.08s\tremaining: 27s\n",
      "19:\tlearn: 3072.7975654\ttotal: 5.37s\tremaining: 26.8s\n",
      "20:\tlearn: 3024.9490776\ttotal: 5.66s\tremaining: 26.7s\n",
      "21:\tlearn: 2978.8703754\ttotal: 5.87s\tremaining: 26.1s\n",
      "22:\tlearn: 2934.5475767\ttotal: 6.17s\tremaining: 26s\n",
      "23:\tlearn: 2892.7693584\ttotal: 6.38s\tremaining: 25.5s\n",
      "24:\tlearn: 2851.7020926\ttotal: 6.67s\tremaining: 25.3s\n",
      "25:\tlearn: 2811.1969482\ttotal: 6.96s\tremaining: 25.2s\n",
      "26:\tlearn: 2771.8625216\ttotal: 7.25s\tremaining: 25s\n",
      "27:\tlearn: 2734.5299155\ttotal: 7.46s\tremaining: 24.5s\n",
      "28:\tlearn: 2698.6604193\ttotal: 7.76s\tremaining: 24.4s\n",
      "29:\tlearn: 2664.2613618\ttotal: 8.05s\tremaining: 24.2s\n",
      "30:\tlearn: 2631.2427150\ttotal: 8.27s\tremaining: 23.7s\n",
      "31:\tlearn: 2599.9543965\ttotal: 8.56s\tremaining: 23.5s\n",
      "32:\tlearn: 2569.0992049\ttotal: 8.86s\tremaining: 23.3s\n",
      "33:\tlearn: 2538.3325293\ttotal: 9.16s\tremaining: 23.2s\n",
      "34:\tlearn: 2510.3772013\ttotal: 9.45s\tremaining: 22.9s\n",
      "35:\tlearn: 2482.7098805\ttotal: 9.66s\tremaining: 22.5s\n",
      "36:\tlearn: 2456.4427246\ttotal: 9.96s\tremaining: 22.3s\n",
      "37:\tlearn: 2431.9772774\ttotal: 10.3s\tremaining: 22.1s\n",
      "38:\tlearn: 2407.3803367\ttotal: 10.5s\tremaining: 21.7s\n",
      "39:\tlearn: 2384.2873333\ttotal: 10.8s\tremaining: 21.5s\n",
      "40:\tlearn: 2362.2776402\ttotal: 11s\tremaining: 21.3s\n",
      "41:\tlearn: 2340.2023477\ttotal: 11.3s\tremaining: 20.9s\n",
      "42:\tlearn: 2319.6291176\ttotal: 11.5s\tremaining: 20.7s\n",
      "43:\tlearn: 2298.4697145\ttotal: 11.8s\tremaining: 20.4s\n",
      "44:\tlearn: 2278.7715287\ttotal: 12.1s\tremaining: 20.1s\n",
      "45:\tlearn: 2260.9808833\ttotal: 12.3s\tremaining: 19.9s\n",
      "46:\tlearn: 2243.4335141\ttotal: 12.6s\tremaining: 19.6s\n",
      "47:\tlearn: 2226.0074784\ttotal: 12.9s\tremaining: 19.4s\n",
      "48:\tlearn: 2209.9633128\ttotal: 13.2s\tremaining: 19.1s\n",
      "49:\tlearn: 2194.2303087\ttotal: 13.4s\tremaining: 18.8s\n",
      "50:\tlearn: 2178.5971870\ttotal: 13.7s\tremaining: 18.6s\n",
      "51:\tlearn: 2164.0291279\ttotal: 13.9s\tremaining: 18.2s\n",
      "52:\tlearn: 2149.8779461\ttotal: 14.2s\tremaining: 18s\n",
      "53:\tlearn: 2135.1296293\ttotal: 14.5s\tremaining: 17.8s\n",
      "54:\tlearn: 2121.8222011\ttotal: 14.7s\tremaining: 17.4s\n",
      "55:\tlearn: 2108.5321826\ttotal: 15s\tremaining: 17.2s\n",
      "56:\tlearn: 2096.3303350\ttotal: 15.3s\tremaining: 16.9s\n",
      "57:\tlearn: 2085.1389051\ttotal: 15.6s\tremaining: 16.6s\n",
      "58:\tlearn: 2074.3950157\ttotal: 15.8s\tremaining: 16.4s\n",
      "59:\tlearn: 2063.7398970\ttotal: 16.1s\tremaining: 16.1s\n",
      "60:\tlearn: 2053.8590089\ttotal: 16.4s\tremaining: 15.9s\n",
      "61:\tlearn: 2043.8706279\ttotal: 16.6s\tremaining: 15.6s\n",
      "62:\tlearn: 2033.8792386\ttotal: 16.9s\tremaining: 15.3s\n",
      "63:\tlearn: 2023.2026101\ttotal: 17.2s\tremaining: 15.1s\n",
      "64:\tlearn: 2014.1444170\ttotal: 17.4s\tremaining: 14.8s\n",
      "65:\tlearn: 2005.4768540\ttotal: 17.7s\tremaining: 14.5s\n",
      "66:\tlearn: 1997.1710444\ttotal: 18s\tremaining: 14.3s\n",
      "67:\tlearn: 1988.2269560\ttotal: 18.3s\tremaining: 14s\n",
      "68:\tlearn: 1980.3603679\ttotal: 18.5s\tremaining: 13.7s\n",
      "69:\tlearn: 1973.1208531\ttotal: 18.8s\tremaining: 13.4s\n",
      "70:\tlearn: 1964.5517413\ttotal: 19.1s\tremaining: 13.2s\n",
      "71:\tlearn: 1956.7831325\ttotal: 19.3s\tremaining: 12.9s\n",
      "72:\tlearn: 1949.0510816\ttotal: 19.6s\tremaining: 12.6s\n",
      "73:\tlearn: 1941.1716345\ttotal: 19.9s\tremaining: 12.4s\n",
      "74:\tlearn: 1935.1114435\ttotal: 20.1s\tremaining: 12.1s\n",
      "75:\tlearn: 1928.7223596\ttotal: 20.4s\tremaining: 11.8s\n",
      "76:\tlearn: 1922.6189485\ttotal: 20.7s\tremaining: 11.6s\n",
      "77:\tlearn: 1917.4764068\ttotal: 20.9s\tremaining: 11.3s\n",
      "78:\tlearn: 1912.3050484\ttotal: 21.2s\tremaining: 11s\n",
      "79:\tlearn: 1907.2658409\ttotal: 21.5s\tremaining: 10.8s\n",
      "80:\tlearn: 1901.8779857\ttotal: 21.8s\tremaining: 10.5s\n",
      "81:\tlearn: 1897.0128993\ttotal: 22s\tremaining: 10.2s\n",
      "82:\tlearn: 1891.0812150\ttotal: 22.3s\tremaining: 9.95s\n",
      "83:\tlearn: 1886.0689897\ttotal: 22.5s\tremaining: 9.65s\n",
      "84:\tlearn: 1881.5632221\ttotal: 22.8s\tremaining: 9.39s\n",
      "85:\tlearn: 1876.4923318\ttotal: 23.1s\tremaining: 9.14s\n",
      "86:\tlearn: 1872.4289396\ttotal: 23.3s\tremaining: 8.85s\n",
      "87:\tlearn: 1868.0980920\ttotal: 23.6s\tremaining: 8.59s\n",
      "88:\tlearn: 1864.3128482\ttotal: 23.9s\tremaining: 8.33s\n",
      "89:\tlearn: 1859.6876706\ttotal: 24.1s\tremaining: 8.04s\n",
      "90:\tlearn: 1856.0732155\ttotal: 24.4s\tremaining: 7.78s\n",
      "91:\tlearn: 1852.2155368\ttotal: 24.7s\tremaining: 7.52s\n",
      "92:\tlearn: 1847.9417747\ttotal: 24.9s\tremaining: 7.23s\n",
      "93:\tlearn: 1844.7370988\ttotal: 25.2s\tremaining: 6.97s\n",
      "94:\tlearn: 1841.3078928\ttotal: 25.5s\tremaining: 6.71s\n",
      "95:\tlearn: 1838.1732428\ttotal: 25.8s\tremaining: 6.45s\n",
      "96:\tlearn: 1835.0638105\ttotal: 26s\tremaining: 6.17s\n",
      "97:\tlearn: 1831.7052890\ttotal: 26.3s\tremaining: 5.91s\n",
      "98:\tlearn: 1828.8410310\ttotal: 26.6s\tremaining: 5.64s\n",
      "99:\tlearn: 1825.7285590\ttotal: 26.8s\tremaining: 5.36s\n",
      "100:\tlearn: 1822.3043940\ttotal: 27.1s\tremaining: 5.1s\n",
      "101:\tlearn: 1819.3065323\ttotal: 27.4s\tremaining: 4.83s\n",
      "102:\tlearn: 1816.9272622\ttotal: 27.7s\tremaining: 4.57s\n",
      "103:\tlearn: 1814.5332101\ttotal: 27.9s\tremaining: 4.29s\n",
      "104:\tlearn: 1812.1336667\ttotal: 28.2s\tremaining: 4.03s\n",
      "105:\tlearn: 1809.8348584\ttotal: 28.4s\tremaining: 3.75s\n",
      "106:\tlearn: 1807.1636391\ttotal: 28.7s\tremaining: 3.49s\n",
      "107:\tlearn: 1805.0492437\ttotal: 29s\tremaining: 3.22s\n",
      "108:\tlearn: 1802.5710064\ttotal: 29.2s\tremaining: 2.95s\n",
      "109:\tlearn: 1800.6503059\ttotal: 29.5s\tremaining: 2.68s\n",
      "110:\tlearn: 1798.5501668\ttotal: 29.8s\tremaining: 2.42s\n",
      "111:\tlearn: 1796.7197381\ttotal: 30s\tremaining: 2.14s\n",
      "112:\tlearn: 1794.8259581\ttotal: 30.3s\tremaining: 1.88s\n",
      "113:\tlearn: 1793.1458347\ttotal: 30.6s\tremaining: 1.61s\n",
      "114:\tlearn: 1791.5363406\ttotal: 30.8s\tremaining: 1.34s\n",
      "115:\tlearn: 1788.6057763\ttotal: 31.1s\tremaining: 1.07s\n",
      "116:\tlearn: 1786.2410001\ttotal: 31.4s\tremaining: 805ms\n",
      "117:\tlearn: 1784.4085872\ttotal: 31.6s\tremaining: 536ms\n",
      "118:\tlearn: 1782.6570782\ttotal: 31.9s\tremaining: 268ms\n",
      "119:\tlearn: 1780.6896335\ttotal: 32.2s\tremaining: 0us\n"
     ]
    }
   ],
   "source": [
    "for iteration in range(70, 121, 10):\n",
    "    \n",
    "    for depth in range(5, 12, 2):\n",
    "    \n",
    "        model_cbr = CatBoostRegressor(random_state=123, iterations=iteration, loss_function='RMSE', depth=depth)\n",
    "    \n",
    "        start = time.time() \n",
    "        model_cbr.fit(features_train, target_train)\n",
    "        end_time_fit = time.time() - start\n",
    "\n",
    "        start = time.time() \n",
    "        predictions_cbr = model_cbr.predict(features_valid, verbose=1)\n",
    "        end_time_predict = time.time() - start\n",
    "\n",
    "        RMSE = (mean_squared_error(target_valid, predictions_cbr))**0.5\n",
    "    \n",
    "        results.append({'Модель': 'CatBoostRegressor', \n",
    "                        'Параметры': {'random_state':123, \n",
    "                                      'iterations': iteration, \n",
    "                                      'loss_function': 'RMSE', \n",
    "                                      'depth': depth}, \n",
    "                        'Время обучения': end_time_fit, \n",
    "                        'Скорость предсказания': end_time_predict, \n",
    "                        'RMSE': RMSE})"
   ]
  },
  {
   "cell_type": "code",
   "execution_count": 36,
   "metadata": {},
   "outputs": [
    {
     "data": {
      "text/html": [
       "<style  type=\"text/css\" >\n",
       "    #T_49209730_a450_11ec_96fe_02420a391ae5row1_col2 {\n",
       "            background-color:  lightgreen;\n",
       "        }    #T_49209730_a450_11ec_96fe_02420a391ae5row1_col4 {\n",
       "            background-color:  lightgreen;\n",
       "        }    #T_49209730_a450_11ec_96fe_02420a391ae5row14_col3 {\n",
       "            background-color:  lightgreen;\n",
       "        }</style><table id=\"T_49209730_a450_11ec_96fe_02420a391ae5\" ><thead>    <tr>        <th class=\"blank level0\" ></th>        <th class=\"col_heading level0 col0\" >Модель</th>        <th class=\"col_heading level0 col1\" >Параметры</th>        <th class=\"col_heading level0 col2\" >Время обучения</th>        <th class=\"col_heading level0 col3\" >Скорость предсказания</th>        <th class=\"col_heading level0 col4\" >RMSE</th>    </tr></thead><tbody>\n",
       "                <tr>\n",
       "                        <th id=\"T_49209730_a450_11ec_96fe_02420a391ae5level0_row0\" class=\"row_heading level0 row0\" >0</th>\n",
       "                        <td id=\"T_49209730_a450_11ec_96fe_02420a391ae5row0_col0\" class=\"data row0 col0\" >LinearRegression</td>\n",
       "                        <td id=\"T_49209730_a450_11ec_96fe_02420a391ae5row0_col1\" class=\"data row0 col1\" >nan</td>\n",
       "                        <td id=\"T_49209730_a450_11ec_96fe_02420a391ae5row0_col2\" class=\"data row0 col2\" >19.2676</td>\n",
       "                        <td id=\"T_49209730_a450_11ec_96fe_02420a391ae5row0_col3\" class=\"data row0 col3\" >0.189723</td>\n",
       "                        <td id=\"T_49209730_a450_11ec_96fe_02420a391ae5row0_col4\" class=\"data row0 col4\" >2317.66</td>\n",
       "            </tr>\n",
       "            <tr>\n",
       "                        <th id=\"T_49209730_a450_11ec_96fe_02420a391ae5level0_row1\" class=\"row_heading level0 row1\" >1</th>\n",
       "                        <td id=\"T_49209730_a450_11ec_96fe_02420a391ae5row1_col0\" class=\"data row1 col0\" >LGBMRegressor</td>\n",
       "                        <td id=\"T_49209730_a450_11ec_96fe_02420a391ae5row1_col1\" class=\"data row1 col1\" >{'boosting_type': 'gbdt', 'max_depth': 11, 'n_estimators': 120, 'random_state': 123}</td>\n",
       "                        <td id=\"T_49209730_a450_11ec_96fe_02420a391ae5row1_col2\" class=\"data row1 col2\" >10.0467</td>\n",
       "                        <td id=\"T_49209730_a450_11ec_96fe_02420a391ae5row1_col3\" class=\"data row1 col3\" >1.19284</td>\n",
       "                        <td id=\"T_49209730_a450_11ec_96fe_02420a391ae5row1_col4\" class=\"data row1 col4\" >1651.3</td>\n",
       "            </tr>\n",
       "            <tr>\n",
       "                        <th id=\"T_49209730_a450_11ec_96fe_02420a391ae5level0_row2\" class=\"row_heading level0 row2\" >2</th>\n",
       "                        <td id=\"T_49209730_a450_11ec_96fe_02420a391ae5row2_col0\" class=\"data row2 col0\" >CatBoostRegressor</td>\n",
       "                        <td id=\"T_49209730_a450_11ec_96fe_02420a391ae5row2_col1\" class=\"data row2 col1\" >{'random_state': 123, 'iterations': 70, 'loss_function': 'RMSE', 'depth': 5}</td>\n",
       "                        <td id=\"T_49209730_a450_11ec_96fe_02420a391ae5row2_col2\" class=\"data row2 col2\" >14.6567</td>\n",
       "                        <td id=\"T_49209730_a450_11ec_96fe_02420a391ae5row2_col3\" class=\"data row2 col3\" >0.038691</td>\n",
       "                        <td id=\"T_49209730_a450_11ec_96fe_02420a391ae5row2_col4\" class=\"data row2 col4\" >2247.35</td>\n",
       "            </tr>\n",
       "            <tr>\n",
       "                        <th id=\"T_49209730_a450_11ec_96fe_02420a391ae5level0_row3\" class=\"row_heading level0 row3\" >3</th>\n",
       "                        <td id=\"T_49209730_a450_11ec_96fe_02420a391ae5row3_col0\" class=\"data row3 col0\" >CatBoostRegressor</td>\n",
       "                        <td id=\"T_49209730_a450_11ec_96fe_02420a391ae5row3_col1\" class=\"data row3 col1\" >{'random_state': 123, 'iterations': 70, 'loss_function': 'RMSE', 'depth': 7}</td>\n",
       "                        <td id=\"T_49209730_a450_11ec_96fe_02420a391ae5row3_col2\" class=\"data row3 col2\" >16.4262</td>\n",
       "                        <td id=\"T_49209730_a450_11ec_96fe_02420a391ae5row3_col3\" class=\"data row3 col3\" >0.0138845</td>\n",
       "                        <td id=\"T_49209730_a450_11ec_96fe_02420a391ae5row3_col4\" class=\"data row3 col4\" >2121.83</td>\n",
       "            </tr>\n",
       "            <tr>\n",
       "                        <th id=\"T_49209730_a450_11ec_96fe_02420a391ae5level0_row4\" class=\"row_heading level0 row4\" >4</th>\n",
       "                        <td id=\"T_49209730_a450_11ec_96fe_02420a391ae5row4_col0\" class=\"data row4 col0\" >CatBoostRegressor</td>\n",
       "                        <td id=\"T_49209730_a450_11ec_96fe_02420a391ae5row4_col1\" class=\"data row4 col1\" >{'random_state': 123, 'iterations': 70, 'loss_function': 'RMSE', 'depth': 9}</td>\n",
       "                        <td id=\"T_49209730_a450_11ec_96fe_02420a391ae5row4_col2\" class=\"data row4 col2\" >19.899</td>\n",
       "                        <td id=\"T_49209730_a450_11ec_96fe_02420a391ae5row4_col3\" class=\"data row4 col3\" >0.0178084</td>\n",
       "                        <td id=\"T_49209730_a450_11ec_96fe_02420a391ae5row4_col4\" class=\"data row4 col4\" >2035.7</td>\n",
       "            </tr>\n",
       "            <tr>\n",
       "                        <th id=\"T_49209730_a450_11ec_96fe_02420a391ae5level0_row5\" class=\"row_heading level0 row5\" >5</th>\n",
       "                        <td id=\"T_49209730_a450_11ec_96fe_02420a391ae5row5_col0\" class=\"data row5 col0\" >CatBoostRegressor</td>\n",
       "                        <td id=\"T_49209730_a450_11ec_96fe_02420a391ae5row5_col1\" class=\"data row5 col1\" >{'random_state': 123, 'iterations': 70, 'loss_function': 'RMSE', 'depth': 11}</td>\n",
       "                        <td id=\"T_49209730_a450_11ec_96fe_02420a391ae5row5_col2\" class=\"data row5 col2\" >25.0553</td>\n",
       "                        <td id=\"T_49209730_a450_11ec_96fe_02420a391ae5row5_col3\" class=\"data row5 col3\" >0.0173504</td>\n",
       "                        <td id=\"T_49209730_a450_11ec_96fe_02420a391ae5row5_col4\" class=\"data row5 col4\" >1970.3</td>\n",
       "            </tr>\n",
       "            <tr>\n",
       "                        <th id=\"T_49209730_a450_11ec_96fe_02420a391ae5level0_row6\" class=\"row_heading level0 row6\" >6</th>\n",
       "                        <td id=\"T_49209730_a450_11ec_96fe_02420a391ae5row6_col0\" class=\"data row6 col0\" >CatBoostRegressor</td>\n",
       "                        <td id=\"T_49209730_a450_11ec_96fe_02420a391ae5row6_col1\" class=\"data row6 col1\" >{'random_state': 123, 'iterations': 80, 'loss_function': 'RMSE', 'depth': 5}</td>\n",
       "                        <td id=\"T_49209730_a450_11ec_96fe_02420a391ae5row6_col2\" class=\"data row6 col2\" >16.052</td>\n",
       "                        <td id=\"T_49209730_a450_11ec_96fe_02420a391ae5row6_col3\" class=\"data row6 col3\" >0.0134728</td>\n",
       "                        <td id=\"T_49209730_a450_11ec_96fe_02420a391ae5row6_col4\" class=\"data row6 col4\" >2179.36</td>\n",
       "            </tr>\n",
       "            <tr>\n",
       "                        <th id=\"T_49209730_a450_11ec_96fe_02420a391ae5level0_row7\" class=\"row_heading level0 row7\" >7</th>\n",
       "                        <td id=\"T_49209730_a450_11ec_96fe_02420a391ae5row7_col0\" class=\"data row7 col0\" >CatBoostRegressor</td>\n",
       "                        <td id=\"T_49209730_a450_11ec_96fe_02420a391ae5row7_col1\" class=\"data row7 col1\" >{'random_state': 123, 'iterations': 80, 'loss_function': 'RMSE', 'depth': 7}</td>\n",
       "                        <td id=\"T_49209730_a450_11ec_96fe_02420a391ae5row7_col2\" class=\"data row7 col2\" >18.3476</td>\n",
       "                        <td id=\"T_49209730_a450_11ec_96fe_02420a391ae5row7_col3\" class=\"data row7 col3\" >0.014663</td>\n",
       "                        <td id=\"T_49209730_a450_11ec_96fe_02420a391ae5row7_col4\" class=\"data row7 col4\" >2051.91</td>\n",
       "            </tr>\n",
       "            <tr>\n",
       "                        <th id=\"T_49209730_a450_11ec_96fe_02420a391ae5level0_row8\" class=\"row_heading level0 row8\" >8</th>\n",
       "                        <td id=\"T_49209730_a450_11ec_96fe_02420a391ae5row8_col0\" class=\"data row8 col0\" >CatBoostRegressor</td>\n",
       "                        <td id=\"T_49209730_a450_11ec_96fe_02420a391ae5row8_col1\" class=\"data row8 col1\" >{'random_state': 123, 'iterations': 80, 'loss_function': 'RMSE', 'depth': 9}</td>\n",
       "                        <td id=\"T_49209730_a450_11ec_96fe_02420a391ae5row8_col2\" class=\"data row8 col2\" >21.519</td>\n",
       "                        <td id=\"T_49209730_a450_11ec_96fe_02420a391ae5row8_col3\" class=\"data row8 col3\" >0.016293</td>\n",
       "                        <td id=\"T_49209730_a450_11ec_96fe_02420a391ae5row8_col4\" class=\"data row8 col4\" >1964.91</td>\n",
       "            </tr>\n",
       "            <tr>\n",
       "                        <th id=\"T_49209730_a450_11ec_96fe_02420a391ae5level0_row9\" class=\"row_heading level0 row9\" >9</th>\n",
       "                        <td id=\"T_49209730_a450_11ec_96fe_02420a391ae5row9_col0\" class=\"data row9 col0\" >CatBoostRegressor</td>\n",
       "                        <td id=\"T_49209730_a450_11ec_96fe_02420a391ae5row9_col1\" class=\"data row9 col1\" >{'random_state': 123, 'iterations': 80, 'loss_function': 'RMSE', 'depth': 11}</td>\n",
       "                        <td id=\"T_49209730_a450_11ec_96fe_02420a391ae5row9_col2\" class=\"data row9 col2\" >26.5979</td>\n",
       "                        <td id=\"T_49209730_a450_11ec_96fe_02420a391ae5row9_col3\" class=\"data row9 col3\" >0.0696189</td>\n",
       "                        <td id=\"T_49209730_a450_11ec_96fe_02420a391ae5row9_col4\" class=\"data row9 col4\" >1903.84</td>\n",
       "            </tr>\n",
       "            <tr>\n",
       "                        <th id=\"T_49209730_a450_11ec_96fe_02420a391ae5level0_row10\" class=\"row_heading level0 row10\" >10</th>\n",
       "                        <td id=\"T_49209730_a450_11ec_96fe_02420a391ae5row10_col0\" class=\"data row10 col0\" >CatBoostRegressor</td>\n",
       "                        <td id=\"T_49209730_a450_11ec_96fe_02420a391ae5row10_col1\" class=\"data row10 col1\" >{'random_state': 123, 'iterations': 90, 'loss_function': 'RMSE', 'depth': 5}</td>\n",
       "                        <td id=\"T_49209730_a450_11ec_96fe_02420a391ae5row10_col2\" class=\"data row10 col2\" >17.2238</td>\n",
       "                        <td id=\"T_49209730_a450_11ec_96fe_02420a391ae5row10_col3\" class=\"data row10 col3\" >0.0135028</td>\n",
       "                        <td id=\"T_49209730_a450_11ec_96fe_02420a391ae5row10_col4\" class=\"data row10 col4\" >2122.99</td>\n",
       "            </tr>\n",
       "            <tr>\n",
       "                        <th id=\"T_49209730_a450_11ec_96fe_02420a391ae5level0_row11\" class=\"row_heading level0 row11\" >11</th>\n",
       "                        <td id=\"T_49209730_a450_11ec_96fe_02420a391ae5row11_col0\" class=\"data row11 col0\" >CatBoostRegressor</td>\n",
       "                        <td id=\"T_49209730_a450_11ec_96fe_02420a391ae5row11_col1\" class=\"data row11 col1\" >{'random_state': 123, 'iterations': 90, 'loss_function': 'RMSE', 'depth': 7}</td>\n",
       "                        <td id=\"T_49209730_a450_11ec_96fe_02420a391ae5row11_col2\" class=\"data row11 col2\" >19.9595</td>\n",
       "                        <td id=\"T_49209730_a450_11ec_96fe_02420a391ae5row11_col3\" class=\"data row11 col3\" >0.0172739</td>\n",
       "                        <td id=\"T_49209730_a450_11ec_96fe_02420a391ae5row11_col4\" class=\"data row11 col4\" >1998.33</td>\n",
       "            </tr>\n",
       "            <tr>\n",
       "                        <th id=\"T_49209730_a450_11ec_96fe_02420a391ae5level0_row12\" class=\"row_heading level0 row12\" >12</th>\n",
       "                        <td id=\"T_49209730_a450_11ec_96fe_02420a391ae5row12_col0\" class=\"data row12 col0\" >CatBoostRegressor</td>\n",
       "                        <td id=\"T_49209730_a450_11ec_96fe_02420a391ae5row12_col1\" class=\"data row12 col1\" >{'random_state': 123, 'iterations': 90, 'loss_function': 'RMSE', 'depth': 9}</td>\n",
       "                        <td id=\"T_49209730_a450_11ec_96fe_02420a391ae5row12_col2\" class=\"data row12 col2\" >23.2305</td>\n",
       "                        <td id=\"T_49209730_a450_11ec_96fe_02420a391ae5row12_col3\" class=\"data row12 col3\" >0.0284007</td>\n",
       "                        <td id=\"T_49209730_a450_11ec_96fe_02420a391ae5row12_col4\" class=\"data row12 col4\" >1914.21</td>\n",
       "            </tr>\n",
       "            <tr>\n",
       "                        <th id=\"T_49209730_a450_11ec_96fe_02420a391ae5level0_row13\" class=\"row_heading level0 row13\" >13</th>\n",
       "                        <td id=\"T_49209730_a450_11ec_96fe_02420a391ae5row13_col0\" class=\"data row13 col0\" >CatBoostRegressor</td>\n",
       "                        <td id=\"T_49209730_a450_11ec_96fe_02420a391ae5row13_col1\" class=\"data row13 col1\" >{'random_state': 123, 'iterations': 90, 'loss_function': 'RMSE', 'depth': 11}</td>\n",
       "                        <td id=\"T_49209730_a450_11ec_96fe_02420a391ae5row13_col2\" class=\"data row13 col2\" >30.1349</td>\n",
       "                        <td id=\"T_49209730_a450_11ec_96fe_02420a391ae5row13_col3\" class=\"data row13 col3\" >0.0238607</td>\n",
       "                        <td id=\"T_49209730_a450_11ec_96fe_02420a391ae5row13_col4\" class=\"data row13 col4\" >1856.62</td>\n",
       "            </tr>\n",
       "            <tr>\n",
       "                        <th id=\"T_49209730_a450_11ec_96fe_02420a391ae5level0_row14\" class=\"row_heading level0 row14\" >14</th>\n",
       "                        <td id=\"T_49209730_a450_11ec_96fe_02420a391ae5row14_col0\" class=\"data row14 col0\" >CatBoostRegressor</td>\n",
       "                        <td id=\"T_49209730_a450_11ec_96fe_02420a391ae5row14_col1\" class=\"data row14 col1\" >{'random_state': 123, 'iterations': 100, 'loss_function': 'RMSE', 'depth': 5}</td>\n",
       "                        <td id=\"T_49209730_a450_11ec_96fe_02420a391ae5row14_col2\" class=\"data row14 col2\" >18.1134</td>\n",
       "                        <td id=\"T_49209730_a450_11ec_96fe_02420a391ae5row14_col3\" class=\"data row14 col3\" >0.0130146</td>\n",
       "                        <td id=\"T_49209730_a450_11ec_96fe_02420a391ae5row14_col4\" class=\"data row14 col4\" >2079.91</td>\n",
       "            </tr>\n",
       "            <tr>\n",
       "                        <th id=\"T_49209730_a450_11ec_96fe_02420a391ae5level0_row15\" class=\"row_heading level0 row15\" >15</th>\n",
       "                        <td id=\"T_49209730_a450_11ec_96fe_02420a391ae5row15_col0\" class=\"data row15 col0\" >CatBoostRegressor</td>\n",
       "                        <td id=\"T_49209730_a450_11ec_96fe_02420a391ae5row15_col1\" class=\"data row15 col1\" >{'random_state': 123, 'iterations': 100, 'loss_function': 'RMSE', 'depth': 7}</td>\n",
       "                        <td id=\"T_49209730_a450_11ec_96fe_02420a391ae5row15_col2\" class=\"data row15 col2\" >21.8148</td>\n",
       "                        <td id=\"T_49209730_a450_11ec_96fe_02420a391ae5row15_col3\" class=\"data row15 col3\" >0.0136065</td>\n",
       "                        <td id=\"T_49209730_a450_11ec_96fe_02420a391ae5row15_col4\" class=\"data row15 col4\" >1955.54</td>\n",
       "            </tr>\n",
       "            <tr>\n",
       "                        <th id=\"T_49209730_a450_11ec_96fe_02420a391ae5level0_row16\" class=\"row_heading level0 row16\" >16</th>\n",
       "                        <td id=\"T_49209730_a450_11ec_96fe_02420a391ae5row16_col0\" class=\"data row16 col0\" >CatBoostRegressor</td>\n",
       "                        <td id=\"T_49209730_a450_11ec_96fe_02420a391ae5row16_col1\" class=\"data row16 col1\" >{'random_state': 123, 'iterations': 100, 'loss_function': 'RMSE', 'depth': 9}</td>\n",
       "                        <td id=\"T_49209730_a450_11ec_96fe_02420a391ae5row16_col2\" class=\"data row16 col2\" >25.2569</td>\n",
       "                        <td id=\"T_49209730_a450_11ec_96fe_02420a391ae5row16_col3\" class=\"data row16 col3\" >0.0188236</td>\n",
       "                        <td id=\"T_49209730_a450_11ec_96fe_02420a391ae5row16_col4\" class=\"data row16 col4\" >1878.41</td>\n",
       "            </tr>\n",
       "            <tr>\n",
       "                        <th id=\"T_49209730_a450_11ec_96fe_02420a391ae5level0_row17\" class=\"row_heading level0 row17\" >17</th>\n",
       "                        <td id=\"T_49209730_a450_11ec_96fe_02420a391ae5row17_col0\" class=\"data row17 col0\" >CatBoostRegressor</td>\n",
       "                        <td id=\"T_49209730_a450_11ec_96fe_02420a391ae5row17_col1\" class=\"data row17 col1\" >{'random_state': 123, 'iterations': 100, 'loss_function': 'RMSE', 'depth': 11}</td>\n",
       "                        <td id=\"T_49209730_a450_11ec_96fe_02420a391ae5row17_col2\" class=\"data row17 col2\" >32.0222</td>\n",
       "                        <td id=\"T_49209730_a450_11ec_96fe_02420a391ae5row17_col3\" class=\"data row17 col3\" >0.0196247</td>\n",
       "                        <td id=\"T_49209730_a450_11ec_96fe_02420a391ae5row17_col4\" class=\"data row17 col4\" >1823.23</td>\n",
       "            </tr>\n",
       "            <tr>\n",
       "                        <th id=\"T_49209730_a450_11ec_96fe_02420a391ae5level0_row18\" class=\"row_heading level0 row18\" >18</th>\n",
       "                        <td id=\"T_49209730_a450_11ec_96fe_02420a391ae5row18_col0\" class=\"data row18 col0\" >CatBoostRegressor</td>\n",
       "                        <td id=\"T_49209730_a450_11ec_96fe_02420a391ae5row18_col1\" class=\"data row18 col1\" >{'random_state': 123, 'iterations': 110, 'loss_function': 'RMSE', 'depth': 5}</td>\n",
       "                        <td id=\"T_49209730_a450_11ec_96fe_02420a391ae5row18_col2\" class=\"data row18 col2\" >19.1748</td>\n",
       "                        <td id=\"T_49209730_a450_11ec_96fe_02420a391ae5row18_col3\" class=\"data row18 col3\" >0.0138016</td>\n",
       "                        <td id=\"T_49209730_a450_11ec_96fe_02420a391ae5row18_col4\" class=\"data row18 col4\" >2042.52</td>\n",
       "            </tr>\n",
       "            <tr>\n",
       "                        <th id=\"T_49209730_a450_11ec_96fe_02420a391ae5level0_row19\" class=\"row_heading level0 row19\" >19</th>\n",
       "                        <td id=\"T_49209730_a450_11ec_96fe_02420a391ae5row19_col0\" class=\"data row19 col0\" >CatBoostRegressor</td>\n",
       "                        <td id=\"T_49209730_a450_11ec_96fe_02420a391ae5row19_col1\" class=\"data row19 col1\" >{'random_state': 123, 'iterations': 110, 'loss_function': 'RMSE', 'depth': 7}</td>\n",
       "                        <td id=\"T_49209730_a450_11ec_96fe_02420a391ae5row19_col2\" class=\"data row19 col2\" >22.5705</td>\n",
       "                        <td id=\"T_49209730_a450_11ec_96fe_02420a391ae5row19_col3\" class=\"data row19 col3\" >0.0163608</td>\n",
       "                        <td id=\"T_49209730_a450_11ec_96fe_02420a391ae5row19_col4\" class=\"data row19 col4\" >1923.96</td>\n",
       "            </tr>\n",
       "            <tr>\n",
       "                        <th id=\"T_49209730_a450_11ec_96fe_02420a391ae5level0_row20\" class=\"row_heading level0 row20\" >20</th>\n",
       "                        <td id=\"T_49209730_a450_11ec_96fe_02420a391ae5row20_col0\" class=\"data row20 col0\" >CatBoostRegressor</td>\n",
       "                        <td id=\"T_49209730_a450_11ec_96fe_02420a391ae5row20_col1\" class=\"data row20 col1\" >{'random_state': 123, 'iterations': 110, 'loss_function': 'RMSE', 'depth': 9}</td>\n",
       "                        <td id=\"T_49209730_a450_11ec_96fe_02420a391ae5row20_col2\" class=\"data row20 col2\" >27.303</td>\n",
       "                        <td id=\"T_49209730_a450_11ec_96fe_02420a391ae5row20_col3\" class=\"data row20 col3\" >0.0207632</td>\n",
       "                        <td id=\"T_49209730_a450_11ec_96fe_02420a391ae5row20_col4\" class=\"data row20 col4\" >1850.19</td>\n",
       "            </tr>\n",
       "            <tr>\n",
       "                        <th id=\"T_49209730_a450_11ec_96fe_02420a391ae5level0_row21\" class=\"row_heading level0 row21\" >21</th>\n",
       "                        <td id=\"T_49209730_a450_11ec_96fe_02420a391ae5row21_col0\" class=\"data row21 col0\" >CatBoostRegressor</td>\n",
       "                        <td id=\"T_49209730_a450_11ec_96fe_02420a391ae5row21_col1\" class=\"data row21 col1\" >{'random_state': 123, 'iterations': 110, 'loss_function': 'RMSE', 'depth': 11}</td>\n",
       "                        <td id=\"T_49209730_a450_11ec_96fe_02420a391ae5row21_col2\" class=\"data row21 col2\" >35.5844</td>\n",
       "                        <td id=\"T_49209730_a450_11ec_96fe_02420a391ae5row21_col3\" class=\"data row21 col3\" >0.0203297</td>\n",
       "                        <td id=\"T_49209730_a450_11ec_96fe_02420a391ae5row21_col4\" class=\"data row21 col4\" >1798.68</td>\n",
       "            </tr>\n",
       "            <tr>\n",
       "                        <th id=\"T_49209730_a450_11ec_96fe_02420a391ae5level0_row22\" class=\"row_heading level0 row22\" >22</th>\n",
       "                        <td id=\"T_49209730_a450_11ec_96fe_02420a391ae5row22_col0\" class=\"data row22 col0\" >CatBoostRegressor</td>\n",
       "                        <td id=\"T_49209730_a450_11ec_96fe_02420a391ae5row22_col1\" class=\"data row22 col1\" >{'random_state': 123, 'iterations': 120, 'loss_function': 'RMSE', 'depth': 5}</td>\n",
       "                        <td id=\"T_49209730_a450_11ec_96fe_02420a391ae5row22_col2\" class=\"data row22 col2\" >20.7867</td>\n",
       "                        <td id=\"T_49209730_a450_11ec_96fe_02420a391ae5row22_col3\" class=\"data row22 col3\" >0.0693476</td>\n",
       "                        <td id=\"T_49209730_a450_11ec_96fe_02420a391ae5row22_col4\" class=\"data row22 col4\" >2013.54</td>\n",
       "            </tr>\n",
       "            <tr>\n",
       "                        <th id=\"T_49209730_a450_11ec_96fe_02420a391ae5level0_row23\" class=\"row_heading level0 row23\" >23</th>\n",
       "                        <td id=\"T_49209730_a450_11ec_96fe_02420a391ae5row23_col0\" class=\"data row23 col0\" >CatBoostRegressor</td>\n",
       "                        <td id=\"T_49209730_a450_11ec_96fe_02420a391ae5row23_col1\" class=\"data row23 col1\" >{'random_state': 123, 'iterations': 120, 'loss_function': 'RMSE', 'depth': 7}</td>\n",
       "                        <td id=\"T_49209730_a450_11ec_96fe_02420a391ae5row23_col2\" class=\"data row23 col2\" >24.9836</td>\n",
       "                        <td id=\"T_49209730_a450_11ec_96fe_02420a391ae5row23_col3\" class=\"data row23 col3\" >0.0143802</td>\n",
       "                        <td id=\"T_49209730_a450_11ec_96fe_02420a391ae5row23_col4\" class=\"data row23 col4\" >1898.37</td>\n",
       "            </tr>\n",
       "            <tr>\n",
       "                        <th id=\"T_49209730_a450_11ec_96fe_02420a391ae5level0_row24\" class=\"row_heading level0 row24\" >24</th>\n",
       "                        <td id=\"T_49209730_a450_11ec_96fe_02420a391ae5row24_col0\" class=\"data row24 col0\" >CatBoostRegressor</td>\n",
       "                        <td id=\"T_49209730_a450_11ec_96fe_02420a391ae5row24_col1\" class=\"data row24 col1\" >{'random_state': 123, 'iterations': 120, 'loss_function': 'RMSE', 'depth': 9}</td>\n",
       "                        <td id=\"T_49209730_a450_11ec_96fe_02420a391ae5row24_col2\" class=\"data row24 col2\" >29.7487</td>\n",
       "                        <td id=\"T_49209730_a450_11ec_96fe_02420a391ae5row24_col3\" class=\"data row24 col3\" >0.019949</td>\n",
       "                        <td id=\"T_49209730_a450_11ec_96fe_02420a391ae5row24_col4\" class=\"data row24 col4\" >1829.38</td>\n",
       "            </tr>\n",
       "            <tr>\n",
       "                        <th id=\"T_49209730_a450_11ec_96fe_02420a391ae5level0_row25\" class=\"row_heading level0 row25\" >25</th>\n",
       "                        <td id=\"T_49209730_a450_11ec_96fe_02420a391ae5row25_col0\" class=\"data row25 col0\" >CatBoostRegressor</td>\n",
       "                        <td id=\"T_49209730_a450_11ec_96fe_02420a391ae5row25_col1\" class=\"data row25 col1\" >{'random_state': 123, 'iterations': 120, 'loss_function': 'RMSE', 'depth': 11}</td>\n",
       "                        <td id=\"T_49209730_a450_11ec_96fe_02420a391ae5row25_col2\" class=\"data row25 col2\" >38.2225</td>\n",
       "                        <td id=\"T_49209730_a450_11ec_96fe_02420a391ae5row25_col3\" class=\"data row25 col3\" >0.0297122</td>\n",
       "                        <td id=\"T_49209730_a450_11ec_96fe_02420a391ae5row25_col4\" class=\"data row25 col4\" >1779.95</td>\n",
       "            </tr>\n",
       "    </tbody></table>"
      ],
      "text/plain": [
       "<pandas.io.formats.style.Styler at 0x7f28dd4ab450>"
      ]
     },
     "execution_count": 36,
     "metadata": {},
     "output_type": "execute_result"
    }
   ],
   "source": [
    "pd.DataFrame(results).style.highlight_min(color = 'lightgreen', axis = 0)"
   ]
  },
  {
   "cell_type": "markdown",
   "metadata": {},
   "source": [
    "Из анализа результатов работы модели можно сделать следующие выводы:\n",
    "- линейная регрессия не показала лучших результатов:\n",
    "    - время обучения достаточно большое;\n",
    "    - скорость предсказания досточно большое;\n",
    "    - качество предсказания не посредственное;\n",
    "- модель LGBMRegressor:\n",
    "    - показала лучшее качество;\n",
    "    - очень длительное время обучения;\n",
    "    - длительное время предсказания;\n",
    "- модель CatBoostRegressor:\n",
    "    - показала относительно быстро время обучения и предсказания, но невысокое качество предсказания;\n",
    "- таким образом, можно сделать вывод, что нет \"идеальной модели\" есть несколько критерием и, исходя из требований, можно подобрать рациональную модель. В тоже время необходимо отметить, что все представленные характеристики обучения являются величинами случайными и могут меняться в зависимости от выборки, гиперпараметров, randon state и других параметров.\n",
    " "
   ]
  },
  {
   "cell_type": "markdown",
   "metadata": {},
   "source": [
    "## Анализ моделей"
   ]
  },
  {
   "cell_type": "code",
   "execution_count": 37,
   "metadata": {},
   "outputs": [
    {
     "name": "stdout",
     "output_type": "stream",
     "text": [
      "RMSE dummy: 4531.148053544476\n"
     ]
    }
   ],
   "source": [
    "dummy_regr = DummyRegressor(strategy='mean')\n",
    "\n",
    "dummy_regr.fit(features_train, target_train)\n",
    "predictions_r_dummy = dummy_regr.predict(features_test)\n",
    "print('RMSE dummy:', mean_squared_error(target_test, predictions_r_dummy)**0.5)"
   ]
  },
  {
   "cell_type": "code",
   "execution_count": 38,
   "metadata": {},
   "outputs": [
    {
     "name": "stdout",
     "output_type": "stream",
     "text": [
      "RMSE dummy: 1680.9377608288266\n"
     ]
    }
   ],
   "source": [
    "predictions_lgbm = model_lgbm.predict(features_test, verbose=2)\n",
    "print('RMSE dummy:', mean_squared_error(target_test, predictions_lgbm)**0.5)    "
   ]
  },
  {
   "cell_type": "markdown",
   "metadata": {},
   "source": [
    "Сравнение на тестовой выборке для примитивной модели и для модели LGBMRegressor показало, что модель LGBMRegressor показала сопоставимые результаты по сравнению с валидной выборкой и значительно лучшие результаты по сравнению с примитивной моделью."
   ]
  },
  {
   "cell_type": "markdown",
   "metadata": {},
   "source": [
    "## Общий вывод"
   ]
  },
  {
   "cell_type": "markdown",
   "metadata": {},
   "source": [
    "Из анализа результатов работы модели можно сделать следующие выводы:\n",
    "- линейная регрессия не показала лучших результатов:\n",
    "    - время обучения достаточно большое;\n",
    "    - скорость предсказания досточно большое;\n",
    "    - качество предсказания не посредственное;\n",
    "- модель LGBMRegressor:\n",
    "    - показала лучшее качество;\n",
    "    - очень длительное время обучения;\n",
    "    - длительное время предсказания;\n",
    "- модель CatBoostRegressor:\n",
    "    - показала относительно быстро время обучения и предсказания, но невысокое качество предсказания;\n",
    "- таким образом, можно сделать вывод, что нет \"идеальной модели\" есть несколько критерием и, исходя из требований, можно подобрать рациональную модель. В тоже время необходимо отметить, что все представленные характеристики обучения являются величинами случайными и могут меняться в зависимости от выборки, гиперпараметров, randon state и других параметров.\n",
    " - cравнение на тестовой выборке для примитивной модели и для модели LGBMRegressor показало, что модель LGBMRegressor показала сопоставимые результаты по сравнению с валидной выборкой и значительно лучшие результаты по сравнению с примитивной моделью.\n",
    "- для окончательного выбора моделей от заказчика требуются конкретные требования по скорости работы (например, время прогнизирования должно быть не больше 200 мс с вероятностью не менее 0.99 или что-то подобное..) и качествую прогнозирования. \n",
    "- также на этапе общения с заказчиком нужно уточнить какие модели он предполагает оценивать, так как весь автопром до 1992 года был отброшен на этапе очистки данных как нерепрезентативный. \n"
   ]
  }
 ],
 "metadata": {
  "ExecuteTimeLog": [
   {
    "duration": 218,
    "start_time": "2022-03-11T13:37:23.083Z"
   },
   {
    "duration": 545,
    "start_time": "2022-03-11T13:37:26.289Z"
   },
   {
    "duration": 1567,
    "start_time": "2022-03-11T13:37:26.836Z"
   },
   {
    "duration": 30,
    "start_time": "2022-03-11T13:37:32.540Z"
   },
   {
    "duration": 29,
    "start_time": "2022-03-11T13:37:39.500Z"
   },
   {
    "duration": 22,
    "start_time": "2022-03-11T13:37:45.490Z"
   },
   {
    "duration": 121,
    "start_time": "2022-03-11T13:38:07.310Z"
   },
   {
    "duration": 117,
    "start_time": "2022-03-11T13:38:27.130Z"
   },
   {
    "duration": 116,
    "start_time": "2022-03-11T13:38:52.961Z"
   },
   {
    "duration": 113,
    "start_time": "2022-03-11T13:39:07.531Z"
   },
   {
    "duration": 118,
    "start_time": "2022-03-11T13:39:19.261Z"
   },
   {
    "duration": 116,
    "start_time": "2022-03-11T13:39:23.222Z"
   },
   {
    "duration": 58,
    "start_time": "2022-03-11T13:39:40.020Z"
   },
   {
    "duration": 62,
    "start_time": "2022-03-11T13:48:29.123Z"
   },
   {
    "duration": 197,
    "start_time": "2022-03-11T13:48:36.732Z"
   },
   {
    "duration": 1214,
    "start_time": "2022-03-11T13:48:50.227Z"
   },
   {
    "duration": 3141,
    "start_time": "2022-03-11T13:48:51.443Z"
   },
   {
    "duration": 26,
    "start_time": "2022-03-11T13:48:54.589Z"
   },
   {
    "duration": 138,
    "start_time": "2022-03-11T13:48:54.617Z"
   },
   {
    "duration": 126,
    "start_time": "2022-03-11T13:48:54.757Z"
   },
   {
    "duration": 70,
    "start_time": "2022-03-11T13:48:54.885Z"
   },
   {
    "duration": 48,
    "start_time": "2022-03-11T13:48:54.957Z"
   },
   {
    "duration": 1085,
    "start_time": "2022-03-12T12:01:23.178Z"
   },
   {
    "duration": 3260,
    "start_time": "2022-03-12T12:01:24.265Z"
   },
   {
    "duration": 22,
    "start_time": "2022-03-12T12:01:27.526Z"
   },
   {
    "duration": 116,
    "start_time": "2022-03-12T12:01:27.549Z"
   },
   {
    "duration": 108,
    "start_time": "2022-03-12T12:01:27.667Z"
   },
   {
    "duration": 54,
    "start_time": "2022-03-12T12:01:27.776Z"
   },
   {
    "duration": 298,
    "start_time": "2022-03-12T12:01:27.831Z"
   },
   {
    "duration": 41,
    "start_time": "2022-03-12T12:01:28.130Z"
   },
   {
    "duration": 73,
    "start_time": "2022-03-12T12:01:53.293Z"
   },
   {
    "duration": 66,
    "start_time": "2022-03-12T12:02:36.123Z"
   },
   {
    "duration": 75,
    "start_time": "2022-03-12T12:02:41.983Z"
   },
   {
    "duration": 66,
    "start_time": "2022-03-12T12:02:56.474Z"
   },
   {
    "duration": 447,
    "start_time": "2022-03-12T12:06:57.926Z"
   },
   {
    "duration": 608,
    "start_time": "2022-03-12T12:07:09.625Z"
   },
   {
    "duration": 856,
    "start_time": "2022-03-12T12:08:02.149Z"
   },
   {
    "duration": 806,
    "start_time": "2022-03-12T12:08:09.365Z"
   },
   {
    "duration": 379,
    "start_time": "2022-03-12T12:09:33.306Z"
   },
   {
    "duration": 55,
    "start_time": "2022-03-12T12:09:45.005Z"
   },
   {
    "duration": 351,
    "start_time": "2022-03-12T12:10:24.760Z"
   },
   {
    "duration": 20,
    "start_time": "2022-03-12T12:10:49.909Z"
   },
   {
    "duration": 917,
    "start_time": "2022-03-12T12:10:53.687Z"
   },
   {
    "duration": 4,
    "start_time": "2022-03-12T12:11:29.046Z"
   },
   {
    "duration": 4,
    "start_time": "2022-03-12T12:12:54.402Z"
   },
   {
    "duration": 2998,
    "start_time": "2022-03-12T12:12:54.407Z"
   },
   {
    "duration": 20,
    "start_time": "2022-03-12T12:12:57.407Z"
   },
   {
    "duration": 2,
    "start_time": "2022-03-12T12:12:57.428Z"
   },
   {
    "duration": 118,
    "start_time": "2022-03-12T12:12:57.431Z"
   },
   {
    "duration": 108,
    "start_time": "2022-03-12T12:12:57.551Z"
   },
   {
    "duration": 51,
    "start_time": "2022-03-12T12:12:57.661Z"
   },
   {
    "duration": 1342,
    "start_time": "2022-03-12T12:12:57.714Z"
   },
   {
    "duration": 86,
    "start_time": "2022-03-12T12:12:59.058Z"
   },
   {
    "duration": 38,
    "start_time": "2022-03-12T12:12:59.146Z"
   },
   {
    "duration": 142,
    "start_time": "2022-03-12T12:12:59.185Z"
   },
   {
    "duration": 308,
    "start_time": "2022-03-12T12:13:11.807Z"
   },
   {
    "duration": 95,
    "start_time": "2022-03-12T12:13:19.336Z"
   },
   {
    "duration": 81,
    "start_time": "2022-03-12T12:13:27.287Z"
   },
   {
    "duration": 35,
    "start_time": "2022-03-12T12:13:35.688Z"
   },
   {
    "duration": 910,
    "start_time": "2022-03-12T12:13:57.677Z"
   },
   {
    "duration": 65,
    "start_time": "2022-03-12T12:14:24.497Z"
   },
   {
    "duration": 1200,
    "start_time": "2022-03-13T05:27:24.539Z"
   },
   {
    "duration": 5531,
    "start_time": "2022-03-13T05:27:25.743Z"
   },
   {
    "duration": 26,
    "start_time": "2022-03-13T05:27:31.276Z"
   },
   {
    "duration": 3,
    "start_time": "2022-03-13T05:27:31.304Z"
   },
   {
    "duration": 131,
    "start_time": "2022-03-13T05:27:31.309Z"
   },
   {
    "duration": 117,
    "start_time": "2022-03-13T05:27:31.442Z"
   },
   {
    "duration": 51,
    "start_time": "2022-03-13T05:27:31.560Z"
   },
   {
    "duration": 1186,
    "start_time": "2022-03-13T05:27:31.613Z"
   },
   {
    "duration": 99,
    "start_time": "2022-03-13T05:27:32.801Z"
   },
   {
    "duration": 56,
    "start_time": "2022-03-13T05:27:32.901Z"
   },
   {
    "duration": 174,
    "start_time": "2022-03-13T05:27:32.959Z"
   },
   {
    "duration": 235,
    "start_time": "2022-03-13T05:29:29.706Z"
   },
   {
    "duration": 328,
    "start_time": "2022-03-13T05:29:40.507Z"
   },
   {
    "duration": 260,
    "start_time": "2022-03-13T05:30:09.316Z"
   },
   {
    "duration": 265,
    "start_time": "2022-03-13T05:30:15.967Z"
   },
   {
    "duration": 270,
    "start_time": "2022-03-13T05:30:21.345Z"
   },
   {
    "duration": 256,
    "start_time": "2022-03-13T05:30:26.466Z"
   },
   {
    "duration": 249,
    "start_time": "2022-03-13T05:30:30.246Z"
   },
   {
    "duration": 47,
    "start_time": "2022-03-13T05:31:38.726Z"
   },
   {
    "duration": 176,
    "start_time": "2022-03-13T05:32:06.165Z"
   },
   {
    "duration": 106,
    "start_time": "2022-03-13T05:32:27.037Z"
   },
   {
    "duration": 31,
    "start_time": "2022-03-13T05:32:35.507Z"
   },
   {
    "duration": 30,
    "start_time": "2022-03-13T05:32:50.760Z"
   },
   {
    "duration": 29,
    "start_time": "2022-03-13T05:33:19.527Z"
   },
   {
    "duration": 30,
    "start_time": "2022-03-13T05:33:38.297Z"
   },
   {
    "duration": 104,
    "start_time": "2022-03-13T05:35:28.058Z"
   },
   {
    "duration": 1231,
    "start_time": "2022-03-13T05:35:39.968Z"
   },
   {
    "duration": 1524,
    "start_time": "2022-03-13T05:35:41.201Z"
   },
   {
    "duration": 26,
    "start_time": "2022-03-13T05:35:42.727Z"
   },
   {
    "duration": 19,
    "start_time": "2022-03-13T05:35:42.755Z"
   },
   {
    "duration": 141,
    "start_time": "2022-03-13T05:35:42.776Z"
   },
   {
    "duration": 110,
    "start_time": "2022-03-13T05:35:42.919Z"
   },
   {
    "duration": 58,
    "start_time": "2022-03-13T05:35:43.030Z"
   },
   {
    "duration": 1124,
    "start_time": "2022-03-13T05:35:43.090Z"
   },
   {
    "duration": 94,
    "start_time": "2022-03-13T05:35:44.216Z"
   },
   {
    "duration": 254,
    "start_time": "2022-03-13T05:35:44.312Z"
   },
   {
    "duration": 68,
    "start_time": "2022-03-13T05:35:44.568Z"
   },
   {
    "duration": 63,
    "start_time": "2022-03-13T05:35:44.638Z"
   },
   {
    "duration": 168,
    "start_time": "2022-03-13T05:35:44.703Z"
   },
   {
    "duration": 111,
    "start_time": "2022-03-13T05:37:55.893Z"
   },
   {
    "duration": 441,
    "start_time": "2022-03-13T05:38:02.004Z"
   },
   {
    "duration": 100,
    "start_time": "2022-03-13T05:38:05.240Z"
   },
   {
    "duration": 210,
    "start_time": "2022-03-13T05:38:45.282Z"
   },
   {
    "duration": 461,
    "start_time": "2022-03-13T05:39:15.772Z"
   },
   {
    "duration": 307,
    "start_time": "2022-03-13T05:39:34.944Z"
   },
   {
    "duration": 4,
    "start_time": "2022-03-13T05:39:40.400Z"
   },
   {
    "duration": 3172,
    "start_time": "2022-03-13T05:39:40.406Z"
   },
   {
    "duration": 22,
    "start_time": "2022-03-13T05:39:43.580Z"
   },
   {
    "duration": 2,
    "start_time": "2022-03-13T05:39:43.604Z"
   },
   {
    "duration": 116,
    "start_time": "2022-03-13T05:39:43.608Z"
   },
   {
    "duration": 109,
    "start_time": "2022-03-13T05:39:43.726Z"
   },
   {
    "duration": 281,
    "start_time": "2022-03-13T05:39:43.838Z"
   },
   {
    "duration": 88,
    "start_time": "2022-03-13T05:39:44.121Z"
   },
   {
    "duration": 74568,
    "start_time": "2022-03-13T05:38:29.643Z"
   },
   {
    "duration": 74557,
    "start_time": "2022-03-13T05:38:29.655Z"
   },
   {
    "duration": 74553,
    "start_time": "2022-03-13T05:38:29.660Z"
   },
   {
    "duration": 74547,
    "start_time": "2022-03-13T05:38:29.667Z"
   },
   {
    "duration": 74546,
    "start_time": "2022-03-13T05:38:29.669Z"
   },
   {
    "duration": 74545,
    "start_time": "2022-03-13T05:38:29.671Z"
   },
   {
    "duration": 74544,
    "start_time": "2022-03-13T05:38:29.673Z"
   },
   {
    "duration": 118,
    "start_time": "2022-03-13T05:42:25.594Z"
   },
   {
    "duration": 45,
    "start_time": "2022-03-13T05:44:37.077Z"
   },
   {
    "duration": 1144,
    "start_time": "2022-03-13T05:44:37.125Z"
   },
   {
    "duration": 79,
    "start_time": "2022-03-13T05:44:38.271Z"
   },
   {
    "duration": 270,
    "start_time": "2022-03-13T05:44:38.352Z"
   },
   {
    "duration": 55,
    "start_time": "2022-03-13T05:44:38.623Z"
   },
   {
    "duration": 46,
    "start_time": "2022-03-13T05:44:38.680Z"
   },
   {
    "duration": 170,
    "start_time": "2022-03-13T05:44:38.728Z"
   },
   {
    "duration": 5,
    "start_time": "2022-03-13T10:06:39.254Z"
   },
   {
    "duration": 3,
    "start_time": "2022-03-13T10:06:46.631Z"
   },
   {
    "duration": 4,
    "start_time": "2022-03-13T10:06:51.861Z"
   },
   {
    "duration": 5600,
    "start_time": "2022-03-13T10:06:51.868Z"
   },
   {
    "duration": 25,
    "start_time": "2022-03-13T10:06:57.470Z"
   },
   {
    "duration": 2,
    "start_time": "2022-03-13T10:06:57.497Z"
   },
   {
    "duration": 7,
    "start_time": "2022-03-13T10:06:57.501Z"
   },
   {
    "duration": 132,
    "start_time": "2022-03-13T10:06:57.509Z"
   },
   {
    "duration": 118,
    "start_time": "2022-03-13T10:06:57.643Z"
   },
   {
    "duration": 131,
    "start_time": "2022-03-13T10:06:57.763Z"
   },
   {
    "duration": 44,
    "start_time": "2022-03-13T10:06:57.896Z"
   },
   {
    "duration": 1193,
    "start_time": "2022-03-13T10:06:57.942Z"
   },
   {
    "duration": 90,
    "start_time": "2022-03-13T10:06:59.137Z"
   },
   {
    "duration": 277,
    "start_time": "2022-03-13T10:06:59.229Z"
   },
   {
    "duration": 48,
    "start_time": "2022-03-13T10:06:59.509Z"
   },
   {
    "duration": 57,
    "start_time": "2022-03-13T10:06:59.559Z"
   },
   {
    "duration": 179,
    "start_time": "2022-03-13T10:06:59.618Z"
   },
   {
    "duration": 4,
    "start_time": "2022-03-13T10:07:25.900Z"
   },
   {
    "duration": 4,
    "start_time": "2022-03-13T10:07:52.017Z"
   },
   {
    "duration": 4,
    "start_time": "2022-03-13T10:08:03.660Z"
   },
   {
    "duration": 5042,
    "start_time": "2022-03-13T10:08:03.667Z"
   },
   {
    "duration": 22,
    "start_time": "2022-03-13T10:08:08.711Z"
   },
   {
    "duration": 3,
    "start_time": "2022-03-13T10:08:08.735Z"
   },
   {
    "duration": 6,
    "start_time": "2022-03-13T10:08:08.739Z"
   },
   {
    "duration": 6,
    "start_time": "2022-03-13T10:08:08.747Z"
   },
   {
    "duration": 123,
    "start_time": "2022-03-13T10:08:08.755Z"
   },
   {
    "duration": 108,
    "start_time": "2022-03-13T10:08:08.881Z"
   },
   {
    "duration": 130,
    "start_time": "2022-03-13T10:08:08.991Z"
   },
   {
    "duration": 57,
    "start_time": "2022-03-13T10:08:09.122Z"
   },
   {
    "duration": 1341,
    "start_time": "2022-03-13T10:08:09.181Z"
   },
   {
    "duration": 93,
    "start_time": "2022-03-13T10:08:10.524Z"
   },
   {
    "duration": 279,
    "start_time": "2022-03-13T10:08:10.619Z"
   },
   {
    "duration": 49,
    "start_time": "2022-03-13T10:08:10.900Z"
   },
   {
    "duration": 67,
    "start_time": "2022-03-13T10:08:10.951Z"
   },
   {
    "duration": 177,
    "start_time": "2022-03-13T10:08:11.020Z"
   },
   {
    "duration": 4,
    "start_time": "2022-03-13T10:08:47.748Z"
   },
   {
    "duration": 1254,
    "start_time": "2022-03-13T10:12:39.439Z"
   },
   {
    "duration": 3016,
    "start_time": "2022-03-13T10:12:40.695Z"
   },
   {
    "duration": 26,
    "start_time": "2022-03-13T10:12:43.713Z"
   },
   {
    "duration": 3,
    "start_time": "2022-03-13T10:12:43.741Z"
   },
   {
    "duration": 134,
    "start_time": "2022-03-13T10:12:43.746Z"
   },
   {
    "duration": 127,
    "start_time": "2022-03-13T10:12:43.882Z"
   },
   {
    "duration": 142,
    "start_time": "2022-03-13T10:12:44.011Z"
   },
   {
    "duration": 64,
    "start_time": "2022-03-13T10:12:44.156Z"
   },
   {
    "duration": 1203,
    "start_time": "2022-03-13T10:12:44.222Z"
   },
   {
    "duration": 97,
    "start_time": "2022-03-13T10:12:45.427Z"
   },
   {
    "duration": 292,
    "start_time": "2022-03-13T10:12:45.526Z"
   },
   {
    "duration": 85,
    "start_time": "2022-03-13T10:12:45.821Z"
   },
   {
    "duration": 58,
    "start_time": "2022-03-13T10:12:45.908Z"
   },
   {
    "duration": 179,
    "start_time": "2022-03-13T10:12:45.968Z"
   },
   {
    "duration": 44,
    "start_time": "2022-03-13T10:14:00.871Z"
   },
   {
    "duration": 5,
    "start_time": "2022-03-13T10:14:03.862Z"
   },
   {
    "duration": 1449,
    "start_time": "2022-03-13T10:14:03.869Z"
   },
   {
    "duration": 24,
    "start_time": "2022-03-13T10:14:05.320Z"
   },
   {
    "duration": 2,
    "start_time": "2022-03-13T10:14:05.346Z"
   },
   {
    "duration": 112,
    "start_time": "2022-03-13T10:14:05.350Z"
   },
   {
    "duration": 169,
    "start_time": "2022-03-13T10:14:05.464Z"
   },
   {
    "duration": 122,
    "start_time": "2022-03-13T10:14:05.635Z"
   },
   {
    "duration": 50,
    "start_time": "2022-03-13T10:14:05.759Z"
   },
   {
    "duration": 1169,
    "start_time": "2022-03-13T10:14:05.812Z"
   },
   {
    "duration": 80,
    "start_time": "2022-03-13T10:14:06.983Z"
   },
   {
    "duration": 280,
    "start_time": "2022-03-13T10:14:07.065Z"
   },
   {
    "duration": 52,
    "start_time": "2022-03-13T10:14:07.346Z"
   },
   {
    "duration": 92,
    "start_time": "2022-03-13T10:14:07.399Z"
   },
   {
    "duration": 174,
    "start_time": "2022-03-13T10:14:07.493Z"
   },
   {
    "duration": 35,
    "start_time": "2022-03-13T10:18:18.124Z"
   },
   {
    "duration": 35,
    "start_time": "2022-03-13T10:18:25.322Z"
   },
   {
    "duration": 364,
    "start_time": "2022-03-13T10:19:10.933Z"
   },
   {
    "duration": 9,
    "start_time": "2022-03-13T10:19:21.503Z"
   },
   {
    "duration": 8,
    "start_time": "2022-03-13T10:19:34.561Z"
   },
   {
    "duration": 8,
    "start_time": "2022-03-13T10:19:48.834Z"
   },
   {
    "duration": 7,
    "start_time": "2022-03-13T10:20:56.624Z"
   },
   {
    "duration": 369,
    "start_time": "2022-03-13T10:21:58.884Z"
   },
   {
    "duration": 105,
    "start_time": "2022-03-13T10:22:14.252Z"
   },
   {
    "duration": 26,
    "start_time": "2022-03-13T10:22:27.034Z"
   },
   {
    "duration": 5,
    "start_time": "2022-03-13T10:22:40.655Z"
   },
   {
    "duration": 28,
    "start_time": "2022-03-13T15:23:01.237Z"
   },
   {
    "duration": 29,
    "start_time": "2022-03-13T15:23:32.495Z"
   },
   {
    "duration": 28,
    "start_time": "2022-03-13T15:24:03.117Z"
   },
   {
    "duration": 25,
    "start_time": "2022-03-13T15:27:20.828Z"
   },
   {
    "duration": 40,
    "start_time": "2022-03-13T15:27:27.516Z"
   },
   {
    "duration": 22,
    "start_time": "2022-03-13T15:27:53.299Z"
   },
   {
    "duration": 75,
    "start_time": "2022-03-13T15:28:06.249Z"
   },
   {
    "duration": 75,
    "start_time": "2022-03-13T15:28:13.503Z"
   },
   {
    "duration": 70,
    "start_time": "2022-03-13T15:28:18.289Z"
   },
   {
    "duration": 1746,
    "start_time": "2022-03-14T05:40:22.644Z"
   },
   {
    "duration": 5286,
    "start_time": "2022-03-14T05:40:24.392Z"
   },
   {
    "duration": 25,
    "start_time": "2022-03-14T05:40:29.680Z"
   },
   {
    "duration": 3,
    "start_time": "2022-03-14T05:40:29.707Z"
   },
   {
    "duration": 135,
    "start_time": "2022-03-14T05:40:29.711Z"
   },
   {
    "duration": 115,
    "start_time": "2022-03-14T05:40:29.847Z"
   },
   {
    "duration": 144,
    "start_time": "2022-03-14T05:40:29.964Z"
   },
   {
    "duration": 54,
    "start_time": "2022-03-14T05:40:30.110Z"
   },
   {
    "duration": 1192,
    "start_time": "2022-03-14T05:40:30.167Z"
   },
   {
    "duration": 93,
    "start_time": "2022-03-14T05:40:31.362Z"
   },
   {
    "duration": 286,
    "start_time": "2022-03-14T05:40:31.458Z"
   },
   {
    "duration": 73,
    "start_time": "2022-03-14T05:40:31.746Z"
   },
   {
    "duration": 79,
    "start_time": "2022-03-14T05:40:31.821Z"
   },
   {
    "duration": 52,
    "start_time": "2022-03-14T05:40:31.902Z"
   },
   {
    "duration": 55,
    "start_time": "2022-03-14T05:40:31.956Z"
   },
   {
    "duration": 42,
    "start_time": "2022-03-14T05:40:32.013Z"
   },
   {
    "duration": 151,
    "start_time": "2022-03-14T05:40:32.058Z"
   },
   {
    "duration": 335,
    "start_time": "2022-03-14T05:44:11.999Z"
   },
   {
    "duration": 300,
    "start_time": "2022-03-14T05:44:25.847Z"
   },
   {
    "duration": 647,
    "start_time": "2022-03-14T05:49:14.212Z"
   },
   {
    "duration": 376,
    "start_time": "2022-03-14T05:54:43.023Z"
   },
   {
    "duration": 545,
    "start_time": "2022-03-14T05:55:03.534Z"
   },
   {
    "duration": 562,
    "start_time": "2022-03-14T05:55:30.101Z"
   },
   {
    "duration": 368,
    "start_time": "2022-03-14T05:55:40.081Z"
   },
   {
    "duration": 87,
    "start_time": "2022-03-14T05:56:08.530Z"
   },
   {
    "duration": 384,
    "start_time": "2022-03-14T05:56:19.810Z"
   },
   {
    "duration": 391,
    "start_time": "2022-03-14T05:56:31.350Z"
   },
   {
    "duration": 395,
    "start_time": "2022-03-14T05:56:59.320Z"
   },
   {
    "duration": 770,
    "start_time": "2022-03-14T06:00:23.741Z"
   },
   {
    "duration": 179,
    "start_time": "2022-03-14T06:02:28.301Z"
   },
   {
    "duration": 647,
    "start_time": "2022-03-14T06:02:29.111Z"
   },
   {
    "duration": 272,
    "start_time": "2022-03-14T06:02:33.270Z"
   },
   {
    "duration": 900,
    "start_time": "2022-03-14T06:05:29.803Z"
   },
   {
    "duration": 5,
    "start_time": "2022-03-14T06:05:30.705Z"
   },
   {
    "duration": 14,
    "start_time": "2022-03-14T06:06:02.091Z"
   },
   {
    "duration": 138,
    "start_time": "2022-03-14T06:06:02.473Z"
   },
   {
    "duration": 21177,
    "start_time": "2022-03-14T06:16:07.711Z"
   },
   {
    "duration": 20000,
    "start_time": "2022-03-14T06:16:38.078Z"
   },
   {
    "duration": 251,
    "start_time": "2022-03-14T06:19:09.888Z"
   },
   {
    "duration": 5,
    "start_time": "2022-03-14T06:19:47.818Z"
   },
   {
    "duration": 4,
    "start_time": "2022-03-14T06:20:29.499Z"
   },
   {
    "duration": 17791,
    "start_time": "2022-03-14T06:22:00.090Z"
   },
   {
    "duration": 127,
    "start_time": "2022-03-14T06:22:17.884Z"
   },
   {
    "duration": 97,
    "start_time": "2022-03-14T06:22:45.099Z"
   },
   {
    "duration": 11,
    "start_time": "2022-03-14T06:22:50.209Z"
   },
   {
    "duration": 3,
    "start_time": "2022-03-14T06:23:25.749Z"
   },
   {
    "duration": 268,
    "start_time": "2022-03-14T06:26:00.472Z"
   },
   {
    "duration": 3,
    "start_time": "2022-03-14T06:26:02.993Z"
   },
   {
    "duration": 2,
    "start_time": "2022-03-14T06:26:03.544Z"
   },
   {
    "duration": 372077,
    "start_time": "2022-03-14T06:26:04.112Z"
   },
   {
    "duration": 913,
    "start_time": "2022-03-14T06:32:16.191Z"
   },
   {
    "duration": 4,
    "start_time": "2022-03-14T06:32:17.107Z"
   },
   {
    "duration": 16,
    "start_time": "2022-03-14T06:32:17.113Z"
   },
   {
    "duration": 5896,
    "start_time": "2022-03-14T06:34:34.724Z"
   },
   {
    "duration": 171573,
    "start_time": "2022-03-14T06:35:30.024Z"
   },
   {
    "duration": 1229,
    "start_time": "2022-03-14T06:44:52.759Z"
   },
   {
    "duration": 376,
    "start_time": "2022-03-14T06:45:52.123Z"
   },
   {
    "duration": 1249,
    "start_time": "2022-03-14T06:47:32.645Z"
   },
   {
    "duration": 3708,
    "start_time": "2022-03-14T06:47:33.896Z"
   },
   {
    "duration": 27,
    "start_time": "2022-03-14T06:47:37.606Z"
   },
   {
    "duration": 3,
    "start_time": "2022-03-14T06:47:37.635Z"
   },
   {
    "duration": 137,
    "start_time": "2022-03-14T06:47:37.640Z"
   },
   {
    "duration": 117,
    "start_time": "2022-03-14T06:47:37.779Z"
   },
   {
    "duration": 130,
    "start_time": "2022-03-14T06:47:37.898Z"
   },
   {
    "duration": 65,
    "start_time": "2022-03-14T06:47:38.031Z"
   },
   {
    "duration": 1180,
    "start_time": "2022-03-14T06:47:38.099Z"
   },
   {
    "duration": 102,
    "start_time": "2022-03-14T06:47:39.281Z"
   },
   {
    "duration": 437,
    "start_time": "2022-03-14T06:47:39.386Z"
   },
   {
    "duration": 77,
    "start_time": "2022-03-14T06:47:39.825Z"
   },
   {
    "duration": 59,
    "start_time": "2022-03-14T06:47:39.904Z"
   },
   {
    "duration": 68,
    "start_time": "2022-03-14T06:47:39.965Z"
   },
   {
    "duration": 63,
    "start_time": "2022-03-14T06:47:40.036Z"
   },
   {
    "duration": 43,
    "start_time": "2022-03-14T06:47:40.101Z"
   },
   {
    "duration": 1767,
    "start_time": "2022-03-14T06:47:40.146Z"
   },
   {
    "duration": 743,
    "start_time": "2022-03-14T06:47:41.173Z"
   },
   {
    "duration": 740,
    "start_time": "2022-03-14T06:47:41.177Z"
   },
   {
    "duration": 739,
    "start_time": "2022-03-14T06:47:41.179Z"
   },
   {
    "duration": 737,
    "start_time": "2022-03-14T06:47:41.182Z"
   },
   {
    "duration": 737,
    "start_time": "2022-03-14T06:47:41.184Z"
   },
   {
    "duration": 734,
    "start_time": "2022-03-14T06:47:41.188Z"
   },
   {
    "duration": 733,
    "start_time": "2022-03-14T06:47:41.190Z"
   },
   {
    "duration": 732,
    "start_time": "2022-03-14T06:47:41.193Z"
   },
   {
    "duration": 730,
    "start_time": "2022-03-14T06:47:41.196Z"
   },
   {
    "duration": 728,
    "start_time": "2022-03-14T06:47:41.199Z"
   },
   {
    "duration": 727,
    "start_time": "2022-03-14T06:47:41.201Z"
   },
   {
    "duration": 725,
    "start_time": "2022-03-14T06:47:41.204Z"
   },
   {
    "duration": 724,
    "start_time": "2022-03-14T06:47:41.207Z"
   },
   {
    "duration": 722,
    "start_time": "2022-03-14T06:47:41.210Z"
   },
   {
    "duration": 720,
    "start_time": "2022-03-14T06:47:41.213Z"
   },
   {
    "duration": 719,
    "start_time": "2022-03-14T06:47:41.215Z"
   },
   {
    "duration": 718,
    "start_time": "2022-03-14T06:47:41.218Z"
   },
   {
    "duration": 716,
    "start_time": "2022-03-14T06:47:41.221Z"
   },
   {
    "duration": 715,
    "start_time": "2022-03-14T06:47:41.223Z"
   },
   {
    "duration": 703,
    "start_time": "2022-03-14T06:50:13.946Z"
   },
   {
    "duration": 727,
    "start_time": "2022-03-14T06:50:53.887Z"
   },
   {
    "duration": 716,
    "start_time": "2022-03-14T07:52:32.710Z"
   },
   {
    "duration": 714,
    "start_time": "2022-03-14T07:53:07.941Z"
   },
   {
    "duration": 738,
    "start_time": "2022-03-14T07:53:36.652Z"
   },
   {
    "duration": 1198,
    "start_time": "2022-03-14T07:54:20.900Z"
   },
   {
    "duration": 3607,
    "start_time": "2022-03-14T07:54:22.100Z"
   },
   {
    "duration": 26,
    "start_time": "2022-03-14T07:54:25.710Z"
   },
   {
    "duration": 2,
    "start_time": "2022-03-14T07:54:25.738Z"
   },
   {
    "duration": 552,
    "start_time": "2022-03-14T07:54:25.742Z"
   },
   {
    "duration": 921,
    "start_time": "2022-03-14T07:54:25.377Z"
   },
   {
    "duration": 914,
    "start_time": "2022-03-14T07:54:25.385Z"
   },
   {
    "duration": 909,
    "start_time": "2022-03-14T07:54:25.391Z"
   },
   {
    "duration": 906,
    "start_time": "2022-03-14T07:54:25.395Z"
   },
   {
    "duration": 904,
    "start_time": "2022-03-14T07:54:25.398Z"
   },
   {
    "duration": 901,
    "start_time": "2022-03-14T07:54:25.402Z"
   },
   {
    "duration": 899,
    "start_time": "2022-03-14T07:54:25.405Z"
   },
   {
    "duration": 897,
    "start_time": "2022-03-14T07:54:25.408Z"
   },
   {
    "duration": 895,
    "start_time": "2022-03-14T07:54:25.411Z"
   },
   {
    "duration": 893,
    "start_time": "2022-03-14T07:54:25.414Z"
   },
   {
    "duration": 891,
    "start_time": "2022-03-14T07:54:25.417Z"
   },
   {
    "duration": 888,
    "start_time": "2022-03-14T07:54:25.421Z"
   },
   {
    "duration": 886,
    "start_time": "2022-03-14T07:54:25.424Z"
   },
   {
    "duration": 884,
    "start_time": "2022-03-14T07:54:25.427Z"
   },
   {
    "duration": 881,
    "start_time": "2022-03-14T07:54:25.431Z"
   },
   {
    "duration": 879,
    "start_time": "2022-03-14T07:54:25.434Z"
   },
   {
    "duration": 877,
    "start_time": "2022-03-14T07:54:25.437Z"
   },
   {
    "duration": 875,
    "start_time": "2022-03-14T07:54:25.440Z"
   },
   {
    "duration": 873,
    "start_time": "2022-03-14T07:54:25.443Z"
   },
   {
    "duration": 863,
    "start_time": "2022-03-14T07:54:25.454Z"
   },
   {
    "duration": 861,
    "start_time": "2022-03-14T07:54:25.458Z"
   },
   {
    "duration": 857,
    "start_time": "2022-03-14T07:54:25.463Z"
   },
   {
    "duration": 855,
    "start_time": "2022-03-14T07:54:25.466Z"
   },
   {
    "duration": 854,
    "start_time": "2022-03-14T07:54:25.468Z"
   },
   {
    "duration": 851,
    "start_time": "2022-03-14T07:54:25.472Z"
   },
   {
    "duration": 848,
    "start_time": "2022-03-14T07:54:25.476Z"
   },
   {
    "duration": 846,
    "start_time": "2022-03-14T07:54:25.479Z"
   },
   {
    "duration": 843,
    "start_time": "2022-03-14T07:54:25.482Z"
   },
   {
    "duration": 843,
    "start_time": "2022-03-14T07:54:25.484Z"
   },
   {
    "duration": 840,
    "start_time": "2022-03-14T07:54:25.488Z"
   },
   {
    "duration": 838,
    "start_time": "2022-03-14T07:54:25.491Z"
   },
   {
    "duration": 1587,
    "start_time": "2022-03-14T07:54:37.066Z"
   },
   {
    "duration": 1472,
    "start_time": "2022-03-14T07:55:57.669Z"
   },
   {
    "duration": 1233,
    "start_time": "2022-03-14T07:56:54.069Z"
   },
   {
    "duration": 1597,
    "start_time": "2022-03-14T07:56:55.304Z"
   },
   {
    "duration": 26,
    "start_time": "2022-03-14T07:56:56.903Z"
   },
   {
    "duration": 3,
    "start_time": "2022-03-14T07:56:56.931Z"
   },
   {
    "duration": 1562,
    "start_time": "2022-03-14T07:56:56.936Z"
   },
   {
    "duration": 925,
    "start_time": "2022-03-14T07:56:57.578Z"
   },
   {
    "duration": 921,
    "start_time": "2022-03-14T07:56:57.583Z"
   },
   {
    "duration": 913,
    "start_time": "2022-03-14T07:56:57.593Z"
   },
   {
    "duration": 911,
    "start_time": "2022-03-14T07:56:57.596Z"
   },
   {
    "duration": 897,
    "start_time": "2022-03-14T07:56:57.611Z"
   },
   {
    "duration": 892,
    "start_time": "2022-03-14T07:56:57.617Z"
   },
   {
    "duration": 882,
    "start_time": "2022-03-14T07:56:57.628Z"
   },
   {
    "duration": 878,
    "start_time": "2022-03-14T07:56:57.633Z"
   },
   {
    "duration": 867,
    "start_time": "2022-03-14T07:56:57.645Z"
   },
   {
    "duration": 857,
    "start_time": "2022-03-14T07:56:57.656Z"
   },
   {
    "duration": 853,
    "start_time": "2022-03-14T07:56:57.661Z"
   },
   {
    "duration": 849,
    "start_time": "2022-03-14T07:56:57.666Z"
   },
   {
    "duration": 839,
    "start_time": "2022-03-14T07:56:57.677Z"
   },
   {
    "duration": 837,
    "start_time": "2022-03-14T07:56:57.679Z"
   },
   {
    "duration": 825,
    "start_time": "2022-03-14T07:56:57.692Z"
   },
   {
    "duration": 823,
    "start_time": "2022-03-14T07:56:57.695Z"
   },
   {
    "duration": 819,
    "start_time": "2022-03-14T07:56:57.700Z"
   },
   {
    "duration": 810,
    "start_time": "2022-03-14T07:56:57.710Z"
   },
   {
    "duration": 808,
    "start_time": "2022-03-14T07:56:57.713Z"
   },
   {
    "duration": 798,
    "start_time": "2022-03-14T07:56:57.725Z"
   },
   {
    "duration": 796,
    "start_time": "2022-03-14T07:56:57.728Z"
   },
   {
    "duration": 784,
    "start_time": "2022-03-14T07:56:57.741Z"
   },
   {
    "duration": 782,
    "start_time": "2022-03-14T07:56:57.744Z"
   },
   {
    "duration": 778,
    "start_time": "2022-03-14T07:56:57.749Z"
   },
   {
    "duration": 768,
    "start_time": "2022-03-14T07:56:57.759Z"
   },
   {
    "duration": 767,
    "start_time": "2022-03-14T07:56:57.761Z"
   },
   {
    "duration": 763,
    "start_time": "2022-03-14T07:56:57.766Z"
   },
   {
    "duration": 756,
    "start_time": "2022-03-14T07:56:57.774Z"
   },
   {
    "duration": 754,
    "start_time": "2022-03-14T07:56:57.777Z"
   },
   {
    "duration": 753,
    "start_time": "2022-03-14T07:56:57.779Z"
   },
   {
    "duration": 743,
    "start_time": "2022-03-14T07:56:57.790Z"
   },
   {
    "duration": 1253,
    "start_time": "2022-03-14T07:58:09.329Z"
   },
   {
    "duration": 4756,
    "start_time": "2022-03-14T07:58:10.584Z"
   },
   {
    "duration": 36,
    "start_time": "2022-03-14T07:58:15.345Z"
   },
   {
    "duration": 3,
    "start_time": "2022-03-14T07:58:15.383Z"
   },
   {
    "duration": 135,
    "start_time": "2022-03-14T07:58:15.388Z"
   },
   {
    "duration": 122,
    "start_time": "2022-03-14T07:58:15.525Z"
   },
   {
    "duration": 145,
    "start_time": "2022-03-14T07:58:15.650Z"
   },
   {
    "duration": 56,
    "start_time": "2022-03-14T07:58:15.798Z"
   },
   {
    "duration": 1264,
    "start_time": "2022-03-14T07:58:15.857Z"
   },
   {
    "duration": 93,
    "start_time": "2022-03-14T07:58:17.123Z"
   },
   {
    "duration": 445,
    "start_time": "2022-03-14T07:58:17.217Z"
   },
   {
    "duration": 68,
    "start_time": "2022-03-14T07:58:17.664Z"
   },
   {
    "duration": 65,
    "start_time": "2022-03-14T07:58:17.734Z"
   },
   {
    "duration": 56,
    "start_time": "2022-03-14T07:58:17.801Z"
   },
   {
    "duration": 55,
    "start_time": "2022-03-14T07:58:17.859Z"
   },
   {
    "duration": 40,
    "start_time": "2022-03-14T07:58:17.915Z"
   },
   {
    "duration": 146,
    "start_time": "2022-03-14T07:58:17.957Z"
   },
   {
    "duration": 883,
    "start_time": "2022-03-14T07:58:18.105Z"
   },
   {
    "duration": 190,
    "start_time": "2022-03-14T07:58:18.990Z"
   },
   {
    "duration": 897,
    "start_time": "2022-03-14T07:58:19.182Z"
   },
   {
    "duration": 4,
    "start_time": "2022-03-14T07:58:20.081Z"
   },
   {
    "duration": 18,
    "start_time": "2022-03-14T07:58:20.089Z"
   },
   {
    "duration": 131,
    "start_time": "2022-03-14T07:58:20.109Z"
   },
   {
    "duration": 18838,
    "start_time": "2022-03-14T07:58:20.242Z"
   },
   {
    "duration": 121,
    "start_time": "2022-03-14T07:58:39.082Z"
   },
   {
    "duration": 74,
    "start_time": "2022-03-14T07:58:39.206Z"
   },
   {
    "duration": 108,
    "start_time": "2022-03-14T07:58:39.283Z"
   },
   {
    "duration": 7,
    "start_time": "2022-03-14T07:58:39.393Z"
   },
   {
    "duration": 6,
    "start_time": "2022-03-14T07:58:39.402Z"
   },
   {
    "duration": 349056,
    "start_time": "2022-03-14T07:58:39.410Z"
   },
   {
    "duration": 979,
    "start_time": "2022-03-14T08:04:27.489Z"
   },
   {
    "duration": 975,
    "start_time": "2022-03-14T08:04:27.494Z"
   },
   {
    "duration": 971,
    "start_time": "2022-03-14T08:04:27.499Z"
   },
   {
    "duration": 969,
    "start_time": "2022-03-14T08:04:27.502Z"
   },
   {
    "duration": 966,
    "start_time": "2022-03-14T08:04:27.506Z"
   },
   {
    "duration": 1245,
    "start_time": "2022-03-14T08:04:35.591Z"
   },
   {
    "duration": 3108,
    "start_time": "2022-03-14T08:04:36.838Z"
   },
   {
    "duration": 35,
    "start_time": "2022-03-14T08:04:39.949Z"
   },
   {
    "duration": 3,
    "start_time": "2022-03-14T08:04:39.986Z"
   },
   {
    "duration": 139,
    "start_time": "2022-03-14T08:04:39.991Z"
   },
   {
    "duration": 131,
    "start_time": "2022-03-14T08:04:40.132Z"
   },
   {
    "duration": 144,
    "start_time": "2022-03-14T08:04:40.265Z"
   },
   {
    "duration": 70,
    "start_time": "2022-03-14T08:04:40.412Z"
   },
   {
    "duration": 1248,
    "start_time": "2022-03-14T08:04:40.485Z"
   },
   {
    "duration": 107,
    "start_time": "2022-03-14T08:04:41.735Z"
   },
   {
    "duration": 460,
    "start_time": "2022-03-14T08:04:41.843Z"
   },
   {
    "duration": 75,
    "start_time": "2022-03-14T08:04:42.305Z"
   },
   {
    "duration": 57,
    "start_time": "2022-03-14T08:04:42.382Z"
   },
   {
    "duration": 76,
    "start_time": "2022-03-14T08:04:42.441Z"
   },
   {
    "duration": 43,
    "start_time": "2022-03-14T08:04:42.518Z"
   },
   {
    "duration": 48,
    "start_time": "2022-03-14T08:04:42.563Z"
   },
   {
    "duration": 169,
    "start_time": "2022-03-14T08:04:42.613Z"
   },
   {
    "duration": 950,
    "start_time": "2022-03-14T08:04:42.784Z"
   },
   {
    "duration": 199,
    "start_time": "2022-03-14T08:04:43.736Z"
   },
   {
    "duration": 946,
    "start_time": "2022-03-14T08:04:43.936Z"
   },
   {
    "duration": 5,
    "start_time": "2022-03-14T08:04:44.884Z"
   },
   {
    "duration": 22,
    "start_time": "2022-03-14T08:04:44.891Z"
   },
   {
    "duration": 130,
    "start_time": "2022-03-14T08:04:44.917Z"
   },
   {
    "duration": 21634,
    "start_time": "2022-03-14T08:04:45.050Z"
   },
   {
    "duration": 196,
    "start_time": "2022-03-14T08:05:06.687Z"
   },
   {
    "duration": 94,
    "start_time": "2022-03-14T08:05:06.885Z"
   },
   {
    "duration": 103,
    "start_time": "2022-03-14T08:05:06.981Z"
   },
   {
    "duration": 3,
    "start_time": "2022-03-14T08:05:07.085Z"
   },
   {
    "duration": 8,
    "start_time": "2022-03-14T08:05:07.090Z"
   },
   {
    "duration": 394585,
    "start_time": "2022-03-14T08:05:07.099Z"
   },
   {
    "duration": 907,
    "start_time": "2022-03-14T08:11:41.686Z"
   },
   {
    "duration": 4,
    "start_time": "2022-03-14T08:11:42.595Z"
   },
   {
    "duration": 13,
    "start_time": "2022-03-14T08:11:42.600Z"
   },
   {
    "duration": 164878,
    "start_time": "2022-03-14T08:11:42.615Z"
   },
   {
    "duration": 426,
    "start_time": "2022-03-14T08:14:27.494Z"
   },
   {
    "duration": 132412,
    "start_time": "2022-03-14T09:05:51.036Z"
   },
   {
    "duration": 1114,
    "start_time": "2022-03-14T09:08:02.337Z"
   },
   {
    "duration": 454606,
    "start_time": "2022-03-14T09:08:04.685Z"
   },
   {
    "duration": 112,
    "start_time": "2022-03-14T09:15:39.293Z"
   },
   {
    "duration": 294,
    "start_time": "2022-03-14T11:34:54.439Z"
   },
   {
    "duration": 7,
    "start_time": "2022-03-14T11:39:03.474Z"
   },
   {
    "duration": 6,
    "start_time": "2022-03-14T11:39:15.748Z"
   },
   {
    "duration": 1072,
    "start_time": "2022-03-14T11:41:50.075Z"
   },
   {
    "duration": 1377,
    "start_time": "2022-03-14T11:49:48.612Z"
   },
   {
    "duration": 3998,
    "start_time": "2022-03-14T11:49:49.991Z"
   },
   {
    "duration": 27,
    "start_time": "2022-03-14T11:49:53.992Z"
   },
   {
    "duration": 12,
    "start_time": "2022-03-14T11:49:54.021Z"
   },
   {
    "duration": 135,
    "start_time": "2022-03-14T11:49:54.035Z"
   },
   {
    "duration": 129,
    "start_time": "2022-03-14T11:49:54.172Z"
   },
   {
    "duration": 142,
    "start_time": "2022-03-14T11:49:54.303Z"
   },
   {
    "duration": 62,
    "start_time": "2022-03-14T11:49:54.448Z"
   },
   {
    "duration": 1245,
    "start_time": "2022-03-14T11:49:54.513Z"
   },
   {
    "duration": 105,
    "start_time": "2022-03-14T11:49:55.760Z"
   },
   {
    "duration": 458,
    "start_time": "2022-03-14T11:49:55.867Z"
   },
   {
    "duration": 68,
    "start_time": "2022-03-14T11:49:56.326Z"
   },
   {
    "duration": 74,
    "start_time": "2022-03-14T11:49:56.396Z"
   },
   {
    "duration": 72,
    "start_time": "2022-03-14T11:49:56.472Z"
   },
   {
    "duration": 44,
    "start_time": "2022-03-14T11:49:56.545Z"
   },
   {
    "duration": 56,
    "start_time": "2022-03-14T11:49:56.591Z"
   },
   {
    "duration": 147,
    "start_time": "2022-03-14T11:49:56.649Z"
   },
   {
    "duration": 1038,
    "start_time": "2022-03-14T11:49:56.798Z"
   },
   {
    "duration": 281,
    "start_time": "2022-03-14T11:49:57.839Z"
   },
   {
    "duration": 941,
    "start_time": "2022-03-14T11:49:58.122Z"
   },
   {
    "duration": 5,
    "start_time": "2022-03-14T11:49:59.065Z"
   },
   {
    "duration": 19,
    "start_time": "2022-03-14T11:49:59.072Z"
   },
   {
    "duration": 138,
    "start_time": "2022-03-14T11:49:59.094Z"
   },
   {
    "duration": 19099,
    "start_time": "2022-03-14T11:49:59.234Z"
   },
   {
    "duration": 132,
    "start_time": "2022-03-14T11:50:18.336Z"
   },
   {
    "duration": 6,
    "start_time": "2022-03-14T11:50:18.533Z"
   },
   {
    "duration": 109,
    "start_time": "2022-03-14T11:50:18.542Z"
   },
   {
    "duration": 16,
    "start_time": "2022-03-14T11:50:18.653Z"
   },
   {
    "duration": 9,
    "start_time": "2022-03-14T11:50:18.671Z"
   },
   {
    "duration": 8764,
    "start_time": "2022-03-14T11:50:18.682Z"
   },
   {
    "duration": 895,
    "start_time": "2022-03-14T11:50:27.448Z"
   },
   {
    "duration": 3,
    "start_time": "2022-03-14T11:50:28.345Z"
   },
   {
    "duration": 93,
    "start_time": "2022-03-14T11:50:28.350Z"
   },
   {
    "duration": 474091,
    "start_time": "2022-03-14T11:50:28.444Z"
   },
   {
    "duration": 411,
    "start_time": "2022-03-14T11:58:22.537Z"
   },
   {
    "duration": 7,
    "start_time": "2022-03-14T11:58:22.950Z"
   },
   {
    "duration": 873,
    "start_time": "2022-03-14T11:58:22.959Z"
   },
   {
    "duration": 449,
    "start_time": "2022-03-15T10:51:54.844Z"
   },
   {
    "duration": 1496,
    "start_time": "2022-03-15T10:52:06.572Z"
   },
   {
    "duration": 4143,
    "start_time": "2022-03-15T10:52:08.071Z"
   },
   {
    "duration": 45,
    "start_time": "2022-03-15T10:52:12.217Z"
   },
   {
    "duration": 4,
    "start_time": "2022-03-15T10:52:12.264Z"
   },
   {
    "duration": 165,
    "start_time": "2022-03-15T10:52:12.270Z"
   },
   {
    "duration": 160,
    "start_time": "2022-03-15T10:52:12.437Z"
   },
   {
    "duration": 178,
    "start_time": "2022-03-15T10:52:12.599Z"
   },
   {
    "duration": 85,
    "start_time": "2022-03-15T10:52:12.779Z"
   },
   {
    "duration": 1903,
    "start_time": "2022-03-15T10:52:12.867Z"
   },
   {
    "duration": 539,
    "start_time": "2022-03-15T10:52:14.773Z"
   },
   {
    "duration": 630,
    "start_time": "2022-03-15T10:53:03.993Z"
   },
   {
    "duration": 502,
    "start_time": "2022-03-15T10:53:08.116Z"
   },
   {
    "duration": 617,
    "start_time": "2022-03-15T10:53:12.582Z"
   },
   {
    "duration": 597,
    "start_time": "2022-03-15T10:53:21.024Z"
   },
   {
    "duration": 691,
    "start_time": "2022-03-15T10:53:27.564Z"
   },
   {
    "duration": 584,
    "start_time": "2022-03-15T10:53:31.695Z"
   },
   {
    "duration": 583,
    "start_time": "2022-03-15T10:53:52.963Z"
   },
   {
    "duration": 98,
    "start_time": "2022-03-15T10:54:21.357Z"
   },
   {
    "duration": 945,
    "start_time": "2022-03-15T10:55:31.654Z"
   },
   {
    "duration": 789,
    "start_time": "2022-03-15T10:55:40.186Z"
   },
   {
    "duration": 1087,
    "start_time": "2022-03-15T10:56:01.576Z"
   },
   {
    "duration": 1565,
    "start_time": "2022-03-15T10:58:40.603Z"
   },
   {
    "duration": 1834,
    "start_time": "2022-03-15T10:58:42.171Z"
   },
   {
    "duration": 50,
    "start_time": "2022-03-15T10:58:44.008Z"
   },
   {
    "duration": 3,
    "start_time": "2022-03-15T10:58:44.062Z"
   },
   {
    "duration": 172,
    "start_time": "2022-03-15T10:58:44.068Z"
   },
   {
    "duration": 155,
    "start_time": "2022-03-15T10:58:44.244Z"
   },
   {
    "duration": 196,
    "start_time": "2022-03-15T10:58:44.402Z"
   },
   {
    "duration": 80,
    "start_time": "2022-03-15T10:58:44.604Z"
   },
   {
    "duration": 964,
    "start_time": "2022-03-15T10:58:44.689Z"
   },
   {
    "duration": 624,
    "start_time": "2022-03-15T10:58:45.656Z"
   },
   {
    "duration": 120,
    "start_time": "2022-03-15T10:58:46.283Z"
   },
   {
    "duration": 590,
    "start_time": "2022-03-15T10:58:46.405Z"
   },
   {
    "duration": 102,
    "start_time": "2022-03-15T10:58:46.997Z"
   },
   {
    "duration": 96,
    "start_time": "2022-03-15T10:58:47.102Z"
   },
   {
    "duration": 92,
    "start_time": "2022-03-15T10:58:47.200Z"
   },
   {
    "duration": 80,
    "start_time": "2022-03-15T10:58:47.295Z"
   },
   {
    "duration": 65,
    "start_time": "2022-03-15T10:58:47.378Z"
   },
   {
    "duration": 164,
    "start_time": "2022-03-15T10:58:47.445Z"
   },
   {
    "duration": 970,
    "start_time": "2022-03-15T10:58:47.612Z"
   },
   {
    "duration": 208,
    "start_time": "2022-03-15T10:58:48.585Z"
   },
   {
    "duration": 1358,
    "start_time": "2022-03-15T10:58:48.796Z"
   },
   {
    "duration": 5,
    "start_time": "2022-03-15T10:58:50.156Z"
   },
   {
    "duration": 17,
    "start_time": "2022-03-15T10:58:50.169Z"
   },
   {
    "duration": 185,
    "start_time": "2022-03-15T10:58:50.190Z"
   },
   {
    "duration": 19272,
    "start_time": "2022-03-15T10:58:50.378Z"
   },
   {
    "duration": 194,
    "start_time": "2022-03-15T10:59:09.653Z"
   },
   {
    "duration": 95,
    "start_time": "2022-03-15T10:59:09.850Z"
   },
   {
    "duration": 105,
    "start_time": "2022-03-15T10:59:09.948Z"
   },
   {
    "duration": 4,
    "start_time": "2022-03-15T10:59:10.055Z"
   },
   {
    "duration": 21,
    "start_time": "2022-03-15T10:59:10.061Z"
   },
   {
    "duration": 10066,
    "start_time": "2022-03-15T10:59:10.085Z"
   },
   {
    "duration": 1198,
    "start_time": "2022-03-15T10:59:20.153Z"
   },
   {
    "duration": 4,
    "start_time": "2022-03-15T10:59:21.353Z"
   },
   {
    "duration": 15,
    "start_time": "2022-03-15T10:59:21.360Z"
   },
   {
    "duration": 565276,
    "start_time": "2022-03-15T10:59:21.377Z"
   },
   {
    "duration": 646,
    "start_time": "2022-03-15T11:08:46.655Z"
   },
   {
    "duration": 8,
    "start_time": "2022-03-15T11:08:47.304Z"
   },
   {
    "duration": 1137,
    "start_time": "2022-03-15T11:08:47.314Z"
   }
  ],
  "kernelspec": {
   "display_name": "Python 3",
   "language": "python",
   "name": "python3"
  },
  "language_info": {
   "codemirror_mode": {
    "name": "ipython",
    "version": 3
   },
   "file_extension": ".py",
   "mimetype": "text/x-python",
   "name": "python",
   "nbconvert_exporter": "python",
   "pygments_lexer": "ipython3",
   "version": "3.8.8"
  },
  "toc": {
   "base_numbering": 1,
   "nav_menu": {},
   "number_sections": true,
   "sideBar": true,
   "skip_h1_title": true,
   "title_cell": "Table of Contents",
   "title_sidebar": "Contents",
   "toc_cell": false,
   "toc_position": {},
   "toc_section_display": true,
   "toc_window_display": true
  }
 },
 "nbformat": 4,
 "nbformat_minor": 4
}
