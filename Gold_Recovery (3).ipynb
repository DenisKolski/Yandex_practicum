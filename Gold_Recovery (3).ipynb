{
 "cells": [
  {
   "cell_type": "markdown",
   "metadata": {
    "toc": true
   },
   "source": [
    "<h1>Содержание<span class=\"tocSkip\"></span></h1>\n",
    "<div class=\"toc\"><ul class=\"toc-item\"><li><span><a href=\"#Подготовка-данных\" data-toc-modified-id=\"Подготовка-данных-1\"><span class=\"toc-item-num\">1&nbsp;&nbsp;</span>Подготовка данных</a></span><ul class=\"toc-item\"><li><span><a href=\"#Первичный-анализ-данных\" data-toc-modified-id=\"Первичный-анализ-данных-1.1\"><span class=\"toc-item-num\">1.1&nbsp;&nbsp;</span>Первичный анализ данных</a></span></li><li><span><a href=\"#Расчет-MAE-между-расчётами-и-значением-признака-от-заказчика\" data-toc-modified-id=\"Расчет-MAE-между-расчётами-и-значением-признака-от-заказчика-1.2\"><span class=\"toc-item-num\">1.2&nbsp;&nbsp;</span>Расчет MAE между расчётами и значением признака от заказчика</a></span></li><li><span><a href=\"#Анализ-признаков,-недоступные-в-тестовой-выборке\" data-toc-modified-id=\"Анализ-признаков,-недоступные-в-тестовой-выборке-1.3\"><span class=\"toc-item-num\">1.3&nbsp;&nbsp;</span>Анализ признаков, недоступные в тестовой выборке</a></span></li><li><span><a href=\"#Оценка-корреляции-параметров\" data-toc-modified-id=\"Оценка-корреляции-параметров-1.4\"><span class=\"toc-item-num\">1.4&nbsp;&nbsp;</span>Оценка корреляции параметров</a></span></li><li><span><a href=\"#Предобработка-данных\" data-toc-modified-id=\"Предобработка-данных-1.5\"><span class=\"toc-item-num\">1.5&nbsp;&nbsp;</span>Предобработка данных</a></span></li></ul></li><li><span><a href=\"#Анализ-данных\" data-toc-modified-id=\"Анализ-данных-2\"><span class=\"toc-item-num\">2&nbsp;&nbsp;</span>Анализ данных</a></span><ul class=\"toc-item\"><li><span><a href=\"#Анализ-концентрации-металлов-(Au,-Ag,-Pb)-на-различных-этапах-очистки\" data-toc-modified-id=\"Анализ-концентрации-металлов-(Au,-Ag,-Pb)-на-различных-этапах-очистки-2.1\"><span class=\"toc-item-num\">2.1&nbsp;&nbsp;</span>Анализ концентрации металлов (Au, Ag, Pb) на различных этапах очистки</a></span></li><li><span><a href=\"#Анализ-распределения-размеров-гранул-сырья-на-обучающей-и-тестовой-выборках\" data-toc-modified-id=\"Анализ-распределения-размеров-гранул-сырья-на-обучающей-и-тестовой-выборках-2.2\"><span class=\"toc-item-num\">2.2&nbsp;&nbsp;</span>Анализ распределения размеров гранул сырья на обучающей и тестовой выборках</a></span></li><li><span><a href=\"#Анализ-суммарной-концентрации-всех-металлов-на-разных-стадиях\" data-toc-modified-id=\"Анализ-суммарной-концентрации-всех-металлов-на-разных-стадиях-2.3\"><span class=\"toc-item-num\">2.3&nbsp;&nbsp;</span>Анализ суммарной концентрации всех металлов на разных стадиях</a></span></li></ul></li><li><span><a href=\"#Модель\" data-toc-modified-id=\"Модель-3\"><span class=\"toc-item-num\">3&nbsp;&nbsp;</span>Модель</a></span><ul class=\"toc-item\"><li><span><a href=\"#Функцию-для-вычисления-итоговой-sMAPE\" data-toc-modified-id=\"Функцию-для-вычисления-итоговой-sMAPE-3.1\"><span class=\"toc-item-num\">3.1&nbsp;&nbsp;</span>Функцию для вычисления итоговой sMAPE</a></span></li><li><span><a href=\"#Обучение-и-сравнение-моделей\" data-toc-modified-id=\"Обучение-и-сравнение-моделей-3.2\"><span class=\"toc-item-num\">3.2&nbsp;&nbsp;</span>Обучение и сравнение моделей</a></span></li><li><span><a href=\"#Проверка-модели-на-тестовой-выборке\" data-toc-modified-id=\"Проверка-модели-на-тестовой-выборке-3.3\"><span class=\"toc-item-num\">3.3&nbsp;&nbsp;</span>Проверка модели на тестовой выборке</a></span></li><li><span><a href=\"#Проверка-модели-на-адекватность\" data-toc-modified-id=\"Проверка-модели-на-адекватность-3.4\"><span class=\"toc-item-num\">3.4&nbsp;&nbsp;</span>Проверка модели на адекватность</a></span></li></ul></li><li><span><a href=\"#Общий-вывод\" data-toc-modified-id=\"Общий-вывод-4\"><span class=\"toc-item-num\">4&nbsp;&nbsp;</span>Общий вывод</a></span></li><li><span><a href=\"#Чек-лист-готовности-проекта\" data-toc-modified-id=\"Чек-лист-готовности-проекта-5\"><span class=\"toc-item-num\">5&nbsp;&nbsp;</span>Чек-лист готовности проекта</a></span></li></ul></div>"
   ]
  },
  {
   "cell_type": "markdown",
   "metadata": {},
   "source": [
    "**Здравствуй, проект дался непросто, если честно, с учетом того что это Сборный проект и в субботу Deadline, то вопросов у меня не будет. Немного расхождение то, что мы проходили и то что требуется здесь. Функция smape_scorer = make_scorer() с параметром greater_is_better=False, а также заполнение пропусков при неработающем методе ближайшего соседа в тренажере в условиях приблиющегося Deadline вызвало много эмоций))**"
   ]
  },
  {
   "cell_type": "markdown",
   "metadata": {},
   "source": [
    "# Восстановление золота из руды"
   ]
  },
  {
   "cell_type": "markdown",
   "metadata": {},
   "source": [
    "Подготовьте прототип модели машинного обучения для «Цифры». Компания разрабатывает решения для эффективной работы промышленных предприятий.\n",
    "\n",
    "Модель должна предсказать коэффициент восстановления золота из золотосодержащей руды. Используйте данные с параметрами добычи и очистки. \n",
    "\n",
    "Модель поможет оптимизировать производство, чтобы не запускать предприятие с убыточными характеристиками.\n",
    "\n",
    "Вам нужно:\n",
    "\n",
    "1. Подготовить данные;\n",
    "2. Провести исследовательский анализ данных;\n",
    "3. Построить и обучить модель.\n",
    "\n",
    "Чтобы выполнить проект, обращайтесь к библиотекам *pandas*, *matplotlib* и *sklearn.* Вам поможет их документация."
   ]
  },
  {
   "cell_type": "markdown",
   "metadata": {},
   "source": [
    "## Подготовка данных"
   ]
  },
  {
   "cell_type": "code",
   "execution_count": 1,
   "metadata": {},
   "outputs": [],
   "source": [
    "import matplotlib.pyplot as plt\n",
    "import numpy as np\n",
    "import pandas as pd\n",
    "\n",
    "import seaborn as sns\n",
    "from sklearn.dummy import DummyRegressor\n",
    "from sklearn.ensemble import RandomForestRegressor\n",
    "from sklearn.linear_model import LinearRegression\n",
    "from sklearn.metrics import mean_absolute_error\n",
    "import matplotlib.patches as mpatches\n",
    "from sklearn.model_selection import cross_val_score\n",
    "from sklearn.preprocessing import StandardScaler\n",
    "from sklearn.tree import DecisionTreeRegressor\n",
    "from scipy.stats import ttest_rel \n",
    "from sklearn.metrics.scorer import make_scorer\n",
    "from sklearn.model_selection import GridSearchCV\n",
    "from tqdm.auto import tqdm\n",
    "\n",
    "import warnings\n",
    "warnings.filterwarnings(\"ignore\")\n"
   ]
  },
  {
   "cell_type": "code",
   "execution_count": 2,
   "metadata": {},
   "outputs": [],
   "source": [
    "RND = 12345"
   ]
  },
  {
   "cell_type": "markdown",
   "metadata": {},
   "source": [
    "### Первичный анализ данных "
   ]
  },
  {
   "cell_type": "code",
   "execution_count": 3,
   "metadata": {},
   "outputs": [],
   "source": [
    "df_train = pd.read_csv('gold_recovery_train_new.csv')   # обучающая выборка\n",
    "df_test = pd.read_csv('gold_recovery_test_new.csv')     # тестовая выборка\n",
    "df_full = pd.read_csv('gold_recovery_full_new.csv')     # исходные данные"
   ]
  },
  {
   "cell_type": "code",
   "execution_count": 4,
   "metadata": {},
   "outputs": [
    {
     "data": {
      "text/html": [
       "<div>\n",
       "<style scoped>\n",
       "    .dataframe tbody tr th:only-of-type {\n",
       "        vertical-align: middle;\n",
       "    }\n",
       "\n",
       "    .dataframe tbody tr th {\n",
       "        vertical-align: top;\n",
       "    }\n",
       "\n",
       "    .dataframe thead th {\n",
       "        text-align: right;\n",
       "    }\n",
       "</style>\n",
       "<table border=\"1\" class=\"dataframe\">\n",
       "  <thead>\n",
       "    <tr style=\"text-align: right;\">\n",
       "      <th></th>\n",
       "      <th>date</th>\n",
       "      <th>final.output.concentrate_ag</th>\n",
       "      <th>final.output.concentrate_pb</th>\n",
       "      <th>final.output.concentrate_sol</th>\n",
       "      <th>final.output.concentrate_au</th>\n",
       "      <th>final.output.recovery</th>\n",
       "      <th>final.output.tail_ag</th>\n",
       "      <th>final.output.tail_pb</th>\n",
       "      <th>final.output.tail_sol</th>\n",
       "      <th>final.output.tail_au</th>\n",
       "      <th>...</th>\n",
       "      <th>secondary_cleaner.state.floatbank4_a_air</th>\n",
       "      <th>secondary_cleaner.state.floatbank4_a_level</th>\n",
       "      <th>secondary_cleaner.state.floatbank4_b_air</th>\n",
       "      <th>secondary_cleaner.state.floatbank4_b_level</th>\n",
       "      <th>secondary_cleaner.state.floatbank5_a_air</th>\n",
       "      <th>secondary_cleaner.state.floatbank5_a_level</th>\n",
       "      <th>secondary_cleaner.state.floatbank5_b_air</th>\n",
       "      <th>secondary_cleaner.state.floatbank5_b_level</th>\n",
       "      <th>secondary_cleaner.state.floatbank6_a_air</th>\n",
       "      <th>secondary_cleaner.state.floatbank6_a_level</th>\n",
       "    </tr>\n",
       "  </thead>\n",
       "  <tbody>\n",
       "    <tr>\n",
       "      <td>7781</td>\n",
       "      <td>2017-01-27 07:59:59</td>\n",
       "      <td>5.738814</td>\n",
       "      <td>10.435530</td>\n",
       "      <td>15.999507</td>\n",
       "      <td>43.435337</td>\n",
       "      <td>74.777477</td>\n",
       "      <td>12.189834</td>\n",
       "      <td>4.349632</td>\n",
       "      <td>8.961915</td>\n",
       "      <td>3.420820</td>\n",
       "      <td>...</td>\n",
       "      <td>20.953370</td>\n",
       "      <td>-501.160076</td>\n",
       "      <td>21.035344</td>\n",
       "      <td>-500.651713</td>\n",
       "      <td>23.009683</td>\n",
       "      <td>-500.251181</td>\n",
       "      <td>20.000649</td>\n",
       "      <td>-500.233923</td>\n",
       "      <td>24.990165</td>\n",
       "      <td>-600.290484</td>\n",
       "    </tr>\n",
       "    <tr>\n",
       "      <td>178</td>\n",
       "      <td>2016-01-24 02:00:00</td>\n",
       "      <td>5.187910</td>\n",
       "      <td>13.052925</td>\n",
       "      <td>10.424963</td>\n",
       "      <td>42.963700</td>\n",
       "      <td>68.567650</td>\n",
       "      <td>11.822472</td>\n",
       "      <td>2.278629</td>\n",
       "      <td>16.338354</td>\n",
       "      <td>3.798465</td>\n",
       "      <td>...</td>\n",
       "      <td>14.010647</td>\n",
       "      <td>-599.689678</td>\n",
       "      <td>11.991587</td>\n",
       "      <td>-600.523276</td>\n",
       "      <td>10.027879</td>\n",
       "      <td>-600.928029</td>\n",
       "      <td>7.996522</td>\n",
       "      <td>-599.667334</td>\n",
       "      <td>11.967077</td>\n",
       "      <td>-600.415567</td>\n",
       "    </tr>\n",
       "    <tr>\n",
       "      <td>761</td>\n",
       "      <td>2016-02-18 23:00:00</td>\n",
       "      <td>9.080506</td>\n",
       "      <td>11.165796</td>\n",
       "      <td>11.418028</td>\n",
       "      <td>35.541408</td>\n",
       "      <td>70.782405</td>\n",
       "      <td>13.102483</td>\n",
       "      <td>3.179340</td>\n",
       "      <td>11.650918</td>\n",
       "      <td>4.183871</td>\n",
       "      <td>...</td>\n",
       "      <td>25.012791</td>\n",
       "      <td>-397.787297</td>\n",
       "      <td>24.003722</td>\n",
       "      <td>-400.377014</td>\n",
       "      <td>24.921836</td>\n",
       "      <td>-440.627593</td>\n",
       "      <td>21.019293</td>\n",
       "      <td>-398.851405</td>\n",
       "      <td>30.000457</td>\n",
       "      <td>-390.122319</td>\n",
       "    </tr>\n",
       "    <tr>\n",
       "      <td>8070</td>\n",
       "      <td>2017-02-08 20:59:59</td>\n",
       "      <td>10.473138</td>\n",
       "      <td>7.969810</td>\n",
       "      <td>16.370802</td>\n",
       "      <td>40.117221</td>\n",
       "      <td>70.005789</td>\n",
       "      <td>11.987003</td>\n",
       "      <td>3.263581</td>\n",
       "      <td>8.399164</td>\n",
       "      <td>4.102102</td>\n",
       "      <td>...</td>\n",
       "      <td>24.976279</td>\n",
       "      <td>-451.681837</td>\n",
       "      <td>22.948250</td>\n",
       "      <td>-449.560107</td>\n",
       "      <td>23.052559</td>\n",
       "      <td>-499.427570</td>\n",
       "      <td>20.000119</td>\n",
       "      <td>-499.615776</td>\n",
       "      <td>24.998340</td>\n",
       "      <td>-600.067146</td>\n",
       "    </tr>\n",
       "    <tr>\n",
       "      <td>6367</td>\n",
       "      <td>2016-11-21 07:59:59</td>\n",
       "      <td>6.246551</td>\n",
       "      <td>9.107873</td>\n",
       "      <td>11.831400</td>\n",
       "      <td>44.906788</td>\n",
       "      <td>73.511080</td>\n",
       "      <td>10.971452</td>\n",
       "      <td>2.577030</td>\n",
       "      <td>8.799468</td>\n",
       "      <td>3.109311</td>\n",
       "      <td>...</td>\n",
       "      <td>17.995204</td>\n",
       "      <td>-499.678549</td>\n",
       "      <td>15.990820</td>\n",
       "      <td>-499.537771</td>\n",
       "      <td>15.703430</td>\n",
       "      <td>-497.902379</td>\n",
       "      <td>11.992740</td>\n",
       "      <td>-481.030624</td>\n",
       "      <td>21.985938</td>\n",
       "      <td>-497.914174</td>\n",
       "    </tr>\n",
       "  </tbody>\n",
       "</table>\n",
       "<p>5 rows × 87 columns</p>\n",
       "</div>"
      ],
      "text/plain": [
       "                     date  final.output.concentrate_ag  \\\n",
       "7781  2017-01-27 07:59:59                     5.738814   \n",
       "178   2016-01-24 02:00:00                     5.187910   \n",
       "761   2016-02-18 23:00:00                     9.080506   \n",
       "8070  2017-02-08 20:59:59                    10.473138   \n",
       "6367  2016-11-21 07:59:59                     6.246551   \n",
       "\n",
       "      final.output.concentrate_pb  final.output.concentrate_sol  \\\n",
       "7781                    10.435530                     15.999507   \n",
       "178                     13.052925                     10.424963   \n",
       "761                     11.165796                     11.418028   \n",
       "8070                     7.969810                     16.370802   \n",
       "6367                     9.107873                     11.831400   \n",
       "\n",
       "      final.output.concentrate_au  final.output.recovery  \\\n",
       "7781                    43.435337              74.777477   \n",
       "178                     42.963700              68.567650   \n",
       "761                     35.541408              70.782405   \n",
       "8070                    40.117221              70.005789   \n",
       "6367                    44.906788              73.511080   \n",
       "\n",
       "      final.output.tail_ag  final.output.tail_pb  final.output.tail_sol  \\\n",
       "7781             12.189834              4.349632               8.961915   \n",
       "178              11.822472              2.278629              16.338354   \n",
       "761              13.102483              3.179340              11.650918   \n",
       "8070             11.987003              3.263581               8.399164   \n",
       "6367             10.971452              2.577030               8.799468   \n",
       "\n",
       "      final.output.tail_au  ...  secondary_cleaner.state.floatbank4_a_air  \\\n",
       "7781              3.420820  ...                                 20.953370   \n",
       "178               3.798465  ...                                 14.010647   \n",
       "761               4.183871  ...                                 25.012791   \n",
       "8070              4.102102  ...                                 24.976279   \n",
       "6367              3.109311  ...                                 17.995204   \n",
       "\n",
       "      secondary_cleaner.state.floatbank4_a_level  \\\n",
       "7781                                 -501.160076   \n",
       "178                                  -599.689678   \n",
       "761                                  -397.787297   \n",
       "8070                                 -451.681837   \n",
       "6367                                 -499.678549   \n",
       "\n",
       "      secondary_cleaner.state.floatbank4_b_air  \\\n",
       "7781                                 21.035344   \n",
       "178                                  11.991587   \n",
       "761                                  24.003722   \n",
       "8070                                 22.948250   \n",
       "6367                                 15.990820   \n",
       "\n",
       "      secondary_cleaner.state.floatbank4_b_level  \\\n",
       "7781                                 -500.651713   \n",
       "178                                  -600.523276   \n",
       "761                                  -400.377014   \n",
       "8070                                 -449.560107   \n",
       "6367                                 -499.537771   \n",
       "\n",
       "      secondary_cleaner.state.floatbank5_a_air  \\\n",
       "7781                                 23.009683   \n",
       "178                                  10.027879   \n",
       "761                                  24.921836   \n",
       "8070                                 23.052559   \n",
       "6367                                 15.703430   \n",
       "\n",
       "      secondary_cleaner.state.floatbank5_a_level  \\\n",
       "7781                                 -500.251181   \n",
       "178                                  -600.928029   \n",
       "761                                  -440.627593   \n",
       "8070                                 -499.427570   \n",
       "6367                                 -497.902379   \n",
       "\n",
       "      secondary_cleaner.state.floatbank5_b_air  \\\n",
       "7781                                 20.000649   \n",
       "178                                   7.996522   \n",
       "761                                  21.019293   \n",
       "8070                                 20.000119   \n",
       "6367                                 11.992740   \n",
       "\n",
       "      secondary_cleaner.state.floatbank5_b_level  \\\n",
       "7781                                 -500.233923   \n",
       "178                                  -599.667334   \n",
       "761                                  -398.851405   \n",
       "8070                                 -499.615776   \n",
       "6367                                 -481.030624   \n",
       "\n",
       "      secondary_cleaner.state.floatbank6_a_air  \\\n",
       "7781                                 24.990165   \n",
       "178                                  11.967077   \n",
       "761                                  30.000457   \n",
       "8070                                 24.998340   \n",
       "6367                                 21.985938   \n",
       "\n",
       "      secondary_cleaner.state.floatbank6_a_level  \n",
       "7781                                 -600.290484  \n",
       "178                                  -600.415567  \n",
       "761                                  -390.122319  \n",
       "8070                                 -600.067146  \n",
       "6367                                 -497.914174  \n",
       "\n",
       "[5 rows x 87 columns]"
      ]
     },
     "execution_count": 4,
     "metadata": {},
     "output_type": "execute_result"
    }
   ],
   "source": [
    "df_full.sample(5)"
   ]
  },
  {
   "cell_type": "code",
   "execution_count": 5,
   "metadata": {},
   "outputs": [
    {
     "name": "stdout",
     "output_type": "stream",
     "text": [
      "<class 'pandas.core.frame.DataFrame'>\n",
      "RangeIndex: 19439 entries, 0 to 19438\n",
      "Data columns (total 87 columns):\n",
      "date                                                  19439 non-null object\n",
      "final.output.concentrate_ag                           19438 non-null float64\n",
      "final.output.concentrate_pb                           19438 non-null float64\n",
      "final.output.concentrate_sol                          19228 non-null float64\n",
      "final.output.concentrate_au                           19439 non-null float64\n",
      "final.output.recovery                                 19439 non-null float64\n",
      "final.output.tail_ag                                  19438 non-null float64\n",
      "final.output.tail_pb                                  19338 non-null float64\n",
      "final.output.tail_sol                                 19433 non-null float64\n",
      "final.output.tail_au                                  19439 non-null float64\n",
      "primary_cleaner.input.sulfate                         19415 non-null float64\n",
      "primary_cleaner.input.depressant                      19402 non-null float64\n",
      "primary_cleaner.input.feed_size                       19439 non-null float64\n",
      "primary_cleaner.input.xanthate                        19335 non-null float64\n",
      "primary_cleaner.output.concentrate_ag                 19439 non-null float64\n",
      "primary_cleaner.output.concentrate_pb                 19323 non-null float64\n",
      "primary_cleaner.output.concentrate_sol                19069 non-null float64\n",
      "primary_cleaner.output.concentrate_au                 19439 non-null float64\n",
      "primary_cleaner.output.tail_ag                        19435 non-null float64\n",
      "primary_cleaner.output.tail_pb                        19418 non-null float64\n",
      "primary_cleaner.output.tail_sol                       19377 non-null float64\n",
      "primary_cleaner.output.tail_au                        19439 non-null float64\n",
      "primary_cleaner.state.floatbank8_a_air                19435 non-null float64\n",
      "primary_cleaner.state.floatbank8_a_level              19438 non-null float64\n",
      "primary_cleaner.state.floatbank8_b_air                19435 non-null float64\n",
      "primary_cleaner.state.floatbank8_b_level              19438 non-null float64\n",
      "primary_cleaner.state.floatbank8_c_air                19437 non-null float64\n",
      "primary_cleaner.state.floatbank8_c_level              19438 non-null float64\n",
      "primary_cleaner.state.floatbank8_d_air                19436 non-null float64\n",
      "primary_cleaner.state.floatbank8_d_level              19438 non-null float64\n",
      "rougher.calculation.sulfate_to_au_concentrate         19437 non-null float64\n",
      "rougher.calculation.floatbank10_sulfate_to_au_feed    19437 non-null float64\n",
      "rougher.calculation.floatbank11_sulfate_to_au_feed    19437 non-null float64\n",
      "rougher.calculation.au_pb_ratio                       19439 non-null float64\n",
      "rougher.input.feed_ag                                 19439 non-null float64\n",
      "rougher.input.feed_pb                                 19339 non-null float64\n",
      "rougher.input.feed_rate                               19428 non-null float64\n",
      "rougher.input.feed_size                               19294 non-null float64\n",
      "rougher.input.feed_sol                                19340 non-null float64\n",
      "rougher.input.feed_au                                 19439 non-null float64\n",
      "rougher.input.floatbank10_sulfate                     19405 non-null float64\n",
      "rougher.input.floatbank10_xanthate                    19431 non-null float64\n",
      "rougher.input.floatbank11_sulfate                     19395 non-null float64\n",
      "rougher.input.floatbank11_xanthate                    18986 non-null float64\n",
      "rougher.output.concentrate_ag                         19439 non-null float64\n",
      "rougher.output.concentrate_pb                         19439 non-null float64\n",
      "rougher.output.concentrate_sol                        19416 non-null float64\n",
      "rougher.output.concentrate_au                         19439 non-null float64\n",
      "rougher.output.recovery                               19439 non-null float64\n",
      "rougher.output.tail_ag                                19438 non-null float64\n",
      "rougher.output.tail_pb                                19439 non-null float64\n",
      "rougher.output.tail_sol                               19439 non-null float64\n",
      "rougher.output.tail_au                                19439 non-null float64\n",
      "rougher.state.floatbank10_a_air                       19438 non-null float64\n",
      "rougher.state.floatbank10_a_level                     19438 non-null float64\n",
      "rougher.state.floatbank10_b_air                       19438 non-null float64\n",
      "rougher.state.floatbank10_b_level                     19438 non-null float64\n",
      "rougher.state.floatbank10_c_air                       19438 non-null float64\n",
      "rougher.state.floatbank10_c_level                     19438 non-null float64\n",
      "rougher.state.floatbank10_d_air                       19439 non-null float64\n",
      "rougher.state.floatbank10_d_level                     19439 non-null float64\n",
      "rougher.state.floatbank10_e_air                       19003 non-null float64\n",
      "rougher.state.floatbank10_e_level                     19439 non-null float64\n",
      "rougher.state.floatbank10_f_air                       19439 non-null float64\n",
      "rougher.state.floatbank10_f_level                     19439 non-null float64\n",
      "secondary_cleaner.output.tail_ag                      19437 non-null float64\n",
      "secondary_cleaner.output.tail_pb                      19427 non-null float64\n",
      "secondary_cleaner.output.tail_sol                     17691 non-null float64\n",
      "secondary_cleaner.output.tail_au                      19439 non-null float64\n",
      "secondary_cleaner.state.floatbank2_a_air              19219 non-null float64\n",
      "secondary_cleaner.state.floatbank2_a_level            19438 non-null float64\n",
      "secondary_cleaner.state.floatbank2_b_air              19416 non-null float64\n",
      "secondary_cleaner.state.floatbank2_b_level            19438 non-null float64\n",
      "secondary_cleaner.state.floatbank3_a_air              19426 non-null float64\n",
      "secondary_cleaner.state.floatbank3_a_level            19438 non-null float64\n",
      "secondary_cleaner.state.floatbank3_b_air              19438 non-null float64\n",
      "secondary_cleaner.state.floatbank3_b_level            19438 non-null float64\n",
      "secondary_cleaner.state.floatbank4_a_air              19433 non-null float64\n",
      "secondary_cleaner.state.floatbank4_a_level            19438 non-null float64\n",
      "secondary_cleaner.state.floatbank4_b_air              19438 non-null float64\n",
      "secondary_cleaner.state.floatbank4_b_level            19438 non-null float64\n",
      "secondary_cleaner.state.floatbank5_a_air              19438 non-null float64\n",
      "secondary_cleaner.state.floatbank5_a_level            19438 non-null float64\n",
      "secondary_cleaner.state.floatbank5_b_air              19438 non-null float64\n",
      "secondary_cleaner.state.floatbank5_b_level            19438 non-null float64\n",
      "secondary_cleaner.state.floatbank6_a_air              19437 non-null float64\n",
      "secondary_cleaner.state.floatbank6_a_level            19438 non-null float64\n",
      "dtypes: float64(86), object(1)\n",
      "memory usage: 12.9+ MB\n"
     ]
    }
   ],
   "source": [
    "df_full.info()"
   ]
  },
  {
   "cell_type": "code",
   "execution_count": 6,
   "metadata": {},
   "outputs": [],
   "source": [
    "df_full['date'] = pd.to_datetime(df_full['date'])\n",
    "df_test['date'] = pd.to_datetime(df_test['date'])\n",
    "df_train['date'] = pd.to_datetime(df_train['date'])"
   ]
  },
  {
   "cell_type": "code",
   "execution_count": 7,
   "metadata": {
    "scrolled": true
   },
   "outputs": [
    {
     "data": {
      "text/plain": [
       "secondary_cleaner.output.tail_sol           8.992232\n",
       "rougher.input.floatbank11_xanthate          2.330367\n",
       "rougher.state.floatbank10_e_air             2.242914\n",
       "primary_cleaner.output.concentrate_sol      1.903390\n",
       "secondary_cleaner.state.floatbank2_a_air    1.131745\n",
       "final.output.concentrate_sol                1.085447\n",
       "rougher.input.feed_size                     0.745923\n",
       "primary_cleaner.output.concentrate_pb       0.596739\n",
       "primary_cleaner.input.xanthate              0.535007\n",
       "final.output.tail_pb                        0.519574\n",
       "rougher.input.feed_pb                       0.514430\n",
       "rougher.input.feed_sol                      0.509285\n",
       "primary_cleaner.output.tail_sol             0.318946\n",
       "rougher.input.floatbank11_sulfate           0.226349\n",
       "primary_cleaner.input.depressant            0.190339\n",
       "rougher.input.floatbank10_sulfate           0.174906\n",
       "primary_cleaner.input.sulfate               0.123463\n",
       "secondary_cleaner.state.floatbank2_b_air    0.118319\n",
       "rougher.output.concentrate_sol              0.118319\n",
       "primary_cleaner.output.tail_pb              0.108030\n",
       "dtype: float64"
      ]
     },
     "execution_count": 7,
     "metadata": {},
     "output_type": "execute_result"
    }
   ],
   "source": [
    "df_full.isna().mean().sort_values(ascending = False).head(20)*100"
   ]
  },
  {
   "cell_type": "code",
   "execution_count": 8,
   "metadata": {},
   "outputs": [
    {
     "data": {
      "text/plain": [
       "82.79232470806112"
      ]
     },
     "execution_count": 8,
     "metadata": {},
     "output_type": "execute_result"
    }
   ],
   "source": [
    "100*df_full.dropna().shape[0]/df_full.shape[0]"
   ]
  },
  {
   "cell_type": "markdown",
   "metadata": {},
   "source": [
    "В данных можно выделить несколько блоков: \n",
    "- дата записи;\n",
    "- данные по флотации;\n",
    "- данные по первичной очистке;\n",
    "- данные по вторичной очистке;\n",
    "- данные по финальной очистке.\n",
    "В каждом из перечисленных блоков можно выделить следующие данные:\n",
    "- input — параметры сырья\n",
    "- output — параметры продукта\n",
    "- state — параметры, характеризующие текущее состояние этапа\n",
    "- calculation — расчётные характеристики.\n",
    "Кроме данных по основному продукту - золоту, также приводятся данные по серебру и свинцу. Но из представленных данных непонятно, происходит ли получение других продуктов кроме золота. \n",
    "В данных содержится достаточно много пропусков: если удалить все пропуски, то мы потеряем около 17 % данных. С учетом что выборка достаточно большая, возможно, удаление строк с пропусками рациональный путь решения задачи\n",
    "\n",
    "В результате первичного изучение данных можно отметить:\n",
    "- имеется достаточно много пропусков данных, а также нулевых значений;\n",
    "- дубликаты отсутствуют.\n",
    "\n"
   ]
  },
  {
   "cell_type": "markdown",
   "metadata": {},
   "source": [
    "### Расчет MAE между расчётами и значением признака от заказчика"
   ]
  },
  {
   "cell_type": "code",
   "execution_count": 9,
   "metadata": {},
   "outputs": [],
   "source": [
    "def eff_rec(row):\n",
    "    '''\n",
    "    Функция для расчета эффективности обогащения\n",
    "    На вход функция получает всю строку, но использует только следующие данные: \n",
    "    C — доля золота в концентрате после флотации/очистки;\n",
    "    F — доля золота в сырье/концентрате до флотации/очистки;\n",
    "    T — доля золота в отвальных хвостах после флотации/очистки.\n",
    "    На выходе функция расчитывает  эффективности обогащения руды в процентах\n",
    "    '''\n",
    "    F = row['rougher.input.feed_au']\n",
    "    C =  row['rougher.output.concentrate_au']\n",
    "    T = row['rougher.output.tail_au']\n",
    "    return 100*(C*(F-T))/(F*(C-T))"
   ]
  },
  {
   "attachments": {
    "image.png": {
     "image/png": "[encoded data removed]"
    }
   },
   "cell_type": "markdown",
   "metadata": {},
   "source": [
    "![image.png](attachment:image.png)"
   ]
  },
  {
   "cell_type": "code",
   "execution_count": 10,
   "metadata": {},
   "outputs": [],
   "source": [
    "df_train['rougher.output.recovery.exam'] = df_train.apply(eff_rec, axis = 1)"
   ]
  },
  {
   "cell_type": "code",
   "execution_count": 11,
   "metadata": {},
   "outputs": [
    {
     "name": "stdout",
     "output_type": "stream",
     "text": [
      "Значение MAE между расчётами и значением признака от заказчика, в процентах: 1.1100347049376097e-14\n"
     ]
    }
   ],
   "source": [
    "rez = mean_absolute_error(df_train['rougher.output.recovery.exam'], df_train['rougher.output.recovery'])\n",
    "print('Значение MAE между расчётами и значением признака от заказчика, в процентах:', rez)"
   ]
  },
  {
   "cell_type": "markdown",
   "metadata": {},
   "source": [
    "Результаты расчета эффективности обогащения и данных, приведенных в таблице от заказчика, совпадают с высокой долей точности. Разницей для реальных инженерных расчетов можно пренебречь."
   ]
  },
  {
   "cell_type": "code",
   "execution_count": 12,
   "metadata": {},
   "outputs": [],
   "source": [
    "# удалили временный столбец, который нужен был только для проверки\n",
    "df_train = df_train.drop(['rougher.output.recovery.exam'], axis = 1)"
   ]
  },
  {
   "cell_type": "markdown",
   "metadata": {},
   "source": [
    "### Анализ признаков, недоступные в тестовой выборке"
   ]
  },
  {
   "cell_type": "code",
   "execution_count": 13,
   "metadata": {},
   "outputs": [
    {
     "name": "stdout",
     "output_type": "stream",
     "text": [
      "['final.output.concentrate_ag', 'final.output.concentrate_au', 'final.output.concentrate_pb', 'final.output.concentrate_sol', 'final.output.recovery', 'final.output.tail_ag', 'final.output.tail_au', 'final.output.tail_pb', 'final.output.tail_sol', 'primary_cleaner.output.concentrate_ag', 'primary_cleaner.output.concentrate_au', 'primary_cleaner.output.concentrate_pb', 'primary_cleaner.output.concentrate_sol', 'primary_cleaner.output.tail_ag', 'primary_cleaner.output.tail_au', 'primary_cleaner.output.tail_pb', 'primary_cleaner.output.tail_sol', 'rougher.calculation.au_pb_ratio', 'rougher.calculation.floatbank10_sulfate_to_au_feed', 'rougher.calculation.floatbank11_sulfate_to_au_feed', 'rougher.calculation.sulfate_to_au_concentrate', 'rougher.output.concentrate_ag', 'rougher.output.concentrate_au', 'rougher.output.concentrate_pb', 'rougher.output.concentrate_sol', 'rougher.output.recovery', 'rougher.output.tail_ag', 'rougher.output.tail_au', 'rougher.output.tail_pb', 'rougher.output.tail_sol', 'secondary_cleaner.output.tail_ag', 'secondary_cleaner.output.tail_au', 'secondary_cleaner.output.tail_pb', 'secondary_cleaner.output.tail_sol']\n"
     ]
    }
   ],
   "source": [
    "lst_rez = list(set(df_full.columns)-set(df_test.columns))\n",
    "lst_rez = sorted(lst_rez)\n",
    "print(lst_rez)"
   ]
  },
  {
   "cell_type": "code",
   "execution_count": 14,
   "metadata": {},
   "outputs": [
    {
     "data": {
      "text/plain": [
       "{'final.output.concentrate_ag',\n",
       " 'final.output.concentrate_au',\n",
       " 'final.output.concentrate_pb',\n",
       " 'final.output.concentrate_sol',\n",
       " 'final.output.recovery',\n",
       " 'final.output.tail_ag',\n",
       " 'final.output.tail_au',\n",
       " 'final.output.tail_pb',\n",
       " 'final.output.tail_sol',\n",
       " 'primary_cleaner.output.concentrate_ag',\n",
       " 'primary_cleaner.output.concentrate_au',\n",
       " 'primary_cleaner.output.concentrate_pb',\n",
       " 'primary_cleaner.output.concentrate_sol',\n",
       " 'primary_cleaner.output.tail_ag',\n",
       " 'primary_cleaner.output.tail_au',\n",
       " 'primary_cleaner.output.tail_pb',\n",
       " 'primary_cleaner.output.tail_sol',\n",
       " 'rougher.calculation.au_pb_ratio',\n",
       " 'rougher.calculation.floatbank10_sulfate_to_au_feed',\n",
       " 'rougher.calculation.floatbank11_sulfate_to_au_feed',\n",
       " 'rougher.calculation.sulfate_to_au_concentrate',\n",
       " 'rougher.output.concentrate_ag',\n",
       " 'rougher.output.concentrate_au',\n",
       " 'rougher.output.concentrate_pb',\n",
       " 'rougher.output.concentrate_sol',\n",
       " 'rougher.output.recovery',\n",
       " 'rougher.output.tail_ag',\n",
       " 'rougher.output.tail_au',\n",
       " 'rougher.output.tail_pb',\n",
       " 'rougher.output.tail_sol',\n",
       " 'secondary_cleaner.output.tail_ag',\n",
       " 'secondary_cleaner.output.tail_au',\n",
       " 'secondary_cleaner.output.tail_pb',\n",
       " 'secondary_cleaner.output.tail_sol'}"
      ]
     },
     "execution_count": 14,
     "metadata": {},
     "output_type": "execute_result"
    }
   ],
   "source": [
    "set(df_train.columns)-set(df_test.columns)"
   ]
  },
  {
   "cell_type": "code",
   "execution_count": 15,
   "metadata": {},
   "outputs": [
    {
     "data": {
      "text/plain": [
       "set()"
      ]
     },
     "execution_count": 15,
     "metadata": {},
     "output_type": "execute_result"
    }
   ],
   "source": [
    "(set(df_full.columns)-set(df_test.columns))-(set(df_train.columns)-set(df_test.columns))"
   ]
  },
  {
   "cell_type": "code",
   "execution_count": 16,
   "metadata": {},
   "outputs": [
    {
     "data": {
      "text/plain": [
       "set()"
      ]
     },
     "execution_count": 16,
     "metadata": {},
     "output_type": "execute_result"
    }
   ],
   "source": [
    "set(df_full.columns)-set(df_train.columns)"
   ]
  },
  {
   "cell_type": "code",
   "execution_count": 17,
   "metadata": {},
   "outputs": [
    {
     "name": "stdout",
     "output_type": "stream",
     "text": [
      "Объем исходной выборки:                                         (19439, 87)\n",
      "Объем обучающей выборки(добавили столбец с проверкой расчетов): (14149, 87)\n",
      "Объем тестовой выборки:                                         (5290, 53)\n",
      "Объем тестовой и обучающей выборки:                             19439\n",
      "Отношение тестовой выборки к полному объему выборок:            27.2 %\n"
     ]
    }
   ],
   "source": [
    "print('Объем исходной выборки:                                        ',df_full.shape)\n",
    "print('Объем обучающей выборки(добавили столбец с проверкой расчетов):',df_train.shape)\n",
    "print('Объем тестовой выборки:                                        ',df_test.shape)\n",
    "print('Объем тестовой и обучающей выборки:                            ', df_test.shape[0] + df_train.shape[0] )\n",
    "print('Отношение тестовой выборки к полному объему выборок:           ', round(100*df_test.shape[0]/(df_train.shape[0]+df_test.shape[0]),1), '%')"
   ]
  },
  {
   "cell_type": "markdown",
   "metadata": {},
   "source": [
    "Первичный анализ данных:\n",
    "•\tв исходных данных и обучающей выборке есть одни и те же колонки;\n",
    "•\tв тестовой выборке и в обучающей выборке, а также в тестовой и исходной выборке не хватает одних и тех же колонок;\n",
    "•\tнедостающие колонки это C — доля золота в концентрате после флотации/очистки — доля золота в отвальных хвостах после флотации/очистки - данные для расчета метрик эффективности технологических этапов , а также 'final.output.recovery' (эффективность обогащения финального концентрата) и 'rougher.output.recovery' (эффективность обогащения чернового концентрата) - целевые показатели машинного обучения;\n",
    "•\tданные были разбиты заказчиком на тестовую и обучающую выборки в соотношении примерно 1 к 4, количество строк в тестовой + обучающей выборке совпадает с количеством строк в исходной выборке.\n",
    "\n"
   ]
  },
  {
   "cell_type": "markdown",
   "metadata": {},
   "source": [
    "### Оценка корреляции параметров "
   ]
  },
  {
   "cell_type": "code",
   "execution_count": 18,
   "metadata": {},
   "outputs": [
    {
     "data": {
      "text/html": [
       "<div>\n",
       "<style scoped>\n",
       "    .dataframe tbody tr th:only-of-type {\n",
       "        vertical-align: middle;\n",
       "    }\n",
       "\n",
       "    .dataframe tbody tr th {\n",
       "        vertical-align: top;\n",
       "    }\n",
       "\n",
       "    .dataframe thead th {\n",
       "        text-align: right;\n",
       "    }\n",
       "</style>\n",
       "<table border=\"1\" class=\"dataframe\">\n",
       "  <thead>\n",
       "    <tr style=\"text-align: right;\">\n",
       "      <th></th>\n",
       "      <th>final.output.concentrate_ag</th>\n",
       "      <th>final.output.concentrate_pb</th>\n",
       "      <th>final.output.concentrate_sol</th>\n",
       "      <th>final.output.concentrate_au</th>\n",
       "      <th>final.output.recovery</th>\n",
       "      <th>final.output.tail_ag</th>\n",
       "      <th>final.output.tail_pb</th>\n",
       "      <th>final.output.tail_sol</th>\n",
       "      <th>final.output.tail_au</th>\n",
       "      <th>primary_cleaner.input.sulfate</th>\n",
       "      <th>...</th>\n",
       "      <th>secondary_cleaner.state.floatbank4_a_air</th>\n",
       "      <th>secondary_cleaner.state.floatbank4_a_level</th>\n",
       "      <th>secondary_cleaner.state.floatbank4_b_air</th>\n",
       "      <th>secondary_cleaner.state.floatbank4_b_level</th>\n",
       "      <th>secondary_cleaner.state.floatbank5_a_air</th>\n",
       "      <th>secondary_cleaner.state.floatbank5_a_level</th>\n",
       "      <th>secondary_cleaner.state.floatbank5_b_air</th>\n",
       "      <th>secondary_cleaner.state.floatbank5_b_level</th>\n",
       "      <th>secondary_cleaner.state.floatbank6_a_air</th>\n",
       "      <th>secondary_cleaner.state.floatbank6_a_level</th>\n",
       "    </tr>\n",
       "  </thead>\n",
       "  <tbody>\n",
       "    <tr>\n",
       "      <td>final.output.recovery</td>\n",
       "      <td>0.185952</td>\n",
       "      <td>0.151987</td>\n",
       "      <td>0.265993</td>\n",
       "      <td>0.288568</td>\n",
       "      <td>1.000000</td>\n",
       "      <td>0.125986</td>\n",
       "      <td>-0.143094</td>\n",
       "      <td>-0.05028</td>\n",
       "      <td>-0.409200</td>\n",
       "      <td>0.366954</td>\n",
       "      <td>...</td>\n",
       "      <td>0.167059</td>\n",
       "      <td>0.031317</td>\n",
       "      <td>0.158557</td>\n",
       "      <td>-0.049973</td>\n",
       "      <td>0.067014</td>\n",
       "      <td>0.011871</td>\n",
       "      <td>0.052017</td>\n",
       "      <td>0.016480</td>\n",
       "      <td>-0.025192</td>\n",
       "      <td>-0.005305</td>\n",
       "    </tr>\n",
       "    <tr>\n",
       "      <td>rougher.output.recovery</td>\n",
       "      <td>0.084148</td>\n",
       "      <td>0.039732</td>\n",
       "      <td>0.138046</td>\n",
       "      <td>0.077312</td>\n",
       "      <td>0.327059</td>\n",
       "      <td>0.187328</td>\n",
       "      <td>0.072424</td>\n",
       "      <td>-0.04084</td>\n",
       "      <td>-0.104604</td>\n",
       "      <td>0.279260</td>\n",
       "      <td>...</td>\n",
       "      <td>0.212177</td>\n",
       "      <td>0.022431</td>\n",
       "      <td>0.227642</td>\n",
       "      <td>-0.035304</td>\n",
       "      <td>0.144985</td>\n",
       "      <td>0.013803</td>\n",
       "      <td>0.144236</td>\n",
       "      <td>0.035153</td>\n",
       "      <td>0.008058</td>\n",
       "      <td>-0.012089</td>\n",
       "    </tr>\n",
       "  </tbody>\n",
       "</table>\n",
       "<p>2 rows × 86 columns</p>\n",
       "</div>"
      ],
      "text/plain": [
       "                         final.output.concentrate_ag  \\\n",
       "final.output.recovery                       0.185952   \n",
       "rougher.output.recovery                     0.084148   \n",
       "\n",
       "                         final.output.concentrate_pb  \\\n",
       "final.output.recovery                       0.151987   \n",
       "rougher.output.recovery                     0.039732   \n",
       "\n",
       "                         final.output.concentrate_sol  \\\n",
       "final.output.recovery                        0.265993   \n",
       "rougher.output.recovery                      0.138046   \n",
       "\n",
       "                         final.output.concentrate_au  final.output.recovery  \\\n",
       "final.output.recovery                       0.288568               1.000000   \n",
       "rougher.output.recovery                     0.077312               0.327059   \n",
       "\n",
       "                         final.output.tail_ag  final.output.tail_pb  \\\n",
       "final.output.recovery                0.125986             -0.143094   \n",
       "rougher.output.recovery              0.187328              0.072424   \n",
       "\n",
       "                         final.output.tail_sol  final.output.tail_au  \\\n",
       "final.output.recovery                 -0.05028             -0.409200   \n",
       "rougher.output.recovery               -0.04084             -0.104604   \n",
       "\n",
       "                         primary_cleaner.input.sulfate  ...  \\\n",
       "final.output.recovery                         0.366954  ...   \n",
       "rougher.output.recovery                       0.279260  ...   \n",
       "\n",
       "                         secondary_cleaner.state.floatbank4_a_air  \\\n",
       "final.output.recovery                                    0.167059   \n",
       "rougher.output.recovery                                  0.212177   \n",
       "\n",
       "                         secondary_cleaner.state.floatbank4_a_level  \\\n",
       "final.output.recovery                                      0.031317   \n",
       "rougher.output.recovery                                    0.022431   \n",
       "\n",
       "                         secondary_cleaner.state.floatbank4_b_air  \\\n",
       "final.output.recovery                                    0.158557   \n",
       "rougher.output.recovery                                  0.227642   \n",
       "\n",
       "                         secondary_cleaner.state.floatbank4_b_level  \\\n",
       "final.output.recovery                                     -0.049973   \n",
       "rougher.output.recovery                                   -0.035304   \n",
       "\n",
       "                         secondary_cleaner.state.floatbank5_a_air  \\\n",
       "final.output.recovery                                    0.067014   \n",
       "rougher.output.recovery                                  0.144985   \n",
       "\n",
       "                         secondary_cleaner.state.floatbank5_a_level  \\\n",
       "final.output.recovery                                      0.011871   \n",
       "rougher.output.recovery                                    0.013803   \n",
       "\n",
       "                         secondary_cleaner.state.floatbank5_b_air  \\\n",
       "final.output.recovery                                    0.052017   \n",
       "rougher.output.recovery                                  0.144236   \n",
       "\n",
       "                         secondary_cleaner.state.floatbank5_b_level  \\\n",
       "final.output.recovery                                      0.016480   \n",
       "rougher.output.recovery                                    0.035153   \n",
       "\n",
       "                         secondary_cleaner.state.floatbank6_a_air  \\\n",
       "final.output.recovery                                   -0.025192   \n",
       "rougher.output.recovery                                  0.008058   \n",
       "\n",
       "                         secondary_cleaner.state.floatbank6_a_level  \n",
       "final.output.recovery                                     -0.005305  \n",
       "rougher.output.recovery                                   -0.012089  \n",
       "\n",
       "[2 rows x 86 columns]"
      ]
     },
     "execution_count": 18,
     "metadata": {},
     "output_type": "execute_result"
    }
   ],
   "source": [
    "df_full.corr().iloc[[4, 47]]"
   ]
  },
  {
   "cell_type": "code",
   "execution_count": 19,
   "metadata": {},
   "outputs": [
    {
     "data": {
      "text/html": [
       "<div>\n",
       "<style scoped>\n",
       "    .dataframe tbody tr th:only-of-type {\n",
       "        vertical-align: middle;\n",
       "    }\n",
       "\n",
       "    .dataframe tbody tr th {\n",
       "        vertical-align: top;\n",
       "    }\n",
       "\n",
       "    .dataframe thead th {\n",
       "        text-align: right;\n",
       "    }\n",
       "</style>\n",
       "<table border=\"1\" class=\"dataframe\">\n",
       "  <thead>\n",
       "    <tr style=\"text-align: right;\">\n",
       "      <th></th>\n",
       "      <th>final.output.recovery</th>\n",
       "    </tr>\n",
       "  </thead>\n",
       "  <tbody>\n",
       "    <tr>\n",
       "      <td>final.output.recovery</td>\n",
       "      <td>1.0</td>\n",
       "    </tr>\n",
       "  </tbody>\n",
       "</table>\n",
       "</div>"
      ],
      "text/plain": [
       "                       final.output.recovery\n",
       "final.output.recovery                    1.0"
      ]
     },
     "execution_count": 19,
     "metadata": {},
     "output_type": "execute_result"
    }
   ],
   "source": [
    "df_corr = df_full.corr().iloc[[4, 47]].T\n",
    "df_corr[df_corr['final.output.recovery']>0.5]['final.output.recovery'].to_frame()"
   ]
  },
  {
   "cell_type": "code",
   "execution_count": 20,
   "metadata": {},
   "outputs": [
    {
     "data": {
      "text/html": [
       "<div>\n",
       "<style scoped>\n",
       "    .dataframe tbody tr th:only-of-type {\n",
       "        vertical-align: middle;\n",
       "    }\n",
       "\n",
       "    .dataframe tbody tr th {\n",
       "        vertical-align: top;\n",
       "    }\n",
       "\n",
       "    .dataframe thead th {\n",
       "        text-align: right;\n",
       "    }\n",
       "</style>\n",
       "<table border=\"1\" class=\"dataframe\">\n",
       "  <thead>\n",
       "    <tr style=\"text-align: right;\">\n",
       "      <th></th>\n",
       "      <th>rougher.output.recovery</th>\n",
       "    </tr>\n",
       "  </thead>\n",
       "  <tbody>\n",
       "    <tr>\n",
       "      <td>rougher.output.concentrate_ag</td>\n",
       "      <td>0.661330</td>\n",
       "    </tr>\n",
       "    <tr>\n",
       "      <td>rougher.output.concentrate_pb</td>\n",
       "      <td>0.552622</td>\n",
       "    </tr>\n",
       "    <tr>\n",
       "      <td>rougher.output.concentrate_sol</td>\n",
       "      <td>0.604420</td>\n",
       "    </tr>\n",
       "    <tr>\n",
       "      <td>rougher.output.concentrate_au</td>\n",
       "      <td>0.579638</td>\n",
       "    </tr>\n",
       "    <tr>\n",
       "      <td>rougher.output.recovery</td>\n",
       "      <td>1.000000</td>\n",
       "    </tr>\n",
       "  </tbody>\n",
       "</table>\n",
       "</div>"
      ],
      "text/plain": [
       "                                rougher.output.recovery\n",
       "rougher.output.concentrate_ag                  0.661330\n",
       "rougher.output.concentrate_pb                  0.552622\n",
       "rougher.output.concentrate_sol                 0.604420\n",
       "rougher.output.concentrate_au                  0.579638\n",
       "rougher.output.recovery                        1.000000"
      ]
     },
     "execution_count": 20,
     "metadata": {},
     "output_type": "execute_result"
    }
   ],
   "source": [
    "df_corr[df_corr['rougher.output.recovery']>0.5]['rougher.output.recovery'].to_frame()"
   ]
  },
  {
   "cell_type": "markdown",
   "metadata": {},
   "source": [
    "Подсчитали корреляцию для эффективности обогащения для флотации руды и для финального концентрата. Для финального концентрата значимой корреляции не выявлено. Для флотации руды выявлены значимые корреляции со следующими параметрами: концентрация серебра после флотации, концентрация свинца после флотации, концентрация золей(sol) после флотации и концентрация золота после флотации. Последнее весьма ожидаемо."
   ]
  },
  {
   "cell_type": "markdown",
   "metadata": {},
   "source": [
    "### Предобработка данных"
   ]
  },
  {
   "cell_type": "markdown",
   "metadata": {},
   "source": [
    "**Заполнения методом fillna не давало хороших результатов, так как пропуски идут подряд в большом количестве. Замена методом ближайшего соседа не работает по причине того, что в тренажере Яндекса устаревшая версия библиотек. Поэтому было принято решение просто удалить все пропуски, что дало наилучший результат**  \n"
   ]
  },
  {
   "cell_type": "code",
   "execution_count": 21,
   "metadata": {},
   "outputs": [],
   "source": [
    "df_train = df_train.dropna()\n",
    "df_full = df_full.dropna()\n",
    "df_test = df_test.dropna()\n"
   ]
  },
  {
   "cell_type": "code",
   "execution_count": 22,
   "metadata": {},
   "outputs": [],
   "source": [
    "# добавим в тестовую выборку целевые признаки\n",
    "df_test = df_test.merge(df_full[['date', 'rougher.output.recovery', 'final.output.recovery']], \n",
    "                           how = 'left', on = 'date')"
   ]
  },
  {
   "cell_type": "markdown",
   "metadata": {},
   "source": [
    "## Анализ данных"
   ]
  },
  {
   "cell_type": "markdown",
   "metadata": {},
   "source": [
    "### Анализ концентрации металлов (Au, Ag, Pb) на различных этапах очистки"
   ]
  },
  {
   "cell_type": "code",
   "execution_count": 23,
   "metadata": {},
   "outputs": [],
   "source": [
    "au_concentrate_columns = ['rougher.output.concentrate_au', 'primary_cleaner.output.concentrate_au', 'final.output.concentrate_au']\n",
    "ag_concentrate_columns = ['rougher.output.concentrate_ag', 'primary_cleaner.output.concentrate_ag', 'final.output.concentrate_ag']\n",
    "pb_concentrate_columns = ['rougher.output.concentrate_pb', 'primary_cleaner.output.concentrate_pb', 'final.output.concentrate_pb']"
   ]
  },
  {
   "cell_type": "code",
   "execution_count": 24,
   "metadata": {},
   "outputs": [
    {
     "data": {
      "image/png": "[encoded data removed]",
      "text/plain": [
       "<Figure size 864x1080 with 3 Axes>"
      ]
     },
     "metadata": {
      "needs_background": "light"
     },
     "output_type": "display_data"
    }
   ],
   "source": [
    "ALPHA = 0.5\n",
    "BINS  = 200\n",
    "COLORS = ['sienna', 'lime', 'royalblue']\n",
    "\n",
    "fig, ax = plt.subplots(3, 1)\n",
    "fig.set_size_inches(12, 15)\n",
    "ax[0].set_title(f\"Concentrate of metals\", fontsize=16)\n",
    "\n",
    "patches = []\n",
    "for clmn, color in zip(au_concentrate_columns, COLORS):\n",
    "    ax[0].hist(df_full[clmn], density=True, color=color, bins=BINS, alpha=ALPHA)\n",
    "    patches.append(mpatches.Patch(color=color, label=clmn.split('.')[0]))\n",
    "ax[0].grid(True)\n",
    "ax[0].set_xlabel(f\"Au\", fontsize=14)\n",
    "ax[0].set_ylabel('Count', fontsize=14)\n",
    "ax[0].legend(handles=patches, loc='upper left')\n",
    "\n",
    "for clmn, color in zip(ag_concentrate_columns, COLORS):\n",
    "    ax[1].hist(df_full[clmn], density=True, color=color, bins=BINS, alpha=ALPHA)\n",
    "ax[1].grid(True)\n",
    "ax[1].set_xlabel(f\"Ag\", fontsize=14)\n",
    "ax[1].set_ylabel('Count', fontsize=14)\n",
    "ax[1].legend(handles=patches, loc='upper right')\n",
    "\n",
    "for clmn, color in zip(pb_concentrate_columns, COLORS):\n",
    "    ax[2].hist(df_full[clmn], density=True, color=color, bins=BINS, alpha=ALPHA)\n",
    "ax[2].grid(True)\n",
    "ax[2].set_xlabel(f\"Pb\", fontsize=14)\n",
    "ax[2].set_ylabel('Count', fontsize=14)\n",
    "ax[2].legend(handles=patches, loc='upper right')\n",
    "\n",
    "plt.subplots_adjust(hspace=0.25)\n",
    "plt.show()"
   ]
  },
  {
   "cell_type": "code",
   "execution_count": 25,
   "metadata": {},
   "outputs": [
    {
     "data": {
      "text/html": [
       "<div>\n",
       "<style scoped>\n",
       "    .dataframe tbody tr th:only-of-type {\n",
       "        vertical-align: middle;\n",
       "    }\n",
       "\n",
       "    .dataframe tbody tr th {\n",
       "        vertical-align: top;\n",
       "    }\n",
       "\n",
       "    .dataframe thead th {\n",
       "        text-align: right;\n",
       "    }\n",
       "</style>\n",
       "<table border=\"1\" class=\"dataframe\">\n",
       "  <thead>\n",
       "    <tr style=\"text-align: right;\">\n",
       "      <th></th>\n",
       "      <th>rougher.output.concentrate_au</th>\n",
       "      <th>primary_cleaner.output.concentrate_au</th>\n",
       "      <th>final.output.concentrate_au</th>\n",
       "    </tr>\n",
       "  </thead>\n",
       "  <tbody>\n",
       "    <tr>\n",
       "      <td>count</td>\n",
       "      <td>16094.000000</td>\n",
       "      <td>16094.000000</td>\n",
       "      <td>16094.000000</td>\n",
       "    </tr>\n",
       "    <tr>\n",
       "      <td>mean</td>\n",
       "      <td>20.052152</td>\n",
       "      <td>32.065559</td>\n",
       "      <td>44.307437</td>\n",
       "    </tr>\n",
       "    <tr>\n",
       "      <td>std</td>\n",
       "      <td>3.620905</td>\n",
       "      <td>5.205760</td>\n",
       "      <td>4.210135</td>\n",
       "    </tr>\n",
       "    <tr>\n",
       "      <td>min</td>\n",
       "      <td>0.000000</td>\n",
       "      <td>0.000000</td>\n",
       "      <td>0.000000</td>\n",
       "    </tr>\n",
       "    <tr>\n",
       "      <td>25%</td>\n",
       "      <td>19.142941</td>\n",
       "      <td>30.299696</td>\n",
       "      <td>43.431184</td>\n",
       "    </tr>\n",
       "    <tr>\n",
       "      <td>50%</td>\n",
       "      <td>20.507430</td>\n",
       "      <td>32.643752</td>\n",
       "      <td>44.986391</td>\n",
       "    </tr>\n",
       "    <tr>\n",
       "      <td>75%</td>\n",
       "      <td>21.916971</td>\n",
       "      <td>34.828516</td>\n",
       "      <td>46.253912</td>\n",
       "    </tr>\n",
       "    <tr>\n",
       "      <td>max</td>\n",
       "      <td>28.824507</td>\n",
       "      <td>45.933934</td>\n",
       "      <td>51.571885</td>\n",
       "    </tr>\n",
       "  </tbody>\n",
       "</table>\n",
       "</div>"
      ],
      "text/plain": [
       "       rougher.output.concentrate_au  primary_cleaner.output.concentrate_au  \\\n",
       "count                   16094.000000                           16094.000000   \n",
       "mean                       20.052152                              32.065559   \n",
       "std                         3.620905                               5.205760   \n",
       "min                         0.000000                               0.000000   \n",
       "25%                        19.142941                              30.299696   \n",
       "50%                        20.507430                              32.643752   \n",
       "75%                        21.916971                              34.828516   \n",
       "max                        28.824507                              45.933934   \n",
       "\n",
       "       final.output.concentrate_au  \n",
       "count                 16094.000000  \n",
       "mean                     44.307437  \n",
       "std                       4.210135  \n",
       "min                       0.000000  \n",
       "25%                      43.431184  \n",
       "50%                      44.986391  \n",
       "75%                      46.253912  \n",
       "max                      51.571885  "
      ]
     },
     "execution_count": 25,
     "metadata": {},
     "output_type": "execute_result"
    }
   ],
   "source": [
    "df_full[au_concentrate_columns].describe()"
   ]
  },
  {
   "cell_type": "code",
   "execution_count": 26,
   "metadata": {},
   "outputs": [
    {
     "data": {
      "text/html": [
       "<div>\n",
       "<style scoped>\n",
       "    .dataframe tbody tr th:only-of-type {\n",
       "        vertical-align: middle;\n",
       "    }\n",
       "\n",
       "    .dataframe tbody tr th {\n",
       "        vertical-align: top;\n",
       "    }\n",
       "\n",
       "    .dataframe thead th {\n",
       "        text-align: right;\n",
       "    }\n",
       "</style>\n",
       "<table border=\"1\" class=\"dataframe\">\n",
       "  <thead>\n",
       "    <tr style=\"text-align: right;\">\n",
       "      <th></th>\n",
       "      <th>rougher.output.concentrate_ag</th>\n",
       "      <th>primary_cleaner.output.concentrate_ag</th>\n",
       "      <th>final.output.concentrate_ag</th>\n",
       "    </tr>\n",
       "  </thead>\n",
       "  <tbody>\n",
       "    <tr>\n",
       "      <td>count</td>\n",
       "      <td>16094.000000</td>\n",
       "      <td>16094.000000</td>\n",
       "      <td>16094.000000</td>\n",
       "    </tr>\n",
       "    <tr>\n",
       "      <td>mean</td>\n",
       "      <td>12.084945</td>\n",
       "      <td>8.674853</td>\n",
       "      <td>5.190976</td>\n",
       "    </tr>\n",
       "    <tr>\n",
       "      <td>std</td>\n",
       "      <td>2.697948</td>\n",
       "      <td>1.944943</td>\n",
       "      <td>1.333257</td>\n",
       "    </tr>\n",
       "    <tr>\n",
       "      <td>min</td>\n",
       "      <td>0.000000</td>\n",
       "      <td>0.000000</td>\n",
       "      <td>0.000000</td>\n",
       "    </tr>\n",
       "    <tr>\n",
       "      <td>25%</td>\n",
       "      <td>10.664288</td>\n",
       "      <td>7.531083</td>\n",
       "      <td>4.277722</td>\n",
       "    </tr>\n",
       "    <tr>\n",
       "      <td>50%</td>\n",
       "      <td>12.232367</td>\n",
       "      <td>8.723466</td>\n",
       "      <td>5.083578</td>\n",
       "    </tr>\n",
       "    <tr>\n",
       "      <td>75%</td>\n",
       "      <td>13.835104</td>\n",
       "      <td>9.955605</td>\n",
       "      <td>5.894149</td>\n",
       "    </tr>\n",
       "    <tr>\n",
       "      <td>max</td>\n",
       "      <td>21.725695</td>\n",
       "      <td>15.005789</td>\n",
       "      <td>16.001945</td>\n",
       "    </tr>\n",
       "  </tbody>\n",
       "</table>\n",
       "</div>"
      ],
      "text/plain": [
       "       rougher.output.concentrate_ag  primary_cleaner.output.concentrate_ag  \\\n",
       "count                   16094.000000                           16094.000000   \n",
       "mean                       12.084945                               8.674853   \n",
       "std                         2.697948                               1.944943   \n",
       "min                         0.000000                               0.000000   \n",
       "25%                        10.664288                               7.531083   \n",
       "50%                        12.232367                               8.723466   \n",
       "75%                        13.835104                               9.955605   \n",
       "max                        21.725695                              15.005789   \n",
       "\n",
       "       final.output.concentrate_ag  \n",
       "count                 16094.000000  \n",
       "mean                      5.190976  \n",
       "std                       1.333257  \n",
       "min                       0.000000  \n",
       "25%                       4.277722  \n",
       "50%                       5.083578  \n",
       "75%                       5.894149  \n",
       "max                      16.001945  "
      ]
     },
     "execution_count": 26,
     "metadata": {},
     "output_type": "execute_result"
    }
   ],
   "source": [
    "df_full[ag_concentrate_columns].describe()"
   ]
  },
  {
   "cell_type": "code",
   "execution_count": 27,
   "metadata": {},
   "outputs": [
    {
     "data": {
      "text/html": [
       "<div>\n",
       "<style scoped>\n",
       "    .dataframe tbody tr th:only-of-type {\n",
       "        vertical-align: middle;\n",
       "    }\n",
       "\n",
       "    .dataframe tbody tr th {\n",
       "        vertical-align: top;\n",
       "    }\n",
       "\n",
       "    .dataframe thead th {\n",
       "        text-align: right;\n",
       "    }\n",
       "</style>\n",
       "<table border=\"1\" class=\"dataframe\">\n",
       "  <thead>\n",
       "    <tr style=\"text-align: right;\">\n",
       "      <th></th>\n",
       "      <th>rougher.output.concentrate_pb</th>\n",
       "      <th>primary_cleaner.output.concentrate_pb</th>\n",
       "      <th>final.output.concentrate_pb</th>\n",
       "    </tr>\n",
       "  </thead>\n",
       "  <tbody>\n",
       "    <tr>\n",
       "      <td>count</td>\n",
       "      <td>16094.000000</td>\n",
       "      <td>16094.000000</td>\n",
       "      <td>16094.000000</td>\n",
       "    </tr>\n",
       "    <tr>\n",
       "      <td>mean</td>\n",
       "      <td>7.553095</td>\n",
       "      <td>9.884018</td>\n",
       "      <td>9.997593</td>\n",
       "    </tr>\n",
       "    <tr>\n",
       "      <td>std</td>\n",
       "      <td>1.688073</td>\n",
       "      <td>2.402325</td>\n",
       "      <td>1.568785</td>\n",
       "    </tr>\n",
       "    <tr>\n",
       "      <td>min</td>\n",
       "      <td>0.000000</td>\n",
       "      <td>0.000000</td>\n",
       "      <td>0.000000</td>\n",
       "    </tr>\n",
       "    <tr>\n",
       "      <td>25%</td>\n",
       "      <td>6.696978</td>\n",
       "      <td>8.822906</td>\n",
       "      <td>9.103183</td>\n",
       "    </tr>\n",
       "    <tr>\n",
       "      <td>50%</td>\n",
       "      <td>7.698308</td>\n",
       "      <td>10.182557</td>\n",
       "      <td>10.092386</td>\n",
       "    </tr>\n",
       "    <tr>\n",
       "      <td>75%</td>\n",
       "      <td>8.510786</td>\n",
       "      <td>11.399084</td>\n",
       "      <td>11.030644</td>\n",
       "    </tr>\n",
       "    <tr>\n",
       "      <td>max</td>\n",
       "      <td>12.702148</td>\n",
       "      <td>17.081278</td>\n",
       "      <td>17.031899</td>\n",
       "    </tr>\n",
       "  </tbody>\n",
       "</table>\n",
       "</div>"
      ],
      "text/plain": [
       "       rougher.output.concentrate_pb  primary_cleaner.output.concentrate_pb  \\\n",
       "count                   16094.000000                           16094.000000   \n",
       "mean                        7.553095                               9.884018   \n",
       "std                         1.688073                               2.402325   \n",
       "min                         0.000000                               0.000000   \n",
       "25%                         6.696978                               8.822906   \n",
       "50%                         7.698308                              10.182557   \n",
       "75%                         8.510786                              11.399084   \n",
       "max                        12.702148                              17.081278   \n",
       "\n",
       "       final.output.concentrate_pb  \n",
       "count                 16094.000000  \n",
       "mean                      9.997593  \n",
       "std                       1.568785  \n",
       "min                       0.000000  \n",
       "25%                       9.103183  \n",
       "50%                      10.092386  \n",
       "75%                      11.030644  \n",
       "max                      17.031899  "
      ]
     },
     "execution_count": 27,
     "metadata": {},
     "output_type": "execute_result"
    }
   ],
   "source": [
    "df_full[pb_concentrate_columns].describe()"
   ]
  },
  {
   "cell_type": "markdown",
   "metadata": {},
   "source": [
    "Удалим выбросы для концентрации золота, так как это целевой индикатор и выбросы могут ухудшить качество модели"
   ]
  },
  {
   "cell_type": "code",
   "execution_count": 28,
   "metadata": {},
   "outputs": [],
   "source": [
    "df_full = df_full[\n",
    "    (df_full['rougher.output.concentrate_au'] >  5) & \n",
    "    (df_full['primary_cleaner.output.concentrate_au'] > 10) & \n",
    "    (df_full['final.output.concentrate_au'] > 20)\n",
    "]\n"
   ]
  },
  {
   "cell_type": "code",
   "execution_count": 29,
   "metadata": {},
   "outputs": [
    {
     "data": {
      "image/png": "[encoded data removed]",
      "text/plain": [
       "<Figure size 864x1080 with 3 Axes>"
      ]
     },
     "metadata": {
      "needs_background": "light"
     },
     "output_type": "display_data"
    }
   ],
   "source": [
    "ALPHA = 0.5\n",
    "BINS  = 200\n",
    "COLORS = ['sienna', 'lime', 'royalblue']\n",
    "\n",
    "fig, ax = plt.subplots(3, 1)\n",
    "fig.set_size_inches(12, 15)\n",
    "ax[0].set_title(f\"Concentrate of metals\", fontsize=16)\n",
    "\n",
    "patches = []\n",
    "for clmn, color in zip(au_concentrate_columns, COLORS):\n",
    "    ax[0].hist(df_full[clmn], density=True, color=color, bins=BINS, alpha=ALPHA)\n",
    "    patches.append(mpatches.Patch(color=color, label=clmn.split('.')[0]))\n",
    "ax[0].grid(True)\n",
    "ax[0].set_xlabel(f\"Au\", fontsize=14)\n",
    "ax[0].set_ylabel('Count', fontsize=14)\n",
    "ax[0].legend(handles=patches, loc='upper left')\n",
    "\n",
    "for clmn, color in zip(ag_concentrate_columns, COLORS):\n",
    "    ax[1].hist(df_full[clmn], density=True, color=color, bins=BINS, alpha=ALPHA)\n",
    "ax[1].grid(True)\n",
    "ax[1].set_xlabel(f\"Ag\", fontsize=14)\n",
    "ax[1].set_ylabel('Count', fontsize=14)\n",
    "ax[1].legend(handles=patches, loc='upper right')\n",
    "\n",
    "for clmn, color in zip(pb_concentrate_columns, COLORS):\n",
    "    ax[2].hist(df_full[clmn], density=True, color=color, bins=BINS, alpha=ALPHA)\n",
    "ax[2].grid(True)\n",
    "ax[2].set_xlabel(f\"Pb\", fontsize=14)\n",
    "ax[2].set_ylabel('Count', fontsize=14)\n",
    "ax[2].legend(handles=patches, loc='upper right')\n",
    "\n",
    "plt.subplots_adjust(hspace=0.25)\n",
    "plt.show()"
   ]
  },
  {
   "cell_type": "markdown",
   "metadata": {},
   "source": [
    "Из анализа графиков и статистик можно сделать следующие выводы:\n",
    "- Доля золота на каждом этапе увеличивается, что отвечает цели пройзводства по извлечению золота;\n",
    "- Доля серебра снижается в ходе технологического процесса;\n",
    "- Доля свинца после флотации возрастает, а на последующих этапах не изменяется;\n",
    "- Для золота наблюдались выбросы, выбросы удалили. "
   ]
  },
  {
   "cell_type": "markdown",
   "metadata": {},
   "source": [
    "### Анализ распределения размеров гранул сырья на обучающей и тестовой выборках"
   ]
  },
  {
   "cell_type": "code",
   "execution_count": 30,
   "metadata": {},
   "outputs": [],
   "source": [
    "feed_sizes = ['rougher.input.feed_size', 'primary_cleaner.input.feed_size']"
   ]
  },
  {
   "cell_type": "code",
   "execution_count": 31,
   "metadata": {},
   "outputs": [
    {
     "data": {
      "text/html": [
       "<div>\n",
       "<style scoped>\n",
       "    .dataframe tbody tr th:only-of-type {\n",
       "        vertical-align: middle;\n",
       "    }\n",
       "\n",
       "    .dataframe tbody tr th {\n",
       "        vertical-align: top;\n",
       "    }\n",
       "\n",
       "    .dataframe thead th {\n",
       "        text-align: right;\n",
       "    }\n",
       "</style>\n",
       "<table border=\"1\" class=\"dataframe\">\n",
       "  <thead>\n",
       "    <tr style=\"text-align: right;\">\n",
       "      <th></th>\n",
       "      <th>train_rougher.input.feed_size</th>\n",
       "      <th>test_rougher.input.feed_size</th>\n",
       "      <th>train_primary_cleaner.input.feed_size</th>\n",
       "      <th>test_primary_cleaner.input.feed_size</th>\n",
       "    </tr>\n",
       "  </thead>\n",
       "  <tbody>\n",
       "    <tr>\n",
       "      <td>count</td>\n",
       "      <td>11017.000000</td>\n",
       "      <td>5229.000000</td>\n",
       "      <td>11017.000000</td>\n",
       "      <td>5229.000000</td>\n",
       "    </tr>\n",
       "    <tr>\n",
       "      <td>mean</td>\n",
       "      <td>57.215128</td>\n",
       "      <td>55.863978</td>\n",
       "      <td>7.396036</td>\n",
       "      <td>7.271546</td>\n",
       "    </tr>\n",
       "    <tr>\n",
       "      <td>std</td>\n",
       "      <td>18.913146</td>\n",
       "      <td>18.914656</td>\n",
       "      <td>0.575317</td>\n",
       "      <td>0.605887</td>\n",
       "    </tr>\n",
       "    <tr>\n",
       "      <td>min</td>\n",
       "      <td>9.659576</td>\n",
       "      <td>0.046369</td>\n",
       "      <td>1.080000</td>\n",
       "      <td>5.650000</td>\n",
       "    </tr>\n",
       "    <tr>\n",
       "      <td>25%</td>\n",
       "      <td>48.397242</td>\n",
       "      <td>43.911874</td>\n",
       "      <td>7.030000</td>\n",
       "      <td>6.900000</td>\n",
       "    </tr>\n",
       "    <tr>\n",
       "      <td>50%</td>\n",
       "      <td>53.843359</td>\n",
       "      <td>50.772729</td>\n",
       "      <td>7.323334</td>\n",
       "      <td>7.250000</td>\n",
       "    </tr>\n",
       "    <tr>\n",
       "      <td>75%</td>\n",
       "      <td>61.461770</td>\n",
       "      <td>62.265394</td>\n",
       "      <td>7.740000</td>\n",
       "      <td>7.600000</td>\n",
       "    </tr>\n",
       "    <tr>\n",
       "      <td>max</td>\n",
       "      <td>484.967466</td>\n",
       "      <td>392.494040</td>\n",
       "      <td>10.470000</td>\n",
       "      <td>15.500000</td>\n",
       "    </tr>\n",
       "  </tbody>\n",
       "</table>\n",
       "</div>"
      ],
      "text/plain": [
       "       train_rougher.input.feed_size  test_rougher.input.feed_size  \\\n",
       "count                   11017.000000                   5229.000000   \n",
       "mean                       57.215128                     55.863978   \n",
       "std                        18.913146                     18.914656   \n",
       "min                         9.659576                      0.046369   \n",
       "25%                        48.397242                     43.911874   \n",
       "50%                        53.843359                     50.772729   \n",
       "75%                        61.461770                     62.265394   \n",
       "max                       484.967466                    392.494040   \n",
       "\n",
       "       train_primary_cleaner.input.feed_size  \\\n",
       "count                           11017.000000   \n",
       "mean                                7.396036   \n",
       "std                                 0.575317   \n",
       "min                                 1.080000   \n",
       "25%                                 7.030000   \n",
       "50%                                 7.323334   \n",
       "75%                                 7.740000   \n",
       "max                                10.470000   \n",
       "\n",
       "       test_primary_cleaner.input.feed_size  \n",
       "count                           5229.000000  \n",
       "mean                               7.271546  \n",
       "std                                0.605887  \n",
       "min                                5.650000  \n",
       "25%                                6.900000  \n",
       "50%                                7.250000  \n",
       "75%                                7.600000  \n",
       "max                               15.500000  "
      ]
     },
     "execution_count": 31,
     "metadata": {},
     "output_type": "execute_result"
    }
   ],
   "source": [
    "d = pd.concat([df_train[feed_sizes].describe(), df_test[feed_sizes].describe()], axis=1)\n",
    "d.columns = ['train_rougher.input.feed_size', 'train_primary_cleaner.input.feed_size',\n",
    "       'test_rougher.input.feed_size', 'test_primary_cleaner.input.feed_size']\n",
    "\n",
    "d[['train_rougher.input.feed_size','test_rougher.input.feed_size','train_primary_cleaner.input.feed_size','test_primary_cleaner.input.feed_size']]"
   ]
  },
  {
   "cell_type": "code",
   "execution_count": 32,
   "metadata": {},
   "outputs": [
    {
     "data": {
      "image/png": "[encoded data removed]",
      "text/plain": [
       "<Figure size 576x864 with 2 Axes>"
      ]
     },
     "metadata": {
      "needs_background": "light"
     },
     "output_type": "display_data"
    }
   ],
   "source": [
    "ALPHA = 0.5\n",
    "BINS  = 200\n",
    "COLORS = ['sienna', 'lime']\n",
    "\n",
    "fig, ax = plt.subplots(2, 1)\n",
    "fig.set_size_inches(8, 12)\n",
    "ax[0].set_title(f\"Size feed\", fontsize=16)\n",
    "ax[0].set(xlim = (20,120))\n",
    "ax[0].hist(df_train['rougher.input.feed_size'], density=True, color='sienna', bins=BINS, alpha=ALPHA)\n",
    "ax[0].hist(df_test['rougher.input.feed_size'], density=True, color='lime', bins=BINS, alpha=ALPHA)\n",
    "ax[0].grid(True)\n",
    "ax[0].set_xlabel(f\"Размер частит при флотации\", fontsize=14)\n",
    "ax[0].set_ylabel('Частота', fontsize=14)\n",
    "\n",
    "patches = []\n",
    "patches.append(mpatches.Patch(color='sienna', label='train'))\n",
    "patches.append(mpatches.Patch(color='lime', label='test'))\n",
    "ax[0].legend(handles=patches, loc='upper right')\n",
    "\n",
    "ax[1].hist(df_train['primary_cleaner.input.feed_size'], density=True, color='sienna', bins=BINS, alpha=ALPHA)\n",
    "ax[1].hist(df_test['primary_cleaner.input.feed_size'], density=True, color='lime', bins=BINS, alpha=ALPHA)\n",
    "ax[1].set(xlim = (5,10))\n",
    "ax[1].grid(True)\n",
    "ax[1].set_xlabel(f\"Размер частит при первичной очистке\", fontsize=14)\n",
    "ax[1].set_ylabel('Частота', fontsize=14)\n",
    "ax[1].legend(handles=patches, loc='upper right')\n",
    "plt.subplots_adjust(hspace=0.15)\n",
    "plt.show()"
   ]
  },
  {
   "cell_type": "code",
   "execution_count": 33,
   "metadata": {},
   "outputs": [
    {
     "data": {
      "text/plain": [
       "Ttest_relResult(statistic=3.979572462474916, pvalue=6.997943443049893e-05)"
      ]
     },
     "execution_count": 33,
     "metadata": {},
     "output_type": "execute_result"
    }
   ],
   "source": [
    "ttest_rel(df_train['rougher.input.feed_size'].sample(5200, random_state =RND,replace=True), \\\n",
    "          df_test['rougher.input.feed_size'].sample(5200, random_state =RND,replace=True), nan_policy='omit')"
   ]
  },
  {
   "cell_type": "code",
   "execution_count": 34,
   "metadata": {},
   "outputs": [
    {
     "data": {
      "text/plain": [
       "1.0265136786981168"
      ]
     },
     "execution_count": 34,
     "metadata": {},
     "output_type": "execute_result"
    }
   ],
   "source": [
    "df_train.sample(5200, random_state =RND,replace=True)['rougher.input.feed_size'].mean()/df_test.sample(5290, random_state =RND,replace=True)['rougher.input.feed_size'].mean()"
   ]
  },
  {
   "cell_type": "code",
   "execution_count": 35,
   "metadata": {},
   "outputs": [
    {
     "data": {
      "text/plain": [
       "Ttest_relResult(statistic=10.75842517775253, pvalue=1.0316575200924096e-26)"
      ]
     },
     "execution_count": 35,
     "metadata": {},
     "output_type": "execute_result"
    }
   ],
   "source": [
    "ttest_rel(df_train.sample(5200, random_state =RND,replace=True)['primary_cleaner.input.feed_size'], \\\n",
    "          df_test.sample(5200, random_state =RND,replace=True)['primary_cleaner.input.feed_size'], nan_policy='omit')"
   ]
  },
  {
   "cell_type": "code",
   "execution_count": 36,
   "metadata": {},
   "outputs": [
    {
     "data": {
      "text/plain": [
       "1.0170055765351578"
      ]
     },
     "execution_count": 36,
     "metadata": {},
     "output_type": "execute_result"
    }
   ],
   "source": [
    "(\n",
    "    df_train.sample(5200, random_state =RND,replace=True)['primary_cleaner.input.feed_size'].mean()/\n",
    " df_test.sample(5200, random_state =RND,replace=True)['primary_cleaner.input.feed_size'].mean()\n",
    ")"
   ]
  },
  {
   "cell_type": "code",
   "execution_count": 37,
   "metadata": {},
   "outputs": [
    {
     "data": {
      "text/plain": [
       "Ttest_relResult(statistic=0.568126320690907, pvalue=0.5699737316665647)"
      ]
     },
     "execution_count": 37,
     "metadata": {},
     "output_type": "execute_result"
    }
   ],
   "source": [
    "ttest_rel(df_full.sample(5200, random_state =12,replace=True)['primary_cleaner.input.feed_size'], \\\n",
    "          df_full.sample(5200, random_state =RND,replace=True)['primary_cleaner.input.feed_size'], nan_policy='omit')"
   ]
  },
  {
   "cell_type": "code",
   "execution_count": 38,
   "metadata": {},
   "outputs": [
    {
     "data": {
      "text/plain": [
       "<matplotlib.legend.Legend at 0x7f5910aa5410>"
      ]
     },
     "execution_count": 38,
     "metadata": {},
     "output_type": "execute_result"
    },
    {
     "data": {
      "image/png": "[encoded data removed]",
      "text/plain": [
       "<Figure size 1296x576 with 1 Axes>"
      ]
     },
     "metadata": {
      "needs_background": "light"
     },
     "output_type": "display_data"
    }
   ],
   "source": [
    "ALPHA = 0.5\n",
    "BINS  = 200\n",
    "COLORS = ['sienna', 'lime']\n",
    "\n",
    "fig, ax1 = plt.subplots(figsize=(18,8))\n",
    "ax1.set_title(f\"Data samples\", fontsize=16)\n",
    "ax1.hist(df_test['date'], color='sienna', bins=BINS, alpha=ALPHA)\n",
    "ax1.hist(df_train['date'], color='lime', bins=BINS, alpha=ALPHA)\n",
    "ax1.grid(True)\n",
    "ax1.set_xlabel(f\"date\", fontsize=14)\n",
    "ax1.set_ylabel('frequince', fontsize=14)\n",
    "\n",
    "patches = []\n",
    "patches.append(mpatches.Patch(color='sienna', label='test'))\n",
    "patches.append(mpatches.Patch(color='lime', label='train'))\n",
    "ax1.legend(handles=patches, loc='upper right')\n"
   ]
  },
  {
   "cell_type": "markdown",
   "metadata": {},
   "source": [
    "Анализ размеров гранул позволяет сделать следующие выводы:\n",
    "- размеры гранул в тестовой и выборке, судя по статистикам отличаются не так сильно, на первичной выборке, больше отличается на флотации;\n",
    "- на гистограммах видно, что распределения немного смещены относительно друг друга (более четко видно на флотации);\n",
    "- проведенные статистические тесты показали, что средние из тестовой и тренировочной выборке не равны;\n",
    "- случайное деление выборки на тренировочную и тестовую, показало, что гипотезу о равенстве средних нельзя отвергнуть;\n",
    "- на графике с распределением дат видно, что тренировочные и тестовые выборки взяты в разные периоды времени, что весьма странно;\n",
    "- с учетом наличие корреляции между близко расположенными записями по дате, выбор такого разбиения на тренировочную и тестовую выборку весьма странные, я бы сообщил о проблеме опытным коллегам (если опытный коллега я - то заказчику), так как это может повлиять на качестве модели, но в рамках нашей задачи - \"на то воля заказчика\" и будем работать с тем что есть.\n"
   ]
  },
  {
   "cell_type": "markdown",
   "metadata": {},
   "source": [
    "### Анализ суммарной концентрации всех металлов на разных стадиях\n"
   ]
  },
  {
   "cell_type": "code",
   "execution_count": 39,
   "metadata": {},
   "outputs": [],
   "source": [
    "cols_all = ['rougher.input.feed_', 'rougher.output.concentrate_',\n",
    "           'primary_cleaner.output.concentrate_', 'final.output.concentrate_']\n",
    "first = cols_all[0]\n",
    "second = cols_all[1]\n",
    "third = cols_all[2]\n",
    "fourth = cols_all[3]\n",
    "\n",
    "df_full['first'] = df_full[[first+'au', first+'ag', first+'pb']].sum(axis=1)\n",
    "df_full['second'] = df_full[[second+'au', second+'ag', second+'pb']].sum(axis=1)\n",
    "df_full['third'] = df_full[[third+'au', third+'ag', third+'pb']].sum(axis=1)\n",
    "df_full['fourth'] = df_full[[fourth+'au', fourth+'ag', fourth+'pb']].sum(axis=1)"
   ]
  },
  {
   "cell_type": "code",
   "execution_count": 40,
   "metadata": {},
   "outputs": [
    {
     "data": {
      "text/html": [
       "<div>\n",
       "<style scoped>\n",
       "    .dataframe tbody tr th:only-of-type {\n",
       "        vertical-align: middle;\n",
       "    }\n",
       "\n",
       "    .dataframe tbody tr th {\n",
       "        vertical-align: top;\n",
       "    }\n",
       "\n",
       "    .dataframe thead th {\n",
       "        text-align: right;\n",
       "    }\n",
       "</style>\n",
       "<table border=\"1\" class=\"dataframe\">\n",
       "  <thead>\n",
       "    <tr style=\"text-align: right;\">\n",
       "      <th></th>\n",
       "      <th>first</th>\n",
       "      <th>second</th>\n",
       "      <th>third</th>\n",
       "      <th>fourth</th>\n",
       "    </tr>\n",
       "  </thead>\n",
       "  <tbody>\n",
       "    <tr>\n",
       "      <td>count</td>\n",
       "      <td>15509.000000</td>\n",
       "      <td>15509.000000</td>\n",
       "      <td>15509.000000</td>\n",
       "      <td>15509.000000</td>\n",
       "    </tr>\n",
       "    <tr>\n",
       "      <td>mean</td>\n",
       "      <td>21.140708</td>\n",
       "      <td>40.494183</td>\n",
       "      <td>51.222651</td>\n",
       "      <td>59.774341</td>\n",
       "    </tr>\n",
       "    <tr>\n",
       "      <td>std</td>\n",
       "      <td>4.291040</td>\n",
       "      <td>3.598924</td>\n",
       "      <td>4.112984</td>\n",
       "      <td>2.944046</td>\n",
       "    </tr>\n",
       "    <tr>\n",
       "      <td>min</td>\n",
       "      <td>5.503477</td>\n",
       "      <td>11.808871</td>\n",
       "      <td>16.021660</td>\n",
       "      <td>26.086815</td>\n",
       "    </tr>\n",
       "    <tr>\n",
       "      <td>25%</td>\n",
       "      <td>17.677966</td>\n",
       "      <td>38.788270</td>\n",
       "      <td>50.262427</td>\n",
       "      <td>59.312328</td>\n",
       "    </tr>\n",
       "    <tr>\n",
       "      <td>50%</td>\n",
       "      <td>20.728297</td>\n",
       "      <td>40.596315</td>\n",
       "      <td>51.907340</td>\n",
       "      <td>60.253963</td>\n",
       "    </tr>\n",
       "    <tr>\n",
       "      <td>75%</td>\n",
       "      <td>24.219000</td>\n",
       "      <td>42.631868</td>\n",
       "      <td>53.262172</td>\n",
       "      <td>61.047392</td>\n",
       "    </tr>\n",
       "    <tr>\n",
       "      <td>max</td>\n",
       "      <td>33.498784</td>\n",
       "      <td>49.700943</td>\n",
       "      <td>60.106566</td>\n",
       "      <td>64.856303</td>\n",
       "    </tr>\n",
       "  </tbody>\n",
       "</table>\n",
       "</div>"
      ],
      "text/plain": [
       "              first        second         third        fourth\n",
       "count  15509.000000  15509.000000  15509.000000  15509.000000\n",
       "mean      21.140708     40.494183     51.222651     59.774341\n",
       "std        4.291040      3.598924      4.112984      2.944046\n",
       "min        5.503477     11.808871     16.021660     26.086815\n",
       "25%       17.677966     38.788270     50.262427     59.312328\n",
       "50%       20.728297     40.596315     51.907340     60.253963\n",
       "75%       24.219000     42.631868     53.262172     61.047392\n",
       "max       33.498784     49.700943     60.106566     64.856303"
      ]
     },
     "execution_count": 40,
     "metadata": {},
     "output_type": "execute_result"
    }
   ],
   "source": [
    "cols_summ = ['first', 'second', 'third', 'fourth']\n",
    "df_full[cols_summ].describe()"
   ]
  },
  {
   "cell_type": "code",
   "execution_count": 41,
   "metadata": {},
   "outputs": [
    {
     "data": {
      "text/plain": [
       "<matplotlib.legend.Legend at 0x7f5910868a50>"
      ]
     },
     "execution_count": 41,
     "metadata": {},
     "output_type": "execute_result"
    },
    {
     "data": {
      "image/png": "[encoded data removed]",
      "text/plain": [
       "<Figure size 1296x576 with 1 Axes>"
      ]
     },
     "metadata": {
      "needs_background": "light"
     },
     "output_type": "display_data"
    }
   ],
   "source": [
    "ALPHA = 0.5\n",
    "BINS  = 200\n",
    "COLORS = ['sienna', 'lime', 'blue', 'green']\n",
    "\n",
    "fig, ax1 = plt.subplots(figsize=(18,8))\n",
    "ax1.set_title(f\"Data samples\", fontsize=16)\n",
    "ax1.hist(df_full['first'], color='sienna', bins=BINS, alpha=ALPHA)\n",
    "ax1.hist(df_full['second'], color='lime', bins=BINS, alpha=ALPHA)\n",
    "ax1.hist(df_full['third'], color='blue', bins=BINS, alpha=ALPHA)\n",
    "ax1.hist(df_full['fourth'], color='green', bins=BINS, alpha=ALPHA)\n",
    "\n",
    "ax1.grid(True)\n",
    "ax1.set_xlabel(f\"concentrate\", fontsize=14)\n",
    "ax1.set_ylabel('frequince', fontsize=14)\n",
    "\n",
    "patches = []\n",
    "patches.append(mpatches.Patch(color='sienna', label='first'))\n",
    "patches.append(mpatches.Patch(color='lime', label='second'))\n",
    "patches.append(mpatches.Patch(color='blue', label='third'))\n",
    "patches.append(mpatches.Patch(color='green', label='fourth'))\n",
    "ax1.legend(handles=patches, loc='upper right')\n"
   ]
  },
  {
   "cell_type": "markdown",
   "metadata": {},
   "source": [
    "Из статистик можно сделать вывод, что имеется некоторое количество значений около нуля, а также значения концентрации, которые являются выбросами даже для первого этапа. Оценим количество выбросов на каждом этапе."
   ]
  },
  {
   "cell_type": "code",
   "execution_count": 42,
   "metadata": {},
   "outputs": [
    {
     "name": "stdout",
     "output_type": "stream",
     "text": [
      "first zeros: 0\n",
      "first under 1: 2\n",
      "\n",
      "\n",
      "second zeros: 0\n",
      "second under 1: 0\n",
      "\n",
      "\n",
      "third zeros: 0\n",
      "third under 1: 0\n",
      "\n",
      "\n",
      "fourth zeros: 0\n",
      "fourth under 1: 0\n",
      "\n",
      "\n"
     ]
    }
   ],
   "source": [
    "for col in cols_summ:\n",
    "    print(col, 'zeros:', len(df_full[df_full[col] == 0]))\n",
    "    print(col, 'under 1:', len(df_full[df_full[col] < 7]))\n",
    "    print('\\n')"
   ]
  },
  {
   "cell_type": "markdown",
   "metadata": {},
   "source": [
    "Отберем строки, которые не содержат выбросов."
   ]
  },
  {
   "cell_type": "code",
   "execution_count": 43,
   "metadata": {},
   "outputs": [],
   "source": [
    "reange_def = df_full.shape[0]"
   ]
  },
  {
   "cell_type": "code",
   "execution_count": 44,
   "metadata": {},
   "outputs": [
    {
     "data": {
      "text/plain": [
       "(15507, 91)"
      ]
     },
     "execution_count": 44,
     "metadata": {},
     "output_type": "execute_result"
    }
   ],
   "source": [
    "df_full = df_full[\n",
    "    (df_full[cols_summ[0]] >  7) & \n",
    "    (df_full[cols_summ[1]] > 7) & \n",
    "    (df_full[cols_summ[2]] > 7) & \n",
    "    (df_full[cols_summ[3]] > 7)\n",
    "]\n",
    "\n",
    "df_full.shape"
   ]
  },
  {
   "cell_type": "code",
   "execution_count": 45,
   "metadata": {},
   "outputs": [
    {
     "data": {
      "text/plain": [
       "0.9998710426204139"
      ]
     },
     "execution_count": 45,
     "metadata": {},
     "output_type": "execute_result"
    }
   ],
   "source": [
    "df_full.shape[0]/reange_def"
   ]
  },
  {
   "cell_type": "markdown",
   "metadata": {},
   "source": [
    "За счет удаления выбросов на предыдущем этапе данные не потеряли на данном этапе."
   ]
  },
  {
   "cell_type": "markdown",
   "metadata": {},
   "source": [
    "Были устранены выбросы, формы основной части распределений не изменились. Средние немного выросли, стандартные отклонения существенно уменьшились. \n",
    "Устраним выбросы в тестовой и обучающей выборке. Так как все пропуски были заполнены, то для заполнения можно выбрать любой столбец, например, с датой.\n",
    "\n"
   ]
  },
  {
   "cell_type": "code",
   "execution_count": 46,
   "metadata": {},
   "outputs": [],
   "source": [
    "df_test = df_test[df_test['date'].isin(df_full['date'])]\n",
    "df_test = df_test[df_test['date'].isin(df_full['date'])]"
   ]
  },
  {
   "cell_type": "markdown",
   "metadata": {},
   "source": [
    "## Модель"
   ]
  },
  {
   "cell_type": "markdown",
   "metadata": {},
   "source": [
    "### Функцию для вычисления итоговой sMAPE"
   ]
  },
  {
   "attachments": {
    "image-2.png": {
     "image/png": "[encoded data removed]"
    }
   },
   "cell_type": "markdown",
   "metadata": {},
   "source": [
    "![image-2.png](attachment:image-2.png)"
   ]
  },
  {
   "cell_type": "code",
   "execution_count": 47,
   "metadata": {},
   "outputs": [],
   "source": [
    "def smape(target, predictions):\n",
    "    numerator = abs(predictions - target)\n",
    "    denominator = (abs(target) + abs(predictions)) / 2\n",
    "    summa = (numerator / denominator).sum()\n",
    "\n",
    "    smape = 1 / len(target) * summa * 100\n",
    "    return smape"
   ]
  },
  {
   "attachments": {
    "image.png": {
     "image/png": "[encoded data removed]"
    }
   },
   "cell_type": "markdown",
   "metadata": {},
   "source": [
    "![image.png](attachment:image.png)"
   ]
  },
  {
   "cell_type": "code",
   "execution_count": 48,
   "metadata": {},
   "outputs": [],
   "source": [
    "def smape_final(smape_rougher, smape_final):\n",
    "    smape_final = 0.25 * smape_rougher + 0.75 * smape_final\n",
    "    return smape_final"
   ]
  },
  {
   "cell_type": "code",
   "execution_count": 49,
   "metadata": {},
   "outputs": [],
   "source": [
    "smape_scorer = make_scorer(smape, greater_is_better=False)"
   ]
  },
  {
   "cell_type": "markdown",
   "metadata": {},
   "source": [
    "### Обучение и сравнение моделей"
   ]
  },
  {
   "cell_type": "markdown",
   "metadata": {},
   "source": [
    "- Разобьем признаки на две группы: признаки для обучения для этапа флотации и признаки для обучения на последующих этапах. - С целью чтобы не усложнять модели - признаки не должны пересекаться в моделях.\n"
   ]
  },
  {
   "cell_type": "code",
   "execution_count": 50,
   "metadata": {},
   "outputs": [],
   "source": [
    "X_train = df_train[df_test.columns]\n",
    "\n",
    "rougher_cols = X_train.columns.str.contains('rougher')\n",
    "\n",
    "x_train_rougher = X_train.loc[:, rougher_cols].\\\n",
    "                drop(\"rougher.output.recovery\",axis = 1)\n",
    "y_train_rougher = X_train['rougher.output.recovery']\n",
    "x_test_rougher = df_test.loc[:, rougher_cols].\\\n",
    "                drop(\"rougher.output.recovery\",axis = 1)\n",
    "y_test_rougher = df_test['rougher.output.recovery']\n",
    "\n",
    "\n",
    "final_cols = X_train.columns.str.contains('cleaner')\n",
    "\n",
    "x_train_final = X_train.loc[:, final_cols]\n",
    "y_train_final = X_train['final.output.recovery']\n",
    "x_test_final = df_test.loc[:, final_cols]\n",
    "y_test_final = df_test['final.output.recovery']"
   ]
  },
  {
   "cell_type": "markdown",
   "metadata": {},
   "source": [
    "Для применения модели линейной регрессии необходимо стандартизировать данные."
   ]
  },
  {
   "cell_type": "code",
   "execution_count": 51,
   "metadata": {},
   "outputs": [],
   "source": [
    "scaler_rougher = StandardScaler()\n",
    "scaler_rougher.fit(x_train_rougher)\n",
    "x_train_rougher = scaler_rougher.transform(x_train_rougher)\n",
    "x_test_rougher = scaler_rougher.transform(x_test_rougher)\n",
    "\n",
    "scaler_final = StandardScaler()\n",
    "scaler_final.fit(x_train_final)\n",
    "x_train_final = scaler_final.transform(x_train_final)\n",
    "x_test_final = scaler_final.transform(x_test_final)"
   ]
  },
  {
   "cell_type": "code",
   "execution_count": 52,
   "metadata": {},
   "outputs": [],
   "source": [
    "models_rg = [DecisionTreeRegressor(random_state = RND), \n",
    "             RandomForestRegressor(random_state=RND), \n",
    "             LinearRegression()]\n",
    "models_fn = [DecisionTreeRegressor(random_state = RND), \n",
    "             RandomForestRegressor(random_state=RND), \n",
    "            LinearRegression()]"
   ]
  },
  {
   "cell_type": "code",
   "execution_count": 53,
   "metadata": {},
   "outputs": [
    {
     "name": "stdout",
     "output_type": "stream",
     "text": [
      "CPU times: user 37.6 s, sys: 1.39 s, total: 39 s\n",
      "Wall time: 39 s\n"
     ]
    },
    {
     "data": {
      "text/html": [
       "<div>\n",
       "<style scoped>\n",
       "    .dataframe tbody tr th:only-of-type {\n",
       "        vertical-align: middle;\n",
       "    }\n",
       "\n",
       "    .dataframe tbody tr th {\n",
       "        vertical-align: top;\n",
       "    }\n",
       "\n",
       "    .dataframe thead th {\n",
       "        text-align: right;\n",
       "    }\n",
       "</style>\n",
       "<table border=\"1\" class=\"dataframe\">\n",
       "  <thead>\n",
       "    <tr style=\"text-align: right;\">\n",
       "      <th></th>\n",
       "      <th>model name № 1</th>\n",
       "      <th>model name № 2</th>\n",
       "      <th>cross_val_score_rougher</th>\n",
       "      <th>cross_val_score_clear</th>\n",
       "      <th>smape_final</th>\n",
       "    </tr>\n",
       "  </thead>\n",
       "  <tbody>\n",
       "    <tr>\n",
       "      <td>8</td>\n",
       "      <td>LinearRegression</td>\n",
       "      <td>LinearRegression</td>\n",
       "      <td>-0.430093</td>\n",
       "      <td>-0.137858</td>\n",
       "      <td>-0.210916</td>\n",
       "    </tr>\n",
       "    <tr>\n",
       "      <td>5</td>\n",
       "      <td>RandomForestRegressor</td>\n",
       "      <td>LinearRegression</td>\n",
       "      <td>-0.774982</td>\n",
       "      <td>-0.137858</td>\n",
       "      <td>-0.297139</td>\n",
       "    </tr>\n",
       "    <tr>\n",
       "      <td>7</td>\n",
       "      <td>LinearRegression</td>\n",
       "      <td>RandomForestRegressor</td>\n",
       "      <td>-0.430093</td>\n",
       "      <td>-0.341853</td>\n",
       "      <td>-0.363913</td>\n",
       "    </tr>\n",
       "    <tr>\n",
       "      <td>4</td>\n",
       "      <td>RandomForestRegressor</td>\n",
       "      <td>RandomForestRegressor</td>\n",
       "      <td>-0.774982</td>\n",
       "      <td>-0.341853</td>\n",
       "      <td>-0.450135</td>\n",
       "    </tr>\n",
       "    <tr>\n",
       "      <td>2</td>\n",
       "      <td>DecisionTreeRegressor</td>\n",
       "      <td>LinearRegression</td>\n",
       "      <td>-2.546057</td>\n",
       "      <td>-0.137858</td>\n",
       "      <td>-0.739908</td>\n",
       "    </tr>\n",
       "    <tr>\n",
       "      <td>1</td>\n",
       "      <td>DecisionTreeRegressor</td>\n",
       "      <td>RandomForestRegressor</td>\n",
       "      <td>-2.546057</td>\n",
       "      <td>-0.341853</td>\n",
       "      <td>-0.892904</td>\n",
       "    </tr>\n",
       "    <tr>\n",
       "      <td>6</td>\n",
       "      <td>LinearRegression</td>\n",
       "      <td>DecisionTreeRegressor</td>\n",
       "      <td>-0.430093</td>\n",
       "      <td>-1.561232</td>\n",
       "      <td>-1.278447</td>\n",
       "    </tr>\n",
       "    <tr>\n",
       "      <td>3</td>\n",
       "      <td>RandomForestRegressor</td>\n",
       "      <td>DecisionTreeRegressor</td>\n",
       "      <td>-0.774982</td>\n",
       "      <td>-1.561232</td>\n",
       "      <td>-1.364670</td>\n",
       "    </tr>\n",
       "    <tr>\n",
       "      <td>0</td>\n",
       "      <td>DecisionTreeRegressor</td>\n",
       "      <td>DecisionTreeRegressor</td>\n",
       "      <td>-2.546057</td>\n",
       "      <td>-1.561232</td>\n",
       "      <td>-1.807439</td>\n",
       "    </tr>\n",
       "  </tbody>\n",
       "</table>\n",
       "</div>"
      ],
      "text/plain": [
       "          model name № 1         model name № 2  cross_val_score_rougher  \\\n",
       "8       LinearRegression       LinearRegression                -0.430093   \n",
       "5  RandomForestRegressor       LinearRegression                -0.774982   \n",
       "7       LinearRegression  RandomForestRegressor                -0.430093   \n",
       "4  RandomForestRegressor  RandomForestRegressor                -0.774982   \n",
       "2  DecisionTreeRegressor       LinearRegression                -2.546057   \n",
       "1  DecisionTreeRegressor  RandomForestRegressor                -2.546057   \n",
       "6       LinearRegression  DecisionTreeRegressor                -0.430093   \n",
       "3  RandomForestRegressor  DecisionTreeRegressor                -0.774982   \n",
       "0  DecisionTreeRegressor  DecisionTreeRegressor                -2.546057   \n",
       "\n",
       "   cross_val_score_clear  smape_final  \n",
       "8              -0.137858    -0.210916  \n",
       "5              -0.137858    -0.297139  \n",
       "7              -0.341853    -0.363913  \n",
       "4              -0.341853    -0.450135  \n",
       "2              -0.137858    -0.739908  \n",
       "1              -0.341853    -0.892904  \n",
       "6              -1.561232    -1.278447  \n",
       "3              -1.561232    -1.364670  \n",
       "0              -1.561232    -1.807439  "
      ]
     },
     "execution_count": 53,
     "metadata": {},
     "output_type": "execute_result"
    }
   ],
   "source": [
    "%%time \n",
    "results_cross_val = []\n",
    "cv = 3\n",
    "for model1 in models_rg:\n",
    "    for model2 in models_fn:\n",
    "    \n",
    "    \n",
    "        cross_val_score_rougher = cross_val_score(model1, \n",
    "                                              x_train_rougher, \n",
    "                                              y_train_rougher, \n",
    "                                                      cv=cv,  n_jobs = -1).mean()\n",
    "        cross_val_score_final = cross_val_score(model2, \n",
    "                                                x_train_final, \n",
    "                                                y_train_final, \n",
    "                                                cv=cv, n_jobs = -1).mean()\n",
    "\n",
    "        results_cross_val.append({'model name № 1': model1.__class__.__name__, \n",
    "                                  'model name № 2': model2.__class__.__name__, \n",
    "                                  'cross_val_score_rougher': cross_val_score_rougher, \n",
    "                                  'cross_val_score_clear': cross_val_score_final,\n",
    "                                  'smape_final': smape_final(cross_val_score_rougher, cross_val_score_final)},) \n",
    "              \n",
    "pd.DataFrame(results_cross_val).sort_values('smape_final', ascending = False)"
   ]
  },
  {
   "cell_type": "markdown",
   "metadata": {},
   "source": [
    "- На кросс-валидации модели показали отличные результаты;\n",
    "- Удивительно, но победила линейная регрессия\n",
    "- Минус объясняется использование smape_scorer = make_scorer(smape, greater_is_better=False), с параметром greater_is_better=False, который меняет знак на противоположный. "
   ]
  },
  {
   "cell_type": "markdown",
   "metadata": {},
   "source": [
    "### Проверка модели на тестовой выборке\n"
   ]
  },
  {
   "cell_type": "code",
   "execution_count": 54,
   "metadata": {},
   "outputs": [
    {
     "name": "stdout",
     "output_type": "stream",
     "text": [
      "CPU times: user 19.9 s, sys: 574 ms, total: 20.5 s\n",
      "Wall time: 20.5 s\n"
     ]
    },
    {
     "data": {
      "text/html": [
       "<div>\n",
       "<style scoped>\n",
       "    .dataframe tbody tr th:only-of-type {\n",
       "        vertical-align: middle;\n",
       "    }\n",
       "\n",
       "    .dataframe tbody tr th {\n",
       "        vertical-align: top;\n",
       "    }\n",
       "\n",
       "    .dataframe thead th {\n",
       "        text-align: right;\n",
       "    }\n",
       "</style>\n",
       "<table border=\"1\" class=\"dataframe\">\n",
       "  <thead>\n",
       "    <tr style=\"text-align: right;\">\n",
       "      <th></th>\n",
       "      <th>model name № 1</th>\n",
       "      <th>model name № 2</th>\n",
       "      <th>smape_rougher</th>\n",
       "      <th>smape_clear</th>\n",
       "      <th>smape_final</th>\n",
       "    </tr>\n",
       "  </thead>\n",
       "  <tbody>\n",
       "    <tr>\n",
       "      <td>8</td>\n",
       "      <td>LinearRegression</td>\n",
       "      <td>LinearRegression</td>\n",
       "      <td>5.458299</td>\n",
       "      <td>7.915767</td>\n",
       "      <td>7.301400</td>\n",
       "    </tr>\n",
       "    <tr>\n",
       "      <td>5</td>\n",
       "      <td>RandomForestRegressor</td>\n",
       "      <td>LinearRegression</td>\n",
       "      <td>12.405407</td>\n",
       "      <td>7.915767</td>\n",
       "      <td>9.038177</td>\n",
       "    </tr>\n",
       "    <tr>\n",
       "      <td>7</td>\n",
       "      <td>LinearRegression</td>\n",
       "      <td>RandomForestRegressor</td>\n",
       "      <td>5.458299</td>\n",
       "      <td>13.204326</td>\n",
       "      <td>11.267819</td>\n",
       "    </tr>\n",
       "    <tr>\n",
       "      <td>2</td>\n",
       "      <td>DecisionTreeRegressor</td>\n",
       "      <td>LinearRegression</td>\n",
       "      <td>24.243828</td>\n",
       "      <td>7.915767</td>\n",
       "      <td>11.997782</td>\n",
       "    </tr>\n",
       "    <tr>\n",
       "      <td>6</td>\n",
       "      <td>LinearRegression</td>\n",
       "      <td>DecisionTreeRegressor</td>\n",
       "      <td>5.458299</td>\n",
       "      <td>15.180473</td>\n",
       "      <td>12.749929</td>\n",
       "    </tr>\n",
       "    <tr>\n",
       "      <td>4</td>\n",
       "      <td>RandomForestRegressor</td>\n",
       "      <td>RandomForestRegressor</td>\n",
       "      <td>12.405407</td>\n",
       "      <td>13.204326</td>\n",
       "      <td>13.004596</td>\n",
       "    </tr>\n",
       "    <tr>\n",
       "      <td>3</td>\n",
       "      <td>RandomForestRegressor</td>\n",
       "      <td>DecisionTreeRegressor</td>\n",
       "      <td>12.405407</td>\n",
       "      <td>15.180473</td>\n",
       "      <td>14.486706</td>\n",
       "    </tr>\n",
       "    <tr>\n",
       "      <td>1</td>\n",
       "      <td>DecisionTreeRegressor</td>\n",
       "      <td>RandomForestRegressor</td>\n",
       "      <td>24.243828</td>\n",
       "      <td>13.204326</td>\n",
       "      <td>15.964201</td>\n",
       "    </tr>\n",
       "    <tr>\n",
       "      <td>0</td>\n",
       "      <td>DecisionTreeRegressor</td>\n",
       "      <td>DecisionTreeRegressor</td>\n",
       "      <td>24.243828</td>\n",
       "      <td>15.180473</td>\n",
       "      <td>17.446312</td>\n",
       "    </tr>\n",
       "  </tbody>\n",
       "</table>\n",
       "</div>"
      ],
      "text/plain": [
       "          model name № 1         model name № 2  smape_rougher  smape_clear  \\\n",
       "8       LinearRegression       LinearRegression       5.458299     7.915767   \n",
       "5  RandomForestRegressor       LinearRegression      12.405407     7.915767   \n",
       "7       LinearRegression  RandomForestRegressor       5.458299    13.204326   \n",
       "2  DecisionTreeRegressor       LinearRegression      24.243828     7.915767   \n",
       "6       LinearRegression  DecisionTreeRegressor       5.458299    15.180473   \n",
       "4  RandomForestRegressor  RandomForestRegressor      12.405407    13.204326   \n",
       "3  RandomForestRegressor  DecisionTreeRegressor      12.405407    15.180473   \n",
       "1  DecisionTreeRegressor  RandomForestRegressor      24.243828    13.204326   \n",
       "0  DecisionTreeRegressor  DecisionTreeRegressor      24.243828    15.180473   \n",
       "\n",
       "   smape_final  \n",
       "8     7.301400  \n",
       "5     9.038177  \n",
       "7    11.267819  \n",
       "2    11.997782  \n",
       "6    12.749929  \n",
       "4    13.004596  \n",
       "3    14.486706  \n",
       "1    15.964201  \n",
       "0    17.446312  "
      ]
     },
     "execution_count": 54,
     "metadata": {},
     "output_type": "execute_result"
    }
   ],
   "source": [
    "%%time \n",
    "results = []\n",
    "\n",
    "\n",
    "for model1 in models_rg:\n",
    "    for model2 in models_fn:\n",
    "    \n",
    "    \n",
    "        model1.fit(x_train_rougher, y_train_rougher) \n",
    "        predict_rg = model1.predict(x_test_rougher)\n",
    "        smape_rougher = smape(y_test_rougher, predict_rg)                                       \n",
    "        \n",
    "        \n",
    "        model2.fit(x_train_final, y_train_final) \n",
    "        predict_fn = model2.predict(x_test_final)\n",
    "        smape_fn = smape(y_test_final, predict_fn)\n",
    "    \n",
    "    \n",
    "    \n",
    "        results.append({'model name № 1': model1.__class__.__name__, \n",
    "                        'model name № 2': model2.__class__.__name__, \n",
    "                        'smape_rougher': smape_rougher, \n",
    "                        'smape_clear': smape_fn,\n",
    "                        'smape_final': smape_final(smape_rougher, smape_fn)},) \n",
    "              \n",
    "pd.DataFrame(results).sort_values('smape_final', ascending = True)"
   ]
  },
  {
   "cell_type": "markdown",
   "metadata": {},
   "source": [
    "- На тестовой выборке результаты гораздо хуже, но снова победила линейная регрессия\n",
    "- Знак положительный, так как на этот раз использовали функцию качества напрямую"
   ]
  },
  {
   "cell_type": "markdown",
   "metadata": {},
   "source": [
    "### Проверка модели на адекватность"
   ]
  },
  {
   "cell_type": "code",
   "execution_count": 55,
   "metadata": {},
   "outputs": [],
   "source": [
    "dummy_regr_rg = DummyRegressor(strategy='mean')\n",
    "dummy_regr_fn = DummyRegressor(strategy='mean')\n",
    "\n",
    "dummy_regr_rg.fit(x_train_rougher, y_train_rougher)\n",
    "predictions_dummy_rg = dummy_regr_rg.predict(x_test_rougher)\n",
    "\n",
    "dummy_regr_fn.fit(x_train_final, y_train_final)\n",
    "predictions_dummy_fn = dummy_regr_fn.predict(x_test_final)"
   ]
  },
  {
   "cell_type": "code",
   "execution_count": 56,
   "metadata": {},
   "outputs": [
    {
     "name": "stdout",
     "output_type": "stream",
     "text": [
      "Итоговое sMAPE 7.750354165367962\n"
     ]
    }
   ],
   "source": [
    "smape_r_dummy = smape(y_test_rougher, predictions_dummy_rg)\n",
    "smape_f_dummy = smape(y_test_final, predictions_dummy_fn)\n",
    "\n",
    "print('Итоговое sMAPE', smape_final(smape_r_dummy, smape_f_dummy))"
   ]
  },
  {
   "cell_type": "markdown",
   "metadata": {},
   "source": [
    "- Сравнение с примитивной моделью показало, что линейная регрессия все же дает лучшие результаты, таким образом можно говорить, что результат получен, но все же не наверное не такой значительный. \n",
    "- Причиной не очень высокого результата может быть в том, что тестовая и обучающая выборки взяты в разные промежутки времени, о чем было указано в пункте 2.2"
   ]
  },
  {
   "cell_type": "markdown",
   "metadata": {},
   "source": [
    "## Общий вывод"
   ]
  },
  {
   "cell_type": "markdown",
   "metadata": {},
   "source": [
    "- В данных можно выделить несколько блоков: \n",
    "    - дата записи;\n",
    "    - данные по флотации;\n",
    "    - данные по первичной очистке;\n",
    "    - данные по вторичной очистке;\n",
    "    - данные по финальной очистке.\n",
    "- В каждом из перечисленных блоков можно выделить следующие данные:\n",
    "    - input — параметры сырья\n",
    "    - output — параметры продукта\n",
    "    - state — параметры, характеризующие текущее состояние этапа\n",
    "    - calculation — расчётные характеристики.\n",
    "    Кроме данных по основному продукту - золоту, также приводятся данные по серебру и свинцу. Но из представленных данных непонятно, происходит ли получение других продуктов кроме золота. В данных содержится достаточно много пропусков: если удалить все пропуски, то мы потеряем около 17 % данных. С учетом что выборка достаточно большая, возможно, удаление строк с пропусками рациональный путь решения задачи\n",
    "- Подсчитали корреляцию для эффективности обогащения для флотации руды и для финального концентрата. Для финального концентрата значимой корреляции не выявлено. Для флотации руды выявлены значимые корреляции со следующими параметрами: концентрация серебра после флотации, концентрация свинца после флотации, концентрация золей(sol) после флотации и концентрация золота после флотации. Последнее весьма ожидаемо.\n",
    "- Заполнение пропусков методом fillna не давало хороших результатов, так как пропуски идут подряд в большом количестве. Замена методом ближайшего соседа не работает по причине того, что в тренажере Яндекса устаревшая версия библиотек. Поэтому было принято решение просто удалить все пропуски, что дало наилучший результат. \n",
    "\n",
    "- Доля золота на каждом этапе производства увеличивается, что отвечает цели производства по извлечению золота; Доля серебра снижается в ходе технологического процесса; Доля свинца после флотации возрастает, а на последующих этапах не изменяется; Для золота наблюдались выбросы, выбросы удалили.\n",
    "\n",
    "- Тренировочные и тестовые выборки взяты в разные периоды времени, что весьма странно с учетом наличие корреляции между близко расположенными записями по дате, это может повлиять на качестве модели\n",
    "- Были устранены выбросы, формы основной части распределений не изменились. Средние немного выросли, стандартные отклонения существенно уменьшились. \n",
    "\n",
    "- Разбили признаки на две группы: признаки для обучения для этапа флотации и признаки для обучения на последующих этапах. С целью чтобы не усложнять модели - признаки не должны пересекаться в моделях.\n",
    "- На кросс-валидации модели показали отличные результаты;Удивительно, но победила линейная регрессия. Минус объясняется использование smape_scorer = make_scorer(smape, greater_is_better=False), с параметром greater_is_better=False, который меняет знак на противоположный.\n",
    "- На тестовой выборке результаты гораздо хуже, но снова победила линейная регрессия. Знак положительный, так как на этот раз использовали функцию качества напрямую.\n",
    "- Сравнение с примитивной моделью показало, что линейная регрессия все же дает лучшие результаты, таким образом можно говорить, что результат получен, но все же не наверное не такой значительный. \n",
    "- Причиной не очень высокого результата может быть в том, что тестовая и обучающая выборки взяты в разные промежутки времени, о чем было указано в пункте 2.2"
   ]
  },
  {
   "cell_type": "markdown",
   "metadata": {},
   "source": [
    "## Чек-лист готовности проекта"
   ]
  },
  {
   "cell_type": "markdown",
   "metadata": {},
   "source": [
    "- [x]  Jupyter Notebook открыт\n",
    "- [x]  Весь код выполняется без ошибок\n",
    "- [x]  Ячейки с кодом расположены в порядке выполнения\n",
    "- [x]  Выполнен шаг 1: данные подготовлены\n",
    "    - [x]  Проверена формула вычисления эффективности обогащения\n",
    "    - [x]  Проанализированы признаки, недоступные в тестовой выборке\n",
    "    - [x]  Проведена предобработка данных\n",
    "- [x]  Выполнен шаг 2: данные проанализированы\n",
    "    - [x]  Исследовано изменение концентрации элементов на каждом этапе\n",
    "    - [x]  Проанализированы распределения размеров гранул на обучающей и тестовой выборках\n",
    "    - [x]  Исследованы суммарные концентрации\n",
    "- [x]  Выполнен шаг 3: построена модель прогнозирования\n",
    "    - [x]  Написана функция для вычисления итогового *sMAPE*\n",
    "    - [x]  Обучено и проверено несколько моделей\n",
    "    - [x]  Выбрана лучшая модель, её качество проверено на тестовой выборке"
   ]
  }
 ],
 "metadata": {
  "ExecuteTimeLog": [
   {
    "duration": 1201,
    "start_time": "2022-01-24T07:31:13.762Z"
   },
   {
    "duration": 4142,
    "start_time": "2022-01-24T07:31:14.965Z"
   },
   {
    "duration": 15,
    "start_time": "2022-01-24T07:31:39.300Z"
   },
   {
    "duration": 61,
    "start_time": "2022-01-24T07:33:12.991Z"
   },
   {
    "duration": 340,
    "start_time": "2022-01-25T06:22:40.716Z"
   },
   {
    "duration": 1636,
    "start_time": "2022-01-25T06:22:45.141Z"
   },
   {
    "duration": 5567,
    "start_time": "2022-01-25T06:22:46.780Z"
   },
   {
    "duration": 101,
    "start_time": "2022-01-25T06:22:52.350Z"
   },
   {
    "duration": 32,
    "start_time": "2022-01-25T06:22:52.454Z"
   },
   {
    "duration": 6,
    "start_time": "2022-01-25T06:22:52.488Z"
   },
   {
    "duration": 4,
    "start_time": "2022-01-25T06:24:12.951Z"
   },
   {
    "duration": 6,
    "start_time": "2022-01-25T06:24:32.482Z"
   },
   {
    "duration": 364,
    "start_time": "2022-01-25T06:24:42.171Z"
   },
   {
    "duration": 6395,
    "start_time": "2022-01-25T06:24:52.801Z"
   },
   {
    "duration": 7799,
    "start_time": "2022-01-25T06:25:30.221Z"
   },
   {
    "duration": 9201,
    "start_time": "2022-01-25T06:25:49.301Z"
   },
   {
    "duration": 5,
    "start_time": "2022-01-25T06:26:36.882Z"
   },
   {
    "duration": 419,
    "start_time": "2022-01-25T06:27:15.563Z"
   },
   {
    "duration": 4,
    "start_time": "2022-01-25T06:27:23.198Z"
   },
   {
    "duration": 13581,
    "start_time": "2022-01-25T06:27:26.251Z"
   },
   {
    "duration": 16370,
    "start_time": "2022-01-25T06:27:53.782Z"
   },
   {
    "duration": 8969,
    "start_time": "2022-01-25T06:29:42.565Z"
   },
   {
    "duration": 7993,
    "start_time": "2022-01-25T06:29:53.902Z"
   },
   {
    "duration": 15751,
    "start_time": "2022-01-25T06:30:28.531Z"
   },
   {
    "duration": 5,
    "start_time": "2022-01-25T06:31:16.159Z"
   },
   {
    "duration": 11475,
    "start_time": "2022-01-25T06:31:22.273Z"
   },
   {
    "duration": 1571,
    "start_time": "2022-01-26T06:41:07.078Z"
   },
   {
    "duration": 1939,
    "start_time": "2022-01-26T06:41:08.652Z"
   },
   {
    "duration": 110,
    "start_time": "2022-01-26T06:41:10.594Z"
   },
   {
    "duration": 24,
    "start_time": "2022-01-26T06:41:10.706Z"
   },
   {
    "duration": 8,
    "start_time": "2022-01-26T06:41:10.749Z"
   },
   {
    "duration": 7,
    "start_time": "2022-01-26T06:41:10.760Z"
   },
   {
    "duration": 26,
    "start_time": "2022-01-26T06:41:10.769Z"
   },
   {
    "duration": 8155,
    "start_time": "2022-01-26T06:41:10.798Z"
   },
   {
    "duration": 10793,
    "start_time": "2022-01-26T06:41:18.956Z"
   },
   {
    "duration": 6,
    "start_time": "2022-01-26T06:41:51.364Z"
   },
   {
    "duration": 8,
    "start_time": "2022-01-26T06:42:02.107Z"
   },
   {
    "duration": 7,
    "start_time": "2022-01-26T06:42:35.845Z"
   },
   {
    "duration": 6,
    "start_time": "2022-01-26T06:43:22.987Z"
   },
   {
    "duration": 7,
    "start_time": "2022-01-26T06:43:40.726Z"
   },
   {
    "duration": 7,
    "start_time": "2022-01-26T06:44:04.914Z"
   },
   {
    "duration": 557,
    "start_time": "2022-01-26T06:45:45.959Z"
   },
   {
    "duration": 7,
    "start_time": "2022-01-26T06:46:21.006Z"
   },
   {
    "duration": 297,
    "start_time": "2022-01-26T06:47:36.897Z"
   },
   {
    "duration": 6,
    "start_time": "2022-01-26T06:47:45.727Z"
   },
   {
    "duration": 6,
    "start_time": "2022-01-26T06:48:21.328Z"
   },
   {
    "duration": 6,
    "start_time": "2022-01-26T06:53:19.097Z"
   },
   {
    "duration": 6,
    "start_time": "2022-01-26T06:53:47.212Z"
   },
   {
    "duration": 92,
    "start_time": "2022-01-26T06:54:11.821Z"
   },
   {
    "duration": 7,
    "start_time": "2022-01-26T06:54:14.279Z"
   },
   {
    "duration": 6,
    "start_time": "2022-01-26T06:54:25.420Z"
   },
   {
    "duration": 7,
    "start_time": "2022-01-26T06:55:12.132Z"
   },
   {
    "duration": 8,
    "start_time": "2022-01-26T07:16:04.320Z"
   },
   {
    "duration": 7,
    "start_time": "2022-01-26T07:16:20.548Z"
   },
   {
    "duration": 8,
    "start_time": "2022-01-26T07:16:50.408Z"
   },
   {
    "duration": 373,
    "start_time": "2022-01-26T07:17:11.258Z"
   },
   {
    "duration": 283,
    "start_time": "2022-01-26T07:17:20.278Z"
   },
   {
    "duration": 291,
    "start_time": "2022-01-26T07:18:31.130Z"
   },
   {
    "duration": 9,
    "start_time": "2022-01-26T07:19:01.790Z"
   },
   {
    "duration": 7,
    "start_time": "2022-01-26T07:19:39.859Z"
   },
   {
    "duration": 9,
    "start_time": "2022-01-26T07:20:04.940Z"
   },
   {
    "duration": 7,
    "start_time": "2022-01-26T08:00:42.557Z"
   },
   {
    "duration": 13959,
    "start_time": "2022-01-26T08:00:53.957Z"
   },
   {
    "duration": 290,
    "start_time": "2022-01-26T08:02:22.608Z"
   },
   {
    "duration": 7,
    "start_time": "2022-01-26T08:02:43.117Z"
   },
   {
    "duration": 4131,
    "start_time": "2022-01-26T08:02:50.216Z"
   },
   {
    "duration": 4,
    "start_time": "2022-01-26T08:03:56.916Z"
   },
   {
    "duration": 4,
    "start_time": "2022-01-26T08:04:06.403Z"
   },
   {
    "duration": 285,
    "start_time": "2022-01-26T08:04:15.546Z"
   },
   {
    "duration": 5,
    "start_time": "2022-01-26T08:04:32.646Z"
   },
   {
    "duration": 5,
    "start_time": "2022-01-26T08:04:52.758Z"
   },
   {
    "duration": 5,
    "start_time": "2022-01-26T08:05:35.386Z"
   },
   {
    "duration": 5,
    "start_time": "2022-01-26T08:05:46.586Z"
   },
   {
    "duration": 328,
    "start_time": "2022-01-26T08:05:53.903Z"
   },
   {
    "duration": 5,
    "start_time": "2022-01-26T08:06:05.017Z"
   },
   {
    "duration": 4096,
    "start_time": "2022-01-26T08:06:17.137Z"
   },
   {
    "duration": 6,
    "start_time": "2022-01-26T08:06:34.717Z"
   },
   {
    "duration": 3153,
    "start_time": "2022-01-26T08:07:21.216Z"
   },
   {
    "duration": 4391,
    "start_time": "2022-01-26T08:07:46.068Z"
   },
   {
    "duration": 4018,
    "start_time": "2022-01-26T08:08:00.662Z"
   },
   {
    "duration": 4807,
    "start_time": "2022-01-26T08:08:30.779Z"
   },
   {
    "duration": 5392,
    "start_time": "2022-01-26T08:09:20.128Z"
   },
   {
    "duration": 5579,
    "start_time": "2022-01-26T08:09:32.669Z"
   },
   {
    "duration": 6321,
    "start_time": "2022-01-26T08:10:07.179Z"
   },
   {
    "duration": 456,
    "start_time": "2022-01-26T08:13:27.130Z"
   },
   {
    "duration": 463,
    "start_time": "2022-01-26T08:13:36.111Z"
   },
   {
    "duration": 480,
    "start_time": "2022-01-26T08:14:20.032Z"
   },
   {
    "duration": 652,
    "start_time": "2022-01-26T08:14:53.303Z"
   },
   {
    "duration": 638,
    "start_time": "2022-01-26T08:14:56.870Z"
   },
   {
    "duration": 681,
    "start_time": "2022-01-26T08:16:02.062Z"
   },
   {
    "duration": 588,
    "start_time": "2022-01-26T08:17:36.424Z"
   },
   {
    "duration": 577,
    "start_time": "2022-01-26T08:18:26.162Z"
   },
   {
    "duration": 579,
    "start_time": "2022-01-26T08:18:27.691Z"
   },
   {
    "duration": 764,
    "start_time": "2022-01-26T08:18:34.611Z"
   },
   {
    "duration": 1211,
    "start_time": "2022-01-26T13:06:08.249Z"
   },
   {
    "duration": 7177,
    "start_time": "2022-01-26T13:06:09.462Z"
   },
   {
    "duration": 3,
    "start_time": "2022-01-26T13:06:16.641Z"
   },
   {
    "duration": 7,
    "start_time": "2022-01-26T13:06:16.646Z"
   },
   {
    "duration": 4,
    "start_time": "2022-01-26T13:06:16.654Z"
   },
   {
    "duration": 14,
    "start_time": "2022-01-26T13:06:16.659Z"
   },
   {
    "duration": 5,
    "start_time": "2022-01-26T13:06:16.674Z"
   },
   {
    "duration": 47,
    "start_time": "2022-01-26T13:06:16.681Z"
   },
   {
    "duration": 13,
    "start_time": "2022-01-26T13:06:16.730Z"
   },
   {
    "duration": 29,
    "start_time": "2022-01-26T13:06:16.745Z"
   },
   {
    "duration": 4,
    "start_time": "2022-01-26T13:06:16.775Z"
   },
   {
    "duration": 5,
    "start_time": "2022-01-26T13:06:16.780Z"
   },
   {
    "duration": 12,
    "start_time": "2022-01-26T13:06:16.786Z"
   },
   {
    "duration": 2278,
    "start_time": "2022-01-26T13:06:16.799Z"
   },
   {
    "duration": 3292,
    "start_time": "2022-01-26T13:06:19.079Z"
   },
   {
    "duration": 341,
    "start_time": "2022-01-26T13:06:22.373Z"
   },
   {
    "duration": 347,
    "start_time": "2022-01-26T13:06:22.716Z"
   },
   {
    "duration": 355,
    "start_time": "2022-01-26T13:06:23.064Z"
   },
   {
    "duration": 334,
    "start_time": "2022-01-26T13:06:23.420Z"
   },
   {
    "duration": 4,
    "start_time": "2022-01-26T13:06:51.374Z"
   },
   {
    "duration": 5,
    "start_time": "2022-01-26T13:07:32.916Z"
   },
   {
    "duration": 4,
    "start_time": "2022-01-26T13:11:35.298Z"
   },
   {
    "duration": 355,
    "start_time": "2022-01-26T13:13:21.436Z"
   },
   {
    "duration": 387,
    "start_time": "2022-01-26T13:13:46.355Z"
   },
   {
    "duration": 383,
    "start_time": "2022-01-26T13:13:58.436Z"
   },
   {
    "duration": 3,
    "start_time": "2022-01-26T13:14:53.497Z"
   },
   {
    "duration": 4,
    "start_time": "2022-01-26T13:14:57.539Z"
   },
   {
    "duration": 4,
    "start_time": "2022-01-26T13:18:03.955Z"
   },
   {
    "duration": 279,
    "start_time": "2022-01-26T13:18:18.848Z"
   },
   {
    "duration": 378,
    "start_time": "2022-01-26T13:18:27.705Z"
   },
   {
    "duration": 3,
    "start_time": "2022-01-26T13:21:47.011Z"
   },
   {
    "duration": 3,
    "start_time": "2022-01-26T13:22:09.099Z"
   },
   {
    "duration": 6,
    "start_time": "2022-01-26T13:24:48.829Z"
   },
   {
    "duration": 3,
    "start_time": "2022-01-26T13:24:49.680Z"
   },
   {
    "duration": 6,
    "start_time": "2022-01-26T13:26:26.810Z"
   },
   {
    "duration": 5,
    "start_time": "2022-01-26T13:26:39.481Z"
   },
   {
    "duration": 4,
    "start_time": "2022-01-26T13:26:54.792Z"
   },
   {
    "duration": 1648,
    "start_time": "2022-01-27T08:41:11.385Z"
   },
   {
    "duration": 3435,
    "start_time": "2022-01-27T08:41:13.035Z"
   },
   {
    "duration": 5,
    "start_time": "2022-01-27T08:41:16.473Z"
   },
   {
    "duration": 6,
    "start_time": "2022-01-27T08:41:16.482Z"
   },
   {
    "duration": 623,
    "start_time": "2022-01-27T08:41:16.490Z"
   },
   {
    "duration": 10,
    "start_time": "2022-01-27T08:41:17.115Z"
   },
   {
    "duration": 8,
    "start_time": "2022-01-27T08:41:17.127Z"
   },
   {
    "duration": 14,
    "start_time": "2022-01-27T08:41:17.139Z"
   },
   {
    "duration": 17,
    "start_time": "2022-01-27T08:41:17.157Z"
   },
   {
    "duration": 9,
    "start_time": "2022-01-27T08:41:17.176Z"
   },
   {
    "duration": 38,
    "start_time": "2022-01-27T08:41:17.188Z"
   },
   {
    "duration": 96,
    "start_time": "2022-01-27T08:41:17.229Z"
   },
   {
    "duration": 19,
    "start_time": "2022-01-27T08:41:17.327Z"
   },
   {
    "duration": 5,
    "start_time": "2022-01-27T08:41:17.350Z"
   },
   {
    "duration": 5,
    "start_time": "2022-01-27T08:41:17.357Z"
   },
   {
    "duration": 6,
    "start_time": "2022-01-27T08:41:17.365Z"
   },
   {
    "duration": 10,
    "start_time": "2022-01-27T08:41:17.373Z"
   },
   {
    "duration": 4609,
    "start_time": "2022-01-27T08:41:17.386Z"
   },
   {
    "duration": 7995,
    "start_time": "2022-01-27T08:41:21.997Z"
   },
   {
    "duration": 784,
    "start_time": "2022-01-27T08:41:29.995Z"
   },
   {
    "duration": 701,
    "start_time": "2022-01-27T08:41:30.782Z"
   },
   {
    "duration": 575,
    "start_time": "2022-01-27T08:41:31.485Z"
   },
   {
    "duration": 563,
    "start_time": "2022-01-27T08:41:32.064Z"
   },
   {
    "duration": 742,
    "start_time": "2022-01-27T08:41:37.150Z"
   },
   {
    "duration": 712,
    "start_time": "2022-01-27T08:43:55.827Z"
   },
   {
    "duration": 971,
    "start_time": "2022-01-27T08:44:06.074Z"
   },
   {
    "duration": 543,
    "start_time": "2022-01-27T08:44:18.560Z"
   },
   {
    "duration": 903,
    "start_time": "2022-01-27T08:44:35.792Z"
   },
   {
    "duration": 784,
    "start_time": "2022-01-27T08:44:59.140Z"
   },
   {
    "duration": 98,
    "start_time": "2022-01-27T08:45:03.831Z"
   },
   {
    "duration": 95,
    "start_time": "2022-01-27T08:45:07.200Z"
   },
   {
    "duration": 306,
    "start_time": "2022-01-27T08:45:51.333Z"
   },
   {
    "duration": 312,
    "start_time": "2022-01-27T08:46:02.461Z"
   },
   {
    "duration": 454,
    "start_time": "2022-01-27T08:46:13.094Z"
   },
   {
    "duration": 304,
    "start_time": "2022-01-27T08:46:55.703Z"
   },
   {
    "duration": 404,
    "start_time": "2022-01-27T08:47:39.622Z"
   },
   {
    "duration": 300,
    "start_time": "2022-01-27T08:49:15.672Z"
   },
   {
    "duration": 583,
    "start_time": "2022-01-27T08:49:47.684Z"
   },
   {
    "duration": 303,
    "start_time": "2022-01-27T08:50:16.662Z"
   },
   {
    "duration": 323,
    "start_time": "2022-01-27T08:50:28.163Z"
   },
   {
    "duration": 325,
    "start_time": "2022-01-27T08:50:43.892Z"
   },
   {
    "duration": 306,
    "start_time": "2022-01-27T08:51:11.241Z"
   },
   {
    "duration": 313,
    "start_time": "2022-01-27T08:51:17.002Z"
   },
   {
    "duration": 362,
    "start_time": "2022-01-27T08:51:22.302Z"
   },
   {
    "duration": 308,
    "start_time": "2022-01-27T08:51:29.292Z"
   },
   {
    "duration": 314,
    "start_time": "2022-01-27T08:51:51.288Z"
   },
   {
    "duration": 15,
    "start_time": "2022-01-27T08:52:08.539Z"
   },
   {
    "duration": 369,
    "start_time": "2022-01-27T08:57:45.728Z"
   },
   {
    "duration": 377,
    "start_time": "2022-01-27T08:57:54.748Z"
   },
   {
    "duration": 301,
    "start_time": "2022-01-27T08:57:56.015Z"
   },
   {
    "duration": 11,
    "start_time": "2022-01-27T08:57:57.815Z"
   },
   {
    "duration": 307,
    "start_time": "2022-01-27T08:58:17.546Z"
   },
   {
    "duration": 14,
    "start_time": "2022-01-27T08:58:25.665Z"
   },
   {
    "duration": 8,
    "start_time": "2022-01-27T08:58:50.786Z"
   },
   {
    "duration": 295,
    "start_time": "2022-01-27T08:59:07.555Z"
   },
   {
    "duration": 374,
    "start_time": "2022-01-27T09:00:02.966Z"
   },
   {
    "duration": 10,
    "start_time": "2022-01-27T09:01:32.266Z"
   },
   {
    "duration": 500,
    "start_time": "2022-01-27T09:01:47.101Z"
   },
   {
    "duration": 13,
    "start_time": "2022-01-27T09:01:48.397Z"
   },
   {
    "duration": 8,
    "start_time": "2022-01-27T09:35:55.962Z"
   },
   {
    "duration": 40,
    "start_time": "2022-01-27T09:44:25.006Z"
   },
   {
    "duration": 17,
    "start_time": "2022-01-27T09:44:31.494Z"
   },
   {
    "duration": 20,
    "start_time": "2022-01-27T09:44:39.164Z"
   },
   {
    "duration": 19,
    "start_time": "2022-01-27T09:47:41.854Z"
   },
   {
    "duration": 103,
    "start_time": "2022-01-27T09:49:01.037Z"
   },
   {
    "duration": 102,
    "start_time": "2022-01-27T09:49:07.629Z"
   },
   {
    "duration": 24,
    "start_time": "2022-01-27T09:49:24.215Z"
   },
   {
    "duration": 13,
    "start_time": "2022-01-27T09:51:44.336Z"
   },
   {
    "duration": 16,
    "start_time": "2022-01-27T09:52:20.137Z"
   },
   {
    "duration": 7,
    "start_time": "2022-01-27T09:52:30.707Z"
   },
   {
    "duration": 540,
    "start_time": "2022-01-27T09:52:53.407Z"
   },
   {
    "duration": 985,
    "start_time": "2022-01-27T09:53:15.217Z"
   },
   {
    "duration": 812,
    "start_time": "2022-01-27T09:53:31.369Z"
   },
   {
    "duration": 873,
    "start_time": "2022-01-27T09:53:40.838Z"
   },
   {
    "duration": 1348,
    "start_time": "2022-01-27T09:53:47.858Z"
   },
   {
    "duration": 1390,
    "start_time": "2022-01-27T09:54:07.108Z"
   },
   {
    "duration": 908,
    "start_time": "2022-01-27T09:54:13.518Z"
   },
   {
    "duration": 356,
    "start_time": "2022-01-27T13:31:22.646Z"
   },
   {
    "duration": 1154,
    "start_time": "2022-01-27T13:31:27.907Z"
   },
   {
    "duration": 2790,
    "start_time": "2022-01-27T13:31:29.063Z"
   },
   {
    "duration": 56,
    "start_time": "2022-01-27T13:31:31.855Z"
   },
   {
    "duration": 15,
    "start_time": "2022-01-27T13:31:31.913Z"
   },
   {
    "duration": 13,
    "start_time": "2022-01-27T13:31:31.930Z"
   },
   {
    "duration": 534,
    "start_time": "2022-01-27T13:31:31.945Z"
   },
   {
    "duration": 13,
    "start_time": "2022-01-27T13:31:32.480Z"
   },
   {
    "duration": 10,
    "start_time": "2022-01-27T13:31:32.495Z"
   },
   {
    "duration": 4,
    "start_time": "2022-01-27T13:31:32.507Z"
   },
   {
    "duration": 3,
    "start_time": "2022-01-27T13:31:32.512Z"
   },
   {
    "duration": 417,
    "start_time": "2022-01-27T13:31:32.516Z"
   },
   {
    "duration": 4,
    "start_time": "2022-01-27T13:31:32.935Z"
   },
   {
    "duration": 4,
    "start_time": "2022-01-27T13:31:32.941Z"
   },
   {
    "duration": 5,
    "start_time": "2022-01-27T13:31:32.946Z"
   },
   {
    "duration": 3,
    "start_time": "2022-01-27T13:31:32.971Z"
   },
   {
    "duration": 4,
    "start_time": "2022-01-27T13:31:32.976Z"
   },
   {
    "duration": 6,
    "start_time": "2022-01-27T13:31:32.981Z"
   },
   {
    "duration": 6,
    "start_time": "2022-01-27T13:31:32.988Z"
   },
   {
    "duration": 9,
    "start_time": "2022-01-27T13:31:32.995Z"
   },
   {
    "duration": 12,
    "start_time": "2022-01-27T13:31:33.005Z"
   },
   {
    "duration": 2342,
    "start_time": "2022-01-27T13:31:33.019Z"
   },
   {
    "duration": 3179,
    "start_time": "2022-01-27T13:31:35.363Z"
   },
   {
    "duration": 276,
    "start_time": "2022-01-27T13:31:38.545Z"
   },
   {
    "duration": 285,
    "start_time": "2022-01-27T13:31:38.823Z"
   },
   {
    "duration": 303,
    "start_time": "2022-01-27T13:31:39.109Z"
   },
   {
    "duration": 406,
    "start_time": "2022-01-27T13:31:39.414Z"
   },
   {
    "duration": 273,
    "start_time": "2022-01-27T13:31:39.822Z"
   },
   {
    "duration": 241,
    "start_time": "2022-01-27T13:31:40.097Z"
   },
   {
    "duration": 7,
    "start_time": "2022-01-27T13:31:40.340Z"
   },
   {
    "duration": 559,
    "start_time": "2022-01-27T13:31:40.349Z"
   },
   {
    "duration": 949,
    "start_time": "2022-01-27T13:32:19.490Z"
   },
   {
    "duration": 958,
    "start_time": "2022-01-27T13:32:26.941Z"
   },
   {
    "duration": 6,
    "start_time": "2022-01-27T13:32:48.542Z"
   },
   {
    "duration": 4,
    "start_time": "2022-01-28T06:33:30.065Z"
   },
   {
    "duration": 1164,
    "start_time": "2022-01-28T06:33:37.052Z"
   },
   {
    "duration": 3356,
    "start_time": "2022-01-28T06:33:38.218Z"
   },
   {
    "duration": 68,
    "start_time": "2022-01-28T06:33:41.576Z"
   },
   {
    "duration": 18,
    "start_time": "2022-01-28T06:33:41.646Z"
   },
   {
    "duration": 32,
    "start_time": "2022-01-28T06:33:41.665Z"
   },
   {
    "duration": 613,
    "start_time": "2022-01-28T06:33:41.699Z"
   },
   {
    "duration": 14,
    "start_time": "2022-01-28T06:33:42.313Z"
   },
   {
    "duration": 14,
    "start_time": "2022-01-28T06:33:42.329Z"
   },
   {
    "duration": 4,
    "start_time": "2022-01-28T06:33:42.345Z"
   },
   {
    "duration": 6,
    "start_time": "2022-01-28T06:33:42.350Z"
   },
   {
    "duration": 456,
    "start_time": "2022-01-28T06:33:42.358Z"
   },
   {
    "duration": 4,
    "start_time": "2022-01-28T06:33:42.816Z"
   },
   {
    "duration": 5,
    "start_time": "2022-01-28T06:33:42.822Z"
   },
   {
    "duration": 6,
    "start_time": "2022-01-28T06:33:42.829Z"
   },
   {
    "duration": 6,
    "start_time": "2022-01-28T06:33:42.837Z"
   },
   {
    "duration": 6,
    "start_time": "2022-01-28T06:33:42.844Z"
   },
   {
    "duration": 6,
    "start_time": "2022-01-28T06:33:42.852Z"
   },
   {
    "duration": 8,
    "start_time": "2022-01-28T06:33:42.860Z"
   },
   {
    "duration": 29,
    "start_time": "2022-01-28T06:33:42.869Z"
   },
   {
    "duration": 11,
    "start_time": "2022-01-28T06:33:42.900Z"
   },
   {
    "duration": 2685,
    "start_time": "2022-01-28T06:33:42.913Z"
   },
   {
    "duration": 3613,
    "start_time": "2022-01-28T06:33:45.600Z"
   },
   {
    "duration": 347,
    "start_time": "2022-01-28T06:33:49.216Z"
   },
   {
    "duration": 345,
    "start_time": "2022-01-28T06:33:49.565Z"
   },
   {
    "duration": 361,
    "start_time": "2022-01-28T06:33:49.911Z"
   },
   {
    "duration": 478,
    "start_time": "2022-01-28T06:33:50.274Z"
   },
   {
    "duration": 300,
    "start_time": "2022-01-28T06:33:50.754Z"
   },
   {
    "duration": 268,
    "start_time": "2022-01-28T06:33:51.055Z"
   },
   {
    "duration": 7,
    "start_time": "2022-01-28T06:33:51.324Z"
   },
   {
    "duration": 1021,
    "start_time": "2022-01-28T06:33:51.333Z"
   },
   {
    "duration": 7,
    "start_time": "2022-01-28T06:33:52.356Z"
   },
   {
    "duration": 6,
    "start_time": "2022-01-28T06:33:52.364Z"
   },
   {
    "duration": 1088,
    "start_time": "2022-01-28T06:36:02.590Z"
   },
   {
    "duration": 1263,
    "start_time": "2022-01-28T06:36:44.162Z"
   },
   {
    "duration": 5,
    "start_time": "2022-01-28T06:37:31.700Z"
   },
   {
    "duration": 2613,
    "start_time": "2022-01-28T06:37:35.720Z"
   },
   {
    "duration": 1892,
    "start_time": "2022-01-28T06:37:53.710Z"
   },
   {
    "duration": 2750,
    "start_time": "2022-01-28T06:39:05.691Z"
   },
   {
    "duration": 181,
    "start_time": "2022-01-28T06:41:29.091Z"
   },
   {
    "duration": 208,
    "start_time": "2022-01-28T06:41:35.285Z"
   },
   {
    "duration": 289,
    "start_time": "2022-01-28T06:41:59.902Z"
   },
   {
    "duration": 175,
    "start_time": "2022-01-28T06:42:09.606Z"
   },
   {
    "duration": 15,
    "start_time": "2022-01-28T06:43:43.234Z"
   },
   {
    "duration": 20,
    "start_time": "2022-01-28T06:43:59.373Z"
   },
   {
    "duration": 3,
    "start_time": "2022-01-28T06:44:08.844Z"
   },
   {
    "duration": 2798,
    "start_time": "2022-01-28T06:44:09.672Z"
   },
   {
    "duration": 29,
    "start_time": "2022-01-28T06:44:12.472Z"
   },
   {
    "duration": 22,
    "start_time": "2022-01-28T06:44:28.193Z"
   },
   {
    "duration": 22,
    "start_time": "2022-01-28T06:45:00.172Z"
   },
   {
    "duration": 22,
    "start_time": "2022-01-28T06:45:01.211Z"
   },
   {
    "duration": 2771,
    "start_time": "2022-01-28T06:45:45.053Z"
   },
   {
    "duration": 2758,
    "start_time": "2022-01-28T06:46:31.204Z"
   },
   {
    "duration": 2803,
    "start_time": "2022-01-28T06:47:23.553Z"
   },
   {
    "duration": 2820,
    "start_time": "2022-01-28T06:48:10.797Z"
   },
   {
    "duration": 2719,
    "start_time": "2022-01-28T06:48:47.853Z"
   },
   {
    "duration": 992,
    "start_time": "2022-01-28T06:49:30.723Z"
   },
   {
    "duration": 978,
    "start_time": "2022-01-28T06:49:41.014Z"
   },
   {
    "duration": 2944,
    "start_time": "2022-01-28T06:50:21.146Z"
   },
   {
    "duration": 2772,
    "start_time": "2022-01-28T06:50:43.945Z"
   },
   {
    "duration": 4624,
    "start_time": "2022-01-28T06:50:57.645Z"
   },
   {
    "duration": 181,
    "start_time": "2022-01-28T06:58:26.524Z"
   },
   {
    "duration": 3,
    "start_time": "2022-01-28T06:58:30.606Z"
   },
   {
    "duration": 25,
    "start_time": "2022-01-28T06:58:30.936Z"
   },
   {
    "duration": 16,
    "start_time": "2022-01-28T06:59:02.767Z"
   },
   {
    "duration": 525,
    "start_time": "2022-01-28T07:00:02.268Z"
   },
   {
    "duration": 1348,
    "start_time": "2022-01-28T08:28:12.429Z"
   },
   {
    "duration": 2323,
    "start_time": "2022-01-28T08:29:38.749Z"
   },
   {
    "duration": 4812,
    "start_time": "2022-01-28T08:31:11.928Z"
   },
   {
    "duration": 1529,
    "start_time": "2022-01-28T08:34:55.389Z"
   },
   {
    "duration": 419,
    "start_time": "2022-01-28T08:37:40.711Z"
   },
   {
    "duration": 2130,
    "start_time": "2022-01-28T08:38:22.990Z"
   },
   {
    "duration": 2341,
    "start_time": "2022-01-28T08:39:17.040Z"
   },
   {
    "duration": 2425,
    "start_time": "2022-01-28T08:39:40.996Z"
   },
   {
    "duration": 1095,
    "start_time": "2022-01-28T08:42:56.722Z"
   },
   {
    "duration": 774,
    "start_time": "2022-01-28T08:45:27.544Z"
   },
   {
    "duration": 1140,
    "start_time": "2022-01-28T08:46:05.583Z"
   },
   {
    "duration": 1072,
    "start_time": "2022-01-28T08:46:16.692Z"
   },
   {
    "duration": 1038,
    "start_time": "2022-01-28T08:46:45.813Z"
   },
   {
    "duration": 1242,
    "start_time": "2022-01-28T08:46:54.062Z"
   },
   {
    "duration": 1061,
    "start_time": "2022-01-28T08:47:29.593Z"
   },
   {
    "duration": 1347,
    "start_time": "2022-01-28T08:47:44.113Z"
   },
   {
    "duration": 2290,
    "start_time": "2022-01-28T08:48:06.075Z"
   },
   {
    "duration": 962,
    "start_time": "2022-01-28T08:48:18.882Z"
   },
   {
    "duration": 1164,
    "start_time": "2022-01-28T08:48:27.372Z"
   },
   {
    "duration": 930,
    "start_time": "2022-01-28T08:49:06.434Z"
   },
   {
    "duration": 934,
    "start_time": "2022-01-28T08:49:13.043Z"
   },
   {
    "duration": 921,
    "start_time": "2022-01-28T08:49:27.094Z"
   },
   {
    "duration": 1146,
    "start_time": "2022-01-28T08:49:32.644Z"
   },
   {
    "duration": 914,
    "start_time": "2022-01-28T08:49:47.383Z"
   },
   {
    "duration": 206,
    "start_time": "2022-01-28T08:51:35.186Z"
   },
   {
    "duration": 179,
    "start_time": "2022-01-28T08:53:06.115Z"
   },
   {
    "duration": 18,
    "start_time": "2022-01-28T08:53:12.175Z"
   },
   {
    "duration": 60,
    "start_time": "2022-01-28T08:53:36.355Z"
   },
   {
    "duration": 204,
    "start_time": "2022-01-28T08:53:39.534Z"
   },
   {
    "duration": 21,
    "start_time": "2022-01-28T08:54:02.375Z"
   },
   {
    "duration": 28,
    "start_time": "2022-01-28T08:54:07.925Z"
   },
   {
    "duration": 29,
    "start_time": "2022-01-28T08:54:46.036Z"
   },
   {
    "duration": 5,
    "start_time": "2022-01-28T08:59:22.346Z"
   },
   {
    "duration": 206,
    "start_time": "2022-01-28T09:01:42.798Z"
   },
   {
    "duration": 197,
    "start_time": "2022-01-28T09:01:57.440Z"
   },
   {
    "duration": 27,
    "start_time": "2022-01-28T09:02:04.526Z"
   },
   {
    "duration": 6,
    "start_time": "2022-01-28T09:06:02.278Z"
   },
   {
    "duration": 9,
    "start_time": "2022-01-28T09:08:13.697Z"
   },
   {
    "duration": 7,
    "start_time": "2022-01-28T09:09:55.039Z"
   },
   {
    "duration": 5,
    "start_time": "2022-01-28T09:11:30.050Z"
   },
   {
    "duration": 494,
    "start_time": "2022-01-28T09:12:53.310Z"
   },
   {
    "duration": 6,
    "start_time": "2022-01-28T09:13:02.310Z"
   },
   {
    "duration": 5,
    "start_time": "2022-01-28T09:14:39.750Z"
   },
   {
    "duration": 5,
    "start_time": "2022-01-28T09:15:08.702Z"
   },
   {
    "duration": 5,
    "start_time": "2022-01-28T09:15:31.871Z"
   },
   {
    "duration": 5,
    "start_time": "2022-01-28T09:15:34.944Z"
   },
   {
    "duration": 2583,
    "start_time": "2022-01-28T09:15:34.950Z"
   },
   {
    "duration": 64,
    "start_time": "2022-01-28T09:15:37.535Z"
   },
   {
    "duration": 17,
    "start_time": "2022-01-28T09:15:37.601Z"
   },
   {
    "duration": 17,
    "start_time": "2022-01-28T09:15:37.620Z"
   },
   {
    "duration": 604,
    "start_time": "2022-01-28T09:15:37.639Z"
   },
   {
    "duration": 12,
    "start_time": "2022-01-28T09:15:38.246Z"
   },
   {
    "duration": 12,
    "start_time": "2022-01-28T09:15:38.260Z"
   },
   {
    "duration": 24,
    "start_time": "2022-01-28T09:15:38.274Z"
   },
   {
    "duration": 9,
    "start_time": "2022-01-28T09:15:38.300Z"
   },
   {
    "duration": 423,
    "start_time": "2022-01-28T09:15:38.311Z"
   },
   {
    "duration": 5,
    "start_time": "2022-01-28T09:15:38.736Z"
   },
   {
    "duration": 7,
    "start_time": "2022-01-28T09:15:38.742Z"
   },
   {
    "duration": 13,
    "start_time": "2022-01-28T09:15:38.751Z"
   },
   {
    "duration": 7,
    "start_time": "2022-01-28T09:15:38.765Z"
   },
   {
    "duration": 5,
    "start_time": "2022-01-28T09:15:38.774Z"
   },
   {
    "duration": 6,
    "start_time": "2022-01-28T09:15:38.796Z"
   },
   {
    "duration": 9,
    "start_time": "2022-01-28T09:15:38.804Z"
   },
   {
    "duration": 5,
    "start_time": "2022-01-28T09:15:38.817Z"
   },
   {
    "duration": 8,
    "start_time": "2022-01-28T09:15:38.824Z"
   },
   {
    "duration": 2784,
    "start_time": "2022-01-28T09:15:38.833Z"
   },
   {
    "duration": 3927,
    "start_time": "2022-01-28T09:15:41.619Z"
   },
   {
    "duration": 353,
    "start_time": "2022-01-28T09:15:45.548Z"
   },
   {
    "duration": 357,
    "start_time": "2022-01-28T09:15:45.902Z"
   },
   {
    "duration": 359,
    "start_time": "2022-01-28T09:15:46.260Z"
   },
   {
    "duration": 358,
    "start_time": "2022-01-28T09:15:46.620Z"
   },
   {
    "duration": 302,
    "start_time": "2022-01-28T09:15:46.980Z"
   },
   {
    "duration": 258,
    "start_time": "2022-01-28T09:15:47.284Z"
   },
   {
    "duration": 7,
    "start_time": "2022-01-28T09:15:47.544Z"
   },
   {
    "duration": 1253,
    "start_time": "2022-01-28T09:15:47.553Z"
   },
   {
    "duration": 7,
    "start_time": "2022-01-28T09:15:48.808Z"
   },
   {
    "duration": 7,
    "start_time": "2022-01-28T09:15:48.816Z"
   },
   {
    "duration": 5293,
    "start_time": "2022-01-28T09:15:48.825Z"
   },
   {
    "duration": 21,
    "start_time": "2022-01-28T09:15:54.120Z"
   },
   {
    "duration": 21,
    "start_time": "2022-01-28T09:15:54.143Z"
   },
   {
    "duration": 45,
    "start_time": "2022-01-28T09:15:54.166Z"
   },
   {
    "duration": 3,
    "start_time": "2022-01-28T09:15:54.214Z"
   },
   {
    "duration": 38,
    "start_time": "2022-01-28T09:15:54.219Z"
   },
   {
    "duration": 13,
    "start_time": "2022-01-28T09:15:54.259Z"
   },
   {
    "duration": 920,
    "start_time": "2022-01-28T09:15:54.273Z"
   },
   {
    "duration": 5,
    "start_time": "2022-01-28T09:15:55.196Z"
   },
   {
    "duration": 11,
    "start_time": "2022-01-28T09:15:55.202Z"
   },
   {
    "duration": 7,
    "start_time": "2022-01-28T09:15:55.214Z"
   },
   {
    "duration": 4,
    "start_time": "2022-01-28T09:15:55.223Z"
   },
   {
    "duration": 190,
    "start_time": "2022-01-28T09:18:29.921Z"
   },
   {
    "duration": 189,
    "start_time": "2022-01-28T09:18:52.821Z"
   },
   {
    "duration": 6,
    "start_time": "2022-01-28T09:19:07.831Z"
   },
   {
    "duration": 7,
    "start_time": "2022-01-28T09:19:28.001Z"
   },
   {
    "duration": 6,
    "start_time": "2022-01-28T09:20:05.673Z"
   },
   {
    "duration": 7,
    "start_time": "2022-01-28T09:20:48.872Z"
   },
   {
    "duration": 7,
    "start_time": "2022-01-28T09:21:06.219Z"
   },
   {
    "duration": 5,
    "start_time": "2022-01-28T09:21:07.263Z"
   },
   {
    "duration": 60,
    "start_time": "2022-01-28T09:23:57.832Z"
   },
   {
    "duration": 7,
    "start_time": "2022-01-28T09:24:06.162Z"
   },
   {
    "duration": 8,
    "start_time": "2022-01-28T09:25:04.963Z"
   },
   {
    "duration": 5,
    "start_time": "2022-01-28T09:25:29.934Z"
   },
   {
    "duration": 67,
    "start_time": "2022-01-28T09:27:21.695Z"
   },
   {
    "duration": 8,
    "start_time": "2022-01-28T09:27:26.733Z"
   },
   {
    "duration": 82,
    "start_time": "2022-01-28T09:28:56.384Z"
   },
   {
    "duration": 4,
    "start_time": "2022-01-28T09:29:03.313Z"
   },
   {
    "duration": 172,
    "start_time": "2022-01-28T09:29:31.784Z"
   },
   {
    "duration": 183,
    "start_time": "2022-01-28T09:29:40.305Z"
   },
   {
    "duration": 186,
    "start_time": "2022-01-28T09:33:37.637Z"
   },
   {
    "duration": 223,
    "start_time": "2022-01-28T10:30:00.735Z"
   },
   {
    "duration": 7,
    "start_time": "2022-01-28T10:34:12.195Z"
   },
   {
    "duration": 7,
    "start_time": "2022-01-28T10:34:19.077Z"
   },
   {
    "duration": 192,
    "start_time": "2022-01-28T10:35:05.762Z"
   },
   {
    "duration": 190,
    "start_time": "2022-01-28T10:35:12.276Z"
   },
   {
    "duration": 185,
    "start_time": "2022-01-28T10:36:20.804Z"
   },
   {
    "duration": 197,
    "start_time": "2022-01-28T10:37:00.947Z"
   },
   {
    "duration": 13,
    "start_time": "2022-01-28T10:37:11.817Z"
   },
   {
    "duration": 8,
    "start_time": "2022-01-28T10:38:17.278Z"
   },
   {
    "duration": 7,
    "start_time": "2022-01-28T10:38:30.698Z"
   },
   {
    "duration": 7,
    "start_time": "2022-01-28T10:38:51.646Z"
   },
   {
    "duration": 13,
    "start_time": "2022-01-28T10:39:11.858Z"
   },
   {
    "duration": 174,
    "start_time": "2022-01-28T10:39:56.017Z"
   },
   {
    "duration": 8,
    "start_time": "2022-01-28T10:40:01.798Z"
   },
   {
    "duration": 12,
    "start_time": "2022-01-28T10:42:22.601Z"
   },
   {
    "duration": 2,
    "start_time": "2022-01-28T10:45:12.541Z"
   },
   {
    "duration": 8,
    "start_time": "2022-01-28T10:45:17.838Z"
   },
   {
    "duration": 14,
    "start_time": "2022-01-28T10:45:19.118Z"
   },
   {
    "duration": 12,
    "start_time": "2022-01-28T10:45:20.698Z"
   },
   {
    "duration": 13,
    "start_time": "2022-01-28T10:45:21.529Z"
   },
   {
    "duration": 12,
    "start_time": "2022-01-28T10:45:43.741Z"
   },
   {
    "duration": 12,
    "start_time": "2022-01-28T10:45:55.839Z"
   },
   {
    "duration": 11,
    "start_time": "2022-01-28T10:46:24.870Z"
   },
   {
    "duration": 7,
    "start_time": "2022-01-28T10:47:05.850Z"
   },
   {
    "duration": 11,
    "start_time": "2022-01-28T10:47:06.409Z"
   },
   {
    "duration": 12,
    "start_time": "2022-01-28T10:47:07.239Z"
   },
   {
    "duration": 11,
    "start_time": "2022-01-28T10:47:08.039Z"
   },
   {
    "duration": 860,
    "start_time": "2022-01-28T10:47:56.230Z"
   },
   {
    "duration": 15,
    "start_time": "2022-01-28T11:00:41.451Z"
   },
   {
    "duration": 9,
    "start_time": "2022-01-28T11:00:54.455Z"
   },
   {
    "duration": 9,
    "start_time": "2022-01-28T11:01:05.064Z"
   },
   {
    "duration": 13,
    "start_time": "2022-01-28T11:01:48.726Z"
   },
   {
    "duration": 12,
    "start_time": "2022-01-28T11:01:58.494Z"
   },
   {
    "duration": 11,
    "start_time": "2022-01-28T11:02:06.575Z"
   },
   {
    "duration": 8,
    "start_time": "2022-01-28T11:02:14.594Z"
   },
   {
    "duration": 1198,
    "start_time": "2022-01-29T13:13:35.884Z"
   },
   {
    "duration": 3,
    "start_time": "2022-01-29T13:13:37.085Z"
   },
   {
    "duration": 2843,
    "start_time": "2022-01-29T13:13:37.091Z"
   },
   {
    "duration": 33,
    "start_time": "2022-01-29T13:13:39.937Z"
   },
   {
    "duration": 17,
    "start_time": "2022-01-29T13:13:39.972Z"
   },
   {
    "duration": 15,
    "start_time": "2022-01-29T13:13:39.990Z"
   },
   {
    "duration": 489,
    "start_time": "2022-01-29T13:13:40.006Z"
   },
   {
    "duration": 13,
    "start_time": "2022-01-29T13:13:40.498Z"
   },
   {
    "duration": 13,
    "start_time": "2022-01-29T13:13:40.513Z"
   },
   {
    "duration": 4,
    "start_time": "2022-01-29T13:13:40.528Z"
   },
   {
    "duration": 4,
    "start_time": "2022-01-29T13:13:40.534Z"
   },
   {
    "duration": 447,
    "start_time": "2022-01-29T13:13:40.540Z"
   },
   {
    "duration": 4,
    "start_time": "2022-01-29T13:13:40.989Z"
   },
   {
    "duration": 7,
    "start_time": "2022-01-29T13:13:40.995Z"
   },
   {
    "duration": 8,
    "start_time": "2022-01-29T13:13:41.004Z"
   },
   {
    "duration": 5,
    "start_time": "2022-01-29T13:13:41.013Z"
   },
   {
    "duration": 5,
    "start_time": "2022-01-29T13:13:41.020Z"
   },
   {
    "duration": 35,
    "start_time": "2022-01-29T13:13:41.026Z"
   },
   {
    "duration": 7,
    "start_time": "2022-01-29T13:13:41.063Z"
   },
   {
    "duration": 5,
    "start_time": "2022-01-29T13:13:41.072Z"
   },
   {
    "duration": 11,
    "start_time": "2022-01-29T13:13:41.078Z"
   },
   {
    "duration": 1916,
    "start_time": "2022-01-29T13:13:41.091Z"
   },
   {
    "duration": 2730,
    "start_time": "2022-01-29T13:13:43.010Z"
   },
   {
    "duration": 261,
    "start_time": "2022-01-29T13:13:45.742Z"
   },
   {
    "duration": 267,
    "start_time": "2022-01-29T13:13:46.005Z"
   },
   {
    "duration": 276,
    "start_time": "2022-01-29T13:13:46.273Z"
   },
   {
    "duration": 260,
    "start_time": "2022-01-29T13:13:46.558Z"
   },
   {
    "duration": 256,
    "start_time": "2022-01-29T13:13:46.820Z"
   },
   {
    "duration": 243,
    "start_time": "2022-01-29T13:13:47.078Z"
   },
   {
    "duration": 8,
    "start_time": "2022-01-29T13:13:47.322Z"
   },
   {
    "duration": 769,
    "start_time": "2022-01-29T13:13:47.331Z"
   },
   {
    "duration": 7,
    "start_time": "2022-01-29T13:13:48.102Z"
   },
   {
    "duration": 3,
    "start_time": "2022-01-29T13:13:48.110Z"
   },
   {
    "duration": 4242,
    "start_time": "2022-01-29T13:13:48.114Z"
   },
   {
    "duration": 21,
    "start_time": "2022-01-29T13:13:52.359Z"
   },
   {
    "duration": 19,
    "start_time": "2022-01-29T13:13:52.382Z"
   },
   {
    "duration": 21,
    "start_time": "2022-01-29T13:13:52.403Z"
   },
   {
    "duration": 2,
    "start_time": "2022-01-29T13:13:52.426Z"
   },
   {
    "duration": 35,
    "start_time": "2022-01-29T13:13:52.460Z"
   },
   {
    "duration": 12,
    "start_time": "2022-01-29T13:13:52.496Z"
   },
   {
    "duration": 665,
    "start_time": "2022-01-29T13:13:52.510Z"
   },
   {
    "duration": 8,
    "start_time": "2022-01-29T13:13:53.176Z"
   },
   {
    "duration": 12,
    "start_time": "2022-01-29T13:13:53.185Z"
   },
   {
    "duration": 12,
    "start_time": "2022-01-29T13:13:53.199Z"
   },
   {
    "duration": 11,
    "start_time": "2022-01-29T13:13:53.212Z"
   },
   {
    "duration": 36,
    "start_time": "2022-01-29T13:13:53.224Z"
   },
   {
    "duration": 332,
    "start_time": "2022-01-31T06:41:11.107Z"
   },
   {
    "duration": 1127,
    "start_time": "2022-01-31T06:41:19.373Z"
   },
   {
    "duration": 2,
    "start_time": "2022-01-31T06:41:20.502Z"
   },
   {
    "duration": 6497,
    "start_time": "2022-01-31T06:41:20.507Z"
   },
   {
    "duration": 22,
    "start_time": "2022-01-31T06:41:27.006Z"
   },
   {
    "duration": 16,
    "start_time": "2022-01-31T06:41:27.029Z"
   },
   {
    "duration": 30,
    "start_time": "2022-01-31T06:41:27.046Z"
   },
   {
    "duration": 407,
    "start_time": "2022-01-31T06:41:27.078Z"
   },
   {
    "duration": 13,
    "start_time": "2022-01-31T06:41:27.489Z"
   },
   {
    "duration": 13,
    "start_time": "2022-01-31T06:41:27.504Z"
   },
   {
    "duration": 5,
    "start_time": "2022-01-31T06:41:27.519Z"
   },
   {
    "duration": 4,
    "start_time": "2022-01-31T06:41:27.526Z"
   },
   {
    "duration": 420,
    "start_time": "2022-01-31T06:41:27.532Z"
   },
   {
    "duration": 5,
    "start_time": "2022-01-31T06:41:27.954Z"
   },
   {
    "duration": 12,
    "start_time": "2022-01-31T06:41:27.960Z"
   },
   {
    "duration": 6,
    "start_time": "2022-01-31T06:41:27.974Z"
   },
   {
    "duration": 5,
    "start_time": "2022-01-31T06:41:27.982Z"
   },
   {
    "duration": 4,
    "start_time": "2022-01-31T06:41:27.989Z"
   },
   {
    "duration": 5,
    "start_time": "2022-01-31T06:41:27.995Z"
   },
   {
    "duration": 11,
    "start_time": "2022-01-31T06:41:28.001Z"
   },
   {
    "duration": 8,
    "start_time": "2022-01-31T06:41:28.013Z"
   },
   {
    "duration": 12,
    "start_time": "2022-01-31T06:41:28.022Z"
   },
   {
    "duration": 1600,
    "start_time": "2022-01-31T06:41:28.035Z"
   },
   {
    "duration": 2237,
    "start_time": "2022-01-31T06:41:29.638Z"
   },
   {
    "duration": 209,
    "start_time": "2022-01-31T06:41:31.877Z"
   },
   {
    "duration": 220,
    "start_time": "2022-01-31T06:41:32.087Z"
   },
   {
    "duration": 231,
    "start_time": "2022-01-31T06:41:32.308Z"
   },
   {
    "duration": 227,
    "start_time": "2022-01-31T06:41:32.541Z"
   },
   {
    "duration": 241,
    "start_time": "2022-01-31T06:41:32.769Z"
   },
   {
    "duration": 236,
    "start_time": "2022-01-31T06:41:33.011Z"
   },
   {
    "duration": 6,
    "start_time": "2022-01-31T06:41:33.248Z"
   },
   {
    "duration": 635,
    "start_time": "2022-01-31T06:41:33.256Z"
   },
   {
    "duration": 6,
    "start_time": "2022-01-31T06:41:33.893Z"
   },
   {
    "duration": 7,
    "start_time": "2022-01-31T06:41:33.900Z"
   },
   {
    "duration": 3704,
    "start_time": "2022-01-31T06:41:33.909Z"
   },
   {
    "duration": 17,
    "start_time": "2022-01-31T06:41:37.615Z"
   },
   {
    "duration": 16,
    "start_time": "2022-01-31T06:41:37.634Z"
   },
   {
    "duration": 33,
    "start_time": "2022-01-31T06:41:37.651Z"
   },
   {
    "duration": 2,
    "start_time": "2022-01-31T06:41:37.685Z"
   },
   {
    "duration": 30,
    "start_time": "2022-01-31T06:41:37.689Z"
   },
   {
    "duration": 11,
    "start_time": "2022-01-31T06:41:37.720Z"
   },
   {
    "duration": 1134,
    "start_time": "2022-01-31T06:41:37.732Z"
   },
   {
    "duration": 9,
    "start_time": "2022-01-31T06:41:38.867Z"
   },
   {
    "duration": 9,
    "start_time": "2022-01-31T06:41:38.878Z"
   },
   {
    "duration": 9,
    "start_time": "2022-01-31T06:41:38.888Z"
   },
   {
    "duration": 8,
    "start_time": "2022-01-31T06:41:38.898Z"
   },
   {
    "duration": 6,
    "start_time": "2022-01-31T06:41:38.908Z"
   },
   {
    "duration": 1463,
    "start_time": "2022-01-31T06:41:52.462Z"
   },
   {
    "duration": 14,
    "start_time": "2022-01-31T06:42:34.822Z"
   },
   {
    "duration": 484,
    "start_time": "2022-01-31T06:46:21.465Z"
   },
   {
    "duration": 503,
    "start_time": "2022-01-31T06:46:32.704Z"
   },
   {
    "duration": 470,
    "start_time": "2022-01-31T06:46:47.074Z"
   },
   {
    "duration": 552,
    "start_time": "2022-01-31T06:48:26.497Z"
   },
   {
    "duration": 345,
    "start_time": "2022-01-31T06:49:05.147Z"
   },
   {
    "duration": 2123,
    "start_time": "2022-01-31T06:51:09.099Z"
   },
   {
    "duration": 1686,
    "start_time": "2022-01-31T06:51:12.495Z"
   },
   {
    "duration": 1482,
    "start_time": "2022-01-31T06:51:56.026Z"
   },
   {
    "duration": 1128,
    "start_time": "2022-01-31T06:52:12.655Z"
   },
   {
    "duration": 875,
    "start_time": "2022-01-31T06:53:27.047Z"
   },
   {
    "duration": 1266,
    "start_time": "2022-01-31T06:53:58.866Z"
   },
   {
    "duration": 1593,
    "start_time": "2022-01-31T13:14:57.914Z"
   },
   {
    "duration": 4,
    "start_time": "2022-01-31T13:14:59.509Z"
   },
   {
    "duration": 4073,
    "start_time": "2022-01-31T13:14:59.516Z"
   },
   {
    "duration": 36,
    "start_time": "2022-01-31T13:15:03.592Z"
   },
   {
    "duration": 46,
    "start_time": "2022-01-31T13:15:03.630Z"
   },
   {
    "duration": 21,
    "start_time": "2022-01-31T13:15:03.678Z"
   },
   {
    "duration": 763,
    "start_time": "2022-01-31T13:15:03.701Z"
   },
   {
    "duration": 21,
    "start_time": "2022-01-31T13:15:04.467Z"
   },
   {
    "duration": 17,
    "start_time": "2022-01-31T13:15:04.491Z"
   },
   {
    "duration": 6,
    "start_time": "2022-01-31T13:15:04.510Z"
   },
   {
    "duration": 5,
    "start_time": "2022-01-31T13:15:04.518Z"
   },
   {
    "duration": 763,
    "start_time": "2022-01-31T13:15:04.525Z"
   },
   {
    "duration": 7,
    "start_time": "2022-01-31T13:15:05.291Z"
   },
   {
    "duration": 5,
    "start_time": "2022-01-31T13:15:05.301Z"
   },
   {
    "duration": 8,
    "start_time": "2022-01-31T13:15:05.308Z"
   },
   {
    "duration": 43,
    "start_time": "2022-01-31T13:15:05.318Z"
   },
   {
    "duration": 7,
    "start_time": "2022-01-31T13:15:05.363Z"
   },
   {
    "duration": 9,
    "start_time": "2022-01-31T13:15:05.372Z"
   },
   {
    "duration": 440,
    "start_time": "2022-01-31T13:15:05.385Z"
   },
   {
    "duration": 412,
    "start_time": "2022-01-31T13:15:05.828Z"
   },
   {
    "duration": 491,
    "start_time": "2022-01-31T13:15:06.243Z"
   },
   {
    "duration": 565,
    "start_time": "2022-01-31T13:15:06.736Z"
   },
   {
    "duration": 430,
    "start_time": "2022-01-31T13:15:07.307Z"
   },
   {
    "duration": 448,
    "start_time": "2022-01-31T13:15:07.740Z"
   },
   {
    "duration": 10,
    "start_time": "2022-01-31T13:15:08.190Z"
   },
   {
    "duration": 1220,
    "start_time": "2022-01-31T13:15:08.203Z"
   },
   {
    "duration": 11,
    "start_time": "2022-01-31T13:15:09.427Z"
   },
   {
    "duration": 20,
    "start_time": "2022-01-31T13:15:09.441Z"
   },
   {
    "duration": 6668,
    "start_time": "2022-01-31T13:15:09.464Z"
   },
   {
    "duration": 42,
    "start_time": "2022-01-31T13:15:16.135Z"
   },
   {
    "duration": 28,
    "start_time": "2022-01-31T13:15:16.180Z"
   },
   {
    "duration": 57,
    "start_time": "2022-01-31T13:15:16.210Z"
   },
   {
    "duration": 3,
    "start_time": "2022-01-31T13:15:16.270Z"
   },
   {
    "duration": 49,
    "start_time": "2022-01-31T13:15:16.276Z"
   },
   {
    "duration": 2809,
    "start_time": "2022-01-31T13:15:16.327Z"
   },
   {
    "duration": 25,
    "start_time": "2022-01-31T13:15:19.138Z"
   },
   {
    "duration": 16,
    "start_time": "2022-01-31T13:15:19.166Z"
   },
   {
    "duration": 12,
    "start_time": "2022-01-31T13:15:19.185Z"
   },
   {
    "duration": 13,
    "start_time": "2022-01-31T13:15:19.200Z"
   },
   {
    "duration": 57,
    "start_time": "2022-01-31T13:15:19.216Z"
   },
   {
    "duration": 177,
    "start_time": "2022-01-31T13:15:19.275Z"
   },
   {
    "duration": 3939,
    "start_time": "2022-01-31T13:15:15.516Z"
   },
   {
    "duration": 3927,
    "start_time": "2022-01-31T13:15:15.529Z"
   },
   {
    "duration": 8,
    "start_time": "2022-01-31T13:18:30.182Z"
   },
   {
    "duration": 6,
    "start_time": "2022-01-31T13:18:33.148Z"
   },
   {
    "duration": 5,
    "start_time": "2022-01-31T13:18:33.157Z"
   },
   {
    "duration": 7098,
    "start_time": "2022-01-31T13:18:33.165Z"
   },
   {
    "duration": 32,
    "start_time": "2022-01-31T13:18:40.266Z"
   },
   {
    "duration": 243,
    "start_time": "2022-01-31T13:18:40.301Z"
   },
   {
    "duration": 25,
    "start_time": "2022-01-31T13:18:40.546Z"
   },
   {
    "duration": 744,
    "start_time": "2022-01-31T13:18:40.573Z"
   },
   {
    "duration": 16,
    "start_time": "2022-01-31T13:18:41.321Z"
   },
   {
    "duration": 32,
    "start_time": "2022-01-31T13:18:41.340Z"
   },
   {
    "duration": 7,
    "start_time": "2022-01-31T13:18:41.375Z"
   },
   {
    "duration": 5,
    "start_time": "2022-01-31T13:18:41.384Z"
   },
   {
    "duration": 720,
    "start_time": "2022-01-31T13:18:41.392Z"
   },
   {
    "duration": 6,
    "start_time": "2022-01-31T13:18:42.115Z"
   },
   {
    "duration": 40,
    "start_time": "2022-01-31T13:18:42.123Z"
   },
   {
    "duration": 5,
    "start_time": "2022-01-31T13:18:42.166Z"
   },
   {
    "duration": 7,
    "start_time": "2022-01-31T13:18:42.173Z"
   },
   {
    "duration": 5,
    "start_time": "2022-01-31T13:18:42.182Z"
   },
   {
    "duration": 6,
    "start_time": "2022-01-31T13:18:42.190Z"
   },
   {
    "duration": 7,
    "start_time": "2022-01-31T13:18:42.198Z"
   },
   {
    "duration": 411,
    "start_time": "2022-01-31T13:18:42.208Z"
   },
   {
    "duration": 436,
    "start_time": "2022-01-31T13:18:42.623Z"
   },
   {
    "duration": 14,
    "start_time": "2022-01-31T13:18:43.062Z"
   },
   {
    "duration": 3,
    "start_time": "2022-01-31T13:18:43.081Z"
   },
   {
    "duration": 6373,
    "start_time": "2022-01-31T13:18:43.087Z"
   },
   {
    "duration": 29,
    "start_time": "2022-01-31T13:18:49.462Z"
   },
   {
    "duration": 29,
    "start_time": "2022-01-31T13:18:49.493Z"
   },
   {
    "duration": 63,
    "start_time": "2022-01-31T13:18:49.524Z"
   },
   {
    "duration": 4,
    "start_time": "2022-01-31T13:18:49.589Z"
   },
   {
    "duration": 204,
    "start_time": "2022-01-31T13:18:49.595Z"
   },
   {
    "duration": 2870,
    "start_time": "2022-01-31T13:18:49.801Z"
   },
   {
    "duration": 13,
    "start_time": "2022-01-31T13:18:52.674Z"
   },
   {
    "duration": 16,
    "start_time": "2022-01-31T13:18:52.690Z"
   },
   {
    "duration": 56,
    "start_time": "2022-01-31T13:18:52.709Z"
   },
   {
    "duration": 16,
    "start_time": "2022-01-31T13:18:52.769Z"
   },
   {
    "duration": 18,
    "start_time": "2022-01-31T13:18:52.788Z"
   },
   {
    "duration": 139,
    "start_time": "2022-01-31T13:18:52.809Z"
   },
   {
    "duration": 3950,
    "start_time": "2022-01-31T13:18:49.001Z"
   },
   {
    "duration": 3945,
    "start_time": "2022-01-31T13:18:49.007Z"
   },
   {
    "duration": 17,
    "start_time": "2022-01-31T13:23:18.203Z"
   },
   {
    "duration": 5,
    "start_time": "2022-01-31T13:23:29.604Z"
   },
   {
    "duration": 19,
    "start_time": "2022-01-31T13:23:30.524Z"
   },
   {
    "duration": 7,
    "start_time": "2022-01-31T13:23:36.849Z"
   },
   {
    "duration": 5,
    "start_time": "2022-01-31T13:23:36.859Z"
   },
   {
    "duration": 2929,
    "start_time": "2022-01-31T13:23:36.867Z"
   },
   {
    "duration": 32,
    "start_time": "2022-01-31T13:23:39.798Z"
   },
   {
    "duration": 45,
    "start_time": "2022-01-31T13:23:39.833Z"
   },
   {
    "duration": 21,
    "start_time": "2022-01-31T13:23:39.880Z"
   },
   {
    "duration": 759,
    "start_time": "2022-01-31T13:23:39.904Z"
   },
   {
    "duration": 16,
    "start_time": "2022-01-31T13:23:40.666Z"
   },
   {
    "duration": 16,
    "start_time": "2022-01-31T13:23:40.685Z"
   },
   {
    "duration": 6,
    "start_time": "2022-01-31T13:23:40.703Z"
   },
   {
    "duration": 5,
    "start_time": "2022-01-31T13:23:40.711Z"
   },
   {
    "duration": 936,
    "start_time": "2022-01-31T13:23:40.759Z"
   },
   {
    "duration": 6,
    "start_time": "2022-01-31T13:23:41.697Z"
   },
   {
    "duration": 16,
    "start_time": "2022-01-31T13:23:41.706Z"
   },
   {
    "duration": 34,
    "start_time": "2022-01-31T13:23:41.725Z"
   },
   {
    "duration": 21,
    "start_time": "2022-01-31T13:23:41.762Z"
   },
   {
    "duration": 20,
    "start_time": "2022-01-31T13:23:41.785Z"
   },
   {
    "duration": 16,
    "start_time": "2022-01-31T13:23:41.808Z"
   },
   {
    "duration": 18,
    "start_time": "2022-01-31T13:23:41.826Z"
   },
   {
    "duration": 366,
    "start_time": "2022-01-31T13:23:41.847Z"
   },
   {
    "duration": 353,
    "start_time": "2022-01-31T13:23:42.215Z"
   },
   {
    "duration": 12,
    "start_time": "2022-01-31T13:23:42.572Z"
   },
   {
    "duration": 6,
    "start_time": "2022-01-31T13:23:42.586Z"
   },
   {
    "duration": 17,
    "start_time": "2022-01-31T13:23:42.594Z"
   },
   {
    "duration": 3,
    "start_time": "2022-01-31T13:23:42.613Z"
   },
   {
    "duration": 7835,
    "start_time": "2022-01-31T13:23:42.618Z"
   },
   {
    "duration": 31,
    "start_time": "2022-01-31T13:23:50.460Z"
   },
   {
    "duration": 29,
    "start_time": "2022-01-31T13:23:50.493Z"
   },
   {
    "duration": 58,
    "start_time": "2022-01-31T13:23:50.524Z"
   },
   {
    "duration": 3,
    "start_time": "2022-01-31T13:23:50.584Z"
   },
   {
    "duration": 44,
    "start_time": "2022-01-31T13:23:50.589Z"
   },
   {
    "duration": 3714,
    "start_time": "2022-01-31T13:23:50.660Z"
   },
   {
    "duration": 12,
    "start_time": "2022-01-31T13:23:54.377Z"
   },
   {
    "duration": 23,
    "start_time": "2022-01-31T13:23:54.392Z"
   },
   {
    "duration": 14,
    "start_time": "2022-01-31T13:23:54.418Z"
   },
   {
    "duration": 15,
    "start_time": "2022-01-31T13:23:54.461Z"
   },
   {
    "duration": 28,
    "start_time": "2022-01-31T13:23:54.479Z"
   },
   {
    "duration": 138,
    "start_time": "2022-01-31T13:23:54.511Z"
   },
   {
    "duration": 3959,
    "start_time": "2022-01-31T13:23:50.693Z"
   },
   {
    "duration": 3953,
    "start_time": "2022-01-31T13:23:50.700Z"
   },
   {
    "duration": 30,
    "start_time": "2022-01-31T13:24:58.785Z"
   },
   {
    "duration": 610,
    "start_time": "2022-01-31T13:25:00.875Z"
   },
   {
    "duration": 14,
    "start_time": "2022-01-31T13:27:09.261Z"
   },
   {
    "duration": 524,
    "start_time": "2022-01-31T13:27:34.766Z"
   },
   {
    "duration": 12,
    "start_time": "2022-01-31T13:27:40.685Z"
   },
   {
    "duration": 379,
    "start_time": "2022-01-31T13:28:02.445Z"
   },
   {
    "duration": 378,
    "start_time": "2022-01-31T13:28:10.935Z"
   },
   {
    "duration": 13,
    "start_time": "2022-01-31T13:28:15.164Z"
   },
   {
    "duration": 13,
    "start_time": "2022-01-31T13:28:20.324Z"
   },
   {
    "duration": 17,
    "start_time": "2022-01-31T13:28:58.319Z"
   },
   {
    "duration": 15,
    "start_time": "2022-01-31T13:29:36.776Z"
   },
   {
    "duration": 31,
    "start_time": "2022-01-31T13:29:37.376Z"
   },
   {
    "duration": 22,
    "start_time": "2022-01-31T13:29:37.875Z"
   },
   {
    "duration": 14,
    "start_time": "2022-01-31T13:39:51.291Z"
   },
   {
    "duration": 7,
    "start_time": "2022-01-31T13:39:56.192Z"
   },
   {
    "duration": 10,
    "start_time": "2022-01-31T13:39:56.201Z"
   },
   {
    "duration": 4058,
    "start_time": "2022-01-31T13:39:56.214Z"
   },
   {
    "duration": 34,
    "start_time": "2022-01-31T13:40:00.275Z"
   },
   {
    "duration": 50,
    "start_time": "2022-01-31T13:40:00.312Z"
   },
   {
    "duration": 22,
    "start_time": "2022-01-31T13:40:00.365Z"
   },
   {
    "duration": 774,
    "start_time": "2022-01-31T13:40:00.390Z"
   },
   {
    "duration": 15,
    "start_time": "2022-01-31T13:40:01.167Z"
   },
   {
    "duration": 17,
    "start_time": "2022-01-31T13:40:01.185Z"
   },
   {
    "duration": 6,
    "start_time": "2022-01-31T13:40:01.205Z"
   },
   {
    "duration": 47,
    "start_time": "2022-01-31T13:40:01.213Z"
   },
   {
    "duration": 720,
    "start_time": "2022-01-31T13:40:01.263Z"
   },
   {
    "duration": 7,
    "start_time": "2022-01-31T13:40:01.986Z"
   },
   {
    "duration": 23,
    "start_time": "2022-01-31T13:40:01.995Z"
   },
   {
    "duration": 6,
    "start_time": "2022-01-31T13:40:02.021Z"
   },
   {
    "duration": 33,
    "start_time": "2022-01-31T13:40:02.030Z"
   },
   {
    "duration": 7,
    "start_time": "2022-01-31T13:40:02.066Z"
   },
   {
    "duration": 7,
    "start_time": "2022-01-31T13:40:02.075Z"
   },
   {
    "duration": 8,
    "start_time": "2022-01-31T13:40:02.084Z"
   },
   {
    "duration": 418,
    "start_time": "2022-01-31T13:40:02.094Z"
   },
   {
    "duration": 345,
    "start_time": "2022-01-31T13:40:02.515Z"
   },
   {
    "duration": 10,
    "start_time": "2022-01-31T13:40:02.863Z"
   },
   {
    "duration": 14,
    "start_time": "2022-01-31T13:40:02.877Z"
   },
   {
    "duration": 28,
    "start_time": "2022-01-31T13:40:02.894Z"
   },
   {
    "duration": 42,
    "start_time": "2022-01-31T13:40:02.924Z"
   },
   {
    "duration": 4,
    "start_time": "2022-01-31T13:40:02.968Z"
   },
   {
    "duration": 6370,
    "start_time": "2022-01-31T13:40:02.974Z"
   },
   {
    "duration": 37,
    "start_time": "2022-01-31T13:40:09.347Z"
   },
   {
    "duration": 27,
    "start_time": "2022-01-31T13:40:09.387Z"
   },
   {
    "duration": 55,
    "start_time": "2022-01-31T13:40:09.416Z"
   },
   {
    "duration": 3,
    "start_time": "2022-01-31T13:40:09.473Z"
   },
   {
    "duration": 40,
    "start_time": "2022-01-31T13:40:09.479Z"
   },
   {
    "duration": 3085,
    "start_time": "2022-01-31T13:40:09.521Z"
   },
   {
    "duration": 8,
    "start_time": "2022-01-31T13:40:12.609Z"
   },
   {
    "duration": 13,
    "start_time": "2022-01-31T13:40:12.619Z"
   },
   {
    "duration": 15,
    "start_time": "2022-01-31T13:40:12.658Z"
   },
   {
    "duration": 15,
    "start_time": "2022-01-31T13:40:12.675Z"
   },
   {
    "duration": 17,
    "start_time": "2022-01-31T13:40:12.692Z"
   },
   {
    "duration": 212,
    "start_time": "2022-01-31T13:40:12.712Z"
   },
   {
    "duration": 4001,
    "start_time": "2022-01-31T13:40:08.926Z"
   },
   {
    "duration": 3996,
    "start_time": "2022-01-31T13:40:08.932Z"
   },
   {
    "duration": 6,
    "start_time": "2022-01-31T14:40:44.847Z"
   },
   {
    "duration": 4,
    "start_time": "2022-01-31T14:40:44.857Z"
   },
   {
    "duration": 4011,
    "start_time": "2022-01-31T14:40:44.864Z"
   },
   {
    "duration": 32,
    "start_time": "2022-01-31T14:40:48.878Z"
   },
   {
    "duration": 48,
    "start_time": "2022-01-31T14:40:48.912Z"
   },
   {
    "duration": 21,
    "start_time": "2022-01-31T14:40:48.962Z"
   },
   {
    "duration": 746,
    "start_time": "2022-01-31T14:40:48.985Z"
   },
   {
    "duration": 27,
    "start_time": "2022-01-31T14:40:49.734Z"
   },
   {
    "duration": 17,
    "start_time": "2022-01-31T14:40:49.764Z"
   },
   {
    "duration": 8,
    "start_time": "2022-01-31T14:40:49.784Z"
   },
   {
    "duration": 7,
    "start_time": "2022-01-31T14:40:49.795Z"
   },
   {
    "duration": 761,
    "start_time": "2022-01-31T14:40:49.805Z"
   },
   {
    "duration": 8,
    "start_time": "2022-01-31T14:40:50.568Z"
   },
   {
    "duration": 14,
    "start_time": "2022-01-31T14:40:50.578Z"
   },
   {
    "duration": 5,
    "start_time": "2022-01-31T14:40:50.595Z"
   },
   {
    "duration": 9,
    "start_time": "2022-01-31T14:40:50.603Z"
   },
   {
    "duration": 49,
    "start_time": "2022-01-31T14:40:50.614Z"
   },
   {
    "duration": 7,
    "start_time": "2022-01-31T14:40:50.666Z"
   },
   {
    "duration": 9,
    "start_time": "2022-01-31T14:40:50.675Z"
   },
   {
    "duration": 399,
    "start_time": "2022-01-31T14:40:50.686Z"
   },
   {
    "duration": 362,
    "start_time": "2022-01-31T14:40:51.088Z"
   },
   {
    "duration": 10,
    "start_time": "2022-01-31T14:40:51.459Z"
   },
   {
    "duration": 23,
    "start_time": "2022-01-31T14:40:51.472Z"
   },
   {
    "duration": 32,
    "start_time": "2022-01-31T14:40:51.497Z"
   },
   {
    "duration": 34,
    "start_time": "2022-01-31T14:40:51.531Z"
   },
   {
    "duration": 4,
    "start_time": "2022-01-31T14:40:51.567Z"
   },
   {
    "duration": 6369,
    "start_time": "2022-01-31T14:40:51.573Z"
   },
   {
    "duration": 38,
    "start_time": "2022-01-31T14:40:57.945Z"
   },
   {
    "duration": 27,
    "start_time": "2022-01-31T14:40:57.986Z"
   },
   {
    "duration": 56,
    "start_time": "2022-01-31T14:40:58.016Z"
   },
   {
    "duration": 3,
    "start_time": "2022-01-31T14:40:58.075Z"
   },
   {
    "duration": 41,
    "start_time": "2022-01-31T14:40:58.082Z"
   },
   {
    "duration": 3071,
    "start_time": "2022-01-31T14:40:58.126Z"
   },
   {
    "duration": 10,
    "start_time": "2022-01-31T14:41:01.201Z"
   },
   {
    "duration": 19,
    "start_time": "2022-01-31T14:41:01.213Z"
   },
   {
    "duration": 48,
    "start_time": "2022-01-31T14:41:01.234Z"
   },
   {
    "duration": 17,
    "start_time": "2022-01-31T14:41:01.285Z"
   },
   {
    "duration": 19,
    "start_time": "2022-01-31T14:41:01.305Z"
   },
   {
    "duration": 145,
    "start_time": "2022-01-31T14:41:01.327Z"
   },
   {
    "duration": 4459,
    "start_time": "2022-01-31T14:40:57.016Z"
   },
   {
    "duration": 4457,
    "start_time": "2022-01-31T14:40:57.020Z"
   },
   {
    "duration": 379,
    "start_time": "2022-01-31T14:44:58.225Z"
   },
   {
    "duration": 389,
    "start_time": "2022-01-31T14:45:36.634Z"
   },
   {
    "duration": 17,
    "start_time": "2022-01-31T14:46:09.735Z"
   },
   {
    "duration": 395,
    "start_time": "2022-01-31T14:46:11.084Z"
   },
   {
    "duration": 417,
    "start_time": "2022-01-31T14:46:19.435Z"
   },
   {
    "duration": 371,
    "start_time": "2022-01-31T14:46:42.554Z"
   },
   {
    "duration": 56,
    "start_time": "2022-01-31T14:46:53.447Z"
   },
   {
    "duration": 66,
    "start_time": "2022-01-31T14:48:01.031Z"
   },
   {
    "duration": 8,
    "start_time": "2022-01-31T14:49:12.898Z"
   },
   {
    "duration": 11,
    "start_time": "2022-01-31T14:49:22.055Z"
   },
   {
    "duration": 29,
    "start_time": "2022-01-31T14:50:12.026Z"
   },
   {
    "duration": 29,
    "start_time": "2022-01-31T14:50:20.507Z"
   },
   {
    "duration": 34,
    "start_time": "2022-01-31T14:50:28.147Z"
   },
   {
    "duration": 464,
    "start_time": "2022-01-31T14:51:40.726Z"
   },
   {
    "duration": 376,
    "start_time": "2022-01-31T14:51:47.827Z"
   },
   {
    "duration": 51,
    "start_time": "2022-01-31T14:51:49.926Z"
   },
   {
    "duration": 37,
    "start_time": "2022-01-31T14:51:50.916Z"
   },
   {
    "duration": 157,
    "start_time": "2022-01-31T14:51:54.506Z"
   },
   {
    "duration": 33,
    "start_time": "2022-01-31T14:51:59.266Z"
   },
   {
    "duration": 388,
    "start_time": "2022-01-31T14:56:02.187Z"
   },
   {
    "duration": 713,
    "start_time": "2022-01-31T14:56:05.937Z"
   },
   {
    "duration": 542,
    "start_time": "2022-01-31T14:56:13.306Z"
   },
   {
    "duration": 1819,
    "start_time": "2022-01-31T14:56:18.216Z"
   },
   {
    "duration": 2889,
    "start_time": "2022-01-31T14:59:15.320Z"
   },
   {
    "duration": 3001,
    "start_time": "2022-01-31T15:00:00.721Z"
   },
   {
    "duration": 572,
    "start_time": "2022-01-31T15:01:45.439Z"
   },
   {
    "duration": 24,
    "start_time": "2022-01-31T15:03:37.375Z"
   },
   {
    "duration": 373,
    "start_time": "2022-01-31T15:03:48.921Z"
   },
   {
    "duration": 377,
    "start_time": "2022-01-31T15:03:55.251Z"
   },
   {
    "duration": 34,
    "start_time": "2022-01-31T15:05:25.821Z"
   },
   {
    "duration": 23,
    "start_time": "2022-01-31T15:05:32.380Z"
   },
   {
    "duration": 23,
    "start_time": "2022-01-31T15:06:12.812Z"
   },
   {
    "duration": 21,
    "start_time": "2022-01-31T15:06:20.000Z"
   },
   {
    "duration": 20,
    "start_time": "2022-01-31T15:06:26.550Z"
   },
   {
    "duration": 21,
    "start_time": "2022-01-31T15:07:36.671Z"
   },
   {
    "duration": 363,
    "start_time": "2022-01-31T15:11:28.264Z"
   },
   {
    "duration": 398,
    "start_time": "2022-01-31T15:12:04.143Z"
   },
   {
    "duration": 18,
    "start_time": "2022-01-31T15:12:12.022Z"
   },
   {
    "duration": 4,
    "start_time": "2022-01-31T15:13:01.844Z"
   },
   {
    "duration": 16,
    "start_time": "2022-01-31T15:13:02.803Z"
   },
   {
    "duration": 7,
    "start_time": "2022-01-31T15:13:06.366Z"
   },
   {
    "duration": 5,
    "start_time": "2022-01-31T15:13:06.375Z"
   },
   {
    "duration": 4733,
    "start_time": "2022-01-31T15:13:06.383Z"
   },
   {
    "duration": 54,
    "start_time": "2022-01-31T15:13:11.119Z"
   },
   {
    "duration": 35,
    "start_time": "2022-01-31T15:13:11.176Z"
   },
   {
    "duration": 47,
    "start_time": "2022-01-31T15:13:11.214Z"
   },
   {
    "duration": 802,
    "start_time": "2022-01-31T15:13:11.264Z"
   },
   {
    "duration": 16,
    "start_time": "2022-01-31T15:13:12.072Z"
   },
   {
    "duration": 18,
    "start_time": "2022-01-31T15:13:12.092Z"
   },
   {
    "duration": 6,
    "start_time": "2022-01-31T15:13:12.113Z"
   },
   {
    "duration": 7,
    "start_time": "2022-01-31T15:13:12.160Z"
   },
   {
    "duration": 1042,
    "start_time": "2022-01-31T15:13:12.170Z"
   },
   {
    "duration": 6,
    "start_time": "2022-01-31T15:13:13.215Z"
   },
   {
    "duration": 36,
    "start_time": "2022-01-31T15:13:13.223Z"
   },
   {
    "duration": 5,
    "start_time": "2022-01-31T15:13:13.261Z"
   },
   {
    "duration": 9,
    "start_time": "2022-01-31T15:13:13.269Z"
   },
   {
    "duration": 7,
    "start_time": "2022-01-31T15:13:13.281Z"
   },
   {
    "duration": 10,
    "start_time": "2022-01-31T15:13:13.291Z"
   },
   {
    "duration": 9,
    "start_time": "2022-01-31T15:13:13.304Z"
   },
   {
    "duration": 373,
    "start_time": "2022-01-31T15:13:13.361Z"
   },
   {
    "duration": 646,
    "start_time": "2022-01-31T15:13:13.736Z"
   },
   {
    "duration": 50,
    "start_time": "2022-01-31T15:13:14.396Z"
   },
   {
    "duration": 20,
    "start_time": "2022-01-31T15:13:14.453Z"
   },
   {
    "duration": 34,
    "start_time": "2022-01-31T15:13:14.476Z"
   },
   {
    "duration": 16,
    "start_time": "2022-01-31T15:13:14.513Z"
   },
   {
    "duration": 31,
    "start_time": "2022-01-31T15:13:14.532Z"
   },
   {
    "duration": 6998,
    "start_time": "2022-01-31T15:13:14.566Z"
   },
   {
    "duration": 29,
    "start_time": "2022-01-31T15:13:21.567Z"
   },
   {
    "duration": 27,
    "start_time": "2022-01-31T15:13:21.598Z"
   },
   {
    "duration": 55,
    "start_time": "2022-01-31T15:13:21.627Z"
   },
   {
    "duration": 3,
    "start_time": "2022-01-31T15:13:21.685Z"
   },
   {
    "duration": 39,
    "start_time": "2022-01-31T15:13:21.690Z"
   },
   {
    "duration": 3265,
    "start_time": "2022-01-31T15:13:21.732Z"
   },
   {
    "duration": 9,
    "start_time": "2022-01-31T15:13:25.000Z"
   },
   {
    "duration": 13,
    "start_time": "2022-01-31T15:13:25.012Z"
   },
   {
    "duration": 46,
    "start_time": "2022-01-31T15:13:25.027Z"
   },
   {
    "duration": 15,
    "start_time": "2022-01-31T15:13:25.076Z"
   },
   {
    "duration": 19,
    "start_time": "2022-01-31T15:13:25.094Z"
   },
   {
    "duration": 1830,
    "start_time": "2022-01-31T15:13:25.160Z"
   },
   {
    "duration": 66,
    "start_time": "2022-01-31T15:13:26.993Z"
   },
   {
    "duration": 40,
    "start_time": "2022-01-31T15:13:27.061Z"
   },
   {
    "duration": 3181,
    "start_time": "2022-01-31T15:13:27.103Z"
   },
   {
    "duration": 21,
    "start_time": "2022-01-31T15:13:30.287Z"
   },
   {
    "duration": 3,
    "start_time": "2022-01-31T15:13:30.311Z"
   },
   {
    "duration": 9045,
    "start_time": "2022-01-31T15:13:30.316Z"
   },
   {
    "duration": 18,
    "start_time": "2022-01-31T15:14:30.516Z"
   },
   {
    "duration": 5,
    "start_time": "2022-01-31T15:15:02.014Z"
   },
   {
    "duration": 4,
    "start_time": "2022-01-31T15:15:06.483Z"
   },
   {
    "duration": 18,
    "start_time": "2022-01-31T15:15:07.024Z"
   },
   {
    "duration": 5,
    "start_time": "2022-01-31T15:15:07.493Z"
   },
   {
    "duration": 6,
    "start_time": "2022-01-31T15:15:10.642Z"
   },
   {
    "duration": 21,
    "start_time": "2022-01-31T15:15:10.651Z"
   },
   {
    "duration": 3888,
    "start_time": "2022-01-31T15:15:10.675Z"
   },
   {
    "duration": 51,
    "start_time": "2022-01-31T15:15:14.576Z"
   },
   {
    "duration": 51,
    "start_time": "2022-01-31T15:15:14.630Z"
   },
   {
    "duration": 74,
    "start_time": "2022-01-31T15:15:14.688Z"
   },
   {
    "duration": 899,
    "start_time": "2022-01-31T15:15:14.765Z"
   },
   {
    "duration": 16,
    "start_time": "2022-01-31T15:15:15.667Z"
   },
   {
    "duration": 17,
    "start_time": "2022-01-31T15:15:15.686Z"
   },
   {
    "duration": 7,
    "start_time": "2022-01-31T15:15:15.705Z"
   },
   {
    "duration": 4,
    "start_time": "2022-01-31T15:15:15.714Z"
   },
   {
    "duration": 734,
    "start_time": "2022-01-31T15:15:15.720Z"
   },
   {
    "duration": 6,
    "start_time": "2022-01-31T15:15:16.456Z"
   },
   {
    "duration": 18,
    "start_time": "2022-01-31T15:15:16.464Z"
   },
   {
    "duration": 4,
    "start_time": "2022-01-31T15:15:16.485Z"
   },
   {
    "duration": 21,
    "start_time": "2022-01-31T15:15:16.492Z"
   },
   {
    "duration": 6,
    "start_time": "2022-01-31T15:15:16.515Z"
   },
   {
    "duration": 37,
    "start_time": "2022-01-31T15:15:16.524Z"
   },
   {
    "duration": 8,
    "start_time": "2022-01-31T15:15:16.563Z"
   },
   {
    "duration": 380,
    "start_time": "2022-01-31T15:15:16.573Z"
   },
   {
    "duration": 332,
    "start_time": "2022-01-31T15:15:16.960Z"
   },
   {
    "duration": 10,
    "start_time": "2022-01-31T15:15:17.295Z"
   },
   {
    "duration": 15,
    "start_time": "2022-01-31T15:15:17.310Z"
   },
   {
    "duration": 51,
    "start_time": "2022-01-31T15:15:17.328Z"
   },
   {
    "duration": 14,
    "start_time": "2022-01-31T15:15:17.381Z"
   },
   {
    "duration": 3,
    "start_time": "2022-01-31T15:15:17.398Z"
   },
   {
    "duration": 7343,
    "start_time": "2022-01-31T15:15:17.404Z"
   },
   {
    "duration": 33,
    "start_time": "2022-01-31T15:15:24.749Z"
   },
   {
    "duration": 30,
    "start_time": "2022-01-31T15:15:24.784Z"
   },
   {
    "duration": 59,
    "start_time": "2022-01-31T15:15:24.816Z"
   },
   {
    "duration": 4,
    "start_time": "2022-01-31T15:15:24.877Z"
   },
   {
    "duration": 50,
    "start_time": "2022-01-31T15:15:24.883Z"
   },
   {
    "duration": 2932,
    "start_time": "2022-01-31T15:15:24.936Z"
   },
   {
    "duration": 11,
    "start_time": "2022-01-31T15:15:27.871Z"
   },
   {
    "duration": 15,
    "start_time": "2022-01-31T15:15:27.884Z"
   },
   {
    "duration": 59,
    "start_time": "2022-01-31T15:15:27.902Z"
   },
   {
    "duration": 17,
    "start_time": "2022-01-31T15:15:27.963Z"
   },
   {
    "duration": 27,
    "start_time": "2022-01-31T15:15:27.983Z"
   },
   {
    "duration": 2203,
    "start_time": "2022-01-31T15:15:28.013Z"
   },
   {
    "duration": 52,
    "start_time": "2022-01-31T15:15:30.219Z"
   },
   {
    "duration": 41,
    "start_time": "2022-01-31T15:15:30.273Z"
   },
   {
    "duration": 2944,
    "start_time": "2022-01-31T15:15:30.317Z"
   },
   {
    "duration": 20,
    "start_time": "2022-01-31T15:15:33.263Z"
   },
   {
    "duration": 4,
    "start_time": "2022-01-31T15:15:33.285Z"
   },
   {
    "duration": 17,
    "start_time": "2022-01-31T15:15:33.291Z"
   },
   {
    "duration": 50,
    "start_time": "2022-01-31T15:15:33.311Z"
   },
   {
    "duration": 1171,
    "start_time": "2022-01-31T17:23:13.420Z"
   },
   {
    "duration": 2,
    "start_time": "2022-01-31T17:23:14.593Z"
   },
   {
    "duration": 5219,
    "start_time": "2022-01-31T17:23:14.597Z"
   },
   {
    "duration": 30,
    "start_time": "2022-01-31T17:23:19.818Z"
   },
   {
    "duration": 15,
    "start_time": "2022-01-31T17:23:19.849Z"
   },
   {
    "duration": 18,
    "start_time": "2022-01-31T17:23:19.866Z"
   },
   {
    "duration": 426,
    "start_time": "2022-01-31T17:23:19.885Z"
   },
   {
    "duration": 20,
    "start_time": "2022-01-31T17:23:20.314Z"
   },
   {
    "duration": 14,
    "start_time": "2022-01-31T17:23:20.337Z"
   },
   {
    "duration": 4,
    "start_time": "2022-01-31T17:23:20.353Z"
   },
   {
    "duration": 7,
    "start_time": "2022-01-31T17:23:20.359Z"
   },
   {
    "duration": 408,
    "start_time": "2022-01-31T17:23:20.368Z"
   },
   {
    "duration": 4,
    "start_time": "2022-01-31T17:23:20.778Z"
   },
   {
    "duration": 11,
    "start_time": "2022-01-31T17:23:20.783Z"
   },
   {
    "duration": 3,
    "start_time": "2022-01-31T17:23:20.795Z"
   },
   {
    "duration": 6,
    "start_time": "2022-01-31T17:23:20.799Z"
   },
   {
    "duration": 3,
    "start_time": "2022-01-31T17:23:20.827Z"
   },
   {
    "duration": 5,
    "start_time": "2022-01-31T17:23:20.832Z"
   },
   {
    "duration": 6,
    "start_time": "2022-01-31T17:23:20.838Z"
   },
   {
    "duration": 248,
    "start_time": "2022-01-31T17:23:20.846Z"
   },
   {
    "duration": 221,
    "start_time": "2022-01-31T17:23:21.095Z"
   },
   {
    "duration": 10,
    "start_time": "2022-01-31T17:23:21.318Z"
   },
   {
    "duration": 8,
    "start_time": "2022-01-31T17:23:21.330Z"
   },
   {
    "duration": 14,
    "start_time": "2022-01-31T17:23:21.340Z"
   },
   {
    "duration": 9,
    "start_time": "2022-01-31T17:23:21.356Z"
   },
   {
    "duration": 2,
    "start_time": "2022-01-31T17:23:21.367Z"
   },
   {
    "duration": 3572,
    "start_time": "2022-01-31T17:23:21.370Z"
   },
   {
    "duration": 21,
    "start_time": "2022-01-31T17:23:24.944Z"
   },
   {
    "duration": 16,
    "start_time": "2022-01-31T17:23:24.966Z"
   },
   {
    "duration": 42,
    "start_time": "2022-01-31T17:23:24.984Z"
   },
   {
    "duration": 3,
    "start_time": "2022-01-31T17:23:25.028Z"
   },
   {
    "duration": 26,
    "start_time": "2022-01-31T17:23:25.032Z"
   },
   {
    "duration": 1746,
    "start_time": "2022-01-31T17:23:25.059Z"
   },
   {
    "duration": 6,
    "start_time": "2022-01-31T17:23:26.806Z"
   },
   {
    "duration": 23,
    "start_time": "2022-01-31T17:23:26.813Z"
   },
   {
    "duration": 12,
    "start_time": "2022-01-31T17:23:26.837Z"
   },
   {
    "duration": 8,
    "start_time": "2022-01-31T17:23:26.851Z"
   },
   {
    "duration": 14,
    "start_time": "2022-01-31T17:23:26.861Z"
   },
   {
    "duration": 904,
    "start_time": "2022-01-31T17:23:26.877Z"
   },
   {
    "duration": 45,
    "start_time": "2022-01-31T17:23:27.783Z"
   },
   {
    "duration": 25,
    "start_time": "2022-01-31T17:23:27.830Z"
   },
   {
    "duration": 1517,
    "start_time": "2022-01-31T17:23:27.856Z"
   },
   {
    "duration": 13,
    "start_time": "2022-01-31T17:23:29.374Z"
   },
   {
    "duration": 3,
    "start_time": "2022-01-31T17:23:29.388Z"
   },
   {
    "duration": 10,
    "start_time": "2022-01-31T17:23:29.392Z"
   },
   {
    "duration": 3,
    "start_time": "2022-01-31T17:23:29.427Z"
   },
   {
    "duration": 1720,
    "start_time": "2022-01-31T17:25:02.444Z"
   },
   {
    "duration": 20,
    "start_time": "2022-01-31T17:25:37.724Z"
   },
   {
    "duration": 479,
    "start_time": "2022-01-31T17:28:33.653Z"
   },
   {
    "duration": 10,
    "start_time": "2022-01-31T17:28:43.246Z"
   },
   {
    "duration": 365,
    "start_time": "2022-01-31T17:28:52.614Z"
   },
   {
    "duration": 18,
    "start_time": "2022-01-31T17:29:10.555Z"
   },
   {
    "duration": 371,
    "start_time": "2022-01-31T17:31:01.946Z"
   },
   {
    "duration": 10,
    "start_time": "2022-01-31T17:31:08.393Z"
   },
   {
    "duration": 20,
    "start_time": "2022-01-31T17:31:39.744Z"
   },
   {
    "duration": 6,
    "start_time": "2022-01-31T17:36:51.146Z"
   },
   {
    "duration": 4,
    "start_time": "2022-01-31T17:36:54.022Z"
   },
   {
    "duration": 2,
    "start_time": "2022-01-31T17:36:54.029Z"
   },
   {
    "duration": 2541,
    "start_time": "2022-01-31T17:36:54.033Z"
   },
   {
    "duration": 17,
    "start_time": "2022-01-31T17:36:56.576Z"
   },
   {
    "duration": 15,
    "start_time": "2022-01-31T17:36:56.595Z"
   },
   {
    "duration": 26,
    "start_time": "2022-01-31T17:36:56.611Z"
   },
   {
    "duration": 403,
    "start_time": "2022-01-31T17:36:56.638Z"
   },
   {
    "duration": 10,
    "start_time": "2022-01-31T17:36:57.043Z"
   },
   {
    "duration": 10,
    "start_time": "2022-01-31T17:36:57.054Z"
   },
   {
    "duration": 3,
    "start_time": "2022-01-31T17:36:57.067Z"
   },
   {
    "duration": 4,
    "start_time": "2022-01-31T17:36:57.072Z"
   },
   {
    "duration": 423,
    "start_time": "2022-01-31T17:36:57.077Z"
   },
   {
    "duration": 5,
    "start_time": "2022-01-31T17:36:57.501Z"
   },
   {
    "duration": 20,
    "start_time": "2022-01-31T17:36:57.507Z"
   },
   {
    "duration": 3,
    "start_time": "2022-01-31T17:36:57.529Z"
   },
   {
    "duration": 7,
    "start_time": "2022-01-31T17:36:57.533Z"
   },
   {
    "duration": 5,
    "start_time": "2022-01-31T17:36:57.541Z"
   },
   {
    "duration": 7,
    "start_time": "2022-01-31T17:36:57.547Z"
   },
   {
    "duration": 7,
    "start_time": "2022-01-31T17:36:57.556Z"
   },
   {
    "duration": 252,
    "start_time": "2022-01-31T17:36:57.564Z"
   },
   {
    "duration": 235,
    "start_time": "2022-01-31T17:36:57.818Z"
   },
   {
    "duration": 7,
    "start_time": "2022-01-31T17:36:58.054Z"
   },
   {
    "duration": 12,
    "start_time": "2022-01-31T17:36:58.063Z"
   },
   {
    "duration": 15,
    "start_time": "2022-01-31T17:36:58.077Z"
   },
   {
    "duration": 33,
    "start_time": "2022-01-31T17:36:58.094Z"
   },
   {
    "duration": 5,
    "start_time": "2022-01-31T17:36:58.129Z"
   },
   {
    "duration": 5,
    "start_time": "2022-01-31T17:36:58.135Z"
   },
   {
    "duration": 5915,
    "start_time": "2022-01-31T17:36:58.143Z"
   },
   {
    "duration": 25,
    "start_time": "2022-01-31T17:37:04.061Z"
   },
   {
    "duration": 41,
    "start_time": "2022-01-31T17:37:04.088Z"
   },
   {
    "duration": 24,
    "start_time": "2022-01-31T17:37:04.131Z"
   },
   {
    "duration": 3,
    "start_time": "2022-01-31T17:37:04.157Z"
   },
   {
    "duration": 40,
    "start_time": "2022-01-31T17:37:04.162Z"
   },
   {
    "duration": 2937,
    "start_time": "2022-01-31T17:37:04.204Z"
   },
   {
    "duration": 8,
    "start_time": "2022-01-31T17:37:07.143Z"
   },
   {
    "duration": 11,
    "start_time": "2022-01-31T17:37:07.153Z"
   },
   {
    "duration": 11,
    "start_time": "2022-01-31T17:37:07.166Z"
   },
   {
    "duration": 12,
    "start_time": "2022-01-31T17:37:07.178Z"
   },
   {
    "duration": 47,
    "start_time": "2022-01-31T17:37:07.191Z"
   },
   {
    "duration": 1541,
    "start_time": "2022-01-31T17:37:07.240Z"
   },
   {
    "duration": 32,
    "start_time": "2022-01-31T17:37:08.783Z"
   },
   {
    "duration": 25,
    "start_time": "2022-01-31T17:37:08.826Z"
   },
   {
    "duration": 1734,
    "start_time": "2022-01-31T17:37:08.852Z"
   },
   {
    "duration": 25,
    "start_time": "2022-01-31T17:37:10.588Z"
   },
   {
    "duration": 2,
    "start_time": "2022-01-31T17:37:10.614Z"
   },
   {
    "duration": 10,
    "start_time": "2022-01-31T17:37:10.627Z"
   },
   {
    "duration": 4,
    "start_time": "2022-01-31T17:37:10.639Z"
   },
   {
    "duration": 1832,
    "start_time": "2022-01-31T17:37:10.644Z"
   },
   {
    "duration": 21,
    "start_time": "2022-01-31T17:37:12.478Z"
   },
   {
    "duration": 7,
    "start_time": "2022-01-31T17:37:12.501Z"
   },
   {
    "duration": 3,
    "start_time": "2022-01-31T17:51:54.793Z"
   },
   {
    "duration": 4,
    "start_time": "2022-01-31T17:53:17.323Z"
   },
   {
    "duration": 3,
    "start_time": "2022-01-31T17:53:58.263Z"
   },
   {
    "duration": 348,
    "start_time": "2022-01-31T17:56:29.764Z"
   },
   {
    "duration": 457,
    "start_time": "2022-01-31T17:56:33.704Z"
   },
   {
    "duration": 6,
    "start_time": "2022-01-31T17:58:25.627Z"
   },
   {
    "duration": 25,
    "start_time": "2022-01-31T17:58:27.585Z"
   },
   {
    "duration": 3,
    "start_time": "2022-01-31T17:59:49.306Z"
   },
   {
    "duration": 890,
    "start_time": "2022-01-31T18:00:04.505Z"
   },
   {
    "duration": 4,
    "start_time": "2022-01-31T18:00:55.307Z"
   },
   {
    "duration": 4,
    "start_time": "2022-01-31T18:00:58.816Z"
   },
   {
    "duration": 9,
    "start_time": "2022-01-31T18:00:58.822Z"
   },
   {
    "duration": 6882,
    "start_time": "2022-01-31T18:00:58.833Z"
   },
   {
    "duration": 25,
    "start_time": "2022-01-31T18:01:05.717Z"
   },
   {
    "duration": 17,
    "start_time": "2022-01-31T18:01:05.744Z"
   },
   {
    "duration": 19,
    "start_time": "2022-01-31T18:01:05.762Z"
   },
   {
    "duration": 443,
    "start_time": "2022-01-31T18:01:05.784Z"
   },
   {
    "duration": 13,
    "start_time": "2022-01-31T18:01:06.229Z"
   },
   {
    "duration": 12,
    "start_time": "2022-01-31T18:01:06.243Z"
   },
   {
    "duration": 3,
    "start_time": "2022-01-31T18:01:06.257Z"
   },
   {
    "duration": 6,
    "start_time": "2022-01-31T18:01:06.262Z"
   },
   {
    "duration": 447,
    "start_time": "2022-01-31T18:01:06.269Z"
   },
   {
    "duration": 10,
    "start_time": "2022-01-31T18:01:06.718Z"
   },
   {
    "duration": 16,
    "start_time": "2022-01-31T18:01:06.729Z"
   },
   {
    "duration": 3,
    "start_time": "2022-01-31T18:01:06.747Z"
   },
   {
    "duration": 6,
    "start_time": "2022-01-31T18:01:06.752Z"
   },
   {
    "duration": 5,
    "start_time": "2022-01-31T18:01:06.760Z"
   },
   {
    "duration": 5,
    "start_time": "2022-01-31T18:01:06.768Z"
   },
   {
    "duration": 9,
    "start_time": "2022-01-31T18:01:06.775Z"
   },
   {
    "duration": 479,
    "start_time": "2022-01-31T18:01:06.786Z"
   },
   {
    "duration": 441,
    "start_time": "2022-01-31T18:01:07.267Z"
   },
   {
    "duration": 7,
    "start_time": "2022-01-31T18:01:07.710Z"
   },
   {
    "duration": 20,
    "start_time": "2022-01-31T18:01:07.719Z"
   },
   {
    "duration": 22,
    "start_time": "2022-01-31T18:01:07.740Z"
   },
   {
    "duration": 14,
    "start_time": "2022-01-31T18:01:07.764Z"
   },
   {
    "duration": 6,
    "start_time": "2022-01-31T18:01:07.780Z"
   },
   {
    "duration": 6,
    "start_time": "2022-01-31T18:01:07.787Z"
   },
   {
    "duration": 4327,
    "start_time": "2022-01-31T18:01:07.795Z"
   },
   {
    "duration": 17,
    "start_time": "2022-01-31T18:01:12.126Z"
   },
   {
    "duration": 15,
    "start_time": "2022-01-31T18:01:12.145Z"
   },
   {
    "duration": 22,
    "start_time": "2022-01-31T18:01:12.162Z"
   },
   {
    "duration": 3,
    "start_time": "2022-01-31T18:01:12.185Z"
   },
   {
    "duration": 77,
    "start_time": "2022-01-31T18:01:12.190Z"
   },
   {
    "duration": 1643,
    "start_time": "2022-01-31T18:01:12.268Z"
   },
   {
    "duration": 6,
    "start_time": "2022-01-31T18:01:13.913Z"
   },
   {
    "duration": 8,
    "start_time": "2022-01-31T18:01:13.927Z"
   },
   {
    "duration": 9,
    "start_time": "2022-01-31T18:01:13.937Z"
   },
   {
    "duration": 15,
    "start_time": "2022-01-31T18:01:13.948Z"
   },
   {
    "duration": 14,
    "start_time": "2022-01-31T18:01:13.965Z"
   },
   {
    "duration": 1395,
    "start_time": "2022-01-31T18:01:13.981Z"
   },
   {
    "duration": 30,
    "start_time": "2022-01-31T18:01:15.378Z"
   },
   {
    "duration": 36,
    "start_time": "2022-01-31T18:01:15.410Z"
   },
   {
    "duration": 2247,
    "start_time": "2022-01-31T18:01:15.448Z"
   },
   {
    "duration": 15,
    "start_time": "2022-01-31T18:01:17.697Z"
   },
   {
    "duration": 14,
    "start_time": "2022-01-31T18:01:17.713Z"
   },
   {
    "duration": 12,
    "start_time": "2022-01-31T18:01:17.729Z"
   },
   {
    "duration": 4,
    "start_time": "2022-01-31T18:01:17.742Z"
   },
   {
    "duration": 1958,
    "start_time": "2022-01-31T18:01:17.747Z"
   },
   {
    "duration": 36,
    "start_time": "2022-01-31T18:01:19.706Z"
   },
   {
    "duration": 8,
    "start_time": "2022-01-31T18:01:19.744Z"
   },
   {
    "duration": 39,
    "start_time": "2022-01-31T18:01:19.758Z"
   },
   {
    "duration": 9,
    "start_time": "2022-01-31T18:01:19.799Z"
   },
   {
    "duration": 9,
    "start_time": "2022-01-31T18:01:19.810Z"
   },
   {
    "duration": 33,
    "start_time": "2022-01-31T18:01:19.821Z"
   },
   {
    "duration": 3,
    "start_time": "2022-01-31T18:01:19.856Z"
   },
   {
    "duration": 392,
    "start_time": "2022-01-31T18:01:19.861Z"
   },
   {
    "duration": 387,
    "start_time": "2022-01-31T18:17:29.795Z"
   },
   {
    "duration": 56229,
    "start_time": "2022-01-31T18:18:45.704Z"
   },
   {
    "duration": 329,
    "start_time": "2022-01-31T18:22:42.735Z"
   },
   {
    "duration": 3823,
    "start_time": "2022-01-31T18:23:01.477Z"
   },
   {
    "duration": 144355,
    "start_time": "2022-01-31T18:23:32.965Z"
   },
   {
    "duration": 230,
    "start_time": "2022-01-31T18:27:55.237Z"
   },
   {
    "duration": 13,
    "start_time": "2022-01-31T18:28:01.787Z"
   },
   {
    "duration": 280,
    "start_time": "2022-01-31T18:28:06.036Z"
   },
   {
    "duration": 245380,
    "start_time": "2022-01-31T18:28:22.800Z"
   },
   {
    "duration": 139024,
    "start_time": "2022-01-31T18:33:14.241Z"
   },
   {
    "duration": 304402,
    "start_time": "2022-01-31T18:35:42.632Z"
   },
   {
    "duration": 395227,
    "start_time": "2022-01-31T18:41:51.935Z"
   },
   {
    "duration": 3,
    "start_time": "2022-01-31T18:48:54.444Z"
   },
   {
    "duration": 3,
    "start_time": "2022-01-31T18:48:57.185Z"
   },
   {
    "duration": 7,
    "start_time": "2022-01-31T18:48:58.294Z"
   },
   {
    "duration": 27,
    "start_time": "2022-01-31T18:49:01.184Z"
   },
   {
    "duration": 3,
    "start_time": "2022-01-31T18:49:01.854Z"
   },
   {
    "duration": 57682,
    "start_time": "2022-01-31T18:49:02.854Z"
   },
   {
    "duration": 623,
    "start_time": "2022-02-01T06:38:56.965Z"
   },
   {
    "duration": 1912,
    "start_time": "2022-02-01T06:39:00.906Z"
   },
   {
    "duration": 4,
    "start_time": "2022-02-01T06:39:02.821Z"
   },
   {
    "duration": 6300,
    "start_time": "2022-02-01T06:39:02.829Z"
   },
   {
    "duration": 44,
    "start_time": "2022-02-01T06:39:09.131Z"
   },
   {
    "duration": 25,
    "start_time": "2022-02-01T06:39:09.177Z"
   },
   {
    "duration": 20,
    "start_time": "2022-02-01T06:39:09.204Z"
   },
   {
    "duration": 771,
    "start_time": "2022-02-01T06:39:09.227Z"
   },
   {
    "duration": 19,
    "start_time": "2022-02-01T06:39:10.002Z"
   },
   {
    "duration": 17,
    "start_time": "2022-02-01T06:39:10.024Z"
   },
   {
    "duration": 7,
    "start_time": "2022-02-01T06:39:10.060Z"
   },
   {
    "duration": 7,
    "start_time": "2022-02-01T06:39:10.069Z"
   },
   {
    "duration": 729,
    "start_time": "2022-02-01T06:39:10.079Z"
   },
   {
    "duration": 5,
    "start_time": "2022-02-01T06:39:10.811Z"
   },
   {
    "duration": 14,
    "start_time": "2022-02-01T06:39:10.819Z"
   },
   {
    "duration": 26,
    "start_time": "2022-02-01T06:39:10.835Z"
   },
   {
    "duration": 13,
    "start_time": "2022-02-01T06:39:10.864Z"
   },
   {
    "duration": 7,
    "start_time": "2022-02-01T06:39:10.880Z"
   },
   {
    "duration": 6,
    "start_time": "2022-02-01T06:39:10.890Z"
   },
   {
    "duration": 9,
    "start_time": "2022-02-01T06:39:10.898Z"
   },
   {
    "duration": 411,
    "start_time": "2022-02-01T06:39:10.909Z"
   },
   {
    "duration": 351,
    "start_time": "2022-02-01T06:39:11.323Z"
   },
   {
    "duration": 12,
    "start_time": "2022-02-01T06:39:11.676Z"
   },
   {
    "duration": 16,
    "start_time": "2022-02-01T06:39:11.694Z"
   },
   {
    "duration": 58,
    "start_time": "2022-02-01T06:39:11.713Z"
   },
   {
    "duration": 14,
    "start_time": "2022-02-01T06:39:11.773Z"
   },
   {
    "duration": 8,
    "start_time": "2022-02-01T06:39:11.790Z"
   },
   {
    "duration": 5,
    "start_time": "2022-02-01T06:39:11.800Z"
   },
   {
    "duration": 6498,
    "start_time": "2022-02-01T06:39:11.807Z"
   },
   {
    "duration": 29,
    "start_time": "2022-02-01T06:39:18.308Z"
   },
   {
    "duration": 45,
    "start_time": "2022-02-01T06:39:18.339Z"
   },
   {
    "duration": 30,
    "start_time": "2022-02-01T06:39:18.386Z"
   },
   {
    "duration": 4,
    "start_time": "2022-02-01T06:39:18.419Z"
   },
   {
    "duration": 39,
    "start_time": "2022-02-01T06:39:18.459Z"
   },
   {
    "duration": 3248,
    "start_time": "2022-02-01T06:39:18.501Z"
   },
   {
    "duration": 9,
    "start_time": "2022-02-01T06:39:21.759Z"
   },
   {
    "duration": 12,
    "start_time": "2022-02-01T06:39:21.771Z"
   },
   {
    "duration": 11,
    "start_time": "2022-02-01T06:39:21.786Z"
   },
   {
    "duration": 19,
    "start_time": "2022-02-01T06:39:21.800Z"
   },
   {
    "duration": 55,
    "start_time": "2022-02-01T06:39:21.821Z"
   },
   {
    "duration": 1766,
    "start_time": "2022-02-01T06:39:21.879Z"
   },
   {
    "duration": 58,
    "start_time": "2022-02-01T06:39:23.647Z"
   },
   {
    "duration": 54,
    "start_time": "2022-02-01T06:39:23.707Z"
   },
   {
    "duration": 3105,
    "start_time": "2022-02-01T06:39:23.765Z"
   },
   {
    "duration": 22,
    "start_time": "2022-02-01T06:39:26.872Z"
   },
   {
    "duration": 5,
    "start_time": "2022-02-01T06:39:26.896Z"
   },
   {
    "duration": 57,
    "start_time": "2022-02-01T06:39:26.903Z"
   },
   {
    "duration": 7,
    "start_time": "2022-02-01T06:39:26.963Z"
   },
   {
    "duration": 3086,
    "start_time": "2022-02-01T06:39:26.973Z"
   },
   {
    "duration": 34,
    "start_time": "2022-02-01T06:39:30.061Z"
   },
   {
    "duration": 14,
    "start_time": "2022-02-01T06:39:30.098Z"
   },
   {
    "duration": 5,
    "start_time": "2022-02-01T06:39:30.115Z"
   },
   {
    "duration": 44,
    "start_time": "2022-02-01T06:39:30.122Z"
   },
   {
    "duration": 25,
    "start_time": "2022-02-01T06:39:30.168Z"
   },
   {
    "duration": 563,
    "start_time": "2022-02-01T06:39:30.195Z"
   },
   {
    "duration": 6153,
    "start_time": "2022-02-01T06:39:24.608Z"
   },
   {
    "duration": 6146,
    "start_time": "2022-02-01T06:39:24.616Z"
   },
   {
    "duration": 6134,
    "start_time": "2022-02-01T06:39:24.630Z"
   },
   {
    "duration": 6127,
    "start_time": "2022-02-01T06:39:24.638Z"
   },
   {
    "duration": 1081,
    "start_time": "2022-02-01T06:42:51.982Z"
   },
   {
    "duration": 782,
    "start_time": "2022-02-01T06:44:11.906Z"
   },
   {
    "duration": 10,
    "start_time": "2022-02-01T06:44:41.402Z"
   },
   {
    "duration": 386,
    "start_time": "2022-02-01T08:50:28.291Z"
   },
   {
    "duration": 8,
    "start_time": "2022-02-01T08:51:50.611Z"
   },
   {
    "duration": 11,
    "start_time": "2022-02-01T08:51:53.738Z"
   },
   {
    "duration": 11,
    "start_time": "2022-02-01T08:51:58.701Z"
   },
   {
    "duration": 609,
    "start_time": "2022-02-01T08:52:04.301Z"
   },
   {
    "duration": 12,
    "start_time": "2022-02-01T09:33:02.023Z"
   },
   {
    "duration": 41,
    "start_time": "2022-02-01T09:38:56.356Z"
   },
   {
    "duration": 6,
    "start_time": "2022-02-01T09:39:02.325Z"
   },
   {
    "duration": 387,
    "start_time": "2022-02-01T09:41:06.326Z"
   },
   {
    "duration": 171,
    "start_time": "2022-02-01T09:42:26.015Z"
   },
   {
    "duration": 536,
    "start_time": "2022-02-01T09:42:30.615Z"
   },
   {
    "duration": 16,
    "start_time": "2022-02-01T09:43:20.355Z"
   },
   {
    "duration": 8,
    "start_time": "2022-02-01T09:43:44.975Z"
   },
   {
    "duration": 16,
    "start_time": "2022-02-01T09:44:00.365Z"
   },
   {
    "duration": 37,
    "start_time": "2022-02-01T09:44:07.479Z"
   },
   {
    "duration": 19,
    "start_time": "2022-02-01T09:44:50.687Z"
   },
   {
    "duration": 38,
    "start_time": "2022-02-01T09:44:56.228Z"
   },
   {
    "duration": 38,
    "start_time": "2022-02-01T09:45:05.809Z"
   },
   {
    "duration": 19,
    "start_time": "2022-02-01T09:45:17.955Z"
   },
   {
    "duration": 38,
    "start_time": "2022-02-01T09:45:19.986Z"
   },
   {
    "duration": 8,
    "start_time": "2022-02-01T09:45:33.406Z"
   },
   {
    "duration": 7,
    "start_time": "2022-02-01T09:45:44.632Z"
   },
   {
    "duration": 4,
    "start_time": "2022-02-01T09:45:44.642Z"
   },
   {
    "duration": 3341,
    "start_time": "2022-02-01T09:45:44.649Z"
   },
   {
    "duration": 31,
    "start_time": "2022-02-01T09:45:47.993Z"
   },
   {
    "duration": 45,
    "start_time": "2022-02-01T09:45:48.026Z"
   },
   {
    "duration": 20,
    "start_time": "2022-02-01T09:45:48.074Z"
   },
   {
    "duration": 762,
    "start_time": "2022-02-01T09:45:48.097Z"
   },
   {
    "duration": 13,
    "start_time": "2022-02-01T09:45:48.861Z"
   },
   {
    "duration": 17,
    "start_time": "2022-02-01T09:45:48.876Z"
   },
   {
    "duration": 5,
    "start_time": "2022-02-01T09:45:48.895Z"
   },
   {
    "duration": 741,
    "start_time": "2022-02-01T09:45:48.902Z"
   },
   {
    "duration": 15,
    "start_time": "2022-02-01T09:45:49.645Z"
   },
   {
    "duration": 16,
    "start_time": "2022-02-01T09:45:49.662Z"
   },
   {
    "duration": 5,
    "start_time": "2022-02-01T09:45:49.682Z"
   },
   {
    "duration": 7,
    "start_time": "2022-02-01T09:45:49.690Z"
   },
   {
    "duration": 6,
    "start_time": "2022-02-01T09:45:49.700Z"
   },
   {
    "duration": 52,
    "start_time": "2022-02-01T09:45:49.709Z"
   },
   {
    "duration": 9,
    "start_time": "2022-02-01T09:45:49.764Z"
   },
   {
    "duration": 385,
    "start_time": "2022-02-01T09:45:49.775Z"
   },
   {
    "duration": 353,
    "start_time": "2022-02-01T09:45:50.163Z"
   },
   {
    "duration": 11,
    "start_time": "2022-02-01T09:45:50.518Z"
   },
   {
    "duration": 35,
    "start_time": "2022-02-01T09:45:50.532Z"
   },
   {
    "duration": 31,
    "start_time": "2022-02-01T09:45:50.569Z"
   },
   {
    "duration": 14,
    "start_time": "2022-02-01T09:45:50.603Z"
   },
   {
    "duration": 8,
    "start_time": "2022-02-01T09:45:50.620Z"
   },
   {
    "duration": 30,
    "start_time": "2022-02-01T09:45:50.631Z"
   },
   {
    "duration": 6731,
    "start_time": "2022-02-01T09:45:50.663Z"
   },
   {
    "duration": 28,
    "start_time": "2022-02-01T09:45:57.396Z"
   },
   {
    "duration": 49,
    "start_time": "2022-02-01T09:45:57.426Z"
   },
   {
    "duration": 28,
    "start_time": "2022-02-01T09:45:57.477Z"
   },
   {
    "duration": 3,
    "start_time": "2022-02-01T09:45:57.507Z"
   },
   {
    "duration": 73,
    "start_time": "2022-02-01T09:45:57.512Z"
   },
   {
    "duration": 3280,
    "start_time": "2022-02-01T09:45:57.588Z"
   },
   {
    "duration": 9,
    "start_time": "2022-02-01T09:46:00.871Z"
   },
   {
    "duration": 14,
    "start_time": "2022-02-01T09:46:00.882Z"
   },
   {
    "duration": 20,
    "start_time": "2022-02-01T09:46:00.898Z"
   },
   {
    "duration": 13,
    "start_time": "2022-02-01T09:46:00.920Z"
   },
   {
    "duration": 28,
    "start_time": "2022-02-01T09:46:00.939Z"
   },
   {
    "duration": 1951,
    "start_time": "2022-02-01T09:46:00.969Z"
   },
   {
    "duration": 66,
    "start_time": "2022-02-01T09:46:02.922Z"
   },
   {
    "duration": 41,
    "start_time": "2022-02-01T09:46:02.990Z"
   },
   {
    "duration": 3078,
    "start_time": "2022-02-01T09:46:03.033Z"
   },
   {
    "duration": 21,
    "start_time": "2022-02-01T09:46:06.113Z"
   },
   {
    "duration": 3,
    "start_time": "2022-02-01T09:46:06.160Z"
   },
   {
    "duration": 18,
    "start_time": "2022-02-01T09:46:06.166Z"
   },
   {
    "duration": 6,
    "start_time": "2022-02-01T09:46:06.186Z"
   },
   {
    "duration": 3094,
    "start_time": "2022-02-01T09:46:06.196Z"
   },
   {
    "duration": 33,
    "start_time": "2022-02-01T09:46:09.293Z"
   },
   {
    "duration": 33,
    "start_time": "2022-02-01T09:46:09.328Z"
   },
   {
    "duration": 5,
    "start_time": "2022-02-01T09:46:09.363Z"
   },
   {
    "duration": 7,
    "start_time": "2022-02-01T09:46:09.371Z"
   },
   {
    "duration": 20,
    "start_time": "2022-02-01T09:46:09.381Z"
   },
   {
    "duration": 11,
    "start_time": "2022-02-01T09:46:09.403Z"
   },
   {
    "duration": 75,
    "start_time": "2022-02-01T09:46:09.416Z"
   },
   {
    "duration": 4,
    "start_time": "2022-02-01T09:46:09.493Z"
   },
   {
    "duration": 75771,
    "start_time": "2022-02-01T09:46:09.500Z"
   },
   {
    "duration": 29874,
    "start_time": "2022-02-01T09:47:25.278Z"
   },
   {
    "duration": 5,
    "start_time": "2022-02-01T09:47:55.155Z"
   },
   {
    "duration": 5,
    "start_time": "2022-02-01T09:47:58.496Z"
   },
   {
    "duration": 19,
    "start_time": "2022-02-01T09:48:02.588Z"
   },
   {
    "duration": 8,
    "start_time": "2022-02-01T09:48:03.795Z"
   },
   {
    "duration": 19,
    "start_time": "2022-02-01T09:48:15.607Z"
   },
   {
    "duration": 8,
    "start_time": "2022-02-01T09:48:16.066Z"
   },
   {
    "duration": 20,
    "start_time": "2022-02-01T09:48:49.486Z"
   },
   {
    "duration": 42,
    "start_time": "2022-02-01T09:49:03.105Z"
   },
   {
    "duration": 8,
    "start_time": "2022-02-01T09:49:14.147Z"
   },
   {
    "duration": 39,
    "start_time": "2022-02-01T09:49:18.346Z"
   },
   {
    "duration": 7,
    "start_time": "2022-02-01T09:49:23.828Z"
   },
   {
    "duration": 38,
    "start_time": "2022-02-01T09:51:43.618Z"
   },
   {
    "duration": 26,
    "start_time": "2022-02-01T09:54:26.957Z"
   },
   {
    "duration": 19,
    "start_time": "2022-02-01T09:54:34.569Z"
   },
   {
    "duration": 4,
    "start_time": "2022-02-01T09:54:35.178Z"
   },
   {
    "duration": 8762,
    "start_time": "2022-02-01T09:54:36.799Z"
   },
   {
    "duration": 35758,
    "start_time": "2022-02-01T09:54:46.179Z"
   },
   {
    "duration": 37250,
    "start_time": "2022-02-01T09:56:04.211Z"
   },
   {
    "duration": 37701,
    "start_time": "2022-02-01T09:59:10.561Z"
   },
   {
    "duration": 5,
    "start_time": "2022-02-01T10:02:31.102Z"
   },
   {
    "duration": 4,
    "start_time": "2022-02-01T10:02:32.343Z"
   },
   {
    "duration": 19,
    "start_time": "2022-02-01T10:02:33.773Z"
   },
   {
    "duration": 7,
    "start_time": "2022-02-01T10:02:34.402Z"
   },
   {
    "duration": 25,
    "start_time": "2022-02-01T10:02:35.621Z"
   },
   {
    "duration": 4,
    "start_time": "2022-02-01T10:02:36.172Z"
   },
   {
    "duration": 39064,
    "start_time": "2022-02-01T10:02:37.602Z"
   },
   {
    "duration": 37779,
    "start_time": "2022-02-01T10:07:17.800Z"
   },
   {
    "duration": 1748,
    "start_time": "2022-02-01T10:14:42.163Z"
   },
   {
    "duration": 4,
    "start_time": "2022-02-01T10:14:43.914Z"
   },
   {
    "duration": 3227,
    "start_time": "2022-02-01T10:14:43.921Z"
   },
   {
    "duration": 42,
    "start_time": "2022-02-01T10:14:47.151Z"
   },
   {
    "duration": 25,
    "start_time": "2022-02-01T10:14:47.196Z"
   },
   {
    "duration": 49,
    "start_time": "2022-02-01T10:14:47.223Z"
   },
   {
    "duration": 744,
    "start_time": "2022-02-01T10:14:47.275Z"
   },
   {
    "duration": 36,
    "start_time": "2022-02-01T10:14:48.023Z"
   },
   {
    "duration": 16,
    "start_time": "2022-02-01T10:14:48.062Z"
   },
   {
    "duration": 5,
    "start_time": "2022-02-01T10:14:48.081Z"
   },
   {
    "duration": 783,
    "start_time": "2022-02-01T10:14:48.089Z"
   },
   {
    "duration": 7,
    "start_time": "2022-02-01T10:14:48.875Z"
   },
   {
    "duration": 19,
    "start_time": "2022-02-01T10:14:48.885Z"
   },
   {
    "duration": 6,
    "start_time": "2022-02-01T10:14:48.908Z"
   },
   {
    "duration": 44,
    "start_time": "2022-02-01T10:14:48.917Z"
   },
   {
    "duration": 8,
    "start_time": "2022-02-01T10:14:48.964Z"
   },
   {
    "duration": 8,
    "start_time": "2022-02-01T10:14:48.976Z"
   },
   {
    "duration": 10,
    "start_time": "2022-02-01T10:14:48.987Z"
   },
   {
    "duration": 405,
    "start_time": "2022-02-01T10:14:49.000Z"
   },
   {
    "duration": 414,
    "start_time": "2022-02-01T10:14:49.407Z"
   },
   {
    "duration": 11,
    "start_time": "2022-02-01T10:14:49.823Z"
   },
   {
    "duration": 32,
    "start_time": "2022-02-01T10:14:49.836Z"
   },
   {
    "duration": 25,
    "start_time": "2022-02-01T10:14:49.874Z"
   },
   {
    "duration": 15,
    "start_time": "2022-02-01T10:14:49.902Z"
   },
   {
    "duration": 7,
    "start_time": "2022-02-01T10:14:49.919Z"
   },
   {
    "duration": 4,
    "start_time": "2022-02-01T10:14:49.960Z"
   },
   {
    "duration": 6868,
    "start_time": "2022-02-01T10:14:49.966Z"
   },
   {
    "duration": 44,
    "start_time": "2022-02-01T10:14:56.837Z"
   },
   {
    "duration": 27,
    "start_time": "2022-02-01T10:14:56.883Z"
   },
   {
    "duration": 51,
    "start_time": "2022-02-01T10:14:56.912Z"
   },
   {
    "duration": 3,
    "start_time": "2022-02-01T10:14:56.966Z"
   },
   {
    "duration": 38,
    "start_time": "2022-02-01T10:14:56.971Z"
   },
   {
    "duration": 3169,
    "start_time": "2022-02-01T10:14:57.012Z"
   },
   {
    "duration": 11,
    "start_time": "2022-02-01T10:15:00.184Z"
   },
   {
    "duration": 17,
    "start_time": "2022-02-01T10:15:00.197Z"
   },
   {
    "duration": 51,
    "start_time": "2022-02-01T10:15:00.216Z"
   },
   {
    "duration": 13,
    "start_time": "2022-02-01T10:15:00.270Z"
   },
   {
    "duration": 18,
    "start_time": "2022-02-01T10:15:00.286Z"
   },
   {
    "duration": 1720,
    "start_time": "2022-02-01T10:15:00.307Z"
   },
   {
    "duration": 68,
    "start_time": "2022-02-01T10:15:02.030Z"
   },
   {
    "duration": 40,
    "start_time": "2022-02-01T10:15:02.101Z"
   },
   {
    "duration": 2827,
    "start_time": "2022-02-01T10:15:02.143Z"
   },
   {
    "duration": 22,
    "start_time": "2022-02-01T10:15:04.973Z"
   },
   {
    "duration": 3,
    "start_time": "2022-02-01T10:15:04.997Z"
   },
   {
    "duration": 16,
    "start_time": "2022-02-01T10:15:05.003Z"
   },
   {
    "duration": 6,
    "start_time": "2022-02-01T10:15:05.058Z"
   },
   {
    "duration": 3321,
    "start_time": "2022-02-01T10:15:05.067Z"
   },
   {
    "duration": 51,
    "start_time": "2022-02-01T10:15:08.391Z"
   },
   {
    "duration": 14,
    "start_time": "2022-02-01T10:15:08.459Z"
   },
   {
    "duration": 5,
    "start_time": "2022-02-01T10:15:08.475Z"
   },
   {
    "duration": 5,
    "start_time": "2022-02-01T10:15:08.482Z"
   },
   {
    "duration": 20,
    "start_time": "2022-02-01T10:15:08.489Z"
   },
   {
    "duration": 69,
    "start_time": "2022-02-01T10:15:08.511Z"
   },
   {
    "duration": 4,
    "start_time": "2022-02-01T10:15:08.583Z"
   },
   {
    "duration": 49487,
    "start_time": "2022-02-01T10:15:08.590Z"
   },
   {
    "duration": 654,
    "start_time": "2022-02-01T10:15:58.160Z"
   },
   {
    "duration": 50438,
    "start_time": "2022-02-01T10:16:52.330Z"
   },
   {
    "duration": 5,
    "start_time": "2022-02-01T10:19:08.508Z"
   },
   {
    "duration": 4,
    "start_time": "2022-02-01T10:19:09.348Z"
   },
   {
    "duration": 18,
    "start_time": "2022-02-01T10:19:10.217Z"
   },
   {
    "duration": 25,
    "start_time": "2022-02-01T10:19:11.867Z"
   },
   {
    "duration": 4,
    "start_time": "2022-02-01T10:19:12.967Z"
   },
   {
    "duration": 39158,
    "start_time": "2022-02-01T10:19:16.528Z"
   },
   {
    "duration": 47925,
    "start_time": "2022-02-01T10:27:44.151Z"
   },
   {
    "duration": 319,
    "start_time": "2022-02-01T10:28:49.755Z"
   },
   {
    "duration": 252741,
    "start_time": "2022-02-01T10:29:05.644Z"
   },
   {
    "duration": 39887,
    "start_time": "2022-02-01T10:57:29.599Z"
   },
   {
    "duration": 4,
    "start_time": "2022-02-01T10:59:29.373Z"
   },
   {
    "duration": 5,
    "start_time": "2022-02-01T10:59:30.782Z"
   },
   {
    "duration": 22,
    "start_time": "2022-02-01T10:59:31.611Z"
   },
   {
    "duration": 26,
    "start_time": "2022-02-01T10:59:32.759Z"
   },
   {
    "duration": 4,
    "start_time": "2022-02-01T10:59:33.373Z"
   },
   {
    "duration": 38612,
    "start_time": "2022-02-01T10:59:35.251Z"
   },
   {
    "duration": 4,
    "start_time": "2022-02-01T11:02:07.184Z"
   },
   {
    "duration": 41301,
    "start_time": "2022-02-01T11:02:11.265Z"
   },
   {
    "duration": 1396,
    "start_time": "2022-02-01T11:05:14.737Z"
   },
   {
    "duration": 418,
    "start_time": "2022-02-01T11:05:39.349Z"
   },
   {
    "duration": 42206,
    "start_time": "2022-02-01T11:06:25.959Z"
   },
   {
    "duration": 20216,
    "start_time": "2022-02-01T11:07:15.356Z"
   },
   {
    "duration": 18,
    "start_time": "2022-02-01T13:25:00.306Z"
   },
   {
    "duration": 25,
    "start_time": "2022-02-01T13:25:12.980Z"
   },
   {
    "duration": 2313,
    "start_time": "2022-02-01T13:26:29.121Z"
   },
   {
    "duration": 1569,
    "start_time": "2022-02-01T14:38:02.711Z"
   },
   {
    "duration": 4,
    "start_time": "2022-02-01T14:38:04.282Z"
   },
   {
    "duration": 3176,
    "start_time": "2022-02-01T14:38:04.289Z"
   },
   {
    "duration": 39,
    "start_time": "2022-02-01T14:38:07.468Z"
   },
   {
    "duration": 50,
    "start_time": "2022-02-01T14:38:07.510Z"
   },
   {
    "duration": 23,
    "start_time": "2022-02-01T14:38:07.570Z"
   },
   {
    "duration": 785,
    "start_time": "2022-02-01T14:38:07.596Z"
   },
   {
    "duration": 21,
    "start_time": "2022-02-01T14:38:08.385Z"
   },
   {
    "duration": 17,
    "start_time": "2022-02-01T14:38:08.409Z"
   },
   {
    "duration": 4,
    "start_time": "2022-02-01T14:38:08.429Z"
   },
   {
    "duration": 747,
    "start_time": "2022-02-01T14:38:08.462Z"
   },
   {
    "duration": 6,
    "start_time": "2022-02-01T14:38:09.211Z"
   },
   {
    "duration": 13,
    "start_time": "2022-02-01T14:38:09.220Z"
   },
   {
    "duration": 30,
    "start_time": "2022-02-01T14:38:09.235Z"
   },
   {
    "duration": 18,
    "start_time": "2022-02-01T14:38:09.268Z"
   },
   {
    "duration": 8,
    "start_time": "2022-02-01T14:38:09.288Z"
   },
   {
    "duration": 5,
    "start_time": "2022-02-01T14:38:09.299Z"
   },
   {
    "duration": 9,
    "start_time": "2022-02-01T14:38:09.306Z"
   },
   {
    "duration": 411,
    "start_time": "2022-02-01T14:38:09.317Z"
   },
   {
    "duration": 376,
    "start_time": "2022-02-01T14:38:09.730Z"
   },
   {
    "duration": 10,
    "start_time": "2022-02-01T14:38:10.108Z"
   },
   {
    "duration": 39,
    "start_time": "2022-02-01T14:38:10.120Z"
   },
   {
    "duration": 27,
    "start_time": "2022-02-01T14:38:10.164Z"
   },
   {
    "duration": 36,
    "start_time": "2022-02-01T14:38:10.195Z"
   },
   {
    "duration": 9,
    "start_time": "2022-02-01T14:38:10.258Z"
   },
   {
    "duration": 10,
    "start_time": "2022-02-01T14:38:10.270Z"
   },
   {
    "duration": 6801,
    "start_time": "2022-02-01T14:38:10.283Z"
   },
   {
    "duration": 29,
    "start_time": "2022-02-01T14:38:17.086Z"
   },
   {
    "duration": 59,
    "start_time": "2022-02-01T14:38:17.117Z"
   },
   {
    "duration": 28,
    "start_time": "2022-02-01T14:38:17.179Z"
   },
   {
    "duration": 4,
    "start_time": "2022-02-01T14:38:17.209Z"
   },
   {
    "duration": 77,
    "start_time": "2022-02-01T14:38:17.215Z"
   },
   {
    "duration": 4311,
    "start_time": "2022-02-01T14:38:17.294Z"
   },
   {
    "duration": 10,
    "start_time": "2022-02-01T14:38:21.608Z"
   },
   {
    "duration": 41,
    "start_time": "2022-02-01T14:38:21.620Z"
   },
   {
    "duration": 16,
    "start_time": "2022-02-01T14:38:21.668Z"
   },
   {
    "duration": 17,
    "start_time": "2022-02-01T14:38:21.687Z"
   },
   {
    "duration": 56,
    "start_time": "2022-02-01T14:38:21.707Z"
   },
   {
    "duration": 2547,
    "start_time": "2022-02-01T14:38:21.765Z"
   },
   {
    "duration": 66,
    "start_time": "2022-02-01T14:38:24.315Z"
   },
   {
    "duration": 39,
    "start_time": "2022-02-01T14:38:24.383Z"
   },
   {
    "duration": 3221,
    "start_time": "2022-02-01T14:38:24.425Z"
   },
   {
    "duration": 38,
    "start_time": "2022-02-01T14:38:27.648Z"
   },
   {
    "duration": 4,
    "start_time": "2022-02-01T14:38:27.689Z"
   },
   {
    "duration": 17,
    "start_time": "2022-02-01T14:38:27.696Z"
   },
   {
    "duration": 5,
    "start_time": "2022-02-01T14:38:27.716Z"
   },
   {
    "duration": 3132,
    "start_time": "2022-02-01T14:38:27.759Z"
   },
   {
    "duration": 34,
    "start_time": "2022-02-01T14:38:30.893Z"
   },
   {
    "duration": 38,
    "start_time": "2022-02-01T14:38:30.930Z"
   },
   {
    "duration": 6,
    "start_time": "2022-02-01T14:38:30.971Z"
   },
   {
    "duration": 5,
    "start_time": "2022-02-01T14:38:30.980Z"
   },
   {
    "duration": 25,
    "start_time": "2022-02-01T14:38:30.988Z"
   },
   {
    "duration": 73,
    "start_time": "2022-02-01T14:38:31.016Z"
   },
   {
    "duration": 5,
    "start_time": "2022-02-01T14:38:31.092Z"
   },
   {
    "duration": 650,
    "start_time": "2022-02-01T14:38:31.099Z"
   },
   {
    "duration": 7005,
    "start_time": "2022-02-01T14:38:24.747Z"
   },
   {
    "duration": 436,
    "start_time": "2022-02-01T14:38:51.297Z"
   },
   {
    "duration": 914,
    "start_time": "2022-02-01T14:39:59.397Z"
   },
   {
    "duration": 13,
    "start_time": "2022-02-01T14:40:36.880Z"
   },
   {
    "duration": 10,
    "start_time": "2022-02-01T14:41:50.012Z"
   },
   {
    "duration": 25,
    "start_time": "2022-02-01T14:42:28.017Z"
   },
   {
    "duration": 2608,
    "start_time": "2022-02-01T14:42:32.297Z"
   },
   {
    "duration": 3,
    "start_time": "2022-02-01T14:42:48.348Z"
   },
   {
    "duration": 5,
    "start_time": "2022-02-01T14:43:00.638Z"
   },
   {
    "duration": 378,
    "start_time": "2022-02-01T14:43:17.147Z"
   },
   {
    "duration": 478,
    "start_time": "2022-02-01T14:43:31.678Z"
   },
   {
    "duration": 1628,
    "start_time": "2022-02-01T14:43:42.942Z"
   },
   {
    "duration": 5,
    "start_time": "2022-02-01T14:43:44.573Z"
   },
   {
    "duration": 4637,
    "start_time": "2022-02-01T14:43:44.581Z"
   },
   {
    "duration": 49,
    "start_time": "2022-02-01T14:43:49.220Z"
   },
   {
    "duration": 26,
    "start_time": "2022-02-01T14:43:49.272Z"
   },
   {
    "duration": 20,
    "start_time": "2022-02-01T14:43:49.300Z"
   },
   {
    "duration": 791,
    "start_time": "2022-02-01T14:43:49.323Z"
   },
   {
    "duration": 21,
    "start_time": "2022-02-01T14:43:50.117Z"
   },
   {
    "duration": 37,
    "start_time": "2022-02-01T14:43:50.141Z"
   },
   {
    "duration": 6,
    "start_time": "2022-02-01T14:43:50.182Z"
   },
   {
    "duration": 772,
    "start_time": "2022-02-01T14:43:50.191Z"
   },
   {
    "duration": 8,
    "start_time": "2022-02-01T14:43:50.965Z"
   },
   {
    "duration": 21,
    "start_time": "2022-02-01T14:43:50.976Z"
   },
   {
    "duration": 6,
    "start_time": "2022-02-01T14:43:51.000Z"
   },
   {
    "duration": 8,
    "start_time": "2022-02-01T14:43:51.009Z"
   },
   {
    "duration": 52,
    "start_time": "2022-02-01T14:43:51.020Z"
   },
   {
    "duration": 9,
    "start_time": "2022-02-01T14:43:51.075Z"
   },
   {
    "duration": 11,
    "start_time": "2022-02-01T14:43:51.087Z"
   },
   {
    "duration": 563,
    "start_time": "2022-02-01T14:43:51.101Z"
   },
   {
    "duration": 663,
    "start_time": "2022-02-01T14:43:51.667Z"
   },
   {
    "duration": 12,
    "start_time": "2022-02-01T14:43:52.333Z"
   },
   {
    "duration": 21,
    "start_time": "2022-02-01T14:43:52.360Z"
   },
   {
    "duration": 27,
    "start_time": "2022-02-01T14:43:52.388Z"
   },
   {
    "duration": 66,
    "start_time": "2022-02-01T14:43:52.419Z"
   },
   {
    "duration": 7,
    "start_time": "2022-02-01T14:43:52.487Z"
   },
   {
    "duration": 8,
    "start_time": "2022-02-01T14:43:52.497Z"
   },
   {
    "duration": 6,
    "start_time": "2022-02-01T14:43:52.508Z"
   },
   {
    "duration": 7261,
    "start_time": "2022-02-01T14:43:52.516Z"
   },
   {
    "duration": 29,
    "start_time": "2022-02-01T14:43:59.780Z"
   },
   {
    "duration": 53,
    "start_time": "2022-02-01T14:43:59.811Z"
   },
   {
    "duration": 31,
    "start_time": "2022-02-01T14:43:59.867Z"
   },
   {
    "duration": 5,
    "start_time": "2022-02-01T14:43:59.901Z"
   },
   {
    "duration": 79,
    "start_time": "2022-02-01T14:43:59.908Z"
   },
   {
    "duration": 3593,
    "start_time": "2022-02-01T14:43:59.989Z"
   },
   {
    "duration": 10,
    "start_time": "2022-02-01T14:44:03.586Z"
   },
   {
    "duration": 15,
    "start_time": "2022-02-01T14:44:03.599Z"
   },
   {
    "duration": 51,
    "start_time": "2022-02-01T14:44:03.617Z"
   },
   {
    "duration": 17,
    "start_time": "2022-02-01T14:44:03.670Z"
   },
   {
    "duration": 17,
    "start_time": "2022-02-01T14:44:03.690Z"
   },
   {
    "duration": 1863,
    "start_time": "2022-02-01T14:44:03.709Z"
   },
   {
    "duration": 45,
    "start_time": "2022-02-01T14:44:05.574Z"
   },
   {
    "duration": 66,
    "start_time": "2022-02-01T14:44:05.621Z"
   },
   {
    "duration": 3517,
    "start_time": "2022-02-01T14:44:05.689Z"
   },
   {
    "duration": 22,
    "start_time": "2022-02-01T14:44:09.209Z"
   },
   {
    "duration": 24,
    "start_time": "2022-02-01T14:44:09.234Z"
   },
   {
    "duration": 23,
    "start_time": "2022-02-01T14:44:09.265Z"
   },
   {
    "duration": 4,
    "start_time": "2022-02-01T14:44:09.291Z"
   },
   {
    "duration": 3414,
    "start_time": "2022-02-01T14:44:09.298Z"
   },
   {
    "duration": 52,
    "start_time": "2022-02-01T14:44:12.714Z"
   },
   {
    "duration": 15,
    "start_time": "2022-02-01T14:44:12.768Z"
   },
   {
    "duration": 4,
    "start_time": "2022-02-01T14:44:12.785Z"
   },
   {
    "duration": 4,
    "start_time": "2022-02-01T14:44:12.793Z"
   },
   {
    "duration": 25,
    "start_time": "2022-02-01T14:44:12.799Z"
   },
   {
    "duration": 41,
    "start_time": "2022-02-01T14:44:12.827Z"
   },
   {
    "duration": 34,
    "start_time": "2022-02-01T14:44:12.871Z"
   },
   {
    "duration": 6,
    "start_time": "2022-02-01T14:44:12.909Z"
   },
   {
    "duration": 7990,
    "start_time": "2022-02-01T14:44:12.918Z"
   },
   {
    "duration": 7054,
    "start_time": "2022-02-01T14:44:13.857Z"
   },
   {
    "duration": 7046,
    "start_time": "2022-02-01T14:44:13.866Z"
   },
   {
    "duration": 2061,
    "start_time": "2022-02-01T14:44:29.904Z"
   },
   {
    "duration": 6,
    "start_time": "2022-02-01T14:44:31.968Z"
   },
   {
    "duration": 3320,
    "start_time": "2022-02-01T14:44:31.977Z"
   },
   {
    "duration": 45,
    "start_time": "2022-02-01T14:44:35.300Z"
   },
   {
    "duration": 35,
    "start_time": "2022-02-01T14:44:35.359Z"
   },
   {
    "duration": 22,
    "start_time": "2022-02-01T14:44:35.397Z"
   },
   {
    "duration": 800,
    "start_time": "2022-02-01T14:44:35.421Z"
   },
   {
    "duration": 34,
    "start_time": "2022-02-01T14:44:36.226Z"
   },
   {
    "duration": 18,
    "start_time": "2022-02-01T14:44:36.263Z"
   },
   {
    "duration": 5,
    "start_time": "2022-02-01T14:44:36.284Z"
   },
   {
    "duration": 776,
    "start_time": "2022-02-01T14:44:36.291Z"
   },
   {
    "duration": 7,
    "start_time": "2022-02-01T14:44:37.071Z"
   },
   {
    "duration": 13,
    "start_time": "2022-02-01T14:44:37.081Z"
   },
   {
    "duration": 5,
    "start_time": "2022-02-01T14:44:37.096Z"
   },
   {
    "duration": 6,
    "start_time": "2022-02-01T14:44:37.103Z"
   },
   {
    "duration": 56,
    "start_time": "2022-02-01T14:44:37.112Z"
   },
   {
    "duration": 6,
    "start_time": "2022-02-01T14:44:37.176Z"
   },
   {
    "duration": 8,
    "start_time": "2022-02-01T14:44:37.185Z"
   },
   {
    "duration": 535,
    "start_time": "2022-02-01T14:44:37.196Z"
   },
   {
    "duration": 386,
    "start_time": "2022-02-01T14:44:37.733Z"
   },
   {
    "duration": 9,
    "start_time": "2022-02-01T14:44:38.122Z"
   },
   {
    "duration": 34,
    "start_time": "2022-02-01T14:44:38.133Z"
   },
   {
    "duration": 25,
    "start_time": "2022-02-01T14:44:38.175Z"
   },
   {
    "duration": 68,
    "start_time": "2022-02-01T14:44:38.204Z"
   },
   {
    "duration": 499,
    "start_time": "2022-02-01T14:44:38.275Z"
   },
   {
    "duration": 7090,
    "start_time": "2022-02-01T14:44:31.687Z"
   },
   {
    "duration": 7090,
    "start_time": "2022-02-01T14:44:31.694Z"
   },
   {
    "duration": 7087,
    "start_time": "2022-02-01T14:44:31.698Z"
   },
   {
    "duration": 7084,
    "start_time": "2022-02-01T14:44:31.703Z"
   },
   {
    "duration": 7081,
    "start_time": "2022-02-01T14:44:31.707Z"
   },
   {
    "duration": 7079,
    "start_time": "2022-02-01T14:44:31.710Z"
   },
   {
    "duration": 7076,
    "start_time": "2022-02-01T14:44:31.714Z"
   },
   {
    "duration": 7073,
    "start_time": "2022-02-01T14:44:31.718Z"
   },
   {
    "duration": 7071,
    "start_time": "2022-02-01T14:44:31.721Z"
   },
   {
    "duration": 7067,
    "start_time": "2022-02-01T14:44:31.726Z"
   },
   {
    "duration": 7064,
    "start_time": "2022-02-01T14:44:31.730Z"
   },
   {
    "duration": 7061,
    "start_time": "2022-02-01T14:44:31.734Z"
   },
   {
    "duration": 7058,
    "start_time": "2022-02-01T14:44:31.738Z"
   },
   {
    "duration": 7055,
    "start_time": "2022-02-01T14:44:31.742Z"
   },
   {
    "duration": 7053,
    "start_time": "2022-02-01T14:44:31.746Z"
   },
   {
    "duration": 7050,
    "start_time": "2022-02-01T14:44:31.750Z"
   },
   {
    "duration": 7046,
    "start_time": "2022-02-01T14:44:31.755Z"
   },
   {
    "duration": 7044,
    "start_time": "2022-02-01T14:44:31.759Z"
   },
   {
    "duration": 7041,
    "start_time": "2022-02-01T14:44:31.763Z"
   },
   {
    "duration": 7039,
    "start_time": "2022-02-01T14:44:31.767Z"
   },
   {
    "duration": 7035,
    "start_time": "2022-02-01T14:44:31.772Z"
   },
   {
    "duration": 7033,
    "start_time": "2022-02-01T14:44:31.776Z"
   },
   {
    "duration": 7019,
    "start_time": "2022-02-01T14:44:31.791Z"
   },
   {
    "duration": 7015,
    "start_time": "2022-02-01T14:44:31.796Z"
   },
   {
    "duration": 7011,
    "start_time": "2022-02-01T14:44:31.802Z"
   },
   {
    "duration": 7009,
    "start_time": "2022-02-01T14:44:31.805Z"
   },
   {
    "duration": 7005,
    "start_time": "2022-02-01T14:44:31.810Z"
   },
   {
    "duration": 7003,
    "start_time": "2022-02-01T14:44:31.813Z"
   },
   {
    "duration": 7000,
    "start_time": "2022-02-01T14:44:31.818Z"
   },
   {
    "duration": 7038,
    "start_time": "2022-02-01T14:44:31.822Z"
   },
   {
    "duration": 7035,
    "start_time": "2022-02-01T14:44:31.826Z"
   },
   {
    "duration": 7032,
    "start_time": "2022-02-01T14:44:31.830Z"
   },
   {
    "duration": 7030,
    "start_time": "2022-02-01T14:44:31.834Z"
   },
   {
    "duration": 12,
    "start_time": "2022-02-01T14:44:53.889Z"
   },
   {
    "duration": 6,
    "start_time": "2022-02-01T14:44:58.591Z"
   },
   {
    "duration": 7,
    "start_time": "2022-02-01T14:44:58.600Z"
   },
   {
    "duration": 2734,
    "start_time": "2022-02-01T14:44:58.610Z"
   },
   {
    "duration": 44,
    "start_time": "2022-02-01T14:45:01.347Z"
   },
   {
    "duration": 31,
    "start_time": "2022-02-01T14:45:01.394Z"
   },
   {
    "duration": 49,
    "start_time": "2022-02-01T14:45:01.427Z"
   },
   {
    "duration": 989,
    "start_time": "2022-02-01T14:45:01.482Z"
   },
   {
    "duration": 15,
    "start_time": "2022-02-01T14:45:02.476Z"
   },
   {
    "duration": 16,
    "start_time": "2022-02-01T14:45:02.494Z"
   },
   {
    "duration": 4,
    "start_time": "2022-02-01T14:45:02.513Z"
   },
   {
    "duration": 831,
    "start_time": "2022-02-01T14:45:02.520Z"
   },
   {
    "duration": 7,
    "start_time": "2022-02-01T14:45:03.354Z"
   },
   {
    "duration": 26,
    "start_time": "2022-02-01T14:45:03.366Z"
   },
   {
    "duration": 5,
    "start_time": "2022-02-01T14:45:03.395Z"
   },
   {
    "duration": 8,
    "start_time": "2022-02-01T14:45:03.402Z"
   },
   {
    "duration": 7,
    "start_time": "2022-02-01T14:45:03.412Z"
   },
   {
    "duration": 38,
    "start_time": "2022-02-01T14:45:03.421Z"
   },
   {
    "duration": 19,
    "start_time": "2022-02-01T14:45:03.461Z"
   },
   {
    "duration": 382,
    "start_time": "2022-02-01T14:45:03.482Z"
   },
   {
    "duration": 365,
    "start_time": "2022-02-01T14:45:03.866Z"
   },
   {
    "duration": 11,
    "start_time": "2022-02-01T14:45:04.233Z"
   },
   {
    "duration": 31,
    "start_time": "2022-02-01T14:45:04.246Z"
   },
   {
    "duration": 27,
    "start_time": "2022-02-01T14:45:04.283Z"
   },
   {
    "duration": 66,
    "start_time": "2022-02-01T14:45:04.314Z"
   },
   {
    "duration": 11,
    "start_time": "2022-02-01T14:45:04.382Z"
   },
   {
    "duration": 6,
    "start_time": "2022-02-01T14:45:04.396Z"
   },
   {
    "duration": 8,
    "start_time": "2022-02-01T14:45:04.405Z"
   },
   {
    "duration": 7139,
    "start_time": "2022-02-01T14:45:04.416Z"
   },
   {
    "duration": 43,
    "start_time": "2022-02-01T14:45:11.560Z"
   },
   {
    "duration": 64,
    "start_time": "2022-02-01T14:45:11.606Z"
   },
   {
    "duration": 31,
    "start_time": "2022-02-01T14:45:11.673Z"
   },
   {
    "duration": 4,
    "start_time": "2022-02-01T14:45:11.707Z"
   },
   {
    "duration": 69,
    "start_time": "2022-02-01T14:45:11.713Z"
   },
   {
    "duration": 3476,
    "start_time": "2022-02-01T14:45:11.785Z"
   },
   {
    "duration": 11,
    "start_time": "2022-02-01T14:45:15.264Z"
   },
   {
    "duration": 18,
    "start_time": "2022-02-01T14:45:15.278Z"
   },
   {
    "duration": 13,
    "start_time": "2022-02-01T14:45:15.298Z"
   },
   {
    "duration": 54,
    "start_time": "2022-02-01T14:45:15.313Z"
   },
   {
    "duration": 22,
    "start_time": "2022-02-01T14:45:15.370Z"
   },
   {
    "duration": 2621,
    "start_time": "2022-02-01T14:45:15.394Z"
   },
   {
    "duration": 64,
    "start_time": "2022-02-01T14:45:18.018Z"
   },
   {
    "duration": 51,
    "start_time": "2022-02-01T14:45:18.084Z"
   },
   {
    "duration": 3282,
    "start_time": "2022-02-01T14:45:18.138Z"
   },
   {
    "duration": 21,
    "start_time": "2022-02-01T14:45:21.423Z"
   },
   {
    "duration": 4,
    "start_time": "2022-02-01T14:45:21.464Z"
   },
   {
    "duration": 21,
    "start_time": "2022-02-01T14:45:21.471Z"
   },
   {
    "duration": 6,
    "start_time": "2022-02-01T14:45:21.494Z"
   },
   {
    "duration": 3174,
    "start_time": "2022-02-01T14:45:21.502Z"
   },
   {
    "duration": 35,
    "start_time": "2022-02-01T14:45:24.679Z"
   },
   {
    "duration": 13,
    "start_time": "2022-02-01T14:45:24.716Z"
   },
   {
    "duration": 32,
    "start_time": "2022-02-01T14:45:24.731Z"
   },
   {
    "duration": 17,
    "start_time": "2022-02-01T14:45:24.765Z"
   },
   {
    "duration": 24,
    "start_time": "2022-02-01T14:45:24.784Z"
   },
   {
    "duration": 13,
    "start_time": "2022-02-01T14:45:24.810Z"
   },
   {
    "duration": 58,
    "start_time": "2022-02-01T14:45:24.825Z"
   },
   {
    "duration": 4,
    "start_time": "2022-02-01T14:45:24.885Z"
   },
   {
    "duration": 20072,
    "start_time": "2022-02-01T14:45:24.892Z"
   },
   {
    "duration": 128094,
    "start_time": "2022-02-01T14:45:44.972Z"
   },
   {
    "duration": 43974,
    "start_time": "2022-02-01T16:21:26.297Z"
   },
   {
    "duration": 222528,
    "start_time": "2022-02-01T16:25:48.460Z"
   },
   {
    "duration": 6,
    "start_time": "2022-02-01T16:29:30.992Z"
   },
   {
    "duration": 6,
    "start_time": "2022-02-01T16:29:37.072Z"
   },
   {
    "duration": 44896,
    "start_time": "2022-02-01T16:29:42.410Z"
   },
   {
    "duration": 258653,
    "start_time": "2022-02-01T16:31:37.740Z"
   },
   {
    "duration": 8,
    "start_time": "2022-02-01T16:51:51.289Z"
   },
   {
    "duration": 3233,
    "start_time": "2022-02-01T16:52:50.879Z"
   },
   {
    "duration": 163,
    "start_time": "2022-02-01T16:53:15.306Z"
   },
   {
    "duration": 41912,
    "start_time": "2022-02-01T16:53:21.656Z"
   },
   {
    "duration": 251451,
    "start_time": "2022-02-01T17:00:50.348Z"
   },
   {
    "duration": 1250,
    "start_time": "2022-02-02T05:38:43.590Z"
   },
   {
    "duration": 3,
    "start_time": "2022-02-02T05:38:44.843Z"
   },
   {
    "duration": 3194,
    "start_time": "2022-02-02T05:38:44.849Z"
   },
   {
    "duration": 27,
    "start_time": "2022-02-02T05:38:48.045Z"
   },
   {
    "duration": 33,
    "start_time": "2022-02-02T05:38:48.073Z"
   },
   {
    "duration": 16,
    "start_time": "2022-02-02T05:38:48.107Z"
   },
   {
    "duration": 22,
    "start_time": "2022-02-02T05:38:48.124Z"
   },
   {
    "duration": 21,
    "start_time": "2022-02-02T05:38:48.148Z"
   },
   {
    "duration": 17,
    "start_time": "2022-02-02T05:38:48.171Z"
   },
   {
    "duration": 459,
    "start_time": "2022-02-02T05:38:48.190Z"
   },
   {
    "duration": 5,
    "start_time": "2022-02-02T05:38:48.650Z"
   },
   {
    "duration": 30,
    "start_time": "2022-02-02T05:38:48.657Z"
   },
   {
    "duration": 5,
    "start_time": "2022-02-02T05:38:48.689Z"
   },
   {
    "duration": 21,
    "start_time": "2022-02-02T05:38:48.696Z"
   },
   {
    "duration": 25,
    "start_time": "2022-02-02T05:38:48.719Z"
   },
   {
    "duration": 37,
    "start_time": "2022-02-02T05:38:48.745Z"
   },
   {
    "duration": 27,
    "start_time": "2022-02-02T05:38:48.783Z"
   },
   {
    "duration": 304,
    "start_time": "2022-02-02T05:38:48.812Z"
   },
   {
    "duration": 275,
    "start_time": "2022-02-02T05:38:49.118Z"
   },
   {
    "duration": 9,
    "start_time": "2022-02-02T05:38:49.395Z"
   },
   {
    "duration": 32,
    "start_time": "2022-02-02T05:38:49.406Z"
   },
   {
    "duration": 23,
    "start_time": "2022-02-02T05:38:49.440Z"
   },
   {
    "duration": 42,
    "start_time": "2022-02-02T05:38:49.468Z"
   },
   {
    "duration": 9,
    "start_time": "2022-02-02T05:38:49.512Z"
   },
   {
    "duration": 13,
    "start_time": "2022-02-02T05:38:49.523Z"
   },
   {
    "duration": 36,
    "start_time": "2022-02-02T05:38:49.537Z"
   },
   {
    "duration": 4347,
    "start_time": "2022-02-02T05:38:49.575Z"
   },
   {
    "duration": 23,
    "start_time": "2022-02-02T05:38:53.923Z"
   },
   {
    "duration": 21,
    "start_time": "2022-02-02T05:38:53.948Z"
   },
   {
    "duration": 38,
    "start_time": "2022-02-02T05:38:53.971Z"
   },
   {
    "duration": 2,
    "start_time": "2022-02-02T05:38:54.011Z"
   },
   {
    "duration": 49,
    "start_time": "2022-02-02T05:38:54.015Z"
   },
   {
    "duration": 2136,
    "start_time": "2022-02-02T05:38:54.065Z"
   },
   {
    "duration": 7,
    "start_time": "2022-02-02T05:38:56.202Z"
   },
   {
    "duration": 31,
    "start_time": "2022-02-02T05:38:56.211Z"
   },
   {
    "duration": 34,
    "start_time": "2022-02-02T05:38:56.243Z"
   },
   {
    "duration": 39,
    "start_time": "2022-02-02T05:38:56.279Z"
   },
   {
    "duration": 33,
    "start_time": "2022-02-02T05:38:56.320Z"
   },
   {
    "duration": 1169,
    "start_time": "2022-02-02T05:38:56.354Z"
   },
   {
    "duration": 37,
    "start_time": "2022-02-02T05:38:57.524Z"
   },
   {
    "duration": 44,
    "start_time": "2022-02-02T05:38:57.562Z"
   },
   {
    "duration": 2001,
    "start_time": "2022-02-02T05:38:57.608Z"
   },
   {
    "duration": 15,
    "start_time": "2022-02-02T05:38:59.611Z"
   },
   {
    "duration": 3,
    "start_time": "2022-02-02T05:38:59.628Z"
   },
   {
    "duration": 13,
    "start_time": "2022-02-02T05:38:59.632Z"
   },
   {
    "duration": 5,
    "start_time": "2022-02-02T05:38:59.647Z"
   },
   {
    "duration": 2103,
    "start_time": "2022-02-02T05:38:59.654Z"
   },
   {
    "duration": 25,
    "start_time": "2022-02-02T05:39:01.759Z"
   },
   {
    "duration": 19,
    "start_time": "2022-02-02T05:39:01.786Z"
   },
   {
    "duration": 10,
    "start_time": "2022-02-02T05:39:01.807Z"
   },
   {
    "duration": 31,
    "start_time": "2022-02-02T05:39:01.819Z"
   },
   {
    "duration": 28,
    "start_time": "2022-02-02T05:39:01.852Z"
   },
   {
    "duration": 37,
    "start_time": "2022-02-02T05:39:01.882Z"
   },
   {
    "duration": 3,
    "start_time": "2022-02-02T05:39:01.921Z"
   },
   {
    "duration": 30885,
    "start_time": "2022-02-02T05:39:01.926Z"
   },
   {
    "duration": 9,
    "start_time": "2022-02-02T05:41:03.167Z"
   },
   {
    "duration": 40,
    "start_time": "2022-02-02T05:41:03.179Z"
   },
   {
    "duration": 12,
    "start_time": "2022-02-02T05:41:03.221Z"
   },
   {
    "duration": 333,
    "start_time": "2022-02-02T05:41:03.235Z"
   },
   {
    "duration": 9119,
    "start_time": "2022-02-02T05:40:54.451Z"
   },
   {
    "duration": 9116,
    "start_time": "2022-02-02T05:40:54.455Z"
   },
   {
    "duration": 9112,
    "start_time": "2022-02-02T05:40:54.460Z"
   },
   {
    "duration": 9108,
    "start_time": "2022-02-02T05:40:54.465Z"
   },
   {
    "duration": 9105,
    "start_time": "2022-02-02T05:40:54.469Z"
   },
   {
    "duration": 9099,
    "start_time": "2022-02-02T05:40:54.476Z"
   },
   {
    "duration": 9094,
    "start_time": "2022-02-02T05:40:54.482Z"
   },
   {
    "duration": 9090,
    "start_time": "2022-02-02T05:40:54.487Z"
   },
   {
    "duration": 9086,
    "start_time": "2022-02-02T05:40:54.492Z"
   },
   {
    "duration": 9083,
    "start_time": "2022-02-02T05:40:54.496Z"
   },
   {
    "duration": 9079,
    "start_time": "2022-02-02T05:40:54.501Z"
   },
   {
    "duration": 9077,
    "start_time": "2022-02-02T05:40:54.504Z"
   },
   {
    "duration": 9074,
    "start_time": "2022-02-02T05:40:54.508Z"
   },
   {
    "duration": 9071,
    "start_time": "2022-02-02T05:40:54.512Z"
   },
   {
    "duration": 9067,
    "start_time": "2022-02-02T05:40:54.516Z"
   },
   {
    "duration": 9064,
    "start_time": "2022-02-02T05:40:54.520Z"
   },
   {
    "duration": 9061,
    "start_time": "2022-02-02T05:40:54.524Z"
   },
   {
    "duration": 9058,
    "start_time": "2022-02-02T05:40:54.528Z"
   },
   {
    "duration": 9055,
    "start_time": "2022-02-02T05:40:54.532Z"
   },
   {
    "duration": 9043,
    "start_time": "2022-02-02T05:40:54.545Z"
   },
   {
    "duration": 9040,
    "start_time": "2022-02-02T05:40:54.549Z"
   },
   {
    "duration": 9037,
    "start_time": "2022-02-02T05:40:54.553Z"
   },
   {
    "duration": 9034,
    "start_time": "2022-02-02T05:40:54.557Z"
   },
   {
    "duration": 9030,
    "start_time": "2022-02-02T05:40:54.562Z"
   },
   {
    "duration": 9026,
    "start_time": "2022-02-02T05:40:54.567Z"
   },
   {
    "duration": 9024,
    "start_time": "2022-02-02T05:40:54.570Z"
   },
   {
    "duration": 9020,
    "start_time": "2022-02-02T05:40:54.575Z"
   },
   {
    "duration": 9017,
    "start_time": "2022-02-02T05:40:54.579Z"
   },
   {
    "duration": 9014,
    "start_time": "2022-02-02T05:40:54.583Z"
   },
   {
    "duration": 9011,
    "start_time": "2022-02-02T05:40:54.587Z"
   },
   {
    "duration": 9007,
    "start_time": "2022-02-02T05:40:54.592Z"
   },
   {
    "duration": 9005,
    "start_time": "2022-02-02T05:40:54.595Z"
   },
   {
    "duration": 9000,
    "start_time": "2022-02-02T05:40:54.600Z"
   },
   {
    "duration": 4,
    "start_time": "2022-02-02T05:43:16.541Z"
   },
   {
    "duration": 8,
    "start_time": "2022-02-02T05:43:16.547Z"
   },
   {
    "duration": 2754,
    "start_time": "2022-02-02T05:43:16.557Z"
   },
   {
    "duration": 22,
    "start_time": "2022-02-02T05:43:19.313Z"
   },
   {
    "duration": 23,
    "start_time": "2022-02-02T05:43:19.337Z"
   },
   {
    "duration": 39,
    "start_time": "2022-02-02T05:43:19.361Z"
   },
   {
    "duration": 11,
    "start_time": "2022-02-02T05:43:19.402Z"
   },
   {
    "duration": 13,
    "start_time": "2022-02-02T05:43:19.414Z"
   },
   {
    "duration": 3,
    "start_time": "2022-02-02T05:43:19.429Z"
   },
   {
    "duration": 469,
    "start_time": "2022-02-02T05:43:19.434Z"
   },
   {
    "duration": 5,
    "start_time": "2022-02-02T05:43:19.905Z"
   },
   {
    "duration": 29,
    "start_time": "2022-02-02T05:43:19.911Z"
   },
   {
    "duration": 4,
    "start_time": "2022-02-02T05:43:19.942Z"
   },
   {
    "duration": 22,
    "start_time": "2022-02-02T05:43:19.947Z"
   },
   {
    "duration": 9,
    "start_time": "2022-02-02T05:43:19.971Z"
   },
   {
    "duration": 15,
    "start_time": "2022-02-02T05:43:19.982Z"
   },
   {
    "duration": 22,
    "start_time": "2022-02-02T05:43:19.998Z"
   },
   {
    "duration": 304,
    "start_time": "2022-02-02T05:43:20.022Z"
   },
   {
    "duration": 272,
    "start_time": "2022-02-02T05:43:20.328Z"
   },
   {
    "duration": 8,
    "start_time": "2022-02-02T05:43:20.601Z"
   },
   {
    "duration": 29,
    "start_time": "2022-02-02T05:43:20.610Z"
   },
   {
    "duration": 10,
    "start_time": "2022-02-02T05:43:20.640Z"
   },
   {
    "duration": 17,
    "start_time": "2022-02-02T05:43:20.651Z"
   },
   {
    "duration": 34,
    "start_time": "2022-02-02T05:43:20.669Z"
   },
   {
    "duration": 6,
    "start_time": "2022-02-02T05:43:20.706Z"
   },
   {
    "duration": 6,
    "start_time": "2022-02-02T05:43:20.714Z"
   },
   {
    "duration": 4597,
    "start_time": "2022-02-02T05:43:20.722Z"
   },
   {
    "duration": 21,
    "start_time": "2022-02-02T05:43:25.321Z"
   },
   {
    "duration": 21,
    "start_time": "2022-02-02T05:43:25.344Z"
   },
   {
    "duration": 43,
    "start_time": "2022-02-02T05:43:25.366Z"
   },
   {
    "duration": 2,
    "start_time": "2022-02-02T05:43:25.411Z"
   },
   {
    "duration": 31,
    "start_time": "2022-02-02T05:43:25.415Z"
   },
   {
    "duration": 2244,
    "start_time": "2022-02-02T05:43:25.448Z"
   },
   {
    "duration": 8,
    "start_time": "2022-02-02T05:43:27.694Z"
   },
   {
    "duration": 10,
    "start_time": "2022-02-02T05:43:27.703Z"
   },
   {
    "duration": 8,
    "start_time": "2022-02-02T05:43:27.715Z"
   },
   {
    "duration": 10,
    "start_time": "2022-02-02T05:43:27.725Z"
   },
   {
    "duration": 13,
    "start_time": "2022-02-02T05:43:27.737Z"
   },
   {
    "duration": 1176,
    "start_time": "2022-02-02T05:43:27.751Z"
   },
   {
    "duration": 44,
    "start_time": "2022-02-02T05:43:28.929Z"
   },
   {
    "duration": 46,
    "start_time": "2022-02-02T05:43:28.975Z"
   },
   {
    "duration": 2159,
    "start_time": "2022-02-02T05:43:29.023Z"
   },
   {
    "duration": 26,
    "start_time": "2022-02-02T05:43:31.184Z"
   },
   {
    "duration": 10,
    "start_time": "2022-02-02T05:43:31.212Z"
   },
   {
    "duration": 26,
    "start_time": "2022-02-02T05:43:31.224Z"
   },
   {
    "duration": 16,
    "start_time": "2022-02-02T05:43:31.253Z"
   },
   {
    "duration": 2146,
    "start_time": "2022-02-02T05:43:31.271Z"
   },
   {
    "duration": 26,
    "start_time": "2022-02-02T05:43:33.420Z"
   },
   {
    "duration": 11,
    "start_time": "2022-02-02T05:43:33.448Z"
   },
   {
    "duration": 4,
    "start_time": "2022-02-02T05:43:33.461Z"
   },
   {
    "duration": 33,
    "start_time": "2022-02-02T05:43:33.467Z"
   },
   {
    "duration": 15,
    "start_time": "2022-02-02T05:43:33.503Z"
   },
   {
    "duration": 21,
    "start_time": "2022-02-02T05:43:33.520Z"
   },
   {
    "duration": 4,
    "start_time": "2022-02-02T05:43:33.543Z"
   },
   {
    "duration": 30852,
    "start_time": "2022-02-02T05:43:33.549Z"
   },
   {
    "duration": 19862,
    "start_time": "2022-02-02T05:44:04.403Z"
   },
   {
    "duration": 93110,
    "start_time": "2022-02-02T05:44:59.049Z"
   },
   {
    "duration": 30578,
    "start_time": "2022-02-02T05:46:33.825Z"
   },
   {
    "duration": 1175,
    "start_time": "2022-02-02T05:50:39.656Z"
   },
   {
    "duration": 3,
    "start_time": "2022-02-02T05:50:40.833Z"
   },
   {
    "duration": 1269,
    "start_time": "2022-02-02T05:51:48.664Z"
   },
   {
    "duration": 3,
    "start_time": "2022-02-02T05:51:49.935Z"
   },
   {
    "duration": 4843,
    "start_time": "2022-02-02T05:51:49.940Z"
   },
   {
    "duration": 26,
    "start_time": "2022-02-02T05:51:54.785Z"
   },
   {
    "duration": 18,
    "start_time": "2022-02-02T05:51:54.813Z"
   },
   {
    "duration": 16,
    "start_time": "2022-02-02T05:51:54.833Z"
   },
   {
    "duration": 15,
    "start_time": "2022-02-02T05:51:54.850Z"
   },
   {
    "duration": 43,
    "start_time": "2022-02-02T05:51:54.867Z"
   },
   {
    "duration": 4,
    "start_time": "2022-02-02T05:51:54.912Z"
   },
   {
    "duration": 472,
    "start_time": "2022-02-02T05:51:54.917Z"
   },
   {
    "duration": 5,
    "start_time": "2022-02-02T05:51:55.391Z"
   },
   {
    "duration": 13,
    "start_time": "2022-02-02T05:51:55.398Z"
   },
   {
    "duration": 4,
    "start_time": "2022-02-02T05:51:55.412Z"
   },
   {
    "duration": 6,
    "start_time": "2022-02-02T05:51:55.418Z"
   },
   {
    "duration": 5,
    "start_time": "2022-02-02T05:51:55.426Z"
   },
   {
    "duration": 6,
    "start_time": "2022-02-02T05:51:55.433Z"
   },
   {
    "duration": 6,
    "start_time": "2022-02-02T05:51:55.441Z"
   },
   {
    "duration": 318,
    "start_time": "2022-02-02T05:51:55.448Z"
   },
   {
    "duration": 278,
    "start_time": "2022-02-02T05:51:55.767Z"
   },
   {
    "duration": 8,
    "start_time": "2022-02-02T05:51:56.046Z"
   },
   {
    "duration": 44,
    "start_time": "2022-02-02T05:51:56.056Z"
   },
   {
    "duration": 10,
    "start_time": "2022-02-02T05:51:56.102Z"
   },
   {
    "duration": 28,
    "start_time": "2022-02-02T05:51:56.115Z"
   },
   {
    "duration": 9,
    "start_time": "2022-02-02T05:51:56.145Z"
   },
   {
    "duration": 16,
    "start_time": "2022-02-02T05:51:56.155Z"
   },
   {
    "duration": 22,
    "start_time": "2022-02-02T05:51:56.173Z"
   },
   {
    "duration": 4327,
    "start_time": "2022-02-02T05:51:56.197Z"
   },
   {
    "duration": 22,
    "start_time": "2022-02-02T05:52:00.526Z"
   },
   {
    "duration": 21,
    "start_time": "2022-02-02T05:52:00.550Z"
   },
   {
    "duration": 45,
    "start_time": "2022-02-02T05:52:00.573Z"
   },
   {
    "duration": 2,
    "start_time": "2022-02-02T05:52:00.620Z"
   },
   {
    "duration": 34,
    "start_time": "2022-02-02T05:52:00.624Z"
   },
   {
    "duration": 2248,
    "start_time": "2022-02-02T05:52:00.660Z"
   },
   {
    "duration": 7,
    "start_time": "2022-02-02T05:52:02.910Z"
   },
   {
    "duration": 13,
    "start_time": "2022-02-02T05:52:02.918Z"
   },
   {
    "duration": 9,
    "start_time": "2022-02-02T05:52:02.933Z"
   },
   {
    "duration": 10,
    "start_time": "2022-02-02T05:52:02.944Z"
   },
   {
    "duration": 49,
    "start_time": "2022-02-02T05:52:02.955Z"
   },
   {
    "duration": 1176,
    "start_time": "2022-02-02T05:52:03.005Z"
   },
   {
    "duration": 47,
    "start_time": "2022-02-02T05:52:04.183Z"
   },
   {
    "duration": 32,
    "start_time": "2022-02-02T05:52:04.232Z"
   },
   {
    "duration": 2027,
    "start_time": "2022-02-02T05:52:04.266Z"
   },
   {
    "duration": 17,
    "start_time": "2022-02-02T05:52:06.295Z"
   },
   {
    "duration": 25,
    "start_time": "2022-02-02T05:52:06.314Z"
   },
   {
    "duration": 40,
    "start_time": "2022-02-02T05:52:06.341Z"
   },
   {
    "duration": 25,
    "start_time": "2022-02-02T05:52:06.383Z"
   },
   {
    "duration": 2034,
    "start_time": "2022-02-02T05:52:06.409Z"
   },
   {
    "duration": 25,
    "start_time": "2022-02-02T05:52:08.445Z"
   },
   {
    "duration": 9,
    "start_time": "2022-02-02T05:52:08.472Z"
   },
   {
    "duration": 19,
    "start_time": "2022-02-02T05:52:08.499Z"
   },
   {
    "duration": 21,
    "start_time": "2022-02-02T05:52:08.520Z"
   },
   {
    "duration": 35,
    "start_time": "2022-02-02T05:52:08.542Z"
   },
   {
    "duration": 50,
    "start_time": "2022-02-02T05:52:08.579Z"
   },
   {
    "duration": 23,
    "start_time": "2022-02-02T05:52:08.631Z"
   },
   {
    "duration": 30646,
    "start_time": "2022-02-02T05:52:08.655Z"
   },
   {
    "duration": 446,
    "start_time": "2022-02-02T05:52:39.304Z"
   },
   {
    "duration": 5,
    "start_time": "2022-02-02T05:58:11.654Z"
   },
   {
    "duration": 4,
    "start_time": "2022-02-02T05:58:26.004Z"
   },
   {
    "duration": 29,
    "start_time": "2022-02-02T05:58:37.604Z"
   },
   {
    "duration": 5,
    "start_time": "2022-02-02T05:59:54.938Z"
   },
   {
    "duration": 1273,
    "start_time": "2022-02-02T06:00:06.180Z"
   },
   {
    "duration": 3,
    "start_time": "2022-02-02T06:00:07.455Z"
   },
   {
    "duration": 3733,
    "start_time": "2022-02-02T06:00:07.461Z"
   },
   {
    "duration": 29,
    "start_time": "2022-02-02T06:00:11.196Z"
   },
   {
    "duration": 18,
    "start_time": "2022-02-02T06:00:11.226Z"
   },
   {
    "duration": 17,
    "start_time": "2022-02-02T06:00:11.246Z"
   },
   {
    "duration": 41,
    "start_time": "2022-02-02T06:00:11.265Z"
   },
   {
    "duration": 13,
    "start_time": "2022-02-02T06:00:11.309Z"
   },
   {
    "duration": 4,
    "start_time": "2022-02-02T06:00:11.324Z"
   },
   {
    "duration": 467,
    "start_time": "2022-02-02T06:00:11.330Z"
   },
   {
    "duration": 5,
    "start_time": "2022-02-02T06:00:11.799Z"
   },
   {
    "duration": 13,
    "start_time": "2022-02-02T06:00:11.805Z"
   },
   {
    "duration": 4,
    "start_time": "2022-02-02T06:00:11.819Z"
   },
   {
    "duration": 9,
    "start_time": "2022-02-02T06:00:11.825Z"
   },
   {
    "duration": 9,
    "start_time": "2022-02-02T06:00:11.836Z"
   },
   {
    "duration": 6,
    "start_time": "2022-02-02T06:00:11.847Z"
   },
   {
    "duration": 10,
    "start_time": "2022-02-02T06:00:11.855Z"
   },
   {
    "duration": 307,
    "start_time": "2022-02-02T06:00:11.867Z"
   },
   {
    "duration": 280,
    "start_time": "2022-02-02T06:00:12.176Z"
   },
   {
    "duration": 7,
    "start_time": "2022-02-02T06:00:12.458Z"
   },
   {
    "duration": 42,
    "start_time": "2022-02-02T06:00:12.467Z"
   },
   {
    "duration": 11,
    "start_time": "2022-02-02T06:00:12.511Z"
   },
   {
    "duration": 21,
    "start_time": "2022-02-02T06:00:12.526Z"
   },
   {
    "duration": 8,
    "start_time": "2022-02-02T06:00:12.550Z"
   },
   {
    "duration": 5,
    "start_time": "2022-02-02T06:00:12.560Z"
   },
   {
    "duration": 32,
    "start_time": "2022-02-02T06:00:12.567Z"
   },
   {
    "duration": 4435,
    "start_time": "2022-02-02T06:00:12.600Z"
   },
   {
    "duration": 23,
    "start_time": "2022-02-02T06:00:17.037Z"
   },
   {
    "duration": 39,
    "start_time": "2022-02-02T06:00:17.062Z"
   },
   {
    "duration": 21,
    "start_time": "2022-02-02T06:00:17.103Z"
   },
   {
    "duration": 3,
    "start_time": "2022-02-02T06:00:17.126Z"
   },
   {
    "duration": 32,
    "start_time": "2022-02-02T06:00:17.130Z"
   },
   {
    "duration": 2198,
    "start_time": "2022-02-02T06:00:17.163Z"
   },
   {
    "duration": 6,
    "start_time": "2022-02-02T06:00:19.363Z"
   },
   {
    "duration": 17,
    "start_time": "2022-02-02T06:00:19.371Z"
   },
   {
    "duration": 17,
    "start_time": "2022-02-02T06:00:19.389Z"
   },
   {
    "duration": 10,
    "start_time": "2022-02-02T06:00:19.407Z"
   },
   {
    "duration": 18,
    "start_time": "2022-02-02T06:00:19.418Z"
   },
   {
    "duration": 1175,
    "start_time": "2022-02-02T06:00:19.438Z"
   },
   {
    "duration": 38,
    "start_time": "2022-02-02T06:00:20.615Z"
   },
   {
    "duration": 44,
    "start_time": "2022-02-02T06:00:20.655Z"
   },
   {
    "duration": 2026,
    "start_time": "2022-02-02T06:00:20.701Z"
   },
   {
    "duration": 15,
    "start_time": "2022-02-02T06:00:22.729Z"
   },
   {
    "duration": 5,
    "start_time": "2022-02-02T06:00:22.746Z"
   },
   {
    "duration": 14,
    "start_time": "2022-02-02T06:00:22.753Z"
   },
   {
    "duration": 4,
    "start_time": "2022-02-02T06:00:22.770Z"
   },
   {
    "duration": 2118,
    "start_time": "2022-02-02T06:00:22.776Z"
   },
   {
    "duration": 27,
    "start_time": "2022-02-02T06:00:24.899Z"
   },
   {
    "duration": 10,
    "start_time": "2022-02-02T06:00:24.928Z"
   },
   {
    "duration": 4,
    "start_time": "2022-02-02T06:00:24.940Z"
   },
   {
    "duration": 7,
    "start_time": "2022-02-02T06:00:24.946Z"
   },
   {
    "duration": 49,
    "start_time": "2022-02-02T06:00:24.955Z"
   },
   {
    "duration": 38,
    "start_time": "2022-02-02T06:00:25.006Z"
   },
   {
    "duration": 24,
    "start_time": "2022-02-02T06:00:25.046Z"
   },
   {
    "duration": 3,
    "start_time": "2022-02-02T06:00:25.072Z"
   },
   {
    "duration": 23786,
    "start_time": "2022-02-02T06:00:25.077Z"
   },
   {
    "duration": 8807,
    "start_time": "2022-02-02T06:00:40.059Z"
   },
   {
    "duration": 4,
    "start_time": "2022-02-02T06:02:35.826Z"
   },
   {
    "duration": 4,
    "start_time": "2022-02-02T06:02:54.555Z"
   },
   {
    "duration": 1239,
    "start_time": "2022-02-02T06:03:21.237Z"
   },
   {
    "duration": 3,
    "start_time": "2022-02-02T06:03:22.478Z"
   },
   {
    "duration": 2822,
    "start_time": "2022-02-02T06:03:22.483Z"
   },
   {
    "duration": 27,
    "start_time": "2022-02-02T06:03:25.307Z"
   },
   {
    "duration": 17,
    "start_time": "2022-02-02T06:03:25.336Z"
   },
   {
    "duration": 16,
    "start_time": "2022-02-02T06:03:25.355Z"
   },
   {
    "duration": 13,
    "start_time": "2022-02-02T06:03:25.399Z"
   },
   {
    "duration": 13,
    "start_time": "2022-02-02T06:03:25.415Z"
   },
   {
    "duration": 4,
    "start_time": "2022-02-02T06:03:25.430Z"
   },
   {
    "duration": 477,
    "start_time": "2022-02-02T06:03:25.436Z"
   },
   {
    "duration": 5,
    "start_time": "2022-02-02T06:03:25.915Z"
   },
   {
    "duration": 11,
    "start_time": "2022-02-02T06:03:25.922Z"
   },
   {
    "duration": 4,
    "start_time": "2022-02-02T06:03:25.935Z"
   },
   {
    "duration": 5,
    "start_time": "2022-02-02T06:03:25.941Z"
   },
   {
    "duration": 4,
    "start_time": "2022-02-02T06:03:25.948Z"
   },
   {
    "duration": 5,
    "start_time": "2022-02-02T06:03:25.954Z"
   },
   {
    "duration": 42,
    "start_time": "2022-02-02T06:03:25.960Z"
   },
   {
    "duration": 291,
    "start_time": "2022-02-02T06:03:26.004Z"
   },
   {
    "duration": 272,
    "start_time": "2022-02-02T06:03:26.298Z"
   },
   {
    "duration": 8,
    "start_time": "2022-02-02T06:03:26.572Z"
   },
   {
    "duration": 41,
    "start_time": "2022-02-02T06:03:26.582Z"
   },
   {
    "duration": 10,
    "start_time": "2022-02-02T06:03:26.624Z"
   },
   {
    "duration": 18,
    "start_time": "2022-02-02T06:03:26.638Z"
   },
   {
    "duration": 9,
    "start_time": "2022-02-02T06:03:26.658Z"
   },
   {
    "duration": 31,
    "start_time": "2022-02-02T06:03:26.669Z"
   },
   {
    "duration": 7,
    "start_time": "2022-02-02T06:03:26.702Z"
   },
   {
    "duration": 4450,
    "start_time": "2022-02-02T06:03:26.710Z"
   },
   {
    "duration": 22,
    "start_time": "2022-02-02T06:03:31.162Z"
   },
   {
    "duration": 32,
    "start_time": "2022-02-02T06:03:31.186Z"
   },
   {
    "duration": 24,
    "start_time": "2022-02-02T06:03:31.219Z"
   },
   {
    "duration": 2,
    "start_time": "2022-02-02T06:03:31.245Z"
   },
   {
    "duration": 56,
    "start_time": "2022-02-02T06:03:31.249Z"
   },
   {
    "duration": 2214,
    "start_time": "2022-02-02T06:03:31.307Z"
   },
   {
    "duration": 6,
    "start_time": "2022-02-02T06:03:33.523Z"
   },
   {
    "duration": 11,
    "start_time": "2022-02-02T06:03:33.531Z"
   },
   {
    "duration": 10,
    "start_time": "2022-02-02T06:03:33.543Z"
   },
   {
    "duration": 12,
    "start_time": "2022-02-02T06:03:33.554Z"
   },
   {
    "duration": 44,
    "start_time": "2022-02-02T06:03:33.568Z"
   },
   {
    "duration": 1188,
    "start_time": "2022-02-02T06:03:33.614Z"
   },
   {
    "duration": 39,
    "start_time": "2022-02-02T06:03:34.804Z"
   },
   {
    "duration": 30,
    "start_time": "2022-02-02T06:03:34.845Z"
   },
   {
    "duration": 2086,
    "start_time": "2022-02-02T06:03:34.877Z"
   },
   {
    "duration": 16,
    "start_time": "2022-02-02T06:03:36.964Z"
   },
   {
    "duration": 17,
    "start_time": "2022-02-02T06:03:36.981Z"
   },
   {
    "duration": 34,
    "start_time": "2022-02-02T06:03:37.000Z"
   },
   {
    "duration": 11,
    "start_time": "2022-02-02T06:03:37.035Z"
   },
   {
    "duration": 2118,
    "start_time": "2022-02-02T06:03:37.047Z"
   },
   {
    "duration": 37,
    "start_time": "2022-02-02T06:03:39.166Z"
   },
   {
    "duration": 11,
    "start_time": "2022-02-02T06:03:39.205Z"
   },
   {
    "duration": 9,
    "start_time": "2022-02-02T06:03:39.218Z"
   },
   {
    "duration": 30,
    "start_time": "2022-02-02T06:03:39.229Z"
   },
   {
    "duration": 37,
    "start_time": "2022-02-02T06:03:39.261Z"
   },
   {
    "duration": 25,
    "start_time": "2022-02-02T06:03:39.300Z"
   },
   {
    "duration": 45,
    "start_time": "2022-02-02T06:03:39.327Z"
   },
   {
    "duration": 4,
    "start_time": "2022-02-02T06:03:39.374Z"
   },
   {
    "duration": 25,
    "start_time": "2022-02-02T06:03:39.380Z"
   },
   {
    "duration": 30893,
    "start_time": "2022-02-02T06:03:39.407Z"
   },
   {
    "duration": 306,
    "start_time": "2022-02-02T06:04:10.302Z"
   },
   {
    "duration": 362,
    "start_time": "2022-02-02T10:11:04.810Z"
   },
   {
    "duration": 281,
    "start_time": "2022-02-02T10:11:11.535Z"
   },
   {
    "duration": 269,
    "start_time": "2022-02-02T10:11:48.546Z"
   },
   {
    "duration": 1617,
    "start_time": "2022-02-02T10:16:54.047Z"
   },
   {
    "duration": 8775,
    "start_time": "2022-02-02T10:16:46.892Z"
   },
   {
    "duration": 8769,
    "start_time": "2022-02-02T10:16:46.899Z"
   },
   {
    "duration": 8760,
    "start_time": "2022-02-02T10:16:46.909Z"
   },
   {
    "duration": 8735,
    "start_time": "2022-02-02T10:16:46.935Z"
   },
   {
    "duration": 8728,
    "start_time": "2022-02-02T10:16:46.942Z"
   },
   {
    "duration": 8713,
    "start_time": "2022-02-02T10:16:46.958Z"
   },
   {
    "duration": 8701,
    "start_time": "2022-02-02T10:16:46.971Z"
   },
   {
    "duration": 8693,
    "start_time": "2022-02-02T10:16:46.980Z"
   },
   {
    "duration": 8688,
    "start_time": "2022-02-02T10:16:46.986Z"
   },
   {
    "duration": 8682,
    "start_time": "2022-02-02T10:16:46.993Z"
   },
   {
    "duration": 8677,
    "start_time": "2022-02-02T10:16:46.999Z"
   },
   {
    "duration": 8674,
    "start_time": "2022-02-02T10:16:47.003Z"
   },
   {
    "duration": 8669,
    "start_time": "2022-02-02T10:16:47.009Z"
   },
   {
    "duration": 8665,
    "start_time": "2022-02-02T10:16:47.013Z"
   },
   {
    "duration": 8660,
    "start_time": "2022-02-02T10:16:47.019Z"
   },
   {
    "duration": 8657,
    "start_time": "2022-02-02T10:16:47.024Z"
   },
   {
    "duration": 8652,
    "start_time": "2022-02-02T10:16:47.029Z"
   },
   {
    "duration": 8649,
    "start_time": "2022-02-02T10:16:47.033Z"
   },
   {
    "duration": 8646,
    "start_time": "2022-02-02T10:16:47.038Z"
   },
   {
    "duration": 8642,
    "start_time": "2022-02-02T10:16:47.043Z"
   },
   {
    "duration": 8639,
    "start_time": "2022-02-02T10:16:47.047Z"
   },
   {
    "duration": 8635,
    "start_time": "2022-02-02T10:16:47.052Z"
   },
   {
    "duration": 8630,
    "start_time": "2022-02-02T10:16:47.057Z"
   },
   {
    "duration": 8626,
    "start_time": "2022-02-02T10:16:47.062Z"
   },
   {
    "duration": 8622,
    "start_time": "2022-02-02T10:16:47.067Z"
   },
   {
    "duration": 8608,
    "start_time": "2022-02-02T10:16:47.082Z"
   },
   {
    "duration": 8604,
    "start_time": "2022-02-02T10:16:47.087Z"
   },
   {
    "duration": 8600,
    "start_time": "2022-02-02T10:16:47.092Z"
   },
   {
    "duration": 8596,
    "start_time": "2022-02-02T10:16:47.097Z"
   },
   {
    "duration": 8593,
    "start_time": "2022-02-02T10:16:47.101Z"
   },
   {
    "duration": 8589,
    "start_time": "2022-02-02T10:16:47.106Z"
   },
   {
    "duration": 8584,
    "start_time": "2022-02-02T10:16:47.111Z"
   },
   {
    "duration": 8581,
    "start_time": "2022-02-02T10:16:47.115Z"
   },
   {
    "duration": 8578,
    "start_time": "2022-02-02T10:16:47.119Z"
   },
   {
    "duration": 8573,
    "start_time": "2022-02-02T10:16:47.125Z"
   },
   {
    "duration": 8570,
    "start_time": "2022-02-02T10:16:47.129Z"
   },
   {
    "duration": 8567,
    "start_time": "2022-02-02T10:16:47.133Z"
   },
   {
    "duration": 8563,
    "start_time": "2022-02-02T10:16:47.138Z"
   },
   {
    "duration": 8559,
    "start_time": "2022-02-02T10:16:47.143Z"
   },
   {
    "duration": 8556,
    "start_time": "2022-02-02T10:16:47.147Z"
   },
   {
    "duration": 8553,
    "start_time": "2022-02-02T10:16:47.151Z"
   },
   {
    "duration": 8549,
    "start_time": "2022-02-02T10:16:47.156Z"
   },
   {
    "duration": 8545,
    "start_time": "2022-02-02T10:16:47.161Z"
   },
   {
    "duration": 8542,
    "start_time": "2022-02-02T10:16:47.165Z"
   },
   {
    "duration": 8538,
    "start_time": "2022-02-02T10:16:47.170Z"
   },
   {
    "duration": 8534,
    "start_time": "2022-02-02T10:16:47.175Z"
   },
   {
    "duration": 8530,
    "start_time": "2022-02-02T10:16:47.180Z"
   },
   {
    "duration": 8514,
    "start_time": "2022-02-02T10:16:47.197Z"
   },
   {
    "duration": 8510,
    "start_time": "2022-02-02T10:16:47.202Z"
   },
   {
    "duration": 8506,
    "start_time": "2022-02-02T10:16:47.207Z"
   },
   {
    "duration": 8501,
    "start_time": "2022-02-02T10:16:47.212Z"
   },
   {
    "duration": 8497,
    "start_time": "2022-02-02T10:16:47.217Z"
   },
   {
    "duration": 8493,
    "start_time": "2022-02-02T10:16:47.223Z"
   },
   {
    "duration": 8472,
    "start_time": "2022-02-02T10:16:47.244Z"
   },
   {
    "duration": 86,
    "start_time": "2022-02-02T10:17:35.792Z"
   },
   {
    "duration": 304,
    "start_time": "2022-02-02T10:17:50.780Z"
   },
   {
    "duration": 1583,
    "start_time": "2022-02-02T10:18:52.750Z"
   },
   {
    "duration": 9308,
    "start_time": "2022-02-02T10:18:45.029Z"
   },
   {
    "duration": 9288,
    "start_time": "2022-02-02T10:18:45.050Z"
   },
   {
    "duration": 9279,
    "start_time": "2022-02-02T10:18:45.059Z"
   },
   {
    "duration": 9272,
    "start_time": "2022-02-02T10:18:45.067Z"
   },
   {
    "duration": 9267,
    "start_time": "2022-02-02T10:18:45.074Z"
   },
   {
    "duration": 9258,
    "start_time": "2022-02-02T10:18:45.084Z"
   },
   {
    "duration": 9249,
    "start_time": "2022-02-02T10:18:45.094Z"
   },
   {
    "duration": 9241,
    "start_time": "2022-02-02T10:18:45.102Z"
   },
   {
    "duration": 9232,
    "start_time": "2022-02-02T10:18:45.112Z"
   },
   {
    "duration": 9225,
    "start_time": "2022-02-02T10:18:45.120Z"
   },
   {
    "duration": 9216,
    "start_time": "2022-02-02T10:18:45.130Z"
   },
   {
    "duration": 9211,
    "start_time": "2022-02-02T10:18:45.136Z"
   },
   {
    "duration": 9204,
    "start_time": "2022-02-02T10:18:45.144Z"
   },
   {
    "duration": 9181,
    "start_time": "2022-02-02T10:18:45.168Z"
   },
   {
    "duration": 9174,
    "start_time": "2022-02-02T10:18:45.176Z"
   },
   {
    "duration": 9166,
    "start_time": "2022-02-02T10:18:45.185Z"
   },
   {
    "duration": 9161,
    "start_time": "2022-02-02T10:18:45.191Z"
   },
   {
    "duration": 9154,
    "start_time": "2022-02-02T10:18:45.200Z"
   },
   {
    "duration": 9146,
    "start_time": "2022-02-02T10:18:45.209Z"
   },
   {
    "duration": 9141,
    "start_time": "2022-02-02T10:18:45.216Z"
   },
   {
    "duration": 9131,
    "start_time": "2022-02-02T10:18:45.227Z"
   },
   {
    "duration": 9125,
    "start_time": "2022-02-02T10:18:45.234Z"
   },
   {
    "duration": 9119,
    "start_time": "2022-02-02T10:18:45.241Z"
   },
   {
    "duration": 9114,
    "start_time": "2022-02-02T10:18:45.247Z"
   },
   {
    "duration": 9107,
    "start_time": "2022-02-02T10:18:45.255Z"
   },
   {
    "duration": 9101,
    "start_time": "2022-02-02T10:18:45.262Z"
   },
   {
    "duration": 9080,
    "start_time": "2022-02-02T10:18:45.284Z"
   },
   {
    "duration": 9073,
    "start_time": "2022-02-02T10:18:45.292Z"
   },
   {
    "duration": 9068,
    "start_time": "2022-02-02T10:18:45.298Z"
   },
   {
    "duration": 9063,
    "start_time": "2022-02-02T10:18:45.304Z"
   },
   {
    "duration": 9056,
    "start_time": "2022-02-02T10:18:45.312Z"
   },
   {
    "duration": 9050,
    "start_time": "2022-02-02T10:18:45.319Z"
   },
   {
    "duration": 9044,
    "start_time": "2022-02-02T10:18:45.326Z"
   },
   {
    "duration": 9037,
    "start_time": "2022-02-02T10:18:45.334Z"
   },
   {
    "duration": 9028,
    "start_time": "2022-02-02T10:18:45.344Z"
   },
   {
    "duration": 9023,
    "start_time": "2022-02-02T10:18:45.350Z"
   },
   {
    "duration": 9040,
    "start_time": "2022-02-02T10:18:45.358Z"
   },
   {
    "duration": 9035,
    "start_time": "2022-02-02T10:18:45.364Z"
   },
   {
    "duration": 9028,
    "start_time": "2022-02-02T10:18:45.372Z"
   },
   {
    "duration": 9023,
    "start_time": "2022-02-02T10:18:45.378Z"
   },
   {
    "duration": 9001,
    "start_time": "2022-02-02T10:18:45.401Z"
   },
   {
    "duration": 8995,
    "start_time": "2022-02-02T10:18:45.408Z"
   },
   {
    "duration": 8989,
    "start_time": "2022-02-02T10:18:45.415Z"
   },
   {
    "duration": 8984,
    "start_time": "2022-02-02T10:18:45.421Z"
   },
   {
    "duration": 8977,
    "start_time": "2022-02-02T10:18:45.429Z"
   },
   {
    "duration": 8972,
    "start_time": "2022-02-02T10:18:45.435Z"
   },
   {
    "duration": 8965,
    "start_time": "2022-02-02T10:18:45.443Z"
   },
   {
    "duration": 8960,
    "start_time": "2022-02-02T10:18:45.449Z"
   },
   {
    "duration": 8954,
    "start_time": "2022-02-02T10:18:45.456Z"
   },
   {
    "duration": 8949,
    "start_time": "2022-02-02T10:18:45.462Z"
   },
   {
    "duration": 8942,
    "start_time": "2022-02-02T10:18:45.469Z"
   },
   {
    "duration": 8937,
    "start_time": "2022-02-02T10:18:45.475Z"
   },
   {
    "duration": 8931,
    "start_time": "2022-02-02T10:18:45.482Z"
   },
   {
    "duration": 8925,
    "start_time": "2022-02-02T10:18:45.489Z"
   },
   {
    "duration": 1765,
    "start_time": "2022-02-02T10:20:49.307Z"
   },
   {
    "duration": 9289,
    "start_time": "2022-02-02T10:20:41.787Z"
   },
   {
    "duration": 9271,
    "start_time": "2022-02-02T10:20:41.806Z"
   },
   {
    "duration": 9265,
    "start_time": "2022-02-02T10:20:41.813Z"
   },
   {
    "duration": 9260,
    "start_time": "2022-02-02T10:20:41.820Z"
   },
   {
    "duration": 9256,
    "start_time": "2022-02-02T10:20:41.825Z"
   },
   {
    "duration": 9252,
    "start_time": "2022-02-02T10:20:41.830Z"
   },
   {
    "duration": 9247,
    "start_time": "2022-02-02T10:20:41.836Z"
   },
   {
    "duration": 9243,
    "start_time": "2022-02-02T10:20:41.841Z"
   },
   {
    "duration": 9238,
    "start_time": "2022-02-02T10:20:41.847Z"
   },
   {
    "duration": 9234,
    "start_time": "2022-02-02T10:20:41.853Z"
   },
   {
    "duration": 9230,
    "start_time": "2022-02-02T10:20:41.858Z"
   },
   {
    "duration": 9226,
    "start_time": "2022-02-02T10:20:41.863Z"
   },
   {
    "duration": 9222,
    "start_time": "2022-02-02T10:20:41.868Z"
   },
   {
    "duration": 9217,
    "start_time": "2022-02-02T10:20:41.874Z"
   },
   {
    "duration": 9213,
    "start_time": "2022-02-02T10:20:41.879Z"
   },
   {
    "duration": 9208,
    "start_time": "2022-02-02T10:20:41.885Z"
   },
   {
    "duration": 9204,
    "start_time": "2022-02-02T10:20:41.890Z"
   },
   {
    "duration": 9200,
    "start_time": "2022-02-02T10:20:41.895Z"
   },
   {
    "duration": 9197,
    "start_time": "2022-02-02T10:20:41.899Z"
   },
   {
    "duration": 9181,
    "start_time": "2022-02-02T10:20:41.916Z"
   },
   {
    "duration": 9175,
    "start_time": "2022-02-02T10:20:41.923Z"
   },
   {
    "duration": 9170,
    "start_time": "2022-02-02T10:20:41.929Z"
   },
   {
    "duration": 9165,
    "start_time": "2022-02-02T10:20:41.935Z"
   },
   {
    "duration": 9160,
    "start_time": "2022-02-02T10:20:41.941Z"
   },
   {
    "duration": 9155,
    "start_time": "2022-02-02T10:20:41.946Z"
   },
   {
    "duration": 9151,
    "start_time": "2022-02-02T10:20:41.951Z"
   },
   {
    "duration": 9148,
    "start_time": "2022-02-02T10:20:41.955Z"
   },
   {
    "duration": 9144,
    "start_time": "2022-02-02T10:20:41.960Z"
   },
   {
    "duration": 9140,
    "start_time": "2022-02-02T10:20:41.965Z"
   },
   {
    "duration": 9137,
    "start_time": "2022-02-02T10:20:41.969Z"
   },
   {
    "duration": 9133,
    "start_time": "2022-02-02T10:20:41.974Z"
   },
   {
    "duration": 9130,
    "start_time": "2022-02-02T10:20:41.978Z"
   },
   {
    "duration": 9126,
    "start_time": "2022-02-02T10:20:41.983Z"
   },
   {
    "duration": 9122,
    "start_time": "2022-02-02T10:20:41.988Z"
   },
   {
    "duration": 9120,
    "start_time": "2022-02-02T10:20:41.992Z"
   },
   {
    "duration": 9116,
    "start_time": "2022-02-02T10:20:41.996Z"
   },
   {
    "duration": 9113,
    "start_time": "2022-02-02T10:20:42.001Z"
   },
   {
    "duration": 9109,
    "start_time": "2022-02-02T10:20:42.006Z"
   },
   {
    "duration": 9106,
    "start_time": "2022-02-02T10:20:42.010Z"
   },
   {
    "duration": 9092,
    "start_time": "2022-02-02T10:20:42.025Z"
   },
   {
    "duration": 9087,
    "start_time": "2022-02-02T10:20:42.031Z"
   },
   {
    "duration": 9083,
    "start_time": "2022-02-02T10:20:42.036Z"
   },
   {
    "duration": 9080,
    "start_time": "2022-02-02T10:20:42.040Z"
   },
   {
    "duration": 9075,
    "start_time": "2022-02-02T10:20:42.046Z"
   },
   {
    "duration": 9072,
    "start_time": "2022-02-02T10:20:42.050Z"
   },
   {
    "duration": 9067,
    "start_time": "2022-02-02T10:20:42.056Z"
   },
   {
    "duration": 9063,
    "start_time": "2022-02-02T10:20:42.061Z"
   },
   {
    "duration": 9059,
    "start_time": "2022-02-02T10:20:42.066Z"
   },
   {
    "duration": 9055,
    "start_time": "2022-02-02T10:20:42.071Z"
   },
   {
    "duration": 9051,
    "start_time": "2022-02-02T10:20:42.076Z"
   },
   {
    "duration": 9048,
    "start_time": "2022-02-02T10:20:42.080Z"
   },
   {
    "duration": 9043,
    "start_time": "2022-02-02T10:20:42.086Z"
   },
   {
    "duration": 9039,
    "start_time": "2022-02-02T10:20:42.091Z"
   },
   {
    "duration": 9035,
    "start_time": "2022-02-02T10:20:42.096Z"
   },
   {
    "duration": 9,
    "start_time": "2022-02-02T10:22:14.423Z"
   },
   {
    "duration": 3,
    "start_time": "2022-02-02T10:22:14.434Z"
   },
   {
    "duration": 2885,
    "start_time": "2022-02-02T10:22:14.438Z"
   },
   {
    "duration": 28,
    "start_time": "2022-02-02T10:22:17.325Z"
   },
   {
    "duration": 18,
    "start_time": "2022-02-02T10:22:17.355Z"
   },
   {
    "duration": 36,
    "start_time": "2022-02-02T10:22:17.375Z"
   },
   {
    "duration": 11,
    "start_time": "2022-02-02T10:22:17.414Z"
   },
   {
    "duration": 12,
    "start_time": "2022-02-02T10:22:17.428Z"
   },
   {
    "duration": 3,
    "start_time": "2022-02-02T10:22:17.442Z"
   },
   {
    "duration": 487,
    "start_time": "2022-02-02T10:22:17.447Z"
   },
   {
    "duration": 4,
    "start_time": "2022-02-02T10:22:17.936Z"
   },
   {
    "duration": 16,
    "start_time": "2022-02-02T10:22:17.942Z"
   },
   {
    "duration": 3,
    "start_time": "2022-02-02T10:22:17.960Z"
   },
   {
    "duration": 7,
    "start_time": "2022-02-02T10:22:17.965Z"
   },
   {
    "duration": 25,
    "start_time": "2022-02-02T10:22:17.974Z"
   },
   {
    "duration": 4,
    "start_time": "2022-02-02T10:22:18.000Z"
   },
   {
    "duration": 8,
    "start_time": "2022-02-02T10:22:18.006Z"
   },
   {
    "duration": 297,
    "start_time": "2022-02-02T10:22:18.017Z"
   },
   {
    "duration": 282,
    "start_time": "2022-02-02T10:22:18.317Z"
   },
   {
    "duration": 7,
    "start_time": "2022-02-02T10:22:18.601Z"
   },
   {
    "duration": 373,
    "start_time": "2022-02-02T10:22:18.610Z"
   },
   {
    "duration": 9306,
    "start_time": "2022-02-02T10:22:09.679Z"
   },
   {
    "duration": 9301,
    "start_time": "2022-02-02T10:22:09.685Z"
   },
   {
    "duration": 9296,
    "start_time": "2022-02-02T10:22:09.691Z"
   },
   {
    "duration": 9291,
    "start_time": "2022-02-02T10:22:09.696Z"
   },
   {
    "duration": 9287,
    "start_time": "2022-02-02T10:22:09.701Z"
   },
   {
    "duration": 9282,
    "start_time": "2022-02-02T10:22:09.707Z"
   },
   {
    "duration": 9277,
    "start_time": "2022-02-02T10:22:09.713Z"
   },
   {
    "duration": 9273,
    "start_time": "2022-02-02T10:22:09.718Z"
   },
   {
    "duration": 9270,
    "start_time": "2022-02-02T10:22:09.722Z"
   },
   {
    "duration": 9267,
    "start_time": "2022-02-02T10:22:09.726Z"
   },
   {
    "duration": 9263,
    "start_time": "2022-02-02T10:22:09.731Z"
   },
   {
    "duration": 9260,
    "start_time": "2022-02-02T10:22:09.735Z"
   },
   {
    "duration": 9257,
    "start_time": "2022-02-02T10:22:09.739Z"
   },
   {
    "duration": 9253,
    "start_time": "2022-02-02T10:22:09.744Z"
   },
   {
    "duration": 9249,
    "start_time": "2022-02-02T10:22:09.749Z"
   },
   {
    "duration": 9245,
    "start_time": "2022-02-02T10:22:09.754Z"
   },
   {
    "duration": 9242,
    "start_time": "2022-02-02T10:22:09.758Z"
   },
   {
    "duration": 9239,
    "start_time": "2022-02-02T10:22:09.762Z"
   },
   {
    "duration": 9235,
    "start_time": "2022-02-02T10:22:09.766Z"
   },
   {
    "duration": 9232,
    "start_time": "2022-02-02T10:22:09.770Z"
   },
   {
    "duration": 9217,
    "start_time": "2022-02-02T10:22:09.786Z"
   },
   {
    "duration": 9213,
    "start_time": "2022-02-02T10:22:09.791Z"
   },
   {
    "duration": 9209,
    "start_time": "2022-02-02T10:22:09.796Z"
   },
   {
    "duration": 9204,
    "start_time": "2022-02-02T10:22:09.802Z"
   },
   {
    "duration": 9200,
    "start_time": "2022-02-02T10:22:09.807Z"
   },
   {
    "duration": 9179,
    "start_time": "2022-02-02T10:22:09.828Z"
   },
   {
    "duration": 9173,
    "start_time": "2022-02-02T10:22:09.835Z"
   },
   {
    "duration": 9136,
    "start_time": "2022-02-02T10:22:09.873Z"
   },
   {
    "duration": 9130,
    "start_time": "2022-02-02T10:22:09.880Z"
   },
   {
    "duration": 9114,
    "start_time": "2022-02-02T10:22:09.897Z"
   },
   {
    "duration": 9098,
    "start_time": "2022-02-02T10:22:09.914Z"
   },
   {
    "duration": 9082,
    "start_time": "2022-02-02T10:22:09.931Z"
   },
   {
    "duration": 9075,
    "start_time": "2022-02-02T10:22:09.940Z"
   },
   {
    "duration": 9057,
    "start_time": "2022-02-02T10:22:09.959Z"
   },
   {
    "duration": 30,
    "start_time": "2022-02-02T10:23:29.926Z"
   },
   {
    "duration": 54,
    "start_time": "2022-02-02T10:25:45.337Z"
   },
   {
    "duration": 9,
    "start_time": "2022-02-02T10:26:00.066Z"
   },
   {
    "duration": 9,
    "start_time": "2022-02-02T10:26:32.357Z"
   },
   {
    "duration": 50,
    "start_time": "2022-02-02T10:26:49.996Z"
   },
   {
    "duration": 27,
    "start_time": "2022-02-02T10:27:01.188Z"
   },
   {
    "duration": 10,
    "start_time": "2022-02-02T10:27:01.727Z"
   },
   {
    "duration": 27,
    "start_time": "2022-02-02T10:27:04.626Z"
   },
   {
    "duration": 10,
    "start_time": "2022-02-02T10:27:05.236Z"
   },
   {
    "duration": 49,
    "start_time": "2022-02-02T10:27:12.636Z"
   },
   {
    "duration": 10,
    "start_time": "2022-02-02T10:27:13.736Z"
   },
   {
    "duration": 47,
    "start_time": "2022-02-02T10:27:15.847Z"
   },
   {
    "duration": 10,
    "start_time": "2022-02-02T10:27:16.376Z"
   },
   {
    "duration": 49,
    "start_time": "2022-02-02T10:27:20.176Z"
   },
   {
    "duration": 10,
    "start_time": "2022-02-02T10:27:20.366Z"
   },
   {
    "duration": 1244,
    "start_time": "2022-02-02T10:27:43.488Z"
   },
   {
    "duration": 3,
    "start_time": "2022-02-02T10:27:44.734Z"
   },
   {
    "duration": 3495,
    "start_time": "2022-02-02T10:27:44.740Z"
   },
   {
    "duration": 29,
    "start_time": "2022-02-02T10:27:48.237Z"
   },
   {
    "duration": 36,
    "start_time": "2022-02-02T10:27:48.269Z"
   },
   {
    "duration": 17,
    "start_time": "2022-02-02T10:27:48.308Z"
   },
   {
    "duration": 13,
    "start_time": "2022-02-02T10:27:48.327Z"
   },
   {
    "duration": 14,
    "start_time": "2022-02-02T10:27:48.344Z"
   },
   {
    "duration": 4,
    "start_time": "2022-02-02T10:27:48.360Z"
   },
   {
    "duration": 469,
    "start_time": "2022-02-02T10:27:48.399Z"
   },
   {
    "duration": 5,
    "start_time": "2022-02-02T10:27:48.870Z"
   },
   {
    "duration": 24,
    "start_time": "2022-02-02T10:27:48.876Z"
   },
   {
    "duration": 3,
    "start_time": "2022-02-02T10:27:48.902Z"
   },
   {
    "duration": 7,
    "start_time": "2022-02-02T10:27:48.907Z"
   },
   {
    "duration": 6,
    "start_time": "2022-02-02T10:27:48.916Z"
   },
   {
    "duration": 11,
    "start_time": "2022-02-02T10:27:48.923Z"
   },
   {
    "duration": 12,
    "start_time": "2022-02-02T10:27:48.935Z"
   },
   {
    "duration": 311,
    "start_time": "2022-02-02T10:27:48.948Z"
   },
   {
    "duration": 277,
    "start_time": "2022-02-02T10:27:49.261Z"
   },
   {
    "duration": 8,
    "start_time": "2022-02-02T10:27:49.540Z"
   },
   {
    "duration": 71,
    "start_time": "2022-02-02T10:27:49.549Z"
   },
   {
    "duration": 10,
    "start_time": "2022-02-02T10:27:49.621Z"
   },
   {
    "duration": 10,
    "start_time": "2022-02-02T10:27:49.635Z"
   },
   {
    "duration": 18,
    "start_time": "2022-02-02T10:27:49.647Z"
   },
   {
    "duration": 34,
    "start_time": "2022-02-02T10:27:49.667Z"
   },
   {
    "duration": 6,
    "start_time": "2022-02-02T10:27:49.703Z"
   },
   {
    "duration": 5,
    "start_time": "2022-02-02T10:27:49.710Z"
   },
   {
    "duration": 4503,
    "start_time": "2022-02-02T10:27:49.717Z"
   },
   {
    "duration": 21,
    "start_time": "2022-02-02T10:27:54.222Z"
   },
   {
    "duration": 20,
    "start_time": "2022-02-02T10:27:54.245Z"
   },
   {
    "duration": 45,
    "start_time": "2022-02-02T10:27:54.267Z"
   },
   {
    "duration": 2,
    "start_time": "2022-02-02T10:27:54.314Z"
   },
   {
    "duration": 30,
    "start_time": "2022-02-02T10:27:54.318Z"
   },
   {
    "duration": 2180,
    "start_time": "2022-02-02T10:27:54.350Z"
   },
   {
    "duration": 10,
    "start_time": "2022-02-02T10:27:56.532Z"
   },
   {
    "duration": 12,
    "start_time": "2022-02-02T10:27:56.544Z"
   },
   {
    "duration": 12,
    "start_time": "2022-02-02T10:27:56.558Z"
   },
   {
    "duration": 13,
    "start_time": "2022-02-02T10:27:56.599Z"
   },
   {
    "duration": 16,
    "start_time": "2022-02-02T10:27:56.615Z"
   },
   {
    "duration": 1200,
    "start_time": "2022-02-02T10:27:56.632Z"
   },
   {
    "duration": 36,
    "start_time": "2022-02-02T10:27:57.833Z"
   },
   {
    "duration": 44,
    "start_time": "2022-02-02T10:27:57.871Z"
   },
   {
    "duration": 2038,
    "start_time": "2022-02-02T10:27:57.917Z"
   },
   {
    "duration": 15,
    "start_time": "2022-02-02T10:27:59.957Z"
   },
   {
    "duration": 10,
    "start_time": "2022-02-02T10:27:59.973Z"
   },
   {
    "duration": 30,
    "start_time": "2022-02-02T10:27:59.985Z"
   },
   {
    "duration": 3,
    "start_time": "2022-02-02T10:28:00.017Z"
   },
   {
    "duration": 2155,
    "start_time": "2022-02-02T10:28:00.022Z"
   },
   {
    "duration": 37,
    "start_time": "2022-02-02T10:28:02.178Z"
   },
   {
    "duration": 10,
    "start_time": "2022-02-02T10:28:02.216Z"
   },
   {
    "duration": 3,
    "start_time": "2022-02-02T10:28:02.229Z"
   },
   {
    "duration": 6,
    "start_time": "2022-02-02T10:28:02.233Z"
   },
   {
    "duration": 5,
    "start_time": "2022-02-02T10:28:02.242Z"
   },
   {
    "duration": 393,
    "start_time": "2022-02-02T10:28:02.249Z"
   },
   {
    "duration": 9341,
    "start_time": "2022-02-02T10:27:53.303Z"
   },
   {
    "duration": 9333,
    "start_time": "2022-02-02T10:27:53.312Z"
   },
   {
    "duration": 84,
    "start_time": "2022-02-02T10:30:54.780Z"
   },
   {
    "duration": 9,
    "start_time": "2022-02-02T10:30:56.194Z"
   },
   {
    "duration": 280,
    "start_time": "2022-02-02T10:31:22.525Z"
   },
   {
    "duration": 1599,
    "start_time": "2022-02-02T11:57:42.004Z"
   },
   {
    "duration": 9838,
    "start_time": "2022-02-02T11:57:33.769Z"
   },
   {
    "duration": 9831,
    "start_time": "2022-02-02T11:57:33.777Z"
   },
   {
    "duration": 9826,
    "start_time": "2022-02-02T11:57:33.783Z"
   },
   {
    "duration": 9822,
    "start_time": "2022-02-02T11:57:33.788Z"
   },
   {
    "duration": 9815,
    "start_time": "2022-02-02T11:57:33.795Z"
   },
   {
    "duration": 9811,
    "start_time": "2022-02-02T11:57:33.800Z"
   },
   {
    "duration": 9808,
    "start_time": "2022-02-02T11:57:33.804Z"
   },
   {
    "duration": 9804,
    "start_time": "2022-02-02T11:57:33.809Z"
   },
   {
    "duration": 9801,
    "start_time": "2022-02-02T11:57:33.813Z"
   },
   {
    "duration": 9798,
    "start_time": "2022-02-02T11:57:33.817Z"
   },
   {
    "duration": 9794,
    "start_time": "2022-02-02T11:57:33.822Z"
   },
   {
    "duration": 9778,
    "start_time": "2022-02-02T11:57:33.839Z"
   },
   {
    "duration": 9773,
    "start_time": "2022-02-02T11:57:33.845Z"
   },
   {
    "duration": 9769,
    "start_time": "2022-02-02T11:57:33.850Z"
   },
   {
    "duration": 9765,
    "start_time": "2022-02-02T11:57:33.856Z"
   },
   {
    "duration": 9760,
    "start_time": "2022-02-02T11:57:33.862Z"
   },
   {
    "duration": 9756,
    "start_time": "2022-02-02T11:57:33.867Z"
   },
   {
    "duration": 9752,
    "start_time": "2022-02-02T11:57:33.873Z"
   },
   {
    "duration": 9747,
    "start_time": "2022-02-02T11:57:33.879Z"
   },
   {
    "duration": 9743,
    "start_time": "2022-02-02T11:57:33.884Z"
   },
   {
    "duration": 9739,
    "start_time": "2022-02-02T11:57:33.889Z"
   },
   {
    "duration": 9735,
    "start_time": "2022-02-02T11:57:33.894Z"
   },
   {
    "duration": 9731,
    "start_time": "2022-02-02T11:57:33.899Z"
   },
   {
    "duration": 9727,
    "start_time": "2022-02-02T11:57:33.904Z"
   },
   {
    "duration": 9724,
    "start_time": "2022-02-02T11:57:33.908Z"
   },
   {
    "duration": 9720,
    "start_time": "2022-02-02T11:57:33.913Z"
   },
   {
    "duration": 9716,
    "start_time": "2022-02-02T11:57:33.918Z"
   },
   {
    "duration": 9712,
    "start_time": "2022-02-02T11:57:33.923Z"
   },
   {
    "duration": 9692,
    "start_time": "2022-02-02T11:57:33.944Z"
   },
   {
    "duration": 9685,
    "start_time": "2022-02-02T11:57:33.952Z"
   },
   {
    "duration": 9675,
    "start_time": "2022-02-02T11:57:33.963Z"
   },
   {
    "duration": 9667,
    "start_time": "2022-02-02T11:57:33.973Z"
   },
   {
    "duration": 9661,
    "start_time": "2022-02-02T11:57:33.980Z"
   },
   {
    "duration": 9657,
    "start_time": "2022-02-02T11:57:33.985Z"
   },
   {
    "duration": 9652,
    "start_time": "2022-02-02T11:57:33.991Z"
   },
   {
    "duration": 9647,
    "start_time": "2022-02-02T11:57:33.997Z"
   },
   {
    "duration": 9694,
    "start_time": "2022-02-02T11:57:34.003Z"
   },
   {
    "duration": 9689,
    "start_time": "2022-02-02T11:57:34.010Z"
   },
   {
    "duration": 9679,
    "start_time": "2022-02-02T11:57:34.021Z"
   },
   {
    "duration": 9675,
    "start_time": "2022-02-02T11:57:34.026Z"
   },
   {
    "duration": 9670,
    "start_time": "2022-02-02T11:57:34.032Z"
   },
   {
    "duration": 9667,
    "start_time": "2022-02-02T11:57:34.036Z"
   },
   {
    "duration": 9653,
    "start_time": "2022-02-02T11:57:34.051Z"
   },
   {
    "duration": 9651,
    "start_time": "2022-02-02T11:57:34.055Z"
   },
   {
    "duration": 9644,
    "start_time": "2022-02-02T11:57:34.063Z"
   },
   {
    "duration": 9641,
    "start_time": "2022-02-02T11:57:34.067Z"
   },
   {
    "duration": 9630,
    "start_time": "2022-02-02T11:57:34.079Z"
   },
   {
    "duration": 9626,
    "start_time": "2022-02-02T11:57:34.084Z"
   },
   {
    "duration": 9621,
    "start_time": "2022-02-02T11:57:34.090Z"
   },
   {
    "duration": 9615,
    "start_time": "2022-02-02T11:57:34.097Z"
   },
   {
    "duration": 9598,
    "start_time": "2022-02-02T11:57:34.116Z"
   },
   {
    "duration": 9595,
    "start_time": "2022-02-02T11:57:34.120Z"
   },
   {
    "duration": 9583,
    "start_time": "2022-02-02T11:57:34.133Z"
   },
   {
    "duration": 9577,
    "start_time": "2022-02-02T11:57:34.140Z"
   },
   {
    "duration": 9553,
    "start_time": "2022-02-02T11:57:34.165Z"
   },
   {
    "duration": 9,
    "start_time": "2022-02-02T12:06:19.372Z"
   },
   {
    "duration": 3,
    "start_time": "2022-02-02T12:06:19.383Z"
   },
   {
    "duration": 2937,
    "start_time": "2022-02-02T12:06:19.388Z"
   },
   {
    "duration": 27,
    "start_time": "2022-02-02T12:06:22.327Z"
   },
   {
    "duration": 18,
    "start_time": "2022-02-02T12:06:22.355Z"
   },
   {
    "duration": 37,
    "start_time": "2022-02-02T12:06:22.375Z"
   },
   {
    "duration": 12,
    "start_time": "2022-02-02T12:06:22.415Z"
   },
   {
    "duration": 13,
    "start_time": "2022-02-02T12:06:22.429Z"
   },
   {
    "duration": 4,
    "start_time": "2022-02-02T12:06:22.443Z"
   },
   {
    "duration": 484,
    "start_time": "2022-02-02T12:06:22.448Z"
   },
   {
    "duration": 5,
    "start_time": "2022-02-02T12:06:22.934Z"
   },
   {
    "duration": 16,
    "start_time": "2022-02-02T12:06:22.941Z"
   },
   {
    "duration": 4,
    "start_time": "2022-02-02T12:06:22.959Z"
   },
   {
    "duration": 5,
    "start_time": "2022-02-02T12:06:22.965Z"
   },
   {
    "duration": 28,
    "start_time": "2022-02-02T12:06:22.972Z"
   },
   {
    "duration": 5,
    "start_time": "2022-02-02T12:06:23.002Z"
   },
   {
    "duration": 16,
    "start_time": "2022-02-02T12:06:23.009Z"
   },
   {
    "duration": 294,
    "start_time": "2022-02-02T12:06:23.028Z"
   },
   {
    "duration": 268,
    "start_time": "2022-02-02T12:06:23.325Z"
   },
   {
    "duration": 8,
    "start_time": "2022-02-02T12:06:23.595Z"
   },
   {
    "duration": 114,
    "start_time": "2022-02-02T12:06:23.604Z"
   },
   {
    "duration": 9,
    "start_time": "2022-02-02T12:06:23.720Z"
   },
   {
    "duration": 10,
    "start_time": "2022-02-02T12:06:23.731Z"
   },
   {
    "duration": 18,
    "start_time": "2022-02-02T12:06:23.742Z"
   },
   {
    "duration": 7,
    "start_time": "2022-02-02T12:06:23.762Z"
   },
   {
    "duration": 31,
    "start_time": "2022-02-02T12:06:23.771Z"
   },
   {
    "duration": 7,
    "start_time": "2022-02-02T12:06:23.804Z"
   },
   {
    "duration": 4540,
    "start_time": "2022-02-02T12:06:23.813Z"
   },
   {
    "duration": 24,
    "start_time": "2022-02-02T12:06:28.355Z"
   },
   {
    "duration": 37,
    "start_time": "2022-02-02T12:06:28.381Z"
   },
   {
    "duration": 24,
    "start_time": "2022-02-02T12:06:28.420Z"
   },
   {
    "duration": 3,
    "start_time": "2022-02-02T12:06:28.446Z"
   },
   {
    "duration": 65,
    "start_time": "2022-02-02T12:06:28.451Z"
   },
   {
    "duration": 2202,
    "start_time": "2022-02-02T12:06:28.518Z"
   },
   {
    "duration": 9,
    "start_time": "2022-02-02T12:06:30.722Z"
   },
   {
    "duration": 28,
    "start_time": "2022-02-02T12:06:30.733Z"
   },
   {
    "duration": 14,
    "start_time": "2022-02-02T12:06:30.762Z"
   },
   {
    "duration": 30,
    "start_time": "2022-02-02T12:06:30.778Z"
   },
   {
    "duration": 47,
    "start_time": "2022-02-02T12:06:30.810Z"
   },
   {
    "duration": 1227,
    "start_time": "2022-02-02T12:06:30.859Z"
   },
   {
    "duration": 42,
    "start_time": "2022-02-02T12:06:32.088Z"
   },
   {
    "duration": 33,
    "start_time": "2022-02-02T12:06:32.132Z"
   },
   {
    "duration": 2157,
    "start_time": "2022-02-02T12:06:32.167Z"
   },
   {
    "duration": 16,
    "start_time": "2022-02-02T12:06:34.326Z"
   },
   {
    "duration": 4,
    "start_time": "2022-02-02T12:06:34.344Z"
   },
   {
    "duration": 19,
    "start_time": "2022-02-02T12:06:34.350Z"
   },
   {
    "duration": 30,
    "start_time": "2022-02-02T12:06:34.371Z"
   },
   {
    "duration": 2128,
    "start_time": "2022-02-02T12:06:34.402Z"
   },
   {
    "duration": 26,
    "start_time": "2022-02-02T12:06:36.532Z"
   },
   {
    "duration": 9,
    "start_time": "2022-02-02T12:06:36.559Z"
   },
   {
    "duration": 3,
    "start_time": "2022-02-02T12:06:36.573Z"
   },
   {
    "duration": 7,
    "start_time": "2022-02-02T12:06:36.578Z"
   },
   {
    "duration": 5,
    "start_time": "2022-02-02T12:06:36.587Z"
   },
   {
    "duration": 258,
    "start_time": "2022-02-02T12:06:36.593Z"
   },
   {
    "duration": 9038,
    "start_time": "2022-02-02T12:06:27.815Z"
   },
   {
    "duration": 9034,
    "start_time": "2022-02-02T12:06:27.820Z"
   },
   {
    "duration": 12,
    "start_time": "2022-02-02T12:07:13.967Z"
   },
   {
    "duration": 20,
    "start_time": "2022-02-02T12:30:52.704Z"
   },
   {
    "duration": 5,
    "start_time": "2022-02-02T12:31:00.748Z"
   },
   {
    "duration": 9,
    "start_time": "2022-02-02T12:31:00.755Z"
   },
   {
    "duration": 4303,
    "start_time": "2022-02-02T12:31:00.766Z"
   },
   {
    "duration": 30,
    "start_time": "2022-02-02T12:31:05.071Z"
   },
   {
    "duration": 20,
    "start_time": "2022-02-02T12:31:05.103Z"
   },
   {
    "duration": 19,
    "start_time": "2022-02-02T12:31:05.125Z"
   },
   {
    "duration": 17,
    "start_time": "2022-02-02T12:31:05.147Z"
   },
   {
    "duration": 42,
    "start_time": "2022-02-02T12:31:05.166Z"
   },
   {
    "duration": 3,
    "start_time": "2022-02-02T12:31:05.210Z"
   },
   {
    "duration": 486,
    "start_time": "2022-02-02T12:31:05.215Z"
   },
   {
    "duration": 5,
    "start_time": "2022-02-02T12:31:05.703Z"
   },
   {
    "duration": 15,
    "start_time": "2022-02-02T12:31:05.709Z"
   },
   {
    "duration": 4,
    "start_time": "2022-02-02T12:31:05.726Z"
   },
   {
    "duration": 8,
    "start_time": "2022-02-02T12:31:05.732Z"
   },
   {
    "duration": 8,
    "start_time": "2022-02-02T12:31:05.742Z"
   },
   {
    "duration": 8,
    "start_time": "2022-02-02T12:31:05.751Z"
   },
   {
    "duration": 13,
    "start_time": "2022-02-02T12:31:05.761Z"
   },
   {
    "duration": 295,
    "start_time": "2022-02-02T12:31:05.799Z"
   },
   {
    "duration": 280,
    "start_time": "2022-02-02T12:31:06.099Z"
   },
   {
    "duration": 7,
    "start_time": "2022-02-02T12:31:06.381Z"
   },
   {
    "duration": 28,
    "start_time": "2022-02-02T12:31:06.389Z"
   },
   {
    "duration": 9,
    "start_time": "2022-02-02T12:31:06.419Z"
   },
   {
    "duration": 16,
    "start_time": "2022-02-02T12:31:06.429Z"
   },
   {
    "duration": 10,
    "start_time": "2022-02-02T12:31:06.447Z"
   },
   {
    "duration": 44,
    "start_time": "2022-02-02T12:31:06.458Z"
   },
   {
    "duration": 8,
    "start_time": "2022-02-02T12:31:06.504Z"
   },
   {
    "duration": 5,
    "start_time": "2022-02-02T12:31:06.513Z"
   },
   {
    "duration": 11,
    "start_time": "2022-02-02T12:31:06.520Z"
   },
   {
    "duration": 1254,
    "start_time": "2022-02-02T12:31:15.378Z"
   },
   {
    "duration": 3,
    "start_time": "2022-02-02T12:31:16.636Z"
   },
   {
    "duration": 6333,
    "start_time": "2022-02-02T12:31:16.641Z"
   },
   {
    "duration": 28,
    "start_time": "2022-02-02T12:31:22.975Z"
   },
   {
    "duration": 37,
    "start_time": "2022-02-02T12:31:23.005Z"
   },
   {
    "duration": 18,
    "start_time": "2022-02-02T12:31:23.044Z"
   },
   {
    "duration": 26,
    "start_time": "2022-02-02T12:31:23.065Z"
   },
   {
    "duration": 20,
    "start_time": "2022-02-02T12:31:23.093Z"
   },
   {
    "duration": 7,
    "start_time": "2022-02-02T12:31:23.115Z"
   },
   {
    "duration": 470,
    "start_time": "2022-02-02T12:31:23.124Z"
   },
   {
    "duration": 5,
    "start_time": "2022-02-02T12:31:23.595Z"
   },
   {
    "duration": 15,
    "start_time": "2022-02-02T12:31:23.601Z"
   },
   {
    "duration": 4,
    "start_time": "2022-02-02T12:31:23.617Z"
   },
   {
    "duration": 14,
    "start_time": "2022-02-02T12:31:23.622Z"
   },
   {
    "duration": 7,
    "start_time": "2022-02-02T12:31:23.638Z"
   },
   {
    "duration": 12,
    "start_time": "2022-02-02T12:31:23.647Z"
   },
   {
    "duration": 11,
    "start_time": "2022-02-02T12:31:23.660Z"
   },
   {
    "duration": 296,
    "start_time": "2022-02-02T12:31:23.672Z"
   },
   {
    "duration": 284,
    "start_time": "2022-02-02T12:31:23.970Z"
   },
   {
    "duration": 8,
    "start_time": "2022-02-02T12:31:24.256Z"
   },
   {
    "duration": 43,
    "start_time": "2022-02-02T12:31:24.266Z"
   },
   {
    "duration": 9,
    "start_time": "2022-02-02T12:31:24.313Z"
   },
   {
    "duration": 10,
    "start_time": "2022-02-02T12:31:24.324Z"
   },
   {
    "duration": 10,
    "start_time": "2022-02-02T12:31:24.336Z"
   },
   {
    "duration": 17,
    "start_time": "2022-02-02T12:31:24.347Z"
   },
   {
    "duration": 40,
    "start_time": "2022-02-02T12:31:24.366Z"
   },
   {
    "duration": 5,
    "start_time": "2022-02-02T12:31:24.408Z"
   },
   {
    "duration": 8,
    "start_time": "2022-02-02T12:31:24.415Z"
   },
   {
    "duration": 4558,
    "start_time": "2022-02-02T12:31:24.425Z"
   },
   {
    "duration": 32,
    "start_time": "2022-02-02T12:31:28.985Z"
   },
   {
    "duration": 21,
    "start_time": "2022-02-02T12:31:29.020Z"
   },
   {
    "duration": 23,
    "start_time": "2022-02-02T12:31:29.043Z"
   },
   {
    "duration": 31,
    "start_time": "2022-02-02T12:31:29.068Z"
   },
   {
    "duration": 31,
    "start_time": "2022-02-02T12:31:29.101Z"
   },
   {
    "duration": 2312,
    "start_time": "2022-02-02T12:31:29.134Z"
   },
   {
    "duration": 1141,
    "start_time": "2022-02-02T12:31:31.447Z"
   },
   {
    "duration": 9885,
    "start_time": "2022-02-02T12:31:22.706Z"
   },
   {
    "duration": 9880,
    "start_time": "2022-02-02T12:31:22.712Z"
   },
   {
    "duration": 9868,
    "start_time": "2022-02-02T12:31:22.726Z"
   },
   {
    "duration": 9861,
    "start_time": "2022-02-02T12:31:22.734Z"
   },
   {
    "duration": 9857,
    "start_time": "2022-02-02T12:31:22.740Z"
   },
   {
    "duration": 9855,
    "start_time": "2022-02-02T12:31:22.744Z"
   },
   {
    "duration": 9851,
    "start_time": "2022-02-02T12:31:22.749Z"
   },
   {
    "duration": 9846,
    "start_time": "2022-02-02T12:31:22.756Z"
   },
   {
    "duration": 9842,
    "start_time": "2022-02-02T12:31:22.761Z"
   },
   {
    "duration": 9839,
    "start_time": "2022-02-02T12:31:22.766Z"
   },
   {
    "duration": 9833,
    "start_time": "2022-02-02T12:31:22.773Z"
   },
   {
    "duration": 9830,
    "start_time": "2022-02-02T12:31:22.778Z"
   },
   {
    "duration": 9827,
    "start_time": "2022-02-02T12:31:22.783Z"
   },
   {
    "duration": 9820,
    "start_time": "2022-02-02T12:31:22.791Z"
   },
   {
    "duration": 9815,
    "start_time": "2022-02-02T12:31:22.798Z"
   },
   {
    "duration": 9807,
    "start_time": "2022-02-02T12:31:22.807Z"
   },
   {
    "duration": 9804,
    "start_time": "2022-02-02T12:31:22.812Z"
   },
   {
    "duration": 9799,
    "start_time": "2022-02-02T12:31:22.818Z"
   },
   {
    "duration": 9796,
    "start_time": "2022-02-02T12:31:22.823Z"
   },
   {
    "duration": 9785,
    "start_time": "2022-02-02T12:31:22.836Z"
   },
   {
    "duration": 9780,
    "start_time": "2022-02-02T12:31:22.842Z"
   },
   {
    "duration": 1318,
    "start_time": "2022-02-02T12:33:33.398Z"
   },
   {
    "duration": 2,
    "start_time": "2022-02-02T12:33:34.718Z"
   },
   {
    "duration": 6609,
    "start_time": "2022-02-02T12:33:34.723Z"
   },
   {
    "duration": 27,
    "start_time": "2022-02-02T12:33:41.334Z"
   },
   {
    "duration": 17,
    "start_time": "2022-02-02T12:33:41.363Z"
   },
   {
    "duration": 37,
    "start_time": "2022-02-02T12:33:41.381Z"
   },
   {
    "duration": 13,
    "start_time": "2022-02-02T12:33:41.420Z"
   },
   {
    "duration": 13,
    "start_time": "2022-02-02T12:33:41.435Z"
   },
   {
    "duration": 3,
    "start_time": "2022-02-02T12:33:41.450Z"
   },
   {
    "duration": 509,
    "start_time": "2022-02-02T12:33:41.455Z"
   },
   {
    "duration": 5,
    "start_time": "2022-02-02T12:33:41.966Z"
   },
   {
    "duration": 19,
    "start_time": "2022-02-02T12:33:41.972Z"
   },
   {
    "duration": 10,
    "start_time": "2022-02-02T12:33:41.998Z"
   },
   {
    "duration": 23,
    "start_time": "2022-02-02T12:33:42.010Z"
   },
   {
    "duration": 19,
    "start_time": "2022-02-02T12:33:42.034Z"
   },
   {
    "duration": 16,
    "start_time": "2022-02-02T12:33:42.054Z"
   },
   {
    "duration": 15,
    "start_time": "2022-02-02T12:33:42.072Z"
   },
   {
    "duration": 315,
    "start_time": "2022-02-02T12:33:42.089Z"
   },
   {
    "duration": 298,
    "start_time": "2022-02-02T12:33:42.407Z"
   },
   {
    "duration": 12,
    "start_time": "2022-02-02T12:33:42.709Z"
   },
   {
    "duration": 25,
    "start_time": "2022-02-02T12:33:42.723Z"
   },
   {
    "duration": 9,
    "start_time": "2022-02-02T12:33:42.750Z"
   },
   {
    "duration": 36,
    "start_time": "2022-02-02T12:33:42.762Z"
   },
   {
    "duration": 14,
    "start_time": "2022-02-02T12:33:42.803Z"
   },
   {
    "duration": 17,
    "start_time": "2022-02-02T12:33:42.819Z"
   },
   {
    "duration": 8,
    "start_time": "2022-02-02T12:33:42.838Z"
   },
   {
    "duration": 5,
    "start_time": "2022-02-02T12:33:42.848Z"
   },
   {
    "duration": 8,
    "start_time": "2022-02-02T12:33:42.855Z"
   },
   {
    "duration": 4779,
    "start_time": "2022-02-02T12:33:42.865Z"
   },
   {
    "duration": 21,
    "start_time": "2022-02-02T12:33:47.646Z"
   },
   {
    "duration": 40,
    "start_time": "2022-02-02T12:33:47.669Z"
   },
   {
    "duration": 24,
    "start_time": "2022-02-02T12:33:47.712Z"
   },
   {
    "duration": 3,
    "start_time": "2022-02-02T12:33:47.738Z"
   },
   {
    "duration": 61,
    "start_time": "2022-02-02T12:33:47.743Z"
   },
   {
    "duration": 2365,
    "start_time": "2022-02-02T12:33:47.807Z"
   },
   {
    "duration": 6,
    "start_time": "2022-02-02T12:33:50.174Z"
   },
   {
    "duration": 21,
    "start_time": "2022-02-02T12:33:50.182Z"
   },
   {
    "duration": 13,
    "start_time": "2022-02-02T12:33:50.206Z"
   },
   {
    "duration": 9,
    "start_time": "2022-02-02T12:33:50.221Z"
   },
   {
    "duration": 12,
    "start_time": "2022-02-02T12:33:50.232Z"
   },
   {
    "duration": 1289,
    "start_time": "2022-02-02T12:33:50.246Z"
   },
   {
    "duration": 35,
    "start_time": "2022-02-02T12:33:51.537Z"
   },
   {
    "duration": 50,
    "start_time": "2022-02-02T12:33:51.574Z"
   },
   {
    "duration": 2200,
    "start_time": "2022-02-02T12:33:51.625Z"
   },
   {
    "duration": 14,
    "start_time": "2022-02-02T12:33:53.827Z"
   },
   {
    "duration": 4,
    "start_time": "2022-02-02T12:33:53.843Z"
   },
   {
    "duration": 35,
    "start_time": "2022-02-02T12:33:53.849Z"
   },
   {
    "duration": 15,
    "start_time": "2022-02-02T12:33:53.886Z"
   },
   {
    "duration": 2243,
    "start_time": "2022-02-02T12:33:53.904Z"
   },
   {
    "duration": 26,
    "start_time": "2022-02-02T12:33:56.149Z"
   },
   {
    "duration": 31,
    "start_time": "2022-02-02T12:33:56.176Z"
   },
   {
    "duration": 5,
    "start_time": "2022-02-02T12:33:56.210Z"
   },
   {
    "duration": 11,
    "start_time": "2022-02-02T12:33:56.216Z"
   },
   {
    "duration": 6,
    "start_time": "2022-02-02T12:33:56.229Z"
   },
   {
    "duration": 378,
    "start_time": "2022-02-02T12:33:56.237Z"
   },
   {
    "duration": 9913,
    "start_time": "2022-02-02T12:33:46.704Z"
   },
   {
    "duration": 9901,
    "start_time": "2022-02-02T12:33:46.717Z"
   },
   {
    "duration": 11,
    "start_time": "2022-02-02T12:39:42.169Z"
   },
   {
    "duration": 9,
    "start_time": "2022-02-02T12:39:47.358Z"
   },
   {
    "duration": 4911,
    "start_time": "2022-02-02T12:40:04.269Z"
   },
   {
    "duration": 1279,
    "start_time": "2022-02-02T12:41:10.875Z"
   },
   {
    "duration": 3,
    "start_time": "2022-02-02T12:41:12.156Z"
   },
   {
    "duration": 3454,
    "start_time": "2022-02-02T12:41:12.161Z"
   },
   {
    "duration": 27,
    "start_time": "2022-02-02T12:41:15.617Z"
   },
   {
    "duration": 17,
    "start_time": "2022-02-02T12:41:15.646Z"
   },
   {
    "duration": 37,
    "start_time": "2022-02-02T12:41:15.665Z"
   },
   {
    "duration": 20,
    "start_time": "2022-02-02T12:41:15.705Z"
   },
   {
    "duration": 13,
    "start_time": "2022-02-02T12:41:15.727Z"
   },
   {
    "duration": 4,
    "start_time": "2022-02-02T12:41:15.742Z"
   },
   {
    "duration": 504,
    "start_time": "2022-02-02T12:41:15.748Z"
   },
   {
    "duration": 4,
    "start_time": "2022-02-02T12:41:16.254Z"
   },
   {
    "duration": 13,
    "start_time": "2022-02-02T12:41:16.260Z"
   },
   {
    "duration": 3,
    "start_time": "2022-02-02T12:41:16.275Z"
   },
   {
    "duration": 24,
    "start_time": "2022-02-02T12:41:16.280Z"
   },
   {
    "duration": 13,
    "start_time": "2022-02-02T12:41:16.307Z"
   },
   {
    "duration": 6,
    "start_time": "2022-02-02T12:41:16.322Z"
   },
   {
    "duration": 6,
    "start_time": "2022-02-02T12:41:16.330Z"
   },
   {
    "duration": 324,
    "start_time": "2022-02-02T12:41:16.338Z"
   },
   {
    "duration": 291,
    "start_time": "2022-02-02T12:41:16.664Z"
   },
   {
    "duration": 8,
    "start_time": "2022-02-02T12:41:16.957Z"
   },
   {
    "duration": 35,
    "start_time": "2022-02-02T12:41:16.967Z"
   },
   {
    "duration": 12,
    "start_time": "2022-02-02T12:41:17.004Z"
   },
   {
    "duration": 13,
    "start_time": "2022-02-02T12:41:17.021Z"
   },
   {
    "duration": 10,
    "start_time": "2022-02-02T12:41:17.036Z"
   },
   {
    "duration": 19,
    "start_time": "2022-02-02T12:41:17.048Z"
   },
   {
    "duration": 41,
    "start_time": "2022-02-02T12:41:17.069Z"
   },
   {
    "duration": 9,
    "start_time": "2022-02-02T12:41:17.113Z"
   },
   {
    "duration": 28,
    "start_time": "2022-02-02T12:41:17.124Z"
   },
   {
    "duration": 4690,
    "start_time": "2022-02-02T12:41:17.153Z"
   },
   {
    "duration": 22,
    "start_time": "2022-02-02T12:41:21.844Z"
   },
   {
    "duration": 35,
    "start_time": "2022-02-02T12:41:21.868Z"
   },
   {
    "duration": 27,
    "start_time": "2022-02-02T12:41:21.905Z"
   },
   {
    "duration": 426,
    "start_time": "2022-02-02T12:41:21.933Z"
   },
   {
    "duration": 9913,
    "start_time": "2022-02-02T12:41:12.448Z"
   },
   {
    "duration": 9909,
    "start_time": "2022-02-02T12:41:12.453Z"
   },
   {
    "duration": 9902,
    "start_time": "2022-02-02T12:41:12.460Z"
   },
   {
    "duration": 9898,
    "start_time": "2022-02-02T12:41:12.465Z"
   },
   {
    "duration": 9895,
    "start_time": "2022-02-02T12:41:12.469Z"
   },
   {
    "duration": 9890,
    "start_time": "2022-02-02T12:41:12.475Z"
   },
   {
    "duration": 9886,
    "start_time": "2022-02-02T12:41:12.480Z"
   },
   {
    "duration": 9882,
    "start_time": "2022-02-02T12:41:12.484Z"
   },
   {
    "duration": 9878,
    "start_time": "2022-02-02T12:41:12.489Z"
   },
   {
    "duration": 9875,
    "start_time": "2022-02-02T12:41:12.493Z"
   },
   {
    "duration": 9871,
    "start_time": "2022-02-02T12:41:12.498Z"
   },
   {
    "duration": 9868,
    "start_time": "2022-02-02T12:41:12.502Z"
   },
   {
    "duration": 9865,
    "start_time": "2022-02-02T12:41:12.506Z"
   },
   {
    "duration": 9859,
    "start_time": "2022-02-02T12:41:12.512Z"
   },
   {
    "duration": 9855,
    "start_time": "2022-02-02T12:41:12.517Z"
   },
   {
    "duration": 9852,
    "start_time": "2022-02-02T12:41:12.521Z"
   },
   {
    "duration": 9848,
    "start_time": "2022-02-02T12:41:12.526Z"
   },
   {
    "duration": 9844,
    "start_time": "2022-02-02T12:41:12.531Z"
   },
   {
    "duration": 9830,
    "start_time": "2022-02-02T12:41:12.546Z"
   },
   {
    "duration": 9825,
    "start_time": "2022-02-02T12:41:12.551Z"
   },
   {
    "duration": 9822,
    "start_time": "2022-02-02T12:41:12.555Z"
   },
   {
    "duration": 9814,
    "start_time": "2022-02-02T12:41:12.564Z"
   },
   {
    "duration": 9811,
    "start_time": "2022-02-02T12:41:12.568Z"
   },
   {
    "duration": 9807,
    "start_time": "2022-02-02T12:41:12.573Z"
   },
   {
    "duration": 9803,
    "start_time": "2022-02-02T12:41:12.577Z"
   },
   {
    "duration": 9798,
    "start_time": "2022-02-02T12:41:12.583Z"
   },
   {
    "duration": 9794,
    "start_time": "2022-02-02T12:41:12.588Z"
   },
   {
    "duration": 9790,
    "start_time": "2022-02-02T12:41:12.593Z"
   },
   {
    "duration": 9787,
    "start_time": "2022-02-02T12:41:12.597Z"
   },
   {
    "duration": 9783,
    "start_time": "2022-02-02T12:41:12.602Z"
   },
   {
    "duration": 9,
    "start_time": "2022-02-02T12:42:05.319Z"
   },
   {
    "duration": 4947,
    "start_time": "2022-02-02T12:42:07.075Z"
   },
   {
    "duration": 3,
    "start_time": "2022-02-02T12:42:18.232Z"
   },
   {
    "duration": 28,
    "start_time": "2022-02-02T12:42:18.842Z"
   },
   {
    "duration": 2160,
    "start_time": "2022-02-02T12:42:19.521Z"
   },
   {
    "duration": 17,
    "start_time": "2022-02-02T12:42:21.683Z"
   },
   {
    "duration": 14,
    "start_time": "2022-02-02T12:42:21.703Z"
   },
   {
    "duration": 10,
    "start_time": "2022-02-02T12:42:21.719Z"
   },
   {
    "duration": 11,
    "start_time": "2022-02-02T12:42:22.442Z"
   },
   {
    "duration": 12,
    "start_time": "2022-02-02T12:42:23.123Z"
   },
   {
    "duration": 1509,
    "start_time": "2022-02-02T12:42:23.705Z"
   },
   {
    "duration": 34,
    "start_time": "2022-02-02T12:42:26.152Z"
   },
   {
    "duration": 40,
    "start_time": "2022-02-02T12:42:27.087Z"
   },
   {
    "duration": 2225,
    "start_time": "2022-02-02T12:42:27.822Z"
   },
   {
    "duration": 14,
    "start_time": "2022-02-02T12:42:30.049Z"
   },
   {
    "duration": 3,
    "start_time": "2022-02-02T12:42:33.562Z"
   },
   {
    "duration": 17,
    "start_time": "2022-02-02T12:42:35.603Z"
   },
   {
    "duration": 5,
    "start_time": "2022-02-02T12:42:36.261Z"
   },
   {
    "duration": 2241,
    "start_time": "2022-02-02T12:42:38.911Z"
   },
   {
    "duration": 25,
    "start_time": "2022-02-02T12:42:41.155Z"
   },
   {
    "duration": 13,
    "start_time": "2022-02-02T12:42:41.391Z"
   },
   {
    "duration": 3,
    "start_time": "2022-02-02T12:42:46.922Z"
   },
   {
    "duration": 3,
    "start_time": "2022-02-02T12:42:47.961Z"
   },
   {
    "duration": 2,
    "start_time": "2022-02-02T12:42:48.532Z"
   },
   {
    "duration": 13,
    "start_time": "2022-02-02T12:42:49.782Z"
   },
   {
    "duration": 4,
    "start_time": "2022-02-02T12:42:50.721Z"
   },
   {
    "duration": 26,
    "start_time": "2022-02-02T12:42:54.993Z"
   },
   {
    "duration": 3,
    "start_time": "2022-02-02T12:43:05.032Z"
   },
   {
    "duration": 24751,
    "start_time": "2022-02-02T12:43:06.053Z"
   },
   {
    "duration": 225,
    "start_time": "2022-02-02T12:43:50.895Z"
   },
   {
    "duration": 1992,
    "start_time": "2022-02-02T12:44:27.468Z"
   },
   {
    "duration": 90,
    "start_time": "2022-02-02T12:45:43.225Z"
   },
   {
    "duration": 85,
    "start_time": "2022-02-02T13:23:10.562Z"
   },
   {
    "duration": 87,
    "start_time": "2022-02-02T13:23:22.740Z"
   },
   {
    "duration": 280,
    "start_time": "2022-02-02T13:23:59.092Z"
   },
   {
    "duration": 7,
    "start_time": "2022-02-02T13:24:07.507Z"
   },
   {
    "duration": 295,
    "start_time": "2022-02-02T13:24:08.104Z"
   },
   {
    "duration": 3783,
    "start_time": "2022-02-02T13:24:16.673Z"
   },
   {
    "duration": 3709,
    "start_time": "2022-02-02T13:26:02.932Z"
   },
   {
    "duration": 76348,
    "start_time": "2022-02-02T13:26:14.362Z"
   },
   {
    "duration": 75549,
    "start_time": "2022-02-02T13:31:53.666Z"
   },
   {
    "duration": 77905,
    "start_time": "2022-02-02T13:40:11.700Z"
   },
   {
    "duration": 1027,
    "start_time": "2022-02-02T13:50:41.075Z"
   },
   {
    "duration": 1065,
    "start_time": "2022-02-02T13:51:03.641Z"
   },
   {
    "duration": 1016,
    "start_time": "2022-02-02T13:51:16.505Z"
   },
   {
    "duration": 1021,
    "start_time": "2022-02-02T13:52:20.595Z"
   },
   {
    "duration": 1044,
    "start_time": "2022-02-02T13:54:38.062Z"
   },
   {
    "duration": 1047,
    "start_time": "2022-02-02T13:54:57.793Z"
   },
   {
    "duration": 987,
    "start_time": "2022-02-02T13:56:11.353Z"
   },
   {
    "duration": 4,
    "start_time": "2022-02-02T13:57:27.723Z"
   },
   {
    "duration": 3,
    "start_time": "2022-02-02T13:57:28.694Z"
   },
   {
    "duration": 3,
    "start_time": "2022-02-02T13:57:29.173Z"
   },
   {
    "duration": 14,
    "start_time": "2022-02-02T13:57:30.133Z"
   },
   {
    "duration": 5,
    "start_time": "2022-02-02T13:57:30.652Z"
   },
   {
    "duration": 20,
    "start_time": "2022-02-02T13:57:31.713Z"
   },
   {
    "duration": 4,
    "start_time": "2022-02-02T13:57:32.722Z"
   },
   {
    "duration": 76435,
    "start_time": "2022-02-02T13:57:34.773Z"
   },
   {
    "duration": 19312,
    "start_time": "2022-02-02T13:58:51.210Z"
   },
   {
    "duration": 8,
    "start_time": "2022-02-02T14:12:09.237Z"
   },
   {
    "duration": 19571,
    "start_time": "2022-02-02T14:15:28.843Z"
   },
   {
    "duration": 1373,
    "start_time": "2022-02-02T14:16:03.572Z"
   },
   {
    "duration": 3,
    "start_time": "2022-02-02T14:16:04.947Z"
   },
   {
    "duration": 3308,
    "start_time": "2022-02-02T14:16:04.954Z"
   },
   {
    "duration": 40,
    "start_time": "2022-02-02T14:16:08.264Z"
   },
   {
    "duration": 20,
    "start_time": "2022-02-02T14:16:08.306Z"
   },
   {
    "duration": 23,
    "start_time": "2022-02-02T14:16:08.328Z"
   },
   {
    "duration": 17,
    "start_time": "2022-02-02T14:16:08.353Z"
   },
   {
    "duration": 36,
    "start_time": "2022-02-02T14:16:08.374Z"
   },
   {
    "duration": 6,
    "start_time": "2022-02-02T14:16:08.413Z"
   },
   {
    "duration": 496,
    "start_time": "2022-02-02T14:16:08.420Z"
   },
   {
    "duration": 7,
    "start_time": "2022-02-02T14:16:08.918Z"
   },
   {
    "duration": 30,
    "start_time": "2022-02-02T14:16:08.927Z"
   },
   {
    "duration": 8,
    "start_time": "2022-02-02T14:16:08.958Z"
   },
   {
    "duration": 21,
    "start_time": "2022-02-02T14:16:08.968Z"
   },
   {
    "duration": 24,
    "start_time": "2022-02-02T14:16:08.991Z"
   },
   {
    "duration": 26,
    "start_time": "2022-02-02T14:16:09.017Z"
   },
   {
    "duration": 22,
    "start_time": "2022-02-02T14:16:09.045Z"
   },
   {
    "duration": 316,
    "start_time": "2022-02-02T14:16:09.069Z"
   },
   {
    "duration": 292,
    "start_time": "2022-02-02T14:16:09.386Z"
   },
   {
    "duration": 8,
    "start_time": "2022-02-02T14:16:09.679Z"
   },
   {
    "duration": 33,
    "start_time": "2022-02-02T14:16:09.688Z"
   },
   {
    "duration": 10,
    "start_time": "2022-02-02T14:16:09.723Z"
   },
   {
    "duration": 3,
    "start_time": "2022-02-02T14:16:09.737Z"
   },
   {
    "duration": 4773,
    "start_time": "2022-02-02T14:16:09.742Z"
   },
   {
    "duration": 28,
    "start_time": "2022-02-02T14:16:14.517Z"
   },
   {
    "duration": 27,
    "start_time": "2022-02-02T14:16:14.547Z"
   },
   {
    "duration": 46,
    "start_time": "2022-02-02T14:16:14.576Z"
   },
   {
    "duration": 8,
    "start_time": "2022-02-02T14:16:14.624Z"
   },
   {
    "duration": 5769,
    "start_time": "2022-02-02T14:16:14.634Z"
   },
   {
    "duration": 10,
    "start_time": "2022-02-02T14:16:20.406Z"
   },
   {
    "duration": 52,
    "start_time": "2022-02-02T14:16:20.418Z"
   },
   {
    "duration": 2132,
    "start_time": "2022-02-02T14:16:20.501Z"
   },
   {
    "duration": 7,
    "start_time": "2022-02-02T14:16:22.635Z"
   },
   {
    "duration": 10,
    "start_time": "2022-02-02T14:16:22.644Z"
   },
   {
    "duration": 9,
    "start_time": "2022-02-02T14:16:22.656Z"
   },
   {
    "duration": 48,
    "start_time": "2022-02-02T14:16:22.667Z"
   },
   {
    "duration": 15,
    "start_time": "2022-02-02T14:16:22.717Z"
   },
   {
    "duration": 1821,
    "start_time": "2022-02-02T14:16:22.734Z"
   },
   {
    "duration": 60,
    "start_time": "2022-02-02T14:16:24.557Z"
   },
   {
    "duration": 31,
    "start_time": "2022-02-02T14:16:24.619Z"
   },
   {
    "duration": 2684,
    "start_time": "2022-02-02T14:16:24.652Z"
   },
   {
    "duration": 16,
    "start_time": "2022-02-02T14:16:27.338Z"
   },
   {
    "duration": 3,
    "start_time": "2022-02-02T14:16:27.356Z"
   },
   {
    "duration": 40,
    "start_time": "2022-02-02T14:16:27.362Z"
   },
   {
    "duration": 7,
    "start_time": "2022-02-02T14:16:27.404Z"
   },
   {
    "duration": 13,
    "start_time": "2022-02-02T14:16:27.415Z"
   },
   {
    "duration": 4,
    "start_time": "2022-02-02T14:16:27.430Z"
   },
   {
    "duration": 6,
    "start_time": "2022-02-02T14:16:27.436Z"
   },
   {
    "duration": 6,
    "start_time": "2022-02-02T14:16:27.444Z"
   },
   {
    "duration": 18,
    "start_time": "2022-02-02T14:16:27.452Z"
   },
   {
    "duration": 45,
    "start_time": "2022-02-02T14:16:27.471Z"
   },
   {
    "duration": 3,
    "start_time": "2022-02-02T14:16:27.518Z"
   },
   {
    "duration": 90389,
    "start_time": "2022-02-02T14:16:27.523Z"
   },
   {
    "duration": 23190,
    "start_time": "2022-02-02T14:17:57.919Z"
   },
   {
    "duration": 22381,
    "start_time": "2022-02-02T14:20:31.226Z"
   },
   {
    "duration": 431,
    "start_time": "2022-02-02T14:26:07.890Z"
   },
   {
    "duration": 298,
    "start_time": "2022-02-02T14:26:21.616Z"
   },
   {
    "duration": 6,
    "start_time": "2022-02-02T14:26:51.013Z"
   },
   {
    "duration": 8,
    "start_time": "2022-02-02T14:26:51.914Z"
   },
   {
    "duration": 23502,
    "start_time": "2022-02-02T14:26:55.402Z"
   },
   {
    "duration": 86179,
    "start_time": "2022-02-02T14:30:17.433Z"
   },
   {
    "duration": 8,
    "start_time": "2022-02-02T14:32:58.934Z"
   },
   {
    "duration": 1293,
    "start_time": "2022-02-02T14:38:54.637Z"
   },
   {
    "duration": 4,
    "start_time": "2022-02-02T14:38:55.932Z"
   },
   {
    "duration": 5135,
    "start_time": "2022-02-02T14:38:55.939Z"
   },
   {
    "duration": 40,
    "start_time": "2022-02-02T14:39:01.076Z"
   },
   {
    "duration": 49,
    "start_time": "2022-02-02T14:39:01.120Z"
   },
   {
    "duration": 36,
    "start_time": "2022-02-02T14:39:01.172Z"
   },
   {
    "duration": 19,
    "start_time": "2022-02-02T14:39:01.210Z"
   },
   {
    "duration": 33,
    "start_time": "2022-02-02T14:39:01.233Z"
   },
   {
    "duration": 6,
    "start_time": "2022-02-02T14:39:01.269Z"
   },
   {
    "duration": 587,
    "start_time": "2022-02-02T14:39:01.277Z"
   },
   {
    "duration": 6,
    "start_time": "2022-02-02T14:39:01.866Z"
   },
   {
    "duration": 62,
    "start_time": "2022-02-02T14:39:01.874Z"
   },
   {
    "duration": 18,
    "start_time": "2022-02-02T14:39:01.939Z"
   },
   {
    "duration": 26,
    "start_time": "2022-02-02T14:39:01.959Z"
   },
   {
    "duration": 21,
    "start_time": "2022-02-02T14:39:01.987Z"
   },
   {
    "duration": 41,
    "start_time": "2022-02-02T14:39:02.010Z"
   },
   {
    "duration": 43,
    "start_time": "2022-02-02T14:39:02.053Z"
   },
   {
    "duration": 380,
    "start_time": "2022-02-02T14:39:02.098Z"
   },
   {
    "duration": 322,
    "start_time": "2022-02-02T14:39:02.480Z"
   },
   {
    "duration": 15,
    "start_time": "2022-02-02T14:39:02.804Z"
   },
   {
    "duration": 92,
    "start_time": "2022-02-02T14:39:02.822Z"
   },
   {
    "duration": 17,
    "start_time": "2022-02-02T14:39:02.917Z"
   },
   {
    "duration": 17,
    "start_time": "2022-02-02T14:39:02.941Z"
   },
   {
    "duration": 5155,
    "start_time": "2022-02-02T14:39:02.961Z"
   },
   {
    "duration": 24,
    "start_time": "2022-02-02T14:39:08.119Z"
   },
   {
    "duration": 23,
    "start_time": "2022-02-02T14:39:08.146Z"
   },
   {
    "duration": 52,
    "start_time": "2022-02-02T14:39:08.171Z"
   },
   {
    "duration": 22,
    "start_time": "2022-02-02T14:39:08.225Z"
   },
   {
    "duration": 5492,
    "start_time": "2022-02-02T14:39:08.249Z"
   },
   {
    "duration": 4,
    "start_time": "2022-02-02T14:39:13.744Z"
   },
   {
    "duration": 54,
    "start_time": "2022-02-02T14:39:13.750Z"
   },
   {
    "duration": 2203,
    "start_time": "2022-02-02T14:39:13.806Z"
   },
   {
    "duration": 10,
    "start_time": "2022-02-02T14:39:16.011Z"
   },
   {
    "duration": 18,
    "start_time": "2022-02-02T14:39:16.023Z"
   },
   {
    "duration": 18,
    "start_time": "2022-02-02T14:39:16.044Z"
   },
   {
    "duration": 44,
    "start_time": "2022-02-02T14:39:16.065Z"
   },
   {
    "duration": 26,
    "start_time": "2022-02-02T14:39:16.111Z"
   },
   {
    "duration": 1550,
    "start_time": "2022-02-02T14:39:16.140Z"
   },
   {
    "duration": 39,
    "start_time": "2022-02-02T14:39:17.693Z"
   },
   {
    "duration": 32,
    "start_time": "2022-02-02T14:39:17.734Z"
   },
   {
    "duration": 2338,
    "start_time": "2022-02-02T14:39:17.768Z"
   },
   {
    "duration": 18,
    "start_time": "2022-02-02T14:39:20.108Z"
   },
   {
    "duration": 3,
    "start_time": "2022-02-02T14:39:20.128Z"
   },
   {
    "duration": 16,
    "start_time": "2022-02-02T14:39:20.134Z"
   },
   {
    "duration": 3,
    "start_time": "2022-02-02T14:39:20.153Z"
   },
   {
    "duration": 17,
    "start_time": "2022-02-02T14:39:20.206Z"
   },
   {
    "duration": 18,
    "start_time": "2022-02-02T14:39:20.226Z"
   },
   {
    "duration": 6,
    "start_time": "2022-02-02T14:39:20.247Z"
   },
   {
    "duration": 7,
    "start_time": "2022-02-02T14:39:20.255Z"
   },
   {
    "duration": 22,
    "start_time": "2022-02-02T14:39:20.264Z"
   },
   {
    "duration": 50,
    "start_time": "2022-02-02T14:39:20.288Z"
   },
   {
    "duration": 3,
    "start_time": "2022-02-02T14:39:20.340Z"
   },
   {
    "duration": 88555,
    "start_time": "2022-02-02T14:39:20.345Z"
   },
   {
    "duration": 12146,
    "start_time": "2022-02-02T14:40:48.902Z"
   },
   {
    "duration": 5,
    "start_time": "2022-02-02T14:41:01.050Z"
   },
   {
    "duration": 27,
    "start_time": "2022-02-02T14:41:01.056Z"
   },
   {
    "duration": 42866,
    "start_time": "2022-02-02T14:41:03.849Z"
   },
   {
    "duration": 22710,
    "start_time": "2022-02-02T14:41:46.718Z"
   },
   {
    "duration": 5,
    "start_time": "2022-02-02T14:42:09.431Z"
   },
   {
    "duration": 8,
    "start_time": "2022-02-02T14:42:09.504Z"
   },
   {
    "duration": 1264,
    "start_time": "2022-02-02T15:02:18.728Z"
   },
   {
    "duration": 4,
    "start_time": "2022-02-02T15:02:19.994Z"
   },
   {
    "duration": 3852,
    "start_time": "2022-02-02T15:02:20.002Z"
   },
   {
    "duration": 28,
    "start_time": "2022-02-02T15:02:23.856Z"
   },
   {
    "duration": 28,
    "start_time": "2022-02-02T15:02:23.886Z"
   },
   {
    "duration": 20,
    "start_time": "2022-02-02T15:02:23.916Z"
   },
   {
    "duration": 39,
    "start_time": "2022-02-02T15:02:23.938Z"
   },
   {
    "duration": 15,
    "start_time": "2022-02-02T15:02:23.980Z"
   },
   {
    "duration": 27,
    "start_time": "2022-02-02T15:02:23.998Z"
   },
   {
    "duration": 513,
    "start_time": "2022-02-02T15:02:24.026Z"
   },
   {
    "duration": 5,
    "start_time": "2022-02-02T15:02:24.540Z"
   },
   {
    "duration": 22,
    "start_time": "2022-02-02T15:02:24.547Z"
   },
   {
    "duration": 21,
    "start_time": "2022-02-02T15:02:24.571Z"
   },
   {
    "duration": 18,
    "start_time": "2022-02-02T15:02:24.593Z"
   },
   {
    "duration": 37,
    "start_time": "2022-02-02T15:02:24.613Z"
   },
   {
    "duration": 27,
    "start_time": "2022-02-02T15:02:24.652Z"
   },
   {
    "duration": 24,
    "start_time": "2022-02-02T15:02:24.681Z"
   },
   {
    "duration": 320,
    "start_time": "2022-02-02T15:02:24.707Z"
   },
   {
    "duration": 286,
    "start_time": "2022-02-02T15:02:25.029Z"
   },
   {
    "duration": 9,
    "start_time": "2022-02-02T15:02:25.317Z"
   },
   {
    "duration": 24,
    "start_time": "2022-02-02T15:02:25.328Z"
   },
   {
    "duration": 10,
    "start_time": "2022-02-02T15:02:25.354Z"
   },
   {
    "duration": 5,
    "start_time": "2022-02-02T15:02:25.368Z"
   },
   {
    "duration": 4541,
    "start_time": "2022-02-02T15:02:25.400Z"
   },
   {
    "duration": 23,
    "start_time": "2022-02-02T15:02:29.943Z"
   },
   {
    "duration": 44,
    "start_time": "2022-02-02T15:02:29.968Z"
   },
   {
    "duration": 24,
    "start_time": "2022-02-02T15:02:30.014Z"
   },
   {
    "duration": 9,
    "start_time": "2022-02-02T15:02:30.039Z"
   },
   {
    "duration": 4843,
    "start_time": "2022-02-02T15:02:30.050Z"
   },
   {
    "duration": 5,
    "start_time": "2022-02-02T15:02:34.894Z"
   },
   {
    "duration": 33,
    "start_time": "2022-02-02T15:02:34.900Z"
   },
   {
    "duration": 2173,
    "start_time": "2022-02-02T15:02:34.934Z"
   },
   {
    "duration": 7,
    "start_time": "2022-02-02T15:02:37.109Z"
   },
   {
    "duration": 25,
    "start_time": "2022-02-02T15:02:37.118Z"
   },
   {
    "duration": 10,
    "start_time": "2022-02-02T15:02:37.145Z"
   },
   {
    "duration": 10,
    "start_time": "2022-02-02T15:02:37.157Z"
   },
   {
    "duration": 39,
    "start_time": "2022-02-02T15:02:37.169Z"
   },
   {
    "duration": 1459,
    "start_time": "2022-02-02T15:02:37.210Z"
   },
   {
    "duration": 41,
    "start_time": "2022-02-02T15:02:38.671Z"
   },
   {
    "duration": 29,
    "start_time": "2022-02-02T15:02:38.714Z"
   },
   {
    "duration": 2135,
    "start_time": "2022-02-02T15:02:38.745Z"
   },
   {
    "duration": 21,
    "start_time": "2022-02-02T15:02:40.882Z"
   },
   {
    "duration": 8,
    "start_time": "2022-02-02T15:02:40.905Z"
   },
   {
    "duration": 27,
    "start_time": "2022-02-02T15:02:40.915Z"
   },
   {
    "duration": 18,
    "start_time": "2022-02-02T15:02:40.944Z"
   },
   {
    "duration": 33,
    "start_time": "2022-02-02T15:02:40.963Z"
   },
   {
    "duration": 15,
    "start_time": "2022-02-02T15:02:40.998Z"
   },
   {
    "duration": 22,
    "start_time": "2022-02-02T15:02:41.015Z"
   },
   {
    "duration": 18,
    "start_time": "2022-02-02T15:02:41.039Z"
   },
   {
    "duration": 31,
    "start_time": "2022-02-02T15:02:41.059Z"
   },
   {
    "duration": 32,
    "start_time": "2022-02-02T15:02:41.092Z"
   },
   {
    "duration": 5,
    "start_time": "2022-02-02T15:02:41.126Z"
   },
   {
    "duration": 38975,
    "start_time": "2022-02-02T15:02:41.133Z"
   },
   {
    "duration": 20594,
    "start_time": "2022-02-02T15:03:20.110Z"
   },
   {
    "duration": 93,
    "start_time": "2022-02-02T15:03:40.706Z"
   },
   {
    "duration": 18,
    "start_time": "2022-02-02T15:03:40.801Z"
   }
  ],
  "kernelspec": {
   "display_name": "Python 3",
   "language": "python",
   "name": "python3"
  },
  "language_info": {
   "codemirror_mode": {
    "name": "ipython",
    "version": 3
   },
   "file_extension": ".py",
   "mimetype": "text/x-python",
   "name": "python",
   "nbconvert_exporter": "python",
   "pygments_lexer": "ipython3",
   "version": "3.8.8"
  },
  "toc": {
   "base_numbering": 1,
   "nav_menu": {},
   "number_sections": true,
   "sideBar": true,
   "skip_h1_title": true,
   "title_cell": "Содержание",
   "title_sidebar": "Contents",
   "toc_cell": true,
   "toc_position": {
    "height": "calc(100% - 180px)",
    "left": "10px",
    "top": "150px",
    "width": "165px"
   },
   "toc_section_display": true,
   "toc_window_display": false
  }
 },
 "nbformat": 4,
 "nbformat_minor": 2
}
