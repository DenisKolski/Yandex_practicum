{
 "cells": [
  {
   "cell_type": "markdown",
   "metadata": {
    "toc": true
   },
   "source": [
    "<h1>Содержание<span class=\"tocSkip\"></span></h1>\n",
    "<div class=\"toc\"><ul class=\"toc-item\"><li><span><a href=\"#Подготовка\" data-toc-modified-id=\"Подготовка-1\"><span class=\"toc-item-num\">1&nbsp;&nbsp;</span>Подготовка</a></span></li><li><span><a href=\"#Анализ\" data-toc-modified-id=\"Анализ-2\"><span class=\"toc-item-num\">2&nbsp;&nbsp;</span>Анализ</a></span></li><li><span><a href=\"#Обучение\" data-toc-modified-id=\"Обучение-3\"><span class=\"toc-item-num\">3&nbsp;&nbsp;</span>Обучение</a></span><ul class=\"toc-item\"><li><span><a href=\"#LGBM-Regressor\" data-toc-modified-id=\"LGBM-Regressor-3.1\"><span class=\"toc-item-num\">3.1&nbsp;&nbsp;</span>LGBM Regressor</a></span></li><li><span><a href=\"#Gradient-Boosting-Regressor\" data-toc-modified-id=\"Gradient-Boosting-Regressor-3.2\"><span class=\"toc-item-num\">3.2&nbsp;&nbsp;</span>Gradient Boosting Regressor</a></span></li><li><span><a href=\"#CatBoost-Regressor\" data-toc-modified-id=\"CatBoost-Regressor-3.3\"><span class=\"toc-item-num\">3.3&nbsp;&nbsp;</span>CatBoost Regressor</a></span></li></ul></li><li><span><a href=\"#Тестирование\" data-toc-modified-id=\"Тестирование-4\"><span class=\"toc-item-num\">4&nbsp;&nbsp;</span>Тестирование</a></span></li><li><span><a href=\"#Общий-вывод\" data-toc-modified-id=\"Общий-вывод-5\"><span class=\"toc-item-num\">5&nbsp;&nbsp;</span>Общий вывод</a></span></li><li><span><a href=\"#Чек-лист-проверки\" data-toc-modified-id=\"Чек-лист-проверки-6\"><span class=\"toc-item-num\">6&nbsp;&nbsp;</span>Чек-лист проверки</a></span></li></ul></div>"
   ]
  },
  {
   "cell_type": "markdown",
   "metadata": {},
   "source": [
    "#  Прогнозирование заказов такси"
   ]
  },
  {
   "cell_type": "markdown",
   "metadata": {},
   "source": [
    "Компания «Чётенькое такси» собрала исторические данные о заказах такси в аэропортах. Чтобы привлекать больше водителей в период пиковой нагрузки, нужно спрогнозировать количество заказов такси на следующий час. Постройте модель для такого предсказания.\n",
    "\n",
    "Значение метрики *RMSE* на тестовой выборке должно быть не больше 48.\n",
    "\n",
    "Вам нужно:\n",
    "\n",
    "1. Загрузить данные и выполнить их ресемплирование по одному часу.\n",
    "2. Проанализировать данные.\n",
    "3. Обучить разные модели с различными гиперпараметрами. Сделать тестовую выборку размером 10% от исходных данных.\n",
    "4. Проверить данные на тестовой выборке и сделать выводы.\n",
    "\n",
    "\n",
    "Данные лежат в файле `taxi.csv`. Количество заказов находится в столбце `num_orders` (от англ. *number of orders*, «число заказов»)."
   ]
  },
  {
   "cell_type": "markdown",
   "metadata": {},
   "source": [
    "## Подготовка"
   ]
  },
  {
   "cell_type": "code",
   "execution_count": 1,
   "metadata": {},
   "outputs": [],
   "source": [
    "import pandas as pd\n",
    "import numpy as np\n",
    "import matplotlib.pyplot as plt\n",
    "import seaborn as sns\n",
    "from statsmodels.tsa.seasonal import seasonal_decompose\n",
    "from sklearn.model_selection import train_test_split, GridSearchCV, RandomizedSearchCV\n",
    "from sklearn.metrics import mean_squared_error\n",
    "import warnings\n",
    "warnings.filterwarnings('ignore')\n",
    "import lightgbm as lgb\n",
    "from sklearn.ensemble import GradientBoostingRegressor\n",
    "from catboost import CatBoostRegressor\n",
    "from tqdm.auto import tqdm\n",
    "\n",
    "\n",
    "#%matplotlib inline"
   ]
  },
  {
   "cell_type": "code",
   "execution_count": 2,
   "metadata": {},
   "outputs": [],
   "source": [
    "RND = 12345"
   ]
  },
  {
   "cell_type": "code",
   "execution_count": 3,
   "metadata": {},
   "outputs": [],
   "source": [
    "df = pd.read_csv('taxi.csv', \n",
    "                 index_col='datetime', parse_dates=[0])"
   ]
  },
  {
   "cell_type": "code",
   "execution_count": 4,
   "metadata": {},
   "outputs": [
    {
     "data": {
      "text/html": [
       "<div>\n",
       "<style scoped>\n",
       "    .dataframe tbody tr th:only-of-type {\n",
       "        vertical-align: middle;\n",
       "    }\n",
       "\n",
       "    .dataframe tbody tr th {\n",
       "        vertical-align: top;\n",
       "    }\n",
       "\n",
       "    .dataframe thead th {\n",
       "        text-align: right;\n",
       "    }\n",
       "</style>\n",
       "<table border=\"1\" class=\"dataframe\">\n",
       "  <thead>\n",
       "    <tr style=\"text-align: right;\">\n",
       "      <th></th>\n",
       "      <th>num_orders</th>\n",
       "    </tr>\n",
       "    <tr>\n",
       "      <th>datetime</th>\n",
       "      <th></th>\n",
       "    </tr>\n",
       "  </thead>\n",
       "  <tbody>\n",
       "    <tr>\n",
       "      <th>2018-04-19 14:30:00</th>\n",
       "      <td>8</td>\n",
       "    </tr>\n",
       "    <tr>\n",
       "      <th>2018-06-30 18:50:00</th>\n",
       "      <td>9</td>\n",
       "    </tr>\n",
       "    <tr>\n",
       "      <th>2018-04-19 12:10:00</th>\n",
       "      <td>10</td>\n",
       "    </tr>\n",
       "    <tr>\n",
       "      <th>2018-06-08 17:00:00</th>\n",
       "      <td>11</td>\n",
       "    </tr>\n",
       "    <tr>\n",
       "      <th>2018-06-04 10:50:00</th>\n",
       "      <td>27</td>\n",
       "    </tr>\n",
       "  </tbody>\n",
       "</table>\n",
       "</div>"
      ],
      "text/plain": [
       "                     num_orders\n",
       "datetime                       \n",
       "2018-04-19 14:30:00           8\n",
       "2018-06-30 18:50:00           9\n",
       "2018-04-19 12:10:00          10\n",
       "2018-06-08 17:00:00          11\n",
       "2018-06-04 10:50:00          27"
      ]
     },
     "execution_count": 4,
     "metadata": {},
     "output_type": "execute_result"
    }
   ],
   "source": [
    "df.sample(n=5)"
   ]
  },
  {
   "cell_type": "code",
   "execution_count": 5,
   "metadata": {},
   "outputs": [
    {
     "data": {
      "text/plain": [
       "True"
      ]
     },
     "execution_count": 5,
     "metadata": {},
     "output_type": "execute_result"
    }
   ],
   "source": [
    "df.index.is_monotonic"
   ]
  },
  {
   "cell_type": "code",
   "execution_count": 6,
   "metadata": {},
   "outputs": [
    {
     "name": "stdout",
     "output_type": "stream",
     "text": [
      "<class 'pandas.core.frame.DataFrame'>\n",
      "DatetimeIndex: 26496 entries, 2018-03-01 00:00:00 to 2018-08-31 23:50:00\n",
      "Data columns (total 1 columns):\n",
      " #   Column      Non-Null Count  Dtype\n",
      "---  ------      --------------  -----\n",
      " 0   num_orders  26496 non-null  int64\n",
      "dtypes: int64(1)\n",
      "memory usage: 414.0 KB\n"
     ]
    }
   ],
   "source": [
    "df.info()"
   ]
  },
  {
   "cell_type": "markdown",
   "metadata": {},
   "source": [
    "## Анализ"
   ]
  },
  {
   "cell_type": "code",
   "execution_count": 7,
   "metadata": {},
   "outputs": [],
   "source": [
    "df = df.sort_index()\n",
    "df_day = df.resample('1D').sum() # Создадим для провередения анализа дополнительный датасет\n",
    "df = df.resample('1H').sum() #Ресемплирование данных по одному часу\n"
   ]
  },
  {
   "cell_type": "markdown",
   "metadata": {},
   "source": [
    "Цель задания - прогнозирование количества заказов такси на следующий час на основе моделей машинного обучения. Разложим данные на три составляющие: тренд, сезонность и остаток. Построим графики последнего месяца временного ряда и проанализируем данные."
   ]
  },
  {
   "cell_type": "markdown",
   "metadata": {},
   "source": [
    "__Анализ временного ряда при суммировании за один час__"
   ]
  },
  {
   "cell_type": "code",
   "execution_count": 8,
   "metadata": {},
   "outputs": [
    {
     "data": {
      "image/png": "[encoded data removed]",
      "text/plain": [
       "<Figure size 864x864 with 3 Axes>"
      ]
     },
     "metadata": {},
     "output_type": "display_data"
    }
   ],
   "source": [
    "plt.style.use('ggplot')\n",
    "decomposed = seasonal_decompose(df)\n",
    "plt.figure(figsize=(12, 12))\n",
    "plt.subplot(311)\n",
    "\n",
    "decomposed.trend.plot(ax=plt.gca())\n",
    "plt.title('Trend')\n",
    "plt.subplot(312)\n",
    "decomposed.seasonal['2018-08-01':'2018-08-03'].plot(ax=plt.gca())\n",
    "\n",
    "plt.title('Seasonality')\n",
    "plt.subplot(313)\n",
    "decomposed.resid['2018-07-01':'2018-08-15'].plot(ax=plt.gca())\n",
    "\n",
    "plt.title('Residuals')\n",
    "plt.tight_layout()"
   ]
  },
  {
   "cell_type": "markdown",
   "metadata": {},
   "source": [
    "Анализ графиков позволяет сделать следующие выводы:\n",
    "- линия тренда имеет тенденцию к возрастанию числа заказов, причем особенно значительный рост наблюдается в августе, что визуально напоминает квадратичную линию тренда;\n",
    "- сезонность в течение суток имеет явный повторяющийся характер. Необычно, но максимум суточной активности приходится на полночь, также имеется утренние и вечерние пики. Наибольший спад заказов ночью, что ожидаемо. \n",
    "- остаток декомпозиции имеет редкие, но значительные всплески активности."
   ]
  },
  {
   "cell_type": "markdown",
   "metadata": {},
   "source": [
    "__Анализ временного ряда при суммировании за один день__"
   ]
  },
  {
   "cell_type": "code",
   "execution_count": 9,
   "metadata": {},
   "outputs": [
    {
     "data": {
      "image/png": "[encoded data removed]",
      "text/plain": [
       "<Figure size 864x864 with 3 Axes>"
      ]
     },
     "metadata": {},
     "output_type": "display_data"
    }
   ],
   "source": [
    "plt.style.use('ggplot')\n",
    "decomposed = seasonal_decompose(df_day)\n",
    "plt.figure(figsize=(12, 12))\n",
    "plt.subplot(311)\n",
    "\n",
    "decomposed.trend.plot(ax=plt.gca())\n",
    "plt.title('Trend')\n",
    "plt.subplot(312)\n",
    "decomposed.seasonal['2018-08-01':].plot(ax=plt.gca())\n",
    "\n",
    "plt.title('Seasonality')\n",
    "plt.subplot(313)\n",
    "decomposed.resid['2018-03-01':].plot(ax=plt.gca())\n",
    "\n",
    "plt.title('Residuals')\n",
    "plt.tight_layout()"
   ]
  },
  {
   "cell_type": "markdown",
   "metadata": {},
   "source": [
    "Из анализа графиков при усреднении за один день можно сделать следующие выводы:\n",
    "•\tна линии тренда более четка видна нелинейность зависимости, поэтому можно сразу отбросить линейную регрессию, так как она не обеспечит учет особенностей рассматриваемого случая. Применение полиномиальной регрессии зачастую приводит к переобучению моделей и тоже редко применяется;\n",
    "•\tна графике сезонности чётко виден недельный тренд;\n",
    "•\tграфик остатков позволяет сделать выводы о том, что имеется определенные события, которые существенно влияют на количество заказов, в целом ряд остатков выглядит относительно стационарным, но со значительной дисперсией и примерно нулевым средним.\n"
   ]
  },
  {
   "cell_type": "markdown",
   "metadata": {},
   "source": [
    "Выводы из анализа:\n",
    "•\tнаблюдается несколько периодов: дневной и недельный (может быть есть и более длинные сезонные циклы, но период анализа не очень большой, да и условия ведения бизнеса могут меняться);\n",
    "•\tимеется явный нелинейный тренд на увеличения заказов. Исходя из этого применение линейных моделей нецелесообразно.\n"
   ]
  },
  {
   "cell_type": "markdown",
   "metadata": {},
   "source": [
    "## Обучение"
   ]
  },
  {
   "cell_type": "code",
   "execution_count": 10,
   "metadata": {},
   "outputs": [
    {
     "name": "stdout",
     "output_type": "stream",
     "text": [
      "Проверка минимального и максимального значений индексов для тренировочного датасета:  2018-03-01 00:00:00 2018-07-26 03:00:00\n",
      "Проверка минимального и максимального значений индексов для тестового датасета:  2018-07-26 04:00:00 2018-08-31 23:00:00\n"
     ]
    }
   ],
   "source": [
    "train, test = train_test_split(df, shuffle=False, test_size=0.2, random_state = RND)\n",
    "train = train.dropna()\n",
    "print('Проверка минимального и максимального значений индексов для тренировочного датасета: ', \n",
    "      train.index.min(), train.index.max())\n",
    "print('Проверка минимального и максимального значений индексов для тестового датасета: ', \n",
    "      test.index.min(), test.index.max())"
   ]
  },
  {
   "cell_type": "code",
   "execution_count": 11,
   "metadata": {},
   "outputs": [
    {
     "name": "stdout",
     "output_type": "stream",
     "text": [
      "RMSE на основе прогнозирования по предыдущему значению: 53.368\n",
      "RMSE на основе прогнозированию по среднему: 74.42015786913375\n"
     ]
    }
   ],
   "source": [
    "pred_previous = test.shift()\n",
    "pred_previous.iloc[0] = train.iloc[-1]\n",
    "rmse_base =  mean_squared_error(test['num_orders'], pred_previous) ** 0.5\n",
    "print(\"RMSE на основе прогнозирования по предыдущему значению:\", round(rmse_base, 3))\n",
    "pred_mean = np.ones(test.shape) * train['num_orders'].mean()\n",
    "print(\"RMSE на основе прогнозированию по среднему:\", \n",
    "      mean_squared_error(test['num_orders'], pred_mean) ** 0.5)"
   ]
  },
  {
   "cell_type": "markdown",
   "metadata": {},
   "source": [
    "Значение метрики RMSE на тестовой выборке должно быть не больше 48 по условию проекта. Прогнозирование на основе предыдущего значения показывает чуть лучшее значение чем на основе среднего, но в целом можно сказать, что качество таких примитивных моделей не очень высокое."
   ]
  },
  {
   "cell_type": "code",
   "execution_count": 12,
   "metadata": {},
   "outputs": [],
   "source": [
    "def make_features(data, max_lag, week_lag, rolling_mean_size_1, rolling_mean_size_2, rolling_mean_size_3):\n",
    "    df = data.copy()\n",
    "    for lag in range(1, max_lag + 1):\n",
    "        df['lag_{}'.format(lag)] = df['num_orders'].shift(lag)\n",
    "        \n",
    "    df['week_lag'] = df['num_orders'].shift(week_lag)\n",
    "    df['rolling_mean_1'] = df['num_orders'].shift().rolling(rolling_mean_size_1).mean()\n",
    "    df['rolling_mean_2'] = df['num_orders'].shift().rolling(rolling_mean_size_2).mean()\n",
    "    df['rolling_mean_3'] = df['num_orders'].shift().rolling(rolling_mean_size_3).mean()\n",
    "    return df"
   ]
  },
  {
   "cell_type": "code",
   "execution_count": 13,
   "metadata": {},
   "outputs": [],
   "source": [
    "df = make_features(df, 49, 24*7, 24, 24*7, 24*30)\n",
    "train, test = train_test_split(df, shuffle=False, test_size=0.1)\n",
    "train = train.dropna()\n",
    "X_train = train.drop('num_orders', axis = 1)\n",
    "y_train = train['num_orders']\n",
    "X_test = test.drop('num_orders', axis = 1)\n",
    "y_test = test['num_orders']"
   ]
  },
  {
   "cell_type": "code",
   "execution_count": 14,
   "metadata": {},
   "outputs": [],
   "source": [
    "def prediction(model, feat, targ):\n",
    "    \n",
    "    pred = model.predict(feat)\n",
    "    rmse = mean_squared_error(pred, targ)**0.5\n",
    "    \n",
    "    return(rmse)"
   ]
  },
  {
   "cell_type": "markdown",
   "metadata": {},
   "source": [
    "### LGBM Regressor"
   ]
  },
  {
   "cell_type": "code",
   "execution_count": 15,
   "metadata": {},
   "outputs": [],
   "source": [
    "model_lgb = lgb.LGBMRegressor(random_state = RND)"
   ]
  },
  {
   "cell_type": "code",
   "execution_count": 16,
   "metadata": {},
   "outputs": [
    {
     "name": "stdout",
     "output_type": "stream",
     "text": [
      "CPU times: user 1.68 s, sys: 39.8 ms, total: 1.72 s\n",
      "Wall time: 1.65 s\n"
     ]
    },
    {
     "data": {
      "text/plain": [
       "LGBMRegressor(random_state=12345)"
      ]
     },
     "execution_count": 16,
     "metadata": {},
     "output_type": "execute_result"
    }
   ],
   "source": [
    "%%time\n",
    "model_lgb.fit(X_train, y_train)"
   ]
  },
  {
   "cell_type": "code",
   "execution_count": 17,
   "metadata": {},
   "outputs": [
    {
     "name": "stdout",
     "output_type": "stream",
     "text": [
      "CPU times: user 46.1 ms, sys: 2.49 ms, total: 48.5 ms\n",
      "Wall time: 89.3 ms\n"
     ]
    },
    {
     "data": {
      "text/plain": [
       "39.382345091691164"
      ]
     },
     "execution_count": 17,
     "metadata": {},
     "output_type": "execute_result"
    }
   ],
   "source": [
    "%%time\n",
    "prediction(model_lgb, X_test, y_test)"
   ]
  },
  {
   "cell_type": "code",
   "execution_count": 18,
   "metadata": {},
   "outputs": [
    {
     "data": {
      "text/html": [
       "<div>\n",
       "<style scoped>\n",
       "    .dataframe tbody tr th:only-of-type {\n",
       "        vertical-align: middle;\n",
       "    }\n",
       "\n",
       "    .dataframe tbody tr th {\n",
       "        vertical-align: top;\n",
       "    }\n",
       "\n",
       "    .dataframe thead th {\n",
       "        text-align: right;\n",
       "    }\n",
       "</style>\n",
       "<table border=\"1\" class=\"dataframe\">\n",
       "  <thead>\n",
       "    <tr style=\"text-align: right;\">\n",
       "      <th></th>\n",
       "      <th>model_name</th>\n",
       "      <th>training_time</th>\n",
       "      <th>prediction_test_time</th>\n",
       "      <th>rmse_test</th>\n",
       "    </tr>\n",
       "  </thead>\n",
       "  <tbody>\n",
       "    <tr>\n",
       "      <th>0</th>\n",
       "      <td>LGBMRegressor</td>\n",
       "      <td>1.55</td>\n",
       "      <td>0.11</td>\n",
       "      <td>39.38</td>\n",
       "    </tr>\n",
       "    <tr>\n",
       "      <th>1</th>\n",
       "      <td>GradBoost</td>\n",
       "      <td>NaN</td>\n",
       "      <td>NaN</td>\n",
       "      <td>NaN</td>\n",
       "    </tr>\n",
       "    <tr>\n",
       "      <th>2</th>\n",
       "      <td>CatBoost</td>\n",
       "      <td>NaN</td>\n",
       "      <td>NaN</td>\n",
       "      <td>NaN</td>\n",
       "    </tr>\n",
       "  </tbody>\n",
       "</table>\n",
       "</div>"
      ],
      "text/plain": [
       "      model_name  training_time  prediction_test_time  rmse_test\n",
       "0  LGBMRegressor           1.55                  0.11      39.38\n",
       "1      GradBoost            NaN                   NaN        NaN\n",
       "2       CatBoost            NaN                   NaN        NaN"
      ]
     },
     "execution_count": 18,
     "metadata": {},
     "output_type": "execute_result"
    }
   ],
   "source": [
    "res = {\n",
    "    'model_name':pd.Series(['LGBMRegressor','GradBoost','CatBoost']),\n",
    "    'training_time':pd.Series([1.55]),\n",
    "    'prediction_test_time':pd.Series([0.11]), \n",
    "    'rmse_test':pd.Series([39.38])}\n",
    "\n",
    "results = pd.DataFrame(res)\n",
    "results"
   ]
  },
  {
   "cell_type": "markdown",
   "metadata": {},
   "source": [
    "### Gradient Boosting Regressor"
   ]
  },
  {
   "cell_type": "code",
   "execution_count": 19,
   "metadata": {},
   "outputs": [],
   "source": [
    "model_gbr = GradientBoostingRegressor(random_state = RND)"
   ]
  },
  {
   "cell_type": "code",
   "execution_count": 20,
   "metadata": {},
   "outputs": [
    {
     "name": "stdout",
     "output_type": "stream",
     "text": [
      "CPU times: user 2.86 s, sys: 0 ns, total: 2.86 s\n",
      "Wall time: 2.87 s\n"
     ]
    },
    {
     "data": {
      "text/plain": [
       "GradientBoostingRegressor(random_state=12345)"
      ]
     },
     "execution_count": 20,
     "metadata": {},
     "output_type": "execute_result"
    }
   ],
   "source": [
    "%%time\n",
    "model_gbr.fit(X_train, y_train)"
   ]
  },
  {
   "cell_type": "code",
   "execution_count": 21,
   "metadata": {},
   "outputs": [
    {
     "name": "stdout",
     "output_type": "stream",
     "text": [
      "CPU times: user 5.87 ms, sys: 0 ns, total: 5.87 ms\n",
      "Wall time: 4.52 ms\n"
     ]
    },
    {
     "data": {
      "text/plain": [
       "41.845716845058604"
      ]
     },
     "execution_count": 21,
     "metadata": {},
     "output_type": "execute_result"
    }
   ],
   "source": [
    "%%time\n",
    "prediction(model_gbr, X_test, y_test)"
   ]
  },
  {
   "cell_type": "code",
   "execution_count": 22,
   "metadata": {},
   "outputs": [
    {
     "data": {
      "text/html": [
       "<div>\n",
       "<style scoped>\n",
       "    .dataframe tbody tr th:only-of-type {\n",
       "        vertical-align: middle;\n",
       "    }\n",
       "\n",
       "    .dataframe tbody tr th {\n",
       "        vertical-align: top;\n",
       "    }\n",
       "\n",
       "    .dataframe thead th {\n",
       "        text-align: right;\n",
       "    }\n",
       "</style>\n",
       "<table border=\"1\" class=\"dataframe\">\n",
       "  <thead>\n",
       "    <tr style=\"text-align: right;\">\n",
       "      <th></th>\n",
       "      <th>model_name</th>\n",
       "      <th>training_time</th>\n",
       "      <th>prediction_test_time</th>\n",
       "      <th>rmse_test</th>\n",
       "    </tr>\n",
       "  </thead>\n",
       "  <tbody>\n",
       "    <tr>\n",
       "      <th>0</th>\n",
       "      <td>LGBMRegressor</td>\n",
       "      <td>1.55</td>\n",
       "      <td>0.110</td>\n",
       "      <td>39.38</td>\n",
       "    </tr>\n",
       "    <tr>\n",
       "      <th>1</th>\n",
       "      <td>GradBoost</td>\n",
       "      <td>2.52</td>\n",
       "      <td>0.004</td>\n",
       "      <td>41.80</td>\n",
       "    </tr>\n",
       "    <tr>\n",
       "      <th>2</th>\n",
       "      <td>CatBoost</td>\n",
       "      <td>NaN</td>\n",
       "      <td>NaN</td>\n",
       "      <td>NaN</td>\n",
       "    </tr>\n",
       "  </tbody>\n",
       "</table>\n",
       "</div>"
      ],
      "text/plain": [
       "      model_name  training_time  prediction_test_time  rmse_test\n",
       "0  LGBMRegressor           1.55                 0.110      39.38\n",
       "1      GradBoost           2.52                 0.004      41.80\n",
       "2       CatBoost            NaN                   NaN        NaN"
      ]
     },
     "execution_count": 22,
     "metadata": {},
     "output_type": "execute_result"
    }
   ],
   "source": [
    "results.loc[1, 'training_time'] = 2.52 \n",
    "results.loc[1, 'prediction_test_time'] = 0.004\n",
    "results.loc[1,'rmse_test'] = 41.8\n",
    "\n",
    "results"
   ]
  },
  {
   "cell_type": "markdown",
   "metadata": {},
   "source": [
    "### CatBoost Regressor"
   ]
  },
  {
   "cell_type": "code",
   "execution_count": 23,
   "metadata": {},
   "outputs": [],
   "source": [
    "model_cb = CatBoostRegressor(random_state = RND)\n"
   ]
  },
  {
   "cell_type": "code",
   "execution_count": 24,
   "metadata": {},
   "outputs": [
    {
     "name": "stdout",
     "output_type": "stream",
     "text": [
      "Learning rate set to 0.049333\n",
      "0:\tlearn: 37.8844685\ttotal: 65.4ms\tremaining: 1m 5s\n",
      "1:\tlearn: 36.9137800\ttotal: 78.1ms\tremaining: 39s\n",
      "2:\tlearn: 35.9418316\ttotal: 91.5ms\tremaining: 30.4s\n",
      "3:\tlearn: 35.0774487\ttotal: 105ms\tremaining: 26.2s\n",
      "4:\tlearn: 34.2428844\ttotal: 118ms\tremaining: 23.4s\n",
      "5:\tlearn: 33.4981529\ttotal: 131ms\tremaining: 21.7s\n",
      "6:\tlearn: 32.7755412\ttotal: 144ms\tremaining: 20.4s\n",
      "7:\tlearn: 32.1211707\ttotal: 157ms\tremaining: 19.4s\n",
      "8:\tlearn: 31.4585473\ttotal: 170ms\tremaining: 18.7s\n",
      "9:\tlearn: 30.8745587\ttotal: 183ms\tremaining: 18.1s\n",
      "10:\tlearn: 30.3118392\ttotal: 197ms\tremaining: 17.7s\n",
      "11:\tlearn: 29.8032748\ttotal: 210ms\tremaining: 17.3s\n",
      "12:\tlearn: 29.2867635\ttotal: 222ms\tremaining: 16.9s\n",
      "13:\tlearn: 28.7880798\ttotal: 235ms\tremaining: 16.6s\n",
      "14:\tlearn: 28.3366476\ttotal: 248ms\tremaining: 16.3s\n",
      "15:\tlearn: 27.8836072\ttotal: 262ms\tremaining: 16.1s\n",
      "16:\tlearn: 27.4835405\ttotal: 275ms\tremaining: 15.9s\n",
      "17:\tlearn: 27.0952214\ttotal: 288ms\tremaining: 15.7s\n",
      "18:\tlearn: 26.7279188\ttotal: 300ms\tremaining: 15.5s\n",
      "19:\tlearn: 26.4178666\ttotal: 313ms\tremaining: 15.3s\n",
      "20:\tlearn: 26.0832295\ttotal: 326ms\tremaining: 15.2s\n",
      "21:\tlearn: 25.7836075\ttotal: 338ms\tremaining: 15s\n",
      "22:\tlearn: 25.5234737\ttotal: 351ms\tremaining: 14.9s\n",
      "23:\tlearn: 25.2753086\ttotal: 365ms\tremaining: 14.9s\n",
      "24:\tlearn: 25.0349515\ttotal: 378ms\tremaining: 14.7s\n",
      "25:\tlearn: 24.8130227\ttotal: 391ms\tremaining: 14.6s\n",
      "26:\tlearn: 24.5902861\ttotal: 403ms\tremaining: 14.5s\n",
      "27:\tlearn: 24.3734845\ttotal: 415ms\tremaining: 14.4s\n",
      "28:\tlearn: 24.1947031\ttotal: 428ms\tremaining: 14.3s\n",
      "29:\tlearn: 24.0220950\ttotal: 440ms\tremaining: 14.2s\n",
      "30:\tlearn: 23.8485734\ttotal: 452ms\tremaining: 14.1s\n",
      "31:\tlearn: 23.6940631\ttotal: 466ms\tremaining: 14.1s\n",
      "32:\tlearn: 23.5577807\ttotal: 478ms\tremaining: 14s\n",
      "33:\tlearn: 23.4007021\ttotal: 490ms\tremaining: 13.9s\n",
      "34:\tlearn: 23.2582509\ttotal: 503ms\tremaining: 13.9s\n",
      "35:\tlearn: 23.1500953\ttotal: 516ms\tremaining: 13.8s\n",
      "36:\tlearn: 23.0229948\ttotal: 530ms\tremaining: 13.8s\n",
      "37:\tlearn: 22.9099182\ttotal: 542ms\tremaining: 13.7s\n",
      "38:\tlearn: 22.8077115\ttotal: 554ms\tremaining: 13.7s\n",
      "39:\tlearn: 22.6975471\ttotal: 567ms\tremaining: 13.6s\n",
      "40:\tlearn: 22.6001257\ttotal: 580ms\tremaining: 13.6s\n",
      "41:\tlearn: 22.5084529\ttotal: 592ms\tremaining: 13.5s\n",
      "42:\tlearn: 22.4213519\ttotal: 604ms\tremaining: 13.4s\n",
      "43:\tlearn: 22.3420295\ttotal: 617ms\tremaining: 13.4s\n",
      "44:\tlearn: 22.2574372\ttotal: 629ms\tremaining: 13.4s\n",
      "45:\tlearn: 22.1757921\ttotal: 642ms\tremaining: 13.3s\n",
      "46:\tlearn: 22.0943178\ttotal: 654ms\tremaining: 13.3s\n",
      "47:\tlearn: 22.0125124\ttotal: 667ms\tremaining: 13.2s\n",
      "48:\tlearn: 21.9513006\ttotal: 679ms\tremaining: 13.2s\n",
      "49:\tlearn: 21.8808122\ttotal: 692ms\tremaining: 13.1s\n",
      "50:\tlearn: 21.8188800\ttotal: 704ms\tremaining: 13.1s\n",
      "51:\tlearn: 21.7595090\ttotal: 717ms\tremaining: 13.1s\n",
      "52:\tlearn: 21.7426020\ttotal: 730ms\tremaining: 13s\n",
      "53:\tlearn: 21.6899041\ttotal: 743ms\tremaining: 13s\n",
      "54:\tlearn: 21.6480644\ttotal: 756ms\tremaining: 13s\n",
      "55:\tlearn: 21.5957581\ttotal: 769ms\tremaining: 13s\n",
      "56:\tlearn: 21.5481015\ttotal: 781ms\tremaining: 12.9s\n",
      "57:\tlearn: 21.5001023\ttotal: 794ms\tremaining: 12.9s\n",
      "58:\tlearn: 21.4366299\ttotal: 809ms\tremaining: 12.9s\n",
      "59:\tlearn: 21.4232299\ttotal: 822ms\tremaining: 12.9s\n",
      "60:\tlearn: 21.3883413\ttotal: 836ms\tremaining: 12.9s\n",
      "61:\tlearn: 21.3622551\ttotal: 856ms\tremaining: 13s\n",
      "62:\tlearn: 21.3093979\ttotal: 880ms\tremaining: 13.1s\n",
      "63:\tlearn: 21.2622202\ttotal: 902ms\tremaining: 13.2s\n",
      "64:\tlearn: 21.2176797\ttotal: 918ms\tremaining: 13.2s\n",
      "65:\tlearn: 21.1712873\ttotal: 932ms\tremaining: 13.2s\n",
      "66:\tlearn: 21.1390216\ttotal: 945ms\tremaining: 13.2s\n",
      "67:\tlearn: 21.1269595\ttotal: 958ms\tremaining: 13.1s\n",
      "68:\tlearn: 21.0878077\ttotal: 972ms\tremaining: 13.1s\n",
      "69:\tlearn: 21.0778330\ttotal: 984ms\tremaining: 13.1s\n",
      "70:\tlearn: 21.0422860\ttotal: 997ms\tremaining: 13s\n",
      "71:\tlearn: 21.0234322\ttotal: 1.01s\tremaining: 13s\n",
      "72:\tlearn: 20.9852098\ttotal: 1.02s\tremaining: 13s\n",
      "73:\tlearn: 20.9561025\ttotal: 1.04s\tremaining: 13s\n",
      "74:\tlearn: 20.9474270\ttotal: 1.05s\tremaining: 12.9s\n",
      "75:\tlearn: 20.9261533\ttotal: 1.06s\tremaining: 12.9s\n",
      "76:\tlearn: 20.9176695\ttotal: 1.07s\tremaining: 12.9s\n",
      "77:\tlearn: 20.9065609\ttotal: 1.09s\tremaining: 12.8s\n",
      "78:\tlearn: 20.8996109\ttotal: 1.1s\tremaining: 12.8s\n",
      "79:\tlearn: 20.8630903\ttotal: 1.11s\tremaining: 12.8s\n",
      "80:\tlearn: 20.8309489\ttotal: 1.13s\tremaining: 12.8s\n",
      "81:\tlearn: 20.7893022\ttotal: 1.14s\tremaining: 12.7s\n",
      "82:\tlearn: 20.7521490\ttotal: 1.15s\tremaining: 12.7s\n",
      "83:\tlearn: 20.7394972\ttotal: 1.16s\tremaining: 12.7s\n",
      "84:\tlearn: 20.7091144\ttotal: 1.18s\tremaining: 12.7s\n",
      "85:\tlearn: 20.7000772\ttotal: 1.19s\tremaining: 12.6s\n",
      "86:\tlearn: 20.6748286\ttotal: 1.2s\tremaining: 12.6s\n",
      "87:\tlearn: 20.6656815\ttotal: 1.21s\tremaining: 12.6s\n",
      "88:\tlearn: 20.6575164\ttotal: 1.23s\tremaining: 12.6s\n",
      "89:\tlearn: 20.6342111\ttotal: 1.24s\tremaining: 12.5s\n",
      "90:\tlearn: 20.6076103\ttotal: 1.25s\tremaining: 12.5s\n",
      "91:\tlearn: 20.5777732\ttotal: 1.26s\tremaining: 12.5s\n",
      "92:\tlearn: 20.5445563\ttotal: 1.28s\tremaining: 12.5s\n",
      "93:\tlearn: 20.5093335\ttotal: 1.29s\tremaining: 12.5s\n",
      "94:\tlearn: 20.4957302\ttotal: 1.31s\tremaining: 12.4s\n",
      "95:\tlearn: 20.4590524\ttotal: 1.32s\tremaining: 12.4s\n",
      "96:\tlearn: 20.4492287\ttotal: 1.33s\tremaining: 12.4s\n",
      "97:\tlearn: 20.4420131\ttotal: 1.35s\tremaining: 12.4s\n",
      "98:\tlearn: 20.4113967\ttotal: 1.36s\tremaining: 12.4s\n",
      "99:\tlearn: 20.4016661\ttotal: 1.37s\tremaining: 12.4s\n",
      "100:\tlearn: 20.3848895\ttotal: 1.39s\tremaining: 12.3s\n",
      "101:\tlearn: 20.3531771\ttotal: 1.4s\tremaining: 12.3s\n",
      "102:\tlearn: 20.3442831\ttotal: 1.42s\tremaining: 12.4s\n",
      "103:\tlearn: 20.3218814\ttotal: 1.43s\tremaining: 12.3s\n",
      "104:\tlearn: 20.3033987\ttotal: 1.45s\tremaining: 12.3s\n",
      "105:\tlearn: 20.2884572\ttotal: 1.46s\tremaining: 12.3s\n",
      "106:\tlearn: 20.2776112\ttotal: 1.48s\tremaining: 12.3s\n",
      "107:\tlearn: 20.2648634\ttotal: 1.49s\tremaining: 12.3s\n",
      "108:\tlearn: 20.2575985\ttotal: 1.5s\tremaining: 12.3s\n",
      "109:\tlearn: 20.2381482\ttotal: 1.52s\tremaining: 12.3s\n",
      "110:\tlearn: 20.2252613\ttotal: 1.53s\tremaining: 12.2s\n",
      "111:\tlearn: 20.2201593\ttotal: 1.54s\tremaining: 12.2s\n",
      "112:\tlearn: 20.1970869\ttotal: 1.55s\tremaining: 12.2s\n",
      "113:\tlearn: 20.1926807\ttotal: 1.57s\tremaining: 12.2s\n",
      "114:\tlearn: 20.1699993\ttotal: 1.58s\tremaining: 12.2s\n",
      "115:\tlearn: 20.1347746\ttotal: 1.59s\tremaining: 12.2s\n",
      "116:\tlearn: 20.1199984\ttotal: 1.61s\tremaining: 12.1s\n",
      "117:\tlearn: 20.1030704\ttotal: 1.62s\tremaining: 12.1s\n",
      "118:\tlearn: 20.0865164\ttotal: 1.63s\tremaining: 12.1s\n",
      "119:\tlearn: 20.0618474\ttotal: 1.65s\tremaining: 12.1s\n",
      "120:\tlearn: 20.0348892\ttotal: 1.66s\tremaining: 12.1s\n",
      "121:\tlearn: 20.0039254\ttotal: 1.68s\tremaining: 12.1s\n",
      "122:\tlearn: 19.9738119\ttotal: 1.69s\tremaining: 12s\n",
      "123:\tlearn: 19.9659730\ttotal: 1.7s\tremaining: 12s\n",
      "124:\tlearn: 19.9523650\ttotal: 1.71s\tremaining: 12s\n",
      "125:\tlearn: 19.9462719\ttotal: 1.73s\tremaining: 12s\n",
      "126:\tlearn: 19.9345704\ttotal: 1.74s\tremaining: 11.9s\n",
      "127:\tlearn: 19.9181696\ttotal: 1.75s\tremaining: 11.9s\n",
      "128:\tlearn: 19.8963911\ttotal: 1.76s\tremaining: 11.9s\n",
      "129:\tlearn: 19.8610652\ttotal: 1.78s\tremaining: 11.9s\n",
      "130:\tlearn: 19.8464059\ttotal: 1.79s\tremaining: 11.9s\n",
      "131:\tlearn: 19.8167414\ttotal: 1.8s\tremaining: 11.9s\n",
      "132:\tlearn: 19.8013294\ttotal: 1.82s\tremaining: 11.8s\n",
      "133:\tlearn: 19.7961983\ttotal: 1.83s\tremaining: 11.8s\n",
      "134:\tlearn: 19.7714493\ttotal: 1.84s\tremaining: 11.8s\n",
      "135:\tlearn: 19.7498715\ttotal: 1.86s\tremaining: 11.8s\n",
      "136:\tlearn: 19.7402256\ttotal: 1.87s\tremaining: 11.8s\n",
      "137:\tlearn: 19.7139234\ttotal: 1.89s\tremaining: 11.8s\n",
      "138:\tlearn: 19.6894591\ttotal: 1.9s\tremaining: 11.8s\n",
      "139:\tlearn: 19.6691553\ttotal: 1.91s\tremaining: 11.8s\n",
      "140:\tlearn: 19.6461398\ttotal: 1.93s\tremaining: 11.7s\n",
      "141:\tlearn: 19.6306203\ttotal: 1.94s\tremaining: 11.7s\n",
      "142:\tlearn: 19.6062900\ttotal: 1.95s\tremaining: 11.7s\n",
      "143:\tlearn: 19.5946273\ttotal: 1.97s\tremaining: 11.7s\n",
      "144:\tlearn: 19.5768320\ttotal: 1.98s\tremaining: 11.7s\n",
      "145:\tlearn: 19.5490235\ttotal: 1.99s\tremaining: 11.7s\n",
      "146:\tlearn: 19.5432223\ttotal: 2.01s\tremaining: 11.6s\n",
      "147:\tlearn: 19.5261539\ttotal: 2.02s\tremaining: 11.6s\n",
      "148:\tlearn: 19.4934176\ttotal: 2.03s\tremaining: 11.6s\n",
      "149:\tlearn: 19.4900333\ttotal: 2.04s\tremaining: 11.6s\n",
      "150:\tlearn: 19.4710397\ttotal: 2.06s\tremaining: 11.6s\n",
      "151:\tlearn: 19.4471103\ttotal: 2.07s\tremaining: 11.6s\n",
      "152:\tlearn: 19.4330923\ttotal: 2.08s\tremaining: 11.5s\n",
      "153:\tlearn: 19.4130955\ttotal: 2.1s\tremaining: 11.5s\n",
      "154:\tlearn: 19.3904920\ttotal: 2.11s\tremaining: 11.5s\n",
      "155:\tlearn: 19.3655416\ttotal: 2.12s\tremaining: 11.5s\n",
      "156:\tlearn: 19.3462701\ttotal: 2.13s\tremaining: 11.5s\n",
      "157:\tlearn: 19.3373542\ttotal: 2.15s\tremaining: 11.4s\n",
      "158:\tlearn: 19.3128159\ttotal: 2.16s\tremaining: 11.4s\n",
      "159:\tlearn: 19.2923430\ttotal: 2.17s\tremaining: 11.4s\n",
      "160:\tlearn: 19.2721232\ttotal: 2.19s\tremaining: 11.4s\n",
      "161:\tlearn: 19.2679897\ttotal: 2.2s\tremaining: 11.4s\n",
      "162:\tlearn: 19.2535090\ttotal: 2.21s\tremaining: 11.4s\n",
      "163:\tlearn: 19.2385002\ttotal: 2.23s\tremaining: 11.3s\n",
      "164:\tlearn: 19.2261342\ttotal: 2.25s\tremaining: 11.4s\n",
      "165:\tlearn: 19.2133231\ttotal: 2.26s\tremaining: 11.3s\n",
      "166:\tlearn: 19.2054025\ttotal: 2.27s\tremaining: 11.3s\n",
      "167:\tlearn: 19.1718798\ttotal: 2.29s\tremaining: 11.3s\n",
      "168:\tlearn: 19.1538595\ttotal: 2.3s\tremaining: 11.3s\n",
      "169:\tlearn: 19.1316153\ttotal: 2.31s\tremaining: 11.3s\n",
      "170:\tlearn: 19.1075941\ttotal: 2.33s\tremaining: 11.3s\n",
      "171:\tlearn: 19.0880687\ttotal: 2.34s\tremaining: 11.3s\n",
      "172:\tlearn: 19.0675387\ttotal: 2.35s\tremaining: 11.3s\n",
      "173:\tlearn: 19.0651257\ttotal: 2.37s\tremaining: 11.2s\n",
      "174:\tlearn: 19.0533835\ttotal: 2.38s\tremaining: 11.2s\n",
      "175:\tlearn: 19.0478693\ttotal: 2.39s\tremaining: 11.2s\n",
      "176:\tlearn: 19.0445793\ttotal: 2.4s\tremaining: 11.2s\n",
      "177:\tlearn: 19.0289745\ttotal: 2.42s\tremaining: 11.2s\n",
      "178:\tlearn: 19.0124515\ttotal: 2.43s\tremaining: 11.2s\n",
      "179:\tlearn: 19.0020629\ttotal: 2.45s\tremaining: 11.1s\n",
      "180:\tlearn: 18.9782254\ttotal: 2.46s\tremaining: 11.1s\n",
      "181:\tlearn: 18.9613225\ttotal: 2.47s\tremaining: 11.1s\n",
      "182:\tlearn: 18.9394607\ttotal: 2.48s\tremaining: 11.1s\n",
      "183:\tlearn: 18.9186521\ttotal: 2.5s\tremaining: 11.1s\n",
      "184:\tlearn: 18.8989773\ttotal: 2.51s\tremaining: 11.1s\n",
      "185:\tlearn: 18.8828703\ttotal: 2.52s\tremaining: 11s\n",
      "186:\tlearn: 18.8659412\ttotal: 2.54s\tremaining: 11s\n",
      "187:\tlearn: 18.8563409\ttotal: 2.55s\tremaining: 11s\n",
      "188:\tlearn: 18.8393959\ttotal: 2.56s\tremaining: 11s\n",
      "189:\tlearn: 18.8207777\ttotal: 2.57s\tremaining: 11s\n",
      "190:\tlearn: 18.8044127\ttotal: 2.58s\tremaining: 11s\n",
      "191:\tlearn: 18.7794508\ttotal: 2.6s\tremaining: 10.9s\n",
      "192:\tlearn: 18.7545355\ttotal: 2.61s\tremaining: 10.9s\n",
      "193:\tlearn: 18.7386566\ttotal: 2.62s\tremaining: 10.9s\n",
      "194:\tlearn: 18.7222262\ttotal: 2.64s\tremaining: 10.9s\n",
      "195:\tlearn: 18.6990516\ttotal: 2.65s\tremaining: 10.9s\n",
      "196:\tlearn: 18.6855188\ttotal: 2.66s\tremaining: 10.9s\n",
      "197:\tlearn: 18.6736741\ttotal: 2.68s\tremaining: 10.8s\n",
      "198:\tlearn: 18.6451500\ttotal: 2.69s\tremaining: 10.8s\n",
      "199:\tlearn: 18.6330886\ttotal: 2.7s\tremaining: 10.8s\n",
      "200:\tlearn: 18.6148996\ttotal: 2.71s\tremaining: 10.8s\n",
      "201:\tlearn: 18.6025108\ttotal: 2.73s\tremaining: 10.8s\n",
      "202:\tlearn: 18.5800874\ttotal: 2.74s\tremaining: 10.8s\n",
      "203:\tlearn: 18.5547666\ttotal: 2.75s\tremaining: 10.7s\n",
      "204:\tlearn: 18.5250415\ttotal: 2.77s\tremaining: 10.7s\n",
      "205:\tlearn: 18.5094121\ttotal: 2.78s\tremaining: 10.7s\n",
      "206:\tlearn: 18.4843731\ttotal: 2.79s\tremaining: 10.7s\n",
      "207:\tlearn: 18.4622782\ttotal: 2.81s\tremaining: 10.7s\n",
      "208:\tlearn: 18.4457373\ttotal: 2.82s\tremaining: 10.7s\n",
      "209:\tlearn: 18.4232324\ttotal: 2.83s\tremaining: 10.7s\n",
      "210:\tlearn: 18.3988881\ttotal: 2.84s\tremaining: 10.6s\n",
      "211:\tlearn: 18.3882480\ttotal: 2.86s\tremaining: 10.6s\n",
      "212:\tlearn: 18.3657328\ttotal: 2.87s\tremaining: 10.6s\n",
      "213:\tlearn: 18.3399403\ttotal: 2.88s\tremaining: 10.6s\n",
      "214:\tlearn: 18.3371693\ttotal: 2.9s\tremaining: 10.6s\n",
      "215:\tlearn: 18.3184285\ttotal: 2.91s\tremaining: 10.6s\n",
      "216:\tlearn: 18.2990188\ttotal: 2.92s\tremaining: 10.6s\n",
      "217:\tlearn: 18.2827086\ttotal: 2.94s\tremaining: 10.5s\n",
      "218:\tlearn: 18.2650665\ttotal: 2.95s\tremaining: 10.5s\n",
      "219:\tlearn: 18.2435924\ttotal: 2.96s\tremaining: 10.5s\n",
      "220:\tlearn: 18.2315697\ttotal: 2.98s\tremaining: 10.5s\n",
      "221:\tlearn: 18.2143110\ttotal: 2.99s\tremaining: 10.5s\n",
      "222:\tlearn: 18.1956660\ttotal: 3s\tremaining: 10.5s\n",
      "223:\tlearn: 18.1741175\ttotal: 3.02s\tremaining: 10.5s\n",
      "224:\tlearn: 18.1445043\ttotal: 3.03s\tremaining: 10.4s\n",
      "225:\tlearn: 18.1270700\ttotal: 3.04s\tremaining: 10.4s\n",
      "226:\tlearn: 18.1124558\ttotal: 3.05s\tremaining: 10.4s\n",
      "227:\tlearn: 18.1006971\ttotal: 3.07s\tremaining: 10.4s\n",
      "228:\tlearn: 18.0879056\ttotal: 3.08s\tremaining: 10.4s\n",
      "229:\tlearn: 18.0703529\ttotal: 3.1s\tremaining: 10.4s\n",
      "230:\tlearn: 18.0597871\ttotal: 3.11s\tremaining: 10.3s\n",
      "231:\tlearn: 18.0413651\ttotal: 3.12s\tremaining: 10.3s\n",
      "232:\tlearn: 18.0231565\ttotal: 3.13s\tremaining: 10.3s\n",
      "233:\tlearn: 18.0041832\ttotal: 3.15s\tremaining: 10.3s\n",
      "234:\tlearn: 17.9897443\ttotal: 3.16s\tremaining: 10.3s\n",
      "235:\tlearn: 17.9684238\ttotal: 3.18s\tremaining: 10.3s\n",
      "236:\tlearn: 17.9527114\ttotal: 3.19s\tremaining: 10.3s\n",
      "237:\tlearn: 17.9495197\ttotal: 3.2s\tremaining: 10.3s\n",
      "238:\tlearn: 17.9375770\ttotal: 3.22s\tremaining: 10.2s\n",
      "239:\tlearn: 17.9191974\ttotal: 3.23s\tremaining: 10.2s\n",
      "240:\tlearn: 17.8945668\ttotal: 3.24s\tremaining: 10.2s\n",
      "241:\tlearn: 17.8749004\ttotal: 3.25s\tremaining: 10.2s\n",
      "242:\tlearn: 17.8613009\ttotal: 3.27s\tremaining: 10.2s\n",
      "243:\tlearn: 17.8449927\ttotal: 3.29s\tremaining: 10.2s\n",
      "244:\tlearn: 17.8283257\ttotal: 3.3s\tremaining: 10.2s\n",
      "245:\tlearn: 17.8240754\ttotal: 3.31s\tremaining: 10.1s\n",
      "246:\tlearn: 17.8093762\ttotal: 3.32s\tremaining: 10.1s\n",
      "247:\tlearn: 17.7976995\ttotal: 3.34s\tremaining: 10.1s\n",
      "248:\tlearn: 17.7815362\ttotal: 3.35s\tremaining: 10.1s\n",
      "249:\tlearn: 17.7596137\ttotal: 3.36s\tremaining: 10.1s\n",
      "250:\tlearn: 17.7424652\ttotal: 3.38s\tremaining: 10.1s\n",
      "251:\tlearn: 17.7223511\ttotal: 3.39s\tremaining: 10.1s\n",
      "252:\tlearn: 17.7088369\ttotal: 3.4s\tremaining: 10.1s\n",
      "253:\tlearn: 17.6860287\ttotal: 3.42s\tremaining: 10s\n",
      "254:\tlearn: 17.6672750\ttotal: 3.43s\tremaining: 10s\n",
      "255:\tlearn: 17.6570782\ttotal: 3.44s\tremaining: 10s\n",
      "256:\tlearn: 17.6434831\ttotal: 3.46s\tremaining: 10s\n",
      "257:\tlearn: 17.6246313\ttotal: 3.48s\tremaining: 10s\n",
      "258:\tlearn: 17.6077688\ttotal: 3.49s\tremaining: 9.99s\n",
      "259:\tlearn: 17.5902786\ttotal: 3.5s\tremaining: 9.98s\n",
      "260:\tlearn: 17.5884481\ttotal: 3.52s\tremaining: 9.96s\n",
      "261:\tlearn: 17.5750007\ttotal: 3.53s\tremaining: 9.95s\n",
      "262:\tlearn: 17.5593823\ttotal: 3.54s\tremaining: 9.93s\n",
      "263:\tlearn: 17.5410580\ttotal: 3.56s\tremaining: 9.92s\n",
      "264:\tlearn: 17.5234330\ttotal: 3.57s\tremaining: 9.9s\n",
      "265:\tlearn: 17.5024977\ttotal: 3.58s\tremaining: 9.89s\n",
      "266:\tlearn: 17.4893573\ttotal: 3.6s\tremaining: 9.88s\n",
      "267:\tlearn: 17.4866972\ttotal: 3.61s\tremaining: 9.86s\n",
      "268:\tlearn: 17.4656055\ttotal: 3.62s\tremaining: 9.85s\n",
      "269:\tlearn: 17.4637301\ttotal: 3.64s\tremaining: 9.83s\n",
      "270:\tlearn: 17.4455267\ttotal: 3.65s\tremaining: 9.82s\n",
      "271:\tlearn: 17.4235513\ttotal: 3.66s\tremaining: 9.8s\n",
      "272:\tlearn: 17.4038214\ttotal: 3.67s\tremaining: 9.79s\n",
      "273:\tlearn: 17.3907581\ttotal: 3.69s\tremaining: 9.77s\n",
      "274:\tlearn: 17.3748704\ttotal: 3.7s\tremaining: 9.76s\n",
      "275:\tlearn: 17.3579443\ttotal: 3.71s\tremaining: 9.75s\n",
      "276:\tlearn: 17.3444101\ttotal: 3.73s\tremaining: 9.73s\n",
      "277:\tlearn: 17.3364045\ttotal: 3.74s\tremaining: 9.72s\n",
      "278:\tlearn: 17.3175931\ttotal: 3.75s\tremaining: 9.7s\n",
      "279:\tlearn: 17.3010809\ttotal: 3.77s\tremaining: 9.69s\n",
      "280:\tlearn: 17.2992675\ttotal: 3.78s\tremaining: 9.67s\n",
      "281:\tlearn: 17.2764823\ttotal: 3.79s\tremaining: 9.66s\n",
      "282:\tlearn: 17.2638283\ttotal: 3.81s\tremaining: 9.65s\n",
      "283:\tlearn: 17.2613266\ttotal: 3.82s\tremaining: 9.63s\n",
      "284:\tlearn: 17.2369305\ttotal: 3.83s\tremaining: 9.62s\n",
      "285:\tlearn: 17.2210857\ttotal: 3.85s\tremaining: 9.6s\n",
      "286:\tlearn: 17.1944604\ttotal: 3.86s\tremaining: 9.59s\n",
      "287:\tlearn: 17.1921394\ttotal: 3.87s\tremaining: 9.57s\n",
      "288:\tlearn: 17.1748864\ttotal: 3.88s\tremaining: 9.56s\n",
      "289:\tlearn: 17.1571681\ttotal: 3.9s\tremaining: 9.55s\n",
      "290:\tlearn: 17.1446681\ttotal: 3.91s\tremaining: 9.54s\n",
      "291:\tlearn: 17.1302605\ttotal: 3.93s\tremaining: 9.52s\n",
      "292:\tlearn: 17.1145940\ttotal: 3.94s\tremaining: 9.51s\n",
      "293:\tlearn: 17.0990844\ttotal: 3.95s\tremaining: 9.49s\n",
      "294:\tlearn: 17.0966850\ttotal: 3.96s\tremaining: 9.48s\n",
      "295:\tlearn: 17.0861503\ttotal: 3.98s\tremaining: 9.46s\n",
      "296:\tlearn: 17.0662032\ttotal: 3.99s\tremaining: 9.45s\n",
      "297:\tlearn: 17.0553696\ttotal: 4s\tremaining: 9.44s\n",
      "298:\tlearn: 17.0443394\ttotal: 4.02s\tremaining: 9.42s\n",
      "299:\tlearn: 17.0321885\ttotal: 4.03s\tremaining: 9.41s\n",
      "300:\tlearn: 17.0303114\ttotal: 4.04s\tremaining: 9.39s\n",
      "301:\tlearn: 17.0138434\ttotal: 4.06s\tremaining: 9.38s\n",
      "302:\tlearn: 16.9922378\ttotal: 4.07s\tremaining: 9.36s\n",
      "303:\tlearn: 16.9898374\ttotal: 4.08s\tremaining: 9.35s\n",
      "304:\tlearn: 16.9801284\ttotal: 4.09s\tremaining: 9.33s\n",
      "305:\tlearn: 16.9563909\ttotal: 4.11s\tremaining: 9.32s\n",
      "306:\tlearn: 16.9440163\ttotal: 4.12s\tremaining: 9.31s\n",
      "307:\tlearn: 16.9161574\ttotal: 4.14s\tremaining: 9.29s\n",
      "308:\tlearn: 16.9090815\ttotal: 4.15s\tremaining: 9.28s\n",
      "309:\tlearn: 16.8911792\ttotal: 4.16s\tremaining: 9.27s\n",
      "310:\tlearn: 16.8704899\ttotal: 4.18s\tremaining: 9.25s\n",
      "311:\tlearn: 16.8511103\ttotal: 4.19s\tremaining: 9.24s\n",
      "312:\tlearn: 16.8332847\ttotal: 4.2s\tremaining: 9.22s\n",
      "313:\tlearn: 16.8297312\ttotal: 4.22s\tremaining: 9.21s\n",
      "314:\tlearn: 16.8257368\ttotal: 4.23s\tremaining: 9.2s\n",
      "315:\tlearn: 16.8146534\ttotal: 4.24s\tremaining: 9.18s\n",
      "316:\tlearn: 16.8126039\ttotal: 4.25s\tremaining: 9.16s\n",
      "317:\tlearn: 16.7894280\ttotal: 4.27s\tremaining: 9.15s\n",
      "318:\tlearn: 16.7772816\ttotal: 4.28s\tremaining: 9.14s\n",
      "319:\tlearn: 16.7518752\ttotal: 4.29s\tremaining: 9.13s\n",
      "320:\tlearn: 16.7340359\ttotal: 4.31s\tremaining: 9.11s\n",
      "321:\tlearn: 16.7220293\ttotal: 4.32s\tremaining: 9.1s\n",
      "322:\tlearn: 16.7036493\ttotal: 4.33s\tremaining: 9.09s\n",
      "323:\tlearn: 16.6877744\ttotal: 4.35s\tremaining: 9.07s\n",
      "324:\tlearn: 16.6758295\ttotal: 4.36s\tremaining: 9.06s\n",
      "325:\tlearn: 16.6620111\ttotal: 4.37s\tremaining: 9.04s\n",
      "326:\tlearn: 16.6453078\ttotal: 4.39s\tremaining: 9.03s\n",
      "327:\tlearn: 16.6262173\ttotal: 4.4s\tremaining: 9.01s\n",
      "328:\tlearn: 16.6092180\ttotal: 4.41s\tremaining: 9s\n",
      "329:\tlearn: 16.5942140\ttotal: 4.43s\tremaining: 8.99s\n",
      "330:\tlearn: 16.5808318\ttotal: 4.44s\tremaining: 8.97s\n",
      "331:\tlearn: 16.5671216\ttotal: 4.45s\tremaining: 8.96s\n",
      "332:\tlearn: 16.5517222\ttotal: 4.46s\tremaining: 8.94s\n",
      "333:\tlearn: 16.5318668\ttotal: 4.48s\tremaining: 8.93s\n",
      "334:\tlearn: 16.5139395\ttotal: 4.49s\tremaining: 8.91s\n",
      "335:\tlearn: 16.5022577\ttotal: 4.51s\tremaining: 8.9s\n",
      "336:\tlearn: 16.4931046\ttotal: 4.52s\tremaining: 8.89s\n",
      "337:\tlearn: 16.4820787\ttotal: 4.53s\tremaining: 8.88s\n",
      "338:\tlearn: 16.4661530\ttotal: 4.54s\tremaining: 8.86s\n",
      "339:\tlearn: 16.4538880\ttotal: 4.56s\tremaining: 8.85s\n",
      "340:\tlearn: 16.4427392\ttotal: 4.57s\tremaining: 8.84s\n",
      "341:\tlearn: 16.4410204\ttotal: 4.58s\tremaining: 8.82s\n",
      "342:\tlearn: 16.4265185\ttotal: 4.6s\tremaining: 8.81s\n",
      "343:\tlearn: 16.4075522\ttotal: 4.61s\tremaining: 8.8s\n",
      "344:\tlearn: 16.3907091\ttotal: 4.63s\tremaining: 8.78s\n",
      "345:\tlearn: 16.3756665\ttotal: 4.64s\tremaining: 8.77s\n",
      "346:\tlearn: 16.3747757\ttotal: 4.65s\tremaining: 8.76s\n",
      "347:\tlearn: 16.3652929\ttotal: 4.67s\tremaining: 8.74s\n",
      "348:\tlearn: 16.3632513\ttotal: 4.68s\tremaining: 8.73s\n",
      "349:\tlearn: 16.3555504\ttotal: 4.69s\tremaining: 8.71s\n",
      "350:\tlearn: 16.3415199\ttotal: 4.7s\tremaining: 8.7s\n",
      "351:\tlearn: 16.3336242\ttotal: 4.72s\tremaining: 8.68s\n",
      "352:\tlearn: 16.3184136\ttotal: 4.73s\tremaining: 8.67s\n",
      "353:\tlearn: 16.3003407\ttotal: 4.74s\tremaining: 8.65s\n",
      "354:\tlearn: 16.2875099\ttotal: 4.75s\tremaining: 8.64s\n",
      "355:\tlearn: 16.2746844\ttotal: 4.77s\tremaining: 8.63s\n",
      "356:\tlearn: 16.2643279\ttotal: 4.78s\tremaining: 8.61s\n",
      "357:\tlearn: 16.2629580\ttotal: 4.79s\tremaining: 8.6s\n",
      "358:\tlearn: 16.2616959\ttotal: 4.81s\tremaining: 8.58s\n",
      "359:\tlearn: 16.2452455\ttotal: 4.82s\tremaining: 8.57s\n",
      "360:\tlearn: 16.2384144\ttotal: 4.83s\tremaining: 8.56s\n",
      "361:\tlearn: 16.2207176\ttotal: 4.85s\tremaining: 8.54s\n",
      "362:\tlearn: 16.2093754\ttotal: 4.86s\tremaining: 8.53s\n",
      "363:\tlearn: 16.2080386\ttotal: 4.87s\tremaining: 8.52s\n",
      "364:\tlearn: 16.1918216\ttotal: 4.89s\tremaining: 8.5s\n",
      "365:\tlearn: 16.1744767\ttotal: 4.9s\tremaining: 8.49s\n",
      "366:\tlearn: 16.1635348\ttotal: 4.92s\tremaining: 8.48s\n",
      "367:\tlearn: 16.1482935\ttotal: 4.93s\tremaining: 8.46s\n",
      "368:\tlearn: 16.1290810\ttotal: 4.94s\tremaining: 8.45s\n",
      "369:\tlearn: 16.1100601\ttotal: 4.95s\tremaining: 8.44s\n",
      "370:\tlearn: 16.0877005\ttotal: 4.97s\tremaining: 8.42s\n",
      "371:\tlearn: 16.0716139\ttotal: 4.98s\tremaining: 8.41s\n",
      "372:\tlearn: 16.0610086\ttotal: 5s\tremaining: 8.4s\n",
      "373:\tlearn: 16.0502714\ttotal: 5.01s\tremaining: 8.38s\n",
      "374:\tlearn: 16.0388384\ttotal: 5.02s\tremaining: 8.37s\n",
      "375:\tlearn: 16.0221052\ttotal: 5.04s\tremaining: 8.36s\n",
      "376:\tlearn: 16.0171752\ttotal: 5.05s\tremaining: 8.35s\n",
      "377:\tlearn: 15.9988996\ttotal: 5.06s\tremaining: 8.33s\n",
      "378:\tlearn: 15.9780834\ttotal: 5.08s\tremaining: 8.32s\n",
      "379:\tlearn: 15.9687344\ttotal: 5.09s\tremaining: 8.3s\n",
      "380:\tlearn: 15.9487454\ttotal: 5.1s\tremaining: 8.29s\n",
      "381:\tlearn: 15.9381480\ttotal: 5.12s\tremaining: 8.28s\n",
      "382:\tlearn: 15.9284505\ttotal: 5.13s\tremaining: 8.26s\n",
      "383:\tlearn: 15.9091872\ttotal: 5.14s\tremaining: 8.25s\n",
      "384:\tlearn: 15.9002897\ttotal: 5.15s\tremaining: 8.23s\n",
      "385:\tlearn: 15.8865344\ttotal: 5.17s\tremaining: 8.22s\n",
      "386:\tlearn: 15.8761323\ttotal: 5.18s\tremaining: 8.21s\n",
      "387:\tlearn: 15.8637203\ttotal: 5.19s\tremaining: 8.19s\n",
      "388:\tlearn: 15.8444091\ttotal: 5.21s\tremaining: 8.18s\n",
      "389:\tlearn: 15.8330837\ttotal: 5.22s\tremaining: 8.17s\n",
      "390:\tlearn: 15.8204884\ttotal: 5.24s\tremaining: 8.16s\n",
      "391:\tlearn: 15.8011212\ttotal: 5.26s\tremaining: 8.15s\n",
      "392:\tlearn: 15.7929605\ttotal: 5.27s\tremaining: 8.14s\n",
      "393:\tlearn: 15.7829527\ttotal: 5.28s\tremaining: 8.13s\n",
      "394:\tlearn: 15.7746888\ttotal: 5.3s\tremaining: 8.11s\n",
      "395:\tlearn: 15.7691476\ttotal: 5.31s\tremaining: 8.1s\n",
      "396:\tlearn: 15.7676535\ttotal: 5.32s\tremaining: 8.08s\n",
      "397:\tlearn: 15.7666055\ttotal: 5.33s\tremaining: 8.07s\n",
      "398:\tlearn: 15.7570670\ttotal: 5.35s\tremaining: 8.05s\n",
      "399:\tlearn: 15.7433469\ttotal: 5.36s\tremaining: 8.04s\n",
      "400:\tlearn: 15.7402320\ttotal: 5.37s\tremaining: 8.03s\n",
      "401:\tlearn: 15.7254681\ttotal: 5.38s\tremaining: 8.01s\n",
      "402:\tlearn: 15.7188199\ttotal: 5.4s\tremaining: 8s\n",
      "403:\tlearn: 15.7052041\ttotal: 5.41s\tremaining: 7.98s\n",
      "404:\tlearn: 15.6909901\ttotal: 5.42s\tremaining: 7.97s\n",
      "405:\tlearn: 15.6858255\ttotal: 5.44s\tremaining: 7.96s\n",
      "406:\tlearn: 15.6732817\ttotal: 5.45s\tremaining: 7.94s\n",
      "407:\tlearn: 15.6591482\ttotal: 5.46s\tremaining: 7.93s\n",
      "408:\tlearn: 15.6450466\ttotal: 5.48s\tremaining: 7.92s\n",
      "409:\tlearn: 15.6280143\ttotal: 5.49s\tremaining: 7.9s\n",
      "410:\tlearn: 15.6048196\ttotal: 5.5s\tremaining: 7.89s\n",
      "411:\tlearn: 15.5889102\ttotal: 5.52s\tremaining: 7.87s\n",
      "412:\tlearn: 15.5765052\ttotal: 5.53s\tremaining: 7.86s\n",
      "413:\tlearn: 15.5647042\ttotal: 5.54s\tremaining: 7.84s\n",
      "414:\tlearn: 15.5506440\ttotal: 5.55s\tremaining: 7.83s\n",
      "415:\tlearn: 15.5341149\ttotal: 5.57s\tremaining: 7.82s\n",
      "416:\tlearn: 15.5228957\ttotal: 5.58s\tremaining: 7.8s\n",
      "417:\tlearn: 15.5111839\ttotal: 5.59s\tremaining: 7.79s\n",
      "418:\tlearn: 15.4973425\ttotal: 5.6s\tremaining: 7.77s\n",
      "419:\tlearn: 15.4850572\ttotal: 5.62s\tremaining: 7.76s\n",
      "420:\tlearn: 15.4756175\ttotal: 5.63s\tremaining: 7.74s\n",
      "421:\tlearn: 15.4618330\ttotal: 5.64s\tremaining: 7.73s\n",
      "422:\tlearn: 15.4609545\ttotal: 5.66s\tremaining: 7.71s\n",
      "423:\tlearn: 15.4477166\ttotal: 5.67s\tremaining: 7.7s\n",
      "424:\tlearn: 15.4272481\ttotal: 5.68s\tremaining: 7.68s\n",
      "425:\tlearn: 15.4181179\ttotal: 5.69s\tremaining: 7.67s\n",
      "426:\tlearn: 15.4033329\ttotal: 5.71s\tremaining: 7.66s\n",
      "427:\tlearn: 15.3854366\ttotal: 5.72s\tremaining: 7.64s\n",
      "428:\tlearn: 15.3719120\ttotal: 5.73s\tremaining: 7.63s\n",
      "429:\tlearn: 15.3569665\ttotal: 5.75s\tremaining: 7.62s\n",
      "430:\tlearn: 15.3422627\ttotal: 5.76s\tremaining: 7.6s\n",
      "431:\tlearn: 15.3232296\ttotal: 5.77s\tremaining: 7.59s\n",
      "432:\tlearn: 15.3092620\ttotal: 5.79s\tremaining: 7.58s\n",
      "433:\tlearn: 15.2913350\ttotal: 5.8s\tremaining: 7.56s\n",
      "434:\tlearn: 15.2768510\ttotal: 5.81s\tremaining: 7.55s\n",
      "435:\tlearn: 15.2664530\ttotal: 5.83s\tremaining: 7.54s\n",
      "436:\tlearn: 15.2474973\ttotal: 5.84s\tremaining: 7.53s\n",
      "437:\tlearn: 15.2321144\ttotal: 5.85s\tremaining: 7.51s\n",
      "438:\tlearn: 15.2059369\ttotal: 5.87s\tremaining: 7.5s\n",
      "439:\tlearn: 15.1895210\ttotal: 5.88s\tremaining: 7.48s\n",
      "440:\tlearn: 15.1734850\ttotal: 5.89s\tremaining: 7.47s\n",
      "441:\tlearn: 15.1571514\ttotal: 5.91s\tremaining: 7.45s\n",
      "442:\tlearn: 15.1462387\ttotal: 5.92s\tremaining: 7.44s\n",
      "443:\tlearn: 15.1323822\ttotal: 5.93s\tremaining: 7.42s\n",
      "444:\tlearn: 15.1241644\ttotal: 5.94s\tremaining: 7.41s\n",
      "445:\tlearn: 15.1107203\ttotal: 5.95s\tremaining: 7.4s\n",
      "446:\tlearn: 15.0958054\ttotal: 5.97s\tremaining: 7.38s\n",
      "447:\tlearn: 15.0866883\ttotal: 5.98s\tremaining: 7.37s\n",
      "448:\tlearn: 15.0739979\ttotal: 5.99s\tremaining: 7.35s\n",
      "449:\tlearn: 15.0715679\ttotal: 6s\tremaining: 7.34s\n",
      "450:\tlearn: 15.0603728\ttotal: 6.02s\tremaining: 7.33s\n",
      "451:\tlearn: 15.0467634\ttotal: 6.03s\tremaining: 7.32s\n",
      "452:\tlearn: 15.0274330\ttotal: 6.05s\tremaining: 7.3s\n",
      "453:\tlearn: 15.0102480\ttotal: 6.06s\tremaining: 7.29s\n",
      "454:\tlearn: 14.9999754\ttotal: 6.07s\tremaining: 7.27s\n",
      "455:\tlearn: 14.9903950\ttotal: 6.08s\tremaining: 7.26s\n",
      "456:\tlearn: 14.9779289\ttotal: 6.1s\tremaining: 7.25s\n",
      "457:\tlearn: 14.9679029\ttotal: 6.11s\tremaining: 7.23s\n",
      "458:\tlearn: 14.9548614\ttotal: 6.12s\tremaining: 7.22s\n",
      "459:\tlearn: 14.9428662\ttotal: 6.14s\tremaining: 7.2s\n",
      "460:\tlearn: 14.9417011\ttotal: 6.15s\tremaining: 7.19s\n",
      "461:\tlearn: 14.9322592\ttotal: 6.16s\tremaining: 7.17s\n",
      "462:\tlearn: 14.9133124\ttotal: 6.17s\tremaining: 7.16s\n",
      "463:\tlearn: 14.9010532\ttotal: 6.18s\tremaining: 7.14s\n",
      "464:\tlearn: 14.8864344\ttotal: 6.2s\tremaining: 7.13s\n",
      "465:\tlearn: 14.8805798\ttotal: 6.21s\tremaining: 7.12s\n",
      "466:\tlearn: 14.8728958\ttotal: 6.23s\tremaining: 7.11s\n",
      "467:\tlearn: 14.8705446\ttotal: 6.24s\tremaining: 7.09s\n",
      "468:\tlearn: 14.8681703\ttotal: 6.25s\tremaining: 7.08s\n",
      "469:\tlearn: 14.8533802\ttotal: 6.26s\tremaining: 7.06s\n",
      "470:\tlearn: 14.8358978\ttotal: 6.28s\tremaining: 7.05s\n",
      "471:\tlearn: 14.8238087\ttotal: 6.29s\tremaining: 7.04s\n",
      "472:\tlearn: 14.8227700\ttotal: 6.3s\tremaining: 7.02s\n",
      "473:\tlearn: 14.8034810\ttotal: 6.31s\tremaining: 7.01s\n",
      "474:\tlearn: 14.7817733\ttotal: 6.33s\tremaining: 6.99s\n",
      "475:\tlearn: 14.7709672\ttotal: 6.34s\tremaining: 6.98s\n",
      "476:\tlearn: 14.7693912\ttotal: 6.35s\tremaining: 6.96s\n",
      "477:\tlearn: 14.7611073\ttotal: 6.36s\tremaining: 6.95s\n",
      "478:\tlearn: 14.7497575\ttotal: 6.38s\tremaining: 6.93s\n",
      "479:\tlearn: 14.7392277\ttotal: 6.39s\tremaining: 6.92s\n",
      "480:\tlearn: 14.7292275\ttotal: 6.4s\tremaining: 6.91s\n",
      "481:\tlearn: 14.7181212\ttotal: 6.42s\tremaining: 6.89s\n",
      "482:\tlearn: 14.7109423\ttotal: 6.43s\tremaining: 6.88s\n",
      "483:\tlearn: 14.7021077\ttotal: 6.44s\tremaining: 6.87s\n",
      "484:\tlearn: 14.6881301\ttotal: 6.45s\tremaining: 6.85s\n",
      "485:\tlearn: 14.6737214\ttotal: 6.47s\tremaining: 6.84s\n",
      "486:\tlearn: 14.6612184\ttotal: 6.48s\tremaining: 6.82s\n",
      "487:\tlearn: 14.6465487\ttotal: 6.49s\tremaining: 6.81s\n",
      "488:\tlearn: 14.6406853\ttotal: 6.5s\tremaining: 6.79s\n",
      "489:\tlearn: 14.6337299\ttotal: 6.52s\tremaining: 6.78s\n",
      "490:\tlearn: 14.6233075\ttotal: 6.53s\tremaining: 6.77s\n",
      "491:\tlearn: 14.6085829\ttotal: 6.54s\tremaining: 6.75s\n",
      "492:\tlearn: 14.5952388\ttotal: 6.55s\tremaining: 6.74s\n",
      "493:\tlearn: 14.5821748\ttotal: 6.56s\tremaining: 6.72s\n",
      "494:\tlearn: 14.5708912\ttotal: 6.58s\tremaining: 6.71s\n",
      "495:\tlearn: 14.5596411\ttotal: 6.59s\tremaining: 6.7s\n",
      "496:\tlearn: 14.5467107\ttotal: 6.6s\tremaining: 6.68s\n",
      "497:\tlearn: 14.5407187\ttotal: 6.62s\tremaining: 6.67s\n",
      "498:\tlearn: 14.5309893\ttotal: 6.63s\tremaining: 6.66s\n",
      "499:\tlearn: 14.5151512\ttotal: 6.64s\tremaining: 6.64s\n",
      "500:\tlearn: 14.4981354\ttotal: 6.65s\tremaining: 6.63s\n",
      "501:\tlearn: 14.4867936\ttotal: 6.67s\tremaining: 6.61s\n",
      "502:\tlearn: 14.4740708\ttotal: 6.68s\tremaining: 6.6s\n",
      "503:\tlearn: 14.4619889\ttotal: 6.69s\tremaining: 6.59s\n",
      "504:\tlearn: 14.4467523\ttotal: 6.71s\tremaining: 6.57s\n",
      "505:\tlearn: 14.4367760\ttotal: 6.72s\tremaining: 6.56s\n",
      "506:\tlearn: 14.4274777\ttotal: 6.73s\tremaining: 6.55s\n",
      "507:\tlearn: 14.4259929\ttotal: 6.74s\tremaining: 6.53s\n",
      "508:\tlearn: 14.4251274\ttotal: 6.75s\tremaining: 6.52s\n",
      "509:\tlearn: 14.4152253\ttotal: 6.77s\tremaining: 6.5s\n",
      "510:\tlearn: 14.3997650\ttotal: 6.78s\tremaining: 6.49s\n",
      "511:\tlearn: 14.3832877\ttotal: 6.79s\tremaining: 6.47s\n",
      "512:\tlearn: 14.3825247\ttotal: 6.8s\tremaining: 6.46s\n",
      "513:\tlearn: 14.3660687\ttotal: 6.82s\tremaining: 6.45s\n",
      "514:\tlearn: 14.3536962\ttotal: 6.83s\tremaining: 6.43s\n",
      "515:\tlearn: 14.3324932\ttotal: 6.84s\tremaining: 6.42s\n",
      "516:\tlearn: 14.3182993\ttotal: 6.86s\tremaining: 6.41s\n",
      "517:\tlearn: 14.3170369\ttotal: 6.87s\tremaining: 6.39s\n",
      "518:\tlearn: 14.3100049\ttotal: 6.88s\tremaining: 6.38s\n",
      "519:\tlearn: 14.2980129\ttotal: 6.9s\tremaining: 6.37s\n",
      "520:\tlearn: 14.2838224\ttotal: 6.91s\tremaining: 6.36s\n",
      "521:\tlearn: 14.2719536\ttotal: 6.93s\tremaining: 6.34s\n",
      "522:\tlearn: 14.2614438\ttotal: 6.94s\tremaining: 6.33s\n",
      "523:\tlearn: 14.2544457\ttotal: 6.96s\tremaining: 6.32s\n",
      "524:\tlearn: 14.2404609\ttotal: 6.97s\tremaining: 6.31s\n",
      "525:\tlearn: 14.2311001\ttotal: 6.98s\tremaining: 6.29s\n",
      "526:\tlearn: 14.2205551\ttotal: 7s\tremaining: 6.28s\n",
      "527:\tlearn: 14.2077409\ttotal: 7.01s\tremaining: 6.27s\n",
      "528:\tlearn: 14.1974246\ttotal: 7.02s\tremaining: 6.25s\n",
      "529:\tlearn: 14.1814042\ttotal: 7.03s\tremaining: 6.24s\n",
      "530:\tlearn: 14.1731460\ttotal: 7.05s\tremaining: 6.22s\n",
      "531:\tlearn: 14.1534382\ttotal: 7.06s\tremaining: 6.21s\n",
      "532:\tlearn: 14.1453637\ttotal: 7.07s\tremaining: 6.2s\n",
      "533:\tlearn: 14.1276582\ttotal: 7.09s\tremaining: 6.18s\n",
      "534:\tlearn: 14.1138610\ttotal: 7.1s\tremaining: 6.17s\n",
      "535:\tlearn: 14.1019980\ttotal: 7.11s\tremaining: 6.16s\n",
      "536:\tlearn: 14.0878030\ttotal: 7.12s\tremaining: 6.14s\n",
      "537:\tlearn: 14.0788607\ttotal: 7.13s\tremaining: 6.13s\n",
      "538:\tlearn: 14.0673767\ttotal: 7.15s\tremaining: 6.11s\n",
      "539:\tlearn: 14.0482039\ttotal: 7.16s\tremaining: 6.1s\n",
      "540:\tlearn: 14.0346449\ttotal: 7.17s\tremaining: 6.09s\n",
      "541:\tlearn: 14.0187456\ttotal: 7.19s\tremaining: 6.07s\n",
      "542:\tlearn: 14.0011138\ttotal: 7.2s\tremaining: 6.06s\n",
      "543:\tlearn: 13.9933173\ttotal: 7.21s\tremaining: 6.05s\n",
      "544:\tlearn: 13.9832301\ttotal: 7.23s\tremaining: 6.03s\n",
      "545:\tlearn: 13.9700604\ttotal: 7.24s\tremaining: 6.02s\n",
      "546:\tlearn: 13.9602392\ttotal: 7.25s\tremaining: 6.01s\n",
      "547:\tlearn: 13.9475109\ttotal: 7.27s\tremaining: 6s\n",
      "548:\tlearn: 13.9401385\ttotal: 7.28s\tremaining: 5.98s\n",
      "549:\tlearn: 13.9314498\ttotal: 7.29s\tremaining: 5.97s\n",
      "550:\tlearn: 13.9212380\ttotal: 7.31s\tremaining: 5.95s\n",
      "551:\tlearn: 13.9204298\ttotal: 7.32s\tremaining: 5.94s\n",
      "552:\tlearn: 13.9026405\ttotal: 7.33s\tremaining: 5.93s\n",
      "553:\tlearn: 13.8894516\ttotal: 7.34s\tremaining: 5.91s\n",
      "554:\tlearn: 13.8780126\ttotal: 7.36s\tremaining: 5.9s\n",
      "555:\tlearn: 13.8619600\ttotal: 7.37s\tremaining: 5.88s\n",
      "556:\tlearn: 13.8438900\ttotal: 7.38s\tremaining: 5.87s\n",
      "557:\tlearn: 13.8266185\ttotal: 7.4s\tremaining: 5.86s\n",
      "558:\tlearn: 13.8126475\ttotal: 7.41s\tremaining: 5.85s\n",
      "559:\tlearn: 13.7982376\ttotal: 7.42s\tremaining: 5.83s\n",
      "560:\tlearn: 13.7805957\ttotal: 7.44s\tremaining: 5.82s\n",
      "561:\tlearn: 13.7697207\ttotal: 7.45s\tremaining: 5.81s\n",
      "562:\tlearn: 13.7592656\ttotal: 7.46s\tremaining: 5.79s\n",
      "563:\tlearn: 13.7501023\ttotal: 7.47s\tremaining: 5.78s\n",
      "564:\tlearn: 13.7309875\ttotal: 7.49s\tremaining: 5.76s\n",
      "565:\tlearn: 13.7216382\ttotal: 7.5s\tremaining: 5.75s\n",
      "566:\tlearn: 13.7148848\ttotal: 7.51s\tremaining: 5.74s\n",
      "567:\tlearn: 13.7068358\ttotal: 7.53s\tremaining: 5.72s\n",
      "568:\tlearn: 13.6974376\ttotal: 7.54s\tremaining: 5.71s\n",
      "569:\tlearn: 13.6854029\ttotal: 7.55s\tremaining: 5.7s\n",
      "570:\tlearn: 13.6766599\ttotal: 7.56s\tremaining: 5.68s\n",
      "571:\tlearn: 13.6647252\ttotal: 7.58s\tremaining: 5.67s\n",
      "572:\tlearn: 13.6535373\ttotal: 7.59s\tremaining: 5.65s\n",
      "573:\tlearn: 13.6414614\ttotal: 7.6s\tremaining: 5.64s\n",
      "574:\tlearn: 13.6316602\ttotal: 7.61s\tremaining: 5.63s\n",
      "575:\tlearn: 13.6117323\ttotal: 7.63s\tremaining: 5.61s\n",
      "576:\tlearn: 13.6034492\ttotal: 7.64s\tremaining: 5.6s\n",
      "577:\tlearn: 13.5985767\ttotal: 7.65s\tremaining: 5.59s\n",
      "578:\tlearn: 13.5803902\ttotal: 7.67s\tremaining: 5.57s\n",
      "579:\tlearn: 13.5774129\ttotal: 7.68s\tremaining: 5.56s\n",
      "580:\tlearn: 13.5672235\ttotal: 7.69s\tremaining: 5.54s\n",
      "581:\tlearn: 13.5600462\ttotal: 7.7s\tremaining: 5.53s\n",
      "582:\tlearn: 13.5500084\ttotal: 7.71s\tremaining: 5.52s\n",
      "583:\tlearn: 13.5456727\ttotal: 7.73s\tremaining: 5.5s\n",
      "584:\tlearn: 13.5445121\ttotal: 7.74s\tremaining: 5.49s\n",
      "585:\tlearn: 13.5345444\ttotal: 7.75s\tremaining: 5.48s\n",
      "586:\tlearn: 13.5279760\ttotal: 7.76s\tremaining: 5.46s\n",
      "587:\tlearn: 13.5227228\ttotal: 7.78s\tremaining: 5.45s\n",
      "588:\tlearn: 13.5123685\ttotal: 7.79s\tremaining: 5.44s\n",
      "589:\tlearn: 13.4973177\ttotal: 7.81s\tremaining: 5.42s\n",
      "590:\tlearn: 13.4899983\ttotal: 7.82s\tremaining: 5.41s\n",
      "591:\tlearn: 13.4736338\ttotal: 7.83s\tremaining: 5.4s\n",
      "592:\tlearn: 13.4635923\ttotal: 7.84s\tremaining: 5.38s\n",
      "593:\tlearn: 13.4513121\ttotal: 7.86s\tremaining: 5.37s\n",
      "594:\tlearn: 13.4415527\ttotal: 7.87s\tremaining: 5.36s\n",
      "595:\tlearn: 13.4266273\ttotal: 7.88s\tremaining: 5.34s\n",
      "596:\tlearn: 13.4105186\ttotal: 7.89s\tremaining: 5.33s\n",
      "597:\tlearn: 13.4062277\ttotal: 7.91s\tremaining: 5.32s\n",
      "598:\tlearn: 13.3912692\ttotal: 7.92s\tremaining: 5.3s\n",
      "599:\tlearn: 13.3831075\ttotal: 7.93s\tremaining: 5.29s\n",
      "600:\tlearn: 13.3746529\ttotal: 7.94s\tremaining: 5.27s\n",
      "601:\tlearn: 13.3647226\ttotal: 7.96s\tremaining: 5.26s\n",
      "602:\tlearn: 13.3551367\ttotal: 7.97s\tremaining: 5.25s\n",
      "603:\tlearn: 13.3447817\ttotal: 7.98s\tremaining: 5.23s\n",
      "604:\tlearn: 13.3319741\ttotal: 8s\tremaining: 5.22s\n",
      "605:\tlearn: 13.3234195\ttotal: 8.01s\tremaining: 5.21s\n",
      "606:\tlearn: 13.3162792\ttotal: 8.02s\tremaining: 5.2s\n",
      "607:\tlearn: 13.3117519\ttotal: 8.04s\tremaining: 5.18s\n",
      "608:\tlearn: 13.3027070\ttotal: 8.05s\tremaining: 5.17s\n",
      "609:\tlearn: 13.2934551\ttotal: 8.06s\tremaining: 5.16s\n",
      "610:\tlearn: 13.2809340\ttotal: 8.08s\tremaining: 5.14s\n",
      "611:\tlearn: 13.2737085\ttotal: 8.09s\tremaining: 5.13s\n",
      "612:\tlearn: 13.2593301\ttotal: 8.1s\tremaining: 5.12s\n",
      "613:\tlearn: 13.2501484\ttotal: 8.12s\tremaining: 5.1s\n",
      "614:\tlearn: 13.2400514\ttotal: 8.13s\tremaining: 5.09s\n",
      "615:\tlearn: 13.2229791\ttotal: 8.14s\tremaining: 5.08s\n",
      "616:\tlearn: 13.2186978\ttotal: 8.15s\tremaining: 5.06s\n",
      "617:\tlearn: 13.2081095\ttotal: 8.17s\tremaining: 5.05s\n",
      "618:\tlearn: 13.1989492\ttotal: 8.19s\tremaining: 5.04s\n",
      "619:\tlearn: 13.1889426\ttotal: 8.2s\tremaining: 5.03s\n",
      "620:\tlearn: 13.1786915\ttotal: 8.21s\tremaining: 5.01s\n",
      "621:\tlearn: 13.1656208\ttotal: 8.22s\tremaining: 5s\n",
      "622:\tlearn: 13.1477416\ttotal: 8.24s\tremaining: 4.98s\n",
      "623:\tlearn: 13.1353177\ttotal: 8.25s\tremaining: 4.97s\n",
      "624:\tlearn: 13.1336762\ttotal: 8.26s\tremaining: 4.96s\n",
      "625:\tlearn: 13.1267541\ttotal: 8.27s\tremaining: 4.94s\n",
      "626:\tlearn: 13.1173044\ttotal: 8.29s\tremaining: 4.93s\n",
      "627:\tlearn: 13.1095959\ttotal: 8.3s\tremaining: 4.92s\n",
      "628:\tlearn: 13.0949569\ttotal: 8.31s\tremaining: 4.9s\n",
      "629:\tlearn: 13.0852659\ttotal: 8.32s\tremaining: 4.89s\n",
      "630:\tlearn: 13.0740173\ttotal: 8.34s\tremaining: 4.87s\n",
      "631:\tlearn: 13.0655537\ttotal: 8.35s\tremaining: 4.86s\n",
      "632:\tlearn: 13.0551957\ttotal: 8.36s\tremaining: 4.85s\n",
      "633:\tlearn: 13.0404190\ttotal: 8.38s\tremaining: 4.83s\n",
      "634:\tlearn: 13.0347064\ttotal: 8.39s\tremaining: 4.82s\n",
      "635:\tlearn: 13.0265299\ttotal: 8.4s\tremaining: 4.81s\n",
      "636:\tlearn: 13.0205112\ttotal: 8.41s\tremaining: 4.79s\n",
      "637:\tlearn: 13.0013508\ttotal: 8.43s\tremaining: 4.78s\n",
      "638:\tlearn: 12.9996428\ttotal: 8.44s\tremaining: 4.77s\n",
      "639:\tlearn: 12.9896239\ttotal: 8.45s\tremaining: 4.75s\n",
      "640:\tlearn: 12.9769510\ttotal: 8.46s\tremaining: 4.74s\n",
      "641:\tlearn: 12.9630321\ttotal: 8.48s\tremaining: 4.73s\n",
      "642:\tlearn: 12.9546253\ttotal: 8.49s\tremaining: 4.71s\n",
      "643:\tlearn: 12.9456097\ttotal: 8.51s\tremaining: 4.7s\n",
      "644:\tlearn: 12.9372056\ttotal: 8.52s\tremaining: 4.69s\n",
      "645:\tlearn: 12.9294801\ttotal: 8.53s\tremaining: 4.67s\n",
      "646:\tlearn: 12.9163743\ttotal: 8.54s\tremaining: 4.66s\n",
      "647:\tlearn: 12.9022731\ttotal: 8.56s\tremaining: 4.65s\n",
      "648:\tlearn: 12.8926658\ttotal: 8.57s\tremaining: 4.63s\n",
      "649:\tlearn: 12.8843152\ttotal: 8.58s\tremaining: 4.62s\n",
      "650:\tlearn: 12.8674867\ttotal: 8.6s\tremaining: 4.61s\n",
      "651:\tlearn: 12.8561734\ttotal: 8.61s\tremaining: 4.59s\n",
      "652:\tlearn: 12.8454051\ttotal: 8.62s\tremaining: 4.58s\n",
      "653:\tlearn: 12.8332308\ttotal: 8.64s\tremaining: 4.57s\n",
      "654:\tlearn: 12.8155042\ttotal: 8.65s\tremaining: 4.56s\n",
      "655:\tlearn: 12.8014439\ttotal: 8.66s\tremaining: 4.54s\n",
      "656:\tlearn: 12.7911325\ttotal: 8.68s\tremaining: 4.53s\n",
      "657:\tlearn: 12.7890082\ttotal: 8.69s\tremaining: 4.52s\n",
      "658:\tlearn: 12.7753570\ttotal: 8.7s\tremaining: 4.5s\n",
      "659:\tlearn: 12.7589976\ttotal: 8.71s\tremaining: 4.49s\n",
      "660:\tlearn: 12.7461066\ttotal: 8.73s\tremaining: 4.48s\n",
      "661:\tlearn: 12.7398595\ttotal: 8.74s\tremaining: 4.46s\n",
      "662:\tlearn: 12.7260695\ttotal: 8.75s\tremaining: 4.45s\n",
      "663:\tlearn: 12.7223528\ttotal: 8.76s\tremaining: 4.43s\n",
      "664:\tlearn: 12.7162861\ttotal: 8.78s\tremaining: 4.42s\n",
      "665:\tlearn: 12.7082351\ttotal: 8.79s\tremaining: 4.41s\n",
      "666:\tlearn: 12.6983432\ttotal: 8.8s\tremaining: 4.39s\n",
      "667:\tlearn: 12.6888479\ttotal: 8.82s\tremaining: 4.38s\n",
      "668:\tlearn: 12.6821853\ttotal: 8.83s\tremaining: 4.37s\n",
      "669:\tlearn: 12.6712735\ttotal: 8.84s\tremaining: 4.35s\n",
      "670:\tlearn: 12.6605704\ttotal: 8.85s\tremaining: 4.34s\n",
      "671:\tlearn: 12.6507642\ttotal: 8.87s\tremaining: 4.33s\n",
      "672:\tlearn: 12.6437143\ttotal: 8.88s\tremaining: 4.31s\n",
      "673:\tlearn: 12.6267437\ttotal: 8.89s\tremaining: 4.3s\n",
      "674:\tlearn: 12.6195151\ttotal: 8.91s\tremaining: 4.29s\n",
      "675:\tlearn: 12.6091510\ttotal: 8.92s\tremaining: 4.28s\n",
      "676:\tlearn: 12.6073581\ttotal: 8.93s\tremaining: 4.26s\n",
      "677:\tlearn: 12.5936900\ttotal: 8.95s\tremaining: 4.25s\n",
      "678:\tlearn: 12.5877772\ttotal: 8.96s\tremaining: 4.23s\n",
      "679:\tlearn: 12.5807742\ttotal: 8.97s\tremaining: 4.22s\n",
      "680:\tlearn: 12.5699487\ttotal: 8.98s\tremaining: 4.21s\n",
      "681:\tlearn: 12.5616662\ttotal: 9s\tremaining: 4.2s\n",
      "682:\tlearn: 12.5519431\ttotal: 9.01s\tremaining: 4.18s\n",
      "683:\tlearn: 12.5431754\ttotal: 9.02s\tremaining: 4.17s\n",
      "684:\tlearn: 12.5300924\ttotal: 9.04s\tremaining: 4.16s\n",
      "685:\tlearn: 12.5292533\ttotal: 9.05s\tremaining: 4.14s\n",
      "686:\tlearn: 12.5138308\ttotal: 9.06s\tremaining: 4.13s\n",
      "687:\tlearn: 12.5105295\ttotal: 9.07s\tremaining: 4.12s\n",
      "688:\tlearn: 12.4980938\ttotal: 9.09s\tremaining: 4.1s\n",
      "689:\tlearn: 12.4909219\ttotal: 9.1s\tremaining: 4.09s\n",
      "690:\tlearn: 12.4746719\ttotal: 9.12s\tremaining: 4.08s\n",
      "691:\tlearn: 12.4639953\ttotal: 9.13s\tremaining: 4.06s\n",
      "692:\tlearn: 12.4533884\ttotal: 9.14s\tremaining: 4.05s\n",
      "693:\tlearn: 12.4403248\ttotal: 9.15s\tremaining: 4.04s\n",
      "694:\tlearn: 12.4260178\ttotal: 9.17s\tremaining: 4.02s\n",
      "695:\tlearn: 12.4252386\ttotal: 9.18s\tremaining: 4.01s\n",
      "696:\tlearn: 12.4215880\ttotal: 9.19s\tremaining: 4s\n",
      "697:\tlearn: 12.4149076\ttotal: 9.21s\tremaining: 3.98s\n",
      "698:\tlearn: 12.4056014\ttotal: 9.22s\tremaining: 3.97s\n",
      "699:\tlearn: 12.4036485\ttotal: 9.24s\tremaining: 3.96s\n",
      "700:\tlearn: 12.4011525\ttotal: 9.25s\tremaining: 3.94s\n",
      "701:\tlearn: 12.3971034\ttotal: 9.26s\tremaining: 3.93s\n",
      "702:\tlearn: 12.3963263\ttotal: 9.28s\tremaining: 3.92s\n",
      "703:\tlearn: 12.3780656\ttotal: 9.29s\tremaining: 3.9s\n",
      "704:\tlearn: 12.3730982\ttotal: 9.3s\tremaining: 3.89s\n",
      "705:\tlearn: 12.3519036\ttotal: 9.31s\tremaining: 3.88s\n",
      "706:\tlearn: 12.3480054\ttotal: 9.38s\tremaining: 3.88s\n",
      "707:\tlearn: 12.3360554\ttotal: 9.39s\tremaining: 3.87s\n",
      "708:\tlearn: 12.3272328\ttotal: 9.4s\tremaining: 3.86s\n",
      "709:\tlearn: 12.3104361\ttotal: 9.41s\tremaining: 3.85s\n",
      "710:\tlearn: 12.3000315\ttotal: 9.43s\tremaining: 3.83s\n",
      "711:\tlearn: 12.2925988\ttotal: 9.44s\tremaining: 3.82s\n",
      "712:\tlearn: 12.2850462\ttotal: 9.45s\tremaining: 3.8s\n",
      "713:\tlearn: 12.2842158\ttotal: 9.46s\tremaining: 3.79s\n",
      "714:\tlearn: 12.2684609\ttotal: 9.47s\tremaining: 3.78s\n",
      "715:\tlearn: 12.2594908\ttotal: 9.49s\tremaining: 3.76s\n",
      "716:\tlearn: 12.2445209\ttotal: 9.5s\tremaining: 3.75s\n",
      "717:\tlearn: 12.2327841\ttotal: 9.51s\tremaining: 3.74s\n",
      "718:\tlearn: 12.2225983\ttotal: 9.53s\tremaining: 3.72s\n",
      "719:\tlearn: 12.2099984\ttotal: 9.54s\tremaining: 3.71s\n",
      "720:\tlearn: 12.2007540\ttotal: 9.55s\tremaining: 3.7s\n",
      "721:\tlearn: 12.1965587\ttotal: 9.57s\tremaining: 3.68s\n",
      "722:\tlearn: 12.1946798\ttotal: 9.58s\tremaining: 3.67s\n",
      "723:\tlearn: 12.1889662\ttotal: 9.59s\tremaining: 3.66s\n",
      "724:\tlearn: 12.1818740\ttotal: 9.61s\tremaining: 3.64s\n",
      "725:\tlearn: 12.1761777\ttotal: 9.62s\tremaining: 3.63s\n",
      "726:\tlearn: 12.1635225\ttotal: 9.63s\tremaining: 3.62s\n",
      "727:\tlearn: 12.1550731\ttotal: 9.64s\tremaining: 3.6s\n",
      "728:\tlearn: 12.1477993\ttotal: 9.66s\tremaining: 3.59s\n",
      "729:\tlearn: 12.1400734\ttotal: 9.67s\tremaining: 3.58s\n",
      "730:\tlearn: 12.1354445\ttotal: 9.68s\tremaining: 3.56s\n",
      "731:\tlearn: 12.1251295\ttotal: 9.7s\tremaining: 3.55s\n",
      "732:\tlearn: 12.1172238\ttotal: 9.71s\tremaining: 3.54s\n",
      "733:\tlearn: 12.1160322\ttotal: 9.72s\tremaining: 3.52s\n",
      "734:\tlearn: 12.1115878\ttotal: 9.73s\tremaining: 3.51s\n",
      "735:\tlearn: 12.1042000\ttotal: 9.75s\tremaining: 3.5s\n",
      "736:\tlearn: 12.0936455\ttotal: 9.76s\tremaining: 3.48s\n",
      "737:\tlearn: 12.0834278\ttotal: 9.77s\tremaining: 3.47s\n",
      "738:\tlearn: 12.0772050\ttotal: 9.79s\tremaining: 3.46s\n",
      "739:\tlearn: 12.0641972\ttotal: 9.8s\tremaining: 3.44s\n",
      "740:\tlearn: 12.0635167\ttotal: 9.81s\tremaining: 3.43s\n",
      "741:\tlearn: 12.0624474\ttotal: 9.82s\tremaining: 3.42s\n",
      "742:\tlearn: 12.0521420\ttotal: 9.84s\tremaining: 3.4s\n",
      "743:\tlearn: 12.0515198\ttotal: 9.85s\tremaining: 3.39s\n",
      "744:\tlearn: 12.0398684\ttotal: 9.86s\tremaining: 3.38s\n",
      "745:\tlearn: 12.0391318\ttotal: 9.87s\tremaining: 3.36s\n",
      "746:\tlearn: 12.0345307\ttotal: 9.89s\tremaining: 3.35s\n",
      "747:\tlearn: 12.0190769\ttotal: 9.9s\tremaining: 3.33s\n",
      "748:\tlearn: 12.0092658\ttotal: 9.91s\tremaining: 3.32s\n",
      "749:\tlearn: 12.0086682\ttotal: 9.92s\tremaining: 3.31s\n",
      "750:\tlearn: 12.0029611\ttotal: 9.94s\tremaining: 3.29s\n",
      "751:\tlearn: 11.9991994\ttotal: 9.95s\tremaining: 3.28s\n",
      "752:\tlearn: 11.9885555\ttotal: 9.96s\tremaining: 3.27s\n",
      "753:\tlearn: 11.9755003\ttotal: 9.98s\tremaining: 3.25s\n",
      "754:\tlearn: 11.9656431\ttotal: 9.99s\tremaining: 3.24s\n",
      "755:\tlearn: 11.9539413\ttotal: 10s\tremaining: 3.23s\n",
      "756:\tlearn: 11.9451888\ttotal: 10s\tremaining: 3.21s\n",
      "757:\tlearn: 11.9373584\ttotal: 10s\tremaining: 3.2s\n",
      "758:\tlearn: 11.9289068\ttotal: 10s\tremaining: 3.19s\n",
      "759:\tlearn: 11.9258918\ttotal: 10.1s\tremaining: 3.17s\n",
      "760:\tlearn: 11.9132446\ttotal: 10.1s\tremaining: 3.16s\n",
      "761:\tlearn: 11.8975881\ttotal: 10.1s\tremaining: 3.15s\n",
      "762:\tlearn: 11.8902792\ttotal: 10.1s\tremaining: 3.13s\n",
      "763:\tlearn: 11.8810153\ttotal: 10.1s\tremaining: 3.12s\n",
      "764:\tlearn: 11.8736597\ttotal: 10.1s\tremaining: 3.11s\n",
      "765:\tlearn: 11.8597650\ttotal: 10.1s\tremaining: 3.09s\n",
      "766:\tlearn: 11.8539567\ttotal: 10.1s\tremaining: 3.08s\n",
      "767:\tlearn: 11.8500662\ttotal: 10.2s\tremaining: 3.07s\n",
      "768:\tlearn: 11.8440257\ttotal: 10.2s\tremaining: 3.05s\n",
      "769:\tlearn: 11.8362676\ttotal: 10.2s\tremaining: 3.04s\n",
      "770:\tlearn: 11.8286325\ttotal: 10.2s\tremaining: 3.03s\n",
      "771:\tlearn: 11.8098374\ttotal: 10.2s\tremaining: 3.01s\n",
      "772:\tlearn: 11.8012109\ttotal: 10.2s\tremaining: 3s\n",
      "773:\tlearn: 11.7920186\ttotal: 10.2s\tremaining: 2.99s\n",
      "774:\tlearn: 11.7804475\ttotal: 10.2s\tremaining: 2.97s\n",
      "775:\tlearn: 11.7744987\ttotal: 10.3s\tremaining: 2.96s\n",
      "776:\tlearn: 11.7656292\ttotal: 10.3s\tremaining: 2.95s\n",
      "777:\tlearn: 11.7563324\ttotal: 10.3s\tremaining: 2.93s\n",
      "778:\tlearn: 11.7424617\ttotal: 10.3s\tremaining: 2.92s\n",
      "779:\tlearn: 11.7311078\ttotal: 10.3s\tremaining: 2.91s\n",
      "780:\tlearn: 11.7217054\ttotal: 10.3s\tremaining: 2.89s\n",
      "781:\tlearn: 11.7059200\ttotal: 10.3s\tremaining: 2.88s\n",
      "782:\tlearn: 11.6942310\ttotal: 10.3s\tremaining: 2.87s\n",
      "783:\tlearn: 11.6802783\ttotal: 10.4s\tremaining: 2.85s\n",
      "784:\tlearn: 11.6677595\ttotal: 10.4s\tremaining: 2.84s\n",
      "785:\tlearn: 11.6506790\ttotal: 10.4s\tremaining: 2.83s\n",
      "786:\tlearn: 11.6402349\ttotal: 10.4s\tremaining: 2.81s\n",
      "787:\tlearn: 11.6308077\ttotal: 10.4s\tremaining: 2.8s\n",
      "788:\tlearn: 11.6188860\ttotal: 10.4s\tremaining: 2.79s\n",
      "789:\tlearn: 11.6118745\ttotal: 10.4s\tremaining: 2.77s\n",
      "790:\tlearn: 11.5990508\ttotal: 10.4s\tremaining: 2.76s\n",
      "791:\tlearn: 11.5898198\ttotal: 10.5s\tremaining: 2.75s\n",
      "792:\tlearn: 11.5858029\ttotal: 10.5s\tremaining: 2.73s\n",
      "793:\tlearn: 11.5768779\ttotal: 10.5s\tremaining: 2.72s\n",
      "794:\tlearn: 11.5660601\ttotal: 10.5s\tremaining: 2.7s\n",
      "795:\tlearn: 11.5513078\ttotal: 10.5s\tremaining: 2.69s\n",
      "796:\tlearn: 11.5403214\ttotal: 10.5s\tremaining: 2.68s\n",
      "797:\tlearn: 11.5243116\ttotal: 10.5s\tremaining: 2.66s\n",
      "798:\tlearn: 11.5148516\ttotal: 10.5s\tremaining: 2.65s\n",
      "799:\tlearn: 11.5086377\ttotal: 10.6s\tremaining: 2.64s\n",
      "800:\tlearn: 11.4990560\ttotal: 10.6s\tremaining: 2.63s\n",
      "801:\tlearn: 11.4899231\ttotal: 10.6s\tremaining: 2.61s\n",
      "802:\tlearn: 11.4834643\ttotal: 10.6s\tremaining: 2.6s\n",
      "803:\tlearn: 11.4817645\ttotal: 10.6s\tremaining: 2.58s\n",
      "804:\tlearn: 11.4743544\ttotal: 10.6s\tremaining: 2.57s\n",
      "805:\tlearn: 11.4687755\ttotal: 10.6s\tremaining: 2.56s\n",
      "806:\tlearn: 11.4576654\ttotal: 10.6s\tremaining: 2.54s\n",
      "807:\tlearn: 11.4523222\ttotal: 10.7s\tremaining: 2.53s\n",
      "808:\tlearn: 11.4410360\ttotal: 10.7s\tremaining: 2.52s\n",
      "809:\tlearn: 11.4331031\ttotal: 10.7s\tremaining: 2.5s\n",
      "810:\tlearn: 11.4234194\ttotal: 10.7s\tremaining: 2.49s\n",
      "811:\tlearn: 11.4113063\ttotal: 10.7s\tremaining: 2.48s\n",
      "812:\tlearn: 11.4058798\ttotal: 10.7s\tremaining: 2.46s\n",
      "813:\tlearn: 11.3970504\ttotal: 10.7s\tremaining: 2.45s\n",
      "814:\tlearn: 11.3880486\ttotal: 10.7s\tremaining: 2.44s\n",
      "815:\tlearn: 11.3774516\ttotal: 10.8s\tremaining: 2.42s\n",
      "816:\tlearn: 11.3699029\ttotal: 10.8s\tremaining: 2.41s\n",
      "817:\tlearn: 11.3660546\ttotal: 10.8s\tremaining: 2.4s\n",
      "818:\tlearn: 11.3530638\ttotal: 10.8s\tremaining: 2.38s\n",
      "819:\tlearn: 11.3405245\ttotal: 10.8s\tremaining: 2.37s\n",
      "820:\tlearn: 11.3291585\ttotal: 10.8s\tremaining: 2.36s\n",
      "821:\tlearn: 11.3159966\ttotal: 10.8s\tremaining: 2.35s\n",
      "822:\tlearn: 11.3147598\ttotal: 10.8s\tremaining: 2.33s\n",
      "823:\tlearn: 11.3027285\ttotal: 10.9s\tremaining: 2.32s\n",
      "824:\tlearn: 11.2924014\ttotal: 10.9s\tremaining: 2.3s\n",
      "825:\tlearn: 11.2837397\ttotal: 10.9s\tremaining: 2.29s\n",
      "826:\tlearn: 11.2758833\ttotal: 10.9s\tremaining: 2.28s\n",
      "827:\tlearn: 11.2716958\ttotal: 10.9s\tremaining: 2.27s\n",
      "828:\tlearn: 11.2578683\ttotal: 10.9s\tremaining: 2.25s\n",
      "829:\tlearn: 11.2459641\ttotal: 10.9s\tremaining: 2.24s\n",
      "830:\tlearn: 11.2380341\ttotal: 10.9s\tremaining: 2.23s\n",
      "831:\tlearn: 11.2367455\ttotal: 11s\tremaining: 2.21s\n",
      "832:\tlearn: 11.2267871\ttotal: 11s\tremaining: 2.2s\n",
      "833:\tlearn: 11.2186847\ttotal: 11s\tremaining: 2.19s\n",
      "834:\tlearn: 11.2141222\ttotal: 11s\tremaining: 2.17s\n",
      "835:\tlearn: 11.2048489\ttotal: 11s\tremaining: 2.16s\n",
      "836:\tlearn: 11.2038847\ttotal: 11s\tremaining: 2.15s\n",
      "837:\tlearn: 11.1937268\ttotal: 11s\tremaining: 2.13s\n",
      "838:\tlearn: 11.1825979\ttotal: 11s\tremaining: 2.12s\n",
      "839:\tlearn: 11.1727345\ttotal: 11.1s\tremaining: 2.1s\n",
      "840:\tlearn: 11.1653218\ttotal: 11.1s\tremaining: 2.09s\n",
      "841:\tlearn: 11.1598606\ttotal: 11.1s\tremaining: 2.08s\n",
      "842:\tlearn: 11.1503925\ttotal: 11.1s\tremaining: 2.07s\n",
      "843:\tlearn: 11.1403382\ttotal: 11.1s\tremaining: 2.05s\n",
      "844:\tlearn: 11.1215188\ttotal: 11.1s\tremaining: 2.04s\n",
      "845:\tlearn: 11.1088247\ttotal: 11.1s\tremaining: 2.03s\n",
      "846:\tlearn: 11.1082394\ttotal: 11.1s\tremaining: 2.01s\n",
      "847:\tlearn: 11.1030206\ttotal: 11.2s\tremaining: 2s\n",
      "848:\tlearn: 11.0897777\ttotal: 11.2s\tremaining: 1.99s\n",
      "849:\tlearn: 11.0760483\ttotal: 11.2s\tremaining: 1.97s\n",
      "850:\tlearn: 11.0614306\ttotal: 11.2s\tremaining: 1.96s\n",
      "851:\tlearn: 11.0498454\ttotal: 11.2s\tremaining: 1.95s\n",
      "852:\tlearn: 11.0442537\ttotal: 11.2s\tremaining: 1.93s\n",
      "853:\tlearn: 11.0329266\ttotal: 11.2s\tremaining: 1.92s\n",
      "854:\tlearn: 11.0203217\ttotal: 11.3s\tremaining: 1.91s\n",
      "855:\tlearn: 11.0115828\ttotal: 11.3s\tremaining: 1.9s\n",
      "856:\tlearn: 11.0042892\ttotal: 11.3s\tremaining: 1.88s\n",
      "857:\tlearn: 10.9925310\ttotal: 11.3s\tremaining: 1.87s\n",
      "858:\tlearn: 10.9833850\ttotal: 11.3s\tremaining: 1.85s\n",
      "859:\tlearn: 10.9709345\ttotal: 11.3s\tremaining: 1.84s\n",
      "860:\tlearn: 10.9610333\ttotal: 11.3s\tremaining: 1.83s\n",
      "861:\tlearn: 10.9537799\ttotal: 11.3s\tremaining: 1.81s\n",
      "862:\tlearn: 10.9470110\ttotal: 11.4s\tremaining: 1.8s\n",
      "863:\tlearn: 10.9348958\ttotal: 11.4s\tremaining: 1.79s\n",
      "864:\tlearn: 10.9248844\ttotal: 11.4s\tremaining: 1.77s\n",
      "865:\tlearn: 10.9186703\ttotal: 11.4s\tremaining: 1.76s\n",
      "866:\tlearn: 10.9104073\ttotal: 11.4s\tremaining: 1.75s\n",
      "867:\tlearn: 10.9032021\ttotal: 11.4s\tremaining: 1.74s\n",
      "868:\tlearn: 10.8932721\ttotal: 11.4s\tremaining: 1.72s\n",
      "869:\tlearn: 10.8926557\ttotal: 11.4s\tremaining: 1.71s\n",
      "870:\tlearn: 10.8811320\ttotal: 11.5s\tremaining: 1.7s\n",
      "871:\tlearn: 10.8671335\ttotal: 11.5s\tremaining: 1.68s\n",
      "872:\tlearn: 10.8578048\ttotal: 11.5s\tremaining: 1.67s\n",
      "873:\tlearn: 10.8499398\ttotal: 11.5s\tremaining: 1.66s\n",
      "874:\tlearn: 10.8341860\ttotal: 11.5s\tremaining: 1.64s\n",
      "875:\tlearn: 10.8267035\ttotal: 11.5s\tremaining: 1.63s\n",
      "876:\tlearn: 10.8156115\ttotal: 11.5s\tremaining: 1.62s\n",
      "877:\tlearn: 10.8044181\ttotal: 11.5s\tremaining: 1.6s\n",
      "878:\tlearn: 10.7907904\ttotal: 11.6s\tremaining: 1.59s\n",
      "879:\tlearn: 10.7895124\ttotal: 11.6s\tremaining: 1.58s\n",
      "880:\tlearn: 10.7879041\ttotal: 11.6s\tremaining: 1.56s\n",
      "881:\tlearn: 10.7775316\ttotal: 11.6s\tremaining: 1.55s\n",
      "882:\tlearn: 10.7622397\ttotal: 11.6s\tremaining: 1.54s\n",
      "883:\tlearn: 10.7577652\ttotal: 11.6s\tremaining: 1.52s\n",
      "884:\tlearn: 10.7506296\ttotal: 11.6s\tremaining: 1.51s\n",
      "885:\tlearn: 10.7420261\ttotal: 11.6s\tremaining: 1.5s\n",
      "886:\tlearn: 10.7303636\ttotal: 11.7s\tremaining: 1.49s\n",
      "887:\tlearn: 10.7203221\ttotal: 11.7s\tremaining: 1.47s\n",
      "888:\tlearn: 10.7102887\ttotal: 11.7s\tremaining: 1.46s\n",
      "889:\tlearn: 10.7019567\ttotal: 11.7s\tremaining: 1.45s\n",
      "890:\tlearn: 10.6896729\ttotal: 11.7s\tremaining: 1.43s\n",
      "891:\tlearn: 10.6815179\ttotal: 11.7s\tremaining: 1.42s\n",
      "892:\tlearn: 10.6729628\ttotal: 11.7s\tremaining: 1.41s\n",
      "893:\tlearn: 10.6595976\ttotal: 11.8s\tremaining: 1.39s\n",
      "894:\tlearn: 10.6486013\ttotal: 11.8s\tremaining: 1.38s\n",
      "895:\tlearn: 10.6404186\ttotal: 11.8s\tremaining: 1.37s\n",
      "896:\tlearn: 10.6345987\ttotal: 11.8s\tremaining: 1.35s\n",
      "897:\tlearn: 10.6291894\ttotal: 11.8s\tremaining: 1.34s\n",
      "898:\tlearn: 10.6241951\ttotal: 11.8s\tremaining: 1.33s\n",
      "899:\tlearn: 10.6235297\ttotal: 11.8s\tremaining: 1.31s\n",
      "900:\tlearn: 10.6125232\ttotal: 11.8s\tremaining: 1.3s\n",
      "901:\tlearn: 10.6090823\ttotal: 11.8s\tremaining: 1.29s\n",
      "902:\tlearn: 10.6009897\ttotal: 11.9s\tremaining: 1.27s\n",
      "903:\tlearn: 10.5894916\ttotal: 11.9s\tremaining: 1.26s\n",
      "904:\tlearn: 10.5798116\ttotal: 11.9s\tremaining: 1.25s\n",
      "905:\tlearn: 10.5702307\ttotal: 11.9s\tremaining: 1.23s\n",
      "906:\tlearn: 10.5584177\ttotal: 11.9s\tremaining: 1.22s\n",
      "907:\tlearn: 10.5449194\ttotal: 11.9s\tremaining: 1.21s\n",
      "908:\tlearn: 10.5365808\ttotal: 11.9s\tremaining: 1.19s\n",
      "909:\tlearn: 10.5280497\ttotal: 11.9s\tremaining: 1.18s\n",
      "910:\tlearn: 10.5182173\ttotal: 12s\tremaining: 1.17s\n",
      "911:\tlearn: 10.5076116\ttotal: 12s\tremaining: 1.16s\n",
      "912:\tlearn: 10.4997384\ttotal: 12s\tremaining: 1.14s\n",
      "913:\tlearn: 10.4894117\ttotal: 12s\tremaining: 1.13s\n",
      "914:\tlearn: 10.4808037\ttotal: 12s\tremaining: 1.12s\n",
      "915:\tlearn: 10.4761969\ttotal: 12s\tremaining: 1.1s\n",
      "916:\tlearn: 10.4716273\ttotal: 12s\tremaining: 1.09s\n",
      "917:\tlearn: 10.4633214\ttotal: 12.1s\tremaining: 1.08s\n",
      "918:\tlearn: 10.4564304\ttotal: 12.1s\tremaining: 1.06s\n",
      "919:\tlearn: 10.4499348\ttotal: 12.1s\tremaining: 1.05s\n",
      "920:\tlearn: 10.4405591\ttotal: 12.1s\tremaining: 1.04s\n",
      "921:\tlearn: 10.4332268\ttotal: 12.1s\tremaining: 1.02s\n",
      "922:\tlearn: 10.4325839\ttotal: 12.1s\tremaining: 1.01s\n",
      "923:\tlearn: 10.4264491\ttotal: 12.1s\tremaining: 997ms\n",
      "924:\tlearn: 10.4222873\ttotal: 12.1s\tremaining: 984ms\n",
      "925:\tlearn: 10.4138585\ttotal: 12.2s\tremaining: 971ms\n",
      "926:\tlearn: 10.4056766\ttotal: 12.2s\tremaining: 958ms\n",
      "927:\tlearn: 10.3972008\ttotal: 12.2s\tremaining: 945ms\n",
      "928:\tlearn: 10.3869176\ttotal: 12.2s\tremaining: 932ms\n",
      "929:\tlearn: 10.3782680\ttotal: 12.2s\tremaining: 919ms\n",
      "930:\tlearn: 10.3667808\ttotal: 12.2s\tremaining: 905ms\n",
      "931:\tlearn: 10.3603922\ttotal: 12.2s\tremaining: 892ms\n",
      "932:\tlearn: 10.3540660\ttotal: 12.2s\tremaining: 879ms\n",
      "933:\tlearn: 10.3414313\ttotal: 12.3s\tremaining: 866ms\n",
      "934:\tlearn: 10.3306121\ttotal: 12.3s\tremaining: 853ms\n",
      "935:\tlearn: 10.3244532\ttotal: 12.3s\tremaining: 839ms\n",
      "936:\tlearn: 10.3172502\ttotal: 12.3s\tremaining: 826ms\n",
      "937:\tlearn: 10.3161237\ttotal: 12.3s\tremaining: 813ms\n",
      "938:\tlearn: 10.3121991\ttotal: 12.3s\tremaining: 800ms\n",
      "939:\tlearn: 10.3029319\ttotal: 12.3s\tremaining: 787ms\n",
      "940:\tlearn: 10.2921216\ttotal: 12.3s\tremaining: 774ms\n",
      "941:\tlearn: 10.2907442\ttotal: 12.4s\tremaining: 761ms\n",
      "942:\tlearn: 10.2815118\ttotal: 12.4s\tremaining: 748ms\n",
      "943:\tlearn: 10.2809751\ttotal: 12.4s\tremaining: 735ms\n",
      "944:\tlearn: 10.2803451\ttotal: 12.4s\tremaining: 722ms\n",
      "945:\tlearn: 10.2741837\ttotal: 12.4s\tremaining: 708ms\n",
      "946:\tlearn: 10.2625447\ttotal: 12.4s\tremaining: 695ms\n",
      "947:\tlearn: 10.2550499\ttotal: 12.4s\tremaining: 682ms\n",
      "948:\tlearn: 10.2452622\ttotal: 12.4s\tremaining: 669ms\n",
      "949:\tlearn: 10.2379641\ttotal: 12.5s\tremaining: 656ms\n",
      "950:\tlearn: 10.2273552\ttotal: 12.5s\tremaining: 643ms\n",
      "951:\tlearn: 10.2205535\ttotal: 12.5s\tremaining: 629ms\n",
      "952:\tlearn: 10.2161296\ttotal: 12.5s\tremaining: 616ms\n",
      "953:\tlearn: 10.2104987\ttotal: 12.5s\tremaining: 603ms\n",
      "954:\tlearn: 10.2018542\ttotal: 12.5s\tremaining: 590ms\n",
      "955:\tlearn: 10.1973152\ttotal: 12.5s\tremaining: 577ms\n",
      "956:\tlearn: 10.1959522\ttotal: 12.5s\tremaining: 564ms\n",
      "957:\tlearn: 10.1883328\ttotal: 12.6s\tremaining: 551ms\n",
      "958:\tlearn: 10.1874961\ttotal: 12.6s\tremaining: 537ms\n",
      "959:\tlearn: 10.1741234\ttotal: 12.6s\tremaining: 524ms\n",
      "960:\tlearn: 10.1706338\ttotal: 12.6s\tremaining: 511ms\n",
      "961:\tlearn: 10.1566652\ttotal: 12.6s\tremaining: 498ms\n",
      "962:\tlearn: 10.1459661\ttotal: 12.6s\tremaining: 485ms\n",
      "963:\tlearn: 10.1352548\ttotal: 12.6s\tremaining: 472ms\n",
      "964:\tlearn: 10.1174198\ttotal: 12.6s\tremaining: 459ms\n",
      "965:\tlearn: 10.1160106\ttotal: 12.7s\tremaining: 445ms\n",
      "966:\tlearn: 10.1076411\ttotal: 12.7s\tremaining: 432ms\n",
      "967:\tlearn: 10.0995161\ttotal: 12.7s\tremaining: 419ms\n",
      "968:\tlearn: 10.0919111\ttotal: 12.7s\tremaining: 406ms\n",
      "969:\tlearn: 10.0845821\ttotal: 12.7s\tremaining: 393ms\n",
      "970:\tlearn: 10.0740043\ttotal: 12.7s\tremaining: 380ms\n",
      "971:\tlearn: 10.0664537\ttotal: 12.7s\tremaining: 367ms\n",
      "972:\tlearn: 10.0600092\ttotal: 12.7s\tremaining: 354ms\n",
      "973:\tlearn: 10.0594130\ttotal: 12.8s\tremaining: 341ms\n",
      "974:\tlearn: 10.0536168\ttotal: 12.8s\tremaining: 327ms\n",
      "975:\tlearn: 10.0481339\ttotal: 12.8s\tremaining: 314ms\n",
      "976:\tlearn: 10.0414293\ttotal: 12.8s\tremaining: 301ms\n",
      "977:\tlearn: 10.0355076\ttotal: 12.8s\tremaining: 288ms\n",
      "978:\tlearn: 10.0272508\ttotal: 12.8s\tremaining: 275ms\n",
      "979:\tlearn: 10.0174915\ttotal: 12.8s\tremaining: 262ms\n",
      "980:\tlearn: 10.0122159\ttotal: 12.8s\tremaining: 249ms\n",
      "981:\tlearn: 10.0048194\ttotal: 12.9s\tremaining: 236ms\n",
      "982:\tlearn: 10.0043223\ttotal: 12.9s\tremaining: 223ms\n",
      "983:\tlearn: 9.9959285\ttotal: 12.9s\tremaining: 209ms\n",
      "984:\tlearn: 9.9821808\ttotal: 12.9s\tremaining: 196ms\n",
      "985:\tlearn: 9.9747237\ttotal: 12.9s\tremaining: 183ms\n",
      "986:\tlearn: 9.9621249\ttotal: 12.9s\tremaining: 170ms\n",
      "987:\tlearn: 9.9545397\ttotal: 12.9s\tremaining: 157ms\n",
      "988:\tlearn: 9.9506001\ttotal: 12.9s\tremaining: 144ms\n",
      "989:\tlearn: 9.9412121\ttotal: 13s\tremaining: 131ms\n",
      "990:\tlearn: 9.9316493\ttotal: 13s\tremaining: 118ms\n",
      "991:\tlearn: 9.9222235\ttotal: 13s\tremaining: 105ms\n",
      "992:\tlearn: 9.9112174\ttotal: 13s\tremaining: 91.6ms\n",
      "993:\tlearn: 9.9000244\ttotal: 13s\tremaining: 78.5ms\n",
      "994:\tlearn: 9.8943139\ttotal: 13s\tremaining: 65.4ms\n",
      "995:\tlearn: 9.8870214\ttotal: 13s\tremaining: 52.3ms\n",
      "996:\tlearn: 9.8780950\ttotal: 13s\tremaining: 39.3ms\n",
      "997:\tlearn: 9.8727841\ttotal: 13.1s\tremaining: 26.2ms\n",
      "998:\tlearn: 9.8674216\ttotal: 13.1s\tremaining: 13.1ms\n",
      "999:\tlearn: 9.8632250\ttotal: 13.1s\tremaining: 0us\n",
      "CPU times: user 13.3 s, sys: 236 ms, total: 13.5 s\n",
      "Wall time: 14.8 s\n"
     ]
    },
    {
     "data": {
      "text/plain": [
       "<catboost.core.CatBoostRegressor at 0x7f9a1588eeb0>"
      ]
     },
     "execution_count": 24,
     "metadata": {},
     "output_type": "execute_result"
    }
   ],
   "source": [
    "%%time\n",
    "model_cb.fit(X_train, y_train)"
   ]
  },
  {
   "cell_type": "code",
   "execution_count": 25,
   "metadata": {},
   "outputs": [
    {
     "name": "stdout",
     "output_type": "stream",
     "text": [
      "CPU times: user 6.49 ms, sys: 113 µs, total: 6.6 ms\n",
      "Wall time: 5.38 ms\n"
     ]
    },
    {
     "data": {
      "text/plain": [
       "38.269039006958735"
      ]
     },
     "execution_count": 25,
     "metadata": {},
     "output_type": "execute_result"
    }
   ],
   "source": [
    "%%time\n",
    "prediction(model_cb, X_test, y_test)"
   ]
  },
  {
   "cell_type": "code",
   "execution_count": 26,
   "metadata": {},
   "outputs": [],
   "source": [
    "results.loc[2, 'training_time'] = 12.5 \n",
    "results.loc[2, 'prediction_test_time'] = 0.004\n",
    "results.loc[2,'rmse_test'] = 38.27\n"
   ]
  },
  {
   "cell_type": "markdown",
   "metadata": {},
   "source": [
    "## Тестирование"
   ]
  },
  {
   "cell_type": "code",
   "execution_count": 27,
   "metadata": {},
   "outputs": [
    {
     "data": {
      "text/html": [
       "<div>\n",
       "<style scoped>\n",
       "    .dataframe tbody tr th:only-of-type {\n",
       "        vertical-align: middle;\n",
       "    }\n",
       "\n",
       "    .dataframe tbody tr th {\n",
       "        vertical-align: top;\n",
       "    }\n",
       "\n",
       "    .dataframe thead th {\n",
       "        text-align: right;\n",
       "    }\n",
       "</style>\n",
       "<table border=\"1\" class=\"dataframe\">\n",
       "  <thead>\n",
       "    <tr style=\"text-align: right;\">\n",
       "      <th></th>\n",
       "      <th>model_name</th>\n",
       "      <th>training_time</th>\n",
       "      <th>prediction_test_time</th>\n",
       "      <th>rmse_test</th>\n",
       "    </tr>\n",
       "  </thead>\n",
       "  <tbody>\n",
       "    <tr>\n",
       "      <th>0</th>\n",
       "      <td>LGBMRegressor</td>\n",
       "      <td>1.55</td>\n",
       "      <td>0.110</td>\n",
       "      <td>39.38</td>\n",
       "    </tr>\n",
       "    <tr>\n",
       "      <th>1</th>\n",
       "      <td>GradBoost</td>\n",
       "      <td>2.52</td>\n",
       "      <td>0.004</td>\n",
       "      <td>41.80</td>\n",
       "    </tr>\n",
       "    <tr>\n",
       "      <th>2</th>\n",
       "      <td>CatBoost</td>\n",
       "      <td>12.50</td>\n",
       "      <td>0.004</td>\n",
       "      <td>38.27</td>\n",
       "    </tr>\n",
       "  </tbody>\n",
       "</table>\n",
       "</div>"
      ],
      "text/plain": [
       "      model_name  training_time  prediction_test_time  rmse_test\n",
       "0  LGBMRegressor           1.55                 0.110      39.38\n",
       "1      GradBoost           2.52                 0.004      41.80\n",
       "2       CatBoost          12.50                 0.004      38.27"
      ]
     },
     "execution_count": 27,
     "metadata": {},
     "output_type": "execute_result"
    }
   ],
   "source": [
    "results"
   ]
  },
  {
   "cell_type": "markdown",
   "metadata": {},
   "source": [
    "Из анализа таблицы можно сделать вывод, что все рассмотренные модели показали удовлетворительные результаты и соответствуют требованиям (Значение метрики RMSE на тестовой выборке должно быть не больше 48). Время обучения и время прогнозирования являются дополнительными параметрами оценки качества моделей, но требования по этим параметрам не задавались. Сравнение с примитивными моделями показывает существенное улучшение качества моделей."
   ]
  },
  {
   "cell_type": "code",
   "execution_count": 28,
   "metadata": {},
   "outputs": [],
   "source": [
    "true_pred = pd.DataFrame({ \n",
    "    'y_true' : y_test,\n",
    "    'y_pred' : model_cb.predict(X_test)\n",
    "    })"
   ]
  },
  {
   "cell_type": "code",
   "execution_count": 29,
   "metadata": {},
   "outputs": [
    {
     "data": {
      "image/png": "[encoded data removed]",
      "text/plain": [
       "<Figure size 1512x576 with 1 Axes>"
      ]
     },
     "metadata": {},
     "output_type": "display_data"
    }
   ],
   "source": [
    "true_pred.plot(figsize=(21,8), title='True and prediction values comparison');"
   ]
  },
  {
   "cell_type": "markdown",
   "metadata": {},
   "source": [
    "Сравнение реальных значений и спрогнозированных показывает, что в целом были определены основные особенности временного ряда, но также имеются и выбросы, которые могут определятся другими факторами, например, праздниками или другими особенными днями."
   ]
  },
  {
   "cell_type": "code",
   "execution_count": 30,
   "metadata": {},
   "outputs": [],
   "source": [
    "class plotter:\n",
    " \n",
    "    \n",
    "    def plot_feature_importance(self,importance,names,model_type):\n",
    "\n",
    "        feature_importance = np.array(importance)\n",
    "        feature_names = np.array(names)\n",
    "\n",
    "        #Create a DataFrame using a Dictionary\n",
    "        data={'feature_names':feature_names,'feature_importance':feature_importance}\n",
    "        fi_df = pd.DataFrame(data)\n",
    "\n",
    "        #Sort the DataFrame in order decreasing feature importance\n",
    "        fi_df.sort_values(by=['feature_importance'], ascending=False,inplace=True)\n",
    "\n",
    "        #Define size of bar plot\n",
    "        plt.figure(figsize=(10,8))\n",
    "        #Plot Searborn bar chart\n",
    "        sns.barplot(x=fi_df['feature_importance'], y=fi_df['feature_names'])\n",
    "        #Add chart labels\n",
    "        plt.title(model_type + 'FEATURE IMPORTANCE')\n",
    "        plt.xlabel('FEATURE IMPORTANCE')\n",
    "        plt.ylabel('FEATURE NAMES')\n",
    "        \n",
    "        \n",
    "ds = plotter()"
   ]
  },
  {
   "cell_type": "code",
   "execution_count": 31,
   "metadata": {},
   "outputs": [
    {
     "data": {
      "image/png": "[encoded data removed]",
      "text/plain": [
       "<Figure size 720x576 with 1 Axes>"
      ]
     },
     "metadata": {},
     "output_type": "display_data"
    }
   ],
   "source": [
    "#Посмотрим feature importance у модели lightgbm\n",
    "ds.plot_feature_importance(model_cb.feature_importances_,X_test.columns,'LGBMRegressor ')"
   ]
  },
  {
   "cell_type": "markdown",
   "metadata": {},
   "source": [
    "На графике представлено сравнение важности различных колонок для прогнозирования временного ряда. Наибольшее значение имеют недельный, суточный и двухсуточный цикл(сезон), а также наиболее близкие значения к прогнозируемой величине."
   ]
  },
  {
   "cell_type": "markdown",
   "metadata": {},
   "source": [
    "## Общий вывод"
   ]
  },
  {
   "cell_type": "markdown",
   "metadata": {},
   "source": [
    "Выводы из анализа:\n",
    "- наблюдается несколько периодов: дневной и недельный (может быть есть и более длинные сезонные циклы, но период анализа не очень большой, да и условия ведения бизнеса могут меняться);\n",
    "- имеется явный нелинейный тренд на увеличения заказов. Исходя из этого применение линейных моделей нецелесообразно.\n",
    "- значение метрики RMSE на тестовой выборке должно быть не больше 48 по условию проекта. Прогнозирование на основе предыдущего значения показывает чуть лучшее значение чем на основе среднего, но в целом можно сказать, что качество таких примитивных моделей не очень высокое.\n",
    "\n",
    "- из анализа таблицы можно сделать вывод, что все рассмотренные модели показали удовлетворительные результаты и соответствуют требованиям (Значение метрики RMSE на тестовой выборке должно быть не больше 48). Время обучения и время прогнозирования являются дополнительными параметрами оценки качества моделей, но требования по этим параметрам не задавались. Сравнение с примитивными моделями показывает существенное улучшение качества моделей.\n",
    "- сравнение реальных значений и спрогнозированных показывает, что в целом были определены основные особенности временного ряда, но также имеются и выбросы, которые могут определятся другими факторами, например, праздниками или другими особенными днями.\n",
    "- на графике представлено сравнение важности различных колонок для прогнозирования временного ряда. Наибольшее значение имеют недельный, суточный и двухсуточный цикл(сезон), а также наиболее близкие значения к прогнозируемой величине.\n",
    "\n",
    "__Подбор гиперпараметров не проводил по следующей причине: величина RSME является величиной случайной, распределенная скорее всего по нормальному закону. Поэтому перебрав множество параметров можно получить лучший результат, но он будет получен не из-за того, что лучшая модель действительно лучше прогнозирует, а по причине случайности RSME. Я перебрал разные гиперпараметры и значимого улучшения не получил.__\n"
   ]
  }
 ],
 "metadata": {
  "ExecuteTimeLog": [
   {
    "duration": 1565,
    "start_time": "2022-03-15T11:32:35.117Z"
   },
   {
    "duration": 195,
    "start_time": "2022-03-15T11:32:53.176Z"
   },
   {
    "duration": 14,
    "start_time": "2022-03-15T11:33:04.217Z"
   },
   {
    "duration": 11,
    "start_time": "2022-03-15T11:33:14.795Z"
   },
   {
    "duration": 351,
    "start_time": "2022-03-15T11:33:28.779Z"
   },
   {
    "duration": 476,
    "start_time": "2022-03-15T11:34:26.147Z"
   },
   {
    "duration": 1991,
    "start_time": "2022-03-15T11:35:03.738Z"
   },
   {
    "duration": 399,
    "start_time": "2022-03-15T11:35:25.806Z"
   },
   {
    "duration": 977,
    "start_time": "2022-03-15T11:35:38.607Z"
   },
   {
    "duration": 15,
    "start_time": "2022-03-15T11:37:44.975Z"
   },
   {
    "duration": 7,
    "start_time": "2022-03-15T11:37:52.597Z"
   },
   {
    "duration": 5,
    "start_time": "2022-03-15T11:37:59.038Z"
   },
   {
    "duration": 46,
    "start_time": "2022-03-15T11:38:03.778Z"
   },
   {
    "duration": 13,
    "start_time": "2022-03-15T11:38:08.724Z"
   },
   {
    "duration": 36,
    "start_time": "2022-03-15T11:38:09.447Z"
   },
   {
    "duration": 380,
    "start_time": "2022-03-15T11:38:12.479Z"
   },
   {
    "duration": 257,
    "start_time": "2022-03-15T11:38:15.669Z"
   },
   {
    "duration": 154744,
    "start_time": "2022-03-15T11:39:04.300Z"
   },
   {
    "duration": 2365,
    "start_time": "2022-03-17T11:38:03.818Z"
   },
   {
    "duration": 134,
    "start_time": "2022-03-17T11:38:06.186Z"
   },
   {
    "duration": 16,
    "start_time": "2022-03-17T11:38:06.323Z"
   },
   {
    "duration": 18,
    "start_time": "2022-03-17T11:38:06.341Z"
   },
   {
    "duration": 1378,
    "start_time": "2022-03-17T11:38:06.383Z"
   },
   {
    "duration": 219,
    "start_time": "2022-03-17T11:38:11.333Z"
   },
   {
    "duration": 1409,
    "start_time": "2022-03-17T11:39:54.293Z"
   },
   {
    "duration": 1628,
    "start_time": "2022-03-17T11:40:22.834Z"
   },
   {
    "duration": 11,
    "start_time": "2022-03-17T11:42:40.403Z"
   },
   {
    "duration": 1161,
    "start_time": "2022-03-17T11:43:11.173Z"
   },
   {
    "duration": 1308,
    "start_time": "2022-03-17T11:48:23.356Z"
   },
   {
    "duration": 1141,
    "start_time": "2022-03-17T11:48:45.187Z"
   },
   {
    "duration": 1254,
    "start_time": "2022-03-17T11:54:14.566Z"
   },
   {
    "duration": 1787,
    "start_time": "2022-03-17T11:54:53.535Z"
   },
   {
    "duration": 1223,
    "start_time": "2022-03-17T11:58:28.306Z"
   },
   {
    "duration": 1577,
    "start_time": "2022-03-17T11:58:32.961Z"
   },
   {
    "duration": 1374,
    "start_time": "2022-03-17T11:58:50.837Z"
   },
   {
    "duration": 1324,
    "start_time": "2022-03-17T12:00:46.706Z"
   },
   {
    "duration": 9,
    "start_time": "2022-03-17T12:05:14.128Z"
   },
   {
    "duration": 11,
    "start_time": "2022-03-17T12:05:14.907Z"
   },
   {
    "duration": 12,
    "start_time": "2022-03-17T12:06:58.451Z"
   },
   {
    "duration": 12,
    "start_time": "2022-03-17T12:07:43.718Z"
   },
   {
    "duration": 100,
    "start_time": "2022-03-17T12:11:24.330Z"
   },
   {
    "duration": 9,
    "start_time": "2022-03-17T12:11:33.749Z"
   },
   {
    "duration": 2239,
    "start_time": "2022-03-17T12:12:08.119Z"
   },
   {
    "duration": 7,
    "start_time": "2022-03-17T12:12:42.380Z"
   },
   {
    "duration": 37,
    "start_time": "2022-03-17T12:12:43.590Z"
   },
   {
    "duration": 17,
    "start_time": "2022-03-17T12:12:45.319Z"
   },
   {
    "duration": 5,
    "start_time": "2022-03-17T12:13:58.230Z"
   },
   {
    "duration": 29,
    "start_time": "2022-03-17T12:14:35.191Z"
   },
   {
    "duration": 8,
    "start_time": "2022-03-17T12:14:52.481Z"
   },
   {
    "duration": 17,
    "start_time": "2022-03-17T12:14:59.710Z"
   },
   {
    "duration": 5,
    "start_time": "2022-03-17T12:15:39.430Z"
   },
   {
    "duration": 19,
    "start_time": "2022-03-17T12:15:40.030Z"
   },
   {
    "duration": 2036,
    "start_time": "2022-03-17T12:15:50.280Z"
   },
   {
    "duration": 172,
    "start_time": "2022-03-17T12:15:52.319Z"
   },
   {
    "duration": 18,
    "start_time": "2022-03-17T12:15:52.493Z"
   },
   {
    "duration": 20,
    "start_time": "2022-03-17T12:15:52.515Z"
   },
   {
    "duration": 15,
    "start_time": "2022-03-17T12:15:52.538Z"
   },
   {
    "duration": 1861,
    "start_time": "2022-03-17T12:15:52.556Z"
   },
   {
    "duration": 11,
    "start_time": "2022-03-17T12:15:54.419Z"
   },
   {
    "duration": 22,
    "start_time": "2022-03-17T12:15:54.432Z"
   },
   {
    "duration": 17,
    "start_time": "2022-03-17T12:15:54.457Z"
   },
   {
    "duration": 16,
    "start_time": "2022-03-17T12:15:54.477Z"
   },
   {
    "duration": 49,
    "start_time": "2022-03-17T12:15:54.495Z"
   },
   {
    "duration": 11,
    "start_time": "2022-03-17T12:15:54.546Z"
   },
   {
    "duration": 42,
    "start_time": "2022-03-17T12:15:54.560Z"
   },
   {
    "duration": 73,
    "start_time": "2022-03-17T12:15:54.605Z"
   },
   {
    "duration": 111,
    "start_time": "2022-03-17T12:15:54.681Z"
   },
   {
    "duration": 152599,
    "start_time": "2022-03-17T12:15:54.796Z"
   },
   {
    "duration": 100,
    "start_time": "2022-03-17T12:18:27.400Z"
   },
   {
    "duration": 0,
    "start_time": "2022-03-17T12:18:27.505Z"
   },
   {
    "duration": 0,
    "start_time": "2022-03-17T12:18:27.507Z"
   },
   {
    "duration": 0,
    "start_time": "2022-03-17T12:18:27.509Z"
   },
   {
    "duration": 0,
    "start_time": "2022-03-17T12:18:27.512Z"
   },
   {
    "duration": 0,
    "start_time": "2022-03-17T12:18:27.514Z"
   },
   {
    "duration": 0,
    "start_time": "2022-03-17T12:18:27.516Z"
   },
   {
    "duration": 8,
    "start_time": "2022-03-17T12:42:07.795Z"
   },
   {
    "duration": 513,
    "start_time": "2022-03-17T12:42:12.867Z"
   },
   {
    "duration": 6,
    "start_time": "2022-03-17T13:01:55.479Z"
   },
   {
    "duration": 20,
    "start_time": "2022-03-17T13:02:01.076Z"
   },
   {
    "duration": 15,
    "start_time": "2022-03-17T13:02:01.856Z"
   },
   {
    "duration": 45,
    "start_time": "2022-03-17T13:02:04.017Z"
   },
   {
    "duration": 2126,
    "start_time": "2022-03-17T13:02:15.390Z"
   },
   {
    "duration": 194,
    "start_time": "2022-03-17T13:02:17.518Z"
   },
   {
    "duration": 18,
    "start_time": "2022-03-17T13:02:17.714Z"
   },
   {
    "duration": 17,
    "start_time": "2022-03-17T13:02:17.735Z"
   },
   {
    "duration": 36,
    "start_time": "2022-03-17T13:02:17.755Z"
   },
   {
    "duration": 1370,
    "start_time": "2022-03-17T13:02:17.794Z"
   },
   {
    "duration": 9,
    "start_time": "2022-03-17T13:02:19.167Z"
   },
   {
    "duration": 14,
    "start_time": "2022-03-17T13:02:19.183Z"
   },
   {
    "duration": 15,
    "start_time": "2022-03-17T13:02:19.200Z"
   },
   {
    "duration": 8,
    "start_time": "2022-03-17T13:02:19.220Z"
   },
   {
    "duration": 31,
    "start_time": "2022-03-17T13:02:19.231Z"
   },
   {
    "duration": 15,
    "start_time": "2022-03-17T13:02:19.285Z"
   },
   {
    "duration": 47,
    "start_time": "2022-03-17T13:02:19.302Z"
   },
   {
    "duration": 137,
    "start_time": "2022-03-17T13:02:19.352Z"
   },
   {
    "duration": 398,
    "start_time": "2022-03-17T13:02:19.494Z"
   },
   {
    "duration": 11,
    "start_time": "2022-03-17T13:02:19.895Z"
   },
   {
    "duration": 228,
    "start_time": "2022-03-17T13:02:19.908Z"
   },
   {
    "duration": 19,
    "start_time": "2022-03-17T13:02:20.138Z"
   },
   {
    "duration": 0,
    "start_time": "2022-03-17T13:02:20.159Z"
   },
   {
    "duration": 0,
    "start_time": "2022-03-17T13:02:20.161Z"
   },
   {
    "duration": 0,
    "start_time": "2022-03-17T13:02:20.162Z"
   },
   {
    "duration": 14,
    "start_time": "2022-03-17T13:03:19.867Z"
   },
   {
    "duration": 150,
    "start_time": "2022-03-17T13:03:58.938Z"
   },
   {
    "duration": 2482,
    "start_time": "2022-03-17T13:04:55.141Z"
   },
   {
    "duration": 110,
    "start_time": "2022-03-17T13:04:57.626Z"
   },
   {
    "duration": 17,
    "start_time": "2022-03-17T13:04:57.739Z"
   },
   {
    "duration": 32,
    "start_time": "2022-03-17T13:04:57.760Z"
   },
   {
    "duration": 13,
    "start_time": "2022-03-17T13:04:57.795Z"
   },
   {
    "duration": 1351,
    "start_time": "2022-03-17T13:04:57.810Z"
   },
   {
    "duration": 9,
    "start_time": "2022-03-17T13:04:59.164Z"
   },
   {
    "duration": 19,
    "start_time": "2022-03-17T13:04:59.175Z"
   },
   {
    "duration": 8,
    "start_time": "2022-03-17T13:04:59.196Z"
   },
   {
    "duration": 7,
    "start_time": "2022-03-17T13:04:59.209Z"
   },
   {
    "duration": 66,
    "start_time": "2022-03-17T13:04:59.218Z"
   },
   {
    "duration": 16,
    "start_time": "2022-03-17T13:04:59.286Z"
   },
   {
    "duration": 472,
    "start_time": "2022-03-17T13:04:59.305Z"
   },
   {
    "duration": 0,
    "start_time": "2022-03-17T13:04:59.779Z"
   },
   {
    "duration": 0,
    "start_time": "2022-03-17T13:04:59.784Z"
   },
   {
    "duration": 0,
    "start_time": "2022-03-17T13:04:59.786Z"
   },
   {
    "duration": 0,
    "start_time": "2022-03-17T13:04:59.787Z"
   },
   {
    "duration": 0,
    "start_time": "2022-03-17T13:04:59.788Z"
   },
   {
    "duration": 0,
    "start_time": "2022-03-17T13:04:59.790Z"
   },
   {
    "duration": 0,
    "start_time": "2022-03-17T13:04:59.791Z"
   },
   {
    "duration": 303,
    "start_time": "2022-03-17T13:05:49.981Z"
   },
   {
    "duration": 220,
    "start_time": "2022-03-17T13:05:57.669Z"
   },
   {
    "duration": 254808,
    "start_time": "2022-03-17T13:12:39.085Z"
   },
   {
    "duration": 19,
    "start_time": "2022-03-17T13:18:39.307Z"
   },
   {
    "duration": 106,
    "start_time": "2022-03-17T13:18:39.329Z"
   },
   {
    "duration": 14,
    "start_time": "2022-03-17T13:18:39.438Z"
   },
   {
    "duration": 35,
    "start_time": "2022-03-17T13:18:39.457Z"
   },
   {
    "duration": 12,
    "start_time": "2022-03-17T13:18:39.495Z"
   },
   {
    "duration": 1953,
    "start_time": "2022-03-17T13:18:39.509Z"
   },
   {
    "duration": 27,
    "start_time": "2022-03-17T13:18:41.466Z"
   },
   {
    "duration": 24,
    "start_time": "2022-03-17T13:18:41.497Z"
   },
   {
    "duration": 12,
    "start_time": "2022-03-17T13:18:41.526Z"
   },
   {
    "duration": 41,
    "start_time": "2022-03-17T13:18:41.546Z"
   },
   {
    "duration": 57,
    "start_time": "2022-03-17T13:18:41.591Z"
   },
   {
    "duration": 39,
    "start_time": "2022-03-17T13:18:41.651Z"
   },
   {
    "duration": 97667,
    "start_time": "2022-03-17T13:18:41.693Z"
   },
   {
    "duration": 8,
    "start_time": "2022-03-17T13:20:19.363Z"
   },
   {
    "duration": 350,
    "start_time": "2022-03-17T13:20:19.373Z"
   },
   {
    "duration": 16,
    "start_time": "2022-03-17T13:20:19.726Z"
   },
   {
    "duration": 0,
    "start_time": "2022-03-17T13:20:19.744Z"
   },
   {
    "duration": 1,
    "start_time": "2022-03-17T13:20:19.746Z"
   },
   {
    "duration": 0,
    "start_time": "2022-03-17T13:20:19.748Z"
   },
   {
    "duration": 2239,
    "start_time": "2022-03-17T13:37:30.195Z"
   },
   {
    "duration": 177,
    "start_time": "2022-03-17T13:37:32.437Z"
   },
   {
    "duration": 18,
    "start_time": "2022-03-17T13:37:32.616Z"
   },
   {
    "duration": 27,
    "start_time": "2022-03-17T13:37:32.637Z"
   },
   {
    "duration": 25,
    "start_time": "2022-03-17T13:37:32.667Z"
   },
   {
    "duration": 1402,
    "start_time": "2022-03-17T13:37:32.695Z"
   },
   {
    "duration": 9,
    "start_time": "2022-03-17T13:37:34.099Z"
   },
   {
    "duration": 32,
    "start_time": "2022-03-17T13:37:34.110Z"
   },
   {
    "duration": 33,
    "start_time": "2022-03-17T13:37:34.145Z"
   },
   {
    "duration": 21,
    "start_time": "2022-03-17T13:37:34.182Z"
   },
   {
    "duration": 88,
    "start_time": "2022-03-17T13:37:34.206Z"
   },
   {
    "duration": 22,
    "start_time": "2022-03-17T13:37:34.296Z"
   },
   {
    "duration": 1117468,
    "start_time": "2022-03-17T13:37:34.321Z"
   },
   {
    "duration": 11,
    "start_time": "2022-03-17T13:56:11.793Z"
   },
   {
    "duration": 513,
    "start_time": "2022-03-17T13:56:11.807Z"
   },
   {
    "duration": 17,
    "start_time": "2022-03-17T13:56:12.323Z"
   },
   {
    "duration": 0,
    "start_time": "2022-03-17T13:56:12.343Z"
   },
   {
    "duration": 0,
    "start_time": "2022-03-17T13:56:12.344Z"
   },
   {
    "duration": 0,
    "start_time": "2022-03-17T13:56:12.346Z"
   },
   {
    "duration": 2746,
    "start_time": "2022-03-17T13:59:34.185Z"
   },
   {
    "duration": 288,
    "start_time": "2022-03-17T13:59:36.934Z"
   },
   {
    "duration": 16,
    "start_time": "2022-03-17T13:59:37.225Z"
   },
   {
    "duration": 28,
    "start_time": "2022-03-17T13:59:37.245Z"
   },
   {
    "duration": 17,
    "start_time": "2022-03-17T13:59:37.283Z"
   },
   {
    "duration": 1307,
    "start_time": "2022-03-17T13:59:37.302Z"
   },
   {
    "duration": 10,
    "start_time": "2022-03-17T13:59:38.611Z"
   },
   {
    "duration": 12,
    "start_time": "2022-03-17T13:59:38.623Z"
   },
   {
    "duration": 19,
    "start_time": "2022-03-17T13:59:38.637Z"
   },
   {
    "duration": 25,
    "start_time": "2022-03-17T13:59:38.661Z"
   },
   {
    "duration": 13,
    "start_time": "2022-03-17T13:59:38.689Z"
   },
   {
    "duration": 4292,
    "start_time": "2022-03-17T13:59:38.705Z"
   },
   {
    "duration": 12,
    "start_time": "2022-03-17T13:59:43.000Z"
   },
   {
    "duration": 672,
    "start_time": "2022-03-17T13:59:43.016Z"
   },
   {
    "duration": 16,
    "start_time": "2022-03-17T13:59:43.690Z"
   },
   {
    "duration": 0,
    "start_time": "2022-03-17T13:59:43.709Z"
   },
   {
    "duration": 0,
    "start_time": "2022-03-17T13:59:43.711Z"
   },
   {
    "duration": 0,
    "start_time": "2022-03-17T13:59:43.713Z"
   },
   {
    "duration": 11435,
    "start_time": "2022-03-17T14:00:14.953Z"
   },
   {
    "duration": 52,
    "start_time": "2022-03-18T07:17:06.662Z"
   },
   {
    "duration": 1580,
    "start_time": "2022-03-18T07:17:12.244Z"
   },
   {
    "duration": 116,
    "start_time": "2022-03-18T07:17:13.826Z"
   },
   {
    "duration": 13,
    "start_time": "2022-03-18T07:17:13.944Z"
   },
   {
    "duration": 13,
    "start_time": "2022-03-18T07:17:13.960Z"
   },
   {
    "duration": 21,
    "start_time": "2022-03-18T07:17:13.974Z"
   },
   {
    "duration": 900,
    "start_time": "2022-03-18T07:17:13.997Z"
   },
   {
    "duration": 6,
    "start_time": "2022-03-18T07:17:14.899Z"
   },
   {
    "duration": 8,
    "start_time": "2022-03-18T07:17:14.907Z"
   },
   {
    "duration": 7,
    "start_time": "2022-03-18T07:17:14.916Z"
   },
   {
    "duration": 82,
    "start_time": "2022-03-18T07:17:14.926Z"
   },
   {
    "duration": 8,
    "start_time": "2022-03-18T07:17:15.010Z"
   },
   {
    "duration": 7987,
    "start_time": "2022-03-18T07:17:15.020Z"
   },
   {
    "duration": 6,
    "start_time": "2022-03-18T07:17:23.009Z"
   },
   {
    "duration": 189,
    "start_time": "2022-03-18T07:17:23.017Z"
   },
   {
    "duration": 11,
    "start_time": "2022-03-18T07:17:23.207Z"
   },
   {
    "duration": 0,
    "start_time": "2022-03-18T07:17:23.219Z"
   },
   {
    "duration": 0,
    "start_time": "2022-03-18T07:17:23.220Z"
   },
   {
    "duration": 0,
    "start_time": "2022-03-18T07:17:23.221Z"
   },
   {
    "duration": 16,
    "start_time": "2022-03-18T07:17:47.320Z"
   },
   {
    "duration": 734,
    "start_time": "2022-03-18T07:17:56.228Z"
   },
   {
    "duration": 908,
    "start_time": "2022-03-18T07:18:32.284Z"
   },
   {
    "duration": 969,
    "start_time": "2022-03-18T07:19:32.077Z"
   },
   {
    "duration": 15,
    "start_time": "2022-03-18T07:19:48.562Z"
   },
   {
    "duration": 66,
    "start_time": "2022-03-18T07:20:21.957Z"
   },
   {
    "duration": 15,
    "start_time": "2022-03-18T07:20:30.440Z"
   },
   {
    "duration": 923,
    "start_time": "2022-03-18T07:21:58.045Z"
   },
   {
    "duration": 857,
    "start_time": "2022-03-18T07:24:07.642Z"
   },
   {
    "duration": 662,
    "start_time": "2022-03-18T07:28:42.893Z"
   },
   {
    "duration": 748,
    "start_time": "2022-03-18T07:28:51.453Z"
   },
   {
    "duration": 6,
    "start_time": "2022-03-18T08:36:10.818Z"
   },
   {
    "duration": 111,
    "start_time": "2022-03-18T08:36:10.826Z"
   },
   {
    "duration": 7,
    "start_time": "2022-03-18T08:36:10.939Z"
   },
   {
    "duration": 12,
    "start_time": "2022-03-18T08:36:10.948Z"
   },
   {
    "duration": 10,
    "start_time": "2022-03-18T08:36:10.963Z"
   },
   {
    "duration": 912,
    "start_time": "2022-03-18T08:36:10.975Z"
   },
   {
    "duration": 805,
    "start_time": "2022-03-18T08:36:11.889Z"
   },
   {
    "duration": 15,
    "start_time": "2022-03-18T08:36:12.696Z"
   },
   {
    "duration": 12,
    "start_time": "2022-03-18T08:36:12.713Z"
   },
   {
    "duration": 18,
    "start_time": "2022-03-18T08:36:12.726Z"
   },
   {
    "duration": 0,
    "start_time": "2022-03-18T08:36:12.746Z"
   },
   {
    "duration": 0,
    "start_time": "2022-03-18T08:36:12.748Z"
   },
   {
    "duration": 0,
    "start_time": "2022-03-18T08:36:12.749Z"
   },
   {
    "duration": 0,
    "start_time": "2022-03-18T08:36:12.750Z"
   },
   {
    "duration": 0,
    "start_time": "2022-03-18T08:36:12.750Z"
   },
   {
    "duration": 4,
    "start_time": "2022-03-18T08:36:34.134Z"
   },
   {
    "duration": 32,
    "start_time": "2022-03-18T08:36:35.496Z"
   },
   {
    "duration": 12,
    "start_time": "2022-03-18T08:38:26.182Z"
   },
   {
    "duration": 5,
    "start_time": "2022-03-18T08:43:02.078Z"
   },
   {
    "duration": 292030,
    "start_time": "2022-03-18T08:43:16.516Z"
   },
   {
    "duration": 189,
    "start_time": "2022-03-18T08:48:08.549Z"
   },
   {
    "duration": 9,
    "start_time": "2022-03-18T08:48:08.740Z"
   },
   {
    "duration": 60042,
    "start_time": "2022-03-18T08:49:38.936Z"
   },
   {
    "duration": 15,
    "start_time": "2022-03-18T08:50:38.980Z"
   },
   {
    "duration": 14,
    "start_time": "2022-03-18T08:57:32.100Z"
   },
   {
    "duration": 0,
    "start_time": "2022-03-18T08:57:32.115Z"
   },
   {
    "duration": 0,
    "start_time": "2022-03-18T08:57:32.117Z"
   },
   {
    "duration": 0,
    "start_time": "2022-03-18T08:57:32.117Z"
   },
   {
    "duration": 0,
    "start_time": "2022-03-18T08:57:32.118Z"
   },
   {
    "duration": 0,
    "start_time": "2022-03-18T08:57:32.120Z"
   },
   {
    "duration": 0,
    "start_time": "2022-03-18T08:57:32.121Z"
   },
   {
    "duration": 8,
    "start_time": "2022-03-18T08:57:32.123Z"
   },
   {
    "duration": 0,
    "start_time": "2022-03-18T08:57:32.132Z"
   },
   {
    "duration": 0,
    "start_time": "2022-03-18T08:57:32.133Z"
   },
   {
    "duration": 0,
    "start_time": "2022-03-18T08:57:32.134Z"
   },
   {
    "duration": 0,
    "start_time": "2022-03-18T08:57:32.135Z"
   },
   {
    "duration": 0,
    "start_time": "2022-03-18T08:57:32.137Z"
   },
   {
    "duration": 9,
    "start_time": "2022-03-18T08:57:32.139Z"
   },
   {
    "duration": 0,
    "start_time": "2022-03-18T08:57:32.149Z"
   },
   {
    "duration": 13,
    "start_time": "2022-03-18T08:58:25.554Z"
   },
   {
    "duration": 19,
    "start_time": "2022-03-18T09:09:12.913Z"
   },
   {
    "duration": 815,
    "start_time": "2022-03-18T09:09:20.984Z"
   },
   {
    "duration": 19,
    "start_time": "2022-03-18T09:09:45.015Z"
   },
   {
    "duration": 19,
    "start_time": "2022-03-18T09:09:51.464Z"
   },
   {
    "duration": 18,
    "start_time": "2022-03-18T09:09:55.173Z"
   },
   {
    "duration": 18,
    "start_time": "2022-03-18T09:09:59.475Z"
   },
   {
    "duration": 18,
    "start_time": "2022-03-18T09:10:02.298Z"
   },
   {
    "duration": 18,
    "start_time": "2022-03-18T09:10:05.363Z"
   },
   {
    "duration": 17,
    "start_time": "2022-03-18T09:10:08.906Z"
   },
   {
    "duration": 3,
    "start_time": "2022-03-18T09:10:12.773Z"
   },
   {
    "duration": 3,
    "start_time": "2022-03-18T09:10:19.992Z"
   },
   {
    "duration": 3,
    "start_time": "2022-03-18T09:10:22.506Z"
   },
   {
    "duration": 13,
    "start_time": "2022-03-18T09:10:24.952Z"
   },
   {
    "duration": 3,
    "start_time": "2022-03-18T09:10:44.044Z"
   },
   {
    "duration": 3,
    "start_time": "2022-03-18T09:10:46.813Z"
   },
   {
    "duration": 3,
    "start_time": "2022-03-18T09:10:49.213Z"
   },
   {
    "duration": 12,
    "start_time": "2022-03-18T09:11:47.039Z"
   },
   {
    "duration": 481,
    "start_time": "2022-03-18T10:28:06.436Z"
   },
   {
    "duration": 0,
    "start_time": "2022-03-18T10:28:06.919Z"
   },
   {
    "duration": 0,
    "start_time": "2022-03-18T10:28:06.920Z"
   },
   {
    "duration": 0,
    "start_time": "2022-03-18T10:28:06.921Z"
   },
   {
    "duration": 0,
    "start_time": "2022-03-18T10:28:06.923Z"
   },
   {
    "duration": 0,
    "start_time": "2022-03-18T10:28:06.923Z"
   },
   {
    "duration": 0,
    "start_time": "2022-03-18T10:28:06.924Z"
   },
   {
    "duration": 0,
    "start_time": "2022-03-18T10:28:06.926Z"
   },
   {
    "duration": 0,
    "start_time": "2022-03-18T10:28:06.927Z"
   },
   {
    "duration": 0,
    "start_time": "2022-03-18T10:28:06.928Z"
   },
   {
    "duration": 0,
    "start_time": "2022-03-18T10:28:06.929Z"
   },
   {
    "duration": 0,
    "start_time": "2022-03-18T10:28:06.930Z"
   },
   {
    "duration": 0,
    "start_time": "2022-03-18T10:28:06.931Z"
   },
   {
    "duration": 0,
    "start_time": "2022-03-18T10:28:06.933Z"
   },
   {
    "duration": 0,
    "start_time": "2022-03-18T10:28:06.934Z"
   },
   {
    "duration": 512,
    "start_time": "2022-03-18T10:59:58.114Z"
   },
   {
    "duration": 0,
    "start_time": "2022-03-18T10:59:58.628Z"
   },
   {
    "duration": 0,
    "start_time": "2022-03-18T10:59:58.629Z"
   },
   {
    "duration": 0,
    "start_time": "2022-03-18T10:59:58.630Z"
   },
   {
    "duration": 0,
    "start_time": "2022-03-18T10:59:58.632Z"
   },
   {
    "duration": 0,
    "start_time": "2022-03-18T10:59:58.633Z"
   },
   {
    "duration": 0,
    "start_time": "2022-03-18T10:59:58.634Z"
   },
   {
    "duration": 0,
    "start_time": "2022-03-18T10:59:58.635Z"
   },
   {
    "duration": 0,
    "start_time": "2022-03-18T10:59:58.636Z"
   },
   {
    "duration": 0,
    "start_time": "2022-03-18T10:59:58.638Z"
   },
   {
    "duration": 0,
    "start_time": "2022-03-18T10:59:58.639Z"
   },
   {
    "duration": 0,
    "start_time": "2022-03-18T10:59:58.640Z"
   },
   {
    "duration": 0,
    "start_time": "2022-03-18T10:59:58.642Z"
   },
   {
    "duration": 0,
    "start_time": "2022-03-18T10:59:58.643Z"
   },
   {
    "duration": 0,
    "start_time": "2022-03-18T10:59:58.646Z"
   },
   {
    "duration": 7397,
    "start_time": "2022-03-18T11:01:28.424Z"
   },
   {
    "duration": 16,
    "start_time": "2022-03-18T11:01:41.015Z"
   },
   {
    "duration": 112205,
    "start_time": "2022-03-18T11:03:13.164Z"
   },
   {
    "duration": 14,
    "start_time": "2022-03-18T11:05:05.372Z"
   },
   {
    "duration": 10,
    "start_time": "2022-03-18T11:08:26.648Z"
   },
   {
    "duration": 11,
    "start_time": "2022-03-18T11:08:36.973Z"
   },
   {
    "duration": 517,
    "start_time": "2022-03-18T11:14:41.988Z"
   },
   {
    "duration": 0,
    "start_time": "2022-03-18T11:14:42.508Z"
   },
   {
    "duration": 0,
    "start_time": "2022-03-18T11:14:42.509Z"
   },
   {
    "duration": 1,
    "start_time": "2022-03-18T11:14:42.510Z"
   },
   {
    "duration": 0,
    "start_time": "2022-03-18T11:14:42.511Z"
   },
   {
    "duration": 0,
    "start_time": "2022-03-18T11:14:42.513Z"
   },
   {
    "duration": 0,
    "start_time": "2022-03-18T11:14:42.514Z"
   },
   {
    "duration": 0,
    "start_time": "2022-03-18T11:14:42.515Z"
   },
   {
    "duration": 0,
    "start_time": "2022-03-18T11:14:42.516Z"
   },
   {
    "duration": 0,
    "start_time": "2022-03-18T11:14:42.517Z"
   },
   {
    "duration": 0,
    "start_time": "2022-03-18T11:14:42.518Z"
   },
   {
    "duration": 0,
    "start_time": "2022-03-18T11:14:42.519Z"
   },
   {
    "duration": 0,
    "start_time": "2022-03-18T11:14:42.520Z"
   },
   {
    "duration": 0,
    "start_time": "2022-03-18T11:14:42.521Z"
   },
   {
    "duration": 0,
    "start_time": "2022-03-18T11:14:42.522Z"
   },
   {
    "duration": 777,
    "start_time": "2022-03-18T12:42:06.472Z"
   },
   {
    "duration": 42,
    "start_time": "2022-03-18T12:42:11.890Z"
   },
   {
    "duration": 12,
    "start_time": "2022-03-18T12:42:41.128Z"
   },
   {
    "duration": 12,
    "start_time": "2022-03-18T12:43:19.999Z"
   },
   {
    "duration": 100459,
    "start_time": "2022-03-18T12:46:43.519Z"
   },
   {
    "duration": 17,
    "start_time": "2022-03-18T12:48:23.981Z"
   },
   {
    "duration": 0,
    "start_time": "2022-03-18T12:48:24.000Z"
   },
   {
    "duration": 21796,
    "start_time": "2022-03-18T12:49:16.846Z"
   },
   {
    "duration": 1117,
    "start_time": "2022-03-18T12:49:38.645Z"
   },
   {
    "duration": 121,
    "start_time": "2022-03-18T12:49:39.764Z"
   },
   {
    "duration": 0,
    "start_time": "2022-03-18T12:49:39.887Z"
   },
   {
    "duration": 0,
    "start_time": "2022-03-18T12:49:39.888Z"
   },
   {
    "duration": 0,
    "start_time": "2022-03-18T12:49:39.889Z"
   },
   {
    "duration": 0,
    "start_time": "2022-03-18T12:49:39.891Z"
   },
   {
    "duration": 0,
    "start_time": "2022-03-18T12:49:39.908Z"
   },
   {
    "duration": 0,
    "start_time": "2022-03-18T12:49:39.909Z"
   },
   {
    "duration": 0,
    "start_time": "2022-03-18T12:49:39.910Z"
   },
   {
    "duration": 0,
    "start_time": "2022-03-18T12:49:39.911Z"
   },
   {
    "duration": 0,
    "start_time": "2022-03-18T12:49:39.912Z"
   },
   {
    "duration": 0,
    "start_time": "2022-03-18T12:49:39.913Z"
   },
   {
    "duration": 0,
    "start_time": "2022-03-18T12:49:39.914Z"
   },
   {
    "duration": 0,
    "start_time": "2022-03-18T12:49:39.915Z"
   },
   {
    "duration": 0,
    "start_time": "2022-03-18T12:49:39.916Z"
   },
   {
    "duration": 0,
    "start_time": "2022-03-18T12:49:39.917Z"
   },
   {
    "duration": 0,
    "start_time": "2022-03-18T12:49:39.918Z"
   },
   {
    "duration": 1116,
    "start_time": "2022-03-18T13:07:03.238Z"
   },
   {
    "duration": 598,
    "start_time": "2022-03-18T13:07:04.356Z"
   },
   {
    "duration": 14,
    "start_time": "2022-03-18T13:07:04.956Z"
   },
   {
    "duration": 12,
    "start_time": "2022-03-18T13:07:04.972Z"
   },
   {
    "duration": 13,
    "start_time": "2022-03-18T13:07:04.985Z"
   },
   {
    "duration": 118,
    "start_time": "2022-03-18T13:07:04.999Z"
   },
   {
    "duration": 0,
    "start_time": "2022-03-18T13:07:05.119Z"
   },
   {
    "duration": 0,
    "start_time": "2022-03-18T13:07:05.120Z"
   },
   {
    "duration": 0,
    "start_time": "2022-03-18T13:07:05.121Z"
   },
   {
    "duration": 0,
    "start_time": "2022-03-18T13:07:05.122Z"
   },
   {
    "duration": 0,
    "start_time": "2022-03-18T13:07:05.123Z"
   },
   {
    "duration": 0,
    "start_time": "2022-03-18T13:07:05.124Z"
   },
   {
    "duration": 0,
    "start_time": "2022-03-18T13:07:05.126Z"
   },
   {
    "duration": 0,
    "start_time": "2022-03-18T13:07:05.127Z"
   },
   {
    "duration": 0,
    "start_time": "2022-03-18T13:07:05.128Z"
   },
   {
    "duration": 9347,
    "start_time": "2022-03-18T15:02:35.438Z"
   },
   {
    "duration": 2643,
    "start_time": "2022-03-18T15:03:12.376Z"
   },
   {
    "duration": 6087,
    "start_time": "2022-03-18T15:03:30.814Z"
   },
   {
    "duration": 2734,
    "start_time": "2022-03-18T15:03:36.904Z"
   },
   {
    "duration": 200,
    "start_time": "2022-03-18T15:03:39.640Z"
   },
   {
    "duration": 26,
    "start_time": "2022-03-18T15:03:39.844Z"
   },
   {
    "duration": 20,
    "start_time": "2022-03-18T15:03:39.872Z"
   },
   {
    "duration": 17,
    "start_time": "2022-03-18T15:03:39.895Z"
   },
   {
    "duration": 173,
    "start_time": "2022-03-18T15:03:39.914Z"
   },
   {
    "duration": 0,
    "start_time": "2022-03-18T15:03:40.090Z"
   },
   {
    "duration": 0,
    "start_time": "2022-03-18T15:03:40.091Z"
   },
   {
    "duration": 0,
    "start_time": "2022-03-18T15:03:40.094Z"
   },
   {
    "duration": 0,
    "start_time": "2022-03-18T15:03:40.096Z"
   },
   {
    "duration": 0,
    "start_time": "2022-03-18T15:03:40.098Z"
   },
   {
    "duration": 0,
    "start_time": "2022-03-18T15:03:40.100Z"
   },
   {
    "duration": 0,
    "start_time": "2022-03-18T15:03:40.101Z"
   },
   {
    "duration": 0,
    "start_time": "2022-03-18T15:03:40.103Z"
   },
   {
    "duration": 0,
    "start_time": "2022-03-18T15:03:40.104Z"
   },
   {
    "duration": 512,
    "start_time": "2022-03-18T15:04:04.810Z"
   },
   {
    "duration": 142,
    "start_time": "2022-03-18T15:04:06.024Z"
   },
   {
    "duration": 12,
    "start_time": "2022-03-18T15:04:06.803Z"
   },
   {
    "duration": 16,
    "start_time": "2022-03-18T15:04:07.354Z"
   },
   {
    "duration": 14,
    "start_time": "2022-03-18T15:04:08.244Z"
   },
   {
    "duration": 1345,
    "start_time": "2022-03-18T15:04:09.494Z"
   },
   {
    "duration": 2091,
    "start_time": "2022-03-18T15:05:48.746Z"
   },
   {
    "duration": 128,
    "start_time": "2022-03-18T15:05:50.840Z"
   },
   {
    "duration": 17,
    "start_time": "2022-03-18T15:05:50.970Z"
   },
   {
    "duration": 15,
    "start_time": "2022-03-18T15:05:50.990Z"
   },
   {
    "duration": 52,
    "start_time": "2022-03-18T15:05:51.007Z"
   },
   {
    "duration": 1378,
    "start_time": "2022-03-18T15:05:51.062Z"
   },
   {
    "duration": 1269,
    "start_time": "2022-03-18T15:05:52.442Z"
   },
   {
    "duration": 9,
    "start_time": "2022-03-18T15:05:53.713Z"
   },
   {
    "duration": 28,
    "start_time": "2022-03-18T15:05:53.724Z"
   },
   {
    "duration": 14,
    "start_time": "2022-03-18T15:05:53.756Z"
   },
   {
    "duration": 50,
    "start_time": "2022-03-18T15:05:53.772Z"
   },
   {
    "duration": 194,
    "start_time": "2022-03-18T15:05:53.824Z"
   },
   {
    "duration": 0,
    "start_time": "2022-03-18T15:05:54.020Z"
   },
   {
    "duration": 0,
    "start_time": "2022-03-18T15:05:54.022Z"
   },
   {
    "duration": 0,
    "start_time": "2022-03-18T15:05:54.024Z"
   },
   {
    "duration": 7,
    "start_time": "2022-03-18T15:22:44.606Z"
   },
   {
    "duration": 145,
    "start_time": "2022-03-18T15:22:52.047Z"
   },
   {
    "duration": 5,
    "start_time": "2022-03-18T15:25:34.255Z"
   },
   {
    "duration": 16,
    "start_time": "2022-03-18T15:25:35.036Z"
   },
   {
    "duration": 2286,
    "start_time": "2022-03-18T15:25:52.505Z"
   },
   {
    "duration": 406,
    "start_time": "2022-03-18T15:25:54.795Z"
   },
   {
    "duration": 17,
    "start_time": "2022-03-18T15:25:55.204Z"
   },
   {
    "duration": 16,
    "start_time": "2022-03-18T15:25:55.223Z"
   },
   {
    "duration": 17,
    "start_time": "2022-03-18T15:25:55.242Z"
   },
   {
    "duration": 1386,
    "start_time": "2022-03-18T15:25:55.262Z"
   },
   {
    "duration": 1253,
    "start_time": "2022-03-18T15:25:56.650Z"
   },
   {
    "duration": 10,
    "start_time": "2022-03-18T15:25:57.905Z"
   },
   {
    "duration": 34,
    "start_time": "2022-03-18T15:25:57.917Z"
   },
   {
    "duration": 7,
    "start_time": "2022-03-18T15:25:57.955Z"
   },
   {
    "duration": 52,
    "start_time": "2022-03-18T15:25:57.964Z"
   },
   {
    "duration": 25,
    "start_time": "2022-03-18T15:25:58.018Z"
   },
   {
    "duration": 4,
    "start_time": "2022-03-18T15:25:58.045Z"
   },
   {
    "duration": 12201,
    "start_time": "2022-03-18T15:25:58.051Z"
   },
   {
    "duration": 6,
    "start_time": "2022-03-18T15:26:10.254Z"
   },
   {
    "duration": 248,
    "start_time": "2022-03-18T15:26:10.262Z"
   },
   {
    "duration": 0,
    "start_time": "2022-03-18T15:26:10.512Z"
   },
   {
    "duration": 0,
    "start_time": "2022-03-18T15:26:10.514Z"
   },
   {
    "duration": 0,
    "start_time": "2022-03-18T15:26:10.516Z"
   },
   {
    "duration": 0,
    "start_time": "2022-03-18T15:26:10.517Z"
   },
   {
    "duration": 0,
    "start_time": "2022-03-18T15:26:10.519Z"
   },
   {
    "duration": 0,
    "start_time": "2022-03-18T15:26:10.521Z"
   },
   {
    "duration": 14,
    "start_time": "2022-03-18T15:26:53.714Z"
   },
   {
    "duration": 21,
    "start_time": "2022-03-18T15:27:14.412Z"
   },
   {
    "duration": 11,
    "start_time": "2022-03-18T15:29:03.785Z"
   },
   {
    "duration": 10,
    "start_time": "2022-03-18T15:29:46.416Z"
   },
   {
    "duration": 484,
    "start_time": "2022-03-18T15:29:47.744Z"
   },
   {
    "duration": 16,
    "start_time": "2022-03-18T15:31:35.847Z"
   },
   {
    "duration": 12,
    "start_time": "2022-03-18T15:31:44.816Z"
   },
   {
    "duration": 16,
    "start_time": "2022-03-18T15:32:01.778Z"
   },
   {
    "duration": 51,
    "start_time": "2022-03-18T15:32:10.406Z"
   },
   {
    "duration": 52,
    "start_time": "2022-03-18T15:32:11.297Z"
   },
   {
    "duration": 5,
    "start_time": "2022-03-18T15:32:28.346Z"
   },
   {
    "duration": 4,
    "start_time": "2022-03-18T15:32:28.906Z"
   },
   {
    "duration": 141069,
    "start_time": "2022-03-18T15:32:29.616Z"
   },
   {
    "duration": 0,
    "start_time": "2022-03-18T15:34:50.688Z"
   },
   {
    "duration": 0,
    "start_time": "2022-03-18T15:34:50.690Z"
   },
   {
    "duration": 0,
    "start_time": "2022-03-18T15:34:50.692Z"
   },
   {
    "duration": 0,
    "start_time": "2022-03-18T15:34:50.743Z"
   },
   {
    "duration": 2615,
    "start_time": "2022-03-18T15:36:12.136Z"
   },
   {
    "duration": 139,
    "start_time": "2022-03-18T15:36:14.755Z"
   },
   {
    "duration": 16,
    "start_time": "2022-03-18T15:36:14.896Z"
   },
   {
    "duration": 15,
    "start_time": "2022-03-18T15:36:14.915Z"
   },
   {
    "duration": 20,
    "start_time": "2022-03-18T15:36:14.944Z"
   },
   {
    "duration": 1398,
    "start_time": "2022-03-18T15:36:14.966Z"
   },
   {
    "duration": 1301,
    "start_time": "2022-03-18T15:36:16.366Z"
   },
   {
    "duration": 11,
    "start_time": "2022-03-18T15:36:17.670Z"
   },
   {
    "duration": 15,
    "start_time": "2022-03-18T15:36:17.684Z"
   },
   {
    "duration": 42,
    "start_time": "2022-03-18T15:36:17.703Z"
   },
   {
    "duration": 58,
    "start_time": "2022-03-18T15:36:17.748Z"
   },
   {
    "duration": 4,
    "start_time": "2022-03-18T15:36:17.809Z"
   },
   {
    "duration": 27,
    "start_time": "2022-03-18T15:36:17.816Z"
   },
   {
    "duration": 470812,
    "start_time": "2022-03-18T15:36:17.846Z"
   },
   {
    "duration": 83,
    "start_time": "2022-03-18T15:44:08.660Z"
   },
   {
    "duration": 200,
    "start_time": "2022-03-18T15:44:08.747Z"
   },
   {
    "duration": 101,
    "start_time": "2022-03-18T15:44:08.951Z"
   },
   {
    "duration": 523,
    "start_time": "2022-03-18T15:44:09.055Z"
   },
   {
    "duration": 198,
    "start_time": "2022-03-18T15:44:09.580Z"
   },
   {
    "duration": 0,
    "start_time": "2022-03-18T15:44:09.780Z"
   },
   {
    "duration": 0,
    "start_time": "2022-03-18T15:44:09.782Z"
   },
   {
    "duration": 0,
    "start_time": "2022-03-18T15:44:09.784Z"
   },
   {
    "duration": 593,
    "start_time": "2022-03-18T16:19:42.819Z"
   },
   {
    "duration": 13,
    "start_time": "2022-03-18T16:30:37.550Z"
   },
   {
    "duration": 5,
    "start_time": "2022-03-18T16:30:45.961Z"
   },
   {
    "duration": 12,
    "start_time": "2022-03-18T16:30:52.322Z"
   },
   {
    "duration": 13,
    "start_time": "2022-03-18T16:36:08.190Z"
   },
   {
    "duration": 15,
    "start_time": "2022-03-18T16:37:07.545Z"
   },
   {
    "duration": 13,
    "start_time": "2022-03-18T16:37:52.964Z"
   },
   {
    "duration": 9,
    "start_time": "2022-03-18T16:37:55.222Z"
   },
   {
    "duration": 11,
    "start_time": "2022-03-18T16:37:56.127Z"
   },
   {
    "duration": 12,
    "start_time": "2022-03-18T16:38:08.232Z"
   },
   {
    "duration": 21,
    "start_time": "2022-03-18T16:41:20.290Z"
   },
   {
    "duration": 7,
    "start_time": "2022-03-18T16:41:23.330Z"
   },
   {
    "duration": 22,
    "start_time": "2022-03-18T16:41:23.784Z"
   },
   {
    "duration": 42,
    "start_time": "2022-03-18T16:41:47.437Z"
   },
   {
    "duration": 608,
    "start_time": "2022-03-18T16:41:55.554Z"
   },
   {
    "duration": 2159,
    "start_time": "2022-03-18T16:43:15.646Z"
   },
   {
    "duration": 198,
    "start_time": "2022-03-18T16:43:17.808Z"
   },
   {
    "duration": 18,
    "start_time": "2022-03-18T16:43:18.008Z"
   },
   {
    "duration": 16,
    "start_time": "2022-03-18T16:43:18.028Z"
   },
   {
    "duration": 16,
    "start_time": "2022-03-18T16:43:18.048Z"
   },
   {
    "duration": 1354,
    "start_time": "2022-03-18T16:43:18.066Z"
   },
   {
    "duration": 1388,
    "start_time": "2022-03-18T16:43:19.422Z"
   },
   {
    "duration": 10,
    "start_time": "2022-03-18T16:43:20.812Z"
   },
   {
    "duration": 27,
    "start_time": "2022-03-18T16:43:20.824Z"
   },
   {
    "duration": 10,
    "start_time": "2022-03-18T16:43:20.853Z"
   },
   {
    "duration": 55,
    "start_time": "2022-03-18T16:43:20.865Z"
   },
   {
    "duration": 21,
    "start_time": "2022-03-18T16:43:20.922Z"
   },
   {
    "duration": 7,
    "start_time": "2022-03-18T16:43:20.946Z"
   },
   {
    "duration": 496301,
    "start_time": "2022-03-18T16:43:20.957Z"
   },
   {
    "duration": 0,
    "start_time": "2022-03-18T16:51:37.261Z"
   },
   {
    "duration": 0,
    "start_time": "2022-03-18T16:51:37.263Z"
   },
   {
    "duration": 0,
    "start_time": "2022-03-18T16:51:37.264Z"
   },
   {
    "duration": 0,
    "start_time": "2022-03-18T16:51:37.266Z"
   },
   {
    "duration": 0,
    "start_time": "2022-03-18T16:51:37.268Z"
   },
   {
    "duration": 0,
    "start_time": "2022-03-18T16:51:37.270Z"
   },
   {
    "duration": 5,
    "start_time": "2022-03-18T16:52:21.283Z"
   },
   {
    "duration": 158,
    "start_time": "2022-03-18T16:52:21.855Z"
   },
   {
    "duration": 11,
    "start_time": "2022-03-18T16:52:22.957Z"
   },
   {
    "duration": 5,
    "start_time": "2022-03-18T16:52:23.559Z"
   },
   {
    "duration": 12,
    "start_time": "2022-03-18T16:57:06.036Z"
   },
   {
    "duration": 119,
    "start_time": "2022-03-18T16:57:06.693Z"
   },
   {
    "duration": 2436,
    "start_time": "2022-03-18T16:58:58.952Z"
   },
   {
    "duration": 145,
    "start_time": "2022-03-18T16:59:01.390Z"
   },
   {
    "duration": 21,
    "start_time": "2022-03-18T16:59:01.538Z"
   },
   {
    "duration": 14,
    "start_time": "2022-03-18T16:59:01.564Z"
   },
   {
    "duration": 23,
    "start_time": "2022-03-18T16:59:01.582Z"
   },
   {
    "duration": 18,
    "start_time": "2022-03-18T16:59:01.607Z"
   },
   {
    "duration": 1542,
    "start_time": "2022-03-18T16:59:01.627Z"
   },
   {
    "duration": 1316,
    "start_time": "2022-03-18T16:59:03.172Z"
   },
   {
    "duration": 14,
    "start_time": "2022-03-18T16:59:04.491Z"
   },
   {
    "duration": 45,
    "start_time": "2022-03-18T16:59:04.508Z"
   },
   {
    "duration": 34,
    "start_time": "2022-03-18T16:59:04.556Z"
   },
   {
    "duration": 83,
    "start_time": "2022-03-18T16:59:04.593Z"
   },
   {
    "duration": 4,
    "start_time": "2022-03-18T16:59:04.679Z"
   },
   {
    "duration": 20,
    "start_time": "2022-03-18T16:59:04.687Z"
   },
   {
    "duration": 898104,
    "start_time": "2022-03-18T16:59:04.709Z"
   },
   {
    "duration": 0,
    "start_time": "2022-03-18T17:14:02.815Z"
   },
   {
    "duration": 0,
    "start_time": "2022-03-18T17:14:02.817Z"
   },
   {
    "duration": 0,
    "start_time": "2022-03-18T17:14:02.818Z"
   },
   {
    "duration": 0,
    "start_time": "2022-03-18T17:14:02.819Z"
   },
   {
    "duration": 0,
    "start_time": "2022-03-18T17:14:02.820Z"
   },
   {
    "duration": 0,
    "start_time": "2022-03-18T17:14:02.822Z"
   },
   {
    "duration": 2211,
    "start_time": "2022-03-18T17:16:20.847Z"
   },
   {
    "duration": 140,
    "start_time": "2022-03-18T17:16:23.061Z"
   },
   {
    "duration": 17,
    "start_time": "2022-03-18T17:16:23.204Z"
   },
   {
    "duration": 6,
    "start_time": "2022-03-18T17:16:23.226Z"
   },
   {
    "duration": 22,
    "start_time": "2022-03-18T17:16:23.235Z"
   },
   {
    "duration": 21,
    "start_time": "2022-03-18T17:16:23.261Z"
   },
   {
    "duration": 1807,
    "start_time": "2022-03-18T17:16:23.285Z"
   },
   {
    "duration": 1268,
    "start_time": "2022-03-18T17:16:25.095Z"
   },
   {
    "duration": 15,
    "start_time": "2022-03-18T17:16:26.366Z"
   },
   {
    "duration": 13,
    "start_time": "2022-03-18T17:16:26.386Z"
   },
   {
    "duration": 45,
    "start_time": "2022-03-18T17:16:26.402Z"
   },
   {
    "duration": 65,
    "start_time": "2022-03-18T17:16:26.449Z"
   },
   {
    "duration": 4,
    "start_time": "2022-03-18T17:16:26.516Z"
   },
   {
    "duration": 23,
    "start_time": "2022-03-18T17:16:26.523Z"
   },
   {
    "duration": 762660,
    "start_time": "2022-03-18T17:16:26.551Z"
   },
   {
    "duration": 0,
    "start_time": "2022-03-18T17:29:09.214Z"
   },
   {
    "duration": 0,
    "start_time": "2022-03-18T17:29:09.216Z"
   },
   {
    "duration": 0,
    "start_time": "2022-03-18T17:29:09.218Z"
   },
   {
    "duration": 0,
    "start_time": "2022-03-18T17:29:09.219Z"
   },
   {
    "duration": 0,
    "start_time": "2022-03-18T17:29:09.221Z"
   },
   {
    "duration": 0,
    "start_time": "2022-03-18T17:29:09.222Z"
   },
   {
    "duration": 0,
    "start_time": "2022-03-18T17:29:09.224Z"
   },
   {
    "duration": 2294,
    "start_time": "2022-03-18T17:29:18.272Z"
   },
   {
    "duration": 158,
    "start_time": "2022-03-18T17:29:20.569Z"
   },
   {
    "duration": 21,
    "start_time": "2022-03-18T17:29:20.729Z"
   },
   {
    "duration": 15,
    "start_time": "2022-03-18T17:29:20.753Z"
   },
   {
    "duration": 17,
    "start_time": "2022-03-18T17:29:20.773Z"
   },
   {
    "duration": 17,
    "start_time": "2022-03-18T17:29:20.793Z"
   },
   {
    "duration": 1299,
    "start_time": "2022-03-18T17:29:20.812Z"
   },
   {
    "duration": 1259,
    "start_time": "2022-03-18T17:29:22.114Z"
   },
   {
    "duration": 12,
    "start_time": "2022-03-18T17:29:23.375Z"
   },
   {
    "duration": 15,
    "start_time": "2022-03-18T17:29:23.390Z"
   },
   {
    "duration": 8,
    "start_time": "2022-03-18T17:29:23.408Z"
   },
   {
    "duration": 55,
    "start_time": "2022-03-18T17:29:23.451Z"
   },
   {
    "duration": 5,
    "start_time": "2022-03-18T17:29:23.509Z"
   },
   {
    "duration": 31,
    "start_time": "2022-03-18T17:29:23.520Z"
   },
   {
    "duration": 565955,
    "start_time": "2022-03-18T17:29:23.553Z"
   },
   {
    "duration": 14,
    "start_time": "2022-03-18T17:38:49.511Z"
   },
   {
    "duration": 0,
    "start_time": "2022-03-18T17:38:49.528Z"
   },
   {
    "duration": 0,
    "start_time": "2022-03-18T17:38:49.529Z"
   },
   {
    "duration": 0,
    "start_time": "2022-03-18T17:38:49.531Z"
   },
   {
    "duration": 0,
    "start_time": "2022-03-18T17:38:49.532Z"
   },
   {
    "duration": 0,
    "start_time": "2022-03-18T17:38:49.534Z"
   },
   {
    "duration": 4,
    "start_time": "2022-03-18T17:39:15.313Z"
   },
   {
    "duration": 329365,
    "start_time": "2022-03-18T17:39:16.783Z"
   },
   {
    "duration": 1644,
    "start_time": "2022-03-19T05:38:59.520Z"
   },
   {
    "duration": 144,
    "start_time": "2022-03-19T05:39:01.166Z"
   },
   {
    "duration": 14,
    "start_time": "2022-03-19T05:39:01.312Z"
   },
   {
    "duration": 26,
    "start_time": "2022-03-19T05:39:01.328Z"
   },
   {
    "duration": 49,
    "start_time": "2022-03-19T05:39:01.356Z"
   },
   {
    "duration": 49,
    "start_time": "2022-03-19T05:39:01.407Z"
   },
   {
    "duration": 840,
    "start_time": "2022-03-19T05:39:01.458Z"
   },
   {
    "duration": 779,
    "start_time": "2022-03-19T05:39:02.299Z"
   },
   {
    "duration": 8,
    "start_time": "2022-03-19T05:39:03.080Z"
   },
   {
    "duration": 28,
    "start_time": "2022-03-19T05:39:03.091Z"
   },
   {
    "duration": 19,
    "start_time": "2022-03-19T05:39:03.120Z"
   },
   {
    "duration": 54,
    "start_time": "2022-03-19T05:39:03.141Z"
   },
   {
    "duration": 3,
    "start_time": "2022-03-19T05:39:03.197Z"
   },
   {
    "duration": 1046,
    "start_time": "2022-03-19T05:39:03.201Z"
   },
   {
    "duration": 171,
    "start_time": "2022-03-19T05:39:04.249Z"
   },
   {
    "duration": 0,
    "start_time": "2022-03-19T05:39:04.422Z"
   },
   {
    "duration": 0,
    "start_time": "2022-03-19T05:39:04.423Z"
   },
   {
    "duration": 0,
    "start_time": "2022-03-19T05:39:04.424Z"
   },
   {
    "duration": 0,
    "start_time": "2022-03-19T05:39:04.426Z"
   },
   {
    "duration": 0,
    "start_time": "2022-03-19T05:39:04.427Z"
   },
   {
    "duration": 13,
    "start_time": "2022-03-19T05:45:28.281Z"
   },
   {
    "duration": 4,
    "start_time": "2022-03-19T05:50:16.344Z"
   },
   {
    "duration": 3,
    "start_time": "2022-03-19T05:50:17.012Z"
   },
   {
    "duration": 1241,
    "start_time": "2022-03-19T05:50:17.603Z"
   },
   {
    "duration": 11,
    "start_time": "2022-03-19T05:50:19.321Z"
   },
   {
    "duration": 13,
    "start_time": "2022-03-19T05:50:21.218Z"
   },
   {
    "duration": 9,
    "start_time": "2022-03-19T05:50:23.413Z"
   },
   {
    "duration": 43,
    "start_time": "2022-03-19T05:50:45.464Z"
   },
   {
    "duration": 3,
    "start_time": "2022-03-19T05:50:50.503Z"
   },
   {
    "duration": 4327,
    "start_time": "2022-03-19T05:50:51.363Z"
   },
   {
    "duration": 153,
    "start_time": "2022-03-19T05:50:57.032Z"
   },
   {
    "duration": 10,
    "start_time": "2022-03-19T05:51:24.164Z"
   },
   {
    "duration": 3,
    "start_time": "2022-03-19T05:52:12.553Z"
   },
   {
    "duration": 1692,
    "start_time": "2022-03-19T05:52:13.103Z"
   },
   {
    "duration": 9,
    "start_time": "2022-03-19T05:52:14.797Z"
   },
   {
    "duration": 3,
    "start_time": "2022-03-19T05:52:35.333Z"
   },
   {
    "duration": 4318,
    "start_time": "2022-03-19T05:52:35.693Z"
   },
   {
    "duration": 10,
    "start_time": "2022-03-19T05:52:40.013Z"
   },
   {
    "duration": 12,
    "start_time": "2022-03-19T05:55:08.308Z"
   },
   {
    "duration": 3,
    "start_time": "2022-03-19T05:56:23.705Z"
   },
   {
    "duration": 1124,
    "start_time": "2022-03-19T05:56:24.115Z"
   },
   {
    "duration": 10,
    "start_time": "2022-03-19T05:56:25.241Z"
   },
   {
    "duration": 11,
    "start_time": "2022-03-19T05:56:25.253Z"
   },
   {
    "duration": 11,
    "start_time": "2022-03-19T05:58:16.920Z"
   },
   {
    "duration": 9,
    "start_time": "2022-03-19T05:59:21.349Z"
   },
   {
    "duration": 35,
    "start_time": "2022-03-19T05:59:37.297Z"
   },
   {
    "duration": 11,
    "start_time": "2022-03-19T06:01:23.799Z"
   },
   {
    "duration": 3,
    "start_time": "2022-03-19T06:01:30.477Z"
   },
   {
    "duration": 3,
    "start_time": "2022-03-19T06:02:39.597Z"
   },
   {
    "duration": 4307,
    "start_time": "2022-03-19T06:02:40.648Z"
   },
   {
    "duration": 8830,
    "start_time": "2022-03-19T06:02:54.529Z"
   },
   {
    "duration": 8497,
    "start_time": "2022-03-19T06:03:03.361Z"
   },
   {
    "duration": 10,
    "start_time": "2022-03-19T06:03:11.859Z"
   },
   {
    "duration": 8,
    "start_time": "2022-03-19T06:03:48.001Z"
   },
   {
    "duration": 10,
    "start_time": "2022-03-19T06:04:40.200Z"
   },
   {
    "duration": 11,
    "start_time": "2022-03-19T06:04:51.573Z"
   },
   {
    "duration": 4,
    "start_time": "2022-03-19T06:04:56.591Z"
   },
   {
    "duration": 6,
    "start_time": "2022-03-19T06:04:56.596Z"
   },
   {
    "duration": 82,
    "start_time": "2022-03-19T06:04:56.604Z"
   },
   {
    "duration": 8,
    "start_time": "2022-03-19T06:04:56.688Z"
   },
   {
    "duration": 9,
    "start_time": "2022-03-19T06:04:56.698Z"
   },
   {
    "duration": 16,
    "start_time": "2022-03-19T06:04:56.708Z"
   },
   {
    "duration": 9,
    "start_time": "2022-03-19T06:04:56.725Z"
   },
   {
    "duration": 732,
    "start_time": "2022-03-19T06:04:56.737Z"
   },
   {
    "duration": 786,
    "start_time": "2022-03-19T06:04:57.471Z"
   },
   {
    "duration": 9,
    "start_time": "2022-03-19T06:04:58.259Z"
   },
   {
    "duration": 14,
    "start_time": "2022-03-19T06:04:58.269Z"
   },
   {
    "duration": 8,
    "start_time": "2022-03-19T06:04:58.284Z"
   },
   {
    "duration": 52,
    "start_time": "2022-03-19T06:04:58.294Z"
   },
   {
    "duration": 3,
    "start_time": "2022-03-19T06:04:58.347Z"
   },
   {
    "duration": 12,
    "start_time": "2022-03-19T06:04:58.352Z"
   },
   {
    "duration": 1076,
    "start_time": "2022-03-19T06:04:58.365Z"
   },
   {
    "duration": 11,
    "start_time": "2022-03-19T06:04:59.443Z"
   },
   {
    "duration": 30,
    "start_time": "2022-03-19T06:04:59.456Z"
   },
   {
    "duration": 3,
    "start_time": "2022-03-19T06:04:59.538Z"
   },
   {
    "duration": 1671,
    "start_time": "2022-03-19T06:04:59.543Z"
   },
   {
    "duration": 9,
    "start_time": "2022-03-19T06:05:01.216Z"
   },
   {
    "duration": 26,
    "start_time": "2022-03-19T06:05:01.237Z"
   },
   {
    "duration": 45,
    "start_time": "2022-03-19T06:05:01.265Z"
   },
   {
    "duration": 8792,
    "start_time": "2022-03-19T06:05:01.313Z"
   },
   {
    "duration": 9,
    "start_time": "2022-03-19T06:05:10.106Z"
   },
   {
    "duration": 10,
    "start_time": "2022-03-19T06:05:10.117Z"
   },
   {
    "duration": 14,
    "start_time": "2022-03-19T06:05:10.129Z"
   },
   {
    "duration": 0,
    "start_time": "2022-03-19T06:05:10.145Z"
   },
   {
    "duration": 0,
    "start_time": "2022-03-19T06:05:10.146Z"
   },
   {
    "duration": 0,
    "start_time": "2022-03-19T06:05:10.148Z"
   },
   {
    "duration": 0,
    "start_time": "2022-03-19T06:05:10.149Z"
   },
   {
    "duration": 1494,
    "start_time": "2022-03-19T06:05:49.169Z"
   },
   {
    "duration": 3,
    "start_time": "2022-03-19T06:05:50.664Z"
   },
   {
    "duration": 104,
    "start_time": "2022-03-19T06:05:50.668Z"
   },
   {
    "duration": 10,
    "start_time": "2022-03-19T06:05:50.774Z"
   },
   {
    "duration": 13,
    "start_time": "2022-03-19T06:05:50.786Z"
   },
   {
    "duration": 28,
    "start_time": "2022-03-19T06:05:50.801Z"
   },
   {
    "duration": 10,
    "start_time": "2022-03-19T06:05:50.831Z"
   },
   {
    "duration": 880,
    "start_time": "2022-03-19T06:05:50.842Z"
   },
   {
    "duration": 669,
    "start_time": "2022-03-19T06:05:51.724Z"
   },
   {
    "duration": 8,
    "start_time": "2022-03-19T06:05:52.396Z"
   },
   {
    "duration": 15,
    "start_time": "2022-03-19T06:05:52.406Z"
   },
   {
    "duration": 21,
    "start_time": "2022-03-19T06:05:52.422Z"
   },
   {
    "duration": 40,
    "start_time": "2022-03-19T06:05:52.445Z"
   },
   {
    "duration": 3,
    "start_time": "2022-03-19T06:05:52.486Z"
   },
   {
    "duration": 20,
    "start_time": "2022-03-19T06:05:52.491Z"
   },
   {
    "duration": 1129,
    "start_time": "2022-03-19T06:05:52.512Z"
   },
   {
    "duration": 13,
    "start_time": "2022-03-19T06:05:53.643Z"
   },
   {
    "duration": 12,
    "start_time": "2022-03-19T06:05:53.658Z"
   },
   {
    "duration": 169,
    "start_time": "2022-03-19T06:05:53.672Z"
   },
   {
    "duration": 0,
    "start_time": "2022-03-19T06:05:53.844Z"
   },
   {
    "duration": 0,
    "start_time": "2022-03-19T06:05:53.845Z"
   },
   {
    "duration": 0,
    "start_time": "2022-03-19T06:05:53.846Z"
   },
   {
    "duration": 0,
    "start_time": "2022-03-19T06:05:53.848Z"
   },
   {
    "duration": 0,
    "start_time": "2022-03-19T06:05:53.850Z"
   },
   {
    "duration": 0,
    "start_time": "2022-03-19T06:05:53.851Z"
   },
   {
    "duration": 0,
    "start_time": "2022-03-19T06:05:53.852Z"
   },
   {
    "duration": 0,
    "start_time": "2022-03-19T06:05:53.853Z"
   },
   {
    "duration": 0,
    "start_time": "2022-03-19T06:05:53.855Z"
   },
   {
    "duration": 0,
    "start_time": "2022-03-19T06:05:53.856Z"
   },
   {
    "duration": 0,
    "start_time": "2022-03-19T06:05:53.858Z"
   },
   {
    "duration": 0,
    "start_time": "2022-03-19T06:05:53.859Z"
   },
   {
    "duration": 2,
    "start_time": "2022-03-19T06:07:02.101Z"
   },
   {
    "duration": 1021,
    "start_time": "2022-03-19T06:07:02.724Z"
   },
   {
    "duration": 96,
    "start_time": "2022-03-19T06:07:03.747Z"
   },
   {
    "duration": 10,
    "start_time": "2022-03-19T06:07:03.845Z"
   },
   {
    "duration": 3,
    "start_time": "2022-03-19T06:07:05.020Z"
   },
   {
    "duration": 1633,
    "start_time": "2022-03-19T06:07:05.589Z"
   },
   {
    "duration": 13,
    "start_time": "2022-03-19T06:07:07.224Z"
   },
   {
    "duration": 10,
    "start_time": "2022-03-19T06:07:07.239Z"
   },
   {
    "duration": 3,
    "start_time": "2022-03-19T06:07:08.058Z"
   },
   {
    "duration": 8808,
    "start_time": "2022-03-19T06:07:08.569Z"
   },
   {
    "duration": 8,
    "start_time": "2022-03-19T06:07:17.379Z"
   },
   {
    "duration": 10,
    "start_time": "2022-03-19T06:07:17.389Z"
   },
   {
    "duration": 10,
    "start_time": "2022-03-19T06:07:17.401Z"
   },
   {
    "duration": 10,
    "start_time": "2022-03-19T06:34:04.615Z"
   },
   {
    "duration": 227,
    "start_time": "2022-03-19T06:34:07.723Z"
   },
   {
    "duration": 5,
    "start_time": "2022-03-19T06:34:21.750Z"
   },
   {
    "duration": 349,
    "start_time": "2022-03-19T06:34:29.502Z"
   },
   {
    "duration": 9,
    "start_time": "2022-03-19T06:34:59.480Z"
   },
   {
    "duration": 4,
    "start_time": "2022-03-19T06:38:20.104Z"
   },
   {
    "duration": 339,
    "start_time": "2022-03-19T06:38:22.222Z"
   },
   {
    "duration": 5,
    "start_time": "2022-03-19T06:39:02.773Z"
   },
   {
    "duration": 456,
    "start_time": "2022-03-19T06:39:03.352Z"
   },
   {
    "duration": 277,
    "start_time": "2022-03-19T06:40:07.123Z"
   },
   {
    "duration": 1552,
    "start_time": "2022-03-19T06:43:20.421Z"
   },
   {
    "duration": 3,
    "start_time": "2022-03-19T06:43:21.975Z"
   },
   {
    "duration": 119,
    "start_time": "2022-03-19T06:43:21.979Z"
   },
   {
    "duration": 10,
    "start_time": "2022-03-19T06:43:22.100Z"
   },
   {
    "duration": 4,
    "start_time": "2022-03-19T06:43:22.112Z"
   },
   {
    "duration": 14,
    "start_time": "2022-03-19T06:43:22.118Z"
   },
   {
    "duration": 11,
    "start_time": "2022-03-19T06:43:22.133Z"
   },
   {
    "duration": 864,
    "start_time": "2022-03-19T06:43:22.146Z"
   },
   {
    "duration": 676,
    "start_time": "2022-03-19T06:43:23.011Z"
   },
   {
    "duration": 8,
    "start_time": "2022-03-19T06:43:23.690Z"
   },
   {
    "duration": 8,
    "start_time": "2022-03-19T06:43:23.700Z"
   },
   {
    "duration": 6,
    "start_time": "2022-03-19T06:43:23.710Z"
   },
   {
    "duration": 33,
    "start_time": "2022-03-19T06:43:23.737Z"
   },
   {
    "duration": 4,
    "start_time": "2022-03-19T06:43:23.771Z"
   },
   {
    "duration": 11,
    "start_time": "2022-03-19T06:43:23.776Z"
   },
   {
    "duration": 1161,
    "start_time": "2022-03-19T06:43:23.788Z"
   },
   {
    "duration": 95,
    "start_time": "2022-03-19T06:43:24.951Z"
   },
   {
    "duration": 10,
    "start_time": "2022-03-19T06:43:25.048Z"
   },
   {
    "duration": 0,
    "start_time": "2022-03-19T06:43:25.059Z"
   },
   {
    "duration": 0,
    "start_time": "2022-03-19T06:43:25.060Z"
   },
   {
    "duration": 0,
    "start_time": "2022-03-19T06:43:25.061Z"
   },
   {
    "duration": 0,
    "start_time": "2022-03-19T06:43:25.062Z"
   },
   {
    "duration": 0,
    "start_time": "2022-03-19T06:43:25.063Z"
   },
   {
    "duration": 0,
    "start_time": "2022-03-19T06:43:25.064Z"
   },
   {
    "duration": 0,
    "start_time": "2022-03-19T06:43:25.065Z"
   },
   {
    "duration": 0,
    "start_time": "2022-03-19T06:43:25.066Z"
   },
   {
    "duration": 0,
    "start_time": "2022-03-19T06:43:25.067Z"
   },
   {
    "duration": 0,
    "start_time": "2022-03-19T06:43:25.068Z"
   },
   {
    "duration": 0,
    "start_time": "2022-03-19T06:43:25.069Z"
   },
   {
    "duration": 0,
    "start_time": "2022-03-19T06:43:25.070Z"
   },
   {
    "duration": 0,
    "start_time": "2022-03-19T06:43:25.071Z"
   },
   {
    "duration": 125,
    "start_time": "2022-03-19T06:43:48.506Z"
   },
   {
    "duration": 109,
    "start_time": "2022-03-19T06:43:57.496Z"
   },
   {
    "duration": 12,
    "start_time": "2022-03-19T06:44:09.305Z"
   },
   {
    "duration": 3,
    "start_time": "2022-03-19T06:44:10.567Z"
   },
   {
    "duration": 1654,
    "start_time": "2022-03-19T06:44:10.925Z"
   },
   {
    "duration": 8,
    "start_time": "2022-03-19T06:44:12.581Z"
   },
   {
    "duration": 14,
    "start_time": "2022-03-19T06:44:12.590Z"
   },
   {
    "duration": 5,
    "start_time": "2022-03-19T06:44:12.606Z"
   },
   {
    "duration": 8797,
    "start_time": "2022-03-19T06:44:12.613Z"
   },
   {
    "duration": 7,
    "start_time": "2022-03-19T06:44:21.411Z"
   },
   {
    "duration": 7,
    "start_time": "2022-03-19T06:44:21.420Z"
   },
   {
    "duration": 13,
    "start_time": "2022-03-19T06:44:21.429Z"
   },
   {
    "duration": 12,
    "start_time": "2022-03-19T06:44:21.443Z"
   },
   {
    "duration": 305,
    "start_time": "2022-03-19T06:44:21.457Z"
   },
   {
    "duration": 4,
    "start_time": "2022-03-19T06:44:21.764Z"
   },
   {
    "duration": 340,
    "start_time": "2022-03-19T06:44:21.770Z"
   },
   {
    "duration": 1529,
    "start_time": "2022-03-19T06:45:51.160Z"
   },
   {
    "duration": 3,
    "start_time": "2022-03-19T06:45:52.690Z"
   },
   {
    "duration": 94,
    "start_time": "2022-03-19T06:45:52.694Z"
   },
   {
    "duration": 11,
    "start_time": "2022-03-19T06:45:52.790Z"
   },
   {
    "duration": 13,
    "start_time": "2022-03-19T06:45:52.803Z"
   },
   {
    "duration": 14,
    "start_time": "2022-03-19T06:45:52.817Z"
   },
   {
    "duration": 10,
    "start_time": "2022-03-19T06:45:52.833Z"
   },
   {
    "duration": 873,
    "start_time": "2022-03-19T06:45:52.845Z"
   },
   {
    "duration": 669,
    "start_time": "2022-03-19T06:45:53.720Z"
   },
   {
    "duration": 10,
    "start_time": "2022-03-19T06:45:54.392Z"
   },
   {
    "duration": 9,
    "start_time": "2022-03-19T06:45:54.403Z"
   },
   {
    "duration": 26,
    "start_time": "2022-03-19T06:45:54.414Z"
   },
   {
    "duration": 33,
    "start_time": "2022-03-19T06:45:54.442Z"
   },
   {
    "duration": 3,
    "start_time": "2022-03-19T06:45:54.477Z"
   },
   {
    "duration": 8,
    "start_time": "2022-03-19T06:45:54.482Z"
   },
   {
    "duration": 960,
    "start_time": "2022-03-19T06:45:54.492Z"
   },
   {
    "duration": 94,
    "start_time": "2022-03-19T06:45:55.453Z"
   },
   {
    "duration": 16,
    "start_time": "2022-03-19T06:45:55.548Z"
   },
   {
    "duration": 6,
    "start_time": "2022-03-19T06:45:55.566Z"
   },
   {
    "duration": 1377,
    "start_time": "2022-03-19T06:45:55.573Z"
   },
   {
    "duration": 9,
    "start_time": "2022-03-19T06:45:56.952Z"
   },
   {
    "duration": 11,
    "start_time": "2022-03-19T06:45:56.962Z"
   },
   {
    "duration": 5,
    "start_time": "2022-03-19T06:45:56.974Z"
   },
   {
    "duration": 7341,
    "start_time": "2022-03-19T06:45:56.981Z"
   },
   {
    "duration": 7,
    "start_time": "2022-03-19T06:46:04.324Z"
   },
   {
    "duration": 12,
    "start_time": "2022-03-19T06:46:04.333Z"
   },
   {
    "duration": 27,
    "start_time": "2022-03-19T06:46:04.347Z"
   },
   {
    "duration": 11,
    "start_time": "2022-03-19T06:46:04.377Z"
   },
   {
    "duration": 283,
    "start_time": "2022-03-19T06:46:04.390Z"
   },
   {
    "duration": 6,
    "start_time": "2022-03-19T06:46:04.675Z"
   },
   {
    "duration": 298,
    "start_time": "2022-03-19T06:46:04.683Z"
   },
   {
    "duration": 1516,
    "start_time": "2022-03-19T06:47:07.217Z"
   },
   {
    "duration": 3,
    "start_time": "2022-03-19T06:47:08.735Z"
   },
   {
    "duration": 88,
    "start_time": "2022-03-19T06:47:08.740Z"
   },
   {
    "duration": 11,
    "start_time": "2022-03-19T06:47:08.830Z"
   },
   {
    "duration": 4,
    "start_time": "2022-03-19T06:47:08.843Z"
   },
   {
    "duration": 14,
    "start_time": "2022-03-19T06:47:08.849Z"
   },
   {
    "duration": 10,
    "start_time": "2022-03-19T06:47:08.865Z"
   },
   {
    "duration": 833,
    "start_time": "2022-03-19T06:47:08.876Z"
   },
   {
    "duration": 675,
    "start_time": "2022-03-19T06:47:09.711Z"
   },
   {
    "duration": 7,
    "start_time": "2022-03-19T06:47:10.389Z"
   },
   {
    "duration": 9,
    "start_time": "2022-03-19T06:47:10.398Z"
   },
   {
    "duration": 7,
    "start_time": "2022-03-19T06:47:10.409Z"
   },
   {
    "duration": 59,
    "start_time": "2022-03-19T06:47:10.417Z"
   },
   {
    "duration": 2,
    "start_time": "2022-03-19T06:47:10.478Z"
   },
   {
    "duration": 5,
    "start_time": "2022-03-19T06:47:10.482Z"
   },
   {
    "duration": 1557,
    "start_time": "2022-03-19T06:47:10.488Z"
   },
   {
    "duration": 94,
    "start_time": "2022-03-19T06:47:12.046Z"
   },
   {
    "duration": 12,
    "start_time": "2022-03-19T06:47:12.141Z"
   },
   {
    "duration": 6,
    "start_time": "2022-03-19T06:47:12.154Z"
   },
   {
    "duration": 2529,
    "start_time": "2022-03-19T06:47:12.161Z"
   },
   {
    "duration": 9,
    "start_time": "2022-03-19T06:47:14.692Z"
   },
   {
    "duration": 26,
    "start_time": "2022-03-19T06:47:14.702Z"
   },
   {
    "duration": 21,
    "start_time": "2022-03-19T06:47:14.730Z"
   },
   {
    "duration": 12474,
    "start_time": "2022-03-19T06:47:14.753Z"
   },
   {
    "duration": 7,
    "start_time": "2022-03-19T06:47:27.229Z"
   },
   {
    "duration": 13,
    "start_time": "2022-03-19T06:47:27.238Z"
   },
   {
    "duration": 26,
    "start_time": "2022-03-19T06:47:27.252Z"
   },
   {
    "duration": 8,
    "start_time": "2022-03-19T06:47:27.281Z"
   },
   {
    "duration": 284,
    "start_time": "2022-03-19T06:47:27.291Z"
   },
   {
    "duration": 5,
    "start_time": "2022-03-19T06:47:27.576Z"
   },
   {
    "duration": 825,
    "start_time": "2022-03-19T06:47:27.582Z"
   },
   {
    "duration": 1532,
    "start_time": "2022-03-19T06:50:34.307Z"
   },
   {
    "duration": 3,
    "start_time": "2022-03-19T06:50:35.843Z"
   },
   {
    "duration": 115,
    "start_time": "2022-03-19T06:50:35.847Z"
   },
   {
    "duration": 11,
    "start_time": "2022-03-19T06:50:35.964Z"
   },
   {
    "duration": 14,
    "start_time": "2022-03-19T06:50:35.976Z"
   },
   {
    "duration": 32,
    "start_time": "2022-03-19T06:50:35.992Z"
   },
   {
    "duration": 13,
    "start_time": "2022-03-19T06:50:36.026Z"
   },
   {
    "duration": 894,
    "start_time": "2022-03-19T06:50:36.040Z"
   },
   {
    "duration": 742,
    "start_time": "2022-03-19T06:50:36.936Z"
   },
   {
    "duration": 8,
    "start_time": "2022-03-19T06:50:37.681Z"
   },
   {
    "duration": 24,
    "start_time": "2022-03-19T06:50:37.691Z"
   },
   {
    "duration": 8,
    "start_time": "2022-03-19T06:50:37.716Z"
   },
   {
    "duration": 54,
    "start_time": "2022-03-19T06:50:37.725Z"
   },
   {
    "duration": 3,
    "start_time": "2022-03-19T06:50:37.781Z"
   },
   {
    "duration": 6,
    "start_time": "2022-03-19T06:50:37.786Z"
   },
   {
    "duration": 2546,
    "start_time": "2022-03-19T06:50:37.793Z"
   },
   {
    "duration": 11,
    "start_time": "2022-03-19T06:50:40.341Z"
   },
   {
    "duration": 23,
    "start_time": "2022-03-19T06:50:40.354Z"
   },
   {
    "duration": 13,
    "start_time": "2022-03-19T06:50:40.438Z"
   },
   {
    "duration": 2466,
    "start_time": "2022-03-19T06:50:40.452Z"
   },
   {
    "duration": 8,
    "start_time": "2022-03-19T06:50:42.920Z"
   },
   {
    "duration": 10,
    "start_time": "2022-03-19T06:50:42.938Z"
   },
   {
    "duration": 18,
    "start_time": "2022-03-19T06:50:42.950Z"
   },
   {
    "duration": 12292,
    "start_time": "2022-03-19T06:50:42.969Z"
   },
   {
    "duration": 8,
    "start_time": "2022-03-19T06:50:55.263Z"
   },
   {
    "duration": 4,
    "start_time": "2022-03-19T06:50:55.273Z"
   },
   {
    "duration": 10,
    "start_time": "2022-03-19T06:50:55.279Z"
   },
   {
    "duration": 11,
    "start_time": "2022-03-19T06:50:55.292Z"
   },
   {
    "duration": 278,
    "start_time": "2022-03-19T06:50:55.305Z"
   },
   {
    "duration": 6,
    "start_time": "2022-03-19T06:50:55.585Z"
   },
   {
    "duration": 849,
    "start_time": "2022-03-19T06:50:55.593Z"
   },
   {
    "duration": 7,
    "start_time": "2022-03-19T06:52:16.946Z"
   },
   {
    "duration": 291,
    "start_time": "2022-03-19T06:52:17.635Z"
   },
   {
    "duration": 0,
    "start_time": "2022-03-19T17:20:11.479Z"
   },
   {
    "duration": 0,
    "start_time": "2022-03-19T17:20:11.479Z"
   },
   {
    "duration": 0,
    "start_time": "2022-03-19T17:20:11.480Z"
   },
   {
    "duration": 0,
    "start_time": "2022-03-19T17:20:11.482Z"
   },
   {
    "duration": 0,
    "start_time": "2022-03-19T17:20:11.500Z"
   },
   {
    "duration": 83547,
    "start_time": "2022-03-19T17:34:46.425Z"
   },
   {
    "duration": 2,
    "start_time": "2022-03-19T17:36:50.486Z"
   },
   {
    "duration": 149,
    "start_time": "2022-03-19T17:36:51.030Z"
   },
   {
    "duration": 14,
    "start_time": "2022-03-19T17:36:51.416Z"
   },
   {
    "duration": 5,
    "start_time": "2022-03-19T17:36:51.619Z"
   },
   {
    "duration": 11,
    "start_time": "2022-03-19T17:36:52.404Z"
   },
   {
    "duration": 13,
    "start_time": "2022-03-19T17:37:16.083Z"
   },
   {
    "duration": 943,
    "start_time": "2022-03-19T17:37:17.663Z"
   },
   {
    "duration": 744,
    "start_time": "2022-03-19T17:37:18.950Z"
   },
   {
    "duration": 10,
    "start_time": "2022-03-19T17:37:21.420Z"
   },
   {
    "duration": 10,
    "start_time": "2022-03-19T17:37:22.359Z"
   },
   {
    "duration": 6,
    "start_time": "2022-03-19T17:37:23.948Z"
   },
   {
    "duration": 53,
    "start_time": "2022-03-19T17:37:25.246Z"
   },
   {
    "duration": 3,
    "start_time": "2022-03-19T17:37:25.967Z"
   },
   {
    "duration": 3,
    "start_time": "2022-03-19T17:37:27.796Z"
   },
   {
    "duration": 1658,
    "start_time": "2022-03-19T17:37:32.654Z"
   },
   {
    "duration": 95,
    "start_time": "2022-03-19T17:37:34.315Z"
   },
   {
    "duration": 13,
    "start_time": "2022-03-19T17:37:35.329Z"
   },
   {
    "duration": 3,
    "start_time": "2022-03-19T17:37:39.617Z"
   },
   {
    "duration": 2879,
    "start_time": "2022-03-19T17:37:40.068Z"
   },
   {
    "duration": 10,
    "start_time": "2022-03-19T17:37:42.949Z"
   },
   {
    "duration": 10,
    "start_time": "2022-03-19T17:37:42.961Z"
   },
   {
    "duration": 28,
    "start_time": "2022-03-19T17:37:42.973Z"
   },
   {
    "duration": 14827,
    "start_time": "2022-03-19T17:37:43.003Z"
   },
   {
    "duration": 11,
    "start_time": "2022-03-19T17:37:57.832Z"
   },
   {
    "duration": 6,
    "start_time": "2022-03-19T17:37:57.845Z"
   },
   {
    "duration": 11,
    "start_time": "2022-03-19T17:37:57.854Z"
   },
   {
    "duration": 8,
    "start_time": "2022-03-19T17:37:57.867Z"
   },
   {
    "duration": 316,
    "start_time": "2022-03-19T17:37:57.877Z"
   },
   {
    "duration": 6,
    "start_time": "2022-03-19T17:37:58.195Z"
   }
  ],
  "kernelspec": {
   "display_name": "Python 3",
   "language": "python",
   "name": "python3"
  },
  "language_info": {
   "codemirror_mode": {
    "name": "ipython",
    "version": 3
   },
   "file_extension": ".py",
   "mimetype": "text/x-python",
   "name": "python",
   "nbconvert_exporter": "python",
   "pygments_lexer": "ipython3",
   "version": "3.8.8"
  },
  "toc": {
   "base_numbering": 1,
   "nav_menu": {},
   "number_sections": true,
   "sideBar": true,
   "skip_h1_title": true,
   "title_cell": "Содержание",
   "title_sidebar": "Contents",
   "toc_cell": true,
   "toc_position": {},
   "toc_section_display": true,
   "toc_window_display": false
  }
 },
 "nbformat": 4,
 "nbformat_minor": 4
}
