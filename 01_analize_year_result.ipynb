{
 "cells": [
  {
   "cell_type": "markdown",
   "metadata": {},
   "source": [
    "# Анализ итогов работы магазина \"Стримчик\" за 2016 год"
   ]
  },
  {
   "cell_type": "markdown",
   "metadata": {},
   "source": [
    "Мы работаете в интернет-магазине «Стримчик», который продаёт по всему миру компьютерные игры. Из открытых источников доступны данные о продажах игр, оценки пользователей и экспертов, жанры и платформы (например, Xbox или PlayStation). Нам нужно выявить определяющие успешность игры закономерности. Это позволит сделать ставку на потенциально популярный продукт и спланировать рекламные кампании."
   ]
  },
  {
   "cell_type": "markdown",
   "metadata": {},
   "source": [
    "## Изучение данных из файлов"
   ]
  },
  {
   "cell_type": "code",
   "execution_count": 1,
   "metadata": {},
   "outputs": [],
   "source": [
    "import pandas as pd \n",
    "import numpy as np \n",
    "import matplotlib.pyplot as plt\n",
    "from scipy import stats as st\n",
    "plt.style.use('ggplot')"
   ]
  },
  {
   "cell_type": "code",
   "execution_count": 2,
   "metadata": {},
   "outputs": [],
   "source": [
    "df = pd.read_csv('datasets/games.csv')"
   ]
  },
  {
   "cell_type": "code",
   "execution_count": 3,
   "metadata": {},
   "outputs": [
    {
     "data": {
      "text/html": [
       "<div>\n",
       "<style scoped>\n",
       "    .dataframe tbody tr th:only-of-type {\n",
       "        vertical-align: middle;\n",
       "    }\n",
       "\n",
       "    .dataframe tbody tr th {\n",
       "        vertical-align: top;\n",
       "    }\n",
       "\n",
       "    .dataframe thead th {\n",
       "        text-align: right;\n",
       "    }\n",
       "</style>\n",
       "<table border=\"1\" class=\"dataframe\">\n",
       "  <thead>\n",
       "    <tr style=\"text-align: right;\">\n",
       "      <th></th>\n",
       "      <th>Name</th>\n",
       "      <th>Platform</th>\n",
       "      <th>Year_of_Release</th>\n",
       "      <th>Genre</th>\n",
       "      <th>NA_sales</th>\n",
       "      <th>EU_sales</th>\n",
       "      <th>JP_sales</th>\n",
       "      <th>Other_sales</th>\n",
       "      <th>Critic_Score</th>\n",
       "      <th>User_Score</th>\n",
       "      <th>Rating</th>\n",
       "    </tr>\n",
       "  </thead>\n",
       "  <tbody>\n",
       "    <tr>\n",
       "      <td>2191</td>\n",
       "      <td>Rocksmith 2014</td>\n",
       "      <td>X360</td>\n",
       "      <td>2013.0</td>\n",
       "      <td>Misc</td>\n",
       "      <td>0.69</td>\n",
       "      <td>0.16</td>\n",
       "      <td>0.00</td>\n",
       "      <td>0.09</td>\n",
       "      <td>NaN</td>\n",
       "      <td>NaN</td>\n",
       "      <td>NaN</td>\n",
       "    </tr>\n",
       "    <tr>\n",
       "      <td>3145</td>\n",
       "      <td>Tom Clancy's Rainbow Six</td>\n",
       "      <td>N64</td>\n",
       "      <td>1999.0</td>\n",
       "      <td>Shooter</td>\n",
       "      <td>0.48</td>\n",
       "      <td>0.15</td>\n",
       "      <td>0.00</td>\n",
       "      <td>0.01</td>\n",
       "      <td>NaN</td>\n",
       "      <td>NaN</td>\n",
       "      <td>NaN</td>\n",
       "    </tr>\n",
       "    <tr>\n",
       "      <td>10300</td>\n",
       "      <td>Sonic Generations</td>\n",
       "      <td>PC</td>\n",
       "      <td>2011.0</td>\n",
       "      <td>Platform</td>\n",
       "      <td>0.02</td>\n",
       "      <td>0.07</td>\n",
       "      <td>0.00</td>\n",
       "      <td>0.02</td>\n",
       "      <td>77.0</td>\n",
       "      <td>8.3</td>\n",
       "      <td>E</td>\n",
       "    </tr>\n",
       "    <tr>\n",
       "      <td>11616</td>\n",
       "      <td>Ape Escape: Pumped &amp; Primed</td>\n",
       "      <td>PS2</td>\n",
       "      <td>2004.0</td>\n",
       "      <td>Misc</td>\n",
       "      <td>0.04</td>\n",
       "      <td>0.03</td>\n",
       "      <td>0.00</td>\n",
       "      <td>0.01</td>\n",
       "      <td>NaN</td>\n",
       "      <td>NaN</td>\n",
       "      <td>NaN</td>\n",
       "    </tr>\n",
       "    <tr>\n",
       "      <td>14862</td>\n",
       "      <td>Kabu Trader Shun</td>\n",
       "      <td>DS</td>\n",
       "      <td>2007.0</td>\n",
       "      <td>Action</td>\n",
       "      <td>0.00</td>\n",
       "      <td>0.00</td>\n",
       "      <td>0.03</td>\n",
       "      <td>0.00</td>\n",
       "      <td>NaN</td>\n",
       "      <td>NaN</td>\n",
       "      <td>NaN</td>\n",
       "    </tr>\n",
       "  </tbody>\n",
       "</table>\n",
       "</div>"
      ],
      "text/plain": [
       "                              Name Platform  Year_of_Release     Genre  \\\n",
       "2191                Rocksmith 2014     X360           2013.0      Misc   \n",
       "3145      Tom Clancy's Rainbow Six      N64           1999.0   Shooter   \n",
       "10300            Sonic Generations       PC           2011.0  Platform   \n",
       "11616  Ape Escape: Pumped & Primed      PS2           2004.0      Misc   \n",
       "14862             Kabu Trader Shun       DS           2007.0    Action   \n",
       "\n",
       "       NA_sales  EU_sales  JP_sales  Other_sales  Critic_Score User_Score  \\\n",
       "2191       0.69      0.16      0.00         0.09           NaN        NaN   \n",
       "3145       0.48      0.15      0.00         0.01           NaN        NaN   \n",
       "10300      0.02      0.07      0.00         0.02          77.0        8.3   \n",
       "11616      0.04      0.03      0.00         0.01           NaN        NaN   \n",
       "14862      0.00      0.00      0.03         0.00           NaN        NaN   \n",
       "\n",
       "      Rating  \n",
       "2191     NaN  \n",
       "3145     NaN  \n",
       "10300      E  \n",
       "11616    NaN  \n",
       "14862    NaN  "
      ]
     },
     "execution_count": 3,
     "metadata": {},
     "output_type": "execute_result"
    }
   ],
   "source": [
    "df.sample(5)"
   ]
  },
  {
   "cell_type": "code",
   "execution_count": 4,
   "metadata": {},
   "outputs": [],
   "source": [
    "df.columns=df.columns.str.lower()"
   ]
  },
  {
   "cell_type": "code",
   "execution_count": 5,
   "metadata": {},
   "outputs": [
    {
     "name": "stdout",
     "output_type": "stream",
     "text": [
      "<class 'pandas.core.frame.DataFrame'>\n",
      "RangeIndex: 16715 entries, 0 to 16714\n",
      "Data columns (total 11 columns):\n",
      "name               16713 non-null object\n",
      "platform           16715 non-null object\n",
      "year_of_release    16446 non-null float64\n",
      "genre              16713 non-null object\n",
      "na_sales           16715 non-null float64\n",
      "eu_sales           16715 non-null float64\n",
      "jp_sales           16715 non-null float64\n",
      "other_sales        16715 non-null float64\n",
      "critic_score       8137 non-null float64\n",
      "user_score         10014 non-null object\n",
      "rating             9949 non-null object\n",
      "dtypes: float64(6), object(5)\n",
      "memory usage: 1.4+ MB\n"
     ]
    }
   ],
   "source": [
    "df.info()"
   ]
  },
  {
   "cell_type": "code",
   "execution_count": 6,
   "metadata": {},
   "outputs": [
    {
     "data": {
      "text/plain": [
       "tbd    2424\n",
       "7.8     324\n",
       "8       290\n",
       "8.2     282\n",
       "8.3     254\n",
       "       ... \n",
       "9.6       2\n",
       "0.5       2\n",
       "0.6       2\n",
       "9.7       1\n",
       "0         1\n",
       "Name: user_score, Length: 96, dtype: int64"
      ]
     },
     "execution_count": 6,
     "metadata": {},
     "output_type": "execute_result"
    }
   ],
   "source": [
    "df.user_score.value_counts()"
   ]
  },
  {
   "cell_type": "code",
   "execution_count": 7,
   "metadata": {},
   "outputs": [
    {
     "data": {
      "text/plain": [
       "E       3990\n",
       "T       2961\n",
       "M       1563\n",
       "E10+    1420\n",
       "EC         8\n",
       "RP         3\n",
       "K-A        3\n",
       "AO         1\n",
       "Name: rating, dtype: int64"
      ]
     },
     "execution_count": 7,
     "metadata": {},
     "output_type": "execute_result"
    }
   ],
   "source": [
    "df.rating.value_counts()"
   ]
  },
  {
   "cell_type": "code",
   "execution_count": 8,
   "metadata": {},
   "outputs": [
    {
     "data": {
      "text/plain": [
       "0"
      ]
     },
     "execution_count": 8,
     "metadata": {},
     "output_type": "execute_result"
    }
   ],
   "source": [
    "df.duplicated().sum()"
   ]
  },
  {
   "cell_type": "code",
   "execution_count": 9,
   "metadata": {},
   "outputs": [
    {
     "data": {
      "text/plain": [
       "name                  2\n",
       "platform              0\n",
       "year_of_release     269\n",
       "genre                 2\n",
       "na_sales              0\n",
       "eu_sales              0\n",
       "jp_sales              0\n",
       "other_sales           0\n",
       "critic_score       8578\n",
       "user_score         6701\n",
       "rating             6766\n",
       "dtype: int64"
      ]
     },
     "execution_count": 9,
     "metadata": {},
     "output_type": "execute_result"
    }
   ],
   "source": [
    "df.isna().sum()"
   ]
  },
  {
   "cell_type": "code",
   "execution_count": 10,
   "metadata": {},
   "outputs": [
    {
     "data": {
      "text/html": [
       "<div>\n",
       "<style scoped>\n",
       "    .dataframe tbody tr th:only-of-type {\n",
       "        vertical-align: middle;\n",
       "    }\n",
       "\n",
       "    .dataframe tbody tr th {\n",
       "        vertical-align: top;\n",
       "    }\n",
       "\n",
       "    .dataframe thead th {\n",
       "        text-align: right;\n",
       "    }\n",
       "</style>\n",
       "<table border=\"1\" class=\"dataframe\">\n",
       "  <thead>\n",
       "    <tr style=\"text-align: right;\">\n",
       "      <th></th>\n",
       "      <th>year_of_release</th>\n",
       "      <th>na_sales</th>\n",
       "      <th>eu_sales</th>\n",
       "      <th>jp_sales</th>\n",
       "      <th>other_sales</th>\n",
       "      <th>critic_score</th>\n",
       "    </tr>\n",
       "  </thead>\n",
       "  <tbody>\n",
       "    <tr>\n",
       "      <td>count</td>\n",
       "      <td>16446.000000</td>\n",
       "      <td>16715.000000</td>\n",
       "      <td>16715.000000</td>\n",
       "      <td>16715.000000</td>\n",
       "      <td>16715.000000</td>\n",
       "      <td>8137.000000</td>\n",
       "    </tr>\n",
       "    <tr>\n",
       "      <td>mean</td>\n",
       "      <td>2006.484616</td>\n",
       "      <td>0.263377</td>\n",
       "      <td>0.145060</td>\n",
       "      <td>0.077617</td>\n",
       "      <td>0.047342</td>\n",
       "      <td>68.967679</td>\n",
       "    </tr>\n",
       "    <tr>\n",
       "      <td>std</td>\n",
       "      <td>5.877050</td>\n",
       "      <td>0.813604</td>\n",
       "      <td>0.503339</td>\n",
       "      <td>0.308853</td>\n",
       "      <td>0.186731</td>\n",
       "      <td>13.938165</td>\n",
       "    </tr>\n",
       "    <tr>\n",
       "      <td>min</td>\n",
       "      <td>1980.000000</td>\n",
       "      <td>0.000000</td>\n",
       "      <td>0.000000</td>\n",
       "      <td>0.000000</td>\n",
       "      <td>0.000000</td>\n",
       "      <td>13.000000</td>\n",
       "    </tr>\n",
       "    <tr>\n",
       "      <td>25%</td>\n",
       "      <td>2003.000000</td>\n",
       "      <td>0.000000</td>\n",
       "      <td>0.000000</td>\n",
       "      <td>0.000000</td>\n",
       "      <td>0.000000</td>\n",
       "      <td>60.000000</td>\n",
       "    </tr>\n",
       "    <tr>\n",
       "      <td>50%</td>\n",
       "      <td>2007.000000</td>\n",
       "      <td>0.080000</td>\n",
       "      <td>0.020000</td>\n",
       "      <td>0.000000</td>\n",
       "      <td>0.010000</td>\n",
       "      <td>71.000000</td>\n",
       "    </tr>\n",
       "    <tr>\n",
       "      <td>75%</td>\n",
       "      <td>2010.000000</td>\n",
       "      <td>0.240000</td>\n",
       "      <td>0.110000</td>\n",
       "      <td>0.040000</td>\n",
       "      <td>0.030000</td>\n",
       "      <td>79.000000</td>\n",
       "    </tr>\n",
       "    <tr>\n",
       "      <td>max</td>\n",
       "      <td>2016.000000</td>\n",
       "      <td>41.360000</td>\n",
       "      <td>28.960000</td>\n",
       "      <td>10.220000</td>\n",
       "      <td>10.570000</td>\n",
       "      <td>98.000000</td>\n",
       "    </tr>\n",
       "  </tbody>\n",
       "</table>\n",
       "</div>"
      ],
      "text/plain": [
       "       year_of_release      na_sales      eu_sales      jp_sales  \\\n",
       "count     16446.000000  16715.000000  16715.000000  16715.000000   \n",
       "mean       2006.484616      0.263377      0.145060      0.077617   \n",
       "std           5.877050      0.813604      0.503339      0.308853   \n",
       "min        1980.000000      0.000000      0.000000      0.000000   \n",
       "25%        2003.000000      0.000000      0.000000      0.000000   \n",
       "50%        2007.000000      0.080000      0.020000      0.000000   \n",
       "75%        2010.000000      0.240000      0.110000      0.040000   \n",
       "max        2016.000000     41.360000     28.960000     10.220000   \n",
       "\n",
       "        other_sales  critic_score  \n",
       "count  16715.000000   8137.000000  \n",
       "mean       0.047342     68.967679  \n",
       "std        0.186731     13.938165  \n",
       "min        0.000000     13.000000  \n",
       "25%        0.000000     60.000000  \n",
       "50%        0.010000     71.000000  \n",
       "75%        0.030000     79.000000  \n",
       "max       10.570000     98.000000  "
      ]
     },
     "execution_count": 10,
     "metadata": {},
     "output_type": "execute_result"
    }
   ],
   "source": [
    "df.describe()"
   ]
  },
  {
   "cell_type": "code",
   "execution_count": 11,
   "metadata": {},
   "outputs": [
    {
     "data": {
      "text/plain": [
       "4508"
      ]
     },
     "execution_count": 11,
     "metadata": {},
     "output_type": "execute_result"
    }
   ],
   "source": [
    "df[df['na_sales']==0]['na_sales'].count()"
   ]
  },
  {
   "cell_type": "code",
   "execution_count": 12,
   "metadata": {},
   "outputs": [
    {
     "data": {
      "text/plain": [
       "5870"
      ]
     },
     "execution_count": 12,
     "metadata": {},
     "output_type": "execute_result"
    }
   ],
   "source": [
    "df[df['eu_sales']==0]['eu_sales'].count()"
   ]
  },
  {
   "cell_type": "code",
   "execution_count": 13,
   "metadata": {},
   "outputs": [
    {
     "data": {
      "text/plain": [
       "10514"
      ]
     },
     "execution_count": 13,
     "metadata": {},
     "output_type": "execute_result"
    }
   ],
   "source": [
    "df[df['jp_sales']==0]['jp_sales'].count()"
   ]
  },
  {
   "cell_type": "code",
   "execution_count": 14,
   "metadata": {},
   "outputs": [
    {
     "data": {
      "text/plain": [
       "6601"
      ]
     },
     "execution_count": 14,
     "metadata": {},
     "output_type": "execute_result"
    }
   ],
   "source": [
    "df[df['other_sales']==0]['other_sales'].count()"
   ]
  },
  {
   "cell_type": "markdown",
   "metadata": {},
   "source": [
    "### Выводы"
   ]
  },
  {
   "cell_type": "markdown",
   "metadata": {},
   "source": [
    "- сразу привели названия столбцов к стандартному виду;\n",
    "- тип некоторых столбцов не соответствует числовому типу по причине наличие нечисловых элементов в столбцах;\n",
    "- есть большое количество нулевых значений появление которых связано с тем, что в этих регионах игры не продавались;\n",
    "- также есть столбцы с пропусками: год выпуска, оценка критиков, оценка пользователей и рейтинг ESRB;\n",
    "\n",
    "\n"
   ]
  },
  {
   "cell_type": "markdown",
   "metadata": {},
   "source": [
    "## Предобработка данных"
   ]
  },
  {
   "cell_type": "code",
   "execution_count": 15,
   "metadata": {},
   "outputs": [],
   "source": [
    "# данные по дате выпуска являются важными, но непонятно на что их можно заменить, \n",
    "# с учетом того что пропусков не так много относительно общего числа, считаю что можно их удалить\n",
    "df = df[~(df['year_of_release'].isna())]"
   ]
  },
  {
   "cell_type": "code",
   "execution_count": 16,
   "metadata": {},
   "outputs": [],
   "source": [
    "df['user_score'] = df['user_score'].replace('tbd', -1)\n",
    "df['user_score'] = pd.to_numeric(df['user_score'], errors='coerce')\n",
    "df['rating']=df['rating'].fillna('No rating')"
   ]
  },
  {
   "cell_type": "code",
   "execution_count": 17,
   "metadata": {},
   "outputs": [],
   "source": [
    "df.year_of_release = pd.to_numeric(df.year_of_release, errors='coerce').astype('int')"
   ]
  },
  {
   "cell_type": "code",
   "execution_count": 18,
   "metadata": {},
   "outputs": [],
   "source": [
    "df['sum'] = df[['na_sales','eu_sales','jp_sales','other_sales']].sum(axis=1)"
   ]
  },
  {
   "cell_type": "markdown",
   "metadata": {},
   "source": [
    "### Выводы"
   ]
  },
  {
   "cell_type": "markdown",
   "metadata": {},
   "source": [
    "- удалили данные с отсутствующим годом выпуска игр, так как это очень важная информацию и без нее нельзя определить актуальный период для прогноза;\n",
    "- значение tbd из столбца с пользовательским рейтингом заменили на -1 чтобы можно было работать с этими данными, но не использовать для оценки рейтинга. Замену на среднюю величину существенно смещала бы оценку;\n",
    "- преобразовали столбцы с пользовательским рейтингом и годом выхода игры к числовому виду;\n",
    "- добавили столбец с суммарными продажами;\n",
    "- с пропусками в рейтингах непонятно что делать без дополнительной информации, поэтому принял решения не на что их не менять чтобы не смещать статистики.\n"
   ]
  },
  {
   "cell_type": "markdown",
   "metadata": {},
   "source": [
    "## Исследовательский анализ данных\n"
   ]
  },
  {
   "cell_type": "markdown",
   "metadata": {},
   "source": [
    "### Распределение выпуска игр по годам"
   ]
  },
  {
   "cell_type": "code",
   "execution_count": 19,
   "metadata": {},
   "outputs": [
    {
     "data": {
      "text/plain": [
       "Text(0.5, 0, 'Годы')"
      ]
     },
     "execution_count": 19,
     "metadata": {},
     "output_type": "execute_result"
    },
    {
     "data": {
      "image/png": "[encoded data removed]",
      "text/plain": [
       "<Figure size 864x576 with 1 Axes>"
      ]
     },
     "metadata": {},
     "output_type": "display_data"
    }
   ],
   "source": [
    "ax = df.groupby('year_of_release').\\\n",
    "    agg( {'name':'count'}).\\\n",
    "    plot(kind='bar', figsize=(12,8),grid=True, log= False, title='Диаграмма количества игр, выпускаемых по годам', legend = False )\n",
    "ax.set_ylabel(\"Количество игр, логарифмический масштаб\")\n",
    "ax.set_xlabel(\"Годы\")"
   ]
  },
  {
   "cell_type": "markdown",
   "metadata": {},
   "source": [
    "Из анализа графика можно сделать следующие выводы:\n",
    "- по сравнению с 1980 годом выпуск игр увеличился в больше чем на два порядка;\n",
    "- максимум вупуск игр достиг в 2008-2009 годах и потом начал уменьшаться."
   ]
  },
  {
   "cell_type": "markdown",
   "metadata": {},
   "source": [
    "### Анализ игровых платформ по годам"
   ]
  },
  {
   "cell_type": "markdown",
   "metadata": {},
   "source": [
    "**График жизненного цикла для различных игровых платформ**"
   ]
  },
  {
   "cell_type": "code",
   "execution_count": 20,
   "metadata": {},
   "outputs": [
    {
     "data": {
      "text/plain": [
       "      platform\n",
       "name  GG           1\n",
       "      PCFX         1\n",
       "      TG16         1\n",
       "      3DO          2\n",
       "      SCD          2\n",
       "      WS           3\n",
       "      NG           4\n",
       "      PS4          4\n",
       "      XOne         4\n",
       "      WiiU         5\n",
       "      GEN          5\n",
       "      3DS          6\n",
       "      SAT          6\n",
       "      PSV          6\n",
       "      GC           7\n",
       "      N64          7\n",
       "      DC           7\n",
       "      GBA          8\n",
       "      XB           9\n",
       "      SNES        10\n",
       "      2600        10\n",
       "      PS          10\n",
       "      PS3         11\n",
       "      Wii         11\n",
       "      DS          11\n",
       "      PS2         12\n",
       "      NES         12\n",
       "      X360        12\n",
       "      PSP         12\n",
       "      GB          13\n",
       "      PC          26\n",
       "dtype: int64"
      ]
     },
     "execution_count": 20,
     "metadata": {},
     "output_type": "execute_result"
    }
   ],
   "source": [
    "df_agg = df.pivot_table(index='year_of_release', columns=['platform'],  aggfunc={\"name\":'count'}).\\\n",
    "    count()\n",
    "df_agg.sort_values()"
   ]
  },
  {
   "cell_type": "code",
   "execution_count": 21,
   "metadata": {},
   "outputs": [
    {
     "data": {
      "text/plain": [
       "Text(0.5, 0, 'Игровые платформы')"
      ]
     },
     "execution_count": 21,
     "metadata": {},
     "output_type": "execute_result"
    },
    {
     "data": {
      "image/png": "[encoded data removed]",
      "text/plain": [
       "<Figure size 864x576 with 1 Axes>"
      ]
     },
     "metadata": {},
     "output_type": "display_data"
    }
   ],
   "source": [
    "ax = df_agg.reset_index(drop=True, level=0).\\\n",
    "plot(kind='bar', figsize=(12,8),grid=True, title='Диаграмма количества лет жизненного цикла игровых платформ', legend = False )\n",
    "ax.set_ylabel(\"Количесто лет\")\n",
    "ax.set_xlabel(\"Игровые платформы\")\n"
   ]
  },
  {
   "cell_type": "code",
   "execution_count": 22,
   "metadata": {},
   "outputs": [
    {
     "data": {
      "text/plain": [
       "Text(0.5, 0, 'Количество лет')"
      ]
     },
     "execution_count": 22,
     "metadata": {},
     "output_type": "execute_result"
    },
    {
     "data": {
      "image/png": "[encoded data removed]",
      "text/plain": [
       "<Figure size 648x432 with 1 Axes>"
      ]
     },
     "metadata": {},
     "output_type": "display_data"
    }
   ],
   "source": [
    "ax = df_agg.reset_index(drop=True, level=0).\\\n",
    "plot(kind='hist', bins=13, figsize=(9,6), range=(1,14), grid=True, title='Гисторграмма количества лет жизненного цикла игровых платформ', legend = False )\n",
    "ax.set_ylabel(\"Количесто платформ\")\n",
    "ax.set_xlabel(\"Количество лет\")"
   ]
  },
  {
   "cell_type": "markdown",
   "metadata": {},
   "source": [
    "Из анализа графика можно сделать следующие выводы:\n",
    "- по сравнению с 1980 годом выпуск игр увеличился в больше чем на два порядка;\n",
    "- максимум выпуск игр достиг в 2008-2009 годах и потом начал уменьшаться.\n",
    "Из представленных графиков можно сделать следующие выводы: \n",
    "- время жизни платформы весьма неоднородно и может быть от 1 года до 26 лет;\n",
    "- одна платформа PC - 26 лет. Это можно признать аномалией. Если большинство игр разрабатывается под свою аппаратную платформу, то PC разрабатывается для персональных компьютеров, которые прошли путь от 486 до i9 11-го поколения. Поэтому можно условно считать, что эта одна платформа; \n",
    "- можно условно выделить следующие группы: \n",
    "    - \"неудачные\" - до 3 лет жизни. Проекты были признаны неудачные и вскоре были закрыты;\n",
    "    - \"средний вариант\" - от 4 до 8 лет жизни. Проекты развивались некоторое время, но были закрыты;\n",
    "    - \"ветераны\" - от 10 лет. Платформы \n"
   ]
  },
  {
   "cell_type": "markdown",
   "metadata": {},
   "source": [
    "**Расчет среднего времени жизни игровой платформы от начала выпуска первых игр до выпуска последних:**"
   ]
  },
  {
   "cell_type": "code",
   "execution_count": 23,
   "metadata": {},
   "outputs": [
    {
     "data": {
      "text/plain": [
       "7.67741935483871"
      ]
     },
     "execution_count": 23,
     "metadata": {},
     "output_type": "execute_result"
    }
   ],
   "source": [
    "df.pivot_table(index='year_of_release', columns=['platform'], aggfunc={\"name\":'count'}).count().mean()"
   ]
  },
  {
   "cell_type": "code",
   "execution_count": 24,
   "metadata": {},
   "outputs": [
    {
     "data": {
      "text/plain": [
       "7.066666666666666"
      ]
     },
     "execution_count": 24,
     "metadata": {},
     "output_type": "execute_result"
    }
   ],
   "source": [
    "df[df['platform']!='PC'].\\\n",
    "pivot_table(index='year_of_release', columns=['platform'], aggfunc={\"name\":'count'}).count().mean()"
   ]
  },
  {
   "cell_type": "markdown",
   "metadata": {},
   "source": [
    "- так как основная задача стоит в разработке рекомендаций, c учетом того, что жизненный цикл для игровых платформ составляет 7.68 лет, поэтому выберем в качестве периода для прогноза соизмеримую увеличу в 3 года. Поэтому будем использовать данные с 2014 по 2016 года. \n",
    "- среднее значение без платформы PC меньше на 0.6 года, в тоже время мы используем ограниченный промежуток по времени, поэтому некоторые платформы не закончили свой жизненный цикл, поэтому средняя в этом случае смещается вниз. Поэтому правильнее оценивать, наверное, все же жизненный цикл величиной просто среднего - 7.68 лет.\n"
   ]
  },
  {
   "cell_type": "markdown",
   "metadata": {},
   "source": [
    "### Оценка платформ за актуальный период"
   ]
  },
  {
   "cell_type": "code",
   "execution_count": 25,
   "metadata": {},
   "outputs": [],
   "source": [
    "df_dop = df[df['year_of_release']>=2016].\\\n",
    "    pivot_table(index='year_of_release', columns=['platform'], aggfunc={\"name\":'count'}).\\\n",
    "    mean().\\\n",
    "    sort_values(ascending=False).\\\n",
    "    reset_index().\\\n",
    "    drop('level_0', axis=1).head(10)\n",
    "df_dop.columns = ['platform', 'mean']"
   ]
  },
  {
   "cell_type": "code",
   "execution_count": 26,
   "metadata": {},
   "outputs": [
    {
     "data": {
      "text/html": [
       "<div>\n",
       "<style scoped>\n",
       "    .dataframe tbody tr th:only-of-type {\n",
       "        vertical-align: middle;\n",
       "    }\n",
       "\n",
       "    .dataframe tbody tr th {\n",
       "        vertical-align: top;\n",
       "    }\n",
       "\n",
       "    .dataframe thead th {\n",
       "        text-align: right;\n",
       "    }\n",
       "</style>\n",
       "<table border=\"1\" class=\"dataframe\">\n",
       "  <thead>\n",
       "    <tr style=\"text-align: right;\">\n",
       "      <th></th>\n",
       "      <th>platform</th>\n",
       "      <th>mean</th>\n",
       "    </tr>\n",
       "  </thead>\n",
       "  <tbody>\n",
       "    <tr>\n",
       "      <td>0</td>\n",
       "      <td>PS4</td>\n",
       "      <td>164.0</td>\n",
       "    </tr>\n",
       "    <tr>\n",
       "      <td>1</td>\n",
       "      <td>XOne</td>\n",
       "      <td>87.0</td>\n",
       "    </tr>\n",
       "    <tr>\n",
       "      <td>2</td>\n",
       "      <td>PSV</td>\n",
       "      <td>85.0</td>\n",
       "    </tr>\n",
       "    <tr>\n",
       "      <td>3</td>\n",
       "      <td>PC</td>\n",
       "      <td>54.0</td>\n",
       "    </tr>\n",
       "    <tr>\n",
       "      <td>4</td>\n",
       "      <td>3DS</td>\n",
       "      <td>46.0</td>\n",
       "    </tr>\n",
       "    <tr>\n",
       "      <td>5</td>\n",
       "      <td>PS3</td>\n",
       "      <td>38.0</td>\n",
       "    </tr>\n",
       "    <tr>\n",
       "      <td>6</td>\n",
       "      <td>WiiU</td>\n",
       "      <td>14.0</td>\n",
       "    </tr>\n",
       "    <tr>\n",
       "      <td>7</td>\n",
       "      <td>X360</td>\n",
       "      <td>13.0</td>\n",
       "    </tr>\n",
       "    <tr>\n",
       "      <td>8</td>\n",
       "      <td>Wii</td>\n",
       "      <td>1.0</td>\n",
       "    </tr>\n",
       "  </tbody>\n",
       "</table>\n",
       "</div>"
      ],
      "text/plain": [
       "  platform   mean\n",
       "0      PS4  164.0\n",
       "1     XOne   87.0\n",
       "2      PSV   85.0\n",
       "3       PC   54.0\n",
       "4      3DS   46.0\n",
       "5      PS3   38.0\n",
       "6     WiiU   14.0\n",
       "7     X360   13.0\n",
       "8      Wii    1.0"
      ]
     },
     "execution_count": 26,
     "metadata": {},
     "output_type": "execute_result"
    }
   ],
   "source": [
    "df_dop"
   ]
  },
  {
   "cell_type": "code",
   "execution_count": 27,
   "metadata": {},
   "outputs": [
    {
     "data": {
      "text/plain": [
       "Text(0.5, 0, 'Игровые платформы')"
      ]
     },
     "execution_count": 27,
     "metadata": {},
     "output_type": "execute_result"
    },
    {
     "data": {
      "image/png": "[encoded data removed]",
      "text/plain": [
       "<Figure size 864x576 with 1 Axes>"
      ]
     },
     "metadata": {},
     "output_type": "display_data"
    }
   ],
   "source": [
    "df_dop.index=df_dop.platform\n",
    "ax=df_dop.\\\n",
    "plot(kind='bar', figsize=(12,8),grid=True, title='Диаграмма количества игр, выпущенных за 2016 год', legend = False )\n",
    "ax.set_ylabel(\"Количесто игр\")\n",
    "ax.set_xlabel(\"Игровые платформы\")\n"
   ]
  },
  {
   "cell_type": "markdown",
   "metadata": {},
   "source": [
    "\n",
    "Выпуск игр за 2016 год позволяют косвенно оценить перспективность платформ. Так как если игры не выпускаются, то производители игр не видят перспектив для данных платформ. Видно, что осталось всего 8 игровых платформ. Таким образом лидером можно смело назвать PS4, замет идут XOne и PSV, остальные игровые платформы заметно отстают.\n"
   ]
  },
  {
   "cell_type": "markdown",
   "metadata": {},
   "source": [
    "**Продажи игр за актуальный период**"
   ]
  },
  {
   "cell_type": "code",
   "execution_count": 28,
   "metadata": {},
   "outputs": [],
   "source": [
    "df_money = df[df['year_of_release']>=2014].\\\n",
    "    pivot_table(index='platform', aggfunc={'sum':'sum'})\n",
    "df_money_2016=df[(df['year_of_release']>=2016)].\\\n",
    "    pivot_table(index='platform', aggfunc={'sum':'sum'}) \n",
    "#переименовали столбцы\n",
    "df_money.columns=['sum']\n",
    "df_money_2016.columns=['sum_2016']"
   ]
  },
  {
   "cell_type": "code",
   "execution_count": 29,
   "metadata": {},
   "outputs": [],
   "source": [
    "#добавили столбец с данными за 3 года к данным за 2016 год\n",
    "df_money_2016['sum']=df_money['sum']\n",
    "#рассчитаем отношение продаж за 2016 год к средним продажам за 3 года в процентах.\n",
    "df_money_2016['dynamics_percent']=100*(df_money_2016['sum_2016']-0.33*df_money_2016['sum'])/(0.33*df_money_2016['sum'])"
   ]
  },
  {
   "cell_type": "code",
   "execution_count": 30,
   "metadata": {},
   "outputs": [
    {
     "data": {
      "text/html": [
       "<div>\n",
       "<style scoped>\n",
       "    .dataframe tbody tr th:only-of-type {\n",
       "        vertical-align: middle;\n",
       "    }\n",
       "\n",
       "    .dataframe tbody tr th {\n",
       "        vertical-align: top;\n",
       "    }\n",
       "\n",
       "    .dataframe thead th {\n",
       "        text-align: right;\n",
       "    }\n",
       "</style>\n",
       "<table border=\"1\" class=\"dataframe\">\n",
       "  <thead>\n",
       "    <tr style=\"text-align: right;\">\n",
       "      <th></th>\n",
       "      <th>sum_2016</th>\n",
       "      <th>sum</th>\n",
       "      <th>dynamics_percent</th>\n",
       "    </tr>\n",
       "    <tr>\n",
       "      <th>platform</th>\n",
       "      <th></th>\n",
       "      <th></th>\n",
       "      <th></th>\n",
       "    </tr>\n",
       "  </thead>\n",
       "  <tbody>\n",
       "    <tr>\n",
       "      <td>PS4</td>\n",
       "      <td>69.25</td>\n",
       "      <td>288.15</td>\n",
       "      <td>-27.173873</td>\n",
       "    </tr>\n",
       "    <tr>\n",
       "      <td>PC</td>\n",
       "      <td>5.25</td>\n",
       "      <td>27.05</td>\n",
       "      <td>-41.186355</td>\n",
       "    </tr>\n",
       "    <tr>\n",
       "      <td>PSV</td>\n",
       "      <td>4.25</td>\n",
       "      <td>22.40</td>\n",
       "      <td>-42.505411</td>\n",
       "    </tr>\n",
       "    <tr>\n",
       "      <td>XOne</td>\n",
       "      <td>26.15</td>\n",
       "      <td>140.36</td>\n",
       "      <td>-43.543442</td>\n",
       "    </tr>\n",
       "    <tr>\n",
       "      <td>3DS</td>\n",
       "      <td>15.14</td>\n",
       "      <td>86.68</td>\n",
       "      <td>-47.071080</td>\n",
       "    </tr>\n",
       "    <tr>\n",
       "      <td>WiiU</td>\n",
       "      <td>4.60</td>\n",
       "      <td>42.98</td>\n",
       "      <td>-67.567720</td>\n",
       "    </tr>\n",
       "    <tr>\n",
       "      <td>PS3</td>\n",
       "      <td>3.60</td>\n",
       "      <td>68.18</td>\n",
       "      <td>-83.999573</td>\n",
       "    </tr>\n",
       "    <tr>\n",
       "      <td>Wii</td>\n",
       "      <td>0.18</td>\n",
       "      <td>5.07</td>\n",
       "      <td>-89.241528</td>\n",
       "    </tr>\n",
       "    <tr>\n",
       "      <td>X360</td>\n",
       "      <td>1.52</td>\n",
       "      <td>48.22</td>\n",
       "      <td>-90.447821</td>\n",
       "    </tr>\n",
       "  </tbody>\n",
       "</table>\n",
       "</div>"
      ],
      "text/plain": [
       "          sum_2016     sum  dynamics_percent\n",
       "platform                                    \n",
       "PS4          69.25  288.15        -27.173873\n",
       "PC            5.25   27.05        -41.186355\n",
       "PSV           4.25   22.40        -42.505411\n",
       "XOne         26.15  140.36        -43.543442\n",
       "3DS          15.14   86.68        -47.071080\n",
       "WiiU          4.60   42.98        -67.567720\n",
       "PS3           3.60   68.18        -83.999573\n",
       "Wii           0.18    5.07        -89.241528\n",
       "X360          1.52   48.22        -90.447821"
      ]
     },
     "execution_count": 30,
     "metadata": {},
     "output_type": "execute_result"
    }
   ],
   "source": [
    "df_money_2016.sort_values(by='dynamics_percent', ascending=False)"
   ]
  },
  {
   "cell_type": "code",
   "execution_count": 31,
   "metadata": {},
   "outputs": [
    {
     "data": {
      "image/png": "[encoded data removed]",
      "text/plain": [
       "<Figure size 864x576 with 1 Axes>"
      ]
     },
     "metadata": {},
     "output_type": "display_data"
    }
   ],
   "source": [
    "ax = df_money_2016[['sum_2016','dynamics_percent' ]].sort_values(by='dynamics_percent', ascending=False).\\\n",
    "plot(kind='bar', figsize=(12,8),grid=True, title='Количество и динамика выпуска  игр', legend = True )\n",
    "ax.set_ylabel(\"Количесто игр\")\n",
    "ax.set_xlabel(\"Игровые платформы\")\n",
    "ax.legend(['Суммарное количество игр за 2016 год', 'Динамика за 3 года'])\n",
    "plt.xticks(rotation=0)\n",
    "plt.show()"
   ]
  },
  {
   "cell_type": "markdown",
   "metadata": {},
   "source": [
    "Из анализа графика можно сделать выводы что лидируют по продажам PS4. Заметно отстают XOne и 3DS. Остальные платформы не заминают значительного положения по продажам. В целом можно отметить весьма негативные тенденции по продажам игр для игровых платформ. Лучше всего выглядит PS4, но и в это случае на лицо явно выраженные негативные тенденции. Видимо, это связано с миграцией пользователей на онлайн-игры монетизация которых отлична от монетизации анализируемых игр."
   ]
  },
  {
   "cell_type": "code",
   "execution_count": 32,
   "metadata": {},
   "outputs": [],
   "source": [
    "#функция для построения \"ящика с усами\" с сортировкой по убыванияю медианного значения продаж\n",
    "def box_sort(df, column, by):\n",
    "    df2=pd.DataFrame({col:vals[column] for col, vals in df.groupby(by)})\n",
    "    med=df2.median().sort_values(ascending=False)\n",
    "    df2[med.index].boxplot()"
   ]
  },
  {
   "cell_type": "code",
   "execution_count": 33,
   "metadata": {},
   "outputs": [
    {
     "name": "stderr",
     "output_type": "stream",
     "text": [
      "/opt/conda/lib/python3.7/site-packages/numpy/core/_asarray.py:83: VisibleDeprecationWarning: Creating an ndarray from ragged nested sequences (which is a list-or-tuple of lists-or-tuples-or ndarrays with different lengths or shapes) is deprecated. If you meant to do this, you must specify 'dtype=object' when creating the ndarray\n",
      "  return array(a, dtype, copy=False, order=order)\n"
     ]
    },
    {
     "data": {
      "image/png": "[encoded data removed]",
      "text/plain": [
       "<Figure size 1008x720 with 1 Axes>"
      ]
     },
     "metadata": {},
     "output_type": "display_data"
    }
   ],
   "source": [
    "fig, ax = plt.subplots(figsize=(14,10))\n",
    "box_sort(df[(df['year_of_release']>0)&(df['year_of_release']>=2014)],'sum', 'platform')\n",
    "ax.set_ylim(0,3)\n",
    "ax.set_ylabel(\"Продажи, млн. копий\")\n",
    "ax.set_xlabel(\"Игровые платформы\")\n",
    "plt.show()"
   ]
  },
  {
   "cell_type": "markdown",
   "metadata": {},
   "source": [
    "Представленный график иллюстрирует распределение глобальных продаж игр в разбивке по платформам за актуальный период, 2014-2016 года. Не смотря на лидерство платформы PS4 по суммарных продажах игр, в пересчете на одну игру медианна прибыль незначительно больше у таких игровых платформ как  XOne и  WiiU. В целом можно сказать, что медианные значения для первых 5 игровых платформ мало отличаются.  Также имеется значительно число выбросов для всех платформ. Размер третьего и верхнего квартиля на графиках позволяет сказать, что имеется значительно число игр, которые гораздо успешнее по продажам чем \"типичная\" игра платформы."
   ]
  },
  {
   "cell_type": "markdown",
   "metadata": {},
   "source": [
    "### Анализ влияния рейтинга пользователей и критиков на продажи"
   ]
  },
  {
   "cell_type": "code",
   "execution_count": 34,
   "metadata": {},
   "outputs": [
    {
     "data": {
      "text/html": [
       "<div>\n",
       "<style scoped>\n",
       "    .dataframe tbody tr th:only-of-type {\n",
       "        vertical-align: middle;\n",
       "    }\n",
       "\n",
       "    .dataframe tbody tr th {\n",
       "        vertical-align: top;\n",
       "    }\n",
       "\n",
       "    .dataframe thead th {\n",
       "        text-align: right;\n",
       "    }\n",
       "</style>\n",
       "<table border=\"1\" class=\"dataframe\">\n",
       "  <thead>\n",
       "    <tr style=\"text-align: right;\">\n",
       "      <th></th>\n",
       "      <th>critic_score</th>\n",
       "      <th>user_score</th>\n",
       "      <th>sum</th>\n",
       "    </tr>\n",
       "  </thead>\n",
       "  <tbody>\n",
       "    <tr>\n",
       "      <td>critic_score</td>\n",
       "      <td>1.000000</td>\n",
       "      <td>0.546434</td>\n",
       "      <td>0.401903</td>\n",
       "    </tr>\n",
       "    <tr>\n",
       "      <td>user_score</td>\n",
       "      <td>0.546434</td>\n",
       "      <td>1.000000</td>\n",
       "      <td>-0.040132</td>\n",
       "    </tr>\n",
       "    <tr>\n",
       "      <td>sum</td>\n",
       "      <td>0.401903</td>\n",
       "      <td>-0.040132</td>\n",
       "      <td>1.000000</td>\n",
       "    </tr>\n",
       "  </tbody>\n",
       "</table>\n",
       "</div>"
      ],
      "text/plain": [
       "              critic_score  user_score       sum\n",
       "critic_score      1.000000    0.546434  0.401903\n",
       "user_score        0.546434    1.000000 -0.040132\n",
       "sum               0.401903   -0.040132  1.000000"
      ]
     },
     "execution_count": 34,
     "metadata": {},
     "output_type": "execute_result"
    }
   ],
   "source": [
    "# в рейтинге избавляется от значений -1\n",
    "df[(df['platform']=='PS4')&(df['user_score']>0)&(df['year_of_release']>=2014)][['platform','critic_score', 'user_score', 'sum']].corr()"
   ]
  },
  {
   "cell_type": "code",
   "execution_count": 35,
   "metadata": {},
   "outputs": [
    {
     "data": {
      "image/png": "[encoded data removed]",
      "text/plain": [
       "<Figure size 504x504 with 1 Axes>"
      ]
     },
     "metadata": {},
     "output_type": "display_data"
    },
    {
     "data": {
      "image/png": "[encoded data removed]",
      "text/plain": [
       "<Figure size 504x504 with 1 Axes>"
      ]
     },
     "metadata": {},
     "output_type": "display_data"
    }
   ],
   "source": [
    "ax=df[(df['platform'].isin(['PS4']))&(df['year_of_release']>=2014)][['platform','critic_score', 'user_score', 'sum'  ]].\\\n",
    "    plot.scatter(x='sum', y='critic_score', figsize=(7,7))\n",
    "ax.set_ylabel(\"Оценка критиков\")\n",
    "ax.set_xlabel(\"Продажи\")\n",
    "plt.show()\n",
    "ax=df[(df['platform'].isin(['PS4']))&(df['year_of_release']>=2014)][['platform','critic_score', 'user_score', 'sum'  ]].\\\n",
    "    plot.scatter(x='sum', y='user_score', figsize=(7,7))\n",
    "ax.set_ylabel(\"Оценка пользователей\")\n",
    "ax.set_xlabel(\"Продажи\")\n",
    "plt.show()"
   ]
  },
  {
   "cell_type": "markdown",
   "metadata": {},
   "source": [
    "Из анализа графиков и коэффициентов корреляции можно сделать выводы:\n",
    "- что существуюет прямая зависимость между оценкой критиков и продажами. Но связь эта умеренная. \n",
    "- связь между продажами и оценкой пользователей на основе расчета коэффициента Пирсона не выявлена. \n",
    "- Результат для оценки пользователей является неожиданным, возможно, что имеется другие переменные, которые не были учтены в данном анализе. "
   ]
  },
  {
   "cell_type": "code",
   "execution_count": 36,
   "metadata": {},
   "outputs": [],
   "source": [
    "#список с наиболее перспективными платформами\n",
    "lst=['PS4','PS3','3DS', 'WiiU', 'XOne',\"PC\"]\n",
    "d={}\n",
    "# создаем ДатаФрейм для хранения коэффициентов корреляции\n",
    "for i in lst:\n",
    "    d[i]=list(df[(df['platform'].isin([i]))&(df['user_score']>0)&(df['year_of_release']>=2014)][['platform','critic_score', 'user_score', 'sum']].corr().iloc[2])\n",
    "df_corr = pd.DataFrame(data=d)"
   ]
  },
  {
   "cell_type": "code",
   "execution_count": 37,
   "metadata": {},
   "outputs": [
    {
     "data": {
      "text/html": [
       "<div>\n",
       "<style scoped>\n",
       "    .dataframe tbody tr th:only-of-type {\n",
       "        vertical-align: middle;\n",
       "    }\n",
       "\n",
       "    .dataframe tbody tr th {\n",
       "        vertical-align: top;\n",
       "    }\n",
       "\n",
       "    .dataframe thead th {\n",
       "        text-align: right;\n",
       "    }\n",
       "</style>\n",
       "<table border=\"1\" class=\"dataframe\">\n",
       "  <thead>\n",
       "    <tr style=\"text-align: right;\">\n",
       "      <th></th>\n",
       "      <th>PS4</th>\n",
       "      <th>PS3</th>\n",
       "      <th>3DS</th>\n",
       "      <th>WiiU</th>\n",
       "      <th>XOne</th>\n",
       "      <th>PC</th>\n",
       "    </tr>\n",
       "  </thead>\n",
       "  <tbody>\n",
       "    <tr>\n",
       "      <td>critic_score</td>\n",
       "      <td>0.401903</td>\n",
       "      <td>0.446575</td>\n",
       "      <td>0.284686</td>\n",
       "      <td>0.375640</td>\n",
       "      <td>0.422112</td>\n",
       "      <td>0.172061</td>\n",
       "    </tr>\n",
       "    <tr>\n",
       "      <td>user_score</td>\n",
       "      <td>-0.040132</td>\n",
       "      <td>-0.166761</td>\n",
       "      <td>0.215193</td>\n",
       "      <td>0.407926</td>\n",
       "      <td>-0.070384</td>\n",
       "      <td>-0.071597</td>\n",
       "    </tr>\n",
       "  </tbody>\n",
       "</table>\n",
       "</div>"
      ],
      "text/plain": [
       "                   PS4       PS3       3DS      WiiU      XOne        PC\n",
       "critic_score  0.401903  0.446575  0.284686  0.375640  0.422112  0.172061\n",
       "user_score   -0.040132 -0.166761  0.215193  0.407926 -0.070384 -0.071597"
      ]
     },
     "execution_count": 37,
     "metadata": {},
     "output_type": "execute_result"
    }
   ],
   "source": [
    "# удаляем строку со значениями 1\n",
    "df_corr=df_corr.drop(2, axis=0).copy()\n",
    "# переименовали индексы\n",
    "df_corr.index=['critic_score', 'user_score']\n",
    "df_corr"
   ]
  },
  {
   "cell_type": "code",
   "execution_count": 38,
   "metadata": {},
   "outputs": [
    {
     "data": {
      "image/png": "[encoded data removed]",
      "text/plain": [
       "<Figure size 864x576 with 1 Axes>"
      ]
     },
     "metadata": {},
     "output_type": "display_data"
    }
   ],
   "source": [
    "ax=df_corr.\\\n",
    "plot(kind='bar', figsize=(12,8),grid=True, title='Корреляция между продажами и оценкой критиков и пользователей', legend = True )\n",
    "ax.set_ylabel(\"Коэффициент корреляции\")\n",
    "ax.set_xlabel(\"Игровые платформы\")\n",
    "stick=('Оценка критиков','Оценка пользователей' )\n",
    "plt.xticks(rotation=0)\n",
    "ax.set_xticklabels(stick)\n",
    "plt.show()"
   ]
  },
  {
   "cell_type": "markdown",
   "metadata": {},
   "source": [
    "- Из анализа корреляции между продажами и оценками критиков и пользователей можно сделать вывод что для некоторых платформ корреляция между продажами и оценкой критиков имеет умеренное значение. Наибольшее значение среди наиболее популярных платформ WiiU=0.4.\n",
    "- В тоже время оценка критиков имеет примерно одинаковое влияние на продажи для анализируемых платформ. Но для PC рейтинг критиков имеет меньшее значение.\n"
   ]
  },
  {
   "cell_type": "markdown",
   "metadata": {},
   "source": [
    "### Анализ игр по жанрам"
   ]
  },
  {
   "cell_type": "code",
   "execution_count": 39,
   "metadata": {},
   "outputs": [
    {
     "name": "stderr",
     "output_type": "stream",
     "text": [
      "/opt/conda/lib/python3.7/site-packages/numpy/core/_asarray.py:83: VisibleDeprecationWarning: Creating an ndarray from ragged nested sequences (which is a list-or-tuple of lists-or-tuples-or ndarrays with different lengths or shapes) is deprecated. If you meant to do this, you must specify 'dtype=object' when creating the ndarray\n",
      "  return array(a, dtype, copy=False, order=order)\n"
     ]
    },
    {
     "data": {
      "image/png": "[encoded data removed]",
      "text/plain": [
       "<Figure size 1008x720 with 1 Axes>"
      ]
     },
     "metadata": {},
     "output_type": "display_data"
    }
   ],
   "source": [
    "fig, ax = plt.subplots(figsize=(14,10))\n",
    "box_sort(df[(df['year_of_release']>0)&(df['year_of_release']>=2014)],'sum', 'genre')\n",
    "ax.set_ylim(0,5)\n",
    "ax.set_ylabel(\"Продажи, млн. копий\")\n",
    "ax.set_xlabel(\"Жанры игры\")\n",
    "plt.show()"
   ]
  },
  {
   "cell_type": "markdown",
   "metadata": {},
   "source": [
    "Анализ игр по жанрам позволяет сделать следующие выводы:\n",
    "- Наиболее популярные это Шутеры, которые значительно опережают по медиане и верхней квартиле другие жанры, также в этом жанре есть игра с максимальными продажами;\n",
    "- Во многих жанрах есть очень удачные игры продажи которых достигают млн. копий;\n",
    "- Наименее популярные и успешные жанры — это стратегии, пазлы, приключения и симуляторы;\n",
    "- Хотя Экшены, Misk и Гонки в целом не очень удачные жанры, у этих жанров есть очень удачные игры;\n",
    "- Платформы хотя и заняли третье место, но в целом \n"
   ]
  },
  {
   "cell_type": "markdown",
   "metadata": {},
   "source": [
    "### Выводы"
   ]
  },
  {
   "cell_type": "markdown",
   "metadata": {},
   "source": [
    "- по сравнению с 1980 годом выпуск игр увеличился в больше чем на два порядка;\n",
    "- максимум выпуск игр достиг в 2008-2009 годах и потом начал уменьшаться.\n",
    "- можно условно выделить следующие группы игр: \n",
    "    - \"неудачные\" - до 3 лет жизни. Проекты были признаны неудачные и вскоре были закрыты;\n",
    "    - \"средний вариант\" - от 4 до 8 лет жизни. Проекты развивались некоторое время, но были закрыты;\n",
    "    - \"ветераны\" - от 10 лет. Платформы завоевали свое место под солнцем и долго развивались;\n",
    "- так как основная задача стоит в разработке рекомендаций, c учетом того, что жизненный цикл для игровых платформ составляет 7.68 лет, поэтому выберем в качестве периода для прогноза соизмеримую увеличу в 3 года. Поэтому будем использовать данные с 2014 по 2016 года;\n",
    "- лидируют по продажам PS4. Заметно отстают XOne и 3DS. Остальные платформы не заминают значительного положения по продажам;\n",
    "-  в целом можно отметить весьма негативные тенденции по продажам игр для игровых платформ. Лучше всего выглядит PS4, но и в это случае на лицо явно выраженные негативные тенденции. Видимо, это связано с миграцией пользователей на онлайн-игры монетизация которых отлична от монетизации анализируемых игр;\n",
    "\n",
    "- несмотря на лидерство платформы PS4 по суммарных продажах игр, в пересчете на одну игру медианна прибыль незначительно больше у таких игровых платформ как  XOne и  WiiU. В целом можно сказать, что медианные значения для первых 5 игровых платформ мало отличаются.  Также имеется значительно число выбросов для всех платформ. Размер третьего и верхнего квартиля на графиках позволяет сказать, что имеется значительно число игр, которые гораздо успешнее по продажам чем \"типичная\" игра платформы;\n",
    "- существует прямая зависимость между оценкой критиков и продажами. Но связь эта умеренная; \n",
    "- связь между продажами и оценкой пользователей на основе расчета коэффициента Пирсона не выявлена;\n",
    "- результат для оценки пользователей является неожиданным, возможно, что имеется другие переменные, которые не были учтены в данном анализе;\n",
    "- для некоторых платформ корреляция между продажами и оценкой критиков имеет умеренное значение. Наибольшее значение среди наиболее популярных платформ WiiU=0.4;\n",
    "- В тоже время оценка критиков имеет примерно одинаковое влияние на продажи для анализируемых платформ.\n"
   ]
  },
  {
   "cell_type": "markdown",
   "metadata": {},
   "source": [
    "## Анализ игр по регионам"
   ]
  },
  {
   "cell_type": "code",
   "execution_count": 40,
   "metadata": {},
   "outputs": [],
   "source": [
    "df_region=df[(df['year_of_release']>0)&(df['year_of_release']>=2014)].\\\n",
    "    groupby('platform').\\\n",
    "    agg({'na_sales': 'sum','eu_sales': 'sum','jp_sales': 'sum','other_sales': 'sum'})"
   ]
  },
  {
   "cell_type": "code",
   "execution_count": 41,
   "metadata": {},
   "outputs": [
    {
     "data": {
      "text/plain": [
       "platform\n",
       "PS4     98.61\n",
       "XOne    81.27\n",
       "X360    28.30\n",
       "3DS     22.64\n",
       "PS3     22.05\n",
       "WiiU    19.36\n",
       "PC       7.23\n",
       "PSV      2.52\n",
       "Wii      2.08\n",
       "PSP      0.00\n",
       "Name: na_sales, dtype: float64"
      ]
     },
     "execution_count": 41,
     "metadata": {},
     "output_type": "execute_result"
    }
   ],
   "source": [
    "df_region['na_sales'].sort_values(ascending=False)"
   ]
  },
  {
   "cell_type": "code",
   "execution_count": 42,
   "metadata": {},
   "outputs": [
    {
     "data": {
      "text/plain": [
       "platform\n",
       "PS4     130.04\n",
       "XOne     46.25\n",
       "PS3      25.54\n",
       "PC       17.97\n",
       "3DS      16.12\n",
       "X360     15.49\n",
       "WiiU     13.15\n",
       "PSV       3.53\n",
       "Wii       2.59\n",
       "PSP       0.00\n",
       "Name: eu_sales, dtype: float64"
      ]
     },
     "execution_count": 42,
     "metadata": {},
     "output_type": "execute_result"
    }
   ],
   "source": [
    "df_region['eu_sales'].sort_values(ascending=False)"
   ]
  },
  {
   "cell_type": "code",
   "execution_count": 43,
   "metadata": {},
   "outputs": [
    {
     "data": {
      "text/plain": [
       "platform\n",
       "3DS     44.24\n",
       "PS4     15.02\n",
       "PSV     14.54\n",
       "PS3     11.22\n",
       "WiiU     7.31\n",
       "PSP      0.36\n",
       "XOne     0.32\n",
       "X360     0.08\n",
       "Wii      0.00\n",
       "PC       0.00\n",
       "Name: jp_sales, dtype: float64"
      ]
     },
     "execution_count": 43,
     "metadata": {},
     "output_type": "execute_result"
    }
   ],
   "source": [
    "df_region['jp_sales'].sort_values(ascending=False)"
   ]
  },
  {
   "cell_type": "code",
   "execution_count": 44,
   "metadata": {},
   "outputs": [
    {
     "data": {
      "text/html": [
       "<div>\n",
       "<style scoped>\n",
       "    .dataframe tbody tr th:only-of-type {\n",
       "        vertical-align: middle;\n",
       "    }\n",
       "\n",
       "    .dataframe tbody tr th {\n",
       "        vertical-align: top;\n",
       "    }\n",
       "\n",
       "    .dataframe thead th {\n",
       "        text-align: right;\n",
       "    }\n",
       "</style>\n",
       "<table border=\"1\" class=\"dataframe\">\n",
       "  <thead>\n",
       "    <tr style=\"text-align: right;\">\n",
       "      <th></th>\n",
       "      <th>na_sales</th>\n",
       "      <th>eu_sales</th>\n",
       "      <th>jp_sales</th>\n",
       "      <th>other_sales</th>\n",
       "    </tr>\n",
       "    <tr>\n",
       "      <th>platform</th>\n",
       "      <th></th>\n",
       "      <th></th>\n",
       "      <th></th>\n",
       "      <th></th>\n",
       "    </tr>\n",
       "  </thead>\n",
       "  <tbody>\n",
       "    <tr>\n",
       "      <td>3DS</td>\n",
       "      <td>22.64</td>\n",
       "      <td>16.12</td>\n",
       "      <td>44.24</td>\n",
       "      <td>3.68</td>\n",
       "    </tr>\n",
       "    <tr>\n",
       "      <td>PC</td>\n",
       "      <td>7.23</td>\n",
       "      <td>17.97</td>\n",
       "      <td>0.00</td>\n",
       "      <td>1.85</td>\n",
       "    </tr>\n",
       "    <tr>\n",
       "      <td>PS3</td>\n",
       "      <td>22.05</td>\n",
       "      <td>25.54</td>\n",
       "      <td>11.22</td>\n",
       "      <td>9.37</td>\n",
       "    </tr>\n",
       "    <tr>\n",
       "      <td>PS4</td>\n",
       "      <td>98.61</td>\n",
       "      <td>130.04</td>\n",
       "      <td>15.02</td>\n",
       "      <td>44.48</td>\n",
       "    </tr>\n",
       "    <tr>\n",
       "      <td>PSP</td>\n",
       "      <td>0.00</td>\n",
       "      <td>0.00</td>\n",
       "      <td>0.36</td>\n",
       "      <td>0.00</td>\n",
       "    </tr>\n",
       "    <tr>\n",
       "      <td>PSV</td>\n",
       "      <td>2.52</td>\n",
       "      <td>3.53</td>\n",
       "      <td>14.54</td>\n",
       "      <td>1.81</td>\n",
       "    </tr>\n",
       "    <tr>\n",
       "      <td>Wii</td>\n",
       "      <td>2.08</td>\n",
       "      <td>2.59</td>\n",
       "      <td>0.00</td>\n",
       "      <td>0.40</td>\n",
       "    </tr>\n",
       "    <tr>\n",
       "      <td>WiiU</td>\n",
       "      <td>19.36</td>\n",
       "      <td>13.15</td>\n",
       "      <td>7.31</td>\n",
       "      <td>3.16</td>\n",
       "    </tr>\n",
       "    <tr>\n",
       "      <td>X360</td>\n",
       "      <td>28.30</td>\n",
       "      <td>15.49</td>\n",
       "      <td>0.08</td>\n",
       "      <td>4.35</td>\n",
       "    </tr>\n",
       "    <tr>\n",
       "      <td>XOne</td>\n",
       "      <td>81.27</td>\n",
       "      <td>46.25</td>\n",
       "      <td>0.32</td>\n",
       "      <td>12.52</td>\n",
       "    </tr>\n",
       "  </tbody>\n",
       "</table>\n",
       "</div>"
      ],
      "text/plain": [
       "          na_sales  eu_sales  jp_sales  other_sales\n",
       "platform                                           \n",
       "3DS          22.64     16.12     44.24         3.68\n",
       "PC            7.23     17.97      0.00         1.85\n",
       "PS3          22.05     25.54     11.22         9.37\n",
       "PS4          98.61    130.04     15.02        44.48\n",
       "PSP           0.00      0.00      0.36         0.00\n",
       "PSV           2.52      3.53     14.54         1.81\n",
       "Wii           2.08      2.59      0.00         0.40\n",
       "WiiU         19.36     13.15      7.31         3.16\n",
       "X360         28.30     15.49      0.08         4.35\n",
       "XOne         81.27     46.25      0.32        12.52"
      ]
     },
     "execution_count": 44,
     "metadata": {},
     "output_type": "execute_result"
    }
   ],
   "source": [
    "df_region"
   ]
  },
  {
   "cell_type": "code",
   "execution_count": 45,
   "metadata": {},
   "outputs": [
    {
     "data": {
      "image/png": "[encoded data removed]",
      "text/plain": [
       "<Figure size 432x288 with 1 Axes>"
      ]
     },
     "metadata": {},
     "output_type": "display_data"
    },
    {
     "data": {
      "image/png": "[encoded data removed]",
      "text/plain": [
       "<Figure size 432x288 with 1 Axes>"
      ]
     },
     "metadata": {},
     "output_type": "display_data"
    },
    {
     "data": {
      "image/png": "[encoded data removed]",
      "text/plain": [
       "<Figure size 432x288 with 1 Axes>"
      ]
     },
     "metadata": {},
     "output_type": "display_data"
    },
    {
     "data": {
      "image/png": "[encoded data removed]",
      "text/plain": [
       "<Figure size 432x288 with 1 Axes>"
      ]
     },
     "metadata": {},
     "output_type": "display_data"
    }
   ],
   "source": [
    "df_region['na_sales'].sort_values(ascending=False).head(5).plot(kind='pie')\n",
    "plt.pie(df_region['na_sales'].sort_values(ascending=False).head(5), autopct='%1.0f%%', pctdistance=0.7, labeldistance=1.2)\n",
    "plt.show()\n",
    "df_region['eu_sales'].sort_values(ascending=False).head(5).plot(kind='pie')\n",
    "plt.pie(df_region['eu_sales'].sort_values(ascending=False).head(5), autopct='%1.0f%%', pctdistance=0.7, labeldistance=1.2)\n",
    "plt.show()\n",
    "df_region['jp_sales'].sort_values(ascending=False).head(5).plot(kind='pie')\n",
    "plt.pie(df_region['jp_sales'].sort_values(ascending=False).head(5), autopct='%1.0f%%', pctdistance=0.7, labeldistance=1.2)\n",
    "plt.show()\n",
    "df_region['other_sales'].sort_values(ascending=False).head(5).plot(kind='pie')\n",
    "plt.pie(df_region['other_sales'].sort_values(ascending=False).head(5), autopct='%1.0f%%', pctdistance=0.7, labeldistance=1.2)\n",
    "plt.show()\n"
   ]
  },
  {
   "cell_type": "markdown",
   "metadata": {},
   "source": [
    "Из анализа графиков продажи по регионам можно сделать следующие выводы:\n",
    "- Наибольшую долю рынка в Северной Америке,  ЕС и категория Другие страны занимают PS4 и XOne;\n",
    "- В ЕС популярна платформа РС в отличии от других регионов;\n",
    "- Предпочтения в Японии существенно отличаются от Северной Америки и ЕС: наиболее пополярны 3DS, PS4, PSV."
   ]
  },
  {
   "cell_type": "code",
   "execution_count": 46,
   "metadata": {},
   "outputs": [],
   "source": [
    "df_region=df[(df['year_of_release']>0)&(df['year_of_release']>=2014)].\\\n",
    "    groupby('genre').\\\n",
    "    agg({'na_sales': 'sum','eu_sales': 'sum','jp_sales': 'sum','other_sales': 'sum' })"
   ]
  },
  {
   "cell_type": "code",
   "execution_count": 47,
   "metadata": {},
   "outputs": [
    {
     "data": {
      "image/png": "[encoded data removed]",
      "text/plain": [
       "<Figure size 432x288 with 1 Axes>"
      ]
     },
     "metadata": {},
     "output_type": "display_data"
    },
    {
     "data": {
      "image/png": "[encoded data removed]",
      "text/plain": [
       "<Figure size 432x288 with 1 Axes>"
      ]
     },
     "metadata": {},
     "output_type": "display_data"
    },
    {
     "data": {
      "image/png": "[encoded data removed]",
      "text/plain": [
       "<Figure size 432x288 with 1 Axes>"
      ]
     },
     "metadata": {},
     "output_type": "display_data"
    },
    {
     "data": {
      "image/png": "[encoded data removed]",
      "text/plain": [
       "<Figure size 432x288 with 1 Axes>"
      ]
     },
     "metadata": {},
     "output_type": "display_data"
    }
   ],
   "source": [
    "df_region['na_sales'].sort_values(ascending=False).head(5).plot(kind='pie')\n",
    "plt.pie(df_region['na_sales'].sort_values(ascending=False).head(5), autopct='%1.0f%%', pctdistance=0.8, labeldistance=2)\n",
    "plt.show()\n",
    "df_region['eu_sales'].sort_values(ascending=False).head(5).plot(kind='pie')\n",
    "plt.pie(df_region['eu_sales'].sort_values(ascending=False).head(5), autopct='%1.0f%%', pctdistance=0.7, labeldistance=1.2)\n",
    "plt.show()\n",
    "df_region['jp_sales'].sort_values(ascending=False).head(5).plot(kind='pie')\n",
    "plt.pie(df_region['jp_sales'].sort_values(ascending=False).head(5), autopct='%1.0f%%', pctdistance=0.7, labeldistance=1.2)\n",
    "plt.show()\n",
    "df_region['other_sales'].sort_values(ascending=False).head(5).plot(kind='pie')\n",
    "plt.pie(df_region['other_sales'].sort_values(ascending=False).head(5), autopct='%1.0f%%', pctdistance=0.7, labeldistance=1.2)\n",
    "plt.show()"
   ]
  },
  {
   "cell_type": "markdown",
   "metadata": {},
   "source": [
    "- В Северной Америке и ЕС наиболее популярны: Шутеры, Акшины, Спорт и Ролевые игры.\n",
    "- В Северной Америке и Японии играют в Misk в отличии в ЕС;\n",
    "- Популярность игр в Японии отличается от Северной Америки и ЕС: наиболее популярны ролевые игры, Экшены, Файтинги;\n",
    "- Категория другие страны наиболее похожа на Северную Америку.\n"
   ]
  },
  {
   "cell_type": "code",
   "execution_count": 48,
   "metadata": {},
   "outputs": [
    {
     "data": {
      "image/png": "[encoded data removed]",
      "text/plain": [
       "<Figure size 432x288 with 1 Axes>"
      ]
     },
     "metadata": {},
     "output_type": "display_data"
    },
    {
     "data": {
      "image/png": "[encoded data removed]",
      "text/plain": [
       "<Figure size 432x288 with 1 Axes>"
      ]
     },
     "metadata": {},
     "output_type": "display_data"
    },
    {
     "data": {
      "image/png": "[encoded data removed]",
      "text/plain": [
       "<Figure size 432x288 with 1 Axes>"
      ]
     },
     "metadata": {},
     "output_type": "display_data"
    }
   ],
   "source": [
    "df_region=df[(df['year_of_release']>0)&(df['year_of_release']>=2014)].\\\n",
    "    groupby('rating').\\\n",
    "    agg({'na_sales': 'sum','eu_sales': 'sum','jp_sales': 'sum' })\n",
    "df_region['na_sales'].sort_values(ascending=False).head(5).plot(kind='pie')\n",
    "plt.pie(df_region['na_sales'].sort_values(ascending=False).head(5), autopct='%1.0f%%', pctdistance=0.8, labeldistance=2, startangle=0)\n",
    "plt.show()\n",
    "df_region['eu_sales'].sort_values(ascending=False).head(5).plot(kind='pie')\n",
    "plt.pie(df_region['eu_sales'].sort_values(ascending=False).head(5), autopct='%1.0f%%', pctdistance=0.7, labeldistance=1.2)\n",
    "plt.show()\n",
    "df_region['jp_sales'].sort_values(ascending=False).head(5).plot(kind='pie')\n",
    "plt.pie(df_region['jp_sales'].sort_values(ascending=False).head(5), autopct='%1.0f%%', pctdistance=0.7, labeldistance=1.2)\n",
    "plt.show()\n"
   ]
  },
  {
   "cell_type": "markdown",
   "metadata": {},
   "source": [
    "- No rating  занимает заметное место, особенно в Японии;\n",
    "- «M» («Mature») — «От 17 лет - наиболее популярны в США и ЕС.\n",
    "- «E» («Everyone») — «Для всех» - занимает второе место везде.\n",
    "- «E10+» («Everyone 10 and older») — «Для всех старше 10 лет» - наименее популярный жанр в виду наличие небольшого промежутка по возрасту от 10 до 12 лет. \n",
    "- «T» («Teen») — «Подросткам»: Игра подходит для лиц от 13 лет и старше. Наиболее популярный жанр в Японии.\n",
    "\n"
   ]
  },
  {
   "cell_type": "markdown",
   "metadata": {},
   "source": [
    "### Выводы"
   ]
  },
  {
   "cell_type": "markdown",
   "metadata": {},
   "source": [
    "- наиболее популярные это Шутеры, которые значительно опережают по медиане и верхней квартиле другие жанры, также в этом жанре есть игра с максимальными продажами;\n",
    "- во многих жанрах есть очень удачные игры продажи которых достигают млн. копий;\n",
    "- наименее популярные и наименее успешные жанры — это стратегии, пазлы, приключения и симуляторы;\n",
    "- хотя Экшены, Misk и Гонки в целом не очень удачные жанры, у этих жанров есть очень удачные игры;\n",
    "- Платформы хотя и заняли третье место, но в целом среди этого жанра нет очень популярных игр.\n",
    "- наибольшую долю рынка в США,  ЕС и категория Другие страны занимают PS4 и XOne;\n",
    "- в ЕС популярна платформа РС в отличии от других регионов;\n",
    "- предпочтения в Японии существенно отличаются от США и ЕС: наиболее популярны 3DS, PS4, PSV.\n",
    "- в США и ЕС наиболее популярны: Шутеры, Акшины, Спорт и Ролевые игры.\n",
    "- в США и Японии играют в Misk в отличии в ЕС;\n",
    "- популярность игр в Японии отличается от США и ЕС: наиболее популярны ролевые игры, Экшены, Файтинги;\n",
    "- категория другие страны наиболее похожа на США.\n",
    "- «M» («Mature») — «От 17 лет - наиболее популярны в США и ЕС. Япония - третье место.\n",
    "- «E» («Everyone») — «Для всех» - занимает второе место везде.\n",
    "- «E10+» («Everyone 10 and older») — «Для всех старше 10 лет» - наименее популярный жанр в виду наличие небольшого промежутка по возрасту от 10 до 12 лет. \n",
    "- «T» («Teen») — «Подросткам»: Игра подходит для лиц от 13 лет и старше. Наиболее популярный жанр в Японии.\n"
   ]
  },
  {
   "cell_type": "markdown",
   "metadata": {},
   "source": [
    "## Статистический анализ\n"
   ]
  },
  {
   "cell_type": "markdown",
   "metadata": {},
   "source": [
    "### Средние пользовательские рейтинги платформ Xbox One и PC\n"
   ]
  },
  {
   "cell_type": "markdown",
   "metadata": {},
   "source": [
    "- H0: Средние пользовательские рейтинги платформ Xbox One и PC одинаковые;\n",
    "- H1: Средние пользовательские рейтинги платформ Xbox One и PC различны.\n"
   ]
  },
  {
   "cell_type": "code",
   "execution_count": 49,
   "metadata": {},
   "outputs": [
    {
     "name": "stdout",
     "output_type": "stream",
     "text": [
      "p-значение:  0.11601398086668827\n"
     ]
    }
   ],
   "source": [
    "results = st.ttest_ind(\n",
    "    df[(df['platform']=='XOne')&(df['user_score']>0)&(df['year_of_release']>=2014)]['user_score'], \n",
    "    df[(df['platform']=='PC'  )&(df['user_score']>0)&(df['year_of_release']>=2014)]['user_score'], \n",
    "    nan_policy='omit',\n",
    "    equal_var = False\n",
    ")\n",
    "print('p-значение: ', results.pvalue)"
   ]
  },
  {
   "cell_type": "markdown",
   "metadata": {},
   "source": [
    "st.ttest_ind предназначен для рассчета Т-критерия для средних значений двух независимых выборок.Это двусторонний тест для нулевой гипотезы о том, что 2 независимые выборки имеют одинаковые средние значения. Этот тест предполагает, что по умолчанию совокупности имеют идентичные дисперсии. Я использовал equal_var = False"
   ]
  },
  {
   "cell_type": "markdown",
   "metadata": {},
   "source": [
    "Нулевая гипотеза не может быть отвергнута при альфа равного 0.05. Основываясь на полученных данным, можно утверждать, что средние пользовательские рейтинги платформ Xbox One и PC статистически не различаются.\n"
   ]
  },
  {
   "cell_type": "markdown",
   "metadata": {},
   "source": [
    "- H0: Средние пользовательские рейтинги жанров Action (англ. «действие», экшен-игры) и Sports (англ. «спортивные соревнования») одинаковые;\n",
    "- H1: Средние пользовательские рейтинги жанров Action  и Sports разные."
   ]
  },
  {
   "cell_type": "code",
   "execution_count": 50,
   "metadata": {},
   "outputs": [
    {
     "name": "stdout",
     "output_type": "stream",
     "text": [
      "p-значение:  1.1825550382644557e-14\n"
     ]
    }
   ],
   "source": [
    "results = st.ttest_ind(\n",
    "    df[(df['genre']=='Action')&(df['user_score']>0)&(df['year_of_release']>=2014)]['user_score'], \n",
    "    df[(df['genre']=='Sports')&(df['user_score']>0)&(df['year_of_release']>=2014)]['user_score'], \n",
    "    nan_policy='omit',\n",
    "    equal_var = False\n",
    ")\n",
    "print('p-значение: ', results.pvalue)"
   ]
  },
  {
   "cell_type": "markdown",
   "metadata": {},
   "source": [
    "Нулевая гипотеза может быть отвергнута стандартное значении альфа=0.05 позволяет сделать такой вывод. Таким образом гипотеза о том, что средние пользовательские рейтинги жанров Action (англ. «действие», экшен-игры) и Sports (англ. «спортивные соревнования») различны нашла подтверждение. "
   ]
  },
  {
   "cell_type": "markdown",
   "metadata": {},
   "source": [
    "# Общий вывод"
   ]
  },
  {
   "cell_type": "markdown",
   "metadata": {},
   "source": [
    "- по сравнению с 1980 годом выпуск игр увеличился в больше чем на два порядка. Максимум выпуск игр достиг в 2008-2009 годах и потом начал уменьшаться.\n",
    "- можно условно выделить следующие группы игр: \"Неудачные\" - до 3 лет жизни. \"Средний вариант\" - от 4 до 8 лет жизни.  \"Ветераны\" - от 10 лет -платформы завоевали свое место под солнцем и долго развивались;\n",
    "- жизненный цикл для игровых платформ составляет 7.68 лет, поэтому выберем в качестве периода для прогноза соизмеримую увеличу в 3 года. Поэтому использовали данные с 2014 по 2016 года;\n",
    "- лидируют по продажам PS4. Заметно отстают XOne и 3DS. Остальные платформы не заминают значительного положения по продажам;\n",
    "-  в целом можно отметить весьма негативные тенденции по продажам игр для игровых платформ. Лучше всего выглядит PS4, но и в это случае на лицо явно выраженные негативные тенденции. Видимо, это связано с миграцией пользователей на онлайн-игры монетизация которых отлична от монетизации анализируемых игр;\n",
    "- несмотря на лидерство платформы PS4 по суммарных продажах игр, в пересчете на одну игру медианна прибыль незначительно больше у таких игровых платформ как  XOne и  WiiU. В целом можно сказать, что медианные значения для первых 5 игровых платформ мало отличаются.  Также имеется значительно число выбросов для всех платформ. Размер третьего и верхнего квартиля на графиках позволяет сказать, что имеется значительно число игр, которые гораздо успешнее по продажам чем \"типичная\" игра платформы;\n",
    "- существует прямая зависимость между оценкой критиков и продажами. Но связь эта умеренная. Связь между продажами и оценкой пользователей на основе расчета коэффициента Пирсона не выявлена. Результат для оценки пользователей является неожиданным, возможно, что имеется другие переменные, которые не были учтены в данном анализе. Для некоторых платформ корреляция между продажами и оценкой критиков имеет умеренное значение. Наибольшее значение среди наиболее популярных платформ WiiU=0.4. В тоже время оценка критиков имеет примерно одинаковое влияние на продажи для анализируемых платформ;\n",
    "- наиболее популярные это Шутеры, которые значительно опережают по медиане и верхней квартиле другие жанры, также в этом жанре есть игра с максимальными продажами. Во многих жанрах есть очень удачные игры продажи которых достигают млн. копий.Наименее популярные и наименее успешные жанры — это стратегии, пазлы, приключения и симуляторы. Хотя Экшены, Misk и Гонки в целом не очень удачные жанры, у этих жанров есть очень удачные игры. Платформы хотя и заняли третье место, но в целом среди этого жанра нет очень популярных игр.\n",
    "- Наибольшую долю рынка в Северной Америке,  ЕС и категория Другие страны занимают PS4 и XOne. В ЕС популярна платформа РС в отличии от других регионов. Предпочтения в Японии существенно отличаются от Северной Америки и ЕС: наиболее пополярны 3DS, PS4, PSV. Японцы отдают предпочтение отечественным платформам.\n",
    "- В Северной Америке и ЕС наиболее популярны: Шутеры, Акшины, Спорт и Ролевые игры. В Северной Америке и Японии играют в Misk в отличии в ЕС.Популярность игр в Японии отличается от Северной Америки и ЕС: наиболее популярны ролевые игры, Экшены, Файтинги. Категория другие страны наиболее похожа на Северную Америку.\n",
    "- No rating  занимает заметное место, особенно в Японии. «M» («Mature») — «От 17 лет - наиболее популярны в США и ЕС.\n",
    "«E» («Everyone») — «Для всех» - занимает второе место везде. «E10+» («Everyone 10 and older») — «Для всех старше 10 лет»  наименее популярный жанр в виду наличие небольшого промежутка по возрасту от 10 до 12 лет. «T» («Teen») — «Подросткам»: Игра подходит для лиц от 13 лет и старше. Наиболее популярный жанр в Японии.\n",
    "- Основываясь на полученных данным, можно утверждать, что средние пользовательские рейтинги платформ Xbox One и PC статистически не различаются.\n",
    "- Гипотеза о том, что средние пользовательские рейтинги жанров Action (англ. «действие», экшен-игры) и Sports (англ. «спортивные соревнования») различны нашла подтверждение.\n",
    "\n"
   ]
  }
 ],
 "metadata": {
  "ExecuteTimeLog": [
   {
    "duration": 745,
    "start_time": "2021-11-22T10:16:22.059Z"
   },
   {
    "duration": 151,
    "start_time": "2021-11-22T10:16:24.371Z"
   },
   {
    "duration": 40,
    "start_time": "2021-11-22T10:16:30.661Z"
   },
   {
    "duration": 612,
    "start_time": "2021-11-22T10:23:23.642Z"
   },
   {
    "duration": 97,
    "start_time": "2021-11-22T10:23:26.990Z"
   },
   {
    "duration": 29,
    "start_time": "2021-11-22T10:23:29.802Z"
   },
   {
    "duration": 3,
    "start_time": "2021-11-22T10:24:10.152Z"
   },
   {
    "duration": 410,
    "start_time": "2021-11-22T10:24:42.871Z"
   },
   {
    "duration": 6,
    "start_time": "2021-11-22T10:25:13.741Z"
   },
   {
    "duration": 4,
    "start_time": "2021-11-22T10:25:21.832Z"
   },
   {
    "duration": 7,
    "start_time": "2021-11-22T10:25:32.221Z"
   },
   {
    "duration": 25,
    "start_time": "2021-11-22T10:26:02.250Z"
   },
   {
    "duration": 22,
    "start_time": "2021-11-22T10:26:06.939Z"
   },
   {
    "duration": 14,
    "start_time": "2021-11-22T10:26:30.882Z"
   },
   {
    "duration": 305,
    "start_time": "2021-11-22T10:28:23.232Z"
   },
   {
    "duration": 290,
    "start_time": "2021-11-22T10:28:45.161Z"
   },
   {
    "duration": 296,
    "start_time": "2021-11-22T10:29:09.241Z"
   },
   {
    "duration": 296,
    "start_time": "2021-11-22T10:30:09.730Z"
   },
   {
    "duration": 403,
    "start_time": "2021-11-22T10:30:19.762Z"
   },
   {
    "duration": 607,
    "start_time": "2021-11-22T10:30:58.392Z"
   },
   {
    "duration": 12,
    "start_time": "2021-11-22T10:32:05.380Z"
   },
   {
    "duration": 11,
    "start_time": "2021-11-22T10:32:52.782Z"
   },
   {
    "duration": 8,
    "start_time": "2021-11-22T10:33:50.289Z"
   },
   {
    "duration": 7,
    "start_time": "2021-11-22T10:35:16.329Z"
   },
   {
    "duration": 12,
    "start_time": "2021-11-22T10:36:30.457Z"
   },
   {
    "duration": 313,
    "start_time": "2021-11-22T10:37:18.416Z"
   },
   {
    "duration": 43,
    "start_time": "2021-11-22T10:37:36.646Z"
   },
   {
    "duration": 4,
    "start_time": "2021-11-22T10:37:50.097Z"
   },
   {
    "duration": 119,
    "start_time": "2021-11-22T10:37:50.103Z"
   },
   {
    "duration": 23,
    "start_time": "2021-11-22T10:37:50.225Z"
   },
   {
    "duration": 21,
    "start_time": "2021-11-22T10:37:50.251Z"
   },
   {
    "duration": 11,
    "start_time": "2021-11-22T10:37:50.275Z"
   },
   {
    "duration": 76,
    "start_time": "2021-11-22T10:37:50.289Z"
   },
   {
    "duration": 4,
    "start_time": "2021-11-22T10:37:50.367Z"
   },
   {
    "duration": 523,
    "start_time": "2021-11-22T10:37:50.374Z"
   },
   {
    "duration": 648,
    "start_time": "2021-11-22T10:39:15.364Z"
   },
   {
    "duration": 3,
    "start_time": "2021-11-22T10:39:42.059Z"
   },
   {
    "duration": 113,
    "start_time": "2021-11-22T10:39:42.065Z"
   },
   {
    "duration": 33,
    "start_time": "2021-11-22T10:39:42.182Z"
   },
   {
    "duration": 25,
    "start_time": "2021-11-22T10:39:42.219Z"
   },
   {
    "duration": 14,
    "start_time": "2021-11-22T10:39:42.247Z"
   },
   {
    "duration": 92,
    "start_time": "2021-11-22T10:39:42.264Z"
   },
   {
    "duration": 35,
    "start_time": "2021-11-22T10:39:42.359Z"
   },
   {
    "duration": 33,
    "start_time": "2021-11-22T10:39:42.397Z"
   },
   {
    "duration": 294,
    "start_time": "2021-11-22T10:39:42.434Z"
   },
   {
    "duration": 4,
    "start_time": "2021-11-22T10:39:56.445Z"
   },
   {
    "duration": 331,
    "start_time": "2021-11-22T10:40:16.097Z"
   },
   {
    "duration": 331,
    "start_time": "2021-11-22T10:40:24.596Z"
   },
   {
    "duration": 387,
    "start_time": "2021-11-22T10:40:33.754Z"
   },
   {
    "duration": 53,
    "start_time": "2021-11-22T10:40:40.357Z"
   },
   {
    "duration": 31,
    "start_time": "2021-11-22T10:40:53.108Z"
   },
   {
    "duration": 371,
    "start_time": "2021-11-22T10:41:14.709Z"
   },
   {
    "duration": 1377,
    "start_time": "2021-11-22T10:42:40.023Z"
   },
   {
    "duration": 124,
    "start_time": "2021-11-22T10:42:41.403Z"
   },
   {
    "duration": 27,
    "start_time": "2021-11-22T10:42:41.530Z"
   },
   {
    "duration": 4,
    "start_time": "2021-11-22T10:42:41.560Z"
   },
   {
    "duration": 18,
    "start_time": "2021-11-22T10:42:41.566Z"
   },
   {
    "duration": 49,
    "start_time": "2021-11-22T10:42:41.586Z"
   },
   {
    "duration": 42,
    "start_time": "2021-11-22T10:42:41.638Z"
   },
   {
    "duration": 64,
    "start_time": "2021-11-22T10:42:41.683Z"
   },
   {
    "duration": 3,
    "start_time": "2021-11-22T10:42:41.751Z"
   },
   {
    "duration": 432,
    "start_time": "2021-11-22T10:42:41.757Z"
   },
   {
    "duration": 35,
    "start_time": "2021-11-22T10:43:42.844Z"
   },
   {
    "duration": 32,
    "start_time": "2021-11-22T10:43:49.533Z"
   },
   {
    "duration": 14,
    "start_time": "2021-11-22T10:43:58.624Z"
   },
   {
    "duration": 306,
    "start_time": "2021-11-22T10:44:23.564Z"
   },
   {
    "duration": 100,
    "start_time": "2021-11-22T10:44:31.741Z"
   },
   {
    "duration": 297,
    "start_time": "2021-11-22T10:44:36.454Z"
   },
   {
    "duration": 340,
    "start_time": "2021-11-22T10:45:34.676Z"
   },
   {
    "duration": 9,
    "start_time": "2021-11-22T10:45:39.576Z"
   },
   {
    "duration": 8,
    "start_time": "2021-11-22T10:45:51.756Z"
   },
   {
    "duration": 10,
    "start_time": "2021-11-22T10:46:08.376Z"
   },
   {
    "duration": 10,
    "start_time": "2021-11-22T10:47:20.612Z"
   },
   {
    "duration": 13,
    "start_time": "2021-11-22T10:50:06.719Z"
   },
   {
    "duration": 13,
    "start_time": "2021-11-22T10:50:31.359Z"
   },
   {
    "duration": 17,
    "start_time": "2021-11-22T10:51:51.571Z"
   },
   {
    "duration": 37,
    "start_time": "2021-11-22T10:52:56.201Z"
   },
   {
    "duration": 437,
    "start_time": "2021-11-22T10:53:21.971Z"
   },
   {
    "duration": 42,
    "start_time": "2021-11-22T10:53:27.191Z"
   },
   {
    "duration": 45,
    "start_time": "2021-11-22T10:54:43.191Z"
   },
   {
    "duration": 36,
    "start_time": "2021-11-22T10:56:23.263Z"
   },
   {
    "duration": 43,
    "start_time": "2021-11-22T10:56:35.342Z"
   },
   {
    "duration": 18,
    "start_time": "2021-11-22T10:57:15.082Z"
   },
   {
    "duration": 45,
    "start_time": "2021-11-22T10:57:18.083Z"
   },
   {
    "duration": 4,
    "start_time": "2021-11-22T10:59:16.020Z"
   },
   {
    "duration": 130,
    "start_time": "2021-11-22T10:59:16.028Z"
   },
   {
    "duration": 21,
    "start_time": "2021-11-22T10:59:16.161Z"
   },
   {
    "duration": 13,
    "start_time": "2021-11-22T10:59:16.185Z"
   },
   {
    "duration": 39,
    "start_time": "2021-11-22T10:59:16.201Z"
   },
   {
    "duration": 28,
    "start_time": "2021-11-22T10:59:16.243Z"
   },
   {
    "duration": 73,
    "start_time": "2021-11-22T10:59:16.273Z"
   },
   {
    "duration": 7,
    "start_time": "2021-11-22T10:59:16.348Z"
   },
   {
    "duration": 9,
    "start_time": "2021-11-22T10:59:16.487Z"
   },
   {
    "duration": 14,
    "start_time": "2021-11-22T10:59:16.499Z"
   },
   {
    "duration": 24,
    "start_time": "2021-11-22T10:59:16.515Z"
   },
   {
    "duration": 46,
    "start_time": "2021-11-22T10:59:16.607Z"
   },
   {
    "duration": 16,
    "start_time": "2021-11-22T10:59:16.655Z"
   },
   {
    "duration": 58,
    "start_time": "2021-11-22T10:59:16.674Z"
   },
   {
    "duration": 364,
    "start_time": "2021-11-22T11:00:52.450Z"
   },
   {
    "duration": 23,
    "start_time": "2021-11-22T11:00:55.821Z"
   },
   {
    "duration": 291,
    "start_time": "2021-11-22T11:01:57.639Z"
   },
   {
    "duration": 13,
    "start_time": "2021-11-22T11:02:06.851Z"
   },
   {
    "duration": 10,
    "start_time": "2021-11-22T11:02:39.052Z"
   },
   {
    "duration": 15,
    "start_time": "2021-11-22T11:03:43.846Z"
   },
   {
    "duration": 11,
    "start_time": "2021-11-22T11:04:40.337Z"
   },
   {
    "duration": 14,
    "start_time": "2021-11-22T11:05:27.756Z"
   },
   {
    "duration": 11,
    "start_time": "2021-11-22T11:06:02.682Z"
   },
   {
    "duration": 22,
    "start_time": "2021-11-22T11:06:55.461Z"
   },
   {
    "duration": 64,
    "start_time": "2021-11-22T11:06:59.701Z"
   },
   {
    "duration": 25,
    "start_time": "2021-11-22T11:07:36.361Z"
   },
   {
    "duration": 48,
    "start_time": "2021-11-22T11:07:37.681Z"
   },
   {
    "duration": 21,
    "start_time": "2021-11-22T11:08:18.853Z"
   },
   {
    "duration": 48,
    "start_time": "2021-11-22T11:08:20.173Z"
   },
   {
    "duration": -5322,
    "start_time": "2021-11-22T11:59:57.779Z"
   },
   {
    "duration": 6,
    "start_time": "2021-11-22T12:04:43.033Z"
   },
   {
    "duration": 168,
    "start_time": "2021-11-22T12:04:43.043Z"
   },
   {
    "duration": 23,
    "start_time": "2021-11-22T12:04:43.214Z"
   },
   {
    "duration": 17,
    "start_time": "2021-11-22T12:04:43.240Z"
   },
   {
    "duration": 34,
    "start_time": "2021-11-22T12:04:43.260Z"
   },
   {
    "duration": 13,
    "start_time": "2021-11-22T12:04:43.296Z"
   },
   {
    "duration": 31,
    "start_time": "2021-11-22T12:04:43.311Z"
   },
   {
    "duration": 12,
    "start_time": "2021-11-22T12:04:43.345Z"
   },
   {
    "duration": 33,
    "start_time": "2021-11-22T12:04:43.361Z"
   },
   {
    "duration": 44,
    "start_time": "2021-11-22T12:04:43.397Z"
   },
   {
    "duration": 45,
    "start_time": "2021-11-22T12:04:43.444Z"
   },
   {
    "duration": 46,
    "start_time": "2021-11-22T12:04:43.491Z"
   },
   {
    "duration": 9,
    "start_time": "2021-11-22T12:04:43.539Z"
   },
   {
    "duration": 10,
    "start_time": "2021-11-22T12:04:43.550Z"
   },
   {
    "duration": 7,
    "start_time": "2021-11-22T12:04:43.563Z"
   },
   {
    "duration": 100,
    "start_time": "2021-11-22T12:04:43.572Z"
   },
   {
    "duration": 26,
    "start_time": "2021-11-22T12:04:43.675Z"
   },
   {
    "duration": 76,
    "start_time": "2021-11-22T12:04:43.703Z"
   },
   {
    "duration": 7,
    "start_time": "2021-11-22T12:06:40.598Z"
   },
   {
    "duration": 13,
    "start_time": "2021-11-22T12:07:00.618Z"
   },
   {
    "duration": 296,
    "start_time": "2021-11-22T12:07:33.200Z"
   },
   {
    "duration": 4442,
    "start_time": "2021-11-22T12:08:22.336Z"
   },
   {
    "duration": 853,
    "start_time": "2021-11-22T12:09:06.762Z"
   },
   {
    "duration": 598,
    "start_time": "2021-11-22T12:09:14.764Z"
   },
   {
    "duration": 335,
    "start_time": "2021-11-22T12:09:44.143Z"
   },
   {
    "duration": 333,
    "start_time": "2021-11-22T12:09:58.717Z"
   },
   {
    "duration": 343,
    "start_time": "2021-11-22T12:10:24.301Z"
   },
   {
    "duration": 917,
    "start_time": "2021-11-22T12:10:44.382Z"
   },
   {
    "duration": 899,
    "start_time": "2021-11-22T12:11:01.312Z"
   },
   {
    "duration": 900,
    "start_time": "2021-11-22T12:11:57.310Z"
   },
   {
    "duration": 802,
    "start_time": "2021-11-22T12:12:21.370Z"
   },
   {
    "duration": 753,
    "start_time": "2021-11-22T12:12:48.365Z"
   },
   {
    "duration": 777,
    "start_time": "2021-11-22T12:14:08.576Z"
   },
   {
    "duration": 1038,
    "start_time": "2021-11-22T12:18:57.626Z"
   },
   {
    "duration": 4,
    "start_time": "2021-11-22T12:38:14.064Z"
   },
   {
    "duration": 182,
    "start_time": "2021-11-22T12:38:14.071Z"
   },
   {
    "duration": 22,
    "start_time": "2021-11-22T12:38:14.257Z"
   },
   {
    "duration": 15,
    "start_time": "2021-11-22T12:38:14.283Z"
   },
   {
    "duration": 37,
    "start_time": "2021-11-22T12:38:14.301Z"
   },
   {
    "duration": 16,
    "start_time": "2021-11-22T12:38:14.341Z"
   },
   {
    "duration": 18,
    "start_time": "2021-11-22T12:38:14.359Z"
   },
   {
    "duration": 54,
    "start_time": "2021-11-22T12:38:14.380Z"
   },
   {
    "duration": 27,
    "start_time": "2021-11-22T12:38:14.440Z"
   },
   {
    "duration": 14,
    "start_time": "2021-11-22T12:38:14.470Z"
   },
   {
    "duration": 45,
    "start_time": "2021-11-22T12:38:14.528Z"
   },
   {
    "duration": 9,
    "start_time": "2021-11-22T12:38:14.576Z"
   },
   {
    "duration": 43,
    "start_time": "2021-11-22T12:38:14.587Z"
   },
   {
    "duration": 12,
    "start_time": "2021-11-22T12:38:14.634Z"
   },
   {
    "duration": 14,
    "start_time": "2021-11-22T12:38:14.648Z"
   },
   {
    "duration": 87,
    "start_time": "2021-11-22T12:38:14.665Z"
   },
   {
    "duration": 29,
    "start_time": "2021-11-22T12:38:14.754Z"
   },
   {
    "duration": 79,
    "start_time": "2021-11-22T12:38:14.786Z"
   },
   {
    "duration": 7,
    "start_time": "2021-11-22T12:38:14.868Z"
   },
   {
    "duration": 18,
    "start_time": "2021-11-22T12:38:14.878Z"
   },
   {
    "duration": 1014,
    "start_time": "2021-11-22T12:38:14.899Z"
   },
   {
    "duration": 11,
    "start_time": "2021-11-22T12:42:14.140Z"
   },
   {
    "duration": 32,
    "start_time": "2021-11-22T12:42:24.298Z"
   },
   {
    "duration": 433,
    "start_time": "2021-11-22T12:53:58.248Z"
   },
   {
    "duration": 132,
    "start_time": "2021-11-22T12:56:00.601Z"
   },
   {
    "duration": 340,
    "start_time": "2021-11-22T12:56:10.832Z"
   },
   {
    "duration": 315,
    "start_time": "2021-11-22T12:56:43.800Z"
   },
   {
    "duration": 115,
    "start_time": "2021-11-22T12:58:30.532Z"
   },
   {
    "duration": 98,
    "start_time": "2021-11-22T12:58:45.322Z"
   },
   {
    "duration": 110,
    "start_time": "2021-11-22T12:59:37.736Z"
   },
   {
    "duration": 815,
    "start_time": "2021-11-22T13:00:00.304Z"
   },
   {
    "duration": 944,
    "start_time": "2021-11-22T13:00:30.356Z"
   },
   {
    "duration": 805,
    "start_time": "2021-11-22T13:01:19.447Z"
   },
   {
    "duration": 707,
    "start_time": "2021-11-22T13:01:39.283Z"
   },
   {
    "duration": 764,
    "start_time": "2021-11-22T13:01:57.197Z"
   },
   {
    "duration": 944,
    "start_time": "2021-11-22T13:02:04.115Z"
   },
   {
    "duration": 1315,
    "start_time": "2021-11-22T13:02:22.475Z"
   },
   {
    "duration": 845,
    "start_time": "2021-11-22T13:02:33.493Z"
   },
   {
    "duration": 722,
    "start_time": "2021-11-22T13:03:08.916Z"
   },
   {
    "duration": 700,
    "start_time": "2021-11-22T13:03:20.413Z"
   },
   {
    "duration": 1071,
    "start_time": "2021-11-22T13:05:07.338Z"
   },
   {
    "duration": 1071,
    "start_time": "2021-11-22T13:06:57.439Z"
   },
   {
    "duration": 952,
    "start_time": "2021-11-22T13:09:17.080Z"
   },
   {
    "duration": 307,
    "start_time": "2021-11-22T13:25:02.942Z"
   },
   {
    "duration": 6234,
    "start_time": "2021-11-22T13:25:14.622Z"
   },
   {
    "duration": 684,
    "start_time": "2021-11-22T13:25:34.653Z"
   },
   {
    "duration": 417,
    "start_time": "2021-11-22T13:25:53.732Z"
   },
   {
    "duration": 29,
    "start_time": "2021-11-22T13:26:47.929Z"
   },
   {
    "duration": 318,
    "start_time": "2021-11-22T13:28:25.651Z"
   },
   {
    "duration": 33,
    "start_time": "2021-11-22T13:28:35.262Z"
   },
   {
    "duration": 32,
    "start_time": "2021-11-22T13:28:54.282Z"
   },
   {
    "duration": 28,
    "start_time": "2021-11-22T13:28:57.841Z"
   },
   {
    "duration": 270,
    "start_time": "2021-11-22T13:29:09.202Z"
   },
   {
    "duration": 37,
    "start_time": "2021-11-22T13:29:18.312Z"
   },
   {
    "duration": 81,
    "start_time": "2021-11-22T13:29:56.589Z"
   },
   {
    "duration": 28,
    "start_time": "2021-11-22T13:30:43.912Z"
   },
   {
    "duration": 57,
    "start_time": "2021-11-22T13:30:51.291Z"
   },
   {
    "duration": 45,
    "start_time": "2021-11-22T13:31:05.292Z"
   },
   {
    "duration": 24,
    "start_time": "2021-11-22T13:31:48.425Z"
   },
   {
    "duration": 54,
    "start_time": "2021-11-22T13:31:52.413Z"
   },
   {
    "duration": 4,
    "start_time": "2021-11-22T13:38:44.661Z"
   },
   {
    "duration": 9,
    "start_time": "2021-11-22T13:39:38.434Z"
   },
   {
    "duration": 29,
    "start_time": "2021-11-22T13:45:58.423Z"
   },
   {
    "duration": 30,
    "start_time": "2021-11-22T13:46:11.542Z"
   },
   {
    "duration": 29,
    "start_time": "2021-11-22T13:46:23.597Z"
   },
   {
    "duration": 29,
    "start_time": "2021-11-22T13:46:37.926Z"
   },
   {
    "duration": 30,
    "start_time": "2021-11-22T13:48:42.005Z"
   },
   {
    "duration": 304,
    "start_time": "2021-11-22T13:48:52.123Z"
   },
   {
    "duration": 30,
    "start_time": "2021-11-22T13:49:06.890Z"
   },
   {
    "duration": 30,
    "start_time": "2021-11-22T13:50:57.934Z"
   },
   {
    "duration": 31,
    "start_time": "2021-11-22T13:52:03.003Z"
   },
   {
    "duration": 28,
    "start_time": "2021-11-22T13:58:51.945Z"
   },
   {
    "duration": 32,
    "start_time": "2021-11-22T13:59:02.206Z"
   },
   {
    "duration": 77,
    "start_time": "2021-11-22T15:21:14.830Z"
   },
   {
    "duration": 5,
    "start_time": "2021-11-22T15:22:05.321Z"
   },
   {
    "duration": 4,
    "start_time": "2021-11-22T15:22:08.051Z"
   },
   {
    "duration": 48,
    "start_time": "2021-11-22T15:22:20.361Z"
   },
   {
    "duration": 32,
    "start_time": "2021-11-22T15:24:43.025Z"
   },
   {
    "duration": 42,
    "start_time": "2021-11-22T15:24:53.623Z"
   },
   {
    "duration": 30,
    "start_time": "2021-11-22T15:25:22.533Z"
   },
   {
    "duration": 342,
    "start_time": "2021-11-22T15:29:08.504Z"
   },
   {
    "duration": 522,
    "start_time": "2021-11-22T15:29:12.674Z"
   },
   {
    "duration": 333,
    "start_time": "2021-11-22T15:29:17.484Z"
   },
   {
    "duration": 327,
    "start_time": "2021-11-22T15:29:22.333Z"
   },
   {
    "duration": 347,
    "start_time": "2021-11-22T15:29:28.124Z"
   },
   {
    "duration": 324,
    "start_time": "2021-11-22T15:29:43.363Z"
   },
   {
    "duration": 36,
    "start_time": "2021-11-22T15:30:00.194Z"
   },
   {
    "duration": 7034,
    "start_time": "2021-11-22T15:30:35.136Z"
   },
   {
    "duration": 32,
    "start_time": "2021-11-22T15:31:16.285Z"
   },
   {
    "duration": 30,
    "start_time": "2021-11-22T15:31:47.805Z"
   },
   {
    "duration": 2210,
    "start_time": "2021-11-22T15:32:22.817Z"
   },
   {
    "duration": 98,
    "start_time": "2021-11-22T15:32:43.117Z"
   },
   {
    "duration": 303,
    "start_time": "2021-11-22T15:32:54.684Z"
   },
   {
    "duration": 1128,
    "start_time": "2021-11-22T15:33:08.555Z"
   },
   {
    "duration": 105,
    "start_time": "2021-11-22T15:33:25.506Z"
   },
   {
    "duration": 1170,
    "start_time": "2021-11-22T15:33:32.225Z"
   },
   {
    "duration": 9,
    "start_time": "2021-11-22T15:34:47.718Z"
   },
   {
    "duration": 59,
    "start_time": "2021-11-22T15:35:07.176Z"
   },
   {
    "duration": 31,
    "start_time": "2021-11-22T15:35:19.048Z"
   },
   {
    "duration": 282,
    "start_time": "2021-11-22T15:35:48.356Z"
   },
   {
    "duration": 302,
    "start_time": "2021-11-22T15:35:55.484Z"
   },
   {
    "duration": 305,
    "start_time": "2021-11-22T15:36:11.286Z"
   },
   {
    "duration": 7,
    "start_time": "2021-11-22T15:36:14.055Z"
   },
   {
    "duration": 59,
    "start_time": "2021-11-22T15:37:02.152Z"
   },
   {
    "duration": 59,
    "start_time": "2021-11-22T15:37:19.799Z"
   },
   {
    "duration": 288,
    "start_time": "2021-11-23T05:02:12.542Z"
   },
   {
    "duration": 1067,
    "start_time": "2021-11-23T05:02:17.514Z"
   },
   {
    "duration": 186,
    "start_time": "2021-11-23T05:02:18.583Z"
   },
   {
    "duration": 17,
    "start_time": "2021-11-23T05:02:18.771Z"
   },
   {
    "duration": 3,
    "start_time": "2021-11-23T05:02:18.791Z"
   },
   {
    "duration": 10,
    "start_time": "2021-11-23T05:02:18.796Z"
   },
   {
    "duration": 36,
    "start_time": "2021-11-23T05:02:18.808Z"
   },
   {
    "duration": 9,
    "start_time": "2021-11-23T05:02:18.846Z"
   },
   {
    "duration": 8,
    "start_time": "2021-11-23T05:02:18.857Z"
   },
   {
    "duration": 14,
    "start_time": "2021-11-23T05:02:18.868Z"
   },
   {
    "duration": 8,
    "start_time": "2021-11-23T05:02:18.884Z"
   },
   {
    "duration": 55,
    "start_time": "2021-11-23T05:02:18.893Z"
   },
   {
    "duration": 5,
    "start_time": "2021-11-23T05:02:18.950Z"
   },
   {
    "duration": 12,
    "start_time": "2021-11-23T05:02:18.957Z"
   },
   {
    "duration": 11,
    "start_time": "2021-11-23T05:02:18.970Z"
   },
   {
    "duration": 12,
    "start_time": "2021-11-23T05:02:18.983Z"
   },
   {
    "duration": 28,
    "start_time": "2021-11-23T05:02:18.996Z"
   },
   {
    "duration": 31,
    "start_time": "2021-11-23T05:02:19.026Z"
   },
   {
    "duration": 34,
    "start_time": "2021-11-23T05:02:19.059Z"
   },
   {
    "duration": 8,
    "start_time": "2021-11-23T05:02:19.095Z"
   },
   {
    "duration": 11,
    "start_time": "2021-11-23T05:02:19.105Z"
   },
   {
    "duration": 656,
    "start_time": "2021-11-23T05:02:19.118Z"
   },
   {
    "duration": 591,
    "start_time": "2021-11-23T05:02:19.776Z"
   },
   {
    "duration": 301,
    "start_time": "2021-11-23T05:02:20.369Z"
   },
   {
    "duration": 20,
    "start_time": "2021-11-23T05:02:20.672Z"
   },
   {
    "duration": 54,
    "start_time": "2021-11-23T05:02:20.694Z"
   },
   {
    "duration": 5,
    "start_time": "2021-11-23T05:02:20.750Z"
   },
   {
    "duration": 10,
    "start_time": "2021-11-23T05:12:50.524Z"
   },
   {
    "duration": 34,
    "start_time": "2021-11-23T05:12:57.013Z"
   },
   {
    "duration": 441,
    "start_time": "2021-11-23T05:14:09.386Z"
   },
   {
    "duration": 439,
    "start_time": "2021-11-23T05:14:27.432Z"
   },
   {
    "duration": 297,
    "start_time": "2021-11-23T05:15:58.889Z"
   },
   {
    "duration": 4,
    "start_time": "2021-11-23T05:16:32.235Z"
   },
   {
    "duration": 3,
    "start_time": "2021-11-23T05:16:36.314Z"
   },
   {
    "duration": 115,
    "start_time": "2021-11-23T05:16:36.319Z"
   },
   {
    "duration": 14,
    "start_time": "2021-11-23T05:16:36.436Z"
   },
   {
    "duration": 3,
    "start_time": "2021-11-23T05:16:36.452Z"
   },
   {
    "duration": 12,
    "start_time": "2021-11-23T05:16:36.457Z"
   },
   {
    "duration": 7,
    "start_time": "2021-11-23T05:16:36.471Z"
   },
   {
    "duration": 7,
    "start_time": "2021-11-23T05:16:36.480Z"
   },
   {
    "duration": 21,
    "start_time": "2021-11-23T05:16:36.489Z"
   },
   {
    "duration": 34,
    "start_time": "2021-11-23T05:16:36.514Z"
   },
   {
    "duration": 27,
    "start_time": "2021-11-23T05:16:36.550Z"
   },
   {
    "duration": 6,
    "start_time": "2021-11-23T05:16:36.579Z"
   },
   {
    "duration": 6,
    "start_time": "2021-11-23T05:16:36.587Z"
   },
   {
    "duration": 7,
    "start_time": "2021-11-23T05:16:36.595Z"
   },
   {
    "duration": 46,
    "start_time": "2021-11-23T05:16:36.603Z"
   },
   {
    "duration": 29,
    "start_time": "2021-11-23T05:16:36.651Z"
   },
   {
    "duration": 14,
    "start_time": "2021-11-23T05:16:36.682Z"
   },
   {
    "duration": 61,
    "start_time": "2021-11-23T05:16:36.698Z"
   },
   {
    "duration": 5,
    "start_time": "2021-11-23T05:16:36.761Z"
   },
   {
    "duration": 9,
    "start_time": "2021-11-23T05:16:36.767Z"
   },
   {
    "duration": 666,
    "start_time": "2021-11-23T05:16:36.778Z"
   },
   {
    "duration": 612,
    "start_time": "2021-11-23T05:16:37.446Z"
   },
   {
    "duration": 269,
    "start_time": "2021-11-23T05:16:38.061Z"
   },
   {
    "duration": 26,
    "start_time": "2021-11-23T05:16:38.332Z"
   },
   {
    "duration": 35,
    "start_time": "2021-11-23T05:16:38.360Z"
   },
   {
    "duration": 7,
    "start_time": "2021-11-23T05:16:38.397Z"
   },
   {
    "duration": 339,
    "start_time": "2021-11-23T05:18:44.833Z"
   },
   {
    "duration": 4,
    "start_time": "2021-11-23T05:18:51.253Z"
   },
   {
    "duration": 3,
    "start_time": "2021-11-23T05:19:41.246Z"
   },
   {
    "duration": 148,
    "start_time": "2021-11-23T05:19:41.251Z"
   },
   {
    "duration": 14,
    "start_time": "2021-11-23T05:19:41.401Z"
   },
   {
    "duration": 5,
    "start_time": "2021-11-23T05:19:41.416Z"
   },
   {
    "duration": 10,
    "start_time": "2021-11-23T05:19:41.423Z"
   },
   {
    "duration": 7,
    "start_time": "2021-11-23T05:19:41.435Z"
   },
   {
    "duration": 7,
    "start_time": "2021-11-23T05:19:41.444Z"
   },
   {
    "duration": 16,
    "start_time": "2021-11-23T05:19:41.453Z"
   },
   {
    "duration": 9,
    "start_time": "2021-11-23T05:19:41.472Z"
   },
   {
    "duration": 27,
    "start_time": "2021-11-23T05:19:41.483Z"
   },
   {
    "duration": 37,
    "start_time": "2021-11-23T05:19:41.512Z"
   },
   {
    "duration": 7,
    "start_time": "2021-11-23T05:19:41.550Z"
   },
   {
    "duration": 6,
    "start_time": "2021-11-23T05:19:41.558Z"
   },
   {
    "duration": 6,
    "start_time": "2021-11-23T05:19:41.566Z"
   },
   {
    "duration": 28,
    "start_time": "2021-11-23T05:19:41.574Z"
   },
   {
    "duration": 47,
    "start_time": "2021-11-23T05:19:41.604Z"
   },
   {
    "duration": 31,
    "start_time": "2021-11-23T05:19:41.653Z"
   },
   {
    "duration": 4,
    "start_time": "2021-11-23T05:19:41.686Z"
   },
   {
    "duration": 10,
    "start_time": "2021-11-23T05:19:41.692Z"
   },
   {
    "duration": 526,
    "start_time": "2021-11-23T05:19:41.703Z"
   },
   {
    "duration": 733,
    "start_time": "2021-11-23T05:19:42.231Z"
   },
   {
    "duration": 272,
    "start_time": "2021-11-23T05:19:42.965Z"
   },
   {
    "duration": 21,
    "start_time": "2021-11-23T05:19:43.238Z"
   },
   {
    "duration": 36,
    "start_time": "2021-11-23T05:19:43.261Z"
   },
   {
    "duration": 6,
    "start_time": "2021-11-23T05:19:43.299Z"
   },
   {
    "duration": 7,
    "start_time": "2021-11-23T06:19:24.937Z"
   },
   {
    "duration": 6,
    "start_time": "2021-11-23T06:19:36.287Z"
   },
   {
    "duration": 5,
    "start_time": "2021-11-23T06:32:58.158Z"
   },
   {
    "duration": 317,
    "start_time": "2021-11-23T06:35:18.154Z"
   },
   {
    "duration": 3,
    "start_time": "2021-11-23T06:36:43.816Z"
   },
   {
    "duration": 30,
    "start_time": "2021-11-23T06:36:51.889Z"
   },
   {
    "duration": 4,
    "start_time": "2021-11-23T06:37:05.248Z"
   },
   {
    "duration": 20,
    "start_time": "2021-11-23T06:38:48.288Z"
   },
   {
    "duration": 1046,
    "start_time": "2021-11-23T06:39:04.769Z"
   },
   {
    "duration": 230,
    "start_time": "2021-11-23T06:39:21.621Z"
   },
   {
    "duration": 313,
    "start_time": "2021-11-23T06:40:22.204Z"
   },
   {
    "duration": 397,
    "start_time": "2021-11-23T06:40:53.347Z"
   },
   {
    "duration": 541,
    "start_time": "2021-11-23T06:41:08.477Z"
   },
   {
    "duration": 552,
    "start_time": "2021-11-23T06:41:57.666Z"
   },
   {
    "duration": 486,
    "start_time": "2021-11-23T06:44:04.549Z"
   },
   {
    "duration": 550,
    "start_time": "2021-11-23T06:44:21.509Z"
   },
   {
    "duration": 91,
    "start_time": "2021-11-23T06:48:33.788Z"
   },
   {
    "duration": 90,
    "start_time": "2021-11-23T06:48:42.397Z"
   },
   {
    "duration": 93,
    "start_time": "2021-11-23T06:50:45.458Z"
   },
   {
    "duration": 736,
    "start_time": "2021-11-23T06:50:49.108Z"
   },
   {
    "duration": 550,
    "start_time": "2021-11-23T06:50:54.210Z"
   },
   {
    "duration": 303,
    "start_time": "2021-11-23T06:51:14.088Z"
   },
   {
    "duration": 86,
    "start_time": "2021-11-23T06:52:07.528Z"
   },
   {
    "duration": 295,
    "start_time": "2021-11-23T06:52:16.067Z"
   },
   {
    "duration": 570,
    "start_time": "2021-11-23T06:54:01.259Z"
   },
   {
    "duration": 264,
    "start_time": "2021-11-23T06:54:27.608Z"
   },
   {
    "duration": 622,
    "start_time": "2021-11-23T06:54:42.669Z"
   },
   {
    "duration": 2722,
    "start_time": "2021-11-23T06:59:19.139Z"
   },
   {
    "duration": 746,
    "start_time": "2021-11-23T06:59:44.028Z"
   },
   {
    "duration": 290,
    "start_time": "2021-11-23T07:01:04.068Z"
   },
   {
    "duration": 573,
    "start_time": "2021-11-23T07:01:16.148Z"
   },
   {
    "duration": 29,
    "start_time": "2021-11-23T07:03:42.361Z"
   },
   {
    "duration": 273,
    "start_time": "2021-11-23T07:05:54.723Z"
   },
   {
    "duration": 6898,
    "start_time": "2021-11-23T07:06:13.250Z"
   },
   {
    "duration": 29,
    "start_time": "2021-11-23T07:06:36.893Z"
   },
   {
    "duration": 311,
    "start_time": "2021-11-23T07:07:11.763Z"
   },
   {
    "duration": 30,
    "start_time": "2021-11-23T07:07:31.577Z"
   },
   {
    "duration": 4,
    "start_time": "2021-11-23T07:07:48.697Z"
   },
   {
    "duration": 31,
    "start_time": "2021-11-23T07:07:56.723Z"
   },
   {
    "duration": 31,
    "start_time": "2021-11-23T07:08:30.685Z"
   },
   {
    "duration": 90,
    "start_time": "2021-11-23T07:09:45.557Z"
   },
   {
    "duration": 265,
    "start_time": "2021-11-23T07:09:50.530Z"
   },
   {
    "duration": 3,
    "start_time": "2021-11-23T07:10:05.785Z"
   },
   {
    "duration": 28,
    "start_time": "2021-11-23T07:10:12.875Z"
   },
   {
    "duration": 30,
    "start_time": "2021-11-23T07:12:33.295Z"
   },
   {
    "duration": 4,
    "start_time": "2021-11-23T07:12:40.308Z"
   },
   {
    "duration": 148,
    "start_time": "2021-11-23T07:12:40.314Z"
   },
   {
    "duration": 14,
    "start_time": "2021-11-23T07:12:40.464Z"
   },
   {
    "duration": 4,
    "start_time": "2021-11-23T07:12:40.480Z"
   },
   {
    "duration": 12,
    "start_time": "2021-11-23T07:12:40.485Z"
   },
   {
    "duration": 6,
    "start_time": "2021-11-23T07:12:40.499Z"
   },
   {
    "duration": 8,
    "start_time": "2021-11-23T07:12:40.507Z"
   },
   {
    "duration": 44,
    "start_time": "2021-11-23T07:12:40.516Z"
   },
   {
    "duration": 10,
    "start_time": "2021-11-23T07:12:40.765Z"
   },
   {
    "duration": 31,
    "start_time": "2021-11-23T07:12:40.777Z"
   },
   {
    "duration": 6,
    "start_time": "2021-11-23T07:12:40.810Z"
   },
   {
    "duration": 10,
    "start_time": "2021-11-23T07:12:40.839Z"
   },
   {
    "duration": 9,
    "start_time": "2021-11-23T07:12:40.851Z"
   },
   {
    "duration": 8,
    "start_time": "2021-11-23T07:12:40.862Z"
   },
   {
    "duration": 27,
    "start_time": "2021-11-23T07:12:40.871Z"
   },
   {
    "duration": 14,
    "start_time": "2021-11-23T07:12:40.900Z"
   },
   {
    "duration": 56,
    "start_time": "2021-11-23T07:12:40.916Z"
   },
   {
    "duration": 6,
    "start_time": "2021-11-23T07:12:40.974Z"
   },
   {
    "duration": 11,
    "start_time": "2021-11-23T07:12:40.981Z"
   },
   {
    "duration": 528,
    "start_time": "2021-11-23T07:12:40.994Z"
   },
   {
    "duration": 682,
    "start_time": "2021-11-23T07:12:41.524Z"
   },
   {
    "duration": 278,
    "start_time": "2021-11-23T07:12:42.208Z"
   },
   {
    "duration": 21,
    "start_time": "2021-11-23T07:12:42.488Z"
   },
   {
    "duration": 56,
    "start_time": "2021-11-23T07:12:42.511Z"
   },
   {
    "duration": 5,
    "start_time": "2021-11-23T07:12:42.569Z"
   },
   {
    "duration": 5,
    "start_time": "2021-11-23T07:12:42.575Z"
   },
   {
    "duration": 628,
    "start_time": "2021-11-23T07:12:42.582Z"
   },
   {
    "duration": 6,
    "start_time": "2021-11-23T07:12:43.212Z"
   },
   {
    "duration": 49,
    "start_time": "2021-11-23T07:12:43.220Z"
   },
   {
    "duration": 30,
    "start_time": "2021-11-23T07:12:43.271Z"
   },
   {
    "duration": 7383,
    "start_time": "2021-11-23T07:12:43.303Z"
   },
   {
    "duration": 46,
    "start_time": "2021-11-23T07:13:42.797Z"
   },
   {
    "duration": 3,
    "start_time": "2021-11-23T07:13:53.167Z"
   },
   {
    "duration": 200,
    "start_time": "2021-11-23T07:13:53.172Z"
   },
   {
    "duration": 14,
    "start_time": "2021-11-23T07:13:53.374Z"
   },
   {
    "duration": 18,
    "start_time": "2021-11-23T07:13:53.390Z"
   },
   {
    "duration": 33,
    "start_time": "2021-11-23T07:13:53.409Z"
   },
   {
    "duration": 14,
    "start_time": "2021-11-23T07:13:53.444Z"
   },
   {
    "duration": 23,
    "start_time": "2021-11-23T07:13:53.460Z"
   },
   {
    "duration": 40,
    "start_time": "2021-11-23T07:13:53.485Z"
   },
   {
    "duration": 9,
    "start_time": "2021-11-23T07:13:53.573Z"
   },
   {
    "duration": 29,
    "start_time": "2021-11-23T07:13:53.584Z"
   },
   {
    "duration": 6,
    "start_time": "2021-11-23T07:13:53.614Z"
   },
   {
    "duration": 6,
    "start_time": "2021-11-23T07:13:53.624Z"
   },
   {
    "duration": 7,
    "start_time": "2021-11-23T07:13:53.631Z"
   },
   {
    "duration": 5,
    "start_time": "2021-11-23T07:13:53.640Z"
   },
   {
    "duration": 36,
    "start_time": "2021-11-23T07:13:53.648Z"
   },
   {
    "duration": 13,
    "start_time": "2021-11-23T07:13:53.686Z"
   },
   {
    "duration": 44,
    "start_time": "2021-11-23T07:13:53.703Z"
   },
   {
    "duration": 6,
    "start_time": "2021-11-23T07:13:53.749Z"
   },
   {
    "duration": 8,
    "start_time": "2021-11-23T07:13:53.759Z"
   },
   {
    "duration": 610,
    "start_time": "2021-11-23T07:13:53.771Z"
   },
   {
    "duration": 904,
    "start_time": "2021-11-23T07:13:54.384Z"
   },
   {
    "duration": 285,
    "start_time": "2021-11-23T07:13:55.291Z"
   },
   {
    "duration": 23,
    "start_time": "2021-11-23T07:13:55.578Z"
   },
   {
    "duration": 69,
    "start_time": "2021-11-23T07:13:55.602Z"
   },
   {
    "duration": 6,
    "start_time": "2021-11-23T07:13:55.672Z"
   },
   {
    "duration": 14,
    "start_time": "2021-11-23T07:13:55.680Z"
   },
   {
    "duration": 720,
    "start_time": "2021-11-23T07:13:55.696Z"
   },
   {
    "duration": 5,
    "start_time": "2021-11-23T07:13:56.418Z"
   },
   {
    "duration": 49,
    "start_time": "2021-11-23T07:13:56.425Z"
   },
   {
    "duration": 27,
    "start_time": "2021-11-23T07:13:56.476Z"
   },
   {
    "duration": 7257,
    "start_time": "2021-11-23T07:13:56.504Z"
   },
   {
    "duration": 40,
    "start_time": "2021-11-23T07:15:13.527Z"
   },
   {
    "duration": 30,
    "start_time": "2021-11-23T07:15:36.773Z"
   },
   {
    "duration": 4,
    "start_time": "2021-11-23T07:15:43.286Z"
   },
   {
    "duration": 117,
    "start_time": "2021-11-23T07:15:43.292Z"
   },
   {
    "duration": 12,
    "start_time": "2021-11-23T07:15:43.411Z"
   },
   {
    "duration": 4,
    "start_time": "2021-11-23T07:15:43.425Z"
   },
   {
    "duration": 11,
    "start_time": "2021-11-23T07:15:43.430Z"
   },
   {
    "duration": 7,
    "start_time": "2021-11-23T07:15:43.443Z"
   },
   {
    "duration": 17,
    "start_time": "2021-11-23T07:15:43.452Z"
   },
   {
    "duration": 17,
    "start_time": "2021-11-23T07:15:43.472Z"
   },
   {
    "duration": 9,
    "start_time": "2021-11-23T07:15:43.491Z"
   },
   {
    "duration": 52,
    "start_time": "2021-11-23T07:15:43.502Z"
   },
   {
    "duration": 7,
    "start_time": "2021-11-23T07:15:43.556Z"
   },
   {
    "duration": 6,
    "start_time": "2021-11-23T07:15:43.564Z"
   },
   {
    "duration": 6,
    "start_time": "2021-11-23T07:15:43.572Z"
   },
   {
    "duration": 6,
    "start_time": "2021-11-23T07:15:43.579Z"
   },
   {
    "duration": 60,
    "start_time": "2021-11-23T07:15:43.586Z"
   },
   {
    "duration": 19,
    "start_time": "2021-11-23T07:15:43.648Z"
   },
   {
    "duration": 29,
    "start_time": "2021-11-23T07:15:43.669Z"
   },
   {
    "duration": 4,
    "start_time": "2021-11-23T07:15:43.699Z"
   },
   {
    "duration": 29,
    "start_time": "2021-11-23T07:15:43.705Z"
   },
   {
    "duration": 528,
    "start_time": "2021-11-23T07:15:43.743Z"
   },
   {
    "duration": 665,
    "start_time": "2021-11-23T07:15:44.273Z"
   },
   {
    "duration": 275,
    "start_time": "2021-11-23T07:15:44.939Z"
   },
   {
    "duration": 41,
    "start_time": "2021-11-23T07:15:45.218Z"
   },
   {
    "duration": 35,
    "start_time": "2021-11-23T07:15:45.261Z"
   },
   {
    "duration": 5,
    "start_time": "2021-11-23T07:15:45.297Z"
   },
   {
    "duration": 13,
    "start_time": "2021-11-23T07:15:45.304Z"
   },
   {
    "duration": 603,
    "start_time": "2021-11-23T07:15:45.319Z"
   },
   {
    "duration": 5,
    "start_time": "2021-11-23T07:15:45.924Z"
   },
   {
    "duration": 41,
    "start_time": "2021-11-23T07:15:45.931Z"
   },
   {
    "duration": 29,
    "start_time": "2021-11-23T07:15:45.974Z"
   },
   {
    "duration": 7843,
    "start_time": "2021-11-23T07:15:46.005Z"
   },
   {
    "duration": 3309,
    "start_time": "2021-11-23T09:24:48.296Z"
   },
   {
    "duration": 159,
    "start_time": "2021-11-23T09:34:39.651Z"
   },
   {
    "duration": 5,
    "start_time": "2021-11-23T09:35:47.681Z"
   },
   {
    "duration": 95,
    "start_time": "2021-11-23T09:35:58.817Z"
   },
   {
    "duration": 5180,
    "start_time": "2021-11-23T09:35:53.734Z"
   },
   {
    "duration": 5176,
    "start_time": "2021-11-23T09:35:53.739Z"
   },
   {
    "duration": 5172,
    "start_time": "2021-11-23T09:35:53.744Z"
   },
   {
    "duration": 5146,
    "start_time": "2021-11-23T09:35:53.771Z"
   },
   {
    "duration": 5143,
    "start_time": "2021-11-23T09:35:53.775Z"
   },
   {
    "duration": 5135,
    "start_time": "2021-11-23T09:35:53.784Z"
   },
   {
    "duration": 5131,
    "start_time": "2021-11-23T09:35:53.789Z"
   },
   {
    "duration": 5128,
    "start_time": "2021-11-23T09:35:53.793Z"
   },
   {
    "duration": 5125,
    "start_time": "2021-11-23T09:35:53.797Z"
   },
   {
    "duration": 8,
    "start_time": "2021-11-23T09:35:58.923Z"
   },
   {
    "duration": 6,
    "start_time": "2021-11-23T09:35:58.933Z"
   },
   {
    "duration": 12,
    "start_time": "2021-11-23T09:35:58.940Z"
   },
   {
    "duration": 10,
    "start_time": "2021-11-23T09:35:58.955Z"
   },
   {
    "duration": 33,
    "start_time": "2021-11-23T09:35:58.967Z"
   },
   {
    "duration": 10,
    "start_time": "2021-11-23T09:35:59.002Z"
   },
   {
    "duration": 69,
    "start_time": "2021-11-23T09:35:59.014Z"
   },
   {
    "duration": 4,
    "start_time": "2021-11-23T09:35:59.085Z"
   },
   {
    "duration": 10,
    "start_time": "2021-11-23T09:35:59.091Z"
   },
   {
    "duration": 580,
    "start_time": "2021-11-23T09:35:59.104Z"
   },
   {
    "duration": 685,
    "start_time": "2021-11-23T09:35:59.687Z"
   },
   {
    "duration": 3468,
    "start_time": "2021-11-23T09:36:00.376Z"
   },
   {
    "duration": 24,
    "start_time": "2021-11-23T09:36:03.847Z"
   },
   {
    "duration": 34,
    "start_time": "2021-11-23T09:36:03.873Z"
   },
   {
    "duration": 6,
    "start_time": "2021-11-23T09:36:03.909Z"
   },
   {
    "duration": 5,
    "start_time": "2021-11-23T09:36:03.948Z"
   },
   {
    "duration": 6,
    "start_time": "2021-11-23T09:36:03.955Z"
   },
   {
    "duration": 639,
    "start_time": "2021-11-23T09:36:03.963Z"
   },
   {
    "duration": 6,
    "start_time": "2021-11-23T09:36:04.604Z"
   },
   {
    "duration": 163,
    "start_time": "2021-11-23T09:36:04.611Z"
   },
   {
    "duration": 28,
    "start_time": "2021-11-23T09:36:04.776Z"
   },
   {
    "duration": 47,
    "start_time": "2021-11-23T09:36:04.807Z"
   },
   {
    "duration": 163,
    "start_time": "2021-11-23T09:37:22.803Z"
   },
   {
    "duration": 93,
    "start_time": "2021-11-23T09:38:52.188Z"
   },
   {
    "duration": 5246,
    "start_time": "2021-11-23T09:38:47.039Z"
   },
   {
    "duration": 5242,
    "start_time": "2021-11-23T09:38:47.044Z"
   },
   {
    "duration": 5238,
    "start_time": "2021-11-23T09:38:47.050Z"
   },
   {
    "duration": 5235,
    "start_time": "2021-11-23T09:38:47.054Z"
   },
   {
    "duration": 5196,
    "start_time": "2021-11-23T09:38:47.095Z"
   },
   {
    "duration": 5191,
    "start_time": "2021-11-23T09:38:47.101Z"
   },
   {
    "duration": 5190,
    "start_time": "2021-11-23T09:38:47.104Z"
   },
   {
    "duration": 5187,
    "start_time": "2021-11-23T09:38:47.108Z"
   },
   {
    "duration": 5186,
    "start_time": "2021-11-23T09:38:47.111Z"
   },
   {
    "duration": 5182,
    "start_time": "2021-11-23T09:38:47.116Z"
   },
   {
    "duration": 5181,
    "start_time": "2021-11-23T09:38:47.119Z"
   },
   {
    "duration": 5178,
    "start_time": "2021-11-23T09:38:47.123Z"
   },
   {
    "duration": 5176,
    "start_time": "2021-11-23T09:38:47.126Z"
   },
   {
    "duration": 5175,
    "start_time": "2021-11-23T09:38:47.129Z"
   },
   {
    "duration": 5164,
    "start_time": "2021-11-23T09:38:47.141Z"
   },
   {
    "duration": 5161,
    "start_time": "2021-11-23T09:38:47.146Z"
   },
   {
    "duration": 5158,
    "start_time": "2021-11-23T09:38:47.150Z"
   },
   {
    "duration": 5156,
    "start_time": "2021-11-23T09:38:47.154Z"
   },
   {
    "duration": 5152,
    "start_time": "2021-11-23T09:38:47.159Z"
   },
   {
    "duration": 5151,
    "start_time": "2021-11-23T09:38:47.162Z"
   },
   {
    "duration": 5150,
    "start_time": "2021-11-23T09:38:47.164Z"
   },
   {
    "duration": 5148,
    "start_time": "2021-11-23T09:38:47.167Z"
   },
   {
    "duration": 5146,
    "start_time": "2021-11-23T09:38:47.171Z"
   },
   {
    "duration": 27,
    "start_time": "2021-11-23T09:38:52.320Z"
   },
   {
    "duration": 7,
    "start_time": "2021-11-23T09:38:52.350Z"
   },
   {
    "duration": 8,
    "start_time": "2021-11-23T09:38:52.361Z"
   },
   {
    "duration": 274,
    "start_time": "2021-11-23T09:38:52.370Z"
   },
   {
    "duration": 5241,
    "start_time": "2021-11-23T09:38:47.405Z"
   },
   {
    "duration": 5237,
    "start_time": "2021-11-23T09:38:47.410Z"
   },
   {
    "duration": 5232,
    "start_time": "2021-11-23T09:38:47.417Z"
   },
   {
    "duration": 5228,
    "start_time": "2021-11-23T09:38:47.422Z"
   },
   {
    "duration": 5227,
    "start_time": "2021-11-23T09:38:47.425Z"
   },
   {
    "duration": 32,
    "start_time": "2021-11-23T09:40:01.248Z"
   },
   {
    "duration": 88,
    "start_time": "2021-11-23T09:41:03.879Z"
   },
   {
    "duration": 645,
    "start_time": "2021-11-23T09:42:07.582Z"
   },
   {
    "duration": 154,
    "start_time": "2021-11-23T09:42:08.229Z"
   },
   {
    "duration": 16,
    "start_time": "2021-11-23T09:42:08.385Z"
   },
   {
    "duration": 4,
    "start_time": "2021-11-23T09:42:08.403Z"
   },
   {
    "duration": 12,
    "start_time": "2021-11-23T09:42:08.409Z"
   },
   {
    "duration": 7,
    "start_time": "2021-11-23T09:42:08.423Z"
   },
   {
    "duration": 25,
    "start_time": "2021-11-23T09:42:08.431Z"
   },
   {
    "duration": 15,
    "start_time": "2021-11-23T09:42:08.459Z"
   },
   {
    "duration": 8,
    "start_time": "2021-11-23T09:42:08.476Z"
   },
   {
    "duration": 29,
    "start_time": "2021-11-23T09:42:08.486Z"
   },
   {
    "duration": 31,
    "start_time": "2021-11-23T09:42:08.517Z"
   },
   {
    "duration": 8,
    "start_time": "2021-11-23T09:42:08.550Z"
   },
   {
    "duration": 8,
    "start_time": "2021-11-23T09:42:08.560Z"
   },
   {
    "duration": 6,
    "start_time": "2021-11-23T09:42:08.570Z"
   },
   {
    "duration": 34,
    "start_time": "2021-11-23T09:42:08.578Z"
   },
   {
    "duration": 47,
    "start_time": "2021-11-23T09:42:08.614Z"
   },
   {
    "duration": 32,
    "start_time": "2021-11-23T09:42:08.662Z"
   },
   {
    "duration": 9,
    "start_time": "2021-11-23T09:42:08.695Z"
   },
   {
    "duration": 17,
    "start_time": "2021-11-23T09:42:08.706Z"
   },
   {
    "duration": 676,
    "start_time": "2021-11-23T09:42:08.724Z"
   },
   {
    "duration": 712,
    "start_time": "2021-11-23T09:42:09.402Z"
   },
   {
    "duration": 3355,
    "start_time": "2021-11-23T09:42:10.115Z"
   },
   {
    "duration": 22,
    "start_time": "2021-11-23T09:42:13.474Z"
   },
   {
    "duration": 67,
    "start_time": "2021-11-23T09:42:13.498Z"
   },
   {
    "duration": 8,
    "start_time": "2021-11-23T09:42:13.567Z"
   },
   {
    "duration": 23,
    "start_time": "2021-11-23T09:42:13.577Z"
   },
   {
    "duration": 54,
    "start_time": "2021-11-23T09:42:13.602Z"
   },
   {
    "duration": 8,
    "start_time": "2021-11-23T09:42:13.659Z"
   },
   {
    "duration": 16,
    "start_time": "2021-11-23T09:42:13.669Z"
   },
   {
    "duration": 647,
    "start_time": "2021-11-23T09:42:13.687Z"
   },
   {
    "duration": 13,
    "start_time": "2021-11-23T09:42:14.336Z"
   },
   {
    "duration": 169,
    "start_time": "2021-11-23T09:42:14.351Z"
   },
   {
    "duration": 47,
    "start_time": "2021-11-23T09:42:14.522Z"
   },
   {
    "duration": 34,
    "start_time": "2021-11-23T09:42:14.572Z"
   },
   {
    "duration": 354,
    "start_time": "2021-11-23T09:50:03.817Z"
   },
   {
    "duration": 22,
    "start_time": "2021-11-23T09:50:09.559Z"
   },
   {
    "duration": 37,
    "start_time": "2021-11-23T09:50:21.974Z"
   },
   {
    "duration": 31,
    "start_time": "2021-11-23T09:51:00.659Z"
   },
   {
    "duration": 3,
    "start_time": "2021-11-23T09:51:15.308Z"
   },
   {
    "duration": 143,
    "start_time": "2021-11-23T09:51:15.321Z"
   },
   {
    "duration": 14,
    "start_time": "2021-11-23T09:51:15.466Z"
   },
   {
    "duration": 4,
    "start_time": "2021-11-23T09:51:15.483Z"
   },
   {
    "duration": 14,
    "start_time": "2021-11-23T09:51:15.489Z"
   },
   {
    "duration": 8,
    "start_time": "2021-11-23T09:51:15.505Z"
   },
   {
    "duration": 37,
    "start_time": "2021-11-23T09:51:15.514Z"
   },
   {
    "duration": 17,
    "start_time": "2021-11-23T09:51:15.553Z"
   },
   {
    "duration": 9,
    "start_time": "2021-11-23T09:51:15.573Z"
   },
   {
    "duration": 65,
    "start_time": "2021-11-23T09:51:15.585Z"
   },
   {
    "duration": 7,
    "start_time": "2021-11-23T09:51:15.652Z"
   },
   {
    "duration": 8,
    "start_time": "2021-11-23T09:51:15.661Z"
   },
   {
    "duration": 12,
    "start_time": "2021-11-23T09:51:15.671Z"
   },
   {
    "duration": 7,
    "start_time": "2021-11-23T09:51:15.685Z"
   },
   {
    "duration": 63,
    "start_time": "2021-11-23T09:51:15.694Z"
   },
   {
    "duration": 14,
    "start_time": "2021-11-23T09:51:15.759Z"
   },
   {
    "duration": 30,
    "start_time": "2021-11-23T09:51:15.775Z"
   },
   {
    "duration": 5,
    "start_time": "2021-11-23T09:51:15.807Z"
   },
   {
    "duration": 38,
    "start_time": "2021-11-23T09:51:15.814Z"
   },
   {
    "duration": 508,
    "start_time": "2021-11-23T09:51:15.853Z"
   },
   {
    "duration": 743,
    "start_time": "2021-11-23T09:51:16.363Z"
   },
   {
    "duration": 21,
    "start_time": "2021-11-23T09:51:17.108Z"
   },
   {
    "duration": 53,
    "start_time": "2021-11-23T09:51:17.131Z"
   },
   {
    "duration": 7,
    "start_time": "2021-11-23T09:51:17.187Z"
   },
   {
    "duration": 7,
    "start_time": "2021-11-23T09:51:17.196Z"
   },
   {
    "duration": 63,
    "start_time": "2021-11-23T09:51:17.205Z"
   },
   {
    "duration": 5,
    "start_time": "2021-11-23T09:51:17.270Z"
   },
   {
    "duration": 277,
    "start_time": "2021-11-23T09:51:17.277Z"
   },
   {
    "duration": 4723,
    "start_time": "2021-11-23T09:51:12.833Z"
   },
   {
    "duration": 4711,
    "start_time": "2021-11-23T09:51:12.847Z"
   },
   {
    "duration": 4702,
    "start_time": "2021-11-23T09:51:12.857Z"
   },
   {
    "duration": 4700,
    "start_time": "2021-11-23T09:51:12.861Z"
   },
   {
    "duration": 4695,
    "start_time": "2021-11-23T09:51:12.867Z"
   },
   {
    "duration": 304,
    "start_time": "2021-11-23T09:51:40.802Z"
   },
   {
    "duration": 272,
    "start_time": "2021-11-23T09:52:12.748Z"
   },
   {
    "duration": 359,
    "start_time": "2021-11-23T09:56:00.684Z"
   },
   {
    "duration": 315,
    "start_time": "2021-11-23T09:56:03.710Z"
   },
   {
    "duration": 32,
    "start_time": "2021-11-23T09:56:26.765Z"
   },
   {
    "duration": 31,
    "start_time": "2021-11-23T09:56:33.558Z"
   },
   {
    "duration": 29,
    "start_time": "2021-11-23T09:56:41.310Z"
   },
   {
    "duration": 321,
    "start_time": "2021-11-23T09:57:01.657Z"
   },
   {
    "duration": 4,
    "start_time": "2021-11-23T09:57:05.562Z"
   },
   {
    "duration": 50,
    "start_time": "2021-11-23T09:57:48.804Z"
   },
   {
    "duration": 5,
    "start_time": "2021-11-23T09:58:41.494Z"
   },
   {
    "duration": 7,
    "start_time": "2021-11-23T09:59:10.175Z"
   },
   {
    "duration": 7,
    "start_time": "2021-11-23T10:00:36.896Z"
   },
   {
    "duration": 5,
    "start_time": "2021-11-23T10:00:39.141Z"
   },
   {
    "duration": 630,
    "start_time": "2021-11-23T10:21:43.814Z"
   },
   {
    "duration": 291,
    "start_time": "2021-11-23T10:22:04.590Z"
   },
   {
    "duration": 1202,
    "start_time": "2021-11-23T10:22:21.502Z"
   },
   {
    "duration": 261,
    "start_time": "2021-11-23T10:22:54.362Z"
   },
   {
    "duration": 5,
    "start_time": "2021-11-23T10:23:20.629Z"
   },
   {
    "duration": 262,
    "start_time": "2021-11-23T10:24:10.740Z"
   },
   {
    "duration": 3,
    "start_time": "2021-11-23T10:24:17.842Z"
   },
   {
    "duration": 33,
    "start_time": "2021-11-23T10:24:25.159Z"
   },
   {
    "duration": 295,
    "start_time": "2021-11-23T16:52:07.833Z"
   },
   {
    "duration": 639,
    "start_time": "2021-11-23T16:52:16.488Z"
   },
   {
    "duration": 108,
    "start_time": "2021-11-23T16:52:17.129Z"
   },
   {
    "duration": 16,
    "start_time": "2021-11-23T16:52:17.239Z"
   },
   {
    "duration": 3,
    "start_time": "2021-11-23T16:52:17.257Z"
   },
   {
    "duration": 12,
    "start_time": "2021-11-23T16:52:17.261Z"
   },
   {
    "duration": 8,
    "start_time": "2021-11-23T16:52:17.274Z"
   },
   {
    "duration": 8,
    "start_time": "2021-11-23T16:52:17.283Z"
   },
   {
    "duration": 17,
    "start_time": "2021-11-23T16:52:17.293Z"
   },
   {
    "duration": 8,
    "start_time": "2021-11-23T16:52:17.313Z"
   },
   {
    "duration": 43,
    "start_time": "2021-11-23T16:52:17.322Z"
   },
   {
    "duration": 6,
    "start_time": "2021-11-23T16:52:17.366Z"
   },
   {
    "duration": 9,
    "start_time": "2021-11-23T16:52:17.373Z"
   },
   {
    "duration": 6,
    "start_time": "2021-11-23T16:52:17.384Z"
   },
   {
    "duration": 6,
    "start_time": "2021-11-23T16:52:17.391Z"
   },
   {
    "duration": 29,
    "start_time": "2021-11-23T16:52:17.398Z"
   },
   {
    "duration": 42,
    "start_time": "2021-11-23T16:52:17.429Z"
   },
   {
    "duration": 29,
    "start_time": "2021-11-23T16:52:17.472Z"
   },
   {
    "duration": 8,
    "start_time": "2021-11-23T16:52:17.503Z"
   },
   {
    "duration": 8,
    "start_time": "2021-11-23T16:52:17.512Z"
   },
   {
    "duration": 664,
    "start_time": "2021-11-23T16:52:17.521Z"
   },
   {
    "duration": 630,
    "start_time": "2021-11-23T16:52:18.187Z"
   },
   {
    "duration": 22,
    "start_time": "2021-11-23T16:52:18.819Z"
   },
   {
    "duration": 27,
    "start_time": "2021-11-23T16:52:18.844Z"
   },
   {
    "duration": 4,
    "start_time": "2021-11-23T16:52:18.873Z"
   },
   {
    "duration": 8,
    "start_time": "2021-11-23T16:52:18.879Z"
   },
   {
    "duration": 6,
    "start_time": "2021-11-23T16:52:18.889Z"
   },
   {
    "duration": 14,
    "start_time": "2021-11-23T16:52:18.896Z"
   },
   {
    "duration": 15,
    "start_time": "2021-11-23T16:52:18.911Z"
   },
   {
    "duration": 20,
    "start_time": "2021-11-23T16:52:18.928Z"
   },
   {
    "duration": 334,
    "start_time": "2021-11-23T16:52:18.950Z"
   },
   {
    "duration": 6485,
    "start_time": "2021-11-23T16:52:12.801Z"
   },
   {
    "duration": 6470,
    "start_time": "2021-11-23T16:52:12.817Z"
   },
   {
    "duration": 6456,
    "start_time": "2021-11-23T16:52:12.832Z"
   },
   {
    "duration": 6437,
    "start_time": "2021-11-23T16:52:12.852Z"
   },
   {
    "duration": 20,
    "start_time": "2021-11-23T16:56:29.829Z"
   },
   {
    "duration": 6,
    "start_time": "2021-11-23T17:01:01.561Z"
   },
   {
    "duration": 182,
    "start_time": "2021-11-23T17:01:34.842Z"
   },
   {
    "duration": 184,
    "start_time": "2021-11-23T17:01:44.791Z"
   },
   {
    "duration": 316,
    "start_time": "2021-11-23T17:03:25.343Z"
   },
   {
    "duration": 5,
    "start_time": "2021-11-23T17:05:03.562Z"
   },
   {
    "duration": 10,
    "start_time": "2021-11-23T17:05:48.735Z"
   },
   {
    "duration": 10,
    "start_time": "2021-11-23T17:06:57.786Z"
   },
   {
    "duration": 21,
    "start_time": "2021-11-23T17:07:34.321Z"
   },
   {
    "duration": 458,
    "start_time": "2021-11-23T17:07:36.595Z"
   },
   {
    "duration": 317,
    "start_time": "2021-11-23T17:07:58.897Z"
   },
   {
    "duration": 274,
    "start_time": "2021-11-23T17:08:27.487Z"
   },
   {
    "duration": 18,
    "start_time": "2021-11-23T17:08:52.474Z"
   },
   {
    "duration": 253,
    "start_time": "2021-11-23T17:08:55.845Z"
   },
   {
    "duration": 257,
    "start_time": "2021-11-23T17:12:23.285Z"
   },
   {
    "duration": 243,
    "start_time": "2021-11-23T17:12:34.006Z"
   },
   {
    "duration": 5,
    "start_time": "2021-11-23T17:12:59.017Z"
   },
   {
    "duration": 252,
    "start_time": "2021-11-23T17:13:25.715Z"
   },
   {
    "duration": 3,
    "start_time": "2021-11-23T17:13:49.769Z"
   },
   {
    "duration": 4,
    "start_time": "2021-11-23T17:13:56.505Z"
   },
   {
    "duration": 585,
    "start_time": "2021-11-23T17:14:11.876Z"
   },
   {
    "duration": 360,
    "start_time": "2021-11-24T16:14:43.848Z"
   },
   {
    "duration": 822,
    "start_time": "2021-11-24T16:14:47.731Z"
   },
   {
    "duration": 182,
    "start_time": "2021-11-24T16:14:48.555Z"
   },
   {
    "duration": 25,
    "start_time": "2021-11-24T16:14:48.740Z"
   },
   {
    "duration": 4,
    "start_time": "2021-11-24T16:14:48.767Z"
   },
   {
    "duration": 20,
    "start_time": "2021-11-24T16:14:48.774Z"
   },
   {
    "duration": 11,
    "start_time": "2021-11-24T16:14:48.796Z"
   },
   {
    "duration": 12,
    "start_time": "2021-11-24T16:14:48.809Z"
   },
   {
    "duration": 25,
    "start_time": "2021-11-24T16:14:48.824Z"
   },
   {
    "duration": 12,
    "start_time": "2021-11-24T16:14:48.884Z"
   },
   {
    "duration": 44,
    "start_time": "2021-11-24T16:14:48.898Z"
   },
   {
    "duration": 38,
    "start_time": "2021-11-24T16:14:48.945Z"
   },
   {
    "duration": 9,
    "start_time": "2021-11-24T16:14:48.986Z"
   },
   {
    "duration": 9,
    "start_time": "2021-11-24T16:14:48.997Z"
   },
   {
    "duration": 8,
    "start_time": "2021-11-24T16:14:49.008Z"
   },
   {
    "duration": 85,
    "start_time": "2021-11-24T16:14:49.019Z"
   },
   {
    "duration": 22,
    "start_time": "2021-11-24T16:14:49.106Z"
   },
   {
    "duration": 66,
    "start_time": "2021-11-24T16:14:49.131Z"
   },
   {
    "duration": 11,
    "start_time": "2021-11-24T16:14:49.200Z"
   },
   {
    "duration": 10,
    "start_time": "2021-11-24T16:14:49.214Z"
   },
   {
    "duration": 1093,
    "start_time": "2021-11-24T16:14:49.227Z"
   },
   {
    "duration": 1073,
    "start_time": "2021-11-24T16:14:50.323Z"
   },
   {
    "duration": 30,
    "start_time": "2021-11-24T16:14:51.399Z"
   },
   {
    "duration": 55,
    "start_time": "2021-11-24T16:14:51.433Z"
   },
   {
    "duration": 63,
    "start_time": "2021-11-24T16:14:51.491Z"
   },
   {
    "duration": 805,
    "start_time": "2021-11-24T16:14:51.556Z"
   },
   {
    "duration": 9077,
    "start_time": "2021-11-24T16:14:43.286Z"
   },
   {
    "duration": 9069,
    "start_time": "2021-11-24T16:14:43.295Z"
   },
   {
    "duration": 9066,
    "start_time": "2021-11-24T16:14:43.300Z"
   },
   {
    "duration": 9063,
    "start_time": "2021-11-24T16:14:43.304Z"
   },
   {
    "duration": 9061,
    "start_time": "2021-11-24T16:14:43.308Z"
   },
   {
    "duration": 9067,
    "start_time": "2021-11-24T16:14:43.314Z"
   },
   {
    "duration": 9065,
    "start_time": "2021-11-24T16:14:43.318Z"
   },
   {
    "duration": 9062,
    "start_time": "2021-11-24T16:14:43.322Z"
   },
   {
    "duration": 9059,
    "start_time": "2021-11-24T16:14:43.326Z"
   },
   {
    "duration": 9057,
    "start_time": "2021-11-24T16:14:43.330Z"
   },
   {
    "duration": 9045,
    "start_time": "2021-11-24T16:14:43.343Z"
   },
   {
    "duration": 9039,
    "start_time": "2021-11-24T16:14:43.350Z"
   },
   {
    "duration": 9034,
    "start_time": "2021-11-24T16:14:43.357Z"
   },
   {
    "duration": 9031,
    "start_time": "2021-11-24T16:14:43.361Z"
   },
   {
    "duration": 27,
    "start_time": "2021-11-24T16:15:51.838Z"
   },
   {
    "duration": 31,
    "start_time": "2021-11-24T16:16:18.956Z"
   },
   {
    "duration": 425,
    "start_time": "2021-11-25T02:39:26.396Z"
   },
   {
    "duration": 872,
    "start_time": "2021-11-25T02:39:31.892Z"
   },
   {
    "duration": 194,
    "start_time": "2021-11-25T02:39:32.767Z"
   },
   {
    "duration": 34,
    "start_time": "2021-11-25T02:39:32.965Z"
   },
   {
    "duration": 5,
    "start_time": "2021-11-25T02:39:33.002Z"
   },
   {
    "duration": 17,
    "start_time": "2021-11-25T02:39:33.009Z"
   },
   {
    "duration": 10,
    "start_time": "2021-11-25T02:39:33.028Z"
   },
   {
    "duration": 43,
    "start_time": "2021-11-25T02:39:33.040Z"
   },
   {
    "duration": 31,
    "start_time": "2021-11-25T02:39:33.087Z"
   },
   {
    "duration": 12,
    "start_time": "2021-11-25T02:39:33.121Z"
   },
   {
    "duration": 63,
    "start_time": "2021-11-25T02:39:33.135Z"
   },
   {
    "duration": 8,
    "start_time": "2021-11-25T02:39:33.200Z"
   },
   {
    "duration": 10,
    "start_time": "2021-11-25T02:39:33.211Z"
   },
   {
    "duration": 10,
    "start_time": "2021-11-25T02:39:33.223Z"
   },
   {
    "duration": 48,
    "start_time": "2021-11-25T02:39:33.236Z"
   },
   {
    "duration": 30,
    "start_time": "2021-11-25T02:39:33.287Z"
   },
   {
    "duration": 87,
    "start_time": "2021-11-25T02:39:33.320Z"
   },
   {
    "duration": 14,
    "start_time": "2021-11-25T02:39:33.410Z"
   },
   {
    "duration": 11,
    "start_time": "2021-11-25T02:39:33.426Z"
   },
   {
    "duration": 1043,
    "start_time": "2021-11-25T02:39:33.439Z"
   },
   {
    "duration": 1039,
    "start_time": "2021-11-25T02:39:34.484Z"
   },
   {
    "duration": 29,
    "start_time": "2021-11-25T02:39:35.525Z"
   },
   {
    "duration": 45,
    "start_time": "2021-11-25T02:39:35.556Z"
   },
   {
    "duration": 27,
    "start_time": "2021-11-25T02:39:35.607Z"
   },
   {
    "duration": 450,
    "start_time": "2021-11-25T02:39:35.637Z"
   },
   {
    "duration": 334,
    "start_time": "2021-11-25T02:39:36.090Z"
   },
   {
    "duration": 10232,
    "start_time": "2021-11-25T02:39:26.194Z"
   },
   {
    "duration": 10227,
    "start_time": "2021-11-25T02:39:26.201Z"
   },
   {
    "duration": 10224,
    "start_time": "2021-11-25T02:39:26.205Z"
   },
   {
    "duration": 10223,
    "start_time": "2021-11-25T02:39:26.208Z"
   },
   {
    "duration": 10220,
    "start_time": "2021-11-25T02:39:26.212Z"
   },
   {
    "duration": 10219,
    "start_time": "2021-11-25T02:39:26.215Z"
   },
   {
    "duration": 10218,
    "start_time": "2021-11-25T02:39:26.217Z"
   },
   {
    "duration": 10216,
    "start_time": "2021-11-25T02:39:26.220Z"
   },
   {
    "duration": 10215,
    "start_time": "2021-11-25T02:39:26.223Z"
   },
   {
    "duration": 10214,
    "start_time": "2021-11-25T02:39:26.225Z"
   },
   {
    "duration": 10212,
    "start_time": "2021-11-25T02:39:26.229Z"
   },
   {
    "duration": 10212,
    "start_time": "2021-11-25T02:39:26.231Z"
   },
   {
    "duration": 10211,
    "start_time": "2021-11-25T02:39:26.234Z"
   },
   {
    "duration": 271,
    "start_time": "2021-11-25T02:41:00.452Z"
   },
   {
    "duration": 683,
    "start_time": "2021-11-25T02:41:25.451Z"
   },
   {
    "duration": 1054,
    "start_time": "2021-11-25T02:42:14.965Z"
   },
   {
    "duration": 656,
    "start_time": "2021-11-25T02:42:36.552Z"
   },
   {
    "duration": 780,
    "start_time": "2021-11-25T02:43:06.834Z"
   },
   {
    "duration": 1208,
    "start_time": "2021-11-25T03:00:02.068Z"
   },
   {
    "duration": 998,
    "start_time": "2021-11-25T03:00:20.028Z"
   },
   {
    "duration": 329,
    "start_time": "2021-11-25T03:02:07.619Z"
   },
   {
    "duration": 672,
    "start_time": "2021-11-25T03:02:56.393Z"
   },
   {
    "duration": 7,
    "start_time": "2021-11-25T03:03:10.918Z"
   },
   {
    "duration": 7,
    "start_time": "2021-11-25T03:03:24.668Z"
   },
   {
    "duration": 315,
    "start_time": "2021-11-25T03:03:47.579Z"
   },
   {
    "duration": 8,
    "start_time": "2021-11-25T03:04:03.138Z"
   },
   {
    "duration": 16,
    "start_time": "2021-11-25T03:09:05.931Z"
   },
   {
    "duration": 9,
    "start_time": "2021-11-25T03:09:23.513Z"
   },
   {
    "duration": 334,
    "start_time": "2021-11-25T03:11:51.352Z"
   },
   {
    "duration": 7,
    "start_time": "2021-11-25T03:11:54.943Z"
   },
   {
    "duration": 8,
    "start_time": "2021-11-25T03:12:04.083Z"
   },
   {
    "duration": 1191,
    "start_time": "2021-11-25T03:12:33.973Z"
   },
   {
    "duration": 338,
    "start_time": "2021-11-25T03:13:25.714Z"
   },
   {
    "duration": 9,
    "start_time": "2021-11-25T03:13:37.954Z"
   },
   {
    "duration": 275,
    "start_time": "2021-11-25T03:14:59.353Z"
   },
   {
    "duration": 311,
    "start_time": "2021-11-25T03:15:24.623Z"
   },
   {
    "duration": 317,
    "start_time": "2021-11-25T03:15:42.375Z"
   },
   {
    "duration": 5,
    "start_time": "2021-11-25T03:15:54.755Z"
   },
   {
    "duration": 563,
    "start_time": "2021-11-25T18:05:09.960Z"
   },
   {
    "duration": 708,
    "start_time": "2021-11-25T18:05:15.554Z"
   },
   {
    "duration": 157,
    "start_time": "2021-11-25T18:05:16.264Z"
   },
   {
    "duration": 16,
    "start_time": "2021-11-25T18:05:16.423Z"
   },
   {
    "duration": 3,
    "start_time": "2021-11-25T18:05:16.441Z"
   },
   {
    "duration": 13,
    "start_time": "2021-11-25T18:05:16.446Z"
   },
   {
    "duration": 18,
    "start_time": "2021-11-25T18:05:16.461Z"
   },
   {
    "duration": 8,
    "start_time": "2021-11-25T18:05:16.481Z"
   },
   {
    "duration": 20,
    "start_time": "2021-11-25T18:05:16.492Z"
   },
   {
    "duration": 8,
    "start_time": "2021-11-25T18:05:16.514Z"
   },
   {
    "duration": 48,
    "start_time": "2021-11-25T18:05:16.524Z"
   },
   {
    "duration": 6,
    "start_time": "2021-11-25T18:05:16.574Z"
   },
   {
    "duration": 6,
    "start_time": "2021-11-25T18:05:16.581Z"
   },
   {
    "duration": 7,
    "start_time": "2021-11-25T18:05:16.589Z"
   },
   {
    "duration": 6,
    "start_time": "2021-11-25T18:05:16.598Z"
   },
   {
    "duration": 47,
    "start_time": "2021-11-25T18:05:16.606Z"
   },
   {
    "duration": 47,
    "start_time": "2021-11-25T18:05:16.656Z"
   },
   {
    "duration": 10,
    "start_time": "2021-11-25T18:05:16.705Z"
   },
   {
    "duration": 8,
    "start_time": "2021-11-25T18:05:16.716Z"
   },
   {
    "duration": 658,
    "start_time": "2021-11-25T18:05:16.744Z"
   },
   {
    "duration": 667,
    "start_time": "2021-11-25T18:05:17.404Z"
   },
   {
    "duration": 450,
    "start_time": "2021-11-25T18:05:18.074Z"
   },
   {
    "duration": 6,
    "start_time": "2021-11-25T18:05:18.525Z"
   },
   {
    "duration": 6,
    "start_time": "2021-11-25T18:05:18.546Z"
   },
   {
    "duration": 27,
    "start_time": "2021-11-25T18:05:18.554Z"
   },
   {
    "duration": 17,
    "start_time": "2021-11-25T18:05:18.583Z"
   },
   {
    "duration": 18,
    "start_time": "2021-11-25T18:05:18.602Z"
   },
   {
    "duration": 285,
    "start_time": "2021-11-25T18:05:18.622Z"
   },
   {
    "duration": 320,
    "start_time": "2021-11-25T18:05:18.910Z"
   },
   {
    "duration": 12193,
    "start_time": "2021-11-25T18:05:07.039Z"
   },
   {
    "duration": 12188,
    "start_time": "2021-11-25T18:05:07.045Z"
   },
   {
    "duration": 12187,
    "start_time": "2021-11-25T18:05:07.048Z"
   },
   {
    "duration": 12185,
    "start_time": "2021-11-25T18:05:07.051Z"
   },
   {
    "duration": 12183,
    "start_time": "2021-11-25T18:05:07.054Z"
   },
   {
    "duration": 12181,
    "start_time": "2021-11-25T18:05:07.057Z"
   },
   {
    "duration": 12179,
    "start_time": "2021-11-25T18:05:07.060Z"
   },
   {
    "duration": 12176,
    "start_time": "2021-11-25T18:05:07.064Z"
   },
   {
    "duration": 12174,
    "start_time": "2021-11-25T18:05:07.067Z"
   },
   {
    "duration": 12173,
    "start_time": "2021-11-25T18:05:07.070Z"
   },
   {
    "duration": 12171,
    "start_time": "2021-11-25T18:05:07.073Z"
   },
   {
    "duration": 12168,
    "start_time": "2021-11-25T18:05:07.076Z"
   },
   {
    "duration": 12166,
    "start_time": "2021-11-25T18:05:07.079Z"
   },
   {
    "duration": 387,
    "start_time": "2021-11-25T18:05:49.726Z"
   },
   {
    "duration": 406,
    "start_time": "2021-11-25T18:07:22.191Z"
   },
   {
    "duration": 302,
    "start_time": "2021-11-25T18:08:28.047Z"
   },
   {
    "duration": 342,
    "start_time": "2021-11-25T18:08:47.686Z"
   },
   {
    "duration": 85,
    "start_time": "2021-11-25T18:09:08.347Z"
   },
   {
    "duration": 299,
    "start_time": "2021-11-25T18:09:32.747Z"
   },
   {
    "duration": 316,
    "start_time": "2021-11-25T18:09:50.347Z"
   },
   {
    "duration": 289,
    "start_time": "2021-11-25T18:09:58.877Z"
   },
   {
    "duration": 289,
    "start_time": "2021-11-25T18:10:22.597Z"
   },
   {
    "duration": 289,
    "start_time": "2021-11-25T18:10:34.560Z"
   },
   {
    "duration": 294,
    "start_time": "2021-11-25T18:10:41.598Z"
   },
   {
    "duration": 311,
    "start_time": "2021-11-25T18:10:48.157Z"
   },
   {
    "duration": 536,
    "start_time": "2021-11-25T18:11:24.578Z"
   },
   {
    "duration": 412,
    "start_time": "2021-11-25T18:11:45.828Z"
   },
   {
    "duration": 331,
    "start_time": "2021-11-25T18:17:21.869Z"
   },
   {
    "duration": 413,
    "start_time": "2021-11-25T18:17:32.209Z"
   },
   {
    "duration": 304,
    "start_time": "2021-11-25T18:17:34.040Z"
   },
   {
    "duration": 393,
    "start_time": "2021-11-25T18:18:26.241Z"
   },
   {
    "duration": 298,
    "start_time": "2021-11-25T18:18:28.731Z"
   },
   {
    "duration": 20,
    "start_time": "2021-11-25T18:19:00.410Z"
   },
   {
    "duration": 20,
    "start_time": "2021-11-25T18:19:11.290Z"
   },
   {
    "duration": 4,
    "start_time": "2021-11-25T18:19:20.258Z"
   },
   {
    "duration": 118,
    "start_time": "2021-11-25T18:19:20.264Z"
   },
   {
    "duration": 14,
    "start_time": "2021-11-25T18:19:20.384Z"
   },
   {
    "duration": 30,
    "start_time": "2021-11-25T18:19:20.399Z"
   },
   {
    "duration": 24,
    "start_time": "2021-11-25T18:19:20.431Z"
   },
   {
    "duration": 30,
    "start_time": "2021-11-25T18:19:20.457Z"
   },
   {
    "duration": 9,
    "start_time": "2021-11-25T18:19:20.489Z"
   },
   {
    "duration": 32,
    "start_time": "2021-11-25T18:19:20.501Z"
   },
   {
    "duration": 10,
    "start_time": "2021-11-25T18:19:20.536Z"
   },
   {
    "duration": 37,
    "start_time": "2021-11-25T18:19:20.548Z"
   },
   {
    "duration": 5,
    "start_time": "2021-11-25T18:19:20.587Z"
   },
   {
    "duration": 23,
    "start_time": "2021-11-25T18:19:20.594Z"
   },
   {
    "duration": 10,
    "start_time": "2021-11-25T18:19:20.619Z"
   },
   {
    "duration": 12,
    "start_time": "2021-11-25T18:19:20.631Z"
   },
   {
    "duration": 33,
    "start_time": "2021-11-25T18:19:20.645Z"
   },
   {
    "duration": 30,
    "start_time": "2021-11-25T18:19:20.680Z"
   },
   {
    "duration": 7,
    "start_time": "2021-11-25T18:19:20.712Z"
   },
   {
    "duration": 10,
    "start_time": "2021-11-25T18:19:20.721Z"
   },
   {
    "duration": 526,
    "start_time": "2021-11-25T18:19:20.745Z"
   },
   {
    "duration": 785,
    "start_time": "2021-11-25T18:19:21.273Z"
   },
   {
    "duration": 20,
    "start_time": "2021-11-25T18:19:22.061Z"
   },
   {
    "duration": 518,
    "start_time": "2021-11-25T18:19:22.082Z"
   },
   {
    "duration": 319,
    "start_time": "2021-11-25T18:19:22.603Z"
   },
   {
    "duration": 26,
    "start_time": "2021-11-25T18:19:22.924Z"
   },
   {
    "duration": 29,
    "start_time": "2021-11-25T18:19:22.952Z"
   },
   {
    "duration": 34,
    "start_time": "2021-11-25T18:19:22.983Z"
   },
   {
    "duration": 261,
    "start_time": "2021-11-25T18:19:23.018Z"
   },
   {
    "duration": 279,
    "start_time": "2021-11-25T18:19:23.281Z"
   },
   {
    "duration": 12245,
    "start_time": "2021-11-25T18:19:11.317Z"
   },
   {
    "duration": 12241,
    "start_time": "2021-11-25T18:19:11.323Z"
   },
   {
    "duration": 12238,
    "start_time": "2021-11-25T18:19:11.326Z"
   },
   {
    "duration": 12236,
    "start_time": "2021-11-25T18:19:11.329Z"
   },
   {
    "duration": 12234,
    "start_time": "2021-11-25T18:19:11.332Z"
   },
   {
    "duration": 12231,
    "start_time": "2021-11-25T18:19:11.336Z"
   },
   {
    "duration": 12228,
    "start_time": "2021-11-25T18:19:11.340Z"
   },
   {
    "duration": 12227,
    "start_time": "2021-11-25T18:19:11.343Z"
   },
   {
    "duration": 12226,
    "start_time": "2021-11-25T18:19:11.345Z"
   },
   {
    "duration": 12224,
    "start_time": "2021-11-25T18:19:11.348Z"
   },
   {
    "duration": 12221,
    "start_time": "2021-11-25T18:19:11.351Z"
   },
   {
    "duration": 12220,
    "start_time": "2021-11-25T18:19:11.354Z"
   },
   {
    "duration": 12218,
    "start_time": "2021-11-25T18:19:11.357Z"
   },
   {
    "duration": 4,
    "start_time": "2021-11-25T18:21:21.098Z"
   },
   {
    "duration": 110,
    "start_time": "2021-11-25T18:21:21.103Z"
   },
   {
    "duration": 13,
    "start_time": "2021-11-25T18:21:21.214Z"
   },
   {
    "duration": 6,
    "start_time": "2021-11-25T18:21:21.228Z"
   },
   {
    "duration": 11,
    "start_time": "2021-11-25T18:21:21.236Z"
   },
   {
    "duration": 6,
    "start_time": "2021-11-25T18:21:21.248Z"
   },
   {
    "duration": 6,
    "start_time": "2021-11-25T18:21:21.257Z"
   },
   {
    "duration": 16,
    "start_time": "2021-11-25T18:21:21.264Z"
   },
   {
    "duration": 8,
    "start_time": "2021-11-25T18:21:21.281Z"
   },
   {
    "duration": 27,
    "start_time": "2021-11-25T18:21:21.290Z"
   },
   {
    "duration": 7,
    "start_time": "2021-11-25T18:21:21.344Z"
   },
   {
    "duration": 6,
    "start_time": "2021-11-25T18:21:21.352Z"
   },
   {
    "duration": 10,
    "start_time": "2021-11-25T18:21:21.360Z"
   },
   {
    "duration": 9,
    "start_time": "2021-11-25T18:21:21.371Z"
   },
   {
    "duration": 14,
    "start_time": "2021-11-25T18:21:21.382Z"
   },
   {
    "duration": 63,
    "start_time": "2021-11-25T18:21:21.397Z"
   },
   {
    "duration": 4,
    "start_time": "2021-11-25T18:21:21.462Z"
   },
   {
    "duration": 9,
    "start_time": "2021-11-25T18:21:21.467Z"
   },
   {
    "duration": 507,
    "start_time": "2021-11-25T18:21:21.479Z"
   },
   {
    "duration": 620,
    "start_time": "2021-11-25T18:21:21.988Z"
   },
   {
    "duration": 22,
    "start_time": "2021-11-25T18:21:22.609Z"
   },
   {
    "duration": 370,
    "start_time": "2021-11-25T18:21:22.632Z"
   },
   {
    "duration": 278,
    "start_time": "2021-11-25T18:21:23.003Z"
   },
   {
    "duration": 17,
    "start_time": "2021-11-25T18:21:23.283Z"
   },
   {
    "duration": 16,
    "start_time": "2021-11-25T18:21:23.302Z"
   },
   {
    "duration": 38,
    "start_time": "2021-11-25T18:21:23.320Z"
   },
   {
    "duration": 255,
    "start_time": "2021-11-25T18:21:23.360Z"
   },
   {
    "duration": 420,
    "start_time": "2021-11-25T18:21:23.617Z"
   },
   {
    "duration": 12250,
    "start_time": "2021-11-25T18:21:11.789Z"
   },
   {
    "duration": 12245,
    "start_time": "2021-11-25T18:21:11.796Z"
   },
   {
    "duration": 12241,
    "start_time": "2021-11-25T18:21:11.801Z"
   },
   {
    "duration": 12237,
    "start_time": "2021-11-25T18:21:11.806Z"
   },
   {
    "duration": 12236,
    "start_time": "2021-11-25T18:21:11.808Z"
   },
   {
    "duration": 12234,
    "start_time": "2021-11-25T18:21:11.811Z"
   },
   {
    "duration": 12232,
    "start_time": "2021-11-25T18:21:11.814Z"
   },
   {
    "duration": 12230,
    "start_time": "2021-11-25T18:21:11.817Z"
   },
   {
    "duration": 12229,
    "start_time": "2021-11-25T18:21:11.820Z"
   },
   {
    "duration": 12228,
    "start_time": "2021-11-25T18:21:11.822Z"
   },
   {
    "duration": 12226,
    "start_time": "2021-11-25T18:21:11.825Z"
   },
   {
    "duration": 12224,
    "start_time": "2021-11-25T18:21:11.828Z"
   },
   {
    "duration": 12222,
    "start_time": "2021-11-25T18:21:11.831Z"
   },
   {
    "duration": 15,
    "start_time": "2021-11-25T18:22:43.033Z"
   },
   {
    "duration": 5,
    "start_time": "2021-11-25T18:22:44.460Z"
   },
   {
    "duration": 17,
    "start_time": "2021-11-25T18:24:31.012Z"
   },
   {
    "duration": 6,
    "start_time": "2021-11-25T18:24:33.153Z"
   },
   {
    "duration": 15,
    "start_time": "2021-11-25T18:25:08.524Z"
   },
   {
    "duration": 5,
    "start_time": "2021-11-25T18:25:10.852Z"
   },
   {
    "duration": 14,
    "start_time": "2021-11-25T18:26:31.754Z"
   },
   {
    "duration": 4,
    "start_time": "2021-11-25T18:26:34.102Z"
   },
   {
    "duration": 15,
    "start_time": "2021-11-25T18:26:41.552Z"
   },
   {
    "duration": 5,
    "start_time": "2021-11-25T18:26:43.362Z"
   },
   {
    "duration": 15,
    "start_time": "2021-11-25T18:26:48.501Z"
   },
   {
    "duration": 5,
    "start_time": "2021-11-25T18:26:50.243Z"
   },
   {
    "duration": 15,
    "start_time": "2021-11-25T18:26:56.274Z"
   },
   {
    "duration": 5,
    "start_time": "2021-11-25T18:26:58.212Z"
   },
   {
    "duration": 20,
    "start_time": "2021-11-25T18:27:39.404Z"
   },
   {
    "duration": 8,
    "start_time": "2021-11-25T18:28:47.137Z"
   },
   {
    "duration": 4,
    "start_time": "2021-11-25T18:29:36.251Z"
   },
   {
    "duration": 146,
    "start_time": "2021-11-25T18:29:36.257Z"
   },
   {
    "duration": 12,
    "start_time": "2021-11-25T18:29:36.405Z"
   },
   {
    "duration": 4,
    "start_time": "2021-11-25T18:29:36.419Z"
   },
   {
    "duration": 7,
    "start_time": "2021-11-25T18:29:36.424Z"
   },
   {
    "duration": 8,
    "start_time": "2021-11-25T18:29:36.433Z"
   },
   {
    "duration": 14,
    "start_time": "2021-11-25T18:29:36.443Z"
   },
   {
    "duration": 5,
    "start_time": "2021-11-25T18:29:36.460Z"
   },
   {
    "duration": 19,
    "start_time": "2021-11-25T18:29:36.467Z"
   },
   {
    "duration": 8,
    "start_time": "2021-11-25T18:29:36.487Z"
   },
   {
    "duration": 27,
    "start_time": "2021-11-25T18:29:36.496Z"
   },
   {
    "duration": 4,
    "start_time": "2021-11-25T18:29:36.525Z"
   },
   {
    "duration": 9,
    "start_time": "2021-11-25T18:29:36.545Z"
   },
   {
    "duration": 7,
    "start_time": "2021-11-25T18:29:36.556Z"
   },
   {
    "duration": 5,
    "start_time": "2021-11-25T18:29:36.565Z"
   },
   {
    "duration": 13,
    "start_time": "2021-11-25T18:29:36.572Z"
   },
   {
    "duration": 30,
    "start_time": "2021-11-25T18:29:36.586Z"
   },
   {
    "duration": 6,
    "start_time": "2021-11-25T18:29:36.652Z"
   },
   {
    "duration": 8,
    "start_time": "2021-11-25T18:29:36.659Z"
   },
   {
    "duration": 683,
    "start_time": "2021-11-25T18:29:36.669Z"
   },
   {
    "duration": 8,
    "start_time": "2021-11-25T18:29:37.354Z"
   },
   {
    "duration": 673,
    "start_time": "2021-11-25T18:29:37.366Z"
   },
   {
    "duration": 28,
    "start_time": "2021-11-25T18:29:38.042Z"
   },
   {
    "duration": 15,
    "start_time": "2021-11-25T18:29:38.073Z"
   },
   {
    "duration": 6,
    "start_time": "2021-11-25T18:29:38.089Z"
   },
   {
    "duration": 395,
    "start_time": "2021-11-25T18:29:38.097Z"
   },
   {
    "duration": 299,
    "start_time": "2021-11-25T18:29:38.494Z"
   },
   {
    "duration": 18,
    "start_time": "2021-11-25T18:29:38.794Z"
   },
   {
    "duration": 16,
    "start_time": "2021-11-25T18:29:38.814Z"
   },
   {
    "duration": 29,
    "start_time": "2021-11-25T18:29:38.832Z"
   },
   {
    "duration": 256,
    "start_time": "2021-11-25T18:29:38.862Z"
   },
   {
    "duration": 258,
    "start_time": "2021-11-25T18:29:39.119Z"
   },
   {
    "duration": 12282,
    "start_time": "2021-11-25T18:29:27.097Z"
   },
   {
    "duration": 12280,
    "start_time": "2021-11-25T18:29:27.100Z"
   },
   {
    "duration": 12274,
    "start_time": "2021-11-25T18:29:27.106Z"
   },
   {
    "duration": 12264,
    "start_time": "2021-11-25T18:29:27.117Z"
   },
   {
    "duration": 12261,
    "start_time": "2021-11-25T18:29:27.121Z"
   },
   {
    "duration": 12251,
    "start_time": "2021-11-25T18:29:27.132Z"
   },
   {
    "duration": 12248,
    "start_time": "2021-11-25T18:29:27.135Z"
   },
   {
    "duration": 12246,
    "start_time": "2021-11-25T18:29:27.138Z"
   },
   {
    "duration": 12235,
    "start_time": "2021-11-25T18:29:27.150Z"
   },
   {
    "duration": 12232,
    "start_time": "2021-11-25T18:29:27.153Z"
   },
   {
    "duration": 12230,
    "start_time": "2021-11-25T18:29:27.156Z"
   },
   {
    "duration": 12227,
    "start_time": "2021-11-25T18:29:27.160Z"
   },
   {
    "duration": 12226,
    "start_time": "2021-11-25T18:29:27.162Z"
   },
   {
    "duration": 15,
    "start_time": "2021-11-25T18:30:34.904Z"
   },
   {
    "duration": 7,
    "start_time": "2021-11-25T18:30:37.013Z"
   },
   {
    "duration": 722,
    "start_time": "2021-11-26T03:22:45.169Z"
   },
   {
    "duration": 215,
    "start_time": "2021-11-26T03:22:45.893Z"
   },
   {
    "duration": 16,
    "start_time": "2021-11-26T03:22:46.111Z"
   },
   {
    "duration": 8,
    "start_time": "2021-11-26T03:22:46.129Z"
   },
   {
    "duration": 11,
    "start_time": "2021-11-26T03:22:46.138Z"
   },
   {
    "duration": 17,
    "start_time": "2021-11-26T03:22:46.151Z"
   },
   {
    "duration": 8,
    "start_time": "2021-11-26T03:22:46.170Z"
   },
   {
    "duration": 7,
    "start_time": "2021-11-26T03:22:46.180Z"
   },
   {
    "duration": 16,
    "start_time": "2021-11-26T03:22:46.207Z"
   },
   {
    "duration": 9,
    "start_time": "2021-11-26T03:22:46.224Z"
   },
   {
    "duration": 26,
    "start_time": "2021-11-26T03:22:46.235Z"
   },
   {
    "duration": 6,
    "start_time": "2021-11-26T03:22:46.263Z"
   },
   {
    "duration": 39,
    "start_time": "2021-11-26T03:22:46.270Z"
   },
   {
    "duration": 6,
    "start_time": "2021-11-26T03:22:46.311Z"
   },
   {
    "duration": 7,
    "start_time": "2021-11-26T03:22:46.318Z"
   },
   {
    "duration": 16,
    "start_time": "2021-11-26T03:22:46.326Z"
   },
   {
    "duration": 30,
    "start_time": "2021-11-26T03:22:46.343Z"
   },
   {
    "duration": 38,
    "start_time": "2021-11-26T03:22:46.375Z"
   },
   {
    "duration": 17,
    "start_time": "2021-11-26T03:22:46.415Z"
   },
   {
    "duration": 605,
    "start_time": "2021-11-26T03:22:46.434Z"
   },
   {
    "duration": 8,
    "start_time": "2021-11-26T03:22:47.041Z"
   },
   {
    "duration": 616,
    "start_time": "2021-11-26T03:22:47.051Z"
   },
   {
    "duration": 21,
    "start_time": "2021-11-26T03:22:47.671Z"
   },
   {
    "duration": 24,
    "start_time": "2021-11-26T03:22:47.694Z"
   },
   {
    "duration": 10,
    "start_time": "2021-11-26T03:22:47.720Z"
   },
   {
    "duration": 365,
    "start_time": "2021-11-26T03:22:47.732Z"
   },
   {
    "duration": 301,
    "start_time": "2021-11-26T03:22:48.098Z"
   },
   {
    "duration": 21,
    "start_time": "2021-11-26T03:22:48.401Z"
   },
   {
    "duration": 16,
    "start_time": "2021-11-26T03:22:48.424Z"
   },
   {
    "duration": 18,
    "start_time": "2021-11-26T03:22:48.442Z"
   },
   {
    "duration": 378,
    "start_time": "2021-11-26T03:22:48.462Z"
   },
   {
    "duration": 408,
    "start_time": "2021-11-26T03:22:48.842Z"
   },
   {
    "duration": 12498,
    "start_time": "2021-11-26T03:22:36.754Z"
   },
   {
    "duration": 12490,
    "start_time": "2021-11-26T03:22:36.763Z"
   },
   {
    "duration": 12483,
    "start_time": "2021-11-26T03:22:36.770Z"
   },
   {
    "duration": 12479,
    "start_time": "2021-11-26T03:22:36.775Z"
   },
   {
    "duration": 12475,
    "start_time": "2021-11-26T03:22:36.780Z"
   },
   {
    "duration": 12471,
    "start_time": "2021-11-26T03:22:36.785Z"
   },
   {
    "duration": 12466,
    "start_time": "2021-11-26T03:22:36.791Z"
   },
   {
    "duration": 12462,
    "start_time": "2021-11-26T03:22:36.796Z"
   },
   {
    "duration": 12457,
    "start_time": "2021-11-26T03:22:36.801Z"
   },
   {
    "duration": 12455,
    "start_time": "2021-11-26T03:22:36.804Z"
   },
   {
    "duration": 12452,
    "start_time": "2021-11-26T03:22:36.808Z"
   },
   {
    "duration": 12447,
    "start_time": "2021-11-26T03:22:36.814Z"
   },
   {
    "duration": 12443,
    "start_time": "2021-11-26T03:22:36.819Z"
   },
   {
    "duration": 10,
    "start_time": "2021-11-26T03:26:26.113Z"
   },
   {
    "duration": 5,
    "start_time": "2021-11-26T03:26:28.241Z"
   },
   {
    "duration": 17,
    "start_time": "2021-11-26T03:26:52.791Z"
   },
   {
    "duration": 5,
    "start_time": "2021-11-26T03:26:54.141Z"
   },
   {
    "duration": 359,
    "start_time": "2021-11-26T04:01:32.825Z"
   },
   {
    "duration": 109,
    "start_time": "2021-11-26T04:02:21.386Z"
   },
   {
    "duration": 12,
    "start_time": "2021-11-26T04:02:25.564Z"
   },
   {
    "duration": 15,
    "start_time": "2021-11-26T04:02:42.637Z"
   },
   {
    "duration": 10,
    "start_time": "2021-11-26T04:02:59.245Z"
   },
   {
    "duration": 22,
    "start_time": "2021-11-26T04:03:17.194Z"
   },
   {
    "duration": 963,
    "start_time": "2021-11-26T04:04:31.536Z"
   },
   {
    "duration": 11,
    "start_time": "2021-11-26T04:04:39.855Z"
   },
   {
    "duration": 10,
    "start_time": "2021-11-26T04:05:15.180Z"
   },
   {
    "duration": 11,
    "start_time": "2021-11-26T04:05:31.276Z"
   },
   {
    "duration": 12,
    "start_time": "2021-11-26T04:05:55.903Z"
   },
   {
    "duration": 11,
    "start_time": "2021-11-26T04:06:43.397Z"
   },
   {
    "duration": 11,
    "start_time": "2021-11-26T04:06:58.816Z"
   },
   {
    "duration": 12,
    "start_time": "2021-11-26T04:07:04.265Z"
   },
   {
    "duration": 11,
    "start_time": "2021-11-26T04:07:09.098Z"
   },
   {
    "duration": 12,
    "start_time": "2021-11-26T04:07:45.236Z"
   },
   {
    "duration": 316,
    "start_time": "2021-11-27T03:41:56.000Z"
   },
   {
    "duration": 896,
    "start_time": "2021-11-27T03:42:01.819Z"
   },
   {
    "duration": 154,
    "start_time": "2021-11-27T03:42:02.717Z"
   },
   {
    "duration": 25,
    "start_time": "2021-11-27T03:42:02.873Z"
   },
   {
    "duration": 3,
    "start_time": "2021-11-27T03:42:02.901Z"
   },
   {
    "duration": 24,
    "start_time": "2021-11-27T03:42:02.906Z"
   },
   {
    "duration": 15,
    "start_time": "2021-11-27T03:42:02.933Z"
   },
   {
    "duration": 10,
    "start_time": "2021-11-27T03:42:02.950Z"
   },
   {
    "duration": 15,
    "start_time": "2021-11-27T03:42:02.963Z"
   },
   {
    "duration": 54,
    "start_time": "2021-11-27T03:42:02.981Z"
   },
   {
    "duration": 12,
    "start_time": "2021-11-27T03:42:03.038Z"
   },
   {
    "duration": 49,
    "start_time": "2021-11-27T03:42:03.052Z"
   },
   {
    "duration": 34,
    "start_time": "2021-11-27T03:42:03.103Z"
   },
   {
    "duration": 9,
    "start_time": "2021-11-27T03:42:03.140Z"
   },
   {
    "duration": 9,
    "start_time": "2021-11-27T03:42:03.151Z"
   },
   {
    "duration": 8,
    "start_time": "2021-11-27T03:42:03.163Z"
   },
   {
    "duration": 67,
    "start_time": "2021-11-27T03:42:03.174Z"
   },
   {
    "duration": 46,
    "start_time": "2021-11-27T03:42:03.244Z"
   },
   {
    "duration": 10,
    "start_time": "2021-11-27T03:42:03.292Z"
   },
   {
    "duration": 31,
    "start_time": "2021-11-27T03:42:03.305Z"
   },
   {
    "duration": 1035,
    "start_time": "2021-11-27T03:42:03.339Z"
   },
   {
    "duration": 10,
    "start_time": "2021-11-27T03:42:04.377Z"
   },
   {
    "duration": 1064,
    "start_time": "2021-11-27T03:42:04.389Z"
   },
   {
    "duration": 32,
    "start_time": "2021-11-27T03:42:05.458Z"
   },
   {
    "duration": 38,
    "start_time": "2021-11-27T03:42:05.493Z"
   },
   {
    "duration": 29,
    "start_time": "2021-11-27T03:42:05.533Z"
   },
   {
    "duration": 6,
    "start_time": "2021-11-27T03:42:05.564Z"
   },
   {
    "duration": 624,
    "start_time": "2021-11-27T03:42:05.573Z"
   },
   {
    "duration": 492,
    "start_time": "2021-11-27T03:42:06.200Z"
   },
   {
    "duration": 40,
    "start_time": "2021-11-27T03:42:06.695Z"
   },
   {
    "duration": 27,
    "start_time": "2021-11-27T03:42:06.738Z"
   },
   {
    "duration": 26,
    "start_time": "2021-11-27T03:42:06.768Z"
   },
   {
    "duration": 453,
    "start_time": "2021-11-27T03:42:06.797Z"
   },
   {
    "duration": 280,
    "start_time": "2021-11-27T03:42:07.253Z"
   },
   {
    "duration": -91,
    "start_time": "2021-11-27T03:42:07.626Z"
   },
   {
    "duration": -99,
    "start_time": "2021-11-27T03:42:07.635Z"
   },
   {
    "duration": -100,
    "start_time": "2021-11-27T03:42:07.638Z"
   },
   {
    "duration": -102,
    "start_time": "2021-11-27T03:42:07.641Z"
   },
   {
    "duration": -103,
    "start_time": "2021-11-27T03:42:07.644Z"
   },
   {
    "duration": -105,
    "start_time": "2021-11-27T03:42:07.647Z"
   },
   {
    "duration": -108,
    "start_time": "2021-11-27T03:42:07.651Z"
   },
   {
    "duration": -109,
    "start_time": "2021-11-27T03:42:07.654Z"
   },
   {
    "duration": -111,
    "start_time": "2021-11-27T03:42:07.657Z"
   },
   {
    "duration": -113,
    "start_time": "2021-11-27T03:42:07.660Z"
   },
   {
    "duration": -114,
    "start_time": "2021-11-27T03:42:07.663Z"
   },
   {
    "duration": -116,
    "start_time": "2021-11-27T03:42:07.666Z"
   },
   {
    "duration": -118,
    "start_time": "2021-11-27T03:42:07.669Z"
   },
   {
    "duration": 467,
    "start_time": "2021-11-27T03:42:42.239Z"
   },
   {
    "duration": 5,
    "start_time": "2021-11-27T03:43:19.362Z"
   },
   {
    "duration": 145,
    "start_time": "2021-11-27T03:43:19.369Z"
   },
   {
    "duration": 20,
    "start_time": "2021-11-27T03:43:19.517Z"
   },
   {
    "duration": 10,
    "start_time": "2021-11-27T03:43:19.540Z"
   },
   {
    "duration": 17,
    "start_time": "2021-11-27T03:43:19.552Z"
   },
   {
    "duration": 18,
    "start_time": "2021-11-27T03:43:19.571Z"
   },
   {
    "duration": 19,
    "start_time": "2021-11-27T03:43:19.591Z"
   },
   {
    "duration": 22,
    "start_time": "2021-11-27T03:43:19.614Z"
   },
   {
    "duration": 29,
    "start_time": "2021-11-27T03:43:19.639Z"
   },
   {
    "duration": 10,
    "start_time": "2021-11-27T03:43:19.671Z"
   },
   {
    "duration": 71,
    "start_time": "2021-11-27T03:43:19.683Z"
   },
   {
    "duration": 7,
    "start_time": "2021-11-27T03:43:19.756Z"
   },
   {
    "duration": 24,
    "start_time": "2021-11-27T03:43:19.765Z"
   },
   {
    "duration": 21,
    "start_time": "2021-11-27T03:43:19.791Z"
   },
   {
    "duration": 19,
    "start_time": "2021-11-27T03:43:19.814Z"
   },
   {
    "duration": 20,
    "start_time": "2021-11-27T03:43:19.835Z"
   },
   {
    "duration": 57,
    "start_time": "2021-11-27T03:43:19.857Z"
   },
   {
    "duration": 15,
    "start_time": "2021-11-27T03:43:19.916Z"
   },
   {
    "duration": 23,
    "start_time": "2021-11-27T03:43:19.934Z"
   },
   {
    "duration": 928,
    "start_time": "2021-11-27T03:43:19.959Z"
   },
   {
    "duration": 8,
    "start_time": "2021-11-27T03:43:20.890Z"
   },
   {
    "duration": 1037,
    "start_time": "2021-11-27T03:43:20.900Z"
   },
   {
    "duration": 32,
    "start_time": "2021-11-27T03:43:21.941Z"
   },
   {
    "duration": 16,
    "start_time": "2021-11-27T03:43:21.976Z"
   },
   {
    "duration": 53,
    "start_time": "2021-11-27T03:43:21.994Z"
   },
   {
    "duration": 6,
    "start_time": "2021-11-27T03:43:22.050Z"
   },
   {
    "duration": 608,
    "start_time": "2021-11-27T03:43:22.058Z"
   },
   {
    "duration": 503,
    "start_time": "2021-11-27T03:43:22.668Z"
   },
   {
    "duration": 28,
    "start_time": "2021-11-27T03:43:23.173Z"
   },
   {
    "duration": 44,
    "start_time": "2021-11-27T03:43:23.204Z"
   },
   {
    "duration": 27,
    "start_time": "2021-11-27T03:43:23.250Z"
   },
   {
    "duration": 471,
    "start_time": "2021-11-27T03:43:23.280Z"
   },
   {
    "duration": 7,
    "start_time": "2021-11-27T03:43:23.753Z"
   },
   {
    "duration": 19,
    "start_time": "2021-11-27T03:43:23.762Z"
   },
   {
    "duration": 6,
    "start_time": "2021-11-27T03:43:23.784Z"
   },
   {
    "duration": 39,
    "start_time": "2021-11-27T03:43:23.793Z"
   },
   {
    "duration": 9,
    "start_time": "2021-11-27T03:43:23.835Z"
   },
   {
    "duration": 7,
    "start_time": "2021-11-27T03:43:23.847Z"
   },
   {
    "duration": 33,
    "start_time": "2021-11-27T03:43:23.856Z"
   },
   {
    "duration": 39,
    "start_time": "2021-11-27T03:43:23.891Z"
   },
   {
    "duration": 242,
    "start_time": "2021-11-27T03:43:23.933Z"
   },
   {
    "duration": -53,
    "start_time": "2021-11-27T03:43:24.230Z"
   },
   {
    "duration": -62,
    "start_time": "2021-11-27T03:43:24.241Z"
   },
   {
    "duration": -68,
    "start_time": "2021-11-27T03:43:24.248Z"
   },
   {
    "duration": -71,
    "start_time": "2021-11-27T03:43:24.252Z"
   },
   {
    "duration": 1094,
    "start_time": "2021-11-27T03:44:35.849Z"
   },
   {
    "duration": 1115,
    "start_time": "2021-11-27T03:44:42.993Z"
   },
   {
    "duration": 33,
    "start_time": "2021-11-27T03:45:36.890Z"
   },
   {
    "duration": 31,
    "start_time": "2021-11-27T03:45:46.299Z"
   },
   {
    "duration": 244,
    "start_time": "2021-11-27T03:46:58.510Z"
   },
   {
    "duration": 25,
    "start_time": "2021-11-27T03:47:11.400Z"
   },
   {
    "duration": 7,
    "start_time": "2021-11-27T03:47:14.980Z"
   },
   {
    "duration": 4,
    "start_time": "2021-11-27T03:48:03.243Z"
   },
   {
    "duration": 123,
    "start_time": "2021-11-27T03:48:03.250Z"
   },
   {
    "duration": 21,
    "start_time": "2021-11-27T03:48:03.376Z"
   },
   {
    "duration": 29,
    "start_time": "2021-11-27T03:48:03.400Z"
   },
   {
    "duration": 19,
    "start_time": "2021-11-27T03:48:03.431Z"
   },
   {
    "duration": 23,
    "start_time": "2021-11-27T03:48:03.452Z"
   },
   {
    "duration": 11,
    "start_time": "2021-11-27T03:48:03.477Z"
   },
   {
    "duration": 15,
    "start_time": "2021-11-27T03:48:03.492Z"
   },
   {
    "duration": 40,
    "start_time": "2021-11-27T03:48:03.510Z"
   },
   {
    "duration": 12,
    "start_time": "2021-11-27T03:48:03.552Z"
   },
   {
    "duration": 66,
    "start_time": "2021-11-27T03:48:03.567Z"
   },
   {
    "duration": 9,
    "start_time": "2021-11-27T03:48:03.635Z"
   },
   {
    "duration": 28,
    "start_time": "2021-11-27T03:48:03.646Z"
   },
   {
    "duration": 16,
    "start_time": "2021-11-27T03:48:03.676Z"
   },
   {
    "duration": 9,
    "start_time": "2021-11-27T03:48:03.694Z"
   },
   {
    "duration": 43,
    "start_time": "2021-11-27T03:48:03.706Z"
   },
   {
    "duration": 48,
    "start_time": "2021-11-27T03:48:03.752Z"
   },
   {
    "duration": 27,
    "start_time": "2021-11-27T03:48:03.802Z"
   },
   {
    "duration": 24,
    "start_time": "2021-11-27T03:48:03.832Z"
   },
   {
    "duration": 939,
    "start_time": "2021-11-27T03:48:03.859Z"
   },
   {
    "duration": 9,
    "start_time": "2021-11-27T03:48:04.800Z"
   },
   {
    "duration": 1061,
    "start_time": "2021-11-27T03:48:04.811Z"
   },
   {
    "duration": 33,
    "start_time": "2021-11-27T03:48:05.879Z"
   },
   {
    "duration": 624,
    "start_time": "2021-11-27T03:48:05.929Z"
   },
   {
    "duration": 476,
    "start_time": "2021-11-27T03:48:06.555Z"
   },
   {
    "duration": 26,
    "start_time": "2021-11-27T03:48:07.035Z"
   },
   {
    "duration": 26,
    "start_time": "2021-11-27T03:48:07.064Z"
   },
   {
    "duration": 54,
    "start_time": "2021-11-27T03:48:07.092Z"
   },
   {
    "duration": 425,
    "start_time": "2021-11-27T03:48:07.149Z"
   },
   {
    "duration": 7,
    "start_time": "2021-11-27T03:48:07.576Z"
   },
   {
    "duration": 31,
    "start_time": "2021-11-27T03:48:07.585Z"
   },
   {
    "duration": 14,
    "start_time": "2021-11-27T03:48:07.619Z"
   },
   {
    "duration": 10,
    "start_time": "2021-11-27T03:48:07.635Z"
   },
   {
    "duration": 8,
    "start_time": "2021-11-27T03:48:07.648Z"
   },
   {
    "duration": 7,
    "start_time": "2021-11-27T03:48:07.658Z"
   },
   {
    "duration": 62,
    "start_time": "2021-11-27T03:48:07.668Z"
   },
   {
    "duration": 8,
    "start_time": "2021-11-27T03:48:07.733Z"
   },
   {
    "duration": 240,
    "start_time": "2021-11-27T03:48:07.744Z"
   },
   {
    "duration": -44,
    "start_time": "2021-11-27T03:48:08.031Z"
   },
   {
    "duration": -70,
    "start_time": "2021-11-27T03:48:08.058Z"
   },
   {
    "duration": -79,
    "start_time": "2021-11-27T03:48:08.069Z"
   },
   {
    "duration": -81,
    "start_time": "2021-11-27T03:48:08.072Z"
   },
   {
    "duration": 474,
    "start_time": "2021-11-27T03:48:50.595Z"
   },
   {
    "duration": 30,
    "start_time": "2021-11-27T03:54:01.534Z"
   },
   {
    "duration": 28,
    "start_time": "2021-11-27T04:04:51.706Z"
   },
   {
    "duration": 24,
    "start_time": "2021-11-27T04:05:02.385Z"
   },
   {
    "duration": 9,
    "start_time": "2021-11-27T04:06:02.666Z"
   },
   {
    "duration": 29,
    "start_time": "2021-11-27T04:06:57.056Z"
   },
   {
    "duration": 10,
    "start_time": "2021-11-27T04:06:59.571Z"
   },
   {
    "duration": 27,
    "start_time": "2021-11-27T04:09:01.748Z"
   },
   {
    "duration": 21,
    "start_time": "2021-11-27T04:09:03.997Z"
   },
   {
    "duration": 10,
    "start_time": "2021-11-27T04:09:06.337Z"
   },
   {
    "duration": 8,
    "start_time": "2021-11-27T04:10:38.128Z"
   },
   {
    "duration": 6,
    "start_time": "2021-11-27T04:10:53.928Z"
   },
   {
    "duration": 4,
    "start_time": "2021-11-27T04:11:25.688Z"
   },
   {
    "duration": 10,
    "start_time": "2021-11-27T04:11:27.579Z"
   },
   {
    "duration": 29,
    "start_time": "2021-11-27T04:11:41.168Z"
   },
   {
    "duration": 21,
    "start_time": "2021-11-27T04:11:42.309Z"
   },
   {
    "duration": 10,
    "start_time": "2021-11-27T04:11:44.569Z"
   },
   {
    "duration": 13,
    "start_time": "2021-11-27T04:15:34.571Z"
   },
   {
    "duration": 18,
    "start_time": "2021-11-27T04:16:24.771Z"
   },
   {
    "duration": 264,
    "start_time": "2021-11-27T04:16:40.190Z"
   },
   {
    "duration": 241,
    "start_time": "2021-11-27T04:16:50.870Z"
   },
   {
    "duration": 22,
    "start_time": "2021-11-27T04:17:01.268Z"
   },
   {
    "duration": 14,
    "start_time": "2021-11-27T04:17:02.957Z"
   },
   {
    "duration": 7,
    "start_time": "2021-11-27T04:17:48.470Z"
   },
   {
    "duration": 93,
    "start_time": "2021-11-27T04:18:52.509Z"
   },
   {
    "duration": 84,
    "start_time": "2021-11-27T04:19:15.250Z"
   },
   {
    "duration": 5,
    "start_time": "2021-11-27T04:19:27.670Z"
   },
   {
    "duration": 4836,
    "start_time": "2021-11-27T04:19:36.401Z"
   },
   {
    "duration": 994,
    "start_time": "2021-11-27T04:19:52.821Z"
   },
   {
    "duration": 6,
    "start_time": "2021-11-27T04:20:10.161Z"
   },
   {
    "duration": 20,
    "start_time": "2021-11-27T04:20:25.861Z"
   },
   {
    "duration": 27,
    "start_time": "2021-11-27T04:23:16.923Z"
   },
   {
    "duration": 9,
    "start_time": "2021-11-27T04:23:18.914Z"
   },
   {
    "duration": 401,
    "start_time": "2021-11-27T04:37:01.388Z"
   },
   {
    "duration": 391,
    "start_time": "2021-11-27T04:37:16.506Z"
   },
   {
    "duration": 418,
    "start_time": "2021-11-27T04:37:37.006Z"
   },
   {
    "duration": 384,
    "start_time": "2021-11-27T04:37:53.727Z"
   },
   {
    "duration": 539,
    "start_time": "2021-11-27T04:38:01.086Z"
   },
   {
    "duration": 1018,
    "start_time": "2021-11-27T04:39:41.907Z"
   },
   {
    "duration": 35,
    "start_time": "2021-11-27T04:40:14.969Z"
   },
   {
    "duration": 45,
    "start_time": "2021-11-27T04:40:20.328Z"
   },
   {
    "duration": 38,
    "start_time": "2021-11-27T04:40:40.116Z"
   },
   {
    "duration": 27,
    "start_time": "2021-11-27T04:41:40.235Z"
   },
   {
    "duration": 99,
    "start_time": "2021-11-27T04:41:54.928Z"
   },
   {
    "duration": 287,
    "start_time": "2021-11-27T04:42:03.798Z"
   },
   {
    "duration": 31,
    "start_time": "2021-11-27T04:42:14.618Z"
   },
   {
    "duration": 11,
    "start_time": "2021-11-27T04:42:57.383Z"
   },
   {
    "duration": 5,
    "start_time": "2021-11-27T04:43:04.709Z"
   },
   {
    "duration": 31,
    "start_time": "2021-11-27T04:43:31.159Z"
   },
   {
    "duration": 31,
    "start_time": "2021-11-27T04:44:14.221Z"
   },
   {
    "duration": 32,
    "start_time": "2021-11-27T04:44:49.249Z"
   },
   {
    "duration": 274,
    "start_time": "2021-11-27T04:46:53.900Z"
   },
   {
    "duration": 47,
    "start_time": "2021-11-27T04:47:07.613Z"
   },
   {
    "duration": 11,
    "start_time": "2021-11-27T04:47:10.211Z"
   },
   {
    "duration": 15,
    "start_time": "2021-11-27T04:49:38.311Z"
   },
   {
    "duration": 9,
    "start_time": "2021-11-27T04:49:46.021Z"
   },
   {
    "duration": 12,
    "start_time": "2021-11-27T04:50:13.721Z"
   },
   {
    "duration": 10,
    "start_time": "2021-11-27T04:50:15.472Z"
   },
   {
    "duration": 7,
    "start_time": "2021-11-27T04:50:30.900Z"
   },
   {
    "duration": 16,
    "start_time": "2021-11-27T04:50:33.180Z"
   },
   {
    "duration": 6,
    "start_time": "2021-11-27T05:47:15.382Z"
   },
   {
    "duration": 4,
    "start_time": "2021-11-27T05:47:23.971Z"
   },
   {
    "duration": 5,
    "start_time": "2021-11-27T05:47:27.082Z"
   },
   {
    "duration": 44,
    "start_time": "2021-11-27T05:48:58.033Z"
   },
   {
    "duration": 13,
    "start_time": "2021-11-27T05:49:00.713Z"
   },
   {
    "duration": 37,
    "start_time": "2021-11-27T05:50:17.013Z"
   },
   {
    "duration": 79,
    "start_time": "2021-11-27T05:50:19.132Z"
   },
   {
    "duration": 10,
    "start_time": "2021-11-27T05:50:22.341Z"
   },
   {
    "duration": 34,
    "start_time": "2021-11-27T05:51:38.052Z"
   },
   {
    "duration": 6846,
    "start_time": "2021-11-27T05:51:40.002Z"
   },
   {
    "duration": 39,
    "start_time": "2021-11-27T05:51:49.062Z"
   },
   {
    "duration": 12,
    "start_time": "2021-11-27T05:52:00.903Z"
   },
   {
    "duration": 7,
    "start_time": "2021-11-27T05:53:34.844Z"
   },
   {
    "duration": 15,
    "start_time": "2021-11-27T05:53:45.638Z"
   },
   {
    "duration": 8,
    "start_time": "2021-11-27T05:56:37.525Z"
   },
   {
    "duration": 14,
    "start_time": "2021-11-27T05:56:44.874Z"
   },
   {
    "duration": 112,
    "start_time": "2021-11-27T05:57:52.945Z"
   },
   {
    "duration": 7,
    "start_time": "2021-11-27T05:57:58.804Z"
   },
   {
    "duration": 15,
    "start_time": "2021-11-27T05:58:01.014Z"
   },
   {
    "duration": 7,
    "start_time": "2021-11-27T05:59:17.116Z"
   },
   {
    "duration": 15,
    "start_time": "2021-11-27T05:59:19.235Z"
   },
   {
    "duration": 264,
    "start_time": "2021-11-27T06:00:52.456Z"
   },
   {
    "duration": 8,
    "start_time": "2021-11-27T06:01:01.862Z"
   },
   {
    "duration": 14,
    "start_time": "2021-11-27T06:01:04.013Z"
   },
   {
    "duration": 995,
    "start_time": "2021-11-27T06:03:09.967Z"
   },
   {
    "duration": 27,
    "start_time": "2021-11-27T06:03:33.908Z"
   },
   {
    "duration": 6808,
    "start_time": "2021-11-27T06:03:48.106Z"
   },
   {
    "duration": 7848,
    "start_time": "2021-11-27T06:05:12.928Z"
   },
   {
    "duration": 300,
    "start_time": "2021-11-27T06:05:20.479Z"
   },
   {
    "duration": 26,
    "start_time": "2021-11-27T06:05:23.337Z"
   },
   {
    "duration": 8,
    "start_time": "2021-11-27T06:05:25.668Z"
   },
   {
    "duration": 11,
    "start_time": "2021-11-27T06:05:27.357Z"
   },
   {
    "duration": 7,
    "start_time": "2021-11-27T06:05:54.537Z"
   },
   {
    "duration": 12,
    "start_time": "2021-11-27T06:05:56.090Z"
   },
   {
    "duration": 14,
    "start_time": "2021-11-27T06:06:55.968Z"
   },
   {
    "duration": 13,
    "start_time": "2021-11-27T06:07:11.448Z"
   },
   {
    "duration": 25,
    "start_time": "2021-11-27T06:08:19.730Z"
   },
   {
    "duration": 10,
    "start_time": "2021-11-27T06:08:21.359Z"
   },
   {
    "duration": 607,
    "start_time": "2021-11-27T06:11:18.329Z"
   },
   {
    "duration": 421,
    "start_time": "2021-11-27T06:11:35.769Z"
   },
   {
    "duration": 429,
    "start_time": "2021-11-27T06:11:52.200Z"
   },
   {
    "duration": 429,
    "start_time": "2021-11-27T06:12:39.419Z"
   },
   {
    "duration": 5,
    "start_time": "2021-11-27T06:15:34.870Z"
   },
   {
    "duration": 116,
    "start_time": "2021-11-27T06:15:34.878Z"
   },
   {
    "duration": 21,
    "start_time": "2021-11-27T06:15:34.997Z"
   },
   {
    "duration": 11,
    "start_time": "2021-11-27T06:15:35.022Z"
   },
   {
    "duration": 19,
    "start_time": "2021-11-27T06:15:35.036Z"
   },
   {
    "duration": 21,
    "start_time": "2021-11-27T06:15:35.057Z"
   },
   {
    "duration": 14,
    "start_time": "2021-11-27T06:15:35.080Z"
   },
   {
    "duration": 13,
    "start_time": "2021-11-27T06:15:35.098Z"
   },
   {
    "duration": 42,
    "start_time": "2021-11-27T06:15:35.114Z"
   },
   {
    "duration": 12,
    "start_time": "2021-11-27T06:15:35.158Z"
   },
   {
    "duration": 62,
    "start_time": "2021-11-27T06:15:35.173Z"
   },
   {
    "duration": 8,
    "start_time": "2021-11-27T06:15:35.238Z"
   },
   {
    "duration": 18,
    "start_time": "2021-11-27T06:15:35.249Z"
   },
   {
    "duration": 11,
    "start_time": "2021-11-27T06:15:35.270Z"
   },
   {
    "duration": 12,
    "start_time": "2021-11-27T06:15:35.284Z"
   },
   {
    "duration": 46,
    "start_time": "2021-11-27T06:15:35.298Z"
   },
   {
    "duration": 46,
    "start_time": "2021-11-27T06:15:35.347Z"
   },
   {
    "duration": 6,
    "start_time": "2021-11-27T06:15:35.396Z"
   },
   {
    "duration": 11,
    "start_time": "2021-11-27T06:15:35.429Z"
   },
   {
    "duration": 835,
    "start_time": "2021-11-27T06:15:35.442Z"
   },
   {
    "duration": 10,
    "start_time": "2021-11-27T06:15:36.280Z"
   },
   {
    "duration": 1150,
    "start_time": "2021-11-27T06:15:36.292Z"
   },
   {
    "duration": 31,
    "start_time": "2021-11-27T06:15:37.446Z"
   },
   {
    "duration": 623,
    "start_time": "2021-11-27T06:15:37.480Z"
   },
   {
    "duration": 444,
    "start_time": "2021-11-27T06:15:38.105Z"
   },
   {
    "duration": 27,
    "start_time": "2021-11-27T06:15:38.552Z"
   },
   {
    "duration": 49,
    "start_time": "2021-11-27T06:15:38.581Z"
   },
   {
    "duration": 27,
    "start_time": "2021-11-27T06:15:38.632Z"
   },
   {
    "duration": 10,
    "start_time": "2021-11-27T06:15:38.661Z"
   },
   {
    "duration": 623,
    "start_time": "2021-11-27T06:15:38.674Z"
   },
   {
    "duration": 36,
    "start_time": "2021-11-27T06:15:39.299Z"
   },
   {
    "duration": 7,
    "start_time": "2021-11-27T06:15:39.337Z"
   },
   {
    "duration": 18,
    "start_time": "2021-11-27T06:15:39.346Z"
   },
   {
    "duration": 11,
    "start_time": "2021-11-27T06:15:39.367Z"
   },
   {
    "duration": 27,
    "start_time": "2021-11-27T06:16:48.212Z"
   },
   {
    "duration": 8,
    "start_time": "2021-11-27T06:16:48.830Z"
   },
   {
    "duration": 12,
    "start_time": "2021-11-27T06:16:49.401Z"
   },
   {
    "duration": 463,
    "start_time": "2021-11-27T06:18:00.242Z"
   },
   {
    "duration": 490,
    "start_time": "2021-11-27T06:18:30.912Z"
   },
   {
    "duration": 27,
    "start_time": "2021-11-27T06:20:31.882Z"
   },
   {
    "duration": 8,
    "start_time": "2021-11-27T06:20:32.442Z"
   },
   {
    "duration": 14,
    "start_time": "2021-11-27T06:20:33.073Z"
   },
   {
    "duration": 523,
    "start_time": "2021-11-27T06:20:37.942Z"
   },
   {
    "duration": 575,
    "start_time": "2021-11-27T06:21:09.333Z"
   },
   {
    "duration": 7,
    "start_time": "2021-11-27T06:23:02.465Z"
   },
   {
    "duration": 13,
    "start_time": "2021-11-27T06:23:02.984Z"
   },
   {
    "duration": 496,
    "start_time": "2021-11-27T06:23:03.584Z"
   },
   {
    "duration": 244,
    "start_time": "2021-11-27T06:43:07.042Z"
   },
   {
    "duration": 293,
    "start_time": "2021-11-27T06:43:17.621Z"
   },
   {
    "duration": 263,
    "start_time": "2021-11-27T06:44:23.693Z"
   },
   {
    "duration": 275,
    "start_time": "2021-11-27T06:44:32.942Z"
   },
   {
    "duration": 4043,
    "start_time": "2021-11-27T06:45:30.652Z"
   },
   {
    "duration": 1553,
    "start_time": "2021-11-27T06:46:55.483Z"
   },
   {
    "duration": 508,
    "start_time": "2021-11-27T06:47:33.044Z"
   },
   {
    "duration": 1558,
    "start_time": "2021-11-27T06:53:17.615Z"
   },
   {
    "duration": 1988,
    "start_time": "2021-11-27T06:53:57.466Z"
   },
   {
    "duration": 2181,
    "start_time": "2021-11-27T06:54:07.795Z"
   },
   {
    "duration": 261,
    "start_time": "2021-11-27T06:55:08.956Z"
   },
   {
    "duration": 423,
    "start_time": "2021-11-27T06:55:13.756Z"
   },
   {
    "duration": 565,
    "start_time": "2021-11-27T06:55:37.916Z"
   },
   {
    "duration": 22,
    "start_time": "2021-11-27T06:55:48.768Z"
   },
   {
    "duration": 91,
    "start_time": "2021-11-27T07:08:33.881Z"
   },
   {
    "duration": 1116,
    "start_time": "2021-11-27T07:09:19.602Z"
   },
   {
    "duration": 83,
    "start_time": "2021-11-27T07:10:06.282Z"
   },
   {
    "duration": 557,
    "start_time": "2021-11-27T07:10:13.221Z"
   },
   {
    "duration": 551,
    "start_time": "2021-11-27T07:10:58.522Z"
   },
   {
    "duration": 541,
    "start_time": "2021-11-27T07:11:21.042Z"
   },
   {
    "duration": 548,
    "start_time": "2021-11-27T07:11:26.012Z"
   },
   {
    "duration": 1053,
    "start_time": "2021-11-27T07:11:41.511Z"
   },
   {
    "duration": 715,
    "start_time": "2021-11-27T07:12:41.353Z"
   },
   {
    "duration": 684,
    "start_time": "2021-11-27T07:13:35.153Z"
   },
   {
    "duration": 720,
    "start_time": "2021-11-27T07:14:29.392Z"
   },
   {
    "duration": 467,
    "start_time": "2021-11-27T07:14:49.343Z"
   },
   {
    "duration": 4,
    "start_time": "2021-11-27T07:23:25.726Z"
   },
   {
    "duration": 96,
    "start_time": "2021-11-27T07:24:40.547Z"
   },
   {
    "duration": 787,
    "start_time": "2021-11-27T07:24:47.817Z"
   },
   {
    "duration": 5,
    "start_time": "2021-11-27T07:24:58.466Z"
   },
   {
    "duration": 706,
    "start_time": "2021-11-27T07:25:03.227Z"
   },
   {
    "duration": 4,
    "start_time": "2021-11-27T07:26:21.208Z"
   },
   {
    "duration": 695,
    "start_time": "2021-11-27T07:26:33.917Z"
   },
   {
    "duration": 5,
    "start_time": "2021-11-27T07:26:57.107Z"
   },
   {
    "duration": 735,
    "start_time": "2021-11-27T07:26:59.387Z"
   },
   {
    "duration": 686,
    "start_time": "2021-11-27T07:27:06.088Z"
   },
   {
    "duration": 676,
    "start_time": "2021-11-27T07:32:53.930Z"
   },
   {
    "duration": 101,
    "start_time": "2021-11-27T07:38:31.672Z"
   },
   {
    "duration": 14,
    "start_time": "2021-11-27T08:12:17.832Z"
   },
   {
    "duration": 263,
    "start_time": "2021-11-27T08:12:34.116Z"
   },
   {
    "duration": 10,
    "start_time": "2021-11-27T08:12:48.955Z"
   },
   {
    "duration": 6,
    "start_time": "2021-11-27T08:15:47.797Z"
   },
   {
    "duration": 20,
    "start_time": "2021-11-27T08:16:15.097Z"
   },
   {
    "duration": 16,
    "start_time": "2021-11-27T08:16:24.229Z"
   },
   {
    "duration": 247,
    "start_time": "2021-11-27T08:17:11.547Z"
   },
   {
    "duration": 256,
    "start_time": "2021-11-27T08:17:25.327Z"
   },
   {
    "duration": 262,
    "start_time": "2021-11-27T08:18:02.037Z"
   },
   {
    "duration": 417,
    "start_time": "2021-11-27T08:19:22.109Z"
   },
   {
    "duration": 642,
    "start_time": "2021-11-27T08:19:50.508Z"
   },
   {
    "duration": 582,
    "start_time": "2021-11-27T08:20:20.550Z"
   },
   {
    "duration": 244,
    "start_time": "2021-11-27T08:22:13.551Z"
   },
   {
    "duration": 15,
    "start_time": "2021-11-27T08:22:26.703Z"
   },
   {
    "duration": 699,
    "start_time": "2021-11-27T08:22:38.379Z"
   },
   {
    "duration": 570,
    "start_time": "2021-11-27T08:22:55.262Z"
   },
   {
    "duration": 1526,
    "start_time": "2021-11-27T08:56:14.705Z"
   },
   {
    "duration": 880,
    "start_time": "2021-11-27T08:56:39.381Z"
   },
   {
    "duration": 9,
    "start_time": "2021-11-27T10:37:12.922Z"
   },
   {
    "duration": 9,
    "start_time": "2021-11-27T10:37:18.342Z"
   },
   {
    "duration": 8,
    "start_time": "2021-11-27T10:37:26.181Z"
   },
   {
    "duration": 267,
    "start_time": "2021-11-27T10:37:54.761Z"
   },
   {
    "duration": 5,
    "start_time": "2021-11-27T10:37:59.252Z"
   },
   {
    "duration": 6633,
    "start_time": "2021-11-27T10:38:19.183Z"
   },
   {
    "duration": 7,
    "start_time": "2021-11-27T10:38:31.463Z"
   },
   {
    "duration": 10,
    "start_time": "2021-11-27T10:39:48.743Z"
   },
   {
    "duration": 303,
    "start_time": "2021-11-27T10:43:48.194Z"
   },
   {
    "duration": 731,
    "start_time": "2021-11-27T10:43:58.654Z"
   },
   {
    "duration": 26,
    "start_time": "2021-11-27T10:45:18.706Z"
   },
   {
    "duration": 12,
    "start_time": "2021-11-27T10:45:23.585Z"
   },
   {
    "duration": 12,
    "start_time": "2021-11-27T10:46:10.446Z"
   },
   {
    "duration": 5,
    "start_time": "2021-11-27T10:46:49.578Z"
   },
   {
    "duration": 295,
    "start_time": "2021-11-27T10:46:56.066Z"
   },
   {
    "duration": 25,
    "start_time": "2021-11-27T10:47:06.105Z"
   },
   {
    "duration": 7,
    "start_time": "2021-11-27T10:47:08.205Z"
   },
   {
    "duration": 281,
    "start_time": "2021-11-27T10:47:20.006Z"
   },
   {
    "duration": 32,
    "start_time": "2021-11-27T10:47:27.866Z"
   },
   {
    "duration": 1033,
    "start_time": "2021-11-27T10:47:28.882Z"
   },
   {
    "duration": 15,
    "start_time": "2021-11-27T10:47:41.676Z"
   },
   {
    "duration": 13,
    "start_time": "2021-11-27T10:47:57.676Z"
   },
   {
    "duration": 278,
    "start_time": "2021-11-27T10:48:14.297Z"
   },
   {
    "duration": 26,
    "start_time": "2021-11-27T10:48:32.566Z"
   },
   {
    "duration": 5,
    "start_time": "2021-11-27T10:48:35.168Z"
   },
   {
    "duration": 250,
    "start_time": "2021-11-27T10:48:41.647Z"
   },
   {
    "duration": 25,
    "start_time": "2021-11-27T10:48:48.330Z"
   },
   {
    "duration": 14,
    "start_time": "2021-11-27T10:48:50.236Z"
   },
   {
    "duration": 6,
    "start_time": "2021-11-27T10:49:19.627Z"
   },
   {
    "duration": 11,
    "start_time": "2021-11-27T10:49:31.496Z"
   },
   {
    "duration": 24,
    "start_time": "2021-11-27T10:50:19.807Z"
   },
   {
    "duration": 14,
    "start_time": "2021-11-27T10:50:22.098Z"
   },
   {
    "duration": 281,
    "start_time": "2021-11-27T10:50:27.677Z"
   },
   {
    "duration": 28,
    "start_time": "2021-11-27T10:50:30.129Z"
   },
   {
    "duration": 13,
    "start_time": "2021-11-27T10:50:33.110Z"
   },
   {
    "duration": 432,
    "start_time": "2021-11-27T10:51:20.319Z"
   },
   {
    "duration": 429,
    "start_time": "2021-11-27T10:53:18.938Z"
   },
   {
    "duration": 245,
    "start_time": "2021-11-27T10:53:42.378Z"
   },
   {
    "duration": 26,
    "start_time": "2021-11-27T10:53:45.927Z"
   },
   {
    "duration": 14,
    "start_time": "2021-11-27T10:53:47.968Z"
   },
   {
    "duration": 628,
    "start_time": "2021-11-27T10:57:48.381Z"
   },
   {
    "duration": 457,
    "start_time": "2021-11-27T10:58:47.301Z"
   },
   {
    "duration": 433,
    "start_time": "2021-11-27T10:58:58.920Z"
   },
   {
    "duration": 793,
    "start_time": "2021-11-27T10:59:05.230Z"
   },
   {
    "duration": 422,
    "start_time": "2021-11-27T10:59:26.670Z"
   },
   {
    "duration": 898,
    "start_time": "2021-11-27T10:59:40.006Z"
   },
   {
    "duration": 158,
    "start_time": "2021-11-27T10:59:40.907Z"
   },
   {
    "duration": 25,
    "start_time": "2021-11-27T10:59:41.067Z"
   },
   {
    "duration": 7,
    "start_time": "2021-11-27T10:59:41.095Z"
   },
   {
    "duration": 24,
    "start_time": "2021-11-27T10:59:41.105Z"
   },
   {
    "duration": 15,
    "start_time": "2021-11-27T10:59:41.132Z"
   },
   {
    "duration": 10,
    "start_time": "2021-11-27T10:59:41.150Z"
   },
   {
    "duration": 14,
    "start_time": "2021-11-27T10:59:41.163Z"
   },
   {
    "duration": 56,
    "start_time": "2021-11-27T10:59:41.179Z"
   },
   {
    "duration": 12,
    "start_time": "2021-11-27T10:59:41.237Z"
   },
   {
    "duration": 42,
    "start_time": "2021-11-27T10:59:41.251Z"
   },
   {
    "duration": 38,
    "start_time": "2021-11-27T10:59:41.296Z"
   },
   {
    "duration": 9,
    "start_time": "2021-11-27T10:59:41.336Z"
   },
   {
    "duration": 9,
    "start_time": "2021-11-27T10:59:41.347Z"
   },
   {
    "duration": 8,
    "start_time": "2021-11-27T10:59:41.358Z"
   },
   {
    "duration": 62,
    "start_time": "2021-11-27T10:59:41.369Z"
   },
   {
    "duration": 47,
    "start_time": "2021-11-27T10:59:41.433Z"
   },
   {
    "duration": 10,
    "start_time": "2021-11-27T10:59:41.482Z"
   },
   {
    "duration": 15,
    "start_time": "2021-11-27T10:59:41.494Z"
   },
   {
    "duration": 1064,
    "start_time": "2021-11-27T10:59:41.529Z"
   },
   {
    "duration": 11,
    "start_time": "2021-11-27T10:59:42.596Z"
   },
   {
    "duration": 1287,
    "start_time": "2021-11-27T10:59:42.609Z"
   },
   {
    "duration": 44,
    "start_time": "2021-11-27T10:59:43.901Z"
   },
   {
    "duration": 634,
    "start_time": "2021-11-27T10:59:43.948Z"
   },
   {
    "duration": 410,
    "start_time": "2021-11-27T10:59:44.584Z"
   },
   {
    "duration": 42,
    "start_time": "2021-11-27T10:59:44.997Z"
   },
   {
    "duration": 29,
    "start_time": "2021-11-27T10:59:45.041Z"
   },
   {
    "duration": 28,
    "start_time": "2021-11-27T10:59:45.073Z"
   },
   {
    "duration": 34,
    "start_time": "2021-11-27T10:59:45.103Z"
   },
   {
    "duration": 449,
    "start_time": "2021-11-27T10:59:45.140Z"
   },
   {
    "duration": 44,
    "start_time": "2021-11-27T10:59:45.592Z"
   },
   {
    "duration": 7614,
    "start_time": "2021-11-27T10:59:45.639Z"
   },
   {
    "duration": 1095,
    "start_time": "2021-11-27T10:59:52.160Z"
   },
   {
    "duration": 1083,
    "start_time": "2021-11-27T10:59:52.174Z"
   },
   {
    "duration": 1074,
    "start_time": "2021-11-27T10:59:52.184Z"
   },
   {
    "duration": 1072,
    "start_time": "2021-11-27T10:59:52.187Z"
   },
   {
    "duration": 1069,
    "start_time": "2021-11-27T10:59:52.192Z"
   },
   {
    "duration": 1067,
    "start_time": "2021-11-27T10:59:52.195Z"
   },
   {
    "duration": 1065,
    "start_time": "2021-11-27T10:59:52.198Z"
   },
   {
    "duration": 1064,
    "start_time": "2021-11-27T10:59:52.201Z"
   },
   {
    "duration": 1061,
    "start_time": "2021-11-27T10:59:52.205Z"
   },
   {
    "duration": 1059,
    "start_time": "2021-11-27T10:59:52.208Z"
   },
   {
    "duration": 1058,
    "start_time": "2021-11-27T10:59:52.211Z"
   },
   {
    "duration": 1056,
    "start_time": "2021-11-27T10:59:52.214Z"
   },
   {
    "duration": 1054,
    "start_time": "2021-11-27T10:59:52.218Z"
   },
   {
    "duration": 269,
    "start_time": "2021-11-27T11:00:36.293Z"
   },
   {
    "duration": 1124,
    "start_time": "2021-11-27T11:00:35.443Z"
   },
   {
    "duration": 1122,
    "start_time": "2021-11-27T11:00:35.447Z"
   },
   {
    "duration": 1106,
    "start_time": "2021-11-27T11:00:35.465Z"
   },
   {
    "duration": 1102,
    "start_time": "2021-11-27T11:00:35.471Z"
   },
   {
    "duration": 1094,
    "start_time": "2021-11-27T11:00:35.481Z"
   },
   {
    "duration": 1093,
    "start_time": "2021-11-27T11:00:35.485Z"
   },
   {
    "duration": 1083,
    "start_time": "2021-11-27T11:00:35.497Z"
   },
   {
    "duration": 1081,
    "start_time": "2021-11-27T11:00:35.501Z"
   },
   {
    "duration": 1079,
    "start_time": "2021-11-27T11:00:35.505Z"
   },
   {
    "duration": 1074,
    "start_time": "2021-11-27T11:00:35.511Z"
   },
   {
    "duration": 1072,
    "start_time": "2021-11-27T11:00:35.515Z"
   },
   {
    "duration": 1071,
    "start_time": "2021-11-27T11:00:35.519Z"
   },
   {
    "duration": 1069,
    "start_time": "2021-11-27T11:00:35.523Z"
   },
   {
    "duration": 7,
    "start_time": "2021-11-27T11:01:27.360Z"
   },
   {
    "duration": 19,
    "start_time": "2021-11-27T11:01:27.369Z"
   },
   {
    "duration": 486,
    "start_time": "2021-11-27T11:01:27.391Z"
   },
   {
    "duration": 6,
    "start_time": "2021-11-27T11:01:27.881Z"
   },
   {
    "duration": 890,
    "start_time": "2021-11-27T11:01:27.889Z"
   },
   {
    "duration": 15,
    "start_time": "2021-11-27T11:01:28.782Z"
   },
   {
    "duration": 855,
    "start_time": "2021-11-27T11:01:28.800Z"
   },
   {
    "duration": 8,
    "start_time": "2021-11-27T11:01:29.659Z"
   },
   {
    "duration": 21,
    "start_time": "2021-11-27T11:01:29.670Z"
   },
   {
    "duration": 32,
    "start_time": "2021-11-27T11:01:29.694Z"
   },
   {
    "duration": 21,
    "start_time": "2021-11-27T11:01:29.728Z"
   },
   {
    "duration": 27,
    "start_time": "2021-11-27T11:01:29.751Z"
   },
   {
    "duration": 13,
    "start_time": "2021-11-27T11:01:29.780Z"
   },
   {
    "duration": 441,
    "start_time": "2021-11-27T11:01:29.796Z"
   },
   {
    "duration": 748,
    "start_time": "2021-11-27T11:08:28.726Z"
   },
   {
    "duration": 259,
    "start_time": "2021-11-27T11:10:16.677Z"
   },
   {
    "duration": 800,
    "start_time": "2021-11-27T11:10:29.778Z"
   },
   {
    "duration": 839,
    "start_time": "2021-11-27T11:10:45.545Z"
   },
   {
    "duration": 727,
    "start_time": "2021-11-27T11:10:55.858Z"
   },
   {
    "duration": 744,
    "start_time": "2021-11-27T11:11:50.628Z"
   },
   {
    "duration": 731,
    "start_time": "2021-11-27T11:12:08.767Z"
   },
   {
    "duration": 752,
    "start_time": "2021-11-27T11:12:20.498Z"
   },
   {
    "duration": 484,
    "start_time": "2021-11-27T11:25:39.204Z"
   },
   {
    "duration": 482,
    "start_time": "2021-11-27T11:26:11.764Z"
   },
   {
    "duration": 598,
    "start_time": "2021-11-27T11:27:55.214Z"
   },
   {
    "duration": 8245,
    "start_time": "2021-11-27T12:02:55.597Z"
   },
   {
    "duration": 6,
    "start_time": "2021-11-27T12:03:16.473Z"
   },
   {
    "duration": 689,
    "start_time": "2021-11-27T12:03:25.427Z"
   },
   {
    "duration": 836,
    "start_time": "2021-11-27T12:08:06.190Z"
   },
   {
    "duration": 897,
    "start_time": "2021-11-27T12:08:15.719Z"
   },
   {
    "duration": 967,
    "start_time": "2021-11-27T12:08:22.689Z"
   },
   {
    "duration": 1015,
    "start_time": "2021-11-27T12:08:29.459Z"
   },
   {
    "duration": 983,
    "start_time": "2021-11-27T12:08:38.400Z"
   },
   {
    "duration": 1368,
    "start_time": "2021-11-27T12:09:02.900Z"
   },
   {
    "duration": 670,
    "start_time": "2021-11-27T12:09:14.790Z"
   },
   {
    "duration": 692,
    "start_time": "2021-11-27T12:09:30.070Z"
   },
   {
    "duration": 808,
    "start_time": "2021-11-27T12:09:38.769Z"
   },
   {
    "duration": 688,
    "start_time": "2021-11-27T12:11:09.061Z"
   },
   {
    "duration": 6,
    "start_time": "2021-11-27T12:11:16.235Z"
   },
   {
    "duration": 986,
    "start_time": "2021-11-27T12:11:18.290Z"
   },
   {
    "duration": 5,
    "start_time": "2021-11-27T12:11:50.280Z"
   },
   {
    "duration": 959,
    "start_time": "2021-11-27T12:11:52.761Z"
   },
   {
    "duration": 5,
    "start_time": "2021-11-27T12:13:08.766Z"
   },
   {
    "duration": 143,
    "start_time": "2021-11-27T12:13:08.774Z"
   },
   {
    "duration": 21,
    "start_time": "2021-11-27T12:13:08.920Z"
   },
   {
    "duration": 5,
    "start_time": "2021-11-27T12:13:08.943Z"
   },
   {
    "duration": 10,
    "start_time": "2021-11-27T12:13:08.950Z"
   },
   {
    "duration": 15,
    "start_time": "2021-11-27T12:13:08.962Z"
   },
   {
    "duration": 10,
    "start_time": "2021-11-27T12:13:08.980Z"
   },
   {
    "duration": 42,
    "start_time": "2021-11-27T12:13:08.994Z"
   },
   {
    "duration": 29,
    "start_time": "2021-11-27T12:13:09.039Z"
   },
   {
    "duration": 12,
    "start_time": "2021-11-27T12:13:09.070Z"
   },
   {
    "duration": 80,
    "start_time": "2021-11-27T12:13:09.085Z"
   },
   {
    "duration": 9,
    "start_time": "2021-11-27T12:13:09.167Z"
   },
   {
    "duration": 13,
    "start_time": "2021-11-27T12:13:09.178Z"
   },
   {
    "duration": 35,
    "start_time": "2021-11-27T12:13:09.194Z"
   },
   {
    "duration": 9,
    "start_time": "2021-11-27T12:13:09.232Z"
   },
   {
    "duration": 23,
    "start_time": "2021-11-27T12:13:09.243Z"
   },
   {
    "duration": 77,
    "start_time": "2021-11-27T12:13:09.269Z"
   },
   {
    "duration": 6,
    "start_time": "2021-11-27T12:13:09.349Z"
   },
   {
    "duration": 15,
    "start_time": "2021-11-27T12:13:09.357Z"
   },
   {
    "duration": 942,
    "start_time": "2021-11-27T12:13:09.374Z"
   },
   {
    "duration": 9,
    "start_time": "2021-11-27T12:13:10.318Z"
   },
   {
    "duration": 1192,
    "start_time": "2021-11-27T12:13:10.329Z"
   },
   {
    "duration": 33,
    "start_time": "2021-11-27T12:13:11.530Z"
   },
   {
    "duration": 741,
    "start_time": "2021-11-27T12:13:11.567Z"
   },
   {
    "duration": 423,
    "start_time": "2021-11-27T12:13:12.311Z"
   },
   {
    "duration": 29,
    "start_time": "2021-11-27T12:13:12.738Z"
   },
   {
    "duration": 60,
    "start_time": "2021-11-27T12:13:12.770Z"
   },
   {
    "duration": 29,
    "start_time": "2021-11-27T12:13:12.833Z"
   },
   {
    "duration": 30,
    "start_time": "2021-11-27T12:13:12.864Z"
   },
   {
    "duration": 444,
    "start_time": "2021-11-27T12:13:12.897Z"
   },
   {
    "duration": 28,
    "start_time": "2021-11-27T12:13:13.344Z"
   },
   {
    "duration": 8,
    "start_time": "2021-11-27T12:13:13.374Z"
   },
   {
    "duration": 46,
    "start_time": "2021-11-27T12:13:13.384Z"
   },
   {
    "duration": 499,
    "start_time": "2021-11-27T12:13:13.433Z"
   },
   {
    "duration": 6,
    "start_time": "2021-11-27T12:13:13.935Z"
   },
   {
    "duration": 757,
    "start_time": "2021-11-27T12:13:13.944Z"
   },
   {
    "duration": 1289,
    "start_time": "2021-11-27T12:13:13.414Z"
   },
   {
    "duration": 1283,
    "start_time": "2021-11-27T12:13:13.422Z"
   },
   {
    "duration": 1280,
    "start_time": "2021-11-27T12:13:13.426Z"
   },
   {
    "duration": 1277,
    "start_time": "2021-11-27T12:13:13.430Z"
   },
   {
    "duration": 1275,
    "start_time": "2021-11-27T12:13:13.434Z"
   },
   {
    "duration": 1272,
    "start_time": "2021-11-27T12:13:13.438Z"
   },
   {
    "duration": 1263,
    "start_time": "2021-11-27T12:13:13.448Z"
   },
   {
    "duration": 1275,
    "start_time": "2021-11-27T12:13:13.453Z"
   },
   {
    "duration": 1273,
    "start_time": "2021-11-27T12:13:13.457Z"
   },
   {
    "duration": 1270,
    "start_time": "2021-11-27T12:13:13.461Z"
   },
   {
    "duration": 1267,
    "start_time": "2021-11-27T12:13:13.465Z"
   },
   {
    "duration": 1264,
    "start_time": "2021-11-27T12:13:13.470Z"
   },
   {
    "duration": 704,
    "start_time": "2021-11-27T12:13:29.301Z"
   },
   {
    "duration": 30,
    "start_time": "2021-11-27T12:13:30.009Z"
   },
   {
    "duration": 905,
    "start_time": "2021-11-27T12:13:30.043Z"
   },
   {
    "duration": 8,
    "start_time": "2021-11-27T12:13:30.951Z"
   },
   {
    "duration": 42,
    "start_time": "2021-11-27T12:13:30.961Z"
   },
   {
    "duration": 71,
    "start_time": "2021-11-27T12:13:31.006Z"
   },
   {
    "duration": 61,
    "start_time": "2021-11-27T12:13:31.080Z"
   },
   {
    "duration": 67,
    "start_time": "2021-11-27T12:13:31.146Z"
   },
   {
    "duration": 31,
    "start_time": "2021-11-27T12:13:31.216Z"
   },
   {
    "duration": 594,
    "start_time": "2021-11-27T12:13:31.250Z"
   },
   {
    "duration": 783,
    "start_time": "2021-11-27T12:13:31.846Z"
   },
   {
    "duration": 6,
    "start_time": "2021-11-27T12:13:32.631Z"
   },
   {
    "duration": 721,
    "start_time": "2021-11-27T12:13:32.640Z"
   },
   {
    "duration": 694,
    "start_time": "2021-11-27T12:14:00.112Z"
   },
   {
    "duration": 690,
    "start_time": "2021-11-27T12:14:14.663Z"
   },
   {
    "duration": 785,
    "start_time": "2021-11-27T12:14:55.892Z"
   },
   {
    "duration": 2162,
    "start_time": "2021-11-27T12:15:58.283Z"
   },
   {
    "duration": 2204,
    "start_time": "2021-11-27T12:16:45.574Z"
   },
   {
    "duration": 2096,
    "start_time": "2021-11-27T12:41:36.844Z"
   },
   {
    "duration": 21,
    "start_time": "2021-11-27T13:28:22.876Z"
   },
   {
    "duration": 22,
    "start_time": "2021-11-27T13:28:48.462Z"
   },
   {
    "duration": 282,
    "start_time": "2021-11-27T13:30:24.265Z"
   },
   {
    "duration": 16,
    "start_time": "2021-11-27T13:30:32.023Z"
   },
   {
    "duration": 276,
    "start_time": "2021-11-27T13:30:35.721Z"
   },
   {
    "duration": 281,
    "start_time": "2021-11-27T13:31:01.611Z"
   },
   {
    "duration": 315,
    "start_time": "2021-11-27T13:32:02.541Z"
   },
   {
    "duration": 13,
    "start_time": "2021-11-27T13:32:22.682Z"
   },
   {
    "duration": 8,
    "start_time": "2021-11-27T13:32:52.103Z"
   },
   {
    "duration": 8,
    "start_time": "2021-11-27T13:33:09.644Z"
   },
   {
    "duration": 8,
    "start_time": "2021-11-27T13:33:43.916Z"
   },
   {
    "duration": 295,
    "start_time": "2021-11-27T13:33:59.563Z"
   },
   {
    "duration": 400,
    "start_time": "2021-11-27T13:34:08.773Z"
   },
   {
    "duration": 564,
    "start_time": "2021-11-27T13:35:24.403Z"
   },
   {
    "duration": 250,
    "start_time": "2021-11-27T13:36:38.074Z"
   },
   {
    "duration": 351,
    "start_time": "2021-11-27T13:36:59.074Z"
   },
   {
    "duration": 708,
    "start_time": "2021-11-27T13:37:16.674Z"
   },
   {
    "duration": 796,
    "start_time": "2021-11-27T13:37:25.385Z"
   },
   {
    "duration": 926,
    "start_time": "2021-11-27T13:38:40.936Z"
   },
   {
    "duration": 601,
    "start_time": "2021-11-27T13:54:45.713Z"
   },
   {
    "duration": 353,
    "start_time": "2021-11-27T13:54:52.751Z"
   },
   {
    "duration": 276,
    "start_time": "2021-11-27T14:02:10.574Z"
   },
   {
    "duration": 13,
    "start_time": "2021-11-27T14:02:21.663Z"
   },
   {
    "duration": 378,
    "start_time": "2021-11-27T14:02:33.344Z"
   },
   {
    "duration": 80,
    "start_time": "2021-11-27T14:07:07.755Z"
   },
   {
    "duration": 266,
    "start_time": "2021-11-27T14:07:52.886Z"
   },
   {
    "duration": 282,
    "start_time": "2021-11-27T14:08:56.817Z"
   },
   {
    "duration": 272,
    "start_time": "2021-11-27T14:09:22.247Z"
   },
   {
    "duration": 5,
    "start_time": "2021-11-27T14:09:31.472Z"
   },
   {
    "duration": 173,
    "start_time": "2021-11-27T14:09:31.479Z"
   },
   {
    "duration": 31,
    "start_time": "2021-11-27T14:09:31.654Z"
   },
   {
    "duration": 12,
    "start_time": "2021-11-27T14:09:31.689Z"
   },
   {
    "duration": 267,
    "start_time": "2021-11-27T14:09:31.704Z"
   },
   {
    "duration": 1577,
    "start_time": "2021-11-27T14:09:30.400Z"
   },
   {
    "duration": 1570,
    "start_time": "2021-11-27T14:09:30.408Z"
   },
   {
    "duration": 1567,
    "start_time": "2021-11-27T14:09:30.412Z"
   },
   {
    "duration": 1564,
    "start_time": "2021-11-27T14:09:30.417Z"
   },
   {
    "duration": 1560,
    "start_time": "2021-11-27T14:09:30.423Z"
   },
   {
    "duration": 1555,
    "start_time": "2021-11-27T14:09:30.429Z"
   },
   {
    "duration": 1552,
    "start_time": "2021-11-27T14:09:30.433Z"
   },
   {
    "duration": 1547,
    "start_time": "2021-11-27T14:09:30.439Z"
   },
   {
    "duration": 1546,
    "start_time": "2021-11-27T14:09:30.442Z"
   },
   {
    "duration": 1543,
    "start_time": "2021-11-27T14:09:30.446Z"
   },
   {
    "duration": 1541,
    "start_time": "2021-11-27T14:09:30.449Z"
   },
   {
    "duration": 1538,
    "start_time": "2021-11-27T14:09:30.454Z"
   },
   {
    "duration": 1535,
    "start_time": "2021-11-27T14:09:30.458Z"
   },
   {
    "duration": 1533,
    "start_time": "2021-11-27T14:09:30.461Z"
   },
   {
    "duration": 1531,
    "start_time": "2021-11-27T14:09:30.465Z"
   },
   {
    "duration": 1529,
    "start_time": "2021-11-27T14:09:30.468Z"
   },
   {
    "duration": 1527,
    "start_time": "2021-11-27T14:09:30.471Z"
   },
   {
    "duration": 1524,
    "start_time": "2021-11-27T14:09:30.475Z"
   },
   {
    "duration": 1514,
    "start_time": "2021-11-27T14:09:30.487Z"
   },
   {
    "duration": 1510,
    "start_time": "2021-11-27T14:09:30.492Z"
   },
   {
    "duration": 1509,
    "start_time": "2021-11-27T14:09:30.495Z"
   },
   {
    "duration": 1505,
    "start_time": "2021-11-27T14:09:30.500Z"
   },
   {
    "duration": 1502,
    "start_time": "2021-11-27T14:09:30.505Z"
   },
   {
    "duration": 1499,
    "start_time": "2021-11-27T14:09:30.509Z"
   },
   {
    "duration": 1496,
    "start_time": "2021-11-27T14:09:30.513Z"
   },
   {
    "duration": 1495,
    "start_time": "2021-11-27T14:09:30.517Z"
   },
   {
    "duration": 1508,
    "start_time": "2021-11-27T14:09:30.521Z"
   },
   {
    "duration": 1505,
    "start_time": "2021-11-27T14:09:30.525Z"
   },
   {
    "duration": 1502,
    "start_time": "2021-11-27T14:09:30.529Z"
   },
   {
    "duration": 1500,
    "start_time": "2021-11-27T14:09:30.533Z"
   },
   {
    "duration": 1498,
    "start_time": "2021-11-27T14:09:30.536Z"
   },
   {
    "duration": 1495,
    "start_time": "2021-11-27T14:09:30.541Z"
   },
   {
    "duration": 1491,
    "start_time": "2021-11-27T14:09:30.546Z"
   },
   {
    "duration": 1489,
    "start_time": "2021-11-27T14:09:30.550Z"
   },
   {
    "duration": 1489,
    "start_time": "2021-11-27T14:09:30.555Z"
   },
   {
    "duration": 1467,
    "start_time": "2021-11-27T14:09:30.579Z"
   },
   {
    "duration": 1464,
    "start_time": "2021-11-27T14:09:30.584Z"
   },
   {
    "duration": 1459,
    "start_time": "2021-11-27T14:09:30.590Z"
   },
   {
    "duration": 1456,
    "start_time": "2021-11-27T14:09:30.595Z"
   },
   {
    "duration": 1453,
    "start_time": "2021-11-27T14:09:30.599Z"
   },
   {
    "duration": 1450,
    "start_time": "2021-11-27T14:09:30.604Z"
   },
   {
    "duration": 1441,
    "start_time": "2021-11-27T14:09:30.614Z"
   },
   {
    "duration": 1439,
    "start_time": "2021-11-27T14:09:30.617Z"
   },
   {
    "duration": 1429,
    "start_time": "2021-11-27T14:09:30.628Z"
   },
   {
    "duration": 1428,
    "start_time": "2021-11-27T14:09:30.631Z"
   },
   {
    "duration": 1421,
    "start_time": "2021-11-27T14:09:30.639Z"
   },
   {
    "duration": 1419,
    "start_time": "2021-11-27T14:09:30.642Z"
   },
   {
    "duration": 1414,
    "start_time": "2021-11-27T14:09:30.648Z"
   },
   {
    "duration": 1412,
    "start_time": "2021-11-27T14:09:30.652Z"
   },
   {
    "duration": 1410,
    "start_time": "2021-11-27T14:09:30.655Z"
   },
   {
    "duration": 13,
    "start_time": "2021-11-27T14:10:17.056Z"
   },
   {
    "duration": 19,
    "start_time": "2021-11-27T14:10:24.557Z"
   },
   {
    "duration": 463,
    "start_time": "2021-11-27T14:10:39.056Z"
   },
   {
    "duration": 872,
    "start_time": "2021-11-27T14:39:11.325Z"
   },
   {
    "duration": 188,
    "start_time": "2021-11-27T14:39:12.200Z"
   },
   {
    "duration": 27,
    "start_time": "2021-11-27T14:39:12.391Z"
   },
   {
    "duration": 5,
    "start_time": "2021-11-27T14:39:12.421Z"
   },
   {
    "duration": 18,
    "start_time": "2021-11-27T14:39:12.429Z"
   },
   {
    "duration": 15,
    "start_time": "2021-11-27T14:39:12.449Z"
   },
   {
    "duration": 10,
    "start_time": "2021-11-27T14:39:12.466Z"
   },
   {
    "duration": 8,
    "start_time": "2021-11-27T14:39:12.481Z"
   },
   {
    "duration": 65,
    "start_time": "2021-11-27T14:39:12.492Z"
   },
   {
    "duration": 11,
    "start_time": "2021-11-27T14:39:12.560Z"
   },
   {
    "duration": 75,
    "start_time": "2021-11-27T14:39:12.573Z"
   },
   {
    "duration": 8,
    "start_time": "2021-11-27T14:39:12.651Z"
   },
   {
    "duration": 16,
    "start_time": "2021-11-27T14:39:12.662Z"
   },
   {
    "duration": 9,
    "start_time": "2021-11-27T14:39:12.680Z"
   },
   {
    "duration": 43,
    "start_time": "2021-11-27T14:39:12.691Z"
   },
   {
    "duration": 23,
    "start_time": "2021-11-27T14:39:12.737Z"
   },
   {
    "duration": 46,
    "start_time": "2021-11-27T14:39:12.763Z"
   },
   {
    "duration": 28,
    "start_time": "2021-11-27T14:39:12.811Z"
   },
   {
    "duration": 13,
    "start_time": "2021-11-27T14:39:12.842Z"
   },
   {
    "duration": 1114,
    "start_time": "2021-11-27T14:39:12.857Z"
   },
   {
    "duration": 10,
    "start_time": "2021-11-27T14:39:13.973Z"
   },
   {
    "duration": 1150,
    "start_time": "2021-11-27T14:39:13.985Z"
   },
   {
    "duration": 35,
    "start_time": "2021-11-27T14:39:15.146Z"
   },
   {
    "duration": 670,
    "start_time": "2021-11-27T14:39:15.185Z"
   },
   {
    "duration": 443,
    "start_time": "2021-11-27T14:39:15.858Z"
   },
   {
    "duration": 50,
    "start_time": "2021-11-27T14:39:16.304Z"
   },
   {
    "duration": 31,
    "start_time": "2021-11-27T14:39:16.357Z"
   },
   {
    "duration": 56,
    "start_time": "2021-11-27T14:39:16.391Z"
   },
   {
    "duration": 11,
    "start_time": "2021-11-27T14:39:16.449Z"
   },
   {
    "duration": 575,
    "start_time": "2021-11-27T14:39:16.463Z"
   },
   {
    "duration": 41,
    "start_time": "2021-11-27T14:39:17.042Z"
   },
   {
    "duration": 8,
    "start_time": "2021-11-27T14:39:17.086Z"
   },
   {
    "duration": 47,
    "start_time": "2021-11-27T14:39:17.096Z"
   },
   {
    "duration": 522,
    "start_time": "2021-11-27T14:39:17.146Z"
   },
   {
    "duration": 5,
    "start_time": "2021-11-27T14:39:17.670Z"
   },
   {
    "duration": 812,
    "start_time": "2021-11-27T14:39:17.678Z"
   },
   {
    "duration": 38,
    "start_time": "2021-11-27T14:39:18.493Z"
   },
   {
    "duration": 855,
    "start_time": "2021-11-27T14:39:18.534Z"
   },
   {
    "duration": 9,
    "start_time": "2021-11-27T14:39:19.391Z"
   },
   {
    "duration": 42,
    "start_time": "2021-11-27T14:39:19.402Z"
   },
   {
    "duration": 12,
    "start_time": "2021-11-27T14:39:19.447Z"
   },
   {
    "duration": 19,
    "start_time": "2021-11-27T14:39:19.461Z"
   },
   {
    "duration": 30,
    "start_time": "2021-11-27T14:39:19.483Z"
   },
   {
    "duration": 34,
    "start_time": "2021-11-27T14:39:19.515Z"
   },
   {
    "duration": 477,
    "start_time": "2021-11-27T14:39:19.552Z"
   },
   {
    "duration": 830,
    "start_time": "2021-11-27T14:39:20.032Z"
   },
   {
    "duration": 14,
    "start_time": "2021-11-27T14:39:20.865Z"
   },
   {
    "duration": 9,
    "start_time": "2021-11-27T14:39:20.881Z"
   },
   {
    "duration": 39,
    "start_time": "2021-11-27T14:39:20.892Z"
   },
   {
    "duration": 16,
    "start_time": "2021-11-27T14:39:20.933Z"
   },
   {
    "duration": 396,
    "start_time": "2021-11-27T14:39:20.952Z"
   },
   {
    "duration": 12,
    "start_time": "2021-11-27T14:39:21.351Z"
   },
   {
    "duration": 385,
    "start_time": "2021-11-27T14:39:21.366Z"
   },
   {
    "duration": 443,
    "start_time": "2021-11-27T14:39:21.754Z"
   },
   {
    "duration": 7,
    "start_time": "2021-11-27T14:44:48.236Z"
   },
   {
    "duration": 358,
    "start_time": "2021-11-27T14:45:35.947Z"
   },
   {
    "duration": 276,
    "start_time": "2021-11-27T14:46:18.517Z"
   },
   {
    "duration": 264,
    "start_time": "2021-11-27T14:46:26.706Z"
   },
   {
    "duration": 471,
    "start_time": "2021-11-27T14:46:49.723Z"
   },
   {
    "duration": 161,
    "start_time": "2021-11-27T14:46:50.197Z"
   },
   {
    "duration": 20,
    "start_time": "2021-11-27T14:46:50.361Z"
   },
   {
    "duration": 10,
    "start_time": "2021-11-27T14:46:50.384Z"
   },
   {
    "duration": 24,
    "start_time": "2021-11-27T14:46:50.396Z"
   },
   {
    "duration": 30,
    "start_time": "2021-11-27T14:46:50.422Z"
   },
   {
    "duration": 23,
    "start_time": "2021-11-27T14:46:50.454Z"
   },
   {
    "duration": 31,
    "start_time": "2021-11-27T14:46:50.480Z"
   },
   {
    "duration": 34,
    "start_time": "2021-11-27T14:46:50.515Z"
   },
   {
    "duration": 15,
    "start_time": "2021-11-27T14:46:50.552Z"
   },
   {
    "duration": 67,
    "start_time": "2021-11-27T14:46:50.570Z"
   },
   {
    "duration": 10,
    "start_time": "2021-11-27T14:46:50.640Z"
   },
   {
    "duration": 27,
    "start_time": "2021-11-27T14:46:50.653Z"
   },
   {
    "duration": 12,
    "start_time": "2021-11-27T14:46:50.683Z"
   },
   {
    "duration": 36,
    "start_time": "2021-11-27T14:46:50.698Z"
   },
   {
    "duration": 31,
    "start_time": "2021-11-27T14:46:50.738Z"
   },
   {
    "duration": 88,
    "start_time": "2021-11-27T14:46:50.772Z"
   },
   {
    "duration": 7,
    "start_time": "2021-11-27T14:46:50.862Z"
   },
   {
    "duration": 31,
    "start_time": "2021-11-27T14:46:50.871Z"
   },
   {
    "duration": 1061,
    "start_time": "2021-11-27T14:46:50.904Z"
   },
   {
    "duration": 9,
    "start_time": "2021-11-27T14:46:51.968Z"
   },
   {
    "duration": 1644,
    "start_time": "2021-11-27T14:46:51.980Z"
   },
   {
    "duration": 36,
    "start_time": "2021-11-27T14:46:53.634Z"
   },
   {
    "duration": 818,
    "start_time": "2021-11-27T14:46:53.674Z"
   },
   {
    "duration": 441,
    "start_time": "2021-11-27T14:46:54.494Z"
   },
   {
    "duration": 32,
    "start_time": "2021-11-27T14:46:54.939Z"
   },
   {
    "duration": 62,
    "start_time": "2021-11-27T14:46:54.973Z"
   },
   {
    "duration": 32,
    "start_time": "2021-11-27T14:46:55.042Z"
   },
   {
    "duration": 23,
    "start_time": "2021-11-27T14:46:55.077Z"
   },
   {
    "duration": 475,
    "start_time": "2021-11-27T14:46:55.103Z"
   },
   {
    "duration": 28,
    "start_time": "2021-11-27T14:46:55.581Z"
   },
   {
    "duration": 26,
    "start_time": "2021-11-27T14:46:55.611Z"
   },
   {
    "duration": 22,
    "start_time": "2021-11-27T14:46:55.641Z"
   },
   {
    "duration": 750,
    "start_time": "2021-11-27T14:46:55.665Z"
   },
   {
    "duration": 15,
    "start_time": "2021-11-27T14:46:56.418Z"
   },
   {
    "duration": 741,
    "start_time": "2021-11-27T14:46:56.436Z"
   },
   {
    "duration": 15,
    "start_time": "2021-11-27T14:46:57.179Z"
   },
   {
    "duration": 987,
    "start_time": "2021-11-27T14:46:57.197Z"
   },
   {
    "duration": 11,
    "start_time": "2021-11-27T14:46:58.187Z"
   },
   {
    "duration": 36,
    "start_time": "2021-11-27T14:46:58.201Z"
   },
   {
    "duration": 16,
    "start_time": "2021-11-27T14:46:58.241Z"
   },
   {
    "duration": 11,
    "start_time": "2021-11-27T14:46:58.259Z"
   },
   {
    "duration": 32,
    "start_time": "2021-11-27T14:46:58.272Z"
   },
   {
    "duration": 44,
    "start_time": "2021-11-27T14:46:58.307Z"
   },
   {
    "duration": 449,
    "start_time": "2021-11-27T14:46:58.353Z"
   },
   {
    "duration": 903,
    "start_time": "2021-11-27T14:46:58.804Z"
   },
   {
    "duration": 25,
    "start_time": "2021-11-27T14:46:59.709Z"
   },
   {
    "duration": 17,
    "start_time": "2021-11-27T14:46:59.736Z"
   },
   {
    "duration": 8,
    "start_time": "2021-11-27T14:46:59.755Z"
   },
   {
    "duration": 11,
    "start_time": "2021-11-27T14:46:59.765Z"
   },
   {
    "duration": 515,
    "start_time": "2021-11-27T14:46:59.779Z"
   },
   {
    "duration": 17,
    "start_time": "2021-11-27T14:47:00.297Z"
   },
   {
    "duration": 376,
    "start_time": "2021-11-27T14:47:00.330Z"
   },
   {
    "duration": 373,
    "start_time": "2021-11-27T14:47:00.709Z"
   },
   {
    "duration": 6,
    "start_time": "2021-11-27T14:47:01.084Z"
   },
   {
    "duration": 39,
    "start_time": "2021-11-27T14:47:01.092Z"
   },
   {
    "duration": 15,
    "start_time": "2021-11-27T14:54:29.170Z"
   },
   {
    "duration": 11,
    "start_time": "2021-11-27T15:00:13.492Z"
   },
   {
    "duration": 11,
    "start_time": "2021-11-27T15:00:24.991Z"
   },
   {
    "duration": 95,
    "start_time": "2021-11-27T15:01:39.623Z"
   },
   {
    "duration": 16,
    "start_time": "2021-11-27T15:01:43.872Z"
   },
   {
    "duration": 15,
    "start_time": "2021-11-27T15:01:48.311Z"
   },
   {
    "duration": 12,
    "start_time": "2021-11-27T15:02:06.062Z"
   },
   {
    "duration": 1333,
    "start_time": "2021-11-27T15:08:42.570Z"
   },
   {
    "duration": 157,
    "start_time": "2021-11-27T15:08:43.905Z"
   },
   {
    "duration": 24,
    "start_time": "2021-11-27T15:08:44.065Z"
   },
   {
    "duration": 23,
    "start_time": "2021-11-27T15:08:44.092Z"
   },
   {
    "duration": 22,
    "start_time": "2021-11-27T15:08:44.117Z"
   },
   {
    "duration": 14,
    "start_time": "2021-11-27T15:08:44.141Z"
   },
   {
    "duration": 11,
    "start_time": "2021-11-27T15:08:44.157Z"
   },
   {
    "duration": 9,
    "start_time": "2021-11-27T15:08:44.171Z"
   },
   {
    "duration": 64,
    "start_time": "2021-11-27T15:08:44.182Z"
   },
   {
    "duration": 11,
    "start_time": "2021-11-27T15:08:44.248Z"
   },
   {
    "duration": 50,
    "start_time": "2021-11-27T15:08:44.261Z"
   },
   {
    "duration": 20,
    "start_time": "2021-11-27T15:08:44.313Z"
   },
   {
    "duration": 10,
    "start_time": "2021-11-27T15:08:44.336Z"
   },
   {
    "duration": 16,
    "start_time": "2021-11-27T15:08:44.349Z"
   },
   {
    "duration": 23,
    "start_time": "2021-11-27T15:08:44.367Z"
   },
   {
    "duration": 54,
    "start_time": "2021-11-27T15:08:44.392Z"
   },
   {
    "duration": 47,
    "start_time": "2021-11-27T15:08:44.449Z"
   },
   {
    "duration": 6,
    "start_time": "2021-11-27T15:08:44.499Z"
   },
   {
    "duration": 30,
    "start_time": "2021-11-27T15:08:44.508Z"
   },
   {
    "duration": 985,
    "start_time": "2021-11-27T15:08:44.541Z"
   },
   {
    "duration": 11,
    "start_time": "2021-11-27T15:08:45.529Z"
   },
   {
    "duration": 1106,
    "start_time": "2021-11-27T15:08:45.542Z"
   },
   {
    "duration": 32,
    "start_time": "2021-11-27T15:08:46.654Z"
   },
   {
    "duration": 756,
    "start_time": "2021-11-27T15:08:46.689Z"
   },
   {
    "duration": 426,
    "start_time": "2021-11-27T15:08:47.448Z"
   },
   {
    "duration": 29,
    "start_time": "2021-11-27T15:08:47.877Z"
   },
   {
    "duration": 50,
    "start_time": "2021-11-27T15:08:47.909Z"
   },
   {
    "duration": 26,
    "start_time": "2021-11-27T15:08:47.961Z"
   },
   {
    "duration": 10,
    "start_time": "2021-11-27T15:08:47.990Z"
   },
   {
    "duration": 460,
    "start_time": "2021-11-27T15:08:48.030Z"
   },
   {
    "duration": 52,
    "start_time": "2021-11-27T15:08:48.493Z"
   },
   {
    "duration": 8,
    "start_time": "2021-11-27T15:08:48.548Z"
   },
   {
    "duration": 20,
    "start_time": "2021-11-27T15:08:48.558Z"
   },
   {
    "duration": 516,
    "start_time": "2021-11-27T15:08:48.581Z"
   },
   {
    "duration": 4,
    "start_time": "2021-11-27T15:08:49.099Z"
   },
   {
    "duration": 707,
    "start_time": "2021-11-27T15:08:49.106Z"
   },
   {
    "duration": 27,
    "start_time": "2021-11-27T15:08:49.816Z"
   },
   {
    "duration": 909,
    "start_time": "2021-11-27T15:08:49.846Z"
   },
   {
    "duration": 8,
    "start_time": "2021-11-27T15:08:50.757Z"
   },
   {
    "duration": 19,
    "start_time": "2021-11-27T15:08:50.768Z"
   },
   {
    "duration": 21,
    "start_time": "2021-11-27T15:08:50.789Z"
   },
   {
    "duration": 35,
    "start_time": "2021-11-27T15:08:50.813Z"
   },
   {
    "duration": 47,
    "start_time": "2021-11-27T15:08:50.850Z"
   },
   {
    "duration": 13,
    "start_time": "2021-11-27T15:08:50.900Z"
   },
   {
    "duration": 445,
    "start_time": "2021-11-27T15:08:50.915Z"
   },
   {
    "duration": 776,
    "start_time": "2021-11-27T15:08:51.362Z"
   },
   {
    "duration": 12,
    "start_time": "2021-11-27T15:08:52.141Z"
   },
   {
    "duration": 16,
    "start_time": "2021-11-27T15:08:52.155Z"
   },
   {
    "duration": 9,
    "start_time": "2021-11-27T15:08:52.173Z"
   },
   {
    "duration": 19,
    "start_time": "2021-11-27T15:08:52.185Z"
   },
   {
    "duration": 469,
    "start_time": "2021-11-27T15:08:52.207Z"
   },
   {
    "duration": 12,
    "start_time": "2021-11-27T15:08:52.678Z"
   },
   {
    "duration": 368,
    "start_time": "2021-11-27T15:08:52.692Z"
   },
   {
    "duration": 341,
    "start_time": "2021-11-27T15:08:53.062Z"
   },
   {
    "duration": 32,
    "start_time": "2021-11-27T15:08:53.406Z"
   },
   {
    "duration": 30,
    "start_time": "2021-11-27T15:08:53.445Z"
   },
   {
    "duration": 12,
    "start_time": "2021-11-27T15:08:53.478Z"
   },
   {
    "duration": 729,
    "start_time": "2021-11-27T15:22:36.825Z"
   },
   {
    "duration": 109,
    "start_time": "2021-11-27T15:25:59.082Z"
   },
   {
    "duration": 7255,
    "start_time": "2021-11-27T15:26:06.822Z"
   },
   {
    "duration": 26,
    "start_time": "2021-11-27T15:26:33.272Z"
   },
   {
    "duration": 33,
    "start_time": "2021-11-27T15:26:48.942Z"
   },
   {
    "duration": 13,
    "start_time": "2021-11-27T15:27:05.233Z"
   },
   {
    "duration": 4,
    "start_time": "2021-11-27T15:27:12.514Z"
   },
   {
    "duration": 278,
    "start_time": "2021-11-27T15:27:12.520Z"
   },
   {
    "duration": 24,
    "start_time": "2021-11-27T15:27:12.801Z"
   },
   {
    "duration": 11,
    "start_time": "2021-11-27T15:27:12.828Z"
   },
   {
    "duration": 53,
    "start_time": "2021-11-27T15:27:12.842Z"
   },
   {
    "duration": 42,
    "start_time": "2021-11-27T15:27:12.897Z"
   },
   {
    "duration": 17,
    "start_time": "2021-11-27T15:27:12.942Z"
   },
   {
    "duration": 54,
    "start_time": "2021-11-27T15:27:12.964Z"
   },
   {
    "duration": 19,
    "start_time": "2021-11-27T15:27:13.022Z"
   },
   {
    "duration": 80,
    "start_time": "2021-11-27T15:27:13.047Z"
   },
   {
    "duration": 10,
    "start_time": "2021-11-27T15:27:13.134Z"
   },
   {
    "duration": 42,
    "start_time": "2021-11-27T15:27:13.150Z"
   },
   {
    "duration": 9,
    "start_time": "2021-11-27T15:27:13.194Z"
   },
   {
    "duration": 23,
    "start_time": "2021-11-27T15:27:13.205Z"
   },
   {
    "duration": 8148,
    "start_time": "2021-11-27T15:27:13.237Z"
   },
   {
    "duration": 1772,
    "start_time": "2021-11-27T15:27:19.617Z"
   },
   {
    "duration": 1763,
    "start_time": "2021-11-27T15:27:19.627Z"
   },
   {
    "duration": 1758,
    "start_time": "2021-11-27T15:27:19.634Z"
   },
   {
    "duration": 1755,
    "start_time": "2021-11-27T15:27:19.638Z"
   },
   {
    "duration": 1753,
    "start_time": "2021-11-27T15:27:19.642Z"
   },
   {
    "duration": 1750,
    "start_time": "2021-11-27T15:27:19.646Z"
   },
   {
    "duration": 1748,
    "start_time": "2021-11-27T15:27:19.650Z"
   },
   {
    "duration": 1745,
    "start_time": "2021-11-27T15:27:19.654Z"
   },
   {
    "duration": 1742,
    "start_time": "2021-11-27T15:27:19.659Z"
   },
   {
    "duration": 1739,
    "start_time": "2021-11-27T15:27:19.663Z"
   },
   {
    "duration": 1735,
    "start_time": "2021-11-27T15:27:19.668Z"
   },
   {
    "duration": 1732,
    "start_time": "2021-11-27T15:27:19.672Z"
   },
   {
    "duration": 1729,
    "start_time": "2021-11-27T15:27:19.676Z"
   },
   {
    "duration": 1727,
    "start_time": "2021-11-27T15:27:19.680Z"
   },
   {
    "duration": 1725,
    "start_time": "2021-11-27T15:27:19.683Z"
   },
   {
    "duration": 1722,
    "start_time": "2021-11-27T15:27:19.687Z"
   },
   {
    "duration": 1720,
    "start_time": "2021-11-27T15:27:19.691Z"
   },
   {
    "duration": 1708,
    "start_time": "2021-11-27T15:27:19.704Z"
   },
   {
    "duration": 1702,
    "start_time": "2021-11-27T15:27:19.711Z"
   },
   {
    "duration": 1700,
    "start_time": "2021-11-27T15:27:19.715Z"
   },
   {
    "duration": 1697,
    "start_time": "2021-11-27T15:27:19.719Z"
   },
   {
    "duration": 1695,
    "start_time": "2021-11-27T15:27:19.723Z"
   },
   {
    "duration": 1691,
    "start_time": "2021-11-27T15:27:19.728Z"
   },
   {
    "duration": 1687,
    "start_time": "2021-11-27T15:27:19.733Z"
   },
   {
    "duration": 1685,
    "start_time": "2021-11-27T15:27:19.737Z"
   },
   {
    "duration": 1683,
    "start_time": "2021-11-27T15:27:19.740Z"
   },
   {
    "duration": 1679,
    "start_time": "2021-11-27T15:27:19.745Z"
   },
   {
    "duration": 1677,
    "start_time": "2021-11-27T15:27:19.749Z"
   },
   {
    "duration": 1674,
    "start_time": "2021-11-27T15:27:19.753Z"
   },
   {
    "duration": 1676,
    "start_time": "2021-11-27T15:27:19.758Z"
   },
   {
    "duration": 1673,
    "start_time": "2021-11-27T15:27:19.763Z"
   },
   {
    "duration": 1670,
    "start_time": "2021-11-27T15:27:19.767Z"
   },
   {
    "duration": 1666,
    "start_time": "2021-11-27T15:27:19.772Z"
   },
   {
    "duration": 1662,
    "start_time": "2021-11-27T15:27:19.777Z"
   },
   {
    "duration": 1659,
    "start_time": "2021-11-27T15:27:19.781Z"
   },
   {
    "duration": 1657,
    "start_time": "2021-11-27T15:27:19.784Z"
   },
   {
    "duration": 1655,
    "start_time": "2021-11-27T15:27:19.788Z"
   },
   {
    "duration": 1661,
    "start_time": "2021-11-27T15:27:19.792Z"
   },
   {
    "duration": 1659,
    "start_time": "2021-11-27T15:27:19.796Z"
   },
   {
    "duration": 1647,
    "start_time": "2021-11-27T15:27:19.809Z"
   },
   {
    "duration": 9,
    "start_time": "2021-11-27T15:27:31.273Z"
   },
   {
    "duration": 9,
    "start_time": "2021-11-27T15:27:36.864Z"
   },
   {
    "duration": 9,
    "start_time": "2021-11-27T15:27:40.562Z"
   },
   {
    "duration": 10,
    "start_time": "2021-11-27T15:28:01.434Z"
   },
   {
    "duration": 280,
    "start_time": "2021-11-27T15:28:01.446Z"
   },
   {
    "duration": 28,
    "start_time": "2021-11-27T15:28:01.729Z"
   },
   {
    "duration": 5,
    "start_time": "2021-11-27T15:28:01.760Z"
   },
   {
    "duration": 29,
    "start_time": "2021-11-27T15:28:01.767Z"
   },
   {
    "duration": 34,
    "start_time": "2021-11-27T15:28:01.799Z"
   },
   {
    "duration": 29,
    "start_time": "2021-11-27T15:28:01.836Z"
   },
   {
    "duration": 35,
    "start_time": "2021-11-27T15:28:01.869Z"
   },
   {
    "duration": 15,
    "start_time": "2021-11-27T15:28:01.906Z"
   },
   {
    "duration": 51,
    "start_time": "2021-11-27T15:28:01.923Z"
   },
   {
    "duration": 8,
    "start_time": "2021-11-27T15:28:01.976Z"
   },
   {
    "duration": 22,
    "start_time": "2021-11-27T15:28:01.986Z"
   },
   {
    "duration": 17,
    "start_time": "2021-11-27T15:28:02.031Z"
   },
   {
    "duration": 21,
    "start_time": "2021-11-27T15:28:02.050Z"
   },
   {
    "duration": 10,
    "start_time": "2021-11-27T15:28:02.074Z"
   },
   {
    "duration": 52,
    "start_time": "2021-11-27T15:28:02.086Z"
   },
   {
    "duration": 6364,
    "start_time": "2021-11-27T15:28:02.141Z"
   },
   {
    "duration": 1797,
    "start_time": "2021-11-27T15:28:06.712Z"
   },
   {
    "duration": 1785,
    "start_time": "2021-11-27T15:28:06.726Z"
   },
   {
    "duration": 1781,
    "start_time": "2021-11-27T15:28:06.731Z"
   },
   {
    "duration": 1778,
    "start_time": "2021-11-27T15:28:06.736Z"
   },
   {
    "duration": 1770,
    "start_time": "2021-11-27T15:28:06.746Z"
   },
   {
    "duration": 1767,
    "start_time": "2021-11-27T15:28:06.750Z"
   },
   {
    "duration": 1765,
    "start_time": "2021-11-27T15:28:06.754Z"
   },
   {
    "duration": 1762,
    "start_time": "2021-11-27T15:28:06.758Z"
   },
   {
    "duration": 1760,
    "start_time": "2021-11-27T15:28:06.762Z"
   },
   {
    "duration": 1757,
    "start_time": "2021-11-27T15:28:06.766Z"
   },
   {
    "duration": 1754,
    "start_time": "2021-11-27T15:28:06.771Z"
   },
   {
    "duration": 1752,
    "start_time": "2021-11-27T15:28:06.774Z"
   },
   {
    "duration": 1748,
    "start_time": "2021-11-27T15:28:06.779Z"
   },
   {
    "duration": 1745,
    "start_time": "2021-11-27T15:28:06.784Z"
   },
   {
    "duration": 1741,
    "start_time": "2021-11-27T15:28:06.789Z"
   },
   {
    "duration": 1737,
    "start_time": "2021-11-27T15:28:06.794Z"
   },
   {
    "duration": 1735,
    "start_time": "2021-11-27T15:28:06.798Z"
   },
   {
    "duration": 1731,
    "start_time": "2021-11-27T15:28:06.803Z"
   },
   {
    "duration": 1728,
    "start_time": "2021-11-27T15:28:06.808Z"
   },
   {
    "duration": 1724,
    "start_time": "2021-11-27T15:28:06.813Z"
   },
   {
    "duration": 1720,
    "start_time": "2021-11-27T15:28:06.818Z"
   },
   {
    "duration": 1717,
    "start_time": "2021-11-27T15:28:06.822Z"
   },
   {
    "duration": 1712,
    "start_time": "2021-11-27T15:28:06.829Z"
   },
   {
    "duration": 1708,
    "start_time": "2021-11-27T15:28:06.834Z"
   },
   {
    "duration": 1704,
    "start_time": "2021-11-27T15:28:06.839Z"
   },
   {
    "duration": 1701,
    "start_time": "2021-11-27T15:28:06.844Z"
   },
   {
    "duration": 1687,
    "start_time": "2021-11-27T15:28:06.860Z"
   },
   {
    "duration": 1684,
    "start_time": "2021-11-27T15:28:06.864Z"
   },
   {
    "duration": 1677,
    "start_time": "2021-11-27T15:28:06.872Z"
   },
   {
    "duration": 1675,
    "start_time": "2021-11-27T15:28:06.876Z"
   },
   {
    "duration": 1670,
    "start_time": "2021-11-27T15:28:06.882Z"
   },
   {
    "duration": 1667,
    "start_time": "2021-11-27T15:28:06.886Z"
   },
   {
    "duration": 1652,
    "start_time": "2021-11-27T15:28:06.902Z"
   },
   {
    "duration": 1650,
    "start_time": "2021-11-27T15:28:06.906Z"
   },
   {
    "duration": 1647,
    "start_time": "2021-11-27T15:28:06.910Z"
   },
   {
    "duration": 1644,
    "start_time": "2021-11-27T15:28:06.914Z"
   },
   {
    "duration": 1642,
    "start_time": "2021-11-27T15:28:06.918Z"
   },
   {
    "duration": 7,
    "start_time": "2021-11-27T15:29:42.792Z"
   },
   {
    "duration": 13,
    "start_time": "2021-11-27T15:29:44.234Z"
   },
   {
    "duration": 937,
    "start_time": "2021-11-27T15:29:49.223Z"
   },
   {
    "duration": 1403,
    "start_time": "2021-11-27T15:29:56.910Z"
   },
   {
    "duration": 539,
    "start_time": "2021-11-27T15:29:58.315Z"
   },
   {
    "duration": 28,
    "start_time": "2021-11-27T15:29:58.857Z"
   },
   {
    "duration": 18,
    "start_time": "2021-11-27T15:29:58.889Z"
   },
   {
    "duration": 25,
    "start_time": "2021-11-27T15:29:58.910Z"
   },
   {
    "duration": 18,
    "start_time": "2021-11-27T15:29:58.937Z"
   },
   {
    "duration": 24,
    "start_time": "2021-11-27T15:29:58.957Z"
   },
   {
    "duration": 38,
    "start_time": "2021-11-27T15:29:58.985Z"
   },
   {
    "duration": 19,
    "start_time": "2021-11-27T15:29:59.026Z"
   },
   {
    "duration": 44,
    "start_time": "2021-11-27T15:29:59.047Z"
   },
   {
    "duration": 8,
    "start_time": "2021-11-27T15:29:59.093Z"
   },
   {
    "duration": 10,
    "start_time": "2021-11-27T15:29:59.130Z"
   },
   {
    "duration": 8,
    "start_time": "2021-11-27T15:29:59.145Z"
   },
   {
    "duration": 8,
    "start_time": "2021-11-27T15:29:59.155Z"
   },
   {
    "duration": 9,
    "start_time": "2021-11-27T15:29:59.165Z"
   },
   {
    "duration": 79,
    "start_time": "2021-11-27T15:29:59.176Z"
   },
   {
    "duration": 13,
    "start_time": "2021-11-27T15:29:59.258Z"
   },
   {
    "duration": 14,
    "start_time": "2021-11-27T15:29:59.274Z"
   },
   {
    "duration": 1022,
    "start_time": "2021-11-27T15:29:59.291Z"
   },
   {
    "duration": 1144,
    "start_time": "2021-11-27T15:30:00.316Z"
   },
   {
    "duration": 34,
    "start_time": "2021-11-27T15:30:01.463Z"
   },
   {
    "duration": 764,
    "start_time": "2021-11-27T15:30:01.499Z"
   },
   {
    "duration": 439,
    "start_time": "2021-11-27T15:30:02.269Z"
   },
   {
    "duration": 39,
    "start_time": "2021-11-27T15:30:02.711Z"
   },
   {
    "duration": 30,
    "start_time": "2021-11-27T15:30:02.753Z"
   },
   {
    "duration": 58,
    "start_time": "2021-11-27T15:30:02.786Z"
   },
   {
    "duration": 10,
    "start_time": "2021-11-27T15:30:02.846Z"
   },
   {
    "duration": 464,
    "start_time": "2021-11-27T15:30:02.859Z"
   },
   {
    "duration": 31,
    "start_time": "2021-11-27T15:30:03.329Z"
   },
   {
    "duration": 25,
    "start_time": "2021-11-27T15:30:03.363Z"
   },
   {
    "duration": 7,
    "start_time": "2021-11-27T15:30:03.390Z"
   },
   {
    "duration": 39,
    "start_time": "2021-11-27T15:30:03.400Z"
   },
   {
    "duration": 531,
    "start_time": "2021-11-27T15:30:03.445Z"
   },
   {
    "duration": 5,
    "start_time": "2021-11-27T15:30:03.978Z"
   },
   {
    "duration": 720,
    "start_time": "2021-11-27T15:30:03.985Z"
   },
   {
    "duration": 30,
    "start_time": "2021-11-27T15:30:04.709Z"
   },
   {
    "duration": 911,
    "start_time": "2021-11-27T15:30:04.742Z"
   },
   {
    "duration": 9,
    "start_time": "2021-11-27T15:30:05.655Z"
   },
   {
    "duration": 18,
    "start_time": "2021-11-27T15:30:05.666Z"
   },
   {
    "duration": 13,
    "start_time": "2021-11-27T15:30:05.686Z"
   },
   {
    "duration": 30,
    "start_time": "2021-11-27T15:30:05.701Z"
   },
   {
    "duration": 27,
    "start_time": "2021-11-27T15:30:05.733Z"
   },
   {
    "duration": 14,
    "start_time": "2021-11-27T15:30:05.762Z"
   },
   {
    "duration": 466,
    "start_time": "2021-11-27T15:30:05.778Z"
   },
   {
    "duration": 794,
    "start_time": "2021-11-27T15:30:06.246Z"
   },
   {
    "duration": 15,
    "start_time": "2021-11-27T15:30:07.043Z"
   },
   {
    "duration": 8,
    "start_time": "2021-11-27T15:30:07.060Z"
   },
   {
    "duration": 9,
    "start_time": "2021-11-27T15:30:07.070Z"
   },
   {
    "duration": 12,
    "start_time": "2021-11-27T15:30:07.081Z"
   },
   {
    "duration": 485,
    "start_time": "2021-11-27T15:30:07.095Z"
   },
   {
    "duration": 12,
    "start_time": "2021-11-27T15:30:07.583Z"
   },
   {
    "duration": 495,
    "start_time": "2021-11-27T15:30:07.597Z"
   },
   {
    "duration": 491,
    "start_time": "2021-11-27T15:30:08.095Z"
   },
   {
    "duration": 14,
    "start_time": "2021-11-27T15:30:08.588Z"
   },
   {
    "duration": 41,
    "start_time": "2021-11-27T15:30:08.605Z"
   },
   {
    "duration": 12,
    "start_time": "2021-11-27T15:30:08.649Z"
   },
   {
    "duration": 6,
    "start_time": "2021-11-27T15:30:43.402Z"
   },
   {
    "duration": 836,
    "start_time": "2021-11-27T15:30:44.742Z"
   },
   {
    "duration": 1446,
    "start_time": "2021-11-27T15:30:56.265Z"
   },
   {
    "duration": 304,
    "start_time": "2021-11-27T15:30:57.714Z"
   },
   {
    "duration": 40,
    "start_time": "2021-11-27T15:30:58.023Z"
   },
   {
    "duration": 4,
    "start_time": "2021-11-27T15:30:58.066Z"
   },
   {
    "duration": 23,
    "start_time": "2021-11-27T15:30:58.073Z"
   },
   {
    "duration": 40,
    "start_time": "2021-11-27T15:30:58.098Z"
   },
   {
    "duration": 16,
    "start_time": "2021-11-27T15:30:58.141Z"
   },
   {
    "duration": 33,
    "start_time": "2021-11-27T15:30:58.162Z"
   },
   {
    "duration": 55,
    "start_time": "2021-11-27T15:30:58.198Z"
   },
   {
    "duration": 51,
    "start_time": "2021-11-27T15:30:58.256Z"
   },
   {
    "duration": 22,
    "start_time": "2021-11-27T15:30:58.310Z"
   },
   {
    "duration": 16,
    "start_time": "2021-11-27T15:30:58.341Z"
   },
   {
    "duration": 11,
    "start_time": "2021-11-27T15:30:58.359Z"
   },
   {
    "duration": 10,
    "start_time": "2021-11-27T15:30:58.373Z"
   },
   {
    "duration": 14,
    "start_time": "2021-11-27T15:30:58.386Z"
   },
   {
    "duration": 31,
    "start_time": "2021-11-27T15:30:58.432Z"
   },
   {
    "duration": 12,
    "start_time": "2021-11-27T15:30:58.466Z"
   },
   {
    "duration": 1063,
    "start_time": "2021-11-27T15:30:58.480Z"
   },
   {
    "duration": 1152,
    "start_time": "2021-11-27T15:30:59.546Z"
   },
   {
    "duration": 50,
    "start_time": "2021-11-27T15:31:00.701Z"
   },
   {
    "duration": 762,
    "start_time": "2021-11-27T15:31:00.753Z"
   },
   {
    "duration": 466,
    "start_time": "2021-11-27T15:31:01.518Z"
   },
   {
    "duration": 45,
    "start_time": "2021-11-27T15:31:01.990Z"
   },
   {
    "duration": 34,
    "start_time": "2021-11-27T15:31:02.039Z"
   },
   {
    "duration": 72,
    "start_time": "2021-11-27T15:31:02.076Z"
   },
   {
    "duration": 13,
    "start_time": "2021-11-27T15:31:02.152Z"
   },
   {
    "duration": 579,
    "start_time": "2021-11-27T15:31:02.168Z"
   },
   {
    "duration": 35,
    "start_time": "2021-11-27T15:31:02.751Z"
   },
   {
    "duration": 67,
    "start_time": "2021-11-27T15:31:02.788Z"
   },
   {
    "duration": 7,
    "start_time": "2021-11-27T15:31:02.857Z"
   },
   {
    "duration": 32,
    "start_time": "2021-11-27T15:31:02.867Z"
   },
   {
    "duration": 750,
    "start_time": "2021-11-27T15:31:02.902Z"
   },
   {
    "duration": 7,
    "start_time": "2021-11-27T15:31:03.655Z"
   },
   {
    "duration": 755,
    "start_time": "2021-11-27T15:31:03.664Z"
   },
   {
    "duration": 22,
    "start_time": "2021-11-27T15:31:04.422Z"
   },
   {
    "duration": 912,
    "start_time": "2021-11-27T15:31:04.449Z"
   },
   {
    "duration": 9,
    "start_time": "2021-11-27T15:31:05.364Z"
   },
   {
    "duration": 32,
    "start_time": "2021-11-27T15:31:05.376Z"
   },
   {
    "duration": 27,
    "start_time": "2021-11-27T15:31:05.411Z"
   },
   {
    "duration": 28,
    "start_time": "2021-11-27T15:31:05.441Z"
   },
   {
    "duration": 49,
    "start_time": "2021-11-27T15:31:05.472Z"
   },
   {
    "duration": 19,
    "start_time": "2021-11-27T15:31:05.524Z"
   },
   {
    "duration": 458,
    "start_time": "2021-11-27T15:31:05.545Z"
   },
   {
    "duration": 807,
    "start_time": "2021-11-27T15:31:06.006Z"
   },
   {
    "duration": 26,
    "start_time": "2021-11-27T15:31:06.816Z"
   },
   {
    "duration": 18,
    "start_time": "2021-11-27T15:31:06.845Z"
   },
   {
    "duration": 29,
    "start_time": "2021-11-27T15:31:06.865Z"
   },
   {
    "duration": 28,
    "start_time": "2021-11-27T15:31:06.896Z"
   },
   {
    "duration": 461,
    "start_time": "2021-11-27T15:31:06.927Z"
   },
   {
    "duration": 13,
    "start_time": "2021-11-27T15:31:07.390Z"
   },
   {
    "duration": 382,
    "start_time": "2021-11-27T15:31:07.405Z"
   },
   {
    "duration": 350,
    "start_time": "2021-11-27T15:31:07.789Z"
   },
   {
    "duration": 18,
    "start_time": "2021-11-27T15:31:08.142Z"
   },
   {
    "duration": 19,
    "start_time": "2021-11-27T15:31:08.162Z"
   },
   {
    "duration": 11,
    "start_time": "2021-11-27T15:31:08.183Z"
   },
   {
    "duration": 10,
    "start_time": "2021-11-27T15:31:57.101Z"
   },
   {
    "duration": 10,
    "start_time": "2021-11-27T15:33:20.600Z"
   },
   {
    "duration": 12,
    "start_time": "2021-11-27T15:33:23.800Z"
   },
   {
    "duration": 10,
    "start_time": "2021-11-27T15:33:27.590Z"
   },
   {
    "duration": 14,
    "start_time": "2021-11-27T15:33:34.090Z"
   },
   {
    "duration": 30,
    "start_time": "2021-11-27T15:34:32.647Z"
   },
   {
    "duration": 24,
    "start_time": "2021-11-27T15:35:36.762Z"
   },
   {
    "duration": 32,
    "start_time": "2021-11-27T15:35:57.932Z"
   },
   {
    "duration": 24,
    "start_time": "2021-11-27T15:36:08.651Z"
   },
   {
    "duration": 387,
    "start_time": "2021-11-27T15:38:02.535Z"
   },
   {
    "duration": 26,
    "start_time": "2021-11-27T15:38:08.543Z"
   },
   {
    "duration": 1390,
    "start_time": "2021-11-27T15:38:16.013Z"
   },
   {
    "duration": 123,
    "start_time": "2021-11-27T15:38:17.405Z"
   },
   {
    "duration": 32,
    "start_time": "2021-11-27T15:38:17.532Z"
   },
   {
    "duration": 6,
    "start_time": "2021-11-27T15:38:17.567Z"
   },
   {
    "duration": 22,
    "start_time": "2021-11-27T15:38:17.575Z"
   },
   {
    "duration": 38,
    "start_time": "2021-11-27T15:38:17.600Z"
   },
   {
    "duration": 11,
    "start_time": "2021-11-27T15:38:17.642Z"
   },
   {
    "duration": 25,
    "start_time": "2021-11-27T15:38:17.657Z"
   },
   {
    "duration": 10,
    "start_time": "2021-11-27T15:38:17.685Z"
   },
   {
    "duration": 80,
    "start_time": "2021-11-27T15:38:17.698Z"
   },
   {
    "duration": 10,
    "start_time": "2021-11-27T15:38:17.781Z"
   },
   {
    "duration": 45,
    "start_time": "2021-11-27T15:38:17.794Z"
   },
   {
    "duration": 9,
    "start_time": "2021-11-27T15:38:17.842Z"
   },
   {
    "duration": 8,
    "start_time": "2021-11-27T15:38:17.853Z"
   },
   {
    "duration": 8,
    "start_time": "2021-11-27T15:38:17.863Z"
   },
   {
    "duration": 67,
    "start_time": "2021-11-27T15:38:17.873Z"
   },
   {
    "duration": 10,
    "start_time": "2021-11-27T15:38:17.943Z"
   },
   {
    "duration": 1066,
    "start_time": "2021-11-27T15:38:17.956Z"
   },
   {
    "duration": 1124,
    "start_time": "2021-11-27T15:38:19.029Z"
   },
   {
    "duration": 34,
    "start_time": "2021-11-27T15:38:20.156Z"
   },
   {
    "duration": 749,
    "start_time": "2021-11-27T15:38:20.192Z"
   },
   {
    "duration": 427,
    "start_time": "2021-11-27T15:38:20.944Z"
   },
   {
    "duration": 28,
    "start_time": "2021-11-27T15:38:21.377Z"
   },
   {
    "duration": 50,
    "start_time": "2021-11-27T15:38:21.409Z"
   },
   {
    "duration": 28,
    "start_time": "2021-11-27T15:38:21.462Z"
   },
   {
    "duration": 40,
    "start_time": "2021-11-27T15:38:21.492Z"
   },
   {
    "duration": 456,
    "start_time": "2021-11-27T15:38:21.538Z"
   },
   {
    "duration": 41,
    "start_time": "2021-11-27T15:38:21.996Z"
   },
   {
    "duration": 28,
    "start_time": "2021-11-27T15:38:22.040Z"
   },
   {
    "duration": 7,
    "start_time": "2021-11-27T15:38:22.070Z"
   },
   {
    "duration": 23,
    "start_time": "2021-11-27T15:38:22.079Z"
   },
   {
    "duration": 513,
    "start_time": "2021-11-27T15:38:22.104Z"
   },
   {
    "duration": 12,
    "start_time": "2021-11-27T15:38:22.619Z"
   },
   {
    "duration": 924,
    "start_time": "2021-11-27T15:38:22.634Z"
   },
   {
    "duration": 17,
    "start_time": "2021-11-27T15:38:23.561Z"
   },
   {
    "duration": 980,
    "start_time": "2021-11-27T15:38:23.581Z"
   },
   {
    "duration": 8,
    "start_time": "2021-11-27T15:38:24.563Z"
   },
   {
    "duration": 20,
    "start_time": "2021-11-27T15:38:24.573Z"
   },
   {
    "duration": 21,
    "start_time": "2021-11-27T15:38:24.595Z"
   },
   {
    "duration": 19,
    "start_time": "2021-11-27T15:38:24.630Z"
   },
   {
    "duration": 43,
    "start_time": "2021-11-27T15:38:24.651Z"
   },
   {
    "duration": 14,
    "start_time": "2021-11-27T15:38:24.696Z"
   },
   {
    "duration": 442,
    "start_time": "2021-11-27T15:38:24.712Z"
   },
   {
    "duration": 795,
    "start_time": "2021-11-27T15:38:25.157Z"
   },
   {
    "duration": 11,
    "start_time": "2021-11-27T15:38:25.955Z"
   },
   {
    "duration": 9,
    "start_time": "2021-11-27T15:38:25.968Z"
   },
   {
    "duration": 18,
    "start_time": "2021-11-27T15:38:25.979Z"
   },
   {
    "duration": 43,
    "start_time": "2021-11-27T15:38:25.999Z"
   },
   {
    "duration": 470,
    "start_time": "2021-11-27T15:38:26.045Z"
   },
   {
    "duration": 22,
    "start_time": "2021-11-27T15:38:26.518Z"
   },
   {
    "duration": 376,
    "start_time": "2021-11-27T15:38:26.543Z"
   },
   {
    "duration": 331,
    "start_time": "2021-11-27T15:38:26.930Z"
   },
   {
    "duration": 14,
    "start_time": "2021-11-27T15:38:27.264Z"
   },
   {
    "duration": 15,
    "start_time": "2021-11-27T15:38:27.280Z"
   },
   {
    "duration": 45,
    "start_time": "2021-11-27T15:38:27.297Z"
   },
   {
    "duration": 1096,
    "start_time": "2021-11-27T15:40:29.478Z"
   },
   {
    "duration": 29,
    "start_time": "2021-11-27T15:41:01.114Z"
   },
   {
    "duration": 29,
    "start_time": "2021-11-27T15:41:34.997Z"
   },
   {
    "duration": 27,
    "start_time": "2021-11-27T15:41:45.387Z"
   },
   {
    "duration": 34,
    "start_time": "2021-11-27T15:42:11.118Z"
   },
   {
    "duration": 29,
    "start_time": "2021-11-27T15:43:06.479Z"
   },
   {
    "duration": 5,
    "start_time": "2021-11-27T15:43:19.039Z"
   },
   {
    "duration": 105,
    "start_time": "2021-11-27T15:43:19.047Z"
   },
   {
    "duration": 24,
    "start_time": "2021-11-27T15:43:19.155Z"
   },
   {
    "duration": 9,
    "start_time": "2021-11-27T15:43:19.182Z"
   },
   {
    "duration": 63,
    "start_time": "2021-11-27T15:43:19.193Z"
   },
   {
    "duration": 14,
    "start_time": "2021-11-27T15:43:19.259Z"
   },
   {
    "duration": 12,
    "start_time": "2021-11-27T15:43:19.276Z"
   },
   {
    "duration": 13,
    "start_time": "2021-11-27T15:43:19.329Z"
   },
   {
    "duration": 28,
    "start_time": "2021-11-27T15:43:19.346Z"
   },
   {
    "duration": 12,
    "start_time": "2021-11-27T15:43:19.376Z"
   },
   {
    "duration": 88,
    "start_time": "2021-11-27T15:43:19.390Z"
   },
   {
    "duration": 8,
    "start_time": "2021-11-27T15:43:19.481Z"
   },
   {
    "duration": 9,
    "start_time": "2021-11-27T15:43:19.491Z"
   },
   {
    "duration": 43,
    "start_time": "2021-11-27T15:43:19.502Z"
   },
   {
    "duration": 11,
    "start_time": "2021-11-27T15:43:19.548Z"
   },
   {
    "duration": 12,
    "start_time": "2021-11-27T15:43:19.563Z"
   },
   {
    "duration": 77,
    "start_time": "2021-11-27T15:43:19.578Z"
   },
   {
    "duration": 8,
    "start_time": "2021-11-27T15:43:19.658Z"
   },
   {
    "duration": 1460,
    "start_time": "2021-11-27T15:43:19.669Z"
   },
   {
    "duration": 1295,
    "start_time": "2021-11-27T15:43:21.132Z"
   },
   {
    "duration": 40,
    "start_time": "2021-11-27T15:43:22.430Z"
   },
   {
    "duration": 851,
    "start_time": "2021-11-27T15:43:22.473Z"
   },
   {
    "duration": 429,
    "start_time": "2021-11-27T15:43:23.333Z"
   },
   {
    "duration": 26,
    "start_time": "2021-11-27T15:43:23.767Z"
   },
   {
    "duration": 55,
    "start_time": "2021-11-27T15:43:23.796Z"
   },
   {
    "duration": 26,
    "start_time": "2021-11-27T15:43:23.853Z"
   },
   {
    "duration": 10,
    "start_time": "2021-11-27T15:43:23.881Z"
   },
   {
    "duration": 472,
    "start_time": "2021-11-27T15:43:23.894Z"
   },
   {
    "duration": 29,
    "start_time": "2021-11-27T15:43:24.369Z"
   },
   {
    "duration": 51,
    "start_time": "2021-11-27T15:43:24.400Z"
   },
   {
    "duration": 8,
    "start_time": "2021-11-27T15:43:24.453Z"
   },
   {
    "duration": 24,
    "start_time": "2021-11-27T15:43:24.463Z"
   },
   {
    "duration": 513,
    "start_time": "2021-11-27T15:43:24.490Z"
   },
   {
    "duration": 5,
    "start_time": "2021-11-27T15:43:25.006Z"
   },
   {
    "duration": 846,
    "start_time": "2021-11-27T15:43:25.014Z"
   },
   {
    "duration": 17,
    "start_time": "2021-11-27T15:43:25.863Z"
   },
   {
    "duration": 866,
    "start_time": "2021-11-27T15:43:25.883Z"
   },
   {
    "duration": 11,
    "start_time": "2021-11-27T15:43:26.752Z"
   },
   {
    "duration": 12,
    "start_time": "2021-11-27T15:43:26.765Z"
   },
   {
    "duration": 22,
    "start_time": "2021-11-27T15:43:26.779Z"
   },
   {
    "duration": 43,
    "start_time": "2021-11-27T15:43:26.804Z"
   },
   {
    "duration": 27,
    "start_time": "2021-11-27T15:43:26.851Z"
   },
   {
    "duration": 14,
    "start_time": "2021-11-27T15:43:26.881Z"
   },
   {
    "duration": 489,
    "start_time": "2021-11-27T15:43:26.898Z"
   },
   {
    "duration": 782,
    "start_time": "2021-11-27T15:43:27.390Z"
   },
   {
    "duration": 12,
    "start_time": "2021-11-27T15:43:28.174Z"
   },
   {
    "duration": 9,
    "start_time": "2021-11-27T15:43:28.189Z"
   },
   {
    "duration": 44,
    "start_time": "2021-11-27T15:43:28.200Z"
   },
   {
    "duration": 10,
    "start_time": "2021-11-27T15:43:28.247Z"
   },
   {
    "duration": 360,
    "start_time": "2021-11-27T15:43:28.259Z"
   },
   {
    "duration": 16,
    "start_time": "2021-11-27T15:43:28.629Z"
   },
   {
    "duration": 512,
    "start_time": "2021-11-27T15:43:28.647Z"
   },
   {
    "duration": 624,
    "start_time": "2021-11-27T15:43:29.162Z"
   },
   {
    "duration": 14,
    "start_time": "2021-11-27T15:43:29.789Z"
   },
   {
    "duration": 31,
    "start_time": "2021-11-27T15:43:29.805Z"
   },
   {
    "duration": 17,
    "start_time": "2021-11-27T15:43:29.838Z"
   },
   {
    "duration": 1393,
    "start_time": "2021-11-27T15:45:02.410Z"
   },
   {
    "duration": 136,
    "start_time": "2021-11-27T15:45:03.805Z"
   },
   {
    "duration": 31,
    "start_time": "2021-11-27T15:45:03.946Z"
   },
   {
    "duration": 6,
    "start_time": "2021-11-27T15:45:03.981Z"
   },
   {
    "duration": 57,
    "start_time": "2021-11-27T15:45:03.990Z"
   },
   {
    "duration": 13,
    "start_time": "2021-11-27T15:45:04.049Z"
   },
   {
    "duration": 10,
    "start_time": "2021-11-27T15:45:04.065Z"
   },
   {
    "duration": 11,
    "start_time": "2021-11-27T15:45:04.079Z"
   },
   {
    "duration": 60,
    "start_time": "2021-11-27T15:45:04.093Z"
   },
   {
    "duration": 12,
    "start_time": "2021-11-27T15:45:04.156Z"
   },
   {
    "duration": 75,
    "start_time": "2021-11-27T15:45:04.171Z"
   },
   {
    "duration": 9,
    "start_time": "2021-11-27T15:45:04.249Z"
   },
   {
    "duration": 9,
    "start_time": "2021-11-27T15:45:04.261Z"
   },
   {
    "duration": 8,
    "start_time": "2021-11-27T15:45:04.273Z"
   },
   {
    "duration": 49,
    "start_time": "2021-11-27T15:45:04.284Z"
   },
   {
    "duration": 14,
    "start_time": "2021-11-27T15:45:04.337Z"
   },
   {
    "duration": 30,
    "start_time": "2021-11-27T15:45:04.353Z"
   },
   {
    "duration": 10,
    "start_time": "2021-11-27T15:45:04.385Z"
   },
   {
    "duration": 59,
    "start_time": "2021-11-27T15:45:04.397Z"
   },
   {
    "duration": 1040,
    "start_time": "2021-11-27T15:45:04.459Z"
   },
   {
    "duration": 1152,
    "start_time": "2021-11-27T15:45:05.501Z"
   },
   {
    "duration": 29,
    "start_time": "2021-11-27T15:45:06.655Z"
   },
   {
    "duration": 770,
    "start_time": "2021-11-27T15:45:06.689Z"
   },
   {
    "duration": 447,
    "start_time": "2021-11-27T15:45:07.463Z"
   },
   {
    "duration": 34,
    "start_time": "2021-11-27T15:45:07.912Z"
   },
   {
    "duration": 28,
    "start_time": "2021-11-27T15:45:07.949Z"
   },
   {
    "duration": 56,
    "start_time": "2021-11-27T15:45:07.979Z"
   },
   {
    "duration": 12,
    "start_time": "2021-11-27T15:45:08.037Z"
   },
   {
    "duration": 516,
    "start_time": "2021-11-27T15:45:08.051Z"
   },
   {
    "duration": 29,
    "start_time": "2021-11-27T15:45:08.569Z"
   },
   {
    "duration": 53,
    "start_time": "2021-11-27T15:45:08.602Z"
   },
   {
    "duration": 7,
    "start_time": "2021-11-27T15:45:08.658Z"
   },
   {
    "duration": 15,
    "start_time": "2021-11-27T15:45:08.668Z"
   },
   {
    "duration": 559,
    "start_time": "2021-11-27T15:45:08.685Z"
   },
   {
    "duration": 8,
    "start_time": "2021-11-27T15:45:09.246Z"
   },
   {
    "duration": 736,
    "start_time": "2021-11-27T15:45:09.256Z"
   },
   {
    "duration": 15,
    "start_time": "2021-11-27T15:45:09.995Z"
   },
   {
    "duration": 869,
    "start_time": "2021-11-27T15:45:10.013Z"
   },
   {
    "duration": 8,
    "start_time": "2021-11-27T15:45:10.885Z"
   },
   {
    "duration": 9,
    "start_time": "2021-11-27T15:45:10.895Z"
   },
   {
    "duration": 37,
    "start_time": "2021-11-27T15:45:10.906Z"
   },
   {
    "duration": 12,
    "start_time": "2021-11-27T15:45:10.945Z"
   },
   {
    "duration": 26,
    "start_time": "2021-11-27T15:45:10.959Z"
   },
   {
    "duration": 14,
    "start_time": "2021-11-27T15:45:10.987Z"
   },
   {
    "duration": 666,
    "start_time": "2021-11-27T15:45:11.003Z"
   },
   {
    "duration": 1033,
    "start_time": "2021-11-27T15:45:11.671Z"
   },
   {
    "duration": 22,
    "start_time": "2021-11-27T15:45:12.707Z"
   },
   {
    "duration": 13,
    "start_time": "2021-11-27T15:45:12.731Z"
   },
   {
    "duration": 11,
    "start_time": "2021-11-27T15:45:12.747Z"
   },
   {
    "duration": 15,
    "start_time": "2021-11-27T15:45:12.760Z"
   },
   {
    "duration": 475,
    "start_time": "2021-11-27T15:45:12.777Z"
   },
   {
    "duration": 12,
    "start_time": "2021-11-27T15:45:13.255Z"
   },
   {
    "duration": 379,
    "start_time": "2021-11-27T15:45:13.270Z"
   },
   {
    "duration": 358,
    "start_time": "2021-11-27T15:45:13.652Z"
   },
   {
    "duration": 34,
    "start_time": "2021-11-27T15:45:14.014Z"
   },
   {
    "duration": 15,
    "start_time": "2021-11-27T15:45:14.051Z"
   },
   {
    "duration": 12,
    "start_time": "2021-11-27T15:45:14.069Z"
   },
   {
    "duration": 1381,
    "start_time": "2021-11-27T15:45:54.498Z"
   },
   {
    "duration": 125,
    "start_time": "2021-11-27T15:45:55.883Z"
   },
   {
    "duration": 35,
    "start_time": "2021-11-27T15:45:56.011Z"
   },
   {
    "duration": 6,
    "start_time": "2021-11-27T15:45:56.049Z"
   },
   {
    "duration": 29,
    "start_time": "2021-11-27T15:45:56.057Z"
   },
   {
    "duration": 14,
    "start_time": "2021-11-27T15:45:56.088Z"
   },
   {
    "duration": 15,
    "start_time": "2021-11-27T15:45:56.131Z"
   },
   {
    "duration": 10,
    "start_time": "2021-11-27T15:45:56.149Z"
   },
   {
    "duration": 27,
    "start_time": "2021-11-27T15:45:56.162Z"
   },
   {
    "duration": 49,
    "start_time": "2021-11-27T15:45:56.191Z"
   },
   {
    "duration": 44,
    "start_time": "2021-11-27T15:45:56.243Z"
   },
   {
    "duration": 7,
    "start_time": "2021-11-27T15:45:56.289Z"
   },
   {
    "duration": 32,
    "start_time": "2021-11-27T15:45:56.299Z"
   },
   {
    "duration": 15,
    "start_time": "2021-11-27T15:45:56.333Z"
   },
   {
    "duration": 8,
    "start_time": "2021-11-27T15:45:56.351Z"
   },
   {
    "duration": 12,
    "start_time": "2021-11-27T15:45:56.361Z"
   },
   {
    "duration": 63,
    "start_time": "2021-11-27T15:45:56.376Z"
   },
   {
    "duration": 30,
    "start_time": "2021-11-27T15:45:56.447Z"
   },
   {
    "duration": 7,
    "start_time": "2021-11-27T15:45:56.479Z"
   },
   {
    "duration": 54,
    "start_time": "2021-11-27T15:45:56.488Z"
   },
   {
    "duration": 977,
    "start_time": "2021-11-27T15:45:56.545Z"
   },
   {
    "duration": 1605,
    "start_time": "2021-11-27T15:45:57.524Z"
   },
   {
    "duration": 29,
    "start_time": "2021-11-27T15:45:59.136Z"
   },
   {
    "duration": 720,
    "start_time": "2021-11-27T15:45:59.168Z"
   },
   {
    "duration": 436,
    "start_time": "2021-11-27T15:45:59.890Z"
   },
   {
    "duration": 27,
    "start_time": "2021-11-27T15:46:00.328Z"
   },
   {
    "duration": 28,
    "start_time": "2021-11-27T15:46:00.358Z"
   },
   {
    "duration": 62,
    "start_time": "2021-11-27T15:46:00.388Z"
   },
   {
    "duration": 19,
    "start_time": "2021-11-27T15:46:00.452Z"
   },
   {
    "duration": 663,
    "start_time": "2021-11-27T15:46:00.473Z"
   },
   {
    "duration": 29,
    "start_time": "2021-11-27T15:46:01.138Z"
   },
   {
    "duration": 27,
    "start_time": "2021-11-27T15:46:01.170Z"
   },
   {
    "duration": 35,
    "start_time": "2021-11-27T15:46:01.199Z"
   },
   {
    "duration": 25,
    "start_time": "2021-11-27T15:46:01.238Z"
   },
   {
    "duration": 520,
    "start_time": "2021-11-27T15:46:01.265Z"
   },
   {
    "duration": 5,
    "start_time": "2021-11-27T15:46:01.787Z"
   },
   {
    "duration": 743,
    "start_time": "2021-11-27T15:46:01.794Z"
   },
   {
    "duration": 16,
    "start_time": "2021-11-27T15:46:02.541Z"
   },
   {
    "duration": 871,
    "start_time": "2021-11-27T15:46:02.559Z"
   },
   {
    "duration": 16,
    "start_time": "2021-11-27T15:46:03.433Z"
   },
   {
    "duration": 6,
    "start_time": "2021-11-27T15:46:03.451Z"
   },
   {
    "duration": 12,
    "start_time": "2021-11-27T15:46:03.459Z"
   },
   {
    "duration": 15,
    "start_time": "2021-11-27T15:46:03.473Z"
   },
   {
    "duration": 62,
    "start_time": "2021-11-27T15:46:03.490Z"
   },
   {
    "duration": 14,
    "start_time": "2021-11-27T15:46:03.555Z"
   },
   {
    "duration": 464,
    "start_time": "2021-11-27T15:46:03.571Z"
   },
   {
    "duration": 797,
    "start_time": "2021-11-27T15:46:04.039Z"
   },
   {
    "duration": 14,
    "start_time": "2021-11-27T15:46:04.839Z"
   },
   {
    "duration": 14,
    "start_time": "2021-11-27T15:46:04.855Z"
   },
   {
    "duration": 12,
    "start_time": "2021-11-27T15:46:04.871Z"
   },
   {
    "duration": 13,
    "start_time": "2021-11-27T15:46:04.885Z"
   },
   {
    "duration": 447,
    "start_time": "2021-11-27T15:46:04.930Z"
   },
   {
    "duration": 12,
    "start_time": "2021-11-27T15:46:05.380Z"
   },
   {
    "duration": 381,
    "start_time": "2021-11-27T15:46:05.394Z"
   },
   {
    "duration": 334,
    "start_time": "2021-11-27T15:46:05.779Z"
   },
   {
    "duration": 29,
    "start_time": "2021-11-27T15:46:06.116Z"
   },
   {
    "duration": 13,
    "start_time": "2021-11-27T15:46:06.148Z"
   },
   {
    "duration": 11,
    "start_time": "2021-11-27T15:46:06.163Z"
   },
   {
    "duration": 25,
    "start_time": "2021-11-27T15:48:02.926Z"
   },
   {
    "duration": 32,
    "start_time": "2021-11-27T15:48:13.526Z"
   },
   {
    "duration": 1399,
    "start_time": "2021-11-27T15:48:38.990Z"
   },
   {
    "duration": 127,
    "start_time": "2021-11-27T15:48:40.392Z"
   },
   {
    "duration": 33,
    "start_time": "2021-11-27T15:48:40.525Z"
   },
   {
    "duration": 10,
    "start_time": "2021-11-27T15:48:40.561Z"
   },
   {
    "duration": 28,
    "start_time": "2021-11-27T15:48:40.573Z"
   },
   {
    "duration": 48,
    "start_time": "2021-11-27T15:48:40.604Z"
   },
   {
    "duration": 11,
    "start_time": "2021-11-27T15:48:40.655Z"
   },
   {
    "duration": 13,
    "start_time": "2021-11-27T15:48:40.669Z"
   },
   {
    "duration": 55,
    "start_time": "2021-11-27T15:48:40.684Z"
   },
   {
    "duration": 11,
    "start_time": "2021-11-27T15:48:40.741Z"
   },
   {
    "duration": 49,
    "start_time": "2021-11-27T15:48:40.754Z"
   },
   {
    "duration": 25,
    "start_time": "2021-11-27T15:48:40.805Z"
   },
   {
    "duration": 15,
    "start_time": "2021-11-27T15:48:40.838Z"
   },
   {
    "duration": 12,
    "start_time": "2021-11-27T15:48:40.855Z"
   },
   {
    "duration": 8,
    "start_time": "2021-11-27T15:48:40.869Z"
   },
   {
    "duration": 10,
    "start_time": "2021-11-27T15:48:40.880Z"
   },
   {
    "duration": 62,
    "start_time": "2021-11-27T15:48:40.893Z"
   },
   {
    "duration": 27,
    "start_time": "2021-11-27T15:48:40.959Z"
   },
   {
    "duration": 9,
    "start_time": "2021-11-27T15:48:40.989Z"
   },
   {
    "duration": 61,
    "start_time": "2021-11-27T15:48:41.001Z"
   },
   {
    "duration": 1070,
    "start_time": "2021-11-27T15:48:41.064Z"
   },
   {
    "duration": 1155,
    "start_time": "2021-11-27T15:48:42.143Z"
   },
   {
    "duration": 42,
    "start_time": "2021-11-27T15:48:43.301Z"
   },
   {
    "duration": 674,
    "start_time": "2021-11-27T15:48:43.346Z"
   },
   {
    "duration": 427,
    "start_time": "2021-11-27T15:48:44.022Z"
   },
   {
    "duration": 23,
    "start_time": "2021-11-27T15:48:44.451Z"
   },
   {
    "duration": 27,
    "start_time": "2021-11-27T15:48:44.476Z"
   },
   {
    "duration": 32,
    "start_time": "2021-11-27T15:48:44.537Z"
   },
   {
    "duration": 10,
    "start_time": "2021-11-27T15:48:44.571Z"
   },
   {
    "duration": 471,
    "start_time": "2021-11-27T15:48:44.584Z"
   },
   {
    "duration": 29,
    "start_time": "2021-11-27T15:48:45.057Z"
   },
   {
    "duration": 52,
    "start_time": "2021-11-27T15:48:45.089Z"
   },
   {
    "duration": 12,
    "start_time": "2021-11-27T15:48:45.144Z"
   },
   {
    "duration": 16,
    "start_time": "2021-11-27T15:48:45.160Z"
   },
   {
    "duration": 523,
    "start_time": "2021-11-27T15:48:45.178Z"
   },
   {
    "duration": 5,
    "start_time": "2021-11-27T15:48:45.704Z"
   },
   {
    "duration": 713,
    "start_time": "2021-11-27T15:48:45.711Z"
   },
   {
    "duration": 18,
    "start_time": "2021-11-27T15:48:46.426Z"
   },
   {
    "duration": 927,
    "start_time": "2021-11-27T15:48:46.447Z"
   },
   {
    "duration": 8,
    "start_time": "2021-11-27T15:48:47.376Z"
   },
   {
    "duration": 16,
    "start_time": "2021-11-27T15:48:47.387Z"
   },
   {
    "duration": 27,
    "start_time": "2021-11-27T15:48:47.405Z"
   },
   {
    "duration": 14,
    "start_time": "2021-11-27T15:48:47.435Z"
   },
   {
    "duration": 25,
    "start_time": "2021-11-27T15:48:47.452Z"
   },
   {
    "duration": 14,
    "start_time": "2021-11-27T15:48:47.479Z"
   },
   {
    "duration": 485,
    "start_time": "2021-11-27T15:48:47.495Z"
   },
   {
    "duration": 975,
    "start_time": "2021-11-27T15:48:47.982Z"
   },
   {
    "duration": 12,
    "start_time": "2021-11-27T15:48:48.959Z"
   },
   {
    "duration": 12,
    "start_time": "2021-11-27T15:48:48.974Z"
   },
   {
    "duration": 16,
    "start_time": "2021-11-27T15:48:48.988Z"
   },
   {
    "duration": 36,
    "start_time": "2021-11-27T15:48:49.007Z"
   },
   {
    "duration": 344,
    "start_time": "2021-11-27T15:48:49.045Z"
   },
   {
    "duration": 12,
    "start_time": "2021-11-27T15:48:49.392Z"
   },
   {
    "duration": 377,
    "start_time": "2021-11-27T15:48:49.407Z"
   },
   {
    "duration": 338,
    "start_time": "2021-11-27T15:48:49.787Z"
   },
   {
    "duration": 20,
    "start_time": "2021-11-27T15:48:50.130Z"
   },
   {
    "duration": 14,
    "start_time": "2021-11-27T15:48:50.152Z"
   },
   {
    "duration": 10,
    "start_time": "2021-11-27T15:48:50.168Z"
   },
   {
    "duration": 1383,
    "start_time": "2021-11-27T15:50:34.915Z"
   },
   {
    "duration": 165,
    "start_time": "2021-11-27T15:50:36.300Z"
   },
   {
    "duration": 30,
    "start_time": "2021-11-27T15:50:36.471Z"
   },
   {
    "duration": 27,
    "start_time": "2021-11-27T15:50:36.503Z"
   },
   {
    "duration": 28,
    "start_time": "2021-11-27T15:50:36.538Z"
   },
   {
    "duration": 15,
    "start_time": "2021-11-27T15:50:36.568Z"
   },
   {
    "duration": 11,
    "start_time": "2021-11-27T15:50:36.587Z"
   },
   {
    "duration": 18,
    "start_time": "2021-11-27T15:50:36.631Z"
   },
   {
    "duration": 24,
    "start_time": "2021-11-27T15:50:36.652Z"
   },
   {
    "duration": 13,
    "start_time": "2021-11-27T15:50:36.678Z"
   },
   {
    "duration": 82,
    "start_time": "2021-11-27T15:50:36.694Z"
   },
   {
    "duration": 10,
    "start_time": "2021-11-27T15:50:36.778Z"
   },
   {
    "duration": 45,
    "start_time": "2021-11-27T15:50:36.791Z"
   },
   {
    "duration": 15,
    "start_time": "2021-11-27T15:50:36.839Z"
   },
   {
    "duration": 10,
    "start_time": "2021-11-27T15:50:36.857Z"
   },
   {
    "duration": 11,
    "start_time": "2021-11-27T15:50:36.870Z"
   },
   {
    "duration": 68,
    "start_time": "2021-11-27T15:50:36.884Z"
   },
   {
    "duration": 27,
    "start_time": "2021-11-27T15:50:36.956Z"
   },
   {
    "duration": 9,
    "start_time": "2021-11-27T15:50:36.986Z"
   },
   {
    "duration": 35,
    "start_time": "2021-11-27T15:50:37.029Z"
   },
   {
    "duration": 1074,
    "start_time": "2021-11-27T15:50:37.068Z"
   },
   {
    "duration": 1558,
    "start_time": "2021-11-27T15:50:38.152Z"
   },
   {
    "duration": 38,
    "start_time": "2021-11-27T15:50:39.713Z"
   },
   {
    "duration": 675,
    "start_time": "2021-11-27T15:50:39.754Z"
   },
   {
    "duration": 433,
    "start_time": "2021-11-27T15:50:40.437Z"
   },
   {
    "duration": 25,
    "start_time": "2021-11-27T15:50:40.872Z"
   },
   {
    "duration": 52,
    "start_time": "2021-11-27T15:50:40.899Z"
   },
   {
    "duration": 31,
    "start_time": "2021-11-27T15:50:40.953Z"
   },
   {
    "duration": 14,
    "start_time": "2021-11-27T15:50:40.987Z"
   },
   {
    "duration": 473,
    "start_time": "2021-11-27T15:50:41.003Z"
   },
   {
    "duration": 29,
    "start_time": "2021-11-27T15:50:41.478Z"
   },
   {
    "duration": 28,
    "start_time": "2021-11-27T15:50:41.538Z"
   },
   {
    "duration": 8,
    "start_time": "2021-11-27T15:50:41.568Z"
   },
   {
    "duration": 25,
    "start_time": "2021-11-27T15:50:41.578Z"
   },
   {
    "duration": 512,
    "start_time": "2021-11-27T15:50:41.605Z"
   },
   {
    "duration": 10,
    "start_time": "2021-11-27T15:50:42.120Z"
   },
   {
    "duration": 729,
    "start_time": "2021-11-27T15:50:42.133Z"
   },
   {
    "duration": 15,
    "start_time": "2021-11-27T15:50:42.865Z"
   },
   {
    "duration": 904,
    "start_time": "2021-11-27T15:50:42.882Z"
   },
   {
    "duration": 8,
    "start_time": "2021-11-27T15:50:43.789Z"
   },
   {
    "duration": 11,
    "start_time": "2021-11-27T15:50:43.799Z"
   },
   {
    "duration": 28,
    "start_time": "2021-11-27T15:50:43.812Z"
   },
   {
    "duration": 12,
    "start_time": "2021-11-27T15:50:43.842Z"
   },
   {
    "duration": 24,
    "start_time": "2021-11-27T15:50:43.856Z"
   },
   {
    "duration": 13,
    "start_time": "2021-11-27T15:50:43.882Z"
   },
   {
    "duration": 450,
    "start_time": "2021-11-27T15:50:43.942Z"
   },
   {
    "duration": 886,
    "start_time": "2021-11-27T15:50:44.395Z"
   },
   {
    "duration": 12,
    "start_time": "2021-11-27T15:50:45.284Z"
   },
   {
    "duration": 8,
    "start_time": "2021-11-27T15:50:45.298Z"
   },
   {
    "duration": 34,
    "start_time": "2021-11-27T15:50:45.309Z"
   },
   {
    "duration": 8,
    "start_time": "2021-11-27T15:50:45.346Z"
   },
   {
    "duration": 356,
    "start_time": "2021-11-27T15:50:45.357Z"
   },
   {
    "duration": 19,
    "start_time": "2021-11-27T15:50:45.715Z"
   },
   {
    "duration": 372,
    "start_time": "2021-11-27T15:50:45.737Z"
   },
   {
    "duration": 343,
    "start_time": "2021-11-27T15:50:46.112Z"
   },
   {
    "duration": 17,
    "start_time": "2021-11-27T15:50:46.458Z"
   },
   {
    "duration": 14,
    "start_time": "2021-11-27T15:50:46.477Z"
   },
   {
    "duration": 49,
    "start_time": "2021-11-27T15:50:46.494Z"
   },
   {
    "duration": 24,
    "start_time": "2021-11-27T15:52:09.522Z"
   },
   {
    "duration": 6,
    "start_time": "2021-11-27T15:52:12.041Z"
   },
   {
    "duration": 30,
    "start_time": "2021-11-27T15:52:14.334Z"
   },
   {
    "duration": 26,
    "start_time": "2021-11-27T16:10:29.934Z"
   },
   {
    "duration": 5,
    "start_time": "2021-11-27T16:10:34.352Z"
   },
   {
    "duration": 120,
    "start_time": "2021-11-27T16:10:34.359Z"
   },
   {
    "duration": 20,
    "start_time": "2021-11-27T16:10:34.482Z"
   },
   {
    "duration": 25,
    "start_time": "2021-11-27T16:10:34.505Z"
   },
   {
    "duration": 19,
    "start_time": "2021-11-27T16:10:34.533Z"
   },
   {
    "duration": 11,
    "start_time": "2021-11-27T16:10:34.555Z"
   },
   {
    "duration": 10,
    "start_time": "2021-11-27T16:10:34.569Z"
   },
   {
    "duration": 60,
    "start_time": "2021-11-27T16:10:34.582Z"
   },
   {
    "duration": 12,
    "start_time": "2021-11-27T16:10:34.645Z"
   },
   {
    "duration": 52,
    "start_time": "2021-11-27T16:10:34.659Z"
   },
   {
    "duration": 20,
    "start_time": "2021-11-27T16:10:34.714Z"
   },
   {
    "duration": 15,
    "start_time": "2021-11-27T16:10:34.736Z"
   },
   {
    "duration": 9,
    "start_time": "2021-11-27T16:10:34.753Z"
   },
   {
    "duration": 8,
    "start_time": "2021-11-27T16:10:34.764Z"
   },
   {
    "duration": 8,
    "start_time": "2021-11-27T16:10:34.774Z"
   },
   {
    "duration": 421,
    "start_time": "2021-11-27T16:10:34.784Z"
   },
   {
    "duration": 1829,
    "start_time": "2021-11-27T16:10:33.380Z"
   },
   {
    "duration": 1827,
    "start_time": "2021-11-27T16:10:33.384Z"
   },
   {
    "duration": 1822,
    "start_time": "2021-11-27T16:10:33.390Z"
   },
   {
    "duration": 1819,
    "start_time": "2021-11-27T16:10:33.394Z"
   },
   {
    "duration": 1816,
    "start_time": "2021-11-27T16:10:33.399Z"
   },
   {
    "duration": 1813,
    "start_time": "2021-11-27T16:10:33.403Z"
   },
   {
    "duration": 1809,
    "start_time": "2021-11-27T16:10:33.408Z"
   },
   {
    "duration": 1806,
    "start_time": "2021-11-27T16:10:33.412Z"
   },
   {
    "duration": 1803,
    "start_time": "2021-11-27T16:10:33.417Z"
   },
   {
    "duration": 1799,
    "start_time": "2021-11-27T16:10:33.422Z"
   },
   {
    "duration": 1795,
    "start_time": "2021-11-27T16:10:33.428Z"
   },
   {
    "duration": 1792,
    "start_time": "2021-11-27T16:10:33.432Z"
   },
   {
    "duration": 1789,
    "start_time": "2021-11-27T16:10:33.437Z"
   },
   {
    "duration": 1787,
    "start_time": "2021-11-27T16:10:33.441Z"
   },
   {
    "duration": 1760,
    "start_time": "2021-11-27T16:10:33.469Z"
   },
   {
    "duration": 1756,
    "start_time": "2021-11-27T16:10:33.475Z"
   },
   {
    "duration": 1748,
    "start_time": "2021-11-27T16:10:33.484Z"
   },
   {
    "duration": 1746,
    "start_time": "2021-11-27T16:10:33.488Z"
   },
   {
    "duration": 1741,
    "start_time": "2021-11-27T16:10:33.494Z"
   },
   {
    "duration": 1739,
    "start_time": "2021-11-27T16:10:33.498Z"
   },
   {
    "duration": 1736,
    "start_time": "2021-11-27T16:10:33.502Z"
   },
   {
    "duration": 1733,
    "start_time": "2021-11-27T16:10:33.506Z"
   },
   {
    "duration": 1731,
    "start_time": "2021-11-27T16:10:33.510Z"
   },
   {
    "duration": 1728,
    "start_time": "2021-11-27T16:10:33.514Z"
   },
   {
    "duration": 1725,
    "start_time": "2021-11-27T16:10:33.518Z"
   },
   {
    "duration": 1723,
    "start_time": "2021-11-27T16:10:33.522Z"
   },
   {
    "duration": 1721,
    "start_time": "2021-11-27T16:10:33.526Z"
   },
   {
    "duration": 1718,
    "start_time": "2021-11-27T16:10:33.530Z"
   },
   {
    "duration": 1715,
    "start_time": "2021-11-27T16:10:33.534Z"
   },
   {
    "duration": 1713,
    "start_time": "2021-11-27T16:10:33.538Z"
   },
   {
    "duration": 1710,
    "start_time": "2021-11-27T16:10:33.542Z"
   },
   {
    "duration": 1709,
    "start_time": "2021-11-27T16:10:33.545Z"
   },
   {
    "duration": 1699,
    "start_time": "2021-11-27T16:10:33.556Z"
   },
   {
    "duration": 1692,
    "start_time": "2021-11-27T16:10:33.564Z"
   },
   {
    "duration": 1663,
    "start_time": "2021-11-27T16:10:33.595Z"
   },
   {
    "duration": 1655,
    "start_time": "2021-11-27T16:10:33.604Z"
   },
   {
    "duration": 1648,
    "start_time": "2021-11-27T16:10:33.612Z"
   },
   {
    "duration": 1644,
    "start_time": "2021-11-27T16:10:33.618Z"
   },
   {
    "duration": 296,
    "start_time": "2021-11-27T16:11:47.251Z"
   },
   {
    "duration": 288,
    "start_time": "2021-11-27T16:12:13.491Z"
   },
   {
    "duration": 277,
    "start_time": "2021-11-27T16:12:40.290Z"
   },
   {
    "duration": 275,
    "start_time": "2021-11-27T16:13:20.401Z"
   },
   {
    "duration": 1368,
    "start_time": "2021-11-27T16:14:07.623Z"
   },
   {
    "duration": 138,
    "start_time": "2021-11-27T16:14:08.995Z"
   },
   {
    "duration": 27,
    "start_time": "2021-11-27T16:14:09.137Z"
   },
   {
    "duration": 5,
    "start_time": "2021-11-27T16:14:09.167Z"
   },
   {
    "duration": 18,
    "start_time": "2021-11-27T16:14:09.174Z"
   },
   {
    "duration": 39,
    "start_time": "2021-11-27T16:14:09.194Z"
   },
   {
    "duration": 27,
    "start_time": "2021-11-27T16:14:09.235Z"
   },
   {
    "duration": 27,
    "start_time": "2021-11-27T16:14:09.265Z"
   },
   {
    "duration": 11,
    "start_time": "2021-11-27T16:14:09.295Z"
   },
   {
    "duration": 63,
    "start_time": "2021-11-27T16:14:09.308Z"
   },
   {
    "duration": 8,
    "start_time": "2021-11-27T16:14:09.374Z"
   },
   {
    "duration": 9,
    "start_time": "2021-11-27T16:14:09.384Z"
   },
   {
    "duration": 37,
    "start_time": "2021-11-27T16:14:09.396Z"
   },
   {
    "duration": 8,
    "start_time": "2021-11-27T16:14:09.435Z"
   },
   {
    "duration": 13,
    "start_time": "2021-11-27T16:14:09.446Z"
   },
   {
    "duration": 14,
    "start_time": "2021-11-27T16:14:09.462Z"
   },
   {
    "duration": 411,
    "start_time": "2021-11-27T16:14:09.478Z"
   },
   {
    "duration": 1925,
    "start_time": "2021-11-27T16:14:07.969Z"
   },
   {
    "duration": 1917,
    "start_time": "2021-11-27T16:14:07.978Z"
   },
   {
    "duration": 1914,
    "start_time": "2021-11-27T16:14:07.982Z"
   },
   {
    "duration": 1911,
    "start_time": "2021-11-27T16:14:07.987Z"
   },
   {
    "duration": 1906,
    "start_time": "2021-11-27T16:14:07.993Z"
   },
   {
    "duration": 1903,
    "start_time": "2021-11-27T16:14:07.997Z"
   },
   {
    "duration": 1899,
    "start_time": "2021-11-27T16:14:08.002Z"
   },
   {
    "duration": 1896,
    "start_time": "2021-11-27T16:14:08.006Z"
   },
   {
    "duration": 1893,
    "start_time": "2021-11-27T16:14:08.011Z"
   },
   {
    "duration": 1890,
    "start_time": "2021-11-27T16:14:08.015Z"
   },
   {
    "duration": 1887,
    "start_time": "2021-11-27T16:14:08.019Z"
   },
   {
    "duration": 1884,
    "start_time": "2021-11-27T16:14:08.023Z"
   },
   {
    "duration": 1881,
    "start_time": "2021-11-27T16:14:08.027Z"
   },
   {
    "duration": 1879,
    "start_time": "2021-11-27T16:14:08.031Z"
   },
   {
    "duration": 1876,
    "start_time": "2021-11-27T16:14:08.035Z"
   },
   {
    "duration": 1873,
    "start_time": "2021-11-27T16:14:08.039Z"
   },
   {
    "duration": 1870,
    "start_time": "2021-11-27T16:14:08.043Z"
   },
   {
    "duration": 1868,
    "start_time": "2021-11-27T16:14:08.046Z"
   },
   {
    "duration": 1866,
    "start_time": "2021-11-27T16:14:08.050Z"
   },
   {
    "duration": 1863,
    "start_time": "2021-11-27T16:14:08.054Z"
   },
   {
    "duration": 1859,
    "start_time": "2021-11-27T16:14:08.059Z"
   },
   {
    "duration": 1845,
    "start_time": "2021-11-27T16:14:08.074Z"
   },
   {
    "duration": 1839,
    "start_time": "2021-11-27T16:14:08.081Z"
   },
   {
    "duration": 1836,
    "start_time": "2021-11-27T16:14:08.085Z"
   },
   {
    "duration": 1832,
    "start_time": "2021-11-27T16:14:08.091Z"
   },
   {
    "duration": 1829,
    "start_time": "2021-11-27T16:14:08.095Z"
   },
   {
    "duration": 1826,
    "start_time": "2021-11-27T16:14:08.099Z"
   },
   {
    "duration": 1826,
    "start_time": "2021-11-27T16:14:08.103Z"
   },
   {
    "duration": 1823,
    "start_time": "2021-11-27T16:14:08.107Z"
   },
   {
    "duration": 1821,
    "start_time": "2021-11-27T16:14:08.110Z"
   },
   {
    "duration": 1818,
    "start_time": "2021-11-27T16:14:08.114Z"
   },
   {
    "duration": 1816,
    "start_time": "2021-11-27T16:14:08.118Z"
   },
   {
    "duration": 1813,
    "start_time": "2021-11-27T16:14:08.122Z"
   },
   {
    "duration": 1810,
    "start_time": "2021-11-27T16:14:08.126Z"
   },
   {
    "duration": 1807,
    "start_time": "2021-11-27T16:14:08.130Z"
   },
   {
    "duration": 1805,
    "start_time": "2021-11-27T16:14:08.133Z"
   },
   {
    "duration": 1803,
    "start_time": "2021-11-27T16:14:08.137Z"
   },
   {
    "duration": 1800,
    "start_time": "2021-11-27T16:14:08.141Z"
   },
   {
    "duration": 1797,
    "start_time": "2021-11-27T16:14:08.145Z"
   },
   {
    "duration": 7,
    "start_time": "2021-11-27T16:14:48.159Z"
   },
   {
    "duration": 280,
    "start_time": "2021-11-27T16:15:13.497Z"
   },
   {
    "duration": 15,
    "start_time": "2021-11-27T16:15:52.209Z"
   },
   {
    "duration": 5,
    "start_time": "2021-11-27T16:16:00.163Z"
   },
   {
    "duration": 135,
    "start_time": "2021-11-27T16:16:00.170Z"
   },
   {
    "duration": 30,
    "start_time": "2021-11-27T16:16:00.309Z"
   },
   {
    "duration": 5,
    "start_time": "2021-11-27T16:16:00.342Z"
   },
   {
    "duration": 32,
    "start_time": "2021-11-27T16:16:00.349Z"
   },
   {
    "duration": 19,
    "start_time": "2021-11-27T16:16:00.383Z"
   },
   {
    "duration": 35,
    "start_time": "2021-11-27T16:16:00.406Z"
   },
   {
    "duration": 41,
    "start_time": "2021-11-27T16:16:00.444Z"
   },
   {
    "duration": 21,
    "start_time": "2021-11-27T16:16:00.488Z"
   },
   {
    "duration": 56,
    "start_time": "2021-11-27T16:16:00.511Z"
   },
   {
    "duration": 10,
    "start_time": "2021-11-27T16:16:00.569Z"
   },
   {
    "duration": 22,
    "start_time": "2021-11-27T16:16:00.581Z"
   },
   {
    "duration": 24,
    "start_time": "2021-11-27T16:16:00.606Z"
   },
   {
    "duration": 25,
    "start_time": "2021-11-27T16:16:00.633Z"
   },
   {
    "duration": 24,
    "start_time": "2021-11-27T16:16:00.660Z"
   },
   {
    "duration": 25,
    "start_time": "2021-11-27T16:16:00.687Z"
   },
   {
    "duration": 23,
    "start_time": "2021-11-27T16:16:00.715Z"
   },
   {
    "duration": 14,
    "start_time": "2021-11-27T16:16:00.741Z"
   },
   {
    "duration": 21,
    "start_time": "2021-11-27T16:16:00.760Z"
   },
   {
    "duration": 1031,
    "start_time": "2021-11-27T16:16:00.785Z"
   },
   {
    "duration": 1140,
    "start_time": "2021-11-27T16:16:01.819Z"
   },
   {
    "duration": 27,
    "start_time": "2021-11-27T16:16:02.962Z"
   },
   {
    "duration": 640,
    "start_time": "2021-11-27T16:16:02.992Z"
   },
   {
    "duration": 416,
    "start_time": "2021-11-27T16:16:03.635Z"
   },
   {
    "duration": 23,
    "start_time": "2021-11-27T16:16:04.054Z"
   },
   {
    "duration": 52,
    "start_time": "2021-11-27T16:16:04.080Z"
   },
   {
    "duration": 26,
    "start_time": "2021-11-27T16:16:04.135Z"
   },
   {
    "duration": 14,
    "start_time": "2021-11-27T16:16:04.164Z"
   },
   {
    "duration": 453,
    "start_time": "2021-11-27T16:16:04.180Z"
   },
   {
    "duration": 24,
    "start_time": "2021-11-27T16:16:04.635Z"
   },
   {
    "duration": 7,
    "start_time": "2021-11-27T16:16:04.662Z"
   },
   {
    "duration": 20,
    "start_time": "2021-11-27T16:16:04.671Z"
   },
   {
    "duration": 511,
    "start_time": "2021-11-27T16:16:04.693Z"
   },
   {
    "duration": 4,
    "start_time": "2021-11-27T16:16:05.207Z"
   },
   {
    "duration": 692,
    "start_time": "2021-11-27T16:16:05.230Z"
   },
   {
    "duration": 15,
    "start_time": "2021-11-27T16:16:05.925Z"
   },
   {
    "duration": 929,
    "start_time": "2021-11-27T16:16:05.942Z"
   },
   {
    "duration": 9,
    "start_time": "2021-11-27T16:16:06.874Z"
   },
   {
    "duration": 14,
    "start_time": "2021-11-27T16:16:06.885Z"
   },
   {
    "duration": 29,
    "start_time": "2021-11-27T16:16:06.902Z"
   },
   {
    "duration": 15,
    "start_time": "2021-11-27T16:16:06.933Z"
   },
   {
    "duration": 24,
    "start_time": "2021-11-27T16:16:06.951Z"
   },
   {
    "duration": 14,
    "start_time": "2021-11-27T16:16:06.978Z"
   },
   {
    "duration": 465,
    "start_time": "2021-11-27T16:16:06.994Z"
   },
   {
    "duration": 847,
    "start_time": "2021-11-27T16:16:07.462Z"
   },
   {
    "duration": 22,
    "start_time": "2021-11-27T16:16:08.312Z"
   },
   {
    "duration": 13,
    "start_time": "2021-11-27T16:16:08.337Z"
   },
   {
    "duration": 8,
    "start_time": "2021-11-27T16:16:08.352Z"
   },
   {
    "duration": 14,
    "start_time": "2021-11-27T16:16:08.362Z"
   },
   {
    "duration": 375,
    "start_time": "2021-11-27T16:16:08.379Z"
   },
   {
    "duration": 12,
    "start_time": "2021-11-27T16:16:08.757Z"
   },
   {
    "duration": 370,
    "start_time": "2021-11-27T16:16:08.771Z"
   },
   {
    "duration": 337,
    "start_time": "2021-11-27T16:16:09.143Z"
   },
   {
    "duration": 15,
    "start_time": "2021-11-27T16:16:09.482Z"
   },
   {
    "duration": 32,
    "start_time": "2021-11-27T16:16:09.503Z"
   },
   {
    "duration": 12,
    "start_time": "2021-11-27T16:16:09.537Z"
   },
   {
    "duration": 29,
    "start_time": "2021-11-27T16:19:22.909Z"
   },
   {
    "duration": 682,
    "start_time": "2021-11-27T16:22:12.940Z"
   },
   {
    "duration": 837,
    "start_time": "2021-11-27T16:22:27.548Z"
   },
   {
    "duration": 702,
    "start_time": "2021-11-27T16:22:37.720Z"
   },
   {
    "duration": 712,
    "start_time": "2021-11-27T16:22:55.969Z"
   },
   {
    "duration": 17,
    "start_time": "2021-11-27T16:23:51.420Z"
   },
   {
    "duration": 281,
    "start_time": "2021-11-27T16:24:47.681Z"
   },
   {
    "duration": 308,
    "start_time": "2021-11-27T16:24:58.301Z"
   },
   {
    "duration": 327,
    "start_time": "2021-11-27T16:25:05.660Z"
   },
   {
    "duration": 1446,
    "start_time": "2021-11-27T16:26:38.183Z"
   },
   {
    "duration": 121,
    "start_time": "2021-11-27T16:26:39.632Z"
   },
   {
    "duration": 24,
    "start_time": "2021-11-27T16:26:39.756Z"
   },
   {
    "duration": 4,
    "start_time": "2021-11-27T16:26:39.783Z"
   },
   {
    "duration": 39,
    "start_time": "2021-11-27T16:26:39.790Z"
   },
   {
    "duration": 11,
    "start_time": "2021-11-27T16:26:39.831Z"
   },
   {
    "duration": 16,
    "start_time": "2021-11-27T16:26:39.844Z"
   },
   {
    "duration": 24,
    "start_time": "2021-11-27T16:26:39.863Z"
   },
   {
    "duration": 36,
    "start_time": "2021-11-27T16:26:39.898Z"
   },
   {
    "duration": 49,
    "start_time": "2021-11-27T16:26:39.936Z"
   },
   {
    "duration": 8,
    "start_time": "2021-11-27T16:26:39.988Z"
   },
   {
    "duration": 34,
    "start_time": "2021-11-27T16:26:39.998Z"
   },
   {
    "duration": 11,
    "start_time": "2021-11-27T16:26:40.035Z"
   },
   {
    "duration": 10,
    "start_time": "2021-11-27T16:26:40.049Z"
   },
   {
    "duration": 13,
    "start_time": "2021-11-27T16:26:40.061Z"
   },
   {
    "duration": 14,
    "start_time": "2021-11-27T16:26:40.077Z"
   },
   {
    "duration": 44,
    "start_time": "2021-11-27T16:26:40.094Z"
   },
   {
    "duration": 15,
    "start_time": "2021-11-27T16:26:40.141Z"
   },
   {
    "duration": 15,
    "start_time": "2021-11-27T16:26:40.158Z"
   },
   {
    "duration": 1216,
    "start_time": "2021-11-27T16:26:40.175Z"
   },
   {
    "duration": 44,
    "start_time": "2021-11-27T16:26:41.393Z"
   },
   {
    "duration": 621,
    "start_time": "2021-11-27T16:26:41.439Z"
   },
   {
    "duration": 574,
    "start_time": "2021-11-27T16:26:42.065Z"
   },
   {
    "duration": 35,
    "start_time": "2021-11-27T16:26:42.643Z"
   },
   {
    "duration": 68,
    "start_time": "2021-11-27T16:26:42.682Z"
   },
   {
    "duration": 40,
    "start_time": "2021-11-27T16:26:42.753Z"
   },
   {
    "duration": 32,
    "start_time": "2021-11-27T16:26:42.797Z"
   },
   {
    "duration": 466,
    "start_time": "2021-11-27T16:26:42.833Z"
   },
   {
    "duration": 38,
    "start_time": "2021-11-27T16:26:43.301Z"
   },
   {
    "duration": 7,
    "start_time": "2021-11-27T16:26:43.342Z"
   },
   {
    "duration": 14,
    "start_time": "2021-11-27T16:26:43.351Z"
   },
   {
    "duration": 502,
    "start_time": "2021-11-27T16:26:43.368Z"
   },
   {
    "duration": 5,
    "start_time": "2021-11-27T16:26:43.872Z"
   },
   {
    "duration": 785,
    "start_time": "2021-11-27T16:26:43.880Z"
   },
   {
    "duration": 337,
    "start_time": "2021-11-27T16:26:44.667Z"
   },
   {
    "duration": 30,
    "start_time": "2021-11-27T16:26:45.006Z"
   },
   {
    "duration": 920,
    "start_time": "2021-11-27T16:26:45.038Z"
   },
   {
    "duration": 8,
    "start_time": "2021-11-27T16:26:45.961Z"
   },
   {
    "duration": 11,
    "start_time": "2021-11-27T16:26:45.972Z"
   },
   {
    "duration": 11,
    "start_time": "2021-11-27T16:26:45.985Z"
   },
   {
    "duration": 39,
    "start_time": "2021-11-27T16:26:45.999Z"
   },
   {
    "duration": 26,
    "start_time": "2021-11-27T16:26:46.041Z"
   },
   {
    "duration": 15,
    "start_time": "2021-11-27T16:26:46.070Z"
   },
   {
    "duration": 587,
    "start_time": "2021-11-27T16:26:46.089Z"
   },
   {
    "duration": 856,
    "start_time": "2021-11-27T16:26:46.680Z"
   },
   {
    "duration": 14,
    "start_time": "2021-11-27T16:26:47.539Z"
   },
   {
    "duration": 8,
    "start_time": "2021-11-27T16:26:47.556Z"
   },
   {
    "duration": 18,
    "start_time": "2021-11-27T16:26:47.567Z"
   },
   {
    "duration": 43,
    "start_time": "2021-11-27T16:26:47.588Z"
   },
   {
    "duration": 349,
    "start_time": "2021-11-27T16:26:47.633Z"
   },
   {
    "duration": 12,
    "start_time": "2021-11-27T16:26:47.985Z"
   },
   {
    "duration": 481,
    "start_time": "2021-11-27T16:26:48.000Z"
   },
   {
    "duration": 334,
    "start_time": "2021-11-27T16:26:48.483Z"
   },
   {
    "duration": 16,
    "start_time": "2021-11-27T16:26:48.830Z"
   },
   {
    "duration": 15,
    "start_time": "2021-11-27T16:26:48.849Z"
   },
   {
    "duration": 11,
    "start_time": "2021-11-27T16:26:48.866Z"
   },
   {
    "duration": 17,
    "start_time": "2021-11-27T16:27:42.801Z"
   },
   {
    "duration": 24,
    "start_time": "2021-11-27T16:27:50.441Z"
   },
   {
    "duration": 381,
    "start_time": "2021-11-27T16:28:09.430Z"
   },
   {
    "duration": 1371,
    "start_time": "2021-11-27T16:30:48.734Z"
   },
   {
    "duration": 1789,
    "start_time": "2021-11-27T16:31:22.094Z"
   },
   {
    "duration": 1725,
    "start_time": "2021-11-27T16:31:30.344Z"
   },
   {
    "duration": 1302,
    "start_time": "2021-11-27T16:31:54.485Z"
   },
   {
    "duration": 999,
    "start_time": "2021-11-27T16:32:17.994Z"
   },
   {
    "duration": 916,
    "start_time": "2021-11-27T16:33:24.556Z"
   },
   {
    "duration": 868,
    "start_time": "2021-11-27T16:33:31.314Z"
   },
   {
    "duration": 873,
    "start_time": "2021-11-27T16:33:46.394Z"
   },
   {
    "duration": 902,
    "start_time": "2021-11-27T16:34:08.974Z"
   },
   {
    "duration": 160,
    "start_time": "2021-11-27T16:37:29.966Z"
   },
   {
    "duration": 30,
    "start_time": "2021-11-27T16:38:06.738Z"
   },
   {
    "duration": 440,
    "start_time": "2021-11-27T16:38:12.405Z"
   },
   {
    "duration": 31,
    "start_time": "2021-11-27T16:39:30.697Z"
   },
   {
    "duration": 15,
    "start_time": "2021-11-27T16:39:32.370Z"
   },
   {
    "duration": 555,
    "start_time": "2021-11-27T16:39:34.017Z"
   },
   {
    "duration": 773,
    "start_time": "2021-11-27T16:40:20.346Z"
   },
   {
    "duration": 7286,
    "start_time": "2021-11-27T16:41:00.047Z"
   },
   {
    "duration": 6603,
    "start_time": "2021-11-27T16:41:24.737Z"
   },
   {
    "duration": 6565,
    "start_time": "2021-11-27T16:41:53.330Z"
   },
   {
    "duration": 17,
    "start_time": "2021-11-27T16:42:49.780Z"
   },
   {
    "duration": 1376,
    "start_time": "2021-11-27T16:42:55.919Z"
   },
   {
    "duration": 141,
    "start_time": "2021-11-27T16:42:57.298Z"
   },
   {
    "duration": 24,
    "start_time": "2021-11-27T16:42:57.442Z"
   },
   {
    "duration": 8,
    "start_time": "2021-11-27T16:42:57.470Z"
   },
   {
    "duration": 17,
    "start_time": "2021-11-27T16:42:57.481Z"
   },
   {
    "duration": 36,
    "start_time": "2021-11-27T16:42:57.501Z"
   },
   {
    "duration": 13,
    "start_time": "2021-11-27T16:42:57.539Z"
   },
   {
    "duration": 26,
    "start_time": "2021-11-27T16:42:57.558Z"
   },
   {
    "duration": 43,
    "start_time": "2021-11-27T16:42:57.588Z"
   },
   {
    "duration": 45,
    "start_time": "2021-11-27T16:42:57.634Z"
   },
   {
    "duration": 8,
    "start_time": "2021-11-27T16:42:57.681Z"
   },
   {
    "duration": 43,
    "start_time": "2021-11-27T16:42:57.692Z"
   },
   {
    "duration": 9,
    "start_time": "2021-11-27T16:42:57.737Z"
   },
   {
    "duration": 11,
    "start_time": "2021-11-27T16:42:57.748Z"
   },
   {
    "duration": 9,
    "start_time": "2021-11-27T16:42:57.761Z"
   },
   {
    "duration": 7,
    "start_time": "2021-11-27T16:42:57.773Z"
   },
   {
    "duration": 56,
    "start_time": "2021-11-27T16:42:57.783Z"
   },
   {
    "duration": 12,
    "start_time": "2021-11-27T16:42:57.841Z"
   },
   {
    "duration": 14,
    "start_time": "2021-11-27T16:42:57.855Z"
   },
   {
    "duration": 1221,
    "start_time": "2021-11-27T16:42:57.872Z"
   },
   {
    "duration": 43,
    "start_time": "2021-11-27T16:42:59.096Z"
   },
   {
    "duration": 988,
    "start_time": "2021-11-27T16:42:59.141Z"
   },
   {
    "duration": 754,
    "start_time": "2021-11-27T16:43:00.138Z"
   },
   {
    "duration": 49,
    "start_time": "2021-11-27T16:43:00.896Z"
   },
   {
    "duration": 46,
    "start_time": "2021-11-27T16:43:00.948Z"
   },
   {
    "duration": 51,
    "start_time": "2021-11-27T16:43:00.997Z"
   },
   {
    "duration": 15,
    "start_time": "2021-11-27T16:43:01.051Z"
   },
   {
    "duration": 460,
    "start_time": "2021-11-27T16:43:01.069Z"
   },
   {
    "duration": 25,
    "start_time": "2021-11-27T16:43:01.532Z"
   },
   {
    "duration": 8,
    "start_time": "2021-11-27T16:43:01.560Z"
   },
   {
    "duration": 18,
    "start_time": "2021-11-27T16:43:01.570Z"
   },
   {
    "duration": 518,
    "start_time": "2021-11-27T16:43:01.591Z"
   },
   {
    "duration": 5,
    "start_time": "2021-11-27T16:43:02.111Z"
   },
   {
    "duration": 782,
    "start_time": "2021-11-27T16:43:02.119Z"
   },
   {
    "duration": 28,
    "start_time": "2021-11-27T16:43:02.903Z"
   },
   {
    "duration": 937,
    "start_time": "2021-11-27T16:43:02.934Z"
   },
   {
    "duration": 30,
    "start_time": "2021-11-27T16:43:03.874Z"
   },
   {
    "duration": 28,
    "start_time": "2021-11-27T16:43:03.907Z"
   },
   {
    "duration": 457,
    "start_time": "2021-11-27T16:43:03.938Z"
   },
   {
    "duration": 766,
    "start_time": "2021-11-27T16:43:04.397Z"
   },
   {
    "duration": 14,
    "start_time": "2021-11-27T16:43:05.165Z"
   },
   {
    "duration": 10,
    "start_time": "2021-11-27T16:43:05.181Z"
   },
   {
    "duration": 40,
    "start_time": "2021-11-27T16:43:05.193Z"
   },
   {
    "duration": 7,
    "start_time": "2021-11-27T16:43:05.235Z"
   },
   {
    "duration": 476,
    "start_time": "2021-11-27T16:43:05.244Z"
   },
   {
    "duration": 17,
    "start_time": "2021-11-27T16:43:05.722Z"
   },
   {
    "duration": 461,
    "start_time": "2021-11-27T16:43:05.741Z"
   },
   {
    "duration": 333,
    "start_time": "2021-11-27T16:43:06.205Z"
   },
   {
    "duration": 15,
    "start_time": "2021-11-27T16:43:06.540Z"
   },
   {
    "duration": 18,
    "start_time": "2021-11-27T16:43:06.558Z"
   },
   {
    "duration": 12,
    "start_time": "2021-11-27T16:43:06.578Z"
   },
   {
    "duration": 13,
    "start_time": "2021-11-27T16:45:16.001Z"
   },
   {
    "duration": 342,
    "start_time": "2021-11-27T16:45:18.200Z"
   },
   {
    "duration": 343,
    "start_time": "2021-11-27T16:45:27.848Z"
   },
   {
    "duration": 722,
    "start_time": "2021-11-27T16:45:44.820Z"
   },
   {
    "duration": 15,
    "start_time": "2021-11-27T16:47:57.491Z"
   },
   {
    "duration": 16,
    "start_time": "2021-11-27T16:49:26.800Z"
   },
   {
    "duration": 21,
    "start_time": "2021-11-27T16:49:54.121Z"
   },
   {
    "duration": 1429,
    "start_time": "2021-11-27T16:53:41.078Z"
   },
   {
    "duration": 194,
    "start_time": "2021-11-27T16:53:42.510Z"
   },
   {
    "duration": 37,
    "start_time": "2021-11-27T16:53:42.707Z"
   },
   {
    "duration": 20,
    "start_time": "2021-11-27T16:53:42.748Z"
   },
   {
    "duration": 24,
    "start_time": "2021-11-27T16:53:42.771Z"
   },
   {
    "duration": 11,
    "start_time": "2021-11-27T16:53:42.797Z"
   },
   {
    "duration": 23,
    "start_time": "2021-11-27T16:53:42.810Z"
   },
   {
    "duration": 32,
    "start_time": "2021-11-27T16:53:42.838Z"
   },
   {
    "duration": 12,
    "start_time": "2021-11-27T16:53:42.873Z"
   },
   {
    "duration": 73,
    "start_time": "2021-11-27T16:53:42.887Z"
   },
   {
    "duration": 8,
    "start_time": "2021-11-27T16:53:42.963Z"
   },
   {
    "duration": 17,
    "start_time": "2021-11-27T16:53:42.973Z"
   },
   {
    "duration": 18,
    "start_time": "2021-11-27T16:53:42.992Z"
   },
   {
    "duration": 10,
    "start_time": "2021-11-27T16:53:43.030Z"
   },
   {
    "duration": 16,
    "start_time": "2021-11-27T16:53:43.042Z"
   },
   {
    "duration": 13,
    "start_time": "2021-11-27T16:53:43.060Z"
   },
   {
    "duration": 20,
    "start_time": "2021-11-27T16:53:43.075Z"
   },
   {
    "duration": 12,
    "start_time": "2021-11-27T16:53:43.128Z"
   },
   {
    "duration": 12,
    "start_time": "2021-11-27T16:53:43.143Z"
   },
   {
    "duration": 1332,
    "start_time": "2021-11-27T16:53:43.157Z"
   },
   {
    "duration": 48,
    "start_time": "2021-11-27T16:53:44.492Z"
   },
   {
    "duration": 858,
    "start_time": "2021-11-27T16:53:44.543Z"
   },
   {
    "duration": 510,
    "start_time": "2021-11-27T16:53:45.406Z"
   },
   {
    "duration": 38,
    "start_time": "2021-11-27T16:53:45.919Z"
   },
   {
    "duration": 50,
    "start_time": "2021-11-27T16:53:45.959Z"
   },
   {
    "duration": 78,
    "start_time": "2021-11-27T16:53:46.011Z"
   },
   {
    "duration": 13,
    "start_time": "2021-11-27T16:53:46.093Z"
   },
   {
    "duration": 490,
    "start_time": "2021-11-27T16:53:46.109Z"
   },
   {
    "duration": 49,
    "start_time": "2021-11-27T16:53:46.602Z"
   },
   {
    "duration": 36,
    "start_time": "2021-11-27T16:53:46.655Z"
   },
   {
    "duration": 63,
    "start_time": "2021-11-27T16:53:46.694Z"
   },
   {
    "duration": 587,
    "start_time": "2021-11-27T16:53:46.760Z"
   },
   {
    "duration": 11,
    "start_time": "2021-11-27T16:53:47.350Z"
   },
   {
    "duration": 856,
    "start_time": "2021-11-27T16:53:47.364Z"
   },
   {
    "duration": 23,
    "start_time": "2021-11-27T16:53:48.230Z"
   },
   {
    "duration": 917,
    "start_time": "2021-11-27T16:53:48.256Z"
   },
   {
    "duration": 64,
    "start_time": "2021-11-27T16:53:49.176Z"
   },
   {
    "duration": 17,
    "start_time": "2021-11-27T16:53:49.243Z"
   },
   {
    "duration": 567,
    "start_time": "2021-11-27T16:53:49.262Z"
   },
   {
    "duration": 797,
    "start_time": "2021-11-27T16:53:49.832Z"
   },
   {
    "duration": 15,
    "start_time": "2021-11-27T16:53:50.632Z"
   },
   {
    "duration": 9,
    "start_time": "2021-11-27T16:53:50.650Z"
   },
   {
    "duration": 24,
    "start_time": "2021-11-27T16:53:50.662Z"
   },
   {
    "duration": 26,
    "start_time": "2021-11-27T16:53:50.689Z"
   },
   {
    "duration": 476,
    "start_time": "2021-11-27T16:53:50.729Z"
   },
   {
    "duration": 24,
    "start_time": "2021-11-27T16:53:51.207Z"
   },
   {
    "duration": 739,
    "start_time": "2021-11-27T16:53:51.234Z"
   },
   {
    "duration": 487,
    "start_time": "2021-11-27T16:53:51.976Z"
   },
   {
    "duration": 21,
    "start_time": "2021-11-27T16:53:52.466Z"
   },
   {
    "duration": 39,
    "start_time": "2021-11-27T16:53:52.489Z"
   },
   {
    "duration": 13,
    "start_time": "2021-11-27T17:02:03.205Z"
   },
   {
    "duration": 1477,
    "start_time": "2021-11-27T17:28:52.229Z"
   },
   {
    "duration": 154,
    "start_time": "2021-11-27T17:28:53.708Z"
   },
   {
    "duration": 25,
    "start_time": "2021-11-27T17:28:53.865Z"
   },
   {
    "duration": 6,
    "start_time": "2021-11-27T17:28:53.893Z"
   },
   {
    "duration": 37,
    "start_time": "2021-11-27T17:28:53.901Z"
   },
   {
    "duration": 21,
    "start_time": "2021-11-27T17:28:53.941Z"
   },
   {
    "duration": 14,
    "start_time": "2021-11-27T17:28:53.964Z"
   },
   {
    "duration": 40,
    "start_time": "2021-11-27T17:28:53.981Z"
   },
   {
    "duration": 13,
    "start_time": "2021-11-27T17:28:54.025Z"
   },
   {
    "duration": 45,
    "start_time": "2021-11-27T17:28:54.041Z"
   },
   {
    "duration": 9,
    "start_time": "2021-11-27T17:28:54.088Z"
   },
   {
    "duration": 13,
    "start_time": "2021-11-27T17:28:54.128Z"
   },
   {
    "duration": 10,
    "start_time": "2021-11-27T17:28:54.143Z"
   },
   {
    "duration": 8,
    "start_time": "2021-11-27T17:28:54.155Z"
   },
   {
    "duration": 12,
    "start_time": "2021-11-27T17:28:54.165Z"
   },
   {
    "duration": 52,
    "start_time": "2021-11-27T17:28:54.180Z"
   },
   {
    "duration": 12,
    "start_time": "2021-11-27T17:28:54.234Z"
   },
   {
    "duration": 14,
    "start_time": "2021-11-27T17:28:54.248Z"
   },
   {
    "duration": 11,
    "start_time": "2021-11-27T17:28:54.264Z"
   },
   {
    "duration": 1206,
    "start_time": "2021-11-27T17:28:54.277Z"
   },
   {
    "duration": 46,
    "start_time": "2021-11-27T17:28:55.486Z"
   },
   {
    "duration": 653,
    "start_time": "2021-11-27T17:28:55.535Z"
   },
   {
    "duration": 413,
    "start_time": "2021-11-27T17:28:56.191Z"
   },
   {
    "duration": 31,
    "start_time": "2021-11-27T17:28:56.606Z"
   },
   {
    "duration": 27,
    "start_time": "2021-11-27T17:28:56.639Z"
   },
   {
    "duration": 25,
    "start_time": "2021-11-27T17:28:56.668Z"
   },
   {
    "duration": 37,
    "start_time": "2021-11-27T17:28:56.698Z"
   },
   {
    "duration": 439,
    "start_time": "2021-11-27T17:28:56.738Z"
   },
   {
    "duration": 26,
    "start_time": "2021-11-27T17:28:57.180Z"
   },
   {
    "duration": 24,
    "start_time": "2021-11-27T17:28:57.209Z"
   },
   {
    "duration": 14,
    "start_time": "2021-11-27T17:28:57.237Z"
   },
   {
    "duration": 511,
    "start_time": "2021-11-27T17:28:57.253Z"
   },
   {
    "duration": 4,
    "start_time": "2021-11-27T17:28:57.766Z"
   },
   {
    "duration": 794,
    "start_time": "2021-11-27T17:28:57.773Z"
   },
   {
    "duration": 17,
    "start_time": "2021-11-27T17:28:58.570Z"
   },
   {
    "duration": 896,
    "start_time": "2021-11-27T17:28:58.589Z"
   },
   {
    "duration": 41,
    "start_time": "2021-11-27T17:28:59.488Z"
   },
   {
    "duration": 13,
    "start_time": "2021-11-27T17:28:59.532Z"
   },
   {
    "duration": 555,
    "start_time": "2021-11-27T17:28:59.547Z"
   },
   {
    "duration": 774,
    "start_time": "2021-11-27T17:29:00.105Z"
   },
   {
    "duration": 14,
    "start_time": "2021-11-27T17:29:00.881Z"
   },
   {
    "duration": 36,
    "start_time": "2021-11-27T17:29:00.897Z"
   },
   {
    "duration": 24,
    "start_time": "2021-11-27T17:29:00.935Z"
   },
   {
    "duration": 26,
    "start_time": "2021-11-27T17:29:00.962Z"
   },
   {
    "duration": 530,
    "start_time": "2021-11-27T17:29:00.991Z"
   },
   {
    "duration": 14,
    "start_time": "2021-11-27T17:29:01.530Z"
   },
   {
    "duration": 639,
    "start_time": "2021-11-27T17:29:01.546Z"
   },
   {
    "duration": 404,
    "start_time": "2021-11-27T17:29:02.188Z"
   },
   {
    "duration": 15,
    "start_time": "2021-11-27T17:29:02.594Z"
   },
   {
    "duration": 33,
    "start_time": "2021-11-27T17:29:02.612Z"
   },
   {
    "duration": 13,
    "start_time": "2021-11-27T17:37:30.227Z"
   },
   {
    "duration": 100,
    "start_time": "2021-11-27T17:38:10.668Z"
   },
   {
    "duration": 15,
    "start_time": "2021-11-27T17:38:25.140Z"
   },
   {
    "duration": 1444,
    "start_time": "2021-11-27T17:42:58.550Z"
   },
   {
    "duration": 135,
    "start_time": "2021-11-27T17:42:59.997Z"
   },
   {
    "duration": 25,
    "start_time": "2021-11-27T17:43:00.135Z"
   },
   {
    "duration": 10,
    "start_time": "2021-11-27T17:43:00.162Z"
   },
   {
    "duration": 21,
    "start_time": "2021-11-27T17:43:00.174Z"
   },
   {
    "duration": 32,
    "start_time": "2021-11-27T17:43:00.197Z"
   },
   {
    "duration": 9,
    "start_time": "2021-11-27T17:43:00.231Z"
   },
   {
    "duration": 33,
    "start_time": "2021-11-27T17:43:00.244Z"
   },
   {
    "duration": 11,
    "start_time": "2021-11-27T17:43:00.280Z"
   },
   {
    "duration": 72,
    "start_time": "2021-11-27T17:43:00.294Z"
   },
   {
    "duration": 8,
    "start_time": "2021-11-27T17:43:00.369Z"
   },
   {
    "duration": 17,
    "start_time": "2021-11-27T17:43:00.380Z"
   },
   {
    "duration": 30,
    "start_time": "2021-11-27T17:43:00.400Z"
   },
   {
    "duration": 9,
    "start_time": "2021-11-27T17:43:00.433Z"
   },
   {
    "duration": 27,
    "start_time": "2021-11-27T17:43:00.444Z"
   },
   {
    "duration": 18,
    "start_time": "2021-11-27T17:43:00.473Z"
   },
   {
    "duration": 15,
    "start_time": "2021-11-27T17:43:00.493Z"
   },
   {
    "duration": 24,
    "start_time": "2021-11-27T17:43:00.511Z"
   },
   {
    "duration": 1221,
    "start_time": "2021-11-27T17:43:00.537Z"
   },
   {
    "duration": 29,
    "start_time": "2021-11-27T17:43:01.761Z"
   },
   {
    "duration": 686,
    "start_time": "2021-11-27T17:43:01.794Z"
   },
   {
    "duration": 463,
    "start_time": "2021-11-27T17:43:02.483Z"
   },
   {
    "duration": 24,
    "start_time": "2021-11-27T17:43:02.952Z"
   },
   {
    "duration": 61,
    "start_time": "2021-11-27T17:43:02.979Z"
   },
   {
    "duration": 33,
    "start_time": "2021-11-27T17:43:03.043Z"
   },
   {
    "duration": 14,
    "start_time": "2021-11-27T17:43:03.079Z"
   },
   {
    "duration": 485,
    "start_time": "2021-11-27T17:43:03.096Z"
   },
   {
    "duration": 25,
    "start_time": "2021-11-27T17:43:03.584Z"
   },
   {
    "duration": 7,
    "start_time": "2021-11-27T17:43:03.630Z"
   },
   {
    "duration": 16,
    "start_time": "2021-11-27T17:43:03.640Z"
   },
   {
    "duration": 500,
    "start_time": "2021-11-27T17:43:03.659Z"
   },
   {
    "duration": 6,
    "start_time": "2021-11-27T17:43:04.162Z"
   },
   {
    "duration": 1136,
    "start_time": "2021-11-27T17:43:04.171Z"
   },
   {
    "duration": 28,
    "start_time": "2021-11-27T17:43:05.310Z"
   },
   {
    "duration": 942,
    "start_time": "2021-11-27T17:43:05.341Z"
   },
   {
    "duration": 43,
    "start_time": "2021-11-27T17:43:06.286Z"
   },
   {
    "duration": 14,
    "start_time": "2021-11-27T17:43:06.331Z"
   },
   {
    "duration": 549,
    "start_time": "2021-11-27T17:43:06.348Z"
   },
   {
    "duration": 751,
    "start_time": "2021-11-27T17:43:06.899Z"
   },
   {
    "duration": 12,
    "start_time": "2021-11-27T17:43:07.652Z"
   },
   {
    "duration": 12,
    "start_time": "2021-11-27T17:43:07.666Z"
   },
   {
    "duration": 12,
    "start_time": "2021-11-27T17:43:07.681Z"
   },
   {
    "duration": 35,
    "start_time": "2021-11-27T17:43:07.695Z"
   },
   {
    "duration": 445,
    "start_time": "2021-11-27T17:43:07.733Z"
   },
   {
    "duration": 14,
    "start_time": "2021-11-27T17:43:08.180Z"
   },
   {
    "duration": 605,
    "start_time": "2021-11-27T17:43:08.196Z"
   },
   {
    "duration": 335,
    "start_time": "2021-11-27T17:43:08.803Z"
   },
   {
    "duration": 15,
    "start_time": "2021-11-27T17:43:09.140Z"
   },
   {
    "duration": 17,
    "start_time": "2021-11-27T17:43:09.157Z"
   },
   {
    "duration": 1336,
    "start_time": "2021-11-28T10:08:04.176Z"
   },
   {
    "duration": 2297,
    "start_time": "2021-11-28T10:08:05.514Z"
   },
   {
    "duration": 24,
    "start_time": "2021-11-28T10:08:07.814Z"
   },
   {
    "duration": 5,
    "start_time": "2021-11-28T10:08:07.841Z"
   },
   {
    "duration": 24,
    "start_time": "2021-11-28T10:08:07.848Z"
   },
   {
    "duration": 14,
    "start_time": "2021-11-28T10:08:07.875Z"
   },
   {
    "duration": 16,
    "start_time": "2021-11-28T10:08:07.893Z"
   },
   {
    "duration": 53,
    "start_time": "2021-11-28T10:08:07.912Z"
   },
   {
    "duration": 13,
    "start_time": "2021-11-28T10:08:07.971Z"
   },
   {
    "duration": 44,
    "start_time": "2021-11-28T10:08:07.988Z"
   },
   {
    "duration": 31,
    "start_time": "2021-11-28T10:08:08.035Z"
   },
   {
    "duration": 10,
    "start_time": "2021-11-28T10:08:08.069Z"
   },
   {
    "duration": 9,
    "start_time": "2021-11-28T10:08:08.081Z"
   },
   {
    "duration": 7,
    "start_time": "2021-11-28T10:08:08.093Z"
   },
   {
    "duration": 58,
    "start_time": "2021-11-28T10:08:08.102Z"
   },
   {
    "duration": 13,
    "start_time": "2021-11-28T10:08:08.162Z"
   },
   {
    "duration": 8,
    "start_time": "2021-11-28T10:08:08.177Z"
   },
   {
    "duration": 11,
    "start_time": "2021-11-28T10:08:08.188Z"
   },
   {
    "duration": 1337,
    "start_time": "2021-11-28T10:08:08.201Z"
   },
   {
    "duration": 32,
    "start_time": "2021-11-28T10:08:09.541Z"
   },
   {
    "duration": 637,
    "start_time": "2021-11-28T10:08:09.576Z"
   },
   {
    "duration": 419,
    "start_time": "2021-11-28T10:08:10.215Z"
   },
   {
    "duration": 35,
    "start_time": "2021-11-28T10:08:10.636Z"
   },
   {
    "duration": 29,
    "start_time": "2021-11-28T10:08:10.674Z"
   },
   {
    "duration": 25,
    "start_time": "2021-11-28T10:08:10.705Z"
   },
   {
    "duration": 33,
    "start_time": "2021-11-28T10:08:10.732Z"
   },
   {
    "duration": 636,
    "start_time": "2021-11-28T10:08:10.774Z"
   },
   {
    "duration": 45,
    "start_time": "2021-11-28T10:08:11.414Z"
   },
   {
    "duration": 9,
    "start_time": "2021-11-28T10:08:11.462Z"
   },
   {
    "duration": 15,
    "start_time": "2021-11-28T10:08:11.475Z"
   },
   {
    "duration": 517,
    "start_time": "2021-11-28T10:08:11.493Z"
   },
   {
    "duration": 6,
    "start_time": "2021-11-28T10:08:12.013Z"
   },
   {
    "duration": 786,
    "start_time": "2021-11-28T10:08:12.022Z"
   },
   {
    "duration": 20,
    "start_time": "2021-11-28T10:08:12.811Z"
   },
   {
    "duration": 978,
    "start_time": "2021-11-28T10:08:12.834Z"
   },
   {
    "duration": 45,
    "start_time": "2021-11-28T10:08:13.814Z"
   },
   {
    "duration": 17,
    "start_time": "2021-11-28T10:08:13.862Z"
   },
   {
    "duration": 473,
    "start_time": "2021-11-28T10:08:13.882Z"
   },
   {
    "duration": 771,
    "start_time": "2021-11-28T10:08:14.360Z"
   },
   {
    "duration": 27,
    "start_time": "2021-11-28T10:08:15.134Z"
   },
   {
    "duration": 10,
    "start_time": "2021-11-28T10:08:15.163Z"
   },
   {
    "duration": 15,
    "start_time": "2021-11-28T10:08:15.175Z"
   },
   {
    "duration": 8,
    "start_time": "2021-11-28T10:08:15.192Z"
   },
   {
    "duration": 509,
    "start_time": "2021-11-28T10:08:15.202Z"
   },
   {
    "duration": 15,
    "start_time": "2021-11-28T10:08:15.714Z"
   },
   {
    "duration": 684,
    "start_time": "2021-11-28T10:08:15.732Z"
   },
   {
    "duration": 347,
    "start_time": "2021-11-28T10:08:16.419Z"
   },
   {
    "duration": 19,
    "start_time": "2021-11-28T10:08:16.769Z"
   },
   {
    "duration": 19,
    "start_time": "2021-11-28T10:08:16.791Z"
   },
   {
    "duration": 1319,
    "start_time": "2021-11-28T10:52:01.000Z"
   },
   {
    "duration": 298,
    "start_time": "2021-11-28T10:52:02.322Z"
   },
   {
    "duration": 23,
    "start_time": "2021-11-28T10:52:02.623Z"
   },
   {
    "duration": 5,
    "start_time": "2021-11-28T10:52:02.650Z"
   },
   {
    "duration": 19,
    "start_time": "2021-11-28T10:52:02.658Z"
   },
   {
    "duration": 11,
    "start_time": "2021-11-28T10:52:02.680Z"
   },
   {
    "duration": 14,
    "start_time": "2021-11-28T10:52:02.694Z"
   },
   {
    "duration": 52,
    "start_time": "2021-11-28T10:52:02.714Z"
   },
   {
    "duration": 12,
    "start_time": "2021-11-28T10:52:02.769Z"
   },
   {
    "duration": 43,
    "start_time": "2021-11-28T10:52:02.783Z"
   },
   {
    "duration": 36,
    "start_time": "2021-11-28T10:52:02.828Z"
   },
   {
    "duration": 8,
    "start_time": "2021-11-28T10:52:02.867Z"
   },
   {
    "duration": 8,
    "start_time": "2021-11-28T10:52:02.878Z"
   },
   {
    "duration": 11,
    "start_time": "2021-11-28T10:52:02.888Z"
   },
   {
    "duration": 7,
    "start_time": "2021-11-28T10:52:02.901Z"
   },
   {
    "duration": 54,
    "start_time": "2021-11-28T10:52:02.911Z"
   },
   {
    "duration": 9,
    "start_time": "2021-11-28T10:52:02.968Z"
   },
   {
    "duration": 13,
    "start_time": "2021-11-28T10:52:02.979Z"
   },
   {
    "duration": 1218,
    "start_time": "2021-11-28T10:52:02.994Z"
   },
   {
    "duration": 45,
    "start_time": "2021-11-28T10:52:04.214Z"
   },
   {
    "duration": 723,
    "start_time": "2021-11-28T10:52:04.261Z"
   },
   {
    "duration": 423,
    "start_time": "2021-11-28T10:52:04.987Z"
   },
   {
    "duration": 22,
    "start_time": "2021-11-28T10:52:05.415Z"
   },
   {
    "duration": 42,
    "start_time": "2021-11-28T10:52:05.440Z"
   },
   {
    "duration": 24,
    "start_time": "2021-11-28T10:52:05.485Z"
   },
   {
    "duration": 9,
    "start_time": "2021-11-28T10:52:05.512Z"
   },
   {
    "duration": 573,
    "start_time": "2021-11-28T10:52:05.523Z"
   },
   {
    "duration": 26,
    "start_time": "2021-11-28T10:52:06.099Z"
   },
   {
    "duration": 8,
    "start_time": "2021-11-28T10:52:06.127Z"
   },
   {
    "duration": 37,
    "start_time": "2021-11-28T10:52:06.137Z"
   },
   {
    "duration": 503,
    "start_time": "2021-11-28T10:52:06.176Z"
   },
   {
    "duration": 4,
    "start_time": "2021-11-28T10:52:06.682Z"
   },
   {
    "duration": 780,
    "start_time": "2021-11-28T10:52:06.689Z"
   },
   {
    "duration": 18,
    "start_time": "2021-11-28T10:52:07.471Z"
   },
   {
    "duration": 916,
    "start_time": "2021-11-28T10:52:07.491Z"
   },
   {
    "duration": 29,
    "start_time": "2021-11-28T10:52:08.409Z"
   },
   {
    "duration": 30,
    "start_time": "2021-11-28T10:52:08.440Z"
   },
   {
    "duration": 460,
    "start_time": "2021-11-28T10:52:08.473Z"
   },
   {
    "duration": 889,
    "start_time": "2021-11-28T10:52:08.935Z"
   },
   {
    "duration": 13,
    "start_time": "2021-11-28T10:52:09.826Z"
   },
   {
    "duration": 22,
    "start_time": "2021-11-28T10:52:09.842Z"
   },
   {
    "duration": 11,
    "start_time": "2021-11-28T10:52:09.867Z"
   },
   {
    "duration": 9,
    "start_time": "2021-11-28T10:52:09.881Z"
   },
   {
    "duration": 489,
    "start_time": "2021-11-28T10:52:09.893Z"
   },
   {
    "duration": 15,
    "start_time": "2021-11-28T10:52:10.384Z"
   },
   {
    "duration": 665,
    "start_time": "2021-11-28T10:52:10.402Z"
   },
   {
    "duration": 349,
    "start_time": "2021-11-28T10:52:11.070Z"
   },
   {
    "duration": 38,
    "start_time": "2021-11-28T10:52:11.422Z"
   },
   {
    "duration": 17,
    "start_time": "2021-11-28T10:52:11.462Z"
   },
   {
    "duration": 5,
    "start_time": "2021-11-28T10:55:32.248Z"
   },
   {
    "duration": 168,
    "start_time": "2021-11-28T10:55:32.255Z"
   },
   {
    "duration": 24,
    "start_time": "2021-11-28T10:55:32.427Z"
   },
   {
    "duration": 5,
    "start_time": "2021-11-28T10:55:32.460Z"
   },
   {
    "duration": 19,
    "start_time": "2021-11-28T10:55:32.468Z"
   },
   {
    "duration": 10,
    "start_time": "2021-11-28T10:55:32.490Z"
   },
   {
    "duration": 53,
    "start_time": "2021-11-28T10:55:32.506Z"
   },
   {
    "duration": 25,
    "start_time": "2021-11-28T10:55:32.564Z"
   },
   {
    "duration": 15,
    "start_time": "2021-11-28T10:55:32.592Z"
   },
   {
    "duration": 85,
    "start_time": "2021-11-28T10:55:32.610Z"
   },
   {
    "duration": 9,
    "start_time": "2021-11-28T10:55:32.699Z"
   },
   {
    "duration": 11,
    "start_time": "2021-11-28T10:55:32.711Z"
   },
   {
    "duration": 44,
    "start_time": "2021-11-28T10:55:32.725Z"
   },
   {
    "duration": 9,
    "start_time": "2021-11-28T10:55:32.772Z"
   },
   {
    "duration": 8,
    "start_time": "2021-11-28T10:55:32.783Z"
   },
   {
    "duration": 13,
    "start_time": "2021-11-28T10:55:32.793Z"
   },
   {
    "duration": 51,
    "start_time": "2021-11-28T10:55:32.809Z"
   },
   {
    "duration": 11,
    "start_time": "2021-11-28T10:55:32.863Z"
   },
   {
    "duration": 1066,
    "start_time": "2021-11-28T10:55:32.880Z"
   },
   {
    "duration": 34,
    "start_time": "2021-11-28T10:55:33.949Z"
   },
   {
    "duration": 632,
    "start_time": "2021-11-28T10:55:33.986Z"
   },
   {
    "duration": 513,
    "start_time": "2021-11-28T10:55:34.621Z"
   },
   {
    "duration": 36,
    "start_time": "2021-11-28T10:55:35.136Z"
   },
   {
    "duration": 30,
    "start_time": "2021-11-28T10:55:35.174Z"
   },
   {
    "duration": 54,
    "start_time": "2021-11-28T10:55:35.206Z"
   },
   {
    "duration": 9,
    "start_time": "2021-11-28T10:55:35.263Z"
   },
   {
    "duration": 449,
    "start_time": "2021-11-28T10:55:35.274Z"
   },
   {
    "duration": 9356,
    "start_time": "2021-11-28T10:55:35.725Z"
   },
   {
    "duration": -78,
    "start_time": "2021-11-28T10:55:45.162Z"
   },
   {
    "duration": -82,
    "start_time": "2021-11-28T10:55:45.167Z"
   },
   {
    "duration": -85,
    "start_time": "2021-11-28T10:55:45.171Z"
   },
   {
    "duration": -89,
    "start_time": "2021-11-28T10:55:45.177Z"
   },
   {
    "duration": -92,
    "start_time": "2021-11-28T10:55:45.181Z"
   },
   {
    "duration": -95,
    "start_time": "2021-11-28T10:55:45.185Z"
   },
   {
    "duration": -98,
    "start_time": "2021-11-28T10:55:45.189Z"
   },
   {
    "duration": -102,
    "start_time": "2021-11-28T10:55:45.195Z"
   },
   {
    "duration": -106,
    "start_time": "2021-11-28T10:55:45.200Z"
   },
   {
    "duration": -110,
    "start_time": "2021-11-28T10:55:45.205Z"
   },
   {
    "duration": -112,
    "start_time": "2021-11-28T10:55:45.209Z"
   },
   {
    "duration": -116,
    "start_time": "2021-11-28T10:55:45.214Z"
   },
   {
    "duration": -120,
    "start_time": "2021-11-28T10:55:45.219Z"
   },
   {
    "duration": -123,
    "start_time": "2021-11-28T10:55:45.223Z"
   },
   {
    "duration": -126,
    "start_time": "2021-11-28T10:55:45.227Z"
   },
   {
    "duration": -129,
    "start_time": "2021-11-28T10:55:45.232Z"
   },
   {
    "duration": -133,
    "start_time": "2021-11-28T10:55:45.237Z"
   },
   {
    "duration": -136,
    "start_time": "2021-11-28T10:55:45.241Z"
   },
   {
    "duration": -139,
    "start_time": "2021-11-28T10:55:45.245Z"
   },
   {
    "duration": -143,
    "start_time": "2021-11-28T10:55:45.250Z"
   },
   {
    "duration": -145,
    "start_time": "2021-11-28T10:55:45.254Z"
   },
   {
    "duration": 684,
    "start_time": "2021-11-28T10:57:52.546Z"
   },
   {
    "duration": 1296,
    "start_time": "2021-11-28T10:59:06.815Z"
   },
   {
    "duration": 485,
    "start_time": "2021-11-28T10:59:08.113Z"
   },
   {
    "duration": 25,
    "start_time": "2021-11-28T10:59:08.601Z"
   },
   {
    "duration": 6,
    "start_time": "2021-11-28T10:59:08.628Z"
   },
   {
    "duration": 32,
    "start_time": "2021-11-28T10:59:08.636Z"
   },
   {
    "duration": 14,
    "start_time": "2021-11-28T10:59:08.670Z"
   },
   {
    "duration": 14,
    "start_time": "2021-11-28T10:59:08.687Z"
   },
   {
    "duration": 26,
    "start_time": "2021-11-28T10:59:08.705Z"
   },
   {
    "duration": 12,
    "start_time": "2021-11-28T10:59:08.759Z"
   },
   {
    "duration": 40,
    "start_time": "2021-11-28T10:59:08.774Z"
   },
   {
    "duration": 8,
    "start_time": "2021-11-28T10:59:08.816Z"
   },
   {
    "duration": 38,
    "start_time": "2021-11-28T10:59:08.826Z"
   },
   {
    "duration": 8,
    "start_time": "2021-11-28T10:59:08.867Z"
   },
   {
    "duration": 7,
    "start_time": "2021-11-28T10:59:08.877Z"
   },
   {
    "duration": 8,
    "start_time": "2021-11-28T10:59:08.887Z"
   },
   {
    "duration": 14,
    "start_time": "2021-11-28T10:59:08.897Z"
   },
   {
    "duration": 50,
    "start_time": "2021-11-28T10:59:08.913Z"
   },
   {
    "duration": 8,
    "start_time": "2021-11-28T10:59:08.966Z"
   },
   {
    "duration": 1287,
    "start_time": "2021-11-28T10:59:08.976Z"
   },
   {
    "duration": 694,
    "start_time": "2021-11-28T10:59:10.265Z"
   },
   {
    "duration": 26,
    "start_time": "2021-11-28T10:59:10.961Z"
   },
   {
    "duration": 619,
    "start_time": "2021-11-28T10:59:10.989Z"
   },
   {
    "duration": 425,
    "start_time": "2021-11-28T10:59:11.613Z"
   },
   {
    "duration": 31,
    "start_time": "2021-11-28T10:59:12.042Z"
   },
   {
    "duration": 27,
    "start_time": "2021-11-28T10:59:12.076Z"
   },
   {
    "duration": 26,
    "start_time": "2021-11-28T10:59:12.105Z"
   },
   {
    "duration": 9,
    "start_time": "2021-11-28T10:59:12.160Z"
   },
   {
    "duration": 499,
    "start_time": "2021-11-28T10:59:12.172Z"
   },
   {
    "duration": 26,
    "start_time": "2021-11-28T10:59:12.674Z"
   },
   {
    "duration": 13,
    "start_time": "2021-11-28T10:59:12.702Z"
   },
   {
    "duration": 12,
    "start_time": "2021-11-28T10:59:12.718Z"
   },
   {
    "duration": 490,
    "start_time": "2021-11-28T10:59:12.760Z"
   },
   {
    "duration": 5,
    "start_time": "2021-11-28T10:59:13.260Z"
   },
   {
    "duration": 685,
    "start_time": "2021-11-28T10:59:13.267Z"
   },
   {
    "duration": 28,
    "start_time": "2021-11-28T10:59:13.955Z"
   },
   {
    "duration": 913,
    "start_time": "2021-11-28T10:59:13.986Z"
   },
   {
    "duration": 30,
    "start_time": "2021-11-28T10:59:14.902Z"
   },
   {
    "duration": 30,
    "start_time": "2021-11-28T10:59:14.934Z"
   },
   {
    "duration": 440,
    "start_time": "2021-11-28T10:59:14.967Z"
   },
   {
    "duration": 767,
    "start_time": "2021-11-28T10:59:15.409Z"
   },
   {
    "duration": 15,
    "start_time": "2021-11-28T10:59:16.178Z"
   },
   {
    "duration": 11,
    "start_time": "2021-11-28T10:59:16.196Z"
   },
   {
    "duration": 12,
    "start_time": "2021-11-28T10:59:16.210Z"
   },
   {
    "duration": 40,
    "start_time": "2021-11-28T10:59:16.225Z"
   },
   {
    "duration": 613,
    "start_time": "2021-11-28T10:59:16.268Z"
   },
   {
    "duration": 14,
    "start_time": "2021-11-28T10:59:16.883Z"
   },
   {
    "duration": 489,
    "start_time": "2021-11-28T10:59:16.900Z"
   },
   {
    "duration": 340,
    "start_time": "2021-11-28T10:59:17.391Z"
   },
   {
    "duration": 25,
    "start_time": "2021-11-28T10:59:17.734Z"
   },
   {
    "duration": 17,
    "start_time": "2021-11-28T10:59:17.762Z"
   },
   {
    "duration": 6,
    "start_time": "2021-11-28T11:00:00.032Z"
   },
   {
    "duration": 281,
    "start_time": "2021-11-28T11:00:00.040Z"
   },
   {
    "duration": 22,
    "start_time": "2021-11-28T11:00:00.325Z"
   },
   {
    "duration": 25,
    "start_time": "2021-11-28T11:00:00.351Z"
   },
   {
    "duration": 42,
    "start_time": "2021-11-28T11:00:00.378Z"
   },
   {
    "duration": 18,
    "start_time": "2021-11-28T11:00:00.423Z"
   },
   {
    "duration": 16,
    "start_time": "2021-11-28T11:00:00.446Z"
   },
   {
    "duration": 36,
    "start_time": "2021-11-28T11:00:00.466Z"
   },
   {
    "duration": 14,
    "start_time": "2021-11-28T11:00:00.504Z"
   },
   {
    "duration": 72,
    "start_time": "2021-11-28T11:00:00.521Z"
   },
   {
    "duration": 8,
    "start_time": "2021-11-28T11:00:00.596Z"
   },
   {
    "duration": 22,
    "start_time": "2021-11-28T11:00:00.606Z"
   },
   {
    "duration": 31,
    "start_time": "2021-11-28T11:00:00.631Z"
   },
   {
    "duration": 9,
    "start_time": "2021-11-28T11:00:00.664Z"
   },
   {
    "duration": 21,
    "start_time": "2021-11-28T11:00:00.676Z"
   },
   {
    "duration": 20,
    "start_time": "2021-11-28T11:00:00.700Z"
   },
   {
    "duration": 16,
    "start_time": "2021-11-28T11:00:00.723Z"
   },
   {
    "duration": 30,
    "start_time": "2021-11-28T11:00:00.742Z"
   },
   {
    "duration": 1097,
    "start_time": "2021-11-28T11:00:00.777Z"
   },
   {
    "duration": 723,
    "start_time": "2021-11-28T11:00:01.877Z"
   },
   {
    "duration": 33,
    "start_time": "2021-11-28T11:00:02.602Z"
   },
   {
    "duration": 888,
    "start_time": "2021-11-28T11:00:02.638Z"
   },
   {
    "duration": 457,
    "start_time": "2021-11-28T11:00:03.529Z"
   },
   {
    "duration": 27,
    "start_time": "2021-11-28T11:00:03.989Z"
   },
   {
    "duration": 56,
    "start_time": "2021-11-28T11:00:04.018Z"
   },
   {
    "duration": 35,
    "start_time": "2021-11-28T11:00:04.077Z"
   },
   {
    "duration": 10,
    "start_time": "2021-11-28T11:00:04.115Z"
   },
   {
    "duration": 504,
    "start_time": "2021-11-28T11:00:04.127Z"
   },
   {
    "duration": 37,
    "start_time": "2021-11-28T11:00:04.633Z"
   },
   {
    "duration": 7,
    "start_time": "2021-11-28T11:00:04.673Z"
   },
   {
    "duration": 17,
    "start_time": "2021-11-28T11:00:04.683Z"
   },
   {
    "duration": 556,
    "start_time": "2021-11-28T11:00:04.703Z"
   },
   {
    "duration": 6,
    "start_time": "2021-11-28T11:00:05.261Z"
   },
   {
    "duration": 765,
    "start_time": "2021-11-28T11:00:05.270Z"
   },
   {
    "duration": 30,
    "start_time": "2021-11-28T11:00:06.038Z"
   },
   {
    "duration": 940,
    "start_time": "2021-11-28T11:00:06.071Z"
   },
   {
    "duration": 46,
    "start_time": "2021-11-28T11:00:07.013Z"
   },
   {
    "duration": 18,
    "start_time": "2021-11-28T11:00:07.063Z"
   },
   {
    "duration": 479,
    "start_time": "2021-11-28T11:00:07.083Z"
   },
   {
    "duration": 770,
    "start_time": "2021-11-28T11:00:07.565Z"
   },
   {
    "duration": 24,
    "start_time": "2021-11-28T11:00:08.338Z"
   },
   {
    "duration": 16,
    "start_time": "2021-11-28T11:00:08.365Z"
   },
   {
    "duration": 15,
    "start_time": "2021-11-28T11:00:08.384Z"
   },
   {
    "duration": 9,
    "start_time": "2021-11-28T11:00:08.402Z"
   },
   {
    "duration": 615,
    "start_time": "2021-11-28T11:00:08.414Z"
   },
   {
    "duration": 27,
    "start_time": "2021-11-28T11:00:09.032Z"
   },
   {
    "duration": 487,
    "start_time": "2021-11-28T11:00:09.062Z"
   },
   {
    "duration": 361,
    "start_time": "2021-11-28T11:00:09.560Z"
   },
   {
    "duration": 15,
    "start_time": "2021-11-28T11:00:09.923Z"
   },
   {
    "duration": 35,
    "start_time": "2021-11-28T11:00:09.941Z"
   },
   {
    "duration": 193,
    "start_time": "2021-11-28T11:01:16.203Z"
   },
   {
    "duration": 20,
    "start_time": "2021-11-28T11:01:21.740Z"
   },
   {
    "duration": 18,
    "start_time": "2021-11-28T11:01:33.003Z"
   },
   {
    "duration": 887,
    "start_time": "2021-11-28T11:01:33.024Z"
   },
   {
    "duration": 28,
    "start_time": "2021-11-28T11:01:33.914Z"
   },
   {
    "duration": 15,
    "start_time": "2021-11-28T11:01:33.960Z"
   },
   {
    "duration": 454,
    "start_time": "2021-11-28T11:01:33.977Z"
   },
   {
    "duration": 852,
    "start_time": "2021-11-28T11:01:34.433Z"
   },
   {
    "duration": 12,
    "start_time": "2021-11-28T11:01:35.287Z"
   },
   {
    "duration": 11,
    "start_time": "2021-11-28T11:01:35.302Z"
   },
   {
    "duration": 14,
    "start_time": "2021-11-28T11:01:35.316Z"
   },
   {
    "duration": 32,
    "start_time": "2021-11-28T11:01:35.332Z"
   },
   {
    "duration": 792,
    "start_time": "2021-11-28T11:01:35.367Z"
   },
   {
    "duration": 15,
    "start_time": "2021-11-28T11:01:36.162Z"
   },
   {
    "duration": 498,
    "start_time": "2021-11-28T11:01:36.179Z"
   },
   {
    "duration": 367,
    "start_time": "2021-11-28T11:01:36.680Z"
   },
   {
    "duration": 27,
    "start_time": "2021-11-28T11:01:37.049Z"
   },
   {
    "duration": 16,
    "start_time": "2021-11-28T11:01:37.078Z"
   },
   {
    "duration": 126,
    "start_time": "2021-11-28T11:03:33.701Z"
   },
   {
    "duration": 867,
    "start_time": "2021-11-28T11:03:58.021Z"
   },
   {
    "duration": 835,
    "start_time": "2021-11-28T11:04:58.072Z"
   },
   {
    "duration": 34,
    "start_time": "2021-11-28T11:05:53.041Z"
   },
   {
    "duration": 14,
    "start_time": "2021-11-28T11:05:59.352Z"
   },
   {
    "duration": 437,
    "start_time": "2021-11-28T11:06:03.942Z"
   },
   {
    "duration": 584,
    "start_time": "2021-11-28T11:09:14.076Z"
   },
   {
    "duration": 492,
    "start_time": "2021-11-28T11:09:22.402Z"
   },
   {
    "duration": 200,
    "start_time": "2021-11-28T11:32:32.091Z"
   },
   {
    "duration": 127,
    "start_time": "2021-11-28T11:32:45.780Z"
   },
   {
    "duration": 156,
    "start_time": "2021-11-28T11:32:51.721Z"
   },
   {
    "duration": 24160,
    "start_time": "2021-11-28T11:35:15.952Z"
   },
   {
    "duration": 486,
    "start_time": "2021-11-28T11:36:45.483Z"
   },
   {
    "duration": 617,
    "start_time": "2021-11-28T11:37:01.223Z"
   },
   {
    "duration": 10894,
    "start_time": "2021-11-28T11:37:08.374Z"
   },
   {
    "duration": 129,
    "start_time": "2021-11-28T11:37:44.201Z"
   },
   {
    "duration": 130,
    "start_time": "2021-11-28T11:37:59.849Z"
   },
   {
    "duration": 124,
    "start_time": "2021-11-28T11:38:17.700Z"
   },
   {
    "duration": 129,
    "start_time": "2021-11-28T11:38:31.656Z"
   },
   {
    "duration": 75,
    "start_time": "2021-11-28T11:38:44.097Z"
   },
   {
    "duration": 9890,
    "start_time": "2021-11-28T11:38:46.032Z"
   },
   {
    "duration": 126,
    "start_time": "2021-11-28T11:39:47.582Z"
   },
   {
    "duration": 380,
    "start_time": "2021-11-28T11:39:56.696Z"
   },
   {
    "duration": 10896,
    "start_time": "2021-11-28T11:40:07.814Z"
   },
   {
    "duration": 491,
    "start_time": "2021-11-28T11:40:30.706Z"
   },
   {
    "duration": 141,
    "start_time": "2021-11-28T11:40:50.635Z"
   },
   {
    "duration": 9577,
    "start_time": "2021-11-28T11:40:53.076Z"
   },
   {
    "duration": 10629,
    "start_time": "2021-11-28T11:41:21.252Z"
   },
   {
    "duration": 31,
    "start_time": "2021-11-28T11:41:48.284Z"
   },
   {
    "duration": 12,
    "start_time": "2021-11-28T11:42:16.484Z"
   },
   {
    "duration": 1453,
    "start_time": "2021-11-28T11:42:41.737Z"
   },
   {
    "duration": 365,
    "start_time": "2021-11-28T11:42:43.193Z"
   },
   {
    "duration": 24,
    "start_time": "2021-11-28T11:42:43.564Z"
   },
   {
    "duration": 12,
    "start_time": "2021-11-28T11:42:43.591Z"
   },
   {
    "duration": 21,
    "start_time": "2021-11-28T11:42:43.605Z"
   },
   {
    "duration": 37,
    "start_time": "2021-11-28T11:42:43.629Z"
   },
   {
    "duration": 9,
    "start_time": "2021-11-28T11:42:43.670Z"
   },
   {
    "duration": 23,
    "start_time": "2021-11-28T11:42:43.682Z"
   },
   {
    "duration": 10,
    "start_time": "2021-11-28T11:42:43.708Z"
   },
   {
    "duration": 76,
    "start_time": "2021-11-28T11:42:43.720Z"
   },
   {
    "duration": 8,
    "start_time": "2021-11-28T11:42:43.798Z"
   },
   {
    "duration": 7,
    "start_time": "2021-11-28T11:42:43.809Z"
   },
   {
    "duration": 41,
    "start_time": "2021-11-28T11:42:43.819Z"
   },
   {
    "duration": 7,
    "start_time": "2021-11-28T11:42:43.863Z"
   },
   {
    "duration": 7,
    "start_time": "2021-11-28T11:42:43.873Z"
   },
   {
    "duration": 12,
    "start_time": "2021-11-28T11:42:43.882Z"
   },
   {
    "duration": 6,
    "start_time": "2021-11-28T11:42:43.897Z"
   },
   {
    "duration": 13,
    "start_time": "2021-11-28T11:42:43.905Z"
   },
   {
    "duration": 1279,
    "start_time": "2021-11-28T11:42:43.920Z"
   },
   {
    "duration": 713,
    "start_time": "2021-11-28T11:42:45.201Z"
   },
   {
    "duration": 26,
    "start_time": "2021-11-28T11:42:45.916Z"
   },
   {
    "duration": 630,
    "start_time": "2021-11-28T11:42:45.961Z"
   },
   {
    "duration": 412,
    "start_time": "2021-11-28T11:42:46.594Z"
   },
   {
    "duration": 23,
    "start_time": "2021-11-28T11:42:47.008Z"
   },
   {
    "duration": 46,
    "start_time": "2021-11-28T11:42:47.033Z"
   },
   {
    "duration": 29,
    "start_time": "2021-11-28T11:42:47.082Z"
   },
   {
    "duration": 13,
    "start_time": "2021-11-28T11:42:47.113Z"
   },
   {
    "duration": 538,
    "start_time": "2021-11-28T11:42:47.129Z"
   },
   {
    "duration": 27,
    "start_time": "2021-11-28T11:42:47.669Z"
   },
   {
    "duration": 13,
    "start_time": "2021-11-28T11:42:47.699Z"
   },
   {
    "duration": 13,
    "start_time": "2021-11-28T11:42:47.715Z"
   },
   {
    "duration": 529,
    "start_time": "2021-11-28T11:42:47.730Z"
   },
   {
    "duration": 5,
    "start_time": "2021-11-28T11:42:48.262Z"
   },
   {
    "duration": 684,
    "start_time": "2021-11-28T11:42:48.269Z"
   },
   {
    "duration": 18,
    "start_time": "2021-11-28T11:42:48.960Z"
   },
   {
    "duration": 872,
    "start_time": "2021-11-28T11:42:48.980Z"
   },
   {
    "duration": 34,
    "start_time": "2021-11-28T11:42:49.855Z"
   },
   {
    "duration": 13,
    "start_time": "2021-11-28T11:42:49.892Z"
   },
   {
    "duration": 460,
    "start_time": "2021-11-28T11:42:49.908Z"
   },
   {
    "duration": 764,
    "start_time": "2021-11-28T11:42:50.370Z"
   },
   {
    "duration": 25,
    "start_time": "2021-11-28T11:42:51.137Z"
   },
   {
    "duration": 8,
    "start_time": "2021-11-28T11:42:51.164Z"
   },
   {
    "duration": 15,
    "start_time": "2021-11-28T11:42:51.174Z"
   },
   {
    "duration": 14,
    "start_time": "2021-11-28T11:42:51.192Z"
   },
   {
    "duration": 15,
    "start_time": "2021-11-28T11:42:51.209Z"
   },
   {
    "duration": 649,
    "start_time": "2021-11-28T11:42:51.260Z"
   },
   {
    "duration": 15,
    "start_time": "2021-11-28T11:42:51.912Z"
   },
   {
    "duration": 486,
    "start_time": "2021-11-28T11:42:51.930Z"
   },
   {
    "duration": 332,
    "start_time": "2021-11-28T11:42:52.418Z"
   },
   {
    "duration": 15,
    "start_time": "2021-11-28T11:42:52.759Z"
   },
   {
    "duration": 14,
    "start_time": "2021-11-28T11:42:52.777Z"
   },
   {
    "duration": 9740,
    "start_time": "2021-11-28T11:43:56.977Z"
   },
   {
    "duration": 109,
    "start_time": "2021-11-28T11:44:06.611Z"
   },
   {
    "duration": 1739,
    "start_time": "2021-11-28T11:44:08.974Z"
   },
   {
    "duration": 230,
    "start_time": "2021-11-28T11:44:10.716Z"
   },
   {
    "duration": 26,
    "start_time": "2021-11-28T11:44:10.949Z"
   },
   {
    "duration": 4,
    "start_time": "2021-11-28T11:44:10.978Z"
   },
   {
    "duration": 17,
    "start_time": "2021-11-28T11:44:10.985Z"
   },
   {
    "duration": 11,
    "start_time": "2021-11-28T11:44:11.005Z"
   },
   {
    "duration": 47,
    "start_time": "2021-11-28T11:44:11.018Z"
   },
   {
    "duration": 33,
    "start_time": "2021-11-28T11:44:11.070Z"
   },
   {
    "duration": 15,
    "start_time": "2021-11-28T11:44:11.107Z"
   },
   {
    "duration": 90,
    "start_time": "2021-11-28T11:44:11.125Z"
   },
   {
    "duration": 10,
    "start_time": "2021-11-28T11:44:11.218Z"
   },
   {
    "duration": 36,
    "start_time": "2021-11-28T11:44:11.231Z"
   },
   {
    "duration": 8,
    "start_time": "2021-11-28T11:44:11.270Z"
   },
   {
    "duration": 9,
    "start_time": "2021-11-28T11:44:11.280Z"
   },
   {
    "duration": 9,
    "start_time": "2021-11-28T11:44:11.291Z"
   },
   {
    "duration": 13,
    "start_time": "2021-11-28T11:44:11.303Z"
   },
   {
    "duration": 45,
    "start_time": "2021-11-28T11:44:11.318Z"
   },
   {
    "duration": 10,
    "start_time": "2021-11-28T11:44:11.365Z"
   },
   {
    "duration": 1298,
    "start_time": "2021-11-28T11:44:11.377Z"
   },
   {
    "duration": 851,
    "start_time": "2021-11-28T11:44:12.678Z"
   },
   {
    "duration": 37,
    "start_time": "2021-11-28T11:44:13.531Z"
   },
   {
    "duration": 718,
    "start_time": "2021-11-28T11:44:13.571Z"
   },
   {
    "duration": 449,
    "start_time": "2021-11-28T11:44:14.294Z"
   },
   {
    "duration": 33,
    "start_time": "2021-11-28T11:44:14.747Z"
   },
   {
    "duration": 28,
    "start_time": "2021-11-28T11:44:14.783Z"
   },
   {
    "duration": 54,
    "start_time": "2021-11-28T11:44:14.814Z"
   },
   {
    "duration": 10,
    "start_time": "2021-11-28T11:44:14.870Z"
   },
   {
    "duration": 531,
    "start_time": "2021-11-28T11:44:14.882Z"
   },
   {
    "duration": 25,
    "start_time": "2021-11-28T11:44:15.415Z"
   },
   {
    "duration": 25,
    "start_time": "2021-11-28T11:44:15.443Z"
   },
   {
    "duration": 13,
    "start_time": "2021-11-28T11:44:15.471Z"
   },
   {
    "duration": 497,
    "start_time": "2021-11-28T11:44:15.487Z"
   },
   {
    "duration": 5,
    "start_time": "2021-11-28T11:44:15.987Z"
   },
   {
    "duration": 702,
    "start_time": "2021-11-28T11:44:15.995Z"
   },
   {
    "duration": 21,
    "start_time": "2021-11-28T11:44:16.700Z"
   },
   {
    "duration": 923,
    "start_time": "2021-11-28T11:44:16.724Z"
   },
   {
    "duration": 37,
    "start_time": "2021-11-28T11:44:17.658Z"
   },
   {
    "duration": 15,
    "start_time": "2021-11-28T11:44:17.698Z"
   },
   {
    "duration": 451,
    "start_time": "2021-11-28T11:44:17.716Z"
   },
   {
    "duration": 726,
    "start_time": "2021-11-28T11:44:18.170Z"
   },
   {
    "duration": 11,
    "start_time": "2021-11-28T11:44:18.899Z"
   },
   {
    "duration": 11,
    "start_time": "2021-11-28T11:44:18.913Z"
   },
   {
    "duration": 36,
    "start_time": "2021-11-28T11:44:18.926Z"
   },
   {
    "duration": 11,
    "start_time": "2021-11-28T11:44:18.965Z"
   },
   {
    "duration": 15,
    "start_time": "2021-11-28T11:44:18.979Z"
   },
   {
    "duration": 639,
    "start_time": "2021-11-28T11:44:18.997Z"
   },
   {
    "duration": 24,
    "start_time": "2021-11-28T11:44:19.639Z"
   },
   {
    "duration": 562,
    "start_time": "2021-11-28T11:44:19.665Z"
   },
   {
    "duration": 317,
    "start_time": "2021-11-28T11:44:20.229Z"
   },
   {
    "duration": 23,
    "start_time": "2021-11-28T11:44:20.549Z"
   },
   {
    "duration": 16,
    "start_time": "2021-11-28T11:44:20.574Z"
   },
   {
    "duration": 145,
    "start_time": "2021-11-28T11:46:01.460Z"
   },
   {
    "duration": 129,
    "start_time": "2021-11-28T11:46:01.478Z"
   },
   {
    "duration": 15,
    "start_time": "2021-11-28T11:46:03.399Z"
   },
   {
    "duration": 675,
    "start_time": "2021-11-28T11:46:04.948Z"
   },
   {
    "duration": 565,
    "start_time": "2021-11-28T11:46:27.969Z"
   },
   {
    "duration": 562,
    "start_time": "2021-11-28T11:46:36.350Z"
   },
   {
    "duration": 679,
    "start_time": "2021-11-28T11:46:44.830Z"
   },
   {
    "duration": 636,
    "start_time": "2021-11-28T11:46:56.602Z"
   },
   {
    "duration": 563,
    "start_time": "2021-11-28T11:47:04.920Z"
   },
   {
    "duration": 566,
    "start_time": "2021-11-28T11:48:35.731Z"
   },
   {
    "duration": 672,
    "start_time": "2021-11-28T11:48:47.993Z"
   },
   {
    "duration": 571,
    "start_time": "2021-11-28T11:48:53.148Z"
   },
   {
    "duration": 558,
    "start_time": "2021-11-28T11:49:14.213Z"
   },
   {
    "duration": 9264,
    "start_time": "2021-11-28T11:51:02.931Z"
   },
   {
    "duration": 12,
    "start_time": "2021-11-28T11:51:30.212Z"
   },
   {
    "duration": 1466,
    "start_time": "2021-11-28T11:51:42.457Z"
   },
   {
    "duration": 257,
    "start_time": "2021-11-28T11:51:43.926Z"
   },
   {
    "duration": 24,
    "start_time": "2021-11-28T11:51:44.186Z"
   },
   {
    "duration": 3,
    "start_time": "2021-11-28T11:51:44.213Z"
   },
   {
    "duration": 40,
    "start_time": "2021-11-28T11:51:44.219Z"
   },
   {
    "duration": 10,
    "start_time": "2021-11-28T11:51:44.261Z"
   },
   {
    "duration": 10,
    "start_time": "2021-11-28T11:51:44.273Z"
   },
   {
    "duration": 22,
    "start_time": "2021-11-28T11:51:44.286Z"
   },
   {
    "duration": 11,
    "start_time": "2021-11-28T11:51:44.311Z"
   },
   {
    "duration": 43,
    "start_time": "2021-11-28T11:51:44.360Z"
   },
   {
    "duration": 8,
    "start_time": "2021-11-28T11:51:44.405Z"
   },
   {
    "duration": 11,
    "start_time": "2021-11-28T11:51:44.415Z"
   },
   {
    "duration": 38,
    "start_time": "2021-11-28T11:51:44.428Z"
   },
   {
    "duration": 8,
    "start_time": "2021-11-28T11:51:44.468Z"
   },
   {
    "duration": 9,
    "start_time": "2021-11-28T11:51:44.479Z"
   },
   {
    "duration": 21,
    "start_time": "2021-11-28T11:51:44.490Z"
   },
   {
    "duration": 19,
    "start_time": "2021-11-28T11:51:44.514Z"
   },
   {
    "duration": 29,
    "start_time": "2021-11-28T11:51:44.536Z"
   },
   {
    "duration": 1236,
    "start_time": "2021-11-28T11:51:44.568Z"
   },
   {
    "duration": 719,
    "start_time": "2021-11-28T11:51:45.806Z"
   },
   {
    "duration": 40,
    "start_time": "2021-11-28T11:51:46.527Z"
   },
   {
    "duration": 634,
    "start_time": "2021-11-28T11:51:46.570Z"
   },
   {
    "duration": 437,
    "start_time": "2021-11-28T11:51:47.209Z"
   },
   {
    "duration": 29,
    "start_time": "2021-11-28T11:51:47.649Z"
   },
   {
    "duration": 28,
    "start_time": "2021-11-28T11:51:47.681Z"
   },
   {
    "duration": 57,
    "start_time": "2021-11-28T11:51:47.712Z"
   },
   {
    "duration": 10,
    "start_time": "2021-11-28T11:51:47.771Z"
   },
   {
    "duration": 507,
    "start_time": "2021-11-28T11:51:47.783Z"
   },
   {
    "duration": 24,
    "start_time": "2021-11-28T11:51:48.293Z"
   },
   {
    "duration": 14,
    "start_time": "2021-11-28T11:51:48.320Z"
   },
   {
    "duration": 34,
    "start_time": "2021-11-28T11:51:48.337Z"
   },
   {
    "duration": 504,
    "start_time": "2021-11-28T11:51:48.373Z"
   },
   {
    "duration": 5,
    "start_time": "2021-11-28T11:51:48.880Z"
   },
   {
    "duration": 706,
    "start_time": "2021-11-28T11:51:48.888Z"
   },
   {
    "duration": 19,
    "start_time": "2021-11-28T11:51:49.597Z"
   },
   {
    "duration": 888,
    "start_time": "2021-11-28T11:51:49.618Z"
   },
   {
    "duration": 33,
    "start_time": "2021-11-28T11:51:50.509Z"
   },
   {
    "duration": 14,
    "start_time": "2021-11-28T11:51:50.560Z"
   },
   {
    "duration": 466,
    "start_time": "2021-11-28T11:51:50.576Z"
   },
   {
    "duration": 854,
    "start_time": "2021-11-28T11:51:51.046Z"
   },
   {
    "duration": 16,
    "start_time": "2021-11-28T11:51:51.903Z"
   },
   {
    "duration": 10,
    "start_time": "2021-11-28T11:51:51.921Z"
   },
   {
    "duration": 30,
    "start_time": "2021-11-28T11:51:51.934Z"
   },
   {
    "duration": 11,
    "start_time": "2021-11-28T11:51:51.967Z"
   },
   {
    "duration": 15,
    "start_time": "2021-11-28T11:51:51.981Z"
   },
   {
    "duration": 662,
    "start_time": "2021-11-28T11:51:51.998Z"
   },
   {
    "duration": 13,
    "start_time": "2021-11-28T11:51:52.662Z"
   },
   {
    "duration": 599,
    "start_time": "2021-11-28T11:51:52.677Z"
   },
   {
    "duration": 356,
    "start_time": "2021-11-28T11:51:53.280Z"
   },
   {
    "duration": 33,
    "start_time": "2021-11-28T11:51:53.639Z"
   },
   {
    "duration": 14,
    "start_time": "2021-11-28T11:51:53.675Z"
   },
   {
    "duration": 5,
    "start_time": "2021-11-28T11:52:06.934Z"
   },
   {
    "duration": 223,
    "start_time": "2021-11-28T11:52:06.942Z"
   },
   {
    "duration": 29,
    "start_time": "2021-11-28T11:52:07.169Z"
   },
   {
    "duration": 9,
    "start_time": "2021-11-28T11:52:07.202Z"
   },
   {
    "duration": 53,
    "start_time": "2021-11-28T11:52:07.214Z"
   },
   {
    "duration": 11,
    "start_time": "2021-11-28T11:52:07.270Z"
   },
   {
    "duration": 11,
    "start_time": "2021-11-28T11:52:07.286Z"
   },
   {
    "duration": 65,
    "start_time": "2021-11-28T11:52:07.301Z"
   },
   {
    "duration": 18,
    "start_time": "2021-11-28T11:52:07.369Z"
   },
   {
    "duration": 91,
    "start_time": "2021-11-28T11:52:07.390Z"
   },
   {
    "duration": 11,
    "start_time": "2021-11-28T11:52:07.484Z"
   },
   {
    "duration": 11,
    "start_time": "2021-11-28T11:52:07.498Z"
   },
   {
    "duration": 10,
    "start_time": "2021-11-28T11:52:07.511Z"
   },
   {
    "duration": 42,
    "start_time": "2021-11-28T11:52:07.523Z"
   },
   {
    "duration": 7,
    "start_time": "2021-11-28T11:52:07.569Z"
   },
   {
    "duration": 15,
    "start_time": "2021-11-28T11:52:07.579Z"
   },
   {
    "duration": 12,
    "start_time": "2021-11-28T11:52:07.596Z"
   },
   {
    "duration": 12,
    "start_time": "2021-11-28T11:52:07.614Z"
   },
   {
    "duration": 1295,
    "start_time": "2021-11-28T11:52:07.660Z"
   },
   {
    "duration": 710,
    "start_time": "2021-11-28T11:52:08.960Z"
   },
   {
    "duration": 28,
    "start_time": "2021-11-28T11:52:09.672Z"
   },
   {
    "duration": 761,
    "start_time": "2021-11-28T11:52:09.702Z"
   },
   {
    "duration": 424,
    "start_time": "2021-11-28T11:52:10.466Z"
   },
   {
    "duration": 24,
    "start_time": "2021-11-28T11:52:10.892Z"
   },
   {
    "duration": 51,
    "start_time": "2021-11-28T11:52:10.919Z"
   },
   {
    "duration": 35,
    "start_time": "2021-11-28T11:52:10.972Z"
   },
   {
    "duration": 14,
    "start_time": "2021-11-28T11:52:11.010Z"
   },
   {
    "duration": 465,
    "start_time": "2021-11-28T11:52:11.027Z"
   },
   {
    "duration": 26,
    "start_time": "2021-11-28T11:52:11.495Z"
   },
   {
    "duration": 8,
    "start_time": "2021-11-28T11:52:11.523Z"
   },
   {
    "duration": 42,
    "start_time": "2021-11-28T11:52:11.533Z"
   },
   {
    "duration": 637,
    "start_time": "2021-11-28T11:52:11.577Z"
   },
   {
    "duration": 5,
    "start_time": "2021-11-28T11:52:12.217Z"
   },
   {
    "duration": 712,
    "start_time": "2021-11-28T11:52:12.224Z"
   },
   {
    "duration": 24,
    "start_time": "2021-11-28T11:52:12.939Z"
   },
   {
    "duration": 1292,
    "start_time": "2021-11-28T11:52:12.966Z"
   },
   {
    "duration": 35,
    "start_time": "2021-11-28T11:52:14.261Z"
   },
   {
    "duration": 14,
    "start_time": "2021-11-28T11:52:14.298Z"
   },
   {
    "duration": 476,
    "start_time": "2021-11-28T11:52:14.314Z"
   },
   {
    "duration": 745,
    "start_time": "2021-11-28T11:52:14.793Z"
   },
   {
    "duration": 28,
    "start_time": "2021-11-28T11:52:15.541Z"
   },
   {
    "duration": 10,
    "start_time": "2021-11-28T11:52:15.572Z"
   },
   {
    "duration": 14,
    "start_time": "2021-11-28T11:52:15.585Z"
   },
   {
    "duration": 12,
    "start_time": "2021-11-28T11:52:15.601Z"
   },
   {
    "duration": 49,
    "start_time": "2021-11-28T11:52:15.616Z"
   },
   {
    "duration": 559,
    "start_time": "2021-11-28T11:52:15.667Z"
   },
   {
    "duration": 13,
    "start_time": "2021-11-28T11:52:16.229Z"
   },
   {
    "duration": 670,
    "start_time": "2021-11-28T11:52:16.244Z"
   },
   {
    "duration": 366,
    "start_time": "2021-11-28T11:52:16.917Z"
   },
   {
    "duration": 15,
    "start_time": "2021-11-28T11:52:17.285Z"
   },
   {
    "duration": 15,
    "start_time": "2021-11-28T11:52:17.306Z"
   },
   {
    "duration": 10723,
    "start_time": "2021-11-28T11:54:06.233Z"
   },
   {
    "duration": 1449,
    "start_time": "2021-11-28T11:54:25.266Z"
   },
   {
    "duration": 615,
    "start_time": "2021-11-28T11:54:26.717Z"
   },
   {
    "duration": 27,
    "start_time": "2021-11-28T11:54:27.335Z"
   },
   {
    "duration": 5,
    "start_time": "2021-11-28T11:54:27.365Z"
   },
   {
    "duration": 20,
    "start_time": "2021-11-28T11:54:27.373Z"
   },
   {
    "duration": 11,
    "start_time": "2021-11-28T11:54:27.396Z"
   },
   {
    "duration": 13,
    "start_time": "2021-11-28T11:54:27.409Z"
   },
   {
    "duration": 56,
    "start_time": "2021-11-28T11:54:27.426Z"
   },
   {
    "duration": 11,
    "start_time": "2021-11-28T11:54:27.484Z"
   },
   {
    "duration": 72,
    "start_time": "2021-11-28T11:54:27.498Z"
   },
   {
    "duration": 8,
    "start_time": "2021-11-28T11:54:27.572Z"
   },
   {
    "duration": 10,
    "start_time": "2021-11-28T11:54:27.583Z"
   },
   {
    "duration": 10,
    "start_time": "2021-11-28T11:54:27.596Z"
   },
   {
    "duration": 8,
    "start_time": "2021-11-28T11:54:27.608Z"
   },
   {
    "duration": 44,
    "start_time": "2021-11-28T11:54:27.619Z"
   },
   {
    "duration": 14,
    "start_time": "2021-11-28T11:54:27.665Z"
   },
   {
    "duration": 13,
    "start_time": "2021-11-28T11:54:27.681Z"
   },
   {
    "duration": 8,
    "start_time": "2021-11-28T11:54:27.696Z"
   },
   {
    "duration": 1283,
    "start_time": "2021-11-28T11:54:27.707Z"
   },
   {
    "duration": 724,
    "start_time": "2021-11-28T11:54:28.993Z"
   },
   {
    "duration": 41,
    "start_time": "2021-11-28T11:54:29.719Z"
   },
   {
    "duration": 646,
    "start_time": "2021-11-28T11:54:29.763Z"
   },
   {
    "duration": 421,
    "start_time": "2021-11-28T11:54:30.414Z"
   },
   {
    "duration": 31,
    "start_time": "2021-11-28T11:54:30.838Z"
   },
   {
    "duration": 26,
    "start_time": "2021-11-28T11:54:30.871Z"
   },
   {
    "duration": 26,
    "start_time": "2021-11-28T11:54:30.900Z"
   },
   {
    "duration": 39,
    "start_time": "2021-11-28T11:54:30.929Z"
   },
   {
    "duration": 513,
    "start_time": "2021-11-28T11:54:30.970Z"
   },
   {
    "duration": 25,
    "start_time": "2021-11-28T11:54:31.486Z"
   },
   {
    "duration": 13,
    "start_time": "2021-11-28T11:54:31.514Z"
   },
   {
    "duration": 38,
    "start_time": "2021-11-28T11:54:31.530Z"
   },
   {
    "duration": 484,
    "start_time": "2021-11-28T11:54:31.571Z"
   },
   {
    "duration": 4,
    "start_time": "2021-11-28T11:54:32.060Z"
   },
   {
    "duration": 709,
    "start_time": "2021-11-28T11:54:32.066Z"
   },
   {
    "duration": 19,
    "start_time": "2021-11-28T11:54:32.777Z"
   },
   {
    "duration": 895,
    "start_time": "2021-11-28T11:54:32.799Z"
   },
   {
    "duration": 35,
    "start_time": "2021-11-28T11:54:33.698Z"
   },
   {
    "duration": 33,
    "start_time": "2021-11-28T11:54:33.736Z"
   },
   {
    "duration": 446,
    "start_time": "2021-11-28T11:54:33.771Z"
   },
   {
    "duration": 740,
    "start_time": "2021-11-28T11:54:34.219Z"
   },
   {
    "duration": 12,
    "start_time": "2021-11-28T11:54:34.961Z"
   },
   {
    "duration": 11,
    "start_time": "2021-11-28T11:54:34.976Z"
   },
   {
    "duration": 10,
    "start_time": "2021-11-28T11:54:34.989Z"
   },
   {
    "duration": 10,
    "start_time": "2021-11-28T11:54:35.001Z"
   },
   {
    "duration": 50,
    "start_time": "2021-11-28T11:54:35.013Z"
   },
   {
    "duration": 628,
    "start_time": "2021-11-28T11:54:35.066Z"
   },
   {
    "duration": 12,
    "start_time": "2021-11-28T11:54:35.697Z"
   },
   {
    "duration": 587,
    "start_time": "2021-11-28T11:54:35.711Z"
   },
   {
    "duration": 10365,
    "start_time": "2021-11-28T11:54:36.301Z"
   },
   {
    "duration": 134,
    "start_time": "2021-11-28T11:54:46.535Z"
   },
   {
    "duration": 128,
    "start_time": "2021-11-28T11:54:46.543Z"
   },
   {
    "duration": 422,
    "start_time": "2021-11-28T12:08:51.259Z"
   },
   {
    "duration": 18,
    "start_time": "2021-11-28T12:15:05.802Z"
   },
   {
    "duration": 16,
    "start_time": "2021-11-28T12:15:20.660Z"
   },
   {
    "duration": 18,
    "start_time": "2021-11-28T12:15:23.560Z"
   },
   {
    "duration": 1379,
    "start_time": "2021-11-28T12:23:09.097Z"
   },
   {
    "duration": 251,
    "start_time": "2021-11-28T12:23:10.478Z"
   },
   {
    "duration": 29,
    "start_time": "2021-11-28T12:23:10.733Z"
   },
   {
    "duration": 33,
    "start_time": "2021-11-28T12:23:10.765Z"
   },
   {
    "duration": 29,
    "start_time": "2021-11-28T12:23:10.801Z"
   },
   {
    "duration": 16,
    "start_time": "2021-11-28T12:23:10.832Z"
   },
   {
    "duration": 18,
    "start_time": "2021-11-28T12:23:10.850Z"
   },
   {
    "duration": 32,
    "start_time": "2021-11-28T12:23:10.874Z"
   },
   {
    "duration": 12,
    "start_time": "2021-11-28T12:23:10.909Z"
   },
   {
    "duration": 68,
    "start_time": "2021-11-28T12:23:10.923Z"
   },
   {
    "duration": 9,
    "start_time": "2021-11-28T12:23:10.993Z"
   },
   {
    "duration": 14,
    "start_time": "2021-11-28T12:23:11.004Z"
   },
   {
    "duration": 17,
    "start_time": "2021-11-28T12:23:11.021Z"
   },
   {
    "duration": 9,
    "start_time": "2021-11-28T12:23:11.059Z"
   },
   {
    "duration": 12,
    "start_time": "2021-11-28T12:23:11.071Z"
   },
   {
    "duration": 22,
    "start_time": "2021-11-28T12:23:11.085Z"
   },
   {
    "duration": 7,
    "start_time": "2021-11-28T12:23:11.110Z"
   },
   {
    "duration": 23,
    "start_time": "2021-11-28T12:23:11.119Z"
   },
   {
    "duration": 1308,
    "start_time": "2021-11-28T12:23:11.160Z"
   },
   {
    "duration": 852,
    "start_time": "2021-11-28T12:23:12.471Z"
   },
   {
    "duration": 42,
    "start_time": "2021-11-28T12:23:13.326Z"
   },
   {
    "duration": 631,
    "start_time": "2021-11-28T12:23:13.371Z"
   },
   {
    "duration": 449,
    "start_time": "2021-11-28T12:23:14.010Z"
   },
   {
    "duration": 22,
    "start_time": "2021-11-28T12:23:14.462Z"
   },
   {
    "duration": 26,
    "start_time": "2021-11-28T12:23:14.486Z"
   },
   {
    "duration": 57,
    "start_time": "2021-11-28T12:23:14.515Z"
   },
   {
    "duration": 9,
    "start_time": "2021-11-28T12:23:14.574Z"
   },
   {
    "duration": 524,
    "start_time": "2021-11-28T12:23:14.586Z"
   },
   {
    "duration": 25,
    "start_time": "2021-11-28T12:23:15.113Z"
   },
   {
    "duration": 19,
    "start_time": "2021-11-28T12:23:15.140Z"
   },
   {
    "duration": 12,
    "start_time": "2021-11-28T12:23:15.162Z"
   },
   {
    "duration": 506,
    "start_time": "2021-11-28T12:23:15.176Z"
   },
   {
    "duration": 5,
    "start_time": "2021-11-28T12:23:15.684Z"
   },
   {
    "duration": 695,
    "start_time": "2021-11-28T12:23:15.691Z"
   },
   {
    "duration": 19,
    "start_time": "2021-11-28T12:23:16.389Z"
   },
   {
    "duration": 872,
    "start_time": "2021-11-28T12:23:16.410Z"
   },
   {
    "duration": 35,
    "start_time": "2021-11-28T12:23:17.285Z"
   },
   {
    "duration": 36,
    "start_time": "2021-11-28T12:23:17.323Z"
   },
   {
    "duration": 449,
    "start_time": "2021-11-28T12:23:17.362Z"
   },
   {
    "duration": 736,
    "start_time": "2021-11-28T12:23:17.813Z"
   },
   {
    "duration": 14,
    "start_time": "2021-11-28T12:23:18.559Z"
   },
   {
    "duration": 11,
    "start_time": "2021-11-28T12:23:18.575Z"
   },
   {
    "duration": 11,
    "start_time": "2021-11-28T12:23:18.588Z"
   },
   {
    "duration": 11,
    "start_time": "2021-11-28T12:23:18.602Z"
   },
   {
    "duration": 46,
    "start_time": "2021-11-28T12:23:18.615Z"
   },
   {
    "duration": 679,
    "start_time": "2021-11-28T12:23:18.664Z"
   },
   {
    "duration": 20,
    "start_time": "2021-11-28T12:23:19.346Z"
   },
   {
    "duration": 578,
    "start_time": "2021-11-28T12:23:19.368Z"
   },
   {
    "duration": 417,
    "start_time": "2021-11-28T12:23:19.949Z"
   },
   {
    "duration": 18,
    "start_time": "2021-11-28T12:23:20.369Z"
   },
   {
    "duration": 17,
    "start_time": "2021-11-28T12:23:20.389Z"
   },
   {
    "duration": 16,
    "start_time": "2021-11-28T12:24:40.771Z"
   },
   {
    "duration": 17,
    "start_time": "2021-11-28T12:24:42.599Z"
   },
   {
    "duration": 17,
    "start_time": "2021-11-28T12:25:05.830Z"
   },
   {
    "duration": 23,
    "start_time": "2021-11-28T12:25:46.342Z"
   },
   {
    "duration": 16,
    "start_time": "2021-11-28T12:26:24.311Z"
   },
   {
    "duration": 17,
    "start_time": "2021-11-28T12:26:26.410Z"
   },
   {
    "duration": 1400,
    "start_time": "2021-11-28T12:33:33.716Z"
   },
   {
    "duration": 232,
    "start_time": "2021-11-28T12:33:35.120Z"
   },
   {
    "duration": 26,
    "start_time": "2021-11-28T12:33:35.355Z"
   },
   {
    "duration": 3,
    "start_time": "2021-11-28T12:33:35.384Z"
   },
   {
    "duration": 22,
    "start_time": "2021-11-28T12:33:35.390Z"
   },
   {
    "duration": 9,
    "start_time": "2021-11-28T12:33:35.414Z"
   },
   {
    "duration": 35,
    "start_time": "2021-11-28T12:33:35.425Z"
   },
   {
    "duration": 27,
    "start_time": "2021-11-28T12:33:35.464Z"
   },
   {
    "duration": 11,
    "start_time": "2021-11-28T12:33:35.494Z"
   },
   {
    "duration": 63,
    "start_time": "2021-11-28T12:33:35.507Z"
   },
   {
    "duration": 8,
    "start_time": "2021-11-28T12:33:35.572Z"
   },
   {
    "duration": 7,
    "start_time": "2021-11-28T12:33:35.582Z"
   },
   {
    "duration": 7,
    "start_time": "2021-11-28T12:33:35.592Z"
   },
   {
    "duration": 8,
    "start_time": "2021-11-28T12:33:35.601Z"
   },
   {
    "duration": 51,
    "start_time": "2021-11-28T12:33:35.612Z"
   },
   {
    "duration": 15,
    "start_time": "2021-11-28T12:33:35.666Z"
   },
   {
    "duration": 9,
    "start_time": "2021-11-28T12:33:35.684Z"
   },
   {
    "duration": 13,
    "start_time": "2021-11-28T12:33:35.696Z"
   },
   {
    "duration": 1248,
    "start_time": "2021-11-28T12:33:35.711Z"
   },
   {
    "duration": 689,
    "start_time": "2021-11-28T12:33:36.961Z"
   },
   {
    "duration": 32,
    "start_time": "2021-11-28T12:33:37.653Z"
   },
   {
    "duration": 635,
    "start_time": "2021-11-28T12:33:37.687Z"
   },
   {
    "duration": 410,
    "start_time": "2021-11-28T12:33:38.327Z"
   },
   {
    "duration": 30,
    "start_time": "2021-11-28T12:33:38.740Z"
   },
   {
    "duration": 29,
    "start_time": "2021-11-28T12:33:38.772Z"
   },
   {
    "duration": 57,
    "start_time": "2021-11-28T12:33:38.804Z"
   },
   {
    "duration": 11,
    "start_time": "2021-11-28T12:33:38.864Z"
   },
   {
    "duration": 514,
    "start_time": "2021-11-28T12:33:38.878Z"
   },
   {
    "duration": 25,
    "start_time": "2021-11-28T12:33:39.394Z"
   },
   {
    "duration": 13,
    "start_time": "2021-11-28T12:33:39.422Z"
   },
   {
    "duration": 13,
    "start_time": "2021-11-28T12:33:39.459Z"
   },
   {
    "duration": 498,
    "start_time": "2021-11-28T12:33:39.475Z"
   },
   {
    "duration": 4,
    "start_time": "2021-11-28T12:33:39.975Z"
   },
   {
    "duration": 703,
    "start_time": "2021-11-28T12:33:39.982Z"
   },
   {
    "duration": 19,
    "start_time": "2021-11-28T12:33:40.687Z"
   },
   {
    "duration": 893,
    "start_time": "2021-11-28T12:33:40.709Z"
   },
   {
    "duration": 67,
    "start_time": "2021-11-28T12:33:41.605Z"
   },
   {
    "duration": 20,
    "start_time": "2021-11-28T12:33:41.675Z"
   },
   {
    "duration": 462,
    "start_time": "2021-11-28T12:33:41.697Z"
   },
   {
    "duration": 775,
    "start_time": "2021-11-28T12:33:42.161Z"
   },
   {
    "duration": 21,
    "start_time": "2021-11-28T12:33:42.938Z"
   },
   {
    "duration": 8,
    "start_time": "2021-11-28T12:33:42.961Z"
   },
   {
    "duration": 11,
    "start_time": "2021-11-28T12:33:42.971Z"
   },
   {
    "duration": 13,
    "start_time": "2021-11-28T12:33:42.985Z"
   },
   {
    "duration": 15,
    "start_time": "2021-11-28T12:33:43.000Z"
   },
   {
    "duration": 675,
    "start_time": "2021-11-28T12:33:43.017Z"
   },
   {
    "duration": 12,
    "start_time": "2021-11-28T12:33:43.695Z"
   },
   {
    "duration": 600,
    "start_time": "2021-11-28T12:33:43.710Z"
   },
   {
    "duration": 435,
    "start_time": "2021-11-28T12:33:44.313Z"
   },
   {
    "duration": 23,
    "start_time": "2021-11-28T12:33:44.751Z"
   },
   {
    "duration": 20,
    "start_time": "2021-11-28T12:33:44.777Z"
   },
   {
    "duration": 42,
    "start_time": "2021-11-28T12:37:03.172Z"
   },
   {
    "duration": 15,
    "start_time": "2021-11-28T12:37:06.039Z"
   },
   {
    "duration": 453,
    "start_time": "2021-11-28T12:37:07.950Z"
   },
   {
    "duration": 1412,
    "start_time": "2021-11-28T12:40:19.797Z"
   },
   {
    "duration": 195,
    "start_time": "2021-11-28T12:40:21.212Z"
   },
   {
    "duration": 24,
    "start_time": "2021-11-28T12:40:21.410Z"
   },
   {
    "duration": 5,
    "start_time": "2021-11-28T12:40:21.437Z"
   },
   {
    "duration": 23,
    "start_time": "2021-11-28T12:40:21.444Z"
   },
   {
    "duration": 13,
    "start_time": "2021-11-28T12:40:21.469Z"
   },
   {
    "duration": 11,
    "start_time": "2021-11-28T12:40:21.485Z"
   },
   {
    "duration": 24,
    "start_time": "2021-11-28T12:40:21.500Z"
   },
   {
    "duration": 42,
    "start_time": "2021-11-28T12:40:21.527Z"
   },
   {
    "duration": 44,
    "start_time": "2021-11-28T12:40:21.572Z"
   },
   {
    "duration": 8,
    "start_time": "2021-11-28T12:40:21.618Z"
   },
   {
    "duration": 36,
    "start_time": "2021-11-28T12:40:21.629Z"
   },
   {
    "duration": 9,
    "start_time": "2021-11-28T12:40:21.667Z"
   },
   {
    "duration": 8,
    "start_time": "2021-11-28T12:40:21.679Z"
   },
   {
    "duration": 7,
    "start_time": "2021-11-28T12:40:21.690Z"
   },
   {
    "duration": 14,
    "start_time": "2021-11-28T12:40:21.700Z"
   },
   {
    "duration": 47,
    "start_time": "2021-11-28T12:40:21.716Z"
   },
   {
    "duration": 15,
    "start_time": "2021-11-28T12:40:21.765Z"
   },
   {
    "duration": 1253,
    "start_time": "2021-11-28T12:40:21.783Z"
   },
   {
    "duration": 692,
    "start_time": "2021-11-28T12:40:23.039Z"
   },
   {
    "duration": 41,
    "start_time": "2021-11-28T12:40:23.733Z"
   },
   {
    "duration": 618,
    "start_time": "2021-11-28T12:40:23.776Z"
   },
   {
    "duration": 418,
    "start_time": "2021-11-28T12:40:24.400Z"
   },
   {
    "duration": 40,
    "start_time": "2021-11-28T12:40:24.821Z"
   },
   {
    "duration": 29,
    "start_time": "2021-11-28T12:40:24.863Z"
   },
   {
    "duration": 29,
    "start_time": "2021-11-28T12:40:24.894Z"
   },
   {
    "duration": 43,
    "start_time": "2021-11-28T12:40:24.925Z"
   },
   {
    "duration": 518,
    "start_time": "2021-11-28T12:40:24.971Z"
   },
   {
    "duration": 25,
    "start_time": "2021-11-28T12:40:25.491Z"
   },
   {
    "duration": 14,
    "start_time": "2021-11-28T12:40:25.518Z"
   },
   {
    "duration": 30,
    "start_time": "2021-11-28T12:40:25.535Z"
   },
   {
    "duration": 510,
    "start_time": "2021-11-28T12:40:25.567Z"
   },
   {
    "duration": 5,
    "start_time": "2021-11-28T12:40:26.079Z"
   },
   {
    "duration": 711,
    "start_time": "2021-11-28T12:40:26.087Z"
   },
   {
    "duration": 19,
    "start_time": "2021-11-28T12:40:26.801Z"
   },
   {
    "duration": 943,
    "start_time": "2021-11-28T12:40:26.822Z"
   },
   {
    "duration": 39,
    "start_time": "2021-11-28T12:40:27.768Z"
   },
   {
    "duration": 15,
    "start_time": "2021-11-28T12:40:27.809Z"
   },
   {
    "duration": 489,
    "start_time": "2021-11-28T12:40:27.826Z"
   },
   {
    "duration": 783,
    "start_time": "2021-11-28T12:40:28.318Z"
   },
   {
    "duration": 17,
    "start_time": "2021-11-28T12:40:29.104Z"
   },
   {
    "duration": 10,
    "start_time": "2021-11-28T12:40:29.124Z"
   },
   {
    "duration": 14,
    "start_time": "2021-11-28T12:40:29.160Z"
   },
   {
    "duration": 12,
    "start_time": "2021-11-28T12:40:29.177Z"
   },
   {
    "duration": 19,
    "start_time": "2021-11-28T12:40:29.192Z"
   },
   {
    "duration": 655,
    "start_time": "2021-11-28T12:40:29.213Z"
   },
   {
    "duration": 13,
    "start_time": "2021-11-28T12:40:29.871Z"
   },
   {
    "duration": 597,
    "start_time": "2021-11-28T12:40:29.886Z"
   },
   {
    "duration": 428,
    "start_time": "2021-11-28T12:40:30.486Z"
   },
   {
    "duration": 18,
    "start_time": "2021-11-28T12:40:30.918Z"
   },
   {
    "duration": 36,
    "start_time": "2021-11-28T12:40:30.940Z"
   },
   {
    "duration": 596,
    "start_time": "2021-11-28T12:42:20.309Z"
   },
   {
    "duration": 134,
    "start_time": "2021-11-28T12:42:42.009Z"
   },
   {
    "duration": 149,
    "start_time": "2021-11-28T12:42:51.068Z"
   },
   {
    "duration": 1406,
    "start_time": "2021-11-28T12:43:09.598Z"
   },
   {
    "duration": 161,
    "start_time": "2021-11-28T12:43:11.007Z"
   },
   {
    "duration": 28,
    "start_time": "2021-11-28T12:43:11.171Z"
   },
   {
    "duration": 6,
    "start_time": "2021-11-28T12:43:11.203Z"
   },
   {
    "duration": 19,
    "start_time": "2021-11-28T12:43:11.212Z"
   },
   {
    "duration": 36,
    "start_time": "2021-11-28T12:43:11.233Z"
   },
   {
    "duration": 35,
    "start_time": "2021-11-28T12:43:11.271Z"
   },
   {
    "duration": 29,
    "start_time": "2021-11-28T12:43:11.310Z"
   },
   {
    "duration": 21,
    "start_time": "2021-11-28T12:43:11.342Z"
   },
   {
    "duration": 50,
    "start_time": "2021-11-28T12:43:11.366Z"
   },
   {
    "duration": 8,
    "start_time": "2021-11-28T12:43:11.419Z"
   },
   {
    "duration": 32,
    "start_time": "2021-11-28T12:43:11.429Z"
   },
   {
    "duration": 9,
    "start_time": "2021-11-28T12:43:11.463Z"
   },
   {
    "duration": 8,
    "start_time": "2021-11-28T12:43:11.474Z"
   },
   {
    "duration": 7,
    "start_time": "2021-11-28T12:43:11.485Z"
   },
   {
    "duration": 15,
    "start_time": "2021-11-28T12:43:11.494Z"
   },
   {
    "duration": 51,
    "start_time": "2021-11-28T12:43:11.511Z"
   },
   {
    "duration": 16,
    "start_time": "2021-11-28T12:43:11.565Z"
   },
   {
    "duration": 1212,
    "start_time": "2021-11-28T12:43:11.583Z"
   },
   {
    "duration": 797,
    "start_time": "2021-11-28T12:43:12.797Z"
   },
   {
    "duration": 37,
    "start_time": "2021-11-28T12:43:13.597Z"
   },
   {
    "duration": 771,
    "start_time": "2021-11-28T12:43:13.637Z"
   },
   {
    "duration": 422,
    "start_time": "2021-11-28T12:43:14.416Z"
   },
   {
    "duration": 34,
    "start_time": "2021-11-28T12:43:14.841Z"
   },
   {
    "duration": 29,
    "start_time": "2021-11-28T12:43:14.877Z"
   },
   {
    "duration": 62,
    "start_time": "2021-11-28T12:43:14.908Z"
   },
   {
    "duration": 10,
    "start_time": "2021-11-28T12:43:14.972Z"
   },
   {
    "duration": 529,
    "start_time": "2021-11-28T12:43:14.984Z"
   },
   {
    "duration": 24,
    "start_time": "2021-11-28T12:43:15.516Z"
   },
   {
    "duration": 27,
    "start_time": "2021-11-28T12:43:15.542Z"
   },
   {
    "duration": 32,
    "start_time": "2021-11-28T12:43:15.572Z"
   },
   {
    "duration": 479,
    "start_time": "2021-11-28T12:43:15.607Z"
   },
   {
    "duration": 5,
    "start_time": "2021-11-28T12:43:16.088Z"
   },
   {
    "duration": 699,
    "start_time": "2021-11-28T12:43:16.096Z"
   },
   {
    "duration": 21,
    "start_time": "2021-11-28T12:43:16.797Z"
   },
   {
    "duration": 932,
    "start_time": "2021-11-28T12:43:16.820Z"
   },
   {
    "duration": 41,
    "start_time": "2021-11-28T12:43:17.754Z"
   },
   {
    "duration": 16,
    "start_time": "2021-11-28T12:43:17.797Z"
   },
   {
    "duration": 472,
    "start_time": "2021-11-28T12:43:17.816Z"
   },
   {
    "duration": 739,
    "start_time": "2021-11-28T12:43:18.291Z"
   },
   {
    "duration": 12,
    "start_time": "2021-11-28T12:43:19.032Z"
   },
   {
    "duration": 19,
    "start_time": "2021-11-28T12:43:19.046Z"
   },
   {
    "duration": 10,
    "start_time": "2021-11-28T12:43:19.067Z"
   },
   {
    "duration": 10,
    "start_time": "2021-11-28T12:43:19.079Z"
   },
   {
    "duration": 18,
    "start_time": "2021-11-28T12:43:19.091Z"
   },
   {
    "duration": 667,
    "start_time": "2021-11-28T12:43:19.111Z"
   },
   {
    "duration": 12,
    "start_time": "2021-11-28T12:43:19.781Z"
   },
   {
    "duration": 566,
    "start_time": "2021-11-28T12:43:19.795Z"
   },
   {
    "duration": 412,
    "start_time": "2021-11-28T12:43:20.364Z"
   },
   {
    "duration": 18,
    "start_time": "2021-11-28T12:43:20.778Z"
   },
   {
    "duration": 19,
    "start_time": "2021-11-28T12:43:20.799Z"
   },
   {
    "duration": 1391,
    "start_time": "2021-11-28T12:44:54.843Z"
   },
   {
    "duration": 282,
    "start_time": "2021-11-28T12:44:56.237Z"
   },
   {
    "duration": 24,
    "start_time": "2021-11-28T12:44:56.522Z"
   },
   {
    "duration": 7,
    "start_time": "2021-11-28T12:44:56.549Z"
   },
   {
    "duration": 23,
    "start_time": "2021-11-28T12:44:56.559Z"
   },
   {
    "duration": 10,
    "start_time": "2021-11-28T12:44:56.585Z"
   },
   {
    "duration": 10,
    "start_time": "2021-11-28T12:44:56.597Z"
   },
   {
    "duration": 24,
    "start_time": "2021-11-28T12:44:56.611Z"
   },
   {
    "duration": 11,
    "start_time": "2021-11-28T12:44:56.661Z"
   },
   {
    "duration": 48,
    "start_time": "2021-11-28T12:44:56.675Z"
   },
   {
    "duration": 35,
    "start_time": "2021-11-28T12:44:56.726Z"
   },
   {
    "duration": 10,
    "start_time": "2021-11-28T12:44:56.763Z"
   },
   {
    "duration": 11,
    "start_time": "2021-11-28T12:44:56.775Z"
   },
   {
    "duration": 11,
    "start_time": "2021-11-28T12:44:56.789Z"
   },
   {
    "duration": 9,
    "start_time": "2021-11-28T12:44:56.803Z"
   },
   {
    "duration": 55,
    "start_time": "2021-11-28T12:44:56.814Z"
   },
   {
    "duration": 11,
    "start_time": "2021-11-28T12:44:56.871Z"
   },
   {
    "duration": 12,
    "start_time": "2021-11-28T12:44:56.884Z"
   },
   {
    "duration": 719,
    "start_time": "2021-11-28T12:44:56.898Z"
   },
   {
    "duration": 41,
    "start_time": "2021-11-28T12:44:57.619Z"
   },
   {
    "duration": 645,
    "start_time": "2021-11-28T12:44:57.663Z"
   },
   {
    "duration": 447,
    "start_time": "2021-11-28T12:44:58.311Z"
   },
   {
    "duration": 73,
    "start_time": "2021-11-28T12:44:58.766Z"
   },
   {
    "duration": 195,
    "start_time": "2021-11-28T12:44:58.843Z"
   },
   {
    "duration": 111,
    "start_time": "2021-11-28T12:44:59.041Z"
   },
   {
    "duration": 80,
    "start_time": "2021-11-28T12:44:59.155Z"
   },
   {
    "duration": 612,
    "start_time": "2021-11-28T12:44:59.238Z"
   },
   {
    "duration": 25,
    "start_time": "2021-11-28T12:44:59.860Z"
   },
   {
    "duration": 13,
    "start_time": "2021-11-28T12:44:59.887Z"
   },
   {
    "duration": 12,
    "start_time": "2021-11-28T12:44:59.903Z"
   },
   {
    "duration": 529,
    "start_time": "2021-11-28T12:44:59.918Z"
   },
   {
    "duration": 14,
    "start_time": "2021-11-28T12:45:00.449Z"
   },
   {
    "duration": 720,
    "start_time": "2021-11-28T12:45:00.466Z"
   },
   {
    "duration": 18,
    "start_time": "2021-11-28T12:45:01.189Z"
   },
   {
    "duration": 972,
    "start_time": "2021-11-28T12:45:01.210Z"
   },
   {
    "duration": 48,
    "start_time": "2021-11-28T12:45:02.185Z"
   },
   {
    "duration": 38,
    "start_time": "2021-11-28T12:45:02.237Z"
   },
   {
    "duration": 466,
    "start_time": "2021-11-28T12:45:02.277Z"
   },
   {
    "duration": 744,
    "start_time": "2021-11-28T12:45:02.745Z"
   },
   {
    "duration": 13,
    "start_time": "2021-11-28T12:45:03.492Z"
   },
   {
    "duration": 11,
    "start_time": "2021-11-28T12:45:03.508Z"
   },
   {
    "duration": 9,
    "start_time": "2021-11-28T12:45:03.522Z"
   },
   {
    "duration": 7,
    "start_time": "2021-11-28T12:45:03.559Z"
   },
   {
    "duration": 14,
    "start_time": "2021-11-28T12:45:03.569Z"
   },
   {
    "duration": 604,
    "start_time": "2021-11-28T12:45:03.585Z"
   },
   {
    "duration": 13,
    "start_time": "2021-11-28T12:45:04.192Z"
   },
   {
    "duration": 780,
    "start_time": "2021-11-28T12:45:04.209Z"
   },
   {
    "duration": 451,
    "start_time": "2021-11-28T12:45:04.991Z"
   },
   {
    "duration": 27,
    "start_time": "2021-11-28T12:45:05.446Z"
   },
   {
    "duration": 19,
    "start_time": "2021-11-28T12:45:05.476Z"
   }
  ],
  "kernelspec": {
   "display_name": "Python 3",
   "language": "python",
   "name": "python3"
  },
  "language_info": {
   "codemirror_mode": {
    "name": "ipython",
    "version": 3
   },
   "file_extension": ".py",
   "mimetype": "text/x-python",
   "name": "python",
   "nbconvert_exporter": "python",
   "pygments_lexer": "ipython3",
   "version": "3.8.8"
  },
  "toc": {
   "base_numbering": 1,
   "nav_menu": {},
   "number_sections": true,
   "sideBar": true,
   "skip_h1_title": true,
   "title_cell": "Table of Contents",
   "title_sidebar": "Contents",
   "toc_cell": false,
   "toc_position": {
    "height": "calc(100% - 180px)",
    "left": "10px",
    "top": "150px",
    "width": "247px"
   },
   "toc_section_display": true,
   "toc_window_display": false
  }
 },
 "nbformat": 4,
 "nbformat_minor": 4
}
