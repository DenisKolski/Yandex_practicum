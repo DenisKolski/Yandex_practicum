{
 "cells": [
  {
   "cell_type": "markdown",
   "metadata": {
    "toc": true
   },
   "source": [
    "<h1>Содержание<span class=\"tocSkip\"></span></h1>\n",
    "<div class=\"toc\"><ul class=\"toc-item\"><li><span><a href=\"#Загрузка-данных\" data-toc-modified-id=\"Загрузка-данных-1\"><span class=\"toc-item-num\">1&nbsp;&nbsp;</span>Загрузка данных</a></span></li><li><span><a href=\"#Умножение-матриц\" data-toc-modified-id=\"Умножение-матриц-2\"><span class=\"toc-item-num\">2&nbsp;&nbsp;</span>Умножение матриц</a></span></li><li><span><a href=\"#Алгоритм-преобразования\" data-toc-modified-id=\"Алгоритм-преобразования-3\"><span class=\"toc-item-num\">3&nbsp;&nbsp;</span>Алгоритм преобразования</a></span></li><li><span><a href=\"#Проверка-алгоритма\" data-toc-modified-id=\"Проверка-алгоритма-4\"><span class=\"toc-item-num\">4&nbsp;&nbsp;</span>Проверка алгоритма</a></span><ul class=\"toc-item\"><li><span><a href=\"#Стандратизация-признаков\" data-toc-modified-id=\"Стандратизация-признаков-4.1\"><span class=\"toc-item-num\">4.1&nbsp;&nbsp;</span>Стандратизация признаков</a></span></li><li><span><a href=\"#Разделение-исходных-данных-на-признаки-и-целевой-признак\" data-toc-modified-id=\"Разделение-исходных-данных-на-признаки-и-целевой-признак-4.2\"><span class=\"toc-item-num\">4.2&nbsp;&nbsp;</span>Разделение исходных данных на признаки и целевой признак</a></span></li><li><span><a href=\"#Создание-матрицы-для-защиты-персональных-данных\" data-toc-modified-id=\"Создание-матрицы-для-защиты-персональных-данных-4.3\"><span class=\"toc-item-num\">4.3&nbsp;&nbsp;</span>Создание матрицы для защиты персональных данных</a></span></li><li><span><a href=\"#Обучение-модели\" data-toc-modified-id=\"Обучение-модели-4.4\"><span class=\"toc-item-num\">4.4&nbsp;&nbsp;</span>Обучение модели</a></span></li><li><span><a href=\"#Обучение-модели-с-использованием-преобразованных-признаков\" data-toc-modified-id=\"Обучение-модели-с-использованием-преобразованных-признаков-4.5\"><span class=\"toc-item-num\">4.5&nbsp;&nbsp;</span>Обучение модели с использованием преобразованных признаков</a></span></li><li><span><a href=\"#Обучение-модели-более-подходящей-для-задачи\" data-toc-modified-id=\"Обучение-модели-более-подходящей-для-задачи-4.6\"><span class=\"toc-item-num\">4.6&nbsp;&nbsp;</span>Обучение модели более подходящей для задачи</a></span><ul class=\"toc-item\"><li><span><a href=\"#Обучение-модели-без-наложения-случайной-матрицы\" data-toc-modified-id=\"Обучение-модели-без-наложения-случайной-матрицы-4.6.1\"><span class=\"toc-item-num\">4.6.1&nbsp;&nbsp;</span>Обучение модели без наложения случайной матрицы</a></span></li><li><span><a href=\"#Обучение-модели-с-наложением-случайной-матрицы\" data-toc-modified-id=\"Обучение-модели-с-наложением-случайной-матрицы-4.6.2\"><span class=\"toc-item-num\">4.6.2&nbsp;&nbsp;</span>Обучение модели с наложением случайной матрицы</a></span></li></ul></li></ul></li><li><span><a href=\"#Чек-лист-проверки\" data-toc-modified-id=\"Чек-лист-проверки-5\"><span class=\"toc-item-num\">5&nbsp;&nbsp;</span>Чек-лист проверки</a></span></li></ul></div>"
   ]
  },
  {
   "cell_type": "markdown",
   "metadata": {},
   "source": [
    "# Защита персональных данных клиентов"
   ]
  },
  {
   "cell_type": "markdown",
   "metadata": {},
   "source": [
    "Вам нужно защитить данные клиентов страховой компании «Хоть потоп». Разработайте такой метод преобразования данных, чтобы по ним было сложно восстановить персональную информацию. Обоснуйте корректность его работы.\n",
    "\n",
    "Нужно защитить данные, чтобы при преобразовании качество моделей машинного обучения не ухудшилось. Подбирать наилучшую модель не требуется."
   ]
  },
  {
   "cell_type": "markdown",
   "metadata": {},
   "source": [
    "## Загрузка данных"
   ]
  },
  {
   "cell_type": "code",
   "execution_count": 1,
   "metadata": {},
   "outputs": [],
   "source": [
    "import pandas as pd\n",
    "import numpy as np\n",
    "import matplotlib.pyplot as plt\n",
    "import seaborn as sns\n",
    "from sklearn.model_selection import train_test_split\n",
    "from sklearn.metrics import r2_score\n",
    "from catboost import CatBoostRegressor\n",
    "from sklearn.preprocessing import StandardScaler\n",
    "import warnings\n",
    "warnings.filterwarnings('ignore')"
   ]
  },
  {
   "cell_type": "code",
   "execution_count": 2,
   "metadata": {},
   "outputs": [],
   "source": [
    "RND = 12345"
   ]
  },
  {
   "cell_type": "code",
   "execution_count": 3,
   "metadata": {},
   "outputs": [],
   "source": [
    "df = pd.read_csv(\"insurance.csv\")"
   ]
  },
  {
   "cell_type": "code",
   "execution_count": 4,
   "metadata": {},
   "outputs": [
    {
     "data": {
      "text/html": [
       "<div>\n",
       "<style scoped>\n",
       "    .dataframe tbody tr th:only-of-type {\n",
       "        vertical-align: middle;\n",
       "    }\n",
       "\n",
       "    .dataframe tbody tr th {\n",
       "        vertical-align: top;\n",
       "    }\n",
       "\n",
       "    .dataframe thead th {\n",
       "        text-align: right;\n",
       "    }\n",
       "</style>\n",
       "<table border=\"1\" class=\"dataframe\">\n",
       "  <thead>\n",
       "    <tr style=\"text-align: right;\">\n",
       "      <th></th>\n",
       "      <th>Пол</th>\n",
       "      <th>Возраст</th>\n",
       "      <th>Зарплата</th>\n",
       "      <th>Члены семьи</th>\n",
       "      <th>Страховые выплаты</th>\n",
       "    </tr>\n",
       "  </thead>\n",
       "  <tbody>\n",
       "    <tr>\n",
       "      <td>4710</td>\n",
       "      <td>1</td>\n",
       "      <td>30.0</td>\n",
       "      <td>37600.0</td>\n",
       "      <td>6</td>\n",
       "      <td>0</td>\n",
       "    </tr>\n",
       "    <tr>\n",
       "      <td>4918</td>\n",
       "      <td>1</td>\n",
       "      <td>18.0</td>\n",
       "      <td>47500.0</td>\n",
       "      <td>0</td>\n",
       "      <td>0</td>\n",
       "    </tr>\n",
       "    <tr>\n",
       "      <td>3729</td>\n",
       "      <td>1</td>\n",
       "      <td>18.0</td>\n",
       "      <td>46700.0</td>\n",
       "      <td>2</td>\n",
       "      <td>0</td>\n",
       "    </tr>\n",
       "    <tr>\n",
       "      <td>1174</td>\n",
       "      <td>1</td>\n",
       "      <td>30.0</td>\n",
       "      <td>19300.0</td>\n",
       "      <td>1</td>\n",
       "      <td>0</td>\n",
       "    </tr>\n",
       "    <tr>\n",
       "      <td>2700</td>\n",
       "      <td>1</td>\n",
       "      <td>26.0</td>\n",
       "      <td>46800.0</td>\n",
       "      <td>2</td>\n",
       "      <td>0</td>\n",
       "    </tr>\n",
       "    <tr>\n",
       "      <td>2357</td>\n",
       "      <td>1</td>\n",
       "      <td>44.0</td>\n",
       "      <td>46400.0</td>\n",
       "      <td>2</td>\n",
       "      <td>1</td>\n",
       "    </tr>\n",
       "    <tr>\n",
       "      <td>4133</td>\n",
       "      <td>1</td>\n",
       "      <td>24.0</td>\n",
       "      <td>41300.0</td>\n",
       "      <td>0</td>\n",
       "      <td>0</td>\n",
       "    </tr>\n",
       "    <tr>\n",
       "      <td>3155</td>\n",
       "      <td>0</td>\n",
       "      <td>36.0</td>\n",
       "      <td>43200.0</td>\n",
       "      <td>1</td>\n",
       "      <td>0</td>\n",
       "    </tr>\n",
       "    <tr>\n",
       "      <td>4847</td>\n",
       "      <td>0</td>\n",
       "      <td>43.0</td>\n",
       "      <td>36600.0</td>\n",
       "      <td>1</td>\n",
       "      <td>1</td>\n",
       "    </tr>\n",
       "    <tr>\n",
       "      <td>140</td>\n",
       "      <td>0</td>\n",
       "      <td>30.0</td>\n",
       "      <td>43600.0</td>\n",
       "      <td>1</td>\n",
       "      <td>0</td>\n",
       "    </tr>\n",
       "  </tbody>\n",
       "</table>\n",
       "</div>"
      ],
      "text/plain": [
       "      Пол  Возраст  Зарплата  Члены семьи  Страховые выплаты\n",
       "4710    1     30.0   37600.0            6                  0\n",
       "4918    1     18.0   47500.0            0                  0\n",
       "3729    1     18.0   46700.0            2                  0\n",
       "1174    1     30.0   19300.0            1                  0\n",
       "2700    1     26.0   46800.0            2                  0\n",
       "2357    1     44.0   46400.0            2                  1\n",
       "4133    1     24.0   41300.0            0                  0\n",
       "3155    0     36.0   43200.0            1                  0\n",
       "4847    0     43.0   36600.0            1                  1\n",
       "140     0     30.0   43600.0            1                  0"
      ]
     },
     "execution_count": 4,
     "metadata": {},
     "output_type": "execute_result"
    }
   ],
   "source": [
    "df.sample(10) "
   ]
  },
  {
   "cell_type": "code",
   "execution_count": 5,
   "metadata": {},
   "outputs": [
    {
     "name": "stdout",
     "output_type": "stream",
     "text": [
      "<class 'pandas.core.frame.DataFrame'>\n",
      "RangeIndex: 5000 entries, 0 to 4999\n",
      "Data columns (total 5 columns):\n",
      "Пол                  5000 non-null int64\n",
      "Возраст              5000 non-null float64\n",
      "Зарплата             5000 non-null float64\n",
      "Члены семьи          5000 non-null int64\n",
      "Страховые выплаты    5000 non-null int64\n",
      "dtypes: float64(2), int64(3)\n",
      "memory usage: 195.4 KB\n"
     ]
    }
   ],
   "source": [
    "df.info()"
   ]
  },
  {
   "cell_type": "markdown",
   "metadata": {},
   "source": [
    "В данных нет колонки с ID клиентов, поэтому поиск дубликатов не проводим."
   ]
  },
  {
   "cell_type": "code",
   "execution_count": 6,
   "metadata": {},
   "outputs": [
    {
     "data": {
      "text/plain": [
       "<matplotlib.axes._subplots.AxesSubplot at 0x7f0740547210>"
      ]
     },
     "execution_count": 6,
     "metadata": {},
     "output_type": "execute_result"
    },
    {
     "data": {
      "image/png": "[encoded data removed]",
      "text/plain": [
       "<Figure size 432x432 with 2 Axes>"
      ]
     },
     "metadata": {
      "needs_background": "light"
     },
     "output_type": "display_data"
    }
   ],
   "source": [
    "plt.figure(figsize = (6,6))\n",
    "plt.title('Корреляция между признаками', size=14)\n",
    "sns.heatmap(df.corr(), annot = True, square=True)"
   ]
  },
  {
   "cell_type": "markdown",
   "metadata": {},
   "source": [
    "Среди признаков, по которым будет происходить обучение отсутствует значимая корреляция. Имеется средняя степень корреляции между возрастом и целевым признаком - страховые выплаты."
   ]
  },
  {
   "cell_type": "code",
   "execution_count": 7,
   "metadata": {},
   "outputs": [
    {
     "data": {
      "text/plain": [
       "array([[<matplotlib.axes._subplots.AxesSubplot object at 0x7f06aba46290>,\n",
       "        <matplotlib.axes._subplots.AxesSubplot object at 0x7f06ab3aead0>],\n",
       "       [<matplotlib.axes._subplots.AxesSubplot object at 0x7f06ab36de10>,\n",
       "        <matplotlib.axes._subplots.AxesSubplot object at 0x7f06ab324ad0>],\n",
       "       [<matplotlib.axes._subplots.AxesSubplot object at 0x7f06ab2e3e50>,\n",
       "        <matplotlib.axes._subplots.AxesSubplot object at 0x7f06ab29ab10>]],\n",
       "      dtype=object)"
      ]
     },
     "execution_count": 7,
     "metadata": {},
     "output_type": "execute_result"
    },
    {
     "data": {
      "image/png": "[encoded data removed]",
      "text/plain": [
       "<Figure size 1080x1080 with 6 Axes>"
      ]
     },
     "metadata": {
      "needs_background": "light"
     },
     "output_type": "display_data"
    }
   ],
   "source": [
    "df.hist(bins = 24, figsize = (15,15))"
   ]
  },
  {
   "cell_type": "markdown",
   "metadata": {},
   "source": [
    "Из распределений выплат можно сделать следующие выводы:\n",
    "- целевой признак имеет дискретное распределение с максимумом в нуле;\n",
    "- возраст имеет вид логнормального распределения;\n",
    "- зарплата распределена нормально, что говорит о том, что данные скорее всего синтетические, так как обычно распределение зарплаты имеет длинный хвост в области высоких значений и при логарифмировании обычно имеет колоколообразный вид;\n",
    "- признак пол также указывает на синтетическую природу данных, так как обычно женщин больше, чем мужчин среди взрослого населения.\n",
    "\n"
   ]
  },
  {
   "cell_type": "markdown",
   "metadata": {},
   "source": [
    "## Умножение матриц"
   ]
  },
  {
   "cell_type": "markdown",
   "metadata": {},
   "source": [
    "В этом задании вы можете записывать формулы в *Jupyter Notebook.*\n",
    "\n",
    "Чтобы записать формулу внутри текста, окружите её символами доллара \\\\$; если снаружи —  двойными символами \\\\$\\\\$. Эти формулы записываются на языке вёрстки *LaTeX.* \n",
    "\n",
    "Для примера мы записали формулы линейной регрессии. Можете их скопировать и отредактировать, чтобы решить задачу.\n",
    "\n",
    "Работать в *LaTeX* необязательно."
   ]
  },
  {
   "cell_type": "markdown",
   "metadata": {},
   "source": [
    "Обозначения:\n",
    "\n",
    "- $X$ — матрица признаков (нулевой столбец состоит из единиц)\n",
    "\n",
    "- $y$ — вектор целевого признака\n",
    "\n",
    "- $P$ — матрица, на которую умножаются признаки\n",
    "\n",
    "- $w$ — вектор весов линейной регрессии (нулевой элемент равен сдвигу)"
   ]
  },
  {
   "cell_type": "markdown",
   "metadata": {},
   "source": [
    "Предсказания:\n",
    "\n",
    "$$\n",
    "a = Xw\n",
    "$$\n",
    "\n",
    "Задача обучения:\n",
    "\n",
    "$$\n",
    "w = \\arg\\min_w MSE(Xw, y)\n",
    "$$\n",
    "\n",
    "Формула обучения:\n",
    "\n",
    "$$\n",
    "w = (X^T X)^{-1} X^T y\n",
    "$$"
   ]
  },
  {
   "cell_type": "markdown",
   "metadata": {},
   "source": [
    "**Признаки умножают на обратимую матрицу. Изменится ли качество линейной регрессии? (Её можно обучить заново.)**\n",
    "- a. Изменится. Приведите примеры матриц.\n",
    "- b. Не изменится. Укажите, как связаны параметры линейной регрессии в исходной задаче и в преобразованной."
   ]
  },
  {
   "cell_type": "markdown",
   "metadata": {},
   "source": [
    "Произведем замену:\n",
    "\n",
    "$$X' = XP$$\n",
    "\n",
    "Тогда вектор весов $w'$ получим следующим образом:\n",
    "\n",
    "$$w' = ((XP)^{T} XP)^{-1} (XP)^{T} y =  \n",
    "     (P^{T}X^{T} XP)^{-1}P^{T}X^{T}y  = \\\\ \n",
    "     = P^{-1} (X^{T} X)^{-1} (P^{T})^{-1} P^{T}X^{T}y \n",
    "     = P^{-1} w, $$\n",
    "     \n",
    "использовав свойство единичной матрицы\n",
    "\n",
    "$$(P^{T})^{-1} P^{T} = Е = 1$$ \n",
    "\n",
    "\n",
    "Таким образом, подставляя выражения для  $X'$ и $w'$ получаем:\n",
    "\n",
    "$$ a' = X'w' = XPP^{-1}w = XEw = Xw= a $$\n",
    "\n",
    "Что и требовалось доказать.\n",
    "\n",
    "Таким образом, если матрицу признаков домножить на любую матрицу имеющую обратную матрицу, то результат работы модели не изменится.\n",
    "\n",
    "**Вывод:** Предсказания модели не изменились, значит, и метрики качество не должны изменяться. "
   ]
  },
  {
   "cell_type": "markdown",
   "metadata": {},
   "source": [
    "**Ответ:** Не изменится. \n",
    "\n",
    "**Обоснование:** Домножение на обратимую матрицу происходит как матрицы признаков, так и векторов весов модели. Таким, образом, происходит последовательное умножение на матрицу и обратную матрицу, что не изменяем результат. "
   ]
  },
  {
   "cell_type": "markdown",
   "metadata": {},
   "source": [
    "## Алгоритм преобразования"
   ]
  },
  {
   "cell_type": "markdown",
   "metadata": {},
   "source": [
    "**Алгоритм**\n",
    "- создадим случайную матрицу требуемой размерности;\n",
    "- проверим ее на обратимость;\n",
    "- домножим на матрицу признаков;\n",
    "- сравним результаты моделей до и после преобразования."
   ]
  },
  {
   "cell_type": "markdown",
   "metadata": {},
   "source": [
    "**Обоснование**\n",
    "Такой алгоритм позволит защитить персональные данные клиентов, обеспечив такое же качество моделей машинного обучения."
   ]
  },
  {
   "cell_type": "markdown",
   "metadata": {},
   "source": [
    "## Проверка алгоритма"
   ]
  },
  {
   "cell_type": "markdown",
   "metadata": {},
   "source": [
    "### Стандратизация признаков"
   ]
  },
  {
   "cell_type": "code",
   "execution_count": 8,
   "metadata": {},
   "outputs": [],
   "source": [
    "scaler = StandardScaler()\n",
    "scaler.fit(df[['Возраст', 'Зарплата']])\n",
    "df[['Возраст', 'Зарплата']] = scaler.transform(df[['Возраст', 'Зарплата']])"
   ]
  },
  {
   "cell_type": "markdown",
   "metadata": {},
   "source": [
    "### Разделение исходных данных на признаки и целевой признак"
   ]
  },
  {
   "cell_type": "code",
   "execution_count": 9,
   "metadata": {},
   "outputs": [],
   "source": [
    "X = df.drop('Страховые выплаты', axis = 1)\n",
    "y = df['Страховые выплаты']"
   ]
  },
  {
   "cell_type": "markdown",
   "metadata": {},
   "source": [
    "### Создание матрицы для защиты персональных данных"
   ]
  },
  {
   "cell_type": "code",
   "execution_count": 10,
   "metadata": {},
   "outputs": [],
   "source": [
    "random_matrix = np.random.random((X.shape[1], X.shape[1]))\n"
   ]
  },
  {
   "cell_type": "code",
   "execution_count": 11,
   "metadata": {},
   "outputs": [
    {
     "data": {
      "text/plain": [
       "array([[-1.67494198, -2.08107911,  2.99730631,  2.9654363 ],\n",
       "       [ 0.61885641,  1.4515408 , -2.20785438,  0.59055415],\n",
       "       [-1.35753908,  0.37820484,  1.21770768,  0.72893431],\n",
       "       [ 2.39131628,  1.17834163, -1.63560748, -3.10620756]])"
      ]
     },
     "execution_count": 11,
     "metadata": {},
     "output_type": "execute_result"
    }
   ],
   "source": [
    "np.linalg.inv(random_matrix)"
   ]
  },
  {
   "cell_type": "markdown",
   "metadata": {},
   "source": [
    "Обратная матрица найдена, поэтому матрица для защиты персональных данных обратимая. \n",
    "Матрица, имеющая обратную, должна быть квадратная. "
   ]
  },
  {
   "cell_type": "raw",
   "metadata": {},
   "source": [
    "def generate_invertible_matrix(size):\n",
    "    try:\n",
    "        matrix = np.random.normal(size=(size, size))\n",
    "        # проверим матрицу на обратимость, если нет, пробуем сгенерировать еще раз\n",
    "        # таким образом гарантируем, что матрица стопроцентно будет обратимой\n",
    "        np.linalg.inv(matrix)\n",
    "    except np.linalg.LinAlgError:\n",
    "        matrix = generate_invertible_matrix()\n",
    "    \n",
    "    return matrix"
   ]
  },
  {
   "cell_type": "code",
   "execution_count": 12,
   "metadata": {},
   "outputs": [],
   "source": [
    "X_gamma = X @ random_matrix #создали новые признаки"
   ]
  },
  {
   "cell_type": "markdown",
   "metadata": {},
   "source": [
    "### Обучение модели"
   ]
  },
  {
   "cell_type": "code",
   "execution_count": 13,
   "metadata": {},
   "outputs": [],
   "source": [
    "X = X.values\n"
   ]
  },
  {
   "cell_type": "code",
   "execution_count": 14,
   "metadata": {},
   "outputs": [],
   "source": [
    "X_train, X_test, y_train, y_test = train_test_split(\n",
    "X, y, test_size=0.33, random_state=RND)"
   ]
  },
  {
   "cell_type": "code",
   "execution_count": 15,
   "metadata": {},
   "outputs": [],
   "source": [
    "class LinearRegression:\n",
    "    def fit(self, train_features, train_target):\n",
    "        X = np.concatenate((np.ones((train_features.shape[0], 1)), train_features), axis=1)\n",
    "        y = train_target\n",
    "        w = ((np.linalg.inv(X.T.dot(X))).dot(X.T)).dot(y)\n",
    "        self.w = w[1:]\n",
    "        self.w0 = w[0]\n",
    "\n",
    "    def predict(self, test_features):\n",
    "        return test_features.dot(self.w) + self.w0"
   ]
  },
  {
   "cell_type": "code",
   "execution_count": 16,
   "metadata": {},
   "outputs": [],
   "source": [
    "model = LinearRegression()"
   ]
  },
  {
   "cell_type": "code",
   "execution_count": 17,
   "metadata": {},
   "outputs": [],
   "source": [
    "model.fit(X_train, y_train)"
   ]
  },
  {
   "cell_type": "code",
   "execution_count": 18,
   "metadata": {},
   "outputs": [],
   "source": [
    "predicted = model.predict(X_test)"
   ]
  },
  {
   "cell_type": "code",
   "execution_count": 19,
   "metadata": {},
   "outputs": [
    {
     "data": {
      "text/plain": [
       "0.4269864799858829"
      ]
     },
     "execution_count": 19,
     "metadata": {},
     "output_type": "execute_result"
    }
   ],
   "source": [
    "r2 = r2_score(y_test, predicted); r2"
   ]
  },
  {
   "cell_type": "markdown",
   "metadata": {},
   "source": [
    "### Обучение модели с использованием преобразованных признаков"
   ]
  },
  {
   "cell_type": "code",
   "execution_count": 20,
   "metadata": {},
   "outputs": [],
   "source": [
    "X_train, X_test, y_train, y_test = train_test_split(\n",
    "X_gamma, y, test_size=0.33, random_state=RND)"
   ]
  },
  {
   "cell_type": "code",
   "execution_count": 21,
   "metadata": {},
   "outputs": [],
   "source": [
    "class LinearRegression:\n",
    "    def fit(self, train_features, train_target):\n",
    "        X = np.concatenate((np.ones((train_features.shape[0], 1)), train_features), axis=1)\n",
    "        y = train_target\n",
    "        w = ((np.linalg.inv(X.T.dot(X))).dot(X.T)).dot(y)\n",
    "        self.w = w[1:]\n",
    "        self.w0 = w[0]\n",
    "\n",
    "    def predict(self, test_features):\n",
    "        return test_features.dot(self.w) + self.w0"
   ]
  },
  {
   "cell_type": "code",
   "execution_count": 22,
   "metadata": {},
   "outputs": [],
   "source": [
    "model = LinearRegression()"
   ]
  },
  {
   "cell_type": "code",
   "execution_count": 23,
   "metadata": {},
   "outputs": [],
   "source": [
    "model.fit(X_train, y_train)"
   ]
  },
  {
   "cell_type": "code",
   "execution_count": 24,
   "metadata": {},
   "outputs": [],
   "source": [
    "predicted = model.predict(X_test)"
   ]
  },
  {
   "cell_type": "code",
   "execution_count": 25,
   "metadata": {},
   "outputs": [
    {
     "data": {
      "text/plain": [
       "0.426986479985883"
      ]
     },
     "execution_count": 25,
     "metadata": {},
     "output_type": "execute_result"
    }
   ],
   "source": [
    "r2_gamma = r2_score(y_test, predicted); r2_gamma"
   ]
  },
  {
   "cell_type": "code",
   "execution_count": 26,
   "metadata": {},
   "outputs": [
    {
     "data": {
      "text/plain": [
       "-2.600136249423782e-14"
      ]
     },
     "execution_count": 26,
     "metadata": {},
     "output_type": "execute_result"
    }
   ],
   "source": [
    "(r2 - r2_gamma)*100 / r2_gamma"
   ]
  },
  {
   "cell_type": "markdown",
   "metadata": {},
   "source": [
    "Разность между метрикой r2 для, полученных на основе признаков и преобразованных признаков несущественна. Поэтому можно сделать вывод, что преобразование признаков позволило скрыть персональные данные при этом это не повлияло на качество обучения."
   ]
  },
  {
   "cell_type": "markdown",
   "metadata": {},
   "source": [
    "### Обучение модели более подходящей для задачи"
   ]
  },
  {
   "cell_type": "markdown",
   "metadata": {},
   "source": [
    "#### Обучение модели без наложения случайной матрицы"
   ]
  },
  {
   "cell_type": "code",
   "execution_count": 27,
   "metadata": {},
   "outputs": [
    {
     "name": "stdout",
     "output_type": "stream",
     "text": [
      "0:\tlearn: 0.4591087\ttotal: 48.1ms\tremaining: 48.1s\n",
      "1:\tlearn: 0.4478435\ttotal: 50.6ms\tremaining: 25.2s\n",
      "2:\tlearn: 0.4374214\ttotal: 55.4ms\tremaining: 18.4s\n",
      "3:\tlearn: 0.4271300\ttotal: 59.4ms\tremaining: 14.8s\n",
      "4:\tlearn: 0.4158822\ttotal: 62.3ms\tremaining: 12.4s\n",
      "5:\tlearn: 0.4058960\ttotal: 63.6ms\tremaining: 10.5s\n",
      "6:\tlearn: 0.3962567\ttotal: 64.7ms\tremaining: 9.18s\n",
      "7:\tlearn: 0.3864453\ttotal: 72ms\tremaining: 8.93s\n",
      "8:\tlearn: 0.3764362\ttotal: 152ms\tremaining: 16.7s\n",
      "9:\tlearn: 0.3684293\ttotal: 153ms\tremaining: 15.1s\n",
      "10:\tlearn: 0.3591512\ttotal: 154ms\tremaining: 13.9s\n",
      "11:\tlearn: 0.3509650\ttotal: 155ms\tremaining: 12.8s\n",
      "12:\tlearn: 0.3422272\ttotal: 156ms\tremaining: 11.9s\n",
      "13:\tlearn: 0.3342653\ttotal: 159ms\tremaining: 11.2s\n",
      "14:\tlearn: 0.3263273\ttotal: 163ms\tremaining: 10.7s\n",
      "15:\tlearn: 0.3182874\ttotal: 249ms\tremaining: 15.3s\n",
      "16:\tlearn: 0.3107025\ttotal: 250ms\tremaining: 14.5s\n",
      "17:\tlearn: 0.3029814\ttotal: 251ms\tremaining: 13.7s\n",
      "18:\tlearn: 0.2968277\ttotal: 255ms\tremaining: 13.2s\n",
      "19:\tlearn: 0.2900246\ttotal: 258ms\tremaining: 12.6s\n",
      "20:\tlearn: 0.2839388\ttotal: 346ms\tremaining: 16.1s\n",
      "21:\tlearn: 0.2772840\ttotal: 347ms\tremaining: 15.4s\n",
      "22:\tlearn: 0.2707004\ttotal: 348ms\tremaining: 14.8s\n",
      "23:\tlearn: 0.2637545\ttotal: 350ms\tremaining: 14.2s\n",
      "24:\tlearn: 0.2570531\ttotal: 351ms\tremaining: 13.7s\n",
      "25:\tlearn: 0.2516173\ttotal: 352ms\tremaining: 13.2s\n",
      "26:\tlearn: 0.2456090\ttotal: 361ms\tremaining: 13s\n",
      "27:\tlearn: 0.2399862\ttotal: 364ms\tremaining: 12.6s\n",
      "28:\tlearn: 0.2347496\ttotal: 443ms\tremaining: 14.8s\n",
      "29:\tlearn: 0.2302085\ttotal: 445ms\tremaining: 14.4s\n",
      "30:\tlearn: 0.2250879\ttotal: 447ms\tremaining: 14s\n",
      "31:\tlearn: 0.2199157\ttotal: 448ms\tremaining: 13.6s\n",
      "32:\tlearn: 0.2150415\ttotal: 450ms\tremaining: 13.2s\n",
      "33:\tlearn: 0.2105603\ttotal: 456ms\tremaining: 13s\n",
      "34:\tlearn: 0.2061388\ttotal: 460ms\tremaining: 12.7s\n",
      "35:\tlearn: 0.2017544\ttotal: 541ms\tremaining: 14.5s\n",
      "36:\tlearn: 0.1974381\ttotal: 542ms\tremaining: 14.1s\n",
      "37:\tlearn: 0.1934370\ttotal: 544ms\tremaining: 13.8s\n",
      "38:\tlearn: 0.1891322\ttotal: 545ms\tremaining: 13.4s\n",
      "39:\tlearn: 0.1847944\ttotal: 546ms\tremaining: 13.1s\n",
      "40:\tlearn: 0.1809094\ttotal: 547ms\tremaining: 12.8s\n",
      "41:\tlearn: 0.1772755\ttotal: 548ms\tremaining: 12.5s\n",
      "42:\tlearn: 0.1739315\ttotal: 552ms\tremaining: 12.3s\n",
      "43:\tlearn: 0.1705819\ttotal: 638ms\tremaining: 13.9s\n",
      "44:\tlearn: 0.1670854\ttotal: 639ms\tremaining: 13.6s\n",
      "45:\tlearn: 0.1639498\ttotal: 641ms\tremaining: 13.3s\n",
      "46:\tlearn: 0.1607746\ttotal: 642ms\tremaining: 13s\n",
      "47:\tlearn: 0.1579001\ttotal: 643ms\tremaining: 12.8s\n",
      "48:\tlearn: 0.1546983\ttotal: 644ms\tremaining: 12.5s\n",
      "49:\tlearn: 0.1517089\ttotal: 645ms\tremaining: 12.3s\n",
      "50:\tlearn: 0.1489707\ttotal: 646ms\tremaining: 12s\n",
      "51:\tlearn: 0.1463299\ttotal: 647ms\tremaining: 11.8s\n",
      "52:\tlearn: 0.1435217\ttotal: 648ms\tremaining: 11.6s\n",
      "53:\tlearn: 0.1409717\ttotal: 649ms\tremaining: 11.4s\n",
      "54:\tlearn: 0.1385965\ttotal: 738ms\tremaining: 12.7s\n",
      "55:\tlearn: 0.1362561\ttotal: 739ms\tremaining: 12.5s\n",
      "56:\tlearn: 0.1337606\ttotal: 741ms\tremaining: 12.3s\n",
      "57:\tlearn: 0.1313914\ttotal: 742ms\tremaining: 12s\n",
      "58:\tlearn: 0.1293713\ttotal: 743ms\tremaining: 11.8s\n",
      "59:\tlearn: 0.1270978\ttotal: 744ms\tremaining: 11.7s\n",
      "60:\tlearn: 0.1249679\ttotal: 751ms\tremaining: 11.6s\n",
      "61:\tlearn: 0.1229217\ttotal: 752ms\tremaining: 11.4s\n",
      "62:\tlearn: 0.1206085\ttotal: 831ms\tremaining: 12.4s\n",
      "63:\tlearn: 0.1186054\ttotal: 832ms\tremaining: 12.2s\n",
      "64:\tlearn: 0.1169984\ttotal: 833ms\tremaining: 12s\n",
      "65:\tlearn: 0.1143523\ttotal: 834ms\tremaining: 11.8s\n",
      "66:\tlearn: 0.1125862\ttotal: 838ms\tremaining: 11.7s\n",
      "67:\tlearn: 0.1106218\ttotal: 839ms\tremaining: 11.5s\n",
      "68:\tlearn: 0.1083208\ttotal: 840ms\tremaining: 11.3s\n",
      "69:\tlearn: 0.1068429\ttotal: 841ms\tremaining: 11.2s\n",
      "70:\tlearn: 0.1053435\ttotal: 842ms\tremaining: 11s\n",
      "71:\tlearn: 0.1035913\ttotal: 928ms\tremaining: 12s\n",
      "72:\tlearn: 0.1014180\ttotal: 929ms\tremaining: 11.8s\n",
      "73:\tlearn: 0.0999908\ttotal: 931ms\tremaining: 11.7s\n",
      "74:\tlearn: 0.0987726\ttotal: 932ms\tremaining: 11.5s\n",
      "75:\tlearn: 0.0965645\ttotal: 934ms\tremaining: 11.3s\n",
      "76:\tlearn: 0.0947761\ttotal: 935ms\tremaining: 11.2s\n",
      "77:\tlearn: 0.0936687\ttotal: 936ms\tremaining: 11.1s\n",
      "78:\tlearn: 0.0925780\ttotal: 939ms\tremaining: 10.9s\n",
      "79:\tlearn: 0.0916403\ttotal: 1.02s\tremaining: 11.8s\n",
      "80:\tlearn: 0.0906896\ttotal: 1.03s\tremaining: 11.7s\n",
      "81:\tlearn: 0.0895764\ttotal: 1.03s\tremaining: 11.5s\n",
      "82:\tlearn: 0.0878039\ttotal: 1.03s\tremaining: 11.4s\n",
      "83:\tlearn: 0.0861714\ttotal: 1.03s\tremaining: 11.2s\n",
      "84:\tlearn: 0.0851898\ttotal: 1.03s\tremaining: 11.1s\n",
      "85:\tlearn: 0.0841396\ttotal: 1.03s\tremaining: 11s\n",
      "86:\tlearn: 0.0823764\ttotal: 1.03s\tremaining: 10.9s\n",
      "87:\tlearn: 0.0814698\ttotal: 1.04s\tremaining: 10.8s\n",
      "88:\tlearn: 0.0804777\ttotal: 1.12s\tremaining: 11.5s\n",
      "89:\tlearn: 0.0796574\ttotal: 1.12s\tremaining: 11.4s\n",
      "90:\tlearn: 0.0788052\ttotal: 1.13s\tremaining: 11.2s\n",
      "91:\tlearn: 0.0779896\ttotal: 1.13s\tremaining: 11.1s\n",
      "92:\tlearn: 0.0765865\ttotal: 1.13s\tremaining: 11s\n",
      "93:\tlearn: 0.0749875\ttotal: 1.13s\tremaining: 10.9s\n",
      "94:\tlearn: 0.0736058\ttotal: 1.13s\tremaining: 10.8s\n",
      "95:\tlearn: 0.0721214\ttotal: 1.13s\tremaining: 10.6s\n",
      "96:\tlearn: 0.0713757\ttotal: 1.13s\tremaining: 10.5s\n",
      "97:\tlearn: 0.0707883\ttotal: 1.13s\tremaining: 10.4s\n",
      "98:\tlearn: 0.0696363\ttotal: 1.13s\tremaining: 10.3s\n",
      "99:\tlearn: 0.0690315\ttotal: 1.22s\tremaining: 11s\n",
      "100:\tlearn: 0.0678869\ttotal: 1.22s\tremaining: 10.9s\n",
      "101:\tlearn: 0.0671218\ttotal: 1.22s\tremaining: 10.8s\n",
      "102:\tlearn: 0.0660296\ttotal: 1.22s\tremaining: 10.7s\n",
      "103:\tlearn: 0.0654261\ttotal: 1.22s\tremaining: 10.5s\n",
      "104:\tlearn: 0.0649507\ttotal: 1.23s\tremaining: 10.4s\n",
      "105:\tlearn: 0.0639051\ttotal: 1.23s\tremaining: 10.3s\n",
      "106:\tlearn: 0.0628656\ttotal: 1.23s\tremaining: 10.3s\n",
      "107:\tlearn: 0.0623950\ttotal: 1.32s\tremaining: 10.9s\n",
      "108:\tlearn: 0.0614349\ttotal: 1.32s\tremaining: 10.8s\n",
      "109:\tlearn: 0.0609865\ttotal: 1.32s\tremaining: 10.7s\n",
      "110:\tlearn: 0.0605896\ttotal: 1.32s\tremaining: 10.6s\n",
      "111:\tlearn: 0.0601959\ttotal: 1.32s\tremaining: 10.5s\n",
      "112:\tlearn: 0.0597256\ttotal: 1.32s\tremaining: 10.4s\n",
      "113:\tlearn: 0.0592645\ttotal: 1.33s\tremaining: 10.3s\n",
      "114:\tlearn: 0.0583797\ttotal: 1.33s\tremaining: 10.2s\n",
      "115:\tlearn: 0.0579565\ttotal: 1.33s\tremaining: 10.1s\n",
      "116:\tlearn: 0.0575406\ttotal: 1.41s\tremaining: 10.7s\n",
      "117:\tlearn: 0.0571772\ttotal: 1.41s\tremaining: 10.6s\n",
      "118:\tlearn: 0.0563116\ttotal: 1.42s\tremaining: 10.5s\n",
      "119:\tlearn: 0.0555444\ttotal: 1.42s\tremaining: 10.4s\n",
      "120:\tlearn: 0.0552080\ttotal: 1.42s\tremaining: 10.3s\n",
      "121:\tlearn: 0.0547644\ttotal: 1.42s\tremaining: 10.2s\n",
      "122:\tlearn: 0.0544717\ttotal: 1.42s\tremaining: 10.1s\n",
      "123:\tlearn: 0.0541818\ttotal: 1.42s\tremaining: 10.1s\n",
      "124:\tlearn: 0.0537559\ttotal: 1.51s\tremaining: 10.6s\n",
      "125:\tlearn: 0.0535119\ttotal: 1.51s\tremaining: 10.5s\n",
      "126:\tlearn: 0.0532781\ttotal: 1.51s\tremaining: 10.4s\n",
      "127:\tlearn: 0.0530151\ttotal: 1.51s\tremaining: 10.3s\n",
      "128:\tlearn: 0.0522816\ttotal: 1.51s\tremaining: 10.2s\n",
      "129:\tlearn: 0.0515626\ttotal: 1.52s\tremaining: 10.1s\n",
      "130:\tlearn: 0.0512794\ttotal: 1.52s\tremaining: 10.1s\n",
      "131:\tlearn: 0.0510345\ttotal: 1.52s\tremaining: 9.98s\n",
      "132:\tlearn: 0.0502855\ttotal: 1.52s\tremaining: 9.9s\n",
      "133:\tlearn: 0.0494078\ttotal: 1.52s\tremaining: 9.86s\n",
      "134:\tlearn: 0.0491753\ttotal: 1.61s\tremaining: 10.3s\n",
      "135:\tlearn: 0.0489990\ttotal: 1.61s\tremaining: 10.2s\n",
      "136:\tlearn: 0.0487650\ttotal: 1.61s\tremaining: 10.1s\n",
      "137:\tlearn: 0.0485430\ttotal: 1.61s\tremaining: 10.1s\n",
      "138:\tlearn: 0.0481940\ttotal: 1.61s\tremaining: 9.99s\n",
      "139:\tlearn: 0.0479823\ttotal: 1.61s\tremaining: 9.91s\n",
      "140:\tlearn: 0.0474168\ttotal: 1.62s\tremaining: 9.85s\n",
      "141:\tlearn: 0.0473124\ttotal: 1.7s\tremaining: 10.3s\n",
      "142:\tlearn: 0.0467736\ttotal: 1.71s\tremaining: 10.2s\n",
      "143:\tlearn: 0.0467003\ttotal: 1.71s\tremaining: 10.2s\n",
      "144:\tlearn: 0.0466159\ttotal: 1.71s\tremaining: 10.1s\n",
      "145:\tlearn: 0.0465458\ttotal: 1.71s\tremaining: 10s\n",
      "146:\tlearn: 0.0460415\ttotal: 1.71s\tremaining: 9.93s\n",
      "147:\tlearn: 0.0458979\ttotal: 1.71s\tremaining: 9.86s\n",
      "148:\tlearn: 0.0458166\ttotal: 1.71s\tremaining: 9.78s\n",
      "149:\tlearn: 0.0455491\ttotal: 1.71s\tremaining: 9.71s\n",
      "150:\tlearn: 0.0450135\ttotal: 1.72s\tremaining: 9.68s\n",
      "151:\tlearn: 0.0449447\ttotal: 1.8s\tremaining: 10s\n",
      "152:\tlearn: 0.0448793\ttotal: 1.8s\tremaining: 9.97s\n",
      "153:\tlearn: 0.0447733\ttotal: 1.8s\tremaining: 9.9s\n",
      "154:\tlearn: 0.0447029\ttotal: 1.8s\tremaining: 9.83s\n",
      "155:\tlearn: 0.0443945\ttotal: 1.8s\tremaining: 9.77s\n",
      "156:\tlearn: 0.0443042\ttotal: 1.81s\tremaining: 9.7s\n",
      "157:\tlearn: 0.0442143\ttotal: 1.81s\tremaining: 9.63s\n",
      "158:\tlearn: 0.0436967\ttotal: 1.81s\tremaining: 9.59s\n",
      "159:\tlearn: 0.0436370\ttotal: 1.82s\tremaining: 9.54s\n",
      "160:\tlearn: 0.0433268\ttotal: 1.9s\tremaining: 9.89s\n",
      "161:\tlearn: 0.0430695\ttotal: 1.9s\tremaining: 9.84s\n",
      "162:\tlearn: 0.0430023\ttotal: 1.9s\tremaining: 9.77s\n",
      "163:\tlearn: 0.0429239\ttotal: 1.9s\tremaining: 9.7s\n",
      "164:\tlearn: 0.0428745\ttotal: 1.9s\tremaining: 9.64s\n",
      "165:\tlearn: 0.0428164\ttotal: 1.91s\tremaining: 9.57s\n",
      "166:\tlearn: 0.0427138\ttotal: 1.91s\tremaining: 9.51s\n",
      "167:\tlearn: 0.0422313\ttotal: 1.91s\tremaining: 9.45s\n",
      "168:\tlearn: 0.0421447\ttotal: 1.91s\tremaining: 9.39s\n",
      "169:\tlearn: 0.0420979\ttotal: 1.99s\tremaining: 9.74s\n",
      "170:\tlearn: 0.0420073\ttotal: 2s\tremaining: 9.68s\n",
      "171:\tlearn: 0.0418649\ttotal: 2s\tremaining: 9.62s\n",
      "172:\tlearn: 0.0418126\ttotal: 2s\tremaining: 9.57s\n",
      "173:\tlearn: 0.0417406\ttotal: 2s\tremaining: 9.52s\n",
      "174:\tlearn: 0.0416452\ttotal: 2.09s\tremaining: 9.87s\n",
      "175:\tlearn: 0.0415975\ttotal: 2.09s\tremaining: 9.8s\n",
      "176:\tlearn: 0.0415436\ttotal: 2.09s\tremaining: 9.74s\n",
      "177:\tlearn: 0.0415018\ttotal: 2.1s\tremaining: 9.68s\n",
      "178:\tlearn: 0.0414415\ttotal: 2.1s\tremaining: 9.62s\n",
      "179:\tlearn: 0.0413679\ttotal: 2.1s\tremaining: 9.56s\n",
      "180:\tlearn: 0.0413225\ttotal: 2.1s\tremaining: 9.51s\n",
      "181:\tlearn: 0.0412780\ttotal: 2.1s\tremaining: 9.45s\n",
      "182:\tlearn: 0.0410190\ttotal: 2.1s\tremaining: 9.39s\n",
      "183:\tlearn: 0.0408461\ttotal: 2.19s\tremaining: 9.71s\n",
      "184:\tlearn: 0.0408158\ttotal: 2.19s\tremaining: 9.65s\n",
      "185:\tlearn: 0.0405503\ttotal: 2.19s\tremaining: 9.59s\n",
      "186:\tlearn: 0.0405082\ttotal: 2.19s\tremaining: 9.53s\n",
      "187:\tlearn: 0.0404423\ttotal: 2.19s\tremaining: 9.48s\n",
      "188:\tlearn: 0.0399519\ttotal: 2.19s\tremaining: 9.42s\n",
      "189:\tlearn: 0.0395436\ttotal: 2.2s\tremaining: 9.36s\n",
      "190:\tlearn: 0.0394446\ttotal: 2.2s\tremaining: 9.31s\n",
      "191:\tlearn: 0.0394050\ttotal: 2.2s\tremaining: 9.25s\n",
      "192:\tlearn: 0.0393523\ttotal: 2.2s\tremaining: 9.2s\n",
      "193:\tlearn: 0.0393137\ttotal: 2.2s\tremaining: 9.14s\n",
      "194:\tlearn: 0.0392751\ttotal: 2.29s\tremaining: 9.44s\n",
      "195:\tlearn: 0.0392377\ttotal: 2.29s\tremaining: 9.39s\n",
      "196:\tlearn: 0.0391997\ttotal: 2.29s\tremaining: 9.33s\n",
      "197:\tlearn: 0.0391556\ttotal: 2.29s\tremaining: 9.28s\n",
      "198:\tlearn: 0.0391197\ttotal: 2.29s\tremaining: 9.23s\n",
      "199:\tlearn: 0.0390840\ttotal: 2.3s\tremaining: 9.19s\n",
      "200:\tlearn: 0.0390455\ttotal: 2.3s\tremaining: 9.14s\n",
      "201:\tlearn: 0.0386430\ttotal: 2.38s\tremaining: 9.42s\n",
      "202:\tlearn: 0.0385298\ttotal: 2.39s\tremaining: 9.37s\n",
      "203:\tlearn: 0.0384871\ttotal: 2.39s\tremaining: 9.31s\n",
      "204:\tlearn: 0.0384355\ttotal: 2.39s\tremaining: 9.26s\n",
      "205:\tlearn: 0.0383874\ttotal: 2.39s\tremaining: 9.21s\n",
      "206:\tlearn: 0.0383514\ttotal: 2.39s\tremaining: 9.16s\n",
      "207:\tlearn: 0.0382508\ttotal: 2.39s\tremaining: 9.11s\n",
      "208:\tlearn: 0.0382195\ttotal: 2.39s\tremaining: 9.06s\n",
      "209:\tlearn: 0.0381853\ttotal: 2.39s\tremaining: 9.01s\n",
      "210:\tlearn: 0.0380965\ttotal: 2.39s\tremaining: 8.96s\n",
      "211:\tlearn: 0.0380699\ttotal: 2.48s\tremaining: 9.22s\n",
      "212:\tlearn: 0.0380380\ttotal: 2.48s\tremaining: 9.17s\n",
      "213:\tlearn: 0.0379936\ttotal: 2.48s\tremaining: 9.12s\n",
      "214:\tlearn: 0.0379629\ttotal: 2.48s\tremaining: 9.07s\n",
      "215:\tlearn: 0.0379325\ttotal: 2.49s\tremaining: 9.02s\n",
      "216:\tlearn: 0.0378808\ttotal: 2.49s\tremaining: 8.97s\n",
      "217:\tlearn: 0.0378535\ttotal: 2.49s\tremaining: 8.93s\n",
      "218:\tlearn: 0.0378256\ttotal: 2.5s\tremaining: 8.9s\n",
      "219:\tlearn: 0.0377986\ttotal: 2.58s\tremaining: 9.14s\n",
      "220:\tlearn: 0.0377678\ttotal: 2.58s\tremaining: 9.09s\n",
      "221:\tlearn: 0.0377307\ttotal: 2.58s\tremaining: 9.04s\n",
      "222:\tlearn: 0.0377126\ttotal: 2.58s\tremaining: 8.99s\n",
      "223:\tlearn: 0.0376406\ttotal: 2.58s\tremaining: 8.95s\n",
      "224:\tlearn: 0.0376009\ttotal: 2.58s\tremaining: 8.9s\n",
      "225:\tlearn: 0.0371729\ttotal: 2.58s\tremaining: 8.85s\n",
      "226:\tlearn: 0.0371110\ttotal: 2.59s\tremaining: 8.81s\n",
      "227:\tlearn: 0.0370846\ttotal: 2.59s\tremaining: 8.76s\n",
      "228:\tlearn: 0.0370586\ttotal: 2.59s\tremaining: 8.72s\n",
      "229:\tlearn: 0.0370348\ttotal: 2.59s\tremaining: 8.67s\n",
      "230:\tlearn: 0.0367735\ttotal: 2.67s\tremaining: 8.91s\n",
      "231:\tlearn: 0.0367451\ttotal: 2.68s\tremaining: 8.86s\n",
      "232:\tlearn: 0.0367206\ttotal: 2.68s\tremaining: 8.82s\n",
      "233:\tlearn: 0.0364928\ttotal: 2.68s\tremaining: 8.77s\n",
      "234:\tlearn: 0.0364567\ttotal: 2.68s\tremaining: 8.72s\n",
      "235:\tlearn: 0.0360626\ttotal: 2.68s\tremaining: 8.68s\n",
      "236:\tlearn: 0.0360410\ttotal: 2.68s\tremaining: 8.64s\n",
      "237:\tlearn: 0.0360204\ttotal: 2.69s\tremaining: 8.6s\n",
      "238:\tlearn: 0.0360008\ttotal: 2.77s\tremaining: 8.83s\n",
      "239:\tlearn: 0.0359790\ttotal: 2.77s\tremaining: 8.78s\n",
      "240:\tlearn: 0.0359397\ttotal: 2.77s\tremaining: 8.74s\n",
      "241:\tlearn: 0.0359200\ttotal: 2.77s\tremaining: 8.69s\n",
      "242:\tlearn: 0.0358986\ttotal: 2.78s\tremaining: 8.65s\n",
      "243:\tlearn: 0.0358758\ttotal: 2.78s\tremaining: 8.6s\n",
      "244:\tlearn: 0.0358565\ttotal: 2.78s\tremaining: 8.56s\n",
      "245:\tlearn: 0.0356473\ttotal: 2.78s\tremaining: 8.52s\n",
      "246:\tlearn: 0.0355990\ttotal: 2.78s\tremaining: 8.48s\n",
      "247:\tlearn: 0.0355758\ttotal: 2.78s\tremaining: 8.44s\n",
      "248:\tlearn: 0.0355566\ttotal: 2.78s\tremaining: 8.39s\n",
      "249:\tlearn: 0.0353498\ttotal: 2.78s\tremaining: 8.35s\n",
      "250:\tlearn: 0.0353280\ttotal: 2.87s\tremaining: 8.56s\n",
      "251:\tlearn: 0.0352962\ttotal: 2.87s\tremaining: 8.53s\n",
      "252:\tlearn: 0.0352792\ttotal: 2.88s\tremaining: 8.49s\n",
      "253:\tlearn: 0.0352003\ttotal: 2.88s\tremaining: 8.46s\n",
      "254:\tlearn: 0.0351560\ttotal: 2.97s\tremaining: 8.67s\n",
      "255:\tlearn: 0.0351299\ttotal: 2.97s\tremaining: 8.63s\n",
      "256:\tlearn: 0.0351025\ttotal: 2.97s\tremaining: 8.6s\n",
      "257:\tlearn: 0.0347590\ttotal: 2.98s\tremaining: 8.57s\n",
      "258:\tlearn: 0.0347421\ttotal: 3.06s\tremaining: 8.77s\n",
      "259:\tlearn: 0.0347164\ttotal: 3.07s\tremaining: 8.73s\n",
      "260:\tlearn: 0.0346985\ttotal: 3.07s\tremaining: 8.69s\n",
      "261:\tlearn: 0.0346808\ttotal: 3.07s\tremaining: 8.65s\n",
      "262:\tlearn: 0.0343201\ttotal: 3.07s\tremaining: 8.61s\n",
      "263:\tlearn: 0.0343082\ttotal: 3.07s\tremaining: 8.56s\n",
      "264:\tlearn: 0.0342477\ttotal: 3.08s\tremaining: 8.53s\n",
      "265:\tlearn: 0.0342303\ttotal: 3.08s\tremaining: 8.49s\n",
      "266:\tlearn: 0.0342143\ttotal: 3.16s\tremaining: 8.69s\n",
      "267:\tlearn: 0.0339814\ttotal: 3.16s\tremaining: 8.64s\n",
      "268:\tlearn: 0.0336749\ttotal: 3.17s\tremaining: 8.6s\n",
      "269:\tlearn: 0.0336609\ttotal: 3.17s\tremaining: 8.56s\n",
      "270:\tlearn: 0.0334959\ttotal: 3.17s\tremaining: 8.52s\n",
      "271:\tlearn: 0.0333269\ttotal: 3.17s\tremaining: 8.48s\n",
      "272:\tlearn: 0.0333013\ttotal: 3.17s\tremaining: 8.44s\n",
      "273:\tlearn: 0.0332779\ttotal: 3.17s\tremaining: 8.4s\n",
      "274:\tlearn: 0.0329252\ttotal: 3.17s\tremaining: 8.36s\n",
      "275:\tlearn: 0.0328384\ttotal: 3.26s\tremaining: 8.55s\n",
      "276:\tlearn: 0.0326779\ttotal: 3.26s\tremaining: 8.51s\n",
      "277:\tlearn: 0.0326522\ttotal: 3.26s\tremaining: 8.47s\n",
      "278:\tlearn: 0.0323496\ttotal: 3.26s\tremaining: 8.43s\n",
      "279:\tlearn: 0.0323364\ttotal: 3.26s\tremaining: 8.39s\n",
      "280:\tlearn: 0.0323276\ttotal: 3.26s\tremaining: 8.35s\n",
      "281:\tlearn: 0.0322902\ttotal: 3.27s\tremaining: 8.31s\n",
      "282:\tlearn: 0.0322755\ttotal: 3.27s\tremaining: 8.28s\n",
      "283:\tlearn: 0.0320594\ttotal: 3.27s\tremaining: 8.24s\n",
      "284:\tlearn: 0.0318785\ttotal: 3.27s\tremaining: 8.2s\n",
      "285:\tlearn: 0.0318648\ttotal: 3.36s\tremaining: 8.38s\n",
      "286:\tlearn: 0.0318494\ttotal: 3.36s\tremaining: 8.34s\n",
      "287:\tlearn: 0.0318293\ttotal: 3.36s\tremaining: 8.3s\n",
      "288:\tlearn: 0.0318159\ttotal: 3.36s\tremaining: 8.27s\n",
      "289:\tlearn: 0.0316568\ttotal: 3.36s\tremaining: 8.23s\n",
      "290:\tlearn: 0.0316418\ttotal: 3.36s\tremaining: 8.19s\n",
      "291:\tlearn: 0.0316300\ttotal: 3.36s\tremaining: 8.16s\n",
      "292:\tlearn: 0.0316173\ttotal: 3.37s\tremaining: 8.12s\n",
      "293:\tlearn: 0.0315549\ttotal: 3.37s\tremaining: 8.08s\n",
      "294:\tlearn: 0.0314802\ttotal: 3.37s\tremaining: 8.05s\n",
      "295:\tlearn: 0.0311626\ttotal: 3.45s\tremaining: 8.21s\n",
      "296:\tlearn: 0.0310218\ttotal: 3.45s\tremaining: 8.18s\n",
      "297:\tlearn: 0.0310104\ttotal: 3.46s\tremaining: 8.14s\n",
      "298:\tlearn: 0.0309802\ttotal: 3.46s\tremaining: 8.1s\n",
      "299:\tlearn: 0.0309523\ttotal: 3.46s\tremaining: 8.07s\n",
      "300:\tlearn: 0.0309440\ttotal: 3.46s\tremaining: 8.03s\n",
      "301:\tlearn: 0.0306347\ttotal: 3.46s\tremaining: 8s\n",
      "302:\tlearn: 0.0306182\ttotal: 3.46s\tremaining: 7.96s\n",
      "303:\tlearn: 0.0306067\ttotal: 3.46s\tremaining: 7.92s\n",
      "304:\tlearn: 0.0305988\ttotal: 3.47s\tremaining: 7.9s\n",
      "305:\tlearn: 0.0305879\ttotal: 3.47s\tremaining: 7.88s\n",
      "306:\tlearn: 0.0305791\ttotal: 3.55s\tremaining: 8.01s\n",
      "307:\tlearn: 0.0305685\ttotal: 3.55s\tremaining: 7.98s\n",
      "308:\tlearn: 0.0305415\ttotal: 3.55s\tremaining: 7.95s\n",
      "309:\tlearn: 0.0305315\ttotal: 3.56s\tremaining: 7.91s\n",
      "310:\tlearn: 0.0305233\ttotal: 3.56s\tremaining: 7.88s\n",
      "311:\tlearn: 0.0305132\ttotal: 3.56s\tremaining: 7.84s\n",
      "312:\tlearn: 0.0305074\ttotal: 3.56s\tremaining: 7.81s\n",
      "313:\tlearn: 0.0304976\ttotal: 3.56s\tremaining: 7.79s\n",
      "314:\tlearn: 0.0302028\ttotal: 3.65s\tremaining: 7.93s\n",
      "315:\tlearn: 0.0301918\ttotal: 3.65s\tremaining: 7.9s\n",
      "316:\tlearn: 0.0301351\ttotal: 3.65s\tremaining: 7.86s\n",
      "317:\tlearn: 0.0301080\ttotal: 3.65s\tremaining: 7.83s\n",
      "318:\tlearn: 0.0300739\ttotal: 3.65s\tremaining: 7.8s\n",
      "319:\tlearn: 0.0300573\ttotal: 3.65s\tremaining: 7.76s\n",
      "320:\tlearn: 0.0300483\ttotal: 3.65s\tremaining: 7.73s\n",
      "321:\tlearn: 0.0300320\ttotal: 3.65s\tremaining: 7.7s\n",
      "322:\tlearn: 0.0297249\ttotal: 3.66s\tremaining: 7.67s\n",
      "323:\tlearn: 0.0297116\ttotal: 3.66s\tremaining: 7.63s\n",
      "324:\tlearn: 0.0297029\ttotal: 3.74s\tremaining: 7.78s\n",
      "325:\tlearn: 0.0296936\ttotal: 3.74s\tremaining: 7.74s\n",
      "326:\tlearn: 0.0294131\ttotal: 3.75s\tremaining: 7.71s\n",
      "327:\tlearn: 0.0293911\ttotal: 3.75s\tremaining: 7.68s\n",
      "328:\tlearn: 0.0293689\ttotal: 3.75s\tremaining: 7.65s\n",
      "329:\tlearn: 0.0293596\ttotal: 3.75s\tremaining: 7.62s\n",
      "330:\tlearn: 0.0290914\ttotal: 3.75s\tremaining: 7.59s\n",
      "331:\tlearn: 0.0290728\ttotal: 3.84s\tremaining: 7.73s\n",
      "332:\tlearn: 0.0290530\ttotal: 3.84s\tremaining: 7.7s\n",
      "333:\tlearn: 0.0290408\ttotal: 3.84s\tremaining: 7.67s\n",
      "334:\tlearn: 0.0290351\ttotal: 3.84s\tremaining: 7.63s\n",
      "335:\tlearn: 0.0287841\ttotal: 3.85s\tremaining: 7.6s\n",
      "336:\tlearn: 0.0287755\ttotal: 3.85s\tremaining: 7.57s\n",
      "337:\tlearn: 0.0286763\ttotal: 3.85s\tremaining: 7.54s\n",
      "338:\tlearn: 0.0286685\ttotal: 3.85s\tremaining: 7.5s\n",
      "339:\tlearn: 0.0286611\ttotal: 3.85s\tremaining: 7.48s\n",
      "340:\tlearn: 0.0286538\ttotal: 3.86s\tremaining: 7.46s\n",
      "341:\tlearn: 0.0286467\ttotal: 3.94s\tremaining: 7.58s\n",
      "342:\tlearn: 0.0282489\ttotal: 3.94s\tremaining: 7.55s\n",
      "343:\tlearn: 0.0280155\ttotal: 3.94s\tremaining: 7.51s\n",
      "344:\tlearn: 0.0277919\ttotal: 3.94s\tremaining: 7.48s\n",
      "345:\tlearn: 0.0277849\ttotal: 3.94s\tremaining: 7.45s\n",
      "346:\tlearn: 0.0277635\ttotal: 3.94s\tremaining: 7.42s\n",
      "347:\tlearn: 0.0277567\ttotal: 3.95s\tremaining: 7.4s\n",
      "348:\tlearn: 0.0277438\ttotal: 3.95s\tremaining: 7.38s\n",
      "349:\tlearn: 0.0275126\ttotal: 4.04s\tremaining: 7.5s\n",
      "350:\tlearn: 0.0275060\ttotal: 4.04s\tremaining: 7.46s\n",
      "351:\tlearn: 0.0274995\ttotal: 4.04s\tremaining: 7.43s\n",
      "352:\tlearn: 0.0272932\ttotal: 4.04s\tremaining: 7.4s\n",
      "353:\tlearn: 0.0272069\ttotal: 4.04s\tremaining: 7.37s\n",
      "354:\tlearn: 0.0271958\ttotal: 4.04s\tremaining: 7.34s\n",
      "355:\tlearn: 0.0271924\ttotal: 4.04s\tremaining: 7.31s\n",
      "356:\tlearn: 0.0271862\ttotal: 4.04s\tremaining: 7.29s\n",
      "357:\tlearn: 0.0271754\ttotal: 4.05s\tremaining: 7.26s\n",
      "358:\tlearn: 0.0271647\ttotal: 4.13s\tremaining: 7.38s\n",
      "359:\tlearn: 0.0271588\ttotal: 4.13s\tremaining: 7.35s\n",
      "360:\tlearn: 0.0271530\ttotal: 4.13s\tremaining: 7.32s\n",
      "361:\tlearn: 0.0269541\ttotal: 4.14s\tremaining: 7.29s\n",
      "362:\tlearn: 0.0269440\ttotal: 4.14s\tremaining: 7.26s\n",
      "363:\tlearn: 0.0269384\ttotal: 4.14s\tremaining: 7.23s\n",
      "364:\tlearn: 0.0267584\ttotal: 4.14s\tremaining: 7.2s\n",
      "365:\tlearn: 0.0267516\ttotal: 4.14s\tremaining: 7.17s\n",
      "366:\tlearn: 0.0267462\ttotal: 4.15s\tremaining: 7.16s\n",
      "367:\tlearn: 0.0267409\ttotal: 4.23s\tremaining: 7.26s\n",
      "368:\tlearn: 0.0267356\ttotal: 4.23s\tremaining: 7.24s\n",
      "369:\tlearn: 0.0267304\ttotal: 4.23s\tremaining: 7.21s\n",
      "370:\tlearn: 0.0267214\ttotal: 4.23s\tremaining: 7.18s\n",
      "371:\tlearn: 0.0266881\ttotal: 4.23s\tremaining: 7.15s\n",
      "372:\tlearn: 0.0266787\ttotal: 4.24s\tremaining: 7.12s\n",
      "373:\tlearn: 0.0266738\ttotal: 4.24s\tremaining: 7.09s\n",
      "374:\tlearn: 0.0264500\ttotal: 4.24s\tremaining: 7.06s\n",
      "375:\tlearn: 0.0264452\ttotal: 4.24s\tremaining: 7.04s\n",
      "376:\tlearn: 0.0262312\ttotal: 4.25s\tremaining: 7.02s\n",
      "377:\tlearn: 0.0262264\ttotal: 4.33s\tremaining: 7.12s\n",
      "378:\tlearn: 0.0262217\ttotal: 4.33s\tremaining: 7.09s\n",
      "379:\tlearn: 0.0262170\ttotal: 4.33s\tremaining: 7.06s\n",
      "380:\tlearn: 0.0262125\ttotal: 4.33s\tremaining: 7.04s\n",
      "381:\tlearn: 0.0262039\ttotal: 4.33s\tremaining: 7.01s\n",
      "382:\tlearn: 0.0261961\ttotal: 4.34s\tremaining: 6.99s\n",
      "383:\tlearn: 0.0261918\ttotal: 4.34s\tremaining: 6.96s\n",
      "384:\tlearn: 0.0261874\ttotal: 4.43s\tremaining: 7.07s\n",
      "385:\tlearn: 0.0259827\ttotal: 4.43s\tremaining: 7.04s\n",
      "386:\tlearn: 0.0259785\ttotal: 4.43s\tremaining: 7.01s\n",
      "387:\tlearn: 0.0259743\ttotal: 4.43s\tremaining: 6.99s\n",
      "388:\tlearn: 0.0259701\ttotal: 4.43s\tremaining: 6.96s\n",
      "389:\tlearn: 0.0259661\ttotal: 4.43s\tremaining: 6.93s\n",
      "390:\tlearn: 0.0257703\ttotal: 4.43s\tremaining: 6.91s\n",
      "391:\tlearn: 0.0257663\ttotal: 4.44s\tremaining: 6.89s\n",
      "392:\tlearn: 0.0257593\ttotal: 4.52s\tremaining: 6.98s\n",
      "393:\tlearn: 0.0257553\ttotal: 4.52s\tremaining: 6.95s\n",
      "394:\tlearn: 0.0257477\ttotal: 4.52s\tremaining: 6.93s\n",
      "395:\tlearn: 0.0255607\ttotal: 4.52s\tremaining: 6.9s\n",
      "396:\tlearn: 0.0255569\ttotal: 4.52s\tremaining: 6.87s\n",
      "397:\tlearn: 0.0255532\ttotal: 4.53s\tremaining: 6.84s\n",
      "398:\tlearn: 0.0255483\ttotal: 4.53s\tremaining: 6.82s\n",
      "399:\tlearn: 0.0255436\ttotal: 4.53s\tremaining: 6.79s\n",
      "400:\tlearn: 0.0255400\ttotal: 4.53s\tremaining: 6.77s\n",
      "401:\tlearn: 0.0253704\ttotal: 4.62s\tremaining: 6.87s\n",
      "402:\tlearn: 0.0253556\ttotal: 4.62s\tremaining: 6.84s\n",
      "403:\tlearn: 0.0253513\ttotal: 4.62s\tremaining: 6.82s\n",
      "404:\tlearn: 0.0253331\ttotal: 4.62s\tremaining: 6.79s\n",
      "405:\tlearn: 0.0251610\ttotal: 4.63s\tremaining: 6.77s\n",
      "406:\tlearn: 0.0251568\ttotal: 4.63s\tremaining: 6.75s\n",
      "407:\tlearn: 0.0251535\ttotal: 4.71s\tremaining: 6.84s\n",
      "408:\tlearn: 0.0251502\ttotal: 4.71s\tremaining: 6.81s\n",
      "409:\tlearn: 0.0251437\ttotal: 4.72s\tremaining: 6.79s\n",
      "410:\tlearn: 0.0249803\ttotal: 4.72s\tremaining: 6.76s\n",
      "411:\tlearn: 0.0249740\ttotal: 4.72s\tremaining: 6.74s\n",
      "412:\tlearn: 0.0249660\ttotal: 4.72s\tremaining: 6.71s\n",
      "413:\tlearn: 0.0249621\ttotal: 4.72s\tremaining: 6.68s\n",
      "414:\tlearn: 0.0249583\ttotal: 4.72s\tremaining: 6.66s\n",
      "415:\tlearn: 0.0248091\ttotal: 4.81s\tremaining: 6.75s\n",
      "416:\tlearn: 0.0248054\ttotal: 4.81s\tremaining: 6.73s\n",
      "417:\tlearn: 0.0247996\ttotal: 4.82s\tremaining: 6.7s\n",
      "418:\tlearn: 0.0247960\ttotal: 4.82s\tremaining: 6.68s\n",
      "419:\tlearn: 0.0247904\ttotal: 4.82s\tremaining: 6.65s\n",
      "420:\tlearn: 0.0247869\ttotal: 4.82s\tremaining: 6.63s\n",
      "421:\tlearn: 0.0247842\ttotal: 4.82s\tremaining: 6.6s\n",
      "422:\tlearn: 0.0245006\ttotal: 4.82s\tremaining: 6.58s\n",
      "423:\tlearn: 0.0244979\ttotal: 4.82s\tremaining: 6.55s\n",
      "424:\tlearn: 0.0244953\ttotal: 4.91s\tremaining: 6.64s\n",
      "425:\tlearn: 0.0244824\ttotal: 4.91s\tremaining: 6.62s\n",
      "426:\tlearn: 0.0244791\ttotal: 4.91s\tremaining: 6.59s\n",
      "427:\tlearn: 0.0243410\ttotal: 4.91s\tremaining: 6.56s\n",
      "428:\tlearn: 0.0243385\ttotal: 4.91s\tremaining: 6.54s\n",
      "429:\tlearn: 0.0243354\ttotal: 4.92s\tremaining: 6.52s\n",
      "430:\tlearn: 0.0242037\ttotal: 4.92s\tremaining: 6.49s\n",
      "431:\tlearn: 0.0241913\ttotal: 5.01s\tremaining: 6.58s\n",
      "432:\tlearn: 0.0241883\ttotal: 5.01s\tremaining: 6.56s\n",
      "433:\tlearn: 0.0241860\ttotal: 5.01s\tremaining: 6.53s\n",
      "434:\tlearn: 0.0241837\ttotal: 5.01s\tremaining: 6.51s\n",
      "435:\tlearn: 0.0240502\ttotal: 5.01s\tremaining: 6.48s\n",
      "436:\tlearn: 0.0240473\ttotal: 5.01s\tremaining: 6.46s\n",
      "437:\tlearn: 0.0240451\ttotal: 5.01s\tremaining: 6.43s\n",
      "438:\tlearn: 0.0239182\ttotal: 5.02s\tremaining: 6.41s\n",
      "439:\tlearn: 0.0239153\ttotal: 5.02s\tremaining: 6.39s\n",
      "440:\tlearn: 0.0239131\ttotal: 5.1s\tremaining: 6.47s\n",
      "441:\tlearn: 0.0239110\ttotal: 5.1s\tremaining: 6.44s\n",
      "442:\tlearn: 0.0238858\ttotal: 5.11s\tremaining: 6.42s\n",
      "443:\tlearn: 0.0238837\ttotal: 5.11s\tremaining: 6.39s\n",
      "444:\tlearn: 0.0238817\ttotal: 5.11s\tremaining: 6.37s\n",
      "445:\tlearn: 0.0237661\ttotal: 5.11s\tremaining: 6.34s\n",
      "446:\tlearn: 0.0237435\ttotal: 5.11s\tremaining: 6.32s\n",
      "447:\tlearn: 0.0237279\ttotal: 5.11s\tremaining: 6.3s\n",
      "448:\tlearn: 0.0237163\ttotal: 5.11s\tremaining: 6.27s\n",
      "449:\tlearn: 0.0235996\ttotal: 5.11s\tremaining: 6.25s\n",
      "450:\tlearn: 0.0235189\ttotal: 5.2s\tremaining: 6.33s\n",
      "451:\tlearn: 0.0234128\ttotal: 5.2s\tremaining: 6.3s\n",
      "452:\tlearn: 0.0233345\ttotal: 5.2s\tremaining: 6.28s\n",
      "453:\tlearn: 0.0233053\ttotal: 5.2s\tremaining: 6.26s\n",
      "454:\tlearn: 0.0232298\ttotal: 5.21s\tremaining: 6.23s\n",
      "455:\tlearn: 0.0231917\ttotal: 5.21s\tremaining: 6.21s\n",
      "456:\tlearn: 0.0231194\ttotal: 5.21s\tremaining: 6.19s\n",
      "457:\tlearn: 0.0230834\ttotal: 5.3s\tremaining: 6.27s\n",
      "458:\tlearn: 0.0230139\ttotal: 5.3s\tremaining: 6.25s\n",
      "459:\tlearn: 0.0229469\ttotal: 5.3s\tremaining: 6.23s\n",
      "460:\tlearn: 0.0228434\ttotal: 5.31s\tremaining: 6.21s\n",
      "461:\tlearn: 0.0227784\ttotal: 5.31s\tremaining: 6.19s\n",
      "462:\tlearn: 0.0227159\ttotal: 5.39s\tremaining: 6.26s\n",
      "463:\tlearn: 0.0226535\ttotal: 5.4s\tremaining: 6.24s\n",
      "464:\tlearn: 0.0224662\ttotal: 5.4s\tremaining: 6.22s\n",
      "465:\tlearn: 0.0222840\ttotal: 5.41s\tremaining: 6.2s\n",
      "466:\tlearn: 0.0221067\ttotal: 5.49s\tremaining: 6.27s\n",
      "467:\tlearn: 0.0220081\ttotal: 5.5s\tremaining: 6.25s\n",
      "468:\tlearn: 0.0219487\ttotal: 5.5s\tremaining: 6.22s\n",
      "469:\tlearn: 0.0217759\ttotal: 5.5s\tremaining: 6.2s\n",
      "470:\tlearn: 0.0216077\ttotal: 5.5s\tremaining: 6.17s\n",
      "471:\tlearn: 0.0215077\ttotal: 5.5s\tremaining: 6.15s\n",
      "472:\tlearn: 0.0213434\ttotal: 5.5s\tremaining: 6.13s\n",
      "473:\tlearn: 0.0211837\ttotal: 5.5s\tremaining: 6.11s\n",
      "474:\tlearn: 0.0211678\ttotal: 5.5s\tremaining: 6.08s\n",
      "475:\tlearn: 0.0210123\ttotal: 5.5s\tremaining: 6.06s\n",
      "476:\tlearn: 0.0209187\ttotal: 5.59s\tremaining: 6.13s\n",
      "477:\tlearn: 0.0208626\ttotal: 5.59s\tremaining: 6.11s\n",
      "478:\tlearn: 0.0207103\ttotal: 5.59s\tremaining: 6.08s\n",
      "479:\tlearn: 0.0205622\ttotal: 5.59s\tremaining: 6.06s\n",
      "480:\tlearn: 0.0204176\ttotal: 5.59s\tremaining: 6.04s\n",
      "481:\tlearn: 0.0203255\ttotal: 5.6s\tremaining: 6.01s\n",
      "482:\tlearn: 0.0202211\ttotal: 5.6s\tremaining: 5.99s\n",
      "483:\tlearn: 0.0201158\ttotal: 5.6s\tremaining: 5.97s\n",
      "484:\tlearn: 0.0201007\ttotal: 5.69s\tremaining: 6.04s\n",
      "485:\tlearn: 0.0200844\ttotal: 5.69s\tremaining: 6.02s\n",
      "486:\tlearn: 0.0199454\ttotal: 5.69s\tremaining: 5.99s\n",
      "487:\tlearn: 0.0198095\ttotal: 5.69s\tremaining: 5.97s\n",
      "488:\tlearn: 0.0196774\ttotal: 5.69s\tremaining: 5.95s\n",
      "489:\tlearn: 0.0195918\ttotal: 5.69s\tremaining: 5.93s\n",
      "490:\tlearn: 0.0194621\ttotal: 5.7s\tremaining: 5.9s\n",
      "491:\tlearn: 0.0193689\ttotal: 5.7s\tremaining: 5.88s\n",
      "492:\tlearn: 0.0192865\ttotal: 5.7s\tremaining: 5.86s\n",
      "493:\tlearn: 0.0192586\ttotal: 5.7s\tremaining: 5.84s\n",
      "494:\tlearn: 0.0191339\ttotal: 5.78s\tremaining: 5.9s\n",
      "495:\tlearn: 0.0190121\ttotal: 5.79s\tremaining: 5.88s\n",
      "496:\tlearn: 0.0188936\ttotal: 5.79s\tremaining: 5.86s\n",
      "497:\tlearn: 0.0188091\ttotal: 5.79s\tremaining: 5.83s\n",
      "498:\tlearn: 0.0187939\ttotal: 5.79s\tremaining: 5.82s\n",
      "499:\tlearn: 0.0187692\ttotal: 5.79s\tremaining: 5.79s\n",
      "500:\tlearn: 0.0187469\ttotal: 5.88s\tremaining: 5.86s\n",
      "501:\tlearn: 0.0186329\ttotal: 5.88s\tremaining: 5.84s\n",
      "502:\tlearn: 0.0185911\ttotal: 5.88s\tremaining: 5.81s\n",
      "503:\tlearn: 0.0185769\ttotal: 5.89s\tremaining: 5.79s\n",
      "504:\tlearn: 0.0185399\ttotal: 5.89s\tremaining: 5.77s\n",
      "505:\tlearn: 0.0185228\ttotal: 5.89s\tremaining: 5.75s\n",
      "506:\tlearn: 0.0184440\ttotal: 5.9s\tremaining: 5.73s\n",
      "507:\tlearn: 0.0184319\ttotal: 5.98s\tremaining: 5.79s\n",
      "508:\tlearn: 0.0183981\ttotal: 5.98s\tremaining: 5.77s\n",
      "509:\tlearn: 0.0183582\ttotal: 5.98s\tremaining: 5.75s\n",
      "510:\tlearn: 0.0183469\ttotal: 5.98s\tremaining: 5.72s\n",
      "511:\tlearn: 0.0183111\ttotal: 5.98s\tremaining: 5.7s\n",
      "512:\tlearn: 0.0182905\ttotal: 5.99s\tremaining: 5.68s\n",
      "513:\tlearn: 0.0182795\ttotal: 6s\tremaining: 5.67s\n",
      "514:\tlearn: 0.0182594\ttotal: 6.08s\tremaining: 5.72s\n",
      "515:\tlearn: 0.0182384\ttotal: 6.08s\tremaining: 5.7s\n",
      "516:\tlearn: 0.0181303\ttotal: 6.08s\tremaining: 5.68s\n",
      "517:\tlearn: 0.0180991\ttotal: 6.08s\tremaining: 5.66s\n",
      "518:\tlearn: 0.0180616\ttotal: 6.08s\tremaining: 5.64s\n",
      "519:\tlearn: 0.0180359\ttotal: 6.08s\tremaining: 5.62s\n",
      "520:\tlearn: 0.0179580\ttotal: 6.08s\tremaining: 5.59s\n",
      "521:\tlearn: 0.0178525\ttotal: 6.09s\tremaining: 5.57s\n",
      "522:\tlearn: 0.0178271\ttotal: 6.09s\tremaining: 5.55s\n",
      "523:\tlearn: 0.0178031\ttotal: 6.17s\tremaining: 5.61s\n",
      "524:\tlearn: 0.0177005\ttotal: 6.17s\tremaining: 5.59s\n",
      "525:\tlearn: 0.0175999\ttotal: 6.17s\tremaining: 5.57s\n",
      "526:\tlearn: 0.0175125\ttotal: 6.18s\tremaining: 5.54s\n",
      "527:\tlearn: 0.0175046\ttotal: 6.18s\tremaining: 5.52s\n",
      "528:\tlearn: 0.0174357\ttotal: 6.18s\tremaining: 5.5s\n",
      "529:\tlearn: 0.0174131\ttotal: 6.18s\tremaining: 5.48s\n",
      "530:\tlearn: 0.0173816\ttotal: 6.18s\tremaining: 5.46s\n",
      "531:\tlearn: 0.0173744\ttotal: 6.19s\tremaining: 5.45s\n",
      "532:\tlearn: 0.0172976\ttotal: 6.27s\tremaining: 5.49s\n",
      "533:\tlearn: 0.0172759\ttotal: 6.27s\tremaining: 5.47s\n",
      "534:\tlearn: 0.0171791\ttotal: 6.27s\tremaining: 5.45s\n",
      "535:\tlearn: 0.0171488\ttotal: 6.27s\tremaining: 5.43s\n",
      "536:\tlearn: 0.0170747\ttotal: 6.28s\tremaining: 5.41s\n",
      "537:\tlearn: 0.0169805\ttotal: 6.28s\tremaining: 5.39s\n",
      "538:\tlearn: 0.0169015\ttotal: 6.28s\tremaining: 5.37s\n",
      "539:\tlearn: 0.0168945\ttotal: 6.28s\tremaining: 5.35s\n",
      "540:\tlearn: 0.0168651\ttotal: 6.28s\tremaining: 5.33s\n",
      "541:\tlearn: 0.0168443\ttotal: 6.37s\tremaining: 5.38s\n",
      "542:\tlearn: 0.0168376\ttotal: 6.37s\tremaining: 5.36s\n",
      "543:\tlearn: 0.0168307\ttotal: 6.37s\tremaining: 5.34s\n",
      "544:\tlearn: 0.0167499\ttotal: 6.37s\tremaining: 5.32s\n",
      "545:\tlearn: 0.0167213\ttotal: 6.37s\tremaining: 5.3s\n",
      "546:\tlearn: 0.0166986\ttotal: 6.37s\tremaining: 5.28s\n",
      "547:\tlearn: 0.0166210\ttotal: 6.37s\tremaining: 5.26s\n",
      "548:\tlearn: 0.0165985\ttotal: 6.38s\tremaining: 5.24s\n",
      "549:\tlearn: 0.0165215\ttotal: 6.38s\tremaining: 5.22s\n",
      "550:\tlearn: 0.0164617\ttotal: 6.38s\tremaining: 5.2s\n",
      "551:\tlearn: 0.0164551\ttotal: 6.46s\tremaining: 5.25s\n",
      "552:\tlearn: 0.0163917\ttotal: 6.47s\tremaining: 5.23s\n",
      "553:\tlearn: 0.0163332\ttotal: 6.47s\tremaining: 5.21s\n",
      "554:\tlearn: 0.0163268\ttotal: 6.47s\tremaining: 5.19s\n",
      "555:\tlearn: 0.0162704\ttotal: 6.47s\tremaining: 5.17s\n",
      "556:\tlearn: 0.0161817\ttotal: 6.47s\tremaining: 5.15s\n",
      "557:\tlearn: 0.0161522\ttotal: 6.47s\tremaining: 5.13s\n",
      "558:\tlearn: 0.0160991\ttotal: 6.56s\tremaining: 5.17s\n",
      "559:\tlearn: 0.0160701\ttotal: 6.56s\tremaining: 5.15s\n",
      "560:\tlearn: 0.0159986\ttotal: 6.56s\tremaining: 5.13s\n",
      "561:\tlearn: 0.0159522\ttotal: 6.56s\tremaining: 5.12s\n",
      "562:\tlearn: 0.0159013\ttotal: 6.56s\tremaining: 5.09s\n",
      "563:\tlearn: 0.0158184\ttotal: 6.57s\tremaining: 5.08s\n",
      "564:\tlearn: 0.0157626\ttotal: 6.57s\tremaining: 5.05s\n",
      "565:\tlearn: 0.0157367\ttotal: 6.57s\tremaining: 5.04s\n",
      "566:\tlearn: 0.0156675\ttotal: 6.57s\tremaining: 5.02s\n",
      "567:\tlearn: 0.0156498\ttotal: 6.66s\tremaining: 5.06s\n",
      "568:\tlearn: 0.0156053\ttotal: 6.66s\tremaining: 5.04s\n",
      "569:\tlearn: 0.0155786\ttotal: 6.66s\tremaining: 5.02s\n",
      "570:\tlearn: 0.0155137\ttotal: 6.66s\tremaining: 5s\n",
      "571:\tlearn: 0.0154737\ttotal: 6.66s\tremaining: 4.98s\n",
      "572:\tlearn: 0.0154270\ttotal: 6.66s\tremaining: 4.96s\n",
      "573:\tlearn: 0.0153881\ttotal: 6.66s\tremaining: 4.95s\n",
      "574:\tlearn: 0.0153236\ttotal: 6.67s\tremaining: 4.93s\n",
      "575:\tlearn: 0.0152785\ttotal: 6.67s\tremaining: 4.91s\n",
      "576:\tlearn: 0.0152408\ttotal: 6.75s\tremaining: 4.95s\n",
      "577:\tlearn: 0.0152119\ttotal: 6.75s\tremaining: 4.93s\n",
      "578:\tlearn: 0.0151868\ttotal: 6.76s\tremaining: 4.91s\n",
      "579:\tlearn: 0.0151347\ttotal: 6.76s\tremaining: 4.89s\n",
      "580:\tlearn: 0.0150923\ttotal: 6.76s\tremaining: 4.87s\n",
      "581:\tlearn: 0.0150686\ttotal: 6.76s\tremaining: 4.85s\n",
      "582:\tlearn: 0.0150442\ttotal: 6.76s\tremaining: 4.83s\n",
      "583:\tlearn: 0.0150077\ttotal: 6.76s\tremaining: 4.82s\n",
      "584:\tlearn: 0.0149474\ttotal: 6.76s\tremaining: 4.8s\n",
      "585:\tlearn: 0.0149119\ttotal: 6.76s\tremaining: 4.78s\n",
      "586:\tlearn: 0.0148711\ttotal: 6.76s\tremaining: 4.76s\n",
      "587:\tlearn: 0.0148482\ttotal: 6.85s\tremaining: 4.8s\n",
      "588:\tlearn: 0.0148430\ttotal: 6.85s\tremaining: 4.78s\n",
      "589:\tlearn: 0.0148201\ttotal: 6.85s\tremaining: 4.76s\n",
      "590:\tlearn: 0.0148021\ttotal: 6.85s\tremaining: 4.74s\n",
      "591:\tlearn: 0.0147675\ttotal: 6.86s\tremaining: 4.72s\n",
      "592:\tlearn: 0.0147085\ttotal: 6.86s\tremaining: 4.71s\n",
      "593:\tlearn: 0.0146747\ttotal: 6.86s\tremaining: 4.69s\n",
      "594:\tlearn: 0.0146134\ttotal: 6.86s\tremaining: 4.67s\n",
      "595:\tlearn: 0.0145743\ttotal: 6.86s\tremaining: 4.65s\n",
      "596:\tlearn: 0.0145261\ttotal: 6.95s\tremaining: 4.69s\n",
      "597:\tlearn: 0.0145210\ttotal: 6.95s\tremaining: 4.67s\n",
      "598:\tlearn: 0.0144993\ttotal: 6.95s\tremaining: 4.65s\n",
      "599:\tlearn: 0.0144663\ttotal: 6.95s\tremaining: 4.63s\n",
      "600:\tlearn: 0.0144199\ttotal: 6.95s\tremaining: 4.61s\n",
      "601:\tlearn: 0.0144149\ttotal: 6.95s\tremaining: 4.6s\n",
      "602:\tlearn: 0.0143789\ttotal: 6.95s\tremaining: 4.58s\n",
      "603:\tlearn: 0.0143469\ttotal: 6.96s\tremaining: 4.56s\n",
      "604:\tlearn: 0.0142913\ttotal: 6.96s\tremaining: 4.55s\n",
      "605:\tlearn: 0.0142746\ttotal: 7.04s\tremaining: 4.58s\n",
      "606:\tlearn: 0.0142433\ttotal: 7.04s\tremaining: 4.56s\n",
      "607:\tlearn: 0.0142208\ttotal: 7.04s\tremaining: 4.54s\n",
      "608:\tlearn: 0.0142160\ttotal: 7.04s\tremaining: 4.52s\n",
      "609:\tlearn: 0.0141817\ttotal: 7.05s\tremaining: 4.5s\n",
      "610:\tlearn: 0.0141513\ttotal: 7.05s\tremaining: 4.49s\n",
      "611:\tlearn: 0.0140979\ttotal: 7.14s\tremaining: 4.53s\n",
      "612:\tlearn: 0.0140702\ttotal: 7.14s\tremaining: 4.51s\n",
      "613:\tlearn: 0.0140644\ttotal: 7.14s\tremaining: 4.49s\n",
      "614:\tlearn: 0.0140346\ttotal: 7.14s\tremaining: 4.47s\n",
      "615:\tlearn: 0.0140120\ttotal: 7.14s\tremaining: 4.45s\n",
      "616:\tlearn: 0.0139614\ttotal: 7.14s\tremaining: 4.43s\n",
      "617:\tlearn: 0.0139564\ttotal: 7.15s\tremaining: 4.42s\n",
      "618:\tlearn: 0.0139119\ttotal: 7.16s\tremaining: 4.4s\n",
      "619:\tlearn: 0.0138829\ttotal: 7.24s\tremaining: 4.43s\n",
      "620:\tlearn: 0.0138290\ttotal: 7.24s\tremaining: 4.42s\n",
      "621:\tlearn: 0.0138089\ttotal: 7.24s\tremaining: 4.4s\n",
      "622:\tlearn: 0.0137773\ttotal: 7.24s\tremaining: 4.38s\n",
      "623:\tlearn: 0.0137306\ttotal: 7.24s\tremaining: 4.36s\n",
      "624:\tlearn: 0.0137088\ttotal: 7.24s\tremaining: 4.34s\n",
      "625:\tlearn: 0.0136803\ttotal: 7.24s\tremaining: 4.33s\n",
      "626:\tlearn: 0.0136485\ttotal: 7.24s\tremaining: 4.31s\n",
      "627:\tlearn: 0.0136025\ttotal: 7.33s\tremaining: 4.34s\n",
      "628:\tlearn: 0.0135796\ttotal: 7.33s\tremaining: 4.33s\n",
      "629:\tlearn: 0.0135589\ttotal: 7.33s\tremaining: 4.31s\n",
      "630:\tlearn: 0.0135311\ttotal: 7.34s\tremaining: 4.29s\n",
      "631:\tlearn: 0.0135263\ttotal: 7.34s\tremaining: 4.27s\n",
      "632:\tlearn: 0.0134993\ttotal: 7.34s\tremaining: 4.25s\n",
      "633:\tlearn: 0.0134946\ttotal: 7.34s\tremaining: 4.24s\n",
      "634:\tlearn: 0.0134533\ttotal: 7.34s\tremaining: 4.22s\n",
      "635:\tlearn: 0.0134487\ttotal: 7.34s\tremaining: 4.2s\n",
      "636:\tlearn: 0.0134442\ttotal: 7.43s\tremaining: 4.23s\n",
      "637:\tlearn: 0.0134033\ttotal: 7.43s\tremaining: 4.21s\n",
      "638:\tlearn: 0.0133597\ttotal: 7.43s\tremaining: 4.2s\n",
      "639:\tlearn: 0.0133333\ttotal: 7.43s\tremaining: 4.18s\n",
      "640:\tlearn: 0.0133076\ttotal: 7.43s\tremaining: 4.16s\n",
      "641:\tlearn: 0.0132787\ttotal: 7.43s\tremaining: 4.14s\n",
      "642:\tlearn: 0.0132594\ttotal: 7.43s\tremaining: 4.13s\n",
      "643:\tlearn: 0.0132378\ttotal: 7.44s\tremaining: 4.11s\n",
      "644:\tlearn: 0.0132000\ttotal: 7.44s\tremaining: 4.09s\n",
      "645:\tlearn: 0.0131486\ttotal: 7.53s\tremaining: 4.12s\n",
      "646:\tlearn: 0.0131283\ttotal: 7.53s\tremaining: 4.11s\n",
      "647:\tlearn: 0.0130920\ttotal: 7.53s\tremaining: 4.09s\n",
      "648:\tlearn: 0.0130730\ttotal: 7.53s\tremaining: 4.07s\n",
      "649:\tlearn: 0.0130355\ttotal: 7.53s\tremaining: 4.05s\n",
      "650:\tlearn: 0.0130310\ttotal: 7.53s\tremaining: 4.04s\n",
      "651:\tlearn: 0.0130266\ttotal: 7.53s\tremaining: 4.02s\n",
      "652:\tlearn: 0.0129917\ttotal: 7.53s\tremaining: 4s\n",
      "653:\tlearn: 0.0129467\ttotal: 7.54s\tremaining: 3.99s\n",
      "654:\tlearn: 0.0129275\ttotal: 7.54s\tremaining: 3.97s\n",
      "655:\tlearn: 0.0128939\ttotal: 7.54s\tremaining: 3.95s\n",
      "656:\tlearn: 0.0128896\ttotal: 7.62s\tremaining: 3.98s\n",
      "657:\tlearn: 0.0128854\ttotal: 7.62s\tremaining: 3.96s\n",
      "658:\tlearn: 0.0128593\ttotal: 7.63s\tremaining: 3.94s\n",
      "659:\tlearn: 0.0128410\ttotal: 7.63s\tremaining: 3.93s\n",
      "660:\tlearn: 0.0128008\ttotal: 7.63s\tremaining: 3.91s\n",
      "661:\tlearn: 0.0127782\ttotal: 7.63s\tremaining: 3.9s\n",
      "662:\tlearn: 0.0127542\ttotal: 7.63s\tremaining: 3.88s\n",
      "663:\tlearn: 0.0127308\ttotal: 7.63s\tremaining: 3.86s\n",
      "664:\tlearn: 0.0127267\ttotal: 7.63s\tremaining: 3.84s\n",
      "665:\tlearn: 0.0127095\ttotal: 7.72s\tremaining: 3.87s\n",
      "666:\tlearn: 0.0126877\ttotal: 7.72s\tremaining: 3.86s\n",
      "667:\tlearn: 0.0126837\ttotal: 7.73s\tremaining: 3.84s\n",
      "668:\tlearn: 0.0126798\ttotal: 7.73s\tremaining: 3.82s\n",
      "669:\tlearn: 0.0126569\ttotal: 7.73s\tremaining: 3.81s\n",
      "670:\tlearn: 0.0126350\ttotal: 7.74s\tremaining: 3.79s\n",
      "671:\tlearn: 0.0126011\ttotal: 7.74s\tremaining: 3.78s\n",
      "672:\tlearn: 0.0125791\ttotal: 7.82s\tremaining: 3.8s\n",
      "673:\tlearn: 0.0125385\ttotal: 7.82s\tremaining: 3.78s\n",
      "674:\tlearn: 0.0125164\ttotal: 7.83s\tremaining: 3.77s\n",
      "675:\tlearn: 0.0125126\ttotal: 7.83s\tremaining: 3.75s\n",
      "676:\tlearn: 0.0124756\ttotal: 7.83s\tremaining: 3.74s\n",
      "677:\tlearn: 0.0124425\ttotal: 7.92s\tremaining: 3.76s\n",
      "678:\tlearn: 0.0124158\ttotal: 7.92s\tremaining: 3.74s\n",
      "679:\tlearn: 0.0123948\ttotal: 7.92s\tremaining: 3.73s\n",
      "680:\tlearn: 0.0123744\ttotal: 7.92s\tremaining: 3.71s\n",
      "681:\tlearn: 0.0123706\ttotal: 7.92s\tremaining: 3.69s\n",
      "682:\tlearn: 0.0123497\ttotal: 7.92s\tremaining: 3.68s\n",
      "683:\tlearn: 0.0123328\ttotal: 7.92s\tremaining: 3.66s\n",
      "684:\tlearn: 0.0123290\ttotal: 7.93s\tremaining: 3.64s\n",
      "685:\tlearn: 0.0123035\ttotal: 7.93s\tremaining: 3.63s\n",
      "686:\tlearn: 0.0122998\ttotal: 8.01s\tremaining: 3.65s\n",
      "687:\tlearn: 0.0122981\ttotal: 8.01s\tremaining: 3.63s\n",
      "688:\tlearn: 0.0122548\ttotal: 8.01s\tremaining: 3.62s\n",
      "689:\tlearn: 0.0122355\ttotal: 8.02s\tremaining: 3.6s\n",
      "690:\tlearn: 0.0122196\ttotal: 8.02s\tremaining: 3.58s\n",
      "691:\tlearn: 0.0121890\ttotal: 8.02s\tremaining: 3.57s\n",
      "692:\tlearn: 0.0121854\ttotal: 8.02s\tremaining: 3.55s\n",
      "693:\tlearn: 0.0121512\ttotal: 8.02s\tremaining: 3.54s\n",
      "694:\tlearn: 0.0121194\ttotal: 8.02s\tremaining: 3.52s\n",
      "695:\tlearn: 0.0120653\ttotal: 8.11s\tremaining: 3.54s\n",
      "696:\tlearn: 0.0120645\ttotal: 8.11s\tremaining: 3.52s\n",
      "697:\tlearn: 0.0120567\ttotal: 8.11s\tremaining: 3.51s\n",
      "698:\tlearn: 0.0120042\ttotal: 8.11s\tremaining: 3.49s\n",
      "699:\tlearn: 0.0119888\ttotal: 8.11s\tremaining: 3.48s\n",
      "700:\tlearn: 0.0119587\ttotal: 8.12s\tremaining: 3.46s\n",
      "701:\tlearn: 0.0119436\ttotal: 8.12s\tremaining: 3.45s\n",
      "702:\tlearn: 0.0119146\ttotal: 8.12s\tremaining: 3.43s\n",
      "703:\tlearn: 0.0119111\ttotal: 8.12s\tremaining: 3.41s\n",
      "704:\tlearn: 0.0119076\ttotal: 8.12s\tremaining: 3.4s\n",
      "705:\tlearn: 0.0118777\ttotal: 8.12s\tremaining: 3.38s\n",
      "706:\tlearn: 0.0118494\ttotal: 8.21s\tremaining: 3.4s\n",
      "707:\tlearn: 0.0118056\ttotal: 8.21s\tremaining: 3.38s\n",
      "708:\tlearn: 0.0118022\ttotal: 8.21s\tremaining: 3.37s\n",
      "709:\tlearn: 0.0117988\ttotal: 8.21s\tremaining: 3.35s\n",
      "710:\tlearn: 0.0117956\ttotal: 8.21s\tremaining: 3.34s\n",
      "711:\tlearn: 0.0117893\ttotal: 8.21s\tremaining: 3.32s\n",
      "712:\tlearn: 0.0117474\ttotal: 8.21s\tremaining: 3.31s\n",
      "713:\tlearn: 0.0117467\ttotal: 8.21s\tremaining: 3.29s\n",
      "714:\tlearn: 0.0117152\ttotal: 8.3s\tremaining: 3.31s\n",
      "715:\tlearn: 0.0117120\ttotal: 8.3s\tremaining: 3.29s\n",
      "716:\tlearn: 0.0116797\ttotal: 8.3s\tremaining: 3.28s\n",
      "717:\tlearn: 0.0116629\ttotal: 8.31s\tremaining: 3.26s\n",
      "718:\tlearn: 0.0116622\ttotal: 8.31s\tremaining: 3.25s\n",
      "719:\tlearn: 0.0116534\ttotal: 8.31s\tremaining: 3.23s\n",
      "720:\tlearn: 0.0116518\ttotal: 8.31s\tremaining: 3.22s\n",
      "721:\tlearn: 0.0116511\ttotal: 8.4s\tremaining: 3.23s\n",
      "722:\tlearn: 0.0116504\ttotal: 8.4s\tremaining: 3.22s\n",
      "723:\tlearn: 0.0116345\ttotal: 8.4s\tremaining: 3.2s\n",
      "724:\tlearn: 0.0116338\ttotal: 8.4s\tremaining: 3.19s\n",
      "725:\tlearn: 0.0116010\ttotal: 8.41s\tremaining: 3.17s\n",
      "726:\tlearn: 0.0115812\ttotal: 8.41s\tremaining: 3.16s\n",
      "727:\tlearn: 0.0115477\ttotal: 8.41s\tremaining: 3.14s\n",
      "728:\tlearn: 0.0115335\ttotal: 8.5s\tremaining: 3.16s\n",
      "729:\tlearn: 0.0115304\ttotal: 8.5s\tremaining: 3.14s\n",
      "730:\tlearn: 0.0115165\ttotal: 8.5s\tremaining: 3.13s\n",
      "731:\tlearn: 0.0115159\ttotal: 8.5s\tremaining: 3.11s\n",
      "732:\tlearn: 0.0114829\ttotal: 8.5s\tremaining: 3.1s\n",
      "733:\tlearn: 0.0114658\ttotal: 8.51s\tremaining: 3.08s\n",
      "734:\tlearn: 0.0114628\ttotal: 8.51s\tremaining: 3.07s\n",
      "735:\tlearn: 0.0114488\ttotal: 8.51s\tremaining: 3.05s\n",
      "736:\tlearn: 0.0114459\ttotal: 8.51s\tremaining: 3.04s\n",
      "737:\tlearn: 0.0114323\ttotal: 8.6s\tremaining: 3.05s\n",
      "738:\tlearn: 0.0113949\ttotal: 8.6s\tremaining: 3.04s\n",
      "739:\tlearn: 0.0113943\ttotal: 8.6s\tremaining: 3.02s\n",
      "740:\tlearn: 0.0113937\ttotal: 8.6s\tremaining: 3.01s\n",
      "741:\tlearn: 0.0113664\ttotal: 8.61s\tremaining: 2.99s\n",
      "742:\tlearn: 0.0113658\ttotal: 8.61s\tremaining: 2.98s\n",
      "743:\tlearn: 0.0113549\ttotal: 8.69s\tremaining: 2.99s\n",
      "744:\tlearn: 0.0113543\ttotal: 8.7s\tremaining: 2.98s\n",
      "745:\tlearn: 0.0113237\ttotal: 8.7s\tremaining: 2.96s\n",
      "746:\tlearn: 0.0112941\ttotal: 8.7s\tremaining: 2.94s\n",
      "747:\tlearn: 0.0112918\ttotal: 8.7s\tremaining: 2.93s\n",
      "748:\tlearn: 0.0112614\ttotal: 8.7s\tremaining: 2.92s\n",
      "749:\tlearn: 0.0112291\ttotal: 8.7s\tremaining: 2.9s\n",
      "750:\tlearn: 0.0112029\ttotal: 8.7s\tremaining: 2.88s\n",
      "751:\tlearn: 0.0112023\ttotal: 8.7s\tremaining: 2.87s\n",
      "752:\tlearn: 0.0111733\ttotal: 8.79s\tremaining: 2.88s\n",
      "753:\tlearn: 0.0111727\ttotal: 8.79s\tremaining: 2.87s\n",
      "754:\tlearn: 0.0111545\ttotal: 8.79s\tremaining: 2.85s\n",
      "755:\tlearn: 0.0111539\ttotal: 8.79s\tremaining: 2.84s\n",
      "756:\tlearn: 0.0111534\ttotal: 8.79s\tremaining: 2.82s\n",
      "757:\tlearn: 0.0111505\ttotal: 8.8s\tremaining: 2.81s\n",
      "758:\tlearn: 0.0111478\ttotal: 8.8s\tremaining: 2.79s\n",
      "759:\tlearn: 0.0111472\ttotal: 8.8s\tremaining: 2.78s\n",
      "760:\tlearn: 0.0111349\ttotal: 8.8s\tremaining: 2.76s\n",
      "761:\tlearn: 0.0111071\ttotal: 8.8s\tremaining: 2.75s\n",
      "762:\tlearn: 0.0110889\ttotal: 8.89s\tremaining: 2.76s\n",
      "763:\tlearn: 0.0110884\ttotal: 8.89s\tremaining: 2.75s\n",
      "764:\tlearn: 0.0110783\ttotal: 8.89s\tremaining: 2.73s\n",
      "765:\tlearn: 0.0110378\ttotal: 8.89s\tremaining: 2.72s\n",
      "766:\tlearn: 0.0110303\ttotal: 8.89s\tremaining: 2.7s\n",
      "767:\tlearn: 0.0110038\ttotal: 8.89s\tremaining: 2.69s\n",
      "768:\tlearn: 0.0109898\ttotal: 8.89s\tremaining: 2.67s\n",
      "769:\tlearn: 0.0109726\ttotal: 8.89s\tremaining: 2.66s\n",
      "770:\tlearn: 0.0109720\ttotal: 8.9s\tremaining: 2.64s\n",
      "771:\tlearn: 0.0109700\ttotal: 8.9s\tremaining: 2.63s\n",
      "772:\tlearn: 0.0109694\ttotal: 8.98s\tremaining: 2.64s\n",
      "773:\tlearn: 0.0109423\ttotal: 8.99s\tremaining: 2.62s\n",
      "774:\tlearn: 0.0109179\ttotal: 8.99s\tremaining: 2.61s\n",
      "775:\tlearn: 0.0108696\ttotal: 8.99s\tremaining: 2.6s\n",
      "776:\tlearn: 0.0108562\ttotal: 8.99s\tremaining: 2.58s\n",
      "777:\tlearn: 0.0108256\ttotal: 8.99s\tremaining: 2.57s\n",
      "778:\tlearn: 0.0108142\ttotal: 8.99s\tremaining: 2.55s\n",
      "779:\tlearn: 0.0108116\ttotal: 9.08s\tremaining: 2.56s\n",
      "780:\tlearn: 0.0108091\ttotal: 9.08s\tremaining: 2.55s\n",
      "781:\tlearn: 0.0107963\ttotal: 9.09s\tremaining: 2.53s\n",
      "782:\tlearn: 0.0107938\ttotal: 9.09s\tremaining: 2.52s\n",
      "783:\tlearn: 0.0107914\ttotal: 9.09s\tremaining: 2.5s\n",
      "784:\tlearn: 0.0107895\ttotal: 9.09s\tremaining: 2.49s\n",
      "785:\tlearn: 0.0107785\ttotal: 9.09s\tremaining: 2.47s\n",
      "786:\tlearn: 0.0107475\ttotal: 9.09s\tremaining: 2.46s\n",
      "787:\tlearn: 0.0107452\ttotal: 9.09s\tremaining: 2.45s\n",
      "788:\tlearn: 0.0107293\ttotal: 9.1s\tremaining: 2.43s\n",
      "789:\tlearn: 0.0107213\ttotal: 9.18s\tremaining: 2.44s\n",
      "790:\tlearn: 0.0106979\ttotal: 9.18s\tremaining: 2.42s\n",
      "791:\tlearn: 0.0106974\ttotal: 9.18s\tremaining: 2.41s\n",
      "792:\tlearn: 0.0106951\ttotal: 9.18s\tremaining: 2.4s\n",
      "793:\tlearn: 0.0106946\ttotal: 9.19s\tremaining: 2.38s\n",
      "794:\tlearn: 0.0106924\ttotal: 9.19s\tremaining: 2.37s\n",
      "795:\tlearn: 0.0106858\ttotal: 9.19s\tremaining: 2.36s\n",
      "796:\tlearn: 0.0106732\ttotal: 9.28s\tremaining: 2.36s\n",
      "797:\tlearn: 0.0106714\ttotal: 9.28s\tremaining: 2.35s\n",
      "798:\tlearn: 0.0106591\ttotal: 9.28s\tremaining: 2.33s\n",
      "799:\tlearn: 0.0106513\ttotal: 9.28s\tremaining: 2.32s\n",
      "800:\tlearn: 0.0106448\ttotal: 9.28s\tremaining: 2.31s\n",
      "801:\tlearn: 0.0106443\ttotal: 9.28s\tremaining: 2.29s\n",
      "802:\tlearn: 0.0106438\ttotal: 9.29s\tremaining: 2.28s\n",
      "803:\tlearn: 0.0106421\ttotal: 9.29s\tremaining: 2.26s\n",
      "804:\tlearn: 0.0106083\ttotal: 9.29s\tremaining: 2.25s\n",
      "805:\tlearn: 0.0106079\ttotal: 9.37s\tremaining: 2.26s\n",
      "806:\tlearn: 0.0106015\ttotal: 9.37s\tremaining: 2.24s\n",
      "807:\tlearn: 0.0106011\ttotal: 9.38s\tremaining: 2.23s\n",
      "808:\tlearn: 0.0105989\ttotal: 9.38s\tremaining: 2.21s\n",
      "809:\tlearn: 0.0105972\ttotal: 9.38s\tremaining: 2.2s\n",
      "810:\tlearn: 0.0105893\ttotal: 9.38s\tremaining: 2.19s\n",
      "811:\tlearn: 0.0105773\ttotal: 9.38s\tremaining: 2.17s\n",
      "812:\tlearn: 0.0105517\ttotal: 9.38s\tremaining: 2.16s\n",
      "813:\tlearn: 0.0105512\ttotal: 9.47s\tremaining: 2.16s\n",
      "814:\tlearn: 0.0105451\ttotal: 9.47s\tremaining: 2.15s\n",
      "815:\tlearn: 0.0105434\ttotal: 9.47s\tremaining: 2.14s\n",
      "816:\tlearn: 0.0105357\ttotal: 9.47s\tremaining: 2.12s\n",
      "817:\tlearn: 0.0105353\ttotal: 9.47s\tremaining: 2.11s\n",
      "818:\tlearn: 0.0105339\ttotal: 9.48s\tremaining: 2.09s\n",
      "819:\tlearn: 0.0105222\ttotal: 9.48s\tremaining: 2.08s\n",
      "820:\tlearn: 0.0105161\ttotal: 9.48s\tremaining: 2.07s\n",
      "821:\tlearn: 0.0105145\ttotal: 9.48s\tremaining: 2.05s\n",
      "822:\tlearn: 0.0105047\ttotal: 9.48s\tremaining: 2.04s\n",
      "823:\tlearn: 0.0105043\ttotal: 9.57s\tremaining: 2.04s\n",
      "824:\tlearn: 0.0104796\ttotal: 9.57s\tremaining: 2.03s\n",
      "825:\tlearn: 0.0104473\ttotal: 9.57s\tremaining: 2.02s\n",
      "826:\tlearn: 0.0104085\ttotal: 9.57s\tremaining: 2s\n",
      "827:\tlearn: 0.0104081\ttotal: 9.57s\tremaining: 1.99s\n",
      "828:\tlearn: 0.0104067\ttotal: 9.57s\tremaining: 1.97s\n",
      "829:\tlearn: 0.0104063\ttotal: 9.58s\tremaining: 1.96s\n",
      "830:\tlearn: 0.0103953\ttotal: 9.66s\tremaining: 1.97s\n",
      "831:\tlearn: 0.0103781\ttotal: 9.67s\tremaining: 1.95s\n",
      "832:\tlearn: 0.0103777\ttotal: 9.67s\tremaining: 1.94s\n",
      "833:\tlearn: 0.0103466\ttotal: 9.67s\tremaining: 1.92s\n",
      "834:\tlearn: 0.0103083\ttotal: 9.67s\tremaining: 1.91s\n",
      "835:\tlearn: 0.0103063\ttotal: 9.67s\tremaining: 1.9s\n",
      "836:\tlearn: 0.0103024\ttotal: 9.67s\tremaining: 1.88s\n",
      "837:\tlearn: 0.0103020\ttotal: 9.68s\tremaining: 1.87s\n",
      "838:\tlearn: 0.0103004\ttotal: 9.76s\tremaining: 1.87s\n",
      "839:\tlearn: 0.0102664\ttotal: 9.76s\tremaining: 1.86s\n",
      "840:\tlearn: 0.0102527\ttotal: 9.77s\tremaining: 1.85s\n",
      "841:\tlearn: 0.0102523\ttotal: 9.77s\tremaining: 1.83s\n",
      "842:\tlearn: 0.0102519\ttotal: 9.77s\tremaining: 1.82s\n",
      "843:\tlearn: 0.0102413\ttotal: 9.78s\tremaining: 1.81s\n",
      "844:\tlearn: 0.0102375\ttotal: 9.78s\tremaining: 1.79s\n",
      "845:\tlearn: 0.0102268\ttotal: 9.86s\tremaining: 1.79s\n",
      "846:\tlearn: 0.0102232\ttotal: 9.86s\tremaining: 1.78s\n",
      "847:\tlearn: 0.0102137\ttotal: 9.86s\tremaining: 1.77s\n",
      "848:\tlearn: 0.0102133\ttotal: 9.86s\tremaining: 1.75s\n",
      "849:\tlearn: 0.0102118\ttotal: 9.86s\tremaining: 1.74s\n",
      "850:\tlearn: 0.0102114\ttotal: 9.87s\tremaining: 1.73s\n",
      "851:\tlearn: 0.0101814\ttotal: 9.87s\tremaining: 1.71s\n",
      "852:\tlearn: 0.0101802\ttotal: 9.87s\tremaining: 1.7s\n",
      "853:\tlearn: 0.0101512\ttotal: 9.87s\tremaining: 1.69s\n",
      "854:\tlearn: 0.0101453\ttotal: 9.96s\tremaining: 1.69s\n",
      "855:\tlearn: 0.0101449\ttotal: 9.96s\tremaining: 1.68s\n",
      "856:\tlearn: 0.0101445\ttotal: 9.96s\tremaining: 1.66s\n",
      "857:\tlearn: 0.0101389\ttotal: 9.96s\tremaining: 1.65s\n",
      "858:\tlearn: 0.0101282\ttotal: 9.96s\tremaining: 1.64s\n",
      "859:\tlearn: 0.0101278\ttotal: 9.96s\tremaining: 1.62s\n",
      "860:\tlearn: 0.0101004\ttotal: 9.97s\tremaining: 1.61s\n",
      "861:\tlearn: 0.0100899\ttotal: 9.97s\tremaining: 1.59s\n",
      "862:\tlearn: 0.0100884\ttotal: 10.1s\tremaining: 1.6s\n",
      "863:\tlearn: 0.0100798\ttotal: 10.1s\tremaining: 1.58s\n",
      "864:\tlearn: 0.0100520\ttotal: 10.1s\tremaining: 1.57s\n",
      "865:\tlearn: 0.0100144\ttotal: 10.1s\tremaining: 1.56s\n",
      "866:\tlearn: 0.0100097\ttotal: 10.1s\tremaining: 1.54s\n",
      "867:\tlearn: 0.0099805\ttotal: 10.1s\tremaining: 1.53s\n",
      "868:\tlearn: 0.0099526\ttotal: 10.1s\tremaining: 1.52s\n",
      "869:\tlearn: 0.0099492\ttotal: 10.1s\tremaining: 1.5s\n",
      "870:\tlearn: 0.0099277\ttotal: 10.1s\tremaining: 1.49s\n",
      "871:\tlearn: 0.0099152\ttotal: 10.2s\tremaining: 1.49s\n",
      "872:\tlearn: 0.0099064\ttotal: 10.2s\tremaining: 1.48s\n",
      "873:\tlearn: 0.0099060\ttotal: 10.2s\tremaining: 1.46s\n",
      "874:\tlearn: 0.0099057\ttotal: 10.2s\tremaining: 1.45s\n",
      "875:\tlearn: 0.0098600\ttotal: 10.2s\tremaining: 1.44s\n",
      "876:\tlearn: 0.0098380\ttotal: 10.2s\tremaining: 1.42s\n",
      "877:\tlearn: 0.0098116\ttotal: 10.2s\tremaining: 1.41s\n",
      "878:\tlearn: 0.0097862\ttotal: 10.2s\tremaining: 1.4s\n",
      "879:\tlearn: 0.0097760\ttotal: 10.2s\tremaining: 1.4s\n",
      "880:\tlearn: 0.0097668\ttotal: 10.3s\tremaining: 1.38s\n",
      "881:\tlearn: 0.0097459\ttotal: 10.3s\tremaining: 1.37s\n",
      "882:\tlearn: 0.0097325\ttotal: 10.3s\tremaining: 1.36s\n",
      "883:\tlearn: 0.0097078\ttotal: 10.3s\tremaining: 1.34s\n",
      "884:\tlearn: 0.0096752\ttotal: 10.3s\tremaining: 1.33s\n",
      "885:\tlearn: 0.0096749\ttotal: 10.3s\tremaining: 1.32s\n",
      "886:\tlearn: 0.0096519\ttotal: 10.3s\tremaining: 1.31s\n",
      "887:\tlearn: 0.0096101\ttotal: 10.3s\tremaining: 1.29s\n",
      "888:\tlearn: 0.0095695\ttotal: 10.3s\tremaining: 1.29s\n",
      "889:\tlearn: 0.0095619\ttotal: 10.3s\tremaining: 1.28s\n",
      "890:\tlearn: 0.0095321\ttotal: 10.3s\tremaining: 1.26s\n",
      "891:\tlearn: 0.0095236\ttotal: 10.3s\tremaining: 1.25s\n",
      "892:\tlearn: 0.0095179\ttotal: 10.3s\tremaining: 1.24s\n",
      "893:\tlearn: 0.0095096\ttotal: 10.4s\tremaining: 1.23s\n",
      "894:\tlearn: 0.0094994\ttotal: 10.4s\tremaining: 1.21s\n",
      "895:\tlearn: 0.0094914\ttotal: 10.4s\tremaining: 1.2s\n",
      "896:\tlearn: 0.0094815\ttotal: 10.4s\tremaining: 1.19s\n",
      "897:\tlearn: 0.0094695\ttotal: 10.4s\tremaining: 1.18s\n",
      "898:\tlearn: 0.0094620\ttotal: 10.4s\tremaining: 1.16s\n",
      "899:\tlearn: 0.0094549\ttotal: 10.4s\tremaining: 1.15s\n",
      "900:\tlearn: 0.0094481\ttotal: 10.4s\tremaining: 1.14s\n",
      "901:\tlearn: 0.0094437\ttotal: 10.4s\tremaining: 1.13s\n",
      "902:\tlearn: 0.0094047\ttotal: 10.4s\tremaining: 1.11s\n",
      "903:\tlearn: 0.0093931\ttotal: 10.4s\tremaining: 1.1s\n",
      "904:\tlearn: 0.0093642\ttotal: 10.4s\tremaining: 1.09s\n",
      "905:\tlearn: 0.0093363\ttotal: 10.4s\tremaining: 1.07s\n",
      "906:\tlearn: 0.0093286\ttotal: 10.4s\tremaining: 1.06s\n",
      "907:\tlearn: 0.0092618\ttotal: 10.4s\tremaining: 1.05s\n",
      "908:\tlearn: 0.0092382\ttotal: 10.5s\tremaining: 1.05s\n",
      "909:\tlearn: 0.0092306\ttotal: 10.5s\tremaining: 1.03s\n",
      "910:\tlearn: 0.0092233\ttotal: 10.5s\tremaining: 1.02s\n",
      "911:\tlearn: 0.0092158\ttotal: 10.5s\tremaining: 1.01s\n",
      "912:\tlearn: 0.0092066\ttotal: 10.5s\tremaining: 997ms\n",
      "913:\tlearn: 0.0092013\ttotal: 10.5s\tremaining: 984ms\n",
      "914:\tlearn: 0.0091942\ttotal: 10.5s\tremaining: 972ms\n",
      "915:\tlearn: 0.0091646\ttotal: 10.5s\tremaining: 959ms\n",
      "916:\tlearn: 0.0091578\ttotal: 10.5s\tremaining: 947ms\n",
      "917:\tlearn: 0.0091529\ttotal: 10.6s\tremaining: 943ms\n",
      "918:\tlearn: 0.0091329\ttotal: 10.6s\tremaining: 931ms\n",
      "919:\tlearn: 0.0091140\ttotal: 10.6s\tremaining: 918ms\n",
      "920:\tlearn: 0.0091070\ttotal: 10.6s\tremaining: 906ms\n",
      "921:\tlearn: 0.0091002\ttotal: 10.7s\tremaining: 901ms\n",
      "922:\tlearn: 0.0090719\ttotal: 10.7s\tremaining: 889ms\n",
      "923:\tlearn: 0.0090608\ttotal: 10.7s\tremaining: 876ms\n",
      "924:\tlearn: 0.0090536\ttotal: 10.7s\tremaining: 864ms\n",
      "925:\tlearn: 0.0090354\ttotal: 10.7s\tremaining: 852ms\n",
      "926:\tlearn: 0.0090104\ttotal: 10.7s\tremaining: 840ms\n",
      "927:\tlearn: 0.0090039\ttotal: 10.7s\tremaining: 834ms\n",
      "928:\tlearn: 0.0089994\ttotal: 10.8s\tremaining: 822ms\n",
      "929:\tlearn: 0.0089826\ttotal: 10.8s\tremaining: 809ms\n",
      "930:\tlearn: 0.0089728\ttotal: 10.8s\tremaining: 797ms\n",
      "931:\tlearn: 0.0089444\ttotal: 10.8s\tremaining: 785ms\n",
      "932:\tlearn: 0.0089383\ttotal: 10.8s\tremaining: 773ms\n",
      "933:\tlearn: 0.0089337\ttotal: 10.8s\tremaining: 766ms\n",
      "934:\tlearn: 0.0089233\ttotal: 10.8s\tremaining: 754ms\n",
      "935:\tlearn: 0.0088942\ttotal: 10.9s\tremaining: 742ms\n",
      "936:\tlearn: 0.0088706\ttotal: 10.9s\tremaining: 730ms\n",
      "937:\tlearn: 0.0088664\ttotal: 10.9s\tremaining: 717ms\n",
      "938:\tlearn: 0.0088607\ttotal: 10.9s\tremaining: 705ms\n",
      "939:\tlearn: 0.0088519\ttotal: 10.9s\tremaining: 693ms\n",
      "940:\tlearn: 0.0088388\ttotal: 10.9s\tremaining: 686ms\n",
      "941:\tlearn: 0.0088231\ttotal: 10.9s\tremaining: 674ms\n",
      "942:\tlearn: 0.0088217\ttotal: 10.9s\tremaining: 662ms\n",
      "943:\tlearn: 0.0088154\ttotal: 10.9s\tremaining: 649ms\n",
      "944:\tlearn: 0.0087930\ttotal: 10.9s\tremaining: 637ms\n",
      "945:\tlearn: 0.0087843\ttotal: 10.9s\tremaining: 625ms\n",
      "946:\tlearn: 0.0087797\ttotal: 11s\tremaining: 613ms\n",
      "947:\tlearn: 0.0087713\ttotal: 11s\tremaining: 601ms\n",
      "948:\tlearn: 0.0087616\ttotal: 11s\tremaining: 593ms\n",
      "949:\tlearn: 0.0087549\ttotal: 11s\tremaining: 582ms\n",
      "950:\tlearn: 0.0087505\ttotal: 11s\tremaining: 569ms\n",
      "951:\tlearn: 0.0087326\ttotal: 11.1s\tremaining: 557ms\n",
      "952:\tlearn: 0.0087287\ttotal: 11.1s\tremaining: 545ms\n",
      "953:\tlearn: 0.0087229\ttotal: 11.1s\tremaining: 533ms\n",
      "954:\tlearn: 0.0086946\ttotal: 11.1s\tremaining: 521ms\n",
      "955:\tlearn: 0.0086890\ttotal: 11.1s\tremaining: 513ms\n",
      "956:\tlearn: 0.0086877\ttotal: 11.1s\tremaining: 501ms\n",
      "957:\tlearn: 0.0086856\ttotal: 11.1s\tremaining: 488ms\n",
      "958:\tlearn: 0.0086776\ttotal: 11.1s\tremaining: 476ms\n",
      "959:\tlearn: 0.0086530\ttotal: 11.1s\tremaining: 464ms\n",
      "960:\tlearn: 0.0086407\ttotal: 11.1s\tremaining: 452ms\n",
      "961:\tlearn: 0.0086376\ttotal: 11.2s\tremaining: 440ms\n",
      "962:\tlearn: 0.0086359\ttotal: 11.2s\tremaining: 432ms\n",
      "963:\tlearn: 0.0086078\ttotal: 11.2s\tremaining: 420ms\n",
      "964:\tlearn: 0.0086061\ttotal: 11.2s\tremaining: 408ms\n",
      "965:\tlearn: 0.0086045\ttotal: 11.2s\tremaining: 396ms\n",
      "966:\tlearn: 0.0085968\ttotal: 11.2s\tremaining: 384ms\n",
      "967:\tlearn: 0.0085914\ttotal: 11.2s\tremaining: 372ms\n",
      "968:\tlearn: 0.0085897\ttotal: 11.2s\tremaining: 360ms\n",
      "969:\tlearn: 0.0085845\ttotal: 11.3s\tremaining: 351ms\n",
      "970:\tlearn: 0.0085820\ttotal: 11.3s\tremaining: 339ms\n",
      "971:\tlearn: 0.0085808\ttotal: 11.3s\tremaining: 327ms\n",
      "972:\tlearn: 0.0085779\ttotal: 11.3s\tremaining: 315ms\n",
      "973:\tlearn: 0.0085763\ttotal: 11.3s\tremaining: 303ms\n",
      "974:\tlearn: 0.0085749\ttotal: 11.3s\tremaining: 291ms\n",
      "975:\tlearn: 0.0085713\ttotal: 11.3s\tremaining: 279ms\n",
      "976:\tlearn: 0.0085634\ttotal: 11.3s\tremaining: 267ms\n",
      "977:\tlearn: 0.0085553\ttotal: 11.4s\tremaining: 257ms\n",
      "978:\tlearn: 0.0085477\ttotal: 11.4s\tremaining: 245ms\n",
      "979:\tlearn: 0.0085414\ttotal: 11.4s\tremaining: 233ms\n",
      "980:\tlearn: 0.0085162\ttotal: 11.4s\tremaining: 221ms\n",
      "981:\tlearn: 0.0084922\ttotal: 11.4s\tremaining: 210ms\n",
      "982:\tlearn: 0.0084908\ttotal: 11.4s\tremaining: 198ms\n",
      "983:\tlearn: 0.0084894\ttotal: 11.4s\tremaining: 186ms\n",
      "984:\tlearn: 0.0084870\ttotal: 11.4s\tremaining: 174ms\n",
      "985:\tlearn: 0.0084857\ttotal: 11.4s\tremaining: 163ms\n",
      "986:\tlearn: 0.0084596\ttotal: 11.5s\tremaining: 152ms\n",
      "987:\tlearn: 0.0084521\ttotal: 11.5s\tremaining: 140ms\n",
      "988:\tlearn: 0.0084509\ttotal: 11.5s\tremaining: 128ms\n",
      "989:\tlearn: 0.0084422\ttotal: 11.5s\tremaining: 116ms\n",
      "990:\tlearn: 0.0084353\ttotal: 11.5s\tremaining: 105ms\n",
      "991:\tlearn: 0.0084321\ttotal: 11.5s\tremaining: 93.1ms\n",
      "992:\tlearn: 0.0084115\ttotal: 11.6s\tremaining: 82ms\n",
      "993:\tlearn: 0.0083916\ttotal: 11.6s\tremaining: 70.2ms\n",
      "994:\tlearn: 0.0083841\ttotal: 11.6s\tremaining: 58.4ms\n",
      "995:\tlearn: 0.0083792\ttotal: 11.6s\tremaining: 46.7ms\n",
      "996:\tlearn: 0.0083718\ttotal: 11.6s\tremaining: 35ms\n",
      "997:\tlearn: 0.0083662\ttotal: 11.6s\tremaining: 23.3ms\n",
      "998:\tlearn: 0.0083551\ttotal: 11.6s\tremaining: 11.6ms\n",
      "999:\tlearn: 0.0083300\ttotal: 11.6s\tremaining: 0us\n"
     ]
    }
   ],
   "source": [
    "X_train, X_test, y_train, y_test = train_test_split(\n",
    "X, y, test_size=0.33, random_state=RND)\n",
    "model_cat = CatBoostRegressor()\n",
    "model_cat.fit(X_train, y_train)\n",
    "predicted_cat = model_cat.predict(X_test)\n",
    "r2_cat = r2_score(y_test, predicted_cat)"
   ]
  },
  {
   "cell_type": "code",
   "execution_count": 28,
   "metadata": {},
   "outputs": [
    {
     "data": {
      "text/plain": [
       "0.9968639875172862"
      ]
     },
     "execution_count": 28,
     "metadata": {},
     "output_type": "execute_result"
    }
   ],
   "source": [
    "r2_cat"
   ]
  },
  {
   "cell_type": "markdown",
   "metadata": {},
   "source": [
    "#### Обучение модели с наложением случайной матрицы"
   ]
  },
  {
   "cell_type": "code",
   "execution_count": 29,
   "metadata": {},
   "outputs": [
    {
     "name": "stdout",
     "output_type": "stream",
     "text": [
      "0:\tlearn: 0.4636414\ttotal: 2.74ms\tremaining: 2.74s\n",
      "1:\tlearn: 0.4561004\ttotal: 4.03ms\tremaining: 2.01s\n",
      "2:\tlearn: 0.4486938\ttotal: 5.19ms\tremaining: 1.72s\n",
      "3:\tlearn: 0.4417917\ttotal: 7.14ms\tremaining: 1.78s\n",
      "4:\tlearn: 0.4354545\ttotal: 8.29ms\tremaining: 1.65s\n",
      "5:\tlearn: 0.4292743\ttotal: 9.48ms\tremaining: 1.57s\n",
      "6:\tlearn: 0.4233624\ttotal: 10.6ms\tremaining: 1.51s\n",
      "7:\tlearn: 0.4173301\ttotal: 11.7ms\tremaining: 1.45s\n",
      "8:\tlearn: 0.4113871\ttotal: 18.7ms\tremaining: 2.06s\n",
      "9:\tlearn: 0.4060644\ttotal: 19.9ms\tremaining: 1.97s\n",
      "10:\tlearn: 0.4006121\ttotal: 22.6ms\tremaining: 2.03s\n",
      "11:\tlearn: 0.3957765\ttotal: 24.3ms\tremaining: 2s\n",
      "12:\tlearn: 0.3906765\ttotal: 25.5ms\tremaining: 1.94s\n",
      "13:\tlearn: 0.3858330\ttotal: 26.6ms\tremaining: 1.87s\n",
      "14:\tlearn: 0.3817575\ttotal: 27.7ms\tremaining: 1.82s\n",
      "15:\tlearn: 0.3771363\ttotal: 34.3ms\tremaining: 2.11s\n",
      "16:\tlearn: 0.3728604\ttotal: 35.4ms\tremaining: 2.05s\n",
      "17:\tlearn: 0.3685437\ttotal: 36.5ms\tremaining: 1.99s\n",
      "18:\tlearn: 0.3649730\ttotal: 117ms\tremaining: 6.04s\n",
      "19:\tlearn: 0.3610014\ttotal: 118ms\tremaining: 5.79s\n",
      "20:\tlearn: 0.3572712\ttotal: 120ms\tremaining: 5.58s\n",
      "21:\tlearn: 0.3537563\ttotal: 121ms\tremaining: 5.37s\n",
      "22:\tlearn: 0.3502783\ttotal: 122ms\tremaining: 5.18s\n",
      "23:\tlearn: 0.3467614\ttotal: 123ms\tremaining: 5s\n",
      "24:\tlearn: 0.3431820\ttotal: 124ms\tremaining: 4.84s\n",
      "25:\tlearn: 0.3395919\ttotal: 131ms\tremaining: 4.91s\n",
      "26:\tlearn: 0.3365922\ttotal: 138ms\tremaining: 4.96s\n",
      "27:\tlearn: 0.3338309\ttotal: 215ms\tremaining: 7.48s\n",
      "28:\tlearn: 0.3306299\ttotal: 217ms\tremaining: 7.26s\n",
      "29:\tlearn: 0.3280593\ttotal: 218ms\tremaining: 7.05s\n",
      "30:\tlearn: 0.3250472\ttotal: 219ms\tremaining: 6.85s\n",
      "31:\tlearn: 0.3219604\ttotal: 220ms\tremaining: 6.67s\n",
      "32:\tlearn: 0.3195499\ttotal: 222ms\tremaining: 6.49s\n",
      "33:\tlearn: 0.3170696\ttotal: 223ms\tremaining: 6.33s\n",
      "34:\tlearn: 0.3142844\ttotal: 224ms\tremaining: 6.17s\n",
      "35:\tlearn: 0.3118492\ttotal: 225ms\tremaining: 6.02s\n",
      "36:\tlearn: 0.3095468\ttotal: 311ms\tremaining: 8.09s\n",
      "37:\tlearn: 0.3070245\ttotal: 312ms\tremaining: 7.9s\n",
      "38:\tlearn: 0.3048543\ttotal: 313ms\tremaining: 7.71s\n",
      "39:\tlearn: 0.3027969\ttotal: 314ms\tremaining: 7.54s\n",
      "40:\tlearn: 0.3005259\ttotal: 315ms\tremaining: 7.38s\n",
      "41:\tlearn: 0.2980808\ttotal: 317ms\tremaining: 7.22s\n",
      "42:\tlearn: 0.2957008\ttotal: 318ms\tremaining: 7.07s\n",
      "43:\tlearn: 0.2938577\ttotal: 319ms\tremaining: 6.93s\n",
      "44:\tlearn: 0.2916679\ttotal: 327ms\tremaining: 6.95s\n",
      "45:\tlearn: 0.2898670\ttotal: 410ms\tremaining: 8.51s\n",
      "46:\tlearn: 0.2878958\ttotal: 414ms\tremaining: 8.4s\n",
      "47:\tlearn: 0.2859210\ttotal: 416ms\tremaining: 8.24s\n",
      "48:\tlearn: 0.2840758\ttotal: 417ms\tremaining: 8.09s\n",
      "49:\tlearn: 0.2823834\ttotal: 418ms\tremaining: 7.94s\n",
      "50:\tlearn: 0.2802621\ttotal: 419ms\tremaining: 7.8s\n",
      "51:\tlearn: 0.2784934\ttotal: 505ms\tremaining: 9.21s\n",
      "52:\tlearn: 0.2767538\ttotal: 506ms\tremaining: 9.05s\n",
      "53:\tlearn: 0.2751849\ttotal: 508ms\tremaining: 8.89s\n",
      "54:\tlearn: 0.2732904\ttotal: 509ms\tremaining: 8.74s\n",
      "55:\tlearn: 0.2716098\ttotal: 510ms\tremaining: 8.59s\n",
      "56:\tlearn: 0.2701574\ttotal: 511ms\tremaining: 8.45s\n",
      "57:\tlearn: 0.2688452\ttotal: 512ms\tremaining: 8.31s\n",
      "58:\tlearn: 0.2674111\ttotal: 513ms\tremaining: 8.18s\n",
      "59:\tlearn: 0.2661164\ttotal: 514ms\tremaining: 8.05s\n",
      "60:\tlearn: 0.2647747\ttotal: 602ms\tremaining: 9.27s\n",
      "61:\tlearn: 0.2634096\ttotal: 605ms\tremaining: 9.15s\n",
      "62:\tlearn: 0.2621767\ttotal: 608ms\tremaining: 9.04s\n",
      "63:\tlearn: 0.2606572\ttotal: 611ms\tremaining: 8.93s\n",
      "64:\tlearn: 0.2594564\ttotal: 615ms\tremaining: 8.85s\n",
      "65:\tlearn: 0.2580514\ttotal: 702ms\tremaining: 9.93s\n",
      "66:\tlearn: 0.2568944\ttotal: 703ms\tremaining: 9.79s\n",
      "67:\tlearn: 0.2556972\ttotal: 705ms\tremaining: 9.66s\n",
      "68:\tlearn: 0.2543908\ttotal: 706ms\tremaining: 9.52s\n",
      "69:\tlearn: 0.2529548\ttotal: 708ms\tremaining: 9.41s\n",
      "70:\tlearn: 0.2519106\ttotal: 710ms\tremaining: 9.29s\n",
      "71:\tlearn: 0.2506755\ttotal: 711ms\tremaining: 9.17s\n",
      "72:\tlearn: 0.2496879\ttotal: 800ms\tremaining: 10.2s\n",
      "73:\tlearn: 0.2487511\ttotal: 801ms\tremaining: 10s\n",
      "74:\tlearn: 0.2473875\ttotal: 802ms\tremaining: 9.89s\n",
      "75:\tlearn: 0.2463721\ttotal: 803ms\tremaining: 9.76s\n",
      "76:\tlearn: 0.2455022\ttotal: 806ms\tremaining: 9.66s\n",
      "77:\tlearn: 0.2445197\ttotal: 807ms\tremaining: 9.54s\n",
      "78:\tlearn: 0.2436346\ttotal: 808ms\tremaining: 9.42s\n",
      "79:\tlearn: 0.2424651\ttotal: 896ms\tremaining: 10.3s\n",
      "80:\tlearn: 0.2414315\ttotal: 897ms\tremaining: 10.2s\n",
      "81:\tlearn: 0.2406211\ttotal: 899ms\tremaining: 10.1s\n",
      "82:\tlearn: 0.2397117\ttotal: 900ms\tremaining: 9.94s\n",
      "83:\tlearn: 0.2388782\ttotal: 901ms\tremaining: 9.82s\n",
      "84:\tlearn: 0.2379702\ttotal: 904ms\tremaining: 9.73s\n",
      "85:\tlearn: 0.2369830\ttotal: 907ms\tremaining: 9.64s\n",
      "86:\tlearn: 0.2363236\ttotal: 908ms\tremaining: 9.53s\n",
      "87:\tlearn: 0.2353457\ttotal: 993ms\tremaining: 10.3s\n",
      "88:\tlearn: 0.2345507\ttotal: 995ms\tremaining: 10.2s\n",
      "89:\tlearn: 0.2336698\ttotal: 997ms\tremaining: 10.1s\n",
      "90:\tlearn: 0.2327158\ttotal: 998ms\tremaining: 9.97s\n",
      "91:\tlearn: 0.2318668\ttotal: 999ms\tremaining: 9.86s\n",
      "92:\tlearn: 0.2307478\ttotal: 1s\tremaining: 9.78s\n",
      "93:\tlearn: 0.2299287\ttotal: 1s\tremaining: 9.69s\n",
      "94:\tlearn: 0.2289601\ttotal: 1.09s\tremaining: 10.4s\n",
      "95:\tlearn: 0.2281460\ttotal: 1.09s\tremaining: 10.3s\n",
      "96:\tlearn: 0.2275380\ttotal: 1.09s\tremaining: 10.2s\n",
      "97:\tlearn: 0.2267800\ttotal: 1.09s\tremaining: 10.1s\n",
      "98:\tlearn: 0.2259219\ttotal: 1.1s\tremaining: 9.97s\n",
      "99:\tlearn: 0.2251681\ttotal: 1.1s\tremaining: 9.87s\n",
      "100:\tlearn: 0.2242549\ttotal: 1.1s\tremaining: 9.78s\n",
      "101:\tlearn: 0.2236782\ttotal: 1.1s\tremaining: 9.68s\n",
      "102:\tlearn: 0.2228889\ttotal: 1.1s\tremaining: 9.63s\n",
      "103:\tlearn: 0.2222803\ttotal: 1.19s\tremaining: 10.2s\n",
      "104:\tlearn: 0.2213209\ttotal: 1.19s\tremaining: 10.1s\n",
      "105:\tlearn: 0.2205049\ttotal: 1.19s\tremaining: 10s\n",
      "106:\tlearn: 0.2200015\ttotal: 1.19s\tremaining: 9.94s\n",
      "107:\tlearn: 0.2194060\ttotal: 1.19s\tremaining: 9.85s\n",
      "108:\tlearn: 0.2187982\ttotal: 1.19s\tremaining: 9.76s\n",
      "109:\tlearn: 0.2182808\ttotal: 1.19s\tremaining: 9.67s\n",
      "110:\tlearn: 0.2177356\ttotal: 1.2s\tremaining: 9.58s\n",
      "111:\tlearn: 0.2171401\ttotal: 1.2s\tremaining: 9.49s\n",
      "112:\tlearn: 0.2165688\ttotal: 1.28s\tremaining: 10.1s\n",
      "113:\tlearn: 0.2161173\ttotal: 1.29s\tremaining: 10s\n",
      "114:\tlearn: 0.2153986\ttotal: 1.29s\tremaining: 9.91s\n",
      "115:\tlearn: 0.2148858\ttotal: 1.29s\tremaining: 9.83s\n",
      "116:\tlearn: 0.2142356\ttotal: 1.29s\tremaining: 9.74s\n",
      "117:\tlearn: 0.2136323\ttotal: 1.29s\tremaining: 9.65s\n",
      "118:\tlearn: 0.2131153\ttotal: 1.29s\tremaining: 9.57s\n",
      "119:\tlearn: 0.2123855\ttotal: 1.29s\tremaining: 9.49s\n",
      "120:\tlearn: 0.2118326\ttotal: 1.29s\tremaining: 9.41s\n",
      "121:\tlearn: 0.2109454\ttotal: 1.38s\tremaining: 9.94s\n",
      "122:\tlearn: 0.2105940\ttotal: 1.38s\tremaining: 9.86s\n",
      "123:\tlearn: 0.2098913\ttotal: 1.38s\tremaining: 9.78s\n",
      "124:\tlearn: 0.2093025\ttotal: 1.39s\tremaining: 9.7s\n",
      "125:\tlearn: 0.2087888\ttotal: 1.39s\tremaining: 9.62s\n",
      "126:\tlearn: 0.2082938\ttotal: 1.39s\tremaining: 9.54s\n",
      "127:\tlearn: 0.2078409\ttotal: 1.39s\tremaining: 9.46s\n",
      "128:\tlearn: 0.2074140\ttotal: 1.39s\tremaining: 9.39s\n",
      "129:\tlearn: 0.2070321\ttotal: 1.39s\tremaining: 9.31s\n",
      "130:\tlearn: 0.2066968\ttotal: 1.48s\tremaining: 9.81s\n",
      "131:\tlearn: 0.2062067\ttotal: 1.48s\tremaining: 9.75s\n",
      "132:\tlearn: 0.2058615\ttotal: 1.48s\tremaining: 9.67s\n",
      "133:\tlearn: 0.2052871\ttotal: 1.49s\tremaining: 9.6s\n",
      "134:\tlearn: 0.2047092\ttotal: 1.49s\tremaining: 9.52s\n",
      "135:\tlearn: 0.2044336\ttotal: 1.49s\tremaining: 9.45s\n",
      "136:\tlearn: 0.2038569\ttotal: 1.49s\tremaining: 9.38s\n",
      "137:\tlearn: 0.2031917\ttotal: 1.58s\tremaining: 9.85s\n",
      "138:\tlearn: 0.2028633\ttotal: 1.58s\tremaining: 9.77s\n",
      "139:\tlearn: 0.2022287\ttotal: 1.58s\tremaining: 9.7s\n",
      "140:\tlearn: 0.2017435\ttotal: 1.58s\tremaining: 9.63s\n",
      "141:\tlearn: 0.2013398\ttotal: 1.58s\tremaining: 9.55s\n",
      "142:\tlearn: 0.2009908\ttotal: 1.58s\tremaining: 9.48s\n",
      "143:\tlearn: 0.2003078\ttotal: 1.58s\tremaining: 9.41s\n",
      "144:\tlearn: 0.1998038\ttotal: 1.58s\tremaining: 9.34s\n",
      "145:\tlearn: 0.1993262\ttotal: 1.58s\tremaining: 9.28s\n",
      "146:\tlearn: 0.1989195\ttotal: 1.59s\tremaining: 9.24s\n",
      "147:\tlearn: 0.1985739\ttotal: 1.67s\tremaining: 9.63s\n",
      "148:\tlearn: 0.1979509\ttotal: 1.68s\tremaining: 9.59s\n",
      "149:\tlearn: 0.1975591\ttotal: 1.68s\tremaining: 9.52s\n",
      "150:\tlearn: 0.1971031\ttotal: 1.68s\tremaining: 9.46s\n",
      "151:\tlearn: 0.1968676\ttotal: 1.68s\tremaining: 9.39s\n",
      "152:\tlearn: 0.1966305\ttotal: 1.69s\tremaining: 9.36s\n",
      "153:\tlearn: 0.1962002\ttotal: 1.77s\tremaining: 9.72s\n",
      "154:\tlearn: 0.1957977\ttotal: 1.77s\tremaining: 9.66s\n",
      "155:\tlearn: 0.1953795\ttotal: 1.77s\tremaining: 9.59s\n",
      "156:\tlearn: 0.1948597\ttotal: 1.77s\tremaining: 9.53s\n",
      "157:\tlearn: 0.1945453\ttotal: 1.77s\tremaining: 9.46s\n",
      "158:\tlearn: 0.1941403\ttotal: 1.78s\tremaining: 9.4s\n",
      "159:\tlearn: 0.1937996\ttotal: 1.78s\tremaining: 9.33s\n",
      "160:\tlearn: 0.1937109\ttotal: 1.78s\tremaining: 9.27s\n",
      "161:\tlearn: 0.1934376\ttotal: 1.78s\tremaining: 9.21s\n",
      "162:\tlearn: 0.1928810\ttotal: 1.78s\tremaining: 9.15s\n",
      "163:\tlearn: 0.1923975\ttotal: 1.78s\tremaining: 9.08s\n",
      "164:\tlearn: 0.1922052\ttotal: 1.87s\tremaining: 9.45s\n",
      "165:\tlearn: 0.1919340\ttotal: 1.87s\tremaining: 9.39s\n",
      "166:\tlearn: 0.1914612\ttotal: 1.87s\tremaining: 9.33s\n",
      "167:\tlearn: 0.1911439\ttotal: 1.87s\tremaining: 9.27s\n",
      "168:\tlearn: 0.1908963\ttotal: 1.87s\tremaining: 9.21s\n",
      "169:\tlearn: 0.1904357\ttotal: 1.88s\tremaining: 9.16s\n",
      "170:\tlearn: 0.1900469\ttotal: 1.88s\tremaining: 9.1s\n",
      "171:\tlearn: 0.1897390\ttotal: 1.96s\tremaining: 9.46s\n",
      "172:\tlearn: 0.1891081\ttotal: 1.97s\tremaining: 9.4s\n",
      "173:\tlearn: 0.1887087\ttotal: 1.97s\tremaining: 9.34s\n",
      "174:\tlearn: 0.1883252\ttotal: 1.97s\tremaining: 9.28s\n",
      "175:\tlearn: 0.1881393\ttotal: 1.97s\tremaining: 9.22s\n",
      "176:\tlearn: 0.1877732\ttotal: 1.97s\tremaining: 9.16s\n",
      "177:\tlearn: 0.1873316\ttotal: 1.97s\tremaining: 9.1s\n",
      "178:\tlearn: 0.1870631\ttotal: 1.97s\tremaining: 9.05s\n",
      "179:\tlearn: 0.1867462\ttotal: 2.06s\tremaining: 9.39s\n",
      "180:\tlearn: 0.1864408\ttotal: 2.06s\tremaining: 9.33s\n",
      "181:\tlearn: 0.1862201\ttotal: 2.06s\tremaining: 9.28s\n",
      "182:\tlearn: 0.1859686\ttotal: 2.07s\tremaining: 9.22s\n",
      "183:\tlearn: 0.1857971\ttotal: 2.07s\tremaining: 9.17s\n",
      "184:\tlearn: 0.1856599\ttotal: 2.07s\tremaining: 9.11s\n",
      "185:\tlearn: 0.1851840\ttotal: 2.07s\tremaining: 9.06s\n",
      "186:\tlearn: 0.1849319\ttotal: 2.07s\tremaining: 9.01s\n",
      "187:\tlearn: 0.1845184\ttotal: 2.16s\tremaining: 9.33s\n",
      "188:\tlearn: 0.1841643\ttotal: 2.16s\tremaining: 9.27s\n",
      "189:\tlearn: 0.1839279\ttotal: 2.16s\tremaining: 9.22s\n",
      "190:\tlearn: 0.1835738\ttotal: 2.16s\tremaining: 9.16s\n",
      "191:\tlearn: 0.1831589\ttotal: 2.17s\tremaining: 9.12s\n",
      "192:\tlearn: 0.1829398\ttotal: 2.17s\tremaining: 9.07s\n",
      "193:\tlearn: 0.1826993\ttotal: 2.26s\tremaining: 9.38s\n",
      "194:\tlearn: 0.1822970\ttotal: 2.26s\tremaining: 9.32s\n",
      "195:\tlearn: 0.1819985\ttotal: 2.26s\tremaining: 9.27s\n",
      "196:\tlearn: 0.1816055\ttotal: 2.26s\tremaining: 9.22s\n",
      "197:\tlearn: 0.1813678\ttotal: 2.26s\tremaining: 9.17s\n",
      "198:\tlearn: 0.1811507\ttotal: 2.26s\tremaining: 9.11s\n",
      "199:\tlearn: 0.1807454\ttotal: 2.27s\tremaining: 9.06s\n",
      "200:\tlearn: 0.1803919\ttotal: 2.27s\tremaining: 9.01s\n",
      "201:\tlearn: 0.1802298\ttotal: 2.27s\tremaining: 8.96s\n",
      "202:\tlearn: 0.1800197\ttotal: 2.35s\tremaining: 9.25s\n",
      "203:\tlearn: 0.1798274\ttotal: 2.36s\tremaining: 9.2s\n",
      "204:\tlearn: 0.1793832\ttotal: 2.36s\tremaining: 9.14s\n",
      "205:\tlearn: 0.1790953\ttotal: 2.36s\tremaining: 9.09s\n",
      "206:\tlearn: 0.1787618\ttotal: 2.36s\tremaining: 9.04s\n",
      "207:\tlearn: 0.1783633\ttotal: 2.36s\tremaining: 8.99s\n",
      "208:\tlearn: 0.1781424\ttotal: 2.36s\tremaining: 8.94s\n",
      "209:\tlearn: 0.1778757\ttotal: 2.36s\tremaining: 8.89s\n",
      "210:\tlearn: 0.1776587\ttotal: 2.37s\tremaining: 8.84s\n",
      "211:\tlearn: 0.1771726\ttotal: 2.45s\tremaining: 9.11s\n",
      "212:\tlearn: 0.1770748\ttotal: 2.45s\tremaining: 9.06s\n",
      "213:\tlearn: 0.1766482\ttotal: 2.45s\tremaining: 9.01s\n",
      "214:\tlearn: 0.1763158\ttotal: 2.45s\tremaining: 8.96s\n",
      "215:\tlearn: 0.1759510\ttotal: 2.46s\tremaining: 8.91s\n",
      "216:\tlearn: 0.1755733\ttotal: 2.46s\tremaining: 8.87s\n",
      "217:\tlearn: 0.1752985\ttotal: 2.46s\tremaining: 8.82s\n",
      "218:\tlearn: 0.1750866\ttotal: 2.46s\tremaining: 8.77s\n",
      "219:\tlearn: 0.1749587\ttotal: 2.46s\tremaining: 8.73s\n",
      "220:\tlearn: 0.1747989\ttotal: 2.55s\tremaining: 8.98s\n",
      "221:\tlearn: 0.1747019\ttotal: 2.55s\tremaining: 8.94s\n",
      "222:\tlearn: 0.1743228\ttotal: 2.55s\tremaining: 8.9s\n",
      "223:\tlearn: 0.1740279\ttotal: 2.55s\tremaining: 8.85s\n",
      "224:\tlearn: 0.1739457\ttotal: 2.56s\tremaining: 8.8s\n",
      "225:\tlearn: 0.1736468\ttotal: 2.56s\tremaining: 8.76s\n",
      "226:\tlearn: 0.1732592\ttotal: 2.56s\tremaining: 8.71s\n",
      "227:\tlearn: 0.1730367\ttotal: 2.65s\tremaining: 8.96s\n",
      "228:\tlearn: 0.1729652\ttotal: 2.65s\tremaining: 8.91s\n",
      "229:\tlearn: 0.1725848\ttotal: 2.65s\tremaining: 8.87s\n",
      "230:\tlearn: 0.1722567\ttotal: 2.65s\tremaining: 8.82s\n",
      "231:\tlearn: 0.1719237\ttotal: 2.65s\tremaining: 8.77s\n",
      "232:\tlearn: 0.1714778\ttotal: 2.65s\tremaining: 8.73s\n",
      "233:\tlearn: 0.1714041\ttotal: 2.65s\tremaining: 8.69s\n",
      "234:\tlearn: 0.1710597\ttotal: 2.65s\tremaining: 8.64s\n",
      "235:\tlearn: 0.1705734\ttotal: 2.74s\tremaining: 8.88s\n",
      "236:\tlearn: 0.1703445\ttotal: 2.74s\tremaining: 8.84s\n",
      "237:\tlearn: 0.1699802\ttotal: 2.75s\tremaining: 8.79s\n",
      "238:\tlearn: 0.1699222\ttotal: 2.75s\tremaining: 8.75s\n",
      "239:\tlearn: 0.1698005\ttotal: 2.75s\tremaining: 8.7s\n",
      "240:\tlearn: 0.1696255\ttotal: 2.75s\tremaining: 8.66s\n",
      "241:\tlearn: 0.1694828\ttotal: 2.75s\tremaining: 8.62s\n",
      "242:\tlearn: 0.1692759\ttotal: 2.75s\tremaining: 8.57s\n",
      "243:\tlearn: 0.1691192\ttotal: 2.75s\tremaining: 8.53s\n",
      "244:\tlearn: 0.1689069\ttotal: 2.84s\tremaining: 8.75s\n",
      "245:\tlearn: 0.1686847\ttotal: 2.84s\tremaining: 8.71s\n",
      "246:\tlearn: 0.1685245\ttotal: 2.84s\tremaining: 8.66s\n",
      "247:\tlearn: 0.1683241\ttotal: 2.84s\tremaining: 8.62s\n",
      "248:\tlearn: 0.1681311\ttotal: 2.84s\tremaining: 8.58s\n",
      "249:\tlearn: 0.1678704\ttotal: 2.85s\tremaining: 8.54s\n",
      "250:\tlearn: 0.1676533\ttotal: 2.85s\tremaining: 8.49s\n",
      "251:\tlearn: 0.1675448\ttotal: 2.85s\tremaining: 8.45s\n",
      "252:\tlearn: 0.1674126\ttotal: 2.85s\tremaining: 8.41s\n",
      "253:\tlearn: 0.1671354\ttotal: 2.94s\tremaining: 8.62s\n",
      "254:\tlearn: 0.1669408\ttotal: 2.94s\tremaining: 8.59s\n",
      "255:\tlearn: 0.1666702\ttotal: 2.94s\tremaining: 8.54s\n",
      "256:\tlearn: 0.1664864\ttotal: 2.94s\tremaining: 8.5s\n",
      "257:\tlearn: 0.1661157\ttotal: 2.94s\tremaining: 8.46s\n",
      "258:\tlearn: 0.1657994\ttotal: 2.94s\tremaining: 8.42s\n",
      "259:\tlearn: 0.1655172\ttotal: 2.94s\tremaining: 8.38s\n",
      "260:\tlearn: 0.1654655\ttotal: 2.95s\tremaining: 8.34s\n",
      "261:\tlearn: 0.1653720\ttotal: 2.95s\tremaining: 8.3s\n",
      "262:\tlearn: 0.1650447\ttotal: 2.95s\tremaining: 8.28s\n",
      "263:\tlearn: 0.1648674\ttotal: 3.03s\tremaining: 8.46s\n",
      "264:\tlearn: 0.1646195\ttotal: 3.04s\tremaining: 8.42s\n",
      "265:\tlearn: 0.1644954\ttotal: 3.04s\tremaining: 8.38s\n",
      "266:\tlearn: 0.1643786\ttotal: 3.04s\tremaining: 8.34s\n",
      "267:\tlearn: 0.1642688\ttotal: 3.04s\tremaining: 8.3s\n",
      "268:\tlearn: 0.1641675\ttotal: 3.04s\tremaining: 8.26s\n",
      "269:\tlearn: 0.1639395\ttotal: 3.04s\tremaining: 8.22s\n",
      "270:\tlearn: 0.1636632\ttotal: 3.04s\tremaining: 8.18s\n",
      "271:\tlearn: 0.1634992\ttotal: 3.04s\tremaining: 8.14s\n",
      "272:\tlearn: 0.1631998\ttotal: 3.13s\tremaining: 8.34s\n",
      "273:\tlearn: 0.1631028\ttotal: 3.13s\tremaining: 8.3s\n",
      "274:\tlearn: 0.1629443\ttotal: 3.13s\tremaining: 8.26s\n",
      "275:\tlearn: 0.1626578\ttotal: 3.13s\tremaining: 8.22s\n",
      "276:\tlearn: 0.1624453\ttotal: 3.14s\tremaining: 8.19s\n",
      "277:\tlearn: 0.1621467\ttotal: 3.14s\tremaining: 8.16s\n",
      "278:\tlearn: 0.1620626\ttotal: 3.23s\tremaining: 8.34s\n",
      "279:\tlearn: 0.1617726\ttotal: 3.23s\tremaining: 8.31s\n",
      "280:\tlearn: 0.1614950\ttotal: 3.23s\tremaining: 8.27s\n",
      "281:\tlearn: 0.1613119\ttotal: 3.23s\tremaining: 8.23s\n",
      "282:\tlearn: 0.1612283\ttotal: 3.23s\tremaining: 8.19s\n",
      "283:\tlearn: 0.1610382\ttotal: 3.23s\tremaining: 8.15s\n",
      "284:\tlearn: 0.1608880\ttotal: 3.24s\tremaining: 8.12s\n",
      "285:\tlearn: 0.1607022\ttotal: 3.24s\tremaining: 8.09s\n",
      "286:\tlearn: 0.1606458\ttotal: 3.33s\tremaining: 8.26s\n",
      "287:\tlearn: 0.1603444\ttotal: 3.33s\tremaining: 8.23s\n",
      "288:\tlearn: 0.1599990\ttotal: 3.33s\tremaining: 8.19s\n",
      "289:\tlearn: 0.1598582\ttotal: 3.33s\tremaining: 8.15s\n",
      "290:\tlearn: 0.1596888\ttotal: 3.33s\tremaining: 8.12s\n",
      "291:\tlearn: 0.1596001\ttotal: 3.33s\tremaining: 8.09s\n",
      "292:\tlearn: 0.1593104\ttotal: 3.34s\tremaining: 8.06s\n",
      "293:\tlearn: 0.1590115\ttotal: 3.42s\tremaining: 8.22s\n",
      "294:\tlearn: 0.1588524\ttotal: 3.43s\tremaining: 8.19s\n",
      "295:\tlearn: 0.1585934\ttotal: 3.43s\tremaining: 8.15s\n",
      "296:\tlearn: 0.1584573\ttotal: 3.43s\tremaining: 8.12s\n",
      "297:\tlearn: 0.1582997\ttotal: 3.43s\tremaining: 8.08s\n",
      "298:\tlearn: 0.1581345\ttotal: 3.43s\tremaining: 8.04s\n",
      "299:\tlearn: 0.1578520\ttotal: 3.43s\tremaining: 8.01s\n",
      "300:\tlearn: 0.1577616\ttotal: 3.43s\tremaining: 7.97s\n",
      "301:\tlearn: 0.1576835\ttotal: 3.52s\tremaining: 8.14s\n",
      "302:\tlearn: 0.1575339\ttotal: 3.52s\tremaining: 8.1s\n",
      "303:\tlearn: 0.1572234\ttotal: 3.52s\tremaining: 8.07s\n",
      "304:\tlearn: 0.1571685\ttotal: 3.52s\tremaining: 8.03s\n",
      "305:\tlearn: 0.1568997\ttotal: 3.53s\tremaining: 8s\n",
      "306:\tlearn: 0.1567450\ttotal: 3.53s\tremaining: 7.97s\n",
      "307:\tlearn: 0.1562894\ttotal: 3.54s\tremaining: 7.94s\n",
      "308:\tlearn: 0.1559379\ttotal: 3.62s\tremaining: 8.09s\n",
      "309:\tlearn: 0.1555791\ttotal: 3.62s\tremaining: 8.06s\n",
      "310:\tlearn: 0.1553584\ttotal: 3.62s\tremaining: 8.02s\n",
      "311:\tlearn: 0.1550555\ttotal: 3.62s\tremaining: 7.99s\n",
      "312:\tlearn: 0.1547542\ttotal: 3.62s\tremaining: 7.96s\n",
      "313:\tlearn: 0.1546961\ttotal: 3.63s\tremaining: 7.92s\n",
      "314:\tlearn: 0.1546099\ttotal: 3.63s\tremaining: 7.89s\n",
      "315:\tlearn: 0.1543234\ttotal: 3.63s\tremaining: 7.86s\n",
      "316:\tlearn: 0.1541049\ttotal: 3.72s\tremaining: 8.01s\n",
      "317:\tlearn: 0.1537967\ttotal: 3.72s\tremaining: 7.97s\n",
      "318:\tlearn: 0.1535306\ttotal: 3.72s\tremaining: 7.94s\n",
      "319:\tlearn: 0.1534131\ttotal: 3.72s\tremaining: 7.9s\n",
      "320:\tlearn: 0.1531983\ttotal: 3.72s\tremaining: 7.87s\n",
      "321:\tlearn: 0.1530571\ttotal: 3.72s\tremaining: 7.84s\n",
      "322:\tlearn: 0.1527785\ttotal: 3.72s\tremaining: 7.8s\n",
      "323:\tlearn: 0.1525278\ttotal: 3.72s\tremaining: 7.77s\n",
      "324:\tlearn: 0.1522782\ttotal: 3.73s\tremaining: 7.74s\n",
      "325:\tlearn: 0.1519220\ttotal: 3.74s\tremaining: 7.73s\n",
      "326:\tlearn: 0.1516514\ttotal: 3.81s\tremaining: 7.85s\n",
      "327:\tlearn: 0.1513607\ttotal: 3.81s\tremaining: 7.82s\n",
      "328:\tlearn: 0.1513027\ttotal: 3.82s\tremaining: 7.78s\n",
      "329:\tlearn: 0.1509858\ttotal: 3.82s\tremaining: 7.75s\n",
      "330:\tlearn: 0.1509048\ttotal: 3.82s\tremaining: 7.72s\n",
      "331:\tlearn: 0.1506653\ttotal: 3.82s\tremaining: 7.69s\n",
      "332:\tlearn: 0.1505161\ttotal: 3.82s\tremaining: 7.66s\n",
      "333:\tlearn: 0.1503349\ttotal: 3.82s\tremaining: 7.62s\n",
      "334:\tlearn: 0.1500936\ttotal: 3.82s\tremaining: 7.59s\n",
      "335:\tlearn: 0.1499163\ttotal: 3.91s\tremaining: 7.73s\n",
      "336:\tlearn: 0.1496816\ttotal: 3.91s\tremaining: 7.7s\n",
      "337:\tlearn: 0.1494516\ttotal: 3.91s\tremaining: 7.66s\n",
      "338:\tlearn: 0.1493028\ttotal: 3.91s\tremaining: 7.63s\n",
      "339:\tlearn: 0.1491554\ttotal: 3.92s\tremaining: 7.6s\n",
      "340:\tlearn: 0.1489343\ttotal: 3.92s\tremaining: 7.57s\n",
      "341:\tlearn: 0.1487601\ttotal: 3.92s\tremaining: 7.54s\n",
      "342:\tlearn: 0.1487073\ttotal: 3.92s\tremaining: 7.5s\n",
      "343:\tlearn: 0.1486123\ttotal: 3.92s\tremaining: 7.47s\n",
      "344:\tlearn: 0.1485685\ttotal: 3.93s\tremaining: 7.46s\n",
      "345:\tlearn: 0.1482058\ttotal: 4.01s\tremaining: 7.58s\n",
      "346:\tlearn: 0.1481278\ttotal: 4.01s\tremaining: 7.55s\n",
      "347:\tlearn: 0.1478938\ttotal: 4.01s\tremaining: 7.51s\n",
      "348:\tlearn: 0.1477977\ttotal: 4.01s\tremaining: 7.48s\n",
      "349:\tlearn: 0.1477450\ttotal: 4.01s\tremaining: 7.45s\n",
      "350:\tlearn: 0.1476735\ttotal: 4.01s\tremaining: 7.42s\n",
      "351:\tlearn: 0.1472711\ttotal: 4.02s\tremaining: 7.39s\n",
      "352:\tlearn: 0.1471010\ttotal: 4.02s\tremaining: 7.36s\n",
      "353:\tlearn: 0.1470050\ttotal: 4.11s\tremaining: 7.49s\n",
      "354:\tlearn: 0.1466234\ttotal: 4.11s\tremaining: 7.46s\n",
      "355:\tlearn: 0.1465730\ttotal: 4.11s\tremaining: 7.44s\n",
      "356:\tlearn: 0.1465195\ttotal: 4.11s\tremaining: 7.41s\n",
      "357:\tlearn: 0.1463618\ttotal: 4.12s\tremaining: 7.38s\n",
      "358:\tlearn: 0.1460558\ttotal: 4.12s\tremaining: 7.36s\n",
      "359:\tlearn: 0.1460152\ttotal: 4.2s\tremaining: 7.47s\n",
      "360:\tlearn: 0.1459686\ttotal: 4.21s\tremaining: 7.45s\n",
      "361:\tlearn: 0.1458317\ttotal: 4.21s\tremaining: 7.42s\n",
      "362:\tlearn: 0.1455999\ttotal: 4.21s\tremaining: 7.39s\n",
      "363:\tlearn: 0.1455529\ttotal: 4.22s\tremaining: 7.37s\n",
      "364:\tlearn: 0.1454297\ttotal: 4.3s\tremaining: 7.48s\n",
      "365:\tlearn: 0.1451984\ttotal: 4.3s\tremaining: 7.45s\n",
      "366:\tlearn: 0.1449612\ttotal: 4.3s\tremaining: 7.42s\n",
      "367:\tlearn: 0.1449142\ttotal: 4.3s\tremaining: 7.39s\n",
      "368:\tlearn: 0.1446918\ttotal: 4.31s\tremaining: 7.36s\n",
      "369:\tlearn: 0.1444205\ttotal: 4.31s\tremaining: 7.33s\n",
      "370:\tlearn: 0.1441814\ttotal: 4.31s\tremaining: 7.3s\n",
      "371:\tlearn: 0.1439177\ttotal: 4.31s\tremaining: 7.28s\n",
      "372:\tlearn: 0.1437631\ttotal: 4.31s\tremaining: 7.25s\n",
      "373:\tlearn: 0.1436138\ttotal: 4.31s\tremaining: 7.22s\n",
      "374:\tlearn: 0.1435697\ttotal: 4.4s\tremaining: 7.33s\n",
      "375:\tlearn: 0.1433693\ttotal: 4.4s\tremaining: 7.31s\n",
      "376:\tlearn: 0.1433261\ttotal: 4.41s\tremaining: 7.28s\n",
      "377:\tlearn: 0.1431602\ttotal: 4.41s\tremaining: 7.25s\n",
      "378:\tlearn: 0.1431238\ttotal: 4.41s\tremaining: 7.23s\n",
      "379:\tlearn: 0.1429199\ttotal: 4.5s\tremaining: 7.34s\n",
      "380:\tlearn: 0.1426904\ttotal: 4.5s\tremaining: 7.32s\n",
      "381:\tlearn: 0.1426489\ttotal: 4.51s\tremaining: 7.29s\n",
      "382:\tlearn: 0.1426083\ttotal: 4.51s\tremaining: 7.27s\n",
      "383:\tlearn: 0.1422684\ttotal: 4.6s\tremaining: 7.37s\n",
      "384:\tlearn: 0.1420403\ttotal: 4.61s\tremaining: 7.36s\n",
      "385:\tlearn: 0.1419585\ttotal: 4.62s\tremaining: 7.35s\n",
      "386:\tlearn: 0.1419190\ttotal: 4.62s\tremaining: 7.32s\n",
      "387:\tlearn: 0.1416989\ttotal: 4.69s\tremaining: 7.4s\n",
      "388:\tlearn: 0.1415582\ttotal: 4.7s\tremaining: 7.38s\n",
      "389:\tlearn: 0.1415194\ttotal: 4.7s\tremaining: 7.35s\n",
      "390:\tlearn: 0.1414861\ttotal: 4.7s\tremaining: 7.32s\n",
      "391:\tlearn: 0.1413474\ttotal: 4.7s\tremaining: 7.3s\n",
      "392:\tlearn: 0.1413084\ttotal: 4.79s\tremaining: 7.4s\n",
      "393:\tlearn: 0.1412307\ttotal: 4.79s\tremaining: 7.37s\n",
      "394:\tlearn: 0.1411558\ttotal: 4.79s\tremaining: 7.34s\n",
      "395:\tlearn: 0.1410218\ttotal: 4.79s\tremaining: 7.31s\n",
      "396:\tlearn: 0.1408964\ttotal: 4.8s\tremaining: 7.29s\n",
      "397:\tlearn: 0.1408102\ttotal: 4.8s\tremaining: 7.26s\n",
      "398:\tlearn: 0.1407178\ttotal: 4.8s\tremaining: 7.23s\n",
      "399:\tlearn: 0.1406316\ttotal: 4.8s\tremaining: 7.2s\n",
      "400:\tlearn: 0.1404150\ttotal: 4.89s\tremaining: 7.3s\n",
      "401:\tlearn: 0.1402138\ttotal: 4.89s\tremaining: 7.28s\n",
      "402:\tlearn: 0.1399931\ttotal: 4.89s\tremaining: 7.25s\n",
      "403:\tlearn: 0.1397246\ttotal: 4.89s\tremaining: 7.22s\n",
      "404:\tlearn: 0.1394171\ttotal: 4.9s\tremaining: 7.2s\n",
      "405:\tlearn: 0.1392824\ttotal: 4.9s\tremaining: 7.17s\n",
      "406:\tlearn: 0.1391131\ttotal: 4.99s\tremaining: 7.26s\n",
      "407:\tlearn: 0.1389298\ttotal: 4.99s\tremaining: 7.24s\n",
      "408:\tlearn: 0.1388933\ttotal: 4.99s\tremaining: 7.21s\n",
      "409:\tlearn: 0.1387029\ttotal: 4.99s\tremaining: 7.18s\n",
      "410:\tlearn: 0.1386673\ttotal: 4.99s\tremaining: 7.15s\n",
      "411:\tlearn: 0.1385870\ttotal: 4.99s\tremaining: 7.13s\n",
      "412:\tlearn: 0.1385100\ttotal: 4.99s\tremaining: 7.1s\n",
      "413:\tlearn: 0.1382991\ttotal: 5s\tremaining: 7.07s\n",
      "414:\tlearn: 0.1380931\ttotal: 5s\tremaining: 7.04s\n",
      "415:\tlearn: 0.1378578\ttotal: 5s\tremaining: 7.02s\n",
      "416:\tlearn: 0.1377906\ttotal: 5.08s\tremaining: 7.11s\n",
      "417:\tlearn: 0.1376007\ttotal: 5.09s\tremaining: 7.08s\n",
      "418:\tlearn: 0.1375290\ttotal: 5.09s\tremaining: 7.06s\n",
      "419:\tlearn: 0.1373386\ttotal: 5.09s\tremaining: 7.03s\n",
      "420:\tlearn: 0.1371684\ttotal: 5.09s\tremaining: 7s\n",
      "421:\tlearn: 0.1371026\ttotal: 5.09s\tremaining: 6.98s\n",
      "422:\tlearn: 0.1369127\ttotal: 5.18s\tremaining: 7.07s\n",
      "423:\tlearn: 0.1367203\ttotal: 5.18s\tremaining: 7.04s\n",
      "424:\tlearn: 0.1366863\ttotal: 5.18s\tremaining: 7.01s\n",
      "425:\tlearn: 0.1366529\ttotal: 5.18s\tremaining: 6.99s\n",
      "426:\tlearn: 0.1363343\ttotal: 5.19s\tremaining: 6.96s\n",
      "427:\tlearn: 0.1361045\ttotal: 5.19s\tremaining: 6.93s\n",
      "428:\tlearn: 0.1359420\ttotal: 5.19s\tremaining: 6.91s\n",
      "429:\tlearn: 0.1357023\ttotal: 5.19s\tremaining: 6.88s\n",
      "430:\tlearn: 0.1356365\ttotal: 5.19s\tremaining: 6.86s\n",
      "431:\tlearn: 0.1354598\ttotal: 5.28s\tremaining: 6.94s\n",
      "432:\tlearn: 0.1352702\ttotal: 5.28s\tremaining: 6.91s\n",
      "433:\tlearn: 0.1352381\ttotal: 5.28s\tremaining: 6.89s\n",
      "434:\tlearn: 0.1351582\ttotal: 5.29s\tremaining: 6.87s\n",
      "435:\tlearn: 0.1349754\ttotal: 5.29s\tremaining: 6.84s\n",
      "436:\tlearn: 0.1346523\ttotal: 5.3s\tremaining: 6.83s\n",
      "437:\tlearn: 0.1345912\ttotal: 5.38s\tremaining: 6.9s\n",
      "438:\tlearn: 0.1345594\ttotal: 5.38s\tremaining: 6.87s\n",
      "439:\tlearn: 0.1343322\ttotal: 5.38s\tremaining: 6.85s\n",
      "440:\tlearn: 0.1341776\ttotal: 5.38s\tremaining: 6.82s\n",
      "441:\tlearn: 0.1341188\ttotal: 5.38s\tremaining: 6.79s\n",
      "442:\tlearn: 0.1339522\ttotal: 5.38s\tremaining: 6.77s\n",
      "443:\tlearn: 0.1337698\ttotal: 5.38s\tremaining: 6.74s\n",
      "444:\tlearn: 0.1337388\ttotal: 5.38s\tremaining: 6.72s\n",
      "445:\tlearn: 0.1336827\ttotal: 5.47s\tremaining: 6.8s\n",
      "446:\tlearn: 0.1335157\ttotal: 5.47s\tremaining: 6.77s\n",
      "447:\tlearn: 0.1332565\ttotal: 5.48s\tremaining: 6.75s\n",
      "448:\tlearn: 0.1332026\ttotal: 5.48s\tremaining: 6.72s\n",
      "449:\tlearn: 0.1330313\ttotal: 5.48s\tremaining: 6.7s\n",
      "450:\tlearn: 0.1328304\ttotal: 5.48s\tremaining: 6.67s\n",
      "451:\tlearn: 0.1328002\ttotal: 5.48s\tremaining: 6.65s\n",
      "452:\tlearn: 0.1327282\ttotal: 5.48s\tremaining: 6.62s\n",
      "453:\tlearn: 0.1325296\ttotal: 5.49s\tremaining: 6.61s\n",
      "454:\tlearn: 0.1324609\ttotal: 5.57s\tremaining: 6.67s\n",
      "455:\tlearn: 0.1322947\ttotal: 5.57s\tremaining: 6.65s\n",
      "456:\tlearn: 0.1321235\ttotal: 5.57s\tremaining: 6.62s\n",
      "457:\tlearn: 0.1318820\ttotal: 5.58s\tremaining: 6.6s\n",
      "458:\tlearn: 0.1318534\ttotal: 5.58s\tremaining: 6.57s\n",
      "459:\tlearn: 0.1316898\ttotal: 5.58s\tremaining: 6.55s\n",
      "460:\tlearn: 0.1316396\ttotal: 5.58s\tremaining: 6.53s\n",
      "461:\tlearn: 0.1315913\ttotal: 5.67s\tremaining: 6.6s\n",
      "462:\tlearn: 0.1314074\ttotal: 5.67s\tremaining: 6.58s\n",
      "463:\tlearn: 0.1313629\ttotal: 5.67s\tremaining: 6.55s\n",
      "464:\tlearn: 0.1312067\ttotal: 5.67s\tremaining: 6.53s\n",
      "465:\tlearn: 0.1309718\ttotal: 5.67s\tremaining: 6.5s\n",
      "466:\tlearn: 0.1309442\ttotal: 5.68s\tremaining: 6.48s\n",
      "467:\tlearn: 0.1309016\ttotal: 5.69s\tremaining: 6.46s\n",
      "468:\tlearn: 0.1307454\ttotal: 5.76s\tremaining: 6.53s\n",
      "469:\tlearn: 0.1306035\ttotal: 5.77s\tremaining: 6.5s\n",
      "470:\tlearn: 0.1305767\ttotal: 5.77s\tremaining: 6.48s\n",
      "471:\tlearn: 0.1303513\ttotal: 5.77s\tremaining: 6.45s\n",
      "472:\tlearn: 0.1301261\ttotal: 5.77s\tremaining: 6.43s\n",
      "473:\tlearn: 0.1299778\ttotal: 5.77s\tremaining: 6.41s\n",
      "474:\tlearn: 0.1298461\ttotal: 5.77s\tremaining: 6.38s\n",
      "475:\tlearn: 0.1296488\ttotal: 5.77s\tremaining: 6.36s\n",
      "476:\tlearn: 0.1295457\ttotal: 5.78s\tremaining: 6.33s\n",
      "477:\tlearn: 0.1292553\ttotal: 5.86s\tremaining: 6.4s\n",
      "478:\tlearn: 0.1290661\ttotal: 5.86s\tremaining: 6.38s\n",
      "479:\tlearn: 0.1289250\ttotal: 5.87s\tremaining: 6.35s\n",
      "480:\tlearn: 0.1286317\ttotal: 5.87s\tremaining: 6.33s\n",
      "481:\tlearn: 0.1284597\ttotal: 5.87s\tremaining: 6.3s\n",
      "482:\tlearn: 0.1283626\ttotal: 5.87s\tremaining: 6.28s\n",
      "483:\tlearn: 0.1281678\ttotal: 5.87s\tremaining: 6.26s\n",
      "484:\tlearn: 0.1279923\ttotal: 5.87s\tremaining: 6.24s\n",
      "485:\tlearn: 0.1279496\ttotal: 5.96s\tremaining: 6.3s\n",
      "486:\tlearn: 0.1278209\ttotal: 5.96s\tremaining: 6.28s\n",
      "487:\tlearn: 0.1275495\ttotal: 5.96s\tremaining: 6.26s\n",
      "488:\tlearn: 0.1273037\ttotal: 5.96s\tremaining: 6.23s\n",
      "489:\tlearn: 0.1271443\ttotal: 5.97s\tremaining: 6.21s\n",
      "490:\tlearn: 0.1269837\ttotal: 5.97s\tremaining: 6.19s\n",
      "491:\tlearn: 0.1269569\ttotal: 5.97s\tremaining: 6.16s\n",
      "492:\tlearn: 0.1268155\ttotal: 5.97s\tremaining: 6.14s\n",
      "493:\tlearn: 0.1266387\ttotal: 5.98s\tremaining: 6.12s\n",
      "494:\tlearn: 0.1266124\ttotal: 6.06s\tremaining: 6.18s\n",
      "495:\tlearn: 0.1264615\ttotal: 6.06s\tremaining: 6.16s\n",
      "496:\tlearn: 0.1264357\ttotal: 6.06s\tremaining: 6.13s\n",
      "497:\tlearn: 0.1262984\ttotal: 6.06s\tremaining: 6.11s\n",
      "498:\tlearn: 0.1262587\ttotal: 6.06s\tremaining: 6.09s\n",
      "499:\tlearn: 0.1261212\ttotal: 6.06s\tremaining: 6.06s\n",
      "500:\tlearn: 0.1260424\ttotal: 6.07s\tremaining: 6.04s\n",
      "501:\tlearn: 0.1260173\ttotal: 6.07s\tremaining: 6.02s\n",
      "502:\tlearn: 0.1258484\ttotal: 6.15s\tremaining: 6.08s\n",
      "503:\tlearn: 0.1258103\ttotal: 6.16s\tremaining: 6.06s\n",
      "504:\tlearn: 0.1256801\ttotal: 6.16s\tremaining: 6.04s\n",
      "505:\tlearn: 0.1255780\ttotal: 6.16s\tremaining: 6.02s\n",
      "506:\tlearn: 0.1254024\ttotal: 6.17s\tremaining: 6s\n",
      "507:\tlearn: 0.1252832\ttotal: 6.17s\tremaining: 5.97s\n",
      "508:\tlearn: 0.1250302\ttotal: 6.17s\tremaining: 5.95s\n",
      "509:\tlearn: 0.1249043\ttotal: 6.25s\tremaining: 6.01s\n",
      "510:\tlearn: 0.1246718\ttotal: 6.25s\tremaining: 5.98s\n",
      "511:\tlearn: 0.1244424\ttotal: 6.25s\tremaining: 5.96s\n",
      "512:\tlearn: 0.1243147\ttotal: 6.26s\tremaining: 5.94s\n",
      "513:\tlearn: 0.1241275\ttotal: 6.26s\tremaining: 5.92s\n",
      "514:\tlearn: 0.1239497\ttotal: 6.26s\tremaining: 5.89s\n",
      "515:\tlearn: 0.1238776\ttotal: 6.26s\tremaining: 5.87s\n",
      "516:\tlearn: 0.1236564\ttotal: 6.26s\tremaining: 5.85s\n",
      "517:\tlearn: 0.1235866\ttotal: 6.27s\tremaining: 5.83s\n",
      "518:\tlearn: 0.1235143\ttotal: 6.35s\tremaining: 5.88s\n",
      "519:\tlearn: 0.1234770\ttotal: 6.35s\tremaining: 5.86s\n",
      "520:\tlearn: 0.1232675\ttotal: 6.35s\tremaining: 5.84s\n",
      "521:\tlearn: 0.1231290\ttotal: 6.35s\tremaining: 5.82s\n",
      "522:\tlearn: 0.1231045\ttotal: 6.36s\tremaining: 5.8s\n",
      "523:\tlearn: 0.1229928\ttotal: 6.36s\tremaining: 5.77s\n",
      "524:\tlearn: 0.1229688\ttotal: 6.37s\tremaining: 5.76s\n",
      "525:\tlearn: 0.1227874\ttotal: 6.45s\tremaining: 5.81s\n",
      "526:\tlearn: 0.1225991\ttotal: 6.45s\tremaining: 5.79s\n",
      "527:\tlearn: 0.1223873\ttotal: 6.45s\tremaining: 5.76s\n",
      "528:\tlearn: 0.1222067\ttotal: 6.45s\tremaining: 5.74s\n",
      "529:\tlearn: 0.1220692\ttotal: 6.45s\tremaining: 5.72s\n",
      "530:\tlearn: 0.1218966\ttotal: 6.45s\tremaining: 5.7s\n",
      "531:\tlearn: 0.1217731\ttotal: 6.45s\tremaining: 5.68s\n",
      "532:\tlearn: 0.1217545\ttotal: 6.45s\tremaining: 5.66s\n",
      "533:\tlearn: 0.1216480\ttotal: 6.54s\tremaining: 5.71s\n",
      "534:\tlearn: 0.1214406\ttotal: 6.55s\tremaining: 5.69s\n",
      "535:\tlearn: 0.1214168\ttotal: 6.55s\tremaining: 5.67s\n",
      "536:\tlearn: 0.1213824\ttotal: 6.55s\tremaining: 5.65s\n",
      "537:\tlearn: 0.1212630\ttotal: 6.56s\tremaining: 5.63s\n",
      "538:\tlearn: 0.1211455\ttotal: 6.64s\tremaining: 5.68s\n",
      "539:\tlearn: 0.1209468\ttotal: 6.65s\tremaining: 5.66s\n",
      "540:\tlearn: 0.1208329\ttotal: 6.65s\tremaining: 5.64s\n",
      "541:\tlearn: 0.1207645\ttotal: 6.65s\tremaining: 5.62s\n",
      "542:\tlearn: 0.1207466\ttotal: 6.74s\tremaining: 5.67s\n",
      "543:\tlearn: 0.1207291\ttotal: 6.74s\tremaining: 5.65s\n",
      "544:\tlearn: 0.1205981\ttotal: 6.74s\tremaining: 5.63s\n",
      "545:\tlearn: 0.1204066\ttotal: 6.74s\tremaining: 5.61s\n",
      "546:\tlearn: 0.1202664\ttotal: 6.75s\tremaining: 5.59s\n",
      "547:\tlearn: 0.1201196\ttotal: 6.75s\tremaining: 5.57s\n",
      "548:\tlearn: 0.1200568\ttotal: 6.75s\tremaining: 5.55s\n",
      "549:\tlearn: 0.1200234\ttotal: 6.84s\tremaining: 5.59s\n",
      "550:\tlearn: 0.1200009\ttotal: 6.84s\tremaining: 5.57s\n",
      "551:\tlearn: 0.1199402\ttotal: 6.84s\tremaining: 5.55s\n",
      "552:\tlearn: 0.1198815\ttotal: 6.84s\tremaining: 5.53s\n",
      "553:\tlearn: 0.1197816\ttotal: 6.84s\tremaining: 5.51s\n",
      "554:\tlearn: 0.1196673\ttotal: 6.84s\tremaining: 5.49s\n",
      "555:\tlearn: 0.1195052\ttotal: 6.85s\tremaining: 5.47s\n",
      "556:\tlearn: 0.1193940\ttotal: 6.85s\tremaining: 5.45s\n",
      "557:\tlearn: 0.1193341\ttotal: 6.85s\tremaining: 5.43s\n",
      "558:\tlearn: 0.1192762\ttotal: 6.93s\tremaining: 5.47s\n",
      "559:\tlearn: 0.1191520\ttotal: 6.94s\tremaining: 5.45s\n",
      "560:\tlearn: 0.1190913\ttotal: 6.94s\tremaining: 5.43s\n",
      "561:\tlearn: 0.1190000\ttotal: 6.94s\tremaining: 5.41s\n",
      "562:\tlearn: 0.1188817\ttotal: 6.94s\tremaining: 5.39s\n",
      "563:\tlearn: 0.1188584\ttotal: 6.94s\tremaining: 5.37s\n",
      "564:\tlearn: 0.1186821\ttotal: 6.94s\tremaining: 5.34s\n",
      "565:\tlearn: 0.1186655\ttotal: 6.94s\tremaining: 5.32s\n",
      "566:\tlearn: 0.1185245\ttotal: 7.03s\tremaining: 5.37s\n",
      "567:\tlearn: 0.1184316\ttotal: 7.03s\tremaining: 5.35s\n",
      "568:\tlearn: 0.1182915\ttotal: 7.03s\tremaining: 5.33s\n",
      "569:\tlearn: 0.1182751\ttotal: 7.04s\tremaining: 5.31s\n",
      "570:\tlearn: 0.1181801\ttotal: 7.04s\tremaining: 5.29s\n",
      "571:\tlearn: 0.1179921\ttotal: 7.04s\tremaining: 5.26s\n",
      "572:\tlearn: 0.1178271\ttotal: 7.04s\tremaining: 5.25s\n",
      "573:\tlearn: 0.1177968\ttotal: 7.04s\tremaining: 5.22s\n",
      "574:\tlearn: 0.1177744\ttotal: 7.04s\tremaining: 5.21s\n",
      "575:\tlearn: 0.1177453\ttotal: 7.13s\tremaining: 5.25s\n",
      "576:\tlearn: 0.1177163\ttotal: 7.13s\tremaining: 5.23s\n",
      "577:\tlearn: 0.1176116\ttotal: 7.13s\tremaining: 5.21s\n",
      "578:\tlearn: 0.1174547\ttotal: 7.13s\tremaining: 5.19s\n",
      "579:\tlearn: 0.1174267\ttotal: 7.13s\tremaining: 5.17s\n",
      "580:\tlearn: 0.1172975\ttotal: 7.13s\tremaining: 5.14s\n",
      "581:\tlearn: 0.1171482\ttotal: 7.14s\tremaining: 5.13s\n",
      "582:\tlearn: 0.1170327\ttotal: 7.23s\tremaining: 5.17s\n",
      "583:\tlearn: 0.1169324\ttotal: 7.23s\tremaining: 5.15s\n",
      "584:\tlearn: 0.1168011\ttotal: 7.23s\tremaining: 5.13s\n",
      "585:\tlearn: 0.1166635\ttotal: 7.23s\tremaining: 5.11s\n",
      "586:\tlearn: 0.1165507\ttotal: 7.23s\tremaining: 5.09s\n",
      "587:\tlearn: 0.1164207\ttotal: 7.23s\tremaining: 5.07s\n",
      "588:\tlearn: 0.1163107\ttotal: 7.23s\tremaining: 5.05s\n",
      "589:\tlearn: 0.1162075\ttotal: 7.23s\tremaining: 5.03s\n",
      "590:\tlearn: 0.1160765\ttotal: 7.24s\tremaining: 5.01s\n",
      "591:\tlearn: 0.1160524\ttotal: 7.32s\tremaining: 5.05s\n",
      "592:\tlearn: 0.1159128\ttotal: 7.33s\tremaining: 5.03s\n",
      "593:\tlearn: 0.1157897\ttotal: 7.33s\tremaining: 5.01s\n",
      "594:\tlearn: 0.1156649\ttotal: 7.33s\tremaining: 4.99s\n",
      "595:\tlearn: 0.1155596\ttotal: 7.33s\tremaining: 4.97s\n",
      "596:\tlearn: 0.1154718\ttotal: 7.33s\tremaining: 4.95s\n",
      "597:\tlearn: 0.1153744\ttotal: 7.33s\tremaining: 4.93s\n",
      "598:\tlearn: 0.1152471\ttotal: 7.34s\tremaining: 4.91s\n",
      "599:\tlearn: 0.1151138\ttotal: 7.42s\tremaining: 4.95s\n",
      "600:\tlearn: 0.1150984\ttotal: 7.42s\tremaining: 4.93s\n",
      "601:\tlearn: 0.1149821\ttotal: 7.42s\tremaining: 4.91s\n",
      "602:\tlearn: 0.1148813\ttotal: 7.42s\tremaining: 4.89s\n",
      "603:\tlearn: 0.1148598\ttotal: 7.43s\tremaining: 4.87s\n",
      "604:\tlearn: 0.1147530\ttotal: 7.43s\tremaining: 4.85s\n",
      "605:\tlearn: 0.1147329\ttotal: 7.43s\tremaining: 4.83s\n",
      "606:\tlearn: 0.1146369\ttotal: 7.43s\tremaining: 4.81s\n",
      "607:\tlearn: 0.1145621\ttotal: 7.52s\tremaining: 4.85s\n",
      "608:\tlearn: 0.1144219\ttotal: 7.52s\tremaining: 4.83s\n",
      "609:\tlearn: 0.1143224\ttotal: 7.52s\tremaining: 4.81s\n",
      "610:\tlearn: 0.1141829\ttotal: 7.52s\tremaining: 4.79s\n",
      "611:\tlearn: 0.1140970\ttotal: 7.52s\tremaining: 4.77s\n",
      "612:\tlearn: 0.1139941\ttotal: 7.53s\tremaining: 4.75s\n",
      "613:\tlearn: 0.1138280\ttotal: 7.54s\tremaining: 4.74s\n",
      "614:\tlearn: 0.1136721\ttotal: 7.62s\tremaining: 4.77s\n",
      "615:\tlearn: 0.1136571\ttotal: 7.62s\tremaining: 4.75s\n",
      "616:\tlearn: 0.1136424\ttotal: 7.62s\tremaining: 4.73s\n",
      "617:\tlearn: 0.1135425\ttotal: 7.62s\tremaining: 4.71s\n",
      "618:\tlearn: 0.1134267\ttotal: 7.62s\tremaining: 4.69s\n",
      "619:\tlearn: 0.1133977\ttotal: 7.62s\tremaining: 4.67s\n",
      "620:\tlearn: 0.1133177\ttotal: 7.62s\tremaining: 4.65s\n",
      "621:\tlearn: 0.1133036\ttotal: 7.62s\tremaining: 4.63s\n",
      "622:\tlearn: 0.1132035\ttotal: 7.63s\tremaining: 4.61s\n",
      "623:\tlearn: 0.1131273\ttotal: 7.63s\tremaining: 4.59s\n",
      "624:\tlearn: 0.1130083\ttotal: 7.71s\tremaining: 4.63s\n",
      "625:\tlearn: 0.1128778\ttotal: 7.72s\tremaining: 4.61s\n",
      "626:\tlearn: 0.1127388\ttotal: 7.72s\tremaining: 4.59s\n",
      "627:\tlearn: 0.1126475\ttotal: 7.72s\tremaining: 4.57s\n",
      "628:\tlearn: 0.1125231\ttotal: 7.73s\tremaining: 4.56s\n",
      "629:\tlearn: 0.1124303\ttotal: 7.81s\tremaining: 4.59s\n",
      "630:\tlearn: 0.1123593\ttotal: 7.81s\tremaining: 4.57s\n",
      "631:\tlearn: 0.1122678\ttotal: 7.81s\tremaining: 4.55s\n",
      "632:\tlearn: 0.1121639\ttotal: 7.81s\tremaining: 4.53s\n",
      "633:\tlearn: 0.1120187\ttotal: 7.82s\tremaining: 4.51s\n",
      "634:\tlearn: 0.1118301\ttotal: 7.82s\tremaining: 4.49s\n",
      "635:\tlearn: 0.1116913\ttotal: 7.82s\tremaining: 4.47s\n",
      "636:\tlearn: 0.1115127\ttotal: 7.82s\tremaining: 4.46s\n",
      "637:\tlearn: 0.1114565\ttotal: 7.82s\tremaining: 4.44s\n",
      "638:\tlearn: 0.1113036\ttotal: 7.82s\tremaining: 4.42s\n",
      "639:\tlearn: 0.1112231\ttotal: 7.91s\tremaining: 4.45s\n",
      "640:\tlearn: 0.1111735\ttotal: 7.91s\tremaining: 4.43s\n",
      "641:\tlearn: 0.1111132\ttotal: 7.91s\tremaining: 4.41s\n",
      "642:\tlearn: 0.1110437\ttotal: 7.91s\tremaining: 4.39s\n",
      "643:\tlearn: 0.1109643\ttotal: 7.91s\tremaining: 4.37s\n",
      "644:\tlearn: 0.1109060\ttotal: 7.91s\tremaining: 4.36s\n",
      "645:\tlearn: 0.1108483\ttotal: 7.92s\tremaining: 4.34s\n",
      "646:\tlearn: 0.1107905\ttotal: 7.92s\tremaining: 4.32s\n",
      "647:\tlearn: 0.1106187\ttotal: 7.92s\tremaining: 4.3s\n",
      "648:\tlearn: 0.1104670\ttotal: 8s\tremaining: 4.33s\n",
      "649:\tlearn: 0.1103910\ttotal: 8.01s\tremaining: 4.31s\n",
      "650:\tlearn: 0.1102962\ttotal: 8.01s\tremaining: 4.29s\n",
      "651:\tlearn: 0.1102088\ttotal: 8.01s\tremaining: 4.27s\n",
      "652:\tlearn: 0.1100594\ttotal: 8.01s\tremaining: 4.26s\n",
      "653:\tlearn: 0.1099177\ttotal: 8.01s\tremaining: 4.24s\n",
      "654:\tlearn: 0.1098263\ttotal: 8.01s\tremaining: 4.22s\n",
      "655:\tlearn: 0.1097627\ttotal: 8.01s\tremaining: 4.2s\n",
      "656:\tlearn: 0.1096220\ttotal: 8.01s\tremaining: 4.18s\n",
      "657:\tlearn: 0.1095543\ttotal: 8.02s\tremaining: 4.17s\n",
      "658:\tlearn: 0.1095407\ttotal: 8.1s\tremaining: 4.19s\n",
      "659:\tlearn: 0.1094144\ttotal: 8.1s\tremaining: 4.17s\n",
      "660:\tlearn: 0.1093545\ttotal: 8.1s\tremaining: 4.16s\n",
      "661:\tlearn: 0.1091957\ttotal: 8.11s\tremaining: 4.14s\n",
      "662:\tlearn: 0.1091340\ttotal: 8.11s\tremaining: 4.12s\n",
      "663:\tlearn: 0.1089819\ttotal: 8.11s\tremaining: 4.1s\n",
      "664:\tlearn: 0.1088594\ttotal: 8.11s\tremaining: 4.08s\n",
      "665:\tlearn: 0.1087225\ttotal: 8.11s\tremaining: 4.07s\n",
      "666:\tlearn: 0.1086697\ttotal: 8.11s\tremaining: 4.05s\n",
      "667:\tlearn: 0.1086513\ttotal: 8.11s\tremaining: 4.03s\n",
      "668:\tlearn: 0.1086382\ttotal: 8.12s\tremaining: 4.02s\n",
      "669:\tlearn: 0.1085341\ttotal: 8.2s\tremaining: 4.04s\n",
      "670:\tlearn: 0.1083388\ttotal: 8.2s\tremaining: 4.02s\n",
      "671:\tlearn: 0.1081260\ttotal: 8.2s\tremaining: 4s\n",
      "672:\tlearn: 0.1080691\ttotal: 8.2s\tremaining: 3.99s\n",
      "673:\tlearn: 0.1080180\ttotal: 8.2s\tremaining: 3.97s\n",
      "674:\tlearn: 0.1078632\ttotal: 8.21s\tremaining: 3.95s\n",
      "675:\tlearn: 0.1077748\ttotal: 8.21s\tremaining: 3.93s\n",
      "676:\tlearn: 0.1075711\ttotal: 8.21s\tremaining: 3.92s\n",
      "677:\tlearn: 0.1074655\ttotal: 8.29s\tremaining: 3.94s\n",
      "678:\tlearn: 0.1073994\ttotal: 8.3s\tremaining: 3.92s\n",
      "679:\tlearn: 0.1073712\ttotal: 8.3s\tremaining: 3.9s\n",
      "680:\tlearn: 0.1072768\ttotal: 8.3s\tremaining: 3.89s\n",
      "681:\tlearn: 0.1071600\ttotal: 8.3s\tremaining: 3.87s\n",
      "682:\tlearn: 0.1070783\ttotal: 8.3s\tremaining: 3.85s\n",
      "683:\tlearn: 0.1070239\ttotal: 8.3s\tremaining: 3.83s\n",
      "684:\tlearn: 0.1069639\ttotal: 8.3s\tremaining: 3.82s\n",
      "685:\tlearn: 0.1068288\ttotal: 8.3s\tremaining: 3.8s\n",
      "686:\tlearn: 0.1067005\ttotal: 8.3s\tremaining: 3.78s\n",
      "687:\tlearn: 0.1065255\ttotal: 8.39s\tremaining: 3.81s\n",
      "688:\tlearn: 0.1064504\ttotal: 8.39s\tremaining: 3.79s\n",
      "689:\tlearn: 0.1064018\ttotal: 8.39s\tremaining: 3.77s\n",
      "690:\tlearn: 0.1062884\ttotal: 8.4s\tremaining: 3.75s\n",
      "691:\tlearn: 0.1062312\ttotal: 8.4s\tremaining: 3.74s\n",
      "692:\tlearn: 0.1061587\ttotal: 8.4s\tremaining: 3.72s\n",
      "693:\tlearn: 0.1060944\ttotal: 8.4s\tremaining: 3.7s\n",
      "694:\tlearn: 0.1060214\ttotal: 8.4s\tremaining: 3.69s\n",
      "695:\tlearn: 0.1058498\ttotal: 8.49s\tremaining: 3.71s\n",
      "696:\tlearn: 0.1057555\ttotal: 8.49s\tremaining: 3.69s\n",
      "697:\tlearn: 0.1056990\ttotal: 8.49s\tremaining: 3.67s\n",
      "698:\tlearn: 0.1055678\ttotal: 8.49s\tremaining: 3.66s\n",
      "699:\tlearn: 0.1054405\ttotal: 8.49s\tremaining: 3.64s\n",
      "700:\tlearn: 0.1053691\ttotal: 8.5s\tremaining: 3.62s\n",
      "701:\tlearn: 0.1052765\ttotal: 8.5s\tremaining: 3.61s\n",
      "702:\tlearn: 0.1050947\ttotal: 8.5s\tremaining: 3.59s\n",
      "703:\tlearn: 0.1049694\ttotal: 8.5s\tremaining: 3.57s\n",
      "704:\tlearn: 0.1049503\ttotal: 8.5s\tremaining: 3.56s\n",
      "705:\tlearn: 0.1047759\ttotal: 8.59s\tremaining: 3.58s\n",
      "706:\tlearn: 0.1046624\ttotal: 8.59s\tremaining: 3.56s\n",
      "707:\tlearn: 0.1046048\ttotal: 8.59s\tremaining: 3.54s\n",
      "708:\tlearn: 0.1044842\ttotal: 8.59s\tremaining: 3.52s\n",
      "709:\tlearn: 0.1044372\ttotal: 8.59s\tremaining: 3.51s\n",
      "710:\tlearn: 0.1043674\ttotal: 8.59s\tremaining: 3.49s\n",
      "711:\tlearn: 0.1042516\ttotal: 8.6s\tremaining: 3.48s\n",
      "712:\tlearn: 0.1041845\ttotal: 8.6s\tremaining: 3.46s\n",
      "713:\tlearn: 0.1040545\ttotal: 8.68s\tremaining: 3.48s\n",
      "714:\tlearn: 0.1039942\ttotal: 8.69s\tremaining: 3.46s\n",
      "715:\tlearn: 0.1038830\ttotal: 8.69s\tremaining: 3.44s\n",
      "716:\tlearn: 0.1036533\ttotal: 8.69s\tremaining: 3.43s\n",
      "717:\tlearn: 0.1035360\ttotal: 8.69s\tremaining: 3.41s\n",
      "718:\tlearn: 0.1034622\ttotal: 8.69s\tremaining: 3.4s\n",
      "719:\tlearn: 0.1033884\ttotal: 8.69s\tremaining: 3.38s\n",
      "720:\tlearn: 0.1032345\ttotal: 8.69s\tremaining: 3.36s\n",
      "721:\tlearn: 0.1031777\ttotal: 8.78s\tremaining: 3.38s\n",
      "722:\tlearn: 0.1030810\ttotal: 8.78s\tremaining: 3.37s\n",
      "723:\tlearn: 0.1030302\ttotal: 8.78s\tremaining: 3.35s\n",
      "724:\tlearn: 0.1029856\ttotal: 8.79s\tremaining: 3.33s\n",
      "725:\tlearn: 0.1029230\ttotal: 8.79s\tremaining: 3.32s\n",
      "726:\tlearn: 0.1027988\ttotal: 8.79s\tremaining: 3.3s\n",
      "727:\tlearn: 0.1027446\ttotal: 8.79s\tremaining: 3.28s\n",
      "728:\tlearn: 0.1026142\ttotal: 8.79s\tremaining: 3.27s\n",
      "729:\tlearn: 0.1025071\ttotal: 8.79s\tremaining: 3.25s\n",
      "730:\tlearn: 0.1024585\ttotal: 8.88s\tremaining: 3.27s\n",
      "731:\tlearn: 0.1023428\ttotal: 8.88s\tremaining: 3.25s\n",
      "732:\tlearn: 0.1022587\ttotal: 8.88s\tremaining: 3.23s\n",
      "733:\tlearn: 0.1022057\ttotal: 8.88s\tremaining: 3.22s\n",
      "734:\tlearn: 0.1021575\ttotal: 8.88s\tremaining: 3.2s\n",
      "735:\tlearn: 0.1021110\ttotal: 8.88s\tremaining: 3.19s\n",
      "736:\tlearn: 0.1020558\ttotal: 8.89s\tremaining: 3.17s\n",
      "737:\tlearn: 0.1019211\ttotal: 8.89s\tremaining: 3.15s\n",
      "738:\tlearn: 0.1018163\ttotal: 8.89s\tremaining: 3.14s\n",
      "739:\tlearn: 0.1017207\ttotal: 8.98s\tremaining: 3.15s\n",
      "740:\tlearn: 0.1016190\ttotal: 8.98s\tremaining: 3.14s\n",
      "741:\tlearn: 0.1015453\ttotal: 8.98s\tremaining: 3.12s\n",
      "742:\tlearn: 0.1014903\ttotal: 8.99s\tremaining: 3.11s\n",
      "743:\tlearn: 0.1014036\ttotal: 9.07s\tremaining: 3.12s\n",
      "744:\tlearn: 0.1012324\ttotal: 9.08s\tremaining: 3.11s\n",
      "745:\tlearn: 0.1011989\ttotal: 9.08s\tremaining: 3.09s\n",
      "746:\tlearn: 0.1011153\ttotal: 9.09s\tremaining: 3.08s\n",
      "747:\tlearn: 0.1010539\ttotal: 9.17s\tremaining: 3.09s\n",
      "748:\tlearn: 0.1009449\ttotal: 9.18s\tremaining: 3.07s\n",
      "749:\tlearn: 0.1008742\ttotal: 9.18s\tremaining: 3.06s\n",
      "750:\tlearn: 0.1007805\ttotal: 9.18s\tremaining: 3.04s\n",
      "751:\tlearn: 0.1007602\ttotal: 9.18s\tremaining: 3.03s\n",
      "752:\tlearn: 0.1006648\ttotal: 9.18s\tremaining: 3.01s\n",
      "753:\tlearn: 0.1006464\ttotal: 9.18s\tremaining: 3s\n",
      "754:\tlearn: 0.1005995\ttotal: 9.18s\tremaining: 2.98s\n",
      "755:\tlearn: 0.1004927\ttotal: 9.27s\tremaining: 2.99s\n",
      "756:\tlearn: 0.1004137\ttotal: 9.27s\tremaining: 2.98s\n",
      "757:\tlearn: 0.1003426\ttotal: 9.27s\tremaining: 2.96s\n",
      "758:\tlearn: 0.1002757\ttotal: 9.28s\tremaining: 2.94s\n",
      "759:\tlearn: 0.1001201\ttotal: 9.28s\tremaining: 2.93s\n",
      "760:\tlearn: 0.1001020\ttotal: 9.28s\tremaining: 2.91s\n",
      "761:\tlearn: 0.1000235\ttotal: 9.28s\tremaining: 2.9s\n",
      "762:\tlearn: 0.0999567\ttotal: 9.28s\tremaining: 2.88s\n",
      "763:\tlearn: 0.0998851\ttotal: 9.37s\tremaining: 2.89s\n",
      "764:\tlearn: 0.0998679\ttotal: 9.37s\tremaining: 2.88s\n",
      "765:\tlearn: 0.0998033\ttotal: 9.37s\tremaining: 2.86s\n",
      "766:\tlearn: 0.0997512\ttotal: 9.37s\tremaining: 2.85s\n",
      "767:\tlearn: 0.0996851\ttotal: 9.37s\tremaining: 2.83s\n",
      "768:\tlearn: 0.0995743\ttotal: 9.37s\tremaining: 2.82s\n",
      "769:\tlearn: 0.0994325\ttotal: 9.38s\tremaining: 2.8s\n",
      "770:\tlearn: 0.0993886\ttotal: 9.38s\tremaining: 2.79s\n",
      "771:\tlearn: 0.0993076\ttotal: 9.38s\tremaining: 2.77s\n",
      "772:\tlearn: 0.0992005\ttotal: 9.47s\tremaining: 2.78s\n",
      "773:\tlearn: 0.0991833\ttotal: 9.47s\tremaining: 2.77s\n",
      "774:\tlearn: 0.0991213\ttotal: 9.47s\tremaining: 2.75s\n",
      "775:\tlearn: 0.0990524\ttotal: 9.47s\tremaining: 2.73s\n",
      "776:\tlearn: 0.0989258\ttotal: 9.47s\tremaining: 2.72s\n",
      "777:\tlearn: 0.0988665\ttotal: 9.48s\tremaining: 2.71s\n",
      "778:\tlearn: 0.0987633\ttotal: 9.56s\tremaining: 2.71s\n",
      "779:\tlearn: 0.0987217\ttotal: 9.56s\tremaining: 2.7s\n",
      "780:\tlearn: 0.0986111\ttotal: 9.57s\tremaining: 2.68s\n",
      "781:\tlearn: 0.0985684\ttotal: 9.57s\tremaining: 2.67s\n",
      "782:\tlearn: 0.0985108\ttotal: 9.57s\tremaining: 2.65s\n",
      "783:\tlearn: 0.0984114\ttotal: 9.57s\tremaining: 2.64s\n",
      "784:\tlearn: 0.0983044\ttotal: 9.57s\tremaining: 2.62s\n",
      "785:\tlearn: 0.0982600\ttotal: 9.57s\tremaining: 2.61s\n",
      "786:\tlearn: 0.0981400\ttotal: 9.66s\tremaining: 2.61s\n",
      "787:\tlearn: 0.0980984\ttotal: 9.66s\tremaining: 2.6s\n",
      "788:\tlearn: 0.0980472\ttotal: 9.66s\tremaining: 2.58s\n",
      "789:\tlearn: 0.0979486\ttotal: 9.66s\tremaining: 2.57s\n",
      "790:\tlearn: 0.0978869\ttotal: 9.67s\tremaining: 2.55s\n",
      "791:\tlearn: 0.0977999\ttotal: 9.67s\tremaining: 2.54s\n",
      "792:\tlearn: 0.0977071\ttotal: 9.67s\tremaining: 2.52s\n",
      "793:\tlearn: 0.0976565\ttotal: 9.67s\tremaining: 2.51s\n",
      "794:\tlearn: 0.0975993\ttotal: 9.76s\tremaining: 2.52s\n",
      "795:\tlearn: 0.0975739\ttotal: 9.76s\tremaining: 2.5s\n",
      "796:\tlearn: 0.0975145\ttotal: 9.76s\tremaining: 2.49s\n",
      "797:\tlearn: 0.0974011\ttotal: 9.76s\tremaining: 2.47s\n",
      "798:\tlearn: 0.0973517\ttotal: 9.76s\tremaining: 2.46s\n",
      "799:\tlearn: 0.0972859\ttotal: 9.77s\tremaining: 2.44s\n",
      "800:\tlearn: 0.0972693\ttotal: 9.77s\tremaining: 2.43s\n",
      "801:\tlearn: 0.0971626\ttotal: 9.77s\tremaining: 2.41s\n",
      "802:\tlearn: 0.0971463\ttotal: 9.77s\tremaining: 2.4s\n",
      "803:\tlearn: 0.0970529\ttotal: 9.77s\tremaining: 2.38s\n",
      "804:\tlearn: 0.0969612\ttotal: 9.86s\tremaining: 2.39s\n",
      "805:\tlearn: 0.0969070\ttotal: 9.86s\tremaining: 2.37s\n",
      "806:\tlearn: 0.0968807\ttotal: 9.86s\tremaining: 2.36s\n",
      "807:\tlearn: 0.0968031\ttotal: 9.86s\tremaining: 2.34s\n",
      "808:\tlearn: 0.0967867\ttotal: 9.86s\tremaining: 2.33s\n",
      "809:\tlearn: 0.0967254\ttotal: 9.86s\tremaining: 2.31s\n",
      "810:\tlearn: 0.0966145\ttotal: 9.87s\tremaining: 2.3s\n",
      "811:\tlearn: 0.0965583\ttotal: 9.95s\tremaining: 2.3s\n",
      "812:\tlearn: 0.0965422\ttotal: 9.95s\tremaining: 2.29s\n",
      "813:\tlearn: 0.0964934\ttotal: 9.95s\tremaining: 2.27s\n",
      "814:\tlearn: 0.0963959\ttotal: 9.95s\tremaining: 2.26s\n",
      "815:\tlearn: 0.0962585\ttotal: 9.96s\tremaining: 2.25s\n",
      "816:\tlearn: 0.0962114\ttotal: 9.96s\tremaining: 2.23s\n",
      "817:\tlearn: 0.0961077\ttotal: 9.96s\tremaining: 2.21s\n",
      "818:\tlearn: 0.0959743\ttotal: 9.96s\tremaining: 2.2s\n",
      "819:\tlearn: 0.0958201\ttotal: 10s\tremaining: 2.21s\n",
      "820:\tlearn: 0.0957323\ttotal: 10.1s\tremaining: 2.19s\n",
      "821:\tlearn: 0.0956337\ttotal: 10.1s\tremaining: 2.18s\n",
      "822:\tlearn: 0.0955465\ttotal: 10.1s\tremaining: 2.16s\n",
      "823:\tlearn: 0.0954077\ttotal: 10.1s\tremaining: 2.15s\n",
      "824:\tlearn: 0.0953919\ttotal: 10.1s\tremaining: 2.15s\n",
      "825:\tlearn: 0.0953410\ttotal: 10.1s\tremaining: 2.14s\n",
      "826:\tlearn: 0.0951904\ttotal: 10.1s\tremaining: 2.12s\n",
      "827:\tlearn: 0.0951620\ttotal: 10.2s\tremaining: 2.11s\n",
      "828:\tlearn: 0.0950896\ttotal: 10.2s\tremaining: 2.09s\n",
      "829:\tlearn: 0.0949795\ttotal: 10.2s\tremaining: 2.08s\n",
      "830:\tlearn: 0.0949082\ttotal: 10.2s\tremaining: 2.06s\n",
      "831:\tlearn: 0.0948928\ttotal: 10.2s\tremaining: 2.05s\n",
      "832:\tlearn: 0.0948243\ttotal: 10.2s\tremaining: 2.04s\n",
      "833:\tlearn: 0.0947755\ttotal: 10.2s\tremaining: 2.04s\n",
      "834:\tlearn: 0.0947603\ttotal: 10.2s\tremaining: 2.02s\n",
      "835:\tlearn: 0.0947035\ttotal: 10.2s\tremaining: 2.01s\n",
      "836:\tlearn: 0.0946048\ttotal: 10.2s\tremaining: 2s\n",
      "837:\tlearn: 0.0945903\ttotal: 10.3s\tremaining: 1.98s\n",
      "838:\tlearn: 0.0945055\ttotal: 10.3s\tremaining: 1.97s\n",
      "839:\tlearn: 0.0944110\ttotal: 10.3s\tremaining: 1.95s\n",
      "840:\tlearn: 0.0943332\ttotal: 10.3s\tremaining: 1.94s\n",
      "841:\tlearn: 0.0942288\ttotal: 10.3s\tremaining: 1.92s\n",
      "842:\tlearn: 0.0941902\ttotal: 10.3s\tremaining: 1.93s\n",
      "843:\tlearn: 0.0941499\ttotal: 10.3s\tremaining: 1.91s\n",
      "844:\tlearn: 0.0939771\ttotal: 10.3s\tremaining: 1.9s\n",
      "845:\tlearn: 0.0938931\ttotal: 10.3s\tremaining: 1.88s\n",
      "846:\tlearn: 0.0938431\ttotal: 10.3s\tremaining: 1.87s\n",
      "847:\tlearn: 0.0938058\ttotal: 10.3s\tremaining: 1.85s\n",
      "848:\tlearn: 0.0937522\ttotal: 10.4s\tremaining: 1.84s\n",
      "849:\tlearn: 0.0936632\ttotal: 10.4s\tremaining: 1.84s\n",
      "850:\tlearn: 0.0935440\ttotal: 10.4s\tremaining: 1.83s\n",
      "851:\tlearn: 0.0934610\ttotal: 10.4s\tremaining: 1.81s\n",
      "852:\tlearn: 0.0934248\ttotal: 10.4s\tremaining: 1.8s\n",
      "853:\tlearn: 0.0933096\ttotal: 10.4s\tremaining: 1.78s\n",
      "854:\tlearn: 0.0932315\ttotal: 10.4s\tremaining: 1.77s\n",
      "855:\tlearn: 0.0931303\ttotal: 10.4s\tremaining: 1.76s\n",
      "856:\tlearn: 0.0930155\ttotal: 10.4s\tremaining: 1.74s\n",
      "857:\tlearn: 0.0928550\ttotal: 10.4s\tremaining: 1.73s\n",
      "858:\tlearn: 0.0927818\ttotal: 10.4s\tremaining: 1.72s\n",
      "859:\tlearn: 0.0927441\ttotal: 10.5s\tremaining: 1.72s\n",
      "860:\tlearn: 0.0926789\ttotal: 10.5s\tremaining: 1.7s\n",
      "861:\tlearn: 0.0925971\ttotal: 10.5s\tremaining: 1.69s\n",
      "862:\tlearn: 0.0925138\ttotal: 10.6s\tremaining: 1.68s\n",
      "863:\tlearn: 0.0924282\ttotal: 10.6s\tremaining: 1.66s\n",
      "864:\tlearn: 0.0922734\ttotal: 10.6s\tremaining: 1.66s\n",
      "865:\tlearn: 0.0922338\ttotal: 10.6s\tremaining: 1.65s\n",
      "866:\tlearn: 0.0922224\ttotal: 10.6s\tremaining: 1.63s\n",
      "867:\tlearn: 0.0921414\ttotal: 10.6s\tremaining: 1.62s\n",
      "868:\tlearn: 0.0921006\ttotal: 10.6s\tremaining: 1.6s\n",
      "869:\tlearn: 0.0920037\ttotal: 10.6s\tremaining: 1.59s\n",
      "870:\tlearn: 0.0919514\ttotal: 10.6s\tremaining: 1.58s\n",
      "871:\tlearn: 0.0918740\ttotal: 10.6s\tremaining: 1.56s\n",
      "872:\tlearn: 0.0918216\ttotal: 10.6s\tremaining: 1.55s\n",
      "873:\tlearn: 0.0918072\ttotal: 10.7s\tremaining: 1.55s\n",
      "874:\tlearn: 0.0917931\ttotal: 10.7s\tremaining: 1.53s\n",
      "875:\tlearn: 0.0916435\ttotal: 10.7s\tremaining: 1.52s\n",
      "876:\tlearn: 0.0915964\ttotal: 10.7s\tremaining: 1.5s\n",
      "877:\tlearn: 0.0915487\ttotal: 10.7s\tremaining: 1.49s\n",
      "878:\tlearn: 0.0914826\ttotal: 10.7s\tremaining: 1.48s\n",
      "879:\tlearn: 0.0914097\ttotal: 10.7s\tremaining: 1.46s\n",
      "880:\tlearn: 0.0913643\ttotal: 10.7s\tremaining: 1.45s\n",
      "881:\tlearn: 0.0913186\ttotal: 10.8s\tremaining: 1.45s\n",
      "882:\tlearn: 0.0912549\ttotal: 10.8s\tremaining: 1.43s\n",
      "883:\tlearn: 0.0912405\ttotal: 10.8s\tremaining: 1.42s\n",
      "884:\tlearn: 0.0911151\ttotal: 10.8s\tremaining: 1.41s\n",
      "885:\tlearn: 0.0909717\ttotal: 10.8s\tremaining: 1.39s\n",
      "886:\tlearn: 0.0909580\ttotal: 10.8s\tremaining: 1.38s\n",
      "887:\tlearn: 0.0908800\ttotal: 10.9s\tremaining: 1.38s\n",
      "888:\tlearn: 0.0908441\ttotal: 10.9s\tremaining: 1.36s\n",
      "889:\tlearn: 0.0907493\ttotal: 10.9s\tremaining: 1.35s\n",
      "890:\tlearn: 0.0906834\ttotal: 10.9s\tremaining: 1.34s\n",
      "891:\tlearn: 0.0905426\ttotal: 10.9s\tremaining: 1.32s\n",
      "892:\tlearn: 0.0904960\ttotal: 11s\tremaining: 1.32s\n",
      "893:\tlearn: 0.0904554\ttotal: 11s\tremaining: 1.31s\n",
      "894:\tlearn: 0.0904159\ttotal: 11s\tremaining: 1.29s\n",
      "895:\tlearn: 0.0903292\ttotal: 11s\tremaining: 1.28s\n",
      "896:\tlearn: 0.0902877\ttotal: 11s\tremaining: 1.26s\n",
      "897:\tlearn: 0.0902536\ttotal: 11s\tremaining: 1.25s\n",
      "898:\tlearn: 0.0901890\ttotal: 11s\tremaining: 1.24s\n",
      "899:\tlearn: 0.0901290\ttotal: 11.1s\tremaining: 1.23s\n",
      "900:\tlearn: 0.0900182\ttotal: 11.1s\tremaining: 1.22s\n",
      "901:\tlearn: 0.0899698\ttotal: 11.1s\tremaining: 1.21s\n",
      "902:\tlearn: 0.0899086\ttotal: 11.1s\tremaining: 1.19s\n",
      "903:\tlearn: 0.0898946\ttotal: 11.1s\tremaining: 1.18s\n",
      "904:\tlearn: 0.0898273\ttotal: 11.1s\tremaining: 1.17s\n",
      "905:\tlearn: 0.0897194\ttotal: 11.1s\tremaining: 1.15s\n",
      "906:\tlearn: 0.0896847\ttotal: 11.1s\tremaining: 1.14s\n",
      "907:\tlearn: 0.0896541\ttotal: 11.1s\tremaining: 1.13s\n",
      "908:\tlearn: 0.0895777\ttotal: 11.2s\tremaining: 1.12s\n",
      "909:\tlearn: 0.0895355\ttotal: 11.2s\tremaining: 1.11s\n",
      "910:\tlearn: 0.0894008\ttotal: 11.2s\tremaining: 1.09s\n",
      "911:\tlearn: 0.0893415\ttotal: 11.2s\tremaining: 1.08s\n",
      "912:\tlearn: 0.0892941\ttotal: 11.2s\tremaining: 1.07s\n",
      "913:\tlearn: 0.0892453\ttotal: 11.2s\tremaining: 1.05s\n",
      "914:\tlearn: 0.0891953\ttotal: 11.2s\tremaining: 1.04s\n",
      "915:\tlearn: 0.0890343\ttotal: 11.2s\tremaining: 1.03s\n",
      "916:\tlearn: 0.0889403\ttotal: 11.2s\tremaining: 1.01s\n",
      "917:\tlearn: 0.0888797\ttotal: 11.2s\tremaining: 1s\n",
      "918:\tlearn: 0.0888133\ttotal: 11.3s\tremaining: 996ms\n",
      "919:\tlearn: 0.0887098\ttotal: 11.3s\tremaining: 983ms\n",
      "920:\tlearn: 0.0886655\ttotal: 11.3s\tremaining: 970ms\n",
      "921:\tlearn: 0.0885919\ttotal: 11.3s\tremaining: 957ms\n",
      "922:\tlearn: 0.0885042\ttotal: 11.3s\tremaining: 944ms\n",
      "923:\tlearn: 0.0884015\ttotal: 11.3s\tremaining: 930ms\n",
      "924:\tlearn: 0.0883646\ttotal: 11.3s\tremaining: 917ms\n",
      "925:\tlearn: 0.0882796\ttotal: 11.3s\tremaining: 904ms\n",
      "926:\tlearn: 0.0881599\ttotal: 11.3s\tremaining: 892ms\n",
      "927:\tlearn: 0.0880953\ttotal: 11.4s\tremaining: 885ms\n",
      "928:\tlearn: 0.0880337\ttotal: 11.4s\tremaining: 872ms\n",
      "929:\tlearn: 0.0879567\ttotal: 11.4s\tremaining: 858ms\n",
      "930:\tlearn: 0.0879271\ttotal: 11.4s\tremaining: 845ms\n",
      "931:\tlearn: 0.0878811\ttotal: 11.4s\tremaining: 832ms\n",
      "932:\tlearn: 0.0878072\ttotal: 11.4s\tremaining: 819ms\n",
      "933:\tlearn: 0.0877659\ttotal: 11.4s\tremaining: 807ms\n",
      "934:\tlearn: 0.0876790\ttotal: 11.5s\tremaining: 799ms\n",
      "935:\tlearn: 0.0876145\ttotal: 11.5s\tremaining: 786ms\n",
      "936:\tlearn: 0.0875462\ttotal: 11.5s\tremaining: 773ms\n",
      "937:\tlearn: 0.0874723\ttotal: 11.5s\tremaining: 760ms\n",
      "938:\tlearn: 0.0873885\ttotal: 11.5s\tremaining: 747ms\n",
      "939:\tlearn: 0.0873182\ttotal: 11.5s\tremaining: 734ms\n",
      "940:\tlearn: 0.0873048\ttotal: 11.5s\tremaining: 721ms\n",
      "941:\tlearn: 0.0872423\ttotal: 11.5s\tremaining: 709ms\n",
      "942:\tlearn: 0.0872094\ttotal: 11.5s\tremaining: 696ms\n",
      "943:\tlearn: 0.0871725\ttotal: 11.5s\tremaining: 683ms\n",
      "944:\tlearn: 0.0871045\ttotal: 11.6s\tremaining: 675ms\n",
      "945:\tlearn: 0.0870630\ttotal: 11.6s\tremaining: 662ms\n",
      "946:\tlearn: 0.0869937\ttotal: 11.6s\tremaining: 649ms\n",
      "947:\tlearn: 0.0869830\ttotal: 11.6s\tremaining: 636ms\n",
      "948:\tlearn: 0.0869725\ttotal: 11.6s\tremaining: 623ms\n",
      "949:\tlearn: 0.0868885\ttotal: 11.6s\tremaining: 611ms\n",
      "950:\tlearn: 0.0867778\ttotal: 11.6s\tremaining: 598ms\n",
      "951:\tlearn: 0.0867674\ttotal: 11.6s\tremaining: 585ms\n",
      "952:\tlearn: 0.0866527\ttotal: 11.6s\tremaining: 572ms\n",
      "953:\tlearn: 0.0866425\ttotal: 11.6s\tremaining: 560ms\n",
      "954:\tlearn: 0.0866005\ttotal: 11.6s\tremaining: 547ms\n",
      "955:\tlearn: 0.0864948\ttotal: 11.7s\tremaining: 538ms\n",
      "956:\tlearn: 0.0864571\ttotal: 11.7s\tremaining: 525ms\n",
      "957:\tlearn: 0.0864193\ttotal: 11.7s\tremaining: 513ms\n",
      "958:\tlearn: 0.0863364\ttotal: 11.7s\tremaining: 500ms\n",
      "959:\tlearn: 0.0862583\ttotal: 11.7s\tremaining: 487ms\n",
      "960:\tlearn: 0.0861902\ttotal: 11.7s\tremaining: 475ms\n",
      "961:\tlearn: 0.0861080\ttotal: 11.7s\tremaining: 462ms\n",
      "962:\tlearn: 0.0860524\ttotal: 11.7s\tremaining: 450ms\n",
      "963:\tlearn: 0.0859613\ttotal: 11.8s\tremaining: 440ms\n",
      "964:\tlearn: 0.0858940\ttotal: 11.8s\tremaining: 428ms\n",
      "965:\tlearn: 0.0858061\ttotal: 11.8s\tremaining: 415ms\n",
      "966:\tlearn: 0.0857647\ttotal: 11.8s\tremaining: 402ms\n",
      "967:\tlearn: 0.0857318\ttotal: 11.8s\tremaining: 390ms\n",
      "968:\tlearn: 0.0856608\ttotal: 11.8s\tremaining: 378ms\n",
      "969:\tlearn: 0.0856012\ttotal: 11.8s\tremaining: 365ms\n",
      "970:\tlearn: 0.0855690\ttotal: 11.9s\tremaining: 355ms\n",
      "971:\tlearn: 0.0854842\ttotal: 11.9s\tremaining: 342ms\n",
      "972:\tlearn: 0.0854527\ttotal: 11.9s\tremaining: 330ms\n",
      "973:\tlearn: 0.0854156\ttotal: 11.9s\tremaining: 317ms\n",
      "974:\tlearn: 0.0853707\ttotal: 11.9s\tremaining: 305ms\n",
      "975:\tlearn: 0.0853201\ttotal: 11.9s\tremaining: 292ms\n",
      "976:\tlearn: 0.0852561\ttotal: 11.9s\tremaining: 280ms\n",
      "977:\tlearn: 0.0851533\ttotal: 11.9s\tremaining: 268ms\n",
      "978:\tlearn: 0.0850370\ttotal: 11.9s\tremaining: 255ms\n",
      "979:\tlearn: 0.0849982\ttotal: 11.9s\tremaining: 243ms\n",
      "980:\tlearn: 0.0848913\ttotal: 12s\tremaining: 232ms\n",
      "981:\tlearn: 0.0848559\ttotal: 12s\tremaining: 220ms\n",
      "982:\tlearn: 0.0847392\ttotal: 12s\tremaining: 207ms\n",
      "983:\tlearn: 0.0846695\ttotal: 12s\tremaining: 195ms\n",
      "984:\tlearn: 0.0846601\ttotal: 12s\tremaining: 183ms\n",
      "985:\tlearn: 0.0846022\ttotal: 12s\tremaining: 170ms\n",
      "986:\tlearn: 0.0845930\ttotal: 12s\tremaining: 158ms\n",
      "987:\tlearn: 0.0845540\ttotal: 12.1s\tremaining: 147ms\n",
      "988:\tlearn: 0.0845141\ttotal: 12.1s\tremaining: 134ms\n",
      "989:\tlearn: 0.0844609\ttotal: 12.1s\tremaining: 122ms\n",
      "990:\tlearn: 0.0843488\ttotal: 12.1s\tremaining: 110ms\n",
      "991:\tlearn: 0.0842909\ttotal: 12.1s\tremaining: 97.5ms\n",
      "992:\tlearn: 0.0842522\ttotal: 12.2s\tremaining: 85.9ms\n",
      "993:\tlearn: 0.0842431\ttotal: 12.2s\tremaining: 73.5ms\n",
      "994:\tlearn: 0.0842298\ttotal: 12.2s\tremaining: 61.2ms\n",
      "995:\tlearn: 0.0841692\ttotal: 12.2s\tremaining: 48.9ms\n",
      "996:\tlearn: 0.0841337\ttotal: 12.2s\tremaining: 36.7ms\n",
      "997:\tlearn: 0.0841248\ttotal: 12.2s\tremaining: 24.4ms\n",
      "998:\tlearn: 0.0840838\ttotal: 12.2s\tremaining: 12.2ms\n",
      "999:\tlearn: 0.0840083\ttotal: 12.2s\tremaining: 0us\n"
     ]
    },
    {
     "data": {
      "text/plain": [
       "0.8788642625208115"
      ]
     },
     "execution_count": 29,
     "metadata": {},
     "output_type": "execute_result"
    }
   ],
   "source": [
    "X_train, X_test, y_train, y_test = train_test_split(\n",
    "X_gamma, y, test_size=0.33, random_state=RND)\n",
    "model_cat = CatBoostRegressor()\n",
    "model_cat.fit(X_train, y_train)\n",
    "predicted_cat = model_cat.predict(X_test)\n",
    "r2_gamma_cat = r2_score(y_test, predicted_cat); r2_gamma_cat"
   ]
  },
  {
   "cell_type": "code",
   "execution_count": 30,
   "metadata": {},
   "outputs": [
    {
     "data": {
      "text/plain": [
       "0.8788642625208115"
      ]
     },
     "execution_count": 30,
     "metadata": {},
     "output_type": "execute_result"
    }
   ],
   "source": [
    "r2_gamma_cat"
   ]
  },
  {
   "cell_type": "markdown",
   "metadata": {},
   "source": [
    "Применение модели CatBoostRegressor позволило существенно повысить качество модели.\n",
    "При этом качество модели существенно упало если применяется наложение случайной матрицы для сокрытия персональных данных. Поэтому примененный метод сокрытия персональных данных хорошо подходит для линейной регрессии, но не является универсальным. Скорее всего данный метод скрытия данных подходит только для линейной регрессии. Проблема в том, что линейная регрессия не подходит для данной задачи, так как полученное значение метрики качества невысокое."
   ]
  },
  {
   "cell_type": "markdown",
   "metadata": {},
   "source": [
    "# Общий вывод"
   ]
  },
  {
   "cell_type": "markdown",
   "metadata": {},
   "source": [
    "- Среди признаков, по которым будет происходить обучение отсутствует значимая корреляция. Имеется средняя степень корреляции между возрастом и целевым признаком - страховые выплаты.\n",
    "- Из распределений выплат можно сделать следующие выводы:\n",
    "    - целевой признак имеет дискретное распределение с максимумом в нуле;\n",
    "    - возраст имеет вид логнормального распределения;\n",
    "    - зарплата распределена нормально, что говорит о том, что данные скорее всего синтетические, так как обычно распределение зарплаты имеет длинный хвост в области высоких значений и при логарифмировании обычно имеет колоколообразный вид;\n",
    "    - признак пол также указывает на синтетическую природу данных, так как обычно женщин больше, чем мужчин среди взрослого населения.\n",
    "\n",
    "- Eсли матрицу признаков домножить на любую матрицу имеющую обратную матрицу, то результат работы модели не изменится. \n",
    "- Алгоритм сокрытия персональных данных:\n",
    "    - создадим случайную матрицу требуемой размерности;\n",
    "    - проверим ее на обратимость;\n",
    "    - домножим на матрицу признаков;\n",
    "    - сравним результаты моделей до и после преобразования.Такой алгоритм позволит защитить персональные данные клиентов, обеспечив такое же качество моделей машинного обучения.\n",
    "- Произвели обучение модели линейной регрессии. Разность между метрикой r2 для, полученных на основе признаков и преобразованных признаков несущественна. Поэтому можно сделать вывод, что преобразование признаков позволило скрыть персональные данные при этом это не повлияло на качество обучения. При этом нужно отметить, качество линейной модели невысокое. \n",
    "- Применение модели CatBoostRegressor позволило существенно повысить качество модели. При этом качество модели существенно упало если применяется наложение случайной матрицы для сокрытия персональных данных. \n",
    "- Примененный метод сокрытия персональных данных хорошо подходит для линейной регрессии, но не является универсальным. Скорее всего данный метод скрытия данных подходит только для линейной регрессии. Проблема в том, что линейная регрессия не подходит для данной задачи, так как полученное значение метрики качества невысокое.\n"
   ]
  }
 ],
 "metadata": {
  "ExecuteTimeLog": [
   {
    "duration": 420,
    "start_time": "2022-02-16T05:41:41.515Z"
   },
   {
    "duration": 726,
    "start_time": "2022-02-16T05:41:45.150Z"
   },
   {
    "duration": 170,
    "start_time": "2022-02-16T05:41:45.879Z"
   },
   {
    "duration": 28,
    "start_time": "2022-02-16T05:41:50.929Z"
   },
   {
    "duration": 12,
    "start_time": "2022-02-16T05:42:14.310Z"
   },
   {
    "duration": 13,
    "start_time": "2022-02-16T05:42:32.660Z"
   },
   {
    "duration": 1109,
    "start_time": "2022-02-16T05:43:31.381Z"
   },
   {
    "duration": 1303,
    "start_time": "2022-02-16T05:44:05.431Z"
   },
   {
    "duration": 1235,
    "start_time": "2022-02-16T05:44:28.881Z"
   },
   {
    "duration": 1488,
    "start_time": "2022-02-16T05:44:35.241Z"
   },
   {
    "duration": 1890,
    "start_time": "2022-02-16T05:44:52.632Z"
   },
   {
    "duration": 1828,
    "start_time": "2022-02-16T05:46:13.682Z"
   },
   {
    "duration": 2178,
    "start_time": "2022-02-16T05:46:31.462Z"
   },
   {
    "duration": 3073,
    "start_time": "2022-02-16T05:46:45.852Z"
   },
   {
    "duration": 1975,
    "start_time": "2022-02-16T05:46:58.942Z"
   },
   {
    "duration": 2027,
    "start_time": "2022-02-16T05:47:05.151Z"
   },
   {
    "duration": 6,
    "start_time": "2022-02-16T05:55:39.836Z"
   },
   {
    "duration": 526,
    "start_time": "2022-02-16T05:57:19.015Z"
   },
   {
    "duration": 4,
    "start_time": "2022-02-16T05:58:17.674Z"
   },
   {
    "duration": 6,
    "start_time": "2022-02-16T05:58:24.575Z"
   },
   {
    "duration": 5,
    "start_time": "2022-02-16T05:58:25.153Z"
   },
   {
    "duration": 7,
    "start_time": "2022-02-16T06:05:29.809Z"
   },
   {
    "duration": 3,
    "start_time": "2022-02-16T06:05:52.659Z"
   },
   {
    "duration": 8,
    "start_time": "2022-02-16T06:06:30.449Z"
   },
   {
    "duration": 4,
    "start_time": "2022-02-16T06:07:11.669Z"
   },
   {
    "duration": 4,
    "start_time": "2022-02-16T06:07:33.679Z"
   },
   {
    "duration": 6,
    "start_time": "2022-02-16T06:08:01.891Z"
   },
   {
    "duration": 78,
    "start_time": "2022-02-16T06:09:52.710Z"
   },
   {
    "duration": 3739,
    "start_time": "2022-02-16T06:11:05.544Z"
   },
   {
    "duration": 6,
    "start_time": "2022-02-16T06:11:09.285Z"
   },
   {
    "duration": 19714,
    "start_time": "2022-02-16T06:11:39.300Z"
   },
   {
    "duration": 8,
    "start_time": "2022-02-16T06:12:03.561Z"
   },
   {
    "duration": 22,
    "start_time": "2022-02-16T06:12:48.292Z"
   },
   {
    "duration": 38,
    "start_time": "2022-02-16T06:37:34.040Z"
   },
   {
    "duration": 16,
    "start_time": "2022-02-16T06:38:18.851Z"
   },
   {
    "duration": 11,
    "start_time": "2022-02-16T06:42:46.702Z"
   },
   {
    "duration": 8,
    "start_time": "2022-02-16T06:42:51.283Z"
   },
   {
    "duration": 7,
    "start_time": "2022-02-16T06:43:24.924Z"
   },
   {
    "duration": 4,
    "start_time": "2022-02-16T06:43:28.281Z"
   },
   {
    "duration": 10,
    "start_time": "2022-02-16T06:43:28.287Z"
   },
   {
    "duration": 447,
    "start_time": "2022-02-16T06:43:28.300Z"
   },
   {
    "duration": 14,
    "start_time": "2022-02-16T06:43:28.750Z"
   },
   {
    "duration": 8,
    "start_time": "2022-02-16T06:43:28.767Z"
   },
   {
    "duration": 8,
    "start_time": "2022-02-16T06:43:28.778Z"
   },
   {
    "duration": 9,
    "start_time": "2022-02-16T06:43:28.788Z"
   },
   {
    "duration": 19,
    "start_time": "2022-02-16T06:43:28.799Z"
   },
   {
    "duration": 2080,
    "start_time": "2022-02-16T06:43:28.822Z"
   },
   {
    "duration": 7,
    "start_time": "2022-02-16T06:43:30.910Z"
   },
   {
    "duration": 8,
    "start_time": "2022-02-16T06:43:30.920Z"
   },
   {
    "duration": 7,
    "start_time": "2022-02-16T06:43:30.930Z"
   },
   {
    "duration": 17,
    "start_time": "2022-02-16T06:43:30.940Z"
   },
   {
    "duration": 52,
    "start_time": "2022-02-16T06:43:30.959Z"
   },
   {
    "duration": 93,
    "start_time": "2022-02-16T06:43:31.019Z"
   },
   {
    "duration": 9,
    "start_time": "2022-02-16T06:43:31.115Z"
   },
   {
    "duration": 25094,
    "start_time": "2022-02-16T06:43:31.127Z"
   },
   {
    "duration": 11,
    "start_time": "2022-02-16T06:43:56.223Z"
   },
   {
    "duration": 18,
    "start_time": "2022-02-16T06:48:42.864Z"
   },
   {
    "duration": 11,
    "start_time": "2022-02-16T06:49:16.955Z"
   },
   {
    "duration": 5,
    "start_time": "2022-02-16T06:51:55.737Z"
   },
   {
    "duration": 6,
    "start_time": "2022-02-16T06:51:55.744Z"
   },
   {
    "duration": 77,
    "start_time": "2022-02-16T06:51:55.753Z"
   },
   {
    "duration": 14,
    "start_time": "2022-02-16T06:51:55.833Z"
   },
   {
    "duration": 11,
    "start_time": "2022-02-16T06:51:55.850Z"
   },
   {
    "duration": 7,
    "start_time": "2022-02-16T06:51:55.863Z"
   },
   {
    "duration": 39,
    "start_time": "2022-02-16T06:51:55.872Z"
   },
   {
    "duration": 15,
    "start_time": "2022-02-16T06:51:55.914Z"
   },
   {
    "duration": 1787,
    "start_time": "2022-02-16T06:51:55.931Z"
   },
   {
    "duration": 5,
    "start_time": "2022-02-16T06:51:57.720Z"
   },
   {
    "duration": 7,
    "start_time": "2022-02-16T06:51:57.728Z"
   },
   {
    "duration": 459,
    "start_time": "2022-02-16T06:51:57.737Z"
   },
   {
    "duration": 7376,
    "start_time": "2022-02-16T06:51:50.822Z"
   },
   {
    "duration": 7368,
    "start_time": "2022-02-16T06:51:50.831Z"
   },
   {
    "duration": 7366,
    "start_time": "2022-02-16T06:51:50.835Z"
   },
   {
    "duration": 7364,
    "start_time": "2022-02-16T06:51:50.838Z"
   },
   {
    "duration": 7354,
    "start_time": "2022-02-16T06:51:50.849Z"
   },
   {
    "duration": 7352,
    "start_time": "2022-02-16T06:51:50.852Z"
   },
   {
    "duration": 7349,
    "start_time": "2022-02-16T06:51:50.856Z"
   },
   {
    "duration": 7343,
    "start_time": "2022-02-16T06:51:50.864Z"
   },
   {
    "duration": 7341,
    "start_time": "2022-02-16T06:51:50.867Z"
   },
   {
    "duration": 6,
    "start_time": "2022-02-16T06:52:27.866Z"
   },
   {
    "duration": 6,
    "start_time": "2022-02-16T06:52:29.391Z"
   },
   {
    "duration": 4,
    "start_time": "2022-02-16T06:52:30.006Z"
   },
   {
    "duration": 5,
    "start_time": "2022-02-16T06:52:30.849Z"
   },
   {
    "duration": 3,
    "start_time": "2022-02-16T06:52:31.708Z"
   },
   {
    "duration": 7,
    "start_time": "2022-02-16T06:52:34.466Z"
   },
   {
    "duration": 19780,
    "start_time": "2022-02-16T06:52:37.993Z"
   },
   {
    "duration": 11,
    "start_time": "2022-02-16T06:52:57.775Z"
   },
   {
    "duration": 1334,
    "start_time": "2022-02-16T06:53:09.446Z"
   },
   {
    "duration": 5,
    "start_time": "2022-02-16T06:53:10.783Z"
   },
   {
    "duration": 112,
    "start_time": "2022-02-16T06:53:10.792Z"
   },
   {
    "duration": 25,
    "start_time": "2022-02-16T06:53:10.907Z"
   },
   {
    "duration": 15,
    "start_time": "2022-02-16T06:53:10.935Z"
   },
   {
    "duration": 6,
    "start_time": "2022-02-16T06:53:10.953Z"
   },
   {
    "duration": 17,
    "start_time": "2022-02-16T06:53:10.961Z"
   },
   {
    "duration": 32,
    "start_time": "2022-02-16T06:53:10.981Z"
   },
   {
    "duration": 1887,
    "start_time": "2022-02-16T06:53:11.015Z"
   },
   {
    "duration": 10,
    "start_time": "2022-02-16T06:53:12.905Z"
   },
   {
    "duration": 8,
    "start_time": "2022-02-16T06:53:12.917Z"
   },
   {
    "duration": 6,
    "start_time": "2022-02-16T06:53:12.928Z"
   },
   {
    "duration": 6,
    "start_time": "2022-02-16T06:53:12.937Z"
   },
   {
    "duration": 6,
    "start_time": "2022-02-16T06:53:12.946Z"
   },
   {
    "duration": 63,
    "start_time": "2022-02-16T06:53:12.955Z"
   },
   {
    "duration": 7,
    "start_time": "2022-02-16T06:53:13.022Z"
   },
   {
    "duration": 6,
    "start_time": "2022-02-16T06:53:13.112Z"
   },
   {
    "duration": 23875,
    "start_time": "2022-02-16T06:53:13.120Z"
   },
   {
    "duration": 11,
    "start_time": "2022-02-16T06:53:36.997Z"
   },
   {
    "duration": 18,
    "start_time": "2022-02-16T06:53:37.011Z"
   },
   {
    "duration": 311,
    "start_time": "2022-02-16T06:53:37.032Z"
   },
   {
    "duration": 503,
    "start_time": "2022-02-16T06:55:10.231Z"
   },
   {
    "duration": 5,
    "start_time": "2022-02-16T06:55:25.101Z"
   },
   {
    "duration": 8,
    "start_time": "2022-02-16T06:55:25.801Z"
   },
   {
    "duration": 10634,
    "start_time": "2022-02-16T06:55:26.362Z"
   },
   {
    "duration": 9436,
    "start_time": "2022-02-16T06:55:45.032Z"
   },
   {
    "duration": 1469,
    "start_time": "2022-02-16T06:56:00.788Z"
   },
   {
    "duration": 5,
    "start_time": "2022-02-16T06:56:02.260Z"
   },
   {
    "duration": 113,
    "start_time": "2022-02-16T06:56:02.274Z"
   },
   {
    "duration": 28,
    "start_time": "2022-02-16T06:56:02.390Z"
   },
   {
    "duration": 12,
    "start_time": "2022-02-16T06:56:02.421Z"
   },
   {
    "duration": 8,
    "start_time": "2022-02-16T06:56:02.435Z"
   },
   {
    "duration": 8,
    "start_time": "2022-02-16T06:56:02.446Z"
   },
   {
    "duration": 55,
    "start_time": "2022-02-16T06:56:02.457Z"
   },
   {
    "duration": 1942,
    "start_time": "2022-02-16T06:56:02.514Z"
   },
   {
    "duration": 5,
    "start_time": "2022-02-16T06:56:04.458Z"
   },
   {
    "duration": 9,
    "start_time": "2022-02-16T06:56:04.465Z"
   },
   {
    "duration": 9444,
    "start_time": "2022-02-16T06:56:04.477Z"
   },
   {
    "duration": 7405,
    "start_time": "2022-02-16T06:56:06.519Z"
   },
   {
    "duration": 7401,
    "start_time": "2022-02-16T06:56:06.524Z"
   },
   {
    "duration": 7398,
    "start_time": "2022-02-16T06:56:06.529Z"
   },
   {
    "duration": 7397,
    "start_time": "2022-02-16T06:56:06.532Z"
   },
   {
    "duration": 7393,
    "start_time": "2022-02-16T06:56:06.537Z"
   },
   {
    "duration": 7390,
    "start_time": "2022-02-16T06:56:06.542Z"
   },
   {
    "duration": 7388,
    "start_time": "2022-02-16T06:56:06.545Z"
   },
   {
    "duration": 7386,
    "start_time": "2022-02-16T06:56:06.549Z"
   },
   {
    "duration": 7361,
    "start_time": "2022-02-16T06:56:06.575Z"
   },
   {
    "duration": 9921,
    "start_time": "2022-02-16T06:56:40.779Z"
   },
   {
    "duration": 19,
    "start_time": "2022-02-16T06:56:54.329Z"
   },
   {
    "duration": 7,
    "start_time": "2022-02-16T06:57:03.886Z"
   },
   {
    "duration": 4,
    "start_time": "2022-02-16T06:57:05.420Z"
   },
   {
    "duration": 5,
    "start_time": "2022-02-16T06:57:06.338Z"
   },
   {
    "duration": 11,
    "start_time": "2022-02-16T06:57:06.837Z"
   },
   {
    "duration": 7,
    "start_time": "2022-02-16T06:57:07.596Z"
   },
   {
    "duration": 18986,
    "start_time": "2022-02-16T06:57:08.698Z"
   },
   {
    "duration": 8,
    "start_time": "2022-02-16T06:57:27.687Z"
   },
   {
    "duration": 16,
    "start_time": "2022-02-16T07:43:29.622Z"
   },
   {
    "duration": 6,
    "start_time": "2022-02-16T07:43:58.591Z"
   },
   {
    "duration": 136,
    "start_time": "2022-02-16T07:44:25.502Z"
   },
   {
    "duration": 16,
    "start_time": "2022-02-16T07:44:31.552Z"
   },
   {
    "duration": 19,
    "start_time": "2022-02-16T07:44:37.522Z"
   },
   {
    "duration": 9146,
    "start_time": "2022-02-16T07:44:50.622Z"
   },
   {
    "duration": 7206,
    "start_time": "2022-02-16T07:44:52.564Z"
   },
   {
    "duration": 1446,
    "start_time": "2022-02-16T07:45:23.198Z"
   },
   {
    "duration": 3,
    "start_time": "2022-02-16T07:45:24.647Z"
   },
   {
    "duration": 140,
    "start_time": "2022-02-16T07:45:24.653Z"
   },
   {
    "duration": 24,
    "start_time": "2022-02-16T07:45:24.796Z"
   },
   {
    "duration": 8,
    "start_time": "2022-02-16T07:45:24.823Z"
   },
   {
    "duration": 6,
    "start_time": "2022-02-16T07:45:24.834Z"
   },
   {
    "duration": 13,
    "start_time": "2022-02-16T07:45:24.842Z"
   },
   {
    "duration": 13,
    "start_time": "2022-02-16T07:45:24.859Z"
   },
   {
    "duration": 2091,
    "start_time": "2022-02-16T07:45:24.874Z"
   },
   {
    "duration": 5,
    "start_time": "2022-02-16T07:45:26.968Z"
   },
   {
    "duration": 10,
    "start_time": "2022-02-16T07:45:26.976Z"
   },
   {
    "duration": 36,
    "start_time": "2022-02-16T07:45:26.988Z"
   },
   {
    "duration": 6,
    "start_time": "2022-02-16T07:45:27.027Z"
   },
   {
    "duration": 7,
    "start_time": "2022-02-16T07:45:27.035Z"
   },
   {
    "duration": 7,
    "start_time": "2022-02-16T07:45:27.044Z"
   },
   {
    "duration": 69,
    "start_time": "2022-02-16T07:45:27.054Z"
   },
   {
    "duration": 6,
    "start_time": "2022-02-16T07:45:27.210Z"
   },
   {
    "duration": 21875,
    "start_time": "2022-02-16T07:45:27.218Z"
   },
   {
    "duration": 11,
    "start_time": "2022-02-16T07:45:49.095Z"
   },
   {
    "duration": 17,
    "start_time": "2022-02-16T07:45:49.108Z"
   },
   {
    "duration": 19,
    "start_time": "2022-02-16T07:45:49.127Z"
   },
   {
    "duration": 9,
    "start_time": "2022-02-16T07:46:39.755Z"
   },
   {
    "duration": 504,
    "start_time": "2022-02-16T07:47:24.402Z"
   },
   {
    "duration": 7,
    "start_time": "2022-02-16T07:47:38.842Z"
   },
   {
    "duration": 8,
    "start_time": "2022-02-16T07:47:39.502Z"
   },
   {
    "duration": 13,
    "start_time": "2022-02-16T07:47:40.332Z"
   },
   {
    "duration": 19377,
    "start_time": "2022-02-16T07:47:41.181Z"
   },
   {
    "duration": 1428,
    "start_time": "2022-02-16T07:49:00.909Z"
   },
   {
    "duration": 4,
    "start_time": "2022-02-16T07:49:02.340Z"
   },
   {
    "duration": 222,
    "start_time": "2022-02-16T07:49:02.348Z"
   },
   {
    "duration": 24,
    "start_time": "2022-02-16T07:49:02.573Z"
   },
   {
    "duration": 9,
    "start_time": "2022-02-16T07:49:02.599Z"
   },
   {
    "duration": 6,
    "start_time": "2022-02-16T07:49:02.610Z"
   },
   {
    "duration": 8,
    "start_time": "2022-02-16T07:49:02.619Z"
   },
   {
    "duration": 13,
    "start_time": "2022-02-16T07:49:02.631Z"
   },
   {
    "duration": 2038,
    "start_time": "2022-02-16T07:49:02.647Z"
   },
   {
    "duration": 5,
    "start_time": "2022-02-16T07:49:04.688Z"
   },
   {
    "duration": 19,
    "start_time": "2022-02-16T07:49:04.696Z"
   },
   {
    "duration": 27,
    "start_time": "2022-02-16T07:49:04.717Z"
   },
   {
    "duration": 8,
    "start_time": "2022-02-16T07:49:04.747Z"
   },
   {
    "duration": 4,
    "start_time": "2022-02-16T07:49:04.758Z"
   },
   {
    "duration": 47,
    "start_time": "2022-02-16T07:49:04.765Z"
   },
   {
    "duration": 96,
    "start_time": "2022-02-16T07:49:04.815Z"
   },
   {
    "duration": 6,
    "start_time": "2022-02-16T07:49:04.913Z"
   },
   {
    "duration": 21340,
    "start_time": "2022-02-16T07:49:04.922Z"
   },
   {
    "duration": 10,
    "start_time": "2022-02-16T07:49:26.264Z"
   },
   {
    "duration": 17,
    "start_time": "2022-02-16T07:49:26.276Z"
   },
   {
    "duration": 18,
    "start_time": "2022-02-16T07:49:26.295Z"
   },
   {
    "duration": 7,
    "start_time": "2022-02-16T07:49:26.315Z"
   },
   {
    "duration": 7,
    "start_time": "2022-02-16T07:49:26.326Z"
   },
   {
    "duration": 76,
    "start_time": "2022-02-16T07:49:26.335Z"
   },
   {
    "duration": 22428,
    "start_time": "2022-02-16T07:49:26.414Z"
   },
   {
    "duration": 14,
    "start_time": "2022-02-16T07:49:52.949Z"
   },
   {
    "duration": 1315,
    "start_time": "2022-02-16T07:51:51.031Z"
   },
   {
    "duration": 3,
    "start_time": "2022-02-16T07:51:52.348Z"
   },
   {
    "duration": 91,
    "start_time": "2022-02-16T07:51:52.354Z"
   },
   {
    "duration": 24,
    "start_time": "2022-02-16T07:51:52.448Z"
   },
   {
    "duration": 8,
    "start_time": "2022-02-16T07:51:52.475Z"
   },
   {
    "duration": 6,
    "start_time": "2022-02-16T07:51:52.486Z"
   },
   {
    "duration": 8,
    "start_time": "2022-02-16T07:51:52.495Z"
   },
   {
    "duration": 14,
    "start_time": "2022-02-16T07:51:52.511Z"
   },
   {
    "duration": 1969,
    "start_time": "2022-02-16T07:51:52.529Z"
   },
   {
    "duration": 10,
    "start_time": "2022-02-16T07:51:54.501Z"
   },
   {
    "duration": 11,
    "start_time": "2022-02-16T07:51:54.514Z"
   },
   {
    "duration": 21,
    "start_time": "2022-02-16T07:51:54.527Z"
   },
   {
    "duration": 7,
    "start_time": "2022-02-16T07:51:54.552Z"
   },
   {
    "duration": 47,
    "start_time": "2022-02-16T07:51:54.562Z"
   },
   {
    "duration": 11,
    "start_time": "2022-02-16T07:51:54.613Z"
   },
   {
    "duration": 85,
    "start_time": "2022-02-16T07:51:54.627Z"
   },
   {
    "duration": 9,
    "start_time": "2022-02-16T07:51:54.715Z"
   },
   {
    "duration": 19391,
    "start_time": "2022-02-16T07:51:54.727Z"
   },
   {
    "duration": 10,
    "start_time": "2022-02-16T07:52:14.121Z"
   },
   {
    "duration": 16,
    "start_time": "2022-02-16T07:52:14.134Z"
   },
   {
    "duration": 20,
    "start_time": "2022-02-16T07:52:14.152Z"
   },
   {
    "duration": 8,
    "start_time": "2022-02-16T07:52:14.212Z"
   },
   {
    "duration": 7,
    "start_time": "2022-02-16T07:52:14.226Z"
   },
   {
    "duration": 480,
    "start_time": "2022-02-16T07:52:14.236Z"
   },
   {
    "duration": 7104,
    "start_time": "2022-02-16T07:52:07.614Z"
   },
   {
    "duration": 7096,
    "start_time": "2022-02-16T07:52:07.623Z"
   },
   {
    "duration": 15,
    "start_time": "2022-02-16T07:52:52.047Z"
   },
   {
    "duration": 20453,
    "start_time": "2022-02-16T07:52:52.864Z"
   },
   {
    "duration": 8,
    "start_time": "2022-02-16T07:53:13.320Z"
   },
   {
    "duration": 1436,
    "start_time": "2022-02-16T07:54:05.333Z"
   },
   {
    "duration": 4,
    "start_time": "2022-02-16T07:54:06.772Z"
   },
   {
    "duration": 108,
    "start_time": "2022-02-16T07:54:06.780Z"
   },
   {
    "duration": 24,
    "start_time": "2022-02-16T07:54:06.891Z"
   },
   {
    "duration": 10,
    "start_time": "2022-02-16T07:54:06.918Z"
   },
   {
    "duration": 7,
    "start_time": "2022-02-16T07:54:06.930Z"
   },
   {
    "duration": 10,
    "start_time": "2022-02-16T07:54:06.939Z"
   },
   {
    "duration": 13,
    "start_time": "2022-02-16T07:54:06.953Z"
   },
   {
    "duration": 2118,
    "start_time": "2022-02-16T07:54:07.013Z"
   },
   {
    "duration": 21,
    "start_time": "2022-02-16T07:54:09.134Z"
   },
   {
    "duration": 8,
    "start_time": "2022-02-16T07:54:09.158Z"
   },
   {
    "duration": 40,
    "start_time": "2022-02-16T07:54:09.170Z"
   },
   {
    "duration": 21,
    "start_time": "2022-02-16T07:54:09.213Z"
   },
   {
    "duration": 5,
    "start_time": "2022-02-16T07:54:09.237Z"
   },
   {
    "duration": 7,
    "start_time": "2022-02-16T07:54:09.244Z"
   },
   {
    "duration": 7,
    "start_time": "2022-02-16T07:54:09.253Z"
   },
   {
    "duration": 99,
    "start_time": "2022-02-16T07:54:09.311Z"
   },
   {
    "duration": 6,
    "start_time": "2022-02-16T07:54:09.413Z"
   },
   {
    "duration": 18187,
    "start_time": "2022-02-16T07:54:09.422Z"
   },
   {
    "duration": 11,
    "start_time": "2022-02-16T07:54:27.612Z"
   },
   {
    "duration": 17,
    "start_time": "2022-02-16T07:54:27.625Z"
   },
   {
    "duration": 20,
    "start_time": "2022-02-16T07:54:27.644Z"
   },
   {
    "duration": 47,
    "start_time": "2022-02-16T07:54:27.668Z"
   },
   {
    "duration": 9,
    "start_time": "2022-02-16T07:54:27.719Z"
   },
   {
    "duration": 10,
    "start_time": "2022-02-16T07:54:27.730Z"
   },
   {
    "duration": 19175,
    "start_time": "2022-02-16T07:54:27.812Z"
   },
   {
    "duration": 10,
    "start_time": "2022-02-16T07:54:46.990Z"
   },
   {
    "duration": 597,
    "start_time": "2022-02-16T08:16:12.894Z"
   },
   {
    "duration": 1423,
    "start_time": "2022-02-16T08:16:45.475Z"
   },
   {
    "duration": 9,
    "start_time": "2022-02-16T08:16:46.901Z"
   },
   {
    "duration": 79,
    "start_time": "2022-02-16T08:16:46.913Z"
   },
   {
    "duration": 26,
    "start_time": "2022-02-16T08:16:46.994Z"
   },
   {
    "duration": 10,
    "start_time": "2022-02-16T08:16:47.022Z"
   },
   {
    "duration": 6,
    "start_time": "2022-02-16T08:16:47.034Z"
   },
   {
    "duration": 8,
    "start_time": "2022-02-16T08:16:47.043Z"
   },
   {
    "duration": 13,
    "start_time": "2022-02-16T08:16:47.054Z"
   },
   {
    "duration": 2008,
    "start_time": "2022-02-16T08:16:47.110Z"
   },
   {
    "duration": 20,
    "start_time": "2022-02-16T08:16:49.121Z"
   },
   {
    "duration": 6,
    "start_time": "2022-02-16T08:16:49.143Z"
   },
   {
    "duration": 9,
    "start_time": "2022-02-16T08:16:49.151Z"
   },
   {
    "duration": 65,
    "start_time": "2022-02-16T08:16:49.163Z"
   },
   {
    "duration": 8,
    "start_time": "2022-02-16T08:16:49.231Z"
   },
   {
    "duration": 5,
    "start_time": "2022-02-16T08:16:49.242Z"
   },
   {
    "duration": 7,
    "start_time": "2022-02-16T08:16:49.250Z"
   },
   {
    "duration": 66,
    "start_time": "2022-02-16T08:16:49.261Z"
   },
   {
    "duration": 8,
    "start_time": "2022-02-16T08:16:49.412Z"
   },
   {
    "duration": 26425,
    "start_time": "2022-02-16T08:16:49.422Z"
   },
   {
    "duration": 17,
    "start_time": "2022-02-16T08:17:15.851Z"
   },
   {
    "duration": 536,
    "start_time": "2022-02-16T08:17:15.871Z"
   },
   {
    "duration": 7316,
    "start_time": "2022-02-16T08:17:09.094Z"
   },
   {
    "duration": 7308,
    "start_time": "2022-02-16T08:17:09.104Z"
   },
   {
    "duration": 7300,
    "start_time": "2022-02-16T08:17:09.114Z"
   },
   {
    "duration": 7297,
    "start_time": "2022-02-16T08:17:09.118Z"
   },
   {
    "duration": 7294,
    "start_time": "2022-02-16T08:17:09.123Z"
   },
   {
    "duration": 7291,
    "start_time": "2022-02-16T08:17:09.127Z"
   },
   {
    "duration": 365,
    "start_time": "2022-02-16T08:19:28.971Z"
   },
   {
    "duration": 858,
    "start_time": "2022-02-16T08:20:10.200Z"
   },
   {
    "duration": 5439,
    "start_time": "2022-02-16T08:21:05.661Z"
   },
   {
    "duration": 5,
    "start_time": "2022-02-16T08:21:15.753Z"
   },
   {
    "duration": 5,
    "start_time": "2022-02-16T08:21:15.761Z"
   },
   {
    "duration": 69,
    "start_time": "2022-02-16T08:21:15.768Z"
   },
   {
    "duration": 14,
    "start_time": "2022-02-16T08:21:15.839Z"
   },
   {
    "duration": 9,
    "start_time": "2022-02-16T08:21:15.855Z"
   },
   {
    "duration": 7,
    "start_time": "2022-02-16T08:21:15.866Z"
   },
   {
    "duration": 9,
    "start_time": "2022-02-16T08:21:15.875Z"
   },
   {
    "duration": 37,
    "start_time": "2022-02-16T08:21:15.887Z"
   },
   {
    "duration": 1955,
    "start_time": "2022-02-16T08:21:15.927Z"
   },
   {
    "duration": 31,
    "start_time": "2022-02-16T08:21:17.884Z"
   },
   {
    "duration": 6,
    "start_time": "2022-02-16T08:21:17.917Z"
   },
   {
    "duration": 9,
    "start_time": "2022-02-16T08:21:17.925Z"
   },
   {
    "duration": 19,
    "start_time": "2022-02-16T08:21:17.937Z"
   },
   {
    "duration": 6,
    "start_time": "2022-02-16T08:21:17.959Z"
   },
   {
    "duration": 44,
    "start_time": "2022-02-16T08:21:17.967Z"
   },
   {
    "duration": 13,
    "start_time": "2022-02-16T08:21:18.013Z"
   },
   {
    "duration": 86,
    "start_time": "2022-02-16T08:21:18.030Z"
   },
   {
    "duration": 94,
    "start_time": "2022-02-16T08:21:18.120Z"
   },
   {
    "duration": 3355,
    "start_time": "2022-02-16T08:21:18.217Z"
   },
   {
    "duration": 11,
    "start_time": "2022-02-16T08:21:21.575Z"
   },
   {
    "duration": 16,
    "start_time": "2022-02-16T08:21:21.588Z"
   },
   {
    "duration": 18,
    "start_time": "2022-02-16T08:21:21.606Z"
   },
   {
    "duration": 6,
    "start_time": "2022-02-16T08:21:21.628Z"
   },
   {
    "duration": 7,
    "start_time": "2022-02-16T08:21:21.637Z"
   },
   {
    "duration": 65,
    "start_time": "2022-02-16T08:21:21.646Z"
   },
   {
    "duration": 18706,
    "start_time": "2022-02-16T08:21:21.715Z"
   },
   {
    "duration": 13,
    "start_time": "2022-02-16T08:21:40.424Z"
   },
   {
    "duration": 17,
    "start_time": "2022-02-16T08:22:33.132Z"
   },
   {
    "duration": 378,
    "start_time": "2022-02-16T08:59:52.886Z"
   },
   {
    "duration": 4,
    "start_time": "2022-02-16T09:00:14.815Z"
   },
   {
    "duration": 661,
    "start_time": "2022-02-16T09:00:25.326Z"
   },
   {
    "duration": 43,
    "start_time": "2022-02-16T09:00:47.556Z"
   },
   {
    "duration": 489,
    "start_time": "2022-02-16T09:00:50.826Z"
   },
   {
    "duration": 8,
    "start_time": "2022-02-16T11:19:56.395Z"
   },
   {
    "duration": 8,
    "start_time": "2022-02-16T11:20:58.106Z"
   },
   {
    "duration": 3,
    "start_time": "2022-02-16T11:20:58.875Z"
   },
   {
    "duration": 125,
    "start_time": "2022-02-16T11:20:59.065Z"
   },
   {
    "duration": 14,
    "start_time": "2022-02-16T11:20:59.225Z"
   },
   {
    "duration": 10,
    "start_time": "2022-02-16T11:20:59.385Z"
   },
   {
    "duration": 8,
    "start_time": "2022-02-16T11:20:59.525Z"
   },
   {
    "duration": 10,
    "start_time": "2022-02-16T11:20:59.665Z"
   },
   {
    "duration": 551,
    "start_time": "2022-02-16T11:20:59.795Z"
   },
   {
    "duration": 2328,
    "start_time": "2022-02-16T11:21:00.349Z"
   },
   {
    "duration": 18,
    "start_time": "2022-02-16T11:21:03.236Z"
   },
   {
    "duration": 6,
    "start_time": "2022-02-16T11:21:03.745Z"
   },
   {
    "duration": 7,
    "start_time": "2022-02-16T11:21:04.255Z"
   },
   {
    "duration": 19,
    "start_time": "2022-02-16T11:21:04.696Z"
   },
   {
    "duration": 6,
    "start_time": "2022-02-16T11:57:49.120Z"
   },
   {
    "duration": 878,
    "start_time": "2022-02-16T11:57:49.880Z"
   },
   {
    "duration": 2103,
    "start_time": "2022-02-16T11:59:00.301Z"
   },
   {
    "duration": 90,
    "start_time": "2022-02-16T11:59:38.780Z"
   },
   {
    "duration": 90,
    "start_time": "2022-02-16T11:59:42.720Z"
   },
   {
    "duration": 481,
    "start_time": "2022-02-16T12:00:01.001Z"
   },
   {
    "duration": 599,
    "start_time": "2022-02-16T12:01:17.094Z"
   },
   {
    "duration": 4,
    "start_time": "2022-02-16T12:01:24.381Z"
   },
   {
    "duration": 6,
    "start_time": "2022-02-16T12:01:25.912Z"
   },
   {
    "duration": 5,
    "start_time": "2022-02-16T12:02:07.192Z"
   },
   {
    "duration": 6,
    "start_time": "2022-02-16T12:02:16.963Z"
   },
   {
    "duration": 8,
    "start_time": "2022-02-16T12:03:18.502Z"
   },
   {
    "duration": 4,
    "start_time": "2022-02-16T12:03:33.635Z"
   },
   {
    "duration": 663,
    "start_time": "2022-02-16T12:03:52.842Z"
   },
   {
    "duration": 352,
    "start_time": "2022-02-16T12:04:56.963Z"
   },
   {
    "duration": 420,
    "start_time": "2022-02-16T12:04:57.954Z"
   },
   {
    "duration": 1621,
    "start_time": "2022-02-16T12:05:15.771Z"
   },
   {
    "duration": 3,
    "start_time": "2022-02-16T12:05:17.395Z"
   },
   {
    "duration": 127,
    "start_time": "2022-02-16T12:05:17.401Z"
   },
   {
    "duration": 24,
    "start_time": "2022-02-16T12:05:17.532Z"
   },
   {
    "duration": 13,
    "start_time": "2022-02-16T12:05:17.559Z"
   },
   {
    "duration": 567,
    "start_time": "2022-02-16T12:05:17.574Z"
   },
   {
    "duration": 2736,
    "start_time": "2022-02-16T12:05:18.143Z"
   },
   {
    "duration": 7,
    "start_time": "2022-02-16T12:05:20.885Z"
   },
   {
    "duration": 335,
    "start_time": "2022-02-16T12:05:20.894Z"
   },
   {
    "duration": 4,
    "start_time": "2022-02-16T12:05:21.232Z"
   },
   {
    "duration": 37108,
    "start_time": "2022-02-16T12:05:21.238Z"
   },
   {
    "duration": 7,
    "start_time": "2022-02-16T12:05:58.349Z"
   },
   {
    "duration": 541,
    "start_time": "2022-02-16T12:05:58.358Z"
   },
   {
    "duration": 7734,
    "start_time": "2022-02-16T12:05:51.169Z"
   },
   {
    "duration": 7732,
    "start_time": "2022-02-16T12:05:51.173Z"
   },
   {
    "duration": 7731,
    "start_time": "2022-02-16T12:05:51.176Z"
   },
   {
    "duration": 7731,
    "start_time": "2022-02-16T12:05:51.178Z"
   },
   {
    "duration": 7730,
    "start_time": "2022-02-16T12:05:51.181Z"
   },
   {
    "duration": 5,
    "start_time": "2022-02-16T12:06:12.372Z"
   },
   {
    "duration": 371,
    "start_time": "2022-02-16T12:06:13.182Z"
   },
   {
    "duration": 6,
    "start_time": "2022-02-16T12:06:13.621Z"
   },
   {
    "duration": 6,
    "start_time": "2022-02-16T12:06:21.965Z"
   },
   {
    "duration": 6,
    "start_time": "2022-02-16T12:06:21.974Z"
   },
   {
    "duration": 92,
    "start_time": "2022-02-16T12:06:21.983Z"
   },
   {
    "duration": 15,
    "start_time": "2022-02-16T12:06:22.078Z"
   },
   {
    "duration": 14,
    "start_time": "2022-02-16T12:06:22.096Z"
   },
   {
    "duration": 633,
    "start_time": "2022-02-16T12:06:22.113Z"
   },
   {
    "duration": 1991,
    "start_time": "2022-02-16T12:06:22.749Z"
   },
   {
    "duration": 5,
    "start_time": "2022-02-16T12:06:24.744Z"
   },
   {
    "duration": 6,
    "start_time": "2022-02-16T12:06:24.752Z"
   },
   {
    "duration": 8,
    "start_time": "2022-02-16T12:06:24.761Z"
   },
   {
    "duration": 50,
    "start_time": "2022-02-16T12:06:24.772Z"
   },
   {
    "duration": 84,
    "start_time": "2022-02-16T12:06:24.828Z"
   },
   {
    "duration": 412,
    "start_time": "2022-02-16T12:06:24.915Z"
   },
   {
    "duration": 7733,
    "start_time": "2022-02-16T12:06:17.596Z"
   },
   {
    "duration": 7727,
    "start_time": "2022-02-16T12:06:17.604Z"
   },
   {
    "duration": 7723,
    "start_time": "2022-02-16T12:06:17.609Z"
   },
   {
    "duration": 7722,
    "start_time": "2022-02-16T12:06:17.612Z"
   },
   {
    "duration": 7721,
    "start_time": "2022-02-16T12:06:17.614Z"
   },
   {
    "duration": 6,
    "start_time": "2022-02-16T12:08:40.618Z"
   },
   {
    "duration": 28,
    "start_time": "2022-02-16T12:08:40.627Z"
   },
   {
    "duration": 86,
    "start_time": "2022-02-16T12:08:40.660Z"
   },
   {
    "duration": 14,
    "start_time": "2022-02-16T12:08:40.749Z"
   },
   {
    "duration": 22,
    "start_time": "2022-02-16T12:08:40.766Z"
   },
   {
    "duration": 654,
    "start_time": "2022-02-16T12:08:40.791Z"
   },
   {
    "duration": 1937,
    "start_time": "2022-02-16T12:08:41.448Z"
   },
   {
    "duration": 25,
    "start_time": "2022-02-16T12:08:43.388Z"
   },
   {
    "duration": 5,
    "start_time": "2022-02-16T12:08:43.417Z"
   },
   {
    "duration": 7,
    "start_time": "2022-02-16T12:08:43.424Z"
   },
   {
    "duration": 13,
    "start_time": "2022-02-16T12:08:43.434Z"
   },
   {
    "duration": 5,
    "start_time": "2022-02-16T12:08:43.511Z"
   },
   {
    "duration": 92,
    "start_time": "2022-02-16T12:08:43.519Z"
   },
   {
    "duration": 7,
    "start_time": "2022-02-16T12:08:43.613Z"
   },
   {
    "duration": 7,
    "start_time": "2022-02-16T12:08:43.622Z"
   },
   {
    "duration": 8,
    "start_time": "2022-02-16T12:08:43.632Z"
   },
   {
    "duration": 76,
    "start_time": "2022-02-16T12:08:43.643Z"
   },
   {
    "duration": 92,
    "start_time": "2022-02-16T12:08:43.722Z"
   },
   {
    "duration": 3,
    "start_time": "2022-02-16T12:12:28.266Z"
   },
   {
    "duration": 7,
    "start_time": "2022-02-16T12:13:10.233Z"
   },
   {
    "duration": 6,
    "start_time": "2022-02-16T12:13:11.595Z"
   },
   {
    "duration": 5,
    "start_time": "2022-02-16T12:13:12.245Z"
   },
   {
    "duration": 6,
    "start_time": "2022-02-16T12:13:12.805Z"
   },
   {
    "duration": 4,
    "start_time": "2022-02-16T12:13:13.356Z"
   },
   {
    "duration": 7,
    "start_time": "2022-02-16T12:13:13.985Z"
   },
   {
    "duration": 2127,
    "start_time": "2022-02-16T12:13:38.096Z"
   },
   {
    "duration": 3,
    "start_time": "2022-02-16T12:13:40.226Z"
   },
   {
    "duration": 114,
    "start_time": "2022-02-16T12:13:40.232Z"
   },
   {
    "duration": 19,
    "start_time": "2022-02-16T12:13:40.349Z"
   },
   {
    "duration": 19,
    "start_time": "2022-02-16T12:13:40.370Z"
   },
   {
    "duration": 561,
    "start_time": "2022-02-16T12:13:40.392Z"
   },
   {
    "duration": 1929,
    "start_time": "2022-02-16T12:13:40.955Z"
   },
   {
    "duration": 27,
    "start_time": "2022-02-16T12:13:42.888Z"
   },
   {
    "duration": 5,
    "start_time": "2022-02-16T12:13:42.919Z"
   },
   {
    "duration": 5,
    "start_time": "2022-02-16T12:13:42.927Z"
   },
   {
    "duration": 10,
    "start_time": "2022-02-16T12:13:42.935Z"
   },
   {
    "duration": 62,
    "start_time": "2022-02-16T12:13:42.949Z"
   },
   {
    "duration": 6,
    "start_time": "2022-02-16T12:13:43.017Z"
   },
   {
    "duration": 88,
    "start_time": "2022-02-16T12:13:43.026Z"
   },
   {
    "duration": 9,
    "start_time": "2022-02-16T12:13:43.117Z"
   },
   {
    "duration": 7,
    "start_time": "2022-02-16T12:13:43.128Z"
   },
   {
    "duration": 75,
    "start_time": "2022-02-16T12:13:43.138Z"
   },
   {
    "duration": 4,
    "start_time": "2022-02-16T12:13:43.217Z"
   },
   {
    "duration": 88,
    "start_time": "2022-02-16T12:13:43.225Z"
   },
   {
    "duration": 7,
    "start_time": "2022-02-16T12:13:43.316Z"
   },
   {
    "duration": 7,
    "start_time": "2022-02-16T12:13:43.325Z"
   },
   {
    "duration": 5,
    "start_time": "2022-02-16T12:13:43.335Z"
   },
   {
    "duration": 6,
    "start_time": "2022-02-16T12:13:43.345Z"
   },
   {
    "duration": 8,
    "start_time": "2022-02-16T12:13:43.413Z"
   },
   {
    "duration": 7,
    "start_time": "2022-02-16T12:13:43.510Z"
   },
   {
    "duration": 12,
    "start_time": "2022-02-16T12:15:53.307Z"
   },
   {
    "duration": 7,
    "start_time": "2022-02-16T12:15:53.706Z"
   },
   {
    "duration": 9,
    "start_time": "2022-02-16T12:15:54.036Z"
   },
   {
    "duration": 14,
    "start_time": "2022-02-16T12:15:54.376Z"
   },
   {
    "duration": 6,
    "start_time": "2022-02-16T12:15:54.696Z"
   },
   {
    "duration": 7,
    "start_time": "2022-02-16T12:15:55.016Z"
   },
   {
    "duration": 6,
    "start_time": "2022-02-16T12:16:23.910Z"
   },
   {
    "duration": 1115,
    "start_time": "2022-02-16T12:16:38.777Z"
   },
   {
    "duration": 9,
    "start_time": "2022-02-16T12:16:52.928Z"
   },
   {
    "duration": 6,
    "start_time": "2022-02-16T12:17:19.007Z"
   },
   {
    "duration": 1997,
    "start_time": "2022-02-16T12:17:42.882Z"
   },
   {
    "duration": 4,
    "start_time": "2022-02-16T12:17:44.882Z"
   },
   {
    "duration": 99,
    "start_time": "2022-02-16T12:17:44.889Z"
   },
   {
    "duration": 20,
    "start_time": "2022-02-16T12:17:44.990Z"
   },
   {
    "duration": 14,
    "start_time": "2022-02-16T12:17:45.013Z"
   },
   {
    "duration": 627,
    "start_time": "2022-02-16T12:17:45.030Z"
   },
   {
    "duration": 1875,
    "start_time": "2022-02-16T12:17:45.659Z"
   },
   {
    "duration": 13,
    "start_time": "2022-02-16T12:17:47.539Z"
   },
   {
    "duration": 5,
    "start_time": "2022-02-16T12:17:47.555Z"
   },
   {
    "duration": 7,
    "start_time": "2022-02-16T12:17:47.563Z"
   },
   {
    "duration": 59,
    "start_time": "2022-02-16T12:17:47.572Z"
   },
   {
    "duration": 84,
    "start_time": "2022-02-16T12:17:47.635Z"
   },
   {
    "duration": 11,
    "start_time": "2022-02-16T12:17:47.722Z"
   },
   {
    "duration": 13,
    "start_time": "2022-02-16T12:17:47.737Z"
   },
   {
    "duration": 10,
    "start_time": "2022-02-16T12:17:47.753Z"
   },
   {
    "duration": 9,
    "start_time": "2022-02-16T12:17:47.765Z"
   },
   {
    "duration": 41,
    "start_time": "2022-02-16T12:17:47.776Z"
   },
   {
    "duration": 103,
    "start_time": "2022-02-16T12:17:47.820Z"
   },
   {
    "duration": 24,
    "start_time": "2022-02-16T12:17:47.926Z"
   },
   {
    "duration": 14,
    "start_time": "2022-02-16T12:17:47.953Z"
   },
   {
    "duration": 48,
    "start_time": "2022-02-16T12:17:47.970Z"
   },
   {
    "duration": 12,
    "start_time": "2022-02-16T12:17:48.021Z"
   },
   {
    "duration": 16,
    "start_time": "2022-02-16T12:17:48.039Z"
   },
   {
    "duration": 159,
    "start_time": "2022-02-16T12:17:48.058Z"
   },
   {
    "duration": 18,
    "start_time": "2022-02-16T12:17:48.220Z"
   },
   {
    "duration": 7,
    "start_time": "2022-02-16T12:17:48.241Z"
   },
   {
    "duration": 3,
    "start_time": "2022-02-16T12:26:52.443Z"
   },
   {
    "duration": 566,
    "start_time": "2022-02-16T12:29:44.773Z"
   },
   {
    "duration": 1879,
    "start_time": "2022-02-16T12:31:35.515Z"
   },
   {
    "duration": 1953,
    "start_time": "2022-02-16T12:35:25.485Z"
   },
   {
    "duration": 4,
    "start_time": "2022-02-16T12:35:27.441Z"
   },
   {
    "duration": 134,
    "start_time": "2022-02-16T12:35:27.448Z"
   },
   {
    "duration": 19,
    "start_time": "2022-02-16T12:35:27.584Z"
   },
   {
    "duration": 15,
    "start_time": "2022-02-16T12:35:27.605Z"
   },
   {
    "duration": 658,
    "start_time": "2022-02-16T12:35:27.623Z"
   },
   {
    "duration": 2167,
    "start_time": "2022-02-16T12:35:28.284Z"
   },
   {
    "duration": 13,
    "start_time": "2022-02-16T12:35:30.455Z"
   },
   {
    "duration": 10,
    "start_time": "2022-02-16T12:35:30.472Z"
   },
   {
    "duration": 27,
    "start_time": "2022-02-16T12:35:30.485Z"
   },
   {
    "duration": 15,
    "start_time": "2022-02-16T12:35:30.516Z"
   },
   {
    "duration": 84,
    "start_time": "2022-02-16T12:35:30.533Z"
   },
   {
    "duration": 13,
    "start_time": "2022-02-16T12:35:30.620Z"
   },
   {
    "duration": 6,
    "start_time": "2022-02-16T12:35:30.712Z"
   },
   {
    "duration": 12,
    "start_time": "2022-02-16T12:35:30.721Z"
   },
   {
    "duration": 9,
    "start_time": "2022-02-16T12:35:30.735Z"
   },
   {
    "duration": 10,
    "start_time": "2022-02-16T12:35:30.747Z"
   },
   {
    "duration": 60,
    "start_time": "2022-02-16T12:35:30.761Z"
   },
   {
    "duration": 91,
    "start_time": "2022-02-16T12:35:30.824Z"
   },
   {
    "duration": 9,
    "start_time": "2022-02-16T12:35:30.918Z"
   },
   {
    "duration": 10,
    "start_time": "2022-02-16T12:35:30.930Z"
   },
   {
    "duration": 10,
    "start_time": "2022-02-16T12:35:30.942Z"
   },
   {
    "duration": 54,
    "start_time": "2022-02-16T12:35:30.957Z"
   },
   {
    "duration": 6,
    "start_time": "2022-02-16T12:35:31.014Z"
   },
   {
    "duration": 105,
    "start_time": "2022-02-16T12:35:31.023Z"
   },
   {
    "duration": 29,
    "start_time": "2022-02-16T12:35:31.131Z"
   },
   {
    "duration": 3,
    "start_time": "2022-02-16T12:43:19.104Z"
   },
   {
    "duration": 24914,
    "start_time": "2022-02-16T12:44:23.830Z"
   },
   {
    "duration": 6,
    "start_time": "2022-02-16T12:45:33.111Z"
   },
   {
    "duration": 24524,
    "start_time": "2022-02-16T12:47:19.622Z"
   },
   {
    "duration": 25212,
    "start_time": "2022-02-16T12:47:44.149Z"
   },
   {
    "duration": 5,
    "start_time": "2022-02-16T12:48:09.364Z"
   },
   {
    "duration": 6,
    "start_time": "2022-02-16T12:48:45.182Z"
   },
   {
    "duration": 9,
    "start_time": "2022-02-16T12:49:05.893Z"
   },
   {
    "duration": 1675,
    "start_time": "2022-02-16T13:05:43.863Z"
   },
   {
    "duration": 5,
    "start_time": "2022-02-16T13:05:45.542Z"
   },
   {
    "duration": 95,
    "start_time": "2022-02-16T13:05:45.551Z"
   },
   {
    "duration": 20,
    "start_time": "2022-02-16T13:05:45.648Z"
   },
   {
    "duration": 11,
    "start_time": "2022-02-16T13:05:45.671Z"
   },
   {
    "duration": 562,
    "start_time": "2022-02-16T13:05:45.685Z"
   },
   {
    "duration": 2194,
    "start_time": "2022-02-16T13:05:46.249Z"
   },
   {
    "duration": 18,
    "start_time": "2022-02-16T13:05:48.449Z"
   },
   {
    "duration": 7,
    "start_time": "2022-02-16T13:05:48.471Z"
   },
   {
    "duration": 30,
    "start_time": "2022-02-16T13:05:48.481Z"
   },
   {
    "duration": 16,
    "start_time": "2022-02-16T13:05:48.514Z"
   },
   {
    "duration": 79,
    "start_time": "2022-02-16T13:05:48.534Z"
   },
   {
    "duration": 6,
    "start_time": "2022-02-16T13:05:48.616Z"
   },
   {
    "duration": 86,
    "start_time": "2022-02-16T13:05:48.625Z"
   },
   {
    "duration": 7,
    "start_time": "2022-02-16T13:05:48.713Z"
   },
   {
    "duration": 7,
    "start_time": "2022-02-16T13:05:48.722Z"
   },
   {
    "duration": 9,
    "start_time": "2022-02-16T13:05:48.731Z"
   },
   {
    "duration": 74,
    "start_time": "2022-02-16T13:05:48.743Z"
   },
   {
    "duration": 104,
    "start_time": "2022-02-16T13:05:48.821Z"
   },
   {
    "duration": 7,
    "start_time": "2022-02-16T13:05:48.928Z"
   },
   {
    "duration": 6,
    "start_time": "2022-02-16T13:05:48.937Z"
   },
   {
    "duration": 5,
    "start_time": "2022-02-16T13:05:48.945Z"
   },
   {
    "duration": 54,
    "start_time": "2022-02-16T13:05:48.957Z"
   },
   {
    "duration": 6,
    "start_time": "2022-02-16T13:05:49.016Z"
   },
   {
    "duration": 8,
    "start_time": "2022-02-16T13:05:49.110Z"
   },
   {
    "duration": 5,
    "start_time": "2022-02-16T13:05:49.120Z"
   },
   {
    "duration": 20305,
    "start_time": "2022-02-16T13:05:49.128Z"
   },
   {
    "duration": 5,
    "start_time": "2022-02-16T13:06:09.435Z"
   },
   {
    "duration": 21915,
    "start_time": "2022-02-16T13:06:09.442Z"
   },
   {
    "duration": 6,
    "start_time": "2022-02-16T13:06:31.361Z"
   },
   {
    "duration": 1161,
    "start_time": "2022-02-16T13:33:31.994Z"
   },
   {
    "duration": 3,
    "start_time": "2022-02-16T13:33:33.157Z"
   },
   {
    "duration": 141,
    "start_time": "2022-02-16T13:33:33.162Z"
   },
   {
    "duration": 16,
    "start_time": "2022-02-16T13:33:33.304Z"
   },
   {
    "duration": 6,
    "start_time": "2022-02-16T13:33:33.322Z"
   },
   {
    "duration": 363,
    "start_time": "2022-02-16T13:33:34.122Z"
   },
   {
    "duration": 979,
    "start_time": "2022-02-16T13:33:37.256Z"
   },
   {
    "duration": 8,
    "start_time": "2022-02-16T13:36:51.857Z"
   },
   {
    "duration": 4,
    "start_time": "2022-02-16T13:36:52.713Z"
   },
   {
    "duration": 2,
    "start_time": "2022-02-16T13:36:53.499Z"
   },
   {
    "duration": 5,
    "start_time": "2022-02-16T13:36:53.874Z"
   },
   {
    "duration": 4,
    "start_time": "2022-02-16T13:36:56.797Z"
   },
   {
    "duration": 3,
    "start_time": "2022-02-16T13:37:48.117Z"
   },
   {
    "duration": 4,
    "start_time": "2022-02-16T13:37:48.632Z"
   },
   {
    "duration": 4,
    "start_time": "2022-02-16T13:37:48.805Z"
   },
   {
    "duration": 2,
    "start_time": "2022-02-16T13:37:48.989Z"
   },
   {
    "duration": 3,
    "start_time": "2022-02-16T13:37:49.141Z"
   },
   {
    "duration": 2,
    "start_time": "2022-02-16T13:37:49.523Z"
   },
   {
    "duration": 5,
    "start_time": "2022-02-16T13:37:49.943Z"
   },
   {
    "duration": 5,
    "start_time": "2022-02-16T13:37:50.636Z"
   },
   {
    "duration": 4,
    "start_time": "2022-02-16T13:37:51.004Z"
   },
   {
    "duration": 2,
    "start_time": "2022-02-16T13:37:51.176Z"
   },
   {
    "duration": 4,
    "start_time": "2022-02-16T13:37:51.811Z"
   },
   {
    "duration": 7,
    "start_time": "2022-02-16T13:37:52.178Z"
   },
   {
    "duration": 5,
    "start_time": "2022-02-16T13:37:52.575Z"
   },
   {
    "duration": 3,
    "start_time": "2022-02-16T13:37:53.013Z"
   },
   {
    "duration": 13930,
    "start_time": "2022-02-16T13:37:59.285Z"
   },
   {
    "duration": 3,
    "start_time": "2022-02-16T13:38:13.217Z"
   },
   {
    "duration": 14159,
    "start_time": "2022-02-16T13:38:13.222Z"
   },
   {
    "duration": 4,
    "start_time": "2022-02-16T13:38:27.383Z"
   }
  ],
  "kernelspec": {
   "display_name": "Python 3",
   "language": "python",
   "name": "python3"
  },
  "language_info": {
   "codemirror_mode": {
    "name": "ipython",
    "version": 3
   },
   "file_extension": ".py",
   "mimetype": "text/x-python",
   "name": "python",
   "nbconvert_exporter": "python",
   "pygments_lexer": "ipython3",
   "version": "3.8.8"
  },
  "toc": {
   "base_numbering": 1,
   "nav_menu": {},
   "number_sections": true,
   "sideBar": true,
   "skip_h1_title": true,
   "title_cell": "Содержание",
   "title_sidebar": "Contents",
   "toc_cell": true,
   "toc_position": {},
   "toc_section_display": true,
   "toc_window_display": false
  }
 },
 "nbformat": 4,
 "nbformat_minor": 4
}
